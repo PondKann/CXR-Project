{
  "nbformat": 4,
  "nbformat_minor": 0,
  "metadata": {
    "colab": {
      "name": "densnet500-600.ipynb",
      "provenance": [],
      "authorship_tag": "ABX9TyNdrBNs4CITuipjQRf4E8t0",
      "include_colab_link": true
    },
    "kernelspec": {
      "name": "python3",
      "display_name": "Python 3"
    },
    "language_info": {
      "name": "python"
    }
  },
  "cells": [
    {
      "cell_type": "markdown",
      "metadata": {
        "id": "view-in-github",
        "colab_type": "text"
      },
      "source": [
        "<a href=\"https://colab.research.google.com/github/PondKann/CXR-Project/blob/main/densnet500_600.ipynb\" target=\"_parent\"><img src=\"https://colab.research.google.com/assets/colab-badge.svg\" alt=\"Open In Colab\"/></a>"
      ]
    },
    {
      "cell_type": "code",
      "execution_count": null,
      "metadata": {
        "id": "bkHRULzRELz2"
      },
      "outputs": [],
      "source": [
        ""
      ]
    },
    {
      "cell_type": "code",
      "metadata": {
        "id": "Psng6eJUdzUG"
      },
      "source": [
        "import os\n",
        "import tensorflow as tf\n",
        "import matplotlib.pyplot as plt\n",
        "%matplotlib inline\n",
        "from tensorflow.keras.preprocessing.image import ImageDataGenerator\n",
        "import cv2\n",
        "import numpy as np\n",
        "import pandas as pd\n",
        "from torchsummary import summary\n",
        "from skimage.io import imread, imsave\n",
        "from tqdm import tqdm\n",
        "\n",
        "from sklearn.model_selection import train_test_split\n",
        "from sklearn.metrics import accuracy_score, confusion_matrix"
      ],
      "execution_count": 1,
      "outputs": []
    },
    {
      "cell_type": "code",
      "source": [
        "# set the matplotlib backend so figures can be saved in the background\n",
        "import matplotlib\n",
        "matplotlib.use(\"Agg\")\n",
        "\n",
        "from sklearn.preprocessing import LabelEncoder\n",
        "from sklearn.metrics import classification_report\n",
        "from tensorflow.keras.optimizers import SGD\n",
        "from tensorflow.keras.utils import to_categorical\n",
        "from imutils import paths\n",
        "import argparse\n",
        "\n",
        "from sklearn.model_selection import KFold\n",
        "from sklearn import metrics\n",
        "from scipy.stats import zscore"
      ],
      "metadata": {
        "id": "6f-PDKiLl2iC"
      },
      "execution_count": 2,
      "outputs": []
    },
    {
      "cell_type": "code",
      "source": [
        "import pickle\n",
        "import joblib"
      ],
      "metadata": {
        "id": "KywT8U_h4Bmb"
      },
      "execution_count": 3,
      "outputs": []
    },
    {
      "cell_type": "markdown",
      "source": [
        "######Load data 1"
      ],
      "metadata": {
        "id": "Z1e52UqdwPp8"
      }
    },
    {
      "cell_type": "code",
      "metadata": {
        "colab": {
          "base_uri": "https://localhost:8080/"
        },
        "id": "DlcukkP7fnhB",
        "outputId": "98fb3947-7847-415f-c11e-8330f30608a9"
      },
      "source": [
        "from google.colab import drive\n",
        "drive.mount('/content/drive')"
      ],
      "execution_count": 4,
      "outputs": [
        {
          "output_type": "stream",
          "name": "stdout",
          "text": [
            "Mounted at /content/drive\n"
          ]
        }
      ]
    },
    {
      "cell_type": "code",
      "metadata": {
        "id": "0w8suy5ofqx_"
      },
      "source": [
        "data_dir = '/content/drive/My Drive/CXRimages3class/CXRimages3class'"
      ],
      "execution_count": 5,
      "outputs": []
    },
    {
      "cell_type": "markdown",
      "source": [
        "train 3 class"
      ],
      "metadata": {
        "id": "xhqPQxA42jeC"
      }
    },
    {
      "cell_type": "code",
      "source": [
        "Normal151_dir = os.path.join(data_dir,'Normal151')\n",
        "TB150_dir = os.path.join(data_dir,'TB150')\n",
        "CA150_dir = os.path.join(data_dir,'CA150')\n",
        "\n",
        "All_3class_dir = os.path.join(data_dir,'All_3class')"
      ],
      "metadata": {
        "id": "-Jrg5mt_RvJT"
      },
      "execution_count": 6,
      "outputs": []
    },
    {
      "cell_type": "code",
      "source": [
        ""
      ],
      "metadata": {
        "id": "oYMXSvICALfG"
      },
      "execution_count": null,
      "outputs": []
    },
    {
      "cell_type": "markdown",
      "source": [
        "######Load data 2"
      ],
      "metadata": {
        "id": "udl0zY8hAONG"
      }
    },
    {
      "cell_type": "code",
      "metadata": {
        "colab": {
          "base_uri": "https://localhost:8080/"
        },
        "outputId": "a2686ec4-3875-410f-9fba-db9009f3f119",
        "id": "CZD0IvKyAONH"
      },
      "source": [
        "from google.colab import drive\n",
        "drive.mount('/content/drive')"
      ],
      "execution_count": null,
      "outputs": [
        {
          "output_type": "stream",
          "name": "stdout",
          "text": [
            "Mounted at /content/drive\n"
          ]
        }
      ]
    },
    {
      "cell_type": "code",
      "metadata": {
        "id": "VTByVBBEAONI"
      },
      "source": [
        "data_dir = '/content/drive/My Drive/Senior Project/CXR Image3class'"
      ],
      "execution_count": null,
      "outputs": []
    },
    {
      "cell_type": "markdown",
      "source": [
        "train 3 class"
      ],
      "metadata": {
        "id": "ySK4zn_OAONI"
      }
    },
    {
      "cell_type": "code",
      "source": [
        "Normal151_dir = os.path.join(data_dir,'Normal151')\n",
        "TB150_dir = os.path.join(data_dir,'TB150')\n",
        "CA150_dir = os.path.join(data_dir,'CA150')\n",
        "\n",
        "All_3class_dir = os.path.join(data_dir,'All_3class')"
      ],
      "metadata": {
        "id": "yWVr9yKtAONI"
      },
      "execution_count": null,
      "outputs": []
    },
    {
      "cell_type": "markdown",
      "source": [
        "#### train 3 class  --- สร้างตารางเก็บ ชื่อภาพ และชื่อคลาส\n",
        "ข้อมูลใน All_3class_dir รวมภาพทั้ง 3 คลาส รวม 451 ภาพ TB150, Normal151 และ CA150 (CA คือ lungcancer)"
      ],
      "metadata": {
        "id": "YFVxlpQZf5pU"
      }
    },
    {
      "cell_type": "code",
      "source": [
        "Normal151_dir = os.path.join(data_dir,'Normal151')\n",
        "TB150_dir = os.path.join(data_dir,'TB150')\n",
        "CA150_dir = os.path.join(data_dir,'CA150')\n",
        "\n",
        "All_3class_dir = os.path.join(data_dir,'All_3class')"
      ],
      "metadata": {
        "id": "8BHyN8YKpwx9"
      },
      "execution_count": 7,
      "outputs": []
    },
    {
      "cell_type": "code",
      "source": [
        "normal = []\n",
        "for i in range(len(os.listdir(Normal151_dir))):\n",
        "    img = os.listdir(Normal151_dir)[i]\n",
        "    normal.append(img)\n",
        "    \n",
        "tnormal = pd.DataFrame({'ImageName':[normal][0],\n",
        "                                       'NameType': \"Normal\" ,\n",
        "                                       'NumberType': 0                      })"
      ],
      "metadata": {
        "id": "mT0QF8IgrfVm"
      },
      "execution_count": 8,
      "outputs": []
    },
    {
      "cell_type": "code",
      "source": [
        "tuberculosis = []\n",
        "for i in range(len(os.listdir(TB150_dir))):\n",
        "    img = os.listdir(TB150_dir)[i]\n",
        "    tuberculosis.append(img)\n",
        "\n",
        "ttuberculosis = pd.DataFrame({'ImageName':[tuberculosis][0],\n",
        "                                       'NameType': \"Tuberculosis\" ,\n",
        "                                       'NumberType': 1                        })"
      ],
      "metadata": {
        "id": "VtNPg0jwf5pW"
      },
      "execution_count": 9,
      "outputs": []
    },
    {
      "cell_type": "code",
      "source": [
        "lungcancer = []\n",
        "for i in range(len(os.listdir(CA150_dir))):\n",
        "    img = os.listdir(CA150_dir)[i]\n",
        "    lungcancer.append(img)\n",
        "\n",
        "tlungcancer = pd.DataFrame({'ImageName':[lungcancer][0],\n",
        "                                       'NameType': \"Lungcancer\" ,\n",
        "                                       'NumberType': 2                        })"
      ],
      "metadata": {
        "id": "X5pyCUl5mJGV"
      },
      "execution_count": 10,
      "outputs": []
    },
    {
      "cell_type": "code",
      "source": [
        "data_train3 = pd.concat([tnormal, ttuberculosis, tlungcancer])\n",
        "data_train3[-3:]"
      ],
      "metadata": {
        "id": "bgArCw5jnwg2",
        "outputId": "0be9ecdd-2bce-490f-fc00-8c09664d4d77",
        "colab": {
          "base_uri": "https://localhost:8080/",
          "height": 0
        }
      },
      "execution_count": 11,
      "outputs": [
        {
          "output_type": "execute_result",
          "data": {
            "text/html": [
              "\n",
              "  <div id=\"df-f03bafbb-b18e-4e4e-b1ba-256274b2c939\">\n",
              "    <div class=\"colab-df-container\">\n",
              "      <div>\n",
              "<style scoped>\n",
              "    .dataframe tbody tr th:only-of-type {\n",
              "        vertical-align: middle;\n",
              "    }\n",
              "\n",
              "    .dataframe tbody tr th {\n",
              "        vertical-align: top;\n",
              "    }\n",
              "\n",
              "    .dataframe thead th {\n",
              "        text-align: right;\n",
              "    }\n",
              "</style>\n",
              "<table border=\"1\" class=\"dataframe\">\n",
              "  <thead>\n",
              "    <tr style=\"text-align: right;\">\n",
              "      <th></th>\n",
              "      <th>ImageName</th>\n",
              "      <th>NameType</th>\n",
              "      <th>NumberType</th>\n",
              "    </tr>\n",
              "  </thead>\n",
              "  <tbody>\n",
              "    <tr>\n",
              "      <th>147</th>\n",
              "      <td>ca26.jpg</td>\n",
              "      <td>Lungcancer</td>\n",
              "      <td>2</td>\n",
              "    </tr>\n",
              "    <tr>\n",
              "      <th>148</th>\n",
              "      <td>ca7.jpg</td>\n",
              "      <td>Lungcancer</td>\n",
              "      <td>2</td>\n",
              "    </tr>\n",
              "    <tr>\n",
              "      <th>149</th>\n",
              "      <td>ca8.jpg</td>\n",
              "      <td>Lungcancer</td>\n",
              "      <td>2</td>\n",
              "    </tr>\n",
              "  </tbody>\n",
              "</table>\n",
              "</div>\n",
              "      <button class=\"colab-df-convert\" onclick=\"convertToInteractive('df-f03bafbb-b18e-4e4e-b1ba-256274b2c939')\"\n",
              "              title=\"Convert this dataframe to an interactive table.\"\n",
              "              style=\"display:none;\">\n",
              "        \n",
              "  <svg xmlns=\"http://www.w3.org/2000/svg\" height=\"24px\"viewBox=\"0 0 24 24\"\n",
              "       width=\"24px\">\n",
              "    <path d=\"M0 0h24v24H0V0z\" fill=\"none\"/>\n",
              "    <path d=\"M18.56 5.44l.94 2.06.94-2.06 2.06-.94-2.06-.94-.94-2.06-.94 2.06-2.06.94zm-11 1L8.5 8.5l.94-2.06 2.06-.94-2.06-.94L8.5 2.5l-.94 2.06-2.06.94zm10 10l.94 2.06.94-2.06 2.06-.94-2.06-.94-.94-2.06-.94 2.06-2.06.94z\"/><path d=\"M17.41 7.96l-1.37-1.37c-.4-.4-.92-.59-1.43-.59-.52 0-1.04.2-1.43.59L10.3 9.45l-7.72 7.72c-.78.78-.78 2.05 0 2.83L4 21.41c.39.39.9.59 1.41.59.51 0 1.02-.2 1.41-.59l7.78-7.78 2.81-2.81c.8-.78.8-2.07 0-2.86zM5.41 20L4 18.59l7.72-7.72 1.47 1.35L5.41 20z\"/>\n",
              "  </svg>\n",
              "      </button>\n",
              "      \n",
              "  <style>\n",
              "    .colab-df-container {\n",
              "      display:flex;\n",
              "      flex-wrap:wrap;\n",
              "      gap: 12px;\n",
              "    }\n",
              "\n",
              "    .colab-df-convert {\n",
              "      background-color: #E8F0FE;\n",
              "      border: none;\n",
              "      border-radius: 50%;\n",
              "      cursor: pointer;\n",
              "      display: none;\n",
              "      fill: #1967D2;\n",
              "      height: 32px;\n",
              "      padding: 0 0 0 0;\n",
              "      width: 32px;\n",
              "    }\n",
              "\n",
              "    .colab-df-convert:hover {\n",
              "      background-color: #E2EBFA;\n",
              "      box-shadow: 0px 1px 2px rgba(60, 64, 67, 0.3), 0px 1px 3px 1px rgba(60, 64, 67, 0.15);\n",
              "      fill: #174EA6;\n",
              "    }\n",
              "\n",
              "    [theme=dark] .colab-df-convert {\n",
              "      background-color: #3B4455;\n",
              "      fill: #D2E3FC;\n",
              "    }\n",
              "\n",
              "    [theme=dark] .colab-df-convert:hover {\n",
              "      background-color: #434B5C;\n",
              "      box-shadow: 0px 1px 3px 1px rgba(0, 0, 0, 0.15);\n",
              "      filter: drop-shadow(0px 1px 2px rgba(0, 0, 0, 0.3));\n",
              "      fill: #FFFFFF;\n",
              "    }\n",
              "  </style>\n",
              "\n",
              "      <script>\n",
              "        const buttonEl =\n",
              "          document.querySelector('#df-f03bafbb-b18e-4e4e-b1ba-256274b2c939 button.colab-df-convert');\n",
              "        buttonEl.style.display =\n",
              "          google.colab.kernel.accessAllowed ? 'block' : 'none';\n",
              "\n",
              "        async function convertToInteractive(key) {\n",
              "          const element = document.querySelector('#df-f03bafbb-b18e-4e4e-b1ba-256274b2c939');\n",
              "          const dataTable =\n",
              "            await google.colab.kernel.invokeFunction('convertToInteractive',\n",
              "                                                     [key], {});\n",
              "          if (!dataTable) return;\n",
              "\n",
              "          const docLinkHtml = 'Like what you see? Visit the ' +\n",
              "            '<a target=\"_blank\" href=https://colab.research.google.com/notebooks/data_table.ipynb>data table notebook</a>'\n",
              "            + ' to learn more about interactive tables.';\n",
              "          element.innerHTML = '';\n",
              "          dataTable['output_type'] = 'display_data';\n",
              "          await google.colab.output.renderOutput(dataTable, element);\n",
              "          const docLink = document.createElement('div');\n",
              "          docLink.innerHTML = docLinkHtml;\n",
              "          element.appendChild(docLink);\n",
              "        }\n",
              "      </script>\n",
              "    </div>\n",
              "  </div>\n",
              "  "
            ],
            "text/plain": [
              "    ImageName    NameType  NumberType\n",
              "147  ca26.jpg  Lungcancer           2\n",
              "148   ca7.jpg  Lungcancer           2\n",
              "149   ca8.jpg  Lungcancer           2"
            ]
          },
          "metadata": {},
          "execution_count": 11
        }
      ]
    },
    {
      "cell_type": "markdown",
      "source": [
        "####  test 3 class จากเน็ต"
      ],
      "metadata": {
        "id": "3Fi053VB2o6Y"
      }
    },
    {
      "cell_type": "code",
      "source": [
        "TB700_dir = os.path.join(data_dir,'test_model/Tuberculosis700')\n",
        "Normal94_dir = os.path.join(data_dir,'test_model/NORMAL94')\n",
        "CA150_dir = os.path.join(data_dir,'CA150')                  #อันเดิมที่ใช้เทรน\n",
        "\n",
        "AllTest_2class = os.path.join(data_dir,'test_model/AllTest_2class')"
      ],
      "metadata": {
        "id": "DoGUhtkpCph6"
      },
      "execution_count": null,
      "outputs": []
    },
    {
      "cell_type": "code",
      "source": [
        "#สำหรับ test model\n",
        "normal = []\n",
        "for i in range(len(os.listdir(Normal94_dir))):\n",
        "    img = os.listdir(Normal94_dir)[i]\n",
        "    normal.append(img)\n",
        "    \n",
        "tnormal94 = pd.DataFrame({'ImageName':[normal][0],\n",
        "                                       'NameType': \"Normal\" ,\n",
        "                                       'NumberType': 0                      })"
      ],
      "metadata": {
        "id": "nWuAUibuR4VW"
      },
      "execution_count": null,
      "outputs": []
    },
    {
      "cell_type": "code",
      "source": [
        "#สำหรับ test model\n",
        "tb700 = []\n",
        "for i in range(len(os.listdir(TB700_dir))):\n",
        "    img = os.listdir(TB700_dir)[i]\n",
        "    tb700.append(img)\n",
        "\n",
        "ttb700 = pd.DataFrame({'ImageName':[tb700][0],\n",
        "                                       'NameType': \"Tuberculosis\" ,\n",
        "                                       'NumberType': 1                        })"
      ],
      "metadata": {
        "id": "Bu1n-Ib48qFf"
      },
      "execution_count": null,
      "outputs": []
    },
    {
      "cell_type": "code",
      "source": [
        "#สำหรับ test model ข้อม฿ลเดิม\n",
        "lungcancer = []\n",
        "for i in range(len(os.listdir(CA150_dir))):\n",
        "    img = os.listdir(CA150_dir)[i]\n",
        "    lungcancer.append(img)\n",
        "\n",
        "tlungcancer = pd.DataFrame({'ImageName':[lungcancer][0],\n",
        "                                       'NameType': \"Lungcancer\" ,\n",
        "                                       'NumberType': 2                        })"
      ],
      "metadata": {
        "id": "clUmEvEx2IKk"
      },
      "execution_count": null,
      "outputs": []
    },
    {
      "cell_type": "code",
      "source": [
        "data_test2 = pd.concat([tnormal94[:30], ttb700[:30], tlungcancer[:10]])"
      ],
      "metadata": {
        "id": "kePRXLwU195n"
      },
      "execution_count": null,
      "outputs": []
    },
    {
      "cell_type": "code",
      "source": [
        "test_NorTB = []\n",
        "for ImageName in tqdm(data_test2['ImageName']):               # รัน ชื่อรูป ในไฟล์ data_test2\n",
        "    image_path = AllTest_2class +'/' + ImageName                          # ดึงรูปในโฟล์เดอร์มาทีละรูป\n",
        "    img = cv2.imread(image_path)                                            # อ่านรูป\n",
        "    img = cv2.resize(img, (299, 299))\n",
        "    test_NorTB.append(img)"
      ],
      "metadata": {
        "colab": {
          "base_uri": "https://localhost:8080/"
        },
        "id": "DRlBEE0T14sz",
        "outputId": "d96bdb9f-750b-498a-d55d-986c58ff491d"
      },
      "execution_count": null,
      "outputs": [
        {
          "output_type": "stream",
          "name": "stderr",
          "text": [
            "100%|██████████| 70/70 [00:19<00:00,  3.60it/s]\n"
          ]
        }
      ]
    },
    {
      "cell_type": "code",
      "source": [
        "data_test = np.array(test_NorTB, dtype=\"float32\") / 255.0\n",
        "\n",
        "labels_test = np.array(data_test2[['NameType']] )        \n",
        "labels_test.shape = (len(labels_test),) \n",
        "\n",
        "le3_Incep = LabelEncoder()                                                                     \n",
        "labels_test = le3_Incep.fit_transform(labels_test)                                         #จะแปลงชื่อ class เป็นตัวเลข 1, 2, 0 \n",
        "\n",
        "labels_test = to_categorical(labels_test, num_classes=3)                   #shape (180, 3) มีค่าเป็น  [0., 1., 0.]  กับ   [0., 0., 1.] กับ  [1., 0., 0.]"
      ],
      "metadata": {
        "id": "hlnpYC_S72ee"
      },
      "execution_count": null,
      "outputs": []
    },
    {
      "cell_type": "code",
      "source": [
        ""
      ],
      "metadata": {
        "id": "EjDLK8iNqNiK"
      },
      "execution_count": null,
      "outputs": []
    },
    {
      "cell_type": "markdown",
      "source": [
        "## 1) K-fold  -- DenseNet201\n",
        "\n",
        "### -->ACC =  0.88\n",
        "### -->เวลา 3636 วินาที\n",
        "\n",
        "*   BS = 8\n",
        "*   fix weight & bias in layer 0-600\n",
        "*   activation=\"softmax\"\n",
        "*   learning_rate=0.0001\n",
        "*   epoch 30"
      ],
      "metadata": {
        "id": "0L32LTa-AmKM"
      }
    },
    {
      "cell_type": "code",
      "source": [
        "train_img_Dense = []\n",
        "for ImageName in tqdm(data_train3['ImageName']):               # รัน ชื่อรูป ในไฟล์ data_test3\n",
        "    image_path = All_3class_dir +'/' + ImageName                   # ดึงรูปในโฟล์เดอร์มาทีละรูป\n",
        "    img = cv2.imread(image_path)                                            # อ่านรูป\n",
        "    img = cv2.resize(img, (224, 224))                                       #ขนาดของ input\n",
        "    train_img_Dense.append(img)\n",
        "\n",
        "data_Dense = np.array(train_img_Dense, dtype=\"float32\") / 255.0"
      ],
      "metadata": {
        "outputId": "4891106d-f1f7-4b71-9cb3-6a30e68e38ae",
        "colab": {
          "base_uri": "https://localhost:8080/"
        },
        "id": "jhfvC-NqAmKN"
      },
      "execution_count": 12,
      "outputs": [
        {
          "output_type": "stream",
          "name": "stderr",
          "text": [
            "100%|██████████| 451/451 [02:20<00:00,  3.22it/s]\n"
          ]
        }
      ]
    },
    {
      "cell_type": "code",
      "source": [
        "labels_Dense = np.array(data_train3[['NameType']] )        \n",
        "labels_Dense.shape = (len(labels_Dense),) \n",
        "\n",
        "le_Dense = LabelEncoder()                                                                     \n",
        "labels_Dense = le_Dense.fit_transform(labels_Dense)                                         #จะแปลงชื่อ class เป็นตัวเลข 1, 2, 0 \n",
        "\n",
        "labels_Dense = to_categorical(labels_Dense, num_classes=3)                   #shape (180, 3) มีค่าเป็น  [0., 1., 0.]  กับ   [0., 0., 1.] กับ  [1., 0., 0.]"
      ],
      "metadata": {
        "id": "MeaRfwG5A06x"
      },
      "execution_count": 13,
      "outputs": []
    },
    {
      "cell_type": "code",
      "source": [
        "INIT_LR = 1e-1\n",
        "BS = 8\n",
        "EPOCHS = 50\n",
        "\n",
        "aug = ImageDataGenerator(\n",
        "\t\trotation_range=15,\t\t\t\t\t\t#องศาการหมุน\n",
        "\t\twidth_shift_range=0.1,\n",
        "\t\theight_shift_range=0.1,\n",
        "\t\tshear_range=0.15,\n",
        "\t\thorizontal_flip=True,\n",
        "\t\tfill_mode=\"nearest\")\n",
        "\n",
        "callback = tf.keras.callbacks.EarlyStopping(\n",
        "                monitor=\"val_accuracy\",\n",
        "                patience=3,\n",
        "                mode=\"max\" )"
      ],
      "metadata": {
        "id": "0wB74-IDAmKO"
      },
      "execution_count": 14,
      "outputs": []
    },
    {
      "cell_type": "code",
      "source": [
        "base_model_Dense = tf.keras.applications.DenseNet201(input_shape=(224, 224, 3), include_top=False, weights=\"imagenet\")\n",
        "len(base_model_Dense.layers)"
      ],
      "metadata": {
        "colab": {
          "base_uri": "https://localhost:8080/"
        },
        "id": "pAdf1wmB9Vp6",
        "outputId": "381c0010-7480-456d-c9f8-0c307241de02"
      },
      "execution_count": 15,
      "outputs": [
        {
          "output_type": "stream",
          "name": "stdout",
          "text": [
            "Downloading data from https://storage.googleapis.com/tensorflow/keras-applications/densenet/densenet201_weights_tf_dim_ordering_tf_kernels_notop.h5\n",
            "74842112/74836368 [==============================] - 1s 0us/step\n",
            "74850304/74836368 [==============================] - 1s 0us/step\n"
          ]
        },
        {
          "output_type": "execute_result",
          "data": {
            "text/plain": [
              "707"
            ]
          },
          "metadata": {},
          "execution_count": 15
        }
      ]
    },
    {
      "cell_type": "code",
      "source": [
        "base_model_Dense.trainable = True\n",
        "for layer in base_model_Dense.layers[:600]:    #fix w & bias in layer 0-600\n",
        "    layer.trainable = False\n",
        "\n",
        "#Add custom head\n",
        "average_pooling_layer = tf.keras.layers.GlobalAveragePooling2D()(base_model_Dense.output)\n",
        "prediction_layer = tf.keras.layers.Dense(units=3, activation=\"softmax\")(average_pooling_layer)   # unit 3\n",
        "model_Dense = tf.keras.models.Model(inputs=base_model_Dense.input, outputs=prediction_layer)\n",
        "\n",
        "model_Dense.compile(optimizer=tf.keras.optimizers.RMSprop(learning_rate=0.0001), loss=\"binary_crossentropy\", metrics=[\"accuracy\"])"
      ],
      "metadata": {
        "id": "0Iuuw2AdBYIj"
      },
      "execution_count": 16,
      "outputs": []
    },
    {
      "cell_type": "code",
      "source": [
        "kf_Dense = KFold(5, shuffle=True, random_state=40) \n",
        "\n",
        "oos_y = []\n",
        "oos_pred = []\n",
        "fold = 0\n",
        "\n",
        "for train, test in kf_Dense.split(data_Dense):\n",
        "    fold+=1\n",
        "    print(f\"Fold #{fold}\")\n",
        "        \n",
        "    x_train_Dense = data_Dense[train]\n",
        "    y_train_Dense = labels_Dense[train]\n",
        "    x_test_Dense = data_Dense[test]\n",
        "    y_test_Dense = labels_Dense[test]\n",
        "\n",
        "    H_Dense = model_Dense.fit( x=aug.flow(x_train_Dense, y_train_Dense, batch_size=BS),\n",
        "\t                                            validation_data=(x_test_Dense, y_test_Dense),\n",
        "\t                                            steps_per_epoch=len(x_train_Dense) // BS,\n",
        "\t                                            epochs=30,  callbacks = [callback])\n",
        "    \n",
        "    pred_Dense = model_Dense.predict(x_test_Dense)\n",
        "    \n",
        "    oos_y.append(y_test_Dense)\n",
        "    oos_pred.append(pred_Dense)  \n",
        "    print(classification_report(y_test_Dense.argmax(axis=1),\t                #แสดง report ค่า acc, recall, ...\n",
        "                                        pred_Dense.argmax(axis=1),  \n",
        "                                        target_names=le_Dense.classes_))\n",
        "\n",
        "#   score = metrics.accuracy_score(y_test3_Incep.argmax(axis=1),\t        #ค่า acc\n",
        "#                                               pred3_Incep.argmax(axis=1)\n",
        "#    print(f\"Fold score (accuracy): {score}\")\n",
        "\n",
        "#    print(confusion_matrix(testY3_Incep.argmax(axis=1),\t                       #แสดง confusion_matrix\n",
        "#                        pred3_Incep.argmax(axis=1) ) )"
      ],
      "metadata": {
        "id": "_3cCPrl0AmKP",
        "colab": {
          "base_uri": "https://localhost:8080/"
        },
        "outputId": "102cc208-2843-489e-a905-25455b5bab30"
      },
      "execution_count": 17,
      "outputs": [
        {
          "output_type": "stream",
          "name": "stdout",
          "text": [
            "Fold #1\n",
            "Epoch 1/30\n",
            "45/45 [==============================] - 136s 3s/step - loss: 0.5616 - accuracy: 0.5389 - val_loss: 0.4637 - val_accuracy: 0.7363\n",
            "Epoch 2/30\n",
            "45/45 [==============================] - 127s 3s/step - loss: 0.4063 - accuracy: 0.7417 - val_loss: 0.4005 - val_accuracy: 0.7582\n",
            "Epoch 3/30\n",
            "45/45 [==============================] - 130s 3s/step - loss: 0.3337 - accuracy: 0.8028 - val_loss: 0.3845 - val_accuracy: 0.7033\n",
            "Epoch 4/30\n",
            "45/45 [==============================] - 132s 3s/step - loss: 0.2868 - accuracy: 0.8417 - val_loss: 0.3558 - val_accuracy: 0.7363\n",
            "Epoch 5/30\n",
            "45/45 [==============================] - 132s 3s/step - loss: 0.2659 - accuracy: 0.8333 - val_loss: 0.3602 - val_accuracy: 0.7473\n",
            "              precision    recall  f1-score   support\n",
            "\n",
            "  Lungcancer       0.76      0.46      0.58        28\n",
            "      Normal       0.89      0.94      0.91        33\n",
            "Tuberculosis       0.62      0.80      0.70        30\n",
            "\n",
            "    accuracy                           0.75        91\n",
            "   macro avg       0.76      0.73      0.73        91\n",
            "weighted avg       0.76      0.75      0.74        91\n",
            "\n",
            "Fold #2\n",
            "Epoch 1/30\n",
            "45/45 [==============================] - 120s 3s/step - loss: 0.2675 - accuracy: 0.8527 - val_loss: 0.1551 - val_accuracy: 0.9444\n",
            "Epoch 2/30\n",
            "45/45 [==============================] - 130s 3s/step - loss: 0.2526 - accuracy: 0.8612 - val_loss: 0.1796 - val_accuracy: 0.8889\n",
            "Epoch 3/30\n",
            "45/45 [==============================] - 133s 3s/step - loss: 0.2344 - accuracy: 0.8697 - val_loss: 0.2017 - val_accuracy: 0.8889\n",
            "Epoch 4/30\n",
            "45/45 [==============================] - 149s 3s/step - loss: 0.2031 - accuracy: 0.8924 - val_loss: 0.1419 - val_accuracy: 0.9222\n",
            "              precision    recall  f1-score   support\n",
            "\n",
            "  Lungcancer       0.97      0.85      0.90        33\n",
            "      Normal       0.96      1.00      0.98        26\n",
            "Tuberculosis       0.85      0.94      0.89        31\n",
            "\n",
            "    accuracy                           0.92        90\n",
            "   macro avg       0.93      0.93      0.93        90\n",
            "weighted avg       0.93      0.92      0.92        90\n",
            "\n",
            "Fold #3\n",
            "Epoch 1/30\n",
            "45/45 [==============================] - 159s 4s/step - loss: 0.2027 - accuracy: 0.9008 - val_loss: 0.1416 - val_accuracy: 0.9222\n",
            "Epoch 2/30\n",
            "45/45 [==============================] - 154s 3s/step - loss: 0.1864 - accuracy: 0.9037 - val_loss: 0.1817 - val_accuracy: 0.9000\n",
            "Epoch 3/30\n",
            "45/45 [==============================] - 133s 3s/step - loss: 0.1656 - accuracy: 0.9263 - val_loss: 0.1506 - val_accuracy: 0.9111\n",
            "Epoch 4/30\n",
            "45/45 [==============================] - 131s 3s/step - loss: 0.1557 - accuracy: 0.9263 - val_loss: 0.1307 - val_accuracy: 0.9556\n",
            "Epoch 5/30\n",
            "45/45 [==============================] - 130s 3s/step - loss: 0.1338 - accuracy: 0.9377 - val_loss: 0.1366 - val_accuracy: 0.9444\n",
            "Epoch 6/30\n",
            "45/45 [==============================] - 131s 3s/step - loss: 0.1418 - accuracy: 0.9320 - val_loss: 0.1414 - val_accuracy: 0.9333\n",
            "Epoch 7/30\n",
            "45/45 [==============================] - 131s 3s/step - loss: 0.1320 - accuracy: 0.9292 - val_loss: 0.2038 - val_accuracy: 0.8889\n",
            "              precision    recall  f1-score   support\n",
            "\n",
            "  Lungcancer       0.95      0.72      0.82        29\n",
            "      Normal       1.00      0.97      0.98        33\n",
            "Tuberculosis       0.75      0.96      0.84        28\n",
            "\n",
            "    accuracy                           0.89        90\n",
            "   macro avg       0.90      0.89      0.88        90\n",
            "weighted avg       0.91      0.89      0.89        90\n",
            "\n",
            "Fold #4\n",
            "Epoch 1/30\n",
            "45/45 [==============================] - 120s 3s/step - loss: 0.1459 - accuracy: 0.9292 - val_loss: 0.2050 - val_accuracy: 0.8778\n",
            "Epoch 2/30\n",
            "45/45 [==============================] - 115s 3s/step - loss: 0.1289 - accuracy: 0.9433 - val_loss: 0.1487 - val_accuracy: 0.9222\n",
            "Epoch 3/30\n",
            "45/45 [==============================] - 117s 3s/step - loss: 0.1332 - accuracy: 0.9320 - val_loss: 0.1494 - val_accuracy: 0.9000\n",
            "Epoch 4/30\n",
            "45/45 [==============================] - 118s 3s/step - loss: 0.0966 - accuracy: 0.9745 - val_loss: 0.1831 - val_accuracy: 0.9111\n",
            "Epoch 5/30\n",
            "45/45 [==============================] - 115s 3s/step - loss: 0.1179 - accuracy: 0.9490 - val_loss: 0.2063 - val_accuracy: 0.8889\n",
            "              precision    recall  f1-score   support\n",
            "\n",
            "  Lungcancer       1.00      0.67      0.80        30\n",
            "      Normal       1.00      1.00      1.00        31\n",
            "Tuberculosis       0.74      1.00      0.85        29\n",
            "\n",
            "    accuracy                           0.89        90\n",
            "   macro avg       0.91      0.89      0.88        90\n",
            "weighted avg       0.92      0.89      0.89        90\n",
            "\n",
            "Fold #5\n",
            "Epoch 1/30\n",
            "45/45 [==============================] - 115s 3s/step - loss: 0.0987 - accuracy: 0.9575 - val_loss: 0.0534 - val_accuracy: 0.9889\n",
            "Epoch 2/30\n",
            "45/45 [==============================] - 117s 3s/step - loss: 0.0964 - accuracy: 0.9603 - val_loss: 0.0506 - val_accuracy: 0.9778\n",
            "Epoch 3/30\n",
            "45/45 [==============================] - 117s 3s/step - loss: 0.0991 - accuracy: 0.9575 - val_loss: 0.0532 - val_accuracy: 0.9667\n",
            "Epoch 4/30\n",
            "45/45 [==============================] - 117s 3s/step - loss: 0.0812 - accuracy: 0.9745 - val_loss: 0.0607 - val_accuracy: 0.9667\n",
            "              precision    recall  f1-score   support\n",
            "\n",
            "  Lungcancer       1.00      0.90      0.95        30\n",
            "      Normal       1.00      1.00      1.00        28\n",
            "Tuberculosis       0.91      1.00      0.96        32\n",
            "\n",
            "    accuracy                           0.97        90\n",
            "   macro avg       0.97      0.97      0.97        90\n",
            "weighted avg       0.97      0.97      0.97        90\n",
            "\n"
          ]
        }
      ]
    },
    {
      "cell_type": "code",
      "source": [
        "oos_y = np.concatenate(oos_y)\n",
        "oos_pred = np.concatenate(oos_pred)"
      ],
      "metadata": {
        "id": "sYIcWAzvO8H7"
      },
      "execution_count": 18,
      "outputs": []
    },
    {
      "cell_type": "code",
      "source": [
        "score = metrics.accuracy_score(oos_y.argmax(axis=1),\t        #ค่า acc\n",
        "                                             oos_pred.argmax(axis=1) )\n",
        "print(f\"Fold score (accuracy): {score}\")\n",
        "\n",
        "print(classification_report(oos_y.argmax(axis=1),\t                #แสดง report ค่า acc, recall, ...\n",
        "                                        oos_pred.argmax(axis=1),  \n",
        "                                        target_names=le_Dense.classes_))"
      ],
      "metadata": {
        "id": "VwnR1MElO8ID",
        "colab": {
          "base_uri": "https://localhost:8080/"
        },
        "outputId": "144aa9b9-ee71-42f9-d8dd-bce5f72f2a5a"
      },
      "execution_count": 19,
      "outputs": [
        {
          "output_type": "stream",
          "name": "stdout",
          "text": [
            "Fold score (accuracy): 0.8824833702882483\n",
            "              precision    recall  f1-score   support\n",
            "\n",
            "  Lungcancer       0.95      0.73      0.82       150\n",
            "      Normal       0.97      0.98      0.97       151\n",
            "Tuberculosis       0.77      0.94      0.85       150\n",
            "\n",
            "    accuracy                           0.88       451\n",
            "   macro avg       0.90      0.88      0.88       451\n",
            "weighted avg       0.90      0.88      0.88       451\n",
            "\n"
          ]
        }
      ]
    },
    {
      "cell_type": "markdown",
      "source": [
        "## 2) K-fold  -- DenseNet201\n",
        "\n",
        "### -->ACC = 0.87\n",
        "### -->เวลา 2959 นาที\n",
        "\n",
        "*   BS = 16\n",
        "*   fix weight & bias in layer 0-600\n",
        "*   activation=\"softmax\"\n",
        "*   learning_rate=0.0001\n",
        "*   epoch 30"
      ],
      "metadata": {
        "id": "qF0ugx9xAK9O"
      }
    },
    {
      "cell_type": "code",
      "source": [
        "train_img_Dense = []\n",
        "for ImageName in tqdm(data_train3['ImageName']):               # รัน ชื่อรูป ในไฟล์ data_test3\n",
        "    image_path = All_3class_dir +'/' + ImageName                   # ดึงรูปในโฟล์เดอร์มาทีละรูป\n",
        "    img = cv2.imread(image_path)                                            # อ่านรูป\n",
        "    img = cv2.resize(img, (224, 224))                                       #ขนาดของ input\n",
        "    train_img_Dense.append(img)\n",
        "\n",
        "data_Dense = np.array(train_img_Dense, dtype=\"float32\") / 255.0"
      ],
      "metadata": {
        "outputId": "57d45a26-9df2-4072-f152-06e19494529f",
        "colab": {
          "base_uri": "https://localhost:8080/"
        },
        "id": "ZpptkU37AK9P"
      },
      "execution_count": 20,
      "outputs": [
        {
          "output_type": "stream",
          "name": "stderr",
          "text": [
            "100%|██████████| 451/451 [00:05<00:00, 83.30it/s] \n"
          ]
        }
      ]
    },
    {
      "cell_type": "code",
      "source": [
        "labels_Dense = np.array(data_train3[['NameType']] )        \n",
        "labels_Dense.shape = (len(labels_Dense),) \n",
        "\n",
        "le_Dense = LabelEncoder()                                                                     \n",
        "labels_Dense = le_Dense.fit_transform(labels_Dense)                                         #จะแปลงชื่อ class เป็นตัวเลข 1, 2, 0 \n",
        "\n",
        "labels_Dense = to_categorical(labels_Dense, num_classes=3)                   #shape (180, 3) มีค่าเป็น  [0., 1., 0.]  กับ   [0., 0., 1.] กับ  [1., 0., 0.]"
      ],
      "metadata": {
        "id": "nLqEKkY1AK9Q"
      },
      "execution_count": 21,
      "outputs": []
    },
    {
      "cell_type": "code",
      "source": [
        "INIT_LR = 1e-1\n",
        "BS16 = 16\n",
        "EPOCHS = 50\n",
        "\n",
        "aug2 = ImageDataGenerator(\n",
        "\t\trotation_range=15,\t\t\t\t\t\t#องศาการหมุน\n",
        "\t\twidth_shift_range=0.1,\n",
        "\t\theight_shift_range=0.1,\n",
        "\t\tshear_range=0.15,\n",
        "\t\thorizontal_flip=True,\n",
        "\t\tfill_mode=\"nearest\")\n",
        "\n",
        "callback = tf.keras.callbacks.EarlyStopping(\n",
        "                monitor=\"val_accuracy\",\n",
        "                patience=3,\n",
        "                mode=\"max\" )"
      ],
      "metadata": {
        "id": "hmURgMb5AK9R"
      },
      "execution_count": 22,
      "outputs": []
    },
    {
      "cell_type": "code",
      "source": [
        "base_model_Dense = tf.keras.applications.DenseNet201(input_shape=(224, 224, 3), include_top=False, weights=\"imagenet\")\n",
        "len(base_model_Dense.layers)"
      ],
      "metadata": {
        "id": "Iyzn1Ega_j9b",
        "colab": {
          "base_uri": "https://localhost:8080/"
        },
        "outputId": "54530b26-e9e9-4aac-b10d-657cb65d00b0"
      },
      "execution_count": 23,
      "outputs": [
        {
          "output_type": "execute_result",
          "data": {
            "text/plain": [
              "707"
            ]
          },
          "metadata": {},
          "execution_count": 23
        }
      ]
    },
    {
      "cell_type": "code",
      "source": [
        "base_model_Dense.trainable = True\n",
        "for layer in base_model_Dense.layers[:600]:    #fix w & bias in layer 0-600\n",
        "    layer.trainable = False\n",
        "\n",
        "#Add custom head\n",
        "average_pooling_layer = tf.keras.layers.GlobalAveragePooling2D()(base_model_Dense.output)\n",
        "prediction_layer = tf.keras.layers.Dense(units=3, activation=\"softmax\")(average_pooling_layer)   # unit 3\n",
        "model_Dense2 = tf.keras.models.Model(inputs=base_model_Dense.input, outputs=prediction_layer)\n",
        "\n",
        "model_Dense2.compile(optimizer=tf.keras.optimizers.RMSprop(learning_rate=0.0001), loss=\"binary_crossentropy\", metrics=[\"accuracy\"])"
      ],
      "metadata": {
        "id": "zYyno0jMAK9R"
      },
      "execution_count": 24,
      "outputs": []
    },
    {
      "cell_type": "code",
      "source": [
        "kf_Dense2 = KFold(5, shuffle=True, random_state=40) \n",
        "\n",
        "oos_y2 = []\n",
        "oos_pred2 = []\n",
        "fold = 0\n",
        "\n",
        "for train, test in kf_Dense2.split(data_Dense):\n",
        "    fold+=1\n",
        "    print(f\"Fold #{fold}\")\n",
        "        \n",
        "    x_train_Dense2 = data_Dense[train]\n",
        "    y_train_Dense2 = labels_Dense[train]\n",
        "    x_test_Dense2 = data_Dense[test]\n",
        "    y_test_Dense2 = labels_Dense[test]\n",
        "\n",
        "    H_Dense2 = model_Dense2.fit( x=aug2.flow(x_train_Dense2, y_train_Dense2, batch_size=BS16),\n",
        "\t                                            validation_data=(x_test_Dense2, y_test_Dense2),\n",
        "\t                                            steps_per_epoch=len(x_train_Dense2) // BS16,\n",
        "\t                                            epochs=30,  callbacks = [callback])\n",
        "    \n",
        "    pred_Dense2 = model_Dense2.predict(x_test_Dense2)\n",
        "    \n",
        "    oos_y2.append(y_test_Dense2)\n",
        "    oos_pred2.append(pred_Dense2)  \n",
        "    print(classification_report(y_test_Dense2.argmax(axis=1),\t                #แสดง report ค่า acc, recall, ...\n",
        "                                        pred_Dense2.argmax(axis=1),  \n",
        "                                        target_names=le_Dense.classes_))\n",
        "\n",
        "#   score = metrics.accuracy_score(y_test3_Incep.argmax(axis=1),\t        #ค่า acc\n",
        "#                                               pred3_Incep.argmax(axis=1)\n",
        "#    print(f\"Fold score (accuracy): {score}\")\n",
        "\n",
        "#    print(confusion_matrix(testY3_Incep.argmax(axis=1),\t                       #แสดง confusion_matrix\n",
        "#                        pred3_Incep.argmax(axis=1) ) )"
      ],
      "metadata": {
        "id": "bMPj3xMNAK9S",
        "colab": {
          "base_uri": "https://localhost:8080/"
        },
        "outputId": "c3ff512a-76bf-4689-e152-257c22008db8"
      },
      "execution_count": 25,
      "outputs": [
        {
          "output_type": "stream",
          "name": "stdout",
          "text": [
            "Fold #1\n",
            "Epoch 1/30\n",
            "22/22 [==============================] - 135s 5s/step - loss: 0.5737 - accuracy: 0.5581 - val_loss: 0.5526 - val_accuracy: 0.6154\n",
            "Epoch 2/30\n",
            "22/22 [==============================] - 116s 5s/step - loss: 0.4061 - accuracy: 0.7645 - val_loss: 0.4775 - val_accuracy: 0.6484\n",
            "Epoch 3/30\n",
            "22/22 [==============================] - 116s 5s/step - loss: 0.3414 - accuracy: 0.8052 - val_loss: 0.4230 - val_accuracy: 0.6923\n",
            "Epoch 4/30\n",
            "22/22 [==============================] - 115s 5s/step - loss: 0.3156 - accuracy: 0.8372 - val_loss: 0.3981 - val_accuracy: 0.6923\n",
            "Epoch 5/30\n",
            "22/22 [==============================] - 118s 5s/step - loss: 0.2713 - accuracy: 0.8523 - val_loss: 0.3834 - val_accuracy: 0.6923\n",
            "Epoch 6/30\n",
            "22/22 [==============================] - 116s 5s/step - loss: 0.2485 - accuracy: 0.8808 - val_loss: 0.4143 - val_accuracy: 0.6813\n",
            "              precision    recall  f1-score   support\n",
            "\n",
            "  Lungcancer       0.75      0.21      0.33        28\n",
            "      Normal       0.82      0.94      0.87        33\n",
            "Tuberculosis       0.56      0.83      0.67        30\n",
            "\n",
            "    accuracy                           0.68        91\n",
            "   macro avg       0.71      0.66      0.62        91\n",
            "weighted avg       0.71      0.68      0.64        91\n",
            "\n",
            "Fold #2\n",
            "Epoch 1/30\n",
            "22/22 [==============================] - 119s 5s/step - loss: 0.2486 - accuracy: 0.8667 - val_loss: 0.2359 - val_accuracy: 0.9222\n",
            "Epoch 2/30\n",
            "22/22 [==============================] - 119s 5s/step - loss: 0.2308 - accuracy: 0.8696 - val_loss: 0.2065 - val_accuracy: 0.9222\n",
            "Epoch 3/30\n",
            "22/22 [==============================] - 118s 6s/step - loss: 0.2022 - accuracy: 0.9072 - val_loss: 0.1997 - val_accuracy: 0.9222\n",
            "Epoch 4/30\n",
            "22/22 [==============================] - 118s 5s/step - loss: 0.1989 - accuracy: 0.8870 - val_loss: 0.1766 - val_accuracy: 0.9111\n",
            "              precision    recall  f1-score   support\n",
            "\n",
            "  Lungcancer       1.00      0.82      0.90        33\n",
            "      Normal       0.96      0.96      0.96        26\n",
            "Tuberculosis       0.81      0.97      0.88        31\n",
            "\n",
            "    accuracy                           0.91        90\n",
            "   macro avg       0.92      0.92      0.91        90\n",
            "weighted avg       0.92      0.91      0.91        90\n",
            "\n",
            "Fold #3\n",
            "Epoch 1/30\n",
            "22/22 [==============================] - 115s 5s/step - loss: 0.1969 - accuracy: 0.9043 - val_loss: 0.1617 - val_accuracy: 0.9333\n",
            "Epoch 2/30\n",
            "22/22 [==============================] - 119s 5s/step - loss: 0.1666 - accuracy: 0.9304 - val_loss: 0.1669 - val_accuracy: 0.9222\n",
            "Epoch 3/30\n",
            "22/22 [==============================] - 124s 6s/step - loss: 0.1587 - accuracy: 0.9275 - val_loss: 0.1870 - val_accuracy: 0.9222\n",
            "Epoch 4/30\n",
            "22/22 [==============================] - 125s 6s/step - loss: 0.1547 - accuracy: 0.9403 - val_loss: 0.1884 - val_accuracy: 0.9000\n",
            "              precision    recall  f1-score   support\n",
            "\n",
            "  Lungcancer       0.96      0.76      0.85        29\n",
            "      Normal       1.00      0.97      0.98        33\n",
            "Tuberculosis       0.77      0.96      0.86        28\n",
            "\n",
            "    accuracy                           0.90        90\n",
            "   macro avg       0.91      0.90      0.90        90\n",
            "weighted avg       0.91      0.90      0.90        90\n",
            "\n",
            "Fold #4\n",
            "Epoch 1/30\n",
            "22/22 [==============================] - 120s 5s/step - loss: 0.1623 - accuracy: 0.9217 - val_loss: 0.1391 - val_accuracy: 0.9333\n",
            "Epoch 2/30\n",
            "22/22 [==============================] - 124s 6s/step - loss: 0.1244 - accuracy: 0.9623 - val_loss: 0.1646 - val_accuracy: 0.9222\n",
            "Epoch 3/30\n",
            "22/22 [==============================] - 123s 6s/step - loss: 0.1176 - accuracy: 0.9536 - val_loss: 0.1772 - val_accuracy: 0.9000\n",
            "Epoch 4/30\n",
            "22/22 [==============================] - 123s 6s/step - loss: 0.0886 - accuracy: 0.9739 - val_loss: 0.1709 - val_accuracy: 0.9111\n",
            "              precision    recall  f1-score   support\n",
            "\n",
            "  Lungcancer       1.00      0.73      0.85        30\n",
            "      Normal       0.97      1.00      0.98        31\n",
            "Tuberculosis       0.81      1.00      0.89        29\n",
            "\n",
            "    accuracy                           0.91        90\n",
            "   macro avg       0.92      0.91      0.91        90\n",
            "weighted avg       0.93      0.91      0.91        90\n",
            "\n",
            "Fold #5\n",
            "Epoch 1/30\n",
            "22/22 [==============================] - 110s 5s/step - loss: 0.0996 - accuracy: 0.9681 - val_loss: 0.0731 - val_accuracy: 0.9778\n",
            "Epoch 2/30\n",
            "22/22 [==============================] - 112s 5s/step - loss: 0.1182 - accuracy: 0.9478 - val_loss: 0.1055 - val_accuracy: 0.9222\n",
            "Epoch 3/30\n",
            "22/22 [==============================] - 111s 5s/step - loss: 0.0849 - accuracy: 0.9739 - val_loss: 0.0916 - val_accuracy: 0.9444\n",
            "Epoch 4/30\n",
            "22/22 [==============================] - 114s 5s/step - loss: 0.0880 - accuracy: 0.9681 - val_loss: 0.1095 - val_accuracy: 0.9333\n",
            "              precision    recall  f1-score   support\n",
            "\n",
            "  Lungcancer       1.00      0.80      0.89        30\n",
            "      Normal       1.00      1.00      1.00        28\n",
            "Tuberculosis       0.84      1.00      0.91        32\n",
            "\n",
            "    accuracy                           0.93        90\n",
            "   macro avg       0.95      0.93      0.93        90\n",
            "weighted avg       0.94      0.93      0.93        90\n",
            "\n"
          ]
        }
      ]
    },
    {
      "cell_type": "code",
      "source": [
        "oos_y2 = np.concatenate(oos_y2)\n",
        "oos_pred2 = np.concatenate(oos_pred2)"
      ],
      "metadata": {
        "id": "OqOlECxElR2S"
      },
      "execution_count": 26,
      "outputs": []
    },
    {
      "cell_type": "code",
      "source": [
        "score = metrics.accuracy_score(oos_y2.argmax(axis=1),\t        #ค่า acc\n",
        "                                             oos_pred2.argmax(axis=1) )\n",
        "print(f\"Fold score (accuracy): {score}\")\n",
        "\n",
        "print(classification_report(oos_y2.argmax(axis=1),\t                #แสดง report ค่า acc, recall, ...\n",
        "                                        oos_pred2.argmax(axis=1),  \n",
        "                                        target_names=le_Dense.classes_))"
      ],
      "metadata": {
        "id": "VPP8SwZvlR2T",
        "colab": {
          "base_uri": "https://localhost:8080/"
        },
        "outputId": "7d7c6762-d8c3-448d-a6ab-f34c696c59ac"
      },
      "execution_count": 27,
      "outputs": [
        {
          "output_type": "stream",
          "name": "stdout",
          "text": [
            "Fold score (accuracy): 0.8669623059866962\n",
            "              precision    recall  f1-score   support\n",
            "\n",
            "  Lungcancer       0.97      0.67      0.80       150\n",
            "      Normal       0.94      0.97      0.96       151\n",
            "Tuberculosis       0.75      0.95      0.84       150\n",
            "\n",
            "    accuracy                           0.87       451\n",
            "   macro avg       0.89      0.87      0.86       451\n",
            "weighted avg       0.89      0.87      0.86       451\n",
            "\n"
          ]
        }
      ]
    },
    {
      "cell_type": "markdown",
      "source": [
        "## 3) K-fold  -- DenseNet201\n",
        "\n",
        "### -->ACC =  0.89\n",
        "### -->เวลา 3762 วินาที\n",
        "\n",
        "*   BS = 32\n",
        "*   fix weight & bias in layer 0-600\n",
        "*   activation=\"softmax\"\n",
        "*   learning_rate=0.0001\n",
        "*   epoch 30"
      ],
      "metadata": {
        "id": "OjhOFcptA-D_"
      }
    },
    {
      "cell_type": "code",
      "source": [
        "train_img_Dense = []\n",
        "for ImageName in tqdm(data_train3['ImageName']):               # รัน ชื่อรูป ในไฟล์ data_test3\n",
        "    image_path = All_3class_dir +'/' + ImageName                   # ดึงรูปในโฟล์เดอร์มาทีละรูป\n",
        "    img = cv2.imread(image_path)                                            # อ่านรูป\n",
        "    img = cv2.resize(img, (224, 224))                                       #ขนาดของ input\n",
        "    train_img_Dense.append(img)\n",
        "\n",
        "data_Dense = np.array(train_img_Dense, dtype=\"float32\") / 255.0"
      ],
      "metadata": {
        "outputId": "ae7be0ed-0158-4fd9-eaf0-4a2b900ea6e5",
        "colab": {
          "base_uri": "https://localhost:8080/"
        },
        "id": "tqyKOx2_A-EA"
      },
      "execution_count": 28,
      "outputs": [
        {
          "output_type": "stream",
          "name": "stderr",
          "text": [
            "100%|██████████| 451/451 [00:05<00:00, 82.46it/s] \n"
          ]
        }
      ]
    },
    {
      "cell_type": "code",
      "source": [
        "labels_Dense = np.array(data_train3[['NameType']] )        \n",
        "labels_Dense.shape = (len(labels_Dense),) \n",
        "\n",
        "le_Dense = LabelEncoder()                                                                     \n",
        "labels_Dense = le_Dense.fit_transform(labels_Dense)                                         #จะแปลงชื่อ class เป็นตัวเลข 1, 2, 0 \n",
        "\n",
        "labels_Dense = to_categorical(labels_Dense, num_classes=3)                   #shape (180, 3) มีค่าเป็น  [0., 1., 0.]  กับ   [0., 0., 1.] กับ  [1., 0., 0.]"
      ],
      "metadata": {
        "id": "98xhFliPA-EB"
      },
      "execution_count": 29,
      "outputs": []
    },
    {
      "cell_type": "code",
      "source": [
        "INIT_LR = 1e-1\n",
        "BS32 = 32\n",
        "EPOCHS = 50\n",
        "\n",
        "aug3 = ImageDataGenerator(\n",
        "\t\trotation_range=15,\t\t\t\t\t\t#องศาการหมุน\n",
        "\t\twidth_shift_range=0.1,\n",
        "\t\theight_shift_range=0.1,\n",
        "\t\tshear_range=0.15,\n",
        "\t\thorizontal_flip=True,\n",
        "\t\tfill_mode=\"nearest\")\n",
        "\n",
        "callback = tf.keras.callbacks.EarlyStopping(\n",
        "                monitor=\"val_accuracy\",\n",
        "                patience=3,\n",
        "                mode=\"max\" )"
      ],
      "metadata": {
        "id": "Z9cNLqf9A-EC"
      },
      "execution_count": 30,
      "outputs": []
    },
    {
      "cell_type": "code",
      "source": [
        "base_model_Dense = tf.keras.applications.DenseNet201(input_shape=(224, 224, 3), include_top=False, weights=\"imagenet\")\n",
        "len(base_model_Dense.layers)"
      ],
      "metadata": {
        "id": "-h12Cbo9_9v8",
        "colab": {
          "base_uri": "https://localhost:8080/"
        },
        "outputId": "7caa53e2-50af-4bd2-f45a-067fce42680e"
      },
      "execution_count": 31,
      "outputs": [
        {
          "output_type": "execute_result",
          "data": {
            "text/plain": [
              "707"
            ]
          },
          "metadata": {},
          "execution_count": 31
        }
      ]
    },
    {
      "cell_type": "code",
      "source": [
        "base_model_Dense.trainable = True\n",
        "for layer in base_model_Dense.layers[:600]:    #fix w & bias in layer 0-600\n",
        "    layer.trainable = False\n",
        "\n",
        "#Add custom head\n",
        "average_pooling_layer = tf.keras.layers.GlobalAveragePooling2D()(base_model_Dense.output)\n",
        "prediction_layer = tf.keras.layers.Dense(units=3, activation=\"softmax\")(average_pooling_layer)   # unit 3\n",
        "model_Dense3 = tf.keras.models.Model(inputs=base_model_Dense.input, outputs=prediction_layer)\n",
        "\n",
        "model_Dense3.compile(optimizer=tf.keras.optimizers.RMSprop(learning_rate=0.0001), loss=\"binary_crossentropy\", metrics=[\"accuracy\"])"
      ],
      "metadata": {
        "id": "AvoDgPqg_3x7"
      },
      "execution_count": 32,
      "outputs": []
    },
    {
      "cell_type": "code",
      "source": [
        "kf_Dense3 = KFold(5, shuffle=True, random_state=40) \n",
        "\n",
        "oos_y3 = []\n",
        "oos_pred3 = []\n",
        "fold = 0\n",
        "\n",
        "for train, test in kf_Dense3.split(data_Dense):\n",
        "    fold+=1\n",
        "    print(f\"Fold #{fold}\")\n",
        "        \n",
        "    x_train_Dense3 = data_Dense[train]\n",
        "    y_train_Dense3 = labels_Dense[train]\n",
        "    x_test_Dense3 = data_Dense[test]\n",
        "    y_test_Dense3 = labels_Dense[test]\n",
        "\n",
        "    H_Dense3 = model_Dense3.fit( x=aug3.flow(x_train_Dense3, y_train_Dense3, batch_size=BS32),\n",
        "\t                                            validation_data=(x_test_Dense3, y_test_Dense3),\n",
        "\t                                            steps_per_epoch=len(x_train_Dense3) // BS32,\n",
        "\t                                            epochs=30,  callbacks = [callback])\n",
        "    \n",
        "    pred_Dense3 = model_Dense3.predict(x_test_Dense3)\n",
        "    \n",
        "    oos_y3.append(y_test_Dense3)\n",
        "    oos_pred3.append(pred_Dense3)  \n",
        "    print(classification_report(y_test_Dense3.argmax(axis=1),\t                #แสดง report ค่า acc, recall, ...\n",
        "                                        pred_Dense3.argmax(axis=1),  \n",
        "                                        target_names=le_Dense.classes_))\n",
        "\n",
        "#   score = metrics.accuracy_score(y_test3_Incep.argmax(axis=1),\t        #ค่า acc\n",
        "#                                               pred3_Incep.argmax(axis=1)\n",
        "#    print(f\"Fold score (accuracy): {score}\")\n",
        "\n",
        "#    print(confusion_matrix(testY3_Incep.argmax(axis=1),\t                       #แสดง confusion_matrix\n",
        "#                        pred3_Incep.argmax(axis=1) ) )"
      ],
      "metadata": {
        "id": "BG7Sznv2A-ED",
        "colab": {
          "base_uri": "https://localhost:8080/"
        },
        "outputId": "bd67639a-de31-440e-afab-8d989f6bbf79"
      },
      "execution_count": 33,
      "outputs": [
        {
          "output_type": "stream",
          "name": "stdout",
          "text": [
            "Fold #1\n",
            "Epoch 1/30\n",
            "11/11 [==============================] - 127s 10s/step - loss: 0.5186 - accuracy: 0.6463 - val_loss: 0.4981 - val_accuracy: 0.6374\n",
            "Epoch 2/30\n",
            "11/11 [==============================] - 107s 10s/step - loss: 0.4018 - accuracy: 0.7409 - val_loss: 0.4807 - val_accuracy: 0.6154\n",
            "Epoch 3/30\n",
            "11/11 [==============================] - 109s 10s/step - loss: 0.3581 - accuracy: 0.7957 - val_loss: 0.4455 - val_accuracy: 0.6813\n",
            "Epoch 4/30\n",
            "11/11 [==============================] - 108s 10s/step - loss: 0.3404 - accuracy: 0.8079 - val_loss: 0.4243 - val_accuracy: 0.7143\n",
            "Epoch 5/30\n",
            "11/11 [==============================] - 108s 10s/step - loss: 0.2998 - accuracy: 0.8598 - val_loss: 0.3962 - val_accuracy: 0.7363\n",
            "Epoch 6/30\n",
            "11/11 [==============================] - 107s 10s/step - loss: 0.2769 - accuracy: 0.8750 - val_loss: 0.3835 - val_accuracy: 0.7363\n",
            "Epoch 7/30\n",
            "11/11 [==============================] - 114s 10s/step - loss: 0.2660 - accuracy: 0.8628 - val_loss: 0.3695 - val_accuracy: 0.7582\n",
            "Epoch 8/30\n",
            "11/11 [==============================] - 111s 10s/step - loss: 0.2348 - accuracy: 0.9055 - val_loss: 0.3696 - val_accuracy: 0.7363\n",
            "Epoch 9/30\n",
            "11/11 [==============================] - 112s 10s/step - loss: 0.2234 - accuracy: 0.9177 - val_loss: 0.3600 - val_accuracy: 0.7253\n",
            "Epoch 10/30\n",
            "11/11 [==============================] - 112s 10s/step - loss: 0.2089 - accuracy: 0.9116 - val_loss: 0.3479 - val_accuracy: 0.7473\n",
            "              precision    recall  f1-score   support\n",
            "\n",
            "  Lungcancer       0.86      0.43      0.57        28\n",
            "      Normal       0.80      0.97      0.88        33\n",
            "Tuberculosis       0.65      0.80      0.72        30\n",
            "\n",
            "    accuracy                           0.75        91\n",
            "   macro avg       0.77      0.73      0.72        91\n",
            "weighted avg       0.77      0.75      0.73        91\n",
            "\n",
            "Fold #2\n",
            "Epoch 1/30\n",
            "11/11 [==============================] - 109s 10s/step - loss: 0.2103 - accuracy: 0.8967 - val_loss: 0.1984 - val_accuracy: 0.9333\n",
            "Epoch 2/30\n",
            "11/11 [==============================] - 115s 11s/step - loss: 0.1952 - accuracy: 0.9062 - val_loss: 0.1931 - val_accuracy: 0.9333\n",
            "Epoch 3/30\n",
            "11/11 [==============================] - 109s 10s/step - loss: 0.1784 - accuracy: 0.9271 - val_loss: 0.1962 - val_accuracy: 0.9000\n",
            "Epoch 4/30\n",
            "11/11 [==============================] - 109s 10s/step - loss: 0.1799 - accuracy: 0.9149 - val_loss: 0.1864 - val_accuracy: 0.9333\n",
            "              precision    recall  f1-score   support\n",
            "\n",
            "  Lungcancer       0.97      0.88      0.92        33\n",
            "      Normal       0.96      1.00      0.98        26\n",
            "Tuberculosis       0.88      0.94      0.91        31\n",
            "\n",
            "    accuracy                           0.93        90\n",
            "   macro avg       0.94      0.94      0.94        90\n",
            "weighted avg       0.94      0.93      0.93        90\n",
            "\n",
            "Fold #3\n",
            "Epoch 1/30\n",
            "11/11 [==============================] - 109s 10s/step - loss: 0.1557 - accuracy: 0.9483 - val_loss: 0.1752 - val_accuracy: 0.9111\n",
            "Epoch 2/30\n",
            "11/11 [==============================] - 109s 10s/step - loss: 0.1585 - accuracy: 0.9271 - val_loss: 0.1610 - val_accuracy: 0.9111\n",
            "Epoch 3/30\n",
            "11/11 [==============================] - 110s 10s/step - loss: 0.1569 - accuracy: 0.9574 - val_loss: 0.1615 - val_accuracy: 0.9111\n",
            "Epoch 4/30\n",
            "11/11 [==============================] - 109s 10s/step - loss: 0.1318 - accuracy: 0.9605 - val_loss: 0.1721 - val_accuracy: 0.9000\n",
            "              precision    recall  f1-score   support\n",
            "\n",
            "  Lungcancer       0.96      0.79      0.87        29\n",
            "      Normal       0.87      1.00      0.93        33\n",
            "Tuberculosis       0.89      0.89      0.89        28\n",
            "\n",
            "    accuracy                           0.90        90\n",
            "   macro avg       0.91      0.90      0.90        90\n",
            "weighted avg       0.90      0.90      0.90        90\n",
            "\n",
            "Fold #4\n",
            "Epoch 1/30\n",
            "11/11 [==============================] - 109s 11s/step - loss: 0.1285 - accuracy: 0.9453 - val_loss: 0.1257 - val_accuracy: 0.9444\n",
            "Epoch 2/30\n",
            "11/11 [==============================] - 108s 10s/step - loss: 0.1314 - accuracy: 0.9483 - val_loss: 0.1210 - val_accuracy: 0.9222\n",
            "Epoch 3/30\n",
            "11/11 [==============================] - 108s 10s/step - loss: 0.1067 - accuracy: 0.9726 - val_loss: 0.1241 - val_accuracy: 0.9111\n",
            "Epoch 4/30\n",
            "11/11 [==============================] - 109s 10s/step - loss: 0.1049 - accuracy: 0.9574 - val_loss: 0.1508 - val_accuracy: 0.9000\n",
            "              precision    recall  f1-score   support\n",
            "\n",
            "  Lungcancer       1.00      0.73      0.85        30\n",
            "      Normal       1.00      0.97      0.98        31\n",
            "Tuberculosis       0.76      1.00      0.87        29\n",
            "\n",
            "    accuracy                           0.90        90\n",
            "   macro avg       0.92      0.90      0.90        90\n",
            "weighted avg       0.92      0.90      0.90        90\n",
            "\n",
            "Fold #5\n",
            "Epoch 1/30\n",
            "11/11 [==============================] - 108s 10s/step - loss: 0.1067 - accuracy: 0.9666 - val_loss: 0.0938 - val_accuracy: 0.9778\n",
            "Epoch 2/30\n",
            "11/11 [==============================] - 109s 11s/step - loss: 0.1030 - accuracy: 0.9726 - val_loss: 0.0820 - val_accuracy: 0.9889\n",
            "Epoch 3/30\n",
            "11/11 [==============================] - 111s 10s/step - loss: 0.0783 - accuracy: 0.9726 - val_loss: 0.0951 - val_accuracy: 0.9667\n",
            "Epoch 4/30\n",
            "11/11 [==============================] - 112s 11s/step - loss: 0.0924 - accuracy: 0.9635 - val_loss: 0.1000 - val_accuracy: 0.9556\n",
            "Epoch 5/30\n",
            "11/11 [==============================] - 114s 10s/step - loss: 0.0617 - accuracy: 0.9939 - val_loss: 0.0924 - val_accuracy: 0.9556\n",
            "              precision    recall  f1-score   support\n",
            "\n",
            "  Lungcancer       1.00      0.87      0.93        30\n",
            "      Normal       1.00      1.00      1.00        28\n",
            "Tuberculosis       0.89      1.00      0.94        32\n",
            "\n",
            "    accuracy                           0.96        90\n",
            "   macro avg       0.96      0.96      0.96        90\n",
            "weighted avg       0.96      0.96      0.96        90\n",
            "\n"
          ]
        }
      ]
    },
    {
      "cell_type": "code",
      "source": [
        "oos_y3 = np.concatenate(oos_y3)\n",
        "oos_pred3 = np.concatenate(oos_pred3)"
      ],
      "metadata": {
        "id": "PKFaUJnv0m21"
      },
      "execution_count": 34,
      "outputs": []
    },
    {
      "cell_type": "code",
      "source": [
        "score = metrics.accuracy_score(oos_y3.argmax(axis=1),\t        #ค่า acc\n",
        "                                             oos_pred3.argmax(axis=1) )\n",
        "print(f\"Fold score (accuracy): {score}\")\n",
        "\n",
        "print(classification_report(oos_y3.argmax(axis=1),\t                #แสดง report ค่า acc, recall, ...\n",
        "                                        oos_pred3.argmax(axis=1),  \n",
        "                                        target_names=le_Dense.classes_))"
      ],
      "metadata": {
        "id": "fmTaZJRK0m29",
        "colab": {
          "base_uri": "https://localhost:8080/"
        },
        "outputId": "5e50167a-a91a-474e-ee65-c68355dabba6"
      },
      "execution_count": 35,
      "outputs": [
        {
          "output_type": "stream",
          "name": "stdout",
          "text": [
            "Fold score (accuracy): 0.8869179600886918\n",
            "              precision    recall  f1-score   support\n",
            "\n",
            "  Lungcancer       0.97      0.75      0.84       150\n",
            "      Normal       0.91      0.99      0.95       151\n",
            "Tuberculosis       0.81      0.93      0.86       150\n",
            "\n",
            "    accuracy                           0.89       451\n",
            "   macro avg       0.90      0.89      0.88       451\n",
            "weighted avg       0.90      0.89      0.88       451\n",
            "\n"
          ]
        }
      ]
    },
    {
      "cell_type": "markdown",
      "source": [
        "## 4) K-fold  -- DenseNet201\n",
        "\n",
        "### -->ACC = \n",
        "### -->เวลา  วินาที\n",
        "\n",
        "*   BS = 8\n",
        "*   fix weight & bias in layer 0-500\n",
        "*   activation=\"softmax\"\n",
        "*   learning_rate=0.0001\n",
        "*   epoch 30"
      ],
      "metadata": {
        "id": "VCndXX6bAiA-"
      }
    },
    {
      "cell_type": "code",
      "source": [
        "train_img_Dense = []\n",
        "for ImageName in tqdm(data_train3['ImageName']):               # รัน ชื่อรูป ในไฟล์ data_test3\n",
        "    image_path = All_3class_dir +'/' + ImageName                   # ดึงรูปในโฟล์เดอร์มาทีละรูป\n",
        "    img = cv2.imread(image_path)                                            # อ่านรูป\n",
        "    img = cv2.resize(img, (224, 224))                                       #ขนาดของ input\n",
        "    train_img_Dense.append(img)\n",
        "\n",
        "data_Dense = np.array(train_img_Dense, dtype=\"float32\") / 255.0"
      ],
      "metadata": {
        "outputId": "719a3bed-a3f7-48a8-bbf0-8ed2b93e4158",
        "colab": {
          "base_uri": "https://localhost:8080/"
        },
        "id": "NcnyqURFAiBG"
      },
      "execution_count": 36,
      "outputs": [
        {
          "output_type": "stream",
          "name": "stderr",
          "text": [
            "100%|██████████| 451/451 [00:05<00:00, 84.81it/s] \n"
          ]
        }
      ]
    },
    {
      "cell_type": "code",
      "source": [
        "labels_Dense = np.array(data_train3[['NameType']] )        \n",
        "labels_Dense.shape = (len(labels_Dense),) \n",
        "\n",
        "le_Dense = LabelEncoder()                                                                     \n",
        "labels_Dense = le_Dense.fit_transform(labels_Dense)                                         #จะแปลงชื่อ class เป็นตัวเลข 1, 2, 0 \n",
        "\n",
        "labels_Dense = to_categorical(labels_Dense, num_classes=3)                   #shape (180, 3) มีค่าเป็น  [0., 1., 0.]  กับ   [0., 0., 1.] กับ  [1., 0., 0.]"
      ],
      "metadata": {
        "id": "mT8YwPe2AiBG"
      },
      "execution_count": 37,
      "outputs": []
    },
    {
      "cell_type": "code",
      "source": [
        "INIT_LR = 1e-1\n",
        "BS = 8\n",
        "EPOCHS = 50\n",
        "\n",
        "aug = ImageDataGenerator(\n",
        "\t\trotation_range=15,\t\t\t\t\t\t#องศาการหมุน\n",
        "\t\twidth_shift_range=0.1,\n",
        "\t\theight_shift_range=0.1,\n",
        "\t\tshear_range=0.15,\n",
        "\t\thorizontal_flip=True,\n",
        "\t\tfill_mode=\"nearest\")\n",
        "\n",
        "callback = tf.keras.callbacks.EarlyStopping(\n",
        "                monitor=\"val_accuracy\",\n",
        "                patience=3,\n",
        "                mode=\"max\" )"
      ],
      "metadata": {
        "id": "_Ts8nRGlAiBG"
      },
      "execution_count": 38,
      "outputs": []
    },
    {
      "cell_type": "code",
      "source": [
        "base_model_Dense = tf.keras.applications.DenseNet201(input_shape=(224, 224, 3), include_top=False, weights=\"imagenet\")\n",
        "len(base_model_Dense.layers)"
      ],
      "metadata": {
        "colab": {
          "base_uri": "https://localhost:8080/"
        },
        "outputId": "42c72f25-d4c0-4deb-c0bd-9774ca1b5303",
        "id": "A1_eiTpvAiBH"
      },
      "execution_count": 39,
      "outputs": [
        {
          "output_type": "execute_result",
          "data": {
            "text/plain": [
              "707"
            ]
          },
          "metadata": {},
          "execution_count": 39
        }
      ]
    },
    {
      "cell_type": "code",
      "source": [
        "base_model_Dense.trainable = True\n",
        "for layer in base_model_Dense.layers[:500]:    #fix w & bias in layer 0-500\n",
        "    layer.trainable = False\n",
        "\n",
        "#Add custom head\n",
        "average_pooling_layer = tf.keras.layers.GlobalAveragePooling2D()(base_model_Dense.output)\n",
        "prediction_layer = tf.keras.layers.Dense(units=3, activation=\"softmax\")(average_pooling_layer)   # unit 3\n",
        "model_Dense = tf.keras.models.Model(inputs=base_model_Dense.input, outputs=prediction_layer)\n",
        "\n",
        "model_Dense.compile(optimizer=tf.keras.optimizers.RMSprop(learning_rate=0.0001), loss=\"binary_crossentropy\", metrics=[\"accuracy\"])"
      ],
      "metadata": {
        "id": "gVOHnIhUAiBH"
      },
      "execution_count": 40,
      "outputs": []
    },
    {
      "cell_type": "code",
      "source": [
        "kf_Dense = KFold(5, shuffle=True, random_state=40) \n",
        "\n",
        "oos_y = []\n",
        "oos_pred = []\n",
        "fold = 0\n",
        "\n",
        "for train, test in kf_Dense.split(data_Dense):\n",
        "    fold+=1\n",
        "    print(f\"Fold #{fold}\")\n",
        "        \n",
        "    x_train_Dense = data_Dense[train]\n",
        "    y_train_Dense = labels_Dense[train]\n",
        "    x_test_Dense = data_Dense[test]\n",
        "    y_test_Dense = labels_Dense[test]\n",
        "\n",
        "    H_Dense = model_Dense.fit( x=aug.flow(x_train_Dense, y_train_Dense, batch_size=BS),\n",
        "\t                                            validation_data=(x_test_Dense, y_test_Dense),\n",
        "\t                                            steps_per_epoch=len(x_train_Dense) // BS,\n",
        "\t                                            epochs=30,  callbacks = [callback])\n",
        "    \n",
        "    pred_Dense = model_Dense.predict(x_test_Dense)\n",
        "    \n",
        "    oos_y.append(y_test_Dense)\n",
        "    oos_pred.append(pred_Dense)  \n",
        "    print(classification_report(y_test_Dense.argmax(axis=1),\t                #แสดง report ค่า acc, recall, ...\n",
        "                                        pred_Dense.argmax(axis=1),  \n",
        "                                        target_names=le_Dense.classes_))\n",
        "\n",
        "#   score = metrics.accuracy_score(y_test3_Incep.argmax(axis=1),\t        #ค่า acc\n",
        "#                                               pred3_Incep.argmax(axis=1)\n",
        "#    print(f\"Fold score (accuracy): {score}\")\n",
        "\n",
        "#    print(confusion_matrix(testY3_Incep.argmax(axis=1),\t                       #แสดง confusion_matrix\n",
        "#                        pred3_Incep.argmax(axis=1) ) )"
      ],
      "metadata": {
        "id": "xW-aWaFsAiBH",
        "colab": {
          "base_uri": "https://localhost:8080/"
        },
        "outputId": "2bdf5c09-e0bf-49e6-ecc8-0a109e88b351"
      },
      "execution_count": 41,
      "outputs": [
        {
          "output_type": "stream",
          "name": "stdout",
          "text": [
            "Fold #1\n",
            "Epoch 1/30\n",
            "45/45 [==============================] - 158s 3s/step - loss: 0.4873 - accuracy: 0.6500 - val_loss: 0.5513 - val_accuracy: 0.5495\n",
            "Epoch 2/30\n",
            "45/45 [==============================] - 134s 3s/step - loss: 0.3173 - accuracy: 0.8222 - val_loss: 0.5296 - val_accuracy: 0.6044\n",
            "Epoch 3/30\n",
            "45/45 [==============================] - 133s 3s/step - loss: 0.2775 - accuracy: 0.8278 - val_loss: 0.5419 - val_accuracy: 0.6374\n",
            "Epoch 4/30\n",
            "45/45 [==============================] - 133s 3s/step - loss: 0.2225 - accuracy: 0.8861 - val_loss: 0.4232 - val_accuracy: 0.6593\n",
            "Epoch 5/30\n",
            "45/45 [==============================] - 133s 3s/step - loss: 0.2125 - accuracy: 0.8889 - val_loss: 0.6410 - val_accuracy: 0.6374\n",
            "Epoch 6/30\n",
            "45/45 [==============================] - 137s 3s/step - loss: 0.2035 - accuracy: 0.8917 - val_loss: 0.3928 - val_accuracy: 0.7033\n",
            "Epoch 7/30\n",
            "45/45 [==============================] - 134s 3s/step - loss: 0.1592 - accuracy: 0.9361 - val_loss: 0.4886 - val_accuracy: 0.7033\n",
            "Epoch 8/30\n",
            "45/45 [==============================] - 134s 3s/step - loss: 0.1525 - accuracy: 0.9278 - val_loss: 0.6686 - val_accuracy: 0.6923\n",
            "Epoch 9/30\n",
            "45/45 [==============================] - 133s 3s/step - loss: 0.1324 - accuracy: 0.9417 - val_loss: 0.4434 - val_accuracy: 0.7692\n",
            "Epoch 10/30\n",
            "45/45 [==============================] - 132s 3s/step - loss: 0.1171 - accuracy: 0.9389 - val_loss: 0.4413 - val_accuracy: 0.7912\n",
            "Epoch 11/30\n",
            "45/45 [==============================] - 132s 3s/step - loss: 0.1072 - accuracy: 0.9500 - val_loss: 0.4840 - val_accuracy: 0.7802\n",
            "Epoch 12/30\n",
            "45/45 [==============================] - 131s 3s/step - loss: 0.1065 - accuracy: 0.9444 - val_loss: 0.4512 - val_accuracy: 0.8132\n",
            "Epoch 13/30\n",
            "45/45 [==============================] - 133s 3s/step - loss: 0.0946 - accuracy: 0.9528 - val_loss: 0.4686 - val_accuracy: 0.8022\n",
            "Epoch 14/30\n",
            "45/45 [==============================] - 132s 3s/step - loss: 0.0995 - accuracy: 0.9667 - val_loss: 0.4392 - val_accuracy: 0.7692\n",
            "Epoch 15/30\n",
            "45/45 [==============================] - 135s 3s/step - loss: 0.0912 - accuracy: 0.9639 - val_loss: 0.4253 - val_accuracy: 0.8132\n",
            "              precision    recall  f1-score   support\n",
            "\n",
            "  Lungcancer       0.80      0.71      0.75        28\n",
            "      Normal       0.94      0.88      0.91        33\n",
            "Tuberculosis       0.71      0.83      0.77        30\n",
            "\n",
            "    accuracy                           0.81        91\n",
            "   macro avg       0.82      0.81      0.81        91\n",
            "weighted avg       0.82      0.81      0.81        91\n",
            "\n",
            "Fold #2\n",
            "Epoch 1/30\n",
            "45/45 [==============================] - 132s 3s/step - loss: 0.1618 - accuracy: 0.9235 - val_loss: 0.1575 - val_accuracy: 0.9333\n",
            "Epoch 2/30\n",
            "45/45 [==============================] - 132s 3s/step - loss: 0.1203 - accuracy: 0.9490 - val_loss: 0.0781 - val_accuracy: 0.9667\n",
            "Epoch 3/30\n",
            "45/45 [==============================] - 130s 3s/step - loss: 0.1266 - accuracy: 0.9377 - val_loss: 0.0833 - val_accuracy: 0.9667\n",
            "Epoch 4/30\n",
            "45/45 [==============================] - 130s 3s/step - loss: 0.0840 - accuracy: 0.9688 - val_loss: 0.1193 - val_accuracy: 0.9222\n",
            "Epoch 5/30\n",
            "45/45 [==============================] - 134s 3s/step - loss: 0.1019 - accuracy: 0.9462 - val_loss: 0.0615 - val_accuracy: 0.9667\n",
            "              precision    recall  f1-score   support\n",
            "\n",
            "  Lungcancer       1.00      0.94      0.97        33\n",
            "      Normal       1.00      0.96      0.98        26\n",
            "Tuberculosis       0.91      1.00      0.95        31\n",
            "\n",
            "    accuracy                           0.97        90\n",
            "   macro avg       0.97      0.97      0.97        90\n",
            "weighted avg       0.97      0.97      0.97        90\n",
            "\n",
            "Fold #3\n",
            "Epoch 1/30\n",
            "45/45 [==============================] - 132s 3s/step - loss: 0.0956 - accuracy: 0.9547 - val_loss: 0.0357 - val_accuracy: 0.9889\n",
            "Epoch 2/30\n",
            "45/45 [==============================] - 133s 3s/step - loss: 0.1070 - accuracy: 0.9433 - val_loss: 0.1363 - val_accuracy: 0.9222\n",
            "Epoch 3/30\n",
            "45/45 [==============================] - 135s 3s/step - loss: 0.1009 - accuracy: 0.9518 - val_loss: 0.1569 - val_accuracy: 0.9222\n",
            "Epoch 4/30\n",
            "45/45 [==============================] - 138s 3s/step - loss: 0.0959 - accuracy: 0.9547 - val_loss: 0.2528 - val_accuracy: 0.8667\n",
            "              precision    recall  f1-score   support\n",
            "\n",
            "  Lungcancer       1.00      0.62      0.77        29\n",
            "      Normal       1.00      0.97      0.98        33\n",
            "Tuberculosis       0.70      1.00      0.82        28\n",
            "\n",
            "    accuracy                           0.87        90\n",
            "   macro avg       0.90      0.86      0.86        90\n",
            "weighted avg       0.91      0.87      0.86        90\n",
            "\n",
            "Fold #4\n",
            "Epoch 1/30\n",
            "45/45 [==============================] - 135s 3s/step - loss: 0.0687 - accuracy: 0.9660 - val_loss: 0.1310 - val_accuracy: 0.9222\n",
            "Epoch 2/30\n",
            "45/45 [==============================] - 140s 3s/step - loss: 0.0744 - accuracy: 0.9717 - val_loss: 0.1256 - val_accuracy: 0.9333\n",
            "Epoch 3/30\n",
            "45/45 [==============================] - 140s 3s/step - loss: 0.0632 - accuracy: 0.9745 - val_loss: 0.1692 - val_accuracy: 0.9222\n",
            "Epoch 4/30\n",
            "45/45 [==============================] - 136s 3s/step - loss: 0.0996 - accuracy: 0.9433 - val_loss: 0.0657 - val_accuracy: 0.9778\n",
            "Epoch 5/30\n",
            "45/45 [==============================] - 140s 3s/step - loss: 0.0922 - accuracy: 0.9518 - val_loss: 0.0796 - val_accuracy: 0.9667\n",
            "Epoch 6/30\n",
            "45/45 [==============================] - 140s 3s/step - loss: 0.0531 - accuracy: 0.9773 - val_loss: 0.0575 - val_accuracy: 0.9667\n",
            "Epoch 7/30\n",
            "45/45 [==============================] - 138s 3s/step - loss: 0.0999 - accuracy: 0.9575 - val_loss: 0.0229 - val_accuracy: 1.0000\n",
            "Epoch 8/30\n",
            "45/45 [==============================] - 140s 3s/step - loss: 0.0696 - accuracy: 0.9632 - val_loss: 0.0905 - val_accuracy: 0.9667\n",
            "Epoch 9/30\n",
            "45/45 [==============================] - 142s 3s/step - loss: 0.0542 - accuracy: 0.9745 - val_loss: 0.0273 - val_accuracy: 0.9889\n",
            "Epoch 10/30\n",
            "45/45 [==============================] - 144s 3s/step - loss: 0.0495 - accuracy: 0.9858 - val_loss: 0.5810 - val_accuracy: 0.7222\n",
            "              precision    recall  f1-score   support\n",
            "\n",
            "  Lungcancer       1.00      0.53      0.70        30\n",
            "      Normal       1.00      0.65      0.78        31\n",
            "Tuberculosis       0.54      1.00      0.70        29\n",
            "\n",
            "    accuracy                           0.72        90\n",
            "   macro avg       0.85      0.73      0.73        90\n",
            "weighted avg       0.85      0.72      0.73        90\n",
            "\n",
            "Fold #5\n",
            "Epoch 1/30\n",
            "45/45 [==============================] - 132s 3s/step - loss: 0.0578 - accuracy: 0.9830 - val_loss: 0.3335 - val_accuracy: 0.8333\n",
            "Epoch 2/30\n",
            "45/45 [==============================] - 133s 3s/step - loss: 0.0821 - accuracy: 0.9433 - val_loss: 0.0652 - val_accuracy: 0.9667\n",
            "Epoch 3/30\n",
            "45/45 [==============================] - 130s 3s/step - loss: 0.0694 - accuracy: 0.9717 - val_loss: 0.0083 - val_accuracy: 1.0000\n",
            "Epoch 4/30\n",
            "45/45 [==============================] - 131s 3s/step - loss: 0.0613 - accuracy: 0.9717 - val_loss: 0.0085 - val_accuracy: 1.0000\n",
            "Epoch 5/30\n",
            "45/45 [==============================] - 131s 3s/step - loss: 0.0481 - accuracy: 0.9861 - val_loss: 0.0476 - val_accuracy: 0.9556\n",
            "Epoch 6/30\n",
            "45/45 [==============================] - 130s 3s/step - loss: 0.0453 - accuracy: 0.9887 - val_loss: 0.0568 - val_accuracy: 0.9667\n",
            "              precision    recall  f1-score   support\n",
            "\n",
            "  Lungcancer       1.00      0.97      0.98        30\n",
            "      Normal       1.00      0.93      0.96        28\n",
            "Tuberculosis       0.91      1.00      0.96        32\n",
            "\n",
            "    accuracy                           0.97        90\n",
            "   macro avg       0.97      0.97      0.97        90\n",
            "weighted avg       0.97      0.97      0.97        90\n",
            "\n"
          ]
        }
      ]
    },
    {
      "cell_type": "code",
      "source": [
        "oos_y = np.concatenate(oos_y)\n",
        "oos_pred = np.concatenate(oos_pred)"
      ],
      "metadata": {
        "id": "55zrtiJBAiBH"
      },
      "execution_count": 42,
      "outputs": []
    },
    {
      "cell_type": "code",
      "source": [
        "score = metrics.accuracy_score(oos_y.argmax(axis=1),\t        #ค่า acc\n",
        "                                             oos_pred.argmax(axis=1) )\n",
        "print(f\"Fold score (accuracy): {score}\")\n",
        "\n",
        "print(classification_report(oos_y.argmax(axis=1),\t                #แสดง report ค่า acc, recall, ...\n",
        "                                        oos_pred.argmax(axis=1),  \n",
        "                                        target_names=le_Dense.classes_))"
      ],
      "metadata": {
        "id": "oQK7QiZNAiBI",
        "colab": {
          "base_uri": "https://localhost:8080/"
        },
        "outputId": "20233bcf-3732-48b6-b5fb-a13775e912b5"
      },
      "execution_count": 43,
      "outputs": [
        {
          "output_type": "stream",
          "name": "stdout",
          "text": [
            "Fold score (accuracy): 0.8669623059866962\n",
            "              precision    recall  f1-score   support\n",
            "\n",
            "  Lungcancer       0.96      0.76      0.85       150\n",
            "      Normal       0.99      0.87      0.93       151\n",
            "Tuberculosis       0.73      0.97      0.83       150\n",
            "\n",
            "    accuracy                           0.87       451\n",
            "   macro avg       0.89      0.87      0.87       451\n",
            "weighted avg       0.89      0.87      0.87       451\n",
            "\n"
          ]
        }
      ]
    },
    {
      "cell_type": "markdown",
      "source": [
        "## 5) K-fold  -- DenseNet201\n",
        "\n",
        "### -->ACC = \n",
        "### -->เวลา  นาที\n",
        "\n",
        "*   BS = 16\n",
        "*   fix weight & bias in layer 0-500\n",
        "*   activation=\"softmax\"\n",
        "*   learning_rate=0.0001\n",
        "*   epoch 30"
      ],
      "metadata": {
        "id": "bVbKa1tvAiBI"
      }
    },
    {
      "cell_type": "code",
      "source": [
        "train_img_Dense = []\n",
        "for ImageName in tqdm(data_train3['ImageName']):               # รัน ชื่อรูป ในไฟล์ data_test3\n",
        "    image_path = All_3class_dir +'/' + ImageName                   # ดึงรูปในโฟล์เดอร์มาทีละรูป\n",
        "    img = cv2.imread(image_path)                                            # อ่านรูป\n",
        "    img = cv2.resize(img, (224, 224))                                       #ขนาดของ input\n",
        "    train_img_Dense.append(img)\n",
        "\n",
        "data_Dense = np.array(train_img_Dense, dtype=\"float32\") / 255.0"
      ],
      "metadata": {
        "outputId": "3bdc868c-041c-48f5-f700-e8fdc245a749",
        "colab": {
          "base_uri": "https://localhost:8080/"
        },
        "id": "HgsRsB2WAiBI"
      },
      "execution_count": 44,
      "outputs": [
        {
          "output_type": "stream",
          "name": "stderr",
          "text": [
            "100%|██████████| 451/451 [00:05<00:00, 85.20it/s] \n"
          ]
        }
      ]
    },
    {
      "cell_type": "code",
      "source": [
        "labels_Dense = np.array(data_train3[['NameType']] )        \n",
        "labels_Dense.shape = (len(labels_Dense),) \n",
        "\n",
        "le_Dense = LabelEncoder()                                                                     \n",
        "labels_Dense = le_Dense.fit_transform(labels_Dense)                                         #จะแปลงชื่อ class เป็นตัวเลข 1, 2, 0 \n",
        "\n",
        "labels_Dense = to_categorical(labels_Dense, num_classes=3)                   #shape (180, 3) มีค่าเป็น  [0., 1., 0.]  กับ   [0., 0., 1.] กับ  [1., 0., 0.]"
      ],
      "metadata": {
        "id": "DVtvXHE0AiBI"
      },
      "execution_count": 45,
      "outputs": []
    },
    {
      "cell_type": "code",
      "source": [
        "INIT_LR = 1e-1\n",
        "BS16 = 16\n",
        "EPOCHS = 50\n",
        "\n",
        "aug2 = ImageDataGenerator(\n",
        "\t\trotation_range=15,\t\t\t\t\t\t#องศาการหมุน\n",
        "\t\twidth_shift_range=0.1,\n",
        "\t\theight_shift_range=0.1,\n",
        "\t\tshear_range=0.15,\n",
        "\t\thorizontal_flip=True,\n",
        "\t\tfill_mode=\"nearest\")\n",
        "\n",
        "callback = tf.keras.callbacks.EarlyStopping(\n",
        "                monitor=\"val_accuracy\",\n",
        "                patience=3,\n",
        "                mode=\"max\" )"
      ],
      "metadata": {
        "id": "tu6QV-LXAiBJ"
      },
      "execution_count": 46,
      "outputs": []
    },
    {
      "cell_type": "code",
      "source": [
        "base_model_Dense = tf.keras.applications.DenseNet201(input_shape=(224, 224, 3), include_top=False, weights=\"imagenet\")\n",
        "len(base_model_Dense.layers)"
      ],
      "metadata": {
        "id": "lvQwkM9XAiBJ",
        "colab": {
          "base_uri": "https://localhost:8080/"
        },
        "outputId": "1fe23edc-2f68-4428-ed79-46c3ce3a8631"
      },
      "execution_count": 47,
      "outputs": [
        {
          "output_type": "execute_result",
          "data": {
            "text/plain": [
              "707"
            ]
          },
          "metadata": {},
          "execution_count": 47
        }
      ]
    },
    {
      "cell_type": "code",
      "source": [
        "base_model_Dense.trainable = True\n",
        "for layer in base_model_Dense.layers[:600]:    #fix w & bias in layer 0-600\n",
        "    layer.trainable = False\n",
        "\n",
        "#Add custom head\n",
        "average_pooling_layer = tf.keras.layers.GlobalAveragePooling2D()(base_model_Dense.output)\n",
        "prediction_layer = tf.keras.layers.Dense(units=3, activation=\"softmax\")(average_pooling_layer)   # unit 3\n",
        "model_Dense2 = tf.keras.models.Model(inputs=base_model_Dense.input, outputs=prediction_layer)\n",
        "\n",
        "model_Dense2.compile(optimizer=tf.keras.optimizers.RMSprop(learning_rate=0.0001), loss=\"binary_crossentropy\", metrics=[\"accuracy\"])"
      ],
      "metadata": {
        "id": "k7qBhwHEAiBK"
      },
      "execution_count": 48,
      "outputs": []
    },
    {
      "cell_type": "code",
      "source": [
        "kf_Dense2 = KFold(5, shuffle=True, random_state=40) \n",
        "\n",
        "oos_y2 = []\n",
        "oos_pred2 = []\n",
        "fold = 0\n",
        "\n",
        "for train, test in kf_Dense2.split(data_Dense):\n",
        "    fold+=1\n",
        "    print(f\"Fold #{fold}\")\n",
        "        \n",
        "    x_train_Dense2 = data_Dense[train]\n",
        "    y_train_Dense2 = labels_Dense[train]\n",
        "    x_test_Dense2 = data_Dense[test]\n",
        "    y_test_Dense2 = labels_Dense[test]\n",
        "\n",
        "    H_Dense2 = model_Dense2.fit( x=aug2.flow(x_train_Dense2, y_train_Dense2, batch_size=BS16),\n",
        "\t                                            validation_data=(x_test_Dense2, y_test_Dense2),\n",
        "\t                                            steps_per_epoch=len(x_train_Dense2) // BS16,\n",
        "\t                                            epochs=30,  callbacks = [callback])\n",
        "    \n",
        "    pred_Dense2 = model_Dense2.predict(x_test_Dense2)\n",
        "    \n",
        "    oos_y2.append(y_test_Dense2)\n",
        "    oos_pred2.append(pred_Dense2)  \n",
        "    print(classification_report(y_test_Dense2.argmax(axis=1),\t                #แสดง report ค่า acc, recall, ...\n",
        "                                        pred_Dense2.argmax(axis=1),  \n",
        "                                        target_names=le_Dense.classes_))\n",
        "\n",
        "#   score = metrics.accuracy_score(y_test3_Incep.argmax(axis=1),\t        #ค่า acc\n",
        "#                                               pred3_Incep.argmax(axis=1)\n",
        "#    print(f\"Fold score (accuracy): {score}\")\n",
        "\n",
        "#    print(confusion_matrix(testY3_Incep.argmax(axis=1),\t                       #แสดง confusion_matrix\n",
        "#                        pred3_Incep.argmax(axis=1) ) )"
      ],
      "metadata": {
        "id": "EL_E1RXFAiBK",
        "colab": {
          "base_uri": "https://localhost:8080/"
        },
        "outputId": "d7d246f0-8367-4978-d5c2-686479e3b293"
      },
      "execution_count": 49,
      "outputs": [
        {
          "output_type": "stream",
          "name": "stdout",
          "text": [
            "Fold #1\n",
            "Epoch 1/30\n",
            "22/22 [==============================] - 131s 5s/step - loss: 0.5335 - accuracy: 0.6570 - val_loss: 0.5158 - val_accuracy: 0.6593\n",
            "Epoch 2/30\n",
            "22/22 [==============================] - 114s 5s/step - loss: 0.3912 - accuracy: 0.7616 - val_loss: 0.4862 - val_accuracy: 0.6703\n",
            "Epoch 3/30\n",
            "22/22 [==============================] - 115s 5s/step - loss: 0.3135 - accuracy: 0.8227 - val_loss: 0.4457 - val_accuracy: 0.7033\n",
            "Epoch 4/30\n",
            "22/22 [==============================] - 114s 5s/step - loss: 0.2949 - accuracy: 0.8285 - val_loss: 0.4228 - val_accuracy: 0.6813\n",
            "Epoch 5/30\n",
            "22/22 [==============================] - 112s 5s/step - loss: 0.2592 - accuracy: 0.8750 - val_loss: 0.4161 - val_accuracy: 0.7033\n",
            "Epoch 6/30\n",
            "22/22 [==============================] - 112s 5s/step - loss: 0.2337 - accuracy: 0.8750 - val_loss: 0.3942 - val_accuracy: 0.7253\n",
            "Epoch 7/30\n",
            "22/22 [==============================] - 112s 5s/step - loss: 0.2114 - accuracy: 0.8866 - val_loss: 0.3773 - val_accuracy: 0.7363\n",
            "Epoch 8/30\n",
            "22/22 [==============================] - 112s 5s/step - loss: 0.2046 - accuracy: 0.9012 - val_loss: 0.3892 - val_accuracy: 0.7253\n",
            "Epoch 9/30\n",
            "22/22 [==============================] - 114s 5s/step - loss: 0.2001 - accuracy: 0.8866 - val_loss: 0.3602 - val_accuracy: 0.7473\n",
            "Epoch 10/30\n",
            "22/22 [==============================] - 112s 5s/step - loss: 0.1664 - accuracy: 0.9244 - val_loss: 0.4053 - val_accuracy: 0.7473\n",
            "Epoch 11/30\n",
            "22/22 [==============================] - 114s 5s/step - loss: 0.1560 - accuracy: 0.9302 - val_loss: 0.3747 - val_accuracy: 0.7582\n",
            "Epoch 12/30\n",
            "22/22 [==============================] - 117s 5s/step - loss: 0.1610 - accuracy: 0.9205 - val_loss: 0.3587 - val_accuracy: 0.7582\n",
            "Epoch 13/30\n",
            "22/22 [==============================] - 116s 5s/step - loss: 0.1421 - accuracy: 0.9535 - val_loss: 0.3339 - val_accuracy: 0.8022\n",
            "Epoch 14/30\n",
            "22/22 [==============================] - 113s 5s/step - loss: 0.1025 - accuracy: 0.9797 - val_loss: 0.3608 - val_accuracy: 0.7692\n",
            "Epoch 15/30\n",
            "22/22 [==============================] - 113s 5s/step - loss: 0.1195 - accuracy: 0.9593 - val_loss: 0.3660 - val_accuracy: 0.7802\n",
            "Epoch 16/30\n",
            "22/22 [==============================] - 114s 5s/step - loss: 0.1077 - accuracy: 0.9506 - val_loss: 0.3588 - val_accuracy: 0.8132\n",
            "Epoch 17/30\n",
            "22/22 [==============================] - 114s 5s/step - loss: 0.0988 - accuracy: 0.9716 - val_loss: 0.3743 - val_accuracy: 0.7802\n",
            "Epoch 18/30\n",
            "22/22 [==============================] - 112s 5s/step - loss: 0.0767 - accuracy: 0.9855 - val_loss: 0.3577 - val_accuracy: 0.7912\n",
            "Epoch 19/30\n",
            "22/22 [==============================] - 112s 5s/step - loss: 0.0866 - accuracy: 0.9709 - val_loss: 0.5390 - val_accuracy: 0.7363\n",
            "              precision    recall  f1-score   support\n",
            "\n",
            "  Lungcancer       0.83      0.36      0.50        28\n",
            "      Normal       0.97      0.88      0.92        33\n",
            "Tuberculosis       0.57      0.93      0.71        30\n",
            "\n",
            "    accuracy                           0.74        91\n",
            "   macro avg       0.79      0.72      0.71        91\n",
            "weighted avg       0.80      0.74      0.72        91\n",
            "\n",
            "Fold #2\n",
            "Epoch 1/30\n",
            "22/22 [==============================] - 114s 5s/step - loss: 0.1470 - accuracy: 0.9362 - val_loss: 0.0757 - val_accuracy: 0.9778\n",
            "Epoch 2/30\n",
            "22/22 [==============================] - 118s 5s/step - loss: 0.1356 - accuracy: 0.9217 - val_loss: 0.0662 - val_accuracy: 0.9778\n",
            "Epoch 3/30\n",
            "22/22 [==============================] - 114s 5s/step - loss: 0.0930 - accuracy: 0.9652 - val_loss: 0.0690 - val_accuracy: 0.9778\n",
            "Epoch 4/30\n",
            "22/22 [==============================] - 114s 5s/step - loss: 0.0684 - accuracy: 0.9826 - val_loss: 0.0846 - val_accuracy: 0.9778\n",
            "              precision    recall  f1-score   support\n",
            "\n",
            "  Lungcancer       1.00      0.94      0.97        33\n",
            "      Normal       1.00      1.00      1.00        26\n",
            "Tuberculosis       0.94      1.00      0.97        31\n",
            "\n",
            "    accuracy                           0.98        90\n",
            "   macro avg       0.98      0.98      0.98        90\n",
            "weighted avg       0.98      0.98      0.98        90\n",
            "\n",
            "Fold #3\n",
            "Epoch 1/30\n",
            "22/22 [==============================] - 112s 5s/step - loss: 0.0789 - accuracy: 0.9797 - val_loss: 0.0500 - val_accuracy: 0.9778\n",
            "Epoch 2/30\n",
            "22/22 [==============================] - 114s 5s/step - loss: 0.0740 - accuracy: 0.9710 - val_loss: 0.0557 - val_accuracy: 0.9889\n",
            "Epoch 3/30\n",
            "22/22 [==============================] - 115s 5s/step - loss: 0.0578 - accuracy: 0.9884 - val_loss: 0.0531 - val_accuracy: 0.9889\n",
            "Epoch 4/30\n",
            "22/22 [==============================] - 115s 5s/step - loss: 0.0649 - accuracy: 0.9826 - val_loss: 0.0332 - val_accuracy: 1.0000\n",
            "Epoch 5/30\n",
            "22/22 [==============================] - 115s 5s/step - loss: 0.0515 - accuracy: 0.9855 - val_loss: 0.0527 - val_accuracy: 0.9889\n",
            "Epoch 6/30\n",
            "22/22 [==============================] - 119s 5s/step - loss: 0.0578 - accuracy: 0.9884 - val_loss: 0.1162 - val_accuracy: 0.9444\n",
            "Epoch 7/30\n",
            "22/22 [==============================] - 120s 5s/step - loss: 0.0443 - accuracy: 0.9884 - val_loss: 0.0937 - val_accuracy: 0.9556\n",
            "              precision    recall  f1-score   support\n",
            "\n",
            "  Lungcancer       1.00      0.90      0.95        29\n",
            "      Normal       1.00      0.97      0.98        33\n",
            "Tuberculosis       0.88      1.00      0.93        28\n",
            "\n",
            "    accuracy                           0.96        90\n",
            "   macro avg       0.96      0.96      0.95        90\n",
            "weighted avg       0.96      0.96      0.96        90\n",
            "\n",
            "Fold #4\n",
            "Epoch 1/30\n",
            "22/22 [==============================] - 114s 5s/step - loss: 0.0458 - accuracy: 0.9855 - val_loss: 0.0244 - val_accuracy: 1.0000\n",
            "Epoch 2/30\n",
            "22/22 [==============================] - 115s 5s/step - loss: 0.0578 - accuracy: 0.9797 - val_loss: 0.0558 - val_accuracy: 0.9778\n",
            "Epoch 3/30\n",
            "22/22 [==============================] - 115s 5s/step - loss: 0.0479 - accuracy: 0.9884 - val_loss: 0.0378 - val_accuracy: 0.9889\n",
            "Epoch 4/30\n",
            "22/22 [==============================] - 115s 5s/step - loss: 0.0552 - accuracy: 0.9826 - val_loss: 0.0593 - val_accuracy: 0.9778\n",
            "              precision    recall  f1-score   support\n",
            "\n",
            "  Lungcancer       1.00      0.93      0.97        30\n",
            "      Normal       1.00      1.00      1.00        31\n",
            "Tuberculosis       0.94      1.00      0.97        29\n",
            "\n",
            "    accuracy                           0.98        90\n",
            "   macro avg       0.98      0.98      0.98        90\n",
            "weighted avg       0.98      0.98      0.98        90\n",
            "\n",
            "Fold #5\n",
            "Epoch 1/30\n",
            "22/22 [==============================] - 111s 5s/step - loss: 0.0333 - accuracy: 0.9942 - val_loss: 0.0171 - val_accuracy: 1.0000\n",
            "Epoch 2/30\n",
            "22/22 [==============================] - 112s 5s/step - loss: 0.0340 - accuracy: 0.9855 - val_loss: 0.0288 - val_accuracy: 0.9889\n",
            "Epoch 3/30\n",
            "22/22 [==============================] - 113s 5s/step - loss: 0.0397 - accuracy: 0.9884 - val_loss: 0.0227 - val_accuracy: 1.0000\n",
            "Epoch 4/30\n",
            "22/22 [==============================] - 117s 5s/step - loss: 0.0401 - accuracy: 0.9768 - val_loss: 0.0262 - val_accuracy: 0.9889\n",
            "              precision    recall  f1-score   support\n",
            "\n",
            "  Lungcancer       1.00      0.97      0.98        30\n",
            "      Normal       1.00      1.00      1.00        28\n",
            "Tuberculosis       0.97      1.00      0.98        32\n",
            "\n",
            "    accuracy                           0.99        90\n",
            "   macro avg       0.99      0.99      0.99        90\n",
            "weighted avg       0.99      0.99      0.99        90\n",
            "\n"
          ]
        }
      ]
    },
    {
      "cell_type": "code",
      "source": [
        "oos_y2 = np.concatenate(oos_y2)\n",
        "oos_pred2 = np.concatenate(oos_pred2)"
      ],
      "metadata": {
        "id": "BjiIcMCLAiBK"
      },
      "execution_count": 50,
      "outputs": []
    },
    {
      "cell_type": "code",
      "source": [
        "score = metrics.accuracy_score(oos_y2.argmax(axis=1),\t        #ค่า acc\n",
        "                                             oos_pred2.argmax(axis=1) )\n",
        "print(f\"Fold score (accuracy): {score}\")\n",
        "\n",
        "print(classification_report(oos_y2.argmax(axis=1),\t                #แสดง report ค่า acc, recall, ...\n",
        "                                        oos_pred2.argmax(axis=1),  \n",
        "                                        target_names=le_Dense.classes_))"
      ],
      "metadata": {
        "id": "hWLr0BPiAiBK",
        "colab": {
          "base_uri": "https://localhost:8080/"
        },
        "outputId": "804024d0-5073-45b3-de5d-4e23725ca263"
      },
      "execution_count": 51,
      "outputs": [
        {
          "output_type": "stream",
          "name": "stdout",
          "text": [
            "Fold score (accuracy): 0.926829268292683\n",
            "              precision    recall  f1-score   support\n",
            "\n",
            "  Lungcancer       0.98      0.83      0.90       150\n",
            "      Normal       0.99      0.97      0.98       151\n",
            "Tuberculosis       0.83      0.99      0.90       150\n",
            "\n",
            "    accuracy                           0.93       451\n",
            "   macro avg       0.94      0.93      0.93       451\n",
            "weighted avg       0.94      0.93      0.93       451\n",
            "\n"
          ]
        }
      ]
    },
    {
      "cell_type": "markdown",
      "source": [
        "## 6) K-fold  -- DenseNet201\n",
        "\n",
        "### -->ACC = \n",
        "### -->เวลา  วินาที\n",
        "\n",
        "*   BS = 32\n",
        "*   fix weight & bias in layer 0-500\n",
        "*   activation=\"softmax\"\n",
        "*   learning_rate=0.0001\n",
        "*   epoch 30"
      ],
      "metadata": {
        "id": "yRyfeaQvAiBK"
      }
    },
    {
      "cell_type": "code",
      "source": [
        "train_img_Dense = []\n",
        "for ImageName in tqdm(data_train3['ImageName']):               # รัน ชื่อรูป ในไฟล์ data_test3\n",
        "    image_path = All_3class_dir +'/' + ImageName                   # ดึงรูปในโฟล์เดอร์มาทีละรูป\n",
        "    img = cv2.imread(image_path)                                            # อ่านรูป\n",
        "    img = cv2.resize(img, (224, 224))                                       #ขนาดของ input\n",
        "    train_img_Dense.append(img)\n",
        "\n",
        "data_Dense = np.array(train_img_Dense, dtype=\"float32\") / 255.0"
      ],
      "metadata": {
        "outputId": "e3393b6f-cc14-4ef3-a6bc-699f6d61e134",
        "colab": {
          "base_uri": "https://localhost:8080/"
        },
        "id": "Fn8582xYAiBL"
      },
      "execution_count": 52,
      "outputs": [
        {
          "output_type": "stream",
          "name": "stderr",
          "text": [
            "100%|██████████| 451/451 [00:05<00:00, 86.49it/s] \n"
          ]
        }
      ]
    },
    {
      "cell_type": "code",
      "source": [
        "labels_Dense = np.array(data_train3[['NameType']] )        \n",
        "labels_Dense.shape = (len(labels_Dense),) \n",
        "\n",
        "le_Dense = LabelEncoder()                                                                     \n",
        "labels_Dense = le_Dense.fit_transform(labels_Dense)                                         #จะแปลงชื่อ class เป็นตัวเลข 1, 2, 0 \n",
        "\n",
        "labels_Dense = to_categorical(labels_Dense, num_classes=3)                   #shape (180, 3) มีค่าเป็น  [0., 1., 0.]  กับ   [0., 0., 1.] กับ  [1., 0., 0.]"
      ],
      "metadata": {
        "id": "3TvbXuhHAiBL"
      },
      "execution_count": 53,
      "outputs": []
    },
    {
      "cell_type": "code",
      "source": [
        "INIT_LR = 1e-1\n",
        "BS32 = 32\n",
        "EPOCHS = 50\n",
        "\n",
        "aug3 = ImageDataGenerator(\n",
        "\t\trotation_range=15,\t\t\t\t\t\t#องศาการหมุน\n",
        "\t\twidth_shift_range=0.1,\n",
        "\t\theight_shift_range=0.1,\n",
        "\t\tshear_range=0.15,\n",
        "\t\thorizontal_flip=True,\n",
        "\t\tfill_mode=\"nearest\")\n",
        "\n",
        "callback = tf.keras.callbacks.EarlyStopping(\n",
        "                monitor=\"val_accuracy\",\n",
        "                patience=3,\n",
        "                mode=\"max\" )"
      ],
      "metadata": {
        "id": "Dmiz5c1dAiBL"
      },
      "execution_count": 54,
      "outputs": []
    },
    {
      "cell_type": "code",
      "source": [
        "base_model_Dense = tf.keras.applications.DenseNet201(input_shape=(224, 224, 3), include_top=False, weights=\"imagenet\")\n",
        "len(base_model_Dense.layers)"
      ],
      "metadata": {
        "id": "hs8jPwWpAiBL",
        "colab": {
          "base_uri": "https://localhost:8080/"
        },
        "outputId": "845833fa-58bb-4afe-8efd-438488272b84"
      },
      "execution_count": 55,
      "outputs": [
        {
          "output_type": "execute_result",
          "data": {
            "text/plain": [
              "707"
            ]
          },
          "metadata": {},
          "execution_count": 55
        }
      ]
    },
    {
      "cell_type": "code",
      "source": [
        "base_model_Dense.trainable = True\n",
        "for layer in base_model_Dense.layers[:500]:    #fix w & bias in layer 0-500\n",
        "    layer.trainable = False\n",
        "\n",
        "#Add custom head\n",
        "average_pooling_layer = tf.keras.layers.GlobalAveragePooling2D()(base_model_Dense.output)\n",
        "prediction_layer = tf.keras.layers.Dense(units=3, activation=\"softmax\")(average_pooling_layer)   # unit 3\n",
        "model_Dense3 = tf.keras.models.Model(inputs=base_model_Dense.input, outputs=prediction_layer)\n",
        "\n",
        "model_Dense3.compile(optimizer=tf.keras.optimizers.RMSprop(learning_rate=0.0001), loss=\"binary_crossentropy\", metrics=[\"accuracy\"])"
      ],
      "metadata": {
        "id": "lXDNo8ILAiBL"
      },
      "execution_count": 56,
      "outputs": []
    },
    {
      "cell_type": "code",
      "source": [
        "kf_Dense3 = KFold(5, shuffle=True, random_state=40) \n",
        "\n",
        "oos_y3 = []\n",
        "oos_pred3 = []\n",
        "fold = 0\n",
        "\n",
        "for train, test in kf_Dense3.split(data_Dense):\n",
        "    fold+=1\n",
        "    print(f\"Fold #{fold}\")\n",
        "        \n",
        "    x_train_Dense3 = data_Dense[train]\n",
        "    y_train_Dense3 = labels_Dense[train]\n",
        "    x_test_Dense3 = data_Dense[test]\n",
        "    y_test_Dense3 = labels_Dense[test]\n",
        "\n",
        "    H_Dense3 = model_Dense3.fit( x=aug3.flow(x_train_Dense3, y_train_Dense3, batch_size=BS32),\n",
        "\t                                            validation_data=(x_test_Dense3, y_test_Dense3),\n",
        "\t                                            steps_per_epoch=len(x_train_Dense3) // BS32,\n",
        "\t                                            epochs=30,  callbacks = [callback])\n",
        "    \n",
        "    pred_Dense3 = model_Dense3.predict(x_test_Dense3)\n",
        "    \n",
        "    oos_y3.append(y_test_Dense3)\n",
        "    oos_pred3.append(pred_Dense3)  \n",
        "    print(classification_report(y_test_Dense3.argmax(axis=1),\t                #แสดง report ค่า acc, recall, ...\n",
        "                                        pred_Dense3.argmax(axis=1),  \n",
        "                                        target_names=le_Dense.classes_))\n",
        "\n",
        "#   score = metrics.accuracy_score(y_test3_Incep.argmax(axis=1),\t        #ค่า acc\n",
        "#                                               pred3_Incep.argmax(axis=1)\n",
        "#    print(f\"Fold score (accuracy): {score}\")\n",
        "\n",
        "#    print(confusion_matrix(testY3_Incep.argmax(axis=1),\t                       #แสดง confusion_matrix\n",
        "#                        pred3_Incep.argmax(axis=1) ) )"
      ],
      "metadata": {
        "id": "dD_wJLqYAiBM",
        "colab": {
          "base_uri": "https://localhost:8080/"
        },
        "outputId": "cc009b86-86bc-44e8-834a-036fd80547d9"
      },
      "execution_count": 57,
      "outputs": [
        {
          "output_type": "stream",
          "name": "stdout",
          "text": [
            "Fold #1\n",
            "Epoch 1/30\n",
            "11/11 [==============================] - 140s 11s/step - loss: 0.5279 - accuracy: 0.6128 - val_loss: 0.4957 - val_accuracy: 0.6044\n",
            "Epoch 2/30\n",
            "11/11 [==============================] - 117s 11s/step - loss: 0.3433 - accuracy: 0.7988 - val_loss: 0.5024 - val_accuracy: 0.6044\n",
            "Epoch 3/30\n",
            "11/11 [==============================] - 117s 11s/step - loss: 0.3004 - accuracy: 0.8201 - val_loss: 0.4961 - val_accuracy: 0.5824\n",
            "Epoch 4/30\n",
            "11/11 [==============================] - 120s 11s/step - loss: 0.2424 - accuracy: 0.8811 - val_loss: 0.4854 - val_accuracy: 0.6154\n",
            "Epoch 5/30\n",
            "11/11 [==============================] - 128s 12s/step - loss: 0.2054 - accuracy: 0.9176 - val_loss: 0.4746 - val_accuracy: 0.6264\n",
            "Epoch 6/30\n",
            "11/11 [==============================] - 121s 11s/step - loss: 0.1721 - accuracy: 0.9146 - val_loss: 0.4974 - val_accuracy: 0.6044\n",
            "Epoch 7/30\n",
            "11/11 [==============================] - 121s 11s/step - loss: 0.1818 - accuracy: 0.9055 - val_loss: 0.5492 - val_accuracy: 0.6264\n",
            "Epoch 8/30\n",
            "11/11 [==============================] - 130s 12s/step - loss: 0.1394 - accuracy: 0.9545 - val_loss: 0.5083 - val_accuracy: 0.6264\n",
            "              precision    recall  f1-score   support\n",
            "\n",
            "  Lungcancer       0.60      0.11      0.18        28\n",
            "      Normal       0.66      1.00      0.80        33\n",
            "Tuberculosis       0.58      0.70      0.64        30\n",
            "\n",
            "    accuracy                           0.63        91\n",
            "   macro avg       0.61      0.60      0.54        91\n",
            "weighted avg       0.62      0.63      0.55        91\n",
            "\n",
            "Fold #2\n",
            "Epoch 1/30\n",
            "11/11 [==============================] - 119s 11s/step - loss: 0.1905 - accuracy: 0.8936 - val_loss: 0.3111 - val_accuracy: 0.8000\n",
            "Epoch 2/30\n",
            "11/11 [==============================] - 120s 11s/step - loss: 0.1542 - accuracy: 0.9331 - val_loss: 0.2452 - val_accuracy: 0.8333\n",
            "Epoch 3/30\n",
            "11/11 [==============================] - 119s 11s/step - loss: 0.1255 - accuracy: 0.9544 - val_loss: 0.1960 - val_accuracy: 0.9000\n",
            "Epoch 4/30\n",
            "11/11 [==============================] - 119s 11s/step - loss: 0.1079 - accuracy: 0.9544 - val_loss: 0.1361 - val_accuracy: 0.9556\n",
            "Epoch 5/30\n",
            "11/11 [==============================] - 120s 11s/step - loss: 0.0874 - accuracy: 0.9757 - val_loss: 0.1583 - val_accuracy: 0.9222\n",
            "Epoch 6/30\n",
            "11/11 [==============================] - 119s 11s/step - loss: 0.0979 - accuracy: 0.9666 - val_loss: 0.1872 - val_accuracy: 0.9111\n",
            "Epoch 7/30\n",
            "11/11 [==============================] - 126s 12s/step - loss: 0.0628 - accuracy: 0.9818 - val_loss: 0.1716 - val_accuracy: 0.8889\n",
            "              precision    recall  f1-score   support\n",
            "\n",
            "  Lungcancer       1.00      0.70      0.82        33\n",
            "      Normal       0.96      1.00      0.98        26\n",
            "Tuberculosis       0.78      1.00      0.87        31\n",
            "\n",
            "    accuracy                           0.89        90\n",
            "   macro avg       0.91      0.90      0.89        90\n",
            "weighted avg       0.91      0.89      0.89        90\n",
            "\n",
            "Fold #3\n",
            "Epoch 1/30\n",
            "11/11 [==============================] - 120s 11s/step - loss: 0.0687 - accuracy: 0.9818 - val_loss: 0.1314 - val_accuracy: 0.9222\n",
            "Epoch 2/30\n",
            "11/11 [==============================] - 122s 11s/step - loss: 0.0533 - accuracy: 0.9848 - val_loss: 0.1782 - val_accuracy: 0.9000\n",
            "Epoch 3/30\n",
            "11/11 [==============================] - 118s 11s/step - loss: 0.0427 - accuracy: 0.9909 - val_loss: 0.1058 - val_accuracy: 0.9556\n",
            "Epoch 4/30\n",
            "11/11 [==============================] - 122s 11s/step - loss: 0.0467 - accuracy: 0.9848 - val_loss: 0.0673 - val_accuracy: 0.9778\n",
            "Epoch 5/30\n",
            "11/11 [==============================] - 120s 11s/step - loss: 0.0320 - accuracy: 0.9878 - val_loss: 0.0865 - val_accuracy: 0.9556\n",
            "Epoch 6/30\n",
            "11/11 [==============================] - 121s 11s/step - loss: 0.0432 - accuracy: 0.9909 - val_loss: 0.0577 - val_accuracy: 0.9667\n",
            "Epoch 7/30\n",
            "11/11 [==============================] - 120s 11s/step - loss: 0.0342 - accuracy: 0.9909 - val_loss: 0.0660 - val_accuracy: 0.9667\n",
            "              precision    recall  f1-score   support\n",
            "\n",
            "  Lungcancer       0.96      0.93      0.95        29\n",
            "      Normal       1.00      1.00      1.00        33\n",
            "Tuberculosis       0.93      0.96      0.95        28\n",
            "\n",
            "    accuracy                           0.97        90\n",
            "   macro avg       0.97      0.97      0.96        90\n",
            "weighted avg       0.97      0.97      0.97        90\n",
            "\n",
            "Fold #4\n",
            "Epoch 1/30\n",
            "11/11 [==============================] - 119s 11s/step - loss: 0.0440 - accuracy: 0.9909 - val_loss: 0.0245 - val_accuracy: 1.0000\n",
            "Epoch 2/30\n",
            "11/11 [==============================] - 124s 12s/step - loss: 0.0408 - accuracy: 0.9848 - val_loss: 0.0182 - val_accuracy: 1.0000\n",
            "Epoch 3/30\n",
            "11/11 [==============================] - 120s 11s/step - loss: 0.0385 - accuracy: 0.9757 - val_loss: 0.0217 - val_accuracy: 0.9889\n",
            "Epoch 4/30\n",
            "11/11 [==============================] - 118s 11s/step - loss: 0.0381 - accuracy: 0.9848 - val_loss: 0.1541 - val_accuracy: 0.9111\n",
            "              precision    recall  f1-score   support\n",
            "\n",
            "  Lungcancer       1.00      0.73      0.85        30\n",
            "      Normal       0.97      1.00      0.98        31\n",
            "Tuberculosis       0.81      1.00      0.89        29\n",
            "\n",
            "    accuracy                           0.91        90\n",
            "   macro avg       0.92      0.91      0.91        90\n",
            "weighted avg       0.93      0.91      0.91        90\n",
            "\n",
            "Fold #5\n",
            "Epoch 1/30\n",
            "11/11 [==============================] - 121s 11s/step - loss: 0.0369 - accuracy: 0.9818 - val_loss: 0.0331 - val_accuracy: 0.9778\n",
            "Epoch 2/30\n",
            "11/11 [==============================] - 119s 11s/step - loss: 0.0364 - accuracy: 0.9939 - val_loss: 0.0466 - val_accuracy: 0.9778\n",
            "Epoch 3/30\n",
            "11/11 [==============================] - 120s 11s/step - loss: 0.0347 - accuracy: 0.9909 - val_loss: 0.0572 - val_accuracy: 0.9667\n",
            "Epoch 4/30\n",
            "11/11 [==============================] - 119s 11s/step - loss: 0.0395 - accuracy: 0.9818 - val_loss: 0.0143 - val_accuracy: 1.0000\n",
            "Epoch 5/30\n",
            "11/11 [==============================] - 119s 11s/step - loss: 0.0203 - accuracy: 0.9970 - val_loss: 0.0085 - val_accuracy: 1.0000\n",
            "Epoch 6/30\n",
            "11/11 [==============================] - 131s 12s/step - loss: 0.0197 - accuracy: 0.9943 - val_loss: 0.0257 - val_accuracy: 0.9889\n",
            "Epoch 7/30\n",
            "11/11 [==============================] - 121s 11s/step - loss: 0.0256 - accuracy: 0.9970 - val_loss: 0.0148 - val_accuracy: 1.0000\n",
            "              precision    recall  f1-score   support\n",
            "\n",
            "  Lungcancer       1.00      1.00      1.00        30\n",
            "      Normal       1.00      1.00      1.00        28\n",
            "Tuberculosis       1.00      1.00      1.00        32\n",
            "\n",
            "    accuracy                           1.00        90\n",
            "   macro avg       1.00      1.00      1.00        90\n",
            "weighted avg       1.00      1.00      1.00        90\n",
            "\n"
          ]
        }
      ]
    },
    {
      "cell_type": "code",
      "source": [
        "oos_y3 = np.concatenate(oos_y3)\n",
        "oos_pred3 = np.concatenate(oos_pred3)"
      ],
      "metadata": {
        "id": "hoCNYRnFAiBM"
      },
      "execution_count": 58,
      "outputs": []
    },
    {
      "cell_type": "code",
      "source": [
        "score = metrics.accuracy_score(oos_y3.argmax(axis=1),\t        #ค่า acc\n",
        "                                             oos_pred3.argmax(axis=1) )\n",
        "print(f\"Fold score (accuracy): {score}\")\n",
        "\n",
        "print(classification_report(oos_y3.argmax(axis=1),\t                #แสดง report ค่า acc, recall, ...\n",
        "                                        oos_pred3.argmax(axis=1),  \n",
        "                                        target_names=le_Dense.classes_))"
      ],
      "metadata": {
        "id": "vOZ58lolAiBM",
        "colab": {
          "base_uri": "https://localhost:8080/"
        },
        "outputId": "ae6fb305-37cf-46d5-9c7d-d7b594f36f71"
      },
      "execution_count": 59,
      "outputs": [
        {
          "output_type": "stream",
          "name": "stdout",
          "text": [
            "Fold score (accuracy): 0.8780487804878049\n",
            "              precision    recall  f1-score   support\n",
            "\n",
            "  Lungcancer       0.97      0.70      0.81       150\n",
            "      Normal       0.89      1.00      0.94       151\n",
            "Tuberculosis       0.81      0.93      0.87       150\n",
            "\n",
            "    accuracy                           0.88       451\n",
            "   macro avg       0.89      0.88      0.87       451\n",
            "weighted avg       0.89      0.88      0.87       451\n",
            "\n"
          ]
        }
      ]
    }
  ]
}