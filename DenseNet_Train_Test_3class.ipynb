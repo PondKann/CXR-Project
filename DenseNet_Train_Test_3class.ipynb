{
  "nbformat": 4,
  "nbformat_minor": 0,
  "metadata": {
    "colab": {
      "name": "DenseNet_Train_Test_3class.ipynb",
      "provenance": [],
      "authorship_tag": "ABX9TyNj2CEcMczWpfprAMrYv4UU",
      "include_colab_link": true
    },
    "kernelspec": {
      "name": "python3",
      "display_name": "Python 3"
    },
    "language_info": {
      "name": "python"
    },
    "accelerator": "GPU"
  },
  "cells": [
    {
      "cell_type": "markdown",
      "metadata": {
        "id": "view-in-github",
        "colab_type": "text"
      },
      "source": [
        "<a href=\"https://colab.research.google.com/github/PondKann/CXR-Project/blob/main/DenseNet_Train_Test_3class.ipynb\" target=\"_parent\"><img src=\"https://colab.research.google.com/assets/colab-badge.svg\" alt=\"Open In Colab\"/></a>"
      ]
    },
    {
      "cell_type": "code",
      "execution_count": null,
      "metadata": {
        "id": "IuGc-hlXIAR_"
      },
      "outputs": [],
      "source": [
        ""
      ]
    },
    {
      "cell_type": "markdown",
      "source": [
        "###### import"
      ],
      "metadata": {
        "id": "Kpnf_sft9x4-"
      }
    },
    {
      "cell_type": "code",
      "metadata": {
        "id": "Psng6eJUdzUG"
      },
      "source": [
        "import os\n",
        "import tensorflow as tf\n",
        "import matplotlib.pyplot as plt\n",
        "%matplotlib inline\n",
        "from tensorflow.keras.preprocessing.image import ImageDataGenerator\n",
        "from tensorflow.keras.callbacks import EarlyStopping, ReduceLROnPlateau, ModelCheckpoint\n",
        "import cv2\n",
        "import numpy as np\n",
        "import pandas as pd\n",
        "from torchsummary import summary\n",
        "from skimage.io import imread, imsave\n",
        "from tqdm import tqdm\n",
        "\n",
        "from sklearn.model_selection import train_test_split\n",
        "from sklearn.metrics import accuracy_score, confusion_matrix"
      ],
      "execution_count": 4,
      "outputs": []
    },
    {
      "cell_type": "code",
      "source": [
        "# set the matplotlib backend so figures can be saved in the background\n",
        "import matplotlib\n",
        "matplotlib.use(\"Agg\")\n",
        "\n",
        "from sklearn.preprocessing import LabelEncoder\n",
        "from sklearn.metrics import classification_report\n",
        "from tensorflow.keras.optimizers import SGD, Adam, RMSprop\n",
        "from tensorflow.keras.utils import to_categorical\n",
        "from tensorflow.keras.models import load_model\n",
        "from imutils import paths\n",
        "import argparse\n",
        "\n",
        "from sklearn.model_selection import KFold\n",
        "from sklearn import metrics\n",
        "from scipy.stats import zscore\n",
        "\n",
        "\n",
        "import matplotlib.image as mpimg\n",
        "from matplotlib.pyplot import savefig\n",
        "\n",
        "import itertools\n",
        "from sklearn.metrics import confusion_matrix\n",
        "from sklearn.utils.multiclass import unique_labels"
      ],
      "metadata": {
        "id": "6f-PDKiLl2iC"
      },
      "execution_count": 5,
      "outputs": []
    },
    {
      "cell_type": "code",
      "source": [
        "import pickle\n",
        "import joblib"
      ],
      "metadata": {
        "id": "KywT8U_h4Bmb"
      },
      "execution_count": 6,
      "outputs": []
    },
    {
      "cell_type": "markdown",
      "source": [
        "######Load data // KKUmail"
      ],
      "metadata": {
        "id": "udl0zY8hAONG"
      }
    },
    {
      "cell_type": "code",
      "metadata": {
        "colab": {
          "base_uri": "https://localhost:8080/"
        },
        "outputId": "3e23bf4a-0f49-45af-c795-3ef42d3592ff",
        "id": "CZD0IvKyAONH"
      },
      "source": [
        "from google.colab import drive\n",
        "drive.mount('/content/drive')"
      ],
      "execution_count": null,
      "outputs": [
        {
          "output_type": "stream",
          "name": "stdout",
          "text": [
            "Drive already mounted at /content/drive; to attempt to forcibly remount, call drive.mount(\"/content/drive\", force_remount=True).\n"
          ]
        }
      ]
    },
    {
      "cell_type": "code",
      "source": [
        "model_dir = '/content/Shared with me/Peoject/Model h5'"
      ],
      "metadata": {
        "id": "Je7xIBdJltFv"
      },
      "execution_count": null,
      "outputs": []
    },
    {
      "cell_type": "code",
      "metadata": {
        "id": "VTByVBBEAONI"
      },
      "source": [
        "data_dir = '/content/drive/My Drive/Senior Project/CXR Image3class/Image'"
      ],
      "execution_count": null,
      "outputs": []
    },
    {
      "cell_type": "markdown",
      "source": [
        "train 3 class"
      ],
      "metadata": {
        "id": "ySK4zn_OAONI"
      }
    },
    {
      "cell_type": "code",
      "source": [
        "Normal151_dir = os.path.join(data_dir,'Normal151')\n",
        "TB150_dir = os.path.join(data_dir,'TB150')\n",
        "CA150_dir = os.path.join(data_dir,'CA150')\n",
        "\n",
        "All_3class_dir = os.path.join(data_dir,'All_3class')"
      ],
      "metadata": {
        "id": "yWVr9yKtAONI"
      },
      "execution_count": null,
      "outputs": []
    },
    {
      "cell_type": "markdown",
      "source": [
        "######Load data // Gmail"
      ],
      "metadata": {
        "id": "DVAihFMCTxcI"
      }
    },
    {
      "cell_type": "code",
      "metadata": {
        "colab": {
          "base_uri": "https://localhost:8080/"
        },
        "outputId": "bdc2be71-bdda-407d-a655-c14190996aa4",
        "id": "y1ciXCtjTxcJ"
      },
      "source": [
        "from google.colab import drive\n",
        "drive.mount('/content/drive')"
      ],
      "execution_count": 8,
      "outputs": [
        {
          "output_type": "stream",
          "name": "stdout",
          "text": [
            "Mounted at /content/drive\n"
          ]
        }
      ]
    },
    {
      "cell_type": "code",
      "metadata": {
        "id": "_Q_4EnTuTxcM"
      },
      "source": [
        "data_dir = '/content/drive/My Drive/Senior Project/CXR Image3class'"
      ],
      "execution_count": 9,
      "outputs": []
    },
    {
      "cell_type": "markdown",
      "source": [
        "train 3 class"
      ],
      "metadata": {
        "id": "M0cxoTbeTxcN"
      }
    },
    {
      "cell_type": "code",
      "source": [
        "Normal151_dir = os.path.join(data_dir,'Normal151')\n",
        "TB150_dir = os.path.join(data_dir,'TB150')\n",
        "CA150_dir = os.path.join(data_dir,'CA150')\n",
        "\n",
        "All_3class_dir = os.path.join(data_dir,'All_3class')"
      ],
      "metadata": {
        "id": "xMhNdbHoTxcN"
      },
      "execution_count": 10,
      "outputs": []
    },
    {
      "cell_type": "markdown",
      "source": [
        "####Data train 3 class  \n",
        "ข้อมูลใน All_3class_dir รวมภาพทั้ง 3 คลาส รวม 450 ภาพ TB150, Normal151 (เอามาแค่150) และ CA150 (CA คือ lungcancer)"
      ],
      "metadata": {
        "id": "YFVxlpQZf5pU"
      }
    },
    {
      "cell_type": "code",
      "source": [
        "Normal151_dir = os.path.join(data_dir,'Normal151')\n",
        "TB150_dir = os.path.join(data_dir,'TB150')\n",
        "CA150_dir = os.path.join(data_dir,'CA150')\n",
        "\n",
        "All_3class_dir = os.path.join(data_dir,'All_3class')"
      ],
      "metadata": {
        "id": "8BHyN8YKpwx9"
      },
      "execution_count": 11,
      "outputs": []
    },
    {
      "cell_type": "code",
      "source": [
        "normal = []\n",
        "for i in range(len(os.listdir(Normal151_dir))):\n",
        "    img = os.listdir(Normal151_dir)[i]\n",
        "    normal.append(img)\n",
        "    \n",
        "tnormal = pd.DataFrame({'ImageName':[normal][0],\n",
        "                                       'NameType': \"Normal\" ,\n",
        "                                       'NumberType': 0                      })"
      ],
      "metadata": {
        "id": "mT0QF8IgrfVm"
      },
      "execution_count": 12,
      "outputs": []
    },
    {
      "cell_type": "code",
      "source": [
        "tuberculosis = []\n",
        "for i in range(len(os.listdir(TB150_dir))):\n",
        "    img = os.listdir(TB150_dir)[i]\n",
        "    tuberculosis.append(img)\n",
        "\n",
        "ttuberculosis = pd.DataFrame({'ImageName':[tuberculosis][0],\n",
        "                                       'NameType': \"Tuberculosis\" ,\n",
        "                                       'NumberType': 1                        })"
      ],
      "metadata": {
        "id": "VtNPg0jwf5pW"
      },
      "execution_count": 13,
      "outputs": []
    },
    {
      "cell_type": "code",
      "source": [
        "lungcancer = []\n",
        "for i in range(len(os.listdir(CA150_dir))):\n",
        "    img = os.listdir(CA150_dir)[i]\n",
        "    lungcancer.append(img)\n",
        "\n",
        "tlungcancer = pd.DataFrame({'ImageName':[lungcancer][0],\n",
        "                                       'NameType': \"Lungcancer\" ,\n",
        "                                       'NumberType': 2                        })"
      ],
      "metadata": {
        "id": "X5pyCUl5mJGV"
      },
      "execution_count": 14,
      "outputs": []
    },
    {
      "cell_type": "code",
      "source": [
        "data_train3 = pd.concat([tnormal[:-1], ttuberculosis, tlungcancer])\n",
        "data_train3[-3:]"
      ],
      "metadata": {
        "id": "bgArCw5jnwg2",
        "outputId": "6e99d35e-f402-4056-b02e-bdfc23b374f0",
        "colab": {
          "base_uri": "https://localhost:8080/",
          "height": 0
        }
      },
      "execution_count": 15,
      "outputs": [
        {
          "output_type": "execute_result",
          "data": {
            "text/plain": [
              "    ImageName    NameType  NumberType\n",
              "147   ca7.jpg  Lungcancer           2\n",
              "148   ca1.jpg  Lungcancer           2\n",
              "149   ca8.jpg  Lungcancer           2"
            ],
            "text/html": [
              "\n",
              "  <div id=\"df-e4fb5ccc-6ec3-4536-af90-3b9d51296a6f\">\n",
              "    <div class=\"colab-df-container\">\n",
              "      <div>\n",
              "<style scoped>\n",
              "    .dataframe tbody tr th:only-of-type {\n",
              "        vertical-align: middle;\n",
              "    }\n",
              "\n",
              "    .dataframe tbody tr th {\n",
              "        vertical-align: top;\n",
              "    }\n",
              "\n",
              "    .dataframe thead th {\n",
              "        text-align: right;\n",
              "    }\n",
              "</style>\n",
              "<table border=\"1\" class=\"dataframe\">\n",
              "  <thead>\n",
              "    <tr style=\"text-align: right;\">\n",
              "      <th></th>\n",
              "      <th>ImageName</th>\n",
              "      <th>NameType</th>\n",
              "      <th>NumberType</th>\n",
              "    </tr>\n",
              "  </thead>\n",
              "  <tbody>\n",
              "    <tr>\n",
              "      <th>147</th>\n",
              "      <td>ca7.jpg</td>\n",
              "      <td>Lungcancer</td>\n",
              "      <td>2</td>\n",
              "    </tr>\n",
              "    <tr>\n",
              "      <th>148</th>\n",
              "      <td>ca1.jpg</td>\n",
              "      <td>Lungcancer</td>\n",
              "      <td>2</td>\n",
              "    </tr>\n",
              "    <tr>\n",
              "      <th>149</th>\n",
              "      <td>ca8.jpg</td>\n",
              "      <td>Lungcancer</td>\n",
              "      <td>2</td>\n",
              "    </tr>\n",
              "  </tbody>\n",
              "</table>\n",
              "</div>\n",
              "      <button class=\"colab-df-convert\" onclick=\"convertToInteractive('df-e4fb5ccc-6ec3-4536-af90-3b9d51296a6f')\"\n",
              "              title=\"Convert this dataframe to an interactive table.\"\n",
              "              style=\"display:none;\">\n",
              "        \n",
              "  <svg xmlns=\"http://www.w3.org/2000/svg\" height=\"24px\"viewBox=\"0 0 24 24\"\n",
              "       width=\"24px\">\n",
              "    <path d=\"M0 0h24v24H0V0z\" fill=\"none\"/>\n",
              "    <path d=\"M18.56 5.44l.94 2.06.94-2.06 2.06-.94-2.06-.94-.94-2.06-.94 2.06-2.06.94zm-11 1L8.5 8.5l.94-2.06 2.06-.94-2.06-.94L8.5 2.5l-.94 2.06-2.06.94zm10 10l.94 2.06.94-2.06 2.06-.94-2.06-.94-.94-2.06-.94 2.06-2.06.94z\"/><path d=\"M17.41 7.96l-1.37-1.37c-.4-.4-.92-.59-1.43-.59-.52 0-1.04.2-1.43.59L10.3 9.45l-7.72 7.72c-.78.78-.78 2.05 0 2.83L4 21.41c.39.39.9.59 1.41.59.51 0 1.02-.2 1.41-.59l7.78-7.78 2.81-2.81c.8-.78.8-2.07 0-2.86zM5.41 20L4 18.59l7.72-7.72 1.47 1.35L5.41 20z\"/>\n",
              "  </svg>\n",
              "      </button>\n",
              "      \n",
              "  <style>\n",
              "    .colab-df-container {\n",
              "      display:flex;\n",
              "      flex-wrap:wrap;\n",
              "      gap: 12px;\n",
              "    }\n",
              "\n",
              "    .colab-df-convert {\n",
              "      background-color: #E8F0FE;\n",
              "      border: none;\n",
              "      border-radius: 50%;\n",
              "      cursor: pointer;\n",
              "      display: none;\n",
              "      fill: #1967D2;\n",
              "      height: 32px;\n",
              "      padding: 0 0 0 0;\n",
              "      width: 32px;\n",
              "    }\n",
              "\n",
              "    .colab-df-convert:hover {\n",
              "      background-color: #E2EBFA;\n",
              "      box-shadow: 0px 1px 2px rgba(60, 64, 67, 0.3), 0px 1px 3px 1px rgba(60, 64, 67, 0.15);\n",
              "      fill: #174EA6;\n",
              "    }\n",
              "\n",
              "    [theme=dark] .colab-df-convert {\n",
              "      background-color: #3B4455;\n",
              "      fill: #D2E3FC;\n",
              "    }\n",
              "\n",
              "    [theme=dark] .colab-df-convert:hover {\n",
              "      background-color: #434B5C;\n",
              "      box-shadow: 0px 1px 3px 1px rgba(0, 0, 0, 0.15);\n",
              "      filter: drop-shadow(0px 1px 2px rgba(0, 0, 0, 0.3));\n",
              "      fill: #FFFFFF;\n",
              "    }\n",
              "  </style>\n",
              "\n",
              "      <script>\n",
              "        const buttonEl =\n",
              "          document.querySelector('#df-e4fb5ccc-6ec3-4536-af90-3b9d51296a6f button.colab-df-convert');\n",
              "        buttonEl.style.display =\n",
              "          google.colab.kernel.accessAllowed ? 'block' : 'none';\n",
              "\n",
              "        async function convertToInteractive(key) {\n",
              "          const element = document.querySelector('#df-e4fb5ccc-6ec3-4536-af90-3b9d51296a6f');\n",
              "          const dataTable =\n",
              "            await google.colab.kernel.invokeFunction('convertToInteractive',\n",
              "                                                     [key], {});\n",
              "          if (!dataTable) return;\n",
              "\n",
              "          const docLinkHtml = 'Like what you see? Visit the ' +\n",
              "            '<a target=\"_blank\" href=https://colab.research.google.com/notebooks/data_table.ipynb>data table notebook</a>'\n",
              "            + ' to learn more about interactive tables.';\n",
              "          element.innerHTML = '';\n",
              "          dataTable['output_type'] = 'display_data';\n",
              "          await google.colab.output.renderOutput(dataTable, element);\n",
              "          const docLink = document.createElement('div');\n",
              "          docLink.innerHTML = docLinkHtml;\n",
              "          element.appendChild(docLink);\n",
              "        }\n",
              "      </script>\n",
              "    </div>\n",
              "  </div>\n",
              "  "
            ]
          },
          "metadata": {},
          "execution_count": 15
        }
      ]
    },
    {
      "cell_type": "markdown",
      "source": [
        "# Pretrained  "
      ],
      "metadata": {
        "id": "EKG-WH9C1WVd"
      }
    },
    {
      "cell_type": "markdown",
      "source": [
        "#### 8  soft pre cate\n",
        "--> 0.769"
      ],
      "metadata": {
        "id": "ptXf8xMxeuHa"
      }
    },
    {
      "cell_type": "code",
      "source": [
        "BS = 8                                                      ##\n",
        "filepath = \"model8_soft_pre_cate.h5\"                  ##\n",
        "\n",
        "train_img_Dense = []\n",
        "for ImageName in tqdm(data_train3['ImageName']):              \n",
        "    image_path = All_3class_dir +'/' + ImageName                  \n",
        "    img = cv2.imread(image_path)                                          \n",
        "    img = cv2.resize(img, (224, 224))                                      \n",
        "    train_img_Dense.append(img)\n",
        "data_Dense = np.array(train_img_Dense, dtype=\"float32\") / 255.0\n",
        "\n",
        "labels_Dense = np.array(data_train3[['NameType']] )        \n",
        "labels_Dense.shape = (len(labels_Dense),) \n",
        "le_Dense = LabelEncoder()                                                                     \n",
        "labels_Dense = le_Dense.fit_transform(labels_Dense)                                         \n",
        "labels_Dense = to_categorical(labels_Dense, num_classes=3)                   \n",
        "\n",
        "aug = ImageDataGenerator(\trotation_range=15,\t\t\t\twidth_shift_range=0.1, \t\theight_shift_range=0.1,\n",
        "\t\tshear_range=0.15,\t\thorizontal_flip=True,  \t\tfill_mode=\"nearest\")\n",
        "\n",
        "callback = tf.keras.callbacks.EarlyStopping(  monitor=\"val_accuracy\",    patience=15,    mode=\"max\" )\n",
        "\n",
        "checkpoint = ModelCheckpoint(filepath, monitor='val_accuracy', verbose=1, \n",
        "                    save_best_only=True, mode='max')\n",
        "\n",
        "reduce_lr = ReduceLROnPlateau(monitor='val_accuracy', factor=0.5, patience=6, \n",
        "                                   verbose=1, mode='max', min_lr=0.00001)"
      ],
      "metadata": {
        "outputId": "6bf3bdcd-3542-4792-e2bb-ba228bb9a8d7",
        "colab": {
          "base_uri": "https://localhost:8080/"
        },
        "id": "7afbowvMeuHa"
      },
      "execution_count": 20,
      "outputs": [
        {
          "output_type": "stream",
          "name": "stderr",
          "text": [
            "100%|██████████| 450/450 [00:05<00:00, 86.71it/s]\n"
          ]
        }
      ]
    },
    {
      "cell_type": "code",
      "source": [
        "(x_train_Dense, x_test_Dense, y_train_Dense, y_test_Dense ) = train_test_split(data_Dense, labels_Dense,\n",
        "\t                                                                                                test_size=0.25, random_state=40)"
      ],
      "metadata": {
        "id": "MdBFo6PreuHb"
      },
      "execution_count": 21,
      "outputs": []
    },
    {
      "cell_type": "code",
      "source": [
        "base_model_Dense = tf.keras.applications.DenseNet201(input_shape=(224, 224, 3), include_top=False, weights=\"imagenet\")\n",
        "base_model_Dense.trainable=False\n",
        "\n",
        "#Add custom head\n",
        "average_pooling_layer = tf.keras.layers.GlobalAveragePooling2D()(base_model_Dense.output)\n",
        "prediction_layer = tf.keras.layers.Dense(units=3, activation=\"softmax\")(average_pooling_layer)   \n",
        "model_Dense = tf.keras.models.Model(inputs=base_model_Dense.input, outputs=prediction_layer)\n",
        "\n",
        "model_Dense.compile(optimizer=RMSprop(learning_rate=0.0001), loss=\"categorical_crossentropy\", metrics=[\"accuracy\"])\n",
        "\n",
        "##\n",
        "H8_soft_pre_cate = model_Dense.fit( x=aug.flow(x_train_Dense, y_train_Dense, batch_size=BS),\n",
        "\t                                            validation_data=(x_test_Dense, y_test_Dense),\n",
        "\t                                            steps_per_epoch=len(x_train_Dense) // BS,\n",
        "\t                                            epochs=100,  callbacks = [callback, checkpoint, reduce_lr])\n",
        "##\n",
        "pred_H8_soft_pre_cate = model_Dense.predict(x_test_Dense)\n",
        "    \n",
        "\n",
        "print(classification_report(y_test_Dense.argmax(axis=1),\t                \n",
        "                                        pred_H8_soft_pre_cate.argmax(axis=1),  \n",
        "                                        target_names=le_Dense.classes_))\n",
        "\n",
        "# #download ไฟล์ลงเครื่อง\n",
        "# from google.colab import files\n",
        "# files.download( filepath)       "
      ],
      "metadata": {
        "id": "xLiD50jleuHc",
        "outputId": "304216e3-bdec-4918-c02f-eea89cd949e5",
        "colab": {
          "base_uri": "https://localhost:8080/"
        }
      },
      "execution_count": 22,
      "outputs": [
        {
          "output_type": "stream",
          "name": "stdout",
          "text": [
            "Epoch 1/100\n",
            "42/42 [==============================] - ETA: 0s - loss: 1.1617 - accuracy: 0.3891\n",
            "Epoch 1: val_accuracy improved from -inf to 0.51327, saving model to model8_soft_pre_cate.h5\n",
            "42/42 [==============================] - 33s 331ms/step - loss: 1.1617 - accuracy: 0.3891 - val_loss: 1.0034 - val_accuracy: 0.5133 - lr: 1.0000e-04\n",
            "Epoch 2/100\n",
            "42/42 [==============================] - ETA: 0s - loss: 0.9908 - accuracy: 0.5228\n",
            "Epoch 2: val_accuracy improved from 0.51327 to 0.54867, saving model to model8_soft_pre_cate.h5\n",
            "42/42 [==============================] - 9s 206ms/step - loss: 0.9908 - accuracy: 0.5228 - val_loss: 0.9785 - val_accuracy: 0.5487 - lr: 1.0000e-04\n",
            "Epoch 3/100\n",
            "42/42 [==============================] - ETA: 0s - loss: 0.9777 - accuracy: 0.5015\n",
            "Epoch 3: val_accuracy improved from 0.54867 to 0.58407, saving model to model8_soft_pre_cate.h5\n",
            "42/42 [==============================] - 9s 203ms/step - loss: 0.9777 - accuracy: 0.5015 - val_loss: 0.9512 - val_accuracy: 0.5841 - lr: 1.0000e-04\n",
            "Epoch 4/100\n",
            "42/42 [==============================] - ETA: 0s - loss: 0.9212 - accuracy: 0.5593\n",
            "Epoch 4: val_accuracy improved from 0.58407 to 0.61947, saving model to model8_soft_pre_cate.h5\n",
            "42/42 [==============================] - 9s 204ms/step - loss: 0.9212 - accuracy: 0.5593 - val_loss: 0.9298 - val_accuracy: 0.6195 - lr: 1.0000e-04\n",
            "Epoch 5/100\n",
            "42/42 [==============================] - ETA: 0s - loss: 0.9209 - accuracy: 0.5593\n",
            "Epoch 5: val_accuracy did not improve from 0.61947\n",
            "42/42 [==============================] - 8s 178ms/step - loss: 0.9209 - accuracy: 0.5593 - val_loss: 0.9105 - val_accuracy: 0.6018 - lr: 1.0000e-04\n",
            "Epoch 6/100\n",
            "42/42 [==============================] - ETA: 0s - loss: 0.9186 - accuracy: 0.5866\n",
            "Epoch 6: val_accuracy improved from 0.61947 to 0.64602, saving model to model8_soft_pre_cate.h5\n",
            "42/42 [==============================] - 9s 216ms/step - loss: 0.9186 - accuracy: 0.5866 - val_loss: 0.8903 - val_accuracy: 0.6460 - lr: 1.0000e-04\n",
            "Epoch 7/100\n",
            "42/42 [==============================] - ETA: 0s - loss: 0.8586 - accuracy: 0.6071\n",
            "Epoch 7: val_accuracy improved from 0.64602 to 0.65487, saving model to model8_soft_pre_cate.h5\n",
            "42/42 [==============================] - 9s 203ms/step - loss: 0.8586 - accuracy: 0.6071 - val_loss: 0.8743 - val_accuracy: 0.6549 - lr: 1.0000e-04\n",
            "Epoch 8/100\n",
            "42/42 [==============================] - ETA: 0s - loss: 0.8482 - accuracy: 0.6292\n",
            "Epoch 8: val_accuracy improved from 0.65487 to 0.67257, saving model to model8_soft_pre_cate.h5\n",
            "42/42 [==============================] - 9s 204ms/step - loss: 0.8482 - accuracy: 0.6292 - val_loss: 0.8627 - val_accuracy: 0.6726 - lr: 1.0000e-04\n",
            "Epoch 9/100\n",
            "42/42 [==============================] - ETA: 0s - loss: 0.8096 - accuracy: 0.6687\n",
            "Epoch 9: val_accuracy improved from 0.67257 to 0.69027, saving model to model8_soft_pre_cate.h5\n",
            "42/42 [==============================] - 9s 204ms/step - loss: 0.8096 - accuracy: 0.6687 - val_loss: 0.8444 - val_accuracy: 0.6903 - lr: 1.0000e-04\n",
            "Epoch 10/100\n",
            "42/42 [==============================] - ETA: 0s - loss: 0.7984 - accuracy: 0.6535\n",
            "Epoch 10: val_accuracy did not improve from 0.69027\n",
            "42/42 [==============================] - 7s 165ms/step - loss: 0.7984 - accuracy: 0.6535 - val_loss: 0.8344 - val_accuracy: 0.6637 - lr: 1.0000e-04\n",
            "Epoch 11/100\n",
            "42/42 [==============================] - ETA: 0s - loss: 0.8036 - accuracy: 0.6474\n",
            "Epoch 11: val_accuracy improved from 0.69027 to 0.71681, saving model to model8_soft_pre_cate.h5\n",
            "42/42 [==============================] - 9s 205ms/step - loss: 0.8036 - accuracy: 0.6474 - val_loss: 0.8207 - val_accuracy: 0.7168 - lr: 1.0000e-04\n",
            "Epoch 12/100\n",
            "42/42 [==============================] - ETA: 0s - loss: 0.7579 - accuracy: 0.6930\n",
            "Epoch 12: val_accuracy did not improve from 0.71681\n",
            "42/42 [==============================] - 7s 166ms/step - loss: 0.7579 - accuracy: 0.6930 - val_loss: 0.8088 - val_accuracy: 0.6991 - lr: 1.0000e-04\n",
            "Epoch 13/100\n",
            "42/42 [==============================] - ETA: 0s - loss: 0.7428 - accuracy: 0.6839\n",
            "Epoch 13: val_accuracy did not improve from 0.71681\n",
            "42/42 [==============================] - 7s 165ms/step - loss: 0.7428 - accuracy: 0.6839 - val_loss: 0.8002 - val_accuracy: 0.6726 - lr: 1.0000e-04\n",
            "Epoch 14/100\n",
            "42/42 [==============================] - ETA: 0s - loss: 0.7536 - accuracy: 0.6778\n",
            "Epoch 14: val_accuracy did not improve from 0.71681\n",
            "42/42 [==============================] - 9s 226ms/step - loss: 0.7536 - accuracy: 0.6778 - val_loss: 0.7956 - val_accuracy: 0.6726 - lr: 1.0000e-04\n",
            "Epoch 15/100\n",
            "42/42 [==============================] - ETA: 0s - loss: 0.7370 - accuracy: 0.6960\n",
            "Epoch 15: val_accuracy did not improve from 0.71681\n",
            "42/42 [==============================] - 13s 296ms/step - loss: 0.7370 - accuracy: 0.6960 - val_loss: 0.7839 - val_accuracy: 0.6991 - lr: 1.0000e-04\n",
            "Epoch 16/100\n",
            "42/42 [==============================] - ETA: 0s - loss: 0.7079 - accuracy: 0.6991\n",
            "Epoch 16: val_accuracy improved from 0.71681 to 0.72566, saving model to model8_soft_pre_cate.h5\n",
            "42/42 [==============================] - 9s 204ms/step - loss: 0.7079 - accuracy: 0.6991 - val_loss: 0.7746 - val_accuracy: 0.7257 - lr: 1.0000e-04\n",
            "Epoch 17/100\n",
            "42/42 [==============================] - ETA: 0s - loss: 0.7217 - accuracy: 0.6900\n",
            "Epoch 17: val_accuracy did not improve from 0.72566\n",
            "42/42 [==============================] - 7s 168ms/step - loss: 0.7217 - accuracy: 0.6900 - val_loss: 0.7667 - val_accuracy: 0.7257 - lr: 1.0000e-04\n",
            "Epoch 18/100\n",
            "42/42 [==============================] - ETA: 0s - loss: 0.6884 - accuracy: 0.7264\n",
            "Epoch 18: val_accuracy improved from 0.72566 to 0.74336, saving model to model8_soft_pre_cate.h5\n",
            "42/42 [==============================] - 9s 204ms/step - loss: 0.6884 - accuracy: 0.7264 - val_loss: 0.7598 - val_accuracy: 0.7434 - lr: 1.0000e-04\n",
            "Epoch 19/100\n",
            "42/42 [==============================] - ETA: 0s - loss: 0.6978 - accuracy: 0.6960\n",
            "Epoch 19: val_accuracy did not improve from 0.74336\n",
            "42/42 [==============================] - 7s 165ms/step - loss: 0.6978 - accuracy: 0.6960 - val_loss: 0.7553 - val_accuracy: 0.7345 - lr: 1.0000e-04\n",
            "Epoch 20/100\n",
            "42/42 [==============================] - ETA: 0s - loss: 0.6714 - accuracy: 0.7173\n",
            "Epoch 20: val_accuracy did not improve from 0.74336\n",
            "42/42 [==============================] - 7s 162ms/step - loss: 0.6714 - accuracy: 0.7173 - val_loss: 0.7497 - val_accuracy: 0.7345 - lr: 1.0000e-04\n",
            "Epoch 21/100\n",
            "42/42 [==============================] - ETA: 0s - loss: 0.6804 - accuracy: 0.7325\n",
            "Epoch 21: val_accuracy did not improve from 0.74336\n",
            "42/42 [==============================] - 7s 164ms/step - loss: 0.6804 - accuracy: 0.7325 - val_loss: 0.7425 - val_accuracy: 0.6991 - lr: 1.0000e-04\n",
            "Epoch 22/100\n",
            "42/42 [==============================] - ETA: 0s - loss: 0.6549 - accuracy: 0.7447\n",
            "Epoch 22: val_accuracy improved from 0.74336 to 0.76106, saving model to model8_soft_pre_cate.h5\n",
            "42/42 [==============================] - 9s 205ms/step - loss: 0.6549 - accuracy: 0.7447 - val_loss: 0.7329 - val_accuracy: 0.7611 - lr: 1.0000e-04\n",
            "Epoch 23/100\n",
            "42/42 [==============================] - ETA: 0s - loss: 0.6459 - accuracy: 0.7447\n",
            "Epoch 23: val_accuracy did not improve from 0.76106\n",
            "42/42 [==============================] - 7s 168ms/step - loss: 0.6459 - accuracy: 0.7447 - val_loss: 0.7272 - val_accuracy: 0.7611 - lr: 1.0000e-04\n",
            "Epoch 24/100\n",
            "42/42 [==============================] - ETA: 0s - loss: 0.6475 - accuracy: 0.7386\n",
            "Epoch 24: val_accuracy did not improve from 0.76106\n",
            "42/42 [==============================] - 7s 165ms/step - loss: 0.6475 - accuracy: 0.7386 - val_loss: 0.7264 - val_accuracy: 0.7168 - lr: 1.0000e-04\n",
            "Epoch 25/100\n",
            "42/42 [==============================] - ETA: 0s - loss: 0.6533 - accuracy: 0.7416\n",
            "Epoch 25: val_accuracy did not improve from 0.76106\n",
            "42/42 [==============================] - 7s 164ms/step - loss: 0.6533 - accuracy: 0.7416 - val_loss: 0.7198 - val_accuracy: 0.7434 - lr: 1.0000e-04\n",
            "Epoch 26/100\n",
            "42/42 [==============================] - ETA: 0s - loss: 0.6231 - accuracy: 0.7690\n",
            "Epoch 26: val_accuracy did not improve from 0.76106\n",
            "42/42 [==============================] - 8s 182ms/step - loss: 0.6231 - accuracy: 0.7690 - val_loss: 0.7147 - val_accuracy: 0.7522 - lr: 1.0000e-04\n",
            "Epoch 27/100\n",
            "42/42 [==============================] - ETA: 0s - loss: 0.6066 - accuracy: 0.7751\n",
            "Epoch 27: val_accuracy did not improve from 0.76106\n",
            "42/42 [==============================] - 7s 169ms/step - loss: 0.6066 - accuracy: 0.7751 - val_loss: 0.7179 - val_accuracy: 0.7345 - lr: 1.0000e-04\n",
            "Epoch 28/100\n",
            "42/42 [==============================] - ETA: 0s - loss: 0.6246 - accuracy: 0.7629\n",
            "Epoch 28: val_accuracy did not improve from 0.76106\n",
            "\n",
            "Epoch 28: ReduceLROnPlateau reducing learning rate to 4.999999873689376e-05.\n",
            "42/42 [==============================] - 10s 242ms/step - loss: 0.6246 - accuracy: 0.7629 - val_loss: 0.7034 - val_accuracy: 0.7522 - lr: 1.0000e-04\n",
            "Epoch 29/100\n",
            "42/42 [==============================] - ETA: 0s - loss: 0.5880 - accuracy: 0.7629\n",
            "Epoch 29: val_accuracy improved from 0.76106 to 0.76991, saving model to model8_soft_pre_cate.h5\n",
            "42/42 [==============================] - 11s 253ms/step - loss: 0.5880 - accuracy: 0.7629 - val_loss: 0.7014 - val_accuracy: 0.7699 - lr: 5.0000e-05\n",
            "Epoch 30/100\n",
            "42/42 [==============================] - ETA: 0s - loss: 0.6298 - accuracy: 0.7477\n",
            "Epoch 30: val_accuracy did not improve from 0.76991\n",
            "42/42 [==============================] - 7s 163ms/step - loss: 0.6298 - accuracy: 0.7477 - val_loss: 0.6988 - val_accuracy: 0.7699 - lr: 5.0000e-05\n",
            "Epoch 31/100\n",
            "42/42 [==============================] - ETA: 0s - loss: 0.6078 - accuracy: 0.7538\n",
            "Epoch 31: val_accuracy did not improve from 0.76991\n",
            "42/42 [==============================] - 7s 162ms/step - loss: 0.6078 - accuracy: 0.7538 - val_loss: 0.6986 - val_accuracy: 0.7522 - lr: 5.0000e-05\n",
            "Epoch 32/100\n",
            "42/42 [==============================] - ETA: 0s - loss: 0.6042 - accuracy: 0.7264\n",
            "Epoch 32: val_accuracy did not improve from 0.76991\n",
            "42/42 [==============================] - 7s 163ms/step - loss: 0.6042 - accuracy: 0.7264 - val_loss: 0.6944 - val_accuracy: 0.7611 - lr: 5.0000e-05\n",
            "Epoch 33/100\n",
            "42/42 [==============================] - ETA: 0s - loss: 0.5751 - accuracy: 0.7842\n",
            "Epoch 33: val_accuracy did not improve from 0.76991\n",
            "42/42 [==============================] - 7s 167ms/step - loss: 0.5751 - accuracy: 0.7842 - val_loss: 0.6933 - val_accuracy: 0.7611 - lr: 5.0000e-05\n",
            "Epoch 34/100\n",
            "42/42 [==============================] - ETA: 0s - loss: 0.5952 - accuracy: 0.7629\n",
            "Epoch 34: val_accuracy did not improve from 0.76991\n",
            "42/42 [==============================] - 7s 163ms/step - loss: 0.5952 - accuracy: 0.7629 - val_loss: 0.6911 - val_accuracy: 0.7522 - lr: 5.0000e-05\n",
            "Epoch 35/100\n",
            "42/42 [==============================] - ETA: 0s - loss: 0.5936 - accuracy: 0.7660\n",
            "Epoch 35: val_accuracy did not improve from 0.76991\n",
            "\n",
            "Epoch 35: ReduceLROnPlateau reducing learning rate to 2.499999936844688e-05.\n",
            "42/42 [==============================] - 7s 164ms/step - loss: 0.5936 - accuracy: 0.7660 - val_loss: 0.6885 - val_accuracy: 0.7699 - lr: 5.0000e-05\n",
            "Epoch 36/100\n",
            "42/42 [==============================] - ETA: 0s - loss: 0.6031 - accuracy: 0.7416\n",
            "Epoch 36: val_accuracy did not improve from 0.76991\n",
            "42/42 [==============================] - 7s 164ms/step - loss: 0.6031 - accuracy: 0.7416 - val_loss: 0.6888 - val_accuracy: 0.7699 - lr: 2.5000e-05\n",
            "Epoch 37/100\n",
            "42/42 [==============================] - ETA: 0s - loss: 0.6018 - accuracy: 0.7386\n",
            "Epoch 37: val_accuracy did not improve from 0.76991\n",
            "42/42 [==============================] - 7s 164ms/step - loss: 0.6018 - accuracy: 0.7386 - val_loss: 0.6881 - val_accuracy: 0.7699 - lr: 2.5000e-05\n",
            "Epoch 38/100\n",
            "42/42 [==============================] - ETA: 0s - loss: 0.5966 - accuracy: 0.7720\n",
            "Epoch 38: val_accuracy did not improve from 0.76991\n",
            "42/42 [==============================] - 7s 165ms/step - loss: 0.5966 - accuracy: 0.7720 - val_loss: 0.6873 - val_accuracy: 0.7611 - lr: 2.5000e-05\n",
            "Epoch 39/100\n",
            "42/42 [==============================] - ETA: 0s - loss: 0.5801 - accuracy: 0.7568\n",
            "Epoch 39: val_accuracy did not improve from 0.76991\n",
            "42/42 [==============================] - 7s 163ms/step - loss: 0.5801 - accuracy: 0.7568 - val_loss: 0.6851 - val_accuracy: 0.7611 - lr: 2.5000e-05\n",
            "Epoch 40/100\n",
            "42/42 [==============================] - ETA: 0s - loss: 0.5910 - accuracy: 0.7629\n",
            "Epoch 40: val_accuracy did not improve from 0.76991\n",
            "42/42 [==============================] - 7s 164ms/step - loss: 0.5910 - accuracy: 0.7629 - val_loss: 0.6842 - val_accuracy: 0.7699 - lr: 2.5000e-05\n",
            "Epoch 41/100\n",
            "42/42 [==============================] - ETA: 0s - loss: 0.5772 - accuracy: 0.7781\n",
            "Epoch 41: val_accuracy did not improve from 0.76991\n",
            "\n",
            "Epoch 41: ReduceLROnPlateau reducing learning rate to 1.249999968422344e-05.\n",
            "42/42 [==============================] - 7s 163ms/step - loss: 0.5772 - accuracy: 0.7781 - val_loss: 0.6831 - val_accuracy: 0.7699 - lr: 2.5000e-05\n",
            "Epoch 42/100\n",
            "42/42 [==============================] - ETA: 0s - loss: 0.5892 - accuracy: 0.7508\n",
            "Epoch 42: val_accuracy did not improve from 0.76991\n",
            "42/42 [==============================] - 7s 162ms/step - loss: 0.5892 - accuracy: 0.7508 - val_loss: 0.6830 - val_accuracy: 0.7699 - lr: 1.2500e-05\n",
            "Epoch 43/100\n",
            "42/42 [==============================] - ETA: 0s - loss: 0.5778 - accuracy: 0.7872\n",
            "Epoch 43: val_accuracy did not improve from 0.76991\n",
            "42/42 [==============================] - 7s 164ms/step - loss: 0.5778 - accuracy: 0.7872 - val_loss: 0.6824 - val_accuracy: 0.7699 - lr: 1.2500e-05\n",
            "Epoch 44/100\n",
            "42/42 [==============================] - ETA: 0s - loss: 0.5689 - accuracy: 0.7781\n",
            "Epoch 44: val_accuracy did not improve from 0.76991\n",
            "42/42 [==============================] - 7s 163ms/step - loss: 0.5689 - accuracy: 0.7781 - val_loss: 0.6819 - val_accuracy: 0.7611 - lr: 1.2500e-05\n",
            "              precision    recall  f1-score   support\n",
            "\n",
            "  Lungcancer       0.69      0.67      0.68        36\n",
            "      Normal       0.83      0.97      0.90        40\n",
            "Tuberculosis       0.74      0.62      0.68        37\n",
            "\n",
            "    accuracy                           0.76       113\n",
            "   macro avg       0.75      0.75      0.75       113\n",
            "weighted avg       0.76      0.76      0.75       113\n",
            "\n"
          ]
        }
      ]
    },
    {
      "cell_type": "code",
      "source": [
        "from plotly import __version__\n",
        "%matplotlib inline\n",
        "import plotly.offline as pyo\n",
        "import plotly.graph_objs as go\n",
        "from plotly.offline import iplot\n",
        "import cufflinks as cf\n",
        "from plotly.offline import download_plotlyjs, init_notebook_mode, plot, iplot \n",
        "cf.go_offline()"
      ],
      "metadata": {
        "outputId": "d0274e89-c48e-4c2e-8801-5cd38d37de45",
        "colab": {
          "base_uri": "https://localhost:8080/",
          "height": 0
        },
        "id": "CjdrpDT6euHd"
      },
      "execution_count": 23,
      "outputs": [
        {
          "output_type": "display_data",
          "data": {
            "text/html": [
              "        <script type=\"text/javascript\">\n",
              "        window.PlotlyConfig = {MathJaxConfig: 'local'};\n",
              "        if (window.MathJax) {MathJax.Hub.Config({SVG: {font: \"STIX-Web\"}});}\n",
              "        if (typeof require !== 'undefined') {\n",
              "        require.undef(\"plotly\");\n",
              "        requirejs.config({\n",
              "            paths: {\n",
              "                'plotly': ['https://cdn.plot.ly/plotly-2.8.3.min']\n",
              "            }\n",
              "        });\n",
              "        require(['plotly'], function(Plotly) {\n",
              "            window._Plotly = Plotly;\n",
              "        });\n",
              "        }\n",
              "        </script>\n",
              "        "
            ]
          },
          "metadata": {}
        }
      ]
    },
    {
      "cell_type": "code",
      "source": [
        "H_Dense = H8_soft_pre_cate                            ##\n",
        "pred_Dense = pred_H8_soft_pre_cate               ##\n",
        "\n",
        "accuracy = H_Dense.history['accuracy']\n",
        "val_accuracy  = H_Dense.history['val_accuracy']\n",
        "\n",
        "loss = H_Dense.history['loss']\n",
        "val_loss = H_Dense.history['val_loss']\n",
        "plt.figure(figsize=(20,15))\n",
        "\n",
        "plt.subplot(2, 2, 1)\n",
        "plt.plot(accuracy, label = \"Training accuracy\")\n",
        "plt.plot(val_accuracy, label=\"Validation accuracy\")\n",
        "plt.legend()\n",
        "plt.title(\"Training vs validation accuracy\")\n",
        "\n",
        "plt.subplot(2,2,2)\n",
        "plt.plot(loss, label = \"Training loss\")\n",
        "plt.plot(val_loss, label=\"Validation loss\")\n",
        "plt.legend()\n",
        "plt.title(\"Training vs validation loss\")\n",
        "\n",
        "plt.figure()\n",
        "plt.show()"
      ],
      "metadata": {
        "id": "QRKu-fJUeuHd",
        "outputId": "29009f1c-6e4d-4167-a52a-18537f5efd24",
        "colab": {
          "base_uri": "https://localhost:8080/",
          "height": 0
        }
      },
      "execution_count": 24,
      "outputs": [
        {
          "output_type": "display_data",
          "data": {
            "text/plain": [
              "<Figure size 1440x1080 with 2 Axes>"
            ],
            "image/png": "[encoded data removed]"
          },
          "metadata": {
            "needs_background": "light"
          }
        },
        {
          "output_type": "display_data",
          "data": {
            "text/plain": [
              "<Figure size 432x288 with 0 Axes>"
            ]
          },
          "metadata": {}
        }
      ]
    },
    {
      "cell_type": "code",
      "source": [
        "y_pred = pred_H8_soft_pre_cate.argmax(axis=1)            ##\n",
        "y_true  = y_test_Dense.argmax(axis=1)\n",
        "y_test = y_test_Dense.argmax(axis=1)\n",
        "class_names = le_Dense.classes_\n",
        "\n",
        "def plot_confusion_matrix(y_true, y_pred, classes,\n",
        "                          normalize=False,\n",
        "                          title=None,\n",
        "                          cmap=plt.cm.OrRd):\n",
        "    \"\"\"\n",
        "    This function prints and plots the confusion matrix.\n",
        "    Normalization can be applied by setting `normalize=True`.\n",
        "    \"\"\"\n",
        "    if not title:\n",
        "        if normalize:\n",
        "            title = 'Normalized confusion matrix'\n",
        "        else:\n",
        "            title = 'Confusion matrix, without normalization'\n",
        "\n",
        "    # Compute confusion matrix\n",
        "    cm = confusion_matrix(y_true, y_pred)\n",
        "    # Only use the labels that appear in the data\n",
        "    classes = classes[unique_labels(y_true, y_pred)]\n",
        "    if normalize:\n",
        "        cm = cm.astype('float') / cm.sum(axis=1)[:, np.newaxis]\n",
        "        print(\"Normalized confusion matrix\")\n",
        "    else:\n",
        "        print('Confusion matrix, without normalization')\n",
        "    print(cm)\n",
        "    fig, ax = plt.subplots()\n",
        "    im = ax.imshow(cm, interpolation='nearest', cmap=cmap)\n",
        "    ax.figure.colorbar(im, ax=ax)\n",
        "    # We want to show all ticks...\n",
        "    ax.set(xticks=np.arange(cm.shape[1]),\n",
        "           yticks=np.arange(cm.shape[0]),\n",
        "           # ... and label them with the respective list entries\n",
        "           xticklabels=classes, yticklabels=classes,\n",
        "           title=title,\n",
        "           ylabel='True label',\n",
        "           xlabel='Predicted label')\n",
        "    # Rotate the tick labels and set their alignment.\n",
        "    plt.setp(ax.get_xticklabels(), rotation=45, ha=\"right\",\n",
        "             rotation_mode=\"anchor\")\n",
        "\n",
        "    # Loop over data dimensions and create text annotations.\n",
        "    fmt = '.2f' if normalize else 'd'\n",
        "    thresh = cm.max() / 2.\n",
        "    for i in range(cm.shape[0]):\n",
        "        for j in range(cm.shape[1]):\n",
        "            ax.text(j, i, format(cm[i, j], fmt),\n",
        "                    ha=\"center\", va=\"center\",\n",
        "                    color=\"white\" if cm[i, j] > thresh else \"black\")\n",
        "    fig.tight_layout()\n",
        "    return ax\n",
        "np.set_printoptions(precision=2)\n",
        "\n",
        "# Plot non-normalized confusion matrix\n",
        "plot_confusion_matrix(y_test, y_pred, classes=class_names,\n",
        "                      title='Confusion matrix, without normalization')\n",
        "# Plot normalized confusion matrix\n",
        "plot_confusion_matrix(y_test, y_pred, classes=class_names, normalize=True,\n",
        "                      title='Normalized confusion matrix')\n",
        "plt.show()"
      ],
      "metadata": {
        "id": "EJQ2ti5UeuHe",
        "outputId": "5bef0ed2-a126-4755-e8c2-ba30aa3a2070",
        "colab": {
          "base_uri": "https://localhost:8080/",
          "height": 0
        }
      },
      "execution_count": 25,
      "outputs": [
        {
          "output_type": "stream",
          "name": "stdout",
          "text": [
            "Confusion matrix, without normalization\n",
            "[[24  4  8]\n",
            " [ 1 39  0]\n",
            " [10  4 23]]\n",
            "Normalized confusion matrix\n",
            "[[0.67 0.11 0.22]\n",
            " [0.03 0.97 0.  ]\n",
            " [0.27 0.11 0.62]]\n"
          ]
        },
        {
          "output_type": "display_data",
          "data": {
            "text/plain": [
              "<Figure size 432x288 with 2 Axes>"
            ],
            "image/png": "[encoded data removed]"
          },
          "metadata": {
            "needs_background": "light"
          }
        },
        {
          "output_type": "display_data",
          "data": {
            "text/plain": [
              "<Figure size 432x288 with 2 Axes>"
            ],
            "image/png": "[encoded data removed]"
          },
          "metadata": {
            "needs_background": "light"
          }
        }
      ]
    },
    {
      "cell_type": "code",
      "source": [
        ""
      ],
      "metadata": {
        "id": "teDerzC-JKAG"
      },
      "execution_count": null,
      "outputs": []
    },
    {
      "cell_type": "code",
      "source": [
        "model = load_model(filepath)"
      ],
      "metadata": {
        "id": "KQGDV0XKjSUU"
      },
      "execution_count": 26,
      "outputs": []
    },
    {
      "cell_type": "code",
      "source": [
        "pred_model = model.predict(x_test_Dense)\n",
        "\n",
        "print(classification_report(y_test_Dense.argmax(axis=1),   pred_model.argmax(axis=1), target_names=le_Dense.classes_))"
      ],
      "metadata": {
        "id": "QEittf64jSUU",
        "outputId": "0aff06aa-939a-41bf-8fe2-e8f9cf1d51be",
        "colab": {
          "base_uri": "https://localhost:8080/"
        }
      },
      "execution_count": 27,
      "outputs": [
        {
          "output_type": "stream",
          "name": "stdout",
          "text": [
            "              precision    recall  f1-score   support\n",
            "\n",
            "  Lungcancer       0.69      0.69      0.69        36\n",
            "      Normal       0.81      0.97      0.89        40\n",
            "Tuberculosis       0.79      0.62      0.70        37\n",
            "\n",
            "    accuracy                           0.77       113\n",
            "   macro avg       0.77      0.76      0.76       113\n",
            "weighted avg       0.77      0.77      0.76       113\n",
            "\n"
          ]
        }
      ]
    },
    {
      "cell_type": "code",
      "source": [
        "y_pred = pred_model.argmax(axis=1)            ##\n",
        "y_true  = y_test_Dense.argmax(axis=1)\n",
        "y_test = y_test_Dense.argmax(axis=1)\n",
        "class_names = le_Dense.classes_\n",
        "\n",
        "def plot_confusion_matrix(y_true, y_pred, classes,\n",
        "                          normalize=False,\n",
        "                          title=None,\n",
        "                          cmap=plt.cm.OrRd):\n",
        "    \"\"\"\n",
        "    This function prints and plots the confusion matrix.\n",
        "    Normalization can be applied by setting `normalize=True`.\n",
        "    \"\"\"\n",
        "    if not title:\n",
        "        if normalize:\n",
        "            title = 'Normalized confusion matrix'\n",
        "        else:\n",
        "            title = 'Confusion matrix, without normalization'\n",
        "\n",
        "    # Compute confusion matrix\n",
        "    cm = confusion_matrix(y_true, y_pred)\n",
        "    # Only use the labels that appear in the data\n",
        "    classes = classes[unique_labels(y_true, y_pred)]\n",
        "    if normalize:\n",
        "        cm = cm.astype('float') / cm.sum(axis=1)[:, np.newaxis]\n",
        "        print(\"Normalized confusion matrix\")\n",
        "    else:\n",
        "        print('Confusion matrix, without normalization')\n",
        "    print(cm)\n",
        "    fig, ax = plt.subplots()\n",
        "    im = ax.imshow(cm, interpolation='nearest', cmap=cmap)\n",
        "    ax.figure.colorbar(im, ax=ax)\n",
        "    # We want to show all ticks...\n",
        "    ax.set(xticks=np.arange(cm.shape[1]),\n",
        "           yticks=np.arange(cm.shape[0]),\n",
        "           # ... and label them with the respective list entries\n",
        "           xticklabels=classes, yticklabels=classes,\n",
        "           title=title,\n",
        "           ylabel='True label',\n",
        "           xlabel='Predicted label')\n",
        "\n",
        "    # Rotate the tick labels and set their alignment.\n",
        "    plt.setp(ax.get_xticklabels(), rotation=45, ha=\"right\",\n",
        "             rotation_mode=\"anchor\")\n",
        "    # Loop over data dimensions and create text annotations.\n",
        "    fmt = '.2f' if normalize else 'd'\n",
        "    thresh = cm.max() / 2.\n",
        "    for i in range(cm.shape[0]):\n",
        "        for j in range(cm.shape[1]):\n",
        "            ax.text(j, i, format(cm[i, j], fmt),\n",
        "                    ha=\"center\", va=\"center\",\n",
        "                    color=\"white\" if cm[i, j] > thresh else \"black\")\n",
        "    fig.tight_layout()\n",
        "    return ax\n",
        "np.set_printoptions(precision=2)\n",
        "# Plot non-normalized confusion matrix\n",
        "plot_confusion_matrix(y_test, y_pred, classes=class_names,\n",
        "                      title='Confusion matrix, without normalization')\n",
        "# Plot normalized confusion matrix\n",
        "plot_confusion_matrix(y_test, y_pred, classes=class_names, normalize=True,\n",
        "                      title='Normalized confusion matrix')\n",
        "plt.show()"
      ],
      "metadata": {
        "colab": {
          "base_uri": "https://localhost:8080/",
          "height": 0
        },
        "id": "bxJMtdQp4F4z",
        "outputId": "d40bc354-5d22-444c-c290-531de5540ada"
      },
      "execution_count": 28,
      "outputs": [
        {
          "output_type": "stream",
          "name": "stdout",
          "text": [
            "Confusion matrix, without normalization\n",
            "[[25  5  6]\n",
            " [ 1 39  0]\n",
            " [10  4 23]]\n",
            "Normalized confusion matrix\n",
            "[[0.69 0.14 0.17]\n",
            " [0.03 0.97 0.  ]\n",
            " [0.27 0.11 0.62]]\n"
          ]
        },
        {
          "output_type": "display_data",
          "data": {
            "text/plain": [
              "<Figure size 432x288 with 2 Axes>"
            ],
            "image/png": "[encoded data removed]"
          },
          "metadata": {
            "needs_background": "light"
          }
        },
        {
          "output_type": "display_data",
          "data": {
            "text/plain": [
              "<Figure size 432x288 with 2 Axes>"
            ],
            "image/png": "[encoded data removed]"
          },
          "metadata": {
            "needs_background": "light"
          }
        }
      ]
    },
    {
      "cell_type": "markdown",
      "source": [
        "#### 8  soft pre cate adam\n",
        "--> 0.735"
      ],
      "metadata": {
        "id": "RPYcqlGDLNq3"
      }
    },
    {
      "cell_type": "code",
      "source": [
        "BS = 8                                                      ##\n",
        "filepath = \"model8_soft_pre_cate_adam.h5\"                  ##\n",
        "\n",
        "train_img_Dense = []\n",
        "for ImageName in tqdm(data_train3['ImageName']):              \n",
        "    image_path = All_3class_dir +'/' + ImageName                  \n",
        "    img = cv2.imread(image_path)                                          \n",
        "    img = cv2.resize(img, (224, 224))                                      \n",
        "    train_img_Dense.append(img)\n",
        "data_Dense = np.array(train_img_Dense, dtype=\"float32\") / 255.0\n",
        "\n",
        "labels_Dense = np.array(data_train3[['NameType']] )        \n",
        "labels_Dense.shape = (len(labels_Dense),) \n",
        "le_Dense = LabelEncoder()                                                                     \n",
        "labels_Dense = le_Dense.fit_transform(labels_Dense)                                         \n",
        "labels_Dense = to_categorical(labels_Dense, num_classes=3)                   \n",
        "\n",
        "aug = ImageDataGenerator(\trotation_range=15,\t\t\t\twidth_shift_range=0.1, \t\theight_shift_range=0.1,\n",
        "\t\tshear_range=0.15,\t\thorizontal_flip=True,  \t\tfill_mode=\"nearest\")\n",
        "\n",
        "callback = tf.keras.callbacks.EarlyStopping(  monitor=\"val_accuracy\",    patience=15,    mode=\"max\" )\n",
        "\n",
        "checkpoint = ModelCheckpoint(filepath, monitor='val_accuracy', verbose=1, \n",
        "                    save_best_only=True, mode='max')\n",
        "\n",
        "reduce_lr = ReduceLROnPlateau(monitor='val_accuracy', factor=0.5, patience=6, \n",
        "                                   verbose=1, mode='max', min_lr=0.00001)"
      ],
      "metadata": {
        "outputId": "a8b5536f-bfd1-4aed-9e01-41e6b75b129e",
        "colab": {
          "base_uri": "https://localhost:8080/"
        },
        "id": "U_IUTqKLLNq3"
      },
      "execution_count": 29,
      "outputs": [
        {
          "output_type": "stream",
          "name": "stderr",
          "text": [
            "100%|██████████| 450/450 [00:04<00:00, 93.70it/s] \n"
          ]
        }
      ]
    },
    {
      "cell_type": "code",
      "source": [
        "(x_train_Dense, x_test_Dense, y_train_Dense, y_test_Dense ) = train_test_split(data_Dense, labels_Dense,\n",
        "\t                                                                                                test_size=0.25, random_state=40)"
      ],
      "metadata": {
        "id": "igyJOO2WLNq4"
      },
      "execution_count": 30,
      "outputs": []
    },
    {
      "cell_type": "code",
      "source": [
        "base_model_Dense = tf.keras.applications.DenseNet201(input_shape=(224, 224, 3), include_top=False, weights=\"imagenet\")\n",
        "base_model_Dense.trainable=False\n",
        "\n",
        "#Add custom head\n",
        "average_pooling_layer = tf.keras.layers.GlobalAveragePooling2D()(base_model_Dense.output)\n",
        "prediction_layer = tf.keras.layers.Dense(units=3, activation=\"softmax\")(average_pooling_layer)   \n",
        "model_Dense = tf.keras.models.Model(inputs=base_model_Dense.input, outputs=prediction_layer)\n",
        "\n",
        "model_Dense.compile(optimizer=Adam(learning_rate=0.0001), loss=\"categorical_crossentropy\", metrics=[\"accuracy\"])\n",
        "\n",
        "##\n",
        "H8_soft_pre_cate = model_Dense.fit( x=aug.flow(x_train_Dense, y_train_Dense, batch_size=BS),\n",
        "\t                                            validation_data=(x_test_Dense, y_test_Dense),\n",
        "\t                                            steps_per_epoch=len(x_train_Dense) // BS,\n",
        "\t                                            epochs=100,  callbacks = [callback, checkpoint, reduce_lr])\n",
        "##\n",
        "pred_H8_soft_pre_cate = model_Dense.predict(x_test_Dense)\n",
        "    \n",
        "\n",
        "print(classification_report(y_test_Dense.argmax(axis=1),\t                \n",
        "                                        pred_H8_soft_pre_cate.argmax(axis=1),  \n",
        "                                        target_names=le_Dense.classes_))\n",
        "\n",
        "# #download ไฟล์ลงเครื่อง\n",
        "# from google.colab import files\n",
        "# files.download( filepath)       "
      ],
      "metadata": {
        "outputId": "3582afc6-4a21-43bb-dfdf-876422e9a6b5",
        "colab": {
          "base_uri": "https://localhost:8080/"
        },
        "id": "J6cEVfNeLNq4"
      },
      "execution_count": 31,
      "outputs": [
        {
          "output_type": "stream",
          "name": "stdout",
          "text": [
            "Epoch 1/100\n",
            "42/42 [==============================] - ETA: 0s - loss: 1.1803 - accuracy: 0.3465\n",
            "Epoch 1: val_accuracy improved from -inf to 0.30973, saving model to model8_soft_pre_cate_adam.h5\n",
            "42/42 [==============================] - 24s 287ms/step - loss: 1.1803 - accuracy: 0.3465 - val_loss: 1.2395 - val_accuracy: 0.3097 - lr: 1.0000e-04\n",
            "Epoch 2/100\n",
            "42/42 [==============================] - ETA: 0s - loss: 1.1406 - accuracy: 0.3647\n",
            "Epoch 2: val_accuracy improved from 0.30973 to 0.32743, saving model to model8_soft_pre_cate_adam.h5\n",
            "42/42 [==============================] - 9s 217ms/step - loss: 1.1406 - accuracy: 0.3647 - val_loss: 1.1884 - val_accuracy: 0.3274 - lr: 1.0000e-04\n",
            "Epoch 3/100\n",
            "42/42 [==============================] - ETA: 0s - loss: 1.0863 - accuracy: 0.3799\n",
            "Epoch 3: val_accuracy improved from 0.32743 to 0.35398, saving model to model8_soft_pre_cate_adam.h5\n",
            "42/42 [==============================] - 8s 202ms/step - loss: 1.0863 - accuracy: 0.3799 - val_loss: 1.1486 - val_accuracy: 0.3540 - lr: 1.0000e-04\n",
            "Epoch 4/100\n",
            "42/42 [==============================] - ETA: 0s - loss: 1.0471 - accuracy: 0.4468\n",
            "Epoch 4: val_accuracy improved from 0.35398 to 0.38053, saving model to model8_soft_pre_cate_adam.h5\n",
            "42/42 [==============================] - 9s 203ms/step - loss: 1.0471 - accuracy: 0.4468 - val_loss: 1.0884 - val_accuracy: 0.3805 - lr: 1.0000e-04\n",
            "Epoch 5/100\n",
            "42/42 [==============================] - ETA: 0s - loss: 0.9986 - accuracy: 0.5015\n",
            "Epoch 5: val_accuracy did not improve from 0.38053\n",
            "42/42 [==============================] - 7s 164ms/step - loss: 0.9986 - accuracy: 0.5015 - val_loss: 1.0762 - val_accuracy: 0.3628 - lr: 1.0000e-04\n",
            "Epoch 6/100\n",
            "42/42 [==============================] - ETA: 0s - loss: 0.9476 - accuracy: 0.5046\n",
            "Epoch 6: val_accuracy improved from 0.38053 to 0.38938, saving model to model8_soft_pre_cate_adam.h5\n",
            "42/42 [==============================] - 9s 202ms/step - loss: 0.9476 - accuracy: 0.5046 - val_loss: 1.0502 - val_accuracy: 0.3894 - lr: 1.0000e-04\n",
            "Epoch 7/100\n",
            "42/42 [==============================] - ETA: 0s - loss: 0.9290 - accuracy: 0.6042\n",
            "Epoch 7: val_accuracy improved from 0.38938 to 0.42478, saving model to model8_soft_pre_cate_adam.h5\n",
            "42/42 [==============================] - 9s 205ms/step - loss: 0.9290 - accuracy: 0.6042 - val_loss: 1.0089 - val_accuracy: 0.4248 - lr: 1.0000e-04\n",
            "Epoch 8/100\n",
            "42/42 [==============================] - ETA: 0s - loss: 0.9031 - accuracy: 0.5897\n",
            "Epoch 8: val_accuracy improved from 0.42478 to 0.43363, saving model to model8_soft_pre_cate_adam.h5\n",
            "42/42 [==============================] - 9s 204ms/step - loss: 0.9031 - accuracy: 0.5897 - val_loss: 0.9948 - val_accuracy: 0.4336 - lr: 1.0000e-04\n",
            "Epoch 9/100\n",
            "42/42 [==============================] - ETA: 0s - loss: 0.8885 - accuracy: 0.6261\n",
            "Epoch 9: val_accuracy improved from 0.43363 to 0.49558, saving model to model8_soft_pre_cate_adam.h5\n",
            "42/42 [==============================] - 8s 200ms/step - loss: 0.8885 - accuracy: 0.6261 - val_loss: 0.9642 - val_accuracy: 0.4956 - lr: 1.0000e-04\n",
            "Epoch 10/100\n",
            "42/42 [==============================] - ETA: 0s - loss: 0.8626 - accuracy: 0.6261\n",
            "Epoch 10: val_accuracy did not improve from 0.49558\n",
            "42/42 [==============================] - 7s 163ms/step - loss: 0.8626 - accuracy: 0.6261 - val_loss: 0.9466 - val_accuracy: 0.4690 - lr: 1.0000e-04\n",
            "Epoch 11/100\n",
            "42/42 [==============================] - ETA: 0s - loss: 0.8342 - accuracy: 0.6535\n",
            "Epoch 11: val_accuracy did not improve from 0.49558\n",
            "42/42 [==============================] - 7s 162ms/step - loss: 0.8342 - accuracy: 0.6535 - val_loss: 0.9429 - val_accuracy: 0.4956 - lr: 1.0000e-04\n",
            "Epoch 12/100\n",
            "42/42 [==============================] - ETA: 0s - loss: 0.8281 - accuracy: 0.6353\n",
            "Epoch 12: val_accuracy improved from 0.49558 to 0.54867, saving model to model8_soft_pre_cate_adam.h5\n",
            "42/42 [==============================] - 8s 201ms/step - loss: 0.8281 - accuracy: 0.6353 - val_loss: 0.9079 - val_accuracy: 0.5487 - lr: 1.0000e-04\n",
            "Epoch 13/100\n",
            "42/42 [==============================] - ETA: 0s - loss: 0.8064 - accuracy: 0.6687\n",
            "Epoch 13: val_accuracy improved from 0.54867 to 0.58407, saving model to model8_soft_pre_cate_adam.h5\n",
            "42/42 [==============================] - 9s 203ms/step - loss: 0.8064 - accuracy: 0.6687 - val_loss: 0.8916 - val_accuracy: 0.5841 - lr: 1.0000e-04\n",
            "Epoch 14/100\n",
            "42/42 [==============================] - ETA: 0s - loss: 0.8027 - accuracy: 0.6869\n",
            "Epoch 14: val_accuracy did not improve from 0.58407\n",
            "42/42 [==============================] - 9s 205ms/step - loss: 0.8027 - accuracy: 0.6869 - val_loss: 0.8813 - val_accuracy: 0.5841 - lr: 1.0000e-04\n",
            "Epoch 15/100\n",
            "42/42 [==============================] - ETA: 0s - loss: 0.7635 - accuracy: 0.6778\n",
            "Epoch 15: val_accuracy improved from 0.58407 to 0.63717, saving model to model8_soft_pre_cate_adam.h5\n",
            "42/42 [==============================] - 10s 226ms/step - loss: 0.7635 - accuracy: 0.6778 - val_loss: 0.8621 - val_accuracy: 0.6372 - lr: 1.0000e-04\n",
            "Epoch 16/100\n",
            "42/42 [==============================] - ETA: 0s - loss: 0.7546 - accuracy: 0.7143\n",
            "Epoch 16: val_accuracy did not improve from 0.63717\n",
            "42/42 [==============================] - 7s 163ms/step - loss: 0.7546 - accuracy: 0.7143 - val_loss: 0.8558 - val_accuracy: 0.6283 - lr: 1.0000e-04\n",
            "Epoch 17/100\n",
            "42/42 [==============================] - ETA: 0s - loss: 0.7401 - accuracy: 0.7173\n",
            "Epoch 17: val_accuracy did not improve from 0.63717\n",
            "42/42 [==============================] - 12s 279ms/step - loss: 0.7401 - accuracy: 0.7173 - val_loss: 0.8496 - val_accuracy: 0.6195 - lr: 1.0000e-04\n",
            "Epoch 18/100\n",
            "42/42 [==============================] - ETA: 0s - loss: 0.7234 - accuracy: 0.6930\n",
            "Epoch 18: val_accuracy improved from 0.63717 to 0.66372, saving model to model8_soft_pre_cate_adam.h5\n",
            "42/42 [==============================] - 12s 289ms/step - loss: 0.7234 - accuracy: 0.6930 - val_loss: 0.8400 - val_accuracy: 0.6637 - lr: 1.0000e-04\n",
            "Epoch 19/100\n",
            "42/42 [==============================] - ETA: 0s - loss: 0.7325 - accuracy: 0.6839\n",
            "Epoch 19: val_accuracy did not improve from 0.66372\n",
            "42/42 [==============================] - 11s 256ms/step - loss: 0.7325 - accuracy: 0.6839 - val_loss: 0.8142 - val_accuracy: 0.6549 - lr: 1.0000e-04\n",
            "Epoch 20/100\n",
            "42/42 [==============================] - ETA: 0s - loss: 0.7034 - accuracy: 0.7082\n",
            "Epoch 20: val_accuracy did not improve from 0.66372\n",
            "42/42 [==============================] - 11s 256ms/step - loss: 0.7034 - accuracy: 0.7082 - val_loss: 0.8109 - val_accuracy: 0.6549 - lr: 1.0000e-04\n",
            "Epoch 21/100\n",
            "42/42 [==============================] - ETA: 0s - loss: 0.6968 - accuracy: 0.7386\n",
            "Epoch 21: val_accuracy improved from 0.66372 to 0.67257, saving model to model8_soft_pre_cate_adam.h5\n",
            "42/42 [==============================] - 10s 226ms/step - loss: 0.6968 - accuracy: 0.7386 - val_loss: 0.8115 - val_accuracy: 0.6726 - lr: 1.0000e-04\n",
            "Epoch 22/100\n",
            "42/42 [==============================] - ETA: 0s - loss: 0.7072 - accuracy: 0.7173\n",
            "Epoch 22: val_accuracy did not improve from 0.67257\n",
            "42/42 [==============================] - 7s 163ms/step - loss: 0.7072 - accuracy: 0.7173 - val_loss: 0.7956 - val_accuracy: 0.6549 - lr: 1.0000e-04\n",
            "Epoch 23/100\n",
            "42/42 [==============================] - ETA: 0s - loss: 0.6727 - accuracy: 0.7173\n",
            "Epoch 23: val_accuracy did not improve from 0.67257\n",
            "42/42 [==============================] - 7s 164ms/step - loss: 0.6727 - accuracy: 0.7173 - val_loss: 0.7849 - val_accuracy: 0.6726 - lr: 1.0000e-04\n",
            "Epoch 24/100\n",
            "42/42 [==============================] - ETA: 0s - loss: 0.6883 - accuracy: 0.6991\n",
            "Epoch 24: val_accuracy did not improve from 0.67257\n",
            "42/42 [==============================] - 7s 164ms/step - loss: 0.6883 - accuracy: 0.6991 - val_loss: 0.7786 - val_accuracy: 0.6637 - lr: 1.0000e-04\n",
            "Epoch 25/100\n",
            "42/42 [==============================] - ETA: 0s - loss: 0.6645 - accuracy: 0.7356\n",
            "Epoch 25: val_accuracy improved from 0.67257 to 0.69912, saving model to model8_soft_pre_cate_adam.h5\n",
            "42/42 [==============================] - 9s 203ms/step - loss: 0.6645 - accuracy: 0.7356 - val_loss: 0.7737 - val_accuracy: 0.6991 - lr: 1.0000e-04\n",
            "Epoch 26/100\n",
            "42/42 [==============================] - ETA: 0s - loss: 0.6556 - accuracy: 0.7538\n",
            "Epoch 26: val_accuracy did not improve from 0.69912\n",
            "42/42 [==============================] - 7s 164ms/step - loss: 0.6556 - accuracy: 0.7538 - val_loss: 0.7650 - val_accuracy: 0.6637 - lr: 1.0000e-04\n",
            "Epoch 27/100\n",
            "42/42 [==============================] - ETA: 0s - loss: 0.6795 - accuracy: 0.6960\n",
            "Epoch 27: val_accuracy did not improve from 0.69912\n",
            "42/42 [==============================] - 7s 163ms/step - loss: 0.6795 - accuracy: 0.6960 - val_loss: 0.7793 - val_accuracy: 0.6726 - lr: 1.0000e-04\n",
            "Epoch 28/100\n",
            "42/42 [==============================] - ETA: 0s - loss: 0.6403 - accuracy: 0.7356\n",
            "Epoch 28: val_accuracy did not improve from 0.69912\n",
            "42/42 [==============================] - 7s 161ms/step - loss: 0.6403 - accuracy: 0.7356 - val_loss: 0.7537 - val_accuracy: 0.6991 - lr: 1.0000e-04\n",
            "Epoch 29/100\n",
            "42/42 [==============================] - ETA: 0s - loss: 0.6359 - accuracy: 0.7447\n",
            "Epoch 29: val_accuracy did not improve from 0.69912\n",
            "42/42 [==============================] - 7s 166ms/step - loss: 0.6359 - accuracy: 0.7447 - val_loss: 0.7593 - val_accuracy: 0.6814 - lr: 1.0000e-04\n",
            "Epoch 30/100\n",
            "42/42 [==============================] - ETA: 0s - loss: 0.6327 - accuracy: 0.7356\n",
            "Epoch 30: val_accuracy did not improve from 0.69912\n",
            "42/42 [==============================] - 7s 178ms/step - loss: 0.6327 - accuracy: 0.7356 - val_loss: 0.7463 - val_accuracy: 0.6991 - lr: 1.0000e-04\n",
            "Epoch 31/100\n",
            "42/42 [==============================] - ETA: 0s - loss: 0.6472 - accuracy: 0.7416\n",
            "Epoch 31: val_accuracy improved from 0.69912 to 0.70796, saving model to model8_soft_pre_cate_adam.h5\n",
            "42/42 [==============================] - 8s 201ms/step - loss: 0.6472 - accuracy: 0.7416 - val_loss: 0.7410 - val_accuracy: 0.7080 - lr: 1.0000e-04\n",
            "Epoch 32/100\n",
            "42/42 [==============================] - ETA: 0s - loss: 0.6178 - accuracy: 0.7599\n",
            "Epoch 32: val_accuracy improved from 0.70796 to 0.73451, saving model to model8_soft_pre_cate_adam.h5\n",
            "42/42 [==============================] - 10s 232ms/step - loss: 0.6178 - accuracy: 0.7599 - val_loss: 0.7296 - val_accuracy: 0.7345 - lr: 1.0000e-04\n",
            "Epoch 33/100\n",
            "42/42 [==============================] - ETA: 0s - loss: 0.6263 - accuracy: 0.7538\n",
            "Epoch 33: val_accuracy did not improve from 0.73451\n",
            "42/42 [==============================] - 7s 167ms/step - loss: 0.6263 - accuracy: 0.7538 - val_loss: 0.7290 - val_accuracy: 0.7257 - lr: 1.0000e-04\n",
            "Epoch 34/100\n",
            "42/42 [==============================] - ETA: 0s - loss: 0.6020 - accuracy: 0.7751\n",
            "Epoch 34: val_accuracy did not improve from 0.73451\n",
            "42/42 [==============================] - 7s 163ms/step - loss: 0.6020 - accuracy: 0.7751 - val_loss: 0.7252 - val_accuracy: 0.7257 - lr: 1.0000e-04\n",
            "Epoch 35/100\n",
            "42/42 [==============================] - ETA: 0s - loss: 0.6125 - accuracy: 0.7508\n",
            "Epoch 35: val_accuracy did not improve from 0.73451\n",
            "42/42 [==============================] - 7s 164ms/step - loss: 0.6125 - accuracy: 0.7508 - val_loss: 0.7213 - val_accuracy: 0.7080 - lr: 1.0000e-04\n",
            "Epoch 36/100\n",
            "42/42 [==============================] - ETA: 0s - loss: 0.6136 - accuracy: 0.7508\n",
            "Epoch 36: val_accuracy did not improve from 0.73451\n",
            "42/42 [==============================] - 9s 205ms/step - loss: 0.6136 - accuracy: 0.7508 - val_loss: 0.7164 - val_accuracy: 0.7168 - lr: 1.0000e-04\n",
            "Epoch 37/100\n",
            "42/42 [==============================] - ETA: 0s - loss: 0.5960 - accuracy: 0.7538\n",
            "Epoch 37: val_accuracy did not improve from 0.73451\n",
            "42/42 [==============================] - 7s 164ms/step - loss: 0.5960 - accuracy: 0.7538 - val_loss: 0.7149 - val_accuracy: 0.7257 - lr: 1.0000e-04\n",
            "Epoch 38/100\n",
            "42/42 [==============================] - ETA: 0s - loss: 0.5887 - accuracy: 0.7720\n",
            "Epoch 38: val_accuracy did not improve from 0.73451\n",
            "\n",
            "Epoch 38: ReduceLROnPlateau reducing learning rate to 4.999999873689376e-05.\n",
            "42/42 [==============================] - 7s 163ms/step - loss: 0.5887 - accuracy: 0.7720 - val_loss: 0.7103 - val_accuracy: 0.7345 - lr: 1.0000e-04\n",
            "Epoch 39/100\n",
            "42/42 [==============================] - ETA: 0s - loss: 0.5921 - accuracy: 0.7964\n",
            "Epoch 39: val_accuracy did not improve from 0.73451\n",
            "42/42 [==============================] - 10s 233ms/step - loss: 0.5921 - accuracy: 0.7964 - val_loss: 0.7126 - val_accuracy: 0.7257 - lr: 5.0000e-05\n",
            "Epoch 40/100\n",
            "42/42 [==============================] - ETA: 0s - loss: 0.5778 - accuracy: 0.8085\n",
            "Epoch 40: val_accuracy did not improve from 0.73451\n",
            "42/42 [==============================] - 12s 285ms/step - loss: 0.5778 - accuracy: 0.8085 - val_loss: 0.7061 - val_accuracy: 0.7345 - lr: 5.0000e-05\n",
            "Epoch 41/100\n",
            "42/42 [==============================] - ETA: 0s - loss: 0.5883 - accuracy: 0.7903\n",
            "Epoch 41: val_accuracy did not improve from 0.73451\n",
            "42/42 [==============================] - 7s 170ms/step - loss: 0.5883 - accuracy: 0.7903 - val_loss: 0.7045 - val_accuracy: 0.7345 - lr: 5.0000e-05\n",
            "Epoch 42/100\n",
            "42/42 [==============================] - ETA: 0s - loss: 0.5797 - accuracy: 0.7964\n",
            "Epoch 42: val_accuracy did not improve from 0.73451\n",
            "42/42 [==============================] - 9s 210ms/step - loss: 0.5797 - accuracy: 0.7964 - val_loss: 0.7002 - val_accuracy: 0.7345 - lr: 5.0000e-05\n",
            "Epoch 43/100\n",
            "42/42 [==============================] - ETA: 0s - loss: 0.5802 - accuracy: 0.7660\n",
            "Epoch 43: val_accuracy did not improve from 0.73451\n",
            "42/42 [==============================] - 7s 165ms/step - loss: 0.5802 - accuracy: 0.7660 - val_loss: 0.7020 - val_accuracy: 0.7257 - lr: 5.0000e-05\n",
            "Epoch 44/100\n",
            "42/42 [==============================] - ETA: 0s - loss: 0.5905 - accuracy: 0.7599\n",
            "Epoch 44: val_accuracy did not improve from 0.73451\n",
            "\n",
            "Epoch 44: ReduceLROnPlateau reducing learning rate to 2.499999936844688e-05.\n",
            "42/42 [==============================] - 7s 165ms/step - loss: 0.5905 - accuracy: 0.7599 - val_loss: 0.7014 - val_accuracy: 0.7257 - lr: 5.0000e-05\n",
            "Epoch 45/100\n",
            "42/42 [==============================] - ETA: 0s - loss: 0.5631 - accuracy: 0.7690\n",
            "Epoch 45: val_accuracy did not improve from 0.73451\n",
            "42/42 [==============================] - 8s 195ms/step - loss: 0.5631 - accuracy: 0.7690 - val_loss: 0.6998 - val_accuracy: 0.7345 - lr: 2.5000e-05\n",
            "Epoch 46/100\n",
            "42/42 [==============================] - ETA: 0s - loss: 0.5825 - accuracy: 0.7690\n",
            "Epoch 46: val_accuracy did not improve from 0.73451\n",
            "42/42 [==============================] - 7s 175ms/step - loss: 0.5825 - accuracy: 0.7690 - val_loss: 0.6980 - val_accuracy: 0.7345 - lr: 2.5000e-05\n",
            "Epoch 47/100\n",
            "42/42 [==============================] - ETA: 0s - loss: 0.5602 - accuracy: 0.7964\n",
            "Epoch 47: val_accuracy did not improve from 0.73451\n",
            "42/42 [==============================] - 12s 290ms/step - loss: 0.5602 - accuracy: 0.7964 - val_loss: 0.6970 - val_accuracy: 0.7345 - lr: 2.5000e-05\n",
            "              precision    recall  f1-score   support\n",
            "\n",
            "  Lungcancer       0.65      0.56      0.60        36\n",
            "      Normal       0.89      0.97      0.93        40\n",
            "Tuberculosis       0.63      0.65      0.64        37\n",
            "\n",
            "    accuracy                           0.73       113\n",
            "   macro avg       0.72      0.73      0.72       113\n",
            "weighted avg       0.73      0.73      0.73       113\n",
            "\n"
          ]
        }
      ]
    },
    {
      "cell_type": "code",
      "source": [
        "from plotly import __version__\n",
        "%matplotlib inline\n",
        "import plotly.offline as pyo\n",
        "import plotly.graph_objs as go\n",
        "from plotly.offline import iplot\n",
        "import cufflinks as cf\n",
        "from plotly.offline import download_plotlyjs, init_notebook_mode, plot, iplot \n",
        "cf.go_offline()"
      ],
      "metadata": {
        "colab": {
          "base_uri": "https://localhost:8080/",
          "height": 0
        },
        "id": "dxKdZY_SLNq4",
        "outputId": "83bc0d63-94de-4e65-e7e4-ad6a655e2b04"
      },
      "execution_count": 32,
      "outputs": [
        {
          "output_type": "display_data",
          "data": {
            "text/html": [
              "        <script type=\"text/javascript\">\n",
              "        window.PlotlyConfig = {MathJaxConfig: 'local'};\n",
              "        if (window.MathJax) {MathJax.Hub.Config({SVG: {font: \"STIX-Web\"}});}\n",
              "        if (typeof require !== 'undefined') {\n",
              "        require.undef(\"plotly\");\n",
              "        requirejs.config({\n",
              "            paths: {\n",
              "                'plotly': ['https://cdn.plot.ly/plotly-2.8.3.min']\n",
              "            }\n",
              "        });\n",
              "        require(['plotly'], function(Plotly) {\n",
              "            window._Plotly = Plotly;\n",
              "        });\n",
              "        }\n",
              "        </script>\n",
              "        "
            ]
          },
          "metadata": {}
        }
      ]
    },
    {
      "cell_type": "code",
      "source": [
        "H_Dense = H8_soft_pre_cate                            ##\n",
        "pred_Dense = pred_H8_soft_pre_cate               ##\n",
        "\n",
        "accuracy = H_Dense.history['accuracy']\n",
        "val_accuracy  = H_Dense.history['val_accuracy']\n",
        "\n",
        "loss = H_Dense.history['loss']\n",
        "val_loss = H_Dense.history['val_loss']\n",
        "plt.figure(figsize=(20,15))\n",
        "\n",
        "plt.subplot(2, 2, 1)\n",
        "plt.plot(accuracy, label = \"Training accuracy\")\n",
        "plt.plot(val_accuracy, label=\"Validation accuracy\")\n",
        "plt.legend()\n",
        "plt.title(\"Training vs validation accuracy\")\n",
        "\n",
        "plt.subplot(2,2,2)\n",
        "plt.plot(loss, label = \"Training loss\")\n",
        "plt.plot(val_loss, label=\"Validation loss\")\n",
        "plt.legend()\n",
        "plt.title(\"Training vs validation loss\")\n",
        "\n",
        "plt.figure()\n",
        "plt.show()"
      ],
      "metadata": {
        "colab": {
          "base_uri": "https://localhost:8080/",
          "height": 0
        },
        "id": "SRGAW7aQLNq4",
        "outputId": "72f228ac-561c-4124-e975-34eb4bd3471a"
      },
      "execution_count": 33,
      "outputs": [
        {
          "output_type": "display_data",
          "data": {
            "text/plain": [
              "<Figure size 1440x1080 with 2 Axes>"
            ],
            "image/png": "[encoded data removed]"
          },
          "metadata": {
            "needs_background": "light"
          }
        },
        {
          "output_type": "display_data",
          "data": {
            "text/plain": [
              "<Figure size 432x288 with 0 Axes>"
            ]
          },
          "metadata": {}
        }
      ]
    },
    {
      "cell_type": "code",
      "source": [
        "y_pred = pred_H8_soft_pre_cate.argmax(axis=1)            ##\n",
        "y_true  = y_test_Dense.argmax(axis=1)\n",
        "y_test = y_test_Dense.argmax(axis=1)\n",
        "class_names = le_Dense.classes_\n",
        "\n",
        "def plot_confusion_matrix(y_true, y_pred, classes,\n",
        "                          normalize=False,\n",
        "                          title=None,\n",
        "                          cmap=plt.cm.OrRd):\n",
        "    \"\"\"\n",
        "    This function prints and plots the confusion matrix.\n",
        "    Normalization can be applied by setting `normalize=True`.\n",
        "    \"\"\"\n",
        "    if not title:\n",
        "        if normalize:\n",
        "            title = 'Normalized confusion matrix'\n",
        "        else:\n",
        "            title = 'Confusion matrix, without normalization'\n",
        "\n",
        "    # Compute confusion matrix\n",
        "    cm = confusion_matrix(y_true, y_pred)\n",
        "    # Only use the labels that appear in the data\n",
        "    classes = classes[unique_labels(y_true, y_pred)]\n",
        "    if normalize:\n",
        "        cm = cm.astype('float') / cm.sum(axis=1)[:, np.newaxis]\n",
        "        print(\"Normalized confusion matrix\")\n",
        "    else:\n",
        "        print('Confusion matrix, without normalization')\n",
        "    print(cm)\n",
        "    fig, ax = plt.subplots()\n",
        "    im = ax.imshow(cm, interpolation='nearest', cmap=cmap)\n",
        "    ax.figure.colorbar(im, ax=ax)\n",
        "    # We want to show all ticks...\n",
        "    ax.set(xticks=np.arange(cm.shape[1]),\n",
        "           yticks=np.arange(cm.shape[0]),\n",
        "           # ... and label them with the respective list entries\n",
        "           xticklabels=classes, yticklabels=classes,\n",
        "           title=title,\n",
        "           ylabel='True label',\n",
        "           xlabel='Predicted label')\n",
        "    # Rotate the tick labels and set their alignment.\n",
        "    plt.setp(ax.get_xticklabels(), rotation=45, ha=\"right\",\n",
        "             rotation_mode=\"anchor\")\n",
        "\n",
        "    # Loop over data dimensions and create text annotations.\n",
        "    fmt = '.2f' if normalize else 'd'\n",
        "    thresh = cm.max() / 2.\n",
        "    for i in range(cm.shape[0]):\n",
        "        for j in range(cm.shape[1]):\n",
        "            ax.text(j, i, format(cm[i, j], fmt),\n",
        "                    ha=\"center\", va=\"center\",\n",
        "                    color=\"white\" if cm[i, j] > thresh else \"black\")\n",
        "    fig.tight_layout()\n",
        "    return ax\n",
        "np.set_printoptions(precision=2)\n",
        "\n",
        "# Plot non-normalized confusion matrix\n",
        "plot_confusion_matrix(y_test, y_pred, classes=class_names,\n",
        "                      title='Confusion matrix, without normalization')\n",
        "# Plot normalized confusion matrix\n",
        "plot_confusion_matrix(y_test, y_pred, classes=class_names, normalize=True,\n",
        "                      title='Normalized confusion matrix')\n",
        "plt.show()"
      ],
      "metadata": {
        "colab": {
          "base_uri": "https://localhost:8080/",
          "height": 0
        },
        "id": "jXxk5OVsLNq4",
        "outputId": "0afaef90-b1df-4ea6-faf3-b6a7707da6dc"
      },
      "execution_count": 34,
      "outputs": [
        {
          "output_type": "stream",
          "name": "stdout",
          "text": [
            "Confusion matrix, without normalization\n",
            "[[20  3 13]\n",
            " [ 0 39  1]\n",
            " [11  2 24]]\n",
            "Normalized confusion matrix\n",
            "[[0.56 0.08 0.36]\n",
            " [0.   0.97 0.03]\n",
            " [0.3  0.05 0.65]]\n"
          ]
        },
        {
          "output_type": "display_data",
          "data": {
            "text/plain": [
              "<Figure size 432x288 with 2 Axes>"
            ],
            "image/png": "[encoded data removed]"
          },
          "metadata": {
            "needs_background": "light"
          }
        },
        {
          "output_type": "display_data",
          "data": {
            "text/plain": [
              "<Figure size 432x288 with 2 Axes>"
            ],
            "image/png": "[encoded data removed]"
          },
          "metadata": {
            "needs_background": "light"
          }
        }
      ]
    },
    {
      "cell_type": "code",
      "source": [
        ""
      ],
      "metadata": {
        "id": "LGNHJ5wzLNq5"
      },
      "execution_count": 34,
      "outputs": []
    },
    {
      "cell_type": "code",
      "source": [
        "model = load_model(filepath)"
      ],
      "metadata": {
        "id": "I9vti1oDLNq5"
      },
      "execution_count": 35,
      "outputs": []
    },
    {
      "cell_type": "code",
      "source": [
        "pred_model = model.predict(x_test_Dense)\n",
        "\n",
        "print(classification_report(y_test_Dense.argmax(axis=1),   pred_model.argmax(axis=1), target_names=le_Dense.classes_))"
      ],
      "metadata": {
        "colab": {
          "base_uri": "https://localhost:8080/"
        },
        "id": "hOTwStkOLNq5",
        "outputId": "f1edef9d-6a18-4d27-8f4f-61ea57243804"
      },
      "execution_count": 36,
      "outputs": [
        {
          "output_type": "stream",
          "name": "stdout",
          "text": [
            "              precision    recall  f1-score   support\n",
            "\n",
            "  Lungcancer       0.66      0.58      0.62        36\n",
            "      Normal       0.85      0.97      0.91        40\n",
            "Tuberculosis       0.66      0.62      0.64        37\n",
            "\n",
            "    accuracy                           0.73       113\n",
            "   macro avg       0.72      0.73      0.72       113\n",
            "weighted avg       0.72      0.73      0.73       113\n",
            "\n"
          ]
        }
      ]
    },
    {
      "cell_type": "code",
      "source": [
        "y_pred = pred_model.argmax(axis=1)            ##\n",
        "y_true  = y_test_Dense.argmax(axis=1)\n",
        "y_test = y_test_Dense.argmax(axis=1)\n",
        "class_names = le_Dense.classes_\n",
        "\n",
        "def plot_confusion_matrix(y_true, y_pred, classes,\n",
        "                          normalize=False,\n",
        "                          title=None,\n",
        "                          cmap=plt.cm.OrRd):\n",
        "    \"\"\"\n",
        "    This function prints and plots the confusion matrix.\n",
        "    Normalization can be applied by setting `normalize=True`.\n",
        "    \"\"\"\n",
        "    if not title:\n",
        "        if normalize:\n",
        "            title = 'Normalized confusion matrix'\n",
        "        else:\n",
        "            title = 'Confusion matrix, without normalization'\n",
        "\n",
        "    # Compute confusion matrix\n",
        "    cm = confusion_matrix(y_true, y_pred)\n",
        "    # Only use the labels that appear in the data\n",
        "    classes = classes[unique_labels(y_true, y_pred)]\n",
        "    if normalize:\n",
        "        cm = cm.astype('float') / cm.sum(axis=1)[:, np.newaxis]\n",
        "        print(\"Normalized confusion matrix\")\n",
        "    else:\n",
        "        print('Confusion matrix, without normalization')\n",
        "    print(cm)\n",
        "    fig, ax = plt.subplots()\n",
        "    im = ax.imshow(cm, interpolation='nearest', cmap=cmap)\n",
        "    ax.figure.colorbar(im, ax=ax)\n",
        "    # We want to show all ticks...\n",
        "    ax.set(xticks=np.arange(cm.shape[1]),\n",
        "           yticks=np.arange(cm.shape[0]),\n",
        "           # ... and label them with the respective list entries\n",
        "           xticklabels=classes, yticklabels=classes,\n",
        "           title=title,\n",
        "           ylabel='True label',\n",
        "           xlabel='Predicted label')\n",
        "\n",
        "    # Rotate the tick labels and set their alignment.\n",
        "    plt.setp(ax.get_xticklabels(), rotation=45, ha=\"right\",\n",
        "             rotation_mode=\"anchor\")\n",
        "    # Loop over data dimensions and create text annotations.\n",
        "    fmt = '.2f' if normalize else 'd'\n",
        "    thresh = cm.max() / 2.\n",
        "    for i in range(cm.shape[0]):\n",
        "        for j in range(cm.shape[1]):\n",
        "            ax.text(j, i, format(cm[i, j], fmt),\n",
        "                    ha=\"center\", va=\"center\",\n",
        "                    color=\"white\" if cm[i, j] > thresh else \"black\")\n",
        "    fig.tight_layout()\n",
        "    return ax\n",
        "np.set_printoptions(precision=2)\n",
        "# Plot non-normalized confusion matrix\n",
        "plot_confusion_matrix(y_test, y_pred, classes=class_names,\n",
        "                      title='Confusion matrix, without normalization')\n",
        "# Plot normalized confusion matrix\n",
        "plot_confusion_matrix(y_test, y_pred, classes=class_names, normalize=True,\n",
        "                      title='Normalized confusion matrix')\n",
        "plt.show()"
      ],
      "metadata": {
        "colab": {
          "base_uri": "https://localhost:8080/",
          "height": 0
        },
        "id": "kOee6kMGLNq5",
        "outputId": "1e1a387b-b8a6-45c6-e2b2-b91fce9f4253"
      },
      "execution_count": 37,
      "outputs": [
        {
          "output_type": "stream",
          "name": "stdout",
          "text": [
            "Confusion matrix, without normalization\n",
            "[[21  4 11]\n",
            " [ 0 39  1]\n",
            " [11  3 23]]\n",
            "Normalized confusion matrix\n",
            "[[0.58 0.11 0.31]\n",
            " [0.   0.97 0.03]\n",
            " [0.3  0.08 0.62]]\n"
          ]
        },
        {
          "output_type": "display_data",
          "data": {
            "text/plain": [
              "<Figure size 432x288 with 2 Axes>"
            ],
            "image/png": "[encoded data removed]"
          },
          "metadata": {
            "needs_background": "light"
          }
        },
        {
          "output_type": "display_data",
          "data": {
            "text/plain": [
              "<Figure size 432x288 with 2 Axes>"
            ],
            "image/png": "[encoded data removed]"
          },
          "metadata": {
            "needs_background": "light"
          }
        }
      ]
    },
    {
      "cell_type": "markdown",
      "source": [
        "#### 1  soft pre cate\n",
        "--> 0.743"
      ],
      "metadata": {
        "id": "OAQ8q5osNQJH"
      }
    },
    {
      "cell_type": "code",
      "source": [
        "BS = 1                                                      ##\n",
        "filepath = \"model1_soft_pre_cate.h5\"                  ##\n",
        "\n",
        "train_img_Dense = []\n",
        "for ImageName in tqdm(data_train3['ImageName']):              \n",
        "    image_path = All_3class_dir +'/' + ImageName                  \n",
        "    img = cv2.imread(image_path)                                          \n",
        "    img = cv2.resize(img, (224, 224))                                      \n",
        "    train_img_Dense.append(img)\n",
        "data_Dense = np.array(train_img_Dense, dtype=\"float32\") / 255.0\n",
        "\n",
        "labels_Dense = np.array(data_train3[['NameType']] )        \n",
        "labels_Dense.shape = (len(labels_Dense),) \n",
        "le_Dense = LabelEncoder()                                                                     \n",
        "labels_Dense = le_Dense.fit_transform(labels_Dense)                                         \n",
        "labels_Dense = to_categorical(labels_Dense, num_classes=3)                   \n",
        "\n",
        "aug = ImageDataGenerator(\trotation_range=15,\t\t\t\twidth_shift_range=0.1, \t\theight_shift_range=0.1,\n",
        "\t\tshear_range=0.15,\t\thorizontal_flip=True,  \t\tfill_mode=\"nearest\")\n",
        "\n",
        "callback = tf.keras.callbacks.EarlyStopping(  monitor=\"val_accuracy\",    patience=15,    mode=\"max\" )\n",
        "\n",
        "checkpoint = ModelCheckpoint(filepath, monitor='val_accuracy', verbose=1, \n",
        "                    save_best_only=True, mode='max')\n",
        "\n",
        "reduce_lr = ReduceLROnPlateau(monitor='val_accuracy', factor=0.5, patience=6, \n",
        "                                   verbose=1, mode='max', min_lr=0.00001)"
      ],
      "metadata": {
        "outputId": "04498bd2-190c-4a2a-be17-3b46c062f9fe",
        "colab": {
          "base_uri": "https://localhost:8080/"
        },
        "id": "rhvcA_OcNQJH"
      },
      "execution_count": 38,
      "outputs": [
        {
          "output_type": "stream",
          "name": "stderr",
          "text": [
            "100%|██████████| 450/450 [00:04<00:00, 92.05it/s] \n"
          ]
        }
      ]
    },
    {
      "cell_type": "code",
      "source": [
        "(x_train_Dense, x_test_Dense, y_train_Dense, y_test_Dense ) = train_test_split(data_Dense, labels_Dense,\n",
        "\t                                                                                                test_size=0.25, random_state=40)"
      ],
      "metadata": {
        "id": "bq5pB7C6NQJI"
      },
      "execution_count": 39,
      "outputs": []
    },
    {
      "cell_type": "code",
      "source": [
        "base_model_Dense = tf.keras.applications.DenseNet201(input_shape=(224, 224, 3), include_top=False, weights=\"imagenet\")\n",
        "base_model_Dense.trainable=False\n",
        "\n",
        "#Add custom head\n",
        "average_pooling_layer = tf.keras.layers.GlobalAveragePooling2D()(base_model_Dense.output)\n",
        "prediction_layer = tf.keras.layers.Dense(units=3, activation=\"softmax\")(average_pooling_layer)   \n",
        "model_Dense = tf.keras.models.Model(inputs=base_model_Dense.input, outputs=prediction_layer)\n",
        "\n",
        "model_Dense.compile(optimizer=RMSprop(learning_rate=0.0001), loss=\"categorical_crossentropy\", metrics=[\"accuracy\"])\n",
        "\n",
        "##\n",
        "H1_soft_pre_cate = model_Dense.fit( x=aug.flow(x_train_Dense, y_train_Dense, batch_size=BS),\n",
        "\t                                            validation_data=(x_test_Dense, y_test_Dense),\n",
        "\t                                            steps_per_epoch=len(x_train_Dense) // BS,\n",
        "\t                                            epochs=100,  callbacks = [callback, checkpoint, reduce_lr])\n",
        "##\n",
        "pred_H1_soft_pre_cate = model_Dense.predict(x_test_Dense)\n",
        "    \n",
        "\n",
        "print(classification_report(y_test_Dense.argmax(axis=1),\t                \n",
        "                                        pred_H1_soft_pre_cate.argmax(axis=1),  \n",
        "                                        target_names=le_Dense.classes_))\n",
        "\n",
        "# #download ไฟล์ลงเครื่อง\n",
        "# from google.colab import files\n",
        "# files.download( filepath)       "
      ],
      "metadata": {
        "outputId": "ea036f68-2af3-480c-b023-f44055e7bd4b",
        "colab": {
          "base_uri": "https://localhost:8080/"
        },
        "id": "QL_nCFgkNQJI"
      },
      "execution_count": 40,
      "outputs": [
        {
          "output_type": "stream",
          "name": "stdout",
          "text": [
            "Epoch 1/100\n",
            "337/337 [==============================] - ETA: 0s - loss: 1.1370 - accuracy: 0.3828\n",
            "Epoch 1: val_accuracy improved from -inf to 0.36283, saving model to model1_soft_pre_cate.h5\n",
            "337/337 [==============================] - 66s 127ms/step - loss: 1.1370 - accuracy: 0.3828 - val_loss: 1.0824 - val_accuracy: 0.3628 - lr: 1.0000e-04\n",
            "Epoch 2/100\n",
            "337/337 [==============================] - ETA: 0s - loss: 1.0183 - accuracy: 0.4481\n",
            "Epoch 2: val_accuracy improved from 0.36283 to 0.53982, saving model to model1_soft_pre_cate.h5\n",
            "337/337 [==============================] - 32s 93ms/step - loss: 1.0183 - accuracy: 0.4481 - val_loss: 0.9904 - val_accuracy: 0.5398 - lr: 1.0000e-04\n",
            "Epoch 3/100\n",
            "337/337 [==============================] - ETA: 0s - loss: 0.9114 - accuracy: 0.5638\n",
            "Epoch 3: val_accuracy improved from 0.53982 to 0.59292, saving model to model1_soft_pre_cate.h5\n",
            "337/337 [==============================] - 35s 103ms/step - loss: 0.9114 - accuracy: 0.5638 - val_loss: 0.9336 - val_accuracy: 0.5929 - lr: 1.0000e-04\n",
            "Epoch 4/100\n",
            "337/337 [==============================] - ETA: 0s - loss: 0.8598 - accuracy: 0.6024\n",
            "Epoch 4: val_accuracy did not improve from 0.59292\n",
            "337/337 [==============================] - 33s 97ms/step - loss: 0.8598 - accuracy: 0.6024 - val_loss: 0.9310 - val_accuracy: 0.5664 - lr: 1.0000e-04\n",
            "Epoch 5/100\n",
            "337/337 [==============================] - ETA: 0s - loss: 0.7803 - accuracy: 0.6944\n",
            "Epoch 5: val_accuracy improved from 0.59292 to 0.60177, saving model to model1_soft_pre_cate.h5\n",
            "337/337 [==============================] - 26s 78ms/step - loss: 0.7803 - accuracy: 0.6944 - val_loss: 0.8806 - val_accuracy: 0.6018 - lr: 1.0000e-04\n",
            "Epoch 6/100\n",
            "337/337 [==============================] - ETA: 0s - loss: 0.7452 - accuracy: 0.6944\n",
            "Epoch 6: val_accuracy improved from 0.60177 to 0.64602, saving model to model1_soft_pre_cate.h5\n",
            "337/337 [==============================] - 24s 73ms/step - loss: 0.7452 - accuracy: 0.6944 - val_loss: 0.8206 - val_accuracy: 0.6460 - lr: 1.0000e-04\n",
            "Epoch 7/100\n",
            "337/337 [==============================] - ETA: 0s - loss: 0.7307 - accuracy: 0.7033\n",
            "Epoch 7: val_accuracy did not improve from 0.64602\n",
            "337/337 [==============================] - 23s 67ms/step - loss: 0.7307 - accuracy: 0.7033 - val_loss: 0.7934 - val_accuracy: 0.6372 - lr: 1.0000e-04\n",
            "Epoch 8/100\n",
            "337/337 [==============================] - ETA: 0s - loss: 0.6891 - accuracy: 0.7062\n",
            "Epoch 8: val_accuracy improved from 0.64602 to 0.67257, saving model to model1_soft_pre_cate.h5\n",
            "337/337 [==============================] - 24s 71ms/step - loss: 0.6891 - accuracy: 0.7062 - val_loss: 0.7704 - val_accuracy: 0.6726 - lr: 1.0000e-04\n",
            "Epoch 9/100\n",
            "337/337 [==============================] - ETA: 0s - loss: 0.6592 - accuracy: 0.7626\n",
            "Epoch 9: val_accuracy did not improve from 0.67257\n",
            "337/337 [==============================] - 23s 67ms/step - loss: 0.6592 - accuracy: 0.7626 - val_loss: 0.8029 - val_accuracy: 0.6018 - lr: 1.0000e-04\n",
            "Epoch 10/100\n",
            "337/337 [==============================] - ETA: 0s - loss: 0.6555 - accuracy: 0.7211\n",
            "Epoch 10: val_accuracy improved from 0.67257 to 0.69027, saving model to model1_soft_pre_cate.h5\n",
            "337/337 [==============================] - 24s 71ms/step - loss: 0.6555 - accuracy: 0.7211 - val_loss: 0.7339 - val_accuracy: 0.6903 - lr: 1.0000e-04\n",
            "Epoch 11/100\n",
            "337/337 [==============================] - ETA: 0s - loss: 0.6306 - accuracy: 0.7596\n",
            "Epoch 11: val_accuracy did not improve from 0.69027\n",
            "337/337 [==============================] - 22s 66ms/step - loss: 0.6306 - accuracy: 0.7596 - val_loss: 0.7308 - val_accuracy: 0.6903 - lr: 1.0000e-04\n",
            "Epoch 12/100\n",
            "337/337 [==============================] - ETA: 0s - loss: 0.6244 - accuracy: 0.7329\n",
            "Epoch 12: val_accuracy improved from 0.69027 to 0.70796, saving model to model1_soft_pre_cate.h5\n",
            "337/337 [==============================] - 24s 71ms/step - loss: 0.6244 - accuracy: 0.7329 - val_loss: 0.7202 - val_accuracy: 0.7080 - lr: 1.0000e-04\n",
            "Epoch 13/100\n",
            "337/337 [==============================] - ETA: 0s - loss: 0.5733 - accuracy: 0.7804\n",
            "Epoch 13: val_accuracy did not improve from 0.70796\n",
            "337/337 [==============================] - 22s 66ms/step - loss: 0.5733 - accuracy: 0.7804 - val_loss: 0.7397 - val_accuracy: 0.6903 - lr: 1.0000e-04\n",
            "Epoch 14/100\n",
            "337/337 [==============================] - ETA: 0s - loss: 0.5849 - accuracy: 0.7804\n",
            "Epoch 14: val_accuracy improved from 0.70796 to 0.72566, saving model to model1_soft_pre_cate.h5\n",
            "337/337 [==============================] - 24s 71ms/step - loss: 0.5849 - accuracy: 0.7804 - val_loss: 0.6909 - val_accuracy: 0.7257 - lr: 1.0000e-04\n",
            "Epoch 15/100\n",
            "337/337 [==============================] - ETA: 0s - loss: 0.5781 - accuracy: 0.7626\n",
            "Epoch 15: val_accuracy did not improve from 0.72566\n",
            "337/337 [==============================] - 23s 67ms/step - loss: 0.5781 - accuracy: 0.7626 - val_loss: 0.7129 - val_accuracy: 0.7080 - lr: 1.0000e-04\n",
            "Epoch 16/100\n",
            "337/337 [==============================] - ETA: 0s - loss: 0.5528 - accuracy: 0.7834\n",
            "Epoch 16: val_accuracy did not improve from 0.72566\n",
            "337/337 [==============================] - 22s 67ms/step - loss: 0.5528 - accuracy: 0.7834 - val_loss: 0.6954 - val_accuracy: 0.6903 - lr: 1.0000e-04\n",
            "Epoch 17/100\n",
            "337/337 [==============================] - ETA: 0s - loss: 0.5462 - accuracy: 0.7864\n",
            "Epoch 17: val_accuracy did not improve from 0.72566\n",
            "337/337 [==============================] - 23s 67ms/step - loss: 0.5462 - accuracy: 0.7864 - val_loss: 0.7048 - val_accuracy: 0.6903 - lr: 1.0000e-04\n",
            "Epoch 18/100\n",
            "337/337 [==============================] - ETA: 0s - loss: 0.5260 - accuracy: 0.7893\n",
            "Epoch 18: val_accuracy did not improve from 0.72566\n",
            "337/337 [==============================] - 22s 66ms/step - loss: 0.5260 - accuracy: 0.7893 - val_loss: 0.6639 - val_accuracy: 0.7168 - lr: 1.0000e-04\n",
            "Epoch 19/100\n",
            "337/337 [==============================] - ETA: 0s - loss: 0.5260 - accuracy: 0.7834\n",
            "Epoch 19: val_accuracy did not improve from 0.72566\n",
            "337/337 [==============================] - 22s 66ms/step - loss: 0.5260 - accuracy: 0.7834 - val_loss: 0.6767 - val_accuracy: 0.6991 - lr: 1.0000e-04\n",
            "Epoch 20/100\n",
            "337/337 [==============================] - ETA: 0s - loss: 0.5525 - accuracy: 0.7804\n",
            "Epoch 20: val_accuracy did not improve from 0.72566\n",
            "\n",
            "Epoch 20: ReduceLROnPlateau reducing learning rate to 4.999999873689376e-05.\n",
            "337/337 [==============================] - 22s 67ms/step - loss: 0.5525 - accuracy: 0.7804 - val_loss: 0.6614 - val_accuracy: 0.7168 - lr: 1.0000e-04\n",
            "Epoch 21/100\n",
            "337/337 [==============================] - ETA: 0s - loss: 0.5283 - accuracy: 0.7804\n",
            "Epoch 21: val_accuracy did not improve from 0.72566\n",
            "337/337 [==============================] - 22s 67ms/step - loss: 0.5283 - accuracy: 0.7804 - val_loss: 0.6621 - val_accuracy: 0.7168 - lr: 5.0000e-05\n",
            "Epoch 22/100\n",
            "337/337 [==============================] - ETA: 0s - loss: 0.5321 - accuracy: 0.7953\n",
            "Epoch 22: val_accuracy improved from 0.72566 to 0.74336, saving model to model1_soft_pre_cate.h5\n",
            "337/337 [==============================] - 24s 71ms/step - loss: 0.5321 - accuracy: 0.7953 - val_loss: 0.6490 - val_accuracy: 0.7434 - lr: 5.0000e-05\n",
            "Epoch 23/100\n",
            "337/337 [==============================] - ETA: 0s - loss: 0.5309 - accuracy: 0.7774\n",
            "Epoch 23: val_accuracy did not improve from 0.74336\n",
            "337/337 [==============================] - 22s 66ms/step - loss: 0.5309 - accuracy: 0.7774 - val_loss: 0.6540 - val_accuracy: 0.7168 - lr: 5.0000e-05\n",
            "Epoch 24/100\n",
            "337/337 [==============================] - ETA: 0s - loss: 0.5320 - accuracy: 0.8160\n",
            "Epoch 24: val_accuracy did not improve from 0.74336\n",
            "337/337 [==============================] - 23s 67ms/step - loss: 0.5320 - accuracy: 0.8160 - val_loss: 0.6489 - val_accuracy: 0.7257 - lr: 5.0000e-05\n",
            "Epoch 25/100\n",
            "337/337 [==============================] - ETA: 0s - loss: 0.4942 - accuracy: 0.8012\n",
            "Epoch 25: val_accuracy did not improve from 0.74336\n",
            "337/337 [==============================] - 22s 67ms/step - loss: 0.4942 - accuracy: 0.8012 - val_loss: 0.6588 - val_accuracy: 0.7080 - lr: 5.0000e-05\n",
            "Epoch 26/100\n",
            "337/337 [==============================] - ETA: 0s - loss: 0.4907 - accuracy: 0.7923\n",
            "Epoch 26: val_accuracy did not improve from 0.74336\n",
            "337/337 [==============================] - 22s 66ms/step - loss: 0.4907 - accuracy: 0.7923 - val_loss: 0.6560 - val_accuracy: 0.7345 - lr: 5.0000e-05\n",
            "Epoch 27/100\n",
            "337/337 [==============================] - ETA: 0s - loss: 0.4938 - accuracy: 0.8071\n",
            "Epoch 27: val_accuracy did not improve from 0.74336\n",
            "337/337 [==============================] - 22s 67ms/step - loss: 0.4938 - accuracy: 0.8071 - val_loss: 0.6457 - val_accuracy: 0.7168 - lr: 5.0000e-05\n",
            "Epoch 28/100\n",
            "337/337 [==============================] - ETA: 0s - loss: 0.5016 - accuracy: 0.7953\n",
            "Epoch 28: val_accuracy did not improve from 0.74336\n",
            "\n",
            "Epoch 28: ReduceLROnPlateau reducing learning rate to 2.499999936844688e-05.\n",
            "337/337 [==============================] - 23s 67ms/step - loss: 0.5016 - accuracy: 0.7953 - val_loss: 0.6503 - val_accuracy: 0.7345 - lr: 5.0000e-05\n",
            "Epoch 29/100\n",
            "337/337 [==============================] - ETA: 0s - loss: 0.4723 - accuracy: 0.8279\n",
            "Epoch 29: val_accuracy did not improve from 0.74336\n",
            "337/337 [==============================] - 22s 66ms/step - loss: 0.4723 - accuracy: 0.8279 - val_loss: 0.6485 - val_accuracy: 0.7168 - lr: 2.5000e-05\n",
            "Epoch 30/100\n",
            "337/337 [==============================] - ETA: 0s - loss: 0.4985 - accuracy: 0.7982\n",
            "Epoch 30: val_accuracy did not improve from 0.74336\n",
            "337/337 [==============================] - 22s 67ms/step - loss: 0.4985 - accuracy: 0.7982 - val_loss: 0.6472 - val_accuracy: 0.7080 - lr: 2.5000e-05\n",
            "Epoch 31/100\n",
            "337/337 [==============================] - ETA: 0s - loss: 0.5118 - accuracy: 0.8071\n",
            "Epoch 31: val_accuracy did not improve from 0.74336\n",
            "337/337 [==============================] - 23s 67ms/step - loss: 0.5118 - accuracy: 0.8071 - val_loss: 0.6473 - val_accuracy: 0.7080 - lr: 2.5000e-05\n",
            "Epoch 32/100\n",
            "337/337 [==============================] - ETA: 0s - loss: 0.5108 - accuracy: 0.7953\n",
            "Epoch 32: val_accuracy did not improve from 0.74336\n",
            "337/337 [==============================] - 23s 67ms/step - loss: 0.5108 - accuracy: 0.7953 - val_loss: 0.6454 - val_accuracy: 0.7080 - lr: 2.5000e-05\n",
            "Epoch 33/100\n",
            "337/337 [==============================] - ETA: 0s - loss: 0.5091 - accuracy: 0.7982\n",
            "Epoch 33: val_accuracy did not improve from 0.74336\n",
            "337/337 [==============================] - 22s 67ms/step - loss: 0.5091 - accuracy: 0.7982 - val_loss: 0.6425 - val_accuracy: 0.7168 - lr: 2.5000e-05\n",
            "Epoch 34/100\n",
            "337/337 [==============================] - ETA: 0s - loss: 0.4643 - accuracy: 0.8160\n",
            "Epoch 34: val_accuracy did not improve from 0.74336\n",
            "\n",
            "Epoch 34: ReduceLROnPlateau reducing learning rate to 1.249999968422344e-05.\n",
            "337/337 [==============================] - 22s 67ms/step - loss: 0.4643 - accuracy: 0.8160 - val_loss: 0.6458 - val_accuracy: 0.7345 - lr: 2.5000e-05\n",
            "Epoch 35/100\n",
            "337/337 [==============================] - ETA: 0s - loss: 0.5277 - accuracy: 0.7685\n",
            "Epoch 35: val_accuracy did not improve from 0.74336\n",
            "337/337 [==============================] - 23s 67ms/step - loss: 0.5277 - accuracy: 0.7685 - val_loss: 0.6426 - val_accuracy: 0.7345 - lr: 1.2500e-05\n",
            "Epoch 36/100\n",
            "337/337 [==============================] - ETA: 0s - loss: 0.4443 - accuracy: 0.8160\n",
            "Epoch 36: val_accuracy did not improve from 0.74336\n",
            "337/337 [==============================] - 23s 67ms/step - loss: 0.4443 - accuracy: 0.8160 - val_loss: 0.6456 - val_accuracy: 0.7345 - lr: 1.2500e-05\n",
            "Epoch 37/100\n",
            "337/337 [==============================] - ETA: 0s - loss: 0.4385 - accuracy: 0.8249\n",
            "Epoch 37: val_accuracy did not improve from 0.74336\n",
            "337/337 [==============================] - 23s 67ms/step - loss: 0.4385 - accuracy: 0.8249 - val_loss: 0.6433 - val_accuracy: 0.7257 - lr: 1.2500e-05\n",
            "              precision    recall  f1-score   support\n",
            "\n",
            "  Lungcancer       0.65      0.67      0.66        36\n",
            "      Normal       0.78      0.97      0.87        40\n",
            "Tuberculosis       0.73      0.51      0.60        37\n",
            "\n",
            "    accuracy                           0.73       113\n",
            "   macro avg       0.72      0.72      0.71       113\n",
            "weighted avg       0.72      0.73      0.71       113\n",
            "\n"
          ]
        }
      ]
    },
    {
      "cell_type": "code",
      "source": [
        "from plotly import __version__\n",
        "%matplotlib inline\n",
        "import plotly.offline as pyo\n",
        "import plotly.graph_objs as go\n",
        "from plotly.offline import iplot\n",
        "import cufflinks as cf\n",
        "from plotly.offline import download_plotlyjs, init_notebook_mode, plot, iplot \n",
        "cf.go_offline()"
      ],
      "metadata": {
        "outputId": "3a3e7912-edcb-4602-86c9-fad8c06a2bbe",
        "colab": {
          "base_uri": "https://localhost:8080/",
          "height": 0
        },
        "id": "Lm4PduV7NQJJ"
      },
      "execution_count": 41,
      "outputs": [
        {
          "output_type": "display_data",
          "data": {
            "text/html": [
              "        <script type=\"text/javascript\">\n",
              "        window.PlotlyConfig = {MathJaxConfig: 'local'};\n",
              "        if (window.MathJax) {MathJax.Hub.Config({SVG: {font: \"STIX-Web\"}});}\n",
              "        if (typeof require !== 'undefined') {\n",
              "        require.undef(\"plotly\");\n",
              "        requirejs.config({\n",
              "            paths: {\n",
              "                'plotly': ['https://cdn.plot.ly/plotly-2.8.3.min']\n",
              "            }\n",
              "        });\n",
              "        require(['plotly'], function(Plotly) {\n",
              "            window._Plotly = Plotly;\n",
              "        });\n",
              "        }\n",
              "        </script>\n",
              "        "
            ]
          },
          "metadata": {}
        }
      ]
    },
    {
      "cell_type": "code",
      "source": [
        "H_Dense = H1_soft_pre_cate                            ##\n",
        "pred_Dense = pred_H1_soft_pre_cate               ##\n",
        "\n",
        "accuracy = H_Dense.history['accuracy']\n",
        "val_accuracy  = H_Dense.history['val_accuracy']\n",
        "\n",
        "loss = H_Dense.history['loss']\n",
        "val_loss = H_Dense.history['val_loss']\n",
        "plt.figure(figsize=(20,15))\n",
        "\n",
        "plt.subplot(2, 2, 1)\n",
        "plt.plot(accuracy, label = \"Training accuracy\")\n",
        "plt.plot(val_accuracy, label=\"Validation accuracy\")\n",
        "plt.legend()\n",
        "plt.title(\"Training vs validation accuracy\")\n",
        "\n",
        "plt.subplot(2,2,2)\n",
        "plt.plot(loss, label = \"Training loss\")\n",
        "plt.plot(val_loss, label=\"Validation loss\")\n",
        "plt.legend()\n",
        "plt.title(\"Training vs validation loss\")\n",
        "\n",
        "plt.figure()\n",
        "plt.show()"
      ],
      "metadata": {
        "outputId": "f0defbc2-a052-40de-c0bd-bbc5187f4a29",
        "colab": {
          "base_uri": "https://localhost:8080/",
          "height": 0
        },
        "id": "vWLN0juRNQJJ"
      },
      "execution_count": 42,
      "outputs": [
        {
          "output_type": "display_data",
          "data": {
            "text/plain": [
              "<Figure size 1440x1080 with 2 Axes>"
            ],
            "image/png": "[encoded data removed]"
          },
          "metadata": {
            "needs_background": "light"
          }
        },
        {
          "output_type": "display_data",
          "data": {
            "text/plain": [
              "<Figure size 432x288 with 0 Axes>"
            ]
          },
          "metadata": {}
        }
      ]
    },
    {
      "cell_type": "code",
      "source": [
        "y_pred = pred_H1_soft_pre_cate.argmax(axis=1)            ##\n",
        "y_true  = y_test_Dense.argmax(axis=1)\n",
        "y_test = y_test_Dense.argmax(axis=1)\n",
        "class_names = le_Dense.classes_\n",
        "\n",
        "def plot_confusion_matrix(y_true, y_pred, classes,\n",
        "                          normalize=False,\n",
        "                          title=None,\n",
        "                          cmap=plt.cm.OrRd):\n",
        "    \"\"\"\n",
        "    This function prints and plots the confusion matrix.\n",
        "    Normalization can be applied by setting `normalize=True`.\n",
        "    \"\"\"\n",
        "    if not title:\n",
        "        if normalize:\n",
        "            title = 'Normalized confusion matrix'\n",
        "        else:\n",
        "            title = 'Confusion matrix, without normalization'\n",
        "\n",
        "    # Compute confusion matrix\n",
        "    cm = confusion_matrix(y_true, y_pred)\n",
        "    # Only use the labels that appear in the data\n",
        "    classes = classes[unique_labels(y_true, y_pred)]\n",
        "    if normalize:\n",
        "        cm = cm.astype('float') / cm.sum(axis=1)[:, np.newaxis]\n",
        "        print(\"Normalized confusion matrix\")\n",
        "    else:\n",
        "        print('Confusion matrix, without normalization')\n",
        "    print(cm)\n",
        "    fig, ax = plt.subplots()\n",
        "    im = ax.imshow(cm, interpolation='nearest', cmap=cmap)\n",
        "    ax.figure.colorbar(im, ax=ax)\n",
        "    # We want to show all ticks...\n",
        "    ax.set(xticks=np.arange(cm.shape[1]),\n",
        "           yticks=np.arange(cm.shape[0]),\n",
        "           # ... and label them with the respective list entries\n",
        "           xticklabels=classes, yticklabels=classes,\n",
        "           title=title,\n",
        "           ylabel='True label',\n",
        "           xlabel='Predicted label')\n",
        "    # Rotate the tick labels and set their alignment.\n",
        "    plt.setp(ax.get_xticklabels(), rotation=45, ha=\"right\",\n",
        "             rotation_mode=\"anchor\")\n",
        "\n",
        "    # Loop over data dimensions and create text annotations.\n",
        "    fmt = '.2f' if normalize else 'd'\n",
        "    thresh = cm.max() / 2.\n",
        "    for i in range(cm.shape[0]):\n",
        "        for j in range(cm.shape[1]):\n",
        "            ax.text(j, i, format(cm[i, j], fmt),\n",
        "                    ha=\"center\", va=\"center\",\n",
        "                    color=\"white\" if cm[i, j] > thresh else \"black\")\n",
        "    fig.tight_layout()\n",
        "    return ax\n",
        "np.set_printoptions(precision=2)\n",
        "\n",
        "# Plot non-normalized confusion matrix\n",
        "plot_confusion_matrix(y_test, y_pred, classes=class_names,\n",
        "                      title='Confusion matrix, without normalization')\n",
        "# Plot normalized confusion matrix\n",
        "plot_confusion_matrix(y_test, y_pred, classes=class_names, normalize=True,\n",
        "                      title='Normalized confusion matrix')\n",
        "plt.show()"
      ],
      "metadata": {
        "outputId": "e440f6dd-8b3b-4e84-ead2-2467829a2afa",
        "colab": {
          "base_uri": "https://localhost:8080/",
          "height": 0
        },
        "id": "Cva_3IwCNQJJ"
      },
      "execution_count": 43,
      "outputs": [
        {
          "output_type": "stream",
          "name": "stdout",
          "text": [
            "Confusion matrix, without normalization\n",
            "[[24  5  7]\n",
            " [ 1 39  0]\n",
            " [12  6 19]]\n",
            "Normalized confusion matrix\n",
            "[[0.67 0.14 0.19]\n",
            " [0.03 0.97 0.  ]\n",
            " [0.32 0.16 0.51]]\n"
          ]
        },
        {
          "output_type": "display_data",
          "data": {
            "text/plain": [
              "<Figure size 432x288 with 2 Axes>"
            ],
            "image/png": "[encoded data removed]"
          },
          "metadata": {
            "needs_background": "light"
          }
        },
        {
          "output_type": "display_data",
          "data": {
            "text/plain": [
              "<Figure size 432x288 with 2 Axes>"
            ],
            "image/png": "[encoded data removed]"
          },
          "metadata": {
            "needs_background": "light"
          }
        }
      ]
    },
    {
      "cell_type": "code",
      "source": [
        ""
      ],
      "metadata": {
        "id": "cCtD4SxZNQJK"
      },
      "execution_count": 43,
      "outputs": []
    },
    {
      "cell_type": "code",
      "source": [
        "model = load_model(filepath)"
      ],
      "metadata": {
        "id": "3gJaWn4JNQJK"
      },
      "execution_count": 44,
      "outputs": []
    },
    {
      "cell_type": "code",
      "source": [
        "pred_model = model.predict(x_test_Dense)\n",
        "\n",
        "print(classification_report(y_test_Dense.argmax(axis=1),   pred_model.argmax(axis=1), target_names=le_Dense.classes_))"
      ],
      "metadata": {
        "outputId": "82493849-796a-4db5-bcac-493d6266e978",
        "colab": {
          "base_uri": "https://localhost:8080/"
        },
        "id": "rckX83KONQJK"
      },
      "execution_count": 45,
      "outputs": [
        {
          "output_type": "stream",
          "name": "stdout",
          "text": [
            "              precision    recall  f1-score   support\n",
            "\n",
            "  Lungcancer       0.68      0.64      0.66        36\n",
            "      Normal       0.83      0.95      0.88        40\n",
            "Tuberculosis       0.70      0.62      0.66        37\n",
            "\n",
            "    accuracy                           0.74       113\n",
            "   macro avg       0.73      0.74      0.73       113\n",
            "weighted avg       0.74      0.74      0.74       113\n",
            "\n"
          ]
        }
      ]
    },
    {
      "cell_type": "code",
      "source": [
        "y_pred = pred_model.argmax(axis=1)            ##\n",
        "y_true  = y_test_Dense.argmax(axis=1)\n",
        "y_test = y_test_Dense.argmax(axis=1)\n",
        "class_names = le_Dense.classes_\n",
        "\n",
        "def plot_confusion_matrix(y_true, y_pred, classes,\n",
        "                          normalize=False,\n",
        "                          title=None,\n",
        "                          cmap=plt.cm.OrRd):\n",
        "    \"\"\"\n",
        "    This function prints and plots the confusion matrix.\n",
        "    Normalization can be applied by setting `normalize=True`.\n",
        "    \"\"\"\n",
        "    if not title:\n",
        "        if normalize:\n",
        "            title = 'Normalized confusion matrix'\n",
        "        else:\n",
        "            title = 'Confusion matrix, without normalization'\n",
        "\n",
        "    # Compute confusion matrix\n",
        "    cm = confusion_matrix(y_true, y_pred)\n",
        "    # Only use the labels that appear in the data\n",
        "    classes = classes[unique_labels(y_true, y_pred)]\n",
        "    if normalize:\n",
        "        cm = cm.astype('float') / cm.sum(axis=1)[:, np.newaxis]\n",
        "        print(\"Normalized confusion matrix\")\n",
        "    else:\n",
        "        print('Confusion matrix, without normalization')\n",
        "    print(cm)\n",
        "    fig, ax = plt.subplots()\n",
        "    im = ax.imshow(cm, interpolation='nearest', cmap=cmap)\n",
        "    ax.figure.colorbar(im, ax=ax)\n",
        "    # We want to show all ticks...\n",
        "    ax.set(xticks=np.arange(cm.shape[1]),\n",
        "           yticks=np.arange(cm.shape[0]),\n",
        "           # ... and label them with the respective list entries\n",
        "           xticklabels=classes, yticklabels=classes,\n",
        "           title=title,\n",
        "           ylabel='True label',\n",
        "           xlabel='Predicted label')\n",
        "\n",
        "    # Rotate the tick labels and set their alignment.\n",
        "    plt.setp(ax.get_xticklabels(), rotation=45, ha=\"right\",\n",
        "             rotation_mode=\"anchor\")\n",
        "    # Loop over data dimensions and create text annotations.\n",
        "    fmt = '.2f' if normalize else 'd'\n",
        "    thresh = cm.max() / 2.\n",
        "    for i in range(cm.shape[0]):\n",
        "        for j in range(cm.shape[1]):\n",
        "            ax.text(j, i, format(cm[i, j], fmt),\n",
        "                    ha=\"center\", va=\"center\",\n",
        "                    color=\"white\" if cm[i, j] > thresh else \"black\")\n",
        "    fig.tight_layout()\n",
        "    return ax\n",
        "np.set_printoptions(precision=2)\n",
        "# Plot non-normalized confusion matrix\n",
        "plot_confusion_matrix(y_test, y_pred, classes=class_names,\n",
        "                      title='Confusion matrix, without normalization')\n",
        "# Plot normalized confusion matrix\n",
        "plot_confusion_matrix(y_test, y_pred, classes=class_names, normalize=True,\n",
        "                      title='Normalized confusion matrix')\n",
        "plt.show()"
      ],
      "metadata": {
        "colab": {
          "base_uri": "https://localhost:8080/",
          "height": 0
        },
        "outputId": "f9148afe-e05d-4501-ea97-5514d13c49c7",
        "id": "ARfjP7mDNQJL"
      },
      "execution_count": 46,
      "outputs": [
        {
          "output_type": "stream",
          "name": "stdout",
          "text": [
            "Confusion matrix, without normalization\n",
            "[[23  4  9]\n",
            " [ 1 38  1]\n",
            " [10  4 23]]\n",
            "Normalized confusion matrix\n",
            "[[0.64 0.11 0.25]\n",
            " [0.03 0.95 0.03]\n",
            " [0.27 0.11 0.62]]\n"
          ]
        },
        {
          "output_type": "display_data",
          "data": {
            "text/plain": [
              "<Figure size 432x288 with 2 Axes>"
            ],
            "image/png": "[encoded data removed]"
          },
          "metadata": {
            "needs_background": "light"
          }
        },
        {
          "output_type": "display_data",
          "data": {
            "text/plain": [
              "<Figure size 432x288 with 2 Axes>"
            ],
            "image/png": "[encoded data removed]"
          },
          "metadata": {
            "needs_background": "light"
          }
        }
      ]
    },
    {
      "cell_type": "markdown",
      "source": [
        "#### 1  soft pre cate adam\n",
        "--> 0.769"
      ],
      "metadata": {
        "id": "r53bDwS-NQJL"
      }
    },
    {
      "cell_type": "code",
      "source": [
        "BS = 1                                                      ##\n",
        "filepath = \"model1_soft_pre_cate_adam.h5\"                  ##\n",
        "\n",
        "train_img_Dense = []\n",
        "for ImageName in tqdm(data_train3['ImageName']):              \n",
        "    image_path = All_3class_dir +'/' + ImageName                  \n",
        "    img = cv2.imread(image_path)                                          \n",
        "    img = cv2.resize(img, (224, 224))                                      \n",
        "    train_img_Dense.append(img)\n",
        "data_Dense = np.array(train_img_Dense, dtype=\"float32\") / 255.0\n",
        "\n",
        "labels_Dense = np.array(data_train3[['NameType']] )        \n",
        "labels_Dense.shape = (len(labels_Dense),) \n",
        "le_Dense = LabelEncoder()                                                                     \n",
        "labels_Dense = le_Dense.fit_transform(labels_Dense)                                         \n",
        "labels_Dense = to_categorical(labels_Dense, num_classes=3)                   \n",
        "\n",
        "aug = ImageDataGenerator(\trotation_range=15,\t\t\t\twidth_shift_range=0.1, \t\theight_shift_range=0.1,\n",
        "\t\tshear_range=0.15,\t\thorizontal_flip=True,  \t\tfill_mode=\"nearest\")\n",
        "\n",
        "callback = tf.keras.callbacks.EarlyStopping(  monitor=\"val_accuracy\",    patience=15,    mode=\"max\" )\n",
        "\n",
        "checkpoint = ModelCheckpoint(filepath, monitor='val_accuracy', verbose=1, \n",
        "                    save_best_only=True, mode='max')\n",
        "\n",
        "reduce_lr = ReduceLROnPlateau(monitor='val_accuracy', factor=0.5, patience=6, \n",
        "                                   verbose=1, mode='max', min_lr=0.00001)"
      ],
      "metadata": {
        "outputId": "21a4f7c5-b9ca-4119-cf43-16aec5504443",
        "colab": {
          "base_uri": "https://localhost:8080/"
        },
        "id": "vx-R-U7fNQJL"
      },
      "execution_count": 47,
      "outputs": [
        {
          "output_type": "stream",
          "name": "stderr",
          "text": [
            "100%|██████████| 450/450 [00:08<00:00, 55.62it/s]\n"
          ]
        }
      ]
    },
    {
      "cell_type": "code",
      "source": [
        "(x_train_Dense, x_test_Dense, y_train_Dense, y_test_Dense ) = train_test_split(data_Dense, labels_Dense,\n",
        "\t                                                                                                test_size=0.25, random_state=40)"
      ],
      "metadata": {
        "id": "KuEyCMx3NQJM"
      },
      "execution_count": 48,
      "outputs": []
    },
    {
      "cell_type": "code",
      "source": [
        "base_model_Dense = tf.keras.applications.DenseNet201(input_shape=(224, 224, 3), include_top=False, weights=\"imagenet\")\n",
        "base_model_Dense.trainable=False\n",
        "\n",
        "#Add custom head\n",
        "average_pooling_layer = tf.keras.layers.GlobalAveragePooling2D()(base_model_Dense.output)\n",
        "prediction_layer = tf.keras.layers.Dense(units=3, activation=\"softmax\")(average_pooling_layer)   \n",
        "model_Dense = tf.keras.models.Model(inputs=base_model_Dense.input, outputs=prediction_layer)\n",
        "\n",
        "model_Dense.compile(optimizer=Adam(learning_rate=0.0001), loss=\"categorical_crossentropy\", metrics=[\"accuracy\"])\n",
        "\n",
        "##\n",
        "H1_soft_pre_cate = model_Dense.fit( x=aug.flow(x_train_Dense, y_train_Dense, batch_size=BS),\n",
        "\t                                            validation_data=(x_test_Dense, y_test_Dense),\n",
        "\t                                            steps_per_epoch=len(x_train_Dense) // BS,\n",
        "\t                                            epochs=100,  callbacks = [callback, checkpoint, reduce_lr])\n",
        "##\n",
        "pred_H1_soft_pre_cate = model_Dense.predict(x_test_Dense)\n",
        "    \n",
        "\n",
        "print(classification_report(y_test_Dense.argmax(axis=1),\t                \n",
        "                                        pred_H1_soft_pre_cate.argmax(axis=1),  \n",
        "                                        target_names=le_Dense.classes_))\n",
        "\n",
        "# #download ไฟล์ลงเครื่อง\n",
        "# from google.colab import files\n",
        "# files.download( filepath)       "
      ],
      "metadata": {
        "outputId": "7879552e-755f-4ec7-bf6d-9dfed5e9aac8",
        "colab": {
          "base_uri": "https://localhost:8080/"
        },
        "id": "PCpB_za3NQJM"
      },
      "execution_count": 49,
      "outputs": [
        {
          "output_type": "stream",
          "name": "stdout",
          "text": [
            "Epoch 1/100\n",
            "337/337 [==============================] - ETA: 0s - loss: 1.0442 - accuracy: 0.4125\n",
            "Epoch 1: val_accuracy improved from -inf to 0.53097, saving model to model1_soft_pre_cate_adam.h5\n",
            "337/337 [==============================] - 40s 82ms/step - loss: 1.0442 - accuracy: 0.4125 - val_loss: 0.9867 - val_accuracy: 0.5310 - lr: 1.0000e-04\n",
            "Epoch 2/100\n",
            "337/337 [==============================] - ETA: 0s - loss: 0.9137 - accuracy: 0.6172\n",
            "Epoch 2: val_accuracy improved from 0.53097 to 0.56637, saving model to model1_soft_pre_cate_adam.h5\n",
            "337/337 [==============================] - 24s 72ms/step - loss: 0.9137 - accuracy: 0.6172 - val_loss: 0.9425 - val_accuracy: 0.5664 - lr: 1.0000e-04\n",
            "Epoch 3/100\n",
            "337/337 [==============================] - ETA: 0s - loss: 0.8580 - accuracy: 0.6469\n",
            "Epoch 3: val_accuracy improved from 0.56637 to 0.61062, saving model to model1_soft_pre_cate_adam.h5\n",
            "337/337 [==============================] - 24s 72ms/step - loss: 0.8580 - accuracy: 0.6469 - val_loss: 0.8894 - val_accuracy: 0.6106 - lr: 1.0000e-04\n",
            "Epoch 4/100\n",
            "337/337 [==============================] - ETA: 0s - loss: 0.7995 - accuracy: 0.6706\n",
            "Epoch 4: val_accuracy improved from 0.61062 to 0.64602, saving model to model1_soft_pre_cate_adam.h5\n",
            "337/337 [==============================] - 24s 72ms/step - loss: 0.7995 - accuracy: 0.6706 - val_loss: 0.8443 - val_accuracy: 0.6460 - lr: 1.0000e-04\n",
            "Epoch 5/100\n",
            "337/337 [==============================] - ETA: 0s - loss: 0.7771 - accuracy: 0.6558\n",
            "Epoch 5: val_accuracy did not improve from 0.64602\n",
            "337/337 [==============================] - 22s 67ms/step - loss: 0.7771 - accuracy: 0.6558 - val_loss: 0.8082 - val_accuracy: 0.6106 - lr: 1.0000e-04\n",
            "Epoch 6/100\n",
            "337/337 [==============================] - ETA: 0s - loss: 0.7303 - accuracy: 0.7151\n",
            "Epoch 6: val_accuracy did not improve from 0.64602\n",
            "337/337 [==============================] - 22s 66ms/step - loss: 0.7303 - accuracy: 0.7151 - val_loss: 0.7826 - val_accuracy: 0.6372 - lr: 1.0000e-04\n",
            "Epoch 7/100\n",
            "337/337 [==============================] - ETA: 0s - loss: 0.6780 - accuracy: 0.7418\n",
            "Epoch 7: val_accuracy did not improve from 0.64602\n",
            "337/337 [==============================] - 22s 66ms/step - loss: 0.6780 - accuracy: 0.7418 - val_loss: 0.7671 - val_accuracy: 0.6460 - lr: 1.0000e-04\n",
            "Epoch 8/100\n",
            "337/337 [==============================] - ETA: 0s - loss: 0.6627 - accuracy: 0.7507\n",
            "Epoch 8: val_accuracy did not improve from 0.64602\n",
            "337/337 [==============================] - 22s 66ms/step - loss: 0.6627 - accuracy: 0.7507 - val_loss: 0.7512 - val_accuracy: 0.6195 - lr: 1.0000e-04\n",
            "Epoch 9/100\n",
            "337/337 [==============================] - ETA: 0s - loss: 0.6618 - accuracy: 0.7507\n",
            "Epoch 9: val_accuracy improved from 0.64602 to 0.65487, saving model to model1_soft_pre_cate_adam.h5\n",
            "337/337 [==============================] - 24s 70ms/step - loss: 0.6618 - accuracy: 0.7507 - val_loss: 0.7424 - val_accuracy: 0.6549 - lr: 1.0000e-04\n",
            "Epoch 10/100\n",
            "337/337 [==============================] - ETA: 0s - loss: 0.6324 - accuracy: 0.7359\n",
            "Epoch 10: val_accuracy did not improve from 0.65487\n",
            "337/337 [==============================] - 22s 66ms/step - loss: 0.6324 - accuracy: 0.7359 - val_loss: 0.7103 - val_accuracy: 0.6460 - lr: 1.0000e-04\n",
            "Epoch 11/100\n",
            "337/337 [==============================] - ETA: 0s - loss: 0.6075 - accuracy: 0.7418\n",
            "Epoch 11: val_accuracy improved from 0.65487 to 0.68142, saving model to model1_soft_pre_cate_adam.h5\n",
            "337/337 [==============================] - 24s 71ms/step - loss: 0.6075 - accuracy: 0.7418 - val_loss: 0.6997 - val_accuracy: 0.6814 - lr: 1.0000e-04\n",
            "Epoch 12/100\n",
            "337/337 [==============================] - ETA: 0s - loss: 0.6002 - accuracy: 0.7685\n",
            "Epoch 12: val_accuracy did not improve from 0.68142\n",
            "337/337 [==============================] - 22s 66ms/step - loss: 0.6002 - accuracy: 0.7685 - val_loss: 0.7667 - val_accuracy: 0.6106 - lr: 1.0000e-04\n",
            "Epoch 13/100\n",
            "337/337 [==============================] - ETA: 0s - loss: 0.5705 - accuracy: 0.7804\n",
            "Epoch 13: val_accuracy improved from 0.68142 to 0.69027, saving model to model1_soft_pre_cate_adam.h5\n",
            "337/337 [==============================] - 24s 71ms/step - loss: 0.5705 - accuracy: 0.7804 - val_loss: 0.6789 - val_accuracy: 0.6903 - lr: 1.0000e-04\n",
            "Epoch 14/100\n",
            "337/337 [==============================] - ETA: 0s - loss: 0.5490 - accuracy: 0.7864\n",
            "Epoch 14: val_accuracy did not improve from 0.69027\n",
            "337/337 [==============================] - 22s 66ms/step - loss: 0.5490 - accuracy: 0.7864 - val_loss: 0.6811 - val_accuracy: 0.6814 - lr: 1.0000e-04\n",
            "Epoch 15/100\n",
            "337/337 [==============================] - ETA: 0s - loss: 0.5631 - accuracy: 0.7982\n",
            "Epoch 15: val_accuracy did not improve from 0.69027\n",
            "337/337 [==============================] - 23s 67ms/step - loss: 0.5631 - accuracy: 0.7982 - val_loss: 0.6644 - val_accuracy: 0.6726 - lr: 1.0000e-04\n",
            "Epoch 16/100\n",
            "337/337 [==============================] - ETA: 0s - loss: 0.5513 - accuracy: 0.7953\n",
            "Epoch 16: val_accuracy did not improve from 0.69027\n",
            "337/337 [==============================] - 22s 66ms/step - loss: 0.5513 - accuracy: 0.7953 - val_loss: 0.6780 - val_accuracy: 0.6637 - lr: 1.0000e-04\n",
            "Epoch 17/100\n",
            "337/337 [==============================] - ETA: 0s - loss: 0.5386 - accuracy: 0.7834\n",
            "Epoch 17: val_accuracy improved from 0.69027 to 0.73451, saving model to model1_soft_pre_cate_adam.h5\n",
            "337/337 [==============================] - 24s 71ms/step - loss: 0.5386 - accuracy: 0.7834 - val_loss: 0.6544 - val_accuracy: 0.7345 - lr: 1.0000e-04\n",
            "Epoch 18/100\n",
            "337/337 [==============================] - ETA: 0s - loss: 0.5091 - accuracy: 0.8309\n",
            "Epoch 18: val_accuracy did not improve from 0.73451\n",
            "337/337 [==============================] - 22s 66ms/step - loss: 0.5091 - accuracy: 0.8309 - val_loss: 0.6681 - val_accuracy: 0.6903 - lr: 1.0000e-04\n",
            "Epoch 19/100\n",
            "337/337 [==============================] - ETA: 0s - loss: 0.5235 - accuracy: 0.7864\n",
            "Epoch 19: val_accuracy did not improve from 0.73451\n",
            "337/337 [==============================] - 22s 66ms/step - loss: 0.5235 - accuracy: 0.7864 - val_loss: 0.6387 - val_accuracy: 0.7345 - lr: 1.0000e-04\n",
            "Epoch 20/100\n",
            "337/337 [==============================] - ETA: 0s - loss: 0.5096 - accuracy: 0.7923\n",
            "Epoch 20: val_accuracy did not improve from 0.73451\n",
            "337/337 [==============================] - 22s 66ms/step - loss: 0.5096 - accuracy: 0.7923 - val_loss: 0.6396 - val_accuracy: 0.7080 - lr: 1.0000e-04\n",
            "Epoch 21/100\n",
            "337/337 [==============================] - ETA: 0s - loss: 0.5066 - accuracy: 0.8012\n",
            "Epoch 21: val_accuracy did not improve from 0.73451\n",
            "337/337 [==============================] - 23s 67ms/step - loss: 0.5066 - accuracy: 0.8012 - val_loss: 0.6428 - val_accuracy: 0.7257 - lr: 1.0000e-04\n",
            "Epoch 22/100\n",
            "337/337 [==============================] - ETA: 0s - loss: 0.4797 - accuracy: 0.8071\n",
            "Epoch 22: val_accuracy improved from 0.73451 to 0.74336, saving model to model1_soft_pre_cate_adam.h5\n",
            "337/337 [==============================] - 24s 71ms/step - loss: 0.4797 - accuracy: 0.8071 - val_loss: 0.6309 - val_accuracy: 0.7434 - lr: 1.0000e-04\n",
            "Epoch 23/100\n",
            "337/337 [==============================] - ETA: 0s - loss: 0.5007 - accuracy: 0.8220\n",
            "Epoch 23: val_accuracy did not improve from 0.74336\n",
            "337/337 [==============================] - 22s 66ms/step - loss: 0.5007 - accuracy: 0.8220 - val_loss: 0.6180 - val_accuracy: 0.7434 - lr: 1.0000e-04\n",
            "Epoch 24/100\n",
            "337/337 [==============================] - ETA: 0s - loss: 0.4902 - accuracy: 0.8042\n",
            "Epoch 24: val_accuracy did not improve from 0.74336\n",
            "337/337 [==============================] - 23s 67ms/step - loss: 0.4902 - accuracy: 0.8042 - val_loss: 0.6293 - val_accuracy: 0.7168 - lr: 1.0000e-04\n",
            "Epoch 25/100\n",
            "337/337 [==============================] - ETA: 0s - loss: 0.4806 - accuracy: 0.8279\n",
            "Epoch 25: val_accuracy did not improve from 0.74336\n",
            "337/337 [==============================] - 22s 66ms/step - loss: 0.4806 - accuracy: 0.8279 - val_loss: 0.6244 - val_accuracy: 0.7345 - lr: 1.0000e-04\n",
            "Epoch 26/100\n",
            "337/337 [==============================] - ETA: 0s - loss: 0.4544 - accuracy: 0.8427\n",
            "Epoch 26: val_accuracy improved from 0.74336 to 0.75221, saving model to model1_soft_pre_cate_adam.h5\n",
            "337/337 [==============================] - 24s 71ms/step - loss: 0.4544 - accuracy: 0.8427 - val_loss: 0.6110 - val_accuracy: 0.7522 - lr: 1.0000e-04\n",
            "Epoch 27/100\n",
            "337/337 [==============================] - ETA: 0s - loss: 0.4715 - accuracy: 0.8279\n",
            "Epoch 27: val_accuracy did not improve from 0.75221\n",
            "337/337 [==============================] - 22s 66ms/step - loss: 0.4715 - accuracy: 0.8279 - val_loss: 0.6251 - val_accuracy: 0.7257 - lr: 1.0000e-04\n",
            "Epoch 28/100\n",
            "337/337 [==============================] - ETA: 0s - loss: 0.4421 - accuracy: 0.8605\n",
            "Epoch 28: val_accuracy improved from 0.75221 to 0.76106, saving model to model1_soft_pre_cate_adam.h5\n",
            "337/337 [==============================] - 25s 74ms/step - loss: 0.4421 - accuracy: 0.8605 - val_loss: 0.6052 - val_accuracy: 0.7611 - lr: 1.0000e-04\n",
            "Epoch 29/100\n",
            "337/337 [==============================] - ETA: 0s - loss: 0.4566 - accuracy: 0.8190\n",
            "Epoch 29: val_accuracy did not improve from 0.76106\n",
            "337/337 [==============================] - 23s 67ms/step - loss: 0.4566 - accuracy: 0.8190 - val_loss: 0.6139 - val_accuracy: 0.7345 - lr: 1.0000e-04\n",
            "Epoch 30/100\n",
            "337/337 [==============================] - ETA: 0s - loss: 0.4535 - accuracy: 0.8190\n",
            "Epoch 30: val_accuracy did not improve from 0.76106\n",
            "337/337 [==============================] - 22s 67ms/step - loss: 0.4535 - accuracy: 0.8190 - val_loss: 0.6112 - val_accuracy: 0.7611 - lr: 1.0000e-04\n",
            "Epoch 31/100\n",
            "337/337 [==============================] - ETA: 0s - loss: 0.4240 - accuracy: 0.8457\n",
            "Epoch 31: val_accuracy did not improve from 0.76106\n",
            "337/337 [==============================] - 23s 67ms/step - loss: 0.4240 - accuracy: 0.8457 - val_loss: 0.5934 - val_accuracy: 0.7522 - lr: 1.0000e-04\n",
            "Epoch 32/100\n",
            "337/337 [==============================] - ETA: 0s - loss: 0.4404 - accuracy: 0.8398\n",
            "Epoch 32: val_accuracy did not improve from 0.76106\n",
            "337/337 [==============================] - 22s 66ms/step - loss: 0.4404 - accuracy: 0.8398 - val_loss: 0.6089 - val_accuracy: 0.7257 - lr: 1.0000e-04\n",
            "Epoch 33/100\n",
            "337/337 [==============================] - ETA: 0s - loss: 0.4498 - accuracy: 0.8101\n",
            "Epoch 33: val_accuracy did not improve from 0.76106\n",
            "337/337 [==============================] - 22s 66ms/step - loss: 0.4498 - accuracy: 0.8101 - val_loss: 0.6116 - val_accuracy: 0.7257 - lr: 1.0000e-04\n",
            "Epoch 34/100\n",
            "337/337 [==============================] - ETA: 0s - loss: 0.4399 - accuracy: 0.8398\n",
            "Epoch 34: val_accuracy did not improve from 0.76106\n",
            "\n",
            "Epoch 34: ReduceLROnPlateau reducing learning rate to 4.999999873689376e-05.\n",
            "337/337 [==============================] - 22s 66ms/step - loss: 0.4399 - accuracy: 0.8398 - val_loss: 0.5929 - val_accuracy: 0.7434 - lr: 1.0000e-04\n",
            "Epoch 35/100\n",
            "337/337 [==============================] - ETA: 0s - loss: 0.4362 - accuracy: 0.8249\n",
            "Epoch 35: val_accuracy improved from 0.76106 to 0.76991, saving model to model1_soft_pre_cate_adam.h5\n",
            "337/337 [==============================] - 24s 71ms/step - loss: 0.4362 - accuracy: 0.8249 - val_loss: 0.5856 - val_accuracy: 0.7699 - lr: 5.0000e-05\n",
            "Epoch 36/100\n",
            "337/337 [==============================] - ETA: 0s - loss: 0.4295 - accuracy: 0.8338\n",
            "Epoch 36: val_accuracy did not improve from 0.76991\n",
            "337/337 [==============================] - 22s 67ms/step - loss: 0.4295 - accuracy: 0.8338 - val_loss: 0.5845 - val_accuracy: 0.7699 - lr: 5.0000e-05\n",
            "Epoch 37/100\n",
            "337/337 [==============================] - ETA: 0s - loss: 0.4238 - accuracy: 0.8516\n",
            "Epoch 37: val_accuracy did not improve from 0.76991\n",
            "337/337 [==============================] - 22s 67ms/step - loss: 0.4238 - accuracy: 0.8516 - val_loss: 0.5842 - val_accuracy: 0.7611 - lr: 5.0000e-05\n",
            "Epoch 38/100\n",
            "337/337 [==============================] - ETA: 0s - loss: 0.3742 - accuracy: 0.8724\n",
            "Epoch 38: val_accuracy did not improve from 0.76991\n",
            "337/337 [==============================] - 22s 67ms/step - loss: 0.3742 - accuracy: 0.8724 - val_loss: 0.5888 - val_accuracy: 0.7699 - lr: 5.0000e-05\n",
            "Epoch 39/100\n",
            "337/337 [==============================] - ETA: 0s - loss: 0.4323 - accuracy: 0.8338\n",
            "Epoch 39: val_accuracy did not improve from 0.76991\n",
            "337/337 [==============================] - 22s 67ms/step - loss: 0.4323 - accuracy: 0.8338 - val_loss: 0.5804 - val_accuracy: 0.7522 - lr: 5.0000e-05\n",
            "Epoch 40/100\n",
            "337/337 [==============================] - ETA: 0s - loss: 0.4063 - accuracy: 0.8902\n",
            "Epoch 40: val_accuracy did not improve from 0.76991\n",
            "337/337 [==============================] - 23s 67ms/step - loss: 0.4063 - accuracy: 0.8902 - val_loss: 0.5796 - val_accuracy: 0.7611 - lr: 5.0000e-05\n",
            "Epoch 41/100\n",
            "337/337 [==============================] - ETA: 0s - loss: 0.4005 - accuracy: 0.8665\n",
            "Epoch 41: val_accuracy did not improve from 0.76991\n",
            "\n",
            "Epoch 41: ReduceLROnPlateau reducing learning rate to 2.499999936844688e-05.\n",
            "337/337 [==============================] - 23s 67ms/step - loss: 0.4005 - accuracy: 0.8665 - val_loss: 0.5799 - val_accuracy: 0.7699 - lr: 5.0000e-05\n",
            "Epoch 42/100\n",
            "337/337 [==============================] - ETA: 0s - loss: 0.4099 - accuracy: 0.8487\n",
            "Epoch 42: val_accuracy did not improve from 0.76991\n",
            "337/337 [==============================] - 22s 66ms/step - loss: 0.4099 - accuracy: 0.8487 - val_loss: 0.5774 - val_accuracy: 0.7699 - lr: 2.5000e-05\n",
            "Epoch 43/100\n",
            "337/337 [==============================] - ETA: 0s - loss: 0.3873 - accuracy: 0.8635\n",
            "Epoch 43: val_accuracy did not improve from 0.76991\n",
            "337/337 [==============================] - 22s 67ms/step - loss: 0.3873 - accuracy: 0.8635 - val_loss: 0.5783 - val_accuracy: 0.7699 - lr: 2.5000e-05\n",
            "Epoch 44/100\n",
            "337/337 [==============================] - ETA: 0s - loss: 0.4167 - accuracy: 0.8368\n",
            "Epoch 44: val_accuracy did not improve from 0.76991\n",
            "337/337 [==============================] - 23s 67ms/step - loss: 0.4167 - accuracy: 0.8368 - val_loss: 0.5772 - val_accuracy: 0.7611 - lr: 2.5000e-05\n",
            "Epoch 45/100\n",
            "337/337 [==============================] - ETA: 0s - loss: 0.4011 - accuracy: 0.8724\n",
            "Epoch 45: val_accuracy did not improve from 0.76991\n",
            "337/337 [==============================] - 22s 67ms/step - loss: 0.4011 - accuracy: 0.8724 - val_loss: 0.5762 - val_accuracy: 0.7699 - lr: 2.5000e-05\n",
            "Epoch 46/100\n",
            "337/337 [==============================] - ETA: 0s - loss: 0.3933 - accuracy: 0.8813\n",
            "Epoch 46: val_accuracy did not improve from 0.76991\n",
            "337/337 [==============================] - 22s 67ms/step - loss: 0.3933 - accuracy: 0.8813 - val_loss: 0.5778 - val_accuracy: 0.7611 - lr: 2.5000e-05\n",
            "Epoch 47/100\n",
            "337/337 [==============================] - ETA: 0s - loss: 0.3868 - accuracy: 0.8665\n",
            "Epoch 47: val_accuracy did not improve from 0.76991\n",
            "\n",
            "Epoch 47: ReduceLROnPlateau reducing learning rate to 1.249999968422344e-05.\n",
            "337/337 [==============================] - 23s 67ms/step - loss: 0.3868 - accuracy: 0.8665 - val_loss: 0.5762 - val_accuracy: 0.7699 - lr: 2.5000e-05\n",
            "Epoch 48/100\n",
            "337/337 [==============================] - ETA: 0s - loss: 0.3931 - accuracy: 0.8576\n",
            "Epoch 48: val_accuracy did not improve from 0.76991\n",
            "337/337 [==============================] - 22s 67ms/step - loss: 0.3931 - accuracy: 0.8576 - val_loss: 0.5772 - val_accuracy: 0.7699 - lr: 1.2500e-05\n",
            "Epoch 49/100\n",
            "337/337 [==============================] - ETA: 0s - loss: 0.4204 - accuracy: 0.8605\n",
            "Epoch 49: val_accuracy did not improve from 0.76991\n",
            "337/337 [==============================] - 23s 67ms/step - loss: 0.4204 - accuracy: 0.8605 - val_loss: 0.5774 - val_accuracy: 0.7611 - lr: 1.2500e-05\n",
            "Epoch 50/100\n",
            "337/337 [==============================] - ETA: 0s - loss: 0.4055 - accuracy: 0.8487\n",
            "Epoch 50: val_accuracy did not improve from 0.76991\n",
            "337/337 [==============================] - 23s 67ms/step - loss: 0.4055 - accuracy: 0.8487 - val_loss: 0.5765 - val_accuracy: 0.7699 - lr: 1.2500e-05\n",
            "              precision    recall  f1-score   support\n",
            "\n",
            "  Lungcancer       0.71      0.61      0.66        36\n",
            "      Normal       0.89      0.97      0.93        40\n",
            "Tuberculosis       0.68      0.70      0.69        37\n",
            "\n",
            "    accuracy                           0.77       113\n",
            "   macro avg       0.76      0.76      0.76       113\n",
            "weighted avg       0.76      0.77      0.76       113\n",
            "\n"
          ]
        }
      ]
    },
    {
      "cell_type": "code",
      "source": [
        "x_train_Dense.shape"
      ],
      "metadata": {
        "colab": {
          "base_uri": "https://localhost:8080/"
        },
        "id": "uwvL2NoqYb4e",
        "outputId": "1e50847a-9323-4414-a416-d89673596432"
      },
      "execution_count": 56,
      "outputs": [
        {
          "output_type": "execute_result",
          "data": {
            "text/plain": [
              "(337, 224, 224, 3)"
            ]
          },
          "metadata": {},
          "execution_count": 56
        }
      ]
    },
    {
      "cell_type": "code",
      "source": [
        "x_test_Dense.shape"
      ],
      "metadata": {
        "colab": {
          "base_uri": "https://localhost:8080/"
        },
        "id": "IQEwKPg1YiUJ",
        "outputId": "f6a77057-9329-4f41-cbc7-2071c2e5d891"
      },
      "execution_count": 58,
      "outputs": [
        {
          "output_type": "execute_result",
          "data": {
            "text/plain": [
              "(113, 224, 224, 3)"
            ]
          },
          "metadata": {},
          "execution_count": 58
        }
      ]
    },
    {
      "cell_type": "code",
      "source": [
        "from plotly import __version__\n",
        "%matplotlib inline\n",
        "import plotly.offline as pyo\n",
        "import plotly.graph_objs as go\n",
        "from plotly.offline import iplot\n",
        "import cufflinks as cf\n",
        "from plotly.offline import download_plotlyjs, init_notebook_mode, plot, iplot \n",
        "cf.go_offline()"
      ],
      "metadata": {
        "colab": {
          "base_uri": "https://localhost:8080/",
          "height": 17
        },
        "id": "8tawgackNQJM",
        "outputId": "c1c465a5-7327-4fb0-f4c3-78af59d706e6"
      },
      "execution_count": 50,
      "outputs": [
        {
          "output_type": "display_data",
          "data": {
            "text/html": [
              "        <script type=\"text/javascript\">\n",
              "        window.PlotlyConfig = {MathJaxConfig: 'local'};\n",
              "        if (window.MathJax) {MathJax.Hub.Config({SVG: {font: \"STIX-Web\"}});}\n",
              "        if (typeof require !== 'undefined') {\n",
              "        require.undef(\"plotly\");\n",
              "        requirejs.config({\n",
              "            paths: {\n",
              "                'plotly': ['https://cdn.plot.ly/plotly-2.8.3.min']\n",
              "            }\n",
              "        });\n",
              "        require(['plotly'], function(Plotly) {\n",
              "            window._Plotly = Plotly;\n",
              "        });\n",
              "        }\n",
              "        </script>\n",
              "        "
            ]
          },
          "metadata": {}
        }
      ]
    },
    {
      "cell_type": "code",
      "source": [
        "H_Dense = H1_soft_pre_cate                            ##\n",
        "pred_Dense = pred_H1_soft_pre_cate               ##\n",
        "\n",
        "accuracy = H_Dense.history['accuracy']\n",
        "val_accuracy  = H_Dense.history['val_accuracy']\n",
        "\n",
        "loss = H_Dense.history['loss']\n",
        "val_loss = H_Dense.history['val_loss']\n",
        "plt.figure(figsize=(20,15))\n",
        "\n",
        "plt.subplot(2, 2, 1)\n",
        "plt.plot(accuracy, label = \"Training accuracy\")\n",
        "plt.plot(val_accuracy, label=\"Validation accuracy\")\n",
        "plt.legend()\n",
        "plt.title(\"Training vs validation accuracy\")\n",
        "\n",
        "plt.subplot(2,2,2)\n",
        "plt.plot(loss, label = \"Training loss\")\n",
        "plt.plot(val_loss, label=\"Validation loss\")\n",
        "plt.legend()\n",
        "plt.title(\"Training vs validation loss\")\n",
        "\n",
        "plt.figure()\n",
        "plt.show()"
      ],
      "metadata": {
        "colab": {
          "base_uri": "https://localhost:8080/",
          "height": 452
        },
        "id": "BgmBdbjfNQJN",
        "outputId": "02d86174-7e1f-4213-c6ed-487675bd2786"
      },
      "execution_count": 51,
      "outputs": [
        {
          "output_type": "display_data",
          "data": {
            "text/plain": [
              "<Figure size 1440x1080 with 2 Axes>"
            ],
            "image/png": "[encoded data removed]"
          },
          "metadata": {
            "needs_background": "light"
          }
        },
        {
          "output_type": "display_data",
          "data": {
            "text/plain": [
              "<Figure size 432x288 with 0 Axes>"
            ]
          },
          "metadata": {}
        }
      ]
    },
    {
      "cell_type": "code",
      "source": [
        "y_pred = pred_H1_soft_pre_cate.argmax(axis=1)            ##\n",
        "y_true  = y_test_Dense.argmax(axis=1)\n",
        "y_test = y_test_Dense.argmax(axis=1)\n",
        "class_names = le_Dense.classes_\n",
        "\n",
        "def plot_confusion_matrix(y_true, y_pred, classes,\n",
        "                          normalize=False,\n",
        "                          title=None,\n",
        "                          cmap=plt.cm.OrRd):\n",
        "    \"\"\"\n",
        "    This function prints and plots the confusion matrix.\n",
        "    Normalization can be applied by setting `normalize=True`.\n",
        "    \"\"\"\n",
        "    if not title:\n",
        "        if normalize:\n",
        "            title = 'Normalized confusion matrix'\n",
        "        else:\n",
        "            title = 'Confusion matrix, without normalization'\n",
        "\n",
        "    # Compute confusion matrix\n",
        "    cm = confusion_matrix(y_true, y_pred)\n",
        "    # Only use the labels that appear in the data\n",
        "    classes = classes[unique_labels(y_true, y_pred)]\n",
        "    if normalize:\n",
        "        cm = cm.astype('float') / cm.sum(axis=1)[:, np.newaxis]\n",
        "        print(\"Normalized confusion matrix\")\n",
        "    else:\n",
        "        print('Confusion matrix, without normalization')\n",
        "    print(cm)\n",
        "    fig, ax = plt.subplots()\n",
        "    im = ax.imshow(cm, interpolation='nearest', cmap=cmap)\n",
        "    ax.figure.colorbar(im, ax=ax)\n",
        "    # We want to show all ticks...\n",
        "    ax.set(xticks=np.arange(cm.shape[1]),\n",
        "           yticks=np.arange(cm.shape[0]),\n",
        "           # ... and label them with the respective list entries\n",
        "           xticklabels=classes, yticklabels=classes,\n",
        "           title=title,\n",
        "           ylabel='True label',\n",
        "           xlabel='Predicted label')\n",
        "    # Rotate the tick labels and set their alignment.\n",
        "    plt.setp(ax.get_xticklabels(), rotation=45, ha=\"right\",\n",
        "             rotation_mode=\"anchor\")\n",
        "\n",
        "    # Loop over data dimensions and create text annotations.\n",
        "    fmt = '.2f' if normalize else 'd'\n",
        "    thresh = cm.max() / 2.\n",
        "    for i in range(cm.shape[0]):\n",
        "        for j in range(cm.shape[1]):\n",
        "            ax.text(j, i, format(cm[i, j], fmt),\n",
        "                    ha=\"center\", va=\"center\",\n",
        "                    color=\"white\" if cm[i, j] > thresh else \"black\")\n",
        "    fig.tight_layout()\n",
        "    return ax\n",
        "np.set_printoptions(precision=2)\n",
        "\n",
        "# Plot non-normalized confusion matrix\n",
        "plot_confusion_matrix(y_test, y_pred, classes=class_names,\n",
        "                      title='Confusion matrix, without normalization')\n",
        "# Plot normalized confusion matrix\n",
        "plot_confusion_matrix(y_test, y_pred, classes=class_names, normalize=True,\n",
        "                      title='Normalized confusion matrix')\n",
        "plt.show()"
      ],
      "metadata": {
        "colab": {
          "base_uri": "https://localhost:8080/",
          "height": 715
        },
        "id": "MHI2Lv0CNQJN",
        "outputId": "2b7d0a70-688c-4757-fe16-bc6b5cd5438f"
      },
      "execution_count": 52,
      "outputs": [
        {
          "output_type": "stream",
          "name": "stdout",
          "text": [
            "Confusion matrix, without normalization\n",
            "[[22  3 11]\n",
            " [ 0 39  1]\n",
            " [ 9  2 26]]\n",
            "Normalized confusion matrix\n",
            "[[0.61 0.08 0.31]\n",
            " [0.   0.97 0.03]\n",
            " [0.24 0.05 0.7 ]]\n"
          ]
        },
        {
          "output_type": "display_data",
          "data": {
            "text/plain": [
              "<Figure size 432x288 with 2 Axes>"
            ],
            "image/png": "[encoded data removed]"
          },
          "metadata": {
            "needs_background": "light"
          }
        },
        {
          "output_type": "display_data",
          "data": {
            "text/plain": [
              "<Figure size 432x288 with 2 Axes>"
            ],
            "image/png": "[encoded data removed]"
          },
          "metadata": {
            "needs_background": "light"
          }
        }
      ]
    },
    {
      "cell_type": "code",
      "source": [
        ""
      ],
      "metadata": {
        "id": "uL5zRR_MNQJN"
      },
      "execution_count": 52,
      "outputs": []
    },
    {
      "cell_type": "code",
      "source": [
        "model = load_model(filepath)"
      ],
      "metadata": {
        "id": "Qdbp-NwtNQJO"
      },
      "execution_count": 53,
      "outputs": []
    },
    {
      "cell_type": "code",
      "source": [
        "pred_model = model.predict(x_test_Dense)\n",
        "\n",
        "print(classification_report(y_test_Dense.argmax(axis=1),   pred_model.argmax(axis=1), target_names=le_Dense.classes_))"
      ],
      "metadata": {
        "colab": {
          "base_uri": "https://localhost:8080/"
        },
        "id": "YHTPiKD0NQJO",
        "outputId": "34cc7997-0b0b-4fbc-c235-eb371b0e48b6"
      },
      "execution_count": 54,
      "outputs": [
        {
          "output_type": "stream",
          "name": "stdout",
          "text": [
            "              precision    recall  f1-score   support\n",
            "\n",
            "  Lungcancer       0.71      0.61      0.66        36\n",
            "      Normal       0.89      0.97      0.93        40\n",
            "Tuberculosis       0.68      0.70      0.69        37\n",
            "\n",
            "    accuracy                           0.77       113\n",
            "   macro avg       0.76      0.76      0.76       113\n",
            "weighted avg       0.76      0.77      0.76       113\n",
            "\n"
          ]
        }
      ]
    },
    {
      "cell_type": "code",
      "source": [
        "y_pred = pred_model.argmax(axis=1)            ##\n",
        "y_true  = y_test_Dense.argmax(axis=1)\n",
        "y_test = y_test_Dense.argmax(axis=1)\n",
        "class_names = le_Dense.classes_\n",
        "\n",
        "def plot_confusion_matrix(y_true, y_pred, classes,\n",
        "                          normalize=False,\n",
        "                          title=None,\n",
        "                          cmap=plt.cm.OrRd):\n",
        "    \"\"\"\n",
        "    This function prints and plots the confusion matrix.\n",
        "    Normalization can be applied by setting `normalize=True`.\n",
        "    \"\"\"\n",
        "    if not title:\n",
        "        if normalize:\n",
        "            title = 'Normalized confusion matrix'\n",
        "        else:\n",
        "            title = 'Confusion matrix, without normalization'\n",
        "\n",
        "    # Compute confusion matrix\n",
        "    cm = confusion_matrix(y_true, y_pred)\n",
        "    # Only use the labels that appear in the data\n",
        "    classes = classes[unique_labels(y_true, y_pred)]\n",
        "    if normalize:\n",
        "        cm = cm.astype('float') / cm.sum(axis=1)[:, np.newaxis]\n",
        "        print(\"Normalized confusion matrix\")\n",
        "    else:\n",
        "        print('Confusion matrix, without normalization')\n",
        "    print(cm)\n",
        "    fig, ax = plt.subplots()\n",
        "    im = ax.imshow(cm, interpolation='nearest', cmap=cmap)\n",
        "    ax.figure.colorbar(im, ax=ax)\n",
        "    # We want to show all ticks...\n",
        "    ax.set(xticks=np.arange(cm.shape[1]),\n",
        "           yticks=np.arange(cm.shape[0]),\n",
        "           # ... and label them with the respective list entries\n",
        "           xticklabels=classes, yticklabels=classes,\n",
        "           title=title,\n",
        "           ylabel='True label',\n",
        "           xlabel='Predicted label')\n",
        "\n",
        "    # Rotate the tick labels and set their alignment.\n",
        "    plt.setp(ax.get_xticklabels(), rotation=45, ha=\"right\",\n",
        "             rotation_mode=\"anchor\")\n",
        "    # Loop over data dimensions and create text annotations.\n",
        "    fmt = '.2f' if normalize else 'd'\n",
        "    thresh = cm.max() / 2.\n",
        "    for i in range(cm.shape[0]):\n",
        "        for j in range(cm.shape[1]):\n",
        "            ax.text(j, i, format(cm[i, j], fmt),\n",
        "                    ha=\"center\", va=\"center\",\n",
        "                    color=\"white\" if cm[i, j] > thresh else \"black\")\n",
        "    fig.tight_layout()\n",
        "    return ax\n",
        "np.set_printoptions(precision=2)\n",
        "# Plot non-normalized confusion matrix\n",
        "plot_confusion_matrix(y_test, y_pred, classes=class_names,\n",
        "                      title='Confusion matrix, without normalization')\n",
        "# Plot normalized confusion matrix\n",
        "plot_confusion_matrix(y_test, y_pred, classes=class_names, normalize=True,\n",
        "                      title='Normalized confusion matrix')\n",
        "plt.show()"
      ],
      "metadata": {
        "colab": {
          "base_uri": "https://localhost:8080/",
          "height": 715
        },
        "id": "7R0Qn6DPNQJO",
        "outputId": "1c6f9fff-8fce-4a29-ed22-8d1fa32f7073"
      },
      "execution_count": 55,
      "outputs": [
        {
          "output_type": "stream",
          "name": "stdout",
          "text": [
            "Confusion matrix, without normalization\n",
            "[[22  3 11]\n",
            " [ 0 39  1]\n",
            " [ 9  2 26]]\n",
            "Normalized confusion matrix\n",
            "[[0.61 0.08 0.31]\n",
            " [0.   0.97 0.03]\n",
            " [0.24 0.05 0.7 ]]\n"
          ]
        },
        {
          "output_type": "display_data",
          "data": {
            "text/plain": [
              "<Figure size 432x288 with 2 Axes>"
            ],
            "image/png": "[encoded data removed]"
          },
          "metadata": {
            "needs_background": "light"
          }
        },
        {
          "output_type": "display_data",
          "data": {
            "text/plain": [
              "<Figure size 432x288 with 2 Axes>"
            ],
            "image/png": "[encoded data removed]"
          },
          "metadata": {
            "needs_background": "light"
          }
        }
      ]
    },
    {
      "cell_type": "markdown",
      "source": [
        "# 0-400 แก้แล้ว รอรัน"
      ],
      "metadata": {
        "id": "Ms0UjELbOR0J"
      }
    },
    {
      "cell_type": "markdown",
      "source": [
        "#### 1  fine cate\n",
        "--> 0."
      ],
      "metadata": {
        "id": "IjqNr_44PT2p"
      }
    },
    {
      "cell_type": "code",
      "source": [
        "BS = 1                                                     ##\n",
        "filepath = \"model1_fine_cate.h5\"                  ##\n",
        "\n",
        "train_img_Dense = []\n",
        "for ImageName in tqdm(data_train3['ImageName']):              \n",
        "    image_path = All_3class_dir +'/' + ImageName                  \n",
        "    img = cv2.imread(image_path)                                          \n",
        "    img = cv2.resize(img, (224, 224))                                      \n",
        "    train_img_Dense.append(img)\n",
        "data_Dense = np.array(train_img_Dense, dtype=\"float32\") / 255.0\n",
        "\n",
        "labels_Dense = np.array(data_train3[['NameType']] )        \n",
        "labels_Dense.shape = (len(labels_Dense),) \n",
        "le_Dense = LabelEncoder()                                                                     \n",
        "labels_Dense = le_Dense.fit_transform(labels_Dense)                                         \n",
        "labels_Dense = to_categorical(labels_Dense, num_classes=3)                   \n",
        "\n",
        "aug = ImageDataGenerator(\trotation_range=15,\t\t\t\twidth_shift_range=0.1, \t\theight_shift_range=0.1,\n",
        "\t\tshear_range=0.15,\t\thorizontal_flip=True,  \t\tfill_mode=\"nearest\")\n",
        "\n",
        "callback = tf.keras.callbacks.EarlyStopping(  monitor=\"val_accuracy\",    patience=15,    mode=\"max\" )\n",
        "\n",
        "checkpoint = ModelCheckpoint(filepath, monitor='val_accuracy', verbose=1, \n",
        "                    save_best_only=True, mode='max')\n",
        "\n",
        "reduce_lr = ReduceLROnPlateau(monitor='val_accuracy', factor=0.5, patience=6, \n",
        "                                   verbose=1, mode='max', min_lr=0.00001)"
      ],
      "metadata": {
        "outputId": "eb49c5d1-8726-481a-c6bc-8626ac72ab47",
        "colab": {
          "base_uri": "https://localhost:8080/"
        },
        "id": "npauyEHnPT2q"
      },
      "execution_count": 59,
      "outputs": [
        {
          "output_type": "stream",
          "name": "stderr",
          "text": [
            "100%|██████████| 450/450 [00:06<00:00, 66.81it/s] \n"
          ]
        }
      ]
    },
    {
      "cell_type": "code",
      "source": [
        "(x_train_Dense, x_test_Dense, y_train_Dense, y_test_Dense ) = train_test_split(data_Dense, labels_Dense,\n",
        "\t                                                                                                test_size=0.25, random_state=40)"
      ],
      "metadata": {
        "id": "thsz5aXIPT2q"
      },
      "execution_count": 60,
      "outputs": []
    },
    {
      "cell_type": "code",
      "source": [
        "base_model_Dense = tf.keras.applications.DenseNet201(input_shape=(224, 224, 3), include_top=False, weights=\"imagenet\")\n",
        "base_model_Dense.trainable = True\n",
        "for layer in base_model_Dense.layers[:400]:    #fix w & bias in layer 0-400\n",
        "    layer.trainable = False\n",
        "\n",
        "#Add custom head\n",
        "average_pooling_layer = tf.keras.layers.GlobalAveragePooling2D()(base_model_Dense.output)\n",
        "prediction_layer = tf.keras.layers.Dense(units=3, activation=\"softmax\")(average_pooling_layer)   \n",
        "model_Dense = tf.keras.models.Model(inputs=base_model_Dense.input, outputs=prediction_layer)\n",
        "\n",
        "model_Dense.compile(optimizer=RMSprop(learning_rate=0.0001), loss=\"categorical_crossentropy\", metrics=[\"accuracy\"])\n",
        "\n",
        "##\n",
        "H1_fine_cate = model_Dense.fit( x=aug.flow(x_train_Dense, y_train_Dense, batch_size=BS),\n",
        "\t                                            validation_data=(x_test_Dense, y_test_Dense),\n",
        "\t                                            steps_per_epoch=len(x_train_Dense) // BS,\n",
        "\t                                            epochs=100,  callbacks = [callback, checkpoint, reduce_lr])\n",
        "##\n",
        "pred_H1_fine_cate = model_Dense.predict(x_test_Dense)\n",
        "    \n",
        "\n",
        "print(classification_report(y_test_Dense.argmax(axis=1),\t                \n",
        "                                        pred_H1_fine_cate.argmax(axis=1),  \n",
        "                                        target_names=le_Dense.classes_))\n",
        "\n",
        "# #download ไฟล์ลงเครื่อง\n",
        "# from google.colab import files\n",
        "# files.download( filepath)       "
      ],
      "metadata": {
        "colab": {
          "base_uri": "https://localhost:8080/"
        },
        "id": "JQ4kCAodPT2q",
        "outputId": "453e6c7b-d999-47e1-e652-16cbbbadf481"
      },
      "execution_count": 61,
      "outputs": [
        {
          "output_type": "stream",
          "name": "stdout",
          "text": [
            "Epoch 1/100\n",
            "337/337 [==============================] - ETA: 0s - loss: 0.9959 - accuracy: 0.4985\n",
            "Epoch 1: val_accuracy improved from -inf to 0.53982, saving model to model1_fine_cate.h5\n",
            "337/337 [==============================] - 76s 143ms/step - loss: 0.9959 - accuracy: 0.4985 - val_loss: 0.8109 - val_accuracy: 0.5398 - lr: 1.0000e-04\n",
            "Epoch 2/100\n",
            "337/337 [==============================] - ETA: 0s - loss: 0.7178 - accuracy: 0.7122\n",
            "Epoch 2: val_accuracy improved from 0.53982 to 0.69027, saving model to model1_fine_cate.h5\n",
            "337/337 [==============================] - 45s 132ms/step - loss: 0.7178 - accuracy: 0.7122 - val_loss: 0.6277 - val_accuracy: 0.6903 - lr: 1.0000e-04\n",
            "Epoch 3/100\n",
            "337/337 [==============================] - ETA: 0s - loss: 0.6088 - accuracy: 0.7003\n",
            "Epoch 3: val_accuracy improved from 0.69027 to 0.69912, saving model to model1_fine_cate.h5\n",
            "337/337 [==============================] - 44s 130ms/step - loss: 0.6088 - accuracy: 0.7003 - val_loss: 0.7367 - val_accuracy: 0.6991 - lr: 1.0000e-04\n",
            "Epoch 4/100\n",
            "337/337 [==============================] - ETA: 0s - loss: 0.5040 - accuracy: 0.7864\n",
            "Epoch 4: val_accuracy did not improve from 0.69912\n",
            "337/337 [==============================] - 42s 126ms/step - loss: 0.5040 - accuracy: 0.7864 - val_loss: 0.7392 - val_accuracy: 0.6726 - lr: 1.0000e-04\n",
            "Epoch 5/100\n",
            "337/337 [==============================] - ETA: 0s - loss: 0.4071 - accuracy: 0.8457\n",
            "Epoch 5: val_accuracy did not improve from 0.69912\n",
            "337/337 [==============================] - 42s 124ms/step - loss: 0.4071 - accuracy: 0.8457 - val_loss: 1.0241 - val_accuracy: 0.5841 - lr: 1.0000e-04\n",
            "Epoch 6/100\n",
            "337/337 [==============================] - ETA: 0s - loss: 0.2960 - accuracy: 0.8961\n",
            "Epoch 6: val_accuracy did not improve from 0.69912\n",
            "337/337 [==============================] - 42s 124ms/step - loss: 0.2960 - accuracy: 0.8961 - val_loss: 2.3356 - val_accuracy: 0.5221 - lr: 1.0000e-04\n",
            "Epoch 7/100\n",
            "337/337 [==============================] - ETA: 0s - loss: 0.3186 - accuracy: 0.8783\n",
            "Epoch 7: val_accuracy did not improve from 0.69912\n",
            "337/337 [==============================] - 42s 124ms/step - loss: 0.3186 - accuracy: 0.8783 - val_loss: 0.8122 - val_accuracy: 0.6903 - lr: 1.0000e-04\n",
            "Epoch 8/100\n",
            "337/337 [==============================] - ETA: 0s - loss: 0.2509 - accuracy: 0.9228\n",
            "Epoch 8: val_accuracy did not improve from 0.69912\n",
            "337/337 [==============================] - 42s 124ms/step - loss: 0.2509 - accuracy: 0.9228 - val_loss: 1.1805 - val_accuracy: 0.6195 - lr: 1.0000e-04\n",
            "Epoch 9/100\n",
            "337/337 [==============================] - ETA: 0s - loss: 0.1720 - accuracy: 0.9436\n",
            "Epoch 9: val_accuracy did not improve from 0.69912\n",
            "\n",
            "Epoch 9: ReduceLROnPlateau reducing learning rate to 4.999999873689376e-05.\n",
            "337/337 [==============================] - 42s 124ms/step - loss: 0.1720 - accuracy: 0.9436 - val_loss: 1.5105 - val_accuracy: 0.5664 - lr: 1.0000e-04\n",
            "Epoch 10/100\n",
            "337/337 [==============================] - ETA: 0s - loss: 0.1089 - accuracy: 0.9674\n",
            "Epoch 10: val_accuracy did not improve from 0.69912\n",
            "337/337 [==============================] - 42s 124ms/step - loss: 0.1089 - accuracy: 0.9674 - val_loss: 1.8986 - val_accuracy: 0.5664 - lr: 5.0000e-05\n",
            "Epoch 11/100\n",
            "337/337 [==============================] - ETA: 0s - loss: 0.0555 - accuracy: 0.9852\n",
            "Epoch 11: val_accuracy did not improve from 0.69912\n",
            "337/337 [==============================] - 42s 123ms/step - loss: 0.0555 - accuracy: 0.9852 - val_loss: 1.8784 - val_accuracy: 0.5487 - lr: 5.0000e-05\n",
            "Epoch 12/100\n",
            "337/337 [==============================] - ETA: 0s - loss: 0.0662 - accuracy: 0.9733\n",
            "Epoch 12: val_accuracy did not improve from 0.69912\n",
            "337/337 [==============================] - 42s 123ms/step - loss: 0.0662 - accuracy: 0.9733 - val_loss: 2.5243 - val_accuracy: 0.5487 - lr: 5.0000e-05\n",
            "Epoch 13/100\n",
            "337/337 [==============================] - ETA: 0s - loss: 0.0751 - accuracy: 0.9852\n",
            "Epoch 13: val_accuracy did not improve from 0.69912\n",
            "337/337 [==============================] - 42s 123ms/step - loss: 0.0751 - accuracy: 0.9852 - val_loss: 1.8641 - val_accuracy: 0.5221 - lr: 5.0000e-05\n",
            "Epoch 14/100\n",
            "337/337 [==============================] - ETA: 0s - loss: 0.0285 - accuracy: 0.9911\n",
            "Epoch 14: val_accuracy did not improve from 0.69912\n",
            "337/337 [==============================] - 42s 125ms/step - loss: 0.0285 - accuracy: 0.9911 - val_loss: 2.2918 - val_accuracy: 0.6018 - lr: 5.0000e-05\n",
            "Epoch 15/100\n",
            "337/337 [==============================] - ETA: 0s - loss: 0.0483 - accuracy: 0.9911\n",
            "Epoch 15: val_accuracy did not improve from 0.69912\n",
            "\n",
            "Epoch 15: ReduceLROnPlateau reducing learning rate to 2.499999936844688e-05.\n",
            "337/337 [==============================] - 42s 124ms/step - loss: 0.0483 - accuracy: 0.9911 - val_loss: 3.4036 - val_accuracy: 0.5133 - lr: 5.0000e-05\n",
            "Epoch 16/100\n",
            "337/337 [==============================] - ETA: 0s - loss: 0.0112 - accuracy: 0.9970\n",
            "Epoch 16: val_accuracy did not improve from 0.69912\n",
            "337/337 [==============================] - 41s 123ms/step - loss: 0.0112 - accuracy: 0.9970 - val_loss: 3.1148 - val_accuracy: 0.4336 - lr: 2.5000e-05\n",
            "Epoch 17/100\n",
            "337/337 [==============================] - ETA: 0s - loss: 5.2925e-04 - accuracy: 1.0000\n",
            "Epoch 17: val_accuracy did not improve from 0.69912\n",
            "337/337 [==============================] - 42s 123ms/step - loss: 5.2925e-04 - accuracy: 1.0000 - val_loss: 3.2281 - val_accuracy: 0.5044 - lr: 2.5000e-05\n",
            "Epoch 18/100\n",
            "337/337 [==============================] - ETA: 0s - loss: 0.0013 - accuracy: 1.0000\n",
            "Epoch 18: val_accuracy did not improve from 0.69912\n",
            "337/337 [==============================] - 42s 124ms/step - loss: 0.0013 - accuracy: 1.0000 - val_loss: 3.8038 - val_accuracy: 0.5133 - lr: 2.5000e-05\n",
            "              precision    recall  f1-score   support\n",
            "\n",
            "  Lungcancer       0.88      0.39      0.54        36\n",
            "      Normal       1.00      0.23      0.37        40\n",
            "Tuberculosis       0.40      0.95      0.56        37\n",
            "\n",
            "    accuracy                           0.51       113\n",
            "   macro avg       0.76      0.52      0.49       113\n",
            "weighted avg       0.76      0.51      0.48       113\n",
            "\n"
          ]
        }
      ]
    },
    {
      "cell_type": "code",
      "source": [
        "from plotly import __version__\n",
        "%matplotlib inline\n",
        "import plotly.offline as pyo\n",
        "import plotly.graph_objs as go\n",
        "from plotly.offline import iplot\n",
        "import cufflinks as cf\n",
        "from plotly.offline import download_plotlyjs, init_notebook_mode, plot, iplot \n",
        "cf.go_offline()"
      ],
      "metadata": {
        "colab": {
          "base_uri": "https://localhost:8080/",
          "height": 17
        },
        "id": "v8Y99sx8PT2q",
        "outputId": "59098822-c235-4fe8-ae53-2c3349719eb4"
      },
      "execution_count": 62,
      "outputs": [
        {
          "output_type": "display_data",
          "data": {
            "text/html": [
              "        <script type=\"text/javascript\">\n",
              "        window.PlotlyConfig = {MathJaxConfig: 'local'};\n",
              "        if (window.MathJax) {MathJax.Hub.Config({SVG: {font: \"STIX-Web\"}});}\n",
              "        if (typeof require !== 'undefined') {\n",
              "        require.undef(\"plotly\");\n",
              "        requirejs.config({\n",
              "            paths: {\n",
              "                'plotly': ['https://cdn.plot.ly/plotly-2.8.3.min']\n",
              "            }\n",
              "        });\n",
              "        require(['plotly'], function(Plotly) {\n",
              "            window._Plotly = Plotly;\n",
              "        });\n",
              "        }\n",
              "        </script>\n",
              "        "
            ]
          },
          "metadata": {}
        }
      ]
    },
    {
      "cell_type": "code",
      "source": [
        "H_Dense = H1_fine_cate                           ##\n",
        "pred_Dense = pred_H1_fine_cate              ##\n",
        "\n",
        "accuracy = H_Dense.history['accuracy']\n",
        "val_accuracy  = H_Dense.history['val_accuracy']\n",
        "\n",
        "loss = H_Dense.history['loss']\n",
        "val_loss = H_Dense.history['val_loss']\n",
        "plt.figure(figsize=(20,15))\n",
        "\n",
        "plt.subplot(2, 2, 1)\n",
        "plt.plot(accuracy, label = \"Training accuracy\")\n",
        "plt.plot(val_accuracy, label=\"Validation accuracy\")\n",
        "plt.legend()\n",
        "plt.title(\"Training vs validation accuracy\")\n",
        "\n",
        "plt.subplot(2,2,2)\n",
        "plt.plot(loss, label = \"Training loss\")\n",
        "plt.plot(val_loss, label=\"Validation loss\")\n",
        "plt.legend()\n",
        "plt.title(\"Training vs validation loss\")\n",
        "\n",
        "plt.figure()\n",
        "plt.show()"
      ],
      "metadata": {
        "colab": {
          "base_uri": "https://localhost:8080/",
          "height": 452
        },
        "id": "LtNMFk3DPT2r",
        "outputId": "7f185e20-b280-49d1-ec19-42d850cb669f"
      },
      "execution_count": 63,
      "outputs": [
        {
          "output_type": "display_data",
          "data": {
            "text/plain": [
              "<Figure size 1440x1080 with 2 Axes>"
            ],
            "image/png": "[encoded data removed]"
          },
          "metadata": {
            "needs_background": "light"
          }
        },
        {
          "output_type": "display_data",
          "data": {
            "text/plain": [
              "<Figure size 432x288 with 0 Axes>"
            ]
          },
          "metadata": {}
        }
      ]
    },
    {
      "cell_type": "code",
      "source": [
        "y_pred = pred_H1_fine_cate.argmax(axis=1)            ##\n",
        "y_true  = y_test_Dense.argmax(axis=1)\n",
        "y_test = y_test_Dense.argmax(axis=1)\n",
        "class_names = le_Dense.classes_\n",
        "\n",
        "def plot_confusion_matrix(y_true, y_pred, classes,\n",
        "                          normalize=False,\n",
        "                          title=None,\n",
        "                          cmap=plt.cm.OrRd):\n",
        "    \"\"\"\n",
        "    This function prints and plots the confusion matrix.\n",
        "    Normalization can be applied by setting `normalize=True`.\n",
        "    \"\"\"\n",
        "    if not title:\n",
        "        if normalize:\n",
        "            title = 'Normalized confusion matrix'\n",
        "        else:\n",
        "            title = 'Confusion matrix, without normalization'\n",
        "\n",
        "    # Compute confusion matrix\n",
        "    cm = confusion_matrix(y_true, y_pred)\n",
        "    # Only use the labels that appear in the data\n",
        "    classes = classes[unique_labels(y_true, y_pred)]\n",
        "    if normalize:\n",
        "        cm = cm.astype('float') / cm.sum(axis=1)[:, np.newaxis]\n",
        "        print(\"Normalized confusion matrix\")\n",
        "    else:\n",
        "        print('Confusion matrix, without normalization')\n",
        "    print(cm)\n",
        "    fig, ax = plt.subplots()\n",
        "    im = ax.imshow(cm, interpolation='nearest', cmap=cmap)\n",
        "    ax.figure.colorbar(im, ax=ax)\n",
        "    # We want to show all ticks...\n",
        "    ax.set(xticks=np.arange(cm.shape[1]),\n",
        "           yticks=np.arange(cm.shape[0]),\n",
        "           # ... and label them with the respective list entries\n",
        "           xticklabels=classes, yticklabels=classes,\n",
        "           title=title,\n",
        "           ylabel='True label',\n",
        "           xlabel='Predicted label')\n",
        "    # Rotate the tick labels and set their alignment.\n",
        "    plt.setp(ax.get_xticklabels(), rotation=45, ha=\"right\",\n",
        "             rotation_mode=\"anchor\")\n",
        "\n",
        "    # Loop over data dimensions and create text annotations.\n",
        "    fmt = '.2f' if normalize else 'd'\n",
        "    thresh = cm.max() / 2.\n",
        "    for i in range(cm.shape[0]):\n",
        "        for j in range(cm.shape[1]):\n",
        "            ax.text(j, i, format(cm[i, j], fmt),\n",
        "                    ha=\"center\", va=\"center\",\n",
        "                    color=\"white\" if cm[i, j] > thresh else \"black\")\n",
        "    fig.tight_layout()\n",
        "    return ax\n",
        "np.set_printoptions(precision=2)\n",
        "\n",
        "# Plot non-normalized confusion matrix\n",
        "plot_confusion_matrix(y_test, y_pred, classes=class_names,\n",
        "                      title='Confusion matrix, without normalization')\n",
        "# Plot normalized confusion matrix\n",
        "plot_confusion_matrix(y_test, y_pred, classes=class_names, normalize=True,\n",
        "                      title='Normalized confusion matrix')\n",
        "plt.show()"
      ],
      "metadata": {
        "colab": {
          "base_uri": "https://localhost:8080/",
          "height": 715
        },
        "id": "p5wMO4qdPT2r",
        "outputId": "751182e3-2ec7-47d6-f719-c7abd51de621"
      },
      "execution_count": 64,
      "outputs": [
        {
          "output_type": "stream",
          "name": "stdout",
          "text": [
            "Confusion matrix, without normalization\n",
            "[[14  0 22]\n",
            " [ 0  9 31]\n",
            " [ 2  0 35]]\n",
            "Normalized confusion matrix\n",
            "[[0.39 0.   0.61]\n",
            " [0.   0.23 0.78]\n",
            " [0.05 0.   0.95]]\n"
          ]
        },
        {
          "output_type": "display_data",
          "data": {
            "text/plain": [
              "<Figure size 432x288 with 2 Axes>"
            ],
            "image/png": "[encoded data removed]"
          },
          "metadata": {
            "needs_background": "light"
          }
        },
        {
          "output_type": "display_data",
          "data": {
            "text/plain": [
              "<Figure size 432x288 with 2 Axes>"
            ],
            "image/png": "[encoded data removed]"
          },
          "metadata": {
            "needs_background": "light"
          }
        }
      ]
    },
    {
      "cell_type": "code",
      "source": [
        ""
      ],
      "metadata": {
        "id": "iJUOKC4fPT2r"
      },
      "execution_count": 64,
      "outputs": []
    },
    {
      "cell_type": "code",
      "source": [
        "model = load_model(filepath)"
      ],
      "metadata": {
        "id": "mIoFDnyjPT2r"
      },
      "execution_count": 65,
      "outputs": []
    },
    {
      "cell_type": "code",
      "source": [
        "pred_model = model.predict(x_test_Dense)\n",
        "\n",
        "print(classification_report(y_test_Dense.argmax(axis=1),   pred_model.argmax(axis=1), target_names=le_Dense.classes_))"
      ],
      "metadata": {
        "colab": {
          "base_uri": "https://localhost:8080/"
        },
        "id": "HBK-CnwVPT2r",
        "outputId": "a95e380b-e09d-4217-d3ae-dcb7146b5e22"
      },
      "execution_count": 66,
      "outputs": [
        {
          "output_type": "stream",
          "name": "stdout",
          "text": [
            "              precision    recall  f1-score   support\n",
            "\n",
            "  Lungcancer       0.58      0.86      0.70        36\n",
            "      Normal       0.97      0.75      0.85        40\n",
            "Tuberculosis       0.62      0.49      0.55        37\n",
            "\n",
            "    accuracy                           0.70       113\n",
            "   macro avg       0.72      0.70      0.70       113\n",
            "weighted avg       0.73      0.70      0.70       113\n",
            "\n"
          ]
        }
      ]
    },
    {
      "cell_type": "code",
      "source": [
        "y_pred = pred_model.argmax(axis=1)            ##\n",
        "y_true  = y_test_Dense.argmax(axis=1)\n",
        "y_test = y_test_Dense.argmax(axis=1)\n",
        "class_names = le_Dense.classes_\n",
        "\n",
        "def plot_confusion_matrix(y_true, y_pred, classes,\n",
        "                          normalize=False,\n",
        "                          title=None,\n",
        "                          cmap=plt.cm.OrRd):\n",
        "    \"\"\"\n",
        "    This function prints and plots the confusion matrix.\n",
        "    Normalization can be applied by setting `normalize=True`.\n",
        "    \"\"\"\n",
        "    if not title:\n",
        "        if normalize:\n",
        "            title = 'Normalized confusion matrix'\n",
        "        else:\n",
        "            title = 'Confusion matrix, without normalization'\n",
        "\n",
        "    # Compute confusion matrix\n",
        "    cm = confusion_matrix(y_true, y_pred)\n",
        "    # Only use the labels that appear in the data\n",
        "    classes = classes[unique_labels(y_true, y_pred)]\n",
        "    if normalize:\n",
        "        cm = cm.astype('float') / cm.sum(axis=1)[:, np.newaxis]\n",
        "        print(\"Normalized confusion matrix\")\n",
        "    else:\n",
        "        print('Confusion matrix, without normalization')\n",
        "    print(cm)\n",
        "    fig, ax = plt.subplots()\n",
        "    im = ax.imshow(cm, interpolation='nearest', cmap=cmap)\n",
        "    ax.figure.colorbar(im, ax=ax)\n",
        "    # We want to show all ticks...\n",
        "    ax.set(xticks=np.arange(cm.shape[1]),\n",
        "           yticks=np.arange(cm.shape[0]),\n",
        "           # ... and label them with the respective list entries\n",
        "           xticklabels=classes, yticklabels=classes,\n",
        "           title=title,\n",
        "           ylabel='True label',\n",
        "           xlabel='Predicted label')\n",
        "\n",
        "    # Rotate the tick labels and set their alignment.\n",
        "    plt.setp(ax.get_xticklabels(), rotation=45, ha=\"right\",\n",
        "             rotation_mode=\"anchor\")\n",
        "    # Loop over data dimensions and create text annotations.\n",
        "    fmt = '.2f' if normalize else 'd'\n",
        "    thresh = cm.max() / 2.\n",
        "    for i in range(cm.shape[0]):\n",
        "        for j in range(cm.shape[1]):\n",
        "            ax.text(j, i, format(cm[i, j], fmt),\n",
        "                    ha=\"center\", va=\"center\",\n",
        "                    color=\"white\" if cm[i, j] > thresh else \"black\")\n",
        "    fig.tight_layout()\n",
        "    return ax\n",
        "np.set_printoptions(precision=2)\n",
        "# Plot non-normalized confusion matrix\n",
        "plot_confusion_matrix(y_test, y_pred, classes=class_names,\n",
        "                      title='Confusion matrix, without normalization')\n",
        "# Plot normalized confusion matrix\n",
        "plot_confusion_matrix(y_test, y_pred, classes=class_names, normalize=True,\n",
        "                      title='Normalized confusion matrix')\n",
        "plt.show()"
      ],
      "metadata": {
        "colab": {
          "base_uri": "https://localhost:8080/",
          "height": 715
        },
        "id": "e4TvHDHHPT2r",
        "outputId": "a62965c6-c242-4693-ee8d-760b263c1327"
      },
      "execution_count": 67,
      "outputs": [
        {
          "output_type": "stream",
          "name": "stdout",
          "text": [
            "Confusion matrix, without normalization\n",
            "[[31  0  5]\n",
            " [ 4 30  6]\n",
            " [18  1 18]]\n",
            "Normalized confusion matrix\n",
            "[[0.86 0.   0.14]\n",
            " [0.1  0.75 0.15]\n",
            " [0.49 0.03 0.49]]\n"
          ]
        },
        {
          "output_type": "display_data",
          "data": {
            "text/plain": [
              "<Figure size 432x288 with 2 Axes>"
            ],
            "image/png": "[encoded data removed]"
          },
          "metadata": {
            "needs_background": "light"
          }
        },
        {
          "output_type": "display_data",
          "data": {
            "text/plain": [
              "<Figure size 432x288 with 2 Axes>"
            ],
            "image/png": "[encoded data removed]"
          },
          "metadata": {
            "needs_background": "light"
          }
        }
      ]
    },
    {
      "cell_type": "markdown",
      "source": [
        "#### 1  fine cate adam\n",
        "--> 0."
      ],
      "metadata": {
        "id": "evJm1lHLPT2s"
      }
    },
    {
      "cell_type": "code",
      "source": [
        "BS = 1                                                      ##\n",
        "filepath = \"model1_fine_cate_adam.h5\"                  ##\n",
        "\n",
        "train_img_Dense = []\n",
        "for ImageName in tqdm(data_train3['ImageName']):              \n",
        "    image_path = All_3class_dir +'/' + ImageName                  \n",
        "    img = cv2.imread(image_path)                                          \n",
        "    img = cv2.resize(img, (224, 224))                                      \n",
        "    train_img_Dense.append(img)\n",
        "data_Dense = np.array(train_img_Dense, dtype=\"float32\") / 255.0\n",
        "\n",
        "labels_Dense = np.array(data_train3[['NameType']] )        \n",
        "labels_Dense.shape = (len(labels_Dense),) \n",
        "le_Dense = LabelEncoder()                                                                     \n",
        "labels_Dense = le_Dense.fit_transform(labels_Dense)                                         \n",
        "labels_Dense = to_categorical(labels_Dense, num_classes=3)                   \n",
        "\n",
        "aug = ImageDataGenerator(\trotation_range=15,\t\t\t\twidth_shift_range=0.1, \t\theight_shift_range=0.1,\n",
        "\t\tshear_range=0.15,\t\thorizontal_flip=True,  \t\tfill_mode=\"nearest\")\n",
        "\n",
        "callback = tf.keras.callbacks.EarlyStopping(  monitor=\"val_accuracy\",    patience=15,    mode=\"max\" )\n",
        "\n",
        "checkpoint = ModelCheckpoint(filepath, monitor='val_accuracy', verbose=1, \n",
        "                    save_best_only=True, mode='max')\n",
        "\n",
        "reduce_lr = ReduceLROnPlateau(monitor='val_accuracy', factor=0.5, patience=6, \n",
        "                                   verbose=1, mode='max', min_lr=0.00001)"
      ],
      "metadata": {
        "outputId": "0f05ca55-a782-44b0-e2cb-5b950a601fb7",
        "colab": {
          "base_uri": "https://localhost:8080/"
        },
        "id": "WYtGDhulPT2s"
      },
      "execution_count": 68,
      "outputs": [
        {
          "output_type": "stream",
          "name": "stderr",
          "text": [
            "100%|██████████| 450/450 [00:04<00:00, 94.97it/s] \n"
          ]
        }
      ]
    },
    {
      "cell_type": "code",
      "source": [
        "(x_train_Dense, x_test_Dense, y_train_Dense, y_test_Dense ) = train_test_split(data_Dense, labels_Dense,\n",
        "\t                                                                                                test_size=0.25, random_state=40)"
      ],
      "metadata": {
        "id": "ZtDWjQuIPT2s"
      },
      "execution_count": 69,
      "outputs": []
    },
    {
      "cell_type": "code",
      "source": [
        "base_model_Dense = tf.keras.applications.DenseNet201(input_shape=(224, 224, 3), include_top=False, weights=\"imagenet\")\n",
        "base_model_Dense.trainable = True\n",
        "for layer in base_model_Dense.layers[:400]:    #fix w & bias in layer 0-400\n",
        "    layer.trainable = False\n",
        "\n",
        "#Add custom head\n",
        "average_pooling_layer = tf.keras.layers.GlobalAveragePooling2D()(base_model_Dense.output)\n",
        "prediction_layer = tf.keras.layers.Dense(units=3, activation=\"softmax\")(average_pooling_layer)   \n",
        "model_Dense = tf.keras.models.Model(inputs=base_model_Dense.input, outputs=prediction_layer)\n",
        "\n",
        "model_Dense.compile(optimizer=Adam(learning_rate=0.0001), loss=\"categorical_crossentropy\", metrics=[\"accuracy\"])\n",
        "\n",
        "##\n",
        "H1_fine_cate_adam = model_Dense.fit( x=aug.flow(x_train_Dense, y_train_Dense, batch_size=BS),\n",
        "\t                                            validation_data=(x_test_Dense, y_test_Dense),\n",
        "\t                                            steps_per_epoch=len(x_train_Dense) // BS,\n",
        "\t                                            epochs=100,  callbacks = [callback, checkpoint, reduce_lr])\n",
        "##\n",
        "pred_H1_fine_cate_adam = model_Dense.predict(x_test_Dense)\n",
        "    \n",
        "\n",
        "print(classification_report(y_test_Dense.argmax(axis=1),\t                \n",
        "                                        pred_H1_fine_cate_adam.argmax(axis=1),  \n",
        "                                        target_names=le_Dense.classes_))\n",
        "\n",
        "# #download ไฟล์ลงเครื่อง\n",
        "# from google.colab import files\n",
        "# files.download( filepath)       "
      ],
      "metadata": {
        "colab": {
          "base_uri": "https://localhost:8080/"
        },
        "id": "SpIQzvdhPT2s",
        "outputId": "6b30cfd2-4ba4-469c-f16f-23f10b33d3b5"
      },
      "execution_count": null,
      "outputs": [
        {
          "output_type": "stream",
          "name": "stdout",
          "text": [
            "Epoch 1/100\n",
            "337/337 [==============================] - ETA: 0s - loss: 1.0522 - accuracy: 0.4392"
          ]
        }
      ]
    },
    {
      "cell_type": "code",
      "source": [
        "from plotly import __version__\n",
        "%matplotlib inline\n",
        "import plotly.offline as pyo\n",
        "import plotly.graph_objs as go\n",
        "from plotly.offline import iplot\n",
        "import cufflinks as cf\n",
        "from plotly.offline import download_plotlyjs, init_notebook_mode, plot, iplot \n",
        "cf.go_offline()"
      ],
      "metadata": {
        "id": "gav7SPGYPT2s"
      },
      "execution_count": null,
      "outputs": []
    },
    {
      "cell_type": "code",
      "source": [
        "H_Dense = H1_fine_cate_adam                            ##\n",
        "pred_Dense = pred_H1_fine_cate_adam               ##\n",
        "\n",
        "accuracy = H_Dense.history['accuracy']\n",
        "val_accuracy  = H_Dense.history['val_accuracy']\n",
        "\n",
        "loss = H_Dense.history['loss']\n",
        "val_loss = H_Dense.history['val_loss']\n",
        "plt.figure(figsize=(20,15))\n",
        "\n",
        "plt.subplot(2, 2, 1)\n",
        "plt.plot(accuracy, label = \"Training accuracy\")\n",
        "plt.plot(val_accuracy, label=\"Validation accuracy\")\n",
        "plt.legend()\n",
        "plt.title(\"Training vs validation accuracy\")\n",
        "\n",
        "plt.subplot(2,2,2)\n",
        "plt.plot(loss, label = \"Training loss\")\n",
        "plt.plot(val_loss, label=\"Validation loss\")\n",
        "plt.legend()\n",
        "plt.title(\"Training vs validation loss\")\n",
        "\n",
        "plt.figure()\n",
        "plt.show()"
      ],
      "metadata": {
        "id": "MO6s-OjvPT2t"
      },
      "execution_count": null,
      "outputs": []
    },
    {
      "cell_type": "code",
      "source": [
        "y_pred = pred_H1_fine_cate_adam.argmax(axis=1)            ##\n",
        "y_true  = y_test_Dense.argmax(axis=1)\n",
        "y_test = y_test_Dense.argmax(axis=1)\n",
        "class_names = le_Dense.classes_\n",
        "\n",
        "def plot_confusion_matrix(y_true, y_pred, classes,\n",
        "                          normalize=False,\n",
        "                          title=None,\n",
        "                          cmap=plt.cm.OrRd):\n",
        "    \"\"\"\n",
        "    This function prints and plots the confusion matrix.\n",
        "    Normalization can be applied by setting `normalize=True`.\n",
        "    \"\"\"\n",
        "    if not title:\n",
        "        if normalize:\n",
        "            title = 'Normalized confusion matrix'\n",
        "        else:\n",
        "            title = 'Confusion matrix, without normalization'\n",
        "\n",
        "    # Compute confusion matrix\n",
        "    cm = confusion_matrix(y_true, y_pred)\n",
        "    # Only use the labels that appear in the data\n",
        "    classes = classes[unique_labels(y_true, y_pred)]\n",
        "    if normalize:\n",
        "        cm = cm.astype('float') / cm.sum(axis=1)[:, np.newaxis]\n",
        "        print(\"Normalized confusion matrix\")\n",
        "    else:\n",
        "        print('Confusion matrix, without normalization')\n",
        "    print(cm)\n",
        "    fig, ax = plt.subplots()\n",
        "    im = ax.imshow(cm, interpolation='nearest', cmap=cmap)\n",
        "    ax.figure.colorbar(im, ax=ax)\n",
        "    # We want to show all ticks...\n",
        "    ax.set(xticks=np.arange(cm.shape[1]),\n",
        "           yticks=np.arange(cm.shape[0]),\n",
        "           # ... and label them with the respective list entries\n",
        "           xticklabels=classes, yticklabels=classes,\n",
        "           title=title,\n",
        "           ylabel='True label',\n",
        "           xlabel='Predicted label')\n",
        "    # Rotate the tick labels and set their alignment.\n",
        "    plt.setp(ax.get_xticklabels(), rotation=45, ha=\"right\",\n",
        "             rotation_mode=\"anchor\")\n",
        "\n",
        "    # Loop over data dimensions and create text annotations.\n",
        "    fmt = '.2f' if normalize else 'd'\n",
        "    thresh = cm.max() / 2.\n",
        "    for i in range(cm.shape[0]):\n",
        "        for j in range(cm.shape[1]):\n",
        "            ax.text(j, i, format(cm[i, j], fmt),\n",
        "                    ha=\"center\", va=\"center\",\n",
        "                    color=\"white\" if cm[i, j] > thresh else \"black\")\n",
        "    fig.tight_layout()\n",
        "    return ax\n",
        "np.set_printoptions(precision=2)\n",
        "\n",
        "# Plot non-normalized confusion matrix\n",
        "plot_confusion_matrix(y_test, y_pred, classes=class_names,\n",
        "                      title='Confusion matrix, without normalization')\n",
        "# Plot normalized confusion matrix\n",
        "plot_confusion_matrix(y_test, y_pred, classes=class_names, normalize=True,\n",
        "                      title='Normalized confusion matrix')\n",
        "plt.show()"
      ],
      "metadata": {
        "id": "M-ppuL0dPT2t"
      },
      "execution_count": null,
      "outputs": []
    },
    {
      "cell_type": "code",
      "source": [
        ""
      ],
      "metadata": {
        "id": "zTzEEe0gPT2t"
      },
      "execution_count": null,
      "outputs": []
    },
    {
      "cell_type": "code",
      "source": [
        "model = load_model(filepath)"
      ],
      "metadata": {
        "id": "-8_5twAdPT2t"
      },
      "execution_count": null,
      "outputs": []
    },
    {
      "cell_type": "code",
      "source": [
        "pred_model = model.predict(x_test_Dense)\n",
        "\n",
        "print(classification_report(y_test_Dense.argmax(axis=1),   pred_model.argmax(axis=1), target_names=le_Dense.classes_))"
      ],
      "metadata": {
        "id": "qoAdZ3dWPT2t"
      },
      "execution_count": null,
      "outputs": []
    },
    {
      "cell_type": "code",
      "source": [
        "y_pred = pred_model.argmax(axis=1)            ##\n",
        "y_true  = y_test_Dense.argmax(axis=1)\n",
        "y_test = y_test_Dense.argmax(axis=1)\n",
        "class_names = le_Dense.classes_\n",
        "\n",
        "def plot_confusion_matrix(y_true, y_pred, classes,\n",
        "                          normalize=False,\n",
        "                          title=None,\n",
        "                          cmap=plt.cm.OrRd):\n",
        "    \"\"\"\n",
        "    This function prints and plots the confusion matrix.\n",
        "    Normalization can be applied by setting `normalize=True`.\n",
        "    \"\"\"\n",
        "    if not title:\n",
        "        if normalize:\n",
        "            title = 'Normalized confusion matrix'\n",
        "        else:\n",
        "            title = 'Confusion matrix, without normalization'\n",
        "\n",
        "    # Compute confusion matrix\n",
        "    cm = confusion_matrix(y_true, y_pred)\n",
        "    # Only use the labels that appear in the data\n",
        "    classes = classes[unique_labels(y_true, y_pred)]\n",
        "    if normalize:\n",
        "        cm = cm.astype('float') / cm.sum(axis=1)[:, np.newaxis]\n",
        "        print(\"Normalized confusion matrix\")\n",
        "    else:\n",
        "        print('Confusion matrix, without normalization')\n",
        "    print(cm)\n",
        "    fig, ax = plt.subplots()\n",
        "    im = ax.imshow(cm, interpolation='nearest', cmap=cmap)\n",
        "    ax.figure.colorbar(im, ax=ax)\n",
        "    # We want to show all ticks...\n",
        "    ax.set(xticks=np.arange(cm.shape[1]),\n",
        "           yticks=np.arange(cm.shape[0]),\n",
        "           # ... and label them with the respective list entries\n",
        "           xticklabels=classes, yticklabels=classes,\n",
        "           title=title,\n",
        "           ylabel='True label',\n",
        "           xlabel='Predicted label')\n",
        "\n",
        "    # Rotate the tick labels and set their alignment.\n",
        "    plt.setp(ax.get_xticklabels(), rotation=45, ha=\"right\",\n",
        "             rotation_mode=\"anchor\")\n",
        "    # Loop over data dimensions and create text annotations.\n",
        "    fmt = '.2f' if normalize else 'd'\n",
        "    thresh = cm.max() / 2.\n",
        "    for i in range(cm.shape[0]):\n",
        "        for j in range(cm.shape[1]):\n",
        "            ax.text(j, i, format(cm[i, j], fmt),\n",
        "                    ha=\"center\", va=\"center\",\n",
        "                    color=\"white\" if cm[i, j] > thresh else \"black\")\n",
        "    fig.tight_layout()\n",
        "    return ax\n",
        "np.set_printoptions(precision=2)\n",
        "# Plot non-normalized confusion matrix\n",
        "plot_confusion_matrix(y_test, y_pred, classes=class_names,\n",
        "                      title='Confusion matrix, without normalization')\n",
        "# Plot normalized confusion matrix\n",
        "plot_confusion_matrix(y_test, y_pred, classes=class_names, normalize=True,\n",
        "                      title='Normalized confusion matrix')\n",
        "plt.show()"
      ],
      "metadata": {
        "id": "tk8B7ZU-PT2v"
      },
      "execution_count": null,
      "outputs": []
    },
    {
      "cell_type": "markdown",
      "source": [
        "#### 8  fine cate\n",
        "--> 0."
      ],
      "metadata": {
        "id": "9zxeQt7kO8Q9"
      }
    },
    {
      "cell_type": "code",
      "source": [
        "BS = 8                                                      ##\n",
        "filepath = \"model8_fine_cate.h5\"                  ##\n",
        "\n",
        "train_img_Dense = []\n",
        "for ImageName in tqdm(data_train3['ImageName']):              \n",
        "    image_path = All_3class_dir +'/' + ImageName                  \n",
        "    img = cv2.imread(image_path)                                          \n",
        "    img = cv2.resize(img, (224, 224))                                      \n",
        "    train_img_Dense.append(img)\n",
        "data_Dense = np.array(train_img_Dense, dtype=\"float32\") / 255.0\n",
        "\n",
        "labels_Dense = np.array(data_train3[['NameType']] )        \n",
        "labels_Dense.shape = (len(labels_Dense),) \n",
        "le_Dense = LabelEncoder()                                                                     \n",
        "labels_Dense = le_Dense.fit_transform(labels_Dense)                                         \n",
        "labels_Dense = to_categorical(labels_Dense, num_classes=3)                   \n",
        "\n",
        "aug = ImageDataGenerator(\trotation_range=15,\t\t\t\twidth_shift_range=0.1, \t\theight_shift_range=0.1,\n",
        "\t\tshear_range=0.15,\t\thorizontal_flip=True,  \t\tfill_mode=\"nearest\")\n",
        "\n",
        "callback = tf.keras.callbacks.EarlyStopping(  monitor=\"val_accuracy\",    patience=15,    mode=\"max\" )\n",
        "\n",
        "checkpoint = ModelCheckpoint(filepath, monitor='val_accuracy', verbose=1, \n",
        "                    save_best_only=True, mode='max')\n",
        "\n",
        "reduce_lr = ReduceLROnPlateau(monitor='val_accuracy', factor=0.5, patience=6, \n",
        "                                   verbose=1, mode='max', min_lr=0.00001)"
      ],
      "metadata": {
        "outputId": "a8b5536f-bfd1-4aed-9e01-41e6b75b129e",
        "colab": {
          "base_uri": "https://localhost:8080/"
        },
        "id": "tFpUl7sZO8Q9"
      },
      "execution_count": null,
      "outputs": [
        {
          "output_type": "stream",
          "name": "stderr",
          "text": [
            "100%|██████████| 450/450 [00:04<00:00, 93.70it/s] \n"
          ]
        }
      ]
    },
    {
      "cell_type": "code",
      "source": [
        "(x_train_Dense, x_test_Dense, y_train_Dense, y_test_Dense ) = train_test_split(data_Dense, labels_Dense,\n",
        "\t                                                                                                test_size=0.25, random_state=40)"
      ],
      "metadata": {
        "id": "Hvz1sJ_eO8Q-"
      },
      "execution_count": null,
      "outputs": []
    },
    {
      "cell_type": "code",
      "source": [
        "base_model_Dense = tf.keras.applications.DenseNet201(input_shape=(224, 224, 3), include_top=False, weights=\"imagenet\")\n",
        "base_model_Dense.trainable = True\n",
        "for layer in base_model_Dense.layers[:400]:    #fix w & bias in layer 0-400\n",
        "    layer.trainable = False\n",
        "\n",
        "#Add custom head\n",
        "average_pooling_layer = tf.keras.layers.GlobalAveragePooling2D()(base_model_Dense.output)\n",
        "prediction_layer = tf.keras.layers.Dense(units=3, activation=\"softmax\")(average_pooling_layer)   \n",
        "model_Dense = tf.keras.models.Model(inputs=base_model_Dense.input, outputs=prediction_layer)\n",
        "\n",
        "model_Dense.compile(optimizer=RMSprop(learning_rate=0.0001), loss=\"categorical_crossentropy\", metrics=[\"accuracy\"])\n",
        "\n",
        "##\n",
        "H8_fine_cate = model_Dense.fit( x=aug.flow(x_train_Dense, y_train_Dense, batch_size=BS),\n",
        "\t                                            validation_data=(x_test_Dense, y_test_Dense),\n",
        "\t                                            steps_per_epoch=len(x_train_Dense) // BS,\n",
        "\t                                            epochs=100,  callbacks = [callback, checkpoint, reduce_lr])\n",
        "##\n",
        "pred_H8_fine_cate = model_Dense.predict(x_test_Dense)\n",
        "    \n",
        "\n",
        "print(classification_report(y_test_Dense.argmax(axis=1),\t                \n",
        "                                        pred_H8_fine_cate.argmax(axis=1),  \n",
        "                                        target_names=le_Dense.classes_))\n",
        "\n",
        "# #download ไฟล์ลงเครื่อง\n",
        "# from google.colab import files\n",
        "# files.download( filepath)       "
      ],
      "metadata": {
        "id": "2Iu1EE-LO8Q-"
      },
      "execution_count": null,
      "outputs": []
    },
    {
      "cell_type": "code",
      "source": [
        "from plotly import __version__\n",
        "%matplotlib inline\n",
        "import plotly.offline as pyo\n",
        "import plotly.graph_objs as go\n",
        "from plotly.offline import iplot\n",
        "import cufflinks as cf\n",
        "from plotly.offline import download_plotlyjs, init_notebook_mode, plot, iplot \n",
        "cf.go_offline()"
      ],
      "metadata": {
        "id": "JIonUTuHO8Q-"
      },
      "execution_count": null,
      "outputs": []
    },
    {
      "cell_type": "code",
      "source": [
        "H_Dense = H8_fine_cate                           ##\n",
        "pred_Dense = pred_H8_fine_cate              ##\n",
        "\n",
        "accuracy = H_Dense.history['accuracy']\n",
        "val_accuracy  = H_Dense.history['val_accuracy']\n",
        "\n",
        "loss = H_Dense.history['loss']\n",
        "val_loss = H_Dense.history['val_loss']\n",
        "plt.figure(figsize=(20,15))\n",
        "\n",
        "plt.subplot(2, 2, 1)\n",
        "plt.plot(accuracy, label = \"Training accuracy\")\n",
        "plt.plot(val_accuracy, label=\"Validation accuracy\")\n",
        "plt.legend()\n",
        "plt.title(\"Training vs validation accuracy\")\n",
        "\n",
        "plt.subplot(2,2,2)\n",
        "plt.plot(loss, label = \"Training loss\")\n",
        "plt.plot(val_loss, label=\"Validation loss\")\n",
        "plt.legend()\n",
        "plt.title(\"Training vs validation loss\")\n",
        "\n",
        "plt.figure()\n",
        "plt.show()"
      ],
      "metadata": {
        "id": "PuZXKKxvO8Q_"
      },
      "execution_count": null,
      "outputs": []
    },
    {
      "cell_type": "code",
      "source": [
        "y_pred = pred_H8_fine_cate.argmax(axis=1)            ##\n",
        "y_true  = y_test_Dense.argmax(axis=1)\n",
        "y_test = y_test_Dense.argmax(axis=1)\n",
        "class_names = le_Dense.classes_\n",
        "\n",
        "def plot_confusion_matrix(y_true, y_pred, classes,\n",
        "                          normalize=False,\n",
        "                          title=None,\n",
        "                          cmap=plt.cm.OrRd):\n",
        "    \"\"\"\n",
        "    This function prints and plots the confusion matrix.\n",
        "    Normalization can be applied by setting `normalize=True`.\n",
        "    \"\"\"\n",
        "    if not title:\n",
        "        if normalize:\n",
        "            title = 'Normalized confusion matrix'\n",
        "        else:\n",
        "            title = 'Confusion matrix, without normalization'\n",
        "\n",
        "    # Compute confusion matrix\n",
        "    cm = confusion_matrix(y_true, y_pred)\n",
        "    # Only use the labels that appear in the data\n",
        "    classes = classes[unique_labels(y_true, y_pred)]\n",
        "    if normalize:\n",
        "        cm = cm.astype('float') / cm.sum(axis=1)[:, np.newaxis]\n",
        "        print(\"Normalized confusion matrix\")\n",
        "    else:\n",
        "        print('Confusion matrix, without normalization')\n",
        "    print(cm)\n",
        "    fig, ax = plt.subplots()\n",
        "    im = ax.imshow(cm, interpolation='nearest', cmap=cmap)\n",
        "    ax.figure.colorbar(im, ax=ax)\n",
        "    # We want to show all ticks...\n",
        "    ax.set(xticks=np.arange(cm.shape[1]),\n",
        "           yticks=np.arange(cm.shape[0]),\n",
        "           # ... and label them with the respective list entries\n",
        "           xticklabels=classes, yticklabels=classes,\n",
        "           title=title,\n",
        "           ylabel='True label',\n",
        "           xlabel='Predicted label')\n",
        "    # Rotate the tick labels and set their alignment.\n",
        "    plt.setp(ax.get_xticklabels(), rotation=45, ha=\"right\",\n",
        "             rotation_mode=\"anchor\")\n",
        "\n",
        "    # Loop over data dimensions and create text annotations.\n",
        "    fmt = '.2f' if normalize else 'd'\n",
        "    thresh = cm.max() / 2.\n",
        "    for i in range(cm.shape[0]):\n",
        "        for j in range(cm.shape[1]):\n",
        "            ax.text(j, i, format(cm[i, j], fmt),\n",
        "                    ha=\"center\", va=\"center\",\n",
        "                    color=\"white\" if cm[i, j] > thresh else \"black\")\n",
        "    fig.tight_layout()\n",
        "    return ax\n",
        "np.set_printoptions(precision=2)\n",
        "\n",
        "# Plot non-normalized confusion matrix\n",
        "plot_confusion_matrix(y_test, y_pred, classes=class_names,\n",
        "                      title='Confusion matrix, without normalization')\n",
        "# Plot normalized confusion matrix\n",
        "plot_confusion_matrix(y_test, y_pred, classes=class_names, normalize=True,\n",
        "                      title='Normalized confusion matrix')\n",
        "plt.show()"
      ],
      "metadata": {
        "id": "nageX3a2O8Q_"
      },
      "execution_count": null,
      "outputs": []
    },
    {
      "cell_type": "code",
      "source": [
        ""
      ],
      "metadata": {
        "id": "T6WtM6s2O8Q_"
      },
      "execution_count": null,
      "outputs": []
    },
    {
      "cell_type": "code",
      "source": [
        "model = load_model(filepath)"
      ],
      "metadata": {
        "id": "IwfcAFEwO8Q_"
      },
      "execution_count": null,
      "outputs": []
    },
    {
      "cell_type": "code",
      "source": [
        "pred_model = model.predict(x_test_Dense)\n",
        "\n",
        "print(classification_report(y_test_Dense.argmax(axis=1),   pred_model.argmax(axis=1), target_names=le_Dense.classes_))"
      ],
      "metadata": {
        "id": "F-ePsx0-O8RA"
      },
      "execution_count": null,
      "outputs": []
    },
    {
      "cell_type": "code",
      "source": [
        "y_pred = pred_model.argmax(axis=1)            ##\n",
        "y_true  = y_test_Dense.argmax(axis=1)\n",
        "y_test = y_test_Dense.argmax(axis=1)\n",
        "class_names = le_Dense.classes_\n",
        "\n",
        "def plot_confusion_matrix(y_true, y_pred, classes,\n",
        "                          normalize=False,\n",
        "                          title=None,\n",
        "                          cmap=plt.cm.OrRd):\n",
        "    \"\"\"\n",
        "    This function prints and plots the confusion matrix.\n",
        "    Normalization can be applied by setting `normalize=True`.\n",
        "    \"\"\"\n",
        "    if not title:\n",
        "        if normalize:\n",
        "            title = 'Normalized confusion matrix'\n",
        "        else:\n",
        "            title = 'Confusion matrix, without normalization'\n",
        "\n",
        "    # Compute confusion matrix\n",
        "    cm = confusion_matrix(y_true, y_pred)\n",
        "    # Only use the labels that appear in the data\n",
        "    classes = classes[unique_labels(y_true, y_pred)]\n",
        "    if normalize:\n",
        "        cm = cm.astype('float') / cm.sum(axis=1)[:, np.newaxis]\n",
        "        print(\"Normalized confusion matrix\")\n",
        "    else:\n",
        "        print('Confusion matrix, without normalization')\n",
        "    print(cm)\n",
        "    fig, ax = plt.subplots()\n",
        "    im = ax.imshow(cm, interpolation='nearest', cmap=cmap)\n",
        "    ax.figure.colorbar(im, ax=ax)\n",
        "    # We want to show all ticks...\n",
        "    ax.set(xticks=np.arange(cm.shape[1]),\n",
        "           yticks=np.arange(cm.shape[0]),\n",
        "           # ... and label them with the respective list entries\n",
        "           xticklabels=classes, yticklabels=classes,\n",
        "           title=title,\n",
        "           ylabel='True label',\n",
        "           xlabel='Predicted label')\n",
        "\n",
        "    # Rotate the tick labels and set their alignment.\n",
        "    plt.setp(ax.get_xticklabels(), rotation=45, ha=\"right\",\n",
        "             rotation_mode=\"anchor\")\n",
        "    # Loop over data dimensions and create text annotations.\n",
        "    fmt = '.2f' if normalize else 'd'\n",
        "    thresh = cm.max() / 2.\n",
        "    for i in range(cm.shape[0]):\n",
        "        for j in range(cm.shape[1]):\n",
        "            ax.text(j, i, format(cm[i, j], fmt),\n",
        "                    ha=\"center\", va=\"center\",\n",
        "                    color=\"white\" if cm[i, j] > thresh else \"black\")\n",
        "    fig.tight_layout()\n",
        "    return ax\n",
        "np.set_printoptions(precision=2)\n",
        "# Plot non-normalized confusion matrix\n",
        "plot_confusion_matrix(y_test, y_pred, classes=class_names,\n",
        "                      title='Confusion matrix, without normalization')\n",
        "# Plot normalized confusion matrix\n",
        "plot_confusion_matrix(y_test, y_pred, classes=class_names, normalize=True,\n",
        "                      title='Normalized confusion matrix')\n",
        "plt.show()"
      ],
      "metadata": {
        "id": "CLkVPG5ZO8RA"
      },
      "execution_count": null,
      "outputs": []
    },
    {
      "cell_type": "markdown",
      "source": [
        "#### 8  fine cate adam\n",
        "--> 0."
      ],
      "metadata": {
        "id": "ngOypRFrOKir"
      }
    },
    {
      "cell_type": "code",
      "source": [
        "BS = 8                                                      ##\n",
        "filepath = \"model8_fine_cate_adam.h5\"                  ##\n",
        "\n",
        "train_img_Dense = []\n",
        "for ImageName in tqdm(data_train3['ImageName']):              \n",
        "    image_path = All_3class_dir +'/' + ImageName                  \n",
        "    img = cv2.imread(image_path)                                          \n",
        "    img = cv2.resize(img, (224, 224))                                      \n",
        "    train_img_Dense.append(img)\n",
        "data_Dense = np.array(train_img_Dense, dtype=\"float32\") / 255.0\n",
        "\n",
        "labels_Dense = np.array(data_train3[['NameType']] )        \n",
        "labels_Dense.shape = (len(labels_Dense),) \n",
        "le_Dense = LabelEncoder()                                                                     \n",
        "labels_Dense = le_Dense.fit_transform(labels_Dense)                                         \n",
        "labels_Dense = to_categorical(labels_Dense, num_classes=3)                   \n",
        "\n",
        "aug = ImageDataGenerator(\trotation_range=15,\t\t\t\twidth_shift_range=0.1, \t\theight_shift_range=0.1,\n",
        "\t\tshear_range=0.15,\t\thorizontal_flip=True,  \t\tfill_mode=\"nearest\")\n",
        "\n",
        "callback = tf.keras.callbacks.EarlyStopping(  monitor=\"val_accuracy\",    patience=15,    mode=\"max\" )\n",
        "\n",
        "checkpoint = ModelCheckpoint(filepath, monitor='val_accuracy', verbose=1, \n",
        "                    save_best_only=True, mode='max')\n",
        "\n",
        "reduce_lr = ReduceLROnPlateau(monitor='val_accuracy', factor=0.5, patience=6, \n",
        "                                   verbose=1, mode='max', min_lr=0.00001)"
      ],
      "metadata": {
        "outputId": "a8b5536f-bfd1-4aed-9e01-41e6b75b129e",
        "colab": {
          "base_uri": "https://localhost:8080/"
        },
        "id": "oW0zkPQwOKir"
      },
      "execution_count": null,
      "outputs": [
        {
          "output_type": "stream",
          "name": "stderr",
          "text": [
            "100%|██████████| 450/450 [00:04<00:00, 93.70it/s] \n"
          ]
        }
      ]
    },
    {
      "cell_type": "code",
      "source": [
        "(x_train_Dense, x_test_Dense, y_train_Dense, y_test_Dense ) = train_test_split(data_Dense, labels_Dense,\n",
        "\t                                                                                                test_size=0.25, random_state=40)"
      ],
      "metadata": {
        "id": "R7KjFVx-OKir"
      },
      "execution_count": null,
      "outputs": []
    },
    {
      "cell_type": "code",
      "source": [
        "base_model_Dense = tf.keras.applications.DenseNet201(input_shape=(224, 224, 3), include_top=False, weights=\"imagenet\")\n",
        "base_model_Dense.trainable = True\n",
        "for layer in base_model_Dense.layers[:400]:    #fix w & bias in layer 0-400\n",
        "    layer.trainable = False\n",
        "#Add custom head\n",
        "average_pooling_layer = tf.keras.layers.GlobalAveragePooling2D()(base_model_Dense.output)\n",
        "prediction_layer = tf.keras.layers.Dense(units=3, activation=\"softmax\")(average_pooling_layer)   \n",
        "model_Dense = tf.keras.models.Model(inputs=base_model_Dense.input, outputs=prediction_layer)\n",
        "\n",
        "model_Dense.compile(optimizer=Adam(learning_rate=0.0001), loss=\"categorical_crossentropy\", metrics=[\"accuracy\"])\n",
        "\n",
        "##\n",
        "H8_fine_cate_adam = model_Dense.fit( x=aug.flow(x_train_Dense, y_train_Dense, batch_size=BS),\n",
        "\t                                            validation_data=(x_test_Dense, y_test_Dense),\n",
        "\t                                            steps_per_epoch=len(x_train_Dense) // BS,\n",
        "\t                                            epochs=100,  callbacks = [callback, checkpoint, reduce_lr])\n",
        "##\n",
        "pred_H8_fine_cate_adam = model_Dense.predict(x_test_Dense)\n",
        "    \n",
        "\n",
        "print(classification_report(y_test_Dense.argmax(axis=1),\t                \n",
        "                                        pred_H8_fine_cate_adam.argmax(axis=1),  \n",
        "                                        target_names=le_Dense.classes_))\n",
        "\n",
        "# #download ไฟล์ลงเครื่อง\n",
        "# from google.colab import files\n",
        "# files.download( filepath)       "
      ],
      "metadata": {
        "id": "58P8zoG0OKir"
      },
      "execution_count": null,
      "outputs": []
    },
    {
      "cell_type": "code",
      "source": [
        "from plotly import __version__\n",
        "%matplotlib inline\n",
        "import plotly.offline as pyo\n",
        "import plotly.graph_objs as go\n",
        "from plotly.offline import iplot\n",
        "import cufflinks as cf\n",
        "from plotly.offline import download_plotlyjs, init_notebook_mode, plot, iplot \n",
        "cf.go_offline()"
      ],
      "metadata": {
        "id": "iq9r5G1MOKir"
      },
      "execution_count": null,
      "outputs": []
    },
    {
      "cell_type": "code",
      "source": [
        "H_Dense = H8_fine_cate_adam                            ##\n",
        "pred_Dense = pred_H8_fine_cate_adam               ##\n",
        "\n",
        "accuracy = H_Dense.history['accuracy']\n",
        "val_accuracy  = H_Dense.history['val_accuracy']\n",
        "\n",
        "loss = H_Dense.history['loss']\n",
        "val_loss = H_Dense.history['val_loss']\n",
        "plt.figure(figsize=(20,15))\n",
        "\n",
        "plt.subplot(2, 2, 1)\n",
        "plt.plot(accuracy, label = \"Training accuracy\")\n",
        "plt.plot(val_accuracy, label=\"Validation accuracy\")\n",
        "plt.legend()\n",
        "plt.title(\"Training vs validation accuracy\")\n",
        "\n",
        "plt.subplot(2,2,2)\n",
        "plt.plot(loss, label = \"Training loss\")\n",
        "plt.plot(val_loss, label=\"Validation loss\")\n",
        "plt.legend()\n",
        "plt.title(\"Training vs validation loss\")\n",
        "\n",
        "plt.figure()\n",
        "plt.show()"
      ],
      "metadata": {
        "id": "B-sF0RjSOKis"
      },
      "execution_count": null,
      "outputs": []
    },
    {
      "cell_type": "code",
      "source": [
        "y_pred = pred_H8_fine_cate_adam.argmax(axis=1)            ##\n",
        "y_true  = y_test_Dense.argmax(axis=1)\n",
        "y_test = y_test_Dense.argmax(axis=1)\n",
        "class_names = le_Dense.classes_\n",
        "\n",
        "def plot_confusion_matrix(y_true, y_pred, classes,\n",
        "                          normalize=False,\n",
        "                          title=None,\n",
        "                          cmap=plt.cm.OrRd):\n",
        "    \"\"\"\n",
        "    This function prints and plots the confusion matrix.\n",
        "    Normalization can be applied by setting `normalize=True`.\n",
        "    \"\"\"\n",
        "    if not title:\n",
        "        if normalize:\n",
        "            title = 'Normalized confusion matrix'\n",
        "        else:\n",
        "            title = 'Confusion matrix, without normalization'\n",
        "\n",
        "    # Compute confusion matrix\n",
        "    cm = confusion_matrix(y_true, y_pred)\n",
        "    # Only use the labels that appear in the data\n",
        "    classes = classes[unique_labels(y_true, y_pred)]\n",
        "    if normalize:\n",
        "        cm = cm.astype('float') / cm.sum(axis=1)[:, np.newaxis]\n",
        "        print(\"Normalized confusion matrix\")\n",
        "    else:\n",
        "        print('Confusion matrix, without normalization')\n",
        "    print(cm)\n",
        "    fig, ax = plt.subplots()\n",
        "    im = ax.imshow(cm, interpolation='nearest', cmap=cmap)\n",
        "    ax.figure.colorbar(im, ax=ax)\n",
        "    # We want to show all ticks...\n",
        "    ax.set(xticks=np.arange(cm.shape[1]),\n",
        "           yticks=np.arange(cm.shape[0]),\n",
        "           # ... and label them with the respective list entries\n",
        "           xticklabels=classes, yticklabels=classes,\n",
        "           title=title,\n",
        "           ylabel='True label',\n",
        "           xlabel='Predicted label')\n",
        "    # Rotate the tick labels and set their alignment.\n",
        "    plt.setp(ax.get_xticklabels(), rotation=45, ha=\"right\",\n",
        "             rotation_mode=\"anchor\")\n",
        "\n",
        "    # Loop over data dimensions and create text annotations.\n",
        "    fmt = '.2f' if normalize else 'd'\n",
        "    thresh = cm.max() / 2.\n",
        "    for i in range(cm.shape[0]):\n",
        "        for j in range(cm.shape[1]):\n",
        "            ax.text(j, i, format(cm[i, j], fmt),\n",
        "                    ha=\"center\", va=\"center\",\n",
        "                    color=\"white\" if cm[i, j] > thresh else \"black\")\n",
        "    fig.tight_layout()\n",
        "    return ax\n",
        "np.set_printoptions(precision=2)\n",
        "\n",
        "# Plot non-normalized confusion matrix\n",
        "plot_confusion_matrix(y_test, y_pred, classes=class_names,\n",
        "                      title='Confusion matrix, without normalization')\n",
        "# Plot normalized confusion matrix\n",
        "plot_confusion_matrix(y_test, y_pred, classes=class_names, normalize=True,\n",
        "                      title='Normalized confusion matrix')\n",
        "plt.show()"
      ],
      "metadata": {
        "id": "kyGnO5W-OKis"
      },
      "execution_count": null,
      "outputs": []
    },
    {
      "cell_type": "code",
      "source": [
        ""
      ],
      "metadata": {
        "id": "L3iEHAUBOKis"
      },
      "execution_count": null,
      "outputs": []
    },
    {
      "cell_type": "code",
      "source": [
        "model = load_model(filepath)"
      ],
      "metadata": {
        "id": "2iFeS_ENOKis"
      },
      "execution_count": null,
      "outputs": []
    },
    {
      "cell_type": "code",
      "source": [
        "pred_model = model.predict(x_test_Dense)\n",
        "\n",
        "print(classification_report(y_test_Dense.argmax(axis=1),   pred_model.argmax(axis=1), target_names=le_Dense.classes_))"
      ],
      "metadata": {
        "id": "_EystN0UOKis"
      },
      "execution_count": null,
      "outputs": []
    },
    {
      "cell_type": "code",
      "source": [
        "y_pred = pred_model.argmax(axis=1)            ##\n",
        "y_true  = y_test_Dense.argmax(axis=1)\n",
        "y_test = y_test_Dense.argmax(axis=1)\n",
        "class_names = le_Dense.classes_\n",
        "\n",
        "def plot_confusion_matrix(y_true, y_pred, classes,\n",
        "                          normalize=False,\n",
        "                          title=None,\n",
        "                          cmap=plt.cm.OrRd):\n",
        "    \"\"\"\n",
        "    This function prints and plots the confusion matrix.\n",
        "    Normalization can be applied by setting `normalize=True`.\n",
        "    \"\"\"\n",
        "    if not title:\n",
        "        if normalize:\n",
        "            title = 'Normalized confusion matrix'\n",
        "        else:\n",
        "            title = 'Confusion matrix, without normalization'\n",
        "\n",
        "    # Compute confusion matrix\n",
        "    cm = confusion_matrix(y_true, y_pred)\n",
        "    # Only use the labels that appear in the data\n",
        "    classes = classes[unique_labels(y_true, y_pred)]\n",
        "    if normalize:\n",
        "        cm = cm.astype('float') / cm.sum(axis=1)[:, np.newaxis]\n",
        "        print(\"Normalized confusion matrix\")\n",
        "    else:\n",
        "        print('Confusion matrix, without normalization')\n",
        "    print(cm)\n",
        "    fig, ax = plt.subplots()\n",
        "    im = ax.imshow(cm, interpolation='nearest', cmap=cmap)\n",
        "    ax.figure.colorbar(im, ax=ax)\n",
        "    # We want to show all ticks...\n",
        "    ax.set(xticks=np.arange(cm.shape[1]),\n",
        "           yticks=np.arange(cm.shape[0]),\n",
        "           # ... and label them with the respective list entries\n",
        "           xticklabels=classes, yticklabels=classes,\n",
        "           title=title,\n",
        "           ylabel='True label',\n",
        "           xlabel='Predicted label')\n",
        "\n",
        "    # Rotate the tick labels and set their alignment.\n",
        "    plt.setp(ax.get_xticklabels(), rotation=45, ha=\"right\",\n",
        "             rotation_mode=\"anchor\")\n",
        "    # Loop over data dimensions and create text annotations.\n",
        "    fmt = '.2f' if normalize else 'd'\n",
        "    thresh = cm.max() / 2.\n",
        "    for i in range(cm.shape[0]):\n",
        "        for j in range(cm.shape[1]):\n",
        "            ax.text(j, i, format(cm[i, j], fmt),\n",
        "                    ha=\"center\", va=\"center\",\n",
        "                    color=\"white\" if cm[i, j] > thresh else \"black\")\n",
        "    fig.tight_layout()\n",
        "    return ax\n",
        "np.set_printoptions(precision=2)\n",
        "# Plot non-normalized confusion matrix\n",
        "plot_confusion_matrix(y_test, y_pred, classes=class_names,\n",
        "                      title='Confusion matrix, without normalization')\n",
        "# Plot normalized confusion matrix\n",
        "plot_confusion_matrix(y_test, y_pred, classes=class_names, normalize=True,\n",
        "                      title='Normalized confusion matrix')\n",
        "plt.show()"
      ],
      "metadata": {
        "id": "jrkP8iK8OKit"
      },
      "execution_count": null,
      "outputs": []
    },
    {
      "cell_type": "markdown",
      "source": [
        "#### 16 fine cate\n",
        "--> 0."
      ],
      "metadata": {
        "id": "7F9IJIXsPps2"
      }
    },
    {
      "cell_type": "code",
      "source": [
        "BS = 16                                                     ##\n",
        "filepath = \"model16_fine_cate.h5\"                  ##\n",
        "\n",
        "train_img_Dense = []\n",
        "for ImageName in tqdm(data_train3['ImageName']):              \n",
        "    image_path = All_3class_dir +'/' + ImageName                  \n",
        "    img = cv2.imread(image_path)                                          \n",
        "    img = cv2.resize(img, (224, 224))                                      \n",
        "    train_img_Dense.append(img)\n",
        "data_Dense = np.array(train_img_Dense, dtype=\"float32\") / 255.0\n",
        "\n",
        "labels_Dense = np.array(data_train3[['NameType']] )        \n",
        "labels_Dense.shape = (len(labels_Dense),) \n",
        "le_Dense = LabelEncoder()                                                                     \n",
        "labels_Dense = le_Dense.fit_transform(labels_Dense)                                         \n",
        "labels_Dense = to_categorical(labels_Dense, num_classes=3)                   \n",
        "\n",
        "aug = ImageDataGenerator(\trotation_range=15,\t\t\t\twidth_shift_range=0.1, \t\theight_shift_range=0.1,\n",
        "\t\tshear_range=0.15,\t\thorizontal_flip=True,  \t\tfill_mode=\"nearest\")\n",
        "\n",
        "callback = tf.keras.callbacks.EarlyStopping(  monitor=\"val_accuracy\",    patience=15,    mode=\"max\" )\n",
        "\n",
        "checkpoint = ModelCheckpoint(filepath, monitor='val_accuracy', verbose=1, \n",
        "                    save_best_only=True, mode='max')\n",
        "\n",
        "reduce_lr = ReduceLROnPlateau(monitor='val_accuracy', factor=0.5, patience=6, \n",
        "                                   verbose=1, mode='max', min_lr=0.00001)"
      ],
      "metadata": {
        "outputId": "a8b5536f-bfd1-4aed-9e01-41e6b75b129e",
        "colab": {
          "base_uri": "https://localhost:8080/"
        },
        "id": "Qb774K8fPps3"
      },
      "execution_count": null,
      "outputs": [
        {
          "output_type": "stream",
          "name": "stderr",
          "text": [
            "100%|██████████| 450/450 [00:04<00:00, 93.70it/s] \n"
          ]
        }
      ]
    },
    {
      "cell_type": "code",
      "source": [
        "(x_train_Dense, x_test_Dense, y_train_Dense, y_test_Dense ) = train_test_split(data_Dense, labels_Dense,\n",
        "\t                                                                                                test_size=0.25, random_state=40)"
      ],
      "metadata": {
        "id": "2EsjIjEjPps4"
      },
      "execution_count": null,
      "outputs": []
    },
    {
      "cell_type": "code",
      "source": [
        "base_model_Dense = tf.keras.applications.DenseNet201(input_shape=(224, 224, 3), include_top=False, weights=\"imagenet\")\n",
        "base_model_Dense.trainable = True\n",
        "for layer in base_model_Dense.layers[:400]:    #fix w & bias in layer 0-400\n",
        "    layer.trainable = False\n",
        "\n",
        "#Add custom head\n",
        "average_pooling_layer = tf.keras.layers.GlobalAveragePooling2D()(base_model_Dense.output)\n",
        "prediction_layer = tf.keras.layers.Dense(units=3, activation=\"softmax\")(average_pooling_layer)   \n",
        "model_Dense = tf.keras.models.Model(inputs=base_model_Dense.input, outputs=prediction_layer)\n",
        "\n",
        "model_Dense.compile(optimizer=RMSprop(learning_rate=0.0001), loss=\"categorical_crossentropy\", metrics=[\"accuracy\"])\n",
        "\n",
        "##\n",
        "H16_fine_cate = model_Dense.fit( x=aug.flow(x_train_Dense, y_train_Dense, batch_size=BS),\n",
        "\t                                            validation_data=(x_test_Dense, y_test_Dense),\n",
        "\t                                            steps_per_epoch=len(x_train_Dense) // BS,\n",
        "\t                                            epochs=100,  callbacks = [callback, checkpoint, reduce_lr])\n",
        "##\n",
        "pred_H16_fine_cate = model_Dense.predict(x_test_Dense)\n",
        "    \n",
        "\n",
        "print(classification_report(y_test_Dense.argmax(axis=1),\t                \n",
        "                                        pred_H16_fine_cate.argmax(axis=1),  \n",
        "                                        target_names=le_Dense.classes_))\n",
        "\n",
        "# #download ไฟล์ลงเครื่อง\n",
        "# from google.colab import files\n",
        "# files.download( filepath)       "
      ],
      "metadata": {
        "id": "V5e0zozLPps5"
      },
      "execution_count": null,
      "outputs": []
    },
    {
      "cell_type": "code",
      "source": [
        "from plotly import __version__\n",
        "%matplotlib inline\n",
        "import plotly.offline as pyo\n",
        "import plotly.graph_objs as go\n",
        "from plotly.offline import iplot\n",
        "import cufflinks as cf\n",
        "from plotly.offline import download_plotlyjs, init_notebook_mode, plot, iplot \n",
        "cf.go_offline()"
      ],
      "metadata": {
        "id": "hek0VlOzPps5"
      },
      "execution_count": null,
      "outputs": []
    },
    {
      "cell_type": "code",
      "source": [
        "H_Dense = H16_fine_cate                           ##\n",
        "pred_Dense = pred_H16_fine_cate              ##\n",
        "\n",
        "accuracy = H_Dense.history['accuracy']\n",
        "val_accuracy  = H_Dense.history['val_accuracy']\n",
        "\n",
        "loss = H_Dense.history['loss']\n",
        "val_loss = H_Dense.history['val_loss']\n",
        "plt.figure(figsize=(20,15))\n",
        "\n",
        "plt.subplot(2, 2, 1)\n",
        "plt.plot(accuracy, label = \"Training accuracy\")\n",
        "plt.plot(val_accuracy, label=\"Validation accuracy\")\n",
        "plt.legend()\n",
        "plt.title(\"Training vs validation accuracy\")\n",
        "\n",
        "plt.subplot(2,2,2)\n",
        "plt.plot(loss, label = \"Training loss\")\n",
        "plt.plot(val_loss, label=\"Validation loss\")\n",
        "plt.legend()\n",
        "plt.title(\"Training vs validation loss\")\n",
        "\n",
        "plt.figure()\n",
        "plt.show()"
      ],
      "metadata": {
        "id": "H27na-nuPps6"
      },
      "execution_count": null,
      "outputs": []
    },
    {
      "cell_type": "code",
      "source": [
        "y_pred = pred_H16_fine_cate.argmax(axis=1)            ##\n",
        "y_true  = y_test_Dense.argmax(axis=1)\n",
        "y_test = y_test_Dense.argmax(axis=1)\n",
        "class_names = le_Dense.classes_\n",
        "\n",
        "def plot_confusion_matrix(y_true, y_pred, classes,\n",
        "                          normalize=False,\n",
        "                          title=None,\n",
        "                          cmap=plt.cm.OrRd):\n",
        "    \"\"\"\n",
        "    This function prints and plots the confusion matrix.\n",
        "    Normalization can be applied by setting `normalize=True`.\n",
        "    \"\"\"\n",
        "    if not title:\n",
        "        if normalize:\n",
        "            title = 'Normalized confusion matrix'\n",
        "        else:\n",
        "            title = 'Confusion matrix, without normalization'\n",
        "\n",
        "    # Compute confusion matrix\n",
        "    cm = confusion_matrix(y_true, y_pred)\n",
        "    # Only use the labels that appear in the data\n",
        "    classes = classes[unique_labels(y_true, y_pred)]\n",
        "    if normalize:\n",
        "        cm = cm.astype('float') / cm.sum(axis=1)[:, np.newaxis]\n",
        "        print(\"Normalized confusion matrix\")\n",
        "    else:\n",
        "        print('Confusion matrix, without normalization')\n",
        "    print(cm)\n",
        "    fig, ax = plt.subplots()\n",
        "    im = ax.imshow(cm, interpolation='nearest', cmap=cmap)\n",
        "    ax.figure.colorbar(im, ax=ax)\n",
        "    # We want to show all ticks...\n",
        "    ax.set(xticks=np.arange(cm.shape[1]),\n",
        "           yticks=np.arange(cm.shape[0]),\n",
        "           # ... and label them with the respective list entries\n",
        "           xticklabels=classes, yticklabels=classes,\n",
        "           title=title,\n",
        "           ylabel='True label',\n",
        "           xlabel='Predicted label')\n",
        "    # Rotate the tick labels and set their alignment.\n",
        "    plt.setp(ax.get_xticklabels(), rotation=45, ha=\"right\",\n",
        "             rotation_mode=\"anchor\")\n",
        "\n",
        "    # Loop over data dimensions and create text annotations.\n",
        "    fmt = '.2f' if normalize else 'd'\n",
        "    thresh = cm.max() / 2.\n",
        "    for i in range(cm.shape[0]):\n",
        "        for j in range(cm.shape[1]):\n",
        "            ax.text(j, i, format(cm[i, j], fmt),\n",
        "                    ha=\"center\", va=\"center\",\n",
        "                    color=\"white\" if cm[i, j] > thresh else \"black\")\n",
        "    fig.tight_layout()\n",
        "    return ax\n",
        "np.set_printoptions(precision=2)\n",
        "\n",
        "# Plot non-normalized confusion matrix\n",
        "plot_confusion_matrix(y_test, y_pred, classes=class_names,\n",
        "                      title='Confusion matrix, without normalization')\n",
        "# Plot normalized confusion matrix\n",
        "plot_confusion_matrix(y_test, y_pred, classes=class_names, normalize=True,\n",
        "                      title='Normalized confusion matrix')\n",
        "plt.show()"
      ],
      "metadata": {
        "id": "M-ymeS57Pps6"
      },
      "execution_count": null,
      "outputs": []
    },
    {
      "cell_type": "code",
      "source": [
        ""
      ],
      "metadata": {
        "id": "rR-Und-yPps7"
      },
      "execution_count": null,
      "outputs": []
    },
    {
      "cell_type": "code",
      "source": [
        "model = load_model(filepath)"
      ],
      "metadata": {
        "id": "qTFy_aO0Pps7"
      },
      "execution_count": null,
      "outputs": []
    },
    {
      "cell_type": "code",
      "source": [
        "pred_model = model.predict(x_test_Dense)\n",
        "\n",
        "print(classification_report(y_test_Dense.argmax(axis=1),   pred_model.argmax(axis=1), target_names=le_Dense.classes_))"
      ],
      "metadata": {
        "id": "DJq2w9P0Pps-"
      },
      "execution_count": null,
      "outputs": []
    },
    {
      "cell_type": "code",
      "source": [
        "y_pred = pred_model.argmax(axis=1)            ##\n",
        "y_true  = y_test_Dense.argmax(axis=1)\n",
        "y_test = y_test_Dense.argmax(axis=1)\n",
        "class_names = le_Dense.classes_\n",
        "\n",
        "def plot_confusion_matrix(y_true, y_pred, classes,\n",
        "                          normalize=False,\n",
        "                          title=None,\n",
        "                          cmap=plt.cm.OrRd):\n",
        "    \"\"\"\n",
        "    This function prints and plots the confusion matrix.\n",
        "    Normalization can be applied by setting `normalize=True`.\n",
        "    \"\"\"\n",
        "    if not title:\n",
        "        if normalize:\n",
        "            title = 'Normalized confusion matrix'\n",
        "        else:\n",
        "            title = 'Confusion matrix, without normalization'\n",
        "\n",
        "    # Compute confusion matrix\n",
        "    cm = confusion_matrix(y_true, y_pred)\n",
        "    # Only use the labels that appear in the data\n",
        "    classes = classes[unique_labels(y_true, y_pred)]\n",
        "    if normalize:\n",
        "        cm = cm.astype('float') / cm.sum(axis=1)[:, np.newaxis]\n",
        "        print(\"Normalized confusion matrix\")\n",
        "    else:\n",
        "        print('Confusion matrix, without normalization')\n",
        "    print(cm)\n",
        "    fig, ax = plt.subplots()\n",
        "    im = ax.imshow(cm, interpolation='nearest', cmap=cmap)\n",
        "    ax.figure.colorbar(im, ax=ax)\n",
        "    # We want to show all ticks...\n",
        "    ax.set(xticks=np.arange(cm.shape[1]),\n",
        "           yticks=np.arange(cm.shape[0]),\n",
        "           # ... and label them with the respective list entries\n",
        "           xticklabels=classes, yticklabels=classes,\n",
        "           title=title,\n",
        "           ylabel='True label',\n",
        "           xlabel='Predicted label')\n",
        "\n",
        "    # Rotate the tick labels and set their alignment.\n",
        "    plt.setp(ax.get_xticklabels(), rotation=45, ha=\"right\",\n",
        "             rotation_mode=\"anchor\")\n",
        "    # Loop over data dimensions and create text annotations.\n",
        "    fmt = '.2f' if normalize else 'd'\n",
        "    thresh = cm.max() / 2.\n",
        "    for i in range(cm.shape[0]):\n",
        "        for j in range(cm.shape[1]):\n",
        "            ax.text(j, i, format(cm[i, j], fmt),\n",
        "                    ha=\"center\", va=\"center\",\n",
        "                    color=\"white\" if cm[i, j] > thresh else \"black\")\n",
        "    fig.tight_layout()\n",
        "    return ax\n",
        "np.set_printoptions(precision=2)\n",
        "# Plot non-normalized confusion matrix\n",
        "plot_confusion_matrix(y_test, y_pred, classes=class_names,\n",
        "                      title='Confusion matrix, without normalization')\n",
        "# Plot normalized confusion matrix\n",
        "plot_confusion_matrix(y_test, y_pred, classes=class_names, normalize=True,\n",
        "                      title='Normalized confusion matrix')\n",
        "plt.show()"
      ],
      "metadata": {
        "id": "nKhYG8erPps-"
      },
      "execution_count": null,
      "outputs": []
    },
    {
      "cell_type": "markdown",
      "source": [
        "#### 16  fine cate adam\n",
        "--> 0."
      ],
      "metadata": {
        "id": "P2_QTx5OPps_"
      }
    },
    {
      "cell_type": "code",
      "source": [
        "BS = 16                                                      ##\n",
        "filepath = \"model16_fine_cate_adam.h5\"                  ##\n",
        "\n",
        "train_img_Dense = []\n",
        "for ImageName in tqdm(data_train3['ImageName']):              \n",
        "    image_path = All_3class_dir +'/' + ImageName                  \n",
        "    img = cv2.imread(image_path)                                          \n",
        "    img = cv2.resize(img, (224, 224))                                      \n",
        "    train_img_Dense.append(img)\n",
        "data_Dense = np.array(train_img_Dense, dtype=\"float32\") / 255.0\n",
        "\n",
        "labels_Dense = np.array(data_train3[['NameType']] )        \n",
        "labels_Dense.shape = (len(labels_Dense),) \n",
        "le_Dense = LabelEncoder()                                                                     \n",
        "labels_Dense = le_Dense.fit_transform(labels_Dense)                                         \n",
        "labels_Dense = to_categorical(labels_Dense, num_classes=3)                   \n",
        "\n",
        "aug = ImageDataGenerator(\trotation_range=15,\t\t\t\twidth_shift_range=0.1, \t\theight_shift_range=0.1,\n",
        "\t\tshear_range=0.15,\t\thorizontal_flip=True,  \t\tfill_mode=\"nearest\")\n",
        "\n",
        "callback = tf.keras.callbacks.EarlyStopping(  monitor=\"val_accuracy\",    patience=15,    mode=\"max\" )\n",
        "\n",
        "checkpoint = ModelCheckpoint(filepath, monitor='val_accuracy', verbose=1, \n",
        "                    save_best_only=True, mode='max')\n",
        "\n",
        "reduce_lr = ReduceLROnPlateau(monitor='val_accuracy', factor=0.5, patience=6, \n",
        "                                   verbose=1, mode='max', min_lr=0.00001)"
      ],
      "metadata": {
        "outputId": "a8b5536f-bfd1-4aed-9e01-41e6b75b129e",
        "colab": {
          "base_uri": "https://localhost:8080/"
        },
        "id": "QYxuuCFpPps_"
      },
      "execution_count": null,
      "outputs": [
        {
          "output_type": "stream",
          "name": "stderr",
          "text": [
            "100%|██████████| 450/450 [00:04<00:00, 93.70it/s] \n"
          ]
        }
      ]
    },
    {
      "cell_type": "code",
      "source": [
        "(x_train_Dense, x_test_Dense, y_train_Dense, y_test_Dense ) = train_test_split(data_Dense, labels_Dense,\n",
        "\t                                                                                                test_size=0.25, random_state=40)"
      ],
      "metadata": {
        "id": "FX1iRBL7PptA"
      },
      "execution_count": null,
      "outputs": []
    },
    {
      "cell_type": "code",
      "source": [
        "base_model_Dense = tf.keras.applications.DenseNet201(input_shape=(224, 224, 3), include_top=False, weights=\"imagenet\")\n",
        "base_model_Dense.trainable = True\n",
        "for layer in base_model_Dense.layers[:400]:    #fix w & bias in layer 0-400\n",
        "    layer.trainable = False\n",
        "\n",
        "#Add custom head\n",
        "average_pooling_layer = tf.keras.layers.GlobalAveragePooling2D()(base_model_Dense.output)\n",
        "prediction_layer = tf.keras.layers.Dense(units=3, activation=\"softmax\")(average_pooling_layer)   \n",
        "model_Dense = tf.keras.models.Model(inputs=base_model_Dense.input, outputs=prediction_layer)\n",
        "\n",
        "model_Dense.compile(optimizer=Adam(learning_rate=0.0001), loss=\"categorical_crossentropy\", metrics=[\"accuracy\"])\n",
        "\n",
        "##\n",
        "H16_fine_cate_adam = model_Dense.fit( x=aug.flow(x_train_Dense, y_train_Dense, batch_size=BS),\n",
        "\t                                            validation_data=(x_test_Dense, y_test_Dense),\n",
        "\t                                            steps_per_epoch=len(x_train_Dense) // BS,\n",
        "\t                                            epochs=100,  callbacks = [callback, checkpoint, reduce_lr])\n",
        "##\n",
        "pred_H16_fine_cate_adam = model_Dense.predict(x_test_Dense)\n",
        "    \n",
        "\n",
        "print(classification_report(y_test_Dense.argmax(axis=1),\t                \n",
        "                                        pred_H16_fine_cate_adam.argmax(axis=1),  \n",
        "                                        target_names=le_Dense.classes_))\n",
        "\n",
        "# #download ไฟล์ลงเครื่อง\n",
        "# from google.colab import files\n",
        "# files.download( filepath)       "
      ],
      "metadata": {
        "id": "DvhP6VuaPptA"
      },
      "execution_count": null,
      "outputs": []
    },
    {
      "cell_type": "code",
      "source": [
        "from plotly import __version__\n",
        "%matplotlib inline\n",
        "import plotly.offline as pyo\n",
        "import plotly.graph_objs as go\n",
        "from plotly.offline import iplot\n",
        "import cufflinks as cf\n",
        "from plotly.offline import download_plotlyjs, init_notebook_mode, plot, iplot \n",
        "cf.go_offline()"
      ],
      "metadata": {
        "id": "DGK25N-HPptB"
      },
      "execution_count": null,
      "outputs": []
    },
    {
      "cell_type": "code",
      "source": [
        "H_Dense = H16_fine_cate_adam                            ##\n",
        "pred_Dense = pred_H16_fine_cate_adam               ##\n",
        "\n",
        "accuracy = H_Dense.history['accuracy']\n",
        "val_accuracy  = H_Dense.history['val_accuracy']\n",
        "\n",
        "loss = H_Dense.history['loss']\n",
        "val_loss = H_Dense.history['val_loss']\n",
        "plt.figure(figsize=(20,15))\n",
        "\n",
        "plt.subplot(2, 2, 1)\n",
        "plt.plot(accuracy, label = \"Training accuracy\")\n",
        "plt.plot(val_accuracy, label=\"Validation accuracy\")\n",
        "plt.legend()\n",
        "plt.title(\"Training vs validation accuracy\")\n",
        "\n",
        "plt.subplot(2,2,2)\n",
        "plt.plot(loss, label = \"Training loss\")\n",
        "plt.plot(val_loss, label=\"Validation loss\")\n",
        "plt.legend()\n",
        "plt.title(\"Training vs validation loss\")\n",
        "\n",
        "plt.figure()\n",
        "plt.show()"
      ],
      "metadata": {
        "id": "vc80hb4EPptB"
      },
      "execution_count": null,
      "outputs": []
    },
    {
      "cell_type": "code",
      "source": [
        "y_pred = pred_H16_fine_cate_adam.argmax(axis=1)            ##\n",
        "y_true  = y_test_Dense.argmax(axis=1)\n",
        "y_test = y_test_Dense.argmax(axis=1)\n",
        "class_names = le_Dense.classes_\n",
        "\n",
        "def plot_confusion_matrix(y_true, y_pred, classes,\n",
        "                          normalize=False,\n",
        "                          title=None,\n",
        "                          cmap=plt.cm.OrRd):\n",
        "    \"\"\"\n",
        "    This function prints and plots the confusion matrix.\n",
        "    Normalization can be applied by setting `normalize=True`.\n",
        "    \"\"\"\n",
        "    if not title:\n",
        "        if normalize:\n",
        "            title = 'Normalized confusion matrix'\n",
        "        else:\n",
        "            title = 'Confusion matrix, without normalization'\n",
        "\n",
        "    # Compute confusion matrix\n",
        "    cm = confusion_matrix(y_true, y_pred)\n",
        "    # Only use the labels that appear in the data\n",
        "    classes = classes[unique_labels(y_true, y_pred)]\n",
        "    if normalize:\n",
        "        cm = cm.astype('float') / cm.sum(axis=1)[:, np.newaxis]\n",
        "        print(\"Normalized confusion matrix\")\n",
        "    else:\n",
        "        print('Confusion matrix, without normalization')\n",
        "    print(cm)\n",
        "    fig, ax = plt.subplots()\n",
        "    im = ax.imshow(cm, interpolation='nearest', cmap=cmap)\n",
        "    ax.figure.colorbar(im, ax=ax)\n",
        "    # We want to show all ticks...\n",
        "    ax.set(xticks=np.arange(cm.shape[1]),\n",
        "           yticks=np.arange(cm.shape[0]),\n",
        "           # ... and label them with the respective list entries\n",
        "           xticklabels=classes, yticklabels=classes,\n",
        "           title=title,\n",
        "           ylabel='True label',\n",
        "           xlabel='Predicted label')\n",
        "    # Rotate the tick labels and set their alignment.\n",
        "    plt.setp(ax.get_xticklabels(), rotation=45, ha=\"right\",\n",
        "             rotation_mode=\"anchor\")\n",
        "\n",
        "    # Loop over data dimensions and create text annotations.\n",
        "    fmt = '.2f' if normalize else 'd'\n",
        "    thresh = cm.max() / 2.\n",
        "    for i in range(cm.shape[0]):\n",
        "        for j in range(cm.shape[1]):\n",
        "            ax.text(j, i, format(cm[i, j], fmt),\n",
        "                    ha=\"center\", va=\"center\",\n",
        "                    color=\"white\" if cm[i, j] > thresh else \"black\")\n",
        "    fig.tight_layout()\n",
        "    return ax\n",
        "np.set_printoptions(precision=2)\n",
        "\n",
        "# Plot non-normalized confusion matrix\n",
        "plot_confusion_matrix(y_test, y_pred, classes=class_names,\n",
        "                      title='Confusion matrix, without normalization')\n",
        "# Plot normalized confusion matrix\n",
        "plot_confusion_matrix(y_test, y_pred, classes=class_names, normalize=True,\n",
        "                      title='Normalized confusion matrix')\n",
        "plt.show()"
      ],
      "metadata": {
        "id": "UOF2BlOSPptB"
      },
      "execution_count": null,
      "outputs": []
    },
    {
      "cell_type": "code",
      "source": [
        ""
      ],
      "metadata": {
        "id": "9Zs45Zc6PptB"
      },
      "execution_count": null,
      "outputs": []
    },
    {
      "cell_type": "code",
      "source": [
        "model = load_model(filepath)"
      ],
      "metadata": {
        "id": "uaNb07E2PptC"
      },
      "execution_count": null,
      "outputs": []
    },
    {
      "cell_type": "code",
      "source": [
        "pred_model = model.predict(x_test_Dense)\n",
        "\n",
        "print(classification_report(y_test_Dense.argmax(axis=1),   pred_model.argmax(axis=1), target_names=le_Dense.classes_))"
      ],
      "metadata": {
        "id": "gMSwXt9qPptC"
      },
      "execution_count": null,
      "outputs": []
    },
    {
      "cell_type": "code",
      "source": [
        "y_pred = pred_model.argmax(axis=1)            ##\n",
        "y_true  = y_test_Dense.argmax(axis=1)\n",
        "y_test = y_test_Dense.argmax(axis=1)\n",
        "class_names = le_Dense.classes_\n",
        "\n",
        "def plot_confusion_matrix(y_true, y_pred, classes,\n",
        "                          normalize=False,\n",
        "                          title=None,\n",
        "                          cmap=plt.cm.OrRd):\n",
        "    \"\"\"\n",
        "    This function prints and plots the confusion matrix.\n",
        "    Normalization can be applied by setting `normalize=True`.\n",
        "    \"\"\"\n",
        "    if not title:\n",
        "        if normalize:\n",
        "            title = 'Normalized confusion matrix'\n",
        "        else:\n",
        "            title = 'Confusion matrix, without normalization'\n",
        "\n",
        "    # Compute confusion matrix\n",
        "    cm = confusion_matrix(y_true, y_pred)\n",
        "    # Only use the labels that appear in the data\n",
        "    classes = classes[unique_labels(y_true, y_pred)]\n",
        "    if normalize:\n",
        "        cm = cm.astype('float') / cm.sum(axis=1)[:, np.newaxis]\n",
        "        print(\"Normalized confusion matrix\")\n",
        "    else:\n",
        "        print('Confusion matrix, without normalization')\n",
        "    print(cm)\n",
        "    fig, ax = plt.subplots()\n",
        "    im = ax.imshow(cm, interpolation='nearest', cmap=cmap)\n",
        "    ax.figure.colorbar(im, ax=ax)\n",
        "    # We want to show all ticks...\n",
        "    ax.set(xticks=np.arange(cm.shape[1]),\n",
        "           yticks=np.arange(cm.shape[0]),\n",
        "           # ... and label them with the respective list entries\n",
        "           xticklabels=classes, yticklabels=classes,\n",
        "           title=title,\n",
        "           ylabel='True label',\n",
        "           xlabel='Predicted label')\n",
        "\n",
        "    # Rotate the tick labels and set their alignment.\n",
        "    plt.setp(ax.get_xticklabels(), rotation=45, ha=\"right\",\n",
        "             rotation_mode=\"anchor\")\n",
        "    # Loop over data dimensions and create text annotations.\n",
        "    fmt = '.2f' if normalize else 'd'\n",
        "    thresh = cm.max() / 2.\n",
        "    for i in range(cm.shape[0]):\n",
        "        for j in range(cm.shape[1]):\n",
        "            ax.text(j, i, format(cm[i, j], fmt),\n",
        "                    ha=\"center\", va=\"center\",\n",
        "                    color=\"white\" if cm[i, j] > thresh else \"black\")\n",
        "    fig.tight_layout()\n",
        "    return ax\n",
        "np.set_printoptions(precision=2)\n",
        "# Plot non-normalized confusion matrix\n",
        "plot_confusion_matrix(y_test, y_pred, classes=class_names,\n",
        "                      title='Confusion matrix, without normalization')\n",
        "# Plot normalized confusion matrix\n",
        "plot_confusion_matrix(y_test, y_pred, classes=class_names, normalize=True,\n",
        "                      title='Normalized confusion matrix')\n",
        "plt.show()"
      ],
      "metadata": {
        "id": "9zOC6tiKPptC"
      },
      "execution_count": null,
      "outputs": []
    },
    {
      "cell_type": "markdown",
      "source": [
        "#### 32  fine cate\n",
        "--> 0."
      ],
      "metadata": {
        "id": "Bf-e6a4iQCh5"
      }
    },
    {
      "cell_type": "code",
      "source": [
        "BS = 32                                                     ##\n",
        "filepath = \"model32_fine_cate.h5\"                  ##\n",
        "\n",
        "train_img_Dense = []\n",
        "for ImageName in tqdm(data_train3['ImageName']):              \n",
        "    image_path = All_3class_dir +'/' + ImageName                  \n",
        "    img = cv2.imread(image_path)                                          \n",
        "    img = cv2.resize(img, (224, 224))                                      \n",
        "    train_img_Dense.append(img)\n",
        "data_Dense = np.array(train_img_Dense, dtype=\"float32\") / 255.0\n",
        "\n",
        "labels_Dense = np.array(data_train3[['NameType']] )        \n",
        "labels_Dense.shape = (len(labels_Dense),) \n",
        "le_Dense = LabelEncoder()                                                                     \n",
        "labels_Dense = le_Dense.fit_transform(labels_Dense)                                         \n",
        "labels_Dense = to_categorical(labels_Dense, num_classes=3)                   \n",
        "\n",
        "aug = ImageDataGenerator(\trotation_range=15,\t\t\t\twidth_shift_range=0.1, \t\theight_shift_range=0.1,\n",
        "\t\tshear_range=0.15,\t\thorizontal_flip=True,  \t\tfill_mode=\"nearest\")\n",
        "\n",
        "callback = tf.keras.callbacks.EarlyStopping(  monitor=\"val_accuracy\",    patience=15,    mode=\"max\" )\n",
        "\n",
        "checkpoint = ModelCheckpoint(filepath, monitor='val_accuracy', verbose=1, \n",
        "                    save_best_only=True, mode='max')\n",
        "\n",
        "reduce_lr = ReduceLROnPlateau(monitor='val_accuracy', factor=0.5, patience=6, \n",
        "                                   verbose=1, mode='max', min_lr=0.00001)"
      ],
      "metadata": {
        "outputId": "a8b5536f-bfd1-4aed-9e01-41e6b75b129e",
        "colab": {
          "base_uri": "https://localhost:8080/"
        },
        "id": "0jS6uiXVQCh6"
      },
      "execution_count": null,
      "outputs": [
        {
          "output_type": "stream",
          "name": "stderr",
          "text": [
            "100%|██████████| 450/450 [00:04<00:00, 93.70it/s] \n"
          ]
        }
      ]
    },
    {
      "cell_type": "code",
      "source": [
        "(x_train_Dense, x_test_Dense, y_train_Dense, y_test_Dense ) = train_test_split(data_Dense, labels_Dense,\n",
        "\t                                                                                                test_size=0.25, random_state=40)"
      ],
      "metadata": {
        "id": "UfPmd3kJQCh6"
      },
      "execution_count": null,
      "outputs": []
    },
    {
      "cell_type": "code",
      "source": [
        "base_model_Dense = tf.keras.applications.DenseNet201(input_shape=(224, 224, 3), include_top=False, weights=\"imagenet\")\n",
        "base_model_Dense.trainable = True\n",
        "for layer in base_model_Dense.layers[:400]:    #fix w & bias in layer 0-400\n",
        "    layer.trainable = False\n",
        "\n",
        "#Add custom head\n",
        "average_pooling_layer = tf.keras.layers.GlobalAveragePooling2D()(base_model_Dense.output)\n",
        "prediction_layer = tf.keras.layers.Dense(units=3, activation=\"softmax\")(average_pooling_layer)   \n",
        "model_Dense = tf.keras.models.Model(inputs=base_model_Dense.input, outputs=prediction_layer)\n",
        "\n",
        "model_Dense.compile(optimizer=RMSprop(learning_rate=0.0001), loss=\"categorical_crossentropy\", metrics=[\"accuracy\"])\n",
        "\n",
        "##\n",
        "H1_fine_cate = model_Dense.fit( x=aug.flow(x_train_Dense, y_train_Dense, batch_size=BS),\n",
        "\t                                            validation_data=(x_test_Dense, y_test_Dense),\n",
        "\t                                            steps_per_epoch=len(x_train_Dense) // BS,\n",
        "\t                                            epochs=100,  callbacks = [callback, checkpoint, reduce_lr])\n",
        "##\n",
        "pred_H1_fine_cate = model_Dense.predict(x_test_Dense)\n",
        "    \n",
        "\n",
        "print(classification_report(y_test_Dense.argmax(axis=1),\t                \n",
        "                                        pred_H1_fine_cate.argmax(axis=1),  \n",
        "                                        target_names=le_Dense.classes_))\n",
        "\n",
        "# #download ไฟล์ลงเครื่อง\n",
        "# from google.colab import files\n",
        "# files.download( filepath)       "
      ],
      "metadata": {
        "id": "kahChJcEQCh6"
      },
      "execution_count": null,
      "outputs": []
    },
    {
      "cell_type": "code",
      "source": [
        "from plotly import __version__\n",
        "%matplotlib inline\n",
        "import plotly.offline as pyo\n",
        "import plotly.graph_objs as go\n",
        "from plotly.offline import iplot\n",
        "import cufflinks as cf\n",
        "from plotly.offline import download_plotlyjs, init_notebook_mode, plot, iplot \n",
        "cf.go_offline()"
      ],
      "metadata": {
        "id": "KK7wYoa2QCh6"
      },
      "execution_count": null,
      "outputs": []
    },
    {
      "cell_type": "code",
      "source": [
        "H_Dense = H1_fine_cate                           ##\n",
        "pred_Dense = pred_H1_fine_cate              ##\n",
        "\n",
        "accuracy = H_Dense.history['accuracy']\n",
        "val_accuracy  = H_Dense.history['val_accuracy']\n",
        "\n",
        "loss = H_Dense.history['loss']\n",
        "val_loss = H_Dense.history['val_loss']\n",
        "plt.figure(figsize=(20,15))\n",
        "\n",
        "plt.subplot(2, 2, 1)\n",
        "plt.plot(accuracy, label = \"Training accuracy\")\n",
        "plt.plot(val_accuracy, label=\"Validation accuracy\")\n",
        "plt.legend()\n",
        "plt.title(\"Training vs validation accuracy\")\n",
        "\n",
        "plt.subplot(2,2,2)\n",
        "plt.plot(loss, label = \"Training loss\")\n",
        "plt.plot(val_loss, label=\"Validation loss\")\n",
        "plt.legend()\n",
        "plt.title(\"Training vs validation loss\")\n",
        "\n",
        "plt.figure()\n",
        "plt.show()"
      ],
      "metadata": {
        "id": "llpxEpaQQCh6"
      },
      "execution_count": null,
      "outputs": []
    },
    {
      "cell_type": "code",
      "source": [
        "y_pred = pred_H1_fine_cate.argmax(axis=1)            ##\n",
        "y_true  = y_test_Dense.argmax(axis=1)\n",
        "y_test = y_test_Dense.argmax(axis=1)\n",
        "class_names = le_Dense.classes_\n",
        "\n",
        "def plot_confusion_matrix(y_true, y_pred, classes,\n",
        "                          normalize=False,\n",
        "                          title=None,\n",
        "                          cmap=plt.cm.OrRd):\n",
        "    \"\"\"\n",
        "    This function prints and plots the confusion matrix.\n",
        "    Normalization can be applied by setting `normalize=True`.\n",
        "    \"\"\"\n",
        "    if not title:\n",
        "        if normalize:\n",
        "            title = 'Normalized confusion matrix'\n",
        "        else:\n",
        "            title = 'Confusion matrix, without normalization'\n",
        "\n",
        "    # Compute confusion matrix\n",
        "    cm = confusion_matrix(y_true, y_pred)\n",
        "    # Only use the labels that appear in the data\n",
        "    classes = classes[unique_labels(y_true, y_pred)]\n",
        "    if normalize:\n",
        "        cm = cm.astype('float') / cm.sum(axis=1)[:, np.newaxis]\n",
        "        print(\"Normalized confusion matrix\")\n",
        "    else:\n",
        "        print('Confusion matrix, without normalization')\n",
        "    print(cm)\n",
        "    fig, ax = plt.subplots()\n",
        "    im = ax.imshow(cm, interpolation='nearest', cmap=cmap)\n",
        "    ax.figure.colorbar(im, ax=ax)\n",
        "    # We want to show all ticks...\n",
        "    ax.set(xticks=np.arange(cm.shape[1]),\n",
        "           yticks=np.arange(cm.shape[0]),\n",
        "           # ... and label them with the respective list entries\n",
        "           xticklabels=classes, yticklabels=classes,\n",
        "           title=title,\n",
        "           ylabel='True label',\n",
        "           xlabel='Predicted label')\n",
        "    # Rotate the tick labels and set their alignment.\n",
        "    plt.setp(ax.get_xticklabels(), rotation=45, ha=\"right\",\n",
        "             rotation_mode=\"anchor\")\n",
        "\n",
        "    # Loop over data dimensions and create text annotations.\n",
        "    fmt = '.2f' if normalize else 'd'\n",
        "    thresh = cm.max() / 2.\n",
        "    for i in range(cm.shape[0]):\n",
        "        for j in range(cm.shape[1]):\n",
        "            ax.text(j, i, format(cm[i, j], fmt),\n",
        "                    ha=\"center\", va=\"center\",\n",
        "                    color=\"white\" if cm[i, j] > thresh else \"black\")\n",
        "    fig.tight_layout()\n",
        "    return ax\n",
        "np.set_printoptions(precision=2)\n",
        "\n",
        "# Plot non-normalized confusion matrix\n",
        "plot_confusion_matrix(y_test, y_pred, classes=class_names,\n",
        "                      title='Confusion matrix, without normalization')\n",
        "# Plot normalized confusion matrix\n",
        "plot_confusion_matrix(y_test, y_pred, classes=class_names, normalize=True,\n",
        "                      title='Normalized confusion matrix')\n",
        "plt.show()"
      ],
      "metadata": {
        "id": "tTk7x8aXQCh7"
      },
      "execution_count": null,
      "outputs": []
    },
    {
      "cell_type": "code",
      "source": [
        ""
      ],
      "metadata": {
        "id": "6JCtbHnlQCh7"
      },
      "execution_count": null,
      "outputs": []
    },
    {
      "cell_type": "code",
      "source": [
        "model = load_model(filepath)"
      ],
      "metadata": {
        "id": "WrSg_bH9QCh7"
      },
      "execution_count": null,
      "outputs": []
    },
    {
      "cell_type": "code",
      "source": [
        "pred_model = model.predict(x_test_Dense)\n",
        "\n",
        "print(classification_report(y_test_Dense.argmax(axis=1),   pred_model.argmax(axis=1), target_names=le_Dense.classes_))"
      ],
      "metadata": {
        "id": "pxXtPeNuQCh7"
      },
      "execution_count": null,
      "outputs": []
    },
    {
      "cell_type": "code",
      "source": [
        "y_pred = pred_model.argmax(axis=1)            ##\n",
        "y_true  = y_test_Dense.argmax(axis=1)\n",
        "y_test = y_test_Dense.argmax(axis=1)\n",
        "class_names = le_Dense.classes_\n",
        "\n",
        "def plot_confusion_matrix(y_true, y_pred, classes,\n",
        "                          normalize=False,\n",
        "                          title=None,\n",
        "                          cmap=plt.cm.OrRd):\n",
        "    \"\"\"\n",
        "    This function prints and plots the confusion matrix.\n",
        "    Normalization can be applied by setting `normalize=True`.\n",
        "    \"\"\"\n",
        "    if not title:\n",
        "        if normalize:\n",
        "            title = 'Normalized confusion matrix'\n",
        "        else:\n",
        "            title = 'Confusion matrix, without normalization'\n",
        "\n",
        "    # Compute confusion matrix\n",
        "    cm = confusion_matrix(y_true, y_pred)\n",
        "    # Only use the labels that appear in the data\n",
        "    classes = classes[unique_labels(y_true, y_pred)]\n",
        "    if normalize:\n",
        "        cm = cm.astype('float') / cm.sum(axis=1)[:, np.newaxis]\n",
        "        print(\"Normalized confusion matrix\")\n",
        "    else:\n",
        "        print('Confusion matrix, without normalization')\n",
        "    print(cm)\n",
        "    fig, ax = plt.subplots()\n",
        "    im = ax.imshow(cm, interpolation='nearest', cmap=cmap)\n",
        "    ax.figure.colorbar(im, ax=ax)\n",
        "    # We want to show all ticks...\n",
        "    ax.set(xticks=np.arange(cm.shape[1]),\n",
        "           yticks=np.arange(cm.shape[0]),\n",
        "           # ... and label them with the respective list entries\n",
        "           xticklabels=classes, yticklabels=classes,\n",
        "           title=title,\n",
        "           ylabel='True label',\n",
        "           xlabel='Predicted label')\n",
        "\n",
        "    # Rotate the tick labels and set their alignment.\n",
        "    plt.setp(ax.get_xticklabels(), rotation=45, ha=\"right\",\n",
        "             rotation_mode=\"anchor\")\n",
        "    # Loop over data dimensions and create text annotations.\n",
        "    fmt = '.2f' if normalize else 'd'\n",
        "    thresh = cm.max() / 2.\n",
        "    for i in range(cm.shape[0]):\n",
        "        for j in range(cm.shape[1]):\n",
        "            ax.text(j, i, format(cm[i, j], fmt),\n",
        "                    ha=\"center\", va=\"center\",\n",
        "                    color=\"white\" if cm[i, j] > thresh else \"black\")\n",
        "    fig.tight_layout()\n",
        "    return ax\n",
        "np.set_printoptions(precision=2)\n",
        "# Plot non-normalized confusion matrix\n",
        "plot_confusion_matrix(y_test, y_pred, classes=class_names,\n",
        "                      title='Confusion matrix, without normalization')\n",
        "# Plot normalized confusion matrix\n",
        "plot_confusion_matrix(y_test, y_pred, classes=class_names, normalize=True,\n",
        "                      title='Normalized confusion matrix')\n",
        "plt.show()"
      ],
      "metadata": {
        "id": "ytFQqZ1mQCh9"
      },
      "execution_count": null,
      "outputs": []
    },
    {
      "cell_type": "markdown",
      "source": [
        "#### 32  fine cate adam\n",
        "--> 0."
      ],
      "metadata": {
        "id": "goPMJEkaQCh9"
      }
    },
    {
      "cell_type": "code",
      "source": [
        "BS = 32                                                      ##\n",
        "filepath = \"model32_fine_cate_adam.h5\"                  ##\n",
        "\n",
        "train_img_Dense = []\n",
        "for ImageName in tqdm(data_train3['ImageName']):              \n",
        "    image_path = All_3class_dir +'/' + ImageName                  \n",
        "    img = cv2.imread(image_path)                                          \n",
        "    img = cv2.resize(img, (224, 224))                                      \n",
        "    train_img_Dense.append(img)\n",
        "data_Dense = np.array(train_img_Dense, dtype=\"float32\") / 255.0\n",
        "\n",
        "labels_Dense = np.array(data_train3[['NameType']] )        \n",
        "labels_Dense.shape = (len(labels_Dense),) \n",
        "le_Dense = LabelEncoder()                                                                     \n",
        "labels_Dense = le_Dense.fit_transform(labels_Dense)                                         \n",
        "labels_Dense = to_categorical(labels_Dense, num_classes=3)                   \n",
        "\n",
        "aug = ImageDataGenerator(\trotation_range=15,\t\t\t\twidth_shift_range=0.1, \t\theight_shift_range=0.1,\n",
        "\t\tshear_range=0.15,\t\thorizontal_flip=True,  \t\tfill_mode=\"nearest\")\n",
        "\n",
        "callback = tf.keras.callbacks.EarlyStopping(  monitor=\"val_accuracy\",    patience=15,    mode=\"max\" )\n",
        "\n",
        "checkpoint = ModelCheckpoint(filepath, monitor='val_accuracy', verbose=1, \n",
        "                    save_best_only=True, mode='max')\n",
        "\n",
        "reduce_lr = ReduceLROnPlateau(monitor='val_accuracy', factor=0.5, patience=6, \n",
        "                                   verbose=1, mode='max', min_lr=0.00001)"
      ],
      "metadata": {
        "outputId": "a8b5536f-bfd1-4aed-9e01-41e6b75b129e",
        "colab": {
          "base_uri": "https://localhost:8080/"
        },
        "id": "EHdZAYL-QCh9"
      },
      "execution_count": null,
      "outputs": [
        {
          "output_type": "stream",
          "name": "stderr",
          "text": [
            "100%|██████████| 450/450 [00:04<00:00, 93.70it/s] \n"
          ]
        }
      ]
    },
    {
      "cell_type": "code",
      "source": [
        "(x_train_Dense, x_test_Dense, y_train_Dense, y_test_Dense ) = train_test_split(data_Dense, labels_Dense,\n",
        "\t                                                                                                test_size=0.25, random_state=40)"
      ],
      "metadata": {
        "id": "Vs2TapwcQCh9"
      },
      "execution_count": null,
      "outputs": []
    },
    {
      "cell_type": "code",
      "source": [
        "base_model_Dense = tf.keras.applications.DenseNet201(input_shape=(224, 224, 3), include_top=False, weights=\"imagenet\")\n",
        "base_model_Dense.trainable = True\n",
        "for layer in base_model_Dense.layers[:400]:    #fix w & bias in layer 0-400\n",
        "    layer.trainable = False\n",
        "\n",
        "#Add custom head\n",
        "average_pooling_layer = tf.keras.layers.GlobalAveragePooling2D()(base_model_Dense.output)\n",
        "prediction_layer = tf.keras.layers.Dense(units=3, activation=\"softmax\")(average_pooling_layer)   \n",
        "model_Dense = tf.keras.models.Model(inputs=base_model_Dense.input, outputs=prediction_layer)\n",
        "\n",
        "model_Dense.compile(optimizer=Adam(learning_rate=0.0001), loss=\"categorical_crossentropy\", metrics=[\"accuracy\"])\n",
        "\n",
        "##\n",
        "H1_fine_cate_adam = model_Dense.fit( x=aug.flow(x_train_Dense, y_train_Dense, batch_size=BS),\n",
        "\t                                            validation_data=(x_test_Dense, y_test_Dense),\n",
        "\t                                            steps_per_epoch=len(x_train_Dense) // BS,\n",
        "\t                                            epochs=100,  callbacks = [callback, checkpoint, reduce_lr])\n",
        "##\n",
        "pred_H1_fine_cate_adam = model_Dense.predict(x_test_Dense)\n",
        "    \n",
        "\n",
        "print(classification_report(y_test_Dense.argmax(axis=1),\t                \n",
        "                                        pred_H1_fine_cate_adam.argmax(axis=1),  \n",
        "                                        target_names=le_Dense.classes_))\n",
        "\n",
        "# #download ไฟล์ลงเครื่อง\n",
        "# from google.colab import files\n",
        "# files.download( filepath)       "
      ],
      "metadata": {
        "id": "e_eOfEcCQCh-"
      },
      "execution_count": null,
      "outputs": []
    },
    {
      "cell_type": "code",
      "source": [
        "from plotly import __version__\n",
        "%matplotlib inline\n",
        "import plotly.offline as pyo\n",
        "import plotly.graph_objs as go\n",
        "from plotly.offline import iplot\n",
        "import cufflinks as cf\n",
        "from plotly.offline import download_plotlyjs, init_notebook_mode, plot, iplot \n",
        "cf.go_offline()"
      ],
      "metadata": {
        "id": "62Qdi2rIQCh-"
      },
      "execution_count": null,
      "outputs": []
    },
    {
      "cell_type": "code",
      "source": [
        "H_Dense = H1_fine_cate_adam                            ##\n",
        "pred_Dense = pred_H1_fine_cate_adam               ##\n",
        "\n",
        "accuracy = H_Dense.history['accuracy']\n",
        "val_accuracy  = H_Dense.history['val_accuracy']\n",
        "\n",
        "loss = H_Dense.history['loss']\n",
        "val_loss = H_Dense.history['val_loss']\n",
        "plt.figure(figsize=(20,15))\n",
        "\n",
        "plt.subplot(2, 2, 1)\n",
        "plt.plot(accuracy, label = \"Training accuracy\")\n",
        "plt.plot(val_accuracy, label=\"Validation accuracy\")\n",
        "plt.legend()\n",
        "plt.title(\"Training vs validation accuracy\")\n",
        "\n",
        "plt.subplot(2,2,2)\n",
        "plt.plot(loss, label = \"Training loss\")\n",
        "plt.plot(val_loss, label=\"Validation loss\")\n",
        "plt.legend()\n",
        "plt.title(\"Training vs validation loss\")\n",
        "\n",
        "plt.figure()\n",
        "plt.show()"
      ],
      "metadata": {
        "id": "uARwE28TQCh-"
      },
      "execution_count": null,
      "outputs": []
    },
    {
      "cell_type": "code",
      "source": [
        "y_pred = pred_H1_fine_cate_adam.argmax(axis=1)            ##\n",
        "y_true  = y_test_Dense.argmax(axis=1)\n",
        "y_test = y_test_Dense.argmax(axis=1)\n",
        "class_names = le_Dense.classes_\n",
        "\n",
        "def plot_confusion_matrix(y_true, y_pred, classes,\n",
        "                          normalize=False,\n",
        "                          title=None,\n",
        "                          cmap=plt.cm.OrRd):\n",
        "    \"\"\"\n",
        "    This function prints and plots the confusion matrix.\n",
        "    Normalization can be applied by setting `normalize=True`.\n",
        "    \"\"\"\n",
        "    if not title:\n",
        "        if normalize:\n",
        "            title = 'Normalized confusion matrix'\n",
        "        else:\n",
        "            title = 'Confusion matrix, without normalization'\n",
        "\n",
        "    # Compute confusion matrix\n",
        "    cm = confusion_matrix(y_true, y_pred)\n",
        "    # Only use the labels that appear in the data\n",
        "    classes = classes[unique_labels(y_true, y_pred)]\n",
        "    if normalize:\n",
        "        cm = cm.astype('float') / cm.sum(axis=1)[:, np.newaxis]\n",
        "        print(\"Normalized confusion matrix\")\n",
        "    else:\n",
        "        print('Confusion matrix, without normalization')\n",
        "    print(cm)\n",
        "    fig, ax = plt.subplots()\n",
        "    im = ax.imshow(cm, interpolation='nearest', cmap=cmap)\n",
        "    ax.figure.colorbar(im, ax=ax)\n",
        "    # We want to show all ticks...\n",
        "    ax.set(xticks=np.arange(cm.shape[1]),\n",
        "           yticks=np.arange(cm.shape[0]),\n",
        "           # ... and label them with the respective list entries\n",
        "           xticklabels=classes, yticklabels=classes,\n",
        "           title=title,\n",
        "           ylabel='True label',\n",
        "           xlabel='Predicted label')\n",
        "    # Rotate the tick labels and set their alignment.\n",
        "    plt.setp(ax.get_xticklabels(), rotation=45, ha=\"right\",\n",
        "             rotation_mode=\"anchor\")\n",
        "\n",
        "    # Loop over data dimensions and create text annotations.\n",
        "    fmt = '.2f' if normalize else 'd'\n",
        "    thresh = cm.max() / 2.\n",
        "    for i in range(cm.shape[0]):\n",
        "        for j in range(cm.shape[1]):\n",
        "            ax.text(j, i, format(cm[i, j], fmt),\n",
        "                    ha=\"center\", va=\"center\",\n",
        "                    color=\"white\" if cm[i, j] > thresh else \"black\")\n",
        "    fig.tight_layout()\n",
        "    return ax\n",
        "np.set_printoptions(precision=2)\n",
        "\n",
        "# Plot non-normalized confusion matrix\n",
        "plot_confusion_matrix(y_test, y_pred, classes=class_names,\n",
        "                      title='Confusion matrix, without normalization')\n",
        "# Plot normalized confusion matrix\n",
        "plot_confusion_matrix(y_test, y_pred, classes=class_names, normalize=True,\n",
        "                      title='Normalized confusion matrix')\n",
        "plt.show()"
      ],
      "metadata": {
        "id": "VEmKI8NJQCh-"
      },
      "execution_count": null,
      "outputs": []
    },
    {
      "cell_type": "code",
      "source": [
        ""
      ],
      "metadata": {
        "id": "rkC-h9mjQCh-"
      },
      "execution_count": null,
      "outputs": []
    },
    {
      "cell_type": "code",
      "source": [
        "model = load_model(filepath)"
      ],
      "metadata": {
        "id": "qXkTdtR9QCh_"
      },
      "execution_count": null,
      "outputs": []
    },
    {
      "cell_type": "code",
      "source": [
        "pred_model = model.predict(x_test_Dense)\n",
        "\n",
        "print(classification_report(y_test_Dense.argmax(axis=1),   pred_model.argmax(axis=1), target_names=le_Dense.classes_))"
      ],
      "metadata": {
        "id": "-VG0_YSnQCh_"
      },
      "execution_count": null,
      "outputs": []
    },
    {
      "cell_type": "code",
      "source": [
        "y_pred = pred_model.argmax(axis=1)            ##\n",
        "y_true  = y_test_Dense.argmax(axis=1)\n",
        "y_test = y_test_Dense.argmax(axis=1)\n",
        "class_names = le_Dense.classes_\n",
        "\n",
        "def plot_confusion_matrix(y_true, y_pred, classes,\n",
        "                          normalize=False,\n",
        "                          title=None,\n",
        "                          cmap=plt.cm.OrRd):\n",
        "    \"\"\"\n",
        "    This function prints and plots the confusion matrix.\n",
        "    Normalization can be applied by setting `normalize=True`.\n",
        "    \"\"\"\n",
        "    if not title:\n",
        "        if normalize:\n",
        "            title = 'Normalized confusion matrix'\n",
        "        else:\n",
        "            title = 'Confusion matrix, without normalization'\n",
        "\n",
        "    # Compute confusion matrix\n",
        "    cm = confusion_matrix(y_true, y_pred)\n",
        "    # Only use the labels that appear in the data\n",
        "    classes = classes[unique_labels(y_true, y_pred)]\n",
        "    if normalize:\n",
        "        cm = cm.astype('float') / cm.sum(axis=1)[:, np.newaxis]\n",
        "        print(\"Normalized confusion matrix\")\n",
        "    else:\n",
        "        print('Confusion matrix, without normalization')\n",
        "    print(cm)\n",
        "    fig, ax = plt.subplots()\n",
        "    im = ax.imshow(cm, interpolation='nearest', cmap=cmap)\n",
        "    ax.figure.colorbar(im, ax=ax)\n",
        "    # We want to show all ticks...\n",
        "    ax.set(xticks=np.arange(cm.shape[1]),\n",
        "           yticks=np.arange(cm.shape[0]),\n",
        "           # ... and label them with the respective list entries\n",
        "           xticklabels=classes, yticklabels=classes,\n",
        "           title=title,\n",
        "           ylabel='True label',\n",
        "           xlabel='Predicted label')\n",
        "\n",
        "    # Rotate the tick labels and set their alignment.\n",
        "    plt.setp(ax.get_xticklabels(), rotation=45, ha=\"right\",\n",
        "             rotation_mode=\"anchor\")\n",
        "    # Loop over data dimensions and create text annotations.\n",
        "    fmt = '.2f' if normalize else 'd'\n",
        "    thresh = cm.max() / 2.\n",
        "    for i in range(cm.shape[0]):\n",
        "        for j in range(cm.shape[1]):\n",
        "            ax.text(j, i, format(cm[i, j], fmt),\n",
        "                    ha=\"center\", va=\"center\",\n",
        "                    color=\"white\" if cm[i, j] > thresh else \"black\")\n",
        "    fig.tight_layout()\n",
        "    return ax\n",
        "np.set_printoptions(precision=2)\n",
        "# Plot non-normalized confusion matrix\n",
        "plot_confusion_matrix(y_test, y_pred, classes=class_names,\n",
        "                      title='Confusion matrix, without normalization')\n",
        "# Plot normalized confusion matrix\n",
        "plot_confusion_matrix(y_test, y_pred, classes=class_names, normalize=True,\n",
        "                      title='Normalized confusion matrix')\n",
        "plt.show()"
      ],
      "metadata": {
        "id": "6Ke5uzwPQCh_"
      },
      "execution_count": null,
      "outputs": []
    }
  ]
}