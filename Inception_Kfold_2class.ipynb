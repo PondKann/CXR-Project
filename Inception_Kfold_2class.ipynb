{
  "nbformat": 4,
  "nbformat_minor": 0,
  "metadata": {
    "colab": {
      "name": "Inception_Kfold_2class.ipynb",
      "provenance": [],
      "authorship_tag": "ABX9TyMd1FA+F2U80OVpmZT252Wj",
      "include_colab_link": true
    },
    "kernelspec": {
      "name": "python3",
      "display_name": "Python 3"
    },
    "language_info": {
      "name": "python"
    }
  },
  "cells": [
    {
      "cell_type": "markdown",
      "metadata": {
        "id": "view-in-github",
        "colab_type": "text"
      },
      "source": [
        "<a href=\"https://colab.research.google.com/github/PondKann/CXR-Project/blob/main/Inception_Kfold_2class.ipynb\" target=\"_parent\"><img src=\"https://colab.research.google.com/assets/colab-badge.svg\" alt=\"Open In Colab\"/></a>"
      ]
    },
    {
      "cell_type": "markdown",
      "source": [
        "1) Pretrained // Sampling Abnormal K-fold\n",
        "\n",
        "2) 0-100 // Sampling Abnormal K-fold"
      ],
      "metadata": {
        "id": "hNGDvj0JKMrU"
      }
    },
    {
      "cell_type": "code",
      "execution_count": null,
      "metadata": {
        "id": "qwirv5QVI3lY"
      },
      "outputs": [],
      "source": [
        ""
      ]
    },
    {
      "cell_type": "markdown",
      "metadata": {
        "id": "Kpnf_sft9x4-"
      },
      "source": [
        "#### import"
      ]
    },
    {
      "cell_type": "code",
      "execution_count": null,
      "metadata": {
        "id": "Psng6eJUdzUG"
      },
      "outputs": [],
      "source": [
        "import os\n",
        "import tensorflow as tf\n",
        "import matplotlib.pyplot as plt\n",
        "%matplotlib inline\n",
        "from tensorflow.keras.preprocessing.image import ImageDataGenerator\n",
        "from tensorflow.keras.callbacks import EarlyStopping, ReduceLROnPlateau, ModelCheckpoint\n",
        "import cv2\n",
        "import numpy as np\n",
        "import pandas as pd\n",
        "from torchsummary import summary\n",
        "from skimage.io import imread, imsave\n",
        "from tqdm import tqdm\n",
        "\n",
        "from sklearn.model_selection import train_test_split\n",
        "from sklearn.metrics import accuracy_score, confusion_matrix\n",
        "\n",
        "import PIL\n",
        "from PIL import Image\n"
      ]
    },
    {
      "cell_type": "code",
      "execution_count": null,
      "metadata": {
        "id": "6f-PDKiLl2iC"
      },
      "outputs": [],
      "source": [
        "# set the matplotlib backend so figures can be saved in the background\n",
        "import matplotlib\n",
        "matplotlib.use(\"Agg\")\n",
        "\n",
        "from sklearn.preprocessing import LabelEncoder\n",
        "from sklearn.metrics import classification_report\n",
        "from tensorflow.keras.optimizers import SGD, Adam, RMSprop\n",
        "from tensorflow.keras.utils import to_categorical\n",
        "from tensorflow.keras.models import load_model\n",
        "from imutils import paths\n",
        "import argparse\n",
        "\n",
        "from sklearn.model_selection import KFold\n",
        "from sklearn import metrics\n",
        "from scipy.stats import zscore\n",
        "\n",
        "\n",
        "import matplotlib.image as mpimg\n",
        "from matplotlib.pyplot import savefig\n",
        "\n",
        "import itertools\n",
        "from sklearn.metrics import confusion_matrix\n",
        "from sklearn.utils.multiclass import unique_labels"
      ]
    },
    {
      "cell_type": "markdown",
      "metadata": {
        "id": "Z1e52UqdwPp8"
      },
      "source": [
        "#### Load data // KKU"
      ]
    },
    {
      "cell_type": "code",
      "execution_count": null,
      "metadata": {
        "colab": {
          "base_uri": "https://localhost:8080/"
        },
        "id": "DlcukkP7fnhB",
        "outputId": "0fa4b2df-f0b0-4047-fc2c-72a888fff3ca"
      },
      "outputs": [
        {
          "output_type": "stream",
          "name": "stdout",
          "text": [
            "Mounted at /content/drive\n"
          ]
        }
      ],
      "source": [
        "from google.colab import drive\n",
        "drive.mount('/content/drive')"
      ]
    },
    {
      "cell_type": "code",
      "execution_count": null,
      "metadata": {
        "id": "0w8suy5ofqx_"
      },
      "outputs": [],
      "source": [
        "data_dir = '/content/drive/My Drive/Senior Project/CXR Image3class/Image'"
      ]
    },
    {
      "cell_type": "markdown",
      "metadata": {
        "id": "xhqPQxA42jeC"
      },
      "source": [
        "train 3 class"
      ]
    },
    {
      "cell_type": "code",
      "execution_count": null,
      "metadata": {
        "id": "-Jrg5mt_RvJT"
      },
      "outputs": [],
      "source": [
        "Normal151_dir = os.path.join(data_dir,'Normal151')\n",
        "TB150_dir = os.path.join(data_dir,'TB150')\n",
        "CA150_dir = os.path.join(data_dir,'CA150')\n",
        "\n",
        "All_3class_dir = os.path.join(data_dir,'All_3class')"
      ]
    },
    {
      "cell_type": "markdown",
      "source": [
        ""
      ],
      "metadata": {
        "id": "TdmiFUwh-BT_"
      }
    },
    {
      "cell_type": "markdown",
      "metadata": {
        "id": "4_dJIpAJ3n_I"
      },
      "source": [
        "#### Load data // Gmail"
      ]
    },
    {
      "cell_type": "code",
      "execution_count": null,
      "metadata": {
        "colab": {
          "base_uri": "https://localhost:8080/"
        },
        "outputId": "e2d2705a-eadd-4da5-ee8f-707634cb2f8a",
        "id": "X9hd2pU13n_J"
      },
      "outputs": [
        {
          "output_type": "stream",
          "name": "stdout",
          "text": [
            "Mounted at /content/drive\n"
          ]
        }
      ],
      "source": [
        "from google.colab import drive\n",
        "drive.mount('/content/drive')"
      ]
    },
    {
      "cell_type": "code",
      "execution_count": null,
      "metadata": {
        "id": "CCHunkNk3n_J"
      },
      "outputs": [],
      "source": [
        "data_dir = '/content/drive/My Drive/Senior Project/CXR Image3class'"
      ]
    },
    {
      "cell_type": "markdown",
      "metadata": {
        "id": "JwTPsWNE3n_J"
      },
      "source": [
        "train 3 class"
      ]
    },
    {
      "cell_type": "code",
      "execution_count": null,
      "metadata": {
        "id": "nrXH05fh3n_K"
      },
      "outputs": [],
      "source": [
        "Normal151_dir = os.path.join(data_dir,'Normal151')\n",
        "TB150_dir = os.path.join(data_dir,'TB150')\n",
        "CA150_dir = os.path.join(data_dir,'CA150')\n",
        "\n",
        "All_3class_dir = os.path.join(data_dir,'All_3class')"
      ]
    },
    {
      "cell_type": "markdown",
      "source": [
        ""
      ],
      "metadata": {
        "id": "i5V5DnHg3n_K"
      }
    },
    {
      "cell_type": "markdown",
      "metadata": {
        "id": "g71UX3BnhMU5"
      },
      "source": [
        "#### Data 2 class  + Sampling data\n",
        "ข้อมูลใน All_3class_dir รวมภาพทั้ง 3 คลาส รวม 451 ภาพ TB150, Normal151 และ CA150 (CA คือ lungcancer)"
      ]
    },
    {
      "cell_type": "code",
      "execution_count": null,
      "metadata": {
        "id": "gbgiHWi9hMU6"
      },
      "outputs": [],
      "source": [
        "Normal151_dir = os.path.join(data_dir,'Normal151')\n",
        "TB150_dir = os.path.join(data_dir,'TB150')\n",
        "CA150_dir = os.path.join(data_dir,'CA150')\n",
        "\n",
        "All_3class_dir = os.path.join(data_dir,'All_3class')"
      ]
    },
    {
      "cell_type": "code",
      "execution_count": null,
      "metadata": {
        "id": "XhIRkVUDhMU7"
      },
      "outputs": [],
      "source": [
        "normal = []\n",
        "for i in range(len(os.listdir(Normal151_dir))):\n",
        "    img = os.listdir(Normal151_dir)[i]\n",
        "    normal.append(img)\n",
        "    \n",
        "tnormal = pd.DataFrame({'ImageName':[normal][0],\n",
        "                                       'NameType': \"Normal\"  })"
      ]
    },
    {
      "cell_type": "code",
      "execution_count": null,
      "metadata": {
        "id": "Lcw67LQyhMU7"
      },
      "outputs": [],
      "source": [
        "tuberculosis = []\n",
        "for i in range(len(os.listdir(TB150_dir))):\n",
        "    img = os.listdir(TB150_dir)[i]\n",
        "    tuberculosis.append(img)\n",
        "\n",
        "ttuberculosis = pd.DataFrame({'ImageName':[tuberculosis][0],\n",
        "                                       'NameType': \"Abnormal\"  })"
      ]
    },
    {
      "cell_type": "code",
      "execution_count": null,
      "metadata": {
        "id": "YFBTCuPEhMU8"
      },
      "outputs": [],
      "source": [
        "lungcancer = []\n",
        "for i in range(len(os.listdir(CA150_dir))):\n",
        "    img = os.listdir(CA150_dir)[i]\n",
        "    lungcancer.append(img)\n",
        "\n",
        "tlungcancer = pd.DataFrame({'ImageName':[lungcancer][0],\n",
        "                                       'NameType': \"Abnormal\"  })"
      ]
    },
    {
      "cell_type": "code",
      "execution_count": null,
      "metadata": {
        "colab": {
          "base_uri": "https://localhost:8080/",
          "height": 143
        },
        "id": "FdG7BpQihMU8",
        "outputId": "dd37da61-21bc-4451-98dd-a5b0dce7212a"
      },
      "outputs": [
        {
          "output_type": "execute_result",
          "data": {
            "text/html": [
              "\n",
              "  <div id=\"df-b76a75e5-216a-41f3-a1aa-e7adb754240e\">\n",
              "    <div class=\"colab-df-container\">\n",
              "      <div>\n",
              "<style scoped>\n",
              "    .dataframe tbody tr th:only-of-type {\n",
              "        vertical-align: middle;\n",
              "    }\n",
              "\n",
              "    .dataframe tbody tr th {\n",
              "        vertical-align: top;\n",
              "    }\n",
              "\n",
              "    .dataframe thead th {\n",
              "        text-align: right;\n",
              "    }\n",
              "</style>\n",
              "<table border=\"1\" class=\"dataframe\">\n",
              "  <thead>\n",
              "    <tr style=\"text-align: right;\">\n",
              "      <th></th>\n",
              "      <th>ImageName</th>\n",
              "      <th>NameType</th>\n",
              "    </tr>\n",
              "  </thead>\n",
              "  <tbody>\n",
              "    <tr>\n",
              "      <th>147</th>\n",
              "      <td>ca2.jpg</td>\n",
              "      <td>Abnormal</td>\n",
              "    </tr>\n",
              "    <tr>\n",
              "      <th>148</th>\n",
              "      <td>ca26.jpg</td>\n",
              "      <td>Abnormal</td>\n",
              "    </tr>\n",
              "    <tr>\n",
              "      <th>149</th>\n",
              "      <td>ca8.jpg</td>\n",
              "      <td>Abnormal</td>\n",
              "    </tr>\n",
              "  </tbody>\n",
              "</table>\n",
              "</div>\n",
              "      <button class=\"colab-df-convert\" onclick=\"convertToInteractive('df-b76a75e5-216a-41f3-a1aa-e7adb754240e')\"\n",
              "              title=\"Convert this dataframe to an interactive table.\"\n",
              "              style=\"display:none;\">\n",
              "        \n",
              "  <svg xmlns=\"http://www.w3.org/2000/svg\" height=\"24px\"viewBox=\"0 0 24 24\"\n",
              "       width=\"24px\">\n",
              "    <path d=\"M0 0h24v24H0V0z\" fill=\"none\"/>\n",
              "    <path d=\"M18.56 5.44l.94 2.06.94-2.06 2.06-.94-2.06-.94-.94-2.06-.94 2.06-2.06.94zm-11 1L8.5 8.5l.94-2.06 2.06-.94-2.06-.94L8.5 2.5l-.94 2.06-2.06.94zm10 10l.94 2.06.94-2.06 2.06-.94-2.06-.94-.94-2.06-.94 2.06-2.06.94z\"/><path d=\"M17.41 7.96l-1.37-1.37c-.4-.4-.92-.59-1.43-.59-.52 0-1.04.2-1.43.59L10.3 9.45l-7.72 7.72c-.78.78-.78 2.05 0 2.83L4 21.41c.39.39.9.59 1.41.59.51 0 1.02-.2 1.41-.59l7.78-7.78 2.81-2.81c.8-.78.8-2.07 0-2.86zM5.41 20L4 18.59l7.72-7.72 1.47 1.35L5.41 20z\"/>\n",
              "  </svg>\n",
              "      </button>\n",
              "      \n",
              "  <style>\n",
              "    .colab-df-container {\n",
              "      display:flex;\n",
              "      flex-wrap:wrap;\n",
              "      gap: 12px;\n",
              "    }\n",
              "\n",
              "    .colab-df-convert {\n",
              "      background-color: #E8F0FE;\n",
              "      border: none;\n",
              "      border-radius: 50%;\n",
              "      cursor: pointer;\n",
              "      display: none;\n",
              "      fill: #1967D2;\n",
              "      height: 32px;\n",
              "      padding: 0 0 0 0;\n",
              "      width: 32px;\n",
              "    }\n",
              "\n",
              "    .colab-df-convert:hover {\n",
              "      background-color: #E2EBFA;\n",
              "      box-shadow: 0px 1px 2px rgba(60, 64, 67, 0.3), 0px 1px 3px 1px rgba(60, 64, 67, 0.15);\n",
              "      fill: #174EA6;\n",
              "    }\n",
              "\n",
              "    [theme=dark] .colab-df-convert {\n",
              "      background-color: #3B4455;\n",
              "      fill: #D2E3FC;\n",
              "    }\n",
              "\n",
              "    [theme=dark] .colab-df-convert:hover {\n",
              "      background-color: #434B5C;\n",
              "      box-shadow: 0px 1px 3px 1px rgba(0, 0, 0, 0.15);\n",
              "      filter: drop-shadow(0px 1px 2px rgba(0, 0, 0, 0.3));\n",
              "      fill: #FFFFFF;\n",
              "    }\n",
              "  </style>\n",
              "\n",
              "      <script>\n",
              "        const buttonEl =\n",
              "          document.querySelector('#df-b76a75e5-216a-41f3-a1aa-e7adb754240e button.colab-df-convert');\n",
              "        buttonEl.style.display =\n",
              "          google.colab.kernel.accessAllowed ? 'block' : 'none';\n",
              "\n",
              "        async function convertToInteractive(key) {\n",
              "          const element = document.querySelector('#df-b76a75e5-216a-41f3-a1aa-e7adb754240e');\n",
              "          const dataTable =\n",
              "            await google.colab.kernel.invokeFunction('convertToInteractive',\n",
              "                                                     [key], {});\n",
              "          if (!dataTable) return;\n",
              "\n",
              "          const docLinkHtml = 'Like what you see? Visit the ' +\n",
              "            '<a target=\"_blank\" href=https://colab.research.google.com/notebooks/data_table.ipynb>data table notebook</a>'\n",
              "            + ' to learn more about interactive tables.';\n",
              "          element.innerHTML = '';\n",
              "          dataTable['output_type'] = 'display_data';\n",
              "          await google.colab.output.renderOutput(dataTable, element);\n",
              "          const docLink = document.createElement('div');\n",
              "          docLink.innerHTML = docLinkHtml;\n",
              "          element.appendChild(docLink);\n",
              "        }\n",
              "      </script>\n",
              "    </div>\n",
              "  </div>\n",
              "  "
            ],
            "text/plain": [
              "    ImageName  NameType\n",
              "147   ca2.jpg  Abnormal\n",
              "148  ca26.jpg  Abnormal\n",
              "149   ca8.jpg  Abnormal"
            ]
          },
          "metadata": {},
          "execution_count": 12
        }
      ],
      "source": [
        "data_train3 = pd.concat([tnormal[:-1], ttuberculosis, tlungcancer])\n",
        "data_train3[-3:]"
      ]
    },
    {
      "cell_type": "code",
      "source": [
        "data_train3.shape"
      ],
      "metadata": {
        "id": "eT6-CPGZl503",
        "outputId": "16ce3973-46f7-435a-9fd9-2388553064a9",
        "colab": {
          "base_uri": "https://localhost:8080/"
        }
      },
      "execution_count": null,
      "outputs": [
        {
          "output_type": "execute_result",
          "data": {
            "text/plain": [
              "(450, 2)"
            ]
          },
          "metadata": {},
          "execution_count": 13
        }
      ]
    },
    {
      "cell_type": "markdown",
      "source": [
        "Sampling data"
      ],
      "metadata": {
        "id": "AOUO1sdiNfD6"
      }
    },
    {
      "cell_type": "code",
      "source": [
        "tabnormal= pd.concat([ttuberculosis, tlungcancer])\n",
        "tabnormal = tabnormal.sample(n=150, random_state=40)\n",
        "data_train3 = pd.concat([tnormal[:-1], tabnormal])"
      ],
      "metadata": {
        "id": "r6R5PQsZOboU"
      },
      "execution_count": null,
      "outputs": []
    },
    {
      "cell_type": "code",
      "source": [
        "data_train3.to_excel(\"data_2class_sampling.xlsx\")"
      ],
      "metadata": {
        "id": "SXmWc4qb5jR9"
      },
      "execution_count": null,
      "outputs": []
    },
    {
      "cell_type": "code",
      "source": [
        ""
      ],
      "metadata": {
        "id": "QZTQagmFNRNO"
      },
      "execution_count": null,
      "outputs": []
    },
    {
      "cell_type": "markdown",
      "source": [
        "# Pretrained Sampling Ab\n",
        "\n",
        "- sigmold\n",
        "- binary_crossentropy"
      ],
      "metadata": {
        "id": "IKWe4YBbGxf2"
      }
    },
    {
      "cell_type": "markdown",
      "source": [
        "### 1"
      ],
      "metadata": {
        "id": "tPn1nH9tGxf4"
      }
    },
    {
      "cell_type": "markdown",
      "source": [
        "#### 1 sig pre bi\n",
        "--> "
      ],
      "metadata": {
        "id": "9hB1cErZGxf5"
      }
    },
    {
      "cell_type": "code",
      "source": [
        "BS = 1\n",
        "filepath = \"Kmodel1_sig_pre_bi\"                  ##\n",
        "\n",
        "train_img_Incep = []\n",
        "for ImageName in tqdm(data_train3['ImageName']):              \n",
        "    image_path = All_3class_dir +'/' + ImageName                  \n",
        "    img = cv2.imread(image_path)                                          \n",
        "    img = cv2.resize(img, (299, 299))                                      \n",
        "    train_img_Incep.append(img)\n",
        "data_Incep = np.array(train_img_Incep, dtype=\"float32\") / 255.0\n",
        "\n",
        "labels_Incep = np.array(data_train3[['NameType']] )        \n",
        "labels_Incep.shape = (len(labels_Incep),) \n",
        "le_Incep = LabelEncoder()                                                                     \n",
        "labels_Incep = le_Incep.fit_transform(labels_Incep)                                         \n",
        "labels_Incep = to_categorical(labels_Incep, num_classes=2)                   \n",
        "\n",
        "aug = ImageDataGenerator( rotation_range=15,\twidth_shift_range=0.1, \theight_shift_range=0.1,\n",
        "\t\tshear_range=0.15, \thorizontal_flip=True, \tfill_mode=\"nearest\")\n",
        "                                                                                                          \n",
        "callback = EarlyStopping( monitor= \"val_accuracy\",    patience=15,       mode=\"max\")\n",
        "\n",
        "# checkpoint = ModelCheckpoint(filepath, monitor='val_accuracy', verbose=1,   save_best_only=True, mode='max')\n",
        "                                                                                                            ##\n",
        "reduce_lr = ReduceLROnPlateau(monitor='val_accuracy', factor=0.5,   patience=6,     verbose=1, mode='max', min_lr=0.00001)"
      ],
      "metadata": {
        "outputId": "8741a3e8-2d19-43a6-8086-241819a23a7f",
        "colab": {
          "base_uri": "https://localhost:8080/"
        },
        "id": "Yv5BpJgYGxf6"
      },
      "execution_count": null,
      "outputs": [
        {
          "output_type": "stream",
          "name": "stderr",
          "text": [
            "100%|██████████| 451/451 [00:10<00:00, 44.85it/s]\n"
          ]
        }
      ]
    },
    {
      "cell_type": "code",
      "source": [
        "base_model_Incep = tf.keras.applications.InceptionV3(input_shape=(299, 299, 3), include_top=False, weights=\"imagenet\")\n",
        "base_model_Incep.trainable = False\n",
        "\n",
        "#Add custom head\n",
        "average_pooling_layer = tf.keras.layers.GlobalAveragePooling2D()(base_model_Incep.output)\n",
        "prediction_layer = tf.keras.layers.Dense(units=2, activation=\"sigmold\")(average_pooling_layer)   # unit 2\n",
        "model_Incep = tf.keras.models.Model(inputs=base_model_Incep.input, outputs=prediction_layer)\n",
        "\n",
        "model_Incep.compile(optimizer=RMSprop(learning_rate=0.0001), loss=\"binary_crossentropy\", metrics=[\"accuracy\"])\n",
        "\n",
        "\n",
        "### K-fold\n",
        "kf_Incep = KFold(5, shuffle=True, random_state=40) \n",
        "\n",
        "oos_y = []\n",
        "oos_pred = []\n",
        "fold = 0\n",
        "\n",
        "for train, test in kf_Incep.split(data_Incep):\n",
        "    fold+=1   \n",
        "    print(f\"Fold #{fold}\")\n",
        "\n",
        "    filename = f\" {filepath}{fold}.h5 \"\n",
        "    checkpoint = ModelCheckpoint(filename, monitor='val_accuracy', verbose=1,   save_best_only=True, mode='max')\n",
        "        \n",
        "    x_train_Incep = data_Incep[train]\n",
        "    y_train_Incep = labels_Incep[train]\n",
        "    x_test_Incep = data_Incep[test]\n",
        "    y_test_Incep = labels_Incep[test]\n",
        "\n",
        "    H_Incep = model_Incep.fit( x=aug.flow(x_train_Incep, y_train_Incep, batch_size=BS),\n",
        "\t                                            validation_data=(x_test_Incep, y_test_Incep),\n",
        "\t                                            steps_per_epoch=len(x_train_Incep) // BS,\n",
        "\t                                            epochs=100,  callbacks = [callback,checkpoint,reduce_lr])\n",
        "\n",
        "    pred_Incep = model_Incep.predict(x_test_Incep)\n",
        "    \n",
        "    oos_y.append(y_test_Incep)\n",
        "    oos_pred.append(pred_Incep)  \n",
        "    print(classification_report(y_test_Incep.argmax(axis=1),\t                #แสดง report ค่า acc, recall, ...\n",
        "                                        pred_Incep.argmax(axis=1),  \n",
        "                                        target_names=le_Incep.classes_))\n",
        "    \n",
        "oos_y = np.concatenate(oos_y)\n",
        "oos_pred = np.concatenate(oos_pred)\n",
        "print(classification_report(oos_y.argmax(axis=1), oos_pred.argmax(axis=1),  target_names=le_Incep.classes_))"
      ],
      "metadata": {
        "id": "WJZIddW2Gxf7"
      },
      "execution_count": null,
      "outputs": []
    },
    {
      "cell_type": "markdown",
      "source": [
        "#### 1 sig pre bi adam\n",
        "--> "
      ],
      "metadata": {
        "id": "-5oKpD6qGxf9"
      }
    },
    {
      "cell_type": "code",
      "source": [
        "BS = 1\n",
        "filepath = \"Kmodel1_sig_pre_bi_adam\"                  ##\n",
        "\n",
        "train_img_Incep = []\n",
        "for ImageName in tqdm(data_train3['ImageName']):              \n",
        "    image_path = All_3class_dir +'/' + ImageName                  \n",
        "    img = cv2.imread(image_path)                                          \n",
        "    img = cv2.resize(img, (299, 299))                                      \n",
        "    train_img_Incep.append(img)\n",
        "data_Incep = np.array(train_img_Incep, dtype=\"float32\") / 255.0\n",
        "\n",
        "labels_Incep = np.array(data_train3[['NameType']] )        \n",
        "labels_Incep.shape = (len(labels_Incep),) \n",
        "le_Incep = LabelEncoder()                                                                     \n",
        "labels_Incep = le_Incep.fit_transform(labels_Incep)                                         \n",
        "labels_Incep = to_categorical(labels_Incep, num_classes=2)                   \n",
        "\n",
        "aug = ImageDataGenerator( rotation_range=15,\twidth_shift_range=0.1, \theight_shift_range=0.1,\n",
        "\t\tshear_range=0.15, \thorizontal_flip=True, \tfill_mode=\"nearest\")\n",
        "                                                                                                          \n",
        "callback = EarlyStopping( monitor= \"val_accuracy\",    patience=15,       mode=\"max\")\n",
        "\n",
        "# checkpoint = ModelCheckpoint(filepath, monitor='val_accuracy', verbose=1,   save_best_only=True, mode='max')\n",
        "                                                                                                            ##\n",
        "reduce_lr = ReduceLROnPlateau(monitor='val_accuracy', factor=0.5,   patience=6,     verbose=1, mode='max', min_lr=0.00001)"
      ],
      "metadata": {
        "outputId": "3f52f262-ffd4-40ae-8af3-bc174b331ad7",
        "colab": {
          "base_uri": "https://localhost:8080/"
        },
        "id": "a0xI2fXoGxf-"
      },
      "execution_count": null,
      "outputs": [
        {
          "output_type": "stream",
          "name": "stderr",
          "text": [
            "100%|██████████| 451/451 [02:08<00:00,  3.50it/s]\n"
          ]
        }
      ]
    },
    {
      "cell_type": "code",
      "source": [
        "base_model_Incep = tf.keras.applications.InceptionV3(input_shape=(299, 299, 3), include_top=False, weights=\"imagenet\")\n",
        "base_model_Incep.trainable = False\n",
        "\n",
        "#Add custom head\n",
        "average_pooling_layer = tf.keras.layers.GlobalAveragePooling2D()(base_model_Incep.output)\n",
        "prediction_layer = tf.keras.layers.Dense(units=2, activation=\"sigmold\")(average_pooling_layer)   # unit 2\n",
        "model_Incep = tf.keras.models.Model(inputs=base_model_Incep.input, outputs=prediction_layer)\n",
        "\n",
        "model_Incep.compile(optimizer=RMSprop(learning_rate=0.0001), loss=\"binary_crossentropy\", metrics=[\"accuracy\"])\n",
        "\n",
        "\n",
        "### K-fold\n",
        "kf_Incep = KFold(5, shuffle=True, random_state=40) \n",
        "\n",
        "oos_y = []\n",
        "oos_pred = []\n",
        "fold = 0\n",
        "\n",
        "for train, test in kf_Incep.split(data_Incep):\n",
        "    fold+=1   \n",
        "    print(f\"Fold #{fold}\")\n",
        "\n",
        "    filename = f\" {filepath}{fold}.h5 \"\n",
        "    checkpoint = ModelCheckpoint(filename, monitor='val_accuracy', verbose=1,   save_best_only=True, mode='max')\n",
        "        \n",
        "    x_train_Incep = data_Incep[train]\n",
        "    y_train_Incep = labels_Incep[train]\n",
        "    x_test_Incep = data_Incep[test]\n",
        "    y_test_Incep = labels_Incep[test]\n",
        "\n",
        "    H_Incep = model_Incep.fit( x=aug.flow(x_train_Incep, y_train_Incep, batch_size=BS),\n",
        "\t                                            validation_data=(x_test_Incep, y_test_Incep),\n",
        "\t                                            steps_per_epoch=len(x_train_Incep) // BS,\n",
        "\t                                            epochs=100,  callbacks = [callback,checkpoint,reduce_lr])\n",
        "\n",
        "    pred_Incep = model_Incep.predict(x_test_Incep)\n",
        "    \n",
        "    oos_y.append(y_test_Incep)\n",
        "    oos_pred.append(pred_Incep)  \n",
        "    print(classification_report(y_test_Incep.argmax(axis=1),\t                #แสดง report ค่า acc, recall, ...\n",
        "                                        pred_Incep.argmax(axis=1),  \n",
        "                                        target_names=le_Incep.classes_))\n",
        "    \n",
        "oos_y = np.concatenate(oos_y)\n",
        "oos_pred = np.concatenate(oos_pred)\n",
        "print(classification_report(oos_y.argmax(axis=1), oos_pred.argmax(axis=1),  target_names=le_Incep.classes_))"
      ],
      "metadata": {
        "id": "DySjPYhdGxf_"
      },
      "execution_count": null,
      "outputs": []
    },
    {
      "cell_type": "markdown",
      "source": [
        "#### 1 sig pre bi sgd\n",
        "--> "
      ],
      "metadata": {
        "id": "0mTaT-mmGxgA"
      }
    },
    {
      "cell_type": "code",
      "source": [
        "BS = 1\n",
        "filepath = \"Kmodel1_sig_pre_bi_sgd\"                  ##\n",
        "\n",
        "train_img_Incep = []\n",
        "for ImageName in tqdm(data_train3['ImageName']):              \n",
        "    image_path = All_3class_dir +'/' + ImageName                  \n",
        "    img = cv2.imread(image_path)                                          \n",
        "    img = cv2.resize(img, (299, 299))                                      \n",
        "    train_img_Incep.append(img)\n",
        "data_Incep = np.array(train_img_Incep, dtype=\"float32\") / 255.0\n",
        "\n",
        "labels_Incep = np.array(data_train3[['NameType']] )        \n",
        "labels_Incep.shape = (len(labels_Incep),) \n",
        "le_Incep = LabelEncoder()                                                                     \n",
        "labels_Incep = le_Incep.fit_transform(labels_Incep)                                         \n",
        "labels_Incep = to_categorical(labels_Incep, num_classes=2)                   \n",
        "\n",
        "aug = ImageDataGenerator( rotation_range=15,\twidth_shift_range=0.1, \theight_shift_range=0.1,\n",
        "\t\tshear_range=0.15, \thorizontal_flip=True, \tfill_mode=\"nearest\")\n",
        "                                                                                                          \n",
        "callback = EarlyStopping( monitor= \"val_accuracy\",    patience=15,       mode=\"max\")\n",
        "\n",
        "# checkpoint = ModelCheckpoint(filepath, monitor='val_accuracy', verbose=1,   save_best_only=True, mode='max')\n",
        "                                                                                                            ##\n",
        "reduce_lr = ReduceLROnPlateau(monitor='val_accuracy', factor=0.5,   patience=6,     verbose=1, mode='max', min_lr=0.00001)"
      ],
      "metadata": {
        "outputId": "3f52f262-ffd4-40ae-8af3-bc174b331ad7",
        "colab": {
          "base_uri": "https://localhost:8080/"
        },
        "id": "mf9vmDoUGxgB"
      },
      "execution_count": null,
      "outputs": [
        {
          "output_type": "stream",
          "name": "stderr",
          "text": [
            "100%|██████████| 451/451 [02:08<00:00,  3.50it/s]\n"
          ]
        }
      ]
    },
    {
      "cell_type": "code",
      "source": [
        "base_model_Incep = tf.keras.applications.InceptionV3(input_shape=(299, 299, 3), include_top=False, weights=\"imagenet\")\n",
        "base_model_Incep.trainable = False\n",
        "\n",
        "#Add custom head\n",
        "average_pooling_layer = tf.keras.layers.GlobalAveragePooling2D()(base_model_Incep.output)\n",
        "prediction_layer = tf.keras.layers.Dense(units=2, activation=\"sigmold\")(average_pooling_layer)   # unit 2\n",
        "model_Incep = tf.keras.models.Model(inputs=base_model_Incep.input, outputs=prediction_layer)\n",
        "\n",
        "model_Incep.compile(optimizer=RMSprop(learning_rate=0.0001), loss=\"binary_crossentropy\", metrics=[\"accuracy\"])\n",
        "\n",
        "\n",
        "### K-fold\n",
        "kf_Incep = KFold(5, shuffle=True, random_state=40) \n",
        "\n",
        "oos_y = []\n",
        "oos_pred = []\n",
        "fold = 0\n",
        "\n",
        "for train, test in kf_Incep.split(data_Incep):\n",
        "    fold+=1   \n",
        "    print(f\"Fold #{fold}\")\n",
        "\n",
        "    filename = f\" {filepath}{fold}.h5 \"\n",
        "    checkpoint = ModelCheckpoint(filename, monitor='val_accuracy', verbose=1,   save_best_only=True, mode='max')\n",
        "        \n",
        "    x_train_Incep = data_Incep[train]\n",
        "    y_train_Incep = labels_Incep[train]\n",
        "    x_test_Incep = data_Incep[test]\n",
        "    y_test_Incep = labels_Incep[test]\n",
        "\n",
        "    H_Incep = model_Incep.fit( x=aug.flow(x_train_Incep, y_train_Incep, batch_size=BS),\n",
        "\t                                            validation_data=(x_test_Incep, y_test_Incep),\n",
        "\t                                            steps_per_epoch=len(x_train_Incep) // BS,\n",
        "\t                                            epochs=100,  callbacks = [callback,checkpoint,reduce_lr])\n",
        "\n",
        "    pred_Incep = model_Incep.predict(x_test_Incep)\n",
        "    \n",
        "    oos_y.append(y_test_Incep)\n",
        "    oos_pred.append(pred_Incep)  \n",
        "    print(classification_report(y_test_Incep.argmax(axis=1),\t                #แสดง report ค่า acc, recall, ...\n",
        "                                        pred_Incep.argmax(axis=1),  \n",
        "                                        target_names=le_Incep.classes_))\n",
        "    \n",
        "oos_y = np.concatenate(oos_y)\n",
        "oos_pred = np.concatenate(oos_pred)\n",
        "print(classification_report(oos_y.argmax(axis=1), oos_pred.argmax(axis=1),  target_names=le_Incep.classes_))"
      ],
      "metadata": {
        "id": "V4bxIc4KGxgD"
      },
      "execution_count": null,
      "outputs": []
    },
    {
      "cell_type": "markdown",
      "source": [
        "### 8"
      ],
      "metadata": {
        "id": "insBLWp7GxgG"
      }
    },
    {
      "cell_type": "markdown",
      "source": [
        "#### 8  sig pre bi\n",
        "--> "
      ],
      "metadata": {
        "id": "V7-IcjtZGxgH"
      }
    },
    {
      "cell_type": "code",
      "source": [
        "BS = 8\n",
        "filepath = \"Kmodel8_sig_pre_bi\"                  ##\n",
        "\n",
        "train_img_Incep = []\n",
        "for ImageName in tqdm(data_train3['ImageName']):              \n",
        "    image_path = All_3class_dir +'/' + ImageName                  \n",
        "    img = cv2.imread(image_path)                                          \n",
        "    img = cv2.resize(img, (299, 299))                                      \n",
        "    train_img_Incep.append(img)\n",
        "data_Incep = np.array(train_img_Incep, dtype=\"float32\") / 255.0\n",
        "\n",
        "labels_Incep = np.array(data_train3[['NameType']] )        \n",
        "labels_Incep.shape = (len(labels_Incep),) \n",
        "le_Incep = LabelEncoder()                                                                     \n",
        "labels_Incep = le_Incep.fit_transform(labels_Incep)                                         \n",
        "labels_Incep = to_categorical(labels_Incep, num_classes=2)                   \n",
        "\n",
        "aug = ImageDataGenerator( rotation_range=15,\twidth_shift_range=0.1, \theight_shift_range=0.1,\n",
        "\t\tshear_range=0.15, \thorizontal_flip=True, \tfill_mode=\"nearest\")\n",
        "                                                                                                          \n",
        "callback = EarlyStopping( monitor= \"val_accuracy\",    patience=15,       mode=\"max\")\n",
        "\n",
        "# checkpoint = ModelCheckpoint(filepath, monitor='val_accuracy', verbose=1,   save_best_only=True, mode='max')\n",
        "                                                                                                            ##\n",
        "reduce_lr = ReduceLROnPlateau(monitor='val_accuracy', factor=0.5,   patience=6,     verbose=1, mode='max', min_lr=0.00001)"
      ],
      "metadata": {
        "outputId": "8741a3e8-2d19-43a6-8086-241819a23a7f",
        "colab": {
          "base_uri": "https://localhost:8080/"
        },
        "id": "qN-vdcttGxgI"
      },
      "execution_count": null,
      "outputs": [
        {
          "output_type": "stream",
          "name": "stderr",
          "text": [
            "100%|██████████| 451/451 [00:10<00:00, 44.85it/s]\n"
          ]
        }
      ]
    },
    {
      "cell_type": "code",
      "source": [
        "base_model_Incep = tf.keras.applications.InceptionV3(input_shape=(299, 299, 3), include_top=False, weights=\"imagenet\")\n",
        "base_model_Incep.trainable = False\n",
        "\n",
        "#Add custom head\n",
        "average_pooling_layer = tf.keras.layers.GlobalAveragePooling2D()(base_model_Incep.output)\n",
        "prediction_layer = tf.keras.layers.Dense(units=2, activation=\"sigmold\")(average_pooling_layer)   # unit 2\n",
        "model_Incep = tf.keras.models.Model(inputs=base_model_Incep.input, outputs=prediction_layer)\n",
        "\n",
        "model_Incep.compile(optimizer=RMSprop(learning_rate=0.0001), loss=\"binary_crossentropy\", metrics=[\"accuracy\"])\n",
        "\n",
        "\n",
        "### K-fold\n",
        "kf_Incep = KFold(5, shuffle=True, random_state=40) \n",
        "\n",
        "oos_y = []\n",
        "oos_pred = []\n",
        "fold = 0\n",
        "\n",
        "for train, test in kf_Incep.split(data_Incep):\n",
        "    fold+=1   \n",
        "    print(f\"Fold #{fold}\")\n",
        "\n",
        "    filename = f\" {filepath}{fold}.h5 \"\n",
        "    checkpoint = ModelCheckpoint(filename, monitor='val_accuracy', verbose=1,   save_best_only=True, mode='max')\n",
        "        \n",
        "    x_train_Incep = data_Incep[train]\n",
        "    y_train_Incep = labels_Incep[train]\n",
        "    x_test_Incep = data_Incep[test]\n",
        "    y_test_Incep = labels_Incep[test]\n",
        "\n",
        "    H_Incep = model_Incep.fit( x=aug.flow(x_train_Incep, y_train_Incep, batch_size=BS),\n",
        "\t                                            validation_data=(x_test_Incep, y_test_Incep),\n",
        "\t                                            steps_per_epoch=len(x_train_Incep) // BS,\n",
        "\t                                            epochs=100,  callbacks = [callback,checkpoint,reduce_lr])\n",
        "\n",
        "    pred_Incep = model_Incep.predict(x_test_Incep)\n",
        "    \n",
        "    oos_y.append(y_test_Incep)\n",
        "    oos_pred.append(pred_Incep)  \n",
        "    print(classification_report(y_test_Incep.argmax(axis=1),\t                #แสดง report ค่า acc, recall, ...\n",
        "                                        pred_Incep.argmax(axis=1),  \n",
        "                                        target_names=le_Incep.classes_))\n",
        "    \n",
        "oos_y = np.concatenate(oos_y)\n",
        "oos_pred = np.concatenate(oos_pred)\n",
        "print(classification_report(oos_y.argmax(axis=1), oos_pred.argmax(axis=1),  target_names=le_Incep.classes_))"
      ],
      "metadata": {
        "id": "uvk5_-HjGxgJ"
      },
      "execution_count": null,
      "outputs": []
    },
    {
      "cell_type": "markdown",
      "source": [
        "#### 8 sig pre bi adam\n",
        "--> "
      ],
      "metadata": {
        "id": "JcrfwE1uGxgK"
      }
    },
    {
      "cell_type": "code",
      "source": [
        "BS = 8\n",
        "filepath = \"Kmodel8_sig_pre_bi_adam\"                  ##\n",
        "\n",
        "train_img_Incep = []\n",
        "for ImageName in tqdm(data_train3['ImageName']):              \n",
        "    image_path = All_3class_dir +'/' + ImageName                  \n",
        "    img = cv2.imread(image_path)                                          \n",
        "    img = cv2.resize(img, (299, 299))                                      \n",
        "    train_img_Incep.append(img)\n",
        "data_Incep = np.array(train_img_Incep, dtype=\"float32\") / 255.0\n",
        "\n",
        "labels_Incep = np.array(data_train3[['NameType']] )        \n",
        "labels_Incep.shape = (len(labels_Incep),) \n",
        "le_Incep = LabelEncoder()                                                                     \n",
        "labels_Incep = le_Incep.fit_transform(labels_Incep)                                         \n",
        "labels_Incep = to_categorical(labels_Incep, num_classes=2)                   \n",
        "\n",
        "aug = ImageDataGenerator( rotation_range=15,\twidth_shift_range=0.1, \theight_shift_range=0.1,\n",
        "\t\tshear_range=0.15, \thorizontal_flip=True, \tfill_mode=\"nearest\")\n",
        "                                                                                                          \n",
        "callback = EarlyStopping( monitor= \"val_accuracy\",    patience=15,       mode=\"max\")\n",
        "\n",
        "# checkpoint = ModelCheckpoint(filepath, monitor='val_accuracy', verbose=1,   save_best_only=True, mode='max')\n",
        "                                                                                                            ##\n",
        "reduce_lr = ReduceLROnPlateau(monitor='val_accuracy', factor=0.5,   patience=6,     verbose=1, mode='max', min_lr=0.00001)"
      ],
      "metadata": {
        "outputId": "3f52f262-ffd4-40ae-8af3-bc174b331ad7",
        "colab": {
          "base_uri": "https://localhost:8080/"
        },
        "id": "TUHbzY2ZGxgQ"
      },
      "execution_count": null,
      "outputs": [
        {
          "output_type": "stream",
          "name": "stderr",
          "text": [
            "100%|██████████| 451/451 [02:08<00:00,  3.50it/s]\n"
          ]
        }
      ]
    },
    {
      "cell_type": "code",
      "source": [
        "base_model_Incep = tf.keras.applications.InceptionV3(input_shape=(299, 299, 3), include_top=False, weights=\"imagenet\")\n",
        "base_model_Incep.trainable = False\n",
        "\n",
        "#Add custom head\n",
        "average_pooling_layer = tf.keras.layers.GlobalAveragePooling2D()(base_model_Incep.output)\n",
        "prediction_layer = tf.keras.layers.Dense(units=2, activation=\"sigmold\")(average_pooling_layer)   # unit 2\n",
        "model_Incep = tf.keras.models.Model(inputs=base_model_Incep.input, outputs=prediction_layer)\n",
        "\n",
        "model_Incep.compile(optimizer=RMSprop(learning_rate=0.0001), loss=\"binary_crossentropy\", metrics=[\"accuracy\"])\n",
        "\n",
        "\n",
        "### K-fold\n",
        "kf_Incep = KFold(5, shuffle=True, random_state=40) \n",
        "\n",
        "oos_y = []\n",
        "oos_pred = []\n",
        "fold = 0\n",
        "\n",
        "for train, test in kf_Incep.split(data_Incep):\n",
        "    fold+=1   \n",
        "    print(f\"Fold #{fold}\")\n",
        "\n",
        "    filename = f\" {filepath}{fold}.h5 \"\n",
        "    checkpoint = ModelCheckpoint(filename, monitor='val_accuracy', verbose=1,   save_best_only=True, mode='max')\n",
        "        \n",
        "    x_train_Incep = data_Incep[train]\n",
        "    y_train_Incep = labels_Incep[train]\n",
        "    x_test_Incep = data_Incep[test]\n",
        "    y_test_Incep = labels_Incep[test]\n",
        "\n",
        "    H_Incep = model_Incep.fit( x=aug.flow(x_train_Incep, y_train_Incep, batch_size=BS),\n",
        "\t                                            validation_data=(x_test_Incep, y_test_Incep),\n",
        "\t                                            steps_per_epoch=len(x_train_Incep) // BS,\n",
        "\t                                            epochs=100,  callbacks = [callback,checkpoint,reduce_lr])\n",
        "\n",
        "    pred_Incep = model_Incep.predict(x_test_Incep)\n",
        "    \n",
        "    oos_y.append(y_test_Incep)\n",
        "    oos_pred.append(pred_Incep)  \n",
        "    print(classification_report(y_test_Incep.argmax(axis=1),\t                #แสดง report ค่า acc, recall, ...\n",
        "                                        pred_Incep.argmax(axis=1),  \n",
        "                                        target_names=le_Incep.classes_))\n",
        "    \n",
        "oos_y = np.concatenate(oos_y)\n",
        "oos_pred = np.concatenate(oos_pred)\n",
        "print(classification_report(oos_y.argmax(axis=1), oos_pred.argmax(axis=1),  target_names=le_Incep.classes_))"
      ],
      "metadata": {
        "id": "QIL3PKhrGxgR"
      },
      "execution_count": null,
      "outputs": []
    },
    {
      "cell_type": "markdown",
      "source": [
        "#### 8 sig pre bi sgd\n",
        "--> "
      ],
      "metadata": {
        "id": "xEPD4pUlGxgT"
      }
    },
    {
      "cell_type": "code",
      "source": [
        "BS = 8\n",
        "filepath = \"Kmodel8_sig_pre_bi_sgd\"                  ##\n",
        "\n",
        "train_img_Incep = []\n",
        "for ImageName in tqdm(data_train3['ImageName']):              \n",
        "    image_path = All_3class_dir +'/' + ImageName                  \n",
        "    img = cv2.imread(image_path)                                          \n",
        "    img = cv2.resize(img, (299, 299))                                      \n",
        "    train_img_Incep.append(img)\n",
        "data_Incep = np.array(train_img_Incep, dtype=\"float32\") / 255.0\n",
        "\n",
        "labels_Incep = np.array(data_train3[['NameType']] )        \n",
        "labels_Incep.shape = (len(labels_Incep),) \n",
        "le_Incep = LabelEncoder()                                                                     \n",
        "labels_Incep = le_Incep.fit_transform(labels_Incep)                                         \n",
        "labels_Incep = to_categorical(labels_Incep, num_classes=2)                   \n",
        "\n",
        "aug = ImageDataGenerator( rotation_range=15,\twidth_shift_range=0.1, \theight_shift_range=0.1,\n",
        "\t\tshear_range=0.15, \thorizontal_flip=True, \tfill_mode=\"nearest\")\n",
        "                                                                                                          \n",
        "callback = EarlyStopping( monitor= \"val_accuracy\",    patience=15,       mode=\"max\")\n",
        "\n",
        "# checkpoint = ModelCheckpoint(filepath, monitor='val_accuracy', verbose=1,   save_best_only=True, mode='max')\n",
        "                                                                                                            ##\n",
        "reduce_lr = ReduceLROnPlateau(monitor='val_accuracy', factor=0.5,   patience=6,     verbose=1, mode='max', min_lr=0.00001)"
      ],
      "metadata": {
        "outputId": "3f52f262-ffd4-40ae-8af3-bc174b331ad7",
        "colab": {
          "base_uri": "https://localhost:8080/"
        },
        "id": "V9TjYFUiGxgV"
      },
      "execution_count": null,
      "outputs": [
        {
          "output_type": "stream",
          "name": "stderr",
          "text": [
            "100%|██████████| 451/451 [02:08<00:00,  3.50it/s]\n"
          ]
        }
      ]
    },
    {
      "cell_type": "code",
      "source": [
        "base_model_Incep = tf.keras.applications.InceptionV3(input_shape=(299, 299, 3), include_top=False, weights=\"imagenet\")\n",
        "base_model_Incep.trainable = False\n",
        "\n",
        "#Add custom head\n",
        "average_pooling_layer = tf.keras.layers.GlobalAveragePooling2D()(base_model_Incep.output)\n",
        "prediction_layer = tf.keras.layers.Dense(units=2, activation=\"sigmold\")(average_pooling_layer)   # unit 2\n",
        "model_Incep = tf.keras.models.Model(inputs=base_model_Incep.input, outputs=prediction_layer)\n",
        "\n",
        "model_Incep.compile(optimizer=RMSprop(learning_rate=0.0001), loss=\"binary_crossentropy\", metrics=[\"accuracy\"])\n",
        "\n",
        "\n",
        "### K-fold\n",
        "kf_Incep = KFold(5, shuffle=True, random_state=40) \n",
        "\n",
        "oos_y = []\n",
        "oos_pred = []\n",
        "fold = 0\n",
        "\n",
        "for train, test in kf_Incep.split(data_Incep):\n",
        "    fold+=1   \n",
        "    print(f\"Fold #{fold}\")\n",
        "\n",
        "    filename = f\" {filepath}{fold}.h5 \"\n",
        "    checkpoint = ModelCheckpoint(filename, monitor='val_accuracy', verbose=1,   save_best_only=True, mode='max')\n",
        "        \n",
        "    x_train_Incep = data_Incep[train]\n",
        "    y_train_Incep = labels_Incep[train]\n",
        "    x_test_Incep = data_Incep[test]\n",
        "    y_test_Incep = labels_Incep[test]\n",
        "\n",
        "    H_Incep = model_Incep.fit( x=aug.flow(x_train_Incep, y_train_Incep, batch_size=BS),\n",
        "\t                                            validation_data=(x_test_Incep, y_test_Incep),\n",
        "\t                                            steps_per_epoch=len(x_train_Incep) // BS,\n",
        "\t                                            epochs=100,  callbacks = [callback,checkpoint,reduce_lr])\n",
        "\n",
        "    pred_Incep = model_Incep.predict(x_test_Incep)\n",
        "    \n",
        "    oos_y.append(y_test_Incep)\n",
        "    oos_pred.append(pred_Incep)  \n",
        "    print(classification_report(y_test_Incep.argmax(axis=1),\t                #แสดง report ค่า acc, recall, ...\n",
        "                                        pred_Incep.argmax(axis=1),  \n",
        "                                        target_names=le_Incep.classes_))\n",
        "    \n",
        "oos_y = np.concatenate(oos_y)\n",
        "oos_pred = np.concatenate(oos_pred)\n",
        "print(classification_report(oos_y.argmax(axis=1), oos_pred.argmax(axis=1),  target_names=le_Incep.classes_))"
      ],
      "metadata": {
        "id": "ipvJkI2KGxga"
      },
      "execution_count": null,
      "outputs": []
    },
    {
      "cell_type": "markdown",
      "source": [
        "### 16"
      ],
      "metadata": {
        "id": "tBcey3bJGxgd"
      }
    },
    {
      "cell_type": "markdown",
      "source": [
        "#### 16  sig pre bi\n",
        "--> "
      ],
      "metadata": {
        "id": "a_5273G0Gxge"
      }
    },
    {
      "cell_type": "code",
      "source": [
        "BS = 16\n",
        "filepath = \"Kmodel16_sig_pre_bi\"                  ##\n",
        "\n",
        "train_img_Incep = []\n",
        "for ImageName in tqdm(data_train3['ImageName']):              \n",
        "    image_path = All_3class_dir +'/' + ImageName                  \n",
        "    img = cv2.imread(image_path)                                          \n",
        "    img = cv2.resize(img, (299, 299))                                      \n",
        "    train_img_Incep.append(img)\n",
        "data_Incep = np.array(train_img_Incep, dtype=\"float32\") / 255.0\n",
        "\n",
        "labels_Incep = np.array(data_train3[['NameType']] )        \n",
        "labels_Incep.shape = (len(labels_Incep),) \n",
        "le_Incep = LabelEncoder()                                                                     \n",
        "labels_Incep = le_Incep.fit_transform(labels_Incep)                                         \n",
        "labels_Incep = to_categorical(labels_Incep, num_classes=2)                   \n",
        "\n",
        "aug = ImageDataGenerator( rotation_range=15,\twidth_shift_range=0.1, \theight_shift_range=0.1,\n",
        "\t\tshear_range=0.15, \thorizontal_flip=True, \tfill_mode=\"nearest\")\n",
        "                                                                                                          \n",
        "callback = EarlyStopping( monitor= \"val_accuracy\",    patience=15,       mode=\"max\")\n",
        "\n",
        "# checkpoint = ModelCheckpoint(filepath, monitor='val_accuracy', verbose=1,   save_best_only=True, mode='max')\n",
        "                                                                                                            ##\n",
        "reduce_lr = ReduceLROnPlateau(monitor='val_accuracy', factor=0.5,   patience=6,     verbose=1, mode='max', min_lr=0.00001)"
      ],
      "metadata": {
        "outputId": "8741a3e8-2d19-43a6-8086-241819a23a7f",
        "colab": {
          "base_uri": "https://localhost:8080/"
        },
        "id": "LDJril0PGxgg"
      },
      "execution_count": null,
      "outputs": [
        {
          "output_type": "stream",
          "name": "stderr",
          "text": [
            "100%|██████████| 451/451 [00:10<00:00, 44.85it/s]\n"
          ]
        }
      ]
    },
    {
      "cell_type": "code",
      "source": [
        "base_model_Incep = tf.keras.applications.InceptionV3(input_shape=(299, 299, 3), include_top=False, weights=\"imagenet\")\n",
        "base_model_Incep.trainable = False\n",
        "\n",
        "#Add custom head\n",
        "average_pooling_layer = tf.keras.layers.GlobalAveragePooling2D()(base_model_Incep.output)\n",
        "prediction_layer = tf.keras.layers.Dense(units=2, activation=\"sigmold\")(average_pooling_layer)   # unit 2\n",
        "model_Incep = tf.keras.models.Model(inputs=base_model_Incep.input, outputs=prediction_layer)\n",
        "\n",
        "model_Incep.compile(optimizer=RMSprop(learning_rate=0.0001), loss=\"binary_crossentropy\", metrics=[\"accuracy\"])\n",
        "\n",
        "\n",
        "### K-fold\n",
        "kf_Incep = KFold(5, shuffle=True, random_state=40) \n",
        "\n",
        "oos_y = []\n",
        "oos_pred = []\n",
        "fold = 0\n",
        "\n",
        "for train, test in kf_Incep.split(data_Incep):\n",
        "    fold+=1   \n",
        "    print(f\"Fold #{fold}\")\n",
        "\n",
        "    filename = f\" {filepath}{fold}.h5 \"\n",
        "    checkpoint = ModelCheckpoint(filename, monitor='val_accuracy', verbose=1,   save_best_only=True, mode='max')\n",
        "        \n",
        "    x_train_Incep = data_Incep[train]\n",
        "    y_train_Incep = labels_Incep[train]\n",
        "    x_test_Incep = data_Incep[test]\n",
        "    y_test_Incep = labels_Incep[test]\n",
        "\n",
        "    H_Incep = model_Incep.fit( x=aug.flow(x_train_Incep, y_train_Incep, batch_size=BS),\n",
        "\t                                            validation_data=(x_test_Incep, y_test_Incep),\n",
        "\t                                            steps_per_epoch=len(x_train_Incep) // BS,\n",
        "\t                                            epochs=100,  callbacks = [callback,checkpoint,reduce_lr])\n",
        "\n",
        "    pred_Incep = model_Incep.predict(x_test_Incep)\n",
        "    \n",
        "    oos_y.append(y_test_Incep)\n",
        "    oos_pred.append(pred_Incep)  \n",
        "    print(classification_report(y_test_Incep.argmax(axis=1),\t                #แสดง report ค่า acc, recall, ...\n",
        "                                        pred_Incep.argmax(axis=1),  \n",
        "                                        target_names=le_Incep.classes_))\n",
        "    \n",
        "oos_y = np.concatenate(oos_y)\n",
        "oos_pred = np.concatenate(oos_pred)\n",
        "print(classification_report(oos_y.argmax(axis=1), oos_pred.argmax(axis=1),  target_names=le_Incep.classes_))"
      ],
      "metadata": {
        "id": "MJYiypf4Gxgh"
      },
      "execution_count": null,
      "outputs": []
    },
    {
      "cell_type": "markdown",
      "source": [
        "#### 16 sig pre bi adam\n",
        "--> "
      ],
      "metadata": {
        "id": "p2yUMLnGGxgj"
      }
    },
    {
      "cell_type": "code",
      "source": [
        "BS = 16\n",
        "filepath = \"Kmodel16_sig_pre_bi_adam\"                  ##\n",
        "\n",
        "train_img_Incep = []\n",
        "for ImageName in tqdm(data_train3['ImageName']):              \n",
        "    image_path = All_3class_dir +'/' + ImageName                  \n",
        "    img = cv2.imread(image_path)                                          \n",
        "    img = cv2.resize(img, (299, 299))                                      \n",
        "    train_img_Incep.append(img)\n",
        "data_Incep = np.array(train_img_Incep, dtype=\"float32\") / 255.0\n",
        "\n",
        "labels_Incep = np.array(data_train3[['NameType']] )        \n",
        "labels_Incep.shape = (len(labels_Incep),) \n",
        "le_Incep = LabelEncoder()                                                                     \n",
        "labels_Incep = le_Incep.fit_transform(labels_Incep)                                         \n",
        "labels_Incep = to_categorical(labels_Incep, num_classes=2)                   \n",
        "\n",
        "aug = ImageDataGenerator( rotation_range=15,\twidth_shift_range=0.1, \theight_shift_range=0.1,\n",
        "\t\tshear_range=0.15, \thorizontal_flip=True, \tfill_mode=\"nearest\")\n",
        "                                                                                                          \n",
        "callback = EarlyStopping( monitor= \"val_accuracy\",    patience=15,       mode=\"max\")\n",
        "\n",
        "# checkpoint = ModelCheckpoint(filepath, monitor='val_accuracy', verbose=1,   save_best_only=True, mode='max')\n",
        "                                                                                                            ##\n",
        "reduce_lr = ReduceLROnPlateau(monitor='val_accuracy', factor=0.5,   patience=6,     verbose=1, mode='max', min_lr=0.00001)"
      ],
      "metadata": {
        "outputId": "3f52f262-ffd4-40ae-8af3-bc174b331ad7",
        "colab": {
          "base_uri": "https://localhost:8080/"
        },
        "id": "wYF_OGGgGxgj"
      },
      "execution_count": null,
      "outputs": [
        {
          "output_type": "stream",
          "name": "stderr",
          "text": [
            "100%|██████████| 451/451 [02:08<00:00,  3.50it/s]\n"
          ]
        }
      ]
    },
    {
      "cell_type": "code",
      "source": [
        "base_model_Incep = tf.keras.applications.InceptionV3(input_shape=(299, 299, 3), include_top=False, weights=\"imagenet\")\n",
        "base_model_Incep.trainable = False\n",
        "\n",
        "#Add custom head\n",
        "average_pooling_layer = tf.keras.layers.GlobalAveragePooling2D()(base_model_Incep.output)\n",
        "prediction_layer = tf.keras.layers.Dense(units=2, activation=\"sigmold\")(average_pooling_layer)   # unit 2\n",
        "model_Incep = tf.keras.models.Model(inputs=base_model_Incep.input, outputs=prediction_layer)\n",
        "\n",
        "model_Incep.compile(optimizer=RMSprop(learning_rate=0.0001), loss=\"binary_crossentropy\", metrics=[\"accuracy\"])\n",
        "\n",
        "\n",
        "### K-fold\n",
        "kf_Incep = KFold(5, shuffle=True, random_state=40) \n",
        "\n",
        "oos_y = []\n",
        "oos_pred = []\n",
        "fold = 0\n",
        "\n",
        "for train, test in kf_Incep.split(data_Incep):\n",
        "    fold+=1   \n",
        "    print(f\"Fold #{fold}\")\n",
        "\n",
        "    filename = f\" {filepath}{fold}.h5 \"\n",
        "    checkpoint = ModelCheckpoint(filename, monitor='val_accuracy', verbose=1,   save_best_only=True, mode='max')\n",
        "        \n",
        "    x_train_Incep = data_Incep[train]\n",
        "    y_train_Incep = labels_Incep[train]\n",
        "    x_test_Incep = data_Incep[test]\n",
        "    y_test_Incep = labels_Incep[test]\n",
        "\n",
        "    H_Incep = model_Incep.fit( x=aug.flow(x_train_Incep, y_train_Incep, batch_size=BS),\n",
        "\t                                            validation_data=(x_test_Incep, y_test_Incep),\n",
        "\t                                            steps_per_epoch=len(x_train_Incep) // BS,\n",
        "\t                                            epochs=100,  callbacks = [callback,checkpoint,reduce_lr])\n",
        "\n",
        "    pred_Incep = model_Incep.predict(x_test_Incep)\n",
        "    \n",
        "    oos_y.append(y_test_Incep)\n",
        "    oos_pred.append(pred_Incep)  \n",
        "    print(classification_report(y_test_Incep.argmax(axis=1),\t                #แสดง report ค่า acc, recall, ...\n",
        "                                        pred_Incep.argmax(axis=1),  \n",
        "                                        target_names=le_Incep.classes_))\n",
        "    \n",
        "oos_y = np.concatenate(oos_y)\n",
        "oos_pred = np.concatenate(oos_pred)\n",
        "print(classification_report(oos_y.argmax(axis=1), oos_pred.argmax(axis=1),  target_names=le_Incep.classes_))"
      ],
      "metadata": {
        "id": "7mhV2GRgGxgm"
      },
      "execution_count": null,
      "outputs": []
    },
    {
      "cell_type": "markdown",
      "source": [
        "#### 16 sig pre bi sgd\n",
        "--> "
      ],
      "metadata": {
        "id": "agXmDK4pGxgo"
      }
    },
    {
      "cell_type": "code",
      "source": [
        "BS = 16\n",
        "filepath = \"Kmodel16_sig_pre_bi_sgd\"                  ##\n",
        "\n",
        "train_img_Incep = []\n",
        "for ImageName in tqdm(data_train3['ImageName']):              \n",
        "    image_path = All_3class_dir +'/' + ImageName                  \n",
        "    img = cv2.imread(image_path)                                          \n",
        "    img = cv2.resize(img, (299, 299))                                      \n",
        "    train_img_Incep.append(img)\n",
        "data_Incep = np.array(train_img_Incep, dtype=\"float32\") / 255.0\n",
        "\n",
        "labels_Incep = np.array(data_train3[['NameType']] )        \n",
        "labels_Incep.shape = (len(labels_Incep),) \n",
        "le_Incep = LabelEncoder()                                                                     \n",
        "labels_Incep = le_Incep.fit_transform(labels_Incep)                                         \n",
        "labels_Incep = to_categorical(labels_Incep, num_classes=2)                   \n",
        "\n",
        "aug = ImageDataGenerator( rotation_range=15,\twidth_shift_range=0.1, \theight_shift_range=0.1,\n",
        "\t\tshear_range=0.15, \thorizontal_flip=True, \tfill_mode=\"nearest\")\n",
        "                                                                                                          \n",
        "callback = EarlyStopping( monitor= \"val_accuracy\",    patience=15,       mode=\"max\")\n",
        "\n",
        "# checkpoint = ModelCheckpoint(filepath, monitor='val_accuracy', verbose=1,   save_best_only=True, mode='max')\n",
        "                                                                                                            ##\n",
        "reduce_lr = ReduceLROnPlateau(monitor='val_accuracy', factor=0.5,   patience=6,     verbose=1, mode='max', min_lr=0.00001)"
      ],
      "metadata": {
        "outputId": "3f52f262-ffd4-40ae-8af3-bc174b331ad7",
        "colab": {
          "base_uri": "https://localhost:8080/"
        },
        "id": "ktmzM7zVGxgq"
      },
      "execution_count": null,
      "outputs": [
        {
          "output_type": "stream",
          "name": "stderr",
          "text": [
            "100%|██████████| 451/451 [02:08<00:00,  3.50it/s]\n"
          ]
        }
      ]
    },
    {
      "cell_type": "code",
      "source": [
        "base_model_Incep = tf.keras.applications.InceptionV3(input_shape=(299, 299, 3), include_top=False, weights=\"imagenet\")\n",
        "base_model_Incep.trainable = False\n",
        "\n",
        "#Add custom head\n",
        "average_pooling_layer = tf.keras.layers.GlobalAveragePooling2D()(base_model_Incep.output)\n",
        "prediction_layer = tf.keras.layers.Dense(units=2, activation=\"sigmold\")(average_pooling_layer)   # unit 2\n",
        "model_Incep = tf.keras.models.Model(inputs=base_model_Incep.input, outputs=prediction_layer)\n",
        "\n",
        "model_Incep.compile(optimizer=RMSprop(learning_rate=0.0001), loss=\"binary_crossentropy\", metrics=[\"accuracy\"])\n",
        "\n",
        "\n",
        "### K-fold\n",
        "kf_Incep = KFold(5, shuffle=True, random_state=40) \n",
        "\n",
        "oos_y = []\n",
        "oos_pred = []\n",
        "fold = 0\n",
        "\n",
        "for train, test in kf_Incep.split(data_Incep):\n",
        "    fold+=1   \n",
        "    print(f\"Fold #{fold}\")\n",
        "\n",
        "    filename = f\" {filepath}{fold}.h5 \"\n",
        "    checkpoint = ModelCheckpoint(filename, monitor='val_accuracy', verbose=1,   save_best_only=True, mode='max')\n",
        "        \n",
        "    x_train_Incep = data_Incep[train]\n",
        "    y_train_Incep = labels_Incep[train]\n",
        "    x_test_Incep = data_Incep[test]\n",
        "    y_test_Incep = labels_Incep[test]\n",
        "\n",
        "    H_Incep = model_Incep.fit( x=aug.flow(x_train_Incep, y_train_Incep, batch_size=BS),\n",
        "\t                                            validation_data=(x_test_Incep, y_test_Incep),\n",
        "\t                                            steps_per_epoch=len(x_train_Incep) // BS,\n",
        "\t                                            epochs=100,  callbacks = [callback,checkpoint,reduce_lr])\n",
        "\n",
        "    pred_Incep = model_Incep.predict(x_test_Incep)\n",
        "    \n",
        "    oos_y.append(y_test_Incep)\n",
        "    oos_pred.append(pred_Incep)  \n",
        "    print(classification_report(y_test_Incep.argmax(axis=1),\t                #แสดง report ค่า acc, recall, ...\n",
        "                                        pred_Incep.argmax(axis=1),  \n",
        "                                        target_names=le_Incep.classes_))\n",
        "    \n",
        "oos_y = np.concatenate(oos_y)\n",
        "oos_pred = np.concatenate(oos_pred)\n",
        "print(classification_report(oos_y.argmax(axis=1), oos_pred.argmax(axis=1),  target_names=le_Incep.classes_))"
      ],
      "metadata": {
        "id": "Ji8d8FHIGxgr"
      },
      "execution_count": null,
      "outputs": []
    },
    {
      "cell_type": "markdown",
      "source": [
        "### 32"
      ],
      "metadata": {
        "id": "E2zlnuThGxgs"
      }
    },
    {
      "cell_type": "markdown",
      "source": [
        "#### 32  sig pre bi\n",
        "--> "
      ],
      "metadata": {
        "id": "WbSq4qrQGxgt"
      }
    },
    {
      "cell_type": "code",
      "source": [
        "BS = 32\n",
        "filepath = \"Kmodel32_sig_pre_bi\"                  ##\n",
        "\n",
        "train_img_Incep = []\n",
        "for ImageName in tqdm(data_train3['ImageName']):              \n",
        "    image_path = All_3class_dir +'/' + ImageName                  \n",
        "    img = cv2.imread(image_path)                                          \n",
        "    img = cv2.resize(img, (299, 299))                                      \n",
        "    train_img_Incep.append(img)\n",
        "data_Incep = np.array(train_img_Incep, dtype=\"float32\") / 255.0\n",
        "\n",
        "labels_Incep = np.array(data_train3[['NameType']] )        \n",
        "labels_Incep.shape = (len(labels_Incep),) \n",
        "le_Incep = LabelEncoder()                                                                     \n",
        "labels_Incep = le_Incep.fit_transform(labels_Incep)                                         \n",
        "labels_Incep = to_categorical(labels_Incep, num_classes=2)                   \n",
        "\n",
        "aug = ImageDataGenerator( rotation_range=15,\twidth_shift_range=0.1, \theight_shift_range=0.1,\n",
        "\t\tshear_range=0.15, \thorizontal_flip=True, \tfill_mode=\"nearest\")\n",
        "                                                                                                          \n",
        "callback = EarlyStopping( monitor= \"val_accuracy\",    patience=15,       mode=\"max\")\n",
        "\n",
        "# checkpoint = ModelCheckpoint(filepath, monitor='val_accuracy', verbose=1,   save_best_only=True, mode='max')\n",
        "                                                                                                            ##\n",
        "reduce_lr = ReduceLROnPlateau(monitor='val_accuracy', factor=0.5,   patience=6,     verbose=1, mode='max', min_lr=0.00001)"
      ],
      "metadata": {
        "outputId": "8741a3e8-2d19-43a6-8086-241819a23a7f",
        "colab": {
          "base_uri": "https://localhost:8080/"
        },
        "id": "PC5aoTNNGxgt"
      },
      "execution_count": null,
      "outputs": [
        {
          "output_type": "stream",
          "name": "stderr",
          "text": [
            "100%|██████████| 451/451 [00:10<00:00, 44.85it/s]\n"
          ]
        }
      ]
    },
    {
      "cell_type": "code",
      "source": [
        "base_model_Incep = tf.keras.applications.InceptionV3(input_shape=(299, 299, 3), include_top=False, weights=\"imagenet\")\n",
        "base_model_Incep.trainable = False\n",
        "\n",
        "#Add custom head\n",
        "average_pooling_layer = tf.keras.layers.GlobalAveragePooling2D()(base_model_Incep.output)\n",
        "prediction_layer = tf.keras.layers.Dense(units=2, activation=\"sigmold\")(average_pooling_layer)   # unit 2\n",
        "model_Incep = tf.keras.models.Model(inputs=base_model_Incep.input, outputs=prediction_layer)\n",
        "\n",
        "model_Incep.compile(optimizer=RMSprop(learning_rate=0.0001), loss=\"binary_crossentropy\", metrics=[\"accuracy\"])\n",
        "\n",
        "\n",
        "### K-fold\n",
        "kf_Incep = KFold(5, shuffle=True, random_state=40) \n",
        "\n",
        "oos_y = []\n",
        "oos_pred = []\n",
        "fold = 0\n",
        "\n",
        "for train, test in kf_Incep.split(data_Incep):\n",
        "    fold+=1   \n",
        "    print(f\"Fold #{fold}\")\n",
        "\n",
        "    filename = f\" {filepath}{fold}.h5 \"\n",
        "    checkpoint = ModelCheckpoint(filename, monitor='val_accuracy', verbose=1,   save_best_only=True, mode='max')\n",
        "        \n",
        "    x_train_Incep = data_Incep[train]\n",
        "    y_train_Incep = labels_Incep[train]\n",
        "    x_test_Incep = data_Incep[test]\n",
        "    y_test_Incep = labels_Incep[test]\n",
        "\n",
        "    H_Incep = model_Incep.fit( x=aug.flow(x_train_Incep, y_train_Incep, batch_size=BS),\n",
        "\t                                            validation_data=(x_test_Incep, y_test_Incep),\n",
        "\t                                            steps_per_epoch=len(x_train_Incep) // BS,\n",
        "\t                                            epochs=100,  callbacks = [callback,checkpoint,reduce_lr])\n",
        "\n",
        "    pred_Incep = model_Incep.predict(x_test_Incep)\n",
        "    \n",
        "    oos_y.append(y_test_Incep)\n",
        "    oos_pred.append(pred_Incep)  \n",
        "    print(classification_report(y_test_Incep.argmax(axis=1),\t                #แสดง report ค่า acc, recall, ...\n",
        "                                        pred_Incep.argmax(axis=1),  \n",
        "                                        target_names=le_Incep.classes_))\n",
        "    \n",
        "oos_y = np.concatenate(oos_y)\n",
        "oos_pred = np.concatenate(oos_pred)\n",
        "print(classification_report(oos_y.argmax(axis=1), oos_pred.argmax(axis=1),  target_names=le_Incep.classes_))"
      ],
      "metadata": {
        "id": "zLTH_2aFGxgv"
      },
      "execution_count": null,
      "outputs": []
    },
    {
      "cell_type": "markdown",
      "source": [
        "#### 32 sig pre bi adam\n",
        "--> "
      ],
      "metadata": {
        "id": "8A_dTMYVGxgx"
      }
    },
    {
      "cell_type": "code",
      "source": [
        "BS = 32\n",
        "filepath = \"Kmodel32_sig_pre_bi_adam\"                  ##\n",
        "\n",
        "train_img_Incep = []\n",
        "for ImageName in tqdm(data_train3['ImageName']):              \n",
        "    image_path = All_3class_dir +'/' + ImageName                  \n",
        "    img = cv2.imread(image_path)                                          \n",
        "    img = cv2.resize(img, (299, 299))                                      \n",
        "    train_img_Incep.append(img)\n",
        "data_Incep = np.array(train_img_Incep, dtype=\"float32\") / 255.0\n",
        "\n",
        "labels_Incep = np.array(data_train3[['NameType']] )        \n",
        "labels_Incep.shape = (len(labels_Incep),) \n",
        "le_Incep = LabelEncoder()                                                                     \n",
        "labels_Incep = le_Incep.fit_transform(labels_Incep)                                         \n",
        "labels_Incep = to_categorical(labels_Incep, num_classes=2)                   \n",
        "\n",
        "aug = ImageDataGenerator( rotation_range=15,\twidth_shift_range=0.1, \theight_shift_range=0.1,\n",
        "\t\tshear_range=0.15, \thorizontal_flip=True, \tfill_mode=\"nearest\")\n",
        "                                                                                                          \n",
        "callback = EarlyStopping( monitor= \"val_accuracy\",    patience=15,       mode=\"max\")\n",
        "\n",
        "# checkpoint = ModelCheckpoint(filepath, monitor='val_accuracy', verbose=1,   save_best_only=True, mode='max')\n",
        "                                                                                                            ##\n",
        "reduce_lr = ReduceLROnPlateau(monitor='val_accuracy', factor=0.5,   patience=6,     verbose=1, mode='max', min_lr=0.00001)"
      ],
      "metadata": {
        "outputId": "3f52f262-ffd4-40ae-8af3-bc174b331ad7",
        "colab": {
          "base_uri": "https://localhost:8080/"
        },
        "id": "LjsUYJJBGxgy"
      },
      "execution_count": null,
      "outputs": [
        {
          "output_type": "stream",
          "name": "stderr",
          "text": [
            "100%|██████████| 451/451 [02:08<00:00,  3.50it/s]\n"
          ]
        }
      ]
    },
    {
      "cell_type": "code",
      "source": [
        "base_model_Incep = tf.keras.applications.InceptionV3(input_shape=(299, 299, 3), include_top=False, weights=\"imagenet\")\n",
        "base_model_Incep.trainable = False\n",
        "\n",
        "#Add custom head\n",
        "average_pooling_layer = tf.keras.layers.GlobalAveragePooling2D()(base_model_Incep.output)\n",
        "prediction_layer = tf.keras.layers.Dense(units=2, activation=\"sigmold\")(average_pooling_layer)   # unit 2\n",
        "model_Incep = tf.keras.models.Model(inputs=base_model_Incep.input, outputs=prediction_layer)\n",
        "\n",
        "model_Incep.compile(optimizer=RMSprop(learning_rate=0.0001), loss=\"binary_crossentropy\", metrics=[\"accuracy\"])\n",
        "\n",
        "\n",
        "### K-fold\n",
        "kf_Incep = KFold(5, shuffle=True, random_state=40) \n",
        "\n",
        "oos_y = []\n",
        "oos_pred = []\n",
        "fold = 0\n",
        "\n",
        "for train, test in kf_Incep.split(data_Incep):\n",
        "    fold+=1   \n",
        "    print(f\"Fold #{fold}\")\n",
        "\n",
        "    filename = f\" {filepath}{fold}.h5 \"\n",
        "    checkpoint = ModelCheckpoint(filename, monitor='val_accuracy', verbose=1,   save_best_only=True, mode='max')\n",
        "        \n",
        "    x_train_Incep = data_Incep[train]\n",
        "    y_train_Incep = labels_Incep[train]\n",
        "    x_test_Incep = data_Incep[test]\n",
        "    y_test_Incep = labels_Incep[test]\n",
        "\n",
        "    H_Incep = model_Incep.fit( x=aug.flow(x_train_Incep, y_train_Incep, batch_size=BS),\n",
        "\t                                            validation_data=(x_test_Incep, y_test_Incep),\n",
        "\t                                            steps_per_epoch=len(x_train_Incep) // BS,\n",
        "\t                                            epochs=100,  callbacks = [callback,checkpoint,reduce_lr])\n",
        "\n",
        "    pred_Incep = model_Incep.predict(x_test_Incep)\n",
        "    \n",
        "    oos_y.append(y_test_Incep)\n",
        "    oos_pred.append(pred_Incep)  \n",
        "    print(classification_report(y_test_Incep.argmax(axis=1),\t                #แสดง report ค่า acc, recall, ...\n",
        "                                        pred_Incep.argmax(axis=1),  \n",
        "                                        target_names=le_Incep.classes_))\n",
        "    \n",
        "oos_y = np.concatenate(oos_y)\n",
        "oos_pred = np.concatenate(oos_pred)\n",
        "print(classification_report(oos_y.argmax(axis=1), oos_pred.argmax(axis=1),  target_names=le_Incep.classes_))"
      ],
      "metadata": {
        "id": "nwI73muGGxgz"
      },
      "execution_count": null,
      "outputs": []
    },
    {
      "cell_type": "markdown",
      "source": [
        "#### 32 sig pre bi sgd\n",
        "--> "
      ],
      "metadata": {
        "id": "1V8NuQimGxg0"
      }
    },
    {
      "cell_type": "code",
      "source": [
        "BS = 32\n",
        "filepath = \"Kmodel32_sig_pre_bi_sgd\"                  ##\n",
        "\n",
        "train_img_Incep = []\n",
        "for ImageName in tqdm(data_train3['ImageName']):              \n",
        "    image_path = All_3class_dir +'/' + ImageName                  \n",
        "    img = cv2.imread(image_path)                                          \n",
        "    img = cv2.resize(img, (299, 299))                                      \n",
        "    train_img_Incep.append(img)\n",
        "data_Incep = np.array(train_img_Incep, dtype=\"float32\") / 255.0\n",
        "\n",
        "labels_Incep = np.array(data_train3[['NameType']] )        \n",
        "labels_Incep.shape = (len(labels_Incep),) \n",
        "le_Incep = LabelEncoder()                                                                     \n",
        "labels_Incep = le_Incep.fit_transform(labels_Incep)                                         \n",
        "labels_Incep = to_categorical(labels_Incep, num_classes=2)                   \n",
        "\n",
        "aug = ImageDataGenerator( rotation_range=15,\twidth_shift_range=0.1, \theight_shift_range=0.1,\n",
        "\t\tshear_range=0.15, \thorizontal_flip=True, \tfill_mode=\"nearest\")\n",
        "                                                                                                          \n",
        "callback = EarlyStopping( monitor= \"val_accuracy\",    patience=15,       mode=\"max\")\n",
        "\n",
        "# checkpoint = ModelCheckpoint(filepath, monitor='val_accuracy', verbose=1,   save_best_only=True, mode='max')\n",
        "                                                                                                            ##\n",
        "reduce_lr = ReduceLROnPlateau(monitor='val_accuracy', factor=0.5,   patience=6,     verbose=1, mode='max', min_lr=0.00001)"
      ],
      "metadata": {
        "outputId": "3f52f262-ffd4-40ae-8af3-bc174b331ad7",
        "colab": {
          "base_uri": "https://localhost:8080/"
        },
        "id": "ZNkuPvTiGxg0"
      },
      "execution_count": null,
      "outputs": [
        {
          "output_type": "stream",
          "name": "stderr",
          "text": [
            "100%|██████████| 451/451 [02:08<00:00,  3.50it/s]\n"
          ]
        }
      ]
    },
    {
      "cell_type": "code",
      "source": [
        "base_model_Incep = tf.keras.applications.InceptionV3(input_shape=(299, 299, 3), include_top=False, weights=\"imagenet\")\n",
        "base_model_Incep.trainable = False\n",
        "\n",
        "#Add custom head\n",
        "average_pooling_layer = tf.keras.layers.GlobalAveragePooling2D()(base_model_Incep.output)\n",
        "prediction_layer = tf.keras.layers.Dense(units=2, activation=\"sigmold\")(average_pooling_layer)   # unit 2\n",
        "model_Incep = tf.keras.models.Model(inputs=base_model_Incep.input, outputs=prediction_layer)\n",
        "\n",
        "model_Incep.compile(optimizer=RMSprop(learning_rate=0.0001), loss=\"binary_crossentropy\", metrics=[\"accuracy\"])\n",
        "\n",
        "\n",
        "### K-fold\n",
        "kf_Incep = KFold(5, shuffle=True, random_state=40) \n",
        "\n",
        "oos_y = []\n",
        "oos_pred = []\n",
        "fold = 0\n",
        "\n",
        "for train, test in kf_Incep.split(data_Incep):\n",
        "    fold+=1   \n",
        "    print(f\"Fold #{fold}\")\n",
        "\n",
        "    filename = f\" {filepath}{fold}.h5 \"\n",
        "    checkpoint = ModelCheckpoint(filename, monitor='val_accuracy', verbose=1,   save_best_only=True, mode='max')\n",
        "        \n",
        "    x_train_Incep = data_Incep[train]\n",
        "    y_train_Incep = labels_Incep[train]\n",
        "    x_test_Incep = data_Incep[test]\n",
        "    y_test_Incep = labels_Incep[test]\n",
        "\n",
        "    H_Incep = model_Incep.fit( x=aug.flow(x_train_Incep, y_train_Incep, batch_size=BS),\n",
        "\t                                            validation_data=(x_test_Incep, y_test_Incep),\n",
        "\t                                            steps_per_epoch=len(x_train_Incep) // BS,\n",
        "\t                                            epochs=100,  callbacks = [callback,checkpoint,reduce_lr])\n",
        "\n",
        "    pred_Incep = model_Incep.predict(x_test_Incep)\n",
        "    \n",
        "    oos_y.append(y_test_Incep)\n",
        "    oos_pred.append(pred_Incep)  \n",
        "    print(classification_report(y_test_Incep.argmax(axis=1),\t                #แสดง report ค่า acc, recall, ...\n",
        "                                        pred_Incep.argmax(axis=1),  \n",
        "                                        target_names=le_Incep.classes_))\n",
        "    \n",
        "oos_y = np.concatenate(oos_y)\n",
        "oos_pred = np.concatenate(oos_pred)\n",
        "print(classification_report(oos_y.argmax(axis=1), oos_pred.argmax(axis=1),  target_names=le_Incep.classes_))"
      ],
      "metadata": {
        "id": "T8TRqO2aGxg1"
      },
      "execution_count": null,
      "outputs": []
    },
    {
      "cell_type": "markdown",
      "source": [
        "# 0-100 Sampling Ab\n",
        "- sigmold\n",
        "- binary_crossentropy"
      ],
      "metadata": {
        "id": "xf7vCA8_LJnH"
      }
    },
    {
      "cell_type": "markdown",
      "source": [
        "### 1"
      ],
      "metadata": {
        "id": "OuZcfBBuLJnQ"
      }
    },
    {
      "cell_type": "markdown",
      "source": [
        "#### 1 sig pre bi\n",
        "--> "
      ],
      "metadata": {
        "id": "6r8Ku59MLJnQ"
      }
    },
    {
      "cell_type": "code",
      "source": [
        "BS = 1\n",
        "filepath = \"Kmodel1_sig_pre_bi\"                  ##\n",
        "\n",
        "train_img_Incep = []\n",
        "for ImageName in tqdm(data_train3['ImageName']):              \n",
        "    image_path = All_3class_dir +'/' + ImageName                  \n",
        "    img = cv2.imread(image_path)                                          \n",
        "    img = cv2.resize(img, (299, 299))                                      \n",
        "    train_img_Incep.append(img)\n",
        "data_Incep = np.array(train_img_Incep, dtype=\"float32\") / 255.0\n",
        "\n",
        "labels_Incep = np.array(data_train3[['NameType']] )        \n",
        "labels_Incep.shape = (len(labels_Incep),) \n",
        "le_Incep = LabelEncoder()                                                                     \n",
        "labels_Incep = le_Incep.fit_transform(labels_Incep)                                         \n",
        "labels_Incep = to_categorical(labels_Incep, num_classes=2)                   \n",
        "\n",
        "aug = ImageDataGenerator( rotation_range=15,\twidth_shift_range=0.1, \theight_shift_range=0.1,\n",
        "\t\tshear_range=0.15, \thorizontal_flip=True, \tfill_mode=\"nearest\")\n",
        "                                                                                                          \n",
        "callback = EarlyStopping( monitor= \"val_accuracy\",    patience=15,       mode=\"max\")\n",
        "\n",
        "# checkpoint = ModelCheckpoint(filepath, monitor='val_accuracy', verbose=1,   save_best_only=True, mode='max')\n",
        "                                                                                                            ##\n",
        "reduce_lr = ReduceLROnPlateau(monitor='val_accuracy', factor=0.5,   patience=6,     verbose=1, mode='max', min_lr=0.00001)"
      ],
      "metadata": {
        "outputId": "8741a3e8-2d19-43a6-8086-241819a23a7f",
        "colab": {
          "base_uri": "https://localhost:8080/"
        },
        "id": "0GTl6fvILJnR"
      },
      "execution_count": null,
      "outputs": [
        {
          "output_type": "stream",
          "name": "stderr",
          "text": [
            "100%|██████████| 451/451 [00:10<00:00, 44.85it/s]\n"
          ]
        }
      ]
    },
    {
      "cell_type": "code",
      "source": [
        "base_model_Incep = tf.keras.applications.InceptionV3(input_shape=(299, 299, 3), include_top=False, weights=\"imagenet\")\n",
        "base_model_Incep.trainable = True\n",
        "for layer in base_model_Incep.layers[:100]:    #fix w & bias in layer 0-100\n",
        "    layer.trainable = False\n",
        "\n",
        "#Add custom head\n",
        "average_pooling_layer = tf.keras.layers.GlobalAveragePooling2D()(base_model_Incep.output)\n",
        "prediction_layer = tf.keras.layers.Dense(units=2, activation=\"sigmold\")(average_pooling_layer)   # unit 2\n",
        "model_Incep = tf.keras.models.Model(inputs=base_model_Incep.input, outputs=prediction_layer)\n",
        "\n",
        "model_Incep.compile(optimizer=RMSprop(learning_rate=0.0001), loss=\"binary_crossentropy\", metrics=[\"accuracy\"])\n",
        "\n",
        "\n",
        "### K-fold\n",
        "kf_Incep = KFold(5, shuffle=True, random_state=40) \n",
        "\n",
        "oos_y = []\n",
        "oos_pred = []\n",
        "fold = 0\n",
        "\n",
        "for train, test in kf_Incep.split(data_Incep):\n",
        "    fold+=1   \n",
        "    print(f\"Fold #{fold}\")\n",
        "\n",
        "    filename = f\" {filepath}{fold}.h5 \"\n",
        "    checkpoint = ModelCheckpoint(filename, monitor='val_accuracy', verbose=1,   save_best_only=True, mode='max')\n",
        "        \n",
        "    x_train_Incep = data_Incep[train]\n",
        "    y_train_Incep = labels_Incep[train]\n",
        "    x_test_Incep = data_Incep[test]\n",
        "    y_test_Incep = labels_Incep[test]\n",
        "\n",
        "    H_Incep = model_Incep.fit( x=aug.flow(x_train_Incep, y_train_Incep, batch_size=BS),\n",
        "\t                                            validation_data=(x_test_Incep, y_test_Incep),\n",
        "\t                                            steps_per_epoch=len(x_train_Incep) // BS,\n",
        "\t                                            epochs=100,  callbacks = [callback,checkpoint,reduce_lr])\n",
        "\n",
        "    pred_Incep = model_Incep.predict(x_test_Incep)\n",
        "    \n",
        "    oos_y.append(y_test_Incep)\n",
        "    oos_pred.append(pred_Incep)  \n",
        "    print(classification_report(y_test_Incep.argmax(axis=1),\t                #แสดง report ค่า acc, recall, ...\n",
        "                                        pred_Incep.argmax(axis=1),  \n",
        "                                        target_names=le_Incep.classes_))\n",
        "    \n",
        "oos_y = np.concatenate(oos_y)\n",
        "oos_pred = np.concatenate(oos_pred)\n",
        "print(classification_report(oos_y.argmax(axis=1), oos_pred.argmax(axis=1),  target_names=le_Incep.classes_))"
      ],
      "metadata": {
        "id": "mDfr-mO_LJnR"
      },
      "execution_count": null,
      "outputs": []
    },
    {
      "cell_type": "markdown",
      "source": [
        "#### 1 sig pre bi adam\n",
        "--> "
      ],
      "metadata": {
        "id": "xCqlN7O2LJnS"
      }
    },
    {
      "cell_type": "code",
      "source": [
        "BS = 1\n",
        "filepath = \"Kmodel1_sig_pre_bi_adam\"                  ##\n",
        "\n",
        "train_img_Incep = []\n",
        "for ImageName in tqdm(data_train3['ImageName']):              \n",
        "    image_path = All_3class_dir +'/' + ImageName                  \n",
        "    img = cv2.imread(image_path)                                          \n",
        "    img = cv2.resize(img, (299, 299))                                      \n",
        "    train_img_Incep.append(img)\n",
        "data_Incep = np.array(train_img_Incep, dtype=\"float32\") / 255.0\n",
        "\n",
        "labels_Incep = np.array(data_train3[['NameType']] )        \n",
        "labels_Incep.shape = (len(labels_Incep),) \n",
        "le_Incep = LabelEncoder()                                                                     \n",
        "labels_Incep = le_Incep.fit_transform(labels_Incep)                                         \n",
        "labels_Incep = to_categorical(labels_Incep, num_classes=2)                   \n",
        "\n",
        "aug = ImageDataGenerator( rotation_range=15,\twidth_shift_range=0.1, \theight_shift_range=0.1,\n",
        "\t\tshear_range=0.15, \thorizontal_flip=True, \tfill_mode=\"nearest\")\n",
        "                                                                                                          \n",
        "callback = EarlyStopping( monitor= \"val_accuracy\",    patience=15,       mode=\"max\")\n",
        "\n",
        "# checkpoint = ModelCheckpoint(filepath, monitor='val_accuracy', verbose=1,   save_best_only=True, mode='max')\n",
        "                                                                                                            ##\n",
        "reduce_lr = ReduceLROnPlateau(monitor='val_accuracy', factor=0.5,   patience=6,     verbose=1, mode='max', min_lr=0.00001)"
      ],
      "metadata": {
        "outputId": "3f52f262-ffd4-40ae-8af3-bc174b331ad7",
        "colab": {
          "base_uri": "https://localhost:8080/"
        },
        "id": "BqOvcXWXLJnS"
      },
      "execution_count": null,
      "outputs": [
        {
          "output_type": "stream",
          "name": "stderr",
          "text": [
            "100%|██████████| 451/451 [02:08<00:00,  3.50it/s]\n"
          ]
        }
      ]
    },
    {
      "cell_type": "code",
      "source": [
        "base_model_Incep = tf.keras.applications.InceptionV3(input_shape=(299, 299, 3), include_top=False, weights=\"imagenet\")\n",
        "base_model_Incep.trainable = True\n",
        "for layer in base_model_Incep.layers[:100]:    #fix w & bias in layer 0-100\n",
        "    layer.trainable = False\n",
        "\n",
        "#Add custom head\n",
        "average_pooling_layer = tf.keras.layers.GlobalAveragePooling2D()(base_model_Incep.output)\n",
        "prediction_layer = tf.keras.layers.Dense(units=2, activation=\"sigmold\")(average_pooling_layer)   # unit 2\n",
        "model_Incep = tf.keras.models.Model(inputs=base_model_Incep.input, outputs=prediction_layer)\n",
        "\n",
        "model_Incep.compile(optimizer=RMSprop(learning_rate=0.0001), loss=\"binary_crossentropy\", metrics=[\"accuracy\"])\n",
        "\n",
        "\n",
        "### K-fold\n",
        "kf_Incep = KFold(5, shuffle=True, random_state=40) \n",
        "\n",
        "oos_y = []\n",
        "oos_pred = []\n",
        "fold = 0\n",
        "\n",
        "for train, test in kf_Incep.split(data_Incep):\n",
        "    fold+=1   \n",
        "    print(f\"Fold #{fold}\")\n",
        "\n",
        "    filename = f\" {filepath}{fold}.h5 \"\n",
        "    checkpoint = ModelCheckpoint(filename, monitor='val_accuracy', verbose=1,   save_best_only=True, mode='max')\n",
        "        \n",
        "    x_train_Incep = data_Incep[train]\n",
        "    y_train_Incep = labels_Incep[train]\n",
        "    x_test_Incep = data_Incep[test]\n",
        "    y_test_Incep = labels_Incep[test]\n",
        "\n",
        "    H_Incep = model_Incep.fit( x=aug.flow(x_train_Incep, y_train_Incep, batch_size=BS),\n",
        "\t                                            validation_data=(x_test_Incep, y_test_Incep),\n",
        "\t                                            steps_per_epoch=len(x_train_Incep) // BS,\n",
        "\t                                            epochs=100,  callbacks = [callback,checkpoint,reduce_lr])\n",
        "\n",
        "    pred_Incep = model_Incep.predict(x_test_Incep)\n",
        "    \n",
        "    oos_y.append(y_test_Incep)\n",
        "    oos_pred.append(pred_Incep)  \n",
        "    print(classification_report(y_test_Incep.argmax(axis=1),\t                #แสดง report ค่า acc, recall, ...\n",
        "                                        pred_Incep.argmax(axis=1),  \n",
        "                                        target_names=le_Incep.classes_))\n",
        "    \n",
        "oos_y = np.concatenate(oos_y)\n",
        "oos_pred = np.concatenate(oos_pred)\n",
        "print(classification_report(oos_y.argmax(axis=1), oos_pred.argmax(axis=1),  target_names=le_Incep.classes_))"
      ],
      "metadata": {
        "id": "SblebYqaLJnT"
      },
      "execution_count": null,
      "outputs": []
    },
    {
      "cell_type": "markdown",
      "source": [
        "#### 1 sig pre bi sgd\n",
        "--> "
      ],
      "metadata": {
        "id": "fwIlIC3HLJnT"
      }
    },
    {
      "cell_type": "code",
      "source": [
        "BS = 1\n",
        "filepath = \"Kmodel1_sig_pre_bi_sgd\"                  ##\n",
        "\n",
        "train_img_Incep = []\n",
        "for ImageName in tqdm(data_train3['ImageName']):              \n",
        "    image_path = All_3class_dir +'/' + ImageName                  \n",
        "    img = cv2.imread(image_path)                                          \n",
        "    img = cv2.resize(img, (299, 299))                                      \n",
        "    train_img_Incep.append(img)\n",
        "data_Incep = np.array(train_img_Incep, dtype=\"float32\") / 255.0\n",
        "\n",
        "labels_Incep = np.array(data_train3[['NameType']] )        \n",
        "labels_Incep.shape = (len(labels_Incep),) \n",
        "le_Incep = LabelEncoder()                                                                     \n",
        "labels_Incep = le_Incep.fit_transform(labels_Incep)                                         \n",
        "labels_Incep = to_categorical(labels_Incep, num_classes=2)                   \n",
        "\n",
        "aug = ImageDataGenerator( rotation_range=15,\twidth_shift_range=0.1, \theight_shift_range=0.1,\n",
        "\t\tshear_range=0.15, \thorizontal_flip=True, \tfill_mode=\"nearest\")\n",
        "                                                                                                          \n",
        "callback = EarlyStopping( monitor= \"val_accuracy\",    patience=15,       mode=\"max\")\n",
        "\n",
        "# checkpoint = ModelCheckpoint(filepath, monitor='val_accuracy', verbose=1,   save_best_only=True, mode='max')\n",
        "                                                                                                            ##\n",
        "reduce_lr = ReduceLROnPlateau(monitor='val_accuracy', factor=0.5,   patience=6,     verbose=1, mode='max', min_lr=0.00001)"
      ],
      "metadata": {
        "outputId": "3f52f262-ffd4-40ae-8af3-bc174b331ad7",
        "colab": {
          "base_uri": "https://localhost:8080/"
        },
        "id": "qVKfO6UcLJnU"
      },
      "execution_count": null,
      "outputs": [
        {
          "output_type": "stream",
          "name": "stderr",
          "text": [
            "100%|██████████| 451/451 [02:08<00:00,  3.50it/s]\n"
          ]
        }
      ]
    },
    {
      "cell_type": "code",
      "source": [
        "base_model_Incep = tf.keras.applications.InceptionV3(input_shape=(299, 299, 3), include_top=False, weights=\"imagenet\")\n",
        "base_model_Incep.trainable = True\n",
        "for layer in base_model_Incep.layers[:100]:    #fix w & bias in layer 0-100\n",
        "    layer.trainable = False\n",
        "\n",
        "#Add custom head\n",
        "average_pooling_layer = tf.keras.layers.GlobalAveragePooling2D()(base_model_Incep.output)\n",
        "prediction_layer = tf.keras.layers.Dense(units=2, activation=\"sigmold\")(average_pooling_layer)   # unit 2\n",
        "model_Incep = tf.keras.models.Model(inputs=base_model_Incep.input, outputs=prediction_layer)\n",
        "\n",
        "model_Incep.compile(optimizer=RMSprop(learning_rate=0.0001), loss=\"binary_crossentropy\", metrics=[\"accuracy\"])\n",
        "\n",
        "\n",
        "### K-fold\n",
        "kf_Incep = KFold(5, shuffle=True, random_state=40) \n",
        "\n",
        "oos_y = []\n",
        "oos_pred = []\n",
        "fold = 0\n",
        "\n",
        "for train, test in kf_Incep.split(data_Incep):\n",
        "    fold+=1   \n",
        "    print(f\"Fold #{fold}\")\n",
        "\n",
        "    filename = f\" {filepath}{fold}.h5 \"\n",
        "    checkpoint = ModelCheckpoint(filename, monitor='val_accuracy', verbose=1,   save_best_only=True, mode='max')\n",
        "        \n",
        "    x_train_Incep = data_Incep[train]\n",
        "    y_train_Incep = labels_Incep[train]\n",
        "    x_test_Incep = data_Incep[test]\n",
        "    y_test_Incep = labels_Incep[test]\n",
        "\n",
        "    H_Incep = model_Incep.fit( x=aug.flow(x_train_Incep, y_train_Incep, batch_size=BS),\n",
        "\t                                            validation_data=(x_test_Incep, y_test_Incep),\n",
        "\t                                            steps_per_epoch=len(x_train_Incep) // BS,\n",
        "\t                                            epochs=100,  callbacks = [callback,checkpoint,reduce_lr])\n",
        "\n",
        "    pred_Incep = model_Incep.predict(x_test_Incep)\n",
        "    \n",
        "    oos_y.append(y_test_Incep)\n",
        "    oos_pred.append(pred_Incep)  \n",
        "    print(classification_report(y_test_Incep.argmax(axis=1),\t                #แสดง report ค่า acc, recall, ...\n",
        "                                        pred_Incep.argmax(axis=1),  \n",
        "                                        target_names=le_Incep.classes_))\n",
        "    \n",
        "oos_y = np.concatenate(oos_y)\n",
        "oos_pred = np.concatenate(oos_pred)\n",
        "print(classification_report(oos_y.argmax(axis=1), oos_pred.argmax(axis=1),  target_names=le_Incep.classes_))"
      ],
      "metadata": {
        "id": "bdhiXFO1LJnU"
      },
      "execution_count": null,
      "outputs": []
    },
    {
      "cell_type": "markdown",
      "source": [
        "### 8"
      ],
      "metadata": {
        "id": "BagnSBpSLJnV"
      }
    },
    {
      "cell_type": "markdown",
      "source": [
        "#### 8  sig pre bi\n",
        "--> "
      ],
      "metadata": {
        "id": "gzRtgbd3LJnW"
      }
    },
    {
      "cell_type": "code",
      "source": [
        "BS = 8\n",
        "filepath = \"Kmodel8_sig_pre_bi\"                  ##\n",
        "\n",
        "train_img_Incep = []\n",
        "for ImageName in tqdm(data_train3['ImageName']):              \n",
        "    image_path = All_3class_dir +'/' + ImageName                  \n",
        "    img = cv2.imread(image_path)                                          \n",
        "    img = cv2.resize(img, (299, 299))                                      \n",
        "    train_img_Incep.append(img)\n",
        "data_Incep = np.array(train_img_Incep, dtype=\"float32\") / 255.0\n",
        "\n",
        "labels_Incep = np.array(data_train3[['NameType']] )        \n",
        "labels_Incep.shape = (len(labels_Incep),) \n",
        "le_Incep = LabelEncoder()                                                                     \n",
        "labels_Incep = le_Incep.fit_transform(labels_Incep)                                         \n",
        "labels_Incep = to_categorical(labels_Incep, num_classes=2)                   \n",
        "\n",
        "aug = ImageDataGenerator( rotation_range=15,\twidth_shift_range=0.1, \theight_shift_range=0.1,\n",
        "\t\tshear_range=0.15, \thorizontal_flip=True, \tfill_mode=\"nearest\")\n",
        "                                                                                                          \n",
        "callback = EarlyStopping( monitor= \"val_accuracy\",    patience=15,       mode=\"max\")\n",
        "\n",
        "# checkpoint = ModelCheckpoint(filepath, monitor='val_accuracy', verbose=1,   save_best_only=True, mode='max')\n",
        "                                                                                                            ##\n",
        "reduce_lr = ReduceLROnPlateau(monitor='val_accuracy', factor=0.5,   patience=6,     verbose=1, mode='max', min_lr=0.00001)"
      ],
      "metadata": {
        "outputId": "8741a3e8-2d19-43a6-8086-241819a23a7f",
        "colab": {
          "base_uri": "https://localhost:8080/"
        },
        "id": "56Nrb9s1LJnW"
      },
      "execution_count": null,
      "outputs": [
        {
          "output_type": "stream",
          "name": "stderr",
          "text": [
            "100%|██████████| 451/451 [00:10<00:00, 44.85it/s]\n"
          ]
        }
      ]
    },
    {
      "cell_type": "code",
      "source": [
        "base_model_Incep = tf.keras.applications.InceptionV3(input_shape=(299, 299, 3), include_top=False, weights=\"imagenet\")\n",
        "base_model_Incep.trainable = True\n",
        "for layer in base_model_Incep.layers[:100]:    #fix w & bias in layer 0-100\n",
        "    layer.trainable = False\n",
        "\n",
        "#Add custom head\n",
        "average_pooling_layer = tf.keras.layers.GlobalAveragePooling2D()(base_model_Incep.output)\n",
        "prediction_layer = tf.keras.layers.Dense(units=2, activation=\"sigmold\")(average_pooling_layer)   # unit 2\n",
        "model_Incep = tf.keras.models.Model(inputs=base_model_Incep.input, outputs=prediction_layer)\n",
        "\n",
        "model_Incep.compile(optimizer=RMSprop(learning_rate=0.0001), loss=\"binary_crossentropy\", metrics=[\"accuracy\"])\n",
        "\n",
        "\n",
        "### K-fold\n",
        "kf_Incep = KFold(5, shuffle=True, random_state=40) \n",
        "\n",
        "oos_y = []\n",
        "oos_pred = []\n",
        "fold = 0\n",
        "\n",
        "for train, test in kf_Incep.split(data_Incep):\n",
        "    fold+=1   \n",
        "    print(f\"Fold #{fold}\")\n",
        "\n",
        "    filename = f\" {filepath}{fold}.h5 \"\n",
        "    checkpoint = ModelCheckpoint(filename, monitor='val_accuracy', verbose=1,   save_best_only=True, mode='max')\n",
        "        \n",
        "    x_train_Incep = data_Incep[train]\n",
        "    y_train_Incep = labels_Incep[train]\n",
        "    x_test_Incep = data_Incep[test]\n",
        "    y_test_Incep = labels_Incep[test]\n",
        "\n",
        "    H_Incep = model_Incep.fit( x=aug.flow(x_train_Incep, y_train_Incep, batch_size=BS),\n",
        "\t                                            validation_data=(x_test_Incep, y_test_Incep),\n",
        "\t                                            steps_per_epoch=len(x_train_Incep) // BS,\n",
        "\t                                            epochs=100,  callbacks = [callback,checkpoint,reduce_lr])\n",
        "\n",
        "    pred_Incep = model_Incep.predict(x_test_Incep)\n",
        "    \n",
        "    oos_y.append(y_test_Incep)\n",
        "    oos_pred.append(pred_Incep)  \n",
        "    print(classification_report(y_test_Incep.argmax(axis=1),\t                #แสดง report ค่า acc, recall, ...\n",
        "                                        pred_Incep.argmax(axis=1),  \n",
        "                                        target_names=le_Incep.classes_))\n",
        "    \n",
        "oos_y = np.concatenate(oos_y)\n",
        "oos_pred = np.concatenate(oos_pred)\n",
        "print(classification_report(oos_y.argmax(axis=1), oos_pred.argmax(axis=1),  target_names=le_Incep.classes_))"
      ],
      "metadata": {
        "id": "F_9uxarpLJnW"
      },
      "execution_count": null,
      "outputs": []
    },
    {
      "cell_type": "markdown",
      "source": [
        "#### 8 sig pre bi adam\n",
        "--> "
      ],
      "metadata": {
        "id": "1iiGV8KkLJnX"
      }
    },
    {
      "cell_type": "code",
      "source": [
        "BS = 8\n",
        "filepath = \"Kmodel8_sig_pre_bi_adam\"                  ##\n",
        "\n",
        "train_img_Incep = []\n",
        "for ImageName in tqdm(data_train3['ImageName']):              \n",
        "    image_path = All_3class_dir +'/' + ImageName                  \n",
        "    img = cv2.imread(image_path)                                          \n",
        "    img = cv2.resize(img, (299, 299))                                      \n",
        "    train_img_Incep.append(img)\n",
        "data_Incep = np.array(train_img_Incep, dtype=\"float32\") / 255.0\n",
        "\n",
        "labels_Incep = np.array(data_train3[['NameType']] )        \n",
        "labels_Incep.shape = (len(labels_Incep),) \n",
        "le_Incep = LabelEncoder()                                                                     \n",
        "labels_Incep = le_Incep.fit_transform(labels_Incep)                                         \n",
        "labels_Incep = to_categorical(labels_Incep, num_classes=2)                   \n",
        "\n",
        "aug = ImageDataGenerator( rotation_range=15,\twidth_shift_range=0.1, \theight_shift_range=0.1,\n",
        "\t\tshear_range=0.15, \thorizontal_flip=True, \tfill_mode=\"nearest\")\n",
        "                                                                                                          \n",
        "callback = EarlyStopping( monitor= \"val_accuracy\",    patience=15,       mode=\"max\")\n",
        "\n",
        "# checkpoint = ModelCheckpoint(filepath, monitor='val_accuracy', verbose=1,   save_best_only=True, mode='max')\n",
        "                                                                                                            ##\n",
        "reduce_lr = ReduceLROnPlateau(monitor='val_accuracy', factor=0.5,   patience=6,     verbose=1, mode='max', min_lr=0.00001)"
      ],
      "metadata": {
        "outputId": "3f52f262-ffd4-40ae-8af3-bc174b331ad7",
        "colab": {
          "base_uri": "https://localhost:8080/"
        },
        "id": "2lQiiQ_uLJnX"
      },
      "execution_count": null,
      "outputs": [
        {
          "output_type": "stream",
          "name": "stderr",
          "text": [
            "100%|██████████| 451/451 [02:08<00:00,  3.50it/s]\n"
          ]
        }
      ]
    },
    {
      "cell_type": "code",
      "source": [
        "base_model_Incep = tf.keras.applications.InceptionV3(input_shape=(299, 299, 3), include_top=False, weights=\"imagenet\")\n",
        "base_model_Incep.trainable = True\n",
        "for layer in base_model_Incep.layers[:100]:    #fix w & bias in layer 0-100\n",
        "    layer.trainable = False\n",
        "\n",
        "#Add custom head\n",
        "average_pooling_layer = tf.keras.layers.GlobalAveragePooling2D()(base_model_Incep.output)\n",
        "prediction_layer = tf.keras.layers.Dense(units=2, activation=\"sigmold\")(average_pooling_layer)   # unit 2\n",
        "model_Incep = tf.keras.models.Model(inputs=base_model_Incep.input, outputs=prediction_layer)\n",
        "\n",
        "model_Incep.compile(optimizer=RMSprop(learning_rate=0.0001), loss=\"binary_crossentropy\", metrics=[\"accuracy\"])\n",
        "\n",
        "\n",
        "### K-fold\n",
        "kf_Incep = KFold(5, shuffle=True, random_state=40) \n",
        "\n",
        "oos_y = []\n",
        "oos_pred = []\n",
        "fold = 0\n",
        "\n",
        "for train, test in kf_Incep.split(data_Incep):\n",
        "    fold+=1   \n",
        "    print(f\"Fold #{fold}\")\n",
        "\n",
        "    filename = f\" {filepath}{fold}.h5 \"\n",
        "    checkpoint = ModelCheckpoint(filename, monitor='val_accuracy', verbose=1,   save_best_only=True, mode='max')\n",
        "        \n",
        "    x_train_Incep = data_Incep[train]\n",
        "    y_train_Incep = labels_Incep[train]\n",
        "    x_test_Incep = data_Incep[test]\n",
        "    y_test_Incep = labels_Incep[test]\n",
        "\n",
        "    H_Incep = model_Incep.fit( x=aug.flow(x_train_Incep, y_train_Incep, batch_size=BS),\n",
        "\t                                            validation_data=(x_test_Incep, y_test_Incep),\n",
        "\t                                            steps_per_epoch=len(x_train_Incep) // BS,\n",
        "\t                                            epochs=100,  callbacks = [callback,checkpoint,reduce_lr])\n",
        "\n",
        "    pred_Incep = model_Incep.predict(x_test_Incep)\n",
        "    \n",
        "    oos_y.append(y_test_Incep)\n",
        "    oos_pred.append(pred_Incep)  \n",
        "    print(classification_report(y_test_Incep.argmax(axis=1),\t                #แสดง report ค่า acc, recall, ...\n",
        "                                        pred_Incep.argmax(axis=1),  \n",
        "                                        target_names=le_Incep.classes_))\n",
        "    \n",
        "oos_y = np.concatenate(oos_y)\n",
        "oos_pred = np.concatenate(oos_pred)\n",
        "print(classification_report(oos_y.argmax(axis=1), oos_pred.argmax(axis=1),  target_names=le_Incep.classes_))"
      ],
      "metadata": {
        "id": "be5w9kvwLJnX"
      },
      "execution_count": null,
      "outputs": []
    },
    {
      "cell_type": "markdown",
      "source": [
        "#### 8 sig pre bi sgd\n",
        "--> "
      ],
      "metadata": {
        "id": "jUZDWuEfLJnX"
      }
    },
    {
      "cell_type": "code",
      "source": [
        "BS = 8\n",
        "filepath = \"Kmodel8_sig_pre_bi_sgd\"                  ##\n",
        "\n",
        "train_img_Incep = []\n",
        "for ImageName in tqdm(data_train3['ImageName']):              \n",
        "    image_path = All_3class_dir +'/' + ImageName                  \n",
        "    img = cv2.imread(image_path)                                          \n",
        "    img = cv2.resize(img, (299, 299))                                      \n",
        "    train_img_Incep.append(img)\n",
        "data_Incep = np.array(train_img_Incep, dtype=\"float32\") / 255.0\n",
        "\n",
        "labels_Incep = np.array(data_train3[['NameType']] )        \n",
        "labels_Incep.shape = (len(labels_Incep),) \n",
        "le_Incep = LabelEncoder()                                                                     \n",
        "labels_Incep = le_Incep.fit_transform(labels_Incep)                                         \n",
        "labels_Incep = to_categorical(labels_Incep, num_classes=2)                   \n",
        "\n",
        "aug = ImageDataGenerator( rotation_range=15,\twidth_shift_range=0.1, \theight_shift_range=0.1,\n",
        "\t\tshear_range=0.15, \thorizontal_flip=True, \tfill_mode=\"nearest\")\n",
        "                                                                                                          \n",
        "callback = EarlyStopping( monitor= \"val_accuracy\",    patience=15,       mode=\"max\")\n",
        "\n",
        "# checkpoint = ModelCheckpoint(filepath, monitor='val_accuracy', verbose=1,   save_best_only=True, mode='max')\n",
        "                                                                                                            ##\n",
        "reduce_lr = ReduceLROnPlateau(monitor='val_accuracy', factor=0.5,   patience=6,     verbose=1, mode='max', min_lr=0.00001)"
      ],
      "metadata": {
        "outputId": "3f52f262-ffd4-40ae-8af3-bc174b331ad7",
        "colab": {
          "base_uri": "https://localhost:8080/"
        },
        "id": "dvFCs3OdLJnY"
      },
      "execution_count": null,
      "outputs": [
        {
          "output_type": "stream",
          "name": "stderr",
          "text": [
            "100%|██████████| 451/451 [02:08<00:00,  3.50it/s]\n"
          ]
        }
      ]
    },
    {
      "cell_type": "code",
      "source": [
        "base_model_Incep = tf.keras.applications.InceptionV3(input_shape=(299, 299, 3), include_top=False, weights=\"imagenet\")\n",
        "base_model_Incep.trainable = True\n",
        "for layer in base_model_Incep.layers[:100]:    #fix w & bias in layer 0-100\n",
        "    layer.trainable = False\n",
        "\n",
        "#Add custom head\n",
        "average_pooling_layer = tf.keras.layers.GlobalAveragePooling2D()(base_model_Incep.output)\n",
        "prediction_layer = tf.keras.layers.Dense(units=2, activation=\"sigmold\")(average_pooling_layer)   # unit 2\n",
        "model_Incep = tf.keras.models.Model(inputs=base_model_Incep.input, outputs=prediction_layer)\n",
        "\n",
        "model_Incep.compile(optimizer=RMSprop(learning_rate=0.0001), loss=\"binary_crossentropy\", metrics=[\"accuracy\"])\n",
        "\n",
        "\n",
        "### K-fold\n",
        "kf_Incep = KFold(5, shuffle=True, random_state=40) \n",
        "\n",
        "oos_y = []\n",
        "oos_pred = []\n",
        "fold = 0\n",
        "\n",
        "for train, test in kf_Incep.split(data_Incep):\n",
        "    fold+=1   \n",
        "    print(f\"Fold #{fold}\")\n",
        "\n",
        "    filename = f\" {filepath}{fold}.h5 \"\n",
        "    checkpoint = ModelCheckpoint(filename, monitor='val_accuracy', verbose=1,   save_best_only=True, mode='max')\n",
        "        \n",
        "    x_train_Incep = data_Incep[train]\n",
        "    y_train_Incep = labels_Incep[train]\n",
        "    x_test_Incep = data_Incep[test]\n",
        "    y_test_Incep = labels_Incep[test]\n",
        "\n",
        "    H_Incep = model_Incep.fit( x=aug.flow(x_train_Incep, y_train_Incep, batch_size=BS),\n",
        "\t                                            validation_data=(x_test_Incep, y_test_Incep),\n",
        "\t                                            steps_per_epoch=len(x_train_Incep) // BS,\n",
        "\t                                            epochs=100,  callbacks = [callback,checkpoint,reduce_lr])\n",
        "\n",
        "    pred_Incep = model_Incep.predict(x_test_Incep)\n",
        "    \n",
        "    oos_y.append(y_test_Incep)\n",
        "    oos_pred.append(pred_Incep)  \n",
        "    print(classification_report(y_test_Incep.argmax(axis=1),\t                #แสดง report ค่า acc, recall, ...\n",
        "                                        pred_Incep.argmax(axis=1),  \n",
        "                                        target_names=le_Incep.classes_))\n",
        "    \n",
        "oos_y = np.concatenate(oos_y)\n",
        "oos_pred = np.concatenate(oos_pred)\n",
        "print(classification_report(oos_y.argmax(axis=1), oos_pred.argmax(axis=1),  target_names=le_Incep.classes_))"
      ],
      "metadata": {
        "id": "2uqd5wb9LJnY"
      },
      "execution_count": null,
      "outputs": []
    },
    {
      "cell_type": "markdown",
      "source": [
        "### 16"
      ],
      "metadata": {
        "id": "DWf7EwWKLJnZ"
      }
    },
    {
      "cell_type": "markdown",
      "source": [
        "#### 16  sig pre bi\n",
        "--> "
      ],
      "metadata": {
        "id": "qpubweJWLJnZ"
      }
    },
    {
      "cell_type": "code",
      "source": [
        "BS = 16\n",
        "filepath = \"Kmodel16_sig_pre_bi\"                  ##\n",
        "\n",
        "train_img_Incep = []\n",
        "for ImageName in tqdm(data_train3['ImageName']):              \n",
        "    image_path = All_3class_dir +'/' + ImageName                  \n",
        "    img = cv2.imread(image_path)                                          \n",
        "    img = cv2.resize(img, (299, 299))                                      \n",
        "    train_img_Incep.append(img)\n",
        "data_Incep = np.array(train_img_Incep, dtype=\"float32\") / 255.0\n",
        "\n",
        "labels_Incep = np.array(data_train3[['NameType']] )        \n",
        "labels_Incep.shape = (len(labels_Incep),) \n",
        "le_Incep = LabelEncoder()                                                                     \n",
        "labels_Incep = le_Incep.fit_transform(labels_Incep)                                         \n",
        "labels_Incep = to_categorical(labels_Incep, num_classes=2)                   \n",
        "\n",
        "aug = ImageDataGenerator( rotation_range=15,\twidth_shift_range=0.1, \theight_shift_range=0.1,\n",
        "\t\tshear_range=0.15, \thorizontal_flip=True, \tfill_mode=\"nearest\")\n",
        "                                                                                                          \n",
        "callback = EarlyStopping( monitor= \"val_accuracy\",    patience=15,       mode=\"max\")\n",
        "\n",
        "# checkpoint = ModelCheckpoint(filepath, monitor='val_accuracy', verbose=1,   save_best_only=True, mode='max')\n",
        "                                                                                                            ##\n",
        "reduce_lr = ReduceLROnPlateau(monitor='val_accuracy', factor=0.5,   patience=6,     verbose=1, mode='max', min_lr=0.00001)"
      ],
      "metadata": {
        "outputId": "8741a3e8-2d19-43a6-8086-241819a23a7f",
        "colab": {
          "base_uri": "https://localhost:8080/"
        },
        "id": "s-Pu3M1eLJnZ"
      },
      "execution_count": null,
      "outputs": [
        {
          "output_type": "stream",
          "name": "stderr",
          "text": [
            "100%|██████████| 451/451 [00:10<00:00, 44.85it/s]\n"
          ]
        }
      ]
    },
    {
      "cell_type": "code",
      "source": [
        "base_model_Incep = tf.keras.applications.InceptionV3(input_shape=(299, 299, 3), include_top=False, weights=\"imagenet\")\n",
        "base_model_Incep.trainable = True\n",
        "for layer in base_model_Incep.layers[:100]:    #fix w & bias in layer 0-100\n",
        "    layer.trainable = False\n",
        "\n",
        "#Add custom head\n",
        "average_pooling_layer = tf.keras.layers.GlobalAveragePooling2D()(base_model_Incep.output)\n",
        "prediction_layer = tf.keras.layers.Dense(units=2, activation=\"sigmold\")(average_pooling_layer)   # unit 2\n",
        "model_Incep = tf.keras.models.Model(inputs=base_model_Incep.input, outputs=prediction_layer)\n",
        "\n",
        "model_Incep.compile(optimizer=RMSprop(learning_rate=0.0001), loss=\"binary_crossentropy\", metrics=[\"accuracy\"])\n",
        "\n",
        "\n",
        "### K-fold\n",
        "kf_Incep = KFold(5, shuffle=True, random_state=40) \n",
        "\n",
        "oos_y = []\n",
        "oos_pred = []\n",
        "fold = 0\n",
        "\n",
        "for train, test in kf_Incep.split(data_Incep):\n",
        "    fold+=1   \n",
        "    print(f\"Fold #{fold}\")\n",
        "\n",
        "    filename = f\" {filepath}{fold}.h5 \"\n",
        "    checkpoint = ModelCheckpoint(filename, monitor='val_accuracy', verbose=1,   save_best_only=True, mode='max')\n",
        "        \n",
        "    x_train_Incep = data_Incep[train]\n",
        "    y_train_Incep = labels_Incep[train]\n",
        "    x_test_Incep = data_Incep[test]\n",
        "    y_test_Incep = labels_Incep[test]\n",
        "\n",
        "    H_Incep = model_Incep.fit( x=aug.flow(x_train_Incep, y_train_Incep, batch_size=BS),\n",
        "\t                                            validation_data=(x_test_Incep, y_test_Incep),\n",
        "\t                                            steps_per_epoch=len(x_train_Incep) // BS,\n",
        "\t                                            epochs=100,  callbacks = [callback,checkpoint,reduce_lr])\n",
        "\n",
        "    pred_Incep = model_Incep.predict(x_test_Incep)\n",
        "    \n",
        "    oos_y.append(y_test_Incep)\n",
        "    oos_pred.append(pred_Incep)  \n",
        "    print(classification_report(y_test_Incep.argmax(axis=1),\t                #แสดง report ค่า acc, recall, ...\n",
        "                                        pred_Incep.argmax(axis=1),  \n",
        "                                        target_names=le_Incep.classes_))\n",
        "    \n",
        "oos_y = np.concatenate(oos_y)\n",
        "oos_pred = np.concatenate(oos_pred)\n",
        "print(classification_report(oos_y.argmax(axis=1), oos_pred.argmax(axis=1),  target_names=le_Incep.classes_))"
      ],
      "metadata": {
        "id": "gTiGuK6KLJnZ"
      },
      "execution_count": null,
      "outputs": []
    },
    {
      "cell_type": "markdown",
      "source": [
        "#### 16 sig pre bi adam\n",
        "--> "
      ],
      "metadata": {
        "id": "FQy1mPqHLJna"
      }
    },
    {
      "cell_type": "code",
      "source": [
        "BS = 16\n",
        "filepath = \"Kmodel16_sig_pre_bi_adam\"                  ##\n",
        "\n",
        "train_img_Incep = []\n",
        "for ImageName in tqdm(data_train3['ImageName']):              \n",
        "    image_path = All_3class_dir +'/' + ImageName                  \n",
        "    img = cv2.imread(image_path)                                          \n",
        "    img = cv2.resize(img, (299, 299))                                      \n",
        "    train_img_Incep.append(img)\n",
        "data_Incep = np.array(train_img_Incep, dtype=\"float32\") / 255.0\n",
        "\n",
        "labels_Incep = np.array(data_train3[['NameType']] )        \n",
        "labels_Incep.shape = (len(labels_Incep),) \n",
        "le_Incep = LabelEncoder()                                                                     \n",
        "labels_Incep = le_Incep.fit_transform(labels_Incep)                                         \n",
        "labels_Incep = to_categorical(labels_Incep, num_classes=2)                   \n",
        "\n",
        "aug = ImageDataGenerator( rotation_range=15,\twidth_shift_range=0.1, \theight_shift_range=0.1,\n",
        "\t\tshear_range=0.15, \thorizontal_flip=True, \tfill_mode=\"nearest\")\n",
        "                                                                                                          \n",
        "callback = EarlyStopping( monitor= \"val_accuracy\",    patience=15,       mode=\"max\")\n",
        "\n",
        "# checkpoint = ModelCheckpoint(filepath, monitor='val_accuracy', verbose=1,   save_best_only=True, mode='max')\n",
        "                                                                                                            ##\n",
        "reduce_lr = ReduceLROnPlateau(monitor='val_accuracy', factor=0.5,   patience=6,     verbose=1, mode='max', min_lr=0.00001)"
      ],
      "metadata": {
        "outputId": "3f52f262-ffd4-40ae-8af3-bc174b331ad7",
        "colab": {
          "base_uri": "https://localhost:8080/"
        },
        "id": "6KZLTImHLJna"
      },
      "execution_count": null,
      "outputs": [
        {
          "output_type": "stream",
          "name": "stderr",
          "text": [
            "100%|██████████| 451/451 [02:08<00:00,  3.50it/s]\n"
          ]
        }
      ]
    },
    {
      "cell_type": "code",
      "source": [
        "base_model_Incep = tf.keras.applications.InceptionV3(input_shape=(299, 299, 3), include_top=False, weights=\"imagenet\")\n",
        "base_model_Incep.trainable = True\n",
        "for layer in base_model_Incep.layers[:100]:    #fix w & bias in layer 0-100\n",
        "    layer.trainable = False\n",
        "\n",
        "#Add custom head\n",
        "average_pooling_layer = tf.keras.layers.GlobalAveragePooling2D()(base_model_Incep.output)\n",
        "prediction_layer = tf.keras.layers.Dense(units=2, activation=\"sigmold\")(average_pooling_layer)   # unit 2\n",
        "model_Incep = tf.keras.models.Model(inputs=base_model_Incep.input, outputs=prediction_layer)\n",
        "\n",
        "model_Incep.compile(optimizer=RMSprop(learning_rate=0.0001), loss=\"binary_crossentropy\", metrics=[\"accuracy\"])\n",
        "\n",
        "\n",
        "### K-fold\n",
        "kf_Incep = KFold(5, shuffle=True, random_state=40) \n",
        "\n",
        "oos_y = []\n",
        "oos_pred = []\n",
        "fold = 0\n",
        "\n",
        "for train, test in kf_Incep.split(data_Incep):\n",
        "    fold+=1   \n",
        "    print(f\"Fold #{fold}\")\n",
        "\n",
        "    filename = f\" {filepath}{fold}.h5 \"\n",
        "    checkpoint = ModelCheckpoint(filename, monitor='val_accuracy', verbose=1,   save_best_only=True, mode='max')\n",
        "        \n",
        "    x_train_Incep = data_Incep[train]\n",
        "    y_train_Incep = labels_Incep[train]\n",
        "    x_test_Incep = data_Incep[test]\n",
        "    y_test_Incep = labels_Incep[test]\n",
        "\n",
        "    H_Incep = model_Incep.fit( x=aug.flow(x_train_Incep, y_train_Incep, batch_size=BS),\n",
        "\t                                            validation_data=(x_test_Incep, y_test_Incep),\n",
        "\t                                            steps_per_epoch=len(x_train_Incep) // BS,\n",
        "\t                                            epochs=100,  callbacks = [callback,checkpoint,reduce_lr])\n",
        "\n",
        "    pred_Incep = model_Incep.predict(x_test_Incep)\n",
        "    \n",
        "    oos_y.append(y_test_Incep)\n",
        "    oos_pred.append(pred_Incep)  \n",
        "    print(classification_report(y_test_Incep.argmax(axis=1),\t                #แสดง report ค่า acc, recall, ...\n",
        "                                        pred_Incep.argmax(axis=1),  \n",
        "                                        target_names=le_Incep.classes_))\n",
        "    \n",
        "oos_y = np.concatenate(oos_y)\n",
        "oos_pred = np.concatenate(oos_pred)\n",
        "print(classification_report(oos_y.argmax(axis=1), oos_pred.argmax(axis=1),  target_names=le_Incep.classes_))"
      ],
      "metadata": {
        "id": "VC62hx9KLJnb"
      },
      "execution_count": null,
      "outputs": []
    },
    {
      "cell_type": "markdown",
      "source": [
        "#### 16 sig pre bi sgd\n",
        "--> "
      ],
      "metadata": {
        "id": "W0iaAJ6ILJnb"
      }
    },
    {
      "cell_type": "code",
      "source": [
        "BS = 16\n",
        "filepath = \"Kmodel16_sig_pre_bi_sgd\"                  ##\n",
        "\n",
        "train_img_Incep = []\n",
        "for ImageName in tqdm(data_train3['ImageName']):              \n",
        "    image_path = All_3class_dir +'/' + ImageName                  \n",
        "    img = cv2.imread(image_path)                                          \n",
        "    img = cv2.resize(img, (299, 299))                                      \n",
        "    train_img_Incep.append(img)\n",
        "data_Incep = np.array(train_img_Incep, dtype=\"float32\") / 255.0\n",
        "\n",
        "labels_Incep = np.array(data_train3[['NameType']] )        \n",
        "labels_Incep.shape = (len(labels_Incep),) \n",
        "le_Incep = LabelEncoder()                                                                     \n",
        "labels_Incep = le_Incep.fit_transform(labels_Incep)                                         \n",
        "labels_Incep = to_categorical(labels_Incep, num_classes=2)                   \n",
        "\n",
        "aug = ImageDataGenerator( rotation_range=15,\twidth_shift_range=0.1, \theight_shift_range=0.1,\n",
        "\t\tshear_range=0.15, \thorizontal_flip=True, \tfill_mode=\"nearest\")\n",
        "                                                                                                          \n",
        "callback = EarlyStopping( monitor= \"val_accuracy\",    patience=15,       mode=\"max\")\n",
        "\n",
        "# checkpoint = ModelCheckpoint(filepath, monitor='val_accuracy', verbose=1,   save_best_only=True, mode='max')\n",
        "                                                                                                            ##\n",
        "reduce_lr = ReduceLROnPlateau(monitor='val_accuracy', factor=0.5,   patience=6,     verbose=1, mode='max', min_lr=0.00001)"
      ],
      "metadata": {
        "outputId": "3f52f262-ffd4-40ae-8af3-bc174b331ad7",
        "colab": {
          "base_uri": "https://localhost:8080/"
        },
        "id": "4bDbx09VLJnb"
      },
      "execution_count": null,
      "outputs": [
        {
          "output_type": "stream",
          "name": "stderr",
          "text": [
            "100%|██████████| 451/451 [02:08<00:00,  3.50it/s]\n"
          ]
        }
      ]
    },
    {
      "cell_type": "code",
      "source": [
        "base_model_Incep = tf.keras.applications.InceptionV3(input_shape=(299, 299, 3), include_top=False, weights=\"imagenet\")\n",
        "base_model_Incep.trainable = True\n",
        "for layer in base_model_Incep.layers[:100]:    #fix w & bias in layer 0-100\n",
        "    layer.trainable = False\n",
        "\n",
        "#Add custom head\n",
        "average_pooling_layer = tf.keras.layers.GlobalAveragePooling2D()(base_model_Incep.output)\n",
        "prediction_layer = tf.keras.layers.Dense(units=2, activation=\"sigmold\")(average_pooling_layer)   # unit 2\n",
        "model_Incep = tf.keras.models.Model(inputs=base_model_Incep.input, outputs=prediction_layer)\n",
        "\n",
        "model_Incep.compile(optimizer=RMSprop(learning_rate=0.0001), loss=\"binary_crossentropy\", metrics=[\"accuracy\"])\n",
        "\n",
        "\n",
        "### K-fold\n",
        "kf_Incep = KFold(5, shuffle=True, random_state=40) \n",
        "\n",
        "oos_y = []\n",
        "oos_pred = []\n",
        "fold = 0\n",
        "\n",
        "for train, test in kf_Incep.split(data_Incep):\n",
        "    fold+=1   \n",
        "    print(f\"Fold #{fold}\")\n",
        "\n",
        "    filename = f\" {filepath}{fold}.h5 \"\n",
        "    checkpoint = ModelCheckpoint(filename, monitor='val_accuracy', verbose=1,   save_best_only=True, mode='max')\n",
        "        \n",
        "    x_train_Incep = data_Incep[train]\n",
        "    y_train_Incep = labels_Incep[train]\n",
        "    x_test_Incep = data_Incep[test]\n",
        "    y_test_Incep = labels_Incep[test]\n",
        "\n",
        "    H_Incep = model_Incep.fit( x=aug.flow(x_train_Incep, y_train_Incep, batch_size=BS),\n",
        "\t                                            validation_data=(x_test_Incep, y_test_Incep),\n",
        "\t                                            steps_per_epoch=len(x_train_Incep) // BS,\n",
        "\t                                            epochs=100,  callbacks = [callback,checkpoint,reduce_lr])\n",
        "\n",
        "    pred_Incep = model_Incep.predict(x_test_Incep)\n",
        "    \n",
        "    oos_y.append(y_test_Incep)\n",
        "    oos_pred.append(pred_Incep)  \n",
        "    print(classification_report(y_test_Incep.argmax(axis=1),\t                #แสดง report ค่า acc, recall, ...\n",
        "                                        pred_Incep.argmax(axis=1),  \n",
        "                                        target_names=le_Incep.classes_))\n",
        "    \n",
        "oos_y = np.concatenate(oos_y)\n",
        "oos_pred = np.concatenate(oos_pred)\n",
        "print(classification_report(oos_y.argmax(axis=1), oos_pred.argmax(axis=1),  target_names=le_Incep.classes_))"
      ],
      "metadata": {
        "id": "3RGv1ZltLJnc"
      },
      "execution_count": null,
      "outputs": []
    },
    {
      "cell_type": "markdown",
      "source": [
        "### 32"
      ],
      "metadata": {
        "id": "hf-YOlEXLJnc"
      }
    },
    {
      "cell_type": "markdown",
      "source": [
        "#### 32  sig pre bi\n",
        "--> "
      ],
      "metadata": {
        "id": "0kVTkfWjLJnd"
      }
    },
    {
      "cell_type": "code",
      "source": [
        "BS = 32\n",
        "filepath = \"Kmodel32_sig_pre_bi\"                  ##\n",
        "\n",
        "train_img_Incep = []\n",
        "for ImageName in tqdm(data_train3['ImageName']):              \n",
        "    image_path = All_3class_dir +'/' + ImageName                  \n",
        "    img = cv2.imread(image_path)                                          \n",
        "    img = cv2.resize(img, (299, 299))                                      \n",
        "    train_img_Incep.append(img)\n",
        "data_Incep = np.array(train_img_Incep, dtype=\"float32\") / 255.0\n",
        "\n",
        "labels_Incep = np.array(data_train3[['NameType']] )        \n",
        "labels_Incep.shape = (len(labels_Incep),) \n",
        "le_Incep = LabelEncoder()                                                                     \n",
        "labels_Incep = le_Incep.fit_transform(labels_Incep)                                         \n",
        "labels_Incep = to_categorical(labels_Incep, num_classes=2)                   \n",
        "\n",
        "aug = ImageDataGenerator( rotation_range=15,\twidth_shift_range=0.1, \theight_shift_range=0.1,\n",
        "\t\tshear_range=0.15, \thorizontal_flip=True, \tfill_mode=\"nearest\")\n",
        "                                                                                                          \n",
        "callback = EarlyStopping( monitor= \"val_accuracy\",    patience=15,       mode=\"max\")\n",
        "\n",
        "# checkpoint = ModelCheckpoint(filepath, monitor='val_accuracy', verbose=1,   save_best_only=True, mode='max')\n",
        "                                                                                                            ##\n",
        "reduce_lr = ReduceLROnPlateau(monitor='val_accuracy', factor=0.5,   patience=6,     verbose=1, mode='max', min_lr=0.00001)"
      ],
      "metadata": {
        "outputId": "8741a3e8-2d19-43a6-8086-241819a23a7f",
        "colab": {
          "base_uri": "https://localhost:8080/"
        },
        "id": "QTMqzjexLJnd"
      },
      "execution_count": null,
      "outputs": [
        {
          "output_type": "stream",
          "name": "stderr",
          "text": [
            "100%|██████████| 451/451 [00:10<00:00, 44.85it/s]\n"
          ]
        }
      ]
    },
    {
      "cell_type": "code",
      "source": [
        "base_model_Incep = tf.keras.applications.InceptionV3(input_shape=(299, 299, 3), include_top=False, weights=\"imagenet\")\n",
        "base_model_Incep.trainable = True\n",
        "for layer in base_model_Incep.layers[:100]:    #fix w & bias in layer 0-100\n",
        "    layer.trainable = False\n",
        "\n",
        "#Add custom head\n",
        "average_pooling_layer = tf.keras.layers.GlobalAveragePooling2D()(base_model_Incep.output)\n",
        "prediction_layer = tf.keras.layers.Dense(units=2, activation=\"sigmold\")(average_pooling_layer)   # unit 2\n",
        "model_Incep = tf.keras.models.Model(inputs=base_model_Incep.input, outputs=prediction_layer)\n",
        "\n",
        "model_Incep.compile(optimizer=RMSprop(learning_rate=0.0001), loss=\"binary_crossentropy\", metrics=[\"accuracy\"])\n",
        "\n",
        "\n",
        "### K-fold\n",
        "kf_Incep = KFold(5, shuffle=True, random_state=40) \n",
        "\n",
        "oos_y = []\n",
        "oos_pred = []\n",
        "fold = 0\n",
        "\n",
        "for train, test in kf_Incep.split(data_Incep):\n",
        "    fold+=1   \n",
        "    print(f\"Fold #{fold}\")\n",
        "\n",
        "    filename = f\" {filepath}{fold}.h5 \"\n",
        "    checkpoint = ModelCheckpoint(filename, monitor='val_accuracy', verbose=1,   save_best_only=True, mode='max')\n",
        "        \n",
        "    x_train_Incep = data_Incep[train]\n",
        "    y_train_Incep = labels_Incep[train]\n",
        "    x_test_Incep = data_Incep[test]\n",
        "    y_test_Incep = labels_Incep[test]\n",
        "\n",
        "    H_Incep = model_Incep.fit( x=aug.flow(x_train_Incep, y_train_Incep, batch_size=BS),\n",
        "\t                                            validation_data=(x_test_Incep, y_test_Incep),\n",
        "\t                                            steps_per_epoch=len(x_train_Incep) // BS,\n",
        "\t                                            epochs=100,  callbacks = [callback,checkpoint,reduce_lr])\n",
        "\n",
        "    pred_Incep = model_Incep.predict(x_test_Incep)\n",
        "    \n",
        "    oos_y.append(y_test_Incep)\n",
        "    oos_pred.append(pred_Incep)  \n",
        "    print(classification_report(y_test_Incep.argmax(axis=1),\t                #แสดง report ค่า acc, recall, ...\n",
        "                                        pred_Incep.argmax(axis=1),  \n",
        "                                        target_names=le_Incep.classes_))\n",
        "    \n",
        "oos_y = np.concatenate(oos_y)\n",
        "oos_pred = np.concatenate(oos_pred)\n",
        "print(classification_report(oos_y.argmax(axis=1), oos_pred.argmax(axis=1),  target_names=le_Incep.classes_))"
      ],
      "metadata": {
        "id": "Vkh_QKk0LJnd"
      },
      "execution_count": null,
      "outputs": []
    },
    {
      "cell_type": "markdown",
      "source": [
        "#### 32 sig pre bi adam\n",
        "--> "
      ],
      "metadata": {
        "id": "_cJ5foCdLJne"
      }
    },
    {
      "cell_type": "code",
      "source": [
        "BS = 32\n",
        "filepath = \"Kmodel32_sig_pre_bi_adam\"                  ##\n",
        "\n",
        "train_img_Incep = []\n",
        "for ImageName in tqdm(data_train3['ImageName']):              \n",
        "    image_path = All_3class_dir +'/' + ImageName                  \n",
        "    img = cv2.imread(image_path)                                          \n",
        "    img = cv2.resize(img, (299, 299))                                      \n",
        "    train_img_Incep.append(img)\n",
        "data_Incep = np.array(train_img_Incep, dtype=\"float32\") / 255.0\n",
        "\n",
        "labels_Incep = np.array(data_train3[['NameType']] )        \n",
        "labels_Incep.shape = (len(labels_Incep),) \n",
        "le_Incep = LabelEncoder()                                                                     \n",
        "labels_Incep = le_Incep.fit_transform(labels_Incep)                                         \n",
        "labels_Incep = to_categorical(labels_Incep, num_classes=2)                   \n",
        "\n",
        "aug = ImageDataGenerator( rotation_range=15,\twidth_shift_range=0.1, \theight_shift_range=0.1,\n",
        "\t\tshear_range=0.15, \thorizontal_flip=True, \tfill_mode=\"nearest\")\n",
        "                                                                                                          \n",
        "callback = EarlyStopping( monitor= \"val_accuracy\",    patience=15,       mode=\"max\")\n",
        "\n",
        "# checkpoint = ModelCheckpoint(filepath, monitor='val_accuracy', verbose=1,   save_best_only=True, mode='max')\n",
        "                                                                                                            ##\n",
        "reduce_lr = ReduceLROnPlateau(monitor='val_accuracy', factor=0.5,   patience=6,     verbose=1, mode='max', min_lr=0.00001)"
      ],
      "metadata": {
        "outputId": "3f52f262-ffd4-40ae-8af3-bc174b331ad7",
        "colab": {
          "base_uri": "https://localhost:8080/"
        },
        "id": "Xt0bCR88LJne"
      },
      "execution_count": null,
      "outputs": [
        {
          "output_type": "stream",
          "name": "stderr",
          "text": [
            "100%|██████████| 451/451 [02:08<00:00,  3.50it/s]\n"
          ]
        }
      ]
    },
    {
      "cell_type": "code",
      "source": [
        "base_model_Incep = tf.keras.applications.InceptionV3(input_shape=(299, 299, 3), include_top=False, weights=\"imagenet\")\n",
        "base_model_Incep.trainable = True\n",
        "for layer in base_model_Incep.layers[:100]:    #fix w & bias in layer 0-100\n",
        "    layer.trainable = False\n",
        "\n",
        "#Add custom head\n",
        "average_pooling_layer = tf.keras.layers.GlobalAveragePooling2D()(base_model_Incep.output)\n",
        "prediction_layer = tf.keras.layers.Dense(units=2, activation=\"sigmold\")(average_pooling_layer)   # unit 2\n",
        "model_Incep = tf.keras.models.Model(inputs=base_model_Incep.input, outputs=prediction_layer)\n",
        "\n",
        "model_Incep.compile(optimizer=RMSprop(learning_rate=0.0001), loss=\"binary_crossentropy\", metrics=[\"accuracy\"])\n",
        "\n",
        "\n",
        "### K-fold\n",
        "kf_Incep = KFold(5, shuffle=True, random_state=40) \n",
        "\n",
        "oos_y = []\n",
        "oos_pred = []\n",
        "fold = 0\n",
        "\n",
        "for train, test in kf_Incep.split(data_Incep):\n",
        "    fold+=1   \n",
        "    print(f\"Fold #{fold}\")\n",
        "\n",
        "    filename = f\" {filepath}{fold}.h5 \"\n",
        "    checkpoint = ModelCheckpoint(filename, monitor='val_accuracy', verbose=1,   save_best_only=True, mode='max')\n",
        "        \n",
        "    x_train_Incep = data_Incep[train]\n",
        "    y_train_Incep = labels_Incep[train]\n",
        "    x_test_Incep = data_Incep[test]\n",
        "    y_test_Incep = labels_Incep[test]\n",
        "\n",
        "    H_Incep = model_Incep.fit( x=aug.flow(x_train_Incep, y_train_Incep, batch_size=BS),\n",
        "\t                                            validation_data=(x_test_Incep, y_test_Incep),\n",
        "\t                                            steps_per_epoch=len(x_train_Incep) // BS,\n",
        "\t                                            epochs=100,  callbacks = [callback,checkpoint,reduce_lr])\n",
        "\n",
        "    pred_Incep = model_Incep.predict(x_test_Incep)\n",
        "    \n",
        "    oos_y.append(y_test_Incep)\n",
        "    oos_pred.append(pred_Incep)  \n",
        "    print(classification_report(y_test_Incep.argmax(axis=1),\t                #แสดง report ค่า acc, recall, ...\n",
        "                                        pred_Incep.argmax(axis=1),  \n",
        "                                        target_names=le_Incep.classes_))\n",
        "    \n",
        "oos_y = np.concatenate(oos_y)\n",
        "oos_pred = np.concatenate(oos_pred)\n",
        "print(classification_report(oos_y.argmax(axis=1), oos_pred.argmax(axis=1),  target_names=le_Incep.classes_))"
      ],
      "metadata": {
        "id": "A6AhMncBLJnf"
      },
      "execution_count": null,
      "outputs": []
    },
    {
      "cell_type": "markdown",
      "source": [
        "#### 32 sig pre bi sgd\n",
        "--> "
      ],
      "metadata": {
        "id": "Irsh89pcLJnf"
      }
    },
    {
      "cell_type": "code",
      "source": [
        "BS = 32\n",
        "filepath = \"Kmodel32_sig_pre_bi_sgd\"                  ##\n",
        "\n",
        "train_img_Incep = []\n",
        "for ImageName in tqdm(data_train3['ImageName']):              \n",
        "    image_path = All_3class_dir +'/' + ImageName                  \n",
        "    img = cv2.imread(image_path)                                          \n",
        "    img = cv2.resize(img, (299, 299))                                      \n",
        "    train_img_Incep.append(img)\n",
        "data_Incep = np.array(train_img_Incep, dtype=\"float32\") / 255.0\n",
        "\n",
        "labels_Incep = np.array(data_train3[['NameType']] )        \n",
        "labels_Incep.shape = (len(labels_Incep),) \n",
        "le_Incep = LabelEncoder()                                                                     \n",
        "labels_Incep = le_Incep.fit_transform(labels_Incep)                                         \n",
        "labels_Incep = to_categorical(labels_Incep, num_classes=2)                   \n",
        "\n",
        "aug = ImageDataGenerator( rotation_range=15,\twidth_shift_range=0.1, \theight_shift_range=0.1,\n",
        "\t\tshear_range=0.15, \thorizontal_flip=True, \tfill_mode=\"nearest\")\n",
        "                                                                                                          \n",
        "callback = EarlyStopping( monitor= \"val_accuracy\",    patience=15,       mode=\"max\")\n",
        "\n",
        "# checkpoint = ModelCheckpoint(filepath, monitor='val_accuracy', verbose=1,   save_best_only=True, mode='max')\n",
        "                                                                                                            ##\n",
        "reduce_lr = ReduceLROnPlateau(monitor='val_accuracy', factor=0.5,   patience=6,     verbose=1, mode='max', min_lr=0.00001)"
      ],
      "metadata": {
        "outputId": "3f52f262-ffd4-40ae-8af3-bc174b331ad7",
        "colab": {
          "base_uri": "https://localhost:8080/"
        },
        "id": "ii9SAtQXLJng"
      },
      "execution_count": null,
      "outputs": [
        {
          "output_type": "stream",
          "name": "stderr",
          "text": [
            "100%|██████████| 451/451 [02:08<00:00,  3.50it/s]\n"
          ]
        }
      ]
    },
    {
      "cell_type": "code",
      "source": [
        "base_model_Incep = tf.keras.applications.InceptionV3(input_shape=(299, 299, 3), include_top=False, weights=\"imagenet\")\n",
        "base_model_Incep.trainable = True\n",
        "for layer in base_model_Incep.layers[:100]:    #fix w & bias in layer 0-100\n",
        "    layer.trainable = False\n",
        "\n",
        "#Add custom head\n",
        "average_pooling_layer = tf.keras.layers.GlobalAveragePooling2D()(base_model_Incep.output)\n",
        "prediction_layer = tf.keras.layers.Dense(units=2, activation=\"sigmold\")(average_pooling_layer)   # unit 2\n",
        "model_Incep = tf.keras.models.Model(inputs=base_model_Incep.input, outputs=prediction_layer)\n",
        "\n",
        "model_Incep.compile(optimizer=RMSprop(learning_rate=0.0001), loss=\"binary_crossentropy\", metrics=[\"accuracy\"])\n",
        "\n",
        "\n",
        "### K-fold\n",
        "kf_Incep = KFold(5, shuffle=True, random_state=40) \n",
        "\n",
        "oos_y = []\n",
        "oos_pred = []\n",
        "fold = 0\n",
        "\n",
        "for train, test in kf_Incep.split(data_Incep):\n",
        "    fold+=1   \n",
        "    print(f\"Fold #{fold}\")\n",
        "\n",
        "    filename = f\" {filepath}{fold}.h5 \"\n",
        "    checkpoint = ModelCheckpoint(filename, monitor='val_accuracy', verbose=1,   save_best_only=True, mode='max')\n",
        "        \n",
        "    x_train_Incep = data_Incep[train]\n",
        "    y_train_Incep = labels_Incep[train]\n",
        "    x_test_Incep = data_Incep[test]\n",
        "    y_test_Incep = labels_Incep[test]\n",
        "\n",
        "    H_Incep = model_Incep.fit( x=aug.flow(x_train_Incep, y_train_Incep, batch_size=BS),\n",
        "\t                                            validation_data=(x_test_Incep, y_test_Incep),\n",
        "\t                                            steps_per_epoch=len(x_train_Incep) // BS,\n",
        "\t                                            epochs=100,  callbacks = [callback,checkpoint,reduce_lr])\n",
        "\n",
        "    pred_Incep = model_Incep.predict(x_test_Incep)\n",
        "    \n",
        "    oos_y.append(y_test_Incep)\n",
        "    oos_pred.append(pred_Incep)  \n",
        "    print(classification_report(y_test_Incep.argmax(axis=1),\t                #แสดง report ค่า acc, recall, ...\n",
        "                                        pred_Incep.argmax(axis=1),  \n",
        "                                        target_names=le_Incep.classes_))\n",
        "    \n",
        "oos_y = np.concatenate(oos_y)\n",
        "oos_pred = np.concatenate(oos_pred)\n",
        "print(classification_report(oos_y.argmax(axis=1), oos_pred.argmax(axis=1),  target_names=le_Incep.classes_))"
      ],
      "metadata": {
        "id": "AiY_NsuELJng"
      },
      "execution_count": null,
      "outputs": []
    }
  ]
}