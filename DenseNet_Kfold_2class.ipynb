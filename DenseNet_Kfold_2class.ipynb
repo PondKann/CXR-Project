{
  "nbformat": 4,
  "nbformat_minor": 0,
  "metadata": {
    "colab": {
      "name": "DenseNet_Kfold_2class.ipynb",
      "provenance": [],
      "authorship_tag": "ABX9TyNyLs9TVIoxb3QGJFIybaCv",
      "include_colab_link": true
    },
    "kernelspec": {
      "name": "python3",
      "display_name": "Python 3"
    },
    "language_info": {
      "name": "python"
    }
  },
  "cells": [
    {
      "cell_type": "markdown",
      "metadata": {
        "id": "view-in-github",
        "colab_type": "text"
      },
      "source": [
        "<a href=\"https://colab.research.google.com/github/PondKann/CXR-Project/blob/main/DenseNet_Kfold_2class.ipynb\" target=\"_parent\"><img src=\"https://colab.research.google.com/assets/colab-badge.svg\" alt=\"Open In Colab\"/></a>"
      ]
    },
    {
      "cell_type": "code",
      "source": [
        ""
      ],
      "metadata": {
        "id": "DNHD8uIBJK2T"
      },
      "execution_count": null,
      "outputs": []
    },
    {
      "cell_type": "markdown",
      "source": [
        "# Sampling Abnormal K-fold 2 Class\n",
        "- Pretrained\n",
        "- sigmold\n",
        "- binary_crossentropy"
      ],
      "metadata": {
        "id": "6dK8qvUgOsY6"
      }
    },
    {
      "cell_type": "markdown",
      "source": [
        "### 1"
      ],
      "metadata": {
        "id": "02zpQqbXZjjC"
      }
    },
    {
      "cell_type": "markdown",
      "source": [
        "#### 1 sig pre bi\n",
        "--> "
      ],
      "metadata": {
        "id": "AjcZyiEEZjjC"
      }
    },
    {
      "cell_type": "code",
      "source": [
        "BS = 1\n",
        "filepath = \"Kmodel1_sig_pre_bi\"                  ##\n",
        "\n",
        "train_img_Dense = []\n",
        "for ImageName in tqdm(data_train3['ImageName']):               # รัน ชื่อรูป ในไฟล์ data_test3\n",
        "    image_path = All_3class_dir +'/' + ImageName                   # ดึงรูปในโฟล์เดอร์มาทีละรูป\n",
        "    img = cv2.imread(image_path)                                            # อ่านรูป\n",
        "    img = cv2.resize(img, (224, 224))                                       #ขนาดของ input\n",
        "    train_img_Dense.append(img)\n",
        "data_Dense = np.array(train_img_Dense, dtype=\"float32\") / 255.0\n",
        "\n",
        "labels_Dense = np.array(data_train3[['NameType']] )        \n",
        "labels_Dense.shape = (len(labels_Dense),) \n",
        "le_Dense = LabelEncoder()                                                                     \n",
        "labels_Dense = le_Dense.fit_transform(labels_Dense)                                         #จะแปลงชื่อ class เป็นตัวเลข 1, 2, 0 \n",
        "labels_Dense = to_categorical(labels_Dense, num_classes=2)                    \n",
        "\n",
        "aug = ImageDataGenerator( rotation_range=15,\twidth_shift_range=0.1, \theight_shift_range=0.1,\n",
        "\t\tshear_range=0.15, \thorizontal_flip=True, \tfill_mode=\"nearest\")\n",
        "                                                                                                          \n",
        "callback = EarlyStopping( monitor= \"val_accuracy\",    patience=15,       mode=\"max\")\n",
        "\n",
        "# checkpoint = ModelCheckpoint(filepath, monitor='val_accuracy', verbose=1,   save_best_only=True, mode='max')\n",
        "                                                                                                            ##\n",
        "reduce_lr = ReduceLROnPlateau(monitor='val_accuracy', factor=0.5,   patience=6,     verbose=1, mode='max', min_lr=0.00001)"
      ],
      "metadata": {
        "outputId": "8741a3e8-2d19-43a6-8086-241819a23a7f",
        "colab": {
          "base_uri": "https://localhost:8080/"
        },
        "id": "vILltezvZjjC"
      },
      "execution_count": null,
      "outputs": [
        {
          "output_type": "stream",
          "name": "stderr",
          "text": [
            "100%|██████████| 451/451 [00:10<00:00, 44.85it/s]\n"
          ]
        }
      ]
    },
    {
      "cell_type": "code",
      "source": [
        "base_model_Dense = tf.keras.applications.DenseNet201(input_shape=(224, 224, 3), include_top=False, weights=\"imagenet\")\n",
        "base_model_Dense.trainable=False\n",
        "#Add custom head\n",
        "average_pooling_layer = tf.keras.layers.GlobalAveragePooling2D()(base_model_Dense.output)\n",
        "prediction_layer = tf.keras.layers.Dense(units=2, activation=\"sigmoid\")(average_pooling_layer)   # unit 2\n",
        "model_Dense = tf.keras.models.Model(inputs=base_model_Dense.input, outputs=prediction_layer)\n",
        "model_Dense.compile(optimizer=tf.keras.optimizers.RMSprop(learning_rate=0.0001), loss=\"binary_crossentropy\", metrics=[\"accuracy\"])\n",
        "\n",
        "### K-fold\n",
        "kf = KFold(5, shuffle=True, random_state=40) \n",
        "\n",
        "oos_y = []\n",
        "oos_pred = []\n",
        "fold = 0\n",
        "\n",
        "for train, test in kf.split(data_Dense):\n",
        "    fold+=1\n",
        "    print(f\"Fold #{fold}\")\n",
        "\n",
        "    filename = f\" {filepath}{fold}.h5 \"\n",
        "    checkpoint = ModelCheckpoint(filename, monitor='val_accuracy', verbose=1,   save_best_only=True, mode='max')\n",
        "\n",
        "    x_train_Dense = data_Dense[train]\n",
        "    y_train_Dense = labels_Dense[train]\n",
        "    x_test_Dense = data_Dense[test]\n",
        "    y_test_Dense = labels_Dense[test]\n",
        "\n",
        "    H_Dense = model_Dense.fit( x=aug.flow(x_train_Dense, y_train_Dense, batch_size=BS),\n",
        "\t                                            validation_data=(x_test_Dense, y_test_Dense),\n",
        "\t                                            steps_per_epoch=len(x_train_Dense) // BS,\n",
        "\t                                            epochs=30,  callbacks = [callback,checkpoint,reduce_lr])\n",
        "    \n",
        "    pred_Dense = model_Dense.predict(x_test_Dense)\n",
        "    \n",
        "    oos_y.append(y_test_Dense)\n",
        "    oos_pred.append(pred_Dense)  \n",
        "    print(classification_report(y_test_Dense.argmax(axis=1),\t                #แสดง report ค่า acc, recall, ...\n",
        "                                        pred_Dense.argmax(axis=1),  \n",
        "                                        target_names=le_Dense.classes_))   \n",
        "    \n",
        "oos_y = np.concatenate(oos_y)\n",
        "oos_pred = np.concatenate(oos_pred)\n",
        "print(classification_report(oos_y.argmax(axis=1), oos_pred.argmax(axis=1),  target_names=le_Dense.classes_))"
      ],
      "metadata": {
        "id": "ppzco6gZZjjE"
      },
      "execution_count": null,
      "outputs": []
    },
    {
      "cell_type": "markdown",
      "source": [
        "#### 1 sig pre bi adam\n",
        "--> "
      ],
      "metadata": {
        "id": "bUxkc3DgZjjH"
      }
    },
    {
      "cell_type": "code",
      "source": [
        "BS = 1\n",
        "filepath = \"Kmodel1_sig_pre_bi_adam\"                  ##\n",
        "\n",
        "train_img_Dense = []\n",
        "for ImageName in tqdm(data_train3['ImageName']):               # รัน ชื่อรูป ในไฟล์ data_test3\n",
        "    image_path = All_3class_dir +'/' + ImageName                   # ดึงรูปในโฟล์เดอร์มาทีละรูป\n",
        "    img = cv2.imread(image_path)                                            # อ่านรูป\n",
        "    img = cv2.resize(img, (224, 224))                                       #ขนาดของ input\n",
        "    train_img_Dense.append(img)\n",
        "data_Dense = np.array(train_img_Dense, dtype=\"float32\") / 255.0\n",
        "\n",
        "labels_Dense = np.array(data_train3[['NameType']] )        \n",
        "labels_Dense.shape = (len(labels_Dense),) \n",
        "le_Dense = LabelEncoder()                                                                     \n",
        "labels_Dense = le_Dense.fit_transform(labels_Dense)                                         #จะแปลงชื่อ class เป็นตัวเลข 1, 2, 0 \n",
        "labels_Dense = to_categorical(labels_Dense, num_classes=2)                    \n",
        "\n",
        "aug = ImageDataGenerator( rotation_range=15,\twidth_shift_range=0.1, \theight_shift_range=0.1,\n",
        "\t\tshear_range=0.15, \thorizontal_flip=True, \tfill_mode=\"nearest\")\n",
        "                                                                                                          \n",
        "callback = EarlyStopping( monitor= \"val_accuracy\",    patience=15,       mode=\"max\")\n",
        "\n",
        "# checkpoint = ModelCheckpoint(filepath, monitor='val_accuracy', verbose=1,   save_best_only=True, mode='max')\n",
        "                                                                                                            ##\n",
        "reduce_lr = ReduceLROnPlateau(monitor='val_accuracy', factor=0.5,   patience=6,     verbose=1, mode='max', min_lr=0.00001)"
      ],
      "metadata": {
        "outputId": "3f52f262-ffd4-40ae-8af3-bc174b331ad7",
        "colab": {
          "base_uri": "https://localhost:8080/"
        },
        "id": "Ll_HyK1jZjjI"
      },
      "execution_count": null,
      "outputs": [
        {
          "output_type": "stream",
          "name": "stderr",
          "text": [
            "100%|██████████| 451/451 [02:08<00:00,  3.50it/s]\n"
          ]
        }
      ]
    },
    {
      "cell_type": "code",
      "source": [
        "base_model_Dense = tf.keras.applications.DenseNet201(input_shape=(224, 224, 3), include_top=False, weights=\"imagenet\")\n",
        "base_model_Dense.trainable=False\n",
        "#Add custom head\n",
        "average_pooling_layer = tf.keras.layers.GlobalAveragePooling2D()(base_model_Dense.output)\n",
        "prediction_layer = tf.keras.layers.Dense(units=2, activation=\"sigmoid\")(average_pooling_layer)   # unit 2\n",
        "model_Dense = tf.keras.models.Model(inputs=base_model_Dense.input, outputs=prediction_layer)\n",
        "model_Dense.compile(optimizer=Adam(learning_rate=0.0001), loss=\"binary_crossentropy\", metrics=[\"accuracy\"])\n",
        "\n",
        "### K-fold\n",
        "kf = KFold(5, shuffle=True, random_state=40) \n",
        "\n",
        "oos_y = []\n",
        "oos_pred = []\n",
        "fold = 0\n",
        "\n",
        "for train, test in kf.split(data_Dense):\n",
        "    fold+=1\n",
        "    print(f\"Fold #{fold}\")\n",
        "\n",
        "    filename = f\" {filepath}{fold}.h5 \"\n",
        "    checkpoint = ModelCheckpoint(filename, monitor='val_accuracy', verbose=1,   save_best_only=True, mode='max')\n",
        "\n",
        "    x_train_Dense = data_Dense[train]\n",
        "    y_train_Dense = labels_Dense[train]\n",
        "    x_test_Dense = data_Dense[test]\n",
        "    y_test_Dense = labels_Dense[test]\n",
        "\n",
        "    H_Dense = model_Dense.fit( x=aug.flow(x_train_Dense, y_train_Dense, batch_size=BS),\n",
        "\t                                            validation_data=(x_test_Dense, y_test_Dense),\n",
        "\t                                            steps_per_epoch=len(x_train_Dense) // BS,\n",
        "\t                                            epochs=30,  callbacks = [callback,checkpoint,reduce_lr])\n",
        "    \n",
        "    pred_Dense = model_Dense.predict(x_test_Dense)\n",
        "    \n",
        "    oos_y.append(y_test_Dense)\n",
        "    oos_pred.append(pred_Dense)  \n",
        "    print(classification_report(y_test_Dense.argmax(axis=1),\t                #แสดง report ค่า acc, recall, ...\n",
        "                                        pred_Dense.argmax(axis=1),  \n",
        "                                        target_names=le_Dense.classes_))   \n",
        "    \n",
        "oos_y = np.concatenate(oos_y)\n",
        "oos_pred = np.concatenate(oos_pred)\n",
        "print(classification_report(oos_y.argmax(axis=1), oos_pred.argmax(axis=1),  target_names=le_Dense.classes_))"
      ],
      "metadata": {
        "id": "ZYvwdzJQD2Cj"
      },
      "execution_count": null,
      "outputs": []
    },
    {
      "cell_type": "markdown",
      "source": [
        "#### 1 sig pre bi sgd\n",
        "--> "
      ],
      "metadata": {
        "id": "IRTBl3hjD_gB"
      }
    },
    {
      "cell_type": "code",
      "source": [
        "BS = 1\n",
        "filepath = \"Kmodel1_sig_pre_bi_sgd\"                  ##\n",
        "\n",
        "train_img_Dense = []\n",
        "for ImageName in tqdm(data_train3['ImageName']):               # รัน ชื่อรูป ในไฟล์ data_test3\n",
        "    image_path = All_3class_dir +'/' + ImageName                   # ดึงรูปในโฟล์เดอร์มาทีละรูป\n",
        "    img = cv2.imread(image_path)                                            # อ่านรูป\n",
        "    img = cv2.resize(img, (224, 224))                                       #ขนาดของ input\n",
        "    train_img_Dense.append(img)\n",
        "data_Dense = np.array(train_img_Dense, dtype=\"float32\") / 255.0\n",
        "\n",
        "labels_Dense = np.array(data_train3[['NameType']] )        \n",
        "labels_Dense.shape = (len(labels_Dense),) \n",
        "le_Dense = LabelEncoder()                                                                     \n",
        "labels_Dense = le_Dense.fit_transform(labels_Dense)                                         #จะแปลงชื่อ class เป็นตัวเลข 1, 2, 0 \n",
        "labels_Dense = to_categorical(labels_Dense, num_classes=2)                    \n",
        "\n",
        "aug = ImageDataGenerator( rotation_range=15,\twidth_shift_range=0.1, \theight_shift_range=0.1,\n",
        "\t\tshear_range=0.15, \thorizontal_flip=True, \tfill_mode=\"nearest\")\n",
        "                                                                                                          \n",
        "callback = EarlyStopping( monitor= \"val_accuracy\",    patience=15,       mode=\"max\")\n",
        "\n",
        "# checkpoint = ModelCheckpoint(filepath, monitor='val_accuracy', verbose=1,   save_best_only=True, mode='max')\n",
        "                                                                                                            ##\n",
        "reduce_lr = ReduceLROnPlateau(monitor='val_accuracy', factor=0.5,   patience=6,     verbose=1, mode='max', min_lr=0.00001)"
      ],
      "metadata": {
        "outputId": "3f52f262-ffd4-40ae-8af3-bc174b331ad7",
        "colab": {
          "base_uri": "https://localhost:8080/"
        },
        "id": "o7zQUMi2D_gB"
      },
      "execution_count": null,
      "outputs": [
        {
          "output_type": "stream",
          "name": "stderr",
          "text": [
            "100%|██████████| 451/451 [02:08<00:00,  3.50it/s]\n"
          ]
        }
      ]
    },
    {
      "cell_type": "code",
      "source": [
        "base_model_Dense = tf.keras.applications.DenseNet201(input_shape=(224, 224, 3), include_top=False, weights=\"imagenet\")\n",
        "base_model_Dense.trainable=False\n",
        "#Add custom head\n",
        "average_pooling_layer = tf.keras.layers.GlobalAveragePooling2D()(base_model_Dense.output)\n",
        "prediction_layer = tf.keras.layers.Dense(units=2, activation=\"sigmoid\")(average_pooling_layer)   # unit 2\n",
        "model_Dense = tf.keras.models.Model(inputs=base_model_Dense.input, outputs=prediction_layer)\n",
        "model_Dense.compile(optimizer=SGD(learning_rate=0.0001), loss=\"binary_crossentropy\", metrics=[\"accuracy\"])\n",
        "\n",
        "### K-fold\n",
        "kf = KFold(5, shuffle=True, random_state=40) \n",
        "\n",
        "oos_y = []\n",
        "oos_pred = []\n",
        "fold = 0\n",
        "\n",
        "for train, test in kf.split(data_Dense):\n",
        "    fold+=1\n",
        "    print(f\"Fold #{fold}\")\n",
        "\n",
        "    filename = f\" {filepath}{fold}.h5 \"\n",
        "    checkpoint = ModelCheckpoint(filename, monitor='val_accuracy', verbose=1,   save_best_only=True, mode='max')\n",
        "\n",
        "    x_train_Dense = data_Dense[train]\n",
        "    y_train_Dense = labels_Dense[train]\n",
        "    x_test_Dense = data_Dense[test]\n",
        "    y_test_Dense = labels_Dense[test]\n",
        "\n",
        "    H_Dense = model_Dense.fit( x=aug.flow(x_train_Dense, y_train_Dense, batch_size=BS),\n",
        "\t                                            validation_data=(x_test_Dense, y_test_Dense),\n",
        "\t                                            steps_per_epoch=len(x_train_Dense) // BS,\n",
        "\t                                            epochs=30,  callbacks = [callback,checkpoint,reduce_lr])\n",
        "    \n",
        "    pred_Dense = model_Dense.predict(x_test_Dense)\n",
        "    \n",
        "    oos_y.append(y_test_Dense)\n",
        "    oos_pred.append(pred_Dense)  \n",
        "    print(classification_report(y_test_Dense.argmax(axis=1),\t                #แสดง report ค่า acc, recall, ...\n",
        "                                        pred_Dense.argmax(axis=1),  \n",
        "                                        target_names=le_Dense.classes_))   \n",
        "    \n",
        "oos_y = np.concatenate(oos_y)\n",
        "oos_pred = np.concatenate(oos_pred)\n",
        "print(classification_report(oos_y.argmax(axis=1), oos_pred.argmax(axis=1),  target_names=le_Dense.classes_))"
      ],
      "metadata": {
        "id": "6DjS6Xl7D_gC"
      },
      "execution_count": null,
      "outputs": []
    },
    {
      "cell_type": "markdown",
      "source": [
        "### 8"
      ],
      "metadata": {
        "id": "xhVuhh_eEk4n"
      }
    },
    {
      "cell_type": "markdown",
      "source": [
        "#### 8  sig pre bi\n",
        "--> "
      ],
      "metadata": {
        "id": "oJSxN2-pEk4o"
      }
    },
    {
      "cell_type": "code",
      "source": [
        "BS = 8\n",
        "filepath = \"Kmodel8_sig_pre_bi\"                  ##\n",
        "\n",
        "train_img_Dense = []\n",
        "for ImageName in tqdm(data_train3['ImageName']):               # รัน ชื่อรูป ในไฟล์ data_test3\n",
        "    image_path = All_3class_dir +'/' + ImageName                   # ดึงรูปในโฟล์เดอร์มาทีละรูป\n",
        "    img = cv2.imread(image_path)                                            # อ่านรูป\n",
        "    img = cv2.resize(img, (224, 224))                                       #ขนาดของ input\n",
        "    train_img_Dense.append(img)\n",
        "data_Dense = np.array(train_img_Dense, dtype=\"float32\") / 255.0\n",
        "\n",
        "labels_Dense = np.array(data_train3[['NameType']] )        \n",
        "labels_Dense.shape = (len(labels_Dense),) \n",
        "le_Dense = LabelEncoder()                                                                     \n",
        "labels_Dense = le_Dense.fit_transform(labels_Dense)                                         #จะแปลงชื่อ class เป็นตัวเลข 1, 2, 0 \n",
        "labels_Dense = to_categorical(labels_Dense, num_classes=2)                    \n",
        "\n",
        "aug = ImageDataGenerator( rotation_range=15,\twidth_shift_range=0.1, \theight_shift_range=0.1,\n",
        "\t\tshear_range=0.15, \thorizontal_flip=True, \tfill_mode=\"nearest\")\n",
        "                                                                                                          \n",
        "callback = EarlyStopping( monitor= \"val_accuracy\",    patience=15,       mode=\"max\")\n",
        "\n",
        "# checkpoint = ModelCheckpoint(filepath, monitor='val_accuracy', verbose=1,   save_best_only=True, mode='max')\n",
        "                                                                                                            ##\n",
        "reduce_lr = ReduceLROnPlateau(monitor='val_accuracy', factor=0.5,   patience=6,     verbose=1, mode='max', min_lr=0.00001)"
      ],
      "metadata": {
        "outputId": "8741a3e8-2d19-43a6-8086-241819a23a7f",
        "colab": {
          "base_uri": "https://localhost:8080/"
        },
        "id": "8faWH0E-Ek4o"
      },
      "execution_count": null,
      "outputs": [
        {
          "output_type": "stream",
          "name": "stderr",
          "text": [
            "100%|██████████| 451/451 [00:10<00:00, 44.85it/s]\n"
          ]
        }
      ]
    },
    {
      "cell_type": "code",
      "source": [
        "base_model_Dense = tf.keras.applications.DenseNet201(input_shape=(224, 224, 3), include_top=False, weights=\"imagenet\")\n",
        "base_model_Dense.trainable=False\n",
        "#Add custom head\n",
        "average_pooling_layer = tf.keras.layers.GlobalAveragePooling2D()(base_model_Dense.output)\n",
        "prediction_layer = tf.keras.layers.Dense(units=2, activation=\"sigmoid\")(average_pooling_layer)   # unit 2\n",
        "model_Dense = tf.keras.models.Model(inputs=base_model_Dense.input, outputs=prediction_layer)\n",
        "model_Dense.compile(optimizer=tf.keras.optimizers.RMSprop(learning_rate=0.0001), loss=\"binary_crossentropy\", metrics=[\"accuracy\"])\n",
        "\n",
        "### K-fold\n",
        "kf = KFold(5, shuffle=True, random_state=40) \n",
        "\n",
        "oos_y = []\n",
        "oos_pred = []\n",
        "fold = 0\n",
        "\n",
        "for train, test in kf.split(data_Dense):\n",
        "    fold+=1\n",
        "    print(f\"Fold #{fold}\")\n",
        "\n",
        "    filename = f\" {filepath}{fold}.h5 \"\n",
        "    checkpoint = ModelCheckpoint(filename, monitor='val_accuracy', verbose=1,   save_best_only=True, mode='max')\n",
        "\n",
        "    x_train_Dense = data_Dense[train]\n",
        "    y_train_Dense = labels_Dense[train]\n",
        "    x_test_Dense = data_Dense[test]\n",
        "    y_test_Dense = labels_Dense[test]\n",
        "\n",
        "    H_Dense = model_Dense.fit( x=aug.flow(x_train_Dense, y_train_Dense, batch_size=BS),\n",
        "\t                                            validation_data=(x_test_Dense, y_test_Dense),\n",
        "\t                                            steps_per_epoch=len(x_train_Dense) // BS,\n",
        "\t                                            epochs=30,  callbacks = [callback,checkpoint,reduce_lr])\n",
        "    \n",
        "    pred_Dense = model_Dense.predict(x_test_Dense)\n",
        "    \n",
        "    oos_y.append(y_test_Dense)\n",
        "    oos_pred.append(pred_Dense)  \n",
        "    print(classification_report(y_test_Dense.argmax(axis=1),\t                #แสดง report ค่า acc, recall, ...\n",
        "                                        pred_Dense.argmax(axis=1),  \n",
        "                                        target_names=le_Dense.classes_))   \n",
        "    \n",
        "oos_y = np.concatenate(oos_y)\n",
        "oos_pred = np.concatenate(oos_pred)\n",
        "print(classification_report(oos_y.argmax(axis=1), oos_pred.argmax(axis=1),  target_names=le_Dense.classes_))"
      ],
      "metadata": {
        "id": "8FMqtN3XEk4p"
      },
      "execution_count": null,
      "outputs": []
    },
    {
      "cell_type": "markdown",
      "source": [
        "#### 8 sig pre bi adam\n",
        "--> "
      ],
      "metadata": {
        "id": "eq0lWZPOEk4p"
      }
    },
    {
      "cell_type": "code",
      "source": [
        "BS = 8\n",
        "filepath = \"Kmodel8_sig_pre_bi_adam\"                  ##\n",
        "\n",
        "train_img_Dense = []\n",
        "for ImageName in tqdm(data_train3['ImageName']):               # รัน ชื่อรูป ในไฟล์ data_test3\n",
        "    image_path = All_3class_dir +'/' + ImageName                   # ดึงรูปในโฟล์เดอร์มาทีละรูป\n",
        "    img = cv2.imread(image_path)                                            # อ่านรูป\n",
        "    img = cv2.resize(img, (224, 224))                                       #ขนาดของ input\n",
        "    train_img_Dense.append(img)\n",
        "data_Dense = np.array(train_img_Dense, dtype=\"float32\") / 255.0\n",
        "\n",
        "labels_Dense = np.array(data_train3[['NameType']] )        \n",
        "labels_Dense.shape = (len(labels_Dense),) \n",
        "le_Dense = LabelEncoder()                                                                     \n",
        "labels_Dense = le_Dense.fit_transform(labels_Dense)                                         #จะแปลงชื่อ class เป็นตัวเลข 1, 2, 0 \n",
        "labels_Dense = to_categorical(labels_Dense, num_classes=2)                    \n",
        "\n",
        "aug = ImageDataGenerator( rotation_range=15,\twidth_shift_range=0.1, \theight_shift_range=0.1,\n",
        "\t\tshear_range=0.15, \thorizontal_flip=True, \tfill_mode=\"nearest\")\n",
        "                                                                                                          \n",
        "callback = EarlyStopping( monitor= \"val_accuracy\",    patience=15,       mode=\"max\")\n",
        "\n",
        "# checkpoint = ModelCheckpoint(filepath, monitor='val_accuracy', verbose=1,   save_best_only=True, mode='max')\n",
        "                                                                                                            ##\n",
        "reduce_lr = ReduceLROnPlateau(monitor='val_accuracy', factor=0.5,   patience=6,     verbose=1, mode='max', min_lr=0.00001)"
      ],
      "metadata": {
        "outputId": "3f52f262-ffd4-40ae-8af3-bc174b331ad7",
        "colab": {
          "base_uri": "https://localhost:8080/"
        },
        "id": "Pey0HWp1Ek4p"
      },
      "execution_count": null,
      "outputs": [
        {
          "output_type": "stream",
          "name": "stderr",
          "text": [
            "100%|██████████| 451/451 [02:08<00:00,  3.50it/s]\n"
          ]
        }
      ]
    },
    {
      "cell_type": "code",
      "source": [
        "base_model_Dense = tf.keras.applications.DenseNet201(input_shape=(224, 224, 3), include_top=False, weights=\"imagenet\")\n",
        "base_model_Dense.trainable=False\n",
        "#Add custom head\n",
        "average_pooling_layer = tf.keras.layers.GlobalAveragePooling2D()(base_model_Dense.output)\n",
        "prediction_layer = tf.keras.layers.Dense(units=2, activation=\"sigmoid\")(average_pooling_layer)   # unit 2\n",
        "model_Dense = tf.keras.models.Model(inputs=base_model_Dense.input, outputs=prediction_layer)\n",
        "model_Dense.compile(optimizer=Adam(learning_rate=0.0001), loss=\"binary_crossentropy\", metrics=[\"accuracy\"])\n",
        "\n",
        "### K-fold\n",
        "kf = KFold(5, shuffle=True, random_state=40) \n",
        "\n",
        "oos_y = []\n",
        "oos_pred = []\n",
        "fold = 0\n",
        "\n",
        "for train, test in kf.split(data_Dense):\n",
        "    fold+=1\n",
        "    print(f\"Fold #{fold}\")\n",
        "\n",
        "    filename = f\" {filepath}{fold}.h5 \"\n",
        "    checkpoint = ModelCheckpoint(filename, monitor='val_accuracy', verbose=1,   save_best_only=True, mode='max')\n",
        "\n",
        "    x_train_Dense = data_Dense[train]\n",
        "    y_train_Dense = labels_Dense[train]\n",
        "    x_test_Dense = data_Dense[test]\n",
        "    y_test_Dense = labels_Dense[test]\n",
        "\n",
        "    H_Dense = model_Dense.fit( x=aug.flow(x_train_Dense, y_train_Dense, batch_size=BS),\n",
        "\t                                            validation_data=(x_test_Dense, y_test_Dense),\n",
        "\t                                            steps_per_epoch=len(x_train_Dense) // BS,\n",
        "\t                                            epochs=30,  callbacks = [callback,checkpoint,reduce_lr])\n",
        "    \n",
        "    pred_Dense = model_Dense.predict(x_test_Dense)\n",
        "    \n",
        "    oos_y.append(y_test_Dense)\n",
        "    oos_pred.append(pred_Dense)  \n",
        "    print(classification_report(y_test_Dense.argmax(axis=1),\t                #แสดง report ค่า acc, recall, ...\n",
        "                                        pred_Dense.argmax(axis=1),  \n",
        "                                        target_names=le_Dense.classes_))   \n",
        "    \n",
        "oos_y = np.concatenate(oos_y)\n",
        "oos_pred = np.concatenate(oos_pred)\n",
        "print(classification_report(oos_y.argmax(axis=1), oos_pred.argmax(axis=1),  target_names=le_Dense.classes_))"
      ],
      "metadata": {
        "id": "M2pVNEZdEk4q"
      },
      "execution_count": null,
      "outputs": []
    },
    {
      "cell_type": "markdown",
      "source": [
        "#### 8 sig pre bi sgd\n",
        "--> "
      ],
      "metadata": {
        "id": "Bld9lfsOEk4q"
      }
    },
    {
      "cell_type": "code",
      "source": [
        "BS = 8\n",
        "filepath = \"Kmodel8_sig_pre_bi_sgd\"                  ##\n",
        "\n",
        "train_img_Dense = []\n",
        "for ImageName in tqdm(data_train3['ImageName']):               # รัน ชื่อรูป ในไฟล์ data_test3\n",
        "    image_path = All_3class_dir +'/' + ImageName                   # ดึงรูปในโฟล์เดอร์มาทีละรูป\n",
        "    img = cv2.imread(image_path)                                            # อ่านรูป\n",
        "    img = cv2.resize(img, (224, 224))                                       #ขนาดของ input\n",
        "    train_img_Dense.append(img)\n",
        "data_Dense = np.array(train_img_Dense, dtype=\"float32\") / 255.0\n",
        "\n",
        "labels_Dense = np.array(data_train3[['NameType']] )        \n",
        "labels_Dense.shape = (len(labels_Dense),) \n",
        "le_Dense = LabelEncoder()                                                                     \n",
        "labels_Dense = le_Dense.fit_transform(labels_Dense)                                         #จะแปลงชื่อ class เป็นตัวเลข 1, 2, 0 \n",
        "labels_Dense = to_categorical(labels_Dense, num_classes=2)                    \n",
        "\n",
        "aug = ImageDataGenerator( rotation_range=15,\twidth_shift_range=0.1, \theight_shift_range=0.1,\n",
        "\t\tshear_range=0.15, \thorizontal_flip=True, \tfill_mode=\"nearest\")\n",
        "                                                                                                          \n",
        "callback = EarlyStopping( monitor= \"val_accuracy\",    patience=15,       mode=\"max\")\n",
        "\n",
        "# checkpoint = ModelCheckpoint(filepath, monitor='val_accuracy', verbose=1,   save_best_only=True, mode='max')\n",
        "                                                                                                            ##\n",
        "reduce_lr = ReduceLROnPlateau(monitor='val_accuracy', factor=0.5,   patience=6,     verbose=1, mode='max', min_lr=0.00001)"
      ],
      "metadata": {
        "outputId": "3f52f262-ffd4-40ae-8af3-bc174b331ad7",
        "colab": {
          "base_uri": "https://localhost:8080/"
        },
        "id": "OpMvis9tEk4r"
      },
      "execution_count": null,
      "outputs": [
        {
          "output_type": "stream",
          "name": "stderr",
          "text": [
            "100%|██████████| 451/451 [02:08<00:00,  3.50it/s]\n"
          ]
        }
      ]
    },
    {
      "cell_type": "code",
      "source": [
        "base_model_Dense = tf.keras.applications.DenseNet201(input_shape=(224, 224, 3), include_top=False, weights=\"imagenet\")\n",
        "base_model_Dense.trainable=False\n",
        "#Add custom head\n",
        "average_pooling_layer = tf.keras.layers.GlobalAveragePooling2D()(base_model_Dense.output)\n",
        "prediction_layer = tf.keras.layers.Dense(units=2, activation=\"sigmoid\")(average_pooling_layer)   # unit 2\n",
        "model_Dense = tf.keras.models.Model(inputs=base_model_Dense.input, outputs=prediction_layer)\n",
        "model_Dense.compile(optimizer=SGD(learning_rate=0.0001), loss=\"binary_crossentropy\", metrics=[\"accuracy\"])\n",
        "\n",
        "### K-fold\n",
        "kf = KFold(5, shuffle=True, random_state=40) \n",
        "\n",
        "oos_y = []\n",
        "oos_pred = []\n",
        "fold = 0\n",
        "\n",
        "for train, test in kf.split(data_Dense):\n",
        "    fold+=1\n",
        "    print(f\"Fold #{fold}\")\n",
        "\n",
        "    filename = f\" {filepath}{fold}.h5 \"\n",
        "    checkpoint = ModelCheckpoint(filename, monitor='val_accuracy', verbose=1,   save_best_only=True, mode='max')\n",
        "\n",
        "    x_train_Dense = data_Dense[train]\n",
        "    y_train_Dense = labels_Dense[train]\n",
        "    x_test_Dense = data_Dense[test]\n",
        "    y_test_Dense = labels_Dense[test]\n",
        "\n",
        "    H_Dense = model_Dense.fit( x=aug.flow(x_train_Dense, y_train_Dense, batch_size=BS),\n",
        "\t                                            validation_data=(x_test_Dense, y_test_Dense),\n",
        "\t                                            steps_per_epoch=len(x_train_Dense) // BS,\n",
        "\t                                            epochs=30,  callbacks = [callback,checkpoint,reduce_lr])\n",
        "    \n",
        "    pred_Dense = model_Dense.predict(x_test_Dense)\n",
        "    \n",
        "    oos_y.append(y_test_Dense)\n",
        "    oos_pred.append(pred_Dense)  \n",
        "    print(classification_report(y_test_Dense.argmax(axis=1),\t                #แสดง report ค่า acc, recall, ...\n",
        "                                        pred_Dense.argmax(axis=1),  \n",
        "                                        target_names=le_Dense.classes_))   \n",
        "    \n",
        "oos_y = np.concatenate(oos_y)\n",
        "oos_pred = np.concatenate(oos_pred)\n",
        "print(classification_report(oos_y.argmax(axis=1), oos_pred.argmax(axis=1),  target_names=le_Dense.classes_))"
      ],
      "metadata": {
        "id": "DWeGhpByEk4r"
      },
      "execution_count": null,
      "outputs": []
    },
    {
      "cell_type": "markdown",
      "source": [
        "### 16"
      ],
      "metadata": {
        "id": "zGqnqOK0Ecr8"
      }
    },
    {
      "cell_type": "markdown",
      "source": [
        "#### 16  sig pre bi\n",
        "--> "
      ],
      "metadata": {
        "id": "LoFGDV27Ecr9"
      }
    },
    {
      "cell_type": "code",
      "source": [
        "BS = 16\n",
        "filepath = \"Kmodel16_sig_pre_bi\"                  ##\n",
        "\n",
        "train_img_Dense = []\n",
        "for ImageName in tqdm(data_train3['ImageName']):               # รัน ชื่อรูป ในไฟล์ data_test3\n",
        "    image_path = All_3class_dir +'/' + ImageName                   # ดึงรูปในโฟล์เดอร์มาทีละรูป\n",
        "    img = cv2.imread(image_path)                                            # อ่านรูป\n",
        "    img = cv2.resize(img, (224, 224))                                       #ขนาดของ input\n",
        "    train_img_Dense.append(img)\n",
        "data_Dense = np.array(train_img_Dense, dtype=\"float32\") / 255.0\n",
        "\n",
        "labels_Dense = np.array(data_train3[['NameType']] )        \n",
        "labels_Dense.shape = (len(labels_Dense),) \n",
        "le_Dense = LabelEncoder()                                                                     \n",
        "labels_Dense = le_Dense.fit_transform(labels_Dense)                                         #จะแปลงชื่อ class เป็นตัวเลข 1, 2, 0 \n",
        "labels_Dense = to_categorical(labels_Dense, num_classes=2)                    \n",
        "\n",
        "aug = ImageDataGenerator( rotation_range=15,\twidth_shift_range=0.1, \theight_shift_range=0.1,\n",
        "\t\tshear_range=0.15, \thorizontal_flip=True, \tfill_mode=\"nearest\")\n",
        "                                                                                                          \n",
        "callback = EarlyStopping( monitor= \"val_accuracy\",    patience=15,       mode=\"max\")\n",
        "\n",
        "# checkpoint = ModelCheckpoint(filepath, monitor='val_accuracy', verbose=1,   save_best_only=True, mode='max')\n",
        "                                                                                                            ##\n",
        "reduce_lr = ReduceLROnPlateau(monitor='val_accuracy', factor=0.5,   patience=6,     verbose=1, mode='max', min_lr=0.00001)"
      ],
      "metadata": {
        "outputId": "8741a3e8-2d19-43a6-8086-241819a23a7f",
        "colab": {
          "base_uri": "https://localhost:8080/"
        },
        "id": "c6Ik94PzEcr9"
      },
      "execution_count": null,
      "outputs": [
        {
          "output_type": "stream",
          "name": "stderr",
          "text": [
            "100%|██████████| 451/451 [00:10<00:00, 44.85it/s]\n"
          ]
        }
      ]
    },
    {
      "cell_type": "code",
      "source": [
        "base_model_Dense = tf.keras.applications.DenseNet201(input_shape=(224, 224, 3), include_top=False, weights=\"imagenet\")\n",
        "base_model_Dense.trainable=False\n",
        "#Add custom head\n",
        "average_pooling_layer = tf.keras.layers.GlobalAveragePooling2D()(base_model_Dense.output)\n",
        "prediction_layer = tf.keras.layers.Dense(units=2, activation=\"sigmoid\")(average_pooling_layer)   # unit 2\n",
        "model_Dense = tf.keras.models.Model(inputs=base_model_Dense.input, outputs=prediction_layer)\n",
        "model_Dense.compile(optimizer=tf.keras.optimizers.RMSprop(learning_rate=0.0001), loss=\"binary_crossentropy\", metrics=[\"accuracy\"])\n",
        "\n",
        "### K-fold\n",
        "kf = KFold(5, shuffle=True, random_state=40) \n",
        "\n",
        "oos_y = []\n",
        "oos_pred = []\n",
        "fold = 0\n",
        "\n",
        "for train, test in kf.split(data_Dense):\n",
        "    fold+=1\n",
        "    print(f\"Fold #{fold}\")\n",
        "\n",
        "    filename = f\" {filepath}{fold}.h5 \"\n",
        "    checkpoint = ModelCheckpoint(filename, monitor='val_accuracy', verbose=1,   save_best_only=True, mode='max')\n",
        "\n",
        "    x_train_Dense = data_Dense[train]\n",
        "    y_train_Dense = labels_Dense[train]\n",
        "    x_test_Dense = data_Dense[test]\n",
        "    y_test_Dense = labels_Dense[test]\n",
        "\n",
        "    H_Dense = model_Dense.fit( x=aug.flow(x_train_Dense, y_train_Dense, batch_size=BS),\n",
        "\t                                            validation_data=(x_test_Dense, y_test_Dense),\n",
        "\t                                            steps_per_epoch=len(x_train_Dense) // BS,\n",
        "\t                                            epochs=30,  callbacks = [callback,checkpoint,reduce_lr])\n",
        "    \n",
        "    pred_Dense = model_Dense.predict(x_test_Dense)\n",
        "    \n",
        "    oos_y.append(y_test_Dense)\n",
        "    oos_pred.append(pred_Dense)  \n",
        "    print(classification_report(y_test_Dense.argmax(axis=1),\t                #แสดง report ค่า acc, recall, ...\n",
        "                                        pred_Dense.argmax(axis=1),  \n",
        "                                        target_names=le_Dense.classes_))   \n",
        "    \n",
        "oos_y = np.concatenate(oos_y)\n",
        "oos_pred = np.concatenate(oos_pred)\n",
        "print(classification_report(oos_y.argmax(axis=1), oos_pred.argmax(axis=1),  target_names=le_Dense.classes_))"
      ],
      "metadata": {
        "id": "BuToUSvaEcr9"
      },
      "execution_count": null,
      "outputs": []
    },
    {
      "cell_type": "markdown",
      "source": [
        "#### 16 sig pre bi adam\n",
        "--> "
      ],
      "metadata": {
        "id": "ccCyJaIHEcr-"
      }
    },
    {
      "cell_type": "code",
      "source": [
        "BS = 16\n",
        "filepath = \"Kmodel16_sig_pre_bi_adam\"                  ##\n",
        "\n",
        "train_img_Dense = []\n",
        "for ImageName in tqdm(data_train3['ImageName']):               # รัน ชื่อรูป ในไฟล์ data_test3\n",
        "    image_path = All_3class_dir +'/' + ImageName                   # ดึงรูปในโฟล์เดอร์มาทีละรูป\n",
        "    img = cv2.imread(image_path)                                            # อ่านรูป\n",
        "    img = cv2.resize(img, (224, 224))                                       #ขนาดของ input\n",
        "    train_img_Dense.append(img)\n",
        "data_Dense = np.array(train_img_Dense, dtype=\"float32\") / 255.0\n",
        "\n",
        "labels_Dense = np.array(data_train3[['NameType']] )        \n",
        "labels_Dense.shape = (len(labels_Dense),) \n",
        "le_Dense = LabelEncoder()                                                                     \n",
        "labels_Dense = le_Dense.fit_transform(labels_Dense)                                         #จะแปลงชื่อ class เป็นตัวเลข 1, 2, 0 \n",
        "labels_Dense = to_categorical(labels_Dense, num_classes=2)                    \n",
        "\n",
        "aug = ImageDataGenerator( rotation_range=15,\twidth_shift_range=0.1, \theight_shift_range=0.1,\n",
        "\t\tshear_range=0.15, \thorizontal_flip=True, \tfill_mode=\"nearest\")\n",
        "                                                                                                          \n",
        "callback = EarlyStopping( monitor= \"val_accuracy\",    patience=15,       mode=\"max\")\n",
        "\n",
        "# checkpoint = ModelCheckpoint(filepath, monitor='val_accuracy', verbose=1,   save_best_only=True, mode='max')\n",
        "                                                                                                            ##\n",
        "reduce_lr = ReduceLROnPlateau(monitor='val_accuracy', factor=0.5,   patience=6,     verbose=1, mode='max', min_lr=0.00001)"
      ],
      "metadata": {
        "outputId": "3f52f262-ffd4-40ae-8af3-bc174b331ad7",
        "colab": {
          "base_uri": "https://localhost:8080/"
        },
        "id": "z-X1oLpbEcr-"
      },
      "execution_count": null,
      "outputs": [
        {
          "output_type": "stream",
          "name": "stderr",
          "text": [
            "100%|██████████| 451/451 [02:08<00:00,  3.50it/s]\n"
          ]
        }
      ]
    },
    {
      "cell_type": "code",
      "source": [
        "base_model_Dense = tf.keras.applications.DenseNet201(input_shape=(224, 224, 3), include_top=False, weights=\"imagenet\")\n",
        "base_model_Dense.trainable=False\n",
        "#Add custom head\n",
        "average_pooling_layer = tf.keras.layers.GlobalAveragePooling2D()(base_model_Dense.output)\n",
        "prediction_layer = tf.keras.layers.Dense(units=2, activation=\"sigmoid\")(average_pooling_layer)   # unit 2\n",
        "model_Dense = tf.keras.models.Model(inputs=base_model_Dense.input, outputs=prediction_layer)\n",
        "model_Dense.compile(optimizer=Adam(learning_rate=0.0001), loss=\"binary_crossentropy\", metrics=[\"accuracy\"])\n",
        "\n",
        "### K-fold\n",
        "kf = KFold(5, shuffle=True, random_state=40) \n",
        "\n",
        "oos_y = []\n",
        "oos_pred = []\n",
        "fold = 0\n",
        "\n",
        "for train, test in kf.split(data_Dense):\n",
        "    fold+=1\n",
        "    print(f\"Fold #{fold}\")\n",
        "\n",
        "    filename = f\" {filepath}{fold}.h5 \"\n",
        "    checkpoint = ModelCheckpoint(filename, monitor='val_accuracy', verbose=1,   save_best_only=True, mode='max')\n",
        "\n",
        "    x_train_Dense = data_Dense[train]\n",
        "    y_train_Dense = labels_Dense[train]\n",
        "    x_test_Dense = data_Dense[test]\n",
        "    y_test_Dense = labels_Dense[test]\n",
        "\n",
        "    H_Dense = model_Dense.fit( x=aug.flow(x_train_Dense, y_train_Dense, batch_size=BS),\n",
        "\t                                            validation_data=(x_test_Dense, y_test_Dense),\n",
        "\t                                            steps_per_epoch=len(x_train_Dense) // BS,\n",
        "\t                                            epochs=30,  callbacks = [callback,checkpoint,reduce_lr])\n",
        "    \n",
        "    pred_Dense = model_Dense.predict(x_test_Dense)\n",
        "    \n",
        "    oos_y.append(y_test_Dense)\n",
        "    oos_pred.append(pred_Dense)  \n",
        "    print(classification_report(y_test_Dense.argmax(axis=1),\t                #แสดง report ค่า acc, recall, ...\n",
        "                                        pred_Dense.argmax(axis=1),  \n",
        "                                        target_names=le_Dense.classes_))   \n",
        "    \n",
        "oos_y = np.concatenate(oos_y)\n",
        "oos_pred = np.concatenate(oos_pred)\n",
        "print(classification_report(oos_y.argmax(axis=1), oos_pred.argmax(axis=1),  target_names=le_Dense.classes_))"
      ],
      "metadata": {
        "id": "TNnxQQgtEcr-"
      },
      "execution_count": null,
      "outputs": []
    },
    {
      "cell_type": "markdown",
      "source": [
        "#### 16 sig pre bi sgd\n",
        "--> "
      ],
      "metadata": {
        "id": "OsDdrmK9Ecr_"
      }
    },
    {
      "cell_type": "code",
      "source": [
        "BS = 16\n",
        "filepath = \"Kmodel16_sig_pre_bi_sgd\"                  ##\n",
        "\n",
        "train_img_Dense = []\n",
        "for ImageName in tqdm(data_train3['ImageName']):               # รัน ชื่อรูป ในไฟล์ data_test3\n",
        "    image_path = All_3class_dir +'/' + ImageName                   # ดึงรูปในโฟล์เดอร์มาทีละรูป\n",
        "    img = cv2.imread(image_path)                                            # อ่านรูป\n",
        "    img = cv2.resize(img, (224, 224))                                       #ขนาดของ input\n",
        "    train_img_Dense.append(img)\n",
        "data_Dense = np.array(train_img_Dense, dtype=\"float32\") / 255.0\n",
        "\n",
        "labels_Dense = np.array(data_train3[['NameType']] )        \n",
        "labels_Dense.shape = (len(labels_Dense),) \n",
        "le_Dense = LabelEncoder()                                                                     \n",
        "labels_Dense = le_Dense.fit_transform(labels_Dense)                                         #จะแปลงชื่อ class เป็นตัวเลข 1, 2, 0 \n",
        "labels_Dense = to_categorical(labels_Dense, num_classes=2)                    \n",
        "\n",
        "aug = ImageDataGenerator( rotation_range=15,\twidth_shift_range=0.1, \theight_shift_range=0.1,\n",
        "\t\tshear_range=0.15, \thorizontal_flip=True, \tfill_mode=\"nearest\")\n",
        "                                                                                                          \n",
        "callback = EarlyStopping( monitor= \"val_accuracy\",    patience=15,       mode=\"max\")\n",
        "\n",
        "# checkpoint = ModelCheckpoint(filepath, monitor='val_accuracy', verbose=1,   save_best_only=True, mode='max')\n",
        "                                                                                                            ##\n",
        "reduce_lr = ReduceLROnPlateau(monitor='val_accuracy', factor=0.5,   patience=6,     verbose=1, mode='max', min_lr=0.00001)"
      ],
      "metadata": {
        "outputId": "3f52f262-ffd4-40ae-8af3-bc174b331ad7",
        "colab": {
          "base_uri": "https://localhost:8080/"
        },
        "id": "8UUjQ6bXEcr_"
      },
      "execution_count": null,
      "outputs": [
        {
          "output_type": "stream",
          "name": "stderr",
          "text": [
            "100%|██████████| 451/451 [02:08<00:00,  3.50it/s]\n"
          ]
        }
      ]
    },
    {
      "cell_type": "code",
      "source": [
        "base_model_Dense = tf.keras.applications.DenseNet201(input_shape=(224, 224, 3), include_top=False, weights=\"imagenet\")\n",
        "base_model_Dense.trainable=False\n",
        "#Add custom head\n",
        "average_pooling_layer = tf.keras.layers.GlobalAveragePooling2D()(base_model_Dense.output)\n",
        "prediction_layer = tf.keras.layers.Dense(units=2, activation=\"sigmoid\")(average_pooling_layer)   # unit 2\n",
        "model_Dense = tf.keras.models.Model(inputs=base_model_Dense.input, outputs=prediction_layer)\n",
        "model_Dense.compile(optimizer=SGD(learning_rate=0.0001), loss=\"binary_crossentropy\", metrics=[\"accuracy\"])\n",
        "\n",
        "### K-fold\n",
        "kf = KFold(5, shuffle=True, random_state=40) \n",
        "\n",
        "oos_y = []\n",
        "oos_pred = []\n",
        "fold = 0\n",
        "\n",
        "for train, test in kf.split(data_Dense):\n",
        "    fold+=1\n",
        "    print(f\"Fold #{fold}\")\n",
        "\n",
        "    filename = f\" {filepath}{fold}.h5 \"\n",
        "    checkpoint = ModelCheckpoint(filename, monitor='val_accuracy', verbose=1,   save_best_only=True, mode='max')\n",
        "\n",
        "    x_train_Dense = data_Dense[train]\n",
        "    y_train_Dense = labels_Dense[train]\n",
        "    x_test_Dense = data_Dense[test]\n",
        "    y_test_Dense = labels_Dense[test]\n",
        "\n",
        "    H_Dense = model_Dense.fit( x=aug.flow(x_train_Dense, y_train_Dense, batch_size=BS),\n",
        "\t                                            validation_data=(x_test_Dense, y_test_Dense),\n",
        "\t                                            steps_per_epoch=len(x_train_Dense) // BS,\n",
        "\t                                            epochs=30,  callbacks = [callback,checkpoint,reduce_lr])\n",
        "    \n",
        "    pred_Dense = model_Dense.predict(x_test_Dense)\n",
        "    \n",
        "    oos_y.append(y_test_Dense)\n",
        "    oos_pred.append(pred_Dense)  \n",
        "    print(classification_report(y_test_Dense.argmax(axis=1),\t                #แสดง report ค่า acc, recall, ...\n",
        "                                        pred_Dense.argmax(axis=1),  \n",
        "                                        target_names=le_Dense.classes_))   \n",
        "    \n",
        "oos_y = np.concatenate(oos_y)\n",
        "oos_pred = np.concatenate(oos_pred)\n",
        "print(classification_report(oos_y.argmax(axis=1), oos_pred.argmax(axis=1),  target_names=le_Dense.classes_))"
      ],
      "metadata": {
        "id": "FOwMcYt_EcsA"
      },
      "execution_count": null,
      "outputs": []
    },
    {
      "cell_type": "markdown",
      "source": [
        "### 32"
      ],
      "metadata": {
        "id": "tigQc_laE4lG"
      }
    },
    {
      "cell_type": "markdown",
      "source": [
        "#### 32  sig pre bi\n",
        "--> "
      ],
      "metadata": {
        "id": "VqWiCtdVE4lG"
      }
    },
    {
      "cell_type": "code",
      "source": [
        "BS = 32\n",
        "filepath = \"Kmodel32_sig_pre_bi\"                  ##\n",
        "\n",
        "train_img_Dense = []\n",
        "for ImageName in tqdm(data_train3['ImageName']):               # รัน ชื่อรูป ในไฟล์ data_test3\n",
        "    image_path = All_3class_dir +'/' + ImageName                   # ดึงรูปในโฟล์เดอร์มาทีละรูป\n",
        "    img = cv2.imread(image_path)                                            # อ่านรูป\n",
        "    img = cv2.resize(img, (224, 224))                                       #ขนาดของ input\n",
        "    train_img_Dense.append(img)\n",
        "data_Dense = np.array(train_img_Dense, dtype=\"float32\") / 255.0\n",
        "\n",
        "labels_Dense = np.array(data_train3[['NameType']] )        \n",
        "labels_Dense.shape = (len(labels_Dense),) \n",
        "le_Dense = LabelEncoder()                                                                     \n",
        "labels_Dense = le_Dense.fit_transform(labels_Dense)                                         #จะแปลงชื่อ class เป็นตัวเลข 1, 2, 0 \n",
        "labels_Dense = to_categorical(labels_Dense, num_classes=2)                    \n",
        "\n",
        "aug = ImageDataGenerator( rotation_range=15,\twidth_shift_range=0.1, \theight_shift_range=0.1,\n",
        "\t\tshear_range=0.15, \thorizontal_flip=True, \tfill_mode=\"nearest\")\n",
        "                                                                                                          \n",
        "callback = EarlyStopping( monitor= \"val_accuracy\",    patience=15,       mode=\"max\")\n",
        "\n",
        "# checkpoint = ModelCheckpoint(filepath, monitor='val_accuracy', verbose=1,   save_best_only=True, mode='max')\n",
        "                                                                                                            ##\n",
        "reduce_lr = ReduceLROnPlateau(monitor='val_accuracy', factor=0.5,   patience=6,     verbose=1, mode='max', min_lr=0.00001)"
      ],
      "metadata": {
        "outputId": "8741a3e8-2d19-43a6-8086-241819a23a7f",
        "colab": {
          "base_uri": "https://localhost:8080/"
        },
        "id": "rHJCvtVSE4lH"
      },
      "execution_count": null,
      "outputs": [
        {
          "output_type": "stream",
          "name": "stderr",
          "text": [
            "100%|██████████| 451/451 [00:10<00:00, 44.85it/s]\n"
          ]
        }
      ]
    },
    {
      "cell_type": "code",
      "source": [
        "base_model_Dense = tf.keras.applications.DenseNet201(input_shape=(224, 224, 3), include_top=False, weights=\"imagenet\")\n",
        "base_model_Dense.trainable=False\n",
        "#Add custom head\n",
        "average_pooling_layer = tf.keras.layers.GlobalAveragePooling2D()(base_model_Dense.output)\n",
        "prediction_layer = tf.keras.layers.Dense(units=2, activation=\"sigmoid\")(average_pooling_layer)   # unit 2\n",
        "model_Dense = tf.keras.models.Model(inputs=base_model_Dense.input, outputs=prediction_layer)\n",
        "model_Dense.compile(optimizer=tf.keras.optimizers.RMSprop(learning_rate=0.0001), loss=\"binary_crossentropy\", metrics=[\"accuracy\"])\n",
        "\n",
        "### K-fold\n",
        "kf = KFold(5, shuffle=True, random_state=40) \n",
        "\n",
        "oos_y = []\n",
        "oos_pred = []\n",
        "fold = 0\n",
        "\n",
        "for train, test in kf.split(data_Dense):\n",
        "    fold+=1\n",
        "    print(f\"Fold #{fold}\")\n",
        "\n",
        "    filename = f\" {filepath}{fold}.h5 \"\n",
        "    checkpoint = ModelCheckpoint(filename, monitor='val_accuracy', verbose=1,   save_best_only=True, mode='max')\n",
        "\n",
        "    x_train_Dense = data_Dense[train]\n",
        "    y_train_Dense = labels_Dense[train]\n",
        "    x_test_Dense = data_Dense[test]\n",
        "    y_test_Dense = labels_Dense[test]\n",
        "\n",
        "    H_Dense = model_Dense.fit( x=aug.flow(x_train_Dense, y_train_Dense, batch_size=BS),\n",
        "\t                                            validation_data=(x_test_Dense, y_test_Dense),\n",
        "\t                                            steps_per_epoch=len(x_train_Dense) // BS,\n",
        "\t                                            epochs=30,  callbacks = [callback,checkpoint,reduce_lr])\n",
        "    \n",
        "    pred_Dense = model_Dense.predict(x_test_Dense)\n",
        "    \n",
        "    oos_y.append(y_test_Dense)\n",
        "    oos_pred.append(pred_Dense)  \n",
        "    print(classification_report(y_test_Dense.argmax(axis=1),\t                #แสดง report ค่า acc, recall, ...\n",
        "                                        pred_Dense.argmax(axis=1),  \n",
        "                                        target_names=le_Dense.classes_))   \n",
        "    \n",
        "oos_y = np.concatenate(oos_y)\n",
        "oos_pred = np.concatenate(oos_pred)\n",
        "print(classification_report(oos_y.argmax(axis=1), oos_pred.argmax(axis=1),  target_names=le_Dense.classes_))"
      ],
      "metadata": {
        "id": "iNQ5bE60E4lH"
      },
      "execution_count": null,
      "outputs": []
    },
    {
      "cell_type": "markdown",
      "source": [
        "#### 32 sig pre bi adam\n",
        "--> "
      ],
      "metadata": {
        "id": "iQE3FhXME4lI"
      }
    },
    {
      "cell_type": "code",
      "source": [
        "BS = 32\n",
        "filepath = \"Kmodel32_sig_pre_bi_adam\"                  ##\n",
        "\n",
        "train_img_Dense = []\n",
        "for ImageName in tqdm(data_train3['ImageName']):               # รัน ชื่อรูป ในไฟล์ data_test3\n",
        "    image_path = All_3class_dir +'/' + ImageName                   # ดึงรูปในโฟล์เดอร์มาทีละรูป\n",
        "    img = cv2.imread(image_path)                                            # อ่านรูป\n",
        "    img = cv2.resize(img, (224, 224))                                       #ขนาดของ input\n",
        "    train_img_Dense.append(img)\n",
        "data_Dense = np.array(train_img_Dense, dtype=\"float32\") / 255.0\n",
        "\n",
        "labels_Dense = np.array(data_train3[['NameType']] )        \n",
        "labels_Dense.shape = (len(labels_Dense),) \n",
        "le_Dense = LabelEncoder()                                                                     \n",
        "labels_Dense = le_Dense.fit_transform(labels_Dense)                                         #จะแปลงชื่อ class เป็นตัวเลข 1, 2, 0 \n",
        "labels_Dense = to_categorical(labels_Dense, num_classes=2)                    \n",
        "\n",
        "aug = ImageDataGenerator( rotation_range=15,\twidth_shift_range=0.1, \theight_shift_range=0.1,\n",
        "\t\tshear_range=0.15, \thorizontal_flip=True, \tfill_mode=\"nearest\")\n",
        "                                                                                                          \n",
        "callback = EarlyStopping( monitor= \"val_accuracy\",    patience=15,       mode=\"max\")\n",
        "\n",
        "# checkpoint = ModelCheckpoint(filepath, monitor='val_accuracy', verbose=1,   save_best_only=True, mode='max')\n",
        "                                                                                                            ##\n",
        "reduce_lr = ReduceLROnPlateau(monitor='val_accuracy', factor=0.5,   patience=6,     verbose=1, mode='max', min_lr=0.00001)"
      ],
      "metadata": {
        "outputId": "3f52f262-ffd4-40ae-8af3-bc174b331ad7",
        "colab": {
          "base_uri": "https://localhost:8080/"
        },
        "id": "9hBvFZ2GE4lJ"
      },
      "execution_count": null,
      "outputs": [
        {
          "output_type": "stream",
          "name": "stderr",
          "text": [
            "100%|██████████| 451/451 [02:08<00:00,  3.50it/s]\n"
          ]
        }
      ]
    },
    {
      "cell_type": "code",
      "source": [
        "base_model_Dense = tf.keras.applications.DenseNet201(input_shape=(224, 224, 3), include_top=False, weights=\"imagenet\")\n",
        "base_model_Dense.trainable=False\n",
        "#Add custom head\n",
        "average_pooling_layer = tf.keras.layers.GlobalAveragePooling2D()(base_model_Dense.output)\n",
        "prediction_layer = tf.keras.layers.Dense(units=2, activation=\"sigmoid\")(average_pooling_layer)   # unit 2\n",
        "model_Dense = tf.keras.models.Model(inputs=base_model_Dense.input, outputs=prediction_layer)\n",
        "model_Dense.compile(optimizer=Adam(learning_rate=0.0001), loss=\"binary_crossentropy\", metrics=[\"accuracy\"])\n",
        "\n",
        "### K-fold\n",
        "kf = KFold(5, shuffle=True, random_state=40) \n",
        "\n",
        "oos_y = []\n",
        "oos_pred = []\n",
        "fold = 0\n",
        "\n",
        "for train, test in kf.split(data_Dense):\n",
        "    fold+=1\n",
        "    print(f\"Fold #{fold}\")\n",
        "\n",
        "    filename = f\" {filepath}{fold}.h5 \"\n",
        "    checkpoint = ModelCheckpoint(filename, monitor='val_accuracy', verbose=1,   save_best_only=True, mode='max')\n",
        "\n",
        "    x_train_Dense = data_Dense[train]\n",
        "    y_train_Dense = labels_Dense[train]\n",
        "    x_test_Dense = data_Dense[test]\n",
        "    y_test_Dense = labels_Dense[test]\n",
        "\n",
        "    H_Dense = model_Dense.fit( x=aug.flow(x_train_Dense, y_train_Dense, batch_size=BS),\n",
        "\t                                            validation_data=(x_test_Dense, y_test_Dense),\n",
        "\t                                            steps_per_epoch=len(x_train_Dense) // BS,\n",
        "\t                                            epochs=30,  callbacks = [callback,checkpoint,reduce_lr])\n",
        "    \n",
        "    pred_Dense = model_Dense.predict(x_test_Dense)\n",
        "    \n",
        "    oos_y.append(y_test_Dense)\n",
        "    oos_pred.append(pred_Dense)  \n",
        "    print(classification_report(y_test_Dense.argmax(axis=1),\t                #แสดง report ค่า acc, recall, ...\n",
        "                                        pred_Dense.argmax(axis=1),  \n",
        "                                        target_names=le_Dense.classes_))   \n",
        "    \n",
        "oos_y = np.concatenate(oos_y)\n",
        "oos_pred = np.concatenate(oos_pred)\n",
        "print(classification_report(oos_y.argmax(axis=1), oos_pred.argmax(axis=1),  target_names=le_Dense.classes_))"
      ],
      "metadata": {
        "id": "gtBuL48iE4lJ"
      },
      "execution_count": null,
      "outputs": []
    },
    {
      "cell_type": "markdown",
      "source": [
        "#### 32 sig pre bi sgd\n",
        "--> "
      ],
      "metadata": {
        "id": "k_TJvspPE4lK"
      }
    },
    {
      "cell_type": "code",
      "source": [
        "BS = 32\n",
        "filepath = \"Kmodel32_sig_pre_bi_sgd\"                  ##\n",
        "\n",
        "train_img_Dense = []\n",
        "for ImageName in tqdm(data_train3['ImageName']):               # รัน ชื่อรูป ในไฟล์ data_test3\n",
        "    image_path = All_3class_dir +'/' + ImageName                   # ดึงรูปในโฟล์เดอร์มาทีละรูป\n",
        "    img = cv2.imread(image_path)                                            # อ่านรูป\n",
        "    img = cv2.resize(img, (224, 224))                                       #ขนาดของ input\n",
        "    train_img_Dense.append(img)\n",
        "data_Dense = np.array(train_img_Dense, dtype=\"float32\") / 255.0\n",
        "\n",
        "labels_Dense = np.array(data_train3[['NameType']] )        \n",
        "labels_Dense.shape = (len(labels_Dense),) \n",
        "le_Dense = LabelEncoder()                                                                     \n",
        "labels_Dense = le_Dense.fit_transform(labels_Dense)                                         #จะแปลงชื่อ class เป็นตัวเลข 1, 2, 0 \n",
        "labels_Dense = to_categorical(labels_Dense, num_classes=2)                    \n",
        "\n",
        "aug = ImageDataGenerator( rotation_range=15,\twidth_shift_range=0.1, \theight_shift_range=0.1,\n",
        "\t\tshear_range=0.15, \thorizontal_flip=True, \tfill_mode=\"nearest\")\n",
        "                                                                                                          \n",
        "callback = EarlyStopping( monitor= \"val_accuracy\",    patience=15,       mode=\"max\")\n",
        "\n",
        "# checkpoint = ModelCheckpoint(filepath, monitor='val_accuracy', verbose=1,   save_best_only=True, mode='max')\n",
        "                                                                                                            ##\n",
        "reduce_lr = ReduceLROnPlateau(monitor='val_accuracy', factor=0.5,   patience=6,     verbose=1, mode='max', min_lr=0.00001)"
      ],
      "metadata": {
        "outputId": "3f52f262-ffd4-40ae-8af3-bc174b331ad7",
        "colab": {
          "base_uri": "https://localhost:8080/"
        },
        "id": "YrCZ7LPqE4lK"
      },
      "execution_count": null,
      "outputs": [
        {
          "output_type": "stream",
          "name": "stderr",
          "text": [
            "100%|██████████| 451/451 [02:08<00:00,  3.50it/s]\n"
          ]
        }
      ]
    },
    {
      "cell_type": "code",
      "source": [
        "base_model_Dense = tf.keras.applications.DenseNet201(input_shape=(224, 224, 3), include_top=False, weights=\"imagenet\")\n",
        "base_model_Dense.trainable=False\n",
        "#Add custom head\n",
        "average_pooling_layer = tf.keras.layers.GlobalAveragePooling2D()(base_model_Dense.output)\n",
        "prediction_layer = tf.keras.layers.Dense(units=2, activation=\"sigmoid\")(average_pooling_layer)   # unit 2\n",
        "model_Dense = tf.keras.models.Model(inputs=base_model_Dense.input, outputs=prediction_layer)\n",
        "model_Dense.compile(optimizer=SGD(learning_rate=0.0001), loss=\"binary_crossentropy\", metrics=[\"accuracy\"])\n",
        "\n",
        "### K-fold\n",
        "kf = KFold(5, shuffle=True, random_state=40) \n",
        "\n",
        "oos_y = []\n",
        "oos_pred = []\n",
        "fold = 0\n",
        "\n",
        "for train, test in kf.split(data_Dense):\n",
        "    fold+=1\n",
        "    print(f\"Fold #{fold}\")\n",
        "\n",
        "    filename = f\" {filepath}{fold}.h5 \"\n",
        "    checkpoint = ModelCheckpoint(filename, monitor='val_accuracy', verbose=1,   save_best_only=True, mode='max')\n",
        "\n",
        "    x_train_Dense = data_Dense[train]\n",
        "    y_train_Dense = labels_Dense[train]\n",
        "    x_test_Dense = data_Dense[test]\n",
        "    y_test_Dense = labels_Dense[test]\n",
        "\n",
        "    H_Dense = model_Dense.fit( x=aug.flow(x_train_Dense, y_train_Dense, batch_size=BS),\n",
        "\t                                            validation_data=(x_test_Dense, y_test_Dense),\n",
        "\t                                            steps_per_epoch=len(x_train_Dense) // BS,\n",
        "\t                                            epochs=30,  callbacks = [callback,checkpoint,reduce_lr])\n",
        "    \n",
        "    pred_Dense = model_Dense.predict(x_test_Dense)\n",
        "    \n",
        "    oos_y.append(y_test_Dense)\n",
        "    oos_pred.append(pred_Dense)  \n",
        "    print(classification_report(y_test_Dense.argmax(axis=1),\t                #แสดง report ค่า acc, recall, ...\n",
        "                                        pred_Dense.argmax(axis=1),  \n",
        "                                        target_names=le_Dense.classes_))   \n",
        "    \n",
        "oos_y = np.concatenate(oos_y)\n",
        "oos_pred = np.concatenate(oos_pred)\n",
        "print(classification_report(oos_y.argmax(axis=1), oos_pred.argmax(axis=1),  target_names=le_Dense.classes_))"
      ],
      "metadata": {
        "id": "8ojwANRCE4lK"
      },
      "execution_count": null,
      "outputs": []
    }
  ]
}