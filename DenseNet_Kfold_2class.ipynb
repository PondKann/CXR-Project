{
  "nbformat": 4,
  "nbformat_minor": 0,
  "metadata": {
    "colab": {
      "name": "DenseNet_Kfold_2class.ipynb",
      "provenance": [],
      "authorship_tag": "ABX9TyPj0+MA8j2ItxyUQj59II6+",
      "include_colab_link": true
    },
    "kernelspec": {
      "name": "python3",
      "display_name": "Python 3"
    },
    "language_info": {
      "name": "python"
    },
    "accelerator": "GPU"
  },
  "cells": [
    {
      "cell_type": "markdown",
      "metadata": {
        "id": "view-in-github",
        "colab_type": "text"
      },
      "source": [
        "<a href=\"https://colab.research.google.com/github/PondKann/CXR-Project/blob/main/DenseNet_Kfold_2class.ipynb\" target=\"_parent\"><img src=\"https://colab.research.google.com/assets/colab-badge.svg\" alt=\"Open In Colab\"/></a>"
      ]
    },
    {
      "cell_type": "markdown",
      "source": [
        "1) Pretrained // Sampling Abnormal K-fold\n",
        "\n",
        "2) 0-500 // Sampling Abnormal K-fold\n",
        "\n",
        "3) 0-400 // Sampling Abnormal K-fold\n",
        "\n",
        "4) 0-300 // Sampling Abnormal K-fold\n"
      ],
      "metadata": {
        "id": "tAdCERXnJ-qk"
      }
    },
    {
      "cell_type": "markdown",
      "metadata": {
        "id": "Kpnf_sft9x4-"
      },
      "source": [
        "#### import"
      ]
    },
    {
      "cell_type": "code",
      "execution_count": 1,
      "metadata": {
        "id": "Psng6eJUdzUG"
      },
      "outputs": [],
      "source": [
        "import os\n",
        "import tensorflow as tf\n",
        "import matplotlib.pyplot as plt\n",
        "%matplotlib inline\n",
        "from tensorflow.keras.preprocessing.image import ImageDataGenerator\n",
        "from tensorflow.keras.callbacks import EarlyStopping, ReduceLROnPlateau, ModelCheckpoint\n",
        "import cv2\n",
        "import numpy as np\n",
        "import pandas as pd\n",
        "from torchsummary import summary\n",
        "from skimage.io import imread, imsave\n",
        "from tqdm import tqdm\n",
        "\n",
        "from sklearn.model_selection import train_test_split\n",
        "from sklearn.metrics import accuracy_score, confusion_matrix\n",
        "\n",
        "import PIL\n",
        "from PIL import Image\n"
      ]
    },
    {
      "cell_type": "code",
      "execution_count": 2,
      "metadata": {
        "id": "6f-PDKiLl2iC"
      },
      "outputs": [],
      "source": [
        "# set the matplotlib backend so figures can be saved in the background\n",
        "import matplotlib\n",
        "matplotlib.use(\"Agg\")\n",
        "\n",
        "from sklearn.preprocessing import LabelEncoder\n",
        "from sklearn.metrics import classification_report\n",
        "from tensorflow.keras.optimizers import SGD, Adam, RMSprop\n",
        "from tensorflow.keras.utils import to_categorical\n",
        "from tensorflow.keras.models import load_model\n",
        "from imutils import paths\n",
        "import argparse\n",
        "\n",
        "from sklearn.model_selection import KFold\n",
        "from sklearn import metrics\n",
        "from scipy.stats import zscore\n",
        "\n",
        "\n",
        "import matplotlib.image as mpimg\n",
        "from matplotlib.pyplot import savefig\n",
        "\n",
        "import itertools\n",
        "from sklearn.metrics import confusion_matrix\n",
        "from sklearn.utils.multiclass import unique_labels"
      ]
    },
    {
      "cell_type": "markdown",
      "metadata": {
        "id": "Z1e52UqdwPp8"
      },
      "source": [
        "#### Load data // KKU"
      ]
    },
    {
      "cell_type": "code",
      "execution_count": 3,
      "metadata": {
        "colab": {
          "base_uri": "https://localhost:8080/"
        },
        "id": "DlcukkP7fnhB",
        "outputId": "5cf6cb66-8fe3-4469-b255-8a58812ba357"
      },
      "outputs": [
        {
          "output_type": "stream",
          "name": "stdout",
          "text": [
            "Mounted at /content/drive\n"
          ]
        }
      ],
      "source": [
        "from google.colab import drive\n",
        "drive.mount('/content/drive')"
      ]
    },
    {
      "cell_type": "code",
      "execution_count": 4,
      "metadata": {
        "id": "0w8suy5ofqx_"
      },
      "outputs": [],
      "source": [
        "data_dir = '/content/drive/My Drive/Senior Project/CXR Image3class/Image'"
      ]
    },
    {
      "cell_type": "markdown",
      "metadata": {
        "id": "xhqPQxA42jeC"
      },
      "source": [
        "train 3 class"
      ]
    },
    {
      "cell_type": "code",
      "execution_count": 5,
      "metadata": {
        "id": "-Jrg5mt_RvJT"
      },
      "outputs": [],
      "source": [
        "Normal151_dir = os.path.join(data_dir,'Normal151')\n",
        "TB150_dir = os.path.join(data_dir,'TB150')\n",
        "CA150_dir = os.path.join(data_dir,'CA150')\n",
        "\n",
        "All_3class_dir = os.path.join(data_dir,'All_3class')"
      ]
    },
    {
      "cell_type": "markdown",
      "source": [
        ""
      ],
      "metadata": {
        "id": "TdmiFUwh-BT_"
      }
    },
    {
      "cell_type": "markdown",
      "metadata": {
        "id": "4_dJIpAJ3n_I"
      },
      "source": [
        "#### Load data // Gmail"
      ]
    },
    {
      "cell_type": "code",
      "execution_count": null,
      "metadata": {
        "colab": {
          "base_uri": "https://localhost:8080/"
        },
        "outputId": "e2d2705a-eadd-4da5-ee8f-707634cb2f8a",
        "id": "X9hd2pU13n_J"
      },
      "outputs": [
        {
          "output_type": "stream",
          "name": "stdout",
          "text": [
            "Mounted at /content/drive\n"
          ]
        }
      ],
      "source": [
        "from google.colab import drive\n",
        "drive.mount('/content/drive')"
      ]
    },
    {
      "cell_type": "code",
      "execution_count": null,
      "metadata": {
        "id": "CCHunkNk3n_J"
      },
      "outputs": [],
      "source": [
        "data_dir = '/content/drive/My Drive/Senior Project/CXR Image3class'"
      ]
    },
    {
      "cell_type": "markdown",
      "metadata": {
        "id": "JwTPsWNE3n_J"
      },
      "source": [
        "train 3 class"
      ]
    },
    {
      "cell_type": "code",
      "execution_count": null,
      "metadata": {
        "id": "nrXH05fh3n_K"
      },
      "outputs": [],
      "source": [
        "Normal151_dir = os.path.join(data_dir,'Normal151')\n",
        "TB150_dir = os.path.join(data_dir,'TB150')\n",
        "CA150_dir = os.path.join(data_dir,'CA150')\n",
        "\n",
        "All_3class_dir = os.path.join(data_dir,'All_3class')"
      ]
    },
    {
      "cell_type": "markdown",
      "source": [
        ""
      ],
      "metadata": {
        "id": "i5V5DnHg3n_K"
      }
    },
    {
      "cell_type": "markdown",
      "metadata": {
        "id": "g71UX3BnhMU5"
      },
      "source": [
        "#### Data 2 class  + Sampling data\n",
        "ข้อมูลใน All_3class_dir รวมภาพทั้ง 3 คลาส รวม 451 ภาพ TB150, Normal151 และ CA150 (CA คือ lungcancer)"
      ]
    },
    {
      "cell_type": "code",
      "execution_count": 6,
      "metadata": {
        "id": "gbgiHWi9hMU6"
      },
      "outputs": [],
      "source": [
        "Normal151_dir = os.path.join(data_dir,'Normal151')\n",
        "TB150_dir = os.path.join(data_dir,'TB150')\n",
        "CA150_dir = os.path.join(data_dir,'CA150')\n",
        "\n",
        "All_3class_dir = os.path.join(data_dir,'All_3class')"
      ]
    },
    {
      "cell_type": "code",
      "execution_count": 7,
      "metadata": {
        "id": "XhIRkVUDhMU7"
      },
      "outputs": [],
      "source": [
        "normal = []\n",
        "for i in range(len(os.listdir(Normal151_dir))):\n",
        "    img = os.listdir(Normal151_dir)[i]\n",
        "    normal.append(img)\n",
        "    \n",
        "tnormal = pd.DataFrame({'ImageName':[normal][0],\n",
        "                                       'NameType': \"Normal\"  })"
      ]
    },
    {
      "cell_type": "code",
      "execution_count": 8,
      "metadata": {
        "id": "Lcw67LQyhMU7"
      },
      "outputs": [],
      "source": [
        "tuberculosis = []\n",
        "for i in range(len(os.listdir(TB150_dir))):\n",
        "    img = os.listdir(TB150_dir)[i]\n",
        "    tuberculosis.append(img)\n",
        "\n",
        "ttuberculosis = pd.DataFrame({'ImageName':[tuberculosis][0],\n",
        "                                       'NameType': \"Abnormal\"  })"
      ]
    },
    {
      "cell_type": "code",
      "execution_count": 9,
      "metadata": {
        "id": "YFBTCuPEhMU8"
      },
      "outputs": [],
      "source": [
        "lungcancer = []\n",
        "for i in range(len(os.listdir(CA150_dir))):\n",
        "    img = os.listdir(CA150_dir)[i]\n",
        "    lungcancer.append(img)\n",
        "\n",
        "tlungcancer = pd.DataFrame({'ImageName':[lungcancer][0],\n",
        "                                       'NameType': \"Abnormal\"  })"
      ]
    },
    {
      "cell_type": "code",
      "execution_count": 10,
      "metadata": {
        "colab": {
          "base_uri": "https://localhost:8080/",
          "height": 143
        },
        "id": "FdG7BpQihMU8",
        "outputId": "e5817a17-c897-436f-8b42-0f1eda40bdf8"
      },
      "outputs": [
        {
          "output_type": "execute_result",
          "data": {
            "text/plain": [
              "    ImageName  NameType\n",
              "147   ca2.jpg  Abnormal\n",
              "148  ca26.jpg  Abnormal\n",
              "149   ca8.jpg  Abnormal"
            ],
            "text/html": [
              "\n",
              "  <div id=\"df-2131073a-5f36-43bd-9d7f-1fddab8ca2d7\">\n",
              "    <div class=\"colab-df-container\">\n",
              "      <div>\n",
              "<style scoped>\n",
              "    .dataframe tbody tr th:only-of-type {\n",
              "        vertical-align: middle;\n",
              "    }\n",
              "\n",
              "    .dataframe tbody tr th {\n",
              "        vertical-align: top;\n",
              "    }\n",
              "\n",
              "    .dataframe thead th {\n",
              "        text-align: right;\n",
              "    }\n",
              "</style>\n",
              "<table border=\"1\" class=\"dataframe\">\n",
              "  <thead>\n",
              "    <tr style=\"text-align: right;\">\n",
              "      <th></th>\n",
              "      <th>ImageName</th>\n",
              "      <th>NameType</th>\n",
              "    </tr>\n",
              "  </thead>\n",
              "  <tbody>\n",
              "    <tr>\n",
              "      <th>147</th>\n",
              "      <td>ca2.jpg</td>\n",
              "      <td>Abnormal</td>\n",
              "    </tr>\n",
              "    <tr>\n",
              "      <th>148</th>\n",
              "      <td>ca26.jpg</td>\n",
              "      <td>Abnormal</td>\n",
              "    </tr>\n",
              "    <tr>\n",
              "      <th>149</th>\n",
              "      <td>ca8.jpg</td>\n",
              "      <td>Abnormal</td>\n",
              "    </tr>\n",
              "  </tbody>\n",
              "</table>\n",
              "</div>\n",
              "      <button class=\"colab-df-convert\" onclick=\"convertToInteractive('df-2131073a-5f36-43bd-9d7f-1fddab8ca2d7')\"\n",
              "              title=\"Convert this dataframe to an interactive table.\"\n",
              "              style=\"display:none;\">\n",
              "        \n",
              "  <svg xmlns=\"http://www.w3.org/2000/svg\" height=\"24px\"viewBox=\"0 0 24 24\"\n",
              "       width=\"24px\">\n",
              "    <path d=\"M0 0h24v24H0V0z\" fill=\"none\"/>\n",
              "    <path d=\"M18.56 5.44l.94 2.06.94-2.06 2.06-.94-2.06-.94-.94-2.06-.94 2.06-2.06.94zm-11 1L8.5 8.5l.94-2.06 2.06-.94-2.06-.94L8.5 2.5l-.94 2.06-2.06.94zm10 10l.94 2.06.94-2.06 2.06-.94-2.06-.94-.94-2.06-.94 2.06-2.06.94z\"/><path d=\"M17.41 7.96l-1.37-1.37c-.4-.4-.92-.59-1.43-.59-.52 0-1.04.2-1.43.59L10.3 9.45l-7.72 7.72c-.78.78-.78 2.05 0 2.83L4 21.41c.39.39.9.59 1.41.59.51 0 1.02-.2 1.41-.59l7.78-7.78 2.81-2.81c.8-.78.8-2.07 0-2.86zM5.41 20L4 18.59l7.72-7.72 1.47 1.35L5.41 20z\"/>\n",
              "  </svg>\n",
              "      </button>\n",
              "      \n",
              "  <style>\n",
              "    .colab-df-container {\n",
              "      display:flex;\n",
              "      flex-wrap:wrap;\n",
              "      gap: 12px;\n",
              "    }\n",
              "\n",
              "    .colab-df-convert {\n",
              "      background-color: #E8F0FE;\n",
              "      border: none;\n",
              "      border-radius: 50%;\n",
              "      cursor: pointer;\n",
              "      display: none;\n",
              "      fill: #1967D2;\n",
              "      height: 32px;\n",
              "      padding: 0 0 0 0;\n",
              "      width: 32px;\n",
              "    }\n",
              "\n",
              "    .colab-df-convert:hover {\n",
              "      background-color: #E2EBFA;\n",
              "      box-shadow: 0px 1px 2px rgba(60, 64, 67, 0.3), 0px 1px 3px 1px rgba(60, 64, 67, 0.15);\n",
              "      fill: #174EA6;\n",
              "    }\n",
              "\n",
              "    [theme=dark] .colab-df-convert {\n",
              "      background-color: #3B4455;\n",
              "      fill: #D2E3FC;\n",
              "    }\n",
              "\n",
              "    [theme=dark] .colab-df-convert:hover {\n",
              "      background-color: #434B5C;\n",
              "      box-shadow: 0px 1px 3px 1px rgba(0, 0, 0, 0.15);\n",
              "      filter: drop-shadow(0px 1px 2px rgba(0, 0, 0, 0.3));\n",
              "      fill: #FFFFFF;\n",
              "    }\n",
              "  </style>\n",
              "\n",
              "      <script>\n",
              "        const buttonEl =\n",
              "          document.querySelector('#df-2131073a-5f36-43bd-9d7f-1fddab8ca2d7 button.colab-df-convert');\n",
              "        buttonEl.style.display =\n",
              "          google.colab.kernel.accessAllowed ? 'block' : 'none';\n",
              "\n",
              "        async function convertToInteractive(key) {\n",
              "          const element = document.querySelector('#df-2131073a-5f36-43bd-9d7f-1fddab8ca2d7');\n",
              "          const dataTable =\n",
              "            await google.colab.kernel.invokeFunction('convertToInteractive',\n",
              "                                                     [key], {});\n",
              "          if (!dataTable) return;\n",
              "\n",
              "          const docLinkHtml = 'Like what you see? Visit the ' +\n",
              "            '<a target=\"_blank\" href=https://colab.research.google.com/notebooks/data_table.ipynb>data table notebook</a>'\n",
              "            + ' to learn more about interactive tables.';\n",
              "          element.innerHTML = '';\n",
              "          dataTable['output_type'] = 'display_data';\n",
              "          await google.colab.output.renderOutput(dataTable, element);\n",
              "          const docLink = document.createElement('div');\n",
              "          docLink.innerHTML = docLinkHtml;\n",
              "          element.appendChild(docLink);\n",
              "        }\n",
              "      </script>\n",
              "    </div>\n",
              "  </div>\n",
              "  "
            ]
          },
          "metadata": {},
          "execution_count": 10
        }
      ],
      "source": [
        "data_train3 = pd.concat([tnormal[:-1], ttuberculosis, tlungcancer])\n",
        "data_train3[-3:]"
      ]
    },
    {
      "cell_type": "code",
      "source": [
        "data_train3.shape"
      ],
      "metadata": {
        "id": "eT6-CPGZl503",
        "outputId": "cc5ac3fb-e61f-4f99-b0cb-45e241be7498",
        "colab": {
          "base_uri": "https://localhost:8080/"
        }
      },
      "execution_count": 11,
      "outputs": [
        {
          "output_type": "execute_result",
          "data": {
            "text/plain": [
              "(450, 2)"
            ]
          },
          "metadata": {},
          "execution_count": 11
        }
      ]
    },
    {
      "cell_type": "markdown",
      "source": [
        "Sampling data"
      ],
      "metadata": {
        "id": "AOUO1sdiNfD6"
      }
    },
    {
      "cell_type": "code",
      "source": [
        "tabnormal= pd.concat([ttuberculosis, tlungcancer])\n",
        "tabnormal = tabnormal.sample(n=150, random_state=40)\n",
        "data_train3 = pd.concat([tnormal[:-1], tabnormal])"
      ],
      "metadata": {
        "id": "r6R5PQsZOboU"
      },
      "execution_count": 12,
      "outputs": []
    },
    {
      "cell_type": "code",
      "source": [
        "data_train3.to_excel(\"data_2class_sampling.xlsx\")"
      ],
      "metadata": {
        "id": "SXmWc4qb5jR9"
      },
      "execution_count": 13,
      "outputs": []
    },
    {
      "cell_type": "code",
      "source": [
        "data_train3.shape"
      ],
      "metadata": {
        "id": "QZTQagmFNRNO"
      },
      "execution_count": 13,
      "outputs": []
    },
    {
      "cell_type": "markdown",
      "source": [
        "# Pretrained Sampling Ab\n",
        "- sigmold\n",
        "- binary_crossentropy"
      ],
      "metadata": {
        "id": "6dK8qvUgOsY6"
      }
    },
    {
      "cell_type": "markdown",
      "source": [
        "### 1 ครบ"
      ],
      "metadata": {
        "id": "02zpQqbXZjjC"
      }
    },
    {
      "cell_type": "markdown",
      "source": [
        "#### 1 sig pre bi\n",
        "--> "
      ],
      "metadata": {
        "id": "AjcZyiEEZjjC"
      }
    },
    {
      "cell_type": "code",
      "source": [
        "BS = 1\n",
        "filepath = \"Kmodel1_sig_pre_bi\"                  ##\n",
        "\n",
        "train_img_Dense = []\n",
        "for ImageName in tqdm(data_train3['ImageName']):               # รัน ชื่อรูป ในไฟล์ data_test3\n",
        "    image_path = All_3class_dir +'/' + ImageName                   # ดึงรูปในโฟล์เดอร์มาทีละรูป\n",
        "    img = cv2.imread(image_path)                                            # อ่านรูป\n",
        "    img = cv2.resize(img, (224, 224))                                       #ขนาดของ input\n",
        "    train_img_Dense.append(img)\n",
        "data_Dense = np.array(train_img_Dense, dtype=\"float32\") / 255.0\n",
        "\n",
        "labels_Dense = np.array(data_train3[['NameType']] )        \n",
        "labels_Dense.shape = (len(labels_Dense),) \n",
        "le_Dense = LabelEncoder()                                                                     \n",
        "labels_Dense = le_Dense.fit_transform(labels_Dense)                                         #จะแปลงชื่อ class เป็นตัวเลข 1, 2, 0 \n",
        "labels_Dense = to_categorical(labels_Dense, num_classes=2)                    \n",
        "\n",
        "aug = ImageDataGenerator( rotation_range=15,\twidth_shift_range=0.1, \theight_shift_range=0.1,\n",
        "\t\tshear_range=0.15, \thorizontal_flip=True, \tfill_mode=\"nearest\")\n",
        "                                                                                                          \n",
        "callback = EarlyStopping( monitor= \"val_accuracy\",    patience=15,       mode=\"max\")\n",
        "\n",
        "# checkpoint = ModelCheckpoint(filepath, monitor='val_accuracy', verbose=1,   save_best_only=True, mode='max')\n",
        "                                                                                                            ##\n",
        "reduce_lr = ReduceLROnPlateau(monitor='val_accuracy', factor=0.5,   patience=6,     verbose=1, mode='max', min_lr=0.00001)"
      ],
      "metadata": {
        "outputId": "fd6f4cd5-ed06-425f-85ab-e77a10ec436b",
        "colab": {
          "base_uri": "https://localhost:8080/"
        },
        "id": "vILltezvZjjC"
      },
      "execution_count": 14,
      "outputs": [
        {
          "output_type": "stream",
          "name": "stderr",
          "text": [
            "100%|██████████| 300/300 [01:23<00:00,  3.60it/s]\n"
          ]
        }
      ]
    },
    {
      "cell_type": "code",
      "source": [
        "base_model_Dense = tf.keras.applications.DenseNet201(input_shape=(224, 224, 3), include_top=False, weights=\"imagenet\")\n",
        "base_model_Dense.trainable=False\n",
        "#Add custom head\n",
        "average_pooling_layer = tf.keras.layers.GlobalAveragePooling2D()(base_model_Dense.output)\n",
        "prediction_layer = tf.keras.layers.Dense(units=2, activation=\"sigmoid\")(average_pooling_layer)   # unit 2\n",
        "model_Dense = tf.keras.models.Model(inputs=base_model_Dense.input, outputs=prediction_layer)\n",
        "model_Dense.compile(optimizer=tf.keras.optimizers.RMSprop(learning_rate=0.0001), loss=\"binary_crossentropy\", metrics=[\"accuracy\"])\n",
        "\n",
        "### K-fold\n",
        "kf = KFold(5, shuffle=True, random_state=40) \n",
        "\n",
        "oos_y = []\n",
        "oos_pred = []\n",
        "fold = 0\n",
        "\n",
        "for train, test in kf.split(data_Dense):\n",
        "    fold+=1\n",
        "    print(f\"Fold #{fold}\")\n",
        "\n",
        "    filename = f\" {filepath}{fold}.h5 \"\n",
        "    checkpoint = ModelCheckpoint(filename, monitor='val_accuracy', verbose=1,   save_best_only=True, mode='max')\n",
        "\n",
        "    x_train_Dense = data_Dense[train]\n",
        "    y_train_Dense = labels_Dense[train]\n",
        "    x_test_Dense = data_Dense[test]\n",
        "    y_test_Dense = labels_Dense[test]\n",
        "\n",
        "    H_Dense = model_Dense.fit( x=aug.flow(x_train_Dense, y_train_Dense, batch_size=BS),\n",
        "\t                                            validation_data=(x_test_Dense, y_test_Dense),\n",
        "\t                                            steps_per_epoch=len(x_train_Dense) // BS,\n",
        "\t                                            epochs=30,  callbacks = [callback,checkpoint,reduce_lr])\n",
        "    \n",
        "    pred_Dense = model_Dense.predict(x_test_Dense)\n",
        "    \n",
        "    oos_y.append(y_test_Dense)\n",
        "    oos_pred.append(pred_Dense)  \n",
        "    print(classification_report(y_test_Dense.argmax(axis=1),\t                #แสดง report ค่า acc, recall, ...\n",
        "                                        pred_Dense.argmax(axis=1),  \n",
        "                                        target_names=le_Dense.classes_))   \n",
        "    \n",
        "oos_y = np.concatenate(oos_y)\n",
        "oos_pred = np.concatenate(oos_pred)\n",
        "print(classification_report(oos_y.argmax(axis=1), oos_pred.argmax(axis=1),  target_names=le_Dense.classes_))"
      ],
      "metadata": {
        "outputId": "42e2971a-1eb2-4610-b170-54b9aa70176e",
        "colab": {
          "base_uri": "https://localhost:8080/"
        },
        "id": "ppzco6gZZjjE"
      },
      "execution_count": 15,
      "outputs": [
        {
          "output_type": "stream",
          "name": "stdout",
          "text": [
            "Downloading data from https://storage.googleapis.com/tensorflow/keras-applications/densenet/densenet201_weights_tf_dim_ordering_tf_kernels_notop.h5\n",
            "74842112/74836368 [==============================] - 1s 0us/step\n",
            "74850304/74836368 [==============================] - 1s 0us/step\n",
            "Fold #1\n",
            "Epoch 1/30\n",
            "240/240 [==============================] - ETA: 0s - loss: 0.7256 - accuracy: 0.4708\n",
            "Epoch 1: val_accuracy improved from -inf to 0.43333, saving model to  Kmodel1_sig_pre_bi1.h5 \n",
            "INFO:tensorflow:Assets written to:  Kmodel1_sig_pre_bi1.h5 /assets\n",
            "240/240 [==============================] - 169s 607ms/step - loss: 0.7256 - accuracy: 0.4708 - val_loss: 0.7349 - val_accuracy: 0.4333 - lr: 1.0000e-04\n",
            "Epoch 2/30\n",
            "240/240 [==============================] - ETA: 0s - loss: 0.6583 - accuracy: 0.6292\n",
            "Epoch 2: val_accuracy improved from 0.43333 to 0.76667, saving model to  Kmodel1_sig_pre_bi1.h5 \n",
            "INFO:tensorflow:Assets written to:  Kmodel1_sig_pre_bi1.h5 /assets\n",
            "240/240 [==============================] - 120s 503ms/step - loss: 0.6583 - accuracy: 0.6292 - val_loss: 0.6288 - val_accuracy: 0.7667 - lr: 1.0000e-04\n",
            "Epoch 3/30\n",
            "240/240 [==============================] - ETA: 0s - loss: 0.5900 - accuracy: 0.7708\n",
            "Epoch 3: val_accuracy improved from 0.76667 to 0.80000, saving model to  Kmodel1_sig_pre_bi1.h5 \n",
            "INFO:tensorflow:Assets written to:  Kmodel1_sig_pre_bi1.h5 /assets\n",
            "240/240 [==============================] - 92s 384ms/step - loss: 0.5900 - accuracy: 0.7708 - val_loss: 0.5877 - val_accuracy: 0.8000 - lr: 1.0000e-04\n",
            "Epoch 4/30\n",
            "240/240 [==============================] - ETA: 0s - loss: 0.5432 - accuracy: 0.8042\n",
            "Epoch 4: val_accuracy improved from 0.80000 to 0.90000, saving model to  Kmodel1_sig_pre_bi1.h5 \n",
            "INFO:tensorflow:Assets written to:  Kmodel1_sig_pre_bi1.h5 /assets\n",
            "240/240 [==============================] - 94s 394ms/step - loss: 0.5432 - accuracy: 0.8042 - val_loss: 0.5353 - val_accuracy: 0.9000 - lr: 1.0000e-04\n",
            "Epoch 5/30\n",
            "240/240 [==============================] - ETA: 0s - loss: 0.4976 - accuracy: 0.8417\n",
            "Epoch 5: val_accuracy did not improve from 0.90000\n",
            "240/240 [==============================] - 16s 67ms/step - loss: 0.4976 - accuracy: 0.8417 - val_loss: 0.5185 - val_accuracy: 0.8667 - lr: 1.0000e-04\n",
            "Epoch 6/30\n",
            "240/240 [==============================] - ETA: 0s - loss: 0.4870 - accuracy: 0.8625\n",
            "Epoch 6: val_accuracy did not improve from 0.90000\n",
            "240/240 [==============================] - 16s 66ms/step - loss: 0.4870 - accuracy: 0.8625 - val_loss: 0.5070 - val_accuracy: 0.8000 - lr: 1.0000e-04\n",
            "Epoch 7/30\n",
            "240/240 [==============================] - ETA: 0s - loss: 0.4506 - accuracy: 0.8625\n",
            "Epoch 7: val_accuracy improved from 0.90000 to 0.93333, saving model to  Kmodel1_sig_pre_bi1.h5 \n",
            "INFO:tensorflow:Assets written to:  Kmodel1_sig_pre_bi1.h5 /assets\n",
            "240/240 [==============================] - 92s 383ms/step - loss: 0.4506 - accuracy: 0.8625 - val_loss: 0.4412 - val_accuracy: 0.9333 - lr: 1.0000e-04\n",
            "Epoch 8/30\n",
            "240/240 [==============================] - ETA: 0s - loss: 0.4377 - accuracy: 0.8833\n",
            "Epoch 8: val_accuracy improved from 0.93333 to 0.95000, saving model to  Kmodel1_sig_pre_bi1.h5 \n",
            "INFO:tensorflow:Assets written to:  Kmodel1_sig_pre_bi1.h5 /assets\n",
            "240/240 [==============================] - 93s 387ms/step - loss: 0.4377 - accuracy: 0.8833 - val_loss: 0.4336 - val_accuracy: 0.9500 - lr: 1.0000e-04\n",
            "Epoch 9/30\n",
            "240/240 [==============================] - ETA: 0s - loss: 0.4017 - accuracy: 0.8542\n",
            "Epoch 9: val_accuracy did not improve from 0.95000\n",
            "240/240 [==============================] - 16s 66ms/step - loss: 0.4017 - accuracy: 0.8542 - val_loss: 0.3981 - val_accuracy: 0.9333 - lr: 1.0000e-04\n",
            "Epoch 10/30\n",
            "240/240 [==============================] - ETA: 0s - loss: 0.3756 - accuracy: 0.9000\n",
            "Epoch 10: val_accuracy did not improve from 0.95000\n",
            "240/240 [==============================] - 16s 65ms/step - loss: 0.3756 - accuracy: 0.9000 - val_loss: 0.3784 - val_accuracy: 0.9167 - lr: 1.0000e-04\n",
            "Epoch 11/30\n",
            "240/240 [==============================] - ETA: 0s - loss: 0.3574 - accuracy: 0.8708\n",
            "Epoch 11: val_accuracy did not improve from 0.95000\n",
            "240/240 [==============================] - 16s 65ms/step - loss: 0.3574 - accuracy: 0.8708 - val_loss: 0.3597 - val_accuracy: 0.9167 - lr: 1.0000e-04\n",
            "Epoch 12/30\n",
            "240/240 [==============================] - ETA: 0s - loss: 0.3517 - accuracy: 0.8917\n",
            "Epoch 12: val_accuracy did not improve from 0.95000\n",
            "240/240 [==============================] - 15s 64ms/step - loss: 0.3517 - accuracy: 0.8917 - val_loss: 0.3549 - val_accuracy: 0.9333 - lr: 1.0000e-04\n",
            "Epoch 13/30\n",
            "240/240 [==============================] - ETA: 0s - loss: 0.3415 - accuracy: 0.8958\n",
            "Epoch 13: val_accuracy did not improve from 0.95000\n",
            "240/240 [==============================] - 15s 64ms/step - loss: 0.3415 - accuracy: 0.8958 - val_loss: 0.3414 - val_accuracy: 0.9333 - lr: 1.0000e-04\n",
            "Epoch 14/30\n",
            "240/240 [==============================] - ETA: 0s - loss: 0.3213 - accuracy: 0.9083\n",
            "Epoch 14: val_accuracy did not improve from 0.95000\n",
            "\n",
            "Epoch 14: ReduceLROnPlateau reducing learning rate to 4.999999873689376e-05.\n",
            "240/240 [==============================] - 16s 65ms/step - loss: 0.3213 - accuracy: 0.9083 - val_loss: 0.3205 - val_accuracy: 0.9167 - lr: 1.0000e-04\n",
            "Epoch 15/30\n",
            "240/240 [==============================] - ETA: 0s - loss: 0.3299 - accuracy: 0.8875\n",
            "Epoch 15: val_accuracy did not improve from 0.95000\n",
            "240/240 [==============================] - 16s 67ms/step - loss: 0.3299 - accuracy: 0.8875 - val_loss: 0.3161 - val_accuracy: 0.9167 - lr: 5.0000e-05\n",
            "Epoch 16/30\n",
            "240/240 [==============================] - ETA: 0s - loss: 0.3216 - accuracy: 0.8750\n",
            "Epoch 16: val_accuracy did not improve from 0.95000\n",
            "240/240 [==============================] - 16s 66ms/step - loss: 0.3216 - accuracy: 0.8750 - val_loss: 0.3104 - val_accuracy: 0.9167 - lr: 5.0000e-05\n",
            "Epoch 17/30\n",
            "240/240 [==============================] - ETA: 0s - loss: 0.3175 - accuracy: 0.9000\n",
            "Epoch 17: val_accuracy did not improve from 0.95000\n",
            "240/240 [==============================] - 16s 66ms/step - loss: 0.3175 - accuracy: 0.9000 - val_loss: 0.3058 - val_accuracy: 0.9167 - lr: 5.0000e-05\n",
            "Epoch 18/30\n",
            "240/240 [==============================] - ETA: 0s - loss: 0.2959 - accuracy: 0.9083\n",
            "Epoch 18: val_accuracy did not improve from 0.95000\n",
            "240/240 [==============================] - 16s 67ms/step - loss: 0.2959 - accuracy: 0.9083 - val_loss: 0.3013 - val_accuracy: 0.9167 - lr: 5.0000e-05\n",
            "Epoch 19/30\n",
            "240/240 [==============================] - ETA: 0s - loss: 0.2903 - accuracy: 0.9208\n",
            "Epoch 19: val_accuracy did not improve from 0.95000\n",
            "240/240 [==============================] - 16s 66ms/step - loss: 0.2903 - accuracy: 0.9208 - val_loss: 0.2967 - val_accuracy: 0.9167 - lr: 5.0000e-05\n",
            "Epoch 20/30\n",
            "240/240 [==============================] - ETA: 0s - loss: 0.3034 - accuracy: 0.8833\n",
            "Epoch 20: val_accuracy did not improve from 0.95000\n",
            "\n",
            "Epoch 20: ReduceLROnPlateau reducing learning rate to 2.499999936844688e-05.\n",
            "240/240 [==============================] - 16s 65ms/step - loss: 0.3034 - accuracy: 0.8833 - val_loss: 0.2930 - val_accuracy: 0.9167 - lr: 5.0000e-05\n",
            "Epoch 21/30\n",
            "240/240 [==============================] - ETA: 0s - loss: 0.2768 - accuracy: 0.9083\n",
            "Epoch 21: val_accuracy did not improve from 0.95000\n",
            "240/240 [==============================] - 16s 65ms/step - loss: 0.2768 - accuracy: 0.9083 - val_loss: 0.2904 - val_accuracy: 0.9167 - lr: 2.5000e-05\n",
            "Epoch 22/30\n",
            "240/240 [==============================] - ETA: 0s - loss: 0.2986 - accuracy: 0.8833\n",
            "Epoch 22: val_accuracy did not improve from 0.95000\n",
            "240/240 [==============================] - 16s 66ms/step - loss: 0.2986 - accuracy: 0.8833 - val_loss: 0.2898 - val_accuracy: 0.9167 - lr: 2.5000e-05\n",
            "Epoch 23/30\n",
            "240/240 [==============================] - ETA: 0s - loss: 0.2946 - accuracy: 0.8875\n",
            "Epoch 23: val_accuracy did not improve from 0.95000\n",
            "240/240 [==============================] - 16s 67ms/step - loss: 0.2946 - accuracy: 0.8875 - val_loss: 0.2884 - val_accuracy: 0.9167 - lr: 2.5000e-05\n",
            "              precision    recall  f1-score   support\n",
            "\n",
            "    Abnormal       0.92      0.88      0.90        26\n",
            "      Normal       0.91      0.94      0.93        34\n",
            "\n",
            "    accuracy                           0.92        60\n",
            "   macro avg       0.92      0.91      0.91        60\n",
            "weighted avg       0.92      0.92      0.92        60\n",
            "\n",
            "Fold #2\n",
            "Epoch 1/30\n",
            "240/240 [==============================] - ETA: 0s - loss: 0.2929 - accuracy: 0.8917\n",
            "Epoch 1: val_accuracy improved from -inf to 0.88333, saving model to  Kmodel1_sig_pre_bi2.h5 \n",
            "INFO:tensorflow:Assets written to:  Kmodel1_sig_pre_bi2.h5 /assets\n",
            "240/240 [==============================] - 90s 377ms/step - loss: 0.2929 - accuracy: 0.8917 - val_loss: 0.3140 - val_accuracy: 0.8833 - lr: 2.5000e-05\n",
            "Epoch 2/30\n",
            "240/240 [==============================] - ETA: 0s - loss: 0.2825 - accuracy: 0.9083\n",
            "Epoch 2: val_accuracy did not improve from 0.88333\n",
            "240/240 [==============================] - 16s 68ms/step - loss: 0.2825 - accuracy: 0.9083 - val_loss: 0.3200 - val_accuracy: 0.8833 - lr: 2.5000e-05\n",
            "Epoch 3/30\n",
            "240/240 [==============================] - ETA: 0s - loss: 0.2870 - accuracy: 0.8833\n",
            "Epoch 3: val_accuracy did not improve from 0.88333\n",
            "240/240 [==============================] - 16s 68ms/step - loss: 0.2870 - accuracy: 0.8833 - val_loss: 0.3175 - val_accuracy: 0.8833 - lr: 2.5000e-05\n",
            "Epoch 4/30\n",
            "240/240 [==============================] - ETA: 0s - loss: 0.2703 - accuracy: 0.9292\n",
            "Epoch 4: val_accuracy did not improve from 0.88333\n",
            "240/240 [==============================] - 16s 68ms/step - loss: 0.2703 - accuracy: 0.9292 - val_loss: 0.3201 - val_accuracy: 0.8833 - lr: 2.5000e-05\n",
            "Epoch 5/30\n",
            "240/240 [==============================] - ETA: 0s - loss: 0.2988 - accuracy: 0.8583\n",
            "Epoch 5: val_accuracy did not improve from 0.88333\n",
            "240/240 [==============================] - 16s 68ms/step - loss: 0.2988 - accuracy: 0.8583 - val_loss: 0.3199 - val_accuracy: 0.8833 - lr: 2.5000e-05\n",
            "Epoch 6/30\n",
            "240/240 [==============================] - ETA: 0s - loss: 0.2937 - accuracy: 0.8958\n",
            "Epoch 6: val_accuracy improved from 0.88333 to 0.90000, saving model to  Kmodel1_sig_pre_bi2.h5 \n",
            "INFO:tensorflow:Assets written to:  Kmodel1_sig_pre_bi2.h5 /assets\n",
            "240/240 [==============================] - 90s 375ms/step - loss: 0.2937 - accuracy: 0.8958 - val_loss: 0.3135 - val_accuracy: 0.9000 - lr: 2.5000e-05\n",
            "Epoch 7/30\n",
            "240/240 [==============================] - ETA: 0s - loss: 0.2658 - accuracy: 0.9125\n",
            "Epoch 7: val_accuracy did not improve from 0.90000\n",
            "240/240 [==============================] - 16s 67ms/step - loss: 0.2658 - accuracy: 0.9125 - val_loss: 0.3112 - val_accuracy: 0.9000 - lr: 2.5000e-05\n",
            "Epoch 8/30\n",
            "240/240 [==============================] - ETA: 0s - loss: 0.2517 - accuracy: 0.9167\n",
            "Epoch 8: val_accuracy did not improve from 0.90000\n",
            "240/240 [==============================] - 16s 65ms/step - loss: 0.2517 - accuracy: 0.9167 - val_loss: 0.3118 - val_accuracy: 0.8833 - lr: 2.5000e-05\n",
            "Epoch 9/30\n",
            "240/240 [==============================] - ETA: 0s - loss: 0.2625 - accuracy: 0.8917\n",
            "Epoch 9: val_accuracy did not improve from 0.90000\n",
            "240/240 [==============================] - 16s 66ms/step - loss: 0.2625 - accuracy: 0.8917 - val_loss: 0.3100 - val_accuracy: 0.8833 - lr: 2.5000e-05\n",
            "Epoch 10/30\n",
            "240/240 [==============================] - ETA: 0s - loss: 0.2773 - accuracy: 0.9083\n",
            "Epoch 10: val_accuracy did not improve from 0.90000\n",
            "240/240 [==============================] - 16s 66ms/step - loss: 0.2773 - accuracy: 0.9083 - val_loss: 0.3081 - val_accuracy: 0.9000 - lr: 2.5000e-05\n",
            "Epoch 11/30\n",
            "240/240 [==============================] - ETA: 0s - loss: 0.2673 - accuracy: 0.9042\n",
            "Epoch 11: val_accuracy did not improve from 0.90000\n",
            "240/240 [==============================] - 16s 67ms/step - loss: 0.2673 - accuracy: 0.9042 - val_loss: 0.3073 - val_accuracy: 0.9000 - lr: 2.5000e-05\n",
            "Epoch 12/30\n",
            "240/240 [==============================] - ETA: 0s - loss: 0.2705 - accuracy: 0.9125\n",
            "Epoch 12: val_accuracy did not improve from 0.90000\n",
            "\n",
            "Epoch 12: ReduceLROnPlateau reducing learning rate to 1.249999968422344e-05.\n",
            "240/240 [==============================] - 16s 68ms/step - loss: 0.2705 - accuracy: 0.9125 - val_loss: 0.3051 - val_accuracy: 0.9000 - lr: 2.5000e-05\n",
            "Epoch 13/30\n",
            "240/240 [==============================] - ETA: 0s - loss: 0.2801 - accuracy: 0.8833\n",
            "Epoch 13: val_accuracy did not improve from 0.90000\n",
            "240/240 [==============================] - 16s 66ms/step - loss: 0.2801 - accuracy: 0.8833 - val_loss: 0.3007 - val_accuracy: 0.8833 - lr: 1.2500e-05\n",
            "Epoch 14/30\n",
            "240/240 [==============================] - ETA: 0s - loss: 0.2648 - accuracy: 0.9083\n",
            "Epoch 14: val_accuracy did not improve from 0.90000\n",
            "240/240 [==============================] - 16s 67ms/step - loss: 0.2648 - accuracy: 0.9083 - val_loss: 0.3000 - val_accuracy: 0.8833 - lr: 1.2500e-05\n",
            "Epoch 15/30\n",
            "240/240 [==============================] - ETA: 0s - loss: 0.2671 - accuracy: 0.9208\n",
            "Epoch 15: val_accuracy did not improve from 0.90000\n",
            "240/240 [==============================] - 16s 67ms/step - loss: 0.2671 - accuracy: 0.9208 - val_loss: 0.3011 - val_accuracy: 0.8833 - lr: 1.2500e-05\n",
            "Epoch 16/30\n",
            "240/240 [==============================] - ETA: 0s - loss: 0.2891 - accuracy: 0.8875\n",
            "Epoch 16: val_accuracy did not improve from 0.90000\n",
            "240/240 [==============================] - 16s 66ms/step - loss: 0.2891 - accuracy: 0.8875 - val_loss: 0.3009 - val_accuracy: 0.9000 - lr: 1.2500e-05\n",
            "Epoch 17/30\n",
            "240/240 [==============================] - ETA: 0s - loss: 0.2545 - accuracy: 0.9292\n",
            "Epoch 17: val_accuracy did not improve from 0.90000\n",
            "240/240 [==============================] - 16s 66ms/step - loss: 0.2545 - accuracy: 0.9292 - val_loss: 0.3012 - val_accuracy: 0.9000 - lr: 1.2500e-05\n",
            "Epoch 18/30\n",
            "240/240 [==============================] - ETA: 0s - loss: 0.2790 - accuracy: 0.9000\n",
            "Epoch 18: val_accuracy did not improve from 0.90000\n",
            "\n",
            "Epoch 18: ReduceLROnPlateau reducing learning rate to 1e-05.\n",
            "240/240 [==============================] - 16s 66ms/step - loss: 0.2790 - accuracy: 0.9000 - val_loss: 0.3034 - val_accuracy: 0.9000 - lr: 1.2500e-05\n",
            "Epoch 19/30\n",
            "240/240 [==============================] - ETA: 0s - loss: 0.2632 - accuracy: 0.9208\n",
            "Epoch 19: val_accuracy did not improve from 0.90000\n",
            "240/240 [==============================] - 16s 67ms/step - loss: 0.2632 - accuracy: 0.9208 - val_loss: 0.3004 - val_accuracy: 0.9000 - lr: 1.0000e-05\n",
            "Epoch 20/30\n",
            "240/240 [==============================] - ETA: 0s - loss: 0.2618 - accuracy: 0.9042\n",
            "Epoch 20: val_accuracy did not improve from 0.90000\n",
            "240/240 [==============================] - 16s 66ms/step - loss: 0.2618 - accuracy: 0.9042 - val_loss: 0.2999 - val_accuracy: 0.9000 - lr: 1.0000e-05\n",
            "Epoch 21/30\n",
            "240/240 [==============================] - ETA: 0s - loss: 0.2381 - accuracy: 0.9292\n",
            "Epoch 21: val_accuracy did not improve from 0.90000\n",
            "240/240 [==============================] - 16s 66ms/step - loss: 0.2381 - accuracy: 0.9292 - val_loss: 0.3020 - val_accuracy: 0.9000 - lr: 1.0000e-05\n",
            "              precision    recall  f1-score   support\n",
            "\n",
            "    Abnormal       1.00      0.83      0.91        36\n",
            "      Normal       0.80      1.00      0.89        24\n",
            "\n",
            "    accuracy                           0.90        60\n",
            "   macro avg       0.90      0.92      0.90        60\n",
            "weighted avg       0.92      0.90      0.90        60\n",
            "\n",
            "Fold #3\n",
            "Epoch 1/30\n",
            "240/240 [==============================] - ETA: 0s - loss: 0.2330 - accuracy: 0.9250\n",
            "Epoch 1: val_accuracy improved from -inf to 0.91667, saving model to  Kmodel1_sig_pre_bi3.h5 \n",
            "INFO:tensorflow:Assets written to:  Kmodel1_sig_pre_bi3.h5 /assets\n",
            "240/240 [==============================] - 88s 370ms/step - loss: 0.2330 - accuracy: 0.9250 - val_loss: 0.2718 - val_accuracy: 0.9167 - lr: 1.0000e-05\n",
            "Epoch 2/30\n",
            "240/240 [==============================] - ETA: 0s - loss: 0.2631 - accuracy: 0.9250\n",
            "Epoch 2: val_accuracy did not improve from 0.91667\n",
            "240/240 [==============================] - 16s 66ms/step - loss: 0.2631 - accuracy: 0.9250 - val_loss: 0.2705 - val_accuracy: 0.9167 - lr: 1.0000e-05\n",
            "Epoch 3/30\n",
            "240/240 [==============================] - ETA: 0s - loss: 0.2639 - accuracy: 0.8917\n",
            "Epoch 3: val_accuracy improved from 0.91667 to 0.93333, saving model to  Kmodel1_sig_pre_bi3.h5 \n",
            "INFO:tensorflow:Assets written to:  Kmodel1_sig_pre_bi3.h5 /assets\n",
            "240/240 [==============================] - 91s 381ms/step - loss: 0.2639 - accuracy: 0.8917 - val_loss: 0.2691 - val_accuracy: 0.9333 - lr: 1.0000e-05\n",
            "Epoch 4/30\n",
            "240/240 [==============================] - ETA: 0s - loss: 0.2491 - accuracy: 0.9208\n",
            "Epoch 4: val_accuracy did not improve from 0.93333\n",
            "240/240 [==============================] - 16s 68ms/step - loss: 0.2491 - accuracy: 0.9208 - val_loss: 0.2682 - val_accuracy: 0.9333 - lr: 1.0000e-05\n",
            "Epoch 5/30\n",
            "240/240 [==============================] - ETA: 0s - loss: 0.2776 - accuracy: 0.8917\n",
            "Epoch 5: val_accuracy did not improve from 0.93333\n",
            "240/240 [==============================] - 17s 69ms/step - loss: 0.2776 - accuracy: 0.8917 - val_loss: 0.2675 - val_accuracy: 0.9333 - lr: 1.0000e-05\n",
            "Epoch 6/30\n",
            "240/240 [==============================] - ETA: 0s - loss: 0.2455 - accuracy: 0.9208\n",
            "Epoch 6: val_accuracy did not improve from 0.93333\n",
            "240/240 [==============================] - 16s 68ms/step - loss: 0.2455 - accuracy: 0.9208 - val_loss: 0.2668 - val_accuracy: 0.9333 - lr: 1.0000e-05\n",
            "Epoch 7/30\n",
            "240/240 [==============================] - ETA: 0s - loss: 0.2556 - accuracy: 0.9167\n",
            "Epoch 7: val_accuracy did not improve from 0.93333\n",
            "240/240 [==============================] - 16s 68ms/step - loss: 0.2556 - accuracy: 0.9167 - val_loss: 0.2647 - val_accuracy: 0.9167 - lr: 1.0000e-05\n",
            "Epoch 8/30\n",
            "240/240 [==============================] - ETA: 0s - loss: 0.2708 - accuracy: 0.9042\n",
            "Epoch 8: val_accuracy did not improve from 0.93333\n",
            "240/240 [==============================] - 17s 69ms/step - loss: 0.2708 - accuracy: 0.9042 - val_loss: 0.2653 - val_accuracy: 0.9333 - lr: 1.0000e-05\n",
            "Epoch 9/30\n",
            "240/240 [==============================] - ETA: 0s - loss: 0.2576 - accuracy: 0.9208\n",
            "Epoch 9: val_accuracy did not improve from 0.93333\n",
            "240/240 [==============================] - 16s 69ms/step - loss: 0.2576 - accuracy: 0.9208 - val_loss: 0.2658 - val_accuracy: 0.9333 - lr: 1.0000e-05\n",
            "Epoch 10/30\n",
            "240/240 [==============================] - ETA: 0s - loss: 0.2690 - accuracy: 0.8833\n",
            "Epoch 10: val_accuracy did not improve from 0.93333\n",
            "240/240 [==============================] - 16s 68ms/step - loss: 0.2690 - accuracy: 0.8833 - val_loss: 0.2646 - val_accuracy: 0.9333 - lr: 1.0000e-05\n",
            "Epoch 11/30\n",
            "240/240 [==============================] - ETA: 0s - loss: 0.2389 - accuracy: 0.9208\n",
            "Epoch 11: val_accuracy did not improve from 0.93333\n",
            "240/240 [==============================] - 17s 69ms/step - loss: 0.2389 - accuracy: 0.9208 - val_loss: 0.2641 - val_accuracy: 0.9333 - lr: 1.0000e-05\n",
            "Epoch 12/30\n",
            "240/240 [==============================] - ETA: 0s - loss: 0.2640 - accuracy: 0.9042\n",
            "Epoch 12: val_accuracy did not improve from 0.93333\n",
            "240/240 [==============================] - 17s 69ms/step - loss: 0.2640 - accuracy: 0.9042 - val_loss: 0.2623 - val_accuracy: 0.9167 - lr: 1.0000e-05\n",
            "Epoch 13/30\n",
            "240/240 [==============================] - ETA: 0s - loss: 0.2535 - accuracy: 0.9125\n",
            "Epoch 13: val_accuracy did not improve from 0.93333\n",
            "240/240 [==============================] - 16s 68ms/step - loss: 0.2535 - accuracy: 0.9125 - val_loss: 0.2620 - val_accuracy: 0.9167 - lr: 1.0000e-05\n",
            "Epoch 14/30\n",
            "240/240 [==============================] - ETA: 0s - loss: 0.2556 - accuracy: 0.9208\n",
            "Epoch 14: val_accuracy did not improve from 0.93333\n",
            "240/240 [==============================] - 17s 69ms/step - loss: 0.2556 - accuracy: 0.9208 - val_loss: 0.2621 - val_accuracy: 0.9167 - lr: 1.0000e-05\n",
            "Epoch 15/30\n",
            "240/240 [==============================] - ETA: 0s - loss: 0.2765 - accuracy: 0.9042\n",
            "Epoch 15: val_accuracy did not improve from 0.93333\n",
            "240/240 [==============================] - 17s 71ms/step - loss: 0.2765 - accuracy: 0.9042 - val_loss: 0.2626 - val_accuracy: 0.9167 - lr: 1.0000e-05\n",
            "Epoch 16/30\n",
            "240/240 [==============================] - ETA: 0s - loss: 0.2605 - accuracy: 0.9167\n",
            "Epoch 16: val_accuracy did not improve from 0.93333\n",
            "240/240 [==============================] - 17s 71ms/step - loss: 0.2605 - accuracy: 0.9167 - val_loss: 0.2619 - val_accuracy: 0.9167 - lr: 1.0000e-05\n",
            "Epoch 17/30\n",
            "240/240 [==============================] - ETA: 0s - loss: 0.2404 - accuracy: 0.9208\n",
            "Epoch 17: val_accuracy did not improve from 0.93333\n",
            "240/240 [==============================] - 17s 70ms/step - loss: 0.2404 - accuracy: 0.9208 - val_loss: 0.2629 - val_accuracy: 0.9333 - lr: 1.0000e-05\n",
            "Epoch 18/30\n",
            "240/240 [==============================] - ETA: 0s - loss: 0.2357 - accuracy: 0.9292\n",
            "Epoch 18: val_accuracy did not improve from 0.93333\n",
            "240/240 [==============================] - 17s 70ms/step - loss: 0.2357 - accuracy: 0.9292 - val_loss: 0.2622 - val_accuracy: 0.9333 - lr: 1.0000e-05\n",
            "              precision    recall  f1-score   support\n",
            "\n",
            "    Abnormal       1.00      0.86      0.93        29\n",
            "      Normal       0.89      1.00      0.94        31\n",
            "\n",
            "    accuracy                           0.93        60\n",
            "   macro avg       0.94      0.93      0.93        60\n",
            "weighted avg       0.94      0.93      0.93        60\n",
            "\n",
            "Fold #4\n",
            "Epoch 1/30\n",
            "240/240 [==============================] - ETA: 0s - loss: 0.2539 - accuracy: 0.9292\n",
            "Epoch 1: val_accuracy improved from -inf to 0.90000, saving model to  Kmodel1_sig_pre_bi4.h5 \n",
            "INFO:tensorflow:Assets written to:  Kmodel1_sig_pre_bi4.h5 /assets\n",
            "240/240 [==============================] - 96s 401ms/step - loss: 0.2539 - accuracy: 0.9292 - val_loss: 0.2768 - val_accuracy: 0.9000 - lr: 1.0000e-05\n",
            "Epoch 2/30\n",
            "240/240 [==============================] - ETA: 0s - loss: 0.2434 - accuracy: 0.9292\n",
            "Epoch 2: val_accuracy did not improve from 0.90000\n",
            "240/240 [==============================] - 17s 72ms/step - loss: 0.2434 - accuracy: 0.9292 - val_loss: 0.2763 - val_accuracy: 0.9000 - lr: 1.0000e-05\n",
            "Epoch 3/30\n",
            "240/240 [==============================] - ETA: 0s - loss: 0.2591 - accuracy: 0.9167\n",
            "Epoch 3: val_accuracy did not improve from 0.90000\n",
            "240/240 [==============================] - 17s 71ms/step - loss: 0.2591 - accuracy: 0.9167 - val_loss: 0.2752 - val_accuracy: 0.9000 - lr: 1.0000e-05\n",
            "Epoch 4/30\n",
            "240/240 [==============================] - ETA: 0s - loss: 0.2269 - accuracy: 0.9375\n",
            "Epoch 4: val_accuracy did not improve from 0.90000\n",
            "240/240 [==============================] - 17s 71ms/step - loss: 0.2269 - accuracy: 0.9375 - val_loss: 0.2751 - val_accuracy: 0.9000 - lr: 1.0000e-05\n",
            "Epoch 5/30\n",
            "240/240 [==============================] - ETA: 0s - loss: 0.2458 - accuracy: 0.9167\n",
            "Epoch 5: val_accuracy did not improve from 0.90000\n",
            "240/240 [==============================] - 17s 71ms/step - loss: 0.2458 - accuracy: 0.9167 - val_loss: 0.2742 - val_accuracy: 0.9000 - lr: 1.0000e-05\n",
            "Epoch 6/30\n",
            "240/240 [==============================] - ETA: 0s - loss: 0.2445 - accuracy: 0.9250\n",
            "Epoch 6: val_accuracy did not improve from 0.90000\n",
            "240/240 [==============================] - 17s 71ms/step - loss: 0.2445 - accuracy: 0.9250 - val_loss: 0.2737 - val_accuracy: 0.9000 - lr: 1.0000e-05\n",
            "Epoch 7/30\n",
            "240/240 [==============================] - ETA: 0s - loss: 0.2441 - accuracy: 0.9042\n",
            "Epoch 7: val_accuracy did not improve from 0.90000\n",
            "240/240 [==============================] - 17s 71ms/step - loss: 0.2441 - accuracy: 0.9042 - val_loss: 0.2732 - val_accuracy: 0.9000 - lr: 1.0000e-05\n",
            "Epoch 8/30\n",
            "240/240 [==============================] - ETA: 0s - loss: 0.2035 - accuracy: 0.9542\n",
            "Epoch 8: val_accuracy did not improve from 0.90000\n",
            "240/240 [==============================] - 17s 71ms/step - loss: 0.2035 - accuracy: 0.9542 - val_loss: 0.2728 - val_accuracy: 0.9000 - lr: 1.0000e-05\n",
            "Epoch 9/30\n",
            "240/240 [==============================] - ETA: 0s - loss: 0.2402 - accuracy: 0.9375\n",
            "Epoch 9: val_accuracy did not improve from 0.90000\n",
            "240/240 [==============================] - 17s 71ms/step - loss: 0.2402 - accuracy: 0.9375 - val_loss: 0.2727 - val_accuracy: 0.9000 - lr: 1.0000e-05\n",
            "Epoch 10/30\n",
            "240/240 [==============================] - ETA: 0s - loss: 0.2452 - accuracy: 0.9042\n",
            "Epoch 10: val_accuracy did not improve from 0.90000\n",
            "240/240 [==============================] - 17s 72ms/step - loss: 0.2452 - accuracy: 0.9042 - val_loss: 0.2725 - val_accuracy: 0.9000 - lr: 1.0000e-05\n",
            "Epoch 11/30\n",
            "240/240 [==============================] - ETA: 0s - loss: 0.2416 - accuracy: 0.9167\n",
            "Epoch 11: val_accuracy did not improve from 0.90000\n",
            "240/240 [==============================] - 17s 72ms/step - loss: 0.2416 - accuracy: 0.9167 - val_loss: 0.2719 - val_accuracy: 0.9000 - lr: 1.0000e-05\n",
            "Epoch 12/30\n",
            "240/240 [==============================] - ETA: 0s - loss: 0.2323 - accuracy: 0.9375\n",
            "Epoch 12: val_accuracy did not improve from 0.90000\n",
            "240/240 [==============================] - 17s 71ms/step - loss: 0.2323 - accuracy: 0.9375 - val_loss: 0.2707 - val_accuracy: 0.9000 - lr: 1.0000e-05\n",
            "Epoch 13/30\n",
            "240/240 [==============================] - ETA: 0s - loss: 0.2363 - accuracy: 0.9333\n",
            "Epoch 13: val_accuracy did not improve from 0.90000\n",
            "240/240 [==============================] - 17s 70ms/step - loss: 0.2363 - accuracy: 0.9333 - val_loss: 0.2702 - val_accuracy: 0.9000 - lr: 1.0000e-05\n",
            "Epoch 14/30\n",
            "240/240 [==============================] - ETA: 0s - loss: 0.2309 - accuracy: 0.9458\n",
            "Epoch 14: val_accuracy did not improve from 0.90000\n",
            "240/240 [==============================] - 17s 71ms/step - loss: 0.2309 - accuracy: 0.9458 - val_loss: 0.2698 - val_accuracy: 0.9000 - lr: 1.0000e-05\n",
            "Epoch 15/30\n",
            "240/240 [==============================] - ETA: 0s - loss: 0.2351 - accuracy: 0.9250\n",
            "Epoch 15: val_accuracy did not improve from 0.90000\n",
            "240/240 [==============================] - 17s 71ms/step - loss: 0.2351 - accuracy: 0.9250 - val_loss: 0.2705 - val_accuracy: 0.9000 - lr: 1.0000e-05\n",
            "Epoch 16/30\n",
            "240/240 [==============================] - ETA: 0s - loss: 0.2708 - accuracy: 0.9125\n",
            "Epoch 16: val_accuracy did not improve from 0.90000\n",
            "240/240 [==============================] - 17s 72ms/step - loss: 0.2708 - accuracy: 0.9125 - val_loss: 0.2694 - val_accuracy: 0.9000 - lr: 1.0000e-05\n",
            "              precision    recall  f1-score   support\n",
            "\n",
            "    Abnormal       0.95      0.80      0.87        25\n",
            "      Normal       0.87      0.97      0.92        35\n",
            "\n",
            "    accuracy                           0.90        60\n",
            "   macro avg       0.91      0.89      0.89        60\n",
            "weighted avg       0.91      0.90      0.90        60\n",
            "\n",
            "Fold #5\n",
            "Epoch 1/30\n",
            "240/240 [==============================] - ETA: 0s - loss: 0.2534 - accuracy: 0.9125\n",
            "Epoch 1: val_accuracy improved from -inf to 0.90000, saving model to  Kmodel1_sig_pre_bi5.h5 \n",
            "INFO:tensorflow:Assets written to:  Kmodel1_sig_pre_bi5.h5 /assets\n",
            "240/240 [==============================] - 98s 411ms/step - loss: 0.2534 - accuracy: 0.9125 - val_loss: 0.2579 - val_accuracy: 0.9000 - lr: 1.0000e-05\n",
            "Epoch 2/30\n",
            "240/240 [==============================] - ETA: 0s - loss: 0.2669 - accuracy: 0.8833\n",
            "Epoch 2: val_accuracy improved from 0.90000 to 0.91667, saving model to  Kmodel1_sig_pre_bi5.h5 \n",
            "INFO:tensorflow:Assets written to:  Kmodel1_sig_pre_bi5.h5 /assets\n",
            "240/240 [==============================] - 98s 412ms/step - loss: 0.2669 - accuracy: 0.8833 - val_loss: 0.2567 - val_accuracy: 0.9167 - lr: 1.0000e-05\n",
            "Epoch 3/30\n",
            "240/240 [==============================] - ETA: 0s - loss: 0.2459 - accuracy: 0.9208\n",
            "Epoch 3: val_accuracy did not improve from 0.91667\n",
            "240/240 [==============================] - 18s 73ms/step - loss: 0.2459 - accuracy: 0.9208 - val_loss: 0.2586 - val_accuracy: 0.9000 - lr: 1.0000e-05\n",
            "Epoch 4/30\n",
            "240/240 [==============================] - ETA: 0s - loss: 0.2500 - accuracy: 0.9083\n",
            "Epoch 4: val_accuracy did not improve from 0.91667\n",
            "240/240 [==============================] - 17s 72ms/step - loss: 0.2500 - accuracy: 0.9083 - val_loss: 0.2572 - val_accuracy: 0.9000 - lr: 1.0000e-05\n",
            "Epoch 5/30\n",
            "240/240 [==============================] - ETA: 0s - loss: 0.2499 - accuracy: 0.9292\n",
            "Epoch 5: val_accuracy did not improve from 0.91667\n",
            "240/240 [==============================] - 17s 72ms/step - loss: 0.2499 - accuracy: 0.9292 - val_loss: 0.2579 - val_accuracy: 0.9000 - lr: 1.0000e-05\n",
            "Epoch 6/30\n",
            "240/240 [==============================] - ETA: 0s - loss: 0.2370 - accuracy: 0.9375\n",
            "Epoch 6: val_accuracy did not improve from 0.91667\n",
            "240/240 [==============================] - 17s 72ms/step - loss: 0.2370 - accuracy: 0.9375 - val_loss: 0.2589 - val_accuracy: 0.9000 - lr: 1.0000e-05\n",
            "Epoch 7/30\n",
            "240/240 [==============================] - ETA: 0s - loss: 0.2434 - accuracy: 0.9167\n",
            "Epoch 7: val_accuracy did not improve from 0.91667\n",
            "240/240 [==============================] - 17s 72ms/step - loss: 0.2434 - accuracy: 0.9167 - val_loss: 0.2574 - val_accuracy: 0.9000 - lr: 1.0000e-05\n",
            "Epoch 8/30\n",
            "240/240 [==============================] - ETA: 0s - loss: 0.2353 - accuracy: 0.9125\n",
            "Epoch 8: val_accuracy did not improve from 0.91667\n",
            "240/240 [==============================] - 17s 73ms/step - loss: 0.2353 - accuracy: 0.9125 - val_loss: 0.2592 - val_accuracy: 0.9000 - lr: 1.0000e-05\n",
            "Epoch 9/30\n",
            "240/240 [==============================] - ETA: 0s - loss: 0.2638 - accuracy: 0.9083\n",
            "Epoch 9: val_accuracy did not improve from 0.91667\n",
            "240/240 [==============================] - 17s 73ms/step - loss: 0.2638 - accuracy: 0.9083 - val_loss: 0.2575 - val_accuracy: 0.9000 - lr: 1.0000e-05\n",
            "Epoch 10/30\n",
            "240/240 [==============================] - ETA: 0s - loss: 0.2579 - accuracy: 0.9042\n",
            "Epoch 10: val_accuracy did not improve from 0.91667\n",
            "240/240 [==============================] - 17s 72ms/step - loss: 0.2579 - accuracy: 0.9042 - val_loss: 0.2582 - val_accuracy: 0.9000 - lr: 1.0000e-05\n",
            "Epoch 11/30\n",
            "240/240 [==============================] - ETA: 0s - loss: 0.2593 - accuracy: 0.8917\n",
            "Epoch 11: val_accuracy did not improve from 0.91667\n",
            "240/240 [==============================] - 18s 74ms/step - loss: 0.2593 - accuracy: 0.8917 - val_loss: 0.2554 - val_accuracy: 0.9000 - lr: 1.0000e-05\n",
            "Epoch 12/30\n",
            "240/240 [==============================] - ETA: 0s - loss: 0.2554 - accuracy: 0.9125\n",
            "Epoch 12: val_accuracy did not improve from 0.91667\n",
            "240/240 [==============================] - 17s 72ms/step - loss: 0.2554 - accuracy: 0.9125 - val_loss: 0.2562 - val_accuracy: 0.9000 - lr: 1.0000e-05\n",
            "Epoch 13/30\n",
            "240/240 [==============================] - ETA: 0s - loss: 0.2551 - accuracy: 0.9000\n",
            "Epoch 13: val_accuracy did not improve from 0.91667\n",
            "240/240 [==============================] - 17s 72ms/step - loss: 0.2551 - accuracy: 0.9000 - val_loss: 0.2557 - val_accuracy: 0.9000 - lr: 1.0000e-05\n",
            "Epoch 14/30\n",
            "240/240 [==============================] - ETA: 0s - loss: 0.2598 - accuracy: 0.9208\n",
            "Epoch 14: val_accuracy did not improve from 0.91667\n",
            "240/240 [==============================] - 17s 73ms/step - loss: 0.2598 - accuracy: 0.9208 - val_loss: 0.2565 - val_accuracy: 0.9000 - lr: 1.0000e-05\n",
            "Epoch 15/30\n",
            "240/240 [==============================] - ETA: 0s - loss: 0.2527 - accuracy: 0.9208\n",
            "Epoch 15: val_accuracy did not improve from 0.91667\n",
            "240/240 [==============================] - 17s 72ms/step - loss: 0.2527 - accuracy: 0.9208 - val_loss: 0.2567 - val_accuracy: 0.9000 - lr: 1.0000e-05\n",
            "Epoch 16/30\n",
            "240/240 [==============================] - ETA: 0s - loss: 0.2273 - accuracy: 0.9208\n",
            "Epoch 16: val_accuracy did not improve from 0.91667\n",
            "240/240 [==============================] - 17s 72ms/step - loss: 0.2273 - accuracy: 0.9208 - val_loss: 0.2583 - val_accuracy: 0.9000 - lr: 1.0000e-05\n",
            "Epoch 17/30\n",
            "240/240 [==============================] - ETA: 0s - loss: 0.2392 - accuracy: 0.9167\n",
            "Epoch 17: val_accuracy did not improve from 0.91667\n",
            "240/240 [==============================] - 17s 72ms/step - loss: 0.2392 - accuracy: 0.9167 - val_loss: 0.2570 - val_accuracy: 0.9000 - lr: 1.0000e-05\n",
            "              precision    recall  f1-score   support\n",
            "\n",
            "    Abnormal       1.00      0.82      0.90        34\n",
            "      Normal       0.81      1.00      0.90        26\n",
            "\n",
            "    accuracy                           0.90        60\n",
            "   macro avg       0.91      0.91      0.90        60\n",
            "weighted avg       0.92      0.90      0.90        60\n",
            "\n",
            "              precision    recall  f1-score   support\n",
            "\n",
            "    Abnormal       0.98      0.84      0.90       150\n",
            "      Normal       0.86      0.98      0.92       150\n",
            "\n",
            "    accuracy                           0.91       300\n",
            "   macro avg       0.92      0.91      0.91       300\n",
            "weighted avg       0.92      0.91      0.91       300\n",
            "\n"
          ]
        }
      ]
    },
    {
      "cell_type": "markdown",
      "source": [
        "#### 1 sig pre bi adam\n",
        "--> "
      ],
      "metadata": {
        "id": "bUxkc3DgZjjH"
      }
    },
    {
      "cell_type": "code",
      "source": [
        "BS = 1\n",
        "filepath = \"Kmodel1_sig_pre_bi_adam\"                  ##\n",
        "\n",
        "train_img_Dense = []\n",
        "for ImageName in tqdm(data_train3['ImageName']):               # รัน ชื่อรูป ในไฟล์ data_test3\n",
        "    image_path = All_3class_dir +'/' + ImageName                   # ดึงรูปในโฟล์เดอร์มาทีละรูป\n",
        "    img = cv2.imread(image_path)                                            # อ่านรูป\n",
        "    img = cv2.resize(img, (224, 224))                                       #ขนาดของ input\n",
        "    train_img_Dense.append(img)\n",
        "data_Dense = np.array(train_img_Dense, dtype=\"float32\") / 255.0\n",
        "\n",
        "labels_Dense = np.array(data_train3[['NameType']] )        \n",
        "labels_Dense.shape = (len(labels_Dense),) \n",
        "le_Dense = LabelEncoder()                                                                     \n",
        "labels_Dense = le_Dense.fit_transform(labels_Dense)                                         #จะแปลงชื่อ class เป็นตัวเลข 1, 2, 0 \n",
        "labels_Dense = to_categorical(labels_Dense, num_classes=2)                    \n",
        "\n",
        "aug = ImageDataGenerator( rotation_range=15,\twidth_shift_range=0.1, \theight_shift_range=0.1,\n",
        "\t\tshear_range=0.15, \thorizontal_flip=True, \tfill_mode=\"nearest\")\n",
        "                                                                                                          \n",
        "callback = EarlyStopping( monitor= \"val_accuracy\",    patience=15,       mode=\"max\")\n",
        "\n",
        "# checkpoint = ModelCheckpoint(filepath, monitor='val_accuracy', verbose=1,   save_best_only=True, mode='max')\n",
        "                                                                                                            ##\n",
        "reduce_lr = ReduceLROnPlateau(monitor='val_accuracy', factor=0.5,   patience=6,     verbose=1, mode='max', min_lr=0.00001)"
      ],
      "metadata": {
        "outputId": "67cd9968-7a54-4efd-cb6f-a959ec42be81",
        "colab": {
          "base_uri": "https://localhost:8080/"
        },
        "id": "Ll_HyK1jZjjI"
      },
      "execution_count": 16,
      "outputs": [
        {
          "output_type": "stream",
          "name": "stderr",
          "text": [
            "100%|██████████| 300/300 [00:03<00:00, 79.86it/s]\n"
          ]
        }
      ]
    },
    {
      "cell_type": "code",
      "source": [
        "base_model_Dense = tf.keras.applications.DenseNet201(input_shape=(224, 224, 3), include_top=False, weights=\"imagenet\")\n",
        "base_model_Dense.trainable=False\n",
        "#Add custom head\n",
        "average_pooling_layer = tf.keras.layers.GlobalAveragePooling2D()(base_model_Dense.output)\n",
        "prediction_layer = tf.keras.layers.Dense(units=2, activation=\"sigmoid\")(average_pooling_layer)   # unit 2\n",
        "model_Dense = tf.keras.models.Model(inputs=base_model_Dense.input, outputs=prediction_layer)\n",
        "model_Dense.compile(optimizer=Adam(learning_rate=0.0001), loss=\"binary_crossentropy\", metrics=[\"accuracy\"])\n",
        "\n",
        "### K-fold\n",
        "kf = KFold(5, shuffle=True, random_state=40) \n",
        "\n",
        "oos_y = []\n",
        "oos_pred = []\n",
        "fold = 0\n",
        "\n",
        "for train, test in kf.split(data_Dense):\n",
        "    fold+=1\n",
        "    print(f\"Fold #{fold}\")\n",
        "\n",
        "    filename = f\" {filepath}{fold}.h5 \"\n",
        "    checkpoint = ModelCheckpoint(filename, monitor='val_accuracy', verbose=1,   save_best_only=True, mode='max')\n",
        "\n",
        "    x_train_Dense = data_Dense[train]\n",
        "    y_train_Dense = labels_Dense[train]\n",
        "    x_test_Dense = data_Dense[test]\n",
        "    y_test_Dense = labels_Dense[test]\n",
        "\n",
        "    H_Dense = model_Dense.fit( x=aug.flow(x_train_Dense, y_train_Dense, batch_size=BS),\n",
        "\t                                            validation_data=(x_test_Dense, y_test_Dense),\n",
        "\t                                            steps_per_epoch=len(x_train_Dense) // BS,\n",
        "\t                                            epochs=30,  callbacks = [callback,checkpoint,reduce_lr])\n",
        "    \n",
        "    pred_Dense = model_Dense.predict(x_test_Dense)\n",
        "    \n",
        "    oos_y.append(y_test_Dense)\n",
        "    oos_pred.append(pred_Dense)  \n",
        "    print(classification_report(y_test_Dense.argmax(axis=1),\t                #แสดง report ค่า acc, recall, ...\n",
        "                                        pred_Dense.argmax(axis=1),  \n",
        "                                        target_names=le_Dense.classes_))   \n",
        "    \n",
        "oos_y = np.concatenate(oos_y)\n",
        "oos_pred = np.concatenate(oos_pred)\n",
        "print(classification_report(oos_y.argmax(axis=1), oos_pred.argmax(axis=1),  target_names=le_Dense.classes_))"
      ],
      "metadata": {
        "colab": {
          "base_uri": "https://localhost:8080/"
        },
        "id": "ZYvwdzJQD2Cj",
        "outputId": "dc3f0e9d-4521-468f-88ed-5cbd60e7f8da"
      },
      "execution_count": 17,
      "outputs": [
        {
          "output_type": "stream",
          "name": "stdout",
          "text": [
            "Fold #1\n",
            "Epoch 1/30\n",
            "240/240 [==============================] - ETA: 0s - loss: 0.6510 - accuracy: 0.6417\n",
            "Epoch 1: val_accuracy improved from -inf to 0.43333, saving model to  Kmodel1_sig_pre_bi_adam1.h5 \n",
            "INFO:tensorflow:Assets written to:  Kmodel1_sig_pre_bi_adam1.h5 /assets\n",
            "240/240 [==============================] - 112s 408ms/step - loss: 0.6510 - accuracy: 0.6417 - val_loss: 0.6727 - val_accuracy: 0.4333 - lr: 1.0000e-04\n",
            "Epoch 2/30\n",
            "240/240 [==============================] - ETA: 0s - loss: 0.6019 - accuracy: 0.7583\n",
            "Epoch 2: val_accuracy improved from 0.43333 to 0.75000, saving model to  Kmodel1_sig_pre_bi_adam1.h5 \n",
            "INFO:tensorflow:Assets written to:  Kmodel1_sig_pre_bi_adam1.h5 /assets\n",
            "240/240 [==============================] - 97s 403ms/step - loss: 0.6019 - accuracy: 0.7583 - val_loss: 0.5824 - val_accuracy: 0.7500 - lr: 1.0000e-04\n",
            "Epoch 3/30\n",
            "240/240 [==============================] - ETA: 0s - loss: 0.5542 - accuracy: 0.7625\n",
            "Epoch 3: val_accuracy improved from 0.75000 to 0.86667, saving model to  Kmodel1_sig_pre_bi_adam1.h5 \n",
            "INFO:tensorflow:Assets written to:  Kmodel1_sig_pre_bi_adam1.h5 /assets\n",
            "240/240 [==============================] - 96s 402ms/step - loss: 0.5542 - accuracy: 0.7625 - val_loss: 0.5196 - val_accuracy: 0.8667 - lr: 1.0000e-04\n",
            "Epoch 4/30\n",
            "240/240 [==============================] - ETA: 0s - loss: 0.5214 - accuracy: 0.8167\n",
            "Epoch 4: val_accuracy improved from 0.86667 to 0.91667, saving model to  Kmodel1_sig_pre_bi_adam1.h5 \n",
            "INFO:tensorflow:Assets written to:  Kmodel1_sig_pre_bi_adam1.h5 /assets\n",
            "240/240 [==============================] - 96s 402ms/step - loss: 0.5214 - accuracy: 0.8167 - val_loss: 0.4875 - val_accuracy: 0.9167 - lr: 1.0000e-04\n",
            "Epoch 5/30\n",
            "240/240 [==============================] - ETA: 0s - loss: 0.4974 - accuracy: 0.8250\n",
            "Epoch 5: val_accuracy did not improve from 0.91667\n",
            "240/240 [==============================] - 16s 69ms/step - loss: 0.4974 - accuracy: 0.8250 - val_loss: 0.4605 - val_accuracy: 0.9167 - lr: 1.0000e-04\n",
            "Epoch 6/30\n",
            "240/240 [==============================] - ETA: 0s - loss: 0.4677 - accuracy: 0.8750\n",
            "Epoch 6: val_accuracy improved from 0.91667 to 0.93333, saving model to  Kmodel1_sig_pre_bi_adam1.h5 \n",
            "INFO:tensorflow:Assets written to:  Kmodel1_sig_pre_bi_adam1.h5 /assets\n",
            "240/240 [==============================] - 94s 395ms/step - loss: 0.4677 - accuracy: 0.8750 - val_loss: 0.4346 - val_accuracy: 0.9333 - lr: 1.0000e-04\n",
            "Epoch 7/30\n",
            "240/240 [==============================] - ETA: 0s - loss: 0.4295 - accuracy: 0.8625\n",
            "Epoch 7: val_accuracy did not improve from 0.93333\n",
            "240/240 [==============================] - 16s 67ms/step - loss: 0.4295 - accuracy: 0.8625 - val_loss: 0.4365 - val_accuracy: 0.9167 - lr: 1.0000e-04\n",
            "Epoch 8/30\n",
            "240/240 [==============================] - ETA: 0s - loss: 0.4199 - accuracy: 0.8750\n",
            "Epoch 8: val_accuracy did not improve from 0.93333\n",
            "240/240 [==============================] - 16s 68ms/step - loss: 0.4199 - accuracy: 0.8750 - val_loss: 0.4069 - val_accuracy: 0.9167 - lr: 1.0000e-04\n",
            "Epoch 9/30\n",
            "240/240 [==============================] - ETA: 0s - loss: 0.4025 - accuracy: 0.8792\n",
            "Epoch 9: val_accuracy did not improve from 0.93333\n",
            "240/240 [==============================] - 16s 67ms/step - loss: 0.4025 - accuracy: 0.8792 - val_loss: 0.3808 - val_accuracy: 0.9333 - lr: 1.0000e-04\n",
            "Epoch 10/30\n",
            "240/240 [==============================] - ETA: 0s - loss: 0.3827 - accuracy: 0.8708\n",
            "Epoch 10: val_accuracy did not improve from 0.93333\n",
            "240/240 [==============================] - 16s 68ms/step - loss: 0.3827 - accuracy: 0.8708 - val_loss: 0.3669 - val_accuracy: 0.9333 - lr: 1.0000e-04\n",
            "Epoch 11/30\n",
            "240/240 [==============================] - ETA: 0s - loss: 0.3545 - accuracy: 0.8875\n",
            "Epoch 11: val_accuracy improved from 0.93333 to 0.95000, saving model to  Kmodel1_sig_pre_bi_adam1.h5 \n",
            "INFO:tensorflow:Assets written to:  Kmodel1_sig_pre_bi_adam1.h5 /assets\n",
            "240/240 [==============================] - 95s 396ms/step - loss: 0.3545 - accuracy: 0.8875 - val_loss: 0.3602 - val_accuracy: 0.9500 - lr: 1.0000e-04\n",
            "Epoch 12/30\n",
            "240/240 [==============================] - ETA: 0s - loss: 0.3495 - accuracy: 0.9042\n",
            "Epoch 12: val_accuracy did not improve from 0.95000\n",
            "240/240 [==============================] - 17s 70ms/step - loss: 0.3495 - accuracy: 0.9042 - val_loss: 0.3390 - val_accuracy: 0.9333 - lr: 1.0000e-04\n",
            "Epoch 13/30\n",
            "240/240 [==============================] - ETA: 0s - loss: 0.3520 - accuracy: 0.8917\n",
            "Epoch 13: val_accuracy did not improve from 0.95000\n",
            "240/240 [==============================] - 17s 69ms/step - loss: 0.3520 - accuracy: 0.8917 - val_loss: 0.3283 - val_accuracy: 0.9333 - lr: 1.0000e-04\n",
            "Epoch 14/30\n",
            "240/240 [==============================] - ETA: 0s - loss: 0.3293 - accuracy: 0.8958\n",
            "Epoch 14: val_accuracy did not improve from 0.95000\n",
            "240/240 [==============================] - 17s 69ms/step - loss: 0.3293 - accuracy: 0.8958 - val_loss: 0.3251 - val_accuracy: 0.9500 - lr: 1.0000e-04\n",
            "Epoch 15/30\n",
            "240/240 [==============================] - ETA: 0s - loss: 0.3329 - accuracy: 0.9000\n",
            "Epoch 15: val_accuracy did not improve from 0.95000\n",
            "240/240 [==============================] - 17s 69ms/step - loss: 0.3329 - accuracy: 0.9000 - val_loss: 0.3206 - val_accuracy: 0.9500 - lr: 1.0000e-04\n",
            "Epoch 16/30\n",
            "240/240 [==============================] - ETA: 0s - loss: 0.3009 - accuracy: 0.8875\n",
            "Epoch 16: val_accuracy did not improve from 0.95000\n",
            "240/240 [==============================] - 17s 69ms/step - loss: 0.3009 - accuracy: 0.8875 - val_loss: 0.3088 - val_accuracy: 0.9500 - lr: 1.0000e-04\n",
            "Epoch 17/30\n",
            "240/240 [==============================] - ETA: 0s - loss: 0.2956 - accuracy: 0.9083\n",
            "Epoch 17: val_accuracy did not improve from 0.95000\n",
            "\n",
            "Epoch 17: ReduceLROnPlateau reducing learning rate to 4.999999873689376e-05.\n",
            "240/240 [==============================] - 17s 69ms/step - loss: 0.2956 - accuracy: 0.9083 - val_loss: 0.2947 - val_accuracy: 0.9500 - lr: 1.0000e-04\n",
            "Epoch 18/30\n",
            "240/240 [==============================] - ETA: 0s - loss: 0.3006 - accuracy: 0.9042\n",
            "Epoch 18: val_accuracy did not improve from 0.95000\n",
            "240/240 [==============================] - 16s 68ms/step - loss: 0.3006 - accuracy: 0.9042 - val_loss: 0.2933 - val_accuracy: 0.9500 - lr: 5.0000e-05\n",
            "Epoch 19/30\n",
            "240/240 [==============================] - ETA: 0s - loss: 0.2959 - accuracy: 0.9167\n",
            "Epoch 19: val_accuracy did not improve from 0.95000\n",
            "240/240 [==============================] - 17s 69ms/step - loss: 0.2959 - accuracy: 0.9167 - val_loss: 0.2945 - val_accuracy: 0.9500 - lr: 5.0000e-05\n",
            "Epoch 20/30\n",
            "240/240 [==============================] - ETA: 0s - loss: 0.2870 - accuracy: 0.9000\n",
            "Epoch 20: val_accuracy did not improve from 0.95000\n",
            "240/240 [==============================] - 17s 70ms/step - loss: 0.2870 - accuracy: 0.9000 - val_loss: 0.2833 - val_accuracy: 0.9500 - lr: 5.0000e-05\n",
            "Epoch 21/30\n",
            "240/240 [==============================] - ETA: 0s - loss: 0.2722 - accuracy: 0.9292\n",
            "Epoch 21: val_accuracy did not improve from 0.95000\n",
            "240/240 [==============================] - 17s 69ms/step - loss: 0.2722 - accuracy: 0.9292 - val_loss: 0.2849 - val_accuracy: 0.9500 - lr: 5.0000e-05\n",
            "Epoch 22/30\n",
            "240/240 [==============================] - ETA: 0s - loss: 0.2970 - accuracy: 0.9167\n",
            "Epoch 22: val_accuracy did not improve from 0.95000\n",
            "240/240 [==============================] - 17s 70ms/step - loss: 0.2970 - accuracy: 0.9167 - val_loss: 0.2771 - val_accuracy: 0.9500 - lr: 5.0000e-05\n",
            "Epoch 23/30\n",
            "240/240 [==============================] - ETA: 0s - loss: 0.2822 - accuracy: 0.9083\n",
            "Epoch 23: val_accuracy did not improve from 0.95000\n",
            "\n",
            "Epoch 23: ReduceLROnPlateau reducing learning rate to 2.499999936844688e-05.\n",
            "240/240 [==============================] - 17s 70ms/step - loss: 0.2822 - accuracy: 0.9083 - val_loss: 0.2764 - val_accuracy: 0.9500 - lr: 5.0000e-05\n",
            "Epoch 24/30\n",
            "240/240 [==============================] - ETA: 0s - loss: 0.2739 - accuracy: 0.9250\n",
            "Epoch 24: val_accuracy did not improve from 0.95000\n",
            "240/240 [==============================] - 17s 70ms/step - loss: 0.2739 - accuracy: 0.9250 - val_loss: 0.2755 - val_accuracy: 0.9500 - lr: 2.5000e-05\n",
            "Epoch 25/30\n",
            "240/240 [==============================] - ETA: 0s - loss: 0.2598 - accuracy: 0.9167\n",
            "Epoch 25: val_accuracy did not improve from 0.95000\n",
            "240/240 [==============================] - 17s 69ms/step - loss: 0.2598 - accuracy: 0.9167 - val_loss: 0.2751 - val_accuracy: 0.9500 - lr: 2.5000e-05\n",
            "Epoch 26/30\n",
            "240/240 [==============================] - ETA: 0s - loss: 0.2705 - accuracy: 0.9000\n",
            "Epoch 26: val_accuracy did not improve from 0.95000\n",
            "240/240 [==============================] - 17s 69ms/step - loss: 0.2705 - accuracy: 0.9000 - val_loss: 0.2725 - val_accuracy: 0.9500 - lr: 2.5000e-05\n",
            "              precision    recall  f1-score   support\n",
            "\n",
            "    Abnormal       0.93      0.96      0.94        26\n",
            "      Normal       0.97      0.94      0.96        34\n",
            "\n",
            "    accuracy                           0.95        60\n",
            "   macro avg       0.95      0.95      0.95        60\n",
            "weighted avg       0.95      0.95      0.95        60\n",
            "\n",
            "Fold #2\n",
            "Epoch 1/30\n",
            "240/240 [==============================] - ETA: 0s - loss: 0.2748 - accuracy: 0.9042\n",
            "Epoch 1: val_accuracy improved from -inf to 0.90000, saving model to  Kmodel1_sig_pre_bi_adam2.h5 \n",
            "INFO:tensorflow:Assets written to:  Kmodel1_sig_pre_bi_adam2.h5 /assets\n",
            "240/240 [==============================] - 96s 403ms/step - loss: 0.2748 - accuracy: 0.9042 - val_loss: 0.2814 - val_accuracy: 0.9000 - lr: 2.5000e-05\n",
            "Epoch 2/30\n",
            "240/240 [==============================] - ETA: 0s - loss: 0.2588 - accuracy: 0.9250\n",
            "Epoch 2: val_accuracy did not improve from 0.90000\n",
            "240/240 [==============================] - 17s 69ms/step - loss: 0.2588 - accuracy: 0.9250 - val_loss: 0.2828 - val_accuracy: 0.9000 - lr: 2.5000e-05\n",
            "Epoch 3/30\n",
            "240/240 [==============================] - ETA: 0s - loss: 0.2544 - accuracy: 0.9333\n",
            "Epoch 3: val_accuracy did not improve from 0.90000\n",
            "240/240 [==============================] - 17s 69ms/step - loss: 0.2544 - accuracy: 0.9333 - val_loss: 0.2794 - val_accuracy: 0.9000 - lr: 2.5000e-05\n",
            "Epoch 4/30\n",
            "240/240 [==============================] - ETA: 0s - loss: 0.2553 - accuracy: 0.9167\n",
            "Epoch 4: val_accuracy did not improve from 0.90000\n",
            "240/240 [==============================] - 17s 69ms/step - loss: 0.2553 - accuracy: 0.9167 - val_loss: 0.2804 - val_accuracy: 0.9000 - lr: 2.5000e-05\n",
            "Epoch 5/30\n",
            "240/240 [==============================] - ETA: 0s - loss: 0.2613 - accuracy: 0.9167\n",
            "Epoch 5: val_accuracy did not improve from 0.90000\n",
            "240/240 [==============================] - 17s 69ms/step - loss: 0.2613 - accuracy: 0.9167 - val_loss: 0.2784 - val_accuracy: 0.9000 - lr: 2.5000e-05\n",
            "Epoch 6/30\n",
            "240/240 [==============================] - ETA: 0s - loss: 0.2453 - accuracy: 0.9208\n",
            "Epoch 6: val_accuracy did not improve from 0.90000\n",
            "240/240 [==============================] - 17s 69ms/step - loss: 0.2453 - accuracy: 0.9208 - val_loss: 0.2781 - val_accuracy: 0.9000 - lr: 2.5000e-05\n",
            "Epoch 7/30\n",
            "240/240 [==============================] - ETA: 0s - loss: 0.2407 - accuracy: 0.9208\n",
            "Epoch 7: val_accuracy did not improve from 0.90000\n",
            "\n",
            "Epoch 7: ReduceLROnPlateau reducing learning rate to 1.249999968422344e-05.\n",
            "240/240 [==============================] - 17s 69ms/step - loss: 0.2407 - accuracy: 0.9208 - val_loss: 0.2807 - val_accuracy: 0.9000 - lr: 2.5000e-05\n",
            "Epoch 8/30\n",
            "240/240 [==============================] - ETA: 0s - loss: 0.2442 - accuracy: 0.9250\n",
            "Epoch 8: val_accuracy did not improve from 0.90000\n",
            "240/240 [==============================] - 17s 69ms/step - loss: 0.2442 - accuracy: 0.9250 - val_loss: 0.2786 - val_accuracy: 0.9000 - lr: 1.2500e-05\n",
            "Epoch 9/30\n",
            "240/240 [==============================] - ETA: 0s - loss: 0.2622 - accuracy: 0.9042\n",
            "Epoch 9: val_accuracy did not improve from 0.90000\n",
            "240/240 [==============================] - 17s 69ms/step - loss: 0.2622 - accuracy: 0.9042 - val_loss: 0.2754 - val_accuracy: 0.9000 - lr: 1.2500e-05\n",
            "Epoch 10/30\n",
            "240/240 [==============================] - ETA: 0s - loss: 0.2545 - accuracy: 0.9375\n",
            "Epoch 10: val_accuracy did not improve from 0.90000\n",
            "240/240 [==============================] - 17s 69ms/step - loss: 0.2545 - accuracy: 0.9375 - val_loss: 0.2753 - val_accuracy: 0.9000 - lr: 1.2500e-05\n",
            "Epoch 11/30\n",
            "240/240 [==============================] - ETA: 0s - loss: 0.2278 - accuracy: 0.9417\n",
            "Epoch 11: val_accuracy did not improve from 0.90000\n",
            "240/240 [==============================] - 17s 70ms/step - loss: 0.2278 - accuracy: 0.9417 - val_loss: 0.2751 - val_accuracy: 0.9000 - lr: 1.2500e-05\n",
            "Epoch 12/30\n",
            "240/240 [==============================] - ETA: 0s - loss: 0.2719 - accuracy: 0.9250\n",
            "Epoch 12: val_accuracy did not improve from 0.90000\n",
            "240/240 [==============================] - 17s 70ms/step - loss: 0.2719 - accuracy: 0.9250 - val_loss: 0.2747 - val_accuracy: 0.9000 - lr: 1.2500e-05\n",
            "Epoch 13/30\n",
            "240/240 [==============================] - ETA: 0s - loss: 0.2695 - accuracy: 0.9083\n",
            "Epoch 13: val_accuracy did not improve from 0.90000\n",
            "\n",
            "Epoch 13: ReduceLROnPlateau reducing learning rate to 1e-05.\n",
            "240/240 [==============================] - 17s 70ms/step - loss: 0.2695 - accuracy: 0.9083 - val_loss: 0.2726 - val_accuracy: 0.9000 - lr: 1.2500e-05\n",
            "Epoch 14/30\n",
            "240/240 [==============================] - ETA: 0s - loss: 0.2515 - accuracy: 0.9250\n",
            "Epoch 14: val_accuracy did not improve from 0.90000\n",
            "240/240 [==============================] - 17s 70ms/step - loss: 0.2515 - accuracy: 0.9250 - val_loss: 0.2733 - val_accuracy: 0.9000 - lr: 1.0000e-05\n",
            "Epoch 15/30\n",
            "240/240 [==============================] - ETA: 0s - loss: 0.2566 - accuracy: 0.9042\n",
            "Epoch 15: val_accuracy did not improve from 0.90000\n",
            "240/240 [==============================] - 17s 70ms/step - loss: 0.2566 - accuracy: 0.9042 - val_loss: 0.2708 - val_accuracy: 0.9000 - lr: 1.0000e-05\n",
            "Epoch 16/30\n",
            "240/240 [==============================] - ETA: 0s - loss: 0.2621 - accuracy: 0.9042\n",
            "Epoch 16: val_accuracy did not improve from 0.90000\n",
            "240/240 [==============================] - 17s 70ms/step - loss: 0.2621 - accuracy: 0.9042 - val_loss: 0.2731 - val_accuracy: 0.9000 - lr: 1.0000e-05\n",
            "              precision    recall  f1-score   support\n",
            "\n",
            "    Abnormal       0.97      0.86      0.91        36\n",
            "      Normal       0.82      0.96      0.88        24\n",
            "\n",
            "    accuracy                           0.90        60\n",
            "   macro avg       0.90      0.91      0.90        60\n",
            "weighted avg       0.91      0.90      0.90        60\n",
            "\n",
            "Fold #3\n",
            "Epoch 1/30\n",
            "240/240 [==============================] - ETA: 0s - loss: 0.2458 - accuracy: 0.9083\n",
            "Epoch 1: val_accuracy improved from -inf to 0.91667, saving model to  Kmodel1_sig_pre_bi_adam3.h5 \n",
            "INFO:tensorflow:Assets written to:  Kmodel1_sig_pre_bi_adam3.h5 /assets\n",
            "240/240 [==============================] - 96s 403ms/step - loss: 0.2458 - accuracy: 0.9083 - val_loss: 0.2733 - val_accuracy: 0.9167 - lr: 1.0000e-05\n",
            "Epoch 2/30\n",
            "240/240 [==============================] - ETA: 0s - loss: 0.2547 - accuracy: 0.9083\n",
            "Epoch 2: val_accuracy did not improve from 0.91667\n",
            "240/240 [==============================] - 17s 71ms/step - loss: 0.2547 - accuracy: 0.9083 - val_loss: 0.2718 - val_accuracy: 0.9167 - lr: 1.0000e-05\n",
            "Epoch 3/30\n",
            "240/240 [==============================] - ETA: 0s - loss: 0.2436 - accuracy: 0.9250\n",
            "Epoch 3: val_accuracy did not improve from 0.91667\n",
            "240/240 [==============================] - 17s 70ms/step - loss: 0.2436 - accuracy: 0.9250 - val_loss: 0.2723 - val_accuracy: 0.9167 - lr: 1.0000e-05\n",
            "Epoch 4/30\n",
            "240/240 [==============================] - ETA: 0s - loss: 0.2363 - accuracy: 0.9458\n",
            "Epoch 4: val_accuracy did not improve from 0.91667\n",
            "240/240 [==============================] - 17s 70ms/step - loss: 0.2363 - accuracy: 0.9458 - val_loss: 0.2709 - val_accuracy: 0.9167 - lr: 1.0000e-05\n",
            "Epoch 5/30\n",
            "240/240 [==============================] - ETA: 0s - loss: 0.2542 - accuracy: 0.9042\n",
            "Epoch 5: val_accuracy did not improve from 0.91667\n",
            "240/240 [==============================] - 17s 70ms/step - loss: 0.2542 - accuracy: 0.9042 - val_loss: 0.2715 - val_accuracy: 0.9167 - lr: 1.0000e-05\n",
            "Epoch 6/30\n",
            "240/240 [==============================] - ETA: 0s - loss: 0.2525 - accuracy: 0.9125\n",
            "Epoch 6: val_accuracy did not improve from 0.91667\n",
            "240/240 [==============================] - 17s 69ms/step - loss: 0.2525 - accuracy: 0.9125 - val_loss: 0.2705 - val_accuracy: 0.9167 - lr: 1.0000e-05\n",
            "Epoch 7/30\n",
            "240/240 [==============================] - ETA: 0s - loss: 0.2600 - accuracy: 0.9000\n",
            "Epoch 7: val_accuracy did not improve from 0.91667\n",
            "240/240 [==============================] - 17s 72ms/step - loss: 0.2600 - accuracy: 0.9000 - val_loss: 0.2703 - val_accuracy: 0.9167 - lr: 1.0000e-05\n",
            "Epoch 8/30\n",
            "240/240 [==============================] - ETA: 0s - loss: 0.2500 - accuracy: 0.9125\n",
            "Epoch 8: val_accuracy did not improve from 0.91667\n",
            "240/240 [==============================] - 17s 72ms/step - loss: 0.2500 - accuracy: 0.9125 - val_loss: 0.2700 - val_accuracy: 0.9167 - lr: 1.0000e-05\n",
            "Epoch 9/30\n",
            "240/240 [==============================] - ETA: 0s - loss: 0.2376 - accuracy: 0.9250\n",
            "Epoch 9: val_accuracy did not improve from 0.91667\n",
            "240/240 [==============================] - 17s 70ms/step - loss: 0.2376 - accuracy: 0.9250 - val_loss: 0.2687 - val_accuracy: 0.9167 - lr: 1.0000e-05\n",
            "Epoch 10/30\n",
            "240/240 [==============================] - ETA: 0s - loss: 0.2473 - accuracy: 0.9250\n",
            "Epoch 10: val_accuracy did not improve from 0.91667\n",
            "240/240 [==============================] - 17s 70ms/step - loss: 0.2473 - accuracy: 0.9250 - val_loss: 0.2684 - val_accuracy: 0.9167 - lr: 1.0000e-05\n",
            "Epoch 11/30\n",
            "240/240 [==============================] - ETA: 0s - loss: 0.2386 - accuracy: 0.9250\n",
            "Epoch 11: val_accuracy did not improve from 0.91667\n",
            "240/240 [==============================] - 17s 71ms/step - loss: 0.2386 - accuracy: 0.9250 - val_loss: 0.2683 - val_accuracy: 0.9167 - lr: 1.0000e-05\n",
            "Epoch 12/30\n",
            "240/240 [==============================] - ETA: 0s - loss: 0.2464 - accuracy: 0.9333\n",
            "Epoch 12: val_accuracy improved from 0.91667 to 0.93333, saving model to  Kmodel1_sig_pre_bi_adam3.h5 \n",
            "INFO:tensorflow:Assets written to:  Kmodel1_sig_pre_bi_adam3.h5 /assets\n",
            "240/240 [==============================] - 97s 407ms/step - loss: 0.2464 - accuracy: 0.9333 - val_loss: 0.2664 - val_accuracy: 0.9333 - lr: 1.0000e-05\n",
            "Epoch 13/30\n",
            "240/240 [==============================] - ETA: 0s - loss: 0.2283 - accuracy: 0.9375\n",
            "Epoch 13: val_accuracy did not improve from 0.93333\n",
            "240/240 [==============================] - 17s 71ms/step - loss: 0.2283 - accuracy: 0.9375 - val_loss: 0.2665 - val_accuracy: 0.9167 - lr: 1.0000e-05\n",
            "Epoch 14/30\n",
            "240/240 [==============================] - ETA: 0s - loss: 0.2547 - accuracy: 0.9042\n",
            "Epoch 14: val_accuracy did not improve from 0.93333\n",
            "240/240 [==============================] - 17s 70ms/step - loss: 0.2547 - accuracy: 0.9042 - val_loss: 0.2647 - val_accuracy: 0.9333 - lr: 1.0000e-05\n",
            "Epoch 15/30\n",
            "240/240 [==============================] - ETA: 0s - loss: 0.2396 - accuracy: 0.9292\n",
            "Epoch 15: val_accuracy did not improve from 0.93333\n",
            "240/240 [==============================] - 17s 70ms/step - loss: 0.2396 - accuracy: 0.9292 - val_loss: 0.2648 - val_accuracy: 0.9333 - lr: 1.0000e-05\n",
            "Epoch 16/30\n",
            "240/240 [==============================] - ETA: 0s - loss: 0.2611 - accuracy: 0.9167\n",
            "Epoch 16: val_accuracy did not improve from 0.93333\n",
            "240/240 [==============================] - 17s 70ms/step - loss: 0.2611 - accuracy: 0.9167 - val_loss: 0.2642 - val_accuracy: 0.9333 - lr: 1.0000e-05\n",
            "Epoch 17/30\n",
            "240/240 [==============================] - ETA: 0s - loss: 0.2382 - accuracy: 0.9333\n",
            "Epoch 17: val_accuracy did not improve from 0.93333\n",
            "240/240 [==============================] - 17s 70ms/step - loss: 0.2382 - accuracy: 0.9333 - val_loss: 0.2645 - val_accuracy: 0.9333 - lr: 1.0000e-05\n",
            "Epoch 18/30\n",
            "240/240 [==============================] - ETA: 0s - loss: 0.2317 - accuracy: 0.9292\n",
            "Epoch 18: val_accuracy did not improve from 0.93333\n",
            "240/240 [==============================] - 17s 71ms/step - loss: 0.2317 - accuracy: 0.9292 - val_loss: 0.2645 - val_accuracy: 0.9167 - lr: 1.0000e-05\n",
            "Epoch 19/30\n",
            "240/240 [==============================] - ETA: 0s - loss: 0.2669 - accuracy: 0.9208\n",
            "Epoch 19: val_accuracy did not improve from 0.93333\n",
            "240/240 [==============================] - 17s 70ms/step - loss: 0.2669 - accuracy: 0.9208 - val_loss: 0.2626 - val_accuracy: 0.9333 - lr: 1.0000e-05\n",
            "Epoch 20/30\n",
            "240/240 [==============================] - ETA: 0s - loss: 0.2228 - accuracy: 0.9375\n",
            "Epoch 20: val_accuracy did not improve from 0.93333\n",
            "240/240 [==============================] - 17s 71ms/step - loss: 0.2228 - accuracy: 0.9375 - val_loss: 0.2624 - val_accuracy: 0.9333 - lr: 1.0000e-05\n",
            "Epoch 21/30\n",
            "240/240 [==============================] - ETA: 0s - loss: 0.2520 - accuracy: 0.9042\n",
            "Epoch 21: val_accuracy did not improve from 0.93333\n",
            "240/240 [==============================] - 17s 71ms/step - loss: 0.2520 - accuracy: 0.9042 - val_loss: 0.2619 - val_accuracy: 0.9333 - lr: 1.0000e-05\n",
            "Epoch 22/30\n",
            "240/240 [==============================] - ETA: 0s - loss: 0.2500 - accuracy: 0.9083\n",
            "Epoch 22: val_accuracy did not improve from 0.93333\n",
            "240/240 [==============================] - 17s 71ms/step - loss: 0.2500 - accuracy: 0.9083 - val_loss: 0.2615 - val_accuracy: 0.9333 - lr: 1.0000e-05\n",
            "Epoch 23/30\n",
            "240/240 [==============================] - ETA: 0s - loss: 0.2384 - accuracy: 0.9083\n",
            "Epoch 23: val_accuracy did not improve from 0.93333\n",
            "240/240 [==============================] - 17s 71ms/step - loss: 0.2384 - accuracy: 0.9083 - val_loss: 0.2623 - val_accuracy: 0.9333 - lr: 1.0000e-05\n",
            "Epoch 24/30\n",
            "240/240 [==============================] - ETA: 0s - loss: 0.2233 - accuracy: 0.9208\n",
            "Epoch 24: val_accuracy did not improve from 0.93333\n",
            "240/240 [==============================] - 17s 70ms/step - loss: 0.2233 - accuracy: 0.9208 - val_loss: 0.2617 - val_accuracy: 0.9333 - lr: 1.0000e-05\n",
            "Epoch 25/30\n",
            "240/240 [==============================] - ETA: 0s - loss: 0.2470 - accuracy: 0.9125\n",
            "Epoch 25: val_accuracy did not improve from 0.93333\n",
            "240/240 [==============================] - 17s 71ms/step - loss: 0.2470 - accuracy: 0.9125 - val_loss: 0.2597 - val_accuracy: 0.9333 - lr: 1.0000e-05\n",
            "Epoch 26/30\n",
            "240/240 [==============================] - ETA: 0s - loss: 0.2535 - accuracy: 0.9083\n",
            "Epoch 26: val_accuracy did not improve from 0.93333\n",
            "240/240 [==============================] - 17s 70ms/step - loss: 0.2535 - accuracy: 0.9083 - val_loss: 0.2587 - val_accuracy: 0.9333 - lr: 1.0000e-05\n",
            "Epoch 27/30\n",
            "240/240 [==============================] - ETA: 0s - loss: 0.2429 - accuracy: 0.9208\n",
            "Epoch 27: val_accuracy did not improve from 0.93333\n",
            "240/240 [==============================] - 17s 71ms/step - loss: 0.2429 - accuracy: 0.9208 - val_loss: 0.2599 - val_accuracy: 0.9333 - lr: 1.0000e-05\n",
            "              precision    recall  f1-score   support\n",
            "\n",
            "    Abnormal       0.96      0.90      0.93        29\n",
            "      Normal       0.91      0.97      0.94        31\n",
            "\n",
            "    accuracy                           0.93        60\n",
            "   macro avg       0.94      0.93      0.93        60\n",
            "weighted avg       0.94      0.93      0.93        60\n",
            "\n",
            "Fold #4\n",
            "Epoch 1/30\n",
            "240/240 [==============================] - ETA: 0s - loss: 0.2361 - accuracy: 0.9125\n",
            "Epoch 1: val_accuracy improved from -inf to 0.93333, saving model to  Kmodel1_sig_pre_bi_adam4.h5 \n",
            "INFO:tensorflow:Assets written to:  Kmodel1_sig_pre_bi_adam4.h5 /assets\n",
            "240/240 [==============================] - 98s 408ms/step - loss: 0.2361 - accuracy: 0.9125 - val_loss: 0.2622 - val_accuracy: 0.9333 - lr: 1.0000e-05\n",
            "Epoch 2/30\n",
            "240/240 [==============================] - ETA: 0s - loss: 0.2493 - accuracy: 0.9208\n",
            "Epoch 2: val_accuracy did not improve from 0.93333\n",
            "240/240 [==============================] - 17s 72ms/step - loss: 0.2493 - accuracy: 0.9208 - val_loss: 0.2619 - val_accuracy: 0.9333 - lr: 1.0000e-05\n",
            "Epoch 3/30\n",
            "240/240 [==============================] - ETA: 0s - loss: 0.2248 - accuracy: 0.9458\n",
            "Epoch 3: val_accuracy did not improve from 0.93333\n",
            "240/240 [==============================] - 17s 71ms/step - loss: 0.2248 - accuracy: 0.9458 - val_loss: 0.2618 - val_accuracy: 0.9333 - lr: 1.0000e-05\n",
            "Epoch 4/30\n",
            "240/240 [==============================] - ETA: 0s - loss: 0.2346 - accuracy: 0.9292\n",
            "Epoch 4: val_accuracy did not improve from 0.93333\n",
            "240/240 [==============================] - 17s 71ms/step - loss: 0.2346 - accuracy: 0.9292 - val_loss: 0.2613 - val_accuracy: 0.9333 - lr: 1.0000e-05\n",
            "Epoch 5/30\n",
            "240/240 [==============================] - ETA: 0s - loss: 0.2371 - accuracy: 0.9250\n",
            "Epoch 5: val_accuracy did not improve from 0.93333\n",
            "240/240 [==============================] - 17s 71ms/step - loss: 0.2371 - accuracy: 0.9250 - val_loss: 0.2612 - val_accuracy: 0.9333 - lr: 1.0000e-05\n",
            "Epoch 6/30\n",
            "240/240 [==============================] - ETA: 0s - loss: 0.2143 - accuracy: 0.9292\n",
            "Epoch 6: val_accuracy did not improve from 0.93333\n",
            "240/240 [==============================] - 17s 72ms/step - loss: 0.2143 - accuracy: 0.9292 - val_loss: 0.2610 - val_accuracy: 0.9333 - lr: 1.0000e-05\n",
            "Epoch 7/30\n",
            "240/240 [==============================] - ETA: 0s - loss: 0.2442 - accuracy: 0.9167\n",
            "Epoch 7: val_accuracy did not improve from 0.93333\n",
            "240/240 [==============================] - 17s 71ms/step - loss: 0.2442 - accuracy: 0.9167 - val_loss: 0.2607 - val_accuracy: 0.9333 - lr: 1.0000e-05\n",
            "Epoch 8/30\n",
            "240/240 [==============================] - ETA: 0s - loss: 0.2220 - accuracy: 0.9417\n",
            "Epoch 8: val_accuracy did not improve from 0.93333\n",
            "240/240 [==============================] - 17s 70ms/step - loss: 0.2220 - accuracy: 0.9417 - val_loss: 0.2603 - val_accuracy: 0.9333 - lr: 1.0000e-05\n",
            "Epoch 9/30\n",
            "240/240 [==============================] - ETA: 0s - loss: 0.2221 - accuracy: 0.9375\n",
            "Epoch 9: val_accuracy did not improve from 0.93333\n",
            "240/240 [==============================] - 17s 70ms/step - loss: 0.2221 - accuracy: 0.9375 - val_loss: 0.2596 - val_accuracy: 0.9333 - lr: 1.0000e-05\n",
            "Epoch 10/30\n",
            "240/240 [==============================] - ETA: 0s - loss: 0.2193 - accuracy: 0.9375\n",
            "Epoch 10: val_accuracy did not improve from 0.93333\n",
            "240/240 [==============================] - 17s 71ms/step - loss: 0.2193 - accuracy: 0.9375 - val_loss: 0.2593 - val_accuracy: 0.9333 - lr: 1.0000e-05\n",
            "Epoch 11/30\n",
            "240/240 [==============================] - ETA: 0s - loss: 0.2377 - accuracy: 0.9333\n",
            "Epoch 11: val_accuracy did not improve from 0.93333\n",
            "240/240 [==============================] - 17s 71ms/step - loss: 0.2377 - accuracy: 0.9333 - val_loss: 0.2592 - val_accuracy: 0.9333 - lr: 1.0000e-05\n",
            "Epoch 12/30\n",
            "240/240 [==============================] - ETA: 0s - loss: 0.2432 - accuracy: 0.9292\n",
            "Epoch 12: val_accuracy did not improve from 0.93333\n",
            "240/240 [==============================] - 17s 71ms/step - loss: 0.2432 - accuracy: 0.9292 - val_loss: 0.2592 - val_accuracy: 0.9333 - lr: 1.0000e-05\n",
            "Epoch 13/30\n",
            "240/240 [==============================] - ETA: 0s - loss: 0.2483 - accuracy: 0.9250\n",
            "Epoch 13: val_accuracy did not improve from 0.93333\n",
            "240/240 [==============================] - 17s 71ms/step - loss: 0.2483 - accuracy: 0.9250 - val_loss: 0.2590 - val_accuracy: 0.9167 - lr: 1.0000e-05\n",
            "Epoch 14/30\n",
            "240/240 [==============================] - ETA: 0s - loss: 0.2445 - accuracy: 0.9292\n",
            "Epoch 14: val_accuracy did not improve from 0.93333\n",
            "240/240 [==============================] - 17s 70ms/step - loss: 0.2445 - accuracy: 0.9292 - val_loss: 0.2585 - val_accuracy: 0.9333 - lr: 1.0000e-05\n",
            "Epoch 15/30\n",
            "240/240 [==============================] - ETA: 0s - loss: 0.2407 - accuracy: 0.9125\n",
            "Epoch 15: val_accuracy did not improve from 0.93333\n",
            "240/240 [==============================] - 17s 71ms/step - loss: 0.2407 - accuracy: 0.9125 - val_loss: 0.2582 - val_accuracy: 0.9333 - lr: 1.0000e-05\n",
            "Epoch 16/30\n",
            "240/240 [==============================] - ETA: 0s - loss: 0.2233 - accuracy: 0.9500\n",
            "Epoch 16: val_accuracy did not improve from 0.93333\n",
            "240/240 [==============================] - 17s 71ms/step - loss: 0.2233 - accuracy: 0.9500 - val_loss: 0.2580 - val_accuracy: 0.9333 - lr: 1.0000e-05\n",
            "              precision    recall  f1-score   support\n",
            "\n",
            "    Abnormal       1.00      0.84      0.91        25\n",
            "      Normal       0.90      1.00      0.95        35\n",
            "\n",
            "    accuracy                           0.93        60\n",
            "   macro avg       0.95      0.92      0.93        60\n",
            "weighted avg       0.94      0.93      0.93        60\n",
            "\n",
            "Fold #5\n",
            "Epoch 1/30\n",
            "240/240 [==============================] - ETA: 0s - loss: 0.2152 - accuracy: 0.9250\n",
            "Epoch 1: val_accuracy improved from -inf to 0.91667, saving model to  Kmodel1_sig_pre_bi_adam5.h5 \n",
            "INFO:tensorflow:Assets written to:  Kmodel1_sig_pre_bi_adam5.h5 /assets\n",
            "240/240 [==============================] - 98s 409ms/step - loss: 0.2152 - accuracy: 0.9250 - val_loss: 0.2435 - val_accuracy: 0.9167 - lr: 1.0000e-05\n",
            "Epoch 2/30\n",
            "240/240 [==============================] - ETA: 0s - loss: 0.2483 - accuracy: 0.9125\n",
            "Epoch 2: val_accuracy did not improve from 0.91667\n",
            "240/240 [==============================] - 17s 71ms/step - loss: 0.2483 - accuracy: 0.9125 - val_loss: 0.2431 - val_accuracy: 0.9167 - lr: 1.0000e-05\n",
            "Epoch 3/30\n",
            "240/240 [==============================] - ETA: 0s - loss: 0.2458 - accuracy: 0.9458\n",
            "Epoch 3: val_accuracy did not improve from 0.91667\n",
            "240/240 [==============================] - 17s 70ms/step - loss: 0.2458 - accuracy: 0.9458 - val_loss: 0.2420 - val_accuracy: 0.9167 - lr: 1.0000e-05\n",
            "Epoch 4/30\n",
            "240/240 [==============================] - ETA: 0s - loss: 0.2471 - accuracy: 0.9125\n",
            "Epoch 4: val_accuracy did not improve from 0.91667\n",
            "240/240 [==============================] - 17s 72ms/step - loss: 0.2471 - accuracy: 0.9125 - val_loss: 0.2425 - val_accuracy: 0.9167 - lr: 1.0000e-05\n",
            "Epoch 5/30\n",
            "240/240 [==============================] - ETA: 0s - loss: 0.2453 - accuracy: 0.9250\n",
            "Epoch 5: val_accuracy did not improve from 0.91667\n",
            "240/240 [==============================] - 17s 71ms/step - loss: 0.2453 - accuracy: 0.9250 - val_loss: 0.2434 - val_accuracy: 0.9167 - lr: 1.0000e-05\n",
            "Epoch 6/30\n",
            "240/240 [==============================] - ETA: 0s - loss: 0.2508 - accuracy: 0.9250\n",
            "Epoch 6: val_accuracy did not improve from 0.91667\n",
            "240/240 [==============================] - 17s 70ms/step - loss: 0.2508 - accuracy: 0.9250 - val_loss: 0.2429 - val_accuracy: 0.9167 - lr: 1.0000e-05\n",
            "Epoch 7/30\n",
            "240/240 [==============================] - ETA: 0s - loss: 0.2468 - accuracy: 0.9208\n",
            "Epoch 7: val_accuracy did not improve from 0.91667\n",
            "240/240 [==============================] - 17s 71ms/step - loss: 0.2468 - accuracy: 0.9208 - val_loss: 0.2449 - val_accuracy: 0.9167 - lr: 1.0000e-05\n",
            "Epoch 8/30\n",
            "240/240 [==============================] - ETA: 0s - loss: 0.2417 - accuracy: 0.9125\n",
            "Epoch 8: val_accuracy did not improve from 0.91667\n",
            "240/240 [==============================] - 17s 71ms/step - loss: 0.2417 - accuracy: 0.9125 - val_loss: 0.2433 - val_accuracy: 0.9167 - lr: 1.0000e-05\n",
            "Epoch 9/30\n",
            "240/240 [==============================] - ETA: 0s - loss: 0.2347 - accuracy: 0.9250\n",
            "Epoch 9: val_accuracy did not improve from 0.91667\n",
            "240/240 [==============================] - 17s 72ms/step - loss: 0.2347 - accuracy: 0.9250 - val_loss: 0.2434 - val_accuracy: 0.9167 - lr: 1.0000e-05\n",
            "Epoch 10/30\n",
            "240/240 [==============================] - ETA: 0s - loss: 0.2449 - accuracy: 0.9167\n",
            "Epoch 10: val_accuracy did not improve from 0.91667\n",
            "240/240 [==============================] - 17s 71ms/step - loss: 0.2449 - accuracy: 0.9167 - val_loss: 0.2437 - val_accuracy: 0.9167 - lr: 1.0000e-05\n",
            "Epoch 11/30\n",
            "240/240 [==============================] - ETA: 0s - loss: 0.2153 - accuracy: 0.9375\n",
            "Epoch 11: val_accuracy did not improve from 0.91667\n",
            "240/240 [==============================] - 17s 71ms/step - loss: 0.2153 - accuracy: 0.9375 - val_loss: 0.2440 - val_accuracy: 0.9167 - lr: 1.0000e-05\n",
            "Epoch 12/30\n",
            "240/240 [==============================] - ETA: 0s - loss: 0.2299 - accuracy: 0.9333\n",
            "Epoch 12: val_accuracy did not improve from 0.91667\n",
            "240/240 [==============================] - 17s 72ms/step - loss: 0.2299 - accuracy: 0.9333 - val_loss: 0.2437 - val_accuracy: 0.9167 - lr: 1.0000e-05\n",
            "Epoch 13/30\n",
            "240/240 [==============================] - ETA: 0s - loss: 0.2440 - accuracy: 0.9167\n",
            "Epoch 13: val_accuracy did not improve from 0.91667\n",
            "240/240 [==============================] - 17s 71ms/step - loss: 0.2440 - accuracy: 0.9167 - val_loss: 0.2426 - val_accuracy: 0.9167 - lr: 1.0000e-05\n",
            "Epoch 14/30\n",
            "240/240 [==============================] - ETA: 0s - loss: 0.2421 - accuracy: 0.9125\n",
            "Epoch 14: val_accuracy did not improve from 0.91667\n",
            "240/240 [==============================] - 17s 71ms/step - loss: 0.2421 - accuracy: 0.9125 - val_loss: 0.2432 - val_accuracy: 0.9167 - lr: 1.0000e-05\n",
            "Epoch 15/30\n",
            "240/240 [==============================] - ETA: 0s - loss: 0.2202 - accuracy: 0.9333\n",
            "Epoch 15: val_accuracy did not improve from 0.91667\n",
            "240/240 [==============================] - 17s 71ms/step - loss: 0.2202 - accuracy: 0.9333 - val_loss: 0.2430 - val_accuracy: 0.9167 - lr: 1.0000e-05\n",
            "Epoch 16/30\n",
            "240/240 [==============================] - ETA: 0s - loss: 0.2128 - accuracy: 0.9417\n",
            "Epoch 16: val_accuracy did not improve from 0.91667\n",
            "240/240 [==============================] - 17s 72ms/step - loss: 0.2128 - accuracy: 0.9417 - val_loss: 0.2426 - val_accuracy: 0.9167 - lr: 1.0000e-05\n",
            "              precision    recall  f1-score   support\n",
            "\n",
            "    Abnormal       1.00      0.85      0.92        34\n",
            "      Normal       0.84      1.00      0.91        26\n",
            "\n",
            "    accuracy                           0.92        60\n",
            "   macro avg       0.92      0.93      0.92        60\n",
            "weighted avg       0.93      0.92      0.92        60\n",
            "\n",
            "              precision    recall  f1-score   support\n",
            "\n",
            "    Abnormal       0.97      0.88      0.92       150\n",
            "      Normal       0.89      0.97      0.93       150\n",
            "\n",
            "    accuracy                           0.93       300\n",
            "   macro avg       0.93      0.93      0.93       300\n",
            "weighted avg       0.93      0.93      0.93       300\n",
            "\n"
          ]
        }
      ]
    },
    {
      "cell_type": "markdown",
      "source": [
        "#### 1 sig pre bi sgd\n",
        "--> "
      ],
      "metadata": {
        "id": "IRTBl3hjD_gB"
      }
    },
    {
      "cell_type": "code",
      "source": [
        "BS = 1\n",
        "filepath = \"Kmodel1_sig_pre_bi_sgd\"                  ##\n",
        "\n",
        "train_img_Dense = []\n",
        "for ImageName in tqdm(data_train3['ImageName']):               # รัน ชื่อรูป ในไฟล์ data_test3\n",
        "    image_path = All_3class_dir +'/' + ImageName                   # ดึงรูปในโฟล์เดอร์มาทีละรูป\n",
        "    img = cv2.imread(image_path)                                            # อ่านรูป\n",
        "    img = cv2.resize(img, (224, 224))                                       #ขนาดของ input\n",
        "    train_img_Dense.append(img)\n",
        "data_Dense = np.array(train_img_Dense, dtype=\"float32\") / 255.0\n",
        "\n",
        "labels_Dense = np.array(data_train3[['NameType']] )        \n",
        "labels_Dense.shape = (len(labels_Dense),) \n",
        "le_Dense = LabelEncoder()                                                                     \n",
        "labels_Dense = le_Dense.fit_transform(labels_Dense)                                         #จะแปลงชื่อ class เป็นตัวเลข 1, 2, 0 \n",
        "labels_Dense = to_categorical(labels_Dense, num_classes=2)                    \n",
        "\n",
        "aug = ImageDataGenerator( rotation_range=15,\twidth_shift_range=0.1, \theight_shift_range=0.1,\n",
        "\t\tshear_range=0.15, \thorizontal_flip=True, \tfill_mode=\"nearest\")\n",
        "                                                                                                          \n",
        "callback = EarlyStopping( monitor= \"val_accuracy\",    patience=15,       mode=\"max\")\n",
        "\n",
        "# checkpoint = ModelCheckpoint(filepath, monitor='val_accuracy', verbose=1,   save_best_only=True, mode='max')\n",
        "                                                                                                            ##\n",
        "reduce_lr = ReduceLROnPlateau(monitor='val_accuracy', factor=0.5,   patience=6,     verbose=1, mode='max', min_lr=0.00001)"
      ],
      "metadata": {
        "outputId": "8358e4ce-ec33-4d8e-d618-89138338da2a",
        "colab": {
          "base_uri": "https://localhost:8080/"
        },
        "id": "o7zQUMi2D_gB"
      },
      "execution_count": 18,
      "outputs": [
        {
          "output_type": "stream",
          "name": "stderr",
          "text": [
            "100%|██████████| 300/300 [00:03<00:00, 81.58it/s]\n"
          ]
        }
      ]
    },
    {
      "cell_type": "code",
      "source": [
        "base_model_Dense = tf.keras.applications.DenseNet201(input_shape=(224, 224, 3), include_top=False, weights=\"imagenet\")\n",
        "base_model_Dense.trainable=False\n",
        "#Add custom head\n",
        "average_pooling_layer = tf.keras.layers.GlobalAveragePooling2D()(base_model_Dense.output)\n",
        "prediction_layer = tf.keras.layers.Dense(units=2, activation=\"sigmoid\")(average_pooling_layer)   # unit 2\n",
        "model_Dense = tf.keras.models.Model(inputs=base_model_Dense.input, outputs=prediction_layer)\n",
        "model_Dense.compile(optimizer=SGD(learning_rate=0.0001), loss=\"binary_crossentropy\", metrics=[\"accuracy\"])\n",
        "\n",
        "### K-fold\n",
        "kf = KFold(5, shuffle=True, random_state=40) \n",
        "\n",
        "oos_y = []\n",
        "oos_pred = []\n",
        "fold = 0\n",
        "\n",
        "for train, test in kf.split(data_Dense):\n",
        "    fold+=1\n",
        "    print(f\"Fold #{fold}\")\n",
        "\n",
        "    filename = f\" {filepath}{fold}.h5 \"\n",
        "    checkpoint = ModelCheckpoint(filename, monitor='val_accuracy', verbose=1,   save_best_only=True, mode='max')\n",
        "\n",
        "    x_train_Dense = data_Dense[train]\n",
        "    y_train_Dense = labels_Dense[train]\n",
        "    x_test_Dense = data_Dense[test]\n",
        "    y_test_Dense = labels_Dense[test]\n",
        "\n",
        "    H_Dense = model_Dense.fit( x=aug.flow(x_train_Dense, y_train_Dense, batch_size=BS),\n",
        "\t                                            validation_data=(x_test_Dense, y_test_Dense),\n",
        "\t                                            steps_per_epoch=len(x_train_Dense) // BS,\n",
        "\t                                            epochs=30,  callbacks = [callback,checkpoint,reduce_lr])\n",
        "    \n",
        "    pred_Dense = model_Dense.predict(x_test_Dense)\n",
        "    \n",
        "    oos_y.append(y_test_Dense)\n",
        "    oos_pred.append(pred_Dense)  \n",
        "    print(classification_report(y_test_Dense.argmax(axis=1),\t                #แสดง report ค่า acc, recall, ...\n",
        "                                        pred_Dense.argmax(axis=1),  \n",
        "                                        target_names=le_Dense.classes_))   \n",
        "    \n",
        "oos_y = np.concatenate(oos_y)\n",
        "oos_pred = np.concatenate(oos_pred)\n",
        "print(classification_report(oos_y.argmax(axis=1), oos_pred.argmax(axis=1),  target_names=le_Dense.classes_))"
      ],
      "metadata": {
        "colab": {
          "base_uri": "https://localhost:8080/"
        },
        "id": "6DjS6Xl7D_gC",
        "outputId": "82286a58-79c8-4a62-f480-df313c759966"
      },
      "execution_count": 19,
      "outputs": [
        {
          "output_type": "stream",
          "name": "stdout",
          "text": [
            "Fold #1\n",
            "Epoch 1/30\n",
            "240/240 [==============================] - ETA: 0s - loss: 0.6784 - accuracy: 0.5583\n",
            "Epoch 1: val_accuracy improved from -inf to 0.58333, saving model to  Kmodel1_sig_pre_bi_sgd1.h5 \n",
            "INFO:tensorflow:Assets written to:  Kmodel1_sig_pre_bi_sgd1.h5 /assets\n",
            "240/240 [==============================] - 118s 407ms/step - loss: 0.6784 - accuracy: 0.5583 - val_loss: 0.6715 - val_accuracy: 0.5833 - lr: 1.0000e-04\n",
            "Epoch 2/30\n",
            "240/240 [==============================] - ETA: 0s - loss: 0.6540 - accuracy: 0.6625\n",
            "Epoch 2: val_accuracy improved from 0.58333 to 0.61667, saving model to  Kmodel1_sig_pre_bi_sgd1.h5 \n",
            "INFO:tensorflow:Assets written to:  Kmodel1_sig_pre_bi_sgd1.h5 /assets\n",
            "240/240 [==============================] - 93s 388ms/step - loss: 0.6540 - accuracy: 0.6625 - val_loss: 0.6559 - val_accuracy: 0.6167 - lr: 1.0000e-04\n",
            "Epoch 3/30\n",
            "240/240 [==============================] - ETA: 0s - loss: 0.6398 - accuracy: 0.6708\n",
            "Epoch 3: val_accuracy improved from 0.61667 to 0.65000, saving model to  Kmodel1_sig_pre_bi_sgd1.h5 \n",
            "INFO:tensorflow:Assets written to:  Kmodel1_sig_pre_bi_sgd1.h5 /assets\n",
            "240/240 [==============================] - 95s 395ms/step - loss: 0.6398 - accuracy: 0.6708 - val_loss: 0.6454 - val_accuracy: 0.6500 - lr: 1.0000e-04\n",
            "Epoch 4/30\n",
            "240/240 [==============================] - ETA: 0s - loss: 0.6362 - accuracy: 0.6875\n",
            "Epoch 4: val_accuracy improved from 0.65000 to 0.66667, saving model to  Kmodel1_sig_pre_bi_sgd1.h5 \n",
            "INFO:tensorflow:Assets written to:  Kmodel1_sig_pre_bi_sgd1.h5 /assets\n",
            "240/240 [==============================] - 94s 391ms/step - loss: 0.6362 - accuracy: 0.6875 - val_loss: 0.6296 - val_accuracy: 0.6667 - lr: 1.0000e-04\n",
            "Epoch 5/30\n",
            "240/240 [==============================] - ETA: 0s - loss: 0.6172 - accuracy: 0.7042\n",
            "Epoch 5: val_accuracy improved from 0.66667 to 0.70000, saving model to  Kmodel1_sig_pre_bi_sgd1.h5 \n",
            "INFO:tensorflow:Assets written to:  Kmodel1_sig_pre_bi_sgd1.h5 /assets\n",
            "240/240 [==============================] - 92s 386ms/step - loss: 0.6172 - accuracy: 0.7042 - val_loss: 0.6119 - val_accuracy: 0.7000 - lr: 1.0000e-04\n",
            "Epoch 6/30\n",
            "240/240 [==============================] - ETA: 0s - loss: 0.6070 - accuracy: 0.7208\n",
            "Epoch 6: val_accuracy improved from 0.70000 to 0.78333, saving model to  Kmodel1_sig_pre_bi_sgd1.h5 \n",
            "INFO:tensorflow:Assets written to:  Kmodel1_sig_pre_bi_sgd1.h5 /assets\n",
            "240/240 [==============================] - 94s 393ms/step - loss: 0.6070 - accuracy: 0.7208 - val_loss: 0.5919 - val_accuracy: 0.7833 - lr: 1.0000e-04\n",
            "Epoch 7/30\n",
            "240/240 [==============================] - ETA: 0s - loss: 0.5969 - accuracy: 0.7333\n",
            "Epoch 7: val_accuracy improved from 0.78333 to 0.81667, saving model to  Kmodel1_sig_pre_bi_sgd1.h5 \n",
            "INFO:tensorflow:Assets written to:  Kmodel1_sig_pre_bi_sgd1.h5 /assets\n",
            "240/240 [==============================] - 91s 382ms/step - loss: 0.5969 - accuracy: 0.7333 - val_loss: 0.5838 - val_accuracy: 0.8167 - lr: 1.0000e-04\n",
            "Epoch 8/30\n",
            "240/240 [==============================] - ETA: 0s - loss: 0.5765 - accuracy: 0.7833\n",
            "Epoch 8: val_accuracy did not improve from 0.81667\n",
            "240/240 [==============================] - 16s 67ms/step - loss: 0.5765 - accuracy: 0.7833 - val_loss: 0.5708 - val_accuracy: 0.8167 - lr: 1.0000e-04\n",
            "Epoch 9/30\n",
            "240/240 [==============================] - ETA: 0s - loss: 0.5703 - accuracy: 0.7875\n",
            "Epoch 9: val_accuracy did not improve from 0.81667\n",
            "240/240 [==============================] - 16s 66ms/step - loss: 0.5703 - accuracy: 0.7875 - val_loss: 0.5596 - val_accuracy: 0.8167 - lr: 1.0000e-04\n",
            "Epoch 10/30\n",
            "240/240 [==============================] - ETA: 0s - loss: 0.5567 - accuracy: 0.8125\n",
            "Epoch 10: val_accuracy improved from 0.81667 to 0.83333, saving model to  Kmodel1_sig_pre_bi_sgd1.h5 \n",
            "INFO:tensorflow:Assets written to:  Kmodel1_sig_pre_bi_sgd1.h5 /assets\n",
            "240/240 [==============================] - 92s 386ms/step - loss: 0.5567 - accuracy: 0.8125 - val_loss: 0.5519 - val_accuracy: 0.8333 - lr: 1.0000e-04\n",
            "Epoch 11/30\n",
            "240/240 [==============================] - ETA: 0s - loss: 0.5570 - accuracy: 0.8250\n",
            "Epoch 11: val_accuracy improved from 0.83333 to 0.85000, saving model to  Kmodel1_sig_pre_bi_sgd1.h5 \n",
            "INFO:tensorflow:Assets written to:  Kmodel1_sig_pre_bi_sgd1.h5 /assets\n",
            "240/240 [==============================] - 96s 401ms/step - loss: 0.5570 - accuracy: 0.8250 - val_loss: 0.5387 - val_accuracy: 0.8500 - lr: 1.0000e-04\n",
            "Epoch 12/30\n",
            "240/240 [==============================] - ETA: 0s - loss: 0.5253 - accuracy: 0.8375\n",
            "Epoch 12: val_accuracy improved from 0.85000 to 0.86667, saving model to  Kmodel1_sig_pre_bi_sgd1.h5 \n",
            "INFO:tensorflow:Assets written to:  Kmodel1_sig_pre_bi_sgd1.h5 /assets\n",
            "240/240 [==============================] - 92s 384ms/step - loss: 0.5253 - accuracy: 0.8375 - val_loss: 0.5284 - val_accuracy: 0.8667 - lr: 1.0000e-04\n",
            "Epoch 13/30\n",
            "240/240 [==============================] - ETA: 0s - loss: 0.5276 - accuracy: 0.8458\n",
            "Epoch 13: val_accuracy did not improve from 0.86667\n",
            "240/240 [==============================] - 16s 67ms/step - loss: 0.5276 - accuracy: 0.8458 - val_loss: 0.5222 - val_accuracy: 0.8667 - lr: 1.0000e-04\n",
            "Epoch 14/30\n",
            "240/240 [==============================] - ETA: 0s - loss: 0.5309 - accuracy: 0.8250\n",
            "Epoch 14: val_accuracy improved from 0.86667 to 0.88333, saving model to  Kmodel1_sig_pre_bi_sgd1.h5 \n",
            "INFO:tensorflow:Assets written to:  Kmodel1_sig_pre_bi_sgd1.h5 /assets\n",
            "240/240 [==============================] - 91s 378ms/step - loss: 0.5309 - accuracy: 0.8250 - val_loss: 0.5214 - val_accuracy: 0.8833 - lr: 1.0000e-04\n",
            "Epoch 15/30\n",
            "240/240 [==============================] - ETA: 0s - loss: 0.5130 - accuracy: 0.8500\n",
            "Epoch 15: val_accuracy improved from 0.88333 to 0.90000, saving model to  Kmodel1_sig_pre_bi_sgd1.h5 \n",
            "INFO:tensorflow:Assets written to:  Kmodel1_sig_pre_bi_sgd1.h5 /assets\n",
            "240/240 [==============================] - 91s 382ms/step - loss: 0.5130 - accuracy: 0.8500 - val_loss: 0.5017 - val_accuracy: 0.9000 - lr: 1.0000e-04\n",
            "Epoch 16/30\n",
            "240/240 [==============================] - ETA: 0s - loss: 0.4998 - accuracy: 0.8500\n",
            "Epoch 16: val_accuracy did not improve from 0.90000\n",
            "240/240 [==============================] - 16s 66ms/step - loss: 0.4998 - accuracy: 0.8500 - val_loss: 0.4959 - val_accuracy: 0.9000 - lr: 1.0000e-04\n",
            "Epoch 17/30\n",
            "240/240 [==============================] - ETA: 0s - loss: 0.5013 - accuracy: 0.8417\n",
            "Epoch 17: val_accuracy improved from 0.90000 to 0.91667, saving model to  Kmodel1_sig_pre_bi_sgd1.h5 \n",
            "INFO:tensorflow:Assets written to:  Kmodel1_sig_pre_bi_sgd1.h5 /assets\n",
            "240/240 [==============================] - 95s 399ms/step - loss: 0.5013 - accuracy: 0.8417 - val_loss: 0.4878 - val_accuracy: 0.9167 - lr: 1.0000e-04\n",
            "Epoch 18/30\n",
            "240/240 [==============================] - ETA: 0s - loss: 0.4948 - accuracy: 0.8500\n",
            "Epoch 18: val_accuracy did not improve from 0.91667\n",
            "240/240 [==============================] - 16s 66ms/step - loss: 0.4948 - accuracy: 0.8500 - val_loss: 0.4845 - val_accuracy: 0.8833 - lr: 1.0000e-04\n",
            "Epoch 19/30\n",
            "240/240 [==============================] - ETA: 0s - loss: 0.4829 - accuracy: 0.8583\n",
            "Epoch 19: val_accuracy did not improve from 0.91667\n",
            "240/240 [==============================] - 16s 67ms/step - loss: 0.4829 - accuracy: 0.8583 - val_loss: 0.4783 - val_accuracy: 0.9167 - lr: 1.0000e-04\n",
            "Epoch 20/30\n",
            "240/240 [==============================] - ETA: 0s - loss: 0.4982 - accuracy: 0.8333\n",
            "Epoch 20: val_accuracy did not improve from 0.91667\n",
            "240/240 [==============================] - 16s 69ms/step - loss: 0.4982 - accuracy: 0.8333 - val_loss: 0.4667 - val_accuracy: 0.8833 - lr: 1.0000e-04\n",
            "Epoch 21/30\n",
            "240/240 [==============================] - ETA: 0s - loss: 0.4742 - accuracy: 0.8583\n",
            "Epoch 21: val_accuracy improved from 0.91667 to 0.93333, saving model to  Kmodel1_sig_pre_bi_sgd1.h5 \n",
            "INFO:tensorflow:Assets written to:  Kmodel1_sig_pre_bi_sgd1.h5 /assets\n",
            "240/240 [==============================] - 93s 387ms/step - loss: 0.4742 - accuracy: 0.8583 - val_loss: 0.4654 - val_accuracy: 0.9333 - lr: 1.0000e-04\n",
            "Epoch 22/30\n",
            "240/240 [==============================] - ETA: 0s - loss: 0.4778 - accuracy: 0.8667\n",
            "Epoch 22: val_accuracy did not improve from 0.93333\n",
            "240/240 [==============================] - 16s 68ms/step - loss: 0.4778 - accuracy: 0.8667 - val_loss: 0.4573 - val_accuracy: 0.9000 - lr: 1.0000e-04\n",
            "Epoch 23/30\n",
            "240/240 [==============================] - ETA: 0s - loss: 0.4626 - accuracy: 0.8458\n",
            "Epoch 23: val_accuracy did not improve from 0.93333\n",
            "240/240 [==============================] - 16s 68ms/step - loss: 0.4626 - accuracy: 0.8458 - val_loss: 0.4519 - val_accuracy: 0.9167 - lr: 1.0000e-04\n",
            "Epoch 24/30\n",
            "240/240 [==============================] - ETA: 0s - loss: 0.4728 - accuracy: 0.8292\n",
            "Epoch 24: val_accuracy did not improve from 0.93333\n",
            "240/240 [==============================] - 17s 69ms/step - loss: 0.4728 - accuracy: 0.8292 - val_loss: 0.4468 - val_accuracy: 0.9167 - lr: 1.0000e-04\n",
            "Epoch 25/30\n",
            "240/240 [==============================] - ETA: 0s - loss: 0.4420 - accuracy: 0.8750\n",
            "Epoch 25: val_accuracy did not improve from 0.93333\n",
            "240/240 [==============================] - 17s 69ms/step - loss: 0.4420 - accuracy: 0.8750 - val_loss: 0.4376 - val_accuracy: 0.9000 - lr: 1.0000e-04\n",
            "Epoch 26/30\n",
            "240/240 [==============================] - ETA: 0s - loss: 0.4545 - accuracy: 0.8667\n",
            "Epoch 26: val_accuracy did not improve from 0.93333\n",
            "240/240 [==============================] - 16s 69ms/step - loss: 0.4545 - accuracy: 0.8667 - val_loss: 0.4357 - val_accuracy: 0.9000 - lr: 1.0000e-04\n",
            "Epoch 27/30\n",
            "240/240 [==============================] - ETA: 0s - loss: 0.4470 - accuracy: 0.8500\n",
            "Epoch 27: val_accuracy did not improve from 0.93333\n",
            "\n",
            "Epoch 27: ReduceLROnPlateau reducing learning rate to 4.999999873689376e-05.\n",
            "240/240 [==============================] - 16s 67ms/step - loss: 0.4470 - accuracy: 0.8500 - val_loss: 0.4318 - val_accuracy: 0.9000 - lr: 1.0000e-04\n",
            "Epoch 28/30\n",
            "240/240 [==============================] - ETA: 0s - loss: 0.4401 - accuracy: 0.8708\n",
            "Epoch 28: val_accuracy did not improve from 0.93333\n",
            "240/240 [==============================] - 16s 67ms/step - loss: 0.4401 - accuracy: 0.8708 - val_loss: 0.4294 - val_accuracy: 0.9000 - lr: 5.0000e-05\n",
            "Epoch 29/30\n",
            "240/240 [==============================] - ETA: 0s - loss: 0.4401 - accuracy: 0.8875\n",
            "Epoch 29: val_accuracy did not improve from 0.93333\n",
            "240/240 [==============================] - 16s 69ms/step - loss: 0.4401 - accuracy: 0.8875 - val_loss: 0.4281 - val_accuracy: 0.9000 - lr: 5.0000e-05\n",
            "Epoch 30/30\n",
            "240/240 [==============================] - ETA: 0s - loss: 0.4418 - accuracy: 0.8458\n",
            "Epoch 30: val_accuracy did not improve from 0.93333\n",
            "240/240 [==============================] - 16s 67ms/step - loss: 0.4418 - accuracy: 0.8458 - val_loss: 0.4264 - val_accuracy: 0.9000 - lr: 5.0000e-05\n",
            "              precision    recall  f1-score   support\n",
            "\n",
            "    Abnormal       0.88      0.88      0.88        26\n",
            "      Normal       0.91      0.91      0.91        34\n",
            "\n",
            "    accuracy                           0.90        60\n",
            "   macro avg       0.90      0.90      0.90        60\n",
            "weighted avg       0.90      0.90      0.90        60\n",
            "\n",
            "Fold #2\n",
            "Epoch 1/30\n",
            "240/240 [==============================] - ETA: 0s - loss: 0.4237 - accuracy: 0.8958\n",
            "Epoch 1: val_accuracy improved from -inf to 0.86667, saving model to  Kmodel1_sig_pre_bi_sgd2.h5 \n",
            "INFO:tensorflow:Assets written to:  Kmodel1_sig_pre_bi_sgd2.h5 /assets\n",
            "240/240 [==============================] - 95s 398ms/step - loss: 0.4237 - accuracy: 0.8958 - val_loss: 0.4517 - val_accuracy: 0.8667 - lr: 5.0000e-05\n",
            "Epoch 2/30\n",
            "240/240 [==============================] - ETA: 0s - loss: 0.4268 - accuracy: 0.8875\n",
            "Epoch 2: val_accuracy did not improve from 0.86667\n",
            "240/240 [==============================] - 17s 69ms/step - loss: 0.4268 - accuracy: 0.8875 - val_loss: 0.4565 - val_accuracy: 0.8500 - lr: 5.0000e-05\n",
            "Epoch 3/30\n",
            "240/240 [==============================] - ETA: 0s - loss: 0.4259 - accuracy: 0.8667\n",
            "Epoch 3: val_accuracy did not improve from 0.86667\n",
            "240/240 [==============================] - 16s 69ms/step - loss: 0.4259 - accuracy: 0.8667 - val_loss: 0.4566 - val_accuracy: 0.8500 - lr: 5.0000e-05\n",
            "Epoch 4/30\n",
            "240/240 [==============================] - ETA: 0s - loss: 0.4324 - accuracy: 0.8625\n",
            "Epoch 4: val_accuracy did not improve from 0.86667\n",
            "240/240 [==============================] - 17s 69ms/step - loss: 0.4324 - accuracy: 0.8625 - val_loss: 0.4530 - val_accuracy: 0.8500 - lr: 5.0000e-05\n",
            "Epoch 5/30\n",
            "240/240 [==============================] - ETA: 0s - loss: 0.4173 - accuracy: 0.8875\n",
            "Epoch 5: val_accuracy did not improve from 0.86667\n",
            "240/240 [==============================] - 17s 69ms/step - loss: 0.4173 - accuracy: 0.8875 - val_loss: 0.4514 - val_accuracy: 0.8500 - lr: 5.0000e-05\n",
            "Epoch 6/30\n",
            "240/240 [==============================] - ETA: 0s - loss: 0.4148 - accuracy: 0.8792\n",
            "Epoch 6: val_accuracy did not improve from 0.86667\n",
            "240/240 [==============================] - 17s 69ms/step - loss: 0.4148 - accuracy: 0.8792 - val_loss: 0.4503 - val_accuracy: 0.8500 - lr: 5.0000e-05\n",
            "Epoch 7/30\n",
            "240/240 [==============================] - ETA: 0s - loss: 0.4152 - accuracy: 0.8667\n",
            "Epoch 7: val_accuracy did not improve from 0.86667\n",
            "\n",
            "Epoch 7: ReduceLROnPlateau reducing learning rate to 2.499999936844688e-05.\n",
            "240/240 [==============================] - 17s 71ms/step - loss: 0.4152 - accuracy: 0.8667 - val_loss: 0.4534 - val_accuracy: 0.8167 - lr: 5.0000e-05\n",
            "Epoch 8/30\n",
            "240/240 [==============================] - ETA: 0s - loss: 0.4034 - accuracy: 0.8958\n",
            "Epoch 8: val_accuracy did not improve from 0.86667\n",
            "240/240 [==============================] - 17s 70ms/step - loss: 0.4034 - accuracy: 0.8958 - val_loss: 0.4535 - val_accuracy: 0.8167 - lr: 2.5000e-05\n",
            "Epoch 9/30\n",
            "240/240 [==============================] - ETA: 0s - loss: 0.4088 - accuracy: 0.8792\n",
            "Epoch 9: val_accuracy did not improve from 0.86667\n",
            "240/240 [==============================] - 17s 70ms/step - loss: 0.4088 - accuracy: 0.8792 - val_loss: 0.4504 - val_accuracy: 0.8167 - lr: 2.5000e-05\n",
            "Epoch 10/30\n",
            "240/240 [==============================] - ETA: 0s - loss: 0.3963 - accuracy: 0.9167\n",
            "Epoch 10: val_accuracy did not improve from 0.86667\n",
            "240/240 [==============================] - 17s 69ms/step - loss: 0.3963 - accuracy: 0.9167 - val_loss: 0.4503 - val_accuracy: 0.8167 - lr: 2.5000e-05\n",
            "Epoch 11/30\n",
            "240/240 [==============================] - ETA: 0s - loss: 0.4156 - accuracy: 0.8792\n",
            "Epoch 11: val_accuracy did not improve from 0.86667\n",
            "240/240 [==============================] - 17s 70ms/step - loss: 0.4156 - accuracy: 0.8792 - val_loss: 0.4477 - val_accuracy: 0.8167 - lr: 2.5000e-05\n",
            "Epoch 12/30\n",
            "240/240 [==============================] - ETA: 0s - loss: 0.4067 - accuracy: 0.8917\n",
            "Epoch 12: val_accuracy did not improve from 0.86667\n",
            "240/240 [==============================] - 17s 70ms/step - loss: 0.4067 - accuracy: 0.8917 - val_loss: 0.4470 - val_accuracy: 0.8167 - lr: 2.5000e-05\n",
            "Epoch 13/30\n",
            "240/240 [==============================] - ETA: 0s - loss: 0.3966 - accuracy: 0.8917\n",
            "Epoch 13: val_accuracy did not improve from 0.86667\n",
            "\n",
            "Epoch 13: ReduceLROnPlateau reducing learning rate to 1.249999968422344e-05.\n",
            "240/240 [==============================] - 17s 70ms/step - loss: 0.3966 - accuracy: 0.8917 - val_loss: 0.4459 - val_accuracy: 0.8167 - lr: 2.5000e-05\n",
            "Epoch 14/30\n",
            "240/240 [==============================] - ETA: 0s - loss: 0.4181 - accuracy: 0.8583\n",
            "Epoch 14: val_accuracy did not improve from 0.86667\n",
            "240/240 [==============================] - 17s 69ms/step - loss: 0.4181 - accuracy: 0.8583 - val_loss: 0.4452 - val_accuracy: 0.8167 - lr: 1.2500e-05\n",
            "Epoch 15/30\n",
            "240/240 [==============================] - ETA: 0s - loss: 0.4102 - accuracy: 0.8875\n",
            "Epoch 15: val_accuracy did not improve from 0.86667\n",
            "240/240 [==============================] - 17s 69ms/step - loss: 0.4102 - accuracy: 0.8875 - val_loss: 0.4446 - val_accuracy: 0.8333 - lr: 1.2500e-05\n",
            "Epoch 16/30\n",
            "240/240 [==============================] - ETA: 0s - loss: 0.3963 - accuracy: 0.9042\n",
            "Epoch 16: val_accuracy did not improve from 0.86667\n",
            "240/240 [==============================] - 17s 70ms/step - loss: 0.3963 - accuracy: 0.9042 - val_loss: 0.4443 - val_accuracy: 0.8333 - lr: 1.2500e-05\n",
            "              precision    recall  f1-score   support\n",
            "\n",
            "    Abnormal       1.00      0.72      0.84        36\n",
            "      Normal       0.71      1.00      0.83        24\n",
            "\n",
            "    accuracy                           0.83        60\n",
            "   macro avg       0.85      0.86      0.83        60\n",
            "weighted avg       0.88      0.83      0.83        60\n",
            "\n",
            "Fold #3\n",
            "Epoch 1/30\n",
            "240/240 [==============================] - ETA: 0s - loss: 0.4102 - accuracy: 0.8792\n",
            "Epoch 1: val_accuracy improved from -inf to 0.85000, saving model to  Kmodel1_sig_pre_bi_sgd3.h5 \n",
            "INFO:tensorflow:Assets written to:  Kmodel1_sig_pre_bi_sgd3.h5 /assets\n",
            "240/240 [==============================] - 94s 393ms/step - loss: 0.4102 - accuracy: 0.8792 - val_loss: 0.4330 - val_accuracy: 0.8500 - lr: 1.2500e-05\n",
            "Epoch 2/30\n",
            "240/240 [==============================] - ETA: 0s - loss: 0.3995 - accuracy: 0.8708\n",
            "Epoch 2: val_accuracy did not improve from 0.85000\n",
            "240/240 [==============================] - 17s 69ms/step - loss: 0.3995 - accuracy: 0.8708 - val_loss: 0.4322 - val_accuracy: 0.8500 - lr: 1.2500e-05\n",
            "Epoch 3/30\n",
            "240/240 [==============================] - ETA: 0s - loss: 0.4104 - accuracy: 0.8792\n",
            "Epoch 3: val_accuracy did not improve from 0.85000\n",
            "240/240 [==============================] - 16s 68ms/step - loss: 0.4104 - accuracy: 0.8792 - val_loss: 0.4316 - val_accuracy: 0.8500 - lr: 1.2500e-05\n",
            "Epoch 4/30\n",
            "240/240 [==============================] - ETA: 0s - loss: 0.3958 - accuracy: 0.9042\n",
            "Epoch 4: val_accuracy did not improve from 0.85000\n",
            "240/240 [==============================] - 17s 69ms/step - loss: 0.3958 - accuracy: 0.9042 - val_loss: 0.4310 - val_accuracy: 0.8500 - lr: 1.2500e-05\n",
            "Epoch 5/30\n",
            "240/240 [==============================] - ETA: 0s - loss: 0.4044 - accuracy: 0.8792\n",
            "Epoch 5: val_accuracy did not improve from 0.85000\n",
            "240/240 [==============================] - 16s 68ms/step - loss: 0.4044 - accuracy: 0.8792 - val_loss: 0.4305 - val_accuracy: 0.8500 - lr: 1.2500e-05\n",
            "Epoch 6/30\n",
            "240/240 [==============================] - ETA: 0s - loss: 0.4114 - accuracy: 0.8917\n",
            "Epoch 6: val_accuracy did not improve from 0.85000\n",
            "240/240 [==============================] - 16s 68ms/step - loss: 0.4114 - accuracy: 0.8917 - val_loss: 0.4301 - val_accuracy: 0.8500 - lr: 1.2500e-05\n",
            "Epoch 7/30\n",
            "240/240 [==============================] - ETA: 0s - loss: 0.4103 - accuracy: 0.8875\n",
            "Epoch 7: val_accuracy did not improve from 0.85000\n",
            "\n",
            "Epoch 7: ReduceLROnPlateau reducing learning rate to 1e-05.\n",
            "240/240 [==============================] - 16s 68ms/step - loss: 0.4103 - accuracy: 0.8875 - val_loss: 0.4297 - val_accuracy: 0.8500 - lr: 1.2500e-05\n",
            "Epoch 8/30\n",
            "240/240 [==============================] - ETA: 0s - loss: 0.3943 - accuracy: 0.8958\n",
            "Epoch 8: val_accuracy did not improve from 0.85000\n",
            "240/240 [==============================] - 17s 69ms/step - loss: 0.3943 - accuracy: 0.8958 - val_loss: 0.4293 - val_accuracy: 0.8500 - lr: 1.0000e-05\n",
            "Epoch 9/30\n",
            "240/240 [==============================] - ETA: 0s - loss: 0.4032 - accuracy: 0.8833\n",
            "Epoch 9: val_accuracy did not improve from 0.85000\n",
            "240/240 [==============================] - 17s 70ms/step - loss: 0.4032 - accuracy: 0.8833 - val_loss: 0.4290 - val_accuracy: 0.8500 - lr: 1.0000e-05\n",
            "Epoch 10/30\n",
            "240/240 [==============================] - ETA: 0s - loss: 0.4071 - accuracy: 0.8792\n",
            "Epoch 10: val_accuracy did not improve from 0.85000\n",
            "240/240 [==============================] - 17s 71ms/step - loss: 0.4071 - accuracy: 0.8792 - val_loss: 0.4287 - val_accuracy: 0.8500 - lr: 1.0000e-05\n",
            "Epoch 11/30\n",
            "240/240 [==============================] - ETA: 0s - loss: 0.3980 - accuracy: 0.8917\n",
            "Epoch 11: val_accuracy did not improve from 0.85000\n",
            "240/240 [==============================] - 17s 71ms/step - loss: 0.3980 - accuracy: 0.8917 - val_loss: 0.4283 - val_accuracy: 0.8500 - lr: 1.0000e-05\n",
            "Epoch 12/30\n",
            "240/240 [==============================] - ETA: 0s - loss: 0.4041 - accuracy: 0.8958\n",
            "Epoch 12: val_accuracy did not improve from 0.85000\n",
            "240/240 [==============================] - 17s 69ms/step - loss: 0.4041 - accuracy: 0.8958 - val_loss: 0.4280 - val_accuracy: 0.8500 - lr: 1.0000e-05\n",
            "Epoch 13/30\n",
            "240/240 [==============================] - ETA: 0s - loss: 0.3864 - accuracy: 0.8917\n",
            "Epoch 13: val_accuracy did not improve from 0.85000\n",
            "240/240 [==============================] - 17s 69ms/step - loss: 0.3864 - accuracy: 0.8917 - val_loss: 0.4279 - val_accuracy: 0.8500 - lr: 1.0000e-05\n",
            "Epoch 14/30\n",
            "240/240 [==============================] - ETA: 0s - loss: 0.4133 - accuracy: 0.8750\n",
            "Epoch 14: val_accuracy did not improve from 0.85000\n",
            "240/240 [==============================] - 17s 69ms/step - loss: 0.4133 - accuracy: 0.8750 - val_loss: 0.4274 - val_accuracy: 0.8500 - lr: 1.0000e-05\n",
            "Epoch 15/30\n",
            "240/240 [==============================] - ETA: 0s - loss: 0.4074 - accuracy: 0.8667\n",
            "Epoch 15: val_accuracy did not improve from 0.85000\n",
            "240/240 [==============================] - 17s 69ms/step - loss: 0.4074 - accuracy: 0.8667 - val_loss: 0.4270 - val_accuracy: 0.8500 - lr: 1.0000e-05\n",
            "Epoch 16/30\n",
            "240/240 [==============================] - ETA: 0s - loss: 0.4024 - accuracy: 0.8917\n",
            "Epoch 16: val_accuracy did not improve from 0.85000\n",
            "240/240 [==============================] - 17s 69ms/step - loss: 0.4024 - accuracy: 0.8917 - val_loss: 0.4267 - val_accuracy: 0.8500 - lr: 1.0000e-05\n",
            "              precision    recall  f1-score   support\n",
            "\n",
            "    Abnormal       0.95      0.72      0.82        29\n",
            "      Normal       0.79      0.97      0.87        31\n",
            "\n",
            "    accuracy                           0.85        60\n",
            "   macro avg       0.87      0.85      0.85        60\n",
            "weighted avg       0.87      0.85      0.85        60\n",
            "\n",
            "Fold #4\n",
            "Epoch 1/30\n",
            "240/240 [==============================] - ETA: 0s - loss: 0.3982 - accuracy: 0.8917\n",
            "Epoch 1: val_accuracy improved from -inf to 0.85000, saving model to  Kmodel1_sig_pre_bi_sgd4.h5 \n",
            "INFO:tensorflow:Assets written to:  Kmodel1_sig_pre_bi_sgd4.h5 /assets\n",
            "240/240 [==============================] - 93s 388ms/step - loss: 0.3982 - accuracy: 0.8917 - val_loss: 0.4103 - val_accuracy: 0.8500 - lr: 1.0000e-05\n",
            "Epoch 2/30\n",
            "240/240 [==============================] - ETA: 0s - loss: 0.3907 - accuracy: 0.9042\n",
            "Epoch 2: val_accuracy did not improve from 0.85000\n",
            "240/240 [==============================] - 16s 69ms/step - loss: 0.3907 - accuracy: 0.9042 - val_loss: 0.4102 - val_accuracy: 0.8500 - lr: 1.0000e-05\n",
            "Epoch 3/30\n",
            "240/240 [==============================] - ETA: 0s - loss: 0.3886 - accuracy: 0.8958\n",
            "Epoch 3: val_accuracy did not improve from 0.85000\n",
            "240/240 [==============================] - 16s 68ms/step - loss: 0.3886 - accuracy: 0.8958 - val_loss: 0.4100 - val_accuracy: 0.8500 - lr: 1.0000e-05\n",
            "Epoch 4/30\n",
            "240/240 [==============================] - ETA: 0s - loss: 0.3927 - accuracy: 0.9000\n",
            "Epoch 4: val_accuracy did not improve from 0.85000\n",
            "240/240 [==============================] - 16s 68ms/step - loss: 0.3927 - accuracy: 0.9000 - val_loss: 0.4097 - val_accuracy: 0.8500 - lr: 1.0000e-05\n",
            "Epoch 5/30\n",
            "240/240 [==============================] - ETA: 0s - loss: 0.4170 - accuracy: 0.8625\n",
            "Epoch 5: val_accuracy did not improve from 0.85000\n",
            "240/240 [==============================] - 16s 68ms/step - loss: 0.4170 - accuracy: 0.8625 - val_loss: 0.4096 - val_accuracy: 0.8500 - lr: 1.0000e-05\n",
            "Epoch 6/30\n",
            "240/240 [==============================] - ETA: 0s - loss: 0.4046 - accuracy: 0.8875\n",
            "Epoch 6: val_accuracy did not improve from 0.85000\n",
            "240/240 [==============================] - 16s 67ms/step - loss: 0.4046 - accuracy: 0.8875 - val_loss: 0.4094 - val_accuracy: 0.8500 - lr: 1.0000e-05\n",
            "Epoch 7/30\n",
            "240/240 [==============================] - ETA: 0s - loss: 0.3974 - accuracy: 0.8583\n",
            "Epoch 7: val_accuracy improved from 0.85000 to 0.86667, saving model to  Kmodel1_sig_pre_bi_sgd4.h5 \n",
            "INFO:tensorflow:Assets written to:  Kmodel1_sig_pre_bi_sgd4.h5 /assets\n",
            "240/240 [==============================] - 94s 393ms/step - loss: 0.3974 - accuracy: 0.8583 - val_loss: 0.4093 - val_accuracy: 0.8667 - lr: 1.0000e-05\n",
            "Epoch 8/30\n",
            "240/240 [==============================] - ETA: 0s - loss: 0.3952 - accuracy: 0.9125\n",
            "Epoch 8: val_accuracy did not improve from 0.86667\n",
            "240/240 [==============================] - 17s 70ms/step - loss: 0.3952 - accuracy: 0.9125 - val_loss: 0.4091 - val_accuracy: 0.8667 - lr: 1.0000e-05\n",
            "Epoch 9/30\n",
            "240/240 [==============================] - ETA: 0s - loss: 0.3967 - accuracy: 0.8750\n",
            "Epoch 9: val_accuracy did not improve from 0.86667\n",
            "240/240 [==============================] - 17s 70ms/step - loss: 0.3967 - accuracy: 0.8750 - val_loss: 0.4088 - val_accuracy: 0.8667 - lr: 1.0000e-05\n",
            "Epoch 10/30\n",
            "240/240 [==============================] - ETA: 0s - loss: 0.3993 - accuracy: 0.8792\n",
            "Epoch 10: val_accuracy did not improve from 0.86667\n",
            "240/240 [==============================] - 17s 70ms/step - loss: 0.3993 - accuracy: 0.8792 - val_loss: 0.4087 - val_accuracy: 0.8667 - lr: 1.0000e-05\n",
            "Epoch 11/30\n",
            "240/240 [==============================] - ETA: 0s - loss: 0.4055 - accuracy: 0.8625\n",
            "Epoch 11: val_accuracy did not improve from 0.86667\n",
            "240/240 [==============================] - 17s 71ms/step - loss: 0.4055 - accuracy: 0.8625 - val_loss: 0.4085 - val_accuracy: 0.8667 - lr: 1.0000e-05\n",
            "Epoch 12/30\n",
            "240/240 [==============================] - ETA: 0s - loss: 0.3921 - accuracy: 0.9000\n",
            "Epoch 12: val_accuracy did not improve from 0.86667\n",
            "240/240 [==============================] - 17s 69ms/step - loss: 0.3921 - accuracy: 0.9000 - val_loss: 0.4082 - val_accuracy: 0.8667 - lr: 1.0000e-05\n",
            "Epoch 13/30\n",
            "240/240 [==============================] - ETA: 0s - loss: 0.3905 - accuracy: 0.9125\n",
            "Epoch 13: val_accuracy did not improve from 0.86667\n",
            "240/240 [==============================] - 17s 69ms/step - loss: 0.3905 - accuracy: 0.9125 - val_loss: 0.4080 - val_accuracy: 0.8667 - lr: 1.0000e-05\n",
            "Epoch 14/30\n",
            "240/240 [==============================] - ETA: 0s - loss: 0.3773 - accuracy: 0.9042\n",
            "Epoch 14: val_accuracy did not improve from 0.86667\n",
            "240/240 [==============================] - 17s 71ms/step - loss: 0.3773 - accuracy: 0.9042 - val_loss: 0.4077 - val_accuracy: 0.8667 - lr: 1.0000e-05\n",
            "Epoch 15/30\n",
            "240/240 [==============================] - ETA: 0s - loss: 0.4027 - accuracy: 0.8875\n",
            "Epoch 15: val_accuracy did not improve from 0.86667\n",
            "240/240 [==============================] - 17s 70ms/step - loss: 0.4027 - accuracy: 0.8875 - val_loss: 0.4074 - val_accuracy: 0.8667 - lr: 1.0000e-05\n",
            "Epoch 16/30\n",
            "240/240 [==============================] - ETA: 0s - loss: 0.3801 - accuracy: 0.9250\n",
            "Epoch 16: val_accuracy did not improve from 0.86667\n",
            "240/240 [==============================] - 17s 70ms/step - loss: 0.3801 - accuracy: 0.9250 - val_loss: 0.4071 - val_accuracy: 0.8667 - lr: 1.0000e-05\n",
            "Epoch 17/30\n",
            "240/240 [==============================] - ETA: 0s - loss: 0.3933 - accuracy: 0.8875\n",
            "Epoch 17: val_accuracy did not improve from 0.86667\n",
            "240/240 [==============================] - 17s 70ms/step - loss: 0.3933 - accuracy: 0.8875 - val_loss: 0.4068 - val_accuracy: 0.8667 - lr: 1.0000e-05\n",
            "Epoch 18/30\n",
            "240/240 [==============================] - ETA: 0s - loss: 0.3919 - accuracy: 0.8875\n",
            "Epoch 18: val_accuracy did not improve from 0.86667\n",
            "240/240 [==============================] - 17s 70ms/step - loss: 0.3919 - accuracy: 0.8875 - val_loss: 0.4065 - val_accuracy: 0.8667 - lr: 1.0000e-05\n",
            "Epoch 19/30\n",
            "240/240 [==============================] - ETA: 0s - loss: 0.3835 - accuracy: 0.9083\n",
            "Epoch 19: val_accuracy did not improve from 0.86667\n",
            "240/240 [==============================] - 17s 70ms/step - loss: 0.3835 - accuracy: 0.9083 - val_loss: 0.4062 - val_accuracy: 0.8667 - lr: 1.0000e-05\n",
            "Epoch 20/30\n",
            "240/240 [==============================] - ETA: 0s - loss: 0.3929 - accuracy: 0.8958\n",
            "Epoch 20: val_accuracy did not improve from 0.86667\n",
            "240/240 [==============================] - 17s 71ms/step - loss: 0.3929 - accuracy: 0.8958 - val_loss: 0.4060 - val_accuracy: 0.8667 - lr: 1.0000e-05\n",
            "Epoch 21/30\n",
            "240/240 [==============================] - ETA: 0s - loss: 0.3924 - accuracy: 0.9042\n",
            "Epoch 21: val_accuracy did not improve from 0.86667\n",
            "240/240 [==============================] - 17s 71ms/step - loss: 0.3924 - accuracy: 0.9042 - val_loss: 0.4057 - val_accuracy: 0.8667 - lr: 1.0000e-05\n",
            "Epoch 22/30\n",
            "240/240 [==============================] - ETA: 0s - loss: 0.3881 - accuracy: 0.8958\n",
            "Epoch 22: val_accuracy did not improve from 0.86667\n",
            "240/240 [==============================] - 17s 71ms/step - loss: 0.3881 - accuracy: 0.8958 - val_loss: 0.4055 - val_accuracy: 0.8667 - lr: 1.0000e-05\n",
            "              precision    recall  f1-score   support\n",
            "\n",
            "    Abnormal       1.00      0.68      0.81        25\n",
            "      Normal       0.81      1.00      0.90        35\n",
            "\n",
            "    accuracy                           0.87        60\n",
            "   macro avg       0.91      0.84      0.85        60\n",
            "weighted avg       0.89      0.87      0.86        60\n",
            "\n",
            "Fold #5\n",
            "Epoch 1/30\n",
            "240/240 [==============================] - ETA: 0s - loss: 0.3987 - accuracy: 0.8667\n",
            "Epoch 1: val_accuracy improved from -inf to 0.86667, saving model to  Kmodel1_sig_pre_bi_sgd5.h5 \n",
            "INFO:tensorflow:Assets written to:  Kmodel1_sig_pre_bi_sgd5.h5 /assets\n",
            "240/240 [==============================] - 96s 402ms/step - loss: 0.3987 - accuracy: 0.8667 - val_loss: 0.3982 - val_accuracy: 0.8667 - lr: 1.0000e-05\n",
            "Epoch 2/30\n",
            "240/240 [==============================] - ETA: 0s - loss: 0.4034 - accuracy: 0.8667\n",
            "Epoch 2: val_accuracy did not improve from 0.86667\n",
            "240/240 [==============================] - 17s 72ms/step - loss: 0.4034 - accuracy: 0.8667 - val_loss: 0.3986 - val_accuracy: 0.8667 - lr: 1.0000e-05\n",
            "Epoch 3/30\n",
            "240/240 [==============================] - ETA: 0s - loss: 0.4015 - accuracy: 0.8792\n",
            "Epoch 3: val_accuracy did not improve from 0.86667\n",
            "240/240 [==============================] - 17s 71ms/step - loss: 0.4015 - accuracy: 0.8792 - val_loss: 0.3989 - val_accuracy: 0.8667 - lr: 1.0000e-05\n",
            "Epoch 4/30\n",
            "240/240 [==============================] - ETA: 0s - loss: 0.4082 - accuracy: 0.8750\n",
            "Epoch 4: val_accuracy did not improve from 0.86667\n",
            "240/240 [==============================] - 17s 71ms/step - loss: 0.4082 - accuracy: 0.8750 - val_loss: 0.3992 - val_accuracy: 0.8667 - lr: 1.0000e-05\n",
            "Epoch 5/30\n",
            "240/240 [==============================] - ETA: 0s - loss: 0.3957 - accuracy: 0.8958\n",
            "Epoch 5: val_accuracy did not improve from 0.86667\n",
            "240/240 [==============================] - 17s 71ms/step - loss: 0.3957 - accuracy: 0.8958 - val_loss: 0.3994 - val_accuracy: 0.8667 - lr: 1.0000e-05\n",
            "Epoch 6/30\n",
            "240/240 [==============================] - ETA: 0s - loss: 0.4061 - accuracy: 0.8583\n",
            "Epoch 6: val_accuracy did not improve from 0.86667\n",
            "240/240 [==============================] - 17s 72ms/step - loss: 0.4061 - accuracy: 0.8583 - val_loss: 0.3990 - val_accuracy: 0.8667 - lr: 1.0000e-05\n",
            "Epoch 7/30\n",
            "240/240 [==============================] - ETA: 0s - loss: 0.3969 - accuracy: 0.8875\n",
            "Epoch 7: val_accuracy did not improve from 0.86667\n",
            "240/240 [==============================] - 17s 71ms/step - loss: 0.3969 - accuracy: 0.8875 - val_loss: 0.3990 - val_accuracy: 0.8667 - lr: 1.0000e-05\n",
            "Epoch 8/30\n",
            "240/240 [==============================] - ETA: 0s - loss: 0.4054 - accuracy: 0.8833\n",
            "Epoch 8: val_accuracy did not improve from 0.86667\n",
            "240/240 [==============================] - 17s 71ms/step - loss: 0.4054 - accuracy: 0.8833 - val_loss: 0.3989 - val_accuracy: 0.8667 - lr: 1.0000e-05\n",
            "Epoch 9/30\n",
            "240/240 [==============================] - ETA: 0s - loss: 0.3932 - accuracy: 0.8875\n",
            "Epoch 9: val_accuracy did not improve from 0.86667\n",
            "240/240 [==============================] - 17s 71ms/step - loss: 0.3932 - accuracy: 0.8875 - val_loss: 0.3990 - val_accuracy: 0.8667 - lr: 1.0000e-05\n",
            "Epoch 10/30\n",
            "240/240 [==============================] - ETA: 0s - loss: 0.3859 - accuracy: 0.8917\n",
            "Epoch 10: val_accuracy did not improve from 0.86667\n",
            "240/240 [==============================] - 17s 71ms/step - loss: 0.3859 - accuracy: 0.8917 - val_loss: 0.3995 - val_accuracy: 0.8667 - lr: 1.0000e-05\n",
            "Epoch 11/30\n",
            "240/240 [==============================] - ETA: 0s - loss: 0.4063 - accuracy: 0.8750\n",
            "Epoch 11: val_accuracy improved from 0.86667 to 0.88333, saving model to  Kmodel1_sig_pre_bi_sgd5.h5 \n",
            "INFO:tensorflow:Assets written to:  Kmodel1_sig_pre_bi_sgd5.h5 /assets\n",
            "240/240 [==============================] - 97s 404ms/step - loss: 0.4063 - accuracy: 0.8750 - val_loss: 0.3996 - val_accuracy: 0.8833 - lr: 1.0000e-05\n",
            "Epoch 12/30\n",
            "240/240 [==============================] - ETA: 0s - loss: 0.4145 - accuracy: 0.8792\n",
            "Epoch 12: val_accuracy did not improve from 0.88333\n",
            "240/240 [==============================] - 17s 72ms/step - loss: 0.4145 - accuracy: 0.8792 - val_loss: 0.3996 - val_accuracy: 0.8833 - lr: 1.0000e-05\n",
            "Epoch 13/30\n",
            "240/240 [==============================] - ETA: 0s - loss: 0.3911 - accuracy: 0.8875\n",
            "Epoch 13: val_accuracy did not improve from 0.88333\n",
            "240/240 [==============================] - 18s 73ms/step - loss: 0.3911 - accuracy: 0.8875 - val_loss: 0.3992 - val_accuracy: 0.8833 - lr: 1.0000e-05\n",
            "Epoch 14/30\n",
            "240/240 [==============================] - ETA: 0s - loss: 0.3860 - accuracy: 0.8958\n",
            "Epoch 14: val_accuracy did not improve from 0.88333\n",
            "240/240 [==============================] - 17s 72ms/step - loss: 0.3860 - accuracy: 0.8958 - val_loss: 0.3994 - val_accuracy: 0.8833 - lr: 1.0000e-05\n",
            "Epoch 15/30\n",
            "240/240 [==============================] - ETA: 0s - loss: 0.3982 - accuracy: 0.8833\n",
            "Epoch 15: val_accuracy did not improve from 0.88333\n",
            "240/240 [==============================] - 18s 73ms/step - loss: 0.3982 - accuracy: 0.8833 - val_loss: 0.3989 - val_accuracy: 0.8833 - lr: 1.0000e-05\n",
            "Epoch 16/30\n",
            "240/240 [==============================] - ETA: 0s - loss: 0.3969 - accuracy: 0.8833\n",
            "Epoch 16: val_accuracy did not improve from 0.88333\n",
            "240/240 [==============================] - 18s 73ms/step - loss: 0.3969 - accuracy: 0.8833 - val_loss: 0.3986 - val_accuracy: 0.8833 - lr: 1.0000e-05\n",
            "Epoch 17/30\n",
            "240/240 [==============================] - ETA: 0s - loss: 0.4003 - accuracy: 0.8542\n",
            "Epoch 17: val_accuracy did not improve from 0.88333\n",
            "240/240 [==============================] - 17s 72ms/step - loss: 0.4003 - accuracy: 0.8542 - val_loss: 0.3980 - val_accuracy: 0.8833 - lr: 1.0000e-05\n",
            "Epoch 18/30\n",
            "240/240 [==============================] - ETA: 0s - loss: 0.4014 - accuracy: 0.8542\n",
            "Epoch 18: val_accuracy did not improve from 0.88333\n",
            "240/240 [==============================] - 17s 72ms/step - loss: 0.4014 - accuracy: 0.8542 - val_loss: 0.3976 - val_accuracy: 0.8667 - lr: 1.0000e-05\n",
            "Epoch 19/30\n",
            "240/240 [==============================] - ETA: 0s - loss: 0.4004 - accuracy: 0.8667\n",
            "Epoch 19: val_accuracy did not improve from 0.88333\n",
            "240/240 [==============================] - 18s 73ms/step - loss: 0.4004 - accuracy: 0.8667 - val_loss: 0.3974 - val_accuracy: 0.8667 - lr: 1.0000e-05\n",
            "Epoch 20/30\n",
            "240/240 [==============================] - ETA: 0s - loss: 0.3936 - accuracy: 0.9000\n",
            "Epoch 20: val_accuracy did not improve from 0.88333\n",
            "240/240 [==============================] - 17s 73ms/step - loss: 0.3936 - accuracy: 0.9000 - val_loss: 0.3970 - val_accuracy: 0.8667 - lr: 1.0000e-05\n",
            "Epoch 21/30\n",
            "240/240 [==============================] - ETA: 0s - loss: 0.3938 - accuracy: 0.8917\n",
            "Epoch 21: val_accuracy did not improve from 0.88333\n",
            "240/240 [==============================] - 18s 73ms/step - loss: 0.3938 - accuracy: 0.8917 - val_loss: 0.3966 - val_accuracy: 0.8667 - lr: 1.0000e-05\n",
            "Epoch 22/30\n",
            "240/240 [==============================] - ETA: 0s - loss: 0.3814 - accuracy: 0.8958\n",
            "Epoch 22: val_accuracy did not improve from 0.88333\n",
            "240/240 [==============================] - 17s 72ms/step - loss: 0.3814 - accuracy: 0.8958 - val_loss: 0.3965 - val_accuracy: 0.8667 - lr: 1.0000e-05\n",
            "Epoch 23/30\n",
            "240/240 [==============================] - ETA: 0s - loss: 0.3831 - accuracy: 0.9000\n",
            "Epoch 23: val_accuracy did not improve from 0.88333\n",
            "240/240 [==============================] - 17s 72ms/step - loss: 0.3831 - accuracy: 0.9000 - val_loss: 0.3964 - val_accuracy: 0.8667 - lr: 1.0000e-05\n",
            "Epoch 24/30\n",
            "240/240 [==============================] - ETA: 0s - loss: 0.4099 - accuracy: 0.8333\n",
            "Epoch 24: val_accuracy did not improve from 0.88333\n",
            "240/240 [==============================] - 17s 72ms/step - loss: 0.4099 - accuracy: 0.8333 - val_loss: 0.3964 - val_accuracy: 0.8833 - lr: 1.0000e-05\n",
            "Epoch 25/30\n",
            "240/240 [==============================] - ETA: 0s - loss: 0.3736 - accuracy: 0.9125\n",
            "Epoch 25: val_accuracy did not improve from 0.88333\n",
            "240/240 [==============================] - 17s 72ms/step - loss: 0.3736 - accuracy: 0.9125 - val_loss: 0.3963 - val_accuracy: 0.8833 - lr: 1.0000e-05\n",
            "Epoch 26/30\n",
            "240/240 [==============================] - ETA: 0s - loss: 0.3920 - accuracy: 0.8708\n",
            "Epoch 26: val_accuracy did not improve from 0.88333\n",
            "240/240 [==============================] - 17s 71ms/step - loss: 0.3920 - accuracy: 0.8708 - val_loss: 0.3963 - val_accuracy: 0.8833 - lr: 1.0000e-05\n",
            "              precision    recall  f1-score   support\n",
            "\n",
            "    Abnormal       0.97      0.82      0.89        34\n",
            "      Normal       0.81      0.96      0.88        26\n",
            "\n",
            "    accuracy                           0.88        60\n",
            "   macro avg       0.89      0.89      0.88        60\n",
            "weighted avg       0.90      0.88      0.88        60\n",
            "\n",
            "              precision    recall  f1-score   support\n",
            "\n",
            "    Abnormal       0.96      0.77      0.85       150\n",
            "      Normal       0.81      0.97      0.88       150\n",
            "\n",
            "    accuracy                           0.87       300\n",
            "   macro avg       0.88      0.87      0.87       300\n",
            "weighted avg       0.88      0.87      0.87       300\n",
            "\n"
          ]
        }
      ]
    },
    {
      "cell_type": "markdown",
      "source": [
        "### 8"
      ],
      "metadata": {
        "id": "xhVuhh_eEk4n"
      }
    },
    {
      "cell_type": "markdown",
      "source": [
        "#### 8  sig pre bi\n",
        "--> "
      ],
      "metadata": {
        "id": "oJSxN2-pEk4o"
      }
    },
    {
      "cell_type": "code",
      "source": [
        "BS = 8\n",
        "filepath = \"Kmodel8_sig_pre_bi\"                  ##\n",
        "\n",
        "train_img_Dense = []\n",
        "for ImageName in tqdm(data_train3['ImageName']):               # รัน ชื่อรูป ในไฟล์ data_test3\n",
        "    image_path = All_3class_dir +'/' + ImageName                   # ดึงรูปในโฟล์เดอร์มาทีละรูป\n",
        "    img = cv2.imread(image_path)                                            # อ่านรูป\n",
        "    img = cv2.resize(img, (224, 224))                                       #ขนาดของ input\n",
        "    train_img_Dense.append(img)\n",
        "data_Dense = np.array(train_img_Dense, dtype=\"float32\") / 255.0\n",
        "\n",
        "labels_Dense = np.array(data_train3[['NameType']] )        \n",
        "labels_Dense.shape = (len(labels_Dense),) \n",
        "le_Dense = LabelEncoder()                                                                     \n",
        "labels_Dense = le_Dense.fit_transform(labels_Dense)                                         #จะแปลงชื่อ class เป็นตัวเลข 1, 2, 0 \n",
        "labels_Dense = to_categorical(labels_Dense, num_classes=2)                    \n",
        "\n",
        "aug = ImageDataGenerator( rotation_range=15,\twidth_shift_range=0.1, \theight_shift_range=0.1,\n",
        "\t\tshear_range=0.15, \thorizontal_flip=True, \tfill_mode=\"nearest\")\n",
        "                                                                                                          \n",
        "callback = EarlyStopping( monitor= \"val_accuracy\",    patience=15,       mode=\"max\")\n",
        "\n",
        "# checkpoint = ModelCheckpoint(filepath, monitor='val_accuracy', verbose=1,   save_best_only=True, mode='max')\n",
        "                                                                                                            ##\n",
        "reduce_lr = ReduceLROnPlateau(monitor='val_accuracy', factor=0.5,   patience=6,     verbose=1, mode='max', min_lr=0.00001)"
      ],
      "metadata": {
        "outputId": "8741a3e8-2d19-43a6-8086-241819a23a7f",
        "colab": {
          "base_uri": "https://localhost:8080/"
        },
        "id": "8faWH0E-Ek4o"
      },
      "execution_count": null,
      "outputs": [
        {
          "output_type": "stream",
          "name": "stderr",
          "text": [
            "100%|██████████| 451/451 [00:10<00:00, 44.85it/s]\n"
          ]
        }
      ]
    },
    {
      "cell_type": "code",
      "source": [
        "base_model_Dense = tf.keras.applications.DenseNet201(input_shape=(224, 224, 3), include_top=False, weights=\"imagenet\")\n",
        "base_model_Dense.trainable=False\n",
        "#Add custom head\n",
        "average_pooling_layer = tf.keras.layers.GlobalAveragePooling2D()(base_model_Dense.output)\n",
        "prediction_layer = tf.keras.layers.Dense(units=2, activation=\"sigmoid\")(average_pooling_layer)   # unit 2\n",
        "model_Dense = tf.keras.models.Model(inputs=base_model_Dense.input, outputs=prediction_layer)\n",
        "model_Dense.compile(optimizer=tf.keras.optimizers.RMSprop(learning_rate=0.0001), loss=\"binary_crossentropy\", metrics=[\"accuracy\"])\n",
        "\n",
        "### K-fold\n",
        "kf = KFold(5, shuffle=True, random_state=40) \n",
        "\n",
        "oos_y = []\n",
        "oos_pred = []\n",
        "fold = 0\n",
        "\n",
        "for train, test in kf.split(data_Dense):\n",
        "    fold+=1\n",
        "    print(f\"Fold #{fold}\")\n",
        "\n",
        "    filename = f\" {filepath}{fold}.h5 \"\n",
        "    checkpoint = ModelCheckpoint(filename, monitor='val_accuracy', verbose=1,   save_best_only=True, mode='max')\n",
        "\n",
        "    x_train_Dense = data_Dense[train]\n",
        "    y_train_Dense = labels_Dense[train]\n",
        "    x_test_Dense = data_Dense[test]\n",
        "    y_test_Dense = labels_Dense[test]\n",
        "\n",
        "    H_Dense = model_Dense.fit( x=aug.flow(x_train_Dense, y_train_Dense, batch_size=BS),\n",
        "\t                                            validation_data=(x_test_Dense, y_test_Dense),\n",
        "\t                                            steps_per_epoch=len(x_train_Dense) // BS,\n",
        "\t                                            epochs=30,  callbacks = [callback,checkpoint,reduce_lr])\n",
        "    \n",
        "    pred_Dense = model_Dense.predict(x_test_Dense)\n",
        "    \n",
        "    oos_y.append(y_test_Dense)\n",
        "    oos_pred.append(pred_Dense)  \n",
        "    print(classification_report(y_test_Dense.argmax(axis=1),\t                #แสดง report ค่า acc, recall, ...\n",
        "                                        pred_Dense.argmax(axis=1),  \n",
        "                                        target_names=le_Dense.classes_))   \n",
        "    \n",
        "oos_y = np.concatenate(oos_y)\n",
        "oos_pred = np.concatenate(oos_pred)\n",
        "print(classification_report(oos_y.argmax(axis=1), oos_pred.argmax(axis=1),  target_names=le_Dense.classes_))"
      ],
      "metadata": {
        "id": "8FMqtN3XEk4p"
      },
      "execution_count": null,
      "outputs": []
    },
    {
      "cell_type": "markdown",
      "source": [
        "#### 8 sig pre bi adam\n",
        "--> "
      ],
      "metadata": {
        "id": "eq0lWZPOEk4p"
      }
    },
    {
      "cell_type": "code",
      "source": [
        "BS = 8\n",
        "filepath = \"Kmodel8_sig_pre_bi_adam\"                  ##\n",
        "\n",
        "train_img_Dense = []\n",
        "for ImageName in tqdm(data_train3['ImageName']):               # รัน ชื่อรูป ในไฟล์ data_test3\n",
        "    image_path = All_3class_dir +'/' + ImageName                   # ดึงรูปในโฟล์เดอร์มาทีละรูป\n",
        "    img = cv2.imread(image_path)                                            # อ่านรูป\n",
        "    img = cv2.resize(img, (224, 224))                                       #ขนาดของ input\n",
        "    train_img_Dense.append(img)\n",
        "data_Dense = np.array(train_img_Dense, dtype=\"float32\") / 255.0\n",
        "\n",
        "labels_Dense = np.array(data_train3[['NameType']] )        \n",
        "labels_Dense.shape = (len(labels_Dense),) \n",
        "le_Dense = LabelEncoder()                                                                     \n",
        "labels_Dense = le_Dense.fit_transform(labels_Dense)                                         #จะแปลงชื่อ class เป็นตัวเลข 1, 2, 0 \n",
        "labels_Dense = to_categorical(labels_Dense, num_classes=2)                    \n",
        "\n",
        "aug = ImageDataGenerator( rotation_range=15,\twidth_shift_range=0.1, \theight_shift_range=0.1,\n",
        "\t\tshear_range=0.15, \thorizontal_flip=True, \tfill_mode=\"nearest\")\n",
        "                                                                                                          \n",
        "callback = EarlyStopping( monitor= \"val_accuracy\",    patience=15,       mode=\"max\")\n",
        "\n",
        "# checkpoint = ModelCheckpoint(filepath, monitor='val_accuracy', verbose=1,   save_best_only=True, mode='max')\n",
        "                                                                                                            ##\n",
        "reduce_lr = ReduceLROnPlateau(monitor='val_accuracy', factor=0.5,   patience=6,     verbose=1, mode='max', min_lr=0.00001)"
      ],
      "metadata": {
        "outputId": "3f52f262-ffd4-40ae-8af3-bc174b331ad7",
        "colab": {
          "base_uri": "https://localhost:8080/"
        },
        "id": "Pey0HWp1Ek4p"
      },
      "execution_count": null,
      "outputs": [
        {
          "output_type": "stream",
          "name": "stderr",
          "text": [
            "100%|██████████| 451/451 [02:08<00:00,  3.50it/s]\n"
          ]
        }
      ]
    },
    {
      "cell_type": "code",
      "source": [
        "base_model_Dense = tf.keras.applications.DenseNet201(input_shape=(224, 224, 3), include_top=False, weights=\"imagenet\")\n",
        "base_model_Dense.trainable=False\n",
        "#Add custom head\n",
        "average_pooling_layer = tf.keras.layers.GlobalAveragePooling2D()(base_model_Dense.output)\n",
        "prediction_layer = tf.keras.layers.Dense(units=2, activation=\"sigmoid\")(average_pooling_layer)   # unit 2\n",
        "model_Dense = tf.keras.models.Model(inputs=base_model_Dense.input, outputs=prediction_layer)\n",
        "model_Dense.compile(optimizer=Adam(learning_rate=0.0001), loss=\"binary_crossentropy\", metrics=[\"accuracy\"])\n",
        "\n",
        "### K-fold\n",
        "kf = KFold(5, shuffle=True, random_state=40) \n",
        "\n",
        "oos_y = []\n",
        "oos_pred = []\n",
        "fold = 0\n",
        "\n",
        "for train, test in kf.split(data_Dense):\n",
        "    fold+=1\n",
        "    print(f\"Fold #{fold}\")\n",
        "\n",
        "    filename = f\" {filepath}{fold}.h5 \"\n",
        "    checkpoint = ModelCheckpoint(filename, monitor='val_accuracy', verbose=1,   save_best_only=True, mode='max')\n",
        "\n",
        "    x_train_Dense = data_Dense[train]\n",
        "    y_train_Dense = labels_Dense[train]\n",
        "    x_test_Dense = data_Dense[test]\n",
        "    y_test_Dense = labels_Dense[test]\n",
        "\n",
        "    H_Dense = model_Dense.fit( x=aug.flow(x_train_Dense, y_train_Dense, batch_size=BS),\n",
        "\t                                            validation_data=(x_test_Dense, y_test_Dense),\n",
        "\t                                            steps_per_epoch=len(x_train_Dense) // BS,\n",
        "\t                                            epochs=30,  callbacks = [callback,checkpoint,reduce_lr])\n",
        "    \n",
        "    pred_Dense = model_Dense.predict(x_test_Dense)\n",
        "    \n",
        "    oos_y.append(y_test_Dense)\n",
        "    oos_pred.append(pred_Dense)  \n",
        "    print(classification_report(y_test_Dense.argmax(axis=1),\t                #แสดง report ค่า acc, recall, ...\n",
        "                                        pred_Dense.argmax(axis=1),  \n",
        "                                        target_names=le_Dense.classes_))   \n",
        "    \n",
        "oos_y = np.concatenate(oos_y)\n",
        "oos_pred = np.concatenate(oos_pred)\n",
        "print(classification_report(oos_y.argmax(axis=1), oos_pred.argmax(axis=1),  target_names=le_Dense.classes_))"
      ],
      "metadata": {
        "id": "M2pVNEZdEk4q"
      },
      "execution_count": null,
      "outputs": []
    },
    {
      "cell_type": "markdown",
      "source": [
        "#### 8 sig pre bi sgd\n",
        "--> "
      ],
      "metadata": {
        "id": "Bld9lfsOEk4q"
      }
    },
    {
      "cell_type": "code",
      "source": [
        "BS = 8\n",
        "filepath = \"Kmodel8_sig_pre_bi_sgd\"                  ##\n",
        "\n",
        "train_img_Dense = []\n",
        "for ImageName in tqdm(data_train3['ImageName']):               # รัน ชื่อรูป ในไฟล์ data_test3\n",
        "    image_path = All_3class_dir +'/' + ImageName                   # ดึงรูปในโฟล์เดอร์มาทีละรูป\n",
        "    img = cv2.imread(image_path)                                            # อ่านรูป\n",
        "    img = cv2.resize(img, (224, 224))                                       #ขนาดของ input\n",
        "    train_img_Dense.append(img)\n",
        "data_Dense = np.array(train_img_Dense, dtype=\"float32\") / 255.0\n",
        "\n",
        "labels_Dense = np.array(data_train3[['NameType']] )        \n",
        "labels_Dense.shape = (len(labels_Dense),) \n",
        "le_Dense = LabelEncoder()                                                                     \n",
        "labels_Dense = le_Dense.fit_transform(labels_Dense)                                         #จะแปลงชื่อ class เป็นตัวเลข 1, 2, 0 \n",
        "labels_Dense = to_categorical(labels_Dense, num_classes=2)                    \n",
        "\n",
        "aug = ImageDataGenerator( rotation_range=15,\twidth_shift_range=0.1, \theight_shift_range=0.1,\n",
        "\t\tshear_range=0.15, \thorizontal_flip=True, \tfill_mode=\"nearest\")\n",
        "                                                                                                          \n",
        "callback = EarlyStopping( monitor= \"val_accuracy\",    patience=15,       mode=\"max\")\n",
        "\n",
        "# checkpoint = ModelCheckpoint(filepath, monitor='val_accuracy', verbose=1,   save_best_only=True, mode='max')\n",
        "                                                                                                            ##\n",
        "reduce_lr = ReduceLROnPlateau(monitor='val_accuracy', factor=0.5,   patience=6,     verbose=1, mode='max', min_lr=0.00001)"
      ],
      "metadata": {
        "outputId": "3f52f262-ffd4-40ae-8af3-bc174b331ad7",
        "colab": {
          "base_uri": "https://localhost:8080/"
        },
        "id": "OpMvis9tEk4r"
      },
      "execution_count": null,
      "outputs": [
        {
          "output_type": "stream",
          "name": "stderr",
          "text": [
            "100%|██████████| 451/451 [02:08<00:00,  3.50it/s]\n"
          ]
        }
      ]
    },
    {
      "cell_type": "code",
      "source": [
        "base_model_Dense = tf.keras.applications.DenseNet201(input_shape=(224, 224, 3), include_top=False, weights=\"imagenet\")\n",
        "base_model_Dense.trainable=False\n",
        "#Add custom head\n",
        "average_pooling_layer = tf.keras.layers.GlobalAveragePooling2D()(base_model_Dense.output)\n",
        "prediction_layer = tf.keras.layers.Dense(units=2, activation=\"sigmoid\")(average_pooling_layer)   # unit 2\n",
        "model_Dense = tf.keras.models.Model(inputs=base_model_Dense.input, outputs=prediction_layer)\n",
        "model_Dense.compile(optimizer=SGD(learning_rate=0.0001), loss=\"binary_crossentropy\", metrics=[\"accuracy\"])\n",
        "\n",
        "### K-fold\n",
        "kf = KFold(5, shuffle=True, random_state=40) \n",
        "\n",
        "oos_y = []\n",
        "oos_pred = []\n",
        "fold = 0\n",
        "\n",
        "for train, test in kf.split(data_Dense):\n",
        "    fold+=1\n",
        "    print(f\"Fold #{fold}\")\n",
        "\n",
        "    filename = f\" {filepath}{fold}.h5 \"\n",
        "    checkpoint = ModelCheckpoint(filename, monitor='val_accuracy', verbose=1,   save_best_only=True, mode='max')\n",
        "\n",
        "    x_train_Dense = data_Dense[train]\n",
        "    y_train_Dense = labels_Dense[train]\n",
        "    x_test_Dense = data_Dense[test]\n",
        "    y_test_Dense = labels_Dense[test]\n",
        "\n",
        "    H_Dense = model_Dense.fit( x=aug.flow(x_train_Dense, y_train_Dense, batch_size=BS),\n",
        "\t                                            validation_data=(x_test_Dense, y_test_Dense),\n",
        "\t                                            steps_per_epoch=len(x_train_Dense) // BS,\n",
        "\t                                            epochs=30,  callbacks = [callback,checkpoint,reduce_lr])\n",
        "    \n",
        "    pred_Dense = model_Dense.predict(x_test_Dense)\n",
        "    \n",
        "    oos_y.append(y_test_Dense)\n",
        "    oos_pred.append(pred_Dense)  \n",
        "    print(classification_report(y_test_Dense.argmax(axis=1),\t                #แสดง report ค่า acc, recall, ...\n",
        "                                        pred_Dense.argmax(axis=1),  \n",
        "                                        target_names=le_Dense.classes_))   \n",
        "    \n",
        "oos_y = np.concatenate(oos_y)\n",
        "oos_pred = np.concatenate(oos_pred)\n",
        "print(classification_report(oos_y.argmax(axis=1), oos_pred.argmax(axis=1),  target_names=le_Dense.classes_))"
      ],
      "metadata": {
        "id": "DWeGhpByEk4r"
      },
      "execution_count": null,
      "outputs": []
    },
    {
      "cell_type": "markdown",
      "source": [
        "### 16"
      ],
      "metadata": {
        "id": "zGqnqOK0Ecr8"
      }
    },
    {
      "cell_type": "markdown",
      "source": [
        "#### 16  sig pre bi\n",
        "--> "
      ],
      "metadata": {
        "id": "LoFGDV27Ecr9"
      }
    },
    {
      "cell_type": "code",
      "source": [
        "BS = 16\n",
        "filepath = \"Kmodel16_sig_pre_bi\"                  ##\n",
        "\n",
        "train_img_Dense = []\n",
        "for ImageName in tqdm(data_train3['ImageName']):               # รัน ชื่อรูป ในไฟล์ data_test3\n",
        "    image_path = All_3class_dir +'/' + ImageName                   # ดึงรูปในโฟล์เดอร์มาทีละรูป\n",
        "    img = cv2.imread(image_path)                                            # อ่านรูป\n",
        "    img = cv2.resize(img, (224, 224))                                       #ขนาดของ input\n",
        "    train_img_Dense.append(img)\n",
        "data_Dense = np.array(train_img_Dense, dtype=\"float32\") / 255.0\n",
        "\n",
        "labels_Dense = np.array(data_train3[['NameType']] )        \n",
        "labels_Dense.shape = (len(labels_Dense),) \n",
        "le_Dense = LabelEncoder()                                                                     \n",
        "labels_Dense = le_Dense.fit_transform(labels_Dense)                                         #จะแปลงชื่อ class เป็นตัวเลข 1, 2, 0 \n",
        "labels_Dense = to_categorical(labels_Dense, num_classes=2)                    \n",
        "\n",
        "aug = ImageDataGenerator( rotation_range=15,\twidth_shift_range=0.1, \theight_shift_range=0.1,\n",
        "\t\tshear_range=0.15, \thorizontal_flip=True, \tfill_mode=\"nearest\")\n",
        "                                                                                                          \n",
        "callback = EarlyStopping( monitor= \"val_accuracy\",    patience=15,       mode=\"max\")\n",
        "\n",
        "# checkpoint = ModelCheckpoint(filepath, monitor='val_accuracy', verbose=1,   save_best_only=True, mode='max')\n",
        "                                                                                                            ##\n",
        "reduce_lr = ReduceLROnPlateau(monitor='val_accuracy', factor=0.5,   patience=6,     verbose=1, mode='max', min_lr=0.00001)"
      ],
      "metadata": {
        "outputId": "8741a3e8-2d19-43a6-8086-241819a23a7f",
        "colab": {
          "base_uri": "https://localhost:8080/"
        },
        "id": "c6Ik94PzEcr9"
      },
      "execution_count": null,
      "outputs": [
        {
          "output_type": "stream",
          "name": "stderr",
          "text": [
            "100%|██████████| 451/451 [00:10<00:00, 44.85it/s]\n"
          ]
        }
      ]
    },
    {
      "cell_type": "code",
      "source": [
        "base_model_Dense = tf.keras.applications.DenseNet201(input_shape=(224, 224, 3), include_top=False, weights=\"imagenet\")\n",
        "base_model_Dense.trainable=False\n",
        "#Add custom head\n",
        "average_pooling_layer = tf.keras.layers.GlobalAveragePooling2D()(base_model_Dense.output)\n",
        "prediction_layer = tf.keras.layers.Dense(units=2, activation=\"sigmoid\")(average_pooling_layer)   # unit 2\n",
        "model_Dense = tf.keras.models.Model(inputs=base_model_Dense.input, outputs=prediction_layer)\n",
        "model_Dense.compile(optimizer=tf.keras.optimizers.RMSprop(learning_rate=0.0001), loss=\"binary_crossentropy\", metrics=[\"accuracy\"])\n",
        "\n",
        "### K-fold\n",
        "kf = KFold(5, shuffle=True, random_state=40) \n",
        "\n",
        "oos_y = []\n",
        "oos_pred = []\n",
        "fold = 0\n",
        "\n",
        "for train, test in kf.split(data_Dense):\n",
        "    fold+=1\n",
        "    print(f\"Fold #{fold}\")\n",
        "\n",
        "    filename = f\" {filepath}{fold}.h5 \"\n",
        "    checkpoint = ModelCheckpoint(filename, monitor='val_accuracy', verbose=1,   save_best_only=True, mode='max')\n",
        "\n",
        "    x_train_Dense = data_Dense[train]\n",
        "    y_train_Dense = labels_Dense[train]\n",
        "    x_test_Dense = data_Dense[test]\n",
        "    y_test_Dense = labels_Dense[test]\n",
        "\n",
        "    H_Dense = model_Dense.fit( x=aug.flow(x_train_Dense, y_train_Dense, batch_size=BS),\n",
        "\t                                            validation_data=(x_test_Dense, y_test_Dense),\n",
        "\t                                            steps_per_epoch=len(x_train_Dense) // BS,\n",
        "\t                                            epochs=30,  callbacks = [callback,checkpoint,reduce_lr])\n",
        "    \n",
        "    pred_Dense = model_Dense.predict(x_test_Dense)\n",
        "    \n",
        "    oos_y.append(y_test_Dense)\n",
        "    oos_pred.append(pred_Dense)  \n",
        "    print(classification_report(y_test_Dense.argmax(axis=1),\t                #แสดง report ค่า acc, recall, ...\n",
        "                                        pred_Dense.argmax(axis=1),  \n",
        "                                        target_names=le_Dense.classes_))   \n",
        "    \n",
        "oos_y = np.concatenate(oos_y)\n",
        "oos_pred = np.concatenate(oos_pred)\n",
        "print(classification_report(oos_y.argmax(axis=1), oos_pred.argmax(axis=1),  target_names=le_Dense.classes_))"
      ],
      "metadata": {
        "id": "BuToUSvaEcr9"
      },
      "execution_count": null,
      "outputs": []
    },
    {
      "cell_type": "markdown",
      "source": [
        "#### 16 sig pre bi adam\n",
        "--> "
      ],
      "metadata": {
        "id": "ccCyJaIHEcr-"
      }
    },
    {
      "cell_type": "code",
      "source": [
        "BS = 16\n",
        "filepath = \"Kmodel16_sig_pre_bi_adam\"                  ##\n",
        "\n",
        "train_img_Dense = []\n",
        "for ImageName in tqdm(data_train3['ImageName']):               # รัน ชื่อรูป ในไฟล์ data_test3\n",
        "    image_path = All_3class_dir +'/' + ImageName                   # ดึงรูปในโฟล์เดอร์มาทีละรูป\n",
        "    img = cv2.imread(image_path)                                            # อ่านรูป\n",
        "    img = cv2.resize(img, (224, 224))                                       #ขนาดของ input\n",
        "    train_img_Dense.append(img)\n",
        "data_Dense = np.array(train_img_Dense, dtype=\"float32\") / 255.0\n",
        "\n",
        "labels_Dense = np.array(data_train3[['NameType']] )        \n",
        "labels_Dense.shape = (len(labels_Dense),) \n",
        "le_Dense = LabelEncoder()                                                                     \n",
        "labels_Dense = le_Dense.fit_transform(labels_Dense)                                         #จะแปลงชื่อ class เป็นตัวเลข 1, 2, 0 \n",
        "labels_Dense = to_categorical(labels_Dense, num_classes=2)                    \n",
        "\n",
        "aug = ImageDataGenerator( rotation_range=15,\twidth_shift_range=0.1, \theight_shift_range=0.1,\n",
        "\t\tshear_range=0.15, \thorizontal_flip=True, \tfill_mode=\"nearest\")\n",
        "                                                                                                          \n",
        "callback = EarlyStopping( monitor= \"val_accuracy\",    patience=15,       mode=\"max\")\n",
        "\n",
        "# checkpoint = ModelCheckpoint(filepath, monitor='val_accuracy', verbose=1,   save_best_only=True, mode='max')\n",
        "                                                                                                            ##\n",
        "reduce_lr = ReduceLROnPlateau(monitor='val_accuracy', factor=0.5,   patience=6,     verbose=1, mode='max', min_lr=0.00001)"
      ],
      "metadata": {
        "outputId": "3f52f262-ffd4-40ae-8af3-bc174b331ad7",
        "colab": {
          "base_uri": "https://localhost:8080/"
        },
        "id": "z-X1oLpbEcr-"
      },
      "execution_count": null,
      "outputs": [
        {
          "output_type": "stream",
          "name": "stderr",
          "text": [
            "100%|██████████| 451/451 [02:08<00:00,  3.50it/s]\n"
          ]
        }
      ]
    },
    {
      "cell_type": "code",
      "source": [
        "base_model_Dense = tf.keras.applications.DenseNet201(input_shape=(224, 224, 3), include_top=False, weights=\"imagenet\")\n",
        "base_model_Dense.trainable=False\n",
        "#Add custom head\n",
        "average_pooling_layer = tf.keras.layers.GlobalAveragePooling2D()(base_model_Dense.output)\n",
        "prediction_layer = tf.keras.layers.Dense(units=2, activation=\"sigmoid\")(average_pooling_layer)   # unit 2\n",
        "model_Dense = tf.keras.models.Model(inputs=base_model_Dense.input, outputs=prediction_layer)\n",
        "model_Dense.compile(optimizer=Adam(learning_rate=0.0001), loss=\"binary_crossentropy\", metrics=[\"accuracy\"])\n",
        "\n",
        "### K-fold\n",
        "kf = KFold(5, shuffle=True, random_state=40) \n",
        "\n",
        "oos_y = []\n",
        "oos_pred = []\n",
        "fold = 0\n",
        "\n",
        "for train, test in kf.split(data_Dense):\n",
        "    fold+=1\n",
        "    print(f\"Fold #{fold}\")\n",
        "\n",
        "    filename = f\" {filepath}{fold}.h5 \"\n",
        "    checkpoint = ModelCheckpoint(filename, monitor='val_accuracy', verbose=1,   save_best_only=True, mode='max')\n",
        "\n",
        "    x_train_Dense = data_Dense[train]\n",
        "    y_train_Dense = labels_Dense[train]\n",
        "    x_test_Dense = data_Dense[test]\n",
        "    y_test_Dense = labels_Dense[test]\n",
        "\n",
        "    H_Dense = model_Dense.fit( x=aug.flow(x_train_Dense, y_train_Dense, batch_size=BS),\n",
        "\t                                            validation_data=(x_test_Dense, y_test_Dense),\n",
        "\t                                            steps_per_epoch=len(x_train_Dense) // BS,\n",
        "\t                                            epochs=30,  callbacks = [callback,checkpoint,reduce_lr])\n",
        "    \n",
        "    pred_Dense = model_Dense.predict(x_test_Dense)\n",
        "    \n",
        "    oos_y.append(y_test_Dense)\n",
        "    oos_pred.append(pred_Dense)  \n",
        "    print(classification_report(y_test_Dense.argmax(axis=1),\t                #แสดง report ค่า acc, recall, ...\n",
        "                                        pred_Dense.argmax(axis=1),  \n",
        "                                        target_names=le_Dense.classes_))   \n",
        "    \n",
        "oos_y = np.concatenate(oos_y)\n",
        "oos_pred = np.concatenate(oos_pred)\n",
        "print(classification_report(oos_y.argmax(axis=1), oos_pred.argmax(axis=1),  target_names=le_Dense.classes_))"
      ],
      "metadata": {
        "id": "TNnxQQgtEcr-"
      },
      "execution_count": null,
      "outputs": []
    },
    {
      "cell_type": "markdown",
      "source": [
        "#### 16 sig pre bi sgd\n",
        "--> "
      ],
      "metadata": {
        "id": "OsDdrmK9Ecr_"
      }
    },
    {
      "cell_type": "code",
      "source": [
        "BS = 16\n",
        "filepath = \"Kmodel16_sig_pre_bi_sgd\"                  ##\n",
        "\n",
        "train_img_Dense = []\n",
        "for ImageName in tqdm(data_train3['ImageName']):               # รัน ชื่อรูป ในไฟล์ data_test3\n",
        "    image_path = All_3class_dir +'/' + ImageName                   # ดึงรูปในโฟล์เดอร์มาทีละรูป\n",
        "    img = cv2.imread(image_path)                                            # อ่านรูป\n",
        "    img = cv2.resize(img, (224, 224))                                       #ขนาดของ input\n",
        "    train_img_Dense.append(img)\n",
        "data_Dense = np.array(train_img_Dense, dtype=\"float32\") / 255.0\n",
        "\n",
        "labels_Dense = np.array(data_train3[['NameType']] )        \n",
        "labels_Dense.shape = (len(labels_Dense),) \n",
        "le_Dense = LabelEncoder()                                                                     \n",
        "labels_Dense = le_Dense.fit_transform(labels_Dense)                                         #จะแปลงชื่อ class เป็นตัวเลข 1, 2, 0 \n",
        "labels_Dense = to_categorical(labels_Dense, num_classes=2)                    \n",
        "\n",
        "aug = ImageDataGenerator( rotation_range=15,\twidth_shift_range=0.1, \theight_shift_range=0.1,\n",
        "\t\tshear_range=0.15, \thorizontal_flip=True, \tfill_mode=\"nearest\")\n",
        "                                                                                                          \n",
        "callback = EarlyStopping( monitor= \"val_accuracy\",    patience=15,       mode=\"max\")\n",
        "\n",
        "# checkpoint = ModelCheckpoint(filepath, monitor='val_accuracy', verbose=1,   save_best_only=True, mode='max')\n",
        "                                                                                                            ##\n",
        "reduce_lr = ReduceLROnPlateau(monitor='val_accuracy', factor=0.5,   patience=6,     verbose=1, mode='max', min_lr=0.00001)"
      ],
      "metadata": {
        "outputId": "3f52f262-ffd4-40ae-8af3-bc174b331ad7",
        "colab": {
          "base_uri": "https://localhost:8080/"
        },
        "id": "8UUjQ6bXEcr_"
      },
      "execution_count": null,
      "outputs": [
        {
          "output_type": "stream",
          "name": "stderr",
          "text": [
            "100%|██████████| 451/451 [02:08<00:00,  3.50it/s]\n"
          ]
        }
      ]
    },
    {
      "cell_type": "code",
      "source": [
        "base_model_Dense = tf.keras.applications.DenseNet201(input_shape=(224, 224, 3), include_top=False, weights=\"imagenet\")\n",
        "base_model_Dense.trainable=False\n",
        "#Add custom head\n",
        "average_pooling_layer = tf.keras.layers.GlobalAveragePooling2D()(base_model_Dense.output)\n",
        "prediction_layer = tf.keras.layers.Dense(units=2, activation=\"sigmoid\")(average_pooling_layer)   # unit 2\n",
        "model_Dense = tf.keras.models.Model(inputs=base_model_Dense.input, outputs=prediction_layer)\n",
        "model_Dense.compile(optimizer=SGD(learning_rate=0.0001), loss=\"binary_crossentropy\", metrics=[\"accuracy\"])\n",
        "\n",
        "### K-fold\n",
        "kf = KFold(5, shuffle=True, random_state=40) \n",
        "\n",
        "oos_y = []\n",
        "oos_pred = []\n",
        "fold = 0\n",
        "\n",
        "for train, test in kf.split(data_Dense):\n",
        "    fold+=1\n",
        "    print(f\"Fold #{fold}\")\n",
        "\n",
        "    filename = f\" {filepath}{fold}.h5 \"\n",
        "    checkpoint = ModelCheckpoint(filename, monitor='val_accuracy', verbose=1,   save_best_only=True, mode='max')\n",
        "\n",
        "    x_train_Dense = data_Dense[train]\n",
        "    y_train_Dense = labels_Dense[train]\n",
        "    x_test_Dense = data_Dense[test]\n",
        "    y_test_Dense = labels_Dense[test]\n",
        "\n",
        "    H_Dense = model_Dense.fit( x=aug.flow(x_train_Dense, y_train_Dense, batch_size=BS),\n",
        "\t                                            validation_data=(x_test_Dense, y_test_Dense),\n",
        "\t                                            steps_per_epoch=len(x_train_Dense) // BS,\n",
        "\t                                            epochs=30,  callbacks = [callback,checkpoint,reduce_lr])\n",
        "    \n",
        "    pred_Dense = model_Dense.predict(x_test_Dense)\n",
        "    \n",
        "    oos_y.append(y_test_Dense)\n",
        "    oos_pred.append(pred_Dense)  \n",
        "    print(classification_report(y_test_Dense.argmax(axis=1),\t                #แสดง report ค่า acc, recall, ...\n",
        "                                        pred_Dense.argmax(axis=1),  \n",
        "                                        target_names=le_Dense.classes_))   \n",
        "    \n",
        "oos_y = np.concatenate(oos_y)\n",
        "oos_pred = np.concatenate(oos_pred)\n",
        "print(classification_report(oos_y.argmax(axis=1), oos_pred.argmax(axis=1),  target_names=le_Dense.classes_))"
      ],
      "metadata": {
        "id": "FOwMcYt_EcsA"
      },
      "execution_count": null,
      "outputs": []
    },
    {
      "cell_type": "markdown",
      "source": [
        "### 32"
      ],
      "metadata": {
        "id": "tigQc_laE4lG"
      }
    },
    {
      "cell_type": "markdown",
      "source": [
        "#### 32  sig pre bi\n",
        "--> "
      ],
      "metadata": {
        "id": "VqWiCtdVE4lG"
      }
    },
    {
      "cell_type": "code",
      "source": [
        "BS = 32\n",
        "filepath = \"Kmodel32_sig_pre_bi\"                  ##\n",
        "\n",
        "train_img_Dense = []\n",
        "for ImageName in tqdm(data_train3['ImageName']):               # รัน ชื่อรูป ในไฟล์ data_test3\n",
        "    image_path = All_3class_dir +'/' + ImageName                   # ดึงรูปในโฟล์เดอร์มาทีละรูป\n",
        "    img = cv2.imread(image_path)                                            # อ่านรูป\n",
        "    img = cv2.resize(img, (224, 224))                                       #ขนาดของ input\n",
        "    train_img_Dense.append(img)\n",
        "data_Dense = np.array(train_img_Dense, dtype=\"float32\") / 255.0\n",
        "\n",
        "labels_Dense = np.array(data_train3[['NameType']] )        \n",
        "labels_Dense.shape = (len(labels_Dense),) \n",
        "le_Dense = LabelEncoder()                                                                     \n",
        "labels_Dense = le_Dense.fit_transform(labels_Dense)                                         #จะแปลงชื่อ class เป็นตัวเลข 1, 2, 0 \n",
        "labels_Dense = to_categorical(labels_Dense, num_classes=2)                    \n",
        "\n",
        "aug = ImageDataGenerator( rotation_range=15,\twidth_shift_range=0.1, \theight_shift_range=0.1,\n",
        "\t\tshear_range=0.15, \thorizontal_flip=True, \tfill_mode=\"nearest\")\n",
        "                                                                                                          \n",
        "callback = EarlyStopping( monitor= \"val_accuracy\",    patience=15,       mode=\"max\")\n",
        "\n",
        "# checkpoint = ModelCheckpoint(filepath, monitor='val_accuracy', verbose=1,   save_best_only=True, mode='max')\n",
        "                                                                                                            ##\n",
        "reduce_lr = ReduceLROnPlateau(monitor='val_accuracy', factor=0.5,   patience=6,     verbose=1, mode='max', min_lr=0.00001)"
      ],
      "metadata": {
        "outputId": "8741a3e8-2d19-43a6-8086-241819a23a7f",
        "colab": {
          "base_uri": "https://localhost:8080/"
        },
        "id": "rHJCvtVSE4lH"
      },
      "execution_count": null,
      "outputs": [
        {
          "output_type": "stream",
          "name": "stderr",
          "text": [
            "100%|██████████| 451/451 [00:10<00:00, 44.85it/s]\n"
          ]
        }
      ]
    },
    {
      "cell_type": "code",
      "source": [
        "base_model_Dense = tf.keras.applications.DenseNet201(input_shape=(224, 224, 3), include_top=False, weights=\"imagenet\")\n",
        "base_model_Dense.trainable=False\n",
        "#Add custom head\n",
        "average_pooling_layer = tf.keras.layers.GlobalAveragePooling2D()(base_model_Dense.output)\n",
        "prediction_layer = tf.keras.layers.Dense(units=2, activation=\"sigmoid\")(average_pooling_layer)   # unit 2\n",
        "model_Dense = tf.keras.models.Model(inputs=base_model_Dense.input, outputs=prediction_layer)\n",
        "model_Dense.compile(optimizer=tf.keras.optimizers.RMSprop(learning_rate=0.0001), loss=\"binary_crossentropy\", metrics=[\"accuracy\"])\n",
        "\n",
        "### K-fold\n",
        "kf = KFold(5, shuffle=True, random_state=40) \n",
        "\n",
        "oos_y = []\n",
        "oos_pred = []\n",
        "fold = 0\n",
        "\n",
        "for train, test in kf.split(data_Dense):\n",
        "    fold+=1\n",
        "    print(f\"Fold #{fold}\")\n",
        "\n",
        "    filename = f\" {filepath}{fold}.h5 \"\n",
        "    checkpoint = ModelCheckpoint(filename, monitor='val_accuracy', verbose=1,   save_best_only=True, mode='max')\n",
        "\n",
        "    x_train_Dense = data_Dense[train]\n",
        "    y_train_Dense = labels_Dense[train]\n",
        "    x_test_Dense = data_Dense[test]\n",
        "    y_test_Dense = labels_Dense[test]\n",
        "\n",
        "    H_Dense = model_Dense.fit( x=aug.flow(x_train_Dense, y_train_Dense, batch_size=BS),\n",
        "\t                                            validation_data=(x_test_Dense, y_test_Dense),\n",
        "\t                                            steps_per_epoch=len(x_train_Dense) // BS,\n",
        "\t                                            epochs=30,  callbacks = [callback,checkpoint,reduce_lr])\n",
        "    \n",
        "    pred_Dense = model_Dense.predict(x_test_Dense)\n",
        "    \n",
        "    oos_y.append(y_test_Dense)\n",
        "    oos_pred.append(pred_Dense)  \n",
        "    print(classification_report(y_test_Dense.argmax(axis=1),\t                #แสดง report ค่า acc, recall, ...\n",
        "                                        pred_Dense.argmax(axis=1),  \n",
        "                                        target_names=le_Dense.classes_))   \n",
        "    \n",
        "oos_y = np.concatenate(oos_y)\n",
        "oos_pred = np.concatenate(oos_pred)\n",
        "print(classification_report(oos_y.argmax(axis=1), oos_pred.argmax(axis=1),  target_names=le_Dense.classes_))"
      ],
      "metadata": {
        "id": "iNQ5bE60E4lH"
      },
      "execution_count": null,
      "outputs": []
    },
    {
      "cell_type": "markdown",
      "source": [
        "#### 32 sig pre bi adam\n",
        "--> "
      ],
      "metadata": {
        "id": "iQE3FhXME4lI"
      }
    },
    {
      "cell_type": "code",
      "source": [
        "BS = 32\n",
        "filepath = \"Kmodel32_sig_pre_bi_adam\"                  ##\n",
        "\n",
        "train_img_Dense = []\n",
        "for ImageName in tqdm(data_train3['ImageName']):               # รัน ชื่อรูป ในไฟล์ data_test3\n",
        "    image_path = All_3class_dir +'/' + ImageName                   # ดึงรูปในโฟล์เดอร์มาทีละรูป\n",
        "    img = cv2.imread(image_path)                                            # อ่านรูป\n",
        "    img = cv2.resize(img, (224, 224))                                       #ขนาดของ input\n",
        "    train_img_Dense.append(img)\n",
        "data_Dense = np.array(train_img_Dense, dtype=\"float32\") / 255.0\n",
        "\n",
        "labels_Dense = np.array(data_train3[['NameType']] )        \n",
        "labels_Dense.shape = (len(labels_Dense),) \n",
        "le_Dense = LabelEncoder()                                                                     \n",
        "labels_Dense = le_Dense.fit_transform(labels_Dense)                                         #จะแปลงชื่อ class เป็นตัวเลข 1, 2, 0 \n",
        "labels_Dense = to_categorical(labels_Dense, num_classes=2)                    \n",
        "\n",
        "aug = ImageDataGenerator( rotation_range=15,\twidth_shift_range=0.1, \theight_shift_range=0.1,\n",
        "\t\tshear_range=0.15, \thorizontal_flip=True, \tfill_mode=\"nearest\")\n",
        "                                                                                                          \n",
        "callback = EarlyStopping( monitor= \"val_accuracy\",    patience=15,       mode=\"max\")\n",
        "\n",
        "# checkpoint = ModelCheckpoint(filepath, monitor='val_accuracy', verbose=1,   save_best_only=True, mode='max')\n",
        "                                                                                                            ##\n",
        "reduce_lr = ReduceLROnPlateau(monitor='val_accuracy', factor=0.5,   patience=6,     verbose=1, mode='max', min_lr=0.00001)"
      ],
      "metadata": {
        "outputId": "3f52f262-ffd4-40ae-8af3-bc174b331ad7",
        "colab": {
          "base_uri": "https://localhost:8080/"
        },
        "id": "9hBvFZ2GE4lJ"
      },
      "execution_count": null,
      "outputs": [
        {
          "output_type": "stream",
          "name": "stderr",
          "text": [
            "100%|██████████| 451/451 [02:08<00:00,  3.50it/s]\n"
          ]
        }
      ]
    },
    {
      "cell_type": "code",
      "source": [
        "base_model_Dense = tf.keras.applications.DenseNet201(input_shape=(224, 224, 3), include_top=False, weights=\"imagenet\")\n",
        "base_model_Dense.trainable=False\n",
        "#Add custom head\n",
        "average_pooling_layer = tf.keras.layers.GlobalAveragePooling2D()(base_model_Dense.output)\n",
        "prediction_layer = tf.keras.layers.Dense(units=2, activation=\"sigmoid\")(average_pooling_layer)   # unit 2\n",
        "model_Dense = tf.keras.models.Model(inputs=base_model_Dense.input, outputs=prediction_layer)\n",
        "model_Dense.compile(optimizer=Adam(learning_rate=0.0001), loss=\"binary_crossentropy\", metrics=[\"accuracy\"])\n",
        "\n",
        "### K-fold\n",
        "kf = KFold(5, shuffle=True, random_state=40) \n",
        "\n",
        "oos_y = []\n",
        "oos_pred = []\n",
        "fold = 0\n",
        "\n",
        "for train, test in kf.split(data_Dense):\n",
        "    fold+=1\n",
        "    print(f\"Fold #{fold}\")\n",
        "\n",
        "    filename = f\" {filepath}{fold}.h5 \"\n",
        "    checkpoint = ModelCheckpoint(filename, monitor='val_accuracy', verbose=1,   save_best_only=True, mode='max')\n",
        "\n",
        "    x_train_Dense = data_Dense[train]\n",
        "    y_train_Dense = labels_Dense[train]\n",
        "    x_test_Dense = data_Dense[test]\n",
        "    y_test_Dense = labels_Dense[test]\n",
        "\n",
        "    H_Dense = model_Dense.fit( x=aug.flow(x_train_Dense, y_train_Dense, batch_size=BS),\n",
        "\t                                            validation_data=(x_test_Dense, y_test_Dense),\n",
        "\t                                            steps_per_epoch=len(x_train_Dense) // BS,\n",
        "\t                                            epochs=30,  callbacks = [callback,checkpoint,reduce_lr])\n",
        "    \n",
        "    pred_Dense = model_Dense.predict(x_test_Dense)\n",
        "    \n",
        "    oos_y.append(y_test_Dense)\n",
        "    oos_pred.append(pred_Dense)  \n",
        "    print(classification_report(y_test_Dense.argmax(axis=1),\t                #แสดง report ค่า acc, recall, ...\n",
        "                                        pred_Dense.argmax(axis=1),  \n",
        "                                        target_names=le_Dense.classes_))   \n",
        "    \n",
        "oos_y = np.concatenate(oos_y)\n",
        "oos_pred = np.concatenate(oos_pred)\n",
        "print(classification_report(oos_y.argmax(axis=1), oos_pred.argmax(axis=1),  target_names=le_Dense.classes_))"
      ],
      "metadata": {
        "id": "gtBuL48iE4lJ"
      },
      "execution_count": null,
      "outputs": []
    },
    {
      "cell_type": "markdown",
      "source": [
        "#### 32 sig pre bi sgd\n",
        "--> "
      ],
      "metadata": {
        "id": "k_TJvspPE4lK"
      }
    },
    {
      "cell_type": "code",
      "source": [
        "BS = 32\n",
        "filepath = \"Kmodel32_sig_pre_bi_sgd\"                  ##\n",
        "\n",
        "train_img_Dense = []\n",
        "for ImageName in tqdm(data_train3['ImageName']):               # รัน ชื่อรูป ในไฟล์ data_test3\n",
        "    image_path = All_3class_dir +'/' + ImageName                   # ดึงรูปในโฟล์เดอร์มาทีละรูป\n",
        "    img = cv2.imread(image_path)                                            # อ่านรูป\n",
        "    img = cv2.resize(img, (224, 224))                                       #ขนาดของ input\n",
        "    train_img_Dense.append(img)\n",
        "data_Dense = np.array(train_img_Dense, dtype=\"float32\") / 255.0\n",
        "\n",
        "labels_Dense = np.array(data_train3[['NameType']] )        \n",
        "labels_Dense.shape = (len(labels_Dense),) \n",
        "le_Dense = LabelEncoder()                                                                     \n",
        "labels_Dense = le_Dense.fit_transform(labels_Dense)                                         #จะแปลงชื่อ class เป็นตัวเลข 1, 2, 0 \n",
        "labels_Dense = to_categorical(labels_Dense, num_classes=2)                    \n",
        "\n",
        "aug = ImageDataGenerator( rotation_range=15,\twidth_shift_range=0.1, \theight_shift_range=0.1,\n",
        "\t\tshear_range=0.15, \thorizontal_flip=True, \tfill_mode=\"nearest\")\n",
        "                                                                                                          \n",
        "callback = EarlyStopping( monitor= \"val_accuracy\",    patience=15,       mode=\"max\")\n",
        "\n",
        "# checkpoint = ModelCheckpoint(filepath, monitor='val_accuracy', verbose=1,   save_best_only=True, mode='max')\n",
        "                                                                                                            ##\n",
        "reduce_lr = ReduceLROnPlateau(monitor='val_accuracy', factor=0.5,   patience=6,     verbose=1, mode='max', min_lr=0.00001)"
      ],
      "metadata": {
        "outputId": "3f52f262-ffd4-40ae-8af3-bc174b331ad7",
        "colab": {
          "base_uri": "https://localhost:8080/"
        },
        "id": "YrCZ7LPqE4lK"
      },
      "execution_count": null,
      "outputs": [
        {
          "output_type": "stream",
          "name": "stderr",
          "text": [
            "100%|██████████| 451/451 [02:08<00:00,  3.50it/s]\n"
          ]
        }
      ]
    },
    {
      "cell_type": "code",
      "source": [
        "base_model_Dense = tf.keras.applications.DenseNet201(input_shape=(224, 224, 3), include_top=False, weights=\"imagenet\")\n",
        "base_model_Dense.trainable=False\n",
        "#Add custom head\n",
        "average_pooling_layer = tf.keras.layers.GlobalAveragePooling2D()(base_model_Dense.output)\n",
        "prediction_layer = tf.keras.layers.Dense(units=2, activation=\"sigmoid\")(average_pooling_layer)   # unit 2\n",
        "model_Dense = tf.keras.models.Model(inputs=base_model_Dense.input, outputs=prediction_layer)\n",
        "model_Dense.compile(optimizer=SGD(learning_rate=0.0001), loss=\"binary_crossentropy\", metrics=[\"accuracy\"])\n",
        "\n",
        "### K-fold\n",
        "kf = KFold(5, shuffle=True, random_state=40) \n",
        "\n",
        "oos_y = []\n",
        "oos_pred = []\n",
        "fold = 0\n",
        "\n",
        "for train, test in kf.split(data_Dense):\n",
        "    fold+=1\n",
        "    print(f\"Fold #{fold}\")\n",
        "\n",
        "    filename = f\" {filepath}{fold}.h5 \"\n",
        "    checkpoint = ModelCheckpoint(filename, monitor='val_accuracy', verbose=1,   save_best_only=True, mode='max')\n",
        "\n",
        "    x_train_Dense = data_Dense[train]\n",
        "    y_train_Dense = labels_Dense[train]\n",
        "    x_test_Dense = data_Dense[test]\n",
        "    y_test_Dense = labels_Dense[test]\n",
        "\n",
        "    H_Dense = model_Dense.fit( x=aug.flow(x_train_Dense, y_train_Dense, batch_size=BS),\n",
        "\t                                            validation_data=(x_test_Dense, y_test_Dense),\n",
        "\t                                            steps_per_epoch=len(x_train_Dense) // BS,\n",
        "\t                                            epochs=30,  callbacks = [callback,checkpoint,reduce_lr])\n",
        "    \n",
        "    pred_Dense = model_Dense.predict(x_test_Dense)\n",
        "    \n",
        "    oos_y.append(y_test_Dense)\n",
        "    oos_pred.append(pred_Dense)  \n",
        "    print(classification_report(y_test_Dense.argmax(axis=1),\t                #แสดง report ค่า acc, recall, ...\n",
        "                                        pred_Dense.argmax(axis=1),  \n",
        "                                        target_names=le_Dense.classes_))   \n",
        "    \n",
        "oos_y = np.concatenate(oos_y)\n",
        "oos_pred = np.concatenate(oos_pred)\n",
        "print(classification_report(oos_y.argmax(axis=1), oos_pred.argmax(axis=1),  target_names=le_Dense.classes_))"
      ],
      "metadata": {
        "id": "8ojwANRCE4lK"
      },
      "execution_count": null,
      "outputs": []
    },
    {
      "cell_type": "markdown",
      "source": [
        "# 0-500 Sampling Ab  \n",
        "- sigmold\n",
        "- binary_crossentropy"
      ],
      "metadata": {
        "id": "Ae3OR5LDOYlB"
      }
    },
    {
      "cell_type": "markdown",
      "source": [
        "### 1"
      ],
      "metadata": {
        "id": "No5QLdH5OYlC"
      }
    },
    {
      "cell_type": "markdown",
      "source": [
        "#### 1 sig pre bi\n",
        "--> "
      ],
      "metadata": {
        "id": "MzBG6nncOYlC"
      }
    },
    {
      "cell_type": "code",
      "source": [
        "BS = 1\n",
        "filepath = \"Kmodel1_sig_pre_bi\"                  ##\n",
        "\n",
        "train_img_Dense = []\n",
        "for ImageName in tqdm(data_train3['ImageName']):               # รัน ชื่อรูป ในไฟล์ data_test3\n",
        "    image_path = All_3class_dir +'/' + ImageName                   # ดึงรูปในโฟล์เดอร์มาทีละรูป\n",
        "    img = cv2.imread(image_path)                                            # อ่านรูป\n",
        "    img = cv2.resize(img, (224, 224))                                       #ขนาดของ input\n",
        "    train_img_Dense.append(img)\n",
        "data_Dense = np.array(train_img_Dense, dtype=\"float32\") / 255.0\n",
        "\n",
        "labels_Dense = np.array(data_train3[['NameType']] )        \n",
        "labels_Dense.shape = (len(labels_Dense),) \n",
        "le_Dense = LabelEncoder()                                                                     \n",
        "labels_Dense = le_Dense.fit_transform(labels_Dense)                                         #จะแปลงชื่อ class เป็นตัวเลข 1, 2, 0 \n",
        "labels_Dense = to_categorical(labels_Dense, num_classes=2)                    \n",
        "\n",
        "aug = ImageDataGenerator( rotation_range=15,\twidth_shift_range=0.1, \theight_shift_range=0.1,\n",
        "\t\tshear_range=0.15, \thorizontal_flip=True, \tfill_mode=\"nearest\")\n",
        "                                                                                                          \n",
        "callback = EarlyStopping( monitor= \"val_accuracy\",    patience=15,       mode=\"max\")\n",
        "\n",
        "# checkpoint = ModelCheckpoint(filepath, monitor='val_accuracy', verbose=1,   save_best_only=True, mode='max')\n",
        "                                                                                                            ##\n",
        "reduce_lr = ReduceLROnPlateau(monitor='val_accuracy', factor=0.5,   patience=6,     verbose=1, mode='max', min_lr=0.00001)"
      ],
      "metadata": {
        "outputId": "8741a3e8-2d19-43a6-8086-241819a23a7f",
        "colab": {
          "base_uri": "https://localhost:8080/"
        },
        "id": "7RRh10mlOYlD"
      },
      "execution_count": null,
      "outputs": [
        {
          "output_type": "stream",
          "name": "stderr",
          "text": [
            "100%|██████████| 451/451 [00:10<00:00, 44.85it/s]\n"
          ]
        }
      ]
    },
    {
      "cell_type": "code",
      "source": [
        "base_model_Dense = tf.keras.applications.DenseNet201(input_shape=(224, 224, 3), include_top=False, weights=\"imagenet\")\n",
        "base_model_Dense.trainable = True\n",
        "for layer in base_model_Dense.layers[:500]:    #fix w & bias in layer 0-500\n",
        "    layer.trainable = False\n",
        "#Add custom head\n",
        "average_pooling_layer = tf.keras.layers.GlobalAveragePooling2D()(base_model_Dense.output)\n",
        "prediction_layer = tf.keras.layers.Dense(units=2, activation=\"sigmoid\")(average_pooling_layer)   # unit 2\n",
        "model_Dense = tf.keras.models.Model(inputs=base_model_Dense.input, outputs=prediction_layer)\n",
        "model_Dense.compile(optimizer=tf.keras.optimizers.RMSprop(learning_rate=0.0001), loss=\"binary_crossentropy\", metrics=[\"accuracy\"])\n",
        "\n",
        "### K-fold\n",
        "kf = KFold(5, shuffle=True, random_state=40) \n",
        "\n",
        "oos_y = []\n",
        "oos_pred = []\n",
        "fold = 0\n",
        "\n",
        "for train, test in kf.split(data_Dense):\n",
        "    fold+=1\n",
        "    print(f\"Fold #{fold}\")\n",
        "\n",
        "    filename = f\" {filepath}{fold}.h5 \"\n",
        "    checkpoint = ModelCheckpoint(filename, monitor='val_accuracy', verbose=1,   save_best_only=True, mode='max')\n",
        "\n",
        "    x_train_Dense = data_Dense[train]\n",
        "    y_train_Dense = labels_Dense[train]\n",
        "    x_test_Dense = data_Dense[test]\n",
        "    y_test_Dense = labels_Dense[test]\n",
        "\n",
        "    H_Dense = model_Dense.fit( x=aug.flow(x_train_Dense, y_train_Dense, batch_size=BS),\n",
        "\t                                            validation_data=(x_test_Dense, y_test_Dense),\n",
        "\t                                            steps_per_epoch=len(x_train_Dense) // BS,\n",
        "\t                                            epochs=30,  callbacks = [callback,checkpoint,reduce_lr])\n",
        "    \n",
        "    pred_Dense = model_Dense.predict(x_test_Dense)\n",
        "    \n",
        "    oos_y.append(y_test_Dense)\n",
        "    oos_pred.append(pred_Dense)  \n",
        "    print(classification_report(y_test_Dense.argmax(axis=1),\t                #แสดง report ค่า acc, recall, ...\n",
        "                                        pred_Dense.argmax(axis=1),  \n",
        "                                        target_names=le_Dense.classes_))   \n",
        "    \n",
        "oos_y = np.concatenate(oos_y)\n",
        "oos_pred = np.concatenate(oos_pred)\n",
        "print(classification_report(oos_y.argmax(axis=1), oos_pred.argmax(axis=1),  target_names=le_Dense.classes_))"
      ],
      "metadata": {
        "id": "rFhXqQ6AOYlD"
      },
      "execution_count": null,
      "outputs": []
    },
    {
      "cell_type": "markdown",
      "source": [
        "#### 1 sig pre bi adam\n",
        "--> "
      ],
      "metadata": {
        "id": "_-0aih4SOYlE"
      }
    },
    {
      "cell_type": "code",
      "source": [
        "BS = 1\n",
        "filepath = \"Kmodel1_sig_pre_bi_adam\"                  ##\n",
        "\n",
        "train_img_Dense = []\n",
        "for ImageName in tqdm(data_train3['ImageName']):               # รัน ชื่อรูป ในไฟล์ data_test3\n",
        "    image_path = All_3class_dir +'/' + ImageName                   # ดึงรูปในโฟล์เดอร์มาทีละรูป\n",
        "    img = cv2.imread(image_path)                                            # อ่านรูป\n",
        "    img = cv2.resize(img, (224, 224))                                       #ขนาดของ input\n",
        "    train_img_Dense.append(img)\n",
        "data_Dense = np.array(train_img_Dense, dtype=\"float32\") / 255.0\n",
        "\n",
        "labels_Dense = np.array(data_train3[['NameType']] )        \n",
        "labels_Dense.shape = (len(labels_Dense),) \n",
        "le_Dense = LabelEncoder()                                                                     \n",
        "labels_Dense = le_Dense.fit_transform(labels_Dense)                                         #จะแปลงชื่อ class เป็นตัวเลข 1, 2, 0 \n",
        "labels_Dense = to_categorical(labels_Dense, num_classes=2)                    \n",
        "\n",
        "aug = ImageDataGenerator( rotation_range=15,\twidth_shift_range=0.1, \theight_shift_range=0.1,\n",
        "\t\tshear_range=0.15, \thorizontal_flip=True, \tfill_mode=\"nearest\")\n",
        "                                                                                                          \n",
        "callback = EarlyStopping( monitor= \"val_accuracy\",    patience=15,       mode=\"max\")\n",
        "\n",
        "# checkpoint = ModelCheckpoint(filepath, monitor='val_accuracy', verbose=1,   save_best_only=True, mode='max')\n",
        "                                                                                                            ##\n",
        "reduce_lr = ReduceLROnPlateau(monitor='val_accuracy', factor=0.5,   patience=6,     verbose=1, mode='max', min_lr=0.00001)"
      ],
      "metadata": {
        "outputId": "3f52f262-ffd4-40ae-8af3-bc174b331ad7",
        "colab": {
          "base_uri": "https://localhost:8080/"
        },
        "id": "v8uLc3x1OYlF"
      },
      "execution_count": null,
      "outputs": [
        {
          "output_type": "stream",
          "name": "stderr",
          "text": [
            "100%|██████████| 451/451 [02:08<00:00,  3.50it/s]\n"
          ]
        }
      ]
    },
    {
      "cell_type": "code",
      "source": [
        "base_model_Dense = tf.keras.applications.DenseNet201(input_shape=(224, 224, 3), include_top=False, weights=\"imagenet\")\n",
        "base_model_Dense.trainable = True\n",
        "for layer in base_model_Dense.layers[:500]:    #fix w & bias in layer 0-500\n",
        "    layer.trainable = False\n",
        "#Add custom head\n",
        "average_pooling_layer = tf.keras.layers.GlobalAveragePooling2D()(base_model_Dense.output)\n",
        "prediction_layer = tf.keras.layers.Dense(units=2, activation=\"sigmoid\")(average_pooling_layer)   # unit 2\n",
        "model_Dense = tf.keras.models.Model(inputs=base_model_Dense.input, outputs=prediction_layer)\n",
        "model_Dense.compile(optimizer=Adam(learning_rate=0.0001), loss=\"binary_crossentropy\", metrics=[\"accuracy\"])\n",
        "\n",
        "### K-fold\n",
        "kf = KFold(5, shuffle=True, random_state=40) \n",
        "\n",
        "oos_y = []\n",
        "oos_pred = []\n",
        "fold = 0\n",
        "\n",
        "for train, test in kf.split(data_Dense):\n",
        "    fold+=1\n",
        "    print(f\"Fold #{fold}\")\n",
        "\n",
        "    filename = f\" {filepath}{fold}.h5 \"\n",
        "    checkpoint = ModelCheckpoint(filename, monitor='val_accuracy', verbose=1,   save_best_only=True, mode='max')\n",
        "\n",
        "    x_train_Dense = data_Dense[train]\n",
        "    y_train_Dense = labels_Dense[train]\n",
        "    x_test_Dense = data_Dense[test]\n",
        "    y_test_Dense = labels_Dense[test]\n",
        "\n",
        "    H_Dense = model_Dense.fit( x=aug.flow(x_train_Dense, y_train_Dense, batch_size=BS),\n",
        "\t                                            validation_data=(x_test_Dense, y_test_Dense),\n",
        "\t                                            steps_per_epoch=len(x_train_Dense) // BS,\n",
        "\t                                            epochs=30,  callbacks = [callback,checkpoint,reduce_lr])\n",
        "    \n",
        "    pred_Dense = model_Dense.predict(x_test_Dense)\n",
        "    \n",
        "    oos_y.append(y_test_Dense)\n",
        "    oos_pred.append(pred_Dense)  \n",
        "    print(classification_report(y_test_Dense.argmax(axis=1),\t                #แสดง report ค่า acc, recall, ...\n",
        "                                        pred_Dense.argmax(axis=1),  \n",
        "                                        target_names=le_Dense.classes_))   \n",
        "    \n",
        "oos_y = np.concatenate(oos_y)\n",
        "oos_pred = np.concatenate(oos_pred)\n",
        "print(classification_report(oos_y.argmax(axis=1), oos_pred.argmax(axis=1),  target_names=le_Dense.classes_))"
      ],
      "metadata": {
        "id": "2Fbz5nHoOYlF"
      },
      "execution_count": null,
      "outputs": []
    },
    {
      "cell_type": "markdown",
      "source": [
        "#### 1 sig pre bi sgd\n",
        "--> "
      ],
      "metadata": {
        "id": "QLeD640HOYlG"
      }
    },
    {
      "cell_type": "code",
      "source": [
        "BS = 1\n",
        "filepath = \"Kmodel1_sig_pre_bi_sgd\"                  ##\n",
        "\n",
        "train_img_Dense = []\n",
        "for ImageName in tqdm(data_train3['ImageName']):               # รัน ชื่อรูป ในไฟล์ data_test3\n",
        "    image_path = All_3class_dir +'/' + ImageName                   # ดึงรูปในโฟล์เดอร์มาทีละรูป\n",
        "    img = cv2.imread(image_path)                                            # อ่านรูป\n",
        "    img = cv2.resize(img, (224, 224))                                       #ขนาดของ input\n",
        "    train_img_Dense.append(img)\n",
        "data_Dense = np.array(train_img_Dense, dtype=\"float32\") / 255.0\n",
        "\n",
        "labels_Dense = np.array(data_train3[['NameType']] )        \n",
        "labels_Dense.shape = (len(labels_Dense),) \n",
        "le_Dense = LabelEncoder()                                                                     \n",
        "labels_Dense = le_Dense.fit_transform(labels_Dense)                                         #จะแปลงชื่อ class เป็นตัวเลข 1, 2, 0 \n",
        "labels_Dense = to_categorical(labels_Dense, num_classes=2)                    \n",
        "\n",
        "aug = ImageDataGenerator( rotation_range=15,\twidth_shift_range=0.1, \theight_shift_range=0.1,\n",
        "\t\tshear_range=0.15, \thorizontal_flip=True, \tfill_mode=\"nearest\")\n",
        "                                                                                                          \n",
        "callback = EarlyStopping( monitor= \"val_accuracy\",    patience=15,       mode=\"max\")\n",
        "\n",
        "# checkpoint = ModelCheckpoint(filepath, monitor='val_accuracy', verbose=1,   save_best_only=True, mode='max')\n",
        "                                                                                                            ##\n",
        "reduce_lr = ReduceLROnPlateau(monitor='val_accuracy', factor=0.5,   patience=6,     verbose=1, mode='max', min_lr=0.00001)"
      ],
      "metadata": {
        "outputId": "3f52f262-ffd4-40ae-8af3-bc174b331ad7",
        "colab": {
          "base_uri": "https://localhost:8080/"
        },
        "id": "M0WZBnckOYlG"
      },
      "execution_count": null,
      "outputs": [
        {
          "output_type": "stream",
          "name": "stderr",
          "text": [
            "100%|██████████| 451/451 [02:08<00:00,  3.50it/s]\n"
          ]
        }
      ]
    },
    {
      "cell_type": "code",
      "source": [
        "base_model_Dense = tf.keras.applications.DenseNet201(input_shape=(224, 224, 3), include_top=False, weights=\"imagenet\")\n",
        "base_model_Dense.trainable = True\n",
        "for layer in base_model_Dense.layers[:500]:    #fix w & bias in layer 0-500\n",
        "    layer.trainable = False\n",
        "#Add custom head\n",
        "average_pooling_layer = tf.keras.layers.GlobalAveragePooling2D()(base_model_Dense.output)\n",
        "prediction_layer = tf.keras.layers.Dense(units=2, activation=\"sigmoid\")(average_pooling_layer)   # unit 2\n",
        "model_Dense = tf.keras.models.Model(inputs=base_model_Dense.input, outputs=prediction_layer)\n",
        "model_Dense.compile(optimizer=SGD(learning_rate=0.0001), loss=\"binary_crossentropy\", metrics=[\"accuracy\"])\n",
        "\n",
        "### K-fold\n",
        "kf = KFold(5, shuffle=True, random_state=40) \n",
        "\n",
        "oos_y = []\n",
        "oos_pred = []\n",
        "fold = 0\n",
        "\n",
        "for train, test in kf.split(data_Dense):\n",
        "    fold+=1\n",
        "    print(f\"Fold #{fold}\")\n",
        "\n",
        "    filename = f\" {filepath}{fold}.h5 \"\n",
        "    checkpoint = ModelCheckpoint(filename, monitor='val_accuracy', verbose=1,   save_best_only=True, mode='max')\n",
        "\n",
        "    x_train_Dense = data_Dense[train]\n",
        "    y_train_Dense = labels_Dense[train]\n",
        "    x_test_Dense = data_Dense[test]\n",
        "    y_test_Dense = labels_Dense[test]\n",
        "\n",
        "    H_Dense = model_Dense.fit( x=aug.flow(x_train_Dense, y_train_Dense, batch_size=BS),\n",
        "\t                                            validation_data=(x_test_Dense, y_test_Dense),\n",
        "\t                                            steps_per_epoch=len(x_train_Dense) // BS,\n",
        "\t                                            epochs=30,  callbacks = [callback,checkpoint,reduce_lr])\n",
        "    \n",
        "    pred_Dense = model_Dense.predict(x_test_Dense)\n",
        "    \n",
        "    oos_y.append(y_test_Dense)\n",
        "    oos_pred.append(pred_Dense)  \n",
        "    print(classification_report(y_test_Dense.argmax(axis=1),\t                #แสดง report ค่า acc, recall, ...\n",
        "                                        pred_Dense.argmax(axis=1),  \n",
        "                                        target_names=le_Dense.classes_))   \n",
        "    \n",
        "oos_y = np.concatenate(oos_y)\n",
        "oos_pred = np.concatenate(oos_pred)\n",
        "print(classification_report(oos_y.argmax(axis=1), oos_pred.argmax(axis=1),  target_names=le_Dense.classes_))"
      ],
      "metadata": {
        "id": "ymhBUDX0OYlH"
      },
      "execution_count": null,
      "outputs": []
    },
    {
      "cell_type": "markdown",
      "source": [
        "### 8"
      ],
      "metadata": {
        "id": "Ddk3nvqgOYlH"
      }
    },
    {
      "cell_type": "markdown",
      "source": [
        "#### 8  sig pre bi\n",
        "--> "
      ],
      "metadata": {
        "id": "EZKh4r-HOYlH"
      }
    },
    {
      "cell_type": "code",
      "source": [
        "BS = 8\n",
        "filepath = \"Kmodel8_sig_pre_bi\"                  ##\n",
        "\n",
        "train_img_Dense = []\n",
        "for ImageName in tqdm(data_train3['ImageName']):               # รัน ชื่อรูป ในไฟล์ data_test3\n",
        "    image_path = All_3class_dir +'/' + ImageName                   # ดึงรูปในโฟล์เดอร์มาทีละรูป\n",
        "    img = cv2.imread(image_path)                                            # อ่านรูป\n",
        "    img = cv2.resize(img, (224, 224))                                       #ขนาดของ input\n",
        "    train_img_Dense.append(img)\n",
        "data_Dense = np.array(train_img_Dense, dtype=\"float32\") / 255.0\n",
        "\n",
        "labels_Dense = np.array(data_train3[['NameType']] )        \n",
        "labels_Dense.shape = (len(labels_Dense),) \n",
        "le_Dense = LabelEncoder()                                                                     \n",
        "labels_Dense = le_Dense.fit_transform(labels_Dense)                                         #จะแปลงชื่อ class เป็นตัวเลข 1, 2, 0 \n",
        "labels_Dense = to_categorical(labels_Dense, num_classes=2)                    \n",
        "\n",
        "aug = ImageDataGenerator( rotation_range=15,\twidth_shift_range=0.1, \theight_shift_range=0.1,\n",
        "\t\tshear_range=0.15, \thorizontal_flip=True, \tfill_mode=\"nearest\")\n",
        "                                                                                                          \n",
        "callback = EarlyStopping( monitor= \"val_accuracy\",    patience=15,       mode=\"max\")\n",
        "\n",
        "# checkpoint = ModelCheckpoint(filepath, monitor='val_accuracy', verbose=1,   save_best_only=True, mode='max')\n",
        "                                                                                                            ##\n",
        "reduce_lr = ReduceLROnPlateau(monitor='val_accuracy', factor=0.5,   patience=6,     verbose=1, mode='max', min_lr=0.00001)"
      ],
      "metadata": {
        "outputId": "8741a3e8-2d19-43a6-8086-241819a23a7f",
        "colab": {
          "base_uri": "https://localhost:8080/"
        },
        "id": "J3me_h__OYlI"
      },
      "execution_count": null,
      "outputs": [
        {
          "output_type": "stream",
          "name": "stderr",
          "text": [
            "100%|██████████| 451/451 [00:10<00:00, 44.85it/s]\n"
          ]
        }
      ]
    },
    {
      "cell_type": "code",
      "source": [
        "base_model_Dense = tf.keras.applications.DenseNet201(input_shape=(224, 224, 3), include_top=False, weights=\"imagenet\")\n",
        "base_model_Dense.trainable = True\n",
        "for layer in base_model_Dense.layers[:500]:    #fix w & bias in layer 0-500\n",
        "    layer.trainable = False\n",
        "#Add custom head\n",
        "average_pooling_layer = tf.keras.layers.GlobalAveragePooling2D()(base_model_Dense.output)\n",
        "prediction_layer = tf.keras.layers.Dense(units=2, activation=\"sigmoid\")(average_pooling_layer)   # unit 2\n",
        "model_Dense = tf.keras.models.Model(inputs=base_model_Dense.input, outputs=prediction_layer)\n",
        "model_Dense.compile(optimizer=tf.keras.optimizers.RMSprop(learning_rate=0.0001), loss=\"binary_crossentropy\", metrics=[\"accuracy\"])\n",
        "\n",
        "### K-fold\n",
        "kf = KFold(5, shuffle=True, random_state=40) \n",
        "\n",
        "oos_y = []\n",
        "oos_pred = []\n",
        "fold = 0\n",
        "\n",
        "for train, test in kf.split(data_Dense):\n",
        "    fold+=1\n",
        "    print(f\"Fold #{fold}\")\n",
        "\n",
        "    filename = f\" {filepath}{fold}.h5 \"\n",
        "    checkpoint = ModelCheckpoint(filename, monitor='val_accuracy', verbose=1,   save_best_only=True, mode='max')\n",
        "\n",
        "    x_train_Dense = data_Dense[train]\n",
        "    y_train_Dense = labels_Dense[train]\n",
        "    x_test_Dense = data_Dense[test]\n",
        "    y_test_Dense = labels_Dense[test]\n",
        "\n",
        "    H_Dense = model_Dense.fit( x=aug.flow(x_train_Dense, y_train_Dense, batch_size=BS),\n",
        "\t                                            validation_data=(x_test_Dense, y_test_Dense),\n",
        "\t                                            steps_per_epoch=len(x_train_Dense) // BS,\n",
        "\t                                            epochs=30,  callbacks = [callback,checkpoint,reduce_lr])\n",
        "    \n",
        "    pred_Dense = model_Dense.predict(x_test_Dense)\n",
        "    \n",
        "    oos_y.append(y_test_Dense)\n",
        "    oos_pred.append(pred_Dense)  \n",
        "    print(classification_report(y_test_Dense.argmax(axis=1),\t                #แสดง report ค่า acc, recall, ...\n",
        "                                        pred_Dense.argmax(axis=1),  \n",
        "                                        target_names=le_Dense.classes_))   \n",
        "    \n",
        "oos_y = np.concatenate(oos_y)\n",
        "oos_pred = np.concatenate(oos_pred)\n",
        "print(classification_report(oos_y.argmax(axis=1), oos_pred.argmax(axis=1),  target_names=le_Dense.classes_))"
      ],
      "metadata": {
        "id": "sQhoXVVPOYlI"
      },
      "execution_count": null,
      "outputs": []
    },
    {
      "cell_type": "markdown",
      "source": [
        "#### 8 sig pre bi adam\n",
        "--> "
      ],
      "metadata": {
        "id": "S1I0l6QuOYlJ"
      }
    },
    {
      "cell_type": "code",
      "source": [
        "BS = 8\n",
        "filepath = \"Kmodel8_sig_pre_bi_adam\"                  ##\n",
        "\n",
        "train_img_Dense = []\n",
        "for ImageName in tqdm(data_train3['ImageName']):               # รัน ชื่อรูป ในไฟล์ data_test3\n",
        "    image_path = All_3class_dir +'/' + ImageName                   # ดึงรูปในโฟล์เดอร์มาทีละรูป\n",
        "    img = cv2.imread(image_path)                                            # อ่านรูป\n",
        "    img = cv2.resize(img, (224, 224))                                       #ขนาดของ input\n",
        "    train_img_Dense.append(img)\n",
        "data_Dense = np.array(train_img_Dense, dtype=\"float32\") / 255.0\n",
        "\n",
        "labels_Dense = np.array(data_train3[['NameType']] )        \n",
        "labels_Dense.shape = (len(labels_Dense),) \n",
        "le_Dense = LabelEncoder()                                                                     \n",
        "labels_Dense = le_Dense.fit_transform(labels_Dense)                                         #จะแปลงชื่อ class เป็นตัวเลข 1, 2, 0 \n",
        "labels_Dense = to_categorical(labels_Dense, num_classes=2)                    \n",
        "\n",
        "aug = ImageDataGenerator( rotation_range=15,\twidth_shift_range=0.1, \theight_shift_range=0.1,\n",
        "\t\tshear_range=0.15, \thorizontal_flip=True, \tfill_mode=\"nearest\")\n",
        "                                                                                                          \n",
        "callback = EarlyStopping( monitor= \"val_accuracy\",    patience=15,       mode=\"max\")\n",
        "\n",
        "# checkpoint = ModelCheckpoint(filepath, monitor='val_accuracy', verbose=1,   save_best_only=True, mode='max')\n",
        "                                                                                                            ##\n",
        "reduce_lr = ReduceLROnPlateau(monitor='val_accuracy', factor=0.5,   patience=6,     verbose=1, mode='max', min_lr=0.00001)"
      ],
      "metadata": {
        "outputId": "3f52f262-ffd4-40ae-8af3-bc174b331ad7",
        "colab": {
          "base_uri": "https://localhost:8080/"
        },
        "id": "J3rKvX7GOYlJ"
      },
      "execution_count": null,
      "outputs": [
        {
          "output_type": "stream",
          "name": "stderr",
          "text": [
            "100%|██████████| 451/451 [02:08<00:00,  3.50it/s]\n"
          ]
        }
      ]
    },
    {
      "cell_type": "code",
      "source": [
        "base_model_Dense = tf.keras.applications.DenseNet201(input_shape=(224, 224, 3), include_top=False, weights=\"imagenet\")\n",
        "base_model_Dense.trainable = True\n",
        "for layer in base_model_Dense.layers[:500]:    #fix w & bias in layer 0-500\n",
        "    layer.trainable = False\n",
        "#Add custom head\n",
        "average_pooling_layer = tf.keras.layers.GlobalAveragePooling2D()(base_model_Dense.output)\n",
        "prediction_layer = tf.keras.layers.Dense(units=2, activation=\"sigmoid\")(average_pooling_layer)   # unit 2\n",
        "model_Dense = tf.keras.models.Model(inputs=base_model_Dense.input, outputs=prediction_layer)\n",
        "model_Dense.compile(optimizer=Adam(learning_rate=0.0001), loss=\"binary_crossentropy\", metrics=[\"accuracy\"])\n",
        "\n",
        "### K-fold\n",
        "kf = KFold(5, shuffle=True, random_state=40) \n",
        "\n",
        "oos_y = []\n",
        "oos_pred = []\n",
        "fold = 0\n",
        "\n",
        "for train, test in kf.split(data_Dense):\n",
        "    fold+=1\n",
        "    print(f\"Fold #{fold}\")\n",
        "\n",
        "    filename = f\" {filepath}{fold}.h5 \"\n",
        "    checkpoint = ModelCheckpoint(filename, monitor='val_accuracy', verbose=1,   save_best_only=True, mode='max')\n",
        "\n",
        "    x_train_Dense = data_Dense[train]\n",
        "    y_train_Dense = labels_Dense[train]\n",
        "    x_test_Dense = data_Dense[test]\n",
        "    y_test_Dense = labels_Dense[test]\n",
        "\n",
        "    H_Dense = model_Dense.fit( x=aug.flow(x_train_Dense, y_train_Dense, batch_size=BS),\n",
        "\t                                            validation_data=(x_test_Dense, y_test_Dense),\n",
        "\t                                            steps_per_epoch=len(x_train_Dense) // BS,\n",
        "\t                                            epochs=30,  callbacks = [callback,checkpoint,reduce_lr])\n",
        "    \n",
        "    pred_Dense = model_Dense.predict(x_test_Dense)\n",
        "    \n",
        "    oos_y.append(y_test_Dense)\n",
        "    oos_pred.append(pred_Dense)  \n",
        "    print(classification_report(y_test_Dense.argmax(axis=1),\t                #แสดง report ค่า acc, recall, ...\n",
        "                                        pred_Dense.argmax(axis=1),  \n",
        "                                        target_names=le_Dense.classes_))   \n",
        "    \n",
        "oos_y = np.concatenate(oos_y)\n",
        "oos_pred = np.concatenate(oos_pred)\n",
        "print(classification_report(oos_y.argmax(axis=1), oos_pred.argmax(axis=1),  target_names=le_Dense.classes_))"
      ],
      "metadata": {
        "id": "U2oB5-8MOYlK"
      },
      "execution_count": null,
      "outputs": []
    },
    {
      "cell_type": "markdown",
      "source": [
        "#### 8 sig pre bi sgd\n",
        "--> "
      ],
      "metadata": {
        "id": "Ij0Y5Es7OYlK"
      }
    },
    {
      "cell_type": "code",
      "source": [
        "BS = 8\n",
        "filepath = \"Kmodel8_sig_pre_bi_sgd\"                  ##\n",
        "\n",
        "train_img_Dense = []\n",
        "for ImageName in tqdm(data_train3['ImageName']):               # รัน ชื่อรูป ในไฟล์ data_test3\n",
        "    image_path = All_3class_dir +'/' + ImageName                   # ดึงรูปในโฟล์เดอร์มาทีละรูป\n",
        "    img = cv2.imread(image_path)                                            # อ่านรูป\n",
        "    img = cv2.resize(img, (224, 224))                                       #ขนาดของ input\n",
        "    train_img_Dense.append(img)\n",
        "data_Dense = np.array(train_img_Dense, dtype=\"float32\") / 255.0\n",
        "\n",
        "labels_Dense = np.array(data_train3[['NameType']] )        \n",
        "labels_Dense.shape = (len(labels_Dense),) \n",
        "le_Dense = LabelEncoder()                                                                     \n",
        "labels_Dense = le_Dense.fit_transform(labels_Dense)                                         #จะแปลงชื่อ class เป็นตัวเลข 1, 2, 0 \n",
        "labels_Dense = to_categorical(labels_Dense, num_classes=2)                    \n",
        "\n",
        "aug = ImageDataGenerator( rotation_range=15,\twidth_shift_range=0.1, \theight_shift_range=0.1,\n",
        "\t\tshear_range=0.15, \thorizontal_flip=True, \tfill_mode=\"nearest\")\n",
        "                                                                                                          \n",
        "callback = EarlyStopping( monitor= \"val_accuracy\",    patience=15,       mode=\"max\")\n",
        "\n",
        "# checkpoint = ModelCheckpoint(filepath, monitor='val_accuracy', verbose=1,   save_best_only=True, mode='max')\n",
        "                                                                                                            ##\n",
        "reduce_lr = ReduceLROnPlateau(monitor='val_accuracy', factor=0.5,   patience=6,     verbose=1, mode='max', min_lr=0.00001)"
      ],
      "metadata": {
        "outputId": "3f52f262-ffd4-40ae-8af3-bc174b331ad7",
        "colab": {
          "base_uri": "https://localhost:8080/"
        },
        "id": "VSlALr1bOYlK"
      },
      "execution_count": null,
      "outputs": [
        {
          "output_type": "stream",
          "name": "stderr",
          "text": [
            "100%|██████████| 451/451 [02:08<00:00,  3.50it/s]\n"
          ]
        }
      ]
    },
    {
      "cell_type": "code",
      "source": [
        "base_model_Dense = tf.keras.applications.DenseNet201(input_shape=(224, 224, 3), include_top=False, weights=\"imagenet\")\n",
        "base_model_Dense.trainable = True\n",
        "for layer in base_model_Dense.layers[:500]:    #fix w & bias in layer 0-500\n",
        "    layer.trainable = False\n",
        "#Add custom head\n",
        "average_pooling_layer = tf.keras.layers.GlobalAveragePooling2D()(base_model_Dense.output)\n",
        "prediction_layer = tf.keras.layers.Dense(units=2, activation=\"sigmoid\")(average_pooling_layer)   # unit 2\n",
        "model_Dense = tf.keras.models.Model(inputs=base_model_Dense.input, outputs=prediction_layer)\n",
        "model_Dense.compile(optimizer=SGD(learning_rate=0.0001), loss=\"binary_crossentropy\", metrics=[\"accuracy\"])\n",
        "\n",
        "### K-fold\n",
        "kf = KFold(5, shuffle=True, random_state=40) \n",
        "\n",
        "oos_y = []\n",
        "oos_pred = []\n",
        "fold = 0\n",
        "\n",
        "for train, test in kf.split(data_Dense):\n",
        "    fold+=1\n",
        "    print(f\"Fold #{fold}\")\n",
        "\n",
        "    filename = f\" {filepath}{fold}.h5 \"\n",
        "    checkpoint = ModelCheckpoint(filename, monitor='val_accuracy', verbose=1,   save_best_only=True, mode='max')\n",
        "\n",
        "    x_train_Dense = data_Dense[train]\n",
        "    y_train_Dense = labels_Dense[train]\n",
        "    x_test_Dense = data_Dense[test]\n",
        "    y_test_Dense = labels_Dense[test]\n",
        "\n",
        "    H_Dense = model_Dense.fit( x=aug.flow(x_train_Dense, y_train_Dense, batch_size=BS),\n",
        "\t                                            validation_data=(x_test_Dense, y_test_Dense),\n",
        "\t                                            steps_per_epoch=len(x_train_Dense) // BS,\n",
        "\t                                            epochs=30,  callbacks = [callback,checkpoint,reduce_lr])\n",
        "    \n",
        "    pred_Dense = model_Dense.predict(x_test_Dense)\n",
        "    \n",
        "    oos_y.append(y_test_Dense)\n",
        "    oos_pred.append(pred_Dense)  \n",
        "    print(classification_report(y_test_Dense.argmax(axis=1),\t                #แสดง report ค่า acc, recall, ...\n",
        "                                        pred_Dense.argmax(axis=1),  \n",
        "                                        target_names=le_Dense.classes_))   \n",
        "    \n",
        "oos_y = np.concatenate(oos_y)\n",
        "oos_pred = np.concatenate(oos_pred)\n",
        "print(classification_report(oos_y.argmax(axis=1), oos_pred.argmax(axis=1),  target_names=le_Dense.classes_))"
      ],
      "metadata": {
        "id": "o-8K5CP2OYlL"
      },
      "execution_count": null,
      "outputs": []
    },
    {
      "cell_type": "markdown",
      "source": [
        "### 16"
      ],
      "metadata": {
        "id": "G07uyqdSOYlL"
      }
    },
    {
      "cell_type": "markdown",
      "source": [
        "#### 16  sig pre bi\n",
        "--> "
      ],
      "metadata": {
        "id": "PI5NzCmOOYlL"
      }
    },
    {
      "cell_type": "code",
      "source": [
        "BS = 16\n",
        "filepath = \"Kmodel16_sig_pre_bi\"                  ##\n",
        "\n",
        "train_img_Dense = []\n",
        "for ImageName in tqdm(data_train3['ImageName']):               # รัน ชื่อรูป ในไฟล์ data_test3\n",
        "    image_path = All_3class_dir +'/' + ImageName                   # ดึงรูปในโฟล์เดอร์มาทีละรูป\n",
        "    img = cv2.imread(image_path)                                            # อ่านรูป\n",
        "    img = cv2.resize(img, (224, 224))                                       #ขนาดของ input\n",
        "    train_img_Dense.append(img)\n",
        "data_Dense = np.array(train_img_Dense, dtype=\"float32\") / 255.0\n",
        "\n",
        "labels_Dense = np.array(data_train3[['NameType']] )        \n",
        "labels_Dense.shape = (len(labels_Dense),) \n",
        "le_Dense = LabelEncoder()                                                                     \n",
        "labels_Dense = le_Dense.fit_transform(labels_Dense)                                         #จะแปลงชื่อ class เป็นตัวเลข 1, 2, 0 \n",
        "labels_Dense = to_categorical(labels_Dense, num_classes=2)                    \n",
        "\n",
        "aug = ImageDataGenerator( rotation_range=15,\twidth_shift_range=0.1, \theight_shift_range=0.1,\n",
        "\t\tshear_range=0.15, \thorizontal_flip=True, \tfill_mode=\"nearest\")\n",
        "                                                                                                          \n",
        "callback = EarlyStopping( monitor= \"val_accuracy\",    patience=15,       mode=\"max\")\n",
        "\n",
        "# checkpoint = ModelCheckpoint(filepath, monitor='val_accuracy', verbose=1,   save_best_only=True, mode='max')\n",
        "                                                                                                            ##\n",
        "reduce_lr = ReduceLROnPlateau(monitor='val_accuracy', factor=0.5,   patience=6,     verbose=1, mode='max', min_lr=0.00001)"
      ],
      "metadata": {
        "outputId": "8741a3e8-2d19-43a6-8086-241819a23a7f",
        "colab": {
          "base_uri": "https://localhost:8080/"
        },
        "id": "q9x9EBMWOYlM"
      },
      "execution_count": null,
      "outputs": [
        {
          "output_type": "stream",
          "name": "stderr",
          "text": [
            "100%|██████████| 451/451 [00:10<00:00, 44.85it/s]\n"
          ]
        }
      ]
    },
    {
      "cell_type": "code",
      "source": [
        "base_model_Dense = tf.keras.applications.DenseNet201(input_shape=(224, 224, 3), include_top=False, weights=\"imagenet\")\n",
        "base_model_Dense.trainable = True\n",
        "for layer in base_model_Dense.layers[:500]:    #fix w & bias in layer 0-500\n",
        "    layer.trainable = False\n",
        "#Add custom head\n",
        "average_pooling_layer = tf.keras.layers.GlobalAveragePooling2D()(base_model_Dense.output)\n",
        "prediction_layer = tf.keras.layers.Dense(units=2, activation=\"sigmoid\")(average_pooling_layer)   # unit 2\n",
        "model_Dense = tf.keras.models.Model(inputs=base_model_Dense.input, outputs=prediction_layer)\n",
        "model_Dense.compile(optimizer=tf.keras.optimizers.RMSprop(learning_rate=0.0001), loss=\"binary_crossentropy\", metrics=[\"accuracy\"])\n",
        "\n",
        "### K-fold\n",
        "kf = KFold(5, shuffle=True, random_state=40) \n",
        "\n",
        "oos_y = []\n",
        "oos_pred = []\n",
        "fold = 0\n",
        "\n",
        "for train, test in kf.split(data_Dense):\n",
        "    fold+=1\n",
        "    print(f\"Fold #{fold}\")\n",
        "\n",
        "    filename = f\" {filepath}{fold}.h5 \"\n",
        "    checkpoint = ModelCheckpoint(filename, monitor='val_accuracy', verbose=1,   save_best_only=True, mode='max')\n",
        "\n",
        "    x_train_Dense = data_Dense[train]\n",
        "    y_train_Dense = labels_Dense[train]\n",
        "    x_test_Dense = data_Dense[test]\n",
        "    y_test_Dense = labels_Dense[test]\n",
        "\n",
        "    H_Dense = model_Dense.fit( x=aug.flow(x_train_Dense, y_train_Dense, batch_size=BS),\n",
        "\t                                            validation_data=(x_test_Dense, y_test_Dense),\n",
        "\t                                            steps_per_epoch=len(x_train_Dense) // BS,\n",
        "\t                                            epochs=30,  callbacks = [callback,checkpoint,reduce_lr])\n",
        "    \n",
        "    pred_Dense = model_Dense.predict(x_test_Dense)\n",
        "    \n",
        "    oos_y.append(y_test_Dense)\n",
        "    oos_pred.append(pred_Dense)  \n",
        "    print(classification_report(y_test_Dense.argmax(axis=1),\t                #แสดง report ค่า acc, recall, ...\n",
        "                                        pred_Dense.argmax(axis=1),  \n",
        "                                        target_names=le_Dense.classes_))   \n",
        "    \n",
        "oos_y = np.concatenate(oos_y)\n",
        "oos_pred = np.concatenate(oos_pred)\n",
        "print(classification_report(oos_y.argmax(axis=1), oos_pred.argmax(axis=1),  target_names=le_Dense.classes_))"
      ],
      "metadata": {
        "id": "x1rpmUscOYlM"
      },
      "execution_count": null,
      "outputs": []
    },
    {
      "cell_type": "markdown",
      "source": [
        "#### 16 sig pre bi adam\n",
        "--> "
      ],
      "metadata": {
        "id": "4PhW1ZovOYlM"
      }
    },
    {
      "cell_type": "code",
      "source": [
        "BS = 16\n",
        "filepath = \"Kmodel16_sig_pre_bi_adam\"                  ##\n",
        "\n",
        "train_img_Dense = []\n",
        "for ImageName in tqdm(data_train3['ImageName']):               # รัน ชื่อรูป ในไฟล์ data_test3\n",
        "    image_path = All_3class_dir +'/' + ImageName                   # ดึงรูปในโฟล์เดอร์มาทีละรูป\n",
        "    img = cv2.imread(image_path)                                            # อ่านรูป\n",
        "    img = cv2.resize(img, (224, 224))                                       #ขนาดของ input\n",
        "    train_img_Dense.append(img)\n",
        "data_Dense = np.array(train_img_Dense, dtype=\"float32\") / 255.0\n",
        "\n",
        "labels_Dense = np.array(data_train3[['NameType']] )        \n",
        "labels_Dense.shape = (len(labels_Dense),) \n",
        "le_Dense = LabelEncoder()                                                                     \n",
        "labels_Dense = le_Dense.fit_transform(labels_Dense)                                         #จะแปลงชื่อ class เป็นตัวเลข 1, 2, 0 \n",
        "labels_Dense = to_categorical(labels_Dense, num_classes=2)                    \n",
        "\n",
        "aug = ImageDataGenerator( rotation_range=15,\twidth_shift_range=0.1, \theight_shift_range=0.1,\n",
        "\t\tshear_range=0.15, \thorizontal_flip=True, \tfill_mode=\"nearest\")\n",
        "                                                                                                          \n",
        "callback = EarlyStopping( monitor= \"val_accuracy\",    patience=15,       mode=\"max\")\n",
        "\n",
        "# checkpoint = ModelCheckpoint(filepath, monitor='val_accuracy', verbose=1,   save_best_only=True, mode='max')\n",
        "                                                                                                            ##\n",
        "reduce_lr = ReduceLROnPlateau(monitor='val_accuracy', factor=0.5,   patience=6,     verbose=1, mode='max', min_lr=0.00001)"
      ],
      "metadata": {
        "outputId": "3f52f262-ffd4-40ae-8af3-bc174b331ad7",
        "colab": {
          "base_uri": "https://localhost:8080/"
        },
        "id": "-6xi1v0_OYlM"
      },
      "execution_count": null,
      "outputs": [
        {
          "output_type": "stream",
          "name": "stderr",
          "text": [
            "100%|██████████| 451/451 [02:08<00:00,  3.50it/s]\n"
          ]
        }
      ]
    },
    {
      "cell_type": "code",
      "source": [
        "base_model_Dense = tf.keras.applications.DenseNet201(input_shape=(224, 224, 3), include_top=False, weights=\"imagenet\")\n",
        "base_model_Dense.trainable = True\n",
        "for layer in base_model_Dense.layers[:500]:    #fix w & bias in layer 0-500\n",
        "    layer.trainable = False\n",
        "#Add custom head\n",
        "average_pooling_layer = tf.keras.layers.GlobalAveragePooling2D()(base_model_Dense.output)\n",
        "prediction_layer = tf.keras.layers.Dense(units=2, activation=\"sigmoid\")(average_pooling_layer)   # unit 2\n",
        "model_Dense = tf.keras.models.Model(inputs=base_model_Dense.input, outputs=prediction_layer)\n",
        "model_Dense.compile(optimizer=Adam(learning_rate=0.0001), loss=\"binary_crossentropy\", metrics=[\"accuracy\"])\n",
        "\n",
        "### K-fold\n",
        "kf = KFold(5, shuffle=True, random_state=40) \n",
        "\n",
        "oos_y = []\n",
        "oos_pred = []\n",
        "fold = 0\n",
        "\n",
        "for train, test in kf.split(data_Dense):\n",
        "    fold+=1\n",
        "    print(f\"Fold #{fold}\")\n",
        "\n",
        "    filename = f\" {filepath}{fold}.h5 \"\n",
        "    checkpoint = ModelCheckpoint(filename, monitor='val_accuracy', verbose=1,   save_best_only=True, mode='max')\n",
        "\n",
        "    x_train_Dense = data_Dense[train]\n",
        "    y_train_Dense = labels_Dense[train]\n",
        "    x_test_Dense = data_Dense[test]\n",
        "    y_test_Dense = labels_Dense[test]\n",
        "\n",
        "    H_Dense = model_Dense.fit( x=aug.flow(x_train_Dense, y_train_Dense, batch_size=BS),\n",
        "\t                                            validation_data=(x_test_Dense, y_test_Dense),\n",
        "\t                                            steps_per_epoch=len(x_train_Dense) // BS,\n",
        "\t                                            epochs=30,  callbacks = [callback,checkpoint,reduce_lr])\n",
        "    \n",
        "    pred_Dense = model_Dense.predict(x_test_Dense)\n",
        "    \n",
        "    oos_y.append(y_test_Dense)\n",
        "    oos_pred.append(pred_Dense)  \n",
        "    print(classification_report(y_test_Dense.argmax(axis=1),\t                #แสดง report ค่า acc, recall, ...\n",
        "                                        pred_Dense.argmax(axis=1),  \n",
        "                                        target_names=le_Dense.classes_))   \n",
        "    \n",
        "oos_y = np.concatenate(oos_y)\n",
        "oos_pred = np.concatenate(oos_pred)\n",
        "print(classification_report(oos_y.argmax(axis=1), oos_pred.argmax(axis=1),  target_names=le_Dense.classes_))"
      ],
      "metadata": {
        "id": "52d1CKoLOYlN"
      },
      "execution_count": null,
      "outputs": []
    },
    {
      "cell_type": "markdown",
      "source": [
        "#### 16 sig pre bi sgd\n",
        "--> "
      ],
      "metadata": {
        "id": "G3vvUUslOYlN"
      }
    },
    {
      "cell_type": "code",
      "source": [
        "BS = 16\n",
        "filepath = \"Kmodel16_sig_pre_bi_sgd\"                  ##\n",
        "\n",
        "train_img_Dense = []\n",
        "for ImageName in tqdm(data_train3['ImageName']):               # รัน ชื่อรูป ในไฟล์ data_test3\n",
        "    image_path = All_3class_dir +'/' + ImageName                   # ดึงรูปในโฟล์เดอร์มาทีละรูป\n",
        "    img = cv2.imread(image_path)                                            # อ่านรูป\n",
        "    img = cv2.resize(img, (224, 224))                                       #ขนาดของ input\n",
        "    train_img_Dense.append(img)\n",
        "data_Dense = np.array(train_img_Dense, dtype=\"float32\") / 255.0\n",
        "\n",
        "labels_Dense = np.array(data_train3[['NameType']] )        \n",
        "labels_Dense.shape = (len(labels_Dense),) \n",
        "le_Dense = LabelEncoder()                                                                     \n",
        "labels_Dense = le_Dense.fit_transform(labels_Dense)                                         #จะแปลงชื่อ class เป็นตัวเลข 1, 2, 0 \n",
        "labels_Dense = to_categorical(labels_Dense, num_classes=2)                    \n",
        "\n",
        "aug = ImageDataGenerator( rotation_range=15,\twidth_shift_range=0.1, \theight_shift_range=0.1,\n",
        "\t\tshear_range=0.15, \thorizontal_flip=True, \tfill_mode=\"nearest\")\n",
        "                                                                                                          \n",
        "callback = EarlyStopping( monitor= \"val_accuracy\",    patience=15,       mode=\"max\")\n",
        "\n",
        "# checkpoint = ModelCheckpoint(filepath, monitor='val_accuracy', verbose=1,   save_best_only=True, mode='max')\n",
        "                                                                                                            ##\n",
        "reduce_lr = ReduceLROnPlateau(monitor='val_accuracy', factor=0.5,   patience=6,     verbose=1, mode='max', min_lr=0.00001)"
      ],
      "metadata": {
        "outputId": "3f52f262-ffd4-40ae-8af3-bc174b331ad7",
        "colab": {
          "base_uri": "https://localhost:8080/"
        },
        "id": "u2n5KvusOYlN"
      },
      "execution_count": null,
      "outputs": [
        {
          "output_type": "stream",
          "name": "stderr",
          "text": [
            "100%|██████████| 451/451 [02:08<00:00,  3.50it/s]\n"
          ]
        }
      ]
    },
    {
      "cell_type": "code",
      "source": [
        "base_model_Dense = tf.keras.applications.DenseNet201(input_shape=(224, 224, 3), include_top=False, weights=\"imagenet\")\n",
        "base_model_Dense.trainable = True\n",
        "for layer in base_model_Dense.layers[:500]:    #fix w & bias in layer 0-500\n",
        "    layer.trainable = False\n",
        "#Add custom head\n",
        "average_pooling_layer = tf.keras.layers.GlobalAveragePooling2D()(base_model_Dense.output)\n",
        "prediction_layer = tf.keras.layers.Dense(units=2, activation=\"sigmoid\")(average_pooling_layer)   # unit 2\n",
        "model_Dense = tf.keras.models.Model(inputs=base_model_Dense.input, outputs=prediction_layer)\n",
        "model_Dense.compile(optimizer=SGD(learning_rate=0.0001), loss=\"binary_crossentropy\", metrics=[\"accuracy\"])\n",
        "\n",
        "### K-fold\n",
        "kf = KFold(5, shuffle=True, random_state=40) \n",
        "\n",
        "oos_y = []\n",
        "oos_pred = []\n",
        "fold = 0\n",
        "\n",
        "for train, test in kf.split(data_Dense):\n",
        "    fold+=1\n",
        "    print(f\"Fold #{fold}\")\n",
        "\n",
        "    filename = f\" {filepath}{fold}.h5 \"\n",
        "    checkpoint = ModelCheckpoint(filename, monitor='val_accuracy', verbose=1,   save_best_only=True, mode='max')\n",
        "\n",
        "    x_train_Dense = data_Dense[train]\n",
        "    y_train_Dense = labels_Dense[train]\n",
        "    x_test_Dense = data_Dense[test]\n",
        "    y_test_Dense = labels_Dense[test]\n",
        "\n",
        "    H_Dense = model_Dense.fit( x=aug.flow(x_train_Dense, y_train_Dense, batch_size=BS),\n",
        "\t                                            validation_data=(x_test_Dense, y_test_Dense),\n",
        "\t                                            steps_per_epoch=len(x_train_Dense) // BS,\n",
        "\t                                            epochs=30,  callbacks = [callback,checkpoint,reduce_lr])\n",
        "    \n",
        "    pred_Dense = model_Dense.predict(x_test_Dense)\n",
        "    \n",
        "    oos_y.append(y_test_Dense)\n",
        "    oos_pred.append(pred_Dense)  \n",
        "    print(classification_report(y_test_Dense.argmax(axis=1),\t                #แสดง report ค่า acc, recall, ...\n",
        "                                        pred_Dense.argmax(axis=1),  \n",
        "                                        target_names=le_Dense.classes_))   \n",
        "    \n",
        "oos_y = np.concatenate(oos_y)\n",
        "oos_pred = np.concatenate(oos_pred)\n",
        "print(classification_report(oos_y.argmax(axis=1), oos_pred.argmax(axis=1),  target_names=le_Dense.classes_))"
      ],
      "metadata": {
        "id": "ys129xHDOYlO"
      },
      "execution_count": null,
      "outputs": []
    },
    {
      "cell_type": "markdown",
      "source": [
        "### 32"
      ],
      "metadata": {
        "id": "ISYmBcYfOYlO"
      }
    },
    {
      "cell_type": "markdown",
      "source": [
        "#### 32  sig pre bi\n",
        "--> "
      ],
      "metadata": {
        "id": "8bTmoWofOYlO"
      }
    },
    {
      "cell_type": "code",
      "source": [
        "BS = 32\n",
        "filepath = \"Kmodel32_sig_pre_bi\"                  ##\n",
        "\n",
        "train_img_Dense = []\n",
        "for ImageName in tqdm(data_train3['ImageName']):               # รัน ชื่อรูป ในไฟล์ data_test3\n",
        "    image_path = All_3class_dir +'/' + ImageName                   # ดึงรูปในโฟล์เดอร์มาทีละรูป\n",
        "    img = cv2.imread(image_path)                                            # อ่านรูป\n",
        "    img = cv2.resize(img, (224, 224))                                       #ขนาดของ input\n",
        "    train_img_Dense.append(img)\n",
        "data_Dense = np.array(train_img_Dense, dtype=\"float32\") / 255.0\n",
        "\n",
        "labels_Dense = np.array(data_train3[['NameType']] )        \n",
        "labels_Dense.shape = (len(labels_Dense),) \n",
        "le_Dense = LabelEncoder()                                                                     \n",
        "labels_Dense = le_Dense.fit_transform(labels_Dense)                                         #จะแปลงชื่อ class เป็นตัวเลข 1, 2, 0 \n",
        "labels_Dense = to_categorical(labels_Dense, num_classes=2)                    \n",
        "\n",
        "aug = ImageDataGenerator( rotation_range=15,\twidth_shift_range=0.1, \theight_shift_range=0.1,\n",
        "\t\tshear_range=0.15, \thorizontal_flip=True, \tfill_mode=\"nearest\")\n",
        "                                                                                                          \n",
        "callback = EarlyStopping( monitor= \"val_accuracy\",    patience=15,       mode=\"max\")\n",
        "\n",
        "# checkpoint = ModelCheckpoint(filepath, monitor='val_accuracy', verbose=1,   save_best_only=True, mode='max')\n",
        "                                                                                                            ##\n",
        "reduce_lr = ReduceLROnPlateau(monitor='val_accuracy', factor=0.5,   patience=6,     verbose=1, mode='max', min_lr=0.00001)"
      ],
      "metadata": {
        "outputId": "8741a3e8-2d19-43a6-8086-241819a23a7f",
        "colab": {
          "base_uri": "https://localhost:8080/"
        },
        "id": "0ygMS8-DOYlO"
      },
      "execution_count": null,
      "outputs": [
        {
          "output_type": "stream",
          "name": "stderr",
          "text": [
            "100%|██████████| 451/451 [00:10<00:00, 44.85it/s]\n"
          ]
        }
      ]
    },
    {
      "cell_type": "code",
      "source": [
        "base_model_Dense = tf.keras.applications.DenseNet201(input_shape=(224, 224, 3), include_top=False, weights=\"imagenet\")\n",
        "base_model_Dense.trainable = True\n",
        "for layer in base_model_Dense.layers[:500]:    #fix w & bias in layer 0-500\n",
        "    layer.trainable = False\n",
        "#Add custom head\n",
        "average_pooling_layer = tf.keras.layers.GlobalAveragePooling2D()(base_model_Dense.output)\n",
        "prediction_layer = tf.keras.layers.Dense(units=2, activation=\"sigmoid\")(average_pooling_layer)   # unit 2\n",
        "model_Dense = tf.keras.models.Model(inputs=base_model_Dense.input, outputs=prediction_layer)\n",
        "model_Dense.compile(optimizer=tf.keras.optimizers.RMSprop(learning_rate=0.0001), loss=\"binary_crossentropy\", metrics=[\"accuracy\"])\n",
        "\n",
        "### K-fold\n",
        "kf = KFold(5, shuffle=True, random_state=40) \n",
        "\n",
        "oos_y = []\n",
        "oos_pred = []\n",
        "fold = 0\n",
        "\n",
        "for train, test in kf.split(data_Dense):\n",
        "    fold+=1\n",
        "    print(f\"Fold #{fold}\")\n",
        "\n",
        "    filename = f\" {filepath}{fold}.h5 \"\n",
        "    checkpoint = ModelCheckpoint(filename, monitor='val_accuracy', verbose=1,   save_best_only=True, mode='max')\n",
        "\n",
        "    x_train_Dense = data_Dense[train]\n",
        "    y_train_Dense = labels_Dense[train]\n",
        "    x_test_Dense = data_Dense[test]\n",
        "    y_test_Dense = labels_Dense[test]\n",
        "\n",
        "    H_Dense = model_Dense.fit( x=aug.flow(x_train_Dense, y_train_Dense, batch_size=BS),\n",
        "\t                                            validation_data=(x_test_Dense, y_test_Dense),\n",
        "\t                                            steps_per_epoch=len(x_train_Dense) // BS,\n",
        "\t                                            epochs=30,  callbacks = [callback,checkpoint,reduce_lr])\n",
        "    \n",
        "    pred_Dense = model_Dense.predict(x_test_Dense)\n",
        "    \n",
        "    oos_y.append(y_test_Dense)\n",
        "    oos_pred.append(pred_Dense)  \n",
        "    print(classification_report(y_test_Dense.argmax(axis=1),\t                #แสดง report ค่า acc, recall, ...\n",
        "                                        pred_Dense.argmax(axis=1),  \n",
        "                                        target_names=le_Dense.classes_))   \n",
        "    \n",
        "oos_y = np.concatenate(oos_y)\n",
        "oos_pred = np.concatenate(oos_pred)\n",
        "print(classification_report(oos_y.argmax(axis=1), oos_pred.argmax(axis=1),  target_names=le_Dense.classes_))"
      ],
      "metadata": {
        "id": "UaNLleKEOYlO"
      },
      "execution_count": null,
      "outputs": []
    },
    {
      "cell_type": "markdown",
      "source": [
        "#### 32 sig pre bi adam\n",
        "--> "
      ],
      "metadata": {
        "id": "I7fNbH0_OYlQ"
      }
    },
    {
      "cell_type": "code",
      "source": [
        "BS = 32\n",
        "filepath = \"Kmodel32_sig_pre_bi_adam\"                  ##\n",
        "\n",
        "train_img_Dense = []\n",
        "for ImageName in tqdm(data_train3['ImageName']):               # รัน ชื่อรูป ในไฟล์ data_test3\n",
        "    image_path = All_3class_dir +'/' + ImageName                   # ดึงรูปในโฟล์เดอร์มาทีละรูป\n",
        "    img = cv2.imread(image_path)                                            # อ่านรูป\n",
        "    img = cv2.resize(img, (224, 224))                                       #ขนาดของ input\n",
        "    train_img_Dense.append(img)\n",
        "data_Dense = np.array(train_img_Dense, dtype=\"float32\") / 255.0\n",
        "\n",
        "labels_Dense = np.array(data_train3[['NameType']] )        \n",
        "labels_Dense.shape = (len(labels_Dense),) \n",
        "le_Dense = LabelEncoder()                                                                     \n",
        "labels_Dense = le_Dense.fit_transform(labels_Dense)                                         #จะแปลงชื่อ class เป็นตัวเลข 1, 2, 0 \n",
        "labels_Dense = to_categorical(labels_Dense, num_classes=2)                    \n",
        "\n",
        "aug = ImageDataGenerator( rotation_range=15,\twidth_shift_range=0.1, \theight_shift_range=0.1,\n",
        "\t\tshear_range=0.15, \thorizontal_flip=True, \tfill_mode=\"nearest\")\n",
        "                                                                                                          \n",
        "callback = EarlyStopping( monitor= \"val_accuracy\",    patience=15,       mode=\"max\")\n",
        "\n",
        "# checkpoint = ModelCheckpoint(filepath, monitor='val_accuracy', verbose=1,   save_best_only=True, mode='max')\n",
        "                                                                                                            ##\n",
        "reduce_lr = ReduceLROnPlateau(monitor='val_accuracy', factor=0.5,   patience=6,     verbose=1, mode='max', min_lr=0.00001)"
      ],
      "metadata": {
        "outputId": "3f52f262-ffd4-40ae-8af3-bc174b331ad7",
        "colab": {
          "base_uri": "https://localhost:8080/"
        },
        "id": "Xf01GD1BOYlQ"
      },
      "execution_count": null,
      "outputs": [
        {
          "output_type": "stream",
          "name": "stderr",
          "text": [
            "100%|██████████| 451/451 [02:08<00:00,  3.50it/s]\n"
          ]
        }
      ]
    },
    {
      "cell_type": "code",
      "source": [
        "base_model_Dense = tf.keras.applications.DenseNet201(input_shape=(224, 224, 3), include_top=False, weights=\"imagenet\")\n",
        "base_model_Dense.trainable = True\n",
        "for layer in base_model_Dense.layers[:500]:    #fix w & bias in layer 0-500\n",
        "    layer.trainable = False\n",
        "#Add custom head\n",
        "average_pooling_layer = tf.keras.layers.GlobalAveragePooling2D()(base_model_Dense.output)\n",
        "prediction_layer = tf.keras.layers.Dense(units=2, activation=\"sigmoid\")(average_pooling_layer)   # unit 2\n",
        "model_Dense = tf.keras.models.Model(inputs=base_model_Dense.input, outputs=prediction_layer)\n",
        "model_Dense.compile(optimizer=Adam(learning_rate=0.0001), loss=\"binary_crossentropy\", metrics=[\"accuracy\"])\n",
        "\n",
        "### K-fold\n",
        "kf = KFold(5, shuffle=True, random_state=40) \n",
        "\n",
        "oos_y = []\n",
        "oos_pred = []\n",
        "fold = 0\n",
        "\n",
        "for train, test in kf.split(data_Dense):\n",
        "    fold+=1\n",
        "    print(f\"Fold #{fold}\")\n",
        "\n",
        "    filename = f\" {filepath}{fold}.h5 \"\n",
        "    checkpoint = ModelCheckpoint(filename, monitor='val_accuracy', verbose=1,   save_best_only=True, mode='max')\n",
        "\n",
        "    x_train_Dense = data_Dense[train]\n",
        "    y_train_Dense = labels_Dense[train]\n",
        "    x_test_Dense = data_Dense[test]\n",
        "    y_test_Dense = labels_Dense[test]\n",
        "\n",
        "    H_Dense = model_Dense.fit( x=aug.flow(x_train_Dense, y_train_Dense, batch_size=BS),\n",
        "\t                                            validation_data=(x_test_Dense, y_test_Dense),\n",
        "\t                                            steps_per_epoch=len(x_train_Dense) // BS,\n",
        "\t                                            epochs=30,  callbacks = [callback,checkpoint,reduce_lr])\n",
        "    \n",
        "    pred_Dense = model_Dense.predict(x_test_Dense)\n",
        "    \n",
        "    oos_y.append(y_test_Dense)\n",
        "    oos_pred.append(pred_Dense)  \n",
        "    print(classification_report(y_test_Dense.argmax(axis=1),\t                #แสดง report ค่า acc, recall, ...\n",
        "                                        pred_Dense.argmax(axis=1),  \n",
        "                                        target_names=le_Dense.classes_))   \n",
        "    \n",
        "oos_y = np.concatenate(oos_y)\n",
        "oos_pred = np.concatenate(oos_pred)\n",
        "print(classification_report(oos_y.argmax(axis=1), oos_pred.argmax(axis=1),  target_names=le_Dense.classes_))"
      ],
      "metadata": {
        "id": "43Yrt1Q0OYlR"
      },
      "execution_count": null,
      "outputs": []
    },
    {
      "cell_type": "markdown",
      "source": [
        "#### 32 sig pre bi sgd\n",
        "--> "
      ],
      "metadata": {
        "id": "AfM5WgycOYlR"
      }
    },
    {
      "cell_type": "code",
      "source": [
        "BS = 32\n",
        "filepath = \"Kmodel32_sig_pre_bi_sgd\"                  ##\n",
        "\n",
        "train_img_Dense = []\n",
        "for ImageName in tqdm(data_train3['ImageName']):               # รัน ชื่อรูป ในไฟล์ data_test3\n",
        "    image_path = All_3class_dir +'/' + ImageName                   # ดึงรูปในโฟล์เดอร์มาทีละรูป\n",
        "    img = cv2.imread(image_path)                                            # อ่านรูป\n",
        "    img = cv2.resize(img, (224, 224))                                       #ขนาดของ input\n",
        "    train_img_Dense.append(img)\n",
        "data_Dense = np.array(train_img_Dense, dtype=\"float32\") / 255.0\n",
        "\n",
        "labels_Dense = np.array(data_train3[['NameType']] )        \n",
        "labels_Dense.shape = (len(labels_Dense),) \n",
        "le_Dense = LabelEncoder()                                                                     \n",
        "labels_Dense = le_Dense.fit_transform(labels_Dense)                                         #จะแปลงชื่อ class เป็นตัวเลข 1, 2, 0 \n",
        "labels_Dense = to_categorical(labels_Dense, num_classes=2)                    \n",
        "\n",
        "aug = ImageDataGenerator( rotation_range=15,\twidth_shift_range=0.1, \theight_shift_range=0.1,\n",
        "\t\tshear_range=0.15, \thorizontal_flip=True, \tfill_mode=\"nearest\")\n",
        "                                                                                                          \n",
        "callback = EarlyStopping( monitor= \"val_accuracy\",    patience=15,       mode=\"max\")\n",
        "\n",
        "# checkpoint = ModelCheckpoint(filepath, monitor='val_accuracy', verbose=1,   save_best_only=True, mode='max')\n",
        "                                                                                                            ##\n",
        "reduce_lr = ReduceLROnPlateau(monitor='val_accuracy', factor=0.5,   patience=6,     verbose=1, mode='max', min_lr=0.00001)"
      ],
      "metadata": {
        "outputId": "3f52f262-ffd4-40ae-8af3-bc174b331ad7",
        "colab": {
          "base_uri": "https://localhost:8080/"
        },
        "id": "QEhy8iVFOYlR"
      },
      "execution_count": null,
      "outputs": [
        {
          "output_type": "stream",
          "name": "stderr",
          "text": [
            "100%|██████████| 451/451 [02:08<00:00,  3.50it/s]\n"
          ]
        }
      ]
    },
    {
      "cell_type": "code",
      "source": [
        "base_model_Dense = tf.keras.applications.DenseNet201(input_shape=(224, 224, 3), include_top=False, weights=\"imagenet\")\n",
        "base_model_Dense.trainable = True\n",
        "for layer in base_model_Dense.layers[:500]:    #fix w & bias in layer 0-500\n",
        "    layer.trainable = False\n",
        "#Add custom head\n",
        "average_pooling_layer = tf.keras.layers.GlobalAveragePooling2D()(base_model_Dense.output)\n",
        "prediction_layer = tf.keras.layers.Dense(units=2, activation=\"sigmoid\")(average_pooling_layer)   # unit 2\n",
        "model_Dense = tf.keras.models.Model(inputs=base_model_Dense.input, outputs=prediction_layer)\n",
        "model_Dense.compile(optimizer=SGD(learning_rate=0.0001), loss=\"binary_crossentropy\", metrics=[\"accuracy\"])\n",
        "\n",
        "### K-fold\n",
        "kf = KFold(5, shuffle=True, random_state=40) \n",
        "\n",
        "oos_y = []\n",
        "oos_pred = []\n",
        "fold = 0\n",
        "\n",
        "for train, test in kf.split(data_Dense):\n",
        "    fold+=1\n",
        "    print(f\"Fold #{fold}\")\n",
        "\n",
        "    filename = f\" {filepath}{fold}.h5 \"\n",
        "    checkpoint = ModelCheckpoint(filename, monitor='val_accuracy', verbose=1,   save_best_only=True, mode='max')\n",
        "\n",
        "    x_train_Dense = data_Dense[train]\n",
        "    y_train_Dense = labels_Dense[train]\n",
        "    x_test_Dense = data_Dense[test]\n",
        "    y_test_Dense = labels_Dense[test]\n",
        "\n",
        "    H_Dense = model_Dense.fit( x=aug.flow(x_train_Dense, y_train_Dense, batch_size=BS),\n",
        "\t                                            validation_data=(x_test_Dense, y_test_Dense),\n",
        "\t                                            steps_per_epoch=len(x_train_Dense) // BS,\n",
        "\t                                            epochs=30,  callbacks = [callback,checkpoint,reduce_lr])\n",
        "    \n",
        "    pred_Dense = model_Dense.predict(x_test_Dense)\n",
        "    \n",
        "    oos_y.append(y_test_Dense)\n",
        "    oos_pred.append(pred_Dense)  \n",
        "    print(classification_report(y_test_Dense.argmax(axis=1),\t                #แสดง report ค่า acc, recall, ...\n",
        "                                        pred_Dense.argmax(axis=1),  \n",
        "                                        target_names=le_Dense.classes_))   \n",
        "    \n",
        "oos_y = np.concatenate(oos_y)\n",
        "oos_pred = np.concatenate(oos_pred)\n",
        "print(classification_report(oos_y.argmax(axis=1), oos_pred.argmax(axis=1),  target_names=le_Dense.classes_))"
      ],
      "metadata": {
        "id": "lQ7AGs8yOYlR"
      },
      "execution_count": null,
      "outputs": []
    },
    {
      "cell_type": "markdown",
      "source": [
        "# 0-400 Sampling Ab  \n",
        "- sigmold\n",
        "- binary_crossentropy"
      ],
      "metadata": {
        "id": "ZKggz7_le_6C"
      }
    },
    {
      "cell_type": "markdown",
      "source": [
        "### 1"
      ],
      "metadata": {
        "id": "JXDtsbHKe_6D"
      }
    },
    {
      "cell_type": "markdown",
      "source": [
        "#### 1 sig pre bi\n",
        "--> "
      ],
      "metadata": {
        "id": "kqfVH9gDe_6E"
      }
    },
    {
      "cell_type": "code",
      "source": [
        "BS = 1\n",
        "filepath = \"Kmodel1_sig_pre_bi\"                  ##\n",
        "\n",
        "train_img_Dense = []\n",
        "for ImageName in tqdm(data_train3['ImageName']):               # รัน ชื่อรูป ในไฟล์ data_test3\n",
        "    image_path = All_3class_dir +'/' + ImageName                   # ดึงรูปในโฟล์เดอร์มาทีละรูป\n",
        "    img = cv2.imread(image_path)                                            # อ่านรูป\n",
        "    img = cv2.resize(img, (224, 224))                                       #ขนาดของ input\n",
        "    train_img_Dense.append(img)\n",
        "data_Dense = np.array(train_img_Dense, dtype=\"float32\") / 255.0\n",
        "\n",
        "labels_Dense = np.array(data_train3[['NameType']] )        \n",
        "labels_Dense.shape = (len(labels_Dense),) \n",
        "le_Dense = LabelEncoder()                                                                     \n",
        "labels_Dense = le_Dense.fit_transform(labels_Dense)                                         #จะแปลงชื่อ class เป็นตัวเลข 1, 2, 0 \n",
        "labels_Dense = to_categorical(labels_Dense, num_classes=2)                    \n",
        "\n",
        "aug = ImageDataGenerator( rotation_range=15,\twidth_shift_range=0.1, \theight_shift_range=0.1,\n",
        "\t\tshear_range=0.15, \thorizontal_flip=True, \tfill_mode=\"nearest\")\n",
        "                                                                                                          \n",
        "callback = EarlyStopping( monitor= \"val_accuracy\",    patience=15,       mode=\"max\")\n",
        "\n",
        "# checkpoint = ModelCheckpoint(filepath, monitor='val_accuracy', verbose=1,   save_best_only=True, mode='max')\n",
        "                                                                                                            ##\n",
        "reduce_lr = ReduceLROnPlateau(monitor='val_accuracy', factor=0.5,   patience=6,     verbose=1, mode='max', min_lr=0.00001)"
      ],
      "metadata": {
        "outputId": "8741a3e8-2d19-43a6-8086-241819a23a7f",
        "colab": {
          "base_uri": "https://localhost:8080/"
        },
        "id": "6zjRq9mRe_6E"
      },
      "execution_count": null,
      "outputs": [
        {
          "output_type": "stream",
          "name": "stderr",
          "text": [
            "100%|██████████| 451/451 [00:10<00:00, 44.85it/s]\n"
          ]
        }
      ]
    },
    {
      "cell_type": "code",
      "source": [
        "base_model_Dense = tf.keras.applications.DenseNet201(input_shape=(224, 224, 3), include_top=False, weights=\"imagenet\")\n",
        "base_model_Dense.trainable = True\n",
        "for layer in base_model_Dense.layers[:400]:    #fix w & bias in layer 0-400\n",
        "    layer.trainable = False\n",
        "#Add custom head\n",
        "average_pooling_layer = tf.keras.layers.GlobalAveragePooling2D()(base_model_Dense.output)\n",
        "prediction_layer = tf.keras.layers.Dense(units=2, activation=\"sigmoid\")(average_pooling_layer)   # unit 2\n",
        "model_Dense = tf.keras.models.Model(inputs=base_model_Dense.input, outputs=prediction_layer)\n",
        "model_Dense.compile(optimizer=tf.keras.optimizers.RMSprop(learning_rate=0.0001), loss=\"binary_crossentropy\", metrics=[\"accuracy\"])\n",
        "\n",
        "### K-fold\n",
        "kf = KFold(5, shuffle=True, random_state=40) \n",
        "\n",
        "oos_y = []\n",
        "oos_pred = []\n",
        "fold = 0\n",
        "\n",
        "for train, test in kf.split(data_Dense):\n",
        "    fold+=1\n",
        "    print(f\"Fold #{fold}\")\n",
        "\n",
        "    filename = f\" {filepath}{fold}.h5 \"\n",
        "    checkpoint = ModelCheckpoint(filename, monitor='val_accuracy', verbose=1,   save_best_only=True, mode='max')\n",
        "\n",
        "    x_train_Dense = data_Dense[train]\n",
        "    y_train_Dense = labels_Dense[train]\n",
        "    x_test_Dense = data_Dense[test]\n",
        "    y_test_Dense = labels_Dense[test]\n",
        "\n",
        "    H_Dense = model_Dense.fit( x=aug.flow(x_train_Dense, y_train_Dense, batch_size=BS),\n",
        "\t                                            validation_data=(x_test_Dense, y_test_Dense),\n",
        "\t                                            steps_per_epoch=len(x_train_Dense) // BS,\n",
        "\t                                            epochs=30,  callbacks = [callback,checkpoint,reduce_lr])\n",
        "    \n",
        "    pred_Dense = model_Dense.predict(x_test_Dense)\n",
        "    \n",
        "    oos_y.append(y_test_Dense)\n",
        "    oos_pred.append(pred_Dense)  \n",
        "    print(classification_report(y_test_Dense.argmax(axis=1),\t                #แสดง report ค่า acc, recall, ...\n",
        "                                        pred_Dense.argmax(axis=1),  \n",
        "                                        target_names=le_Dense.classes_))   \n",
        "    \n",
        "oos_y = np.concatenate(oos_y)\n",
        "oos_pred = np.concatenate(oos_pred)\n",
        "print(classification_report(oos_y.argmax(axis=1), oos_pred.argmax(axis=1),  target_names=le_Dense.classes_))"
      ],
      "metadata": {
        "id": "V3SJCCh1e_6F"
      },
      "execution_count": null,
      "outputs": []
    },
    {
      "cell_type": "markdown",
      "source": [
        "#### 1 sig pre bi adam\n",
        "--> "
      ],
      "metadata": {
        "id": "sEfgJRN6e_6F"
      }
    },
    {
      "cell_type": "code",
      "source": [
        "BS = 1\n",
        "filepath = \"Kmodel1_sig_pre_bi_adam\"                  ##\n",
        "\n",
        "train_img_Dense = []\n",
        "for ImageName in tqdm(data_train3['ImageName']):               # รัน ชื่อรูป ในไฟล์ data_test3\n",
        "    image_path = All_3class_dir +'/' + ImageName                   # ดึงรูปในโฟล์เดอร์มาทีละรูป\n",
        "    img = cv2.imread(image_path)                                            # อ่านรูป\n",
        "    img = cv2.resize(img, (224, 224))                                       #ขนาดของ input\n",
        "    train_img_Dense.append(img)\n",
        "data_Dense = np.array(train_img_Dense, dtype=\"float32\") / 255.0\n",
        "\n",
        "labels_Dense = np.array(data_train3[['NameType']] )        \n",
        "labels_Dense.shape = (len(labels_Dense),) \n",
        "le_Dense = LabelEncoder()                                                                     \n",
        "labels_Dense = le_Dense.fit_transform(labels_Dense)                                         #จะแปลงชื่อ class เป็นตัวเลข 1, 2, 0 \n",
        "labels_Dense = to_categorical(labels_Dense, num_classes=2)                    \n",
        "\n",
        "aug = ImageDataGenerator( rotation_range=15,\twidth_shift_range=0.1, \theight_shift_range=0.1,\n",
        "\t\tshear_range=0.15, \thorizontal_flip=True, \tfill_mode=\"nearest\")\n",
        "                                                                                                          \n",
        "callback = EarlyStopping( monitor= \"val_accuracy\",    patience=15,       mode=\"max\")\n",
        "\n",
        "# checkpoint = ModelCheckpoint(filepath, monitor='val_accuracy', verbose=1,   save_best_only=True, mode='max')\n",
        "                                                                                                            ##\n",
        "reduce_lr = ReduceLROnPlateau(monitor='val_accuracy', factor=0.5,   patience=6,     verbose=1, mode='max', min_lr=0.00001)"
      ],
      "metadata": {
        "outputId": "3f52f262-ffd4-40ae-8af3-bc174b331ad7",
        "colab": {
          "base_uri": "https://localhost:8080/"
        },
        "id": "HWjEDXo2e_6F"
      },
      "execution_count": null,
      "outputs": [
        {
          "output_type": "stream",
          "name": "stderr",
          "text": [
            "100%|██████████| 451/451 [02:08<00:00,  3.50it/s]\n"
          ]
        }
      ]
    },
    {
      "cell_type": "code",
      "source": [
        "base_model_Dense = tf.keras.applications.DenseNet201(input_shape=(224, 224, 3), include_top=False, weights=\"imagenet\")\n",
        "base_model_Dense.trainable = True\n",
        "for layer in base_model_Dense.layers[:400]:    #fix w & bias in layer 0-400\n",
        "    layer.trainable = False\n",
        "#Add custom head\n",
        "average_pooling_layer = tf.keras.layers.GlobalAveragePooling2D()(base_model_Dense.output)\n",
        "prediction_layer = tf.keras.layers.Dense(units=2, activation=\"sigmoid\")(average_pooling_layer)   # unit 2\n",
        "model_Dense = tf.keras.models.Model(inputs=base_model_Dense.input, outputs=prediction_layer)\n",
        "model_Dense.compile(optimizer=Adam(learning_rate=0.0001), loss=\"binary_crossentropy\", metrics=[\"accuracy\"])\n",
        "\n",
        "### K-fold\n",
        "kf = KFold(5, shuffle=True, random_state=40) \n",
        "\n",
        "oos_y = []\n",
        "oos_pred = []\n",
        "fold = 0\n",
        "\n",
        "for train, test in kf.split(data_Dense):\n",
        "    fold+=1\n",
        "    print(f\"Fold #{fold}\")\n",
        "\n",
        "    filename = f\" {filepath}{fold}.h5 \"\n",
        "    checkpoint = ModelCheckpoint(filename, monitor='val_accuracy', verbose=1,   save_best_only=True, mode='max')\n",
        "\n",
        "    x_train_Dense = data_Dense[train]\n",
        "    y_train_Dense = labels_Dense[train]\n",
        "    x_test_Dense = data_Dense[test]\n",
        "    y_test_Dense = labels_Dense[test]\n",
        "\n",
        "    H_Dense = model_Dense.fit( x=aug.flow(x_train_Dense, y_train_Dense, batch_size=BS),\n",
        "\t                                            validation_data=(x_test_Dense, y_test_Dense),\n",
        "\t                                            steps_per_epoch=len(x_train_Dense) // BS,\n",
        "\t                                            epochs=30,  callbacks = [callback,checkpoint,reduce_lr])\n",
        "    \n",
        "    pred_Dense = model_Dense.predict(x_test_Dense)\n",
        "    \n",
        "    oos_y.append(y_test_Dense)\n",
        "    oos_pred.append(pred_Dense)  \n",
        "    print(classification_report(y_test_Dense.argmax(axis=1),\t                #แสดง report ค่า acc, recall, ...\n",
        "                                        pred_Dense.argmax(axis=1),  \n",
        "                                        target_names=le_Dense.classes_))   \n",
        "    \n",
        "oos_y = np.concatenate(oos_y)\n",
        "oos_pred = np.concatenate(oos_pred)\n",
        "print(classification_report(oos_y.argmax(axis=1), oos_pred.argmax(axis=1),  target_names=le_Dense.classes_))"
      ],
      "metadata": {
        "id": "6X2WCYYwe_6G"
      },
      "execution_count": null,
      "outputs": []
    },
    {
      "cell_type": "markdown",
      "source": [
        "#### 1 sig pre bi sgd\n",
        "--> "
      ],
      "metadata": {
        "id": "ovN5rWU_e_6G"
      }
    },
    {
      "cell_type": "code",
      "source": [
        "BS = 1\n",
        "filepath = \"Kmodel1_sig_pre_bi_sgd\"                  ##\n",
        "\n",
        "train_img_Dense = []\n",
        "for ImageName in tqdm(data_train3['ImageName']):               # รัน ชื่อรูป ในไฟล์ data_test3\n",
        "    image_path = All_3class_dir +'/' + ImageName                   # ดึงรูปในโฟล์เดอร์มาทีละรูป\n",
        "    img = cv2.imread(image_path)                                            # อ่านรูป\n",
        "    img = cv2.resize(img, (224, 224))                                       #ขนาดของ input\n",
        "    train_img_Dense.append(img)\n",
        "data_Dense = np.array(train_img_Dense, dtype=\"float32\") / 255.0\n",
        "\n",
        "labels_Dense = np.array(data_train3[['NameType']] )        \n",
        "labels_Dense.shape = (len(labels_Dense),) \n",
        "le_Dense = LabelEncoder()                                                                     \n",
        "labels_Dense = le_Dense.fit_transform(labels_Dense)                                         #จะแปลงชื่อ class เป็นตัวเลข 1, 2, 0 \n",
        "labels_Dense = to_categorical(labels_Dense, num_classes=2)                    \n",
        "\n",
        "aug = ImageDataGenerator( rotation_range=15,\twidth_shift_range=0.1, \theight_shift_range=0.1,\n",
        "\t\tshear_range=0.15, \thorizontal_flip=True, \tfill_mode=\"nearest\")\n",
        "                                                                                                          \n",
        "callback = EarlyStopping( monitor= \"val_accuracy\",    patience=15,       mode=\"max\")\n",
        "\n",
        "# checkpoint = ModelCheckpoint(filepath, monitor='val_accuracy', verbose=1,   save_best_only=True, mode='max')\n",
        "                                                                                                            ##\n",
        "reduce_lr = ReduceLROnPlateau(monitor='val_accuracy', factor=0.5,   patience=6,     verbose=1, mode='max', min_lr=0.00001)"
      ],
      "metadata": {
        "outputId": "3f52f262-ffd4-40ae-8af3-bc174b331ad7",
        "colab": {
          "base_uri": "https://localhost:8080/"
        },
        "id": "AqxfMTm6e_6G"
      },
      "execution_count": null,
      "outputs": [
        {
          "output_type": "stream",
          "name": "stderr",
          "text": [
            "100%|██████████| 451/451 [02:08<00:00,  3.50it/s]\n"
          ]
        }
      ]
    },
    {
      "cell_type": "code",
      "source": [
        "base_model_Dense = tf.keras.applications.DenseNet201(input_shape=(224, 224, 3), include_top=False, weights=\"imagenet\")\n",
        "base_model_Dense.trainable = True\n",
        "for layer in base_model_Dense.layers[:400]:    #fix w & bias in layer 0-400\n",
        "    layer.trainable = False\n",
        "#Add custom head\n",
        "average_pooling_layer = tf.keras.layers.GlobalAveragePooling2D()(base_model_Dense.output)\n",
        "prediction_layer = tf.keras.layers.Dense(units=2, activation=\"sigmoid\")(average_pooling_layer)   # unit 2\n",
        "model_Dense = tf.keras.models.Model(inputs=base_model_Dense.input, outputs=prediction_layer)\n",
        "model_Dense.compile(optimizer=SGD(learning_rate=0.0001), loss=\"binary_crossentropy\", metrics=[\"accuracy\"])\n",
        "\n",
        "### K-fold\n",
        "kf = KFold(5, shuffle=True, random_state=40) \n",
        "\n",
        "oos_y = []\n",
        "oos_pred = []\n",
        "fold = 0\n",
        "\n",
        "for train, test in kf.split(data_Dense):\n",
        "    fold+=1\n",
        "    print(f\"Fold #{fold}\")\n",
        "\n",
        "    filename = f\" {filepath}{fold}.h5 \"\n",
        "    checkpoint = ModelCheckpoint(filename, monitor='val_accuracy', verbose=1,   save_best_only=True, mode='max')\n",
        "\n",
        "    x_train_Dense = data_Dense[train]\n",
        "    y_train_Dense = labels_Dense[train]\n",
        "    x_test_Dense = data_Dense[test]\n",
        "    y_test_Dense = labels_Dense[test]\n",
        "\n",
        "    H_Dense = model_Dense.fit( x=aug.flow(x_train_Dense, y_train_Dense, batch_size=BS),\n",
        "\t                                            validation_data=(x_test_Dense, y_test_Dense),\n",
        "\t                                            steps_per_epoch=len(x_train_Dense) // BS,\n",
        "\t                                            epochs=30,  callbacks = [callback,checkpoint,reduce_lr])\n",
        "    \n",
        "    pred_Dense = model_Dense.predict(x_test_Dense)\n",
        "    \n",
        "    oos_y.append(y_test_Dense)\n",
        "    oos_pred.append(pred_Dense)  \n",
        "    print(classification_report(y_test_Dense.argmax(axis=1),\t                #แสดง report ค่า acc, recall, ...\n",
        "                                        pred_Dense.argmax(axis=1),  \n",
        "                                        target_names=le_Dense.classes_))   \n",
        "    \n",
        "oos_y = np.concatenate(oos_y)\n",
        "oos_pred = np.concatenate(oos_pred)\n",
        "print(classification_report(oos_y.argmax(axis=1), oos_pred.argmax(axis=1),  target_names=le_Dense.classes_))"
      ],
      "metadata": {
        "id": "-nxb38QVe_6H"
      },
      "execution_count": null,
      "outputs": []
    },
    {
      "cell_type": "markdown",
      "source": [
        "### 8"
      ],
      "metadata": {
        "id": "7JMr3fVKe_6H"
      }
    },
    {
      "cell_type": "markdown",
      "source": [
        "#### 8  sig pre bi\n",
        "--> "
      ],
      "metadata": {
        "id": "Al-crfSke_6H"
      }
    },
    {
      "cell_type": "code",
      "source": [
        "BS = 8\n",
        "filepath = \"Kmodel8_sig_pre_bi\"                  ##\n",
        "\n",
        "train_img_Dense = []\n",
        "for ImageName in tqdm(data_train3['ImageName']):               # รัน ชื่อรูป ในไฟล์ data_test3\n",
        "    image_path = All_3class_dir +'/' + ImageName                   # ดึงรูปในโฟล์เดอร์มาทีละรูป\n",
        "    img = cv2.imread(image_path)                                            # อ่านรูป\n",
        "    img = cv2.resize(img, (224, 224))                                       #ขนาดของ input\n",
        "    train_img_Dense.append(img)\n",
        "data_Dense = np.array(train_img_Dense, dtype=\"float32\") / 255.0\n",
        "\n",
        "labels_Dense = np.array(data_train3[['NameType']] )        \n",
        "labels_Dense.shape = (len(labels_Dense),) \n",
        "le_Dense = LabelEncoder()                                                                     \n",
        "labels_Dense = le_Dense.fit_transform(labels_Dense)                                         #จะแปลงชื่อ class เป็นตัวเลข 1, 2, 0 \n",
        "labels_Dense = to_categorical(labels_Dense, num_classes=2)                    \n",
        "\n",
        "aug = ImageDataGenerator( rotation_range=15,\twidth_shift_range=0.1, \theight_shift_range=0.1,\n",
        "\t\tshear_range=0.15, \thorizontal_flip=True, \tfill_mode=\"nearest\")\n",
        "                                                                                                          \n",
        "callback = EarlyStopping( monitor= \"val_accuracy\",    patience=15,       mode=\"max\")\n",
        "\n",
        "# checkpoint = ModelCheckpoint(filepath, monitor='val_accuracy', verbose=1,   save_best_only=True, mode='max')\n",
        "                                                                                                            ##\n",
        "reduce_lr = ReduceLROnPlateau(monitor='val_accuracy', factor=0.5,   patience=6,     verbose=1, mode='max', min_lr=0.00001)"
      ],
      "metadata": {
        "outputId": "8741a3e8-2d19-43a6-8086-241819a23a7f",
        "colab": {
          "base_uri": "https://localhost:8080/"
        },
        "id": "VmqAK6Bye_6H"
      },
      "execution_count": null,
      "outputs": [
        {
          "output_type": "stream",
          "name": "stderr",
          "text": [
            "100%|██████████| 451/451 [00:10<00:00, 44.85it/s]\n"
          ]
        }
      ]
    },
    {
      "cell_type": "code",
      "source": [
        "base_model_Dense = tf.keras.applications.DenseNet201(input_shape=(224, 224, 3), include_top=False, weights=\"imagenet\")\n",
        "base_model_Dense.trainable = True\n",
        "for layer in base_model_Dense.layers[:400]:    #fix w & bias in layer 0-400\n",
        "    layer.trainable = False\n",
        "#Add custom head\n",
        "average_pooling_layer = tf.keras.layers.GlobalAveragePooling2D()(base_model_Dense.output)\n",
        "prediction_layer = tf.keras.layers.Dense(units=2, activation=\"sigmoid\")(average_pooling_layer)   # unit 2\n",
        "model_Dense = tf.keras.models.Model(inputs=base_model_Dense.input, outputs=prediction_layer)\n",
        "model_Dense.compile(optimizer=tf.keras.optimizers.RMSprop(learning_rate=0.0001), loss=\"binary_crossentropy\", metrics=[\"accuracy\"])\n",
        "\n",
        "### K-fold\n",
        "kf = KFold(5, shuffle=True, random_state=40) \n",
        "\n",
        "oos_y = []\n",
        "oos_pred = []\n",
        "fold = 0\n",
        "\n",
        "for train, test in kf.split(data_Dense):\n",
        "    fold+=1\n",
        "    print(f\"Fold #{fold}\")\n",
        "\n",
        "    filename = f\" {filepath}{fold}.h5 \"\n",
        "    checkpoint = ModelCheckpoint(filename, monitor='val_accuracy', verbose=1,   save_best_only=True, mode='max')\n",
        "\n",
        "    x_train_Dense = data_Dense[train]\n",
        "    y_train_Dense = labels_Dense[train]\n",
        "    x_test_Dense = data_Dense[test]\n",
        "    y_test_Dense = labels_Dense[test]\n",
        "\n",
        "    H_Dense = model_Dense.fit( x=aug.flow(x_train_Dense, y_train_Dense, batch_size=BS),\n",
        "\t                                            validation_data=(x_test_Dense, y_test_Dense),\n",
        "\t                                            steps_per_epoch=len(x_train_Dense) // BS,\n",
        "\t                                            epochs=30,  callbacks = [callback,checkpoint,reduce_lr])\n",
        "    \n",
        "    pred_Dense = model_Dense.predict(x_test_Dense)\n",
        "    \n",
        "    oos_y.append(y_test_Dense)\n",
        "    oos_pred.append(pred_Dense)  \n",
        "    print(classification_report(y_test_Dense.argmax(axis=1),\t                #แสดง report ค่า acc, recall, ...\n",
        "                                        pred_Dense.argmax(axis=1),  \n",
        "                                        target_names=le_Dense.classes_))   \n",
        "    \n",
        "oos_y = np.concatenate(oos_y)\n",
        "oos_pred = np.concatenate(oos_pred)\n",
        "print(classification_report(oos_y.argmax(axis=1), oos_pred.argmax(axis=1),  target_names=le_Dense.classes_))"
      ],
      "metadata": {
        "id": "zbEOzRNpe_6I"
      },
      "execution_count": null,
      "outputs": []
    },
    {
      "cell_type": "markdown",
      "source": [
        "#### 8 sig pre bi adam\n",
        "--> "
      ],
      "metadata": {
        "id": "pNMF0l_Le_6I"
      }
    },
    {
      "cell_type": "code",
      "source": [
        "BS = 8\n",
        "filepath = \"Kmodel8_sig_pre_bi_adam\"                  ##\n",
        "\n",
        "train_img_Dense = []\n",
        "for ImageName in tqdm(data_train3['ImageName']):               # รัน ชื่อรูป ในไฟล์ data_test3\n",
        "    image_path = All_3class_dir +'/' + ImageName                   # ดึงรูปในโฟล์เดอร์มาทีละรูป\n",
        "    img = cv2.imread(image_path)                                            # อ่านรูป\n",
        "    img = cv2.resize(img, (224, 224))                                       #ขนาดของ input\n",
        "    train_img_Dense.append(img)\n",
        "data_Dense = np.array(train_img_Dense, dtype=\"float32\") / 255.0\n",
        "\n",
        "labels_Dense = np.array(data_train3[['NameType']] )        \n",
        "labels_Dense.shape = (len(labels_Dense),) \n",
        "le_Dense = LabelEncoder()                                                                     \n",
        "labels_Dense = le_Dense.fit_transform(labels_Dense)                                         #จะแปลงชื่อ class เป็นตัวเลข 1, 2, 0 \n",
        "labels_Dense = to_categorical(labels_Dense, num_classes=2)                    \n",
        "\n",
        "aug = ImageDataGenerator( rotation_range=15,\twidth_shift_range=0.1, \theight_shift_range=0.1,\n",
        "\t\tshear_range=0.15, \thorizontal_flip=True, \tfill_mode=\"nearest\")\n",
        "                                                                                                          \n",
        "callback = EarlyStopping( monitor= \"val_accuracy\",    patience=15,       mode=\"max\")\n",
        "\n",
        "# checkpoint = ModelCheckpoint(filepath, monitor='val_accuracy', verbose=1,   save_best_only=True, mode='max')\n",
        "                                                                                                            ##\n",
        "reduce_lr = ReduceLROnPlateau(monitor='val_accuracy', factor=0.5,   patience=6,     verbose=1, mode='max', min_lr=0.00001)"
      ],
      "metadata": {
        "outputId": "3f52f262-ffd4-40ae-8af3-bc174b331ad7",
        "colab": {
          "base_uri": "https://localhost:8080/"
        },
        "id": "10poId1pe_6J"
      },
      "execution_count": null,
      "outputs": [
        {
          "output_type": "stream",
          "name": "stderr",
          "text": [
            "100%|██████████| 451/451 [02:08<00:00,  3.50it/s]\n"
          ]
        }
      ]
    },
    {
      "cell_type": "code",
      "source": [
        "base_model_Dense = tf.keras.applications.DenseNet201(input_shape=(224, 224, 3), include_top=False, weights=\"imagenet\")\n",
        "base_model_Dense.trainable = True\n",
        "for layer in base_model_Dense.layers[:400]:    #fix w & bias in layer 0-400\n",
        "    layer.trainable = False\n",
        "#Add custom head\n",
        "average_pooling_layer = tf.keras.layers.GlobalAveragePooling2D()(base_model_Dense.output)\n",
        "prediction_layer = tf.keras.layers.Dense(units=2, activation=\"sigmoid\")(average_pooling_layer)   # unit 2\n",
        "model_Dense = tf.keras.models.Model(inputs=base_model_Dense.input, outputs=prediction_layer)\n",
        "model_Dense.compile(optimizer=Adam(learning_rate=0.0001), loss=\"binary_crossentropy\", metrics=[\"accuracy\"])\n",
        "\n",
        "### K-fold\n",
        "kf = KFold(5, shuffle=True, random_state=40) \n",
        "\n",
        "oos_y = []\n",
        "oos_pred = []\n",
        "fold = 0\n",
        "\n",
        "for train, test in kf.split(data_Dense):\n",
        "    fold+=1\n",
        "    print(f\"Fold #{fold}\")\n",
        "\n",
        "    filename = f\" {filepath}{fold}.h5 \"\n",
        "    checkpoint = ModelCheckpoint(filename, monitor='val_accuracy', verbose=1,   save_best_only=True, mode='max')\n",
        "\n",
        "    x_train_Dense = data_Dense[train]\n",
        "    y_train_Dense = labels_Dense[train]\n",
        "    x_test_Dense = data_Dense[test]\n",
        "    y_test_Dense = labels_Dense[test]\n",
        "\n",
        "    H_Dense = model_Dense.fit( x=aug.flow(x_train_Dense, y_train_Dense, batch_size=BS),\n",
        "\t                                            validation_data=(x_test_Dense, y_test_Dense),\n",
        "\t                                            steps_per_epoch=len(x_train_Dense) // BS,\n",
        "\t                                            epochs=30,  callbacks = [callback,checkpoint,reduce_lr])\n",
        "    \n",
        "    pred_Dense = model_Dense.predict(x_test_Dense)\n",
        "    \n",
        "    oos_y.append(y_test_Dense)\n",
        "    oos_pred.append(pred_Dense)  \n",
        "    print(classification_report(y_test_Dense.argmax(axis=1),\t                #แสดง report ค่า acc, recall, ...\n",
        "                                        pred_Dense.argmax(axis=1),  \n",
        "                                        target_names=le_Dense.classes_))   \n",
        "    \n",
        "oos_y = np.concatenate(oos_y)\n",
        "oos_pred = np.concatenate(oos_pred)\n",
        "print(classification_report(oos_y.argmax(axis=1), oos_pred.argmax(axis=1),  target_names=le_Dense.classes_))"
      ],
      "metadata": {
        "id": "Ta3weJEIe_6J"
      },
      "execution_count": null,
      "outputs": []
    },
    {
      "cell_type": "markdown",
      "source": [
        "#### 8 sig pre bi sgd\n",
        "--> "
      ],
      "metadata": {
        "id": "bAEOJ6K4e_6J"
      }
    },
    {
      "cell_type": "code",
      "source": [
        "BS = 8\n",
        "filepath = \"Kmodel8_sig_pre_bi_sgd\"                  ##\n",
        "\n",
        "train_img_Dense = []\n",
        "for ImageName in tqdm(data_train3['ImageName']):               # รัน ชื่อรูป ในไฟล์ data_test3\n",
        "    image_path = All_3class_dir +'/' + ImageName                   # ดึงรูปในโฟล์เดอร์มาทีละรูป\n",
        "    img = cv2.imread(image_path)                                            # อ่านรูป\n",
        "    img = cv2.resize(img, (224, 224))                                       #ขนาดของ input\n",
        "    train_img_Dense.append(img)\n",
        "data_Dense = np.array(train_img_Dense, dtype=\"float32\") / 255.0\n",
        "\n",
        "labels_Dense = np.array(data_train3[['NameType']] )        \n",
        "labels_Dense.shape = (len(labels_Dense),) \n",
        "le_Dense = LabelEncoder()                                                                     \n",
        "labels_Dense = le_Dense.fit_transform(labels_Dense)                                         #จะแปลงชื่อ class เป็นตัวเลข 1, 2, 0 \n",
        "labels_Dense = to_categorical(labels_Dense, num_classes=2)                    \n",
        "\n",
        "aug = ImageDataGenerator( rotation_range=15,\twidth_shift_range=0.1, \theight_shift_range=0.1,\n",
        "\t\tshear_range=0.15, \thorizontal_flip=True, \tfill_mode=\"nearest\")\n",
        "                                                                                                          \n",
        "callback = EarlyStopping( monitor= \"val_accuracy\",    patience=15,       mode=\"max\")\n",
        "\n",
        "# checkpoint = ModelCheckpoint(filepath, monitor='val_accuracy', verbose=1,   save_best_only=True, mode='max')\n",
        "                                                                                                            ##\n",
        "reduce_lr = ReduceLROnPlateau(monitor='val_accuracy', factor=0.5,   patience=6,     verbose=1, mode='max', min_lr=0.00001)"
      ],
      "metadata": {
        "outputId": "3f52f262-ffd4-40ae-8af3-bc174b331ad7",
        "colab": {
          "base_uri": "https://localhost:8080/"
        },
        "id": "JNnZzCmYe_6K"
      },
      "execution_count": null,
      "outputs": [
        {
          "output_type": "stream",
          "name": "stderr",
          "text": [
            "100%|██████████| 451/451 [02:08<00:00,  3.50it/s]\n"
          ]
        }
      ]
    },
    {
      "cell_type": "code",
      "source": [
        "base_model_Dense = tf.keras.applications.DenseNet201(input_shape=(224, 224, 3), include_top=False, weights=\"imagenet\")\n",
        "base_model_Dense.trainable = True\n",
        "for layer in base_model_Dense.layers[:400]:    #fix w & bias in layer 0-400\n",
        "    layer.trainable = False\n",
        "#Add custom head\n",
        "average_pooling_layer = tf.keras.layers.GlobalAveragePooling2D()(base_model_Dense.output)\n",
        "prediction_layer = tf.keras.layers.Dense(units=2, activation=\"sigmoid\")(average_pooling_layer)   # unit 2\n",
        "model_Dense = tf.keras.models.Model(inputs=base_model_Dense.input, outputs=prediction_layer)\n",
        "model_Dense.compile(optimizer=SGD(learning_rate=0.0001), loss=\"binary_crossentropy\", metrics=[\"accuracy\"])\n",
        "\n",
        "### K-fold\n",
        "kf = KFold(5, shuffle=True, random_state=40) \n",
        "\n",
        "oos_y = []\n",
        "oos_pred = []\n",
        "fold = 0\n",
        "\n",
        "for train, test in kf.split(data_Dense):\n",
        "    fold+=1\n",
        "    print(f\"Fold #{fold}\")\n",
        "\n",
        "    filename = f\" {filepath}{fold}.h5 \"\n",
        "    checkpoint = ModelCheckpoint(filename, monitor='val_accuracy', verbose=1,   save_best_only=True, mode='max')\n",
        "\n",
        "    x_train_Dense = data_Dense[train]\n",
        "    y_train_Dense = labels_Dense[train]\n",
        "    x_test_Dense = data_Dense[test]\n",
        "    y_test_Dense = labels_Dense[test]\n",
        "\n",
        "    H_Dense = model_Dense.fit( x=aug.flow(x_train_Dense, y_train_Dense, batch_size=BS),\n",
        "\t                                            validation_data=(x_test_Dense, y_test_Dense),\n",
        "\t                                            steps_per_epoch=len(x_train_Dense) // BS,\n",
        "\t                                            epochs=30,  callbacks = [callback,checkpoint,reduce_lr])\n",
        "    \n",
        "    pred_Dense = model_Dense.predict(x_test_Dense)\n",
        "    \n",
        "    oos_y.append(y_test_Dense)\n",
        "    oos_pred.append(pred_Dense)  \n",
        "    print(classification_report(y_test_Dense.argmax(axis=1),\t                #แสดง report ค่า acc, recall, ...\n",
        "                                        pred_Dense.argmax(axis=1),  \n",
        "                                        target_names=le_Dense.classes_))   \n",
        "    \n",
        "oos_y = np.concatenate(oos_y)\n",
        "oos_pred = np.concatenate(oos_pred)\n",
        "print(classification_report(oos_y.argmax(axis=1), oos_pred.argmax(axis=1),  target_names=le_Dense.classes_))"
      ],
      "metadata": {
        "id": "zdQzi_Obe_6K"
      },
      "execution_count": null,
      "outputs": []
    },
    {
      "cell_type": "markdown",
      "source": [
        "### 16"
      ],
      "metadata": {
        "id": "FhLwTXOGe_6K"
      }
    },
    {
      "cell_type": "markdown",
      "source": [
        "#### 16  sig pre bi\n",
        "--> "
      ],
      "metadata": {
        "id": "kB8aVH6Te_6L"
      }
    },
    {
      "cell_type": "code",
      "source": [
        "BS = 16\n",
        "filepath = \"Kmodel16_sig_pre_bi\"                  ##\n",
        "\n",
        "train_img_Dense = []\n",
        "for ImageName in tqdm(data_train3['ImageName']):               # รัน ชื่อรูป ในไฟล์ data_test3\n",
        "    image_path = All_3class_dir +'/' + ImageName                   # ดึงรูปในโฟล์เดอร์มาทีละรูป\n",
        "    img = cv2.imread(image_path)                                            # อ่านรูป\n",
        "    img = cv2.resize(img, (224, 224))                                       #ขนาดของ input\n",
        "    train_img_Dense.append(img)\n",
        "data_Dense = np.array(train_img_Dense, dtype=\"float32\") / 255.0\n",
        "\n",
        "labels_Dense = np.array(data_train3[['NameType']] )        \n",
        "labels_Dense.shape = (len(labels_Dense),) \n",
        "le_Dense = LabelEncoder()                                                                     \n",
        "labels_Dense = le_Dense.fit_transform(labels_Dense)                                         #จะแปลงชื่อ class เป็นตัวเลข 1, 2, 0 \n",
        "labels_Dense = to_categorical(labels_Dense, num_classes=2)                    \n",
        "\n",
        "aug = ImageDataGenerator( rotation_range=15,\twidth_shift_range=0.1, \theight_shift_range=0.1,\n",
        "\t\tshear_range=0.15, \thorizontal_flip=True, \tfill_mode=\"nearest\")\n",
        "                                                                                                          \n",
        "callback = EarlyStopping( monitor= \"val_accuracy\",    patience=15,       mode=\"max\")\n",
        "\n",
        "# checkpoint = ModelCheckpoint(filepath, monitor='val_accuracy', verbose=1,   save_best_only=True, mode='max')\n",
        "                                                                                                            ##\n",
        "reduce_lr = ReduceLROnPlateau(monitor='val_accuracy', factor=0.5,   patience=6,     verbose=1, mode='max', min_lr=0.00001)"
      ],
      "metadata": {
        "outputId": "8741a3e8-2d19-43a6-8086-241819a23a7f",
        "colab": {
          "base_uri": "https://localhost:8080/"
        },
        "id": "QOIJi57ye_6L"
      },
      "execution_count": null,
      "outputs": [
        {
          "output_type": "stream",
          "name": "stderr",
          "text": [
            "100%|██████████| 451/451 [00:10<00:00, 44.85it/s]\n"
          ]
        }
      ]
    },
    {
      "cell_type": "code",
      "source": [
        "base_model_Dense = tf.keras.applications.DenseNet201(input_shape=(224, 224, 3), include_top=False, weights=\"imagenet\")\n",
        "base_model_Dense.trainable = True\n",
        "for layer in base_model_Dense.layers[:400]:    #fix w & bias in layer 0-400\n",
        "    layer.trainable = False\n",
        "#Add custom head\n",
        "average_pooling_layer = tf.keras.layers.GlobalAveragePooling2D()(base_model_Dense.output)\n",
        "prediction_layer = tf.keras.layers.Dense(units=2, activation=\"sigmoid\")(average_pooling_layer)   # unit 2\n",
        "model_Dense = tf.keras.models.Model(inputs=base_model_Dense.input, outputs=prediction_layer)\n",
        "model_Dense.compile(optimizer=tf.keras.optimizers.RMSprop(learning_rate=0.0001), loss=\"binary_crossentropy\", metrics=[\"accuracy\"])\n",
        "\n",
        "### K-fold\n",
        "kf = KFold(5, shuffle=True, random_state=40) \n",
        "\n",
        "oos_y = []\n",
        "oos_pred = []\n",
        "fold = 0\n",
        "\n",
        "for train, test in kf.split(data_Dense):\n",
        "    fold+=1\n",
        "    print(f\"Fold #{fold}\")\n",
        "\n",
        "    filename = f\" {filepath}{fold}.h5 \"\n",
        "    checkpoint = ModelCheckpoint(filename, monitor='val_accuracy', verbose=1,   save_best_only=True, mode='max')\n",
        "\n",
        "    x_train_Dense = data_Dense[train]\n",
        "    y_train_Dense = labels_Dense[train]\n",
        "    x_test_Dense = data_Dense[test]\n",
        "    y_test_Dense = labels_Dense[test]\n",
        "\n",
        "    H_Dense = model_Dense.fit( x=aug.flow(x_train_Dense, y_train_Dense, batch_size=BS),\n",
        "\t                                            validation_data=(x_test_Dense, y_test_Dense),\n",
        "\t                                            steps_per_epoch=len(x_train_Dense) // BS,\n",
        "\t                                            epochs=30,  callbacks = [callback,checkpoint,reduce_lr])\n",
        "    \n",
        "    pred_Dense = model_Dense.predict(x_test_Dense)\n",
        "    \n",
        "    oos_y.append(y_test_Dense)\n",
        "    oos_pred.append(pred_Dense)  \n",
        "    print(classification_report(y_test_Dense.argmax(axis=1),\t                #แสดง report ค่า acc, recall, ...\n",
        "                                        pred_Dense.argmax(axis=1),  \n",
        "                                        target_names=le_Dense.classes_))   \n",
        "    \n",
        "oos_y = np.concatenate(oos_y)\n",
        "oos_pred = np.concatenate(oos_pred)\n",
        "print(classification_report(oos_y.argmax(axis=1), oos_pred.argmax(axis=1),  target_names=le_Dense.classes_))"
      ],
      "metadata": {
        "id": "MFKGGASZe_6L"
      },
      "execution_count": null,
      "outputs": []
    },
    {
      "cell_type": "markdown",
      "source": [
        "#### 16 sig pre bi adam\n",
        "--> "
      ],
      "metadata": {
        "id": "eeN_47Tie_6L"
      }
    },
    {
      "cell_type": "code",
      "source": [
        "BS = 16\n",
        "filepath = \"Kmodel16_sig_pre_bi_adam\"                  ##\n",
        "\n",
        "train_img_Dense = []\n",
        "for ImageName in tqdm(data_train3['ImageName']):               # รัน ชื่อรูป ในไฟล์ data_test3\n",
        "    image_path = All_3class_dir +'/' + ImageName                   # ดึงรูปในโฟล์เดอร์มาทีละรูป\n",
        "    img = cv2.imread(image_path)                                            # อ่านรูป\n",
        "    img = cv2.resize(img, (224, 224))                                       #ขนาดของ input\n",
        "    train_img_Dense.append(img)\n",
        "data_Dense = np.array(train_img_Dense, dtype=\"float32\") / 255.0\n",
        "\n",
        "labels_Dense = np.array(data_train3[['NameType']] )        \n",
        "labels_Dense.shape = (len(labels_Dense),) \n",
        "le_Dense = LabelEncoder()                                                                     \n",
        "labels_Dense = le_Dense.fit_transform(labels_Dense)                                         #จะแปลงชื่อ class เป็นตัวเลข 1, 2, 0 \n",
        "labels_Dense = to_categorical(labels_Dense, num_classes=2)                    \n",
        "\n",
        "aug = ImageDataGenerator( rotation_range=15,\twidth_shift_range=0.1, \theight_shift_range=0.1,\n",
        "\t\tshear_range=0.15, \thorizontal_flip=True, \tfill_mode=\"nearest\")\n",
        "                                                                                                          \n",
        "callback = EarlyStopping( monitor= \"val_accuracy\",    patience=15,       mode=\"max\")\n",
        "\n",
        "# checkpoint = ModelCheckpoint(filepath, monitor='val_accuracy', verbose=1,   save_best_only=True, mode='max')\n",
        "                                                                                                            ##\n",
        "reduce_lr = ReduceLROnPlateau(monitor='val_accuracy', factor=0.5,   patience=6,     verbose=1, mode='max', min_lr=0.00001)"
      ],
      "metadata": {
        "outputId": "3f52f262-ffd4-40ae-8af3-bc174b331ad7",
        "colab": {
          "base_uri": "https://localhost:8080/"
        },
        "id": "EWPA9EEFe_6L"
      },
      "execution_count": null,
      "outputs": [
        {
          "output_type": "stream",
          "name": "stderr",
          "text": [
            "100%|██████████| 451/451 [02:08<00:00,  3.50it/s]\n"
          ]
        }
      ]
    },
    {
      "cell_type": "code",
      "source": [
        "base_model_Dense = tf.keras.applications.DenseNet201(input_shape=(224, 224, 3), include_top=False, weights=\"imagenet\")\n",
        "base_model_Dense.trainable = True\n",
        "for layer in base_model_Dense.layers[:400]:    #fix w & bias in layer 0-400\n",
        "    layer.trainable = False\n",
        "#Add custom head\n",
        "average_pooling_layer = tf.keras.layers.GlobalAveragePooling2D()(base_model_Dense.output)\n",
        "prediction_layer = tf.keras.layers.Dense(units=2, activation=\"sigmoid\")(average_pooling_layer)   # unit 2\n",
        "model_Dense = tf.keras.models.Model(inputs=base_model_Dense.input, outputs=prediction_layer)\n",
        "model_Dense.compile(optimizer=Adam(learning_rate=0.0001), loss=\"binary_crossentropy\", metrics=[\"accuracy\"])\n",
        "\n",
        "### K-fold\n",
        "kf = KFold(5, shuffle=True, random_state=40) \n",
        "\n",
        "oos_y = []\n",
        "oos_pred = []\n",
        "fold = 0\n",
        "\n",
        "for train, test in kf.split(data_Dense):\n",
        "    fold+=1\n",
        "    print(f\"Fold #{fold}\")\n",
        "\n",
        "    filename = f\" {filepath}{fold}.h5 \"\n",
        "    checkpoint = ModelCheckpoint(filename, monitor='val_accuracy', verbose=1,   save_best_only=True, mode='max')\n",
        "\n",
        "    x_train_Dense = data_Dense[train]\n",
        "    y_train_Dense = labels_Dense[train]\n",
        "    x_test_Dense = data_Dense[test]\n",
        "    y_test_Dense = labels_Dense[test]\n",
        "\n",
        "    H_Dense = model_Dense.fit( x=aug.flow(x_train_Dense, y_train_Dense, batch_size=BS),\n",
        "\t                                            validation_data=(x_test_Dense, y_test_Dense),\n",
        "\t                                            steps_per_epoch=len(x_train_Dense) // BS,\n",
        "\t                                            epochs=30,  callbacks = [callback,checkpoint,reduce_lr])\n",
        "    \n",
        "    pred_Dense = model_Dense.predict(x_test_Dense)\n",
        "    \n",
        "    oos_y.append(y_test_Dense)\n",
        "    oos_pred.append(pred_Dense)  \n",
        "    print(classification_report(y_test_Dense.argmax(axis=1),\t                #แสดง report ค่า acc, recall, ...\n",
        "                                        pred_Dense.argmax(axis=1),  \n",
        "                                        target_names=le_Dense.classes_))   \n",
        "    \n",
        "oos_y = np.concatenate(oos_y)\n",
        "oos_pred = np.concatenate(oos_pred)\n",
        "print(classification_report(oos_y.argmax(axis=1), oos_pred.argmax(axis=1),  target_names=le_Dense.classes_))"
      ],
      "metadata": {
        "id": "_8jyj_eFe_6M"
      },
      "execution_count": null,
      "outputs": []
    },
    {
      "cell_type": "markdown",
      "source": [
        "#### 16 sig pre bi sgd\n",
        "--> "
      ],
      "metadata": {
        "id": "vKGKUT1ee_6M"
      }
    },
    {
      "cell_type": "code",
      "source": [
        "BS = 16\n",
        "filepath = \"Kmodel16_sig_pre_bi_sgd\"                  ##\n",
        "\n",
        "train_img_Dense = []\n",
        "for ImageName in tqdm(data_train3['ImageName']):               # รัน ชื่อรูป ในไฟล์ data_test3\n",
        "    image_path = All_3class_dir +'/' + ImageName                   # ดึงรูปในโฟล์เดอร์มาทีละรูป\n",
        "    img = cv2.imread(image_path)                                            # อ่านรูป\n",
        "    img = cv2.resize(img, (224, 224))                                       #ขนาดของ input\n",
        "    train_img_Dense.append(img)\n",
        "data_Dense = np.array(train_img_Dense, dtype=\"float32\") / 255.0\n",
        "\n",
        "labels_Dense = np.array(data_train3[['NameType']] )        \n",
        "labels_Dense.shape = (len(labels_Dense),) \n",
        "le_Dense = LabelEncoder()                                                                     \n",
        "labels_Dense = le_Dense.fit_transform(labels_Dense)                                         #จะแปลงชื่อ class เป็นตัวเลข 1, 2, 0 \n",
        "labels_Dense = to_categorical(labels_Dense, num_classes=2)                    \n",
        "\n",
        "aug = ImageDataGenerator( rotation_range=15,\twidth_shift_range=0.1, \theight_shift_range=0.1,\n",
        "\t\tshear_range=0.15, \thorizontal_flip=True, \tfill_mode=\"nearest\")\n",
        "                                                                                                          \n",
        "callback = EarlyStopping( monitor= \"val_accuracy\",    patience=15,       mode=\"max\")\n",
        "\n",
        "# checkpoint = ModelCheckpoint(filepath, monitor='val_accuracy', verbose=1,   save_best_only=True, mode='max')\n",
        "                                                                                                            ##\n",
        "reduce_lr = ReduceLROnPlateau(monitor='val_accuracy', factor=0.5,   patience=6,     verbose=1, mode='max', min_lr=0.00001)"
      ],
      "metadata": {
        "outputId": "3f52f262-ffd4-40ae-8af3-bc174b331ad7",
        "colab": {
          "base_uri": "https://localhost:8080/"
        },
        "id": "YV7i0dVye_6M"
      },
      "execution_count": null,
      "outputs": [
        {
          "output_type": "stream",
          "name": "stderr",
          "text": [
            "100%|██████████| 451/451 [02:08<00:00,  3.50it/s]\n"
          ]
        }
      ]
    },
    {
      "cell_type": "code",
      "source": [
        "base_model_Dense = tf.keras.applications.DenseNet201(input_shape=(224, 224, 3), include_top=False, weights=\"imagenet\")\n",
        "base_model_Dense.trainable = True\n",
        "for layer in base_model_Dense.layers[:400]:    #fix w & bias in layer 0-400\n",
        "    layer.trainable = False\n",
        "#Add custom head\n",
        "average_pooling_layer = tf.keras.layers.GlobalAveragePooling2D()(base_model_Dense.output)\n",
        "prediction_layer = tf.keras.layers.Dense(units=2, activation=\"sigmoid\")(average_pooling_layer)   # unit 2\n",
        "model_Dense = tf.keras.models.Model(inputs=base_model_Dense.input, outputs=prediction_layer)\n",
        "model_Dense.compile(optimizer=SGD(learning_rate=0.0001), loss=\"binary_crossentropy\", metrics=[\"accuracy\"])\n",
        "\n",
        "### K-fold\n",
        "kf = KFold(5, shuffle=True, random_state=40) \n",
        "\n",
        "oos_y = []\n",
        "oos_pred = []\n",
        "fold = 0\n",
        "\n",
        "for train, test in kf.split(data_Dense):\n",
        "    fold+=1\n",
        "    print(f\"Fold #{fold}\")\n",
        "\n",
        "    filename = f\" {filepath}{fold}.h5 \"\n",
        "    checkpoint = ModelCheckpoint(filename, monitor='val_accuracy', verbose=1,   save_best_only=True, mode='max')\n",
        "\n",
        "    x_train_Dense = data_Dense[train]\n",
        "    y_train_Dense = labels_Dense[train]\n",
        "    x_test_Dense = data_Dense[test]\n",
        "    y_test_Dense = labels_Dense[test]\n",
        "\n",
        "    H_Dense = model_Dense.fit( x=aug.flow(x_train_Dense, y_train_Dense, batch_size=BS),\n",
        "\t                                            validation_data=(x_test_Dense, y_test_Dense),\n",
        "\t                                            steps_per_epoch=len(x_train_Dense) // BS,\n",
        "\t                                            epochs=30,  callbacks = [callback,checkpoint,reduce_lr])\n",
        "    \n",
        "    pred_Dense = model_Dense.predict(x_test_Dense)\n",
        "    \n",
        "    oos_y.append(y_test_Dense)\n",
        "    oos_pred.append(pred_Dense)  \n",
        "    print(classification_report(y_test_Dense.argmax(axis=1),\t                #แสดง report ค่า acc, recall, ...\n",
        "                                        pred_Dense.argmax(axis=1),  \n",
        "                                        target_names=le_Dense.classes_))   \n",
        "    \n",
        "oos_y = np.concatenate(oos_y)\n",
        "oos_pred = np.concatenate(oos_pred)\n",
        "print(classification_report(oos_y.argmax(axis=1), oos_pred.argmax(axis=1),  target_names=le_Dense.classes_))"
      ],
      "metadata": {
        "id": "oFMKZtS2e_6N"
      },
      "execution_count": null,
      "outputs": []
    },
    {
      "cell_type": "markdown",
      "source": [
        "### 32"
      ],
      "metadata": {
        "id": "KAqL8bqHe_6N"
      }
    },
    {
      "cell_type": "markdown",
      "source": [
        "#### 32  sig pre bi\n",
        "--> "
      ],
      "metadata": {
        "id": "9zK2mHz2e_6N"
      }
    },
    {
      "cell_type": "code",
      "source": [
        "BS = 32\n",
        "filepath = \"Kmodel32_sig_pre_bi\"                  ##\n",
        "\n",
        "train_img_Dense = []\n",
        "for ImageName in tqdm(data_train3['ImageName']):               # รัน ชื่อรูป ในไฟล์ data_test3\n",
        "    image_path = All_3class_dir +'/' + ImageName                   # ดึงรูปในโฟล์เดอร์มาทีละรูป\n",
        "    img = cv2.imread(image_path)                                            # อ่านรูป\n",
        "    img = cv2.resize(img, (224, 224))                                       #ขนาดของ input\n",
        "    train_img_Dense.append(img)\n",
        "data_Dense = np.array(train_img_Dense, dtype=\"float32\") / 255.0\n",
        "\n",
        "labels_Dense = np.array(data_train3[['NameType']] )        \n",
        "labels_Dense.shape = (len(labels_Dense),) \n",
        "le_Dense = LabelEncoder()                                                                     \n",
        "labels_Dense = le_Dense.fit_transform(labels_Dense)                                         #จะแปลงชื่อ class เป็นตัวเลข 1, 2, 0 \n",
        "labels_Dense = to_categorical(labels_Dense, num_classes=2)                    \n",
        "\n",
        "aug = ImageDataGenerator( rotation_range=15,\twidth_shift_range=0.1, \theight_shift_range=0.1,\n",
        "\t\tshear_range=0.15, \thorizontal_flip=True, \tfill_mode=\"nearest\")\n",
        "                                                                                                          \n",
        "callback = EarlyStopping( monitor= \"val_accuracy\",    patience=15,       mode=\"max\")\n",
        "\n",
        "# checkpoint = ModelCheckpoint(filepath, monitor='val_accuracy', verbose=1,   save_best_only=True, mode='max')\n",
        "                                                                                                            ##\n",
        "reduce_lr = ReduceLROnPlateau(monitor='val_accuracy', factor=0.5,   patience=6,     verbose=1, mode='max', min_lr=0.00001)"
      ],
      "metadata": {
        "outputId": "8741a3e8-2d19-43a6-8086-241819a23a7f",
        "colab": {
          "base_uri": "https://localhost:8080/"
        },
        "id": "2K3nDMshe_6N"
      },
      "execution_count": null,
      "outputs": [
        {
          "output_type": "stream",
          "name": "stderr",
          "text": [
            "100%|██████████| 451/451 [00:10<00:00, 44.85it/s]\n"
          ]
        }
      ]
    },
    {
      "cell_type": "code",
      "source": [
        "base_model_Dense = tf.keras.applications.DenseNet201(input_shape=(224, 224, 3), include_top=False, weights=\"imagenet\")\n",
        "base_model_Dense.trainable = True\n",
        "for layer in base_model_Dense.layers[:400]:    #fix w & bias in layer 0-400\n",
        "    layer.trainable = False\n",
        "#Add custom head\n",
        "average_pooling_layer = tf.keras.layers.GlobalAveragePooling2D()(base_model_Dense.output)\n",
        "prediction_layer = tf.keras.layers.Dense(units=2, activation=\"sigmoid\")(average_pooling_layer)   # unit 2\n",
        "model_Dense = tf.keras.models.Model(inputs=base_model_Dense.input, outputs=prediction_layer)\n",
        "model_Dense.compile(optimizer=tf.keras.optimizers.RMSprop(learning_rate=0.0001), loss=\"binary_crossentropy\", metrics=[\"accuracy\"])\n",
        "\n",
        "### K-fold\n",
        "kf = KFold(5, shuffle=True, random_state=40) \n",
        "\n",
        "oos_y = []\n",
        "oos_pred = []\n",
        "fold = 0\n",
        "\n",
        "for train, test in kf.split(data_Dense):\n",
        "    fold+=1\n",
        "    print(f\"Fold #{fold}\")\n",
        "\n",
        "    filename = f\" {filepath}{fold}.h5 \"\n",
        "    checkpoint = ModelCheckpoint(filename, monitor='val_accuracy', verbose=1,   save_best_only=True, mode='max')\n",
        "\n",
        "    x_train_Dense = data_Dense[train]\n",
        "    y_train_Dense = labels_Dense[train]\n",
        "    x_test_Dense = data_Dense[test]\n",
        "    y_test_Dense = labels_Dense[test]\n",
        "\n",
        "    H_Dense = model_Dense.fit( x=aug.flow(x_train_Dense, y_train_Dense, batch_size=BS),\n",
        "\t                                            validation_data=(x_test_Dense, y_test_Dense),\n",
        "\t                                            steps_per_epoch=len(x_train_Dense) // BS,\n",
        "\t                                            epochs=30,  callbacks = [callback,checkpoint,reduce_lr])\n",
        "    \n",
        "    pred_Dense = model_Dense.predict(x_test_Dense)\n",
        "    \n",
        "    oos_y.append(y_test_Dense)\n",
        "    oos_pred.append(pred_Dense)  \n",
        "    print(classification_report(y_test_Dense.argmax(axis=1),\t                #แสดง report ค่า acc, recall, ...\n",
        "                                        pred_Dense.argmax(axis=1),  \n",
        "                                        target_names=le_Dense.classes_))   \n",
        "    \n",
        "oos_y = np.concatenate(oos_y)\n",
        "oos_pred = np.concatenate(oos_pred)\n",
        "print(classification_report(oos_y.argmax(axis=1), oos_pred.argmax(axis=1),  target_names=le_Dense.classes_))"
      ],
      "metadata": {
        "id": "_ZVZ5r9ie_6N"
      },
      "execution_count": null,
      "outputs": []
    },
    {
      "cell_type": "markdown",
      "source": [
        "#### 32 sig pre bi adam\n",
        "--> "
      ],
      "metadata": {
        "id": "_v7sQdHle_6O"
      }
    },
    {
      "cell_type": "code",
      "source": [
        "BS = 32\n",
        "filepath = \"Kmodel32_sig_pre_bi_adam\"                  ##\n",
        "\n",
        "train_img_Dense = []\n",
        "for ImageName in tqdm(data_train3['ImageName']):               # รัน ชื่อรูป ในไฟล์ data_test3\n",
        "    image_path = All_3class_dir +'/' + ImageName                   # ดึงรูปในโฟล์เดอร์มาทีละรูป\n",
        "    img = cv2.imread(image_path)                                            # อ่านรูป\n",
        "    img = cv2.resize(img, (224, 224))                                       #ขนาดของ input\n",
        "    train_img_Dense.append(img)\n",
        "data_Dense = np.array(train_img_Dense, dtype=\"float32\") / 255.0\n",
        "\n",
        "labels_Dense = np.array(data_train3[['NameType']] )        \n",
        "labels_Dense.shape = (len(labels_Dense),) \n",
        "le_Dense = LabelEncoder()                                                                     \n",
        "labels_Dense = le_Dense.fit_transform(labels_Dense)                                         #จะแปลงชื่อ class เป็นตัวเลข 1, 2, 0 \n",
        "labels_Dense = to_categorical(labels_Dense, num_classes=2)                    \n",
        "\n",
        "aug = ImageDataGenerator( rotation_range=15,\twidth_shift_range=0.1, \theight_shift_range=0.1,\n",
        "\t\tshear_range=0.15, \thorizontal_flip=True, \tfill_mode=\"nearest\")\n",
        "                                                                                                          \n",
        "callback = EarlyStopping( monitor= \"val_accuracy\",    patience=15,       mode=\"max\")\n",
        "\n",
        "# checkpoint = ModelCheckpoint(filepath, monitor='val_accuracy', verbose=1,   save_best_only=True, mode='max')\n",
        "                                                                                                            ##\n",
        "reduce_lr = ReduceLROnPlateau(monitor='val_accuracy', factor=0.5,   patience=6,     verbose=1, mode='max', min_lr=0.00001)"
      ],
      "metadata": {
        "outputId": "3f52f262-ffd4-40ae-8af3-bc174b331ad7",
        "colab": {
          "base_uri": "https://localhost:8080/"
        },
        "id": "1Woy57qwe_6O"
      },
      "execution_count": null,
      "outputs": [
        {
          "output_type": "stream",
          "name": "stderr",
          "text": [
            "100%|██████████| 451/451 [02:08<00:00,  3.50it/s]\n"
          ]
        }
      ]
    },
    {
      "cell_type": "code",
      "source": [
        "base_model_Dense = tf.keras.applications.DenseNet201(input_shape=(224, 224, 3), include_top=False, weights=\"imagenet\")\n",
        "base_model_Dense.trainable = True\n",
        "for layer in base_model_Dense.layers[:400]:    #fix w & bias in layer 0-400\n",
        "    layer.trainable = False\n",
        "#Add custom head\n",
        "average_pooling_layer = tf.keras.layers.GlobalAveragePooling2D()(base_model_Dense.output)\n",
        "prediction_layer = tf.keras.layers.Dense(units=2, activation=\"sigmoid\")(average_pooling_layer)   # unit 2\n",
        "model_Dense = tf.keras.models.Model(inputs=base_model_Dense.input, outputs=prediction_layer)\n",
        "model_Dense.compile(optimizer=Adam(learning_rate=0.0001), loss=\"binary_crossentropy\", metrics=[\"accuracy\"])\n",
        "\n",
        "### K-fold\n",
        "kf = KFold(5, shuffle=True, random_state=40) \n",
        "\n",
        "oos_y = []\n",
        "oos_pred = []\n",
        "fold = 0\n",
        "\n",
        "for train, test in kf.split(data_Dense):\n",
        "    fold+=1\n",
        "    print(f\"Fold #{fold}\")\n",
        "\n",
        "    filename = f\" {filepath}{fold}.h5 \"\n",
        "    checkpoint = ModelCheckpoint(filename, monitor='val_accuracy', verbose=1,   save_best_only=True, mode='max')\n",
        "\n",
        "    x_train_Dense = data_Dense[train]\n",
        "    y_train_Dense = labels_Dense[train]\n",
        "    x_test_Dense = data_Dense[test]\n",
        "    y_test_Dense = labels_Dense[test]\n",
        "\n",
        "    H_Dense = model_Dense.fit( x=aug.flow(x_train_Dense, y_train_Dense, batch_size=BS),\n",
        "\t                                            validation_data=(x_test_Dense, y_test_Dense),\n",
        "\t                                            steps_per_epoch=len(x_train_Dense) // BS,\n",
        "\t                                            epochs=30,  callbacks = [callback,checkpoint,reduce_lr])\n",
        "    \n",
        "    pred_Dense = model_Dense.predict(x_test_Dense)\n",
        "    \n",
        "    oos_y.append(y_test_Dense)\n",
        "    oos_pred.append(pred_Dense)  \n",
        "    print(classification_report(y_test_Dense.argmax(axis=1),\t                #แสดง report ค่า acc, recall, ...\n",
        "                                        pred_Dense.argmax(axis=1),  \n",
        "                                        target_names=le_Dense.classes_))   \n",
        "    \n",
        "oos_y = np.concatenate(oos_y)\n",
        "oos_pred = np.concatenate(oos_pred)\n",
        "print(classification_report(oos_y.argmax(axis=1), oos_pred.argmax(axis=1),  target_names=le_Dense.classes_))"
      ],
      "metadata": {
        "id": "qEOwON9ce_6O"
      },
      "execution_count": null,
      "outputs": []
    },
    {
      "cell_type": "markdown",
      "source": [
        "#### 32 sig pre bi sgd\n",
        "--> "
      ],
      "metadata": {
        "id": "umHK3YiGe_6P"
      }
    },
    {
      "cell_type": "code",
      "source": [
        "BS = 32\n",
        "filepath = \"Kmodel32_sig_pre_bi_sgd\"                  ##\n",
        "\n",
        "train_img_Dense = []\n",
        "for ImageName in tqdm(data_train3['ImageName']):               # รัน ชื่อรูป ในไฟล์ data_test3\n",
        "    image_path = All_3class_dir +'/' + ImageName                   # ดึงรูปในโฟล์เดอร์มาทีละรูป\n",
        "    img = cv2.imread(image_path)                                            # อ่านรูป\n",
        "    img = cv2.resize(img, (224, 224))                                       #ขนาดของ input\n",
        "    train_img_Dense.append(img)\n",
        "data_Dense = np.array(train_img_Dense, dtype=\"float32\") / 255.0\n",
        "\n",
        "labels_Dense = np.array(data_train3[['NameType']] )        \n",
        "labels_Dense.shape = (len(labels_Dense),) \n",
        "le_Dense = LabelEncoder()                                                                     \n",
        "labels_Dense = le_Dense.fit_transform(labels_Dense)                                         #จะแปลงชื่อ class เป็นตัวเลข 1, 2, 0 \n",
        "labels_Dense = to_categorical(labels_Dense, num_classes=2)                    \n",
        "\n",
        "aug = ImageDataGenerator( rotation_range=15,\twidth_shift_range=0.1, \theight_shift_range=0.1,\n",
        "\t\tshear_range=0.15, \thorizontal_flip=True, \tfill_mode=\"nearest\")\n",
        "                                                                                                          \n",
        "callback = EarlyStopping( monitor= \"val_accuracy\",    patience=15,       mode=\"max\")\n",
        "\n",
        "# checkpoint = ModelCheckpoint(filepath, monitor='val_accuracy', verbose=1,   save_best_only=True, mode='max')\n",
        "                                                                                                            ##\n",
        "reduce_lr = ReduceLROnPlateau(monitor='val_accuracy', factor=0.5,   patience=6,     verbose=1, mode='max', min_lr=0.00001)"
      ],
      "metadata": {
        "outputId": "3f52f262-ffd4-40ae-8af3-bc174b331ad7",
        "colab": {
          "base_uri": "https://localhost:8080/"
        },
        "id": "ggRrLGOZe_6P"
      },
      "execution_count": null,
      "outputs": [
        {
          "output_type": "stream",
          "name": "stderr",
          "text": [
            "100%|██████████| 451/451 [02:08<00:00,  3.50it/s]\n"
          ]
        }
      ]
    },
    {
      "cell_type": "code",
      "source": [
        "base_model_Dense = tf.keras.applications.DenseNet201(input_shape=(224, 224, 3), include_top=False, weights=\"imagenet\")\n",
        "base_model_Dense.trainable = True\n",
        "for layer in base_model_Dense.layers[:400]:    #fix w & bias in layer 0-400\n",
        "    layer.trainable = False\n",
        "#Add custom head\n",
        "average_pooling_layer = tf.keras.layers.GlobalAveragePooling2D()(base_model_Dense.output)\n",
        "prediction_layer = tf.keras.layers.Dense(units=2, activation=\"sigmoid\")(average_pooling_layer)   # unit 2\n",
        "model_Dense = tf.keras.models.Model(inputs=base_model_Dense.input, outputs=prediction_layer)\n",
        "model_Dense.compile(optimizer=SGD(learning_rate=0.0001), loss=\"binary_crossentropy\", metrics=[\"accuracy\"])\n",
        "\n",
        "### K-fold\n",
        "kf = KFold(5, shuffle=True, random_state=40) \n",
        "\n",
        "oos_y = []\n",
        "oos_pred = []\n",
        "fold = 0\n",
        "\n",
        "for train, test in kf.split(data_Dense):\n",
        "    fold+=1\n",
        "    print(f\"Fold #{fold}\")\n",
        "\n",
        "    filename = f\" {filepath}{fold}.h5 \"\n",
        "    checkpoint = ModelCheckpoint(filename, monitor='val_accuracy', verbose=1,   save_best_only=True, mode='max')\n",
        "\n",
        "    x_train_Dense = data_Dense[train]\n",
        "    y_train_Dense = labels_Dense[train]\n",
        "    x_test_Dense = data_Dense[test]\n",
        "    y_test_Dense = labels_Dense[test]\n",
        "\n",
        "    H_Dense = model_Dense.fit( x=aug.flow(x_train_Dense, y_train_Dense, batch_size=BS),\n",
        "\t                                            validation_data=(x_test_Dense, y_test_Dense),\n",
        "\t                                            steps_per_epoch=len(x_train_Dense) // BS,\n",
        "\t                                            epochs=30,  callbacks = [callback,checkpoint,reduce_lr])\n",
        "    \n",
        "    pred_Dense = model_Dense.predict(x_test_Dense)\n",
        "    \n",
        "    oos_y.append(y_test_Dense)\n",
        "    oos_pred.append(pred_Dense)  \n",
        "    print(classification_report(y_test_Dense.argmax(axis=1),\t                #แสดง report ค่า acc, recall, ...\n",
        "                                        pred_Dense.argmax(axis=1),  \n",
        "                                        target_names=le_Dense.classes_))   \n",
        "    \n",
        "oos_y = np.concatenate(oos_y)\n",
        "oos_pred = np.concatenate(oos_pred)\n",
        "print(classification_report(oos_y.argmax(axis=1), oos_pred.argmax(axis=1),  target_names=le_Dense.classes_))"
      ],
      "metadata": {
        "id": "Sqz6eAa4e_6P"
      },
      "execution_count": null,
      "outputs": []
    },
    {
      "cell_type": "markdown",
      "source": [
        "# 0-300 Sampling Ab  \n",
        "- sigmold\n",
        "- binary_crossentropy"
      ],
      "metadata": {
        "id": "Lj55Vibkfd1U"
      }
    },
    {
      "cell_type": "markdown",
      "source": [
        "### 1"
      ],
      "metadata": {
        "id": "CyQ008U2fd1V"
      }
    },
    {
      "cell_type": "markdown",
      "source": [
        "#### 1 sig pre bi\n",
        "--> "
      ],
      "metadata": {
        "id": "ngcsKq-qfd1W"
      }
    },
    {
      "cell_type": "code",
      "source": [
        "BS = 1\n",
        "filepath = \"Kmodel1_sig_pre_bi\"                  ##\n",
        "\n",
        "train_img_Dense = []\n",
        "for ImageName in tqdm(data_train3['ImageName']):               # รัน ชื่อรูป ในไฟล์ data_test3\n",
        "    image_path = All_3class_dir +'/' + ImageName                   # ดึงรูปในโฟล์เดอร์มาทีละรูป\n",
        "    img = cv2.imread(image_path)                                            # อ่านรูป\n",
        "    img = cv2.resize(img, (224, 224))                                       #ขนาดของ input\n",
        "    train_img_Dense.append(img)\n",
        "data_Dense = np.array(train_img_Dense, dtype=\"float32\") / 255.0\n",
        "\n",
        "labels_Dense = np.array(data_train3[['NameType']] )        \n",
        "labels_Dense.shape = (len(labels_Dense),) \n",
        "le_Dense = LabelEncoder()                                                                     \n",
        "labels_Dense = le_Dense.fit_transform(labels_Dense)                                         #จะแปลงชื่อ class เป็นตัวเลข 1, 2, 0 \n",
        "labels_Dense = to_categorical(labels_Dense, num_classes=2)                    \n",
        "\n",
        "aug = ImageDataGenerator( rotation_range=15,\twidth_shift_range=0.1, \theight_shift_range=0.1,\n",
        "\t\tshear_range=0.15, \thorizontal_flip=True, \tfill_mode=\"nearest\")\n",
        "                                                                                                          \n",
        "callback = EarlyStopping( monitor= \"val_accuracy\",    patience=15,       mode=\"max\")\n",
        "\n",
        "# checkpoint = ModelCheckpoint(filepath, monitor='val_accuracy', verbose=1,   save_best_only=True, mode='max')\n",
        "                                                                                                            ##\n",
        "reduce_lr = ReduceLROnPlateau(monitor='val_accuracy', factor=0.5,   patience=6,     verbose=1, mode='max', min_lr=0.00001)"
      ],
      "metadata": {
        "outputId": "8741a3e8-2d19-43a6-8086-241819a23a7f",
        "colab": {
          "base_uri": "https://localhost:8080/"
        },
        "id": "Stql6y2afd1W"
      },
      "execution_count": null,
      "outputs": [
        {
          "output_type": "stream",
          "name": "stderr",
          "text": [
            "100%|██████████| 451/451 [00:10<00:00, 44.85it/s]\n"
          ]
        }
      ]
    },
    {
      "cell_type": "code",
      "source": [
        "base_model_Dense = tf.keras.applications.DenseNet201(input_shape=(224, 224, 3), include_top=False, weights=\"imagenet\")\n",
        "base_model_Dense.trainable = True\n",
        "for layer in base_model_Dense.layers[:300]:    #fix w & bias in layer 0-300\n",
        "    layer.trainable = False\n",
        "#Add custom head\n",
        "average_pooling_layer = tf.keras.layers.GlobalAveragePooling2D()(base_model_Dense.output)\n",
        "prediction_layer = tf.keras.layers.Dense(units=2, activation=\"sigmoid\")(average_pooling_layer)   # unit 2\n",
        "model_Dense = tf.keras.models.Model(inputs=base_model_Dense.input, outputs=prediction_layer)\n",
        "model_Dense.compile(optimizer=tf.keras.optimizers.RMSprop(learning_rate=0.0001), loss=\"binary_crossentropy\", metrics=[\"accuracy\"])\n",
        "\n",
        "### K-fold\n",
        "kf = KFold(5, shuffle=True, random_state=40) \n",
        "\n",
        "oos_y = []\n",
        "oos_pred = []\n",
        "fold = 0\n",
        "\n",
        "for train, test in kf.split(data_Dense):\n",
        "    fold+=1\n",
        "    print(f\"Fold #{fold}\")\n",
        "\n",
        "    filename = f\" {filepath}{fold}.h5 \"\n",
        "    checkpoint = ModelCheckpoint(filename, monitor='val_accuracy', verbose=1,   save_best_only=True, mode='max')\n",
        "\n",
        "    x_train_Dense = data_Dense[train]\n",
        "    y_train_Dense = labels_Dense[train]\n",
        "    x_test_Dense = data_Dense[test]\n",
        "    y_test_Dense = labels_Dense[test]\n",
        "\n",
        "    H_Dense = model_Dense.fit( x=aug.flow(x_train_Dense, y_train_Dense, batch_size=BS),\n",
        "\t                                            validation_data=(x_test_Dense, y_test_Dense),\n",
        "\t                                            steps_per_epoch=len(x_train_Dense) // BS,\n",
        "\t                                            epochs=30,  callbacks = [callback,checkpoint,reduce_lr])\n",
        "    \n",
        "    pred_Dense = model_Dense.predict(x_test_Dense)\n",
        "    \n",
        "    oos_y.append(y_test_Dense)\n",
        "    oos_pred.append(pred_Dense)  \n",
        "    print(classification_report(y_test_Dense.argmax(axis=1),\t                #แสดง report ค่า acc, recall, ...\n",
        "                                        pred_Dense.argmax(axis=1),  \n",
        "                                        target_names=le_Dense.classes_))   \n",
        "    \n",
        "oos_y = np.concatenate(oos_y)\n",
        "oos_pred = np.concatenate(oos_pred)\n",
        "print(classification_report(oos_y.argmax(axis=1), oos_pred.argmax(axis=1),  target_names=le_Dense.classes_))"
      ],
      "metadata": {
        "id": "VNaIqorrfd1X"
      },
      "execution_count": null,
      "outputs": []
    },
    {
      "cell_type": "markdown",
      "source": [
        "#### 1 sig pre bi adam\n",
        "--> "
      ],
      "metadata": {
        "id": "KQmY8bC-fd1X"
      }
    },
    {
      "cell_type": "code",
      "source": [
        "BS = 1\n",
        "filepath = \"Kmodel1_sig_pre_bi_adam\"                  ##\n",
        "\n",
        "train_img_Dense = []\n",
        "for ImageName in tqdm(data_train3['ImageName']):               # รัน ชื่อรูป ในไฟล์ data_test3\n",
        "    image_path = All_3class_dir +'/' + ImageName                   # ดึงรูปในโฟล์เดอร์มาทีละรูป\n",
        "    img = cv2.imread(image_path)                                            # อ่านรูป\n",
        "    img = cv2.resize(img, (224, 224))                                       #ขนาดของ input\n",
        "    train_img_Dense.append(img)\n",
        "data_Dense = np.array(train_img_Dense, dtype=\"float32\") / 255.0\n",
        "\n",
        "labels_Dense = np.array(data_train3[['NameType']] )        \n",
        "labels_Dense.shape = (len(labels_Dense),) \n",
        "le_Dense = LabelEncoder()                                                                     \n",
        "labels_Dense = le_Dense.fit_transform(labels_Dense)                                         #จะแปลงชื่อ class เป็นตัวเลข 1, 2, 0 \n",
        "labels_Dense = to_categorical(labels_Dense, num_classes=2)                    \n",
        "\n",
        "aug = ImageDataGenerator( rotation_range=15,\twidth_shift_range=0.1, \theight_shift_range=0.1,\n",
        "\t\tshear_range=0.15, \thorizontal_flip=True, \tfill_mode=\"nearest\")\n",
        "                                                                                                          \n",
        "callback = EarlyStopping( monitor= \"val_accuracy\",    patience=15,       mode=\"max\")\n",
        "\n",
        "# checkpoint = ModelCheckpoint(filepath, monitor='val_accuracy', verbose=1,   save_best_only=True, mode='max')\n",
        "                                                                                                            ##\n",
        "reduce_lr = ReduceLROnPlateau(monitor='val_accuracy', factor=0.5,   patience=6,     verbose=1, mode='max', min_lr=0.00001)"
      ],
      "metadata": {
        "outputId": "3f52f262-ffd4-40ae-8af3-bc174b331ad7",
        "colab": {
          "base_uri": "https://localhost:8080/"
        },
        "id": "26xJ1MU6fd1Y"
      },
      "execution_count": null,
      "outputs": [
        {
          "output_type": "stream",
          "name": "stderr",
          "text": [
            "100%|██████████| 451/451 [02:08<00:00,  3.50it/s]\n"
          ]
        }
      ]
    },
    {
      "cell_type": "code",
      "source": [
        "base_model_Dense = tf.keras.applications.DenseNet201(input_shape=(224, 224, 3), include_top=False, weights=\"imagenet\")\n",
        "base_model_Dense.trainable = True\n",
        "for layer in base_model_Dense.layers[:300]:    #fix w & bias in layer 0-300\n",
        "    layer.trainable = False\n",
        "#Add custom head\n",
        "average_pooling_layer = tf.keras.layers.GlobalAveragePooling2D()(base_model_Dense.output)\n",
        "prediction_layer = tf.keras.layers.Dense(units=2, activation=\"sigmoid\")(average_pooling_layer)   # unit 2\n",
        "model_Dense = tf.keras.models.Model(inputs=base_model_Dense.input, outputs=prediction_layer)\n",
        "model_Dense.compile(optimizer=Adam(learning_rate=0.0001), loss=\"binary_crossentropy\", metrics=[\"accuracy\"])\n",
        "\n",
        "### K-fold\n",
        "kf = KFold(5, shuffle=True, random_state=40) \n",
        "\n",
        "oos_y = []\n",
        "oos_pred = []\n",
        "fold = 0\n",
        "\n",
        "for train, test in kf.split(data_Dense):\n",
        "    fold+=1\n",
        "    print(f\"Fold #{fold}\")\n",
        "\n",
        "    filename = f\" {filepath}{fold}.h5 \"\n",
        "    checkpoint = ModelCheckpoint(filename, monitor='val_accuracy', verbose=1,   save_best_only=True, mode='max')\n",
        "\n",
        "    x_train_Dense = data_Dense[train]\n",
        "    y_train_Dense = labels_Dense[train]\n",
        "    x_test_Dense = data_Dense[test]\n",
        "    y_test_Dense = labels_Dense[test]\n",
        "\n",
        "    H_Dense = model_Dense.fit( x=aug.flow(x_train_Dense, y_train_Dense, batch_size=BS),\n",
        "\t                                            validation_data=(x_test_Dense, y_test_Dense),\n",
        "\t                                            steps_per_epoch=len(x_train_Dense) // BS,\n",
        "\t                                            epochs=30,  callbacks = [callback,checkpoint,reduce_lr])\n",
        "    \n",
        "    pred_Dense = model_Dense.predict(x_test_Dense)\n",
        "    \n",
        "    oos_y.append(y_test_Dense)\n",
        "    oos_pred.append(pred_Dense)  \n",
        "    print(classification_report(y_test_Dense.argmax(axis=1),\t                #แสดง report ค่า acc, recall, ...\n",
        "                                        pred_Dense.argmax(axis=1),  \n",
        "                                        target_names=le_Dense.classes_))   \n",
        "    \n",
        "oos_y = np.concatenate(oos_y)\n",
        "oos_pred = np.concatenate(oos_pred)\n",
        "print(classification_report(oos_y.argmax(axis=1), oos_pred.argmax(axis=1),  target_names=le_Dense.classes_))"
      ],
      "metadata": {
        "id": "6NudnoK5fd1Y"
      },
      "execution_count": null,
      "outputs": []
    },
    {
      "cell_type": "markdown",
      "source": [
        "#### 1 sig pre bi sgd\n",
        "--> "
      ],
      "metadata": {
        "id": "bl1s-TLqfd1Z"
      }
    },
    {
      "cell_type": "code",
      "source": [
        "BS = 1\n",
        "filepath = \"Kmodel1_sig_pre_bi_sgd\"                  ##\n",
        "\n",
        "train_img_Dense = []\n",
        "for ImageName in tqdm(data_train3['ImageName']):               # รัน ชื่อรูป ในไฟล์ data_test3\n",
        "    image_path = All_3class_dir +'/' + ImageName                   # ดึงรูปในโฟล์เดอร์มาทีละรูป\n",
        "    img = cv2.imread(image_path)                                            # อ่านรูป\n",
        "    img = cv2.resize(img, (224, 224))                                       #ขนาดของ input\n",
        "    train_img_Dense.append(img)\n",
        "data_Dense = np.array(train_img_Dense, dtype=\"float32\") / 255.0\n",
        "\n",
        "labels_Dense = np.array(data_train3[['NameType']] )        \n",
        "labels_Dense.shape = (len(labels_Dense),) \n",
        "le_Dense = LabelEncoder()                                                                     \n",
        "labels_Dense = le_Dense.fit_transform(labels_Dense)                                         #จะแปลงชื่อ class เป็นตัวเลข 1, 2, 0 \n",
        "labels_Dense = to_categorical(labels_Dense, num_classes=2)                    \n",
        "\n",
        "aug = ImageDataGenerator( rotation_range=15,\twidth_shift_range=0.1, \theight_shift_range=0.1,\n",
        "\t\tshear_range=0.15, \thorizontal_flip=True, \tfill_mode=\"nearest\")\n",
        "                                                                                                          \n",
        "callback = EarlyStopping( monitor= \"val_accuracy\",    patience=15,       mode=\"max\")\n",
        "\n",
        "# checkpoint = ModelCheckpoint(filepath, monitor='val_accuracy', verbose=1,   save_best_only=True, mode='max')\n",
        "                                                                                                            ##\n",
        "reduce_lr = ReduceLROnPlateau(monitor='val_accuracy', factor=0.5,   patience=6,     verbose=1, mode='max', min_lr=0.00001)"
      ],
      "metadata": {
        "outputId": "3f52f262-ffd4-40ae-8af3-bc174b331ad7",
        "colab": {
          "base_uri": "https://localhost:8080/"
        },
        "id": "13FKpiEMfd1Z"
      },
      "execution_count": null,
      "outputs": [
        {
          "output_type": "stream",
          "name": "stderr",
          "text": [
            "100%|██████████| 451/451 [02:08<00:00,  3.50it/s]\n"
          ]
        }
      ]
    },
    {
      "cell_type": "code",
      "source": [
        "base_model_Dense = tf.keras.applications.DenseNet201(input_shape=(224, 224, 3), include_top=False, weights=\"imagenet\")\n",
        "base_model_Dense.trainable = True\n",
        "for layer in base_model_Dense.layers[:300]:    #fix w & bias in layer 0-300\n",
        "    layer.trainable = False\n",
        "#Add custom head\n",
        "average_pooling_layer = tf.keras.layers.GlobalAveragePooling2D()(base_model_Dense.output)\n",
        "prediction_layer = tf.keras.layers.Dense(units=2, activation=\"sigmoid\")(average_pooling_layer)   # unit 2\n",
        "model_Dense = tf.keras.models.Model(inputs=base_model_Dense.input, outputs=prediction_layer)\n",
        "model_Dense.compile(optimizer=SGD(learning_rate=0.0001), loss=\"binary_crossentropy\", metrics=[\"accuracy\"])\n",
        "\n",
        "### K-fold\n",
        "kf = KFold(5, shuffle=True, random_state=40) \n",
        "\n",
        "oos_y = []\n",
        "oos_pred = []\n",
        "fold = 0\n",
        "\n",
        "for train, test in kf.split(data_Dense):\n",
        "    fold+=1\n",
        "    print(f\"Fold #{fold}\")\n",
        "\n",
        "    filename = f\" {filepath}{fold}.h5 \"\n",
        "    checkpoint = ModelCheckpoint(filename, monitor='val_accuracy', verbose=1,   save_best_only=True, mode='max')\n",
        "\n",
        "    x_train_Dense = data_Dense[train]\n",
        "    y_train_Dense = labels_Dense[train]\n",
        "    x_test_Dense = data_Dense[test]\n",
        "    y_test_Dense = labels_Dense[test]\n",
        "\n",
        "    H_Dense = model_Dense.fit( x=aug.flow(x_train_Dense, y_train_Dense, batch_size=BS),\n",
        "\t                                            validation_data=(x_test_Dense, y_test_Dense),\n",
        "\t                                            steps_per_epoch=len(x_train_Dense) // BS,\n",
        "\t                                            epochs=30,  callbacks = [callback,checkpoint,reduce_lr])\n",
        "    \n",
        "    pred_Dense = model_Dense.predict(x_test_Dense)\n",
        "    \n",
        "    oos_y.append(y_test_Dense)\n",
        "    oos_pred.append(pred_Dense)  \n",
        "    print(classification_report(y_test_Dense.argmax(axis=1),\t                #แสดง report ค่า acc, recall, ...\n",
        "                                        pred_Dense.argmax(axis=1),  \n",
        "                                        target_names=le_Dense.classes_))   \n",
        "    \n",
        "oos_y = np.concatenate(oos_y)\n",
        "oos_pred = np.concatenate(oos_pred)\n",
        "print(classification_report(oos_y.argmax(axis=1), oos_pred.argmax(axis=1),  target_names=le_Dense.classes_))"
      ],
      "metadata": {
        "id": "jxeiepVxfd1Z"
      },
      "execution_count": null,
      "outputs": []
    },
    {
      "cell_type": "markdown",
      "source": [
        "### 8"
      ],
      "metadata": {
        "id": "BJ6MPSFofd1a"
      }
    },
    {
      "cell_type": "markdown",
      "source": [
        "#### 8  sig pre bi\n",
        "--> "
      ],
      "metadata": {
        "id": "azN7vdVmfd1b"
      }
    },
    {
      "cell_type": "code",
      "source": [
        "BS = 8\n",
        "filepath = \"Kmodel8_sig_pre_bi\"                  ##\n",
        "\n",
        "train_img_Dense = []\n",
        "for ImageName in tqdm(data_train3['ImageName']):               # รัน ชื่อรูป ในไฟล์ data_test3\n",
        "    image_path = All_3class_dir +'/' + ImageName                   # ดึงรูปในโฟล์เดอร์มาทีละรูป\n",
        "    img = cv2.imread(image_path)                                            # อ่านรูป\n",
        "    img = cv2.resize(img, (224, 224))                                       #ขนาดของ input\n",
        "    train_img_Dense.append(img)\n",
        "data_Dense = np.array(train_img_Dense, dtype=\"float32\") / 255.0\n",
        "\n",
        "labels_Dense = np.array(data_train3[['NameType']] )        \n",
        "labels_Dense.shape = (len(labels_Dense),) \n",
        "le_Dense = LabelEncoder()                                                                     \n",
        "labels_Dense = le_Dense.fit_transform(labels_Dense)                                         #จะแปลงชื่อ class เป็นตัวเลข 1, 2, 0 \n",
        "labels_Dense = to_categorical(labels_Dense, num_classes=2)                    \n",
        "\n",
        "aug = ImageDataGenerator( rotation_range=15,\twidth_shift_range=0.1, \theight_shift_range=0.1,\n",
        "\t\tshear_range=0.15, \thorizontal_flip=True, \tfill_mode=\"nearest\")\n",
        "                                                                                                          \n",
        "callback = EarlyStopping( monitor= \"val_accuracy\",    patience=15,       mode=\"max\")\n",
        "\n",
        "# checkpoint = ModelCheckpoint(filepath, monitor='val_accuracy', verbose=1,   save_best_only=True, mode='max')\n",
        "                                                                                                            ##\n",
        "reduce_lr = ReduceLROnPlateau(monitor='val_accuracy', factor=0.5,   patience=6,     verbose=1, mode='max', min_lr=0.00001)"
      ],
      "metadata": {
        "outputId": "8741a3e8-2d19-43a6-8086-241819a23a7f",
        "colab": {
          "base_uri": "https://localhost:8080/"
        },
        "id": "jxQ-KkVcfd1b"
      },
      "execution_count": null,
      "outputs": [
        {
          "output_type": "stream",
          "name": "stderr",
          "text": [
            "100%|██████████| 451/451 [00:10<00:00, 44.85it/s]\n"
          ]
        }
      ]
    },
    {
      "cell_type": "code",
      "source": [
        "base_model_Dense = tf.keras.applications.DenseNet201(input_shape=(224, 224, 3), include_top=False, weights=\"imagenet\")\n",
        "base_model_Dense.trainable = True\n",
        "for layer in base_model_Dense.layers[:300]:    #fix w & bias in layer 0-300\n",
        "    layer.trainable = False\n",
        "#Add custom head\n",
        "average_pooling_layer = tf.keras.layers.GlobalAveragePooling2D()(base_model_Dense.output)\n",
        "prediction_layer = tf.keras.layers.Dense(units=2, activation=\"sigmoid\")(average_pooling_layer)   # unit 2\n",
        "model_Dense = tf.keras.models.Model(inputs=base_model_Dense.input, outputs=prediction_layer)\n",
        "model_Dense.compile(optimizer=tf.keras.optimizers.RMSprop(learning_rate=0.0001), loss=\"binary_crossentropy\", metrics=[\"accuracy\"])\n",
        "\n",
        "### K-fold\n",
        "kf = KFold(5, shuffle=True, random_state=40) \n",
        "\n",
        "oos_y = []\n",
        "oos_pred = []\n",
        "fold = 0\n",
        "\n",
        "for train, test in kf.split(data_Dense):\n",
        "    fold+=1\n",
        "    print(f\"Fold #{fold}\")\n",
        "\n",
        "    filename = f\" {filepath}{fold}.h5 \"\n",
        "    checkpoint = ModelCheckpoint(filename, monitor='val_accuracy', verbose=1,   save_best_only=True, mode='max')\n",
        "\n",
        "    x_train_Dense = data_Dense[train]\n",
        "    y_train_Dense = labels_Dense[train]\n",
        "    x_test_Dense = data_Dense[test]\n",
        "    y_test_Dense = labels_Dense[test]\n",
        "\n",
        "    H_Dense = model_Dense.fit( x=aug.flow(x_train_Dense, y_train_Dense, batch_size=BS),\n",
        "\t                                            validation_data=(x_test_Dense, y_test_Dense),\n",
        "\t                                            steps_per_epoch=len(x_train_Dense) // BS,\n",
        "\t                                            epochs=30,  callbacks = [callback,checkpoint,reduce_lr])\n",
        "    \n",
        "    pred_Dense = model_Dense.predict(x_test_Dense)\n",
        "    \n",
        "    oos_y.append(y_test_Dense)\n",
        "    oos_pred.append(pred_Dense)  \n",
        "    print(classification_report(y_test_Dense.argmax(axis=1),\t                #แสดง report ค่า acc, recall, ...\n",
        "                                        pred_Dense.argmax(axis=1),  \n",
        "                                        target_names=le_Dense.classes_))   \n",
        "    \n",
        "oos_y = np.concatenate(oos_y)\n",
        "oos_pred = np.concatenate(oos_pred)\n",
        "print(classification_report(oos_y.argmax(axis=1), oos_pred.argmax(axis=1),  target_names=le_Dense.classes_))"
      ],
      "metadata": {
        "id": "IQZ1_bvqfd1b"
      },
      "execution_count": null,
      "outputs": []
    },
    {
      "cell_type": "markdown",
      "source": [
        "#### 8 sig pre bi adam\n",
        "--> "
      ],
      "metadata": {
        "id": "OYkWKL7rfd1c"
      }
    },
    {
      "cell_type": "code",
      "source": [
        "BS = 8\n",
        "filepath = \"Kmodel8_sig_pre_bi_adam\"                  ##\n",
        "\n",
        "train_img_Dense = []\n",
        "for ImageName in tqdm(data_train3['ImageName']):               # รัน ชื่อรูป ในไฟล์ data_test3\n",
        "    image_path = All_3class_dir +'/' + ImageName                   # ดึงรูปในโฟล์เดอร์มาทีละรูป\n",
        "    img = cv2.imread(image_path)                                            # อ่านรูป\n",
        "    img = cv2.resize(img, (224, 224))                                       #ขนาดของ input\n",
        "    train_img_Dense.append(img)\n",
        "data_Dense = np.array(train_img_Dense, dtype=\"float32\") / 255.0\n",
        "\n",
        "labels_Dense = np.array(data_train3[['NameType']] )        \n",
        "labels_Dense.shape = (len(labels_Dense),) \n",
        "le_Dense = LabelEncoder()                                                                     \n",
        "labels_Dense = le_Dense.fit_transform(labels_Dense)                                         #จะแปลงชื่อ class เป็นตัวเลข 1, 2, 0 \n",
        "labels_Dense = to_categorical(labels_Dense, num_classes=2)                    \n",
        "\n",
        "aug = ImageDataGenerator( rotation_range=15,\twidth_shift_range=0.1, \theight_shift_range=0.1,\n",
        "\t\tshear_range=0.15, \thorizontal_flip=True, \tfill_mode=\"nearest\")\n",
        "                                                                                                          \n",
        "callback = EarlyStopping( monitor= \"val_accuracy\",    patience=15,       mode=\"max\")\n",
        "\n",
        "# checkpoint = ModelCheckpoint(filepath, monitor='val_accuracy', verbose=1,   save_best_only=True, mode='max')\n",
        "                                                                                                            ##\n",
        "reduce_lr = ReduceLROnPlateau(monitor='val_accuracy', factor=0.5,   patience=6,     verbose=1, mode='max', min_lr=0.00001)"
      ],
      "metadata": {
        "outputId": "3f52f262-ffd4-40ae-8af3-bc174b331ad7",
        "colab": {
          "base_uri": "https://localhost:8080/"
        },
        "id": "p_ndnN7Lfd1c"
      },
      "execution_count": null,
      "outputs": [
        {
          "output_type": "stream",
          "name": "stderr",
          "text": [
            "100%|██████████| 451/451 [02:08<00:00,  3.50it/s]\n"
          ]
        }
      ]
    },
    {
      "cell_type": "code",
      "source": [
        "base_model_Dense = tf.keras.applications.DenseNet201(input_shape=(224, 224, 3), include_top=False, weights=\"imagenet\")\n",
        "base_model_Dense.trainable = True\n",
        "for layer in base_model_Dense.layers[:300]:    #fix w & bias in layer 0-300\n",
        "    layer.trainable = False\n",
        "#Add custom head\n",
        "average_pooling_layer = tf.keras.layers.GlobalAveragePooling2D()(base_model_Dense.output)\n",
        "prediction_layer = tf.keras.layers.Dense(units=2, activation=\"sigmoid\")(average_pooling_layer)   # unit 2\n",
        "model_Dense = tf.keras.models.Model(inputs=base_model_Dense.input, outputs=prediction_layer)\n",
        "model_Dense.compile(optimizer=Adam(learning_rate=0.0001), loss=\"binary_crossentropy\", metrics=[\"accuracy\"])\n",
        "\n",
        "### K-fold\n",
        "kf = KFold(5, shuffle=True, random_state=40) \n",
        "\n",
        "oos_y = []\n",
        "oos_pred = []\n",
        "fold = 0\n",
        "\n",
        "for train, test in kf.split(data_Dense):\n",
        "    fold+=1\n",
        "    print(f\"Fold #{fold}\")\n",
        "\n",
        "    filename = f\" {filepath}{fold}.h5 \"\n",
        "    checkpoint = ModelCheckpoint(filename, monitor='val_accuracy', verbose=1,   save_best_only=True, mode='max')\n",
        "\n",
        "    x_train_Dense = data_Dense[train]\n",
        "    y_train_Dense = labels_Dense[train]\n",
        "    x_test_Dense = data_Dense[test]\n",
        "    y_test_Dense = labels_Dense[test]\n",
        "\n",
        "    H_Dense = model_Dense.fit( x=aug.flow(x_train_Dense, y_train_Dense, batch_size=BS),\n",
        "\t                                            validation_data=(x_test_Dense, y_test_Dense),\n",
        "\t                                            steps_per_epoch=len(x_train_Dense) // BS,\n",
        "\t                                            epochs=30,  callbacks = [callback,checkpoint,reduce_lr])\n",
        "    \n",
        "    pred_Dense = model_Dense.predict(x_test_Dense)\n",
        "    \n",
        "    oos_y.append(y_test_Dense)\n",
        "    oos_pred.append(pred_Dense)  \n",
        "    print(classification_report(y_test_Dense.argmax(axis=1),\t                #แสดง report ค่า acc, recall, ...\n",
        "                                        pred_Dense.argmax(axis=1),  \n",
        "                                        target_names=le_Dense.classes_))   \n",
        "    \n",
        "oos_y = np.concatenate(oos_y)\n",
        "oos_pred = np.concatenate(oos_pred)\n",
        "print(classification_report(oos_y.argmax(axis=1), oos_pred.argmax(axis=1),  target_names=le_Dense.classes_))"
      ],
      "metadata": {
        "id": "ekdV01WAfd1d"
      },
      "execution_count": null,
      "outputs": []
    },
    {
      "cell_type": "markdown",
      "source": [
        "#### 8 sig pre bi sgd\n",
        "--> "
      ],
      "metadata": {
        "id": "iD8RIXdrfd1e"
      }
    },
    {
      "cell_type": "code",
      "source": [
        "BS = 8\n",
        "filepath = \"Kmodel8_sig_pre_bi_sgd\"                  ##\n",
        "\n",
        "train_img_Dense = []\n",
        "for ImageName in tqdm(data_train3['ImageName']):               # รัน ชื่อรูป ในไฟล์ data_test3\n",
        "    image_path = All_3class_dir +'/' + ImageName                   # ดึงรูปในโฟล์เดอร์มาทีละรูป\n",
        "    img = cv2.imread(image_path)                                            # อ่านรูป\n",
        "    img = cv2.resize(img, (224, 224))                                       #ขนาดของ input\n",
        "    train_img_Dense.append(img)\n",
        "data_Dense = np.array(train_img_Dense, dtype=\"float32\") / 255.0\n",
        "\n",
        "labels_Dense = np.array(data_train3[['NameType']] )        \n",
        "labels_Dense.shape = (len(labels_Dense),) \n",
        "le_Dense = LabelEncoder()                                                                     \n",
        "labels_Dense = le_Dense.fit_transform(labels_Dense)                                         #จะแปลงชื่อ class เป็นตัวเลข 1, 2, 0 \n",
        "labels_Dense = to_categorical(labels_Dense, num_classes=2)                    \n",
        "\n",
        "aug = ImageDataGenerator( rotation_range=15,\twidth_shift_range=0.1, \theight_shift_range=0.1,\n",
        "\t\tshear_range=0.15, \thorizontal_flip=True, \tfill_mode=\"nearest\")\n",
        "                                                                                                          \n",
        "callback = EarlyStopping( monitor= \"val_accuracy\",    patience=15,       mode=\"max\")\n",
        "\n",
        "# checkpoint = ModelCheckpoint(filepath, monitor='val_accuracy', verbose=1,   save_best_only=True, mode='max')\n",
        "                                                                                                            ##\n",
        "reduce_lr = ReduceLROnPlateau(monitor='val_accuracy', factor=0.5,   patience=6,     verbose=1, mode='max', min_lr=0.00001)"
      ],
      "metadata": {
        "outputId": "3f52f262-ffd4-40ae-8af3-bc174b331ad7",
        "colab": {
          "base_uri": "https://localhost:8080/"
        },
        "id": "2qA4-fgSfd1e"
      },
      "execution_count": null,
      "outputs": [
        {
          "output_type": "stream",
          "name": "stderr",
          "text": [
            "100%|██████████| 451/451 [02:08<00:00,  3.50it/s]\n"
          ]
        }
      ]
    },
    {
      "cell_type": "code",
      "source": [
        "base_model_Dense = tf.keras.applications.DenseNet201(input_shape=(224, 224, 3), include_top=False, weights=\"imagenet\")\n",
        "base_model_Dense.trainable = True\n",
        "for layer in base_model_Dense.layers[:300]:    #fix w & bias in layer 0-300\n",
        "    layer.trainable = False\n",
        "#Add custom head\n",
        "average_pooling_layer = tf.keras.layers.GlobalAveragePooling2D()(base_model_Dense.output)\n",
        "prediction_layer = tf.keras.layers.Dense(units=2, activation=\"sigmoid\")(average_pooling_layer)   # unit 2\n",
        "model_Dense = tf.keras.models.Model(inputs=base_model_Dense.input, outputs=prediction_layer)\n",
        "model_Dense.compile(optimizer=SGD(learning_rate=0.0001), loss=\"binary_crossentropy\", metrics=[\"accuracy\"])\n",
        "\n",
        "### K-fold\n",
        "kf = KFold(5, shuffle=True, random_state=40) \n",
        "\n",
        "oos_y = []\n",
        "oos_pred = []\n",
        "fold = 0\n",
        "\n",
        "for train, test in kf.split(data_Dense):\n",
        "    fold+=1\n",
        "    print(f\"Fold #{fold}\")\n",
        "\n",
        "    filename = f\" {filepath}{fold}.h5 \"\n",
        "    checkpoint = ModelCheckpoint(filename, monitor='val_accuracy', verbose=1,   save_best_only=True, mode='max')\n",
        "\n",
        "    x_train_Dense = data_Dense[train]\n",
        "    y_train_Dense = labels_Dense[train]\n",
        "    x_test_Dense = data_Dense[test]\n",
        "    y_test_Dense = labels_Dense[test]\n",
        "\n",
        "    H_Dense = model_Dense.fit( x=aug.flow(x_train_Dense, y_train_Dense, batch_size=BS),\n",
        "\t                                            validation_data=(x_test_Dense, y_test_Dense),\n",
        "\t                                            steps_per_epoch=len(x_train_Dense) // BS,\n",
        "\t                                            epochs=30,  callbacks = [callback,checkpoint,reduce_lr])\n",
        "    \n",
        "    pred_Dense = model_Dense.predict(x_test_Dense)\n",
        "    \n",
        "    oos_y.append(y_test_Dense)\n",
        "    oos_pred.append(pred_Dense)  \n",
        "    print(classification_report(y_test_Dense.argmax(axis=1),\t                #แสดง report ค่า acc, recall, ...\n",
        "                                        pred_Dense.argmax(axis=1),  \n",
        "                                        target_names=le_Dense.classes_))   \n",
        "    \n",
        "oos_y = np.concatenate(oos_y)\n",
        "oos_pred = np.concatenate(oos_pred)\n",
        "print(classification_report(oos_y.argmax(axis=1), oos_pred.argmax(axis=1),  target_names=le_Dense.classes_))"
      ],
      "metadata": {
        "id": "UreOKeg_fd1f"
      },
      "execution_count": null,
      "outputs": []
    },
    {
      "cell_type": "markdown",
      "source": [
        "### 16"
      ],
      "metadata": {
        "id": "a7pNZccWfd1g"
      }
    },
    {
      "cell_type": "markdown",
      "source": [
        "#### 16  sig pre bi\n",
        "--> "
      ],
      "metadata": {
        "id": "tZ2_jFnnfd1g"
      }
    },
    {
      "cell_type": "code",
      "source": [
        "BS = 16\n",
        "filepath = \"Kmodel16_sig_pre_bi\"                  ##\n",
        "\n",
        "train_img_Dense = []\n",
        "for ImageName in tqdm(data_train3['ImageName']):               # รัน ชื่อรูป ในไฟล์ data_test3\n",
        "    image_path = All_3class_dir +'/' + ImageName                   # ดึงรูปในโฟล์เดอร์มาทีละรูป\n",
        "    img = cv2.imread(image_path)                                            # อ่านรูป\n",
        "    img = cv2.resize(img, (224, 224))                                       #ขนาดของ input\n",
        "    train_img_Dense.append(img)\n",
        "data_Dense = np.array(train_img_Dense, dtype=\"float32\") / 255.0\n",
        "\n",
        "labels_Dense = np.array(data_train3[['NameType']] )        \n",
        "labels_Dense.shape = (len(labels_Dense),) \n",
        "le_Dense = LabelEncoder()                                                                     \n",
        "labels_Dense = le_Dense.fit_transform(labels_Dense)                                         #จะแปลงชื่อ class เป็นตัวเลข 1, 2, 0 \n",
        "labels_Dense = to_categorical(labels_Dense, num_classes=2)                    \n",
        "\n",
        "aug = ImageDataGenerator( rotation_range=15,\twidth_shift_range=0.1, \theight_shift_range=0.1,\n",
        "\t\tshear_range=0.15, \thorizontal_flip=True, \tfill_mode=\"nearest\")\n",
        "                                                                                                          \n",
        "callback = EarlyStopping( monitor= \"val_accuracy\",    patience=15,       mode=\"max\")\n",
        "\n",
        "# checkpoint = ModelCheckpoint(filepath, monitor='val_accuracy', verbose=1,   save_best_only=True, mode='max')\n",
        "                                                                                                            ##\n",
        "reduce_lr = ReduceLROnPlateau(monitor='val_accuracy', factor=0.5,   patience=6,     verbose=1, mode='max', min_lr=0.00001)"
      ],
      "metadata": {
        "outputId": "8741a3e8-2d19-43a6-8086-241819a23a7f",
        "colab": {
          "base_uri": "https://localhost:8080/"
        },
        "id": "HPKxjrJcfd1h"
      },
      "execution_count": null,
      "outputs": [
        {
          "output_type": "stream",
          "name": "stderr",
          "text": [
            "100%|██████████| 451/451 [00:10<00:00, 44.85it/s]\n"
          ]
        }
      ]
    },
    {
      "cell_type": "code",
      "source": [
        "base_model_Dense = tf.keras.applications.DenseNet201(input_shape=(224, 224, 3), include_top=False, weights=\"imagenet\")\n",
        "base_model_Dense.trainable = True\n",
        "for layer in base_model_Dense.layers[:300]:    #fix w & bias in layer 0-300\n",
        "    layer.trainable = False\n",
        "#Add custom head\n",
        "average_pooling_layer = tf.keras.layers.GlobalAveragePooling2D()(base_model_Dense.output)\n",
        "prediction_layer = tf.keras.layers.Dense(units=2, activation=\"sigmoid\")(average_pooling_layer)   # unit 2\n",
        "model_Dense = tf.keras.models.Model(inputs=base_model_Dense.input, outputs=prediction_layer)\n",
        "model_Dense.compile(optimizer=tf.keras.optimizers.RMSprop(learning_rate=0.0001), loss=\"binary_crossentropy\", metrics=[\"accuracy\"])\n",
        "\n",
        "### K-fold\n",
        "kf = KFold(5, shuffle=True, random_state=40) \n",
        "\n",
        "oos_y = []\n",
        "oos_pred = []\n",
        "fold = 0\n",
        "\n",
        "for train, test in kf.split(data_Dense):\n",
        "    fold+=1\n",
        "    print(f\"Fold #{fold}\")\n",
        "\n",
        "    filename = f\" {filepath}{fold}.h5 \"\n",
        "    checkpoint = ModelCheckpoint(filename, monitor='val_accuracy', verbose=1,   save_best_only=True, mode='max')\n",
        "\n",
        "    x_train_Dense = data_Dense[train]\n",
        "    y_train_Dense = labels_Dense[train]\n",
        "    x_test_Dense = data_Dense[test]\n",
        "    y_test_Dense = labels_Dense[test]\n",
        "\n",
        "    H_Dense = model_Dense.fit( x=aug.flow(x_train_Dense, y_train_Dense, batch_size=BS),\n",
        "\t                                            validation_data=(x_test_Dense, y_test_Dense),\n",
        "\t                                            steps_per_epoch=len(x_train_Dense) // BS,\n",
        "\t                                            epochs=30,  callbacks = [callback,checkpoint,reduce_lr])\n",
        "    \n",
        "    pred_Dense = model_Dense.predict(x_test_Dense)\n",
        "    \n",
        "    oos_y.append(y_test_Dense)\n",
        "    oos_pred.append(pred_Dense)  \n",
        "    print(classification_report(y_test_Dense.argmax(axis=1),\t                #แสดง report ค่า acc, recall, ...\n",
        "                                        pred_Dense.argmax(axis=1),  \n",
        "                                        target_names=le_Dense.classes_))   \n",
        "    \n",
        "oos_y = np.concatenate(oos_y)\n",
        "oos_pred = np.concatenate(oos_pred)\n",
        "print(classification_report(oos_y.argmax(axis=1), oos_pred.argmax(axis=1),  target_names=le_Dense.classes_))"
      ],
      "metadata": {
        "id": "0E6uZUJ-fd1h"
      },
      "execution_count": null,
      "outputs": []
    },
    {
      "cell_type": "markdown",
      "source": [
        "#### 16 sig pre bi adam\n",
        "--> "
      ],
      "metadata": {
        "id": "1b584dq_fd1i"
      }
    },
    {
      "cell_type": "code",
      "source": [
        "BS = 16\n",
        "filepath = \"Kmodel16_sig_pre_bi_adam\"                  ##\n",
        "\n",
        "train_img_Dense = []\n",
        "for ImageName in tqdm(data_train3['ImageName']):               # รัน ชื่อรูป ในไฟล์ data_test3\n",
        "    image_path = All_3class_dir +'/' + ImageName                   # ดึงรูปในโฟล์เดอร์มาทีละรูป\n",
        "    img = cv2.imread(image_path)                                            # อ่านรูป\n",
        "    img = cv2.resize(img, (224, 224))                                       #ขนาดของ input\n",
        "    train_img_Dense.append(img)\n",
        "data_Dense = np.array(train_img_Dense, dtype=\"float32\") / 255.0\n",
        "\n",
        "labels_Dense = np.array(data_train3[['NameType']] )        \n",
        "labels_Dense.shape = (len(labels_Dense),) \n",
        "le_Dense = LabelEncoder()                                                                     \n",
        "labels_Dense = le_Dense.fit_transform(labels_Dense)                                         #จะแปลงชื่อ class เป็นตัวเลข 1, 2, 0 \n",
        "labels_Dense = to_categorical(labels_Dense, num_classes=2)                    \n",
        "\n",
        "aug = ImageDataGenerator( rotation_range=15,\twidth_shift_range=0.1, \theight_shift_range=0.1,\n",
        "\t\tshear_range=0.15, \thorizontal_flip=True, \tfill_mode=\"nearest\")\n",
        "                                                                                                          \n",
        "callback = EarlyStopping( monitor= \"val_accuracy\",    patience=15,       mode=\"max\")\n",
        "\n",
        "# checkpoint = ModelCheckpoint(filepath, monitor='val_accuracy', verbose=1,   save_best_only=True, mode='max')\n",
        "                                                                                                            ##\n",
        "reduce_lr = ReduceLROnPlateau(monitor='val_accuracy', factor=0.5,   patience=6,     verbose=1, mode='max', min_lr=0.00001)"
      ],
      "metadata": {
        "outputId": "3f52f262-ffd4-40ae-8af3-bc174b331ad7",
        "colab": {
          "base_uri": "https://localhost:8080/"
        },
        "id": "lzVCFjj3fd1i"
      },
      "execution_count": null,
      "outputs": [
        {
          "output_type": "stream",
          "name": "stderr",
          "text": [
            "100%|██████████| 451/451 [02:08<00:00,  3.50it/s]\n"
          ]
        }
      ]
    },
    {
      "cell_type": "code",
      "source": [
        "base_model_Dense = tf.keras.applications.DenseNet201(input_shape=(224, 224, 3), include_top=False, weights=\"imagenet\")\n",
        "base_model_Dense.trainable = True\n",
        "for layer in base_model_Dense.layers[:300]:    #fix w & bias in layer 0-300\n",
        "    layer.trainable = False\n",
        "#Add custom head\n",
        "average_pooling_layer = tf.keras.layers.GlobalAveragePooling2D()(base_model_Dense.output)\n",
        "prediction_layer = tf.keras.layers.Dense(units=2, activation=\"sigmoid\")(average_pooling_layer)   # unit 2\n",
        "model_Dense = tf.keras.models.Model(inputs=base_model_Dense.input, outputs=prediction_layer)\n",
        "model_Dense.compile(optimizer=Adam(learning_rate=0.0001), loss=\"binary_crossentropy\", metrics=[\"accuracy\"])\n",
        "\n",
        "### K-fold\n",
        "kf = KFold(5, shuffle=True, random_state=40) \n",
        "\n",
        "oos_y = []\n",
        "oos_pred = []\n",
        "fold = 0\n",
        "\n",
        "for train, test in kf.split(data_Dense):\n",
        "    fold+=1\n",
        "    print(f\"Fold #{fold}\")\n",
        "\n",
        "    filename = f\" {filepath}{fold}.h5 \"\n",
        "    checkpoint = ModelCheckpoint(filename, monitor='val_accuracy', verbose=1,   save_best_only=True, mode='max')\n",
        "\n",
        "    x_train_Dense = data_Dense[train]\n",
        "    y_train_Dense = labels_Dense[train]\n",
        "    x_test_Dense = data_Dense[test]\n",
        "    y_test_Dense = labels_Dense[test]\n",
        "\n",
        "    H_Dense = model_Dense.fit( x=aug.flow(x_train_Dense, y_train_Dense, batch_size=BS),\n",
        "\t                                            validation_data=(x_test_Dense, y_test_Dense),\n",
        "\t                                            steps_per_epoch=len(x_train_Dense) // BS,\n",
        "\t                                            epochs=30,  callbacks = [callback,checkpoint,reduce_lr])\n",
        "    \n",
        "    pred_Dense = model_Dense.predict(x_test_Dense)\n",
        "    \n",
        "    oos_y.append(y_test_Dense)\n",
        "    oos_pred.append(pred_Dense)  \n",
        "    print(classification_report(y_test_Dense.argmax(axis=1),\t                #แสดง report ค่า acc, recall, ...\n",
        "                                        pred_Dense.argmax(axis=1),  \n",
        "                                        target_names=le_Dense.classes_))   \n",
        "    \n",
        "oos_y = np.concatenate(oos_y)\n",
        "oos_pred = np.concatenate(oos_pred)\n",
        "print(classification_report(oos_y.argmax(axis=1), oos_pred.argmax(axis=1),  target_names=le_Dense.classes_))"
      ],
      "metadata": {
        "id": "TvLEmvBLfd1j"
      },
      "execution_count": null,
      "outputs": []
    },
    {
      "cell_type": "markdown",
      "source": [
        "#### 16 sig pre bi sgd\n",
        "--> "
      ],
      "metadata": {
        "id": "jQPJH4Iqfd1j"
      }
    },
    {
      "cell_type": "code",
      "source": [
        "BS = 16\n",
        "filepath = \"Kmodel16_sig_pre_bi_sgd\"                  ##\n",
        "\n",
        "train_img_Dense = []\n",
        "for ImageName in tqdm(data_train3['ImageName']):               # รัน ชื่อรูป ในไฟล์ data_test3\n",
        "    image_path = All_3class_dir +'/' + ImageName                   # ดึงรูปในโฟล์เดอร์มาทีละรูป\n",
        "    img = cv2.imread(image_path)                                            # อ่านรูป\n",
        "    img = cv2.resize(img, (224, 224))                                       #ขนาดของ input\n",
        "    train_img_Dense.append(img)\n",
        "data_Dense = np.array(train_img_Dense, dtype=\"float32\") / 255.0\n",
        "\n",
        "labels_Dense = np.array(data_train3[['NameType']] )        \n",
        "labels_Dense.shape = (len(labels_Dense),) \n",
        "le_Dense = LabelEncoder()                                                                     \n",
        "labels_Dense = le_Dense.fit_transform(labels_Dense)                                         #จะแปลงชื่อ class เป็นตัวเลข 1, 2, 0 \n",
        "labels_Dense = to_categorical(labels_Dense, num_classes=2)                    \n",
        "\n",
        "aug = ImageDataGenerator( rotation_range=15,\twidth_shift_range=0.1, \theight_shift_range=0.1,\n",
        "\t\tshear_range=0.15, \thorizontal_flip=True, \tfill_mode=\"nearest\")\n",
        "                                                                                                          \n",
        "callback = EarlyStopping( monitor= \"val_accuracy\",    patience=15,       mode=\"max\")\n",
        "\n",
        "# checkpoint = ModelCheckpoint(filepath, monitor='val_accuracy', verbose=1,   save_best_only=True, mode='max')\n",
        "                                                                                                            ##\n",
        "reduce_lr = ReduceLROnPlateau(monitor='val_accuracy', factor=0.5,   patience=6,     verbose=1, mode='max', min_lr=0.00001)"
      ],
      "metadata": {
        "outputId": "3f52f262-ffd4-40ae-8af3-bc174b331ad7",
        "colab": {
          "base_uri": "https://localhost:8080/"
        },
        "id": "QGF3XmIEfd1k"
      },
      "execution_count": null,
      "outputs": [
        {
          "output_type": "stream",
          "name": "stderr",
          "text": [
            "100%|██████████| 451/451 [02:08<00:00,  3.50it/s]\n"
          ]
        }
      ]
    },
    {
      "cell_type": "code",
      "source": [
        "base_model_Dense = tf.keras.applications.DenseNet201(input_shape=(224, 224, 3), include_top=False, weights=\"imagenet\")\n",
        "base_model_Dense.trainable = True\n",
        "for layer in base_model_Dense.layers[:300]:    #fix w & bias in layer 0-300\n",
        "    layer.trainable = False\n",
        "#Add custom head\n",
        "average_pooling_layer = tf.keras.layers.GlobalAveragePooling2D()(base_model_Dense.output)\n",
        "prediction_layer = tf.keras.layers.Dense(units=2, activation=\"sigmoid\")(average_pooling_layer)   # unit 2\n",
        "model_Dense = tf.keras.models.Model(inputs=base_model_Dense.input, outputs=prediction_layer)\n",
        "model_Dense.compile(optimizer=SGD(learning_rate=0.0001), loss=\"binary_crossentropy\", metrics=[\"accuracy\"])\n",
        "\n",
        "### K-fold\n",
        "kf = KFold(5, shuffle=True, random_state=40) \n",
        "\n",
        "oos_y = []\n",
        "oos_pred = []\n",
        "fold = 0\n",
        "\n",
        "for train, test in kf.split(data_Dense):\n",
        "    fold+=1\n",
        "    print(f\"Fold #{fold}\")\n",
        "\n",
        "    filename = f\" {filepath}{fold}.h5 \"\n",
        "    checkpoint = ModelCheckpoint(filename, monitor='val_accuracy', verbose=1,   save_best_only=True, mode='max')\n",
        "\n",
        "    x_train_Dense = data_Dense[train]\n",
        "    y_train_Dense = labels_Dense[train]\n",
        "    x_test_Dense = data_Dense[test]\n",
        "    y_test_Dense = labels_Dense[test]\n",
        "\n",
        "    H_Dense = model_Dense.fit( x=aug.flow(x_train_Dense, y_train_Dense, batch_size=BS),\n",
        "\t                                            validation_data=(x_test_Dense, y_test_Dense),\n",
        "\t                                            steps_per_epoch=len(x_train_Dense) // BS,\n",
        "\t                                            epochs=30,  callbacks = [callback,checkpoint,reduce_lr])\n",
        "    \n",
        "    pred_Dense = model_Dense.predict(x_test_Dense)\n",
        "    \n",
        "    oos_y.append(y_test_Dense)\n",
        "    oos_pred.append(pred_Dense)  \n",
        "    print(classification_report(y_test_Dense.argmax(axis=1),\t                #แสดง report ค่า acc, recall, ...\n",
        "                                        pred_Dense.argmax(axis=1),  \n",
        "                                        target_names=le_Dense.classes_))   \n",
        "    \n",
        "oos_y = np.concatenate(oos_y)\n",
        "oos_pred = np.concatenate(oos_pred)\n",
        "print(classification_report(oos_y.argmax(axis=1), oos_pred.argmax(axis=1),  target_names=le_Dense.classes_))"
      ],
      "metadata": {
        "id": "g3ZmYvxlfd1k"
      },
      "execution_count": null,
      "outputs": []
    },
    {
      "cell_type": "markdown",
      "source": [
        "### 32"
      ],
      "metadata": {
        "id": "0nCxilEDfd1l"
      }
    },
    {
      "cell_type": "markdown",
      "source": [
        "#### 32  sig pre bi\n",
        "--> "
      ],
      "metadata": {
        "id": "8f7k31Jwfd1l"
      }
    },
    {
      "cell_type": "code",
      "source": [
        "BS = 32\n",
        "filepath = \"Kmodel32_sig_pre_bi\"                  ##\n",
        "\n",
        "train_img_Dense = []\n",
        "for ImageName in tqdm(data_train3['ImageName']):               # รัน ชื่อรูป ในไฟล์ data_test3\n",
        "    image_path = All_3class_dir +'/' + ImageName                   # ดึงรูปในโฟล์เดอร์มาทีละรูป\n",
        "    img = cv2.imread(image_path)                                            # อ่านรูป\n",
        "    img = cv2.resize(img, (224, 224))                                       #ขนาดของ input\n",
        "    train_img_Dense.append(img)\n",
        "data_Dense = np.array(train_img_Dense, dtype=\"float32\") / 255.0\n",
        "\n",
        "labels_Dense = np.array(data_train3[['NameType']] )        \n",
        "labels_Dense.shape = (len(labels_Dense),) \n",
        "le_Dense = LabelEncoder()                                                                     \n",
        "labels_Dense = le_Dense.fit_transform(labels_Dense)                                         #จะแปลงชื่อ class เป็นตัวเลข 1, 2, 0 \n",
        "labels_Dense = to_categorical(labels_Dense, num_classes=2)                    \n",
        "\n",
        "aug = ImageDataGenerator( rotation_range=15,\twidth_shift_range=0.1, \theight_shift_range=0.1,\n",
        "\t\tshear_range=0.15, \thorizontal_flip=True, \tfill_mode=\"nearest\")\n",
        "                                                                                                          \n",
        "callback = EarlyStopping( monitor= \"val_accuracy\",    patience=15,       mode=\"max\")\n",
        "\n",
        "# checkpoint = ModelCheckpoint(filepath, monitor='val_accuracy', verbose=1,   save_best_only=True, mode='max')\n",
        "                                                                                                            ##\n",
        "reduce_lr = ReduceLROnPlateau(monitor='val_accuracy', factor=0.5,   patience=6,     verbose=1, mode='max', min_lr=0.00001)"
      ],
      "metadata": {
        "outputId": "8741a3e8-2d19-43a6-8086-241819a23a7f",
        "colab": {
          "base_uri": "https://localhost:8080/"
        },
        "id": "BEZfKvE4fd1l"
      },
      "execution_count": null,
      "outputs": [
        {
          "output_type": "stream",
          "name": "stderr",
          "text": [
            "100%|██████████| 451/451 [00:10<00:00, 44.85it/s]\n"
          ]
        }
      ]
    },
    {
      "cell_type": "code",
      "source": [
        "base_model_Dense = tf.keras.applications.DenseNet201(input_shape=(224, 224, 3), include_top=False, weights=\"imagenet\")\n",
        "base_model_Dense.trainable = True\n",
        "for layer in base_model_Dense.layers[:300]:    #fix w & bias in layer 0-300\n",
        "    layer.trainable = False\n",
        "#Add custom head\n",
        "average_pooling_layer = tf.keras.layers.GlobalAveragePooling2D()(base_model_Dense.output)\n",
        "prediction_layer = tf.keras.layers.Dense(units=2, activation=\"sigmoid\")(average_pooling_layer)   # unit 2\n",
        "model_Dense = tf.keras.models.Model(inputs=base_model_Dense.input, outputs=prediction_layer)\n",
        "model_Dense.compile(optimizer=tf.keras.optimizers.RMSprop(learning_rate=0.0001), loss=\"binary_crossentropy\", metrics=[\"accuracy\"])\n",
        "\n",
        "### K-fold\n",
        "kf = KFold(5, shuffle=True, random_state=40) \n",
        "\n",
        "oos_y = []\n",
        "oos_pred = []\n",
        "fold = 0\n",
        "\n",
        "for train, test in kf.split(data_Dense):\n",
        "    fold+=1\n",
        "    print(f\"Fold #{fold}\")\n",
        "\n",
        "    filename = f\" {filepath}{fold}.h5 \"\n",
        "    checkpoint = ModelCheckpoint(filename, monitor='val_accuracy', verbose=1,   save_best_only=True, mode='max')\n",
        "\n",
        "    x_train_Dense = data_Dense[train]\n",
        "    y_train_Dense = labels_Dense[train]\n",
        "    x_test_Dense = data_Dense[test]\n",
        "    y_test_Dense = labels_Dense[test]\n",
        "\n",
        "    H_Dense = model_Dense.fit( x=aug.flow(x_train_Dense, y_train_Dense, batch_size=BS),\n",
        "\t                                            validation_data=(x_test_Dense, y_test_Dense),\n",
        "\t                                            steps_per_epoch=len(x_train_Dense) // BS,\n",
        "\t                                            epochs=30,  callbacks = [callback,checkpoint,reduce_lr])\n",
        "    \n",
        "    pred_Dense = model_Dense.predict(x_test_Dense)\n",
        "    \n",
        "    oos_y.append(y_test_Dense)\n",
        "    oos_pred.append(pred_Dense)  \n",
        "    print(classification_report(y_test_Dense.argmax(axis=1),\t                #แสดง report ค่า acc, recall, ...\n",
        "                                        pred_Dense.argmax(axis=1),  \n",
        "                                        target_names=le_Dense.classes_))   \n",
        "    \n",
        "oos_y = np.concatenate(oos_y)\n",
        "oos_pred = np.concatenate(oos_pred)\n",
        "print(classification_report(oos_y.argmax(axis=1), oos_pred.argmax(axis=1),  target_names=le_Dense.classes_))"
      ],
      "metadata": {
        "id": "FbLmOg6Rfd1m"
      },
      "execution_count": null,
      "outputs": []
    },
    {
      "cell_type": "markdown",
      "source": [
        "#### 32 sig pre bi adam\n",
        "--> "
      ],
      "metadata": {
        "id": "7bIvSkpvfd1n"
      }
    },
    {
      "cell_type": "code",
      "source": [
        "BS = 32\n",
        "filepath = \"Kmodel32_sig_pre_bi_adam\"                  ##\n",
        "\n",
        "train_img_Dense = []\n",
        "for ImageName in tqdm(data_train3['ImageName']):               # รัน ชื่อรูป ในไฟล์ data_test3\n",
        "    image_path = All_3class_dir +'/' + ImageName                   # ดึงรูปในโฟล์เดอร์มาทีละรูป\n",
        "    img = cv2.imread(image_path)                                            # อ่านรูป\n",
        "    img = cv2.resize(img, (224, 224))                                       #ขนาดของ input\n",
        "    train_img_Dense.append(img)\n",
        "data_Dense = np.array(train_img_Dense, dtype=\"float32\") / 255.0\n",
        "\n",
        "labels_Dense = np.array(data_train3[['NameType']] )        \n",
        "labels_Dense.shape = (len(labels_Dense),) \n",
        "le_Dense = LabelEncoder()                                                                     \n",
        "labels_Dense = le_Dense.fit_transform(labels_Dense)                                         #จะแปลงชื่อ class เป็นตัวเลข 1, 2, 0 \n",
        "labels_Dense = to_categorical(labels_Dense, num_classes=2)                    \n",
        "\n",
        "aug = ImageDataGenerator( rotation_range=15,\twidth_shift_range=0.1, \theight_shift_range=0.1,\n",
        "\t\tshear_range=0.15, \thorizontal_flip=True, \tfill_mode=\"nearest\")\n",
        "                                                                                                          \n",
        "callback = EarlyStopping( monitor= \"val_accuracy\",    patience=15,       mode=\"max\")\n",
        "\n",
        "# checkpoint = ModelCheckpoint(filepath, monitor='val_accuracy', verbose=1,   save_best_only=True, mode='max')\n",
        "                                                                                                            ##\n",
        "reduce_lr = ReduceLROnPlateau(monitor='val_accuracy', factor=0.5,   patience=6,     verbose=1, mode='max', min_lr=0.00001)"
      ],
      "metadata": {
        "outputId": "3f52f262-ffd4-40ae-8af3-bc174b331ad7",
        "colab": {
          "base_uri": "https://localhost:8080/"
        },
        "id": "kMiNRjw6fd1n"
      },
      "execution_count": null,
      "outputs": [
        {
          "output_type": "stream",
          "name": "stderr",
          "text": [
            "100%|██████████| 451/451 [02:08<00:00,  3.50it/s]\n"
          ]
        }
      ]
    },
    {
      "cell_type": "code",
      "source": [
        "base_model_Dense = tf.keras.applications.DenseNet201(input_shape=(224, 224, 3), include_top=False, weights=\"imagenet\")\n",
        "base_model_Dense.trainable = True\n",
        "for layer in base_model_Dense.layers[:300]:    #fix w & bias in layer 0-300\n",
        "    layer.trainable = False\n",
        "#Add custom head\n",
        "average_pooling_layer = tf.keras.layers.GlobalAveragePooling2D()(base_model_Dense.output)\n",
        "prediction_layer = tf.keras.layers.Dense(units=2, activation=\"sigmoid\")(average_pooling_layer)   # unit 2\n",
        "model_Dense = tf.keras.models.Model(inputs=base_model_Dense.input, outputs=prediction_layer)\n",
        "model_Dense.compile(optimizer=Adam(learning_rate=0.0001), loss=\"binary_crossentropy\", metrics=[\"accuracy\"])\n",
        "\n",
        "### K-fold\n",
        "kf = KFold(5, shuffle=True, random_state=40) \n",
        "\n",
        "oos_y = []\n",
        "oos_pred = []\n",
        "fold = 0\n",
        "\n",
        "for train, test in kf.split(data_Dense):\n",
        "    fold+=1\n",
        "    print(f\"Fold #{fold}\")\n",
        "\n",
        "    filename = f\" {filepath}{fold}.h5 \"\n",
        "    checkpoint = ModelCheckpoint(filename, monitor='val_accuracy', verbose=1,   save_best_only=True, mode='max')\n",
        "\n",
        "    x_train_Dense = data_Dense[train]\n",
        "    y_train_Dense = labels_Dense[train]\n",
        "    x_test_Dense = data_Dense[test]\n",
        "    y_test_Dense = labels_Dense[test]\n",
        "\n",
        "    H_Dense = model_Dense.fit( x=aug.flow(x_train_Dense, y_train_Dense, batch_size=BS),\n",
        "\t                                            validation_data=(x_test_Dense, y_test_Dense),\n",
        "\t                                            steps_per_epoch=len(x_train_Dense) // BS,\n",
        "\t                                            epochs=30,  callbacks = [callback,checkpoint,reduce_lr])\n",
        "    \n",
        "    pred_Dense = model_Dense.predict(x_test_Dense)\n",
        "    \n",
        "    oos_y.append(y_test_Dense)\n",
        "    oos_pred.append(pred_Dense)  \n",
        "    print(classification_report(y_test_Dense.argmax(axis=1),\t                #แสดง report ค่า acc, recall, ...\n",
        "                                        pred_Dense.argmax(axis=1),  \n",
        "                                        target_names=le_Dense.classes_))   \n",
        "    \n",
        "oos_y = np.concatenate(oos_y)\n",
        "oos_pred = np.concatenate(oos_pred)\n",
        "print(classification_report(oos_y.argmax(axis=1), oos_pred.argmax(axis=1),  target_names=le_Dense.classes_))"
      ],
      "metadata": {
        "id": "Mxsl4HyHfd1n"
      },
      "execution_count": null,
      "outputs": []
    },
    {
      "cell_type": "markdown",
      "source": [
        "#### 32 sig pre bi sgd\n",
        "--> "
      ],
      "metadata": {
        "id": "C7I2rk5xfd1o"
      }
    },
    {
      "cell_type": "code",
      "source": [
        "BS = 32\n",
        "filepath = \"Kmodel32_sig_pre_bi_sgd\"                  ##\n",
        "\n",
        "train_img_Dense = []\n",
        "for ImageName in tqdm(data_train3['ImageName']):               # รัน ชื่อรูป ในไฟล์ data_test3\n",
        "    image_path = All_3class_dir +'/' + ImageName                   # ดึงรูปในโฟล์เดอร์มาทีละรูป\n",
        "    img = cv2.imread(image_path)                                            # อ่านรูป\n",
        "    img = cv2.resize(img, (224, 224))                                       #ขนาดของ input\n",
        "    train_img_Dense.append(img)\n",
        "data_Dense = np.array(train_img_Dense, dtype=\"float32\") / 255.0\n",
        "\n",
        "labels_Dense = np.array(data_train3[['NameType']] )        \n",
        "labels_Dense.shape = (len(labels_Dense),) \n",
        "le_Dense = LabelEncoder()                                                                     \n",
        "labels_Dense = le_Dense.fit_transform(labels_Dense)                                         #จะแปลงชื่อ class เป็นตัวเลข 1, 2, 0 \n",
        "labels_Dense = to_categorical(labels_Dense, num_classes=2)                    \n",
        "\n",
        "aug = ImageDataGenerator( rotation_range=15,\twidth_shift_range=0.1, \theight_shift_range=0.1,\n",
        "\t\tshear_range=0.15, \thorizontal_flip=True, \tfill_mode=\"nearest\")\n",
        "                                                                                                          \n",
        "callback = EarlyStopping( monitor= \"val_accuracy\",    patience=15,       mode=\"max\")\n",
        "\n",
        "# checkpoint = ModelCheckpoint(filepath, monitor='val_accuracy', verbose=1,   save_best_only=True, mode='max')\n",
        "                                                                                                            ##\n",
        "reduce_lr = ReduceLROnPlateau(monitor='val_accuracy', factor=0.5,   patience=6,     verbose=1, mode='max', min_lr=0.00001)"
      ],
      "metadata": {
        "outputId": "3f52f262-ffd4-40ae-8af3-bc174b331ad7",
        "colab": {
          "base_uri": "https://localhost:8080/"
        },
        "id": "Nq3tsQ4Ifd1o"
      },
      "execution_count": null,
      "outputs": [
        {
          "output_type": "stream",
          "name": "stderr",
          "text": [
            "100%|██████████| 451/451 [02:08<00:00,  3.50it/s]\n"
          ]
        }
      ]
    },
    {
      "cell_type": "code",
      "source": [
        "base_model_Dense = tf.keras.applications.DenseNet201(input_shape=(224, 224, 3), include_top=False, weights=\"imagenet\")\n",
        "base_model_Dense.trainable = True\n",
        "for layer in base_model_Dense.layers[:300]:    #fix w & bias in layer 0-300\n",
        "    layer.trainable = False\n",
        "#Add custom head\n",
        "average_pooling_layer = tf.keras.layers.GlobalAveragePooling2D()(base_model_Dense.output)\n",
        "prediction_layer = tf.keras.layers.Dense(units=2, activation=\"sigmoid\")(average_pooling_layer)   # unit 2\n",
        "model_Dense = tf.keras.models.Model(inputs=base_model_Dense.input, outputs=prediction_layer)\n",
        "model_Dense.compile(optimizer=SGD(learning_rate=0.0001), loss=\"binary_crossentropy\", metrics=[\"accuracy\"])\n",
        "\n",
        "### K-fold\n",
        "kf = KFold(5, shuffle=True, random_state=40) \n",
        "\n",
        "oos_y = []\n",
        "oos_pred = []\n",
        "fold = 0\n",
        "\n",
        "for train, test in kf.split(data_Dense):\n",
        "    fold+=1\n",
        "    print(f\"Fold #{fold}\")\n",
        "\n",
        "    filename = f\" {filepath}{fold}.h5 \"\n",
        "    checkpoint = ModelCheckpoint(filename, monitor='val_accuracy', verbose=1,   save_best_only=True, mode='max')\n",
        "\n",
        "    x_train_Dense = data_Dense[train]\n",
        "    y_train_Dense = labels_Dense[train]\n",
        "    x_test_Dense = data_Dense[test]\n",
        "    y_test_Dense = labels_Dense[test]\n",
        "\n",
        "    H_Dense = model_Dense.fit( x=aug.flow(x_train_Dense, y_train_Dense, batch_size=BS),\n",
        "\t                                            validation_data=(x_test_Dense, y_test_Dense),\n",
        "\t                                            steps_per_epoch=len(x_train_Dense) // BS,\n",
        "\t                                            epochs=30,  callbacks = [callback,checkpoint,reduce_lr])\n",
        "    \n",
        "    pred_Dense = model_Dense.predict(x_test_Dense)\n",
        "    \n",
        "    oos_y.append(y_test_Dense)\n",
        "    oos_pred.append(pred_Dense)  \n",
        "    print(classification_report(y_test_Dense.argmax(axis=1),\t                #แสดง report ค่า acc, recall, ...\n",
        "                                        pred_Dense.argmax(axis=1),  \n",
        "                                        target_names=le_Dense.classes_))   \n",
        "    \n",
        "oos_y = np.concatenate(oos_y)\n",
        "oos_pred = np.concatenate(oos_pred)\n",
        "print(classification_report(oos_y.argmax(axis=1), oos_pred.argmax(axis=1),  target_names=le_Dense.classes_))"
      ],
      "metadata": {
        "id": "MxEYDhbsfd1o"
      },
      "execution_count": null,
      "outputs": []
    }
  ]
}