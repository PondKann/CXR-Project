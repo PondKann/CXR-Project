{
  "nbformat": 4,
  "nbformat_minor": 0,
  "metadata": {
    "colab": {
      "name": "DenseNet_Pretrained_2class.ipynb",
      "provenance": [],
      "authorship_tag": "ABX9TyOSlAD3EulJV3DS1Sx7m7G6",
      "include_colab_link": true
    },
    "kernelspec": {
      "name": "python3",
      "display_name": "Python 3"
    },
    "language_info": {
      "name": "python"
    }
  },
  "cells": [
    {
      "cell_type": "markdown",
      "metadata": {
        "id": "view-in-github",
        "colab_type": "text"
      },
      "source": [
        "<a href=\"https://colab.research.google.com/github/PondKann/CXR-Project/blob/main/DenseNet_Pretrained_2class.ipynb\" target=\"_parent\"><img src=\"https://colab.research.google.com/assets/colab-badge.svg\" alt=\"Open In Colab\"/></a>"
      ]
    },
    {
      "cell_type": "markdown",
      "metadata": {
        "id": "Kpnf_sft9x4-"
      },
      "source": [
        "###### import"
      ]
    },
    {
      "cell_type": "code",
      "execution_count": 1,
      "metadata": {
        "id": "Psng6eJUdzUG"
      },
      "outputs": [],
      "source": [
        "import os\n",
        "import tensorflow as tf\n",
        "import matplotlib.pyplot as plt\n",
        "%matplotlib inline\n",
        "from tensorflow.keras.preprocessing.image import ImageDataGenerator\n",
        "import cv2\n",
        "import numpy as np\n",
        "import pandas as pd\n",
        "from torchsummary import summary\n",
        "from skimage.io import imread, imsave\n",
        "from tqdm import tqdm\n",
        "\n",
        "from sklearn.model_selection import train_test_split\n",
        "from sklearn.metrics import accuracy_score, confusion_matrix\n",
        "\n",
        "import PIL\n",
        "from PIL import Image"
      ]
    },
    {
      "cell_type": "code",
      "execution_count": 2,
      "metadata": {
        "id": "6f-PDKiLl2iC"
      },
      "outputs": [],
      "source": [
        "# set the matplotlib backend so figures can be saved in the background\n",
        "import matplotlib\n",
        "matplotlib.use(\"Agg\")\n",
        "\n",
        "from sklearn.preprocessing import LabelEncoder\n",
        "from sklearn.metrics import classification_report\n",
        "from tensorflow.keras.optimizers import SGD\n",
        "from tensorflow.keras.utils import to_categorical\n",
        "from imutils import paths\n",
        "import argparse\n",
        "\n",
        "from sklearn.model_selection import KFold\n",
        "from sklearn import metrics\n",
        "from scipy.stats import zscore"
      ]
    },
    {
      "cell_type": "markdown",
      "metadata": {
        "id": "Z1e52UqdwPp8"
      },
      "source": [
        "#### Load data"
      ]
    },
    {
      "cell_type": "code",
      "execution_count": 3,
      "metadata": {
        "colab": {
          "base_uri": "https://localhost:8080/"
        },
        "id": "DlcukkP7fnhB",
        "outputId": "901b6af4-2647-4752-cfa4-a0decfa43d7d"
      },
      "outputs": [
        {
          "output_type": "stream",
          "name": "stdout",
          "text": [
            "Mounted at /content/drive\n"
          ]
        }
      ],
      "source": [
        "from google.colab import drive\n",
        "drive.mount('/content/drive')"
      ]
    },
    {
      "cell_type": "code",
      "execution_count": 4,
      "metadata": {
        "id": "0w8suy5ofqx_"
      },
      "outputs": [],
      "source": [
        "data_dir = '/content/drive/My Drive/Senior Project/CXR Image3class/Image'"
      ]
    },
    {
      "cell_type": "markdown",
      "metadata": {
        "id": "xhqPQxA42jeC"
      },
      "source": [
        "train 3 class"
      ]
    },
    {
      "cell_type": "code",
      "execution_count": 5,
      "metadata": {
        "id": "-Jrg5mt_RvJT"
      },
      "outputs": [],
      "source": [
        "Normal151_dir = os.path.join(data_dir,'Normal151')\n",
        "TB150_dir = os.path.join(data_dir,'TB150')\n",
        "CA150_dir = os.path.join(data_dir,'CA150')\n",
        "\n",
        "All_3class_dir = os.path.join(data_dir,'All_3class')"
      ]
    },
    {
      "cell_type": "markdown",
      "metadata": {
        "id": "g71UX3BnhMU5"
      },
      "source": [
        "#### train 3 class  --- สร้างตารางเก็บ ชื่อภาพ และชื่อคลาส\n",
        "ข้อมูลใน All_3class_dir รวมภาพทั้ง 3 คลาส รวม 451 ภาพ TB150, Normal151 และ CA150 (CA คือ lungcancer)"
      ]
    },
    {
      "cell_type": "code",
      "execution_count": 6,
      "metadata": {
        "id": "gbgiHWi9hMU6"
      },
      "outputs": [],
      "source": [
        "Normal151_dir = os.path.join(data_dir,'Normal151')\n",
        "TB150_dir = os.path.join(data_dir,'TB150')\n",
        "CA150_dir = os.path.join(data_dir,'CA150')\n",
        "\n",
        "All_3class_dir = os.path.join(data_dir,'All_3class')"
      ]
    },
    {
      "cell_type": "code",
      "execution_count": 7,
      "metadata": {
        "id": "XhIRkVUDhMU7"
      },
      "outputs": [],
      "source": [
        "normal = []\n",
        "for i in range(len(os.listdir(Normal151_dir))):\n",
        "    img = os.listdir(Normal151_dir)[i]\n",
        "    normal.append(img)\n",
        "    \n",
        "tnormal = pd.DataFrame({'ImageName':[normal][0],\n",
        "                                       'NameType': \"Normal\"  })"
      ]
    },
    {
      "cell_type": "code",
      "execution_count": 8,
      "metadata": {
        "id": "Lcw67LQyhMU7"
      },
      "outputs": [],
      "source": [
        "tuberculosis = []\n",
        "for i in range(len(os.listdir(TB150_dir))):\n",
        "    img = os.listdir(TB150_dir)[i]\n",
        "    tuberculosis.append(img)\n",
        "\n",
        "ttuberculosis = pd.DataFrame({'ImageName':[tuberculosis][0],\n",
        "                                       'NameType': \"Abnormal\"  })"
      ]
    },
    {
      "cell_type": "code",
      "execution_count": 9,
      "metadata": {
        "id": "YFBTCuPEhMU8"
      },
      "outputs": [],
      "source": [
        "lungcancer = []\n",
        "for i in range(len(os.listdir(CA150_dir))):\n",
        "    img = os.listdir(CA150_dir)[i]\n",
        "    lungcancer.append(img)\n",
        "\n",
        "tlungcancer = pd.DataFrame({'ImageName':[lungcancer][0],\n",
        "                                       'NameType': \"Abnormal\"  })"
      ]
    },
    {
      "cell_type": "code",
      "execution_count": 10,
      "metadata": {
        "colab": {
          "base_uri": "https://localhost:8080/",
          "height": 0
        },
        "id": "FdG7BpQihMU8",
        "outputId": "1a9f5f1e-e59e-47dc-8cff-d1e1f0b0417a"
      },
      "outputs": [
        {
          "output_type": "execute_result",
          "data": {
            "text/html": [
              "\n",
              "  <div id=\"df-38c6b6f3-6ba0-453a-b481-b807503c9c95\">\n",
              "    <div class=\"colab-df-container\">\n",
              "      <div>\n",
              "<style scoped>\n",
              "    .dataframe tbody tr th:only-of-type {\n",
              "        vertical-align: middle;\n",
              "    }\n",
              "\n",
              "    .dataframe tbody tr th {\n",
              "        vertical-align: top;\n",
              "    }\n",
              "\n",
              "    .dataframe thead th {\n",
              "        text-align: right;\n",
              "    }\n",
              "</style>\n",
              "<table border=\"1\" class=\"dataframe\">\n",
              "  <thead>\n",
              "    <tr style=\"text-align: right;\">\n",
              "      <th></th>\n",
              "      <th>ImageName</th>\n",
              "      <th>NameType</th>\n",
              "    </tr>\n",
              "  </thead>\n",
              "  <tbody>\n",
              "    <tr>\n",
              "      <th>147</th>\n",
              "      <td>ca2.jpg</td>\n",
              "      <td>Abnormal</td>\n",
              "    </tr>\n",
              "    <tr>\n",
              "      <th>148</th>\n",
              "      <td>ca26.jpg</td>\n",
              "      <td>Abnormal</td>\n",
              "    </tr>\n",
              "    <tr>\n",
              "      <th>149</th>\n",
              "      <td>ca8.jpg</td>\n",
              "      <td>Abnormal</td>\n",
              "    </tr>\n",
              "  </tbody>\n",
              "</table>\n",
              "</div>\n",
              "      <button class=\"colab-df-convert\" onclick=\"convertToInteractive('df-38c6b6f3-6ba0-453a-b481-b807503c9c95')\"\n",
              "              title=\"Convert this dataframe to an interactive table.\"\n",
              "              style=\"display:none;\">\n",
              "        \n",
              "  <svg xmlns=\"http://www.w3.org/2000/svg\" height=\"24px\"viewBox=\"0 0 24 24\"\n",
              "       width=\"24px\">\n",
              "    <path d=\"M0 0h24v24H0V0z\" fill=\"none\"/>\n",
              "    <path d=\"M18.56 5.44l.94 2.06.94-2.06 2.06-.94-2.06-.94-.94-2.06-.94 2.06-2.06.94zm-11 1L8.5 8.5l.94-2.06 2.06-.94-2.06-.94L8.5 2.5l-.94 2.06-2.06.94zm10 10l.94 2.06.94-2.06 2.06-.94-2.06-.94-.94-2.06-.94 2.06-2.06.94z\"/><path d=\"M17.41 7.96l-1.37-1.37c-.4-.4-.92-.59-1.43-.59-.52 0-1.04.2-1.43.59L10.3 9.45l-7.72 7.72c-.78.78-.78 2.05 0 2.83L4 21.41c.39.39.9.59 1.41.59.51 0 1.02-.2 1.41-.59l7.78-7.78 2.81-2.81c.8-.78.8-2.07 0-2.86zM5.41 20L4 18.59l7.72-7.72 1.47 1.35L5.41 20z\"/>\n",
              "  </svg>\n",
              "      </button>\n",
              "      \n",
              "  <style>\n",
              "    .colab-df-container {\n",
              "      display:flex;\n",
              "      flex-wrap:wrap;\n",
              "      gap: 12px;\n",
              "    }\n",
              "\n",
              "    .colab-df-convert {\n",
              "      background-color: #E8F0FE;\n",
              "      border: none;\n",
              "      border-radius: 50%;\n",
              "      cursor: pointer;\n",
              "      display: none;\n",
              "      fill: #1967D2;\n",
              "      height: 32px;\n",
              "      padding: 0 0 0 0;\n",
              "      width: 32px;\n",
              "    }\n",
              "\n",
              "    .colab-df-convert:hover {\n",
              "      background-color: #E2EBFA;\n",
              "      box-shadow: 0px 1px 2px rgba(60, 64, 67, 0.3), 0px 1px 3px 1px rgba(60, 64, 67, 0.15);\n",
              "      fill: #174EA6;\n",
              "    }\n",
              "\n",
              "    [theme=dark] .colab-df-convert {\n",
              "      background-color: #3B4455;\n",
              "      fill: #D2E3FC;\n",
              "    }\n",
              "\n",
              "    [theme=dark] .colab-df-convert:hover {\n",
              "      background-color: #434B5C;\n",
              "      box-shadow: 0px 1px 3px 1px rgba(0, 0, 0, 0.15);\n",
              "      filter: drop-shadow(0px 1px 2px rgba(0, 0, 0, 0.3));\n",
              "      fill: #FFFFFF;\n",
              "    }\n",
              "  </style>\n",
              "\n",
              "      <script>\n",
              "        const buttonEl =\n",
              "          document.querySelector('#df-38c6b6f3-6ba0-453a-b481-b807503c9c95 button.colab-df-convert');\n",
              "        buttonEl.style.display =\n",
              "          google.colab.kernel.accessAllowed ? 'block' : 'none';\n",
              "\n",
              "        async function convertToInteractive(key) {\n",
              "          const element = document.querySelector('#df-38c6b6f3-6ba0-453a-b481-b807503c9c95');\n",
              "          const dataTable =\n",
              "            await google.colab.kernel.invokeFunction('convertToInteractive',\n",
              "                                                     [key], {});\n",
              "          if (!dataTable) return;\n",
              "\n",
              "          const docLinkHtml = 'Like what you see? Visit the ' +\n",
              "            '<a target=\"_blank\" href=https://colab.research.google.com/notebooks/data_table.ipynb>data table notebook</a>'\n",
              "            + ' to learn more about interactive tables.';\n",
              "          element.innerHTML = '';\n",
              "          dataTable['output_type'] = 'display_data';\n",
              "          await google.colab.output.renderOutput(dataTable, element);\n",
              "          const docLink = document.createElement('div');\n",
              "          docLink.innerHTML = docLinkHtml;\n",
              "          element.appendChild(docLink);\n",
              "        }\n",
              "      </script>\n",
              "    </div>\n",
              "  </div>\n",
              "  "
            ],
            "text/plain": [
              "    ImageName  NameType\n",
              "147   ca2.jpg  Abnormal\n",
              "148  ca26.jpg  Abnormal\n",
              "149   ca8.jpg  Abnormal"
            ]
          },
          "metadata": {},
          "execution_count": 10
        }
      ],
      "source": [
        "data_train3 = pd.concat([tnormal, ttuberculosis, tlungcancer])\n",
        "data_train3[-3:]"
      ]
    },
    {
      "cell_type": "code",
      "execution_count": 10,
      "metadata": {
        "id": "1uW3Ukp1KC6U"
      },
      "outputs": [],
      "source": [
        ""
      ]
    },
    {
      "cell_type": "markdown",
      "source": [
        "# All Abnormal"
      ],
      "metadata": {
        "id": "6dK8qvUgOsY6"
      }
    },
    {
      "cell_type": "markdown",
      "source": [
        "## 1) K-fold  -- DenseNet201\n",
        "\n",
        "### -->ACC = 0.92\n",
        "### -->เวลา 4027 วินาที\n",
        "\n",
        "*   BS = 8\n",
        "*   activation=\"softmax\"\n",
        "*   learning_rate=0.0001\n",
        "*   epoch 30"
      ],
      "metadata": {
        "id": "0L32LTa-AmKM"
      }
    },
    {
      "cell_type": "code",
      "source": [
        "train_img_Dense = []\n",
        "for ImageName in tqdm(data_train3['ImageName']):               # รัน ชื่อรูป ในไฟล์ data_test3\n",
        "    image_path = All_3class_dir +'/' + ImageName                   # ดึงรูปในโฟล์เดอร์มาทีละรูป\n",
        "    img = cv2.imread(image_path)                                            # อ่านรูป\n",
        "    img = cv2.resize(img, (224, 224))                                       #ขนาดของ input\n",
        "    train_img_Dense.append(img)\n",
        "\n",
        "data_Dense = np.array(train_img_Dense, dtype=\"float32\") / 255.0"
      ],
      "metadata": {
        "id": "jhfvC-NqAmKN",
        "colab": {
          "base_uri": "https://localhost:8080/"
        },
        "outputId": "3af5f769-ed27-4269-91d6-fec6ddd499b2"
      },
      "execution_count": null,
      "outputs": [
        {
          "output_type": "stream",
          "name": "stderr",
          "text": [
            "100%|██████████| 451/451 [04:17<00:00,  1.75it/s]\n"
          ]
        }
      ]
    },
    {
      "cell_type": "code",
      "source": [
        "labels_Dense = np.array(data_train3[['NameType']] )        \n",
        "labels_Dense.shape = (len(labels_Dense),) \n",
        "\n",
        "le_Dense = LabelEncoder()                                                                     \n",
        "labels_Dense = le_Dense.fit_transform(labels_Dense)                                         #จะแปลงชื่อ class เป็นตัวเลข 1, 2, 0 \n",
        "\n",
        "labels_Dense = to_categorical(labels_Dense, num_classes=2)                   #shape (180, 3) มีค่าเป็น  [0., 1., 0.]  กับ   [0., 0., 1.] กับ  [1., 0., 0.]"
      ],
      "metadata": {
        "id": "MeaRfwG5A06x"
      },
      "execution_count": null,
      "outputs": []
    },
    {
      "cell_type": "code",
      "source": [
        "INIT_LR = 1e-1\n",
        "BS = 8\n",
        "EPOCHS = 50\n",
        "\n",
        "aug = ImageDataGenerator(\n",
        "\t\trotation_range=15,\t\t\t\t\t\t#องศาการหมุน\n",
        "\t\twidth_shift_range=0.1,\n",
        "\t\theight_shift_range=0.1,\n",
        "\t\tshear_range=0.15,\n",
        "\t\thorizontal_flip=True,\n",
        "\t\tfill_mode=\"nearest\")\n",
        "\n",
        "callback = tf.keras.callbacks.EarlyStopping(\n",
        "                monitor=\"val_accuracy\",\n",
        "                patience=3,\n",
        "                mode=\"max\" )"
      ],
      "metadata": {
        "id": "0wB74-IDAmKO"
      },
      "execution_count": null,
      "outputs": []
    },
    {
      "cell_type": "code",
      "source": [
        "base_model_Dense = tf.keras.applications.DenseNet201(input_shape=(224, 224, 3), include_top=False, weights=\"imagenet\")\n",
        "base_model_Dense.trainable=False\n",
        "\n",
        "#Add custom head\n",
        "average_pooling_layer = tf.keras.layers.GlobalAveragePooling2D()(base_model_Dense.output)\n",
        "prediction_layer = tf.keras.layers.Dense(units=2, activation=\"softmax\")(average_pooling_layer)   # unit 3\n",
        "model_Dense = tf.keras.models.Model(inputs=base_model_Dense.input, outputs=prediction_layer)\n",
        "\n",
        "model_Dense.compile(optimizer=tf.keras.optimizers.RMSprop(learning_rate=0.0001), loss=\"binary_crossentropy\", metrics=[\"accuracy\"])"
      ],
      "metadata": {
        "id": "0Iuuw2AdBYIj",
        "colab": {
          "base_uri": "https://localhost:8080/"
        },
        "outputId": "ee66f4bb-0b5c-4123-e028-1cfa456ada25"
      },
      "execution_count": null,
      "outputs": [
        {
          "output_type": "stream",
          "name": "stdout",
          "text": [
            "Downloading data from https://storage.googleapis.com/tensorflow/keras-applications/densenet/densenet201_weights_tf_dim_ordering_tf_kernels_notop.h5\n",
            "74842112/74836368 [==============================] - 1s 0us/step\n",
            "74850304/74836368 [==============================] - 1s 0us/step\n"
          ]
        }
      ]
    },
    {
      "cell_type": "code",
      "source": [
        "kf_Dense = KFold(5, shuffle=True, random_state=40) \n",
        "\n",
        "oos_y = []\n",
        "oos_pred = []\n",
        "fold = 0\n",
        "\n",
        "for train, test in kf_Dense.split(data_Dense):\n",
        "    fold+=1\n",
        "    print(f\"Fold #{fold}\")\n",
        "        \n",
        "    x_train_Dense = data_Dense[train]\n",
        "    y_train_Dense = labels_Dense[train]\n",
        "    x_test_Dense = data_Dense[test]\n",
        "    y_test_Dense = labels_Dense[test]\n",
        "\n",
        "    H_Dense = model_Dense.fit( x=aug.flow(x_train_Dense, y_train_Dense, batch_size=BS),\n",
        "\t                                            validation_data=(x_test_Dense, y_test_Dense),\n",
        "\t                                            steps_per_epoch=len(x_train_Dense) // BS,\n",
        "\t                                            epochs=30,  callbacks = [callback])\n",
        "    \n",
        "    pred_Dense = model_Dense.predict(x_test_Dense)\n",
        "    \n",
        "    oos_y.append(y_test_Dense)\n",
        "    oos_pred.append(pred_Dense)  \n",
        "    print(classification_report(y_test_Dense.argmax(axis=1),\t                #แสดง report ค่า acc, recall, ...\n",
        "                                        pred_Dense.argmax(axis=1),  \n",
        "                                        target_names=le_Dense.classes_))\n",
        "\n"
      ],
      "metadata": {
        "id": "_3cCPrl0AmKP",
        "outputId": "fd4dbc18-ed13-4fdf-f8af-e8f3acb4e71d",
        "colab": {
          "base_uri": "https://localhost:8080/"
        }
      },
      "execution_count": null,
      "outputs": [
        {
          "output_type": "stream",
          "name": "stdout",
          "text": [
            "Fold #1\n",
            "Epoch 1/30\n",
            "45/45 [==============================] - 93s 2s/step - loss: 0.6545 - accuracy: 0.6222 - val_loss: 0.6129 - val_accuracy: 0.6484\n",
            "Epoch 2/30\n",
            "45/45 [==============================] - 91s 2s/step - loss: 0.5956 - accuracy: 0.6778 - val_loss: 0.5920 - val_accuracy: 0.6484\n",
            "Epoch 3/30\n",
            "45/45 [==============================] - 88s 2s/step - loss: 0.5631 - accuracy: 0.6806 - val_loss: 0.5738 - val_accuracy: 0.7473\n",
            "Epoch 4/30\n",
            "45/45 [==============================] - 86s 2s/step - loss: 0.5578 - accuracy: 0.6972 - val_loss: 0.5546 - val_accuracy: 0.7582\n",
            "Epoch 5/30\n",
            "45/45 [==============================] - 80s 2s/step - loss: 0.5346 - accuracy: 0.7083 - val_loss: 0.5376 - val_accuracy: 0.7802\n",
            "Epoch 6/30\n",
            "45/45 [==============================] - 85s 2s/step - loss: 0.5004 - accuracy: 0.7194 - val_loss: 0.5236 - val_accuracy: 0.8022\n",
            "Epoch 7/30\n",
            "45/45 [==============================] - 86s 2s/step - loss: 0.4917 - accuracy: 0.7556 - val_loss: 0.5076 - val_accuracy: 0.8352\n",
            "Epoch 8/30\n",
            "45/45 [==============================] - 88s 2s/step - loss: 0.4649 - accuracy: 0.8028 - val_loss: 0.4907 - val_accuracy: 0.8132\n",
            "Epoch 9/30\n",
            "45/45 [==============================] - 88s 2s/step - loss: 0.4626 - accuracy: 0.7806 - val_loss: 0.4807 - val_accuracy: 0.8462\n",
            "45/45 [==============================] - 87s 2s/step - loss: 0.4519 - accuracy: 0.8194 - val_loss: 0.4667 - val_accuracy: 0.8571\n",
            "Epoch 11/30\n",
            "45/45 [==============================] - 88s 2s/step - loss: 0.4231 - accuracy: 0.8361 - val_loss: 0.4565 - val_accuracy: 0.8571\n",
            "Epoch 12/30\n",
            "45/45 [==============================] - 87s 2s/step - loss: 0.4223 - accuracy: 0.8222 - val_loss: 0.4450 - val_accuracy: 0.8681\n",
            "Epoch 13/30\n",
            "45/45 [==============================] - 87s 2s/step - loss: 0.4085 - accuracy: 0.8389 - val_loss: 0.4354 - val_accuracy: 0.8791\n",
            "Epoch 14/30\n",
            "45/45 [==============================] - 81s 2s/step - loss: 0.3993 - accuracy: 0.8417 - val_loss: 0.4248 - val_accuracy: 0.8791\n",
            "Epoch 15/30\n",
            "45/45 [==============================] - 84s 2s/step - loss: 0.3908 - accuracy: 0.8583 - val_loss: 0.4189 - val_accuracy: 0.8901\n",
            "Epoch 16/30\n",
            "45/45 [==============================] - 85s 2s/step - loss: 0.3801 - accuracy: 0.8917 - val_loss: 0.4107 - val_accuracy: 0.9011\n",
            "Epoch 17/30\n",
            "45/45 [==============================] - 86s 2s/step - loss: 0.3730 - accuracy: 0.8861 - val_loss: 0.4053 - val_accuracy: 0.8901\n",
            "Epoch 18/30\n",
            "45/45 [==============================] - 86s 2s/step - loss: 0.3489 - accuracy: 0.8944 - val_loss: 0.3933 - val_accuracy: 0.9121\n",
            "Epoch 19/30\n",
            "45/45 [==============================] - 85s 2s/step - loss: 0.3479 - accuracy: 0.8972 - val_loss: 0.3852 - val_accuracy: 0.9121\n",
            "Epoch 20/30\n",
            "45/45 [==============================] - 85s 2s/step - loss: 0.3279 - accuracy: 0.9056 - val_loss: 0.3811 - val_accuracy: 0.9011\n",
            "Epoch 21/30\n",
            "45/45 [==============================] - 84s 2s/step - loss: 0.3409 - accuracy: 0.8861 - val_loss: 0.3807 - val_accuracy: 0.9011\n",
            "              precision    recall  f1-score   support\n",
            "\n",
            "    Abnormal       0.96      0.88      0.92        58\n",
            "      Normal       0.82      0.94      0.87        33\n",
            "\n",
            "    accuracy                           0.90        91\n",
            "   macro avg       0.89      0.91      0.90        91\n",
            "weighted avg       0.91      0.90      0.90        91\n",
            "\n",
            "Fold #2\n",
            "Epoch 1/30\n",
            "45/45 [==============================] - 78s 2s/step - loss: 0.3379 - accuracy: 0.8924 - val_loss: 0.3411 - val_accuracy: 0.9111\n",
            "Epoch 2/30\n",
            "45/45 [==============================] - 87s 2s/step - loss: 0.3317 - accuracy: 0.9065 - val_loss: 0.3354 - val_accuracy: 0.9111\n",
            "Epoch 3/30\n",
            "45/45 [==============================] - 88s 2s/step - loss: 0.3312 - accuracy: 0.9093 - val_loss: 0.3359 - val_accuracy: 0.9111\n",
            "Epoch 4/30\n",
            "45/45 [==============================] - 88s 2s/step - loss: 0.3154 - accuracy: 0.8924 - val_loss: 0.3485 - val_accuracy: 0.8889\n",
            "              precision    recall  f1-score   support\n",
            "\n",
            "    Abnormal       0.98      0.86      0.92        64\n",
            "      Normal       0.74      0.96      0.83        26\n",
            "\n",
            "    accuracy                           0.89        90\n",
            "   macro avg       0.86      0.91      0.87        90\n",
            "weighted avg       0.91      0.89      0.89        90\n",
            "\n",
            "Fold #3\n",
            "Epoch 1/30\n",
            "45/45 [==============================] - 80s 2s/step - loss: 0.3064 - accuracy: 0.9178 - val_loss: 0.3317 - val_accuracy: 0.9000\n",
            "Epoch 2/30\n",
            "45/45 [==============================] - 82s 2s/step - loss: 0.3005 - accuracy: 0.9093 - val_loss: 0.3304 - val_accuracy: 0.9000\n",
            "Epoch 3/30\n",
            "45/45 [==============================] - 85s 2s/step - loss: 0.3051 - accuracy: 0.9065 - val_loss: 0.3249 - val_accuracy: 0.9000\n",
            "Epoch 4/30\n",
            "45/45 [==============================] - 86s 2s/step - loss: 0.3065 - accuracy: 0.9008 - val_loss: 0.3230 - val_accuracy: 0.9000\n",
            "              precision    recall  f1-score   support\n",
            "\n",
            "    Abnormal       0.91      0.93      0.92        57\n",
            "      Normal       0.88      0.85      0.86        33\n",
            "\n",
            "    accuracy                           0.90        90\n",
            "   macro avg       0.89      0.89      0.89        90\n",
            "weighted avg       0.90      0.90      0.90        90\n",
            "\n",
            "Fold #4\n",
            "Epoch 1/30\n",
            "45/45 [==============================] - 79s 2s/step - loss: 0.2959 - accuracy: 0.9292 - val_loss: 0.2702 - val_accuracy: 0.9556\n",
            "Epoch 2/30\n",
            "45/45 [==============================] - 87s 2s/step - loss: 0.2986 - accuracy: 0.8980 - val_loss: 0.2693 - val_accuracy: 0.9444\n",
            "Epoch 3/30\n",
            "45/45 [==============================] - 90s 2s/step - loss: 0.3069 - accuracy: 0.8952 - val_loss: 0.2693 - val_accuracy: 0.9444\n",
            "Epoch 4/30\n",
            "45/45 [==============================] - 89s 2s/step - loss: 0.2834 - accuracy: 0.9320 - val_loss: 0.2603 - val_accuracy: 0.9444\n",
            "              precision    recall  f1-score   support\n",
            "\n",
            "    Abnormal       0.97      0.95      0.96        59\n",
            "      Normal       0.91      0.94      0.92        31\n",
            "\n",
            "    accuracy                           0.94        90\n",
            "   macro avg       0.94      0.94      0.94        90\n",
            "weighted avg       0.95      0.94      0.94        90\n",
            "\n",
            "Fold #5\n",
            "Epoch 1/30\n",
            "45/45 [==============================] - 78s 2s/step - loss: 0.2773 - accuracy: 0.9178 - val_loss: 0.2623 - val_accuracy: 0.9444\n",
            "Epoch 2/30\n",
            "45/45 [==============================] - 86s 2s/step - loss: 0.2841 - accuracy: 0.9093 - val_loss: 0.2593 - val_accuracy: 0.9444\n",
            "Epoch 3/30\n",
            "45/45 [==============================] - 86s 2s/step - loss: 0.2678 - accuracy: 0.9348 - val_loss: 0.2615 - val_accuracy: 0.9444\n",
            "Epoch 4/30\n",
            "45/45 [==============================] - 85s 2s/step - loss: 0.2768 - accuracy: 0.9008 - val_loss: 0.2575 - val_accuracy: 0.9444\n",
            "              precision    recall  f1-score   support\n",
            "\n",
            "    Abnormal       0.98      0.94      0.96        62\n",
            "      Normal       0.87      0.96      0.92        28\n",
            "\n",
            "    accuracy                           0.94        90\n",
            "   macro avg       0.93      0.95      0.94        90\n",
            "weighted avg       0.95      0.94      0.95        90\n",
            "\n"
          ]
        }
      ]
    },
    {
      "cell_type": "code",
      "source": [
        "oos_y = np.concatenate(oos_y)\n",
        "oos_pred = np.concatenate(oos_pred)"
      ],
      "metadata": {
        "id": "sYIcWAzvO8H7"
      },
      "execution_count": null,
      "outputs": []
    },
    {
      "cell_type": "code",
      "source": [
        "score = metrics.accuracy_score(oos_y.argmax(axis=1),\t        #ค่า acc\n",
        "                                             oos_pred.argmax(axis=1) )\n",
        "print(f\"Fold score (accuracy): {score}\")\n",
        "\n",
        "print(classification_report(oos_y.argmax(axis=1),\t                #แสดง report ค่า acc, recall, ...\n",
        "                                        oos_pred.argmax(axis=1),  \n",
        "                                        target_names=le_Dense.classes_))"
      ],
      "metadata": {
        "colab": {
          "base_uri": "https://localhost:8080/"
        },
        "outputId": "893484ac-8f3a-420e-aa08-81522c88b55b",
        "id": "VwnR1MElO8ID"
      },
      "execution_count": null,
      "outputs": [
        {
          "output_type": "stream",
          "name": "stdout",
          "text": [
            "Fold score (accuracy): 0.9157427937915743\n",
            "              precision    recall  f1-score   support\n",
            "\n",
            "    Abnormal       0.96      0.91      0.93       300\n",
            "      Normal       0.84      0.93      0.88       151\n",
            "\n",
            "    accuracy                           0.92       451\n",
            "   macro avg       0.90      0.92      0.91       451\n",
            "weighted avg       0.92      0.92      0.92       451\n",
            "\n"
          ]
        }
      ]
    },
    {
      "cell_type": "markdown",
      "source": [
        "## 1.2) K-fold  -- DenseNet201\n",
        "\n",
        "### -->ACC = 0.86\n",
        "### -->เวลา 52 นาที\n",
        "\n",
        "*   BS = 8\n",
        "*   activation=\"sigmoid\"\n",
        "*   learning_rate=0.0001\n",
        "*   epoch 30"
      ],
      "metadata": {
        "id": "NxHp3rnyIToG"
      }
    },
    {
      "cell_type": "code",
      "source": [
        "train_img_Dense = []\n",
        "for ImageName in tqdm(data_train3['ImageName']):               # รัน ชื่อรูป ในไฟล์ data_test3\n",
        "    image_path = All_3class_dir +'/' + ImageName                   # ดึงรูปในโฟล์เดอร์มาทีละรูป\n",
        "    img = cv2.imread(image_path)                                            # อ่านรูป\n",
        "    img = cv2.resize(img, (224, 224))                                       #ขนาดของ input\n",
        "    train_img_Dense.append(img)\n",
        "\n",
        "data_Dense = np.array(train_img_Dense, dtype=\"float32\") / 255.0"
      ],
      "metadata": {
        "outputId": "b8347e32-45e5-4b60-f334-32d4c6a82a92",
        "colab": {
          "base_uri": "https://localhost:8080/"
        },
        "id": "_ADn7bI7IToW"
      },
      "execution_count": null,
      "outputs": [
        {
          "output_type": "stream",
          "name": "stderr",
          "text": [
            "100%|██████████| 451/451 [00:04<00:00, 104.07it/s]\n"
          ]
        }
      ]
    },
    {
      "cell_type": "code",
      "source": [
        "labels_Dense = np.array(data_train3[['NameType']] )        \n",
        "labels_Dense.shape = (len(labels_Dense),) \n",
        "\n",
        "le_Dense = LabelEncoder()                                                                     \n",
        "labels_Dense = le_Dense.fit_transform(labels_Dense)                                         #จะแปลงชื่อ class เป็นตัวเลข 1, 2, 0 \n",
        "\n",
        "labels_Dense = to_categorical(labels_Dense, num_classes=2)                   #shape (180, 3) มีค่าเป็น  [0., 1., 0.]  กับ   [0., 0., 1.] กับ  [1., 0., 0.]"
      ],
      "metadata": {
        "id": "l-2Fh9yuIToX"
      },
      "execution_count": null,
      "outputs": []
    },
    {
      "cell_type": "code",
      "source": [
        "INIT_LR = 1e-1\n",
        "BS = 8\n",
        "EPOCHS = 50\n",
        "\n",
        "aug = ImageDataGenerator(\n",
        "\t\trotation_range=15,\t\t\t\t\t\t#องศาการหมุน\n",
        "\t\twidth_shift_range=0.1,\n",
        "\t\theight_shift_range=0.1,\n",
        "\t\tshear_range=0.15,\n",
        "\t\thorizontal_flip=True,\n",
        "\t\tfill_mode=\"nearest\")\n",
        "\n",
        "callback = tf.keras.callbacks.EarlyStopping(\n",
        "                monitor=\"val_accuracy\",\n",
        "                patience=3,\n",
        "                mode=\"max\" )"
      ],
      "metadata": {
        "id": "INgp0c9iIToY"
      },
      "execution_count": null,
      "outputs": []
    },
    {
      "cell_type": "code",
      "source": [
        "base_model_Dense = tf.keras.applications.DenseNet201(input_shape=(224, 224, 3), include_top=False, weights=\"imagenet\")\n",
        "base_model_Dense.trainable=False\n",
        "\n",
        "#Add custom head\n",
        "average_pooling_layer = tf.keras.layers.GlobalAveragePooling2D()(base_model_Dense.output)\n",
        "prediction_layer = tf.keras.layers.Dense(units=2, activation=\"sigmoid\")(average_pooling_layer)   # unit 2\n",
        "model_Dense = tf.keras.models.Model(inputs=base_model_Dense.input, outputs=prediction_layer)\n",
        "\n",
        "model_Dense.compile(optimizer=tf.keras.optimizers.RMSprop(learning_rate=0.0001), loss=\"binary_crossentropy\", metrics=[\"accuracy\"])"
      ],
      "metadata": {
        "id": "s-LhzKXmIToZ"
      },
      "execution_count": null,
      "outputs": []
    },
    {
      "cell_type": "code",
      "source": [
        "kf_Dense = KFold(5, shuffle=True, random_state=40) \n",
        "\n",
        "oos_y = []\n",
        "oos_pred = []\n",
        "fold = 0\n",
        "\n",
        "for train, test in kf_Dense.split(data_Dense):\n",
        "    fold+=1\n",
        "    print(f\"Fold #{fold}\")\n",
        "        \n",
        "    x_train_Dense = data_Dense[train]\n",
        "    y_train_Dense = labels_Dense[train]\n",
        "    x_test_Dense = data_Dense[test]\n",
        "    y_test_Dense = labels_Dense[test]\n",
        "\n",
        "    H_Dense = model_Dense.fit( x=aug.flow(x_train_Dense, y_train_Dense, batch_size=BS),\n",
        "\t                                            validation_data=(x_test_Dense, y_test_Dense),\n",
        "\t                                            steps_per_epoch=len(x_train_Dense) // BS,\n",
        "\t                                            epochs=30,  callbacks = [callback])\n",
        "    \n",
        "    pred_Dense = model_Dense.predict(x_test_Dense)\n",
        "    \n",
        "    oos_y.append(y_test_Dense)\n",
        "    oos_pred.append(pred_Dense)  \n",
        "    print(classification_report(y_test_Dense.argmax(axis=1),\t                #แสดง report ค่า acc, recall, ...\n",
        "                                        pred_Dense.argmax(axis=1),  \n",
        "                                        target_names=le_Dense.classes_))\n",
        "\n",
        "#   score = metrics.accuracy_score(y_test3_Incep.argmax(axis=1),\t        #ค่า acc\n",
        "#                                               pred3_Incep.argmax(axis=1)\n",
        "#    print(f\"Fold score (accuracy): {score}\")\n",
        "\n",
        "#    print(confusion_matrix(testY3_Incep.argmax(axis=1),\t                       #แสดง confusion_matrix\n",
        "#                        pred3_Incep.argmax(axis=1) ) )"
      ],
      "metadata": {
        "outputId": "199ca5f7-05f1-463b-e371-f2ce53c363a3",
        "colab": {
          "base_uri": "https://localhost:8080/"
        },
        "id": "4bDb6CImIToZ"
      },
      "execution_count": null,
      "outputs": [
        {
          "output_type": "stream",
          "name": "stdout",
          "text": [
            "Fold #1\n",
            "Epoch 1/30\n",
            "45/45 [==============================] - 93s 2s/step - loss: 0.6249 - accuracy: 0.6750 - val_loss: 0.6455 - val_accuracy: 0.6374\n",
            "Epoch 2/30\n",
            "45/45 [==============================] - 83s 2s/step - loss: 0.6068 - accuracy: 0.6750 - val_loss: 0.6221 - val_accuracy: 0.6374\n",
            "Epoch 3/30\n",
            "45/45 [==============================] - 86s 2s/step - loss: 0.5727 - accuracy: 0.6861 - val_loss: 0.6015 - val_accuracy: 0.6374\n",
            "Epoch 4/30\n",
            "45/45 [==============================] - 84s 2s/step - loss: 0.5549 - accuracy: 0.6778 - val_loss: 0.5794 - val_accuracy: 0.6374\n"
          ]
        },
        {
          "output_type": "stream",
          "name": "stderr",
          "text": [
            "/usr/local/lib/python3.7/dist-packages/sklearn/metrics/_classification.py:1318: UndefinedMetricWarning: Precision and F-score are ill-defined and being set to 0.0 in labels with no predicted samples. Use `zero_division` parameter to control this behavior.\n",
            "  _warn_prf(average, modifier, msg_start, len(result))\n",
            "/usr/local/lib/python3.7/dist-packages/sklearn/metrics/_classification.py:1318: UndefinedMetricWarning: Precision and F-score are ill-defined and being set to 0.0 in labels with no predicted samples. Use `zero_division` parameter to control this behavior.\n",
            "  _warn_prf(average, modifier, msg_start, len(result))\n",
            "/usr/local/lib/python3.7/dist-packages/sklearn/metrics/_classification.py:1318: UndefinedMetricWarning: Precision and F-score are ill-defined and being set to 0.0 in labels with no predicted samples. Use `zero_division` parameter to control this behavior.\n",
            "  _warn_prf(average, modifier, msg_start, len(result))\n"
          ]
        },
        {
          "output_type": "stream",
          "name": "stdout",
          "text": [
            "              precision    recall  f1-score   support\n",
            "\n",
            "    Abnormal       0.64      1.00      0.78        58\n",
            "      Normal       0.00      0.00      0.00        33\n",
            "\n",
            "    accuracy                           0.64        91\n",
            "   macro avg       0.32      0.50      0.39        91\n",
            "weighted avg       0.41      0.64      0.50        91\n",
            "\n",
            "Fold #2\n",
            "Epoch 1/30\n",
            "45/45 [==============================] - 81s 2s/step - loss: 0.5478 - accuracy: 0.6714 - val_loss: 0.5125 - val_accuracy: 0.8333\n",
            "Epoch 2/30\n",
            "45/45 [==============================] - 82s 2s/step - loss: 0.5187 - accuracy: 0.7082 - val_loss: 0.4962 - val_accuracy: 0.8556\n",
            "Epoch 3/30\n",
            "45/45 [==============================] - 103s 2s/step - loss: 0.5005 - accuracy: 0.7337 - val_loss: 0.4844 - val_accuracy: 0.8889\n",
            "Epoch 4/30\n",
            "45/45 [==============================] - 107s 2s/step - loss: 0.4910 - accuracy: 0.7762 - val_loss: 0.4653 - val_accuracy: 0.9111\n",
            "Epoch 5/30\n",
            "45/45 [==============================] - 89s 2s/step - loss: 0.4694 - accuracy: 0.8045 - val_loss: 0.4607 - val_accuracy: 0.9000\n",
            "Epoch 6/30\n",
            "45/45 [==============================] - 88s 2s/step - loss: 0.4469 - accuracy: 0.8074 - val_loss: 0.4466 - val_accuracy: 0.9222\n",
            "Epoch 7/30\n",
            "45/45 [==============================] - 89s 2s/step - loss: 0.4377 - accuracy: 0.8329 - val_loss: 0.4264 - val_accuracy: 0.9111\n",
            "Epoch 8/30\n",
            "45/45 [==============================] - 89s 2s/step - loss: 0.4246 - accuracy: 0.8300 - val_loss: 0.4297 - val_accuracy: 0.9222\n",
            "Epoch 9/30\n",
            "45/45 [==============================] - 90s 2s/step - loss: 0.4133 - accuracy: 0.8669 - val_loss: 0.4251 - val_accuracy: 0.9111\n",
            "              precision    recall  f1-score   support\n",
            "\n",
            "    Abnormal       0.98      0.89      0.93        64\n",
            "      Normal       0.78      0.96      0.86        26\n",
            "\n",
            "    accuracy                           0.91        90\n",
            "   macro avg       0.88      0.93      0.90        90\n",
            "weighted avg       0.92      0.91      0.91        90\n",
            "\n",
            "Fold #3\n",
            "Epoch 1/30\n",
            "45/45 [==============================] - 81s 2s/step - loss: 0.4112 - accuracy: 0.8669 - val_loss: 0.4229 - val_accuracy: 0.8889\n",
            "Epoch 2/30\n",
            "45/45 [==============================] - 91s 2s/step - loss: 0.3901 - accuracy: 0.8754 - val_loss: 0.4130 - val_accuracy: 0.8889\n",
            "Epoch 3/30\n",
            "45/45 [==============================] - 91s 2s/step - loss: 0.3718 - accuracy: 0.8584 - val_loss: 0.4058 - val_accuracy: 0.9000\n",
            "Epoch 4/30\n",
            "45/45 [==============================] - 93s 2s/step - loss: 0.3667 - accuracy: 0.8754 - val_loss: 0.3989 - val_accuracy: 0.9000\n",
            "Epoch 5/30\n",
            "45/45 [==============================] - 92s 2s/step - loss: 0.3694 - accuracy: 0.8867 - val_loss: 0.3927 - val_accuracy: 0.9000\n",
            "Epoch 6/30\n",
            "45/45 [==============================] - 91s 2s/step - loss: 0.3504 - accuracy: 0.9122 - val_loss: 0.3858 - val_accuracy: 0.9000\n",
            "              precision    recall  f1-score   support\n",
            "\n",
            "    Abnormal       0.91      0.93      0.92        57\n",
            "      Normal       0.88      0.85      0.86        33\n",
            "\n",
            "    accuracy                           0.90        90\n",
            "   macro avg       0.89      0.89      0.89        90\n",
            "weighted avg       0.90      0.90      0.90        90\n",
            "\n",
            "Fold #4\n",
            "Epoch 1/30\n",
            "45/45 [==============================] - 80s 2s/step - loss: 0.3532 - accuracy: 0.8782 - val_loss: 0.3401 - val_accuracy: 0.9444\n",
            "Epoch 2/30\n",
            "45/45 [==============================] - 79s 2s/step - loss: 0.3457 - accuracy: 0.9008 - val_loss: 0.3313 - val_accuracy: 0.9444\n",
            "Epoch 3/30\n",
            "45/45 [==============================] - 79s 2s/step - loss: 0.3451 - accuracy: 0.8924 - val_loss: 0.3279 - val_accuracy: 0.9333\n",
            "Epoch 4/30\n",
            "45/45 [==============================] - 78s 2s/step - loss: 0.3291 - accuracy: 0.8952 - val_loss: 0.3210 - val_accuracy: 0.9333\n",
            "              precision    recall  f1-score   support\n",
            "\n",
            "    Abnormal       0.93      0.97      0.95        59\n",
            "      Normal       0.93      0.87      0.90        31\n",
            "\n",
            "    accuracy                           0.93        90\n",
            "   macro avg       0.93      0.92      0.93        90\n",
            "weighted avg       0.93      0.93      0.93        90\n",
            "\n",
            "Fold #5\n",
            "Epoch 1/30\n",
            "45/45 [==============================] - 79s 2s/step - loss: 0.3220 - accuracy: 0.9008 - val_loss: 0.3156 - val_accuracy: 0.9111\n",
            "Epoch 2/30\n",
            "45/45 [==============================] - 80s 2s/step - loss: 0.3426 - accuracy: 0.8782 - val_loss: 0.3153 - val_accuracy: 0.9333\n",
            "Epoch 3/30\n",
            "45/45 [==============================] - 79s 2s/step - loss: 0.3230 - accuracy: 0.8952 - val_loss: 0.3087 - val_accuracy: 0.9222\n",
            "Epoch 4/30\n",
            "45/45 [==============================] - 80s 2s/step - loss: 0.3019 - accuracy: 0.9377 - val_loss: 0.3032 - val_accuracy: 0.9111\n",
            "Epoch 5/30\n",
            "45/45 [==============================] - 79s 2s/step - loss: 0.3088 - accuracy: 0.9207 - val_loss: 0.2952 - val_accuracy: 0.9111\n",
            "              precision    recall  f1-score   support\n",
            "\n",
            "    Abnormal       0.92      0.95      0.94        62\n",
            "      Normal       0.88      0.82      0.85        28\n",
            "\n",
            "    accuracy                           0.91        90\n",
            "   macro avg       0.90      0.89      0.89        90\n",
            "weighted avg       0.91      0.91      0.91        90\n",
            "\n"
          ]
        }
      ]
    },
    {
      "cell_type": "code",
      "source": [
        "oos_y = np.concatenate(oos_y)\n",
        "oos_pred = np.concatenate(oos_pred)"
      ],
      "metadata": {
        "id": "msmurFc7IToa"
      },
      "execution_count": null,
      "outputs": []
    },
    {
      "cell_type": "code",
      "source": [
        "score = metrics.accuracy_score(oos_y.argmax(axis=1),\t        #ค่า acc\n",
        "                                             oos_pred.argmax(axis=1) )\n",
        "print(f\"Fold score (accuracy): {score}\")\n",
        "\n",
        "print(classification_report(oos_y.argmax(axis=1),\t                #แสดง report ค่า acc, recall, ...\n",
        "                                        oos_pred.argmax(axis=1),  \n",
        "                                        target_names=le_Dense.classes_))"
      ],
      "metadata": {
        "colab": {
          "base_uri": "https://localhost:8080/"
        },
        "outputId": "1524268e-c92d-404a-857b-b9f0c4432bf2",
        "id": "hxSbw5xaITob"
      },
      "execution_count": null,
      "outputs": [
        {
          "output_type": "stream",
          "name": "stdout",
          "text": [
            "Fold score (accuracy): 0.8580931263858093\n",
            "              precision    recall  f1-score   support\n",
            "\n",
            "    Abnormal       0.86      0.95      0.90       300\n",
            "      Normal       0.87      0.68      0.76       151\n",
            "\n",
            "    accuracy                           0.86       451\n",
            "   macro avg       0.86      0.81      0.83       451\n",
            "weighted avg       0.86      0.86      0.85       451\n",
            "\n"
          ]
        }
      ]
    },
    {
      "cell_type": "markdown",
      "source": [
        "## 2) K-fold  -- DenseNet201\n",
        "\n",
        "### -->ACC = 0.85\n",
        "### -->เวลา 4053 วินาที\n",
        "\n",
        "*   BS = 16\n",
        "*   activation=\"softmax\"\n",
        "*   learning_rate=0.0001\n",
        "*   epoch 30"
      ],
      "metadata": {
        "id": "qF0ugx9xAK9O"
      }
    },
    {
      "cell_type": "code",
      "source": [
        "train_img_Dense = []\n",
        "for ImageName in tqdm(data_train3['ImageName']):               # รัน ชื่อรูป ในไฟล์ data_test3\n",
        "    image_path = All_3class_dir +'/' + ImageName                   # ดึงรูปในโฟล์เดอร์มาทีละรูป\n",
        "    img = cv2.imread(image_path)                                            # อ่านรูป\n",
        "    img = cv2.resize(img, (224, 224))                                       #ขนาดของ input\n",
        "    train_img_Dense.append(img)\n",
        "\n",
        "data_Dense = np.array(train_img_Dense, dtype=\"float32\") / 255.0"
      ],
      "metadata": {
        "outputId": "ef4d53a8-b06f-4c90-ae10-750073d9b3a5",
        "colab": {
          "base_uri": "https://localhost:8080/"
        },
        "id": "ZpptkU37AK9P"
      },
      "execution_count": null,
      "outputs": [
        {
          "output_type": "stream",
          "name": "stderr",
          "text": [
            "100%|██████████| 451/451 [00:04<00:00, 106.76it/s]\n"
          ]
        }
      ]
    },
    {
      "cell_type": "code",
      "source": [
        "labels_Dense = np.array(data_train3[['NameType']] )        \n",
        "labels_Dense.shape = (len(labels_Dense),) \n",
        "\n",
        "le_Dense = LabelEncoder()                                                                     \n",
        "labels_Dense = le_Dense.fit_transform(labels_Dense)                                         #จะแปลงชื่อ class เป็นตัวเลข 1, 2, 0 \n",
        "\n",
        "labels_Dense = to_categorical(labels_Dense, num_classes=2)                   #shape (180, 3) มีค่าเป็น  [0., 1., 0.]  กับ   [0., 0., 1.] กับ  [1., 0., 0.]"
      ],
      "metadata": {
        "id": "nLqEKkY1AK9Q"
      },
      "execution_count": null,
      "outputs": []
    },
    {
      "cell_type": "code",
      "source": [
        "INIT_LR = 1e-1\n",
        "BS16 = 16\n",
        "EPOCHS = 50\n",
        "\n",
        "aug2 = ImageDataGenerator(\n",
        "\t\trotation_range=15,\t\t\t\t\t\t#องศาการหมุน\n",
        "\t\twidth_shift_range=0.1,\n",
        "\t\theight_shift_range=0.1,\n",
        "\t\tshear_range=0.15,\n",
        "\t\thorizontal_flip=True,\n",
        "\t\tfill_mode=\"nearest\")\n",
        "\n",
        "callback = tf.keras.callbacks.EarlyStopping(\n",
        "                monitor=\"val_accuracy\",\n",
        "                patience=3,\n",
        "                mode=\"max\" )"
      ],
      "metadata": {
        "id": "hmURgMb5AK9R"
      },
      "execution_count": null,
      "outputs": []
    },
    {
      "cell_type": "code",
      "source": [
        "base_model_Dense = tf.keras.applications.DenseNet201(input_shape=(224, 224, 3), include_top=False, weights=\"imagenet\")\n",
        "base_model_Dense.trainable=False\n",
        "\n",
        "#Add custom head\n",
        "average_pooling_layer = tf.keras.layers.GlobalAveragePooling2D()(base_model_Dense.output)\n",
        "prediction_layer = tf.keras.layers.Dense(units=2, activation=\"softmax\")(average_pooling_layer)   # unit 2\n",
        "model_Dense2 = tf.keras.models.Model(inputs=base_model_Dense.input, outputs=prediction_layer)\n",
        "\n",
        "model_Dense2.compile(optimizer=tf.keras.optimizers.RMSprop(learning_rate=0.0001), loss=\"binary_crossentropy\", metrics=[\"accuracy\"])"
      ],
      "metadata": {
        "id": "zYyno0jMAK9R"
      },
      "execution_count": null,
      "outputs": []
    },
    {
      "cell_type": "code",
      "source": [
        "kf_Dense2 = KFold(5, shuffle=True, random_state=40) \n",
        "\n",
        "oos_y2 = []\n",
        "oos_pred2 = []\n",
        "fold = 0\n",
        "\n",
        "for train, test in kf_Dense2.split(data_Dense):\n",
        "    fold+=1\n",
        "    print(f\"Fold #{fold}\")\n",
        "        \n",
        "    x_train_Dense2 = data_Dense[train]\n",
        "    y_train_Dense2 = labels_Dense[train]\n",
        "    x_test_Dense2 = data_Dense[test]\n",
        "    y_test_Dense2 = labels_Dense[test]\n",
        "\n",
        "    H_Dense2 = model_Dense2.fit( x=aug2.flow(x_train_Dense2, y_train_Dense2, batch_size=BS16),\n",
        "\t                                            validation_data=(x_test_Dense2, y_test_Dense2),\n",
        "\t                                            steps_per_epoch=len(x_train_Dense2) // BS16,\n",
        "\t                                            epochs=30,  callbacks = [callback])\n",
        "    \n",
        "    pred_Dense2 = model_Dense2.predict(x_test_Dense2)\n",
        "    \n",
        "    oos_y2.append(y_test_Dense2)\n",
        "    oos_pred2.append(pred_Dense2)  \n",
        "    print(classification_report(y_test_Dense2.argmax(axis=1),\t                #แสดง report ค่า acc, recall, ...\n",
        "                                        pred_Dense2.argmax(axis=1),  \n",
        "                                        target_names=le_Dense.classes_))\n"
      ],
      "metadata": {
        "outputId": "811e6825-8f95-4f40-8167-c8239b43a009",
        "colab": {
          "base_uri": "https://localhost:8080/"
        },
        "id": "bMPj3xMNAK9S"
      },
      "execution_count": null,
      "outputs": [
        {
          "output_type": "stream",
          "name": "stdout",
          "text": [
            "Fold #1\n",
            "Epoch 1/30\n",
            "22/22 [==============================] - 88s 4s/step - loss: 0.6728 - accuracy: 0.6541 - val_loss: 0.6620 - val_accuracy: 0.6374\n",
            "Epoch 2/30\n",
            "22/22 [==============================] - 79s 4s/step - loss: 0.6526 - accuracy: 0.6628 - val_loss: 0.6418 - val_accuracy: 0.6374\n",
            "Epoch 3/30\n",
            "22/22 [==============================] - 83s 4s/step - loss: 0.6278 - accuracy: 0.6676 - val_loss: 0.6274 - val_accuracy: 0.6374\n",
            "Epoch 4/30\n",
            "22/22 [==============================] - 89s 4s/step - loss: 0.6098 - accuracy: 0.6686 - val_loss: 0.6091 - val_accuracy: 0.6374\n"
          ]
        },
        {
          "output_type": "stream",
          "name": "stderr",
          "text": [
            "/usr/local/lib/python3.7/dist-packages/sklearn/metrics/_classification.py:1318: UndefinedMetricWarning: Precision and F-score are ill-defined and being set to 0.0 in labels with no predicted samples. Use `zero_division` parameter to control this behavior.\n",
            "  _warn_prf(average, modifier, msg_start, len(result))\n",
            "/usr/local/lib/python3.7/dist-packages/sklearn/metrics/_classification.py:1318: UndefinedMetricWarning: Precision and F-score are ill-defined and being set to 0.0 in labels with no predicted samples. Use `zero_division` parameter to control this behavior.\n",
            "  _warn_prf(average, modifier, msg_start, len(result))\n",
            "/usr/local/lib/python3.7/dist-packages/sklearn/metrics/_classification.py:1318: UndefinedMetricWarning: Precision and F-score are ill-defined and being set to 0.0 in labels with no predicted samples. Use `zero_division` parameter to control this behavior.\n",
            "  _warn_prf(average, modifier, msg_start, len(result))\n"
          ]
        },
        {
          "output_type": "stream",
          "name": "stdout",
          "text": [
            "              precision    recall  f1-score   support\n",
            "\n",
            "    Abnormal       0.64      1.00      0.78        58\n",
            "      Normal       0.00      0.00      0.00        33\n",
            "\n",
            "    accuracy                           0.64        91\n",
            "   macro avg       0.32      0.50      0.39        91\n",
            "weighted avg       0.41      0.64      0.50        91\n",
            "\n",
            "Fold #2\n",
            "Epoch 1/30\n",
            "22/22 [==============================] - 94s 4s/step - loss: 0.6070 - accuracy: 0.6522 - val_loss: 0.5750 - val_accuracy: 0.6889\n",
            "Epoch 2/30\n",
            "22/22 [==============================] - 81s 4s/step - loss: 0.5786 - accuracy: 0.6638 - val_loss: 0.5656 - val_accuracy: 0.7111\n",
            "Epoch 3/30\n",
            "22/22 [==============================] - 84s 4s/step - loss: 0.5658 - accuracy: 0.6725 - val_loss: 0.5493 - val_accuracy: 0.7222\n",
            "Epoch 4/30\n",
            "22/22 [==============================] - 84s 4s/step - loss: 0.5496 - accuracy: 0.6870 - val_loss: 0.5324 - val_accuracy: 0.7222\n",
            "Epoch 5/30\n",
            "22/22 [==============================] - 83s 4s/step - loss: 0.5305 - accuracy: 0.7043 - val_loss: 0.5243 - val_accuracy: 0.7444\n",
            "Epoch 6/30\n",
            "22/22 [==============================] - 85s 4s/step - loss: 0.5151 - accuracy: 0.7391 - val_loss: 0.5091 - val_accuracy: 0.7444\n",
            "Epoch 7/30\n",
            "22/22 [==============================] - 82s 4s/step - loss: 0.5073 - accuracy: 0.7217 - val_loss: 0.5024 - val_accuracy: 0.7778\n",
            "Epoch 8/30\n",
            "22/22 [==============================] - 84s 4s/step - loss: 0.4976 - accuracy: 0.7681 - val_loss: 0.4902 - val_accuracy: 0.7778\n",
            "Epoch 9/30\n",
            "22/22 [==============================] - 82s 4s/step - loss: 0.4811 - accuracy: 0.7565 - val_loss: 0.4860 - val_accuracy: 0.8556\n",
            "Epoch 10/30\n",
            "22/22 [==============================] - 83s 4s/step - loss: 0.4720 - accuracy: 0.7797 - val_loss: 0.4780 - val_accuracy: 0.8556\n",
            "Epoch 11/30\n",
            "22/22 [==============================] - 91s 4s/step - loss: 0.4556 - accuracy: 0.8145 - val_loss: 0.4703 - val_accuracy: 0.8444\n",
            "Epoch 12/30\n",
            "22/22 [==============================] - 91s 4s/step - loss: 0.4504 - accuracy: 0.8087 - val_loss: 0.4605 - val_accuracy: 0.8667\n",
            "Epoch 13/30\n",
            "22/22 [==============================] - 85s 4s/step - loss: 0.4311 - accuracy: 0.8435 - val_loss: 0.4549 - val_accuracy: 0.8667\n",
            "Epoch 14/30\n",
            "22/22 [==============================] - 87s 4s/step - loss: 0.4387 - accuracy: 0.8174 - val_loss: 0.4519 - val_accuracy: 0.8889\n",
            "Epoch 15/30\n",
            "22/22 [==============================] - 86s 4s/step - loss: 0.4275 - accuracy: 0.8438 - val_loss: 0.4405 - val_accuracy: 0.8778\n",
            "Epoch 16/30\n",
            "22/22 [==============================] - 85s 4s/step - loss: 0.4090 - accuracy: 0.8696 - val_loss: 0.4236 - val_accuracy: 0.8778\n",
            "Epoch 17/30\n",
            "22/22 [==============================] - 83s 4s/step - loss: 0.4146 - accuracy: 0.8348 - val_loss: 0.4338 - val_accuracy: 0.9111\n",
            "Epoch 18/30\n",
            "22/22 [==============================] - 83s 4s/step - loss: 0.4118 - accuracy: 0.8580 - val_loss: 0.4163 - val_accuracy: 0.8889\n",
            "Epoch 19/30\n",
            "22/22 [==============================] - 83s 4s/step - loss: 0.3881 - accuracy: 0.8754 - val_loss: 0.4119 - val_accuracy: 0.9111\n",
            "Epoch 20/30\n",
            "22/22 [==============================] - 82s 4s/step - loss: 0.3922 - accuracy: 0.8696 - val_loss: 0.4100 - val_accuracy: 0.9111\n",
            "              precision    recall  f1-score   support\n",
            "\n",
            "    Abnormal       0.95      0.92      0.94        64\n",
            "      Normal       0.82      0.88      0.85        26\n",
            "\n",
            "    accuracy                           0.91        90\n",
            "   macro avg       0.89      0.90      0.89        90\n",
            "weighted avg       0.91      0.91      0.91        90\n",
            "\n",
            "Fold #3\n",
            "Epoch 1/30\n",
            "22/22 [==============================] - 81s 4s/step - loss: 0.3748 - accuracy: 0.8957 - val_loss: 0.4147 - val_accuracy: 0.8778\n",
            "Epoch 2/30\n",
            "22/22 [==============================] - 84s 4s/step - loss: 0.3758 - accuracy: 0.8841 - val_loss: 0.4080 - val_accuracy: 0.8667\n",
            "Epoch 3/30\n",
            "22/22 [==============================] - 83s 4s/step - loss: 0.3746 - accuracy: 0.8696 - val_loss: 0.4025 - val_accuracy: 0.8667\n",
            "Epoch 4/30\n",
            "22/22 [==============================] - 83s 4s/step - loss: 0.3568 - accuracy: 0.8899 - val_loss: 0.3977 - val_accuracy: 0.8667\n",
            "              precision    recall  f1-score   support\n",
            "\n",
            "    Abnormal       0.88      0.91      0.90        57\n",
            "      Normal       0.84      0.79      0.81        33\n",
            "\n",
            "    accuracy                           0.87        90\n",
            "   macro avg       0.86      0.85      0.85        90\n",
            "weighted avg       0.87      0.87      0.87        90\n",
            "\n",
            "Fold #4\n",
            "Epoch 1/30\n",
            "22/22 [==============================] - 80s 4s/step - loss: 0.3658 - accuracy: 0.8783 - val_loss: 0.3712 - val_accuracy: 0.9333\n",
            "Epoch 2/30\n",
            "22/22 [==============================] - 82s 4s/step - loss: 0.3616 - accuracy: 0.8667 - val_loss: 0.3559 - val_accuracy: 0.9333\n",
            "Epoch 3/30\n",
            "22/22 [==============================] - 84s 4s/step - loss: 0.3536 - accuracy: 0.8841 - val_loss: 0.3510 - val_accuracy: 0.9333\n",
            "Epoch 4/30\n",
            "22/22 [==============================] - 85s 4s/step - loss: 0.3483 - accuracy: 0.8725 - val_loss: 0.3475 - val_accuracy: 0.9222\n",
            "              precision    recall  f1-score   support\n",
            "\n",
            "    Abnormal       0.93      0.95      0.94        59\n",
            "      Normal       0.90      0.87      0.89        31\n",
            "\n",
            "    accuracy                           0.92        90\n",
            "   macro avg       0.92      0.91      0.91        90\n",
            "weighted avg       0.92      0.92      0.92        90\n",
            "\n",
            "Fold #5\n",
            "Epoch 1/30\n",
            "22/22 [==============================] - 80s 4s/step - loss: 0.3408 - accuracy: 0.8928 - val_loss: 0.3371 - val_accuracy: 0.9111\n",
            "Epoch 2/30\n",
            "22/22 [==============================] - 76s 3s/step - loss: 0.3391 - accuracy: 0.9072 - val_loss: 0.3400 - val_accuracy: 0.9333\n",
            "Epoch 3/30\n",
            "22/22 [==============================] - 76s 3s/step - loss: 0.3366 - accuracy: 0.9014 - val_loss: 0.3346 - val_accuracy: 0.9333\n",
            "Epoch 4/30\n",
            "22/22 [==============================] - 76s 3s/step - loss: 0.3276 - accuracy: 0.9101 - val_loss: 0.3253 - val_accuracy: 0.9111\n",
            "Epoch 5/30\n",
            "22/22 [==============================] - 76s 3s/step - loss: 0.3222 - accuracy: 0.9101 - val_loss: 0.3231 - val_accuracy: 0.9111\n",
            "              precision    recall  f1-score   support\n",
            "\n",
            "    Abnormal       0.94      0.94      0.94        62\n",
            "      Normal       0.86      0.86      0.86        28\n",
            "\n",
            "    accuracy                           0.91        90\n",
            "   macro avg       0.90      0.90      0.90        90\n",
            "weighted avg       0.91      0.91      0.91        90\n",
            "\n"
          ]
        }
      ]
    },
    {
      "cell_type": "code",
      "source": [
        "oos_y2 = np.concatenate(oos_y2)\n",
        "oos_pred2 = np.concatenate(oos_pred2)"
      ],
      "metadata": {
        "id": "OqOlECxElR2S"
      },
      "execution_count": null,
      "outputs": []
    },
    {
      "cell_type": "code",
      "source": [
        "score = metrics.accuracy_score(oos_y2.argmax(axis=1),\t        #ค่า acc\n",
        "                                             oos_pred2.argmax(axis=1) )\n",
        "print(f\"Fold score (accuracy): {score}\")\n",
        "\n",
        "print(classification_report(oos_y2.argmax(axis=1),\t                #แสดง report ค่า acc, recall, ...\n",
        "                                        oos_pred2.argmax(axis=1),  \n",
        "                                        target_names=le_Dense.classes_))"
      ],
      "metadata": {
        "colab": {
          "base_uri": "https://localhost:8080/"
        },
        "outputId": "0b0d2fb6-65ab-49df-bba8-7bcc81214329",
        "id": "VPP8SwZvlR2T"
      },
      "execution_count": null,
      "outputs": [
        {
          "output_type": "stream",
          "name": "stdout",
          "text": [
            "Fold score (accuracy): 0.8492239467849224\n",
            "              precision    recall  f1-score   support\n",
            "\n",
            "    Abnormal       0.85      0.94      0.89       300\n",
            "      Normal       0.85      0.66      0.75       151\n",
            "\n",
            "    accuracy                           0.85       451\n",
            "   macro avg       0.85      0.80      0.82       451\n",
            "weighted avg       0.85      0.85      0.84       451\n",
            "\n"
          ]
        }
      ]
    },
    {
      "cell_type": "markdown",
      "source": [
        "## 2.1) K-fold  -- DenseNet201\n",
        "\n",
        "### -->ACC = 0.85\n",
        "### -->เวลา 48 นาที\n",
        "\n",
        "*   BS = 16\n",
        "*   activation=\"sigmoid\"\n",
        "*   learning_rate=0.0001\n",
        "*   epoch 30"
      ],
      "metadata": {
        "id": "MtAub9In7Wkv"
      }
    },
    {
      "cell_type": "code",
      "source": [
        "train_img_Dense = []\n",
        "for ImageName in tqdm(data_train3['ImageName']):               # รัน ชื่อรูป ในไฟล์ data_test3\n",
        "    image_path = All_3class_dir +'/' + ImageName                   # ดึงรูปในโฟล์เดอร์มาทีละรูป\n",
        "    img = cv2.imread(image_path)                                            # อ่านรูป\n",
        "    img = cv2.resize(img, (224, 224))                                       #ขนาดของ input\n",
        "    train_img_Dense.append(img)\n",
        "\n",
        "data_Dense = np.array(train_img_Dense, dtype=\"float32\") / 255.0"
      ],
      "metadata": {
        "outputId": "c50acba1-f58c-4871-ccb0-37ee0b21e83c",
        "colab": {
          "base_uri": "https://localhost:8080/"
        },
        "id": "fnUKjitv7Wk-"
      },
      "execution_count": null,
      "outputs": [
        {
          "output_type": "stream",
          "name": "stderr",
          "text": [
            "100%|██████████| 451/451 [00:04<00:00, 106.39it/s]\n"
          ]
        }
      ]
    },
    {
      "cell_type": "code",
      "source": [
        "labels_Dense = np.array(data_train3[['NameType']] )        \n",
        "labels_Dense.shape = (len(labels_Dense),) \n",
        "\n",
        "le_Dense = LabelEncoder()                                                                     \n",
        "labels_Dense = le_Dense.fit_transform(labels_Dense)                                         #จะแปลงชื่อ class เป็นตัวเลข 1, 2, 0 \n",
        "\n",
        "labels_Dense = to_categorical(labels_Dense, num_classes=2)                   #shape (180, 3) มีค่าเป็น  [0., 1., 0.]  กับ   [0., 0., 1.] กับ  [1., 0., 0.]"
      ],
      "metadata": {
        "id": "vTQnSxrd7Wk_"
      },
      "execution_count": null,
      "outputs": []
    },
    {
      "cell_type": "code",
      "source": [
        "INIT_LR = 1e-1\n",
        "BS16 = 16\n",
        "EPOCHS = 50\n",
        "\n",
        "aug21 = ImageDataGenerator(\n",
        "\t\trotation_range=15,\t\t\t\t\t\t#องศาการหมุน\n",
        "\t\twidth_shift_range=0.1,\n",
        "\t\theight_shift_range=0.1,\n",
        "\t\tshear_range=0.15,\n",
        "\t\thorizontal_flip=True,\n",
        "\t\tfill_mode=\"nearest\")\n",
        "\n",
        "callback = tf.keras.callbacks.EarlyStopping(\n",
        "                monitor=\"val_accuracy\",\n",
        "                patience=3,\n",
        "                mode=\"max\" )"
      ],
      "metadata": {
        "id": "YCX9d_sw7WlA"
      },
      "execution_count": null,
      "outputs": []
    },
    {
      "cell_type": "code",
      "source": [
        "base_model_Dense = tf.keras.applications.DenseNet201(input_shape=(224, 224, 3), include_top=False, weights=\"imagenet\")\n",
        "base_model_Dense.trainable=False\n",
        "\n",
        "#Add custom head\n",
        "average_pooling_layer = tf.keras.layers.GlobalAveragePooling2D()(base_model_Dense.output)\n",
        "prediction_layer = tf.keras.layers.Dense(units=2, activation=\"sigmoid\")(average_pooling_layer)   \n",
        "model_Dense21 = tf.keras.models.Model(inputs=base_model_Dense.input, outputs=prediction_layer)\n",
        "\n",
        "model_Dense21.compile(optimizer=tf.keras.optimizers.RMSprop(learning_rate=0.0001), loss=\"binary_crossentropy\", metrics=[\"accuracy\"])"
      ],
      "metadata": {
        "id": "yrUDYcDr7WlB"
      },
      "execution_count": null,
      "outputs": []
    },
    {
      "cell_type": "code",
      "source": [
        "kf_Dense21 = KFold(5, shuffle=True, random_state=40) \n",
        "\n",
        "oos_y21 = []\n",
        "oos_pred21 = []\n",
        "fold = 0\n",
        "\n",
        "for train, test in kf_Dense21.split(data_Dense):\n",
        "    fold+=1\n",
        "    print(f\"Fold #{fold}\")\n",
        "        \n",
        "    x_train_Dense21 = data_Dense[train]\n",
        "    y_train_Dense21 = labels_Dense[train]\n",
        "    x_test_Dense21 = data_Dense[test]\n",
        "    y_test_Dense21 = labels_Dense[test]\n",
        "\n",
        "    H_Dense21 = model_Dense21.fit( x=aug21.flow(x_train_Dense21, y_train_Dense21, batch_size=BS16),\n",
        "\t                                            validation_data=(x_test_Dense21, y_test_Dense21),\n",
        "\t                                            steps_per_epoch=len(x_train_Dense21) // BS16,\n",
        "\t                                            epochs=30,  callbacks = [callback])\n",
        "    \n",
        "    pred_Dense21 = model_Dense21.predict(x_test_Dense21)\n",
        "    \n",
        "    oos_y21.append(y_test_Dense21)\n",
        "    oos_pred21.append(pred_Dense21)  \n",
        "    print(classification_report(y_test_Dense21.argmax(axis=1),\t                #แสดง report ค่า acc, recall, ...\n",
        "                                        pred_Dense21.argmax(axis=1),  \n",
        "                                        target_names=le_Dense.classes_))\n",
        "\n",
        "#   score = metrics.accuracy_score(y_test3_Incep.argmax(axis=1),\t        #ค่า acc\n",
        "#                                               pred3_Incep.argmax(axis=1)\n",
        "#    print(f\"Fold score (accuracy): {score}\")\n",
        "\n",
        "#    print(confusion_matrix(testY3_Incep.argmax(axis=1),\t                       #แสดง confusion_matrix\n",
        "#                        pred3_Incep.argmax(axis=1) ) )"
      ],
      "metadata": {
        "outputId": "03d58d7b-bd7c-4153-d457-8b0f8c24fbe6",
        "colab": {
          "base_uri": "https://localhost:8080/"
        },
        "id": "w1BAl2ag7WlB"
      },
      "execution_count": null,
      "outputs": [
        {
          "output_type": "stream",
          "name": "stdout",
          "text": [
            "Fold #1\n",
            "Epoch 1/30\n",
            "22/22 [==============================] - 89s 4s/step - loss: 0.6848 - accuracy: 0.6279 - val_loss: 0.6303 - val_accuracy: 0.7033\n",
            "Epoch 2/30\n",
            "22/22 [==============================] - 80s 4s/step - loss: 0.6145 - accuracy: 0.6875 - val_loss: 0.6071 - val_accuracy: 0.6484\n",
            "Epoch 3/30\n",
            "22/22 [==============================] - 78s 4s/step - loss: 0.5981 - accuracy: 0.6744 - val_loss: 0.5933 - val_accuracy: 0.6593\n",
            "Epoch 4/30\n",
            "22/22 [==============================] - 77s 4s/step - loss: 0.5761 - accuracy: 0.6802 - val_loss: 0.5793 - val_accuracy: 0.6593\n",
            "              precision    recall  f1-score   support\n",
            "\n",
            "    Abnormal       0.65      1.00      0.79        58\n",
            "      Normal       1.00      0.06      0.11        33\n",
            "\n",
            "    accuracy                           0.66        91\n",
            "   macro avg       0.83      0.53      0.45        91\n",
            "weighted avg       0.78      0.66      0.54        91\n",
            "\n",
            "Fold #2\n",
            "Epoch 1/30\n",
            "22/22 [==============================] - 76s 3s/step - loss: 0.5572 - accuracy: 0.6812 - val_loss: 0.5416 - val_accuracy: 0.7778\n",
            "Epoch 2/30\n",
            "22/22 [==============================] - 78s 4s/step - loss: 0.5552 - accuracy: 0.6812 - val_loss: 0.5343 - val_accuracy: 0.7778\n",
            "Epoch 3/30\n",
            "22/22 [==============================] - 77s 4s/step - loss: 0.5421 - accuracy: 0.7072 - val_loss: 0.5221 - val_accuracy: 0.7778\n",
            "Epoch 4/30\n",
            "22/22 [==============================] - 78s 4s/step - loss: 0.5370 - accuracy: 0.7043 - val_loss: 0.5134 - val_accuracy: 0.8444\n",
            "Epoch 5/30\n",
            "22/22 [==============================] - 76s 3s/step - loss: 0.5034 - accuracy: 0.7275 - val_loss: 0.5038 - val_accuracy: 0.8333\n",
            "Epoch 6/30\n",
            "22/22 [==============================] - 78s 4s/step - loss: 0.5007 - accuracy: 0.7710 - val_loss: 0.4949 - val_accuracy: 0.8556\n",
            "Epoch 7/30\n",
            "22/22 [==============================] - 79s 4s/step - loss: 0.4902 - accuracy: 0.7507 - val_loss: 0.4918 - val_accuracy: 0.8444\n",
            "Epoch 8/30\n",
            "22/22 [==============================] - 79s 4s/step - loss: 0.4735 - accuracy: 0.8000 - val_loss: 0.4800 - val_accuracy: 0.8444\n",
            "Epoch 9/30\n",
            "22/22 [==============================] - 79s 4s/step - loss: 0.4726 - accuracy: 0.8153 - val_loss: 0.4765 - val_accuracy: 0.8667\n",
            "Epoch 10/30\n",
            "22/22 [==============================] - 79s 4s/step - loss: 0.4606 - accuracy: 0.8232 - val_loss: 0.4691 - val_accuracy: 0.8667\n",
            "Epoch 11/30\n",
            "22/22 [==============================] - 80s 4s/step - loss: 0.4464 - accuracy: 0.8522 - val_loss: 0.4486 - val_accuracy: 0.8778\n",
            "Epoch 12/30\n",
            "22/22 [==============================] - 78s 4s/step - loss: 0.4433 - accuracy: 0.8377 - val_loss: 0.4510 - val_accuracy: 0.8667\n",
            "Epoch 13/30\n",
            "22/22 [==============================] - 78s 4s/step - loss: 0.4314 - accuracy: 0.8435 - val_loss: 0.4401 - val_accuracy: 0.9222\n",
            "Epoch 14/30\n",
            "22/22 [==============================] - 78s 4s/step - loss: 0.4234 - accuracy: 0.8493 - val_loss: 0.4370 - val_accuracy: 0.8778\n",
            "Epoch 15/30\n",
            "22/22 [==============================] - 79s 4s/step - loss: 0.4100 - accuracy: 0.8665 - val_loss: 0.4315 - val_accuracy: 0.8778\n",
            "Epoch 16/30\n",
            "22/22 [==============================] - 78s 4s/step - loss: 0.4076 - accuracy: 0.8754 - val_loss: 0.4161 - val_accuracy: 0.9222\n",
            "              precision    recall  f1-score   support\n",
            "\n",
            "    Abnormal       0.93      0.97      0.95        64\n",
            "      Normal       0.91      0.81      0.86        26\n",
            "\n",
            "    accuracy                           0.92        90\n",
            "   macro avg       0.92      0.89      0.90        90\n",
            "weighted avg       0.92      0.92      0.92        90\n",
            "\n",
            "Fold #3\n",
            "Epoch 1/30\n",
            "22/22 [==============================] - 77s 4s/step - loss: 0.4000 - accuracy: 0.8754 - val_loss: 0.4248 - val_accuracy: 0.8667\n",
            "Epoch 2/30\n",
            "22/22 [==============================] - 79s 4s/step - loss: 0.3737 - accuracy: 0.8957 - val_loss: 0.4186 - val_accuracy: 0.8667\n",
            "Epoch 3/30\n",
            "22/22 [==============================] - 80s 4s/step - loss: 0.3723 - accuracy: 0.8841 - val_loss: 0.4134 - val_accuracy: 0.8778\n",
            "Epoch 4/30\n",
            "22/22 [==============================] - 80s 4s/step - loss: 0.3674 - accuracy: 0.8928 - val_loss: 0.4091 - val_accuracy: 0.8667\n",
            "Epoch 5/30\n",
            "22/22 [==============================] - 78s 4s/step - loss: 0.3801 - accuracy: 0.8957 - val_loss: 0.4025 - val_accuracy: 0.8778\n",
            "Epoch 6/30\n",
            "22/22 [==============================] - 79s 4s/step - loss: 0.3606 - accuracy: 0.8841 - val_loss: 0.3990 - val_accuracy: 0.8667\n",
            "              precision    recall  f1-score   support\n",
            "\n",
            "    Abnormal       0.91      0.88      0.89        57\n",
            "      Normal       0.80      0.85      0.82        33\n",
            "\n",
            "    accuracy                           0.87        90\n",
            "   macro avg       0.85      0.86      0.86        90\n",
            "weighted avg       0.87      0.87      0.87        90\n",
            "\n",
            "Fold #4\n",
            "Epoch 1/30\n",
            "22/22 [==============================] - 78s 4s/step - loss: 0.3509 - accuracy: 0.9043 - val_loss: 0.3616 - val_accuracy: 0.9222\n",
            "Epoch 2/30\n",
            "22/22 [==============================] - 78s 4s/step - loss: 0.3707 - accuracy: 0.8696 - val_loss: 0.3592 - val_accuracy: 0.9111\n",
            "Epoch 3/30\n",
            "22/22 [==============================] - 79s 4s/step - loss: 0.3378 - accuracy: 0.8841 - val_loss: 0.3567 - val_accuracy: 0.9000\n",
            "Epoch 4/30\n",
            "22/22 [==============================] - 78s 4s/step - loss: 0.3436 - accuracy: 0.8957 - val_loss: 0.3500 - val_accuracy: 0.9000\n",
            "              precision    recall  f1-score   support\n",
            "\n",
            "    Abnormal       0.93      0.92      0.92        59\n",
            "      Normal       0.84      0.87      0.86        31\n",
            "\n",
            "    accuracy                           0.90        90\n",
            "   macro avg       0.89      0.89      0.89        90\n",
            "weighted avg       0.90      0.90      0.90        90\n",
            "\n",
            "Fold #5\n",
            "Epoch 1/30\n",
            "22/22 [==============================] - 77s 4s/step - loss: 0.3441 - accuracy: 0.9043 - val_loss: 0.3527 - val_accuracy: 0.9000\n",
            "Epoch 2/30\n",
            "22/22 [==============================] - 79s 4s/step - loss: 0.3423 - accuracy: 0.8928 - val_loss: 0.3445 - val_accuracy: 0.9111\n",
            "Epoch 3/30\n",
            "22/22 [==============================] - 79s 4s/step - loss: 0.3489 - accuracy: 0.8870 - val_loss: 0.3473 - val_accuracy: 0.9000\n",
            "Epoch 4/30\n",
            "22/22 [==============================] - 80s 4s/step - loss: 0.3342 - accuracy: 0.9101 - val_loss: 0.3414 - val_accuracy: 0.9000\n",
            "Epoch 5/30\n",
            "22/22 [==============================] - 80s 4s/step - loss: 0.3273 - accuracy: 0.9188 - val_loss: 0.3324 - val_accuracy: 0.9111\n",
            "              precision    recall  f1-score   support\n",
            "\n",
            "    Abnormal       0.95      0.92      0.93        62\n",
            "      Normal       0.83      0.89      0.86        28\n",
            "\n",
            "    accuracy                           0.91        90\n",
            "   macro avg       0.89      0.91      0.90        90\n",
            "weighted avg       0.91      0.91      0.91        90\n",
            "\n"
          ]
        }
      ]
    },
    {
      "cell_type": "code",
      "source": [
        "oos_y21 = np.concatenate(oos_y21)\n",
        "oos_pred21 = np.concatenate(oos_pred21)"
      ],
      "metadata": {
        "id": "ogarpzmm7WlC"
      },
      "execution_count": null,
      "outputs": []
    },
    {
      "cell_type": "code",
      "source": [
        "score = metrics.accuracy_score(oos_y21.argmax(axis=1),\t        #ค่า acc\n",
        "                                             oos_pred21.argmax(axis=1) )\n",
        "print(f\"Fold score (accuracy): {score}\")\n",
        "\n",
        "print(classification_report(oos_y21.argmax(axis=1),\t                #แสดง report ค่า acc, recall, ...\n",
        "                                        oos_pred21.argmax(axis=1),  \n",
        "                                        target_names=le_Dense.classes_))"
      ],
      "metadata": {
        "colab": {
          "base_uri": "https://localhost:8080/"
        },
        "outputId": "1a20a6f5-d710-49f6-8fd9-a053e8209346",
        "id": "b3i_prrV7WlD"
      },
      "execution_count": null,
      "outputs": [
        {
          "output_type": "stream",
          "name": "stdout",
          "text": [
            "Fold score (accuracy): 0.8514412416851441\n",
            "              precision    recall  f1-score   support\n",
            "\n",
            "    Abnormal       0.85      0.94      0.89       300\n",
            "      Normal       0.84      0.68      0.75       151\n",
            "\n",
            "    accuracy                           0.85       451\n",
            "   macro avg       0.85      0.81      0.82       451\n",
            "weighted avg       0.85      0.85      0.85       451\n",
            "\n"
          ]
        }
      ]
    },
    {
      "cell_type": "markdown",
      "source": [
        "## 3) K-fold  -- DenseNet201\n",
        "\n",
        "### -->ACC = 0.89\n",
        "### -->เวลา 46 นาที\n",
        "\n",
        "*   BS = 32\n",
        "*   activation=\"softmax\"\n",
        "*   learning_rate=0.0001\n",
        "*   epoch 30"
      ],
      "metadata": {
        "id": "OjhOFcptA-D_"
      }
    },
    {
      "cell_type": "code",
      "source": [
        "train_img_Dense = []\n",
        "for ImageName in tqdm(data_train3['ImageName']):               # รัน ชื่อรูป ในไฟล์ data_test3\n",
        "    image_path = All_3class_dir +'/' + ImageName                   # ดึงรูปในโฟล์เดอร์มาทีละรูป\n",
        "    img = cv2.imread(image_path)                                            # อ่านรูป\n",
        "    img = cv2.resize(img, (224, 224))                                       #ขนาดของ input\n",
        "    train_img_Dense.append(img)\n",
        "\n",
        "data_Dense = np.array(train_img_Dense, dtype=\"float32\") / 255.0"
      ],
      "metadata": {
        "outputId": "2c3a5a28-d9ef-4d27-b015-a930744bd355",
        "colab": {
          "base_uri": "https://localhost:8080/"
        },
        "id": "tqyKOx2_A-EA"
      },
      "execution_count": null,
      "outputs": [
        {
          "output_type": "stream",
          "name": "stderr",
          "text": [
            "100%|██████████| 451/451 [00:06<00:00, 73.82it/s] \n"
          ]
        }
      ]
    },
    {
      "cell_type": "code",
      "source": [
        "labels_Dense = np.array(data_train3[['NameType']] )        \n",
        "labels_Dense.shape = (len(labels_Dense),) \n",
        "\n",
        "le_Dense = LabelEncoder()                                                                     \n",
        "labels_Dense = le_Dense.fit_transform(labels_Dense)                                         #จะแปลงชื่อ class เป็นตัวเลข 1, 2, 0 \n",
        "\n",
        "labels_Dense = to_categorical(labels_Dense, num_classes=2)                   #shape (180, 3) มีค่าเป็น  [0., 1., 0.]  กับ   [0., 0., 1.] กับ  [1., 0., 0.]"
      ],
      "metadata": {
        "id": "98xhFliPA-EB"
      },
      "execution_count": null,
      "outputs": []
    },
    {
      "cell_type": "code",
      "source": [
        "INIT_LR = 1e-1\n",
        "BS32 = 32\n",
        "EPOCHS = 50\n",
        "\n",
        "aug3 = ImageDataGenerator(\n",
        "\t\trotation_range=15,\t\t\t\t\t\t#องศาการหมุน\n",
        "\t\twidth_shift_range=0.1,\n",
        "\t\theight_shift_range=0.1,\n",
        "\t\tshear_range=0.15,\n",
        "\t\thorizontal_flip=True,\n",
        "\t\tfill_mode=\"nearest\")\n",
        "\n",
        "callback = tf.keras.callbacks.EarlyStopping(\n",
        "                monitor=\"val_accuracy\",\n",
        "                patience=3,\n",
        "                mode=\"max\" )"
      ],
      "metadata": {
        "id": "Z9cNLqf9A-EC"
      },
      "execution_count": null,
      "outputs": []
    },
    {
      "cell_type": "code",
      "source": [
        "base_model_Dense = tf.keras.applications.DenseNet201(input_shape=(224, 224, 3), include_top=False, weights=\"imagenet\")\n",
        "base_model_Dense.trainable=False\n",
        "\n",
        "#Add custom head\n",
        "average_pooling_layer = tf.keras.layers.GlobalAveragePooling2D()(base_model_Dense.output)\n",
        "prediction_layer = tf.keras.layers.Dense(units=2, activation=\"softmax\")(average_pooling_layer)   \n",
        "model_Dense3 = tf.keras.models.Model(inputs=base_model_Dense.input, outputs=prediction_layer)\n",
        "\n",
        "model_Dense3.compile(optimizer=tf.keras.optimizers.RMSprop(learning_rate=0.0001), loss=\"binary_crossentropy\", metrics=[\"accuracy\"])"
      ],
      "metadata": {
        "id": "aWBU6oTJA-EC"
      },
      "execution_count": null,
      "outputs": []
    },
    {
      "cell_type": "code",
      "source": [
        "kf_Dense3 = KFold(5, shuffle=True, random_state=40) \n",
        "\n",
        "oos_y3 = []\n",
        "oos_pred3 = []\n",
        "fold = 0\n",
        "\n",
        "for train, test in kf_Dense3.split(data_Dense):\n",
        "    fold+=1\n",
        "    print(f\"Fold #{fold}\")\n",
        "        \n",
        "    x_train_Dense3 = data_Dense[train]\n",
        "    y_train_Dense3 = labels_Dense[train]\n",
        "    x_test_Dense3 = data_Dense[test]\n",
        "    y_test_Dense3 = labels_Dense[test]\n",
        "\n",
        "    H_Dense3 = model_Dense3.fit( x=aug3.flow(x_train_Dense3, y_train_Dense3, batch_size=BS32),\n",
        "\t                                            validation_data=(x_test_Dense3, y_test_Dense3),\n",
        "\t                                            steps_per_epoch=len(x_train_Dense3) // BS32,\n",
        "\t                                            epochs=30,  callbacks = [callback])\n",
        "    \n",
        "    pred_Dense3 = model_Dense3.predict(x_test_Dense3)\n",
        "    \n",
        "    oos_y3.append(y_test_Dense3)\n",
        "    oos_pred3.append(pred_Dense3)  \n",
        "    print(classification_report(y_test_Dense3.argmax(axis=1),\t                #แสดง report ค่า acc, recall, ...\n",
        "                                        pred_Dense3.argmax(axis=1),  \n",
        "                                        target_names=le_Dense.classes_))\n"
      ],
      "metadata": {
        "colab": {
          "base_uri": "https://localhost:8080/"
        },
        "id": "BG7Sznv2A-ED",
        "outputId": "2a4b60f7-ddd3-4661-e473-da723ece7ebb"
      },
      "execution_count": null,
      "outputs": [
        {
          "output_type": "stream",
          "name": "stdout",
          "text": [
            "Fold #1\n",
            "Epoch 1/30\n",
            "11/11 [==============================] - 86s 7s/step - loss: 0.7269 - accuracy: 0.6616 - val_loss: 0.7456 - val_accuracy: 0.6044\n",
            "Epoch 2/30\n",
            "11/11 [==============================] - 75s 7s/step - loss: 0.7222 - accuracy: 0.6402 - val_loss: 0.7331 - val_accuracy: 0.6154\n",
            "Epoch 3/30\n",
            "11/11 [==============================] - 75s 7s/step - loss: 0.7003 - accuracy: 0.6585 - val_loss: 0.7220 - val_accuracy: 0.6154\n",
            "Epoch 4/30\n",
            "11/11 [==============================] - 79s 7s/step - loss: 0.6641 - accuracy: 0.6860 - val_loss: 0.7106 - val_accuracy: 0.6264\n",
            "Epoch 5/30\n",
            "11/11 [==============================] - 74s 7s/step - loss: 0.6722 - accuracy: 0.6585 - val_loss: 0.6984 - val_accuracy: 0.6264\n",
            "Epoch 6/30\n",
            "11/11 [==============================] - 74s 7s/step - loss: 0.6337 - accuracy: 0.6829 - val_loss: 0.6867 - val_accuracy: 0.6264\n",
            "Epoch 7/30\n",
            "11/11 [==============================] - 74s 7s/step - loss: 0.6356 - accuracy: 0.6707 - val_loss: 0.6734 - val_accuracy: 0.6264\n",
            "              precision    recall  f1-score   support\n",
            "\n",
            "    Abnormal       0.63      0.98      0.77        58\n",
            "      Normal       0.00      0.00      0.00        33\n",
            "\n",
            "    accuracy                           0.63        91\n",
            "   macro avg       0.32      0.49      0.39        91\n",
            "weighted avg       0.40      0.63      0.49        91\n",
            "\n",
            "Fold #2\n",
            "Epoch 1/30\n",
            "11/11 [==============================] - 75s 7s/step - loss: 0.6346 - accuracy: 0.6596 - val_loss: 0.5956 - val_accuracy: 0.7111\n",
            "Epoch 2/30\n",
            "11/11 [==============================] - 75s 7s/step - loss: 0.6264 - accuracy: 0.6505 - val_loss: 0.5934 - val_accuracy: 0.7222\n",
            "Epoch 3/30\n",
            "11/11 [==============================] - 77s 7s/step - loss: 0.6167 - accuracy: 0.6626 - val_loss: 0.5762 - val_accuracy: 0.7222\n",
            "Epoch 4/30\n",
            "11/11 [==============================] - 77s 7s/step - loss: 0.6090 - accuracy: 0.6505 - val_loss: 0.5694 - val_accuracy: 0.7222\n",
            "Epoch 5/30\n",
            "11/11 [==============================] - 76s 7s/step - loss: 0.6053 - accuracy: 0.6474 - val_loss: 0.5644 - val_accuracy: 0.7222\n",
            "              precision    recall  f1-score   support\n",
            "\n",
            "    Abnormal       0.72      1.00      0.84        64\n",
            "      Normal       1.00      0.04      0.07        26\n",
            "\n",
            "    accuracy                           0.72        90\n",
            "   macro avg       0.86      0.52      0.46        90\n",
            "weighted avg       0.80      0.72      0.62        90\n",
            "\n",
            "Fold #3\n",
            "Epoch 1/30\n",
            "11/11 [==============================] - 77s 7s/step - loss: 0.5891 - accuracy: 0.6717 - val_loss: 0.6055 - val_accuracy: 0.6333\n",
            "Epoch 2/30\n",
            "11/11 [==============================] - 77s 7s/step - loss: 0.5840 - accuracy: 0.6657 - val_loss: 0.5984 - val_accuracy: 0.6333\n",
            "Epoch 3/30\n",
            "11/11 [==============================] - 75s 7s/step - loss: 0.5605 - accuracy: 0.6809 - val_loss: 0.5893 - val_accuracy: 0.6333\n",
            "Epoch 4/30\n",
            "11/11 [==============================] - 75s 7s/step - loss: 0.5603 - accuracy: 0.6960 - val_loss: 0.5817 - val_accuracy: 0.6333\n"
          ]
        },
        {
          "output_type": "stream",
          "name": "stderr",
          "text": [
            "/usr/local/lib/python3.7/dist-packages/sklearn/metrics/_classification.py:1318: UndefinedMetricWarning: Precision and F-score are ill-defined and being set to 0.0 in labels with no predicted samples. Use `zero_division` parameter to control this behavior.\n",
            "  _warn_prf(average, modifier, msg_start, len(result))\n",
            "/usr/local/lib/python3.7/dist-packages/sklearn/metrics/_classification.py:1318: UndefinedMetricWarning: Precision and F-score are ill-defined and being set to 0.0 in labels with no predicted samples. Use `zero_division` parameter to control this behavior.\n",
            "  _warn_prf(average, modifier, msg_start, len(result))\n",
            "/usr/local/lib/python3.7/dist-packages/sklearn/metrics/_classification.py:1318: UndefinedMetricWarning: Precision and F-score are ill-defined and being set to 0.0 in labels with no predicted samples. Use `zero_division` parameter to control this behavior.\n",
            "  _warn_prf(average, modifier, msg_start, len(result))\n"
          ]
        },
        {
          "output_type": "stream",
          "name": "stdout",
          "text": [
            "              precision    recall  f1-score   support\n",
            "\n",
            "    Abnormal       0.63      1.00      0.78        57\n",
            "      Normal       0.00      0.00      0.00        33\n",
            "\n",
            "    accuracy                           0.63        90\n",
            "   macro avg       0.32      0.50      0.39        90\n",
            "weighted avg       0.40      0.63      0.49        90\n",
            "\n",
            "Fold #4\n",
            "Epoch 1/30\n",
            "11/11 [==============================] - 76s 7s/step - loss: 0.5462 - accuracy: 0.6839 - val_loss: 0.5539 - val_accuracy: 0.6667\n",
            "Epoch 2/30\n",
            "11/11 [==============================] - 77s 7s/step - loss: 0.5210 - accuracy: 0.6778 - val_loss: 0.5447 - val_accuracy: 0.6889\n",
            "Epoch 3/30\n",
            "11/11 [==============================] - 76s 7s/step - loss: 0.5301 - accuracy: 0.6748 - val_loss: 0.5358 - val_accuracy: 0.7222\n",
            "Epoch 4/30\n",
            "11/11 [==============================] - 77s 7s/step - loss: 0.5140 - accuracy: 0.7264 - val_loss: 0.5270 - val_accuracy: 0.7333\n",
            "Epoch 5/30\n",
            "11/11 [==============================] - 85s 8s/step - loss: 0.5180 - accuracy: 0.7264 - val_loss: 0.5192 - val_accuracy: 0.7333\n",
            "Epoch 6/30\n",
            "11/11 [==============================] - 78s 7s/step - loss: 0.4915 - accuracy: 0.7204 - val_loss: 0.5116 - val_accuracy: 0.7667\n",
            "Epoch 7/30\n",
            "11/11 [==============================] - 79s 7s/step - loss: 0.4956 - accuracy: 0.7508 - val_loss: 0.5036 - val_accuracy: 0.8000\n",
            "Epoch 8/30\n",
            "11/11 [==============================] - 79s 7s/step - loss: 0.4893 - accuracy: 0.7660 - val_loss: 0.4972 - val_accuracy: 0.8444\n",
            "Epoch 9/30\n",
            "11/11 [==============================] - 77s 7s/step - loss: 0.4866 - accuracy: 0.7599 - val_loss: 0.4900 - val_accuracy: 0.8556\n",
            "Epoch 10/30\n",
            "11/11 [==============================] - 76s 7s/step - loss: 0.4870 - accuracy: 0.7842 - val_loss: 0.4809 - val_accuracy: 0.8444\n",
            "Epoch 11/30\n",
            "11/11 [==============================] - 77s 7s/step - loss: 0.4635 - accuracy: 0.7842 - val_loss: 0.4727 - val_accuracy: 0.8556\n",
            "Epoch 12/30\n",
            "11/11 [==============================] - 82s 8s/step - loss: 0.4676 - accuracy: 0.8182 - val_loss: 0.4646 - val_accuracy: 0.8444\n",
            "              precision    recall  f1-score   support\n",
            "\n",
            "    Abnormal       0.81      1.00      0.89        59\n",
            "      Normal       1.00      0.55      0.71        31\n",
            "\n",
            "    accuracy                           0.84        90\n",
            "   macro avg       0.90      0.77      0.80        90\n",
            "weighted avg       0.87      0.84      0.83        90\n",
            "\n",
            "Fold #5\n",
            "Epoch 1/30\n",
            "11/11 [==============================] - 81s 8s/step - loss: 0.4579 - accuracy: 0.8116 - val_loss: 0.4384 - val_accuracy: 0.8889\n",
            "Epoch 2/30\n",
            "11/11 [==============================] - 84s 8s/step - loss: 0.4552 - accuracy: 0.8055 - val_loss: 0.4332 - val_accuracy: 0.8889\n",
            "Epoch 3/30\n",
            "11/11 [==============================] - 87s 8s/step - loss: 0.4530 - accuracy: 0.7964 - val_loss: 0.4262 - val_accuracy: 0.8889\n",
            "Epoch 4/30\n",
            "11/11 [==============================] - 85s 8s/step - loss: 0.4494 - accuracy: 0.8267 - val_loss: 0.4233 - val_accuracy: 0.8889\n",
            "              precision    recall  f1-score   support\n",
            "\n",
            "    Abnormal       0.88      0.97      0.92        62\n",
            "      Normal       0.91      0.71      0.80        28\n",
            "\n",
            "    accuracy                           0.89        90\n",
            "   macro avg       0.90      0.84      0.86        90\n",
            "weighted avg       0.89      0.89      0.88        90\n",
            "\n"
          ]
        }
      ]
    },
    {
      "cell_type": "code",
      "source": [
        "oos_y3 = np.concatenate(oos_y3)\n",
        "oos_pred3 = np.concatenate(oos_pred3)"
      ],
      "metadata": {
        "id": "PKFaUJnv0m21"
      },
      "execution_count": null,
      "outputs": []
    },
    {
      "cell_type": "code",
      "source": [
        "score = metrics.accuracy_score(oos_y3.argmax(axis=1),\t        #ค่า acc\n",
        "                                             oos_pred3.argmax(axis=1) )\n",
        "print(f\"Fold score (accuracy): {score}\") \n",
        "\n",
        "print(classification_report(oos_y3.argmax(axis=1),\t                #แสดง report ค่า acc, recall, ...\n",
        "                                        oos_pred3.argmax(axis=1),  \n",
        "                                        target_names=le_Dense.classes_))"
      ],
      "metadata": {
        "colab": {
          "base_uri": "https://localhost:8080/"
        },
        "outputId": "daccf40a-f8f9-4220-e028-15a98c0d6102",
        "id": "fmTaZJRK0m29"
      },
      "execution_count": null,
      "outputs": [
        {
          "output_type": "stream",
          "name": "stdout",
          "text": [
            "Fold score (accuracy): 0.7427937915742794\n",
            "              precision    recall  f1-score   support\n",
            "\n",
            "    Abnormal       0.72      0.99      0.84       300\n",
            "      Normal       0.93      0.25      0.40       151\n",
            "\n",
            "    accuracy                           0.74       451\n",
            "   macro avg       0.83      0.62      0.62       451\n",
            "weighted avg       0.79      0.74      0.69       451\n",
            "\n"
          ]
        }
      ]
    },
    {
      "cell_type": "code",
      "source": [
        ""
      ],
      "metadata": {
        "id": "_gu-mlYDhiLO"
      },
      "execution_count": null,
      "outputs": []
    },
    {
      "cell_type": "markdown",
      "source": [
        "## 3.1) K-fold  -- DenseNet201  \n",
        "\n",
        "### -->ACC = 0.75\n",
        "### -->เวลา 39 นาที\n",
        "\n",
        "*   BS = 32\n",
        "*   activation=\"sigmoid\"\n",
        "*   learning_rate=0.0001\n",
        "*   epoch 30"
      ],
      "metadata": {
        "id": "lP2mxUp0bMfL"
      }
    },
    {
      "cell_type": "code",
      "source": [
        "train_img_Dense = []\n",
        "for ImageName in tqdm(data_train3['ImageName']):               # รัน ชื่อรูป ในไฟล์ data_test3\n",
        "    image_path = All_3class_dir +'/' + ImageName                   # ดึงรูปในโฟล์เดอร์มาทีละรูป\n",
        "    img = cv2.imread(image_path)                                            # อ่านรูป\n",
        "    img = cv2.resize(img, (224, 224))                                       #ขนาดของ input\n",
        "    train_img_Dense.append(img)\n",
        "\n",
        "data_Dense = np.array(train_img_Dense, dtype=\"float32\") / 255.0"
      ],
      "metadata": {
        "outputId": "94e34ca3-c1b2-42a3-d02a-260127c0899e",
        "colab": {
          "base_uri": "https://localhost:8080/"
        },
        "id": "COzyhdF3bMfb"
      },
      "execution_count": null,
      "outputs": [
        {
          "output_type": "stream",
          "name": "stderr",
          "text": [
            "100%|██████████| 451/451 [04:19<00:00,  1.74it/s]\n"
          ]
        }
      ]
    },
    {
      "cell_type": "code",
      "source": [
        "labels_Dense = np.array(data_train3[['NameType']] )        \n",
        "labels_Dense.shape = (len(labels_Dense),) \n",
        "\n",
        "le_Dense = LabelEncoder()                                                                     \n",
        "labels_Dense = le_Dense.fit_transform(labels_Dense)                                         #จะแปลงชื่อ class เป็นตัวเลข 1, 2, 0 \n",
        "\n",
        "labels_Dense = to_categorical(labels_Dense, num_classes=2)                   #shape (180, 3) มีค่าเป็น  [0., 1., 0.]  กับ   [0., 0., 1.] กับ  [1., 0., 0.]"
      ],
      "metadata": {
        "id": "e6uN8YQBbMfc"
      },
      "execution_count": null,
      "outputs": []
    },
    {
      "cell_type": "code",
      "source": [
        "INIT_LR = 1e-1\n",
        "BS32 = 32\n",
        "EPOCHS = 50\n",
        "\n",
        "aug31 = ImageDataGenerator(\n",
        "\t\trotation_range=15,\t\t\t\t\t\t#องศาการหมุน\n",
        "\t\twidth_shift_range=0.1,\n",
        "\t\theight_shift_range=0.1,\n",
        "\t\tshear_range=0.15,\n",
        "\t\thorizontal_flip=True,\n",
        "\t\tfill_mode=\"nearest\")\n",
        "\n",
        "callback = tf.keras.callbacks.EarlyStopping(\n",
        "                monitor=\"val_accuracy\",\n",
        "                patience=3,\n",
        "                mode=\"max\" )"
      ],
      "metadata": {
        "id": "ez3zuDaMbMfd"
      },
      "execution_count": null,
      "outputs": []
    },
    {
      "cell_type": "code",
      "source": [
        "base_model_Dense = tf.keras.applications.DenseNet201(input_shape=(224, 224, 3), include_top=False, weights=\"imagenet\")\n",
        "base_model_Dense.trainable=False\n",
        "\n",
        "#Add custom head\n",
        "average_pooling_layer = tf.keras.layers.GlobalAveragePooling2D()(base_model_Dense.output)\n",
        "prediction_layer = tf.keras.layers.Dense(units=2, activation=\"sigmoid\")(average_pooling_layer)  \n",
        "model_Dense31 = tf.keras.models.Model(inputs=base_model_Dense.input, outputs=prediction_layer)\n",
        "\n",
        "model_Dense31.compile(optimizer=tf.keras.optimizers.RMSprop(learning_rate=0.0001), loss=\"binary_crossentropy\", metrics=[\"accuracy\"])"
      ],
      "metadata": {
        "id": "ECjMVTzgbMfe",
        "outputId": "3620c56b-3f18-4b83-8c96-97c297931992",
        "colab": {
          "base_uri": "https://localhost:8080/"
        }
      },
      "execution_count": null,
      "outputs": [
        {
          "output_type": "stream",
          "name": "stdout",
          "text": [
            "Downloading data from https://storage.googleapis.com/tensorflow/keras-applications/densenet/densenet201_weights_tf_dim_ordering_tf_kernels_notop.h5\n",
            "74842112/74836368 [==============================] - 3s 0us/step\n",
            "74850304/74836368 [==============================] - 3s 0us/step\n"
          ]
        }
      ]
    },
    {
      "cell_type": "code",
      "source": [
        "kf_Dense31 = KFold(5, shuffle=True, random_state=40) \n",
        "\n",
        "oos_y31 = []\n",
        "oos_pred31 = []\n",
        "fold = 0\n",
        "\n",
        "for train, test in kf_Dense31.split(data_Dense):\n",
        "    fold+=1\n",
        "    print(f\"Fold #{fold}\")\n",
        "        \n",
        "    x_train_Dense31 = data_Dense[train]\n",
        "    y_train_Dense31 = labels_Dense[train]\n",
        "    x_test_Dense31 = data_Dense[test]\n",
        "    y_test_Dense31 = labels_Dense[test]\n",
        "\n",
        "    H_Dense31 = model_Dense31.fit( x=aug31.flow(x_train_Dense31, y_train_Dense31, batch_size=BS32),\n",
        "\t                                            validation_data=(x_test_Dense31, y_test_Dense31),\n",
        "\t                                            steps_per_epoch=len(x_train_Dense31) // BS32,\n",
        "\t                                            epochs=30,  callbacks = [callback])\n",
        "    \n",
        "    pred_Dense31 = model_Dense31.predict(x_test_Dense31)\n",
        "    \n",
        "    oos_y31.append(y_test_Dense31)\n",
        "    oos_pred31.append(pred_Dense31)  \n",
        "    print(classification_report(y_test_Dense31.argmax(axis=1),\t                #แสดง report ค่า acc, recall, ...\n",
        "                                        pred_Dense31.argmax(axis=1),  \n",
        "                                        target_names=le_Dense.classes_))\n",
        "\n"
      ],
      "metadata": {
        "id": "DHnbYRVHbMfe",
        "outputId": "596f1b96-56de-4147-aa06-962adbd73dff",
        "colab": {
          "base_uri": "https://localhost:8080/"
        }
      },
      "execution_count": null,
      "outputs": [
        {
          "output_type": "stream",
          "name": "stdout",
          "text": [
            "Fold #1\n",
            "Epoch 1/30\n",
            "11/11 [==============================] - 79s 6s/step - loss: 0.8774 - accuracy: 0.3598 - val_loss: 0.7576 - val_accuracy: 0.4286\n",
            "Epoch 2/30\n",
            "11/11 [==============================] - 69s 7s/step - loss: 0.7438 - accuracy: 0.4848 - val_loss: 0.6791 - val_accuracy: 0.7143\n",
            "Epoch 3/30\n",
            "11/11 [==============================] - 70s 6s/step - loss: 0.6627 - accuracy: 0.6402 - val_loss: 0.6356 - val_accuracy: 0.7143\n",
            "Epoch 4/30\n",
            "11/11 [==============================] - 74s 7s/step - loss: 0.6438 - accuracy: 0.6524 - val_loss: 0.6106 - val_accuracy: 0.7033\n",
            "Epoch 5/30\n",
            "11/11 [==============================] - 73s 7s/step - loss: 0.6165 - accuracy: 0.6951 - val_loss: 0.5973 - val_accuracy: 0.6703\n",
            "              precision    recall  f1-score   support\n",
            "\n",
            "    Abnormal       0.66      1.00      0.79        58\n",
            "      Normal       1.00      0.09      0.17        33\n",
            "\n",
            "    accuracy                           0.67        91\n",
            "   macro avg       0.83      0.55      0.48        91\n",
            "weighted avg       0.78      0.67      0.57        91\n",
            "\n",
            "Fold #2\n",
            "Epoch 1/30\n",
            "11/11 [==============================] - 82s 8s/step - loss: 0.6098 - accuracy: 0.6477 - val_loss: 0.5625 - val_accuracy: 0.7111\n",
            "Epoch 2/30\n",
            "11/11 [==============================] - 74s 7s/step - loss: 0.6064 - accuracy: 0.6413 - val_loss: 0.5572 - val_accuracy: 0.6889\n",
            "Epoch 3/30\n",
            "11/11 [==============================] - 76s 7s/step - loss: 0.5832 - accuracy: 0.6809 - val_loss: 0.5498 - val_accuracy: 0.7000\n",
            "Epoch 4/30\n",
            "11/11 [==============================] - 83s 8s/step - loss: 0.5662 - accuracy: 0.7021 - val_loss: 0.5387 - val_accuracy: 0.7111\n",
            "              precision    recall  f1-score   support\n",
            "\n",
            "    Abnormal       0.72      0.98      0.83        64\n",
            "      Normal       0.50      0.04      0.07        26\n",
            "\n",
            "    accuracy                           0.71        90\n",
            "   macro avg       0.61      0.51      0.45        90\n",
            "weighted avg       0.65      0.71      0.61        90\n",
            "\n",
            "Fold #3\n",
            "Epoch 1/30\n",
            "11/11 [==============================] - 78s 7s/step - loss: 0.5612 - accuracy: 0.6960 - val_loss: 0.5710 - val_accuracy: 0.6667\n",
            "Epoch 2/30\n",
            "11/11 [==============================] - 78s 7s/step - loss: 0.5434 - accuracy: 0.7082 - val_loss: 0.5641 - val_accuracy: 0.6667\n",
            "Epoch 3/30\n",
            "11/11 [==============================] - 80s 7s/step - loss: 0.5335 - accuracy: 0.7143 - val_loss: 0.5565 - val_accuracy: 0.6778\n",
            "Epoch 4/30\n",
            "11/11 [==============================] - 80s 7s/step - loss: 0.5320 - accuracy: 0.7021 - val_loss: 0.5497 - val_accuracy: 0.6667\n",
            "Epoch 5/30\n",
            "11/11 [==============================] - 76s 7s/step - loss: 0.5219 - accuracy: 0.7356 - val_loss: 0.5435 - val_accuracy: 0.6667\n",
            "Epoch 6/30\n",
            "11/11 [==============================] - 76s 7s/step - loss: 0.5100 - accuracy: 0.7234 - val_loss: 0.5376 - val_accuracy: 0.6667\n",
            "              precision    recall  f1-score   support\n",
            "\n",
            "    Abnormal       0.66      0.98      0.79        57\n",
            "      Normal       0.80      0.12      0.21        33\n",
            "\n",
            "    accuracy                           0.67        90\n",
            "   macro avg       0.73      0.55      0.50        90\n",
            "weighted avg       0.71      0.67      0.58        90\n",
            "\n",
            "Fold #4\n",
            "Epoch 1/30\n",
            "11/11 [==============================] - 72s 7s/step - loss: 0.5163 - accuracy: 0.7173 - val_loss: 0.4891 - val_accuracy: 0.8444\n",
            "Epoch 2/30\n",
            "11/11 [==============================] - 75s 7s/step - loss: 0.5138 - accuracy: 0.7143 - val_loss: 0.4834 - val_accuracy: 0.8556\n",
            "Epoch 3/30\n",
            "11/11 [==============================] - 85s 8s/step - loss: 0.4941 - accuracy: 0.7690 - val_loss: 0.4759 - val_accuracy: 0.8556\n",
            "Epoch 4/30\n",
            "11/11 [==============================] - 87s 8s/step - loss: 0.4894 - accuracy: 0.7751 - val_loss: 0.4690 - val_accuracy: 0.8556\n",
            "Epoch 5/30\n",
            "11/11 [==============================] - 86s 8s/step - loss: 0.4802 - accuracy: 0.7781 - val_loss: 0.4617 - val_accuracy: 0.8556\n",
            "              precision    recall  f1-score   support\n",
            "\n",
            "    Abnormal       0.82      1.00      0.90        59\n",
            "      Normal       1.00      0.58      0.73        31\n",
            "\n",
            "    accuracy                           0.86        90\n",
            "   macro avg       0.91      0.79      0.82        90\n",
            "weighted avg       0.88      0.86      0.84        90\n",
            "\n",
            "Fold #5\n",
            "Epoch 1/30\n",
            "11/11 [==============================] - 84s 8s/step - loss: 0.4935 - accuracy: 0.7720 - val_loss: 0.4662 - val_accuracy: 0.8556\n",
            "Epoch 2/30\n",
            "11/11 [==============================] - 83s 8s/step - loss: 0.4857 - accuracy: 0.8085 - val_loss: 0.4627 - val_accuracy: 0.8556\n",
            "Epoch 3/30\n",
            "11/11 [==============================] - 83s 8s/step - loss: 0.4878 - accuracy: 0.7903 - val_loss: 0.4564 - val_accuracy: 0.8556\n",
            "Epoch 4/30\n",
            "11/11 [==============================] - 84s 8s/step - loss: 0.4755 - accuracy: 0.7933 - val_loss: 0.4525 - val_accuracy: 0.8444\n",
            "              precision    recall  f1-score   support\n",
            "\n",
            "    Abnormal       0.84      0.95      0.89        62\n",
            "      Normal       0.85      0.61      0.71        28\n",
            "\n",
            "    accuracy                           0.84        90\n",
            "   macro avg       0.85      0.78      0.80        90\n",
            "weighted avg       0.85      0.84      0.84        90\n",
            "\n"
          ]
        }
      ]
    },
    {
      "cell_type": "code",
      "source": [
        "oos_y31 = np.concatenate(oos_y31)\n",
        "oos_pred31 = np.concatenate(oos_pred31)"
      ],
      "metadata": {
        "id": "-OOoVK5zbMff"
      },
      "execution_count": null,
      "outputs": []
    },
    {
      "cell_type": "code",
      "source": [
        "score = metrics.accuracy_score(oos_y31.argmax(axis=1),\t        #ค่า acc\n",
        "                                             oos_pred31.argmax(axis=1) )\n",
        "print(f\"Fold score (accuracy): {score}\")\n",
        "\n",
        "print(classification_report(oos_y31.argmax(axis=1),\t                #แสดง report ค่า acc, recall, ...\n",
        "                                        oos_pred31.argmax(axis=1),  \n",
        "                                        target_names=le_Dense.classes_))"
      ],
      "metadata": {
        "id": "0Ip9CnyRbMff",
        "outputId": "d519fec4-c79d-4164-e9dc-9d3e9bf689d1",
        "colab": {
          "base_uri": "https://localhost:8080/"
        }
      },
      "execution_count": null,
      "outputs": [
        {
          "output_type": "stream",
          "name": "stdout",
          "text": [
            "Fold score (accuracy): 0.7494456762749445\n",
            "              precision    recall  f1-score   support\n",
            "\n",
            "    Abnormal       0.73      0.98      0.84       300\n",
            "      Normal       0.90      0.28      0.43       151\n",
            "\n",
            "    accuracy                           0.75       451\n",
            "   macro avg       0.81      0.63      0.64       451\n",
            "weighted avg       0.79      0.75      0.70       451\n",
            "\n"
          ]
        }
      ]
    },
    {
      "cell_type": "markdown",
      "source": [
        "## 4) K-fold  -- DenseNet201 \n",
        "\n",
        "### -->ACC = 0.91\n",
        "### -->เวลา 7988 วินาที\n",
        "\n",
        "*   BS = 1\n",
        "*   activation=\"softmax\"\n",
        "*   learning_rate=0.0001\n",
        "*   epoch 30"
      ],
      "metadata": {
        "id": "5CB2GEyXeaYe"
      }
    },
    {
      "cell_type": "code",
      "source": [
        "train_img_Dense = []\n",
        "for ImageName in tqdm(data_train3['ImageName']):               # รัน ชื่อรูป ในไฟล์ data_test3\n",
        "    image_path = All_3class_dir +'/' + ImageName                   # ดึงรูปในโฟล์เดอร์มาทีละรูป\n",
        "    img = cv2.imread(image_path)                                            # อ่านรูป\n",
        "    img = cv2.resize(img, (224, 224))                                       #ขนาดของ input\n",
        "    train_img_Dense.append(img)\n",
        "\n",
        "data_Dense = np.array(train_img_Dense, dtype=\"float32\") / 255.0"
      ],
      "metadata": {
        "id": "baqr2rXweaYo",
        "colab": {
          "base_uri": "https://localhost:8080/"
        },
        "outputId": "efc74eb6-8092-409d-e54b-0d3d8506ea20"
      },
      "execution_count": null,
      "outputs": [
        {
          "output_type": "stream",
          "name": "stderr",
          "text": [
            "100%|██████████| 451/451 [00:05<00:00, 85.53it/s] \n"
          ]
        }
      ]
    },
    {
      "cell_type": "code",
      "source": [
        "labels_Dense = np.array(data_train3[['NameType']] )        \n",
        "labels_Dense.shape = (len(labels_Dense),) \n",
        "\n",
        "le_Dense = LabelEncoder()                                                                     \n",
        "labels_Dense = le_Dense.fit_transform(labels_Dense)                                         #จะแปลงชื่อ class เป็นตัวเลข 1, 2, 0 \n",
        "\n",
        "labels_Dense = to_categorical(labels_Dense, num_classes=2)                   #shape (180, 3) มีค่าเป็น  [0., 1., 0.]  กับ   [0., 0., 1.] กับ  [1., 0., 0.]"
      ],
      "metadata": {
        "id": "5tSPXlUHeaYp"
      },
      "execution_count": null,
      "outputs": []
    },
    {
      "cell_type": "code",
      "source": [
        "INIT_LR = 1e-1\n",
        "BS = 1\n",
        "EPOCHS = 50\n",
        "\n",
        "aug4 = ImageDataGenerator(\n",
        "\t\trotation_range=15,\t\t\t\t\t\t#องศาการหมุน\n",
        "\t\twidth_shift_range=0.1,\n",
        "\t\theight_shift_range=0.1,\n",
        "\t\tshear_range=0.15,\n",
        "\t\thorizontal_flip=True,\n",
        "\t\tfill_mode=\"nearest\")\n",
        "\n",
        "callback = tf.keras.callbacks.EarlyStopping(\n",
        "                monitor=\"val_accuracy\",\n",
        "                patience=3,\n",
        "                mode=\"max\" )"
      ],
      "metadata": {
        "id": "JbMXZH0PeaYq"
      },
      "execution_count": null,
      "outputs": []
    },
    {
      "cell_type": "code",
      "source": [
        "base_model_Dense = tf.keras.applications.DenseNet201(input_shape=(224, 224, 3), include_top=False, weights=\"imagenet\")\n",
        "base_model_Dense.trainable=False\n",
        "\n",
        "#Add custom head\n",
        "average_pooling_layer = tf.keras.layers.GlobalAveragePooling2D()(base_model_Dense.output)\n",
        "prediction_layer = tf.keras.layers.Dense(units=2, activation=\"softmax\")(average_pooling_layer)   \n",
        "model_Dense4 = tf.keras.models.Model(inputs=base_model_Dense.input, outputs=prediction_layer)\n",
        "\n",
        "model_Dense4.compile(optimizer=tf.keras.optimizers.RMSprop(learning_rate=0.0001), loss=\"binary_crossentropy\", metrics=[\"accuracy\"])"
      ],
      "metadata": {
        "id": "1nnU_aDdeaYr"
      },
      "execution_count": null,
      "outputs": []
    },
    {
      "cell_type": "code",
      "source": [
        "kf_Dense4 = KFold(5, shuffle=True, random_state=40) \n",
        "\n",
        "oos_y4 = []\n",
        "oos_pred4 = []\n",
        "fold = 0\n",
        "\n",
        "for train, test in kf_Dense4.split(data_Dense):\n",
        "    fold+=1\n",
        "    print(f\"Fold #{fold}\")\n",
        "        \n",
        "    x_train_Dense4 = data_Dense[train]\n",
        "    y_train_Dense4 = labels_Dense[train]\n",
        "    x_test_Dense4 = data_Dense[test]\n",
        "    y_test_Dense4 = labels_Dense[test]\n",
        "\n",
        "    H_Dense4 = model_Dense4.fit( x=aug4.flow(x_train_Dense4, y_train_Dense4, batch_size=BS),\n",
        "\t                                            validation_data=(x_test_Dense4, y_test_Dense4),\n",
        "\t                                            steps_per_epoch=len(x_train_Dense4) // BS,\n",
        "\t                                            epochs=30,  callbacks = [callback])\n",
        "    \n",
        "    pred_Dense4 = model_Dense4.predict(x_test_Dense4)\n",
        "    \n",
        "    oos_y4.append(y_test_Dense4)\n",
        "    oos_pred4.append(pred_Dense4)  \n",
        "    print(classification_report(y_test_Dense4.argmax(axis=1),\t                #แสดง report ค่า acc, recall, ...\n",
        "                                        pred_Dense4.argmax(axis=1),  \n",
        "                                        target_names=le_Dense.classes_))\n",
        "\n"
      ],
      "metadata": {
        "id": "kIOhgFQjeaYr",
        "outputId": "d1ffec57-f756-4ffd-c5a3-b5da326c6092",
        "colab": {
          "base_uri": "https://localhost:8080/"
        }
      },
      "execution_count": null,
      "outputs": [
        {
          "output_type": "stream",
          "name": "stdout",
          "text": [
            "Fold #1\n",
            "Epoch 1/30\n",
            "360/360 [==============================] - 99s 246ms/step - loss: 0.6145 - accuracy: 0.6500 - val_loss: 0.5965 - val_accuracy: 0.6374\n",
            "Epoch 2/30\n",
            "360/360 [==============================] - 402s 1s/step - loss: 0.5510 - accuracy: 0.6917 - val_loss: 0.5262 - val_accuracy: 0.7253\n",
            "Epoch 3/30\n",
            "360/360 [==============================] - 105s 293ms/step - loss: 0.4875 - accuracy: 0.7278 - val_loss: 0.4894 - val_accuracy: 0.8571\n",
            "Epoch 4/30\n",
            "360/360 [==============================] - 484s 1s/step - loss: 0.4326 - accuracy: 0.8139 - val_loss: 0.4517 - val_accuracy: 0.9011\n",
            "Epoch 5/30\n",
            "360/360 [==============================] - 543s 2s/step - loss: 0.3958 - accuracy: 0.8472 - val_loss: 0.4174 - val_accuracy: 0.8791\n",
            "Epoch 6/30\n",
            "360/360 [==============================] - 480s 1s/step - loss: 0.3812 - accuracy: 0.8250 - val_loss: 0.4222 - val_accuracy: 0.8462\n",
            "Epoch 7/30\n",
            "360/360 [==============================] - 224s 621ms/step - loss: 0.3549 - accuracy: 0.8750 - val_loss: 0.3712 - val_accuracy: 0.9121\n",
            "Epoch 8/30\n",
            "360/360 [==============================] - 502s 1s/step - loss: 0.3431 - accuracy: 0.8750 - val_loss: 0.3713 - val_accuracy: 0.9011\n",
            "Epoch 9/30\n",
            "360/360 [==============================] - 492s 1s/step - loss: 0.3117 - accuracy: 0.9056 - val_loss: 0.3500 - val_accuracy: 0.9011\n",
            "Epoch 10/30\n",
            "360/360 [==============================] - 449s 1s/step - loss: 0.2976 - accuracy: 0.8944 - val_loss: 0.3527 - val_accuracy: 0.8791\n",
            "              precision    recall  f1-score   support\n",
            "\n",
            "    Abnormal       0.98      0.83      0.90        58\n",
            "      Normal       0.76      0.97      0.85        33\n",
            "\n",
            "    accuracy                           0.88        91\n",
            "   macro avg       0.87      0.90      0.88        91\n",
            "weighted avg       0.90      0.88      0.88        91\n",
            "\n",
            "Fold #2\n",
            "Epoch 1/30\n",
            "361/361 [==============================] - 114s 316ms/step - loss: 0.3051 - accuracy: 0.8947 - val_loss: 0.3274 - val_accuracy: 0.9000\n",
            "Epoch 2/30\n",
            "361/361 [==============================] - 129s 356ms/step - loss: 0.2918 - accuracy: 0.8920 - val_loss: 0.3266 - val_accuracy: 0.9000\n",
            "Epoch 3/30\n",
            "361/361 [==============================] - 149s 413ms/step - loss: 0.2837 - accuracy: 0.9003 - val_loss: 0.3049 - val_accuracy: 0.9111\n",
            "Epoch 4/30\n",
            "361/361 [==============================] - 190s 526ms/step - loss: 0.2705 - accuracy: 0.8975 - val_loss: 0.3268 - val_accuracy: 0.8778\n",
            "Epoch 5/30\n",
            "361/361 [==============================] - 171s 473ms/step - loss: 0.2482 - accuracy: 0.9224 - val_loss: 0.3009 - val_accuracy: 0.9222\n",
            "Epoch 6/30\n",
            "361/361 [==============================] - 198s 548ms/step - loss: 0.2605 - accuracy: 0.9197 - val_loss: 0.2896 - val_accuracy: 0.9222\n",
            "Epoch 7/30\n",
            "361/361 [==============================] - 273s 756ms/step - loss: 0.2500 - accuracy: 0.9197 - val_loss: 0.2759 - val_accuracy: 0.9333\n",
            "Epoch 8/30\n",
            "361/361 [==============================] - 214s 593ms/step - loss: 0.2331 - accuracy: 0.9252 - val_loss: 0.2756 - val_accuracy: 0.9333\n",
            "Epoch 9/30\n",
            "361/361 [==============================] - 190s 527ms/step - loss: 0.2346 - accuracy: 0.9307 - val_loss: 0.2703 - val_accuracy: 0.9333\n",
            "Epoch 10/30\n",
            "361/361 [==============================] - 240s 664ms/step - loss: 0.2475 - accuracy: 0.9058 - val_loss: 0.2900 - val_accuracy: 0.9111\n",
            "              precision    recall  f1-score   support\n",
            "\n",
            "    Abnormal       0.98      0.89      0.93        64\n",
            "      Normal       0.78      0.96      0.86        26\n",
            "\n",
            "    accuracy                           0.91        90\n",
            "   macro avg       0.88      0.93      0.90        90\n",
            "weighted avg       0.92      0.91      0.91        90\n",
            "\n",
            "Fold #3\n",
            "Epoch 1/30\n",
            "361/361 [==============================] - 89s 246ms/step - loss: 0.2276 - accuracy: 0.9141 - val_loss: 0.2636 - val_accuracy: 0.9000\n",
            "Epoch 2/30\n",
            "361/361 [==============================] - 96s 267ms/step - loss: 0.1994 - accuracy: 0.9418 - val_loss: 0.2679 - val_accuracy: 0.8889\n",
            "Epoch 3/30\n",
            "361/361 [==============================] - 106s 294ms/step - loss: 0.2082 - accuracy: 0.9197 - val_loss: 0.2616 - val_accuracy: 0.8889\n",
            "Epoch 4/30\n",
            "361/361 [==============================] - 94s 261ms/step - loss: 0.2104 - accuracy: 0.9252 - val_loss: 0.2562 - val_accuracy: 0.9000\n",
            "              precision    recall  f1-score   support\n",
            "\n",
            "    Abnormal       0.93      0.91      0.92        57\n",
            "      Normal       0.85      0.88      0.87        33\n",
            "\n",
            "    accuracy                           0.90        90\n",
            "   macro avg       0.89      0.90      0.89        90\n",
            "weighted avg       0.90      0.90      0.90        90\n",
            "\n",
            "Fold #4\n",
            "Epoch 1/30\n",
            "361/361 [==============================] - 122s 338ms/step - loss: 0.2041 - accuracy: 0.9307 - val_loss: 0.1697 - val_accuracy: 0.9667\n",
            "Epoch 2/30\n",
            "361/361 [==============================] - 395s 1s/step - loss: 0.2116 - accuracy: 0.9169 - val_loss: 0.1930 - val_accuracy: 0.9333\n",
            "Epoch 3/30\n",
            "361/361 [==============================] - 238s 658ms/step - loss: 0.2146 - accuracy: 0.9280 - val_loss: 0.1574 - val_accuracy: 0.9556\n",
            "Epoch 4/30\n",
            "361/361 [==============================] - 114s 315ms/step - loss: 0.2171 - accuracy: 0.9335 - val_loss: 0.1552 - val_accuracy: 0.9556\n",
            "              precision    recall  f1-score   support\n",
            "\n",
            "    Abnormal       0.97      0.97      0.97        59\n",
            "      Normal       0.94      0.94      0.94        31\n",
            "\n",
            "    accuracy                           0.96        90\n",
            "   macro avg       0.95      0.95      0.95        90\n",
            "weighted avg       0.96      0.96      0.96        90\n",
            "\n",
            "Fold #5\n",
            "Epoch 1/30\n",
            "361/361 [==============================] - 95s 263ms/step - loss: 0.2245 - accuracy: 0.9141 - val_loss: 0.1973 - val_accuracy: 0.9333\n",
            "Epoch 2/30\n",
            "361/361 [==============================] - 105s 291ms/step - loss: 0.2088 - accuracy: 0.9363 - val_loss: 0.1896 - val_accuracy: 0.9333\n",
            "Epoch 3/30\n",
            "361/361 [==============================] - 103s 284ms/step - loss: 0.2064 - accuracy: 0.9252 - val_loss: 0.1881 - val_accuracy: 0.9333\n",
            "Epoch 4/30\n",
            "361/361 [==============================] - 107s 296ms/step - loss: 0.2139 - accuracy: 0.9307 - val_loss: 0.1804 - val_accuracy: 0.9222\n",
            "              precision    recall  f1-score   support\n",
            "\n",
            "    Abnormal       0.98      0.90      0.94        62\n",
            "      Normal       0.82      0.96      0.89        28\n",
            "\n",
            "    accuracy                           0.92        90\n",
            "   macro avg       0.90      0.93      0.91        90\n",
            "weighted avg       0.93      0.92      0.92        90\n",
            "\n"
          ]
        }
      ]
    },
    {
      "cell_type": "code",
      "source": [
        "oos_y4 = np.concatenate(oos_y4)\n",
        "oos_pred4 = np.concatenate(oos_pred4)"
      ],
      "metadata": {
        "id": "GU7HoemBeaYs"
      },
      "execution_count": null,
      "outputs": []
    },
    {
      "cell_type": "code",
      "source": [
        "score = metrics.accuracy_score(oos_y4.argmax(axis=1),\t        #ค่า acc\n",
        "                                             oos_pred4.argmax(axis=1) )\n",
        "print(f\"Fold score (accuracy): {score}\")\n",
        "\n",
        "print(classification_report(oos_y4.argmax(axis=1),\t                #แสดง report ค่า acc, recall, ...\n",
        "                                        oos_pred4.argmax(axis=1),  \n",
        "                                        target_names=le_Dense.classes_))"
      ],
      "metadata": {
        "id": "LGk8dlfbeaYs",
        "outputId": "deabcd20-4b28-40a4-ecc9-ec240bfa3a98",
        "colab": {
          "base_uri": "https://localhost:8080/"
        }
      },
      "execution_count": null,
      "outputs": [
        {
          "output_type": "stream",
          "name": "stdout",
          "text": [
            "Fold score (accuracy): 0.9135254988913526\n",
            "              precision    recall  f1-score   support\n",
            "\n",
            "    Abnormal       0.97      0.90      0.93       300\n",
            "      Normal       0.83      0.94      0.88       151\n",
            "\n",
            "    accuracy                           0.91       451\n",
            "   macro avg       0.90      0.92      0.91       451\n",
            "weighted avg       0.92      0.91      0.91       451\n",
            "\n"
          ]
        }
      ]
    },
    {
      "cell_type": "markdown",
      "source": [
        "## 4.1) K-fold  -- DenseNet201  \n",
        "\n",
        "### -->ACC = 0.90\n",
        "### -->เวลา 6299  วินาที \n",
        "\n",
        "*   BS = 1\n",
        "*   activation=\"sigmoid\"\n",
        "*   learning_rate=0.0001\n",
        "*   epoch 30"
      ],
      "metadata": {
        "id": "RqacTDj4flkn"
      }
    },
    {
      "cell_type": "code",
      "source": [
        "train_img_Dense = []\n",
        "for ImageName in tqdm(data_train3['ImageName']):               # รัน ชื่อรูป ในไฟล์ data_test3\n",
        "    image_path = All_3class_dir +'/' + ImageName                   # ดึงรูปในโฟล์เดอร์มาทีละรูป\n",
        "    img = cv2.imread(image_path)                                            # อ่านรูป\n",
        "    img = cv2.resize(img, (224, 224))                                       #ขนาดของ input\n",
        "    train_img_Dense.append(img)\n",
        "\n",
        "data_Dense = np.array(train_img_Dense, dtype=\"float32\") / 255.0"
      ],
      "metadata": {
        "colab": {
          "base_uri": "https://localhost:8080/"
        },
        "outputId": "8929ea61-ac15-4d32-a017-72325c14c542",
        "id": "C0-pbnYQflkp"
      },
      "execution_count": null,
      "outputs": [
        {
          "output_type": "stream",
          "name": "stderr",
          "text": [
            "100%|██████████| 451/451 [02:15<00:00,  3.34it/s]\n"
          ]
        }
      ]
    },
    {
      "cell_type": "code",
      "source": [
        "labels_Dense = np.array(data_train3[['NameType']] )        \n",
        "labels_Dense.shape = (len(labels_Dense),) \n",
        "\n",
        "le_Dense = LabelEncoder()                                                                     \n",
        "labels_Dense = le_Dense.fit_transform(labels_Dense)                                         #จะแปลงชื่อ class เป็นตัวเลข 1, 2, 0 \n",
        "\n",
        "labels_Dense = to_categorical(labels_Dense, num_classes=2)                   #shape (180, 3) มีค่าเป็น  [0., 1., 0.]  กับ   [0., 0., 1.] กับ  [1., 0., 0.]"
      ],
      "metadata": {
        "id": "levSvyvzflkr"
      },
      "execution_count": null,
      "outputs": []
    },
    {
      "cell_type": "code",
      "source": [
        "INIT_LR = 1e-1\n",
        "BS = 1\n",
        "EPOCHS = 50\n",
        "\n",
        "aug41 = ImageDataGenerator(\n",
        "\t\trotation_range=15,\t\t\t\t\t\t#องศาการหมุน\n",
        "\t\twidth_shift_range=0.1,\n",
        "\t\theight_shift_range=0.1,\n",
        "\t\tshear_range=0.15,\n",
        "\t\thorizontal_flip=True,\n",
        "\t\tfill_mode=\"nearest\")\n",
        "\n",
        "callback = tf.keras.callbacks.EarlyStopping(\n",
        "                monitor=\"val_accuracy\",\n",
        "                patience=3,\n",
        "                mode=\"max\" )"
      ],
      "metadata": {
        "id": "qZehjeByflks"
      },
      "execution_count": null,
      "outputs": []
    },
    {
      "cell_type": "code",
      "source": [
        "base_model_Dense = tf.keras.applications.DenseNet201(input_shape=(224, 224, 3), include_top=False, weights=\"imagenet\")\n",
        "base_model_Dense.trainable=False\n",
        "\n",
        "#Add custom head\n",
        "average_pooling_layer = tf.keras.layers.GlobalAveragePooling2D()(base_model_Dense.output)\n",
        "prediction_layer = tf.keras.layers.Dense(units=2, activation=\"sigmoid\")(average_pooling_layer)   \n",
        "model_Dense41 = tf.keras.models.Model(inputs=base_model_Dense.input, outputs=prediction_layer)\n",
        "\n",
        "model_Dense41.compile(optimizer=tf.keras.optimizers.RMSprop(learning_rate=0.0001), loss=\"binary_crossentropy\", metrics=[\"accuracy\"])"
      ],
      "metadata": {
        "id": "aGFC1tDtflkt",
        "outputId": "8b515ffa-39ca-493e-ee06-d26b0b7c2b64",
        "colab": {
          "base_uri": "https://localhost:8080/"
        }
      },
      "execution_count": null,
      "outputs": [
        {
          "output_type": "stream",
          "name": "stdout",
          "text": [
            "Downloading data from https://storage.googleapis.com/tensorflow/keras-applications/densenet/densenet201_weights_tf_dim_ordering_tf_kernels_notop.h5\n",
            "74842112/74836368 [==============================] - 0s 0us/step\n",
            "74850304/74836368 [==============================] - 0s 0us/step\n"
          ]
        }
      ]
    },
    {
      "cell_type": "code",
      "source": [
        "kf_Dense41 = KFold(5, shuffle=True, random_state=40) \n",
        "\n",
        "oos_y41 = []\n",
        "oos_pred41 = []\n",
        "fold = 0\n",
        "\n",
        "for train, test in kf_Dense41.split(data_Dense):\n",
        "    fold+=1\n",
        "    print(f\"Fold #{fold}\")\n",
        "        \n",
        "    x_train_Dense41 = data_Dense[train]\n",
        "    y_train_Dense41 = labels_Dense[train]\n",
        "    x_test_Dense41 = data_Dense[test]\n",
        "    y_test_Dense41 = labels_Dense[test]\n",
        "\n",
        "    H_Dense41 = model_Dense41.fit( x=aug41.flow(x_train_Dense41, y_train_Dense41, batch_size=BS),\n",
        "\t                                            validation_data=(x_test_Dense41, y_test_Dense41),\n",
        "\t                                            steps_per_epoch=len(x_train_Dense41) // BS,\n",
        "\t                                            epochs=30,  callbacks = [callback])\n",
        "    \n",
        "    pred_Dense41 = model_Dense41.predict(x_test_Dense41)\n",
        "    \n",
        "    oos_y41.append(y_test_Dense41)\n",
        "    oos_pred41.append(pred_Dense41)  \n",
        "    print(classification_report(y_test_Dense41.argmax(axis=1),\t                #แสดง report ค่า acc, recall, ...\n",
        "                                        pred_Dense41.argmax(axis=1),  \n",
        "                                        target_names=le_Dense.classes_))\n",
        "\n"
      ],
      "metadata": {
        "id": "pTP9GZOPflku",
        "outputId": "96e98e6a-a972-411c-c648-ac290ccb6a70",
        "colab": {
          "base_uri": "https://localhost:8080/"
        }
      },
      "execution_count": null,
      "outputs": [
        {
          "output_type": "stream",
          "name": "stdout",
          "text": [
            "Fold #1\n",
            "Epoch 1/30\n",
            "360/360 [==============================] - 128s 322ms/step - loss: 0.6247 - accuracy: 0.6750 - val_loss: 0.6366 - val_accuracy: 0.6374\n",
            "Epoch 2/30\n",
            "360/360 [==============================] - 197s 548ms/step - loss: 0.5556 - accuracy: 0.6889 - val_loss: 0.5993 - val_accuracy: 0.7473\n",
            "Epoch 3/30\n",
            "360/360 [==============================] - 197s 549ms/step - loss: 0.4930 - accuracy: 0.7417 - val_loss: 0.5227 - val_accuracy: 0.6923\n",
            "Epoch 4/30\n",
            "360/360 [==============================] - 194s 540ms/step - loss: 0.4478 - accuracy: 0.7833 - val_loss: 0.4925 - val_accuracy: 0.8571\n",
            "Epoch 5/30\n",
            "360/360 [==============================] - 200s 556ms/step - loss: 0.4245 - accuracy: 0.8306 - val_loss: 0.4548 - val_accuracy: 0.8571\n",
            "Epoch 6/30\n",
            "360/360 [==============================] - 184s 511ms/step - loss: 0.3798 - accuracy: 0.8500 - val_loss: 0.4527 - val_accuracy: 0.8571\n",
            "Epoch 7/30\n",
            "360/360 [==============================] - 181s 503ms/step - loss: 0.3585 - accuracy: 0.8750 - val_loss: 0.4047 - val_accuracy: 0.8681\n",
            "Epoch 8/30\n",
            "360/360 [==============================] - 191s 531ms/step - loss: 0.3401 - accuracy: 0.8667 - val_loss: 0.3864 - val_accuracy: 0.8681\n",
            "Epoch 9/30\n",
            "360/360 [==============================] - 153s 427ms/step - loss: 0.3265 - accuracy: 0.8972 - val_loss: 0.3684 - val_accuracy: 0.8681\n",
            "Epoch 10/30\n",
            "360/360 [==============================] - 126s 349ms/step - loss: 0.3071 - accuracy: 0.9000 - val_loss: 0.3834 - val_accuracy: 0.8462\n",
            "              precision    recall  f1-score   support\n",
            "\n",
            "    Abnormal       0.98      0.78      0.87        58\n",
            "      Normal       0.71      0.97      0.82        33\n",
            "\n",
            "    accuracy                           0.85        91\n",
            "   macro avg       0.84      0.87      0.84        91\n",
            "weighted avg       0.88      0.85      0.85        91\n",
            "\n",
            "Fold #2\n",
            "Epoch 1/30\n",
            "361/361 [==============================] - 111s 307ms/step - loss: 0.3035 - accuracy: 0.9030 - val_loss: 0.3291 - val_accuracy: 0.8778\n",
            "Epoch 2/30\n",
            "361/361 [==============================] - 151s 419ms/step - loss: 0.3179 - accuracy: 0.8753 - val_loss: 0.3013 - val_accuracy: 0.9222\n",
            "Epoch 3/30\n",
            "361/361 [==============================] - 177s 491ms/step - loss: 0.3025 - accuracy: 0.8864 - val_loss: 0.3051 - val_accuracy: 0.9222\n",
            "Epoch 4/30\n",
            "361/361 [==============================] - 117s 325ms/step - loss: 0.2654 - accuracy: 0.9252 - val_loss: 0.2810 - val_accuracy: 0.9333\n",
            "Epoch 5/30\n",
            "361/361 [==============================] - 179s 496ms/step - loss: 0.2688 - accuracy: 0.9003 - val_loss: 0.3093 - val_accuracy: 0.8889\n",
            "Epoch 6/30\n",
            "361/361 [==============================] - 218s 604ms/step - loss: 0.2460 - accuracy: 0.9058 - val_loss: 0.2945 - val_accuracy: 0.9000\n",
            "Epoch 7/30\n",
            "361/361 [==============================] - 196s 543ms/step - loss: 0.2508 - accuracy: 0.9086 - val_loss: 0.2952 - val_accuracy: 0.9000\n",
            "              precision    recall  f1-score   support\n",
            "\n",
            "    Abnormal       0.98      0.88      0.93        64\n",
            "      Normal       0.76      0.96      0.85        26\n",
            "\n",
            "    accuracy                           0.90        90\n",
            "   macro avg       0.87      0.92      0.89        90\n",
            "weighted avg       0.92      0.90      0.90        90\n",
            "\n",
            "Fold #3\n",
            "Epoch 1/30\n",
            "361/361 [==============================] - 131s 362ms/step - loss: 0.2415 - accuracy: 0.9141 - val_loss: 0.2723 - val_accuracy: 0.9000\n",
            "Epoch 2/30\n",
            "361/361 [==============================] - 245s 679ms/step - loss: 0.2331 - accuracy: 0.9169 - val_loss: 0.2689 - val_accuracy: 0.9222\n",
            "Epoch 3/30\n",
            "361/361 [==============================] - 235s 652ms/step - loss: 0.2221 - accuracy: 0.9307 - val_loss: 0.2804 - val_accuracy: 0.9111\n",
            "Epoch 4/30\n",
            "361/361 [==============================] - 227s 628ms/step - loss: 0.2247 - accuracy: 0.9307 - val_loss: 0.2664 - val_accuracy: 0.9000\n",
            "Epoch 5/30\n",
            "361/361 [==============================] - 228s 632ms/step - loss: 0.2300 - accuracy: 0.9169 - val_loss: 0.2616 - val_accuracy: 0.9000\n",
            "              precision    recall  f1-score   support\n",
            "\n",
            "    Abnormal       0.93      0.91      0.92        57\n",
            "      Normal       0.85      0.88      0.87        33\n",
            "\n",
            "    accuracy                           0.90        90\n",
            "   macro avg       0.89      0.90      0.89        90\n",
            "weighted avg       0.90      0.90      0.90        90\n",
            "\n",
            "Fold #4\n",
            "Epoch 1/30\n",
            "361/361 [==============================] - 141s 391ms/step - loss: 0.2185 - accuracy: 0.9418 - val_loss: 0.1853 - val_accuracy: 0.9444\n",
            "Epoch 2/30\n",
            "361/361 [==============================] - 260s 720ms/step - loss: 0.2257 - accuracy: 0.9114 - val_loss: 0.1807 - val_accuracy: 0.9556\n",
            "Epoch 3/30\n",
            "361/361 [==============================] - 355s 982ms/step - loss: 0.2223 - accuracy: 0.9252 - val_loss: 0.1801 - val_accuracy: 0.9444\n",
            "Epoch 4/30\n",
            "361/361 [==============================] - 383s 1s/step - loss: 0.2089 - accuracy: 0.9363 - val_loss: 0.1818 - val_accuracy: 0.9556\n",
            "Epoch 5/30\n",
            "361/361 [==============================] - 316s 874ms/step - loss: 0.2160 - accuracy: 0.9169 - val_loss: 0.1751 - val_accuracy: 0.9556\n",
            "              precision    recall  f1-score   support\n",
            "\n",
            "    Abnormal       0.98      0.95      0.97        59\n",
            "      Normal       0.91      0.97      0.94        31\n",
            "\n",
            "    accuracy                           0.96        90\n",
            "   macro avg       0.95      0.96      0.95        90\n",
            "weighted avg       0.96      0.96      0.96        90\n",
            "\n",
            "Fold #5\n",
            "Epoch 1/30\n",
            "361/361 [==============================] - 111s 306ms/step - loss: 0.2347 - accuracy: 0.9114 - val_loss: 0.1897 - val_accuracy: 0.9222\n",
            "Epoch 2/30\n",
            "361/361 [==============================] - 111s 307ms/step - loss: 0.2131 - accuracy: 0.9197 - val_loss: 0.1923 - val_accuracy: 0.9333\n",
            "Epoch 3/30\n",
            "361/361 [==============================] - 112s 311ms/step - loss: 0.2057 - accuracy: 0.9280 - val_loss: 0.1894 - val_accuracy: 0.9333\n",
            "Epoch 4/30\n",
            "361/361 [==============================] - 124s 343ms/step - loss: 0.1985 - accuracy: 0.9363 - val_loss: 0.1869 - val_accuracy: 0.9333\n",
            "Epoch 5/30\n",
            "361/361 [==============================] - 120s 333ms/step - loss: 0.1806 - accuracy: 0.9584 - val_loss: 0.1782 - val_accuracy: 0.9222\n",
            "              precision    recall  f1-score   support\n",
            "\n",
            "    Abnormal       0.98      0.90      0.94        62\n",
            "      Normal       0.82      0.96      0.89        28\n",
            "\n",
            "    accuracy                           0.92        90\n",
            "   macro avg       0.90      0.93      0.91        90\n",
            "weighted avg       0.93      0.92      0.92        90\n",
            "\n"
          ]
        }
      ]
    },
    {
      "cell_type": "code",
      "source": [
        "oos_y41 = np.concatenate(oos_y41)\n",
        "oos_pred41 = np.concatenate(oos_pred41)"
      ],
      "metadata": {
        "id": "v5FDRJS9flkv"
      },
      "execution_count": null,
      "outputs": []
    },
    {
      "cell_type": "code",
      "source": [
        "score = metrics.accuracy_score(oos_y41.argmax(axis=1),\t        #ค่า acc\n",
        "                                             oos_pred41.argmax(axis=1) )\n",
        "print(f\"Fold score (accuracy): {score}\")\n",
        "\n",
        "print(classification_report(oos_y41.argmax(axis=1),\t                #แสดง report ค่า acc, recall, ...\n",
        "                                        oos_pred41.argmax(axis=1),  \n",
        "                                        target_names=le_Dense.classes_))"
      ],
      "metadata": {
        "id": "sCpU9ojhflkw",
        "outputId": "d782422c-349f-4af9-857f-774c099ae196",
        "colab": {
          "base_uri": "https://localhost:8080/"
        }
      },
      "execution_count": null,
      "outputs": [
        {
          "output_type": "stream",
          "name": "stdout",
          "text": [
            "Fold score (accuracy): 0.9046563192904656\n",
            "              precision    recall  f1-score   support\n",
            "\n",
            "    Abnormal       0.97      0.88      0.92       300\n",
            "      Normal       0.80      0.95      0.87       151\n",
            "\n",
            "    accuracy                           0.90       451\n",
            "   macro avg       0.89      0.92      0.90       451\n",
            "weighted avg       0.91      0.90      0.91       451\n",
            "\n"
          ]
        }
      ]
    },
    {
      "cell_type": "markdown",
      "source": [
        "# Sampling Abnormal\n",
        "\n",
        "* 50%ของแถวทั้งหมด --> \n",
        "df = df.sample(frac=0.50)\n",
        "\n",
        "* สุ่มแถวเดิมซ้ำกันได้ -->\n",
        "df = df.sample(n=3,replace=True)"
      ],
      "metadata": {
        "id": "EKG-WH9C1WVd"
      }
    },
    {
      "cell_type": "code",
      "source": [
        "tabnormal= pd.concat([ttuberculosis, tlungcancer])\n",
        "tabnormal = tabnormal.sample(n=150, random_state=40)\n",
        "data_train3 = pd.concat([tnormal, tabnormal])"
      ],
      "metadata": {
        "id": "r6R5PQsZOboU"
      },
      "execution_count": 11,
      "outputs": []
    },
    {
      "cell_type": "markdown",
      "source": [
        "## 1) K-fold  -- DenseNet201\n",
        "\n",
        "### -->ACC = 0.86\n",
        "### -->เวลา 46 นาที\n",
        "\n",
        "*   BS = 8\n",
        "*   activation=\"softmax\"\n",
        "*   learning_rate=0.0001\n",
        "*   epoch 30"
      ],
      "metadata": {
        "id": "7ItG9NzA1WVd"
      }
    },
    {
      "cell_type": "code",
      "source": [
        "train_img_Dense = []\n",
        "for ImageName in tqdm(data_train3['ImageName']):               # รัน ชื่อรูป ในไฟล์ data_test3\n",
        "    image_path = All_3class_dir +'/' + ImageName                   # ดึงรูปในโฟล์เดอร์มาทีละรูป\n",
        "    img = cv2.imread(image_path)                                            # อ่านรูป\n",
        "    img = cv2.resize(img, (224, 224))                                       #ขนาดของ input\n",
        "    train_img_Dense.append(img)\n",
        "\n",
        "data_Dense = np.array(train_img_Dense, dtype=\"float32\") / 255.0"
      ],
      "metadata": {
        "colab": {
          "base_uri": "https://localhost:8080/"
        },
        "outputId": "010c0221-b94d-4efb-d2f3-98b130fda335",
        "id": "tsXPLsCp1WVe"
      },
      "execution_count": null,
      "outputs": [
        {
          "output_type": "stream",
          "name": "stderr",
          "text": [
            "100%|██████████| 301/301 [00:04<00:00, 65.75it/s]\n"
          ]
        }
      ]
    },
    {
      "cell_type": "code",
      "source": [
        "labels_Dense = np.array(data_train3[['NameType']] )        \n",
        "labels_Dense.shape = (len(labels_Dense),) \n",
        "\n",
        "le_Dense = LabelEncoder()                                                                     \n",
        "labels_Dense = le_Dense.fit_transform(labels_Dense)                                         #จะแปลงชื่อ class เป็นตัวเลข 1, 2, 0 \n",
        "\n",
        "labels_Dense = to_categorical(labels_Dense, num_classes=2)                   #shape (180, 3) มีค่าเป็น  [0., 1., 0.]  กับ   [0., 0., 1.] กับ  [1., 0., 0.]"
      ],
      "metadata": {
        "id": "lMcBmrpq1WVe"
      },
      "execution_count": null,
      "outputs": []
    },
    {
      "cell_type": "code",
      "source": [
        "INIT_LR = 1e-1\n",
        "BS = 8\n",
        "EPOCHS = 50\n",
        "\n",
        "aug = ImageDataGenerator(\n",
        "\t\trotation_range=15,\t\t\t\t\t\t#องศาการหมุน\n",
        "\t\twidth_shift_range=0.1,\n",
        "\t\theight_shift_range=0.1,\n",
        "\t\tshear_range=0.15,\n",
        "\t\thorizontal_flip=True,\n",
        "\t\tfill_mode=\"nearest\")\n",
        "\n",
        "callback = tf.keras.callbacks.EarlyStopping(\n",
        "                monitor=\"val_accuracy\",\n",
        "                patience=3,\n",
        "                mode=\"max\" )"
      ],
      "metadata": {
        "id": "Wrm40l9l1WVf"
      },
      "execution_count": null,
      "outputs": []
    },
    {
      "cell_type": "code",
      "source": [
        "base_model_Dense = tf.keras.applications.DenseNet201(input_shape=(224, 224, 3), include_top=False, weights=\"imagenet\")\n",
        "base_model_Dense.trainable=False\n",
        "\n",
        "#Add custom head\n",
        "average_pooling_layer = tf.keras.layers.GlobalAveragePooling2D()(base_model_Dense.output)\n",
        "prediction_layer = tf.keras.layers.Dense(units=2, activation=\"softmax\")(average_pooling_layer)   # unit 3\n",
        "model_Dense = tf.keras.models.Model(inputs=base_model_Dense.input, outputs=prediction_layer)\n",
        "\n",
        "model_Dense.compile(optimizer=tf.keras.optimizers.RMSprop(learning_rate=0.0001), loss=\"binary_crossentropy\", metrics=[\"accuracy\"])"
      ],
      "metadata": {
        "id": "6oNO7iyx1WVf"
      },
      "execution_count": null,
      "outputs": []
    },
    {
      "cell_type": "code",
      "source": [
        "kf_Dense = KFold(5, shuffle=True, random_state=40) \n",
        "\n",
        "oos_y = []\n",
        "oos_pred = []\n",
        "fold = 0\n",
        "\n",
        "for train, test in kf_Dense.split(data_Dense):\n",
        "    fold+=1\n",
        "    print(f\"Fold #{fold}\")\n",
        "        \n",
        "    x_train_Dense = data_Dense[train]\n",
        "    y_train_Dense = labels_Dense[train]\n",
        "    x_test_Dense = data_Dense[test]\n",
        "    y_test_Dense = labels_Dense[test]\n",
        "\n",
        "    H_Dense = model_Dense.fit( x=aug.flow(x_train_Dense, y_train_Dense, batch_size=BS),\n",
        "\t                                            validation_data=(x_test_Dense, y_test_Dense),\n",
        "\t                                            steps_per_epoch=len(x_train_Dense) // BS,\n",
        "\t                                            epochs=30,  callbacks = [callback])\n",
        "    \n",
        "    pred_Dense = model_Dense.predict(x_test_Dense)\n",
        "    \n",
        "    oos_y.append(y_test_Dense)\n",
        "    oos_pred.append(pred_Dense)  \n",
        "    print(classification_report(y_test_Dense.argmax(axis=1),\t                #แสดง report ค่า acc, recall, ...\n",
        "                                        pred_Dense.argmax(axis=1),  \n",
        "                                        target_names=le_Dense.classes_))\n",
        "\n"
      ],
      "metadata": {
        "id": "Kca9oQAz1WVf",
        "outputId": "b9ba63e7-d0ec-498f-99b8-4f658b0a056b",
        "colab": {
          "base_uri": "https://localhost:8080/"
        }
      },
      "execution_count": null,
      "outputs": [
        {
          "output_type": "stream",
          "name": "stdout",
          "text": [
            "Fold #1\n",
            "Epoch 1/30\n",
            "30/30 [==============================] - 80s 2s/step - loss: 0.6565 - accuracy: 0.6917 - val_loss: 0.6818 - val_accuracy: 0.6230\n",
            "Epoch 2/30\n",
            "30/30 [==============================] - 66s 2s/step - loss: 0.6347 - accuracy: 0.6917 - val_loss: 0.6590 - val_accuracy: 0.6557\n",
            "Epoch 3/30\n",
            "30/30 [==============================] - 66s 2s/step - loss: 0.6227 - accuracy: 0.7292 - val_loss: 0.6405 - val_accuracy: 0.7213\n",
            "Epoch 4/30\n",
            "30/30 [==============================] - 66s 2s/step - loss: 0.5922 - accuracy: 0.8083 - val_loss: 0.6263 - val_accuracy: 0.7377\n",
            "Epoch 5/30\n",
            "30/30 [==============================] - 65s 2s/step - loss: 0.5862 - accuracy: 0.7917 - val_loss: 0.6109 - val_accuracy: 0.7541\n",
            "Epoch 6/30\n",
            "30/30 [==============================] - 66s 2s/step - loss: 0.5639 - accuracy: 0.7917 - val_loss: 0.5956 - val_accuracy: 0.7869\n",
            "Epoch 7/30\n",
            "30/30 [==============================] - 66s 2s/step - loss: 0.5381 - accuracy: 0.8667 - val_loss: 0.5836 - val_accuracy: 0.7705\n",
            "Epoch 8/30\n",
            "30/30 [==============================] - 66s 2s/step - loss: 0.5257 - accuracy: 0.8500 - val_loss: 0.5701 - val_accuracy: 0.8033\n",
            "Epoch 9/30\n",
            "30/30 [==============================] - 66s 2s/step - loss: 0.5131 - accuracy: 0.8625 - val_loss: 0.5584 - val_accuracy: 0.7869\n",
            "Epoch 10/30\n",
            "30/30 [==============================] - 66s 2s/step - loss: 0.4993 - accuracy: 0.8875 - val_loss: 0.5496 - val_accuracy: 0.8033\n",
            "Epoch 11/30\n",
            "30/30 [==============================] - 65s 2s/step - loss: 0.4946 - accuracy: 0.8875 - val_loss: 0.5388 - val_accuracy: 0.8033\n",
            "              precision    recall  f1-score   support\n",
            "\n",
            "    Abnormal       0.95      0.62      0.75        29\n",
            "      Normal       0.74      0.97      0.84        32\n",
            "\n",
            "    accuracy                           0.80        61\n",
            "   macro avg       0.84      0.79      0.79        61\n",
            "weighted avg       0.84      0.80      0.80        61\n",
            "\n",
            "Fold #2\n",
            "Epoch 1/30\n",
            "30/30 [==============================] - 65s 2s/step - loss: 0.4916 - accuracy: 0.8498 - val_loss: 0.5124 - val_accuracy: 0.8333\n",
            "Epoch 2/30\n",
            "30/30 [==============================] - 73s 2s/step - loss: 0.4653 - accuracy: 0.8670 - val_loss: 0.5128 - val_accuracy: 0.7833\n",
            "Epoch 3/30\n",
            "30/30 [==============================] - 78s 3s/step - loss: 0.4829 - accuracy: 0.8412 - val_loss: 0.4946 - val_accuracy: 0.8333\n",
            "Epoch 4/30\n",
            "30/30 [==============================] - 76s 3s/step - loss: 0.4545 - accuracy: 0.8884 - val_loss: 0.4861 - val_accuracy: 0.8500\n",
            "Epoch 5/30\n",
            "30/30 [==============================] - 76s 3s/step - loss: 0.4430 - accuracy: 0.8670 - val_loss: 0.4792 - val_accuracy: 0.8333\n",
            "Epoch 6/30\n",
            "30/30 [==============================] - 74s 2s/step - loss: 0.4291 - accuracy: 0.8755 - val_loss: 0.4623 - val_accuracy: 0.8667\n",
            "Epoch 7/30\n",
            "30/30 [==============================] - 74s 3s/step - loss: 0.4358 - accuracy: 0.9013 - val_loss: 0.4690 - val_accuracy: 0.8333\n",
            "Epoch 8/30\n",
            "30/30 [==============================] - 76s 3s/step - loss: 0.4115 - accuracy: 0.9013 - val_loss: 0.4563 - val_accuracy: 0.8500\n",
            "Epoch 9/30\n",
            "30/30 [==============================] - 77s 3s/step - loss: 0.4340 - accuracy: 0.8498 - val_loss: 0.4482 - val_accuracy: 0.8500\n",
            "              precision    recall  f1-score   support\n",
            "\n",
            "    Abnormal       0.96      0.75      0.84        32\n",
            "      Normal       0.77      0.96      0.86        28\n",
            "\n",
            "    accuracy                           0.85        60\n",
            "   macro avg       0.87      0.86      0.85        60\n",
            "weighted avg       0.87      0.85      0.85        60\n",
            "\n",
            "Fold #3\n",
            "Epoch 1/30\n",
            "30/30 [==============================] - 69s 2s/step - loss: 0.4054 - accuracy: 0.8927 - val_loss: 0.3947 - val_accuracy: 0.9000\n",
            "Epoch 2/30\n",
            "30/30 [==============================] - 73s 2s/step - loss: 0.3824 - accuracy: 0.9185 - val_loss: 0.3911 - val_accuracy: 0.9000\n",
            "Epoch 3/30\n",
            "30/30 [==============================] - 72s 2s/step - loss: 0.4106 - accuracy: 0.8498 - val_loss: 0.3815 - val_accuracy: 0.9000\n",
            "Epoch 4/30\n",
            "30/30 [==============================] - 74s 2s/step - loss: 0.4083 - accuracy: 0.8884 - val_loss: 0.3715 - val_accuracy: 0.9500\n",
            "Epoch 5/30\n",
            "30/30 [==============================] - 72s 2s/step - loss: 0.3938 - accuracy: 0.8712 - val_loss: 0.3717 - val_accuracy: 0.9000\n",
            "Epoch 6/30\n",
            "30/30 [==============================] - 73s 2s/step - loss: 0.3824 - accuracy: 0.8927 - val_loss: 0.3623 - val_accuracy: 0.9333\n",
            "Epoch 7/30\n",
            "30/30 [==============================] - 72s 2s/step - loss: 0.3902 - accuracy: 0.8970 - val_loss: 0.3579 - val_accuracy: 0.9333\n",
            "              precision    recall  f1-score   support\n",
            "\n",
            "    Abnormal       1.00      0.87      0.93        30\n",
            "      Normal       0.88      1.00      0.94        30\n",
            "\n",
            "    accuracy                           0.93        60\n",
            "   macro avg       0.94      0.93      0.93        60\n",
            "weighted avg       0.94      0.93      0.93        60\n",
            "\n",
            "Fold #4\n",
            "Epoch 1/30\n",
            "30/30 [==============================] - 63s 2s/step - loss: 0.3493 - accuracy: 0.9099 - val_loss: 0.3895 - val_accuracy: 0.9000\n",
            "Epoch 2/30\n",
            "30/30 [==============================] - 64s 2s/step - loss: 0.3721 - accuracy: 0.8927 - val_loss: 0.3848 - val_accuracy: 0.8500\n",
            "Epoch 3/30\n",
            "30/30 [==============================] - 64s 2s/step - loss: 0.3499 - accuracy: 0.9227 - val_loss: 0.3796 - val_accuracy: 0.8833\n",
            "Epoch 4/30\n",
            "30/30 [==============================] - 65s 2s/step - loss: 0.3351 - accuracy: 0.9167 - val_loss: 0.3749 - val_accuracy: 0.8500\n",
            "              precision    recall  f1-score   support\n",
            "\n",
            "    Abnormal       1.00      0.64      0.78        25\n",
            "      Normal       0.80      1.00      0.89        35\n",
            "\n",
            "    accuracy                           0.85        60\n",
            "   macro avg       0.90      0.82      0.83        60\n",
            "weighted avg       0.88      0.85      0.84        60\n",
            "\n",
            "Fold #5\n",
            "Epoch 1/30\n",
            "30/30 [==============================] - 63s 2s/step - loss: 0.3545 - accuracy: 0.9099 - val_loss: 0.3888 - val_accuracy: 0.8667\n",
            "Epoch 2/30\n",
            "30/30 [==============================] - 63s 2s/step - loss: 0.3334 - accuracy: 0.9099 - val_loss: 0.3819 - val_accuracy: 0.8833\n",
            "Epoch 3/30\n",
            "30/30 [==============================] - 64s 2s/step - loss: 0.3322 - accuracy: 0.9013 - val_loss: 0.3867 - val_accuracy: 0.8667\n",
            "Epoch 4/30\n",
            "30/30 [==============================] - 64s 2s/step - loss: 0.3220 - accuracy: 0.9013 - val_loss: 0.3819 - val_accuracy: 0.8667\n",
            "Epoch 5/30\n",
            "30/30 [==============================] - 64s 2s/step - loss: 0.3294 - accuracy: 0.9013 - val_loss: 0.3929 - val_accuracy: 0.8500\n",
            "              precision    recall  f1-score   support\n",
            "\n",
            "    Abnormal       1.00      0.74      0.85        34\n",
            "      Normal       0.74      1.00      0.85        26\n",
            "\n",
            "    accuracy                           0.85        60\n",
            "   macro avg       0.87      0.87      0.85        60\n",
            "weighted avg       0.89      0.85      0.85        60\n",
            "\n"
          ]
        }
      ]
    },
    {
      "cell_type": "code",
      "source": [
        "oos_y = np.concatenate(oos_y)\n",
        "oos_pred = np.concatenate(oos_pred)"
      ],
      "metadata": {
        "id": "oLf2E58T1WVf"
      },
      "execution_count": null,
      "outputs": []
    },
    {
      "cell_type": "code",
      "source": [
        "score = metrics.accuracy_score(oos_y.argmax(axis=1),\t        #ค่า acc\n",
        "                                             oos_pred.argmax(axis=1) )\n",
        "print(f\"Fold score (accuracy): {score}\")\n",
        "\n",
        "print(classification_report(oos_y.argmax(axis=1),\t                #แสดง report ค่า acc, recall, ...\n",
        "                                        oos_pred.argmax(axis=1),  \n",
        "                                        target_names=le_Dense.classes_))"
      ],
      "metadata": {
        "id": "sr1UqfzQ1WVg",
        "outputId": "a0f0bc27-849e-4ba8-bdba-d5350372e868",
        "colab": {
          "base_uri": "https://localhost:8080/"
        }
      },
      "execution_count": null,
      "outputs": [
        {
          "output_type": "stream",
          "name": "stdout",
          "text": [
            "Fold score (accuracy): 0.8571428571428571\n",
            "              precision    recall  f1-score   support\n",
            "\n",
            "    Abnormal       0.98      0.73      0.84       150\n",
            "      Normal       0.78      0.99      0.87       151\n",
            "\n",
            "    accuracy                           0.86       301\n",
            "   macro avg       0.88      0.86      0.85       301\n",
            "weighted avg       0.88      0.86      0.85       301\n",
            "\n"
          ]
        }
      ]
    },
    {
      "cell_type": "markdown",
      "source": [
        "## 1.2) K-fold  -- DenseNet201\n",
        "\n",
        "### -->ACC = 0.83\n",
        "### -->เวลา 40 นาที\n",
        "\n",
        "*   BS = 8\n",
        "*   activation=\"sigmoid\"\n",
        "*   learning_rate=0.0001\n",
        "*   epoch 30"
      ],
      "metadata": {
        "id": "rEuc_Qwl1WVg"
      }
    },
    {
      "cell_type": "code",
      "source": [
        "train_img_Dense = []\n",
        "for ImageName in tqdm(data_train3['ImageName']):               # รัน ชื่อรูป ในไฟล์ data_test3\n",
        "    image_path = All_3class_dir +'/' + ImageName                   # ดึงรูปในโฟล์เดอร์มาทีละรูป\n",
        "    img = cv2.imread(image_path)                                            # อ่านรูป\n",
        "    img = cv2.resize(img, (224, 224))                                       #ขนาดของ input\n",
        "    train_img_Dense.append(img)\n",
        "\n",
        "data_Dense = np.array(train_img_Dense, dtype=\"float32\") / 255.0"
      ],
      "metadata": {
        "outputId": "2eb5e69e-314d-49e3-c2ac-22e2f236db4f",
        "colab": {
          "base_uri": "https://localhost:8080/"
        },
        "id": "Vn6Nc_1G1WVg"
      },
      "execution_count": null,
      "outputs": [
        {
          "output_type": "stream",
          "name": "stderr",
          "text": [
            "100%|██████████| 301/301 [00:03<00:00, 86.77it/s]\n"
          ]
        }
      ]
    },
    {
      "cell_type": "code",
      "source": [
        "labels_Dense = np.array(data_train3[['NameType']] )        \n",
        "labels_Dense.shape = (len(labels_Dense),) \n",
        "\n",
        "le_Dense = LabelEncoder()                                                                     \n",
        "labels_Dense = le_Dense.fit_transform(labels_Dense)                                         #จะแปลงชื่อ class เป็นตัวเลข 1, 2, 0 \n",
        "\n",
        "labels_Dense = to_categorical(labels_Dense, num_classes=2)                   #shape (180, 3) มีค่าเป็น  [0., 1., 0.]  กับ   [0., 0., 1.] กับ  [1., 0., 0.]"
      ],
      "metadata": {
        "id": "ujyakmLJ1WVg"
      },
      "execution_count": null,
      "outputs": []
    },
    {
      "cell_type": "code",
      "source": [
        "INIT_LR = 1e-1\n",
        "BS = 8\n",
        "EPOCHS = 50\n",
        "\n",
        "aug = ImageDataGenerator(\n",
        "\t\trotation_range=15,\t\t\t\t\t\t#องศาการหมุน\n",
        "\t\twidth_shift_range=0.1,\n",
        "\t\theight_shift_range=0.1,\n",
        "\t\tshear_range=0.15,\n",
        "\t\thorizontal_flip=True,\n",
        "\t\tfill_mode=\"nearest\")\n",
        "\n",
        "callback = tf.keras.callbacks.EarlyStopping(\n",
        "                monitor=\"val_accuracy\",\n",
        "                patience=3,\n",
        "                mode=\"max\" )"
      ],
      "metadata": {
        "id": "xkzND0Th1WVh"
      },
      "execution_count": null,
      "outputs": []
    },
    {
      "cell_type": "code",
      "source": [
        "base_model_Dense = tf.keras.applications.DenseNet201(input_shape=(224, 224, 3), include_top=False, weights=\"imagenet\")\n",
        "base_model_Dense.trainable=False\n",
        "\n",
        "#Add custom head\n",
        "average_pooling_layer = tf.keras.layers.GlobalAveragePooling2D()(base_model_Dense.output)\n",
        "prediction_layer = tf.keras.layers.Dense(units=2, activation=\"sigmoid\")(average_pooling_layer)   # unit 2\n",
        "model_Dense = tf.keras.models.Model(inputs=base_model_Dense.input, outputs=prediction_layer)\n",
        "\n",
        "model_Dense.compile(optimizer=tf.keras.optimizers.RMSprop(learning_rate=0.0001), loss=\"binary_crossentropy\", metrics=[\"accuracy\"])"
      ],
      "metadata": {
        "id": "qVqCkr261WVh"
      },
      "execution_count": null,
      "outputs": []
    },
    {
      "cell_type": "code",
      "source": [
        "kf_Dense = KFold(5, shuffle=True, random_state=40) \n",
        "\n",
        "oos_y = []\n",
        "oos_pred = []\n",
        "fold = 0\n",
        "\n",
        "for train, test in kf_Dense.split(data_Dense):\n",
        "    fold+=1\n",
        "    print(f\"Fold #{fold}\")\n",
        "        \n",
        "    x_train_Dense = data_Dense[train]\n",
        "    y_train_Dense = labels_Dense[train]\n",
        "    x_test_Dense = data_Dense[test]\n",
        "    y_test_Dense = labels_Dense[test]\n",
        "\n",
        "    H_Dense = model_Dense.fit( x=aug.flow(x_train_Dense, y_train_Dense, batch_size=BS),\n",
        "\t                                            validation_data=(x_test_Dense, y_test_Dense),\n",
        "\t                                            steps_per_epoch=len(x_train_Dense) // BS,\n",
        "\t                                            epochs=30,  callbacks = [callback])\n",
        "    \n",
        "    pred_Dense = model_Dense.predict(x_test_Dense)\n",
        "    \n",
        "    oos_y.append(y_test_Dense)\n",
        "    oos_pred.append(pred_Dense)  \n",
        "    print(classification_report(y_test_Dense.argmax(axis=1),\t                #แสดง report ค่า acc, recall, ...\n",
        "                                        pred_Dense.argmax(axis=1),  \n",
        "                                        target_names=le_Dense.classes_))\n",
        "\n",
        "#   score = metrics.accuracy_score(y_test3_Incep.argmax(axis=1),\t        #ค่า acc\n",
        "#                                               pred3_Incep.argmax(axis=1)\n",
        "#    print(f\"Fold score (accuracy): {score}\")\n",
        "\n",
        "#    print(confusion_matrix(testY3_Incep.argmax(axis=1),\t                       #แสดง confusion_matrix\n",
        "#                        pred3_Incep.argmax(axis=1) ) )"
      ],
      "metadata": {
        "id": "X5o12fWq1WVh",
        "outputId": "fa0ce2fd-b572-4ba9-ce29-2144bac5a612",
        "colab": {
          "base_uri": "https://localhost:8080/"
        }
      },
      "execution_count": null,
      "outputs": [
        {
          "output_type": "stream",
          "name": "stdout",
          "text": [
            "Fold #1\n",
            "Epoch 1/30\n",
            "30/30 [==============================] - 80s 2s/step - loss: 0.6827 - accuracy: 0.6000 - val_loss: 0.6627 - val_accuracy: 0.6557\n",
            "Epoch 2/30\n",
            "30/30 [==============================] - 76s 3s/step - loss: 0.6604 - accuracy: 0.6792 - val_loss: 0.6463 - val_accuracy: 0.6721\n",
            "Epoch 3/30\n",
            "30/30 [==============================] - 66s 2s/step - loss: 0.6387 - accuracy: 0.7000 - val_loss: 0.6330 - val_accuracy: 0.6885\n",
            "Epoch 4/30\n",
            "30/30 [==============================] - 65s 2s/step - loss: 0.6238 - accuracy: 0.7750 - val_loss: 0.6183 - val_accuracy: 0.6885\n",
            "Epoch 5/30\n",
            "30/30 [==============================] - 67s 2s/step - loss: 0.6037 - accuracy: 0.7750 - val_loss: 0.6024 - val_accuracy: 0.7049\n",
            "Epoch 6/30\n",
            "30/30 [==============================] - 67s 2s/step - loss: 0.5833 - accuracy: 0.8417 - val_loss: 0.5911 - val_accuracy: 0.7049\n",
            "Epoch 7/30\n",
            "30/30 [==============================] - 66s 2s/step - loss: 0.5719 - accuracy: 0.8208 - val_loss: 0.5747 - val_accuracy: 0.7377\n",
            "Epoch 8/30\n",
            "30/30 [==============================] - 66s 2s/step - loss: 0.5583 - accuracy: 0.8458 - val_loss: 0.5616 - val_accuracy: 0.7705\n",
            "Epoch 9/30\n",
            "30/30 [==============================] - 66s 2s/step - loss: 0.5394 - accuracy: 0.8583 - val_loss: 0.5498 - val_accuracy: 0.7213\n",
            "Epoch 10/30\n",
            "30/30 [==============================] - 66s 2s/step - loss: 0.5174 - accuracy: 0.8750 - val_loss: 0.5418 - val_accuracy: 0.7213\n",
            "Epoch 11/30\n",
            "30/30 [==============================] - 67s 2s/step - loss: 0.5195 - accuracy: 0.8667 - val_loss: 0.5314 - val_accuracy: 0.7377\n",
            "              precision    recall  f1-score   support\n",
            "\n",
            "    Abnormal       0.88      0.52      0.65        29\n",
            "      Normal       0.68      0.94      0.79        32\n",
            "\n",
            "    accuracy                           0.74        61\n",
            "   macro avg       0.78      0.73      0.72        61\n",
            "weighted avg       0.78      0.74      0.72        61\n",
            "\n",
            "Fold #2\n",
            "Epoch 1/30\n",
            "30/30 [==============================] - 65s 2s/step - loss: 0.5077 - accuracy: 0.8541 - val_loss: 0.5102 - val_accuracy: 0.8500\n",
            "Epoch 2/30\n",
            "30/30 [==============================] - 66s 2s/step - loss: 0.4945 - accuracy: 0.8627 - val_loss: 0.4978 - val_accuracy: 0.8500\n",
            "Epoch 3/30\n",
            "30/30 [==============================] - 68s 2s/step - loss: 0.4856 - accuracy: 0.8583 - val_loss: 0.4887 - val_accuracy: 0.8500\n",
            "Epoch 4/30\n",
            "30/30 [==============================] - 67s 2s/step - loss: 0.4740 - accuracy: 0.8670 - val_loss: 0.4825 - val_accuracy: 0.8500\n",
            "              precision    recall  f1-score   support\n",
            "\n",
            "    Abnormal       1.00      0.72      0.84        32\n",
            "      Normal       0.76      1.00      0.86        28\n",
            "\n",
            "    accuracy                           0.85        60\n",
            "   macro avg       0.88      0.86      0.85        60\n",
            "weighted avg       0.89      0.85      0.85        60\n",
            "\n",
            "Fold #3\n",
            "Epoch 1/30\n",
            "30/30 [==============================] - 63s 2s/step - loss: 0.4546 - accuracy: 0.8798 - val_loss: 0.4595 - val_accuracy: 0.8333\n",
            "Epoch 2/30\n",
            "30/30 [==============================] - 66s 2s/step - loss: 0.4520 - accuracy: 0.8755 - val_loss: 0.4414 - val_accuracy: 0.8833\n",
            "Epoch 3/30\n",
            "30/30 [==============================] - 66s 2s/step - loss: 0.4412 - accuracy: 0.8970 - val_loss: 0.4328 - val_accuracy: 0.8833\n",
            "Epoch 4/30\n",
            "30/30 [==============================] - 66s 2s/step - loss: 0.4188 - accuracy: 0.9185 - val_loss: 0.4211 - val_accuracy: 0.9000\n",
            "Epoch 5/30\n",
            "30/30 [==============================] - 66s 2s/step - loss: 0.4290 - accuracy: 0.8755 - val_loss: 0.4162 - val_accuracy: 0.9000\n",
            "Epoch 6/30\n",
            "30/30 [==============================] - 66s 2s/step - loss: 0.4052 - accuracy: 0.8927 - val_loss: 0.4147 - val_accuracy: 0.8833\n",
            "Epoch 7/30\n",
            "30/30 [==============================] - 66s 2s/step - loss: 0.4174 - accuracy: 0.8798 - val_loss: 0.4092 - val_accuracy: 0.8833\n",
            "              precision    recall  f1-score   support\n",
            "\n",
            "    Abnormal       1.00      0.77      0.87        30\n",
            "      Normal       0.81      1.00      0.90        30\n",
            "\n",
            "    accuracy                           0.88        60\n",
            "   macro avg       0.91      0.88      0.88        60\n",
            "weighted avg       0.91      0.88      0.88        60\n",
            "\n",
            "Fold #4\n",
            "Epoch 1/30\n",
            "30/30 [==============================] - 64s 2s/step - loss: 0.4079 - accuracy: 0.8970 - val_loss: 0.4076 - val_accuracy: 0.8500\n",
            "Epoch 2/30\n",
            "30/30 [==============================] - 70s 2s/step - loss: 0.3883 - accuracy: 0.8884 - val_loss: 0.4000 - val_accuracy: 0.8833\n",
            "Epoch 3/30\n",
            "30/30 [==============================] - 70s 2s/step - loss: 0.3859 - accuracy: 0.9056 - val_loss: 0.3943 - val_accuracy: 0.9167\n",
            "Epoch 4/30\n",
            "30/30 [==============================] - 70s 2s/step - loss: 0.3771 - accuracy: 0.9142 - val_loss: 0.3894 - val_accuracy: 0.9000\n",
            "Epoch 5/30\n",
            "30/30 [==============================] - 69s 2s/step - loss: 0.3694 - accuracy: 0.8927 - val_loss: 0.3884 - val_accuracy: 0.8500\n",
            "Epoch 6/30\n",
            "30/30 [==============================] - 70s 2s/step - loss: 0.3781 - accuracy: 0.8927 - val_loss: 0.3812 - val_accuracy: 0.9000\n",
            "              precision    recall  f1-score   support\n",
            "\n",
            "    Abnormal       0.95      0.80      0.87        25\n",
            "      Normal       0.87      0.97      0.92        35\n",
            "\n",
            "    accuracy                           0.90        60\n",
            "   macro avg       0.91      0.89      0.89        60\n",
            "weighted avg       0.91      0.90      0.90        60\n",
            "\n",
            "Fold #5\n",
            "Epoch 1/30\n",
            "30/30 [==============================] - 65s 2s/step - loss: 0.3820 - accuracy: 0.8970 - val_loss: 0.3911 - val_accuracy: 0.8333\n",
            "Epoch 2/30\n",
            "30/30 [==============================] - 63s 2s/step - loss: 0.3632 - accuracy: 0.9013 - val_loss: 0.3935 - val_accuracy: 0.8000\n",
            "Epoch 3/30\n",
            "30/30 [==============================] - 63s 2s/step - loss: 0.3512 - accuracy: 0.9142 - val_loss: 0.3920 - val_accuracy: 0.8000\n",
            "Epoch 4/30\n",
            "30/30 [==============================] - 63s 2s/step - loss: 0.3725 - accuracy: 0.8841 - val_loss: 0.3917 - val_accuracy: 0.8000\n",
            "              precision    recall  f1-score   support\n",
            "\n",
            "    Abnormal       1.00      0.65      0.79        34\n",
            "      Normal       0.68      1.00      0.81        26\n",
            "\n",
            "    accuracy                           0.80        60\n",
            "   macro avg       0.84      0.82      0.80        60\n",
            "weighted avg       0.86      0.80      0.80        60\n",
            "\n"
          ]
        }
      ]
    },
    {
      "cell_type": "code",
      "source": [
        "oos_y = np.concatenate(oos_y)\n",
        "oos_pred = np.concatenate(oos_pred)"
      ],
      "metadata": {
        "id": "47647GjX1WVh"
      },
      "execution_count": null,
      "outputs": []
    },
    {
      "cell_type": "code",
      "source": [
        "score = metrics.accuracy_score(oos_y.argmax(axis=1),\t        #ค่า acc\n",
        "                                             oos_pred.argmax(axis=1) )\n",
        "print(f\"Fold score (accuracy): {score}\")\n",
        "\n",
        "print(classification_report(oos_y.argmax(axis=1),\t                #แสดง report ค่า acc, recall, ...\n",
        "                                        oos_pred.argmax(axis=1),  \n",
        "                                        target_names=le_Dense.classes_))"
      ],
      "metadata": {
        "id": "mg4iOGgk1WVi",
        "outputId": "4074578c-d3e6-4544-cc7b-aa0d420c344a",
        "colab": {
          "base_uri": "https://localhost:8080/"
        }
      },
      "execution_count": null,
      "outputs": [
        {
          "output_type": "stream",
          "name": "stdout",
          "text": [
            "Fold score (accuracy): 0.8338870431893688\n",
            "              precision    recall  f1-score   support\n",
            "\n",
            "    Abnormal       0.97      0.69      0.80       150\n",
            "      Normal       0.76      0.98      0.86       151\n",
            "\n",
            "    accuracy                           0.83       301\n",
            "   macro avg       0.87      0.83      0.83       301\n",
            "weighted avg       0.86      0.83      0.83       301\n",
            "\n"
          ]
        }
      ]
    },
    {
      "cell_type": "code",
      "source": [
        ""
      ],
      "metadata": {
        "id": "VqUPTm-qseh6"
      },
      "execution_count": null,
      "outputs": []
    },
    {
      "cell_type": "markdown",
      "source": [
        "## 2) K-fold  -- DenseNet201\n",
        "\n",
        "### -->ACC = 0.82\n",
        "### -->เวลา 50 นาที\n",
        "\n",
        "*   BS = 16\n",
        "*   activation=\"softmax\"\n",
        "*   learning_rate=0.0001\n",
        "*   epoch 30"
      ],
      "metadata": {
        "id": "cy02DvYu1WVi"
      }
    },
    {
      "cell_type": "code",
      "source": [
        ""
      ],
      "metadata": {
        "id": "ytTcsXj9xGGB"
      },
      "execution_count": null,
      "outputs": []
    },
    {
      "cell_type": "code",
      "source": [
        "train_img_Dense = []\n",
        "for ImageName in tqdm(data_train3['ImageName']):               # รัน ชื่อรูป ในไฟล์ data_test3\n",
        "    image_path = All_3class_dir +'/' + ImageName                   # ดึงรูปในโฟล์เดอร์มาทีละรูป\n",
        "    img = cv2.imread(image_path)                                            # อ่านรูป\n",
        "    img = cv2.resize(img, (224, 224))                                       #ขนาดของ input\n",
        "    train_img_Dense.append(img)\n",
        "\n",
        "data_Dense = np.array(train_img_Dense, dtype=\"float32\") / 255.0"
      ],
      "metadata": {
        "outputId": "53adc65f-6585-4390-fe3a-81bf3dff4242",
        "colab": {
          "base_uri": "https://localhost:8080/"
        },
        "id": "2rqp6t2w1WVi"
      },
      "execution_count": null,
      "outputs": [
        {
          "output_type": "stream",
          "name": "stderr",
          "text": [
            "100%|██████████| 301/301 [00:03<00:00, 88.57it/s]\n"
          ]
        }
      ]
    },
    {
      "cell_type": "code",
      "source": [
        "labels_Dense = np.array(data_train3[['NameType']] )        \n",
        "labels_Dense.shape = (len(labels_Dense),) \n",
        "\n",
        "le_Dense = LabelEncoder()                                                                     \n",
        "labels_Dense = le_Dense.fit_transform(labels_Dense)                                         #จะแปลงชื่อ class เป็นตัวเลข 1, 2, 0 \n",
        "\n",
        "labels_Dense = to_categorical(labels_Dense, num_classes=2)                   #shape (180, 3) มีค่าเป็น  [0., 1., 0.]  กับ   [0., 0., 1.] กับ  [1., 0., 0.]"
      ],
      "metadata": {
        "id": "BijplExo1WVi"
      },
      "execution_count": null,
      "outputs": []
    },
    {
      "cell_type": "code",
      "source": [
        "INIT_LR = 1e-1\n",
        "BS16 = 16\n",
        "EPOCHS = 50\n",
        "\n",
        "aug2 = ImageDataGenerator(\n",
        "\t\trotation_range=15,\t\t\t\t\t\t#องศาการหมุน\n",
        "\t\twidth_shift_range=0.1,\n",
        "\t\theight_shift_range=0.1,\n",
        "\t\tshear_range=0.15,\n",
        "\t\thorizontal_flip=True,\n",
        "\t\tfill_mode=\"nearest\")\n",
        "\n",
        "callback = tf.keras.callbacks.EarlyStopping(\n",
        "                monitor=\"val_accuracy\",\n",
        "                patience=3,\n",
        "                mode=\"max\" )"
      ],
      "metadata": {
        "id": "xptWXZLO1WVj"
      },
      "execution_count": null,
      "outputs": []
    },
    {
      "cell_type": "code",
      "source": [
        "base_model_Dense = tf.keras.applications.DenseNet201(input_shape=(224, 224, 3), include_top=False, weights=\"imagenet\")\n",
        "base_model_Dense.trainable=False\n",
        "\n",
        "#Add custom head\n",
        "average_pooling_layer = tf.keras.layers.GlobalAveragePooling2D()(base_model_Dense.output)\n",
        "prediction_layer = tf.keras.layers.Dense(units=2, activation=\"softmax\")(average_pooling_layer)   # unit 2\n",
        "model_Dense2 = tf.keras.models.Model(inputs=base_model_Dense.input, outputs=prediction_layer)\n",
        "\n",
        "model_Dense2.compile(optimizer=tf.keras.optimizers.RMSprop(learning_rate=0.0001), loss=\"binary_crossentropy\", metrics=[\"accuracy\"])"
      ],
      "metadata": {
        "id": "GoM-tpOX1WVj"
      },
      "execution_count": null,
      "outputs": []
    },
    {
      "cell_type": "code",
      "source": [
        "kf_Dense2 = KFold(5, shuffle=True, random_state=40) \n",
        "\n",
        "oos_y2 = []\n",
        "oos_pred2 = []\n",
        "fold = 0\n",
        "\n",
        "for train, test in kf_Dense2.split(data_Dense):\n",
        "    fold+=1\n",
        "    print(f\"Fold #{fold}\")\n",
        "        \n",
        "    x_train_Dense2 = data_Dense[train]\n",
        "    y_train_Dense2 = labels_Dense[train]\n",
        "    x_test_Dense2 = data_Dense[test]\n",
        "    y_test_Dense2 = labels_Dense[test]\n",
        "\n",
        "    H_Dense2 = model_Dense2.fit( x=aug2.flow(x_train_Dense2, y_train_Dense2, batch_size=BS16),\n",
        "\t                                            validation_data=(x_test_Dense2, y_test_Dense2),\n",
        "\t                                            steps_per_epoch=len(x_train_Dense2) // BS16,\n",
        "\t                                            epochs=30,  callbacks = [callback])\n",
        "    \n",
        "    pred_Dense2 = model_Dense2.predict(x_test_Dense2)\n",
        "    \n",
        "    oos_y2.append(y_test_Dense2)\n",
        "    oos_pred2.append(pred_Dense2)  \n",
        "    print(classification_report(y_test_Dense2.argmax(axis=1),\t                #แสดง report ค่า acc, recall, ...\n",
        "                                        pred_Dense2.argmax(axis=1),  \n",
        "                                        target_names=le_Dense.classes_))\n"
      ],
      "metadata": {
        "id": "hoiTemuY1WVj",
        "outputId": "9d7ac8ab-7e23-4a10-c3e1-08245d896e3e",
        "colab": {
          "base_uri": "https://localhost:8080/"
        }
      },
      "execution_count": null,
      "outputs": [
        {
          "output_type": "stream",
          "name": "stdout",
          "text": [
            "Fold #1\n",
            "Epoch 1/30\n",
            "15/15 [==============================] - 78s 4s/step - loss: 0.7248 - accuracy: 0.5333 - val_loss: 0.7042 - val_accuracy: 0.5410\n",
            "Epoch 2/30\n",
            "15/15 [==============================] - 63s 4s/step - loss: 0.6798 - accuracy: 0.6000 - val_loss: 0.6937 - val_accuracy: 0.5574\n",
            "Epoch 3/30\n",
            "15/15 [==============================] - 63s 4s/step - loss: 0.6741 - accuracy: 0.6333 - val_loss: 0.6841 - val_accuracy: 0.6066\n",
            "Epoch 4/30\n",
            "15/15 [==============================] - 63s 4s/step - loss: 0.6538 - accuracy: 0.6708 - val_loss: 0.6731 - val_accuracy: 0.6557\n",
            "Epoch 5/30\n",
            "15/15 [==============================] - 63s 4s/step - loss: 0.6416 - accuracy: 0.6917 - val_loss: 0.6619 - val_accuracy: 0.6557\n",
            "Epoch 6/30\n",
            "15/15 [==============================] - 63s 4s/step - loss: 0.6246 - accuracy: 0.7583 - val_loss: 0.6508 - val_accuracy: 0.7213\n",
            "Epoch 7/30\n",
            "15/15 [==============================] - 63s 4s/step - loss: 0.6153 - accuracy: 0.8000 - val_loss: 0.6408 - val_accuracy: 0.7377\n",
            "Epoch 8/30\n",
            "15/15 [==============================] - 63s 4s/step - loss: 0.6068 - accuracy: 0.7625 - val_loss: 0.6315 - val_accuracy: 0.7705\n",
            "Epoch 9/30\n",
            "15/15 [==============================] - 63s 4s/step - loss: 0.5974 - accuracy: 0.8083 - val_loss: 0.6236 - val_accuracy: 0.7705\n",
            "Epoch 10/30\n",
            "15/15 [==============================] - 63s 4s/step - loss: 0.5830 - accuracy: 0.7875 - val_loss: 0.6148 - val_accuracy: 0.8033\n",
            "Epoch 11/30\n",
            "15/15 [==============================] - 63s 4s/step - loss: 0.5880 - accuracy: 0.7542 - val_loss: 0.6082 - val_accuracy: 0.7705\n",
            "Epoch 12/30\n",
            "15/15 [==============================] - 63s 4s/step - loss: 0.5663 - accuracy: 0.8125 - val_loss: 0.5992 - val_accuracy: 0.7705\n",
            "Epoch 13/30\n",
            "15/15 [==============================] - 63s 4s/step - loss: 0.5455 - accuracy: 0.8750 - val_loss: 0.5904 - val_accuracy: 0.8197\n",
            "Epoch 14/30\n",
            "15/15 [==============================] - 63s 4s/step - loss: 0.5562 - accuracy: 0.8042 - val_loss: 0.5816 - val_accuracy: 0.8197\n",
            "Epoch 15/30\n",
            "15/15 [==============================] - 63s 4s/step - loss: 0.5402 - accuracy: 0.8417 - val_loss: 0.5735 - val_accuracy: 0.8033\n",
            "Epoch 16/30\n",
            "15/15 [==============================] - 63s 4s/step - loss: 0.5168 - accuracy: 0.8750 - val_loss: 0.5653 - val_accuracy: 0.8033\n",
            "              precision    recall  f1-score   support\n",
            "\n",
            "    Abnormal       0.90      0.66      0.76        29\n",
            "      Normal       0.75      0.94      0.83        32\n",
            "\n",
            "    accuracy                           0.80        61\n",
            "   macro avg       0.83      0.80      0.80        61\n",
            "weighted avg       0.82      0.80      0.80        61\n",
            "\n",
            "Fold #2\n",
            "Epoch 1/30\n",
            "15/15 [==============================] - 60s 4s/step - loss: 0.5278 - accuracy: 0.8356 - val_loss: 0.5506 - val_accuracy: 0.7833\n",
            "Epoch 2/30\n",
            "15/15 [==============================] - 60s 4s/step - loss: 0.5266 - accuracy: 0.8311 - val_loss: 0.5461 - val_accuracy: 0.7833\n",
            "Epoch 3/30\n",
            "15/15 [==============================] - 60s 4s/step - loss: 0.5252 - accuracy: 0.8311 - val_loss: 0.5298 - val_accuracy: 0.8667\n",
            "Epoch 4/30\n",
            "15/15 [==============================] - 60s 4s/step - loss: 0.5111 - accuracy: 0.8578 - val_loss: 0.5289 - val_accuracy: 0.7833\n",
            "Epoch 5/30\n",
            "15/15 [==============================] - 60s 4s/step - loss: 0.5021 - accuracy: 0.8267 - val_loss: 0.5250 - val_accuracy: 0.7833\n",
            "Epoch 6/30\n",
            "15/15 [==============================] - 60s 4s/step - loss: 0.4800 - accuracy: 0.8622 - val_loss: 0.5092 - val_accuracy: 0.8667\n",
            "              precision    recall  f1-score   support\n",
            "\n",
            "    Abnormal       1.00      0.75      0.86        32\n",
            "      Normal       0.78      1.00      0.88        28\n",
            "\n",
            "    accuracy                           0.87        60\n",
            "   macro avg       0.89      0.88      0.87        60\n",
            "weighted avg       0.90      0.87      0.87        60\n",
            "\n",
            "Fold #3\n",
            "Epoch 1/30\n",
            "15/15 [==============================] - 60s 4s/step - loss: 0.4725 - accuracy: 0.8800 - val_loss: 0.5055 - val_accuracy: 0.8333\n",
            "Epoch 2/30\n",
            "15/15 [==============================] - 61s 4s/step - loss: 0.4944 - accuracy: 0.8311 - val_loss: 0.4999 - val_accuracy: 0.8500\n",
            "Epoch 3/30\n",
            "15/15 [==============================] - 60s 4s/step - loss: 0.4724 - accuracy: 0.8933 - val_loss: 0.4939 - val_accuracy: 0.8500\n",
            "Epoch 4/30\n",
            "15/15 [==============================] - 60s 4s/step - loss: 0.4672 - accuracy: 0.8622 - val_loss: 0.4867 - val_accuracy: 0.8500\n",
            "Epoch 5/30\n",
            "15/15 [==============================] - 60s 4s/step - loss: 0.4674 - accuracy: 0.8578 - val_loss: 0.4766 - val_accuracy: 0.8333\n",
            "              precision    recall  f1-score   support\n",
            "\n",
            "    Abnormal       0.92      0.73      0.81        30\n",
            "      Normal       0.78      0.93      0.85        30\n",
            "\n",
            "    accuracy                           0.83        60\n",
            "   macro avg       0.85      0.83      0.83        60\n",
            "weighted avg       0.85      0.83      0.83        60\n",
            "\n",
            "Fold #4\n",
            "Epoch 1/30\n",
            "15/15 [==============================] - 61s 4s/step - loss: 0.4480 - accuracy: 0.8844 - val_loss: 0.4713 - val_accuracy: 0.8667\n",
            "Epoch 2/30\n",
            "15/15 [==============================] - 61s 4s/step - loss: 0.4472 - accuracy: 0.8978 - val_loss: 0.4647 - val_accuracy: 0.8500\n",
            "Epoch 3/30\n",
            "15/15 [==============================] - 61s 4s/step - loss: 0.4480 - accuracy: 0.8578 - val_loss: 0.4624 - val_accuracy: 0.8500\n",
            "Epoch 4/30\n",
            "15/15 [==============================] - 61s 4s/step - loss: 0.4313 - accuracy: 0.8933 - val_loss: 0.4577 - val_accuracy: 0.8333\n",
            "              precision    recall  f1-score   support\n",
            "\n",
            "    Abnormal       0.94      0.64      0.76        25\n",
            "      Normal       0.79      0.97      0.87        35\n",
            "\n",
            "    accuracy                           0.83        60\n",
            "   macro avg       0.87      0.81      0.82        60\n",
            "weighted avg       0.85      0.83      0.83        60\n",
            "\n",
            "Fold #5\n",
            "Epoch 1/30\n",
            "15/15 [==============================] - 61s 4s/step - loss: 0.4419 - accuracy: 0.8711 - val_loss: 0.4904 - val_accuracy: 0.7833\n",
            "Epoch 2/30\n",
            "15/15 [==============================] - 61s 4s/step - loss: 0.4263 - accuracy: 0.8889 - val_loss: 0.4789 - val_accuracy: 0.7833\n",
            "Epoch 3/30\n",
            "15/15 [==============================] - 61s 4s/step - loss: 0.4186 - accuracy: 0.8711 - val_loss: 0.4712 - val_accuracy: 0.8000\n",
            "Epoch 4/30\n",
            "15/15 [==============================] - 61s 4s/step - loss: 0.4159 - accuracy: 0.8844 - val_loss: 0.4806 - val_accuracy: 0.7833\n",
            "Epoch 5/30\n",
            "15/15 [==============================] - 61s 4s/step - loss: 0.3938 - accuracy: 0.9067 - val_loss: 0.4673 - val_accuracy: 0.7833\n",
            "Epoch 6/30\n",
            "15/15 [==============================] - 61s 4s/step - loss: 0.4259 - accuracy: 0.8711 - val_loss: 0.4613 - val_accuracy: 0.8167\n",
            "Epoch 7/30\n",
            "15/15 [==============================] - 61s 4s/step - loss: 0.4085 - accuracy: 0.8844 - val_loss: 0.4610 - val_accuracy: 0.7833\n",
            "Epoch 8/30\n",
            "15/15 [==============================] - 61s 4s/step - loss: 0.3893 - accuracy: 0.8933 - val_loss: 0.4496 - val_accuracy: 0.8500\n",
            "Epoch 9/30\n",
            "15/15 [==============================] - 61s 4s/step - loss: 0.3998 - accuracy: 0.8889 - val_loss: 0.4529 - val_accuracy: 0.8167\n",
            "Epoch 10/30\n",
            "15/15 [==============================] - 61s 4s/step - loss: 0.3841 - accuracy: 0.9244 - val_loss: 0.4611 - val_accuracy: 0.7833\n",
            "Epoch 11/30\n",
            "15/15 [==============================] - 64s 4s/step - loss: 0.3826 - accuracy: 0.8875 - val_loss: 0.4605 - val_accuracy: 0.7833\n",
            "              precision    recall  f1-score   support\n",
            "\n",
            "    Abnormal       1.00      0.62      0.76        34\n",
            "      Normal       0.67      1.00      0.80        26\n",
            "\n",
            "    accuracy                           0.78        60\n",
            "   macro avg       0.83      0.81      0.78        60\n",
            "weighted avg       0.86      0.78      0.78        60\n",
            "\n"
          ]
        }
      ]
    },
    {
      "cell_type": "code",
      "source": [
        "oos_y2 = np.concatenate(oos_y2)\n",
        "oos_pred2 = np.concatenate(oos_pred2)"
      ],
      "metadata": {
        "id": "Dw1wND3C1WVj"
      },
      "execution_count": null,
      "outputs": []
    },
    {
      "cell_type": "code",
      "source": [
        "score = metrics.accuracy_score(oos_y2.argmax(axis=1),\t        #ค่า acc\n",
        "                                             oos_pred2.argmax(axis=1) )\n",
        "print(f\"Fold score (accuracy): {score}\")\n",
        "\n",
        "print(classification_report(oos_y2.argmax(axis=1),\t                #แสดง report ค่า acc, recall, ...\n",
        "                                        oos_pred2.argmax(axis=1),  \n",
        "                                        target_names=le_Dense.classes_))"
      ],
      "metadata": {
        "id": "5mCLXCvS1WVk",
        "outputId": "7ce7ff9f-d657-475d-ab54-d26ad203c2d8",
        "colab": {
          "base_uri": "https://localhost:8080/"
        }
      },
      "execution_count": null,
      "outputs": [
        {
          "output_type": "stream",
          "name": "stdout",
          "text": [
            "Fold score (accuracy): 0.8239202657807309\n",
            "              precision    recall  f1-score   support\n",
            "\n",
            "    Abnormal       0.95      0.68      0.79       150\n",
            "      Normal       0.75      0.97      0.85       151\n",
            "\n",
            "    accuracy                           0.82       301\n",
            "   macro avg       0.85      0.82      0.82       301\n",
            "weighted avg       0.85      0.82      0.82       301\n",
            "\n"
          ]
        }
      ]
    },
    {
      "cell_type": "markdown",
      "source": [
        "## 2.1) K-fold  -- DenseNet201\n",
        "\n",
        "### -->ACC = 0.76\n",
        "### -->เวลา 41 นาที\n",
        "\n",
        "*   BS = 16\n",
        "*   activation=\"sigmoid\"\n",
        "*   learning_rate=0.0001\n",
        "*   epoch 30"
      ],
      "metadata": {
        "id": "YzH8Xu5h1WVk"
      }
    },
    {
      "cell_type": "code",
      "source": [
        "train_img_Dense = []\n",
        "for ImageName in tqdm(data_train3['ImageName']):               # รัน ชื่อรูป ในไฟล์ data_test3\n",
        "    image_path = All_3class_dir +'/' + ImageName                   # ดึงรูปในโฟล์เดอร์มาทีละรูป\n",
        "    img = cv2.imread(image_path)                                            # อ่านรูป\n",
        "    img = cv2.resize(img, (224, 224))                                       #ขนาดของ input\n",
        "    train_img_Dense.append(img)\n",
        "\n",
        "data_Dense = np.array(train_img_Dense, dtype=\"float32\") / 255.0"
      ],
      "metadata": {
        "outputId": "ce83106b-37c8-408a-bb6a-50454486297e",
        "colab": {
          "base_uri": "https://localhost:8080/"
        },
        "id": "x5XTxb3J1WVk"
      },
      "execution_count": 12,
      "outputs": [
        {
          "output_type": "stream",
          "name": "stderr",
          "text": [
            "100%|██████████| 301/301 [01:34<00:00,  3.17it/s]\n"
          ]
        }
      ]
    },
    {
      "cell_type": "code",
      "source": [
        "labels_Dense = np.array(data_train3[['NameType']] )        \n",
        "labels_Dense.shape = (len(labels_Dense),) \n",
        "\n",
        "le_Dense = LabelEncoder()                                                                     \n",
        "labels_Dense = le_Dense.fit_transform(labels_Dense)                                         #จะแปลงชื่อ class เป็นตัวเลข 1, 2, 0 \n",
        "\n",
        "labels_Dense = to_categorical(labels_Dense, num_classes=2)                   #shape (180, 3) มีค่าเป็น  [0., 1., 0.]  กับ   [0., 0., 1.] กับ  [1., 0., 0.]"
      ],
      "metadata": {
        "id": "E0hgiKtc1WVk"
      },
      "execution_count": 13,
      "outputs": []
    },
    {
      "cell_type": "code",
      "source": [
        "INIT_LR = 1e-1\n",
        "BS16 = 16\n",
        "EPOCHS = 50\n",
        "\n",
        "aug21 = ImageDataGenerator(\n",
        "\t\trotation_range=15,\t\t\t\t\t\t#องศาการหมุน\n",
        "\t\twidth_shift_range=0.1,\n",
        "\t\theight_shift_range=0.1,\n",
        "\t\tshear_range=0.15,\n",
        "\t\thorizontal_flip=True,\n",
        "\t\tfill_mode=\"nearest\")\n",
        "\n",
        "callback = tf.keras.callbacks.EarlyStopping(\n",
        "                monitor=\"val_accuracy\",\n",
        "                patience=3,\n",
        "                mode=\"max\" )"
      ],
      "metadata": {
        "id": "qLBMaofk1WVk"
      },
      "execution_count": 14,
      "outputs": []
    },
    {
      "cell_type": "code",
      "source": [
        "base_model_Dense = tf.keras.applications.DenseNet201(input_shape=(224, 224, 3), include_top=False, weights=\"imagenet\")\n",
        "base_model_Dense.trainable=False\n",
        "\n",
        "#Add custom head\n",
        "average_pooling_layer = tf.keras.layers.GlobalAveragePooling2D()(base_model_Dense.output)\n",
        "prediction_layer = tf.keras.layers.Dense(units=2, activation=\"sigmoid\")(average_pooling_layer)   \n",
        "model_Dense21 = tf.keras.models.Model(inputs=base_model_Dense.input, outputs=prediction_layer)\n",
        "\n",
        "model_Dense21.compile(optimizer=tf.keras.optimizers.RMSprop(learning_rate=0.0001), loss=\"binary_crossentropy\", metrics=[\"accuracy\"])"
      ],
      "metadata": {
        "id": "99iZU3H01WVl",
        "outputId": "3c26decc-997e-4bc6-d19e-c1fdf8f3cbe0",
        "colab": {
          "base_uri": "https://localhost:8080/"
        }
      },
      "execution_count": 15,
      "outputs": [
        {
          "output_type": "stream",
          "name": "stdout",
          "text": [
            "Downloading data from https://storage.googleapis.com/tensorflow/keras-applications/densenet/densenet201_weights_tf_dim_ordering_tf_kernels_notop.h5\n",
            "74842112/74836368 [==============================] - 0s 0us/step\n",
            "74850304/74836368 [==============================] - 0s 0us/step\n"
          ]
        }
      ]
    },
    {
      "cell_type": "code",
      "source": [
        "kf_Dense21 = KFold(5, shuffle=True, random_state=40) \n",
        "\n",
        "oos_y21 = []\n",
        "oos_pred21 = []\n",
        "fold = 0\n",
        "\n",
        "for train, test in kf_Dense21.split(data_Dense):\n",
        "    fold+=1\n",
        "    print(f\"Fold #{fold}\")\n",
        "        \n",
        "    x_train_Dense21 = data_Dense[train]\n",
        "    y_train_Dense21 = labels_Dense[train]\n",
        "    x_test_Dense21 = data_Dense[test]\n",
        "    y_test_Dense21 = labels_Dense[test]\n",
        "\n",
        "    H_Dense21 = model_Dense21.fit( x=aug21.flow(x_train_Dense21, y_train_Dense21, batch_size=BS16),\n",
        "\t                                            validation_data=(x_test_Dense21, y_test_Dense21),\n",
        "\t                                            steps_per_epoch=len(x_train_Dense21) // BS16,\n",
        "\t                                            epochs=30,  callbacks = [callback])\n",
        "    \n",
        "    pred_Dense21 = model_Dense21.predict(x_test_Dense21)\n",
        "    \n",
        "    oos_y21.append(y_test_Dense21)\n",
        "    oos_pred21.append(pred_Dense21)  \n",
        "    print(classification_report(y_test_Dense21.argmax(axis=1),\t                #แสดง report ค่า acc, recall, ...\n",
        "                                        pred_Dense21.argmax(axis=1),  \n",
        "                                        target_names=le_Dense.classes_))\n",
        "\n",
        "#   score = metrics.accuracy_score(y_test3_Incep.argmax(axis=1),\t        #ค่า acc\n",
        "#                                               pred3_Incep.argmax(axis=1)\n",
        "#    print(f\"Fold score (accuracy): {score}\")\n",
        "\n",
        "#    print(confusion_matrix(testY3_Incep.argmax(axis=1),\t                       #แสดง confusion_matrix\n",
        "#                        pred3_Incep.argmax(axis=1) ) )"
      ],
      "metadata": {
        "id": "R2vt3du61WVl",
        "outputId": "1ac8aad1-26d8-4127-e112-4f820fd6ddab",
        "colab": {
          "base_uri": "https://localhost:8080/"
        }
      },
      "execution_count": 16,
      "outputs": [
        {
          "output_type": "stream",
          "name": "stdout",
          "text": [
            "Fold #1\n",
            "Epoch 1/30\n",
            "15/15 [==============================] - 83s 5s/step - loss: 0.7444 - accuracy: 0.5083 - val_loss: 0.6973 - val_accuracy: 0.5574\n",
            "Epoch 2/30\n",
            "15/15 [==============================] - 66s 4s/step - loss: 0.7038 - accuracy: 0.5417 - val_loss: 0.6751 - val_accuracy: 0.5574\n",
            "Epoch 3/30\n",
            "15/15 [==============================] - 67s 4s/step - loss: 0.6729 - accuracy: 0.6250 - val_loss: 0.6596 - val_accuracy: 0.6230\n",
            "Epoch 4/30\n",
            "15/15 [==============================] - 67s 5s/step - loss: 0.6621 - accuracy: 0.6417 - val_loss: 0.6467 - val_accuracy: 0.6721\n",
            "Epoch 5/30\n",
            "15/15 [==============================] - 68s 5s/step - loss: 0.6584 - accuracy: 0.6167 - val_loss: 0.6357 - val_accuracy: 0.6721\n",
            "Epoch 6/30\n",
            "15/15 [==============================] - 68s 5s/step - loss: 0.6371 - accuracy: 0.7250 - val_loss: 0.6261 - val_accuracy: 0.6721\n",
            "Epoch 7/30\n",
            "15/15 [==============================] - 67s 4s/step - loss: 0.6246 - accuracy: 0.7375 - val_loss: 0.6138 - val_accuracy: 0.7541\n",
            "Epoch 8/30\n",
            "15/15 [==============================] - 66s 4s/step - loss: 0.5997 - accuracy: 0.7542 - val_loss: 0.6037 - val_accuracy: 0.7541\n",
            "Epoch 9/30\n",
            "15/15 [==============================] - 67s 5s/step - loss: 0.5966 - accuracy: 0.7792 - val_loss: 0.5975 - val_accuracy: 0.7377\n",
            "Epoch 10/30\n",
            "15/15 [==============================] - 67s 4s/step - loss: 0.5721 - accuracy: 0.8292 - val_loss: 0.5898 - val_accuracy: 0.7377\n",
            "              precision    recall  f1-score   support\n",
            "\n",
            "    Abnormal       1.00      0.45      0.62        29\n",
            "      Normal       0.67      1.00      0.80        32\n",
            "\n",
            "    accuracy                           0.74        61\n",
            "   macro avg       0.83      0.72      0.71        61\n",
            "weighted avg       0.83      0.74      0.71        61\n",
            "\n",
            "Fold #2\n",
            "Epoch 1/30\n",
            "15/15 [==============================] - 69s 5s/step - loss: 0.5675 - accuracy: 0.8311 - val_loss: 0.5784 - val_accuracy: 0.7333\n",
            "Epoch 2/30\n",
            "15/15 [==============================] - 74s 5s/step - loss: 0.5734 - accuracy: 0.7822 - val_loss: 0.5660 - val_accuracy: 0.8000\n",
            "Epoch 3/30\n",
            "15/15 [==============================] - 74s 5s/step - loss: 0.5656 - accuracy: 0.8178 - val_loss: 0.5593 - val_accuracy: 0.8000\n",
            "Epoch 4/30\n",
            "15/15 [==============================] - 74s 5s/step - loss: 0.5520 - accuracy: 0.8044 - val_loss: 0.5548 - val_accuracy: 0.8000\n",
            "Epoch 5/30\n",
            "15/15 [==============================] - 75s 5s/step - loss: 0.5405 - accuracy: 0.8356 - val_loss: 0.5661 - val_accuracy: 0.6667\n",
            "              precision    recall  f1-score   support\n",
            "\n",
            "    Abnormal       0.93      0.41      0.57        32\n",
            "      Normal       0.59      0.96      0.73        28\n",
            "\n",
            "    accuracy                           0.67        60\n",
            "   macro avg       0.76      0.69      0.65        60\n",
            "weighted avg       0.77      0.67      0.64        60\n",
            "\n",
            "Fold #3\n",
            "Epoch 1/30\n",
            "15/15 [==============================] - 68s 5s/step - loss: 0.5521 - accuracy: 0.8178 - val_loss: 0.5318 - val_accuracy: 0.7833\n",
            "Epoch 2/30\n",
            "15/15 [==============================] - 71s 5s/step - loss: 0.5282 - accuracy: 0.8444 - val_loss: 0.5272 - val_accuracy: 0.7833\n",
            "Epoch 3/30\n",
            "15/15 [==============================] - 71s 5s/step - loss: 0.5373 - accuracy: 0.8178 - val_loss: 0.5139 - val_accuracy: 0.8167\n",
            "Epoch 4/30\n",
            "15/15 [==============================] - 73s 5s/step - loss: 0.5187 - accuracy: 0.8400 - val_loss: 0.5084 - val_accuracy: 0.8333\n",
            "Epoch 5/30\n",
            "15/15 [==============================] - 74s 5s/step - loss: 0.5244 - accuracy: 0.8356 - val_loss: 0.5097 - val_accuracy: 0.7833\n",
            "Epoch 6/30\n",
            "15/15 [==============================] - 72s 5s/step - loss: 0.4999 - accuracy: 0.8489 - val_loss: 0.4990 - val_accuracy: 0.8333\n",
            "Epoch 7/30\n",
            "15/15 [==============================] - 71s 5s/step - loss: 0.4937 - accuracy: 0.8578 - val_loss: 0.4957 - val_accuracy: 0.8167\n",
            "              precision    recall  f1-score   support\n",
            "\n",
            "    Abnormal       1.00      0.63      0.78        30\n",
            "      Normal       0.73      1.00      0.85        30\n",
            "\n",
            "    accuracy                           0.82        60\n",
            "   macro avg       0.87      0.82      0.81        60\n",
            "weighted avg       0.87      0.82      0.81        60\n",
            "\n",
            "Fold #4\n",
            "Epoch 1/30\n",
            "15/15 [==============================] - 68s 5s/step - loss: 0.4850 - accuracy: 0.8833 - val_loss: 0.4781 - val_accuracy: 0.7833\n",
            "Epoch 2/30\n",
            "15/15 [==============================] - 67s 5s/step - loss: 0.4783 - accuracy: 0.8711 - val_loss: 0.4726 - val_accuracy: 0.8167\n",
            "Epoch 3/30\n",
            "15/15 [==============================] - 67s 5s/step - loss: 0.4750 - accuracy: 0.8578 - val_loss: 0.4675 - val_accuracy: 0.8000\n",
            "Epoch 4/30\n",
            "15/15 [==============================] - 71s 5s/step - loss: 0.4669 - accuracy: 0.8542 - val_loss: 0.4640 - val_accuracy: 0.8000\n",
            "Epoch 5/30\n",
            "15/15 [==============================] - 67s 4s/step - loss: 0.4600 - accuracy: 0.8667 - val_loss: 0.4573 - val_accuracy: 0.8167\n",
            "              precision    recall  f1-score   support\n",
            "\n",
            "    Abnormal       0.89      0.64      0.74        25\n",
            "      Normal       0.79      0.94      0.86        35\n",
            "\n",
            "    accuracy                           0.82        60\n",
            "   macro avg       0.84      0.79      0.80        60\n",
            "weighted avg       0.83      0.82      0.81        60\n",
            "\n",
            "Fold #5\n",
            "Epoch 1/30\n",
            "15/15 [==============================] - 67s 5s/step - loss: 0.4542 - accuracy: 0.8711 - val_loss: 0.4843 - val_accuracy: 0.7667\n",
            "Epoch 2/30\n",
            "15/15 [==============================] - 69s 5s/step - loss: 0.4493 - accuracy: 0.8667 - val_loss: 0.4764 - val_accuracy: 0.7667\n",
            "Epoch 3/30\n",
            "15/15 [==============================] - 82s 6s/step - loss: 0.4463 - accuracy: 0.8756 - val_loss: 0.4793 - val_accuracy: 0.7500\n",
            "Epoch 4/30\n",
            "15/15 [==============================] - 114s 8s/step - loss: 0.4655 - accuracy: 0.8756 - val_loss: 0.4757 - val_accuracy: 0.7500\n",
            "              precision    recall  f1-score   support\n",
            "\n",
            "    Abnormal       1.00      0.56      0.72        34\n",
            "      Normal       0.63      1.00      0.78        26\n",
            "\n",
            "    accuracy                           0.75        60\n",
            "   macro avg       0.82      0.78      0.75        60\n",
            "weighted avg       0.84      0.75      0.74        60\n",
            "\n"
          ]
        }
      ]
    },
    {
      "cell_type": "code",
      "source": [
        "oos_y21 = np.concatenate(oos_y21)\n",
        "oos_pred21 = np.concatenate(oos_pred21)"
      ],
      "metadata": {
        "id": "CdovORu_1WVl"
      },
      "execution_count": 17,
      "outputs": []
    },
    {
      "cell_type": "code",
      "source": [
        "score = metrics.accuracy_score(oos_y21.argmax(axis=1),\t        #ค่า acc\n",
        "                                             oos_pred21.argmax(axis=1) )\n",
        "print(f\"Fold score (accuracy): {score}\")\n",
        "\n",
        "print(classification_report(oos_y21.argmax(axis=1),\t                #แสดง report ค่า acc, recall, ...\n",
        "                                        oos_pred21.argmax(axis=1),  \n",
        "                                        target_names=le_Dense.classes_))"
      ],
      "metadata": {
        "id": "avRLojcb1WVl",
        "outputId": "d5c7fdc9-7c62-4428-efe7-f50cb585ea89",
        "colab": {
          "base_uri": "https://localhost:8080/"
        }
      },
      "execution_count": 18,
      "outputs": [
        {
          "output_type": "stream",
          "name": "stdout",
          "text": [
            "Fold score (accuracy): 0.7574750830564784\n",
            "              precision    recall  f1-score   support\n",
            "\n",
            "    Abnormal       0.96      0.53      0.69       150\n",
            "      Normal       0.68      0.98      0.80       151\n",
            "\n",
            "    accuracy                           0.76       301\n",
            "   macro avg       0.82      0.76      0.74       301\n",
            "weighted avg       0.82      0.76      0.74       301\n",
            "\n"
          ]
        }
      ]
    },
    {
      "cell_type": "code",
      "source": [
        ""
      ],
      "metadata": {
        "id": "Yod6QVL2nLtH"
      },
      "execution_count": null,
      "outputs": []
    },
    {
      "cell_type": "markdown",
      "source": [
        "training"
      ],
      "metadata": {
        "id": "IHKBY01aoQPe"
      }
    },
    {
      "cell_type": "code",
      "source": [
        "(x_train_Dense21, x_test_Dense21, y_train_Dense21, y_test_Dense21 ) = train_test_split(data_Dense, labels_Dense,\n",
        "\t                                                                                                test_size=0.25, random_state=40)"
      ],
      "metadata": {
        "id": "HhPForZ1nLq0"
      },
      "execution_count": 19,
      "outputs": []
    },
    {
      "cell_type": "code",
      "source": [
        "base_model_Dense = tf.keras.applications.DenseNet201(input_shape=(224, 224, 3), include_top=False, weights=\"imagenet\")\n",
        "base_model_Dense.trainable=False\n",
        "\n",
        "#Add custom head\n",
        "average_pooling_layer = tf.keras.layers.GlobalAveragePooling2D()(base_model_Dense.output)\n",
        "prediction_layer = tf.keras.layers.Dense(units=2, activation=\"sigmoid\")(average_pooling_layer)   \n",
        "model_Dense21 = tf.keras.models.Model(inputs=base_model_Dense.input, outputs=prediction_layer)\n",
        "\n",
        "model_Dense21.compile(optimizer=tf.keras.optimizers.RMSprop(learning_rate=0.0001), loss=\"binary_crossentropy\", metrics=[\"accuracy\"])\n",
        "\n",
        "H_Dense21 = model_Dense21.fit( x=aug21.flow(x_train_Dense21, y_train_Dense21, batch_size=BS16),\n",
        "\t                                            validation_data=(x_test_Dense21, y_test_Dense21),\n",
        "\t                                            steps_per_epoch=len(x_train_Dense21) // BS16,\n",
        "\t                                            epochs=30,  callbacks = [callback])\n",
        "    \n",
        "pred_Dense21 = model_Dense21.predict(x_test_Dense21)\n",
        "    \n",
        "print(classification_report(y_test_Dense21.argmax(axis=1),\t                #แสดง report ค่า acc, recall, ...\n",
        "                                        pred_Dense21.argmax(axis=1),  \n",
        "                                        target_names=le_Dense.classes_))"
      ],
      "metadata": {
        "id": "WvTA0JxhnprG",
        "outputId": "245a6332-2bab-42c8-bd4f-ef9f0efcf054",
        "colab": {
          "base_uri": "https://localhost:8080/"
        }
      },
      "execution_count": 21,
      "outputs": [
        {
          "output_type": "stream",
          "name": "stdout",
          "text": [
            "Epoch 1/30\n",
            "14/14 [==============================] - 83s 5s/step - loss: 0.7892 - accuracy: 0.3636 - val_loss: 0.7305 - val_accuracy: 0.4079\n",
            "Epoch 2/30\n",
            "14/14 [==============================] - 70s 5s/step - loss: 0.7597 - accuracy: 0.4019 - val_loss: 0.7133 - val_accuracy: 0.4605\n",
            "Epoch 3/30\n",
            "14/14 [==============================] - 72s 5s/step - loss: 0.7294 - accuracy: 0.4258 - val_loss: 0.7041 - val_accuracy: 0.4868\n",
            "Epoch 4/30\n",
            "14/14 [==============================] - 72s 5s/step - loss: 0.7212 - accuracy: 0.4450 - val_loss: 0.6899 - val_accuracy: 0.5132\n",
            "Epoch 5/30\n",
            "14/14 [==============================] - 71s 5s/step - loss: 0.7187 - accuracy: 0.4880 - val_loss: 0.6780 - val_accuracy: 0.5789\n",
            "Epoch 6/30\n",
            "14/14 [==============================] - 71s 5s/step - loss: 0.6958 - accuracy: 0.5215 - val_loss: 0.6711 - val_accuracy: 0.5921\n",
            "Epoch 7/30\n",
            "14/14 [==============================] - 75s 5s/step - loss: 0.6869 - accuracy: 0.5759 - val_loss: 0.6591 - val_accuracy: 0.6184\n",
            "Epoch 8/30\n",
            "14/14 [==============================] - 71s 5s/step - loss: 0.6754 - accuracy: 0.5981 - val_loss: 0.6438 - val_accuracy: 0.6974\n",
            "Epoch 9/30\n",
            "14/14 [==============================] - 71s 5s/step - loss: 0.6631 - accuracy: 0.6459 - val_loss: 0.6329 - val_accuracy: 0.7368\n",
            "Epoch 10/30\n",
            "14/14 [==============================] - 71s 5s/step - loss: 0.6471 - accuracy: 0.7081 - val_loss: 0.6247 - val_accuracy: 0.7763\n",
            "Epoch 11/30\n",
            "14/14 [==============================] - 71s 5s/step - loss: 0.6424 - accuracy: 0.6842 - val_loss: 0.6169 - val_accuracy: 0.7763\n",
            "Epoch 12/30\n",
            "14/14 [==============================] - 71s 5s/step - loss: 0.6185 - accuracy: 0.7512 - val_loss: 0.6111 - val_accuracy: 0.7500\n",
            "Epoch 13/30\n",
            "14/14 [==============================] - 71s 5s/step - loss: 0.6281 - accuracy: 0.7129 - val_loss: 0.6034 - val_accuracy: 0.7763\n",
            "              precision    recall  f1-score   support\n",
            "\n",
            "    Abnormal       0.73      0.83      0.78        36\n",
            "      Normal       0.83      0.72      0.77        40\n",
            "\n",
            "    accuracy                           0.78        76\n",
            "   macro avg       0.78      0.78      0.78        76\n",
            "weighted avg       0.78      0.78      0.78        76\n",
            "\n"
          ]
        }
      ]
    },
    {
      "cell_type": "code",
      "source": [
        ""
      ],
      "metadata": {
        "id": "TA7d0Y_znpoT"
      },
      "execution_count": null,
      "outputs": []
    },
    {
      "cell_type": "markdown",
      "source": [
        "## 3) K-fold  -- DenseNet201\n",
        "\n",
        "### -->ACC = \n",
        "### -->เวลา  วินาที\n",
        "\n",
        "*   BS = 32\n",
        "*   activation=\"softmax\"\n",
        "*   learning_rate=0.0001\n",
        "*   epoch 30"
      ],
      "metadata": {
        "id": "6ejoDoms1WVm"
      }
    },
    {
      "cell_type": "code",
      "source": [
        "train_img_Dense = []\n",
        "for ImageName in tqdm(data_train3['ImageName']):               # รัน ชื่อรูป ในไฟล์ data_test3\n",
        "    image_path = All_3class_dir +'/' + ImageName                   # ดึงรูปในโฟล์เดอร์มาทีละรูป\n",
        "    img = cv2.imread(image_path)                                            # อ่านรูป\n",
        "    img = cv2.resize(img, (224, 224))                                       #ขนาดของ input\n",
        "    train_img_Dense.append(img)\n",
        "\n",
        "data_Dense = np.array(train_img_Dense, dtype=\"float32\") / 255.0"
      ],
      "metadata": {
        "outputId": "38136d2a-c28d-4c82-b519-c6344ad57f17",
        "colab": {
          "base_uri": "https://localhost:8080/"
        },
        "id": "wt4r-GL61WVm"
      },
      "execution_count": null,
      "outputs": [
        {
          "output_type": "stream",
          "name": "stderr",
          "text": [
            "100%|██████████| 451/451 [00:05<00:00, 83.88it/s] \n"
          ]
        }
      ]
    },
    {
      "cell_type": "code",
      "source": [
        "labels_Dense = np.array(data_train3[['NameType']] )        \n",
        "labels_Dense.shape = (len(labels_Dense),) \n",
        "\n",
        "le_Dense = LabelEncoder()                                                                     \n",
        "labels_Dense = le_Dense.fit_transform(labels_Dense)                                         #จะแปลงชื่อ class เป็นตัวเลข 1, 2, 0 \n",
        "\n",
        "labels_Dense = to_categorical(labels_Dense, num_classes=2)                   #shape (180, 3) มีค่าเป็น  [0., 1., 0.]  กับ   [0., 0., 1.] กับ  [1., 0., 0.]"
      ],
      "metadata": {
        "id": "qbwlGacY1WVm"
      },
      "execution_count": null,
      "outputs": []
    },
    {
      "cell_type": "code",
      "source": [
        "INIT_LR = 1e-1\n",
        "BS32 = 32\n",
        "EPOCHS = 50\n",
        "\n",
        "aug3 = ImageDataGenerator(\n",
        "\t\trotation_range=15,\t\t\t\t\t\t#องศาการหมุน\n",
        "\t\twidth_shift_range=0.1,\n",
        "\t\theight_shift_range=0.1,\n",
        "\t\tshear_range=0.15,\n",
        "\t\thorizontal_flip=True,\n",
        "\t\tfill_mode=\"nearest\")\n",
        "\n",
        "callback = tf.keras.callbacks.EarlyStopping(\n",
        "                monitor=\"val_accuracy\",\n",
        "                patience=3,\n",
        "                mode=\"max\" )"
      ],
      "metadata": {
        "id": "WuA23lAT1WVm"
      },
      "execution_count": null,
      "outputs": []
    },
    {
      "cell_type": "code",
      "source": [
        "base_model_Dense = tf.keras.applications.DenseNet201(input_shape=(224, 224, 3), include_top=False, weights=\"imagenet\")\n",
        "base_model_Dense.trainable=False\n",
        "\n",
        "#Add custom head\n",
        "average_pooling_layer = tf.keras.layers.GlobalAveragePooling2D()(base_model_Dense.output)\n",
        "prediction_layer = tf.keras.layers.Dense(units=2, activation=\"softmax\")(average_pooling_layer)   \n",
        "model_Dense3 = tf.keras.models.Model(inputs=base_model_Dense.input, outputs=prediction_layer)\n",
        "\n",
        "model_Dense3.compile(optimizer=tf.keras.optimizers.RMSprop(learning_rate=0.0001), loss=\"binary_crossentropy\", metrics=[\"accuracy\"])"
      ],
      "metadata": {
        "id": "mAU2nPLF1WVm"
      },
      "execution_count": null,
      "outputs": []
    },
    {
      "cell_type": "code",
      "source": [
        "kf_Dense3 = KFold(5, shuffle=True, random_state=40) \n",
        "\n",
        "oos_y3 = []\n",
        "oos_pred3 = []\n",
        "fold = 0\n",
        "\n",
        "for train, test in kf_Dense3.split(data_Dense):\n",
        "    fold+=1\n",
        "    print(f\"Fold #{fold}\")\n",
        "        \n",
        "    x_train_Dense3 = data_Dense[train]\n",
        "    y_train_Dense3 = labels_Dense[train]\n",
        "    x_test_Dense3 = data_Dense[test]\n",
        "    y_test_Dense3 = labels_Dense[test]\n",
        "\n",
        "    H_Dense3 = model_Dense3.fit( x=aug3.flow(x_train_Dense3, y_train_Dense3, batch_size=BS32),\n",
        "\t                                            validation_data=(x_test_Dense3, y_test_Dense3),\n",
        "\t                                            steps_per_epoch=len(x_train_Dense3) // BS32,\n",
        "\t                                            epochs=30,  callbacks = [callback])\n",
        "    \n",
        "    pred_Dense3 = model_Dense3.predict(x_test_Dense3)\n",
        "    \n",
        "    oos_y3.append(y_test_Dense3)\n",
        "    oos_pred3.append(pred_Dense3)  \n",
        "    print(classification_report(y_test_Dense3.argmax(axis=1),\t                #แสดง report ค่า acc, recall, ...\n",
        "                                        pred_Dense3.argmax(axis=1),  \n",
        "                                        target_names=le_Dense.classes_))\n"
      ],
      "metadata": {
        "id": "E21VhFsk1WVm"
      },
      "execution_count": null,
      "outputs": []
    },
    {
      "cell_type": "code",
      "source": [
        "oos_y3 = np.concatenate(oos_y3)\n",
        "oos_pred3 = np.concatenate(oos_pred3)"
      ],
      "metadata": {
        "id": "JuElfETB1WVn"
      },
      "execution_count": null,
      "outputs": []
    },
    {
      "cell_type": "code",
      "source": [
        "score = metrics.accuracy_score(oos_y3.argmax(axis=1),\t        #ค่า acc\n",
        "                                             oos_pred3.argmax(axis=1) )\n",
        "print(f\"Fold score (accuracy): {score}\")\n",
        "\n",
        "print(classification_report(oos_y3.argmax(axis=1),\t                #แสดง report ค่า acc, recall, ...\n",
        "                                        oos_pred3.argmax(axis=1),  \n",
        "                                        target_names=le_Dense.classes_))"
      ],
      "metadata": {
        "id": "6raGEKff1WVn"
      },
      "execution_count": null,
      "outputs": []
    },
    {
      "cell_type": "markdown",
      "source": [
        "## 3.1) K-fold  -- DenseNet201  \n",
        "\n",
        "### -->ACC = \n",
        "### -->เวลา  วินาที\n",
        "\n",
        "*   BS = 32\n",
        "*   activation=\"sigmoid\"\n",
        "*   learning_rate=0.0001\n",
        "*   epoch 30"
      ],
      "metadata": {
        "id": "tPCHygBN1WVn"
      }
    },
    {
      "cell_type": "code",
      "source": [
        "train_img_Dense = []\n",
        "for ImageName in tqdm(data_train3['ImageName']):               # รัน ชื่อรูป ในไฟล์ data_test3\n",
        "    image_path = All_3class_dir +'/' + ImageName                   # ดึงรูปในโฟล์เดอร์มาทีละรูป\n",
        "    img = cv2.imread(image_path)                                            # อ่านรูป\n",
        "    img = cv2.resize(img, (224, 224))                                       #ขนาดของ input\n",
        "    train_img_Dense.append(img)\n",
        "\n",
        "data_Dense = np.array(train_img_Dense, dtype=\"float32\") / 255.0"
      ],
      "metadata": {
        "outputId": "e3828907-6c3f-4138-b31c-05de9b87138b",
        "colab": {
          "base_uri": "https://localhost:8080/"
        },
        "id": "kpTpygQs1WVn"
      },
      "execution_count": null,
      "outputs": [
        {
          "output_type": "stream",
          "name": "stderr",
          "text": [
            "100%|██████████| 451/451 [00:04<00:00, 93.45it/s] \n"
          ]
        }
      ]
    },
    {
      "cell_type": "code",
      "source": [
        "labels_Dense = np.array(data_train3[['NameType']] )        \n",
        "labels_Dense.shape = (len(labels_Dense),) \n",
        "\n",
        "le_Dense = LabelEncoder()                                                                     \n",
        "labels_Dense = le_Dense.fit_transform(labels_Dense)                                         #จะแปลงชื่อ class เป็นตัวเลข 1, 2, 0 \n",
        "\n",
        "labels_Dense = to_categorical(labels_Dense, num_classes=2)                   #shape (180, 3) มีค่าเป็น  [0., 1., 0.]  กับ   [0., 0., 1.] กับ  [1., 0., 0.]"
      ],
      "metadata": {
        "id": "zM5cjkFu1WVn"
      },
      "execution_count": null,
      "outputs": []
    },
    {
      "cell_type": "code",
      "source": [
        "INIT_LR = 1e-1\n",
        "BS32 = 32\n",
        "EPOCHS = 50\n",
        "\n",
        "aug31 = ImageDataGenerator(\n",
        "\t\trotation_range=15,\t\t\t\t\t\t#องศาการหมุน\n",
        "\t\twidth_shift_range=0.1,\n",
        "\t\theight_shift_range=0.1,\n",
        "\t\tshear_range=0.15,\n",
        "\t\thorizontal_flip=True,\n",
        "\t\tfill_mode=\"nearest\")\n",
        "\n",
        "callback = tf.keras.callbacks.EarlyStopping(\n",
        "                monitor=\"val_accuracy\",\n",
        "                patience=3,\n",
        "                mode=\"max\" )"
      ],
      "metadata": {
        "id": "48OYIkQM1WVo"
      },
      "execution_count": null,
      "outputs": []
    },
    {
      "cell_type": "code",
      "source": [
        "base_model_Dense = tf.keras.applications.DenseNet201(input_shape=(224, 224, 3), include_top=False, weights=\"imagenet\")\n",
        "base_model_Dense.trainable=False\n",
        "\n",
        "#Add custom head\n",
        "average_pooling_layer = tf.keras.layers.GlobalAveragePooling2D()(base_model_Dense.output)\n",
        "prediction_layer = tf.keras.layers.Dense(units=2, activation=\"sigmoid\")(average_pooling_layer)  \n",
        "model_Dense31 = tf.keras.models.Model(inputs=base_model_Dense.input, outputs=prediction_layer)\n",
        "\n",
        "model_Dense31.compile(optimizer=tf.keras.optimizers.RMSprop(learning_rate=0.0001), loss=\"binary_crossentropy\", metrics=[\"accuracy\"])"
      ],
      "metadata": {
        "id": "8BVOyStF1WVo"
      },
      "execution_count": null,
      "outputs": []
    },
    {
      "cell_type": "code",
      "source": [
        "kf_Dense31 = KFold(5, shuffle=True, random_state=40) \n",
        "\n",
        "oos_y31 = []\n",
        "oos_pred31 = []\n",
        "fold = 0\n",
        "\n",
        "for train, test in kf_Dense31.split(data_Dense):\n",
        "    fold+=1\n",
        "    print(f\"Fold #{fold}\")\n",
        "        \n",
        "    x_train_Dense31 = data_Dense[train]\n",
        "    y_train_Dense31 = labels_Dense[train]\n",
        "    x_test_Dense31 = data_Dense[test]\n",
        "    y_test_Dense31 = labels_Dense[test]\n",
        "\n",
        "    H_Dense31 = model_Dense31.fit( x=aug31.flow(x_train_Dense31, y_train_Dense31, batch_size=BS32),\n",
        "\t                                            validation_data=(x_test_Dense31, y_test_Dense31),\n",
        "\t                                            steps_per_epoch=len(x_train_Dense31) // BS32,\n",
        "\t                                            epochs=30,  callbacks = [callback])\n",
        "    \n",
        "    pred_Dense31 = model_Dense31.predict(x_test_Dense31)\n",
        "    \n",
        "    oos_y31.append(y_test_Dense31)\n",
        "    oos_pred31.append(pred_Dense31)  \n",
        "    print(classification_report(y_test_Dense31.argmax(axis=1),\t                #แสดง report ค่า acc, recall, ...\n",
        "                                        pred_Dense31.argmax(axis=1),  \n",
        "                                        target_names=le_Dense.classes_))\n",
        "\n"
      ],
      "metadata": {
        "id": "uXjXlYxZ1WVo"
      },
      "execution_count": null,
      "outputs": []
    },
    {
      "cell_type": "code",
      "source": [
        "oos_y31 = np.concatenate(oos_y31)\n",
        "oos_pred31 = np.concatenate(oos_pred31)"
      ],
      "metadata": {
        "id": "8bOmkuXa1WVo"
      },
      "execution_count": null,
      "outputs": []
    },
    {
      "cell_type": "code",
      "source": [
        "score = metrics.accuracy_score(oos_y31.argmax(axis=1),\t        #ค่า acc\n",
        "                                             oos_pred31.argmax(axis=1) )\n",
        "print(f\"Fold score (accuracy): {score}\")\n",
        "\n",
        "print(classification_report(oos_y31.argmax(axis=1),\t                #แสดง report ค่า acc, recall, ...\n",
        "                                        oos_pred31.argmax(axis=1),  \n",
        "                                        target_names=le_Dense.classes_))"
      ],
      "metadata": {
        "id": "FmUw1Ggl1WVo"
      },
      "execution_count": null,
      "outputs": []
    },
    {
      "cell_type": "markdown",
      "source": [
        "## 4) K-fold  -- DenseNet201 \n",
        "\n",
        "### -->ACC = \n",
        "### -->เวลา  วินาที\n",
        "\n",
        "*   BS = 1\n",
        "*   activation=\"softmax\"\n",
        "*   learning_rate=0.0001\n",
        "*   epoch 30"
      ],
      "metadata": {
        "id": "WJS76Aii1WVo"
      }
    },
    {
      "cell_type": "code",
      "source": [
        "train_img_Dense = []\n",
        "for ImageName in tqdm(data_train3['ImageName']):               # รัน ชื่อรูป ในไฟล์ data_test3\n",
        "    image_path = All_3class_dir +'/' + ImageName                   # ดึงรูปในโฟล์เดอร์มาทีละรูป\n",
        "    img = cv2.imread(image_path)                                            # อ่านรูป\n",
        "    img = cv2.resize(img, (224, 224))                                       #ขนาดของ input\n",
        "    train_img_Dense.append(img)\n",
        "\n",
        "data_Dense = np.array(train_img_Dense, dtype=\"float32\") / 255.0"
      ],
      "metadata": {
        "colab": {
          "base_uri": "https://localhost:8080/"
        },
        "outputId": "3e4b2e17-deeb-4138-f9f0-9e0ba577629e",
        "id": "MDEDvRIW1WVp"
      },
      "execution_count": null,
      "outputs": [
        {
          "output_type": "stream",
          "name": "stderr",
          "text": [
            "100%|██████████| 451/451 [02:08<00:00,  3.51it/s]\n"
          ]
        }
      ]
    },
    {
      "cell_type": "code",
      "source": [
        "labels_Dense = np.array(data_train3[['NameType']] )        \n",
        "labels_Dense.shape = (len(labels_Dense),) \n",
        "\n",
        "le_Dense = LabelEncoder()                                                                     \n",
        "labels_Dense = le_Dense.fit_transform(labels_Dense)                                         #จะแปลงชื่อ class เป็นตัวเลข 1, 2, 0 \n",
        "\n",
        "labels_Dense = to_categorical(labels_Dense, num_classes=2)                   #shape (180, 3) มีค่าเป็น  [0., 1., 0.]  กับ   [0., 0., 1.] กับ  [1., 0., 0.]"
      ],
      "metadata": {
        "id": "OAlZdOdi1WVp"
      },
      "execution_count": null,
      "outputs": []
    },
    {
      "cell_type": "code",
      "source": [
        "INIT_LR = 1e-1\n",
        "BS = 1\n",
        "EPOCHS = 50\n",
        "\n",
        "aug4 = ImageDataGenerator(\n",
        "\t\trotation_range=15,\t\t\t\t\t\t#องศาการหมุน\n",
        "\t\twidth_shift_range=0.1,\n",
        "\t\theight_shift_range=0.1,\n",
        "\t\tshear_range=0.15,\n",
        "\t\thorizontal_flip=True,\n",
        "\t\tfill_mode=\"nearest\")\n",
        "\n",
        "callback = tf.keras.callbacks.EarlyStopping(\n",
        "                monitor=\"val_accuracy\",\n",
        "                patience=3,\n",
        "                mode=\"max\" )"
      ],
      "metadata": {
        "id": "lULQRwnJ1WVq"
      },
      "execution_count": null,
      "outputs": []
    },
    {
      "cell_type": "code",
      "source": [
        "base_model_Dense = tf.keras.applications.DenseNet201(input_shape=(224, 224, 3), include_top=False, weights=\"imagenet\")\n",
        "base_model_Dense.trainable=False\n",
        "\n",
        "#Add custom head\n",
        "average_pooling_layer = tf.keras.layers.GlobalAveragePooling2D()(base_model_Dense.output)\n",
        "prediction_layer = tf.keras.layers.Dense(units=2, activation=\"softmax\")(average_pooling_layer)   \n",
        "model_Dense4 = tf.keras.models.Model(inputs=base_model_Dense.input, outputs=prediction_layer)\n",
        "\n",
        "model_Dense4.compile(optimizer=tf.keras.optimizers.RMSprop(learning_rate=0.0001), loss=\"binary_crossentropy\", metrics=[\"accuracy\"])"
      ],
      "metadata": {
        "colab": {
          "base_uri": "https://localhost:8080/"
        },
        "outputId": "0620566c-521a-445e-8e62-c727a1443fa6",
        "id": "5W0ncpz_1WVq"
      },
      "execution_count": null,
      "outputs": [
        {
          "output_type": "stream",
          "name": "stdout",
          "text": [
            "Downloading data from https://storage.googleapis.com/tensorflow/keras-applications/densenet/densenet201_weights_tf_dim_ordering_tf_kernels_notop.h5\n",
            "74842112/74836368 [==============================] - 1s 0us/step\n",
            "74850304/74836368 [==============================] - 1s 0us/step\n"
          ]
        }
      ]
    },
    {
      "cell_type": "code",
      "source": [
        "kf_Dense4 = KFold(5, shuffle=True, random_state=40) \n",
        "\n",
        "oos_y4 = []\n",
        "oos_pred4 = []\n",
        "fold = 0\n",
        "\n",
        "for train, test in kf_Dense4.split(data_Dense):\n",
        "    fold+=1\n",
        "    print(f\"Fold #{fold}\")\n",
        "        \n",
        "    x_train_Dense4 = data_Dense[train]\n",
        "    y_train_Dense4 = labels_Dense[train]\n",
        "    x_test_Dense4 = data_Dense[test]\n",
        "    y_test_Dense4 = labels_Dense[test]\n",
        "\n",
        "    H_Dense4 = model_Dense4.fit( x=aug4.flow(x_train_Dense4, y_train_Dense4, batch_size=BS),\n",
        "\t                                            validation_data=(x_test_Dense4, y_test_Dense4),\n",
        "\t                                            steps_per_epoch=len(x_train_Dense4) // BS,\n",
        "\t                                            epochs=30,  callbacks = [callback])\n",
        "    \n",
        "    pred_Dense4 = model_Dense4.predict(x_test_Dense4)\n",
        "    \n",
        "    oos_y4.append(y_test_Dense4)\n",
        "    oos_pred4.append(pred_Dense4)  \n",
        "    print(classification_report(y_test_Dense4.argmax(axis=1),\t                #แสดง report ค่า acc, recall, ...\n",
        "                                        pred_Dense4.argmax(axis=1),  \n",
        "                                        target_names=le_Dense.classes_))\n",
        "\n"
      ],
      "metadata": {
        "id": "hzBanaTV1WVr"
      },
      "execution_count": null,
      "outputs": []
    },
    {
      "cell_type": "code",
      "source": [
        "oos_y4 = np.concatenate(oos_y4)\n",
        "oos_pred4 = np.concatenate(oos_pred4)"
      ],
      "metadata": {
        "id": "Emd039lE1WVr"
      },
      "execution_count": null,
      "outputs": []
    },
    {
      "cell_type": "code",
      "source": [
        "score = metrics.accuracy_score(oos_y4.argmax(axis=1),\t        #ค่า acc\n",
        "                                             oos_pred4.argmax(axis=1) )\n",
        "print(f\"Fold score (accuracy): {score}\")\n",
        "\n",
        "print(classification_report(oos_y4.argmax(axis=1),\t                #แสดง report ค่า acc, recall, ...\n",
        "                                        oos_pred4.argmax(axis=1),  \n",
        "                                        target_names=le_Dense.classes_))"
      ],
      "metadata": {
        "id": "9BLk_3941WVr"
      },
      "execution_count": null,
      "outputs": []
    },
    {
      "cell_type": "markdown",
      "source": [
        "## 4.1) K-fold  -- DenseNet201  \n",
        "\n",
        "### -->ACC = \n",
        "### -->เวลา   วินาที \n",
        "\n",
        "*   BS = 1\n",
        "*   activation=\"sigmoid\"\n",
        "*   learning_rate=0.0001\n",
        "*   epoch 30"
      ],
      "metadata": {
        "id": "CaEZdtCd1WVs"
      }
    },
    {
      "cell_type": "code",
      "source": [
        "train_img_Dense = []\n",
        "for ImageName in tqdm(data_train3['ImageName']):               # รัน ชื่อรูป ในไฟล์ data_test3\n",
        "    image_path = All_3class_dir +'/' + ImageName                   # ดึงรูปในโฟล์เดอร์มาทีละรูป\n",
        "    img = cv2.imread(image_path)                                            # อ่านรูป\n",
        "    img = cv2.resize(img, (224, 224))                                       #ขนาดของ input\n",
        "    train_img_Dense.append(img)\n",
        "\n",
        "data_Dense = np.array(train_img_Dense, dtype=\"float32\") / 255.0"
      ],
      "metadata": {
        "colab": {
          "base_uri": "https://localhost:8080/"
        },
        "outputId": "99352f00-f15b-4290-db90-f3190dc8a90c",
        "id": "aCc7QoxE1WVs"
      },
      "execution_count": null,
      "outputs": [
        {
          "output_type": "stream",
          "name": "stderr",
          "text": [
            "100%|██████████| 451/451 [00:04<00:00, 94.46it/s] \n"
          ]
        }
      ]
    },
    {
      "cell_type": "code",
      "source": [
        "labels_Dense = np.array(data_train3[['NameType']] )        \n",
        "labels_Dense.shape = (len(labels_Dense),) \n",
        "\n",
        "le_Dense = LabelEncoder()                                                                     \n",
        "labels_Dense = le_Dense.fit_transform(labels_Dense)                                         #จะแปลงชื่อ class เป็นตัวเลข 1, 2, 0 \n",
        "\n",
        "labels_Dense = to_categorical(labels_Dense, num_classes=2)                   #shape (180, 3) มีค่าเป็น  [0., 1., 0.]  กับ   [0., 0., 1.] กับ  [1., 0., 0.]"
      ],
      "metadata": {
        "id": "_x1YQKgp1WVs"
      },
      "execution_count": null,
      "outputs": []
    },
    {
      "cell_type": "code",
      "source": [
        "INIT_LR = 1e-1\n",
        "BS = 1\n",
        "EPOCHS = 50\n",
        "\n",
        "aug41 = ImageDataGenerator(\n",
        "\t\trotation_range=15,\t\t\t\t\t\t#องศาการหมุน\n",
        "\t\twidth_shift_range=0.1,\n",
        "\t\theight_shift_range=0.1,\n",
        "\t\tshear_range=0.15,\n",
        "\t\thorizontal_flip=True,\n",
        "\t\tfill_mode=\"nearest\")\n",
        "\n",
        "callback = tf.keras.callbacks.EarlyStopping(\n",
        "                monitor=\"val_accuracy\",\n",
        "                patience=3,\n",
        "                mode=\"max\" )"
      ],
      "metadata": {
        "id": "1akDNjHx1WVs"
      },
      "execution_count": null,
      "outputs": []
    },
    {
      "cell_type": "code",
      "source": [
        "base_model_Dense = tf.keras.applications.DenseNet201(input_shape=(224, 224, 3), include_top=False, weights=\"imagenet\")\n",
        "base_model_Dense.trainable=False\n",
        "\n",
        "#Add custom head\n",
        "average_pooling_layer = tf.keras.layers.GlobalAveragePooling2D()(base_model_Dense.output)\n",
        "prediction_layer = tf.keras.layers.Dense(units=2, activation=\"sigmoid\")(average_pooling_layer)   \n",
        "model_Dense41 = tf.keras.models.Model(inputs=base_model_Dense.input, outputs=prediction_layer)\n",
        "\n",
        "model_Dense41.compile(optimizer=tf.keras.optimizers.RMSprop(learning_rate=0.0001), loss=\"binary_crossentropy\", metrics=[\"accuracy\"])"
      ],
      "metadata": {
        "id": "aS6GlQCu1WVt"
      },
      "execution_count": null,
      "outputs": []
    },
    {
      "cell_type": "code",
      "source": [
        "kf_Dense41 = KFold(5, shuffle=True, random_state=40) \n",
        "\n",
        "oos_y41 = []\n",
        "oos_pred41 = []\n",
        "fold = 0\n",
        "\n",
        "for train, test in kf_Dense41.split(data_Dense):\n",
        "    fold+=1\n",
        "    print(f\"Fold #{fold}\")\n",
        "        \n",
        "    x_train_Dense41 = data_Dense[train]\n",
        "    y_train_Dense41 = labels_Dense[train]\n",
        "    x_test_Dense41 = data_Dense[test]\n",
        "    y_test_Dense41 = labels_Dense[test]\n",
        "\n",
        "    H_Dense41 = model_Dense41.fit( x=aug41.flow(x_train_Dense41, y_train_Dense41, batch_size=BS),\n",
        "\t                                            validation_data=(x_test_Dense41, y_test_Dense41),\n",
        "\t                                            steps_per_epoch=len(x_train_Dense41) // BS,\n",
        "\t                                            epochs=30,  callbacks = [callback])\n",
        "    \n",
        "    pred_Dense41 = model_Dense41.predict(x_test_Dense41)\n",
        "    \n",
        "    oos_y41.append(y_test_Dense41)\n",
        "    oos_pred41.append(pred_Dense41)  \n",
        "    print(classification_report(y_test_Dense41.argmax(axis=1),\t                #แสดง report ค่า acc, recall, ...\n",
        "                                        pred_Dense41.argmax(axis=1),  \n",
        "                                        target_names=le_Dense.classes_))\n",
        "\n"
      ],
      "metadata": {
        "id": "lWlUtazy1WVt"
      },
      "execution_count": null,
      "outputs": []
    },
    {
      "cell_type": "code",
      "source": [
        "oos_y41 = np.concatenate(oos_y41)\n",
        "oos_pred41 = np.concatenate(oos_pred41)"
      ],
      "metadata": {
        "id": "vqGvBCCg1WVu"
      },
      "execution_count": null,
      "outputs": []
    },
    {
      "cell_type": "code",
      "source": [
        "score = metrics.accuracy_score(oos_y41.argmax(axis=1),\t        #ค่า acc\n",
        "                                             oos_pred41.argmax(axis=1) )\n",
        "print(f\"Fold score (accuracy): {score}\")\n",
        "\n",
        "print(classification_report(oos_y41.argmax(axis=1),\t                #แสดง report ค่า acc, recall, ...\n",
        "                                        oos_pred41.argmax(axis=1),  \n",
        "                                        target_names=le_Dense.classes_))"
      ],
      "metadata": {
        "id": "5ZLCSZWg1WVu"
      },
      "execution_count": null,
      "outputs": []
    }
  ]
}