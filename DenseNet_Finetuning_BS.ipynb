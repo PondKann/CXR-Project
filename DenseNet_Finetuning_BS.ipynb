{
  "nbformat": 4,
  "nbformat_minor": 0,
  "metadata": {
    "colab": {
      "name": "DenseNet_Finetuning_BS.ipynb",
      "provenance": [],
      "authorship_tag": "ABX9TyMBMhcq9RyLxN3AfTkerE1J",
      "include_colab_link": true
    },
    "kernelspec": {
      "name": "python3",
      "display_name": "Python 3"
    },
    "language_info": {
      "name": "python"
    }
  },
  "cells": [
    {
      "cell_type": "markdown",
      "metadata": {
        "id": "view-in-github",
        "colab_type": "text"
      },
      "source": [
        "<a href=\"https://colab.research.google.com/github/PondKann/CXR-Project/blob/main/DenseNet_Finetuning_BS.ipynb\" target=\"_parent\"><img src=\"https://colab.research.google.com/assets/colab-badge.svg\" alt=\"Open In Colab\"/></a>"
      ]
    },
    {
      "cell_type": "markdown",
      "source": [
        "###### import"
      ],
      "metadata": {
        "id": "Kpnf_sft9x4-"
      }
    },
    {
      "cell_type": "code",
      "metadata": {
        "id": "Psng6eJUdzUG"
      },
      "source": [
        "import os\n",
        "import tensorflow as tf\n",
        "import matplotlib.pyplot as plt\n",
        "%matplotlib inline\n",
        "from tensorflow.keras.preprocessing.image import ImageDataGenerator\n",
        "import cv2\n",
        "import numpy as np\n",
        "import pandas as pd\n",
        "from torchsummary import summary\n",
        "from skimage.io import imread, imsave\n",
        "from tqdm import tqdm\n",
        "\n",
        "from sklearn.model_selection import train_test_split\n",
        "from sklearn.metrics import accuracy_score, confusion_matrix"
      ],
      "execution_count": 1,
      "outputs": []
    },
    {
      "cell_type": "code",
      "source": [
        "# set the matplotlib backend so figures can be saved in the background\n",
        "import matplotlib\n",
        "matplotlib.use(\"Agg\")\n",
        "\n",
        "from sklearn.preprocessing import LabelEncoder\n",
        "from sklearn.metrics import classification_report\n",
        "from tensorflow.keras.optimizers import SGD\n",
        "from tensorflow.keras.utils import to_categorical\n",
        "from imutils import paths\n",
        "import argparse\n",
        "\n",
        "from sklearn.model_selection import KFold\n",
        "from sklearn import metrics\n",
        "from scipy.stats import zscore"
      ],
      "metadata": {
        "id": "6f-PDKiLl2iC"
      },
      "execution_count": 2,
      "outputs": []
    },
    {
      "cell_type": "code",
      "source": [
        "import pickle\n",
        "import joblib"
      ],
      "metadata": {
        "id": "KywT8U_h4Bmb"
      },
      "execution_count": 3,
      "outputs": []
    },
    {
      "cell_type": "markdown",
      "source": [
        "######Load data 1"
      ],
      "metadata": {
        "id": "Z1e52UqdwPp8"
      }
    },
    {
      "cell_type": "code",
      "metadata": {
        "colab": {
          "base_uri": "https://localhost:8080/"
        },
        "id": "DlcukkP7fnhB",
        "outputId": "a2686ec4-3875-410f-9fba-db9009f3f119"
      },
      "source": [
        "from google.colab import drive\n",
        "drive.mount('/content/drive')"
      ],
      "execution_count": null,
      "outputs": [
        {
          "output_type": "stream",
          "name": "stdout",
          "text": [
            "Mounted at /content/drive\n"
          ]
        }
      ]
    },
    {
      "cell_type": "code",
      "metadata": {
        "id": "0w8suy5ofqx_"
      },
      "source": [
        "data_dir = '/content/drive/My Drive/Senior Project/CXR Image3class'"
      ],
      "execution_count": null,
      "outputs": []
    },
    {
      "cell_type": "markdown",
      "source": [
        "train 3 class"
      ],
      "metadata": {
        "id": "xhqPQxA42jeC"
      }
    },
    {
      "cell_type": "code",
      "source": [
        "Normal151_dir = os.path.join(data_dir,'Normal151')\n",
        "TB150_dir = os.path.join(data_dir,'TB150')\n",
        "CA150_dir = os.path.join(data_dir,'CA150')\n",
        "\n",
        "All_3class_dir = os.path.join(data_dir,'All_3class')"
      ],
      "metadata": {
        "id": "-Jrg5mt_RvJT"
      },
      "execution_count": null,
      "outputs": []
    },
    {
      "cell_type": "code",
      "source": [
        ""
      ],
      "metadata": {
        "id": "oYMXSvICALfG"
      },
      "execution_count": null,
      "outputs": []
    },
    {
      "cell_type": "markdown",
      "source": [
        "######Load data 2"
      ],
      "metadata": {
        "id": "udl0zY8hAONG"
      }
    },
    {
      "cell_type": "code",
      "metadata": {
        "colab": {
          "base_uri": "https://localhost:8080/"
        },
        "outputId": "a2686ec4-3875-410f-9fba-db9009f3f119",
        "id": "CZD0IvKyAONH"
      },
      "source": [
        "from google.colab import drive\n",
        "drive.mount('/content/drive')"
      ],
      "execution_count": null,
      "outputs": [
        {
          "output_type": "stream",
          "name": "stdout",
          "text": [
            "Mounted at /content/drive\n"
          ]
        }
      ]
    },
    {
      "cell_type": "code",
      "metadata": {
        "id": "VTByVBBEAONI"
      },
      "source": [
        "data_dir = '/content/drive/My Drive/Senior Project/CXR Image3class'"
      ],
      "execution_count": null,
      "outputs": []
    },
    {
      "cell_type": "markdown",
      "source": [
        "train 3 class"
      ],
      "metadata": {
        "id": "ySK4zn_OAONI"
      }
    },
    {
      "cell_type": "code",
      "source": [
        "Normal151_dir = os.path.join(data_dir,'Normal151')\n",
        "TB150_dir = os.path.join(data_dir,'TB150')\n",
        "CA150_dir = os.path.join(data_dir,'CA150')\n",
        "\n",
        "All_3class_dir = os.path.join(data_dir,'All_3class')"
      ],
      "metadata": {
        "id": "yWVr9yKtAONI"
      },
      "execution_count": null,
      "outputs": []
    },
    {
      "cell_type": "markdown",
      "source": [
        "#### train 3 class  --- สร้างตารางเก็บ ชื่อภาพ และชื่อคลาส\n",
        "ข้อมูลใน All_3class_dir รวมภาพทั้ง 3 คลาส รวม 451 ภาพ TB150, Normal151 และ CA150 (CA คือ lungcancer)"
      ],
      "metadata": {
        "id": "YFVxlpQZf5pU"
      }
    },
    {
      "cell_type": "code",
      "source": [
        "Normal151_dir = os.path.join(data_dir,'Normal151')\n",
        "TB150_dir = os.path.join(data_dir,'TB150')\n",
        "CA150_dir = os.path.join(data_dir,'CA150')\n",
        "\n",
        "All_3class_dir = os.path.join(data_dir,'All_3class')"
      ],
      "metadata": {
        "id": "8BHyN8YKpwx9"
      },
      "execution_count": null,
      "outputs": []
    },
    {
      "cell_type": "code",
      "source": [
        "normal = []\n",
        "for i in range(len(os.listdir(Normal151_dir))):\n",
        "    img = os.listdir(Normal151_dir)[i]\n",
        "    normal.append(img)\n",
        "    \n",
        "tnormal = pd.DataFrame({'ImageName':[normal][0],\n",
        "                                       'NameType': \"Normal\" ,\n",
        "                                       'NumberType': 0                      })"
      ],
      "metadata": {
        "id": "mT0QF8IgrfVm"
      },
      "execution_count": null,
      "outputs": []
    },
    {
      "cell_type": "code",
      "source": [
        "tuberculosis = []\n",
        "for i in range(len(os.listdir(TB150_dir))):\n",
        "    img = os.listdir(TB150_dir)[i]\n",
        "    tuberculosis.append(img)\n",
        "\n",
        "ttuberculosis = pd.DataFrame({'ImageName':[tuberculosis][0],\n",
        "                                       'NameType': \"Tuberculosis\" ,\n",
        "                                       'NumberType': 1                        })"
      ],
      "metadata": {
        "id": "VtNPg0jwf5pW"
      },
      "execution_count": null,
      "outputs": []
    },
    {
      "cell_type": "code",
      "source": [
        "lungcancer = []\n",
        "for i in range(len(os.listdir(CA150_dir))):\n",
        "    img = os.listdir(CA150_dir)[i]\n",
        "    lungcancer.append(img)\n",
        "\n",
        "tlungcancer = pd.DataFrame({'ImageName':[lungcancer][0],\n",
        "                                       'NameType': \"Lungcancer\" ,\n",
        "                                       'NumberType': 2                        })"
      ],
      "metadata": {
        "id": "X5pyCUl5mJGV"
      },
      "execution_count": null,
      "outputs": []
    },
    {
      "cell_type": "code",
      "source": [
        "data_train3 = pd.concat([tnormal, ttuberculosis, tlungcancer])\n",
        "data_train3[-3:]"
      ],
      "metadata": {
        "id": "bgArCw5jnwg2",
        "outputId": "d368305a-ec9d-4e4d-a604-7d8cfbe92806",
        "colab": {
          "base_uri": "https://localhost:8080/"
        }
      },
      "execution_count": null,
      "outputs": [
        {
          "output_type": "execute_result",
          "data": {
            "text/html": [
              "\n",
              "  <div id=\"df-1f99b823-0334-4248-8ea5-198685bf14b5\">\n",
              "    <div class=\"colab-df-container\">\n",
              "      <div>\n",
              "<style scoped>\n",
              "    .dataframe tbody tr th:only-of-type {\n",
              "        vertical-align: middle;\n",
              "    }\n",
              "\n",
              "    .dataframe tbody tr th {\n",
              "        vertical-align: top;\n",
              "    }\n",
              "\n",
              "    .dataframe thead th {\n",
              "        text-align: right;\n",
              "    }\n",
              "</style>\n",
              "<table border=\"1\" class=\"dataframe\">\n",
              "  <thead>\n",
              "    <tr style=\"text-align: right;\">\n",
              "      <th></th>\n",
              "      <th>ImageName</th>\n",
              "      <th>NameType</th>\n",
              "      <th>NumberType</th>\n",
              "    </tr>\n",
              "  </thead>\n",
              "  <tbody>\n",
              "    <tr>\n",
              "      <th>147</th>\n",
              "      <td>ca26.jpg</td>\n",
              "      <td>Lungcancer</td>\n",
              "      <td>2</td>\n",
              "    </tr>\n",
              "    <tr>\n",
              "      <th>148</th>\n",
              "      <td>ca7.jpg</td>\n",
              "      <td>Lungcancer</td>\n",
              "      <td>2</td>\n",
              "    </tr>\n",
              "    <tr>\n",
              "      <th>149</th>\n",
              "      <td>ca8.jpg</td>\n",
              "      <td>Lungcancer</td>\n",
              "      <td>2</td>\n",
              "    </tr>\n",
              "  </tbody>\n",
              "</table>\n",
              "</div>\n",
              "      <button class=\"colab-df-convert\" onclick=\"convertToInteractive('df-1f99b823-0334-4248-8ea5-198685bf14b5')\"\n",
              "              title=\"Convert this dataframe to an interactive table.\"\n",
              "              style=\"display:none;\">\n",
              "        \n",
              "  <svg xmlns=\"http://www.w3.org/2000/svg\" height=\"24px\"viewBox=\"0 0 24 24\"\n",
              "       width=\"24px\">\n",
              "    <path d=\"M0 0h24v24H0V0z\" fill=\"none\"/>\n",
              "    <path d=\"M18.56 5.44l.94 2.06.94-2.06 2.06-.94-2.06-.94-.94-2.06-.94 2.06-2.06.94zm-11 1L8.5 8.5l.94-2.06 2.06-.94-2.06-.94L8.5 2.5l-.94 2.06-2.06.94zm10 10l.94 2.06.94-2.06 2.06-.94-2.06-.94-.94-2.06-.94 2.06-2.06.94z\"/><path d=\"M17.41 7.96l-1.37-1.37c-.4-.4-.92-.59-1.43-.59-.52 0-1.04.2-1.43.59L10.3 9.45l-7.72 7.72c-.78.78-.78 2.05 0 2.83L4 21.41c.39.39.9.59 1.41.59.51 0 1.02-.2 1.41-.59l7.78-7.78 2.81-2.81c.8-.78.8-2.07 0-2.86zM5.41 20L4 18.59l7.72-7.72 1.47 1.35L5.41 20z\"/>\n",
              "  </svg>\n",
              "      </button>\n",
              "      \n",
              "  <style>\n",
              "    .colab-df-container {\n",
              "      display:flex;\n",
              "      flex-wrap:wrap;\n",
              "      gap: 12px;\n",
              "    }\n",
              "\n",
              "    .colab-df-convert {\n",
              "      background-color: #E8F0FE;\n",
              "      border: none;\n",
              "      border-radius: 50%;\n",
              "      cursor: pointer;\n",
              "      display: none;\n",
              "      fill: #1967D2;\n",
              "      height: 32px;\n",
              "      padding: 0 0 0 0;\n",
              "      width: 32px;\n",
              "    }\n",
              "\n",
              "    .colab-df-convert:hover {\n",
              "      background-color: #E2EBFA;\n",
              "      box-shadow: 0px 1px 2px rgba(60, 64, 67, 0.3), 0px 1px 3px 1px rgba(60, 64, 67, 0.15);\n",
              "      fill: #174EA6;\n",
              "    }\n",
              "\n",
              "    [theme=dark] .colab-df-convert {\n",
              "      background-color: #3B4455;\n",
              "      fill: #D2E3FC;\n",
              "    }\n",
              "\n",
              "    [theme=dark] .colab-df-convert:hover {\n",
              "      background-color: #434B5C;\n",
              "      box-shadow: 0px 1px 3px 1px rgba(0, 0, 0, 0.15);\n",
              "      filter: drop-shadow(0px 1px 2px rgba(0, 0, 0, 0.3));\n",
              "      fill: #FFFFFF;\n",
              "    }\n",
              "  </style>\n",
              "\n",
              "      <script>\n",
              "        const buttonEl =\n",
              "          document.querySelector('#df-1f99b823-0334-4248-8ea5-198685bf14b5 button.colab-df-convert');\n",
              "        buttonEl.style.display =\n",
              "          google.colab.kernel.accessAllowed ? 'block' : 'none';\n",
              "\n",
              "        async function convertToInteractive(key) {\n",
              "          const element = document.querySelector('#df-1f99b823-0334-4248-8ea5-198685bf14b5');\n",
              "          const dataTable =\n",
              "            await google.colab.kernel.invokeFunction('convertToInteractive',\n",
              "                                                     [key], {});\n",
              "          if (!dataTable) return;\n",
              "\n",
              "          const docLinkHtml = 'Like what you see? Visit the ' +\n",
              "            '<a target=\"_blank\" href=https://colab.research.google.com/notebooks/data_table.ipynb>data table notebook</a>'\n",
              "            + ' to learn more about interactive tables.';\n",
              "          element.innerHTML = '';\n",
              "          dataTable['output_type'] = 'display_data';\n",
              "          await google.colab.output.renderOutput(dataTable, element);\n",
              "          const docLink = document.createElement('div');\n",
              "          docLink.innerHTML = docLinkHtml;\n",
              "          element.appendChild(docLink);\n",
              "        }\n",
              "      </script>\n",
              "    </div>\n",
              "  </div>\n",
              "  "
            ],
            "text/plain": [
              "    ImageName    NameType  NumberType\n",
              "147  ca26.jpg  Lungcancer           2\n",
              "148   ca7.jpg  Lungcancer           2\n",
              "149   ca8.jpg  Lungcancer           2"
            ]
          },
          "metadata": {},
          "execution_count": 11
        }
      ]
    },
    {
      "cell_type": "markdown",
      "source": [
        "####  test 3 class จากเน็ต"
      ],
      "metadata": {
        "id": "3Fi053VB2o6Y"
      }
    },
    {
      "cell_type": "code",
      "source": [
        "TB700_dir = os.path.join(data_dir,'test_model/Tuberculosis700')\n",
        "Normal94_dir = os.path.join(data_dir,'test_model/NORMAL94')\n",
        "CA150_dir = os.path.join(data_dir,'CA150')                  #อันเดิมที่ใช้เทรน\n",
        "\n",
        "AllTest_2class = os.path.join(data_dir,'test_model/AllTest_2class')"
      ],
      "metadata": {
        "id": "DoGUhtkpCph6"
      },
      "execution_count": null,
      "outputs": []
    },
    {
      "cell_type": "code",
      "source": [
        "#สำหรับ test model\n",
        "normal = []\n",
        "for i in range(len(os.listdir(Normal94_dir))):\n",
        "    img = os.listdir(Normal94_dir)[i]\n",
        "    normal.append(img)\n",
        "    \n",
        "tnormal94 = pd.DataFrame({'ImageName':[normal][0],\n",
        "                                       'NameType': \"Normal\" ,\n",
        "                                       'NumberType': 0                      })"
      ],
      "metadata": {
        "id": "nWuAUibuR4VW"
      },
      "execution_count": null,
      "outputs": []
    },
    {
      "cell_type": "code",
      "source": [
        "#สำหรับ test model\n",
        "tb700 = []\n",
        "for i in range(len(os.listdir(TB700_dir))):\n",
        "    img = os.listdir(TB700_dir)[i]\n",
        "    tb700.append(img)\n",
        "\n",
        "ttb700 = pd.DataFrame({'ImageName':[tb700][0],\n",
        "                                       'NameType': \"Tuberculosis\" ,\n",
        "                                       'NumberType': 1                        })"
      ],
      "metadata": {
        "id": "Bu1n-Ib48qFf"
      },
      "execution_count": null,
      "outputs": []
    },
    {
      "cell_type": "code",
      "source": [
        "#สำหรับ test model ข้อม฿ลเดิม\n",
        "lungcancer = []\n",
        "for i in range(len(os.listdir(CA150_dir))):\n",
        "    img = os.listdir(CA150_dir)[i]\n",
        "    lungcancer.append(img)\n",
        "\n",
        "tlungcancer = pd.DataFrame({'ImageName':[lungcancer][0],\n",
        "                                       'NameType': \"Lungcancer\" ,\n",
        "                                       'NumberType': 2                        })"
      ],
      "metadata": {
        "id": "clUmEvEx2IKk"
      },
      "execution_count": null,
      "outputs": []
    },
    {
      "cell_type": "code",
      "source": [
        "data_test2 = pd.concat([tnormal94[:30], ttb700[:30], tlungcancer[:10]])"
      ],
      "metadata": {
        "id": "kePRXLwU195n"
      },
      "execution_count": null,
      "outputs": []
    },
    {
      "cell_type": "code",
      "source": [
        "test_NorTB = []\n",
        "for ImageName in tqdm(data_test2['ImageName']):               # รัน ชื่อรูป ในไฟล์ data_test2\n",
        "    image_path = AllTest_2class +'/' + ImageName                          # ดึงรูปในโฟล์เดอร์มาทีละรูป\n",
        "    img = cv2.imread(image_path)                                            # อ่านรูป\n",
        "    img = cv2.resize(img, (299, 299))\n",
        "    test_NorTB.append(img)"
      ],
      "metadata": {
        "colab": {
          "base_uri": "https://localhost:8080/"
        },
        "id": "DRlBEE0T14sz",
        "outputId": "d96bdb9f-750b-498a-d55d-986c58ff491d"
      },
      "execution_count": null,
      "outputs": [
        {
          "output_type": "stream",
          "name": "stderr",
          "text": [
            "100%|██████████| 70/70 [00:19<00:00,  3.60it/s]\n"
          ]
        }
      ]
    },
    {
      "cell_type": "code",
      "source": [
        "data_test = np.array(test_NorTB, dtype=\"float32\") / 255.0\n",
        "\n",
        "labels_test = np.array(data_test2[['NameType']] )        \n",
        "labels_test.shape = (len(labels_test),) \n",
        "\n",
        "le3_Incep = LabelEncoder()                                                                     \n",
        "labels_test = le3_Incep.fit_transform(labels_test)                                         #จะแปลงชื่อ class เป็นตัวเลข 1, 2, 0 \n",
        "\n",
        "labels_test = to_categorical(labels_test, num_classes=3)                   #shape (180, 3) มีค่าเป็น  [0., 1., 0.]  กับ   [0., 0., 1.] กับ  [1., 0., 0.]"
      ],
      "metadata": {
        "id": "hlnpYC_S72ee"
      },
      "execution_count": null,
      "outputs": []
    },
    {
      "cell_type": "code",
      "source": [
        ""
      ],
      "metadata": {
        "id": "EjDLK8iNqNiK"
      },
      "execution_count": null,
      "outputs": []
    },
    {
      "cell_type": "markdown",
      "source": [
        "## 1) K-fold  -- DenseNet201\n",
        "\n",
        "### -->ACC = \n",
        "### -->เวลา  วินาที\n",
        "\n",
        "*   BS = 8\n",
        "*   fix weight & bias in layer 0-600\n",
        "*   activation=\"softmax\"\n",
        "*   learning_rate=0.0001\n",
        "*   epoch 30"
      ],
      "metadata": {
        "id": "0L32LTa-AmKM"
      }
    },
    {
      "cell_type": "code",
      "source": [
        "train_img_Dense = []\n",
        "for ImageName in tqdm(data_train3['ImageName']):               # รัน ชื่อรูป ในไฟล์ data_test3\n",
        "    image_path = All_3class_dir +'/' + ImageName                   # ดึงรูปในโฟล์เดอร์มาทีละรูป\n",
        "    img = cv2.imread(image_path)                                            # อ่านรูป\n",
        "    img = cv2.resize(img, (224, 224))                                       #ขนาดของ input\n",
        "    train_img_Dense.append(img)\n",
        "\n",
        "data_Dense = np.array(train_img_Dense, dtype=\"float32\") / 255.0"
      ],
      "metadata": {
        "outputId": "fb172fae-6ef3-40bf-fb94-80f5cff3bf6c",
        "colab": {
          "base_uri": "https://localhost:8080/"
        },
        "id": "jhfvC-NqAmKN"
      },
      "execution_count": null,
      "outputs": [
        {
          "output_type": "stream",
          "name": "stderr",
          "text": [
            "100%|██████████| 451/451 [00:06<00:00, 65.03it/s] \n"
          ]
        }
      ]
    },
    {
      "cell_type": "code",
      "source": [
        "labels_Dense = np.array(data_train3[['NameType']] )        \n",
        "labels_Dense.shape = (len(labels_Dense),) \n",
        "\n",
        "le_Dense = LabelEncoder()                                                                     \n",
        "labels_Dense = le_Dense.fit_transform(labels_Dense)                                         #จะแปลงชื่อ class เป็นตัวเลข 1, 2, 0 \n",
        "\n",
        "labels_Dense = to_categorical(labels_Dense, num_classes=3)                   #shape (180, 3) มีค่าเป็น  [0., 1., 0.]  กับ   [0., 0., 1.] กับ  [1., 0., 0.]"
      ],
      "metadata": {
        "id": "MeaRfwG5A06x"
      },
      "execution_count": null,
      "outputs": []
    },
    {
      "cell_type": "code",
      "source": [
        "INIT_LR = 1e-1\n",
        "BS = 8\n",
        "EPOCHS = 50\n",
        "\n",
        "aug = ImageDataGenerator(\n",
        "\t\trotation_range=15,\t\t\t\t\t\t#องศาการหมุน\n",
        "\t\twidth_shift_range=0.1,\n",
        "\t\theight_shift_range=0.1,\n",
        "\t\tshear_range=0.15,\n",
        "\t\thorizontal_flip=True,\n",
        "\t\tfill_mode=\"nearest\")\n",
        "\n",
        "callback = tf.keras.callbacks.EarlyStopping(\n",
        "                monitor=\"val_accuracy\",\n",
        "                patience=3,\n",
        "                mode=\"max\" )"
      ],
      "metadata": {
        "id": "0wB74-IDAmKO"
      },
      "execution_count": null,
      "outputs": []
    },
    {
      "cell_type": "code",
      "source": [
        "base_model_Dense = tf.keras.applications.DenseNet201(input_shape=(224, 224, 3), include_top=False, weights=\"imagenet\")\n",
        "len(base_model_Dense.layers)"
      ],
      "metadata": {
        "colab": {
          "base_uri": "https://localhost:8080/"
        },
        "id": "pAdf1wmB9Vp6",
        "outputId": "2f63b51b-3be3-42d7-c915-29e7b54f548b"
      },
      "execution_count": 4,
      "outputs": [
        {
          "output_type": "stream",
          "name": "stdout",
          "text": [
            "Downloading data from https://storage.googleapis.com/tensorflow/keras-applications/densenet/densenet201_weights_tf_dim_ordering_tf_kernels_notop.h5\n",
            "74842112/74836368 [==============================] - 2s 0us/step\n",
            "74850304/74836368 [==============================] - 2s 0us/step\n"
          ]
        },
        {
          "output_type": "execute_result",
          "data": {
            "text/plain": [
              "707"
            ]
          },
          "metadata": {},
          "execution_count": 4
        }
      ]
    },
    {
      "cell_type": "code",
      "source": [
        "base_model_Dense.trainable = True\n",
        "for layer in base_model_Dense.layers[:600]:    #fix w & bias in layer 0-600\n",
        "    layer.trainable = False\n",
        "\n",
        "#Add custom head\n",
        "average_pooling_layer = tf.keras.layers.GlobalAveragePooling2D()(base_model_Dense.output)\n",
        "prediction_layer = tf.keras.layers.Dense(units=3, activation=\"softmax\")(average_pooling_layer)   # unit 3\n",
        "model_Dense = tf.keras.models.Model(inputs=base_model_Dense.input, outputs=prediction_layer)\n",
        "\n",
        "model_Dense.compile(optimizer=tf.keras.optimizers.RMSprop(learning_rate=0.0001), loss=\"binary_crossentropy\", metrics=[\"accuracy\"])"
      ],
      "metadata": {
        "id": "0Iuuw2AdBYIj"
      },
      "execution_count": 14,
      "outputs": []
    },
    {
      "cell_type": "code",
      "source": [
        "kf_Dense = KFold(5, shuffle=True, random_state=40) \n",
        "\n",
        "oos_y = []\n",
        "oos_pred = []\n",
        "fold = 0\n",
        "\n",
        "for train, test in kf_Dense.split(data_Dense):\n",
        "    fold+=1\n",
        "    print(f\"Fold #{fold}\")\n",
        "        \n",
        "    x_train_Dense = data_Dense[train]\n",
        "    y_train_Dense = labels_Dense[train]\n",
        "    x_test_Dense = data_Dense[test]\n",
        "    y_test_Dense = labels_Dense[test]\n",
        "\n",
        "    H_Dense = model_Dense.fit( x=aug.flow(x_train_Dense, y_train_Dense, batch_size=BS),\n",
        "\t                                            validation_data=(x_test_Dense, y_test_Dense),\n",
        "\t                                            steps_per_epoch=len(x_train_Dense) // BS,\n",
        "\t                                            epochs=30,  callbacks = [callback])\n",
        "    \n",
        "    pred_Dense = model_Dense.predict(x_test_Dense)\n",
        "    \n",
        "    oos_y.append(y_test_Dense)\n",
        "    oos_pred.append(pred_Dense)  \n",
        "    print(classification_report(y_test_Dense.argmax(axis=1),\t                #แสดง report ค่า acc, recall, ...\n",
        "                                        pred_Dense.argmax(axis=1),  \n",
        "                                        target_names=le_Dense.classes_))\n",
        "\n",
        "#   score = metrics.accuracy_score(y_test3_Incep.argmax(axis=1),\t        #ค่า acc\n",
        "#                                               pred3_Incep.argmax(axis=1)\n",
        "#    print(f\"Fold score (accuracy): {score}\")\n",
        "\n",
        "#    print(confusion_matrix(testY3_Incep.argmax(axis=1),\t                       #แสดง confusion_matrix\n",
        "#                        pred3_Incep.argmax(axis=1) ) )"
      ],
      "metadata": {
        "id": "_3cCPrl0AmKP"
      },
      "execution_count": null,
      "outputs": []
    },
    {
      "cell_type": "code",
      "source": [
        "oos_y = np.concatenate(oos_y)\n",
        "oos_pred = np.concatenate(oos_pred)"
      ],
      "metadata": {
        "id": "sYIcWAzvO8H7"
      },
      "execution_count": null,
      "outputs": []
    },
    {
      "cell_type": "code",
      "source": [
        "score = metrics.accuracy_score(oos_y.argmax(axis=1),\t        #ค่า acc\n",
        "                                             oos_pred.argmax(axis=1) )\n",
        "print(f\"Fold score (accuracy): {score}\")\n",
        "\n",
        "print(classification_report(oos_y.argmax(axis=1),\t                #แสดง report ค่า acc, recall, ...\n",
        "                                        oos_pred.argmax(axis=1),  \n",
        "                                        target_names=le_Dense.classes_))"
      ],
      "metadata": {
        "id": "VwnR1MElO8ID"
      },
      "execution_count": null,
      "outputs": []
    },
    {
      "cell_type": "markdown",
      "source": [
        "## 2) K-fold  -- DenseNet201\n",
        "\n",
        "### -->ACC = \n",
        "### -->เวลา  นาที\n",
        "\n",
        "*   BS = 16\n",
        "*   fix weight & bias in layer 0-600\n",
        "*   activation=\"softmax\"\n",
        "*   learning_rate=0.0001\n",
        "*   epoch 30"
      ],
      "metadata": {
        "id": "qF0ugx9xAK9O"
      }
    },
    {
      "cell_type": "code",
      "source": [
        "train_img_Dense = []\n",
        "for ImageName in tqdm(data_train3['ImageName']):               # รัน ชื่อรูป ในไฟล์ data_test3\n",
        "    image_path = All_3class_dir +'/' + ImageName                   # ดึงรูปในโฟล์เดอร์มาทีละรูป\n",
        "    img = cv2.imread(image_path)                                            # อ่านรูป\n",
        "    img = cv2.resize(img, (224, 224))                                       #ขนาดของ input\n",
        "    train_img_Dense.append(img)\n",
        "\n",
        "data_Dense = np.array(train_img_Dense, dtype=\"float32\") / 255.0"
      ],
      "metadata": {
        "outputId": "5e90f7dd-499b-4918-85cd-0d5573e8c993",
        "colab": {
          "base_uri": "https://localhost:8080/"
        },
        "id": "ZpptkU37AK9P"
      },
      "execution_count": null,
      "outputs": [
        {
          "output_type": "stream",
          "name": "stderr",
          "text": [
            "100%|██████████| 451/451 [00:04<00:00, 92.91it/s] \n"
          ]
        }
      ]
    },
    {
      "cell_type": "code",
      "source": [
        "labels_Dense = np.array(data_train3[['NameType']] )        \n",
        "labels_Dense.shape = (len(labels_Dense),) \n",
        "\n",
        "le_Dense = LabelEncoder()                                                                     \n",
        "labels_Dense = le_Dense.fit_transform(labels_Dense)                                         #จะแปลงชื่อ class เป็นตัวเลข 1, 2, 0 \n",
        "\n",
        "labels_Dense = to_categorical(labels_Dense, num_classes=3)                   #shape (180, 3) มีค่าเป็น  [0., 1., 0.]  กับ   [0., 0., 1.] กับ  [1., 0., 0.]"
      ],
      "metadata": {
        "id": "nLqEKkY1AK9Q"
      },
      "execution_count": null,
      "outputs": []
    },
    {
      "cell_type": "code",
      "source": [
        "INIT_LR = 1e-1\n",
        "BS16 = 16\n",
        "EPOCHS = 50\n",
        "\n",
        "aug2 = ImageDataGenerator(\n",
        "\t\trotation_range=15,\t\t\t\t\t\t#องศาการหมุน\n",
        "\t\twidth_shift_range=0.1,\n",
        "\t\theight_shift_range=0.1,\n",
        "\t\tshear_range=0.15,\n",
        "\t\thorizontal_flip=True,\n",
        "\t\tfill_mode=\"nearest\")\n",
        "\n",
        "callback = tf.keras.callbacks.EarlyStopping(\n",
        "                monitor=\"val_accuracy\",\n",
        "                patience=3,\n",
        "                mode=\"max\" )"
      ],
      "metadata": {
        "id": "hmURgMb5AK9R"
      },
      "execution_count": null,
      "outputs": []
    },
    {
      "cell_type": "code",
      "source": [
        "base_model_Dense = tf.keras.applications.DenseNet201(input_shape=(224, 224, 3), include_top=False, weights=\"imagenet\")\n",
        "len(base_model_Dense.layers)"
      ],
      "metadata": {
        "id": "Iyzn1Ega_j9b"
      },
      "execution_count": null,
      "outputs": []
    },
    {
      "cell_type": "code",
      "source": [
        "base_model_Dense.trainable = True\n",
        "for layer in base_model_Dense.layers[:600]:    #fix w & bias in layer 0-600\n",
        "    layer.trainable = False\n",
        "\n",
        "#Add custom head\n",
        "average_pooling_layer = tf.keras.layers.GlobalAveragePooling2D()(base_model_Dense.output)\n",
        "prediction_layer = tf.keras.layers.Dense(units=3, activation=\"softmax\")(average_pooling_layer)   # unit 3\n",
        "model_Dense2 = tf.keras.models.Model(inputs=base_model_Dense.input, outputs=prediction_layer)\n",
        "\n",
        "model_Dense2.compile(optimizer=tf.keras.optimizers.RMSprop(learning_rate=0.0001), loss=\"binary_crossentropy\", metrics=[\"accuracy\"])"
      ],
      "metadata": {
        "id": "zYyno0jMAK9R"
      },
      "execution_count": null,
      "outputs": []
    },
    {
      "cell_type": "code",
      "source": [
        "kf_Dense2 = KFold(5, shuffle=True, random_state=40) \n",
        "\n",
        "oos_y2 = []\n",
        "oos_pred2 = []\n",
        "fold = 0\n",
        "\n",
        "for train, test in kf_Dense2.split(data_Dense):\n",
        "    fold+=1\n",
        "    print(f\"Fold #{fold}\")\n",
        "        \n",
        "    x_train_Dense2 = data_Dense[train]\n",
        "    y_train_Dense2 = labels_Dense[train]\n",
        "    x_test_Dense2 = data_Dense[test]\n",
        "    y_test_Dense2 = labels_Dense[test]\n",
        "\n",
        "    H_Dense2 = model_Dense2.fit( x=aug2.flow(x_train_Dense2, y_train_Dense2, batch_size=BS16),\n",
        "\t                                            validation_data=(x_test_Dense2, y_test_Dense2),\n",
        "\t                                            steps_per_epoch=len(x_train_Dense2) // BS16,\n",
        "\t                                            epochs=30,  callbacks = [callback])\n",
        "    \n",
        "    pred_Dense2 = model_Dense2.predict(x_test_Dense2)\n",
        "    \n",
        "    oos_y2.append(y_test_Dense2)\n",
        "    oos_pred2.append(pred_Dense2)  \n",
        "    print(classification_report(y_test_Dense2.argmax(axis=1),\t                #แสดง report ค่า acc, recall, ...\n",
        "                                        pred_Dense2.argmax(axis=1),  \n",
        "                                        target_names=le_Dense.classes_))\n",
        "\n",
        "#   score = metrics.accuracy_score(y_test3_Incep.argmax(axis=1),\t        #ค่า acc\n",
        "#                                               pred3_Incep.argmax(axis=1)\n",
        "#    print(f\"Fold score (accuracy): {score}\")\n",
        "\n",
        "#    print(confusion_matrix(testY3_Incep.argmax(axis=1),\t                       #แสดง confusion_matrix\n",
        "#                        pred3_Incep.argmax(axis=1) ) )"
      ],
      "metadata": {
        "id": "bMPj3xMNAK9S"
      },
      "execution_count": null,
      "outputs": []
    },
    {
      "cell_type": "code",
      "source": [
        "oos_y2 = np.concatenate(oos_y2)\n",
        "oos_pred2 = np.concatenate(oos_pred2)"
      ],
      "metadata": {
        "id": "OqOlECxElR2S"
      },
      "execution_count": null,
      "outputs": []
    },
    {
      "cell_type": "code",
      "source": [
        "score = metrics.accuracy_score(oos_y2.argmax(axis=1),\t        #ค่า acc\n",
        "                                             oos_pred2.argmax(axis=1) )\n",
        "print(f\"Fold score (accuracy): {score}\")\n",
        "\n",
        "print(classification_report(oos_y2.argmax(axis=1),\t                #แสดง report ค่า acc, recall, ...\n",
        "                                        oos_pred2.argmax(axis=1),  \n",
        "                                        target_names=le_Dense.classes_))"
      ],
      "metadata": {
        "id": "VPP8SwZvlR2T"
      },
      "execution_count": null,
      "outputs": []
    },
    {
      "cell_type": "markdown",
      "source": [
        "## 3) K-fold  -- DenseNet201\n",
        "\n",
        "### -->ACC = \n",
        "### -->เวลา  วินาที\n",
        "\n",
        "*   BS = 32\n",
        "*   fix weight & bias in layer 0-600\n",
        "*   activation=\"softmax\"\n",
        "*   learning_rate=0.0001\n",
        "*   epoch 30"
      ],
      "metadata": {
        "id": "OjhOFcptA-D_"
      }
    },
    {
      "cell_type": "code",
      "source": [
        "train_img_Dense = []\n",
        "for ImageName in tqdm(data_train3['ImageName']):               # รัน ชื่อรูป ในไฟล์ data_test3\n",
        "    image_path = All_3class_dir +'/' + ImageName                   # ดึงรูปในโฟล์เดอร์มาทีละรูป\n",
        "    img = cv2.imread(image_path)                                            # อ่านรูป\n",
        "    img = cv2.resize(img, (224, 224))                                       #ขนาดของ input\n",
        "    train_img_Dense.append(img)\n",
        "\n",
        "data_Dense = np.array(train_img_Dense, dtype=\"float32\") / 255.0"
      ],
      "metadata": {
        "outputId": "38136d2a-c28d-4c82-b519-c6344ad57f17",
        "colab": {
          "base_uri": "https://localhost:8080/"
        },
        "id": "tqyKOx2_A-EA"
      },
      "execution_count": null,
      "outputs": [
        {
          "output_type": "stream",
          "name": "stderr",
          "text": [
            "100%|██████████| 451/451 [00:05<00:00, 83.88it/s] \n"
          ]
        }
      ]
    },
    {
      "cell_type": "code",
      "source": [
        "labels_Dense = np.array(data_train3[['NameType']] )        \n",
        "labels_Dense.shape = (len(labels_Dense),) \n",
        "\n",
        "le_Dense = LabelEncoder()                                                                     \n",
        "labels_Dense = le_Dense.fit_transform(labels_Dense)                                         #จะแปลงชื่อ class เป็นตัวเลข 1, 2, 0 \n",
        "\n",
        "labels_Dense = to_categorical(labels_Dense, num_classes=3)                   #shape (180, 3) มีค่าเป็น  [0., 1., 0.]  กับ   [0., 0., 1.] กับ  [1., 0., 0.]"
      ],
      "metadata": {
        "id": "98xhFliPA-EB"
      },
      "execution_count": null,
      "outputs": []
    },
    {
      "cell_type": "code",
      "source": [
        "INIT_LR = 1e-1\n",
        "BS32 = 32\n",
        "EPOCHS = 50\n",
        "\n",
        "aug3 = ImageDataGenerator(\n",
        "\t\trotation_range=15,\t\t\t\t\t\t#องศาการหมุน\n",
        "\t\twidth_shift_range=0.1,\n",
        "\t\theight_shift_range=0.1,\n",
        "\t\tshear_range=0.15,\n",
        "\t\thorizontal_flip=True,\n",
        "\t\tfill_mode=\"nearest\")\n",
        "\n",
        "callback = tf.keras.callbacks.EarlyStopping(\n",
        "                monitor=\"val_accuracy\",\n",
        "                patience=3,\n",
        "                mode=\"max\" )"
      ],
      "metadata": {
        "id": "Z9cNLqf9A-EC"
      },
      "execution_count": null,
      "outputs": []
    },
    {
      "cell_type": "code",
      "source": [
        "base_model_Dense = tf.keras.applications.DenseNet201(input_shape=(224, 224, 3), include_top=False, weights=\"imagenet\")\n",
        "len(base_model_Dense.layers)"
      ],
      "metadata": {
        "id": "-h12Cbo9_9v8"
      },
      "execution_count": null,
      "outputs": []
    },
    {
      "cell_type": "code",
      "source": [
        "base_model_Dense.trainable = True\n",
        "for layer in base_model_Dense.layers[:600]:    #fix w & bias in layer 0-600\n",
        "    layer.trainable = False\n",
        "\n",
        "#Add custom head\n",
        "average_pooling_layer = tf.keras.layers.GlobalAveragePooling2D()(base_model_Dense.output)\n",
        "prediction_layer = tf.keras.layers.Dense(units=3, activation=\"softmax\")(average_pooling_layer)   # unit 3\n",
        "model_Dense3 = tf.keras.models.Model(inputs=base_model_Dense.input, outputs=prediction_layer)\n",
        "\n",
        "model_Dense3.compile(optimizer=tf.keras.optimizers.RMSprop(learning_rate=0.0001), loss=\"binary_crossentropy\", metrics=[\"accuracy\"])"
      ],
      "metadata": {
        "id": "AvoDgPqg_3x7"
      },
      "execution_count": 16,
      "outputs": []
    },
    {
      "cell_type": "code",
      "source": [
        "kf_Dense3 = KFold(5, shuffle=True, random_state=40) \n",
        "\n",
        "oos_y3 = []\n",
        "oos_pred3 = []\n",
        "fold = 0\n",
        "\n",
        "for train, test in kf_Dense3.split(data_Dense):\n",
        "    fold+=1\n",
        "    print(f\"Fold #{fold}\")\n",
        "        \n",
        "    x_train_Dense3 = data_Dense[train]\n",
        "    y_train_Dense3 = labels_Dense[train]\n",
        "    x_test_Dense3 = data_Dense[test]\n",
        "    y_test_Dense3 = labels_Dense[test]\n",
        "\n",
        "    H_Dense3 = model_Dense3.fit( x=aug3.flow(x_train_Dense3, y_train_Dense3, batch_size=BS32),\n",
        "\t                                            validation_data=(x_test_Dense3, y_test_Dense3),\n",
        "\t                                            steps_per_epoch=len(x_train_Dense3) // BS32,\n",
        "\t                                            epochs=30,  callbacks = [callback])\n",
        "    \n",
        "    pred_Dense3 = model_Dense3.predict(x_test_Dense3)\n",
        "    \n",
        "    oos_y3.append(y_test_Dense3)\n",
        "    oos_pred3.append(pred_Dense3)  \n",
        "    print(classification_report(y_test_Dense3.argmax(axis=1),\t                #แสดง report ค่า acc, recall, ...\n",
        "                                        pred_Dense3.argmax(axis=1),  \n",
        "                                        target_names=le_Dense.classes_))\n",
        "\n",
        "#   score = metrics.accuracy_score(y_test3_Incep.argmax(axis=1),\t        #ค่า acc\n",
        "#                                               pred3_Incep.argmax(axis=1)\n",
        "#    print(f\"Fold score (accuracy): {score}\")\n",
        "\n",
        "#    print(confusion_matrix(testY3_Incep.argmax(axis=1),\t                       #แสดง confusion_matrix\n",
        "#                        pred3_Incep.argmax(axis=1) ) )"
      ],
      "metadata": {
        "id": "BG7Sznv2A-ED"
      },
      "execution_count": null,
      "outputs": []
    },
    {
      "cell_type": "code",
      "source": [
        "oos_y3 = np.concatenate(oos_y3)\n",
        "oos_pred3 = np.concatenate(oos_pred3)"
      ],
      "metadata": {
        "id": "PKFaUJnv0m21"
      },
      "execution_count": null,
      "outputs": []
    },
    {
      "cell_type": "code",
      "source": [
        "score = metrics.accuracy_score(oos_y3.argmax(axis=1),\t        #ค่า acc\n",
        "                                             oos_pred3.argmax(axis=1) )\n",
        "print(f\"Fold score (accuracy): {score}\")\n",
        "\n",
        "print(classification_report(oos_y3.argmax(axis=1),\t                #แสดง report ค่า acc, recall, ...\n",
        "                                        oos_pred3.argmax(axis=1),  \n",
        "                                        target_names=le_Dense.classes_))"
      ],
      "metadata": {
        "id": "fmTaZJRK0m29"
      },
      "execution_count": null,
      "outputs": []
    },
    {
      "cell_type": "markdown",
      "source": [
        "## 4) K-fold  -- DenseNet201\n",
        "\n",
        "### -->ACC = \n",
        "### -->เวลา  วินาที\n",
        "\n",
        "*   BS = 8\n",
        "*   fix weight & bias in layer 0-500\n",
        "*   activation=\"softmax\"\n",
        "*   learning_rate=0.0001\n",
        "*   epoch 30"
      ],
      "metadata": {
        "id": "VCndXX6bAiA-"
      }
    },
    {
      "cell_type": "code",
      "source": [
        "train_img_Dense = []\n",
        "for ImageName in tqdm(data_train3['ImageName']):               # รัน ชื่อรูป ในไฟล์ data_test3\n",
        "    image_path = All_3class_dir +'/' + ImageName                   # ดึงรูปในโฟล์เดอร์มาทีละรูป\n",
        "    img = cv2.imread(image_path)                                            # อ่านรูป\n",
        "    img = cv2.resize(img, (224, 224))                                       #ขนาดของ input\n",
        "    train_img_Dense.append(img)\n",
        "\n",
        "data_Dense = np.array(train_img_Dense, dtype=\"float32\") / 255.0"
      ],
      "metadata": {
        "outputId": "fb172fae-6ef3-40bf-fb94-80f5cff3bf6c",
        "colab": {
          "base_uri": "https://localhost:8080/"
        },
        "id": "NcnyqURFAiBG"
      },
      "execution_count": null,
      "outputs": [
        {
          "output_type": "stream",
          "name": "stderr",
          "text": [
            "100%|██████████| 451/451 [00:06<00:00, 65.03it/s] \n"
          ]
        }
      ]
    },
    {
      "cell_type": "code",
      "source": [
        "labels_Dense = np.array(data_train3[['NameType']] )        \n",
        "labels_Dense.shape = (len(labels_Dense),) \n",
        "\n",
        "le_Dense = LabelEncoder()                                                                     \n",
        "labels_Dense = le_Dense.fit_transform(labels_Dense)                                         #จะแปลงชื่อ class เป็นตัวเลข 1, 2, 0 \n",
        "\n",
        "labels_Dense = to_categorical(labels_Dense, num_classes=3)                   #shape (180, 3) มีค่าเป็น  [0., 1., 0.]  กับ   [0., 0., 1.] กับ  [1., 0., 0.]"
      ],
      "metadata": {
        "id": "mT8YwPe2AiBG"
      },
      "execution_count": null,
      "outputs": []
    },
    {
      "cell_type": "code",
      "source": [
        "INIT_LR = 1e-1\n",
        "BS = 8\n",
        "EPOCHS = 50\n",
        "\n",
        "aug = ImageDataGenerator(\n",
        "\t\trotation_range=15,\t\t\t\t\t\t#องศาการหมุน\n",
        "\t\twidth_shift_range=0.1,\n",
        "\t\theight_shift_range=0.1,\n",
        "\t\tshear_range=0.15,\n",
        "\t\thorizontal_flip=True,\n",
        "\t\tfill_mode=\"nearest\")\n",
        "\n",
        "callback = tf.keras.callbacks.EarlyStopping(\n",
        "                monitor=\"val_accuracy\",\n",
        "                patience=3,\n",
        "                mode=\"max\" )"
      ],
      "metadata": {
        "id": "_Ts8nRGlAiBG"
      },
      "execution_count": null,
      "outputs": []
    },
    {
      "cell_type": "code",
      "source": [
        "base_model_Dense = tf.keras.applications.DenseNet201(input_shape=(224, 224, 3), include_top=False, weights=\"imagenet\")\n",
        "len(base_model_Dense.layers)"
      ],
      "metadata": {
        "colab": {
          "base_uri": "https://localhost:8080/"
        },
        "outputId": "2f63b51b-3be3-42d7-c915-29e7b54f548b",
        "id": "A1_eiTpvAiBH"
      },
      "execution_count": null,
      "outputs": [
        {
          "output_type": "stream",
          "name": "stdout",
          "text": [
            "Downloading data from https://storage.googleapis.com/tensorflow/keras-applications/densenet/densenet201_weights_tf_dim_ordering_tf_kernels_notop.h5\n",
            "74842112/74836368 [==============================] - 2s 0us/step\n",
            "74850304/74836368 [==============================] - 2s 0us/step\n"
          ]
        },
        {
          "output_type": "execute_result",
          "data": {
            "text/plain": [
              "707"
            ]
          },
          "metadata": {},
          "execution_count": 4
        }
      ]
    },
    {
      "cell_type": "code",
      "source": [
        "base_model_Dense.trainable = True\n",
        "for layer in base_model_Dense.layers[:500]:    #fix w & bias in layer 0-500\n",
        "    layer.trainable = False\n",
        "\n",
        "#Add custom head\n",
        "average_pooling_layer = tf.keras.layers.GlobalAveragePooling2D()(base_model_Dense.output)\n",
        "prediction_layer = tf.keras.layers.Dense(units=3, activation=\"softmax\")(average_pooling_layer)   # unit 3\n",
        "model_Dense = tf.keras.models.Model(inputs=base_model_Dense.input, outputs=prediction_layer)\n",
        "\n",
        "model_Dense.compile(optimizer=tf.keras.optimizers.RMSprop(learning_rate=0.0001), loss=\"binary_crossentropy\", metrics=[\"accuracy\"])"
      ],
      "metadata": {
        "id": "gVOHnIhUAiBH"
      },
      "execution_count": null,
      "outputs": []
    },
    {
      "cell_type": "code",
      "source": [
        "kf_Dense = KFold(5, shuffle=True, random_state=40) \n",
        "\n",
        "oos_y = []\n",
        "oos_pred = []\n",
        "fold = 0\n",
        "\n",
        "for train, test in kf_Dense.split(data_Dense):\n",
        "    fold+=1\n",
        "    print(f\"Fold #{fold}\")\n",
        "        \n",
        "    x_train_Dense = data_Dense[train]\n",
        "    y_train_Dense = labels_Dense[train]\n",
        "    x_test_Dense = data_Dense[test]\n",
        "    y_test_Dense = labels_Dense[test]\n",
        "\n",
        "    H_Dense = model_Dense.fit( x=aug.flow(x_train_Dense, y_train_Dense, batch_size=BS),\n",
        "\t                                            validation_data=(x_test_Dense, y_test_Dense),\n",
        "\t                                            steps_per_epoch=len(x_train_Dense) // BS,\n",
        "\t                                            epochs=30,  callbacks = [callback])\n",
        "    \n",
        "    pred_Dense = model_Dense.predict(x_test_Dense)\n",
        "    \n",
        "    oos_y.append(y_test_Dense)\n",
        "    oos_pred.append(pred_Dense)  \n",
        "    print(classification_report(y_test_Dense.argmax(axis=1),\t                #แสดง report ค่า acc, recall, ...\n",
        "                                        pred_Dense.argmax(axis=1),  \n",
        "                                        target_names=le_Dense.classes_))\n",
        "\n",
        "#   score = metrics.accuracy_score(y_test3_Incep.argmax(axis=1),\t        #ค่า acc\n",
        "#                                               pred3_Incep.argmax(axis=1)\n",
        "#    print(f\"Fold score (accuracy): {score}\")\n",
        "\n",
        "#    print(confusion_matrix(testY3_Incep.argmax(axis=1),\t                       #แสดง confusion_matrix\n",
        "#                        pred3_Incep.argmax(axis=1) ) )"
      ],
      "metadata": {
        "id": "xW-aWaFsAiBH"
      },
      "execution_count": null,
      "outputs": []
    },
    {
      "cell_type": "code",
      "source": [
        "oos_y = np.concatenate(oos_y)\n",
        "oos_pred = np.concatenate(oos_pred)"
      ],
      "metadata": {
        "id": "55zrtiJBAiBH"
      },
      "execution_count": null,
      "outputs": []
    },
    {
      "cell_type": "code",
      "source": [
        "score = metrics.accuracy_score(oos_y.argmax(axis=1),\t        #ค่า acc\n",
        "                                             oos_pred.argmax(axis=1) )\n",
        "print(f\"Fold score (accuracy): {score}\")\n",
        "\n",
        "print(classification_report(oos_y.argmax(axis=1),\t                #แสดง report ค่า acc, recall, ...\n",
        "                                        oos_pred.argmax(axis=1),  \n",
        "                                        target_names=le_Dense.classes_))"
      ],
      "metadata": {
        "id": "oQK7QiZNAiBI"
      },
      "execution_count": null,
      "outputs": []
    },
    {
      "cell_type": "markdown",
      "source": [
        "## 5) K-fold  -- DenseNet201\n",
        "\n",
        "### -->ACC = \n",
        "### -->เวลา  นาที\n",
        "\n",
        "*   BS = 16\n",
        "*   fix weight & bias in layer 0-500\n",
        "*   activation=\"softmax\"\n",
        "*   learning_rate=0.0001\n",
        "*   epoch 30"
      ],
      "metadata": {
        "id": "bVbKa1tvAiBI"
      }
    },
    {
      "cell_type": "code",
      "source": [
        "train_img_Dense = []\n",
        "for ImageName in tqdm(data_train3['ImageName']):               # รัน ชื่อรูป ในไฟล์ data_test3\n",
        "    image_path = All_3class_dir +'/' + ImageName                   # ดึงรูปในโฟล์เดอร์มาทีละรูป\n",
        "    img = cv2.imread(image_path)                                            # อ่านรูป\n",
        "    img = cv2.resize(img, (224, 224))                                       #ขนาดของ input\n",
        "    train_img_Dense.append(img)\n",
        "\n",
        "data_Dense = np.array(train_img_Dense, dtype=\"float32\") / 255.0"
      ],
      "metadata": {
        "outputId": "5e90f7dd-499b-4918-85cd-0d5573e8c993",
        "colab": {
          "base_uri": "https://localhost:8080/"
        },
        "id": "HgsRsB2WAiBI"
      },
      "execution_count": null,
      "outputs": [
        {
          "output_type": "stream",
          "name": "stderr",
          "text": [
            "100%|██████████| 451/451 [00:04<00:00, 92.91it/s] \n"
          ]
        }
      ]
    },
    {
      "cell_type": "code",
      "source": [
        "labels_Dense = np.array(data_train3[['NameType']] )        \n",
        "labels_Dense.shape = (len(labels_Dense),) \n",
        "\n",
        "le_Dense = LabelEncoder()                                                                     \n",
        "labels_Dense = le_Dense.fit_transform(labels_Dense)                                         #จะแปลงชื่อ class เป็นตัวเลข 1, 2, 0 \n",
        "\n",
        "labels_Dense = to_categorical(labels_Dense, num_classes=3)                   #shape (180, 3) มีค่าเป็น  [0., 1., 0.]  กับ   [0., 0., 1.] กับ  [1., 0., 0.]"
      ],
      "metadata": {
        "id": "DVtvXHE0AiBI"
      },
      "execution_count": null,
      "outputs": []
    },
    {
      "cell_type": "code",
      "source": [
        "INIT_LR = 1e-1\n",
        "BS16 = 16\n",
        "EPOCHS = 50\n",
        "\n",
        "aug2 = ImageDataGenerator(\n",
        "\t\trotation_range=15,\t\t\t\t\t\t#องศาการหมุน\n",
        "\t\twidth_shift_range=0.1,\n",
        "\t\theight_shift_range=0.1,\n",
        "\t\tshear_range=0.15,\n",
        "\t\thorizontal_flip=True,\n",
        "\t\tfill_mode=\"nearest\")\n",
        "\n",
        "callback = tf.keras.callbacks.EarlyStopping(\n",
        "                monitor=\"val_accuracy\",\n",
        "                patience=3,\n",
        "                mode=\"max\" )"
      ],
      "metadata": {
        "id": "tu6QV-LXAiBJ"
      },
      "execution_count": null,
      "outputs": []
    },
    {
      "cell_type": "code",
      "source": [
        "base_model_Dense = tf.keras.applications.DenseNet201(input_shape=(224, 224, 3), include_top=False, weights=\"imagenet\")\n",
        "len(base_model_Dense.layers)"
      ],
      "metadata": {
        "id": "lvQwkM9XAiBJ"
      },
      "execution_count": null,
      "outputs": []
    },
    {
      "cell_type": "code",
      "source": [
        "base_model_Dense.trainable = True\n",
        "for layer in base_model_Dense.layers[:600]:    #fix w & bias in layer 0-600\n",
        "    layer.trainable = False\n",
        "\n",
        "#Add custom head\n",
        "average_pooling_layer = tf.keras.layers.GlobalAveragePooling2D()(base_model_Dense.output)\n",
        "prediction_layer = tf.keras.layers.Dense(units=3, activation=\"softmax\")(average_pooling_layer)   # unit 3\n",
        "model_Dense2 = tf.keras.models.Model(inputs=base_model_Dense.input, outputs=prediction_layer)\n",
        "\n",
        "model_Dense2.compile(optimizer=tf.keras.optimizers.RMSprop(learning_rate=0.0001), loss=\"binary_crossentropy\", metrics=[\"accuracy\"])"
      ],
      "metadata": {
        "id": "k7qBhwHEAiBK"
      },
      "execution_count": null,
      "outputs": []
    },
    {
      "cell_type": "code",
      "source": [
        "kf_Dense2 = KFold(5, shuffle=True, random_state=40) \n",
        "\n",
        "oos_y2 = []\n",
        "oos_pred2 = []\n",
        "fold = 0\n",
        "\n",
        "for train, test in kf_Dense2.split(data_Dense):\n",
        "    fold+=1\n",
        "    print(f\"Fold #{fold}\")\n",
        "        \n",
        "    x_train_Dense2 = data_Dense[train]\n",
        "    y_train_Dense2 = labels_Dense[train]\n",
        "    x_test_Dense2 = data_Dense[test]\n",
        "    y_test_Dense2 = labels_Dense[test]\n",
        "\n",
        "    H_Dense2 = model_Dense2.fit( x=aug2.flow(x_train_Dense2, y_train_Dense2, batch_size=BS16),\n",
        "\t                                            validation_data=(x_test_Dense2, y_test_Dense2),\n",
        "\t                                            steps_per_epoch=len(x_train_Dense2) // BS16,\n",
        "\t                                            epochs=30,  callbacks = [callback])\n",
        "    \n",
        "    pred_Dense2 = model_Dense2.predict(x_test_Dense2)\n",
        "    \n",
        "    oos_y2.append(y_test_Dense2)\n",
        "    oos_pred2.append(pred_Dense2)  \n",
        "    print(classification_report(y_test_Dense2.argmax(axis=1),\t                #แสดง report ค่า acc, recall, ...\n",
        "                                        pred_Dense2.argmax(axis=1),  \n",
        "                                        target_names=le_Dense.classes_))\n",
        "\n",
        "#   score = metrics.accuracy_score(y_test3_Incep.argmax(axis=1),\t        #ค่า acc\n",
        "#                                               pred3_Incep.argmax(axis=1)\n",
        "#    print(f\"Fold score (accuracy): {score}\")\n",
        "\n",
        "#    print(confusion_matrix(testY3_Incep.argmax(axis=1),\t                       #แสดง confusion_matrix\n",
        "#                        pred3_Incep.argmax(axis=1) ) )"
      ],
      "metadata": {
        "id": "EL_E1RXFAiBK"
      },
      "execution_count": null,
      "outputs": []
    },
    {
      "cell_type": "code",
      "source": [
        "oos_y2 = np.concatenate(oos_y2)\n",
        "oos_pred2 = np.concatenate(oos_pred2)"
      ],
      "metadata": {
        "id": "BjiIcMCLAiBK"
      },
      "execution_count": null,
      "outputs": []
    },
    {
      "cell_type": "code",
      "source": [
        "score = metrics.accuracy_score(oos_y2.argmax(axis=1),\t        #ค่า acc\n",
        "                                             oos_pred2.argmax(axis=1) )\n",
        "print(f\"Fold score (accuracy): {score}\")\n",
        "\n",
        "print(classification_report(oos_y2.argmax(axis=1),\t                #แสดง report ค่า acc, recall, ...\n",
        "                                        oos_pred2.argmax(axis=1),  \n",
        "                                        target_names=le_Dense.classes_))"
      ],
      "metadata": {
        "id": "hWLr0BPiAiBK"
      },
      "execution_count": null,
      "outputs": []
    },
    {
      "cell_type": "markdown",
      "source": [
        "## 6) K-fold  -- DenseNet201\n",
        "\n",
        "### -->ACC = \n",
        "### -->เวลา  วินาที\n",
        "\n",
        "*   BS = 32\n",
        "*   fix weight & bias in layer 0-500\n",
        "*   activation=\"softmax\"\n",
        "*   learning_rate=0.0001\n",
        "*   epoch 30"
      ],
      "metadata": {
        "id": "yRyfeaQvAiBK"
      }
    },
    {
      "cell_type": "code",
      "source": [
        "train_img_Dense = []\n",
        "for ImageName in tqdm(data_train3['ImageName']):               # รัน ชื่อรูป ในไฟล์ data_test3\n",
        "    image_path = All_3class_dir +'/' + ImageName                   # ดึงรูปในโฟล์เดอร์มาทีละรูป\n",
        "    img = cv2.imread(image_path)                                            # อ่านรูป\n",
        "    img = cv2.resize(img, (224, 224))                                       #ขนาดของ input\n",
        "    train_img_Dense.append(img)\n",
        "\n",
        "data_Dense = np.array(train_img_Dense, dtype=\"float32\") / 255.0"
      ],
      "metadata": {
        "outputId": "38136d2a-c28d-4c82-b519-c6344ad57f17",
        "colab": {
          "base_uri": "https://localhost:8080/"
        },
        "id": "Fn8582xYAiBL"
      },
      "execution_count": null,
      "outputs": [
        {
          "output_type": "stream",
          "name": "stderr",
          "text": [
            "100%|██████████| 451/451 [00:05<00:00, 83.88it/s] \n"
          ]
        }
      ]
    },
    {
      "cell_type": "code",
      "source": [
        "labels_Dense = np.array(data_train3[['NameType']] )        \n",
        "labels_Dense.shape = (len(labels_Dense),) \n",
        "\n",
        "le_Dense = LabelEncoder()                                                                     \n",
        "labels_Dense = le_Dense.fit_transform(labels_Dense)                                         #จะแปลงชื่อ class เป็นตัวเลข 1, 2, 0 \n",
        "\n",
        "labels_Dense = to_categorical(labels_Dense, num_classes=3)                   #shape (180, 3) มีค่าเป็น  [0., 1., 0.]  กับ   [0., 0., 1.] กับ  [1., 0., 0.]"
      ],
      "metadata": {
        "id": "3TvbXuhHAiBL"
      },
      "execution_count": null,
      "outputs": []
    },
    {
      "cell_type": "code",
      "source": [
        "INIT_LR = 1e-1\n",
        "BS32 = 32\n",
        "EPOCHS = 50\n",
        "\n",
        "aug3 = ImageDataGenerator(\n",
        "\t\trotation_range=15,\t\t\t\t\t\t#องศาการหมุน\n",
        "\t\twidth_shift_range=0.1,\n",
        "\t\theight_shift_range=0.1,\n",
        "\t\tshear_range=0.15,\n",
        "\t\thorizontal_flip=True,\n",
        "\t\tfill_mode=\"nearest\")\n",
        "\n",
        "callback = tf.keras.callbacks.EarlyStopping(\n",
        "                monitor=\"val_accuracy\",\n",
        "                patience=3,\n",
        "                mode=\"max\" )"
      ],
      "metadata": {
        "id": "Dmiz5c1dAiBL"
      },
      "execution_count": null,
      "outputs": []
    },
    {
      "cell_type": "code",
      "source": [
        "base_model_Dense = tf.keras.applications.DenseNet201(input_shape=(224, 224, 3), include_top=False, weights=\"imagenet\")\n",
        "len(base_model_Dense.layers)"
      ],
      "metadata": {
        "id": "hs8jPwWpAiBL"
      },
      "execution_count": null,
      "outputs": []
    },
    {
      "cell_type": "code",
      "source": [
        "base_model_Dense.trainable = True\n",
        "for layer in base_model_Dense.layers[:500]:    #fix w & bias in layer 0-500\n",
        "    layer.trainable = False\n",
        "\n",
        "#Add custom head\n",
        "average_pooling_layer = tf.keras.layers.GlobalAveragePooling2D()(base_model_Dense.output)\n",
        "prediction_layer = tf.keras.layers.Dense(units=3, activation=\"softmax\")(average_pooling_layer)   # unit 3\n",
        "model_Dense3 = tf.keras.models.Model(inputs=base_model_Dense.input, outputs=prediction_layer)\n",
        "\n",
        "model_Dense3.compile(optimizer=tf.keras.optimizers.RMSprop(learning_rate=0.0001), loss=\"binary_crossentropy\", metrics=[\"accuracy\"])"
      ],
      "metadata": {
        "id": "lXDNo8ILAiBL"
      },
      "execution_count": null,
      "outputs": []
    },
    {
      "cell_type": "code",
      "source": [
        "kf_Dense3 = KFold(5, shuffle=True, random_state=40) \n",
        "\n",
        "oos_y3 = []\n",
        "oos_pred3 = []\n",
        "fold = 0\n",
        "\n",
        "for train, test in kf_Dense3.split(data_Dense):\n",
        "    fold+=1\n",
        "    print(f\"Fold #{fold}\")\n",
        "        \n",
        "    x_train_Dense3 = data_Dense[train]\n",
        "    y_train_Dense3 = labels_Dense[train]\n",
        "    x_test_Dense3 = data_Dense[test]\n",
        "    y_test_Dense3 = labels_Dense[test]\n",
        "\n",
        "    H_Dense3 = model_Dense3.fit( x=aug3.flow(x_train_Dense3, y_train_Dense3, batch_size=BS32),\n",
        "\t                                            validation_data=(x_test_Dense3, y_test_Dense3),\n",
        "\t                                            steps_per_epoch=len(x_train_Dense3) // BS32,\n",
        "\t                                            epochs=30,  callbacks = [callback])\n",
        "    \n",
        "    pred_Dense3 = model_Dense3.predict(x_test_Dense3)\n",
        "    \n",
        "    oos_y3.append(y_test_Dense3)\n",
        "    oos_pred3.append(pred_Dense3)  \n",
        "    print(classification_report(y_test_Dense3.argmax(axis=1),\t                #แสดง report ค่า acc, recall, ...\n",
        "                                        pred_Dense3.argmax(axis=1),  \n",
        "                                        target_names=le_Dense.classes_))\n",
        "\n",
        "#   score = metrics.accuracy_score(y_test3_Incep.argmax(axis=1),\t        #ค่า acc\n",
        "#                                               pred3_Incep.argmax(axis=1)\n",
        "#    print(f\"Fold score (accuracy): {score}\")\n",
        "\n",
        "#    print(confusion_matrix(testY3_Incep.argmax(axis=1),\t                       #แสดง confusion_matrix\n",
        "#                        pred3_Incep.argmax(axis=1) ) )"
      ],
      "metadata": {
        "id": "dD_wJLqYAiBM"
      },
      "execution_count": null,
      "outputs": []
    },
    {
      "cell_type": "code",
      "source": [
        "oos_y3 = np.concatenate(oos_y3)\n",
        "oos_pred3 = np.concatenate(oos_pred3)"
      ],
      "metadata": {
        "id": "hoCNYRnFAiBM"
      },
      "execution_count": null,
      "outputs": []
    },
    {
      "cell_type": "code",
      "source": [
        "score = metrics.accuracy_score(oos_y3.argmax(axis=1),\t        #ค่า acc\n",
        "                                             oos_pred3.argmax(axis=1) )\n",
        "print(f\"Fold score (accuracy): {score}\")\n",
        "\n",
        "print(classification_report(oos_y3.argmax(axis=1),\t                #แสดง report ค่า acc, recall, ...\n",
        "                                        oos_pred3.argmax(axis=1),  \n",
        "                                        target_names=le_Dense.classes_))"
      ],
      "metadata": {
        "id": "vOZ58lolAiBM"
      },
      "execution_count": null,
      "outputs": []
    }
  ]
}