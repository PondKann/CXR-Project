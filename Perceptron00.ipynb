{
  "nbformat": 4,
  "nbformat_minor": 0,
  "metadata": {
    "colab": {
      "name": "Perceptron00.ipynb",
      "provenance": [],
      "mount_file_id": "1RN7O4OzKuKaJJ7Le_WJvuh5lt7tUqbBR",
      "authorship_tag": "ABX9TyN/3g4NFaB2Q/jdnVYKm2+V",
      "include_colab_link": true
    },
    "kernelspec": {
      "name": "python3",
      "display_name": "Python 3"
    },
    "language_info": {
      "name": "python"
    }
  },
  "cells": [
    {
      "cell_type": "markdown",
      "metadata": {
        "id": "view-in-github",
        "colab_type": "text"
      },
      "source": [
        "<a href=\"https://colab.research.google.com/github/PondKann/CXR-Project/blob/main/Perceptron00.ipynb\" target=\"_parent\"><img src=\"https://colab.research.google.com/assets/colab-badge.svg\" alt=\"Open In Colab\"/></a>"
      ]
    },
    {
      "cell_type": "markdown",
      "metadata": {
        "id": "iGpWN8tOdg96"
      },
      "source": [
        "## Perceptron00"
      ]
    },
    {
      "cell_type": "code",
      "metadata": {
        "colab": {
          "base_uri": "https://localhost:8080/"
        },
        "id": "KdxljeXBQiOr",
        "outputId": "bc86b2cf-2207-4d80-c661-51d760acc5e2"
      },
      "source": [
        "x_input = [0.1, 0.5, 0.2]\n",
        "w_weights = [0.4, 0.3, 0.6]\n",
        "threshold = 0.5                                 #ตั้งเกณฑ์\n",
        "\n",
        "def step(weighted_sum):                      #ฟังก์ชันชื่อ step \n",
        "    if weighted_sum > threshold:            #ถ้า weighted_sum มากกว่า threshold ให้เป็นค่า 1\n",
        "        return 1\n",
        "    else:\n",
        "        return 0\n",
        "    \n",
        "def perceptron():                                   #\n",
        "    weighted_sum = 0\n",
        "    for x,w in zip(x_input, w_weights):     #รันไปตามทุกตัวของ  x_input และ  w_weights \n",
        "        weighted_sum += x*w                  # x*w แล้ว นำไปเก็บใน weighted_sum\n",
        "        print(weighted_sum)                      #ปริ้น weighted_sum\n",
        "    return step(weighted_sum)                 #แสดงค่า ที่ได้จาก ฟังก์ชัน step \n",
        "\n",
        "output =  perceptron()                                  \n",
        "print(\"output: \" + str(output))"
      ],
      "execution_count": null,
      "outputs": [
        {
          "output_type": "stream",
          "name": "stdout",
          "text": [
            "0.04000000000000001\n",
            "0.19\n",
            "0.31\n",
            "output: 0\n"
          ]
        }
      ]
    },
    {
      "cell_type": "code",
      "metadata": {
        "id": "XLUiGYtVXCb3"
      },
      "source": [
        "x_input = [0.1, 0.5, 0.2]\n",
        "w_weights = [0.4, 0.3, 0.6]\n",
        "threshold = 0.5                                 #ตั้งเกณฑ์\n",
        "\n",
        "def step(weighted_sum):                     #ฟังก์ชันชื่อ step \n",
        "    if weighted_sum > threshold:            #ถ้า weighted_sum มากกว่า threshold ให้เป็นค่า 1\n",
        "        return 1\n",
        "    else:\n",
        "        return 0\n",
        "    \n",
        "def perceptron():                                   #\n",
        "    weighted_sum = 0\n",
        "    for x,w in zip(x_input, w_weights):     #รันไปตามทุกตัวของ  x_input และ  w_weights \n",
        "        weighted_sum += x*w                  # x*w แล้ว นำไปเก็บใน weighted_sum\n",
        "        print(weighted_sum)                      #ปริ้น weighted_sum\n",
        "    return step(weighted_sum)                 #แสดงค่า ที่ได้จาก ฟังก์ชัน step \n"
      ],
      "execution_count": null,
      "outputs": []
    },
    {
      "cell_type": "code",
      "metadata": {
        "id": "OPdbHdHCX4SC",
        "colab": {
          "base_uri": "https://localhost:8080/"
        },
        "outputId": "9e1f6f6c-e12c-4ac3-efe1-3939aeb43e7e"
      },
      "source": [
        "output = perceptron()                                   "
      ],
      "execution_count": null,
      "outputs": [
        {
          "output_type": "stream",
          "name": "stdout",
          "text": [
            "0.04000000000000001\n",
            "0.19\n",
            "0.31\n"
          ]
        }
      ]
    },
    {
      "cell_type": "code",
      "metadata": {
        "id": "2W1fJY2qX4FW",
        "colab": {
          "base_uri": "https://localhost:8080/"
        },
        "outputId": "b51c1381-96f9-4e17-ba78-d66636c63ac0"
      },
      "source": [
        "print(\"output: \" + str(output))"
      ],
      "execution_count": null,
      "outputs": [
        {
          "output_type": "stream",
          "name": "stdout",
          "text": [
            "output: 0\n"
          ]
        }
      ]
    },
    {
      "cell_type": "code",
      "metadata": {
        "id": "AUZWlR6fajAP"
      },
      "source": [
        ""
      ],
      "execution_count": null,
      "outputs": []
    },
    {
      "cell_type": "code",
      "metadata": {
        "id": "s0I1Z2ldai9i"
      },
      "source": [
        "import numpy as np\n",
        "X = np.array([[1,2] , [2.5,3], [3,1], [-3,-1.7], [-1.6,-3], [1.5,-3]])\n",
        "T = [1,1,1,-1,-1,-1]\n",
        "W = X[4].copy()"
      ],
      "execution_count": null,
      "outputs": []
    },
    {
      "cell_type": "markdown",
      "metadata": {
        "id": "wAn-_ZhPdfn3"
      },
      "source": [
        "## Perceptron01\n",
        "CXR "
      ]
    },
    {
      "cell_type": "code",
      "metadata": {
        "id": "l2j4tHwqpRLF"
      },
      "source": [
        "import numpy as np \n",
        "import pandas as pd \n",
        "import os\n",
        "import tensorflow as tf\n",
        "import matplotlib.pyplot as plt\n",
        "import matplotlib.image as mpimg\n",
        "from tensorflow.keras.preprocessing.image import ImageDataGenerator\n",
        "from tensorflow.keras.optimizers import RMSprop\n",
        "from keras import regularizers\n",
        "from keras.layers.core import Dropout"
      ],
      "execution_count": null,
      "outputs": []
    },
    {
      "cell_type": "code",
      "metadata": {
        "id": "e4jn1tLUni0Q",
        "colab": {
          "base_uri": "https://localhost:8080/"
        },
        "outputId": "faeb7ac5-cf5f-42da-f771-32a115d40519"
      },
      "source": [
        "from google.colab import drive\n",
        "drive.mount('/content/drive')"
      ],
      "execution_count": null,
      "outputs": [
        {
          "output_type": "stream",
          "name": "stdout",
          "text": [
            "Drive already mounted at /content/drive; to attempt to forcibly remount, call drive.mount(\"/content/drive\", force_remount=True).\n"
          ]
        }
      ]
    },
    {
      "cell_type": "code",
      "metadata": {
        "id": "ad-z5gECnix8"
      },
      "source": [
        "train_dir = '/content/drive/My Drive/Senior Project/xray_dataset_covid19/train'\n",
        "validation_dir = '/content/drive/My Drive/Senior Project/xray_dataset_covid19/test'"
      ],
      "execution_count": null,
      "outputs": []
    },
    {
      "cell_type": "code",
      "metadata": {
        "id": "FGAHXq7hpxhC"
      },
      "source": [
        "train_normal_dir = os.path.join(train_dir,'NORMAL')\n",
        "train_pneumonia_dir = os.path.join(train_dir,'PNEUMONIA')\n",
        "validation_normal_dir = os.path.join(validation_dir,'NORMAL')\n",
        "validation_pneumonia_dir = os.path.join(validation_dir,'PNEUMONIA')"
      ],
      "execution_count": null,
      "outputs": []
    },
    {
      "cell_type": "code",
      "metadata": {
        "id": "KfNsw_4KqIsd",
        "colab": {
          "base_uri": "https://localhost:8080/"
        },
        "outputId": "fe7300fb-bd7a-4720-fd82-3ab3898933bc"
      },
      "source": [
        "print(len(train_dir))"
      ],
      "execution_count": null,
      "outputs": [
        {
          "output_type": "stream",
          "name": "stdout",
          "text": [
            "65\n"
          ]
        }
      ]
    },
    {
      "cell_type": "code",
      "metadata": {
        "id": "zRHfOqegpxal"
      },
      "source": [
        "train_normal_names = os.listdir(train_normal_dir)\n",
        "train_pneumonia_names = os.listdir(train_pneumonia_dir)"
      ],
      "execution_count": null,
      "outputs": []
    },
    {
      "cell_type": "code",
      "metadata": {
        "id": "JHdwDo4Cq9u3",
        "colab": {
          "base_uri": "https://localhost:8080/"
        },
        "outputId": "cbf31141-0f24-4aa1-cce6-262f2748890d"
      },
      "source": [
        "print('total training normal-rays :', len(os.listdir(train_normal_dir)))   # เช็คว่าใน train_normal_dir มีกี่ภาพ\n",
        "print('total training Pneumonia x-rays:', len(os.listdir(train_pneumonia_dir)))\n",
        "print('total validation normal-rays :', len(os.listdir(validation_normal_dir)))\n",
        "print('total validation Pneumonia x-rays:', len(os.listdir(validation_pneumonia_dir)))"
      ],
      "execution_count": null,
      "outputs": [
        {
          "output_type": "stream",
          "name": "stdout",
          "text": [
            "total training normal-rays : 74\n",
            "total training Pneumonia x-rays: 74\n",
            "total validation normal-rays : 20\n",
            "total validation Pneumonia x-rays: 20\n"
          ]
        }
      ]
    },
    {
      "cell_type": "code",
      "metadata": {
        "id": "XuZxE3QTq9sf",
        "colab": {
          "base_uri": "https://localhost:8080/"
        },
        "outputId": "3c6d0d81-8120-4e09-8747-ef1b1cee05d6"
      },
      "source": [
        "train_data_generator = ImageDataGenerator(rescale = 1/255)\n",
        "validation_data_generator = ImageDataGenerator(rescale = 1/255)\n",
        "\n",
        "train_generator = train_data_generator.flow_from_directory(\n",
        "        train_dir,\n",
        "        target_size = (150,150),\n",
        "        batch_size = 16,\n",
        "        class_mode = 'binary')\n",
        "\n",
        "validation_generator = validation_data_generator.flow_from_directory(\n",
        "        validation_dir,\n",
        "        target_size = (150,150),\n",
        "        batch_size = 16,\n",
        "        class_mode = 'binary')"
      ],
      "execution_count": null,
      "outputs": [
        {
          "output_type": "stream",
          "name": "stdout",
          "text": [
            "Found 148 images belonging to 2 classes.\n",
            "Found 40 images belonging to 2 classes.\n"
          ]
        }
      ]
    },
    {
      "cell_type": "markdown",
      "metadata": {
        "id": "dn3LM0uI7Fzo"
      },
      "source": [
        "Model Create"
      ]
    },
    {
      "cell_type": "code",
      "metadata": {
        "colab": {
          "base_uri": "https://localhost:8080/"
        },
        "id": "9TQP3EzT7A1s",
        "outputId": "cc9aefdd-dd49-4992-9e17-77762a12ec19"
      },
      "source": [
        "model = tf.keras.models.Sequential([\n",
        "    tf.keras.layers.Conv2D(64, (3,3), activation='relu', input_shape=(150, 150, 3)),\n",
        "    tf.keras.layers.MaxPooling2D(2, 2),\n",
        "    tf.keras.layers.Dropout(0.25),\n",
        "    tf.keras.layers.Conv2D(32, (3,3), activation='relu'),\n",
        "    tf.keras.layers.MaxPooling2D(2,2),\n",
        "    tf.keras.layers.Dropout(0.25),\n",
        "    tf.keras.layers.Conv2D(16, (3,3), activation='relu'),\n",
        "    tf.keras.layers.MaxPooling2D(2,2),\n",
        "    tf.keras.layers.Dropout(0.25),\n",
        "    tf.keras.layers.Flatten(),\n",
        "    tf.keras.layers.Dense(512, activation='relu'),\n",
        "    tf.keras.layers.Dropout(0.25),\n",
        "    tf.keras.layers.Dense(1, activation='sigmoid')\n",
        "])\n",
        "\n",
        "model.compile(loss='binary_crossentropy',\n",
        "              optimizer=RMSprop(lr=0.001),\n",
        "              metrics=['accuracy'])"
      ],
      "execution_count": null,
      "outputs": [
        {
          "output_type": "stream",
          "name": "stderr",
          "text": [
            "/usr/local/lib/python3.7/dist-packages/keras/optimizer_v2/optimizer_v2.py:356: UserWarning: The `lr` argument is deprecated, use `learning_rate` instead.\n",
            "  \"The `lr` argument is deprecated, use `learning_rate` instead.\")\n"
          ]
        }
      ]
    },
    {
      "cell_type": "code",
      "metadata": {
        "colab": {
          "base_uri": "https://localhost:8080/"
        },
        "id": "700M6LVM7Ax5",
        "outputId": "99234618-1cd1-4b80-fefc-8f6fb1295f97"
      },
      "source": [
        "history=model.fit_generator(generator=train_generator,    \n",
        "                            epochs = 5,\n",
        "                            validation_data = validation_generator,\n",
        "                           )"
      ],
      "execution_count": null,
      "outputs": [
        {
          "output_type": "stream",
          "name": "stderr",
          "text": [
            "/usr/local/lib/python3.7/dist-packages/keras/engine/training.py:1972: UserWarning: `Model.fit_generator` is deprecated and will be removed in a future version. Please use `Model.fit`, which supports generators.\n",
            "  warnings.warn('`Model.fit_generator` is deprecated and '\n"
          ]
        },
        {
          "output_type": "stream",
          "name": "stdout",
          "text": [
            "Epoch 1/5\n",
            "10/10 [==============================] - 91s 10s/step - loss: 1.0985 - accuracy: 0.5676 - val_loss: 1.1930 - val_accuracy: 0.5000\n",
            "Epoch 2/5\n",
            "10/10 [==============================] - 13s 1s/step - loss: 0.9496 - accuracy: 0.5946 - val_loss: 0.6546 - val_accuracy: 0.7500\n",
            "Epoch 3/5\n",
            "10/10 [==============================] - 13s 1s/step - loss: 0.6095 - accuracy: 0.6689 - val_loss: 0.5756 - val_accuracy: 0.5500\n",
            "Epoch 4/5\n",
            "10/10 [==============================] - 13s 1s/step - loss: 0.5733 - accuracy: 0.7230 - val_loss: 0.6201 - val_accuracy: 0.7250\n",
            "Epoch 5/5\n",
            "10/10 [==============================] - 13s 1s/step - loss: 0.4355 - accuracy: 0.8108 - val_loss: 0.1755 - val_accuracy: 0.9750\n"
          ]
        }
      ]
    },
    {
      "cell_type": "code",
      "metadata": {
        "id": "LmHSIr8K7AvR"
      },
      "source": [
        ""
      ],
      "execution_count": null,
      "outputs": []
    },
    {
      "cell_type": "markdown",
      "metadata": {
        "id": "5Gb0srwh7e3f"
      },
      "source": [
        "Results"
      ]
    },
    {
      "cell_type": "code",
      "metadata": {
        "colab": {
          "base_uri": "https://localhost:8080/",
          "height": 311
        },
        "id": "Ux6Ms0F47eol",
        "outputId": "d8d405d9-7aeb-4864-8a72-d1d9f9c18f16"
      },
      "source": [
        "accuracy = history.history['accuracy']\n",
        "val_accuracy  = history.history['val_accuracy']\n",
        "\n",
        "loss = history.history['loss']\n",
        "val_loss = history.history['val_loss']\n",
        "plt.figure(figsize=(15,10))\n",
        "\n",
        "plt.subplot(2, 2, 1)\n",
        "plt.plot(accuracy, label = \"Training accuracy\")\n",
        "plt.plot(val_accuracy, label=\"Validation accuracy\")\n",
        "plt.legend()\n",
        "plt.title(\"Training vs validation accuracy\")\n",
        "\n",
        "\n",
        "plt.subplot(2,2,2)\n",
        "plt.plot(loss, label = \"Training loss\")\n",
        "plt.plot(val_loss, label=\"Validation loss\")\n",
        "plt.legend()\n",
        "plt.title(\"Training vs validation loss\")\n",
        "\n",
        "plt.show()"
      ],
      "execution_count": null,
      "outputs": [
        {
          "output_type": "display_data",
          "data": {
            "image/png": "[encoded data removed]",
            "text/plain": [
              "<Figure size 1080x720 with 2 Axes>"
            ]
          },
          "metadata": {
            "needs_background": "light"
          }
        }
      ]
    },
    {
      "cell_type": "code",
      "metadata": {
        "id": "Z7qThcA4xU6L"
      },
      "source": [
        ""
      ],
      "execution_count": null,
      "outputs": []
    },
    {
      "cell_type": "code",
      "metadata": {
        "id": "HAmiBu_X52Nb"
      },
      "source": [
        ""
      ],
      "execution_count": null,
      "outputs": []
    },
    {
      "cell_type": "markdown",
      "metadata": {
        "id": "-T2qrrH_xVYc"
      },
      "source": [
        "## Perceptron02\n",
        "\n",
        "Cats Dogs"
      ]
    },
    {
      "cell_type": "code",
      "metadata": {
        "colab": {
          "base_uri": "https://localhost:8080/"
        },
        "id": "38MHu_fAy8Na",
        "outputId": "6d6752b3-f226-45cf-8cf0-4fac693adb5f"
      },
      "source": [
        "import tensorflow as tf\n",
        "print(tf.__version__)"
      ],
      "execution_count": null,
      "outputs": [
        {
          "output_type": "stream",
          "name": "stdout",
          "text": [
            "2.6.0\n"
          ]
        }
      ]
    },
    {
      "cell_type": "code",
      "metadata": {
        "id": "-kDKpQPuy8LO"
      },
      "source": [
        ""
      ],
      "execution_count": null,
      "outputs": []
    },
    {
      "cell_type": "code",
      "metadata": {
        "id": "Csk8tVmwy8IQ"
      },
      "source": [
        ""
      ],
      "execution_count": null,
      "outputs": []
    },
    {
      "cell_type": "code",
      "metadata": {
        "id": "guOeHdTNy8Fq"
      },
      "source": [
        ""
      ],
      "execution_count": null,
      "outputs": []
    },
    {
      "cell_type": "code",
      "metadata": {
        "id": "nkvY7nOByWij"
      },
      "source": [
        "import tensorflow_datasets\n",
        "mnist = tensorflow_datasets.load('mnist')"
      ],
      "execution_count": null,
      "outputs": []
    },
    {
      "cell_type": "code",
      "metadata": {
        "id": "Xpqp0RaGyhcb"
      },
      "source": [
        "!pip install -q git+https://github.com/tensorflow/examples.git"
      ],
      "execution_count": null,
      "outputs": []
    },
    {
      "cell_type": "code",
      "metadata": {
        "id": "7CZjN62XxiF2"
      },
      "source": [
        "import tensorflow as tf \n",
        "from tensorflow.examples.tutorials.mnist import input_data \n",
        "import matplotlib.pyplot as plt \n",
        "%matplotlib inline "
      ],
      "execution_count": null,
      "outputs": []
    },
    {
      "cell_type": "code",
      "metadata": {
        "id": "L5PlSN8PyBfx"
      },
      "source": [
        "mnist = input_data.read_data_sets(\"MNIST_data/\",one_hot=True) "
      ],
      "execution_count": null,
      "outputs": []
    },
    {
      "cell_type": "code",
      "metadata": {
        "id": "mxRe20dTyBdd"
      },
      "source": [
        ""
      ],
      "execution_count": null,
      "outputs": []
    },
    {
      "cell_type": "code",
      "metadata": {
        "id": "HY9XKJs26tcd"
      },
      "source": [
        ""
      ],
      "execution_count": null,
      "outputs": []
    },
    {
      "cell_type": "code",
      "metadata": {
        "id": "5cuHpehk6tZp"
      },
      "source": [
        ""
      ],
      "execution_count": null,
      "outputs": []
    }
  ]
}