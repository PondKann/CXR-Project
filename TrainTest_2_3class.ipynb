{
  "nbformat": 4,
  "nbformat_minor": 0,
  "metadata": {
    "colab": {
      "name": "TrainTest_2-3class.ipynb",
      "provenance": [],
      "collapsed_sections": [
        "Kpnf_sft9x4-",
        "U9DQHWz1POvY"
      ],
      "authorship_tag": "ABX9TyPVTTuEb6dAN4OcieKLaEjZ",
      "include_colab_link": true
    },
    "kernelspec": {
      "name": "python3",
      "display_name": "Python 3"
    },
    "language_info": {
      "name": "python"
    }
  },
  "cells": [
    {
      "cell_type": "markdown",
      "metadata": {
        "id": "view-in-github",
        "colab_type": "text"
      },
      "source": [
        "<a href=\"https://colab.research.google.com/github/PondKann/CXR-Project/blob/main/TrainTest_2_3class.ipynb\" target=\"_parent\"><img src=\"https://colab.research.google.com/assets/colab-badge.svg\" alt=\"Open In Colab\"/></a>"
      ]
    },
    {
      "cell_type": "markdown",
      "source": [
        "###### import"
      ],
      "metadata": {
        "id": "Kpnf_sft9x4-"
      }
    },
    {
      "cell_type": "code",
      "metadata": {
        "id": "Psng6eJUdzUG"
      },
      "source": [
        "import os\n",
        "import tensorflow as tf\n",
        "import matplotlib.pyplot as plt\n",
        "%matplotlib inline\n",
        "from tensorflow.keras.preprocessing.image import ImageDataGenerator\n",
        "import cv2\n",
        "import numpy as np\n",
        "import pandas as pd\n",
        "from torchsummary import summary\n",
        "from skimage.io import imread, imsave\n",
        "from tqdm import tqdm\n",
        "\n",
        "from sklearn.model_selection import train_test_split\n",
        "from sklearn.metrics import accuracy_score, confusion_matrix"
      ],
      "execution_count": 1,
      "outputs": []
    },
    {
      "cell_type": "code",
      "source": [
        "# set the matplotlib backend so figures can be saved in the background\n",
        "import matplotlib\n",
        "matplotlib.use(\"Agg\")\n",
        "\n",
        "from sklearn.preprocessing import LabelEncoder\n",
        "from sklearn.metrics import classification_report\n",
        "from tensorflow.keras.optimizers import SGD\n",
        "from tensorflow.keras.utils import to_categorical\n",
        "from imutils import paths\n",
        "import argparse"
      ],
      "metadata": {
        "id": "6f-PDKiLl2iC"
      },
      "execution_count": 2,
      "outputs": []
    },
    {
      "cell_type": "markdown",
      "source": [
        "#### Load data"
      ],
      "metadata": {
        "id": "Z1e52UqdwPp8"
      }
    },
    {
      "cell_type": "code",
      "metadata": {
        "colab": {
          "base_uri": "https://localhost:8080/"
        },
        "id": "DlcukkP7fnhB",
        "outputId": "3366f0dc-0cf8-4e5b-c4ee-d9dd7d195d18"
      },
      "source": [
        "from google.colab import drive\n",
        "drive.mount('/content/drive')"
      ],
      "execution_count": 3,
      "outputs": [
        {
          "output_type": "stream",
          "name": "stdout",
          "text": [
            "Mounted at /content/drive\n"
          ]
        }
      ]
    },
    {
      "cell_type": "code",
      "metadata": {
        "id": "0w8suy5ofqx_"
      },
      "source": [
        "data_dir = '/content/drive/My Drive/Senior Project/CXR Image3class'"
      ],
      "execution_count": 4,
      "outputs": []
    },
    {
      "cell_type": "markdown",
      "source": [
        "#### สร้างตารางเก็บ ชื่อภาพ และชื่อคลาส\n",
        "ข้อมูลใน All_3class_dir รวมภาพทั้ง 3 คลาส รวม 451 ภาพ TB150, Normal151 และ CA150 (CA คือ lungcancer)"
      ],
      "metadata": {
        "id": "YFVxlpQZf5pU"
      }
    },
    {
      "cell_type": "code",
      "source": [
        "Normal151_dir = os.path.join(data_dir,'Normal151')\n",
        "TB150_dir = os.path.join(data_dir,'TB150')\n",
        "CA150l_dir = os.path.join(data_dir,'CA150')\n",
        "All_3class_dir = os.path.join(data_dir,'All_3class')"
      ],
      "metadata": {
        "id": "8BHyN8YKpwx9"
      },
      "execution_count": 5,
      "outputs": []
    },
    {
      "cell_type": "code",
      "source": [
        "normal = []\n",
        "for i in range(len(os.listdir(Normal151_dir))):\n",
        "    img = os.listdir(Normal151_dir)[i]\n",
        "    normal.append(img)\n",
        "    \n",
        "tnormal = pd.DataFrame({'ImageName':[normal][0],\n",
        "                                       'NameType': \"Normal\" ,\n",
        "                                       'NumberType': 0                      })"
      ],
      "metadata": {
        "id": "mT0QF8IgrfVm"
      },
      "execution_count": 6,
      "outputs": []
    },
    {
      "cell_type": "code",
      "source": [
        "tuberculosis = []\n",
        "for i in range(len(os.listdir(TB150_dir))):\n",
        "    img = os.listdir(TB150_dir)[i]\n",
        "    tuberculosis.append(img)\n",
        "\n",
        "ttuberculosis = pd.DataFrame({'ImageName':[tuberculosis][0],\n",
        "                                       'NameType': \"Tuberculosis\" ,\n",
        "                                       'NumberType': 1                        })"
      ],
      "metadata": {
        "id": "VtNPg0jwf5pW"
      },
      "execution_count": 7,
      "outputs": []
    },
    {
      "cell_type": "code",
      "source": [
        "lungcancer = []\n",
        "for i in range(len(os.listdir(CA150l_dir))):\n",
        "    img = os.listdir(CA150l_dir)[i]\n",
        "    lungcancer.append(img)\n",
        "\n",
        "tlungcancer = pd.DataFrame({'ImageName':[lungcancer][0],\n",
        "                                       'NameType': \"Lungcancer\" ,\n",
        "                                       'NumberType': 2                        })"
      ],
      "metadata": {
        "id": "X5pyCUl5mJGV"
      },
      "execution_count": 8,
      "outputs": []
    },
    {
      "cell_type": "code",
      "source": [
        "data_train2 = pd.concat([tnormal, ttuberculosis])\n",
        "data_train2.head(3)"
      ],
      "metadata": {
        "id": "3_qF_MjCf5pX",
        "outputId": "1f7893e6-5f03-41e5-bc39-bfd81b04aac9",
        "colab": {
          "base_uri": "https://localhost:8080/",
          "height": 143
        }
      },
      "execution_count": 9,
      "outputs": [
        {
          "output_type": "execute_result",
          "data": {
            "text/html": [
              "\n",
              "  <div id=\"df-b29d3241-750b-496f-b9a2-1363baca68ab\">\n",
              "    <div class=\"colab-df-container\">\n",
              "      <div>\n",
              "<style scoped>\n",
              "    .dataframe tbody tr th:only-of-type {\n",
              "        vertical-align: middle;\n",
              "    }\n",
              "\n",
              "    .dataframe tbody tr th {\n",
              "        vertical-align: top;\n",
              "    }\n",
              "\n",
              "    .dataframe thead th {\n",
              "        text-align: right;\n",
              "    }\n",
              "</style>\n",
              "<table border=\"1\" class=\"dataframe\">\n",
              "  <thead>\n",
              "    <tr style=\"text-align: right;\">\n",
              "      <th></th>\n",
              "      <th>ImageName</th>\n",
              "      <th>NameType</th>\n",
              "      <th>NumberType</th>\n",
              "    </tr>\n",
              "  </thead>\n",
              "  <tbody>\n",
              "    <tr>\n",
              "      <th>0</th>\n",
              "      <td>124.jpg</td>\n",
              "      <td>Normal</td>\n",
              "      <td>0</td>\n",
              "    </tr>\n",
              "    <tr>\n",
              "      <th>1</th>\n",
              "      <td>128.jpg</td>\n",
              "      <td>Normal</td>\n",
              "      <td>0</td>\n",
              "    </tr>\n",
              "    <tr>\n",
              "      <th>2</th>\n",
              "      <td>151.jpg</td>\n",
              "      <td>Normal</td>\n",
              "      <td>0</td>\n",
              "    </tr>\n",
              "  </tbody>\n",
              "</table>\n",
              "</div>\n",
              "      <button class=\"colab-df-convert\" onclick=\"convertToInteractive('df-b29d3241-750b-496f-b9a2-1363baca68ab')\"\n",
              "              title=\"Convert this dataframe to an interactive table.\"\n",
              "              style=\"display:none;\">\n",
              "        \n",
              "  <svg xmlns=\"http://www.w3.org/2000/svg\" height=\"24px\"viewBox=\"0 0 24 24\"\n",
              "       width=\"24px\">\n",
              "    <path d=\"M0 0h24v24H0V0z\" fill=\"none\"/>\n",
              "    <path d=\"M18.56 5.44l.94 2.06.94-2.06 2.06-.94-2.06-.94-.94-2.06-.94 2.06-2.06.94zm-11 1L8.5 8.5l.94-2.06 2.06-.94-2.06-.94L8.5 2.5l-.94 2.06-2.06.94zm10 10l.94 2.06.94-2.06 2.06-.94-2.06-.94-.94-2.06-.94 2.06-2.06.94z\"/><path d=\"M17.41 7.96l-1.37-1.37c-.4-.4-.92-.59-1.43-.59-.52 0-1.04.2-1.43.59L10.3 9.45l-7.72 7.72c-.78.78-.78 2.05 0 2.83L4 21.41c.39.39.9.59 1.41.59.51 0 1.02-.2 1.41-.59l7.78-7.78 2.81-2.81c.8-.78.8-2.07 0-2.86zM5.41 20L4 18.59l7.72-7.72 1.47 1.35L5.41 20z\"/>\n",
              "  </svg>\n",
              "      </button>\n",
              "      \n",
              "  <style>\n",
              "    .colab-df-container {\n",
              "      display:flex;\n",
              "      flex-wrap:wrap;\n",
              "      gap: 12px;\n",
              "    }\n",
              "\n",
              "    .colab-df-convert {\n",
              "      background-color: #E8F0FE;\n",
              "      border: none;\n",
              "      border-radius: 50%;\n",
              "      cursor: pointer;\n",
              "      display: none;\n",
              "      fill: #1967D2;\n",
              "      height: 32px;\n",
              "      padding: 0 0 0 0;\n",
              "      width: 32px;\n",
              "    }\n",
              "\n",
              "    .colab-df-convert:hover {\n",
              "      background-color: #E2EBFA;\n",
              "      box-shadow: 0px 1px 2px rgba(60, 64, 67, 0.3), 0px 1px 3px 1px rgba(60, 64, 67, 0.15);\n",
              "      fill: #174EA6;\n",
              "    }\n",
              "\n",
              "    [theme=dark] .colab-df-convert {\n",
              "      background-color: #3B4455;\n",
              "      fill: #D2E3FC;\n",
              "    }\n",
              "\n",
              "    [theme=dark] .colab-df-convert:hover {\n",
              "      background-color: #434B5C;\n",
              "      box-shadow: 0px 1px 3px 1px rgba(0, 0, 0, 0.15);\n",
              "      filter: drop-shadow(0px 1px 2px rgba(0, 0, 0, 0.3));\n",
              "      fill: #FFFFFF;\n",
              "    }\n",
              "  </style>\n",
              "\n",
              "      <script>\n",
              "        const buttonEl =\n",
              "          document.querySelector('#df-b29d3241-750b-496f-b9a2-1363baca68ab button.colab-df-convert');\n",
              "        buttonEl.style.display =\n",
              "          google.colab.kernel.accessAllowed ? 'block' : 'none';\n",
              "\n",
              "        async function convertToInteractive(key) {\n",
              "          const element = document.querySelector('#df-b29d3241-750b-496f-b9a2-1363baca68ab');\n",
              "          const dataTable =\n",
              "            await google.colab.kernel.invokeFunction('convertToInteractive',\n",
              "                                                     [key], {});\n",
              "          if (!dataTable) return;\n",
              "\n",
              "          const docLinkHtml = 'Like what you see? Visit the ' +\n",
              "            '<a target=\"_blank\" href=https://colab.research.google.com/notebooks/data_table.ipynb>data table notebook</a>'\n",
              "            + ' to learn more about interactive tables.';\n",
              "          element.innerHTML = '';\n",
              "          dataTable['output_type'] = 'display_data';\n",
              "          await google.colab.output.renderOutput(dataTable, element);\n",
              "          const docLink = document.createElement('div');\n",
              "          docLink.innerHTML = docLinkHtml;\n",
              "          element.appendChild(docLink);\n",
              "        }\n",
              "      </script>\n",
              "    </div>\n",
              "  </div>\n",
              "  "
            ],
            "text/plain": [
              "  ImageName NameType  NumberType\n",
              "0   124.jpg   Normal           0\n",
              "1   128.jpg   Normal           0\n",
              "2   151.jpg   Normal           0"
            ]
          },
          "metadata": {},
          "execution_count": 9
        }
      ]
    },
    {
      "cell_type": "code",
      "source": [
        "data_train3 = pd.concat([tnormal, ttuberculosis, tlungcancer])\n",
        "data_train3[-3:]"
      ],
      "metadata": {
        "id": "bgArCw5jnwg2",
        "outputId": "3baa931b-055d-40a4-b62a-7197f8d1f906",
        "colab": {
          "base_uri": "https://localhost:8080/",
          "height": 143
        }
      },
      "execution_count": 10,
      "outputs": [
        {
          "output_type": "execute_result",
          "data": {
            "text/html": [
              "\n",
              "  <div id=\"df-762aa44a-af88-4089-adf0-f4f99251bacb\">\n",
              "    <div class=\"colab-df-container\">\n",
              "      <div>\n",
              "<style scoped>\n",
              "    .dataframe tbody tr th:only-of-type {\n",
              "        vertical-align: middle;\n",
              "    }\n",
              "\n",
              "    .dataframe tbody tr th {\n",
              "        vertical-align: top;\n",
              "    }\n",
              "\n",
              "    .dataframe thead th {\n",
              "        text-align: right;\n",
              "    }\n",
              "</style>\n",
              "<table border=\"1\" class=\"dataframe\">\n",
              "  <thead>\n",
              "    <tr style=\"text-align: right;\">\n",
              "      <th></th>\n",
              "      <th>ImageName</th>\n",
              "      <th>NameType</th>\n",
              "      <th>NumberType</th>\n",
              "    </tr>\n",
              "  </thead>\n",
              "  <tbody>\n",
              "    <tr>\n",
              "      <th>147</th>\n",
              "      <td>ca26.jpg</td>\n",
              "      <td>Lungcancer</td>\n",
              "      <td>2</td>\n",
              "    </tr>\n",
              "    <tr>\n",
              "      <th>148</th>\n",
              "      <td>ca7.jpg</td>\n",
              "      <td>Lungcancer</td>\n",
              "      <td>2</td>\n",
              "    </tr>\n",
              "    <tr>\n",
              "      <th>149</th>\n",
              "      <td>ca8.jpg</td>\n",
              "      <td>Lungcancer</td>\n",
              "      <td>2</td>\n",
              "    </tr>\n",
              "  </tbody>\n",
              "</table>\n",
              "</div>\n",
              "      <button class=\"colab-df-convert\" onclick=\"convertToInteractive('df-762aa44a-af88-4089-adf0-f4f99251bacb')\"\n",
              "              title=\"Convert this dataframe to an interactive table.\"\n",
              "              style=\"display:none;\">\n",
              "        \n",
              "  <svg xmlns=\"http://www.w3.org/2000/svg\" height=\"24px\"viewBox=\"0 0 24 24\"\n",
              "       width=\"24px\">\n",
              "    <path d=\"M0 0h24v24H0V0z\" fill=\"none\"/>\n",
              "    <path d=\"M18.56 5.44l.94 2.06.94-2.06 2.06-.94-2.06-.94-.94-2.06-.94 2.06-2.06.94zm-11 1L8.5 8.5l.94-2.06 2.06-.94-2.06-.94L8.5 2.5l-.94 2.06-2.06.94zm10 10l.94 2.06.94-2.06 2.06-.94-2.06-.94-.94-2.06-.94 2.06-2.06.94z\"/><path d=\"M17.41 7.96l-1.37-1.37c-.4-.4-.92-.59-1.43-.59-.52 0-1.04.2-1.43.59L10.3 9.45l-7.72 7.72c-.78.78-.78 2.05 0 2.83L4 21.41c.39.39.9.59 1.41.59.51 0 1.02-.2 1.41-.59l7.78-7.78 2.81-2.81c.8-.78.8-2.07 0-2.86zM5.41 20L4 18.59l7.72-7.72 1.47 1.35L5.41 20z\"/>\n",
              "  </svg>\n",
              "      </button>\n",
              "      \n",
              "  <style>\n",
              "    .colab-df-container {\n",
              "      display:flex;\n",
              "      flex-wrap:wrap;\n",
              "      gap: 12px;\n",
              "    }\n",
              "\n",
              "    .colab-df-convert {\n",
              "      background-color: #E8F0FE;\n",
              "      border: none;\n",
              "      border-radius: 50%;\n",
              "      cursor: pointer;\n",
              "      display: none;\n",
              "      fill: #1967D2;\n",
              "      height: 32px;\n",
              "      padding: 0 0 0 0;\n",
              "      width: 32px;\n",
              "    }\n",
              "\n",
              "    .colab-df-convert:hover {\n",
              "      background-color: #E2EBFA;\n",
              "      box-shadow: 0px 1px 2px rgba(60, 64, 67, 0.3), 0px 1px 3px 1px rgba(60, 64, 67, 0.15);\n",
              "      fill: #174EA6;\n",
              "    }\n",
              "\n",
              "    [theme=dark] .colab-df-convert {\n",
              "      background-color: #3B4455;\n",
              "      fill: #D2E3FC;\n",
              "    }\n",
              "\n",
              "    [theme=dark] .colab-df-convert:hover {\n",
              "      background-color: #434B5C;\n",
              "      box-shadow: 0px 1px 3px 1px rgba(0, 0, 0, 0.15);\n",
              "      filter: drop-shadow(0px 1px 2px rgba(0, 0, 0, 0.3));\n",
              "      fill: #FFFFFF;\n",
              "    }\n",
              "  </style>\n",
              "\n",
              "      <script>\n",
              "        const buttonEl =\n",
              "          document.querySelector('#df-762aa44a-af88-4089-adf0-f4f99251bacb button.colab-df-convert');\n",
              "        buttonEl.style.display =\n",
              "          google.colab.kernel.accessAllowed ? 'block' : 'none';\n",
              "\n",
              "        async function convertToInteractive(key) {\n",
              "          const element = document.querySelector('#df-762aa44a-af88-4089-adf0-f4f99251bacb');\n",
              "          const dataTable =\n",
              "            await google.colab.kernel.invokeFunction('convertToInteractive',\n",
              "                                                     [key], {});\n",
              "          if (!dataTable) return;\n",
              "\n",
              "          const docLinkHtml = 'Like what you see? Visit the ' +\n",
              "            '<a target=\"_blank\" href=https://colab.research.google.com/notebooks/data_table.ipynb>data table notebook</a>'\n",
              "            + ' to learn more about interactive tables.';\n",
              "          element.innerHTML = '';\n",
              "          dataTable['output_type'] = 'display_data';\n",
              "          await google.colab.output.renderOutput(dataTable, element);\n",
              "          const docLink = document.createElement('div');\n",
              "          docLink.innerHTML = docLinkHtml;\n",
              "          element.appendChild(docLink);\n",
              "        }\n",
              "      </script>\n",
              "    </div>\n",
              "  </div>\n",
              "  "
            ],
            "text/plain": [
              "    ImageName    NameType  NumberType\n",
              "147  ca26.jpg  Lungcancer           2\n",
              "148   ca7.jpg  Lungcancer           2\n",
              "149   ca8.jpg  Lungcancer           2"
            ]
          },
          "metadata": {},
          "execution_count": 10
        }
      ]
    },
    {
      "cell_type": "markdown",
      "source": [
        "# 2 class\n",
        "*   #1 output 1 มิติ  ความน่าจะเป็น นำมาแปลง 0,1\n",
        "*   #2 output 2 มิติ  ความน่าจะเป็นที่จะเป็นคลาส 0 หรือ 1 \n",
        "\n"
      ],
      "metadata": {
        "id": "v7v_mA7BaXnU"
      }
    },
    {
      "cell_type": "code",
      "source": [
        "train_img_NorTB = []\n",
        "for ImageName in tqdm(data_train2['ImageName']):               # รัน ชื่อรูป ในไฟล์ data_test2\n",
        "    image_path = All_3class_dir +'/' + ImageName                          # ดึงรูปในโฟล์เดอร์มาทีละรูป\n",
        "    img = cv2.imread(image_path)                                            # อ่านรูป\n",
        "    img = cv2.resize(img, (224, 224))\n",
        "    train_img_NorTB.append(img)"
      ],
      "metadata": {
        "id": "kIe-kLDTgdtg",
        "outputId": "0688bd6a-2e82-46fc-a244-6017efddd450",
        "colab": {
          "base_uri": "https://localhost:8080/"
        }
      },
      "execution_count": 11,
      "outputs": [
        {
          "output_type": "stream",
          "name": "stderr",
          "text": [
            "100%|██████████| 301/301 [02:49<00:00,  1.77it/s]\n"
          ]
        }
      ]
    },
    {
      "cell_type": "markdown",
      "source": [
        "## 2) output 2 มิติ : ค่า predict คือ ความน่าจะเป็น 2 ค่า \n",
        "(ความน่าจะเป็นที่จะเป็นคลาส 0 และ 1)"
      ],
      "metadata": {
        "id": "Zea960kXsd-6"
      }
    },
    {
      "cell_type": "code",
      "source": [
        "data2_2 = np.array(train_img_NorTB, dtype=\"float32\") / 255.0 "
      ],
      "metadata": {
        "id": "pDyx119XZih9"
      },
      "execution_count": 12,
      "outputs": []
    },
    {
      "cell_type": "code",
      "source": [
        "labels2_2 = np.array(data_train2[['NameType']] )            # Y  มี  d=2  (301, 1)\n",
        "labels2_2.shape = (len(labels2_2),)                                # Y  มี  d=1  (301, )\n",
        "\n",
        "le2_2 = LabelEncoder()                                                     # จะแปลงชื่อ class เป็นตัวเลข\n",
        "labels2_2 = le2_2.fit_transform(labels2_2)                          # Y  มี  d=1  (301,)\n",
        "\n",
        "labels2_2 = to_categorical(labels2_2, num_classes=2)    # แปลงเป็นเลข ดัมมี่ (1เป็น 1,0 ----- 0 เป็น  0,1)\n",
        "                                                                                 # Y  มี  d=2  (301, 2)    \n",
        "(trainX2_2, testX2_2, trainY2_2, testY2_2 ) = train_test_split(data2_2, labels2_2,\n",
        "\t                                                            test_size=0.25, random_state=40)"
      ],
      "metadata": {
        "id": "sRRAXo473l4A"
      },
      "execution_count": 13,
      "outputs": []
    },
    {
      "cell_type": "code",
      "source": [
        "le2_2.classes_                  # มีค่า ['Normal', 'Tuberculosis']"
      ],
      "metadata": {
        "colab": {
          "base_uri": "https://localhost:8080/"
        },
        "id": "T2FUC7cYZ8d2",
        "outputId": "967c3114-6c6a-452b-80b6-3b2e7414017b"
      },
      "execution_count": 14,
      "outputs": [
        {
          "output_type": "execute_result",
          "data": {
            "text/plain": [
              "array(['Normal', 'Tuberculosis'], dtype=object)"
            ]
          },
          "metadata": {},
          "execution_count": 14
        }
      ]
    },
    {
      "cell_type": "markdown",
      "source": [
        "### train2_2"
      ],
      "metadata": {
        "id": "kkSv0-7hsd-9"
      }
    },
    {
      "cell_type": "code",
      "source": [
        "INIT_LR = 1e-1\n",
        "BS = 8\n",
        "EPOCHS = 50"
      ],
      "metadata": {
        "id": "8Uc13IIdsd--"
      },
      "execution_count": 15,
      "outputs": []
    },
    {
      "cell_type": "code",
      "source": [
        "aug = ImageDataGenerator(\n",
        "\t\trotation_range=20,\n",
        "\t\tzoom_range=0.25,\n",
        "\t\twidth_shift_range=0.25,\n",
        "\t\theight_shift_range=0.25,\n",
        "\t\tshear_range=0.25,\n",
        "\t\thorizontal_flip=True,\n",
        "\t\tfill_mode=\"nearest\")"
      ],
      "metadata": {
        "id": "V4YjAyIosd-_"
      },
      "execution_count": 16,
      "outputs": []
    },
    {
      "cell_type": "markdown",
      "source": [
        "DenseNet201"
      ],
      "metadata": {
        "id": "UU230_Txsd-_"
      }
    },
    {
      "cell_type": "code",
      "source": [
        "base_model2_2 = tf.keras.applications.DenseNet201(input_shape=(224, 224, 3), include_top=False, weights=\"imagenet\")"
      ],
      "metadata": {
        "id": "UNqxGeyBsd-_",
        "colab": {
          "base_uri": "https://localhost:8080/"
        },
        "outputId": "4231de39-8e5a-4686-ede1-4baeea6de6ce"
      },
      "execution_count": 17,
      "outputs": [
        {
          "output_type": "stream",
          "name": "stdout",
          "text": [
            "Downloading data from https://storage.googleapis.com/tensorflow/keras-applications/densenet/densenet201_weights_tf_dim_ordering_tf_kernels_notop.h5\n",
            "74842112/74836368 [==============================] - 1s 0us/step\n",
            "74850304/74836368 [==============================] - 1s 0us/step\n"
          ]
        }
      ]
    },
    {
      "cell_type": "code",
      "source": [
        "base_model2_2.trainable=False\n",
        "\n",
        "#Add custom head\n",
        "average_pooling_layer = tf.keras.layers.GlobalAveragePooling2D()(base_model2_2.output)\n",
        "prediction_layer = tf.keras.layers.Dense(units=2, activation=\"sigmoid\")(average_pooling_layer)   # ลองแก้ unit จาก 1 เป็น 2\n",
        "model2_2 = tf.keras.models.Model(inputs=base_model2_2.input, outputs=prediction_layer)"
      ],
      "metadata": {
        "id": "9vjoepVTsd_A"
      },
      "execution_count": 18,
      "outputs": []
    },
    {
      "cell_type": "code",
      "source": [
        "model2_2.compile(optimizer=tf.keras.optimizers.RMSprop(learning_rate=0.0001), loss=\"binary_crossentropy\", metrics=[\"accuracy\"])"
      ],
      "metadata": {
        "id": "Y9Ygbeu8sd_A"
      },
      "execution_count": 19,
      "outputs": []
    },
    {
      "cell_type": "code",
      "source": [
        "callback = tf.keras.callbacks.EarlyStopping(\n",
        "    monitor=\"val_accuracy\",\n",
        "    patience=5,\n",
        "    mode=\"max\"   )"
      ],
      "metadata": {
        "id": "tbT5xMPHYkoI"
      },
      "execution_count": 20,
      "outputs": []
    },
    {
      "cell_type": "code",
      "source": [
        "H2_2 = model2_2.fit(\n",
        "\tx=aug.flow(trainX2_2, trainY2_2, batch_size=BS),\n",
        "\tvalidation_data=(testX2_2, testY2_2),\n",
        "\tsteps_per_epoch=len(trainX2_2) // BS,\n",
        "\tepochs=30, callbacks=[callback])"
      ],
      "metadata": {
        "outputId": "9c3084c2-7336-4ea5-a693-99f2801a06b5",
        "colab": {
          "base_uri": "https://localhost:8080/"
        },
        "id": "gg4K5eS6sd_B"
      },
      "execution_count": 21,
      "outputs": [
        {
          "output_type": "stream",
          "name": "stdout",
          "text": [
            "Epoch 1/30\n",
            "28/28 [==============================] - 78s 2s/step - loss: 0.7507 - accuracy: 0.4470 - val_loss: 0.7492 - val_accuracy: 0.4211\n",
            "Epoch 2/30\n",
            "28/28 [==============================] - 67s 2s/step - loss: 0.7138 - accuracy: 0.5438 - val_loss: 0.7343 - val_accuracy: 0.4605\n",
            "Epoch 3/30\n",
            "28/28 [==============================] - 67s 2s/step - loss: 0.6849 - accuracy: 0.5853 - val_loss: 0.7212 - val_accuracy: 0.5132\n",
            "Epoch 4/30\n",
            "28/28 [==============================] - 68s 2s/step - loss: 0.6933 - accuracy: 0.5991 - val_loss: 0.7026 - val_accuracy: 0.5526\n",
            "Epoch 5/30\n",
            "28/28 [==============================] - 70s 3s/step - loss: 0.6877 - accuracy: 0.5714 - val_loss: 0.6874 - val_accuracy: 0.5658\n",
            "Epoch 6/30\n",
            "28/28 [==============================] - 71s 3s/step - loss: 0.6594 - accuracy: 0.6866 - val_loss: 0.6804 - val_accuracy: 0.5789\n",
            "Epoch 7/30\n",
            "28/28 [==============================] - 69s 2s/step - loss: 0.6485 - accuracy: 0.6728 - val_loss: 0.6605 - val_accuracy: 0.6447\n",
            "Epoch 8/30\n",
            "28/28 [==============================] - 68s 2s/step - loss: 0.6299 - accuracy: 0.7235 - val_loss: 0.6491 - val_accuracy: 0.6316\n",
            "Epoch 9/30\n",
            "28/28 [==============================] - 73s 3s/step - loss: 0.6288 - accuracy: 0.6959 - val_loss: 0.6374 - val_accuracy: 0.6447\n",
            "Epoch 10/30\n",
            "28/28 [==============================] - 75s 3s/step - loss: 0.6161 - accuracy: 0.7512 - val_loss: 0.6269 - val_accuracy: 0.6842\n",
            "Epoch 11/30\n",
            "28/28 [==============================] - 81s 3s/step - loss: 0.6032 - accuracy: 0.7604 - val_loss: 0.6133 - val_accuracy: 0.7895\n",
            "Epoch 12/30\n",
            "28/28 [==============================] - 75s 3s/step - loss: 0.6060 - accuracy: 0.7604 - val_loss: 0.6049 - val_accuracy: 0.7632\n",
            "Epoch 13/30\n",
            "28/28 [==============================] - 74s 3s/step - loss: 0.5786 - accuracy: 0.7972 - val_loss: 0.5942 - val_accuracy: 0.8289\n",
            "Epoch 14/30\n",
            "28/28 [==============================] - 74s 3s/step - loss: 0.5734 - accuracy: 0.7880 - val_loss: 0.5833 - val_accuracy: 0.8553\n",
            "Epoch 15/30\n",
            "28/28 [==============================] - 76s 3s/step - loss: 0.5703 - accuracy: 0.7834 - val_loss: 0.5734 - val_accuracy: 0.8553\n",
            "Epoch 16/30\n",
            "28/28 [==============================] - 75s 3s/step - loss: 0.5540 - accuracy: 0.8157 - val_loss: 0.5635 - val_accuracy: 0.8816\n",
            "Epoch 17/30\n",
            "28/28 [==============================] - 76s 3s/step - loss: 0.5465 - accuracy: 0.8065 - val_loss: 0.5574 - val_accuracy: 0.8947\n",
            "Epoch 18/30\n",
            "28/28 [==============================] - 76s 3s/step - loss: 0.5389 - accuracy: 0.8157 - val_loss: 0.5466 - val_accuracy: 0.9079\n",
            "Epoch 19/30\n",
            "28/28 [==============================] - 77s 3s/step - loss: 0.5132 - accuracy: 0.8479 - val_loss: 0.5356 - val_accuracy: 0.9079\n",
            "Epoch 20/30\n",
            "28/28 [==============================] - 77s 3s/step - loss: 0.5182 - accuracy: 0.8249 - val_loss: 0.5267 - val_accuracy: 0.8289\n",
            "Epoch 21/30\n",
            "28/28 [==============================] - 75s 3s/step - loss: 0.5191 - accuracy: 0.8111 - val_loss: 0.5173 - val_accuracy: 0.8947\n",
            "Epoch 22/30\n",
            "28/28 [==============================] - 76s 3s/step - loss: 0.4933 - accuracy: 0.8618 - val_loss: 0.5110 - val_accuracy: 0.8289\n",
            "Epoch 23/30\n",
            "28/28 [==============================] - 76s 3s/step - loss: 0.5004 - accuracy: 0.8341 - val_loss: 0.5032 - val_accuracy: 0.8289\n"
          ]
        }
      ]
    },
    {
      "cell_type": "markdown",
      "source": [
        "### test"
      ],
      "metadata": {
        "id": "fvuAsy6ksd_B"
      }
    },
    {
      "cell_type": "code",
      "source": [
        "predictions2_2 = model2_2.predict(testX2_2, batch_size=BS)"
      ],
      "metadata": {
        "id": "VsRLX4aTsd_C"
      },
      "execution_count": 22,
      "outputs": []
    },
    {
      "cell_type": "code",
      "source": [
        "predictions2_2.ndim"
      ],
      "metadata": {
        "colab": {
          "base_uri": "https://localhost:8080/"
        },
        "outputId": "4f54d947-f109-4f36-b566-7ed27db90f9b",
        "id": "gxecDtR5sd_C"
      },
      "execution_count": 23,
      "outputs": [
        {
          "output_type": "execute_result",
          "data": {
            "text/plain": [
              "2"
            ]
          },
          "metadata": {},
          "execution_count": 23
        }
      ]
    },
    {
      "cell_type": "code",
      "source": [
        "predictions2_2[:5]"
      ],
      "metadata": {
        "outputId": "b4af0b91-9b60-4d9d-9f0a-b478e9bef012",
        "colab": {
          "base_uri": "https://localhost:8080/"
        },
        "id": "Sla_lkDnsd_C"
      },
      "execution_count": 24,
      "outputs": [
        {
          "output_type": "execute_result",
          "data": {
            "text/plain": [
              "array([[0.747986  , 0.4587629 ],\n",
              "       [0.71529895, 0.37289017],\n",
              "       [0.2162846 , 0.7339208 ],\n",
              "       [0.42456186, 0.3854583 ],\n",
              "       [0.5317864 , 0.5034192 ]], dtype=float32)"
            ]
          },
          "metadata": {},
          "execution_count": 24
        }
      ]
    },
    {
      "cell_type": "code",
      "source": [
        "print(classification_report(testY2_2.argmax(axis=1),\t\n",
        "                            predictions2_2.argmax(axis=1),  \n",
        "\t\t\t\t\t\t\ttarget_names=le2_2.classes_ ))"
      ],
      "metadata": {
        "id": "bcpQz7bAsd_C",
        "outputId": "c2e12957-5eb9-442b-deeb-f4990298d47b",
        "colab": {
          "base_uri": "https://localhost:8080/"
        }
      },
      "execution_count": 25,
      "outputs": [
        {
          "output_type": "stream",
          "name": "stdout",
          "text": [
            "              precision    recall  f1-score   support\n",
            "\n",
            "      Normal       0.78      0.95      0.85        40\n",
            "Tuberculosis       0.93      0.69      0.79        36\n",
            "\n",
            "    accuracy                           0.83        76\n",
            "   macro avg       0.85      0.82      0.82        76\n",
            "weighted avg       0.85      0.83      0.83        76\n",
            "\n"
          ]
        }
      ]
    },
    {
      "cell_type": "code",
      "source": [
        "confusion_matrix(testY2_2.argmax(axis=1),\t\n",
        "                        predictions2_2.argmax(axis=1) )"
      ],
      "metadata": {
        "colab": {
          "base_uri": "https://localhost:8080/"
        },
        "outputId": "e55bfd12-c61b-4199-d8b4-84f46eb53f59",
        "id": "VuFzRhN0XgZl"
      },
      "execution_count": 26,
      "outputs": [
        {
          "output_type": "execute_result",
          "data": {
            "text/plain": [
              "array([[38,  2],\n",
              "       [11, 25]])"
            ]
          },
          "metadata": {},
          "execution_count": 26
        }
      ]
    },
    {
      "cell_type": "code",
      "source": [
        ""
      ],
      "metadata": {
        "id": "f0K0y9SgXYbJ"
      },
      "execution_count": 26,
      "outputs": []
    },
    {
      "cell_type": "markdown",
      "source": [
        "## Fine tuning"
      ],
      "metadata": {
        "id": "NJr8f8hoIw4-"
      }
    },
    {
      "cell_type": "code",
      "source": [
        "len(base_model2_2.layers)"
      ],
      "metadata": {
        "id": "IHSmrRksYSCl",
        "colab": {
          "base_uri": "https://localhost:8080/"
        },
        "outputId": "aa714cc0-5b28-4e0b-a685-5d1bb80fbb80"
      },
      "execution_count": 27,
      "outputs": [
        {
          "output_type": "execute_result",
          "data": {
            "text/plain": [
              "707"
            ]
          },
          "metadata": {},
          "execution_count": 27
        }
      ]
    },
    {
      "cell_type": "code",
      "source": [
        "base_model2_2.trainable = True\n",
        "for layer in base_model2_2.layers[:300]:    #fix w & bias in layer 0-300\n",
        "    layer.trainable = False"
      ],
      "metadata": {
        "id": "gi0d5hrAOzka"
      },
      "execution_count": 28,
      "outputs": []
    },
    {
      "cell_type": "code",
      "source": [
        "model2_2.compile(optimizer=tf.keras.optimizers.RMSprop(learning_rate=0.0001),\n",
        "              loss=\"binary_crossentropy\", metrics=[\"accuracy\"])"
      ],
      "metadata": {
        "id": "IuciYoJoOzka"
      },
      "execution_count": 29,
      "outputs": []
    },
    {
      "cell_type": "code",
      "source": [
        "H2_2Finetune = model2_2.fit(\n",
        "\tx=aug.flow(trainX2_2, trainY2_2, batch_size=BS),\n",
        "\tvalidation_data=(testX2_2, testY2_2),\n",
        "\tsteps_per_epoch=len(trainX2_2) // BS,\n",
        "\tepochs=30, callbacks=[callback])"
      ],
      "metadata": {
        "colab": {
          "base_uri": "https://localhost:8080/"
        },
        "outputId": "6b8a485f-1fb7-43ef-e210-8f141e65e125",
        "id": "jQJRFgFpOzkb"
      },
      "execution_count": 30,
      "outputs": [
        {
          "output_type": "stream",
          "name": "stdout",
          "text": [
            "Epoch 1/30\n",
            "28/28 [==============================] - 218s 7s/step - loss: 0.4655 - accuracy: 0.7834 - val_loss: 0.3731 - val_accuracy: 0.8289\n",
            "Epoch 2/30\n",
            "28/28 [==============================] - 173s 6s/step - loss: 0.2300 - accuracy: 0.9124 - val_loss: 0.4488 - val_accuracy: 0.7895\n",
            "Epoch 3/30\n",
            "28/28 [==============================] - 135s 5s/step - loss: 0.2837 - accuracy: 0.8848 - val_loss: 0.1586 - val_accuracy: 0.9737\n",
            "Epoch 4/30\n",
            "28/28 [==============================] - 134s 5s/step - loss: 0.2891 - accuracy: 0.8710 - val_loss: 0.2973 - val_accuracy: 0.8816\n",
            "Epoch 5/30\n",
            "28/28 [==============================] - 134s 5s/step - loss: 0.2273 - accuracy: 0.9124 - val_loss: 0.3212 - val_accuracy: 0.8947\n",
            "Epoch 6/30\n",
            "28/28 [==============================] - 134s 5s/step - loss: 0.1430 - accuracy: 0.9401 - val_loss: 0.2052 - val_accuracy: 0.9474\n",
            "Epoch 7/30\n",
            "28/28 [==============================] - 134s 5s/step - loss: 0.1726 - accuracy: 0.9585 - val_loss: 0.1322 - val_accuracy: 0.9605\n",
            "Epoch 8/30\n",
            "28/28 [==============================] - 134s 5s/step - loss: 0.1957 - accuracy: 0.9217 - val_loss: 0.4934 - val_accuracy: 0.8026\n"
          ]
        }
      ]
    },
    {
      "cell_type": "code",
      "source": [
        ""
      ],
      "metadata": {
        "id": "Yn3dfYsSOwxr"
      },
      "execution_count": 30,
      "outputs": []
    },
    {
      "cell_type": "markdown",
      "source": [
        "###  Fine tuning test"
      ],
      "metadata": {
        "id": "_2rKok3bK9bR"
      }
    },
    {
      "cell_type": "code",
      "source": [
        "predictions2_2 = model2_2.predict(testX2_2, batch_size=BS)"
      ],
      "metadata": {
        "id": "ZtqZ4MWIK9bR"
      },
      "execution_count": 31,
      "outputs": []
    },
    {
      "cell_type": "code",
      "source": [
        "predictions2_2.ndim"
      ],
      "metadata": {
        "colab": {
          "base_uri": "https://localhost:8080/"
        },
        "outputId": "9221d052-7001-496f-e3b1-0d682febf6dd",
        "id": "ARj5TBfnK9bS"
      },
      "execution_count": 32,
      "outputs": [
        {
          "output_type": "execute_result",
          "data": {
            "text/plain": [
              "2"
            ]
          },
          "metadata": {},
          "execution_count": 32
        }
      ]
    },
    {
      "cell_type": "code",
      "source": [
        "predictions2_2[:5]"
      ],
      "metadata": {
        "outputId": "0349f48a-f4dc-4d09-ed86-a5d83102b64d",
        "colab": {
          "base_uri": "https://localhost:8080/"
        },
        "id": "2CxPlbX4K9bS"
      },
      "execution_count": 33,
      "outputs": [
        {
          "output_type": "execute_result",
          "data": {
            "text/plain": [
              "array([[9.9902034e-01, 8.6322427e-04],\n",
              "       [9.9992716e-01, 1.1755234e-04],\n",
              "       [9.3636692e-02, 9.1446686e-01],\n",
              "       [8.0407238e-01, 1.0624474e-01],\n",
              "       [9.1175961e-01, 1.1564425e-01]], dtype=float32)"
            ]
          },
          "metadata": {},
          "execution_count": 33
        }
      ]
    },
    {
      "cell_type": "code",
      "source": [
        "print(classification_report(testY2_2.argmax(axis=1),\t\n",
        "                            predictions2_2.argmax(axis=1),  \n",
        "\t\t\t\t\t\t\ttarget_names=le2_2.classes_ ))"
      ],
      "metadata": {
        "outputId": "d792a2d8-4b30-4a97-fccd-5991cf0b5ea3",
        "colab": {
          "base_uri": "https://localhost:8080/"
        },
        "id": "V5TeBZrWK9bS"
      },
      "execution_count": 34,
      "outputs": [
        {
          "output_type": "stream",
          "name": "stdout",
          "text": [
            "              precision    recall  f1-score   support\n",
            "\n",
            "      Normal       0.73      1.00      0.84        40\n",
            "Tuberculosis       1.00      0.58      0.74        36\n",
            "\n",
            "    accuracy                           0.80        76\n",
            "   macro avg       0.86      0.79      0.79        76\n",
            "weighted avg       0.86      0.80      0.79        76\n",
            "\n"
          ]
        }
      ]
    },
    {
      "cell_type": "code",
      "source": [
        "confusion_matrix(testY2_2.argmax(axis=1),\t\n",
        "                        predictions2_2.argmax(axis=1) )"
      ],
      "metadata": {
        "colab": {
          "base_uri": "https://localhost:8080/"
        },
        "outputId": "968ef0b8-2134-4cc8-f6ef-dc283b66edd4",
        "id": "0D_g8qbsK9bT"
      },
      "execution_count": 35,
      "outputs": [
        {
          "output_type": "execute_result",
          "data": {
            "text/plain": [
              "array([[40,  0],\n",
              "       [15, 21]])"
            ]
          },
          "metadata": {},
          "execution_count": 35
        }
      ]
    },
    {
      "cell_type": "code",
      "source": [
        ""
      ],
      "metadata": {
        "id": "L0kdpYHlqdUW"
      },
      "execution_count": 35,
      "outputs": []
    },
    {
      "cell_type": "code",
      "source": [
        "#save model\n",
        "import pickle\n",
        "with open('model2_2.pkl', 'wb') as pickle_file:\n",
        "    pickle.dump(model2_2, pickle_file)"
      ],
      "metadata": {
        "colab": {
          "base_uri": "https://localhost:8080/"
        },
        "id": "VaY3mIaJnQKi",
        "outputId": "21286052-c956-483e-9b03-c301becaeb81"
      },
      "execution_count": 36,
      "outputs": [
        {
          "output_type": "stream",
          "name": "stdout",
          "text": [
            "INFO:tensorflow:Assets written to: ram://da8d22ca-763f-4e14-b1e4-7fe112022cd4/assets\n"
          ]
        }
      ]
    },
    {
      "cell_type": "code",
      "source": [
        "#load model\n",
        "import pickle\n",
        "with open('model2_2.pkl', 'rb') as pickle_file:\n",
        "    new_data = pickle.load(pickle_file)"
      ],
      "metadata": {
        "id": "s_Ca6KSVn513"
      },
      "execution_count": 37,
      "outputs": []
    },
    {
      "cell_type": "code",
      "source": [
        "predictions2_2test = new_data.predict(testX2_2, batch_size=BS)"
      ],
      "metadata": {
        "id": "PLklaNXznNh8"
      },
      "execution_count": 38,
      "outputs": []
    },
    {
      "cell_type": "code",
      "source": [
        "print(classification_report(testY2_2.argmax(axis=1),\t\n",
        "                            predictions2_2test.argmax(axis=1),  \n",
        "\t\t\t\t\t\t\ttarget_names=le2_2.classes_ ))"
      ],
      "metadata": {
        "colab": {
          "base_uri": "https://localhost:8080/"
        },
        "id": "ZJ-UbqNqnNcQ",
        "outputId": "5ee4be1d-3590-45aa-ddfb-5366c0684721"
      },
      "execution_count": 39,
      "outputs": [
        {
          "output_type": "stream",
          "name": "stdout",
          "text": [
            "              precision    recall  f1-score   support\n",
            "\n",
            "      Normal       0.73      1.00      0.84        40\n",
            "Tuberculosis       1.00      0.58      0.74        36\n",
            "\n",
            "    accuracy                           0.80        76\n",
            "   macro avg       0.86      0.79      0.79        76\n",
            "weighted avg       0.86      0.80      0.79        76\n",
            "\n"
          ]
        }
      ]
    },
    {
      "cell_type": "code",
      "source": [
        ""
      ],
      "metadata": {
        "id": "yhvKL9GYK9bT"
      },
      "execution_count": 39,
      "outputs": []
    },
    {
      "cell_type": "code",
      "source": [
        ""
      ],
      "metadata": {
        "id": "xL4WZQOo9b2z"
      },
      "execution_count": 39,
      "outputs": []
    },
    {
      "cell_type": "markdown",
      "source": [
        "# 3 class ==>  ***DenseNet201***"
      ],
      "metadata": {
        "id": "7BHymtmpac8d"
      }
    },
    {
      "cell_type": "code",
      "source": [
        "from tensorflow.keras.preprocessing.image import ImageDataGenerator, array_to_img, img_to_array, load_img"
      ],
      "metadata": {
        "id": "2wCg7cFDs_6o"
      },
      "execution_count": 61,
      "outputs": []
    },
    {
      "cell_type": "code",
      "source": [
        "train_img_NorTBCa2 = []\n",
        "for ImageName in tqdm(data_train3['ImageName']):                       # รัน ชื่อรูป ในไฟล์ data_test3\n",
        "    image_path = All_3class_dir +'/' + ImageName                          # ดึงรูปในโฟล์เดอร์มาทีละรูป\n",
        "    img = load_img( image_path )\n",
        "    img = img_to_array(img)\n",
        "    train_img_NorTBCa2.append(img)"
      ],
      "metadata": {
        "id": "t0JZ6EE7wMn8",
        "outputId": "29ed9297-3686-47e4-b123-1e1dce694c1f",
        "colab": {
          "base_uri": "https://localhost:8080/"
        }
      },
      "execution_count": 109,
      "outputs": [
        {
          "output_type": "stream",
          "name": "stderr",
          "text": [
            "100%|██████████| 451/451 [00:06<00:00, 69.40it/s] \n"
          ]
        }
      ]
    },
    {
      "cell_type": "code",
      "source": [
        "data3 = np.array(train_img_NorTBCa2 ) "
      ],
      "metadata": {
        "id": "6aQziymHxUpg",
        "outputId": "4575c1f8-2d2e-4c8a-8212-16baf60a88f6",
        "colab": {
          "base_uri": "https://localhost:8080/"
        }
      },
      "execution_count": 111,
      "outputs": [
        {
          "output_type": "stream",
          "name": "stderr",
          "text": [
            "/usr/local/lib/python3.7/dist-packages/ipykernel_launcher.py:1: VisibleDeprecationWarning: Creating an ndarray from ragged nested sequences (which is a list-or-tuple of lists-or-tuples-or ndarrays with different lengths or shapes) is deprecated. If you meant to do this, you must specify 'dtype=object' when creating the ndarray\n",
            "  \"\"\"Entry point for launching an IPython kernel.\n"
          ]
        }
      ]
    },
    {
      "cell_type": "markdown",
      "source": [
        "###แบ่งข้อมูล3"
      ],
      "metadata": {
        "id": "GCH9hU8Wa_E9"
      }
    },
    {
      "cell_type": "code",
      "source": [
        "train_img_NorTBCa = []\n",
        "for ImageName in tqdm(data_train3['ImageName']):               # รัน ชื่อรูป ในไฟล์ data_test3\n",
        "    image_path = All_3class_dir +'/' + ImageName                          # ดึงรูปในโฟล์เดอร์มาทีละรูป\n",
        "    img = cv2.imread(image_path)                                            # อ่านรูป\n",
        "    img = cv2.resize(img, (224, 224))                                   #ขนาดของ input\n",
        "    train_img_NorTBCa.append(img)"
      ],
      "metadata": {
        "id": "J5ue0ZeTAjmo"
      },
      "execution_count": null,
      "outputs": []
    },
    {
      "cell_type": "code",
      "source": [
        "labels3 = np.array(data_train3[['NameType']] )        \n",
        "labels3.shape = (len(labels3),) \n",
        "\n",
        "le3 = LabelEncoder()                                                                     \n",
        "labels3 = le3.fit_transform(labels3)                                         #จะแปลงชื่อ class เป็นตัวเลข 1, 2, 0 \n",
        "\n",
        "labels3 = to_categorical(labels3, num_classes=3)                   #shape (180, 3) มีค่าเป็น  [0., 1., 0.]  กับ   [0., 0., 1.] กับ  [1., 0., 0.]\n"
      ],
      "metadata": {
        "id": "lZnY6pzipbXQ"
      },
      "execution_count": 115,
      "outputs": []
    },
    {
      "cell_type": "code",
      "source": [
        "(trainX3, testX3, trainY3, testY3) = train_test_split(data3, labels3,\n",
        "\t                                               test_size=0.25, random_state=40)"
      ],
      "metadata": {
        "id": "Z9qSb9PfD9Xe"
      },
      "execution_count": 116,
      "outputs": []
    },
    {
      "cell_type": "code",
      "source": [
        "le3.classes_"
      ],
      "metadata": {
        "id": "uec5xR1kqHqN",
        "outputId": "ef7970df-9137-41e3-fb2f-d5c12d866d46",
        "colab": {
          "base_uri": "https://localhost:8080/"
        }
      },
      "execution_count": 117,
      "outputs": [
        {
          "output_type": "execute_result",
          "data": {
            "text/plain": [
              "array(['Lungcancer', 'Normal', 'Tuberculosis'], dtype=object)"
            ]
          },
          "metadata": {},
          "execution_count": 117
        }
      ]
    },
    {
      "cell_type": "code",
      "source": [
        ""
      ],
      "metadata": {
        "id": "qTEi55618qgE"
      },
      "execution_count": null,
      "outputs": []
    },
    {
      "cell_type": "code",
      "source": [
        "trainX3_2=[]\n",
        "for Ximg in trainX3:\n",
        "    img = cv2.resize(Ximg, (224, 224) )\n",
        "    trainX3.append(img)"
      ],
      "metadata": {
        "id": "76-3WPUDyjtT"
      },
      "execution_count": null,
      "outputs": []
    },
    {
      "cell_type": "code",
      "source": [
        ""
      ],
      "metadata": {
        "id": "M848uTOtyjp7"
      },
      "execution_count": null,
      "outputs": []
    },
    {
      "cell_type": "markdown",
      "source": [
        "## train3"
      ],
      "metadata": {
        "id": "0M1IoQ2wpbXS"
      }
    },
    {
      "cell_type": "code",
      "source": [
        "# initialize the initial learning rate, batch size, and number of\n",
        "# epochs to train for\n",
        "INIT_LR = 1e-1\n",
        "BS = 8\n",
        "EPOCHS = 50"
      ],
      "metadata": {
        "id": "kRCabH4zpbXS"
      },
      "execution_count": 85,
      "outputs": []
    },
    {
      "cell_type": "code",
      "source": [
        "# initialize an our data augmenter as an \"empty\" image data generator\n",
        "aug = ImageDataGenerator(\n",
        "\t\trotation_range=20,\n",
        "\t\tzoom_range=0.15,\n",
        "\t\twidth_shift_range=0.15,\n",
        "\t\theight_shift_range=0.15,\n",
        "\t\trescale=1./255,\n",
        "\t\tshear_range=0.15,\n",
        "\t\thorizontal_flip=True,\n",
        "\t\tfill_mode=\"nearest\")"
      ],
      "metadata": {
        "id": "K_s-d8kxpbXT"
      },
      "execution_count": 97,
      "outputs": []
    },
    {
      "cell_type": "markdown",
      "source": [
        "DenseNet201"
      ],
      "metadata": {
        "id": "CDGCk4mVpbXT"
      }
    },
    {
      "cell_type": "code",
      "source": [
        "base_model3 = tf.keras.applications.DenseNet201(input_shape=(224, 224, 3), include_top=False, weights=\"imagenet\")"
      ],
      "metadata": {
        "id": "UhzXMnm3pbXT"
      },
      "execution_count": 87,
      "outputs": []
    },
    {
      "cell_type": "code",
      "source": [
        "base_model3.trainable=False\n",
        "\n",
        "#Add custom head\n",
        "average_pooling_layer = tf.keras.layers.GlobalAveragePooling2D()(base_model3.output)\n",
        "prediction_layer = tf.keras.layers.Dense(units=3, activation=\"softmax\")(average_pooling_layer)   # unit 3\n",
        "model3 = tf.keras.models.Model(inputs=base_model3.input, outputs=prediction_layer)"
      ],
      "metadata": {
        "id": "XTNDU7eRpbXT"
      },
      "execution_count": 88,
      "outputs": []
    },
    {
      "cell_type": "code",
      "source": [
        "model3.compile(optimizer=tf.keras.optimizers.RMSprop(learning_rate=0.0001), loss=\"binary_crossentropy\", metrics=[\"accuracy\"])"
      ],
      "metadata": {
        "id": "y8xZmCoLpbXU"
      },
      "execution_count": 89,
      "outputs": []
    },
    {
      "cell_type": "code",
      "source": [
        "H3 = model3.fit(\n",
        "\tx=aug.flow(trainX3, trainY3, batch_size=BS),\n",
        "\tvalidation_data=(testX3, testY3),\n",
        "\tsteps_per_epoch=len(trainX3) // BS,\n",
        "\tepochs=10, callbacks=[callback])"
      ],
      "metadata": {
        "outputId": "4b4d6cf5-c810-435f-ad29-eb5a35f1436b",
        "colab": {
          "base_uri": "https://localhost:8080/",
          "height": 468
        },
        "id": "ExPYVKEZpbXU"
      },
      "execution_count": 119,
      "outputs": [
        {
          "output_type": "error",
          "ename": "ValueError",
          "evalue": "ignored",
          "traceback": [
            "\u001b[0;31m---------------------------------------------------------------------------\u001b[0m",
            "\u001b[0;31mTypeError\u001b[0m                                 Traceback (most recent call last)",
            "\u001b[0;31mTypeError\u001b[0m: only size-1 arrays can be converted to Python scalars",
            "\nThe above exception was the direct cause of the following exception:\n",
            "\u001b[0;31mValueError\u001b[0m                                Traceback (most recent call last)",
            "\u001b[0;32m<ipython-input-119-0e70c0bcf9fe>\u001b[0m in \u001b[0;36m<module>\u001b[0;34m()\u001b[0m\n\u001b[1;32m      1\u001b[0m H3 = model3.fit(\n\u001b[0;32m----> 2\u001b[0;31m         \u001b[0mx\u001b[0m\u001b[0;34m=\u001b[0m\u001b[0maug\u001b[0m\u001b[0;34m.\u001b[0m\u001b[0mflow\u001b[0m\u001b[0;34m(\u001b[0m\u001b[0mtrainX3\u001b[0m\u001b[0;34m,\u001b[0m \u001b[0mtrainY3\u001b[0m\u001b[0;34m,\u001b[0m \u001b[0mbatch_size\u001b[0m\u001b[0;34m=\u001b[0m\u001b[0mBS\u001b[0m\u001b[0;34m)\u001b[0m\u001b[0;34m,\u001b[0m\u001b[0;34m\u001b[0m\u001b[0;34m\u001b[0m\u001b[0m\n\u001b[0m\u001b[1;32m      3\u001b[0m         \u001b[0mvalidation_data\u001b[0m\u001b[0;34m=\u001b[0m\u001b[0;34m(\u001b[0m\u001b[0mtestX3\u001b[0m\u001b[0;34m,\u001b[0m \u001b[0mtestY3\u001b[0m\u001b[0;34m)\u001b[0m\u001b[0;34m,\u001b[0m\u001b[0;34m\u001b[0m\u001b[0;34m\u001b[0m\u001b[0m\n\u001b[1;32m      4\u001b[0m         \u001b[0msteps_per_epoch\u001b[0m\u001b[0;34m=\u001b[0m\u001b[0mlen\u001b[0m\u001b[0;34m(\u001b[0m\u001b[0mtrainX3\u001b[0m\u001b[0;34m)\u001b[0m \u001b[0;34m//\u001b[0m \u001b[0mBS\u001b[0m\u001b[0;34m,\u001b[0m\u001b[0;34m\u001b[0m\u001b[0;34m\u001b[0m\u001b[0m\n\u001b[1;32m      5\u001b[0m \tepochs=10, callbacks=[callback])\n",
            "\u001b[0;32m/usr/local/lib/python3.7/dist-packages/keras/preprocessing/image.py\u001b[0m in \u001b[0;36mflow\u001b[0;34m(self, x, y, batch_size, shuffle, sample_weight, seed, save_to_dir, save_prefix, save_format, subset)\u001b[0m\n\u001b[1;32m    894\u001b[0m         \u001b[0msave_prefix\u001b[0m\u001b[0;34m=\u001b[0m\u001b[0msave_prefix\u001b[0m\u001b[0;34m,\u001b[0m\u001b[0;34m\u001b[0m\u001b[0;34m\u001b[0m\u001b[0m\n\u001b[1;32m    895\u001b[0m         \u001b[0msave_format\u001b[0m\u001b[0;34m=\u001b[0m\u001b[0msave_format\u001b[0m\u001b[0;34m,\u001b[0m\u001b[0;34m\u001b[0m\u001b[0;34m\u001b[0m\u001b[0m\n\u001b[0;32m--> 896\u001b[0;31m         subset=subset)\n\u001b[0m\u001b[1;32m    897\u001b[0m \u001b[0;34m\u001b[0m\u001b[0m\n\u001b[1;32m    898\u001b[0m   def flow_from_directory(self,\n",
            "\u001b[0;32m/usr/local/lib/python3.7/dist-packages/keras/preprocessing/image.py\u001b[0m in \u001b[0;36m__init__\u001b[0;34m(self, x, y, image_data_generator, batch_size, shuffle, sample_weight, seed, data_format, save_to_dir, save_prefix, save_format, subset, dtype)\u001b[0m\n\u001b[1;32m    472\u001b[0m         \u001b[0msave_format\u001b[0m\u001b[0;34m=\u001b[0m\u001b[0msave_format\u001b[0m\u001b[0;34m,\u001b[0m\u001b[0;34m\u001b[0m\u001b[0;34m\u001b[0m\u001b[0m\n\u001b[1;32m    473\u001b[0m         \u001b[0msubset\u001b[0m\u001b[0;34m=\u001b[0m\u001b[0msubset\u001b[0m\u001b[0;34m,\u001b[0m\u001b[0;34m\u001b[0m\u001b[0;34m\u001b[0m\u001b[0m\n\u001b[0;32m--> 474\u001b[0;31m         **kwargs)\n\u001b[0m\u001b[1;32m    475\u001b[0m \u001b[0;34m\u001b[0m\u001b[0m\n\u001b[1;32m    476\u001b[0m \u001b[0;34m\u001b[0m\u001b[0m\n",
            "\u001b[0;32m/usr/local/lib/python3.7/dist-packages/keras_preprocessing/image/numpy_array_iterator.py\u001b[0m in \u001b[0;36m__init__\u001b[0;34m(self, x, y, image_data_generator, batch_size, shuffle, sample_weight, seed, data_format, save_to_dir, save_prefix, save_format, subset, dtype)\u001b[0m\n\u001b[1;32m    119\u001b[0m                     \u001b[0my\u001b[0m \u001b[0;34m=\u001b[0m \u001b[0my\u001b[0m\u001b[0;34m[\u001b[0m\u001b[0msplit_idx\u001b[0m\u001b[0;34m:\u001b[0m\u001b[0;34m]\u001b[0m\u001b[0;34m\u001b[0m\u001b[0;34m\u001b[0m\u001b[0m\n\u001b[1;32m    120\u001b[0m \u001b[0;34m\u001b[0m\u001b[0m\n\u001b[0;32m--> 121\u001b[0;31m         \u001b[0mself\u001b[0m\u001b[0;34m.\u001b[0m\u001b[0mx\u001b[0m \u001b[0;34m=\u001b[0m \u001b[0mnp\u001b[0m\u001b[0;34m.\u001b[0m\u001b[0masarray\u001b[0m\u001b[0;34m(\u001b[0m\u001b[0mx\u001b[0m\u001b[0;34m,\u001b[0m \u001b[0mdtype\u001b[0m\u001b[0;34m=\u001b[0m\u001b[0mself\u001b[0m\u001b[0;34m.\u001b[0m\u001b[0mdtype\u001b[0m\u001b[0;34m)\u001b[0m\u001b[0;34m\u001b[0m\u001b[0;34m\u001b[0m\u001b[0m\n\u001b[0m\u001b[1;32m    122\u001b[0m         \u001b[0mself\u001b[0m\u001b[0;34m.\u001b[0m\u001b[0mx_misc\u001b[0m \u001b[0;34m=\u001b[0m \u001b[0mx_misc\u001b[0m\u001b[0;34m\u001b[0m\u001b[0;34m\u001b[0m\u001b[0m\n\u001b[1;32m    123\u001b[0m         \u001b[0;32mif\u001b[0m \u001b[0mself\u001b[0m\u001b[0;34m.\u001b[0m\u001b[0mx\u001b[0m\u001b[0;34m.\u001b[0m\u001b[0mndim\u001b[0m \u001b[0;34m!=\u001b[0m \u001b[0;36m4\u001b[0m\u001b[0;34m:\u001b[0m\u001b[0;34m\u001b[0m\u001b[0;34m\u001b[0m\u001b[0m\n",
            "\u001b[0;32m/usr/local/lib/python3.7/dist-packages/numpy/core/_asarray.py\u001b[0m in \u001b[0;36masarray\u001b[0;34m(a, dtype, order)\u001b[0m\n\u001b[1;32m     81\u001b[0m \u001b[0;34m\u001b[0m\u001b[0m\n\u001b[1;32m     82\u001b[0m     \"\"\"\n\u001b[0;32m---> 83\u001b[0;31m     \u001b[0;32mreturn\u001b[0m \u001b[0marray\u001b[0m\u001b[0;34m(\u001b[0m\u001b[0ma\u001b[0m\u001b[0;34m,\u001b[0m \u001b[0mdtype\u001b[0m\u001b[0;34m,\u001b[0m \u001b[0mcopy\u001b[0m\u001b[0;34m=\u001b[0m\u001b[0;32mFalse\u001b[0m\u001b[0;34m,\u001b[0m \u001b[0morder\u001b[0m\u001b[0;34m=\u001b[0m\u001b[0morder\u001b[0m\u001b[0;34m)\u001b[0m\u001b[0;34m\u001b[0m\u001b[0;34m\u001b[0m\u001b[0m\n\u001b[0m\u001b[1;32m     84\u001b[0m \u001b[0;34m\u001b[0m\u001b[0m\n\u001b[1;32m     85\u001b[0m \u001b[0;34m\u001b[0m\u001b[0m\n",
            "\u001b[0;31mValueError\u001b[0m: setting an array element with a sequence."
          ]
        }
      ]
    },
    {
      "cell_type": "markdown",
      "source": [
        "## test3"
      ],
      "metadata": {
        "id": "YBi4CNfUpbXU"
      }
    },
    {
      "cell_type": "code",
      "source": [
        "predictions3 = model3.predict(testX3, batch_size=BS)"
      ],
      "metadata": {
        "id": "885sI8BlpbXU"
      },
      "execution_count": null,
      "outputs": []
    },
    {
      "cell_type": "code",
      "source": [
        "predictions3[:10]"
      ],
      "metadata": {
        "id": "sOqAGUQ_pbXV"
      },
      "execution_count": null,
      "outputs": []
    },
    {
      "cell_type": "code",
      "source": [
        "testY3.argmax(axis=1)"
      ],
      "metadata": {
        "id": "mjxr3qKAO9rV"
      },
      "execution_count": null,
      "outputs": []
    },
    {
      "cell_type": "code",
      "source": [
        "print(classification_report(testY3.argmax(axis=1),\t\n",
        "                           predictions3.argmax(axis=1),  \n",
        "                            target_names=le3.classes_))"
      ],
      "metadata": {
        "id": "gcuplSESpbXV"
      },
      "execution_count": null,
      "outputs": []
    },
    {
      "cell_type": "code",
      "source": [
        "confusion_matrix(testY3.argmax(axis=1),\t\n",
        "                        predictions3.argmax(axis=1) )"
      ],
      "metadata": {
        "id": "uLqBIuovpbXV"
      },
      "execution_count": null,
      "outputs": []
    },
    {
      "cell_type": "markdown",
      "source": [
        "# 3 class ==> ***InceptionV3***"
      ],
      "metadata": {
        "id": "gfRYFcvfmJBg"
      }
    },
    {
      "cell_type": "markdown",
      "source": [
        "##แบ่งข้อมูล3\n",
        "เลข 3 หมายถึงมี 3 คลาส"
      ],
      "metadata": {
        "id": "gNIQc2FfmJBn"
      }
    },
    {
      "cell_type": "code",
      "source": [
        "data_train3 = pd.concat([tnormal, tpneumonia, tlungcancer])\n",
        "data_train3.head(3)"
      ],
      "metadata": {
        "outputId": "eaaaaa96-bd2b-43e9-97d7-49b87edb9c9c",
        "colab": {
          "base_uri": "https://localhost:8080/",
          "height": 143
        },
        "id": "6v0qQigamJBn"
      },
      "execution_count": null,
      "outputs": [
        {
          "output_type": "execute_result",
          "data": {
            "text/html": [
              "\n",
              "  <div id=\"df-0fdfe177-4c45-4348-8322-c82838a0c49f\">\n",
              "    <div class=\"colab-df-container\">\n",
              "      <div>\n",
              "<style scoped>\n",
              "    .dataframe tbody tr th:only-of-type {\n",
              "        vertical-align: middle;\n",
              "    }\n",
              "\n",
              "    .dataframe tbody tr th {\n",
              "        vertical-align: top;\n",
              "    }\n",
              "\n",
              "    .dataframe thead th {\n",
              "        text-align: right;\n",
              "    }\n",
              "</style>\n",
              "<table border=\"1\" class=\"dataframe\">\n",
              "  <thead>\n",
              "    <tr style=\"text-align: right;\">\n",
              "      <th></th>\n",
              "      <th>ImageName</th>\n",
              "      <th>Type1</th>\n",
              "      <th>Type2</th>\n",
              "    </tr>\n",
              "  </thead>\n",
              "  <tbody>\n",
              "    <tr>\n",
              "      <th>0</th>\n",
              "      <td>IM-0006-0001.jpeg</td>\n",
              "      <td>Normal</td>\n",
              "      <td>0</td>\n",
              "    </tr>\n",
              "    <tr>\n",
              "      <th>1</th>\n",
              "      <td>IM-0003-0001.jpeg</td>\n",
              "      <td>Normal</td>\n",
              "      <td>0</td>\n",
              "    </tr>\n",
              "    <tr>\n",
              "      <th>2</th>\n",
              "      <td>IM-0001-0001.jpeg</td>\n",
              "      <td>Normal</td>\n",
              "      <td>0</td>\n",
              "    </tr>\n",
              "  </tbody>\n",
              "</table>\n",
              "</div>\n",
              "      <button class=\"colab-df-convert\" onclick=\"convertToInteractive('df-0fdfe177-4c45-4348-8322-c82838a0c49f')\"\n",
              "              title=\"Convert this dataframe to an interactive table.\"\n",
              "              style=\"display:none;\">\n",
              "        \n",
              "  <svg xmlns=\"http://www.w3.org/2000/svg\" height=\"24px\"viewBox=\"0 0 24 24\"\n",
              "       width=\"24px\">\n",
              "    <path d=\"M0 0h24v24H0V0z\" fill=\"none\"/>\n",
              "    <path d=\"M18.56 5.44l.94 2.06.94-2.06 2.06-.94-2.06-.94-.94-2.06-.94 2.06-2.06.94zm-11 1L8.5 8.5l.94-2.06 2.06-.94-2.06-.94L8.5 2.5l-.94 2.06-2.06.94zm10 10l.94 2.06.94-2.06 2.06-.94-2.06-.94-.94-2.06-.94 2.06-2.06.94z\"/><path d=\"M17.41 7.96l-1.37-1.37c-.4-.4-.92-.59-1.43-.59-.52 0-1.04.2-1.43.59L10.3 9.45l-7.72 7.72c-.78.78-.78 2.05 0 2.83L4 21.41c.39.39.9.59 1.41.59.51 0 1.02-.2 1.41-.59l7.78-7.78 2.81-2.81c.8-.78.8-2.07 0-2.86zM5.41 20L4 18.59l7.72-7.72 1.47 1.35L5.41 20z\"/>\n",
              "  </svg>\n",
              "      </button>\n",
              "      \n",
              "  <style>\n",
              "    .colab-df-container {\n",
              "      display:flex;\n",
              "      flex-wrap:wrap;\n",
              "      gap: 12px;\n",
              "    }\n",
              "\n",
              "    .colab-df-convert {\n",
              "      background-color: #E8F0FE;\n",
              "      border: none;\n",
              "      border-radius: 50%;\n",
              "      cursor: pointer;\n",
              "      display: none;\n",
              "      fill: #1967D2;\n",
              "      height: 32px;\n",
              "      padding: 0 0 0 0;\n",
              "      width: 32px;\n",
              "    }\n",
              "\n",
              "    .colab-df-convert:hover {\n",
              "      background-color: #E2EBFA;\n",
              "      box-shadow: 0px 1px 2px rgba(60, 64, 67, 0.3), 0px 1px 3px 1px rgba(60, 64, 67, 0.15);\n",
              "      fill: #174EA6;\n",
              "    }\n",
              "\n",
              "    [theme=dark] .colab-df-convert {\n",
              "      background-color: #3B4455;\n",
              "      fill: #D2E3FC;\n",
              "    }\n",
              "\n",
              "    [theme=dark] .colab-df-convert:hover {\n",
              "      background-color: #434B5C;\n",
              "      box-shadow: 0px 1px 3px 1px rgba(0, 0, 0, 0.15);\n",
              "      filter: drop-shadow(0px 1px 2px rgba(0, 0, 0, 0.3));\n",
              "      fill: #FFFFFF;\n",
              "    }\n",
              "  </style>\n",
              "\n",
              "      <script>\n",
              "        const buttonEl =\n",
              "          document.querySelector('#df-0fdfe177-4c45-4348-8322-c82838a0c49f button.colab-df-convert');\n",
              "        buttonEl.style.display =\n",
              "          google.colab.kernel.accessAllowed ? 'block' : 'none';\n",
              "\n",
              "        async function convertToInteractive(key) {\n",
              "          const element = document.querySelector('#df-0fdfe177-4c45-4348-8322-c82838a0c49f');\n",
              "          const dataTable =\n",
              "            await google.colab.kernel.invokeFunction('convertToInteractive',\n",
              "                                                     [key], {});\n",
              "          if (!dataTable) return;\n",
              "\n",
              "          const docLinkHtml = 'Like what you see? Visit the ' +\n",
              "            '<a target=\"_blank\" href=https://colab.research.google.com/notebooks/data_table.ipynb>data table notebook</a>'\n",
              "            + ' to learn more about interactive tables.';\n",
              "          element.innerHTML = '';\n",
              "          dataTable['output_type'] = 'display_data';\n",
              "          await google.colab.output.renderOutput(dataTable, element);\n",
              "          const docLink = document.createElement('div');\n",
              "          docLink.innerHTML = docLinkHtml;\n",
              "          element.appendChild(docLink);\n",
              "        }\n",
              "      </script>\n",
              "    </div>\n",
              "  </div>\n",
              "  "
            ],
            "text/plain": [
              "           ImageName   Type1  Type2\n",
              "0  IM-0006-0001.jpeg  Normal      0\n",
              "1  IM-0003-0001.jpeg  Normal      0\n",
              "2  IM-0001-0001.jpeg  Normal      0"
            ]
          },
          "metadata": {},
          "execution_count": 13
        }
      ]
    },
    {
      "cell_type": "code",
      "source": [
        "train_img3_Incep = []\n",
        "for ImageName in tqdm(data_train3['ImageName']):               # รัน ชื่อรูป ในไฟล์ data_test3\n",
        "    image_path = all_train +'/' + ImageName                          # ดึงรูปในโฟล์เดอร์มาทีละรูป\n",
        "    img = cv2.imread(image_path)                                            # อ่านรูป\n",
        "    img = cv2.resize(img, (299, 299))                                   #ขนาดของ input\n",
        "    train_img3_Incep.append(img)\n"
      ],
      "metadata": {
        "colab": {
          "base_uri": "https://localhost:8080/"
        },
        "outputId": "bd5b9589-0f1f-48c2-988b-35f91e08824b",
        "id": "QIEmk3k_mJBo"
      },
      "execution_count": null,
      "outputs": [
        {
          "output_type": "stream",
          "name": "stderr",
          "text": [
            "100%|██████████| 180/180 [01:06<00:00,  2.71it/s]\n"
          ]
        }
      ]
    },
    {
      "cell_type": "code",
      "source": [
        "data3_Incep = np.array(train_img3_Incep, dtype=\"float32\") / 255.0"
      ],
      "metadata": {
        "id": "e9_AmEytmJBo"
      },
      "execution_count": null,
      "outputs": []
    },
    {
      "cell_type": "code",
      "source": [
        "labels3_Incep = np.array(data_train3[['Type1']] )           #shape (180, 1) ค่าเป็น ชื่อคลาส Normal, Pneumonia , Lungcancer"
      ],
      "metadata": {
        "id": "hFuDI5okmJBo"
      },
      "execution_count": null,
      "outputs": []
    },
    {
      "cell_type": "code",
      "source": [
        "le3_Incep = LabelEncoder()                                                                     \n",
        "labels3_Incep = le3_Incep.fit_transform(labels3_Incep)                                         #จะแปลงชื่อ class เป็นตัวเลข 1, 2, 0 --> ['Normal', 'Pneumonia', 'Lungcancer']\n",
        "labels3_Incep = to_categorical(labels3_Incep, num_classes=3)                   #shape (180, 3)  มีค่าเป็น  [0., 1., 0.]  กับ   [0., 0., 1.] กับ  [1., 0., 0.]"
      ],
      "metadata": {
        "colab": {
          "base_uri": "https://localhost:8080/"
        },
        "outputId": "3e59c522-e8e8-4cfc-865f-8e169d0184e0",
        "id": "0cII6JBOmJBp"
      },
      "execution_count": null,
      "outputs": [
        {
          "output_type": "stream",
          "name": "stderr",
          "text": [
            "/usr/local/lib/python3.7/dist-packages/sklearn/preprocessing/_label.py:115: DataConversionWarning: A column-vector y was passed when a 1d array was expected. Please change the shape of y to (n_samples, ), for example using ravel().\n",
            "  y = column_or_1d(y, warn=True)\n"
          ]
        }
      ]
    },
    {
      "cell_type": "code",
      "source": [
        "(trainX3_Incep, testX3_Incep, trainY3_Incep, testY3_Incep) = train_test_split(data3_Incep, labels3_Incep,\n",
        "\t                                        \t\t\t\t\t\t\t\t\t\t\ttest_size=0.25, random_state=52)"
      ],
      "metadata": {
        "id": "-EV1UI6ZmJBp"
      },
      "execution_count": null,
      "outputs": []
    },
    {
      "cell_type": "code",
      "source": [
        "le3_Incep.classes_"
      ],
      "metadata": {
        "outputId": "a919d2b2-3a87-4583-8d7d-8f9f47903d2f",
        "colab": {
          "base_uri": "https://localhost:8080/"
        },
        "id": "0sndl8OqmJBp"
      },
      "execution_count": null,
      "outputs": [
        {
          "output_type": "execute_result",
          "data": {
            "text/plain": [
              "array(['Lungcancer', 'Normal', 'Pneumonia'], dtype=object)"
            ]
          },
          "metadata": {},
          "execution_count": 19
        }
      ]
    },
    {
      "cell_type": "markdown",
      "source": [
        "## train3"
      ],
      "metadata": {
        "id": "DplnLBt3mJBp"
      }
    },
    {
      "cell_type": "code",
      "source": [
        "# initialize the initial learning rate, batch size, and number of\n",
        "# epochs to train for\n",
        "INIT_LR = 1e-1\n",
        "BS = 8\n",
        "EPOCHS = 50"
      ],
      "metadata": {
        "id": "HgJblT6omJBp"
      },
      "execution_count": null,
      "outputs": []
    },
    {
      "cell_type": "code",
      "source": [
        "# initialize an our data augmenter as an \"empty\" image data generator\n",
        "aug = ImageDataGenerator(\n",
        "\t\trotation_range=20,\n",
        "\t\tzoom_range=0.15,\n",
        "\t\twidth_shift_range=0.15,\n",
        "\t\theight_shift_range=0.15,\n",
        "\t\tshear_range=0.15,\n",
        "\t\thorizontal_flip=True,\n",
        "\t\tfill_mode=\"nearest\")"
      ],
      "metadata": {
        "id": "_CDMFC6QmJBp"
      },
      "execution_count": null,
      "outputs": []
    },
    {
      "cell_type": "markdown",
      "source": [
        "InceptionV3"
      ],
      "metadata": {
        "id": "EM3Bx5MNmJBq"
      }
    },
    {
      "cell_type": "code",
      "source": [
        "base_model3_Incep = tf.keras.applications.InceptionV3(input_shape=(299, 299, 3), include_top=False, weights=\"imagenet\")"
      ],
      "metadata": {
        "id": "fCJuitF5mJBq",
        "outputId": "6b65595d-912e-4a2c-c194-28a3b72c93f6",
        "colab": {
          "base_uri": "https://localhost:8080/"
        }
      },
      "execution_count": null,
      "outputs": [
        {
          "output_type": "stream",
          "name": "stdout",
          "text": [
            "Downloading data from https://storage.googleapis.com/tensorflow/keras-applications/inception_v3/inception_v3_weights_tf_dim_ordering_tf_kernels_notop.h5\n",
            "87916544/87910968 [==============================] - 1s 0us/step\n",
            "87924736/87910968 [==============================] - 1s 0us/step\n"
          ]
        }
      ]
    },
    {
      "cell_type": "code",
      "source": [
        "base_model3_Incep.trainable=False\n",
        "\n",
        "#Add custom head\n",
        "average_pooling_layer = tf.keras.layers.GlobalAveragePooling2D()(base_model3_Incep.output)\n",
        "prediction_layer = tf.keras.layers.Dense(units=3, activation=\"softmax\")(average_pooling_layer)   # unit 3\n",
        "model3_Incep = tf.keras.models.Model(inputs=base_model3_Incep.input, outputs=prediction_layer)"
      ],
      "metadata": {
        "id": "SdRQM74tmJBq"
      },
      "execution_count": null,
      "outputs": []
    },
    {
      "cell_type": "code",
      "source": [
        "model3_Incep.compile(optimizer=tf.keras.optimizers.RMSprop(lr=0.0001), loss=\"binary_crossentropy\", metrics=[\"accuracy\"])"
      ],
      "metadata": {
        "outputId": "703f78f3-1276-4fc2-da1f-40539dedbb68",
        "colab": {
          "base_uri": "https://localhost:8080/"
        },
        "id": "JimPrvZYmJBr"
      },
      "execution_count": null,
      "outputs": [
        {
          "output_type": "stream",
          "name": "stderr",
          "text": [
            "/usr/local/lib/python3.7/dist-packages/keras/optimizer_v2/rmsprop.py:130: UserWarning: The `lr` argument is deprecated, use `learning_rate` instead.\n",
            "  super(RMSprop, self).__init__(name, **kwargs)\n"
          ]
        }
      ]
    },
    {
      "cell_type": "code",
      "source": [
        "callback = tf.keras.callbacks.EarlyStopping(\n",
        "    monitor=\"val_accuracy\",\n",
        "    patience=2,\n",
        "    mode=\"max\"\n",
        ")"
      ],
      "metadata": {
        "id": "_4dQArsPmdQZ"
      },
      "execution_count": null,
      "outputs": []
    },
    {
      "cell_type": "code",
      "source": [
        "H3_Incep = model3_Incep.fit(\n",
        "\tx=aug.flow(trainX3_Incep, trainY3_Incep, batch_size=BS),\n",
        "\tvalidation_data=(testX3_Incep, testY3_Incep),\n",
        "\tsteps_per_epoch=len(trainX3_Incep) // BS,\n",
        "\tepochs=10, \n",
        "\tcallbacks = [callback])"
      ],
      "metadata": {
        "outputId": "713bac4e-2dd0-4daa-9d72-dc76eab738a1",
        "colab": {
          "base_uri": "https://localhost:8080/"
        },
        "id": "lQzbe4B3mJBr"
      },
      "execution_count": null,
      "outputs": [
        {
          "output_type": "stream",
          "name": "stdout",
          "text": [
            "Epoch 1/10\n",
            "16/16 [==============================] - 46s 3s/step - loss: 0.7059 - accuracy: 0.4016 - val_loss: 0.6476 - val_accuracy: 0.4667\n",
            "Epoch 2/10\n",
            "16/16 [==============================] - 43s 3s/step - loss: 0.6019 - accuracy: 0.5354 - val_loss: 0.6036 - val_accuracy: 0.5333\n",
            "Epoch 3/10\n",
            "16/16 [==============================] - 52s 3s/step - loss: 0.5837 - accuracy: 0.5906 - val_loss: 0.5809 - val_accuracy: 0.6000\n",
            "Epoch 4/10\n",
            "16/16 [==============================] - 43s 3s/step - loss: 0.5727 - accuracy: 0.6220 - val_loss: 0.5571 - val_accuracy: 0.6889\n",
            "Epoch 5/10\n",
            "16/16 [==============================] - 40s 3s/step - loss: 0.5523 - accuracy: 0.6063 - val_loss: 0.5368 - val_accuracy: 0.7111\n",
            "Epoch 6/10\n",
            "16/16 [==============================] - 38s 2s/step - loss: 0.5350 - accuracy: 0.6378 - val_loss: 0.5182 - val_accuracy: 0.7333\n",
            "Epoch 7/10\n",
            "16/16 [==============================] - 38s 2s/step - loss: 0.5070 - accuracy: 0.6457 - val_loss: 0.4948 - val_accuracy: 0.7778\n",
            "Epoch 8/10\n",
            "16/16 [==============================] - 38s 2s/step - loss: 0.4850 - accuracy: 0.7165 - val_loss: 0.4740 - val_accuracy: 0.8000\n",
            "Epoch 9/10\n",
            "16/16 [==============================] - 37s 2s/step - loss: 0.4635 - accuracy: 0.7480 - val_loss: 0.4531 - val_accuracy: 0.8000\n",
            "Epoch 10/10\n",
            "16/16 [==============================] - 38s 2s/step - loss: 0.4461 - accuracy: 0.7734 - val_loss: 0.4357 - val_accuracy: 0.7778\n"
          ]
        }
      ]
    },
    {
      "cell_type": "markdown",
      "source": [
        "## test3"
      ],
      "metadata": {
        "id": "Y9VqzdYsmJBr"
      }
    },
    {
      "cell_type": "code",
      "source": [
        "predictions3_Incep = model3_Incep.predict(testX3_Incep, batch_size=BS)"
      ],
      "metadata": {
        "id": "KpCeFpopmJBs"
      },
      "execution_count": null,
      "outputs": []
    },
    {
      "cell_type": "code",
      "source": [
        "predictions3_Incep[:10]"
      ],
      "metadata": {
        "outputId": "66764f28-03eb-49b7-8ee4-626aaebc04b9",
        "colab": {
          "base_uri": "https://localhost:8080/"
        },
        "id": "0epUIxeAmJBs"
      },
      "execution_count": null,
      "outputs": [
        {
          "output_type": "execute_result",
          "data": {
            "text/plain": [
              "array([[0.11190555, 0.44163662, 0.44645783],\n",
              "       [0.35433874, 0.17010207, 0.47555923],\n",
              "       [0.08360355, 0.6129521 , 0.30344427],\n",
              "       [0.13412456, 0.11815269, 0.74772274],\n",
              "       [0.07382458, 0.2461354 , 0.68004006],\n",
              "       [0.06308495, 0.37355277, 0.5633623 ],\n",
              "       [0.12921706, 0.30112725, 0.5696557 ],\n",
              "       [0.0463132 , 0.7644238 , 0.18926297],\n",
              "       [0.0321773 , 0.87751997, 0.09030275],\n",
              "       [0.09041295, 0.25358486, 0.65600216]], dtype=float32)"
            ]
          },
          "metadata": {},
          "execution_count": 28
        }
      ]
    },
    {
      "cell_type": "code",
      "source": [
        "0.04993849+ 0.628473  + 0.32158852"
      ],
      "metadata": {
        "colab": {
          "base_uri": "https://localhost:8080/"
        },
        "id": "owH4XEDH55mw",
        "outputId": "23223f25-47af-4c35-f501-066740561bfe"
      },
      "execution_count": null,
      "outputs": [
        {
          "output_type": "execute_result",
          "data": {
            "text/plain": [
              "1.00000001"
            ]
          },
          "metadata": {},
          "execution_count": 29
        }
      ]
    },
    {
      "cell_type": "code",
      "source": [
        "0.02641579+ 0.25785667+ 0.71572745"
      ],
      "metadata": {
        "colab": {
          "base_uri": "https://localhost:8080/"
        },
        "id": "c_IA5E6S59Rj",
        "outputId": "abc6f977-be3e-4b7d-b650-be63a4a25070"
      },
      "execution_count": null,
      "outputs": [
        {
          "output_type": "execute_result",
          "data": {
            "text/plain": [
              "0.9999999100000001"
            ]
          },
          "metadata": {},
          "execution_count": 30
        }
      ]
    },
    {
      "cell_type": "code",
      "source": [
        "testY3_Incep.argmax(axis=1)"
      ],
      "metadata": {
        "colab": {
          "base_uri": "https://localhost:8080/"
        },
        "outputId": "f19cc7cf-b1c5-40e4-ed9b-0bdae77ad0f5",
        "id": "ZaG3D-VTmJBs"
      },
      "execution_count": null,
      "outputs": [
        {
          "output_type": "execute_result",
          "data": {
            "text/plain": [
              "array([1, 2, 1, 2, 2, 2, 2, 1, 1, 2, 1, 0, 1, 2, 1, 2, 1, 2, 0, 1, 1, 2,\n",
              "       0, 0, 1, 1, 2, 1, 2, 2, 0, 0, 0, 2, 2, 2, 2, 0, 1, 1, 2, 1, 1, 1,\n",
              "       2])"
            ]
          },
          "metadata": {},
          "execution_count": 31
        }
      ]
    },
    {
      "cell_type": "code",
      "source": [
        "print(classification_report(testY3_Incep.argmax(axis=1),\t\n",
        "                           predictions3_Incep.argmax(axis=1),  \n",
        "                            target_names=le3_Incep.classes_))"
      ],
      "metadata": {
        "outputId": "9d825962-8832-45a5-804c-f8b3c0160031",
        "colab": {
          "base_uri": "https://localhost:8080/"
        },
        "id": "Yn-Eb3uQmJBs"
      },
      "execution_count": null,
      "outputs": [
        {
          "output_type": "stream",
          "name": "stdout",
          "text": [
            "              precision    recall  f1-score   support\n",
            "\n",
            "  Lungcancer       1.00      0.12      0.22         8\n",
            "      Normal       0.74      0.94      0.83        18\n",
            "   Pneumonia       0.81      0.89      0.85        19\n",
            "\n",
            "    accuracy                           0.78        45\n",
            "   macro avg       0.85      0.65      0.63        45\n",
            "weighted avg       0.82      0.78      0.73        45\n",
            "\n"
          ]
        }
      ]
    },
    {
      "cell_type": "code",
      "source": [
        "le3_Incep.classes_"
      ],
      "metadata": {
        "colab": {
          "base_uri": "https://localhost:8080/"
        },
        "id": "aIUo-HB5gmwY",
        "outputId": "3899bd51-8c01-495a-80da-190226f883f1"
      },
      "execution_count": null,
      "outputs": [
        {
          "output_type": "execute_result",
          "data": {
            "text/plain": [
              "array(['Lungcancer', 'Normal', 'Pneumonia'], dtype=object)"
            ]
          },
          "metadata": {},
          "execution_count": 33
        }
      ]
    },
    {
      "cell_type": "code",
      "source": [
        "confusion_matrix(testY3_Incep.argmax(axis=1),\t\n",
        "                        predictions3_Incep.argmax(axis=1) )"
      ],
      "metadata": {
        "id": "KjK6wJ4smJBs",
        "colab": {
          "base_uri": "https://localhost:8080/"
        },
        "outputId": "5634d843-da11-4fdf-943f-ab46193f058c"
      },
      "execution_count": null,
      "outputs": [
        {
          "output_type": "execute_result",
          "data": {
            "text/plain": [
              "array([[ 1,  4,  3],\n",
              "       [ 0, 17,  1],\n",
              "       [ 0,  2, 17]])"
            ]
          },
          "metadata": {},
          "execution_count": 34
        }
      ]
    },
    {
      "cell_type": "code",
      "source": [
        ""
      ],
      "metadata": {
        "id": "ftDVRHrSh75R"
      },
      "execution_count": null,
      "outputs": []
    },
    {
      "cell_type": "code",
      "source": [
        ""
      ],
      "metadata": {
        "id": "IQxPI39AUTl6"
      },
      "execution_count": null,
      "outputs": []
    },
    {
      "cell_type": "markdown",
      "source": [
        "## dump(save)/load sklearn model"
      ],
      "metadata": {
        "id": "2S-ZqkXpKCgd"
      }
    },
    {
      "cell_type": "code",
      "source": [
        "import joblib"
      ],
      "metadata": {
        "id": "6HJmfuOuNIlW"
      },
      "execution_count": null,
      "outputs": []
    },
    {
      "cell_type": "code",
      "source": [
        "joblib.dump(model3_Incep, 'model3_Incep.joblib')  "
      ],
      "metadata": {
        "id": "It3haPfSKVDM",
        "outputId": "c0c75f04-c3ed-4ceb-ac03-9964d54796d6",
        "colab": {
          "base_uri": "https://localhost:8080/"
        }
      },
      "execution_count": null,
      "outputs": [
        {
          "output_type": "stream",
          "name": "stdout",
          "text": [
            "INFO:tensorflow:Assets written to: ram://6c044177-9bf3-4f73-b85b-2c181b4d4d0a/assets\n"
          ]
        },
        {
          "output_type": "execute_result",
          "data": {
            "text/plain": [
              "['model3_Incep.joblib']"
            ]
          },
          "metadata": {},
          "execution_count": 37
        }
      ]
    },
    {
      "cell_type": "code",
      "source": [
        "Incep= joblib.load('model3_Incep.joblib')"
      ],
      "metadata": {
        "id": "iZZlVCX-KVAU"
      },
      "execution_count": null,
      "outputs": []
    },
    {
      "cell_type": "code",
      "source": [
        "Incep"
      ],
      "metadata": {
        "id": "ulxpmrZiYeJJ",
        "outputId": "a7381ef3-5818-4009-95d0-8aff07cf44c0",
        "colab": {
          "base_uri": "https://localhost:8080/"
        }
      },
      "execution_count": null,
      "outputs": [
        {
          "output_type": "execute_result",
          "data": {
            "text/plain": [
              "<keras.engine.functional.Functional at 0x7feb00e6cf90>"
            ]
          },
          "metadata": {},
          "execution_count": 41
        }
      ]
    },
    {
      "cell_type": "code",
      "source": [
        "Incep.predict(testX3_Incep, batch_size=BS)[:10]"
      ],
      "metadata": {
        "id": "Jp3HJ8noKU9R",
        "outputId": "2ebeb1ff-37e7-452b-efb3-0ca15006b0eb",
        "colab": {
          "base_uri": "https://localhost:8080/"
        }
      },
      "execution_count": null,
      "outputs": [
        {
          "output_type": "execute_result",
          "data": {
            "text/plain": [
              "array([[0.11190555, 0.44163662, 0.44645783],\n",
              "       [0.35433874, 0.17010207, 0.47555923],\n",
              "       [0.08360355, 0.6129521 , 0.30344427],\n",
              "       [0.13412456, 0.11815269, 0.74772274],\n",
              "       [0.07382458, 0.2461354 , 0.68004006],\n",
              "       [0.06308495, 0.37355277, 0.5633623 ],\n",
              "       [0.12921706, 0.30112725, 0.5696557 ],\n",
              "       [0.0463132 , 0.7644238 , 0.18926297],\n",
              "       [0.0321773 , 0.87751997, 0.09030275],\n",
              "       [0.09041295, 0.25358486, 0.65600216]], dtype=float32)"
            ]
          },
          "metadata": {},
          "execution_count": 46
        }
      ]
    },
    {
      "cell_type": "code",
      "source": [
        ""
      ],
      "metadata": {
        "id": "VaNIc8BhNtUw"
      },
      "execution_count": null,
      "outputs": []
    },
    {
      "cell_type": "markdown",
      "source": [
        "# Score CAM \n",
        "จาก https://arxiv.org/abs/1910.01279\n",
        "\n",
        "Github https://github.com/haofanwang/Score-CAM"
      ],
      "metadata": {
        "id": "8hF0T2Og9Z6Q"
      }
    },
    {
      "cell_type": "code",
      "source": [
        "import torch\n",
        "import torch.nn.functional as F\n",
        "import torchvision.models as models\n",
        "from utils import *\n",
        "from cam.scorecam import *"
      ],
      "metadata": {
        "id": "K9BFecexZ4ZV",
        "outputId": "a0271696-a8fd-4a9a-d319-ec02f0d231ef",
        "colab": {
          "base_uri": "https://localhost:8080/",
          "height": 358
        }
      },
      "execution_count": null,
      "outputs": [
        {
          "output_type": "error",
          "ename": "ModuleNotFoundError",
          "evalue": "ignored",
          "traceback": [
            "\u001b[0;31m---------------------------------------------------------------------------\u001b[0m",
            "\u001b[0;31mModuleNotFoundError\u001b[0m                       Traceback (most recent call last)",
            "\u001b[0;32m<ipython-input-48-dd70f47121ba>\u001b[0m in \u001b[0;36m<module>\u001b[0;34m()\u001b[0m\n\u001b[1;32m      2\u001b[0m \u001b[0;32mimport\u001b[0m \u001b[0mtorch\u001b[0m\u001b[0;34m.\u001b[0m\u001b[0mnn\u001b[0m\u001b[0;34m.\u001b[0m\u001b[0mfunctional\u001b[0m \u001b[0;32mas\u001b[0m \u001b[0mF\u001b[0m\u001b[0;34m\u001b[0m\u001b[0;34m\u001b[0m\u001b[0m\n\u001b[1;32m      3\u001b[0m \u001b[0;32mimport\u001b[0m \u001b[0mtorchvision\u001b[0m\u001b[0;34m.\u001b[0m\u001b[0mmodels\u001b[0m \u001b[0;32mas\u001b[0m \u001b[0mmodels\u001b[0m\u001b[0;34m\u001b[0m\u001b[0;34m\u001b[0m\u001b[0m\n\u001b[0;32m----> 4\u001b[0;31m \u001b[0;32mfrom\u001b[0m \u001b[0mutils\u001b[0m \u001b[0;32mimport\u001b[0m \u001b[0;34m*\u001b[0m\u001b[0;34m\u001b[0m\u001b[0;34m\u001b[0m\u001b[0m\n\u001b[0m\u001b[1;32m      5\u001b[0m \u001b[0;32mfrom\u001b[0m \u001b[0mcam\u001b[0m\u001b[0;34m.\u001b[0m\u001b[0mscorecam\u001b[0m \u001b[0;32mimport\u001b[0m \u001b[0;34m*\u001b[0m\u001b[0;34m\u001b[0m\u001b[0;34m\u001b[0m\u001b[0m\n",
            "\u001b[0;31mModuleNotFoundError\u001b[0m: No module named 'utils'",
            "",
            "\u001b[0;31m---------------------------------------------------------------------------\u001b[0;32m\nNOTE: If your import is failing due to a missing package, you can\nmanually install dependencies using either !pip or !apt.\n\nTo view examples of installing some common dependencies, click the\n\"Open Examples\" button below.\n\u001b[0;31m---------------------------------------------------------------------------\u001b[0m\n"
          ],
          "errorDetails": {
            "actions": [
              {
                "action": "open_url",
                "actionText": "Open Examples",
                "url": "/notebooks/snippets/importing_libraries.ipynb"
              }
            ]
          }
        }
      ]
    },
    {
      "cell_type": "code",
      "source": [
        "validation_normal_dir+ \"/NORMAL2-IM-0117-0001.jpeg\""
      ],
      "metadata": {
        "id": "7DJZDzVyaO0F",
        "outputId": "71989fbb-6639-4304-d721-d1684673b36a",
        "colab": {
          "base_uri": "https://localhost:8080/",
          "height": 35
        }
      },
      "execution_count": null,
      "outputs": [
        {
          "output_type": "execute_result",
          "data": {
            "application/vnd.google.colaboratory.intrinsic+json": {
              "type": "string"
            },
            "text/plain": [
              "'/content/drive/My Drive/Senior Project/xray_dataset_covid19/test/NORMAL/NORMAL2-IM-0117-0001.jpeg'"
            ]
          },
          "metadata": {},
          "execution_count": 42
        }
      ]
    },
    {
      "cell_type": "code",
      "source": [
        "os.listdir(validation_normal_dir)[:4]"
      ],
      "metadata": {
        "id": "9ECUoOWbUV5h",
        "outputId": "24d8419e-4cf8-4766-b611-bb72f0aa6cb6",
        "colab": {
          "base_uri": "https://localhost:8080/"
        }
      },
      "execution_count": null,
      "outputs": [
        {
          "output_type": "execute_result",
          "data": {
            "text/plain": [
              "['NORMAL2-IM-0117-0001.jpeg',\n",
              " 'NORMAL2-IM-0059-0001.jpeg',\n",
              " 'NORMAL2-IM-0123-0001.jpeg',\n",
              " 'NORMAL2-IM-0120-0001.jpeg']"
            ]
          },
          "metadata": {},
          "execution_count": 35
        }
      ]
    },
    {
      "cell_type": "code",
      "source": [
        "im = cv2.imread(os.path.join(validation_normal_dir, 'NORMAL2-IM-0117-0001.jpeg' ))"
      ],
      "metadata": {
        "id": "rwk4baPvUzFc"
      },
      "execution_count": null,
      "outputs": []
    },
    {
      "cell_type": "code",
      "source": [
        "inceptionv3_scorecam = ScoreCAM(testX3_Incep)\n",
        "\n",
        "input_image = load_image('images/'+'ILSVRC2012_val_00002193.JPEG')\n",
        "input_ = apply_transforms(input_image)\n",
        "if torch.cuda.is_available():\n",
        "  input_ = input_.cuda()\n",
        "predicted_class = resnet(input_).max(1)[-1]\n",
        "\n",
        "scorecam_map = resnet_scorecam(input_)\n",
        "basic_visualize(input_.cpu(), scorecam_map.type(torch.FloatTensor).cpu(),save_path='resnet.png')"
      ],
      "metadata": {
        "id": "UyZ3bBZDXbI7"
      },
      "execution_count": null,
      "outputs": []
    },
    {
      "cell_type": "code",
      "source": [
        ""
      ],
      "metadata": {
        "id": "buHliAWWSSkh"
      },
      "execution_count": null,
      "outputs": []
    },
    {
      "cell_type": "markdown",
      "source": [
        "ตัวอย่างจาก Github"
      ],
      "metadata": {
        "id": "cwe0Cc32XS1N"
      }
    },
    {
      "cell_type": "code",
      "source": [
        "import torch\n",
        "import torch.nn.functional as F\n",
        "import torchvision.models as models\n",
        "from utils import *\n",
        "from cam.scorecam import *"
      ],
      "metadata": {
        "id": "40UmITtLSP_t"
      },
      "execution_count": null,
      "outputs": []
    },
    {
      "cell_type": "code",
      "source": [
        "resnet = models.resnet18(pretrained=True).eval()"
      ],
      "metadata": {
        "id": "qjPDFV1WXmNb",
        "outputId": "a440728e-93d6-4091-b0c6-e87581b31d4a",
        "colab": {
          "base_uri": "https://localhost:8080/",
          "height": 66,
          "referenced_widgets": [
            "98dd595df50740c4bc07d9b5781ff68e",
            "64b65b77334244339673455bf34870a5",
            "7924b00989d3440fa0ee82048b979421",
            "9f22c34362c34889b6eb8f19e9820562",
            "e7afe690771b4dadb8bc013ed50ba6d1",
            "e98c9a6cda254a4695f50c5482bcf1b2",
            "ca0dc283937e4766ba5d713bff000de9",
            "d401560c4d3d4d0f84a54c715dfeb0ec",
            "8eb887b2ccf340a5bc64d0b09e8e401a",
            "86d079e608864f0ebfc15ecbf5fcdb53",
            "b5d6a23af0dd43afbb2677f1ce75c8f6"
          ]
        }
      },
      "execution_count": null,
      "outputs": [
        {
          "output_type": "stream",
          "name": "stderr",
          "text": [
            "Downloading: \"https://download.pytorch.org/models/resnet18-f37072fd.pth\" to /root/.cache/torch/hub/checkpoints/resnet18-f37072fd.pth\n"
          ]
        },
        {
          "output_type": "display_data",
          "data": {
            "application/vnd.jupyter.widget-view+json": {
              "model_id": "98dd595df50740c4bc07d9b5781ff68e",
              "version_minor": 0,
              "version_major": 2
            },
            "text/plain": [
              "  0%|          | 0.00/44.7M [00:00<?, ?B/s]"
            ]
          },
          "metadata": {}
        }
      ]
    },
    {
      "cell_type": "code",
      "source": [
        "resnet = models.resnet18(pretrained=True).eval()\n",
        "resnet_model_dict = dict(type='resnet18', arch=resnet, layer_name='layer4',input_size=(224, 224))\n",
        "resnet_scorecam = ScoreCAM(resnet_model_dict)\n",
        "\n",
        "input_image = load_image('images/'+'ILSVRC2012_val_00002193.JPEG')\n",
        "input_ = apply_transforms(input_image)\n",
        "if torch.cuda.is_available():\n",
        "  input_ = input_.cuda()\n",
        "predicted_class = resnet(input_).max(1)[-1]\n",
        "\n",
        "scorecam_map = resnet_scorecam(input_)\n",
        "basic_visualize(input_.cpu(), scorecam_map.type(torch.FloatTensor).cpu(),save_path='resnet.png')"
      ],
      "metadata": {
        "id": "xoZHN3FwSShv"
      },
      "execution_count": null,
      "outputs": []
    },
    {
      "cell_type": "code",
      "source": [
        ""
      ],
      "metadata": {
        "id": "wVI1L_o5SsUy"
      },
      "execution_count": null,
      "outputs": []
    }
  ]
}