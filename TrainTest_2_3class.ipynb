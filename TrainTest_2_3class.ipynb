{
  "nbformat": 4,
  "nbformat_minor": 0,
  "metadata": {
    "colab": {
      "name": "TrainTest_2-3class.ipynb",
      "provenance": [],
      "collapsed_sections": [
        "Kpnf_sft9x4-",
        "U9DQHWz1POvY"
      ],
      "authorship_tag": "ABX9TyMMMDlaMy+JO+1E5WAMN5yI",
      "include_colab_link": true
    },
    "kernelspec": {
      "name": "python3",
      "display_name": "Python 3"
    },
    "language_info": {
      "name": "python"
    }
  },
  "cells": [
    {
      "cell_type": "markdown",
      "metadata": {
        "id": "view-in-github",
        "colab_type": "text"
      },
      "source": [
        "<a href=\"https://colab.research.google.com/github/PondKann/CXR-Project/blob/main/TrainTest_2_3class.ipynb\" target=\"_parent\"><img src=\"https://colab.research.google.com/assets/colab-badge.svg\" alt=\"Open In Colab\"/></a>"
      ]
    },
    {
      "cell_type": "markdown",
      "source": [
        "###### import"
      ],
      "metadata": {
        "id": "Kpnf_sft9x4-"
      }
    },
    {
      "cell_type": "code",
      "metadata": {
        "id": "Psng6eJUdzUG"
      },
      "source": [
        "import os\n",
        "import tensorflow as tf\n",
        "import matplotlib.pyplot as plt\n",
        "%matplotlib inline\n",
        "from tensorflow.keras.preprocessing.image import ImageDataGenerator\n",
        "import cv2\n",
        "import numpy as np\n",
        "import pandas as pd\n",
        "from torchsummary import summary\n",
        "from skimage.io import imread, imsave\n",
        "from tqdm import tqdm\n",
        "\n",
        "from sklearn.model_selection import train_test_split\n",
        "from sklearn.metrics import accuracy_score, confusion_matrix"
      ],
      "execution_count": 1,
      "outputs": []
    },
    {
      "cell_type": "code",
      "source": [
        "# set the matplotlib backend so figures can be saved in the background\n",
        "import matplotlib\n",
        "matplotlib.use(\"Agg\")\n",
        "\n",
        "from sklearn.preprocessing import LabelEncoder\n",
        "from sklearn.metrics import classification_report\n",
        "from tensorflow.keras.optimizers import SGD\n",
        "from tensorflow.keras.utils import to_categorical\n",
        "from imutils import paths\n",
        "import argparse"
      ],
      "metadata": {
        "id": "6f-PDKiLl2iC"
      },
      "execution_count": 2,
      "outputs": []
    },
    {
      "cell_type": "markdown",
      "source": [
        "#### Load data"
      ],
      "metadata": {
        "id": "Z1e52UqdwPp8"
      }
    },
    {
      "cell_type": "code",
      "metadata": {
        "colab": {
          "base_uri": "https://localhost:8080/"
        },
        "id": "DlcukkP7fnhB",
        "outputId": "eac70f39-28ec-46a6-cc02-4bcd43b98662"
      },
      "source": [
        "from google.colab import drive\n",
        "drive.mount('/content/drive')"
      ],
      "execution_count": 3,
      "outputs": [
        {
          "output_type": "stream",
          "name": "stdout",
          "text": [
            "Mounted at /content/drive\n"
          ]
        }
      ]
    },
    {
      "cell_type": "code",
      "metadata": {
        "id": "0w8suy5ofqx_"
      },
      "source": [
        "data_dir = '/content/drive/My Drive/Senior Project/CXR Image3class'"
      ],
      "execution_count": 4,
      "outputs": []
    },
    {
      "cell_type": "markdown",
      "source": [
        "#### สร้างตารางเก็บ ชื่อภาพ และชื่อคลาส\n",
        "ข้อมูลใน All_3class_dir รวมภาพทั้ง 3 คลาส รวม 451 ภาพ TB150, Normal151 และ CA150 (CA คือ lungcancer)"
      ],
      "metadata": {
        "id": "YFVxlpQZf5pU"
      }
    },
    {
      "cell_type": "code",
      "source": [
        "Normal151_dir = os.path.join(data_dir,'Normal151')\n",
        "TB150_dir = os.path.join(data_dir,'TB150')\n",
        "CA150l_dir = os.path.join(data_dir,'CA150')\n",
        "All_3class_dir = os.path.join(data_dir,'All_3class')"
      ],
      "metadata": {
        "id": "8BHyN8YKpwx9"
      },
      "execution_count": 5,
      "outputs": []
    },
    {
      "cell_type": "code",
      "source": [
        "normal = []\n",
        "for i in range(len(os.listdir(Normal151_dir))):\n",
        "    img = os.listdir(Normal151_dir)[i]\n",
        "    normal.append(img)\n",
        "    \n",
        "tnormal = pd.DataFrame({'ImageName':[normal][0],\n",
        "                                       'NameType': \"Normal\" ,\n",
        "                                       'NumberType': 0                      })"
      ],
      "metadata": {
        "id": "mT0QF8IgrfVm"
      },
      "execution_count": 6,
      "outputs": []
    },
    {
      "cell_type": "code",
      "source": [
        "tuberculosis = []\n",
        "for i in range(len(os.listdir(TB150_dir))):\n",
        "    img = os.listdir(TB150_dir)[i]\n",
        "    tuberculosis.append(img)\n",
        "\n",
        "ttuberculosis = pd.DataFrame({'ImageName':[tuberculosis][0],\n",
        "                                       'NameType': \"Tuberculosis\" ,\n",
        "                                       'NumberType': 1                        })"
      ],
      "metadata": {
        "id": "VtNPg0jwf5pW"
      },
      "execution_count": 7,
      "outputs": []
    },
    {
      "cell_type": "code",
      "source": [
        "lungcancer = []\n",
        "for i in range(len(os.listdir(CA150l_dir))):\n",
        "    img = os.listdir(CA150l_dir)[i]\n",
        "    lungcancer.append(img)\n",
        "\n",
        "tlungcancer = pd.DataFrame({'ImageName':[lungcancer][0],\n",
        "                                       'NameType': \"Lungcancer\" ,\n",
        "                                       'NumberType': 2                        })"
      ],
      "metadata": {
        "id": "X5pyCUl5mJGV"
      },
      "execution_count": 8,
      "outputs": []
    },
    {
      "cell_type": "code",
      "source": [
        "data_train2 = pd.concat([tnormal, ttuberculosis])\n",
        "data_train2.head(3)"
      ],
      "metadata": {
        "id": "3_qF_MjCf5pX",
        "outputId": "3f362964-12bb-49df-fff4-2c2b7499290f",
        "colab": {
          "base_uri": "https://localhost:8080/",
          "height": 0
        }
      },
      "execution_count": 9,
      "outputs": [
        {
          "output_type": "execute_result",
          "data": {
            "text/html": [
              "\n",
              "  <div id=\"df-fbaadb3d-45bc-4942-8077-cf0bbea50f1f\">\n",
              "    <div class=\"colab-df-container\">\n",
              "      <div>\n",
              "<style scoped>\n",
              "    .dataframe tbody tr th:only-of-type {\n",
              "        vertical-align: middle;\n",
              "    }\n",
              "\n",
              "    .dataframe tbody tr th {\n",
              "        vertical-align: top;\n",
              "    }\n",
              "\n",
              "    .dataframe thead th {\n",
              "        text-align: right;\n",
              "    }\n",
              "</style>\n",
              "<table border=\"1\" class=\"dataframe\">\n",
              "  <thead>\n",
              "    <tr style=\"text-align: right;\">\n",
              "      <th></th>\n",
              "      <th>ImageName</th>\n",
              "      <th>NameType</th>\n",
              "      <th>NumberType</th>\n",
              "    </tr>\n",
              "  </thead>\n",
              "  <tbody>\n",
              "    <tr>\n",
              "      <th>0</th>\n",
              "      <td>124.jpg</td>\n",
              "      <td>Normal</td>\n",
              "      <td>0</td>\n",
              "    </tr>\n",
              "    <tr>\n",
              "      <th>1</th>\n",
              "      <td>128.jpg</td>\n",
              "      <td>Normal</td>\n",
              "      <td>0</td>\n",
              "    </tr>\n",
              "    <tr>\n",
              "      <th>2</th>\n",
              "      <td>151.jpg</td>\n",
              "      <td>Normal</td>\n",
              "      <td>0</td>\n",
              "    </tr>\n",
              "  </tbody>\n",
              "</table>\n",
              "</div>\n",
              "      <button class=\"colab-df-convert\" onclick=\"convertToInteractive('df-fbaadb3d-45bc-4942-8077-cf0bbea50f1f')\"\n",
              "              title=\"Convert this dataframe to an interactive table.\"\n",
              "              style=\"display:none;\">\n",
              "        \n",
              "  <svg xmlns=\"http://www.w3.org/2000/svg\" height=\"24px\"viewBox=\"0 0 24 24\"\n",
              "       width=\"24px\">\n",
              "    <path d=\"M0 0h24v24H0V0z\" fill=\"none\"/>\n",
              "    <path d=\"M18.56 5.44l.94 2.06.94-2.06 2.06-.94-2.06-.94-.94-2.06-.94 2.06-2.06.94zm-11 1L8.5 8.5l.94-2.06 2.06-.94-2.06-.94L8.5 2.5l-.94 2.06-2.06.94zm10 10l.94 2.06.94-2.06 2.06-.94-2.06-.94-.94-2.06-.94 2.06-2.06.94z\"/><path d=\"M17.41 7.96l-1.37-1.37c-.4-.4-.92-.59-1.43-.59-.52 0-1.04.2-1.43.59L10.3 9.45l-7.72 7.72c-.78.78-.78 2.05 0 2.83L4 21.41c.39.39.9.59 1.41.59.51 0 1.02-.2 1.41-.59l7.78-7.78 2.81-2.81c.8-.78.8-2.07 0-2.86zM5.41 20L4 18.59l7.72-7.72 1.47 1.35L5.41 20z\"/>\n",
              "  </svg>\n",
              "      </button>\n",
              "      \n",
              "  <style>\n",
              "    .colab-df-container {\n",
              "      display:flex;\n",
              "      flex-wrap:wrap;\n",
              "      gap: 12px;\n",
              "    }\n",
              "\n",
              "    .colab-df-convert {\n",
              "      background-color: #E8F0FE;\n",
              "      border: none;\n",
              "      border-radius: 50%;\n",
              "      cursor: pointer;\n",
              "      display: none;\n",
              "      fill: #1967D2;\n",
              "      height: 32px;\n",
              "      padding: 0 0 0 0;\n",
              "      width: 32px;\n",
              "    }\n",
              "\n",
              "    .colab-df-convert:hover {\n",
              "      background-color: #E2EBFA;\n",
              "      box-shadow: 0px 1px 2px rgba(60, 64, 67, 0.3), 0px 1px 3px 1px rgba(60, 64, 67, 0.15);\n",
              "      fill: #174EA6;\n",
              "    }\n",
              "\n",
              "    [theme=dark] .colab-df-convert {\n",
              "      background-color: #3B4455;\n",
              "      fill: #D2E3FC;\n",
              "    }\n",
              "\n",
              "    [theme=dark] .colab-df-convert:hover {\n",
              "      background-color: #434B5C;\n",
              "      box-shadow: 0px 1px 3px 1px rgba(0, 0, 0, 0.15);\n",
              "      filter: drop-shadow(0px 1px 2px rgba(0, 0, 0, 0.3));\n",
              "      fill: #FFFFFF;\n",
              "    }\n",
              "  </style>\n",
              "\n",
              "      <script>\n",
              "        const buttonEl =\n",
              "          document.querySelector('#df-fbaadb3d-45bc-4942-8077-cf0bbea50f1f button.colab-df-convert');\n",
              "        buttonEl.style.display =\n",
              "          google.colab.kernel.accessAllowed ? 'block' : 'none';\n",
              "\n",
              "        async function convertToInteractive(key) {\n",
              "          const element = document.querySelector('#df-fbaadb3d-45bc-4942-8077-cf0bbea50f1f');\n",
              "          const dataTable =\n",
              "            await google.colab.kernel.invokeFunction('convertToInteractive',\n",
              "                                                     [key], {});\n",
              "          if (!dataTable) return;\n",
              "\n",
              "          const docLinkHtml = 'Like what you see? Visit the ' +\n",
              "            '<a target=\"_blank\" href=https://colab.research.google.com/notebooks/data_table.ipynb>data table notebook</a>'\n",
              "            + ' to learn more about interactive tables.';\n",
              "          element.innerHTML = '';\n",
              "          dataTable['output_type'] = 'display_data';\n",
              "          await google.colab.output.renderOutput(dataTable, element);\n",
              "          const docLink = document.createElement('div');\n",
              "          docLink.innerHTML = docLinkHtml;\n",
              "          element.appendChild(docLink);\n",
              "        }\n",
              "      </script>\n",
              "    </div>\n",
              "  </div>\n",
              "  "
            ],
            "text/plain": [
              "  ImageName NameType  NumberType\n",
              "0   124.jpg   Normal           0\n",
              "1   128.jpg   Normal           0\n",
              "2   151.jpg   Normal           0"
            ]
          },
          "metadata": {},
          "execution_count": 9
        }
      ]
    },
    {
      "cell_type": "code",
      "source": [
        "data_train3 = pd.concat([tnormal, ttuberculosis, tlungcancer])\n",
        "data_train3[-3:]"
      ],
      "metadata": {
        "id": "bgArCw5jnwg2",
        "outputId": "5dc8c54d-960f-4475-b116-bdf5c9beee82",
        "colab": {
          "base_uri": "https://localhost:8080/",
          "height": 0
        }
      },
      "execution_count": 10,
      "outputs": [
        {
          "output_type": "execute_result",
          "data": {
            "text/html": [
              "\n",
              "  <div id=\"df-1f61156b-bff2-42c2-9ccd-01a6f51a937e\">\n",
              "    <div class=\"colab-df-container\">\n",
              "      <div>\n",
              "<style scoped>\n",
              "    .dataframe tbody tr th:only-of-type {\n",
              "        vertical-align: middle;\n",
              "    }\n",
              "\n",
              "    .dataframe tbody tr th {\n",
              "        vertical-align: top;\n",
              "    }\n",
              "\n",
              "    .dataframe thead th {\n",
              "        text-align: right;\n",
              "    }\n",
              "</style>\n",
              "<table border=\"1\" class=\"dataframe\">\n",
              "  <thead>\n",
              "    <tr style=\"text-align: right;\">\n",
              "      <th></th>\n",
              "      <th>ImageName</th>\n",
              "      <th>NameType</th>\n",
              "      <th>NumberType</th>\n",
              "    </tr>\n",
              "  </thead>\n",
              "  <tbody>\n",
              "    <tr>\n",
              "      <th>147</th>\n",
              "      <td>ca26.jpg</td>\n",
              "      <td>Lungcancer</td>\n",
              "      <td>2</td>\n",
              "    </tr>\n",
              "    <tr>\n",
              "      <th>148</th>\n",
              "      <td>ca7.jpg</td>\n",
              "      <td>Lungcancer</td>\n",
              "      <td>2</td>\n",
              "    </tr>\n",
              "    <tr>\n",
              "      <th>149</th>\n",
              "      <td>ca8.jpg</td>\n",
              "      <td>Lungcancer</td>\n",
              "      <td>2</td>\n",
              "    </tr>\n",
              "  </tbody>\n",
              "</table>\n",
              "</div>\n",
              "      <button class=\"colab-df-convert\" onclick=\"convertToInteractive('df-1f61156b-bff2-42c2-9ccd-01a6f51a937e')\"\n",
              "              title=\"Convert this dataframe to an interactive table.\"\n",
              "              style=\"display:none;\">\n",
              "        \n",
              "  <svg xmlns=\"http://www.w3.org/2000/svg\" height=\"24px\"viewBox=\"0 0 24 24\"\n",
              "       width=\"24px\">\n",
              "    <path d=\"M0 0h24v24H0V0z\" fill=\"none\"/>\n",
              "    <path d=\"M18.56 5.44l.94 2.06.94-2.06 2.06-.94-2.06-.94-.94-2.06-.94 2.06-2.06.94zm-11 1L8.5 8.5l.94-2.06 2.06-.94-2.06-.94L8.5 2.5l-.94 2.06-2.06.94zm10 10l.94 2.06.94-2.06 2.06-.94-2.06-.94-.94-2.06-.94 2.06-2.06.94z\"/><path d=\"M17.41 7.96l-1.37-1.37c-.4-.4-.92-.59-1.43-.59-.52 0-1.04.2-1.43.59L10.3 9.45l-7.72 7.72c-.78.78-.78 2.05 0 2.83L4 21.41c.39.39.9.59 1.41.59.51 0 1.02-.2 1.41-.59l7.78-7.78 2.81-2.81c.8-.78.8-2.07 0-2.86zM5.41 20L4 18.59l7.72-7.72 1.47 1.35L5.41 20z\"/>\n",
              "  </svg>\n",
              "      </button>\n",
              "      \n",
              "  <style>\n",
              "    .colab-df-container {\n",
              "      display:flex;\n",
              "      flex-wrap:wrap;\n",
              "      gap: 12px;\n",
              "    }\n",
              "\n",
              "    .colab-df-convert {\n",
              "      background-color: #E8F0FE;\n",
              "      border: none;\n",
              "      border-radius: 50%;\n",
              "      cursor: pointer;\n",
              "      display: none;\n",
              "      fill: #1967D2;\n",
              "      height: 32px;\n",
              "      padding: 0 0 0 0;\n",
              "      width: 32px;\n",
              "    }\n",
              "\n",
              "    .colab-df-convert:hover {\n",
              "      background-color: #E2EBFA;\n",
              "      box-shadow: 0px 1px 2px rgba(60, 64, 67, 0.3), 0px 1px 3px 1px rgba(60, 64, 67, 0.15);\n",
              "      fill: #174EA6;\n",
              "    }\n",
              "\n",
              "    [theme=dark] .colab-df-convert {\n",
              "      background-color: #3B4455;\n",
              "      fill: #D2E3FC;\n",
              "    }\n",
              "\n",
              "    [theme=dark] .colab-df-convert:hover {\n",
              "      background-color: #434B5C;\n",
              "      box-shadow: 0px 1px 3px 1px rgba(0, 0, 0, 0.15);\n",
              "      filter: drop-shadow(0px 1px 2px rgba(0, 0, 0, 0.3));\n",
              "      fill: #FFFFFF;\n",
              "    }\n",
              "  </style>\n",
              "\n",
              "      <script>\n",
              "        const buttonEl =\n",
              "          document.querySelector('#df-1f61156b-bff2-42c2-9ccd-01a6f51a937e button.colab-df-convert');\n",
              "        buttonEl.style.display =\n",
              "          google.colab.kernel.accessAllowed ? 'block' : 'none';\n",
              "\n",
              "        async function convertToInteractive(key) {\n",
              "          const element = document.querySelector('#df-1f61156b-bff2-42c2-9ccd-01a6f51a937e');\n",
              "          const dataTable =\n",
              "            await google.colab.kernel.invokeFunction('convertToInteractive',\n",
              "                                                     [key], {});\n",
              "          if (!dataTable) return;\n",
              "\n",
              "          const docLinkHtml = 'Like what you see? Visit the ' +\n",
              "            '<a target=\"_blank\" href=https://colab.research.google.com/notebooks/data_table.ipynb>data table notebook</a>'\n",
              "            + ' to learn more about interactive tables.';\n",
              "          element.innerHTML = '';\n",
              "          dataTable['output_type'] = 'display_data';\n",
              "          await google.colab.output.renderOutput(dataTable, element);\n",
              "          const docLink = document.createElement('div');\n",
              "          docLink.innerHTML = docLinkHtml;\n",
              "          element.appendChild(docLink);\n",
              "        }\n",
              "      </script>\n",
              "    </div>\n",
              "  </div>\n",
              "  "
            ],
            "text/plain": [
              "    ImageName    NameType  NumberType\n",
              "147  ca26.jpg  Lungcancer           2\n",
              "148   ca7.jpg  Lungcancer           2\n",
              "149   ca8.jpg  Lungcancer           2"
            ]
          },
          "metadata": {},
          "execution_count": 10
        }
      ]
    },
    {
      "cell_type": "markdown",
      "source": [
        "# 2 class\n",
        "*   #1 output 1 มิติ  ความน่าจะเป็น นำมาแปลง 0,1\n",
        "*   #2 output 2 มิติ  ความน่าจะเป็นที่จะเป็นคลาส 0 หรือ 1 \n",
        "\n"
      ],
      "metadata": {
        "id": "v7v_mA7BaXnU"
      }
    },
    {
      "cell_type": "code",
      "source": [
        "train_img_NorTB = []\n",
        "for ImageName in tqdm(data_train2['ImageName']):               # รัน ชื่อรูป ในไฟล์ data_test2\n",
        "    image_path = All_3class_dir +'/' + ImageName                          # ดึงรูปในโฟล์เดอร์มาทีละรูป\n",
        "    img = cv2.imread(image_path)                                            # อ่านรูป\n",
        "    img = cv2.resize(img, (224, 224))\n",
        "    train_img_NorTB.append(img)"
      ],
      "metadata": {
        "id": "kIe-kLDTgdtg",
        "outputId": "d003af77-b35e-4d35-ae23-4e9709571bd1",
        "colab": {
          "base_uri": "https://localhost:8080/"
        }
      },
      "execution_count": 13,
      "outputs": [
        {
          "output_type": "stream",
          "name": "stderr",
          "text": [
            "100%|██████████| 301/301 [03:06<00:00,  1.61it/s]\n"
          ]
        }
      ]
    },
    {
      "cell_type": "markdown",
      "source": [
        "### 2) output 2 มิติ : ค่า predict คือ ความน่าจะเป็น 2 ค่า \n",
        "(ความน่าจะเป็นที่จะเป็นคลาส 0 และ 1)"
      ],
      "metadata": {
        "id": "Zea960kXsd-6"
      }
    },
    {
      "cell_type": "code",
      "source": [
        "data2_2 = np.array(train_img_NorTB, dtype=\"float32\") / 255.0 "
      ],
      "metadata": {
        "id": "pDyx119XZih9"
      },
      "execution_count": 14,
      "outputs": []
    },
    {
      "cell_type": "code",
      "source": [
        "labels2_2 = np.array(data_train2[['NameType']] )            # Y  มี  d=2  (301, 1)\n",
        "labels2_2.shape = (len(labels2_2),)                                # Y  มี  d=1  (301, )\n",
        "\n",
        "le2_2 = LabelEncoder()                                                     # จะแปลงชื่อ class เป็นตัวเลข\n",
        "labels2_2 = le2_2.fit_transform(labels2_2)                          # Y  มี  d=1  (301,)\n",
        "\n",
        "labels2_2 = to_categorical(labels2_2, num_classes=2)    # แปลงเป็นเลข ดัมมี่ (1เป็น 1,0 ----- 0 เป็น  0,1)\n",
        "                                                                                 # Y  มี  d=2  (301, 2)    \n",
        "(trainX2_2, testX2_2, trainY2_2, testY2_2 ) = train_test_split(data2_2, labels2_2,\n",
        "\t                                                            test_size=0.25, random_state=40)"
      ],
      "metadata": {
        "id": "sRRAXo473l4A"
      },
      "execution_count": 15,
      "outputs": []
    },
    {
      "cell_type": "code",
      "source": [
        "le2_2.classes_                  # มีค่า ['Normal', 'Tuberculosis']"
      ],
      "metadata": {
        "colab": {
          "base_uri": "https://localhost:8080/"
        },
        "id": "T2FUC7cYZ8d2",
        "outputId": "291c916f-e066-41c9-f02b-bc34649a36ae"
      },
      "execution_count": 16,
      "outputs": [
        {
          "output_type": "execute_result",
          "data": {
            "text/plain": [
              "array(['Normal', 'Tuberculosis'], dtype=object)"
            ]
          },
          "metadata": {},
          "execution_count": 16
        }
      ]
    },
    {
      "cell_type": "markdown",
      "source": [
        "### train2_2"
      ],
      "metadata": {
        "id": "kkSv0-7hsd-9"
      }
    },
    {
      "cell_type": "code",
      "source": [
        "INIT_LR = 1e-1\n",
        "BS = 8\n",
        "EPOCHS = 50"
      ],
      "metadata": {
        "id": "8Uc13IIdsd--"
      },
      "execution_count": 17,
      "outputs": []
    },
    {
      "cell_type": "code",
      "source": [
        "aug = ImageDataGenerator(\n",
        "\t\trotation_range=20,\n",
        "\t\tzoom_range=0.25,\n",
        "\t\twidth_shift_range=0.25,\n",
        "\t\theight_shift_range=0.25,\n",
        "\t\tshear_range=0.25,\n",
        "\t\thorizontal_flip=True,\n",
        "\t\tfill_mode=\"nearest\")"
      ],
      "metadata": {
        "id": "V4YjAyIosd-_"
      },
      "execution_count": 18,
      "outputs": []
    },
    {
      "cell_type": "markdown",
      "source": [
        "DenseNet201"
      ],
      "metadata": {
        "id": "UU230_Txsd-_"
      }
    },
    {
      "cell_type": "code",
      "source": [
        "base_model2_2 = tf.keras.applications.DenseNet201(input_shape=(224, 224, 3), include_top=False, weights=\"imagenet\")"
      ],
      "metadata": {
        "id": "UNqxGeyBsd-_",
        "colab": {
          "base_uri": "https://localhost:8080/"
        },
        "outputId": "ba4b1e38-bf69-4e06-ecfb-7ca658b78e37"
      },
      "execution_count": 19,
      "outputs": [
        {
          "output_type": "stream",
          "name": "stdout",
          "text": [
            "Downloading data from https://storage.googleapis.com/tensorflow/keras-applications/densenet/densenet201_weights_tf_dim_ordering_tf_kernels_notop.h5\n",
            "74842112/74836368 [==============================] - 1s 0us/step\n",
            "74850304/74836368 [==============================] - 1s 0us/step\n"
          ]
        }
      ]
    },
    {
      "cell_type": "code",
      "source": [
        "base_model2_2.trainable=False\n",
        "\n",
        "#Add custom head\n",
        "average_pooling_layer = tf.keras.layers.GlobalAveragePooling2D()(base_model2_2.output)\n",
        "prediction_layer = tf.keras.layers.Dense(units=2, activation=\"sigmoid\")(average_pooling_layer)   # ลองแก้ unit จาก 1 เป็น 2\n",
        "model2_2 = tf.keras.models.Model(inputs=base_model2_2.input, outputs=prediction_layer)"
      ],
      "metadata": {
        "id": "9vjoepVTsd_A"
      },
      "execution_count": 20,
      "outputs": []
    },
    {
      "cell_type": "code",
      "source": [
        "model2_2.compile(optimizer=tf.keras.optimizers.RMSprop(learning_rate=0.0001), loss=\"binary_crossentropy\", metrics=[\"accuracy\"])"
      ],
      "metadata": {
        "id": "Y9Ygbeu8sd_A"
      },
      "execution_count": 21,
      "outputs": []
    },
    {
      "cell_type": "code",
      "source": [
        "callback = tf.keras.callbacks.EarlyStopping(\n",
        "    monitor=\"val_accuracy\",\n",
        "    patience=3,\n",
        "    mode=\"max\"   )"
      ],
      "metadata": {
        "id": "tbT5xMPHYkoI"
      },
      "execution_count": 24,
      "outputs": []
    },
    {
      "cell_type": "code",
      "source": [
        "H2_2 = model2_2.fit(\n",
        "\tx=aug.flow(trainX2_2, trainY2_2, batch_size=BS),\n",
        "\tvalidation_data=(testX2_2, testY2_2),\n",
        "\tsteps_per_epoch=len(trainX2_2) // BS,\n",
        "\tepochs=30, callbacks=[callback])"
      ],
      "metadata": {
        "outputId": "df5b29c4-7188-4cd9-9960-52e60914d3c6",
        "colab": {
          "base_uri": "https://localhost:8080/"
        },
        "id": "gg4K5eS6sd_B"
      },
      "execution_count": 25,
      "outputs": [
        {
          "output_type": "stream",
          "name": "stdout",
          "text": [
            "Epoch 1/30\n",
            "28/28 [==============================] - 82s 3s/step - loss: 0.6694 - accuracy: 0.6636 - val_loss: 0.7035 - val_accuracy: 0.4868\n",
            "Epoch 2/30\n",
            "28/28 [==============================] - 69s 2s/step - loss: 0.6695 - accuracy: 0.5853 - val_loss: 0.6863 - val_accuracy: 0.5000\n",
            "Epoch 3/30\n",
            "28/28 [==============================] - 69s 2s/step - loss: 0.6607 - accuracy: 0.6267 - val_loss: 0.6795 - val_accuracy: 0.5132\n",
            "Epoch 4/30\n",
            "28/28 [==============================] - 69s 2s/step - loss: 0.6469 - accuracy: 0.6728 - val_loss: 0.6621 - val_accuracy: 0.5395\n",
            "Epoch 5/30\n",
            "28/28 [==============================] - 70s 3s/step - loss: 0.6247 - accuracy: 0.7465 - val_loss: 0.6357 - val_accuracy: 0.6974\n",
            "Epoch 6/30\n",
            "28/28 [==============================] - 70s 3s/step - loss: 0.6116 - accuracy: 0.7327 - val_loss: 0.6241 - val_accuracy: 0.6842\n",
            "Epoch 7/30\n",
            "28/28 [==============================] - 69s 2s/step - loss: 0.6039 - accuracy: 0.7834 - val_loss: 0.6252 - val_accuracy: 0.6053\n",
            "Epoch 8/30\n",
            "28/28 [==============================] - 69s 2s/step - loss: 0.6012 - accuracy: 0.7005 - val_loss: 0.6056 - val_accuracy: 0.7105\n",
            "Epoch 9/30\n",
            "28/28 [==============================] - 68s 2s/step - loss: 0.5840 - accuracy: 0.7742 - val_loss: 0.5923 - val_accuracy: 0.7368\n",
            "Epoch 10/30\n",
            "28/28 [==============================] - 69s 2s/step - loss: 0.5669 - accuracy: 0.7926 - val_loss: 0.5869 - val_accuracy: 0.7368\n",
            "Epoch 11/30\n",
            "28/28 [==============================] - 68s 2s/step - loss: 0.5651 - accuracy: 0.8018 - val_loss: 0.5819 - val_accuracy: 0.7500\n",
            "Epoch 12/30\n",
            "28/28 [==============================] - 68s 2s/step - loss: 0.5717 - accuracy: 0.7742 - val_loss: 0.5687 - val_accuracy: 0.7632\n",
            "Epoch 13/30\n",
            "28/28 [==============================] - 68s 2s/step - loss: 0.5446 - accuracy: 0.8065 - val_loss: 0.5567 - val_accuracy: 0.7895\n",
            "Epoch 14/30\n",
            "28/28 [==============================] - 69s 2s/step - loss: 0.5473 - accuracy: 0.8203 - val_loss: 0.5459 - val_accuracy: 0.8158\n",
            "Epoch 15/30\n",
            "28/28 [==============================] - 69s 2s/step - loss: 0.5307 - accuracy: 0.8249 - val_loss: 0.5401 - val_accuracy: 0.8026\n",
            "Epoch 16/30\n",
            "28/28 [==============================] - 69s 2s/step - loss: 0.5252 - accuracy: 0.8433 - val_loss: 0.5332 - val_accuracy: 0.8026\n",
            "Epoch 17/30\n",
            "28/28 [==============================] - 69s 2s/step - loss: 0.5213 - accuracy: 0.8387 - val_loss: 0.5285 - val_accuracy: 0.8421\n",
            "Epoch 18/30\n",
            "28/28 [==============================] - 70s 3s/step - loss: 0.5001 - accuracy: 0.8341 - val_loss: 0.5173 - val_accuracy: 0.8158\n",
            "Epoch 19/30\n",
            "28/28 [==============================] - 71s 3s/step - loss: 0.5028 - accuracy: 0.8618 - val_loss: 0.5077 - val_accuracy: 0.8289\n",
            "Epoch 20/30\n",
            "28/28 [==============================] - 73s 3s/step - loss: 0.5125 - accuracy: 0.8295 - val_loss: 0.5009 - val_accuracy: 0.8421\n"
          ]
        }
      ]
    },
    {
      "cell_type": "markdown",
      "source": [
        "### test"
      ],
      "metadata": {
        "id": "fvuAsy6ksd_B"
      }
    },
    {
      "cell_type": "code",
      "source": [
        "predictions2_2 = model2_2.predict(testX2_2, batch_size=BS)"
      ],
      "metadata": {
        "id": "VsRLX4aTsd_C"
      },
      "execution_count": 26,
      "outputs": []
    },
    {
      "cell_type": "code",
      "source": [
        "predictions2_2.ndim"
      ],
      "metadata": {
        "colab": {
          "base_uri": "https://localhost:8080/"
        },
        "outputId": "ccf9f85c-a46e-489a-f387-3cb6aee037e3",
        "id": "gxecDtR5sd_C"
      },
      "execution_count": 27,
      "outputs": [
        {
          "output_type": "execute_result",
          "data": {
            "text/plain": [
              "2"
            ]
          },
          "metadata": {},
          "execution_count": 27
        }
      ]
    },
    {
      "cell_type": "code",
      "source": [
        "predictions2_2[:5]"
      ],
      "metadata": {
        "outputId": "2ec11484-0beb-4f4c-aecd-ef3bd3a1fe08",
        "colab": {
          "base_uri": "https://localhost:8080/"
        },
        "id": "Sla_lkDnsd_C"
      },
      "execution_count": 28,
      "outputs": [
        {
          "output_type": "execute_result",
          "data": {
            "text/plain": [
              "array([[0.61381483, 0.2656839 ],\n",
              "       [0.56421375, 0.46563235],\n",
              "       [0.19841915, 0.8529552 ],\n",
              "       [0.5035378 , 0.6111999 ],\n",
              "       [0.44217438, 0.6807624 ]], dtype=float32)"
            ]
          },
          "metadata": {},
          "execution_count": 28
        }
      ]
    },
    {
      "cell_type": "code",
      "source": [
        "print(classification_report(testY2_2.argmax(axis=1),\t\n",
        "                            predictions2_2.argmax(axis=1),  \n",
        "\t\t\t\t\t\t\ttarget_names=le2_2.classes_ ))"
      ],
      "metadata": {
        "id": "bcpQz7bAsd_C",
        "outputId": "3a186ad5-4225-4d82-a1f7-d5d00b0cd277",
        "colab": {
          "base_uri": "https://localhost:8080/"
        }
      },
      "execution_count": 29,
      "outputs": [
        {
          "output_type": "stream",
          "name": "stdout",
          "text": [
            "              precision    recall  f1-score   support\n",
            "\n",
            "      Normal       0.83      0.88      0.85        40\n",
            "Tuberculosis       0.85      0.81      0.83        36\n",
            "\n",
            "    accuracy                           0.84        76\n",
            "   macro avg       0.84      0.84      0.84        76\n",
            "weighted avg       0.84      0.84      0.84        76\n",
            "\n"
          ]
        }
      ]
    },
    {
      "cell_type": "code",
      "source": [
        "confusion_matrix(testY2_2.argmax(axis=1),\t\n",
        "                        predictions2_2.argmax(axis=1) )"
      ],
      "metadata": {
        "colab": {
          "base_uri": "https://localhost:8080/"
        },
        "outputId": "d763cf84-1df4-4585-87d4-f1d772f245a6",
        "id": "VuFzRhN0XgZl"
      },
      "execution_count": 30,
      "outputs": [
        {
          "output_type": "execute_result",
          "data": {
            "text/plain": [
              "array([[35,  5],\n",
              "       [ 7, 29]])"
            ]
          },
          "metadata": {},
          "execution_count": 30
        }
      ]
    },
    {
      "cell_type": "code",
      "source": [
        ""
      ],
      "metadata": {
        "id": "Sap6QRo6a3gF"
      },
      "execution_count": null,
      "outputs": []
    },
    {
      "cell_type": "code",
      "source": [
        "score = metrics.accuracy_score(testY2_2.argmax(axis=1),\t\n",
        "                                            predictions2_2.argmax(axis=1))\n",
        "print(f\"Fold score (accuracy): {score}\")"
      ],
      "metadata": {
        "id": "KmSpoYIea29t",
        "outputId": "a3ad276e-1a45-4943-8664-c4e79de48b91",
        "colab": {
          "base_uri": "https://localhost:8080/"
        }
      },
      "execution_count": 43,
      "outputs": [
        {
          "output_type": "stream",
          "name": "stdout",
          "text": [
            "Fold score (accuracy): 0.8421052631578947\n"
          ]
        }
      ]
    },
    {
      "cell_type": "code",
      "source": [
        ""
      ],
      "metadata": {
        "id": "KrYNUcZeaw5c"
      },
      "execution_count": null,
      "outputs": []
    },
    {
      "cell_type": "code",
      "source": [
        ""
      ],
      "metadata": {
        "id": "ChNb8VWhaw2p"
      },
      "execution_count": null,
      "outputs": []
    },
    {
      "cell_type": "code",
      "source": [
        ""
      ],
      "metadata": {
        "id": "Ogt55BPQax8m"
      },
      "execution_count": null,
      "outputs": []
    },
    {
      "cell_type": "code",
      "source": [
        ""
      ],
      "metadata": {
        "id": "RW3IPmV4ax6O"
      },
      "execution_count": null,
      "outputs": []
    },
    {
      "cell_type": "code",
      "source": [
        ""
      ],
      "metadata": {
        "id": "FO55HfVDawyQ"
      },
      "execution_count": null,
      "outputs": []
    },
    {
      "cell_type": "markdown",
      "source": [
        "### K-fold"
      ],
      "metadata": {
        "id": "VHI9wn5TXEn8"
      }
    },
    {
      "cell_type": "code",
      "source": [
        "data2_2 = np.array(train_img_NorTB, dtype=\"float32\") / 255.0 \n",
        "\n",
        "labels2_2 = np.array(data_train2[['NameType']] )            # Y  มี  d=2  (301, 1)\n",
        "labels2_2.shape = (len(labels2_2),)                                # Y  มี  d=1  (301, )\n",
        "\n",
        "le2_2 = LabelEncoder()                                                     # จะแปลงชื่อ class เป็นตัวเลข\n",
        "labels2_2 = le2_2.fit_transform(labels2_2)                          # Y  มี  d=1  (301,)\n",
        "\n",
        "labels2_2 = to_categorical(labels2_2, num_classes=2)    # แปลงเป็นเลข ดัมมี่ (1เป็น 1,0 ----- 0 เป็น  0,1)\n",
        "                                                                                 # Y  มี  d=2  (301, 2)    \n"
      ],
      "metadata": {
        "id": "BT44DLTvXIwM"
      },
      "execution_count": 41,
      "outputs": []
    },
    {
      "cell_type": "code",
      "source": [
        "from sklearn.model_selection import KFold\n",
        "from sklearn import metrics\n",
        "from scipy.stats import zscore"
      ],
      "metadata": {
        "id": "5vC1iRCkXIqQ"
      },
      "execution_count": 42,
      "outputs": []
    },
    {
      "cell_type": "code",
      "source": [
        "kf = KFold(3, shuffle=True, random_state=40) \n",
        "kf.get_n_splits()"
      ],
      "metadata": {
        "colab": {
          "base_uri": "https://localhost:8080/"
        },
        "id": "uzYxZwU_Xfof",
        "outputId": "81f55412-e67a-44e7-bbd6-0f1b1bf83fbf"
      },
      "execution_count": 36,
      "outputs": [
        {
          "output_type": "execute_result",
          "data": {
            "text/plain": [
              "3"
            ]
          },
          "metadata": {},
          "execution_count": 36
        }
      ]
    },
    {
      "cell_type": "code",
      "source": [
        "oos_y = []\n",
        "oos_pred = []\n",
        "\n",
        "fold = 0\n",
        "for train, test in kf.split(data2_2):\n",
        "    fold+=1\n",
        "    print(f\"Fold #{fold}\")\n",
        "        \n",
        "    x_train2_2 = data2_2[train]\n",
        "    y_train2_2 = labels2_2[train]\n",
        "    x_test2_2 = data2_2[test]\n",
        "    y_test2_2 = labels2_2[test]\n",
        "\n",
        "    model2_2.fit( x=aug.flow(x_train2_2, y_train2_2, batch_size=BS),\n",
        "\t                    validation_data=(x_test2_2, y_test2_2),\n",
        "\t                    steps_per_epoch=len(x_train2_2) // BS,\n",
        "\t                    epochs=5, callbacks=[callback])\n",
        "    \n",
        "    pred = model2_2.predict(x_test2_2)\n",
        "    \n",
        "    oos_y.append(y_test2_2)\n",
        "    # raw probabilities to chosen class (highest probability)\n",
        "    pred = np.argmax(pred,axis=1) \n",
        "    oos_pred.append(pred)  \n",
        "\n",
        "    # Measure this fold's accuracy\n",
        "    y_compare = np.argmax(y_test2_2,axis=1) # For accuracy calculation\n",
        "    score = metrics.accuracy_score(y_compare, pred)\n",
        "    print(f\"Fold score (accuracy): {score}\")\n"
      ],
      "metadata": {
        "id": "GTiVehsLXIm1"
      },
      "execution_count": null,
      "outputs": []
    },
    {
      "cell_type": "code",
      "source": [
        ""
      ],
      "metadata": {
        "id": "f0K0y9SgXYbJ"
      },
      "execution_count": 30,
      "outputs": []
    },
    {
      "cell_type": "markdown",
      "source": [
        "## Fine tuning"
      ],
      "metadata": {
        "id": "NJr8f8hoIw4-"
      }
    },
    {
      "cell_type": "code",
      "source": [
        "len(base_model2_2.layers)"
      ],
      "metadata": {
        "id": "IHSmrRksYSCl"
      },
      "execution_count": null,
      "outputs": []
    },
    {
      "cell_type": "code",
      "source": [
        "base_model2_2.trainable = True\n",
        "for layer in base_model2_2.layers[:300]:    #fix w & bias in layer 0-300\n",
        "    layer.trainable = False"
      ],
      "metadata": {
        "id": "gi0d5hrAOzka"
      },
      "execution_count": null,
      "outputs": []
    },
    {
      "cell_type": "code",
      "source": [
        "model2_2.compile(optimizer=tf.keras.optimizers.RMSprop(learning_rate=0.0001),\n",
        "              loss=\"binary_crossentropy\", metrics=[\"accuracy\"])"
      ],
      "metadata": {
        "id": "IuciYoJoOzka"
      },
      "execution_count": null,
      "outputs": []
    },
    {
      "cell_type": "code",
      "source": [
        "H2_2Finetune = model2_2.fit(\n",
        "\tx=aug.flow(trainX2_2, trainY2_2, batch_size=BS),\n",
        "\tvalidation_data=(testX2_2, testY2_2),\n",
        "\tsteps_per_epoch=len(trainX2_2) // BS,\n",
        "\tepochs=30, callbacks=[callback])"
      ],
      "metadata": {
        "id": "jQJRFgFpOzkb"
      },
      "execution_count": null,
      "outputs": []
    },
    {
      "cell_type": "code",
      "source": [
        ""
      ],
      "metadata": {
        "id": "Yn3dfYsSOwxr"
      },
      "execution_count": null,
      "outputs": []
    },
    {
      "cell_type": "markdown",
      "source": [
        "###  Fine tuning test"
      ],
      "metadata": {
        "id": "_2rKok3bK9bR"
      }
    },
    {
      "cell_type": "code",
      "source": [
        "predictions2_2 = model2_2.predict(testX2_2, batch_size=BS)"
      ],
      "metadata": {
        "id": "ZtqZ4MWIK9bR"
      },
      "execution_count": null,
      "outputs": []
    },
    {
      "cell_type": "code",
      "source": [
        "predictions2_2.ndim"
      ],
      "metadata": {
        "id": "ARj5TBfnK9bS"
      },
      "execution_count": null,
      "outputs": []
    },
    {
      "cell_type": "code",
      "source": [
        "predictions2_2[:5]"
      ],
      "metadata": {
        "id": "2CxPlbX4K9bS"
      },
      "execution_count": null,
      "outputs": []
    },
    {
      "cell_type": "code",
      "source": [
        "print(classification_report(testY2_2.argmax(axis=1),\t\n",
        "                            predictions2_2.argmax(axis=1),  \n",
        "\t\t\t\t\t\t\ttarget_names=le2_2.classes_ ))"
      ],
      "metadata": {
        "id": "V5TeBZrWK9bS"
      },
      "execution_count": null,
      "outputs": []
    },
    {
      "cell_type": "code",
      "source": [
        "confusion_matrix(testY2_2.argmax(axis=1),\t\n",
        "                        predictions2_2.argmax(axis=1) )"
      ],
      "metadata": {
        "id": "0D_g8qbsK9bT"
      },
      "execution_count": null,
      "outputs": []
    },
    {
      "cell_type": "code",
      "source": [
        ""
      ],
      "metadata": {
        "id": "L0kdpYHlqdUW"
      },
      "execution_count": null,
      "outputs": []
    },
    {
      "cell_type": "code",
      "source": [
        "#save model\n",
        "import pickle\n",
        "with open('model2_2.pkl', 'wb') as pickle_file:\n",
        "    pickle.dump(model2_2, pickle_file)"
      ],
      "metadata": {
        "id": "VaY3mIaJnQKi"
      },
      "execution_count": null,
      "outputs": []
    },
    {
      "cell_type": "code",
      "source": [
        "#load model\n",
        "import pickle\n",
        "with open('model2_2.pkl', 'rb') as pickle_file:\n",
        "    new_data = pickle.load(pickle_file)"
      ],
      "metadata": {
        "id": "s_Ca6KSVn513"
      },
      "execution_count": null,
      "outputs": []
    },
    {
      "cell_type": "code",
      "source": [
        "predictions2_2test = new_data.predict(testX2_2, batch_size=BS)"
      ],
      "metadata": {
        "id": "PLklaNXznNh8"
      },
      "execution_count": null,
      "outputs": []
    },
    {
      "cell_type": "code",
      "source": [
        "print(classification_report(testY2_2.argmax(axis=1),\t\n",
        "                            predictions2_2test.argmax(axis=1),  \n",
        "\t\t\t\t\t\t\ttarget_names=le2_2.classes_ ))"
      ],
      "metadata": {
        "id": "ZJ-UbqNqnNcQ"
      },
      "execution_count": null,
      "outputs": []
    },
    {
      "cell_type": "code",
      "source": [
        ""
      ],
      "metadata": {
        "id": "yhvKL9GYK9bT"
      },
      "execution_count": null,
      "outputs": []
    },
    {
      "cell_type": "code",
      "source": [
        ""
      ],
      "metadata": {
        "id": "xL4WZQOo9b2z"
      },
      "execution_count": null,
      "outputs": []
    },
    {
      "cell_type": "markdown",
      "source": [
        "# 3 class ==>  ***DenseNet201***"
      ],
      "metadata": {
        "id": "7BHymtmpac8d"
      }
    },
    {
      "cell_type": "markdown",
      "source": [
        "###แบ่งข้อมูล3"
      ],
      "metadata": {
        "id": "GCH9hU8Wa_E9"
      }
    },
    {
      "cell_type": "code",
      "source": [
        "train_img_NorTBCa = []\n",
        "for ImageName in tqdm(data_train3['ImageName']):               # รัน ชื่อรูป ในไฟล์ data_test3\n",
        "    image_path = All_3class_dir +'/' + ImageName                          # ดึงรูปในโฟล์เดอร์มาทีละรูป\n",
        "    img = cv2.imread(image_path)                                            # อ่านรูป\n",
        "    img = cv2.resize(img, (224, 224))                                   #ขนาดของ input\n",
        "    train_img_NorTBCa.append(img)"
      ],
      "metadata": {
        "id": "J5ue0ZeTAjmo",
        "outputId": "9ed31d4c-ec80-418a-9025-21949ace2a37",
        "colab": {
          "base_uri": "https://localhost:8080/"
        }
      },
      "execution_count": null,
      "outputs": [
        {
          "output_type": "stream",
          "name": "stderr",
          "text": [
            "100%|██████████| 451/451 [00:04<00:00, 98.12it/s] \n"
          ]
        }
      ]
    },
    {
      "cell_type": "code",
      "source": [
        "data3 = np.array(train_img_NorTBCa, dtype=\"float32\") / 255.0"
      ],
      "metadata": {
        "id": "ScK9VDmp-f2p"
      },
      "execution_count": null,
      "outputs": []
    },
    {
      "cell_type": "code",
      "source": [
        "labels3 = np.array(data_train3[['NameType']] )        \n",
        "labels3.shape = (len(labels3),) \n",
        "\n",
        "le3 = LabelEncoder()                                                                     \n",
        "labels3 = le3.fit_transform(labels3)                                         #จะแปลงชื่อ class เป็นตัวเลข 1, 2, 0 \n",
        "\n",
        "labels3 = to_categorical(labels3, num_classes=3)                   #shape (180, 3) มีค่าเป็น  [0., 1., 0.]  กับ   [0., 0., 1.] กับ  [1., 0., 0.]"
      ],
      "metadata": {
        "id": "lZnY6pzipbXQ"
      },
      "execution_count": null,
      "outputs": []
    },
    {
      "cell_type": "code",
      "source": [
        "(trainX3, testX3, trainY3, testY3) = train_test_split(data3, labels3,\n",
        "\t                                               test_size=0.25, random_state=40)"
      ],
      "metadata": {
        "id": "Z9qSb9PfD9Xe"
      },
      "execution_count": 64,
      "outputs": []
    },
    {
      "cell_type": "code",
      "source": [
        "le3.classes_"
      ],
      "metadata": {
        "id": "uec5xR1kqHqN",
        "outputId": "df04ba01-a369-464e-fc35-1f5a2084b850",
        "colab": {
          "base_uri": "https://localhost:8080/"
        }
      },
      "execution_count": null,
      "outputs": [
        {
          "output_type": "execute_result",
          "data": {
            "text/plain": [
              "array(['Lungcancer', 'Normal', 'Tuberculosis'], dtype=object)"
            ]
          },
          "metadata": {},
          "execution_count": 51
        }
      ]
    },
    {
      "cell_type": "code",
      "source": [
        "i224 = trainX3[0]"
      ],
      "metadata": {
        "id": "hcqpWG46G5cE"
      },
      "execution_count": null,
      "outputs": []
    },
    {
      "cell_type": "code",
      "source": [
        "plt.imshow(i224) "
      ],
      "metadata": {
        "id": "rhUsweIRG3Wj",
        "outputId": "5997beae-4ee9-49de-e931-2d8135dc0b19",
        "colab": {
          "base_uri": "https://localhost:8080/"
        }
      },
      "execution_count": null,
      "outputs": [
        {
          "output_type": "execute_result",
          "data": {
            "text/plain": [
              "<matplotlib.image.AxesImage at 0x7ff03a2e86d0>"
            ]
          },
          "metadata": {},
          "execution_count": 54
        }
      ]
    },
    {
      "cell_type": "markdown",
      "source": [
        "### train3"
      ],
      "metadata": {
        "id": "0M1IoQ2wpbXS"
      }
    },
    {
      "cell_type": "code",
      "source": [
        "# initialize the initial learning rate, batch size, and number of\n",
        "# epochs to train for\n",
        "INIT_LR = 1e-1\n",
        "BS = 8\n",
        "EPOCHS = 50"
      ],
      "metadata": {
        "id": "kRCabH4zpbXS"
      },
      "execution_count": null,
      "outputs": []
    },
    {
      "cell_type": "code",
      "source": [
        "# initialize an our data augmenter as an \"empty\" image data generator\n",
        "aug = ImageDataGenerator(\n",
        "\t\trotation_range=20,\t\t\t\t\t\t#องศาการหมุน\n",
        "\t\twidth_shift_range=0.15,\n",
        "\t\theight_shift_range=0.15,\n",
        "\t\tshear_range=0.15,\n",
        "\t\thorizontal_flip=True,\n",
        "\t\tfill_mode=\"nearest\")"
      ],
      "metadata": {
        "id": "K_s-d8kxpbXT"
      },
      "execution_count": null,
      "outputs": []
    },
    {
      "cell_type": "markdown",
      "source": [
        "DenseNet201"
      ],
      "metadata": {
        "id": "CDGCk4mVpbXT"
      }
    },
    {
      "cell_type": "code",
      "source": [
        "base_model3 = tf.keras.applications.DenseNet201(input_shape=(224, 224, 3), include_top=False, weights=\"imagenet\")"
      ],
      "metadata": {
        "id": "UhzXMnm3pbXT"
      },
      "execution_count": null,
      "outputs": []
    },
    {
      "cell_type": "code",
      "source": [
        "base_model3.trainable=False\n",
        "\n",
        "#Add custom head\n",
        "average_pooling_layer = tf.keras.layers.GlobalAveragePooling2D()(base_model3.output)\n",
        "prediction_layer = tf.keras.layers.Dense(units=3, activation=\"softmax\")(average_pooling_layer)   # unit 3\n",
        "model3 = tf.keras.models.Model(inputs=base_model3.input, outputs=prediction_layer)"
      ],
      "metadata": {
        "id": "XTNDU7eRpbXT"
      },
      "execution_count": null,
      "outputs": []
    },
    {
      "cell_type": "code",
      "source": [
        "model3.compile(optimizer=tf.keras.optimizers.RMSprop(learning_rate=0.0001), loss=\"binary_crossentropy\", metrics=[\"accuracy\"])"
      ],
      "metadata": {
        "id": "y8xZmCoLpbXU"
      },
      "execution_count": null,
      "outputs": []
    },
    {
      "cell_type": "code",
      "source": [
        "callback = tf.keras.callbacks.EarlyStopping(\n",
        "                monitor=\"val_accuracy\",\n",
        "                patience=2,\n",
        "                mode=\"max\" )"
      ],
      "metadata": {
        "id": "ayUMkbU5HeFk"
      },
      "execution_count": null,
      "outputs": []
    },
    {
      "cell_type": "code",
      "source": [
        "H3 = model3.fit(\n",
        "\tx=aug.flow(trainX3, trainY3, batch_size=BS),\n",
        "\tvalidation_data=(testX3, testY3),\n",
        "\tsteps_per_epoch=len(trainX3) // BS,\n",
        "\tepochs=15, callbacks=[callback])"
      ],
      "metadata": {
        "outputId": "92d9dfe4-a359-45ac-b3e2-8536b84f2a3e",
        "colab": {
          "base_uri": "https://localhost:8080/"
        },
        "id": "ExPYVKEZpbXU"
      },
      "execution_count": null,
      "outputs": [
        {
          "output_type": "stream",
          "name": "stdout",
          "text": [
            "Epoch 1/15\n",
            "42/42 [==============================] - 127s 3s/step - loss: 0.5191 - accuracy: 0.6545 - val_loss: 0.5176 - val_accuracy: 0.6549\n",
            "Epoch 2/15\n",
            "42/42 [==============================] - 125s 3s/step - loss: 0.5016 - accuracy: 0.7152 - val_loss: 0.5153 - val_accuracy: 0.6283\n",
            "Epoch 3/15\n",
            "42/42 [==============================] - 130s 3s/step - loss: 0.4978 - accuracy: 0.6697 - val_loss: 0.5092 - val_accuracy: 0.6372\n"
          ]
        }
      ]
    },
    {
      "cell_type": "markdown",
      "source": [
        "### test3"
      ],
      "metadata": {
        "id": "YBi4CNfUpbXU"
      }
    },
    {
      "cell_type": "code",
      "source": [
        "predictions3 = model3.predict(testX3, batch_size=BS)"
      ],
      "metadata": {
        "id": "885sI8BlpbXU"
      },
      "execution_count": null,
      "outputs": []
    },
    {
      "cell_type": "code",
      "source": [
        "predictions3[:10]"
      ],
      "metadata": {
        "id": "sOqAGUQ_pbXV",
        "outputId": "96042994-5d49-4142-8ee1-74c5969ca405",
        "colab": {
          "base_uri": "https://localhost:8080/"
        }
      },
      "execution_count": null,
      "outputs": [
        {
          "output_type": "execute_result",
          "data": {
            "text/plain": [
              "array([[0.42234102, 0.13188112, 0.44577783],\n",
              "       [0.186726  , 0.6324133 , 0.18086062],\n",
              "       [0.21302216, 0.5828812 , 0.20409662],\n",
              "       [0.23423858, 0.5375274 , 0.2282341 ],\n",
              "       [0.19059137, 0.47671348, 0.33269513],\n",
              "       [0.4642991 , 0.17544255, 0.36025837],\n",
              "       [0.06541688, 0.874891  , 0.05969217],\n",
              "       [0.75105363, 0.0239564 , 0.22499003],\n",
              "       [0.16421191, 0.60468954, 0.23109847],\n",
              "       [0.45769677, 0.02739605, 0.5149072 ]], dtype=float32)"
            ]
          },
          "metadata": {},
          "execution_count": 70
        }
      ]
    },
    {
      "cell_type": "code",
      "source": [
        "testY3.argmax(axis=1)"
      ],
      "metadata": {
        "id": "mjxr3qKAO9rV",
        "outputId": "c47e1171-63bc-44e7-c5fe-f530e270a1c5",
        "colab": {
          "base_uri": "https://localhost:8080/"
        }
      },
      "execution_count": null,
      "outputs": [
        {
          "output_type": "execute_result",
          "data": {
            "text/plain": [
              "array([0, 1, 1, 1, 2, 0, 1, 2, 1, 0, 2, 1, 2, 0, 1, 1, 1, 1, 1, 0, 0, 2,\n",
              "       1, 2, 2, 1, 2, 0, 1, 2, 1, 1, 1, 2, 1, 2, 1, 0, 2, 1, 0, 2, 0, 0,\n",
              "       1, 2, 2, 0, 1, 1, 1, 1, 2, 0, 2, 1, 2, 0, 1, 0, 2, 2, 1, 1, 0, 1,\n",
              "       0, 2, 1, 2, 0, 0, 0, 2, 0, 0, 1, 2, 0, 2, 2, 2, 0, 2, 2, 1, 0, 2,\n",
              "       0, 0, 0, 0, 1, 1, 2, 0, 1, 1, 2, 1, 2, 0, 2, 1, 0, 1, 2, 0, 0, 1,\n",
              "       2, 2, 0])"
            ]
          },
          "metadata": {},
          "execution_count": 71
        }
      ]
    },
    {
      "cell_type": "code",
      "source": [
        "print(classification_report(testY3.argmax(axis=1),\t\n",
        "                           predictions3.argmax(axis=1),  \n",
        "                            target_names=le3.classes_))"
      ],
      "metadata": {
        "id": "gcuplSESpbXV",
        "outputId": "17bb5dab-1065-4594-d310-e8bbc63c5dd3",
        "colab": {
          "base_uri": "https://localhost:8080/"
        }
      },
      "execution_count": null,
      "outputs": [
        {
          "output_type": "stream",
          "name": "stdout",
          "text": [
            "              precision    recall  f1-score   support\n",
            "\n",
            "  Lungcancer       0.59      0.63      0.61        35\n",
            "      Normal       0.65      1.00      0.79        41\n",
            "Tuberculosis       0.54      0.19      0.28        37\n",
            "\n",
            "    accuracy                           0.62       113\n",
            "   macro avg       0.59      0.61      0.56       113\n",
            "weighted avg       0.60      0.62      0.57       113\n",
            "\n"
          ]
        }
      ]
    },
    {
      "cell_type": "code",
      "source": [
        "confusion_matrix(testY3.argmax(axis=1),\t\n",
        "                        predictions3.argmax(axis=1) )"
      ],
      "metadata": {
        "id": "uLqBIuovpbXV",
        "outputId": "14740c79-e2b9-41b8-f2d7-0c482b1d9626",
        "colab": {
          "base_uri": "https://localhost:8080/"
        }
      },
      "execution_count": null,
      "outputs": [
        {
          "output_type": "execute_result",
          "data": {
            "text/plain": [
              "array([[22,  7,  6],\n",
              "       [ 0, 41,  0],\n",
              "       [15, 15,  7]])"
            ]
          },
          "metadata": {},
          "execution_count": 73
        }
      ]
    },
    {
      "cell_type": "code",
      "source": [
        ""
      ],
      "metadata": {
        "id": "8r7qimSWsJUu"
      },
      "execution_count": null,
      "outputs": []
    },
    {
      "cell_type": "markdown",
      "source": [
        "### ส่วนใหม่"
      ],
      "metadata": {
        "id": "GPAvT-Z7sLN9"
      }
    },
    {
      "cell_type": "code",
      "source": [
        "train_img_NorTBCa = []\n",
        "for ImageName in tqdm(data_train3['ImageName']):               # รัน ชื่อรูป ในไฟล์ data_test3\n",
        "    image_path = All_3class_dir +'/' + ImageName                          # ดึงรูปในโฟล์เดอร์มาทีละรูป\n",
        "    img = cv2.imread(image_path)                                            # อ่านรูป\n",
        "    img = cv2.resize(img, (224, 224))                                   #ขนาดของ input\n",
        "    train_img_NorTBCa.append(img)\n",
        "\n",
        "data3 = np.array(train_img_NorTBCa, dtype=\"float32\") / 255.0"
      ],
      "metadata": {
        "outputId": "812eadfd-39f3-4716-8a0e-ffea781daf25",
        "colab": {
          "base_uri": "https://localhost:8080/"
        },
        "id": "r1XkW-_JsVM4"
      },
      "execution_count": 47,
      "outputs": [
        {
          "output_type": "stream",
          "name": "stderr",
          "text": [
            "100%|██████████| 451/451 [01:31<00:00,  4.90it/s]\n"
          ]
        }
      ]
    },
    {
      "cell_type": "code",
      "source": [
        "labels3 = np.array(data_train3[['NameType']] )        \n",
        "labels3.shape = (len(labels3),) \n",
        "\n",
        "le3 = LabelEncoder()                                                                     \n",
        "labels3 = le3.fit_transform(labels3)                                         #จะแปลงชื่อ class เป็นตัวเลข 1, 2, 0 \n",
        "\n",
        "labels3 = to_categorical(labels3, num_classes=3)                   #shape (180, 3) มีค่าเป็น  [0., 1., 0.]  กับ   [0., 0., 1.] กับ  [1., 0., 0.]"
      ],
      "metadata": {
        "id": "4Z-Fcs--sVM5"
      },
      "execution_count": 48,
      "outputs": []
    },
    {
      "cell_type": "code",
      "source": [
        "INIT_LR = 1e-1\n",
        "BS = 8\n",
        "EPOCHS = 50"
      ],
      "metadata": {
        "id": "IhXxm0qvsrCm"
      },
      "execution_count": 49,
      "outputs": []
    },
    {
      "cell_type": "code",
      "source": [
        "aug = ImageDataGenerator(\n",
        "\t\trotation_range=15,\t\t\t\t\t\t#องศาการหมุน\n",
        "\t\twidth_shift_range=0.1,\n",
        "\t\theight_shift_range=0.1,\n",
        "\t\tshear_range=0.15,\n",
        "\t\thorizontal_flip=True,\n",
        "\t\tfill_mode=\"nearest\")\n",
        "\n",
        "callback = tf.keras.callbacks.EarlyStopping(\n",
        "                monitor=\"val_accuracy\",\n",
        "                patience=2,\n",
        "                mode=\"max\" )"
      ],
      "metadata": {
        "id": "A_oLh-C-srCn"
      },
      "execution_count": 54,
      "outputs": []
    },
    {
      "cell_type": "code",
      "source": [
        "base_model3 = tf.keras.applications.DenseNet201(input_shape=(224, 224, 3), include_top=False, weights=\"imagenet\")"
      ],
      "metadata": {
        "id": "KyqY38_NsrCo"
      },
      "execution_count": 51,
      "outputs": []
    },
    {
      "cell_type": "code",
      "source": [
        "base_model3.trainable=False\n",
        "\n",
        "#Add custom head\n",
        "average_pooling_layer = tf.keras.layers.GlobalAveragePooling2D()(base_model3.output)\n",
        "prediction_layer = tf.keras.layers.Dense(units=3, activation=\"softmax\")(average_pooling_layer)   # unit 3\n",
        "model3 = tf.keras.models.Model(inputs=base_model3.input, outputs=prediction_layer)"
      ],
      "metadata": {
        "id": "ss6utiLGsrCo"
      },
      "execution_count": 52,
      "outputs": []
    },
    {
      "cell_type": "code",
      "source": [
        "model3.compile(optimizer=tf.keras.optimizers.RMSprop(learning_rate=0.0001), loss=\"binary_crossentropy\", metrics=[\"accuracy\"])"
      ],
      "metadata": {
        "id": "AlUXOye-srCo"
      },
      "execution_count": 53,
      "outputs": []
    },
    {
      "cell_type": "code",
      "source": [
        "kf = KFold(5, shuffle=True, random_state=40) \n",
        "kf.get_n_splits()"
      ],
      "metadata": {
        "outputId": "df0816e9-d312-456a-b7a1-1c2b89c7d0c4",
        "colab": {
          "base_uri": "https://localhost:8080/"
        },
        "id": "E7PvEY5wsJem"
      },
      "execution_count": 45,
      "outputs": [
        {
          "output_type": "execute_result",
          "data": {
            "text/plain": [
              "5"
            ]
          },
          "metadata": {},
          "execution_count": 45
        }
      ]
    },
    {
      "cell_type": "code",
      "source": [
        "oos_y = []\n",
        "oos_pred = []\n",
        "fold = 0\n",
        "for train, test in kf.split(data3):\n",
        "    fold+=1\n",
        "    print(f\"Fold #{fold}\")\n",
        "        \n",
        "    x_train3 = data3[train]\n",
        "    y_train3 = labels3[train]\n",
        "    x_test3 = data3[test]\n",
        "    y_test3 = labels3[test]\n",
        "\n",
        "    model3.fit( x=aug.flow(x_train3, y_train3, batch_size=BS),\n",
        "\t                    validation_data=(x_test3, y_test3),\n",
        "\t                    steps_per_epoch=len(x_train3) // BS,\n",
        "\t                    epochs=10, callbacks=[callback])\n",
        "    \n",
        "    pred3 = model3.predict(x_test3)\n",
        "    \n",
        "\n",
        "    oos_y.append(y_test3)\n",
        "    # raw probabilities to chosen class (highest probability)\n",
        "#    pred = np.argmax(pred,axis=1) \n",
        "    oos_pred.append(pred3)  \n",
        "\n",
        "    # Measure this fold's accuracy\n",
        "    y_compare = np.argmax(y_test3,axis=1) # For accuracy calculation\n",
        "\n",
        "\n",
        "\n",
        " #   score = metrics.accuracy_score(y_test3.argmax(axis=1),\t\n",
        "  #                                               pred3.argmax(axis=1)\n",
        "#    print(f\"Fold score (accuracy): {score}\")\n",
        "\n",
        "    print(classification_report(y_test3.argmax(axis=1),\t\n",
        "                                        pred3.argmax(axis=1),  \n",
        "                                        target_names=le3.classes_))\n",
        "\n",
        "#    print(confusion_matrix(testY3.argmax(axis=1),\t\n",
        "#                        predictions3.argmax(axis=1) ) )\n"
      ],
      "metadata": {
        "outputId": "cd4dbdc0-264b-4e9a-8e5c-ba1360522ad6",
        "colab": {
          "base_uri": "https://localhost:8080/"
        },
        "id": "REMrx7qLsJeo"
      },
      "execution_count": 61,
      "outputs": [
        {
          "output_type": "stream",
          "name": "stdout",
          "text": [
            "Fold #1\n",
            "Epoch 1/10\n",
            "45/45 [==============================] - 105s 2s/step - loss: 0.5383 - accuracy: 0.6917 - val_loss: 0.5383 - val_accuracy: 0.6044\n",
            "Epoch 2/10\n",
            "45/45 [==============================] - 124s 3s/step - loss: 0.5356 - accuracy: 0.6583 - val_loss: 0.5334 - val_accuracy: 0.6044\n",
            "Epoch 3/10\n",
            "45/45 [==============================] - 105s 2s/step - loss: 0.5265 - accuracy: 0.6472 - val_loss: 0.5233 - val_accuracy: 0.6703\n",
            "Epoch 4/10\n",
            "45/45 [==============================] - 122s 3s/step - loss: 0.5110 - accuracy: 0.6778 - val_loss: 0.5189 - val_accuracy: 0.6484\n",
            "Epoch 5/10\n",
            "45/45 [==============================] - 123s 3s/step - loss: 0.5059 - accuracy: 0.6889 - val_loss: 0.5100 - val_accuracy: 0.6703\n",
            "              precision    recall  f1-score   support\n",
            "\n",
            "  Lungcancer       0.64      0.50      0.56        28\n",
            "      Normal       0.73      1.00      0.85        33\n",
            "Tuberculosis       0.58      0.47      0.52        30\n",
            "\n",
            "    accuracy                           0.67        91\n",
            "   macro avg       0.65      0.66      0.64        91\n",
            "weighted avg       0.65      0.67      0.65        91\n",
            "\n",
            "Fold #2\n",
            "Epoch 1/10\n",
            "45/45 [==============================] - 99s 2s/step - loss: 0.5014 - accuracy: 0.6884 - val_loss: 0.5159 - val_accuracy: 0.5778\n",
            "Epoch 2/10\n",
            "45/45 [==============================] - 101s 2s/step - loss: 0.4880 - accuracy: 0.6912 - val_loss: 0.5107 - val_accuracy: 0.6222\n",
            "Epoch 3/10\n",
            "45/45 [==============================] - 102s 2s/step - loss: 0.4897 - accuracy: 0.6827 - val_loss: 0.5079 - val_accuracy: 0.6333\n",
            "Epoch 4/10\n",
            "45/45 [==============================] - 102s 2s/step - loss: 0.4748 - accuracy: 0.7054 - val_loss: 0.4989 - val_accuracy: 0.6333\n",
            "Epoch 5/10\n",
            "45/45 [==============================] - 102s 2s/step - loss: 0.4692 - accuracy: 0.7054 - val_loss: 0.4988 - val_accuracy: 0.6333\n",
            "              precision    recall  f1-score   support\n",
            "\n",
            "  Lungcancer       0.67      0.67      0.67        33\n",
            "      Normal       0.56      0.96      0.70        26\n",
            "Tuberculosis       0.83      0.32      0.47        31\n",
            "\n",
            "    accuracy                           0.63        90\n",
            "   macro avg       0.69      0.65      0.61        90\n",
            "weighted avg       0.69      0.63      0.61        90\n",
            "\n",
            "Fold #3\n",
            "Epoch 1/10\n",
            "45/45 [==============================] - 99s 2s/step - loss: 0.4620 - accuracy: 0.7139 - val_loss: 0.4819 - val_accuracy: 0.6667\n",
            "Epoch 2/10\n",
            "45/45 [==============================] - 102s 2s/step - loss: 0.4696 - accuracy: 0.7224 - val_loss: 0.4757 - val_accuracy: 0.7000\n",
            "Epoch 3/10\n",
            "45/45 [==============================] - 102s 2s/step - loss: 0.4574 - accuracy: 0.7280 - val_loss: 0.4720 - val_accuracy: 0.7111\n",
            "Epoch 4/10\n",
            "45/45 [==============================] - 102s 2s/step - loss: 0.4532 - accuracy: 0.7280 - val_loss: 0.4692 - val_accuracy: 0.6889\n",
            "Epoch 5/10\n",
            "45/45 [==============================] - 102s 2s/step - loss: 0.4516 - accuracy: 0.7280 - val_loss: 0.4656 - val_accuracy: 0.7000\n",
            "              precision    recall  f1-score   support\n",
            "\n",
            "  Lungcancer       0.64      0.62      0.63        29\n",
            "      Normal       0.73      1.00      0.85        33\n",
            "Tuberculosis       0.71      0.43      0.53        28\n",
            "\n",
            "    accuracy                           0.70        90\n",
            "   macro avg       0.69      0.68      0.67        90\n",
            "weighted avg       0.70      0.70      0.68        90\n",
            "\n",
            "Fold #4\n",
            "Epoch 1/10\n",
            "45/45 [==============================] - 104s 2s/step - loss: 0.4592 - accuracy: 0.7224 - val_loss: 0.4537 - val_accuracy: 0.7222\n",
            "Epoch 2/10\n",
            "45/45 [==============================] - 99s 2s/step - loss: 0.4498 - accuracy: 0.7054 - val_loss: 0.4551 - val_accuracy: 0.7000\n",
            "Epoch 3/10\n",
            "45/45 [==============================] - 99s 2s/step - loss: 0.4495 - accuracy: 0.7139 - val_loss: 0.4449 - val_accuracy: 0.7444\n",
            "Epoch 4/10\n",
            "45/45 [==============================] - 99s 2s/step - loss: 0.4454 - accuracy: 0.7139 - val_loss: 0.4482 - val_accuracy: 0.7222\n",
            "Epoch 5/10\n",
            "45/45 [==============================] - 100s 2s/step - loss: 0.4391 - accuracy: 0.7167 - val_loss: 0.4450 - val_accuracy: 0.7222\n",
            "              precision    recall  f1-score   support\n",
            "\n",
            "  Lungcancer       0.83      0.63      0.72        30\n",
            "      Normal       0.62      1.00      0.77        31\n",
            "Tuberculosis       0.88      0.52      0.65        29\n",
            "\n",
            "    accuracy                           0.72        90\n",
            "   macro avg       0.78      0.72      0.71        90\n",
            "weighted avg       0.77      0.72      0.71        90\n",
            "\n",
            "Fold #5\n",
            "Epoch 1/10\n",
            "45/45 [==============================] - 101s 2s/step - loss: 0.4348 - accuracy: 0.7422 - val_loss: 0.4423 - val_accuracy: 0.7111\n",
            "Epoch 2/10\n",
            "45/45 [==============================] - 103s 2s/step - loss: 0.4429 - accuracy: 0.6941 - val_loss: 0.4447 - val_accuracy: 0.6667\n",
            "Epoch 3/10\n",
            "45/45 [==============================] - 103s 2s/step - loss: 0.4275 - accuracy: 0.7620 - val_loss: 0.4416 - val_accuracy: 0.6889\n",
            "              precision    recall  f1-score   support\n",
            "\n",
            "  Lungcancer       0.69      0.73      0.71        30\n",
            "      Normal       0.66      0.96      0.78        28\n",
            "Tuberculosis       0.76      0.41      0.53        32\n",
            "\n",
            "    accuracy                           0.69        90\n",
            "   macro avg       0.70      0.70      0.67        90\n",
            "weighted avg       0.71      0.69      0.67        90\n",
            "\n"
          ]
        }
      ]
    },
    {
      "cell_type": "code",
      "source": [
        ""
      ],
      "metadata": {
        "id": "-K_sNanfCLwT"
      },
      "execution_count": null,
      "outputs": []
    },
    {
      "cell_type": "code",
      "source": [
        ""
      ],
      "metadata": {
        "id": "LEM4bcM0CLtv"
      },
      "execution_count": null,
      "outputs": []
    },
    {
      "cell_type": "code",
      "source": [
        "import joblib"
      ],
      "metadata": {
        "id": "BQCYhcYqCL-d"
      },
      "execution_count": 62,
      "outputs": []
    },
    {
      "cell_type": "code",
      "source": [
        "joblib.dump(model3, 'model3_densenet.joblib')  "
      ],
      "metadata": {
        "outputId": "111febfd-31ef-4554-f714-3ce5e97e0365",
        "colab": {
          "base_uri": "https://localhost:8080/"
        },
        "id": "JLmzDFrzCL-d"
      },
      "execution_count": 63,
      "outputs": [
        {
          "output_type": "stream",
          "name": "stdout",
          "text": [
            "INFO:tensorflow:Assets written to: ram://e45fbdaf-725f-4e92-9e05-4eae26026106/assets\n"
          ]
        },
        {
          "output_type": "execute_result",
          "data": {
            "text/plain": [
              "['model3_densenet.joblib']"
            ]
          },
          "metadata": {},
          "execution_count": 63
        }
      ]
    },
    {
      "cell_type": "code",
      "source": [
        "dense3= joblib.load('model3_densenet.joblib')"
      ],
      "metadata": {
        "id": "Hdq0mKjiCL-d"
      },
      "execution_count": 65,
      "outputs": []
    },
    {
      "cell_type": "code",
      "source": [
        "(trainX3, testX3, trainY3, testY3) = train_test_split(data3, labels3,\n",
        "\t                                               test_size=0.25, random_state=40)"
      ],
      "metadata": {
        "id": "0UxSMu6DBnib"
      },
      "execution_count": 66,
      "outputs": []
    },
    {
      "cell_type": "code",
      "source": [
        "predict_dense3 = dense3.predict(testX3, batch_size=BS)"
      ],
      "metadata": {
        "id": "8VAdq8vRDS9n"
      },
      "execution_count": 68,
      "outputs": []
    },
    {
      "cell_type": "code",
      "source": [
        "print(classification_report(testY3.argmax(axis=1),\t\n",
        "                                        predict_dense3.argmax(axis=1),  \n",
        "                                        target_names=le3.classes_))"
      ],
      "metadata": {
        "colab": {
          "base_uri": "https://localhost:8080/"
        },
        "id": "wU80dhR-DS7P",
        "outputId": "8735746f-98c7-4698-e06f-91ac95170b4e"
      },
      "execution_count": 69,
      "outputs": [
        {
          "output_type": "stream",
          "name": "stdout",
          "text": [
            "              precision    recall  f1-score   support\n",
            "\n",
            "  Lungcancer       0.71      0.63      0.67        35\n",
            "      Normal       0.66      1.00      0.80        41\n",
            "Tuberculosis       0.75      0.41      0.53        37\n",
            "\n",
            "    accuracy                           0.69       113\n",
            "   macro avg       0.71      0.68      0.66       113\n",
            "weighted avg       0.71      0.69      0.67       113\n",
            "\n"
          ]
        }
      ]
    },
    {
      "cell_type": "code",
      "source": [
        ""
      ],
      "metadata": {
        "id": "aZ8OOUBnBnf9"
      },
      "execution_count": null,
      "outputs": []
    },
    {
      "cell_type": "code",
      "source": [
        ""
      ],
      "metadata": {
        "id": "tz1eoJCzBndQ"
      },
      "execution_count": null,
      "outputs": []
    },
    {
      "cell_type": "markdown",
      "source": [
        "###ลองแบ่งข้อมูลแบบอื่น3"
      ],
      "metadata": {
        "id": "aMo8DI91I9jU"
      }
    },
    {
      "cell_type": "code",
      "source": [
        "from tensorflow.keras.preprocessing.image import ImageDataGenerator, array_to_img, img_to_array, load_img, "
      ],
      "metadata": {
        "id": "2wCg7cFDs_6o"
      },
      "execution_count": null,
      "outputs": []
    },
    {
      "cell_type": "code",
      "source": [
        "train_img_NorTBCa2 = []\n",
        "for ImageName in tqdm(data_train3['ImageName']):                       # รัน ชื่อรูป ในไฟล์ data_test3\n",
        "    image_path = All_3class_dir +'/' + ImageName                          # ดึงรูปในโฟล์เดอร์มาทีละรูป\n",
        "    img = load_img( image_path )\n",
        "    img = img_to_array(img)\n",
        "    train_img_NorTBCa2.append(img)"
      ],
      "metadata": {
        "id": "t0JZ6EE7wMn8",
        "outputId": "bc9b0875-43ac-4f04-8376-be794c360be7",
        "colab": {
          "base_uri": "https://localhost:8080/"
        }
      },
      "execution_count": null,
      "outputs": [
        {
          "output_type": "stream",
          "name": "stderr",
          "text": [
            "100%|██████████| 451/451 [00:05<00:00, 89.20it/s] \n"
          ]
        }
      ]
    },
    {
      "cell_type": "code",
      "source": [
        "train_img_NorTBCa2 = []\n",
        "for ImageName in tqdm(data_train3['ImageName']):                       # รัน ชื่อรูป ในไฟล์ data_test3\n",
        "    image_path = All_3class_dir +'/' + ImageName                          # ดึงรูปในโฟล์เดอร์มาทีละรูป\n",
        "    img = load_img( image_path )\n",
        "    img = img_to_array(img, dtype='float32')                                #จากภาพ --> เป็น array \n",
        " #   img = img.ravel()                                                                   #จาก array 3 มิติ -->เป็น 1 มิติ\n",
        "    train_img_NorTBCa2.append(img)"
      ],
      "metadata": {
        "id": "Q-ZNUKNq2-HC",
        "outputId": "9e2fd517-b0c1-474e-e0f6-604da319370f",
        "colab": {
          "base_uri": "https://localhost:8080/"
        }
      },
      "execution_count": null,
      "outputs": [
        {
          "output_type": "stream",
          "name": "stderr",
          "text": [
            " 13%|█▎        | 60/451 [00:01<00:07, 54.46it/s]"
          ]
        }
      ]
    },
    {
      "cell_type": "code",
      "source": [
        "train_img_NorTBCa2"
      ],
      "metadata": {
        "id": "fm_y21VO2F-o"
      },
      "execution_count": null,
      "outputs": []
    },
    {
      "cell_type": "code",
      "source": [
        "#data3 = np.array(train_img_NorTBCa2)"
      ],
      "metadata": {
        "id": "9NGf6xIa324L",
        "outputId": "97f7ef97-d45e-4d69-8750-af059ccfe2d2",
        "colab": {
          "base_uri": "https://localhost:8080/"
        }
      },
      "execution_count": null,
      "outputs": [
        {
          "output_type": "stream",
          "name": "stderr",
          "text": [
            "/usr/local/lib/python3.7/dist-packages/ipykernel_launcher.py:1: VisibleDeprecationWarning: Creating an ndarray from ragged nested sequences (which is a list-or-tuple of lists-or-tuples-or ndarrays with different lengths or shapes) is deprecated. If you meant to do this, you must specify 'dtype=object' when creating the ndarray\n",
            "  \"\"\"Entry point for launching an IPython kernel.\n"
          ]
        }
      ]
    },
    {
      "cell_type": "code",
      "source": [
        "labels3 = np.array(data_train3[['NameType']] )        \n",
        "labels3.shape = (len(labels3),) \n",
        "\n",
        "le3 = LabelEncoder()                                                                     \n",
        "labels3 = le3.fit_transform(labels3)                                         #จะแปลงชื่อ class เป็นตัวเลข 1, 2, 0 \n",
        "\n",
        "labels3 = to_categorical(labels3, num_classes=3)                   #shape (180, 3) มีค่าเป็น  [0., 1., 0.]  กับ   [0., 0., 1.] กับ  [1., 0., 0.]"
      ],
      "metadata": {
        "id": "xkDl5ooT4WMi"
      },
      "execution_count": null,
      "outputs": []
    },
    {
      "cell_type": "code",
      "source": [
        "le3.classes_"
      ],
      "metadata": {
        "id": "jTWVmvGz5aBg",
        "outputId": "aa76a2a8-5513-4064-9fbc-24a2d1227f9d",
        "colab": {
          "base_uri": "https://localhost:8080/"
        }
      },
      "execution_count": null,
      "outputs": [
        {
          "output_type": "execute_result",
          "data": {
            "text/plain": [
              "array(['Lungcancer', 'Normal', 'Tuberculosis'], dtype=object)"
            ]
          },
          "metadata": {},
          "execution_count": 78
        }
      ]
    },
    {
      "cell_type": "code",
      "source": [
        "(trainX3, testX3, trainY3, testY3) = train_test_split(train_img_NorTBCa2, labels3,\n",
        "\t                                               test_size=0.25, random_state=40)"
      ],
      "metadata": {
        "id": "xgy830W132wX"
      },
      "execution_count": null,
      "outputs": []
    },
    {
      "cell_type": "markdown",
      "source": [
        "# 3 class ==> ***InceptionV3***"
      ],
      "metadata": {
        "id": "gfRYFcvfmJBg"
      }
    },
    {
      "cell_type": "code",
      "source": [
        ""
      ],
      "metadata": {
        "id": "r7Jy8fUhVlBX"
      },
      "execution_count": null,
      "outputs": []
    },
    {
      "cell_type": "markdown",
      "source": [
        "### ส่วนใหม่"
      ],
      "metadata": {
        "id": "UG9ganOOVlSs"
      }
    },
    {
      "cell_type": "code",
      "source": [
        "INIT_LR = 1e-1\n",
        "BS = 8\n",
        "EPOCHS = 50"
      ],
      "metadata": {
        "id": "oeEkLGcnVlSt"
      },
      "execution_count": 73,
      "outputs": []
    },
    {
      "cell_type": "code",
      "source": [
        "aug = ImageDataGenerator(\n",
        "\t\trotation_range=15,\t\t\t\t\t\t#องศาการหมุน\n",
        "\t\twidth_shift_range=0.1,\n",
        "\t\theight_shift_range=0.1,\n",
        "\t\tshear_range=0.15,\n",
        "\t\thorizontal_flip=True,\n",
        "\t\tfill_mode=\"nearest\")\n",
        "\n",
        "callback = tf.keras.callbacks.EarlyStopping(\n",
        "                monitor=\"val_accuracy\",\n",
        "                patience=2,\n",
        "                mode=\"max\" )"
      ],
      "metadata": {
        "id": "85Te1CqvVlSt"
      },
      "execution_count": 74,
      "outputs": []
    },
    {
      "cell_type": "code",
      "source": [
        "base_model3 = tf.keras.applications.DenseNet201(input_shape=(224, 224, 3), include_top=False, weights=\"imagenet\")"
      ],
      "metadata": {
        "id": "OIyWCJu3VlSt"
      },
      "execution_count": null,
      "outputs": []
    },
    {
      "cell_type": "code",
      "source": [
        "base_model3.trainable=False\n",
        "\n",
        "#Add custom head\n",
        "average_pooling_layer = tf.keras.layers.GlobalAveragePooling2D()(base_model3.output)\n",
        "prediction_layer = tf.keras.layers.Dense(units=3, activation=\"softmax\")(average_pooling_layer)   # unit 3\n",
        "model3 = tf.keras.models.Model(inputs=base_model3.input, outputs=prediction_layer)"
      ],
      "metadata": {
        "id": "TbpOah6KVlSt"
      },
      "execution_count": null,
      "outputs": []
    },
    {
      "cell_type": "code",
      "source": [
        "model3.compile(optimizer=tf.keras.optimizers.RMSprop(learning_rate=0.0001), loss=\"binary_crossentropy\", metrics=[\"accuracy\"])"
      ],
      "metadata": {
        "id": "6U84AuEDVlSt"
      },
      "execution_count": null,
      "outputs": []
    },
    {
      "cell_type": "code",
      "source": [
        "kf = KFold(5, shuffle=True, random_state=40) \n",
        "kf.get_n_splits()"
      ],
      "metadata": {
        "outputId": "df0816e9-d312-456a-b7a1-1c2b89c7d0c4",
        "colab": {
          "base_uri": "https://localhost:8080/"
        },
        "id": "0i6j3P9CVlSu"
      },
      "execution_count": null,
      "outputs": [
        {
          "output_type": "execute_result",
          "data": {
            "text/plain": [
              "5"
            ]
          },
          "metadata": {},
          "execution_count": 45
        }
      ]
    },
    {
      "cell_type": "code",
      "source": [
        "oos_y = []\n",
        "oos_pred = []\n",
        "fold = 0\n",
        "for train, test in kf.split(data3):\n",
        "    fold+=1\n",
        "    print(f\"Fold #{fold}\")\n",
        "        \n",
        "    x_train3 = data3[train]\n",
        "    y_train3 = labels3[train]\n",
        "    x_test3 = data3[test]\n",
        "    y_test3 = labels3[test]\n",
        "\n",
        "    model3.fit( x=aug.flow(x_train3, y_train3, batch_size=BS),\n",
        "\t                    validation_data=(x_test3, y_test3),\n",
        "\t                    steps_per_epoch=len(x_train3) // BS,\n",
        "\t                    epochs=10, callbacks=[callback])\n",
        "    \n",
        "    pred3 = model3.predict(x_test3)\n",
        "    \n",
        "\n",
        "    oos_y.append(y_test3)\n",
        "    # raw probabilities to chosen class (highest probability)\n",
        "#    pred = np.argmax(pred,axis=1) \n",
        "    oos_pred.append(pred3)  \n",
        "\n",
        "    # Measure this fold's accuracy\n",
        "    y_compare = np.argmax(y_test3,axis=1) # For accuracy calculation\n",
        "\n",
        "\n",
        "\n",
        " #   score = metrics.accuracy_score(y_test3.argmax(axis=1),\t\n",
        "  #                                               pred3.argmax(axis=1)\n",
        "#    print(f\"Fold score (accuracy): {score}\")\n",
        "\n",
        "    print(classification_report(y_test3.argmax(axis=1),\t\n",
        "                                        pred3.argmax(axis=1),  \n",
        "                                        target_names=le3.classes_))\n",
        "\n",
        "#    print(confusion_matrix(testY3.argmax(axis=1),\t\n",
        "#                        predictions3.argmax(axis=1) ) )\n"
      ],
      "metadata": {
        "id": "e6j6NRQ4VlSu"
      },
      "execution_count": null,
      "outputs": []
    },
    {
      "cell_type": "code",
      "source": [
        ""
      ],
      "metadata": {
        "id": "Kc02HouGVlSu"
      },
      "execution_count": null,
      "outputs": []
    },
    {
      "cell_type": "code",
      "source": [
        ""
      ],
      "metadata": {
        "id": "Kb1KqV7vVlSu"
      },
      "execution_count": null,
      "outputs": []
    },
    {
      "cell_type": "code",
      "source": [
        "import joblib"
      ],
      "metadata": {
        "id": "4aujobTsVlSv"
      },
      "execution_count": null,
      "outputs": []
    },
    {
      "cell_type": "code",
      "source": [
        "joblib.dump(model3, 'model3_densenet.joblib')  "
      ],
      "metadata": {
        "outputId": "111febfd-31ef-4554-f714-3ce5e97e0365",
        "colab": {
          "base_uri": "https://localhost:8080/"
        },
        "id": "ZsGQq0CEVlSv"
      },
      "execution_count": null,
      "outputs": [
        {
          "output_type": "stream",
          "name": "stdout",
          "text": [
            "INFO:tensorflow:Assets written to: ram://e45fbdaf-725f-4e92-9e05-4eae26026106/assets\n"
          ]
        },
        {
          "output_type": "execute_result",
          "data": {
            "text/plain": [
              "['model3_densenet.joblib']"
            ]
          },
          "metadata": {},
          "execution_count": 63
        }
      ]
    },
    {
      "cell_type": "code",
      "source": [
        "dense3= joblib.load('model3_densenet.joblib')"
      ],
      "metadata": {
        "id": "jLn1O2rsVlSv"
      },
      "execution_count": null,
      "outputs": []
    },
    {
      "cell_type": "code",
      "source": [
        "(trainX3, testX3, trainY3, testY3) = train_test_split(data3, labels3,\n",
        "\t                                               test_size=0.25, random_state=40)"
      ],
      "metadata": {
        "id": "M3GCVfnpVlSv"
      },
      "execution_count": null,
      "outputs": []
    },
    {
      "cell_type": "code",
      "source": [
        "predict_dense3 = dense3.predict(testX3, batch_size=BS)"
      ],
      "metadata": {
        "id": "QsWUbiOEVlSv"
      },
      "execution_count": null,
      "outputs": []
    },
    {
      "cell_type": "code",
      "source": [
        "print(classification_report(testY3.argmax(axis=1),\t\n",
        "                                        predict_dense3.argmax(axis=1),  \n",
        "                                        target_names=le3.classes_))"
      ],
      "metadata": {
        "outputId": "8735746f-98c7-4698-e06f-91ac95170b4e",
        "colab": {
          "base_uri": "https://localhost:8080/"
        },
        "id": "MSC0zKlqVlSv"
      },
      "execution_count": null,
      "outputs": [
        {
          "output_type": "stream",
          "name": "stdout",
          "text": [
            "              precision    recall  f1-score   support\n",
            "\n",
            "  Lungcancer       0.71      0.63      0.67        35\n",
            "      Normal       0.66      1.00      0.80        41\n",
            "Tuberculosis       0.75      0.41      0.53        37\n",
            "\n",
            "    accuracy                           0.69       113\n",
            "   macro avg       0.71      0.68      0.66       113\n",
            "weighted avg       0.71      0.69      0.67       113\n",
            "\n"
          ]
        }
      ]
    },
    {
      "cell_type": "code",
      "source": [
        ""
      ],
      "metadata": {
        "id": "OV3Ag3FoVlSw"
      },
      "execution_count": null,
      "outputs": []
    },
    {
      "cell_type": "code",
      "source": [
        ""
      ],
      "metadata": {
        "id": "8pQ6Ti2CVlSw"
      },
      "execution_count": null,
      "outputs": []
    },
    {
      "cell_type": "markdown",
      "source": [
        "##แบ่งข้อมูล3\n",
        "เลข 3 หมายถึงมี 3 คลาส"
      ],
      "metadata": {
        "id": "gNIQc2FfmJBn"
      }
    },
    {
      "cell_type": "code",
      "source": [
        "train_img3_Incep = []\n",
        "for ImageName in tqdm(data_train3['ImageName']):               # รัน ชื่อรูป ในไฟล์ data_test3\n",
        "    image_path = All_3class_dir +'/' + ImageName                             # ดึงรูปในโฟล์เดอร์มาทีละรูป\n",
        "    img = cv2.imread(image_path)                                            # อ่านรูป\n",
        "    img = cv2.resize(img, (299, 299))                                   #ขนาดของ input\n",
        "    train_img3_Incep.append(img)"
      ],
      "metadata": {
        "colab": {
          "base_uri": "https://localhost:8080/"
        },
        "outputId": "20313210-ea16-408e-c312-32bfcc9f9f91",
        "id": "QIEmk3k_mJBo"
      },
      "execution_count": 70,
      "outputs": [
        {
          "output_type": "stream",
          "name": "stderr",
          "text": [
            "100%|██████████| 451/451 [00:05<00:00, 78.38it/s] \n"
          ]
        }
      ]
    },
    {
      "cell_type": "code",
      "source": [
        "data3_Incep = np.array(train_img3_Incep, dtype=\"float32\") / 255.0"
      ],
      "metadata": {
        "id": "e9_AmEytmJBo"
      },
      "execution_count": 71,
      "outputs": []
    },
    {
      "cell_type": "code",
      "source": [
        "labels3_Incep = np.array(data_train3[['NameType']] )        \n",
        "labels3_Incep.shape = (len(labels3_Incep),) \n",
        "\n",
        "le3_Incep = LabelEncoder()                                                                     \n",
        "labels3_Incep = le3_Incep.fit_transform(labels3_Incep)                                         #จะแปลงชื่อ class เป็นตัวเลข 1, 2, 0 \n",
        "\n",
        "labels3_Incep = to_categorical(labels3_Incep, num_classes=3)                   #shape (180, 3) มีค่าเป็น  [0., 1., 0.]  กับ   [0., 0., 1.] กับ  [1., 0., 0.]"
      ],
      "metadata": {
        "id": "7vaJjHgW_Kxq"
      },
      "execution_count": 72,
      "outputs": []
    },
    {
      "cell_type": "code",
      "source": [
        "(trainX3_Incep, testX3_Incep, trainY3_Incep, testY3_Incep) = train_test_split(data3_Incep, labels3_Incep,\n",
        "\t                                        \t\t\t\t\t\t\t\t\t\t\ttest_size=0.25, random_state=40)"
      ],
      "metadata": {
        "id": "-EV1UI6ZmJBp"
      },
      "execution_count": null,
      "outputs": []
    },
    {
      "cell_type": "code",
      "source": [
        "le3_Incep.classes_"
      ],
      "metadata": {
        "outputId": "98367b25-687c-4577-9adf-9abb58c5beb7",
        "colab": {
          "base_uri": "https://localhost:8080/"
        },
        "id": "0sndl8OqmJBp"
      },
      "execution_count": null,
      "outputs": [
        {
          "output_type": "execute_result",
          "data": {
            "text/plain": [
              "array(['Lungcancer', 'Normal', 'Tuberculosis'], dtype=object)"
            ]
          },
          "metadata": {},
          "execution_count": 22
        }
      ]
    },
    {
      "cell_type": "markdown",
      "source": [
        "## train3"
      ],
      "metadata": {
        "id": "DplnLBt3mJBp"
      }
    },
    {
      "cell_type": "code",
      "source": [
        "# initialize the initial learning rate, batch size, and number of\n",
        "# epochs to train for\n",
        "INIT_LR = 1e-1\n",
        "BS = 8\n",
        "EPOCHS = 50"
      ],
      "metadata": {
        "id": "HgJblT6omJBp"
      },
      "execution_count": null,
      "outputs": []
    },
    {
      "cell_type": "code",
      "source": [
        "# initialize an our data augmenter as an \"empty\" image data generator\n",
        "aug = ImageDataGenerator(\n",
        "\t\trotation_range=20,\n",
        "\t\tzoom_range=0.15,\n",
        "\t\twidth_shift_range=0.15,\n",
        "\t\theight_shift_range=0.15,\n",
        "\t\tshear_range=0.15,\n",
        "\t\thorizontal_flip=True,\n",
        "\t\tfill_mode=\"nearest\")"
      ],
      "metadata": {
        "id": "_CDMFC6QmJBp"
      },
      "execution_count": null,
      "outputs": []
    },
    {
      "cell_type": "markdown",
      "source": [
        "InceptionV3"
      ],
      "metadata": {
        "id": "EM3Bx5MNmJBq"
      }
    },
    {
      "cell_type": "code",
      "source": [
        "base_model3_Incep = tf.keras.applications.InceptionV3(input_shape=(299, 299, 3), include_top=False, weights=\"imagenet\")"
      ],
      "metadata": {
        "id": "fCJuitF5mJBq",
        "outputId": "6b65595d-912e-4a2c-c194-28a3b72c93f6",
        "colab": {
          "base_uri": "https://localhost:8080/"
        }
      },
      "execution_count": null,
      "outputs": [
        {
          "output_type": "stream",
          "name": "stdout",
          "text": [
            "Downloading data from https://storage.googleapis.com/tensorflow/keras-applications/inception_v3/inception_v3_weights_tf_dim_ordering_tf_kernels_notop.h5\n",
            "87916544/87910968 [==============================] - 1s 0us/step\n",
            "87924736/87910968 [==============================] - 1s 0us/step\n"
          ]
        }
      ]
    },
    {
      "cell_type": "code",
      "source": [
        "base_model3_Incep.trainable=False\n",
        "\n",
        "#Add custom head\n",
        "average_pooling_layer = tf.keras.layers.GlobalAveragePooling2D()(base_model3_Incep.output)\n",
        "prediction_layer = tf.keras.layers.Dense(units=3, activation=\"softmax\")(average_pooling_layer)   # unit 3\n",
        "model3_Incep = tf.keras.models.Model(inputs=base_model3_Incep.input, outputs=prediction_layer)"
      ],
      "metadata": {
        "id": "SdRQM74tmJBq"
      },
      "execution_count": null,
      "outputs": []
    },
    {
      "cell_type": "code",
      "source": [
        "model3_Incep.compile(optimizer=tf.keras.optimizers.RMSprop(lr=0.0001), loss=\"binary_crossentropy\", metrics=[\"accuracy\"])"
      ],
      "metadata": {
        "outputId": "703f78f3-1276-4fc2-da1f-40539dedbb68",
        "colab": {
          "base_uri": "https://localhost:8080/"
        },
        "id": "JimPrvZYmJBr"
      },
      "execution_count": null,
      "outputs": [
        {
          "output_type": "stream",
          "name": "stderr",
          "text": [
            "/usr/local/lib/python3.7/dist-packages/keras/optimizer_v2/rmsprop.py:130: UserWarning: The `lr` argument is deprecated, use `learning_rate` instead.\n",
            "  super(RMSprop, self).__init__(name, **kwargs)\n"
          ]
        }
      ]
    },
    {
      "cell_type": "code",
      "source": [
        "callback = tf.keras.callbacks.EarlyStopping(\n",
        "    monitor=\"val_accuracy\",\n",
        "    patience=2,\n",
        "    mode=\"max\"\n",
        ")"
      ],
      "metadata": {
        "id": "_4dQArsPmdQZ"
      },
      "execution_count": null,
      "outputs": []
    },
    {
      "cell_type": "code",
      "source": [
        "H3_Incep = model3_Incep.fit(\n",
        "\tx=aug.flow(trainX3_Incep, trainY3_Incep, batch_size=BS),\n",
        "\tvalidation_data=(testX3_Incep, testY3_Incep),\n",
        "\tsteps_per_epoch=len(trainX3_Incep) // BS,\n",
        "\tepochs=10, \n",
        "\tcallbacks = [callback])"
      ],
      "metadata": {
        "outputId": "713bac4e-2dd0-4daa-9d72-dc76eab738a1",
        "colab": {
          "base_uri": "https://localhost:8080/"
        },
        "id": "lQzbe4B3mJBr"
      },
      "execution_count": null,
      "outputs": [
        {
          "output_type": "stream",
          "name": "stdout",
          "text": [
            "Epoch 1/10\n",
            "16/16 [==============================] - 46s 3s/step - loss: 0.7059 - accuracy: 0.4016 - val_loss: 0.6476 - val_accuracy: 0.4667\n",
            "Epoch 2/10\n",
            "16/16 [==============================] - 43s 3s/step - loss: 0.6019 - accuracy: 0.5354 - val_loss: 0.6036 - val_accuracy: 0.5333\n",
            "Epoch 3/10\n",
            "16/16 [==============================] - 52s 3s/step - loss: 0.5837 - accuracy: 0.5906 - val_loss: 0.5809 - val_accuracy: 0.6000\n",
            "Epoch 4/10\n",
            "16/16 [==============================] - 43s 3s/step - loss: 0.5727 - accuracy: 0.6220 - val_loss: 0.5571 - val_accuracy: 0.6889\n",
            "Epoch 5/10\n",
            "16/16 [==============================] - 40s 3s/step - loss: 0.5523 - accuracy: 0.6063 - val_loss: 0.5368 - val_accuracy: 0.7111\n",
            "Epoch 6/10\n",
            "16/16 [==============================] - 38s 2s/step - loss: 0.5350 - accuracy: 0.6378 - val_loss: 0.5182 - val_accuracy: 0.7333\n",
            "Epoch 7/10\n",
            "16/16 [==============================] - 38s 2s/step - loss: 0.5070 - accuracy: 0.6457 - val_loss: 0.4948 - val_accuracy: 0.7778\n",
            "Epoch 8/10\n",
            "16/16 [==============================] - 38s 2s/step - loss: 0.4850 - accuracy: 0.7165 - val_loss: 0.4740 - val_accuracy: 0.8000\n",
            "Epoch 9/10\n",
            "16/16 [==============================] - 37s 2s/step - loss: 0.4635 - accuracy: 0.7480 - val_loss: 0.4531 - val_accuracy: 0.8000\n",
            "Epoch 10/10\n",
            "16/16 [==============================] - 38s 2s/step - loss: 0.4461 - accuracy: 0.7734 - val_loss: 0.4357 - val_accuracy: 0.7778\n"
          ]
        }
      ]
    },
    {
      "cell_type": "markdown",
      "source": [
        "## test3"
      ],
      "metadata": {
        "id": "Y9VqzdYsmJBr"
      }
    },
    {
      "cell_type": "code",
      "source": [
        "predictions3_Incep = model3_Incep.predict(testX3_Incep, batch_size=BS)"
      ],
      "metadata": {
        "id": "KpCeFpopmJBs"
      },
      "execution_count": null,
      "outputs": []
    },
    {
      "cell_type": "code",
      "source": [
        "predictions3_Incep[:10]"
      ],
      "metadata": {
        "outputId": "66764f28-03eb-49b7-8ee4-626aaebc04b9",
        "colab": {
          "base_uri": "https://localhost:8080/"
        },
        "id": "0epUIxeAmJBs"
      },
      "execution_count": null,
      "outputs": [
        {
          "output_type": "execute_result",
          "data": {
            "text/plain": [
              "array([[0.11190555, 0.44163662, 0.44645783],\n",
              "       [0.35433874, 0.17010207, 0.47555923],\n",
              "       [0.08360355, 0.6129521 , 0.30344427],\n",
              "       [0.13412456, 0.11815269, 0.74772274],\n",
              "       [0.07382458, 0.2461354 , 0.68004006],\n",
              "       [0.06308495, 0.37355277, 0.5633623 ],\n",
              "       [0.12921706, 0.30112725, 0.5696557 ],\n",
              "       [0.0463132 , 0.7644238 , 0.18926297],\n",
              "       [0.0321773 , 0.87751997, 0.09030275],\n",
              "       [0.09041295, 0.25358486, 0.65600216]], dtype=float32)"
            ]
          },
          "metadata": {},
          "execution_count": 28
        }
      ]
    },
    {
      "cell_type": "code",
      "source": [
        "0.04993849+ 0.628473  + 0.32158852"
      ],
      "metadata": {
        "colab": {
          "base_uri": "https://localhost:8080/"
        },
        "id": "owH4XEDH55mw",
        "outputId": "23223f25-47af-4c35-f501-066740561bfe"
      },
      "execution_count": null,
      "outputs": [
        {
          "output_type": "execute_result",
          "data": {
            "text/plain": [
              "1.00000001"
            ]
          },
          "metadata": {},
          "execution_count": 29
        }
      ]
    },
    {
      "cell_type": "code",
      "source": [
        "0.02641579+ 0.25785667+ 0.71572745"
      ],
      "metadata": {
        "colab": {
          "base_uri": "https://localhost:8080/"
        },
        "id": "c_IA5E6S59Rj",
        "outputId": "abc6f977-be3e-4b7d-b650-be63a4a25070"
      },
      "execution_count": null,
      "outputs": [
        {
          "output_type": "execute_result",
          "data": {
            "text/plain": [
              "0.9999999100000001"
            ]
          },
          "metadata": {},
          "execution_count": 30
        }
      ]
    },
    {
      "cell_type": "code",
      "source": [
        "testY3_Incep.argmax(axis=1)"
      ],
      "metadata": {
        "colab": {
          "base_uri": "https://localhost:8080/"
        },
        "outputId": "f19cc7cf-b1c5-40e4-ed9b-0bdae77ad0f5",
        "id": "ZaG3D-VTmJBs"
      },
      "execution_count": null,
      "outputs": [
        {
          "output_type": "execute_result",
          "data": {
            "text/plain": [
              "array([1, 2, 1, 2, 2, 2, 2, 1, 1, 2, 1, 0, 1, 2, 1, 2, 1, 2, 0, 1, 1, 2,\n",
              "       0, 0, 1, 1, 2, 1, 2, 2, 0, 0, 0, 2, 2, 2, 2, 0, 1, 1, 2, 1, 1, 1,\n",
              "       2])"
            ]
          },
          "metadata": {},
          "execution_count": 31
        }
      ]
    },
    {
      "cell_type": "code",
      "source": [
        "print(classification_report(testY3_Incep.argmax(axis=1),\t\n",
        "                           predictions3_Incep.argmax(axis=1),  \n",
        "                            target_names=le3_Incep.classes_))"
      ],
      "metadata": {
        "outputId": "9d825962-8832-45a5-804c-f8b3c0160031",
        "colab": {
          "base_uri": "https://localhost:8080/"
        },
        "id": "Yn-Eb3uQmJBs"
      },
      "execution_count": null,
      "outputs": [
        {
          "output_type": "stream",
          "name": "stdout",
          "text": [
            "              precision    recall  f1-score   support\n",
            "\n",
            "  Lungcancer       1.00      0.12      0.22         8\n",
            "      Normal       0.74      0.94      0.83        18\n",
            "   Pneumonia       0.81      0.89      0.85        19\n",
            "\n",
            "    accuracy                           0.78        45\n",
            "   macro avg       0.85      0.65      0.63        45\n",
            "weighted avg       0.82      0.78      0.73        45\n",
            "\n"
          ]
        }
      ]
    },
    {
      "cell_type": "code",
      "source": [
        "le3_Incep.classes_"
      ],
      "metadata": {
        "colab": {
          "base_uri": "https://localhost:8080/"
        },
        "id": "aIUo-HB5gmwY",
        "outputId": "3899bd51-8c01-495a-80da-190226f883f1"
      },
      "execution_count": null,
      "outputs": [
        {
          "output_type": "execute_result",
          "data": {
            "text/plain": [
              "array(['Lungcancer', 'Normal', 'Pneumonia'], dtype=object)"
            ]
          },
          "metadata": {},
          "execution_count": 33
        }
      ]
    },
    {
      "cell_type": "code",
      "source": [
        "confusion_matrix(testY3_Incep.argmax(axis=1),\t\n",
        "                        predictions3_Incep.argmax(axis=1) )"
      ],
      "metadata": {
        "id": "KjK6wJ4smJBs",
        "colab": {
          "base_uri": "https://localhost:8080/"
        },
        "outputId": "5634d843-da11-4fdf-943f-ab46193f058c"
      },
      "execution_count": null,
      "outputs": [
        {
          "output_type": "execute_result",
          "data": {
            "text/plain": [
              "array([[ 1,  4,  3],\n",
              "       [ 0, 17,  1],\n",
              "       [ 0,  2, 17]])"
            ]
          },
          "metadata": {},
          "execution_count": 34
        }
      ]
    },
    {
      "cell_type": "code",
      "source": [
        ""
      ],
      "metadata": {
        "id": "ftDVRHrSh75R"
      },
      "execution_count": null,
      "outputs": []
    },
    {
      "cell_type": "code",
      "source": [
        ""
      ],
      "metadata": {
        "id": "IQxPI39AUTl6"
      },
      "execution_count": null,
      "outputs": []
    },
    {
      "cell_type": "markdown",
      "source": [
        "## dump(save)/load sklearn model"
      ],
      "metadata": {
        "id": "2S-ZqkXpKCgd"
      }
    },
    {
      "cell_type": "code",
      "source": [
        "import joblib"
      ],
      "metadata": {
        "id": "6HJmfuOuNIlW"
      },
      "execution_count": null,
      "outputs": []
    },
    {
      "cell_type": "code",
      "source": [
        "joblib.dump(model3_Incep, 'model3_Incep.joblib')  "
      ],
      "metadata": {
        "id": "It3haPfSKVDM",
        "outputId": "c0c75f04-c3ed-4ceb-ac03-9964d54796d6",
        "colab": {
          "base_uri": "https://localhost:8080/"
        }
      },
      "execution_count": null,
      "outputs": [
        {
          "output_type": "stream",
          "name": "stdout",
          "text": [
            "INFO:tensorflow:Assets written to: ram://6c044177-9bf3-4f73-b85b-2c181b4d4d0a/assets\n"
          ]
        },
        {
          "output_type": "execute_result",
          "data": {
            "text/plain": [
              "['model3_Incep.joblib']"
            ]
          },
          "metadata": {},
          "execution_count": 37
        }
      ]
    },
    {
      "cell_type": "code",
      "source": [
        "Incep= joblib.load('model3_Incep.joblib')"
      ],
      "metadata": {
        "id": "iZZlVCX-KVAU"
      },
      "execution_count": null,
      "outputs": []
    },
    {
      "cell_type": "code",
      "source": [
        "Incep"
      ],
      "metadata": {
        "id": "ulxpmrZiYeJJ",
        "outputId": "a7381ef3-5818-4009-95d0-8aff07cf44c0",
        "colab": {
          "base_uri": "https://localhost:8080/"
        }
      },
      "execution_count": null,
      "outputs": [
        {
          "output_type": "execute_result",
          "data": {
            "text/plain": [
              "<keras.engine.functional.Functional at 0x7feb00e6cf90>"
            ]
          },
          "metadata": {},
          "execution_count": 41
        }
      ]
    },
    {
      "cell_type": "code",
      "source": [
        "Incep.predict(testX3_Incep, batch_size=BS)[:10]"
      ],
      "metadata": {
        "id": "Jp3HJ8noKU9R",
        "outputId": "2ebeb1ff-37e7-452b-efb3-0ca15006b0eb",
        "colab": {
          "base_uri": "https://localhost:8080/"
        }
      },
      "execution_count": null,
      "outputs": [
        {
          "output_type": "execute_result",
          "data": {
            "text/plain": [
              "array([[0.11190555, 0.44163662, 0.44645783],\n",
              "       [0.35433874, 0.17010207, 0.47555923],\n",
              "       [0.08360355, 0.6129521 , 0.30344427],\n",
              "       [0.13412456, 0.11815269, 0.74772274],\n",
              "       [0.07382458, 0.2461354 , 0.68004006],\n",
              "       [0.06308495, 0.37355277, 0.5633623 ],\n",
              "       [0.12921706, 0.30112725, 0.5696557 ],\n",
              "       [0.0463132 , 0.7644238 , 0.18926297],\n",
              "       [0.0321773 , 0.87751997, 0.09030275],\n",
              "       [0.09041295, 0.25358486, 0.65600216]], dtype=float32)"
            ]
          },
          "metadata": {},
          "execution_count": 46
        }
      ]
    },
    {
      "cell_type": "code",
      "source": [
        ""
      ],
      "metadata": {
        "id": "VaNIc8BhNtUw"
      },
      "execution_count": null,
      "outputs": []
    },
    {
      "cell_type": "markdown",
      "source": [
        "# Score CAM \n",
        "จาก https://arxiv.org/abs/1910.01279\n",
        "\n",
        "Github https://github.com/haofanwang/Score-CAM"
      ],
      "metadata": {
        "id": "8hF0T2Og9Z6Q"
      }
    },
    {
      "cell_type": "code",
      "source": [
        "import torch\n",
        "import torch.nn.functional as F\n",
        "import torchvision.models as models\n",
        "from utils import *\n",
        "from cam.scorecam import *"
      ],
      "metadata": {
        "id": "K9BFecexZ4ZV"
      },
      "execution_count": null,
      "outputs": []
    },
    {
      "cell_type": "code",
      "source": [
        "validation_normal_dir+ \"/NORMAL2-IM-0117-0001.jpeg\""
      ],
      "metadata": {
        "id": "7DJZDzVyaO0F",
        "outputId": "71989fbb-6639-4304-d721-d1684673b36a",
        "colab": {
          "base_uri": "https://localhost:8080/",
          "height": 35
        }
      },
      "execution_count": null,
      "outputs": [
        {
          "output_type": "execute_result",
          "data": {
            "application/vnd.google.colaboratory.intrinsic+json": {
              "type": "string"
            },
            "text/plain": [
              "'/content/drive/My Drive/Senior Project/xray_dataset_covid19/test/NORMAL/NORMAL2-IM-0117-0001.jpeg'"
            ]
          },
          "metadata": {},
          "execution_count": 42
        }
      ]
    },
    {
      "cell_type": "code",
      "source": [
        "os.listdir(validation_normal_dir)[:4]"
      ],
      "metadata": {
        "id": "9ECUoOWbUV5h",
        "outputId": "24d8419e-4cf8-4766-b611-bb72f0aa6cb6",
        "colab": {
          "base_uri": "https://localhost:8080/"
        }
      },
      "execution_count": null,
      "outputs": [
        {
          "output_type": "execute_result",
          "data": {
            "text/plain": [
              "['NORMAL2-IM-0117-0001.jpeg',\n",
              " 'NORMAL2-IM-0059-0001.jpeg',\n",
              " 'NORMAL2-IM-0123-0001.jpeg',\n",
              " 'NORMAL2-IM-0120-0001.jpeg']"
            ]
          },
          "metadata": {},
          "execution_count": 35
        }
      ]
    },
    {
      "cell_type": "code",
      "source": [
        "im = cv2.imread(os.path.join(validation_normal_dir, 'NORMAL2-IM-0117-0001.jpeg' ))"
      ],
      "metadata": {
        "id": "rwk4baPvUzFc"
      },
      "execution_count": null,
      "outputs": []
    },
    {
      "cell_type": "code",
      "source": [
        "inceptionv3_scorecam = ScoreCAM(testX3_Incep)\n",
        "\n",
        "input_image = load_image('images/'+'ILSVRC2012_val_00002193.JPEG')\n",
        "input_ = apply_transforms(input_image)\n",
        "if torch.cuda.is_available():\n",
        "  input_ = input_.cuda()\n",
        "predicted_class = resnet(input_).max(1)[-1]\n",
        "\n",
        "scorecam_map = resnet_scorecam(input_)\n",
        "basic_visualize(input_.cpu(), scorecam_map.type(torch.FloatTensor).cpu(),save_path='resnet.png')"
      ],
      "metadata": {
        "id": "UyZ3bBZDXbI7"
      },
      "execution_count": null,
      "outputs": []
    },
    {
      "cell_type": "code",
      "source": [
        ""
      ],
      "metadata": {
        "id": "buHliAWWSSkh"
      },
      "execution_count": null,
      "outputs": []
    },
    {
      "cell_type": "markdown",
      "source": [
        "ตัวอย่างจาก Github"
      ],
      "metadata": {
        "id": "cwe0Cc32XS1N"
      }
    },
    {
      "cell_type": "code",
      "source": [
        "import torch\n",
        "import torch.nn.functional as F\n",
        "import torchvision.models as models\n",
        "from utils import *\n",
        "from cam.scorecam import *"
      ],
      "metadata": {
        "id": "40UmITtLSP_t"
      },
      "execution_count": null,
      "outputs": []
    },
    {
      "cell_type": "code",
      "source": [
        "resnet = models.resnet18(pretrained=True).eval()"
      ],
      "metadata": {
        "id": "qjPDFV1WXmNb",
        "outputId": "a440728e-93d6-4091-b0c6-e87581b31d4a",
        "colab": {
          "base_uri": "https://localhost:8080/",
          "height": 66,
          "referenced_widgets": [
            "98dd595df50740c4bc07d9b5781ff68e",
            "64b65b77334244339673455bf34870a5",
            "7924b00989d3440fa0ee82048b979421",
            "9f22c34362c34889b6eb8f19e9820562",
            "e7afe690771b4dadb8bc013ed50ba6d1",
            "e98c9a6cda254a4695f50c5482bcf1b2",
            "ca0dc283937e4766ba5d713bff000de9",
            "d401560c4d3d4d0f84a54c715dfeb0ec",
            "8eb887b2ccf340a5bc64d0b09e8e401a",
            "86d079e608864f0ebfc15ecbf5fcdb53",
            "b5d6a23af0dd43afbb2677f1ce75c8f6"
          ]
        }
      },
      "execution_count": null,
      "outputs": [
        {
          "output_type": "stream",
          "name": "stderr",
          "text": [
            "Downloading: \"https://download.pytorch.org/models/resnet18-f37072fd.pth\" to /root/.cache/torch/hub/checkpoints/resnet18-f37072fd.pth\n"
          ]
        },
        {
          "output_type": "display_data",
          "data": {
            "application/vnd.jupyter.widget-view+json": {
              "model_id": "98dd595df50740c4bc07d9b5781ff68e",
              "version_minor": 0,
              "version_major": 2
            },
            "text/plain": [
              "  0%|          | 0.00/44.7M [00:00<?, ?B/s]"
            ]
          },
          "metadata": {}
        }
      ]
    },
    {
      "cell_type": "code",
      "source": [
        "resnet = models.resnet18(pretrained=True).eval()\n",
        "resnet_model_dict = dict(type='resnet18', arch=resnet, layer_name='layer4',input_size=(224, 224))\n",
        "resnet_scorecam = ScoreCAM(resnet_model_dict)\n",
        "\n",
        "input_image = load_image('images/'+'ILSVRC2012_val_00002193.JPEG')\n",
        "input_ = apply_transforms(input_image)\n",
        "if torch.cuda.is_available():\n",
        "  input_ = input_.cuda()\n",
        "predicted_class = resnet(input_).max(1)[-1]\n",
        "\n",
        "scorecam_map = resnet_scorecam(input_)\n",
        "basic_visualize(input_.cpu(), scorecam_map.type(torch.FloatTensor).cpu(),save_path='resnet.png')"
      ],
      "metadata": {
        "id": "xoZHN3FwSShv"
      },
      "execution_count": null,
      "outputs": []
    },
    {
      "cell_type": "code",
      "source": [
        ""
      ],
      "metadata": {
        "id": "wVI1L_o5SsUy"
      },
      "execution_count": null,
      "outputs": []
    }
  ]
}