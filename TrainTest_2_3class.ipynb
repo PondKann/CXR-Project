{
  "nbformat": 4,
  "nbformat_minor": 0,
  "metadata": {
    "colab": {
      "name": "TrainTest_2-3class.ipynb",
      "provenance": [],
      "collapsed_sections": [
        "Kpnf_sft9x4-",
        "U9DQHWz1POvY"
      ],
      "authorship_tag": "ABX9TyNkW7T9X8BeK5Z+uXGJfIy7",
      "include_colab_link": true
    },
    "kernelspec": {
      "name": "python3",
      "display_name": "Python 3"
    },
    "language_info": {
      "name": "python"
    }
  },
  "cells": [
    {
      "cell_type": "markdown",
      "metadata": {
        "id": "view-in-github",
        "colab_type": "text"
      },
      "source": [
        "<a href=\"https://colab.research.google.com/github/PondKann/CXR-Project/blob/main/TrainTest_2_3class.ipynb\" target=\"_parent\"><img src=\"https://colab.research.google.com/assets/colab-badge.svg\" alt=\"Open In Colab\"/></a>"
      ]
    },
    {
      "cell_type": "markdown",
      "source": [
        "###### import"
      ],
      "metadata": {
        "id": "Kpnf_sft9x4-"
      }
    },
    {
      "cell_type": "code",
      "metadata": {
        "id": "Psng6eJUdzUG"
      },
      "source": [
        "import os\n",
        "import tensorflow as tf\n",
        "import matplotlib.pyplot as plt\n",
        "%matplotlib inline\n",
        "from tensorflow.keras.preprocessing.image import ImageDataGenerator\n",
        "import cv2\n",
        "import numpy as np\n",
        "import pandas as pd\n",
        "from torchsummary import summary\n",
        "from skimage.io import imread, imsave\n",
        "from tqdm import tqdm\n",
        "\n",
        "from sklearn.model_selection import train_test_split\n",
        "from sklearn.metrics import accuracy_score, confusion_matrix"
      ],
      "execution_count": 1,
      "outputs": []
    },
    {
      "cell_type": "code",
      "source": [
        "# set the matplotlib backend so figures can be saved in the background\n",
        "import matplotlib\n",
        "matplotlib.use(\"Agg\")\n",
        "\n",
        "from sklearn.preprocessing import LabelEncoder\n",
        "from sklearn.metrics import classification_report\n",
        "from tensorflow.keras.optimizers import SGD\n",
        "from tensorflow.keras.utils import to_categorical\n",
        "from imutils import paths\n",
        "import argparse\n",
        "\n",
        "from sklearn.model_selection import KFold\n",
        "from sklearn import metrics\n",
        "from scipy.stats import zscore"
      ],
      "metadata": {
        "id": "6f-PDKiLl2iC"
      },
      "execution_count": 2,
      "outputs": []
    },
    {
      "cell_type": "markdown",
      "source": [
        "#### Load data"
      ],
      "metadata": {
        "id": "Z1e52UqdwPp8"
      }
    },
    {
      "cell_type": "code",
      "metadata": {
        "colab": {
          "base_uri": "https://localhost:8080/"
        },
        "id": "DlcukkP7fnhB",
        "outputId": "7aadcbcd-c0bc-4477-b0c5-6307f3ef9e1a"
      },
      "source": [
        "from google.colab import drive\n",
        "drive.mount('/content/drive')"
      ],
      "execution_count": 3,
      "outputs": [
        {
          "output_type": "stream",
          "name": "stdout",
          "text": [
            "Mounted at /content/drive\n"
          ]
        }
      ]
    },
    {
      "cell_type": "code",
      "metadata": {
        "id": "0w8suy5ofqx_"
      },
      "source": [
        "data_dir = '/content/drive/My Drive/Senior Project/CXR Image3class'"
      ],
      "execution_count": 4,
      "outputs": []
    },
    {
      "cell_type": "markdown",
      "source": [
        "train 3 class"
      ],
      "metadata": {
        "id": "xhqPQxA42jeC"
      }
    },
    {
      "cell_type": "code",
      "source": [
        "Normal151_dir = os.path.join(data_dir,'Normal151')\n",
        "TB150_dir = os.path.join(data_dir,'TB150')\n",
        "CA150_dir = os.path.join(data_dir,'CA150')\n",
        "\n",
        "All_3class_dir = os.path.join(data_dir,'All_3class')"
      ],
      "metadata": {
        "id": "-Jrg5mt_RvJT"
      },
      "execution_count": 5,
      "outputs": []
    },
    {
      "cell_type": "markdown",
      "source": [
        "#### test 3 class  --- สร้างตารางเก็บ ชื่อภาพ และชื่อคลาส\n",
        "ข้อมูลใน All_3class_dir รวมภาพทั้ง 3 คลาส รวม 451 ภาพ TB150, Normal151 และ CA150 (CA คือ lungcancer)"
      ],
      "metadata": {
        "id": "YFVxlpQZf5pU"
      }
    },
    {
      "cell_type": "code",
      "source": [
        "Normal151_dir = os.path.join(data_dir,'Normal151')\n",
        "TB150_dir = os.path.join(data_dir,'TB150')\n",
        "CA150_dir = os.path.join(data_dir,'CA150')\n",
        "\n",
        "All_3class_dir = os.path.join(data_dir,'All_3class')"
      ],
      "metadata": {
        "id": "8BHyN8YKpwx9"
      },
      "execution_count": 6,
      "outputs": []
    },
    {
      "cell_type": "code",
      "source": [
        "normal = []\n",
        "for i in range(len(os.listdir(Normal151_dir))):\n",
        "    img = os.listdir(Normal151_dir)[i]\n",
        "    normal.append(img)\n",
        "    \n",
        "tnormal = pd.DataFrame({'ImageName':[normal][0],\n",
        "                                       'NameType': \"Normal\" ,\n",
        "                                       'NumberType': 0                      })"
      ],
      "metadata": {
        "id": "mT0QF8IgrfVm"
      },
      "execution_count": 7,
      "outputs": []
    },
    {
      "cell_type": "code",
      "source": [
        "tuberculosis = []\n",
        "for i in range(len(os.listdir(TB150_dir))):\n",
        "    img = os.listdir(TB150_dir)[i]\n",
        "    tuberculosis.append(img)\n",
        "\n",
        "ttuberculosis = pd.DataFrame({'ImageName':[tuberculosis][0],\n",
        "                                       'NameType': \"Tuberculosis\" ,\n",
        "                                       'NumberType': 1                        })"
      ],
      "metadata": {
        "id": "VtNPg0jwf5pW"
      },
      "execution_count": 8,
      "outputs": []
    },
    {
      "cell_type": "code",
      "source": [
        "lungcancer = []\n",
        "for i in range(len(os.listdir(CA150_dir))):\n",
        "    img = os.listdir(CA150_dir)[i]\n",
        "    lungcancer.append(img)\n",
        "\n",
        "tlungcancer = pd.DataFrame({'ImageName':[lungcancer][0],\n",
        "                                       'NameType': \"Lungcancer\" ,\n",
        "                                       'NumberType': 2                        })"
      ],
      "metadata": {
        "id": "X5pyCUl5mJGV"
      },
      "execution_count": 9,
      "outputs": []
    },
    {
      "cell_type": "code",
      "source": [
        "data_train2 = pd.concat([tnormal, ttuberculosis])\n",
        "data_train2.head(3)"
      ],
      "metadata": {
        "id": "3_qF_MjCf5pX",
        "outputId": "ed059b92-8851-4e5c-e889-d24c48cdc3ec",
        "colab": {
          "base_uri": "https://localhost:8080/",
          "height": 143
        }
      },
      "execution_count": 10,
      "outputs": [
        {
          "output_type": "execute_result",
          "data": {
            "text/html": [
              "\n",
              "  <div id=\"df-cfcb250c-6eb6-4b23-b386-19d52a51d510\">\n",
              "    <div class=\"colab-df-container\">\n",
              "      <div>\n",
              "<style scoped>\n",
              "    .dataframe tbody tr th:only-of-type {\n",
              "        vertical-align: middle;\n",
              "    }\n",
              "\n",
              "    .dataframe tbody tr th {\n",
              "        vertical-align: top;\n",
              "    }\n",
              "\n",
              "    .dataframe thead th {\n",
              "        text-align: right;\n",
              "    }\n",
              "</style>\n",
              "<table border=\"1\" class=\"dataframe\">\n",
              "  <thead>\n",
              "    <tr style=\"text-align: right;\">\n",
              "      <th></th>\n",
              "      <th>ImageName</th>\n",
              "      <th>NameType</th>\n",
              "      <th>NumberType</th>\n",
              "    </tr>\n",
              "  </thead>\n",
              "  <tbody>\n",
              "    <tr>\n",
              "      <th>0</th>\n",
              "      <td>124.jpg</td>\n",
              "      <td>Normal</td>\n",
              "      <td>0</td>\n",
              "    </tr>\n",
              "    <tr>\n",
              "      <th>1</th>\n",
              "      <td>128.jpg</td>\n",
              "      <td>Normal</td>\n",
              "      <td>0</td>\n",
              "    </tr>\n",
              "    <tr>\n",
              "      <th>2</th>\n",
              "      <td>151.jpg</td>\n",
              "      <td>Normal</td>\n",
              "      <td>0</td>\n",
              "    </tr>\n",
              "  </tbody>\n",
              "</table>\n",
              "</div>\n",
              "      <button class=\"colab-df-convert\" onclick=\"convertToInteractive('df-cfcb250c-6eb6-4b23-b386-19d52a51d510')\"\n",
              "              title=\"Convert this dataframe to an interactive table.\"\n",
              "              style=\"display:none;\">\n",
              "        \n",
              "  <svg xmlns=\"http://www.w3.org/2000/svg\" height=\"24px\"viewBox=\"0 0 24 24\"\n",
              "       width=\"24px\">\n",
              "    <path d=\"M0 0h24v24H0V0z\" fill=\"none\"/>\n",
              "    <path d=\"M18.56 5.44l.94 2.06.94-2.06 2.06-.94-2.06-.94-.94-2.06-.94 2.06-2.06.94zm-11 1L8.5 8.5l.94-2.06 2.06-.94-2.06-.94L8.5 2.5l-.94 2.06-2.06.94zm10 10l.94 2.06.94-2.06 2.06-.94-2.06-.94-.94-2.06-.94 2.06-2.06.94z\"/><path d=\"M17.41 7.96l-1.37-1.37c-.4-.4-.92-.59-1.43-.59-.52 0-1.04.2-1.43.59L10.3 9.45l-7.72 7.72c-.78.78-.78 2.05 0 2.83L4 21.41c.39.39.9.59 1.41.59.51 0 1.02-.2 1.41-.59l7.78-7.78 2.81-2.81c.8-.78.8-2.07 0-2.86zM5.41 20L4 18.59l7.72-7.72 1.47 1.35L5.41 20z\"/>\n",
              "  </svg>\n",
              "      </button>\n",
              "      \n",
              "  <style>\n",
              "    .colab-df-container {\n",
              "      display:flex;\n",
              "      flex-wrap:wrap;\n",
              "      gap: 12px;\n",
              "    }\n",
              "\n",
              "    .colab-df-convert {\n",
              "      background-color: #E8F0FE;\n",
              "      border: none;\n",
              "      border-radius: 50%;\n",
              "      cursor: pointer;\n",
              "      display: none;\n",
              "      fill: #1967D2;\n",
              "      height: 32px;\n",
              "      padding: 0 0 0 0;\n",
              "      width: 32px;\n",
              "    }\n",
              "\n",
              "    .colab-df-convert:hover {\n",
              "      background-color: #E2EBFA;\n",
              "      box-shadow: 0px 1px 2px rgba(60, 64, 67, 0.3), 0px 1px 3px 1px rgba(60, 64, 67, 0.15);\n",
              "      fill: #174EA6;\n",
              "    }\n",
              "\n",
              "    [theme=dark] .colab-df-convert {\n",
              "      background-color: #3B4455;\n",
              "      fill: #D2E3FC;\n",
              "    }\n",
              "\n",
              "    [theme=dark] .colab-df-convert:hover {\n",
              "      background-color: #434B5C;\n",
              "      box-shadow: 0px 1px 3px 1px rgba(0, 0, 0, 0.15);\n",
              "      filter: drop-shadow(0px 1px 2px rgba(0, 0, 0, 0.3));\n",
              "      fill: #FFFFFF;\n",
              "    }\n",
              "  </style>\n",
              "\n",
              "      <script>\n",
              "        const buttonEl =\n",
              "          document.querySelector('#df-cfcb250c-6eb6-4b23-b386-19d52a51d510 button.colab-df-convert');\n",
              "        buttonEl.style.display =\n",
              "          google.colab.kernel.accessAllowed ? 'block' : 'none';\n",
              "\n",
              "        async function convertToInteractive(key) {\n",
              "          const element = document.querySelector('#df-cfcb250c-6eb6-4b23-b386-19d52a51d510');\n",
              "          const dataTable =\n",
              "            await google.colab.kernel.invokeFunction('convertToInteractive',\n",
              "                                                     [key], {});\n",
              "          if (!dataTable) return;\n",
              "\n",
              "          const docLinkHtml = 'Like what you see? Visit the ' +\n",
              "            '<a target=\"_blank\" href=https://colab.research.google.com/notebooks/data_table.ipynb>data table notebook</a>'\n",
              "            + ' to learn more about interactive tables.';\n",
              "          element.innerHTML = '';\n",
              "          dataTable['output_type'] = 'display_data';\n",
              "          await google.colab.output.renderOutput(dataTable, element);\n",
              "          const docLink = document.createElement('div');\n",
              "          docLink.innerHTML = docLinkHtml;\n",
              "          element.appendChild(docLink);\n",
              "        }\n",
              "      </script>\n",
              "    </div>\n",
              "  </div>\n",
              "  "
            ],
            "text/plain": [
              "  ImageName NameType  NumberType\n",
              "0   124.jpg   Normal           0\n",
              "1   128.jpg   Normal           0\n",
              "2   151.jpg   Normal           0"
            ]
          },
          "metadata": {},
          "execution_count": 10
        }
      ]
    },
    {
      "cell_type": "code",
      "source": [
        "data_train3 = pd.concat([tnormal, ttuberculosis, tlungcancer])\n",
        "data_train3[-3:]"
      ],
      "metadata": {
        "id": "bgArCw5jnwg2",
        "outputId": "ec270700-fd37-4173-c4a4-8aa5f3e9f58c",
        "colab": {
          "base_uri": "https://localhost:8080/",
          "height": 143
        }
      },
      "execution_count": 11,
      "outputs": [
        {
          "output_type": "execute_result",
          "data": {
            "text/html": [
              "\n",
              "  <div id=\"df-7d90c6e7-13f3-46c8-a385-0d202fd89187\">\n",
              "    <div class=\"colab-df-container\">\n",
              "      <div>\n",
              "<style scoped>\n",
              "    .dataframe tbody tr th:only-of-type {\n",
              "        vertical-align: middle;\n",
              "    }\n",
              "\n",
              "    .dataframe tbody tr th {\n",
              "        vertical-align: top;\n",
              "    }\n",
              "\n",
              "    .dataframe thead th {\n",
              "        text-align: right;\n",
              "    }\n",
              "</style>\n",
              "<table border=\"1\" class=\"dataframe\">\n",
              "  <thead>\n",
              "    <tr style=\"text-align: right;\">\n",
              "      <th></th>\n",
              "      <th>ImageName</th>\n",
              "      <th>NameType</th>\n",
              "      <th>NumberType</th>\n",
              "    </tr>\n",
              "  </thead>\n",
              "  <tbody>\n",
              "    <tr>\n",
              "      <th>147</th>\n",
              "      <td>ca26.jpg</td>\n",
              "      <td>Lungcancer</td>\n",
              "      <td>2</td>\n",
              "    </tr>\n",
              "    <tr>\n",
              "      <th>148</th>\n",
              "      <td>ca7.jpg</td>\n",
              "      <td>Lungcancer</td>\n",
              "      <td>2</td>\n",
              "    </tr>\n",
              "    <tr>\n",
              "      <th>149</th>\n",
              "      <td>ca8.jpg</td>\n",
              "      <td>Lungcancer</td>\n",
              "      <td>2</td>\n",
              "    </tr>\n",
              "  </tbody>\n",
              "</table>\n",
              "</div>\n",
              "      <button class=\"colab-df-convert\" onclick=\"convertToInteractive('df-7d90c6e7-13f3-46c8-a385-0d202fd89187')\"\n",
              "              title=\"Convert this dataframe to an interactive table.\"\n",
              "              style=\"display:none;\">\n",
              "        \n",
              "  <svg xmlns=\"http://www.w3.org/2000/svg\" height=\"24px\"viewBox=\"0 0 24 24\"\n",
              "       width=\"24px\">\n",
              "    <path d=\"M0 0h24v24H0V0z\" fill=\"none\"/>\n",
              "    <path d=\"M18.56 5.44l.94 2.06.94-2.06 2.06-.94-2.06-.94-.94-2.06-.94 2.06-2.06.94zm-11 1L8.5 8.5l.94-2.06 2.06-.94-2.06-.94L8.5 2.5l-.94 2.06-2.06.94zm10 10l.94 2.06.94-2.06 2.06-.94-2.06-.94-.94-2.06-.94 2.06-2.06.94z\"/><path d=\"M17.41 7.96l-1.37-1.37c-.4-.4-.92-.59-1.43-.59-.52 0-1.04.2-1.43.59L10.3 9.45l-7.72 7.72c-.78.78-.78 2.05 0 2.83L4 21.41c.39.39.9.59 1.41.59.51 0 1.02-.2 1.41-.59l7.78-7.78 2.81-2.81c.8-.78.8-2.07 0-2.86zM5.41 20L4 18.59l7.72-7.72 1.47 1.35L5.41 20z\"/>\n",
              "  </svg>\n",
              "      </button>\n",
              "      \n",
              "  <style>\n",
              "    .colab-df-container {\n",
              "      display:flex;\n",
              "      flex-wrap:wrap;\n",
              "      gap: 12px;\n",
              "    }\n",
              "\n",
              "    .colab-df-convert {\n",
              "      background-color: #E8F0FE;\n",
              "      border: none;\n",
              "      border-radius: 50%;\n",
              "      cursor: pointer;\n",
              "      display: none;\n",
              "      fill: #1967D2;\n",
              "      height: 32px;\n",
              "      padding: 0 0 0 0;\n",
              "      width: 32px;\n",
              "    }\n",
              "\n",
              "    .colab-df-convert:hover {\n",
              "      background-color: #E2EBFA;\n",
              "      box-shadow: 0px 1px 2px rgba(60, 64, 67, 0.3), 0px 1px 3px 1px rgba(60, 64, 67, 0.15);\n",
              "      fill: #174EA6;\n",
              "    }\n",
              "\n",
              "    [theme=dark] .colab-df-convert {\n",
              "      background-color: #3B4455;\n",
              "      fill: #D2E3FC;\n",
              "    }\n",
              "\n",
              "    [theme=dark] .colab-df-convert:hover {\n",
              "      background-color: #434B5C;\n",
              "      box-shadow: 0px 1px 3px 1px rgba(0, 0, 0, 0.15);\n",
              "      filter: drop-shadow(0px 1px 2px rgba(0, 0, 0, 0.3));\n",
              "      fill: #FFFFFF;\n",
              "    }\n",
              "  </style>\n",
              "\n",
              "      <script>\n",
              "        const buttonEl =\n",
              "          document.querySelector('#df-7d90c6e7-13f3-46c8-a385-0d202fd89187 button.colab-df-convert');\n",
              "        buttonEl.style.display =\n",
              "          google.colab.kernel.accessAllowed ? 'block' : 'none';\n",
              "\n",
              "        async function convertToInteractive(key) {\n",
              "          const element = document.querySelector('#df-7d90c6e7-13f3-46c8-a385-0d202fd89187');\n",
              "          const dataTable =\n",
              "            await google.colab.kernel.invokeFunction('convertToInteractive',\n",
              "                                                     [key], {});\n",
              "          if (!dataTable) return;\n",
              "\n",
              "          const docLinkHtml = 'Like what you see? Visit the ' +\n",
              "            '<a target=\"_blank\" href=https://colab.research.google.com/notebooks/data_table.ipynb>data table notebook</a>'\n",
              "            + ' to learn more about interactive tables.';\n",
              "          element.innerHTML = '';\n",
              "          dataTable['output_type'] = 'display_data';\n",
              "          await google.colab.output.renderOutput(dataTable, element);\n",
              "          const docLink = document.createElement('div');\n",
              "          docLink.innerHTML = docLinkHtml;\n",
              "          element.appendChild(docLink);\n",
              "        }\n",
              "      </script>\n",
              "    </div>\n",
              "  </div>\n",
              "  "
            ],
            "text/plain": [
              "    ImageName    NameType  NumberType\n",
              "147  ca26.jpg  Lungcancer           2\n",
              "148   ca7.jpg  Lungcancer           2\n",
              "149   ca8.jpg  Lungcancer           2"
            ]
          },
          "metadata": {},
          "execution_count": 11
        }
      ]
    },
    {
      "cell_type": "markdown",
      "source": [
        "#### ครอปภาพ"
      ],
      "metadata": {
        "id": "i3VgdwyERPmO"
      }
    },
    {
      "cell_type": "code",
      "source": [
        "import PIL\n",
        "from PIL import Image"
      ],
      "metadata": {
        "id": "8iJbyNOmRXSg"
      },
      "execution_count": 110,
      "outputs": []
    },
    {
      "cell_type": "code",
      "source": [
        "data_train3[:5]"
      ],
      "metadata": {
        "id": "pTCUhz9WR4oE",
        "outputId": "8fe208b5-b1de-4723-f255-0cf6b5c4be5a",
        "colab": {
          "base_uri": "https://localhost:8080/",
          "height": 206
        }
      },
      "execution_count": 14,
      "outputs": [
        {
          "output_type": "execute_result",
          "data": {
            "text/html": [
              "\n",
              "  <div id=\"df-baabc1ab-8a71-4bff-a5a4-990df415b974\">\n",
              "    <div class=\"colab-df-container\">\n",
              "      <div>\n",
              "<style scoped>\n",
              "    .dataframe tbody tr th:only-of-type {\n",
              "        vertical-align: middle;\n",
              "    }\n",
              "\n",
              "    .dataframe tbody tr th {\n",
              "        vertical-align: top;\n",
              "    }\n",
              "\n",
              "    .dataframe thead th {\n",
              "        text-align: right;\n",
              "    }\n",
              "</style>\n",
              "<table border=\"1\" class=\"dataframe\">\n",
              "  <thead>\n",
              "    <tr style=\"text-align: right;\">\n",
              "      <th></th>\n",
              "      <th>ImageName</th>\n",
              "      <th>NameType</th>\n",
              "      <th>NumberType</th>\n",
              "    </tr>\n",
              "  </thead>\n",
              "  <tbody>\n",
              "    <tr>\n",
              "      <th>0</th>\n",
              "      <td>124.jpg</td>\n",
              "      <td>Normal</td>\n",
              "      <td>0</td>\n",
              "    </tr>\n",
              "    <tr>\n",
              "      <th>1</th>\n",
              "      <td>128.jpg</td>\n",
              "      <td>Normal</td>\n",
              "      <td>0</td>\n",
              "    </tr>\n",
              "    <tr>\n",
              "      <th>2</th>\n",
              "      <td>151.jpg</td>\n",
              "      <td>Normal</td>\n",
              "      <td>0</td>\n",
              "    </tr>\n",
              "    <tr>\n",
              "      <th>3</th>\n",
              "      <td>146.jpg</td>\n",
              "      <td>Normal</td>\n",
              "      <td>0</td>\n",
              "    </tr>\n",
              "    <tr>\n",
              "      <th>4</th>\n",
              "      <td>138.jpg</td>\n",
              "      <td>Normal</td>\n",
              "      <td>0</td>\n",
              "    </tr>\n",
              "  </tbody>\n",
              "</table>\n",
              "</div>\n",
              "      <button class=\"colab-df-convert\" onclick=\"convertToInteractive('df-baabc1ab-8a71-4bff-a5a4-990df415b974')\"\n",
              "              title=\"Convert this dataframe to an interactive table.\"\n",
              "              style=\"display:none;\">\n",
              "        \n",
              "  <svg xmlns=\"http://www.w3.org/2000/svg\" height=\"24px\"viewBox=\"0 0 24 24\"\n",
              "       width=\"24px\">\n",
              "    <path d=\"M0 0h24v24H0V0z\" fill=\"none\"/>\n",
              "    <path d=\"M18.56 5.44l.94 2.06.94-2.06 2.06-.94-2.06-.94-.94-2.06-.94 2.06-2.06.94zm-11 1L8.5 8.5l.94-2.06 2.06-.94-2.06-.94L8.5 2.5l-.94 2.06-2.06.94zm10 10l.94 2.06.94-2.06 2.06-.94-2.06-.94-.94-2.06-.94 2.06-2.06.94z\"/><path d=\"M17.41 7.96l-1.37-1.37c-.4-.4-.92-.59-1.43-.59-.52 0-1.04.2-1.43.59L10.3 9.45l-7.72 7.72c-.78.78-.78 2.05 0 2.83L4 21.41c.39.39.9.59 1.41.59.51 0 1.02-.2 1.41-.59l7.78-7.78 2.81-2.81c.8-.78.8-2.07 0-2.86zM5.41 20L4 18.59l7.72-7.72 1.47 1.35L5.41 20z\"/>\n",
              "  </svg>\n",
              "      </button>\n",
              "      \n",
              "  <style>\n",
              "    .colab-df-container {\n",
              "      display:flex;\n",
              "      flex-wrap:wrap;\n",
              "      gap: 12px;\n",
              "    }\n",
              "\n",
              "    .colab-df-convert {\n",
              "      background-color: #E8F0FE;\n",
              "      border: none;\n",
              "      border-radius: 50%;\n",
              "      cursor: pointer;\n",
              "      display: none;\n",
              "      fill: #1967D2;\n",
              "      height: 32px;\n",
              "      padding: 0 0 0 0;\n",
              "      width: 32px;\n",
              "    }\n",
              "\n",
              "    .colab-df-convert:hover {\n",
              "      background-color: #E2EBFA;\n",
              "      box-shadow: 0px 1px 2px rgba(60, 64, 67, 0.3), 0px 1px 3px 1px rgba(60, 64, 67, 0.15);\n",
              "      fill: #174EA6;\n",
              "    }\n",
              "\n",
              "    [theme=dark] .colab-df-convert {\n",
              "      background-color: #3B4455;\n",
              "      fill: #D2E3FC;\n",
              "    }\n",
              "\n",
              "    [theme=dark] .colab-df-convert:hover {\n",
              "      background-color: #434B5C;\n",
              "      box-shadow: 0px 1px 3px 1px rgba(0, 0, 0, 0.15);\n",
              "      filter: drop-shadow(0px 1px 2px rgba(0, 0, 0, 0.3));\n",
              "      fill: #FFFFFF;\n",
              "    }\n",
              "  </style>\n",
              "\n",
              "      <script>\n",
              "        const buttonEl =\n",
              "          document.querySelector('#df-baabc1ab-8a71-4bff-a5a4-990df415b974 button.colab-df-convert');\n",
              "        buttonEl.style.display =\n",
              "          google.colab.kernel.accessAllowed ? 'block' : 'none';\n",
              "\n",
              "        async function convertToInteractive(key) {\n",
              "          const element = document.querySelector('#df-baabc1ab-8a71-4bff-a5a4-990df415b974');\n",
              "          const dataTable =\n",
              "            await google.colab.kernel.invokeFunction('convertToInteractive',\n",
              "                                                     [key], {});\n",
              "          if (!dataTable) return;\n",
              "\n",
              "          const docLinkHtml = 'Like what you see? Visit the ' +\n",
              "            '<a target=\"_blank\" href=https://colab.research.google.com/notebooks/data_table.ipynb>data table notebook</a>'\n",
              "            + ' to learn more about interactive tables.';\n",
              "          element.innerHTML = '';\n",
              "          dataTable['output_type'] = 'display_data';\n",
              "          await google.colab.output.renderOutput(dataTable, element);\n",
              "          const docLink = document.createElement('div');\n",
              "          docLink.innerHTML = docLinkHtml;\n",
              "          element.appendChild(docLink);\n",
              "        }\n",
              "      </script>\n",
              "    </div>\n",
              "  </div>\n",
              "  "
            ],
            "text/plain": [
              "  ImageName NameType  NumberType\n",
              "0   124.jpg   Normal           0\n",
              "1   128.jpg   Normal           0\n",
              "2   151.jpg   Normal           0\n",
              "3   146.jpg   Normal           0\n",
              "4   138.jpg   Normal           0"
            ]
          },
          "metadata": {},
          "execution_count": 14
        }
      ]
    },
    {
      "cell_type": "code",
      "source": [
        "#ครอปภาพได้\n",
        "mywidth = 244\n",
        "\n",
        "img9 = Image.open(All_3class_dir + '/'+'124.jpg')\n",
        "wpercent = (mywidth/float(img9.size[0]))\n",
        "hsize = int((float(img9.size[1])*float(wpercent)))\n",
        "img = img9.resize((mywidth,hsize), PIL.Image.ANTIALIAS)\n",
        "img.size"
      ],
      "metadata": {
        "id": "cxuhy67JRXKr",
        "outputId": "bbfc56ee-7741-4d9a-f8f4-647572cee093",
        "colab": {
          "base_uri": "https://localhost:8080/"
        }
      },
      "execution_count": 115,
      "outputs": [
        {
          "output_type": "execute_result",
          "data": {
            "text/plain": [
              "(244, 272)"
            ]
          },
          "metadata": {},
          "execution_count": 115
        }
      ]
    },
    {
      "cell_type": "code",
      "source": [
        "img_c = img.crop((0,0,244,224))\n",
        "img_c"
      ],
      "metadata": {
        "id": "xPTl9lVXVQ49",
        "outputId": "ba1c673f-97b8-454c-89a3-416e4f8a2d9a",
        "colab": {
          "base_uri": "https://localhost:8080/",
          "height": 241
        }
      },
      "execution_count": 104,
      "outputs": [
        {
          "output_type": "execute_result",
          "data": {
            "image/png": "[encoded data removed]",
            "text/plain": [
              "<PIL.Image.Image image mode=L size=244x224 at 0x7F83DB616590>"
            ]
          },
          "metadata": {},
          "execution_count": 104
        }
      ]
    },
    {
      "cell_type": "code",
      "source": [
        "from tensorflow.keras.preprocessing.image import ImageDataGenerator, array_to_img, img_to_array, load_img"
      ],
      "metadata": {
        "id": "vsk8K7wbfSIg"
      },
      "execution_count": 105,
      "outputs": []
    },
    {
      "cell_type": "code",
      "source": [
        "x = img_to_array(img_c)"
      ],
      "metadata": {
        "id": "dV02BUajfa9_"
      },
      "execution_count": 107,
      "outputs": []
    },
    {
      "cell_type": "code",
      "source": [
        "x"
      ],
      "metadata": {
        "id": "nfJmH2zdfa7j"
      },
      "execution_count": null,
      "outputs": []
    },
    {
      "cell_type": "code",
      "source": [
        ""
      ],
      "metadata": {
        "id": "3Tyc45YtfSF8"
      },
      "execution_count": null,
      "outputs": []
    },
    {
      "cell_type": "code",
      "source": [
        "#แปลงภาพเป็น array\n",
        "image_sequence = img_c.getdata()\n",
        "image_array = np.array(image_sequence)\n",
        "image_array.shape"
      ],
      "metadata": {
        "id": "uuicDq9caCjT",
        "outputId": "5e3f7c5c-75b9-42a3-b9ed-922e6aa6b5bd",
        "colab": {
          "base_uri": "https://localhost:8080/"
        }
      },
      "execution_count": 62,
      "outputs": [
        {
          "output_type": "execute_result",
          "data": {
            "text/plain": [
              "(54656,)"
            ]
          },
          "metadata": {},
          "execution_count": 62
        }
      ]
    },
    {
      "cell_type": "code",
      "source": [
        "len(ta2)"
      ],
      "metadata": {
        "id": "_hgbhX6ieOdW",
        "outputId": "61fe5354-cf53-43f4-cc68-9b4fb0bbc046",
        "colab": {
          "base_uri": "https://localhost:8080/"
        }
      },
      "execution_count": 91,
      "outputs": [
        {
          "output_type": "execute_result",
          "data": {
            "text/plain": [
              "2"
            ]
          },
          "metadata": {},
          "execution_count": 91
        }
      ]
    },
    {
      "cell_type": "code",
      "source": [
        "data_Dense = np.array(ta2, dtype=\"float32\") / 255.0"
      ],
      "metadata": {
        "id": "EB-JVL72dUH9"
      },
      "execution_count": 82,
      "outputs": []
    },
    {
      "cell_type": "code",
      "source": [
        "data_Dense"
      ],
      "metadata": {
        "id": "DZ2uG4qXeL1W",
        "outputId": "a80e15ce-2f01-428c-fc38-5037140e887a",
        "colab": {
          "base_uri": "https://localhost:8080/"
        }
      },
      "execution_count": 87,
      "outputs": [
        {
          "output_type": "execute_result",
          "data": {
            "text/plain": [
              "array([[0.8117647 , 0.8117647 , 0.81960785, ..., 0.03921569, 0.03921569,\n",
              "        0.04313726],\n",
              "       [0.8117647 , 0.8117647 , 0.81960785, ..., 0.03921569, 0.03921569,\n",
              "        0.04313726]], dtype=float32)"
            ]
          },
          "metadata": {},
          "execution_count": 87
        }
      ]
    },
    {
      "cell_type": "markdown",
      "source": [
        "#แก้ขนาดภาพ เป็น 224 "
      ],
      "metadata": {
        "id": "dfVtTvp6hHT2"
      }
    },
    {
      "cell_type": "code",
      "source": [
        "train_img_Dense = []\n",
        "mywidth = 244 \n",
        "for ImageName in tqdm(data_train3['ImageName']):               # รัน ชื่อรูป ในไฟล์ data_test3\n",
        "    image_path = All_3class_dir +'/' + ImageName                   # ดึงรูปในโฟล์เดอร์มาทีละรูป\n",
        "\n",
        "    img = Image.open(image_path)\n",
        "\n",
        "    wpercent = (mywidth/float(img.size[0]))\n",
        "    hsize = int((float(img.size[1])*float(wpercent)))\n",
        "    img = img.resize((mywidth,hsize), PIL.Image.ANTIALIAS)\n",
        "    img = img.crop((0,0,mywidth,mywidth))\n",
        "    \n",
        "    img = img_to_array(img)\n",
        "    train_img_Dense.append(img)\n",
        "\n",
        "data_Dense = np.array(train_img_Dense, dtype=\"float32\") / 255.0"
      ],
      "metadata": {
        "id": "nfo459Mxde1f",
        "outputId": "8e2035e0-3bed-4d7d-f5db-e8340d395da5",
        "colab": {
          "base_uri": "https://localhost:8080/",
          "height": 218
        }
      },
      "execution_count": 117,
      "outputs": [
        {
          "output_type": "stream",
          "name": "stderr",
          "text": [
            "100%|██████████| 451/451 [04:45<00:00,  1.58it/s]\n"
          ]
        },
        {
          "output_type": "error",
          "ename": "ValueError",
          "evalue": "ignored",
          "traceback": [
            "\u001b[0;31m---------------------------------------------------------------------------\u001b[0m",
            "\u001b[0;31mValueError\u001b[0m                                Traceback (most recent call last)",
            "\u001b[0;32m<ipython-input-117-3dc96dc7b277>\u001b[0m in \u001b[0;36m<module>\u001b[0;34m()\u001b[0m\n\u001b[1;32m     14\u001b[0m     \u001b[0mtrain_img_Dense\u001b[0m\u001b[0;34m.\u001b[0m\u001b[0mappend\u001b[0m\u001b[0;34m(\u001b[0m\u001b[0mimg\u001b[0m\u001b[0;34m)\u001b[0m\u001b[0;34m\u001b[0m\u001b[0;34m\u001b[0m\u001b[0m\n\u001b[1;32m     15\u001b[0m \u001b[0;34m\u001b[0m\u001b[0m\n\u001b[0;32m---> 16\u001b[0;31m \u001b[0mdata_Dense\u001b[0m \u001b[0;34m=\u001b[0m \u001b[0mnp\u001b[0m\u001b[0;34m.\u001b[0m\u001b[0marray\u001b[0m\u001b[0;34m(\u001b[0m\u001b[0mtrain_img_Dense\u001b[0m\u001b[0;34m,\u001b[0m \u001b[0mdtype\u001b[0m\u001b[0;34m=\u001b[0m\u001b[0;34m\"float32\"\u001b[0m\u001b[0;34m)\u001b[0m \u001b[0;34m/\u001b[0m \u001b[0;36m255.0\u001b[0m\u001b[0;34m\u001b[0m\u001b[0;34m\u001b[0m\u001b[0m\n\u001b[0m",
            "\u001b[0;31mValueError\u001b[0m: setting an array element with a sequence. The requested array has an inhomogeneous shape after 3 dimensions. The detected shape was (451, 244, 244) + inhomogeneous part."
          ]
        }
      ]
    },
    {
      "cell_type": "code",
      "source": [
        "train_img_Dense"
      ],
      "metadata": {
        "id": "5gUkDeXvdetC"
      },
      "execution_count": null,
      "outputs": []
    },
    {
      "cell_type": "markdown",
      "source": [
        "####  test 3 class \n",
        " TB  Normal จากเน็ต   และ CA จากข้อมูล"
      ],
      "metadata": {
        "id": "3Fi053VB2o6Y"
      }
    },
    {
      "cell_type": "code",
      "source": [
        "TB700_dir = os.path.join(data_dir,'test_model/Tuberculosis700')\n",
        "Normal94_dir = os.path.join(data_dir,'test_model/NORMAL94')\n",
        "CA150_dir = os.path.join(data_dir,'CA150')                  #อันเดิมที่ใช้เทรน\n",
        "\n",
        "AllTest_2class = os.path.join(data_dir,'test_model/AllTest_2class')"
      ],
      "metadata": {
        "id": "DoGUhtkpCph6"
      },
      "execution_count": null,
      "outputs": []
    },
    {
      "cell_type": "code",
      "source": [
        "#สำหรับ test model\n",
        "normal = []\n",
        "for i in range(len(os.listdir(Normal94_dir))):\n",
        "    img = os.listdir(Normal94_dir)[i]\n",
        "    normal.append(img)\n",
        "    \n",
        "tnormal94 = pd.DataFrame({'ImageName':[normal][0],\n",
        "                                       'NameType': \"Normal\" ,\n",
        "                                       'NumberType': 0                      })"
      ],
      "metadata": {
        "id": "nWuAUibuR4VW"
      },
      "execution_count": null,
      "outputs": []
    },
    {
      "cell_type": "code",
      "source": [
        "#สำหรับ test model\n",
        "tb700 = []\n",
        "for i in range(len(os.listdir(TB700_dir))):\n",
        "    img = os.listdir(TB700_dir)[i]\n",
        "    tb700.append(img)\n",
        "\n",
        "ttb700 = pd.DataFrame({'ImageName':[tb700][0],\n",
        "                                       'NameType': \"Tuberculosis\" ,\n",
        "                                       'NumberType': 1                        })"
      ],
      "metadata": {
        "id": "Bu1n-Ib48qFf"
      },
      "execution_count": null,
      "outputs": []
    },
    {
      "cell_type": "code",
      "source": [
        "#สำหรับ test model ข้อม฿ลเดิม\n",
        "lungcancer = []\n",
        "for i in range(len(os.listdir(CA150_dir))):\n",
        "    img = os.listdir(CA150_dir)[i]\n",
        "    lungcancer.append(img)\n",
        "\n",
        "tlungcancer = pd.DataFrame({'ImageName':[lungcancer][0],\n",
        "                                       'NameType': \"Lungcancer\" ,\n",
        "                                       'NumberType': 2                        })"
      ],
      "metadata": {
        "id": "clUmEvEx2IKk"
      },
      "execution_count": null,
      "outputs": []
    },
    {
      "cell_type": "code",
      "source": [
        "data_test2 = pd.concat([tnormal94[:30], ttb700[:30], tlungcancer[:10]])"
      ],
      "metadata": {
        "id": "kePRXLwU195n"
      },
      "execution_count": null,
      "outputs": []
    },
    {
      "cell_type": "code",
      "source": [
        "test_NorTB = []\n",
        "for ImageName in tqdm(data_test2['ImageName']):               # รัน ชื่อรูป ในไฟล์ data_test2\n",
        "    image_path = AllTest_2class +'/' + ImageName                          # ดึงรูปในโฟล์เดอร์มาทีละรูป\n",
        "    img = cv2.imread(image_path)                                            # อ่านรูป\n",
        "    img = cv2.resize(img, (299, 299))\n",
        "    test_NorTB.append(img)"
      ],
      "metadata": {
        "colab": {
          "base_uri": "https://localhost:8080/"
        },
        "id": "DRlBEE0T14sz",
        "outputId": "d96bdb9f-750b-498a-d55d-986c58ff491d"
      },
      "execution_count": null,
      "outputs": [
        {
          "output_type": "stream",
          "name": "stderr",
          "text": [
            "100%|██████████| 70/70 [00:19<00:00,  3.60it/s]\n"
          ]
        }
      ]
    },
    {
      "cell_type": "code",
      "source": [
        "data_test = np.array(test_NorTB, dtype=\"float32\") / 255.0\n",
        "\n",
        "labels_test = np.array(data_test2[['NameType']] )        \n",
        "labels_test.shape = (len(labels_test),) \n",
        "\n",
        "le3_Incep = LabelEncoder()                                                                     \n",
        "labels_test = le3_Incep.fit_transform(labels_test)                                         #จะแปลงชื่อ class เป็นตัวเลข 1, 2, 0 \n",
        "\n",
        "labels_test = to_categorical(labels_test, num_classes=3)                   #shape (180, 3) มีค่าเป็น  [0., 1., 0.]  กับ   [0., 0., 1.] กับ  [1., 0., 0.]"
      ],
      "metadata": {
        "id": "hlnpYC_S72ee"
      },
      "execution_count": null,
      "outputs": []
    },
    {
      "cell_type": "markdown",
      "source": [
        "# Train Test หลังจากทำ K-fold"
      ],
      "metadata": {
        "id": "MSmUttKhbeZL"
      }
    },
    {
      "cell_type": "markdown",
      "source": [
        "## 5) K-fold  -- DenseNet201\n",
        "\n",
        "#### พารามิเตอร์จาก  '5) K-fold  -- DenseNet201' -->  ACC = 0.93, เวลา - นาที\n",
        "\n",
        "*   BS = 16\n",
        "*   fix weight & bias in layer 0-500\n",
        "*   activation=\"softmax\"\n",
        "*   learning_rate=0.0001\n",
        "*   epoch 30"
      ],
      "metadata": {
        "id": "uGBb3UfjO1M_"
      }
    },
    {
      "cell_type": "code",
      "source": [
        "train_img_Dense = []\n",
        "for ImageName in tqdm(data_train3['ImageName']):               # รัน ชื่อรูป ในไฟล์ data_test3\n",
        "    image_path = All_3class_dir +'/' + ImageName                   # ดึงรูปในโฟล์เดอร์มาทีละรูป\n",
        "    img = cv2.imread(image_path)                                            # อ่านรูป\n",
        "    img = cv2.resize(img, (224, 224))                                       #ขนาดของ input\n",
        "    train_img_Dense.append(img)\n",
        "\n",
        "data_Dense = np.array(train_img_Dense, dtype=\"float32\") / 255.0"
      ],
      "metadata": {
        "outputId": "0f4c2da0-d5ef-4016-c589-85c4630e24ff",
        "colab": {
          "base_uri": "https://localhost:8080/"
        },
        "id": "yi8EU4vxO1M_"
      },
      "execution_count": null,
      "outputs": [
        {
          "output_type": "stream",
          "name": "stderr",
          "text": [
            "100%|██████████| 451/451 [04:15<00:00,  1.76it/s]\n"
          ]
        }
      ]
    },
    {
      "cell_type": "code",
      "source": [
        "labels_Dense = np.array(data_train3[['NameType']] )        \n",
        "labels_Dense.shape = (len(labels_Dense),) \n",
        "\n",
        "le_Dense = LabelEncoder()                                                                     \n",
        "labels_Dense = le_Dense.fit_transform(labels_Dense)                                         #จะแปลงชื่อ class เป็นตัวเลข 1, 2, 0 \n",
        "\n",
        "labels_Dense = to_categorical(labels_Dense, num_classes=3)                   #shape (180, 3) มีค่าเป็น  [0., 1., 0.]  กับ   [0., 0., 1.] กับ  [1., 0., 0.]"
      ],
      "metadata": {
        "id": "WYJ5dDgvO1M_"
      },
      "execution_count": 96,
      "outputs": []
    },
    {
      "cell_type": "code",
      "source": [
        "(x_train_Dense2, x_test_Dense2, y_train_Dense2, y_test_Dense2 ) = train_test_split(data_Dense, labels_Dense,\n",
        "\t                                                                                                test_size=0.25, random_state=40)"
      ],
      "metadata": {
        "id": "8d4HtZYldIU_"
      },
      "execution_count": 97,
      "outputs": []
    },
    {
      "cell_type": "code",
      "source": [
        "le_Dense.classes_                  # มีค่า ['Lungcancer', 'Normal', 'Tuberculosis']"
      ],
      "metadata": {
        "colab": {
          "base_uri": "https://localhost:8080/"
        },
        "outputId": "de8272c4-3914-493a-a77c-60f35ba26c87",
        "id": "XYZJhSXkdIU_"
      },
      "execution_count": 98,
      "outputs": [
        {
          "output_type": "execute_result",
          "data": {
            "text/plain": [
              "array(['Lungcancer', 'Normal', 'Tuberculosis'], dtype=object)"
            ]
          },
          "metadata": {},
          "execution_count": 98
        }
      ]
    },
    {
      "cell_type": "code",
      "source": [
        "INIT_LR = 1e-1\n",
        "BS16 = 16\n",
        "EPOCHS = 50\n",
        "\n",
        "aug2 = ImageDataGenerator(\n",
        "\t\trotation_range=15,\t\t\t\t\t\t#องศาการหมุน\n",
        "\t\twidth_shift_range=0.2,\n",
        "\t\theight_shift_range=0.2,\n",
        "\t\tshear_range=0.15,\n",
        "\t\thorizontal_flip=True,\n",
        "\t\tfill_mode=\"nearest\")\n",
        "\n",
        "callback = tf.keras.callbacks.EarlyStopping(\n",
        "                monitor=\"val_accuracy\",\n",
        "                patience=3,\n",
        "                mode=\"max\" )"
      ],
      "metadata": {
        "id": "MmfIFFX3O1M_"
      },
      "execution_count": 99,
      "outputs": []
    },
    {
      "cell_type": "code",
      "source": [
        "base_model_Dense = tf.keras.applications.DenseNet201(input_shape=(224, 224, 3), include_top=False, weights=\"imagenet\")\n",
        "len(base_model_Dense.layers)"
      ],
      "metadata": {
        "colab": {
          "base_uri": "https://localhost:8080/"
        },
        "outputId": "cd782352-ab38-4a9c-e038-970d252d02cc",
        "id": "PKJkKRTyO1NA"
      },
      "execution_count": 100,
      "outputs": [
        {
          "output_type": "stream",
          "name": "stdout",
          "text": [
            "Downloading data from https://storage.googleapis.com/tensorflow/keras-applications/densenet/densenet201_weights_tf_dim_ordering_tf_kernels_notop.h5\n",
            "74842112/74836368 [==============================] - 0s 0us/step\n",
            "74850304/74836368 [==============================] - 0s 0us/step\n"
          ]
        },
        {
          "output_type": "execute_result",
          "data": {
            "text/plain": [
              "707"
            ]
          },
          "metadata": {},
          "execution_count": 100
        }
      ]
    },
    {
      "cell_type": "code",
      "source": [
        "base_model_Dense.trainable = True\n",
        "for layer in base_model_Dense.layers[:600]:    #fix w & bias in layer 0-600\n",
        "    layer.trainable = False\n",
        "\n",
        "#Add custom head\n",
        "average_pooling_layer = tf.keras.layers.GlobalAveragePooling2D()(base_model_Dense.output)\n",
        "prediction_layer = tf.keras.layers.Dense(units=3, activation=\"softmax\")(average_pooling_layer)   # unit 3\n",
        "model_Dense2 = tf.keras.models.Model(inputs=base_model_Dense.input, outputs=prediction_layer)\n",
        "\n",
        "model_Dense2.compile(optimizer=tf.keras.optimizers.RMSprop(learning_rate=0.0001), loss=\"binary_crossentropy\", metrics=[\"accuracy\"])"
      ],
      "metadata": {
        "id": "aX5sPPiFO1NB"
      },
      "execution_count": 101,
      "outputs": []
    },
    {
      "cell_type": "code",
      "source": [
        "H_Dense2 = model_Dense2.fit( x=aug2.flow(x_train_Dense2, y_train_Dense2, batch_size=BS16),\n",
        "\t                                            validation_data=(x_test_Dense2, y_test_Dense2),\n",
        "\t                                            steps_per_epoch=len(x_train_Dense2) // BS16,\n",
        "\t                                            epochs=30,  callbacks = [callback])"
      ],
      "metadata": {
        "id": "d1Z3KxC3deYB"
      },
      "execution_count": null,
      "outputs": []
    },
    {
      "cell_type": "code",
      "source": [
        "#1\n",
        "pred_Dense2 = model_Dense2.predict(x_test_Dense2)\n",
        "    \n",
        "print(classification_report(y_test_Dense2.argmax(axis=1),\t                #แสดง report ค่า acc, recall, ...\n",
        "                                    pred_Dense2.argmax(axis=1),  \n",
        "                                    target_names=le_Dense.classes_))"
      ],
      "metadata": {
        "colab": {
          "base_uri": "https://localhost:8080/"
        },
        "id": "G19vE-AgdBk4",
        "outputId": "223c22e7-9361-4536-a50b-22b5138c69c9"
      },
      "execution_count": null,
      "outputs": [
        {
          "output_type": "stream",
          "name": "stdout",
          "text": [
            "              precision    recall  f1-score   support\n",
            "\n",
            "  Lungcancer       0.78      0.60      0.68        35\n",
            "      Normal       0.91      0.95      0.93        41\n",
            "Tuberculosis       0.65      0.76      0.70        37\n",
            "\n",
            "    accuracy                           0.78       113\n",
            "   macro avg       0.78      0.77      0.77       113\n",
            "weighted avg       0.78      0.78      0.78       113\n",
            "\n"
          ]
        }
      ]
    },
    {
      "cell_type": "code",
      "source": [
        "score = metrics.accuracy_score(y_test_Dense2.argmax(axis=1),\t        #ค่า acc\n",
        "                                             pred_Dense2.argmax(axis=1) )\n",
        "print(f\"Fold score (accuracy): {score}\")"
      ],
      "metadata": {
        "colab": {
          "base_uri": "https://localhost:8080/"
        },
        "id": "W8kFKwMSeWO4",
        "outputId": "1b8ddf71-3ccd-445a-ed47-1169d1312ce1"
      },
      "execution_count": null,
      "outputs": [
        {
          "output_type": "stream",
          "name": "stdout",
          "text": [
            "Fold score (accuracy): 0.7787610619469026\n"
          ]
        }
      ]
    },
    {
      "cell_type": "code",
      "source": [
        "#2 แค่เทรนใหม่ไม่ได้โหลดโมเดลใหม่\n",
        "pred_Dense2 = model_Dense2.predict(x_test_Dense2)\n",
        "    \n",
        "print(classification_report(y_test_Dense2.argmax(axis=1),\t                #แสดง report ค่า acc, recall, ...\n",
        "                                    pred_Dense2.argmax(axis=1),  \n",
        "                                    target_names=le_Dense.classes_))"
      ],
      "metadata": {
        "colab": {
          "base_uri": "https://localhost:8080/"
        },
        "id": "bvn3E7EWdBd9",
        "outputId": "0f1bfbeb-2b07-4857-d2bb-56f472ccba87"
      },
      "execution_count": null,
      "outputs": [
        {
          "output_type": "stream",
          "name": "stdout",
          "text": [
            "              precision    recall  f1-score   support\n",
            "\n",
            "  Lungcancer       0.77      0.57      0.66        35\n",
            "      Normal       0.95      0.95      0.95        41\n",
            "Tuberculosis       0.65      0.81      0.72        37\n",
            "\n",
            "    accuracy                           0.79       113\n",
            "   macro avg       0.79      0.78      0.78       113\n",
            "weighted avg       0.80      0.79      0.78       113\n",
            "\n"
          ]
        }
      ]
    },
    {
      "cell_type": "code",
      "source": [
        "#3 แค่เทรนใหม่ไม่ได้โหลดโมเดลใหม่\n",
        "pred_Dense2 = model_Dense2.predict(x_test_Dense2)\n",
        "    \n",
        "print(classification_report(y_test_Dense2.argmax(axis=1),\t                #แสดง report ค่า acc, recall, ...\n",
        "                                    pred_Dense2.argmax(axis=1),  \n",
        "                                    target_names=le_Dense.classes_))"
      ],
      "metadata": {
        "colab": {
          "base_uri": "https://localhost:8080/"
        },
        "id": "XDwdcJY6ecHw",
        "outputId": "647e6d0c-3b43-45a8-9cb1-111197e89208"
      },
      "execution_count": null,
      "outputs": [
        {
          "output_type": "stream",
          "name": "stdout",
          "text": [
            "              precision    recall  f1-score   support\n",
            "\n",
            "  Lungcancer       0.82      0.51      0.63        35\n",
            "      Normal       0.95      0.88      0.91        41\n",
            "Tuberculosis       0.60      0.86      0.71        37\n",
            "\n",
            "    accuracy                           0.76       113\n",
            "   macro avg       0.79      0.75      0.75       113\n",
            "weighted avg       0.79      0.76      0.76       113\n",
            "\n"
          ]
        }
      ]
    },
    {
      "cell_type": "code",
      "source": [
        "#4 แค่เทรนใหม่ไม่ได้โหลดโมเดลใหม่ แค่width_shift_range=0.2, height_shift_range=0.2,\n",
        "pred_Dense2 = model_Dense2.predict(x_test_Dense2)\n",
        "    \n",
        "print(classification_report(y_test_Dense2.argmax(axis=1),\t                #แสดง report ค่า acc, recall, ...\n",
        "                                    pred_Dense2.argmax(axis=1),  \n",
        "                                    target_names=le_Dense.classes_))"
      ],
      "metadata": {
        "outputId": "67cfb0d7-f8b4-40ea-87ba-35fc0b3604de",
        "colab": {
          "base_uri": "https://localhost:8080/"
        },
        "id": "qV1XzthUvXzl"
      },
      "execution_count": null,
      "outputs": [
        {
          "output_type": "stream",
          "name": "stdout",
          "text": [
            "              precision    recall  f1-score   support\n",
            "\n",
            "  Lungcancer       0.74      0.66      0.70        35\n",
            "      Normal       0.95      0.95      0.95        41\n",
            "Tuberculosis       0.68      0.76      0.72        37\n",
            "\n",
            "    accuracy                           0.80       113\n",
            "   macro avg       0.79      0.79      0.79       113\n",
            "weighted avg       0.80      0.80      0.80       113\n",
            "\n"
          ]
        }
      ]
    },
    {
      "cell_type": "markdown",
      "source": [
        "## 5) K-fold  -- DenseNet201\n",
        "\n",
        "#### พารามิเตอร์จาก  '5.1) K-fold  -- DenseNet201' -->  ACC = 0.93, เวลา - นาที\n",
        "\n",
        "*   BS = 16\n",
        "*   fix weight & bias in layer 0-500\n",
        "*   activation=\"sigmoid\"\n",
        "*   learning_rate=0.0001\n",
        "*   epoch 30"
      ],
      "metadata": {
        "id": "8W1UtI51zuQi"
      }
    },
    {
      "cell_type": "code",
      "source": [
        "train_img_Dense = []\n",
        "for ImageName in tqdm(data_train3['ImageName']):               # รัน ชื่อรูป ในไฟล์ data_test3\n",
        "    image_path = All_3class_dir +'/' + ImageName                   # ดึงรูปในโฟล์เดอร์มาทีละรูป\n",
        "    img = cv2.imread(image_path)                                            # อ่านรูป\n",
        "    img = cv2.resize(img, (224, 224))                                       #ขนาดของ input\n",
        "    train_img_Dense.append(img)\n",
        "\n",
        "data_Dense = np.array(train_img_Dense, dtype=\"float32\") / 255.0"
      ],
      "metadata": {
        "outputId": "0f4c2da0-d5ef-4016-c589-85c4630e24ff",
        "colab": {
          "base_uri": "https://localhost:8080/"
        },
        "id": "oaUBeNztzuQi"
      },
      "execution_count": null,
      "outputs": [
        {
          "output_type": "stream",
          "name": "stderr",
          "text": [
            "100%|██████████| 451/451 [04:15<00:00,  1.76it/s]\n"
          ]
        }
      ]
    },
    {
      "cell_type": "code",
      "source": [
        "labels_Dense = np.array(data_train3[['NameType']] )        \n",
        "labels_Dense.shape = (len(labels_Dense),) \n",
        "\n",
        "le_Dense = LabelEncoder()                                                                     \n",
        "labels_Dense = le_Dense.fit_transform(labels_Dense)                                         #จะแปลงชื่อ class เป็นตัวเลข 1, 2, 0 \n",
        "\n",
        "labels_Dense = to_categorical(labels_Dense, num_classes=3)                   #shape (180, 3) มีค่าเป็น  [0., 1., 0.]  กับ   [0., 0., 1.] กับ  [1., 0., 0.]"
      ],
      "metadata": {
        "id": "syOfig95zuQj"
      },
      "execution_count": null,
      "outputs": []
    },
    {
      "cell_type": "code",
      "source": [
        "(x_train_Dense2, x_test_Dense2, y_train_Dense2, y_test_Dense2 ) = train_test_split(data_Dense, labels_Dense,\n",
        "\t                                                                                                test_size=0.25, random_state=40)"
      ],
      "metadata": {
        "id": "Qj6kdXq8zuQj"
      },
      "execution_count": null,
      "outputs": []
    },
    {
      "cell_type": "code",
      "source": [
        "le_Dense.classes_                  # มีค่า ['Lungcancer', 'Normal', 'Tuberculosis']"
      ],
      "metadata": {
        "colab": {
          "base_uri": "https://localhost:8080/"
        },
        "outputId": "8a9f9d7e-d0c0-45c1-ec5e-86773ef19192",
        "id": "QJcZookozuQj"
      },
      "execution_count": null,
      "outputs": [
        {
          "output_type": "execute_result",
          "data": {
            "text/plain": [
              "array(['Lungcancer', 'Normal', 'Tuberculosis'], dtype=object)"
            ]
          },
          "metadata": {},
          "execution_count": 18
        }
      ]
    },
    {
      "cell_type": "code",
      "source": [
        "INIT_LR = 1e-1\n",
        "BS16 = 16\n",
        "EPOCHS = 50\n",
        "\n",
        "aug51 = ImageDataGenerator(\n",
        "\t\trotation_range=15,\t\t\t\t\t\t#องศาการหมุน\n",
        "\t\twidth_shift_range=0.1,\n",
        "\t\theight_shift_range=0.1,\n",
        "\t\tshear_range=0.15,\n",
        "\t\thorizontal_flip=True,\n",
        "\t\tfill_mode=\"nearest\")\n",
        "\n",
        "callback = tf.keras.callbacks.EarlyStopping(\n",
        "                monitor=\"val_accuracy\",\n",
        "                patience=3,\n",
        "                mode=\"max\" )"
      ],
      "metadata": {
        "id": "ktszNj5szuQj"
      },
      "execution_count": null,
      "outputs": []
    },
    {
      "cell_type": "code",
      "source": [
        "base_model_Dense = tf.keras.applications.DenseNet201(input_shape=(224, 224, 3), include_top=False, weights=\"imagenet\")\n",
        "len(base_model_Dense.layers)"
      ],
      "metadata": {
        "colab": {
          "base_uri": "https://localhost:8080/"
        },
        "outputId": "e13a2d9f-67bf-483a-ad7c-3e08a79a4ccb",
        "id": "U0SY7yNvzuQk"
      },
      "execution_count": null,
      "outputs": [
        {
          "output_type": "stream",
          "name": "stdout",
          "text": [
            "Downloading data from https://storage.googleapis.com/tensorflow/keras-applications/densenet/densenet201_weights_tf_dim_ordering_tf_kernels_notop.h5\n",
            "74842112/74836368 [==============================] - 0s 0us/step\n",
            "74850304/74836368 [==============================] - 0s 0us/step\n"
          ]
        },
        {
          "output_type": "execute_result",
          "data": {
            "text/plain": [
              "707"
            ]
          },
          "metadata": {},
          "execution_count": 15
        }
      ]
    },
    {
      "cell_type": "code",
      "source": [
        "base_model_Dense.trainable = True\n",
        "for layer in base_model_Dense.layers[:600]:    #fix w & bias in layer 0-600\n",
        "    layer.trainable = False\n",
        "\n",
        "#Add custom head\n",
        "average_pooling_layer = tf.keras.layers.GlobalAveragePooling2D()(base_model_Dense.output)\n",
        "prediction_layer = tf.keras.layers.Dense(units=3, activation=\"sigmoid\")(average_pooling_layer)   # unit 3\n",
        "model_Dense51 = tf.keras.models.Model(inputs=base_model_Dense.input, outputs=prediction_layer)\n",
        "\n",
        "model_Dense51.compile(optimizer=tf.keras.optimizers.RMSprop(learning_rate=0.0001), loss=\"binary_crossentropy\", metrics=[\"accuracy\"])"
      ],
      "metadata": {
        "id": "Y-0IexjgzuQk"
      },
      "execution_count": null,
      "outputs": []
    },
    {
      "cell_type": "code",
      "source": [
        "H_Dense51 = model_Dense51.fit( x=aug51.flow(x_train_Dense2, y_train_Dense2, batch_size=BS16),\n",
        "\t                                            validation_data=(x_test_Dense2, y_test_Dense2),\n",
        "\t                                            steps_per_epoch=len(x_train_Dense2) // BS16,\n",
        "\t                                            epochs=30,  callbacks = [callback])"
      ],
      "metadata": {
        "outputId": "e675200a-dd63-4057-ea44-0a83e4791b24",
        "colab": {
          "base_uri": "https://localhost:8080/"
        },
        "id": "9mtAt7WUzuQk"
      },
      "execution_count": null,
      "outputs": [
        {
          "output_type": "stream",
          "name": "stdout",
          "text": [
            "Epoch 1/30\n",
            "21/21 [==============================] - 146s 6s/step - loss: 0.4134 - accuracy: 0.7950 - val_loss: 0.3890 - val_accuracy: 0.7611\n",
            "Epoch 2/30\n",
            "21/21 [==============================] - 126s 6s/step - loss: 0.2447 - accuracy: 0.9472 - val_loss: 0.3561 - val_accuracy: 0.7611\n",
            "Epoch 3/30\n",
            "21/21 [==============================] - 125s 6s/step - loss: 0.2038 - accuracy: 0.9379 - val_loss: 0.3235 - val_accuracy: 0.8053\n",
            "Epoch 4/30\n",
            "21/21 [==============================] - 125s 6s/step - loss: 0.1505 - accuracy: 0.9658 - val_loss: 0.3735 - val_accuracy: 0.7876\n",
            "Epoch 5/30\n",
            "21/21 [==============================] - 125s 6s/step - loss: 0.1270 - accuracy: 0.9689 - val_loss: 0.3373 - val_accuracy: 0.7788\n",
            "Epoch 6/30\n",
            "21/21 [==============================] - 125s 6s/step - loss: 0.1194 - accuracy: 0.9752 - val_loss: 0.3547 - val_accuracy: 0.7788\n"
          ]
        }
      ]
    },
    {
      "cell_type": "code",
      "source": [
        "#1\n",
        "pred_Dense2 = model_Dense51.predict(x_test_Dense2)\n",
        "    \n",
        "print(classification_report(y_test_Dense2.argmax(axis=1),\t                #แสดง report ค่า acc, recall, ...\n",
        "                                    pred_Dense2.argmax(axis=1),  \n",
        "                                    target_names=le_Dense.classes_))"
      ],
      "metadata": {
        "outputId": "ea112693-2243-45ce-e3fe-198d213d0e00",
        "colab": {
          "base_uri": "https://localhost:8080/"
        },
        "id": "0My_g43AzuQk"
      },
      "execution_count": null,
      "outputs": [
        {
          "output_type": "stream",
          "name": "stdout",
          "text": [
            "              precision    recall  f1-score   support\n",
            "\n",
            "  Lungcancer       0.82      0.51      0.63        35\n",
            "      Normal       0.97      0.90      0.94        41\n",
            "Tuberculosis       0.62      0.89      0.73        37\n",
            "\n",
            "    accuracy                           0.78       113\n",
            "   macro avg       0.80      0.77      0.77       113\n",
            "weighted avg       0.81      0.78      0.78       113\n",
            "\n"
          ]
        }
      ]
    },
    {
      "cell_type": "code",
      "source": [
        "score = metrics.accuracy_score(y_test_Dense2.argmax(axis=1),\t        #ค่า acc\n",
        "                                             pred_Dense2.argmax(axis=1) )\n",
        "print(f\"Fold score (accuracy): {score}\")"
      ],
      "metadata": {
        "outputId": "1b8ddf71-3ccd-445a-ed47-1169d1312ce1",
        "colab": {
          "base_uri": "https://localhost:8080/"
        },
        "id": "7Ttz3ZYlzuQl"
      },
      "execution_count": null,
      "outputs": [
        {
          "output_type": "stream",
          "name": "stdout",
          "text": [
            "Fold score (accuracy): 0.7787610619469026\n"
          ]
        }
      ]
    },
    {
      "cell_type": "code",
      "source": [
        "#2 แค่เทรนใหม่ไม่ได้โหลดโมเดลใหม่\n",
        "pred_Dense2 = model_Dense2.predict(x_test_Dense2)\n",
        "    \n",
        "print(classification_report(y_test_Dense2.argmax(axis=1),\t                #แสดง report ค่า acc, recall, ...\n",
        "                                    pred_Dense2.argmax(axis=1),  \n",
        "                                    target_names=le_Dense.classes_))"
      ],
      "metadata": {
        "id": "7fdv3vPtzuQl"
      },
      "execution_count": null,
      "outputs": []
    },
    {
      "cell_type": "markdown",
      "source": [
        "## 5.2) K-fold  -- DenseNet201\n",
        "\n",
        "#### พารามิเตอร์จาก  '5) K-fold  -- DenseNet201' -->  ACC = 0.93, เวลา - นาที\n",
        "\n",
        "*   BS = 16\n",
        "*   fix weight & bias in layer 0-500\n",
        "*   activation=\"softmax\"\n",
        "*   learning_rate=0.0001\n",
        "*   epoch 30"
      ],
      "metadata": {
        "id": "b6WKo4QCLwli"
      }
    },
    {
      "cell_type": "code",
      "source": [
        "train_img_Dense = []\n",
        "for ImageName in tqdm(data_train3['ImageName']):               # รัน ชื่อรูป ในไฟล์ data_test3\n",
        "    image_path = All_3class_dir +'/' + ImageName                   # ดึงรูปในโฟล์เดอร์มาทีละรูป\n",
        "    img = cv2.imread(image_path)                                            # อ่านรูป\n",
        "    img = cv2.resize(img, (224, 224))                                       #ขนาดของ input\n",
        "    train_img_Dense.append(img)\n",
        "\n",
        "data_Dense = np.array(train_img_Dense, dtype=\"float32\") / 255.0"
      ],
      "metadata": {
        "outputId": "bc2bd534-3139-46cd-9bba-5cb4f63d460d",
        "colab": {
          "base_uri": "https://localhost:8080/"
        },
        "id": "Sx0OyQQFLwlk"
      },
      "execution_count": null,
      "outputs": [
        {
          "output_type": "stream",
          "name": "stderr",
          "text": [
            "100%|██████████| 451/451 [02:42<00:00,  2.77it/s]\n"
          ]
        }
      ]
    },
    {
      "cell_type": "code",
      "source": [
        "labels_Dense = np.array(data_train3[['NameType']] )        \n",
        "labels_Dense.shape = (len(labels_Dense),) \n",
        "\n",
        "le_Dense = LabelEncoder()                                                                     \n",
        "labels_Dense = le_Dense.fit_transform(labels_Dense)                                         #จะแปลงชื่อ class เป็นตัวเลข 1, 2, 0 \n",
        "\n",
        "labels_Dense = to_categorical(labels_Dense, num_classes=3)                   #shape (180, 3) มีค่าเป็น  [0., 1., 0.]  กับ   [0., 0., 1.] กับ  [1., 0., 0.]"
      ],
      "metadata": {
        "id": "2MtYvU4ELwll"
      },
      "execution_count": null,
      "outputs": []
    },
    {
      "cell_type": "code",
      "source": [
        "(x_train_Dense2, x_test_Dense2, y_train_Dense2, y_test_Dense2 ) = train_test_split(data_Dense, labels_Dense,\n",
        "\t                                                                                                test_size=0.25, random_state=40)"
      ],
      "metadata": {
        "id": "ElYR1nORLwlm"
      },
      "execution_count": null,
      "outputs": []
    },
    {
      "cell_type": "code",
      "source": [
        "le_Dense.classes_                  # มีค่า ['Lungcancer', 'Normal', 'Tuberculosis']"
      ],
      "metadata": {
        "colab": {
          "base_uri": "https://localhost:8080/"
        },
        "outputId": "b84bab06-642d-441e-e69a-8b7c92a14924",
        "id": "nPIquWOuLwlp"
      },
      "execution_count": null,
      "outputs": [
        {
          "output_type": "execute_result",
          "data": {
            "text/plain": [
              "array(['Lungcancer', 'Normal', 'Tuberculosis'], dtype=object)"
            ]
          },
          "metadata": {},
          "execution_count": 15
        }
      ]
    },
    {
      "cell_type": "code",
      "source": [
        "INIT_LR = 1e-1\n",
        "BS16 = 16\n",
        "EPOCHS = 50\n",
        "\n",
        "aug2 = ImageDataGenerator(\n",
        "\t\trotation_range=15,\t\t\t\t\t\t#องศาการหมุน\n",
        "\t\twidth_shift_range=0.2,\n",
        "\t\theight_shift_range=0.2,\n",
        "\t\tshear_range=0.15,\n",
        "\t\thorizontal_flip=True,\n",
        "\t\tfill_mode=\"nearest\")\n",
        "\n",
        "callback = tf.keras.callbacks.EarlyStopping(\n",
        "                monitor=\"val_accuracy\",\n",
        "                patience=3,\n",
        "                mode=\"max\" )"
      ],
      "metadata": {
        "id": "M5DQlY4RLwlq"
      },
      "execution_count": null,
      "outputs": []
    },
    {
      "cell_type": "code",
      "source": [
        "base_model_Dense = tf.keras.applications.DenseNet201(input_shape=(224, 224, 3), include_top=False, weights=\"imagenet\")\n",
        "len(base_model_Dense.layers)"
      ],
      "metadata": {
        "colab": {
          "base_uri": "https://localhost:8080/"
        },
        "outputId": "65ab9d20-5d38-417e-a05d-ff1c1a8f6ae3",
        "id": "oKzYm7t6Lwlr"
      },
      "execution_count": null,
      "outputs": [
        {
          "output_type": "stream",
          "name": "stdout",
          "text": [
            "Downloading data from https://storage.googleapis.com/tensorflow/keras-applications/densenet/densenet201_weights_tf_dim_ordering_tf_kernels_notop.h5\n",
            "74842112/74836368 [==============================] - 2s 0us/step\n",
            "74850304/74836368 [==============================] - 2s 0us/step\n"
          ]
        },
        {
          "output_type": "execute_result",
          "data": {
            "text/plain": [
              "707"
            ]
          },
          "metadata": {},
          "execution_count": 17
        }
      ]
    },
    {
      "cell_type": "code",
      "source": [
        "base_model_Dense.trainable = True\n",
        "for layer in base_model_Dense.layers[:600]:    #fix w & bias in layer 0-600\n",
        "    layer.trainable = False\n",
        "\n",
        "#Add custom head\n",
        "average_pooling_layer = tf.keras.layers.GlobalAveragePooling2D()(base_model_Dense.output)\n",
        "prediction_layer = tf.keras.layers.Dense(units=3, activation=\"softmax\")(average_pooling_layer)   # unit 3\n",
        "model_Dense2 = tf.keras.models.Model(inputs=base_model_Dense.input, outputs=prediction_layer)\n",
        "\n",
        "model_Dense2.compile(optimizer=tf.keras.optimizers.RMSprop(learning_rate=0.0001), loss=\"binary_crossentropy\", metrics=[\"accuracy\"])"
      ],
      "metadata": {
        "id": "CsvlTIGDLwlr"
      },
      "execution_count": null,
      "outputs": []
    },
    {
      "cell_type": "code",
      "source": [
        "H_Dense2 = model_Dense2.fit( x=aug2.flow(x_train_Dense2, y_train_Dense2, batch_size=BS16),\n",
        "\t                                            validation_data=(x_test_Dense2, y_test_Dense2),\n",
        "\t                                            steps_per_epoch=len(x_train_Dense2) // BS16,\n",
        "\t                                            epochs=30,  callbacks = [callback])"
      ],
      "metadata": {
        "colab": {
          "base_uri": "https://localhost:8080/"
        },
        "outputId": "428347e2-5910-4dab-cb17-790edefb206e",
        "id": "87CyvvPmLwls"
      },
      "execution_count": null,
      "outputs": [
        {
          "output_type": "stream",
          "name": "stdout",
          "text": [
            "Epoch 1/30\n",
            "21/21 [==============================] - 114s 5s/step - loss: 0.5324 - accuracy: 0.6087 - val_loss: 0.5567 - val_accuracy: 0.6018\n",
            "Epoch 2/30\n",
            "21/21 [==============================] - 97s 5s/step - loss: 0.4269 - accuracy: 0.7112 - val_loss: 0.5076 - val_accuracy: 0.5398\n",
            "Epoch 3/30\n",
            "21/21 [==============================] - 96s 5s/step - loss: 0.3751 - accuracy: 0.7702 - val_loss: 0.5063 - val_accuracy: 0.5575\n",
            "Epoch 4/30\n",
            "21/21 [==============================] - 97s 5s/step - loss: 0.3370 - accuracy: 0.8137 - val_loss: 0.4619 - val_accuracy: 0.6106\n",
            "Epoch 5/30\n",
            "21/21 [==============================] - 97s 5s/step - loss: 0.3138 - accuracy: 0.8106 - val_loss: 0.4416 - val_accuracy: 0.6549\n",
            "Epoch 6/30\n",
            "21/21 [==============================] - 97s 5s/step - loss: 0.2870 - accuracy: 0.8571 - val_loss: 0.4120 - val_accuracy: 0.6814\n",
            "Epoch 7/30\n",
            "21/21 [==============================] - 97s 5s/step - loss: 0.2844 - accuracy: 0.8323 - val_loss: 0.3889 - val_accuracy: 0.7080\n",
            "Epoch 8/30\n",
            "21/21 [==============================] - 98s 5s/step - loss: 0.2480 - accuracy: 0.8696 - val_loss: 0.3552 - val_accuracy: 0.7434\n",
            "Epoch 9/30\n",
            "21/21 [==============================] - 97s 5s/step - loss: 0.2093 - accuracy: 0.9161 - val_loss: 0.3549 - val_accuracy: 0.7611\n",
            "Epoch 10/30\n",
            "21/21 [==============================] - 97s 5s/step - loss: 0.2099 - accuracy: 0.9068 - val_loss: 0.3704 - val_accuracy: 0.7522\n",
            "Epoch 11/30\n",
            "21/21 [==============================] - 97s 5s/step - loss: 0.2093 - accuracy: 0.9099 - val_loss: 0.3890 - val_accuracy: 0.7611\n",
            "Epoch 12/30\n",
            "21/21 [==============================] - 96s 5s/step - loss: 0.1941 - accuracy: 0.9161 - val_loss: 0.3492 - val_accuracy: 0.7788\n",
            "Epoch 13/30\n",
            "21/21 [==============================] - 97s 5s/step - loss: 0.1654 - accuracy: 0.9286 - val_loss: 0.3555 - val_accuracy: 0.7876\n",
            "Epoch 14/30\n",
            "21/21 [==============================] - 97s 5s/step - loss: 0.1698 - accuracy: 0.9193 - val_loss: 0.3813 - val_accuracy: 0.7788\n",
            "Epoch 15/30\n",
            "21/21 [==============================] - 96s 5s/step - loss: 0.1506 - accuracy: 0.9224 - val_loss: 0.4114 - val_accuracy: 0.7611\n",
            "Epoch 16/30\n",
            "21/21 [==============================] - 97s 5s/step - loss: 0.1515 - accuracy: 0.9410 - val_loss: 0.3658 - val_accuracy: 0.8142\n",
            "Epoch 17/30\n",
            "21/21 [==============================] - 100s 5s/step - loss: 0.1425 - accuracy: 0.9348 - val_loss: 0.3619 - val_accuracy: 0.8230\n",
            "Epoch 18/30\n",
            "21/21 [==============================] - 97s 5s/step - loss: 0.1328 - accuracy: 0.9410 - val_loss: 0.3745 - val_accuracy: 0.8319\n",
            "Epoch 19/30\n",
            "21/21 [==============================] - 97s 5s/step - loss: 0.1001 - accuracy: 0.9752 - val_loss: 0.3901 - val_accuracy: 0.7876\n",
            "Epoch 20/30\n",
            "21/21 [==============================] - 97s 5s/step - loss: 0.1024 - accuracy: 0.9752 - val_loss: 0.4251 - val_accuracy: 0.7788\n",
            "Epoch 21/30\n",
            "21/21 [==============================] - 97s 5s/step - loss: 0.1294 - accuracy: 0.9441 - val_loss: 0.4599 - val_accuracy: 0.7876\n"
          ]
        }
      ]
    },
    {
      "cell_type": "code",
      "source": [
        "#1\n",
        "pred_Dense2 = model_Dense2.predict(x_test_Dense2)\n",
        "    \n",
        "print(classification_report(y_test_Dense2.argmax(axis=1),\t                #แสดง report ค่า acc, recall, ...\n",
        "                                    pred_Dense2.argmax(axis=1),  \n",
        "                                    target_names=le_Dense.classes_))"
      ],
      "metadata": {
        "colab": {
          "base_uri": "https://localhost:8080/"
        },
        "outputId": "59d44d94-2336-4ca8-8216-56c97497175a",
        "id": "w2mlgHGiLwls"
      },
      "execution_count": null,
      "outputs": [
        {
          "output_type": "stream",
          "name": "stdout",
          "text": [
            "              precision    recall  f1-score   support\n",
            "\n",
            "  Lungcancer       0.89      0.46      0.60        35\n",
            "      Normal       0.93      0.95      0.94        41\n",
            "Tuberculosis       0.64      0.92      0.76        37\n",
            "\n",
            "    accuracy                           0.79       113\n",
            "   macro avg       0.82      0.78      0.77       113\n",
            "weighted avg       0.82      0.79      0.78       113\n",
            "\n"
          ]
        }
      ]
    },
    {
      "cell_type": "code",
      "source": [
        "score = metrics.accuracy_score(y_test_Dense2.argmax(axis=1),\t        #ค่า acc\n",
        "                                             pred_Dense2.argmax(axis=1) )\n",
        "print(f\"Fold score (accuracy): {score}\")"
      ],
      "metadata": {
        "colab": {
          "base_uri": "https://localhost:8080/"
        },
        "outputId": "a1065a9a-9120-46b1-fcd8-8e613ec18cbb",
        "id": "pjjY_gR-Lwlt"
      },
      "execution_count": null,
      "outputs": [
        {
          "output_type": "stream",
          "name": "stdout",
          "text": [
            "Fold score (accuracy): 0.7876106194690266\n"
          ]
        }
      ]
    },
    {
      "cell_type": "code",
      "source": [
        "y_test_Dense2[:2]"
      ],
      "metadata": {
        "id": "gqgJyG0WX5PF",
        "outputId": "1ad2a065-85b3-456c-9b40-7246af9db3c5",
        "colab": {
          "base_uri": "https://localhost:8080/"
        }
      },
      "execution_count": null,
      "outputs": [
        {
          "output_type": "execute_result",
          "data": {
            "text/plain": [
              "array([[1., 0., 0.],\n",
              "       [0., 1., 0.]], dtype=float32)"
            ]
          },
          "metadata": {},
          "execution_count": 27
        }
      ]
    },
    {
      "cell_type": "code",
      "source": [
        "pred_Dense2"
      ],
      "metadata": {
        "id": "p__Kf_4DXVkV",
        "outputId": "51f1a280-9f5b-4834-866e-fa693828bf1e",
        "colab": {
          "base_uri": "https://localhost:8080/"
        }
      },
      "execution_count": null,
      "outputs": [
        {
          "output_type": "execute_result",
          "data": {
            "text/plain": [
              "array([[4.3306816e-01, 3.1854334e-01, 2.4838856e-01],\n",
              "       [1.7652018e-06, 9.9975044e-01, 2.4774612e-04]], dtype=float32)"
            ]
          },
          "metadata": {},
          "execution_count": 26
        }
      ]
    },
    {
      "cell_type": "markdown",
      "source": [
        "# train test 2-3 class"
      ],
      "metadata": {
        "id": "VD56GjdtbPkr"
      }
    },
    {
      "cell_type": "markdown",
      "source": [
        "## 2 class\n",
        "*   #1 output 1 มิติ  ความน่าจะเป็น นำมาแปลง 0,1\n",
        "*   #2 output 2 มิติ  ความน่าจะเป็นที่จะเป็นคลาส 0 หรือ 1 \n",
        "\n"
      ],
      "metadata": {
        "id": "v7v_mA7BaXnU"
      }
    },
    {
      "cell_type": "code",
      "source": [
        "train_img_NorTB = []\n",
        "for ImageName in tqdm(data_train2['ImageName']):               # รัน ชื่อรูป ในไฟล์ data_test2\n",
        "    image_path = All_3class_dir +'/' + ImageName                          # ดึงรูปในโฟล์เดอร์มาทีละรูป\n",
        "    img = cv2.imread(image_path)                                            # อ่านรูป\n",
        "    img = cv2.resize(img, (224, 224))\n",
        "    train_img_NorTB.append(img)"
      ],
      "metadata": {
        "id": "kIe-kLDTgdtg",
        "outputId": "827293fd-32bf-4929-8362-f69b2cb60a99",
        "colab": {
          "base_uri": "https://localhost:8080/"
        }
      },
      "execution_count": null,
      "outputs": [
        {
          "output_type": "stream",
          "name": "stderr",
          "text": [
            "100%|██████████| 301/301 [02:26<00:00,  2.06it/s]\n"
          ]
        }
      ]
    },
    {
      "cell_type": "markdown",
      "source": [
        "### 2) output 2 มิติ : ค่า predict คือ ความน่าจะเป็น 2 ค่า \n",
        "(ความน่าจะเป็นที่จะเป็นคลาส 0 และ 1)"
      ],
      "metadata": {
        "id": "Zea960kXsd-6"
      }
    },
    {
      "cell_type": "code",
      "source": [
        "data2_2 = np.array(train_img_NorTB, dtype=\"float32\") / 255.0 "
      ],
      "metadata": {
        "id": "pDyx119XZih9"
      },
      "execution_count": null,
      "outputs": []
    },
    {
      "cell_type": "code",
      "source": [
        "labels2_2 = np.array(data_train2[['NameType']] )            # Y  มี  d=2  (301, 1)\n",
        "labels2_2.shape = (len(labels2_2),)                                # Y  มี  d=1  (301, )\n",
        "\n",
        "le2_2 = LabelEncoder()                                                     # จะแปลงชื่อ class เป็นตัวเลข\n",
        "labels2_2 = le2_2.fit_transform(labels2_2)                          # Y  มี  d=1  (301,)\n",
        "\n",
        "labels2_2 = to_categorical(labels2_2, num_classes=2)    # แปลงเป็นเลข ดัมมี่ (1เป็น 1,0 ----- 0 เป็น  0,1)\n",
        "                                                                                 # Y  มี  d=2  (301, 2)    \n",
        "(trainX2_2, testX2_2, trainY2_2, testY2_2 ) = train_test_split(data2_2, labels2_2,\n",
        "\t                                                            test_size=0.25, random_state=40)"
      ],
      "metadata": {
        "id": "sRRAXo473l4A"
      },
      "execution_count": null,
      "outputs": []
    },
    {
      "cell_type": "code",
      "source": [
        "le2_2.classes_                  # มีค่า ['Normal', 'Tuberculosis']"
      ],
      "metadata": {
        "colab": {
          "base_uri": "https://localhost:8080/"
        },
        "id": "T2FUC7cYZ8d2",
        "outputId": "291c916f-e066-41c9-f02b-bc34649a36ae"
      },
      "execution_count": null,
      "outputs": [
        {
          "output_type": "execute_result",
          "data": {
            "text/plain": [
              "array(['Normal', 'Tuberculosis'], dtype=object)"
            ]
          },
          "metadata": {},
          "execution_count": 16
        }
      ]
    },
    {
      "cell_type": "markdown",
      "source": [
        "### train2_2"
      ],
      "metadata": {
        "id": "kkSv0-7hsd-9"
      }
    },
    {
      "cell_type": "code",
      "source": [
        "INIT_LR = 1e-1\n",
        "BS = 8\n",
        "EPOCHS = 50"
      ],
      "metadata": {
        "id": "8Uc13IIdsd--"
      },
      "execution_count": null,
      "outputs": []
    },
    {
      "cell_type": "code",
      "source": [
        "aug = ImageDataGenerator(\n",
        "\t\trotation_range=20,\n",
        "\t\tzoom_range=0.25,\n",
        "\t\twidth_shift_range=0.25,\n",
        "\t\theight_shift_range=0.25,\n",
        "\t\tshear_range=0.25,\n",
        "\t\thorizontal_flip=True,\n",
        "\t\tfill_mode=\"nearest\")"
      ],
      "metadata": {
        "id": "V4YjAyIosd-_"
      },
      "execution_count": null,
      "outputs": []
    },
    {
      "cell_type": "markdown",
      "source": [
        "DenseNet201"
      ],
      "metadata": {
        "id": "UU230_Txsd-_"
      }
    },
    {
      "cell_type": "code",
      "source": [
        "base_model2_2 = tf.keras.applications.DenseNet201(input_shape=(224, 224, 3), include_top=False, weights=\"imagenet\")"
      ],
      "metadata": {
        "id": "UNqxGeyBsd-_",
        "colab": {
          "base_uri": "https://localhost:8080/"
        },
        "outputId": "ba4b1e38-bf69-4e06-ecfb-7ca658b78e37"
      },
      "execution_count": null,
      "outputs": [
        {
          "output_type": "stream",
          "name": "stdout",
          "text": [
            "Downloading data from https://storage.googleapis.com/tensorflow/keras-applications/densenet/densenet201_weights_tf_dim_ordering_tf_kernels_notop.h5\n",
            "74842112/74836368 [==============================] - 1s 0us/step\n",
            "74850304/74836368 [==============================] - 1s 0us/step\n"
          ]
        }
      ]
    },
    {
      "cell_type": "code",
      "source": [
        "base_model2_2.trainable=False\n",
        "\n",
        "#Add custom head\n",
        "average_pooling_layer = tf.keras.layers.GlobalAveragePooling2D()(base_model2_2.output)\n",
        "prediction_layer = tf.keras.layers.Dense(units=2, activation=\"sigmoid\")(average_pooling_layer)   # ลองแก้ unit จาก 1 เป็น 2\n",
        "model2_2 = tf.keras.models.Model(inputs=base_model2_2.input, outputs=prediction_layer)"
      ],
      "metadata": {
        "id": "9vjoepVTsd_A"
      },
      "execution_count": null,
      "outputs": []
    },
    {
      "cell_type": "code",
      "source": [
        "model2_2.compile(optimizer=tf.keras.optimizers.RMSprop(learning_rate=0.0001), loss=\"binary_crossentropy\", metrics=[\"accuracy\"])"
      ],
      "metadata": {
        "id": "Y9Ygbeu8sd_A"
      },
      "execution_count": null,
      "outputs": []
    },
    {
      "cell_type": "code",
      "source": [
        "callback = tf.keras.callbacks.EarlyStopping(\n",
        "    monitor=\"val_accuracy\",\n",
        "    patience=3,\n",
        "    mode=\"max\"   )"
      ],
      "metadata": {
        "id": "tbT5xMPHYkoI"
      },
      "execution_count": null,
      "outputs": []
    },
    {
      "cell_type": "code",
      "source": [
        "H2_2 = model2_2.fit(\n",
        "\tx=aug.flow(trainX2_2, trainY2_2, batch_size=BS),\n",
        "\tvalidation_data=(testX2_2, testY2_2),\n",
        "\tsteps_per_epoch=len(trainX2_2) // BS,\n",
        "\tepochs=30, callbacks=[callback])"
      ],
      "metadata": {
        "outputId": "df5b29c4-7188-4cd9-9960-52e60914d3c6",
        "colab": {
          "base_uri": "https://localhost:8080/"
        },
        "id": "gg4K5eS6sd_B"
      },
      "execution_count": null,
      "outputs": [
        {
          "output_type": "stream",
          "name": "stdout",
          "text": [
            "Epoch 1/30\n",
            "28/28 [==============================] - 82s 3s/step - loss: 0.6694 - accuracy: 0.6636 - val_loss: 0.7035 - val_accuracy: 0.4868\n",
            "Epoch 2/30\n",
            "28/28 [==============================] - 69s 2s/step - loss: 0.6695 - accuracy: 0.5853 - val_loss: 0.6863 - val_accuracy: 0.5000\n",
            "Epoch 3/30\n",
            "28/28 [==============================] - 69s 2s/step - loss: 0.6607 - accuracy: 0.6267 - val_loss: 0.6795 - val_accuracy: 0.5132\n",
            "Epoch 4/30\n",
            "28/28 [==============================] - 69s 2s/step - loss: 0.6469 - accuracy: 0.6728 - val_loss: 0.6621 - val_accuracy: 0.5395\n",
            "Epoch 5/30\n",
            "28/28 [==============================] - 70s 3s/step - loss: 0.6247 - accuracy: 0.7465 - val_loss: 0.6357 - val_accuracy: 0.6974\n",
            "Epoch 6/30\n",
            "28/28 [==============================] - 70s 3s/step - loss: 0.6116 - accuracy: 0.7327 - val_loss: 0.6241 - val_accuracy: 0.6842\n",
            "Epoch 7/30\n",
            "28/28 [==============================] - 69s 2s/step - loss: 0.6039 - accuracy: 0.7834 - val_loss: 0.6252 - val_accuracy: 0.6053\n",
            "Epoch 8/30\n",
            "28/28 [==============================] - 69s 2s/step - loss: 0.6012 - accuracy: 0.7005 - val_loss: 0.6056 - val_accuracy: 0.7105\n",
            "Epoch 9/30\n",
            "28/28 [==============================] - 68s 2s/step - loss: 0.5840 - accuracy: 0.7742 - val_loss: 0.5923 - val_accuracy: 0.7368\n",
            "Epoch 10/30\n",
            "28/28 [==============================] - 69s 2s/step - loss: 0.5669 - accuracy: 0.7926 - val_loss: 0.5869 - val_accuracy: 0.7368\n",
            "Epoch 11/30\n",
            "28/28 [==============================] - 68s 2s/step - loss: 0.5651 - accuracy: 0.8018 - val_loss: 0.5819 - val_accuracy: 0.7500\n",
            "Epoch 12/30\n",
            "28/28 [==============================] - 68s 2s/step - loss: 0.5717 - accuracy: 0.7742 - val_loss: 0.5687 - val_accuracy: 0.7632\n",
            "Epoch 13/30\n",
            "28/28 [==============================] - 68s 2s/step - loss: 0.5446 - accuracy: 0.8065 - val_loss: 0.5567 - val_accuracy: 0.7895\n",
            "Epoch 14/30\n",
            "28/28 [==============================] - 69s 2s/step - loss: 0.5473 - accuracy: 0.8203 - val_loss: 0.5459 - val_accuracy: 0.8158\n",
            "Epoch 15/30\n",
            "28/28 [==============================] - 69s 2s/step - loss: 0.5307 - accuracy: 0.8249 - val_loss: 0.5401 - val_accuracy: 0.8026\n",
            "Epoch 16/30\n",
            "28/28 [==============================] - 69s 2s/step - loss: 0.5252 - accuracy: 0.8433 - val_loss: 0.5332 - val_accuracy: 0.8026\n",
            "Epoch 17/30\n",
            "28/28 [==============================] - 69s 2s/step - loss: 0.5213 - accuracy: 0.8387 - val_loss: 0.5285 - val_accuracy: 0.8421\n",
            "Epoch 18/30\n",
            "28/28 [==============================] - 70s 3s/step - loss: 0.5001 - accuracy: 0.8341 - val_loss: 0.5173 - val_accuracy: 0.8158\n",
            "Epoch 19/30\n",
            "28/28 [==============================] - 71s 3s/step - loss: 0.5028 - accuracy: 0.8618 - val_loss: 0.5077 - val_accuracy: 0.8289\n",
            "Epoch 20/30\n",
            "28/28 [==============================] - 73s 3s/step - loss: 0.5125 - accuracy: 0.8295 - val_loss: 0.5009 - val_accuracy: 0.8421\n"
          ]
        }
      ]
    },
    {
      "cell_type": "markdown",
      "source": [
        "### test"
      ],
      "metadata": {
        "id": "fvuAsy6ksd_B"
      }
    },
    {
      "cell_type": "code",
      "source": [
        "predictions2_2 = model2_2.predict(testX2_2, batch_size=BS)"
      ],
      "metadata": {
        "id": "VsRLX4aTsd_C"
      },
      "execution_count": null,
      "outputs": []
    },
    {
      "cell_type": "code",
      "source": [
        "predictions2_2.ndim"
      ],
      "metadata": {
        "colab": {
          "base_uri": "https://localhost:8080/"
        },
        "outputId": "ccf9f85c-a46e-489a-f387-3cb6aee037e3",
        "id": "gxecDtR5sd_C"
      },
      "execution_count": null,
      "outputs": [
        {
          "output_type": "execute_result",
          "data": {
            "text/plain": [
              "2"
            ]
          },
          "metadata": {},
          "execution_count": 27
        }
      ]
    },
    {
      "cell_type": "code",
      "source": [
        "predictions2_2[:5]"
      ],
      "metadata": {
        "outputId": "2ec11484-0beb-4f4c-aecd-ef3bd3a1fe08",
        "colab": {
          "base_uri": "https://localhost:8080/"
        },
        "id": "Sla_lkDnsd_C"
      },
      "execution_count": null,
      "outputs": [
        {
          "output_type": "execute_result",
          "data": {
            "text/plain": [
              "array([[0.61381483, 0.2656839 ],\n",
              "       [0.56421375, 0.46563235],\n",
              "       [0.19841915, 0.8529552 ],\n",
              "       [0.5035378 , 0.6111999 ],\n",
              "       [0.44217438, 0.6807624 ]], dtype=float32)"
            ]
          },
          "metadata": {},
          "execution_count": 28
        }
      ]
    },
    {
      "cell_type": "code",
      "source": [
        "print(classification_report(testY2_2.argmax(axis=1),\t\n",
        "                            predictions2_2.argmax(axis=1),  \n",
        "\t\t\t\t\t\t\ttarget_names=le2_2.classes_ ))"
      ],
      "metadata": {
        "id": "bcpQz7bAsd_C",
        "outputId": "3a186ad5-4225-4d82-a1f7-d5d00b0cd277",
        "colab": {
          "base_uri": "https://localhost:8080/"
        }
      },
      "execution_count": null,
      "outputs": [
        {
          "output_type": "stream",
          "name": "stdout",
          "text": [
            "              precision    recall  f1-score   support\n",
            "\n",
            "      Normal       0.83      0.88      0.85        40\n",
            "Tuberculosis       0.85      0.81      0.83        36\n",
            "\n",
            "    accuracy                           0.84        76\n",
            "   macro avg       0.84      0.84      0.84        76\n",
            "weighted avg       0.84      0.84      0.84        76\n",
            "\n"
          ]
        }
      ]
    },
    {
      "cell_type": "code",
      "source": [
        "confusion_matrix(testY2_2.argmax(axis=1),\t\n",
        "                        predictions2_2.argmax(axis=1) )"
      ],
      "metadata": {
        "colab": {
          "base_uri": "https://localhost:8080/"
        },
        "outputId": "d763cf84-1df4-4585-87d4-f1d772f245a6",
        "id": "VuFzRhN0XgZl"
      },
      "execution_count": null,
      "outputs": [
        {
          "output_type": "execute_result",
          "data": {
            "text/plain": [
              "array([[35,  5],\n",
              "       [ 7, 29]])"
            ]
          },
          "metadata": {},
          "execution_count": 30
        }
      ]
    },
    {
      "cell_type": "code",
      "source": [
        ""
      ],
      "metadata": {
        "id": "Sap6QRo6a3gF"
      },
      "execution_count": null,
      "outputs": []
    },
    {
      "cell_type": "code",
      "source": [
        "score = metrics.accuracy_score(testY2_2.argmax(axis=1),\t\n",
        "                                            predictions2_2.argmax(axis=1))\n",
        "print(f\"Fold score (accuracy): {score}\")"
      ],
      "metadata": {
        "id": "KmSpoYIea29t",
        "outputId": "a3ad276e-1a45-4943-8664-c4e79de48b91",
        "colab": {
          "base_uri": "https://localhost:8080/"
        }
      },
      "execution_count": null,
      "outputs": [
        {
          "output_type": "stream",
          "name": "stdout",
          "text": [
            "Fold score (accuracy): 0.8421052631578947\n"
          ]
        }
      ]
    },
    {
      "cell_type": "code",
      "source": [
        ""
      ],
      "metadata": {
        "id": "KrYNUcZeaw5c"
      },
      "execution_count": null,
      "outputs": []
    },
    {
      "cell_type": "code",
      "source": [
        ""
      ],
      "metadata": {
        "id": "ChNb8VWhaw2p"
      },
      "execution_count": null,
      "outputs": []
    },
    {
      "cell_type": "code",
      "source": [
        ""
      ],
      "metadata": {
        "id": "Ogt55BPQax8m"
      },
      "execution_count": null,
      "outputs": []
    },
    {
      "cell_type": "code",
      "source": [
        ""
      ],
      "metadata": {
        "id": "RW3IPmV4ax6O"
      },
      "execution_count": null,
      "outputs": []
    },
    {
      "cell_type": "code",
      "source": [
        ""
      ],
      "metadata": {
        "id": "FO55HfVDawyQ"
      },
      "execution_count": null,
      "outputs": []
    },
    {
      "cell_type": "markdown",
      "source": [
        "### K-fold 2_2"
      ],
      "metadata": {
        "id": "VHI9wn5TXEn8"
      }
    },
    {
      "cell_type": "code",
      "source": [
        "data2_2 = np.array(train_img_NorTB, dtype=\"float32\") / 255.0 \n",
        "\n",
        "labels2_2 = np.array(data_train2[['NameType']] )            # Y  มี  d=2  (301, 1)\n",
        "labels2_2.shape = (len(labels2_2),)                                # Y  มี  d=1  (301, )\n",
        "\n",
        "le2_2 = LabelEncoder()                                                # จะแปลงชื่อ class เป็นตัวเลข\n",
        "labels2_2 = le2_2.fit_transform(labels2_2)                     # Y  มี  d=1  (301,)\n",
        "\n",
        "labels2_2 = to_categorical(labels2_2, num_classes=2)    # แปลงเป็นเลข ดัมมี่ (1เป็น 1,0 ----- 0 เป็น  0,1)\n",
        "                                                                                 # Y  มี  d=2  (301, 2)    "
      ],
      "metadata": {
        "id": "BT44DLTvXIwM"
      },
      "execution_count": null,
      "outputs": []
    },
    {
      "cell_type": "code",
      "source": [
        "kf2 = KFold(5, shuffle=True, random_state=40) \n",
        "\n",
        "oos_y = []\n",
        "oos_pred = []\n",
        "fold = 0\n",
        "\n",
        "for train, test in kf2.split(data2_2):\n",
        "    fold+=1\n",
        "    print(f\"Fold #{fold}\")\n",
        "        \n",
        "    x_train2_2 = data2_2[train]\n",
        "    y_train2_2 = labels2_2[train]\n",
        "    x_test2_2 = data2_2[test]\n",
        "    y_test2_2 = labels2_2[test]\n",
        "\n",
        "    model2_2.fit( x=aug.flow(x_train2_2, y_train2_2, batch_size=BS),\n",
        "\t                    validation_data=(x_test2_2, y_test2_2),\n",
        "\t                    steps_per_epoch=len(x_train2_2) // BS,\n",
        "\t                    epochs=5, callbacks=[callback])\n",
        "    \n",
        "    pred2_2 = model2_2.predict(x_test2_2)\n",
        "    \n",
        "    oos_y.append(y_test2_2)\n",
        "    oos_pred.append(pred2_2)  \n",
        "\n",
        "    print(classification_report(y_test2_2.argmax(axis=1),\t\n",
        "                                        pred2_2.argmax(axis=1),  \n",
        "                                        target_names=le2_2.classes_))\n",
        "\n",
        " #   score = metrics.accuracy_score(y_test2_2.argmax(axis=1),\t\n",
        "#                                               pred2_2.argmax(axis=1)\n",
        "#    print(f\"Fold score (accuracy): {score}\")\n",
        "\n",
        "#    print(confusion_matrix(testY2_2.argmax(axis=1),\t\n",
        "#                        pred2_2.argmax(axis=1) ) )"
      ],
      "metadata": {
        "id": "GTiVehsLXIm1"
      },
      "execution_count": null,
      "outputs": []
    },
    {
      "cell_type": "code",
      "source": [
        ""
      ],
      "metadata": {
        "id": "f0K0y9SgXYbJ"
      },
      "execution_count": null,
      "outputs": []
    },
    {
      "cell_type": "markdown",
      "source": [
        "### Fine tuning"
      ],
      "metadata": {
        "id": "NJr8f8hoIw4-"
      }
    },
    {
      "cell_type": "code",
      "source": [
        "len(base_model2_2.layers)"
      ],
      "metadata": {
        "id": "IHSmrRksYSCl"
      },
      "execution_count": null,
      "outputs": []
    },
    {
      "cell_type": "code",
      "source": [
        "base_model2_2.trainable = True\n",
        "for layer in base_model2_2.layers[:300]:    #fix w & bias in layer 0-300\n",
        "    layer.trainable = False"
      ],
      "metadata": {
        "id": "gi0d5hrAOzka"
      },
      "execution_count": null,
      "outputs": []
    },
    {
      "cell_type": "code",
      "source": [
        "model2_2.compile(optimizer=tf.keras.optimizers.RMSprop(learning_rate=0.0001),\n",
        "              loss=\"binary_crossentropy\", metrics=[\"accuracy\"])"
      ],
      "metadata": {
        "id": "IuciYoJoOzka"
      },
      "execution_count": null,
      "outputs": []
    },
    {
      "cell_type": "code",
      "source": [
        "H2_2Finetune = model2_2.fit(\n",
        "\tx=aug.flow(trainX2_2, trainY2_2, batch_size=BS),\n",
        "\tvalidation_data=(testX2_2, testY2_2),\n",
        "\tsteps_per_epoch=len(trainX2_2) // BS,\n",
        "\tepochs=30, callbacks=[callback])"
      ],
      "metadata": {
        "id": "jQJRFgFpOzkb"
      },
      "execution_count": null,
      "outputs": []
    },
    {
      "cell_type": "code",
      "source": [
        ""
      ],
      "metadata": {
        "id": "Yn3dfYsSOwxr"
      },
      "execution_count": null,
      "outputs": []
    },
    {
      "cell_type": "markdown",
      "source": [
        "###  Fine tuning test"
      ],
      "metadata": {
        "id": "_2rKok3bK9bR"
      }
    },
    {
      "cell_type": "code",
      "source": [
        "predictions2_2 = model2_2.predict(testX2_2, batch_size=BS)"
      ],
      "metadata": {
        "id": "ZtqZ4MWIK9bR"
      },
      "execution_count": null,
      "outputs": []
    },
    {
      "cell_type": "code",
      "source": [
        "predictions2_2.ndim"
      ],
      "metadata": {
        "id": "ARj5TBfnK9bS"
      },
      "execution_count": null,
      "outputs": []
    },
    {
      "cell_type": "code",
      "source": [
        "predictions2_2[:5]"
      ],
      "metadata": {
        "id": "2CxPlbX4K9bS"
      },
      "execution_count": null,
      "outputs": []
    },
    {
      "cell_type": "code",
      "source": [
        "print(classification_report(testY2_2.argmax(axis=1),\t\n",
        "                            predictions2_2.argmax(axis=1),  \n",
        "\t\t\t\t\t\t\ttarget_names=le2_2.classes_ ))"
      ],
      "metadata": {
        "id": "V5TeBZrWK9bS"
      },
      "execution_count": null,
      "outputs": []
    },
    {
      "cell_type": "code",
      "source": [
        "confusion_matrix(testY2_2.argmax(axis=1),\t\n",
        "                        predictions2_2.argmax(axis=1) )"
      ],
      "metadata": {
        "id": "0D_g8qbsK9bT"
      },
      "execution_count": null,
      "outputs": []
    },
    {
      "cell_type": "code",
      "source": [
        ""
      ],
      "metadata": {
        "id": "L0kdpYHlqdUW"
      },
      "execution_count": null,
      "outputs": []
    },
    {
      "cell_type": "code",
      "source": [
        "#save model\n",
        "import pickle\n",
        "with open('model2_2.pkl', 'wb') as pickle_file:\n",
        "    pickle.dump(model2_2, pickle_file)"
      ],
      "metadata": {
        "id": "VaY3mIaJnQKi"
      },
      "execution_count": null,
      "outputs": []
    },
    {
      "cell_type": "code",
      "source": [
        "#load model\n",
        "import pickle\n",
        "with open('model2_2.pkl', 'rb') as pickle_file:\n",
        "    new_data = pickle.load(pickle_file)"
      ],
      "metadata": {
        "id": "s_Ca6KSVn513"
      },
      "execution_count": null,
      "outputs": []
    },
    {
      "cell_type": "code",
      "source": [
        "predictions2_2test = new_data.predict(testX2_2, batch_size=BS)"
      ],
      "metadata": {
        "id": "PLklaNXznNh8"
      },
      "execution_count": null,
      "outputs": []
    },
    {
      "cell_type": "code",
      "source": [
        "print(classification_report(testY2_2.argmax(axis=1),\t\n",
        "                            predictions2_2test.argmax(axis=1),  \n",
        "\t\t\t\t\t\t\ttarget_names=le2_2.classes_ ))"
      ],
      "metadata": {
        "id": "ZJ-UbqNqnNcQ"
      },
      "execution_count": null,
      "outputs": []
    },
    {
      "cell_type": "code",
      "source": [
        ""
      ],
      "metadata": {
        "id": "yhvKL9GYK9bT"
      },
      "execution_count": null,
      "outputs": []
    },
    {
      "cell_type": "code",
      "source": [
        ""
      ],
      "metadata": {
        "id": "xL4WZQOo9b2z"
      },
      "execution_count": null,
      "outputs": []
    },
    {
      "cell_type": "markdown",
      "source": [
        "## 3 class ==>  ***DenseNet201***"
      ],
      "metadata": {
        "id": "7BHymtmpac8d"
      }
    },
    {
      "cell_type": "markdown",
      "source": [
        "###แบ่งข้อมูล3"
      ],
      "metadata": {
        "id": "GCH9hU8Wa_E9"
      }
    },
    {
      "cell_type": "code",
      "source": [
        "train_img_NorTBCa = []\n",
        "for ImageName in tqdm(data_train3['ImageName']):               # รัน ชื่อรูป ในไฟล์ data_test3\n",
        "    image_path = All_3class_dir +'/' + ImageName                          # ดึงรูปในโฟล์เดอร์มาทีละรูป\n",
        "    img = cv2.imread(image_path)                                            # อ่านรูป\n",
        "    img = cv2.resize(img, (224, 224))                                   #ขนาดของ input\n",
        "    train_img_NorTBCa.append(img)"
      ],
      "metadata": {
        "id": "J5ue0ZeTAjmo",
        "outputId": "9ed31d4c-ec80-418a-9025-21949ace2a37",
        "colab": {
          "base_uri": "https://localhost:8080/"
        }
      },
      "execution_count": null,
      "outputs": [
        {
          "output_type": "stream",
          "name": "stderr",
          "text": [
            "100%|██████████| 451/451 [00:04<00:00, 98.12it/s] \n"
          ]
        }
      ]
    },
    {
      "cell_type": "code",
      "source": [
        "data3 = np.array(train_img_NorTBCa, dtype=\"float32\") / 255.0"
      ],
      "metadata": {
        "id": "ScK9VDmp-f2p"
      },
      "execution_count": null,
      "outputs": []
    },
    {
      "cell_type": "code",
      "source": [
        "labels3 = np.array(data_train3[['NameType']] )        \n",
        "labels3.shape = (len(labels3),) \n",
        "\n",
        "le3 = LabelEncoder()                                                                     \n",
        "labels3 = le3.fit_transform(labels3)                                         #จะแปลงชื่อ class เป็นตัวเลข 1, 2, 0 \n",
        "\n",
        "labels3 = to_categorical(labels3, num_classes=3)                   #shape (180, 3) มีค่าเป็น  [0., 1., 0.]  กับ   [0., 0., 1.] กับ  [1., 0., 0.]"
      ],
      "metadata": {
        "id": "lZnY6pzipbXQ"
      },
      "execution_count": null,
      "outputs": []
    },
    {
      "cell_type": "code",
      "source": [
        "(trainX3, testX3, trainY3, testY3) = train_test_split(data3, labels3,\n",
        "\t                                               test_size=0.25, random_state=40)"
      ],
      "metadata": {
        "id": "Z9qSb9PfD9Xe"
      },
      "execution_count": null,
      "outputs": []
    },
    {
      "cell_type": "code",
      "source": [
        "le3.classes_"
      ],
      "metadata": {
        "id": "uec5xR1kqHqN",
        "outputId": "3b9aa026-fd3c-4401-cf6e-aa98cd3782b2",
        "colab": {
          "base_uri": "https://localhost:8080/"
        }
      },
      "execution_count": null,
      "outputs": [
        {
          "output_type": "execute_result",
          "data": {
            "text/plain": [
              "array(['Lungcancer', 'Normal', 'Tuberculosis'], dtype=object)"
            ]
          },
          "metadata": {},
          "execution_count": 19
        }
      ]
    },
    {
      "cell_type": "code",
      "source": [
        "i224 = trainX3[0]"
      ],
      "metadata": {
        "id": "hcqpWG46G5cE"
      },
      "execution_count": null,
      "outputs": []
    },
    {
      "cell_type": "code",
      "source": [
        "plt.imshow(i224) "
      ],
      "metadata": {
        "id": "rhUsweIRG3Wj",
        "outputId": "5997beae-4ee9-49de-e931-2d8135dc0b19",
        "colab": {
          "base_uri": "https://localhost:8080/"
        }
      },
      "execution_count": null,
      "outputs": [
        {
          "output_type": "execute_result",
          "data": {
            "text/plain": [
              "<matplotlib.image.AxesImage at 0x7ff03a2e86d0>"
            ]
          },
          "metadata": {},
          "execution_count": 54
        }
      ]
    },
    {
      "cell_type": "markdown",
      "source": [
        "### train3"
      ],
      "metadata": {
        "id": "0M1IoQ2wpbXS"
      }
    },
    {
      "cell_type": "code",
      "source": [
        "# initialize the initial learning rate, batch size, and number of\n",
        "# epochs to train for\n",
        "INIT_LR = 1e-1\n",
        "BS = 8\n",
        "EPOCHS = 50"
      ],
      "metadata": {
        "id": "kRCabH4zpbXS"
      },
      "execution_count": null,
      "outputs": []
    },
    {
      "cell_type": "code",
      "source": [
        "aug = ImageDataGenerator(\n",
        "\t\trotation_range=15,\t\t\t\t\t\t#องศาการหมุน\n",
        "\t\twidth_shift_range=0.1,\n",
        "\t\theight_shift_range=0.1,\n",
        "\t\tshear_range=0.15,\n",
        "\t\thorizontal_flip=True,\n",
        "\t\tfill_mode=\"nearest\")"
      ],
      "metadata": {
        "id": "K_s-d8kxpbXT"
      },
      "execution_count": null,
      "outputs": []
    },
    {
      "cell_type": "markdown",
      "source": [
        "DenseNet201"
      ],
      "metadata": {
        "id": "CDGCk4mVpbXT"
      }
    },
    {
      "cell_type": "code",
      "source": [
        "base_model3 = tf.keras.applications.DenseNet201(input_shape=(224, 224, 3), include_top=False, weights=\"imagenet\")"
      ],
      "metadata": {
        "id": "UhzXMnm3pbXT"
      },
      "execution_count": null,
      "outputs": []
    },
    {
      "cell_type": "code",
      "source": [
        "base_model3.trainable=False\n",
        "\n",
        "#Add custom head\n",
        "average_pooling_layer = tf.keras.layers.GlobalAveragePooling2D()(base_model3.output)\n",
        "prediction_layer = tf.keras.layers.Dense(units=3, activation=\"softmax\")(average_pooling_layer)   # unit 3\n",
        "model3 = tf.keras.models.Model(inputs=base_model3.input, outputs=prediction_layer)"
      ],
      "metadata": {
        "id": "XTNDU7eRpbXT"
      },
      "execution_count": null,
      "outputs": []
    },
    {
      "cell_type": "code",
      "source": [
        "model3.compile(optimizer=tf.keras.optimizers.RMSprop(learning_rate=0.0001), loss=\"binary_crossentropy\", metrics=[\"accuracy\"])"
      ],
      "metadata": {
        "id": "y8xZmCoLpbXU"
      },
      "execution_count": null,
      "outputs": []
    },
    {
      "cell_type": "code",
      "source": [
        "callback = tf.keras.callbacks.EarlyStopping(\n",
        "                monitor=\"val_accuracy\",\n",
        "                patience=2,\n",
        "                mode=\"max\" )"
      ],
      "metadata": {
        "id": "ayUMkbU5HeFk"
      },
      "execution_count": null,
      "outputs": []
    },
    {
      "cell_type": "code",
      "source": [
        "H3 = model3.fit(\n",
        "\tx=aug.flow(trainX3, trainY3, batch_size=BS),\n",
        "\tvalidation_data=(testX3, testY3),\n",
        "\tsteps_per_epoch=len(trainX3) // BS,\n",
        "\tepochs=10, callbacks=[callback])"
      ],
      "metadata": {
        "outputId": "f4496189-6ff4-41a4-be02-cea6df974e7f",
        "colab": {
          "base_uri": "https://localhost:8080/"
        },
        "id": "ExPYVKEZpbXU"
      },
      "execution_count": null,
      "outputs": [
        {
          "output_type": "stream",
          "name": "stdout",
          "text": [
            "Epoch 1/10\n",
            "42/42 [==============================] - 101s 2s/step - loss: 0.4214 - accuracy: 0.7364 - val_loss: 0.4055 - val_accuracy: 0.7522\n",
            "Epoch 2/10\n",
            "42/42 [==============================] - 103s 2s/step - loss: 0.4093 - accuracy: 0.7649 - val_loss: 0.4016 - val_accuracy: 0.7699\n",
            "Epoch 3/10\n",
            "42/42 [==============================] - 100s 2s/step - loss: 0.4187 - accuracy: 0.7606 - val_loss: 0.4026 - val_accuracy: 0.7434\n",
            "Epoch 4/10\n",
            "42/42 [==============================] - 98s 2s/step - loss: 0.4114 - accuracy: 0.7515 - val_loss: 0.3990 - val_accuracy: 0.7788\n",
            "Epoch 5/10\n",
            "42/42 [==============================] - 98s 2s/step - loss: 0.4130 - accuracy: 0.7636 - val_loss: 0.3985 - val_accuracy: 0.7522\n",
            "Epoch 6/10\n",
            "42/42 [==============================] - 103s 2s/step - loss: 0.4118 - accuracy: 0.7485 - val_loss: 0.3962 - val_accuracy: 0.7611\n",
            "Epoch 7/10\n",
            "42/42 [==============================] - 99s 2s/step - loss: 0.4077 - accuracy: 0.7545 - val_loss: 0.3969 - val_accuracy: 0.7434\n"
          ]
        }
      ]
    },
    {
      "cell_type": "markdown",
      "source": [
        "### test3"
      ],
      "metadata": {
        "id": "YBi4CNfUpbXU"
      }
    },
    {
      "cell_type": "code",
      "source": [
        "predictions3 = model3.predict(testX3, batch_size=BS)"
      ],
      "metadata": {
        "id": "885sI8BlpbXU"
      },
      "execution_count": null,
      "outputs": []
    },
    {
      "cell_type": "code",
      "source": [
        "predictions3[:10]"
      ],
      "metadata": {
        "id": "sOqAGUQ_pbXV",
        "outputId": "96042994-5d49-4142-8ee1-74c5969ca405",
        "colab": {
          "base_uri": "https://localhost:8080/"
        }
      },
      "execution_count": null,
      "outputs": [
        {
          "output_type": "execute_result",
          "data": {
            "text/plain": [
              "array([[0.42234102, 0.13188112, 0.44577783],\n",
              "       [0.186726  , 0.6324133 , 0.18086062],\n",
              "       [0.21302216, 0.5828812 , 0.20409662],\n",
              "       [0.23423858, 0.5375274 , 0.2282341 ],\n",
              "       [0.19059137, 0.47671348, 0.33269513],\n",
              "       [0.4642991 , 0.17544255, 0.36025837],\n",
              "       [0.06541688, 0.874891  , 0.05969217],\n",
              "       [0.75105363, 0.0239564 , 0.22499003],\n",
              "       [0.16421191, 0.60468954, 0.23109847],\n",
              "       [0.45769677, 0.02739605, 0.5149072 ]], dtype=float32)"
            ]
          },
          "metadata": {},
          "execution_count": 70
        }
      ]
    },
    {
      "cell_type": "code",
      "source": [
        "testY3.argmax(axis=1)"
      ],
      "metadata": {
        "id": "mjxr3qKAO9rV",
        "outputId": "c47e1171-63bc-44e7-c5fe-f530e270a1c5",
        "colab": {
          "base_uri": "https://localhost:8080/"
        }
      },
      "execution_count": null,
      "outputs": [
        {
          "output_type": "execute_result",
          "data": {
            "text/plain": [
              "array([0, 1, 1, 1, 2, 0, 1, 2, 1, 0, 2, 1, 2, 0, 1, 1, 1, 1, 1, 0, 0, 2,\n",
              "       1, 2, 2, 1, 2, 0, 1, 2, 1, 1, 1, 2, 1, 2, 1, 0, 2, 1, 0, 2, 0, 0,\n",
              "       1, 2, 2, 0, 1, 1, 1, 1, 2, 0, 2, 1, 2, 0, 1, 0, 2, 2, 1, 1, 0, 1,\n",
              "       0, 2, 1, 2, 0, 0, 0, 2, 0, 0, 1, 2, 0, 2, 2, 2, 0, 2, 2, 1, 0, 2,\n",
              "       0, 0, 0, 0, 1, 1, 2, 0, 1, 1, 2, 1, 2, 0, 2, 1, 0, 1, 2, 0, 0, 1,\n",
              "       2, 2, 0])"
            ]
          },
          "metadata": {},
          "execution_count": 71
        }
      ]
    },
    {
      "cell_type": "code",
      "source": [
        "print(classification_report(testY3.argmax(axis=1),\t\n",
        "                           predictions3.argmax(axis=1),  \n",
        "                            target_names=le3.classes_))"
      ],
      "metadata": {
        "id": "gcuplSESpbXV",
        "outputId": "17bb5dab-1065-4594-d310-e8bbc63c5dd3",
        "colab": {
          "base_uri": "https://localhost:8080/"
        }
      },
      "execution_count": null,
      "outputs": [
        {
          "output_type": "stream",
          "name": "stdout",
          "text": [
            "              precision    recall  f1-score   support\n",
            "\n",
            "  Lungcancer       0.59      0.63      0.61        35\n",
            "      Normal       0.65      1.00      0.79        41\n",
            "Tuberculosis       0.54      0.19      0.28        37\n",
            "\n",
            "    accuracy                           0.62       113\n",
            "   macro avg       0.59      0.61      0.56       113\n",
            "weighted avg       0.60      0.62      0.57       113\n",
            "\n"
          ]
        }
      ]
    },
    {
      "cell_type": "code",
      "source": [
        "confusion_matrix(testY3.argmax(axis=1),\t\n",
        "                        predictions3.argmax(axis=1) )"
      ],
      "metadata": {
        "id": "uLqBIuovpbXV",
        "outputId": "14740c79-e2b9-41b8-f2d7-0c482b1d9626",
        "colab": {
          "base_uri": "https://localhost:8080/"
        }
      },
      "execution_count": null,
      "outputs": [
        {
          "output_type": "execute_result",
          "data": {
            "text/plain": [
              "array([[22,  7,  6],\n",
              "       [ 0, 41,  0],\n",
              "       [15, 15,  7]])"
            ]
          },
          "metadata": {},
          "execution_count": 73
        }
      ]
    },
    {
      "cell_type": "code",
      "source": [
        ""
      ],
      "metadata": {
        "id": "8r7qimSWsJUu"
      },
      "execution_count": null,
      "outputs": []
    },
    {
      "cell_type": "markdown",
      "source": [
        "### K-fold 3"
      ],
      "metadata": {
        "id": "GPAvT-Z7sLN9"
      }
    },
    {
      "cell_type": "code",
      "source": [
        "train_img_NorTBCa = []\n",
        "for ImageName in tqdm(data_train3['ImageName']):                        # รัน ชื่อรูป ในไฟล์ data_test3\n",
        "    image_path = All_3class_dir +'/' + ImageName                           # ดึงรูปในโฟล์เดอร์มาทีละรูป\n",
        "    img = cv2.imread(image_path)                                                   # อ่านรูป\n",
        "    img = cv2.resize(img, (224, 224))                                               #ขนาดของ input\n",
        "    train_img_NorTBCa.append(img)\n",
        "\n",
        "data3 = np.array(train_img_NorTBCa, dtype=\"float32\") / 255.0"
      ],
      "metadata": {
        "outputId": "a03c46a5-8e36-46fb-bf40-896a3c6404e1",
        "colab": {
          "base_uri": "https://localhost:8080/"
        },
        "id": "r1XkW-_JsVM4"
      },
      "execution_count": null,
      "outputs": [
        {
          "output_type": "stream",
          "name": "stderr",
          "text": [
            "100%|██████████| 451/451 [02:34<00:00,  2.92it/s]\n"
          ]
        }
      ]
    },
    {
      "cell_type": "code",
      "source": [
        "labels3 = np.array(data_train3[['NameType']] )        \n",
        "labels3.shape = (len(labels3),) \n",
        "\n",
        "le3 = LabelEncoder()                                                                     \n",
        "labels3 = le3.fit_transform(labels3)                                         #จะแปลงชื่อ class เป็นตัวเลข 1, 2, 0 \n",
        "\n",
        "labels3 = to_categorical(labels3, num_classes=3)                   #shape (180, 3) มีค่าเป็น  [0., 1., 0.]  กับ   [0., 0., 1.] กับ  [1., 0., 0.]"
      ],
      "metadata": {
        "id": "4Z-Fcs--sVM5"
      },
      "execution_count": null,
      "outputs": []
    },
    {
      "cell_type": "code",
      "source": [
        "INIT_LR = 1e-1\n",
        "BS = 8\n",
        "EPOCHS = 50\n",
        "\n",
        "aug = ImageDataGenerator(\n",
        "\t\trotation_range=15,\t\t\t\t\t\t#องศาการหมุน\n",
        "\t\twidth_shift_range=0.1,\n",
        "\t\theight_shift_range=0.1,\n",
        "\t\tshear_range=0.15,\n",
        "\t\thorizontal_flip=True,\n",
        "\t\tfill_mode=\"nearest\")\n",
        "\n",
        "callback = tf.keras.callbacks.EarlyStopping(\n",
        "                monitor=\"val_accuracy\",\n",
        "                patience=3,\n",
        "                mode=\"max\" )"
      ],
      "metadata": {
        "id": "A_oLh-C-srCn"
      },
      "execution_count": null,
      "outputs": []
    },
    {
      "cell_type": "code",
      "source": [
        "base_model3 = tf.keras.applications.DenseNet201(input_shape=(224, 224, 3), include_top=False, weights=\"imagenet\")\n",
        "base_model3.trainable=False\n",
        "\n",
        "#Add custom head\n",
        "average_pooling_layer = tf.keras.layers.GlobalAveragePooling2D()(base_model3.output)\n",
        "prediction_layer = tf.keras.layers.Dense(units=3, activation=\"softmax\")(average_pooling_layer)   # unit 3\n",
        "model3 = tf.keras.models.Model(inputs=base_model3.input, outputs=prediction_layer)\n",
        "\n",
        "model3.compile(optimizer=tf.keras.optimizers.RMSprop(learning_rate=0.0001), loss=\"binary_crossentropy\", metrics=[\"accuracy\"])"
      ],
      "metadata": {
        "id": "ss6utiLGsrCo",
        "colab": {
          "base_uri": "https://localhost:8080/"
        },
        "outputId": "02227cf4-f119-45b3-f54d-0c8e010b08b5"
      },
      "execution_count": null,
      "outputs": [
        {
          "output_type": "stream",
          "name": "stdout",
          "text": [
            "Downloading data from https://storage.googleapis.com/tensorflow/keras-applications/densenet/densenet201_weights_tf_dim_ordering_tf_kernels_notop.h5\n",
            "74842112/74836368 [==============================] - 2s 0us/step\n",
            "74850304/74836368 [==============================] - 2s 0us/step\n"
          ]
        }
      ]
    },
    {
      "cell_type": "code",
      "source": [
        "kf3 = KFold(5, shuffle=True, random_state=40) \n",
        "\n",
        "oos_y = []\n",
        "oos_pred = []\n",
        "fold = 0\n",
        "\n",
        "for train, test in kf3.split(data3):\n",
        "    fold+=1\n",
        "    print(f\"Fold #{fold}\")\n",
        "        \n",
        "    x_train3 = data3[train]\n",
        "    y_train3 = labels3[train]\n",
        "    x_test3 = data3[test]\n",
        "    y_test3 = labels3[test]\n",
        "\n",
        "    model3.fit( x=aug.flow(x_train3, y_train3, batch_size=BS),\n",
        "\t                    validation_data=(x_test3, y_test3),\n",
        "\t                    steps_per_epoch=len(x_train3) // BS,\n",
        "\t                    epochs=10, callbacks=[callback])\n",
        "    \n",
        "    pred3 = model3.predict(x_test3)\n",
        "    \n",
        "    oos_y.append(y_test3)\n",
        "    oos_pred.append(pred3)  \n",
        "    print(classification_report(y_test3.argmax(axis=1),\t                #แสดง report ค่า acc, recall, ...\n",
        "                                        pred3.argmax(axis=1),  \n",
        "                                        target_names=le3.classes_))\n",
        "\n",
        "oos_y = np.concatenate(oos_y)\n",
        "oos_pred = np.concatenate(oos_pred)\n",
        "\n",
        "score = metrics.accuracy_score(  oos_y.argmax(axis=1),\t oos_pred.argmax(axis=1) )\n",
        "print(f\"Final score (accuracy): {score}\")\n",
        "\n",
        "# Write the cross-validated prediction\n",
        "oos_y = pd.DataFrame(oos_y)\n",
        "oos_pred = pd.DataFrame(oos_pred)\n",
        "#oosDF = pd.concat( [df, oos_y, oos_pred],axis=1 )\n",
        "\n",
        "\n",
        "#   score = metrics.accuracy_score(y_test3.argmax(axis=1),\t        #ค่า acc\n",
        "#                                               pred3.argmax(axis=1)\n",
        "#    print(f\"Fold score (accuracy): {score}\")\n",
        "\n",
        "#    print(confusion_matrix(testY3.argmax(axis=1),\t                       #แสดง confusion_matrix\n",
        "#                        predictions3.argmax(axis=1) ) )"
      ],
      "metadata": {
        "id": "REMrx7qLsJeo",
        "colab": {
          "base_uri": "https://localhost:8080/"
        },
        "outputId": "1bb18566-b1df-4ee9-9ed2-dc0ba9b68f3e"
      },
      "execution_count": null,
      "outputs": [
        {
          "output_type": "stream",
          "name": "stdout",
          "text": [
            "Fold #1\n",
            "Epoch 1/10\n",
            "45/45 [==============================] - 124s 2s/step - loss: 0.6648 - accuracy: 0.3278 - val_loss: 0.6361 - val_accuracy: 0.4286\n",
            "Epoch 2/10\n",
            "45/45 [==============================] - 125s 3s/step - loss: 0.6418 - accuracy: 0.3806 - val_loss: 0.6205 - val_accuracy: 0.5055\n",
            "Epoch 3/10\n",
            "45/45 [==============================] - 130s 3s/step - loss: 0.6299 - accuracy: 0.4194 - val_loss: 0.6033 - val_accuracy: 0.5495\n",
            "Epoch 4/10\n",
            "45/45 [==============================] - 135s 3s/step - loss: 0.6078 - accuracy: 0.4889 - val_loss: 0.5889 - val_accuracy: 0.5495\n",
            "Epoch 5/10\n",
            "45/45 [==============================] - 134s 3s/step - loss: 0.5910 - accuracy: 0.4944 - val_loss: 0.5757 - val_accuracy: 0.5934\n",
            "Epoch 6/10\n",
            "45/45 [==============================] - 132s 3s/step - loss: 0.5865 - accuracy: 0.5528 - val_loss: 0.5645 - val_accuracy: 0.6154\n",
            "Epoch 7/10\n",
            "45/45 [==============================] - 127s 3s/step - loss: 0.5602 - accuracy: 0.6194 - val_loss: 0.5535 - val_accuracy: 0.6044\n",
            "Epoch 8/10\n",
            "45/45 [==============================] - 126s 3s/step - loss: 0.5560 - accuracy: 0.6000 - val_loss: 0.5492 - val_accuracy: 0.6044\n",
            "Epoch 9/10\n",
            "45/45 [==============================] - 136s 3s/step - loss: 0.5533 - accuracy: 0.5944 - val_loss: 0.5350 - val_accuracy: 0.6154\n",
            "              precision    recall  f1-score   support\n",
            "\n",
            "  Lungcancer       0.62      0.54      0.58        28\n",
            "      Normal       0.65      0.97      0.78        33\n",
            "Tuberculosis       0.50      0.30      0.37        30\n",
            "\n",
            "    accuracy                           0.62        91\n",
            "   macro avg       0.59      0.60      0.58        91\n",
            "weighted avg       0.59      0.62      0.58        91\n",
            "\n",
            "Fold #2\n",
            "Epoch 1/10\n",
            "45/45 [==============================] - 115s 3s/step - loss: 0.5304 - accuracy: 0.6771 - val_loss: 0.5436 - val_accuracy: 0.6222\n",
            "Epoch 2/10\n",
            "45/45 [==============================] - 116s 3s/step - loss: 0.5254 - accuracy: 0.6657 - val_loss: 0.5420 - val_accuracy: 0.5889\n",
            "Epoch 3/10\n",
            "45/45 [==============================] - 116s 3s/step - loss: 0.5146 - accuracy: 0.6714 - val_loss: 0.5215 - val_accuracy: 0.6667\n",
            "Epoch 4/10\n",
            "45/45 [==============================] - 114s 3s/step - loss: 0.5083 - accuracy: 0.6771 - val_loss: 0.5190 - val_accuracy: 0.6667\n",
            "Epoch 5/10\n",
            "45/45 [==============================] - 115s 3s/step - loss: 0.4984 - accuracy: 0.6686 - val_loss: 0.5109 - val_accuracy: 0.6778\n",
            "Epoch 6/10\n",
            "45/45 [==============================] - 114s 3s/step - loss: 0.4909 - accuracy: 0.6827 - val_loss: 0.5069 - val_accuracy: 0.6667\n",
            "Epoch 7/10\n",
            "45/45 [==============================] - 115s 3s/step - loss: 0.4842 - accuracy: 0.6827 - val_loss: 0.4978 - val_accuracy: 0.7000\n",
            "Epoch 8/10\n",
            "45/45 [==============================] - 115s 3s/step - loss: 0.4828 - accuracy: 0.7167 - val_loss: 0.4916 - val_accuracy: 0.6889\n",
            "Epoch 9/10\n",
            "45/45 [==============================] - 114s 3s/step - loss: 0.4717 - accuracy: 0.7167 - val_loss: 0.4961 - val_accuracy: 0.6667\n",
            "Epoch 10/10\n",
            "45/45 [==============================] - 118s 3s/step - loss: 0.4682 - accuracy: 0.6912 - val_loss: 0.4927 - val_accuracy: 0.6778\n",
            "              precision    recall  f1-score   support\n",
            "\n",
            "  Lungcancer       0.69      0.76      0.72        33\n",
            "      Normal       0.62      1.00      0.76        26\n",
            "Tuberculosis       0.83      0.32      0.47        31\n",
            "\n",
            "    accuracy                           0.68        90\n",
            "   macro avg       0.72      0.69      0.65        90\n",
            "weighted avg       0.72      0.68      0.65        90\n",
            "\n",
            "Fold #3\n",
            "Epoch 1/10\n",
            "45/45 [==============================] - 103s 2s/step - loss: 0.4712 - accuracy: 0.7224 - val_loss: 0.4561 - val_accuracy: 0.7222\n",
            "Epoch 2/10\n",
            "45/45 [==============================] - 128s 3s/step - loss: 0.4599 - accuracy: 0.7337 - val_loss: 0.4538 - val_accuracy: 0.7111\n",
            "Epoch 3/10\n",
            "45/45 [==============================] - 125s 3s/step - loss: 0.4591 - accuracy: 0.7450 - val_loss: 0.4493 - val_accuracy: 0.7000\n",
            "Epoch 4/10\n",
            "45/45 [==============================] - 129s 3s/step - loss: 0.4513 - accuracy: 0.7422 - val_loss: 0.4435 - val_accuracy: 0.7556\n",
            "Epoch 5/10\n",
            "45/45 [==============================] - 127s 3s/step - loss: 0.4394 - accuracy: 0.7252 - val_loss: 0.4412 - val_accuracy: 0.7333\n",
            "Epoch 6/10\n",
            "45/45 [==============================] - 129s 3s/step - loss: 0.4457 - accuracy: 0.7252 - val_loss: 0.4387 - val_accuracy: 0.7111\n",
            "Epoch 7/10\n",
            "45/45 [==============================] - 134s 3s/step - loss: 0.4419 - accuracy: 0.7422 - val_loss: 0.4345 - val_accuracy: 0.7556\n",
            "              precision    recall  f1-score   support\n",
            "\n",
            "  Lungcancer       0.79      0.66      0.72        29\n",
            "      Normal       0.73      1.00      0.85        33\n",
            "Tuberculosis       0.76      0.57      0.65        28\n",
            "\n",
            "    accuracy                           0.76        90\n",
            "   macro avg       0.76      0.74      0.74        90\n",
            "weighted avg       0.76      0.76      0.74        90\n",
            "\n",
            "Fold #4\n",
            "Epoch 1/10\n",
            "45/45 [==============================] - 120s 3s/step - loss: 0.4370 - accuracy: 0.7337 - val_loss: 0.4422 - val_accuracy: 0.7333\n",
            "Epoch 2/10\n",
            "45/45 [==============================] - 127s 3s/step - loss: 0.4376 - accuracy: 0.7224 - val_loss: 0.4362 - val_accuracy: 0.7000\n",
            "Epoch 3/10\n",
            "45/45 [==============================] - 129s 3s/step - loss: 0.4394 - accuracy: 0.7333 - val_loss: 0.4390 - val_accuracy: 0.7222\n",
            "Epoch 4/10\n",
            "45/45 [==============================] - 123s 3s/step - loss: 0.4305 - accuracy: 0.7649 - val_loss: 0.4375 - val_accuracy: 0.6778\n",
            "              precision    recall  f1-score   support\n",
            "\n",
            "  Lungcancer       0.77      0.57      0.65        30\n",
            "      Normal       0.60      1.00      0.75        31\n",
            "Tuberculosis       0.81      0.45      0.58        29\n",
            "\n",
            "    accuracy                           0.68        90\n",
            "   macro avg       0.73      0.67      0.66        90\n",
            "weighted avg       0.72      0.68      0.66        90\n",
            "\n",
            "Fold #5\n",
            "Epoch 1/10\n",
            "45/45 [==============================] - 108s 2s/step - loss: 0.4256 - accuracy: 0.7479 - val_loss: 0.4269 - val_accuracy: 0.7667\n",
            "Epoch 2/10\n",
            "45/45 [==============================] - 129s 3s/step - loss: 0.4175 - accuracy: 0.7620 - val_loss: 0.4307 - val_accuracy: 0.7111\n",
            "Epoch 3/10\n",
            "45/45 [==============================] - 132s 3s/step - loss: 0.4159 - accuracy: 0.7479 - val_loss: 0.4241 - val_accuracy: 0.7333\n",
            "Epoch 4/10\n",
            "45/45 [==============================] - 142s 3s/step - loss: 0.4131 - accuracy: 0.7705 - val_loss: 0.4210 - val_accuracy: 0.7111\n",
            "              precision    recall  f1-score   support\n",
            "\n",
            "  Lungcancer       0.72      0.70      0.71        30\n",
            "      Normal       0.69      0.96      0.81        28\n",
            "Tuberculosis       0.73      0.50      0.59        32\n",
            "\n",
            "    accuracy                           0.71        90\n",
            "   macro avg       0.71      0.72      0.70        90\n",
            "weighted avg       0.72      0.71      0.70        90\n",
            "\n",
            "Final score (accuracy): 0.6873614190687362\n"
          ]
        }
      ]
    },
    {
      "cell_type": "code",
      "source": [
        ""
      ],
      "metadata": {
        "id": "-K_sNanfCLwT"
      },
      "execution_count": null,
      "outputs": []
    },
    {
      "cell_type": "markdown",
      "source": [
        "### joblib.dump"
      ],
      "metadata": {
        "id": "W1ZkRih_AE14"
      }
    },
    {
      "cell_type": "code",
      "source": [
        "import joblib"
      ],
      "metadata": {
        "id": "BQCYhcYqCL-d"
      },
      "execution_count": null,
      "outputs": []
    },
    {
      "cell_type": "code",
      "source": [
        "joblib.dump(model3, 'model3_densenet.joblib')  "
      ],
      "metadata": {
        "outputId": "111febfd-31ef-4554-f714-3ce5e97e0365",
        "colab": {
          "base_uri": "https://localhost:8080/"
        },
        "id": "JLmzDFrzCL-d"
      },
      "execution_count": null,
      "outputs": [
        {
          "output_type": "stream",
          "name": "stdout",
          "text": [
            "INFO:tensorflow:Assets written to: ram://e45fbdaf-725f-4e92-9e05-4eae26026106/assets\n"
          ]
        },
        {
          "output_type": "execute_result",
          "data": {
            "text/plain": [
              "['model3_densenet.joblib']"
            ]
          },
          "metadata": {},
          "execution_count": 63
        }
      ]
    },
    {
      "cell_type": "code",
      "source": [
        "dense3= joblib.load('model3_densenet.joblib')"
      ],
      "metadata": {
        "id": "Hdq0mKjiCL-d"
      },
      "execution_count": null,
      "outputs": []
    },
    {
      "cell_type": "code",
      "source": [
        "(trainX3, testX3, trainY3, testY3) = train_test_split(data3, labels3,\n",
        "\t                                               test_size=0.25, random_state=40)"
      ],
      "metadata": {
        "id": "0UxSMu6DBnib"
      },
      "execution_count": null,
      "outputs": []
    },
    {
      "cell_type": "code",
      "source": [
        "predict_dense3 = dense3.predict(testX3, batch_size=BS)"
      ],
      "metadata": {
        "id": "8VAdq8vRDS9n"
      },
      "execution_count": null,
      "outputs": []
    },
    {
      "cell_type": "code",
      "source": [
        "print(classification_report(testY3.argmax(axis=1),\t\n",
        "                                        predict_dense3.argmax(axis=1),  \n",
        "                                        target_names=le3.classes_))"
      ],
      "metadata": {
        "colab": {
          "base_uri": "https://localhost:8080/"
        },
        "id": "wU80dhR-DS7P",
        "outputId": "8735746f-98c7-4698-e06f-91ac95170b4e"
      },
      "execution_count": null,
      "outputs": [
        {
          "output_type": "stream",
          "name": "stdout",
          "text": [
            "              precision    recall  f1-score   support\n",
            "\n",
            "  Lungcancer       0.71      0.63      0.67        35\n",
            "      Normal       0.66      1.00      0.80        41\n",
            "Tuberculosis       0.75      0.41      0.53        37\n",
            "\n",
            "    accuracy                           0.69       113\n",
            "   macro avg       0.71      0.68      0.66       113\n",
            "weighted avg       0.71      0.69      0.67       113\n",
            "\n"
          ]
        }
      ]
    },
    {
      "cell_type": "code",
      "source": [
        ""
      ],
      "metadata": {
        "id": "aZ8OOUBnBnf9"
      },
      "execution_count": null,
      "outputs": []
    },
    {
      "cell_type": "code",
      "source": [
        ""
      ],
      "metadata": {
        "id": "tz1eoJCzBndQ"
      },
      "execution_count": null,
      "outputs": []
    },
    {
      "cell_type": "markdown",
      "source": [
        "###ลองแบ่งข้อมูลแบบอื่น3"
      ],
      "metadata": {
        "id": "aMo8DI91I9jU"
      }
    },
    {
      "cell_type": "code",
      "source": [
        "from tensorflow.keras.preprocessing.image import ImageDataGenerator, array_to_img, img_to_array, load_img, "
      ],
      "metadata": {
        "id": "2wCg7cFDs_6o"
      },
      "execution_count": null,
      "outputs": []
    },
    {
      "cell_type": "code",
      "source": [
        "train_img_NorTBCa2 = []\n",
        "for ImageName in tqdm(data_train3['ImageName']):                       # รัน ชื่อรูป ในไฟล์ data_test3\n",
        "    image_path = All_3class_dir +'/' + ImageName                          # ดึงรูปในโฟล์เดอร์มาทีละรูป\n",
        "    img = load_img( image_path )\n",
        "    img = img_to_array(img)\n",
        "    train_img_NorTBCa2.append(img)"
      ],
      "metadata": {
        "id": "t0JZ6EE7wMn8",
        "outputId": "bc9b0875-43ac-4f04-8376-be794c360be7",
        "colab": {
          "base_uri": "https://localhost:8080/"
        }
      },
      "execution_count": null,
      "outputs": [
        {
          "output_type": "stream",
          "name": "stderr",
          "text": [
            "100%|██████████| 451/451 [00:05<00:00, 89.20it/s] \n"
          ]
        }
      ]
    },
    {
      "cell_type": "code",
      "source": [
        "train_img_NorTBCa2 = []\n",
        "for ImageName in tqdm(data_train3['ImageName']):                       # รัน ชื่อรูป ในไฟล์ data_test3\n",
        "    image_path = All_3class_dir +'/' + ImageName                          # ดึงรูปในโฟล์เดอร์มาทีละรูป\n",
        "    img = load_img( image_path )\n",
        "    img = img_to_array(img, dtype='float32')                                #จากภาพ --> เป็น array \n",
        " #   img = img.ravel()                                                                   #จาก array 3 มิติ -->เป็น 1 มิติ\n",
        "    train_img_NorTBCa2.append(img)"
      ],
      "metadata": {
        "id": "Q-ZNUKNq2-HC",
        "outputId": "9e2fd517-b0c1-474e-e0f6-604da319370f",
        "colab": {
          "base_uri": "https://localhost:8080/"
        }
      },
      "execution_count": null,
      "outputs": [
        {
          "output_type": "stream",
          "name": "stderr",
          "text": [
            " 13%|█▎        | 60/451 [00:01<00:07, 54.46it/s]"
          ]
        }
      ]
    },
    {
      "cell_type": "code",
      "source": [
        "train_img_NorTBCa2"
      ],
      "metadata": {
        "id": "fm_y21VO2F-o"
      },
      "execution_count": null,
      "outputs": []
    },
    {
      "cell_type": "code",
      "source": [
        "#data3 = np.array(train_img_NorTBCa2)"
      ],
      "metadata": {
        "id": "9NGf6xIa324L",
        "outputId": "97f7ef97-d45e-4d69-8750-af059ccfe2d2",
        "colab": {
          "base_uri": "https://localhost:8080/"
        }
      },
      "execution_count": null,
      "outputs": [
        {
          "output_type": "stream",
          "name": "stderr",
          "text": [
            "/usr/local/lib/python3.7/dist-packages/ipykernel_launcher.py:1: VisibleDeprecationWarning: Creating an ndarray from ragged nested sequences (which is a list-or-tuple of lists-or-tuples-or ndarrays with different lengths or shapes) is deprecated. If you meant to do this, you must specify 'dtype=object' when creating the ndarray\n",
            "  \"\"\"Entry point for launching an IPython kernel.\n"
          ]
        }
      ]
    },
    {
      "cell_type": "code",
      "source": [
        "labels3 = np.array(data_train3[['NameType']] )        \n",
        "labels3.shape = (len(labels3),) \n",
        "\n",
        "le3 = LabelEncoder()                                                                     \n",
        "labels3 = le3.fit_transform(labels3)                                         #จะแปลงชื่อ class เป็นตัวเลข 1, 2, 0 \n",
        "\n",
        "labels3 = to_categorical(labels3, num_classes=3)                   #shape (180, 3) มีค่าเป็น  [0., 1., 0.]  กับ   [0., 0., 1.] กับ  [1., 0., 0.]"
      ],
      "metadata": {
        "id": "xkDl5ooT4WMi"
      },
      "execution_count": null,
      "outputs": []
    },
    {
      "cell_type": "code",
      "source": [
        "le3.classes_"
      ],
      "metadata": {
        "id": "jTWVmvGz5aBg",
        "outputId": "aa76a2a8-5513-4064-9fbc-24a2d1227f9d",
        "colab": {
          "base_uri": "https://localhost:8080/"
        }
      },
      "execution_count": null,
      "outputs": [
        {
          "output_type": "execute_result",
          "data": {
            "text/plain": [
              "array(['Lungcancer', 'Normal', 'Tuberculosis'], dtype=object)"
            ]
          },
          "metadata": {},
          "execution_count": 78
        }
      ]
    },
    {
      "cell_type": "code",
      "source": [
        "(trainX3, testX3, trainY3, testY3) = train_test_split(train_img_NorTBCa2, labels3,\n",
        "\t                                               test_size=0.25, random_state=40)"
      ],
      "metadata": {
        "id": "xgy830W132wX"
      },
      "execution_count": null,
      "outputs": []
    },
    {
      "cell_type": "markdown",
      "source": [
        "## 3 class ==> ***InceptionV3***"
      ],
      "metadata": {
        "id": "gfRYFcvfmJBg"
      }
    },
    {
      "cell_type": "markdown",
      "source": [
        "### K-fold  -- InceptionV3"
      ],
      "metadata": {
        "id": "0L32LTa-AmKM"
      }
    },
    {
      "cell_type": "code",
      "source": [
        "train_img3_Incep = []\n",
        "for ImageName in tqdm(data_train3['ImageName']):               # รัน ชื่อรูป ในไฟล์ data_test3\n",
        "    image_path = All_3class_dir +'/' + ImageName                   # ดึงรูปในโฟล์เดอร์มาทีละรูป\n",
        "    img = cv2.imread(image_path)                                            # อ่านรูป\n",
        "    img = cv2.resize(img, (299, 299))                                       #ขนาดของ input\n",
        "    train_img3_Incep.append(img)\n",
        "\n",
        "data3_Incep = np.array(train_img3_Incep, dtype=\"float32\") / 255.0"
      ],
      "metadata": {
        "outputId": "8a500f01-4601-4cf3-ca4a-2336eae40a66",
        "colab": {
          "base_uri": "https://localhost:8080/"
        },
        "id": "jhfvC-NqAmKN"
      },
      "execution_count": null,
      "outputs": [
        {
          "output_type": "stream",
          "name": "stderr",
          "text": [
            "100%|██████████| 451/451 [02:11<00:00,  3.44it/s]\n"
          ]
        }
      ]
    },
    {
      "cell_type": "code",
      "source": [
        "labels3_Incep = np.array(data_train3[['NameType']] )        \n",
        "labels3_Incep.shape = (len(labels3_Incep),) \n",
        "\n",
        "le3_Incep = LabelEncoder()                                                                     \n",
        "labels3_Incep = le3_Incep.fit_transform(labels3_Incep)                                         #จะแปลงชื่อ class เป็นตัวเลข 1, 2, 0 \n",
        "\n",
        "labels3_Incep = to_categorical(labels3_Incep, num_classes=3)                   #shape (180, 3) มีค่าเป็น  [0., 1., 0.]  กับ   [0., 0., 1.] กับ  [1., 0., 0.]"
      ],
      "metadata": {
        "id": "MeaRfwG5A06x"
      },
      "execution_count": null,
      "outputs": []
    },
    {
      "cell_type": "code",
      "source": [
        "INIT_LR = 1e-1\n",
        "BS = 8\n",
        "EPOCHS = 50\n",
        "\n",
        "aug = ImageDataGenerator(\n",
        "\t\trotation_range=15,\t\t\t\t\t\t#องศาการหมุน\n",
        "\t\twidth_shift_range=0.1,\n",
        "\t\theight_shift_range=0.1,\n",
        "\t\tshear_range=0.15,\n",
        "\t\thorizontal_flip=True,\n",
        "\t\tfill_mode=\"nearest\")\n",
        "\n",
        "callback = tf.keras.callbacks.EarlyStopping(\n",
        "                monitor=\"val_accuracy\",\n",
        "                patience=3,\n",
        "                mode=\"max\" )"
      ],
      "metadata": {
        "id": "0wB74-IDAmKO"
      },
      "execution_count": null,
      "outputs": []
    },
    {
      "cell_type": "code",
      "source": [
        "base_model3_Incep = tf.keras.applications.InceptionV3(input_shape=(299, 299, 3), include_top=False, weights=\"imagenet\")\n",
        "base_model3_Incep.trainable=False\n",
        "\n",
        "#Add custom head\n",
        "average_pooling_layer = tf.keras.layers.GlobalAveragePooling2D()(base_model3_Incep.output)\n",
        "prediction_layer = tf.keras.layers.Dense(units=3, activation=\"softmax\")(average_pooling_layer)   # unit 3\n",
        "model3_Incep = tf.keras.models.Model(inputs=base_model3_Incep.input, outputs=prediction_layer)\n",
        "\n",
        "model3_Incep.compile(optimizer=tf.keras.optimizers.RMSprop(learning_rate=0.0001), loss=\"binary_crossentropy\", metrics=[\"accuracy\"])"
      ],
      "metadata": {
        "outputId": "39623e30-bf4a-489b-a77e-d13ae79972f6",
        "colab": {
          "base_uri": "https://localhost:8080/"
        },
        "id": "0Iuuw2AdBYIj"
      },
      "execution_count": null,
      "outputs": [
        {
          "output_type": "stream",
          "name": "stdout",
          "text": [
            "Downloading data from https://storage.googleapis.com/tensorflow/keras-applications/inception_v3/inception_v3_weights_tf_dim_ordering_tf_kernels_notop.h5\n",
            "87916544/87910968 [==============================] - 0s 0us/step\n",
            "87924736/87910968 [==============================] - 0s 0us/step\n"
          ]
        }
      ]
    },
    {
      "cell_type": "code",
      "source": [
        "kf3_Incep = KFold(5, shuffle=True, random_state=40) \n",
        "\n",
        "oos_y = []\n",
        "oos_pred = []\n",
        "fold = 0\n",
        "\n",
        "for train, test in kf3_Incep.split(data3_Incep):\n",
        "    fold+=1\n",
        "    print(f\"Fold #{fold}\")\n",
        "        \n",
        "    x_train3_Incep = data3_Incep[train]\n",
        "    y_train3_Incep = labels3_Incep[train]\n",
        "    x_test3_Incep = data3_Incep[test]\n",
        "    y_test3_Incep = labels3_Incep[test]"
      ],
      "metadata": {
        "id": "0d_Ok93D7mSt",
        "outputId": "f9050fba-0c13-40cf-c0f0-c7747f565425",
        "colab": {
          "base_uri": "https://localhost:8080/"
        }
      },
      "execution_count": null,
      "outputs": [
        {
          "output_type": "stream",
          "name": "stdout",
          "text": [
            "Fold #1\n",
            "Fold #2\n",
            "Fold #3\n",
            "Fold #4\n",
            "Fold #5\n"
          ]
        }
      ]
    },
    {
      "cell_type": "code",
      "source": [
        "x_train3_Incep.shape"
      ],
      "metadata": {
        "id": "i6_zA18L7oUd",
        "outputId": "54850ba2-eb65-4d39-d9f3-255b4e0ad6d5",
        "colab": {
          "base_uri": "https://localhost:8080/"
        }
      },
      "execution_count": null,
      "outputs": [
        {
          "output_type": "execute_result",
          "data": {
            "text/plain": [
              "(361, 299, 299, 3)"
            ]
          },
          "metadata": {},
          "execution_count": 47
        }
      ]
    },
    {
      "cell_type": "code",
      "source": [
        "x_test3_Incep.shape"
      ],
      "metadata": {
        "id": "0sYCNwYj-VKi",
        "outputId": "767bdf34-7d51-4f25-f739-eae9beddeb00",
        "colab": {
          "base_uri": "https://localhost:8080/"
        }
      },
      "execution_count": null,
      "outputs": [
        {
          "output_type": "execute_result",
          "data": {
            "text/plain": [
              "(90, 299, 299, 3)"
            ]
          },
          "metadata": {},
          "execution_count": 48
        }
      ]
    },
    {
      "cell_type": "code",
      "source": [
        "kf3_Incep = KFold(5, shuffle=True, random_state=40) \n",
        "\n",
        "oos_y = []\n",
        "oos_pred = []\n",
        "fold = 0\n",
        "\n",
        "for train, test in kf3_Incep.split(data3_Incep):\n",
        "    fold+=1\n",
        "    print(f\"Fold #{fold}\")\n",
        "        \n",
        "    x_train3_Incep = data3_Incep[train]\n",
        "    y_train3_Incep = labels3_Incep[train]\n",
        "    x_test3_Incep = data3_Incep[test]\n",
        "    y_test3_Incep = labels3_Incep[test]\n",
        "\n",
        "    H3_Incep = model3_Incep.fit( x=aug.flow(x_train3_Incep, y_train3_Incep, batch_size=BS),\n",
        "\t                                            validation_data=(x_test3_Incep, y_test3_Incep),\n",
        "\t                                            steps_per_epoch=len(x_train3_Incep) // BS,\n",
        "\t                                            epochs=10,  callbacks = [callback])\n",
        "    \n",
        "    pred3_Incep = model3_Incep.predict(x_test3_Incep)\n",
        "    \n",
        "    oos_y.append(y_test3_Incep)\n",
        "    oos_pred.append(pred3_Incep)  \n",
        "    print(classification_report(y_test3_Incep.argmax(axis=1),\t                #แสดง report ค่า acc, recall, ...\n",
        "                                        pred3_Incep.argmax(axis=1),  \n",
        "                                        target_names=le3_Incep.classes_))\n",
        "\n",
        "#   score = metrics.accuracy_score(y_test3_Incep.argmax(axis=1),\t        #ค่า acc\n",
        "#                                               pred3_Incep.argmax(axis=1)\n",
        "#    print(f\"Fold score (accuracy): {score}\")\n",
        "\n",
        "#    print(confusion_matrix(testY3_Incep.argmax(axis=1),\t                       #แสดง confusion_matrix\n",
        "#                        pred3_Incep.argmax(axis=1) ) )"
      ],
      "metadata": {
        "id": "_3cCPrl0AmKP",
        "outputId": "c542a2d6-4eee-4f39-8d58-30ab1969f313",
        "colab": {
          "base_uri": "https://localhost:8080/"
        }
      },
      "execution_count": null,
      "outputs": [
        {
          "output_type": "stream",
          "name": "stdout",
          "text": [
            "Fold #1\n",
            "Epoch 1/10\n",
            "45/45 [==============================] - 117s 2s/step - loss: 0.6594 - accuracy: 0.3472 - val_loss: 0.6251 - val_accuracy: 0.3516\n",
            "Epoch 2/10\n",
            "45/45 [==============================] - 111s 2s/step - loss: 0.6250 - accuracy: 0.4222 - val_loss: 0.6089 - val_accuracy: 0.5604\n",
            "Epoch 3/10\n",
            "45/45 [==============================] - 112s 2s/step - loss: 0.6109 - accuracy: 0.4444 - val_loss: 0.5968 - val_accuracy: 0.6264\n",
            "Epoch 4/10\n",
            "45/45 [==============================] - 111s 2s/step - loss: 0.5984 - accuracy: 0.5333 - val_loss: 0.5861 - val_accuracy: 0.5934\n",
            "Epoch 5/10\n",
            "45/45 [==============================] - 117s 3s/step - loss: 0.5860 - accuracy: 0.5389 - val_loss: 0.5746 - val_accuracy: 0.6374\n",
            "Epoch 6/10\n",
            "45/45 [==============================] - 108s 2s/step - loss: 0.5743 - accuracy: 0.5944 - val_loss: 0.5662 - val_accuracy: 0.6484\n",
            "Epoch 7/10\n",
            "45/45 [==============================] - 107s 2s/step - loss: 0.5661 - accuracy: 0.5917 - val_loss: 0.5571 - val_accuracy: 0.6264\n",
            "Epoch 8/10\n",
            "45/45 [==============================] - 109s 2s/step - loss: 0.5656 - accuracy: 0.5944 - val_loss: 0.5502 - val_accuracy: 0.6264\n",
            "Epoch 9/10\n",
            "45/45 [==============================] - 108s 2s/step - loss: 0.5522 - accuracy: 0.6361 - val_loss: 0.5425 - val_accuracy: 0.6593\n",
            "Epoch 10/10\n",
            "45/45 [==============================] - 126s 3s/step - loss: 0.5397 - accuracy: 0.6667 - val_loss: 0.5361 - val_accuracy: 0.6484\n",
            "              precision    recall  f1-score   support\n",
            "\n",
            "  Lungcancer       0.60      0.54      0.57        28\n",
            "      Normal       0.72      0.88      0.79        33\n",
            "Tuberculosis       0.58      0.50      0.54        30\n",
            "\n",
            "    accuracy                           0.65        91\n",
            "   macro avg       0.63      0.64      0.63        91\n",
            "weighted avg       0.64      0.65      0.64        91\n",
            "\n",
            "Fold #2\n",
            "Epoch 1/10\n",
            "45/45 [==============================] - 102s 2s/step - loss: 0.5297 - accuracy: 0.6232 - val_loss: 0.5423 - val_accuracy: 0.5778\n",
            "Epoch 2/10\n",
            "45/45 [==============================] - 116s 3s/step - loss: 0.5251 - accuracy: 0.6686 - val_loss: 0.5394 - val_accuracy: 0.5889\n",
            "Epoch 3/10\n",
            "45/45 [==============================] - 135s 3s/step - loss: 0.5124 - accuracy: 0.6487 - val_loss: 0.5235 - val_accuracy: 0.6556\n",
            "Epoch 4/10\n",
            "45/45 [==============================] - 135s 3s/step - loss: 0.5118 - accuracy: 0.6714 - val_loss: 0.5189 - val_accuracy: 0.6667\n",
            "Epoch 5/10\n",
            "45/45 [==============================] - 113s 3s/step - loss: 0.5006 - accuracy: 0.6997 - val_loss: 0.5221 - val_accuracy: 0.6000\n",
            "Epoch 6/10\n",
            "45/45 [==============================] - 117s 3s/step - loss: 0.5033 - accuracy: 0.6912 - val_loss: 0.5053 - val_accuracy: 0.6556\n",
            "Epoch 7/10\n",
            "45/45 [==============================] - 116s 3s/step - loss: 0.4983 - accuracy: 0.6771 - val_loss: 0.5078 - val_accuracy: 0.6444\n",
            "              precision    recall  f1-score   support\n",
            "\n",
            "  Lungcancer       0.75      0.64      0.69        33\n",
            "      Normal       0.59      1.00      0.74        26\n",
            "Tuberculosis       0.61      0.35      0.45        31\n",
            "\n",
            "    accuracy                           0.64        90\n",
            "   macro avg       0.65      0.66      0.63        90\n",
            "weighted avg       0.66      0.64      0.62        90\n",
            "\n",
            "Fold #3\n",
            "Epoch 1/10\n",
            "45/45 [==============================] - 106s 2s/step - loss: 0.4905 - accuracy: 0.6884 - val_loss: 0.4749 - val_accuracy: 0.7111\n",
            "Epoch 2/10\n",
            "45/45 [==============================] - 123s 3s/step - loss: 0.4884 - accuracy: 0.7280 - val_loss: 0.4693 - val_accuracy: 0.7333\n",
            "Epoch 3/10\n",
            "45/45 [==============================] - 119s 3s/step - loss: 0.4804 - accuracy: 0.6969 - val_loss: 0.4753 - val_accuracy: 0.7333\n",
            "Epoch 4/10\n",
            "45/45 [==============================] - 120s 3s/step - loss: 0.4842 - accuracy: 0.6941 - val_loss: 0.4645 - val_accuracy: 0.6889\n",
            "Epoch 5/10\n",
            "45/45 [==============================] - 120s 3s/step - loss: 0.4674 - accuracy: 0.7252 - val_loss: 0.4591 - val_accuracy: 0.7222\n",
            "              precision    recall  f1-score   support\n",
            "\n",
            "  Lungcancer       0.68      0.59      0.63        29\n",
            "      Normal       0.73      1.00      0.85        33\n",
            "Tuberculosis       0.75      0.54      0.63        28\n",
            "\n",
            "    accuracy                           0.72        90\n",
            "   macro avg       0.72      0.71      0.70        90\n",
            "weighted avg       0.72      0.72      0.71        90\n",
            "\n",
            "Fold #4\n",
            "Epoch 1/10\n",
            "45/45 [==============================] - 103s 2s/step - loss: 0.4594 - accuracy: 0.7195 - val_loss: 0.4837 - val_accuracy: 0.6333\n",
            "Epoch 2/10\n",
            "45/45 [==============================] - 107s 2s/step - loss: 0.4530 - accuracy: 0.7337 - val_loss: 0.4847 - val_accuracy: 0.6222\n",
            "Epoch 3/10\n",
            "45/45 [==============================] - 109s 2s/step - loss: 0.4543 - accuracy: 0.6941 - val_loss: 0.4844 - val_accuracy: 0.6333\n",
            "Epoch 4/10\n",
            "45/45 [==============================] - 107s 2s/step - loss: 0.4512 - accuracy: 0.7224 - val_loss: 0.4916 - val_accuracy: 0.6000\n",
            "              precision    recall  f1-score   support\n",
            "\n",
            "  Lungcancer       1.00      0.37      0.54        30\n",
            "      Normal       0.54      1.00      0.70        31\n",
            "Tuberculosis       0.55      0.41      0.47        29\n",
            "\n",
            "    accuracy                           0.60        90\n",
            "   macro avg       0.70      0.59      0.57        90\n",
            "weighted avg       0.70      0.60      0.57        90\n",
            "\n",
            "Fold #5\n",
            "Epoch 1/10\n",
            "45/45 [==============================] - 108s 2s/step - loss: 0.4491 - accuracy: 0.7195 - val_loss: 0.4411 - val_accuracy: 0.7556\n",
            "Epoch 2/10\n",
            "45/45 [==============================] - 104s 2s/step - loss: 0.4494 - accuracy: 0.7337 - val_loss: 0.4403 - val_accuracy: 0.7667\n",
            "Epoch 3/10\n",
            "45/45 [==============================] - 103s 2s/step - loss: 0.4470 - accuracy: 0.7422 - val_loss: 0.4434 - val_accuracy: 0.7444\n",
            "Epoch 4/10\n",
            "45/45 [==============================] - 102s 2s/step - loss: 0.4373 - accuracy: 0.7224 - val_loss: 0.4370 - val_accuracy: 0.7667\n",
            "Epoch 5/10\n",
            "45/45 [==============================] - 102s 2s/step - loss: 0.4469 - accuracy: 0.7054 - val_loss: 0.4377 - val_accuracy: 0.7778\n",
            "Epoch 6/10\n",
            "45/45 [==============================] - 102s 2s/step - loss: 0.4335 - accuracy: 0.7252 - val_loss: 0.4308 - val_accuracy: 0.7444\n",
            "Epoch 7/10\n",
            "45/45 [==============================] - 102s 2s/step - loss: 0.4365 - accuracy: 0.7224 - val_loss: 0.4266 - val_accuracy: 0.7889\n",
            "Epoch 8/10\n",
            "45/45 [==============================] - 103s 2s/step - loss: 0.4266 - accuracy: 0.7280 - val_loss: 0.4316 - val_accuracy: 0.7667\n",
            "Epoch 9/10\n",
            "45/45 [==============================] - 104s 2s/step - loss: 0.4251 - accuracy: 0.7365 - val_loss: 0.4242 - val_accuracy: 0.7889\n",
            "Epoch 10/10\n",
            "45/45 [==============================] - 103s 2s/step - loss: 0.4309 - accuracy: 0.7280 - val_loss: 0.4230 - val_accuracy: 0.7778\n",
            "              precision    recall  f1-score   support\n",
            "\n",
            "  Lungcancer       0.83      0.80      0.81        30\n",
            "      Normal       0.72      1.00      0.84        28\n",
            "Tuberculosis       0.82      0.56      0.67        32\n",
            "\n",
            "    accuracy                           0.78        90\n",
            "   macro avg       0.79      0.79      0.77        90\n",
            "weighted avg       0.79      0.78      0.77        90\n",
            "\n"
          ]
        }
      ]
    },
    {
      "cell_type": "code",
      "source": [
        ""
      ],
      "metadata": {
        "id": "RO1ZE4g_AmKP"
      },
      "execution_count": null,
      "outputs": []
    },
    {
      "cell_type": "markdown",
      "source": [
        "### Find Tuning"
      ],
      "metadata": {
        "id": "i0p8o7zHG8dn"
      }
    },
    {
      "cell_type": "code",
      "source": [
        "base_model3_Incep = tf.keras.applications.InceptionV3(input_shape=(299, 299, 3), include_top=False, weights=\"imagenet\")\n",
        "len(base_model3_Incep.layers)"
      ],
      "metadata": {
        "id": "Qtx4J9gxHOc0",
        "outputId": "9952498f-a061-4009-e91a-12c6cb012362",
        "colab": {
          "base_uri": "https://localhost:8080/"
        }
      },
      "execution_count": null,
      "outputs": [
        {
          "output_type": "stream",
          "name": "stdout",
          "text": [
            "Downloading data from https://storage.googleapis.com/tensorflow/keras-applications/inception_v3/inception_v3_weights_tf_dim_ordering_tf_kernels_notop.h5\n",
            "87916544/87910968 [==============================] - 1s 0us/step\n",
            "87924736/87910968 [==============================] - 1s 0us/step\n"
          ]
        },
        {
          "output_type": "execute_result",
          "data": {
            "text/plain": [
              "311"
            ]
          },
          "metadata": {},
          "execution_count": 23
        }
      ]
    },
    {
      "cell_type": "code",
      "source": [
        "base_model3_Incep.trainable = True\n",
        "for layer in base_model3_Incep.layers[:100]:    #fix w & bias in layer 0-100\n",
        "    layer.trainable = False"
      ],
      "metadata": {
        "id": "cBRoi-ouHOc0"
      },
      "execution_count": null,
      "outputs": []
    },
    {
      "cell_type": "code",
      "source": [
        "#Add custom head\n",
        "average_pooling_layer = tf.keras.layers.GlobalAveragePooling2D()(base_model3_Incep.output)\n",
        "\n",
        "prediction_layer = tf.keras.layers.Dense(units=3, activation=\"softmax\")(average_pooling_layer)   # unit 3\n",
        "model3_IncepF = tf.keras.models.Model(inputs=base_model3_Incep.input, outputs=prediction_layer)\n",
        "\n",
        "model3_IncepF.compile(optimizer=tf.keras.optimizers.RMSprop(learning_rate=0.0001), loss=\"binary_crossentropy\", metrics=[\"accuracy\"])"
      ],
      "metadata": {
        "id": "W1xo9WB4Hfia"
      },
      "execution_count": null,
      "outputs": []
    },
    {
      "cell_type": "code",
      "source": [
        ""
      ],
      "metadata": {
        "id": "v7ycY1hBF8Et"
      },
      "execution_count": null,
      "outputs": []
    },
    {
      "cell_type": "code",
      "source": [
        "kf3_Incep = KFold(5, shuffle=True, random_state=40) \n",
        "\n",
        "oos_y = []\n",
        "oos_pred = []\n",
        "fold = 0\n",
        "\n",
        "for train, test in kf3_Incep.split(data3_Incep):\n",
        "    fold+=1\n",
        "    print(f\"Fold #{fold}\")\n",
        "        \n",
        "    x_train3_Incep = data3_Incep[train]\n",
        "    y_train3_Incep = labels3_Incep[train]\n",
        "    x_test3_Incep = data3_Incep[test]\n",
        "    y_test3_Incep = labels3_Incep[test]\n",
        "\n",
        "    H3_IncepF = model3_IncepF.fit( x=aug.flow(x_train3_Incep, y_train3_Incep, batch_size=BS),\n",
        "\t                                            validation_data=(x_test3_Incep, y_test3_Incep),\n",
        "\t                                            steps_per_epoch=len(x_train3_Incep) // BS,\n",
        "\t                                            epochs=10,  callbacks = [callback])\n",
        "    \n",
        "    pred3_IncepF = model3_IncepF.predict(x_test3_Incep)\n",
        "    \n",
        "    oos_y.append(y_test3_Incep)\n",
        "    oos_pred.append(pred3_IncepF)  \n",
        "    print(classification_report(y_test3_Incep.argmax(axis=1),\t                #แสดง report ค่า acc, recall, ...\n",
        "                                        pred3_IncepF.argmax(axis=1),  \n",
        "                                        target_names=le3_Incep.classes_))\n",
        "\n",
        "#   score = metrics.accuracy_score(y_test3_Incep.argmax(axis=1),\t        #ค่า acc\n",
        "#                                               pred3_IncepF.argmax(axis=1)\n",
        "#    print(f\"Fold score (accuracy): {score}\")\n",
        "\n",
        "#    print(confusion_matrix(testY3_Incep.argmax(axis=1),\t                       #แสดง confusion_matrix\n",
        "#                        pred3_IncepF.argmax(axis=1) ) )"
      ],
      "metadata": {
        "id": "m0uPRBNJHC6B",
        "outputId": "e7fbc288-8a77-4613-d9a2-df91542fba08",
        "colab": {
          "base_uri": "https://localhost:8080/"
        }
      },
      "execution_count": null,
      "outputs": [
        {
          "output_type": "stream",
          "name": "stdout",
          "text": [
            "Fold #1\n",
            "Epoch 1/10\n",
            "45/45 [==============================] - 229s 5s/step - loss: 0.1901 - accuracy: 0.9083 - val_loss: 0.2771 - val_accuracy: 0.8022\n",
            "Epoch 2/10\n",
            "45/45 [==============================] - 216s 5s/step - loss: 0.1354 - accuracy: 0.9389 - val_loss: 0.2132 - val_accuracy: 0.8901\n",
            "Epoch 3/10\n",
            "45/45 [==============================] - 216s 5s/step - loss: 0.0830 - accuracy: 0.9528 - val_loss: 0.5512 - val_accuracy: 0.7582\n",
            "Epoch 4/10\n",
            "45/45 [==============================] - 222s 5s/step - loss: 0.1230 - accuracy: 0.9306 - val_loss: 0.0415 - val_accuracy: 0.9780\n",
            "Epoch 5/10\n",
            "45/45 [==============================] - 215s 5s/step - loss: 0.1256 - accuracy: 0.9306 - val_loss: 0.0386 - val_accuracy: 0.9780\n",
            "Epoch 6/10\n",
            "45/45 [==============================] - 214s 5s/step - loss: 0.0879 - accuracy: 0.9528 - val_loss: 0.3020 - val_accuracy: 0.8681\n",
            "Epoch 7/10\n",
            "45/45 [==============================] - 215s 5s/step - loss: 0.0788 - accuracy: 0.9444 - val_loss: 0.0719 - val_accuracy: 0.9451\n",
            "              precision    recall  f1-score   support\n",
            "\n",
            "  Lungcancer       1.00      0.82      0.90        28\n",
            "      Normal       1.00      1.00      1.00        33\n",
            "Tuberculosis       0.86      1.00      0.92        30\n",
            "\n",
            "    accuracy                           0.95        91\n",
            "   macro avg       0.95      0.94      0.94        91\n",
            "weighted avg       0.95      0.95      0.94        91\n",
            "\n",
            "Fold #2\n",
            "Epoch 1/10\n",
            "45/45 [==============================] - 216s 5s/step - loss: 0.1144 - accuracy: 0.9462 - val_loss: 0.0168 - val_accuracy: 1.0000\n",
            "Epoch 2/10\n",
            "45/45 [==============================] - 211s 5s/step - loss: 0.0618 - accuracy: 0.9745 - val_loss: 0.0525 - val_accuracy: 0.9667\n",
            "Epoch 3/10\n",
            "45/45 [==============================] - 212s 5s/step - loss: 0.0490 - accuracy: 0.9717 - val_loss: 0.0601 - val_accuracy: 0.9667\n",
            "Epoch 4/10\n",
            "45/45 [==============================] - 214s 5s/step - loss: 0.0575 - accuracy: 0.9688 - val_loss: 0.0126 - val_accuracy: 1.0000\n",
            "              precision    recall  f1-score   support\n",
            "\n",
            "  Lungcancer       1.00      1.00      1.00        33\n",
            "      Normal       1.00      1.00      1.00        26\n",
            "Tuberculosis       1.00      1.00      1.00        31\n",
            "\n",
            "    accuracy                           1.00        90\n",
            "   macro avg       1.00      1.00      1.00        90\n",
            "weighted avg       1.00      1.00      1.00        90\n",
            "\n",
            "Fold #3\n",
            "Epoch 1/10\n",
            "45/45 [==============================] - 211s 5s/step - loss: 0.0453 - accuracy: 0.9887 - val_loss: 0.0180 - val_accuracy: 1.0000\n",
            "Epoch 2/10\n",
            "45/45 [==============================] - 211s 5s/step - loss: 0.0676 - accuracy: 0.9688 - val_loss: 0.0473 - val_accuracy: 0.9667\n",
            "Epoch 3/10\n",
            "45/45 [==============================] - 210s 5s/step - loss: 0.0781 - accuracy: 0.9547 - val_loss: 0.4093 - val_accuracy: 0.8222\n",
            "Epoch 4/10\n",
            "45/45 [==============================] - 211s 5s/step - loss: 0.0558 - accuracy: 0.9745 - val_loss: 0.2606 - val_accuracy: 0.8444\n",
            "              precision    recall  f1-score   support\n",
            "\n",
            "  Lungcancer       1.00      0.62      0.77        29\n",
            "      Normal       1.00      0.91      0.95        33\n",
            "Tuberculosis       0.67      1.00      0.80        28\n",
            "\n",
            "    accuracy                           0.84        90\n",
            "   macro avg       0.89      0.84      0.84        90\n",
            "weighted avg       0.90      0.84      0.84        90\n",
            "\n",
            "Fold #4\n",
            "Epoch 1/10\n",
            "45/45 [==============================] - 210s 5s/step - loss: 0.0564 - accuracy: 0.9688 - val_loss: 0.5261 - val_accuracy: 0.7444\n",
            "Epoch 2/10\n",
            "45/45 [==============================] - 210s 5s/step - loss: 0.0606 - accuracy: 0.9717 - val_loss: 0.8339 - val_accuracy: 0.6778\n",
            "Epoch 3/10\n",
            "45/45 [==============================] - 212s 5s/step - loss: 0.0729 - accuracy: 0.9603 - val_loss: 0.0695 - val_accuracy: 0.9556\n",
            "Epoch 4/10\n",
            "45/45 [==============================] - 212s 5s/step - loss: 0.0355 - accuracy: 0.9915 - val_loss: 0.0791 - val_accuracy: 0.9556\n",
            "Epoch 5/10\n",
            "45/45 [==============================] - 212s 5s/step - loss: 0.0283 - accuracy: 0.9943 - val_loss: 0.4761 - val_accuracy: 0.8333\n",
            "Epoch 6/10\n",
            "45/45 [==============================] - 212s 5s/step - loss: 0.0624 - accuracy: 0.9745 - val_loss: 0.0508 - val_accuracy: 0.9889\n",
            "Epoch 7/10\n",
            "45/45 [==============================] - 212s 5s/step - loss: 0.0556 - accuracy: 0.9660 - val_loss: 0.0760 - val_accuracy: 0.9556\n",
            "Epoch 8/10\n",
            "45/45 [==============================] - 211s 5s/step - loss: 0.0406 - accuracy: 0.9858 - val_loss: 0.0235 - val_accuracy: 0.9778\n",
            "Epoch 9/10\n",
            "45/45 [==============================] - 212s 5s/step - loss: 0.0303 - accuracy: 0.9858 - val_loss: 0.1265 - val_accuracy: 0.9111\n",
            "              precision    recall  f1-score   support\n",
            "\n",
            "  Lungcancer       1.00      0.87      0.93        30\n",
            "      Normal       1.00      0.87      0.93        31\n",
            "Tuberculosis       0.78      1.00      0.88        29\n",
            "\n",
            "    accuracy                           0.91        90\n",
            "   macro avg       0.93      0.91      0.91        90\n",
            "weighted avg       0.93      0.91      0.91        90\n",
            "\n",
            "Fold #5\n",
            "Epoch 1/10\n",
            "45/45 [==============================] - 213s 5s/step - loss: 0.0543 - accuracy: 0.9802 - val_loss: 0.0108 - val_accuracy: 1.0000\n",
            "Epoch 2/10\n",
            "45/45 [==============================] - 212s 5s/step - loss: 0.0372 - accuracy: 0.9858 - val_loss: 0.0047 - val_accuracy: 1.0000\n",
            "Epoch 3/10\n",
            "45/45 [==============================] - 212s 5s/step - loss: 0.0201 - accuracy: 0.9915 - val_loss: 2.4023e-04 - val_accuracy: 1.0000\n",
            "Epoch 4/10\n",
            "45/45 [==============================] - 211s 5s/step - loss: 0.0334 - accuracy: 0.9915 - val_loss: 4.4065e-04 - val_accuracy: 1.0000\n",
            "              precision    recall  f1-score   support\n",
            "\n",
            "  Lungcancer       1.00      1.00      1.00        30\n",
            "      Normal       1.00      1.00      1.00        28\n",
            "Tuberculosis       1.00      1.00      1.00        32\n",
            "\n",
            "    accuracy                           1.00        90\n",
            "   macro avg       1.00      1.00      1.00        90\n",
            "weighted avg       1.00      1.00      1.00        90\n",
            "\n"
          ]
        }
      ]
    },
    {
      "cell_type": "code",
      "source": [
        ""
      ],
      "metadata": {
        "id": "2wUR__fAeG7W"
      },
      "execution_count": null,
      "outputs": []
    },
    {
      "cell_type": "markdown",
      "source": [
        "### dump(save)/load sklearn model"
      ],
      "metadata": {
        "id": "tPoNSS2Zelke"
      }
    },
    {
      "cell_type": "code",
      "source": [
        "import joblib"
      ],
      "metadata": {
        "id": "AAgrsXYEelkf"
      },
      "execution_count": null,
      "outputs": []
    },
    {
      "cell_type": "code",
      "source": [
        "joblib.dump(model3_IncepF, 'model3_IncepF.joblib')  "
      ],
      "metadata": {
        "outputId": "17020f38-bb50-4d19-9075-dfb97d61c3a1",
        "colab": {
          "base_uri": "https://localhost:8080/"
        },
        "id": "mcNqbIabelkf"
      },
      "execution_count": null,
      "outputs": [
        {
          "output_type": "stream",
          "name": "stdout",
          "text": [
            "INFO:tensorflow:Assets written to: ram://ededb2da-3c99-41fc-ae25-33a2dcf58411/assets\n"
          ]
        },
        {
          "output_type": "execute_result",
          "data": {
            "text/plain": [
              "['model3_IncepF.joblib']"
            ]
          },
          "metadata": {},
          "execution_count": 35
        }
      ]
    },
    {
      "cell_type": "code",
      "source": [
        "IncepF= joblib.load('model3_IncepF.joblib')"
      ],
      "metadata": {
        "id": "4EkzB2tuelkg"
      },
      "execution_count": null,
      "outputs": []
    },
    {
      "cell_type": "code",
      "source": [
        "IncepF"
      ],
      "metadata": {
        "outputId": "a7381ef3-5818-4009-95d0-8aff07cf44c0",
        "colab": {
          "base_uri": "https://localhost:8080/"
        },
        "id": "_s9tEW9telkg"
      },
      "execution_count": null,
      "outputs": [
        {
          "output_type": "execute_result",
          "data": {
            "text/plain": [
              "<keras.engine.functional.Functional at 0x7feb00e6cf90>"
            ]
          },
          "metadata": {},
          "execution_count": 41
        }
      ]
    },
    {
      "cell_type": "markdown",
      "source": [
        "joblib2"
      ],
      "metadata": {
        "id": "IKElkyQ5qVUm"
      }
    },
    {
      "cell_type": "code",
      "source": [
        "# save the model to disk\n",
        "joblib.dump(model3_IncepF, 'model_IncepF.sav')"
      ],
      "metadata": {
        "colab": {
          "base_uri": "https://localhost:8080/"
        },
        "id": "FgOJWY2yqx4y",
        "outputId": "1a9af313-114a-4b2f-8a1b-574ef1f391ca"
      },
      "execution_count": null,
      "outputs": [
        {
          "output_type": "stream",
          "name": "stdout",
          "text": [
            "INFO:tensorflow:Assets written to: ram://d0785a86-829d-4bad-9664-8a41b43e78cd/assets\n"
          ]
        },
        {
          "output_type": "execute_result",
          "data": {
            "text/plain": [
              "['model_IncepF.sav']"
            ]
          },
          "metadata": {},
          "execution_count": 40
        }
      ]
    },
    {
      "cell_type": "code",
      "source": [
        "# load the model from disk\n",
        "loaded_model = joblib.load('model_IncepF.sav')\n",
        "\n",
        "result = loaded_model.score(X_test, Y_test)\n",
        "print(result)"
      ],
      "metadata": {
        "id": "BznkMLUGqUPg"
      },
      "execution_count": null,
      "outputs": []
    },
    {
      "cell_type": "code",
      "source": [
        ""
      ],
      "metadata": {
        "id": "gFMM35eQqUKQ"
      },
      "execution_count": null,
      "outputs": []
    },
    {
      "cell_type": "code",
      "source": [
        "import pickle"
      ],
      "metadata": {
        "id": "RReSb6YZpZQ_"
      },
      "execution_count": null,
      "outputs": []
    },
    {
      "cell_type": "code",
      "source": [
        "# save the model to disk\n",
        "pickle.dump(model3_IncepF, open('model_IncepF2.pkl', 'wb'))"
      ],
      "metadata": {
        "outputId": "e9851c59-0243-435a-c2d4-fb95c4491a23",
        "colab": {
          "base_uri": "https://localhost:8080/"
        },
        "id": "3AfG2DbgrNGi"
      },
      "execution_count": null,
      "outputs": [
        {
          "output_type": "stream",
          "name": "stdout",
          "text": [
            "INFO:tensorflow:Assets written to: ram://44e214a6-0132-47f5-a913-16ef8607a88b/assets\n"
          ]
        }
      ]
    },
    {
      "cell_type": "code",
      "source": [
        ""
      ],
      "metadata": {
        "id": "E0vuQV5prKuP"
      },
      "execution_count": null,
      "outputs": []
    },
    {
      "cell_type": "code",
      "source": [
        "# save the model to disk\n",
        "pickle.dump(model3_IncepF, open('model_IncepF2.sav', 'wb'))"
      ],
      "metadata": {
        "colab": {
          "base_uri": "https://localhost:8080/"
        },
        "id": "2QflNskPelkg",
        "outputId": "554ac5a1-6cdc-4fe5-aa15-e36ae0aad261"
      },
      "execution_count": null,
      "outputs": [
        {
          "output_type": "stream",
          "name": "stdout",
          "text": [
            "INFO:tensorflow:Assets written to: ram://a5cf700f-da21-4005-a99c-d4f98b9dbc59/assets\n"
          ]
        }
      ]
    },
    {
      "cell_type": "code",
      "source": [
        "# load the model from disk\n",
        "loaded_model = pickle.load(open('model_IncepF2.sav', 'rb'))\n",
        "\n",
        "result = loaded_model.score(X_test, Y_test)\n",
        "print(result)"
      ],
      "metadata": {
        "id": "N-PZ6F3meG4i"
      },
      "execution_count": null,
      "outputs": []
    },
    {
      "cell_type": "code",
      "source": [
        ""
      ],
      "metadata": {
        "id": "JV_45XPeSUx4"
      },
      "execution_count": null,
      "outputs": []
    },
    {
      "cell_type": "code",
      "source": [
        ""
      ],
      "metadata": {
        "id": "Axtat_tcSUpw"
      },
      "execution_count": null,
      "outputs": []
    },
    {
      "cell_type": "markdown",
      "source": [
        "ลองทำนายด้วยข้อมูลเดิมที่เทรน"
      ],
      "metadata": {
        "id": "JSUHivBKSVxG"
      }
    },
    {
      "cell_type": "code",
      "source": [
        "pred3_IncepF = model3_IncepF.predict(x_test3_Incep)\n",
        " \n",
        "print(classification_report(y_test3_Incep.argmax(axis=1),\t                #แสดง report ค่า acc, recall, ...\n",
        "                                        pred3_IncepF.argmax(axis=1),  \n",
        "                                        target_names=le3_Incep.classes_))"
      ],
      "metadata": {
        "id": "XJoNieGwSgxr",
        "outputId": "2454b2fc-2d5a-45aa-a7c9-37c272638388",
        "colab": {
          "base_uri": "https://localhost:8080/"
        }
      },
      "execution_count": null,
      "outputs": [
        {
          "output_type": "stream",
          "name": "stdout",
          "text": [
            "              precision    recall  f1-score   support\n",
            "\n",
            "  Lungcancer       1.00      1.00      1.00        30\n",
            "      Normal       1.00      1.00      1.00        28\n",
            "Tuberculosis       1.00      1.00      1.00        32\n",
            "\n",
            "    accuracy                           1.00        90\n",
            "   macro avg       1.00      1.00      1.00        90\n",
            "weighted avg       1.00      1.00      1.00        90\n",
            "\n"
          ]
        }
      ]
    },
    {
      "cell_type": "code",
      "source": [
        ""
      ],
      "metadata": {
        "id": "9nmNmCVXSnNp"
      },
      "execution_count": null,
      "outputs": []
    },
    {
      "cell_type": "markdown",
      "source": [
        "ข้อมูล ทดสอบ"
      ],
      "metadata": {
        "id": "_nF800YDSuzy"
      }
    },
    {
      "cell_type": "code",
      "source": [
        "len(data_test)"
      ],
      "metadata": {
        "id": "8LxMf6MdTBK8",
        "outputId": "71a04493-6f8b-4e19-c317-8ca4a84f0e8d",
        "colab": {
          "base_uri": "https://localhost:8080/"
        }
      },
      "execution_count": null,
      "outputs": [
        {
          "output_type": "execute_result",
          "data": {
            "text/plain": [
              "70"
            ]
          },
          "metadata": {},
          "execution_count": 61
        }
      ]
    },
    {
      "cell_type": "code",
      "source": [
        "len(labels_test)"
      ],
      "metadata": {
        "id": "vWgYn-BYTJHL",
        "outputId": "50d9805e-1013-46e1-e371-8cbc547fedfc",
        "colab": {
          "base_uri": "https://localhost:8080/"
        }
      },
      "execution_count": null,
      "outputs": [
        {
          "output_type": "execute_result",
          "data": {
            "text/plain": [
              "70"
            ]
          },
          "metadata": {},
          "execution_count": 62
        }
      ]
    },
    {
      "cell_type": "code",
      "source": [
        "pred_IncepF_jop = model3_IncepF.predict(data_test, batch_size=7)"
      ],
      "metadata": {
        "id": "eDZIu1_uJthO"
      },
      "execution_count": null,
      "outputs": []
    },
    {
      "cell_type": "code",
      "source": [
        "print(classification_report(labels_test.argmax(axis=1),\t                #แสดง report ค่า acc, recall, ...\n",
        "                                    pred_IncepF_jop.argmax(axis=1),  \n",
        "                                    target_names=le3_Incep.classes_))"
      ],
      "metadata": {
        "colab": {
          "base_uri": "https://localhost:8080/"
        },
        "id": "a4ZGPt_hJter",
        "outputId": "f8649cdb-c37b-45c5-cf86-f0c418f6a5dd"
      },
      "execution_count": null,
      "outputs": [
        {
          "output_type": "stream",
          "name": "stdout",
          "text": [
            "              precision    recall  f1-score   support\n",
            "\n",
            "  Lungcancer       0.38      1.00      0.56        10\n",
            "      Normal       1.00      0.03      0.06        30\n",
            "Tuberculosis       0.33      0.47      0.38        30\n",
            "\n",
            "    accuracy                           0.36        70\n",
            "   macro avg       0.57      0.50      0.33        70\n",
            "weighted avg       0.62      0.36      0.27        70\n",
            "\n"
          ]
        }
      ]
    },
    {
      "cell_type": "code",
      "source": [
        ""
      ],
      "metadata": {
        "id": "vlEdh-AmSoQM"
      },
      "execution_count": null,
      "outputs": []
    },
    {
      "cell_type": "code",
      "source": [
        "print(classification_report(labels_test.argmax(axis=1),\t                #แสดง report ค่า acc, recall, ...\n",
        "                                    pred_IncepF_jop.argmax(axis=1),  \n",
        "                                    target_names=le3_Incep.classes_))"
      ],
      "metadata": {
        "colab": {
          "base_uri": "https://localhost:8080/"
        },
        "outputId": "8a747a6d-b2e3-4395-953a-ae1ab14a06a2",
        "id": "BtRYltXrS9do"
      },
      "execution_count": null,
      "outputs": [
        {
          "output_type": "stream",
          "name": "stdout",
          "text": [
            "              precision    recall  f1-score   support\n",
            "\n",
            "  Lungcancer       0.30      1.00      0.47        10\n",
            "      Normal       1.00      0.07      0.12        30\n",
            "Tuberculosis       0.20      0.23      0.22        30\n",
            "\n",
            "    accuracy                           0.27        70\n",
            "   macro avg       0.50      0.43      0.27        70\n",
            "weighted avg       0.56      0.27      0.21        70\n",
            "\n"
          ]
        }
      ]
    },
    {
      "cell_type": "code",
      "source": [
        ""
      ],
      "metadata": {
        "id": "jYif4fz6SoNf"
      },
      "execution_count": null,
      "outputs": []
    },
    {
      "cell_type": "code",
      "source": [
        ""
      ],
      "metadata": {
        "id": "mbTD4cJQSUi9"
      },
      "execution_count": null,
      "outputs": []
    },
    {
      "cell_type": "markdown",
      "source": [
        "###แบ่งข้อมูล3\n",
        "เลข 3 หมายถึงมี 3 คลาส"
      ],
      "metadata": {
        "id": "gNIQc2FfmJBn"
      }
    },
    {
      "cell_type": "code",
      "source": [
        "train_img3_Incep = []\n",
        "for ImageName in tqdm(data_train3['ImageName']):               # รัน ชื่อรูป ในไฟล์ data_test3\n",
        "    image_path = All_3class_dir +'/' + ImageName                             # ดึงรูปในโฟล์เดอร์มาทีละรูป\n",
        "    img = cv2.imread(image_path)                                            # อ่านรูป\n",
        "    img = cv2.resize(img, (299, 299))                                   #ขนาดของ input\n",
        "    train_img3_Incep.append(img)"
      ],
      "metadata": {
        "colab": {
          "base_uri": "https://localhost:8080/"
        },
        "outputId": "dc4a1ff8-1dab-468d-80bb-30643a2e0226",
        "id": "QIEmk3k_mJBo"
      },
      "execution_count": null,
      "outputs": [
        {
          "output_type": "stream",
          "name": "stderr",
          "text": [
            "100%|██████████| 451/451 [00:06<00:00, 70.71it/s]\n"
          ]
        }
      ]
    },
    {
      "cell_type": "code",
      "source": [
        "data3_Incep = np.array(train_img3_Incep, dtype=\"float32\") / 255.0"
      ],
      "metadata": {
        "id": "e9_AmEytmJBo"
      },
      "execution_count": null,
      "outputs": []
    },
    {
      "cell_type": "code",
      "source": [
        "labels3_Incep = np.array(data_train3[['NameType']] )        \n",
        "labels3_Incep.shape = (len(labels3_Incep),) \n",
        "\n",
        "le3_Incep = LabelEncoder()                                                                     \n",
        "labels3_Incep = le3_Incep.fit_transform(labels3_Incep)                                         #จะแปลงชื่อ class เป็นตัวเลข 1, 2, 0 \n",
        "\n",
        "labels3_Incep = to_categorical(labels3_Incep, num_classes=3)                   #shape (180, 3) มีค่าเป็น  [0., 1., 0.]  กับ   [0., 0., 1.] กับ  [1., 0., 0.]"
      ],
      "metadata": {
        "id": "7vaJjHgW_Kxq"
      },
      "execution_count": null,
      "outputs": []
    },
    {
      "cell_type": "code",
      "source": [
        "(trainX3_Incep, testX3_Incep, trainY3_Incep, testY3_Incep) = train_test_split(data3_Incep, labels3_Incep,\n",
        "\t                                        \t\t\t\t\t\t\t\t\t\t\ttest_size=0.25, random_state=40)"
      ],
      "metadata": {
        "id": "-EV1UI6ZmJBp"
      },
      "execution_count": null,
      "outputs": []
    },
    {
      "cell_type": "code",
      "source": [
        "le3_Incep.classes_"
      ],
      "metadata": {
        "outputId": "0e1ca604-f989-4d70-e3de-78dbd3f1bcf5",
        "colab": {
          "base_uri": "https://localhost:8080/"
        },
        "id": "0sndl8OqmJBp"
      },
      "execution_count": null,
      "outputs": [
        {
          "output_type": "execute_result",
          "data": {
            "text/plain": [
              "array(['Lungcancer', 'Normal', 'Tuberculosis'], dtype=object)"
            ]
          },
          "metadata": {},
          "execution_count": 36
        }
      ]
    },
    {
      "cell_type": "markdown",
      "source": [
        "### train3"
      ],
      "metadata": {
        "id": "DplnLBt3mJBp"
      }
    },
    {
      "cell_type": "code",
      "source": [
        "# initialize the initial learning rate, batch size, and number of\n",
        "# epochs to train for\n",
        "INIT_LR = 1e-1\n",
        "BS = 8\n",
        "EPOCHS = 50"
      ],
      "metadata": {
        "id": "HgJblT6omJBp"
      },
      "execution_count": null,
      "outputs": []
    },
    {
      "cell_type": "code",
      "source": [
        "# initialize an our data augmenter as an \"empty\" image data generator\n",
        "aug = ImageDataGenerator(\n",
        "\t\trotation_range=20,\n",
        "\t\tzoom_range=0.15,\n",
        "\t\twidth_shift_range=0.15,\n",
        "\t\theight_shift_range=0.15,\n",
        "\t\tshear_range=0.15,\n",
        "\t\thorizontal_flip=True,\n",
        "\t\tfill_mode=\"nearest\")"
      ],
      "metadata": {
        "id": "_CDMFC6QmJBp"
      },
      "execution_count": null,
      "outputs": []
    },
    {
      "cell_type": "markdown",
      "source": [
        "InceptionV3"
      ],
      "metadata": {
        "id": "EM3Bx5MNmJBq"
      }
    },
    {
      "cell_type": "code",
      "source": [
        "base_model3_Incep = tf.keras.applications.InceptionV3(input_shape=(299, 299, 3), include_top=False, weights=\"imagenet\")"
      ],
      "metadata": {
        "id": "fCJuitF5mJBq"
      },
      "execution_count": null,
      "outputs": []
    },
    {
      "cell_type": "code",
      "source": [
        "base_model3_Incep.trainable=False\n",
        "\n",
        "#Add custom head\n",
        "average_pooling_layer = tf.keras.layers.GlobalAveragePooling2D()(base_model3_Incep.output)\n",
        "prediction_layer = tf.keras.layers.Dense(units=3, activation=\"softmax\")(average_pooling_layer)   # unit 3\n",
        "model3_Incep = tf.keras.models.Model(inputs=base_model3_Incep.input, outputs=prediction_layer)"
      ],
      "metadata": {
        "id": "SdRQM74tmJBq"
      },
      "execution_count": null,
      "outputs": []
    },
    {
      "cell_type": "code",
      "source": [
        "model3_Incep.compile(optimizer=tf.keras.optimizers.RMSprop(lr=0.0001), loss=\"binary_crossentropy\", metrics=[\"accuracy\"])"
      ],
      "metadata": {
        "outputId": "dc34d2c5-fa5d-4dc2-ca96-7a829fce5d28",
        "colab": {
          "base_uri": "https://localhost:8080/"
        },
        "id": "JimPrvZYmJBr"
      },
      "execution_count": null,
      "outputs": [
        {
          "output_type": "stream",
          "name": "stderr",
          "text": [
            "/usr/local/lib/python3.7/dist-packages/keras/optimizer_v2/rmsprop.py:130: UserWarning: The `lr` argument is deprecated, use `learning_rate` instead.\n",
            "  super(RMSprop, self).__init__(name, **kwargs)\n"
          ]
        }
      ]
    },
    {
      "cell_type": "code",
      "source": [
        "callback = tf.keras.callbacks.EarlyStopping(\n",
        "    monitor=\"val_accuracy\",\n",
        "    patience=,\n",
        "    mode=\"max\"\n",
        ")"
      ],
      "metadata": {
        "id": "_4dQArsPmdQZ"
      },
      "execution_count": null,
      "outputs": []
    },
    {
      "cell_type": "code",
      "source": [
        "H3_Incep = model3_Incep.fit(\n",
        "\tx=aug.flow(trainX3_Incep, trainY3_Incep, batch_size=BS),\n",
        "\tvalidation_data=(testX3_Incep, testY3_Incep),\n",
        "\tsteps_per_epoch=len(trainX3_Incep) // BS,\n",
        "\tepochs=10, \n",
        "\tcallbacks = [callback])"
      ],
      "metadata": {
        "outputId": "f9bbcc62-3a1a-42ba-a39c-bf13d2abb4d8",
        "colab": {
          "base_uri": "https://localhost:8080/"
        },
        "id": "lQzbe4B3mJBr"
      },
      "execution_count": null,
      "outputs": [
        {
          "output_type": "stream",
          "name": "stdout",
          "text": [
            "Epoch 1/10\n",
            "42/42 [==============================] - 106s 2s/step - loss: 0.6574 - accuracy: 0.3601 - val_loss: 0.6312 - val_accuracy: 0.4159\n",
            "Epoch 2/10\n",
            "42/42 [==============================] - 98s 2s/step - loss: 0.6250 - accuracy: 0.4455 - val_loss: 0.6168 - val_accuracy: 0.4956\n",
            "Epoch 3/10\n",
            "42/42 [==============================] - 98s 2s/step - loss: 0.6108 - accuracy: 0.4848 - val_loss: 0.6022 - val_accuracy: 0.5664\n",
            "Epoch 4/10\n",
            "42/42 [==============================] - 100s 2s/step - loss: 0.5904 - accuracy: 0.5364 - val_loss: 0.5928 - val_accuracy: 0.5664\n",
            "Epoch 5/10\n",
            "42/42 [==============================] - 98s 2s/step - loss: 0.5928 - accuracy: 0.4939 - val_loss: 0.5813 - val_accuracy: 0.5752\n",
            "Epoch 6/10\n",
            "42/42 [==============================] - 104s 2s/step - loss: 0.5735 - accuracy: 0.5818 - val_loss: 0.5725 - val_accuracy: 0.5929\n",
            "Epoch 7/10\n",
            "42/42 [==============================] - 100s 2s/step - loss: 0.5639 - accuracy: 0.5879 - val_loss: 0.5641 - val_accuracy: 0.6018\n",
            "Epoch 8/10\n",
            "42/42 [==============================] - 101s 2s/step - loss: 0.5517 - accuracy: 0.6394 - val_loss: 0.5611 - val_accuracy: 0.6018\n",
            "Epoch 9/10\n",
            "42/42 [==============================] - 101s 2s/step - loss: 0.5450 - accuracy: 0.6303 - val_loss: 0.5483 - val_accuracy: 0.6283\n",
            "Epoch 10/10\n",
            "42/42 [==============================] - 101s 2s/step - loss: 0.5401 - accuracy: 0.6515 - val_loss: 0.5431 - val_accuracy: 0.6106\n"
          ]
        }
      ]
    },
    {
      "cell_type": "markdown",
      "source": [
        "### test3"
      ],
      "metadata": {
        "id": "Y9VqzdYsmJBr"
      }
    },
    {
      "cell_type": "code",
      "source": [
        "predictions3_Incep = model3_Incep.predict(testX3_Incep, batch_size=BS)"
      ],
      "metadata": {
        "id": "KpCeFpopmJBs"
      },
      "execution_count": null,
      "outputs": []
    },
    {
      "cell_type": "code",
      "source": [
        "predictions3_Incep[:10]"
      ],
      "metadata": {
        "outputId": "66764f28-03eb-49b7-8ee4-626aaebc04b9",
        "colab": {
          "base_uri": "https://localhost:8080/"
        },
        "id": "0epUIxeAmJBs"
      },
      "execution_count": null,
      "outputs": [
        {
          "output_type": "execute_result",
          "data": {
            "text/plain": [
              "array([[0.11190555, 0.44163662, 0.44645783],\n",
              "       [0.35433874, 0.17010207, 0.47555923],\n",
              "       [0.08360355, 0.6129521 , 0.30344427],\n",
              "       [0.13412456, 0.11815269, 0.74772274],\n",
              "       [0.07382458, 0.2461354 , 0.68004006],\n",
              "       [0.06308495, 0.37355277, 0.5633623 ],\n",
              "       [0.12921706, 0.30112725, 0.5696557 ],\n",
              "       [0.0463132 , 0.7644238 , 0.18926297],\n",
              "       [0.0321773 , 0.87751997, 0.09030275],\n",
              "       [0.09041295, 0.25358486, 0.65600216]], dtype=float32)"
            ]
          },
          "metadata": {},
          "execution_count": 28
        }
      ]
    },
    {
      "cell_type": "code",
      "source": [
        "0.04993849+ 0.628473  + 0.32158852"
      ],
      "metadata": {
        "colab": {
          "base_uri": "https://localhost:8080/"
        },
        "id": "owH4XEDH55mw",
        "outputId": "23223f25-47af-4c35-f501-066740561bfe"
      },
      "execution_count": null,
      "outputs": [
        {
          "output_type": "execute_result",
          "data": {
            "text/plain": [
              "1.00000001"
            ]
          },
          "metadata": {},
          "execution_count": 29
        }
      ]
    },
    {
      "cell_type": "code",
      "source": [
        "0.02641579+ 0.25785667+ 0.71572745"
      ],
      "metadata": {
        "colab": {
          "base_uri": "https://localhost:8080/"
        },
        "id": "c_IA5E6S59Rj",
        "outputId": "abc6f977-be3e-4b7d-b650-be63a4a25070"
      },
      "execution_count": null,
      "outputs": [
        {
          "output_type": "execute_result",
          "data": {
            "text/plain": [
              "0.9999999100000001"
            ]
          },
          "metadata": {},
          "execution_count": 30
        }
      ]
    },
    {
      "cell_type": "code",
      "source": [
        "testY3_Incep.argmax(axis=1)"
      ],
      "metadata": {
        "colab": {
          "base_uri": "https://localhost:8080/"
        },
        "outputId": "f19cc7cf-b1c5-40e4-ed9b-0bdae77ad0f5",
        "id": "ZaG3D-VTmJBs"
      },
      "execution_count": null,
      "outputs": [
        {
          "output_type": "execute_result",
          "data": {
            "text/plain": [
              "array([1, 2, 1, 2, 2, 2, 2, 1, 1, 2, 1, 0, 1, 2, 1, 2, 1, 2, 0, 1, 1, 2,\n",
              "       0, 0, 1, 1, 2, 1, 2, 2, 0, 0, 0, 2, 2, 2, 2, 0, 1, 1, 2, 1, 1, 1,\n",
              "       2])"
            ]
          },
          "metadata": {},
          "execution_count": 31
        }
      ]
    },
    {
      "cell_type": "code",
      "source": [
        "print(classification_report(testY3_Incep.argmax(axis=1),\t\n",
        "                           predictions3_Incep.argmax(axis=1),  \n",
        "                            target_names=le3_Incep.classes_))"
      ],
      "metadata": {
        "outputId": "9d825962-8832-45a5-804c-f8b3c0160031",
        "colab": {
          "base_uri": "https://localhost:8080/"
        },
        "id": "Yn-Eb3uQmJBs"
      },
      "execution_count": null,
      "outputs": [
        {
          "output_type": "stream",
          "name": "stdout",
          "text": [
            "              precision    recall  f1-score   support\n",
            "\n",
            "  Lungcancer       1.00      0.12      0.22         8\n",
            "      Normal       0.74      0.94      0.83        18\n",
            "   Pneumonia       0.81      0.89      0.85        19\n",
            "\n",
            "    accuracy                           0.78        45\n",
            "   macro avg       0.85      0.65      0.63        45\n",
            "weighted avg       0.82      0.78      0.73        45\n",
            "\n"
          ]
        }
      ]
    },
    {
      "cell_type": "code",
      "source": [
        "le3_Incep.classes_"
      ],
      "metadata": {
        "colab": {
          "base_uri": "https://localhost:8080/"
        },
        "id": "aIUo-HB5gmwY",
        "outputId": "3899bd51-8c01-495a-80da-190226f883f1"
      },
      "execution_count": null,
      "outputs": [
        {
          "output_type": "execute_result",
          "data": {
            "text/plain": [
              "array(['Lungcancer', 'Normal', 'Pneumonia'], dtype=object)"
            ]
          },
          "metadata": {},
          "execution_count": 33
        }
      ]
    },
    {
      "cell_type": "code",
      "source": [
        "confusion_matrix(testY3_Incep.argmax(axis=1),\t\n",
        "                        predictions3_Incep.argmax(axis=1) )"
      ],
      "metadata": {
        "id": "KjK6wJ4smJBs",
        "colab": {
          "base_uri": "https://localhost:8080/"
        },
        "outputId": "5634d843-da11-4fdf-943f-ab46193f058c"
      },
      "execution_count": null,
      "outputs": [
        {
          "output_type": "execute_result",
          "data": {
            "text/plain": [
              "array([[ 1,  4,  3],\n",
              "       [ 0, 17,  1],\n",
              "       [ 0,  2, 17]])"
            ]
          },
          "metadata": {},
          "execution_count": 34
        }
      ]
    },
    {
      "cell_type": "code",
      "source": [
        ""
      ],
      "metadata": {
        "id": "ftDVRHrSh75R"
      },
      "execution_count": null,
      "outputs": []
    },
    {
      "cell_type": "code",
      "source": [
        ""
      ],
      "metadata": {
        "id": "IQxPI39AUTl6"
      },
      "execution_count": null,
      "outputs": []
    },
    {
      "cell_type": "markdown",
      "source": [
        "### dump(save)/load sklearn model"
      ],
      "metadata": {
        "id": "2S-ZqkXpKCgd"
      }
    },
    {
      "cell_type": "code",
      "source": [
        "import joblib"
      ],
      "metadata": {
        "id": "6HJmfuOuNIlW"
      },
      "execution_count": null,
      "outputs": []
    },
    {
      "cell_type": "code",
      "source": [
        "joblib.dump(model3_Incep, 'model3_Incep.joblib')  "
      ],
      "metadata": {
        "id": "It3haPfSKVDM",
        "outputId": "c0c75f04-c3ed-4ceb-ac03-9964d54796d6",
        "colab": {
          "base_uri": "https://localhost:8080/"
        }
      },
      "execution_count": null,
      "outputs": [
        {
          "output_type": "stream",
          "name": "stdout",
          "text": [
            "INFO:tensorflow:Assets written to: ram://6c044177-9bf3-4f73-b85b-2c181b4d4d0a/assets\n"
          ]
        },
        {
          "output_type": "execute_result",
          "data": {
            "text/plain": [
              "['model3_Incep.joblib']"
            ]
          },
          "metadata": {},
          "execution_count": 37
        }
      ]
    },
    {
      "cell_type": "code",
      "source": [
        "Incep= joblib.load('model3_Incep.joblib')"
      ],
      "metadata": {
        "id": "iZZlVCX-KVAU"
      },
      "execution_count": null,
      "outputs": []
    },
    {
      "cell_type": "code",
      "source": [
        "Incep"
      ],
      "metadata": {
        "id": "ulxpmrZiYeJJ",
        "outputId": "a7381ef3-5818-4009-95d0-8aff07cf44c0",
        "colab": {
          "base_uri": "https://localhost:8080/"
        }
      },
      "execution_count": null,
      "outputs": [
        {
          "output_type": "execute_result",
          "data": {
            "text/plain": [
              "<keras.engine.functional.Functional at 0x7feb00e6cf90>"
            ]
          },
          "metadata": {},
          "execution_count": 41
        }
      ]
    },
    {
      "cell_type": "code",
      "source": [
        "Incep.predict(testX3_Incep, batch_size=BS)[:10]"
      ],
      "metadata": {
        "id": "Jp3HJ8noKU9R",
        "outputId": "2ebeb1ff-37e7-452b-efb3-0ca15006b0eb",
        "colab": {
          "base_uri": "https://localhost:8080/"
        }
      },
      "execution_count": null,
      "outputs": [
        {
          "output_type": "execute_result",
          "data": {
            "text/plain": [
              "array([[0.11190555, 0.44163662, 0.44645783],\n",
              "       [0.35433874, 0.17010207, 0.47555923],\n",
              "       [0.08360355, 0.6129521 , 0.30344427],\n",
              "       [0.13412456, 0.11815269, 0.74772274],\n",
              "       [0.07382458, 0.2461354 , 0.68004006],\n",
              "       [0.06308495, 0.37355277, 0.5633623 ],\n",
              "       [0.12921706, 0.30112725, 0.5696557 ],\n",
              "       [0.0463132 , 0.7644238 , 0.18926297],\n",
              "       [0.0321773 , 0.87751997, 0.09030275],\n",
              "       [0.09041295, 0.25358486, 0.65600216]], dtype=float32)"
            ]
          },
          "metadata": {},
          "execution_count": 46
        }
      ]
    },
    {
      "cell_type": "code",
      "source": [
        ""
      ],
      "metadata": {
        "id": "VaNIc8BhNtUw"
      },
      "execution_count": null,
      "outputs": []
    },
    {
      "cell_type": "markdown",
      "source": [
        "# Score CAM \n",
        "จาก https://arxiv.org/abs/1910.01279\n",
        "\n",
        "Github https://github.com/haofanwang/Score-CAM"
      ],
      "metadata": {
        "id": "8hF0T2Og9Z6Q"
      }
    },
    {
      "cell_type": "code",
      "source": [
        "import torch\n",
        "import torch.nn.functional as F\n",
        "import torchvision.models as models\n",
        "from utils import *\n",
        "from cam.scorecam import *"
      ],
      "metadata": {
        "id": "K9BFecexZ4ZV"
      },
      "execution_count": null,
      "outputs": []
    },
    {
      "cell_type": "code",
      "source": [
        "validation_normal_dir+ \"/NORMAL2-IM-0117-0001.jpeg\""
      ],
      "metadata": {
        "id": "7DJZDzVyaO0F",
        "outputId": "71989fbb-6639-4304-d721-d1684673b36a",
        "colab": {
          "base_uri": "https://localhost:8080/",
          "height": 35
        }
      },
      "execution_count": null,
      "outputs": [
        {
          "output_type": "execute_result",
          "data": {
            "application/vnd.google.colaboratory.intrinsic+json": {
              "type": "string"
            },
            "text/plain": [
              "'/content/drive/My Drive/Senior Project/xray_dataset_covid19/test/NORMAL/NORMAL2-IM-0117-0001.jpeg'"
            ]
          },
          "metadata": {},
          "execution_count": 42
        }
      ]
    },
    {
      "cell_type": "code",
      "source": [
        "os.listdir(validation_normal_dir)[:4]"
      ],
      "metadata": {
        "id": "9ECUoOWbUV5h",
        "outputId": "24d8419e-4cf8-4766-b611-bb72f0aa6cb6",
        "colab": {
          "base_uri": "https://localhost:8080/"
        }
      },
      "execution_count": null,
      "outputs": [
        {
          "output_type": "execute_result",
          "data": {
            "text/plain": [
              "['NORMAL2-IM-0117-0001.jpeg',\n",
              " 'NORMAL2-IM-0059-0001.jpeg',\n",
              " 'NORMAL2-IM-0123-0001.jpeg',\n",
              " 'NORMAL2-IM-0120-0001.jpeg']"
            ]
          },
          "metadata": {},
          "execution_count": 35
        }
      ]
    },
    {
      "cell_type": "code",
      "source": [
        "im = cv2.imread(os.path.join(validation_normal_dir, 'NORMAL2-IM-0117-0001.jpeg' ))"
      ],
      "metadata": {
        "id": "rwk4baPvUzFc"
      },
      "execution_count": null,
      "outputs": []
    },
    {
      "cell_type": "code",
      "source": [
        "inceptionv3_scorecam = ScoreCAM(testX3_Incep)\n",
        "\n",
        "input_image = load_image('images/'+'ILSVRC2012_val_00002193.JPEG')\n",
        "input_ = apply_transforms(input_image)\n",
        "if torch.cuda.is_available():\n",
        "  input_ = input_.cuda()\n",
        "predicted_class = resnet(input_).max(1)[-1]\n",
        "\n",
        "scorecam_map = resnet_scorecam(input_)\n",
        "basic_visualize(input_.cpu(), scorecam_map.type(torch.FloatTensor).cpu(),save_path='resnet.png')"
      ],
      "metadata": {
        "id": "UyZ3bBZDXbI7"
      },
      "execution_count": null,
      "outputs": []
    },
    {
      "cell_type": "code",
      "source": [
        ""
      ],
      "metadata": {
        "id": "buHliAWWSSkh"
      },
      "execution_count": null,
      "outputs": []
    },
    {
      "cell_type": "markdown",
      "source": [
        "ตัวอย่างจาก Github"
      ],
      "metadata": {
        "id": "cwe0Cc32XS1N"
      }
    },
    {
      "cell_type": "code",
      "source": [
        "import torch\n",
        "import torch.nn.functional as F\n",
        "import torchvision.models as models\n",
        "from utils import *\n",
        "from cam.scorecam import *"
      ],
      "metadata": {
        "id": "40UmITtLSP_t"
      },
      "execution_count": null,
      "outputs": []
    },
    {
      "cell_type": "code",
      "source": [
        "resnet = models.resnet18(pretrained=True).eval()"
      ],
      "metadata": {
        "id": "qjPDFV1WXmNb",
        "outputId": "a440728e-93d6-4091-b0c6-e87581b31d4a",
        "colab": {
          "base_uri": "https://localhost:8080/",
          "height": 66,
          "referenced_widgets": [
            "98dd595df50740c4bc07d9b5781ff68e",
            "64b65b77334244339673455bf34870a5",
            "7924b00989d3440fa0ee82048b979421",
            "9f22c34362c34889b6eb8f19e9820562",
            "e7afe690771b4dadb8bc013ed50ba6d1",
            "e98c9a6cda254a4695f50c5482bcf1b2",
            "ca0dc283937e4766ba5d713bff000de9",
            "d401560c4d3d4d0f84a54c715dfeb0ec",
            "8eb887b2ccf340a5bc64d0b09e8e401a",
            "86d079e608864f0ebfc15ecbf5fcdb53",
            "b5d6a23af0dd43afbb2677f1ce75c8f6"
          ]
        }
      },
      "execution_count": null,
      "outputs": [
        {
          "output_type": "stream",
          "name": "stderr",
          "text": [
            "Downloading: \"https://download.pytorch.org/models/resnet18-f37072fd.pth\" to /root/.cache/torch/hub/checkpoints/resnet18-f37072fd.pth\n"
          ]
        },
        {
          "output_type": "display_data",
          "data": {
            "application/vnd.jupyter.widget-view+json": {
              "model_id": "98dd595df50740c4bc07d9b5781ff68e",
              "version_minor": 0,
              "version_major": 2
            },
            "text/plain": [
              "  0%|          | 0.00/44.7M [00:00<?, ?B/s]"
            ]
          },
          "metadata": {}
        }
      ]
    },
    {
      "cell_type": "code",
      "source": [
        "resnet = models.resnet18(pretrained=True).eval()\n",
        "resnet_model_dict = dict(type='resnet18', arch=resnet, layer_name='layer4',input_size=(224, 224))\n",
        "resnet_scorecam = ScoreCAM(resnet_model_dict)\n",
        "\n",
        "input_image = load_image('images/'+'ILSVRC2012_val_00002193.JPEG')\n",
        "input_ = apply_transforms(input_image)\n",
        "if torch.cuda.is_available():\n",
        "  input_ = input_.cuda()\n",
        "predicted_class = resnet(input_).max(1)[-1]\n",
        "\n",
        "scorecam_map = resnet_scorecam(input_)\n",
        "basic_visualize(input_.cpu(), scorecam_map.type(torch.FloatTensor).cpu(),save_path='resnet.png')"
      ],
      "metadata": {
        "id": "xoZHN3FwSShv"
      },
      "execution_count": null,
      "outputs": []
    },
    {
      "cell_type": "code",
      "source": [
        ""
      ],
      "metadata": {
        "id": "wVI1L_o5SsUy"
      },
      "execution_count": null,
      "outputs": []
    }
  ]
}