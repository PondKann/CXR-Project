{
  "nbformat": 4,
  "nbformat_minor": 0,
  "metadata": {
    "colab": {
      "name": "DenseNet201_Pretrained_BS.ipynb",
      "provenance": [],
      "authorship_tag": "ABX9TyMhmnPG2ei5TP2P5opAS+S7",
      "include_colab_link": true
    },
    "kernelspec": {
      "name": "python3",
      "display_name": "Python 3"
    },
    "language_info": {
      "name": "python"
    }
  },
  "cells": [
    {
      "cell_type": "markdown",
      "metadata": {
        "id": "view-in-github",
        "colab_type": "text"
      },
      "source": [
        "<a href=\"https://colab.research.google.com/github/PondKann/CXR-Project/blob/main/DenseNet201_Pretrained_BS.ipynb\" target=\"_parent\"><img src=\"https://colab.research.google.com/assets/colab-badge.svg\" alt=\"Open In Colab\"/></a>"
      ]
    },
    {
      "cell_type": "markdown",
      "source": [
        "###### import"
      ],
      "metadata": {
        "id": "Kpnf_sft9x4-"
      }
    },
    {
      "cell_type": "code",
      "metadata": {
        "id": "Psng6eJUdzUG"
      },
      "source": [
        "import os\n",
        "import tensorflow as tf\n",
        "import matplotlib.pyplot as plt\n",
        "%matplotlib inline\n",
        "from tensorflow.keras.preprocessing.image import ImageDataGenerator\n",
        "import cv2\n",
        "import numpy as np\n",
        "import pandas as pd\n",
        "from torchsummary import summary\n",
        "from skimage.io import imread, imsave\n",
        "from tqdm import tqdm\n",
        "\n",
        "from sklearn.model_selection import train_test_split\n",
        "from sklearn.metrics import accuracy_score, confusion_matrix"
      ],
      "execution_count": 1,
      "outputs": []
    },
    {
      "cell_type": "code",
      "source": [
        "# set the matplotlib backend so figures can be saved in the background\n",
        "import matplotlib\n",
        "matplotlib.use(\"Agg\")\n",
        "\n",
        "from sklearn.preprocessing import LabelEncoder\n",
        "from sklearn.metrics import classification_report\n",
        "from tensorflow.keras.optimizers import SGD\n",
        "from tensorflow.keras.utils import to_categorical\n",
        "from imutils import paths\n",
        "import argparse\n",
        "\n",
        "from sklearn.model_selection import KFold\n",
        "from sklearn import metrics\n",
        "from scipy.stats import zscore"
      ],
      "metadata": {
        "id": "6f-PDKiLl2iC"
      },
      "execution_count": 2,
      "outputs": []
    },
    {
      "cell_type": "code",
      "source": [
        "import pickle\n",
        "import joblib"
      ],
      "metadata": {
        "id": "KywT8U_h4Bmb"
      },
      "execution_count": 3,
      "outputs": []
    },
    {
      "cell_type": "markdown",
      "source": [
        "######Load data"
      ],
      "metadata": {
        "id": "Z1e52UqdwPp8"
      }
    },
    {
      "cell_type": "code",
      "metadata": {
        "colab": {
          "base_uri": "https://localhost:8080/"
        },
        "id": "DlcukkP7fnhB",
        "outputId": "27181edd-3b63-48cc-fb1a-4ab53277d9bc"
      },
      "source": [
        "from google.colab import drive\n",
        "drive.mount('/content/drive')"
      ],
      "execution_count": 4,
      "outputs": [
        {
          "output_type": "stream",
          "name": "stdout",
          "text": [
            "Mounted at /content/drive\n"
          ]
        }
      ]
    },
    {
      "cell_type": "code",
      "metadata": {
        "id": "0w8suy5ofqx_"
      },
      "source": [
        "data_dir = '/content/drive/My Drive/Senior Project/CXR Image3class'"
      ],
      "execution_count": 5,
      "outputs": []
    },
    {
      "cell_type": "markdown",
      "source": [
        "train 3 class"
      ],
      "metadata": {
        "id": "xhqPQxA42jeC"
      }
    },
    {
      "cell_type": "code",
      "source": [
        "Normal151_dir = os.path.join(data_dir,'Normal151')\n",
        "TB150_dir = os.path.join(data_dir,'TB150')\n",
        "CA150_dir = os.path.join(data_dir,'CA150')\n",
        "\n",
        "All_3class_dir = os.path.join(data_dir,'All_3class')"
      ],
      "metadata": {
        "id": "-Jrg5mt_RvJT"
      },
      "execution_count": 6,
      "outputs": []
    },
    {
      "cell_type": "markdown",
      "source": [
        "#### train 3 class  --- สร้างตารางเก็บ ชื่อภาพ และชื่อคลาส\n",
        "ข้อมูลใน All_3class_dir รวมภาพทั้ง 3 คลาส รวม 451 ภาพ TB150, Normal151 และ CA150 (CA คือ lungcancer)"
      ],
      "metadata": {
        "id": "YFVxlpQZf5pU"
      }
    },
    {
      "cell_type": "code",
      "source": [
        "Normal151_dir = os.path.join(data_dir,'Normal151')\n",
        "TB150_dir = os.path.join(data_dir,'TB150')\n",
        "CA150_dir = os.path.join(data_dir,'CA150')\n",
        "\n",
        "All_3class_dir = os.path.join(data_dir,'All_3class')"
      ],
      "metadata": {
        "id": "8BHyN8YKpwx9"
      },
      "execution_count": 7,
      "outputs": []
    },
    {
      "cell_type": "code",
      "source": [
        "normal = []\n",
        "for i in range(len(os.listdir(Normal151_dir))):\n",
        "    img = os.listdir(Normal151_dir)[i]\n",
        "    normal.append(img)\n",
        "    \n",
        "tnormal = pd.DataFrame({'ImageName':[normal][0],\n",
        "                                       'NameType': \"Normal\" ,\n",
        "                                       'NumberType': 0                      })"
      ],
      "metadata": {
        "id": "mT0QF8IgrfVm"
      },
      "execution_count": 8,
      "outputs": []
    },
    {
      "cell_type": "code",
      "source": [
        "tuberculosis = []\n",
        "for i in range(len(os.listdir(TB150_dir))):\n",
        "    img = os.listdir(TB150_dir)[i]\n",
        "    tuberculosis.append(img)\n",
        "\n",
        "ttuberculosis = pd.DataFrame({'ImageName':[tuberculosis][0],\n",
        "                                       'NameType': \"Tuberculosis\" ,\n",
        "                                       'NumberType': 1                        })"
      ],
      "metadata": {
        "id": "VtNPg0jwf5pW"
      },
      "execution_count": 9,
      "outputs": []
    },
    {
      "cell_type": "code",
      "source": [
        "lungcancer = []\n",
        "for i in range(len(os.listdir(CA150_dir))):\n",
        "    img = os.listdir(CA150_dir)[i]\n",
        "    lungcancer.append(img)\n",
        "\n",
        "tlungcancer = pd.DataFrame({'ImageName':[lungcancer][0],\n",
        "                                       'NameType': \"Lungcancer\" ,\n",
        "                                       'NumberType': 2                        })"
      ],
      "metadata": {
        "id": "X5pyCUl5mJGV"
      },
      "execution_count": 10,
      "outputs": []
    },
    {
      "cell_type": "code",
      "source": [
        "data_train3 = pd.concat([tnormal, ttuberculosis, tlungcancer])\n",
        "data_train3[-3:]"
      ],
      "metadata": {
        "id": "bgArCw5jnwg2",
        "outputId": "6660d3e8-310f-44aa-9254-e9a8b10fcc14",
        "colab": {
          "base_uri": "https://localhost:8080/",
          "height": 0
        }
      },
      "execution_count": 11,
      "outputs": [
        {
          "output_type": "execute_result",
          "data": {
            "text/html": [
              "\n",
              "  <div id=\"df-11509181-74e3-4d97-bbf8-a70b01b0054c\">\n",
              "    <div class=\"colab-df-container\">\n",
              "      <div>\n",
              "<style scoped>\n",
              "    .dataframe tbody tr th:only-of-type {\n",
              "        vertical-align: middle;\n",
              "    }\n",
              "\n",
              "    .dataframe tbody tr th {\n",
              "        vertical-align: top;\n",
              "    }\n",
              "\n",
              "    .dataframe thead th {\n",
              "        text-align: right;\n",
              "    }\n",
              "</style>\n",
              "<table border=\"1\" class=\"dataframe\">\n",
              "  <thead>\n",
              "    <tr style=\"text-align: right;\">\n",
              "      <th></th>\n",
              "      <th>ImageName</th>\n",
              "      <th>NameType</th>\n",
              "      <th>NumberType</th>\n",
              "    </tr>\n",
              "  </thead>\n",
              "  <tbody>\n",
              "    <tr>\n",
              "      <th>147</th>\n",
              "      <td>ca26.jpg</td>\n",
              "      <td>Lungcancer</td>\n",
              "      <td>2</td>\n",
              "    </tr>\n",
              "    <tr>\n",
              "      <th>148</th>\n",
              "      <td>ca7.jpg</td>\n",
              "      <td>Lungcancer</td>\n",
              "      <td>2</td>\n",
              "    </tr>\n",
              "    <tr>\n",
              "      <th>149</th>\n",
              "      <td>ca8.jpg</td>\n",
              "      <td>Lungcancer</td>\n",
              "      <td>2</td>\n",
              "    </tr>\n",
              "  </tbody>\n",
              "</table>\n",
              "</div>\n",
              "      <button class=\"colab-df-convert\" onclick=\"convertToInteractive('df-11509181-74e3-4d97-bbf8-a70b01b0054c')\"\n",
              "              title=\"Convert this dataframe to an interactive table.\"\n",
              "              style=\"display:none;\">\n",
              "        \n",
              "  <svg xmlns=\"http://www.w3.org/2000/svg\" height=\"24px\"viewBox=\"0 0 24 24\"\n",
              "       width=\"24px\">\n",
              "    <path d=\"M0 0h24v24H0V0z\" fill=\"none\"/>\n",
              "    <path d=\"M18.56 5.44l.94 2.06.94-2.06 2.06-.94-2.06-.94-.94-2.06-.94 2.06-2.06.94zm-11 1L8.5 8.5l.94-2.06 2.06-.94-2.06-.94L8.5 2.5l-.94 2.06-2.06.94zm10 10l.94 2.06.94-2.06 2.06-.94-2.06-.94-.94-2.06-.94 2.06-2.06.94z\"/><path d=\"M17.41 7.96l-1.37-1.37c-.4-.4-.92-.59-1.43-.59-.52 0-1.04.2-1.43.59L10.3 9.45l-7.72 7.72c-.78.78-.78 2.05 0 2.83L4 21.41c.39.39.9.59 1.41.59.51 0 1.02-.2 1.41-.59l7.78-7.78 2.81-2.81c.8-.78.8-2.07 0-2.86zM5.41 20L4 18.59l7.72-7.72 1.47 1.35L5.41 20z\"/>\n",
              "  </svg>\n",
              "      </button>\n",
              "      \n",
              "  <style>\n",
              "    .colab-df-container {\n",
              "      display:flex;\n",
              "      flex-wrap:wrap;\n",
              "      gap: 12px;\n",
              "    }\n",
              "\n",
              "    .colab-df-convert {\n",
              "      background-color: #E8F0FE;\n",
              "      border: none;\n",
              "      border-radius: 50%;\n",
              "      cursor: pointer;\n",
              "      display: none;\n",
              "      fill: #1967D2;\n",
              "      height: 32px;\n",
              "      padding: 0 0 0 0;\n",
              "      width: 32px;\n",
              "    }\n",
              "\n",
              "    .colab-df-convert:hover {\n",
              "      background-color: #E2EBFA;\n",
              "      box-shadow: 0px 1px 2px rgba(60, 64, 67, 0.3), 0px 1px 3px 1px rgba(60, 64, 67, 0.15);\n",
              "      fill: #174EA6;\n",
              "    }\n",
              "\n",
              "    [theme=dark] .colab-df-convert {\n",
              "      background-color: #3B4455;\n",
              "      fill: #D2E3FC;\n",
              "    }\n",
              "\n",
              "    [theme=dark] .colab-df-convert:hover {\n",
              "      background-color: #434B5C;\n",
              "      box-shadow: 0px 1px 3px 1px rgba(0, 0, 0, 0.15);\n",
              "      filter: drop-shadow(0px 1px 2px rgba(0, 0, 0, 0.3));\n",
              "      fill: #FFFFFF;\n",
              "    }\n",
              "  </style>\n",
              "\n",
              "      <script>\n",
              "        const buttonEl =\n",
              "          document.querySelector('#df-11509181-74e3-4d97-bbf8-a70b01b0054c button.colab-df-convert');\n",
              "        buttonEl.style.display =\n",
              "          google.colab.kernel.accessAllowed ? 'block' : 'none';\n",
              "\n",
              "        async function convertToInteractive(key) {\n",
              "          const element = document.querySelector('#df-11509181-74e3-4d97-bbf8-a70b01b0054c');\n",
              "          const dataTable =\n",
              "            await google.colab.kernel.invokeFunction('convertToInteractive',\n",
              "                                                     [key], {});\n",
              "          if (!dataTable) return;\n",
              "\n",
              "          const docLinkHtml = 'Like what you see? Visit the ' +\n",
              "            '<a target=\"_blank\" href=https://colab.research.google.com/notebooks/data_table.ipynb>data table notebook</a>'\n",
              "            + ' to learn more about interactive tables.';\n",
              "          element.innerHTML = '';\n",
              "          dataTable['output_type'] = 'display_data';\n",
              "          await google.colab.output.renderOutput(dataTable, element);\n",
              "          const docLink = document.createElement('div');\n",
              "          docLink.innerHTML = docLinkHtml;\n",
              "          element.appendChild(docLink);\n",
              "        }\n",
              "      </script>\n",
              "    </div>\n",
              "  </div>\n",
              "  "
            ],
            "text/plain": [
              "    ImageName    NameType  NumberType\n",
              "147  ca26.jpg  Lungcancer           2\n",
              "148   ca7.jpg  Lungcancer           2\n",
              "149   ca8.jpg  Lungcancer           2"
            ]
          },
          "metadata": {},
          "execution_count": 11
        }
      ]
    },
    {
      "cell_type": "markdown",
      "source": [
        "####  test 3 class จากเน็ต"
      ],
      "metadata": {
        "id": "3Fi053VB2o6Y"
      }
    },
    {
      "cell_type": "code",
      "source": [
        "TB700_dir = os.path.join(data_dir,'test_model/Tuberculosis700')\n",
        "Normal94_dir = os.path.join(data_dir,'test_model/NORMAL94')\n",
        "CA150_dir = os.path.join(data_dir,'CA150')                  #อันเดิมที่ใช้เทรน\n",
        "\n",
        "AllTest_2class = os.path.join(data_dir,'test_model/AllTest_2class')"
      ],
      "metadata": {
        "id": "DoGUhtkpCph6"
      },
      "execution_count": null,
      "outputs": []
    },
    {
      "cell_type": "code",
      "source": [
        "#สำหรับ test model\n",
        "normal = []\n",
        "for i in range(len(os.listdir(Normal94_dir))):\n",
        "    img = os.listdir(Normal94_dir)[i]\n",
        "    normal.append(img)\n",
        "    \n",
        "tnormal94 = pd.DataFrame({'ImageName':[normal][0],\n",
        "                                       'NameType': \"Normal\" ,\n",
        "                                       'NumberType': 0                      })"
      ],
      "metadata": {
        "id": "nWuAUibuR4VW"
      },
      "execution_count": null,
      "outputs": []
    },
    {
      "cell_type": "code",
      "source": [
        "#สำหรับ test model\n",
        "tb700 = []\n",
        "for i in range(len(os.listdir(TB700_dir))):\n",
        "    img = os.listdir(TB700_dir)[i]\n",
        "    tb700.append(img)\n",
        "\n",
        "ttb700 = pd.DataFrame({'ImageName':[tb700][0],\n",
        "                                       'NameType': \"Tuberculosis\" ,\n",
        "                                       'NumberType': 1                        })"
      ],
      "metadata": {
        "id": "Bu1n-Ib48qFf"
      },
      "execution_count": null,
      "outputs": []
    },
    {
      "cell_type": "code",
      "source": [
        "#สำหรับ test model ข้อม฿ลเดิม\n",
        "lungcancer = []\n",
        "for i in range(len(os.listdir(CA150_dir))):\n",
        "    img = os.listdir(CA150_dir)[i]\n",
        "    lungcancer.append(img)\n",
        "\n",
        "tlungcancer = pd.DataFrame({'ImageName':[lungcancer][0],\n",
        "                                       'NameType': \"Lungcancer\" ,\n",
        "                                       'NumberType': 2                        })"
      ],
      "metadata": {
        "id": "clUmEvEx2IKk"
      },
      "execution_count": null,
      "outputs": []
    },
    {
      "cell_type": "code",
      "source": [
        "data_test2 = pd.concat([tnormal94[:30], ttb700[:30], tlungcancer[:10]])"
      ],
      "metadata": {
        "id": "kePRXLwU195n"
      },
      "execution_count": null,
      "outputs": []
    },
    {
      "cell_type": "code",
      "source": [
        "test_NorTB = []\n",
        "for ImageName in tqdm(data_test2['ImageName']):               # รัน ชื่อรูป ในไฟล์ data_test2\n",
        "    image_path = AllTest_2class +'/' + ImageName                          # ดึงรูปในโฟล์เดอร์มาทีละรูป\n",
        "    img = cv2.imread(image_path)                                            # อ่านรูป\n",
        "    img = cv2.resize(img, (299, 299))\n",
        "    test_NorTB.append(img)"
      ],
      "metadata": {
        "colab": {
          "base_uri": "https://localhost:8080/"
        },
        "id": "DRlBEE0T14sz",
        "outputId": "d96bdb9f-750b-498a-d55d-986c58ff491d"
      },
      "execution_count": null,
      "outputs": [
        {
          "output_type": "stream",
          "name": "stderr",
          "text": [
            "100%|██████████| 70/70 [00:19<00:00,  3.60it/s]\n"
          ]
        }
      ]
    },
    {
      "cell_type": "code",
      "source": [
        "data_test = np.array(test_NorTB, dtype=\"float32\") / 255.0\n",
        "\n",
        "labels_test = np.array(data_test2[['NameType']] )        \n",
        "labels_test.shape = (len(labels_test),) \n",
        "\n",
        "le3_Incep = LabelEncoder()                                                                     \n",
        "labels_test = le3_Incep.fit_transform(labels_test)                                         #จะแปลงชื่อ class เป็นตัวเลข 1, 2, 0 \n",
        "\n",
        "labels_test = to_categorical(labels_test, num_classes=3)                   #shape (180, 3) มีค่าเป็น  [0., 1., 0.]  กับ   [0., 0., 1.] กับ  [1., 0., 0.]"
      ],
      "metadata": {
        "id": "hlnpYC_S72ee"
      },
      "execution_count": null,
      "outputs": []
    },
    {
      "cell_type": "code",
      "source": [
        ""
      ],
      "metadata": {
        "id": "EjDLK8iNqNiK"
      },
      "execution_count": null,
      "outputs": []
    },
    {
      "cell_type": "markdown",
      "source": [
        "## 1) K-fold  -- DenseNet201\n",
        "\n",
        "### -->ACC = 0.70\n",
        "### -->เวลา 3859.136 วินาที\n",
        "\n",
        "*   BS = 8\n",
        "*   activation=\"softmax\"\n",
        "*   learning_rate=0.0001\n",
        "*   epoch 30"
      ],
      "metadata": {
        "id": "0L32LTa-AmKM"
      }
    },
    {
      "cell_type": "code",
      "source": [
        "train_img_Dense = []\n",
        "for ImageName in tqdm(data_train3['ImageName']):               # รัน ชื่อรูป ในไฟล์ data_test3\n",
        "    image_path = All_3class_dir +'/' + ImageName                   # ดึงรูปในโฟล์เดอร์มาทีละรูป\n",
        "    img = cv2.imread(image_path)                                            # อ่านรูป\n",
        "    img = cv2.resize(img, (224, 224))                                       #ขนาดของ input\n",
        "    train_img_Dense.append(img)\n",
        "\n",
        "data_Dense = np.array(train_img_Dense, dtype=\"float32\") / 255.0"
      ],
      "metadata": {
        "id": "jhfvC-NqAmKN"
      },
      "execution_count": null,
      "outputs": []
    },
    {
      "cell_type": "code",
      "source": [
        "labels_Dense = np.array(data_train3[['NameType']] )        \n",
        "labels_Dense.shape = (len(labels_Dense),) \n",
        "\n",
        "le_Dense = LabelEncoder()                                                                     \n",
        "labels_Dense = le_Dense.fit_transform(labels_Dense)                                         #จะแปลงชื่อ class เป็นตัวเลข 1, 2, 0 \n",
        "\n",
        "labels_Dense = to_categorical(labels_Dense, num_classes=3)                   #shape (180, 3) มีค่าเป็น  [0., 1., 0.]  กับ   [0., 0., 1.] กับ  [1., 0., 0.]"
      ],
      "metadata": {
        "id": "MeaRfwG5A06x"
      },
      "execution_count": null,
      "outputs": []
    },
    {
      "cell_type": "code",
      "source": [
        "INIT_LR = 1e-1\n",
        "BS = 8\n",
        "EPOCHS = 50\n",
        "\n",
        "aug = ImageDataGenerator(\n",
        "\t\trotation_range=15,\t\t\t\t\t\t#องศาการหมุน\n",
        "\t\twidth_shift_range=0.1,\n",
        "\t\theight_shift_range=0.1,\n",
        "\t\tshear_range=0.15,\n",
        "\t\thorizontal_flip=True,\n",
        "\t\tfill_mode=\"nearest\")\n",
        "\n",
        "callback = tf.keras.callbacks.EarlyStopping(\n",
        "                monitor=\"val_accuracy\",\n",
        "                patience=3,\n",
        "                mode=\"max\" )"
      ],
      "metadata": {
        "id": "0wB74-IDAmKO"
      },
      "execution_count": null,
      "outputs": []
    },
    {
      "cell_type": "code",
      "source": [
        "base_model_Dense = tf.keras.applications.DenseNet201(input_shape=(224, 224, 3), include_top=False, weights=\"imagenet\")\n",
        "base_model_Dense.trainable=False\n",
        "\n",
        "#Add custom head\n",
        "average_pooling_layer = tf.keras.layers.GlobalAveragePooling2D()(base_model_Dense.output)\n",
        "prediction_layer = tf.keras.layers.Dense(units=3, activation=\"softmax\")(average_pooling_layer)   # unit 3\n",
        "model_Dense = tf.keras.models.Model(inputs=base_model_Dense.input, outputs=prediction_layer)\n",
        "\n",
        "model_Dense.compile(optimizer=tf.keras.optimizers.RMSprop(learning_rate=0.0001), loss=\"binary_crossentropy\", metrics=[\"accuracy\"])"
      ],
      "metadata": {
        "id": "0Iuuw2AdBYIj"
      },
      "execution_count": null,
      "outputs": []
    },
    {
      "cell_type": "code",
      "source": [
        "kf_Dense = KFold(5, shuffle=True, random_state=40) \n",
        "\n",
        "oos_y = []\n",
        "oos_pred = []\n",
        "fold = 0\n",
        "\n",
        "for train, test in kf_Dense.split(data_Dense):\n",
        "    fold+=1\n",
        "    print(f\"Fold #{fold}\")\n",
        "        \n",
        "    x_train_Dense = data_Dense[train]\n",
        "    y_train_Dense = labels_Dense[train]\n",
        "    x_test_Dense = data_Dense[test]\n",
        "    y_test_Dense = labels_Dense[test]\n",
        "\n",
        "    H_Dense = model_Dense.fit( x=aug.flow(x_train_Dense, y_train_Dense, batch_size=BS),\n",
        "\t                                            validation_data=(x_test_Dense, y_test_Dense),\n",
        "\t                                            steps_per_epoch=len(x_train_Dense) // BS,\n",
        "\t                                            epochs=30,  callbacks = [callback])\n",
        "    \n",
        "    pred_Dense = model_Dense.predict(x_test_Dense)\n",
        "    \n",
        "    oos_y.append(y_test_Dense)\n",
        "    oos_pred.append(pred_Dense)  \n",
        "    print(classification_report(y_test_Dense.argmax(axis=1),\t                #แสดง report ค่า acc, recall, ...\n",
        "                                        pred_Dense.argmax(axis=1),  \n",
        "                                        target_names=le_Dense.classes_))\n",
        "\n",
        "#   score = metrics.accuracy_score(y_test3_Incep.argmax(axis=1),\t        #ค่า acc\n",
        "#                                               pred3_Incep.argmax(axis=1)\n",
        "#    print(f\"Fold score (accuracy): {score}\")\n",
        "\n",
        "#    print(confusion_matrix(testY3_Incep.argmax(axis=1),\t                       #แสดง confusion_matrix\n",
        "#                        pred3_Incep.argmax(axis=1) ) )"
      ],
      "metadata": {
        "id": "_3cCPrl0AmKP",
        "outputId": "30cf50a9-436e-4fc7-93de-a66d0bac3d07",
        "colab": {
          "base_uri": "https://localhost:8080/"
        }
      },
      "execution_count": null,
      "outputs": [
        {
          "output_type": "stream",
          "name": "stdout",
          "text": [
            "Fold #1\n",
            "Epoch 1/30\n",
            "45/45 [==============================] - 100s 2s/step - loss: 0.6230 - accuracy: 0.4250 - val_loss: 0.5992 - val_accuracy: 0.4505\n",
            "Epoch 2/30\n",
            "45/45 [==============================] - 141s 3s/step - loss: 0.6055 - accuracy: 0.4778 - val_loss: 0.5864 - val_accuracy: 0.4835\n",
            "Epoch 3/30\n",
            "45/45 [==============================] - 134s 3s/step - loss: 0.5867 - accuracy: 0.5583 - val_loss: 0.5721 - val_accuracy: 0.5824\n",
            "Epoch 4/30\n",
            "45/45 [==============================] - 154s 3s/step - loss: 0.5776 - accuracy: 0.5556 - val_loss: 0.5604 - val_accuracy: 0.6703\n",
            "Epoch 5/30\n",
            "45/45 [==============================] - 112s 3s/step - loss: 0.5652 - accuracy: 0.5861 - val_loss: 0.5502 - val_accuracy: 0.6374\n",
            "Epoch 6/30\n",
            "45/45 [==============================] - 113s 3s/step - loss: 0.5543 - accuracy: 0.6194 - val_loss: 0.5376 - val_accuracy: 0.7143\n",
            "Epoch 7/30\n",
            "45/45 [==============================] - 115s 3s/step - loss: 0.5425 - accuracy: 0.6444 - val_loss: 0.5308 - val_accuracy: 0.6484\n",
            "Epoch 8/30\n",
            "45/45 [==============================] - 113s 3s/step - loss: 0.5268 - accuracy: 0.6917 - val_loss: 0.5203 - val_accuracy: 0.6703\n",
            "Epoch 9/30\n",
            "45/45 [==============================] - 113s 3s/step - loss: 0.5247 - accuracy: 0.6694 - val_loss: 0.5103 - val_accuracy: 0.6923\n",
            "              precision    recall  f1-score   support\n",
            "\n",
            "  Lungcancer       0.67      0.57      0.62        28\n",
            "      Normal       0.71      0.97      0.82        33\n",
            "Tuberculosis       0.68      0.50      0.58        30\n",
            "\n",
            "    accuracy                           0.69        91\n",
            "   macro avg       0.69      0.68      0.67        91\n",
            "weighted avg       0.69      0.69      0.68        91\n",
            "\n",
            "Fold #2\n",
            "Epoch 1/30\n",
            "45/45 [==============================] - 99s 2s/step - loss: 0.5107 - accuracy: 0.6742 - val_loss: 0.5194 - val_accuracy: 0.6889\n",
            "Epoch 2/30\n",
            "45/45 [==============================] - 123s 3s/step - loss: 0.5016 - accuracy: 0.6827 - val_loss: 0.5120 - val_accuracy: 0.7111\n",
            "Epoch 3/30\n",
            "45/45 [==============================] - 126s 3s/step - loss: 0.4937 - accuracy: 0.7054 - val_loss: 0.5073 - val_accuracy: 0.6556\n",
            "Epoch 4/30\n",
            "45/45 [==============================] - 137s 3s/step - loss: 0.4863 - accuracy: 0.6969 - val_loss: 0.5022 - val_accuracy: 0.6667\n",
            "Epoch 5/30\n",
            "45/45 [==============================] - 141s 3s/step - loss: 0.4806 - accuracy: 0.6969 - val_loss: 0.5010 - val_accuracy: 0.6556\n",
            "              precision    recall  f1-score   support\n",
            "\n",
            "  Lungcancer       0.83      0.45      0.59        33\n",
            "      Normal       0.59      0.92      0.72        26\n",
            "Tuberculosis       0.65      0.65      0.65        31\n",
            "\n",
            "    accuracy                           0.66        90\n",
            "   macro avg       0.69      0.67      0.65        90\n",
            "weighted avg       0.70      0.66      0.64        90\n",
            "\n",
            "Fold #3\n",
            "Epoch 1/30\n",
            "45/45 [==============================] - 102s 2s/step - loss: 0.4850 - accuracy: 0.6997 - val_loss: 0.4784 - val_accuracy: 0.7556\n",
            "Epoch 2/30\n",
            "45/45 [==============================] - 118s 3s/step - loss: 0.4713 - accuracy: 0.7167 - val_loss: 0.4727 - val_accuracy: 0.7667\n",
            "Epoch 3/30\n",
            "45/45 [==============================] - 125s 3s/step - loss: 0.4684 - accuracy: 0.7167 - val_loss: 0.4693 - val_accuracy: 0.6889\n",
            "Epoch 4/30\n",
            "45/45 [==============================] - 122s 3s/step - loss: 0.4497 - accuracy: 0.7535 - val_loss: 0.4644 - val_accuracy: 0.7333\n",
            "Epoch 5/30\n",
            "45/45 [==============================] - 130s 3s/step - loss: 0.4554 - accuracy: 0.7365 - val_loss: 0.4599 - val_accuracy: 0.7000\n",
            "              precision    recall  f1-score   support\n",
            "\n",
            "  Lungcancer       0.68      0.52      0.59        29\n",
            "      Normal       0.73      1.00      0.85        33\n",
            "Tuberculosis       0.65      0.54      0.59        28\n",
            "\n",
            "    accuracy                           0.70        90\n",
            "   macro avg       0.69      0.68      0.67        90\n",
            "weighted avg       0.69      0.70      0.68        90\n",
            "\n",
            "Fold #4\n",
            "Epoch 1/30\n",
            "45/45 [==============================] - 104s 2s/step - loss: 0.4592 - accuracy: 0.7139 - val_loss: 0.4539 - val_accuracy: 0.7000\n",
            "Epoch 2/30\n",
            "45/45 [==============================] - 145s 3s/step - loss: 0.4563 - accuracy: 0.7082 - val_loss: 0.4607 - val_accuracy: 0.6556\n",
            "Epoch 3/30\n",
            "45/45 [==============================] - 129s 3s/step - loss: 0.4371 - accuracy: 0.7762 - val_loss: 0.4510 - val_accuracy: 0.6667\n",
            "Epoch 4/30\n",
            "45/45 [==============================] - 126s 3s/step - loss: 0.4388 - accuracy: 0.7337 - val_loss: 0.4456 - val_accuracy: 0.7000\n",
            "              precision    recall  f1-score   support\n",
            "\n",
            "  Lungcancer       0.88      0.47      0.61        30\n",
            "      Normal       0.62      0.97      0.76        31\n",
            "Tuberculosis       0.73      0.66      0.69        29\n",
            "\n",
            "    accuracy                           0.70        90\n",
            "   macro avg       0.74      0.70      0.69        90\n",
            "weighted avg       0.74      0.70      0.69        90\n",
            "\n",
            "Fold #5\n",
            "Epoch 1/30\n",
            "45/45 [==============================] - 89s 2s/step - loss: 0.4384 - accuracy: 0.7620 - val_loss: 0.4376 - val_accuracy: 0.7667\n",
            "Epoch 2/30\n",
            "45/45 [==============================] - 91s 2s/step - loss: 0.4370 - accuracy: 0.7337 - val_loss: 0.4346 - val_accuracy: 0.7667\n",
            "Epoch 3/30\n",
            "45/45 [==============================] - 92s 2s/step - loss: 0.4360 - accuracy: 0.7309 - val_loss: 0.4307 - val_accuracy: 0.7778\n",
            "Epoch 4/30\n",
            "45/45 [==============================] - 98s 2s/step - loss: 0.4354 - accuracy: 0.7139 - val_loss: 0.4287 - val_accuracy: 0.7889\n",
            "Epoch 5/30\n",
            "45/45 [==============================] - 97s 2s/step - loss: 0.4288 - accuracy: 0.7337 - val_loss: 0.4282 - val_accuracy: 0.7889\n",
            "Epoch 6/30\n",
            "45/45 [==============================] - 95s 2s/step - loss: 0.4177 - accuracy: 0.7365 - val_loss: 0.4258 - val_accuracy: 0.7667\n",
            "Epoch 7/30\n",
            "45/45 [==============================] - 92s 2s/step - loss: 0.4253 - accuracy: 0.7592 - val_loss: 0.4242 - val_accuracy: 0.7333\n",
            "              precision    recall  f1-score   support\n",
            "\n",
            "  Lungcancer       0.76      0.73      0.75        30\n",
            "      Normal       0.71      0.96      0.82        28\n",
            "Tuberculosis       0.74      0.53      0.62        32\n",
            "\n",
            "    accuracy                           0.73        90\n",
            "   macro avg       0.74      0.74      0.73        90\n",
            "weighted avg       0.74      0.73      0.72        90\n",
            "\n"
          ]
        }
      ]
    },
    {
      "cell_type": "code",
      "source": [
        "oos_y = np.concatenate(oos_y)\n",
        "oos_pred = np.concatenate(oos_pred)"
      ],
      "metadata": {
        "id": "sYIcWAzvO8H7"
      },
      "execution_count": null,
      "outputs": []
    },
    {
      "cell_type": "code",
      "source": [
        "score = metrics.accuracy_score(oos_y.argmax(axis=1),\t        #ค่า acc\n",
        "                                             oos_pred.argmax(axis=1) )\n",
        "print(f\"Fold score (accuracy): {score}\")\n",
        "\n",
        "print(classification_report(oos_y.argmax(axis=1),\t                #แสดง report ค่า acc, recall, ...\n",
        "                                        oos_pred.argmax(axis=1),  \n",
        "                                        target_names=le_Dense.classes_))"
      ],
      "metadata": {
        "colab": {
          "base_uri": "https://localhost:8080/"
        },
        "outputId": "0f0f4533-2cce-49d0-b964-ea1d046a8e6e",
        "id": "VwnR1MElO8ID"
      },
      "execution_count": null,
      "outputs": [
        {
          "output_type": "stream",
          "name": "stdout",
          "text": [
            "Fold score (accuracy): 0.6962305986696231\n",
            "              precision    recall  f1-score   support\n",
            "\n",
            "  Lungcancer       0.75      0.55      0.63       150\n",
            "      Normal       0.67      0.97      0.79       151\n",
            "Tuberculosis       0.69      0.57      0.63       150\n",
            "\n",
            "    accuracy                           0.70       451\n",
            "   macro avg       0.70      0.70      0.68       451\n",
            "weighted avg       0.70      0.70      0.68       451\n",
            "\n"
          ]
        }
      ]
    },
    {
      "cell_type": "markdown",
      "source": [
        "## 1.2) K-fold  -- DenseNet201\n",
        "\n",
        "### -->ACC = 0.70 \n",
        "### -->เวลา 4918.566 วินาที\n",
        "\n",
        "*   BS = 8\n",
        "*   activation=\"sigmoid\"\n",
        "*   learning_rate=0.0001\n",
        "*   epoch 30"
      ],
      "metadata": {
        "id": "NxHp3rnyIToG"
      }
    },
    {
      "cell_type": "code",
      "source": [
        "train_img_Dense = []\n",
        "for ImageName in tqdm(data_train3['ImageName']):               # รัน ชื่อรูป ในไฟล์ data_test3\n",
        "    image_path = All_3class_dir +'/' + ImageName                   # ดึงรูปในโฟล์เดอร์มาทีละรูป\n",
        "    img = cv2.imread(image_path)                                            # อ่านรูป\n",
        "    img = cv2.resize(img, (224, 224))                                       #ขนาดของ input\n",
        "    train_img_Dense.append(img)\n",
        "\n",
        "data_Dense = np.array(train_img_Dense, dtype=\"float32\") / 255.0"
      ],
      "metadata": {
        "outputId": "1ea85fcb-9c06-44e7-cf86-dd6275609ed8",
        "colab": {
          "base_uri": "https://localhost:8080/"
        },
        "id": "_ADn7bI7IToW"
      },
      "execution_count": null,
      "outputs": [
        {
          "output_type": "stream",
          "name": "stderr",
          "text": [
            "100%|██████████| 451/451 [00:05<00:00, 79.48it/s] \n"
          ]
        }
      ]
    },
    {
      "cell_type": "code",
      "source": [
        "labels_Dense = np.array(data_train3[['NameType']] )        \n",
        "labels_Dense.shape = (len(labels_Dense),) \n",
        "\n",
        "le_Dense = LabelEncoder()                                                                     \n",
        "labels_Dense = le_Dense.fit_transform(labels_Dense)                                         #จะแปลงชื่อ class เป็นตัวเลข 1, 2, 0 \n",
        "\n",
        "labels_Dense = to_categorical(labels_Dense, num_classes=3)                   #shape (180, 3) มีค่าเป็น  [0., 1., 0.]  กับ   [0., 0., 1.] กับ  [1., 0., 0.]"
      ],
      "metadata": {
        "id": "l-2Fh9yuIToX"
      },
      "execution_count": null,
      "outputs": []
    },
    {
      "cell_type": "code",
      "source": [
        "INIT_LR = 1e-1\n",
        "BS = 8\n",
        "EPOCHS = 50\n",
        "\n",
        "aug = ImageDataGenerator(\n",
        "\t\trotation_range=15,\t\t\t\t\t\t#องศาการหมุน\n",
        "\t\twidth_shift_range=0.1,\n",
        "\t\theight_shift_range=0.1,\n",
        "\t\tshear_range=0.15,\n",
        "\t\thorizontal_flip=True,\n",
        "\t\tfill_mode=\"nearest\")\n",
        "\n",
        "callback = tf.keras.callbacks.EarlyStopping(\n",
        "                monitor=\"val_accuracy\",\n",
        "                patience=3,\n",
        "                mode=\"max\" )"
      ],
      "metadata": {
        "id": "INgp0c9iIToY"
      },
      "execution_count": null,
      "outputs": []
    },
    {
      "cell_type": "code",
      "source": [
        "base_model_Dense = tf.keras.applications.DenseNet201(input_shape=(224, 224, 3), include_top=False, weights=\"imagenet\")\n",
        "base_model_Dense.trainable=False\n",
        "\n",
        "#Add custom head\n",
        "average_pooling_layer = tf.keras.layers.GlobalAveragePooling2D()(base_model_Dense.output)\n",
        "prediction_layer = tf.keras.layers.Dense(units=3, activation=\"sigmoid\")(average_pooling_layer)   # unit 3\n",
        "model_Dense = tf.keras.models.Model(inputs=base_model_Dense.input, outputs=prediction_layer)\n",
        "\n",
        "model_Dense.compile(optimizer=tf.keras.optimizers.RMSprop(learning_rate=0.0001), loss=\"binary_crossentropy\", metrics=[\"accuracy\"])"
      ],
      "metadata": {
        "id": "s-LhzKXmIToZ"
      },
      "execution_count": null,
      "outputs": []
    },
    {
      "cell_type": "code",
      "source": [
        "kf_Dense = KFold(5, shuffle=True, random_state=40) \n",
        "\n",
        "oos_y = []\n",
        "oos_pred = []\n",
        "fold = 0\n",
        "\n",
        "for train, test in kf_Dense.split(data_Dense):\n",
        "    fold+=1\n",
        "    print(f\"Fold #{fold}\")\n",
        "        \n",
        "    x_train_Dense = data_Dense[train]\n",
        "    y_train_Dense = labels_Dense[train]\n",
        "    x_test_Dense = data_Dense[test]\n",
        "    y_test_Dense = labels_Dense[test]\n",
        "\n",
        "    H_Dense = model_Dense.fit( x=aug.flow(x_train_Dense, y_train_Dense, batch_size=BS),\n",
        "\t                                            validation_data=(x_test_Dense, y_test_Dense),\n",
        "\t                                            steps_per_epoch=len(x_train_Dense) // BS,\n",
        "\t                                            epochs=30,  callbacks = [callback])\n",
        "    \n",
        "    pred_Dense = model_Dense.predict(x_test_Dense)\n",
        "    \n",
        "    oos_y.append(y_test_Dense)\n",
        "    oos_pred.append(pred_Dense)  \n",
        "    print(classification_report(y_test_Dense.argmax(axis=1),\t                #แสดง report ค่า acc, recall, ...\n",
        "                                        pred_Dense.argmax(axis=1),  \n",
        "                                        target_names=le_Dense.classes_))\n",
        "\n",
        "#   score = metrics.accuracy_score(y_test3_Incep.argmax(axis=1),\t        #ค่า acc\n",
        "#                                               pred3_Incep.argmax(axis=1)\n",
        "#    print(f\"Fold score (accuracy): {score}\")\n",
        "\n",
        "#    print(confusion_matrix(testY3_Incep.argmax(axis=1),\t                       #แสดง confusion_matrix\n",
        "#                        pred3_Incep.argmax(axis=1) ) )"
      ],
      "metadata": {
        "outputId": "aee37f3d-693d-4950-b707-6030f161479b",
        "colab": {
          "base_uri": "https://localhost:8080/"
        },
        "id": "4bDb6CImIToZ"
      },
      "execution_count": null,
      "outputs": [
        {
          "output_type": "stream",
          "name": "stdout",
          "text": [
            "Fold #1\n",
            "Epoch 1/30\n",
            "45/45 [==============================] - 152s 3s/step - loss: 0.6307 - accuracy: 0.4639 - val_loss: 0.5992 - val_accuracy: 0.5055\n",
            "Epoch 2/30\n",
            "45/45 [==============================] - 141s 3s/step - loss: 0.5935 - accuracy: 0.5333 - val_loss: 0.5830 - val_accuracy: 0.5275\n",
            "Epoch 3/30\n",
            "45/45 [==============================] - 105s 2s/step - loss: 0.5795 - accuracy: 0.5639 - val_loss: 0.5690 - val_accuracy: 0.5714\n",
            "Epoch 4/30\n",
            "45/45 [==============================] - 105s 2s/step - loss: 0.5651 - accuracy: 0.6083 - val_loss: 0.5597 - val_accuracy: 0.5714\n",
            "Epoch 5/30\n",
            "45/45 [==============================] - 105s 2s/step - loss: 0.5481 - accuracy: 0.6333 - val_loss: 0.5485 - val_accuracy: 0.5714\n",
            "Epoch 6/30\n",
            "45/45 [==============================] - 105s 2s/step - loss: 0.5472 - accuracy: 0.6222 - val_loss: 0.5421 - val_accuracy: 0.5714\n",
            "              precision    recall  f1-score   support\n",
            "\n",
            "  Lungcancer       0.55      0.39      0.46        28\n",
            "      Normal       0.62      1.00      0.77        33\n",
            "Tuberculosis       0.44      0.27      0.33        30\n",
            "\n",
            "    accuracy                           0.57        91\n",
            "   macro avg       0.54      0.55      0.52        91\n",
            "weighted avg       0.54      0.57      0.53        91\n",
            "\n",
            "Fold #2\n",
            "Epoch 1/30\n",
            "45/45 [==============================] - 108s 2s/step - loss: 0.5368 - accuracy: 0.6516 - val_loss: 0.5375 - val_accuracy: 0.5333\n",
            "Epoch 2/30\n",
            "45/45 [==============================] - 125s 3s/step - loss: 0.5245 - accuracy: 0.6629 - val_loss: 0.5302 - val_accuracy: 0.5889\n",
            "Epoch 3/30\n",
            "45/45 [==============================] - 127s 3s/step - loss: 0.5108 - accuracy: 0.6856 - val_loss: 0.5282 - val_accuracy: 0.6000\n",
            "Epoch 4/30\n",
            "45/45 [==============================] - 125s 3s/step - loss: 0.5100 - accuracy: 0.6912 - val_loss: 0.5225 - val_accuracy: 0.6000\n",
            "Epoch 5/30\n",
            "45/45 [==============================] - 126s 3s/step - loss: 0.5022 - accuracy: 0.7025 - val_loss: 0.5156 - val_accuracy: 0.6111\n",
            "Epoch 6/30\n",
            "45/45 [==============================] - 127s 3s/step - loss: 0.4942 - accuracy: 0.6941 - val_loss: 0.5009 - val_accuracy: 0.6111\n",
            "Epoch 7/30\n",
            "45/45 [==============================] - 142s 3s/step - loss: 0.4870 - accuracy: 0.6799 - val_loss: 0.5010 - val_accuracy: 0.6111\n",
            "Epoch 8/30\n",
            "45/45 [==============================] - 138s 3s/step - loss: 0.4829 - accuracy: 0.7337 - val_loss: 0.4980 - val_accuracy: 0.6444\n",
            "Epoch 9/30\n",
            "45/45 [==============================] - 141s 3s/step - loss: 0.4680 - accuracy: 0.7110 - val_loss: 0.4921 - val_accuracy: 0.6222\n",
            "Epoch 10/30\n",
            "45/45 [==============================] - 136s 3s/step - loss: 0.4678 - accuracy: 0.6969 - val_loss: 0.4891 - val_accuracy: 0.6333\n",
            "Epoch 11/30\n",
            "45/45 [==============================] - 137s 3s/step - loss: 0.4689 - accuracy: 0.6827 - val_loss: 0.4830 - val_accuracy: 0.6556\n",
            "Epoch 12/30\n",
            "45/45 [==============================] - 135s 3s/step - loss: 0.4592 - accuracy: 0.7110 - val_loss: 0.4835 - val_accuracy: 0.6667\n",
            "Epoch 13/30\n",
            "45/45 [==============================] - 133s 3s/step - loss: 0.4542 - accuracy: 0.7195 - val_loss: 0.4796 - val_accuracy: 0.6778\n",
            "Epoch 14/30\n",
            "45/45 [==============================] - 136s 3s/step - loss: 0.4483 - accuracy: 0.7224 - val_loss: 0.4714 - val_accuracy: 0.7000\n",
            "Epoch 15/30\n",
            "45/45 [==============================] - 134s 3s/step - loss: 0.4416 - accuracy: 0.7450 - val_loss: 0.4676 - val_accuracy: 0.7222\n",
            "Epoch 16/30\n",
            "45/45 [==============================] - 137s 3s/step - loss: 0.4455 - accuracy: 0.7394 - val_loss: 0.4626 - val_accuracy: 0.6556\n",
            "Epoch 17/30\n",
            "45/45 [==============================] - 136s 3s/step - loss: 0.4462 - accuracy: 0.7110 - val_loss: 0.4635 - val_accuracy: 0.6889\n",
            "Epoch 18/30\n",
            "45/45 [==============================] - 140s 3s/step - loss: 0.4351 - accuracy: 0.7422 - val_loss: 0.4574 - val_accuracy: 0.7111\n",
            "              precision    recall  f1-score   support\n",
            "\n",
            "  Lungcancer       0.85      0.67      0.75        33\n",
            "      Normal       0.57      0.96      0.71        26\n",
            "Tuberculosis       0.85      0.55      0.67        31\n",
            "\n",
            "    accuracy                           0.71        90\n",
            "   macro avg       0.75      0.73      0.71        90\n",
            "weighted avg       0.77      0.71      0.71        90\n",
            "\n",
            "Fold #3\n",
            "Epoch 1/30\n",
            "45/45 [==============================] - 112s 2s/step - loss: 0.4382 - accuracy: 0.7167 - val_loss: 0.4368 - val_accuracy: 0.7333\n",
            "Epoch 2/30\n",
            "45/45 [==============================] - 132s 3s/step - loss: 0.4265 - accuracy: 0.7819 - val_loss: 0.4359 - val_accuracy: 0.7111\n",
            "Epoch 3/30\n",
            "45/45 [==============================] - 136s 3s/step - loss: 0.4289 - accuracy: 0.7450 - val_loss: 0.4325 - val_accuracy: 0.7222\n",
            "Epoch 4/30\n",
            "45/45 [==============================] - 138s 3s/step - loss: 0.4293 - accuracy: 0.7422 - val_loss: 0.4303 - val_accuracy: 0.7222\n",
            "              precision    recall  f1-score   support\n",
            "\n",
            "  Lungcancer       0.68      0.59      0.63        29\n",
            "      Normal       0.77      1.00      0.87        33\n",
            "Tuberculosis       0.68      0.54      0.60        28\n",
            "\n",
            "    accuracy                           0.72        90\n",
            "   macro avg       0.71      0.71      0.70        90\n",
            "weighted avg       0.71      0.72      0.71        90\n",
            "\n",
            "Fold #4\n",
            "Epoch 1/30\n",
            "45/45 [==============================] - 112s 3s/step - loss: 0.4382 - accuracy: 0.7394 - val_loss: 0.4251 - val_accuracy: 0.7444\n",
            "Epoch 2/30\n",
            "45/45 [==============================] - 127s 3s/step - loss: 0.4242 - accuracy: 0.7535 - val_loss: 0.4248 - val_accuracy: 0.7222\n",
            "Epoch 3/30\n",
            "45/45 [==============================] - 132s 3s/step - loss: 0.4226 - accuracy: 0.7592 - val_loss: 0.4218 - val_accuracy: 0.7444\n",
            "Epoch 4/30\n",
            "45/45 [==============================] - 131s 3s/step - loss: 0.4264 - accuracy: 0.7224 - val_loss: 0.4238 - val_accuracy: 0.7222\n",
            "              precision    recall  f1-score   support\n",
            "\n",
            "  Lungcancer       0.94      0.57      0.71        30\n",
            "      Normal       0.67      0.97      0.79        31\n",
            "Tuberculosis       0.67      0.62      0.64        29\n",
            "\n",
            "    accuracy                           0.72        90\n",
            "   macro avg       0.76      0.72      0.71        90\n",
            "weighted avg       0.76      0.72      0.72        90\n",
            "\n",
            "Fold #5\n",
            "Epoch 1/30\n",
            "45/45 [==============================] - 101s 2s/step - loss: 0.4247 - accuracy: 0.7195 - val_loss: 0.4078 - val_accuracy: 0.7889\n",
            "Epoch 2/30\n",
            "45/45 [==============================] - 101s 2s/step - loss: 0.4116 - accuracy: 0.7847 - val_loss: 0.4117 - val_accuracy: 0.6889\n",
            "Epoch 3/30\n",
            "45/45 [==============================] - 102s 2s/step - loss: 0.4215 - accuracy: 0.7677 - val_loss: 0.4075 - val_accuracy: 0.7444\n",
            "Epoch 4/30\n",
            "45/45 [==============================] - 101s 2s/step - loss: 0.4103 - accuracy: 0.7337 - val_loss: 0.4054 - val_accuracy: 0.7556\n",
            "              precision    recall  f1-score   support\n",
            "\n",
            "  Lungcancer       0.81      0.83      0.82        30\n",
            "      Normal       0.71      0.96      0.82        28\n",
            "Tuberculosis       0.76      0.50      0.60        32\n",
            "\n",
            "    accuracy                           0.76        90\n",
            "   macro avg       0.76      0.77      0.75        90\n",
            "weighted avg       0.76      0.76      0.74        90\n",
            "\n"
          ]
        }
      ]
    },
    {
      "cell_type": "code",
      "source": [
        "oos_y = np.concatenate(oos_y)\n",
        "oos_pred = np.concatenate(oos_pred)"
      ],
      "metadata": {
        "id": "msmurFc7IToa"
      },
      "execution_count": null,
      "outputs": []
    },
    {
      "cell_type": "code",
      "source": [
        "score = metrics.accuracy_score(oos_y.argmax(axis=1),\t        #ค่า acc\n",
        "                                             oos_pred.argmax(axis=1) )\n",
        "print(f\"Fold score (accuracy): {score}\")\n",
        "\n",
        "print(classification_report(oos_y.argmax(axis=1),\t                #แสดง report ค่า acc, recall, ...\n",
        "                                        oos_pred.argmax(axis=1),  \n",
        "                                        target_names=le_Dense.classes_))"
      ],
      "metadata": {
        "colab": {
          "base_uri": "https://localhost:8080/"
        },
        "outputId": "1b68d08d-86ab-4c3c-c049-9af544325d21",
        "id": "hxSbw5xaITob"
      },
      "execution_count": null,
      "outputs": [
        {
          "output_type": "stream",
          "name": "stdout",
          "text": [
            "Fold score (accuracy): 0.6962305986696231\n",
            "              precision    recall  f1-score   support\n",
            "\n",
            "  Lungcancer       0.77      0.61      0.68       150\n",
            "      Normal       0.66      0.98      0.79       151\n",
            "Tuberculosis       0.69      0.49      0.57       150\n",
            "\n",
            "    accuracy                           0.70       451\n",
            "   macro avg       0.71      0.70      0.68       451\n",
            "weighted avg       0.71      0.70      0.68       451\n",
            "\n"
          ]
        }
      ]
    },
    {
      "cell_type": "markdown",
      "source": [
        "## 2) K-fold  -- DenseNet201\n",
        "\n",
        "### -->ACC = 0.65\n",
        "### -->เวลา 34 นาที\n",
        "\n",
        "*   BS = 16\n",
        "*   activation=\"softmax\"\n",
        "*   learning_rate=0.0001\n",
        "*   epoch 30"
      ],
      "metadata": {
        "id": "qF0ugx9xAK9O"
      }
    },
    {
      "cell_type": "code",
      "source": [
        "train_img_Dense = []\n",
        "for ImageName in tqdm(data_train3['ImageName']):               # รัน ชื่อรูป ในไฟล์ data_test3\n",
        "    image_path = All_3class_dir +'/' + ImageName                   # ดึงรูปในโฟล์เดอร์มาทีละรูป\n",
        "    img = cv2.imread(image_path)                                            # อ่านรูป\n",
        "    img = cv2.resize(img, (224, 224))                                       #ขนาดของ input\n",
        "    train_img_Dense.append(img)\n",
        "\n",
        "data_Dense = np.array(train_img_Dense, dtype=\"float32\") / 255.0"
      ],
      "metadata": {
        "outputId": "5e90f7dd-499b-4918-85cd-0d5573e8c993",
        "colab": {
          "base_uri": "https://localhost:8080/"
        },
        "id": "ZpptkU37AK9P"
      },
      "execution_count": null,
      "outputs": [
        {
          "output_type": "stream",
          "name": "stderr",
          "text": [
            "100%|██████████| 451/451 [00:04<00:00, 92.91it/s] \n"
          ]
        }
      ]
    },
    {
      "cell_type": "code",
      "source": [
        "labels_Dense = np.array(data_train3[['NameType']] )        \n",
        "labels_Dense.shape = (len(labels_Dense),) \n",
        "\n",
        "le_Dense = LabelEncoder()                                                                     \n",
        "labels_Dense = le_Dense.fit_transform(labels_Dense)                                         #จะแปลงชื่อ class เป็นตัวเลข 1, 2, 0 \n",
        "\n",
        "labels_Dense = to_categorical(labels_Dense, num_classes=3)                   #shape (180, 3) มีค่าเป็น  [0., 1., 0.]  กับ   [0., 0., 1.] กับ  [1., 0., 0.]"
      ],
      "metadata": {
        "id": "nLqEKkY1AK9Q"
      },
      "execution_count": null,
      "outputs": []
    },
    {
      "cell_type": "code",
      "source": [
        "INIT_LR = 1e-1\n",
        "BS16 = 16\n",
        "EPOCHS = 50\n",
        "\n",
        "aug2 = ImageDataGenerator(\n",
        "\t\trotation_range=15,\t\t\t\t\t\t#องศาการหมุน\n",
        "\t\twidth_shift_range=0.1,\n",
        "\t\theight_shift_range=0.1,\n",
        "\t\tshear_range=0.15,\n",
        "\t\thorizontal_flip=True,\n",
        "\t\tfill_mode=\"nearest\")\n",
        "\n",
        "callback = tf.keras.callbacks.EarlyStopping(\n",
        "                monitor=\"val_accuracy\",\n",
        "                patience=3,\n",
        "                mode=\"max\" )"
      ],
      "metadata": {
        "id": "hmURgMb5AK9R"
      },
      "execution_count": null,
      "outputs": []
    },
    {
      "cell_type": "code",
      "source": [
        "base_model_Dense = tf.keras.applications.DenseNet201(input_shape=(224, 224, 3), include_top=False, weights=\"imagenet\")\n",
        "base_model_Dense.trainable=False\n",
        "\n",
        "#Add custom head\n",
        "average_pooling_layer = tf.keras.layers.GlobalAveragePooling2D()(base_model_Dense.output)\n",
        "prediction_layer = tf.keras.layers.Dense(units=3, activation=\"softmax\")(average_pooling_layer)   # unit 3\n",
        "model_Dense2 = tf.keras.models.Model(inputs=base_model_Dense.input, outputs=prediction_layer)\n",
        "\n",
        "model_Dense2.compile(optimizer=tf.keras.optimizers.RMSprop(learning_rate=0.0001), loss=\"binary_crossentropy\", metrics=[\"accuracy\"])"
      ],
      "metadata": {
        "id": "zYyno0jMAK9R"
      },
      "execution_count": null,
      "outputs": []
    },
    {
      "cell_type": "code",
      "source": [
        "kf_Dense2 = KFold(5, shuffle=True, random_state=40) \n",
        "\n",
        "oos_y2 = []\n",
        "oos_pred2 = []\n",
        "fold = 0\n",
        "\n",
        "for train, test in kf_Dense2.split(data_Dense):\n",
        "    fold+=1\n",
        "    print(f\"Fold #{fold}\")\n",
        "        \n",
        "    x_train_Dense2 = data_Dense[train]\n",
        "    y_train_Dense2 = labels_Dense[train]\n",
        "    x_test_Dense2 = data_Dense[test]\n",
        "    y_test_Dense2 = labels_Dense[test]\n",
        "\n",
        "    H_Dense2 = model_Dense2.fit( x=aug2.flow(x_train_Dense2, y_train_Dense2, batch_size=BS16),\n",
        "\t                                            validation_data=(x_test_Dense2, y_test_Dense2),\n",
        "\t                                            steps_per_epoch=len(x_train_Dense2) // BS16,\n",
        "\t                                            epochs=30,  callbacks = [callback])\n",
        "    \n",
        "    pred_Dense2 = model_Dense2.predict(x_test_Dense2)\n",
        "    \n",
        "    oos_y2.append(y_test_Dense2)\n",
        "    oos_pred2.append(pred_Dense2)  \n",
        "    print(classification_report(y_test_Dense2.argmax(axis=1),\t                #แสดง report ค่า acc, recall, ...\n",
        "                                        pred_Dense2.argmax(axis=1),  \n",
        "                                        target_names=le_Dense.classes_))\n",
        "\n",
        "#   score = metrics.accuracy_score(y_test3_Incep.argmax(axis=1),\t        #ค่า acc\n",
        "#                                               pred3_Incep.argmax(axis=1)\n",
        "#    print(f\"Fold score (accuracy): {score}\")\n",
        "\n",
        "#    print(confusion_matrix(testY3_Incep.argmax(axis=1),\t                       #แสดง confusion_matrix\n",
        "#                        pred3_Incep.argmax(axis=1) ) )"
      ],
      "metadata": {
        "outputId": "c868c755-df37-4633-fb00-fb2303d0fda2",
        "colab": {
          "base_uri": "https://localhost:8080/"
        },
        "id": "bMPj3xMNAK9S"
      },
      "execution_count": null,
      "outputs": [
        {
          "output_type": "stream",
          "name": "stdout",
          "text": [
            "Fold #1\n",
            "Epoch 1/30\n",
            "22/22 [==============================] - 109s 4s/step - loss: 0.6742 - accuracy: 0.3837 - val_loss: 0.6225 - val_accuracy: 0.5495\n",
            "Epoch 2/30\n",
            "22/22 [==============================] - 98s 5s/step - loss: 0.6248 - accuracy: 0.4506 - val_loss: 0.6098 - val_accuracy: 0.5714\n",
            "Epoch 3/30\n",
            "22/22 [==============================] - 98s 4s/step - loss: 0.6055 - accuracy: 0.4971 - val_loss: 0.5992 - val_accuracy: 0.5824\n",
            "Epoch 4/30\n",
            "22/22 [==============================] - 103s 5s/step - loss: 0.6024 - accuracy: 0.5436 - val_loss: 0.5895 - val_accuracy: 0.6264\n",
            "Epoch 5/30\n",
            "22/22 [==============================] - 100s 5s/step - loss: 0.5971 - accuracy: 0.5116 - val_loss: 0.5807 - val_accuracy: 0.6374\n",
            "Epoch 6/30\n",
            "22/22 [==============================] - 99s 5s/step - loss: 0.5824 - accuracy: 0.5785 - val_loss: 0.5746 - val_accuracy: 0.6154\n",
            "Epoch 7/30\n",
            "22/22 [==============================] - 100s 5s/step - loss: 0.5668 - accuracy: 0.6192 - val_loss: 0.5659 - val_accuracy: 0.6593\n",
            "Epoch 8/30\n",
            "22/22 [==============================] - 118s 5s/step - loss: 0.5668 - accuracy: 0.6017 - val_loss: 0.5604 - val_accuracy: 0.6264\n",
            "Epoch 9/30\n",
            "22/22 [==============================] - 97s 4s/step - loss: 0.5581 - accuracy: 0.6047 - val_loss: 0.5535 - val_accuracy: 0.6593\n",
            "Epoch 10/30\n",
            "22/22 [==============================] - 97s 4s/step - loss: 0.5525 - accuracy: 0.6541 - val_loss: 0.5467 - val_accuracy: 0.6484\n",
            "              precision    recall  f1-score   support\n",
            "\n",
            "  Lungcancer       0.79      0.39      0.52        28\n",
            "      Normal       0.65      0.97      0.78        33\n",
            "Tuberculosis       0.57      0.53      0.55        30\n",
            "\n",
            "    accuracy                           0.65        91\n",
            "   macro avg       0.67      0.63      0.62        91\n",
            "weighted avg       0.67      0.65      0.63        91\n",
            "\n",
            "Fold #2\n",
            "Epoch 1/30\n",
            "22/22 [==============================] - 92s 4s/step - loss: 0.5457 - accuracy: 0.6580 - val_loss: 0.5464 - val_accuracy: 0.5889\n",
            "Epoch 2/30\n",
            "22/22 [==============================] - 94s 4s/step - loss: 0.5370 - accuracy: 0.6696 - val_loss: 0.5413 - val_accuracy: 0.5889\n",
            "Epoch 3/30\n",
            "22/22 [==============================] - 95s 4s/step - loss: 0.5380 - accuracy: 0.6348 - val_loss: 0.5353 - val_accuracy: 0.6333\n",
            "Epoch 4/30\n",
            "22/22 [==============================] - 96s 4s/step - loss: 0.5355 - accuracy: 0.6464 - val_loss: 0.5254 - val_accuracy: 0.6444\n",
            "Epoch 5/30\n",
            "22/22 [==============================] - 96s 4s/step - loss: 0.5199 - accuracy: 0.6754 - val_loss: 0.5272 - val_accuracy: 0.6444\n",
            "Epoch 6/30\n",
            "22/22 [==============================] - 96s 4s/step - loss: 0.5198 - accuracy: 0.6903 - val_loss: 0.5199 - val_accuracy: 0.6444\n",
            "Epoch 7/30\n",
            "22/22 [==============================] - 99s 5s/step - loss: 0.5046 - accuracy: 0.7217 - val_loss: 0.5182 - val_accuracy: 0.6222\n",
            "              precision    recall  f1-score   support\n",
            "\n",
            "  Lungcancer       0.78      0.64      0.70        33\n",
            "      Normal       0.51      0.92      0.66        26\n",
            "Tuberculosis       0.69      0.35      0.47        31\n",
            "\n",
            "    accuracy                           0.62        90\n",
            "   macro avg       0.66      0.64      0.61        90\n",
            "weighted avg       0.67      0.62      0.61        90\n",
            "\n",
            "Fold #3\n",
            "Epoch 1/30\n",
            "22/22 [==============================] - 94s 4s/step - loss: 0.5144 - accuracy: 0.6725 - val_loss: 0.5000 - val_accuracy: 0.6556\n",
            "Epoch 2/30\n",
            "22/22 [==============================] - 97s 4s/step - loss: 0.5104 - accuracy: 0.6696 - val_loss: 0.4957 - val_accuracy: 0.6444\n",
            "Epoch 3/30\n",
            "22/22 [==============================] - 102s 5s/step - loss: 0.4961 - accuracy: 0.7014 - val_loss: 0.4920 - val_accuracy: 0.6444\n",
            "Epoch 4/30\n",
            "22/22 [==============================] - 100s 5s/step - loss: 0.4914 - accuracy: 0.7159 - val_loss: 0.4896 - val_accuracy: 0.6556\n",
            "              precision    recall  f1-score   support\n",
            "\n",
            "  Lungcancer       0.71      0.41      0.52        29\n",
            "      Normal       0.67      0.97      0.79        33\n",
            "Tuberculosis       0.60      0.54      0.57        28\n",
            "\n",
            "    accuracy                           0.66        90\n",
            "   macro avg       0.66      0.64      0.63        90\n",
            "weighted avg       0.66      0.66      0.63        90\n",
            "\n",
            "Fold #4\n",
            "Epoch 1/30\n",
            "22/22 [==============================] - 92s 4s/step - loss: 0.4843 - accuracy: 0.7014 - val_loss: 0.4956 - val_accuracy: 0.6333\n",
            "Epoch 2/30\n",
            "22/22 [==============================] - 96s 4s/step - loss: 0.4785 - accuracy: 0.7159 - val_loss: 0.4938 - val_accuracy: 0.6333\n",
            "Epoch 3/30\n",
            "22/22 [==============================] - 97s 4s/step - loss: 0.4773 - accuracy: 0.7072 - val_loss: 0.4881 - val_accuracy: 0.6333\n",
            "Epoch 4/30\n",
            "22/22 [==============================] - 98s 4s/step - loss: 0.4778 - accuracy: 0.6957 - val_loss: 0.4853 - val_accuracy: 0.6333\n",
            "              precision    recall  f1-score   support\n",
            "\n",
            "  Lungcancer       0.93      0.43      0.59        30\n",
            "      Normal       0.57      1.00      0.73        31\n",
            "Tuberculosis       0.59      0.45      0.51        29\n",
            "\n",
            "    accuracy                           0.63        90\n",
            "   macro avg       0.70      0.63      0.61        90\n",
            "weighted avg       0.70      0.63      0.61        90\n",
            "\n",
            "Fold #5\n",
            "Epoch 1/30\n",
            "22/22 [==============================] - 91s 4s/step - loss: 0.4737 - accuracy: 0.7333 - val_loss: 0.4795 - val_accuracy: 0.7000\n",
            "Epoch 2/30\n",
            "22/22 [==============================] - 98s 4s/step - loss: 0.4794 - accuracy: 0.7043 - val_loss: 0.4751 - val_accuracy: 0.7222\n",
            "Epoch 3/30\n",
            "22/22 [==============================] - 102s 5s/step - loss: 0.4678 - accuracy: 0.7246 - val_loss: 0.4752 - val_accuracy: 0.7000\n",
            "Epoch 4/30\n",
            "22/22 [==============================] - 100s 5s/step - loss: 0.4585 - accuracy: 0.7130 - val_loss: 0.4717 - val_accuracy: 0.7000\n",
            "Epoch 5/30\n",
            "22/22 [==============================] - 101s 5s/step - loss: 0.4592 - accuracy: 0.7536 - val_loss: 0.4712 - val_accuracy: 0.7111\n",
            "              precision    recall  f1-score   support\n",
            "\n",
            "  Lungcancer       0.81      0.70      0.75        30\n",
            "      Normal       0.64      0.96      0.77        28\n",
            "Tuberculosis       0.73      0.50      0.59        32\n",
            "\n",
            "    accuracy                           0.71        90\n",
            "   macro avg       0.73      0.72      0.70        90\n",
            "weighted avg       0.73      0.71      0.70        90\n",
            "\n"
          ]
        }
      ]
    },
    {
      "cell_type": "code",
      "source": [
        "oos_y2 = np.concatenate(oos_y2)\n",
        "oos_pred2 = np.concatenate(oos_pred2)"
      ],
      "metadata": {
        "id": "OqOlECxElR2S"
      },
      "execution_count": null,
      "outputs": []
    },
    {
      "cell_type": "code",
      "source": [
        "score = metrics.accuracy_score(oos_y2.argmax(axis=1),\t        #ค่า acc\n",
        "                                             oos_pred2.argmax(axis=1) )\n",
        "print(f\"Fold score (accuracy): {score}\")\n",
        "\n",
        "print(classification_report(oos_y2.argmax(axis=1),\t                #แสดง report ค่า acc, recall, ...\n",
        "                                        oos_pred2.argmax(axis=1),  \n",
        "                                        target_names=le_Dense.classes_))"
      ],
      "metadata": {
        "colab": {
          "base_uri": "https://localhost:8080/"
        },
        "outputId": "b3e6f907-7d50-432c-db9c-7f9cff272430",
        "id": "VPP8SwZvlR2T"
      },
      "execution_count": null,
      "outputs": [
        {
          "output_type": "stream",
          "name": "stdout",
          "text": [
            "Fold score (accuracy): 0.6541019955654102\n",
            "              precision    recall  f1-score   support\n",
            "\n",
            "  Lungcancer       0.80      0.52      0.63       150\n",
            "      Normal       0.61      0.97      0.75       151\n",
            "Tuberculosis       0.63      0.47      0.54       150\n",
            "\n",
            "    accuracy                           0.65       451\n",
            "   macro avg       0.68      0.65      0.64       451\n",
            "weighted avg       0.68      0.65      0.64       451\n",
            "\n"
          ]
        }
      ]
    },
    {
      "cell_type": "markdown",
      "source": [
        "## 2.1) K-fold  -- DenseNet201\n",
        "\n",
        "### -->ACC = 0.69\n",
        "### -->เวลา 5093.751 นาที\n",
        "\n",
        "*   BS = 16\n",
        "*   activation=\"sigmoid\"\n",
        "*   learning_rate=0.0001\n",
        "*   epoch 30"
      ],
      "metadata": {
        "id": "MtAub9In7Wkv"
      }
    },
    {
      "cell_type": "code",
      "source": [
        "train_img_Dense = []\n",
        "for ImageName in tqdm(data_train3['ImageName']):               # รัน ชื่อรูป ในไฟล์ data_test3\n",
        "    image_path = All_3class_dir +'/' + ImageName                   # ดึงรูปในโฟล์เดอร์มาทีละรูป\n",
        "    img = cv2.imread(image_path)                                            # อ่านรูป\n",
        "    img = cv2.resize(img, (224, 224))                                       #ขนาดของ input\n",
        "    train_img_Dense.append(img)\n",
        "\n",
        "data_Dense = np.array(train_img_Dense, dtype=\"float32\") / 255.0"
      ],
      "metadata": {
        "outputId": "b58d0dc1-61f4-4c92-c456-db7c4cb5b589",
        "colab": {
          "base_uri": "https://localhost:8080/"
        },
        "id": "fnUKjitv7Wk-"
      },
      "execution_count": 13,
      "outputs": [
        {
          "output_type": "stream",
          "name": "stderr",
          "text": [
            "100%|██████████| 451/451 [02:08<00:00,  3.51it/s]\n"
          ]
        }
      ]
    },
    {
      "cell_type": "code",
      "source": [
        "labels_Dense = np.array(data_train3[['NameType']] )        \n",
        "labels_Dense.shape = (len(labels_Dense),) \n",
        "\n",
        "le_Dense = LabelEncoder()                                                                     \n",
        "labels_Dense = le_Dense.fit_transform(labels_Dense)                                         #จะแปลงชื่อ class เป็นตัวเลข 1, 2, 0 \n",
        "\n",
        "labels_Dense = to_categorical(labels_Dense, num_classes=3)                   #shape (180, 3) มีค่าเป็น  [0., 1., 0.]  กับ   [0., 0., 1.] กับ  [1., 0., 0.]"
      ],
      "metadata": {
        "id": "vTQnSxrd7Wk_"
      },
      "execution_count": 14,
      "outputs": []
    },
    {
      "cell_type": "code",
      "source": [
        "INIT_LR = 1e-1\n",
        "BS16 = 16\n",
        "EPOCHS = 50\n",
        "\n",
        "aug21 = ImageDataGenerator(\n",
        "\t\trotation_range=15,\t\t\t\t\t\t#องศาการหมุน\n",
        "\t\twidth_shift_range=0.1,\n",
        "\t\theight_shift_range=0.1,\n",
        "\t\tshear_range=0.15,\n",
        "\t\thorizontal_flip=True,\n",
        "\t\tfill_mode=\"nearest\")\n",
        "\n",
        "callback = tf.keras.callbacks.EarlyStopping(\n",
        "                monitor=\"val_accuracy\",\n",
        "                patience=3,\n",
        "                mode=\"max\" )"
      ],
      "metadata": {
        "id": "YCX9d_sw7WlA"
      },
      "execution_count": 15,
      "outputs": []
    },
    {
      "cell_type": "code",
      "source": [
        "base_model_Dense = tf.keras.applications.DenseNet201(input_shape=(224, 224, 3), include_top=False, weights=\"imagenet\")\n",
        "base_model_Dense.trainable=False\n",
        "\n",
        "#Add custom head\n",
        "average_pooling_layer = tf.keras.layers.GlobalAveragePooling2D()(base_model_Dense.output)\n",
        "prediction_layer = tf.keras.layers.Dense(units=3, activation=\"sigmoid\")(average_pooling_layer)   # unit 3\n",
        "model_Dense21 = tf.keras.models.Model(inputs=base_model_Dense.input, outputs=prediction_layer)\n",
        "\n",
        "model_Dense21.compile(optimizer=tf.keras.optimizers.RMSprop(learning_rate=0.0001), loss=\"binary_crossentropy\", metrics=[\"accuracy\"])"
      ],
      "metadata": {
        "id": "yrUDYcDr7WlB",
        "outputId": "37ab59a0-e37e-4b8b-fbe5-b1372f38c3d8",
        "colab": {
          "base_uri": "https://localhost:8080/"
        }
      },
      "execution_count": 16,
      "outputs": [
        {
          "output_type": "stream",
          "name": "stdout",
          "text": [
            "Downloading data from https://storage.googleapis.com/tensorflow/keras-applications/densenet/densenet201_weights_tf_dim_ordering_tf_kernels_notop.h5\n",
            "74842112/74836368 [==============================] - 2s 0us/step\n",
            "74850304/74836368 [==============================] - 2s 0us/step\n"
          ]
        }
      ]
    },
    {
      "cell_type": "code",
      "source": [
        "kf_Dense21 = KFold(5, shuffle=True, random_state=40) \n",
        "\n",
        "oos_y21 = []\n",
        "oos_pred21 = []\n",
        "fold = 0\n",
        "\n",
        "for train, test in kf_Dense21.split(data_Dense):\n",
        "    fold+=1\n",
        "    print(f\"Fold #{fold}\")\n",
        "        \n",
        "    x_train_Dense21 = data_Dense[train]\n",
        "    y_train_Dense21 = labels_Dense[train]\n",
        "    x_test_Dense21 = data_Dense[test]\n",
        "    y_test_Dense21 = labels_Dense[test]\n",
        "\n",
        "    H_Dense21 = model_Dense21.fit( x=aug21.flow(x_train_Dense21, y_train_Dense21, batch_size=BS16),\n",
        "\t                                            validation_data=(x_test_Dense21, y_test_Dense21),\n",
        "\t                                            steps_per_epoch=len(x_train_Dense21) // BS16,\n",
        "\t                                            epochs=30,  callbacks = [callback])\n",
        "    \n",
        "    pred_Dense21 = model_Dense21.predict(x_test_Dense21)\n",
        "    \n",
        "    oos_y21.append(y_test_Dense21)\n",
        "    oos_pred21.append(pred_Dense21)  \n",
        "    print(classification_report(y_test_Dense21.argmax(axis=1),\t                #แสดง report ค่า acc, recall, ...\n",
        "                                        pred_Dense21.argmax(axis=1),  \n",
        "                                        target_names=le_Dense.classes_))\n",
        "\n",
        "#   score = metrics.accuracy_score(y_test3_Incep.argmax(axis=1),\t        #ค่า acc\n",
        "#                                               pred3_Incep.argmax(axis=1)\n",
        "#    print(f\"Fold score (accuracy): {score}\")\n",
        "\n",
        "#    print(confusion_matrix(testY3_Incep.argmax(axis=1),\t                       #แสดง confusion_matrix\n",
        "#                        pred3_Incep.argmax(axis=1) ) )"
      ],
      "metadata": {
        "outputId": "5dbc4005-a73b-48cd-f189-637133796ac1",
        "colab": {
          "base_uri": "https://localhost:8080/"
        },
        "id": "w1BAl2ag7WlB"
      },
      "execution_count": 17,
      "outputs": [
        {
          "output_type": "stream",
          "name": "stdout",
          "text": [
            "Fold #1\n",
            "Epoch 1/30\n",
            "22/22 [==============================] - 104s 4s/step - loss: 0.6511 - accuracy: 0.4157 - val_loss: 0.6298 - val_accuracy: 0.4066\n",
            "Epoch 2/30\n",
            "22/22 [==============================] - 89s 4s/step - loss: 0.6400 - accuracy: 0.3866 - val_loss: 0.6223 - val_accuracy: 0.4396\n",
            "Epoch 3/30\n",
            "22/22 [==============================] - 89s 4s/step - loss: 0.6278 - accuracy: 0.4273 - val_loss: 0.6128 - val_accuracy: 0.5055\n",
            "Epoch 4/30\n",
            "22/22 [==============================] - 88s 4s/step - loss: 0.6184 - accuracy: 0.4651 - val_loss: 0.6035 - val_accuracy: 0.5385\n",
            "Epoch 5/30\n",
            "22/22 [==============================] - 89s 4s/step - loss: 0.6068 - accuracy: 0.5087 - val_loss: 0.5941 - val_accuracy: 0.5824\n",
            "Epoch 6/30\n",
            "22/22 [==============================] - 88s 4s/step - loss: 0.5986 - accuracy: 0.5233 - val_loss: 0.5856 - val_accuracy: 0.6154\n",
            "Epoch 7/30\n",
            "22/22 [==============================] - 89s 4s/step - loss: 0.5862 - accuracy: 0.5552 - val_loss: 0.5780 - val_accuracy: 0.6703\n",
            "Epoch 8/30\n",
            "22/22 [==============================] - 90s 4s/step - loss: 0.5715 - accuracy: 0.6076 - val_loss: 0.5710 - val_accuracy: 0.6484\n",
            "Epoch 9/30\n",
            "22/22 [==============================] - 91s 4s/step - loss: 0.5768 - accuracy: 0.5436 - val_loss: 0.5631 - val_accuracy: 0.7033\n",
            "Epoch 10/30\n",
            "22/22 [==============================] - 91s 4s/step - loss: 0.5675 - accuracy: 0.5901 - val_loss: 0.5562 - val_accuracy: 0.6923\n",
            "Epoch 11/30\n",
            "22/22 [==============================] - 90s 4s/step - loss: 0.5466 - accuracy: 0.6831 - val_loss: 0.5486 - val_accuracy: 0.7363\n",
            "Epoch 12/30\n",
            "22/22 [==============================] - 89s 4s/step - loss: 0.5554 - accuracy: 0.6250 - val_loss: 0.5432 - val_accuracy: 0.6813\n",
            "Epoch 13/30\n",
            "22/22 [==============================] - 92s 4s/step - loss: 0.5409 - accuracy: 0.6395 - val_loss: 0.5361 - val_accuracy: 0.7033\n",
            "Epoch 14/30\n",
            "22/22 [==============================] - 95s 4s/step - loss: 0.5361 - accuracy: 0.6570 - val_loss: 0.5309 - val_accuracy: 0.6923\n",
            "              precision    recall  f1-score   support\n",
            "\n",
            "  Lungcancer       0.76      0.57      0.65        28\n",
            "      Normal       0.69      1.00      0.81        33\n",
            "Tuberculosis       0.64      0.47      0.54        30\n",
            "\n",
            "    accuracy                           0.69        91\n",
            "   macro avg       0.70      0.68      0.67        91\n",
            "weighted avg       0.69      0.69      0.67        91\n",
            "\n",
            "Fold #2\n",
            "Epoch 1/30\n",
            "22/22 [==============================] - 106s 5s/step - loss: 0.5250 - accuracy: 0.6783 - val_loss: 0.5404 - val_accuracy: 0.6111\n",
            "Epoch 2/30\n",
            "22/22 [==============================] - 105s 5s/step - loss: 0.5189 - accuracy: 0.6493 - val_loss: 0.5353 - val_accuracy: 0.6222\n",
            "Epoch 3/30\n",
            "22/22 [==============================] - 103s 5s/step - loss: 0.5149 - accuracy: 0.6899 - val_loss: 0.5330 - val_accuracy: 0.6333\n",
            "Epoch 4/30\n",
            "22/22 [==============================] - 106s 5s/step - loss: 0.5092 - accuracy: 0.6957 - val_loss: 0.5274 - val_accuracy: 0.6333\n",
            "Epoch 5/30\n",
            "22/22 [==============================] - 107s 5s/step - loss: 0.5055 - accuracy: 0.6812 - val_loss: 0.5239 - val_accuracy: 0.6333\n",
            "Epoch 6/30\n",
            "22/22 [==============================] - 105s 5s/step - loss: 0.5008 - accuracy: 0.7043 - val_loss: 0.5189 - val_accuracy: 0.6556\n",
            "Epoch 7/30\n",
            "22/22 [==============================] - 106s 5s/step - loss: 0.4982 - accuracy: 0.6841 - val_loss: 0.5160 - val_accuracy: 0.6556\n",
            "Epoch 8/30\n",
            "22/22 [==============================] - 106s 5s/step - loss: 0.5003 - accuracy: 0.6667 - val_loss: 0.5120 - val_accuracy: 0.6556\n",
            "Epoch 9/30\n",
            "22/22 [==============================] - 105s 5s/step - loss: 0.4849 - accuracy: 0.7246 - val_loss: 0.5112 - val_accuracy: 0.6556\n",
            "              precision    recall  f1-score   support\n",
            "\n",
            "  Lungcancer       0.77      0.61      0.68        33\n",
            "      Normal       0.55      1.00      0.71        26\n",
            "Tuberculosis       0.76      0.42      0.54        31\n",
            "\n",
            "    accuracy                           0.66        90\n",
            "   macro avg       0.70      0.68      0.64        90\n",
            "weighted avg       0.71      0.66      0.64        90\n",
            "\n",
            "Fold #3\n",
            "Epoch 1/30\n",
            "22/22 [==============================] - 103s 5s/step - loss: 0.4818 - accuracy: 0.6841 - val_loss: 0.4993 - val_accuracy: 0.6667\n",
            "Epoch 2/30\n",
            "22/22 [==============================] - 94s 4s/step - loss: 0.4880 - accuracy: 0.7072 - val_loss: 0.4968 - val_accuracy: 0.6667\n",
            "Epoch 3/30\n",
            "22/22 [==============================] - 93s 4s/step - loss: 0.4801 - accuracy: 0.7101 - val_loss: 0.4934 - val_accuracy: 0.6667\n",
            "Epoch 4/30\n",
            "22/22 [==============================] - 93s 4s/step - loss: 0.4777 - accuracy: 0.7594 - val_loss: 0.4895 - val_accuracy: 0.6778\n",
            "Epoch 5/30\n",
            "22/22 [==============================] - 96s 4s/step - loss: 0.4741 - accuracy: 0.7275 - val_loss: 0.4858 - val_accuracy: 0.6889\n",
            "Epoch 6/30\n",
            "22/22 [==============================] - 94s 4s/step - loss: 0.4647 - accuracy: 0.7275 - val_loss: 0.4821 - val_accuracy: 0.6889\n",
            "Epoch 7/30\n",
            "22/22 [==============================] - 94s 4s/step - loss: 0.4576 - accuracy: 0.7478 - val_loss: 0.4798 - val_accuracy: 0.6889\n",
            "Epoch 8/30\n",
            "22/22 [==============================] - 94s 4s/step - loss: 0.4477 - accuracy: 0.7739 - val_loss: 0.4764 - val_accuracy: 0.7000\n",
            "Epoch 9/30\n",
            "22/22 [==============================] - 95s 4s/step - loss: 0.4574 - accuracy: 0.7415 - val_loss: 0.4740 - val_accuracy: 0.6778\n",
            "Epoch 10/30\n",
            "22/22 [==============================] - 95s 4s/step - loss: 0.4550 - accuracy: 0.7217 - val_loss: 0.4715 - val_accuracy: 0.7000\n",
            "Epoch 11/30\n",
            "22/22 [==============================] - 95s 4s/step - loss: 0.4516 - accuracy: 0.7275 - val_loss: 0.4695 - val_accuracy: 0.7000\n",
            "              precision    recall  f1-score   support\n",
            "\n",
            "  Lungcancer       0.67      0.62      0.64        29\n",
            "      Normal       0.73      1.00      0.85        33\n",
            "Tuberculosis       0.67      0.43      0.52        28\n",
            "\n",
            "    accuracy                           0.70        90\n",
            "   macro avg       0.69      0.68      0.67        90\n",
            "weighted avg       0.69      0.70      0.68        90\n",
            "\n",
            "Fold #4\n",
            "Epoch 1/30\n",
            "22/22 [==============================] - 90s 4s/step - loss: 0.4534 - accuracy: 0.7275 - val_loss: 0.4585 - val_accuracy: 0.6778\n",
            "Epoch 2/30\n",
            "22/22 [==============================] - 94s 4s/step - loss: 0.4478 - accuracy: 0.7188 - val_loss: 0.4549 - val_accuracy: 0.6778\n",
            "Epoch 3/30\n",
            "22/22 [==============================] - 94s 4s/step - loss: 0.4392 - accuracy: 0.7478 - val_loss: 0.4544 - val_accuracy: 0.6778\n",
            "Epoch 4/30\n",
            "22/22 [==============================] - 94s 4s/step - loss: 0.4322 - accuracy: 0.7478 - val_loss: 0.4525 - val_accuracy: 0.6667\n",
            "              precision    recall  f1-score   support\n",
            "\n",
            "  Lungcancer       0.85      0.57      0.68        30\n",
            "      Normal       0.56      1.00      0.72        31\n",
            "Tuberculosis       0.80      0.41      0.55        29\n",
            "\n",
            "    accuracy                           0.67        90\n",
            "   macro avg       0.74      0.66      0.65        90\n",
            "weighted avg       0.74      0.67      0.65        90\n",
            "\n",
            "Fold #5\n",
            "Epoch 1/30\n",
            "22/22 [==============================] - 89s 4s/step - loss: 0.4386 - accuracy: 0.7536 - val_loss: 0.4374 - val_accuracy: 0.7889\n",
            "Epoch 2/30\n",
            "22/22 [==============================] - 91s 4s/step - loss: 0.4381 - accuracy: 0.7681 - val_loss: 0.4349 - val_accuracy: 0.7556\n",
            "Epoch 3/30\n",
            "22/22 [==============================] - 91s 4s/step - loss: 0.4342 - accuracy: 0.7478 - val_loss: 0.4344 - val_accuracy: 0.7556\n",
            "Epoch 4/30\n",
            "22/22 [==============================] - 91s 4s/step - loss: 0.4340 - accuracy: 0.7217 - val_loss: 0.4342 - val_accuracy: 0.7556\n",
            "              precision    recall  f1-score   support\n",
            "\n",
            "  Lungcancer       0.74      0.87      0.80        30\n",
            "      Normal       0.71      0.96      0.82        28\n",
            "Tuberculosis       0.88      0.47      0.61        32\n",
            "\n",
            "    accuracy                           0.76        90\n",
            "   macro avg       0.78      0.77      0.74        90\n",
            "weighted avg       0.78      0.76      0.74        90\n",
            "\n"
          ]
        }
      ]
    },
    {
      "cell_type": "code",
      "source": [
        "oos_y21 = np.concatenate(oos_y21)\n",
        "oos_pred21 = np.concatenate(oos_pred21)"
      ],
      "metadata": {
        "id": "ogarpzmm7WlC"
      },
      "execution_count": 18,
      "outputs": []
    },
    {
      "cell_type": "code",
      "source": [
        "score = metrics.accuracy_score(oos_y21.argmax(axis=1),\t        #ค่า acc\n",
        "                                             oos_pred21.argmax(axis=1) )\n",
        "print(f\"Fold score (accuracy): {score}\")\n",
        "\n",
        "print(classification_report(oos_y21.argmax(axis=1),\t                #แสดง report ค่า acc, recall, ...\n",
        "                                        oos_pred21.argmax(axis=1),  \n",
        "                                        target_names=le_Dense.classes_))"
      ],
      "metadata": {
        "colab": {
          "base_uri": "https://localhost:8080/"
        },
        "outputId": "6f74771b-9f9e-4b97-fc5b-3637d998986b",
        "id": "b3i_prrV7WlD"
      },
      "execution_count": 19,
      "outputs": [
        {
          "output_type": "stream",
          "name": "stdout",
          "text": [
            "Fold score (accuracy): 0.6940133037694013\n",
            "              precision    recall  f1-score   support\n",
            "\n",
            "  Lungcancer       0.75      0.65      0.70       150\n",
            "      Normal       0.64      0.99      0.78       151\n",
            "Tuberculosis       0.74      0.44      0.55       150\n",
            "\n",
            "    accuracy                           0.69       451\n",
            "   macro avg       0.71      0.69      0.68       451\n",
            "weighted avg       0.71      0.69      0.68       451\n",
            "\n"
          ]
        }
      ]
    },
    {
      "cell_type": "markdown",
      "source": [
        "## 3) K-fold  -- DenseNet201\n",
        "\n",
        "### -->ACC = 0.65 \n",
        "### -->เวลา 5419.91 วินาที\n",
        "\n",
        "*   BS = 32\n",
        "*   activation=\"softmax\"\n",
        "*   learning_rate=0.0001\n",
        "*   epoch 30"
      ],
      "metadata": {
        "id": "OjhOFcptA-D_"
      }
    },
    {
      "cell_type": "code",
      "source": [
        "train_img_Dense = []\n",
        "for ImageName in tqdm(data_train3['ImageName']):               # รัน ชื่อรูป ในไฟล์ data_test3\n",
        "    image_path = All_3class_dir +'/' + ImageName                   # ดึงรูปในโฟล์เดอร์มาทีละรูป\n",
        "    img = cv2.imread(image_path)                                            # อ่านรูป\n",
        "    img = cv2.resize(img, (224, 224))                                       #ขนาดของ input\n",
        "    train_img_Dense.append(img)\n",
        "\n",
        "data_Dense = np.array(train_img_Dense, dtype=\"float32\") / 255.0"
      ],
      "metadata": {
        "outputId": "38136d2a-c28d-4c82-b519-c6344ad57f17",
        "colab": {
          "base_uri": "https://localhost:8080/"
        },
        "id": "tqyKOx2_A-EA"
      },
      "execution_count": null,
      "outputs": [
        {
          "output_type": "stream",
          "name": "stderr",
          "text": [
            "100%|██████████| 451/451 [00:05<00:00, 83.88it/s] \n"
          ]
        }
      ]
    },
    {
      "cell_type": "code",
      "source": [
        "labels_Dense = np.array(data_train3[['NameType']] )        \n",
        "labels_Dense.shape = (len(labels_Dense),) \n",
        "\n",
        "le_Dense = LabelEncoder()                                                                     \n",
        "labels_Dense = le_Dense.fit_transform(labels_Dense)                                         #จะแปลงชื่อ class เป็นตัวเลข 1, 2, 0 \n",
        "\n",
        "labels_Dense = to_categorical(labels_Dense, num_classes=3)                   #shape (180, 3) มีค่าเป็น  [0., 1., 0.]  กับ   [0., 0., 1.] กับ  [1., 0., 0.]"
      ],
      "metadata": {
        "id": "98xhFliPA-EB"
      },
      "execution_count": null,
      "outputs": []
    },
    {
      "cell_type": "code",
      "source": [
        "INIT_LR = 1e-1\n",
        "BS32 = 32\n",
        "EPOCHS = 50\n",
        "\n",
        "aug3 = ImageDataGenerator(\n",
        "\t\trotation_range=15,\t\t\t\t\t\t#องศาการหมุน\n",
        "\t\twidth_shift_range=0.1,\n",
        "\t\theight_shift_range=0.1,\n",
        "\t\tshear_range=0.15,\n",
        "\t\thorizontal_flip=True,\n",
        "\t\tfill_mode=\"nearest\")\n",
        "\n",
        "callback = tf.keras.callbacks.EarlyStopping(\n",
        "                monitor=\"val_accuracy\",\n",
        "                patience=3,\n",
        "                mode=\"max\" )"
      ],
      "metadata": {
        "id": "Z9cNLqf9A-EC"
      },
      "execution_count": null,
      "outputs": []
    },
    {
      "cell_type": "code",
      "source": [
        "base_model_Dense = tf.keras.applications.DenseNet201(input_shape=(224, 224, 3), include_top=False, weights=\"imagenet\")\n",
        "base_model_Dense.trainable=False\n",
        "\n",
        "#Add custom head\n",
        "average_pooling_layer = tf.keras.layers.GlobalAveragePooling2D()(base_model_Dense.output)\n",
        "prediction_layer = tf.keras.layers.Dense(units=3, activation=\"softmax\")(average_pooling_layer)   # unit 3\n",
        "model_Dense3 = tf.keras.models.Model(inputs=base_model_Dense.input, outputs=prediction_layer)\n",
        "\n",
        "model_Dense3.compile(optimizer=tf.keras.optimizers.RMSprop(learning_rate=0.0001), loss=\"binary_crossentropy\", metrics=[\"accuracy\"])"
      ],
      "metadata": {
        "id": "aWBU6oTJA-EC"
      },
      "execution_count": null,
      "outputs": []
    },
    {
      "cell_type": "code",
      "source": [
        "kf_Dense3 = KFold(5, shuffle=True, random_state=40) \n",
        "\n",
        "oos_y3 = []\n",
        "oos_pred3 = []\n",
        "fold = 0\n",
        "\n",
        "for train, test in kf_Dense3.split(data_Dense):\n",
        "    fold+=1\n",
        "    print(f\"Fold #{fold}\")\n",
        "        \n",
        "    x_train_Dense3 = data_Dense[train]\n",
        "    y_train_Dense3 = labels_Dense[train]\n",
        "    x_test_Dense3 = data_Dense[test]\n",
        "    y_test_Dense3 = labels_Dense[test]\n",
        "\n",
        "    H_Dense3 = model_Dense3.fit( x=aug3.flow(x_train_Dense3, y_train_Dense3, batch_size=BS32),\n",
        "\t                                            validation_data=(x_test_Dense3, y_test_Dense3),\n",
        "\t                                            steps_per_epoch=len(x_train_Dense3) // BS32,\n",
        "\t                                            epochs=30,  callbacks = [callback])\n",
        "    \n",
        "    pred_Dense3 = model_Dense3.predict(x_test_Dense3)\n",
        "    \n",
        "    oos_y3.append(y_test_Dense3)\n",
        "    oos_pred3.append(pred_Dense3)  \n",
        "    print(classification_report(y_test_Dense3.argmax(axis=1),\t                #แสดง report ค่า acc, recall, ...\n",
        "                                        pred_Dense3.argmax(axis=1),  \n",
        "                                        target_names=le_Dense.classes_))\n",
        "\n",
        "#   score = metrics.accuracy_score(y_test3_Incep.argmax(axis=1),\t        #ค่า acc\n",
        "#                                               pred3_Incep.argmax(axis=1)\n",
        "#    print(f\"Fold score (accuracy): {score}\")\n",
        "\n",
        "#    print(confusion_matrix(testY3_Incep.argmax(axis=1),\t                       #แสดง confusion_matrix\n",
        "#                        pred3_Incep.argmax(axis=1) ) )"
      ],
      "metadata": {
        "colab": {
          "base_uri": "https://localhost:8080/"
        },
        "id": "BG7Sznv2A-ED",
        "outputId": "d087726a-fbc3-42c3-9023-8c813e6608d6"
      },
      "execution_count": null,
      "outputs": [
        {
          "output_type": "stream",
          "name": "stdout",
          "text": [
            "Fold #1\n",
            "Epoch 1/30\n",
            "11/11 [==============================] - 97s 8s/step - loss: 0.7570 - accuracy: 0.2896 - val_loss: 0.6820 - val_accuracy: 0.3407\n",
            "Epoch 2/30\n",
            "11/11 [==============================] - 82s 8s/step - loss: 0.6755 - accuracy: 0.3293 - val_loss: 0.6577 - val_accuracy: 0.3846\n",
            "Epoch 3/30\n",
            "11/11 [==============================] - 82s 8s/step - loss: 0.6624 - accuracy: 0.3110 - val_loss: 0.6504 - val_accuracy: 0.3626\n",
            "Epoch 4/30\n",
            "11/11 [==============================] - 82s 8s/step - loss: 0.6525 - accuracy: 0.3537 - val_loss: 0.6447 - val_accuracy: 0.3516\n",
            "Epoch 5/30\n",
            "11/11 [==============================] - 82s 8s/step - loss: 0.6519 - accuracy: 0.3445 - val_loss: 0.6387 - val_accuracy: 0.3956\n",
            "Epoch 6/30\n",
            "11/11 [==============================] - 86s 8s/step - loss: 0.6336 - accuracy: 0.4119 - val_loss: 0.6321 - val_accuracy: 0.3956\n",
            "Epoch 7/30\n",
            "11/11 [==============================] - 82s 8s/step - loss: 0.6294 - accuracy: 0.3750 - val_loss: 0.6255 - val_accuracy: 0.4505\n",
            "Epoch 8/30\n",
            "11/11 [==============================] - 82s 8s/step - loss: 0.6237 - accuracy: 0.4177 - val_loss: 0.6193 - val_accuracy: 0.4615\n",
            "Epoch 9/30\n",
            "11/11 [==============================] - 82s 8s/step - loss: 0.6137 - accuracy: 0.4756 - val_loss: 0.6143 - val_accuracy: 0.4835\n",
            "Epoch 10/30\n",
            "11/11 [==============================] - 82s 8s/step - loss: 0.6113 - accuracy: 0.4634 - val_loss: 0.6084 - val_accuracy: 0.4835\n",
            "Epoch 11/30\n",
            "11/11 [==============================] - 82s 8s/step - loss: 0.6105 - accuracy: 0.5000 - val_loss: 0.6039 - val_accuracy: 0.5165\n",
            "Epoch 12/30\n",
            "11/11 [==============================] - 82s 8s/step - loss: 0.5944 - accuracy: 0.5366 - val_loss: 0.5972 - val_accuracy: 0.5165\n",
            "Epoch 13/30\n",
            "11/11 [==============================] - 82s 8s/step - loss: 0.5949 - accuracy: 0.5335 - val_loss: 0.5911 - val_accuracy: 0.4945\n",
            "Epoch 14/30\n",
            "11/11 [==============================] - 82s 8s/step - loss: 0.5861 - accuracy: 0.5518 - val_loss: 0.5849 - val_accuracy: 0.5165\n",
            "              precision    recall  f1-score   support\n",
            "\n",
            "  Lungcancer       0.44      0.29      0.35        28\n",
            "      Normal       0.65      0.61      0.62        33\n",
            "Tuberculosis       0.45      0.63      0.53        30\n",
            "\n",
            "    accuracy                           0.52        91\n",
            "   macro avg       0.51      0.51      0.50        91\n",
            "weighted avg       0.52      0.52      0.51        91\n",
            "\n",
            "Fold #2\n",
            "Epoch 1/30\n",
            "11/11 [==============================] - 82s 8s/step - loss: 0.5844 - accuracy: 0.5593 - val_loss: 0.5826 - val_accuracy: 0.5444\n",
            "Epoch 2/30\n",
            "11/11 [==============================] - 83s 8s/step - loss: 0.5666 - accuracy: 0.5745 - val_loss: 0.5772 - val_accuracy: 0.5667\n",
            "Epoch 3/30\n",
            "11/11 [==============================] - 82s 8s/step - loss: 0.5699 - accuracy: 0.5745 - val_loss: 0.5728 - val_accuracy: 0.5778\n",
            "Epoch 4/30\n",
            "11/11 [==============================] - 82s 8s/step - loss: 0.5680 - accuracy: 0.5623 - val_loss: 0.5710 - val_accuracy: 0.5556\n",
            "Epoch 5/30\n",
            "11/11 [==============================] - 86s 8s/step - loss: 0.5625 - accuracy: 0.6322 - val_loss: 0.5683 - val_accuracy: 0.5778\n",
            "Epoch 6/30\n",
            "11/11 [==============================] - 84s 8s/step - loss: 0.5596 - accuracy: 0.5805 - val_loss: 0.5653 - val_accuracy: 0.5889\n",
            "Epoch 7/30\n",
            "11/11 [==============================] - 82s 8s/step - loss: 0.5603 - accuracy: 0.6079 - val_loss: 0.5598 - val_accuracy: 0.6222\n",
            "Epoch 8/30\n",
            "11/11 [==============================] - 86s 8s/step - loss: 0.5478 - accuracy: 0.6278 - val_loss: 0.5548 - val_accuracy: 0.6667\n",
            "Epoch 9/30\n",
            "11/11 [==============================] - 82s 8s/step - loss: 0.5371 - accuracy: 0.6474 - val_loss: 0.5507 - val_accuracy: 0.6778\n",
            "Epoch 10/30\n",
            "11/11 [==============================] - 82s 8s/step - loss: 0.5301 - accuracy: 0.6900 - val_loss: 0.5506 - val_accuracy: 0.6444\n",
            "Epoch 11/30\n",
            "11/11 [==============================] - 82s 8s/step - loss: 0.5343 - accuracy: 0.6383 - val_loss: 0.5453 - val_accuracy: 0.6667\n",
            "Epoch 12/30\n",
            "11/11 [==============================] - 82s 8s/step - loss: 0.5250 - accuracy: 0.6565 - val_loss: 0.5378 - val_accuracy: 0.7000\n",
            "Epoch 13/30\n",
            "11/11 [==============================] - 82s 8s/step - loss: 0.5320 - accuracy: 0.6231 - val_loss: 0.5394 - val_accuracy: 0.6889\n",
            "Epoch 14/30\n",
            "11/11 [==============================] - 82s 8s/step - loss: 0.5245 - accuracy: 0.6505 - val_loss: 0.5378 - val_accuracy: 0.6889\n",
            "Epoch 15/30\n",
            "11/11 [==============================] - 82s 8s/step - loss: 0.5288 - accuracy: 0.6353 - val_loss: 0.5315 - val_accuracy: 0.7111\n",
            "Epoch 16/30\n",
            "11/11 [==============================] - 86s 8s/step - loss: 0.5145 - accuracy: 0.7045 - val_loss: 0.5327 - val_accuracy: 0.7000\n",
            "Epoch 17/30\n",
            "11/11 [==============================] - 82s 8s/step - loss: 0.5231 - accuracy: 0.6474 - val_loss: 0.5311 - val_accuracy: 0.7000\n",
            "Epoch 18/30\n",
            "11/11 [==============================] - 82s 8s/step - loss: 0.5146 - accuracy: 0.6930 - val_loss: 0.5302 - val_accuracy: 0.7000\n",
            "              precision    recall  f1-score   support\n",
            "\n",
            "  Lungcancer       0.95      0.58      0.72        33\n",
            "      Normal       0.57      0.92      0.71        26\n",
            "Tuberculosis       0.71      0.65      0.68        31\n",
            "\n",
            "    accuracy                           0.70        90\n",
            "   macro avg       0.75      0.71      0.70        90\n",
            "weighted avg       0.76      0.70      0.70        90\n",
            "\n",
            "Fold #3\n",
            "Epoch 1/30\n",
            "11/11 [==============================] - 85s 8s/step - loss: 0.5188 - accuracy: 0.6839 - val_loss: 0.5043 - val_accuracy: 0.6556\n",
            "Epoch 2/30\n",
            "11/11 [==============================] - 86s 8s/step - loss: 0.5214 - accuracy: 0.6535 - val_loss: 0.5018 - val_accuracy: 0.6556\n",
            "Epoch 3/30\n",
            "11/11 [==============================] - 87s 8s/step - loss: 0.5093 - accuracy: 0.6900 - val_loss: 0.4985 - val_accuracy: 0.6778\n",
            "Epoch 4/30\n",
            "11/11 [==============================] - 91s 8s/step - loss: 0.5087 - accuracy: 0.6790 - val_loss: 0.4961 - val_accuracy: 0.6778\n",
            "Epoch 5/30\n",
            "11/11 [==============================] - 88s 8s/step - loss: 0.5009 - accuracy: 0.7112 - val_loss: 0.4954 - val_accuracy: 0.6556\n",
            "Epoch 6/30\n",
            "11/11 [==============================] - 86s 8s/step - loss: 0.4904 - accuracy: 0.7173 - val_loss: 0.4919 - val_accuracy: 0.6667\n",
            "              precision    recall  f1-score   support\n",
            "\n",
            "  Lungcancer       0.85      0.38      0.52        29\n",
            "      Normal       0.67      0.94      0.78        33\n",
            "Tuberculosis       0.58      0.64      0.61        28\n",
            "\n",
            "    accuracy                           0.67        90\n",
            "   macro avg       0.70      0.65      0.64        90\n",
            "weighted avg       0.70      0.67      0.65        90\n",
            "\n",
            "Fold #4\n",
            "Epoch 1/30\n",
            "11/11 [==============================] - 88s 8s/step - loss: 0.4910 - accuracy: 0.7112 - val_loss: 0.5123 - val_accuracy: 0.6444\n",
            "Epoch 2/30\n",
            "11/11 [==============================] - 89s 8s/step - loss: 0.4857 - accuracy: 0.7204 - val_loss: 0.5136 - val_accuracy: 0.6000\n",
            "Epoch 3/30\n",
            "11/11 [==============================] - 89s 9s/step - loss: 0.4841 - accuracy: 0.7052 - val_loss: 0.5101 - val_accuracy: 0.6333\n",
            "Epoch 4/30\n",
            "11/11 [==============================] - 88s 8s/step - loss: 0.4811 - accuracy: 0.7264 - val_loss: 0.5080 - val_accuracy: 0.6444\n",
            "              precision    recall  f1-score   support\n",
            "\n",
            "  Lungcancer       0.93      0.43      0.59        30\n",
            "      Normal       0.60      0.94      0.73        31\n",
            "Tuberculosis       0.57      0.55      0.56        29\n",
            "\n",
            "    accuracy                           0.64        90\n",
            "   macro avg       0.70      0.64      0.63        90\n",
            "weighted avg       0.70      0.64      0.63        90\n",
            "\n",
            "Fold #5\n",
            "Epoch 1/30\n",
            "11/11 [==============================] - 86s 8s/step - loss: 0.4867 - accuracy: 0.6991 - val_loss: 0.4821 - val_accuracy: 0.7444\n",
            "Epoch 2/30\n",
            "11/11 [==============================] - 86s 8s/step - loss: 0.4810 - accuracy: 0.7295 - val_loss: 0.4816 - val_accuracy: 0.7333\n",
            "Epoch 3/30\n",
            "11/11 [==============================] - 89s 8s/step - loss: 0.4757 - accuracy: 0.7173 - val_loss: 0.4792 - val_accuracy: 0.7444\n",
            "Epoch 4/30\n",
            "11/11 [==============================] - 94s 9s/step - loss: 0.4886 - accuracy: 0.6900 - val_loss: 0.4762 - val_accuracy: 0.7444\n",
            "              precision    recall  f1-score   support\n",
            "\n",
            "  Lungcancer       0.84      0.70      0.76        30\n",
            "      Normal       0.66      0.96      0.78        28\n",
            "Tuberculosis       0.79      0.59      0.68        32\n",
            "\n",
            "    accuracy                           0.74        90\n",
            "   macro avg       0.76      0.75      0.74        90\n",
            "weighted avg       0.77      0.74      0.74        90\n",
            "\n"
          ]
        }
      ]
    },
    {
      "cell_type": "code",
      "source": [
        "oos_y3 = np.concatenate(oos_y3)\n",
        "oos_pred3 = np.concatenate(oos_pred3)"
      ],
      "metadata": {
        "id": "PKFaUJnv0m21"
      },
      "execution_count": null,
      "outputs": []
    },
    {
      "cell_type": "code",
      "source": [
        "score = metrics.accuracy_score(oos_y3.argmax(axis=1),\t        #ค่า acc\n",
        "                                             oos_pred3.argmax(axis=1) )\n",
        "print(f\"Fold score (accuracy): {score}\")\n",
        "\n",
        "print(classification_report(oos_y3.argmax(axis=1),\t                #แสดง report ค่า acc, recall, ...\n",
        "                                        oos_pred3.argmax(axis=1),  \n",
        "                                        target_names=le_Dense.classes_))"
      ],
      "metadata": {
        "colab": {
          "base_uri": "https://localhost:8080/"
        },
        "outputId": "c8e9952c-d3eb-4e5a-d214-5f2980abd831",
        "id": "fmTaZJRK0m29"
      },
      "execution_count": null,
      "outputs": [
        {
          "output_type": "stream",
          "name": "stdout",
          "text": [
            "Fold score (accuracy): 0.6541019955654102\n",
            "              precision    recall  f1-score   support\n",
            "\n",
            "  Lungcancer       0.80      0.48      0.60       150\n",
            "      Normal       0.63      0.87      0.73       151\n",
            "Tuberculosis       0.60      0.61      0.61       150\n",
            "\n",
            "    accuracy                           0.65       451\n",
            "   macro avg       0.68      0.65      0.65       451\n",
            "weighted avg       0.68      0.65      0.65       451\n",
            "\n"
          ]
        }
      ]
    },
    {
      "cell_type": "markdown",
      "source": [
        "## 3.1) K-fold  -- DenseNet201  ก็อปไปใส่ไฟล์ DenseNet201_pretrained_bs แล้ว\n",
        "\n",
        "### -->ACC = 0.65 \n",
        "### -->เวลา 5985.206 วินาที\n",
        "\n",
        "*   BS = 32\n",
        "*   activation=\"sigmoid\"\n",
        "*   learning_rate=0.0001\n",
        "*   epoch 30"
      ],
      "metadata": {
        "id": "lP2mxUp0bMfL"
      }
    },
    {
      "cell_type": "code",
      "source": [
        "train_img_Dense = []\n",
        "for ImageName in tqdm(data_train3['ImageName']):               # รัน ชื่อรูป ในไฟล์ data_test3\n",
        "    image_path = All_3class_dir +'/' + ImageName                   # ดึงรูปในโฟล์เดอร์มาทีละรูป\n",
        "    img = cv2.imread(image_path)                                            # อ่านรูป\n",
        "    img = cv2.resize(img, (224, 224))                                       #ขนาดของ input\n",
        "    train_img_Dense.append(img)\n",
        "\n",
        "data_Dense = np.array(train_img_Dense, dtype=\"float32\") / 255.0"
      ],
      "metadata": {
        "outputId": "e3828907-6c3f-4138-b31c-05de9b87138b",
        "colab": {
          "base_uri": "https://localhost:8080/"
        },
        "id": "COzyhdF3bMfb"
      },
      "execution_count": null,
      "outputs": [
        {
          "output_type": "stream",
          "name": "stderr",
          "text": [
            "100%|██████████| 451/451 [00:04<00:00, 93.45it/s] \n"
          ]
        }
      ]
    },
    {
      "cell_type": "code",
      "source": [
        "labels_Dense = np.array(data_train3[['NameType']] )        \n",
        "labels_Dense.shape = (len(labels_Dense),) \n",
        "\n",
        "le_Dense = LabelEncoder()                                                                     \n",
        "labels_Dense = le_Dense.fit_transform(labels_Dense)                                         #จะแปลงชื่อ class เป็นตัวเลข 1, 2, 0 \n",
        "\n",
        "labels_Dense = to_categorical(labels_Dense, num_classes=3)                   #shape (180, 3) มีค่าเป็น  [0., 1., 0.]  กับ   [0., 0., 1.] กับ  [1., 0., 0.]"
      ],
      "metadata": {
        "id": "e6uN8YQBbMfc"
      },
      "execution_count": null,
      "outputs": []
    },
    {
      "cell_type": "code",
      "source": [
        "INIT_LR = 1e-1\n",
        "BS32 = 32\n",
        "EPOCHS = 50\n",
        "\n",
        "aug31 = ImageDataGenerator(\n",
        "\t\trotation_range=15,\t\t\t\t\t\t#องศาการหมุน\n",
        "\t\twidth_shift_range=0.1,\n",
        "\t\theight_shift_range=0.1,\n",
        "\t\tshear_range=0.15,\n",
        "\t\thorizontal_flip=True,\n",
        "\t\tfill_mode=\"nearest\")\n",
        "\n",
        "callback = tf.keras.callbacks.EarlyStopping(\n",
        "                monitor=\"val_accuracy\",\n",
        "                patience=3,\n",
        "                mode=\"max\" )"
      ],
      "metadata": {
        "id": "ez3zuDaMbMfd"
      },
      "execution_count": null,
      "outputs": []
    },
    {
      "cell_type": "code",
      "source": [
        "base_model_Dense = tf.keras.applications.DenseNet201(input_shape=(224, 224, 3), include_top=False, weights=\"imagenet\")\n",
        "base_model_Dense.trainable=False\n",
        "\n",
        "#Add custom head\n",
        "average_pooling_layer = tf.keras.layers.GlobalAveragePooling2D()(base_model_Dense.output)\n",
        "prediction_layer = tf.keras.layers.Dense(units=3, activation=\"sigmoid\")(average_pooling_layer)   # unit 3\n",
        "model_Dense31 = tf.keras.models.Model(inputs=base_model_Dense.input, outputs=prediction_layer)\n",
        "\n",
        "model_Dense31.compile(optimizer=tf.keras.optimizers.RMSprop(learning_rate=0.0001), loss=\"binary_crossentropy\", metrics=[\"accuracy\"])"
      ],
      "metadata": {
        "id": "ECjMVTzgbMfe"
      },
      "execution_count": null,
      "outputs": []
    },
    {
      "cell_type": "code",
      "source": [
        "kf_Dense31 = KFold(5, shuffle=True, random_state=40) \n",
        "\n",
        "oos_y31 = []\n",
        "oos_pred31 = []\n",
        "fold = 0\n",
        "\n",
        "for train, test in kf_Dense31.split(data_Dense):\n",
        "    fold+=1\n",
        "    print(f\"Fold #{fold}\")\n",
        "        \n",
        "    x_train_Dense31 = data_Dense[train]\n",
        "    y_train_Dense31 = labels_Dense[train]\n",
        "    x_test_Dense31 = data_Dense[test]\n",
        "    y_test_Dense31 = labels_Dense[test]\n",
        "\n",
        "    H_Dense31 = model_Dense31.fit( x=aug31.flow(x_train_Dense31, y_train_Dense31, batch_size=BS32),\n",
        "\t                                            validation_data=(x_test_Dense31, y_test_Dense31),\n",
        "\t                                            steps_per_epoch=len(x_train_Dense31) // BS32,\n",
        "\t                                            epochs=30,  callbacks = [callback])\n",
        "    \n",
        "    pred_Dense31 = model_Dense31.predict(x_test_Dense31)\n",
        "    \n",
        "    oos_y31.append(y_test_Dense31)\n",
        "    oos_pred31.append(pred_Dense31)  \n",
        "    print(classification_report(y_test_Dense31.argmax(axis=1),\t                #แสดง report ค่า acc, recall, ...\n",
        "                                        pred_Dense31.argmax(axis=1),  \n",
        "                                        target_names=le_Dense.classes_))\n",
        "\n",
        "#   score = metrics.accuracy_score(y_test3_Incep.argmax(axis=1),\t        #ค่า acc\n",
        "#                                               pred3_Incep.argmax(axis=1)\n",
        "#    print(f\"Fold score (accuracy): {score}\")\n",
        "\n",
        "#    print(confusion_matrix(testY3_Incep.argmax(axis=1),\t                       #แสดง confusion_matrix\n",
        "#                        pred3_Incep.argmax(axis=1) ) )"
      ],
      "metadata": {
        "colab": {
          "base_uri": "https://localhost:8080/"
        },
        "outputId": "bb614af7-8017-49b2-a832-6f275d961937",
        "id": "DHnbYRVHbMfe"
      },
      "execution_count": null,
      "outputs": [
        {
          "output_type": "stream",
          "name": "stdout",
          "text": [
            "Fold #1\n",
            "Epoch 1/30\n",
            "11/11 [==============================] - 99s 8s/step - loss: 0.7409 - accuracy: 0.3018 - val_loss: 0.7162 - val_accuracy: 0.2527\n",
            "Epoch 2/30\n",
            "11/11 [==============================] - 86s 8s/step - loss: 0.6801 - accuracy: 0.2988 - val_loss: 0.6940 - val_accuracy: 0.2747\n",
            "Epoch 3/30\n",
            "11/11 [==============================] - 85s 8s/step - loss: 0.6637 - accuracy: 0.2805 - val_loss: 0.6833 - val_accuracy: 0.2967\n",
            "Epoch 4/30\n",
            "11/11 [==============================] - 85s 8s/step - loss: 0.6521 - accuracy: 0.3262 - val_loss: 0.6761 - val_accuracy: 0.3187\n",
            "Epoch 5/30\n",
            "11/11 [==============================] - 85s 8s/step - loss: 0.6464 - accuracy: 0.3354 - val_loss: 0.6698 - val_accuracy: 0.3297\n",
            "Epoch 6/30\n",
            "11/11 [==============================] - 89s 9s/step - loss: 0.6323 - accuracy: 0.4299 - val_loss: 0.6630 - val_accuracy: 0.3297\n",
            "Epoch 7/30\n",
            "11/11 [==============================] - 88s 8s/step - loss: 0.6264 - accuracy: 0.4360 - val_loss: 0.6552 - val_accuracy: 0.4176\n",
            "Epoch 8/30\n",
            "11/11 [==============================] - 89s 8s/step - loss: 0.6325 - accuracy: 0.4085 - val_loss: 0.6489 - val_accuracy: 0.4066\n",
            "Epoch 9/30\n",
            "11/11 [==============================] - 88s 9s/step - loss: 0.6233 - accuracy: 0.4085 - val_loss: 0.6423 - val_accuracy: 0.4286\n",
            "Epoch 10/30\n",
            "11/11 [==============================] - 87s 8s/step - loss: 0.6115 - accuracy: 0.4909 - val_loss: 0.6356 - val_accuracy: 0.4396\n",
            "Epoch 11/30\n",
            "11/11 [==============================] - 87s 9s/step - loss: 0.6042 - accuracy: 0.5152 - val_loss: 0.6294 - val_accuracy: 0.4396\n",
            "Epoch 12/30\n",
            "11/11 [==============================] - 91s 8s/step - loss: 0.5970 - accuracy: 0.4970 - val_loss: 0.6235 - val_accuracy: 0.4615\n",
            "Epoch 13/30\n",
            "11/11 [==============================] - 89s 8s/step - loss: 0.6043 - accuracy: 0.5061 - val_loss: 0.6188 - val_accuracy: 0.4725\n",
            "Epoch 14/30\n",
            "11/11 [==============================] - 88s 8s/step - loss: 0.5887 - accuracy: 0.5640 - val_loss: 0.6137 - val_accuracy: 0.4945\n",
            "Epoch 15/30\n",
            "11/11 [==============================] - 90s 8s/step - loss: 0.5852 - accuracy: 0.5457 - val_loss: 0.6083 - val_accuracy: 0.5055\n",
            "Epoch 16/30\n",
            "11/11 [==============================] - 88s 8s/step - loss: 0.5878 - accuracy: 0.5610 - val_loss: 0.6029 - val_accuracy: 0.5165\n",
            "Epoch 17/30\n",
            "11/11 [==============================] - 86s 8s/step - loss: 0.5753 - accuracy: 0.5732 - val_loss: 0.5975 - val_accuracy: 0.5275\n",
            "Epoch 18/30\n",
            "11/11 [==============================] - 88s 8s/step - loss: 0.5710 - accuracy: 0.5823 - val_loss: 0.5920 - val_accuracy: 0.5604\n",
            "Epoch 19/30\n",
            "11/11 [==============================] - 88s 8s/step - loss: 0.5654 - accuracy: 0.5884 - val_loss: 0.5875 - val_accuracy: 0.5495\n",
            "Epoch 20/30\n",
            "11/11 [==============================] - 89s 8s/step - loss: 0.5580 - accuracy: 0.6250 - val_loss: 0.5831 - val_accuracy: 0.5604\n",
            "Epoch 21/30\n",
            "11/11 [==============================] - 87s 9s/step - loss: 0.5546 - accuracy: 0.6311 - val_loss: 0.5791 - val_accuracy: 0.5714\n",
            "Epoch 22/30\n",
            "11/11 [==============================] - 88s 8s/step - loss: 0.5533 - accuracy: 0.6250 - val_loss: 0.5743 - val_accuracy: 0.5934\n",
            "Epoch 23/30\n",
            "11/11 [==============================] - 88s 8s/step - loss: 0.5455 - accuracy: 0.6433 - val_loss: 0.5697 - val_accuracy: 0.5824\n",
            "Epoch 24/30\n",
            "11/11 [==============================] - 89s 8s/step - loss: 0.5435 - accuracy: 0.6524 - val_loss: 0.5656 - val_accuracy: 0.5824\n",
            "Epoch 25/30\n",
            "11/11 [==============================] - 90s 8s/step - loss: 0.5437 - accuracy: 0.6433 - val_loss: 0.5618 - val_accuracy: 0.5934\n",
            "              precision    recall  f1-score   support\n",
            "\n",
            "  Lungcancer       0.53      0.32      0.40        28\n",
            "      Normal       0.66      0.94      0.78        33\n",
            "Tuberculosis       0.52      0.47      0.49        30\n",
            "\n",
            "    accuracy                           0.59        91\n",
            "   macro avg       0.57      0.58      0.56        91\n",
            "weighted avg       0.57      0.59      0.57        91\n",
            "\n",
            "Fold #2\n",
            "Epoch 1/30\n",
            "11/11 [==============================] - 94s 9s/step - loss: 0.5299 - accuracy: 0.6619 - val_loss: 0.5576 - val_accuracy: 0.6111\n",
            "Epoch 2/30\n",
            "11/11 [==============================] - 90s 8s/step - loss: 0.5337 - accuracy: 0.6413 - val_loss: 0.5512 - val_accuracy: 0.6222\n",
            "Epoch 3/30\n",
            "11/11 [==============================] - 89s 8s/step - loss: 0.5316 - accuracy: 0.6657 - val_loss: 0.5509 - val_accuracy: 0.6111\n",
            "Epoch 4/30\n",
            "11/11 [==============================] - 90s 8s/step - loss: 0.5263 - accuracy: 0.6778 - val_loss: 0.5497 - val_accuracy: 0.6111\n",
            "Epoch 5/30\n",
            "11/11 [==============================] - 89s 8s/step - loss: 0.5229 - accuracy: 0.6687 - val_loss: 0.5482 - val_accuracy: 0.6111\n",
            "              precision    recall  f1-score   support\n",
            "\n",
            "  Lungcancer       0.82      0.55      0.65        33\n",
            "      Normal       0.53      1.00      0.69        26\n",
            "Tuberculosis       0.58      0.35      0.44        31\n",
            "\n",
            "    accuracy                           0.61        90\n",
            "   macro avg       0.64      0.63      0.60        90\n",
            "weighted avg       0.65      0.61      0.59        90\n",
            "\n",
            "Fold #3\n",
            "Epoch 1/30\n",
            "11/11 [==============================] - 88s 8s/step - loss: 0.5204 - accuracy: 0.6900 - val_loss: 0.5312 - val_accuracy: 0.6667\n",
            "Epoch 2/30\n",
            "11/11 [==============================] - 87s 8s/step - loss: 0.5241 - accuracy: 0.6565 - val_loss: 0.5281 - val_accuracy: 0.6556\n",
            "Epoch 3/30\n",
            "11/11 [==============================] - 87s 8s/step - loss: 0.5092 - accuracy: 0.6809 - val_loss: 0.5241 - val_accuracy: 0.6667\n",
            "Epoch 4/30\n",
            "11/11 [==============================] - 87s 8s/step - loss: 0.5120 - accuracy: 0.6930 - val_loss: 0.5214 - val_accuracy: 0.6667\n",
            "              precision    recall  f1-score   support\n",
            "\n",
            "  Lungcancer       0.76      0.45      0.57        29\n",
            "      Normal       0.69      1.00      0.81        33\n",
            "Tuberculosis       0.56      0.50      0.53        28\n",
            "\n",
            "    accuracy                           0.67        90\n",
            "   macro avg       0.67      0.65      0.64        90\n",
            "weighted avg       0.67      0.67      0.65        90\n",
            "\n",
            "Fold #4\n",
            "Epoch 1/30\n",
            "11/11 [==============================] - 88s 8s/step - loss: 0.5089 - accuracy: 0.6839 - val_loss: 0.5101 - val_accuracy: 0.6778\n",
            "Epoch 2/30\n",
            "11/11 [==============================] - 88s 8s/step - loss: 0.5013 - accuracy: 0.6900 - val_loss: 0.5071 - val_accuracy: 0.6889\n",
            "Epoch 3/30\n",
            "11/11 [==============================] - 90s 8s/step - loss: 0.5070 - accuracy: 0.6626 - val_loss: 0.5033 - val_accuracy: 0.7111\n",
            "Epoch 4/30\n",
            "11/11 [==============================] - 89s 8s/step - loss: 0.4987 - accuracy: 0.6991 - val_loss: 0.5000 - val_accuracy: 0.7111\n",
            "Epoch 5/30\n",
            "11/11 [==============================] - 89s 8s/step - loss: 0.4928 - accuracy: 0.6960 - val_loss: 0.5019 - val_accuracy: 0.6556\n",
            "Epoch 6/30\n",
            "11/11 [==============================] - 90s 8s/step - loss: 0.4925 - accuracy: 0.7112 - val_loss: 0.4969 - val_accuracy: 0.6889\n",
            "              precision    recall  f1-score   support\n",
            "\n",
            "  Lungcancer       1.00      0.53      0.70        30\n",
            "      Normal       0.58      1.00      0.74        31\n",
            "Tuberculosis       0.71      0.52      0.60        29\n",
            "\n",
            "    accuracy                           0.69        90\n",
            "   macro avg       0.77      0.68      0.68        90\n",
            "weighted avg       0.76      0.69      0.68        90\n",
            "\n",
            "Fold #5\n",
            "Epoch 1/30\n",
            "11/11 [==============================] - 89s 8s/step - loss: 0.4897 - accuracy: 0.6960 - val_loss: 0.4992 - val_accuracy: 0.6667\n",
            "Epoch 2/30\n",
            "11/11 [==============================] - 90s 9s/step - loss: 0.4849 - accuracy: 0.7234 - val_loss: 0.4983 - val_accuracy: 0.6667\n",
            "Epoch 3/30\n",
            "11/11 [==============================] - 90s 8s/step - loss: 0.4783 - accuracy: 0.7204 - val_loss: 0.4973 - val_accuracy: 0.6667\n",
            "Epoch 4/30\n",
            "11/11 [==============================] - 90s 8s/step - loss: 0.4789 - accuracy: 0.6991 - val_loss: 0.4932 - val_accuracy: 0.6778\n",
            "Epoch 5/30\n",
            "11/11 [==============================] - 94s 9s/step - loss: 0.4683 - accuracy: 0.7557 - val_loss: 0.4927 - val_accuracy: 0.6778\n",
            "Epoch 6/30\n",
            "11/11 [==============================] - 94s 9s/step - loss: 0.4714 - accuracy: 0.7447 - val_loss: 0.4897 - val_accuracy: 0.6667\n",
            "Epoch 7/30\n",
            "11/11 [==============================] - 94s 9s/step - loss: 0.4737 - accuracy: 0.7112 - val_loss: 0.4855 - val_accuracy: 0.6889\n",
            "Epoch 8/30\n",
            "11/11 [==============================] - 93s 9s/step - loss: 0.4545 - accuracy: 0.7416 - val_loss: 0.4847 - val_accuracy: 0.6778\n",
            "Epoch 9/30\n",
            "11/11 [==============================] - 93s 9s/step - loss: 0.4643 - accuracy: 0.7386 - val_loss: 0.4846 - val_accuracy: 0.6778\n",
            "Epoch 10/30\n",
            "11/11 [==============================] - 98s 9s/step - loss: 0.4677 - accuracy: 0.7045 - val_loss: 0.4809 - val_accuracy: 0.6778\n",
            "              precision    recall  f1-score   support\n",
            "\n",
            "  Lungcancer       0.69      0.73      0.71        30\n",
            "      Normal       0.63      0.96      0.76        28\n",
            "Tuberculosis       0.80      0.38      0.51        32\n",
            "\n",
            "    accuracy                           0.68        90\n",
            "   macro avg       0.71      0.69      0.66        90\n",
            "weighted avg       0.71      0.68      0.65        90\n",
            "\n"
          ]
        }
      ]
    },
    {
      "cell_type": "code",
      "source": [
        "oos_y31 = np.concatenate(oos_y31)\n",
        "oos_pred31 = np.concatenate(oos_pred31)"
      ],
      "metadata": {
        "id": "-OOoVK5zbMff"
      },
      "execution_count": null,
      "outputs": []
    },
    {
      "cell_type": "code",
      "source": [
        "score = metrics.accuracy_score(oos_y31.argmax(axis=1),\t        #ค่า acc\n",
        "                                             oos_pred31.argmax(axis=1) )\n",
        "print(f\"Fold score (accuracy): {score}\")\n",
        "\n",
        "print(classification_report(oos_y31.argmax(axis=1),\t                #แสดง report ค่า acc, recall, ...\n",
        "                                        oos_pred31.argmax(axis=1),  \n",
        "                                        target_names=le_Dense.classes_))"
      ],
      "metadata": {
        "colab": {
          "base_uri": "https://localhost:8080/"
        },
        "outputId": "7c5fd9b0-0507-4d94-84aa-9a8e0408f6b6",
        "id": "0Ip9CnyRbMff"
      },
      "execution_count": null,
      "outputs": [
        {
          "output_type": "stream",
          "name": "stdout",
          "text": [
            "Fold score (accuracy): 0.647450110864745\n",
            "              precision    recall  f1-score   support\n",
            "\n",
            "  Lungcancer       0.75      0.52      0.61       150\n",
            "      Normal       0.62      0.98      0.76       151\n",
            "Tuberculosis       0.62      0.44      0.51       150\n",
            "\n",
            "    accuracy                           0.65       451\n",
            "   macro avg       0.66      0.65      0.63       451\n",
            "weighted avg       0.66      0.65      0.63       451\n",
            "\n"
          ]
        }
      ]
    },
    {
      "cell_type": "markdown",
      "source": [
        "## 4) K-fold  -- DenseNet201 \n",
        "\n",
        "### -->ACC = 0.72\n",
        "### -->เวลา 4859 วินาที\n",
        "\n",
        "*   BS = 1\n",
        "*   activation=\"softmax\"\n",
        "*   learning_rate=0.0001\n",
        "*   epoch 30"
      ],
      "metadata": {
        "id": "5CB2GEyXeaYe"
      }
    },
    {
      "cell_type": "code",
      "source": [
        "train_img_Dense = []\n",
        "for ImageName in tqdm(data_train3['ImageName']):               # รัน ชื่อรูป ในไฟล์ data_test3\n",
        "    image_path = All_3class_dir +'/' + ImageName                   # ดึงรูปในโฟล์เดอร์มาทีละรูป\n",
        "    img = cv2.imread(image_path)                                            # อ่านรูป\n",
        "    img = cv2.resize(img, (224, 224))                                       #ขนาดของ input\n",
        "    train_img_Dense.append(img)\n",
        "\n",
        "data_Dense = np.array(train_img_Dense, dtype=\"float32\") / 255.0"
      ],
      "metadata": {
        "id": "baqr2rXweaYo",
        "colab": {
          "base_uri": "https://localhost:8080/"
        },
        "outputId": "3e4b2e17-deeb-4138-f9f0-9e0ba577629e"
      },
      "execution_count": null,
      "outputs": [
        {
          "output_type": "stream",
          "name": "stderr",
          "text": [
            "100%|██████████| 451/451 [02:08<00:00,  3.51it/s]\n"
          ]
        }
      ]
    },
    {
      "cell_type": "code",
      "source": [
        "labels_Dense = np.array(data_train3[['NameType']] )        \n",
        "labels_Dense.shape = (len(labels_Dense),) \n",
        "\n",
        "le_Dense = LabelEncoder()                                                                     \n",
        "labels_Dense = le_Dense.fit_transform(labels_Dense)                                         #จะแปลงชื่อ class เป็นตัวเลข 1, 2, 0 \n",
        "\n",
        "labels_Dense = to_categorical(labels_Dense, num_classes=3)                   #shape (180, 3) มีค่าเป็น  [0., 1., 0.]  กับ   [0., 0., 1.] กับ  [1., 0., 0.]"
      ],
      "metadata": {
        "id": "5tSPXlUHeaYp"
      },
      "execution_count": null,
      "outputs": []
    },
    {
      "cell_type": "code",
      "source": [
        "INIT_LR = 1e-1\n",
        "BS = 1\n",
        "EPOCHS = 50\n",
        "\n",
        "aug4 = ImageDataGenerator(\n",
        "\t\trotation_range=15,\t\t\t\t\t\t#องศาการหมุน\n",
        "\t\twidth_shift_range=0.1,\n",
        "\t\theight_shift_range=0.1,\n",
        "\t\tshear_range=0.15,\n",
        "\t\thorizontal_flip=True,\n",
        "\t\tfill_mode=\"nearest\")\n",
        "\n",
        "callback = tf.keras.callbacks.EarlyStopping(\n",
        "                monitor=\"val_accuracy\",\n",
        "                patience=3,\n",
        "                mode=\"max\" )"
      ],
      "metadata": {
        "id": "JbMXZH0PeaYq"
      },
      "execution_count": null,
      "outputs": []
    },
    {
      "cell_type": "code",
      "source": [
        "base_model_Dense = tf.keras.applications.DenseNet201(input_shape=(224, 224, 3), include_top=False, weights=\"imagenet\")\n",
        "base_model_Dense.trainable=False\n",
        "\n",
        "#Add custom head\n",
        "average_pooling_layer = tf.keras.layers.GlobalAveragePooling2D()(base_model_Dense.output)\n",
        "prediction_layer = tf.keras.layers.Dense(units=3, activation=\"softmax\")(average_pooling_layer)   # unit 3\n",
        "model_Dense4 = tf.keras.models.Model(inputs=base_model_Dense.input, outputs=prediction_layer)\n",
        "\n",
        "model_Dense4.compile(optimizer=tf.keras.optimizers.RMSprop(learning_rate=0.0001), loss=\"binary_crossentropy\", metrics=[\"accuracy\"])"
      ],
      "metadata": {
        "id": "1nnU_aDdeaYr",
        "colab": {
          "base_uri": "https://localhost:8080/"
        },
        "outputId": "0620566c-521a-445e-8e62-c727a1443fa6"
      },
      "execution_count": null,
      "outputs": [
        {
          "output_type": "stream",
          "name": "stdout",
          "text": [
            "Downloading data from https://storage.googleapis.com/tensorflow/keras-applications/densenet/densenet201_weights_tf_dim_ordering_tf_kernels_notop.h5\n",
            "74842112/74836368 [==============================] - 1s 0us/step\n",
            "74850304/74836368 [==============================] - 1s 0us/step\n"
          ]
        }
      ]
    },
    {
      "cell_type": "code",
      "source": [
        "kf_Dense4 = KFold(5, shuffle=True, random_state=40) \n",
        "\n",
        "oos_y4 = []\n",
        "oos_pred4 = []\n",
        "fold = 0\n",
        "\n",
        "for train, test in kf_Dense4.split(data_Dense):\n",
        "    fold+=1\n",
        "    print(f\"Fold #{fold}\")\n",
        "        \n",
        "    x_train_Dense4 = data_Dense[train]\n",
        "    y_train_Dense4 = labels_Dense[train]\n",
        "    x_test_Dense4 = data_Dense[test]\n",
        "    y_test_Dense4 = labels_Dense[test]\n",
        "\n",
        "    H_Dense4 = model_Dense4.fit( x=aug4.flow(x_train_Dense4, y_train_Dense4, batch_size=BS),\n",
        "\t                                            validation_data=(x_test_Dense4, y_test_Dense4),\n",
        "\t                                            steps_per_epoch=len(x_train_Dense4) // BS,\n",
        "\t                                            epochs=30,  callbacks = [callback])\n",
        "    \n",
        "    pred_Dense4 = model_Dense4.predict(x_test_Dense4)\n",
        "    \n",
        "    oos_y4.append(y_test_Dense4)\n",
        "    oos_pred4.append(pred_Dense4)  \n",
        "    print(classification_report(y_test_Dense4.argmax(axis=1),\t                #แสดง report ค่า acc, recall, ...\n",
        "                                        pred_Dense4.argmax(axis=1),  \n",
        "                                        target_names=le_Dense.classes_))\n",
        "\n",
        "#   score = metrics.accuracy_score(y_test3_Incep.argmax(axis=1),\t        #ค่า acc\n",
        "#                                               pred3_Incep.argmax(axis=1)\n",
        "#    print(f\"Fold score (accuracy): {score}\")\n",
        "\n",
        "#    print(confusion_matrix(testY3_Incep.argmax(axis=1),\t                       #แสดง confusion_matrix\n",
        "#                        pred3_Incep.argmax(axis=1) ) )"
      ],
      "metadata": {
        "id": "kIOhgFQjeaYr",
        "colab": {
          "base_uri": "https://localhost:8080/"
        },
        "outputId": "c24ed2f3-43d8-4cda-82c5-0517e471b541"
      },
      "execution_count": null,
      "outputs": [
        {
          "output_type": "stream",
          "name": "stdout",
          "text": [
            "Fold #1\n",
            "Epoch 1/30\n",
            "360/360 [==============================] - 119s 301ms/step - loss: 0.6247 - accuracy: 0.4861 - val_loss: 0.5918 - val_accuracy: 0.6374\n",
            "Epoch 2/30\n",
            "360/360 [==============================] - 113s 313ms/step - loss: 0.5784 - accuracy: 0.5861 - val_loss: 0.5540 - val_accuracy: 0.6264\n",
            "Epoch 3/30\n",
            "360/360 [==============================] - 171s 474ms/step - loss: 0.5459 - accuracy: 0.6139 - val_loss: 0.5396 - val_accuracy: 0.6264\n",
            "Epoch 4/30\n",
            "360/360 [==============================] - 192s 534ms/step - loss: 0.5245 - accuracy: 0.6639 - val_loss: 0.5129 - val_accuracy: 0.6264\n",
            "              precision    recall  f1-score   support\n",
            "\n",
            "  Lungcancer       0.58      0.68      0.62        28\n",
            "      Normal       0.65      0.97      0.78        33\n",
            "Tuberculosis       0.67      0.20      0.31        30\n",
            "\n",
            "    accuracy                           0.63        91\n",
            "   macro avg       0.63      0.62      0.57        91\n",
            "weighted avg       0.63      0.63      0.58        91\n",
            "\n",
            "Fold #2\n",
            "Epoch 1/30\n",
            "361/361 [==============================] - 126s 349ms/step - loss: 0.4972 - accuracy: 0.6731 - val_loss: 0.4991 - val_accuracy: 0.6556\n",
            "Epoch 2/30\n",
            "361/361 [==============================] - 115s 319ms/step - loss: 0.4923 - accuracy: 0.6842 - val_loss: 0.4819 - val_accuracy: 0.7000\n",
            "Epoch 3/30\n",
            "361/361 [==============================] - 206s 572ms/step - loss: 0.4661 - accuracy: 0.6925 - val_loss: 0.4690 - val_accuracy: 0.6778\n",
            "Epoch 4/30\n",
            "361/361 [==============================] - 125s 346ms/step - loss: 0.4615 - accuracy: 0.7175 - val_loss: 0.4504 - val_accuracy: 0.7333\n",
            "Epoch 5/30\n",
            "361/361 [==============================] - 210s 583ms/step - loss: 0.4472 - accuracy: 0.7147 - val_loss: 0.4503 - val_accuracy: 0.7222\n",
            "Epoch 6/30\n",
            "361/361 [==============================] - 204s 565ms/step - loss: 0.4351 - accuracy: 0.7230 - val_loss: 0.4451 - val_accuracy: 0.6889\n",
            "Epoch 7/30\n",
            "361/361 [==============================] - 218s 605ms/step - loss: 0.4264 - accuracy: 0.7202 - val_loss: 0.4329 - val_accuracy: 0.7111\n",
            "              precision    recall  f1-score   support\n",
            "\n",
            "  Lungcancer       0.74      0.76      0.75        33\n",
            "      Normal       0.66      0.96      0.78        26\n",
            "Tuberculosis       0.78      0.45      0.57        31\n",
            "\n",
            "    accuracy                           0.71        90\n",
            "   macro avg       0.72      0.72      0.70        90\n",
            "weighted avg       0.73      0.71      0.70        90\n",
            "\n",
            "Fold #3\n",
            "Epoch 1/30\n",
            "361/361 [==============================] - 137s 379ms/step - loss: 0.4269 - accuracy: 0.7230 - val_loss: 0.4284 - val_accuracy: 0.7000\n",
            "Epoch 2/30\n",
            "361/361 [==============================] - 226s 626ms/step - loss: 0.4150 - accuracy: 0.7341 - val_loss: 0.4168 - val_accuracy: 0.7222\n",
            "Epoch 3/30\n",
            "361/361 [==============================] - 260s 722ms/step - loss: 0.4089 - accuracy: 0.7562 - val_loss: 0.4137 - val_accuracy: 0.7000\n",
            "Epoch 4/30\n",
            "361/361 [==============================] - 247s 686ms/step - loss: 0.3991 - accuracy: 0.7590 - val_loss: 0.4153 - val_accuracy: 0.7000\n",
            "Epoch 5/30\n",
            "361/361 [==============================] - 229s 635ms/step - loss: 0.3971 - accuracy: 0.7452 - val_loss: 0.4089 - val_accuracy: 0.7000\n",
            "              precision    recall  f1-score   support\n",
            "\n",
            "  Lungcancer       0.64      0.72      0.68        29\n",
            "      Normal       0.72      1.00      0.84        33\n",
            "Tuberculosis       0.82      0.32      0.46        28\n",
            "\n",
            "    accuracy                           0.70        90\n",
            "   macro avg       0.72      0.68      0.66        90\n",
            "weighted avg       0.72      0.70      0.67        90\n",
            "\n",
            "Fold #4\n",
            "Epoch 1/30\n",
            "361/361 [==============================] - 106s 293ms/step - loss: 0.3888 - accuracy: 0.7590 - val_loss: 0.3712 - val_accuracy: 0.7889\n",
            "Epoch 2/30\n",
            "361/361 [==============================] - 106s 295ms/step - loss: 0.3901 - accuracy: 0.7618 - val_loss: 0.3836 - val_accuracy: 0.7667\n",
            "Epoch 3/30\n",
            "361/361 [==============================] - 110s 306ms/step - loss: 0.4050 - accuracy: 0.7479 - val_loss: 0.3661 - val_accuracy: 0.8000\n",
            "Epoch 4/30\n",
            "361/361 [==============================] - 109s 303ms/step - loss: 0.3828 - accuracy: 0.7812 - val_loss: 0.3718 - val_accuracy: 0.7889\n",
            "Epoch 5/30\n",
            "361/361 [==============================] - 113s 313ms/step - loss: 0.3781 - accuracy: 0.7645 - val_loss: 0.3754 - val_accuracy: 0.7667\n",
            "Epoch 6/30\n",
            "361/361 [==============================] - 106s 293ms/step - loss: 0.3866 - accuracy: 0.7590 - val_loss: 0.3736 - val_accuracy: 0.7667\n",
            "              precision    recall  f1-score   support\n",
            "\n",
            "  Lungcancer       0.91      0.70      0.79        30\n",
            "      Normal       0.66      1.00      0.79        31\n",
            "Tuberculosis       0.85      0.59      0.69        29\n",
            "\n",
            "    accuracy                           0.77        90\n",
            "   macro avg       0.81      0.76      0.76        90\n",
            "weighted avg       0.81      0.77      0.76        90\n",
            "\n",
            "Fold #5\n",
            "Epoch 1/30\n",
            "361/361 [==============================] - 114s 316ms/step - loss: 0.3769 - accuracy: 0.7618 - val_loss: 0.3850 - val_accuracy: 0.7333\n",
            "Epoch 2/30\n",
            "361/361 [==============================] - 109s 301ms/step - loss: 0.3757 - accuracy: 0.7479 - val_loss: 0.3801 - val_accuracy: 0.7556\n",
            "Epoch 3/30\n",
            "361/361 [==============================] - 108s 300ms/step - loss: 0.3808 - accuracy: 0.7729 - val_loss: 0.3667 - val_accuracy: 0.7889\n",
            "Epoch 4/30\n",
            "361/361 [==============================] - 122s 339ms/step - loss: 0.3646 - accuracy: 0.7562 - val_loss: 0.3642 - val_accuracy: 0.7889\n",
            "Epoch 5/30\n",
            "361/361 [==============================] - 122s 339ms/step - loss: 0.3612 - accuracy: 0.7867 - val_loss: 0.3625 - val_accuracy: 0.7889\n",
            "Epoch 6/30\n",
            "361/361 [==============================] - 121s 336ms/step - loss: 0.3624 - accuracy: 0.7812 - val_loss: 0.3610 - val_accuracy: 0.7778\n",
            "              precision    recall  f1-score   support\n",
            "\n",
            "  Lungcancer       0.77      0.77      0.77        30\n",
            "      Normal       0.82      0.96      0.89        28\n",
            "Tuberculosis       0.74      0.62      0.68        32\n",
            "\n",
            "    accuracy                           0.78        90\n",
            "   macro avg       0.78      0.79      0.78        90\n",
            "weighted avg       0.77      0.78      0.77        90\n",
            "\n"
          ]
        }
      ]
    },
    {
      "cell_type": "code",
      "source": [
        "oos_y4 = np.concatenate(oos_y4)\n",
        "oos_pred4 = np.concatenate(oos_pred4)"
      ],
      "metadata": {
        "id": "GU7HoemBeaYs"
      },
      "execution_count": null,
      "outputs": []
    },
    {
      "cell_type": "code",
      "source": [
        "score = metrics.accuracy_score(oos_y4.argmax(axis=1),\t        #ค่า acc\n",
        "                                             oos_pred4.argmax(axis=1) )\n",
        "print(f\"Fold score (accuracy): {score}\")\n",
        "\n",
        "print(classification_report(oos_y4.argmax(axis=1),\t                #แสดง report ค่า acc, recall, ...\n",
        "                                        oos_pred4.argmax(axis=1),  \n",
        "                                        target_names=le_Dense.classes_))"
      ],
      "metadata": {
        "colab": {
          "base_uri": "https://localhost:8080/"
        },
        "outputId": "e126078c-4edc-435b-d5c6-ca67e2dc073a",
        "id": "LGk8dlfbeaYs"
      },
      "execution_count": null,
      "outputs": [
        {
          "output_type": "stream",
          "name": "stdout",
          "text": [
            "Fold score (accuracy): 0.7161862527716186\n",
            "              precision    recall  f1-score   support\n",
            "\n",
            "  Lungcancer       0.71      0.73      0.72       150\n",
            "      Normal       0.69      0.98      0.81       151\n",
            "Tuberculosis       0.78      0.44      0.56       150\n",
            "\n",
            "    accuracy                           0.72       451\n",
            "   macro avg       0.73      0.72      0.70       451\n",
            "weighted avg       0.73      0.72      0.70       451\n",
            "\n"
          ]
        }
      ]
    },
    {
      "cell_type": "markdown",
      "source": [
        "## 4.1) K-fold  -- DenseNet201  \n",
        "\n",
        "### -->ACC = 0.71\n",
        "### -->เวลา 3232.937 วินาที หรือ 53 นาที\n",
        "\n",
        "*   BS = 1\n",
        "*   activation=\"sigmoid\"\n",
        "*   learning_rate=0.0001\n",
        "*   epoch 30"
      ],
      "metadata": {
        "id": "RqacTDj4flkn"
      }
    },
    {
      "cell_type": "code",
      "source": [
        "train_img_Dense = []\n",
        "for ImageName in tqdm(data_train3['ImageName']):               # รัน ชื่อรูป ในไฟล์ data_test3\n",
        "    image_path = All_3class_dir +'/' + ImageName                   # ดึงรูปในโฟล์เดอร์มาทีละรูป\n",
        "    img = cv2.imread(image_path)                                            # อ่านรูป\n",
        "    img = cv2.resize(img, (224, 224))                                       #ขนาดของ input\n",
        "    train_img_Dense.append(img)\n",
        "\n",
        "data_Dense = np.array(train_img_Dense, dtype=\"float32\") / 255.0"
      ],
      "metadata": {
        "colab": {
          "base_uri": "https://localhost:8080/"
        },
        "outputId": "99352f00-f15b-4290-db90-f3190dc8a90c",
        "id": "C0-pbnYQflkp"
      },
      "execution_count": null,
      "outputs": [
        {
          "output_type": "stream",
          "name": "stderr",
          "text": [
            "100%|██████████| 451/451 [00:04<00:00, 94.46it/s] \n"
          ]
        }
      ]
    },
    {
      "cell_type": "code",
      "source": [
        "labels_Dense = np.array(data_train3[['NameType']] )        \n",
        "labels_Dense.shape = (len(labels_Dense),) \n",
        "\n",
        "le_Dense = LabelEncoder()                                                                     \n",
        "labels_Dense = le_Dense.fit_transform(labels_Dense)                                         #จะแปลงชื่อ class เป็นตัวเลข 1, 2, 0 \n",
        "\n",
        "labels_Dense = to_categorical(labels_Dense, num_classes=3)                   #shape (180, 3) มีค่าเป็น  [0., 1., 0.]  กับ   [0., 0., 1.] กับ  [1., 0., 0.]"
      ],
      "metadata": {
        "id": "levSvyvzflkr"
      },
      "execution_count": null,
      "outputs": []
    },
    {
      "cell_type": "code",
      "source": [
        "INIT_LR = 1e-1\n",
        "BS = 1\n",
        "EPOCHS = 50\n",
        "\n",
        "aug41 = ImageDataGenerator(\n",
        "\t\trotation_range=15,\t\t\t\t\t\t#องศาการหมุน\n",
        "\t\twidth_shift_range=0.1,\n",
        "\t\theight_shift_range=0.1,\n",
        "\t\tshear_range=0.15,\n",
        "\t\thorizontal_flip=True,\n",
        "\t\tfill_mode=\"nearest\")\n",
        "\n",
        "callback = tf.keras.callbacks.EarlyStopping(\n",
        "                monitor=\"val_accuracy\",\n",
        "                patience=3,\n",
        "                mode=\"max\" )"
      ],
      "metadata": {
        "id": "qZehjeByflks"
      },
      "execution_count": null,
      "outputs": []
    },
    {
      "cell_type": "code",
      "source": [
        "base_model_Dense = tf.keras.applications.DenseNet201(input_shape=(224, 224, 3), include_top=False, weights=\"imagenet\")\n",
        "base_model_Dense.trainable=False\n",
        "\n",
        "#Add custom head\n",
        "average_pooling_layer = tf.keras.layers.GlobalAveragePooling2D()(base_model_Dense.output)\n",
        "prediction_layer = tf.keras.layers.Dense(units=3, activation=\"sigmoid\")(average_pooling_layer)   # unit 3\n",
        "model_Dense41 = tf.keras.models.Model(inputs=base_model_Dense.input, outputs=prediction_layer)\n",
        "\n",
        "model_Dense41.compile(optimizer=tf.keras.optimizers.RMSprop(learning_rate=0.0001), loss=\"binary_crossentropy\", metrics=[\"accuracy\"])"
      ],
      "metadata": {
        "id": "aGFC1tDtflkt"
      },
      "execution_count": null,
      "outputs": []
    },
    {
      "cell_type": "code",
      "source": [
        "kf_Dense41 = KFold(5, shuffle=True, random_state=40) \n",
        "\n",
        "oos_y41 = []\n",
        "oos_pred41 = []\n",
        "fold = 0\n",
        "\n",
        "for train, test in kf_Dense41.split(data_Dense):\n",
        "    fold+=1\n",
        "    print(f\"Fold #{fold}\")\n",
        "        \n",
        "    x_train_Dense41 = data_Dense[train]\n",
        "    y_train_Dense41 = labels_Dense[train]\n",
        "    x_test_Dense41 = data_Dense[test]\n",
        "    y_test_Dense41 = labels_Dense[test]\n",
        "\n",
        "    H_Dense41 = model_Dense41.fit( x=aug41.flow(x_train_Dense41, y_train_Dense41, batch_size=BS),\n",
        "\t                                            validation_data=(x_test_Dense41, y_test_Dense41),\n",
        "\t                                            steps_per_epoch=len(x_train_Dense41) // BS,\n",
        "\t                                            epochs=30,  callbacks = [callback])\n",
        "    \n",
        "    pred_Dense41 = model_Dense41.predict(x_test_Dense41)\n",
        "    \n",
        "    oos_y41.append(y_test_Dense41)\n",
        "    oos_pred41.append(pred_Dense41)  \n",
        "    print(classification_report(y_test_Dense41.argmax(axis=1),\t                #แสดง report ค่า acc, recall, ...\n",
        "                                        pred_Dense41.argmax(axis=1),  \n",
        "                                        target_names=le_Dense.classes_))\n",
        "\n",
        "#   score = metrics.accuracy_score(y_test3_Incep.argmax(axis=1),\t        #ค่า acc\n",
        "#                                               pred3_Incep.argmax(axis=1)\n",
        "#    print(f\"Fold score (accuracy): {score}\")\n",
        "\n",
        "#    print(confusion_matrix(testY3_Incep.argmax(axis=1),\t                       #แสดง confusion_matrix\n",
        "#                        pred3_Incep.argmax(axis=1) ) )"
      ],
      "metadata": {
        "colab": {
          "base_uri": "https://localhost:8080/"
        },
        "id": "pTP9GZOPflku",
        "outputId": "88ea044e-ebb7-44b3-a9a6-4ad5ba1ea381"
      },
      "execution_count": null,
      "outputs": [
        {
          "output_type": "stream",
          "name": "stdout",
          "text": [
            "Fold #1\n",
            "Epoch 1/30\n",
            "360/360 [==============================] - 124s 317ms/step - loss: 0.6712 - accuracy: 0.3111 - val_loss: 0.6311 - val_accuracy: 0.4176\n",
            "Epoch 2/30\n",
            "360/360 [==============================] - 136s 377ms/step - loss: 0.6247 - accuracy: 0.4306 - val_loss: 0.5933 - val_accuracy: 0.5385\n",
            "Epoch 3/30\n",
            "360/360 [==============================] - 137s 381ms/step - loss: 0.5871 - accuracy: 0.5389 - val_loss: 0.5626 - val_accuracy: 0.6484\n",
            "Epoch 4/30\n",
            "360/360 [==============================] - 125s 348ms/step - loss: 0.5525 - accuracy: 0.5917 - val_loss: 0.5368 - val_accuracy: 0.6484\n",
            "Epoch 5/30\n",
            "360/360 [==============================] - 114s 317ms/step - loss: 0.5319 - accuracy: 0.6472 - val_loss: 0.5142 - val_accuracy: 0.6484\n",
            "Epoch 6/30\n",
            "360/360 [==============================] - 118s 329ms/step - loss: 0.5138 - accuracy: 0.6722 - val_loss: 0.4983 - val_accuracy: 0.6484\n",
            "              precision    recall  f1-score   support\n",
            "\n",
            "  Lungcancer       0.59      0.36      0.44        28\n",
            "      Normal       0.79      0.94      0.86        33\n",
            "Tuberculosis       0.51      0.60      0.55        30\n",
            "\n",
            "    accuracy                           0.65        91\n",
            "   macro avg       0.63      0.63      0.62        91\n",
            "weighted avg       0.64      0.65      0.63        91\n",
            "\n",
            "Fold #2\n",
            "Epoch 1/30\n",
            "361/361 [==============================] - 115s 320ms/step - loss: 0.4887 - accuracy: 0.6870 - val_loss: 0.5190 - val_accuracy: 0.6333\n",
            "Epoch 2/30\n",
            "361/361 [==============================] - 104s 289ms/step - loss: 0.4756 - accuracy: 0.6620 - val_loss: 0.4802 - val_accuracy: 0.7222\n",
            "Epoch 3/30\n",
            "361/361 [==============================] - 104s 289ms/step - loss: 0.4606 - accuracy: 0.6981 - val_loss: 0.4689 - val_accuracy: 0.6889\n",
            "Epoch 4/30\n",
            "361/361 [==============================] - 105s 290ms/step - loss: 0.4511 - accuracy: 0.6898 - val_loss: 0.4865 - val_accuracy: 0.6444\n",
            "Epoch 5/30\n",
            "361/361 [==============================] - 118s 328ms/step - loss: 0.4445 - accuracy: 0.7147 - val_loss: 0.4673 - val_accuracy: 0.6889\n",
            "              precision    recall  f1-score   support\n",
            "\n",
            "  Lungcancer       0.81      0.67      0.73        33\n",
            "      Normal       0.57      1.00      0.72        26\n",
            "Tuberculosis       0.82      0.45      0.58        31\n",
            "\n",
            "    accuracy                           0.69        90\n",
            "   macro avg       0.73      0.71      0.68        90\n",
            "weighted avg       0.75      0.69      0.68        90\n",
            "\n",
            "Fold #3\n",
            "Epoch 1/30\n",
            "361/361 [==============================] - 103s 287ms/step - loss: 0.4409 - accuracy: 0.7230 - val_loss: 0.4351 - val_accuracy: 0.7444\n",
            "Epoch 2/30\n",
            "361/361 [==============================] - 102s 284ms/step - loss: 0.4237 - accuracy: 0.7230 - val_loss: 0.4283 - val_accuracy: 0.7222\n",
            "Epoch 3/30\n",
            "361/361 [==============================] - 101s 281ms/step - loss: 0.4261 - accuracy: 0.7285 - val_loss: 0.4176 - val_accuracy: 0.7444\n",
            "Epoch 4/30\n",
            "361/361 [==============================] - 102s 281ms/step - loss: 0.4186 - accuracy: 0.7368 - val_loss: 0.4145 - val_accuracy: 0.7111\n",
            "              precision    recall  f1-score   support\n",
            "\n",
            "  Lungcancer       0.75      0.62      0.68        29\n",
            "      Normal       0.69      1.00      0.81        33\n",
            "Tuberculosis       0.72      0.46      0.57        28\n",
            "\n",
            "    accuracy                           0.71        90\n",
            "   macro avg       0.72      0.69      0.69        90\n",
            "weighted avg       0.72      0.71      0.69        90\n",
            "\n",
            "Fold #4\n",
            "Epoch 1/30\n",
            "361/361 [==============================] - 105s 291ms/step - loss: 0.4084 - accuracy: 0.7424 - val_loss: 0.4029 - val_accuracy: 0.7778\n",
            "Epoch 2/30\n",
            "361/361 [==============================] - 105s 291ms/step - loss: 0.4097 - accuracy: 0.7258 - val_loss: 0.3959 - val_accuracy: 0.7889\n",
            "Epoch 3/30\n",
            "361/361 [==============================] - 103s 286ms/step - loss: 0.4000 - accuracy: 0.7590 - val_loss: 0.3965 - val_accuracy: 0.7667\n",
            "Epoch 4/30\n",
            "361/361 [==============================] - 106s 294ms/step - loss: 0.4055 - accuracy: 0.7452 - val_loss: 0.3945 - val_accuracy: 0.7778\n",
            "Epoch 5/30\n",
            "361/361 [==============================] - 107s 297ms/step - loss: 0.4029 - accuracy: 0.7479 - val_loss: 0.4021 - val_accuracy: 0.7556\n",
            "              precision    recall  f1-score   support\n",
            "\n",
            "  Lungcancer       1.00      0.50      0.67        30\n",
            "      Normal       0.72      1.00      0.84        31\n",
            "Tuberculosis       0.69      0.76      0.72        29\n",
            "\n",
            "    accuracy                           0.76        90\n",
            "   macro avg       0.80      0.75      0.74        90\n",
            "weighted avg       0.80      0.76      0.74        90\n",
            "\n",
            "Fold #5\n",
            "Epoch 1/30\n",
            "361/361 [==============================] - 108s 299ms/step - loss: 0.3930 - accuracy: 0.7452 - val_loss: 0.3906 - val_accuracy: 0.7667\n",
            "Epoch 2/30\n",
            "361/361 [==============================] - 107s 296ms/step - loss: 0.3800 - accuracy: 0.7729 - val_loss: 0.3795 - val_accuracy: 0.8222\n",
            "Epoch 3/30\n",
            "361/361 [==============================] - 107s 298ms/step - loss: 0.3711 - accuracy: 0.7812 - val_loss: 0.3805 - val_accuracy: 0.7667\n",
            "Epoch 4/30\n",
            "361/361 [==============================] - 108s 299ms/step - loss: 0.3631 - accuracy: 0.7812 - val_loss: 0.3750 - val_accuracy: 0.7778\n",
            "Epoch 5/30\n",
            "361/361 [==============================] - 107s 295ms/step - loss: 0.3730 - accuracy: 0.7729 - val_loss: 0.3862 - val_accuracy: 0.7222\n",
            "              precision    recall  f1-score   support\n",
            "\n",
            "  Lungcancer       0.67      0.80      0.73        30\n",
            "      Normal       0.75      0.96      0.84        28\n",
            "Tuberculosis       0.78      0.44      0.56        32\n",
            "\n",
            "    accuracy                           0.72        90\n",
            "   macro avg       0.73      0.73      0.71        90\n",
            "weighted avg       0.73      0.72      0.70        90\n",
            "\n"
          ]
        }
      ]
    },
    {
      "cell_type": "code",
      "source": [
        "oos_y41 = np.concatenate(oos_y41)\n",
        "oos_pred41 = np.concatenate(oos_pred41)"
      ],
      "metadata": {
        "id": "v5FDRJS9flkv"
      },
      "execution_count": null,
      "outputs": []
    },
    {
      "cell_type": "code",
      "source": [
        "score = metrics.accuracy_score(oos_y41.argmax(axis=1),\t        #ค่า acc\n",
        "                                             oos_pred41.argmax(axis=1) )\n",
        "print(f\"Fold score (accuracy): {score}\")\n",
        "\n",
        "print(classification_report(oos_y41.argmax(axis=1),\t                #แสดง report ค่า acc, recall, ...\n",
        "                                        oos_pred41.argmax(axis=1),  \n",
        "                                        target_names=le_Dense.classes_))"
      ],
      "metadata": {
        "colab": {
          "base_uri": "https://localhost:8080/"
        },
        "id": "sCpU9ojhflkw",
        "outputId": "d4340845-5fb6-48df-fdca-72e4f00ed3db"
      },
      "execution_count": null,
      "outputs": [
        {
          "output_type": "stream",
          "name": "stdout",
          "text": [
            "Fold score (accuracy): 0.70509977827051\n",
            "              precision    recall  f1-score   support\n",
            "\n",
            "  Lungcancer       0.75      0.59      0.66       150\n",
            "      Normal       0.70      0.98      0.82       151\n",
            "Tuberculosis       0.68      0.54      0.60       150\n",
            "\n",
            "    accuracy                           0.71       451\n",
            "   macro avg       0.71      0.70      0.69       451\n",
            "weighted avg       0.71      0.71      0.69       451\n",
            "\n"
          ]
        }
      ]
    },
    {
      "cell_type": "markdown",
      "source": [
        "# ส่วนใหม่"
      ],
      "metadata": {
        "id": "SIqHETPt8nF3"
      }
    },
    {
      "cell_type": "markdown",
      "source": [
        "## 1) Find Tuning\n",
        "\n",
        "### -->ACC = 0.90\n",
        "\n",
        "*   BS = 32\n",
        "*   activation=\"softmax\"\n",
        "*   fix weight & bias in layer 0-100\n",
        "*   learning_rate=0.0001\n",
        "*   epoch 15"
      ],
      "metadata": {
        "id": "i0p8o7zHG8dn"
      }
    },
    {
      "cell_type": "markdown",
      "source": [
        "##### Data"
      ],
      "metadata": {
        "id": "WCnBlIy1u_3W"
      }
    },
    {
      "cell_type": "code",
      "source": [
        "train_img3_Incep = []\n",
        "for ImageName in tqdm(data_train3['ImageName']):               # รัน ชื่อรูป ในไฟล์ data_test3\n",
        "    image_path = All_3class_dir +'/' + ImageName                   # ดึงรูปในโฟล์เดอร์มาทีละรูป\n",
        "    img = cv2.imread(image_path)                                            # อ่านรูป\n",
        "    img = cv2.resize(img, (299, 299))                                       #ขนาดของ input\n",
        "    train_img3_Incep.append(img)\n",
        "\n",
        "data3_Incep = np.array(train_img3_Incep, dtype=\"float32\") / 255.0"
      ],
      "metadata": {
        "outputId": "30b0e24a-40cc-4556-9686-ab95ddb79988",
        "colab": {
          "base_uri": "https://localhost:8080/"
        },
        "id": "gVzjewy4OA7B"
      },
      "execution_count": null,
      "outputs": [
        {
          "output_type": "stream",
          "name": "stderr",
          "text": [
            "100%|██████████| 451/451 [01:58<00:00,  3.80it/s]\n"
          ]
        }
      ]
    },
    {
      "cell_type": "code",
      "source": [
        "labels3_Incep = np.array(data_train3[['NameType']] )        \n",
        "labels3_Incep.shape = (len(labels3_Incep),) \n",
        "\n",
        "le3_Incep = LabelEncoder()                                                                     \n",
        "labels3_Incep = le3_Incep.fit_transform(labels3_Incep)                                         #จะแปลงชื่อ class เป็นตัวเลข 1, 2, 0 \n",
        "\n",
        "labels3_Incep = to_categorical(labels3_Incep, num_classes=3)                   #shape (180, 3) มีค่าเป็น  [0., 1., 0.]  กับ   [0., 0., 1.] กับ  [1., 0., 0.]"
      ],
      "metadata": {
        "id": "vphitaJ6OA7C"
      },
      "execution_count": null,
      "outputs": []
    },
    {
      "cell_type": "markdown",
      "source": [
        "##### Model"
      ],
      "metadata": {
        "id": "e10vYKLYvB9v"
      }
    },
    {
      "cell_type": "code",
      "source": [
        "base_model3_Incep = tf.keras.applications.InceptionV3(input_shape=(299, 299, 3), include_top=False, weights=\"imagenet\")\n",
        "len(base_model3_Incep.layers)"
      ],
      "metadata": {
        "id": "Qtx4J9gxHOc0",
        "outputId": "858d7c29-f9d1-4de8-cf64-297015d9aca1",
        "colab": {
          "base_uri": "https://localhost:8080/"
        }
      },
      "execution_count": null,
      "outputs": [
        {
          "output_type": "stream",
          "name": "stdout",
          "text": [
            "Downloading data from https://storage.googleapis.com/tensorflow/keras-applications/inception_v3/inception_v3_weights_tf_dim_ordering_tf_kernels_notop.h5\n",
            "87916544/87910968 [==============================] - 0s 0us/step\n",
            "87924736/87910968 [==============================] - 0s 0us/step\n"
          ]
        },
        {
          "output_type": "execute_result",
          "data": {
            "text/plain": [
              "311"
            ]
          },
          "metadata": {},
          "execution_count": 14
        }
      ]
    },
    {
      "cell_type": "code",
      "source": [
        "base_model3_Incep.trainable = True\n",
        "for layer in base_model3_Incep.layers[:100]:    #fix w & bias in layer 0-100\n",
        "    layer.trainable = False"
      ],
      "metadata": {
        "id": "cBRoi-ouHOc0"
      },
      "execution_count": null,
      "outputs": []
    },
    {
      "cell_type": "code",
      "source": [
        "#Add custom head\n",
        "average_pooling_layer = tf.keras.layers.GlobalAveragePooling2D()(base_model3_Incep.output)\n",
        "\n",
        "prediction_layer = tf.keras.layers.Dense(units=3, activation=\"softmax\")(average_pooling_layer)   # unit 3\n",
        "model3_IncepF = tf.keras.models.Model(inputs=base_model3_Incep.input, outputs=prediction_layer)\n",
        "\n",
        "model3_IncepF.compile(optimizer=tf.keras.optimizers.RMSprop(learning_rate=0.0001), loss=\"binary_crossentropy\", metrics=[\"accuracy\"])"
      ],
      "metadata": {
        "id": "W1xo9WB4Hfia"
      },
      "execution_count": null,
      "outputs": []
    },
    {
      "cell_type": "code",
      "source": [
        "INIT_LR = 1e-1\n",
        "BS = 32\n",
        "EPOCHS = 50\n",
        "\n",
        "aug = ImageDataGenerator(\n",
        "\t\trotation_range=15,\t\t\t\t\t\t#องศาการหมุน\n",
        "\t\twidth_shift_range=0.1,\n",
        "\t\theight_shift_range=0.1,\n",
        "\t\tshear_range=0.15,\n",
        "\t\thorizontal_flip=True,\n",
        "\t\tfill_mode=\"nearest\")\n",
        "\n",
        "callback = tf.keras.callbacks.EarlyStopping(\n",
        "                monitor=\"val_accuracy\",\n",
        "                patience=3,\n",
        "                mode=\"max\" )"
      ],
      "metadata": {
        "id": "UhcTH2o3Qjrd"
      },
      "execution_count": null,
      "outputs": []
    },
    {
      "cell_type": "code",
      "source": [
        "kf_IncepF = KFold(5, shuffle=True, random_state=40) \n",
        "\n",
        "oos_yF = []\n",
        "oos_predF = []\n",
        "fold = 0\n",
        "\n",
        "for train, test in kf_IncepF.split(data3_Incep):\n",
        "    fold+=1\n",
        "    print(f\"Fold #{fold}\")\n",
        "        \n",
        "    xtrain_IncepF = data3_Incep[train]\n",
        "    ytrain_IncepF = labels3_Incep[train]\n",
        "    xtest_IncepF = data3_Incep[test]\n",
        "    ytest_IncepF = labels3_Incep[test]\n",
        "\n",
        "    M_IncepF = model3_IncepF.fit( x=aug.flow(xtrain_IncepF, ytrain_IncepF, batch_size=BS),\n",
        "\t                                            validation_data=(xtest_IncepF, ytest_IncepF),\n",
        "\t                                            steps_per_epoch=len(xtrain_IncepF) // BS,\n",
        "\t                                            epochs=15,  callbacks = [callback])\n",
        "    \n",
        "    pred_IncepF = model3_IncepF.predict(xtest_IncepF)\n",
        "    \n",
        "    oos_yF.append(ytest_IncepF)\n",
        "    oos_predF.append(pred_IncepF)  \n",
        "    print(classification_report(ytest_IncepF.argmax(axis=1),\t                #แสดง report ค่า acc, recall, ...\n",
        "                                        pred_IncepF.argmax(axis=1),  \n",
        "                                        target_names=le3_Incep.classes_))\n",
        "\n",
        "#   score = metrics.accuracy_score(ytest_IncepF.argmax(axis=1),\t        #ค่า acc\n",
        "#                                               pred_IncepF.argmax(axis=1)\n",
        "#    print(f\"Fold score (accuracy): {score}\")\n",
        "\n",
        "#    print(confusion_matrix(ytest_IncepF.argmax(axis=1),\t                       #แสดง confusion_matrix\n",
        "#                        pred3_IncepF.argmax(axis=1) ) )"
      ],
      "metadata": {
        "id": "m0uPRBNJHC6B",
        "outputId": "60d72e7d-ef57-4f76-b482-c87464fb4614",
        "colab": {
          "base_uri": "https://localhost:8080/"
        }
      },
      "execution_count": null,
      "outputs": [
        {
          "output_type": "stream",
          "name": "stdout",
          "text": [
            "Fold #1\n",
            "Epoch 1/15\n",
            "11/11 [==============================] - 212s 18s/step - loss: 0.5453 - accuracy: 0.5701 - val_loss: 0.8733 - val_accuracy: 0.4396\n",
            "Epoch 2/15\n",
            "11/11 [==============================] - 188s 17s/step - loss: 0.3283 - accuracy: 0.7957 - val_loss: 0.8059 - val_accuracy: 0.4725\n",
            "Epoch 3/15\n",
            "11/11 [==============================] - 188s 17s/step - loss: 0.2771 - accuracy: 0.8476 - val_loss: 0.7430 - val_accuracy: 0.5604\n",
            "Epoch 4/15\n",
            "11/11 [==============================] - 188s 17s/step - loss: 0.1564 - accuracy: 0.9238 - val_loss: 0.7924 - val_accuracy: 0.5385\n",
            "Epoch 5/15\n",
            "11/11 [==============================] - 188s 17s/step - loss: 0.1670 - accuracy: 0.9207 - val_loss: 0.8088 - val_accuracy: 0.5714\n",
            "Epoch 6/15\n",
            "11/11 [==============================] - 188s 17s/step - loss: 0.1128 - accuracy: 0.9421 - val_loss: 0.8733 - val_accuracy: 0.5714\n",
            "Epoch 7/15\n",
            "11/11 [==============================] - 188s 18s/step - loss: 0.1176 - accuracy: 0.9299 - val_loss: 1.0824 - val_accuracy: 0.5275\n",
            "Epoch 8/15\n",
            "11/11 [==============================] - 188s 17s/step - loss: 0.1059 - accuracy: 0.9390 - val_loss: 0.8643 - val_accuracy: 0.6264\n",
            "Epoch 9/15\n",
            "11/11 [==============================] - 188s 17s/step - loss: 0.0833 - accuracy: 0.9543 - val_loss: 0.7555 - val_accuracy: 0.6703\n",
            "Epoch 10/15\n",
            "11/11 [==============================] - 188s 17s/step - loss: 0.0494 - accuracy: 0.9817 - val_loss: 0.8541 - val_accuracy: 0.6703\n",
            "Epoch 11/15\n",
            "11/11 [==============================] - 191s 17s/step - loss: 0.0527 - accuracy: 0.9787 - val_loss: 0.9084 - val_accuracy: 0.6813\n",
            "Epoch 12/15\n",
            "11/11 [==============================] - 192s 19s/step - loss: 0.0513 - accuracy: 0.9787 - val_loss: 1.0912 - val_accuracy: 0.6703\n",
            "Epoch 13/15\n",
            "11/11 [==============================] - 191s 17s/step - loss: 0.0415 - accuracy: 0.9787 - val_loss: 0.8724 - val_accuracy: 0.7363\n",
            "Epoch 14/15\n",
            "11/11 [==============================] - 189s 17s/step - loss: 0.0599 - accuracy: 0.9756 - val_loss: 0.9668 - val_accuracy: 0.7033\n",
            "Epoch 15/15\n",
            "11/11 [==============================] - 201s 18s/step - loss: 0.0393 - accuracy: 0.9801 - val_loss: 1.2823 - val_accuracy: 0.6264\n",
            "              precision    recall  f1-score   support\n",
            "\n",
            "  Lungcancer       1.00      0.11      0.19        28\n",
            "      Normal       0.93      0.76      0.83        33\n",
            "Tuberculosis       0.48      0.97      0.64        30\n",
            "\n",
            "    accuracy                           0.63        91\n",
            "   macro avg       0.80      0.61      0.55        91\n",
            "weighted avg       0.80      0.63      0.57        91\n",
            "\n",
            "Fold #2\n",
            "Epoch 1/15\n",
            "11/11 [==============================] - 202s 18s/step - loss: 0.1339 - accuracy: 0.9331 - val_loss: 0.2062 - val_accuracy: 0.8889\n",
            "Epoch 2/15\n",
            "11/11 [==============================] - 192s 17s/step - loss: 0.0793 - accuracy: 0.9605 - val_loss: 0.0495 - val_accuracy: 0.9778\n",
            "Epoch 3/15\n",
            "11/11 [==============================] - 190s 17s/step - loss: 0.0746 - accuracy: 0.9635 - val_loss: 0.0250 - val_accuracy: 1.0000\n",
            "Epoch 4/15\n",
            "11/11 [==============================] - 190s 17s/step - loss: 0.0331 - accuracy: 0.9818 - val_loss: 0.0219 - val_accuracy: 0.9889\n",
            "Epoch 5/15\n",
            "11/11 [==============================] - 190s 18s/step - loss: 0.0604 - accuracy: 0.9574 - val_loss: 0.0124 - val_accuracy: 1.0000\n",
            "Epoch 6/15\n",
            "11/11 [==============================] - 190s 17s/step - loss: 0.0254 - accuracy: 0.9909 - val_loss: 0.0162 - val_accuracy: 0.9889\n",
            "              precision    recall  f1-score   support\n",
            "\n",
            "  Lungcancer       1.00      0.97      0.98        33\n",
            "      Normal       1.00      1.00      1.00        26\n",
            "Tuberculosis       0.97      1.00      0.98        31\n",
            "\n",
            "    accuracy                           0.99        90\n",
            "   macro avg       0.99      0.99      0.99        90\n",
            "weighted avg       0.99      0.99      0.99        90\n",
            "\n",
            "Fold #3\n",
            "Epoch 1/15\n",
            "11/11 [==============================] - 190s 17s/step - loss: 0.0427 - accuracy: 0.9696 - val_loss: 0.0838 - val_accuracy: 0.9444\n",
            "Epoch 2/15\n",
            "11/11 [==============================] - 192s 17s/step - loss: 0.0472 - accuracy: 0.9757 - val_loss: 0.0941 - val_accuracy: 0.9444\n",
            "Epoch 3/15\n",
            "11/11 [==============================] - 190s 17s/step - loss: 0.0468 - accuracy: 0.9878 - val_loss: 0.1809 - val_accuracy: 0.9333\n",
            "Epoch 4/15\n",
            "11/11 [==============================] - 190s 17s/step - loss: 0.0286 - accuracy: 0.9909 - val_loss: 0.1660 - val_accuracy: 0.9111\n",
            "              precision    recall  f1-score   support\n",
            "\n",
            "  Lungcancer       1.00      0.97      0.98        29\n",
            "      Normal       1.00      0.79      0.88        33\n",
            "Tuberculosis       0.78      1.00      0.88        28\n",
            "\n",
            "    accuracy                           0.91        90\n",
            "   macro avg       0.93      0.92      0.91        90\n",
            "weighted avg       0.93      0.91      0.91        90\n",
            "\n",
            "Fold #4\n",
            "Epoch 1/15\n",
            "11/11 [==============================] - 189s 17s/step - loss: 0.0271 - accuracy: 0.9848 - val_loss: 0.0047 - val_accuracy: 1.0000\n",
            "Epoch 2/15\n",
            "11/11 [==============================] - 213s 20s/step - loss: 0.0442 - accuracy: 0.9726 - val_loss: 0.0982 - val_accuracy: 0.9333\n",
            "Epoch 3/15\n",
            "11/11 [==============================] - 191s 17s/step - loss: 0.0590 - accuracy: 0.9726 - val_loss: 0.0186 - val_accuracy: 1.0000\n",
            "Epoch 4/15\n",
            "11/11 [==============================] - 191s 17s/step - loss: 0.0077 - accuracy: 1.0000 - val_loss: 0.0088 - val_accuracy: 1.0000\n",
            "              precision    recall  f1-score   support\n",
            "\n",
            "  Lungcancer       1.00      1.00      1.00        30\n",
            "      Normal       1.00      1.00      1.00        31\n",
            "Tuberculosis       1.00      1.00      1.00        29\n",
            "\n",
            "    accuracy                           1.00        90\n",
            "   macro avg       1.00      1.00      1.00        90\n",
            "weighted avg       1.00      1.00      1.00        90\n",
            "\n",
            "Fold #5\n",
            "Epoch 1/15\n",
            "11/11 [==============================] - 190s 17s/step - loss: 0.0328 - accuracy: 0.9848 - val_loss: 6.7009e-04 - val_accuracy: 1.0000\n",
            "Epoch 2/15\n",
            "11/11 [==============================] - 190s 17s/step - loss: 0.0094 - accuracy: 1.0000 - val_loss: 0.1286 - val_accuracy: 0.9333\n",
            "Epoch 3/15\n",
            "11/11 [==============================] - 194s 18s/step - loss: 0.0133 - accuracy: 0.9909 - val_loss: 0.0273 - val_accuracy: 0.9889\n",
            "Epoch 4/15\n",
            "11/11 [==============================] - 190s 17s/step - loss: 0.0151 - accuracy: 0.9970 - val_loss: 0.0106 - val_accuracy: 1.0000\n",
            "              precision    recall  f1-score   support\n",
            "\n",
            "  Lungcancer       1.00      1.00      1.00        30\n",
            "      Normal       1.00      1.00      1.00        28\n",
            "Tuberculosis       1.00      1.00      1.00        32\n",
            "\n",
            "    accuracy                           1.00        90\n",
            "   macro avg       1.00      1.00      1.00        90\n",
            "weighted avg       1.00      1.00      1.00        90\n",
            "\n"
          ]
        }
      ]
    },
    {
      "cell_type": "code",
      "source": [
        "oos_yF = np.concatenate(oos_yF)\n",
        "oos_predF = np.concatenate(oos_predF)"
      ],
      "metadata": {
        "id": "aySotbXFOY5c"
      },
      "execution_count": null,
      "outputs": []
    },
    {
      "cell_type": "code",
      "source": [
        "score = metrics.accuracy_score(oos_yF.argmax(axis=1),\t        #ค่า acc\n",
        "                                             oos_predF.argmax(axis=1) )\n",
        "print(f\"Fold score (accuracy): {score}\")\n",
        "\n",
        "print(classification_report(oos_yF.argmax(axis=1),\t                #แสดง report ค่า acc, recall, ...\n",
        "                                        oos_predF.argmax(axis=1),  \n",
        "                                        target_names=le3_Incep.classes_))"
      ],
      "metadata": {
        "colab": {
          "base_uri": "https://localhost:8080/"
        },
        "id": "iVmdGLryIYpM",
        "outputId": "08cd58fe-2cc2-4ee1-9128-f339c26e09a3"
      },
      "execution_count": null,
      "outputs": [
        {
          "output_type": "stream",
          "name": "stdout",
          "text": [
            "Fold score (accuracy): 0.9046563192904656\n",
            "              precision    recall  f1-score   support\n",
            "\n",
            "  Lungcancer       1.00      0.82      0.90       150\n",
            "      Normal       0.99      0.90      0.94       151\n",
            "Tuberculosis       0.78      0.99      0.88       150\n",
            "\n",
            "    accuracy                           0.90       451\n",
            "   macro avg       0.92      0.90      0.91       451\n",
            "weighted avg       0.92      0.90      0.91       451\n",
            "\n"
          ]
        }
      ]
    },
    {
      "cell_type": "code",
      "source": [
        ""
      ],
      "metadata": {
        "id": "uGGykClEOjHQ"
      },
      "execution_count": null,
      "outputs": []
    },
    {
      "cell_type": "code",
      "source": [
        ""
      ],
      "metadata": {
        "id": "5qat5tt5OiuZ"
      },
      "execution_count": null,
      "outputs": []
    },
    {
      "cell_type": "code",
      "source": [
        "#ลองเซฟโมเดล\n",
        "fold = 2\n",
        "if metrics.accuracy_score( ytest_IncepF.argmax(axis=1),  pred_IncepF.argmax(axis=1) )>0.7:\n",
        "    name = (f' model3_IncepF{fold}')\n",
        "    joblib.dump(model3_IncepF, name)"
      ],
      "metadata": {
        "id": "Wl3fkJIX4RZF",
        "outputId": "5c4c6c97-f8b5-409e-b576-a30a05354de3",
        "colab": {
          "base_uri": "https://localhost:8080/"
        }
      },
      "execution_count": null,
      "outputs": [
        {
          "output_type": "stream",
          "name": "stdout",
          "text": [
            "INFO:tensorflow:Assets written to: ram://a5d1d51e-3da4-454e-81fb-752e887bd981/assets\n"
          ]
        }
      ]
    },
    {
      "cell_type": "markdown",
      "source": [
        "## 2) Find Tuning  \n",
        "\n",
        "###--> ACC = 0.76  \n",
        "###--> ใช้เวลา 8173.251 วินาที = 136.22 นาที = 2.27 ชั่วโมง\n",
        "\n",
        "*   BS = 16\n",
        "*   activation=\"softmax\"\n",
        "*   fix weight & bias in layer 0-100\n",
        "*   learning_rate=0.0001\n",
        "*   epoch 30\n"
      ],
      "metadata": {
        "id": "vYCx5EmvSb75"
      }
    },
    {
      "cell_type": "markdown",
      "source": [
        "##### Data"
      ],
      "metadata": {
        "id": "-aiw9cWnSsoB"
      }
    },
    {
      "cell_type": "code",
      "source": [
        "train_img3_Incep = []\n",
        "for ImageName in tqdm(data_train3['ImageName']):               # รัน ชื่อรูป ในไฟล์ data_test3\n",
        "    image_path = All_3class_dir +'/' + ImageName                   # ดึงรูปในโฟล์เดอร์มาทีละรูป\n",
        "    img = cv2.imread(image_path)                                            # อ่านรูป\n",
        "    img = cv2.resize(img, (299, 299))                                       #ขนาดของ input\n",
        "    train_img3_Incep.append(img)\n",
        "\n",
        "data3_Incep = np.array(train_img3_Incep, dtype=\"float32\") / 255.0"
      ],
      "metadata": {
        "outputId": "94fd67e2-4c83-43c2-aabb-625582d90761",
        "colab": {
          "base_uri": "https://localhost:8080/"
        },
        "id": "k10f7ZXMSb76"
      },
      "execution_count": null,
      "outputs": [
        {
          "output_type": "stream",
          "name": "stderr",
          "text": [
            "100%|██████████| 451/451 [03:31<00:00,  2.13it/s]\n"
          ]
        }
      ]
    },
    {
      "cell_type": "code",
      "source": [
        "labels3_Incep = np.array(data_train3[['NameType']] )        \n",
        "labels3_Incep.shape = (len(labels3_Incep),) \n",
        "\n",
        "le3_Incep = LabelEncoder()                                                                     \n",
        "labels3_Incep = le3_Incep.fit_transform(labels3_Incep)                                         #จะแปลงชื่อ class เป็นตัวเลข 1, 2, 0 \n",
        "\n",
        "labels3_Incep = to_categorical(labels3_Incep, num_classes=3)                   #shape (180, 3) มีค่าเป็น  [0., 1., 0.]  กับ   [0., 0., 1.] กับ  [1., 0., 0.]"
      ],
      "metadata": {
        "id": "V2fV10GkSb77"
      },
      "execution_count": null,
      "outputs": []
    },
    {
      "cell_type": "markdown",
      "source": [
        "##### Model"
      ],
      "metadata": {
        "id": "To8jsVdhSxEW"
      }
    },
    {
      "cell_type": "code",
      "source": [
        "base_model3_Incep = tf.keras.applications.InceptionV3(input_shape=(299, 299, 3), include_top=False, weights=\"imagenet\")\n",
        "len(base_model3_Incep.layers)"
      ],
      "metadata": {
        "outputId": "f599e891-db64-49d3-8b2b-2c2555f65f0f",
        "colab": {
          "base_uri": "https://localhost:8080/"
        },
        "id": "z7m_pUvWSb78"
      },
      "execution_count": null,
      "outputs": [
        {
          "output_type": "stream",
          "name": "stdout",
          "text": [
            "Downloading data from https://storage.googleapis.com/tensorflow/keras-applications/inception_v3/inception_v3_weights_tf_dim_ordering_tf_kernels_notop.h5\n",
            "87916544/87910968 [==============================] - 1s 0us/step\n",
            "87924736/87910968 [==============================] - 1s 0us/step\n"
          ]
        },
        {
          "output_type": "execute_result",
          "data": {
            "text/plain": [
              "311"
            ]
          },
          "metadata": {},
          "execution_count": 14
        }
      ]
    },
    {
      "cell_type": "code",
      "source": [
        "base_model3_Incep.trainable = True\n",
        "for layer in base_model3_Incep.layers[:100]:    #fix w & bias in layer 0-100\n",
        "    layer.trainable = False"
      ],
      "metadata": {
        "id": "B6enx__aSb79"
      },
      "execution_count": null,
      "outputs": []
    },
    {
      "cell_type": "code",
      "source": [
        "#Add custom head\n",
        "average_pooling_layer = tf.keras.layers.GlobalAveragePooling2D()(base_model3_Incep.output)\n",
        "\n",
        "prediction_layer = tf.keras.layers.Dense(units=3, activation=\"softmax\")(average_pooling_layer)   # unit 3\n",
        "model3_IncepF2 = tf.keras.models.Model(inputs=base_model3_Incep.input, outputs=prediction_layer)\n",
        "\n",
        "model3_IncepF2.compile(optimizer=tf.keras.optimizers.RMSprop(learning_rate=0.0001), loss=\"binary_crossentropy\", metrics=[\"accuracy\"])"
      ],
      "metadata": {
        "id": "r8mTzLV7Sb79"
      },
      "execution_count": null,
      "outputs": []
    },
    {
      "cell_type": "code",
      "source": [
        "INIT_LR = 1e-1\n",
        "BS = 16\n",
        "EPOCHS = 50\n",
        "\n",
        "aug2 = ImageDataGenerator(\n",
        "\t\trotation_range=15,\t\t\t\t\t\t#องศาการหมุน\n",
        "\t\twidth_shift_range=0.15,\t\t\t\t  #เลื่อนลง-ขึ้น ซ้ายขวา\n",
        "\t\theight_shift_range=0.15,\n",
        "\t\tshear_range=0.15, \t\t\t\t\t\t#ขยับมุมภาพ ซ้าย และ/หรือ ขวา ไปด้านข้าง เช่น จะกลายเป็นสี่เหลี่ยมด้านขนาน \n",
        "\t\thorizontal_flip=True,\n",
        "\t\tfill_mode='constant')\n",
        "\n",
        "callback = tf.keras.callbacks.EarlyStopping(\n",
        "                monitor=\"val_accuracy\",\n",
        "                patience=3,\n",
        "                mode=\"max\" )"
      ],
      "metadata": {
        "id": "rZMhxgf6WWfU"
      },
      "execution_count": null,
      "outputs": []
    },
    {
      "cell_type": "code",
      "source": [
        "kf_IncepF2 = KFold(5, shuffle=True, random_state=40) \n",
        "\n",
        "oos_yF2 = []\n",
        "oos_predF2 = []\n",
        "fold = 0\n",
        "\n",
        "for train, test in kf_IncepF2.split(data3_Incep):\n",
        "    fold+=1\n",
        "    print(f\"Fold #{fold}\")\n",
        "        \n",
        "    xtrain_IncepF2 = data3_Incep[train]\n",
        "    ytrain_IncepF2 = labels3_Incep[train]\n",
        "    xtest_IncepF2 = data3_Incep[test]\n",
        "    ytest_IncepF2 = labels3_Incep[test]\n",
        "\n",
        "    M_IncepF2 = model3_IncepF2.fit( x=aug2.flow(xtrain_IncepF2, ytrain_IncepF2, batch_size=BS),\n",
        "\t                                            validation_data=(xtest_IncepF2, ytest_IncepF2),\n",
        "\t                                            steps_per_epoch=len(xtrain_IncepF2) // BS,\n",
        "\t                                            epochs=30,  callbacks = [callback])\n",
        "    \n",
        "    pred_IncepF2 = model3_IncepF2.predict(xtest_IncepF2)\n",
        "\n",
        "    oos_yF2.append(ytest_IncepF2)\n",
        "    oos_predF2.append(pred_IncepF2) \n",
        "\n",
        "    score = metrics.accuracy_score(ytest_IncepF2.argmax(axis=1),\t        #ค่า acc\n",
        "                                               pred_IncepF2.argmax(axis=1) )\n",
        "    print(f'Fold #{fold} score (accuracy): {score}')\n",
        "    \n",
        "\n",
        "#    if metrics.accuracy_score( ytest_IncepF2.argmax(axis=1),  pred_IncepF2.argmax(axis=1) )>0.9:\n",
        " #       name = (f' model3_IncepF2_Fold{fold}')\n",
        "  #      joblib.dump(model3_IncepF2, name)\n",
        "\n",
        "#    print(confusion_matrix(ytest_IncepF.argmax(axis=1),\t                       #แสดง confusion_matrix\n",
        "#                        pred3_IncepF.argmax(axis=1) ) )"
      ],
      "metadata": {
        "id": "egNq8bzjSb7-",
        "outputId": "20a0d6b3-7611-4a88-f2cd-b9793599ea42",
        "colab": {
          "base_uri": "https://localhost:8080/"
        }
      },
      "execution_count": null,
      "outputs": [
        {
          "output_type": "stream",
          "name": "stdout",
          "text": [
            "Fold #1\n",
            "Epoch 1/30\n",
            "22/22 [==============================] - 187s 8s/step - loss: 0.4612 - accuracy: 0.6686 - val_loss: 1.4591 - val_accuracy: 0.3736\n",
            "Epoch 2/30\n",
            "22/22 [==============================] - 175s 8s/step - loss: 0.3046 - accuracy: 0.8052 - val_loss: 1.3021 - val_accuracy: 0.4396\n",
            "Epoch 3/30\n",
            "22/22 [==============================] - 173s 8s/step - loss: 0.2600 - accuracy: 0.8314 - val_loss: 1.0278 - val_accuracy: 0.5055\n",
            "Epoch 4/30\n",
            "22/22 [==============================] - 174s 8s/step - loss: 0.2032 - accuracy: 0.8634 - val_loss: 1.0180 - val_accuracy: 0.5714\n",
            "Epoch 5/30\n",
            "22/22 [==============================] - 174s 8s/step - loss: 0.1327 - accuracy: 0.9331 - val_loss: 1.1071 - val_accuracy: 0.6044\n",
            "Epoch 6/30\n",
            "22/22 [==============================] - 174s 8s/step - loss: 0.1238 - accuracy: 0.9331 - val_loss: 0.7453 - val_accuracy: 0.6813\n",
            "Epoch 7/30\n",
            "22/22 [==============================] - 174s 8s/step - loss: 0.1349 - accuracy: 0.9390 - val_loss: 0.4770 - val_accuracy: 0.7692\n",
            "Epoch 8/30\n",
            "22/22 [==============================] - 175s 8s/step - loss: 0.0967 - accuracy: 0.9419 - val_loss: 0.7612 - val_accuracy: 0.7253\n",
            "Epoch 9/30\n",
            "22/22 [==============================] - 174s 8s/step - loss: 0.1191 - accuracy: 0.9448 - val_loss: 0.8543 - val_accuracy: 0.7363\n",
            "Epoch 10/30\n",
            "22/22 [==============================] - 174s 8s/step - loss: 0.1030 - accuracy: 0.9477 - val_loss: 0.5157 - val_accuracy: 0.7802\n",
            "Epoch 11/30\n",
            "22/22 [==============================] - 174s 8s/step - loss: 0.0686 - accuracy: 0.9593 - val_loss: 0.4468 - val_accuracy: 0.8132\n",
            "Epoch 12/30\n",
            "22/22 [==============================] - 175s 8s/step - loss: 0.0942 - accuracy: 0.9448 - val_loss: 1.1380 - val_accuracy: 0.6484\n",
            "Epoch 13/30\n",
            "22/22 [==============================] - 174s 8s/step - loss: 0.0707 - accuracy: 0.9738 - val_loss: 1.3827 - val_accuracy: 0.6154\n",
            "Epoch 14/30\n",
            "22/22 [==============================] - 174s 8s/step - loss: 0.0738 - accuracy: 0.9564 - val_loss: 0.7987 - val_accuracy: 0.7473\n",
            "Fold #1 score (accuracy): 0.7472527472527473\n",
            "Fold #2\n",
            "Epoch 1/30\n",
            "22/22 [==============================] - 177s 8s/step - loss: 0.1832 - accuracy: 0.9091 - val_loss: 0.1171 - val_accuracy: 0.9333\n",
            "Epoch 2/30\n",
            "22/22 [==============================] - 175s 8s/step - loss: 0.1041 - accuracy: 0.9391 - val_loss: 0.5727 - val_accuracy: 0.7444\n",
            "Epoch 3/30\n",
            "22/22 [==============================] - 175s 8s/step - loss: 0.1013 - accuracy: 0.9449 - val_loss: 0.5324 - val_accuracy: 0.7556\n",
            "Epoch 4/30\n",
            "22/22 [==============================] - 175s 8s/step - loss: 0.0800 - accuracy: 0.9536 - val_loss: 1.4089 - val_accuracy: 0.5000\n",
            "Fold #2 score (accuracy): 0.5\n",
            "Fold #3\n",
            "Epoch 1/30\n",
            "22/22 [==============================] - 173s 8s/step - loss: 0.0615 - accuracy: 0.9594 - val_loss: 1.1392 - val_accuracy: 0.5667\n",
            "Epoch 2/30\n",
            "22/22 [==============================] - 178s 8s/step - loss: 0.0275 - accuracy: 0.9884 - val_loss: 4.2653 - val_accuracy: 0.3444\n",
            "Epoch 3/30\n",
            "22/22 [==============================] - 175s 8s/step - loss: 0.0445 - accuracy: 0.9797 - val_loss: 0.9746 - val_accuracy: 0.6333\n",
            "Epoch 4/30\n",
            "22/22 [==============================] - 181s 8s/step - loss: 0.0704 - accuracy: 0.9594 - val_loss: 2.3216 - val_accuracy: 0.4778\n",
            "Epoch 5/30\n",
            "22/22 [==============================] - 175s 8s/step - loss: 0.0239 - accuracy: 0.9884 - val_loss: 0.7600 - val_accuracy: 0.7333\n",
            "Epoch 6/30\n",
            "22/22 [==============================] - 178s 8s/step - loss: 0.0626 - accuracy: 0.9652 - val_loss: 1.9598 - val_accuracy: 0.5444\n",
            "Epoch 7/30\n",
            "22/22 [==============================] - 176s 8s/step - loss: 0.0308 - accuracy: 0.9884 - val_loss: 0.1096 - val_accuracy: 0.9444\n",
            "Epoch 8/30\n",
            "22/22 [==============================] - 176s 8s/step - loss: 0.0297 - accuracy: 0.9855 - val_loss: 0.0256 - val_accuracy: 0.9889\n",
            "Epoch 9/30\n",
            "22/22 [==============================] - 176s 8s/step - loss: 0.0389 - accuracy: 0.9884 - val_loss: 0.0468 - val_accuracy: 0.9667\n",
            "Epoch 10/30\n",
            "22/22 [==============================] - 176s 8s/step - loss: 0.0492 - accuracy: 0.9768 - val_loss: 0.1796 - val_accuracy: 0.9222\n",
            "Epoch 11/30\n",
            "22/22 [==============================] - 177s 8s/step - loss: 0.0191 - accuracy: 0.9942 - val_loss: 0.0633 - val_accuracy: 0.9778\n",
            "Fold #3 score (accuracy): 0.9777777777777777\n",
            "Fold #4\n",
            "Epoch 1/30\n",
            "22/22 [==============================] - 173s 8s/step - loss: 0.0411 - accuracy: 0.9797 - val_loss: 6.9521e-04 - val_accuracy: 1.0000\n",
            "Epoch 2/30\n",
            "22/22 [==============================] - 173s 8s/step - loss: 0.0550 - accuracy: 0.9681 - val_loss: 0.0266 - val_accuracy: 0.9778\n",
            "Epoch 3/30\n",
            "22/22 [==============================] - 173s 8s/step - loss: 0.0718 - accuracy: 0.9536 - val_loss: 0.4536 - val_accuracy: 0.8556\n",
            "Epoch 4/30\n",
            "22/22 [==============================] - 173s 8s/step - loss: 0.0314 - accuracy: 0.9826 - val_loss: 1.1395 - val_accuracy: 0.6556\n",
            "Fold #4 score (accuracy): 0.6555555555555556\n",
            "Fold #5\n",
            "Epoch 1/30\n",
            "22/22 [==============================] - 182s 8s/step - loss: 0.0411 - accuracy: 0.9739 - val_loss: 0.2129 - val_accuracy: 0.9000\n",
            "Epoch 2/30\n",
            "22/22 [==============================] - 173s 8s/step - loss: 0.0437 - accuracy: 0.9855 - val_loss: 0.4927 - val_accuracy: 0.8444\n",
            "Epoch 3/30\n",
            "22/22 [==============================] - 173s 8s/step - loss: 0.0470 - accuracy: 0.9797 - val_loss: 0.0174 - val_accuracy: 0.9889\n",
            "Epoch 4/30\n",
            "22/22 [==============================] - 173s 8s/step - loss: 0.0149 - accuracy: 0.9942 - val_loss: 0.5257 - val_accuracy: 0.8333\n",
            "Epoch 5/30\n",
            "22/22 [==============================] - 173s 8s/step - loss: 0.0215 - accuracy: 0.9884 - val_loss: 0.3366 - val_accuracy: 0.8778\n",
            "Epoch 6/30\n",
            "22/22 [==============================] - 173s 8s/step - loss: 0.0213 - accuracy: 0.9884 - val_loss: 0.0042 - val_accuracy: 1.0000\n",
            "Epoch 7/30\n",
            "22/22 [==============================] - 173s 8s/step - loss: 0.0272 - accuracy: 0.9884 - val_loss: 0.0036 - val_accuracy: 1.0000\n",
            "Epoch 8/30\n",
            "22/22 [==============================] - 173s 8s/step - loss: 0.0313 - accuracy: 0.9884 - val_loss: 0.0024 - val_accuracy: 1.0000\n",
            "Epoch 9/30\n",
            "22/22 [==============================] - 174s 8s/step - loss: 0.0290 - accuracy: 0.9913 - val_loss: 0.1369 - val_accuracy: 0.9333\n",
            "Fold #5 score (accuracy): 0.9333333333333333\n"
          ]
        }
      ]
    },
    {
      "cell_type": "code",
      "source": [
        "oos_yF2 = np.concatenate(oos_yF2)\n",
        "oos_predF2 = np.concatenate(oos_predF2)"
      ],
      "metadata": {
        "id": "B0SObLRLQhwq"
      },
      "execution_count": null,
      "outputs": []
    },
    {
      "cell_type": "code",
      "source": [
        "print(classification_report(oos_yF2.argmax(axis=1),\t                #แสดง report ค่า acc, recall, ...\n",
        "                                        oos_predF2.argmax(axis=1),  \n",
        "                                        target_names=le3_Incep.classes_))"
      ],
      "metadata": {
        "id": "3TZeRHN6EBB_",
        "colab": {
          "base_uri": "https://localhost:8080/"
        },
        "outputId": "5de8605b-f86e-482e-fa73-76afd8571d5d"
      },
      "execution_count": null,
      "outputs": [
        {
          "output_type": "stream",
          "name": "stdout",
          "text": [
            "              precision    recall  f1-score   support\n",
            "\n",
            "  Lungcancer       0.99      0.59      0.74       150\n",
            "      Normal       0.93      0.72      0.81       151\n",
            "Tuberculosis       0.60      0.98      0.74       150\n",
            "\n",
            "    accuracy                           0.76       451\n",
            "   macro avg       0.84      0.76      0.76       451\n",
            "weighted avg       0.84      0.76      0.76       451\n",
            "\n"
          ]
        }
      ]
    },
    {
      "cell_type": "markdown",
      "source": [
        "## 3) Find Tuning \n",
        "###--> ACC = 81\n",
        "###--> 5815.668 วินาที\n",
        "\n",
        "*   BS = 8\n",
        "*   activation=\"softmax\"\n",
        "*   fix weight & bias in layer 0-100\n",
        "*   learning_rate=0.0001\n",
        "*   epoch 30\n",
        "\n",
        "\n",
        "\n",
        "\n",
        "\n"
      ],
      "metadata": {
        "id": "4_k4Yl0oRtFg"
      }
    },
    {
      "cell_type": "code",
      "source": [
        "train_img3_Incep = []\n",
        "for ImageName in tqdm(data_train3['ImageName']):               # รัน ชื่อรูป ในไฟล์ data_test3\n",
        "    image_path = All_3class_dir +'/' + ImageName                   # ดึงรูปในโฟล์เดอร์มาทีละรูป\n",
        "    img = cv2.imread(image_path)                                            # อ่านรูป\n",
        "    img = cv2.resize(img, (299, 299))                                       #ขนาดของ input\n",
        "    train_img3_Incep.append(img)\n",
        "\n",
        "data3_Incep = np.array(train_img3_Incep, dtype=\"float32\") / 255.0"
      ],
      "metadata": {
        "outputId": "3cc745a5-8435-45bb-da0c-634e4a771895",
        "colab": {
          "base_uri": "https://localhost:8080/"
        },
        "id": "TxQmIQrYRtFg"
      },
      "execution_count": null,
      "outputs": [
        {
          "output_type": "stream",
          "name": "stderr",
          "text": [
            "100%|██████████| 451/451 [00:05<00:00, 83.92it/s] \n"
          ]
        }
      ]
    },
    {
      "cell_type": "code",
      "source": [
        "labels3_Incep = np.array(data_train3[['NameType']] )        \n",
        "labels3_Incep.shape = (len(labels3_Incep),) \n",
        "\n",
        "le3_Incep = LabelEncoder()                                                                     \n",
        "labels3_Incep = le3_Incep.fit_transform(labels3_Incep)                                         #จะแปลงชื่อ class เป็นตัวเลข 1, 2, 0 \n",
        "\n",
        "labels3_Incep = to_categorical(labels3_Incep, num_classes=3)                   #shape (180, 3) มีค่าเป็น  [0., 1., 0.]  กับ   [0., 0., 1.] กับ  [1., 0., 0.]"
      ],
      "metadata": {
        "id": "psJ48ZQSRtFh"
      },
      "execution_count": null,
      "outputs": []
    },
    {
      "cell_type": "markdown",
      "source": [
        "##### Model"
      ],
      "metadata": {
        "id": "MW4jYyp8oV2I"
      }
    },
    {
      "cell_type": "code",
      "source": [
        "base_model3_Incep = tf.keras.applications.InceptionV3(input_shape=(299, 299, 3), include_top=False, weights=\"imagenet\")\n",
        "len(base_model3_Incep.layers)"
      ],
      "metadata": {
        "outputId": "212f2ae0-9e55-4d67-be93-0836c0fdd8e0",
        "colab": {
          "base_uri": "https://localhost:8080/"
        },
        "id": "6ee6GBUYRtFh"
      },
      "execution_count": null,
      "outputs": [
        {
          "output_type": "execute_result",
          "data": {
            "text/plain": [
              "311"
            ]
          },
          "metadata": {},
          "execution_count": 25
        }
      ]
    },
    {
      "cell_type": "code",
      "source": [
        "base_model3_Incep.trainable = True\n",
        "for layer in base_model3_Incep.layers[:100]:    #fix w & bias in layer 0-100\n",
        "    layer.trainable = False"
      ],
      "metadata": {
        "id": "_drdXI13RtFh"
      },
      "execution_count": null,
      "outputs": []
    },
    {
      "cell_type": "code",
      "source": [
        "#Add custom head\n",
        "average_pooling_layer = tf.keras.layers.GlobalAveragePooling2D()(base_model3_Incep.output)\n",
        "\n",
        "prediction_layer = tf.keras.layers.Dense(units=3, activation=\"softmax\")(average_pooling_layer)   # unit 3\n",
        "model3_IncepF3 = tf.keras.models.Model(inputs=base_model3_Incep.input, outputs=prediction_layer)\n",
        "\n",
        "model3_IncepF3.compile(optimizer=tf.keras.optimizers.RMSprop(learning_rate=0.0001), loss=\"binary_crossentropy\", metrics=[\"accuracy\"])"
      ],
      "metadata": {
        "id": "3WKDkqCMSieV"
      },
      "execution_count": null,
      "outputs": []
    },
    {
      "cell_type": "code",
      "source": [
        "INIT_LR = 1e-1\n",
        "BS = 8\n",
        "\n",
        "aug3 = ImageDataGenerator(\n",
        "\t\trotation_range=15,\t\t\t\t\t\t#องศาการหมุน\n",
        "\t\twidth_shift_range=0.1,\n",
        "\t\theight_shift_range=0.1,\n",
        "\t\tshear_range=0.15,\n",
        "\t\thorizontal_flip=True,\n",
        "\t\tfill_mode=\"nearest\")\n",
        "\n",
        "callback = tf.keras.callbacks.EarlyStopping(\n",
        "                monitor=\"val_accuracy\",\n",
        "                patience=3,\n",
        "                mode=\"max\" )"
      ],
      "metadata": {
        "id": "or1aBryZRtFi"
      },
      "execution_count": null,
      "outputs": []
    },
    {
      "cell_type": "code",
      "source": [
        "kf_IncepF3 = KFold(5, shuffle=True, random_state=40) \n",
        "\n",
        "oos_yF3 = []\n",
        "oos_predF3 = []\n",
        "fold = 0\n",
        "\n",
        "for train, test in kf_IncepF3.split(data3_Incep):\n",
        "    fold+=1\n",
        "    print(f\"Fold #{fold}\")\n",
        "        \n",
        "    xtrain_IncepF3 = data3_Incep[train]\n",
        "    ytrain_IncepF3 = labels3_Incep[train]\n",
        "    xtest_IncepF3 = data3_Incep[test]\n",
        "    ytest_IncepF3 = labels3_Incep[test]\n",
        "\n",
        "    M_IncepF3 = model3_IncepF3.fit( x=aug3.flow(xtrain_IncepF3, ytrain_IncepF3, batch_size=BS),\n",
        "\t                                            validation_data=(xtest_IncepF3, ytest_IncepF3),\n",
        "\t                                            steps_per_epoch=len(xtrain_IncepF3) // BS,\n",
        "\t                                            epochs=30,  callbacks = [callback])\n",
        "    \n",
        "    pred_IncepF3 = model3_IncepF3.predict(xtest_IncepF3)\n",
        "    \n",
        "    oos_yF3.append(ytest_IncepF3)\n",
        "    oos_predF3.append(pred_IncepF3)  \n",
        "    print(classification_report(ytest_IncepF3.argmax(axis=1),\t                #แสดง report ค่า acc, recall, ...\n",
        "                                        pred_IncepF3.argmax(axis=1),  \n",
        "                                        target_names=le3_Incep.classes_))\n",
        "\n",
        "#   score = metrics.accuracy_score(ytest_IncepF.argmax(axis=1),\t        #ค่า acc\n",
        "#                                               pred_IncepF.argmax(axis=1)\n",
        "#    print(f\"Fold score (accuracy): {score}\")\n",
        "\n",
        "#    print(confusion_matrix(ytest_IncepF.argmax(axis=1),\t                       #แสดง confusion_matrix\n",
        "#                        pred3_IncepF.argmax(axis=1) ) )"
      ],
      "metadata": {
        "outputId": "675b4ab6-b489-4371-e4f3-0168a9bd015b",
        "colab": {
          "base_uri": "https://localhost:8080/"
        },
        "id": "6gVL16kDRtFi"
      },
      "execution_count": null,
      "outputs": [
        {
          "output_type": "stream",
          "name": "stdout",
          "text": [
            "Fold #1\n",
            "Epoch 1/30\n",
            "45/45 [==============================] - 195s 4s/step - loss: 0.4942 - accuracy: 0.6361 - val_loss: 0.7942 - val_accuracy: 0.4286\n",
            "Epoch 2/30\n",
            "45/45 [==============================] - 183s 4s/step - loss: 0.3243 - accuracy: 0.8000 - val_loss: 1.0859 - val_accuracy: 0.4835\n",
            "Epoch 3/30\n",
            "45/45 [==============================] - 183s 4s/step - loss: 0.2680 - accuracy: 0.8333 - val_loss: 1.0556 - val_accuracy: 0.5275\n",
            "Epoch 4/30\n",
            "45/45 [==============================] - 183s 4s/step - loss: 0.2613 - accuracy: 0.8694 - val_loss: 0.3897 - val_accuracy: 0.8022\n",
            "Epoch 5/30\n",
            "45/45 [==============================] - 183s 4s/step - loss: 0.2072 - accuracy: 0.8944 - val_loss: 0.8960 - val_accuracy: 0.6044\n",
            "Epoch 6/30\n",
            "45/45 [==============================] - 183s 4s/step - loss: 0.1478 - accuracy: 0.9083 - val_loss: 0.5644 - val_accuracy: 0.7692\n",
            "Epoch 7/30\n",
            "45/45 [==============================] - 188s 4s/step - loss: 0.1602 - accuracy: 0.9250 - val_loss: 1.2475 - val_accuracy: 0.6813\n",
            "              precision    recall  f1-score   support\n",
            "\n",
            "  Lungcancer       1.00      0.11      0.19        28\n",
            "      Normal       0.78      0.97      0.86        33\n",
            "Tuberculosis       0.57      0.90      0.70        30\n",
            "\n",
            "    accuracy                           0.68        91\n",
            "   macro avg       0.78      0.66      0.59        91\n",
            "weighted avg       0.78      0.68      0.60        91\n",
            "\n",
            "Fold #2\n",
            "Epoch 1/30\n",
            "45/45 [==============================] - 185s 4s/step - loss: 0.2119 - accuracy: 0.8867 - val_loss: 0.1751 - val_accuracy: 0.8889\n",
            "Epoch 2/30\n",
            "45/45 [==============================] - 182s 4s/step - loss: 0.1829 - accuracy: 0.8980 - val_loss: 0.4482 - val_accuracy: 0.7444\n",
            "Epoch 3/30\n",
            "45/45 [==============================] - 183s 4s/step - loss: 0.1745 - accuracy: 0.8782 - val_loss: 0.1192 - val_accuracy: 0.9111\n",
            "Epoch 4/30\n",
            "45/45 [==============================] - 191s 4s/step - loss: 0.1658 - accuracy: 0.9008 - val_loss: 0.2210 - val_accuracy: 0.8667\n",
            "Epoch 5/30\n",
            "45/45 [==============================] - 183s 4s/step - loss: 0.1260 - accuracy: 0.9292 - val_loss: 0.1123 - val_accuracy: 0.9667\n",
            "Epoch 6/30\n",
            "45/45 [==============================] - 183s 4s/step - loss: 0.0844 - accuracy: 0.9603 - val_loss: 0.5443 - val_accuracy: 0.7444\n",
            "Epoch 7/30\n",
            "45/45 [==============================] - 182s 4s/step - loss: 0.0951 - accuracy: 0.9462 - val_loss: 0.1870 - val_accuracy: 0.8667\n",
            "Epoch 8/30\n",
            "45/45 [==============================] - 186s 4s/step - loss: 0.1121 - accuracy: 0.9207 - val_loss: 1.0394 - val_accuracy: 0.6444\n",
            "              precision    recall  f1-score   support\n",
            "\n",
            "  Lungcancer       1.00      0.33      0.50        33\n",
            "      Normal       1.00      0.62      0.76        26\n",
            "Tuberculosis       0.49      1.00      0.66        31\n",
            "\n",
            "    accuracy                           0.64        90\n",
            "   macro avg       0.83      0.65      0.64        90\n",
            "weighted avg       0.83      0.64      0.63        90\n",
            "\n",
            "Fold #3\n",
            "Epoch 1/30\n",
            "45/45 [==============================] - 190s 4s/step - loss: 0.1364 - accuracy: 0.9348 - val_loss: 0.0145 - val_accuracy: 1.0000\n",
            "Epoch 2/30\n",
            "45/45 [==============================] - 230s 5s/step - loss: 0.1057 - accuracy: 0.9433 - val_loss: 1.0488 - val_accuracy: 0.6111\n",
            "Epoch 3/30\n",
            "45/45 [==============================] - 184s 4s/step - loss: 0.0702 - accuracy: 0.9717 - val_loss: 0.5366 - val_accuracy: 0.8000\n",
            "Epoch 4/30\n",
            "45/45 [==============================] - 183s 4s/step - loss: 0.1432 - accuracy: 0.9320 - val_loss: 0.4755 - val_accuracy: 0.8111\n",
            "              precision    recall  f1-score   support\n",
            "\n",
            "  Lungcancer       1.00      0.48      0.65        29\n",
            "      Normal       1.00      0.94      0.97        33\n",
            "Tuberculosis       0.62      1.00      0.77        28\n",
            "\n",
            "    accuracy                           0.81        90\n",
            "   macro avg       0.87      0.81      0.80        90\n",
            "weighted avg       0.88      0.81      0.80        90\n",
            "\n",
            "Fold #4\n",
            "Epoch 1/30\n",
            "45/45 [==============================] - 190s 4s/step - loss: 0.0486 - accuracy: 0.9830 - val_loss: 0.1598 - val_accuracy: 0.9111\n",
            "Epoch 2/30\n",
            "45/45 [==============================] - 181s 4s/step - loss: 0.1197 - accuracy: 0.9462 - val_loss: 0.0285 - val_accuracy: 0.9889\n",
            "Epoch 3/30\n",
            "45/45 [==============================] - 183s 4s/step - loss: 0.0618 - accuracy: 0.9717 - val_loss: 0.0076 - val_accuracy: 1.0000\n",
            "Epoch 4/30\n",
            "45/45 [==============================] - 181s 4s/step - loss: 0.0759 - accuracy: 0.9688 - val_loss: 0.0043 - val_accuracy: 1.0000\n",
            "Epoch 5/30\n",
            "45/45 [==============================] - 186s 4s/step - loss: 0.0898 - accuracy: 0.9490 - val_loss: 0.0193 - val_accuracy: 1.0000\n",
            "Epoch 6/30\n",
            "45/45 [==============================] - 183s 4s/step - loss: 0.0854 - accuracy: 0.9632 - val_loss: 0.0053 - val_accuracy: 1.0000\n",
            "              precision    recall  f1-score   support\n",
            "\n",
            "  Lungcancer       1.00      1.00      1.00        30\n",
            "      Normal       1.00      1.00      1.00        31\n",
            "Tuberculosis       1.00      1.00      1.00        29\n",
            "\n",
            "    accuracy                           1.00        90\n",
            "   macro avg       1.00      1.00      1.00        90\n",
            "weighted avg       1.00      1.00      1.00        90\n",
            "\n",
            "Fold #5\n",
            "Epoch 1/30\n",
            "45/45 [==============================] - 183s 4s/step - loss: 0.0393 - accuracy: 0.9830 - val_loss: 0.0530 - val_accuracy: 0.9778\n",
            "Epoch 2/30\n",
            "45/45 [==============================] - 182s 4s/step - loss: 0.0725 - accuracy: 0.9660 - val_loss: 0.0830 - val_accuracy: 0.9667\n",
            "Epoch 3/30\n",
            "45/45 [==============================] - 183s 4s/step - loss: 0.0647 - accuracy: 0.9745 - val_loss: 0.1922 - val_accuracy: 0.8889\n",
            "Epoch 4/30\n",
            "45/45 [==============================] - 183s 4s/step - loss: 0.0557 - accuracy: 0.9660 - val_loss: 0.1561 - val_accuracy: 0.9222\n",
            "              precision    recall  f1-score   support\n",
            "\n",
            "  Lungcancer       1.00      0.77      0.87        30\n",
            "      Normal       1.00      1.00      1.00        28\n",
            "Tuberculosis       0.82      1.00      0.90        32\n",
            "\n",
            "    accuracy                           0.92        90\n",
            "   macro avg       0.94      0.92      0.92        90\n",
            "weighted avg       0.94      0.92      0.92        90\n",
            "\n"
          ]
        }
      ]
    },
    {
      "cell_type": "code",
      "source": [
        "oos_yF3 = np.concatenate(oos_yF3)\n",
        "oos_predF3 = np.concatenate(oos_predF3)"
      ],
      "metadata": {
        "id": "ASmPL4GxsOZ-"
      },
      "execution_count": null,
      "outputs": []
    },
    {
      "cell_type": "code",
      "source": [
        "print(classification_report(oos_yF3.argmax(axis=1),\t                #แสดง report ค่า acc, recall, ...\n",
        "                                        oos_predF3.argmax(axis=1),  \n",
        "                                        target_names=le3_Incep.classes_))"
      ],
      "metadata": {
        "colab": {
          "base_uri": "https://localhost:8080/"
        },
        "outputId": "69a1e184-5d9b-49a7-b9aa-1c79a0d1063f",
        "id": "mjKTnShosOZ-"
      },
      "execution_count": null,
      "outputs": [
        {
          "output_type": "stream",
          "name": "stdout",
          "text": [
            "              precision    recall  f1-score   support\n",
            "\n",
            "  Lungcancer       1.00      0.54      0.70       150\n",
            "      Normal       0.94      0.91      0.93       151\n",
            "Tuberculosis       0.66      0.98      0.79       150\n",
            "\n",
            "    accuracy                           0.81       451\n",
            "   macro avg       0.87      0.81      0.81       451\n",
            "weighted avg       0.87      0.81      0.81       451\n",
            "\n"
          ]
        }
      ]
    },
    {
      "cell_type": "code",
      "source": [
        ""
      ],
      "metadata": {
        "id": "tVx5H9PksOFG"
      },
      "execution_count": null,
      "outputs": []
    },
    {
      "cell_type": "code",
      "source": [
        ""
      ],
      "metadata": {
        "id": "2BrAgJh7cn5Y"
      },
      "execution_count": null,
      "outputs": []
    },
    {
      "cell_type": "markdown",
      "source": [
        "## 3.1) Find Tuning  \n",
        "\n",
        "###--> ACC = 0.72\n",
        "###--> ใช้เวลา 6354.25  วินาที \n",
        "\n",
        "*   BS = 8\n",
        "*   activation=\"sigmoid\"\n",
        "*   fix weight & bias in layer 0-100\n",
        "*   learning_rate=0.0001\n",
        "*   epoch 30\n"
      ],
      "metadata": {
        "id": "sOmZpAxtrm3-"
      }
    },
    {
      "cell_type": "markdown",
      "source": [
        "##### Data"
      ],
      "metadata": {
        "id": "89X75PKRrm4E"
      }
    },
    {
      "cell_type": "code",
      "source": [
        "train_img3_Incep = []\n",
        "for ImageName in tqdm(data_train3['ImageName']):               # รัน ชื่อรูป ในไฟล์ data_test3\n",
        "    image_path = All_3class_dir +'/' + ImageName                   # ดึงรูปในโฟล์เดอร์มาทีละรูป\n",
        "    img = cv2.imread(image_path)                                            # อ่านรูป\n",
        "    img = cv2.resize(img, (299, 299))                                       #ขนาดของ input\n",
        "    train_img3_Incep.append(img)\n",
        "\n",
        "data3_Incep = np.array(train_img3_Incep, dtype=\"float32\") / 255.0"
      ],
      "metadata": {
        "outputId": "86386bd4-5adf-406f-d9e5-7f8b80492665",
        "colab": {
          "base_uri": "https://localhost:8080/"
        },
        "id": "eNIxpDrlrm4E"
      },
      "execution_count": null,
      "outputs": [
        {
          "output_type": "stream",
          "name": "stderr",
          "text": [
            "100%|██████████| 451/451 [00:05<00:00, 86.56it/s] \n"
          ]
        }
      ]
    },
    {
      "cell_type": "code",
      "source": [
        "labels3_Incep = np.array(data_train3[['NameType']] )        \n",
        "labels3_Incep.shape = (len(labels3_Incep),) \n",
        "\n",
        "le3_Incep = LabelEncoder()                                                                     \n",
        "labels3_Incep = le3_Incep.fit_transform(labels3_Incep)                                         #จะแปลงชื่อ class เป็นตัวเลข 1, 2, 0 \n",
        "\n",
        "labels3_Incep = to_categorical(labels3_Incep, num_classes=3)                   #shape (180, 3) มีค่าเป็น  [0., 1., 0.]  กับ   [0., 0., 1.] กับ  [1., 0., 0.]"
      ],
      "metadata": {
        "id": "BW_vxkYorm4F"
      },
      "execution_count": null,
      "outputs": []
    },
    {
      "cell_type": "markdown",
      "source": [
        "##### Model"
      ],
      "metadata": {
        "id": "6EMhXxD_sKT7"
      }
    },
    {
      "cell_type": "code",
      "source": [
        "base_model3_Incep = tf.keras.applications.InceptionV3(input_shape=(299, 299, 3), include_top=False, weights=\"imagenet\")\n",
        "len(base_model3_Incep.layers)"
      ],
      "metadata": {
        "outputId": "27a6bf58-2b6f-4b99-93d7-27a4c1f98932",
        "colab": {
          "base_uri": "https://localhost:8080/"
        },
        "id": "oZNE7fXtsKUF"
      },
      "execution_count": null,
      "outputs": [
        {
          "output_type": "execute_result",
          "data": {
            "text/plain": [
              "311"
            ]
          },
          "metadata": {},
          "execution_count": 43
        }
      ]
    },
    {
      "cell_type": "code",
      "source": [
        "base_model3_Incep.trainable = True\n",
        "for layer in base_model3_Incep.layers[:100]:    #fix w & bias in layer 0-100\n",
        "    layer.trainable = False"
      ],
      "metadata": {
        "id": "yXk5UvKcsKUF"
      },
      "execution_count": null,
      "outputs": []
    },
    {
      "cell_type": "code",
      "source": [
        "#Add custom head\n",
        "average_pooling_layer = tf.keras.layers.GlobalAveragePooling2D()(base_model3_Incep.output)\n",
        "\n",
        "prediction_layer = tf.keras.layers.Dense(units=3, activation=\"sigmoid\")(average_pooling_layer)   # unit 3\n",
        "model3_IncepF31 = tf.keras.models.Model(inputs=base_model3_Incep.input, outputs=prediction_layer)\n",
        "\n",
        "model3_IncepF31.compile(optimizer=tf.keras.optimizers.RMSprop(learning_rate=0.0001), loss=\"binary_crossentropy\", metrics=[\"accuracy\"])"
      ],
      "metadata": {
        "id": "q-YFo4R0sKUF"
      },
      "execution_count": null,
      "outputs": []
    },
    {
      "cell_type": "code",
      "source": [
        "INIT_LR = 1e-1\n",
        "BS = 8\n",
        "\n",
        "aug31 = ImageDataGenerator(\n",
        "\t\trotation_range=15,\t\t\t\t\t\t#องศาการหมุน\n",
        "\t\twidth_shift_range=0.1,\n",
        "\t\theight_shift_range=0.1,\n",
        "\t\tshear_range=0.15,\n",
        "\t\thorizontal_flip=True,\n",
        "\t\tfill_mode=\"nearest\")\n",
        "\n",
        "callback = tf.keras.callbacks.EarlyStopping(\n",
        "                monitor=\"val_accuracy\",\n",
        "                patience=3,\n",
        "                mode=\"max\" )"
      ],
      "metadata": {
        "id": "2OoRM6g-sKUG"
      },
      "execution_count": null,
      "outputs": []
    },
    {
      "cell_type": "code",
      "source": [
        "kf_IncepF31 = KFold(5, shuffle=True, random_state=40) \n",
        "\n",
        "oos_yF31 = []\n",
        "oos_predF31 = []\n",
        "fold = 0\n",
        "\n",
        "for train, test in kf_IncepF31.split(data3_Incep):\n",
        "    fold+=1\n",
        "    print(f\"Fold #{fold}\")\n",
        "        \n",
        "    xtrain_IncepF31 = data3_Incep[train]\n",
        "    ytrain_IncepF31 = labels3_Incep[train]\n",
        "    xtest_IncepF31 = data3_Incep[test]\n",
        "    ytest_IncepF31 = labels3_Incep[test]\n",
        "\n",
        "    M_IncepF31 = model3_IncepF31.fit( x=aug31.flow(xtrain_IncepF31, ytrain_IncepF31, batch_size=BS),\n",
        "\t                                            validation_data=(xtest_IncepF31, ytest_IncepF31),\n",
        "\t                                            steps_per_epoch=len(xtrain_IncepF31) // BS,\n",
        "\t                                            epochs=30,  callbacks = [callback])\n",
        "    \n",
        "    pred_IncepF31 = model3_IncepF31.predict(xtest_IncepF31)\n",
        "    \n",
        "    oos_yF31.append(ytest_IncepF31)\n",
        "    oos_predF31.append(pred_IncepF31)  \n",
        "    print(classification_report(ytest_IncepF31.argmax(axis=1),\t                #แสดง report ค่า acc, recall, ...\n",
        "                                        pred_IncepF31.argmax(axis=1),  \n",
        "                                        target_names=le3_Incep.classes_))\n",
        "\n",
        "#   score = metrics.accuracy_score(ytest_IncepF.argmax(axis=1),\t        #ค่า acc\n",
        "#                                               pred_IncepF.argmax(axis=1)\n",
        "#    print(f\"Fold score (accuracy): {score}\")\n",
        "\n",
        "#    print(confusion_matrix(ytest_IncepF.argmax(axis=1),\t                       #แสดง confusion_matrix\n",
        "#                        pred3_IncepF.argmax(axis=1) ) )"
      ],
      "metadata": {
        "outputId": "393cd712-a3f1-4e34-c909-b4b075c6584c",
        "colab": {
          "base_uri": "https://localhost:8080/"
        },
        "id": "RhVQXJy5sKUG"
      },
      "execution_count": null,
      "outputs": [
        {
          "output_type": "stream",
          "name": "stdout",
          "text": [
            "Fold #1\n",
            "Epoch 1/30\n",
            "45/45 [==============================] - 207s 4s/step - loss: 0.4663 - accuracy: 0.6417 - val_loss: 0.7496 - val_accuracy: 0.4725\n",
            "Epoch 2/30\n",
            "45/45 [==============================] - 188s 4s/step - loss: 0.3244 - accuracy: 0.7944 - val_loss: 0.5518 - val_accuracy: 0.5934\n",
            "Epoch 3/30\n",
            "45/45 [==============================] - 186s 4s/step - loss: 0.2740 - accuracy: 0.8250 - val_loss: 0.5254 - val_accuracy: 0.7033\n",
            "Epoch 4/30\n",
            "45/45 [==============================] - 187s 4s/step - loss: 0.1984 - accuracy: 0.8917 - val_loss: 0.3224 - val_accuracy: 0.8022\n",
            "Epoch 5/30\n",
            "45/45 [==============================] - 191s 4s/step - loss: 0.1850 - accuracy: 0.9056 - val_loss: 0.5997 - val_accuracy: 0.7253\n",
            "Epoch 6/30\n",
            "45/45 [==============================] - 191s 4s/step - loss: 0.1834 - accuracy: 0.8972 - val_loss: 0.7332 - val_accuracy: 0.6813\n",
            "Epoch 7/30\n",
            "45/45 [==============================] - 190s 4s/step - loss: 0.1598 - accuracy: 0.8944 - val_loss: 0.6397 - val_accuracy: 0.7802\n",
            "              precision    recall  f1-score   support\n",
            "\n",
            "  Lungcancer       0.91      0.36      0.51        28\n",
            "      Normal       0.86      0.97      0.91        33\n",
            "Tuberculosis       0.67      0.97      0.79        30\n",
            "\n",
            "    accuracy                           0.78        91\n",
            "   macro avg       0.82      0.76      0.74        91\n",
            "weighted avg       0.82      0.78      0.75        91\n",
            "\n",
            "Fold #2\n",
            "Epoch 1/30\n",
            "45/45 [==============================] - 182s 4s/step - loss: 0.1956 - accuracy: 0.8980 - val_loss: 0.3271 - val_accuracy: 0.8556\n",
            "Epoch 2/30\n",
            "45/45 [==============================] - 187s 4s/step - loss: 0.1671 - accuracy: 0.9093 - val_loss: 1.2592 - val_accuracy: 0.5889\n",
            "Epoch 3/30\n",
            "45/45 [==============================] - 188s 4s/step - loss: 0.1676 - accuracy: 0.9037 - val_loss: 0.4903 - val_accuracy: 0.8222\n",
            "Epoch 4/30\n",
            "45/45 [==============================] - 187s 4s/step - loss: 0.1074 - accuracy: 0.9547 - val_loss: 1.2689 - val_accuracy: 0.6111\n",
            "              precision    recall  f1-score   support\n",
            "\n",
            "  Lungcancer       1.00      0.24      0.39        33\n",
            "      Normal       1.00      0.62      0.76        26\n",
            "Tuberculosis       0.47      1.00      0.64        31\n",
            "\n",
            "    accuracy                           0.61        90\n",
            "   macro avg       0.82      0.62      0.60        90\n",
            "weighted avg       0.82      0.61      0.58        90\n",
            "\n",
            "Fold #3\n",
            "Epoch 1/30\n",
            "45/45 [==============================] - 183s 4s/step - loss: 0.1415 - accuracy: 0.9207 - val_loss: 0.0820 - val_accuracy: 0.9444\n",
            "Epoch 2/30\n",
            "45/45 [==============================] - 186s 4s/step - loss: 0.1207 - accuracy: 0.9292 - val_loss: 3.5776 - val_accuracy: 0.3333\n",
            "Epoch 3/30\n",
            "45/45 [==============================] - 189s 4s/step - loss: 0.1234 - accuracy: 0.9405 - val_loss: 1.0389 - val_accuracy: 0.7111\n",
            "Epoch 4/30\n",
            "45/45 [==============================] - 187s 4s/step - loss: 0.0798 - accuracy: 0.9688 - val_loss: 0.2700 - val_accuracy: 0.8556\n",
            "              precision    recall  f1-score   support\n",
            "\n",
            "  Lungcancer       1.00      0.69      0.82        29\n",
            "      Normal       0.97      0.88      0.92        33\n",
            "Tuberculosis       0.70      1.00      0.82        28\n",
            "\n",
            "    accuracy                           0.86        90\n",
            "   macro avg       0.89      0.86      0.85        90\n",
            "weighted avg       0.89      0.86      0.86        90\n",
            "\n",
            "Fold #4\n",
            "Epoch 1/30\n",
            "45/45 [==============================] - 184s 4s/step - loss: 0.1006 - accuracy: 0.9405 - val_loss: 0.8538 - val_accuracy: 0.6667\n",
            "Epoch 2/30\n",
            "45/45 [==============================] - 185s 4s/step - loss: 0.1186 - accuracy: 0.9490 - val_loss: 0.1370 - val_accuracy: 0.9222\n",
            "Epoch 3/30\n",
            "45/45 [==============================] - 185s 4s/step - loss: 0.0792 - accuracy: 0.9745 - val_loss: 0.0670 - val_accuracy: 0.9556\n",
            "Epoch 4/30\n",
            "45/45 [==============================] - 185s 4s/step - loss: 0.0779 - accuracy: 0.9547 - val_loss: 0.2934 - val_accuracy: 0.8333\n",
            "Epoch 5/30\n",
            "45/45 [==============================] - 185s 4s/step - loss: 0.0456 - accuracy: 0.9773 - val_loss: 0.1579 - val_accuracy: 0.8778\n",
            "Epoch 6/30\n",
            "45/45 [==============================] - 185s 4s/step - loss: 0.0711 - accuracy: 0.9660 - val_loss: 0.0021 - val_accuracy: 1.0000\n",
            "Epoch 7/30\n",
            "45/45 [==============================] - 185s 4s/step - loss: 0.0709 - accuracy: 0.9603 - val_loss: 0.4454 - val_accuracy: 0.8000\n",
            "Epoch 8/30\n",
            "45/45 [==============================] - 185s 4s/step - loss: 0.0726 - accuracy: 0.9603 - val_loss: 0.2970 - val_accuracy: 0.8556\n",
            "Epoch 9/30\n",
            "45/45 [==============================] - 188s 4s/step - loss: 0.0758 - accuracy: 0.9611 - val_loss: 2.0933 - val_accuracy: 0.4667\n",
            "              precision    recall  f1-score   support\n",
            "\n",
            "  Lungcancer       1.00      0.07      0.12        30\n",
            "      Normal       1.00      0.35      0.52        31\n",
            "Tuberculosis       0.38      1.00      0.55        29\n",
            "\n",
            "    accuracy                           0.47        90\n",
            "   macro avg       0.79      0.47      0.40        90\n",
            "weighted avg       0.80      0.47      0.40        90\n",
            "\n",
            "Fold #5\n",
            "Epoch 1/30\n",
            "45/45 [==============================] - 185s 4s/step - loss: 0.0608 - accuracy: 0.9773 - val_loss: 0.2012 - val_accuracy: 0.9000\n",
            "Epoch 2/30\n",
            "45/45 [==============================] - 189s 4s/step - loss: 0.0319 - accuracy: 0.9889 - val_loss: 0.3521 - val_accuracy: 0.9000\n",
            "Epoch 3/30\n",
            "45/45 [==============================] - 187s 4s/step - loss: 0.1071 - accuracy: 0.9518 - val_loss: 0.1692 - val_accuracy: 0.9222\n",
            "Epoch 4/30\n",
            "45/45 [==============================] - 188s 4s/step - loss: 0.0398 - accuracy: 0.9858 - val_loss: 0.4797 - val_accuracy: 0.8444\n",
            "Epoch 5/30\n",
            "45/45 [==============================] - 191s 4s/step - loss: 0.0333 - accuracy: 0.9861 - val_loss: 0.0281 - val_accuracy: 0.9889\n",
            "Epoch 6/30\n",
            "45/45 [==============================] - 188s 4s/step - loss: 0.0590 - accuracy: 0.9717 - val_loss: 0.7232 - val_accuracy: 0.7000\n",
            "Epoch 7/30\n",
            "45/45 [==============================] - 189s 4s/step - loss: 0.0494 - accuracy: 0.9802 - val_loss: 0.6140 - val_accuracy: 0.7889\n",
            "Epoch 8/30\n",
            "45/45 [==============================] - 189s 4s/step - loss: 0.0334 - accuracy: 0.9858 - val_loss: 0.6655 - val_accuracy: 0.7222\n",
            "              precision    recall  f1-score   support\n",
            "\n",
            "  Lungcancer       1.00      0.50      0.67        30\n",
            "      Normal       1.00      0.64      0.78        28\n",
            "Tuberculosis       0.56      1.00      0.72        32\n",
            "\n",
            "    accuracy                           0.72        90\n",
            "   macro avg       0.85      0.71      0.72        90\n",
            "weighted avg       0.84      0.72      0.72        90\n",
            "\n"
          ]
        }
      ]
    },
    {
      "cell_type": "code",
      "source": [
        "oos_yF31 = np.concatenate(oos_yF31)\n",
        "oos_predF31 = np.concatenate(oos_predF31)"
      ],
      "metadata": {
        "id": "A4plCYZtsKUG"
      },
      "execution_count": null,
      "outputs": []
    },
    {
      "cell_type": "code",
      "source": [
        "print(classification_report(oos_yF31.argmax(axis=1),\t                #แสดง report ค่า acc, recall, ...\n",
        "                                        oos_predF31.argmax(axis=1),  \n",
        "                                        target_names=le3_Incep.classes_))"
      ],
      "metadata": {
        "id": "aul2pO7RsKUG"
      },
      "execution_count": null,
      "outputs": []
    },
    {
      "cell_type": "markdown",
      "source": [
        "## 4) Find Tuning \n",
        "###--> ACC =  76\n",
        "###--> ใช้เวลา 4447.95 วินาที\n",
        "*   BS = 1\n",
        "*   activation=\"softmax\"\n",
        "*   fix weight & bias in layer 0-100\n",
        "*   learning_rate=0.0001\n",
        "*   epoch 30\n",
        "\n",
        "\n",
        "\n",
        "\n",
        "\n"
      ],
      "metadata": {
        "id": "Ln4ifa1bcoPQ"
      }
    },
    {
      "cell_type": "code",
      "source": [
        "train_img3_Incep = []\n",
        "for ImageName in tqdm(data_train3['ImageName']):               # รัน ชื่อรูป ในไฟล์ data_test3\n",
        "    image_path = All_3class_dir +'/' + ImageName                   # ดึงรูปในโฟล์เดอร์มาทีละรูป\n",
        "    img = cv2.imread(image_path)                                            # อ่านรูป\n",
        "    img = cv2.resize(img, (299, 299))                                       #ขนาดของ input\n",
        "    train_img3_Incep.append(img)\n",
        "\n",
        "data3_Incep = np.array(train_img3_Incep, dtype=\"float32\") / 255.0"
      ],
      "metadata": {
        "outputId": "27a3266d-8076-40c1-ea7b-e36e5b07b617",
        "colab": {
          "base_uri": "https://localhost:8080/"
        },
        "id": "z1qwhXBRcoPR"
      },
      "execution_count": null,
      "outputs": [
        {
          "output_type": "stream",
          "name": "stderr",
          "text": [
            "100%|██████████| 451/451 [00:05<00:00, 86.58it/s] \n"
          ]
        }
      ]
    },
    {
      "cell_type": "code",
      "source": [
        "labels3_Incep = np.array(data_train3[['NameType']] )        \n",
        "labels3_Incep.shape = (len(labels3_Incep),) \n",
        "\n",
        "le3_Incep = LabelEncoder()                                                                     \n",
        "labels3_Incep = le3_Incep.fit_transform(labels3_Incep)                                         #จะแปลงชื่อ class เป็นตัวเลข 1, 2, 0 \n",
        "\n",
        "labels3_Incep = to_categorical(labels3_Incep, num_classes=3)                   #shape (180, 3) มีค่าเป็น  [0., 1., 0.]  กับ   [0., 0., 1.] กับ  [1., 0., 0.]"
      ],
      "metadata": {
        "id": "2YIjPAzCcoPS"
      },
      "execution_count": null,
      "outputs": []
    },
    {
      "cell_type": "markdown",
      "source": [
        "##### Model"
      ],
      "metadata": {
        "id": "MtNST5picoPT"
      }
    },
    {
      "cell_type": "code",
      "source": [
        "base_model3_Incep = tf.keras.applications.InceptionV3(input_shape=(299, 299, 3), include_top=False, weights=\"imagenet\")\n",
        "len(base_model3_Incep.layers)"
      ],
      "metadata": {
        "outputId": "1d9fb5ae-b36c-49ed-9a9c-8be382393ac4",
        "colab": {
          "base_uri": "https://localhost:8080/"
        },
        "id": "v3yumV76coPT"
      },
      "execution_count": null,
      "outputs": [
        {
          "output_type": "execute_result",
          "data": {
            "text/plain": [
              "311"
            ]
          },
          "metadata": {},
          "execution_count": 34
        }
      ]
    },
    {
      "cell_type": "code",
      "source": [
        "base_model3_Incep.trainable = True\n",
        "for layer in base_model3_Incep.layers[:100]:    #fix w & bias in layer 0-100\n",
        "    layer.trainable = False"
      ],
      "metadata": {
        "id": "N8TXpbIIcoPT"
      },
      "execution_count": null,
      "outputs": []
    },
    {
      "cell_type": "code",
      "source": [
        "#Add custom head\n",
        "average_pooling_layer = tf.keras.layers.GlobalAveragePooling2D()(base_model3_Incep.output)\n",
        "\n",
        "prediction_layer = tf.keras.layers.Dense(units=3, activation=\"softmax\")(average_pooling_layer)   # unit 3\n",
        "model3_IncepF4 = tf.keras.models.Model(inputs=base_model3_Incep.input, outputs=prediction_layer)\n",
        "\n",
        "model3_IncepF4.compile(optimizer=tf.keras.optimizers.RMSprop(learning_rate=0.0001), loss=\"binary_crossentropy\", metrics=[\"accuracy\"])"
      ],
      "metadata": {
        "id": "_l4Yjx5ZcoPU"
      },
      "execution_count": null,
      "outputs": []
    },
    {
      "cell_type": "code",
      "source": [
        "INIT_LR = 1e-1\n",
        "BS = 1\n",
        "\n",
        "aug4 = ImageDataGenerator(\n",
        "\t\trotation_range=15,\t\t\t\t\t\t#องศาการหมุน\n",
        "\t\twidth_shift_range=0.1,\n",
        "\t\theight_shift_range=0.1,\n",
        "\t\tshear_range=0.15,\n",
        "\t\thorizontal_flip=True,\n",
        "\t\tfill_mode=\"nearest\")\n",
        "\n",
        "callback = tf.keras.callbacks.EarlyStopping(\n",
        "                monitor=\"val_accuracy\",\n",
        "                patience=3,\n",
        "                mode=\"max\" )"
      ],
      "metadata": {
        "id": "Z52OFm1mcoPU"
      },
      "execution_count": null,
      "outputs": []
    },
    {
      "cell_type": "code",
      "source": [
        "kf_IncepF4 = KFold(5, shuffle=True, random_state=40) \n",
        "\n",
        "oos_yF4 = []\n",
        "oos_predF4 = []\n",
        "fold = 0\n",
        "\n",
        "for train, test in kf_IncepF4.split(data3_Incep):\n",
        "    fold+=1\n",
        "    print(f\"Fold #{fold}\")\n",
        "        \n",
        "    xtrain_IncepF4 = data3_Incep[train]\n",
        "    ytrain_IncepF4 = labels3_Incep[train]\n",
        "    xtest_IncepF4 = data3_Incep[test]\n",
        "    ytest_IncepF4 = labels3_Incep[test]\n",
        "\n",
        "    M_IncepF4 = model3_IncepF4.fit( x=aug4.flow(xtrain_IncepF4, ytrain_IncepF4, batch_size=BS),\n",
        "\t                                            validation_data=(xtest_IncepF4, ytest_IncepF4),\n",
        "\t                                            steps_per_epoch=len(xtrain_IncepF4) // BS,\n",
        "\t                                            epochs=30,  callbacks = [callback])\n",
        "    \n",
        "    pred_IncepF4 = model3_IncepF4.predict(xtest_IncepF4)\n",
        "    \n",
        "    oos_yF4.append(ytest_IncepF4)\n",
        "    oos_predF4.append(pred_IncepF4)  \n",
        "    print(classification_report(ytest_IncepF4.argmax(axis=1),\t                #แสดง report ค่า acc, recall, ...\n",
        "                                        pred_IncepF4.argmax(axis=1),  \n",
        "                                        target_names=le3_Incep.classes_))\n",
        "\n",
        "#   score = metrics.accuracy_score(ytest_IncepF.argmax(axis=1),\t        #ค่า acc\n",
        "#                                               pred_IncepF.argmax(axis=1)\n",
        "#    print(f\"Fold score (accuracy): {score}\")\n",
        "\n",
        "#    print(confusion_matrix(ytest_IncepF.argmax(axis=1),\t                       #แสดง confusion_matrix\n",
        "#                        pred3_IncepF.argmax(axis=1) ) )"
      ],
      "metadata": {
        "outputId": "fd698a51-0432-4151-ae6e-09b5d74c0fbc",
        "colab": {
          "base_uri": "https://localhost:8080/"
        },
        "id": "I73cit9lcoPW"
      },
      "execution_count": null,
      "outputs": [
        {
          "output_type": "stream",
          "name": "stdout",
          "text": [
            "Fold #1\n",
            "Epoch 1/30\n",
            "360/360 [==============================] - 249s 665ms/step - loss: 0.5995 - accuracy: 0.4694 - val_loss: 0.8508 - val_accuracy: 0.5714\n",
            "Epoch 2/30\n",
            "360/360 [==============================] - 240s 666ms/step - loss: 0.4782 - accuracy: 0.5861 - val_loss: 0.5635 - val_accuracy: 0.6044\n",
            "Epoch 3/30\n",
            "360/360 [==============================] - 238s 661ms/step - loss: 0.4199 - accuracy: 0.6667 - val_loss: 0.6837 - val_accuracy: 0.6484\n",
            "Epoch 4/30\n",
            "360/360 [==============================] - 239s 663ms/step - loss: 0.3905 - accuracy: 0.6917 - val_loss: 0.6726 - val_accuracy: 0.7033\n",
            "Epoch 5/30\n",
            "360/360 [==============================] - 289s 802ms/step - loss: 0.3414 - accuracy: 0.7472 - val_loss: 0.4193 - val_accuracy: 0.7033\n",
            "Epoch 6/30\n",
            "360/360 [==============================] - 239s 663ms/step - loss: 0.3496 - accuracy: 0.7667 - val_loss: 0.4928 - val_accuracy: 0.7033\n",
            "Epoch 7/30\n",
            "360/360 [==============================] - 237s 658ms/step - loss: 0.2890 - accuracy: 0.8333 - val_loss: 0.7517 - val_accuracy: 0.5934\n",
            "              precision    recall  f1-score   support\n",
            "\n",
            "  Lungcancer       0.51      0.64      0.57        28\n",
            "      Normal       1.00      0.52      0.68        33\n",
            "Tuberculosis       0.49      0.63      0.55        30\n",
            "\n",
            "    accuracy                           0.59        91\n",
            "   macro avg       0.67      0.60      0.60        91\n",
            "weighted avg       0.68      0.59      0.60        91\n",
            "\n",
            "Fold #2\n",
            "Epoch 1/30\n",
            "361/361 [==============================] - 238s 659ms/step - loss: 0.3160 - accuracy: 0.7950 - val_loss: 0.6169 - val_accuracy: 0.7556\n",
            "Epoch 2/30\n",
            "361/361 [==============================] - 238s 658ms/step - loss: 0.2775 - accuracy: 0.8366 - val_loss: 0.3467 - val_accuracy: 0.8444\n",
            "Epoch 3/30\n",
            "361/361 [==============================] - 239s 661ms/step - loss: 0.2468 - accuracy: 0.8643 - val_loss: 0.3149 - val_accuracy: 0.7000\n",
            "Epoch 4/30\n",
            "361/361 [==============================] - 238s 660ms/step - loss: 0.2042 - accuracy: 0.8947 - val_loss: 0.2722 - val_accuracy: 0.8556\n",
            "Epoch 5/30\n",
            "361/361 [==============================] - 238s 659ms/step - loss: 0.1731 - accuracy: 0.9169 - val_loss: 0.3395 - val_accuracy: 0.8444\n",
            "Epoch 6/30\n",
            "361/361 [==============================] - 238s 659ms/step - loss: 0.1477 - accuracy: 0.9335 - val_loss: 0.1950 - val_accuracy: 0.9000\n",
            "Epoch 7/30\n",
            "361/361 [==============================] - 239s 661ms/step - loss: 0.1860 - accuracy: 0.9141 - val_loss: 0.7393 - val_accuracy: 0.8444\n",
            "Epoch 8/30\n",
            "361/361 [==============================] - 237s 657ms/step - loss: 0.1647 - accuracy: 0.9169 - val_loss: 0.3218 - val_accuracy: 0.9000\n",
            "Epoch 9/30\n",
            "361/361 [==============================] - 239s 663ms/step - loss: 0.1089 - accuracy: 0.9391 - val_loss: 0.2716 - val_accuracy: 0.8556\n",
            "              precision    recall  f1-score   support\n",
            "\n",
            "  Lungcancer       0.93      0.76      0.83        33\n",
            "      Normal       0.96      0.92      0.94        26\n",
            "Tuberculosis       0.74      0.90      0.81        31\n",
            "\n",
            "    accuracy                           0.86        90\n",
            "   macro avg       0.87      0.86      0.86        90\n",
            "weighted avg       0.87      0.86      0.86        90\n",
            "\n",
            "Fold #3\n",
            "Epoch 1/30\n",
            "361/361 [==============================] - 239s 661ms/step - loss: 0.1583 - accuracy: 0.9197 - val_loss: 0.1935 - val_accuracy: 0.8778\n",
            "Epoch 2/30\n",
            "361/361 [==============================] - 238s 660ms/step - loss: 0.1017 - accuracy: 0.9557 - val_loss: 0.4887 - val_accuracy: 0.6667\n",
            "Epoch 3/30\n",
            "361/361 [==============================] - 238s 658ms/step - loss: 0.1290 - accuracy: 0.9474 - val_loss: 0.3723 - val_accuracy: 0.8778\n",
            "Epoch 4/30\n",
            "361/361 [==============================] - 238s 658ms/step - loss: 0.0984 - accuracy: 0.9557 - val_loss: 0.5285 - val_accuracy: 0.8444\n",
            "              precision    recall  f1-score   support\n",
            "\n",
            "  Lungcancer       0.93      0.86      0.89        29\n",
            "      Normal       0.82      0.94      0.87        33\n",
            "Tuberculosis       0.80      0.71      0.75        28\n",
            "\n",
            "    accuracy                           0.84        90\n",
            "   macro avg       0.85      0.84      0.84        90\n",
            "weighted avg       0.85      0.84      0.84        90\n",
            "\n",
            "Fold #4\n",
            "Epoch 1/30\n",
            "361/361 [==============================] - 237s 656ms/step - loss: 0.1146 - accuracy: 0.9584 - val_loss: 0.6190 - val_accuracy: 0.8333\n",
            "Epoch 2/30\n",
            "361/361 [==============================] - 236s 655ms/step - loss: 0.1143 - accuracy: 0.9584 - val_loss: 0.6854 - val_accuracy: 0.8667\n",
            "Epoch 3/30\n",
            "361/361 [==============================] - 237s 655ms/step - loss: 0.1173 - accuracy: 0.9529 - val_loss: 1.4815 - val_accuracy: 0.7667\n",
            "Epoch 4/30\n",
            "361/361 [==============================] - 237s 656ms/step - loss: 0.0375 - accuracy: 0.9834 - val_loss: 1.3840 - val_accuracy: 0.8444\n",
            "Epoch 5/30\n",
            "361/361 [==============================] - 236s 655ms/step - loss: 0.0903 - accuracy: 0.9695 - val_loss: 0.2876 - val_accuracy: 0.8222\n",
            "              precision    recall  f1-score   support\n",
            "\n",
            "  Lungcancer       0.95      0.63      0.76        30\n",
            "      Normal       1.00      0.87      0.93        31\n",
            "Tuberculosis       0.65      0.97      0.78        29\n",
            "\n",
            "    accuracy                           0.82        90\n",
            "   macro avg       0.87      0.82      0.82        90\n",
            "weighted avg       0.87      0.82      0.82        90\n",
            "\n",
            "Fold #5\n",
            "Epoch 1/30\n",
            "361/361 [==============================] - 237s 657ms/step - loss: 0.0671 - accuracy: 0.9806 - val_loss: 0.8635 - val_accuracy: 0.7889\n",
            "Epoch 2/30\n",
            "361/361 [==============================] - 236s 653ms/step - loss: 0.0826 - accuracy: 0.9723 - val_loss: 0.4823 - val_accuracy: 0.7778\n",
            "Epoch 3/30\n",
            "361/361 [==============================] - 236s 654ms/step - loss: 0.1050 - accuracy: 0.9584 - val_loss: 1.3159 - val_accuracy: 0.8222\n",
            "Epoch 4/30\n",
            "361/361 [==============================] - 236s 654ms/step - loss: 0.0511 - accuracy: 0.9889 - val_loss: 2.5170 - val_accuracy: 0.6667\n",
            "Epoch 5/30\n",
            "361/361 [==============================] - 236s 655ms/step - loss: 0.0725 - accuracy: 0.9834 - val_loss: 1.0820 - val_accuracy: 0.7667\n",
            "Epoch 6/30\n",
            "361/361 [==============================] - 237s 655ms/step - loss: 0.0375 - accuracy: 0.9945 - val_loss: 1.9450 - val_accuracy: 0.6889\n",
            "              precision    recall  f1-score   support\n",
            "\n",
            "  Lungcancer       1.00      0.60      0.75        30\n",
            "      Normal       0.69      0.71      0.70        28\n",
            "Tuberculosis       0.56      0.75      0.64        32\n",
            "\n",
            "    accuracy                           0.69        90\n",
            "   macro avg       0.75      0.69      0.70        90\n",
            "weighted avg       0.75      0.69      0.70        90\n",
            "\n"
          ]
        }
      ]
    },
    {
      "cell_type": "code",
      "source": [
        "oos_yF4 = np.concatenate(oos_yF4)\n",
        "oos_predF4 = np.concatenate(oos_predF4)"
      ],
      "metadata": {
        "id": "e5za-j-RcoPY"
      },
      "execution_count": null,
      "outputs": []
    },
    {
      "cell_type": "code",
      "source": [
        "print(classification_report(oos_yF4.argmax(axis=1),\t                #แสดง report ค่า acc, recall, ...\n",
        "                                        oos_predF4.argmax(axis=1),  \n",
        "                                        target_names=le3_Incep.classes_))"
      ],
      "metadata": {
        "id": "s7KYXIU7coPY",
        "outputId": "57c69b48-2754-41df-aa29-17a03530210d",
        "colab": {
          "base_uri": "https://localhost:8080/"
        }
      },
      "execution_count": null,
      "outputs": [
        {
          "output_type": "stream",
          "name": "stdout",
          "text": [
            "              precision    recall  f1-score   support\n",
            "\n",
            "  Lungcancer       0.83      0.70      0.76       150\n",
            "      Normal       0.88      0.79      0.83       151\n",
            "Tuberculosis       0.63      0.79      0.70       150\n",
            "\n",
            "    accuracy                           0.76       451\n",
            "   macro avg       0.78      0.76      0.76       451\n",
            "weighted avg       0.78      0.76      0.76       451\n",
            "\n"
          ]
        }
      ]
    },
    {
      "cell_type": "code",
      "source": [
        ""
      ],
      "metadata": {
        "id": "TRxIZSeycoPY"
      },
      "execution_count": null,
      "outputs": []
    }
  ]
}