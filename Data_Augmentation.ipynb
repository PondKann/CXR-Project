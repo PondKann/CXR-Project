{
  "nbformat": 4,
  "nbformat_minor": 0,
  "metadata": {
    "colab": {
      "name": "Data Augmentation.ipynb",
      "provenance": [],
      "authorship_tag": "ABX9TyMnQo6WJHq8tePEZOhiZsEJ",
      "include_colab_link": true
    },
    "kernelspec": {
      "name": "python3",
      "display_name": "Python 3"
    },
    "language_info": {
      "name": "python"
    }
  },
  "cells": [
    {
      "cell_type": "markdown",
      "metadata": {
        "id": "view-in-github",
        "colab_type": "text"
      },
      "source": [
        "<a href=\"https://colab.research.google.com/github/PondKann/CXR-Project/blob/main/Data_Augmentation.ipynb\" target=\"_parent\"><img src=\"https://colab.research.google.com/assets/colab-badge.svg\" alt=\"Open In Colab\"/></a>"
      ]
    },
    {
      "cell_type": "markdown",
      "source": [
        "###### import"
      ],
      "metadata": {
        "id": "Kpnf_sft9x4-"
      }
    },
    {
      "cell_type": "code",
      "metadata": {
        "id": "Psng6eJUdzUG"
      },
      "source": [
        "import os\n",
        "import tensorflow as tf\n",
        "import matplotlib.pyplot as plt\n",
        "%matplotlib inline\n",
        "from tensorflow.keras.preprocessing.image import ImageDataGenerator\n",
        "import cv2\n",
        "import numpy as np\n",
        "import pandas as pd\n",
        "from torchsummary import summary\n",
        "from skimage.io import imread, imsave\n",
        "from tqdm import tqdm\n",
        "\n",
        "from sklearn.model_selection import train_test_split\n",
        "from sklearn.metrics import accuracy_score"
      ],
      "execution_count": 103,
      "outputs": []
    },
    {
      "cell_type": "code",
      "source": [
        "# set the matplotlib backend so figures can be saved in the background\n",
        "import matplotlib\n",
        "matplotlib.use(\"Agg\")\n",
        "\n",
        "from sklearn.preprocessing import LabelEncoder\n",
        "from sklearn.metrics import classification_report\n",
        "from tensorflow.keras.optimizers import SGD\n",
        "from tensorflow.keras.utils import to_categorical\n",
        "from imutils import paths\n",
        "import argparse"
      ],
      "metadata": {
        "id": "6f-PDKiLl2iC"
      },
      "execution_count": 104,
      "outputs": []
    },
    {
      "cell_type": "markdown",
      "source": [
        "#### Load data"
      ],
      "metadata": {
        "id": "Z1e52UqdwPp8"
      }
    },
    {
      "cell_type": "code",
      "metadata": {
        "colab": {
          "base_uri": "https://localhost:8080/"
        },
        "id": "DlcukkP7fnhB",
        "outputId": "705fadd6-3f57-4d8a-c839-853cbdcf07b1"
      },
      "source": [
        "from google.colab import drive\n",
        "drive.mount('/content/drive')"
      ],
      "execution_count": 105,
      "outputs": [
        {
          "output_type": "stream",
          "name": "stdout",
          "text": [
            "Drive already mounted at /content/drive; to attempt to forcibly remount, call drive.mount(\"/content/drive\", force_remount=True).\n"
          ]
        }
      ]
    },
    {
      "cell_type": "code",
      "metadata": {
        "id": "0w8suy5ofqx_"
      },
      "source": [
        "train_dir = '/content/drive/My Drive/Senior Project/xray_dataset_covid19/train'\n",
        "validation_dir = '/content/drive/My Drive/Senior Project/xray_dataset_covid19/test'"
      ],
      "execution_count": 106,
      "outputs": []
    },
    {
      "cell_type": "code",
      "source": [
        "train_normal_dir = os.path.join(train_dir,'NORMAL')\n",
        "train_pneumonia_dir = os.path.join(train_dir,'PNEUMONIA')\n",
        "validation_normal_dir = os.path.join(validation_dir,'NORMAL')\n",
        "validation_pneumonia_dir = os.path.join(validation_dir,'PNEUMONIA')"
      ],
      "metadata": {
        "id": "8BHyN8YKpwx9"
      },
      "execution_count": 107,
      "outputs": []
    },
    {
      "cell_type": "markdown",
      "source": [
        "#### สร้างตารางเก็บชื่อภาพ และโรค 2\n",
        "ข้อมูลในไฟล์ train ทั้ง normal และ pneunomia มารวมอยู่ในไฟล์ all_train แล้วลองนำมาทำ data augment"
      ],
      "metadata": {
        "id": "YFVxlpQZf5pU"
      }
    },
    {
      "cell_type": "code",
      "source": [
        "train_normal_dir = os.path.join(train_dir,'NORMAL')\n",
        "train_pneumonia_dir = os.path.join(train_dir,'PNEUMONIA')"
      ],
      "metadata": {
        "id": "mJmc-ZDif5pV"
      },
      "execution_count": 139,
      "outputs": []
    },
    {
      "cell_type": "code",
      "source": [
        "all_train = '/content/drive/My Drive/Senior Project/xray_dataset_covid19/all_train'"
      ],
      "metadata": {
        "id": "vSG4JYUGf5pX"
      },
      "execution_count": 140,
      "outputs": []
    },
    {
      "cell_type": "markdown",
      "source": [
        "สร้าง data dict ของรูป"
      ],
      "metadata": {
        "id": "GDyzIGdCf5pW"
      }
    },
    {
      "cell_type": "code",
      "source": [
        "normal = []\n",
        "for i in range(len(os.listdir(train_normal_dir))):\n",
        "    img = os.listdir(train_normal_dir)[i]\n",
        "    normal.append(img)\n",
        "tnormal = pd.DataFrame({'ImageName':[normal][0],\n",
        "                                       'Type1': \"Normal\" ,\n",
        "                                       'Type2': 0                      })"
      ],
      "metadata": {
        "id": "mT0QF8IgrfVm"
      },
      "execution_count": 202,
      "outputs": []
    },
    {
      "cell_type": "code",
      "source": [
        "pneumonia = []\n",
        "for i in range(len(os.listdir(train_pneumonia_dir))):\n",
        "    img = os.listdir(train_pneumonia_dir)[i]\n",
        "    pneumonia.append(img)\n",
        "tpneumonia = pd.DataFrame({'ImageName':[pneumonia][0],\n",
        "                                       'Type1': \"Pneumonia\" ,\n",
        "                                       'Type2': 1                        })"
      ],
      "metadata": {
        "id": "VtNPg0jwf5pW"
      },
      "execution_count": 205,
      "outputs": []
    },
    {
      "cell_type": "code",
      "source": [
        "data_train = pd.concat([tnormal, tpneumonia])\n",
        "data_train.head(3)"
      ],
      "metadata": {
        "id": "3_qF_MjCf5pX",
        "outputId": "f88c4bc5-041a-4421-e133-13831315372d",
        "colab": {
          "base_uri": "https://localhost:8080/",
          "height": 143
        }
      },
      "execution_count": 206,
      "outputs": [
        {
          "output_type": "execute_result",
          "data": {
            "text/html": [
              "\n",
              "  <div id=\"df-19a1b24e-c86c-4011-90ab-65a0c5043fde\">\n",
              "    <div class=\"colab-df-container\">\n",
              "      <div>\n",
              "<style scoped>\n",
              "    .dataframe tbody tr th:only-of-type {\n",
              "        vertical-align: middle;\n",
              "    }\n",
              "\n",
              "    .dataframe tbody tr th {\n",
              "        vertical-align: top;\n",
              "    }\n",
              "\n",
              "    .dataframe thead th {\n",
              "        text-align: right;\n",
              "    }\n",
              "</style>\n",
              "<table border=\"1\" class=\"dataframe\">\n",
              "  <thead>\n",
              "    <tr style=\"text-align: right;\">\n",
              "      <th></th>\n",
              "      <th>ImageName</th>\n",
              "      <th>Type1</th>\n",
              "      <th>Type2</th>\n",
              "    </tr>\n",
              "  </thead>\n",
              "  <tbody>\n",
              "    <tr>\n",
              "      <th>0</th>\n",
              "      <td>IM-0006-0001.jpeg</td>\n",
              "      <td>Normal</td>\n",
              "      <td>1</td>\n",
              "    </tr>\n",
              "    <tr>\n",
              "      <th>1</th>\n",
              "      <td>IM-0003-0001.jpeg</td>\n",
              "      <td>Normal</td>\n",
              "      <td>1</td>\n",
              "    </tr>\n",
              "    <tr>\n",
              "      <th>2</th>\n",
              "      <td>IM-0001-0001.jpeg</td>\n",
              "      <td>Normal</td>\n",
              "      <td>1</td>\n",
              "    </tr>\n",
              "  </tbody>\n",
              "</table>\n",
              "</div>\n",
              "      <button class=\"colab-df-convert\" onclick=\"convertToInteractive('df-19a1b24e-c86c-4011-90ab-65a0c5043fde')\"\n",
              "              title=\"Convert this dataframe to an interactive table.\"\n",
              "              style=\"display:none;\">\n",
              "        \n",
              "  <svg xmlns=\"http://www.w3.org/2000/svg\" height=\"24px\"viewBox=\"0 0 24 24\"\n",
              "       width=\"24px\">\n",
              "    <path d=\"M0 0h24v24H0V0z\" fill=\"none\"/>\n",
              "    <path d=\"M18.56 5.44l.94 2.06.94-2.06 2.06-.94-2.06-.94-.94-2.06-.94 2.06-2.06.94zm-11 1L8.5 8.5l.94-2.06 2.06-.94-2.06-.94L8.5 2.5l-.94 2.06-2.06.94zm10 10l.94 2.06.94-2.06 2.06-.94-2.06-.94-.94-2.06-.94 2.06-2.06.94z\"/><path d=\"M17.41 7.96l-1.37-1.37c-.4-.4-.92-.59-1.43-.59-.52 0-1.04.2-1.43.59L10.3 9.45l-7.72 7.72c-.78.78-.78 2.05 0 2.83L4 21.41c.39.39.9.59 1.41.59.51 0 1.02-.2 1.41-.59l7.78-7.78 2.81-2.81c.8-.78.8-2.07 0-2.86zM5.41 20L4 18.59l7.72-7.72 1.47 1.35L5.41 20z\"/>\n",
              "  </svg>\n",
              "      </button>\n",
              "      \n",
              "  <style>\n",
              "    .colab-df-container {\n",
              "      display:flex;\n",
              "      flex-wrap:wrap;\n",
              "      gap: 12px;\n",
              "    }\n",
              "\n",
              "    .colab-df-convert {\n",
              "      background-color: #E8F0FE;\n",
              "      border: none;\n",
              "      border-radius: 50%;\n",
              "      cursor: pointer;\n",
              "      display: none;\n",
              "      fill: #1967D2;\n",
              "      height: 32px;\n",
              "      padding: 0 0 0 0;\n",
              "      width: 32px;\n",
              "    }\n",
              "\n",
              "    .colab-df-convert:hover {\n",
              "      background-color: #E2EBFA;\n",
              "      box-shadow: 0px 1px 2px rgba(60, 64, 67, 0.3), 0px 1px 3px 1px rgba(60, 64, 67, 0.15);\n",
              "      fill: #174EA6;\n",
              "    }\n",
              "\n",
              "    [theme=dark] .colab-df-convert {\n",
              "      background-color: #3B4455;\n",
              "      fill: #D2E3FC;\n",
              "    }\n",
              "\n",
              "    [theme=dark] .colab-df-convert:hover {\n",
              "      background-color: #434B5C;\n",
              "      box-shadow: 0px 1px 3px 1px rgba(0, 0, 0, 0.15);\n",
              "      filter: drop-shadow(0px 1px 2px rgba(0, 0, 0, 0.3));\n",
              "      fill: #FFFFFF;\n",
              "    }\n",
              "  </style>\n",
              "\n",
              "      <script>\n",
              "        const buttonEl =\n",
              "          document.querySelector('#df-19a1b24e-c86c-4011-90ab-65a0c5043fde button.colab-df-convert');\n",
              "        buttonEl.style.display =\n",
              "          google.colab.kernel.accessAllowed ? 'block' : 'none';\n",
              "\n",
              "        async function convertToInteractive(key) {\n",
              "          const element = document.querySelector('#df-19a1b24e-c86c-4011-90ab-65a0c5043fde');\n",
              "          const dataTable =\n",
              "            await google.colab.kernel.invokeFunction('convertToInteractive',\n",
              "                                                     [key], {});\n",
              "          if (!dataTable) return;\n",
              "\n",
              "          const docLinkHtml = 'Like what you see? Visit the ' +\n",
              "            '<a target=\"_blank\" href=https://colab.research.google.com/notebooks/data_table.ipynb>data table notebook</a>'\n",
              "            + ' to learn more about interactive tables.';\n",
              "          element.innerHTML = '';\n",
              "          dataTable['output_type'] = 'display_data';\n",
              "          await google.colab.output.renderOutput(dataTable, element);\n",
              "          const docLink = document.createElement('div');\n",
              "          docLink.innerHTML = docLinkHtml;\n",
              "          element.appendChild(docLink);\n",
              "        }\n",
              "      </script>\n",
              "    </div>\n",
              "  </div>\n",
              "  "
            ],
            "text/plain": [
              "           ImageName   Type1  Type2\n",
              "0  IM-0006-0001.jpeg  Normal      1\n",
              "1  IM-0003-0001.jpeg  Normal      1\n",
              "2  IM-0001-0001.jpeg  Normal      1"
            ]
          },
          "metadata": {},
          "execution_count": 206
        }
      ]
    },
    {
      "cell_type": "markdown",
      "source": [
        "### แบบที่ 1 "
      ],
      "metadata": {
        "id": "v7v_mA7BaXnU"
      }
    },
    {
      "cell_type": "markdown",
      "source": [
        "####แบ่งข้อมูล"
      ],
      "metadata": {
        "id": "LkbsojhALzDL"
      }
    },
    {
      "cell_type": "code",
      "source": [
        "train_img = []\n",
        "for ImageName in tqdm(data_train['ImageName']):               # รัน ชื่อรูป ในไฟล์ data_test2\n",
        "    image_path = all_train +'/' + ImageName                       # ดึงรูปในโฟล์เดอร์มาทีละรูป\n",
        "    img = cv2.imread(image_path)                                            # อ่านรูป\n",
        "    img = cv2.resize(img, (224, 224))\n",
        "    train_img.append(img)\n"
      ],
      "metadata": {
        "id": "kIe-kLDTgdtg",
        "outputId": "87a1fd47-9305-44c1-d7b5-dc7cd6841d3c",
        "colab": {
          "base_uri": "https://localhost:8080/"
        }
      },
      "execution_count": 207,
      "outputs": [
        {
          "output_type": "stream",
          "name": "stderr",
          "text": [
            "100%|██████████| 148/148 [00:08<00:00, 17.99it/s]\n"
          ]
        }
      ]
    },
    {
      "cell_type": "code",
      "source": [
        "data = np.array(train_img, dtype=\"float32\") / 255.0"
      ],
      "metadata": {
        "id": "GpcwzV13McEU"
      },
      "execution_count": 208,
      "outputs": []
    },
    {
      "cell_type": "code",
      "source": [
        "labels = np.array(data_train[['Type2']], dtype=\"float32\")           #shape (148, 1) ค่าเป็น 0. กับ 1.  รัน model2.fit  ได้ ------->  แต่จะรัน classification_report หลังจาก predict แล้วมันไม่ถูก"
      ],
      "metadata": {
        "id": "gGLy-Y08Mkyk"
      },
      "execution_count": 210,
      "outputs": []
    },
    {
      "cell_type": "code",
      "source": [
        "le = LabelEncoder()\n",
        "labels = le.fit_transform(labels)\n",
        "labels = to_categorical(labels, num_classes=2)                         #shape (148, 2) ค่าเดิม 0. กับ 1.  หลังจากรันจะเป็น [0., 1.] กับ [1., 0.]  ------->  แต่จะรัน model2.fit ไม่ได้"
      ],
      "metadata": {
        "id": "E4LtQs28Mmqz"
      },
      "execution_count": null,
      "outputs": []
    },
    {
      "cell_type": "code",
      "source": [
        "labels.shape"
      ],
      "metadata": {
        "id": "U_4_ESMQMygc"
      },
      "execution_count": null,
      "outputs": []
    },
    {
      "cell_type": "code",
      "source": [
        "(trainX, testX, trainY, testY) = train_test_split(data, labels,\n",
        "\ttest_size=0.25, random_state=42)"
      ],
      "metadata": {
        "id": "BNEpAppZWZWx"
      },
      "execution_count": null,
      "outputs": []
    },
    {
      "cell_type": "code",
      "source": [
        "testY"
      ],
      "metadata": {
        "id": "m-GVWLShWZUV"
      },
      "execution_count": null,
      "outputs": []
    },
    {
      "cell_type": "code",
      "source": [
        ""
      ],
      "metadata": {
        "id": "tkw6m3vKWmbP"
      },
      "execution_count": null,
      "outputs": []
    },
    {
      "cell_type": "markdown",
      "source": [
        "ไม่ต้องรันอันนี้"
      ],
      "metadata": {
        "id": "YkIadIqtWnyl"
      }
    },
    {
      "cell_type": "code",
      "source": [
        "data = np.array(train_img, dtype=\"float32\") / 255.0\n",
        "labels = np.array(data_train['Type'], dtype=\"float32\")\n",
        "\n",
        "#le = LabelEncoder()\n",
        "#labels = le.fit_transform(labels)\n",
        "#labels = to_categorical(labels,2)\n",
        "\n",
        "\n",
        "(trainX, testX, trainY, testY) = train_test_split(data, labels,\n",
        "\ttest_size=0.25, random_state=42)"
      ],
      "metadata": {
        "id": "U_Yb2ieJMW3P"
      },
      "execution_count": null,
      "outputs": []
    },
    {
      "cell_type": "code",
      "source": [
        "testY.argmax(axis=1)"
      ],
      "metadata": {
        "id": "mQgPVS0g_SNv"
      },
      "execution_count": null,
      "outputs": []
    },
    {
      "cell_type": "markdown",
      "source": [
        "#### Data Augmentation"
      ],
      "metadata": {
        "id": "U9DQHWz1POvY"
      }
    },
    {
      "cell_type": "code",
      "source": [
        "# initialize the initial learning rate, batch size, and number of\n",
        "# epochs to train for\n",
        "INIT_LR = 1e-1\n",
        "BS = 8\n",
        "EPOCHS = 50"
      ],
      "metadata": {
        "id": "3vtFqxOOVSXV"
      },
      "execution_count": 183,
      "outputs": []
    },
    {
      "cell_type": "code",
      "source": [
        "# initialize an our data augmenter as an \"empty\" image data generator\n",
        "aug = ImageDataGenerator()"
      ],
      "metadata": {
        "id": "jGTQDzkDRGlv"
      },
      "execution_count": 184,
      "outputs": []
    },
    {
      "cell_type": "code",
      "source": [
        "aug = ImageDataGenerator(\n",
        "\t\trotation_range=20,\n",
        "\t\tzoom_range=0.15,\n",
        "\t\twidth_shift_range=0.15,\n",
        "\t\theight_shift_range=0.15,\n",
        "\t\tshear_range=0.15,\n",
        "\t\thorizontal_flip=True,\n",
        "\t\tfill_mode=\"nearest\")"
      ],
      "metadata": {
        "id": "_Kr8dDXvVA5H"
      },
      "execution_count": 185,
      "outputs": []
    },
    {
      "cell_type": "markdown",
      "source": [
        "DenseNet201"
      ],
      "metadata": {
        "id": "0XzajaXZZmL-"
      }
    },
    {
      "cell_type": "code",
      "source": [
        "base_model2 = tf.keras.applications.DenseNet201(input_shape=(224, 224, 3), include_top=False, weights=\"imagenet\")"
      ],
      "metadata": {
        "id": "lyrwlDCxYSIx"
      },
      "execution_count": 186,
      "outputs": []
    },
    {
      "cell_type": "code",
      "source": [
        "base_model2.trainable=False\n",
        "\n",
        "#Add custom head\n",
        "average_pooling_layer = tf.keras.layers.GlobalAveragePooling2D()(base_model2.output)\n",
        "prediction_layer = tf.keras.layers.Dense(units=1, activation=\"sigmoid\")(average_pooling_layer)\n",
        "model2 = tf.keras.models.Model(inputs=base_model2.input, outputs=prediction_layer)"
      ],
      "metadata": {
        "id": "mUqItXggY-P1"
      },
      "execution_count": 187,
      "outputs": []
    },
    {
      "cell_type": "code",
      "source": [
        "model2.compile(optimizer=tf.keras.optimizers.RMSprop(lr=0.0001), loss=\"binary_crossentropy\", metrics=[\"accuracy\"])"
      ],
      "metadata": {
        "id": "RfFG7DmWYZjp",
        "outputId": "63120291-f288-4370-beee-84c2ba0451b8",
        "colab": {
          "base_uri": "https://localhost:8080/"
        }
      },
      "execution_count": 188,
      "outputs": [
        {
          "output_type": "stream",
          "name": "stderr",
          "text": [
            "/usr/local/lib/python3.7/dist-packages/keras/optimizer_v2/rmsprop.py:130: UserWarning: The `lr` argument is deprecated, use `learning_rate` instead.\n",
            "  super(RMSprop, self).__init__(name, **kwargs)\n"
          ]
        }
      ]
    },
    {
      "cell_type": "code",
      "source": [
        "# train the network\n",
        "\n",
        "H = model2.fit(\n",
        "\tx=aug.flow(trainX, trainY, batch_size=BS),\n",
        "\tvalidation_data=(testX, testY),\n",
        "\tsteps_per_epoch=len(trainX) // BS,\n",
        "\tepochs=2)"
      ],
      "metadata": {
        "id": "XHGba8fRZSz1",
        "outputId": "3735c170-17d9-4d7c-ee5c-059c24b8abd0",
        "colab": {
          "base_uri": "https://localhost:8080/"
        }
      },
      "execution_count": 189,
      "outputs": [
        {
          "output_type": "stream",
          "name": "stdout",
          "text": [
            "Epoch 1/2\n",
            "13/13 [==============================] - 61s 3s/step - loss: 0.8035 - accuracy: 0.4563 - val_loss: 0.7682 - val_accuracy: 0.5676\n",
            "Epoch 2/2\n",
            "13/13 [==============================] - 46s 4s/step - loss: 0.7684 - accuracy: 0.4951 - val_loss: 0.7385 - val_accuracy: 0.5135\n"
          ]
        }
      ]
    },
    {
      "cell_type": "code",
      "source": [
        "# evaluate the network\n",
        "print(\"[INFO] evaluating network...\")\n",
        "predictions = model2.predict(x=testX.astype(\"float64\"), batch_size=BS)"
      ],
      "metadata": {
        "id": "ejZciVYpZKuZ",
        "outputId": "7bb68467-323b-4cc6-d8f7-ff7bd60384e8",
        "colab": {
          "base_uri": "https://localhost:8080/"
        }
      },
      "execution_count": 190,
      "outputs": [
        {
          "output_type": "stream",
          "name": "stdout",
          "text": [
            "[INFO] evaluating network...\n"
          ]
        }
      ]
    },
    {
      "cell_type": "code",
      "source": [
        "print(classification_report(testY.argmax(axis=1),\n",
        "\tpredictions.argmax(axis=1)))"
      ],
      "metadata": {
        "id": "6-Lw01ygt6-Z",
        "colab": {
          "base_uri": "https://localhost:8080/"
        },
        "outputId": "608bb668-9d58-4178-e623-f67c17c4fd97"
      },
      "execution_count": 191,
      "outputs": [
        {
          "output_type": "stream",
          "name": "stdout",
          "text": [
            "              precision    recall  f1-score   support\n",
            "\n",
            "           0       1.00      1.00      1.00        37\n",
            "\n",
            "    accuracy                           1.00        37\n",
            "   macro avg       1.00      1.00      1.00        37\n",
            "weighted avg       1.00      1.00      1.00        37\n",
            "\n"
          ]
        }
      ]
    },
    {
      "cell_type": "code",
      "source": [
        ""
      ],
      "metadata": {
        "id": "Yhifd-j1nxpd"
      },
      "execution_count": null,
      "outputs": []
    },
    {
      "cell_type": "code",
      "source": [
        "print(classification_report(testY.argmax(axis=1),\n",
        "\tpredictions.argmax(axis=1)))"
      ],
      "metadata": {
        "id": "w-3927THnxE8"
      },
      "execution_count": null,
      "outputs": []
    },
    {
      "cell_type": "code",
      "source": [
        "predictions"
      ],
      "metadata": {
        "colab": {
          "base_uri": "https://localhost:8080/"
        },
        "id": "urT-93jFrgKc",
        "outputId": "4aeb69f4-0227-4011-912c-033b08b34b17"
      },
      "execution_count": 201,
      "outputs": [
        {
          "output_type": "execute_result",
          "data": {
            "text/plain": [
              "array([[0.38584822],\n",
              "       [0.4530935 ],\n",
              "       [0.46724758],\n",
              "       [0.35764468],\n",
              "       [0.47683406],\n",
              "       [0.45321348],\n",
              "       [0.4392964 ],\n",
              "       [0.4043297 ],\n",
              "       [0.55491   ],\n",
              "       [0.39272323],\n",
              "       [0.519612  ],\n",
              "       [0.36700606],\n",
              "       [0.38595742],\n",
              "       [0.46534073],\n",
              "       [0.35634953],\n",
              "       [0.31031972],\n",
              "       [0.3277316 ],\n",
              "       [0.48269597],\n",
              "       [0.66824466],\n",
              "       [0.33238962],\n",
              "       [0.40470126],\n",
              "       [0.2787732 ],\n",
              "       [0.5479393 ],\n",
              "       [0.33730817],\n",
              "       [0.3645737 ],\n",
              "       [0.4646588 ],\n",
              "       [0.4624538 ],\n",
              "       [0.30811423],\n",
              "       [0.306582  ],\n",
              "       [0.45070007],\n",
              "       [0.49873516],\n",
              "       [0.3456831 ],\n",
              "       [0.43098775],\n",
              "       [0.5204921 ],\n",
              "       [0.47481006],\n",
              "       [0.22370684],\n",
              "       [0.35386047]], dtype=float32)"
            ]
          },
          "metadata": {},
          "execution_count": 201
        }
      ]
    },
    {
      "cell_type": "code",
      "source": [
        "testY"
      ],
      "metadata": {
        "colab": {
          "base_uri": "https://localhost:8080/"
        },
        "id": "YUWdkqDtnr9N",
        "outputId": "a3770f85-57cc-49bc-c578-97f691d5ce2f"
      },
      "execution_count": 200,
      "outputs": [
        {
          "output_type": "execute_result",
          "data": {
            "text/plain": [
              "array([[1.],\n",
              "       [0.],\n",
              "       [1.],\n",
              "       [0.],\n",
              "       [1.],\n",
              "       [0.],\n",
              "       [1.],\n",
              "       [0.],\n",
              "       [1.],\n",
              "       [0.],\n",
              "       [0.],\n",
              "       [1.],\n",
              "       [1.],\n",
              "       [0.],\n",
              "       [1.],\n",
              "       [0.],\n",
              "       [0.],\n",
              "       [0.],\n",
              "       [1.],\n",
              "       [0.],\n",
              "       [0.],\n",
              "       [1.],\n",
              "       [0.],\n",
              "       [1.],\n",
              "       [0.],\n",
              "       [0.],\n",
              "       [0.],\n",
              "       [1.],\n",
              "       [1.],\n",
              "       [0.],\n",
              "       [1.],\n",
              "       [0.],\n",
              "       [1.],\n",
              "       [0.],\n",
              "       [0.],\n",
              "       [1.],\n",
              "       [1.]], dtype=float32)"
            ]
          },
          "metadata": {},
          "execution_count": 200
        }
      ]
    },
    {
      "cell_type": "code",
      "source": [
        "testY.argmax(axis=1)"
      ],
      "metadata": {
        "colab": {
          "base_uri": "https://localhost:8080/"
        },
        "id": "0XK7yyIgZlF6",
        "outputId": "35891f0a-84d4-47b1-f53b-66655ce3aeb0"
      },
      "execution_count": 195,
      "outputs": [
        {
          "output_type": "execute_result",
          "data": {
            "text/plain": [
              "array([0, 0, 0, 0, 0, 0, 0, 0, 0, 0, 0, 0, 0, 0, 0, 0, 0, 0, 0, 0, 0, 0,\n",
              "       0, 0, 0, 0, 0, 0, 0, 0, 0, 0, 0, 0, 0, 0, 0])"
            ]
          },
          "metadata": {},
          "execution_count": 195
        }
      ]
    },
    {
      "cell_type": "code",
      "source": [
        "predictions.argmax(axis=1)"
      ],
      "metadata": {
        "colab": {
          "base_uri": "https://localhost:8080/"
        },
        "id": "0NUCQmsCZvKT",
        "outputId": "59cc3451-734f-4622-c107-c82b6fb0947e"
      },
      "execution_count": 196,
      "outputs": [
        {
          "output_type": "execute_result",
          "data": {
            "text/plain": [
              "array([0, 0, 0, 0, 0, 0, 0, 0, 0, 0, 0, 0, 0, 0, 0, 0, 0, 0, 0, 0, 0, 0,\n",
              "       0, 0, 0, 0, 0, 0, 0, 0, 0, 0, 0, 0, 0, 0, 0])"
            ]
          },
          "metadata": {},
          "execution_count": 196
        }
      ]
    },
    {
      "cell_type": "code",
      "source": [
        ""
      ],
      "metadata": {
        "id": "Iupv0l5ct601"
      },
      "execution_count": null,
      "outputs": []
    },
    {
      "cell_type": "markdown",
      "source": [
        "#### Fine tune"
      ],
      "metadata": {
        "id": "NJr8f8hoIw4-"
      }
    },
    {
      "cell_type": "code",
      "source": [
        "len(base_model2.layers)"
      ],
      "metadata": {
        "id": "IHSmrRksYSCl"
      },
      "execution_count": null,
      "outputs": []
    },
    {
      "cell_type": "code",
      "source": [
        "base_model2.trainable = True\n",
        "for layer in base_model2.layers[:500]:    #fix w & bias in layer 0-500\n",
        "    layer.trainable = False"
      ],
      "metadata": {
        "id": "i4reuvGDYoEc"
      },
      "execution_count": null,
      "outputs": []
    },
    {
      "cell_type": "code",
      "source": [
        "model2.compile(optimizer=tf.keras.optimizers.RMSprop(lr=0.0001),\n",
        "              loss=\"binary_crossentropy\", metrics=[\"accuracy\"])"
      ],
      "metadata": {
        "id": "cHUtzNHJYn_c"
      },
      "execution_count": null,
      "outputs": []
    },
    {
      "cell_type": "code",
      "source": [
        "#train\n",
        "model2.fit_generator(train_generator, epochs=10, \n",
        "                    validation_data=valid_generator,\n",
        "                    callbacks=[callback2])"
      ],
      "metadata": {
        "id": "VzLAn6K2Yn80"
      },
      "execution_count": null,
      "outputs": []
    },
    {
      "cell_type": "code",
      "source": [
        ""
      ],
      "metadata": {
        "id": "yJ3R0UF4PejT"
      },
      "execution_count": null,
      "outputs": []
    },
    {
      "cell_type": "code",
      "source": [
        ""
      ],
      "metadata": {
        "id": "f_T9RajePeg4"
      },
      "execution_count": null,
      "outputs": []
    },
    {
      "cell_type": "code",
      "source": [
        ""
      ],
      "metadata": {
        "id": "xL4WZQOo9b2z"
      },
      "execution_count": null,
      "outputs": []
    },
    {
      "cell_type": "markdown",
      "source": [
        "### แบบที่ 2"
      ],
      "metadata": {
        "id": "7BHymtmpac8d"
      }
    },
    {
      "cell_type": "markdown",
      "source": [
        "####แบ่งข้อมูล"
      ],
      "metadata": {
        "id": "GCH9hU8Wa_E9"
      }
    },
    {
      "cell_type": "code",
      "source": [
        "train_img = []\n",
        "for ImageName in tqdm(data_train['ImageName']):               # รัน ชื่อรูป ในไฟล์ data_test2\n",
        "    image_path = all_train +'/' + ImageName                       # ดึงรูปในโฟล์เดอร์มาทีละรูป\n",
        "    img = cv2.imread(image_path)                                            # อ่านรูป\n",
        "    img = cv2.resize(img, (224, 224))\n",
        "    train_img.append(img)\n"
      ],
      "metadata": {
        "outputId": "43616520-bfac-413a-f495-47487af0ebee",
        "colab": {
          "base_uri": "https://localhost:8080/"
        },
        "id": "hOnS_tTca8mB"
      },
      "execution_count": 214,
      "outputs": [
        {
          "output_type": "stream",
          "name": "stderr",
          "text": [
            "100%|██████████| 148/148 [00:07<00:00, 20.77it/s]\n"
          ]
        }
      ]
    },
    {
      "cell_type": "code",
      "source": [
        "data = np.array(train_img, dtype=\"float32\") / 255.0"
      ],
      "metadata": {
        "id": "-sAwb6IWa8mD"
      },
      "execution_count": 215,
      "outputs": []
    },
    {
      "cell_type": "code",
      "source": [
        "labels = np.array(data_train[['Type1']])           #shape (148, 1) ค่าเป็น 0. กับ 1.  รัน model2.fit  ได้ ------->  แต่จะรัน classification_report หลังจาก predict แล้วมันไม่ถูก"
      ],
      "metadata": {
        "id": "kc_4xCmla8mD"
      },
      "execution_count": 235,
      "outputs": []
    },
    {
      "cell_type": "code",
      "source": [
        "from sklearn.preprocessing import LabelBinarizer\n",
        "lb = LabelBinarizer()\n",
        "#อิมพอร์ต LabelBinarizer ของ sklearn มาใช้\n",
        "labels = lb.fit_transform(labels)\n",
        "#เรียกใช้ฟังก์ชั่น fit_transform เพื่อแปลง labels เป็นเลขฐานสอง"
      ],
      "metadata": {
        "id": "hWXRvvRx88uu"
      },
      "execution_count": 237,
      "outputs": []
    },
    {
      "cell_type": "code",
      "source": [
        "lb.classes_"
      ],
      "metadata": {
        "colab": {
          "base_uri": "https://localhost:8080/"
        },
        "id": "6O4tM8fs9cGx",
        "outputId": "5a1fcb9d-c9c1-49c5-a611-55d18d8efa88"
      },
      "execution_count": 239,
      "outputs": [
        {
          "output_type": "execute_result",
          "data": {
            "text/plain": [
              "array(['Normal', 'Pneumonia'], dtype='<U9')"
            ]
          },
          "metadata": {},
          "execution_count": 239
        }
      ]
    },
    {
      "cell_type": "code",
      "source": [
        ""
      ],
      "metadata": {
        "id": "YNKZ8_Hn88pd"
      },
      "execution_count": null,
      "outputs": []
    },
    {
      "cell_type": "code",
      "source": [
        "(trainX, testX, trainY, testY) = train_test_split(data, labels,\n",
        "\ttest_size=0.25, random_state=42)"
      ],
      "metadata": {
        "id": "c50eCKIea8mE"
      },
      "execution_count": 240,
      "outputs": []
    },
    {
      "cell_type": "code",
      "source": [
        ""
      ],
      "metadata": {
        "id": "w5fgKZQM3db0"
      },
      "execution_count": null,
      "outputs": []
    },
    {
      "cell_type": "code",
      "metadata": {
        "id": "xlCY6eJOpOaE"
      },
      "source": [
        "base_model2 = tf.keras.applications.DenseNet201(input_shape=(224, 224, 3), include_top=False, weights=\"imagenet\")"
      ],
      "execution_count": 241,
      "outputs": []
    },
    {
      "cell_type": "code",
      "metadata": {
        "id": "h3sd_b35pOaF"
      },
      "source": [
        "base_model2.trainable=False"
      ],
      "execution_count": 242,
      "outputs": []
    },
    {
      "cell_type": "code",
      "metadata": {
        "id": "XIoxDvolpOaF"
      },
      "source": [
        "average_pooling_layer = tf.keras.layers.GlobalAveragePooling2D()(base_model2.output)\n",
        "prediction_layer = tf.keras.layers.Dense(units=1, activation=\"sigmoid\")(average_pooling_layer)"
      ],
      "execution_count": 243,
      "outputs": []
    },
    {
      "cell_type": "code",
      "metadata": {
        "id": "N94hzqxvpOaG"
      },
      "source": [
        "model2 = tf.keras.models.Model(inputs=base_model2.input, outputs=prediction_layer)"
      ],
      "execution_count": 244,
      "outputs": []
    },
    {
      "cell_type": "code",
      "metadata": {
        "colab": {
          "base_uri": "https://localhost:8080/"
        },
        "id": "cAO-KsAApOaH",
        "outputId": "33642013-866e-4b67-ac93-a4f3569f0808"
      },
      "source": [
        "model2.compile(optimizer=tf.keras.optimizers.RMSprop(lr=0.0001), loss=\"binary_crossentropy\", metrics=[\"accuracy\"])"
      ],
      "execution_count": 245,
      "outputs": [
        {
          "output_type": "stream",
          "name": "stderr",
          "text": [
            "/usr/local/lib/python3.7/dist-packages/keras/optimizer_v2/rmsprop.py:130: UserWarning: The `lr` argument is deprecated, use `learning_rate` instead.\n",
            "  super(RMSprop, self).__init__(name, **kwargs)\n"
          ]
        }
      ]
    },
    {
      "cell_type": "code",
      "metadata": {
        "id": "IBbLAXTSeUa2"
      },
      "source": [
        "callback2 = tf.keras.callbacks.EarlyStopping(\n",
        "    monitor=\"val_accuracy\",\n",
        "    patience=2,\n",
        "    mode=\"max\")"
      ],
      "execution_count": 246,
      "outputs": []
    },
    {
      "cell_type": "code",
      "source": [
        "(trainX, testX, trainY, testY) "
      ],
      "metadata": {
        "id": "NaT0WtIo3vN7"
      },
      "execution_count": null,
      "outputs": []
    },
    {
      "cell_type": "code",
      "source": [
        "model2.fit(trainX, trainY, epochs=5 )"
      ],
      "metadata": {
        "colab": {
          "base_uri": "https://localhost:8080/"
        },
        "id": "JvzvFKkf3l1B",
        "outputId": "eb2b78f7-51b0-45f8-bc9f-859f5cd8ff3c"
      },
      "execution_count": 247,
      "outputs": [
        {
          "output_type": "stream",
          "name": "stdout",
          "text": [
            "Epoch 1/5\n",
            "4/4 [==============================] - 40s 6s/step - loss: 0.9484 - accuracy: 0.4865\n",
            "Epoch 2/5\n",
            "4/4 [==============================] - 25s 6s/step - loss: 0.8860 - accuracy: 0.4505\n",
            "Epoch 3/5\n",
            "4/4 [==============================] - 26s 6s/step - loss: 0.8440 - accuracy: 0.4324\n",
            "Epoch 4/5\n",
            "4/4 [==============================] - 26s 6s/step - loss: 0.8132 - accuracy: 0.4324\n",
            "Epoch 5/5\n",
            "4/4 [==============================] - 26s 6s/step - loss: 0.7870 - accuracy: 0.4144\n"
          ]
        },
        {
          "output_type": "execute_result",
          "data": {
            "text/plain": [
              "<keras.callbacks.History at 0x7f2bc8ccef50>"
            ]
          },
          "metadata": {},
          "execution_count": 247
        }
      ]
    },
    {
      "cell_type": "code",
      "source": [
        "predY = model2.predict(testX)"
      ],
      "metadata": {
        "id": "6MRt3CS63lx7"
      },
      "execution_count": 249,
      "outputs": []
    },
    {
      "cell_type": "code",
      "source": [
        "from sklearn.metrics import accuracy_score, classification_report\n",
        "#อิมพอร์ต accuracy_score กับ classification_report จาก sklearn.metrics\n",
        "accuracy_score(testY, predY)\n",
        "#จากนั้นมาเรียกใช้ฟังก์ชั่น accuracy_score เพื่อดูความแม่นของข้อมูลที่ predict กัน"
      ],
      "metadata": {
        "id": "w4eyqr913luV"
      },
      "execution_count": null,
      "outputs": []
    },
    {
      "cell_type": "code",
      "source": [
        "print(classification_report(testY.argmax(axis=1) , predY.argmax(axis=1) , target_names=lb.classes_))\n",
        "#เราลองมาดูผลการ classification อย่างละเอียดกัน"
      ],
      "metadata": {
        "id": "HkDl07n0-2KD"
      },
      "execution_count": null,
      "outputs": []
    },
    {
      "cell_type": "code",
      "source": [
        ""
      ],
      "metadata": {
        "id": "VKRMfY6y-18d"
      },
      "execution_count": null,
      "outputs": []
    },
    {
      "cell_type": "code",
      "source": [
        ""
      ],
      "metadata": {
        "id": "BH2QNrFS_j1D"
      },
      "execution_count": null,
      "outputs": []
    },
    {
      "cell_type": "code",
      "source": [
        ""
      ],
      "metadata": {
        "id": "RNO-fGa3_jyS"
      },
      "execution_count": null,
      "outputs": []
    },
    {
      "cell_type": "code",
      "source": [
        ""
      ],
      "metadata": {
        "id": "9onlf5vB_jvo"
      },
      "execution_count": null,
      "outputs": []
    },
    {
      "cell_type": "code",
      "source": [
        "model2.evaluate(trainX, trainY)"
      ],
      "metadata": {
        "colab": {
          "base_uri": "https://localhost:8080/"
        },
        "id": "LiS9l5Lm3dZI",
        "outputId": "80c8b31f-7503-43d8-aae2-441bff4ebff9"
      },
      "execution_count": 229,
      "outputs": [
        {
          "output_type": "stream",
          "name": "stdout",
          "text": [
            "4/4 [==============================] - 30s 6s/step - loss: 0.1073 - accuracy: 1.0000\n"
          ]
        },
        {
          "output_type": "execute_result",
          "data": {
            "text/plain": [
              "[0.10726463794708252, 1.0]"
            ]
          },
          "metadata": {},
          "execution_count": 229
        }
      ]
    },
    {
      "cell_type": "code",
      "source": [
        "predY = model2.predict(testX)"
      ],
      "metadata": {
        "id": "RaL7KZwRg_AR"
      },
      "execution_count": 232,
      "outputs": []
    },
    {
      "cell_type": "code",
      "source": [
        "from sklearn.metrics import accuracy_score, classification_report"
      ],
      "metadata": {
        "id": "8cj0UpcG7F08"
      },
      "execution_count": 231,
      "outputs": []
    },
    {
      "cell_type": "code",
      "source": [
        "accuracy_score()"
      ],
      "metadata": {
        "id": "iN2Lb8zS6Ve1"
      },
      "execution_count": null,
      "outputs": []
    },
    {
      "cell_type": "code",
      "source": [
        "accuracy_score(testY, predY)"
      ],
      "metadata": {
        "colab": {
          "base_uri": "https://localhost:8080/",
          "height": 312
        },
        "id": "fu6lm6k86VW2",
        "outputId": "69bbf68a-71ce-48bb-9546-ec4d9623212a"
      },
      "execution_count": 233,
      "outputs": [
        {
          "output_type": "error",
          "ename": "ValueError",
          "evalue": "ignored",
          "traceback": [
            "\u001b[0;31m---------------------------------------------------------------------------\u001b[0m",
            "\u001b[0;31mValueError\u001b[0m                                Traceback (most recent call last)",
            "\u001b[0;32m<ipython-input-233-f1f5c8cf4d85>\u001b[0m in \u001b[0;36m<module>\u001b[0;34m()\u001b[0m\n\u001b[0;32m----> 1\u001b[0;31m \u001b[0maccuracy_score\u001b[0m\u001b[0;34m(\u001b[0m\u001b[0mtestY\u001b[0m\u001b[0;34m,\u001b[0m \u001b[0mpredY\u001b[0m\u001b[0;34m)\u001b[0m\u001b[0;34m\u001b[0m\u001b[0;34m\u001b[0m\u001b[0m\n\u001b[0m",
            "\u001b[0;32m/usr/local/lib/python3.7/dist-packages/sklearn/metrics/_classification.py\u001b[0m in \u001b[0;36maccuracy_score\u001b[0;34m(y_true, y_pred, normalize, sample_weight)\u001b[0m\n\u001b[1;32m    203\u001b[0m \u001b[0;34m\u001b[0m\u001b[0m\n\u001b[1;32m    204\u001b[0m     \u001b[0;31m# Compute accuracy for each possible representation\u001b[0m\u001b[0;34m\u001b[0m\u001b[0;34m\u001b[0m\u001b[0;34m\u001b[0m\u001b[0m\n\u001b[0;32m--> 205\u001b[0;31m     \u001b[0my_type\u001b[0m\u001b[0;34m,\u001b[0m \u001b[0my_true\u001b[0m\u001b[0;34m,\u001b[0m \u001b[0my_pred\u001b[0m \u001b[0;34m=\u001b[0m \u001b[0m_check_targets\u001b[0m\u001b[0;34m(\u001b[0m\u001b[0my_true\u001b[0m\u001b[0;34m,\u001b[0m \u001b[0my_pred\u001b[0m\u001b[0;34m)\u001b[0m\u001b[0;34m\u001b[0m\u001b[0;34m\u001b[0m\u001b[0m\n\u001b[0m\u001b[1;32m    206\u001b[0m     \u001b[0mcheck_consistent_length\u001b[0m\u001b[0;34m(\u001b[0m\u001b[0my_true\u001b[0m\u001b[0;34m,\u001b[0m \u001b[0my_pred\u001b[0m\u001b[0;34m,\u001b[0m \u001b[0msample_weight\u001b[0m\u001b[0;34m)\u001b[0m\u001b[0;34m\u001b[0m\u001b[0;34m\u001b[0m\u001b[0m\n\u001b[1;32m    207\u001b[0m     \u001b[0;32mif\u001b[0m \u001b[0my_type\u001b[0m\u001b[0;34m.\u001b[0m\u001b[0mstartswith\u001b[0m\u001b[0;34m(\u001b[0m\u001b[0;34m\"multilabel\"\u001b[0m\u001b[0;34m)\u001b[0m\u001b[0;34m:\u001b[0m\u001b[0;34m\u001b[0m\u001b[0;34m\u001b[0m\u001b[0m\n",
            "\u001b[0;32m/usr/local/lib/python3.7/dist-packages/sklearn/metrics/_classification.py\u001b[0m in \u001b[0;36m_check_targets\u001b[0;34m(y_true, y_pred)\u001b[0m\n\u001b[1;32m     93\u001b[0m         raise ValueError(\n\u001b[1;32m     94\u001b[0m             \"Classification metrics can't handle a mix of {0} and {1} targets\".format(\n\u001b[0;32m---> 95\u001b[0;31m                 \u001b[0mtype_true\u001b[0m\u001b[0;34m,\u001b[0m \u001b[0mtype_pred\u001b[0m\u001b[0;34m\u001b[0m\u001b[0;34m\u001b[0m\u001b[0m\n\u001b[0m\u001b[1;32m     96\u001b[0m             )\n\u001b[1;32m     97\u001b[0m         )\n",
            "\u001b[0;31mValueError\u001b[0m: Classification metrics can't handle a mix of binary and continuous targets"
          ]
        }
      ]
    },
    {
      "cell_type": "code",
      "source": [
        "print(classification_report(testY, predY, target_names=lb.classes_))"
      ],
      "metadata": {
        "colab": {
          "base_uri": "https://localhost:8080/",
          "height": 166
        },
        "id": "eXCJ-cPs7nEa",
        "outputId": "a516c28a-5353-48c7-e008-a560edbb86f7"
      },
      "execution_count": 234,
      "outputs": [
        {
          "output_type": "error",
          "ename": "NameError",
          "evalue": "ignored",
          "traceback": [
            "\u001b[0;31m---------------------------------------------------------------------------\u001b[0m",
            "\u001b[0;31mNameError\u001b[0m                                 Traceback (most recent call last)",
            "\u001b[0;32m<ipython-input-234-2c52b37ea545>\u001b[0m in \u001b[0;36m<module>\u001b[0;34m()\u001b[0m\n\u001b[0;32m----> 1\u001b[0;31m \u001b[0mprint\u001b[0m\u001b[0;34m(\u001b[0m\u001b[0mclassification_report\u001b[0m\u001b[0;34m(\u001b[0m\u001b[0mtestY\u001b[0m\u001b[0;34m,\u001b[0m \u001b[0mpredY\u001b[0m\u001b[0;34m,\u001b[0m \u001b[0mtarget_names\u001b[0m\u001b[0;34m=\u001b[0m\u001b[0mlb\u001b[0m\u001b[0;34m.\u001b[0m\u001b[0mclasses_\u001b[0m\u001b[0;34m)\u001b[0m\u001b[0;34m)\u001b[0m\u001b[0;34m\u001b[0m\u001b[0;34m\u001b[0m\u001b[0m\n\u001b[0m",
            "\u001b[0;31mNameError\u001b[0m: name 'lb' is not defined"
          ]
        }
      ]
    },
    {
      "cell_type": "code",
      "source": [
        ""
      ],
      "metadata": {
        "id": "FXP-LkQn7nBv"
      },
      "execution_count": null,
      "outputs": []
    }
  ]
}