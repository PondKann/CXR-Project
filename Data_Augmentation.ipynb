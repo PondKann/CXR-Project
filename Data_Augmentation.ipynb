{
  "nbformat": 4,
  "nbformat_minor": 0,
  "metadata": {
    "colab": {
      "name": "Data Augmentation.ipynb",
      "provenance": [],
      "authorship_tag": "ABX9TyN6M0Itr+p8Nbj9pcGKr9sY",
      "include_colab_link": true
    },
    "kernelspec": {
      "name": "python3",
      "display_name": "Python 3"
    },
    "language_info": {
      "name": "python"
    }
  },
  "cells": [
    {
      "cell_type": "markdown",
      "metadata": {
        "id": "view-in-github",
        "colab_type": "text"
      },
      "source": [
        "<a href=\"https://colab.research.google.com/github/PondKann/CXR-Project/blob/main/Data_Augmentation.ipynb\" target=\"_parent\"><img src=\"https://colab.research.google.com/assets/colab-badge.svg\" alt=\"Open In Colab\"/></a>"
      ]
    },
    {
      "cell_type": "markdown",
      "source": [
        "###### import"
      ],
      "metadata": {
        "id": "Kpnf_sft9x4-"
      }
    },
    {
      "cell_type": "code",
      "metadata": {
        "id": "Psng6eJUdzUG"
      },
      "source": [
        "import os\n",
        "import tensorflow as tf\n",
        "import matplotlib.pyplot as plt\n",
        "%matplotlib inline\n",
        "from tensorflow.keras.preprocessing.image import ImageDataGenerator\n",
        "import cv2\n",
        "import numpy as np\n",
        "import pandas as pd\n",
        "from torchsummary import summary\n",
        "from skimage.io import imread, imsave\n",
        "from tqdm import tqdm\n",
        "\n",
        "from sklearn.model_selection import train_test_split\n",
        "from sklearn.metrics import accuracy_score, confusion_matrix"
      ],
      "execution_count": 104,
      "outputs": []
    },
    {
      "cell_type": "code",
      "source": [
        "# set the matplotlib backend so figures can be saved in the background\n",
        "import matplotlib\n",
        "matplotlib.use(\"Agg\")\n",
        "\n",
        "from sklearn.preprocessing import LabelEncoder\n",
        "from sklearn.metrics import classification_report\n",
        "from tensorflow.keras.optimizers import SGD\n",
        "from tensorflow.keras.utils import to_categorical\n",
        "from imutils import paths\n",
        "import argparse"
      ],
      "metadata": {
        "id": "6f-PDKiLl2iC"
      },
      "execution_count": 2,
      "outputs": []
    },
    {
      "cell_type": "markdown",
      "source": [
        "#### Load data"
      ],
      "metadata": {
        "id": "Z1e52UqdwPp8"
      }
    },
    {
      "cell_type": "code",
      "metadata": {
        "colab": {
          "base_uri": "https://localhost:8080/"
        },
        "id": "DlcukkP7fnhB",
        "outputId": "8afabeb7-9d63-4d06-b1d1-faaaeb3bf17c"
      },
      "source": [
        "from google.colab import drive\n",
        "drive.mount('/content/drive')"
      ],
      "execution_count": 3,
      "outputs": [
        {
          "output_type": "stream",
          "name": "stdout",
          "text": [
            "Mounted at /content/drive\n"
          ]
        }
      ]
    },
    {
      "cell_type": "code",
      "metadata": {
        "id": "0w8suy5ofqx_"
      },
      "source": [
        "train_dir = '/content/drive/My Drive/Senior Project/xray_dataset_covid19/train'\n",
        "validation_dir = '/content/drive/My Drive/Senior Project/xray_dataset_covid19/test'"
      ],
      "execution_count": 4,
      "outputs": []
    },
    {
      "cell_type": "code",
      "source": [
        "train_normal_dir = os.path.join(train_dir,'NORMAL')\n",
        "train_pneumonia_dir = os.path.join(train_dir,'PNEUMONIA')\n",
        "validation_normal_dir = os.path.join(validation_dir,'NORMAL')\n",
        "validation_pneumonia_dir = os.path.join(validation_dir,'PNEUMONIA')\n",
        "\n",
        "train_pneumonia_dir"
      ],
      "metadata": {
        "id": "8BHyN8YKpwx9",
        "outputId": "50939d9e-7694-4093-e3f2-99d857ce61bc",
        "colab": {
          "base_uri": "https://localhost:8080/",
          "height": 0
        }
      },
      "execution_count": 5,
      "outputs": [
        {
          "output_type": "execute_result",
          "data": {
            "application/vnd.google.colaboratory.intrinsic+json": {
              "type": "string"
            },
            "text/plain": [
              "'/content/drive/My Drive/Senior Project/xray_dataset_covid19/train/PNEUMONIA'"
            ]
          },
          "metadata": {},
          "execution_count": 5
        }
      ]
    },
    {
      "cell_type": "markdown",
      "source": [
        "#### สร้างตารางเก็บชื่อภาพ และชื่อโรค \n",
        "ข้อมูลในไฟล์ train ทั้ง normal, pneunomia และ lung canser มารวมอยู่ในไฟล์ all_train แล้วลองนำมาทำ data augment"
      ],
      "metadata": {
        "id": "YFVxlpQZf5pU"
      }
    },
    {
      "cell_type": "code",
      "source": [
        "#ที่เก็บรูปภาพแยกเป็น 3 คลาส สำหรับ สร้างตาราง ชื่อภาพ+ชื่อคลาส \n",
        "\n",
        "train_normal_dir = os.path.join(train_dir,'NORMAL')\n",
        "train_pneumonia_dir = os.path.join(train_dir,'PNEUMONIA')\n",
        "train_ca_dir = os.path.join(train_dir,'CA')"
      ],
      "metadata": {
        "id": "mJmc-ZDif5pV"
      },
      "execution_count": 6,
      "outputs": []
    },
    {
      "cell_type": "code",
      "source": [
        "all_train = '/content/drive/My Drive/Senior Project/xray_dataset_covid19/all_train'    #ที่เก็บรูปภาพทั้งหมด ตอนนี้มี 3 คลาส"
      ],
      "metadata": {
        "id": "vSG4JYUGf5pX"
      },
      "execution_count": 7,
      "outputs": []
    },
    {
      "cell_type": "markdown",
      "source": [
        "สร้าง data dict ของรูป"
      ],
      "metadata": {
        "id": "GDyzIGdCf5pW"
      }
    },
    {
      "cell_type": "code",
      "source": [
        "normal = []\n",
        "for i in range(len(os.listdir(train_normal_dir))):\n",
        "    img = os.listdir(train_normal_dir)[i]\n",
        "    normal.append(img)\n",
        "tnormal = pd.DataFrame({'ImageName':[normal][0],\n",
        "                                       'Type1': \"Normal\" ,\n",
        "                                       'Type2': 0                      })"
      ],
      "metadata": {
        "id": "mT0QF8IgrfVm"
      },
      "execution_count": 8,
      "outputs": []
    },
    {
      "cell_type": "code",
      "source": [
        "pneumonia = []\n",
        "for i in range(len(os.listdir(train_pneumonia_dir))):\n",
        "    img = os.listdir(train_pneumonia_dir)[i]\n",
        "    pneumonia.append(img)\n",
        "tpneumonia = pd.DataFrame({'ImageName':[pneumonia][0],\n",
        "                                       'Type1': \"Pneumonia\" ,\n",
        "                                       'Type2': 1                        })"
      ],
      "metadata": {
        "id": "VtNPg0jwf5pW"
      },
      "execution_count": 9,
      "outputs": []
    },
    {
      "cell_type": "code",
      "source": [
        "tlungcancer = []\n",
        "for i in range(len(os.listdir(train_ca_dir))):\n",
        "    img = os.listdir(train_ca_dir)[i]\n",
        "    tlungcancer.append(img)\n",
        "tlungcancer = pd.DataFrame({'ImageName':[tlungcancer][0],\n",
        "                                       'Type1': \"Lungcancer\" ,\n",
        "                                       'Type2': 2                        })"
      ],
      "metadata": {
        "id": "X5pyCUl5mJGV"
      },
      "execution_count": 10,
      "outputs": []
    },
    {
      "cell_type": "code",
      "source": [
        "data_train2 = pd.concat([tnormal, tpneumonia])\n",
        "data_train2.head(3)"
      ],
      "metadata": {
        "id": "3_qF_MjCf5pX",
        "outputId": "f90b0925-da40-476d-aed8-60210fa1da23",
        "colab": {
          "base_uri": "https://localhost:8080/",
          "height": 143
        }
      },
      "execution_count": 11,
      "outputs": [
        {
          "output_type": "execute_result",
          "data": {
            "text/html": [
              "\n",
              "  <div id=\"df-9fc5e518-aca7-47ae-aa2c-a166a81a633e\">\n",
              "    <div class=\"colab-df-container\">\n",
              "      <div>\n",
              "<style scoped>\n",
              "    .dataframe tbody tr th:only-of-type {\n",
              "        vertical-align: middle;\n",
              "    }\n",
              "\n",
              "    .dataframe tbody tr th {\n",
              "        vertical-align: top;\n",
              "    }\n",
              "\n",
              "    .dataframe thead th {\n",
              "        text-align: right;\n",
              "    }\n",
              "</style>\n",
              "<table border=\"1\" class=\"dataframe\">\n",
              "  <thead>\n",
              "    <tr style=\"text-align: right;\">\n",
              "      <th></th>\n",
              "      <th>ImageName</th>\n",
              "      <th>Type1</th>\n",
              "      <th>Type2</th>\n",
              "    </tr>\n",
              "  </thead>\n",
              "  <tbody>\n",
              "    <tr>\n",
              "      <th>0</th>\n",
              "      <td>IM-0006-0001.jpeg</td>\n",
              "      <td>Normal</td>\n",
              "      <td>0</td>\n",
              "    </tr>\n",
              "    <tr>\n",
              "      <th>1</th>\n",
              "      <td>IM-0003-0001.jpeg</td>\n",
              "      <td>Normal</td>\n",
              "      <td>0</td>\n",
              "    </tr>\n",
              "    <tr>\n",
              "      <th>2</th>\n",
              "      <td>IM-0001-0001.jpeg</td>\n",
              "      <td>Normal</td>\n",
              "      <td>0</td>\n",
              "    </tr>\n",
              "  </tbody>\n",
              "</table>\n",
              "</div>\n",
              "      <button class=\"colab-df-convert\" onclick=\"convertToInteractive('df-9fc5e518-aca7-47ae-aa2c-a166a81a633e')\"\n",
              "              title=\"Convert this dataframe to an interactive table.\"\n",
              "              style=\"display:none;\">\n",
              "        \n",
              "  <svg xmlns=\"http://www.w3.org/2000/svg\" height=\"24px\"viewBox=\"0 0 24 24\"\n",
              "       width=\"24px\">\n",
              "    <path d=\"M0 0h24v24H0V0z\" fill=\"none\"/>\n",
              "    <path d=\"M18.56 5.44l.94 2.06.94-2.06 2.06-.94-2.06-.94-.94-2.06-.94 2.06-2.06.94zm-11 1L8.5 8.5l.94-2.06 2.06-.94-2.06-.94L8.5 2.5l-.94 2.06-2.06.94zm10 10l.94 2.06.94-2.06 2.06-.94-2.06-.94-.94-2.06-.94 2.06-2.06.94z\"/><path d=\"M17.41 7.96l-1.37-1.37c-.4-.4-.92-.59-1.43-.59-.52 0-1.04.2-1.43.59L10.3 9.45l-7.72 7.72c-.78.78-.78 2.05 0 2.83L4 21.41c.39.39.9.59 1.41.59.51 0 1.02-.2 1.41-.59l7.78-7.78 2.81-2.81c.8-.78.8-2.07 0-2.86zM5.41 20L4 18.59l7.72-7.72 1.47 1.35L5.41 20z\"/>\n",
              "  </svg>\n",
              "      </button>\n",
              "      \n",
              "  <style>\n",
              "    .colab-df-container {\n",
              "      display:flex;\n",
              "      flex-wrap:wrap;\n",
              "      gap: 12px;\n",
              "    }\n",
              "\n",
              "    .colab-df-convert {\n",
              "      background-color: #E8F0FE;\n",
              "      border: none;\n",
              "      border-radius: 50%;\n",
              "      cursor: pointer;\n",
              "      display: none;\n",
              "      fill: #1967D2;\n",
              "      height: 32px;\n",
              "      padding: 0 0 0 0;\n",
              "      width: 32px;\n",
              "    }\n",
              "\n",
              "    .colab-df-convert:hover {\n",
              "      background-color: #E2EBFA;\n",
              "      box-shadow: 0px 1px 2px rgba(60, 64, 67, 0.3), 0px 1px 3px 1px rgba(60, 64, 67, 0.15);\n",
              "      fill: #174EA6;\n",
              "    }\n",
              "\n",
              "    [theme=dark] .colab-df-convert {\n",
              "      background-color: #3B4455;\n",
              "      fill: #D2E3FC;\n",
              "    }\n",
              "\n",
              "    [theme=dark] .colab-df-convert:hover {\n",
              "      background-color: #434B5C;\n",
              "      box-shadow: 0px 1px 3px 1px rgba(0, 0, 0, 0.15);\n",
              "      filter: drop-shadow(0px 1px 2px rgba(0, 0, 0, 0.3));\n",
              "      fill: #FFFFFF;\n",
              "    }\n",
              "  </style>\n",
              "\n",
              "      <script>\n",
              "        const buttonEl =\n",
              "          document.querySelector('#df-9fc5e518-aca7-47ae-aa2c-a166a81a633e button.colab-df-convert');\n",
              "        buttonEl.style.display =\n",
              "          google.colab.kernel.accessAllowed ? 'block' : 'none';\n",
              "\n",
              "        async function convertToInteractive(key) {\n",
              "          const element = document.querySelector('#df-9fc5e518-aca7-47ae-aa2c-a166a81a633e');\n",
              "          const dataTable =\n",
              "            await google.colab.kernel.invokeFunction('convertToInteractive',\n",
              "                                                     [key], {});\n",
              "          if (!dataTable) return;\n",
              "\n",
              "          const docLinkHtml = 'Like what you see? Visit the ' +\n",
              "            '<a target=\"_blank\" href=https://colab.research.google.com/notebooks/data_table.ipynb>data table notebook</a>'\n",
              "            + ' to learn more about interactive tables.';\n",
              "          element.innerHTML = '';\n",
              "          dataTable['output_type'] = 'display_data';\n",
              "          await google.colab.output.renderOutput(dataTable, element);\n",
              "          const docLink = document.createElement('div');\n",
              "          docLink.innerHTML = docLinkHtml;\n",
              "          element.appendChild(docLink);\n",
              "        }\n",
              "      </script>\n",
              "    </div>\n",
              "  </div>\n",
              "  "
            ],
            "text/plain": [
              "           ImageName   Type1  Type2\n",
              "0  IM-0006-0001.jpeg  Normal      0\n",
              "1  IM-0003-0001.jpeg  Normal      0\n",
              "2  IM-0001-0001.jpeg  Normal      0"
            ]
          },
          "metadata": {},
          "execution_count": 11
        }
      ]
    },
    {
      "cell_type": "code",
      "source": [
        "data_train3 = pd.concat([tnormal, tpneumonia, tlungcancer])\n",
        "data_train3.head(3)"
      ],
      "metadata": {
        "id": "bgArCw5jnwg2",
        "outputId": "cadb2d68-1a11-4744-a93f-035224c1dc6e",
        "colab": {
          "base_uri": "https://localhost:8080/",
          "height": 143
        }
      },
      "execution_count": 13,
      "outputs": [
        {
          "output_type": "execute_result",
          "data": {
            "text/html": [
              "\n",
              "  <div id=\"df-c2ba8722-301a-4834-adda-9b42ecc2ebcc\">\n",
              "    <div class=\"colab-df-container\">\n",
              "      <div>\n",
              "<style scoped>\n",
              "    .dataframe tbody tr th:only-of-type {\n",
              "        vertical-align: middle;\n",
              "    }\n",
              "\n",
              "    .dataframe tbody tr th {\n",
              "        vertical-align: top;\n",
              "    }\n",
              "\n",
              "    .dataframe thead th {\n",
              "        text-align: right;\n",
              "    }\n",
              "</style>\n",
              "<table border=\"1\" class=\"dataframe\">\n",
              "  <thead>\n",
              "    <tr style=\"text-align: right;\">\n",
              "      <th></th>\n",
              "      <th>ImageName</th>\n",
              "      <th>Type1</th>\n",
              "      <th>Type2</th>\n",
              "    </tr>\n",
              "  </thead>\n",
              "  <tbody>\n",
              "    <tr>\n",
              "      <th>0</th>\n",
              "      <td>IM-0006-0001.jpeg</td>\n",
              "      <td>Normal</td>\n",
              "      <td>0</td>\n",
              "    </tr>\n",
              "    <tr>\n",
              "      <th>1</th>\n",
              "      <td>IM-0003-0001.jpeg</td>\n",
              "      <td>Normal</td>\n",
              "      <td>0</td>\n",
              "    </tr>\n",
              "    <tr>\n",
              "      <th>2</th>\n",
              "      <td>IM-0001-0001.jpeg</td>\n",
              "      <td>Normal</td>\n",
              "      <td>0</td>\n",
              "    </tr>\n",
              "  </tbody>\n",
              "</table>\n",
              "</div>\n",
              "      <button class=\"colab-df-convert\" onclick=\"convertToInteractive('df-c2ba8722-301a-4834-adda-9b42ecc2ebcc')\"\n",
              "              title=\"Convert this dataframe to an interactive table.\"\n",
              "              style=\"display:none;\">\n",
              "        \n",
              "  <svg xmlns=\"http://www.w3.org/2000/svg\" height=\"24px\"viewBox=\"0 0 24 24\"\n",
              "       width=\"24px\">\n",
              "    <path d=\"M0 0h24v24H0V0z\" fill=\"none\"/>\n",
              "    <path d=\"M18.56 5.44l.94 2.06.94-2.06 2.06-.94-2.06-.94-.94-2.06-.94 2.06-2.06.94zm-11 1L8.5 8.5l.94-2.06 2.06-.94-2.06-.94L8.5 2.5l-.94 2.06-2.06.94zm10 10l.94 2.06.94-2.06 2.06-.94-2.06-.94-.94-2.06-.94 2.06-2.06.94z\"/><path d=\"M17.41 7.96l-1.37-1.37c-.4-.4-.92-.59-1.43-.59-.52 0-1.04.2-1.43.59L10.3 9.45l-7.72 7.72c-.78.78-.78 2.05 0 2.83L4 21.41c.39.39.9.59 1.41.59.51 0 1.02-.2 1.41-.59l7.78-7.78 2.81-2.81c.8-.78.8-2.07 0-2.86zM5.41 20L4 18.59l7.72-7.72 1.47 1.35L5.41 20z\"/>\n",
              "  </svg>\n",
              "      </button>\n",
              "      \n",
              "  <style>\n",
              "    .colab-df-container {\n",
              "      display:flex;\n",
              "      flex-wrap:wrap;\n",
              "      gap: 12px;\n",
              "    }\n",
              "\n",
              "    .colab-df-convert {\n",
              "      background-color: #E8F0FE;\n",
              "      border: none;\n",
              "      border-radius: 50%;\n",
              "      cursor: pointer;\n",
              "      display: none;\n",
              "      fill: #1967D2;\n",
              "      height: 32px;\n",
              "      padding: 0 0 0 0;\n",
              "      width: 32px;\n",
              "    }\n",
              "\n",
              "    .colab-df-convert:hover {\n",
              "      background-color: #E2EBFA;\n",
              "      box-shadow: 0px 1px 2px rgba(60, 64, 67, 0.3), 0px 1px 3px 1px rgba(60, 64, 67, 0.15);\n",
              "      fill: #174EA6;\n",
              "    }\n",
              "\n",
              "    [theme=dark] .colab-df-convert {\n",
              "      background-color: #3B4455;\n",
              "      fill: #D2E3FC;\n",
              "    }\n",
              "\n",
              "    [theme=dark] .colab-df-convert:hover {\n",
              "      background-color: #434B5C;\n",
              "      box-shadow: 0px 1px 3px 1px rgba(0, 0, 0, 0.15);\n",
              "      filter: drop-shadow(0px 1px 2px rgba(0, 0, 0, 0.3));\n",
              "      fill: #FFFFFF;\n",
              "    }\n",
              "  </style>\n",
              "\n",
              "      <script>\n",
              "        const buttonEl =\n",
              "          document.querySelector('#df-c2ba8722-301a-4834-adda-9b42ecc2ebcc button.colab-df-convert');\n",
              "        buttonEl.style.display =\n",
              "          google.colab.kernel.accessAllowed ? 'block' : 'none';\n",
              "\n",
              "        async function convertToInteractive(key) {\n",
              "          const element = document.querySelector('#df-c2ba8722-301a-4834-adda-9b42ecc2ebcc');\n",
              "          const dataTable =\n",
              "            await google.colab.kernel.invokeFunction('convertToInteractive',\n",
              "                                                     [key], {});\n",
              "          if (!dataTable) return;\n",
              "\n",
              "          const docLinkHtml = 'Like what you see? Visit the ' +\n",
              "            '<a target=\"_blank\" href=https://colab.research.google.com/notebooks/data_table.ipynb>data table notebook</a>'\n",
              "            + ' to learn more about interactive tables.';\n",
              "          element.innerHTML = '';\n",
              "          dataTable['output_type'] = 'display_data';\n",
              "          await google.colab.output.renderOutput(dataTable, element);\n",
              "          const docLink = document.createElement('div');\n",
              "          docLink.innerHTML = docLinkHtml;\n",
              "          element.appendChild(docLink);\n",
              "        }\n",
              "      </script>\n",
              "    </div>\n",
              "  </div>\n",
              "  "
            ],
            "text/plain": [
              "           ImageName   Type1  Type2\n",
              "0  IM-0006-0001.jpeg  Normal      0\n",
              "1  IM-0003-0001.jpeg  Normal      0\n",
              "2  IM-0001-0001.jpeg  Normal      0"
            ]
          },
          "metadata": {},
          "execution_count": 13
        }
      ]
    },
    {
      "cell_type": "markdown",
      "source": [
        "# 2 class\n",
        "*   #1 output 1 มิติ  ความน่าจะเป็น นำมาแปลง 0,1\n",
        "*   #2 output 2 มิติ  ความน่าจะเป็นที่จะเป็นคลาส 0 หรือ 1 \n",
        "\n"
      ],
      "metadata": {
        "id": "v7v_mA7BaXnU"
      }
    },
    {
      "cell_type": "code",
      "source": [
        "train_img = []\n",
        "for ImageName in tqdm(data_train2['ImageName']):               # รัน ชื่อรูป ในไฟล์ data_test2\n",
        "    image_path = all_train +'/' + ImageName                          # ดึงรูปในโฟล์เดอร์มาทีละรูป\n",
        "    img = cv2.imread(image_path)                                            # อ่านรูป\n",
        "    img = cv2.resize(img, (224, 224))\n",
        "    train_img.append(img)"
      ],
      "metadata": {
        "id": "kIe-kLDTgdtg",
        "outputId": "43fd0375-8de4-4a19-92ca-7d6862324fe7",
        "colab": {
          "base_uri": "https://localhost:8080/"
        }
      },
      "execution_count": 62,
      "outputs": [
        {
          "output_type": "stream",
          "name": "stderr",
          "text": [
            "100%|██████████| 148/148 [00:06<00:00, 22.23it/s]\n"
          ]
        }
      ]
    },
    {
      "cell_type": "markdown",
      "source": [
        "## 1) output 1 มิติ  ค่า predict คือ ความน่าจะเป็น 1 ค่า \n",
        "ถ้า > 0.5 แปลงคลาส 1\n",
        "\n",
        "ถ้า < 0.5 แปลงคลาส 0"
      ],
      "metadata": {
        "id": "U9DQHWz1POvY"
      }
    },
    {
      "cell_type": "markdown",
      "source": [
        "####แบ่งข้อมูล2_1"
      ],
      "metadata": {
        "id": "LkbsojhALzDL"
      }
    },
    {
      "cell_type": "code",
      "source": [
        "data2_1 = np.array(train_img, dtype=\"float32\") / 255.0"
      ],
      "metadata": {
        "id": "GpcwzV13McEU"
      },
      "execution_count": 63,
      "outputs": []
    },
    {
      "cell_type": "code",
      "source": [
        "labels2_1 = np.array(data_train2[['Type1']] )  \n",
        "\n",
        "le = LabelEncoder()                                                                      # จะแปลงชื่อ class เป็นตัวเลข\n",
        "labels2_1 = le.fit_transform(labels2_1)                                                  # dimention ของ Y จะเป็น 1 คือ (37,) ต้องเปลี่ยนเป็น (37,1) ก่อน ถึงจะรัน report ได้\n",
        "\n",
        "labels2_1.shape = (len(labels2_1), 1)                                                   #ลองดูว่าถ้าไม่แปลงเป็น 2 มิติ จะรันได้มั้ย สรุป ต้องเปลี่ยนเป็น 2 มิติอยู่ดี เพราะ predict ที่รันออกมาเป็น 2 มิติ"
      ],
      "metadata": {
        "id": "jR4n5R3SDkDf",
        "outputId": "bb5ce8b6-73d8-43e2-ae8f-a5fa9cde8878",
        "colab": {
          "base_uri": "https://localhost:8080/"
        }
      },
      "execution_count": 64,
      "outputs": [
        {
          "output_type": "stream",
          "name": "stderr",
          "text": [
            "/usr/local/lib/python3.7/dist-packages/sklearn/preprocessing/_label.py:115: DataConversionWarning: A column-vector y was passed when a 1d array was expected. Please change the shape of y to (n_samples, ), for example using ravel().\n",
            "  y = column_or_1d(y, warn=True)\n"
          ]
        }
      ]
    },
    {
      "cell_type": "code",
      "source": [
        "le.classes_                 #คือ ['Normal', 'Pneumonia']"
      ],
      "metadata": {
        "id": "XLj-4HUoxwgf",
        "outputId": "53d8864a-bd9f-4dc5-f61a-7f159fa06bcd",
        "colab": {
          "base_uri": "https://localhost:8080/"
        }
      },
      "execution_count": 65,
      "outputs": [
        {
          "output_type": "execute_result",
          "data": {
            "text/plain": [
              "array(['Normal', 'Pneumonia'], dtype=object)"
            ]
          },
          "metadata": {},
          "execution_count": 65
        }
      ]
    },
    {
      "cell_type": "code",
      "source": [
        "(trainX2_1, testX2_1, trainY2_1, testY2_1) = train_test_split(data2_1, labels2_1,\n",
        "\t\t\t\t\t\t\t\t\t\t   \t\t\t\t\ttest_size=0.25, random_state=30)"
      ],
      "metadata": {
        "id": "UfOKTREQwhAN"
      },
      "execution_count": 66,
      "outputs": []
    },
    {
      "cell_type": "markdown",
      "source": [
        "#### train2_1"
      ],
      "metadata": {
        "id": "B__HG1aaEiwM"
      }
    },
    {
      "cell_type": "code",
      "source": [
        "# initialize the initial learning rate, batch size, and number of\n",
        "# epochs to train for\n",
        "INIT_LR = 1e-1\n",
        "BS = 8\n",
        "EPOCHS = 50"
      ],
      "metadata": {
        "id": "3vtFqxOOVSXV"
      },
      "execution_count": 67,
      "outputs": []
    },
    {
      "cell_type": "code",
      "source": [
        "aug = ImageDataGenerator(\n",
        "\t\trotation_range=20,\n",
        "\t\tzoom_range=0.25,\n",
        "\t\twidth_shift_range=0.25,\n",
        "\t\theight_shift_range=0.25,\n",
        "\t\tshear_range=0.25,\n",
        "\t\thorizontal_flip=True,\n",
        "\t\tfill_mode=\"nearest\")"
      ],
      "metadata": {
        "id": "_Kr8dDXvVA5H"
      },
      "execution_count": 68,
      "outputs": []
    },
    {
      "cell_type": "markdown",
      "source": [
        "DenseNet201"
      ],
      "metadata": {
        "id": "0XzajaXZZmL-"
      }
    },
    {
      "cell_type": "code",
      "source": [
        "base_model2_1 = tf.keras.applications.DenseNet201(input_shape=(224, 224, 3), include_top=False, weights=\"imagenet\")"
      ],
      "metadata": {
        "id": "lyrwlDCxYSIx",
        "colab": {
          "base_uri": "https://localhost:8080/"
        },
        "outputId": "d959549d-c8da-4ba9-eead-a200759b4074"
      },
      "execution_count": 69,
      "outputs": [
        {
          "output_type": "stream",
          "name": "stdout",
          "text": [
            "Downloading data from https://storage.googleapis.com/tensorflow/keras-applications/densenet/densenet201_weights_tf_dim_ordering_tf_kernels_notop.h5\n",
            "74842112/74836368 [==============================] - 1s 0us/step\n",
            "74850304/74836368 [==============================] - 1s 0us/step\n"
          ]
        }
      ]
    },
    {
      "cell_type": "code",
      "source": [
        "base_model2_1.trainable=False\n",
        "\n",
        "#Add custom head\n",
        "average_pooling_layer = tf.keras.layers.GlobalAveragePooling2D()(base_model2_1.output)\n",
        "prediction_layer = tf.keras.layers.Dense(units=1, activation=\"sigmoid\")(average_pooling_layer)   #  unit = 1 คือ มิติของ output เป็น 1 มีค่าความน่าจะเป็นค่าเดียว\n",
        "model2_1 = tf.keras.models.Model(inputs=base_model2_1.input, outputs=prediction_layer)"
      ],
      "metadata": {
        "id": "mUqItXggY-P1"
      },
      "execution_count": 70,
      "outputs": []
    },
    {
      "cell_type": "code",
      "source": [
        "model2_1.compile(optimizer=tf.keras.optimizers.RMSprop(lr=0.0001), loss=\"binary_crossentropy\", metrics=[\"accuracy\"])"
      ],
      "metadata": {
        "id": "RfFG7DmWYZjp",
        "outputId": "ca02d759-ffb3-4162-df3a-878fad50564b",
        "colab": {
          "base_uri": "https://localhost:8080/"
        }
      },
      "execution_count": 71,
      "outputs": [
        {
          "output_type": "stream",
          "name": "stderr",
          "text": [
            "/usr/local/lib/python3.7/dist-packages/keras/optimizer_v2/rmsprop.py:130: UserWarning: The `lr` argument is deprecated, use `learning_rate` instead.\n",
            "  super(RMSprop, self).__init__(name, **kwargs)\n"
          ]
        }
      ]
    },
    {
      "cell_type": "code",
      "source": [
        "# train the network\n",
        "\n",
        "H2_1 = model2_1.fit(\n",
        "\tx=aug.flow(trainX2_1, trainY2_1, batch_size=BS),\n",
        "\tvalidation_data=(testX2_1, testY2_1),\n",
        "\tsteps_per_epoch=len(trainX2_1) // BS,\n",
        "\tepochs=12)"
      ],
      "metadata": {
        "id": "XHGba8fRZSz1",
        "outputId": "36227c51-74d9-4269-a2eb-feb4fbac0564",
        "colab": {
          "base_uri": "https://localhost:8080/"
        }
      },
      "execution_count": 73,
      "outputs": [
        {
          "output_type": "stream",
          "name": "stdout",
          "text": [
            "Epoch 1/12\n",
            "13/13 [==============================] - 27s 2s/step - loss: 0.7971 - accuracy: 0.4660 - val_loss: 0.7096 - val_accuracy: 0.4595\n",
            "Epoch 2/12\n",
            "13/13 [==============================] - 29s 2s/step - loss: 0.7974 - accuracy: 0.4854 - val_loss: 0.6870 - val_accuracy: 0.5676\n",
            "Epoch 3/12\n",
            "13/13 [==============================] - 29s 2s/step - loss: 0.7993 - accuracy: 0.4369 - val_loss: 0.6630 - val_accuracy: 0.5676\n",
            "Epoch 4/12\n",
            "13/13 [==============================] - 29s 2s/step - loss: 0.7256 - accuracy: 0.4660 - val_loss: 0.6413 - val_accuracy: 0.5946\n",
            "Epoch 5/12\n",
            "13/13 [==============================] - 29s 2s/step - loss: 0.7185 - accuracy: 0.5049 - val_loss: 0.6204 - val_accuracy: 0.6757\n",
            "Epoch 6/12\n",
            "13/13 [==============================] - 28s 2s/step - loss: 0.7255 - accuracy: 0.5146 - val_loss: 0.6007 - val_accuracy: 0.6757\n",
            "Epoch 7/12\n",
            "13/13 [==============================] - 28s 2s/step - loss: 0.6815 - accuracy: 0.5728 - val_loss: 0.5829 - val_accuracy: 0.7027\n",
            "Epoch 8/12\n",
            "13/13 [==============================] - 28s 2s/step - loss: 0.6433 - accuracy: 0.6214 - val_loss: 0.5645 - val_accuracy: 0.7568\n",
            "Epoch 9/12\n",
            "13/13 [==============================] - 28s 2s/step - loss: 0.6421 - accuracy: 0.6505 - val_loss: 0.5495 - val_accuracy: 0.7568\n",
            "Epoch 10/12\n",
            "13/13 [==============================] - 28s 2s/step - loss: 0.6108 - accuracy: 0.6990 - val_loss: 0.5255 - val_accuracy: 0.7568\n",
            "Epoch 11/12\n",
            "13/13 [==============================] - 28s 2s/step - loss: 0.5923 - accuracy: 0.7087 - val_loss: 0.5111 - val_accuracy: 0.7838\n",
            "Epoch 12/12\n",
            "13/13 [==============================] - 29s 2s/step - loss: 0.5795 - accuracy: 0.7087 - val_loss: 0.4921 - val_accuracy: 0.7838\n"
          ]
        }
      ]
    },
    {
      "cell_type": "markdown",
      "source": [
        "#### test2_1"
      ],
      "metadata": {
        "id": "i07VnZA8EnVg"
      }
    },
    {
      "cell_type": "code",
      "source": [
        "predictions2_1 = model2_1.predict(testX2_1, batch_size=BS)"
      ],
      "metadata": {
        "id": "ejZciVYpZKuZ"
      },
      "execution_count": 80,
      "outputs": []
    },
    {
      "cell_type": "code",
      "source": [
        "predictions2_1[:5]"
      ],
      "metadata": {
        "id": "FTw0-epRfzrA",
        "outputId": "34332d7d-c4e0-4991-bb74-67a37caae478",
        "colab": {
          "base_uri": "https://localhost:8080/"
        }
      },
      "execution_count": 81,
      "outputs": [
        {
          "output_type": "execute_result",
          "data": {
            "text/plain": [
              "array([[0.33652294],\n",
              "       [0.6935322 ],\n",
              "       [0.76863503],\n",
              "       [0.743651  ],\n",
              "       [0.6425283 ]], dtype=float32)"
            ]
          },
          "metadata": {},
          "execution_count": 81
        }
      ]
    },
    {
      "cell_type": "code",
      "source": [
        "print(f' มิติของ predictions2_1 =  {predictions2_1.ndim} และ มิติของ testY2_1 =  {testY2_1.ndim}')"
      ],
      "metadata": {
        "colab": {
          "base_uri": "https://localhost:8080/"
        },
        "id": "oerzUAAUm256",
        "outputId": "62ff2135-9700-4c05-802a-41077a71a670"
      },
      "execution_count": 82,
      "outputs": [
        {
          "output_type": "stream",
          "name": "stdout",
          "text": [
            " มิติของ predictions =  2 และ มิติของ testY =  2\n"
          ]
        }
      ]
    },
    {
      "cell_type": "code",
      "source": [
        "predictions2_1ver2 = []\n",
        "for i in tqdm(predictions2_1):\n",
        "    if i > 0.5:\n",
        "        predictions2_1ver2.append(1)\n",
        "    else:\n",
        "        predictions2_1ver2.append(0)\n",
        "predictions2_1ver2 = np.array(predictions2_1ver2, dtype=\"float32\")\n",
        "\n",
        "predictions2_1ver2.shape = (len(predictions2_1ver2) ,1)                         #แปลงให้ predictions2 เป็น 2 มิติ \n",
        "predictions2_1ver2.ndim"
      ],
      "metadata": {
        "colab": {
          "base_uri": "https://localhost:8080/"
        },
        "id": "-_pKWY0yG3aN",
        "outputId": "3490251f-6ac3-4827-81df-abd25d0b5cc9"
      },
      "execution_count": 83,
      "outputs": [
        {
          "output_type": "stream",
          "name": "stderr",
          "text": [
            "100%|██████████| 37/37 [00:00<00:00, 47112.70it/s]\n"
          ]
        },
        {
          "output_type": "execute_result",
          "data": {
            "text/plain": [
              "2"
            ]
          },
          "metadata": {},
          "execution_count": 83
        }
      ]
    },
    {
      "cell_type": "code",
      "source": [
        "predictions2_1ver2[:5]"
      ],
      "metadata": {
        "id": "VijvTikch4t2",
        "outputId": "2715c193-1596-482f-ee19-b6d3854dd20b",
        "colab": {
          "base_uri": "https://localhost:8080/"
        }
      },
      "execution_count": 84,
      "outputs": [
        {
          "output_type": "execute_result",
          "data": {
            "text/plain": [
              "array([[0.],\n",
              "       [1.],\n",
              "       [1.],\n",
              "       [1.],\n",
              "       [1.]], dtype=float32)"
            ]
          },
          "metadata": {},
          "execution_count": 84
        }
      ]
    },
    {
      "cell_type": "code",
      "source": [
        "predictions2_1ver2.max(axis=1)"
      ],
      "metadata": {
        "colab": {
          "base_uri": "https://localhost:8080/"
        },
        "id": "kcSFSRn7fM3J",
        "outputId": "3a34e4ba-6635-4411-d0e0-cd8f00b9e0f0"
      },
      "execution_count": 85,
      "outputs": [
        {
          "output_type": "execute_result",
          "data": {
            "text/plain": [
              "array([0., 1., 1., 1., 1., 1., 1., 0., 1., 1., 1., 0., 0., 1., 1., 1., 0.,\n",
              "       1., 0., 1., 0., 1., 0., 1., 1., 1., 1., 1., 1., 0., 0., 1., 1., 1.,\n",
              "       1., 1., 1.], dtype=float32)"
            ]
          },
          "metadata": {},
          "execution_count": 85
        }
      ]
    },
    {
      "cell_type": "code",
      "source": [
        "testY2_1.max(axis=1)"
      ],
      "metadata": {
        "colab": {
          "base_uri": "https://localhost:8080/"
        },
        "id": "bbpUAg0UIJ07",
        "outputId": "214ce36c-5b15-477c-b1a9-1da5656e462a"
      },
      "execution_count": 86,
      "outputs": [
        {
          "output_type": "execute_result",
          "data": {
            "text/plain": [
              "array([0, 1, 1, 1, 0, 0, 1, 0, 1, 1, 1, 0, 0, 1, 0, 0, 0, 0, 0, 0, 0, 1,\n",
              "       0, 0, 1, 1, 1, 0, 1, 0, 0, 1, 1, 1, 1, 1, 1])"
            ]
          },
          "metadata": {},
          "execution_count": 86
        }
      ]
    },
    {
      "cell_type": "code",
      "source": [
        "print(classification_report(testY2_1.max(axis=1),\t\n",
        "                            predictions2_1ver2.max(axis=1),  \n",
        "\t\t\t\t\t\t\ttarget_names=le.classes_ ))"
      ],
      "metadata": {
        "id": "6-Lw01ygt6-Z",
        "colab": {
          "base_uri": "https://localhost:8080/"
        },
        "outputId": "3daa6a04-a16b-4a62-c07c-7566be7d2400"
      },
      "execution_count": 87,
      "outputs": [
        {
          "output_type": "stream",
          "name": "stdout",
          "text": [
            "              precision    recall  f1-score   support\n",
            "\n",
            "      Normal       1.00      0.56      0.71        18\n",
            "   Pneumonia       0.70      1.00      0.83        19\n",
            "\n",
            "    accuracy                           0.78        37\n",
            "   macro avg       0.85      0.78      0.77        37\n",
            "weighted avg       0.85      0.78      0.77        37\n",
            "\n"
          ]
        }
      ]
    },
    {
      "cell_type": "code",
      "source": [
        "confusion_matrix(testY2_1.max(axis=1),\t\n",
        "                        predictions2_1ver2.max(axis=1) )"
      ],
      "metadata": {
        "id": "aLMspsDbXGex",
        "outputId": "bae9867f-5ac2-432e-a201-fbdcc85cbb6c",
        "colab": {
          "base_uri": "https://localhost:8080/"
        }
      },
      "execution_count": 102,
      "outputs": [
        {
          "output_type": "execute_result",
          "data": {
            "text/plain": [
              "array([[10,  8],\n",
              "       [ 0, 19]])"
            ]
          },
          "metadata": {},
          "execution_count": 102
        }
      ]
    },
    {
      "cell_type": "code",
      "source": [
        ""
      ],
      "metadata": {
        "id": "CoqEy3iXXGcJ"
      },
      "execution_count": null,
      "outputs": []
    },
    {
      "cell_type": "markdown",
      "source": [
        "## 2) output 2 มิติ : ค่า predict คือ ความน่าจะเป็น 2 ค่า \n",
        "(ความน่าจะเป็นที่จะเป็นคลาส 0 และ 1)"
      ],
      "metadata": {
        "id": "Zea960kXsd-6"
      }
    },
    {
      "cell_type": "code",
      "source": [
        "data2_2 = np.array(train_img, dtype=\"float32\") / 255.0"
      ],
      "metadata": {
        "id": "pDyx119XZih9"
      },
      "execution_count": 88,
      "outputs": []
    },
    {
      "cell_type": "code",
      "source": [
        "labels2_2 = np.array(data_train2[['Type1']] )         "
      ],
      "metadata": {
        "id": "X5MrazLAtlBX"
      },
      "execution_count": 89,
      "outputs": []
    },
    {
      "cell_type": "code",
      "source": [
        "le2_2 = LabelEncoder()                                                                   #จะแปลงชื่อ class เป็นตัวเลข\n",
        "labels2_2 = le2_2.fit_transform(labels2_2)                                                  # dimention ของ Y จะเป็น 1 (37,) \n",
        "labels2_2 = to_categorical(labels2_2, num_classes=2)                            # แปลงเป็นเลข ดัมมี่ (1เป็น 1,0 ----- 0 เป็น  0,1)    \n",
        "            #shape (148, 2) ค่าเดิม 0. กับ 1.  หลังจากรันจะเป็น [0., 1.] กับ [1., 0.]  ------->  แต่จะรัน model2.fit ไม่ได้ อาจเพราะเป็นโมเดลสำหรับ output แค่ 1 ค่า \n",
        "\n",
        "(trainX2_2, testX2_2, trainY2_2, testY2_2) = train_test_split(data2_2, labels2_2,\n",
        "\t                                                            test_size=0.25, random_state=40)"
      ],
      "metadata": {
        "id": "XZDRNB4Ps9p9",
        "outputId": "159b244d-51f1-40a8-813a-24cebeaaf10d",
        "colab": {
          "base_uri": "https://localhost:8080/"
        }
      },
      "execution_count": 90,
      "outputs": [
        {
          "output_type": "stream",
          "name": "stderr",
          "text": [
            "/usr/local/lib/python3.7/dist-packages/sklearn/preprocessing/_label.py:115: DataConversionWarning: A column-vector y was passed when a 1d array was expected. Please change the shape of y to (n_samples, ), for example using ravel().\n",
            "  y = column_or_1d(y, warn=True)\n"
          ]
        }
      ]
    },
    {
      "cell_type": "code",
      "source": [
        "le2_2.classes_"
      ],
      "metadata": {
        "colab": {
          "base_uri": "https://localhost:8080/"
        },
        "id": "T2FUC7cYZ8d2",
        "outputId": "389817c9-a6dd-4382-9a0e-0543160ad7b5"
      },
      "execution_count": 91,
      "outputs": [
        {
          "output_type": "execute_result",
          "data": {
            "text/plain": [
              "array(['Normal', 'Pneumonia'], dtype=object)"
            ]
          },
          "metadata": {},
          "execution_count": 91
        }
      ]
    },
    {
      "cell_type": "markdown",
      "source": [
        "### train2_2"
      ],
      "metadata": {
        "id": "kkSv0-7hsd-9"
      }
    },
    {
      "cell_type": "code",
      "source": [
        "# initialize the initial learning rate, batch size, and number of\n",
        "# epochs to train for\n",
        "INIT_LR = 1e-1\n",
        "BS = 8\n",
        "EPOCHS = 50"
      ],
      "metadata": {
        "id": "8Uc13IIdsd--"
      },
      "execution_count": 92,
      "outputs": []
    },
    {
      "cell_type": "code",
      "source": [
        "aug = ImageDataGenerator(\n",
        "\t\trotation_range=20,\n",
        "\t\tzoom_range=0.25,\n",
        "\t\twidth_shift_range=0.25,\n",
        "\t\theight_shift_range=0.25,\n",
        "\t\tshear_range=0.25,\n",
        "\t\thorizontal_flip=True,\n",
        "\t\tfill_mode=\"nearest\")"
      ],
      "metadata": {
        "id": "V4YjAyIosd-_"
      },
      "execution_count": 93,
      "outputs": []
    },
    {
      "cell_type": "markdown",
      "source": [
        "DenseNet201"
      ],
      "metadata": {
        "id": "UU230_Txsd-_"
      }
    },
    {
      "cell_type": "code",
      "source": [
        "base_model2_2 = tf.keras.applications.DenseNet201(input_shape=(224, 224, 3), include_top=False, weights=\"imagenet\")"
      ],
      "metadata": {
        "id": "UNqxGeyBsd-_"
      },
      "execution_count": 94,
      "outputs": []
    },
    {
      "cell_type": "code",
      "source": [
        "base_model2_2.trainable=False\n",
        "\n",
        "#Add custom head\n",
        "average_pooling_layer = tf.keras.layers.GlobalAveragePooling2D()(base_model2_2.output)\n",
        "prediction_layer = tf.keras.layers.Dense(units=2, activation=\"sigmoid\")(average_pooling_layer)   # ลองแก้ unit จาก 1 เป็น 2\n",
        "model2_2 = tf.keras.models.Model(inputs=base_model2_2.input, outputs=prediction_layer)"
      ],
      "metadata": {
        "id": "9vjoepVTsd_A"
      },
      "execution_count": 95,
      "outputs": []
    },
    {
      "cell_type": "code",
      "source": [
        "model2_2.compile(optimizer=tf.keras.optimizers.RMSprop(lr=0.0001), loss=\"binary_crossentropy\", metrics=[\"accuracy\"])"
      ],
      "metadata": {
        "outputId": "07f201ad-bada-4368-f333-f160e4ecddc5",
        "colab": {
          "base_uri": "https://localhost:8080/"
        },
        "id": "Y9Ygbeu8sd_A"
      },
      "execution_count": 96,
      "outputs": [
        {
          "output_type": "stream",
          "name": "stderr",
          "text": [
            "/usr/local/lib/python3.7/dist-packages/keras/optimizer_v2/rmsprop.py:130: UserWarning: The `lr` argument is deprecated, use `learning_rate` instead.\n",
            "  super(RMSprop, self).__init__(name, **kwargs)\n"
          ]
        }
      ]
    },
    {
      "cell_type": "code",
      "source": [
        "callback = tf.keras.callbacks.EarlyStopping(\n",
        "    monitor=\"val_accuracy\",\n",
        "    patience=2,\n",
        "    mode=\"max\"\n",
        ")"
      ],
      "metadata": {
        "id": "tbT5xMPHYkoI"
      },
      "execution_count": 105,
      "outputs": []
    },
    {
      "cell_type": "code",
      "source": [
        "H2_2 = model2_2.fit(\n",
        "\tx=aug.flow(trainX2_2, trainY2_2, batch_size=BS),\n",
        "\tvalidation_data=(testX2_2, testY2_2),\n",
        "\tsteps_per_epoch=len(trainX2_2) // BS,\n",
        "\tepochs=10, callbacks=[callback])"
      ],
      "metadata": {
        "outputId": "f0e05559-6528-43d4-dce8-bfae8d780d4f",
        "colab": {
          "base_uri": "https://localhost:8080/"
        },
        "id": "gg4K5eS6sd_B"
      },
      "execution_count": 106,
      "outputs": [
        {
          "output_type": "stream",
          "name": "stdout",
          "text": [
            "Epoch 1/10\n",
            "13/13 [==============================] - 29s 2s/step - loss: 0.6796 - accuracy: 0.5825 - val_loss: 0.6775 - val_accuracy: 0.5946\n",
            "Epoch 2/10\n",
            "13/13 [==============================] - 30s 2s/step - loss: 0.6519 - accuracy: 0.6505 - val_loss: 0.6590 - val_accuracy: 0.7027\n",
            "Epoch 3/10\n",
            "13/13 [==============================] - 29s 2s/step - loss: 0.6606 - accuracy: 0.6796 - val_loss: 0.6394 - val_accuracy: 0.7568\n",
            "Epoch 4/10\n",
            "13/13 [==============================] - 30s 2s/step - loss: 0.6264 - accuracy: 0.7308 - val_loss: 0.6222 - val_accuracy: 0.7838\n",
            "Epoch 5/10\n",
            "13/13 [==============================] - 30s 2s/step - loss: 0.5967 - accuracy: 0.7379 - val_loss: 0.6051 - val_accuracy: 0.7838\n",
            "Epoch 6/10\n",
            "13/13 [==============================] - 30s 2s/step - loss: 0.5704 - accuracy: 0.8447 - val_loss: 0.5889 - val_accuracy: 0.7838\n"
          ]
        }
      ]
    },
    {
      "cell_type": "markdown",
      "source": [
        "### test"
      ],
      "metadata": {
        "id": "fvuAsy6ksd_B"
      }
    },
    {
      "cell_type": "code",
      "source": [
        "predictions2_2 = model2_2.predict(testX2_2, batch_size=BS)"
      ],
      "metadata": {
        "id": "VsRLX4aTsd_C"
      },
      "execution_count": 107,
      "outputs": []
    },
    {
      "cell_type": "code",
      "source": [
        "predictions2_2.ndim"
      ],
      "metadata": {
        "colab": {
          "base_uri": "https://localhost:8080/"
        },
        "outputId": "2dfa049d-fdfc-4d80-d10d-1eece1adc16a",
        "id": "gxecDtR5sd_C"
      },
      "execution_count": 108,
      "outputs": [
        {
          "output_type": "execute_result",
          "data": {
            "text/plain": [
              "2"
            ]
          },
          "metadata": {},
          "execution_count": 108
        }
      ]
    },
    {
      "cell_type": "code",
      "source": [
        "predictions2_2[:5]"
      ],
      "metadata": {
        "outputId": "c11f9bd5-80f6-4c82-9ecf-a329d670434a",
        "colab": {
          "base_uri": "https://localhost:8080/"
        },
        "id": "Sla_lkDnsd_C"
      },
      "execution_count": 109,
      "outputs": [
        {
          "output_type": "execute_result",
          "data": {
            "text/plain": [
              "array([[0.50359267, 0.38177377],\n",
              "       [0.6646601 , 0.5416252 ],\n",
              "       [0.4895034 , 0.6363899 ],\n",
              "       [0.57706285, 0.64657414],\n",
              "       [0.50352424, 0.65097564]], dtype=float32)"
            ]
          },
          "metadata": {},
          "execution_count": 109
        }
      ]
    },
    {
      "cell_type": "code",
      "source": [
        "print(classification_report(testY2_2.argmax(axis=1),\t\n",
        "                            predictions2_2.argmax(axis=1),  \n",
        "\t\t\t\t\t\t\ttarget_names=le2_2.classes_ ))"
      ],
      "metadata": {
        "id": "bcpQz7bAsd_C",
        "outputId": "a56b2db6-2f24-4e0c-e59d-f47933ed2174",
        "colab": {
          "base_uri": "https://localhost:8080/"
        }
      },
      "execution_count": 110,
      "outputs": [
        {
          "output_type": "stream",
          "name": "stdout",
          "text": [
            "              precision    recall  f1-score   support\n",
            "\n",
            "      Normal       0.73      0.89      0.80        18\n",
            "   Pneumonia       0.87      0.68      0.76        19\n",
            "\n",
            "    accuracy                           0.78        37\n",
            "   macro avg       0.80      0.79      0.78        37\n",
            "weighted avg       0.80      0.78      0.78        37\n",
            "\n"
          ]
        }
      ]
    },
    {
      "cell_type": "code",
      "source": [
        "confusion_matrix(testY2_2.argmax(axis=1),\t\n",
        "                        predictions2_2.argmax(axis=1) )"
      ],
      "metadata": {
        "colab": {
          "base_uri": "https://localhost:8080/"
        },
        "outputId": "648d576f-2689-46b0-e302-16c49fdc91a0",
        "id": "VuFzRhN0XgZl"
      },
      "execution_count": 111,
      "outputs": [
        {
          "output_type": "execute_result",
          "data": {
            "text/plain": [
              "array([[16,  2],\n",
              "       [ 6, 13]])"
            ]
          },
          "metadata": {},
          "execution_count": 111
        }
      ]
    },
    {
      "cell_type": "code",
      "source": [
        ""
      ],
      "metadata": {
        "id": "f0K0y9SgXYbJ"
      },
      "execution_count": 111,
      "outputs": []
    },
    {
      "cell_type": "markdown",
      "source": [
        "## Fine tune"
      ],
      "metadata": {
        "id": "NJr8f8hoIw4-"
      }
    },
    {
      "cell_type": "code",
      "source": [
        "len(base_model2.layers)"
      ],
      "metadata": {
        "id": "IHSmrRksYSCl",
        "colab": {
          "base_uri": "https://localhost:8080/"
        },
        "outputId": "5942710e-a0cf-4a0b-e62b-d0993b0f1d1e"
      },
      "execution_count": null,
      "outputs": [
        {
          "output_type": "execute_result",
          "data": {
            "text/plain": [
              "707"
            ]
          },
          "metadata": {},
          "execution_count": 196
        }
      ]
    },
    {
      "cell_type": "code",
      "source": [
        "base_model2.trainable = True\n",
        "for layer in base_model2.layers[:500]:    #fix w & bias in layer 0-500\n",
        "    layer.trainable = False"
      ],
      "metadata": {
        "id": "i4reuvGDYoEc"
      },
      "execution_count": null,
      "outputs": []
    },
    {
      "cell_type": "code",
      "source": [
        "model2.compile(optimizer=tf.keras.optimizers.RMSprop(lr=0.0001),\n",
        "              loss=\"binary_crossentropy\", metrics=[\"accuracy\"])"
      ],
      "metadata": {
        "id": "cHUtzNHJYn_c"
      },
      "execution_count": null,
      "outputs": []
    },
    {
      "cell_type": "code",
      "source": [
        "#train\n",
        "model2.fit_generator(train_generator, epochs=10, \n",
        "                    validation_data=valid_generator,\n",
        "                    callbacks=[callback2])"
      ],
      "metadata": {
        "id": "VzLAn6K2Yn80"
      },
      "execution_count": null,
      "outputs": []
    },
    {
      "cell_type": "code",
      "source": [
        ""
      ],
      "metadata": {
        "id": "yJ3R0UF4PejT"
      },
      "execution_count": null,
      "outputs": []
    },
    {
      "cell_type": "code",
      "source": [
        ""
      ],
      "metadata": {
        "id": "f_T9RajePeg4"
      },
      "execution_count": null,
      "outputs": []
    },
    {
      "cell_type": "code",
      "source": [
        ""
      ],
      "metadata": {
        "id": "xL4WZQOo9b2z"
      },
      "execution_count": null,
      "outputs": []
    },
    {
      "cell_type": "markdown",
      "source": [
        "# 3 class ==>  ***DenseNet201***"
      ],
      "metadata": {
        "id": "7BHymtmpac8d"
      }
    },
    {
      "cell_type": "markdown",
      "source": [
        "###แบ่งข้อมูล3"
      ],
      "metadata": {
        "id": "GCH9hU8Wa_E9"
      }
    },
    {
      "cell_type": "code",
      "source": [
        "data_train3 = pd.concat([tnormal, tpneumonia, tlungcancer])\n",
        "data_train3.head(3)"
      ],
      "metadata": {
        "id": "v6PMUHHOo5Ip",
        "outputId": "b8d6caf1-9de4-4b0f-e6e0-94c0708b9f3d",
        "colab": {
          "base_uri": "https://localhost:8080/",
          "height": 143
        }
      },
      "execution_count": 118,
      "outputs": [
        {
          "output_type": "execute_result",
          "data": {
            "text/html": [
              "\n",
              "  <div id=\"df-5e6ccec4-ef55-4fb1-bebd-c8e8661adb84\">\n",
              "    <div class=\"colab-df-container\">\n",
              "      <div>\n",
              "<style scoped>\n",
              "    .dataframe tbody tr th:only-of-type {\n",
              "        vertical-align: middle;\n",
              "    }\n",
              "\n",
              "    .dataframe tbody tr th {\n",
              "        vertical-align: top;\n",
              "    }\n",
              "\n",
              "    .dataframe thead th {\n",
              "        text-align: right;\n",
              "    }\n",
              "</style>\n",
              "<table border=\"1\" class=\"dataframe\">\n",
              "  <thead>\n",
              "    <tr style=\"text-align: right;\">\n",
              "      <th></th>\n",
              "      <th>ImageName</th>\n",
              "      <th>Type1</th>\n",
              "      <th>Type2</th>\n",
              "    </tr>\n",
              "  </thead>\n",
              "  <tbody>\n",
              "    <tr>\n",
              "      <th>0</th>\n",
              "      <td>IM-0006-0001.jpeg</td>\n",
              "      <td>Normal</td>\n",
              "      <td>0</td>\n",
              "    </tr>\n",
              "    <tr>\n",
              "      <th>1</th>\n",
              "      <td>IM-0003-0001.jpeg</td>\n",
              "      <td>Normal</td>\n",
              "      <td>0</td>\n",
              "    </tr>\n",
              "    <tr>\n",
              "      <th>2</th>\n",
              "      <td>IM-0001-0001.jpeg</td>\n",
              "      <td>Normal</td>\n",
              "      <td>0</td>\n",
              "    </tr>\n",
              "  </tbody>\n",
              "</table>\n",
              "</div>\n",
              "      <button class=\"colab-df-convert\" onclick=\"convertToInteractive('df-5e6ccec4-ef55-4fb1-bebd-c8e8661adb84')\"\n",
              "              title=\"Convert this dataframe to an interactive table.\"\n",
              "              style=\"display:none;\">\n",
              "        \n",
              "  <svg xmlns=\"http://www.w3.org/2000/svg\" height=\"24px\"viewBox=\"0 0 24 24\"\n",
              "       width=\"24px\">\n",
              "    <path d=\"M0 0h24v24H0V0z\" fill=\"none\"/>\n",
              "    <path d=\"M18.56 5.44l.94 2.06.94-2.06 2.06-.94-2.06-.94-.94-2.06-.94 2.06-2.06.94zm-11 1L8.5 8.5l.94-2.06 2.06-.94-2.06-.94L8.5 2.5l-.94 2.06-2.06.94zm10 10l.94 2.06.94-2.06 2.06-.94-2.06-.94-.94-2.06-.94 2.06-2.06.94z\"/><path d=\"M17.41 7.96l-1.37-1.37c-.4-.4-.92-.59-1.43-.59-.52 0-1.04.2-1.43.59L10.3 9.45l-7.72 7.72c-.78.78-.78 2.05 0 2.83L4 21.41c.39.39.9.59 1.41.59.51 0 1.02-.2 1.41-.59l7.78-7.78 2.81-2.81c.8-.78.8-2.07 0-2.86zM5.41 20L4 18.59l7.72-7.72 1.47 1.35L5.41 20z\"/>\n",
              "  </svg>\n",
              "      </button>\n",
              "      \n",
              "  <style>\n",
              "    .colab-df-container {\n",
              "      display:flex;\n",
              "      flex-wrap:wrap;\n",
              "      gap: 12px;\n",
              "    }\n",
              "\n",
              "    .colab-df-convert {\n",
              "      background-color: #E8F0FE;\n",
              "      border: none;\n",
              "      border-radius: 50%;\n",
              "      cursor: pointer;\n",
              "      display: none;\n",
              "      fill: #1967D2;\n",
              "      height: 32px;\n",
              "      padding: 0 0 0 0;\n",
              "      width: 32px;\n",
              "    }\n",
              "\n",
              "    .colab-df-convert:hover {\n",
              "      background-color: #E2EBFA;\n",
              "      box-shadow: 0px 1px 2px rgba(60, 64, 67, 0.3), 0px 1px 3px 1px rgba(60, 64, 67, 0.15);\n",
              "      fill: #174EA6;\n",
              "    }\n",
              "\n",
              "    [theme=dark] .colab-df-convert {\n",
              "      background-color: #3B4455;\n",
              "      fill: #D2E3FC;\n",
              "    }\n",
              "\n",
              "    [theme=dark] .colab-df-convert:hover {\n",
              "      background-color: #434B5C;\n",
              "      box-shadow: 0px 1px 3px 1px rgba(0, 0, 0, 0.15);\n",
              "      filter: drop-shadow(0px 1px 2px rgba(0, 0, 0, 0.3));\n",
              "      fill: #FFFFFF;\n",
              "    }\n",
              "  </style>\n",
              "\n",
              "      <script>\n",
              "        const buttonEl =\n",
              "          document.querySelector('#df-5e6ccec4-ef55-4fb1-bebd-c8e8661adb84 button.colab-df-convert');\n",
              "        buttonEl.style.display =\n",
              "          google.colab.kernel.accessAllowed ? 'block' : 'none';\n",
              "\n",
              "        async function convertToInteractive(key) {\n",
              "          const element = document.querySelector('#df-5e6ccec4-ef55-4fb1-bebd-c8e8661adb84');\n",
              "          const dataTable =\n",
              "            await google.colab.kernel.invokeFunction('convertToInteractive',\n",
              "                                                     [key], {});\n",
              "          if (!dataTable) return;\n",
              "\n",
              "          const docLinkHtml = 'Like what you see? Visit the ' +\n",
              "            '<a target=\"_blank\" href=https://colab.research.google.com/notebooks/data_table.ipynb>data table notebook</a>'\n",
              "            + ' to learn more about interactive tables.';\n",
              "          element.innerHTML = '';\n",
              "          dataTable['output_type'] = 'display_data';\n",
              "          await google.colab.output.renderOutput(dataTable, element);\n",
              "          const docLink = document.createElement('div');\n",
              "          docLink.innerHTML = docLinkHtml;\n",
              "          element.appendChild(docLink);\n",
              "        }\n",
              "      </script>\n",
              "    </div>\n",
              "  </div>\n",
              "  "
            ],
            "text/plain": [
              "           ImageName   Type1  Type2\n",
              "0  IM-0006-0001.jpeg  Normal      0\n",
              "1  IM-0003-0001.jpeg  Normal      0\n",
              "2  IM-0001-0001.jpeg  Normal      0"
            ]
          },
          "metadata": {},
          "execution_count": 118
        }
      ]
    },
    {
      "cell_type": "code",
      "source": [
        "train_img3 = []\n",
        "for ImageName in tqdm(data_train3['ImageName']):               # รัน ชื่อรูป ในไฟล์ data_test3\n",
        "    image_path = all_train +'/' + ImageName                          # ดึงรูปในโฟล์เดอร์มาทีละรูป\n",
        "    img = cv2.imread(image_path)                                            # อ่านรูป\n",
        "    img = cv2.resize(img, (224, 224))\n",
        "    train_img3.append(img)\n"
      ],
      "metadata": {
        "id": "hOnS_tTca8mB",
        "colab": {
          "base_uri": "https://localhost:8080/"
        },
        "outputId": "7b4ca916-643c-4cfa-9acc-59ab0c948e32"
      },
      "execution_count": 119,
      "outputs": [
        {
          "output_type": "stream",
          "name": "stderr",
          "text": [
            "100%|██████████| 180/180 [00:06<00:00, 26.56it/s]\n"
          ]
        }
      ]
    },
    {
      "cell_type": "code",
      "source": [
        "data3 = np.array(train_img3, dtype=\"float32\") / 255.0"
      ],
      "metadata": {
        "id": "VkgjlVfSpn0x"
      },
      "execution_count": 120,
      "outputs": []
    },
    {
      "cell_type": "code",
      "source": [
        "labels3 = np.array(data_train3[['Type1']] )           #shape (180, 1) ค่าเป็น ชื่อคลาส Normal, Pneumonia , Lungcancer"
      ],
      "metadata": {
        "id": "lZnY6pzipbXQ"
      },
      "execution_count": 121,
      "outputs": []
    },
    {
      "cell_type": "code",
      "source": [
        "le3 = LabelEncoder()                                                                     \n",
        "labels3 = le3.fit_transform(labels3)                                         #จะแปลงชื่อ class เป็นตัวเลข 1, 2, 0 \n",
        "labels3 = to_categorical(labels3, num_classes=3)                   #shape (180, 3) มีค่าเป็น  [0., 1., 0.]  กับ   [0., 0., 1.] กับ  [1., 0., 0.]"
      ],
      "metadata": {
        "colab": {
          "base_uri": "https://localhost:8080/"
        },
        "id": "lkaaD9dpBuPl",
        "outputId": "947cfeec-86c5-43e7-e617-fb815038952b"
      },
      "execution_count": 122,
      "outputs": [
        {
          "output_type": "stream",
          "name": "stderr",
          "text": [
            "/usr/local/lib/python3.7/dist-packages/sklearn/preprocessing/_label.py:115: DataConversionWarning: A column-vector y was passed when a 1d array was expected. Please change the shape of y to (n_samples, ), for example using ravel().\n",
            "  y = column_or_1d(y, warn=True)\n"
          ]
        }
      ]
    },
    {
      "cell_type": "code",
      "source": [
        "(trainX3, testX3, trainY3, testY3) = train_test_split(data3, labels3,\n",
        "\t                                        test_size=0.25, random_state=52)"
      ],
      "metadata": {
        "id": "Z9qSb9PfD9Xe"
      },
      "execution_count": 123,
      "outputs": []
    },
    {
      "cell_type": "code",
      "source": [
        "le3.classes_"
      ],
      "metadata": {
        "id": "uec5xR1kqHqN",
        "outputId": "51e84176-c27f-40ca-a351-211632106ba0",
        "colab": {
          "base_uri": "https://localhost:8080/"
        }
      },
      "execution_count": 124,
      "outputs": [
        {
          "output_type": "execute_result",
          "data": {
            "text/plain": [
              "array(['Lungcancer', 'Normal', 'Pneumonia'], dtype=object)"
            ]
          },
          "metadata": {},
          "execution_count": 124
        }
      ]
    },
    {
      "cell_type": "markdown",
      "source": [
        "## train3"
      ],
      "metadata": {
        "id": "0M1IoQ2wpbXS"
      }
    },
    {
      "cell_type": "code",
      "source": [
        "# initialize the initial learning rate, batch size, and number of\n",
        "# epochs to train for\n",
        "INIT_LR = 1e-1\n",
        "BS = 8\n",
        "EPOCHS = 50"
      ],
      "metadata": {
        "id": "kRCabH4zpbXS"
      },
      "execution_count": 125,
      "outputs": []
    },
    {
      "cell_type": "code",
      "source": [
        "# initialize an our data augmenter as an \"empty\" image data generator\n",
        "aug = ImageDataGenerator(\n",
        "\t\trotation_range=20,\n",
        "\t\tzoom_range=0.15,\n",
        "\t\twidth_shift_range=0.15,\n",
        "\t\theight_shift_range=0.15,\n",
        "\t\tshear_range=0.15,\n",
        "\t\thorizontal_flip=True,\n",
        "\t\tfill_mode=\"nearest\")"
      ],
      "metadata": {
        "id": "K_s-d8kxpbXT"
      },
      "execution_count": 126,
      "outputs": []
    },
    {
      "cell_type": "markdown",
      "source": [
        "DenseNet201"
      ],
      "metadata": {
        "id": "CDGCk4mVpbXT"
      }
    },
    {
      "cell_type": "code",
      "source": [
        "base_model3 = tf.keras.applications.DenseNet201(input_shape=(224, 224, 3), include_top=False, weights=\"imagenet\")"
      ],
      "metadata": {
        "id": "UhzXMnm3pbXT"
      },
      "execution_count": 127,
      "outputs": []
    },
    {
      "cell_type": "code",
      "source": [
        "base_model3.trainable=False\n",
        "\n",
        "#Add custom head\n",
        "average_pooling_layer = tf.keras.layers.GlobalAveragePooling2D()(base_model3.output)\n",
        "prediction_layer = tf.keras.layers.Dense(units=3, activation=\"sigmoid\")(average_pooling_layer)   # unit 3\n",
        "model3 = tf.keras.models.Model(inputs=base_model3.input, outputs=prediction_layer)"
      ],
      "metadata": {
        "id": "XTNDU7eRpbXT"
      },
      "execution_count": 128,
      "outputs": []
    },
    {
      "cell_type": "code",
      "source": [
        "model3.compile(optimizer=tf.keras.optimizers.RMSprop(lr=0.0001), loss=\"binary_crossentropy\", metrics=[\"accuracy\"])"
      ],
      "metadata": {
        "outputId": "1b068678-8fed-48d6-8789-9fb5a019d9a2",
        "colab": {
          "base_uri": "https://localhost:8080/"
        },
        "id": "y8xZmCoLpbXU"
      },
      "execution_count": 129,
      "outputs": [
        {
          "output_type": "stream",
          "name": "stderr",
          "text": [
            "/usr/local/lib/python3.7/dist-packages/keras/optimizer_v2/rmsprop.py:130: UserWarning: The `lr` argument is deprecated, use `learning_rate` instead.\n",
            "  super(RMSprop, self).__init__(name, **kwargs)\n"
          ]
        }
      ]
    },
    {
      "cell_type": "code",
      "source": [
        "H3 = model3.fit(\n",
        "\tx=aug.flow(trainX3, trainY3, batch_size=BS),\n",
        "\tvalidation_data=(testX3, testY3),\n",
        "\tsteps_per_epoch=len(trainX3) // BS,\n",
        "\tepochs=10)"
      ],
      "metadata": {
        "outputId": "811a1e41-821f-41eb-9f9c-afd61caece6d",
        "colab": {
          "base_uri": "https://localhost:8080/"
        },
        "id": "ExPYVKEZpbXU"
      },
      "execution_count": 130,
      "outputs": [
        {
          "output_type": "stream",
          "name": "stdout",
          "text": [
            "Epoch 1/10\n",
            "16/16 [==============================] - 48s 2s/step - loss: 0.6125 - accuracy: 0.5433 - val_loss: 0.6234 - val_accuracy: 0.4222\n",
            "Epoch 2/10\n",
            "16/16 [==============================] - 34s 2s/step - loss: 0.5952 - accuracy: 0.5669 - val_loss: 0.5982 - val_accuracy: 0.4444\n",
            "Epoch 3/10\n",
            "16/16 [==============================] - 34s 2s/step - loss: 0.5757 - accuracy: 0.5591 - val_loss: 0.5744 - val_accuracy: 0.5111\n",
            "Epoch 4/10\n",
            "16/16 [==============================] - 33s 2s/step - loss: 0.5472 - accuracy: 0.5827 - val_loss: 0.5528 - val_accuracy: 0.5333\n",
            "Epoch 5/10\n",
            "16/16 [==============================] - 34s 2s/step - loss: 0.5281 - accuracy: 0.7008 - val_loss: 0.5316 - val_accuracy: 0.6000\n",
            "Epoch 6/10\n",
            "16/16 [==============================] - 34s 2s/step - loss: 0.4959 - accuracy: 0.7165 - val_loss: 0.5125 - val_accuracy: 0.6667\n",
            "Epoch 7/10\n",
            "16/16 [==============================] - 33s 2s/step - loss: 0.4790 - accuracy: 0.7480 - val_loss: 0.4928 - val_accuracy: 0.6889\n",
            "Epoch 8/10\n",
            "16/16 [==============================] - 34s 2s/step - loss: 0.4708 - accuracy: 0.7559 - val_loss: 0.4744 - val_accuracy: 0.7556\n",
            "Epoch 9/10\n",
            "16/16 [==============================] - 34s 2s/step - loss: 0.4492 - accuracy: 0.8281 - val_loss: 0.4576 - val_accuracy: 0.8000\n",
            "Epoch 10/10\n",
            "16/16 [==============================] - 34s 2s/step - loss: 0.4316 - accuracy: 0.8346 - val_loss: 0.4421 - val_accuracy: 0.8444\n"
          ]
        }
      ]
    },
    {
      "cell_type": "markdown",
      "source": [
        "## test3"
      ],
      "metadata": {
        "id": "YBi4CNfUpbXU"
      }
    },
    {
      "cell_type": "code",
      "source": [
        "predictions3 = model3.predict(testX3, batch_size=BS)"
      ],
      "metadata": {
        "id": "885sI8BlpbXU"
      },
      "execution_count": 131,
      "outputs": []
    },
    {
      "cell_type": "code",
      "source": [
        "predictions3[:10]"
      ],
      "metadata": {
        "outputId": "368e4e9d-f798-4add-ff94-97fc9d4ffc0a",
        "colab": {
          "base_uri": "https://localhost:8080/"
        },
        "id": "sOqAGUQ_pbXV"
      },
      "execution_count": 132,
      "outputs": [
        {
          "output_type": "execute_result",
          "data": {
            "text/plain": [
              "array([[0.11222601, 0.61711353, 0.41817784],\n",
              "       [0.28418848, 0.06384382, 0.73389995],\n",
              "       [0.09955165, 0.8149698 , 0.30933672],\n",
              "       [0.29784667, 0.17570794, 0.6432164 ],\n",
              "       [0.20061097, 0.35959214, 0.48942998],\n",
              "       [0.10427403, 0.33945054, 0.39991271],\n",
              "       [0.13755232, 0.41933763, 0.6521852 ],\n",
              "       [0.1107538 , 0.4179282 , 0.24421173],\n",
              "       [0.21606854, 0.54657173, 0.18179992],\n",
              "       [0.09908774, 0.24719673, 0.61512876]], dtype=float32)"
            ]
          },
          "metadata": {},
          "execution_count": 132
        }
      ]
    },
    {
      "cell_type": "code",
      "source": [
        "testY3.argmax(axis=1)"
      ],
      "metadata": {
        "colab": {
          "base_uri": "https://localhost:8080/"
        },
        "id": "mjxr3qKAO9rV",
        "outputId": "5cf2a3e6-8321-4666-ce66-aabf212f3f84"
      },
      "execution_count": 133,
      "outputs": [
        {
          "output_type": "execute_result",
          "data": {
            "text/plain": [
              "array([1, 2, 1, 2, 2, 2, 2, 1, 1, 2, 1, 0, 1, 2, 1, 2, 1, 2, 0, 1, 1, 2,\n",
              "       0, 0, 1, 1, 2, 1, 2, 2, 0, 0, 0, 2, 2, 2, 2, 0, 1, 1, 2, 1, 1, 1,\n",
              "       2])"
            ]
          },
          "metadata": {},
          "execution_count": 133
        }
      ]
    },
    {
      "cell_type": "code",
      "source": [
        "print(classification_report(testY3.argmax(axis=1),\t\n",
        "                           predictions3.argmax(axis=1),  \n",
        "                            target_names=le3.classes_))"
      ],
      "metadata": {
        "id": "gcuplSESpbXV",
        "outputId": "230c1d8a-6156-40e9-9ed7-c0060a502592",
        "colab": {
          "base_uri": "https://localhost:8080/"
        }
      },
      "execution_count": 134,
      "outputs": [
        {
          "output_type": "stream",
          "name": "stdout",
          "text": [
            "              precision    recall  f1-score   support\n",
            "\n",
            "  Lungcancer       1.00      0.50      0.67         8\n",
            "      Normal       0.85      0.94      0.89        18\n",
            "   Pneumonia       0.81      0.89      0.85        19\n",
            "\n",
            "    accuracy                           0.84        45\n",
            "   macro avg       0.89      0.78      0.80        45\n",
            "weighted avg       0.86      0.84      0.84        45\n",
            "\n"
          ]
        }
      ]
    },
    {
      "cell_type": "code",
      "source": [
        "confusion_matrix(testY3.argmax(axis=1),\t\n",
        "                        predictions3_2.argmax(axis=1) )"
      ],
      "metadata": {
        "id": "uLqBIuovpbXV",
        "colab": {
          "base_uri": "https://localhost:8080/"
        },
        "outputId": "67eb410e-a549-41d1-d166-15208dbd88b5"
      },
      "execution_count": 135,
      "outputs": [
        {
          "output_type": "execute_result",
          "data": {
            "text/plain": [
              "array([[ 7,  0,  1],\n",
              "       [ 0, 18,  0],\n",
              "       [ 0,  2, 17]])"
            ]
          },
          "metadata": {},
          "execution_count": 135
        }
      ]
    },
    {
      "cell_type": "markdown",
      "source": [
        "# 3 class ==> ***InceptionV3***"
      ],
      "metadata": {
        "id": "gfRYFcvfmJBg"
      }
    },
    {
      "cell_type": "markdown",
      "source": [
        "##แบ่งข้อมูล3"
      ],
      "metadata": {
        "id": "gNIQc2FfmJBn"
      }
    },
    {
      "cell_type": "code",
      "source": [
        "data_train3 = pd.concat([tnormal, tpneumonia, tlungcancer])\n",
        "data_train3.head(3)"
      ],
      "metadata": {
        "outputId": "4f1f324d-3a3f-458e-d730-0a83360f0842",
        "colab": {
          "base_uri": "https://localhost:8080/",
          "height": 143
        },
        "id": "6v0qQigamJBn"
      },
      "execution_count": 137,
      "outputs": [
        {
          "output_type": "execute_result",
          "data": {
            "text/html": [
              "\n",
              "  <div id=\"df-40ebbe41-5dab-404a-ad84-ed014442be6b\">\n",
              "    <div class=\"colab-df-container\">\n",
              "      <div>\n",
              "<style scoped>\n",
              "    .dataframe tbody tr th:only-of-type {\n",
              "        vertical-align: middle;\n",
              "    }\n",
              "\n",
              "    .dataframe tbody tr th {\n",
              "        vertical-align: top;\n",
              "    }\n",
              "\n",
              "    .dataframe thead th {\n",
              "        text-align: right;\n",
              "    }\n",
              "</style>\n",
              "<table border=\"1\" class=\"dataframe\">\n",
              "  <thead>\n",
              "    <tr style=\"text-align: right;\">\n",
              "      <th></th>\n",
              "      <th>ImageName</th>\n",
              "      <th>Type1</th>\n",
              "      <th>Type2</th>\n",
              "    </tr>\n",
              "  </thead>\n",
              "  <tbody>\n",
              "    <tr>\n",
              "      <th>0</th>\n",
              "      <td>IM-0006-0001.jpeg</td>\n",
              "      <td>Normal</td>\n",
              "      <td>0</td>\n",
              "    </tr>\n",
              "    <tr>\n",
              "      <th>1</th>\n",
              "      <td>IM-0003-0001.jpeg</td>\n",
              "      <td>Normal</td>\n",
              "      <td>0</td>\n",
              "    </tr>\n",
              "    <tr>\n",
              "      <th>2</th>\n",
              "      <td>IM-0001-0001.jpeg</td>\n",
              "      <td>Normal</td>\n",
              "      <td>0</td>\n",
              "    </tr>\n",
              "  </tbody>\n",
              "</table>\n",
              "</div>\n",
              "      <button class=\"colab-df-convert\" onclick=\"convertToInteractive('df-40ebbe41-5dab-404a-ad84-ed014442be6b')\"\n",
              "              title=\"Convert this dataframe to an interactive table.\"\n",
              "              style=\"display:none;\">\n",
              "        \n",
              "  <svg xmlns=\"http://www.w3.org/2000/svg\" height=\"24px\"viewBox=\"0 0 24 24\"\n",
              "       width=\"24px\">\n",
              "    <path d=\"M0 0h24v24H0V0z\" fill=\"none\"/>\n",
              "    <path d=\"M18.56 5.44l.94 2.06.94-2.06 2.06-.94-2.06-.94-.94-2.06-.94 2.06-2.06.94zm-11 1L8.5 8.5l.94-2.06 2.06-.94-2.06-.94L8.5 2.5l-.94 2.06-2.06.94zm10 10l.94 2.06.94-2.06 2.06-.94-2.06-.94-.94-2.06-.94 2.06-2.06.94z\"/><path d=\"M17.41 7.96l-1.37-1.37c-.4-.4-.92-.59-1.43-.59-.52 0-1.04.2-1.43.59L10.3 9.45l-7.72 7.72c-.78.78-.78 2.05 0 2.83L4 21.41c.39.39.9.59 1.41.59.51 0 1.02-.2 1.41-.59l7.78-7.78 2.81-2.81c.8-.78.8-2.07 0-2.86zM5.41 20L4 18.59l7.72-7.72 1.47 1.35L5.41 20z\"/>\n",
              "  </svg>\n",
              "      </button>\n",
              "      \n",
              "  <style>\n",
              "    .colab-df-container {\n",
              "      display:flex;\n",
              "      flex-wrap:wrap;\n",
              "      gap: 12px;\n",
              "    }\n",
              "\n",
              "    .colab-df-convert {\n",
              "      background-color: #E8F0FE;\n",
              "      border: none;\n",
              "      border-radius: 50%;\n",
              "      cursor: pointer;\n",
              "      display: none;\n",
              "      fill: #1967D2;\n",
              "      height: 32px;\n",
              "      padding: 0 0 0 0;\n",
              "      width: 32px;\n",
              "    }\n",
              "\n",
              "    .colab-df-convert:hover {\n",
              "      background-color: #E2EBFA;\n",
              "      box-shadow: 0px 1px 2px rgba(60, 64, 67, 0.3), 0px 1px 3px 1px rgba(60, 64, 67, 0.15);\n",
              "      fill: #174EA6;\n",
              "    }\n",
              "\n",
              "    [theme=dark] .colab-df-convert {\n",
              "      background-color: #3B4455;\n",
              "      fill: #D2E3FC;\n",
              "    }\n",
              "\n",
              "    [theme=dark] .colab-df-convert:hover {\n",
              "      background-color: #434B5C;\n",
              "      box-shadow: 0px 1px 3px 1px rgba(0, 0, 0, 0.15);\n",
              "      filter: drop-shadow(0px 1px 2px rgba(0, 0, 0, 0.3));\n",
              "      fill: #FFFFFF;\n",
              "    }\n",
              "  </style>\n",
              "\n",
              "      <script>\n",
              "        const buttonEl =\n",
              "          document.querySelector('#df-40ebbe41-5dab-404a-ad84-ed014442be6b button.colab-df-convert');\n",
              "        buttonEl.style.display =\n",
              "          google.colab.kernel.accessAllowed ? 'block' : 'none';\n",
              "\n",
              "        async function convertToInteractive(key) {\n",
              "          const element = document.querySelector('#df-40ebbe41-5dab-404a-ad84-ed014442be6b');\n",
              "          const dataTable =\n",
              "            await google.colab.kernel.invokeFunction('convertToInteractive',\n",
              "                                                     [key], {});\n",
              "          if (!dataTable) return;\n",
              "\n",
              "          const docLinkHtml = 'Like what you see? Visit the ' +\n",
              "            '<a target=\"_blank\" href=https://colab.research.google.com/notebooks/data_table.ipynb>data table notebook</a>'\n",
              "            + ' to learn more about interactive tables.';\n",
              "          element.innerHTML = '';\n",
              "          dataTable['output_type'] = 'display_data';\n",
              "          await google.colab.output.renderOutput(dataTable, element);\n",
              "          const docLink = document.createElement('div');\n",
              "          docLink.innerHTML = docLinkHtml;\n",
              "          element.appendChild(docLink);\n",
              "        }\n",
              "      </script>\n",
              "    </div>\n",
              "  </div>\n",
              "  "
            ],
            "text/plain": [
              "           ImageName   Type1  Type2\n",
              "0  IM-0006-0001.jpeg  Normal      0\n",
              "1  IM-0003-0001.jpeg  Normal      0\n",
              "2  IM-0001-0001.jpeg  Normal      0"
            ]
          },
          "metadata": {},
          "execution_count": 137
        }
      ]
    },
    {
      "cell_type": "code",
      "source": [
        "train_img3_Incep = []\n",
        "for ImageName in tqdm(data_train3['ImageName']):               # รัน ชื่อรูป ในไฟล์ data_test3\n",
        "    image_path = all_train +'/' + ImageName                          # ดึงรูปในโฟล์เดอร์มาทีละรูป\n",
        "    img = cv2.imread(image_path)                                            # อ่านรูป\n",
        "    img = cv2.resize(img, (299, 299))                                   #ขนาดของ input\n",
        "    train_img3_Incep.append(img)\n"
      ],
      "metadata": {
        "colab": {
          "base_uri": "https://localhost:8080/"
        },
        "outputId": "2a76ba7d-84a3-4b4b-8175-e27f0148cdb7",
        "id": "QIEmk3k_mJBo"
      },
      "execution_count": 143,
      "outputs": [
        {
          "output_type": "stream",
          "name": "stderr",
          "text": [
            "100%|██████████| 180/180 [00:06<00:00, 26.71it/s]\n"
          ]
        }
      ]
    },
    {
      "cell_type": "code",
      "source": [
        "data3_Incep = np.array(train_img3_Incep, dtype=\"float32\") / 255.0"
      ],
      "metadata": {
        "id": "e9_AmEytmJBo"
      },
      "execution_count": 144,
      "outputs": []
    },
    {
      "cell_type": "code",
      "source": [
        "labels3_Incep = np.array(data_train3[['Type1']] )           #shape (180, 1) ค่าเป็น ชื่อคลาส Normal, Pneumonia , Lungcancer"
      ],
      "metadata": {
        "id": "hFuDI5okmJBo"
      },
      "execution_count": 146,
      "outputs": []
    },
    {
      "cell_type": "code",
      "source": [
        "le3_Incep = LabelEncoder()                                                                     \n",
        "labels3_Incep = le3_Incep.fit_transform(labels3_Incep)                                         #จะแปลงชื่อ class เป็นตัวเลข 1, 2, 0 --> ['Normal', 'Pneumonia', 'Lungcancer']\n",
        "labels3_Incep = to_categorical(labels3_Incep, num_classes=3)                   #shape (180, 3)  มีค่าเป็น  [0., 1., 0.]  กับ   [0., 0., 1.] กับ  [1., 0., 0.]"
      ],
      "metadata": {
        "colab": {
          "base_uri": "https://localhost:8080/"
        },
        "outputId": "9aafa00b-846c-47cc-dc8f-f80210f42be7",
        "id": "0cII6JBOmJBp"
      },
      "execution_count": 147,
      "outputs": [
        {
          "output_type": "stream",
          "name": "stderr",
          "text": [
            "/usr/local/lib/python3.7/dist-packages/sklearn/preprocessing/_label.py:115: DataConversionWarning: A column-vector y was passed when a 1d array was expected. Please change the shape of y to (n_samples, ), for example using ravel().\n",
            "  y = column_or_1d(y, warn=True)\n"
          ]
        }
      ]
    },
    {
      "cell_type": "code",
      "source": [
        "(trainX3_Incep, testX3_Incep, trainY3_Incep, testY3_Incep) = train_test_split(data3_Incep, labels3_Incep,\n",
        "\t                                        \t\t\t\t\t\t\t\t\t\t\ttest_size=0.25, random_state=52)"
      ],
      "metadata": {
        "id": "-EV1UI6ZmJBp"
      },
      "execution_count": 148,
      "outputs": []
    },
    {
      "cell_type": "code",
      "source": [
        "le3_Incep.classes_"
      ],
      "metadata": {
        "outputId": "b41f2bfe-6701-41b0-c75a-31aee3e31116",
        "colab": {
          "base_uri": "https://localhost:8080/"
        },
        "id": "0sndl8OqmJBp"
      },
      "execution_count": 149,
      "outputs": [
        {
          "output_type": "execute_result",
          "data": {
            "text/plain": [
              "array(['Lungcancer', 'Normal', 'Pneumonia'], dtype=object)"
            ]
          },
          "metadata": {},
          "execution_count": 149
        }
      ]
    },
    {
      "cell_type": "markdown",
      "source": [
        "## train3"
      ],
      "metadata": {
        "id": "DplnLBt3mJBp"
      }
    },
    {
      "cell_type": "code",
      "source": [
        "# initialize the initial learning rate, batch size, and number of\n",
        "# epochs to train for\n",
        "INIT_LR = 1e-1\n",
        "BS = 8\n",
        "EPOCHS = 50"
      ],
      "metadata": {
        "id": "HgJblT6omJBp"
      },
      "execution_count": 150,
      "outputs": []
    },
    {
      "cell_type": "code",
      "source": [
        "# initialize an our data augmenter as an \"empty\" image data generator\n",
        "aug = ImageDataGenerator(\n",
        "\t\trotation_range=20,\n",
        "\t\tzoom_range=0.15,\n",
        "\t\twidth_shift_range=0.15,\n",
        "\t\theight_shift_range=0.15,\n",
        "\t\tshear_range=0.15,\n",
        "\t\thorizontal_flip=True,\n",
        "\t\tfill_mode=\"nearest\")"
      ],
      "metadata": {
        "id": "_CDMFC6QmJBp"
      },
      "execution_count": 151,
      "outputs": []
    },
    {
      "cell_type": "markdown",
      "source": [
        "InceptionV3"
      ],
      "metadata": {
        "id": "EM3Bx5MNmJBq"
      }
    },
    {
      "cell_type": "code",
      "source": [
        "base_model3_Incep = tf.keras.applications.InceptionV3(input_shape=(299, 299, 3), include_top=False, weights=\"imagenet\")"
      ],
      "metadata": {
        "id": "fCJuitF5mJBq"
      },
      "execution_count": 153,
      "outputs": []
    },
    {
      "cell_type": "code",
      "source": [
        "base_model3_Incep.trainable=False\n",
        "\n",
        "#Add custom head\n",
        "average_pooling_layer = tf.keras.layers.GlobalAveragePooling2D()(base_model3_Incep.output)\n",
        "prediction_layer = tf.keras.layers.Dense(units=3, activation=\"sigmoid\")(average_pooling_layer)   # unit 3\n",
        "model3_Incep = tf.keras.models.Model(inputs=base_model3_Incep.input, outputs=prediction_layer)"
      ],
      "metadata": {
        "id": "SdRQM74tmJBq"
      },
      "execution_count": 154,
      "outputs": []
    },
    {
      "cell_type": "code",
      "source": [
        "model3_Incep.compile(optimizer=tf.keras.optimizers.RMSprop(lr=0.0001), loss=\"binary_crossentropy\", metrics=[\"accuracy\"])"
      ],
      "metadata": {
        "outputId": "4cfff9d3-a442-49ab-9c09-f5458715346e",
        "colab": {
          "base_uri": "https://localhost:8080/"
        },
        "id": "JimPrvZYmJBr"
      },
      "execution_count": 155,
      "outputs": [
        {
          "output_type": "stream",
          "name": "stderr",
          "text": [
            "/usr/local/lib/python3.7/dist-packages/keras/optimizer_v2/rmsprop.py:130: UserWarning: The `lr` argument is deprecated, use `learning_rate` instead.\n",
            "  super(RMSprop, self).__init__(name, **kwargs)\n"
          ]
        }
      ]
    },
    {
      "cell_type": "code",
      "source": [
        "callback = tf.keras.callbacks.EarlyStopping(\n",
        "    monitor=\"val_accuracy\",\n",
        "    patience=2,\n",
        "    mode=\"max\"\n",
        ")"
      ],
      "metadata": {
        "id": "_4dQArsPmdQZ"
      },
      "execution_count": 160,
      "outputs": []
    },
    {
      "cell_type": "code",
      "source": [
        "H3_Incep = model3_Incep.fit(\n",
        "\tx=aug.flow(trainX3_Incep, trainY3_Incep, batch_size=BS),\n",
        "\tvalidation_data=(testX3_Incep, testY3_Incep),\n",
        "\tsteps_per_epoch=len(trainX3_Incep) // BS,\n",
        "\tepochs=20, \n",
        "\tcallbacks = [callback])"
      ],
      "metadata": {
        "outputId": "aedfbe1f-c948-4a3b-ae4c-0d5b7778b144",
        "colab": {
          "base_uri": "https://localhost:8080/"
        },
        "id": "lQzbe4B3mJBr"
      },
      "execution_count": 161,
      "outputs": [
        {
          "output_type": "stream",
          "name": "stdout",
          "text": [
            "Epoch 1/20\n",
            "16/16 [==============================] - 33s 2s/step - loss: 0.2336 - accuracy: 0.9134 - val_loss: 0.2191 - val_accuracy: 1.0000\n",
            "Epoch 2/20\n",
            "16/16 [==============================] - 33s 2s/step - loss: 0.2179 - accuracy: 0.9449 - val_loss: 0.2163 - val_accuracy: 1.0000\n",
            "Epoch 3/20\n",
            "16/16 [==============================] - 33s 2s/step - loss: 0.2220 - accuracy: 0.9291 - val_loss: 0.2132 - val_accuracy: 1.0000\n"
          ]
        }
      ]
    },
    {
      "cell_type": "markdown",
      "source": [
        "## test3"
      ],
      "metadata": {
        "id": "Y9VqzdYsmJBr"
      }
    },
    {
      "cell_type": "code",
      "source": [
        "predictions3_Incep = model3_Incep.predict(testX3_Incep, batch_size=BS)"
      ],
      "metadata": {
        "id": "KpCeFpopmJBs"
      },
      "execution_count": 162,
      "outputs": []
    },
    {
      "cell_type": "code",
      "source": [
        "predictions3_Incep[:10]"
      ],
      "metadata": {
        "outputId": "05adbd17-7e31-4fef-96dd-7c2ba748e7e2",
        "colab": {
          "base_uri": "https://localhost:8080/"
        },
        "id": "0epUIxeAmJBs"
      },
      "execution_count": 163,
      "outputs": [
        {
          "output_type": "execute_result",
          "data": {
            "text/plain": [
              "array([[0.03081182, 0.58541363, 0.50679356],\n",
              "       [0.08051986, 0.03728512, 0.7079966 ],\n",
              "       [0.0433327 , 0.83353853, 0.2266548 ],\n",
              "       [0.1410583 , 0.07304928, 0.74109054],\n",
              "       [0.00798771, 0.28370184, 0.83665633],\n",
              "       [0.06980368, 0.19123742, 0.621834  ],\n",
              "       [0.06501719, 0.2103219 , 0.6884623 ],\n",
              "       [0.0188987 , 0.81560916, 0.18352625],\n",
              "       [0.00847757, 0.9069102 , 0.101549  ],\n",
              "       [0.06826645, 0.18518716, 0.6713476 ]], dtype=float32)"
            ]
          },
          "metadata": {},
          "execution_count": 163
        }
      ]
    },
    {
      "cell_type": "code",
      "source": [
        "testY3_Incep.argmax(axis=1)"
      ],
      "metadata": {
        "colab": {
          "base_uri": "https://localhost:8080/"
        },
        "outputId": "5f56a74e-f745-4950-ddb8-14bb5843a1f8",
        "id": "ZaG3D-VTmJBs"
      },
      "execution_count": 164,
      "outputs": [
        {
          "output_type": "execute_result",
          "data": {
            "text/plain": [
              "array([1, 2, 1, 2, 2, 2, 2, 1, 1, 2, 1, 0, 1, 2, 1, 2, 1, 2, 0, 1, 1, 2,\n",
              "       0, 0, 1, 1, 2, 1, 2, 2, 0, 0, 0, 2, 2, 2, 2, 0, 1, 1, 2, 1, 1, 1,\n",
              "       2])"
            ]
          },
          "metadata": {},
          "execution_count": 164
        }
      ]
    },
    {
      "cell_type": "code",
      "source": [
        "print(classification_report(testY3_Incep.argmax(axis=1),\t\n",
        "                           predictions3_Incep.argmax(axis=1),  \n",
        "                            target_names=le3_Incep.classes_))"
      ],
      "metadata": {
        "outputId": "c096d316-3d7c-4e12-8642-b972f64f0523",
        "colab": {
          "base_uri": "https://localhost:8080/"
        },
        "id": "Yn-Eb3uQmJBs"
      },
      "execution_count": 165,
      "outputs": [
        {
          "output_type": "stream",
          "name": "stdout",
          "text": [
            "              precision    recall  f1-score   support\n",
            "\n",
            "  Lungcancer       1.00      1.00      1.00         8\n",
            "      Normal       1.00      1.00      1.00        18\n",
            "   Pneumonia       1.00      1.00      1.00        19\n",
            "\n",
            "    accuracy                           1.00        45\n",
            "   macro avg       1.00      1.00      1.00        45\n",
            "weighted avg       1.00      1.00      1.00        45\n",
            "\n"
          ]
        }
      ]
    },
    {
      "cell_type": "code",
      "source": [
        "le3_Incep.classes_"
      ],
      "metadata": {
        "colab": {
          "base_uri": "https://localhost:8080/"
        },
        "id": "aIUo-HB5gmwY",
        "outputId": "9817bf69-2ea9-432d-a59f-7f5889b4bbb8"
      },
      "execution_count": 166,
      "outputs": [
        {
          "output_type": "execute_result",
          "data": {
            "text/plain": [
              "array(['Lungcancer', 'Normal', 'Pneumonia'], dtype=object)"
            ]
          },
          "metadata": {},
          "execution_count": 166
        }
      ]
    },
    {
      "cell_type": "code",
      "source": [
        "confusion_matrix(testY3_Incep.argmax(axis=1),\t\n",
        "                        predictions3_Incep.argmax(axis=1) )"
      ],
      "metadata": {
        "id": "KjK6wJ4smJBs",
        "colab": {
          "base_uri": "https://localhost:8080/"
        },
        "outputId": "218cf950-dfe5-4490-f199-c7afcf129778"
      },
      "execution_count": 167,
      "outputs": [
        {
          "output_type": "execute_result",
          "data": {
            "text/plain": [
              "array([[ 8,  0,  0],\n",
              "       [ 0, 18,  0],\n",
              "       [ 0,  0, 19]])"
            ]
          },
          "metadata": {},
          "execution_count": 167
        }
      ]
    },
    {
      "cell_type": "code",
      "source": [
        ""
      ],
      "metadata": {
        "id": "ftDVRHrSh75R"
      },
      "execution_count": 169,
      "outputs": []
    },
    {
      "cell_type": "code",
      "source": [
        ""
      ],
      "metadata": {
        "id": "akL1U-Vjh73J"
      },
      "execution_count": 169,
      "outputs": []
    }
  ]
}