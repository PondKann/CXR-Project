{
  "nbformat": 4,
  "nbformat_minor": 0,
  "metadata": {
    "colab": {
      "name": "InceptionV3_Finetuning_BS.ipynb",
      "provenance": [],
      "collapsed_sections": [
        "Kpnf_sft9x4-",
        "Z1e52UqdwPp8",
        "YFVxlpQZf5pU",
        "3Fi053VB2o6Y",
        "0L32LTa-AmKM",
        "WCnBlIy1u_3W",
        "-aiw9cWnSsoB",
        "To8jsVdhSxEW"
      ],
      "authorship_tag": "ABX9TyOfQkdp4kAZdUH6J5jmmsHI",
      "include_colab_link": true
    },
    "kernelspec": {
      "name": "python3",
      "display_name": "Python 3"
    },
    "language_info": {
      "name": "python"
    }
  },
  "cells": [
    {
      "cell_type": "markdown",
      "metadata": {
        "id": "view-in-github",
        "colab_type": "text"
      },
      "source": [
        "<a href=\"https://colab.research.google.com/github/PondKann/CXR-Project/blob/main/Find_tuning_BS.ipynb\" target=\"_parent\"><img src=\"https://colab.research.google.com/assets/colab-badge.svg\" alt=\"Open In Colab\"/></a>"
      ]
    },
    {
      "cell_type": "markdown",
      "source": [
        "###### import"
      ],
      "metadata": {
        "id": "Kpnf_sft9x4-"
      }
    },
    {
      "cell_type": "code",
      "metadata": {
        "id": "Psng6eJUdzUG"
      },
      "source": [
        "import os\n",
        "import tensorflow as tf\n",
        "import matplotlib.pyplot as plt\n",
        "%matplotlib inline\n",
        "from tensorflow.keras.preprocessing.image import ImageDataGenerator\n",
        "import cv2\n",
        "import numpy as np\n",
        "import pandas as pd\n",
        "from torchsummary import summary\n",
        "from skimage.io import imread, imsave\n",
        "from tqdm import tqdm\n",
        "\n",
        "from sklearn.model_selection import train_test_split\n",
        "from sklearn.metrics import accuracy_score, confusion_matrix"
      ],
      "execution_count": 1,
      "outputs": []
    },
    {
      "cell_type": "code",
      "source": [
        "# set the matplotlib backend so figures can be saved in the background\n",
        "import matplotlib\n",
        "matplotlib.use(\"Agg\")\n",
        "\n",
        "from sklearn.preprocessing import LabelEncoder\n",
        "from sklearn.metrics import classification_report\n",
        "from tensorflow.keras.optimizers import SGD\n",
        "from tensorflow.keras.utils import to_categorical\n",
        "from imutils import paths\n",
        "import argparse\n",
        "\n",
        "from sklearn.model_selection import KFold\n",
        "from sklearn import metrics\n",
        "from scipy.stats import zscore"
      ],
      "metadata": {
        "id": "6f-PDKiLl2iC"
      },
      "execution_count": 2,
      "outputs": []
    },
    {
      "cell_type": "code",
      "source": [
        "import pickle\n",
        "import joblib"
      ],
      "metadata": {
        "id": "KywT8U_h4Bmb"
      },
      "execution_count": 3,
      "outputs": []
    },
    {
      "cell_type": "markdown",
      "source": [
        "######Load data"
      ],
      "metadata": {
        "id": "Z1e52UqdwPp8"
      }
    },
    {
      "cell_type": "code",
      "metadata": {
        "colab": {
          "base_uri": "https://localhost:8080/"
        },
        "id": "DlcukkP7fnhB",
        "outputId": "34c204b3-13b0-41c0-ef57-34bf1df97fea"
      },
      "source": [
        "from google.colab import drive\n",
        "drive.mount('/content/drive')"
      ],
      "execution_count": 4,
      "outputs": [
        {
          "output_type": "stream",
          "name": "stdout",
          "text": [
            "Mounted at /content/drive\n"
          ]
        }
      ]
    },
    {
      "cell_type": "code",
      "metadata": {
        "id": "0w8suy5ofqx_"
      },
      "source": [
        "data_dir = '/content/drive/My Drive/Senior Project/CXR Image3class'"
      ],
      "execution_count": 5,
      "outputs": []
    },
    {
      "cell_type": "markdown",
      "source": [
        "train 3 class"
      ],
      "metadata": {
        "id": "xhqPQxA42jeC"
      }
    },
    {
      "cell_type": "code",
      "source": [
        "Normal151_dir = os.path.join(data_dir,'Normal151')\n",
        "TB150_dir = os.path.join(data_dir,'TB150')\n",
        "CA150_dir = os.path.join(data_dir,'CA150')\n",
        "\n",
        "All_3class_dir = os.path.join(data_dir,'All_3class')"
      ],
      "metadata": {
        "id": "-Jrg5mt_RvJT"
      },
      "execution_count": 6,
      "outputs": []
    },
    {
      "cell_type": "markdown",
      "source": [
        "#### train 3 class  --- สร้างตารางเก็บ ชื่อภาพ และชื่อคลาส\n",
        "ข้อมูลใน All_3class_dir รวมภาพทั้ง 3 คลาส รวม 451 ภาพ TB150, Normal151 และ CA150 (CA คือ lungcancer)"
      ],
      "metadata": {
        "id": "YFVxlpQZf5pU"
      }
    },
    {
      "cell_type": "code",
      "source": [
        "Normal151_dir = os.path.join(data_dir,'Normal151')\n",
        "TB150_dir = os.path.join(data_dir,'TB150')\n",
        "CA150_dir = os.path.join(data_dir,'CA150')\n",
        "\n",
        "All_3class_dir = os.path.join(data_dir,'All_3class')"
      ],
      "metadata": {
        "id": "8BHyN8YKpwx9"
      },
      "execution_count": 7,
      "outputs": []
    },
    {
      "cell_type": "code",
      "source": [
        "normal = []\n",
        "for i in range(len(os.listdir(Normal151_dir))):\n",
        "    img = os.listdir(Normal151_dir)[i]\n",
        "    normal.append(img)\n",
        "    \n",
        "tnormal = pd.DataFrame({'ImageName':[normal][0],\n",
        "                                       'NameType': \"Normal\" ,\n",
        "                                       'NumberType': 0                      })"
      ],
      "metadata": {
        "id": "mT0QF8IgrfVm"
      },
      "execution_count": 8,
      "outputs": []
    },
    {
      "cell_type": "code",
      "source": [
        "tuberculosis = []\n",
        "for i in range(len(os.listdir(TB150_dir))):\n",
        "    img = os.listdir(TB150_dir)[i]\n",
        "    tuberculosis.append(img)\n",
        "\n",
        "ttuberculosis = pd.DataFrame({'ImageName':[tuberculosis][0],\n",
        "                                       'NameType': \"Tuberculosis\" ,\n",
        "                                       'NumberType': 1                        })"
      ],
      "metadata": {
        "id": "VtNPg0jwf5pW"
      },
      "execution_count": 9,
      "outputs": []
    },
    {
      "cell_type": "code",
      "source": [
        "lungcancer = []\n",
        "for i in range(len(os.listdir(CA150_dir))):\n",
        "    img = os.listdir(CA150_dir)[i]\n",
        "    lungcancer.append(img)\n",
        "\n",
        "tlungcancer = pd.DataFrame({'ImageName':[lungcancer][0],\n",
        "                                       'NameType': \"Lungcancer\" ,\n",
        "                                       'NumberType': 2                        })"
      ],
      "metadata": {
        "id": "X5pyCUl5mJGV"
      },
      "execution_count": 10,
      "outputs": []
    },
    {
      "cell_type": "code",
      "source": [
        "data_train3 = pd.concat([tnormal, ttuberculosis, tlungcancer])\n",
        "data_train3[-3:]"
      ],
      "metadata": {
        "id": "bgArCw5jnwg2",
        "outputId": "5c3c873f-c85f-49fc-f6b5-f7d458f06dff",
        "colab": {
          "base_uri": "https://localhost:8080/",
          "height": 0
        }
      },
      "execution_count": 11,
      "outputs": [
        {
          "output_type": "execute_result",
          "data": {
            "text/html": [
              "\n",
              "  <div id=\"df-45e41eae-6286-435f-a639-8d7f15a188e6\">\n",
              "    <div class=\"colab-df-container\">\n",
              "      <div>\n",
              "<style scoped>\n",
              "    .dataframe tbody tr th:only-of-type {\n",
              "        vertical-align: middle;\n",
              "    }\n",
              "\n",
              "    .dataframe tbody tr th {\n",
              "        vertical-align: top;\n",
              "    }\n",
              "\n",
              "    .dataframe thead th {\n",
              "        text-align: right;\n",
              "    }\n",
              "</style>\n",
              "<table border=\"1\" class=\"dataframe\">\n",
              "  <thead>\n",
              "    <tr style=\"text-align: right;\">\n",
              "      <th></th>\n",
              "      <th>ImageName</th>\n",
              "      <th>NameType</th>\n",
              "      <th>NumberType</th>\n",
              "    </tr>\n",
              "  </thead>\n",
              "  <tbody>\n",
              "    <tr>\n",
              "      <th>147</th>\n",
              "      <td>ca26.jpg</td>\n",
              "      <td>Lungcancer</td>\n",
              "      <td>2</td>\n",
              "    </tr>\n",
              "    <tr>\n",
              "      <th>148</th>\n",
              "      <td>ca7.jpg</td>\n",
              "      <td>Lungcancer</td>\n",
              "      <td>2</td>\n",
              "    </tr>\n",
              "    <tr>\n",
              "      <th>149</th>\n",
              "      <td>ca8.jpg</td>\n",
              "      <td>Lungcancer</td>\n",
              "      <td>2</td>\n",
              "    </tr>\n",
              "  </tbody>\n",
              "</table>\n",
              "</div>\n",
              "      <button class=\"colab-df-convert\" onclick=\"convertToInteractive('df-45e41eae-6286-435f-a639-8d7f15a188e6')\"\n",
              "              title=\"Convert this dataframe to an interactive table.\"\n",
              "              style=\"display:none;\">\n",
              "        \n",
              "  <svg xmlns=\"http://www.w3.org/2000/svg\" height=\"24px\"viewBox=\"0 0 24 24\"\n",
              "       width=\"24px\">\n",
              "    <path d=\"M0 0h24v24H0V0z\" fill=\"none\"/>\n",
              "    <path d=\"M18.56 5.44l.94 2.06.94-2.06 2.06-.94-2.06-.94-.94-2.06-.94 2.06-2.06.94zm-11 1L8.5 8.5l.94-2.06 2.06-.94-2.06-.94L8.5 2.5l-.94 2.06-2.06.94zm10 10l.94 2.06.94-2.06 2.06-.94-2.06-.94-.94-2.06-.94 2.06-2.06.94z\"/><path d=\"M17.41 7.96l-1.37-1.37c-.4-.4-.92-.59-1.43-.59-.52 0-1.04.2-1.43.59L10.3 9.45l-7.72 7.72c-.78.78-.78 2.05 0 2.83L4 21.41c.39.39.9.59 1.41.59.51 0 1.02-.2 1.41-.59l7.78-7.78 2.81-2.81c.8-.78.8-2.07 0-2.86zM5.41 20L4 18.59l7.72-7.72 1.47 1.35L5.41 20z\"/>\n",
              "  </svg>\n",
              "      </button>\n",
              "      \n",
              "  <style>\n",
              "    .colab-df-container {\n",
              "      display:flex;\n",
              "      flex-wrap:wrap;\n",
              "      gap: 12px;\n",
              "    }\n",
              "\n",
              "    .colab-df-convert {\n",
              "      background-color: #E8F0FE;\n",
              "      border: none;\n",
              "      border-radius: 50%;\n",
              "      cursor: pointer;\n",
              "      display: none;\n",
              "      fill: #1967D2;\n",
              "      height: 32px;\n",
              "      padding: 0 0 0 0;\n",
              "      width: 32px;\n",
              "    }\n",
              "\n",
              "    .colab-df-convert:hover {\n",
              "      background-color: #E2EBFA;\n",
              "      box-shadow: 0px 1px 2px rgba(60, 64, 67, 0.3), 0px 1px 3px 1px rgba(60, 64, 67, 0.15);\n",
              "      fill: #174EA6;\n",
              "    }\n",
              "\n",
              "    [theme=dark] .colab-df-convert {\n",
              "      background-color: #3B4455;\n",
              "      fill: #D2E3FC;\n",
              "    }\n",
              "\n",
              "    [theme=dark] .colab-df-convert:hover {\n",
              "      background-color: #434B5C;\n",
              "      box-shadow: 0px 1px 3px 1px rgba(0, 0, 0, 0.15);\n",
              "      filter: drop-shadow(0px 1px 2px rgba(0, 0, 0, 0.3));\n",
              "      fill: #FFFFFF;\n",
              "    }\n",
              "  </style>\n",
              "\n",
              "      <script>\n",
              "        const buttonEl =\n",
              "          document.querySelector('#df-45e41eae-6286-435f-a639-8d7f15a188e6 button.colab-df-convert');\n",
              "        buttonEl.style.display =\n",
              "          google.colab.kernel.accessAllowed ? 'block' : 'none';\n",
              "\n",
              "        async function convertToInteractive(key) {\n",
              "          const element = document.querySelector('#df-45e41eae-6286-435f-a639-8d7f15a188e6');\n",
              "          const dataTable =\n",
              "            await google.colab.kernel.invokeFunction('convertToInteractive',\n",
              "                                                     [key], {});\n",
              "          if (!dataTable) return;\n",
              "\n",
              "          const docLinkHtml = 'Like what you see? Visit the ' +\n",
              "            '<a target=\"_blank\" href=https://colab.research.google.com/notebooks/data_table.ipynb>data table notebook</a>'\n",
              "            + ' to learn more about interactive tables.';\n",
              "          element.innerHTML = '';\n",
              "          dataTable['output_type'] = 'display_data';\n",
              "          await google.colab.output.renderOutput(dataTable, element);\n",
              "          const docLink = document.createElement('div');\n",
              "          docLink.innerHTML = docLinkHtml;\n",
              "          element.appendChild(docLink);\n",
              "        }\n",
              "      </script>\n",
              "    </div>\n",
              "  </div>\n",
              "  "
            ],
            "text/plain": [
              "    ImageName    NameType  NumberType\n",
              "147  ca26.jpg  Lungcancer           2\n",
              "148   ca7.jpg  Lungcancer           2\n",
              "149   ca8.jpg  Lungcancer           2"
            ]
          },
          "metadata": {},
          "execution_count": 11
        }
      ]
    },
    {
      "cell_type": "markdown",
      "source": [
        "####  test 3 class จากเน็ต"
      ],
      "metadata": {
        "id": "3Fi053VB2o6Y"
      }
    },
    {
      "cell_type": "code",
      "source": [
        "TB700_dir = os.path.join(data_dir,'test_model/Tuberculosis700')\n",
        "Normal94_dir = os.path.join(data_dir,'test_model/NORMAL94')\n",
        "CA150_dir = os.path.join(data_dir,'CA150')                  #อันเดิมที่ใช้เทรน\n",
        "\n",
        "AllTest_2class = os.path.join(data_dir,'test_model/AllTest_2class')"
      ],
      "metadata": {
        "id": "DoGUhtkpCph6"
      },
      "execution_count": null,
      "outputs": []
    },
    {
      "cell_type": "code",
      "source": [
        "#สำหรับ test model\n",
        "normal = []\n",
        "for i in range(len(os.listdir(Normal94_dir))):\n",
        "    img = os.listdir(Normal94_dir)[i]\n",
        "    normal.append(img)\n",
        "    \n",
        "tnormal94 = pd.DataFrame({'ImageName':[normal][0],\n",
        "                                       'NameType': \"Normal\" ,\n",
        "                                       'NumberType': 0                      })"
      ],
      "metadata": {
        "id": "nWuAUibuR4VW"
      },
      "execution_count": null,
      "outputs": []
    },
    {
      "cell_type": "code",
      "source": [
        "#สำหรับ test model\n",
        "tb700 = []\n",
        "for i in range(len(os.listdir(TB700_dir))):\n",
        "    img = os.listdir(TB700_dir)[i]\n",
        "    tb700.append(img)\n",
        "\n",
        "ttb700 = pd.DataFrame({'ImageName':[tb700][0],\n",
        "                                       'NameType': \"Tuberculosis\" ,\n",
        "                                       'NumberType': 1                        })"
      ],
      "metadata": {
        "id": "Bu1n-Ib48qFf"
      },
      "execution_count": null,
      "outputs": []
    },
    {
      "cell_type": "code",
      "source": [
        "#สำหรับ test model ข้อม฿ลเดิม\n",
        "lungcancer = []\n",
        "for i in range(len(os.listdir(CA150_dir))):\n",
        "    img = os.listdir(CA150_dir)[i]\n",
        "    lungcancer.append(img)\n",
        "\n",
        "tlungcancer = pd.DataFrame({'ImageName':[lungcancer][0],\n",
        "                                       'NameType': \"Lungcancer\" ,\n",
        "                                       'NumberType': 2                        })"
      ],
      "metadata": {
        "id": "clUmEvEx2IKk"
      },
      "execution_count": null,
      "outputs": []
    },
    {
      "cell_type": "code",
      "source": [
        "data_test2 = pd.concat([tnormal94[:30], ttb700[:30], tlungcancer[:10]])"
      ],
      "metadata": {
        "id": "kePRXLwU195n"
      },
      "execution_count": null,
      "outputs": []
    },
    {
      "cell_type": "code",
      "source": [
        "test_NorTB = []\n",
        "for ImageName in tqdm(data_test2['ImageName']):               # รัน ชื่อรูป ในไฟล์ data_test2\n",
        "    image_path = AllTest_2class +'/' + ImageName                          # ดึงรูปในโฟล์เดอร์มาทีละรูป\n",
        "    img = cv2.imread(image_path)                                            # อ่านรูป\n",
        "    img = cv2.resize(img, (299, 299))\n",
        "    test_NorTB.append(img)"
      ],
      "metadata": {
        "colab": {
          "base_uri": "https://localhost:8080/"
        },
        "id": "DRlBEE0T14sz",
        "outputId": "d96bdb9f-750b-498a-d55d-986c58ff491d"
      },
      "execution_count": null,
      "outputs": [
        {
          "output_type": "stream",
          "name": "stderr",
          "text": [
            "100%|██████████| 70/70 [00:19<00:00,  3.60it/s]\n"
          ]
        }
      ]
    },
    {
      "cell_type": "code",
      "source": [
        "data_test = np.array(test_NorTB, dtype=\"float32\") / 255.0\n",
        "\n",
        "labels_test = np.array(data_test2[['NameType']] )        \n",
        "labels_test.shape = (len(labels_test),) \n",
        "\n",
        "le3_Incep = LabelEncoder()                                                                     \n",
        "labels_test = le3_Incep.fit_transform(labels_test)                                         #จะแปลงชื่อ class เป็นตัวเลข 1, 2, 0 \n",
        "\n",
        "labels_test = to_categorical(labels_test, num_classes=3)                   #shape (180, 3) มีค่าเป็น  [0., 1., 0.]  กับ   [0., 0., 1.] กับ  [1., 0., 0.]"
      ],
      "metadata": {
        "id": "hlnpYC_S72ee"
      },
      "execution_count": null,
      "outputs": []
    },
    {
      "cell_type": "code",
      "source": [
        ""
      ],
      "metadata": {
        "id": "EjDLK8iNqNiK"
      },
      "execution_count": null,
      "outputs": []
    },
    {
      "cell_type": "markdown",
      "source": [
        "## K-fold  -- InceptionV3"
      ],
      "metadata": {
        "id": "0L32LTa-AmKM"
      }
    },
    {
      "cell_type": "code",
      "source": [
        "train_img3_Incep = []\n",
        "for ImageName in tqdm(data_train3['ImageName']):               # รัน ชื่อรูป ในไฟล์ data_test3\n",
        "    image_path = All_3class_dir +'/' + ImageName                   # ดึงรูปในโฟล์เดอร์มาทีละรูป\n",
        "    img = cv2.imread(image_path)                                            # อ่านรูป\n",
        "    img = cv2.resize(img, (299, 299))                                       #ขนาดของ input\n",
        "    train_img3_Incep.append(img)\n",
        "\n",
        "data3_Incep = np.array(train_img3_Incep, dtype=\"float32\") / 255.0"
      ],
      "metadata": {
        "outputId": "4f3e69b3-01f4-46bf-a69c-6e6c9e116a00",
        "colab": {
          "base_uri": "https://localhost:8080/"
        },
        "id": "jhfvC-NqAmKN"
      },
      "execution_count": null,
      "outputs": [
        {
          "output_type": "stream",
          "name": "stderr",
          "text": [
            "100%|██████████| 451/451 [01:32<00:00,  4.87it/s]\n"
          ]
        }
      ]
    },
    {
      "cell_type": "code",
      "source": [
        "labels3_Incep = np.array(data_train3[['NameType']] )        \n",
        "labels3_Incep.shape = (len(labels3_Incep),) \n",
        "\n",
        "le3_Incep = LabelEncoder()                                                                     \n",
        "labels3_Incep = le3_Incep.fit_transform(labels3_Incep)                                         #จะแปลงชื่อ class เป็นตัวเลข 1, 2, 0 \n",
        "\n",
        "labels3_Incep = to_categorical(labels3_Incep, num_classes=3)                   #shape (180, 3) มีค่าเป็น  [0., 1., 0.]  กับ   [0., 0., 1.] กับ  [1., 0., 0.]"
      ],
      "metadata": {
        "id": "MeaRfwG5A06x"
      },
      "execution_count": null,
      "outputs": []
    },
    {
      "cell_type": "code",
      "source": [
        "INIT_LR = 1e-1\n",
        "BS = 8\n",
        "EPOCHS = 50\n",
        "\n",
        "aug = ImageDataGenerator(\n",
        "\t\trotation_range=15,\t\t\t\t\t\t#องศาการหมุน\n",
        "\t\twidth_shift_range=0.1,\n",
        "\t\theight_shift_range=0.1,\n",
        "\t\tshear_range=0.15,\n",
        "\t\thorizontal_flip=True,\n",
        "\t\tfill_mode=\"nearest\")\n",
        "\n",
        "callback = tf.keras.callbacks.EarlyStopping(\n",
        "                monitor=\"val_accuracy\",\n",
        "                patience=3,\n",
        "                mode=\"max\" )"
      ],
      "metadata": {
        "id": "0wB74-IDAmKO"
      },
      "execution_count": null,
      "outputs": []
    },
    {
      "cell_type": "code",
      "source": [
        "base_model3_Incep = tf.keras.applications.InceptionV3(input_shape=(299, 299, 3), include_top=False, weights=\"imagenet\")\n",
        "base_model3_Incep.trainable=False\n",
        "\n",
        "#Add custom head\n",
        "average_pooling_layer = tf.keras.layers.GlobalAveragePooling2D()(base_model3_Incep.output)\n",
        "prediction_layer = tf.keras.layers.Dense(units=3, activation=\"softmax\")(average_pooling_layer)   # unit 3\n",
        "model3_Incep = tf.keras.models.Model(inputs=base_model3_Incep.input, outputs=prediction_layer)\n",
        "\n",
        "model3_Incep.compile(optimizer=tf.keras.optimizers.RMSprop(learning_rate=0.0001), loss=\"binary_crossentropy\", metrics=[\"accuracy\"])"
      ],
      "metadata": {
        "outputId": "d70d892b-0d1d-408f-a0b2-8b98ec80f78d",
        "colab": {
          "base_uri": "https://localhost:8080/"
        },
        "id": "0Iuuw2AdBYIj"
      },
      "execution_count": null,
      "outputs": [
        {
          "output_type": "stream",
          "name": "stdout",
          "text": [
            "Downloading data from https://storage.googleapis.com/tensorflow/keras-applications/inception_v3/inception_v3_weights_tf_dim_ordering_tf_kernels_notop.h5\n",
            "87916544/87910968 [==============================] - 1s 0us/step\n",
            "87924736/87910968 [==============================] - 1s 0us/step\n"
          ]
        }
      ]
    },
    {
      "cell_type": "code",
      "source": [
        "kf3_Incep = KFold(5, shuffle=True, random_state=40) \n",
        "\n",
        "oos_y = []\n",
        "oos_pred = []\n",
        "fold = 0\n",
        "\n",
        "for train, test in kf3_Incep.split(data3_Incep):\n",
        "    fold+=1\n",
        "    print(f\"Fold #{fold}\")\n",
        "        \n",
        "    x_train3_Incep = data3_Incep[train]\n",
        "    y_train3_Incep = labels3_Incep[train]\n",
        "    x_test3_Incep = data3_Incep[test]\n",
        "    y_test3_Incep = labels3_Incep[test]\n",
        "\n",
        "    H3_Incep = model3_Incep.fit( x=aug.flow(x_train3_Incep, y_train3_Incep, batch_size=BS),\n",
        "\t                                            validation_data=(x_test3_Incep, y_test3_Incep),\n",
        "\t                                            steps_per_epoch=len(x_train3_Incep) // BS,\n",
        "\t                                            epochs=10,  callbacks = [callback])\n",
        "    \n",
        "    pred3_Incep = model3_Incep.predict(x_test3_Incep)\n",
        "    \n",
        "    oos_y.append(y_test3_Incep)\n",
        "    oos_pred.append(pred3_Incep)  \n",
        "    print(classification_report(y_test3_Incep.argmax(axis=1),\t                #แสดง report ค่า acc, recall, ...\n",
        "                                        pred3_Incep.argmax(axis=1),  \n",
        "                                        target_names=le3_Incep.classes_))\n",
        "\n",
        "#   score = metrics.accuracy_score(y_test3_Incep.argmax(axis=1),\t        #ค่า acc\n",
        "#                                               pred3_Incep.argmax(axis=1)\n",
        "#    print(f\"Fold score (accuracy): {score}\")\n",
        "\n",
        "#    print(confusion_matrix(testY3_Incep.argmax(axis=1),\t                       #แสดง confusion_matrix\n",
        "#                        pred3_Incep.argmax(axis=1) ) )"
      ],
      "metadata": {
        "id": "_3cCPrl0AmKP",
        "outputId": "71a7c030-365e-4280-89f1-704b11f93362",
        "colab": {
          "base_uri": "https://localhost:8080/"
        }
      },
      "execution_count": null,
      "outputs": [
        {
          "output_type": "stream",
          "name": "stdout",
          "text": [
            "Fold #1\n",
            "Epoch 1/10\n",
            "45/45 [==============================] - 103s 2s/step - loss: 0.6675 - accuracy: 0.3194 - val_loss: 0.6413 - val_accuracy: 0.3956\n",
            "Epoch 2/10\n",
            "45/45 [==============================] - 102s 2s/step - loss: 0.6375 - accuracy: 0.4111 - val_loss: 0.6231 - val_accuracy: 0.4835\n",
            "Epoch 3/10\n",
            "45/45 [==============================] - 97s 2s/step - loss: 0.6219 - accuracy: 0.4472 - val_loss: 0.6100 - val_accuracy: 0.5165\n",
            "Epoch 4/10\n",
            "45/45 [==============================] - 99s 2s/step - loss: 0.6082 - accuracy: 0.4806 - val_loss: 0.5993 - val_accuracy: 0.5495\n",
            "Epoch 5/10\n",
            "45/45 [==============================] - 98s 2s/step - loss: 0.5958 - accuracy: 0.5444 - val_loss: 0.5904 - val_accuracy: 0.5824\n",
            "Epoch 6/10\n",
            "45/45 [==============================] - 99s 2s/step - loss: 0.5829 - accuracy: 0.5611 - val_loss: 0.5768 - val_accuracy: 0.6593\n",
            "Epoch 7/10\n",
            "45/45 [==============================] - 98s 2s/step - loss: 0.5727 - accuracy: 0.6222 - val_loss: 0.5719 - val_accuracy: 0.5824\n",
            "Epoch 8/10\n",
            "45/45 [==============================] - 99s 2s/step - loss: 0.5618 - accuracy: 0.6306 - val_loss: 0.5585 - val_accuracy: 0.6703\n",
            "Epoch 9/10\n",
            "45/45 [==============================] - 99s 2s/step - loss: 0.5541 - accuracy: 0.6194 - val_loss: 0.5523 - val_accuracy: 0.6154\n",
            "Epoch 10/10\n",
            "45/45 [==============================] - 98s 2s/step - loss: 0.5365 - accuracy: 0.6417 - val_loss: 0.5466 - val_accuracy: 0.6264\n",
            "              precision    recall  f1-score   support\n",
            "\n",
            "  Lungcancer       0.65      0.54      0.59        28\n",
            "      Normal       0.62      1.00      0.77        33\n",
            "Tuberculosis       0.60      0.30      0.40        30\n",
            "\n",
            "    accuracy                           0.63        91\n",
            "   macro avg       0.62      0.61      0.59        91\n",
            "weighted avg       0.62      0.63      0.59        91\n",
            "\n",
            "Fold #2\n",
            "Epoch 1/10\n",
            "45/45 [==============================] - 94s 2s/step - loss: 0.5320 - accuracy: 0.6601 - val_loss: 0.5284 - val_accuracy: 0.6667\n",
            "Epoch 2/10\n",
            "45/45 [==============================] - 94s 2s/step - loss: 0.5162 - accuracy: 0.7252 - val_loss: 0.5196 - val_accuracy: 0.6667\n",
            "Epoch 3/10\n",
            "45/45 [==============================] - 94s 2s/step - loss: 0.5123 - accuracy: 0.6969 - val_loss: 0.5117 - val_accuracy: 0.7000\n",
            "Epoch 4/10\n",
            "45/45 [==============================] - 94s 2s/step - loss: 0.5112 - accuracy: 0.6742 - val_loss: 0.5076 - val_accuracy: 0.6889\n",
            "Epoch 5/10\n",
            "45/45 [==============================] - 94s 2s/step - loss: 0.5014 - accuracy: 0.6771 - val_loss: 0.5081 - val_accuracy: 0.6667\n",
            "Epoch 6/10\n",
            "45/45 [==============================] - 94s 2s/step - loss: 0.4999 - accuracy: 0.6771 - val_loss: 0.5171 - val_accuracy: 0.6556\n",
            "              precision    recall  f1-score   support\n",
            "\n",
            "  Lungcancer       0.76      0.79      0.78        33\n",
            "      Normal       0.53      1.00      0.69        26\n",
            "Tuberculosis       1.00      0.23      0.37        31\n",
            "\n",
            "    accuracy                           0.66        90\n",
            "   macro avg       0.77      0.67      0.61        90\n",
            "weighted avg       0.78      0.66      0.61        90\n",
            "\n",
            "Fold #3\n",
            "Epoch 1/10\n",
            "45/45 [==============================] - 94s 2s/step - loss: 0.4915 - accuracy: 0.7082 - val_loss: 0.4781 - val_accuracy: 0.7222\n",
            "Epoch 2/10\n",
            "45/45 [==============================] - 95s 2s/step - loss: 0.4956 - accuracy: 0.6856 - val_loss: 0.4722 - val_accuracy: 0.7000\n",
            "Epoch 3/10\n",
            "45/45 [==============================] - 95s 2s/step - loss: 0.4866 - accuracy: 0.7195 - val_loss: 0.4642 - val_accuracy: 0.6889\n",
            "Epoch 4/10\n",
            "45/45 [==============================] - 95s 2s/step - loss: 0.4845 - accuracy: 0.6997 - val_loss: 0.4645 - val_accuracy: 0.7111\n",
            "              precision    recall  f1-score   support\n",
            "\n",
            "  Lungcancer       0.65      0.76      0.70        29\n",
            "      Normal       0.72      1.00      0.84        33\n",
            "Tuberculosis       0.90      0.32      0.47        28\n",
            "\n",
            "    accuracy                           0.71        90\n",
            "   macro avg       0.75      0.69      0.67        90\n",
            "weighted avg       0.75      0.71      0.68        90\n",
            "\n",
            "Fold #4\n",
            "Epoch 1/10\n",
            "45/45 [==============================] - 94s 2s/step - loss: 0.4658 - accuracy: 0.7054 - val_loss: 0.4747 - val_accuracy: 0.6444\n",
            "Epoch 2/10\n",
            "45/45 [==============================] - 95s 2s/step - loss: 0.4642 - accuracy: 0.6969 - val_loss: 0.4883 - val_accuracy: 0.5889\n",
            "Epoch 3/10\n",
            "45/45 [==============================] - 96s 2s/step - loss: 0.4615 - accuracy: 0.7309 - val_loss: 0.4798 - val_accuracy: 0.6556\n",
            "Epoch 4/10\n",
            "45/45 [==============================] - 96s 2s/step - loss: 0.4573 - accuracy: 0.7337 - val_loss: 0.4718 - val_accuracy: 0.6889\n",
            "Epoch 5/10\n",
            "45/45 [==============================] - 95s 2s/step - loss: 0.4510 - accuracy: 0.7167 - val_loss: 0.4861 - val_accuracy: 0.5778\n",
            "Epoch 6/10\n",
            "45/45 [==============================] - 96s 2s/step - loss: 0.4560 - accuracy: 0.7337 - val_loss: 0.4703 - val_accuracy: 0.6667\n",
            "Epoch 7/10\n",
            "45/45 [==============================] - 96s 2s/step - loss: 0.4574 - accuracy: 0.7167 - val_loss: 0.4662 - val_accuracy: 0.6889\n",
            "              precision    recall  f1-score   support\n",
            "\n",
            "  Lungcancer       0.89      0.53      0.67        30\n",
            "      Normal       0.61      1.00      0.76        31\n",
            "Tuberculosis       0.71      0.52      0.60        29\n",
            "\n",
            "    accuracy                           0.69        90\n",
            "   macro avg       0.74      0.68      0.67        90\n",
            "weighted avg       0.74      0.69      0.68        90\n",
            "\n",
            "Fold #5\n",
            "Epoch 1/10\n",
            "45/45 [==============================] - 94s 2s/step - loss: 0.4520 - accuracy: 0.7224 - val_loss: 0.4430 - val_accuracy: 0.7444\n",
            "Epoch 2/10\n",
            "45/45 [==============================] - 94s 2s/step - loss: 0.4466 - accuracy: 0.7365 - val_loss: 0.4460 - val_accuracy: 0.7556\n",
            "Epoch 3/10\n",
            "45/45 [==============================] - 95s 2s/step - loss: 0.4450 - accuracy: 0.7195 - val_loss: 0.4439 - val_accuracy: 0.7222\n",
            "Epoch 4/10\n",
            "45/45 [==============================] - 94s 2s/step - loss: 0.4444 - accuracy: 0.7139 - val_loss: 0.4357 - val_accuracy: 0.7333\n",
            "Epoch 5/10\n",
            "45/45 [==============================] - 94s 2s/step - loss: 0.4383 - accuracy: 0.7082 - val_loss: 0.4523 - val_accuracy: 0.6778\n",
            "              precision    recall  f1-score   support\n",
            "\n",
            "  Lungcancer       0.73      0.73      0.73        30\n",
            "      Normal       0.61      1.00      0.76        28\n",
            "Tuberculosis       0.79      0.34      0.48        32\n",
            "\n",
            "    accuracy                           0.68        90\n",
            "   macro avg       0.71      0.69      0.66        90\n",
            "weighted avg       0.71      0.68      0.65        90\n",
            "\n"
          ]
        }
      ]
    },
    {
      "cell_type": "code",
      "source": [
        ""
      ],
      "metadata": {
        "id": "RO1ZE4g_AmKP"
      },
      "execution_count": null,
      "outputs": []
    },
    {
      "cell_type": "code",
      "source": [
        ""
      ],
      "metadata": {
        "id": "-J3mWGfCrc1E"
      },
      "execution_count": null,
      "outputs": []
    },
    {
      "cell_type": "markdown",
      "source": [
        "## 1) Find Tuning\n",
        "\n",
        "### -->ACC = 0.90\n",
        "\n",
        "*   BS = 32\n",
        "*   activation=\"softmax\"\n",
        "*   fix weight & bias in layer 0-100\n",
        "*   learning_rate=0.0001\n",
        "*   epoch 15"
      ],
      "metadata": {
        "id": "i0p8o7zHG8dn"
      }
    },
    {
      "cell_type": "markdown",
      "source": [
        "##### Data"
      ],
      "metadata": {
        "id": "WCnBlIy1u_3W"
      }
    },
    {
      "cell_type": "code",
      "source": [
        "train_img3_Incep = []\n",
        "for ImageName in tqdm(data_train3['ImageName']):               # รัน ชื่อรูป ในไฟล์ data_test3\n",
        "    image_path = All_3class_dir +'/' + ImageName                   # ดึงรูปในโฟล์เดอร์มาทีละรูป\n",
        "    img = cv2.imread(image_path)                                            # อ่านรูป\n",
        "    img = cv2.resize(img, (299, 299))                                       #ขนาดของ input\n",
        "    train_img3_Incep.append(img)\n",
        "\n",
        "data3_Incep = np.array(train_img3_Incep, dtype=\"float32\") / 255.0"
      ],
      "metadata": {
        "outputId": "30b0e24a-40cc-4556-9686-ab95ddb79988",
        "colab": {
          "base_uri": "https://localhost:8080/"
        },
        "id": "gVzjewy4OA7B"
      },
      "execution_count": null,
      "outputs": [
        {
          "output_type": "stream",
          "name": "stderr",
          "text": [
            "100%|██████████| 451/451 [01:58<00:00,  3.80it/s]\n"
          ]
        }
      ]
    },
    {
      "cell_type": "code",
      "source": [
        "labels3_Incep = np.array(data_train3[['NameType']] )        \n",
        "labels3_Incep.shape = (len(labels3_Incep),) \n",
        "\n",
        "le3_Incep = LabelEncoder()                                                                     \n",
        "labels3_Incep = le3_Incep.fit_transform(labels3_Incep)                                         #จะแปลงชื่อ class เป็นตัวเลข 1, 2, 0 \n",
        "\n",
        "labels3_Incep = to_categorical(labels3_Incep, num_classes=3)                   #shape (180, 3) มีค่าเป็น  [0., 1., 0.]  กับ   [0., 0., 1.] กับ  [1., 0., 0.]"
      ],
      "metadata": {
        "id": "vphitaJ6OA7C"
      },
      "execution_count": null,
      "outputs": []
    },
    {
      "cell_type": "markdown",
      "source": [
        "##### Model"
      ],
      "metadata": {
        "id": "e10vYKLYvB9v"
      }
    },
    {
      "cell_type": "code",
      "source": [
        "base_model3_Incep = tf.keras.applications.InceptionV3(input_shape=(299, 299, 3), include_top=False, weights=\"imagenet\")\n",
        "len(base_model3_Incep.layers)"
      ],
      "metadata": {
        "id": "Qtx4J9gxHOc0",
        "outputId": "858d7c29-f9d1-4de8-cf64-297015d9aca1",
        "colab": {
          "base_uri": "https://localhost:8080/"
        }
      },
      "execution_count": null,
      "outputs": [
        {
          "output_type": "stream",
          "name": "stdout",
          "text": [
            "Downloading data from https://storage.googleapis.com/tensorflow/keras-applications/inception_v3/inception_v3_weights_tf_dim_ordering_tf_kernels_notop.h5\n",
            "87916544/87910968 [==============================] - 0s 0us/step\n",
            "87924736/87910968 [==============================] - 0s 0us/step\n"
          ]
        },
        {
          "output_type": "execute_result",
          "data": {
            "text/plain": [
              "311"
            ]
          },
          "metadata": {},
          "execution_count": 14
        }
      ]
    },
    {
      "cell_type": "code",
      "source": [
        "base_model3_Incep.trainable = True\n",
        "for layer in base_model3_Incep.layers[:100]:    #fix w & bias in layer 0-100\n",
        "    layer.trainable = False"
      ],
      "metadata": {
        "id": "cBRoi-ouHOc0"
      },
      "execution_count": null,
      "outputs": []
    },
    {
      "cell_type": "code",
      "source": [
        "#Add custom head\n",
        "average_pooling_layer = tf.keras.layers.GlobalAveragePooling2D()(base_model3_Incep.output)\n",
        "\n",
        "prediction_layer = tf.keras.layers.Dense(units=3, activation=\"softmax\")(average_pooling_layer)   # unit 3\n",
        "model3_IncepF = tf.keras.models.Model(inputs=base_model3_Incep.input, outputs=prediction_layer)\n",
        "\n",
        "model3_IncepF.compile(optimizer=tf.keras.optimizers.RMSprop(learning_rate=0.0001), loss=\"binary_crossentropy\", metrics=[\"accuracy\"])"
      ],
      "metadata": {
        "id": "W1xo9WB4Hfia"
      },
      "execution_count": null,
      "outputs": []
    },
    {
      "cell_type": "code",
      "source": [
        "INIT_LR = 1e-1\n",
        "BS = 32\n",
        "EPOCHS = 50\n",
        "\n",
        "aug = ImageDataGenerator(\n",
        "\t\trotation_range=15,\t\t\t\t\t\t#องศาการหมุน\n",
        "\t\twidth_shift_range=0.1,\n",
        "\t\theight_shift_range=0.1,\n",
        "\t\tshear_range=0.15,\n",
        "\t\thorizontal_flip=True,\n",
        "\t\tfill_mode=\"nearest\")\n",
        "\n",
        "callback = tf.keras.callbacks.EarlyStopping(\n",
        "                monitor=\"val_accuracy\",\n",
        "                patience=3,\n",
        "                mode=\"max\" )"
      ],
      "metadata": {
        "id": "UhcTH2o3Qjrd"
      },
      "execution_count": null,
      "outputs": []
    },
    {
      "cell_type": "code",
      "source": [
        "kf_IncepF = KFold(5, shuffle=True, random_state=40) \n",
        "\n",
        "oos_yF = []\n",
        "oos_predF = []\n",
        "fold = 0\n",
        "\n",
        "for train, test in kf_IncepF.split(data3_Incep):\n",
        "    fold+=1\n",
        "    print(f\"Fold #{fold}\")\n",
        "        \n",
        "    xtrain_IncepF = data3_Incep[train]\n",
        "    ytrain_IncepF = labels3_Incep[train]\n",
        "    xtest_IncepF = data3_Incep[test]\n",
        "    ytest_IncepF = labels3_Incep[test]\n",
        "\n",
        "    M_IncepF = model3_IncepF.fit( x=aug.flow(xtrain_IncepF, ytrain_IncepF, batch_size=BS),\n",
        "\t                                            validation_data=(xtest_IncepF, ytest_IncepF),\n",
        "\t                                            steps_per_epoch=len(xtrain_IncepF) // BS,\n",
        "\t                                            epochs=15,  callbacks = [callback])\n",
        "    \n",
        "    pred_IncepF = model3_IncepF.predict(xtest_IncepF)\n",
        "    \n",
        "    oos_yF.append(ytest_IncepF)\n",
        "    oos_predF.append(pred_IncepF)  \n",
        "    print(classification_report(ytest_IncepF.argmax(axis=1),\t                #แสดง report ค่า acc, recall, ...\n",
        "                                        pred_IncepF.argmax(axis=1),  \n",
        "                                        target_names=le3_Incep.classes_))\n",
        "\n",
        "#   score = metrics.accuracy_score(ytest_IncepF.argmax(axis=1),\t        #ค่า acc\n",
        "#                                               pred_IncepF.argmax(axis=1)\n",
        "#    print(f\"Fold score (accuracy): {score}\")\n",
        "\n",
        "#    print(confusion_matrix(ytest_IncepF.argmax(axis=1),\t                       #แสดง confusion_matrix\n",
        "#                        pred3_IncepF.argmax(axis=1) ) )"
      ],
      "metadata": {
        "id": "m0uPRBNJHC6B",
        "outputId": "60d72e7d-ef57-4f76-b482-c87464fb4614",
        "colab": {
          "base_uri": "https://localhost:8080/"
        }
      },
      "execution_count": null,
      "outputs": [
        {
          "output_type": "stream",
          "name": "stdout",
          "text": [
            "Fold #1\n",
            "Epoch 1/15\n",
            "11/11 [==============================] - 212s 18s/step - loss: 0.5453 - accuracy: 0.5701 - val_loss: 0.8733 - val_accuracy: 0.4396\n",
            "Epoch 2/15\n",
            "11/11 [==============================] - 188s 17s/step - loss: 0.3283 - accuracy: 0.7957 - val_loss: 0.8059 - val_accuracy: 0.4725\n",
            "Epoch 3/15\n",
            "11/11 [==============================] - 188s 17s/step - loss: 0.2771 - accuracy: 0.8476 - val_loss: 0.7430 - val_accuracy: 0.5604\n",
            "Epoch 4/15\n",
            "11/11 [==============================] - 188s 17s/step - loss: 0.1564 - accuracy: 0.9238 - val_loss: 0.7924 - val_accuracy: 0.5385\n",
            "Epoch 5/15\n",
            "11/11 [==============================] - 188s 17s/step - loss: 0.1670 - accuracy: 0.9207 - val_loss: 0.8088 - val_accuracy: 0.5714\n",
            "Epoch 6/15\n",
            "11/11 [==============================] - 188s 17s/step - loss: 0.1128 - accuracy: 0.9421 - val_loss: 0.8733 - val_accuracy: 0.5714\n",
            "Epoch 7/15\n",
            "11/11 [==============================] - 188s 18s/step - loss: 0.1176 - accuracy: 0.9299 - val_loss: 1.0824 - val_accuracy: 0.5275\n",
            "Epoch 8/15\n",
            "11/11 [==============================] - 188s 17s/step - loss: 0.1059 - accuracy: 0.9390 - val_loss: 0.8643 - val_accuracy: 0.6264\n",
            "Epoch 9/15\n",
            "11/11 [==============================] - 188s 17s/step - loss: 0.0833 - accuracy: 0.9543 - val_loss: 0.7555 - val_accuracy: 0.6703\n",
            "Epoch 10/15\n",
            "11/11 [==============================] - 188s 17s/step - loss: 0.0494 - accuracy: 0.9817 - val_loss: 0.8541 - val_accuracy: 0.6703\n",
            "Epoch 11/15\n",
            "11/11 [==============================] - 191s 17s/step - loss: 0.0527 - accuracy: 0.9787 - val_loss: 0.9084 - val_accuracy: 0.6813\n",
            "Epoch 12/15\n",
            "11/11 [==============================] - 192s 19s/step - loss: 0.0513 - accuracy: 0.9787 - val_loss: 1.0912 - val_accuracy: 0.6703\n",
            "Epoch 13/15\n",
            "11/11 [==============================] - 191s 17s/step - loss: 0.0415 - accuracy: 0.9787 - val_loss: 0.8724 - val_accuracy: 0.7363\n",
            "Epoch 14/15\n",
            "11/11 [==============================] - 189s 17s/step - loss: 0.0599 - accuracy: 0.9756 - val_loss: 0.9668 - val_accuracy: 0.7033\n",
            "Epoch 15/15\n",
            "11/11 [==============================] - 201s 18s/step - loss: 0.0393 - accuracy: 0.9801 - val_loss: 1.2823 - val_accuracy: 0.6264\n",
            "              precision    recall  f1-score   support\n",
            "\n",
            "  Lungcancer       1.00      0.11      0.19        28\n",
            "      Normal       0.93      0.76      0.83        33\n",
            "Tuberculosis       0.48      0.97      0.64        30\n",
            "\n",
            "    accuracy                           0.63        91\n",
            "   macro avg       0.80      0.61      0.55        91\n",
            "weighted avg       0.80      0.63      0.57        91\n",
            "\n",
            "Fold #2\n",
            "Epoch 1/15\n",
            "11/11 [==============================] - 202s 18s/step - loss: 0.1339 - accuracy: 0.9331 - val_loss: 0.2062 - val_accuracy: 0.8889\n",
            "Epoch 2/15\n",
            "11/11 [==============================] - 192s 17s/step - loss: 0.0793 - accuracy: 0.9605 - val_loss: 0.0495 - val_accuracy: 0.9778\n",
            "Epoch 3/15\n",
            "11/11 [==============================] - 190s 17s/step - loss: 0.0746 - accuracy: 0.9635 - val_loss: 0.0250 - val_accuracy: 1.0000\n",
            "Epoch 4/15\n",
            "11/11 [==============================] - 190s 17s/step - loss: 0.0331 - accuracy: 0.9818 - val_loss: 0.0219 - val_accuracy: 0.9889\n",
            "Epoch 5/15\n",
            "11/11 [==============================] - 190s 18s/step - loss: 0.0604 - accuracy: 0.9574 - val_loss: 0.0124 - val_accuracy: 1.0000\n",
            "Epoch 6/15\n",
            "11/11 [==============================] - 190s 17s/step - loss: 0.0254 - accuracy: 0.9909 - val_loss: 0.0162 - val_accuracy: 0.9889\n",
            "              precision    recall  f1-score   support\n",
            "\n",
            "  Lungcancer       1.00      0.97      0.98        33\n",
            "      Normal       1.00      1.00      1.00        26\n",
            "Tuberculosis       0.97      1.00      0.98        31\n",
            "\n",
            "    accuracy                           0.99        90\n",
            "   macro avg       0.99      0.99      0.99        90\n",
            "weighted avg       0.99      0.99      0.99        90\n",
            "\n",
            "Fold #3\n",
            "Epoch 1/15\n",
            "11/11 [==============================] - 190s 17s/step - loss: 0.0427 - accuracy: 0.9696 - val_loss: 0.0838 - val_accuracy: 0.9444\n",
            "Epoch 2/15\n",
            "11/11 [==============================] - 192s 17s/step - loss: 0.0472 - accuracy: 0.9757 - val_loss: 0.0941 - val_accuracy: 0.9444\n",
            "Epoch 3/15\n",
            "11/11 [==============================] - 190s 17s/step - loss: 0.0468 - accuracy: 0.9878 - val_loss: 0.1809 - val_accuracy: 0.9333\n",
            "Epoch 4/15\n",
            "11/11 [==============================] - 190s 17s/step - loss: 0.0286 - accuracy: 0.9909 - val_loss: 0.1660 - val_accuracy: 0.9111\n",
            "              precision    recall  f1-score   support\n",
            "\n",
            "  Lungcancer       1.00      0.97      0.98        29\n",
            "      Normal       1.00      0.79      0.88        33\n",
            "Tuberculosis       0.78      1.00      0.88        28\n",
            "\n",
            "    accuracy                           0.91        90\n",
            "   macro avg       0.93      0.92      0.91        90\n",
            "weighted avg       0.93      0.91      0.91        90\n",
            "\n",
            "Fold #4\n",
            "Epoch 1/15\n",
            "11/11 [==============================] - 189s 17s/step - loss: 0.0271 - accuracy: 0.9848 - val_loss: 0.0047 - val_accuracy: 1.0000\n",
            "Epoch 2/15\n",
            "11/11 [==============================] - 213s 20s/step - loss: 0.0442 - accuracy: 0.9726 - val_loss: 0.0982 - val_accuracy: 0.9333\n",
            "Epoch 3/15\n",
            "11/11 [==============================] - 191s 17s/step - loss: 0.0590 - accuracy: 0.9726 - val_loss: 0.0186 - val_accuracy: 1.0000\n",
            "Epoch 4/15\n",
            "11/11 [==============================] - 191s 17s/step - loss: 0.0077 - accuracy: 1.0000 - val_loss: 0.0088 - val_accuracy: 1.0000\n",
            "              precision    recall  f1-score   support\n",
            "\n",
            "  Lungcancer       1.00      1.00      1.00        30\n",
            "      Normal       1.00      1.00      1.00        31\n",
            "Tuberculosis       1.00      1.00      1.00        29\n",
            "\n",
            "    accuracy                           1.00        90\n",
            "   macro avg       1.00      1.00      1.00        90\n",
            "weighted avg       1.00      1.00      1.00        90\n",
            "\n",
            "Fold #5\n",
            "Epoch 1/15\n",
            "11/11 [==============================] - 190s 17s/step - loss: 0.0328 - accuracy: 0.9848 - val_loss: 6.7009e-04 - val_accuracy: 1.0000\n",
            "Epoch 2/15\n",
            "11/11 [==============================] - 190s 17s/step - loss: 0.0094 - accuracy: 1.0000 - val_loss: 0.1286 - val_accuracy: 0.9333\n",
            "Epoch 3/15\n",
            "11/11 [==============================] - 194s 18s/step - loss: 0.0133 - accuracy: 0.9909 - val_loss: 0.0273 - val_accuracy: 0.9889\n",
            "Epoch 4/15\n",
            "11/11 [==============================] - 190s 17s/step - loss: 0.0151 - accuracy: 0.9970 - val_loss: 0.0106 - val_accuracy: 1.0000\n",
            "              precision    recall  f1-score   support\n",
            "\n",
            "  Lungcancer       1.00      1.00      1.00        30\n",
            "      Normal       1.00      1.00      1.00        28\n",
            "Tuberculosis       1.00      1.00      1.00        32\n",
            "\n",
            "    accuracy                           1.00        90\n",
            "   macro avg       1.00      1.00      1.00        90\n",
            "weighted avg       1.00      1.00      1.00        90\n",
            "\n"
          ]
        }
      ]
    },
    {
      "cell_type": "code",
      "source": [
        "oos_yF = np.concatenate(oos_yF)\n",
        "oos_predF = np.concatenate(oos_predF)"
      ],
      "metadata": {
        "id": "aySotbXFOY5c"
      },
      "execution_count": null,
      "outputs": []
    },
    {
      "cell_type": "code",
      "source": [
        "score = metrics.accuracy_score(oos_yF.argmax(axis=1),\t        #ค่า acc\n",
        "                                             oos_predF.argmax(axis=1) )\n",
        "print(f\"Fold score (accuracy): {score}\")\n",
        "\n",
        "print(classification_report(oos_yF.argmax(axis=1),\t                #แสดง report ค่า acc, recall, ...\n",
        "                                        oos_predF.argmax(axis=1),  \n",
        "                                        target_names=le3_Incep.classes_))"
      ],
      "metadata": {
        "colab": {
          "base_uri": "https://localhost:8080/"
        },
        "id": "iVmdGLryIYpM",
        "outputId": "08cd58fe-2cc2-4ee1-9128-f339c26e09a3"
      },
      "execution_count": null,
      "outputs": [
        {
          "output_type": "stream",
          "name": "stdout",
          "text": [
            "Fold score (accuracy): 0.9046563192904656\n",
            "              precision    recall  f1-score   support\n",
            "\n",
            "  Lungcancer       1.00      0.82      0.90       150\n",
            "      Normal       0.99      0.90      0.94       151\n",
            "Tuberculosis       0.78      0.99      0.88       150\n",
            "\n",
            "    accuracy                           0.90       451\n",
            "   macro avg       0.92      0.90      0.91       451\n",
            "weighted avg       0.92      0.90      0.91       451\n",
            "\n"
          ]
        }
      ]
    },
    {
      "cell_type": "code",
      "source": [
        ""
      ],
      "metadata": {
        "id": "uGGykClEOjHQ"
      },
      "execution_count": null,
      "outputs": []
    },
    {
      "cell_type": "code",
      "source": [
        ""
      ],
      "metadata": {
        "id": "5qat5tt5OiuZ"
      },
      "execution_count": null,
      "outputs": []
    },
    {
      "cell_type": "code",
      "source": [
        "#ลองเซฟโมเดล\n",
        "fold = 2\n",
        "if metrics.accuracy_score( ytest_IncepF.argmax(axis=1),  pred_IncepF.argmax(axis=1) )>0.7:\n",
        "    name = (f' model3_IncepF{fold}')\n",
        "    joblib.dump(model3_IncepF, name)"
      ],
      "metadata": {
        "id": "Wl3fkJIX4RZF",
        "outputId": "5c4c6c97-f8b5-409e-b576-a30a05354de3",
        "colab": {
          "base_uri": "https://localhost:8080/"
        }
      },
      "execution_count": null,
      "outputs": [
        {
          "output_type": "stream",
          "name": "stdout",
          "text": [
            "INFO:tensorflow:Assets written to: ram://a5d1d51e-3da4-454e-81fb-752e887bd981/assets\n"
          ]
        }
      ]
    },
    {
      "cell_type": "markdown",
      "source": [
        "## 1.2) Find Tuning\n",
        "\n",
        "### -->ACC =  0.86 \n",
        "### -->เวลา 7306.17 วินาที \n",
        "\n",
        "*   BS = 32\n",
        "*   activation=\"sigmoid\"\n",
        "*   fix weight & bias in layer 0-100\n",
        "*   learning_rate=0.0001\n",
        "*   epoch 15"
      ],
      "metadata": {
        "id": "Wv5rSOnpZdsO"
      }
    },
    {
      "cell_type": "markdown",
      "source": [
        "##### Data"
      ],
      "metadata": {
        "id": "UQXDu5qXZdsR"
      }
    },
    {
      "cell_type": "code",
      "source": [
        "train_img3_Incep = []\n",
        "for ImageName in tqdm(data_train3['ImageName']):               # รัน ชื่อรูป ในไฟล์ data_test3\n",
        "    image_path = All_3class_dir +'/' + ImageName                   # ดึงรูปในโฟล์เดอร์มาทีละรูป\n",
        "    img = cv2.imread(image_path)                                            # อ่านรูป\n",
        "    img = cv2.resize(img, (299, 299))                                       #ขนาดของ input\n",
        "    train_img3_Incep.append(img)\n",
        "\n",
        "data3_Incep = np.array(train_img3_Incep, dtype=\"float32\") / 255.0"
      ],
      "metadata": {
        "outputId": "eebdb6ae-5486-467d-9485-788fa7b99d48",
        "colab": {
          "base_uri": "https://localhost:8080/"
        },
        "id": "DF6X-hOmZdsS"
      },
      "execution_count": 12,
      "outputs": [
        {
          "output_type": "stream",
          "name": "stderr",
          "text": [
            "100%|██████████| 451/451 [01:48<00:00,  4.16it/s]\n"
          ]
        }
      ]
    },
    {
      "cell_type": "code",
      "source": [
        "labels3_Incep = np.array(data_train3[['NameType']] )        \n",
        "labels3_Incep.shape = (len(labels3_Incep),) \n",
        "\n",
        "le3_Incep = LabelEncoder()                                                                     \n",
        "labels3_Incep = le3_Incep.fit_transform(labels3_Incep)                                         #จะแปลงชื่อ class เป็นตัวเลข 1, 2, 0 \n",
        "\n",
        "labels3_Incep = to_categorical(labels3_Incep, num_classes=3)                   #shape (180, 3) มีค่าเป็น  [0., 1., 0.]  กับ   [0., 0., 1.] กับ  [1., 0., 0.]"
      ],
      "metadata": {
        "id": "Or1-SYMeZdsU"
      },
      "execution_count": 13,
      "outputs": []
    },
    {
      "cell_type": "markdown",
      "source": [
        "##### Model"
      ],
      "metadata": {
        "id": "-YFyUAR9ZdsV"
      }
    },
    {
      "cell_type": "code",
      "source": [
        "base_model3_Incep = tf.keras.applications.InceptionV3(input_shape=(299, 299, 3), include_top=False, weights=\"imagenet\")\n",
        "len(base_model3_Incep.layers)"
      ],
      "metadata": {
        "outputId": "8337ebb4-fcd7-410a-c8dd-635fbbd263b2",
        "colab": {
          "base_uri": "https://localhost:8080/"
        },
        "id": "0PkxT2TUZdsV"
      },
      "execution_count": 14,
      "outputs": [
        {
          "output_type": "stream",
          "name": "stdout",
          "text": [
            "Downloading data from https://storage.googleapis.com/tensorflow/keras-applications/inception_v3/inception_v3_weights_tf_dim_ordering_tf_kernels_notop.h5\n",
            "87916544/87910968 [==============================] - 0s 0us/step\n",
            "87924736/87910968 [==============================] - 0s 0us/step\n"
          ]
        },
        {
          "output_type": "execute_result",
          "data": {
            "text/plain": [
              "311"
            ]
          },
          "metadata": {},
          "execution_count": 14
        }
      ]
    },
    {
      "cell_type": "code",
      "source": [
        "base_model3_Incep.trainable = True\n",
        "for layer in base_model3_Incep.layers[:100]:    #fix w & bias in layer 0-100\n",
        "    layer.trainable = False"
      ],
      "metadata": {
        "id": "IxqqJH9wZdsW"
      },
      "execution_count": 15,
      "outputs": []
    },
    {
      "cell_type": "code",
      "source": [
        "#Add custom head\n",
        "average_pooling_layer = tf.keras.layers.GlobalAveragePooling2D()(base_model3_Incep.output)\n",
        "\n",
        "prediction_layer = tf.keras.layers.Dense(units=3, activation=\"sigmoid\")(average_pooling_layer)   # unit 3\n",
        "model3_IncepF12 = tf.keras.models.Model(inputs=base_model3_Incep.input, outputs=prediction_layer)\n",
        "\n",
        "model3_IncepF12.compile(optimizer=tf.keras.optimizers.RMSprop(learning_rate=0.0001), loss=\"binary_crossentropy\", metrics=[\"accuracy\"])"
      ],
      "metadata": {
        "id": "KnYZqo7cZdsW"
      },
      "execution_count": 16,
      "outputs": []
    },
    {
      "cell_type": "code",
      "source": [
        "INIT_LR = 1e-1\n",
        "BS32 = 32\n",
        "EPOCHS = 50\n",
        "\n",
        "aug12 = ImageDataGenerator(\n",
        "\t\trotation_range=15,\t\t\t\t\t\t#องศาการหมุน\n",
        "\t\twidth_shift_range=0.1,\n",
        "\t\theight_shift_range=0.1,\n",
        "\t\tshear_range=0.15,\n",
        "\t\thorizontal_flip=True,\n",
        "\t\tfill_mode=\"nearest\")\n",
        "\n",
        "callback = tf.keras.callbacks.EarlyStopping(\n",
        "                monitor=\"val_accuracy\",\n",
        "                patience=3,\n",
        "                mode=\"max\" )"
      ],
      "metadata": {
        "id": "61802GE8ZdsX"
      },
      "execution_count": 17,
      "outputs": []
    },
    {
      "cell_type": "code",
      "source": [
        "kf_IncepF12 = KFold(5, shuffle=True, random_state=40) \n",
        "\n",
        "oos_yF12 = []\n",
        "oos_predF12 = []\n",
        "fold = 0\n",
        "\n",
        "for train, test in kf_IncepF12.split(data3_Incep):\n",
        "    fold+=1\n",
        "    print(f\"Fold #{fold}\")\n",
        "        \n",
        "    xtrain_IncepF12 = data3_Incep[train]\n",
        "    ytrain_IncepF12 = labels3_Incep[train]\n",
        "    xtest_IncepF12 = data3_Incep[test]\n",
        "    ytest_IncepF12 = labels3_Incep[test]\n",
        "\n",
        "    M_IncepF12 = model3_IncepF12.fit( x=aug12.flow(xtrain_IncepF12, ytrain_IncepF12, batch_size=BS32),\n",
        "\t                                            validation_data=(xtest_IncepF12, ytest_IncepF12),\n",
        "\t                                            steps_per_epoch=len(xtrain_IncepF12) // BS32,\n",
        "\t                                            epochs=15,  callbacks = [callback])\n",
        "    \n",
        "    pred_IncepF12 = model3_IncepF12.predict(xtest_IncepF12)\n",
        "    \n",
        "    oos_yF12.append(ytest_IncepF12)\n",
        "    oos_predF12.append(pred_IncepF12)  \n",
        "    print(classification_report(ytest_IncepF12.argmax(axis=1),\t                #แสดง report ค่า acc, recall, ...\n",
        "                                        pred_IncepF12.argmax(axis=1),  \n",
        "                                        target_names=le3_Incep.classes_))\n",
        "\n",
        "#   score = metrics.accuracy_score(ytest_IncepF.argmax(axis=1),\t        #ค่า acc\n",
        "#                                               pred_IncepF.argmax(axis=1)\n",
        "#    print(f\"Fold score (accuracy): {score}\")\n",
        "\n",
        "#    print(confusion_matrix(ytest_IncepF.argmax(axis=1),\t                       #แสดง confusion_matrix\n",
        "#                        pred3_IncepF.argmax(axis=1) ) )"
      ],
      "metadata": {
        "outputId": "cc1d7de4-6bcb-428c-e89a-5d81012d59cb",
        "colab": {
          "base_uri": "https://localhost:8080/"
        },
        "id": "Enu_UeGfZdsX"
      },
      "execution_count": 18,
      "outputs": [
        {
          "output_type": "stream",
          "name": "stdout",
          "text": [
            "Fold #1\n",
            "Epoch 1/15\n",
            "11/11 [==============================] - 195s 17s/step - loss: 0.5603 - accuracy: 0.6159 - val_loss: 0.8161 - val_accuracy: 0.3956\n",
            "Epoch 2/15\n",
            "11/11 [==============================] - 182s 18s/step - loss: 0.3375 - accuracy: 0.7896 - val_loss: 0.8045 - val_accuracy: 0.4505\n",
            "Epoch 3/15\n",
            "11/11 [==============================] - 183s 17s/step - loss: 0.2700 - accuracy: 0.8598 - val_loss: 0.7342 - val_accuracy: 0.6044\n",
            "Epoch 4/15\n",
            "11/11 [==============================] - 184s 17s/step - loss: 0.1899 - accuracy: 0.9085 - val_loss: 0.8486 - val_accuracy: 0.5824\n",
            "Epoch 5/15\n",
            "11/11 [==============================] - 182s 17s/step - loss: 0.1314 - accuracy: 0.9482 - val_loss: 1.0472 - val_accuracy: 0.5495\n",
            "Epoch 6/15\n",
            "11/11 [==============================] - 181s 16s/step - loss: 0.1045 - accuracy: 0.9543 - val_loss: 1.0726 - val_accuracy: 0.5714\n",
            "              precision    recall  f1-score   support\n",
            "\n",
            "  Lungcancer       0.80      0.14      0.24        28\n",
            "      Normal       0.56      1.00      0.72        33\n",
            "Tuberculosis       0.56      0.50      0.53        30\n",
            "\n",
            "    accuracy                           0.57        91\n",
            "   macro avg       0.64      0.55      0.50        91\n",
            "weighted avg       0.63      0.57      0.51        91\n",
            "\n",
            "Fold #2\n",
            "Epoch 1/15\n",
            "11/11 [==============================] - 181s 16s/step - loss: 0.1403 - accuracy: 0.9210 - val_loss: 0.8632 - val_accuracy: 0.6111\n",
            "Epoch 2/15\n",
            "11/11 [==============================] - 187s 17s/step - loss: 0.1122 - accuracy: 0.9331 - val_loss: 0.8853 - val_accuracy: 0.5667\n",
            "Epoch 3/15\n",
            "11/11 [==============================] - 181s 18s/step - loss: 0.1298 - accuracy: 0.9301 - val_loss: 0.8874 - val_accuracy: 0.6444\n",
            "Epoch 4/15\n",
            "11/11 [==============================] - 181s 17s/step - loss: 0.0882 - accuracy: 0.9544 - val_loss: 0.7083 - val_accuracy: 0.6889\n",
            "Epoch 5/15\n",
            "11/11 [==============================] - 181s 16s/step - loss: 0.0834 - accuracy: 0.9574 - val_loss: 0.6151 - val_accuracy: 0.7111\n",
            "Epoch 6/15\n",
            "11/11 [==============================] - 181s 18s/step - loss: 0.0428 - accuracy: 0.9848 - val_loss: 0.3231 - val_accuracy: 0.8556\n",
            "Epoch 7/15\n",
            "11/11 [==============================] - 181s 16s/step - loss: 0.0260 - accuracy: 1.0000 - val_loss: 0.4256 - val_accuracy: 0.8333\n",
            "Epoch 8/15\n",
            "11/11 [==============================] - 181s 16s/step - loss: 0.0716 - accuracy: 0.9635 - val_loss: 0.2267 - val_accuracy: 0.8667\n",
            "Epoch 9/15\n",
            "11/11 [==============================] - 181s 16s/step - loss: 0.0397 - accuracy: 0.9818 - val_loss: 0.2218 - val_accuracy: 0.9000\n",
            "Epoch 10/15\n",
            "11/11 [==============================] - 181s 16s/step - loss: 0.0660 - accuracy: 0.9635 - val_loss: 0.0589 - val_accuracy: 0.9556\n",
            "Epoch 11/15\n",
            "11/11 [==============================] - 181s 16s/step - loss: 0.0321 - accuracy: 0.9848 - val_loss: 0.0997 - val_accuracy: 0.9444\n",
            "Epoch 12/15\n",
            "11/11 [==============================] - 181s 16s/step - loss: 0.0334 - accuracy: 0.9818 - val_loss: 0.0887 - val_accuracy: 0.9667\n",
            "Epoch 13/15\n",
            "11/11 [==============================] - 181s 16s/step - loss: 0.0249 - accuracy: 0.9939 - val_loss: 0.0483 - val_accuracy: 0.9778\n",
            "Epoch 14/15\n",
            "11/11 [==============================] - 182s 17s/step - loss: 0.0416 - accuracy: 0.9787 - val_loss: 0.2253 - val_accuracy: 0.8778\n",
            "Epoch 15/15\n",
            "11/11 [==============================] - 182s 17s/step - loss: 0.0270 - accuracy: 0.9848 - val_loss: 0.0184 - val_accuracy: 1.0000\n",
            "              precision    recall  f1-score   support\n",
            "\n",
            "  Lungcancer       1.00      1.00      1.00        33\n",
            "      Normal       1.00      1.00      1.00        26\n",
            "Tuberculosis       1.00      1.00      1.00        31\n",
            "\n",
            "    accuracy                           1.00        90\n",
            "   macro avg       1.00      1.00      1.00        90\n",
            "weighted avg       1.00      1.00      1.00        90\n",
            "\n",
            "Fold #3\n",
            "Epoch 1/15\n",
            "11/11 [==============================] - 182s 17s/step - loss: 0.0456 - accuracy: 0.9787 - val_loss: 0.1340 - val_accuracy: 0.9333\n",
            "Epoch 2/15\n",
            "11/11 [==============================] - 181s 16s/step - loss: 0.0361 - accuracy: 0.9878 - val_loss: 0.6008 - val_accuracy: 0.7222\n",
            "Epoch 3/15\n",
            "11/11 [==============================] - 181s 16s/step - loss: 0.0457 - accuracy: 0.9787 - val_loss: 0.2027 - val_accuracy: 0.9222\n",
            "Epoch 4/15\n",
            "11/11 [==============================] - 181s 16s/step - loss: 0.0201 - accuracy: 0.9909 - val_loss: 1.0499 - val_accuracy: 0.7778\n",
            "              precision    recall  f1-score   support\n",
            "\n",
            "  Lungcancer       1.00      0.31      0.47        29\n",
            "      Normal       1.00      1.00      1.00        33\n",
            "Tuberculosis       0.58      1.00      0.74        28\n",
            "\n",
            "    accuracy                           0.78        90\n",
            "   macro avg       0.86      0.77      0.74        90\n",
            "weighted avg       0.87      0.78      0.75        90\n",
            "\n",
            "Fold #4\n",
            "Epoch 1/15\n",
            "11/11 [==============================] - 181s 16s/step - loss: 0.0342 - accuracy: 0.9878 - val_loss: 0.3375 - val_accuracy: 0.8222\n",
            "Epoch 2/15\n",
            "11/11 [==============================] - 182s 17s/step - loss: 0.0579 - accuracy: 0.9696 - val_loss: 0.1121 - val_accuracy: 0.9556\n",
            "Epoch 3/15\n",
            "11/11 [==============================] - 183s 17s/step - loss: 0.0100 - accuracy: 0.9970 - val_loss: 0.1768 - val_accuracy: 0.9333\n",
            "Epoch 4/15\n",
            "11/11 [==============================] - 185s 17s/step - loss: 0.0147 - accuracy: 0.9939 - val_loss: 0.2770 - val_accuracy: 0.8889\n",
            "Epoch 5/15\n",
            "11/11 [==============================] - 183s 17s/step - loss: 0.0474 - accuracy: 0.9787 - val_loss: 0.0030 - val_accuracy: 1.0000\n",
            "Epoch 6/15\n",
            "11/11 [==============================] - 183s 17s/step - loss: 0.0201 - accuracy: 0.9878 - val_loss: 0.0181 - val_accuracy: 0.9889\n",
            "Epoch 7/15\n",
            "11/11 [==============================] - 183s 17s/step - loss: 0.0121 - accuracy: 0.9970 - val_loss: 0.4390 - val_accuracy: 0.8556\n",
            "Epoch 8/15\n",
            "11/11 [==============================] - 185s 17s/step - loss: 0.0099 - accuracy: 0.9970 - val_loss: 0.0146 - val_accuracy: 0.9889\n",
            "              precision    recall  f1-score   support\n",
            "\n",
            "  Lungcancer       1.00      0.97      0.98        30\n",
            "      Normal       1.00      1.00      1.00        31\n",
            "Tuberculosis       0.97      1.00      0.98        29\n",
            "\n",
            "    accuracy                           0.99        90\n",
            "   macro avg       0.99      0.99      0.99        90\n",
            "weighted avg       0.99      0.99      0.99        90\n",
            "\n",
            "Fold #5\n",
            "Epoch 1/15\n",
            "11/11 [==============================] - 186s 17s/step - loss: 0.0056 - accuracy: 1.0000 - val_loss: 0.0158 - val_accuracy: 1.0000\n",
            "Epoch 2/15\n",
            "11/11 [==============================] - 185s 17s/step - loss: 0.0134 - accuracy: 0.9970 - val_loss: 0.2080 - val_accuracy: 0.9111\n",
            "Epoch 3/15\n",
            "11/11 [==============================] - 185s 17s/step - loss: 0.0288 - accuracy: 0.9878 - val_loss: 0.4355 - val_accuracy: 0.8778\n",
            "Epoch 4/15\n",
            "11/11 [==============================] - 183s 17s/step - loss: 0.0455 - accuracy: 0.9878 - val_loss: 0.0700 - val_accuracy: 0.9778\n",
            "              precision    recall  f1-score   support\n",
            "\n",
            "  Lungcancer       1.00      0.97      0.98        30\n",
            "      Normal       1.00      0.96      0.98        28\n",
            "Tuberculosis       0.94      1.00      0.97        32\n",
            "\n",
            "    accuracy                           0.98        90\n",
            "   macro avg       0.98      0.98      0.98        90\n",
            "weighted avg       0.98      0.98      0.98        90\n",
            "\n"
          ]
        }
      ]
    },
    {
      "cell_type": "code",
      "source": [
        "oos_yF12 = np.concatenate(oos_yF12)\n",
        "oos_predF12 = np.concatenate(oos_predF12)"
      ],
      "metadata": {
        "id": "v2S5KclzZdsZ"
      },
      "execution_count": 19,
      "outputs": []
    },
    {
      "cell_type": "code",
      "source": [
        "score = metrics.accuracy_score(oos_yF12.argmax(axis=1),\t        #ค่า acc\n",
        "                                             oos_predF12.argmax(axis=1) )\n",
        "print(f\"Fold score (accuracy): {score}\")\n",
        "\n",
        "print(classification_report(oos_yF12.argmax(axis=1),\t                #แสดง report ค่า acc, recall, ...\n",
        "                                        oos_predF12.argmax(axis=1),  \n",
        "                                        target_names=le3_Incep.classes_))"
      ],
      "metadata": {
        "colab": {
          "base_uri": "https://localhost:8080/"
        },
        "outputId": "69221c13-ccf4-4dfe-bd3a-9df3f4da79c7",
        "id": "skSOgpuUZdsa"
      },
      "execution_count": 20,
      "outputs": [
        {
          "output_type": "stream",
          "name": "stdout",
          "text": [
            "Fold score (accuracy): 0.8625277161862528\n",
            "              precision    recall  f1-score   support\n",
            "\n",
            "  Lungcancer       0.99      0.69      0.82       150\n",
            "      Normal       0.85      0.99      0.92       151\n",
            "Tuberculosis       0.79      0.90      0.84       150\n",
            "\n",
            "    accuracy                           0.86       451\n",
            "   macro avg       0.88      0.86      0.86       451\n",
            "weighted avg       0.88      0.86      0.86       451\n",
            "\n"
          ]
        }
      ]
    },
    {
      "cell_type": "markdown",
      "source": [
        "## 2) Find Tuning  \n",
        "\n",
        "###--> ACC = 0.76  \n",
        "###--> ใช้เวลา 8173.251 วินาที = 136.22 นาที = 2.27 ชั่วโมง\n",
        "\n",
        "*   BS = 16\n",
        "*   activation=\"softmax\"\n",
        "*   fix weight & bias in layer 0-100\n",
        "*   learning_rate=0.0001\n",
        "*   epoch 30\n"
      ],
      "metadata": {
        "id": "vYCx5EmvSb75"
      }
    },
    {
      "cell_type": "markdown",
      "source": [
        "##### Data"
      ],
      "metadata": {
        "id": "-aiw9cWnSsoB"
      }
    },
    {
      "cell_type": "code",
      "source": [
        "train_img3_Incep = []\n",
        "for ImageName in tqdm(data_train3['ImageName']):               # รัน ชื่อรูป ในไฟล์ data_test3\n",
        "    image_path = All_3class_dir +'/' + ImageName                   # ดึงรูปในโฟล์เดอร์มาทีละรูป\n",
        "    img = cv2.imread(image_path)                                            # อ่านรูป\n",
        "    img = cv2.resize(img, (299, 299))                                       #ขนาดของ input\n",
        "    train_img3_Incep.append(img)\n",
        "\n",
        "data3_Incep = np.array(train_img3_Incep, dtype=\"float32\") / 255.0"
      ],
      "metadata": {
        "outputId": "94fd67e2-4c83-43c2-aabb-625582d90761",
        "colab": {
          "base_uri": "https://localhost:8080/"
        },
        "id": "k10f7ZXMSb76"
      },
      "execution_count": null,
      "outputs": [
        {
          "output_type": "stream",
          "name": "stderr",
          "text": [
            "100%|██████████| 451/451 [03:31<00:00,  2.13it/s]\n"
          ]
        }
      ]
    },
    {
      "cell_type": "code",
      "source": [
        "labels3_Incep = np.array(data_train3[['NameType']] )        \n",
        "labels3_Incep.shape = (len(labels3_Incep),) \n",
        "\n",
        "le3_Incep = LabelEncoder()                                                                     \n",
        "labels3_Incep = le3_Incep.fit_transform(labels3_Incep)                                         #จะแปลงชื่อ class เป็นตัวเลข 1, 2, 0 \n",
        "\n",
        "labels3_Incep = to_categorical(labels3_Incep, num_classes=3)                   #shape (180, 3) มีค่าเป็น  [0., 1., 0.]  กับ   [0., 0., 1.] กับ  [1., 0., 0.]"
      ],
      "metadata": {
        "id": "V2fV10GkSb77"
      },
      "execution_count": null,
      "outputs": []
    },
    {
      "cell_type": "markdown",
      "source": [
        "##### Model"
      ],
      "metadata": {
        "id": "To8jsVdhSxEW"
      }
    },
    {
      "cell_type": "code",
      "source": [
        "base_model3_Incep = tf.keras.applications.InceptionV3(input_shape=(299, 299, 3), include_top=False, weights=\"imagenet\")\n",
        "len(base_model3_Incep.layers)"
      ],
      "metadata": {
        "outputId": "f599e891-db64-49d3-8b2b-2c2555f65f0f",
        "colab": {
          "base_uri": "https://localhost:8080/"
        },
        "id": "z7m_pUvWSb78"
      },
      "execution_count": null,
      "outputs": [
        {
          "output_type": "stream",
          "name": "stdout",
          "text": [
            "Downloading data from https://storage.googleapis.com/tensorflow/keras-applications/inception_v3/inception_v3_weights_tf_dim_ordering_tf_kernels_notop.h5\n",
            "87916544/87910968 [==============================] - 1s 0us/step\n",
            "87924736/87910968 [==============================] - 1s 0us/step\n"
          ]
        },
        {
          "output_type": "execute_result",
          "data": {
            "text/plain": [
              "311"
            ]
          },
          "metadata": {},
          "execution_count": 14
        }
      ]
    },
    {
      "cell_type": "code",
      "source": [
        "base_model3_Incep.trainable = True\n",
        "for layer in base_model3_Incep.layers[:100]:    #fix w & bias in layer 0-100\n",
        "    layer.trainable = False"
      ],
      "metadata": {
        "id": "B6enx__aSb79"
      },
      "execution_count": null,
      "outputs": []
    },
    {
      "cell_type": "code",
      "source": [
        "#Add custom head\n",
        "average_pooling_layer = tf.keras.layers.GlobalAveragePooling2D()(base_model3_Incep.output)\n",
        "\n",
        "prediction_layer = tf.keras.layers.Dense(units=3, activation=\"softmax\")(average_pooling_layer)   # unit 3\n",
        "model3_IncepF2 = tf.keras.models.Model(inputs=base_model3_Incep.input, outputs=prediction_layer)\n",
        "\n",
        "model3_IncepF2.compile(optimizer=tf.keras.optimizers.RMSprop(learning_rate=0.0001), loss=\"binary_crossentropy\", metrics=[\"accuracy\"])"
      ],
      "metadata": {
        "id": "r8mTzLV7Sb79"
      },
      "execution_count": null,
      "outputs": []
    },
    {
      "cell_type": "code",
      "source": [
        "INIT_LR = 1e-1\n",
        "BS = 16\n",
        "EPOCHS = 50\n",
        "\n",
        "aug2 = ImageDataGenerator(\n",
        "\t\trotation_range=15,\t\t\t\t\t\t#องศาการหมุน\n",
        "\t\twidth_shift_range=0.15,\t\t\t\t  #เลื่อนลง-ขึ้น ซ้ายขวา\n",
        "\t\theight_shift_range=0.15,\n",
        "\t\tshear_range=0.15, \t\t\t\t\t\t#ขยับมุมภาพ ซ้าย และ/หรือ ขวา ไปด้านข้าง เช่น จะกลายเป็นสี่เหลี่ยมด้านขนาน \n",
        "\t\thorizontal_flip=True,\n",
        "\t\tfill_mode='constant')\n",
        "\n",
        "callback = tf.keras.callbacks.EarlyStopping(\n",
        "                monitor=\"val_accuracy\",\n",
        "                patience=3,\n",
        "                mode=\"max\" )"
      ],
      "metadata": {
        "id": "rZMhxgf6WWfU"
      },
      "execution_count": null,
      "outputs": []
    },
    {
      "cell_type": "code",
      "source": [
        "kf_IncepF2 = KFold(5, shuffle=True, random_state=40) \n",
        "\n",
        "oos_yF2 = []\n",
        "oos_predF2 = []\n",
        "fold = 0\n",
        "\n",
        "for train, test in kf_IncepF2.split(data3_Incep):\n",
        "    fold+=1\n",
        "    print(f\"Fold #{fold}\")\n",
        "        \n",
        "    xtrain_IncepF2 = data3_Incep[train]\n",
        "    ytrain_IncepF2 = labels3_Incep[train]\n",
        "    xtest_IncepF2 = data3_Incep[test]\n",
        "    ytest_IncepF2 = labels3_Incep[test]\n",
        "\n",
        "    M_IncepF2 = model3_IncepF2.fit( x=aug2.flow(xtrain_IncepF2, ytrain_IncepF2, batch_size=BS),\n",
        "\t                                            validation_data=(xtest_IncepF2, ytest_IncepF2),\n",
        "\t                                            steps_per_epoch=len(xtrain_IncepF2) // BS,\n",
        "\t                                            epochs=30,  callbacks = [callback])\n",
        "    \n",
        "    pred_IncepF2 = model3_IncepF2.predict(xtest_IncepF2)\n",
        "\n",
        "    oos_yF2.append(ytest_IncepF2)\n",
        "    oos_predF2.append(pred_IncepF2) \n",
        "\n",
        "    score = metrics.accuracy_score(ytest_IncepF2.argmax(axis=1),\t        #ค่า acc\n",
        "                                               pred_IncepF2.argmax(axis=1) )\n",
        "    print(f'Fold #{fold} score (accuracy): {score}')\n",
        "    \n",
        "\n",
        "#    if metrics.accuracy_score( ytest_IncepF2.argmax(axis=1),  pred_IncepF2.argmax(axis=1) )>0.9:\n",
        " #       name = (f' model3_IncepF2_Fold{fold}')\n",
        "  #      joblib.dump(model3_IncepF2, name)\n",
        "\n",
        "#    print(confusion_matrix(ytest_IncepF.argmax(axis=1),\t                       #แสดง confusion_matrix\n",
        "#                        pred3_IncepF.argmax(axis=1) ) )"
      ],
      "metadata": {
        "id": "egNq8bzjSb7-",
        "outputId": "20a0d6b3-7611-4a88-f2cd-b9793599ea42",
        "colab": {
          "base_uri": "https://localhost:8080/"
        }
      },
      "execution_count": null,
      "outputs": [
        {
          "output_type": "stream",
          "name": "stdout",
          "text": [
            "Fold #1\n",
            "Epoch 1/30\n",
            "22/22 [==============================] - 187s 8s/step - loss: 0.4612 - accuracy: 0.6686 - val_loss: 1.4591 - val_accuracy: 0.3736\n",
            "Epoch 2/30\n",
            "22/22 [==============================] - 175s 8s/step - loss: 0.3046 - accuracy: 0.8052 - val_loss: 1.3021 - val_accuracy: 0.4396\n",
            "Epoch 3/30\n",
            "22/22 [==============================] - 173s 8s/step - loss: 0.2600 - accuracy: 0.8314 - val_loss: 1.0278 - val_accuracy: 0.5055\n",
            "Epoch 4/30\n",
            "22/22 [==============================] - 174s 8s/step - loss: 0.2032 - accuracy: 0.8634 - val_loss: 1.0180 - val_accuracy: 0.5714\n",
            "Epoch 5/30\n",
            "22/22 [==============================] - 174s 8s/step - loss: 0.1327 - accuracy: 0.9331 - val_loss: 1.1071 - val_accuracy: 0.6044\n",
            "Epoch 6/30\n",
            "22/22 [==============================] - 174s 8s/step - loss: 0.1238 - accuracy: 0.9331 - val_loss: 0.7453 - val_accuracy: 0.6813\n",
            "Epoch 7/30\n",
            "22/22 [==============================] - 174s 8s/step - loss: 0.1349 - accuracy: 0.9390 - val_loss: 0.4770 - val_accuracy: 0.7692\n",
            "Epoch 8/30\n",
            "22/22 [==============================] - 175s 8s/step - loss: 0.0967 - accuracy: 0.9419 - val_loss: 0.7612 - val_accuracy: 0.7253\n",
            "Epoch 9/30\n",
            "22/22 [==============================] - 174s 8s/step - loss: 0.1191 - accuracy: 0.9448 - val_loss: 0.8543 - val_accuracy: 0.7363\n",
            "Epoch 10/30\n",
            "22/22 [==============================] - 174s 8s/step - loss: 0.1030 - accuracy: 0.9477 - val_loss: 0.5157 - val_accuracy: 0.7802\n",
            "Epoch 11/30\n",
            "22/22 [==============================] - 174s 8s/step - loss: 0.0686 - accuracy: 0.9593 - val_loss: 0.4468 - val_accuracy: 0.8132\n",
            "Epoch 12/30\n",
            "22/22 [==============================] - 175s 8s/step - loss: 0.0942 - accuracy: 0.9448 - val_loss: 1.1380 - val_accuracy: 0.6484\n",
            "Epoch 13/30\n",
            "22/22 [==============================] - 174s 8s/step - loss: 0.0707 - accuracy: 0.9738 - val_loss: 1.3827 - val_accuracy: 0.6154\n",
            "Epoch 14/30\n",
            "22/22 [==============================] - 174s 8s/step - loss: 0.0738 - accuracy: 0.9564 - val_loss: 0.7987 - val_accuracy: 0.7473\n",
            "Fold #1 score (accuracy): 0.7472527472527473\n",
            "Fold #2\n",
            "Epoch 1/30\n",
            "22/22 [==============================] - 177s 8s/step - loss: 0.1832 - accuracy: 0.9091 - val_loss: 0.1171 - val_accuracy: 0.9333\n",
            "Epoch 2/30\n",
            "22/22 [==============================] - 175s 8s/step - loss: 0.1041 - accuracy: 0.9391 - val_loss: 0.5727 - val_accuracy: 0.7444\n",
            "Epoch 3/30\n",
            "22/22 [==============================] - 175s 8s/step - loss: 0.1013 - accuracy: 0.9449 - val_loss: 0.5324 - val_accuracy: 0.7556\n",
            "Epoch 4/30\n",
            "22/22 [==============================] - 175s 8s/step - loss: 0.0800 - accuracy: 0.9536 - val_loss: 1.4089 - val_accuracy: 0.5000\n",
            "Fold #2 score (accuracy): 0.5\n",
            "Fold #3\n",
            "Epoch 1/30\n",
            "22/22 [==============================] - 173s 8s/step - loss: 0.0615 - accuracy: 0.9594 - val_loss: 1.1392 - val_accuracy: 0.5667\n",
            "Epoch 2/30\n",
            "22/22 [==============================] - 178s 8s/step - loss: 0.0275 - accuracy: 0.9884 - val_loss: 4.2653 - val_accuracy: 0.3444\n",
            "Epoch 3/30\n",
            "22/22 [==============================] - 175s 8s/step - loss: 0.0445 - accuracy: 0.9797 - val_loss: 0.9746 - val_accuracy: 0.6333\n",
            "Epoch 4/30\n",
            "22/22 [==============================] - 181s 8s/step - loss: 0.0704 - accuracy: 0.9594 - val_loss: 2.3216 - val_accuracy: 0.4778\n",
            "Epoch 5/30\n",
            "22/22 [==============================] - 175s 8s/step - loss: 0.0239 - accuracy: 0.9884 - val_loss: 0.7600 - val_accuracy: 0.7333\n",
            "Epoch 6/30\n",
            "22/22 [==============================] - 178s 8s/step - loss: 0.0626 - accuracy: 0.9652 - val_loss: 1.9598 - val_accuracy: 0.5444\n",
            "Epoch 7/30\n",
            "22/22 [==============================] - 176s 8s/step - loss: 0.0308 - accuracy: 0.9884 - val_loss: 0.1096 - val_accuracy: 0.9444\n",
            "Epoch 8/30\n",
            "22/22 [==============================] - 176s 8s/step - loss: 0.0297 - accuracy: 0.9855 - val_loss: 0.0256 - val_accuracy: 0.9889\n",
            "Epoch 9/30\n",
            "22/22 [==============================] - 176s 8s/step - loss: 0.0389 - accuracy: 0.9884 - val_loss: 0.0468 - val_accuracy: 0.9667\n",
            "Epoch 10/30\n",
            "22/22 [==============================] - 176s 8s/step - loss: 0.0492 - accuracy: 0.9768 - val_loss: 0.1796 - val_accuracy: 0.9222\n",
            "Epoch 11/30\n",
            "22/22 [==============================] - 177s 8s/step - loss: 0.0191 - accuracy: 0.9942 - val_loss: 0.0633 - val_accuracy: 0.9778\n",
            "Fold #3 score (accuracy): 0.9777777777777777\n",
            "Fold #4\n",
            "Epoch 1/30\n",
            "22/22 [==============================] - 173s 8s/step - loss: 0.0411 - accuracy: 0.9797 - val_loss: 6.9521e-04 - val_accuracy: 1.0000\n",
            "Epoch 2/30\n",
            "22/22 [==============================] - 173s 8s/step - loss: 0.0550 - accuracy: 0.9681 - val_loss: 0.0266 - val_accuracy: 0.9778\n",
            "Epoch 3/30\n",
            "22/22 [==============================] - 173s 8s/step - loss: 0.0718 - accuracy: 0.9536 - val_loss: 0.4536 - val_accuracy: 0.8556\n",
            "Epoch 4/30\n",
            "22/22 [==============================] - 173s 8s/step - loss: 0.0314 - accuracy: 0.9826 - val_loss: 1.1395 - val_accuracy: 0.6556\n",
            "Fold #4 score (accuracy): 0.6555555555555556\n",
            "Fold #5\n",
            "Epoch 1/30\n",
            "22/22 [==============================] - 182s 8s/step - loss: 0.0411 - accuracy: 0.9739 - val_loss: 0.2129 - val_accuracy: 0.9000\n",
            "Epoch 2/30\n",
            "22/22 [==============================] - 173s 8s/step - loss: 0.0437 - accuracy: 0.9855 - val_loss: 0.4927 - val_accuracy: 0.8444\n",
            "Epoch 3/30\n",
            "22/22 [==============================] - 173s 8s/step - loss: 0.0470 - accuracy: 0.9797 - val_loss: 0.0174 - val_accuracy: 0.9889\n",
            "Epoch 4/30\n",
            "22/22 [==============================] - 173s 8s/step - loss: 0.0149 - accuracy: 0.9942 - val_loss: 0.5257 - val_accuracy: 0.8333\n",
            "Epoch 5/30\n",
            "22/22 [==============================] - 173s 8s/step - loss: 0.0215 - accuracy: 0.9884 - val_loss: 0.3366 - val_accuracy: 0.8778\n",
            "Epoch 6/30\n",
            "22/22 [==============================] - 173s 8s/step - loss: 0.0213 - accuracy: 0.9884 - val_loss: 0.0042 - val_accuracy: 1.0000\n",
            "Epoch 7/30\n",
            "22/22 [==============================] - 173s 8s/step - loss: 0.0272 - accuracy: 0.9884 - val_loss: 0.0036 - val_accuracy: 1.0000\n",
            "Epoch 8/30\n",
            "22/22 [==============================] - 173s 8s/step - loss: 0.0313 - accuracy: 0.9884 - val_loss: 0.0024 - val_accuracy: 1.0000\n",
            "Epoch 9/30\n",
            "22/22 [==============================] - 174s 8s/step - loss: 0.0290 - accuracy: 0.9913 - val_loss: 0.1369 - val_accuracy: 0.9333\n",
            "Fold #5 score (accuracy): 0.9333333333333333\n"
          ]
        }
      ]
    },
    {
      "cell_type": "code",
      "source": [
        "oos_yF2 = np.concatenate(oos_yF2)\n",
        "oos_predF2 = np.concatenate(oos_predF2)"
      ],
      "metadata": {
        "id": "B0SObLRLQhwq"
      },
      "execution_count": null,
      "outputs": []
    },
    {
      "cell_type": "code",
      "source": [
        "print(classification_report(oos_yF2.argmax(axis=1),\t                #แสดง report ค่า acc, recall, ...\n",
        "                                        oos_predF2.argmax(axis=1),  \n",
        "                                        target_names=le3_Incep.classes_))"
      ],
      "metadata": {
        "id": "3TZeRHN6EBB_",
        "colab": {
          "base_uri": "https://localhost:8080/"
        },
        "outputId": "5de8605b-f86e-482e-fa73-76afd8571d5d"
      },
      "execution_count": null,
      "outputs": [
        {
          "output_type": "stream",
          "name": "stdout",
          "text": [
            "              precision    recall  f1-score   support\n",
            "\n",
            "  Lungcancer       0.99      0.59      0.74       150\n",
            "      Normal       0.93      0.72      0.81       151\n",
            "Tuberculosis       0.60      0.98      0.74       150\n",
            "\n",
            "    accuracy                           0.76       451\n",
            "   macro avg       0.84      0.76      0.76       451\n",
            "weighted avg       0.84      0.76      0.76       451\n",
            "\n"
          ]
        }
      ]
    },
    {
      "cell_type": "markdown",
      "source": [
        "## 3) Find Tuning \n",
        "###--> ACC = 81\n",
        "###--> 5815.668 วินาที\n",
        "\n",
        "*   BS = 8\n",
        "*   activation=\"softmax\"\n",
        "*   fix weight & bias in layer 0-100\n",
        "*   learning_rate=0.0001\n",
        "*   epoch 30\n",
        "\n",
        "\n",
        "\n",
        "\n",
        "\n"
      ],
      "metadata": {
        "id": "4_k4Yl0oRtFg"
      }
    },
    {
      "cell_type": "code",
      "source": [
        "train_img3_Incep = []\n",
        "for ImageName in tqdm(data_train3['ImageName']):               # รัน ชื่อรูป ในไฟล์ data_test3\n",
        "    image_path = All_3class_dir +'/' + ImageName                   # ดึงรูปในโฟล์เดอร์มาทีละรูป\n",
        "    img = cv2.imread(image_path)                                            # อ่านรูป\n",
        "    img = cv2.resize(img, (299, 299))                                       #ขนาดของ input\n",
        "    train_img3_Incep.append(img)\n",
        "\n",
        "data3_Incep = np.array(train_img3_Incep, dtype=\"float32\") / 255.0"
      ],
      "metadata": {
        "outputId": "3cc745a5-8435-45bb-da0c-634e4a771895",
        "colab": {
          "base_uri": "https://localhost:8080/"
        },
        "id": "TxQmIQrYRtFg"
      },
      "execution_count": null,
      "outputs": [
        {
          "output_type": "stream",
          "name": "stderr",
          "text": [
            "100%|██████████| 451/451 [00:05<00:00, 83.92it/s] \n"
          ]
        }
      ]
    },
    {
      "cell_type": "code",
      "source": [
        "labels3_Incep = np.array(data_train3[['NameType']] )        \n",
        "labels3_Incep.shape = (len(labels3_Incep),) \n",
        "\n",
        "le3_Incep = LabelEncoder()                                                                     \n",
        "labels3_Incep = le3_Incep.fit_transform(labels3_Incep)                                         #จะแปลงชื่อ class เป็นตัวเลข 1, 2, 0 \n",
        "\n",
        "labels3_Incep = to_categorical(labels3_Incep, num_classes=3)                   #shape (180, 3) มีค่าเป็น  [0., 1., 0.]  กับ   [0., 0., 1.] กับ  [1., 0., 0.]"
      ],
      "metadata": {
        "id": "psJ48ZQSRtFh"
      },
      "execution_count": null,
      "outputs": []
    },
    {
      "cell_type": "markdown",
      "source": [
        "##### Model"
      ],
      "metadata": {
        "id": "MW4jYyp8oV2I"
      }
    },
    {
      "cell_type": "code",
      "source": [
        "base_model3_Incep = tf.keras.applications.InceptionV3(input_shape=(299, 299, 3), include_top=False, weights=\"imagenet\")\n",
        "len(base_model3_Incep.layers)"
      ],
      "metadata": {
        "outputId": "212f2ae0-9e55-4d67-be93-0836c0fdd8e0",
        "colab": {
          "base_uri": "https://localhost:8080/"
        },
        "id": "6ee6GBUYRtFh"
      },
      "execution_count": null,
      "outputs": [
        {
          "output_type": "execute_result",
          "data": {
            "text/plain": [
              "311"
            ]
          },
          "metadata": {},
          "execution_count": 25
        }
      ]
    },
    {
      "cell_type": "code",
      "source": [
        "base_model3_Incep.trainable = True\n",
        "for layer in base_model3_Incep.layers[:100]:    #fix w & bias in layer 0-100\n",
        "    layer.trainable = False"
      ],
      "metadata": {
        "id": "_drdXI13RtFh"
      },
      "execution_count": null,
      "outputs": []
    },
    {
      "cell_type": "code",
      "source": [
        "#Add custom head\n",
        "average_pooling_layer = tf.keras.layers.GlobalAveragePooling2D()(base_model3_Incep.output)\n",
        "\n",
        "prediction_layer = tf.keras.layers.Dense(units=3, activation=\"softmax\")(average_pooling_layer)   # unit 3\n",
        "model3_IncepF3 = tf.keras.models.Model(inputs=base_model3_Incep.input, outputs=prediction_layer)\n",
        "\n",
        "model3_IncepF3.compile(optimizer=tf.keras.optimizers.RMSprop(learning_rate=0.0001), loss=\"binary_crossentropy\", metrics=[\"accuracy\"])"
      ],
      "metadata": {
        "id": "3WKDkqCMSieV"
      },
      "execution_count": null,
      "outputs": []
    },
    {
      "cell_type": "code",
      "source": [
        "INIT_LR = 1e-1\n",
        "BS = 8\n",
        "\n",
        "aug3 = ImageDataGenerator(\n",
        "\t\trotation_range=15,\t\t\t\t\t\t#องศาการหมุน\n",
        "\t\twidth_shift_range=0.1,\n",
        "\t\theight_shift_range=0.1,\n",
        "\t\tshear_range=0.15,\n",
        "\t\thorizontal_flip=True,\n",
        "\t\tfill_mode=\"nearest\")\n",
        "\n",
        "callback = tf.keras.callbacks.EarlyStopping(\n",
        "                monitor=\"val_accuracy\",\n",
        "                patience=3,\n",
        "                mode=\"max\" )"
      ],
      "metadata": {
        "id": "or1aBryZRtFi"
      },
      "execution_count": null,
      "outputs": []
    },
    {
      "cell_type": "code",
      "source": [
        "kf_IncepF3 = KFold(5, shuffle=True, random_state=40) \n",
        "\n",
        "oos_yF3 = []\n",
        "oos_predF3 = []\n",
        "fold = 0\n",
        "\n",
        "for train, test in kf_IncepF3.split(data3_Incep):\n",
        "    fold+=1\n",
        "    print(f\"Fold #{fold}\")\n",
        "        \n",
        "    xtrain_IncepF3 = data3_Incep[train]\n",
        "    ytrain_IncepF3 = labels3_Incep[train]\n",
        "    xtest_IncepF3 = data3_Incep[test]\n",
        "    ytest_IncepF3 = labels3_Incep[test]\n",
        "\n",
        "    M_IncepF3 = model3_IncepF3.fit( x=aug3.flow(xtrain_IncepF3, ytrain_IncepF3, batch_size=BS),\n",
        "\t                                            validation_data=(xtest_IncepF3, ytest_IncepF3),\n",
        "\t                                            steps_per_epoch=len(xtrain_IncepF3) // BS,\n",
        "\t                                            epochs=30,  callbacks = [callback])\n",
        "    \n",
        "    pred_IncepF3 = model3_IncepF3.predict(xtest_IncepF3)\n",
        "    \n",
        "    oos_yF3.append(ytest_IncepF3)\n",
        "    oos_predF3.append(pred_IncepF3)  \n",
        "    print(classification_report(ytest_IncepF3.argmax(axis=1),\t                #แสดง report ค่า acc, recall, ...\n",
        "                                        pred_IncepF3.argmax(axis=1),  \n",
        "                                        target_names=le3_Incep.classes_))\n",
        "\n",
        "#   score = metrics.accuracy_score(ytest_IncepF.argmax(axis=1),\t        #ค่า acc\n",
        "#                                               pred_IncepF.argmax(axis=1)\n",
        "#    print(f\"Fold score (accuracy): {score}\")\n",
        "\n",
        "#    print(confusion_matrix(ytest_IncepF.argmax(axis=1),\t                       #แสดง confusion_matrix\n",
        "#                        pred3_IncepF.argmax(axis=1) ) )"
      ],
      "metadata": {
        "outputId": "675b4ab6-b489-4371-e4f3-0168a9bd015b",
        "colab": {
          "base_uri": "https://localhost:8080/"
        },
        "id": "6gVL16kDRtFi"
      },
      "execution_count": null,
      "outputs": [
        {
          "output_type": "stream",
          "name": "stdout",
          "text": [
            "Fold #1\n",
            "Epoch 1/30\n",
            "45/45 [==============================] - 195s 4s/step - loss: 0.4942 - accuracy: 0.6361 - val_loss: 0.7942 - val_accuracy: 0.4286\n",
            "Epoch 2/30\n",
            "45/45 [==============================] - 183s 4s/step - loss: 0.3243 - accuracy: 0.8000 - val_loss: 1.0859 - val_accuracy: 0.4835\n",
            "Epoch 3/30\n",
            "45/45 [==============================] - 183s 4s/step - loss: 0.2680 - accuracy: 0.8333 - val_loss: 1.0556 - val_accuracy: 0.5275\n",
            "Epoch 4/30\n",
            "45/45 [==============================] - 183s 4s/step - loss: 0.2613 - accuracy: 0.8694 - val_loss: 0.3897 - val_accuracy: 0.8022\n",
            "Epoch 5/30\n",
            "45/45 [==============================] - 183s 4s/step - loss: 0.2072 - accuracy: 0.8944 - val_loss: 0.8960 - val_accuracy: 0.6044\n",
            "Epoch 6/30\n",
            "45/45 [==============================] - 183s 4s/step - loss: 0.1478 - accuracy: 0.9083 - val_loss: 0.5644 - val_accuracy: 0.7692\n",
            "Epoch 7/30\n",
            "45/45 [==============================] - 188s 4s/step - loss: 0.1602 - accuracy: 0.9250 - val_loss: 1.2475 - val_accuracy: 0.6813\n",
            "              precision    recall  f1-score   support\n",
            "\n",
            "  Lungcancer       1.00      0.11      0.19        28\n",
            "      Normal       0.78      0.97      0.86        33\n",
            "Tuberculosis       0.57      0.90      0.70        30\n",
            "\n",
            "    accuracy                           0.68        91\n",
            "   macro avg       0.78      0.66      0.59        91\n",
            "weighted avg       0.78      0.68      0.60        91\n",
            "\n",
            "Fold #2\n",
            "Epoch 1/30\n",
            "45/45 [==============================] - 185s 4s/step - loss: 0.2119 - accuracy: 0.8867 - val_loss: 0.1751 - val_accuracy: 0.8889\n",
            "Epoch 2/30\n",
            "45/45 [==============================] - 182s 4s/step - loss: 0.1829 - accuracy: 0.8980 - val_loss: 0.4482 - val_accuracy: 0.7444\n",
            "Epoch 3/30\n",
            "45/45 [==============================] - 183s 4s/step - loss: 0.1745 - accuracy: 0.8782 - val_loss: 0.1192 - val_accuracy: 0.9111\n",
            "Epoch 4/30\n",
            "45/45 [==============================] - 191s 4s/step - loss: 0.1658 - accuracy: 0.9008 - val_loss: 0.2210 - val_accuracy: 0.8667\n",
            "Epoch 5/30\n",
            "45/45 [==============================] - 183s 4s/step - loss: 0.1260 - accuracy: 0.9292 - val_loss: 0.1123 - val_accuracy: 0.9667\n",
            "Epoch 6/30\n",
            "45/45 [==============================] - 183s 4s/step - loss: 0.0844 - accuracy: 0.9603 - val_loss: 0.5443 - val_accuracy: 0.7444\n",
            "Epoch 7/30\n",
            "45/45 [==============================] - 182s 4s/step - loss: 0.0951 - accuracy: 0.9462 - val_loss: 0.1870 - val_accuracy: 0.8667\n",
            "Epoch 8/30\n",
            "45/45 [==============================] - 186s 4s/step - loss: 0.1121 - accuracy: 0.9207 - val_loss: 1.0394 - val_accuracy: 0.6444\n",
            "              precision    recall  f1-score   support\n",
            "\n",
            "  Lungcancer       1.00      0.33      0.50        33\n",
            "      Normal       1.00      0.62      0.76        26\n",
            "Tuberculosis       0.49      1.00      0.66        31\n",
            "\n",
            "    accuracy                           0.64        90\n",
            "   macro avg       0.83      0.65      0.64        90\n",
            "weighted avg       0.83      0.64      0.63        90\n",
            "\n",
            "Fold #3\n",
            "Epoch 1/30\n",
            "45/45 [==============================] - 190s 4s/step - loss: 0.1364 - accuracy: 0.9348 - val_loss: 0.0145 - val_accuracy: 1.0000\n",
            "Epoch 2/30\n",
            "45/45 [==============================] - 230s 5s/step - loss: 0.1057 - accuracy: 0.9433 - val_loss: 1.0488 - val_accuracy: 0.6111\n",
            "Epoch 3/30\n",
            "45/45 [==============================] - 184s 4s/step - loss: 0.0702 - accuracy: 0.9717 - val_loss: 0.5366 - val_accuracy: 0.8000\n",
            "Epoch 4/30\n",
            "45/45 [==============================] - 183s 4s/step - loss: 0.1432 - accuracy: 0.9320 - val_loss: 0.4755 - val_accuracy: 0.8111\n",
            "              precision    recall  f1-score   support\n",
            "\n",
            "  Lungcancer       1.00      0.48      0.65        29\n",
            "      Normal       1.00      0.94      0.97        33\n",
            "Tuberculosis       0.62      1.00      0.77        28\n",
            "\n",
            "    accuracy                           0.81        90\n",
            "   macro avg       0.87      0.81      0.80        90\n",
            "weighted avg       0.88      0.81      0.80        90\n",
            "\n",
            "Fold #4\n",
            "Epoch 1/30\n",
            "45/45 [==============================] - 190s 4s/step - loss: 0.0486 - accuracy: 0.9830 - val_loss: 0.1598 - val_accuracy: 0.9111\n",
            "Epoch 2/30\n",
            "45/45 [==============================] - 181s 4s/step - loss: 0.1197 - accuracy: 0.9462 - val_loss: 0.0285 - val_accuracy: 0.9889\n",
            "Epoch 3/30\n",
            "45/45 [==============================] - 183s 4s/step - loss: 0.0618 - accuracy: 0.9717 - val_loss: 0.0076 - val_accuracy: 1.0000\n",
            "Epoch 4/30\n",
            "45/45 [==============================] - 181s 4s/step - loss: 0.0759 - accuracy: 0.9688 - val_loss: 0.0043 - val_accuracy: 1.0000\n",
            "Epoch 5/30\n",
            "45/45 [==============================] - 186s 4s/step - loss: 0.0898 - accuracy: 0.9490 - val_loss: 0.0193 - val_accuracy: 1.0000\n",
            "Epoch 6/30\n",
            "45/45 [==============================] - 183s 4s/step - loss: 0.0854 - accuracy: 0.9632 - val_loss: 0.0053 - val_accuracy: 1.0000\n",
            "              precision    recall  f1-score   support\n",
            "\n",
            "  Lungcancer       1.00      1.00      1.00        30\n",
            "      Normal       1.00      1.00      1.00        31\n",
            "Tuberculosis       1.00      1.00      1.00        29\n",
            "\n",
            "    accuracy                           1.00        90\n",
            "   macro avg       1.00      1.00      1.00        90\n",
            "weighted avg       1.00      1.00      1.00        90\n",
            "\n",
            "Fold #5\n",
            "Epoch 1/30\n",
            "45/45 [==============================] - 183s 4s/step - loss: 0.0393 - accuracy: 0.9830 - val_loss: 0.0530 - val_accuracy: 0.9778\n",
            "Epoch 2/30\n",
            "45/45 [==============================] - 182s 4s/step - loss: 0.0725 - accuracy: 0.9660 - val_loss: 0.0830 - val_accuracy: 0.9667\n",
            "Epoch 3/30\n",
            "45/45 [==============================] - 183s 4s/step - loss: 0.0647 - accuracy: 0.9745 - val_loss: 0.1922 - val_accuracy: 0.8889\n",
            "Epoch 4/30\n",
            "45/45 [==============================] - 183s 4s/step - loss: 0.0557 - accuracy: 0.9660 - val_loss: 0.1561 - val_accuracy: 0.9222\n",
            "              precision    recall  f1-score   support\n",
            "\n",
            "  Lungcancer       1.00      0.77      0.87        30\n",
            "      Normal       1.00      1.00      1.00        28\n",
            "Tuberculosis       0.82      1.00      0.90        32\n",
            "\n",
            "    accuracy                           0.92        90\n",
            "   macro avg       0.94      0.92      0.92        90\n",
            "weighted avg       0.94      0.92      0.92        90\n",
            "\n"
          ]
        }
      ]
    },
    {
      "cell_type": "code",
      "source": [
        "oos_yF3 = np.concatenate(oos_yF3)\n",
        "oos_predF3 = np.concatenate(oos_predF3)"
      ],
      "metadata": {
        "id": "ASmPL4GxsOZ-"
      },
      "execution_count": null,
      "outputs": []
    },
    {
      "cell_type": "code",
      "source": [
        "print(classification_report(oos_yF3.argmax(axis=1),\t                #แสดง report ค่า acc, recall, ...\n",
        "                                        oos_predF3.argmax(axis=1),  \n",
        "                                        target_names=le3_Incep.classes_))"
      ],
      "metadata": {
        "colab": {
          "base_uri": "https://localhost:8080/"
        },
        "outputId": "69a1e184-5d9b-49a7-b9aa-1c79a0d1063f",
        "id": "mjKTnShosOZ-"
      },
      "execution_count": null,
      "outputs": [
        {
          "output_type": "stream",
          "name": "stdout",
          "text": [
            "              precision    recall  f1-score   support\n",
            "\n",
            "  Lungcancer       1.00      0.54      0.70       150\n",
            "      Normal       0.94      0.91      0.93       151\n",
            "Tuberculosis       0.66      0.98      0.79       150\n",
            "\n",
            "    accuracy                           0.81       451\n",
            "   macro avg       0.87      0.81      0.81       451\n",
            "weighted avg       0.87      0.81      0.81       451\n",
            "\n"
          ]
        }
      ]
    },
    {
      "cell_type": "code",
      "source": [
        ""
      ],
      "metadata": {
        "id": "tVx5H9PksOFG"
      },
      "execution_count": null,
      "outputs": []
    },
    {
      "cell_type": "code",
      "source": [
        ""
      ],
      "metadata": {
        "id": "2BrAgJh7cn5Y"
      },
      "execution_count": null,
      "outputs": []
    },
    {
      "cell_type": "markdown",
      "source": [
        "## 3.1) Find Tuning  \n",
        "\n",
        "###--> ACC = 0.72\n",
        "###--> ใช้เวลา 6354.25  วินาที \n",
        "\n",
        "*   BS = 8\n",
        "*   activation=\"sigmoid\"\n",
        "*   fix weight & bias in layer 0-100\n",
        "*   learning_rate=0.0001\n",
        "*   epoch 30\n"
      ],
      "metadata": {
        "id": "sOmZpAxtrm3-"
      }
    },
    {
      "cell_type": "markdown",
      "source": [
        "##### Data"
      ],
      "metadata": {
        "id": "89X75PKRrm4E"
      }
    },
    {
      "cell_type": "code",
      "source": [
        "train_img3_Incep = []\n",
        "for ImageName in tqdm(data_train3['ImageName']):               # รัน ชื่อรูป ในไฟล์ data_test3\n",
        "    image_path = All_3class_dir +'/' + ImageName                   # ดึงรูปในโฟล์เดอร์มาทีละรูป\n",
        "    img = cv2.imread(image_path)                                            # อ่านรูป\n",
        "    img = cv2.resize(img, (299, 299))                                       #ขนาดของ input\n",
        "    train_img3_Incep.append(img)\n",
        "\n",
        "data3_Incep = np.array(train_img3_Incep, dtype=\"float32\") / 255.0"
      ],
      "metadata": {
        "outputId": "86386bd4-5adf-406f-d9e5-7f8b80492665",
        "colab": {
          "base_uri": "https://localhost:8080/"
        },
        "id": "eNIxpDrlrm4E"
      },
      "execution_count": null,
      "outputs": [
        {
          "output_type": "stream",
          "name": "stderr",
          "text": [
            "100%|██████████| 451/451 [00:05<00:00, 86.56it/s] \n"
          ]
        }
      ]
    },
    {
      "cell_type": "code",
      "source": [
        "labels3_Incep = np.array(data_train3[['NameType']] )        \n",
        "labels3_Incep.shape = (len(labels3_Incep),) \n",
        "\n",
        "le3_Incep = LabelEncoder()                                                                     \n",
        "labels3_Incep = le3_Incep.fit_transform(labels3_Incep)                                         #จะแปลงชื่อ class เป็นตัวเลข 1, 2, 0 \n",
        "\n",
        "labels3_Incep = to_categorical(labels3_Incep, num_classes=3)                   #shape (180, 3) มีค่าเป็น  [0., 1., 0.]  กับ   [0., 0., 1.] กับ  [1., 0., 0.]"
      ],
      "metadata": {
        "id": "BW_vxkYorm4F"
      },
      "execution_count": null,
      "outputs": []
    },
    {
      "cell_type": "markdown",
      "source": [
        "##### Model"
      ],
      "metadata": {
        "id": "6EMhXxD_sKT7"
      }
    },
    {
      "cell_type": "code",
      "source": [
        "base_model3_Incep = tf.keras.applications.InceptionV3(input_shape=(299, 299, 3), include_top=False, weights=\"imagenet\")\n",
        "len(base_model3_Incep.layers)"
      ],
      "metadata": {
        "outputId": "27a6bf58-2b6f-4b99-93d7-27a4c1f98932",
        "colab": {
          "base_uri": "https://localhost:8080/"
        },
        "id": "oZNE7fXtsKUF"
      },
      "execution_count": null,
      "outputs": [
        {
          "output_type": "execute_result",
          "data": {
            "text/plain": [
              "311"
            ]
          },
          "metadata": {},
          "execution_count": 43
        }
      ]
    },
    {
      "cell_type": "code",
      "source": [
        "base_model3_Incep.trainable = True\n",
        "for layer in base_model3_Incep.layers[:100]:    #fix w & bias in layer 0-100\n",
        "    layer.trainable = False"
      ],
      "metadata": {
        "id": "yXk5UvKcsKUF"
      },
      "execution_count": null,
      "outputs": []
    },
    {
      "cell_type": "code",
      "source": [
        "#Add custom head\n",
        "average_pooling_layer = tf.keras.layers.GlobalAveragePooling2D()(base_model3_Incep.output)\n",
        "\n",
        "prediction_layer = tf.keras.layers.Dense(units=3, activation=\"sigmoid\")(average_pooling_layer)   # unit 3\n",
        "model3_IncepF31 = tf.keras.models.Model(inputs=base_model3_Incep.input, outputs=prediction_layer)\n",
        "\n",
        "model3_IncepF31.compile(optimizer=tf.keras.optimizers.RMSprop(learning_rate=0.0001), loss=\"binary_crossentropy\", metrics=[\"accuracy\"])"
      ],
      "metadata": {
        "id": "q-YFo4R0sKUF"
      },
      "execution_count": null,
      "outputs": []
    },
    {
      "cell_type": "code",
      "source": [
        "INIT_LR = 1e-1\n",
        "BS = 8\n",
        "\n",
        "aug31 = ImageDataGenerator(\n",
        "\t\trotation_range=15,\t\t\t\t\t\t#องศาการหมุน\n",
        "\t\twidth_shift_range=0.1,\n",
        "\t\theight_shift_range=0.1,\n",
        "\t\tshear_range=0.15,\n",
        "\t\thorizontal_flip=True,\n",
        "\t\tfill_mode=\"nearest\")\n",
        "\n",
        "callback = tf.keras.callbacks.EarlyStopping(\n",
        "                monitor=\"val_accuracy\",\n",
        "                patience=3,\n",
        "                mode=\"max\" )"
      ],
      "metadata": {
        "id": "2OoRM6g-sKUG"
      },
      "execution_count": null,
      "outputs": []
    },
    {
      "cell_type": "code",
      "source": [
        "kf_IncepF31 = KFold(5, shuffle=True, random_state=40) \n",
        "\n",
        "oos_yF31 = []\n",
        "oos_predF31 = []\n",
        "fold = 0\n",
        "\n",
        "for train, test in kf_IncepF31.split(data3_Incep):\n",
        "    fold+=1\n",
        "    print(f\"Fold #{fold}\")\n",
        "        \n",
        "    xtrain_IncepF31 = data3_Incep[train]\n",
        "    ytrain_IncepF31 = labels3_Incep[train]\n",
        "    xtest_IncepF31 = data3_Incep[test]\n",
        "    ytest_IncepF31 = labels3_Incep[test]\n",
        "\n",
        "    M_IncepF31 = model3_IncepF31.fit( x=aug31.flow(xtrain_IncepF31, ytrain_IncepF31, batch_size=BS),\n",
        "\t                                            validation_data=(xtest_IncepF31, ytest_IncepF31),\n",
        "\t                                            steps_per_epoch=len(xtrain_IncepF31) // BS,\n",
        "\t                                            epochs=30,  callbacks = [callback])\n",
        "    \n",
        "    pred_IncepF31 = model3_IncepF31.predict(xtest_IncepF31)\n",
        "    \n",
        "    oos_yF31.append(ytest_IncepF31)\n",
        "    oos_predF31.append(pred_IncepF31)  \n",
        "    print(classification_report(ytest_IncepF31.argmax(axis=1),\t                #แสดง report ค่า acc, recall, ...\n",
        "                                        pred_IncepF31.argmax(axis=1),  \n",
        "                                        target_names=le3_Incep.classes_))\n",
        "\n",
        "#   score = metrics.accuracy_score(ytest_IncepF.argmax(axis=1),\t        #ค่า acc\n",
        "#                                               pred_IncepF.argmax(axis=1)\n",
        "#    print(f\"Fold score (accuracy): {score}\")\n",
        "\n",
        "#    print(confusion_matrix(ytest_IncepF.argmax(axis=1),\t                       #แสดง confusion_matrix\n",
        "#                        pred3_IncepF.argmax(axis=1) ) )"
      ],
      "metadata": {
        "outputId": "393cd712-a3f1-4e34-c909-b4b075c6584c",
        "colab": {
          "base_uri": "https://localhost:8080/"
        },
        "id": "RhVQXJy5sKUG"
      },
      "execution_count": null,
      "outputs": [
        {
          "output_type": "stream",
          "name": "stdout",
          "text": [
            "Fold #1\n",
            "Epoch 1/30\n",
            "45/45 [==============================] - 207s 4s/step - loss: 0.4663 - accuracy: 0.6417 - val_loss: 0.7496 - val_accuracy: 0.4725\n",
            "Epoch 2/30\n",
            "45/45 [==============================] - 188s 4s/step - loss: 0.3244 - accuracy: 0.7944 - val_loss: 0.5518 - val_accuracy: 0.5934\n",
            "Epoch 3/30\n",
            "45/45 [==============================] - 186s 4s/step - loss: 0.2740 - accuracy: 0.8250 - val_loss: 0.5254 - val_accuracy: 0.7033\n",
            "Epoch 4/30\n",
            "45/45 [==============================] - 187s 4s/step - loss: 0.1984 - accuracy: 0.8917 - val_loss: 0.3224 - val_accuracy: 0.8022\n",
            "Epoch 5/30\n",
            "45/45 [==============================] - 191s 4s/step - loss: 0.1850 - accuracy: 0.9056 - val_loss: 0.5997 - val_accuracy: 0.7253\n",
            "Epoch 6/30\n",
            "45/45 [==============================] - 191s 4s/step - loss: 0.1834 - accuracy: 0.8972 - val_loss: 0.7332 - val_accuracy: 0.6813\n",
            "Epoch 7/30\n",
            "45/45 [==============================] - 190s 4s/step - loss: 0.1598 - accuracy: 0.8944 - val_loss: 0.6397 - val_accuracy: 0.7802\n",
            "              precision    recall  f1-score   support\n",
            "\n",
            "  Lungcancer       0.91      0.36      0.51        28\n",
            "      Normal       0.86      0.97      0.91        33\n",
            "Tuberculosis       0.67      0.97      0.79        30\n",
            "\n",
            "    accuracy                           0.78        91\n",
            "   macro avg       0.82      0.76      0.74        91\n",
            "weighted avg       0.82      0.78      0.75        91\n",
            "\n",
            "Fold #2\n",
            "Epoch 1/30\n",
            "45/45 [==============================] - 182s 4s/step - loss: 0.1956 - accuracy: 0.8980 - val_loss: 0.3271 - val_accuracy: 0.8556\n",
            "Epoch 2/30\n",
            "45/45 [==============================] - 187s 4s/step - loss: 0.1671 - accuracy: 0.9093 - val_loss: 1.2592 - val_accuracy: 0.5889\n",
            "Epoch 3/30\n",
            "45/45 [==============================] - 188s 4s/step - loss: 0.1676 - accuracy: 0.9037 - val_loss: 0.4903 - val_accuracy: 0.8222\n",
            "Epoch 4/30\n",
            "45/45 [==============================] - 187s 4s/step - loss: 0.1074 - accuracy: 0.9547 - val_loss: 1.2689 - val_accuracy: 0.6111\n",
            "              precision    recall  f1-score   support\n",
            "\n",
            "  Lungcancer       1.00      0.24      0.39        33\n",
            "      Normal       1.00      0.62      0.76        26\n",
            "Tuberculosis       0.47      1.00      0.64        31\n",
            "\n",
            "    accuracy                           0.61        90\n",
            "   macro avg       0.82      0.62      0.60        90\n",
            "weighted avg       0.82      0.61      0.58        90\n",
            "\n",
            "Fold #3\n",
            "Epoch 1/30\n",
            "45/45 [==============================] - 183s 4s/step - loss: 0.1415 - accuracy: 0.9207 - val_loss: 0.0820 - val_accuracy: 0.9444\n",
            "Epoch 2/30\n",
            "45/45 [==============================] - 186s 4s/step - loss: 0.1207 - accuracy: 0.9292 - val_loss: 3.5776 - val_accuracy: 0.3333\n",
            "Epoch 3/30\n",
            "45/45 [==============================] - 189s 4s/step - loss: 0.1234 - accuracy: 0.9405 - val_loss: 1.0389 - val_accuracy: 0.7111\n",
            "Epoch 4/30\n",
            "45/45 [==============================] - 187s 4s/step - loss: 0.0798 - accuracy: 0.9688 - val_loss: 0.2700 - val_accuracy: 0.8556\n",
            "              precision    recall  f1-score   support\n",
            "\n",
            "  Lungcancer       1.00      0.69      0.82        29\n",
            "      Normal       0.97      0.88      0.92        33\n",
            "Tuberculosis       0.70      1.00      0.82        28\n",
            "\n",
            "    accuracy                           0.86        90\n",
            "   macro avg       0.89      0.86      0.85        90\n",
            "weighted avg       0.89      0.86      0.86        90\n",
            "\n",
            "Fold #4\n",
            "Epoch 1/30\n",
            "45/45 [==============================] - 184s 4s/step - loss: 0.1006 - accuracy: 0.9405 - val_loss: 0.8538 - val_accuracy: 0.6667\n",
            "Epoch 2/30\n",
            "45/45 [==============================] - 185s 4s/step - loss: 0.1186 - accuracy: 0.9490 - val_loss: 0.1370 - val_accuracy: 0.9222\n",
            "Epoch 3/30\n",
            "45/45 [==============================] - 185s 4s/step - loss: 0.0792 - accuracy: 0.9745 - val_loss: 0.0670 - val_accuracy: 0.9556\n",
            "Epoch 4/30\n",
            "45/45 [==============================] - 185s 4s/step - loss: 0.0779 - accuracy: 0.9547 - val_loss: 0.2934 - val_accuracy: 0.8333\n",
            "Epoch 5/30\n",
            "45/45 [==============================] - 185s 4s/step - loss: 0.0456 - accuracy: 0.9773 - val_loss: 0.1579 - val_accuracy: 0.8778\n",
            "Epoch 6/30\n",
            "45/45 [==============================] - 185s 4s/step - loss: 0.0711 - accuracy: 0.9660 - val_loss: 0.0021 - val_accuracy: 1.0000\n",
            "Epoch 7/30\n",
            "45/45 [==============================] - 185s 4s/step - loss: 0.0709 - accuracy: 0.9603 - val_loss: 0.4454 - val_accuracy: 0.8000\n",
            "Epoch 8/30\n",
            "45/45 [==============================] - 185s 4s/step - loss: 0.0726 - accuracy: 0.9603 - val_loss: 0.2970 - val_accuracy: 0.8556\n",
            "Epoch 9/30\n",
            "45/45 [==============================] - 188s 4s/step - loss: 0.0758 - accuracy: 0.9611 - val_loss: 2.0933 - val_accuracy: 0.4667\n",
            "              precision    recall  f1-score   support\n",
            "\n",
            "  Lungcancer       1.00      0.07      0.12        30\n",
            "      Normal       1.00      0.35      0.52        31\n",
            "Tuberculosis       0.38      1.00      0.55        29\n",
            "\n",
            "    accuracy                           0.47        90\n",
            "   macro avg       0.79      0.47      0.40        90\n",
            "weighted avg       0.80      0.47      0.40        90\n",
            "\n",
            "Fold #5\n",
            "Epoch 1/30\n",
            "45/45 [==============================] - 185s 4s/step - loss: 0.0608 - accuracy: 0.9773 - val_loss: 0.2012 - val_accuracy: 0.9000\n",
            "Epoch 2/30\n",
            "45/45 [==============================] - 189s 4s/step - loss: 0.0319 - accuracy: 0.9889 - val_loss: 0.3521 - val_accuracy: 0.9000\n",
            "Epoch 3/30\n",
            "45/45 [==============================] - 187s 4s/step - loss: 0.1071 - accuracy: 0.9518 - val_loss: 0.1692 - val_accuracy: 0.9222\n",
            "Epoch 4/30\n",
            "45/45 [==============================] - 188s 4s/step - loss: 0.0398 - accuracy: 0.9858 - val_loss: 0.4797 - val_accuracy: 0.8444\n",
            "Epoch 5/30\n",
            "45/45 [==============================] - 191s 4s/step - loss: 0.0333 - accuracy: 0.9861 - val_loss: 0.0281 - val_accuracy: 0.9889\n",
            "Epoch 6/30\n",
            "45/45 [==============================] - 188s 4s/step - loss: 0.0590 - accuracy: 0.9717 - val_loss: 0.7232 - val_accuracy: 0.7000\n",
            "Epoch 7/30\n",
            "45/45 [==============================] - 189s 4s/step - loss: 0.0494 - accuracy: 0.9802 - val_loss: 0.6140 - val_accuracy: 0.7889\n",
            "Epoch 8/30\n",
            "45/45 [==============================] - 189s 4s/step - loss: 0.0334 - accuracy: 0.9858 - val_loss: 0.6655 - val_accuracy: 0.7222\n",
            "              precision    recall  f1-score   support\n",
            "\n",
            "  Lungcancer       1.00      0.50      0.67        30\n",
            "      Normal       1.00      0.64      0.78        28\n",
            "Tuberculosis       0.56      1.00      0.72        32\n",
            "\n",
            "    accuracy                           0.72        90\n",
            "   macro avg       0.85      0.71      0.72        90\n",
            "weighted avg       0.84      0.72      0.72        90\n",
            "\n"
          ]
        }
      ]
    },
    {
      "cell_type": "code",
      "source": [
        "oos_yF31 = np.concatenate(oos_yF31)\n",
        "oos_predF31 = np.concatenate(oos_predF31)"
      ],
      "metadata": {
        "id": "A4plCYZtsKUG"
      },
      "execution_count": null,
      "outputs": []
    },
    {
      "cell_type": "code",
      "source": [
        "print(classification_report(oos_yF31.argmax(axis=1),\t                #แสดง report ค่า acc, recall, ...\n",
        "                                        oos_predF31.argmax(axis=1),  \n",
        "                                        target_names=le3_Incep.classes_))"
      ],
      "metadata": {
        "id": "aul2pO7RsKUG"
      },
      "execution_count": null,
      "outputs": []
    },
    {
      "cell_type": "markdown",
      "source": [
        "## 4) Find Tuning \n",
        "###--> ACC =  76\n",
        "###--> ใช้เวลา 4447.95 วินาที\n",
        "*   BS = 1\n",
        "*   activation=\"softmax\"\n",
        "*   fix weight & bias in layer 0-100\n",
        "*   learning_rate=0.0001\n",
        "*   epoch 30\n",
        "\n",
        "\n",
        "\n",
        "\n",
        "\n"
      ],
      "metadata": {
        "id": "Ln4ifa1bcoPQ"
      }
    },
    {
      "cell_type": "code",
      "source": [
        "train_img3_Incep = []\n",
        "for ImageName in tqdm(data_train3['ImageName']):               # รัน ชื่อรูป ในไฟล์ data_test3\n",
        "    image_path = All_3class_dir +'/' + ImageName                   # ดึงรูปในโฟล์เดอร์มาทีละรูป\n",
        "    img = cv2.imread(image_path)                                            # อ่านรูป\n",
        "    img = cv2.resize(img, (299, 299))                                       #ขนาดของ input\n",
        "    train_img3_Incep.append(img)\n",
        "\n",
        "data3_Incep = np.array(train_img3_Incep, dtype=\"float32\") / 255.0"
      ],
      "metadata": {
        "outputId": "27a3266d-8076-40c1-ea7b-e36e5b07b617",
        "colab": {
          "base_uri": "https://localhost:8080/"
        },
        "id": "z1qwhXBRcoPR"
      },
      "execution_count": null,
      "outputs": [
        {
          "output_type": "stream",
          "name": "stderr",
          "text": [
            "100%|██████████| 451/451 [00:05<00:00, 86.58it/s] \n"
          ]
        }
      ]
    },
    {
      "cell_type": "code",
      "source": [
        "labels3_Incep = np.array(data_train3[['NameType']] )        \n",
        "labels3_Incep.shape = (len(labels3_Incep),) \n",
        "\n",
        "le3_Incep = LabelEncoder()                                                                     \n",
        "labels3_Incep = le3_Incep.fit_transform(labels3_Incep)                                         #จะแปลงชื่อ class เป็นตัวเลข 1, 2, 0 \n",
        "\n",
        "labels3_Incep = to_categorical(labels3_Incep, num_classes=3)                   #shape (180, 3) มีค่าเป็น  [0., 1., 0.]  กับ   [0., 0., 1.] กับ  [1., 0., 0.]"
      ],
      "metadata": {
        "id": "2YIjPAzCcoPS"
      },
      "execution_count": null,
      "outputs": []
    },
    {
      "cell_type": "markdown",
      "source": [
        "##### Model"
      ],
      "metadata": {
        "id": "MtNST5picoPT"
      }
    },
    {
      "cell_type": "code",
      "source": [
        "base_model3_Incep = tf.keras.applications.InceptionV3(input_shape=(299, 299, 3), include_top=False, weights=\"imagenet\")\n",
        "len(base_model3_Incep.layers)"
      ],
      "metadata": {
        "outputId": "1d9fb5ae-b36c-49ed-9a9c-8be382393ac4",
        "colab": {
          "base_uri": "https://localhost:8080/"
        },
        "id": "v3yumV76coPT"
      },
      "execution_count": null,
      "outputs": [
        {
          "output_type": "execute_result",
          "data": {
            "text/plain": [
              "311"
            ]
          },
          "metadata": {},
          "execution_count": 34
        }
      ]
    },
    {
      "cell_type": "code",
      "source": [
        "base_model3_Incep.trainable = True\n",
        "for layer in base_model3_Incep.layers[:100]:    #fix w & bias in layer 0-100\n",
        "    layer.trainable = False"
      ],
      "metadata": {
        "id": "N8TXpbIIcoPT"
      },
      "execution_count": null,
      "outputs": []
    },
    {
      "cell_type": "code",
      "source": [
        "#Add custom head\n",
        "average_pooling_layer = tf.keras.layers.GlobalAveragePooling2D()(base_model3_Incep.output)\n",
        "\n",
        "prediction_layer = tf.keras.layers.Dense(units=3, activation=\"softmax\")(average_pooling_layer)   # unit 3\n",
        "model3_IncepF4 = tf.keras.models.Model(inputs=base_model3_Incep.input, outputs=prediction_layer)\n",
        "\n",
        "model3_IncepF4.compile(optimizer=tf.keras.optimizers.RMSprop(learning_rate=0.0001), loss=\"binary_crossentropy\", metrics=[\"accuracy\"])"
      ],
      "metadata": {
        "id": "_l4Yjx5ZcoPU"
      },
      "execution_count": null,
      "outputs": []
    },
    {
      "cell_type": "code",
      "source": [
        "INIT_LR = 1e-1\n",
        "BS = 1\n",
        "\n",
        "aug4 = ImageDataGenerator(\n",
        "\t\trotation_range=15,\t\t\t\t\t\t#องศาการหมุน\n",
        "\t\twidth_shift_range=0.1,\n",
        "\t\theight_shift_range=0.1,\n",
        "\t\tshear_range=0.15,\n",
        "\t\thorizontal_flip=True,\n",
        "\t\tfill_mode=\"nearest\")\n",
        "\n",
        "callback = tf.keras.callbacks.EarlyStopping(\n",
        "                monitor=\"val_accuracy\",\n",
        "                patience=3,\n",
        "                mode=\"max\" )"
      ],
      "metadata": {
        "id": "Z52OFm1mcoPU"
      },
      "execution_count": null,
      "outputs": []
    },
    {
      "cell_type": "code",
      "source": [
        "kf_IncepF4 = KFold(5, shuffle=True, random_state=40) \n",
        "\n",
        "oos_yF4 = []\n",
        "oos_predF4 = []\n",
        "fold = 0\n",
        "\n",
        "for train, test in kf_IncepF4.split(data3_Incep):\n",
        "    fold+=1\n",
        "    print(f\"Fold #{fold}\")\n",
        "        \n",
        "    xtrain_IncepF4 = data3_Incep[train]\n",
        "    ytrain_IncepF4 = labels3_Incep[train]\n",
        "    xtest_IncepF4 = data3_Incep[test]\n",
        "    ytest_IncepF4 = labels3_Incep[test]\n",
        "\n",
        "    M_IncepF4 = model3_IncepF4.fit( x=aug4.flow(xtrain_IncepF4, ytrain_IncepF4, batch_size=BS),\n",
        "\t                                            validation_data=(xtest_IncepF4, ytest_IncepF4),\n",
        "\t                                            steps_per_epoch=len(xtrain_IncepF4) // BS,\n",
        "\t                                            epochs=30,  callbacks = [callback])\n",
        "    \n",
        "    pred_IncepF4 = model3_IncepF4.predict(xtest_IncepF4)\n",
        "    \n",
        "    oos_yF4.append(ytest_IncepF4)\n",
        "    oos_predF4.append(pred_IncepF4)  \n",
        "    print(classification_report(ytest_IncepF4.argmax(axis=1),\t                #แสดง report ค่า acc, recall, ...\n",
        "                                        pred_IncepF4.argmax(axis=1),  \n",
        "                                        target_names=le3_Incep.classes_))\n",
        "\n",
        "#   score = metrics.accuracy_score(ytest_IncepF.argmax(axis=1),\t        #ค่า acc\n",
        "#                                               pred_IncepF.argmax(axis=1)\n",
        "#    print(f\"Fold score (accuracy): {score}\")\n",
        "\n",
        "#    print(confusion_matrix(ytest_IncepF.argmax(axis=1),\t                       #แสดง confusion_matrix\n",
        "#                        pred3_IncepF.argmax(axis=1) ) )"
      ],
      "metadata": {
        "outputId": "fd698a51-0432-4151-ae6e-09b5d74c0fbc",
        "colab": {
          "base_uri": "https://localhost:8080/"
        },
        "id": "I73cit9lcoPW"
      },
      "execution_count": null,
      "outputs": [
        {
          "output_type": "stream",
          "name": "stdout",
          "text": [
            "Fold #1\n",
            "Epoch 1/30\n",
            "360/360 [==============================] - 249s 665ms/step - loss: 0.5995 - accuracy: 0.4694 - val_loss: 0.8508 - val_accuracy: 0.5714\n",
            "Epoch 2/30\n",
            "360/360 [==============================] - 240s 666ms/step - loss: 0.4782 - accuracy: 0.5861 - val_loss: 0.5635 - val_accuracy: 0.6044\n",
            "Epoch 3/30\n",
            "360/360 [==============================] - 238s 661ms/step - loss: 0.4199 - accuracy: 0.6667 - val_loss: 0.6837 - val_accuracy: 0.6484\n",
            "Epoch 4/30\n",
            "360/360 [==============================] - 239s 663ms/step - loss: 0.3905 - accuracy: 0.6917 - val_loss: 0.6726 - val_accuracy: 0.7033\n",
            "Epoch 5/30\n",
            "360/360 [==============================] - 289s 802ms/step - loss: 0.3414 - accuracy: 0.7472 - val_loss: 0.4193 - val_accuracy: 0.7033\n",
            "Epoch 6/30\n",
            "360/360 [==============================] - 239s 663ms/step - loss: 0.3496 - accuracy: 0.7667 - val_loss: 0.4928 - val_accuracy: 0.7033\n",
            "Epoch 7/30\n",
            "360/360 [==============================] - 237s 658ms/step - loss: 0.2890 - accuracy: 0.8333 - val_loss: 0.7517 - val_accuracy: 0.5934\n",
            "              precision    recall  f1-score   support\n",
            "\n",
            "  Lungcancer       0.51      0.64      0.57        28\n",
            "      Normal       1.00      0.52      0.68        33\n",
            "Tuberculosis       0.49      0.63      0.55        30\n",
            "\n",
            "    accuracy                           0.59        91\n",
            "   macro avg       0.67      0.60      0.60        91\n",
            "weighted avg       0.68      0.59      0.60        91\n",
            "\n",
            "Fold #2\n",
            "Epoch 1/30\n",
            "361/361 [==============================] - 238s 659ms/step - loss: 0.3160 - accuracy: 0.7950 - val_loss: 0.6169 - val_accuracy: 0.7556\n",
            "Epoch 2/30\n",
            "361/361 [==============================] - 238s 658ms/step - loss: 0.2775 - accuracy: 0.8366 - val_loss: 0.3467 - val_accuracy: 0.8444\n",
            "Epoch 3/30\n",
            "361/361 [==============================] - 239s 661ms/step - loss: 0.2468 - accuracy: 0.8643 - val_loss: 0.3149 - val_accuracy: 0.7000\n",
            "Epoch 4/30\n",
            "361/361 [==============================] - 238s 660ms/step - loss: 0.2042 - accuracy: 0.8947 - val_loss: 0.2722 - val_accuracy: 0.8556\n",
            "Epoch 5/30\n",
            "361/361 [==============================] - 238s 659ms/step - loss: 0.1731 - accuracy: 0.9169 - val_loss: 0.3395 - val_accuracy: 0.8444\n",
            "Epoch 6/30\n",
            "361/361 [==============================] - 238s 659ms/step - loss: 0.1477 - accuracy: 0.9335 - val_loss: 0.1950 - val_accuracy: 0.9000\n",
            "Epoch 7/30\n",
            "361/361 [==============================] - 239s 661ms/step - loss: 0.1860 - accuracy: 0.9141 - val_loss: 0.7393 - val_accuracy: 0.8444\n",
            "Epoch 8/30\n",
            "361/361 [==============================] - 237s 657ms/step - loss: 0.1647 - accuracy: 0.9169 - val_loss: 0.3218 - val_accuracy: 0.9000\n",
            "Epoch 9/30\n",
            "361/361 [==============================] - 239s 663ms/step - loss: 0.1089 - accuracy: 0.9391 - val_loss: 0.2716 - val_accuracy: 0.8556\n",
            "              precision    recall  f1-score   support\n",
            "\n",
            "  Lungcancer       0.93      0.76      0.83        33\n",
            "      Normal       0.96      0.92      0.94        26\n",
            "Tuberculosis       0.74      0.90      0.81        31\n",
            "\n",
            "    accuracy                           0.86        90\n",
            "   macro avg       0.87      0.86      0.86        90\n",
            "weighted avg       0.87      0.86      0.86        90\n",
            "\n",
            "Fold #3\n",
            "Epoch 1/30\n",
            "361/361 [==============================] - 239s 661ms/step - loss: 0.1583 - accuracy: 0.9197 - val_loss: 0.1935 - val_accuracy: 0.8778\n",
            "Epoch 2/30\n",
            "361/361 [==============================] - 238s 660ms/step - loss: 0.1017 - accuracy: 0.9557 - val_loss: 0.4887 - val_accuracy: 0.6667\n",
            "Epoch 3/30\n",
            "361/361 [==============================] - 238s 658ms/step - loss: 0.1290 - accuracy: 0.9474 - val_loss: 0.3723 - val_accuracy: 0.8778\n",
            "Epoch 4/30\n",
            "361/361 [==============================] - 238s 658ms/step - loss: 0.0984 - accuracy: 0.9557 - val_loss: 0.5285 - val_accuracy: 0.8444\n",
            "              precision    recall  f1-score   support\n",
            "\n",
            "  Lungcancer       0.93      0.86      0.89        29\n",
            "      Normal       0.82      0.94      0.87        33\n",
            "Tuberculosis       0.80      0.71      0.75        28\n",
            "\n",
            "    accuracy                           0.84        90\n",
            "   macro avg       0.85      0.84      0.84        90\n",
            "weighted avg       0.85      0.84      0.84        90\n",
            "\n",
            "Fold #4\n",
            "Epoch 1/30\n",
            "361/361 [==============================] - 237s 656ms/step - loss: 0.1146 - accuracy: 0.9584 - val_loss: 0.6190 - val_accuracy: 0.8333\n",
            "Epoch 2/30\n",
            "361/361 [==============================] - 236s 655ms/step - loss: 0.1143 - accuracy: 0.9584 - val_loss: 0.6854 - val_accuracy: 0.8667\n",
            "Epoch 3/30\n",
            "361/361 [==============================] - 237s 655ms/step - loss: 0.1173 - accuracy: 0.9529 - val_loss: 1.4815 - val_accuracy: 0.7667\n",
            "Epoch 4/30\n",
            "361/361 [==============================] - 237s 656ms/step - loss: 0.0375 - accuracy: 0.9834 - val_loss: 1.3840 - val_accuracy: 0.8444\n",
            "Epoch 5/30\n",
            "361/361 [==============================] - 236s 655ms/step - loss: 0.0903 - accuracy: 0.9695 - val_loss: 0.2876 - val_accuracy: 0.8222\n",
            "              precision    recall  f1-score   support\n",
            "\n",
            "  Lungcancer       0.95      0.63      0.76        30\n",
            "      Normal       1.00      0.87      0.93        31\n",
            "Tuberculosis       0.65      0.97      0.78        29\n",
            "\n",
            "    accuracy                           0.82        90\n",
            "   macro avg       0.87      0.82      0.82        90\n",
            "weighted avg       0.87      0.82      0.82        90\n",
            "\n",
            "Fold #5\n",
            "Epoch 1/30\n",
            "361/361 [==============================] - 237s 657ms/step - loss: 0.0671 - accuracy: 0.9806 - val_loss: 0.8635 - val_accuracy: 0.7889\n",
            "Epoch 2/30\n",
            "361/361 [==============================] - 236s 653ms/step - loss: 0.0826 - accuracy: 0.9723 - val_loss: 0.4823 - val_accuracy: 0.7778\n",
            "Epoch 3/30\n",
            "361/361 [==============================] - 236s 654ms/step - loss: 0.1050 - accuracy: 0.9584 - val_loss: 1.3159 - val_accuracy: 0.8222\n",
            "Epoch 4/30\n",
            "361/361 [==============================] - 236s 654ms/step - loss: 0.0511 - accuracy: 0.9889 - val_loss: 2.5170 - val_accuracy: 0.6667\n",
            "Epoch 5/30\n",
            "361/361 [==============================] - 236s 655ms/step - loss: 0.0725 - accuracy: 0.9834 - val_loss: 1.0820 - val_accuracy: 0.7667\n",
            "Epoch 6/30\n",
            "361/361 [==============================] - 237s 655ms/step - loss: 0.0375 - accuracy: 0.9945 - val_loss: 1.9450 - val_accuracy: 0.6889\n",
            "              precision    recall  f1-score   support\n",
            "\n",
            "  Lungcancer       1.00      0.60      0.75        30\n",
            "      Normal       0.69      0.71      0.70        28\n",
            "Tuberculosis       0.56      0.75      0.64        32\n",
            "\n",
            "    accuracy                           0.69        90\n",
            "   macro avg       0.75      0.69      0.70        90\n",
            "weighted avg       0.75      0.69      0.70        90\n",
            "\n"
          ]
        }
      ]
    },
    {
      "cell_type": "code",
      "source": [
        "oos_yF4 = np.concatenate(oos_yF4)\n",
        "oos_predF4 = np.concatenate(oos_predF4)"
      ],
      "metadata": {
        "id": "e5za-j-RcoPY"
      },
      "execution_count": null,
      "outputs": []
    },
    {
      "cell_type": "code",
      "source": [
        "print(classification_report(oos_yF4.argmax(axis=1),\t                #แสดง report ค่า acc, recall, ...\n",
        "                                        oos_predF4.argmax(axis=1),  \n",
        "                                        target_names=le3_Incep.classes_))"
      ],
      "metadata": {
        "id": "s7KYXIU7coPY",
        "outputId": "57c69b48-2754-41df-aa29-17a03530210d",
        "colab": {
          "base_uri": "https://localhost:8080/"
        }
      },
      "execution_count": null,
      "outputs": [
        {
          "output_type": "stream",
          "name": "stdout",
          "text": [
            "              precision    recall  f1-score   support\n",
            "\n",
            "  Lungcancer       0.83      0.70      0.76       150\n",
            "      Normal       0.88      0.79      0.83       151\n",
            "Tuberculosis       0.63      0.79      0.70       150\n",
            "\n",
            "    accuracy                           0.76       451\n",
            "   macro avg       0.78      0.76      0.76       451\n",
            "weighted avg       0.78      0.76      0.76       451\n",
            "\n"
          ]
        }
      ]
    },
    {
      "cell_type": "code",
      "source": [
        ""
      ],
      "metadata": {
        "id": "TRxIZSeycoPY"
      },
      "execution_count": null,
      "outputs": []
    }
  ]
}
