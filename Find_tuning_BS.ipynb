{
  "nbformat": 4,
  "nbformat_minor": 0,
  "metadata": {
    "colab": {
      "name": "Find-tuning_BS.ipynb",
      "provenance": [],
      "collapsed_sections": [
        "Kpnf_sft9x4-",
        "Z1e52UqdwPp8",
        "YFVxlpQZf5pU",
        "3Fi053VB2o6Y",
        "0L32LTa-AmKM",
        "WCnBlIy1u_3W",
        "-aiw9cWnSsoB",
        "To8jsVdhSxEW"
      ],
      "authorship_tag": "ABX9TyPSyg7kq3+nukUO9+BsXumK",
      "include_colab_link": true
    },
    "kernelspec": {
      "name": "python3",
      "display_name": "Python 3"
    },
    "language_info": {
      "name": "python"
    }
  },
  "cells": [
    {
      "cell_type": "markdown",
      "metadata": {
        "id": "view-in-github",
        "colab_type": "text"
      },
      "source": [
        "<a href=\"https://colab.research.google.com/github/PondKann/CXR-Project/blob/main/Find_tuning_BS.ipynb\" target=\"_parent\"><img src=\"https://colab.research.google.com/assets/colab-badge.svg\" alt=\"Open In Colab\"/></a>"
      ]
    },
    {
      "cell_type": "markdown",
      "source": [
        "###### import"
      ],
      "metadata": {
        "id": "Kpnf_sft9x4-"
      }
    },
    {
      "cell_type": "code",
      "metadata": {
        "id": "Psng6eJUdzUG"
      },
      "source": [
        "import os\n",
        "import tensorflow as tf\n",
        "import matplotlib.pyplot as plt\n",
        "%matplotlib inline\n",
        "from tensorflow.keras.preprocessing.image import ImageDataGenerator\n",
        "import cv2\n",
        "import numpy as np\n",
        "import pandas as pd\n",
        "from torchsummary import summary\n",
        "from skimage.io import imread, imsave\n",
        "from tqdm import tqdm\n",
        "\n",
        "from sklearn.model_selection import train_test_split\n",
        "from sklearn.metrics import accuracy_score, confusion_matrix"
      ],
      "execution_count": 1,
      "outputs": []
    },
    {
      "cell_type": "code",
      "source": [
        "# set the matplotlib backend so figures can be saved in the background\n",
        "import matplotlib\n",
        "matplotlib.use(\"Agg\")\n",
        "\n",
        "from sklearn.preprocessing import LabelEncoder\n",
        "from sklearn.metrics import classification_report\n",
        "from tensorflow.keras.optimizers import SGD\n",
        "from tensorflow.keras.utils import to_categorical\n",
        "from imutils import paths\n",
        "import argparse\n",
        "\n",
        "from sklearn.model_selection import KFold\n",
        "from sklearn import metrics\n",
        "from scipy.stats import zscore"
      ],
      "metadata": {
        "id": "6f-PDKiLl2iC"
      },
      "execution_count": 2,
      "outputs": []
    },
    {
      "cell_type": "code",
      "source": [
        "import pickle\n",
        "import joblib"
      ],
      "metadata": {
        "id": "KywT8U_h4Bmb"
      },
      "execution_count": 3,
      "outputs": []
    },
    {
      "cell_type": "markdown",
      "source": [
        "######Load data"
      ],
      "metadata": {
        "id": "Z1e52UqdwPp8"
      }
    },
    {
      "cell_type": "code",
      "metadata": {
        "colab": {
          "base_uri": "https://localhost:8080/"
        },
        "id": "DlcukkP7fnhB",
        "outputId": "3712d3c0-e760-4047-e77c-16e9262df52b"
      },
      "source": [
        "from google.colab import drive\n",
        "drive.mount('/content/drive')"
      ],
      "execution_count": 4,
      "outputs": [
        {
          "output_type": "stream",
          "name": "stdout",
          "text": [
            "Mounted at /content/drive\n"
          ]
        }
      ]
    },
    {
      "cell_type": "code",
      "metadata": {
        "id": "0w8suy5ofqx_"
      },
      "source": [
        "data_dir = '/content/drive/My Drive/Senior Project/CXR Image3class'"
      ],
      "execution_count": 5,
      "outputs": []
    },
    {
      "cell_type": "markdown",
      "source": [
        "train 3 class"
      ],
      "metadata": {
        "id": "xhqPQxA42jeC"
      }
    },
    {
      "cell_type": "code",
      "source": [
        "Normal151_dir = os.path.join(data_dir,'Normal151')\n",
        "TB150_dir = os.path.join(data_dir,'TB150')\n",
        "CA150_dir = os.path.join(data_dir,'CA150')\n",
        "\n",
        "All_3class_dir = os.path.join(data_dir,'All_3class')"
      ],
      "metadata": {
        "id": "-Jrg5mt_RvJT"
      },
      "execution_count": 6,
      "outputs": []
    },
    {
      "cell_type": "markdown",
      "source": [
        "#### train 3 class  --- สร้างตารางเก็บ ชื่อภาพ และชื่อคลาส\n",
        "ข้อมูลใน All_3class_dir รวมภาพทั้ง 3 คลาส รวม 451 ภาพ TB150, Normal151 และ CA150 (CA คือ lungcancer)"
      ],
      "metadata": {
        "id": "YFVxlpQZf5pU"
      }
    },
    {
      "cell_type": "code",
      "source": [
        "Normal151_dir = os.path.join(data_dir,'Normal151')\n",
        "TB150_dir = os.path.join(data_dir,'TB150')\n",
        "CA150_dir = os.path.join(data_dir,'CA150')\n",
        "\n",
        "All_3class_dir = os.path.join(data_dir,'All_3class')"
      ],
      "metadata": {
        "id": "8BHyN8YKpwx9"
      },
      "execution_count": 7,
      "outputs": []
    },
    {
      "cell_type": "code",
      "source": [
        "normal = []\n",
        "for i in range(len(os.listdir(Normal151_dir))):\n",
        "    img = os.listdir(Normal151_dir)[i]\n",
        "    normal.append(img)\n",
        "    \n",
        "tnormal = pd.DataFrame({'ImageName':[normal][0],\n",
        "                                       'NameType': \"Normal\" ,\n",
        "                                       'NumberType': 0                      })"
      ],
      "metadata": {
        "id": "mT0QF8IgrfVm"
      },
      "execution_count": 8,
      "outputs": []
    },
    {
      "cell_type": "code",
      "source": [
        "tuberculosis = []\n",
        "for i in range(len(os.listdir(TB150_dir))):\n",
        "    img = os.listdir(TB150_dir)[i]\n",
        "    tuberculosis.append(img)\n",
        "\n",
        "ttuberculosis = pd.DataFrame({'ImageName':[tuberculosis][0],\n",
        "                                       'NameType': \"Tuberculosis\" ,\n",
        "                                       'NumberType': 1                        })"
      ],
      "metadata": {
        "id": "VtNPg0jwf5pW"
      },
      "execution_count": 9,
      "outputs": []
    },
    {
      "cell_type": "code",
      "source": [
        "lungcancer = []\n",
        "for i in range(len(os.listdir(CA150_dir))):\n",
        "    img = os.listdir(CA150_dir)[i]\n",
        "    lungcancer.append(img)\n",
        "\n",
        "tlungcancer = pd.DataFrame({'ImageName':[lungcancer][0],\n",
        "                                       'NameType': \"Lungcancer\" ,\n",
        "                                       'NumberType': 2                        })"
      ],
      "metadata": {
        "id": "X5pyCUl5mJGV"
      },
      "execution_count": 10,
      "outputs": []
    },
    {
      "cell_type": "code",
      "source": [
        "data_train3 = pd.concat([tnormal, ttuberculosis, tlungcancer])\n",
        "data_train3[-3:]"
      ],
      "metadata": {
        "id": "bgArCw5jnwg2",
        "outputId": "28ca3315-1ac1-4ca4-87f6-d75f58ebde44",
        "colab": {
          "base_uri": "https://localhost:8080/",
          "height": 0
        }
      },
      "execution_count": 11,
      "outputs": [
        {
          "output_type": "execute_result",
          "data": {
            "text/html": [
              "\n",
              "  <div id=\"df-cfb09c81-84e5-4f2a-97d0-fb0aa2941047\">\n",
              "    <div class=\"colab-df-container\">\n",
              "      <div>\n",
              "<style scoped>\n",
              "    .dataframe tbody tr th:only-of-type {\n",
              "        vertical-align: middle;\n",
              "    }\n",
              "\n",
              "    .dataframe tbody tr th {\n",
              "        vertical-align: top;\n",
              "    }\n",
              "\n",
              "    .dataframe thead th {\n",
              "        text-align: right;\n",
              "    }\n",
              "</style>\n",
              "<table border=\"1\" class=\"dataframe\">\n",
              "  <thead>\n",
              "    <tr style=\"text-align: right;\">\n",
              "      <th></th>\n",
              "      <th>ImageName</th>\n",
              "      <th>NameType</th>\n",
              "      <th>NumberType</th>\n",
              "    </tr>\n",
              "  </thead>\n",
              "  <tbody>\n",
              "    <tr>\n",
              "      <th>147</th>\n",
              "      <td>ca26.jpg</td>\n",
              "      <td>Lungcancer</td>\n",
              "      <td>2</td>\n",
              "    </tr>\n",
              "    <tr>\n",
              "      <th>148</th>\n",
              "      <td>ca7.jpg</td>\n",
              "      <td>Lungcancer</td>\n",
              "      <td>2</td>\n",
              "    </tr>\n",
              "    <tr>\n",
              "      <th>149</th>\n",
              "      <td>ca8.jpg</td>\n",
              "      <td>Lungcancer</td>\n",
              "      <td>2</td>\n",
              "    </tr>\n",
              "  </tbody>\n",
              "</table>\n",
              "</div>\n",
              "      <button class=\"colab-df-convert\" onclick=\"convertToInteractive('df-cfb09c81-84e5-4f2a-97d0-fb0aa2941047')\"\n",
              "              title=\"Convert this dataframe to an interactive table.\"\n",
              "              style=\"display:none;\">\n",
              "        \n",
              "  <svg xmlns=\"http://www.w3.org/2000/svg\" height=\"24px\"viewBox=\"0 0 24 24\"\n",
              "       width=\"24px\">\n",
              "    <path d=\"M0 0h24v24H0V0z\" fill=\"none\"/>\n",
              "    <path d=\"M18.56 5.44l.94 2.06.94-2.06 2.06-.94-2.06-.94-.94-2.06-.94 2.06-2.06.94zm-11 1L8.5 8.5l.94-2.06 2.06-.94-2.06-.94L8.5 2.5l-.94 2.06-2.06.94zm10 10l.94 2.06.94-2.06 2.06-.94-2.06-.94-.94-2.06-.94 2.06-2.06.94z\"/><path d=\"M17.41 7.96l-1.37-1.37c-.4-.4-.92-.59-1.43-.59-.52 0-1.04.2-1.43.59L10.3 9.45l-7.72 7.72c-.78.78-.78 2.05 0 2.83L4 21.41c.39.39.9.59 1.41.59.51 0 1.02-.2 1.41-.59l7.78-7.78 2.81-2.81c.8-.78.8-2.07 0-2.86zM5.41 20L4 18.59l7.72-7.72 1.47 1.35L5.41 20z\"/>\n",
              "  </svg>\n",
              "      </button>\n",
              "      \n",
              "  <style>\n",
              "    .colab-df-container {\n",
              "      display:flex;\n",
              "      flex-wrap:wrap;\n",
              "      gap: 12px;\n",
              "    }\n",
              "\n",
              "    .colab-df-convert {\n",
              "      background-color: #E8F0FE;\n",
              "      border: none;\n",
              "      border-radius: 50%;\n",
              "      cursor: pointer;\n",
              "      display: none;\n",
              "      fill: #1967D2;\n",
              "      height: 32px;\n",
              "      padding: 0 0 0 0;\n",
              "      width: 32px;\n",
              "    }\n",
              "\n",
              "    .colab-df-convert:hover {\n",
              "      background-color: #E2EBFA;\n",
              "      box-shadow: 0px 1px 2px rgba(60, 64, 67, 0.3), 0px 1px 3px 1px rgba(60, 64, 67, 0.15);\n",
              "      fill: #174EA6;\n",
              "    }\n",
              "\n",
              "    [theme=dark] .colab-df-convert {\n",
              "      background-color: #3B4455;\n",
              "      fill: #D2E3FC;\n",
              "    }\n",
              "\n",
              "    [theme=dark] .colab-df-convert:hover {\n",
              "      background-color: #434B5C;\n",
              "      box-shadow: 0px 1px 3px 1px rgba(0, 0, 0, 0.15);\n",
              "      filter: drop-shadow(0px 1px 2px rgba(0, 0, 0, 0.3));\n",
              "      fill: #FFFFFF;\n",
              "    }\n",
              "  </style>\n",
              "\n",
              "      <script>\n",
              "        const buttonEl =\n",
              "          document.querySelector('#df-cfb09c81-84e5-4f2a-97d0-fb0aa2941047 button.colab-df-convert');\n",
              "        buttonEl.style.display =\n",
              "          google.colab.kernel.accessAllowed ? 'block' : 'none';\n",
              "\n",
              "        async function convertToInteractive(key) {\n",
              "          const element = document.querySelector('#df-cfb09c81-84e5-4f2a-97d0-fb0aa2941047');\n",
              "          const dataTable =\n",
              "            await google.colab.kernel.invokeFunction('convertToInteractive',\n",
              "                                                     [key], {});\n",
              "          if (!dataTable) return;\n",
              "\n",
              "          const docLinkHtml = 'Like what you see? Visit the ' +\n",
              "            '<a target=\"_blank\" href=https://colab.research.google.com/notebooks/data_table.ipynb>data table notebook</a>'\n",
              "            + ' to learn more about interactive tables.';\n",
              "          element.innerHTML = '';\n",
              "          dataTable['output_type'] = 'display_data';\n",
              "          await google.colab.output.renderOutput(dataTable, element);\n",
              "          const docLink = document.createElement('div');\n",
              "          docLink.innerHTML = docLinkHtml;\n",
              "          element.appendChild(docLink);\n",
              "        }\n",
              "      </script>\n",
              "    </div>\n",
              "  </div>\n",
              "  "
            ],
            "text/plain": [
              "    ImageName    NameType  NumberType\n",
              "147  ca26.jpg  Lungcancer           2\n",
              "148   ca7.jpg  Lungcancer           2\n",
              "149   ca8.jpg  Lungcancer           2"
            ]
          },
          "metadata": {},
          "execution_count": 11
        }
      ]
    },
    {
      "cell_type": "markdown",
      "source": [
        "####  test 3 class จากเน็ต"
      ],
      "metadata": {
        "id": "3Fi053VB2o6Y"
      }
    },
    {
      "cell_type": "code",
      "source": [
        "TB700_dir = os.path.join(data_dir,'test_model/Tuberculosis700')\n",
        "Normal94_dir = os.path.join(data_dir,'test_model/NORMAL94')\n",
        "CA150_dir = os.path.join(data_dir,'CA150')                  #อันเดิมที่ใช้เทรน\n",
        "\n",
        "AllTest_2class = os.path.join(data_dir,'test_model/AllTest_2class')"
      ],
      "metadata": {
        "id": "DoGUhtkpCph6"
      },
      "execution_count": null,
      "outputs": []
    },
    {
      "cell_type": "code",
      "source": [
        "#สำหรับ test model\n",
        "normal = []\n",
        "for i in range(len(os.listdir(Normal94_dir))):\n",
        "    img = os.listdir(Normal94_dir)[i]\n",
        "    normal.append(img)\n",
        "    \n",
        "tnormal94 = pd.DataFrame({'ImageName':[normal][0],\n",
        "                                       'NameType': \"Normal\" ,\n",
        "                                       'NumberType': 0                      })"
      ],
      "metadata": {
        "id": "nWuAUibuR4VW"
      },
      "execution_count": null,
      "outputs": []
    },
    {
      "cell_type": "code",
      "source": [
        "#สำหรับ test model\n",
        "tb700 = []\n",
        "for i in range(len(os.listdir(TB700_dir))):\n",
        "    img = os.listdir(TB700_dir)[i]\n",
        "    tb700.append(img)\n",
        "\n",
        "ttb700 = pd.DataFrame({'ImageName':[tb700][0],\n",
        "                                       'NameType': \"Tuberculosis\" ,\n",
        "                                       'NumberType': 1                        })"
      ],
      "metadata": {
        "id": "Bu1n-Ib48qFf"
      },
      "execution_count": null,
      "outputs": []
    },
    {
      "cell_type": "code",
      "source": [
        "#สำหรับ test model ข้อม฿ลเดิม\n",
        "lungcancer = []\n",
        "for i in range(len(os.listdir(CA150_dir))):\n",
        "    img = os.listdir(CA150_dir)[i]\n",
        "    lungcancer.append(img)\n",
        "\n",
        "tlungcancer = pd.DataFrame({'ImageName':[lungcancer][0],\n",
        "                                       'NameType': \"Lungcancer\" ,\n",
        "                                       'NumberType': 2                        })"
      ],
      "metadata": {
        "id": "clUmEvEx2IKk"
      },
      "execution_count": null,
      "outputs": []
    },
    {
      "cell_type": "code",
      "source": [
        "data_test2 = pd.concat([tnormal94[:30], ttb700[:30], tlungcancer[:10]])"
      ],
      "metadata": {
        "id": "kePRXLwU195n"
      },
      "execution_count": null,
      "outputs": []
    },
    {
      "cell_type": "code",
      "source": [
        "test_NorTB = []\n",
        "for ImageName in tqdm(data_test2['ImageName']):               # รัน ชื่อรูป ในไฟล์ data_test2\n",
        "    image_path = AllTest_2class +'/' + ImageName                          # ดึงรูปในโฟล์เดอร์มาทีละรูป\n",
        "    img = cv2.imread(image_path)                                            # อ่านรูป\n",
        "    img = cv2.resize(img, (299, 299))\n",
        "    test_NorTB.append(img)"
      ],
      "metadata": {
        "colab": {
          "base_uri": "https://localhost:8080/"
        },
        "id": "DRlBEE0T14sz",
        "outputId": "d96bdb9f-750b-498a-d55d-986c58ff491d"
      },
      "execution_count": null,
      "outputs": [
        {
          "output_type": "stream",
          "name": "stderr",
          "text": [
            "100%|██████████| 70/70 [00:19<00:00,  3.60it/s]\n"
          ]
        }
      ]
    },
    {
      "cell_type": "code",
      "source": [
        "data_test = np.array(test_NorTB, dtype=\"float32\") / 255.0\n",
        "\n",
        "labels_test = np.array(data_test2[['NameType']] )        \n",
        "labels_test.shape = (len(labels_test),) \n",
        "\n",
        "le3_Incep = LabelEncoder()                                                                     \n",
        "labels_test = le3_Incep.fit_transform(labels_test)                                         #จะแปลงชื่อ class เป็นตัวเลข 1, 2, 0 \n",
        "\n",
        "labels_test = to_categorical(labels_test, num_classes=3)                   #shape (180, 3) มีค่าเป็น  [0., 1., 0.]  กับ   [0., 0., 1.] กับ  [1., 0., 0.]"
      ],
      "metadata": {
        "id": "hlnpYC_S72ee"
      },
      "execution_count": null,
      "outputs": []
    },
    {
      "cell_type": "code",
      "source": [
        ""
      ],
      "metadata": {
        "id": "EjDLK8iNqNiK"
      },
      "execution_count": null,
      "outputs": []
    },
    {
      "cell_type": "markdown",
      "source": [
        "## K-fold  -- InceptionV3"
      ],
      "metadata": {
        "id": "0L32LTa-AmKM"
      }
    },
    {
      "cell_type": "code",
      "source": [
        "train_img3_Incep = []\n",
        "for ImageName in tqdm(data_train3['ImageName']):               # รัน ชื่อรูป ในไฟล์ data_test3\n",
        "    image_path = All_3class_dir +'/' + ImageName                   # ดึงรูปในโฟล์เดอร์มาทีละรูป\n",
        "    img = cv2.imread(image_path)                                            # อ่านรูป\n",
        "    img = cv2.resize(img, (299, 299))                                       #ขนาดของ input\n",
        "    train_img3_Incep.append(img)\n",
        "\n",
        "data3_Incep = np.array(train_img3_Incep, dtype=\"float32\") / 255.0"
      ],
      "metadata": {
        "outputId": "4f3e69b3-01f4-46bf-a69c-6e6c9e116a00",
        "colab": {
          "base_uri": "https://localhost:8080/"
        },
        "id": "jhfvC-NqAmKN"
      },
      "execution_count": null,
      "outputs": [
        {
          "output_type": "stream",
          "name": "stderr",
          "text": [
            "100%|██████████| 451/451 [01:32<00:00,  4.87it/s]\n"
          ]
        }
      ]
    },
    {
      "cell_type": "code",
      "source": [
        "labels3_Incep = np.array(data_train3[['NameType']] )        \n",
        "labels3_Incep.shape = (len(labels3_Incep),) \n",
        "\n",
        "le3_Incep = LabelEncoder()                                                                     \n",
        "labels3_Incep = le3_Incep.fit_transform(labels3_Incep)                                         #จะแปลงชื่อ class เป็นตัวเลข 1, 2, 0 \n",
        "\n",
        "labels3_Incep = to_categorical(labels3_Incep, num_classes=3)                   #shape (180, 3) มีค่าเป็น  [0., 1., 0.]  กับ   [0., 0., 1.] กับ  [1., 0., 0.]"
      ],
      "metadata": {
        "id": "MeaRfwG5A06x"
      },
      "execution_count": null,
      "outputs": []
    },
    {
      "cell_type": "code",
      "source": [
        "INIT_LR = 1e-1\n",
        "BS = 8\n",
        "EPOCHS = 50\n",
        "\n",
        "aug = ImageDataGenerator(\n",
        "\t\trotation_range=15,\t\t\t\t\t\t#องศาการหมุน\n",
        "\t\twidth_shift_range=0.1,\n",
        "\t\theight_shift_range=0.1,\n",
        "\t\tshear_range=0.15,\n",
        "\t\thorizontal_flip=True,\n",
        "\t\tfill_mode=\"nearest\")\n",
        "\n",
        "callback = tf.keras.callbacks.EarlyStopping(\n",
        "                monitor=\"val_accuracy\",\n",
        "                patience=3,\n",
        "                mode=\"max\" )"
      ],
      "metadata": {
        "id": "0wB74-IDAmKO"
      },
      "execution_count": null,
      "outputs": []
    },
    {
      "cell_type": "code",
      "source": [
        "base_model3_Incep = tf.keras.applications.InceptionV3(input_shape=(299, 299, 3), include_top=False, weights=\"imagenet\")\n",
        "base_model3_Incep.trainable=False\n",
        "\n",
        "#Add custom head\n",
        "average_pooling_layer = tf.keras.layers.GlobalAveragePooling2D()(base_model3_Incep.output)\n",
        "prediction_layer = tf.keras.layers.Dense(units=3, activation=\"softmax\")(average_pooling_layer)   # unit 3\n",
        "model3_Incep = tf.keras.models.Model(inputs=base_model3_Incep.input, outputs=prediction_layer)\n",
        "\n",
        "model3_Incep.compile(optimizer=tf.keras.optimizers.RMSprop(learning_rate=0.0001), loss=\"binary_crossentropy\", metrics=[\"accuracy\"])"
      ],
      "metadata": {
        "outputId": "d70d892b-0d1d-408f-a0b2-8b98ec80f78d",
        "colab": {
          "base_uri": "https://localhost:8080/"
        },
        "id": "0Iuuw2AdBYIj"
      },
      "execution_count": null,
      "outputs": [
        {
          "output_type": "stream",
          "name": "stdout",
          "text": [
            "Downloading data from https://storage.googleapis.com/tensorflow/keras-applications/inception_v3/inception_v3_weights_tf_dim_ordering_tf_kernels_notop.h5\n",
            "87916544/87910968 [==============================] - 1s 0us/step\n",
            "87924736/87910968 [==============================] - 1s 0us/step\n"
          ]
        }
      ]
    },
    {
      "cell_type": "code",
      "source": [
        "kf3_Incep = KFold(5, shuffle=True, random_state=40) \n",
        "\n",
        "oos_y = []\n",
        "oos_pred = []\n",
        "fold = 0\n",
        "\n",
        "for train, test in kf3_Incep.split(data3_Incep):\n",
        "    fold+=1\n",
        "    print(f\"Fold #{fold}\")\n",
        "        \n",
        "    x_train3_Incep = data3_Incep[train]\n",
        "    y_train3_Incep = labels3_Incep[train]\n",
        "    x_test3_Incep = data3_Incep[test]\n",
        "    y_test3_Incep = labels3_Incep[test]\n",
        "\n",
        "    H3_Incep = model3_Incep.fit( x=aug.flow(x_train3_Incep, y_train3_Incep, batch_size=BS),\n",
        "\t                                            validation_data=(x_test3_Incep, y_test3_Incep),\n",
        "\t                                            steps_per_epoch=len(x_train3_Incep) // BS,\n",
        "\t                                            epochs=10,  callbacks = [callback])\n",
        "    \n",
        "    pred3_Incep = model3_Incep.predict(x_test3_Incep)\n",
        "    \n",
        "    oos_y.append(y_test3_Incep)\n",
        "    oos_pred.append(pred3_Incep)  \n",
        "    print(classification_report(y_test3_Incep.argmax(axis=1),\t                #แสดง report ค่า acc, recall, ...\n",
        "                                        pred3_Incep.argmax(axis=1),  \n",
        "                                        target_names=le3_Incep.classes_))\n",
        "\n",
        "#   score = metrics.accuracy_score(y_test3_Incep.argmax(axis=1),\t        #ค่า acc\n",
        "#                                               pred3_Incep.argmax(axis=1)\n",
        "#    print(f\"Fold score (accuracy): {score}\")\n",
        "\n",
        "#    print(confusion_matrix(testY3_Incep.argmax(axis=1),\t                       #แสดง confusion_matrix\n",
        "#                        pred3_Incep.argmax(axis=1) ) )"
      ],
      "metadata": {
        "id": "_3cCPrl0AmKP",
        "outputId": "71a7c030-365e-4280-89f1-704b11f93362",
        "colab": {
          "base_uri": "https://localhost:8080/"
        }
      },
      "execution_count": null,
      "outputs": [
        {
          "output_type": "stream",
          "name": "stdout",
          "text": [
            "Fold #1\n",
            "Epoch 1/10\n",
            "45/45 [==============================] - 103s 2s/step - loss: 0.6675 - accuracy: 0.3194 - val_loss: 0.6413 - val_accuracy: 0.3956\n",
            "Epoch 2/10\n",
            "45/45 [==============================] - 102s 2s/step - loss: 0.6375 - accuracy: 0.4111 - val_loss: 0.6231 - val_accuracy: 0.4835\n",
            "Epoch 3/10\n",
            "45/45 [==============================] - 97s 2s/step - loss: 0.6219 - accuracy: 0.4472 - val_loss: 0.6100 - val_accuracy: 0.5165\n",
            "Epoch 4/10\n",
            "45/45 [==============================] - 99s 2s/step - loss: 0.6082 - accuracy: 0.4806 - val_loss: 0.5993 - val_accuracy: 0.5495\n",
            "Epoch 5/10\n",
            "45/45 [==============================] - 98s 2s/step - loss: 0.5958 - accuracy: 0.5444 - val_loss: 0.5904 - val_accuracy: 0.5824\n",
            "Epoch 6/10\n",
            "45/45 [==============================] - 99s 2s/step - loss: 0.5829 - accuracy: 0.5611 - val_loss: 0.5768 - val_accuracy: 0.6593\n",
            "Epoch 7/10\n",
            "45/45 [==============================] - 98s 2s/step - loss: 0.5727 - accuracy: 0.6222 - val_loss: 0.5719 - val_accuracy: 0.5824\n",
            "Epoch 8/10\n",
            "45/45 [==============================] - 99s 2s/step - loss: 0.5618 - accuracy: 0.6306 - val_loss: 0.5585 - val_accuracy: 0.6703\n",
            "Epoch 9/10\n",
            "45/45 [==============================] - 99s 2s/step - loss: 0.5541 - accuracy: 0.6194 - val_loss: 0.5523 - val_accuracy: 0.6154\n",
            "Epoch 10/10\n",
            "45/45 [==============================] - 98s 2s/step - loss: 0.5365 - accuracy: 0.6417 - val_loss: 0.5466 - val_accuracy: 0.6264\n",
            "              precision    recall  f1-score   support\n",
            "\n",
            "  Lungcancer       0.65      0.54      0.59        28\n",
            "      Normal       0.62      1.00      0.77        33\n",
            "Tuberculosis       0.60      0.30      0.40        30\n",
            "\n",
            "    accuracy                           0.63        91\n",
            "   macro avg       0.62      0.61      0.59        91\n",
            "weighted avg       0.62      0.63      0.59        91\n",
            "\n",
            "Fold #2\n",
            "Epoch 1/10\n",
            "45/45 [==============================] - 94s 2s/step - loss: 0.5320 - accuracy: 0.6601 - val_loss: 0.5284 - val_accuracy: 0.6667\n",
            "Epoch 2/10\n",
            "45/45 [==============================] - 94s 2s/step - loss: 0.5162 - accuracy: 0.7252 - val_loss: 0.5196 - val_accuracy: 0.6667\n",
            "Epoch 3/10\n",
            "45/45 [==============================] - 94s 2s/step - loss: 0.5123 - accuracy: 0.6969 - val_loss: 0.5117 - val_accuracy: 0.7000\n",
            "Epoch 4/10\n",
            "45/45 [==============================] - 94s 2s/step - loss: 0.5112 - accuracy: 0.6742 - val_loss: 0.5076 - val_accuracy: 0.6889\n",
            "Epoch 5/10\n",
            "45/45 [==============================] - 94s 2s/step - loss: 0.5014 - accuracy: 0.6771 - val_loss: 0.5081 - val_accuracy: 0.6667\n",
            "Epoch 6/10\n",
            "45/45 [==============================] - 94s 2s/step - loss: 0.4999 - accuracy: 0.6771 - val_loss: 0.5171 - val_accuracy: 0.6556\n",
            "              precision    recall  f1-score   support\n",
            "\n",
            "  Lungcancer       0.76      0.79      0.78        33\n",
            "      Normal       0.53      1.00      0.69        26\n",
            "Tuberculosis       1.00      0.23      0.37        31\n",
            "\n",
            "    accuracy                           0.66        90\n",
            "   macro avg       0.77      0.67      0.61        90\n",
            "weighted avg       0.78      0.66      0.61        90\n",
            "\n",
            "Fold #3\n",
            "Epoch 1/10\n",
            "45/45 [==============================] - 94s 2s/step - loss: 0.4915 - accuracy: 0.7082 - val_loss: 0.4781 - val_accuracy: 0.7222\n",
            "Epoch 2/10\n",
            "45/45 [==============================] - 95s 2s/step - loss: 0.4956 - accuracy: 0.6856 - val_loss: 0.4722 - val_accuracy: 0.7000\n",
            "Epoch 3/10\n",
            "45/45 [==============================] - 95s 2s/step - loss: 0.4866 - accuracy: 0.7195 - val_loss: 0.4642 - val_accuracy: 0.6889\n",
            "Epoch 4/10\n",
            "45/45 [==============================] - 95s 2s/step - loss: 0.4845 - accuracy: 0.6997 - val_loss: 0.4645 - val_accuracy: 0.7111\n",
            "              precision    recall  f1-score   support\n",
            "\n",
            "  Lungcancer       0.65      0.76      0.70        29\n",
            "      Normal       0.72      1.00      0.84        33\n",
            "Tuberculosis       0.90      0.32      0.47        28\n",
            "\n",
            "    accuracy                           0.71        90\n",
            "   macro avg       0.75      0.69      0.67        90\n",
            "weighted avg       0.75      0.71      0.68        90\n",
            "\n",
            "Fold #4\n",
            "Epoch 1/10\n",
            "45/45 [==============================] - 94s 2s/step - loss: 0.4658 - accuracy: 0.7054 - val_loss: 0.4747 - val_accuracy: 0.6444\n",
            "Epoch 2/10\n",
            "45/45 [==============================] - 95s 2s/step - loss: 0.4642 - accuracy: 0.6969 - val_loss: 0.4883 - val_accuracy: 0.5889\n",
            "Epoch 3/10\n",
            "45/45 [==============================] - 96s 2s/step - loss: 0.4615 - accuracy: 0.7309 - val_loss: 0.4798 - val_accuracy: 0.6556\n",
            "Epoch 4/10\n",
            "45/45 [==============================] - 96s 2s/step - loss: 0.4573 - accuracy: 0.7337 - val_loss: 0.4718 - val_accuracy: 0.6889\n",
            "Epoch 5/10\n",
            "45/45 [==============================] - 95s 2s/step - loss: 0.4510 - accuracy: 0.7167 - val_loss: 0.4861 - val_accuracy: 0.5778\n",
            "Epoch 6/10\n",
            "45/45 [==============================] - 96s 2s/step - loss: 0.4560 - accuracy: 0.7337 - val_loss: 0.4703 - val_accuracy: 0.6667\n",
            "Epoch 7/10\n",
            "45/45 [==============================] - 96s 2s/step - loss: 0.4574 - accuracy: 0.7167 - val_loss: 0.4662 - val_accuracy: 0.6889\n",
            "              precision    recall  f1-score   support\n",
            "\n",
            "  Lungcancer       0.89      0.53      0.67        30\n",
            "      Normal       0.61      1.00      0.76        31\n",
            "Tuberculosis       0.71      0.52      0.60        29\n",
            "\n",
            "    accuracy                           0.69        90\n",
            "   macro avg       0.74      0.68      0.67        90\n",
            "weighted avg       0.74      0.69      0.68        90\n",
            "\n",
            "Fold #5\n",
            "Epoch 1/10\n",
            "45/45 [==============================] - 94s 2s/step - loss: 0.4520 - accuracy: 0.7224 - val_loss: 0.4430 - val_accuracy: 0.7444\n",
            "Epoch 2/10\n",
            "45/45 [==============================] - 94s 2s/step - loss: 0.4466 - accuracy: 0.7365 - val_loss: 0.4460 - val_accuracy: 0.7556\n",
            "Epoch 3/10\n",
            "45/45 [==============================] - 95s 2s/step - loss: 0.4450 - accuracy: 0.7195 - val_loss: 0.4439 - val_accuracy: 0.7222\n",
            "Epoch 4/10\n",
            "45/45 [==============================] - 94s 2s/step - loss: 0.4444 - accuracy: 0.7139 - val_loss: 0.4357 - val_accuracy: 0.7333\n",
            "Epoch 5/10\n",
            "45/45 [==============================] - 94s 2s/step - loss: 0.4383 - accuracy: 0.7082 - val_loss: 0.4523 - val_accuracy: 0.6778\n",
            "              precision    recall  f1-score   support\n",
            "\n",
            "  Lungcancer       0.73      0.73      0.73        30\n",
            "      Normal       0.61      1.00      0.76        28\n",
            "Tuberculosis       0.79      0.34      0.48        32\n",
            "\n",
            "    accuracy                           0.68        90\n",
            "   macro avg       0.71      0.69      0.66        90\n",
            "weighted avg       0.71      0.68      0.65        90\n",
            "\n"
          ]
        }
      ]
    },
    {
      "cell_type": "code",
      "source": [
        ""
      ],
      "metadata": {
        "id": "RO1ZE4g_AmKP"
      },
      "execution_count": null,
      "outputs": []
    },
    {
      "cell_type": "code",
      "source": [
        ""
      ],
      "metadata": {
        "id": "-J3mWGfCrc1E"
      },
      "execution_count": null,
      "outputs": []
    },
    {
      "cell_type": "markdown",
      "source": [
        "## 1) Find Tuning\n",
        "\n",
        "\n",
        "*   BS = 32\n",
        "*   fix weight & bias in layer 0-100\n",
        "*   learning_rate=0.0001\n",
        "\n",
        "\n"
      ],
      "metadata": {
        "id": "i0p8o7zHG8dn"
      }
    },
    {
      "cell_type": "markdown",
      "source": [
        "##### Data"
      ],
      "metadata": {
        "id": "WCnBlIy1u_3W"
      }
    },
    {
      "cell_type": "code",
      "source": [
        "train_img3_Incep = []\n",
        "for ImageName in tqdm(data_train3['ImageName']):               # รัน ชื่อรูป ในไฟล์ data_test3\n",
        "    image_path = All_3class_dir +'/' + ImageName                   # ดึงรูปในโฟล์เดอร์มาทีละรูป\n",
        "    img = cv2.imread(image_path)                                            # อ่านรูป\n",
        "    img = cv2.resize(img, (299, 299))                                       #ขนาดของ input\n",
        "    train_img3_Incep.append(img)\n",
        "\n",
        "data3_Incep = np.array(train_img3_Incep, dtype=\"float32\") / 255.0"
      ],
      "metadata": {
        "outputId": "30b0e24a-40cc-4556-9686-ab95ddb79988",
        "colab": {
          "base_uri": "https://localhost:8080/"
        },
        "id": "gVzjewy4OA7B"
      },
      "execution_count": null,
      "outputs": [
        {
          "output_type": "stream",
          "name": "stderr",
          "text": [
            "100%|██████████| 451/451 [01:58<00:00,  3.80it/s]\n"
          ]
        }
      ]
    },
    {
      "cell_type": "code",
      "source": [
        "labels3_Incep = np.array(data_train3[['NameType']] )        \n",
        "labels3_Incep.shape = (len(labels3_Incep),) \n",
        "\n",
        "le3_Incep = LabelEncoder()                                                                     \n",
        "labels3_Incep = le3_Incep.fit_transform(labels3_Incep)                                         #จะแปลงชื่อ class เป็นตัวเลข 1, 2, 0 \n",
        "\n",
        "labels3_Incep = to_categorical(labels3_Incep, num_classes=3)                   #shape (180, 3) มีค่าเป็น  [0., 1., 0.]  กับ   [0., 0., 1.] กับ  [1., 0., 0.]"
      ],
      "metadata": {
        "id": "vphitaJ6OA7C"
      },
      "execution_count": null,
      "outputs": []
    },
    {
      "cell_type": "markdown",
      "source": [
        "##### Model"
      ],
      "metadata": {
        "id": "e10vYKLYvB9v"
      }
    },
    {
      "cell_type": "code",
      "source": [
        "base_model3_Incep = tf.keras.applications.InceptionV3(input_shape=(299, 299, 3), include_top=False, weights=\"imagenet\")\n",
        "len(base_model3_Incep.layers)"
      ],
      "metadata": {
        "id": "Qtx4J9gxHOc0",
        "outputId": "858d7c29-f9d1-4de8-cf64-297015d9aca1",
        "colab": {
          "base_uri": "https://localhost:8080/"
        }
      },
      "execution_count": null,
      "outputs": [
        {
          "output_type": "stream",
          "name": "stdout",
          "text": [
            "Downloading data from https://storage.googleapis.com/tensorflow/keras-applications/inception_v3/inception_v3_weights_tf_dim_ordering_tf_kernels_notop.h5\n",
            "87916544/87910968 [==============================] - 0s 0us/step\n",
            "87924736/87910968 [==============================] - 0s 0us/step\n"
          ]
        },
        {
          "output_type": "execute_result",
          "data": {
            "text/plain": [
              "311"
            ]
          },
          "metadata": {},
          "execution_count": 14
        }
      ]
    },
    {
      "cell_type": "code",
      "source": [
        "base_model3_Incep.trainable = True\n",
        "for layer in base_model3_Incep.layers[:100]:    #fix w & bias in layer 0-100\n",
        "    layer.trainable = False"
      ],
      "metadata": {
        "id": "cBRoi-ouHOc0"
      },
      "execution_count": null,
      "outputs": []
    },
    {
      "cell_type": "code",
      "source": [
        "#Add custom head\n",
        "average_pooling_layer = tf.keras.layers.GlobalAveragePooling2D()(base_model3_Incep.output)\n",
        "\n",
        "prediction_layer = tf.keras.layers.Dense(units=3, activation=\"softmax\")(average_pooling_layer)   # unit 3\n",
        "model3_IncepF = tf.keras.models.Model(inputs=base_model3_Incep.input, outputs=prediction_layer)\n",
        "\n",
        "model3_IncepF.compile(optimizer=tf.keras.optimizers.RMSprop(learning_rate=0.0001), loss=\"binary_crossentropy\", metrics=[\"accuracy\"])"
      ],
      "metadata": {
        "id": "W1xo9WB4Hfia"
      },
      "execution_count": null,
      "outputs": []
    },
    {
      "cell_type": "code",
      "source": [
        "INIT_LR = 1e-1\n",
        "BS = 32\n",
        "EPOCHS = 50\n",
        "\n",
        "aug = ImageDataGenerator(\n",
        "\t\trotation_range=15,\t\t\t\t\t\t#องศาการหมุน\n",
        "\t\twidth_shift_range=0.1,\n",
        "\t\theight_shift_range=0.1,\n",
        "\t\tshear_range=0.15,\n",
        "\t\thorizontal_flip=True,\n",
        "\t\tfill_mode=\"nearest\")\n",
        "\n",
        "callback = tf.keras.callbacks.EarlyStopping(\n",
        "                monitor=\"val_accuracy\",\n",
        "                patience=3,\n",
        "                mode=\"max\" )"
      ],
      "metadata": {
        "id": "UhcTH2o3Qjrd"
      },
      "execution_count": null,
      "outputs": []
    },
    {
      "cell_type": "code",
      "source": [
        "kf_IncepF = KFold(5, shuffle=True, random_state=40) \n",
        "\n",
        "oos_yF = []\n",
        "oos_predF = []\n",
        "fold = 0\n",
        "\n",
        "for train, test in kf_IncepF.split(data3_Incep):\n",
        "    fold+=1\n",
        "    print(f\"Fold #{fold}\")\n",
        "        \n",
        "    xtrain_IncepF = data3_Incep[train]\n",
        "    ytrain_IncepF = labels3_Incep[train]\n",
        "    xtest_IncepF = data3_Incep[test]\n",
        "    ytest_IncepF = labels3_Incep[test]\n",
        "\n",
        "    M_IncepF = model3_IncepF.fit( x=aug.flow(xtrain_IncepF, ytrain_IncepF, batch_size=BS),\n",
        "\t                                            validation_data=(xtest_IncepF, ytest_IncepF),\n",
        "\t                                            steps_per_epoch=len(xtrain_IncepF) // BS,\n",
        "\t                                            epochs=15,  callbacks = [callback])\n",
        "    \n",
        "    pred_IncepF = model3_IncepF.predict(xtest_IncepF)\n",
        "    \n",
        "    oos_yF.append(ytest_IncepF)\n",
        "    oos_predF.append(pred_IncepF)  \n",
        "    print(classification_report(ytest_IncepF.argmax(axis=1),\t                #แสดง report ค่า acc, recall, ...\n",
        "                                        pred_IncepF.argmax(axis=1),  \n",
        "                                        target_names=le3_Incep.classes_))\n",
        "\n",
        "#   score = metrics.accuracy_score(ytest_IncepF.argmax(axis=1),\t        #ค่า acc\n",
        "#                                               pred_IncepF.argmax(axis=1)\n",
        "#    print(f\"Fold score (accuracy): {score}\")\n",
        "\n",
        "#    print(confusion_matrix(ytest_IncepF.argmax(axis=1),\t                       #แสดง confusion_matrix\n",
        "#                        pred3_IncepF.argmax(axis=1) ) )"
      ],
      "metadata": {
        "id": "m0uPRBNJHC6B",
        "outputId": "60d72e7d-ef57-4f76-b482-c87464fb4614",
        "colab": {
          "base_uri": "https://localhost:8080/"
        }
      },
      "execution_count": null,
      "outputs": [
        {
          "output_type": "stream",
          "name": "stdout",
          "text": [
            "Fold #1\n",
            "Epoch 1/15\n",
            "11/11 [==============================] - 212s 18s/step - loss: 0.5453 - accuracy: 0.5701 - val_loss: 0.8733 - val_accuracy: 0.4396\n",
            "Epoch 2/15\n",
            "11/11 [==============================] - 188s 17s/step - loss: 0.3283 - accuracy: 0.7957 - val_loss: 0.8059 - val_accuracy: 0.4725\n",
            "Epoch 3/15\n",
            "11/11 [==============================] - 188s 17s/step - loss: 0.2771 - accuracy: 0.8476 - val_loss: 0.7430 - val_accuracy: 0.5604\n",
            "Epoch 4/15\n",
            "11/11 [==============================] - 188s 17s/step - loss: 0.1564 - accuracy: 0.9238 - val_loss: 0.7924 - val_accuracy: 0.5385\n",
            "Epoch 5/15\n",
            "11/11 [==============================] - 188s 17s/step - loss: 0.1670 - accuracy: 0.9207 - val_loss: 0.8088 - val_accuracy: 0.5714\n",
            "Epoch 6/15\n",
            "11/11 [==============================] - 188s 17s/step - loss: 0.1128 - accuracy: 0.9421 - val_loss: 0.8733 - val_accuracy: 0.5714\n",
            "Epoch 7/15\n",
            "11/11 [==============================] - 188s 18s/step - loss: 0.1176 - accuracy: 0.9299 - val_loss: 1.0824 - val_accuracy: 0.5275\n",
            "Epoch 8/15\n",
            "11/11 [==============================] - 188s 17s/step - loss: 0.1059 - accuracy: 0.9390 - val_loss: 0.8643 - val_accuracy: 0.6264\n",
            "Epoch 9/15\n",
            "11/11 [==============================] - 188s 17s/step - loss: 0.0833 - accuracy: 0.9543 - val_loss: 0.7555 - val_accuracy: 0.6703\n",
            "Epoch 10/15\n",
            "11/11 [==============================] - 188s 17s/step - loss: 0.0494 - accuracy: 0.9817 - val_loss: 0.8541 - val_accuracy: 0.6703\n",
            "Epoch 11/15\n",
            "11/11 [==============================] - 191s 17s/step - loss: 0.0527 - accuracy: 0.9787 - val_loss: 0.9084 - val_accuracy: 0.6813\n",
            "Epoch 12/15\n",
            "11/11 [==============================] - 192s 19s/step - loss: 0.0513 - accuracy: 0.9787 - val_loss: 1.0912 - val_accuracy: 0.6703\n",
            "Epoch 13/15\n",
            "11/11 [==============================] - 191s 17s/step - loss: 0.0415 - accuracy: 0.9787 - val_loss: 0.8724 - val_accuracy: 0.7363\n",
            "Epoch 14/15\n",
            "11/11 [==============================] - 189s 17s/step - loss: 0.0599 - accuracy: 0.9756 - val_loss: 0.9668 - val_accuracy: 0.7033\n",
            "Epoch 15/15\n",
            "11/11 [==============================] - 201s 18s/step - loss: 0.0393 - accuracy: 0.9801 - val_loss: 1.2823 - val_accuracy: 0.6264\n",
            "              precision    recall  f1-score   support\n",
            "\n",
            "  Lungcancer       1.00      0.11      0.19        28\n",
            "      Normal       0.93      0.76      0.83        33\n",
            "Tuberculosis       0.48      0.97      0.64        30\n",
            "\n",
            "    accuracy                           0.63        91\n",
            "   macro avg       0.80      0.61      0.55        91\n",
            "weighted avg       0.80      0.63      0.57        91\n",
            "\n",
            "Fold #2\n",
            "Epoch 1/15\n",
            "11/11 [==============================] - 202s 18s/step - loss: 0.1339 - accuracy: 0.9331 - val_loss: 0.2062 - val_accuracy: 0.8889\n",
            "Epoch 2/15\n",
            "11/11 [==============================] - 192s 17s/step - loss: 0.0793 - accuracy: 0.9605 - val_loss: 0.0495 - val_accuracy: 0.9778\n",
            "Epoch 3/15\n",
            "11/11 [==============================] - 190s 17s/step - loss: 0.0746 - accuracy: 0.9635 - val_loss: 0.0250 - val_accuracy: 1.0000\n",
            "Epoch 4/15\n",
            "11/11 [==============================] - 190s 17s/step - loss: 0.0331 - accuracy: 0.9818 - val_loss: 0.0219 - val_accuracy: 0.9889\n",
            "Epoch 5/15\n",
            "11/11 [==============================] - 190s 18s/step - loss: 0.0604 - accuracy: 0.9574 - val_loss: 0.0124 - val_accuracy: 1.0000\n",
            "Epoch 6/15\n",
            "11/11 [==============================] - 190s 17s/step - loss: 0.0254 - accuracy: 0.9909 - val_loss: 0.0162 - val_accuracy: 0.9889\n",
            "              precision    recall  f1-score   support\n",
            "\n",
            "  Lungcancer       1.00      0.97      0.98        33\n",
            "      Normal       1.00      1.00      1.00        26\n",
            "Tuberculosis       0.97      1.00      0.98        31\n",
            "\n",
            "    accuracy                           0.99        90\n",
            "   macro avg       0.99      0.99      0.99        90\n",
            "weighted avg       0.99      0.99      0.99        90\n",
            "\n",
            "Fold #3\n",
            "Epoch 1/15\n",
            "11/11 [==============================] - 190s 17s/step - loss: 0.0427 - accuracy: 0.9696 - val_loss: 0.0838 - val_accuracy: 0.9444\n",
            "Epoch 2/15\n",
            "11/11 [==============================] - 192s 17s/step - loss: 0.0472 - accuracy: 0.9757 - val_loss: 0.0941 - val_accuracy: 0.9444\n",
            "Epoch 3/15\n",
            "11/11 [==============================] - 190s 17s/step - loss: 0.0468 - accuracy: 0.9878 - val_loss: 0.1809 - val_accuracy: 0.9333\n",
            "Epoch 4/15\n",
            "11/11 [==============================] - 190s 17s/step - loss: 0.0286 - accuracy: 0.9909 - val_loss: 0.1660 - val_accuracy: 0.9111\n",
            "              precision    recall  f1-score   support\n",
            "\n",
            "  Lungcancer       1.00      0.97      0.98        29\n",
            "      Normal       1.00      0.79      0.88        33\n",
            "Tuberculosis       0.78      1.00      0.88        28\n",
            "\n",
            "    accuracy                           0.91        90\n",
            "   macro avg       0.93      0.92      0.91        90\n",
            "weighted avg       0.93      0.91      0.91        90\n",
            "\n",
            "Fold #4\n",
            "Epoch 1/15\n",
            "11/11 [==============================] - 189s 17s/step - loss: 0.0271 - accuracy: 0.9848 - val_loss: 0.0047 - val_accuracy: 1.0000\n",
            "Epoch 2/15\n",
            "11/11 [==============================] - 213s 20s/step - loss: 0.0442 - accuracy: 0.9726 - val_loss: 0.0982 - val_accuracy: 0.9333\n",
            "Epoch 3/15\n",
            "11/11 [==============================] - 191s 17s/step - loss: 0.0590 - accuracy: 0.9726 - val_loss: 0.0186 - val_accuracy: 1.0000\n",
            "Epoch 4/15\n",
            "11/11 [==============================] - 191s 17s/step - loss: 0.0077 - accuracy: 1.0000 - val_loss: 0.0088 - val_accuracy: 1.0000\n",
            "              precision    recall  f1-score   support\n",
            "\n",
            "  Lungcancer       1.00      1.00      1.00        30\n",
            "      Normal       1.00      1.00      1.00        31\n",
            "Tuberculosis       1.00      1.00      1.00        29\n",
            "\n",
            "    accuracy                           1.00        90\n",
            "   macro avg       1.00      1.00      1.00        90\n",
            "weighted avg       1.00      1.00      1.00        90\n",
            "\n",
            "Fold #5\n",
            "Epoch 1/15\n",
            "11/11 [==============================] - 190s 17s/step - loss: 0.0328 - accuracy: 0.9848 - val_loss: 6.7009e-04 - val_accuracy: 1.0000\n",
            "Epoch 2/15\n",
            "11/11 [==============================] - 190s 17s/step - loss: 0.0094 - accuracy: 1.0000 - val_loss: 0.1286 - val_accuracy: 0.9333\n",
            "Epoch 3/15\n",
            "11/11 [==============================] - 194s 18s/step - loss: 0.0133 - accuracy: 0.9909 - val_loss: 0.0273 - val_accuracy: 0.9889\n",
            "Epoch 4/15\n",
            "11/11 [==============================] - 190s 17s/step - loss: 0.0151 - accuracy: 0.9970 - val_loss: 0.0106 - val_accuracy: 1.0000\n",
            "              precision    recall  f1-score   support\n",
            "\n",
            "  Lungcancer       1.00      1.00      1.00        30\n",
            "      Normal       1.00      1.00      1.00        28\n",
            "Tuberculosis       1.00      1.00      1.00        32\n",
            "\n",
            "    accuracy                           1.00        90\n",
            "   macro avg       1.00      1.00      1.00        90\n",
            "weighted avg       1.00      1.00      1.00        90\n",
            "\n"
          ]
        }
      ]
    },
    {
      "cell_type": "code",
      "source": [
        "oos_yF = np.concatenate(oos_yF)\n",
        "oos_predF = np.concatenate(oos_predF)"
      ],
      "metadata": {
        "id": "aySotbXFOY5c"
      },
      "execution_count": null,
      "outputs": []
    },
    {
      "cell_type": "code",
      "source": [
        "score = metrics.accuracy_score(oos_yF.argmax(axis=1),\t        #ค่า acc\n",
        "                                             oos_predF.argmax(axis=1) )\n",
        "print(f\"Fold score (accuracy): {score}\")\n",
        "\n",
        "print(classification_report(oos_yF.argmax(axis=1),\t                #แสดง report ค่า acc, recall, ...\n",
        "                                        oos_predF.argmax(axis=1),  \n",
        "                                        target_names=le3_Incep.classes_))"
      ],
      "metadata": {
        "colab": {
          "base_uri": "https://localhost:8080/"
        },
        "id": "iVmdGLryIYpM",
        "outputId": "08cd58fe-2cc2-4ee1-9128-f339c26e09a3"
      },
      "execution_count": null,
      "outputs": [
        {
          "output_type": "stream",
          "name": "stdout",
          "text": [
            "Fold score (accuracy): 0.9046563192904656\n",
            "              precision    recall  f1-score   support\n",
            "\n",
            "  Lungcancer       1.00      0.82      0.90       150\n",
            "      Normal       0.99      0.90      0.94       151\n",
            "Tuberculosis       0.78      0.99      0.88       150\n",
            "\n",
            "    accuracy                           0.90       451\n",
            "   macro avg       0.92      0.90      0.91       451\n",
            "weighted avg       0.92      0.90      0.91       451\n",
            "\n"
          ]
        }
      ]
    },
    {
      "cell_type": "code",
      "source": [
        ""
      ],
      "metadata": {
        "id": "uGGykClEOjHQ"
      },
      "execution_count": null,
      "outputs": []
    },
    {
      "cell_type": "code",
      "source": [
        ""
      ],
      "metadata": {
        "id": "5qat5tt5OiuZ"
      },
      "execution_count": null,
      "outputs": []
    },
    {
      "cell_type": "code",
      "source": [
        "#ลองเซฟโมเดล\n",
        "fold = 2\n",
        "if metrics.accuracy_score( ytest_IncepF.argmax(axis=1),  pred_IncepF.argmax(axis=1) )>0.7:\n",
        "    name = (f' model3_IncepF{fold}')\n",
        "    joblib.dump(model3_IncepF, name)"
      ],
      "metadata": {
        "id": "Wl3fkJIX4RZF",
        "outputId": "5c4c6c97-f8b5-409e-b576-a30a05354de3",
        "colab": {
          "base_uri": "https://localhost:8080/"
        }
      },
      "execution_count": null,
      "outputs": [
        {
          "output_type": "stream",
          "name": "stdout",
          "text": [
            "INFO:tensorflow:Assets written to: ram://a5d1d51e-3da4-454e-81fb-752e887bd981/assets\n"
          ]
        }
      ]
    },
    {
      "cell_type": "markdown",
      "source": [
        "## 2) Find Tuning \n",
        "\n",
        "ลองรันอีกรอบ แบบที่เพิ่ม epoch 30\n",
        "\n",
        "*   BS = 32\n",
        "*   fix weight & bias in layer 0-100\n",
        "*   learning_rate=0.0001\n"
      ],
      "metadata": {
        "id": "vYCx5EmvSb75"
      }
    },
    {
      "cell_type": "markdown",
      "source": [
        "##### Data"
      ],
      "metadata": {
        "id": "-aiw9cWnSsoB"
      }
    },
    {
      "cell_type": "code",
      "source": [
        "train_img3_Incep = []\n",
        "for ImageName in tqdm(data_train3['ImageName']):               # รัน ชื่อรูป ในไฟล์ data_test3\n",
        "    image_path = All_3class_dir +'/' + ImageName                   # ดึงรูปในโฟล์เดอร์มาทีละรูป\n",
        "    img = cv2.imread(image_path)                                            # อ่านรูป\n",
        "    img = cv2.resize(img, (299, 299))                                       #ขนาดของ input\n",
        "    train_img3_Incep.append(img)\n",
        "\n",
        "data3_Incep = np.array(train_img3_Incep, dtype=\"float32\") / 255.0"
      ],
      "metadata": {
        "outputId": "367c775f-52e4-4783-9c48-746057af1f95",
        "colab": {
          "base_uri": "https://localhost:8080/"
        },
        "id": "k10f7ZXMSb76"
      },
      "execution_count": 12,
      "outputs": [
        {
          "output_type": "stream",
          "name": "stderr",
          "text": [
            "100%|██████████| 451/451 [03:09<00:00,  2.38it/s]\n"
          ]
        }
      ]
    },
    {
      "cell_type": "code",
      "source": [
        "labels3_Incep = np.array(data_train3[['NameType']] )        \n",
        "labels3_Incep.shape = (len(labels3_Incep),) \n",
        "\n",
        "le3_Incep = LabelEncoder()                                                                     \n",
        "labels3_Incep = le3_Incep.fit_transform(labels3_Incep)                                         #จะแปลงชื่อ class เป็นตัวเลข 1, 2, 0 \n",
        "\n",
        "labels3_Incep = to_categorical(labels3_Incep, num_classes=3)                   #shape (180, 3) มีค่าเป็น  [0., 1., 0.]  กับ   [0., 0., 1.] กับ  [1., 0., 0.]"
      ],
      "metadata": {
        "id": "V2fV10GkSb77"
      },
      "execution_count": 13,
      "outputs": []
    },
    {
      "cell_type": "markdown",
      "source": [
        "##### Model"
      ],
      "metadata": {
        "id": "To8jsVdhSxEW"
      }
    },
    {
      "cell_type": "code",
      "source": [
        "base_model3_Incep = tf.keras.applications.InceptionV3(input_shape=(299, 299, 3), include_top=False, weights=\"imagenet\")\n",
        "len(base_model3_Incep.layers)"
      ],
      "metadata": {
        "outputId": "bc61bac4-52c5-47c4-8386-b76fb42d60ca",
        "colab": {
          "base_uri": "https://localhost:8080/"
        },
        "id": "z7m_pUvWSb78"
      },
      "execution_count": 14,
      "outputs": [
        {
          "output_type": "stream",
          "name": "stdout",
          "text": [
            "Downloading data from https://storage.googleapis.com/tensorflow/keras-applications/inception_v3/inception_v3_weights_tf_dim_ordering_tf_kernels_notop.h5\n",
            "87916544/87910968 [==============================] - 2s 0us/step\n",
            "87924736/87910968 [==============================] - 2s 0us/step\n"
          ]
        },
        {
          "output_type": "execute_result",
          "data": {
            "text/plain": [
              "311"
            ]
          },
          "metadata": {},
          "execution_count": 14
        }
      ]
    },
    {
      "cell_type": "code",
      "source": [
        "base_model3_Incep.summary()"
      ],
      "metadata": {
        "id": "nnzey6FoxMP7"
      },
      "execution_count": null,
      "outputs": []
    },
    {
      "cell_type": "code",
      "source": [
        "base_model3_Incep.trainable = True\n",
        "for layer in base_model3_Incep.layers[:100]:    #fix w & bias in layer 0-100\n",
        "    layer.trainable = False"
      ],
      "metadata": {
        "id": "B6enx__aSb79"
      },
      "execution_count": 16,
      "outputs": []
    },
    {
      "cell_type": "code",
      "source": [
        "#Add custom head\n",
        "average_pooling_layer = tf.keras.layers.GlobalAveragePooling2D()(base_model3_Incep.output)\n",
        "\n",
        "prediction_layer = tf.keras.layers.Dense(units=3, activation=\"softmax\")(average_pooling_layer)   # unit 3\n",
        "model3_IncepF2 = tf.keras.models.Model(inputs=base_model3_Incep.input, outputs=prediction_layer)\n",
        "\n",
        "model3_IncepF2.compile(optimizer=tf.keras.optimizers.RMSprop(learning_rate=0.0001), loss=\"binary_crossentropy\", metrics=[\"accuracy\"])"
      ],
      "metadata": {
        "id": "r8mTzLV7Sb79"
      },
      "execution_count": 17,
      "outputs": []
    },
    {
      "cell_type": "code",
      "source": [
        "model3_IncepF2.summary()"
      ],
      "metadata": {
        "id": "YnfUkJJkxjeA"
      },
      "execution_count": null,
      "outputs": []
    },
    {
      "cell_type": "code",
      "source": [
        "INIT_LR = 1e-1\n",
        "BS = 32\n",
        "EPOCHS = 50\n",
        "\n",
        "aug2 = ImageDataGenerator(\n",
        "\t\trotation_range=15,\t\t\t\t\t\t#องศาการหมุน\n",
        "\t\twidth_shift_range=0.15,\t\t\t\t  #เลื่อนลง-ขึ้น ซ้ายขวา\n",
        "\t\theight_shift_range=0.15,\n",
        "\t\tshear_range=0.15, \t\t\t\t\t\t#ขยับมุมภาพ ซ้าย และ/หรือ ขวา ไปด้านข้าง เช่น จะกลายเป็นสี่เหลี่ยมด้านขนาน \n",
        "\t\thorizontal_flip=True,\n",
        "\t\tfill_mode='constant')\n",
        "\n",
        "callback = tf.keras.callbacks.EarlyStopping(\n",
        "                monitor=\"val_accuracy\",\n",
        "                patience=3,\n",
        "                mode=\"max\" )"
      ],
      "metadata": {
        "id": "rZMhxgf6WWfU"
      },
      "execution_count": 19,
      "outputs": []
    },
    {
      "cell_type": "code",
      "source": [
        "kf_IncepF2 = KFold(5, shuffle=True, random_state=40) \n",
        "\n",
        "oos_yF2 = []\n",
        "oos_predF2 = []\n",
        "fold = 0\n",
        "\n",
        "for train, test in kf_IncepF2.split(data3_Incep):\n",
        "    fold+=1\n",
        "    print(f\"Fold #{fold}\")\n",
        "        \n",
        "    xtrain_IncepF2 = data3_Incep[train]\n",
        "    ytrain_IncepF2 = labels3_Incep[train]\n",
        "    xtest_IncepF2 = data3_Incep[test]\n",
        "    ytest_IncepF2 = labels3_Incep[test]\n",
        "\n",
        "    M_IncepF2 = model3_IncepF2.fit( x=aug2.flow(xtrain_IncepF2, ytrain_IncepF2, batch_size=BS),\n",
        "\t                                            validation_data=(xtest_IncepF2, ytest_IncepF2),\n",
        "\t                                            steps_per_epoch=len(xtrain_IncepF2) // BS,\n",
        "\t                                            epochs=30,  callbacks = [callback])\n",
        "    \n",
        "    pred_IncepF2 = model3_IncepF2.predict(xtest_IncepF2)\n",
        "\n",
        "    oos_yF2.append(ytest_IncepF2)\n",
        "    oos_predF2.append(pred_IncepF2) \n",
        "\n",
        "    score = metrics.accuracy_score(ytest_IncepF2.argmax(axis=1),\t        #ค่า acc\n",
        "                                               pred_IncepF2.argmax(axis=1) )\n",
        "    print(f'Fold #{fold} score (accuracy): {score}')\n",
        "    \n",
        "\n",
        "#    if metrics.accuracy_score( ytest_IncepF2.argmax(axis=1),  pred_IncepF2.argmax(axis=1) )>0.9:\n",
        " #       name = (f' model3_IncepF2_Fold{fold}')\n",
        "  #      joblib.dump(model3_IncepF2, name)\n",
        "\n",
        "#    print(confusion_matrix(ytest_IncepF.argmax(axis=1),\t                       #แสดง confusion_matrix\n",
        "#                        pred3_IncepF.argmax(axis=1) ) )"
      ],
      "metadata": {
        "id": "egNq8bzjSb7-",
        "outputId": "a7997dac-4004-4db2-ddb8-f6280a324190",
        "colab": {
          "base_uri": "https://localhost:8080/",
          "height": 1000
        }
      },
      "execution_count": 20,
      "outputs": [
        {
          "output_type": "stream",
          "name": "stdout",
          "text": [
            "Fold #1\n",
            "Epoch 1/30\n",
            "11/11 [==============================] - 179s 15s/step - loss: 0.4941 - accuracy: 0.6402 - val_loss: 1.2313 - val_accuracy: 0.3956\n",
            "Epoch 2/30\n",
            "11/11 [==============================] - 167s 15s/step - loss: 0.3458 - accuracy: 0.7927 - val_loss: 1.5341 - val_accuracy: 0.3846\n",
            "Epoch 3/30\n",
            "11/11 [==============================] - 166s 15s/step - loss: 0.2591 - accuracy: 0.8323 - val_loss: 1.5701 - val_accuracy: 0.3626\n",
            "Epoch 4/30\n",
            "11/11 [==============================] - 165s 15s/step - loss: 0.2039 - accuracy: 0.8872 - val_loss: 1.2643 - val_accuracy: 0.4286\n",
            "Epoch 5/30\n",
            "11/11 [==============================] - 163s 15s/step - loss: 0.1457 - accuracy: 0.9268 - val_loss: 1.3510 - val_accuracy: 0.4505\n",
            "Epoch 6/30\n",
            "11/11 [==============================] - 164s 15s/step - loss: 0.1662 - accuracy: 0.9055 - val_loss: 1.1395 - val_accuracy: 0.4615\n",
            "Epoch 7/30\n",
            "11/11 [==============================] - 164s 15s/step - loss: 0.0881 - accuracy: 0.9604 - val_loss: 0.8741 - val_accuracy: 0.5934\n",
            "Epoch 8/30\n",
            "11/11 [==============================] - 164s 15s/step - loss: 0.1139 - accuracy: 0.9360 - val_loss: 1.1876 - val_accuracy: 0.5275\n",
            "Epoch 9/30\n",
            "11/11 [==============================] - 162s 15s/step - loss: 0.0933 - accuracy: 0.9421 - val_loss: 0.9429 - val_accuracy: 0.6044\n",
            "Epoch 10/30\n",
            "11/11 [==============================] - 161s 15s/step - loss: 0.0549 - accuracy: 0.9787 - val_loss: 0.8604 - val_accuracy: 0.6484\n",
            "Epoch 11/30\n",
            "11/11 [==============================] - 161s 16s/step - loss: 0.0415 - accuracy: 0.9817 - val_loss: 0.8953 - val_accuracy: 0.6703\n",
            "Epoch 12/30\n",
            "11/11 [==============================] - 171s 16s/step - loss: 0.0765 - accuracy: 0.9716 - val_loss: 0.8104 - val_accuracy: 0.6923\n",
            "Epoch 13/30\n",
            "11/11 [==============================] - 161s 15s/step - loss: 0.0371 - accuracy: 0.9909 - val_loss: 1.2526 - val_accuracy: 0.6593\n",
            "Epoch 14/30\n",
            "11/11 [==============================] - 171s 16s/step - loss: 0.0324 - accuracy: 0.9886 - val_loss: 1.0143 - val_accuracy: 0.6923\n",
            "Epoch 15/30\n",
            "11/11 [==============================] - 162s 15s/step - loss: 0.0365 - accuracy: 0.9848 - val_loss: 1.3102 - val_accuracy: 0.6923\n",
            "Fold #1 score (accuracy): 0.6923076923076923\n",
            "Fold #2\n",
            "Epoch 1/30\n",
            "11/11 [==============================] - 162s 15s/step - loss: 0.1663 - accuracy: 0.9240 - val_loss: 0.7908 - val_accuracy: 0.6889\n",
            "Epoch 2/30\n",
            "11/11 [==============================] - 162s 15s/step - loss: 0.0819 - accuracy: 0.9605 - val_loss: 1.0080 - val_accuracy: 0.6556\n",
            "Epoch 3/30\n",
            "11/11 [==============================] - 161s 15s/step - loss: 0.0635 - accuracy: 0.9726 - val_loss: 1.9747 - val_accuracy: 0.5667\n",
            "Epoch 4/30\n",
            "11/11 [==============================] - 163s 15s/step - loss: 0.0498 - accuracy: 0.9757 - val_loss: 1.4776 - val_accuracy: 0.5333\n",
            "Fold #2 score (accuracy): 0.5333333333333333\n",
            "Fold #3\n",
            "Epoch 1/30\n",
            "11/11 [==============================] - 163s 16s/step - loss: 0.0482 - accuracy: 0.9757 - val_loss: 1.6998 - val_accuracy: 0.5778\n",
            "Epoch 2/30\n",
            "11/11 [==============================] - 163s 15s/step - loss: 0.0603 - accuracy: 0.9696 - val_loss: 0.6608 - val_accuracy: 0.7889\n",
            "Epoch 3/30\n",
            "11/11 [==============================] - 163s 15s/step - loss: 0.0177 - accuracy: 0.9939 - val_loss: 0.6944 - val_accuracy: 0.7667\n",
            "Epoch 4/30\n",
            "11/11 [==============================] - 173s 16s/step - loss: 0.0161 - accuracy: 0.9943 - val_loss: 0.5652 - val_accuracy: 0.8111\n",
            "Epoch 5/30\n",
            "11/11 [==============================] - 163s 16s/step - loss: 0.0331 - accuracy: 0.9757 - val_loss: 0.3596 - val_accuracy: 0.8667\n",
            "Epoch 6/30\n",
            "11/11 [==============================] - 164s 15s/step - loss: 0.0227 - accuracy: 0.9878 - val_loss: 0.5376 - val_accuracy: 0.8222\n",
            "Epoch 7/30\n",
            "11/11 [==============================] - 175s 16s/step - loss: 0.0154 - accuracy: 0.9943 - val_loss: 0.0766 - val_accuracy: 0.9556\n",
            "Epoch 8/30\n",
            "11/11 [==============================] - 165s 15s/step - loss: 0.0256 - accuracy: 0.9848 - val_loss: 0.0328 - val_accuracy: 0.9778\n",
            "Epoch 9/30\n",
            "11/11 [==============================] - 165s 15s/step - loss: 0.0056 - accuracy: 1.0000 - val_loss: 0.0251 - val_accuracy: 0.9778\n",
            "Epoch 10/30\n",
            "11/11 [==============================] - 164s 15s/step - loss: 0.0150 - accuracy: 0.9909 - val_loss: 0.0839 - val_accuracy: 0.9556\n",
            "Epoch 11/30\n",
            "11/11 [==============================] - 163s 15s/step - loss: 0.0258 - accuracy: 0.9848 - val_loss: 0.2746 - val_accuracy: 0.8889\n",
            "Fold #3 score (accuracy): 0.8888888888888888\n",
            "Fold #4\n",
            "Epoch 1/30\n",
            "11/11 [==============================] - 173s 16s/step - loss: 0.0234 - accuracy: 0.9915 - val_loss: 0.3177 - val_accuracy: 0.8556\n",
            "Epoch 2/30\n",
            "11/11 [==============================] - 163s 15s/step - loss: 0.0111 - accuracy: 0.9939 - val_loss: 0.4104 - val_accuracy: 0.8222\n",
            "Epoch 3/30\n",
            "11/11 [==============================] - 163s 15s/step - loss: 0.0327 - accuracy: 0.9848 - val_loss: 0.1124 - val_accuracy: 0.9556\n",
            "Epoch 4/30\n",
            "11/11 [==============================] - 163s 15s/step - loss: 0.0618 - accuracy: 0.9696 - val_loss: 0.6735 - val_accuracy: 0.7778\n",
            "Epoch 5/30\n",
            "11/11 [==============================] - 173s 16s/step - loss: 0.0173 - accuracy: 0.9943 - val_loss: 0.1503 - val_accuracy: 0.9222\n",
            "Epoch 6/30\n",
            "11/11 [==============================] - 164s 15s/step - loss: 0.0075 - accuracy: 0.9970 - val_loss: 0.2243 - val_accuracy: 0.9222\n",
            "Fold #4 score (accuracy): 0.9222222222222223\n",
            "Fold #5\n",
            "Epoch 1/30\n",
            "11/11 [==============================] - 163s 15s/step - loss: 0.0223 - accuracy: 0.9848 - val_loss: 0.0075 - val_accuracy: 0.9889\n",
            "Epoch 2/30\n",
            "11/11 [==============================] - 163s 15s/step - loss: 0.0224 - accuracy: 0.9878 - val_loss: 0.0293 - val_accuracy: 0.9778\n",
            "Epoch 3/30\n",
            "11/11 [==============================] - 163s 15s/step - loss: 0.0232 - accuracy: 0.9878 - val_loss: 0.0188 - val_accuracy: 1.0000\n",
            "Epoch 4/30\n",
            "11/11 [==============================] - 163s 15s/step - loss: 0.0109 - accuracy: 0.9939 - val_loss: 0.0766 - val_accuracy: 0.9778\n",
            "Epoch 5/30\n",
            "11/11 [==============================] - 163s 15s/step - loss: 0.0149 - accuracy: 0.9909 - val_loss: 0.0517 - val_accuracy: 0.9778\n",
            "Epoch 6/30\n",
            "11/11 [==============================] - 164s 15s/step - loss: 0.0414 - accuracy: 0.9787 - val_loss: 0.1308 - val_accuracy: 0.9444\n",
            "Fold #5 score (accuracy): 0.9444444444444444\n"
          ]
        },
        {
          "output_type": "error",
          "ename": "AttributeError",
          "evalue": "ignored",
          "traceback": [
            "\u001b[0;31m---------------------------------------------------------------------------\u001b[0m",
            "\u001b[0;31mAttributeError\u001b[0m                            Traceback (most recent call last)",
            "\u001b[0;32m<ipython-input-20-a37f83524ac9>\u001b[0m in \u001b[0;36m<module>\u001b[0;34m()\u001b[0m\n\u001b[1;32m     28\u001b[0m     \u001b[0mprint\u001b[0m\u001b[0;34m(\u001b[0m\u001b[0;34mf'Fold #{fold} score (accuracy): {score}'\u001b[0m\u001b[0;34m)\u001b[0m\u001b[0;34m\u001b[0m\u001b[0;34m\u001b[0m\u001b[0m\n\u001b[1;32m     29\u001b[0m \u001b[0;34m\u001b[0m\u001b[0m\n\u001b[0;32m---> 30\u001b[0;31m print(classification_report(oos_yF2.argmax(axis=1),\t                #แสดง report ค่า acc, recall, ...\n\u001b[0m\u001b[1;32m     31\u001b[0m                                         \u001b[0moos_predF2\u001b[0m\u001b[0;34m.\u001b[0m\u001b[0margmax\u001b[0m\u001b[0;34m(\u001b[0m\u001b[0maxis\u001b[0m\u001b[0;34m=\u001b[0m\u001b[0;36m1\u001b[0m\u001b[0;34m)\u001b[0m\u001b[0;34m,\u001b[0m\u001b[0;34m\u001b[0m\u001b[0;34m\u001b[0m\u001b[0m\n\u001b[1;32m     32\u001b[0m                                         target_names=le3_Incep.classes_))\n",
            "\u001b[0;31mAttributeError\u001b[0m: 'list' object has no attribute 'argmax'"
          ]
        }
      ]
    },
    {
      "cell_type": "code",
      "source": [
        "oos_yF2 = np.concatenate(oos_yF2)\n",
        "oos_predF2 = np.concatenate(oos_predF2)"
      ],
      "metadata": {
        "id": "B0SObLRLQhwq"
      },
      "execution_count": 21,
      "outputs": []
    },
    {
      "cell_type": "code",
      "source": [
        "print(classification_report(oos_yF2.argmax(axis=1),\t                #แสดง report ค่า acc, recall, ...\n",
        "                                        oos_predF2.argmax(axis=1),  \n",
        "                                        target_names=le3_Incep.classes_))"
      ],
      "metadata": {
        "id": "3TZeRHN6EBB_",
        "colab": {
          "base_uri": "https://localhost:8080/"
        },
        "outputId": "2e3baca4-2de5-4d18-91ba-798e6e07d185"
      },
      "execution_count": 22,
      "outputs": [
        {
          "output_type": "stream",
          "name": "stdout",
          "text": [
            "              precision    recall  f1-score   support\n",
            "\n",
            "  Lungcancer       1.00      0.49      0.66       150\n",
            "      Normal       0.96      0.89      0.93       151\n",
            "Tuberculosis       0.63      1.00      0.78       150\n",
            "\n",
            "    accuracy                           0.80       451\n",
            "   macro avg       0.87      0.80      0.79       451\n",
            "weighted avg       0.87      0.80      0.79       451\n",
            "\n"
          ]
        }
      ]
    },
    {
      "cell_type": "markdown",
      "source": [
        "## 3) Find Tuning \n",
        "\n",
        "*   activation=\"sigmoid\"\n",
        "*   fix weight & bias in layer 0-100\n",
        "\n",
        "\n"
      ],
      "metadata": {
        "id": "4_k4Yl0oRtFg"
      }
    },
    {
      "cell_type": "code",
      "source": [
        "train_img3_Incep = []\n",
        "for ImageName in tqdm(data_train3['ImageName']):               # รัน ชื่อรูป ในไฟล์ data_test3\n",
        "    image_path = All_3class_dir +'/' + ImageName                   # ดึงรูปในโฟล์เดอร์มาทีละรูป\n",
        "    img = cv2.imread(image_path)                                            # อ่านรูป\n",
        "    img = cv2.resize(img, (299, 299))                                       #ขนาดของ input\n",
        "    train_img3_Incep.append(img)\n",
        "\n",
        "data3_Incep = np.array(train_img3_Incep, dtype=\"float32\") / 255.0"
      ],
      "metadata": {
        "outputId": "4b546d22-1350-4aff-f4b6-de86e4cf8e18",
        "colab": {
          "base_uri": "https://localhost:8080/"
        },
        "id": "TxQmIQrYRtFg"
      },
      "execution_count": 23,
      "outputs": [
        {
          "output_type": "stream",
          "name": "stderr",
          "text": [
            "100%|██████████| 451/451 [00:05<00:00, 85.70it/s] \n"
          ]
        }
      ]
    },
    {
      "cell_type": "code",
      "source": [
        "labels3_Incep = np.array(data_train3[['NameType']] )        \n",
        "labels3_Incep.shape = (len(labels3_Incep),) \n",
        "\n",
        "le3_Incep = LabelEncoder()                                                                     \n",
        "labels3_Incep = le3_Incep.fit_transform(labels3_Incep)                                         #จะแปลงชื่อ class เป็นตัวเลข 1, 2, 0 \n",
        "\n",
        "labels3_Incep = to_categorical(labels3_Incep, num_classes=3)                   #shape (180, 3) มีค่าเป็น  [0., 1., 0.]  กับ   [0., 0., 1.] กับ  [1., 0., 0.]"
      ],
      "metadata": {
        "id": "psJ48ZQSRtFh"
      },
      "execution_count": 24,
      "outputs": []
    },
    {
      "cell_type": "markdown",
      "source": [
        "##### Model"
      ],
      "metadata": {
        "id": "MW4jYyp8oV2I"
      }
    },
    {
      "cell_type": "code",
      "source": [
        "base_model3_Incep = tf.keras.applications.InceptionV3(input_shape=(299, 299, 3), include_top=False, weights=\"imagenet\")\n",
        "len(base_model3_Incep.layers)"
      ],
      "metadata": {
        "outputId": "5f44c5ab-c816-4913-ac6b-7a97d57a7174",
        "colab": {
          "base_uri": "https://localhost:8080/"
        },
        "id": "6ee6GBUYRtFh"
      },
      "execution_count": 25,
      "outputs": [
        {
          "output_type": "execute_result",
          "data": {
            "text/plain": [
              "311"
            ]
          },
          "metadata": {},
          "execution_count": 25
        }
      ]
    },
    {
      "cell_type": "code",
      "source": [
        "base_model3_Incep.trainable = True\n",
        "for layer in base_model3_Incep.layers[:100]:    #fix w & bias in layer 0-100\n",
        "    layer.trainable = False"
      ],
      "metadata": {
        "id": "_drdXI13RtFh"
      },
      "execution_count": 26,
      "outputs": []
    },
    {
      "cell_type": "code",
      "source": [
        "#Add custom head\n",
        "average_pooling_layer = tf.keras.layers.GlobalAveragePooling2D()(base_model3_Incep.output)\n",
        "\n",
        "prediction_layer = tf.keras.layers.Dense(units=3, activation=\"sigmoid\")(average_pooling_layer)   # unit 3\n",
        "model3_IncepF3 = tf.keras.models.Model(inputs=base_model3_Incep.input, outputs=prediction_layer)\n",
        "\n",
        "model3_IncepF3.compile(optimizer=tf.keras.optimizers.RMSprop(learning_rate=0.001), loss=\"binary_crossentropy\", metrics=[\"accuracy\"])"
      ],
      "metadata": {
        "id": "3WKDkqCMSieV"
      },
      "execution_count": 27,
      "outputs": []
    },
    {
      "cell_type": "code",
      "source": [
        "INIT_LR = 1e-1\n",
        "BS = 16\n",
        "\n",
        "aug3 = ImageDataGenerator(\n",
        "\t\trotation_range=15,\t\t\t\t\t\t#องศาการหมุน\n",
        "\t\twidth_shift_range=0.1,\n",
        "\t\theight_shift_range=0.1,\n",
        "\t\tshear_range=0.15,\n",
        "\t\thorizontal_flip=True,\n",
        "\t\tfill_mode=\"nearest\")\n",
        "\n",
        "callback = tf.keras.callbacks.EarlyStopping(\n",
        "                monitor=\"val_accuracy\",\n",
        "                patience=3,\n",
        "                mode=\"max\" )"
      ],
      "metadata": {
        "id": "or1aBryZRtFi"
      },
      "execution_count": 28,
      "outputs": []
    },
    {
      "cell_type": "code",
      "source": [
        "kf_IncepF3 = KFold(5, shuffle=True, random_state=40) \n",
        "\n",
        "oos_yF3 = []\n",
        "oos_predF3 = []\n",
        "fold = 0\n",
        "\n",
        "for train, test in kf_IncepF3.split(data3_Incep):\n",
        "    fold+=1\n",
        "    print(f\"Fold #{fold}\")\n",
        "        \n",
        "    xtrain_IncepF3 = data3_Incep[train]\n",
        "    ytrain_IncepF3 = labels3_Incep[train]\n",
        "    xtest_IncepF3 = data3_Incep[test]\n",
        "    ytest_IncepF3 = labels3_Incep[test]\n",
        "\n",
        "    M_IncepF3 = model3_IncepF3.fit( x=aug3.flow(xtrain_IncepF3, ytrain_IncepF3, batch_size=BS),\n",
        "\t                                            validation_data=(xtest_IncepF3, ytest_IncepF3),\n",
        "\t                                            steps_per_epoch=len(xtrain_IncepF3) // BS,\n",
        "\t                                            epochs=30,  callbacks = [callback])\n",
        "    \n",
        "    pred_IncepF3 = model3_IncepF3.predict(xtest_IncepF3)\n",
        "    \n",
        "    oos_yF3.append(ytest_IncepF3)\n",
        "    oos_predF3.append(pred_IncepF3)  \n",
        "    print(classification_report(ytest_IncepF3.argmax(axis=1),\t                #แสดง report ค่า acc, recall, ...\n",
        "                                        pred_IncepF3.argmax(axis=1),  \n",
        "                                        target_names=le3_Incep.classes_))\n",
        "\n",
        "#   score = metrics.accuracy_score(ytest_IncepF.argmax(axis=1),\t        #ค่า acc\n",
        "#                                               pred_IncepF.argmax(axis=1)\n",
        "#    print(f\"Fold score (accuracy): {score}\")\n",
        "\n",
        "#    print(confusion_matrix(ytest_IncepF.argmax(axis=1),\t                       #แสดง confusion_matrix\n",
        "#                        pred3_IncepF.argmax(axis=1) ) )"
      ],
      "metadata": {
        "outputId": "b1dac015-bc1e-4ab0-8ec7-eb541de79798",
        "colab": {
          "base_uri": "https://localhost:8080/"
        },
        "id": "6gVL16kDRtFi"
      },
      "execution_count": 29,
      "outputs": [
        {
          "metadata": {
            "tags": null
          },
          "name": "stdout",
          "output_type": "stream",
          "text": [
            "Fold #1\n",
            "Epoch 1/30\n",
            "22/22 [==============================] - 185s 8s/step - loss: 0.7111 - accuracy: 0.3634 - val_loss: 11.0639 - val_accuracy: 0.3626\n",
            "Epoch 2/30\n",
            "22/22 [==============================] - 173s 8s/step - loss: 0.5690 - accuracy: 0.5523 - val_loss: 6.6138 - val_accuracy: 0.4286\n",
            "Epoch 3/30\n",
            "22/22 [==============================] - 173s 8s/step - loss: 0.5049 - accuracy: 0.6047 - val_loss: 5.6047 - val_accuracy: 0.3736\n",
            "Epoch 4/30\n",
            "22/22 [==============================] - 172s 8s/step - loss: 0.4228 - accuracy: 0.7064 - val_loss: 4.8709 - val_accuracy: 0.3846\n",
            "Epoch 5/30\n",
            "22/22 [==============================] - 175s 8s/step - loss: 0.3286 - accuracy: 0.7500 - val_loss: 1.4466 - val_accuracy: 0.6484\n",
            "Epoch 6/30\n",
            "22/22 [==============================] - 172s 8s/step - loss: 0.3368 - accuracy: 0.7616 - val_loss: 1.5212 - val_accuracy: 0.6593\n",
            "Epoch 7/30\n",
            "22/22 [==============================] - 171s 8s/step - loss: 0.2781 - accuracy: 0.7878 - val_loss: 45.6544 - val_accuracy: 0.3407\n",
            "Epoch 8/30\n",
            "22/22 [==============================] - 171s 8s/step - loss: 0.2800 - accuracy: 0.8285 - val_loss: 149.2256 - val_accuracy: 0.3077\n",
            "Epoch 9/30\n",
            "22/22 [==============================] - 175s 8s/step - loss: 0.2441 - accuracy: 0.8295 - val_loss: 4.1380 - val_accuracy: 0.4945\n",
            "              precision    recall  f1-score   support\n",
            "\n",
            "  Lungcancer       1.00      0.07      0.13        28\n",
            "      Normal       0.53      0.91      0.67        33\n",
            "Tuberculosis       0.41      0.43      0.42        30\n",
            "\n",
            "    accuracy                           0.49        91\n",
            "   macro avg       0.64      0.47      0.41        91\n",
            "weighted avg       0.63      0.49      0.42        91\n",
            "\n",
            "Fold #2\n",
            "Epoch 1/30\n",
            "22/22 [==============================] - 172s 8s/step - loss: 0.2759 - accuracy: 0.8145 - val_loss: 4.5764 - val_accuracy: 0.5111\n",
            "Epoch 2/30\n",
            "22/22 [==============================] - 172s 8s/step - loss: 0.2457 - accuracy: 0.8406 - val_loss: 2.3226 - val_accuracy: 0.4667\n",
            "Epoch 3/30\n",
            "22/22 [==============================] - 172s 8s/step - loss: 0.2391 - accuracy: 0.8609 - val_loss: 0.2623 - val_accuracy: 0.8444\n",
            "Epoch 4/30\n",
            "22/22 [==============================] - 172s 8s/step - loss: 0.2433 - accuracy: 0.8522 - val_loss: 47.7546 - val_accuracy: 0.3667\n",
            "Epoch 5/30\n",
            "22/22 [==============================] - 172s 8s/step - loss: 0.2078 - accuracy: 0.8638 - val_loss: 333.0103 - val_accuracy: 0.2889\n",
            "Epoch 6/30\n",
            "22/22 [==============================] - 172s 8s/step - loss: 0.1921 - accuracy: 0.8899 - val_loss: 4.2354 - val_accuracy: 0.4556\n"
          ]
        },
        {
          "metadata": {
            "tags": null
          },
          "name": "stderr",
          "output_type": "stream",
          "text": [
            "/usr/local/lib/python3.7/dist-packages/sklearn/metrics/_classification.py:1318: UndefinedMetricWarning: Precision and F-score are ill-defined and being set to 0.0 in labels with no predicted samples. Use `zero_division` parameter to control this behavior.\n",
            "  _warn_prf(average, modifier, msg_start, len(result))\n",
            "/usr/local/lib/python3.7/dist-packages/sklearn/metrics/_classification.py:1318: UndefinedMetricWarning: Precision and F-score are ill-defined and being set to 0.0 in labels with no predicted samples. Use `zero_division` parameter to control this behavior.\n",
            "  _warn_prf(average, modifier, msg_start, len(result))\n",
            "/usr/local/lib/python3.7/dist-packages/sklearn/metrics/_classification.py:1318: UndefinedMetricWarning: Precision and F-score are ill-defined and being set to 0.0 in labels with no predicted samples. Use `zero_division` parameter to control this behavior.\n",
            "  _warn_prf(average, modifier, msg_start, len(result))\n"
          ]
        },
        {
          "metadata": {
            "tags": null
          },
          "name": "stdout",
          "output_type": "stream",
          "text": [
            "              precision    recall  f1-score   support\n",
            "\n",
            "  Lungcancer       0.00      0.00      0.00        33\n",
            "      Normal       0.72      0.50      0.59        26\n",
            "Tuberculosis       0.39      0.90      0.54        31\n",
            "\n",
            "    accuracy                           0.46        90\n",
            "   macro avg       0.37      0.47      0.38        90\n",
            "weighted avg       0.34      0.46      0.36        90\n",
            "\n",
            "Fold #3\n",
            "Epoch 1/30\n",
            "22/22 [==============================] - 174s 8s/step - loss: 0.1925 - accuracy: 0.8870 - val_loss: 6.6523 - val_accuracy: 0.5222\n",
            "Epoch 2/30\n",
            "22/22 [==============================] - 174s 8s/step - loss: 0.1293 - accuracy: 0.9246 - val_loss: 3.3969 - val_accuracy: 0.6556\n",
            "Epoch 3/30\n",
            "22/22 [==============================] - 171s 8s/step - loss: 0.1289 - accuracy: 0.9246 - val_loss: 1.4979 - val_accuracy: 0.7444\n",
            "Epoch 4/30\n",
            "22/22 [==============================] - 172s 8s/step - loss: 0.1009 - accuracy: 0.9391 - val_loss: 2.5787 - val_accuracy: 0.6111\n",
            "Epoch 5/30\n",
            "22/22 [==============================] - 171s 8s/step - loss: 0.1182 - accuracy: 0.9333 - val_loss: 10.6113 - val_accuracy: 0.6778\n",
            "Epoch 6/30\n",
            "22/22 [==============================] - 171s 8s/step - loss: 0.0979 - accuracy: 0.9594 - val_loss: 1.3122 - val_accuracy: 0.8222\n",
            "Epoch 7/30\n",
            "22/22 [==============================] - 172s 8s/step - loss: 0.0809 - accuracy: 0.9565 - val_loss: 15.6699 - val_accuracy: 0.5222\n",
            "Epoch 8/30\n",
            "22/22 [==============================] - 172s 8s/step - loss: 0.1342 - accuracy: 0.9507 - val_loss: 1.2266 - val_accuracy: 0.6556\n",
            "Epoch 9/30\n",
            "22/22 [==============================] - 172s 8s/step - loss: 0.1355 - accuracy: 0.9072 - val_loss: 2.3487 - val_accuracy: 0.6556\n"
          ]
        },
        {
          "metadata": {
            "tags": null
          },
          "name": "stderr",
          "output_type": "stream",
          "text": [
            "/usr/local/lib/python3.7/dist-packages/sklearn/metrics/_classification.py:1318: UndefinedMetricWarning: Precision and F-score are ill-defined and being set to 0.0 in labels with no predicted samples. Use `zero_division` parameter to control this behavior.\n",
            "  _warn_prf(average, modifier, msg_start, len(result))\n",
            "/usr/local/lib/python3.7/dist-packages/sklearn/metrics/_classification.py:1318: UndefinedMetricWarning: Precision and F-score are ill-defined and being set to 0.0 in labels with no predicted samples. Use `zero_division` parameter to control this behavior.\n",
            "  _warn_prf(average, modifier, msg_start, len(result))\n",
            "/usr/local/lib/python3.7/dist-packages/sklearn/metrics/_classification.py:1318: UndefinedMetricWarning: Precision and F-score are ill-defined and being set to 0.0 in labels with no predicted samples. Use `zero_division` parameter to control this behavior.\n",
            "  _warn_prf(average, modifier, msg_start, len(result))\n"
          ]
        },
        {
          "output_type": "stream",
          "name": "stdout",
          "text": [
            "              precision    recall  f1-score   support\n",
            "\n",
            "  Lungcancer       0.00      0.00      0.00        29\n",
            "      Normal       0.97      0.97      0.97        33\n",
            "Tuberculosis       0.47      0.96      0.64        28\n",
            "\n",
            "    accuracy                           0.66        90\n",
            "   macro avg       0.48      0.64      0.53        90\n",
            "weighted avg       0.50      0.66      0.55        90\n",
            "\n",
            "Fold #4\n",
            "Epoch 1/30\n",
            "22/22 [==============================] - 172s 8s/step - loss: 0.1583 - accuracy: 0.9217 - val_loss: 3.6734 - val_accuracy: 0.5889\n",
            "Epoch 2/30\n",
            "22/22 [==============================] - 172s 8s/step - loss: 0.0844 - accuracy: 0.9565 - val_loss: 0.1338 - val_accuracy: 0.9444\n",
            "Epoch 3/30\n",
            "22/22 [==============================] - 173s 8s/step - loss: 0.1214 - accuracy: 0.9304 - val_loss: 0.6482 - val_accuracy: 0.8444\n",
            "Epoch 4/30\n",
            "22/22 [==============================] - 173s 8s/step - loss: 0.0886 - accuracy: 0.9507 - val_loss: 0.6135 - val_accuracy: 0.8333\n",
            "Epoch 5/30\n",
            "22/22 [==============================] - 172s 8s/step - loss: 0.0906 - accuracy: 0.9594 - val_loss: 0.9925 - val_accuracy: 0.7889\n",
            "              precision    recall  f1-score   support\n",
            "\n",
            "  Lungcancer       1.00      0.50      0.67        30\n",
            "      Normal       0.75      0.97      0.85        31\n",
            "Tuberculosis       0.74      0.90      0.81        29\n",
            "\n",
            "    accuracy                           0.79        90\n",
            "   macro avg       0.83      0.79      0.77        90\n",
            "weighted avg       0.83      0.79      0.78        90\n",
            "\n",
            "Fold #5\n",
            "Epoch 1/30\n",
            "22/22 [==============================] - 173s 8s/step - loss: 0.1099 - accuracy: 0.9449 - val_loss: 1.3504 - val_accuracy: 0.7778\n",
            "Epoch 2/30\n",
            "22/22 [==============================] - 173s 8s/step - loss: 0.0978 - accuracy: 0.9478 - val_loss: 0.8683 - val_accuracy: 0.7222\n",
            "Epoch 3/30\n",
            "22/22 [==============================] - 173s 8s/step - loss: 0.0837 - accuracy: 0.9565 - val_loss: 0.8010 - val_accuracy: 0.7889\n",
            "Epoch 4/30\n",
            "22/22 [==============================] - 172s 8s/step - loss: 0.0818 - accuracy: 0.9507 - val_loss: 0.5739 - val_accuracy: 0.8556\n",
            "Epoch 5/30\n",
            "22/22 [==============================] - 173s 8s/step - loss: 0.0750 - accuracy: 0.9652 - val_loss: 1.3983 - val_accuracy: 0.5889\n",
            "Epoch 6/30\n",
            "22/22 [==============================] - 174s 8s/step - loss: 0.0781 - accuracy: 0.9623 - val_loss: 0.6622 - val_accuracy: 0.8333\n",
            "Epoch 7/30\n",
            "22/22 [==============================] - 173s 8s/step - loss: 0.0685 - accuracy: 0.9681 - val_loss: 0.7240 - val_accuracy: 0.8556\n",
            "              precision    recall  f1-score   support\n",
            "\n",
            "  Lungcancer       1.00      0.57      0.72        30\n",
            "      Normal       1.00      1.00      1.00        28\n",
            "Tuberculosis       0.71      1.00      0.83        32\n",
            "\n",
            "    accuracy                           0.86        90\n",
            "   macro avg       0.90      0.86      0.85        90\n",
            "weighted avg       0.90      0.86      0.85        90\n",
            "\n"
          ]
        }
      ]
    },
    {
      "cell_type": "code",
      "source": [
        ""
      ],
      "metadata": {
        "id": "r9k5by_YsOKj"
      },
      "execution_count": null,
      "outputs": []
    },
    {
      "cell_type": "code",
      "source": [
        "oos_yF3 = np.concatenate(oos_yF3)\n",
        "oos_predF3 = np.concatenate(oos_predF3)"
      ],
      "metadata": {
        "id": "ASmPL4GxsOZ-"
      },
      "execution_count": 30,
      "outputs": []
    },
    {
      "cell_type": "code",
      "source": [
        "print(classification_report(oos_yF3.argmax(axis=1),\t                #แสดง report ค่า acc, recall, ...\n",
        "                                        oos_predF3.argmax(axis=1),  \n",
        "                                        target_names=le3_Incep.classes_))"
      ],
      "metadata": {
        "colab": {
          "base_uri": "https://localhost:8080/"
        },
        "outputId": "88024f10-29ba-44ba-e2cb-cea4f72ab48c",
        "id": "mjKTnShosOZ-"
      },
      "execution_count": 31,
      "outputs": [
        {
          "output_type": "stream",
          "name": "stdout",
          "text": [
            "              precision    recall  f1-score   support\n",
            "\n",
            "  Lungcancer       1.00      0.23      0.37       150\n",
            "      Normal       0.76      0.88      0.81       151\n",
            "Tuberculosis       0.52      0.84      0.64       150\n",
            "\n",
            "    accuracy                           0.65       451\n",
            "   macro avg       0.76      0.65      0.61       451\n",
            "weighted avg       0.76      0.65      0.61       451\n",
            "\n"
          ]
        }
      ]
    },
    {
      "cell_type": "code",
      "source": [
        ""
      ],
      "metadata": {
        "id": "vzyRoXJssOHn"
      },
      "execution_count": null,
      "outputs": []
    },
    {
      "cell_type": "code",
      "source": [
        ""
      ],
      "metadata": {
        "id": "tVx5H9PksOFG"
      },
      "execution_count": null,
      "outputs": []
    },
    {
      "cell_type": "code",
      "source": [
        "#ลองเซฟโมเดล\n",
        "fold = 2\n",
        "if metrics.accuracy_score( ytest_IncepF.argmax(axis=1),  pred_IncepF.argmax(axis=1) )>0.7:\n",
        "    name = (f' model3_IncepF{fold}')\n",
        "    joblib.dump(model3_IncepF, name)"
      ],
      "metadata": {
        "outputId": "5c4c6c97-f8b5-409e-b576-a30a05354de3",
        "colab": {
          "base_uri": "https://localhost:8080/"
        },
        "id": "ddq1y7UARtFi"
      },
      "execution_count": null,
      "outputs": [
        {
          "output_type": "stream",
          "name": "stdout",
          "text": [
            "INFO:tensorflow:Assets written to: ram://a5d1d51e-3da4-454e-81fb-752e887bd981/assets\n"
          ]
        }
      ]
    },
    {
      "cell_type": "code",
      "source": [
        ""
      ],
      "metadata": {
        "id": "uphHb6dwEA9Z"
      },
      "execution_count": null,
      "outputs": []
    },
    {
      "cell_type": "code",
      "source": [
        ""
      ],
      "metadata": {
        "id": "mICJ29bURsdi"
      },
      "execution_count": null,
      "outputs": []
    }
  ]
}