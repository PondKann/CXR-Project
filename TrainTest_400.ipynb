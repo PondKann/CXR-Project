{
  "cells": [
    {
      "cell_type": "markdown",
      "metadata": {
        "id": "view-in-github",
        "colab_type": "text"
      },
      "source": [
        "<a href=\"https://colab.research.google.com/github/PondKann/CXR-Project/blob/main/TrainTest_400.ipynb\" target=\"_parent\"><img src=\"https://colab.research.google.com/assets/colab-badge.svg\" alt=\"Open In Colab\"/></a>"
      ]
    },
    {
      "cell_type": "markdown",
      "metadata": {
        "id": "Kpnf_sft9x4-"
      },
      "source": [
        "###### import"
      ]
    },
    {
      "cell_type": "code",
      "execution_count": 1,
      "metadata": {
        "id": "Psng6eJUdzUG"
      },
      "outputs": [],
      "source": [
        "import os\n",
        "import tensorflow as tf\n",
        "import matplotlib.pyplot as plt\n",
        "%matplotlib inline\n",
        "from tensorflow.keras.preprocessing.image import ImageDataGenerator\n",
        "import cv2\n",
        "import numpy as np\n",
        "import pandas as pd\n",
        "from torchsummary import summary\n",
        "from skimage.io import imread, imsave\n",
        "from tqdm import tqdm\n",
        "\n",
        "from sklearn.model_selection import train_test_split\n",
        "from sklearn.metrics import accuracy_score, confusion_matrix\n",
        "\n",
        "import PIL\n",
        "from PIL import Image"
      ]
    },
    {
      "cell_type": "code",
      "execution_count": 2,
      "metadata": {
        "id": "6f-PDKiLl2iC"
      },
      "outputs": [],
      "source": [
        "# set the matplotlib backend so figures can be saved in the background\n",
        "import matplotlib\n",
        "matplotlib.use(\"Agg\")\n",
        "\n",
        "from sklearn.preprocessing import LabelEncoder\n",
        "from sklearn.metrics import classification_report\n",
        "from tensorflow.keras.optimizers import SGD\n",
        "from tensorflow.keras.utils import to_categorical\n",
        "from imutils import paths\n",
        "import argparse\n",
        "\n",
        "from sklearn.model_selection import KFold\n",
        "from sklearn import metrics\n",
        "from scipy.stats import zscore"
      ]
    },
    {
      "cell_type": "markdown",
      "metadata": {
        "id": "Z1e52UqdwPp8"
      },
      "source": [
        "#### Load data"
      ]
    },
    {
      "cell_type": "code",
      "execution_count": 14,
      "metadata": {
        "colab": {
          "base_uri": "https://localhost:8080/"
        },
        "id": "DlcukkP7fnhB",
        "outputId": "c96ba47a-7014-4de8-9abf-69711ea8b6ea"
      },
      "outputs": [
        {
          "output_type": "stream",
          "name": "stdout",
          "text": [
            "Drive already mounted at /content/drive; to attempt to forcibly remount, call drive.mount(\"/content/drive\", force_remount=True).\n"
          ]
        }
      ],
      "source": [
        "from google.colab import drive\n",
        "drive.mount('/content/drive')"
      ]
    },
    {
      "cell_type": "code",
      "execution_count": 15,
      "metadata": {
        "id": "0w8suy5ofqx_"
      },
      "outputs": [],
      "source": [
        "data_dir = '/content/drive/My Drive/Senior Project/CXR Image3class/Image'"
      ]
    },
    {
      "cell_type": "markdown",
      "metadata": {
        "id": "xhqPQxA42jeC"
      },
      "source": [
        "train 3 class"
      ]
    },
    {
      "cell_type": "code",
      "execution_count": 16,
      "metadata": {
        "id": "-Jrg5mt_RvJT"
      },
      "outputs": [],
      "source": [
        "Normal151_dir = os.path.join(data_dir,'Normal151')\n",
        "TB150_dir = os.path.join(data_dir,'TB150')\n",
        "CA150_dir = os.path.join(data_dir,'CA150')\n",
        "\n",
        "All_3class_dir = os.path.join(data_dir,'All_3class')"
      ]
    },
    {
      "cell_type": "markdown",
      "metadata": {
        "id": "g71UX3BnhMU5"
      },
      "source": [
        "#### train 3 class  --- สร้างตารางเก็บ ชื่อภาพ และชื่อคลาส\n",
        "ข้อมูลใน All_3class_dir รวมภาพทั้ง 3 คลาส รวม 451 ภาพ TB150, Normal151 และ CA150 (CA คือ lungcancer)"
      ]
    },
    {
      "cell_type": "code",
      "execution_count": 17,
      "metadata": {
        "id": "gbgiHWi9hMU6"
      },
      "outputs": [],
      "source": [
        "Normal151_dir = os.path.join(data_dir,'Normal151')\n",
        "TB150_dir = os.path.join(data_dir,'TB150')\n",
        "CA150_dir = os.path.join(data_dir,'CA150')\n",
        "\n",
        "All_3class_dir = os.path.join(data_dir,'All_3class')"
      ]
    },
    {
      "cell_type": "code",
      "execution_count": 18,
      "metadata": {
        "id": "XhIRkVUDhMU7"
      },
      "outputs": [],
      "source": [
        "normal = []\n",
        "for i in range(len(os.listdir(Normal151_dir))):\n",
        "    img = os.listdir(Normal151_dir)[i]\n",
        "    normal.append(img)\n",
        "    \n",
        "tnormal = pd.DataFrame({'ImageName':[normal][0],\n",
        "                                       'NameType': \"Normal\" ,\n",
        "                                       'NumberType': 0                      })"
      ]
    },
    {
      "cell_type": "code",
      "execution_count": 19,
      "metadata": {
        "id": "Lcw67LQyhMU7"
      },
      "outputs": [],
      "source": [
        "tuberculosis = []\n",
        "for i in range(len(os.listdir(TB150_dir))):\n",
        "    img = os.listdir(TB150_dir)[i]\n",
        "    tuberculosis.append(img)\n",
        "\n",
        "ttuberculosis = pd.DataFrame({'ImageName':[tuberculosis][0],\n",
        "                                       'NameType': \"Tuberculosis\" ,\n",
        "                                       'NumberType': 1                        })"
      ]
    },
    {
      "cell_type": "code",
      "execution_count": 20,
      "metadata": {
        "id": "YFBTCuPEhMU8"
      },
      "outputs": [],
      "source": [
        "lungcancer = []\n",
        "for i in range(len(os.listdir(CA150_dir))):\n",
        "    img = os.listdir(CA150_dir)[i]\n",
        "    lungcancer.append(img)\n",
        "\n",
        "tlungcancer = pd.DataFrame({'ImageName':[lungcancer][0],\n",
        "                                       'NameType': \"Lungcancer\" ,\n",
        "                                       'NumberType': 2                        })"
      ]
    },
    {
      "cell_type": "code",
      "execution_count": 21,
      "metadata": {
        "colab": {
          "base_uri": "https://localhost:8080/",
          "height": 143
        },
        "id": "FdG7BpQihMU8",
        "outputId": "4f43c647-10f9-4819-f172-33273859adfa"
      },
      "outputs": [
        {
          "output_type": "execute_result",
          "data": {
            "text/html": [
              "\n",
              "  <div id=\"df-3f23916a-90fd-4a36-9a15-7c959d84a09e\">\n",
              "    <div class=\"colab-df-container\">\n",
              "      <div>\n",
              "<style scoped>\n",
              "    .dataframe tbody tr th:only-of-type {\n",
              "        vertical-align: middle;\n",
              "    }\n",
              "\n",
              "    .dataframe tbody tr th {\n",
              "        vertical-align: top;\n",
              "    }\n",
              "\n",
              "    .dataframe thead th {\n",
              "        text-align: right;\n",
              "    }\n",
              "</style>\n",
              "<table border=\"1\" class=\"dataframe\">\n",
              "  <thead>\n",
              "    <tr style=\"text-align: right;\">\n",
              "      <th></th>\n",
              "      <th>ImageName</th>\n",
              "      <th>NameType</th>\n",
              "      <th>NumberType</th>\n",
              "    </tr>\n",
              "  </thead>\n",
              "  <tbody>\n",
              "    <tr>\n",
              "      <th>147</th>\n",
              "      <td>ca2.jpg</td>\n",
              "      <td>Lungcancer</td>\n",
              "      <td>2</td>\n",
              "    </tr>\n",
              "    <tr>\n",
              "      <th>148</th>\n",
              "      <td>ca26.jpg</td>\n",
              "      <td>Lungcancer</td>\n",
              "      <td>2</td>\n",
              "    </tr>\n",
              "    <tr>\n",
              "      <th>149</th>\n",
              "      <td>ca8.jpg</td>\n",
              "      <td>Lungcancer</td>\n",
              "      <td>2</td>\n",
              "    </tr>\n",
              "  </tbody>\n",
              "</table>\n",
              "</div>\n",
              "      <button class=\"colab-df-convert\" onclick=\"convertToInteractive('df-3f23916a-90fd-4a36-9a15-7c959d84a09e')\"\n",
              "              title=\"Convert this dataframe to an interactive table.\"\n",
              "              style=\"display:none;\">\n",
              "        \n",
              "  <svg xmlns=\"http://www.w3.org/2000/svg\" height=\"24px\"viewBox=\"0 0 24 24\"\n",
              "       width=\"24px\">\n",
              "    <path d=\"M0 0h24v24H0V0z\" fill=\"none\"/>\n",
              "    <path d=\"M18.56 5.44l.94 2.06.94-2.06 2.06-.94-2.06-.94-.94-2.06-.94 2.06-2.06.94zm-11 1L8.5 8.5l.94-2.06 2.06-.94-2.06-.94L8.5 2.5l-.94 2.06-2.06.94zm10 10l.94 2.06.94-2.06 2.06-.94-2.06-.94-.94-2.06-.94 2.06-2.06.94z\"/><path d=\"M17.41 7.96l-1.37-1.37c-.4-.4-.92-.59-1.43-.59-.52 0-1.04.2-1.43.59L10.3 9.45l-7.72 7.72c-.78.78-.78 2.05 0 2.83L4 21.41c.39.39.9.59 1.41.59.51 0 1.02-.2 1.41-.59l7.78-7.78 2.81-2.81c.8-.78.8-2.07 0-2.86zM5.41 20L4 18.59l7.72-7.72 1.47 1.35L5.41 20z\"/>\n",
              "  </svg>\n",
              "      </button>\n",
              "      \n",
              "  <style>\n",
              "    .colab-df-container {\n",
              "      display:flex;\n",
              "      flex-wrap:wrap;\n",
              "      gap: 12px;\n",
              "    }\n",
              "\n",
              "    .colab-df-convert {\n",
              "      background-color: #E8F0FE;\n",
              "      border: none;\n",
              "      border-radius: 50%;\n",
              "      cursor: pointer;\n",
              "      display: none;\n",
              "      fill: #1967D2;\n",
              "      height: 32px;\n",
              "      padding: 0 0 0 0;\n",
              "      width: 32px;\n",
              "    }\n",
              "\n",
              "    .colab-df-convert:hover {\n",
              "      background-color: #E2EBFA;\n",
              "      box-shadow: 0px 1px 2px rgba(60, 64, 67, 0.3), 0px 1px 3px 1px rgba(60, 64, 67, 0.15);\n",
              "      fill: #174EA6;\n",
              "    }\n",
              "\n",
              "    [theme=dark] .colab-df-convert {\n",
              "      background-color: #3B4455;\n",
              "      fill: #D2E3FC;\n",
              "    }\n",
              "\n",
              "    [theme=dark] .colab-df-convert:hover {\n",
              "      background-color: #434B5C;\n",
              "      box-shadow: 0px 1px 3px 1px rgba(0, 0, 0, 0.15);\n",
              "      filter: drop-shadow(0px 1px 2px rgba(0, 0, 0, 0.3));\n",
              "      fill: #FFFFFF;\n",
              "    }\n",
              "  </style>\n",
              "\n",
              "      <script>\n",
              "        const buttonEl =\n",
              "          document.querySelector('#df-3f23916a-90fd-4a36-9a15-7c959d84a09e button.colab-df-convert');\n",
              "        buttonEl.style.display =\n",
              "          google.colab.kernel.accessAllowed ? 'block' : 'none';\n",
              "\n",
              "        async function convertToInteractive(key) {\n",
              "          const element = document.querySelector('#df-3f23916a-90fd-4a36-9a15-7c959d84a09e');\n",
              "          const dataTable =\n",
              "            await google.colab.kernel.invokeFunction('convertToInteractive',\n",
              "                                                     [key], {});\n",
              "          if (!dataTable) return;\n",
              "\n",
              "          const docLinkHtml = 'Like what you see? Visit the ' +\n",
              "            '<a target=\"_blank\" href=https://colab.research.google.com/notebooks/data_table.ipynb>data table notebook</a>'\n",
              "            + ' to learn more about interactive tables.';\n",
              "          element.innerHTML = '';\n",
              "          dataTable['output_type'] = 'display_data';\n",
              "          await google.colab.output.renderOutput(dataTable, element);\n",
              "          const docLink = document.createElement('div');\n",
              "          docLink.innerHTML = docLinkHtml;\n",
              "          element.appendChild(docLink);\n",
              "        }\n",
              "      </script>\n",
              "    </div>\n",
              "  </div>\n",
              "  "
            ],
            "text/plain": [
              "    ImageName    NameType  NumberType\n",
              "147   ca2.jpg  Lungcancer           2\n",
              "148  ca26.jpg  Lungcancer           2\n",
              "149   ca8.jpg  Lungcancer           2"
            ]
          },
          "metadata": {},
          "execution_count": 21
        }
      ],
      "source": [
        "data_train3 = pd.concat([tnormal, ttuberculosis, tlungcancer])\n",
        "data_train3[-3:]"
      ]
    },
    {
      "cell_type": "code",
      "execution_count": 21,
      "metadata": {
        "id": "1uW3Ukp1KC6U"
      },
      "outputs": [],
      "source": [
        ""
      ]
    },
    {
      "cell_type": "markdown",
      "metadata": {
        "id": "hPx6BExHykO2"
      },
      "source": [
        "#  ( Crop ) Train Test 0-400"
      ]
    },
    {
      "cell_type": "markdown",
      "metadata": {
        "id": "M0HNDzNSykPE"
      },
      "source": [
        "##1 softmax   --> Crop  \n",
        " \n",
        " 0.73 // 28min\n",
        "\n",
        "*   BS = 1\n",
        "*   fix weight & bias in layer 0-400\n",
        "*   activation=\"softmax\"\n",
        "*   learning_rate=0.0001\n",
        "*   epoch 30"
      ]
    },
    {
      "cell_type": "code",
      "execution_count": 22,
      "metadata": {
        "colab": {
          "base_uri": "https://localhost:8080/"
        },
        "id": "n-_JuMKtykPG",
        "outputId": "b79dd6c3-04b8-47b8-b2ee-905418c34757"
      },
      "outputs": [
        {
          "output_type": "stream",
          "name": "stderr",
          "text": [
            "100%|██████████| 451/451 [02:18<00:00,  3.25it/s]\n"
          ]
        }
      ],
      "source": [
        "train_img_Dense = []\n",
        "mywidth = 224 \n",
        "for ImageName in tqdm(data_train3['ImageName']):               # รัน ชื่อรูป ในไฟล์ data_test3\n",
        "    image_path = All_3class_dir +'/' + ImageName                   # ดึงรูปในโฟล์เดอร์มาทีละรูป\n",
        "\n",
        "    img = Image.open(image_path).convert('RGB')     \n",
        "\n",
        "    wpercent = (mywidth/float(img.size[0]))\n",
        "    hsize = int((float(img.size[1])*float(wpercent)))\n",
        "    img = img.resize((mywidth,hsize), PIL.Image.ANTIALIAS)\n",
        "    img = img.crop((0,0,mywidth,mywidth))\n",
        "\n",
        "    data_Dense = np.array(img, dtype=\"float32\") / 255.0\n",
        "    train_img_Dense.append(data_Dense)\n",
        "\n",
        "data_Dense = np.array(train_img_Dense)"
      ]
    },
    {
      "cell_type": "code",
      "execution_count": 23,
      "metadata": {
        "id": "-KBXBH5hykPG"
      },
      "outputs": [],
      "source": [
        "labels_Dense = np.array(data_train3[['NameType']] )        \n",
        "labels_Dense.shape = (len(labels_Dense),) \n",
        "\n",
        "le_Dense = LabelEncoder()                                                                     \n",
        "labels_Dense = le_Dense.fit_transform(labels_Dense)                                         #จะแปลงชื่อ class เป็นตัวเลข 1, 2, 0 \n",
        "\n",
        "labels_Dense = to_categorical(labels_Dense, num_classes=3)                   #shape (180, 3) มีค่าเป็น  [0., 1., 0.]  กับ   [0., 0., 1.] กับ  [1., 0., 0.]"
      ]
    },
    {
      "cell_type": "code",
      "execution_count": 24,
      "metadata": {
        "id": "XLbNNXK1ykPH"
      },
      "outputs": [],
      "source": [
        "#ใช้ภาพที่ครอบแล้ว ใน data_Dense2\n",
        "(x_train_Dense2, x_test_Dense2, y_train_Dense2, y_test_Dense2 ) = train_test_split(data_Dense, labels_Dense,\n",
        "\t                                                                                                test_size=0.25, random_state=40)"
      ]
    },
    {
      "cell_type": "code",
      "execution_count": 25,
      "metadata": {
        "colab": {
          "base_uri": "https://localhost:8080/"
        },
        "id": "QlYIeDtJykPH",
        "outputId": "6f7acda1-2804-4a94-dc82-530071c9bdbe"
      },
      "outputs": [
        {
          "output_type": "execute_result",
          "data": {
            "text/plain": [
              "array(['Lungcancer', 'Normal', 'Tuberculosis'], dtype=object)"
            ]
          },
          "metadata": {},
          "execution_count": 25
        }
      ],
      "source": [
        "le_Dense.classes_                  # มีค่า ['Lungcancer', 'Normal', 'Tuberculosis']"
      ]
    },
    {
      "cell_type": "code",
      "execution_count": 26,
      "metadata": {
        "id": "XP-UN16GykPH"
      },
      "outputs": [],
      "source": [
        "INIT_LR = 1e-1\n",
        "BS = 1\n",
        "EPOCHS = 50\n",
        "\n",
        "aug2 = ImageDataGenerator(\n",
        "\t\trotation_range=15,\t\t\t\t\t\t#องศาการหมุน\n",
        "\t\twidth_shift_range=0.2,\n",
        "\t\theight_shift_range=0.2,\n",
        "\t\tshear_range=0.15,\n",
        "\t\thorizontal_flip=True,\n",
        "\t\tfill_mode=\"nearest\")\n",
        "\n",
        "callback = tf.keras.callbacks.EarlyStopping(\n",
        "                monitor=\"val_accuracy\",\n",
        "                patience=3,\n",
        "                mode=\"max\" )"
      ]
    },
    {
      "cell_type": "code",
      "execution_count": 27,
      "metadata": {
        "colab": {
          "base_uri": "https://localhost:8080/"
        },
        "id": "QmKUE1DAykPI",
        "outputId": "5df81274-8ebf-4694-fee6-d12220cc1bee"
      },
      "outputs": [
        {
          "output_type": "stream",
          "name": "stdout",
          "text": [
            "Downloading data from https://storage.googleapis.com/tensorflow/keras-applications/densenet/densenet201_weights_tf_dim_ordering_tf_kernels_notop.h5\n",
            "74842112/74836368 [==============================] - 1s 0us/step\n",
            "74850304/74836368 [==============================] - 1s 0us/step\n"
          ]
        },
        {
          "output_type": "execute_result",
          "data": {
            "text/plain": [
              "707"
            ]
          },
          "metadata": {},
          "execution_count": 27
        }
      ],
      "source": [
        "base_model_Dense = tf.keras.applications.DenseNet201(input_shape=(224, 224, 3), include_top=False, weights=\"imagenet\")\n",
        "len(base_model_Dense.layers)"
      ]
    },
    {
      "cell_type": "code",
      "execution_count": 28,
      "metadata": {
        "id": "x6AyBnTXykPI"
      },
      "outputs": [],
      "source": [
        "base_model_Dense.trainable = True\n",
        "for layer in base_model_Dense.layers[:400]:    #fix w & bias in layer 0-400\n",
        "    layer.trainable = False\n",
        "\n",
        "#Add custom head\n",
        "average_pooling_layer = tf.keras.layers.GlobalAveragePooling2D()(base_model_Dense.output)\n",
        "prediction_layer = tf.keras.layers.Dense(units=3, activation=\"softmax\")(average_pooling_layer)   # unit 3\n",
        "model_Dense2 = tf.keras.models.Model(inputs=base_model_Dense.input, outputs=prediction_layer)\n",
        "\n",
        "model_Dense2.compile(optimizer=tf.keras.optimizers.RMSprop(learning_rate=0.0001), loss=\"binary_crossentropy\", metrics=[\"accuracy\"])"
      ]
    },
    {
      "cell_type": "code",
      "execution_count": 29,
      "metadata": {
        "colab": {
          "base_uri": "https://localhost:8080/"
        },
        "id": "rovt46jUykPJ",
        "outputId": "f6c9855e-d565-4e60-8134-01a0400716bb"
      },
      "outputs": [
        {
          "output_type": "stream",
          "name": "stdout",
          "text": [
            "Epoch 1/30\n",
            "338/338 [==============================] - 253s 674ms/step - loss: 0.6366 - accuracy: 0.3580 - val_loss: 0.5062 - val_accuracy: 0.5929\n",
            "Epoch 2/30\n",
            "338/338 [==============================] - 373s 1s/step - loss: 0.5415 - accuracy: 0.5680 - val_loss: 0.4531 - val_accuracy: 0.6549\n",
            "Epoch 3/30\n",
            "338/338 [==============================] - 366s 1s/step - loss: 0.4430 - accuracy: 0.6568 - val_loss: 0.7134 - val_accuracy: 0.5398\n",
            "Epoch 4/30\n",
            "338/338 [==============================] - 349s 1s/step - loss: 0.3880 - accuracy: 0.7189 - val_loss: 0.4405 - val_accuracy: 0.6903\n",
            "Epoch 5/30\n",
            "338/338 [==============================] - 364s 1s/step - loss: 0.3729 - accuracy: 0.7308 - val_loss: 0.6663 - val_accuracy: 0.6726\n",
            "Epoch 6/30\n",
            "338/338 [==============================] - 369s 1s/step - loss: 0.3188 - accuracy: 0.7988 - val_loss: 0.4669 - val_accuracy: 0.7257\n",
            "Epoch 7/30\n",
            "338/338 [==============================] - 366s 1s/step - loss: 0.2877 - accuracy: 0.8047 - val_loss: 0.6188 - val_accuracy: 0.6726\n",
            "Epoch 8/30\n",
            "338/338 [==============================] - 366s 1s/step - loss: 0.2615 - accuracy: 0.8314 - val_loss: 0.4551 - val_accuracy: 0.7080\n",
            "Epoch 9/30\n",
            "338/338 [==============================] - 362s 1s/step - loss: 0.2137 - accuracy: 0.8698 - val_loss: 0.7828 - val_accuracy: 0.6991\n"
          ]
        }
      ],
      "source": [
        "H_Dense2 = model_Dense2.fit( x=aug2.flow(x_train_Dense2, y_train_Dense2, batch_size=BS),\n",
        "\t                                            validation_data=(x_test_Dense2, y_test_Dense2),\n",
        "\t                                            steps_per_epoch=len(x_train_Dense2) // BS,\n",
        "\t                                            epochs=30,  callbacks = [callback])"
      ]
    },
    {
      "cell_type": "code",
      "execution_count": 30,
      "metadata": {
        "id": "S2U-6KXbykPJ",
        "outputId": "bcd9107b-aa6e-41bf-959d-8cc04f99e44e",
        "colab": {
          "base_uri": "https://localhost:8080/"
        }
      },
      "outputs": [
        {
          "output_type": "stream",
          "name": "stdout",
          "text": [
            "              precision    recall  f1-score   support\n",
            "\n",
            "  Lungcancer       1.00      0.23      0.37        35\n",
            "      Normal       0.83      0.93      0.87        41\n",
            "Tuberculosis       0.56      0.89      0.69        37\n",
            "\n",
            "    accuracy                           0.70       113\n",
            "   macro avg       0.80      0.68      0.64       113\n",
            "weighted avg       0.79      0.70      0.66       113\n",
            "\n"
          ]
        }
      ],
      "source": [
        "#1\n",
        "pred_Dense2 = model_Dense2.predict(x_test_Dense2)\n",
        "    \n",
        "print(classification_report(y_test_Dense2.argmax(axis=1),\t                #แสดง report ค่า acc, recall, ...\n",
        "                                    pred_Dense2.argmax(axis=1),  \n",
        "                                    target_names=le_Dense.classes_))"
      ]
    },
    {
      "cell_type": "code",
      "execution_count": 31,
      "metadata": {
        "colab": {
          "base_uri": "https://localhost:8080/"
        },
        "id": "k_KMndHwykPK",
        "outputId": "c3af6f90-f9aa-4cbd-faaf-54902a1062c1"
      },
      "outputs": [
        {
          "output_type": "stream",
          "name": "stdout",
          "text": [
            "Fold score (accuracy): 0.6991150442477876\n"
          ]
        }
      ],
      "source": [
        "score = metrics.accuracy_score(y_test_Dense2.argmax(axis=1),\t        #ค่า acc\n",
        "                                             pred_Dense2.argmax(axis=1) )\n",
        "print(f\"Fold score (accuracy): {score}\")"
      ]
    },
    {
      "cell_type": "code",
      "execution_count": 32,
      "metadata": {
        "id": "tW3K83xMykPL"
      },
      "outputs": [],
      "source": [
        "pred = np.round(pred_Dense2, 3)"
      ]
    },
    {
      "cell_type": "code",
      "execution_count": 33,
      "metadata": {
        "id": "k0kKWRrEykPL",
        "outputId": "17492538-6f13-41f3-9579-95f2b4b15a55",
        "colab": {
          "base_uri": "https://localhost:8080/"
        }
      },
      "outputs": [
        {
          "output_type": "execute_result",
          "data": {
            "text/plain": [
              "array(['Lungcancer', 'Normal', 'Tuberculosis'], dtype=object)"
            ]
          },
          "metadata": {},
          "execution_count": 33
        }
      ],
      "source": [
        "le_Dense.classes_                  # มีค่า ['Lungcancer', 'Normal', 'Tuberculosis']"
      ]
    },
    {
      "cell_type": "markdown",
      "metadata": {
        "id": "nF5Jsl4MIEGs"
      },
      "source": [
        "##1 sigmoid   --> Crop  \n",
        "\n",
        "0.73 // 26 min\n",
        "\n",
        "*   BS = 1\n",
        "*   fix weight & bias in layer 0-400\n",
        "*   activation=\"sigmoid\"\n",
        "*   learning_rate=0.0001\n",
        "*   epoch 30"
      ]
    },
    {
      "cell_type": "code",
      "execution_count": 34,
      "metadata": {
        "colab": {
          "base_uri": "https://localhost:8080/"
        },
        "id": "iiyOYjzrIEGt",
        "outputId": "eded91d9-5702-435a-d5ba-a9d7e77d7a7e"
      },
      "outputs": [
        {
          "output_type": "stream",
          "name": "stderr",
          "text": [
            "100%|██████████| 451/451 [00:08<00:00, 55.33it/s]\n"
          ]
        }
      ],
      "source": [
        "train_img_Dense = []\n",
        "mywidth = 224 \n",
        "for ImageName in tqdm(data_train3['ImageName']):               # รัน ชื่อรูป ในไฟล์ data_test3\n",
        "    image_path = All_3class_dir +'/' + ImageName                   # ดึงรูปในโฟล์เดอร์มาทีละรูป\n",
        "\n",
        "    img = Image.open(image_path).convert('RGB')     \n",
        "\n",
        "    wpercent = (mywidth/float(img.size[0]))\n",
        "    hsize = int((float(img.size[1])*float(wpercent)))\n",
        "    img = img.resize((mywidth,hsize), PIL.Image.ANTIALIAS)\n",
        "    img = img.crop((0,0,mywidth,mywidth))\n",
        "\n",
        "    data_Dense = np.array(img, dtype=\"float32\") / 255.0\n",
        "    train_img_Dense.append(data_Dense)\n",
        "\n",
        "data_Dense = np.array(train_img_Dense)"
      ]
    },
    {
      "cell_type": "code",
      "execution_count": 35,
      "metadata": {
        "id": "V4Tll0UEIEGt"
      },
      "outputs": [],
      "source": [
        "labels_Dense = np.array(data_train3[['NameType']] )        \n",
        "labels_Dense.shape = (len(labels_Dense),) \n",
        "\n",
        "le_Dense = LabelEncoder()                                                                     \n",
        "labels_Dense = le_Dense.fit_transform(labels_Dense)                                         #จะแปลงชื่อ class เป็นตัวเลข 1, 2, 0 \n",
        "\n",
        "labels_Dense = to_categorical(labels_Dense, num_classes=3)                   #shape (180, 3) มีค่าเป็น  [0., 1., 0.]  กับ   [0., 0., 1.] กับ  [1., 0., 0.]"
      ]
    },
    {
      "cell_type": "code",
      "execution_count": 36,
      "metadata": {
        "id": "KeTvRE4RIEGu"
      },
      "outputs": [],
      "source": [
        "(x_train_Dense2, x_test_Dense2, y_train_Dense2, y_test_Dense2 ) = train_test_split(data_Dense, labels_Dense,\n",
        "\t                                                                                                test_size=0.25, random_state=40)"
      ]
    },
    {
      "cell_type": "code",
      "execution_count": 37,
      "metadata": {
        "colab": {
          "base_uri": "https://localhost:8080/"
        },
        "id": "I4zGZw_1IEGu",
        "outputId": "fb41845c-e862-4591-9039-65f57d5c4e54"
      },
      "outputs": [
        {
          "output_type": "execute_result",
          "data": {
            "text/plain": [
              "array(['Lungcancer', 'Normal', 'Tuberculosis'], dtype=object)"
            ]
          },
          "metadata": {},
          "execution_count": 37
        }
      ],
      "source": [
        "le_Dense.classes_                  # มีค่า ['Lungcancer', 'Normal', 'Tuberculosis']"
      ]
    },
    {
      "cell_type": "code",
      "execution_count": 38,
      "metadata": {
        "id": "NBS9tEHjIEGv"
      },
      "outputs": [],
      "source": [
        "INIT_LR = 1e-1\n",
        "BS = 1\n",
        "EPOCHS = 50\n",
        "\n",
        "aug2 = ImageDataGenerator(\n",
        "\t\trotation_range=15,\t\t\t\t\t\t#องศาการหมุน\n",
        "\t\twidth_shift_range=0.2,\n",
        "\t\theight_shift_range=0.2,\n",
        "\t\tshear_range=0.15,\n",
        "\t\thorizontal_flip=True,\n",
        "\t\tfill_mode=\"nearest\")\n",
        "\n",
        "callback = tf.keras.callbacks.EarlyStopping(\n",
        "                monitor=\"val_accuracy\",\n",
        "                patience=3,\n",
        "                mode=\"max\" )"
      ]
    },
    {
      "cell_type": "code",
      "execution_count": 39,
      "metadata": {
        "colab": {
          "base_uri": "https://localhost:8080/"
        },
        "id": "ftH_v-jyIEGv",
        "outputId": "dbd3c385-935e-40e5-e8d9-03eb54efa897"
      },
      "outputs": [
        {
          "output_type": "execute_result",
          "data": {
            "text/plain": [
              "707"
            ]
          },
          "metadata": {},
          "execution_count": 39
        }
      ],
      "source": [
        "base_model_Dense = tf.keras.applications.DenseNet201(input_shape=(224, 224, 3), include_top=False, weights=\"imagenet\")\n",
        "len(base_model_Dense.layers)"
      ]
    },
    {
      "cell_type": "code",
      "execution_count": 40,
      "metadata": {
        "id": "InWf8HrYIEGw"
      },
      "outputs": [],
      "source": [
        "base_model_Dense.trainable = True\n",
        "for layer in base_model_Dense.layers[:400]:    #fix w & bias in layer 0-400\n",
        "    layer.trainable = False\n",
        "\n",
        "#Add custom head\n",
        "average_pooling_layer = tf.keras.layers.GlobalAveragePooling2D()(base_model_Dense.output)\n",
        "prediction_layer = tf.keras.layers.Dense(units=3, activation=\"sigmoid\")(average_pooling_layer)   # unit 3\n",
        "model_Dense2 = tf.keras.models.Model(inputs=base_model_Dense.input, outputs=prediction_layer)\n",
        "\n",
        "model_Dense2.compile(optimizer=tf.keras.optimizers.RMSprop(learning_rate=0.0001), loss=\"binary_crossentropy\", metrics=[\"accuracy\"])"
      ]
    },
    {
      "cell_type": "code",
      "execution_count": 41,
      "metadata": {
        "colab": {
          "base_uri": "https://localhost:8080/"
        },
        "id": "33NklnFBIEGw",
        "outputId": "8a628571-76f2-44d0-d4d7-375e67f7f64f"
      },
      "outputs": [
        {
          "output_type": "stream",
          "name": "stdout",
          "text": [
            "Epoch 1/30\n",
            "338/338 [==============================] - 280s 754ms/step - loss: 0.6284 - accuracy: 0.4112 - val_loss: 0.5499 - val_accuracy: 0.5929\n",
            "Epoch 2/30\n",
            "338/338 [==============================] - 375s 1s/step - loss: 0.5152 - accuracy: 0.5888 - val_loss: 0.4054 - val_accuracy: 0.6814\n",
            "Epoch 3/30\n",
            "338/338 [==============================] - 397s 1s/step - loss: 0.4215 - accuracy: 0.6805 - val_loss: 0.3740 - val_accuracy: 0.7257\n",
            "Epoch 4/30\n",
            "338/338 [==============================] - 387s 1s/step - loss: 0.3928 - accuracy: 0.6923 - val_loss: 0.3991 - val_accuracy: 0.7080\n",
            "Epoch 5/30\n",
            "338/338 [==============================] - 394s 1s/step - loss: 0.3598 - accuracy: 0.7515 - val_loss: 0.5327 - val_accuracy: 0.6814\n",
            "Epoch 6/30\n",
            "338/338 [==============================] - 383s 1s/step - loss: 0.3243 - accuracy: 0.7959 - val_loss: 0.4139 - val_accuracy: 0.7611\n",
            "Epoch 7/30\n",
            "338/338 [==============================] - 378s 1s/step - loss: 0.2828 - accuracy: 0.8284 - val_loss: 0.4492 - val_accuracy: 0.7168\n",
            "Epoch 8/30\n",
            "338/338 [==============================] - 368s 1s/step - loss: 0.2626 - accuracy: 0.8432 - val_loss: 0.6299 - val_accuracy: 0.7168\n",
            "Epoch 9/30\n",
            "338/338 [==============================] - 367s 1s/step - loss: 0.2459 - accuracy: 0.8550 - val_loss: 0.5525 - val_accuracy: 0.6903\n"
          ]
        }
      ],
      "source": [
        "H_Dense2 = model_Dense2.fit( x=aug2.flow(x_train_Dense2, y_train_Dense2, batch_size=BS),\n",
        "\t                                            validation_data=(x_test_Dense2, y_test_Dense2),\n",
        "\t                                            steps_per_epoch=len(x_train_Dense2) // BS,\n",
        "\t                                            epochs=30,  callbacks = [callback])"
      ]
    },
    {
      "cell_type": "code",
      "execution_count": 42,
      "metadata": {
        "colab": {
          "base_uri": "https://localhost:8080/"
        },
        "id": "rF2vyW8rIEGx",
        "outputId": "e2cae2cf-bfcf-418c-f0d3-c25907f62766"
      },
      "outputs": [
        {
          "output_type": "stream",
          "name": "stdout",
          "text": [
            "              precision    recall  f1-score   support\n",
            "\n",
            "  Lungcancer       0.60      0.51      0.55        35\n",
            "      Normal       0.93      0.90      0.91        41\n",
            "Tuberculosis       0.53      0.62      0.57        37\n",
            "\n",
            "    accuracy                           0.69       113\n",
            "   macro avg       0.69      0.68      0.68       113\n",
            "weighted avg       0.70      0.69      0.69       113\n",
            "\n"
          ]
        }
      ],
      "source": [
        "#1\n",
        "pred_Dense2 = model_Dense2.predict(x_test_Dense2)\n",
        "    \n",
        "print(classification_report(y_test_Dense2.argmax(axis=1),\t                #แสดง report ค่า acc, recall, ...\n",
        "                                    pred_Dense2.argmax(axis=1),  \n",
        "                                    target_names=le_Dense.classes_))"
      ]
    },
    {
      "cell_type": "code",
      "execution_count": 43,
      "metadata": {
        "colab": {
          "base_uri": "https://localhost:8080/"
        },
        "id": "94FUIZQyIEGx",
        "outputId": "157fb1a8-fb50-48ba-cab8-80e91aa4d561"
      },
      "outputs": [
        {
          "output_type": "stream",
          "name": "stdout",
          "text": [
            "Fold score (accuracy): 0.6902654867256637\n"
          ]
        }
      ],
      "source": [
        "score = metrics.accuracy_score(y_test_Dense2.argmax(axis=1),\t        #ค่า acc\n",
        "                                             pred_Dense2.argmax(axis=1) )\n",
        "print(f\"Fold score (accuracy): {score}\")"
      ]
    },
    {
      "cell_type": "code",
      "execution_count": 44,
      "metadata": {
        "id": "9NJBXNj1IEGy"
      },
      "outputs": [],
      "source": [
        "pred = np.round(pred_Dense2, 3)"
      ]
    },
    {
      "cell_type": "code",
      "execution_count": 45,
      "metadata": {
        "colab": {
          "base_uri": "https://localhost:8080/"
        },
        "id": "oxfm8QT6IEGz",
        "outputId": "f6c3c8f5-1229-4636-af79-67e937eb4be3"
      },
      "outputs": [
        {
          "output_type": "execute_result",
          "data": {
            "text/plain": [
              "array(['Lungcancer', 'Normal', 'Tuberculosis'], dtype=object)"
            ]
          },
          "metadata": {},
          "execution_count": 45
        }
      ],
      "source": [
        "le_Dense.classes_                  # มีค่า ['Lungcancer', 'Normal', 'Tuberculosis']"
      ]
    },
    {
      "cell_type": "markdown",
      "metadata": {
        "id": "RMTFVxfFykPR"
      },
      "source": [
        "##8 softmax   --> Crop\n",
        "\n",
        "0.72 // 18 min\n",
        "\n",
        "*   BS = 8\n",
        "*   fix weight & bias in layer 0-400\n",
        "*   activation=\"softmax\"\n",
        "*   learning_rate=0.0001\n",
        "*   epoch 30"
      ]
    },
    {
      "cell_type": "code",
      "execution_count": null,
      "metadata": {
        "colab": {
          "base_uri": "https://localhost:8080/"
        },
        "id": "-0KFlSszykPS",
        "outputId": "d65aed14-47da-4a1b-8634-b470242d37c2"
      },
      "outputs": [
        {
          "name": "stderr",
          "output_type": "stream",
          "text": [
            "100%|██████████| 451/451 [00:07<00:00, 59.89it/s] \n"
          ]
        }
      ],
      "source": [
        "train_img_Dense = []\n",
        "mywidth = 224 \n",
        "for ImageName in tqdm(data_train3['ImageName']):               # รัน ชื่อรูป ในไฟล์ data_test3\n",
        "    image_path = All_3class_dir +'/' + ImageName                   # ดึงรูปในโฟล์เดอร์มาทีละรูป\n",
        "\n",
        "    img = Image.open(image_path).convert('RGB')     \n",
        "\n",
        "    wpercent = (mywidth/float(img.size[0]))\n",
        "    hsize = int((float(img.size[1])*float(wpercent)))\n",
        "    img = img.resize((mywidth,hsize), PIL.Image.ANTIALIAS)\n",
        "    img = img.crop((0,0,mywidth,mywidth))\n",
        "\n",
        "    data_Dense = np.array(img, dtype=\"float32\") / 255.0\n",
        "    train_img_Dense.append(data_Dense)\n",
        "\n",
        "data_Dense = np.array(train_img_Dense)"
      ]
    },
    {
      "cell_type": "code",
      "execution_count": null,
      "metadata": {
        "id": "Mnc-CpbaykPS"
      },
      "outputs": [],
      "source": [
        "labels_Dense = np.array(data_train3[['NameType']] )        \n",
        "labels_Dense.shape = (len(labels_Dense),) \n",
        "\n",
        "le_Dense = LabelEncoder()                                                                     \n",
        "labels_Dense = le_Dense.fit_transform(labels_Dense)                                         #จะแปลงชื่อ class เป็นตัวเลข 1, 2, 0 \n",
        "\n",
        "labels_Dense = to_categorical(labels_Dense, num_classes=3)                   #shape (180, 3) มีค่าเป็น  [0., 1., 0.]  กับ   [0., 0., 1.] กับ  [1., 0., 0.]"
      ]
    },
    {
      "cell_type": "code",
      "execution_count": null,
      "metadata": {
        "id": "ghtH6zLhykPT"
      },
      "outputs": [],
      "source": [
        "(x_train_Dense2, x_test_Dense2, y_train_Dense2, y_test_Dense2 ) = train_test_split(data_Dense, labels_Dense,\n",
        "\t                                                                                                test_size=0.25, random_state=40)"
      ]
    },
    {
      "cell_type": "code",
      "execution_count": null,
      "metadata": {
        "colab": {
          "base_uri": "https://localhost:8080/"
        },
        "id": "BvlOjcvDykPT",
        "outputId": "0734f71d-6a56-4e37-db3f-156833bfaf2b"
      },
      "outputs": [
        {
          "data": {
            "text/plain": [
              "array(['Lungcancer', 'Normal', 'Tuberculosis'], dtype=object)"
            ]
          },
          "execution_count": 38,
          "metadata": {},
          "output_type": "execute_result"
        }
      ],
      "source": [
        "le_Dense.classes_                  # มีค่า ['Lungcancer', 'Normal', 'Tuberculosis']"
      ]
    },
    {
      "cell_type": "code",
      "execution_count": null,
      "metadata": {
        "id": "V6Yj0u-WykPU"
      },
      "outputs": [],
      "source": [
        "INIT_LR = 1e-1\n",
        "BS8 = 8\n",
        "EPOCHS = 50\n",
        "\n",
        "aug2 = ImageDataGenerator(\n",
        "\t\trotation_range=15,\t\t\t\t\t\t#องศาการหมุน\n",
        "\t\twidth_shift_range=0.2,\n",
        "\t\theight_shift_range=0.2,\n",
        "\t\tshear_range=0.15,\n",
        "\t\thorizontal_flip=True,\n",
        "\t\tfill_mode=\"nearest\")\n",
        "\n",
        "callback = tf.keras.callbacks.EarlyStopping(\n",
        "                monitor=\"val_accuracy\",\n",
        "                patience=3,\n",
        "                mode=\"max\" )"
      ]
    },
    {
      "cell_type": "code",
      "execution_count": null,
      "metadata": {
        "colab": {
          "base_uri": "https://localhost:8080/"
        },
        "id": "HjCFaCrXykPV",
        "outputId": "ca8e1b8f-688e-45c2-d6fd-30e4f4e0ecca"
      },
      "outputs": [
        {
          "data": {
            "text/plain": [
              "707"
            ]
          },
          "execution_count": 40,
          "metadata": {},
          "output_type": "execute_result"
        }
      ],
      "source": [
        "base_model_Dense = tf.keras.applications.DenseNet201(input_shape=(224, 224, 3), include_top=False, weights=\"imagenet\")\n",
        "len(base_model_Dense.layers)"
      ]
    },
    {
      "cell_type": "code",
      "execution_count": null,
      "metadata": {
        "id": "vRTijs7jykPV"
      },
      "outputs": [],
      "source": [
        "base_model_Dense.trainable = True\n",
        "for layer in base_model_Dense.layers[:400]:    #fix w & bias in layer 0-400\n",
        "    layer.trainable = False\n",
        "\n",
        "#Add custom head\n",
        "average_pooling_layer = tf.keras.layers.GlobalAveragePooling2D()(base_model_Dense.output)\n",
        "prediction_layer = tf.keras.layers.Dense(units=3, activation=\"softmax\")(average_pooling_layer)   # unit 3\n",
        "model_Dense2 = tf.keras.models.Model(inputs=base_model_Dense.input, outputs=prediction_layer)\n",
        "\n",
        "model_Dense2.compile(optimizer=tf.keras.optimizers.RMSprop(learning_rate=0.0001), loss=\"binary_crossentropy\", metrics=[\"accuracy\"])"
      ]
    },
    {
      "cell_type": "code",
      "execution_count": null,
      "metadata": {
        "colab": {
          "base_uri": "https://localhost:8080/"
        },
        "id": "yAzRS8UCykPW",
        "outputId": "8b47c6c2-0d4b-4c69-d8b0-ad633173aec6"
      },
      "outputs": [
        {
          "name": "stdout",
          "output_type": "stream",
          "text": [
            "Epoch 1/30\n",
            "42/42 [==============================] - 174s 4s/step - loss: 0.4848 - accuracy: 0.6182 - val_loss: 0.6124 - val_accuracy: 0.4425\n",
            "Epoch 2/30\n",
            "42/42 [==============================] - 149s 4s/step - loss: 0.3739 - accuracy: 0.7515 - val_loss: 0.5205 - val_accuracy: 0.5752\n",
            "Epoch 3/30\n",
            "42/42 [==============================] - 146s 3s/step - loss: 0.2879 - accuracy: 0.8242 - val_loss: 0.4019 - val_accuracy: 0.7522\n",
            "Epoch 4/30\n",
            "42/42 [==============================] - 145s 3s/step - loss: 0.2454 - accuracy: 0.8667 - val_loss: 0.5134 - val_accuracy: 0.7080\n",
            "Epoch 5/30\n",
            "42/42 [==============================] - 149s 4s/step - loss: 0.2295 - accuracy: 0.8576 - val_loss: 0.5668 - val_accuracy: 0.7080\n",
            "Epoch 6/30\n",
            "42/42 [==============================] - 149s 4s/step - loss: 0.2140 - accuracy: 0.8879 - val_loss: 0.6900 - val_accuracy: 0.7168\n"
          ]
        }
      ],
      "source": [
        "H_Dense2 = model_Dense2.fit( x=aug2.flow(x_train_Dense2, y_train_Dense2, batch_size=BS8),\n",
        "\t                                            validation_data=(x_test_Dense2, y_test_Dense2),\n",
        "\t                                            steps_per_epoch=len(x_train_Dense2) // BS8,\n",
        "\t                                            epochs=30,  callbacks = [callback])"
      ]
    },
    {
      "cell_type": "code",
      "execution_count": null,
      "metadata": {
        "colab": {
          "base_uri": "https://localhost:8080/"
        },
        "id": "30vAlTeRykPX",
        "outputId": "3944ea5c-da54-46a3-967a-14574808cfe4"
      },
      "outputs": [
        {
          "name": "stdout",
          "output_type": "stream",
          "text": [
            "              precision    recall  f1-score   support\n",
            "\n",
            "  Lungcancer       0.56      0.91      0.70        35\n",
            "      Normal       0.87      0.98      0.92        41\n",
            "Tuberculosis       0.90      0.24      0.38        37\n",
            "\n",
            "    accuracy                           0.72       113\n",
            "   macro avg       0.78      0.71      0.67       113\n",
            "weighted avg       0.78      0.72      0.67       113\n",
            "\n"
          ]
        }
      ],
      "source": [
        "#1\n",
        "pred_Dense2 = model_Dense2.predict(x_test_Dense2)\n",
        "    \n",
        "print(classification_report(y_test_Dense2.argmax(axis=1),\t                #แสดง report ค่า acc, recall, ...\n",
        "                                    pred_Dense2.argmax(axis=1),  \n",
        "                                    target_names=le_Dense.classes_))"
      ]
    },
    {
      "cell_type": "code",
      "execution_count": null,
      "metadata": {
        "colab": {
          "base_uri": "https://localhost:8080/"
        },
        "id": "uyXdHn-8ykPX",
        "outputId": "4d09f91e-e845-42ef-88c2-422e0f19fdb4"
      },
      "outputs": [
        {
          "name": "stdout",
          "output_type": "stream",
          "text": [
            "Fold score (accuracy): 0.7168141592920354\n"
          ]
        }
      ],
      "source": [
        "score = metrics.accuracy_score(y_test_Dense2.argmax(axis=1),\t        #ค่า acc\n",
        "                                             pred_Dense2.argmax(axis=1) )\n",
        "print(f\"Fold score (accuracy): {score}\")"
      ]
    },
    {
      "cell_type": "code",
      "execution_count": null,
      "metadata": {
        "id": "_JMEw_GKykPY"
      },
      "outputs": [],
      "source": [
        "pred = np.round(pred_Dense2, 3)"
      ]
    },
    {
      "cell_type": "code",
      "execution_count": null,
      "metadata": {
        "id": "PPZ7xmxOKvND"
      },
      "outputs": [],
      "source": [
        ""
      ]
    },
    {
      "cell_type": "markdown",
      "metadata": {
        "id": "ogrde1_WykPY"
      },
      "source": [
        "##8 sigmoid   --> Crop\n",
        "\n",
        "0.73\n",
        "\n",
        "*   BS = 8\n",
        "*   fix weight & bias in layer 0-400\n",
        "*   activation=\"sigmoid\"\n",
        "*   learning_rate=0.0001\n",
        "*   epoch 30"
      ]
    },
    {
      "cell_type": "code",
      "execution_count": null,
      "metadata": {
        "colab": {
          "base_uri": "https://localhost:8080/"
        },
        "id": "XS82Iuc9ykPZ",
        "outputId": "01574b3d-ef63-40ad-b153-87eb4da0347c"
      },
      "outputs": [
        {
          "name": "stderr",
          "output_type": "stream",
          "text": [
            "100%|██████████| 451/451 [00:07<00:00, 60.81it/s] \n"
          ]
        }
      ],
      "source": [
        "train_img_Dense = []\n",
        "mywidth = 224 \n",
        "for ImageName in tqdm(data_train3['ImageName']):               # รัน ชื่อรูป ในไฟล์ data_test3\n",
        "    image_path = All_3class_dir +'/' + ImageName                   # ดึงรูปในโฟล์เดอร์มาทีละรูป\n",
        "\n",
        "    img = Image.open(image_path).convert('RGB')     \n",
        "\n",
        "    wpercent = (mywidth/float(img.size[0]))\n",
        "    hsize = int((float(img.size[1])*float(wpercent)))\n",
        "    img = img.resize((mywidth,hsize), PIL.Image.ANTIALIAS)\n",
        "    img = img.crop((0,0,mywidth,mywidth))\n",
        "\n",
        "    data_Dense = np.array(img, dtype=\"float32\") / 255.0\n",
        "    train_img_Dense.append(data_Dense)\n",
        "\n",
        "data_Dense = np.array(train_img_Dense)"
      ]
    },
    {
      "cell_type": "code",
      "execution_count": null,
      "metadata": {
        "id": "QyL0EsH7ykPa"
      },
      "outputs": [],
      "source": [
        "labels_Dense = np.array(data_train3[['NameType']] )        \n",
        "labels_Dense.shape = (len(labels_Dense),) \n",
        "\n",
        "le_Dense = LabelEncoder()                                                                     \n",
        "labels_Dense = le_Dense.fit_transform(labels_Dense)                                         #จะแปลงชื่อ class เป็นตัวเลข 1, 2, 0 \n",
        "\n",
        "labels_Dense = to_categorical(labels_Dense, num_classes=3)                   #shape (180, 3) มีค่าเป็น  [0., 1., 0.]  กับ   [0., 0., 1.] กับ  [1., 0., 0.]"
      ]
    },
    {
      "cell_type": "code",
      "execution_count": null,
      "metadata": {
        "id": "_5Nd-InDykPa"
      },
      "outputs": [],
      "source": [
        "(x_train_Dense2, x_test_Dense2, y_train_Dense2, y_test_Dense2 ) = train_test_split(data_Dense, labels_Dense,\n",
        "\t                                                                                                test_size=0.25, random_state=40)"
      ]
    },
    {
      "cell_type": "code",
      "execution_count": null,
      "metadata": {
        "colab": {
          "base_uri": "https://localhost:8080/"
        },
        "id": "FEQoA7nRykPa",
        "outputId": "1e20dfca-533c-41fd-86d0-34aea5c06f99"
      },
      "outputs": [
        {
          "data": {
            "text/plain": [
              "array(['Lungcancer', 'Normal', 'Tuberculosis'], dtype=object)"
            ]
          },
          "execution_count": 49,
          "metadata": {},
          "output_type": "execute_result"
        }
      ],
      "source": [
        "le_Dense.classes_                  # มีค่า ['Lungcancer', 'Normal', 'Tuberculosis']"
      ]
    },
    {
      "cell_type": "code",
      "execution_count": null,
      "metadata": {
        "id": "ku8WbVDwykPb"
      },
      "outputs": [],
      "source": [
        "INIT_LR = 1e-1\n",
        "BS8 = 8\n",
        "EPOCHS = 50\n",
        "\n",
        "aug2 = ImageDataGenerator(\n",
        "\t\trotation_range=15,\t\t\t\t\t\t#องศาการหมุน\n",
        "\t\twidth_shift_range=0.2,\n",
        "\t\theight_shift_range=0.2,\n",
        "\t\tshear_range=0.15,\n",
        "\t\thorizontal_flip=True,\n",
        "\t\tfill_mode=\"nearest\")\n",
        "\n",
        "callback = tf.keras.callbacks.EarlyStopping(\n",
        "                monitor=\"val_accuracy\",\n",
        "                patience=3,\n",
        "                mode=\"max\" )"
      ]
    },
    {
      "cell_type": "code",
      "execution_count": null,
      "metadata": {
        "colab": {
          "base_uri": "https://localhost:8080/"
        },
        "id": "zJhXckEvykPb",
        "outputId": "e61eef3c-842c-4606-f907-3c11ba0cb1e6"
      },
      "outputs": [
        {
          "data": {
            "text/plain": [
              "707"
            ]
          },
          "execution_count": 51,
          "metadata": {},
          "output_type": "execute_result"
        }
      ],
      "source": [
        "base_model_Dense = tf.keras.applications.DenseNet201(input_shape=(224, 224, 3), include_top=False, weights=\"imagenet\")\n",
        "len(base_model_Dense.layers)"
      ]
    },
    {
      "cell_type": "code",
      "execution_count": null,
      "metadata": {
        "id": "iuIPIjnhykPc"
      },
      "outputs": [],
      "source": [
        "base_model_Dense.trainable = True\n",
        "for layer in base_model_Dense.layers[:400]:    #fix w & bias in layer 0-400\n",
        "    layer.trainable = False\n",
        "\n",
        "#Add custom head\n",
        "average_pooling_layer = tf.keras.layers.GlobalAveragePooling2D()(base_model_Dense.output)\n",
        "prediction_layer = tf.keras.layers.Dense(units=3, activation=\"sigmoid\")(average_pooling_layer)   # unit 3\n",
        "model_Dense2 = tf.keras.models.Model(inputs=base_model_Dense.input, outputs=prediction_layer)\n",
        "\n",
        "model_Dense2.compile(optimizer=tf.keras.optimizers.RMSprop(learning_rate=0.0001), loss=\"binary_crossentropy\", metrics=[\"accuracy\"])"
      ]
    },
    {
      "cell_type": "code",
      "execution_count": null,
      "metadata": {
        "colab": {
          "base_uri": "https://localhost:8080/"
        },
        "id": "CwD1NJR4ykPc",
        "outputId": "3b58f2e8-912a-4f85-ac33-55fd0a5172ee"
      },
      "outputs": [
        {
          "name": "stdout",
          "output_type": "stream",
          "text": [
            "Epoch 1/30\n",
            "42/42 [==============================] - 172s 4s/step - loss: 0.5405 - accuracy: 0.5982 - val_loss: 0.5983 - val_accuracy: 0.4956\n",
            "Epoch 2/30\n",
            "42/42 [==============================] - 145s 3s/step - loss: 0.3369 - accuracy: 0.7636 - val_loss: 0.5068 - val_accuracy: 0.6460\n",
            "Epoch 3/30\n",
            "42/42 [==============================] - 150s 4s/step - loss: 0.2905 - accuracy: 0.8455 - val_loss: 0.5202 - val_accuracy: 0.6814\n",
            "Epoch 4/30\n",
            "42/42 [==============================] - 151s 4s/step - loss: 0.2322 - accuracy: 0.8727 - val_loss: 0.3630 - val_accuracy: 0.7876\n",
            "Epoch 5/30\n",
            "42/42 [==============================] - 151s 4s/step - loss: 0.2267 - accuracy: 0.8758 - val_loss: 0.3917 - val_accuracy: 0.7522\n",
            "Epoch 6/30\n",
            "42/42 [==============================] - 151s 4s/step - loss: 0.1817 - accuracy: 0.8939 - val_loss: 0.3479 - val_accuracy: 0.8053\n",
            "Epoch 7/30\n",
            "42/42 [==============================] - 151s 4s/step - loss: 0.2066 - accuracy: 0.9000 - val_loss: 0.4976 - val_accuracy: 0.7522\n",
            "Epoch 8/30\n",
            "42/42 [==============================] - 147s 4s/step - loss: 0.1617 - accuracy: 0.9182 - val_loss: 0.6709 - val_accuracy: 0.6991\n",
            "Epoch 9/30\n",
            "42/42 [==============================] - 148s 4s/step - loss: 0.1288 - accuracy: 0.9333 - val_loss: 0.5938 - val_accuracy: 0.7345\n"
          ]
        }
      ],
      "source": [
        "H_Dense2 = model_Dense2.fit( x=aug2.flow(x_train_Dense2, y_train_Dense2, batch_size=BS8),\n",
        "\t                                            validation_data=(x_test_Dense2, y_test_Dense2),\n",
        "\t                                            steps_per_epoch=len(x_train_Dense2) // BS8,\n",
        "\t                                            epochs=30,  callbacks = [callback])"
      ]
    },
    {
      "cell_type": "code",
      "execution_count": null,
      "metadata": {
        "colab": {
          "base_uri": "https://localhost:8080/"
        },
        "id": "7o3pG25qykPd",
        "outputId": "e6df8aca-b2ea-49fb-b954-230c182e320f"
      },
      "outputs": [
        {
          "name": "stdout",
          "output_type": "stream",
          "text": [
            "              precision    recall  f1-score   support\n",
            "\n",
            "  Lungcancer       0.55      0.89      0.68        35\n",
            "      Normal       0.97      0.90      0.94        41\n",
            "Tuberculosis       0.79      0.41      0.54        37\n",
            "\n",
            "    accuracy                           0.73       113\n",
            "   macro avg       0.77      0.73      0.72       113\n",
            "weighted avg       0.78      0.73      0.73       113\n",
            "\n"
          ]
        }
      ],
      "source": [
        "#1\n",
        "pred_Dense2 = model_Dense2.predict(x_test_Dense2)\n",
        "    \n",
        "print(classification_report(y_test_Dense2.argmax(axis=1),\t                #แสดง report ค่า acc, recall, ...\n",
        "                                    pred_Dense2.argmax(axis=1),  \n",
        "                                    target_names=le_Dense.classes_))"
      ]
    },
    {
      "cell_type": "code",
      "execution_count": null,
      "metadata": {
        "colab": {
          "base_uri": "https://localhost:8080/"
        },
        "id": "qmrClCD8ykPd",
        "outputId": "91a155b4-f76f-4e37-b150-c6864ceb96ff"
      },
      "outputs": [
        {
          "name": "stdout",
          "output_type": "stream",
          "text": [
            "Fold score (accuracy): 0.7345132743362832\n"
          ]
        }
      ],
      "source": [
        "score = metrics.accuracy_score(y_test_Dense2.argmax(axis=1),\t        #ค่า acc\n",
        "                                             pred_Dense2.argmax(axis=1) )\n",
        "print(f\"Fold score (accuracy): {score}\")"
      ]
    },
    {
      "cell_type": "code",
      "execution_count": null,
      "metadata": {
        "id": "78bQ2Of9ykPe"
      },
      "outputs": [],
      "source": [
        "pred = np.round(pred_Dense2, 3)"
      ]
    },
    {
      "cell_type": "code",
      "execution_count": null,
      "metadata": {
        "id": "tqIchjYyK5pe"
      },
      "outputs": [],
      "source": [
        ""
      ]
    },
    {
      "cell_type": "markdown",
      "metadata": {
        "id": "AWai7sR8ykO4"
      },
      "source": [
        "##16 softmax  --> Crop\n",
        "\n",
        "0.68 // 19 min\n",
        "\n",
        "*   BS = 16\n",
        "*   fix weight & bias in layer 0-400\n",
        "*   activation=\"softmax\"\n",
        "*   learning_rate=0.0001\n",
        "*   epoch 30"
      ]
    },
    {
      "cell_type": "code",
      "execution_count": null,
      "metadata": {
        "colab": {
          "base_uri": "https://localhost:8080/"
        },
        "id": "s8eLVWqXykO4",
        "outputId": "7c954b51-33e5-42a5-ccdc-32d29d2383b9"
      },
      "outputs": [
        {
          "output_type": "stream",
          "name": "stderr",
          "text": [
            "100%|██████████| 451/451 [02:13<00:00,  3.37it/s]\n"
          ]
        }
      ],
      "source": [
        "train_img_Dense = []\n",
        "mywidth = 224 \n",
        "for ImageName in tqdm(data_train3['ImageName']):               # รัน ชื่อรูป ในไฟล์ data_test3\n",
        "    image_path = All_3class_dir +'/' + ImageName                   # ดึงรูปในโฟล์เดอร์มาทีละรูป\n",
        "\n",
        "    img = Image.open(image_path).convert('RGB')     \n",
        "\n",
        "    wpercent = (mywidth/float(img.size[0]))\n",
        "    hsize = int((float(img.size[1])*float(wpercent)))\n",
        "    img = img.resize((mywidth,hsize), PIL.Image.ANTIALIAS)\n",
        "    img = img.crop((0,0,mywidth,mywidth))\n",
        "\n",
        "    data_Dense = np.array(img, dtype=\"float32\") / 255.0\n",
        "    train_img_Dense.append(data_Dense)\n",
        "\n",
        "data_Dense = np.array(train_img_Dense)"
      ]
    },
    {
      "cell_type": "code",
      "execution_count": null,
      "metadata": {
        "id": "lqlQOmdeykO5"
      },
      "outputs": [],
      "source": [
        "labels_Dense = np.array(data_train3[['NameType']] )        \n",
        "labels_Dense.shape = (len(labels_Dense),) \n",
        "\n",
        "le_Dense = LabelEncoder()                                                                     \n",
        "labels_Dense = le_Dense.fit_transform(labels_Dense)                                         #จะแปลงชื่อ class เป็นตัวเลข 1, 2, 0 \n",
        "\n",
        "labels_Dense = to_categorical(labels_Dense, num_classes=3)                   #shape (180, 3) มีค่าเป็น  [0., 1., 0.]  กับ   [0., 0., 1.] กับ  [1., 0., 0.]"
      ]
    },
    {
      "cell_type": "code",
      "execution_count": null,
      "metadata": {
        "id": "TOgZU1KyykO6"
      },
      "outputs": [],
      "source": [
        "(x_train_Dense2, x_test_Dense2, y_train_Dense2, y_test_Dense2 ) = train_test_split(data_Dense, labels_Dense,\n",
        "\t                                                                                                test_size=0.25, random_state=40)"
      ]
    },
    {
      "cell_type": "code",
      "execution_count": null,
      "metadata": {
        "colab": {
          "base_uri": "https://localhost:8080/"
        },
        "id": "HET_KjfXykO6",
        "outputId": "fbef6082-eb31-4b99-97df-065617e7db5a"
      },
      "outputs": [
        {
          "output_type": "execute_result",
          "data": {
            "text/plain": [
              "array(['Lungcancer', 'Normal', 'Tuberculosis'], dtype=object)"
            ]
          },
          "metadata": {},
          "execution_count": 14
        }
      ],
      "source": [
        "le_Dense.classes_                  # มีค่า ['Lungcancer', 'Normal', 'Tuberculosis']"
      ]
    },
    {
      "cell_type": "code",
      "execution_count": null,
      "metadata": {
        "id": "RMqApJ4lykO6"
      },
      "outputs": [],
      "source": [
        "INIT_LR = 1e-1\n",
        "BS16 = 16\n",
        "EPOCHS = 50\n",
        "\n",
        "aug2 = ImageDataGenerator(\n",
        "\t\trotation_range=15,\t\t\t\t\t\t#องศาการหมุน\n",
        "\t\twidth_shift_range=0.2,\n",
        "\t\theight_shift_range=0.2,\n",
        "\t\tshear_range=0.15,\n",
        "\t\thorizontal_flip=True,\n",
        "\t\tfill_mode=\"nearest\")\n",
        "\n",
        "callback = tf.keras.callbacks.EarlyStopping(\n",
        "                monitor=\"val_accuracy\",\n",
        "                patience=3,\n",
        "                mode=\"max\" )"
      ]
    },
    {
      "cell_type": "code",
      "execution_count": null,
      "metadata": {
        "colab": {
          "base_uri": "https://localhost:8080/"
        },
        "id": "di5V0ZS3ykO7",
        "outputId": "34921d9a-f649-4bee-d202-30537b6b321c"
      },
      "outputs": [
        {
          "output_type": "stream",
          "name": "stdout",
          "text": [
            "Downloading data from https://storage.googleapis.com/tensorflow/keras-applications/densenet/densenet201_weights_tf_dim_ordering_tf_kernels_notop.h5\n",
            "74842112/74836368 [==============================] - 1s 0us/step\n",
            "74850304/74836368 [==============================] - 1s 0us/step\n"
          ]
        },
        {
          "output_type": "execute_result",
          "data": {
            "text/plain": [
              "707"
            ]
          },
          "metadata": {},
          "execution_count": 16
        }
      ],
      "source": [
        "base_model_Dense = tf.keras.applications.DenseNet201(input_shape=(224, 224, 3), include_top=False, weights=\"imagenet\")\n",
        "len(base_model_Dense.layers)"
      ]
    },
    {
      "cell_type": "code",
      "execution_count": null,
      "metadata": {
        "id": "iQqLMeb6ykO7"
      },
      "outputs": [],
      "source": [
        "base_model_Dense.trainable = True\n",
        "for layer in base_model_Dense.layers[:400]:    #fix w & bias in layer 0-400\n",
        "    layer.trainable = False\n",
        "\n",
        "#Add custom head\n",
        "average_pooling_layer = tf.keras.layers.GlobalAveragePooling2D()(base_model_Dense.output)\n",
        "prediction_layer = tf.keras.layers.Dense(units=3, activation=\"softmax\")(average_pooling_layer)   # unit 3\n",
        "model_Dense2 = tf.keras.models.Model(inputs=base_model_Dense.input, outputs=prediction_layer)\n",
        "\n",
        "model_Dense2.compile(optimizer=tf.keras.optimizers.RMSprop(learning_rate=0.0001), loss=\"binary_crossentropy\", metrics=[\"accuracy\"])"
      ]
    },
    {
      "cell_type": "code",
      "execution_count": null,
      "metadata": {
        "colab": {
          "base_uri": "https://localhost:8080/"
        },
        "id": "2hRKUvpSykO8",
        "outputId": "4bd02956-5839-44c2-fd6c-b284ac876326"
      },
      "outputs": [
        {
          "output_type": "stream",
          "name": "stdout",
          "text": [
            "Epoch 1/30\n",
            "21/21 [==============================] - 198s 8s/step - loss: 0.5133 - accuracy: 0.5901 - val_loss: 0.4926 - val_accuracy: 0.6726\n",
            "Epoch 2/30\n",
            "21/21 [==============================] - 176s 8s/step - loss: 0.3538 - accuracy: 0.7946 - val_loss: 0.4817 - val_accuracy: 0.6549\n",
            "Epoch 3/30\n",
            "21/21 [==============================] - 171s 8s/step - loss: 0.2866 - accuracy: 0.8199 - val_loss: 0.5297 - val_accuracy: 0.6195\n",
            "Epoch 4/30\n",
            "21/21 [==============================] - 172s 8s/step - loss: 0.2423 - accuracy: 0.8820 - val_loss: 0.5214 - val_accuracy: 0.6726\n"
          ]
        }
      ],
      "source": [
        "H_Dense2 = model_Dense2.fit( x=aug2.flow(x_train_Dense2, y_train_Dense2, batch_size=BS16),\n",
        "\t                                            validation_data=(x_test_Dense2, y_test_Dense2),\n",
        "\t                                            steps_per_epoch=len(x_train_Dense2) // BS16,\n",
        "\t                                            epochs=30,  callbacks = [callback])"
      ]
    },
    {
      "cell_type": "code",
      "execution_count": null,
      "metadata": {
        "colab": {
          "base_uri": "https://localhost:8080/"
        },
        "id": "kjGXfuuAykO8",
        "outputId": "8861fedd-5643-435d-9f7e-aa62edcc3667"
      },
      "outputs": [
        {
          "output_type": "stream",
          "name": "stdout",
          "text": [
            "              precision    recall  f1-score   support\n",
            "\n",
            "  Lungcancer       0.62      0.74      0.68        35\n",
            "      Normal       0.67      0.98      0.79        41\n",
            "Tuberculosis       0.91      0.27      0.42        37\n",
            "\n",
            "    accuracy                           0.67       113\n",
            "   macro avg       0.73      0.66      0.63       113\n",
            "weighted avg       0.73      0.67      0.63       113\n",
            "\n"
          ]
        }
      ],
      "source": [
        "#1\n",
        "pred_Dense2 = model_Dense2.predict(x_test_Dense2)\n",
        "    \n",
        "print(classification_report(y_test_Dense2.argmax(axis=1),\t                #แสดง report ค่า acc, recall, ...\n",
        "                                    pred_Dense2.argmax(axis=1),  \n",
        "                                    target_names=le_Dense.classes_))"
      ]
    },
    {
      "cell_type": "code",
      "execution_count": null,
      "metadata": {
        "colab": {
          "base_uri": "https://localhost:8080/"
        },
        "id": "6tc4W-xOykO9",
        "outputId": "ac0f580f-a081-401a-fd70-7c6d9e137540"
      },
      "outputs": [
        {
          "output_type": "stream",
          "name": "stdout",
          "text": [
            "Fold score (accuracy): 0.672566371681416\n"
          ]
        }
      ],
      "source": [
        "score = metrics.accuracy_score(y_test_Dense2.argmax(axis=1),\t        #ค่า acc\n",
        "                                             pred_Dense2.argmax(axis=1) )\n",
        "print(f\"Fold score (accuracy): {score}\")"
      ]
    },
    {
      "cell_type": "code",
      "execution_count": null,
      "metadata": {
        "id": "4-eH7KCr-QPi"
      },
      "outputs": [],
      "source": [
        "pred = np.round(pred_Dense2, 2)"
      ]
    },
    {
      "cell_type": "code",
      "execution_count": null,
      "metadata": {
        "colab": {
          "base_uri": "https://localhost:8080/"
        },
        "id": "GinCzyrxAHNl",
        "outputId": "8d87b377-2a23-42dd-fe90-ad4fd2fd028c"
      },
      "outputs": [
        {
          "output_type": "execute_result",
          "data": {
            "text/plain": [
              "array(['Lungcancer', 'Normal', 'Tuberculosis'], dtype=object)"
            ]
          },
          "metadata": {},
          "execution_count": 22
        }
      ],
      "source": [
        "le_Dense.classes_"
      ]
    },
    {
      "cell_type": "code",
      "source": [
        "pred[:6]"
      ],
      "metadata": {
        "colab": {
          "base_uri": "https://localhost:8080/"
        },
        "id": "WcV3Nt5jXcva",
        "outputId": "b909daea-d92b-4db8-8c61-2842f745921d"
      },
      "execution_count": null,
      "outputs": [
        {
          "output_type": "execute_result",
          "data": {
            "text/plain": [
              "array([[0.83, 0.16, 0.01],\n",
              "       [0.  , 1.  , 0.  ],\n",
              "       [0.  , 1.  , 0.  ],\n",
              "       [0.  , 1.  , 0.  ],\n",
              "       [0.34, 0.6 , 0.06],\n",
              "       [0.99, 0.  , 0.01]], dtype=float32)"
            ]
          },
          "metadata": {},
          "execution_count": 27
        }
      ]
    },
    {
      "cell_type": "code",
      "source": [
        "y_test_Dense2[:6]"
      ],
      "metadata": {
        "colab": {
          "base_uri": "https://localhost:8080/"
        },
        "id": "UpxPQ3CSXcsz",
        "outputId": "9f5c0f41-0e35-46ea-dd4d-9b8150fa5db7"
      },
      "execution_count": null,
      "outputs": [
        {
          "output_type": "execute_result",
          "data": {
            "text/plain": [
              "array([[1., 0., 0.],\n",
              "       [0., 1., 0.],\n",
              "       [0., 1., 0.],\n",
              "       [0., 1., 0.],\n",
              "       [0., 0., 1.],\n",
              "       [1., 0., 0.]], dtype=float32)"
            ]
          },
          "metadata": {},
          "execution_count": 28
        }
      ]
    },
    {
      "cell_type": "code",
      "source": [
        ""
      ],
      "metadata": {
        "id": "0RAP3PpqXcqP"
      },
      "execution_count": null,
      "outputs": []
    },
    {
      "cell_type": "markdown",
      "metadata": {
        "id": "CNliGEzWykO_"
      },
      "source": [
        "##16 sigmoid  --> Crop\n",
        "\n",
        "0.73 // 22min\n",
        "\n",
        "*   BS = 16\n",
        "*   fix weight & bias in layer 0-400\n",
        "*   activation=\"sigmoid\"\n",
        "*   learning_rate=0.0001\n",
        "*   epoch 30"
      ]
    },
    {
      "cell_type": "code",
      "execution_count": null,
      "metadata": {
        "colab": {
          "base_uri": "https://localhost:8080/"
        },
        "id": "taKFJI0CDWon",
        "outputId": "0b88b8d3-dddd-4540-bb0a-244dca9206d8"
      },
      "outputs": [
        {
          "name": "stderr",
          "output_type": "stream",
          "text": [
            "100%|██████████| 451/451 [00:07<00:00, 61.14it/s] \n"
          ]
        }
      ],
      "source": [
        "train_img_Dense = []\n",
        "mywidth = 224 \n",
        "for ImageName in tqdm(data_train3['ImageName']):               # รัน ชื่อรูป ในไฟล์ data_test3\n",
        "    image_path = All_3class_dir +'/' + ImageName                   # ดึงรูปในโฟล์เดอร์มาทีละรูป\n",
        "\n",
        "    img = Image.open(image_path).convert('RGB')     \n",
        "\n",
        "    wpercent = (mywidth/float(img.size[0]))\n",
        "    hsize = int((float(img.size[1])*float(wpercent)))\n",
        "    img = img.resize((mywidth,hsize), PIL.Image.ANTIALIAS)\n",
        "    img = img.crop((0,0,mywidth,mywidth))\n",
        "\n",
        "    data_Dense = np.array(img, dtype=\"float32\") / 255.0\n",
        "    train_img_Dense.append(data_Dense)\n",
        "\n",
        "data_Dense = np.array(train_img_Dense)"
      ]
    },
    {
      "cell_type": "code",
      "execution_count": null,
      "metadata": {
        "id": "bTVn0yU-ykPA"
      },
      "outputs": [],
      "source": [
        "labels_Dense = np.array(data_train3[['NameType']] )        \n",
        "labels_Dense.shape = (len(labels_Dense),) \n",
        "\n",
        "le_Dense = LabelEncoder()                                                                     \n",
        "labels_Dense = le_Dense.fit_transform(labels_Dense)                                         #จะแปลงชื่อ class เป็นตัวเลข 1, 2, 0 \n",
        "\n",
        "labels_Dense = to_categorical(labels_Dense, num_classes=3)                   #shape (180, 3) มีค่าเป็น  [0., 1., 0.]  กับ   [0., 0., 1.] กับ  [1., 0., 0.]"
      ]
    },
    {
      "cell_type": "code",
      "execution_count": null,
      "metadata": {
        "id": "sN4HMl8CykPA"
      },
      "outputs": [],
      "source": [
        "(x_train_Dense2, x_test_Dense2, y_train_Dense2, y_test_Dense2 ) = train_test_split(data_Dense, labels_Dense,\n",
        "\t                                                                                                test_size=0.25, random_state=40)"
      ]
    },
    {
      "cell_type": "code",
      "execution_count": null,
      "metadata": {
        "colab": {
          "base_uri": "https://localhost:8080/"
        },
        "id": "ofYOIR6cykPB",
        "outputId": "a06636ae-b061-493f-d6d3-765d803053ad"
      },
      "outputs": [
        {
          "data": {
            "text/plain": [
              "array(['Lungcancer', 'Normal', 'Tuberculosis'], dtype=object)"
            ]
          },
          "execution_count": 74,
          "metadata": {},
          "output_type": "execute_result"
        }
      ],
      "source": [
        "le_Dense.classes_                  # มีค่า ['Lungcancer', 'Normal', 'Tuberculosis']"
      ]
    },
    {
      "cell_type": "code",
      "execution_count": null,
      "metadata": {
        "id": "cFKJHMr0ykPB"
      },
      "outputs": [],
      "source": [
        "INIT_LR = 1e-1\n",
        "BS16 = 16\n",
        "EPOCHS = 50\n",
        "\n",
        "aug51 = ImageDataGenerator(\n",
        "\t\trotation_range=15,\t\t\t\t\t\t#องศาการหมุน\n",
        "\t\twidth_shift_range=0.1,\n",
        "\t\theight_shift_range=0.1,\n",
        "\t\tshear_range=0.15,\n",
        "\t\thorizontal_flip=True,\n",
        "\t\tfill_mode=\"nearest\")\n",
        "\n",
        "callback = tf.keras.callbacks.EarlyStopping(\n",
        "                monitor=\"val_accuracy\",\n",
        "                patience=3,\n",
        "                mode=\"max\" )"
      ]
    },
    {
      "cell_type": "code",
      "execution_count": null,
      "metadata": {
        "colab": {
          "base_uri": "https://localhost:8080/"
        },
        "id": "cXzdM5FDykPC",
        "outputId": "144e344f-2627-4348-d2ad-4035e70d91d9"
      },
      "outputs": [
        {
          "data": {
            "text/plain": [
              "707"
            ]
          },
          "execution_count": 76,
          "metadata": {},
          "output_type": "execute_result"
        }
      ],
      "source": [
        "base_model_Dense = tf.keras.applications.DenseNet201(input_shape=(224, 224, 3), include_top=False, weights=\"imagenet\")\n",
        "len(base_model_Dense.layers)"
      ]
    },
    {
      "cell_type": "code",
      "execution_count": null,
      "metadata": {
        "id": "f9WOXbuvykPC"
      },
      "outputs": [],
      "source": [
        "base_model_Dense.trainable = True\n",
        "for layer in base_model_Dense.layers[:400]:    #fix w & bias in layer 0-400\n",
        "    layer.trainable = False\n",
        "\n",
        "#Add custom head\n",
        "average_pooling_layer = tf.keras.layers.GlobalAveragePooling2D()(base_model_Dense.output)\n",
        "prediction_layer = tf.keras.layers.Dense(units=3, activation=\"sigmoid\")(average_pooling_layer)   # unit 3\n",
        "model_Dense51 = tf.keras.models.Model(inputs=base_model_Dense.input, outputs=prediction_layer)\n",
        "\n",
        "model_Dense51.compile(optimizer=tf.keras.optimizers.RMSprop(learning_rate=0.0001), loss=\"binary_crossentropy\", metrics=[\"accuracy\"])"
      ]
    },
    {
      "cell_type": "code",
      "execution_count": null,
      "metadata": {
        "colab": {
          "base_uri": "https://localhost:8080/"
        },
        "id": "vE7jXzOKykPC",
        "outputId": "bb307bdc-1c75-4f1d-a527-feacdbb973cf"
      },
      "outputs": [
        {
          "name": "stdout",
          "output_type": "stream",
          "text": [
            "Epoch 1/30\n",
            "21/21 [==============================] - 167s 7s/step - loss: 0.4945 - accuracy: 0.6398 - val_loss: 0.6170 - val_accuracy: 0.4690\n",
            "Epoch 2/30\n",
            "21/21 [==============================] - 141s 7s/step - loss: 0.2995 - accuracy: 0.8323 - val_loss: 0.6350 - val_accuracy: 0.4956\n",
            "Epoch 3/30\n",
            "21/21 [==============================] - 141s 7s/step - loss: 0.2574 - accuracy: 0.8416 - val_loss: 0.6600 - val_accuracy: 0.5310\n",
            "Epoch 4/30\n",
            "21/21 [==============================] - 146s 7s/step - loss: 0.2176 - accuracy: 0.8899 - val_loss: 0.8356 - val_accuracy: 0.5133\n",
            "Epoch 5/30\n",
            "21/21 [==============================] - 139s 7s/step - loss: 0.1502 - accuracy: 0.9286 - val_loss: 0.5210 - val_accuracy: 0.6549\n",
            "Epoch 6/30\n",
            "21/21 [==============================] - 139s 7s/step - loss: 0.1406 - accuracy: 0.9317 - val_loss: 0.3903 - val_accuracy: 0.7611\n",
            "Epoch 7/30\n",
            "21/21 [==============================] - 138s 7s/step - loss: 0.0972 - accuracy: 0.9565 - val_loss: 0.4705 - val_accuracy: 0.7080\n",
            "Epoch 8/30\n",
            "21/21 [==============================] - 138s 7s/step - loss: 0.1266 - accuracy: 0.9224 - val_loss: 0.3776 - val_accuracy: 0.7434\n",
            "Epoch 9/30\n",
            "21/21 [==============================] - 138s 7s/step - loss: 0.0706 - accuracy: 0.9845 - val_loss: 0.4244 - val_accuracy: 0.7257\n"
          ]
        }
      ],
      "source": [
        "H_Dense51 = model_Dense51.fit( x=aug51.flow(x_train_Dense2, y_train_Dense2, batch_size=BS16),\n",
        "\t                                            validation_data=(x_test_Dense2, y_test_Dense2),\n",
        "\t                                            steps_per_epoch=len(x_train_Dense2) // BS16,\n",
        "\t                                            epochs=30,  callbacks = [callback])"
      ]
    },
    {
      "cell_type": "code",
      "execution_count": null,
      "metadata": {
        "colab": {
          "base_uri": "https://localhost:8080/"
        },
        "id": "hIon4bjpykPD",
        "outputId": "44a82ac3-cd94-4a5d-c251-457ff9f3b9a2"
      },
      "outputs": [
        {
          "name": "stdout",
          "output_type": "stream",
          "text": [
            "              precision    recall  f1-score   support\n",
            "\n",
            "  Lungcancer       0.60      0.74      0.67        35\n",
            "      Normal       0.87      0.95      0.91        41\n",
            "Tuberculosis       0.68      0.46      0.55        37\n",
            "\n",
            "    accuracy                           0.73       113\n",
            "   macro avg       0.72      0.72      0.71       113\n",
            "weighted avg       0.72      0.73      0.72       113\n",
            "\n"
          ]
        }
      ],
      "source": [
        "pred_Dense2 = model_Dense51.predict(x_test_Dense2)\n",
        "    \n",
        "print(classification_report(y_test_Dense2.argmax(axis=1),\t                #แสดง report ค่า acc, recall, ...\n",
        "                                    pred_Dense2.argmax(axis=1),  \n",
        "                                    target_names=le_Dense.classes_))"
      ]
    },
    {
      "cell_type": "code",
      "execution_count": null,
      "metadata": {
        "colab": {
          "base_uri": "https://localhost:8080/"
        },
        "id": "rknG73CJykPD",
        "outputId": "639e9c97-5d3f-46e8-ae08-041e067f3022"
      },
      "outputs": [
        {
          "name": "stdout",
          "output_type": "stream",
          "text": [
            "Fold score (accuracy): 0.7256637168141593\n"
          ]
        }
      ],
      "source": [
        "score = metrics.accuracy_score(y_test_Dense2.argmax(axis=1),\t        #ค่า acc\n",
        "                                             pred_Dense2.argmax(axis=1) )\n",
        "print(f\"Fold score (accuracy): {score}\")"
      ]
    },
    {
      "cell_type": "code",
      "execution_count": null,
      "metadata": {
        "id": "Kw8dWbHYLRlr"
      },
      "outputs": [],
      "source": [
        "pred = np.round(pred_Dense2, 3)"
      ]
    },
    {
      "cell_type": "markdown",
      "metadata": {
        "id": "WUb55amFI3yF"
      },
      "source": [
        "##32 softmax   --> Crop\n",
        "\n",
        "0.67 // 14 min\n",
        "\n",
        "*   BS = 32\n",
        "*   fix weight & bias in layer 0-400\n",
        "*   activation=\"softmax\"\n",
        "*   learning_rate=0.0001\n",
        "*   epoch 30"
      ]
    },
    {
      "cell_type": "code",
      "execution_count": null,
      "metadata": {
        "colab": {
          "base_uri": "https://localhost:8080/"
        },
        "id": "wG3NMonfI3yG",
        "outputId": "dbe2b5b2-237d-4409-adf1-aba47f6c8a96"
      },
      "outputs": [
        {
          "name": "stderr",
          "output_type": "stream",
          "text": [
            "100%|██████████| 451/451 [00:07<00:00, 62.63it/s] \n"
          ]
        }
      ],
      "source": [
        "train_img_Dense = []\n",
        "mywidth = 224 \n",
        "for ImageName in tqdm(data_train3['ImageName']):               # รัน ชื่อรูป ในไฟล์ data_test3\n",
        "    image_path = All_3class_dir +'/' + ImageName                   # ดึงรูปในโฟล์เดอร์มาทีละรูป\n",
        "\n",
        "    img = Image.open(image_path).convert('RGB')     \n",
        "\n",
        "    wpercent = (mywidth/float(img.size[0]))\n",
        "    hsize = int((float(img.size[1])*float(wpercent)))\n",
        "    img = img.resize((mywidth,hsize), PIL.Image.ANTIALIAS)\n",
        "    img = img.crop((0,0,mywidth,mywidth))\n",
        "\n",
        "    data_Dense = np.array(img, dtype=\"float32\") / 255.0\n",
        "    train_img_Dense.append(data_Dense)\n",
        "\n",
        "data_Dense = np.array(train_img_Dense)"
      ]
    },
    {
      "cell_type": "code",
      "execution_count": null,
      "metadata": {
        "id": "AJRhQZgtI3yH"
      },
      "outputs": [],
      "source": [
        "labels_Dense = np.array(data_train3[['NameType']] )        \n",
        "labels_Dense.shape = (len(labels_Dense),) \n",
        "\n",
        "le_Dense = LabelEncoder()                                                                     \n",
        "labels_Dense = le_Dense.fit_transform(labels_Dense)                                         #จะแปลงชื่อ class เป็นตัวเลข 1, 2, 0 \n",
        "\n",
        "labels_Dense = to_categorical(labels_Dense, num_classes=3)                   #shape (180, 3) มีค่าเป็น  [0., 1., 0.]  กับ   [0., 0., 1.] กับ  [1., 0., 0.]"
      ]
    },
    {
      "cell_type": "code",
      "execution_count": null,
      "metadata": {
        "id": "F2J5VMR-I3yH"
      },
      "outputs": [],
      "source": [
        "(x_train_Dense2, x_test_Dense2, y_train_Dense2, y_test_Dense2 ) = train_test_split(data_Dense, labels_Dense,\n",
        "\t                                                                                                test_size=0.25, random_state=40)"
      ]
    },
    {
      "cell_type": "code",
      "execution_count": null,
      "metadata": {
        "colab": {
          "base_uri": "https://localhost:8080/"
        },
        "id": "atQMZuQKI3yI",
        "outputId": "01edcaea-116b-4438-bc42-ae87d0b353c2"
      },
      "outputs": [
        {
          "data": {
            "text/plain": [
              "array(['Lungcancer', 'Normal', 'Tuberculosis'], dtype=object)"
            ]
          },
          "execution_count": 85,
          "metadata": {},
          "output_type": "execute_result"
        }
      ],
      "source": [
        "le_Dense.classes_                  # มีค่า ['Lungcancer', 'Normal', 'Tuberculosis']"
      ]
    },
    {
      "cell_type": "code",
      "execution_count": null,
      "metadata": {
        "id": "Rx6-AdJMI3yI"
      },
      "outputs": [],
      "source": [
        "INIT_LR = 1e-1\n",
        "BS32 = 32\n",
        "EPOCHS = 50\n",
        "\n",
        "aug2 = ImageDataGenerator(\n",
        "\t\trotation_range=15,\t\t\t\t\t\t#องศาการหมุน\n",
        "\t\twidth_shift_range=0.2,\n",
        "\t\theight_shift_range=0.2,\n",
        "\t\tshear_range=0.15,\n",
        "\t\thorizontal_flip=True,\n",
        "\t\tfill_mode=\"nearest\")\n",
        "\n",
        "callback = tf.keras.callbacks.EarlyStopping(\n",
        "                monitor=\"val_accuracy\",\n",
        "                patience=3,\n",
        "                mode=\"max\" )"
      ]
    },
    {
      "cell_type": "code",
      "execution_count": null,
      "metadata": {
        "colab": {
          "base_uri": "https://localhost:8080/"
        },
        "id": "_3g_IG5DI3yJ",
        "outputId": "5e1ebbb9-6d84-4d36-d354-7f7a02286f39"
      },
      "outputs": [
        {
          "data": {
            "text/plain": [
              "707"
            ]
          },
          "execution_count": 87,
          "metadata": {},
          "output_type": "execute_result"
        }
      ],
      "source": [
        "base_model_Dense = tf.keras.applications.DenseNet201(input_shape=(224, 224, 3), include_top=False, weights=\"imagenet\")\n",
        "len(base_model_Dense.layers)"
      ]
    },
    {
      "cell_type": "code",
      "execution_count": null,
      "metadata": {
        "id": "rN48FtqjI3yJ"
      },
      "outputs": [],
      "source": [
        "base_model_Dense.trainable = True\n",
        "for layer in base_model_Dense.layers[:400]:    #fix w & bias in layer 0-400\n",
        "    layer.trainable = False\n",
        "\n",
        "#Add custom head\n",
        "average_pooling_layer = tf.keras.layers.GlobalAveragePooling2D()(base_model_Dense.output)\n",
        "prediction_layer = tf.keras.layers.Dense(units=3, activation=\"softmax\")(average_pooling_layer)   # unit 3\n",
        "model_Dense2 = tf.keras.models.Model(inputs=base_model_Dense.input, outputs=prediction_layer)\n",
        "\n",
        "model_Dense2.compile(optimizer=tf.keras.optimizers.RMSprop(learning_rate=0.0001), loss=\"binary_crossentropy\", metrics=[\"accuracy\"])"
      ]
    },
    {
      "cell_type": "code",
      "execution_count": null,
      "metadata": {
        "colab": {
          "base_uri": "https://localhost:8080/"
        },
        "id": "2fFfX1fKI3yJ",
        "outputId": "ebce683d-cc27-4b87-ede1-dde70c0b8f54"
      },
      "outputs": [
        {
          "name": "stdout",
          "output_type": "stream",
          "text": [
            "Epoch 1/30\n",
            "10/10 [==============================] - 159s 14s/step - loss: 0.5526 - accuracy: 0.6078 - val_loss: 0.5262 - val_accuracy: 0.6106\n",
            "Epoch 2/30\n",
            "10/10 [==============================] - 139s 14s/step - loss: 0.3489 - accuracy: 0.8156 - val_loss: 0.5189 - val_accuracy: 0.6460\n",
            "Epoch 3/30\n",
            "10/10 [==============================] - 134s 14s/step - loss: 0.2790 - accuracy: 0.8497 - val_loss: 0.4708 - val_accuracy: 0.6726\n",
            "Epoch 4/30\n",
            "10/10 [==============================] - 135s 14s/step - loss: 0.2392 - accuracy: 0.8693 - val_loss: 0.5354 - val_accuracy: 0.6637\n",
            "Epoch 5/30\n",
            "10/10 [==============================] - 134s 14s/step - loss: 0.1892 - accuracy: 0.9183 - val_loss: 0.4685 - val_accuracy: 0.6726\n",
            "Epoch 6/30\n",
            "10/10 [==============================] - 135s 14s/step - loss: 0.1611 - accuracy: 0.9412 - val_loss: 0.4691 - val_accuracy: 0.6726\n"
          ]
        }
      ],
      "source": [
        "H_Dense2 = model_Dense2.fit( x=aug2.flow(x_train_Dense2, y_train_Dense2, batch_size=BS32),\n",
        "\t                                            validation_data=(x_test_Dense2, y_test_Dense2),\n",
        "\t                                            steps_per_epoch=len(x_train_Dense2) // BS32,\n",
        "\t                                            epochs=30,  callbacks = [callback])"
      ]
    },
    {
      "cell_type": "code",
      "execution_count": null,
      "metadata": {
        "colab": {
          "base_uri": "https://localhost:8080/"
        },
        "id": "dEuKMh9GI3yK",
        "outputId": "e3756af6-505f-4755-c8b0-480b9a86a9f7"
      },
      "outputs": [
        {
          "name": "stdout",
          "output_type": "stream",
          "text": [
            "              precision    recall  f1-score   support\n",
            "\n",
            "  Lungcancer       0.74      0.40      0.52        35\n",
            "      Normal       0.67      1.00      0.80        41\n",
            "Tuberculosis       0.64      0.57      0.60        37\n",
            "\n",
            "    accuracy                           0.67       113\n",
            "   macro avg       0.68      0.66      0.64       113\n",
            "weighted avg       0.68      0.67      0.65       113\n",
            "\n"
          ]
        }
      ],
      "source": [
        "pred_Dense2 = model_Dense2.predict(x_test_Dense2)\n",
        "    \n",
        "print(classification_report(y_test_Dense2.argmax(axis=1),\t                #แสดง report ค่า acc, recall, ...\n",
        "                                    pred_Dense2.argmax(axis=1),  \n",
        "                                    target_names=le_Dense.classes_))"
      ]
    },
    {
      "cell_type": "code",
      "execution_count": null,
      "metadata": {
        "colab": {
          "base_uri": "https://localhost:8080/"
        },
        "id": "2vvloY83I3yK",
        "outputId": "1fbc47bc-f6e1-4c12-e83f-ea6b751df57d"
      },
      "outputs": [
        {
          "name": "stdout",
          "output_type": "stream",
          "text": [
            "Fold score (accuracy): 0.672566371681416\n"
          ]
        }
      ],
      "source": [
        "score = metrics.accuracy_score(y_test_Dense2.argmax(axis=1),\t        #ค่า acc\n",
        "                                             pred_Dense2.argmax(axis=1) )\n",
        "print(f\"Fold score (accuracy): {score}\")"
      ]
    },
    {
      "cell_type": "code",
      "execution_count": null,
      "metadata": {
        "id": "_uQq30THJcsc"
      },
      "outputs": [],
      "source": [
        "pred = np.round(pred_Dense2, 3)"
      ]
    },
    {
      "cell_type": "markdown",
      "metadata": {
        "id": "xG-AHQjxLhhL"
      },
      "source": [
        "##32 softmax   --> Crop\n",
        "\n",
        "0.67 // 35 min\n",
        "\n",
        "*   BS = 32\n",
        "*   fix weight & bias in layer 0-400\n",
        "*   activation=\"sigmoid\"\n",
        "*   learning_rate=0.0001\n",
        "*   epoch 30"
      ]
    },
    {
      "cell_type": "code",
      "execution_count": null,
      "metadata": {
        "colab": {
          "base_uri": "https://localhost:8080/"
        },
        "id": "hkS4XvGJLhhZ",
        "outputId": "bf150cf0-eeec-4127-8ab7-6274aa683b72"
      },
      "outputs": [
        {
          "name": "stderr",
          "output_type": "stream",
          "text": [
            "100%|██████████| 451/451 [00:07<00:00, 63.16it/s] \n"
          ]
        }
      ],
      "source": [
        "train_img_Dense = []\n",
        "mywidth = 224 \n",
        "for ImageName in tqdm(data_train3['ImageName']):               # รัน ชื่อรูป ในไฟล์ data_test3\n",
        "    image_path = All_3class_dir +'/' + ImageName                   # ดึงรูปในโฟล์เดอร์มาทีละรูป\n",
        "\n",
        "    img = Image.open(image_path).convert('RGB')     \n",
        "\n",
        "    wpercent = (mywidth/float(img.size[0]))\n",
        "    hsize = int((float(img.size[1])*float(wpercent)))\n",
        "    img = img.resize((mywidth,hsize), PIL.Image.ANTIALIAS)\n",
        "    img = img.crop((0,0,mywidth,mywidth))\n",
        "\n",
        "    data_Dense = np.array(img, dtype=\"float32\") / 255.0\n",
        "    train_img_Dense.append(data_Dense)\n",
        "\n",
        "data_Dense = np.array(train_img_Dense)"
      ]
    },
    {
      "cell_type": "code",
      "execution_count": null,
      "metadata": {
        "id": "BG8BuUthLhha"
      },
      "outputs": [],
      "source": [
        "labels_Dense = np.array(data_train3[['NameType']] )        \n",
        "labels_Dense.shape = (len(labels_Dense),) \n",
        "\n",
        "le_Dense = LabelEncoder()                                                                     \n",
        "labels_Dense = le_Dense.fit_transform(labels_Dense)                                         #จะแปลงชื่อ class เป็นตัวเลข 1, 2, 0 \n",
        "\n",
        "labels_Dense = to_categorical(labels_Dense, num_classes=3)                   #shape (180, 3) มีค่าเป็น  [0., 1., 0.]  กับ   [0., 0., 1.] กับ  [1., 0., 0.]"
      ]
    },
    {
      "cell_type": "code",
      "execution_count": null,
      "metadata": {
        "id": "fCum4IToLhhb"
      },
      "outputs": [],
      "source": [
        "(x_train_Dense2, x_test_Dense2, y_train_Dense2, y_test_Dense2 ) = train_test_split(data_Dense, labels_Dense,\n",
        "\t                                                                                                test_size=0.25, random_state=40)"
      ]
    },
    {
      "cell_type": "code",
      "execution_count": null,
      "metadata": {
        "colab": {
          "base_uri": "https://localhost:8080/"
        },
        "id": "HtNx-NBrLhhb",
        "outputId": "b8d4ecf3-6ea0-4d23-86b8-ef35c054dc5f"
      },
      "outputs": [
        {
          "data": {
            "text/plain": [
              "array(['Lungcancer', 'Normal', 'Tuberculosis'], dtype=object)"
            ]
          },
          "execution_count": 96,
          "metadata": {},
          "output_type": "execute_result"
        }
      ],
      "source": [
        "le_Dense.classes_                  # มีค่า ['Lungcancer', 'Normal', 'Tuberculosis']"
      ]
    },
    {
      "cell_type": "code",
      "execution_count": null,
      "metadata": {
        "id": "dBWoaN30Lhhc"
      },
      "outputs": [],
      "source": [
        "INIT_LR = 1e-1\n",
        "BS32 = 32\n",
        "EPOCHS = 50\n",
        "\n",
        "aug2 = ImageDataGenerator(\n",
        "\t\trotation_range=15,\t\t\t\t\t\t#องศาการหมุน\n",
        "\t\twidth_shift_range=0.2,\n",
        "\t\theight_shift_range=0.2,\n",
        "\t\tshear_range=0.15,\n",
        "\t\thorizontal_flip=True,\n",
        "\t\tfill_mode=\"nearest\")\n",
        "\n",
        "callback = tf.keras.callbacks.EarlyStopping(\n",
        "                monitor=\"val_accuracy\",\n",
        "                patience=3,\n",
        "                mode=\"max\" )"
      ]
    },
    {
      "cell_type": "code",
      "execution_count": null,
      "metadata": {
        "colab": {
          "base_uri": "https://localhost:8080/"
        },
        "id": "pcm-FxlTLhhc",
        "outputId": "6d9c8689-37e1-42c4-ff56-dea2bcb63b29"
      },
      "outputs": [
        {
          "data": {
            "text/plain": [
              "707"
            ]
          },
          "execution_count": 98,
          "metadata": {},
          "output_type": "execute_result"
        }
      ],
      "source": [
        "base_model_Dense = tf.keras.applications.DenseNet201(input_shape=(224, 224, 3), include_top=False, weights=\"imagenet\")\n",
        "len(base_model_Dense.layers)"
      ]
    },
    {
      "cell_type": "code",
      "execution_count": null,
      "metadata": {
        "id": "FWGcWKJSLhhd"
      },
      "outputs": [],
      "source": [
        "base_model_Dense.trainable = True\n",
        "for layer in base_model_Dense.layers[:400]:    #fix w & bias in layer 0-400\n",
        "    layer.trainable = False\n",
        "\n",
        "#Add custom head\n",
        "average_pooling_layer = tf.keras.layers.GlobalAveragePooling2D()(base_model_Dense.output)\n",
        "prediction_layer = tf.keras.layers.Dense(units=3, activation=\"sigmoid\")(average_pooling_layer)   # unit 3\n",
        "model_Dense2 = tf.keras.models.Model(inputs=base_model_Dense.input, outputs=prediction_layer)\n",
        "\n",
        "model_Dense2.compile(optimizer=tf.keras.optimizers.RMSprop(learning_rate=0.0001), loss=\"binary_crossentropy\", metrics=[\"accuracy\"])"
      ]
    },
    {
      "cell_type": "code",
      "execution_count": null,
      "metadata": {
        "colab": {
          "base_uri": "https://localhost:8080/"
        },
        "id": "R4AF9KJyLhhd",
        "outputId": "5ffc40a8-5af5-400a-f129-3b736dc6b48b"
      },
      "outputs": [
        {
          "name": "stdout",
          "output_type": "stream",
          "text": [
            "Epoch 1/30\n",
            "10/10 [==============================] - 158s 14s/step - loss: 0.4961 - accuracy: 0.6438 - val_loss: 0.6678 - val_accuracy: 0.4336\n",
            "Epoch 2/30\n",
            "10/10 [==============================] - 138s 14s/step - loss: 0.3734 - accuracy: 0.7647 - val_loss: 0.6802 - val_accuracy: 0.4425\n",
            "Epoch 3/30\n",
            "10/10 [==============================] - 139s 14s/step - loss: 0.2863 - accuracy: 0.8333 - val_loss: 0.7181 - val_accuracy: 0.4159\n",
            "Epoch 4/30\n",
            "10/10 [==============================] - 138s 14s/step - loss: 0.2369 - accuracy: 0.8725 - val_loss: 0.7649 - val_accuracy: 0.4425\n",
            "Epoch 5/30\n",
            "10/10 [==============================] - 138s 14s/step - loss: 0.2068 - accuracy: 0.8889 - val_loss: 0.7925 - val_accuracy: 0.4513\n",
            "Epoch 6/30\n",
            "10/10 [==============================] - 138s 15s/step - loss: 0.1872 - accuracy: 0.9216 - val_loss: 0.8142 - val_accuracy: 0.4867\n",
            "Epoch 7/30\n",
            "10/10 [==============================] - 139s 14s/step - loss: 0.1395 - accuracy: 0.9444 - val_loss: 0.7366 - val_accuracy: 0.5398\n",
            "Epoch 8/30\n",
            "10/10 [==============================] - 138s 14s/step - loss: 0.1298 - accuracy: 0.9248 - val_loss: 0.7980 - val_accuracy: 0.5487\n",
            "Epoch 9/30\n",
            "10/10 [==============================] - 134s 14s/step - loss: 0.1242 - accuracy: 0.9477 - val_loss: 0.7932 - val_accuracy: 0.5752\n",
            "Epoch 10/30\n",
            "10/10 [==============================] - 134s 14s/step - loss: 0.0834 - accuracy: 0.9673 - val_loss: 0.8303 - val_accuracy: 0.5841\n",
            "Epoch 11/30\n",
            "10/10 [==============================] - 140s 14s/step - loss: 0.0682 - accuracy: 0.9812 - val_loss: 0.7231 - val_accuracy: 0.5841\n",
            "Epoch 12/30\n",
            "10/10 [==============================] - 134s 14s/step - loss: 0.0421 - accuracy: 0.9902 - val_loss: 0.6124 - val_accuracy: 0.6903\n",
            "Epoch 13/30\n",
            "10/10 [==============================] - 134s 14s/step - loss: 0.0520 - accuracy: 0.9771 - val_loss: 0.6084 - val_accuracy: 0.6637\n",
            "Epoch 14/30\n",
            "10/10 [==============================] - 134s 14s/step - loss: 0.0580 - accuracy: 0.9673 - val_loss: 0.5040 - val_accuracy: 0.6814\n",
            "Epoch 15/30\n",
            "10/10 [==============================] - 134s 14s/step - loss: 0.0385 - accuracy: 0.9902 - val_loss: 0.5727 - val_accuracy: 0.6726\n"
          ]
        }
      ],
      "source": [
        "H_Dense2 = model_Dense2.fit( x=aug2.flow(x_train_Dense2, y_train_Dense2, batch_size=BS32),\n",
        "\t                                            validation_data=(x_test_Dense2, y_test_Dense2),\n",
        "\t                                            steps_per_epoch=len(x_train_Dense2) // BS32,\n",
        "\t                                            epochs=30,  callbacks = [callback])"
      ]
    },
    {
      "cell_type": "code",
      "execution_count": null,
      "metadata": {
        "colab": {
          "base_uri": "https://localhost:8080/"
        },
        "id": "Q_xZH7oeLhhe",
        "outputId": "349f55f4-ac86-438d-becf-757b2452248a"
      },
      "outputs": [
        {
          "name": "stdout",
          "output_type": "stream",
          "text": [
            "              precision    recall  f1-score   support\n",
            "\n",
            "  Lungcancer       0.70      0.40      0.51        35\n",
            "      Normal       0.67      1.00      0.80        41\n",
            "Tuberculosis       0.66      0.57      0.61        37\n",
            "\n",
            "    accuracy                           0.67       113\n",
            "   macro avg       0.68      0.66      0.64       113\n",
            "weighted avg       0.68      0.67      0.65       113\n",
            "\n"
          ]
        }
      ],
      "source": [
        "pred_Dense2 = model_Dense2.predict(x_test_Dense2)\n",
        "    \n",
        "print(classification_report(y_test_Dense2.argmax(axis=1),\t                #แสดง report ค่า acc, recall, ...\n",
        "                                    pred_Dense2.argmax(axis=1),  \n",
        "                                    target_names=le_Dense.classes_))"
      ]
    },
    {
      "cell_type": "code",
      "execution_count": null,
      "metadata": {
        "colab": {
          "base_uri": "https://localhost:8080/"
        },
        "id": "lMyINGucLhhe",
        "outputId": "4fb9d37f-18e1-4fed-9214-babad1edda31"
      },
      "outputs": [
        {
          "name": "stdout",
          "output_type": "stream",
          "text": [
            "Fold score (accuracy): 0.672566371681416\n"
          ]
        }
      ],
      "source": [
        "score = metrics.accuracy_score(y_test_Dense2.argmax(axis=1),\t        #ค่า acc\n",
        "                                             pred_Dense2.argmax(axis=1) )\n",
        "print(f\"Fold score (accuracy): {score}\")"
      ]
    },
    {
      "cell_type": "code",
      "execution_count": null,
      "metadata": {
        "id": "UwnxuryTLhhe"
      },
      "outputs": [],
      "source": [
        "pred = np.round(pred_Dense2, 3)"
      ]
    }
  ],
  "metadata": {
    "colab": {
      "name": "TrainTest_400.ipynb",
      "provenance": [],
      "authorship_tag": "ABX9TyOT+A4TYXYSoidXrci3YCBj",
      "include_colab_link": true
    },
    "kernelspec": {
      "display_name": "Python 3",
      "name": "python3"
    },
    "language_info": {
      "name": "python"
    }
  },
  "nbformat": 4,
  "nbformat_minor": 0
}