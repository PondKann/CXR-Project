{
  "nbformat": 4,
  "nbformat_minor": 0,
  "metadata": {
    "colab": {
      "name": "DenseNet201_Finetuning_BS.ipynb",
      "provenance": [],
      "mount_file_id": "https://github.com/PondKann/CXR-Project/blob/main/DenseNet201_Finetuning_BS.ipynb",
      "authorship_tag": "ABX9TyP6DoWNbPL3Sqb77g4aRX3D",
      "include_colab_link": true
    },
    "kernelspec": {
      "name": "python3",
      "display_name": "Python 3"
    },
    "language_info": {
      "name": "python"
    }
  },
  "cells": [
    {
      "cell_type": "markdown",
      "metadata": {
        "id": "view-in-github",
        "colab_type": "text"
      },
      "source": [
        "<a href=\"https://colab.research.google.com/github/PondKann/CXR-Project/blob/main/DenseNet201_Finetuning_BS.ipynb\" target=\"_parent\"><img src=\"https://colab.research.google.com/assets/colab-badge.svg\" alt=\"Open In Colab\"/></a>"
      ]
    },
    {
      "cell_type": "markdown",
      "source": [
        "###### import"
      ],
      "metadata": {
        "id": "Kpnf_sft9x4-"
      }
    },
    {
      "cell_type": "code",
      "metadata": {
        "id": "Psng6eJUdzUG"
      },
      "source": [
        "import os\n",
        "import tensorflow as tf\n",
        "import matplotlib.pyplot as plt\n",
        "%matplotlib inline\n",
        "from tensorflow.keras.preprocessing.image import ImageDataGenerator\n",
        "import cv2\n",
        "import numpy as np\n",
        "import pandas as pd\n",
        "from torchsummary import summary\n",
        "from skimage.io import imread, imsave\n",
        "from tqdm import tqdm\n",
        "\n",
        "from sklearn.model_selection import train_test_split\n",
        "from sklearn.metrics import accuracy_score, confusion_matrix"
      ],
      "execution_count": 1,
      "outputs": []
    },
    {
      "cell_type": "code",
      "source": [
        "# set the matplotlib backend so figures can be saved in the background\n",
        "import matplotlib\n",
        "matplotlib.use(\"Agg\")\n",
        "\n",
        "from sklearn.preprocessing import LabelEncoder\n",
        "from sklearn.metrics import classification_report\n",
        "from tensorflow.keras.optimizers import SGD\n",
        "from tensorflow.keras.utils import to_categorical\n",
        "from imutils import paths\n",
        "import argparse\n",
        "\n",
        "from sklearn.model_selection import KFold\n",
        "from sklearn import metrics\n",
        "from scipy.stats import zscore"
      ],
      "metadata": {
        "id": "6f-PDKiLl2iC"
      },
      "execution_count": 2,
      "outputs": []
    },
    {
      "cell_type": "code",
      "source": [
        "import pickle\n",
        "import joblib"
      ],
      "metadata": {
        "id": "KywT8U_h4Bmb"
      },
      "execution_count": 3,
      "outputs": []
    },
    {
      "cell_type": "markdown",
      "source": [
        "######Load data 1"
      ],
      "metadata": {
        "id": "Z1e52UqdwPp8"
      }
    },
    {
      "cell_type": "code",
      "metadata": {
        "colab": {
          "base_uri": "https://localhost:8080/"
        },
        "id": "DlcukkP7fnhB",
        "outputId": "564f5768-5d5a-4e1b-80f5-534b3377db18"
      },
      "source": [
        "from google.colab import drive\n",
        "drive.mount('/content/drive')"
      ],
      "execution_count": 16,
      "outputs": [
        {
          "output_type": "stream",
          "name": "stdout",
          "text": [
            "Drive already mounted at /content/drive; to attempt to forcibly remount, call drive.mount(\"/content/drive\", force_remount=True).\n"
          ]
        }
      ]
    },
    {
      "cell_type": "code",
      "metadata": {
        "id": "0w8suy5ofqx_"
      },
      "source": [
        "data_dir = '/content/drive/My Drive/Senior Project/CXR Image3class'"
      ],
      "execution_count": 14,
      "outputs": []
    },
    {
      "cell_type": "markdown",
      "source": [
        "train 3 class"
      ],
      "metadata": {
        "id": "xhqPQxA42jeC"
      }
    },
    {
      "cell_type": "code",
      "source": [
        "Normal151_dir = os.path.join(data_dir,'Normal151')\n",
        "TB150_dir = os.path.join(data_dir,'TB150')\n",
        "CA150_dir = os.path.join(data_dir,'CA150')\n",
        "\n",
        "All_3class_dir = os.path.join(data_dir,'All_3class')"
      ],
      "metadata": {
        "id": "-Jrg5mt_RvJT"
      },
      "execution_count": 15,
      "outputs": []
    },
    {
      "cell_type": "code",
      "source": [
        ""
      ],
      "metadata": {
        "id": "oYMXSvICALfG"
      },
      "execution_count": 15,
      "outputs": []
    },
    {
      "cell_type": "markdown",
      "source": [
        "######Load data 2"
      ],
      "metadata": {
        "id": "udl0zY8hAONG"
      }
    },
    {
      "cell_type": "code",
      "metadata": {
        "colab": {
          "base_uri": "https://localhost:8080/"
        },
        "outputId": "6b10a39b-2f00-45af-cc02-3d0573112aab",
        "id": "CZD0IvKyAONH"
      },
      "source": [
        "from google.colab import drive\n",
        "drive.mount('/content/drive')"
      ],
      "execution_count": 28,
      "outputs": [
        {
          "output_type": "stream",
          "name": "stdout",
          "text": [
            "Drive already mounted at /content/drive; to attempt to forcibly remount, call drive.mount(\"/content/drive\", force_remount=True).\n"
          ]
        }
      ]
    },
    {
      "cell_type": "code",
      "metadata": {
        "id": "VTByVBBEAONI"
      },
      "source": [
        "data_dir = '/content/drive/My Drive/Senior Project/CXR Image3class'"
      ],
      "execution_count": 26,
      "outputs": []
    },
    {
      "cell_type": "markdown",
      "source": [
        "train 3 class"
      ],
      "metadata": {
        "id": "ySK4zn_OAONI"
      }
    },
    {
      "cell_type": "code",
      "source": [
        "Normal151_dir = os.path.join(data_dir,'Normal151')\n",
        "TB150_dir = os.path.join(data_dir,'TB150')\n",
        "CA150_dir = os.path.join(data_dir,'CA150')\n",
        "\n",
        "All_3class_dir = os.path.join(data_dir,'All_3class')"
      ],
      "metadata": {
        "id": "yWVr9yKtAONI"
      },
      "execution_count": 27,
      "outputs": []
    },
    {
      "cell_type": "code",
      "source": [
        "os.listdir(Normal151_dir)"
      ],
      "metadata": {
        "id": "28p9UMtXzIJF"
      },
      "execution_count": null,
      "outputs": []
    },
    {
      "cell_type": "markdown",
      "source": [
        "#### train 3 class  --- สร้างตารางเก็บ ชื่อภาพ และชื่อคลาส\n",
        "ข้อมูลใน All_3class_dir รวมภาพทั้ง 3 คลาส รวม 451 ภาพ TB150, Normal151 และ CA150 (CA คือ lungcancer)"
      ],
      "metadata": {
        "id": "YFVxlpQZf5pU"
      }
    },
    {
      "cell_type": "code",
      "source": [
        "Normal151_dir = os.path.join(data_dir,'Normal151')\n",
        "TB150_dir = os.path.join(data_dir,'TB150')\n",
        "CA150_dir = os.path.join(data_dir,'CA150')\n",
        "\n",
        "All_3class_dir = os.path.join(data_dir,'All_3class')"
      ],
      "metadata": {
        "id": "8BHyN8YKpwx9"
      },
      "execution_count": 7,
      "outputs": []
    },
    {
      "cell_type": "code",
      "source": [
        "normal = []\n",
        "for i in range(len(os.listdir(Normal151_dir))):\n",
        "    img = os.listdir(Normal151_dir)[i]\n",
        "    normal.append(img)\n",
        "    \n",
        "tnormal = pd.DataFrame({'ImageName':[normal][0],\n",
        "                                       'NameType': \"Normal\" ,\n",
        "                                       'NumberType': 0                      })"
      ],
      "metadata": {
        "id": "mT0QF8IgrfVm"
      },
      "execution_count": 8,
      "outputs": []
    },
    {
      "cell_type": "code",
      "source": [
        "tuberculosis = []\n",
        "for i in range(len(os.listdir(TB150_dir))):\n",
        "    img = os.listdir(TB150_dir)[i]\n",
        "    tuberculosis.append(img)\n",
        "\n",
        "ttuberculosis = pd.DataFrame({'ImageName':[tuberculosis][0],\n",
        "                                       'NameType': \"Tuberculosis\" ,\n",
        "                                       'NumberType': 1                        })"
      ],
      "metadata": {
        "id": "VtNPg0jwf5pW"
      },
      "execution_count": 9,
      "outputs": []
    },
    {
      "cell_type": "code",
      "source": [
        "lungcancer = []\n",
        "for i in range(len(os.listdir(CA150_dir))):\n",
        "    img = os.listdir(CA150_dir)[i]\n",
        "    lungcancer.append(img)\n",
        "\n",
        "tlungcancer = pd.DataFrame({'ImageName':[lungcancer][0],\n",
        "                                       'NameType': \"Lungcancer\" ,\n",
        "                                       'NumberType': 2                        })"
      ],
      "metadata": {
        "id": "X5pyCUl5mJGV"
      },
      "execution_count": 10,
      "outputs": []
    },
    {
      "cell_type": "code",
      "source": [
        "data_train3 = pd.concat([tnormal, ttuberculosis, tlungcancer])\n",
        "data_train3[-3:]"
      ],
      "metadata": {
        "id": "bgArCw5jnwg2",
        "outputId": "96a069c2-d72f-4759-ef54-ba10dc987c34",
        "colab": {
          "base_uri": "https://localhost:8080/",
          "height": 143
        }
      },
      "execution_count": 11,
      "outputs": [
        {
          "output_type": "execute_result",
          "data": {
            "text/html": [
              "\n",
              "  <div id=\"df-30592d4f-b3df-4e6d-bb4b-7e15ec49e2a9\">\n",
              "    <div class=\"colab-df-container\">\n",
              "      <div>\n",
              "<style scoped>\n",
              "    .dataframe tbody tr th:only-of-type {\n",
              "        vertical-align: middle;\n",
              "    }\n",
              "\n",
              "    .dataframe tbody tr th {\n",
              "        vertical-align: top;\n",
              "    }\n",
              "\n",
              "    .dataframe thead th {\n",
              "        text-align: right;\n",
              "    }\n",
              "</style>\n",
              "<table border=\"1\" class=\"dataframe\">\n",
              "  <thead>\n",
              "    <tr style=\"text-align: right;\">\n",
              "      <th></th>\n",
              "      <th>ImageName</th>\n",
              "      <th>NameType</th>\n",
              "      <th>NumberType</th>\n",
              "    </tr>\n",
              "  </thead>\n",
              "  <tbody>\n",
              "    <tr>\n",
              "      <th>147</th>\n",
              "      <td>ca26.jpg</td>\n",
              "      <td>Lungcancer</td>\n",
              "      <td>2</td>\n",
              "    </tr>\n",
              "    <tr>\n",
              "      <th>148</th>\n",
              "      <td>ca7.jpg</td>\n",
              "      <td>Lungcancer</td>\n",
              "      <td>2</td>\n",
              "    </tr>\n",
              "    <tr>\n",
              "      <th>149</th>\n",
              "      <td>ca8.jpg</td>\n",
              "      <td>Lungcancer</td>\n",
              "      <td>2</td>\n",
              "    </tr>\n",
              "  </tbody>\n",
              "</table>\n",
              "</div>\n",
              "      <button class=\"colab-df-convert\" onclick=\"convertToInteractive('df-30592d4f-b3df-4e6d-bb4b-7e15ec49e2a9')\"\n",
              "              title=\"Convert this dataframe to an interactive table.\"\n",
              "              style=\"display:none;\">\n",
              "        \n",
              "  <svg xmlns=\"http://www.w3.org/2000/svg\" height=\"24px\"viewBox=\"0 0 24 24\"\n",
              "       width=\"24px\">\n",
              "    <path d=\"M0 0h24v24H0V0z\" fill=\"none\"/>\n",
              "    <path d=\"M18.56 5.44l.94 2.06.94-2.06 2.06-.94-2.06-.94-.94-2.06-.94 2.06-2.06.94zm-11 1L8.5 8.5l.94-2.06 2.06-.94-2.06-.94L8.5 2.5l-.94 2.06-2.06.94zm10 10l.94 2.06.94-2.06 2.06-.94-2.06-.94-.94-2.06-.94 2.06-2.06.94z\"/><path d=\"M17.41 7.96l-1.37-1.37c-.4-.4-.92-.59-1.43-.59-.52 0-1.04.2-1.43.59L10.3 9.45l-7.72 7.72c-.78.78-.78 2.05 0 2.83L4 21.41c.39.39.9.59 1.41.59.51 0 1.02-.2 1.41-.59l7.78-7.78 2.81-2.81c.8-.78.8-2.07 0-2.86zM5.41 20L4 18.59l7.72-7.72 1.47 1.35L5.41 20z\"/>\n",
              "  </svg>\n",
              "      </button>\n",
              "      \n",
              "  <style>\n",
              "    .colab-df-container {\n",
              "      display:flex;\n",
              "      flex-wrap:wrap;\n",
              "      gap: 12px;\n",
              "    }\n",
              "\n",
              "    .colab-df-convert {\n",
              "      background-color: #E8F0FE;\n",
              "      border: none;\n",
              "      border-radius: 50%;\n",
              "      cursor: pointer;\n",
              "      display: none;\n",
              "      fill: #1967D2;\n",
              "      height: 32px;\n",
              "      padding: 0 0 0 0;\n",
              "      width: 32px;\n",
              "    }\n",
              "\n",
              "    .colab-df-convert:hover {\n",
              "      background-color: #E2EBFA;\n",
              "      box-shadow: 0px 1px 2px rgba(60, 64, 67, 0.3), 0px 1px 3px 1px rgba(60, 64, 67, 0.15);\n",
              "      fill: #174EA6;\n",
              "    }\n",
              "\n",
              "    [theme=dark] .colab-df-convert {\n",
              "      background-color: #3B4455;\n",
              "      fill: #D2E3FC;\n",
              "    }\n",
              "\n",
              "    [theme=dark] .colab-df-convert:hover {\n",
              "      background-color: #434B5C;\n",
              "      box-shadow: 0px 1px 3px 1px rgba(0, 0, 0, 0.15);\n",
              "      filter: drop-shadow(0px 1px 2px rgba(0, 0, 0, 0.3));\n",
              "      fill: #FFFFFF;\n",
              "    }\n",
              "  </style>\n",
              "\n",
              "      <script>\n",
              "        const buttonEl =\n",
              "          document.querySelector('#df-30592d4f-b3df-4e6d-bb4b-7e15ec49e2a9 button.colab-df-convert');\n",
              "        buttonEl.style.display =\n",
              "          google.colab.kernel.accessAllowed ? 'block' : 'none';\n",
              "\n",
              "        async function convertToInteractive(key) {\n",
              "          const element = document.querySelector('#df-30592d4f-b3df-4e6d-bb4b-7e15ec49e2a9');\n",
              "          const dataTable =\n",
              "            await google.colab.kernel.invokeFunction('convertToInteractive',\n",
              "                                                     [key], {});\n",
              "          if (!dataTable) return;\n",
              "\n",
              "          const docLinkHtml = 'Like what you see? Visit the ' +\n",
              "            '<a target=\"_blank\" href=https://colab.research.google.com/notebooks/data_table.ipynb>data table notebook</a>'\n",
              "            + ' to learn more about interactive tables.';\n",
              "          element.innerHTML = '';\n",
              "          dataTable['output_type'] = 'display_data';\n",
              "          await google.colab.output.renderOutput(dataTable, element);\n",
              "          const docLink = document.createElement('div');\n",
              "          docLink.innerHTML = docLinkHtml;\n",
              "          element.appendChild(docLink);\n",
              "        }\n",
              "      </script>\n",
              "    </div>\n",
              "  </div>\n",
              "  "
            ],
            "text/plain": [
              "    ImageName    NameType  NumberType\n",
              "147  ca26.jpg  Lungcancer           2\n",
              "148   ca7.jpg  Lungcancer           2\n",
              "149   ca8.jpg  Lungcancer           2"
            ]
          },
          "metadata": {},
          "execution_count": 11
        }
      ]
    },
    {
      "cell_type": "markdown",
      "source": [
        "####  test 3 class จากเน็ต"
      ],
      "metadata": {
        "id": "3Fi053VB2o6Y"
      }
    },
    {
      "cell_type": "code",
      "source": [
        "TB700_dir = os.path.join(data_dir,'test_model/Tuberculosis700')\n",
        "Normal94_dir = os.path.join(data_dir,'test_model/NORMAL94')\n",
        "CA150_dir = os.path.join(data_dir,'CA150')                  #อันเดิมที่ใช้เทรน\n",
        "\n",
        "AllTest_2class = os.path.join(data_dir,'test_model/AllTest_2class')"
      ],
      "metadata": {
        "id": "DoGUhtkpCph6"
      },
      "execution_count": null,
      "outputs": []
    },
    {
      "cell_type": "code",
      "source": [
        "#สำหรับ test model\n",
        "normal = []\n",
        "for i in range(len(os.listdir(Normal94_dir))):\n",
        "    img = os.listdir(Normal94_dir)[i]\n",
        "    normal.append(img)\n",
        "    \n",
        "tnormal94 = pd.DataFrame({'ImageName':[normal][0],\n",
        "                                       'NameType': \"Normal\" ,\n",
        "                                       'NumberType': 0                      })"
      ],
      "metadata": {
        "id": "nWuAUibuR4VW"
      },
      "execution_count": null,
      "outputs": []
    },
    {
      "cell_type": "code",
      "source": [
        "#สำหรับ test model\n",
        "tb700 = []\n",
        "for i in range(len(os.listdir(TB700_dir))):\n",
        "    img = os.listdir(TB700_dir)[i]\n",
        "    tb700.append(img)\n",
        "\n",
        "ttb700 = pd.DataFrame({'ImageName':[tb700][0],\n",
        "                                       'NameType': \"Tuberculosis\" ,\n",
        "                                       'NumberType': 1                        })"
      ],
      "metadata": {
        "id": "Bu1n-Ib48qFf"
      },
      "execution_count": null,
      "outputs": []
    },
    {
      "cell_type": "code",
      "source": [
        "#สำหรับ test model ข้อม฿ลเดิม\n",
        "lungcancer = []\n",
        "for i in range(len(os.listdir(CA150_dir))):\n",
        "    img = os.listdir(CA150_dir)[i]\n",
        "    lungcancer.append(img)\n",
        "\n",
        "tlungcancer = pd.DataFrame({'ImageName':[lungcancer][0],\n",
        "                                       'NameType': \"Lungcancer\" ,\n",
        "                                       'NumberType': 2                        })"
      ],
      "metadata": {
        "id": "clUmEvEx2IKk"
      },
      "execution_count": null,
      "outputs": []
    },
    {
      "cell_type": "code",
      "source": [
        "data_test2 = pd.concat([tnormal94[:30], ttb700[:30], tlungcancer[:10]])"
      ],
      "metadata": {
        "id": "kePRXLwU195n"
      },
      "execution_count": null,
      "outputs": []
    },
    {
      "cell_type": "code",
      "source": [
        "test_NorTB = []\n",
        "for ImageName in tqdm(data_test2['ImageName']):               # รัน ชื่อรูป ในไฟล์ data_test2\n",
        "    image_path = AllTest_2class +'/' + ImageName                          # ดึงรูปในโฟล์เดอร์มาทีละรูป\n",
        "    img = cv2.imread(image_path)                                            # อ่านรูป\n",
        "    img = cv2.resize(img, (299, 299))\n",
        "    test_NorTB.append(img)"
      ],
      "metadata": {
        "colab": {
          "base_uri": "https://localhost:8080/"
        },
        "id": "DRlBEE0T14sz",
        "outputId": "d96bdb9f-750b-498a-d55d-986c58ff491d"
      },
      "execution_count": null,
      "outputs": [
        {
          "output_type": "stream",
          "name": "stderr",
          "text": [
            "100%|██████████| 70/70 [00:19<00:00,  3.60it/s]\n"
          ]
        }
      ]
    },
    {
      "cell_type": "code",
      "source": [
        "data_test = np.array(test_NorTB, dtype=\"float32\") / 255.0\n",
        "\n",
        "labels_test = np.array(data_test2[['NameType']] )        \n",
        "labels_test.shape = (len(labels_test),) \n",
        "\n",
        "le3_Incep = LabelEncoder()                                                                     \n",
        "labels_test = le3_Incep.fit_transform(labels_test)                                         #จะแปลงชื่อ class เป็นตัวเลข 1, 2, 0 \n",
        "\n",
        "labels_test = to_categorical(labels_test, num_classes=3)                   #shape (180, 3) มีค่าเป็น  [0., 1., 0.]  กับ   [0., 0., 1.] กับ  [1., 0., 0.]"
      ],
      "metadata": {
        "id": "hlnpYC_S72ee"
      },
      "execution_count": null,
      "outputs": []
    },
    {
      "cell_type": "code",
      "source": [
        ""
      ],
      "metadata": {
        "id": "EjDLK8iNqNiK"
      },
      "execution_count": null,
      "outputs": []
    },
    {
      "cell_type": "markdown",
      "source": [
        "# Fine tuning 0-600"
      ],
      "metadata": {
        "id": "GdmFK35yTsMC"
      }
    },
    {
      "cell_type": "markdown",
      "source": [
        "## 8) K-fold  -- DenseNet201   \n",
        "\n",
        "### -->ACC = 0.70\n",
        "### -->เวลา 5384.864 วินาที\n",
        "\n",
        "*   BS = 1\n",
        "*   fix weight & bias in layer 0-600\n",
        "*   activation=\"softmax\"\n",
        "*   learning_rate=0.0001\n",
        "*   epoch 30"
      ],
      "metadata": {
        "id": "gLNZ9hrXIq8R"
      }
    },
    {
      "cell_type": "code",
      "source": [
        "train_img_Dense = []\n",
        "for ImageName in tqdm(data_train3['ImageName']):               # รัน ชื่อรูป ในไฟล์ data_test3\n",
        "    image_path = All_3class_dir +'/' + ImageName                   # ดึงรูปในโฟล์เดอร์มาทีละรูป\n",
        "    img = cv2.imread(image_path)                                            # อ่านรูป\n",
        "    img = cv2.resize(img, (224, 224))                                       #ขนาดของ input\n",
        "    train_img_Dense.append(img)\n",
        "\n",
        "data_Dense = np.array(train_img_Dense, dtype=\"float32\") / 255.0"
      ],
      "metadata": {
        "outputId": "68495873-6ea7-425f-f816-87a5265134db",
        "colab": {
          "base_uri": "https://localhost:8080/"
        },
        "id": "UedsHtx-Iq8h"
      },
      "execution_count": null,
      "outputs": [
        {
          "output_type": "stream",
          "name": "stderr",
          "text": [
            "100%|██████████| 451/451 [00:04<00:00, 91.90it/s] \n"
          ]
        }
      ]
    },
    {
      "cell_type": "code",
      "source": [
        "labels_Dense = np.array(data_train3[['NameType']] )        \n",
        "labels_Dense.shape = (len(labels_Dense),) \n",
        "\n",
        "le_Dense = LabelEncoder()                                                                     \n",
        "labels_Dense = le_Dense.fit_transform(labels_Dense)                                         #จะแปลงชื่อ class เป็นตัวเลข 1, 2, 0 \n",
        "\n",
        "labels_Dense = to_categorical(labels_Dense, num_classes=3)                   #shape (180, 3) มีค่าเป็น  [0., 1., 0.]  กับ   [0., 0., 1.] กับ  [1., 0., 0.]"
      ],
      "metadata": {
        "id": "EZGx1HgCIq8i"
      },
      "execution_count": null,
      "outputs": []
    },
    {
      "cell_type": "code",
      "source": [
        "INIT_LR = 1e-1\n",
        "BS = 1\n",
        "EPOCHS = 50\n",
        "\n",
        "aug8 = ImageDataGenerator(\n",
        "\t\trotation_range=15,\t\t\t\t\t\t#องศาการหมุน\n",
        "\t\twidth_shift_range=0.1,\n",
        "\t\theight_shift_range=0.1,\n",
        "\t\tshear_range=0.15,\n",
        "\t\thorizontal_flip=True,\n",
        "\t\tfill_mode=\"nearest\")\n",
        "\n",
        "callback = tf.keras.callbacks.EarlyStopping(\n",
        "                monitor=\"val_accuracy\",\n",
        "                patience=3,\n",
        "                mode=\"max\" )"
      ],
      "metadata": {
        "id": "WcLZiIkSIq8k"
      },
      "execution_count": null,
      "outputs": []
    },
    {
      "cell_type": "code",
      "source": [
        "base_model_Dense = tf.keras.applications.DenseNet201(input_shape=(224, 224, 3), include_top=False, weights=\"imagenet\")\n",
        "len(base_model_Dense.layers)"
      ],
      "metadata": {
        "colab": {
          "base_uri": "https://localhost:8080/"
        },
        "outputId": "2db96e23-4b87-49e5-f2e5-8570f440f1ad",
        "id": "NoVrlmK9Iq8l"
      },
      "execution_count": null,
      "outputs": [
        {
          "output_type": "execute_result",
          "data": {
            "text/plain": [
              "707"
            ]
          },
          "metadata": {},
          "execution_count": 36
        }
      ]
    },
    {
      "cell_type": "code",
      "source": [
        "base_model_Dense.trainable = True\n",
        "for layer in base_model_Dense.layers[:600]:    #fix w & bias in layer 0-600\n",
        "    layer.trainable = False\n",
        "\n",
        "#Add custom head\n",
        "average_pooling_layer = tf.keras.layers.GlobalAveragePooling2D()(base_model_Dense.output)\n",
        "prediction_layer = tf.keras.layers.Dense(units=3, activation=\"softmax\")(average_pooling_layer)   # unit 3\n",
        "model_Dense8 = tf.keras.models.Model(inputs=base_model_Dense.input, outputs=prediction_layer)\n",
        "\n",
        "model_Dense8.compile(optimizer=tf.keras.optimizers.RMSprop(learning_rate=0.0001), loss=\"binary_crossentropy\", metrics=[\"accuracy\"])"
      ],
      "metadata": {
        "id": "QUs4_szdIq8m"
      },
      "execution_count": null,
      "outputs": []
    },
    {
      "cell_type": "code",
      "source": [
        "kf_Dense8 = KFold(5, shuffle=True, random_state=40) \n",
        "\n",
        "oos_y8 = []\n",
        "oos_pred8 = []\n",
        "fold = 0\n",
        "\n",
        "for train, test in kf_Dense8.split(data_Dense):\n",
        "    fold+=1\n",
        "    print(f\"Fold #{fold}\")\n",
        "        \n",
        "    x_train_Dense8 = data_Dense[train]\n",
        "    y_train_Dense8 = labels_Dense[train]\n",
        "    x_test_Dense8 = data_Dense[test]\n",
        "    y_test_Dense8 = labels_Dense[test]\n",
        "\n",
        "    H_Dense8 = model_Dense8.fit( x=aug8.flow(x_train_Dense8, y_train_Dense8, batch_size=BS),\n",
        "\t                                            validation_data=(x_test_Dense8, y_test_Dense8),\n",
        "\t                                            steps_per_epoch=len(x_train_Dense8) // BS,\n",
        "\t                                            epochs=30,  callbacks = [callback])\n",
        "    \n",
        "    pred_Dense8 = model_Dense8.predict(x_test_Dense8)\n",
        "    \n",
        "    oos_y8.append(y_test_Dense8)\n",
        "    oos_pred8.append(pred_Dense8)  \n",
        "    print(classification_report(y_test_Dense8.argmax(axis=1),\t                #แสดง report ค่า acc, recall, ...\n",
        "                                        pred_Dense8.argmax(axis=1),  \n",
        "                                        target_names=le_Dense.classes_))\n",
        "\n",
        "#   score = metrics.accuracy_score(y_test3_Incep.argmax(axis=1),\t        #ค่า acc\n",
        "#                                               pred3_Incep.argmax(axis=1)\n",
        "#    print(f\"Fold score (accuracy): {score}\")\n",
        "\n",
        "#    print(confusion_matrix(testY3_Incep.argmax(axis=1),\t                       #แสดง confusion_matrix\n",
        "#                        pred3_Incep.argmax(axis=1) ) )"
      ],
      "metadata": {
        "id": "Ny6xbdIeIq8m",
        "colab": {
          "base_uri": "https://localhost:8080/"
        },
        "outputId": "bf8ebb7d-0770-4c5c-842b-88a429cc072c"
      },
      "execution_count": null,
      "outputs": [
        {
          "output_type": "stream",
          "name": "stdout",
          "text": [
            "Fold #1\n",
            "Epoch 1/30\n",
            "360/360 [==============================] - 150s 374ms/step - loss: 0.6440 - accuracy: 0.3694 - val_loss: 0.5706 - val_accuracy: 0.5934\n",
            "Epoch 2/30\n",
            "360/360 [==============================] - 143s 396ms/step - loss: 0.5860 - accuracy: 0.5083 - val_loss: 0.5384 - val_accuracy: 0.5385\n",
            "Epoch 3/30\n",
            "360/360 [==============================] - 145s 403ms/step - loss: 0.5471 - accuracy: 0.6139 - val_loss: 0.5017 - val_accuracy: 0.6593\n",
            "Epoch 4/30\n",
            "360/360 [==============================] - 146s 406ms/step - loss: 0.5031 - accuracy: 0.6611 - val_loss: 0.5202 - val_accuracy: 0.5714\n",
            "Epoch 5/30\n",
            "360/360 [==============================] - 145s 403ms/step - loss: 0.4556 - accuracy: 0.7139 - val_loss: 0.4772 - val_accuracy: 0.6484\n",
            "Epoch 6/30\n",
            "360/360 [==============================] - 147s 409ms/step - loss: 0.4224 - accuracy: 0.7000 - val_loss: 0.4539 - val_accuracy: 0.7253\n",
            "Epoch 7/30\n",
            "360/360 [==============================] - 145s 403ms/step - loss: 0.3967 - accuracy: 0.7722 - val_loss: 0.4817 - val_accuracy: 0.6484\n",
            "Epoch 8/30\n",
            "360/360 [==============================] - 145s 403ms/step - loss: 0.3740 - accuracy: 0.7639 - val_loss: 0.5560 - val_accuracy: 0.4945\n",
            "Epoch 9/30\n",
            "360/360 [==============================] - 144s 400ms/step - loss: 0.3497 - accuracy: 0.8000 - val_loss: 0.5879 - val_accuracy: 0.4396\n",
            "              precision    recall  f1-score   support\n",
            "\n",
            "  Lungcancer       0.59      0.36      0.44        28\n",
            "      Normal       1.00      0.21      0.35        33\n",
            "Tuberculosis       0.34      0.77      0.47        30\n",
            "\n",
            "    accuracy                           0.44        91\n",
            "   macro avg       0.64      0.45      0.42        91\n",
            "weighted avg       0.66      0.44      0.42        91\n",
            "\n",
            "Fold #2\n",
            "Epoch 1/30\n",
            "361/361 [==============================] - 140s 388ms/step - loss: 0.3407 - accuracy: 0.8089 - val_loss: 0.3531 - val_accuracy: 0.7889\n",
            "Epoch 2/30\n",
            "361/361 [==============================] - 142s 393ms/step - loss: 0.3122 - accuracy: 0.8199 - val_loss: 0.4943 - val_accuracy: 0.6778\n",
            "Epoch 3/30\n",
            "361/361 [==============================] - 145s 402ms/step - loss: 0.3034 - accuracy: 0.8421 - val_loss: 0.3784 - val_accuracy: 0.7889\n",
            "Epoch 4/30\n",
            "361/361 [==============================] - 147s 407ms/step - loss: 0.2772 - accuracy: 0.8615 - val_loss: 0.3680 - val_accuracy: 0.7889\n",
            "              precision    recall  f1-score   support\n",
            "\n",
            "  Lungcancer       0.89      0.76      0.82        33\n",
            "      Normal       1.00      0.65      0.79        26\n",
            "Tuberculosis       0.64      0.94      0.76        31\n",
            "\n",
            "    accuracy                           0.79        90\n",
            "   macro avg       0.85      0.78      0.79        90\n",
            "weighted avg       0.84      0.79      0.79        90\n",
            "\n",
            "Fold #3\n",
            "Epoch 1/30\n",
            "361/361 [==============================] - 147s 408ms/step - loss: 0.2575 - accuracy: 0.8781 - val_loss: 0.4320 - val_accuracy: 0.6778\n",
            "Epoch 2/30\n",
            "361/361 [==============================] - 144s 399ms/step - loss: 0.2456 - accuracy: 0.8781 - val_loss: 0.4418 - val_accuracy: 0.6778\n",
            "Epoch 3/30\n",
            "361/361 [==============================] - 143s 397ms/step - loss: 0.2202 - accuracy: 0.8947 - val_loss: 0.3907 - val_accuracy: 0.7556\n",
            "Epoch 4/30\n",
            "361/361 [==============================] - 144s 399ms/step - loss: 0.2187 - accuracy: 0.9030 - val_loss: 0.4277 - val_accuracy: 0.7111\n",
            "Epoch 5/30\n",
            "361/361 [==============================] - 152s 422ms/step - loss: 0.1849 - accuracy: 0.9280 - val_loss: 0.3767 - val_accuracy: 0.7556\n",
            "Epoch 6/30\n",
            "361/361 [==============================] - 153s 423ms/step - loss: 0.1697 - accuracy: 0.9307 - val_loss: 0.4193 - val_accuracy: 0.7444\n",
            "              precision    recall  f1-score   support\n",
            "\n",
            "  Lungcancer       0.76      0.76      0.76        29\n",
            "      Normal       1.00      0.70      0.82        33\n",
            "Tuberculosis       0.58      0.79      0.67        28\n",
            "\n",
            "    accuracy                           0.74        90\n",
            "   macro avg       0.78      0.75      0.75        90\n",
            "weighted avg       0.79      0.74      0.75        90\n",
            "\n",
            "Fold #4\n",
            "Epoch 1/30\n",
            "361/361 [==============================] - 148s 410ms/step - loss: 0.1892 - accuracy: 0.9086 - val_loss: 0.2794 - val_accuracy: 0.8222\n",
            "Epoch 2/30\n",
            "361/361 [==============================] - 151s 419ms/step - loss: 0.1778 - accuracy: 0.9197 - val_loss: 0.2762 - val_accuracy: 0.8444\n",
            "Epoch 3/30\n",
            "361/361 [==============================] - 148s 409ms/step - loss: 0.1687 - accuracy: 0.9197 - val_loss: 0.3056 - val_accuracy: 0.8111\n",
            "Epoch 4/30\n",
            "361/361 [==============================] - 149s 412ms/step - loss: 0.1392 - accuracy: 0.9391 - val_loss: 0.4680 - val_accuracy: 0.6444\n",
            "Epoch 5/30\n",
            "361/361 [==============================] - 152s 420ms/step - loss: 0.1254 - accuracy: 0.9474 - val_loss: 0.3516 - val_accuracy: 0.7333\n",
            "              precision    recall  f1-score   support\n",
            "\n",
            "  Lungcancer       1.00      0.60      0.75        30\n",
            "      Normal       1.00      0.61      0.76        31\n",
            "Tuberculosis       0.55      1.00      0.71        29\n",
            "\n",
            "    accuracy                           0.73        90\n",
            "   macro avg       0.85      0.74      0.74        90\n",
            "weighted avg       0.85      0.73      0.74        90\n",
            "\n",
            "Fold #5\n",
            "Epoch 1/30\n",
            "361/361 [==============================] - 142s 393ms/step - loss: 0.1184 - accuracy: 0.9474 - val_loss: 0.2730 - val_accuracy: 0.8444\n",
            "Epoch 2/30\n",
            "361/361 [==============================] - 141s 391ms/step - loss: 0.1134 - accuracy: 0.9446 - val_loss: 0.2706 - val_accuracy: 0.8556\n",
            "Epoch 3/30\n",
            "361/361 [==============================] - 142s 394ms/step - loss: 0.1082 - accuracy: 0.9584 - val_loss: 0.2487 - val_accuracy: 0.8556\n",
            "Epoch 4/30\n",
            "361/361 [==============================] - 143s 396ms/step - loss: 0.0909 - accuracy: 0.9668 - val_loss: 0.2771 - val_accuracy: 0.8000\n",
            "Epoch 5/30\n",
            "361/361 [==============================] - 149s 414ms/step - loss: 0.0706 - accuracy: 0.9695 - val_loss: 0.2773 - val_accuracy: 0.7778\n",
            "              precision    recall  f1-score   support\n",
            "\n",
            "  Lungcancer       0.91      0.70      0.79        30\n",
            "      Normal       1.00      0.64      0.78        28\n",
            "Tuberculosis       0.63      0.97      0.77        32\n",
            "\n",
            "    accuracy                           0.78        90\n",
            "   macro avg       0.85      0.77      0.78        90\n",
            "weighted avg       0.84      0.78      0.78        90\n",
            "\n"
          ]
        }
      ]
    },
    {
      "cell_type": "code",
      "source": [
        "oos_y8 = np.concatenate(oos_y8)\n",
        "oos_pred8 = np.concatenate(oos_pred8)"
      ],
      "metadata": {
        "id": "yoJBMPrfIq8n"
      },
      "execution_count": null,
      "outputs": []
    },
    {
      "cell_type": "code",
      "source": [
        "score8 = metrics.accuracy_score(oos_y8.argmax(axis=1),\t        #ค่า acc\n",
        "                                             oos_pred8.argmax(axis=1) )\n",
        "print(f\"Fold score (accuracy): {score8}\")\n",
        "\n",
        "print(classification_report(oos_y8.argmax(axis=1),\t                #แสดง report ค่า acc, recall, ...\n",
        "                                        oos_pred8.argmax(axis=1),  \n",
        "                                        target_names=le_Dense.classes_))"
      ],
      "metadata": {
        "id": "5DAlQsGGIq8n",
        "colab": {
          "base_uri": "https://localhost:8080/"
        },
        "outputId": "2954a569-6c4c-4043-e250-e476ccdd91cf"
      },
      "execution_count": null,
      "outputs": [
        {
          "output_type": "stream",
          "name": "stdout",
          "text": [
            "Fold score (accuracy): 0.6962305986696231\n",
            "              precision    recall  f1-score   support\n",
            "\n",
            "  Lungcancer       0.83      0.64      0.72       150\n",
            "      Normal       1.00      0.56      0.71       151\n",
            "Tuberculosis       0.53      0.89      0.67       150\n",
            "\n",
            "    accuracy                           0.70       451\n",
            "   macro avg       0.79      0.70      0.70       451\n",
            "weighted avg       0.79      0.70      0.70       451\n",
            "\n"
          ]
        }
      ]
    },
    {
      "cell_type": "markdown",
      "source": [
        "## 8.1) K-fold  -- DenseNet201   \n",
        "\n",
        "### -->ACC = 0.74\n",
        "### -->เวลา 6021.688  วินาที\n",
        "\n",
        "*   BS = 1\n",
        "*   fix weight & bias in layer 0-600\n",
        "*   activation=\"sigmoid\"\n",
        "*   learning_rate=0.0001\n",
        "*   epoch 30"
      ],
      "metadata": {
        "id": "rZhDiNxJJQ8e"
      }
    },
    {
      "cell_type": "code",
      "source": [
        "train_img_Dense = []\n",
        "for ImageName in tqdm(data_train3['ImageName']):               # รัน ชื่อรูป ในไฟล์ data_test3\n",
        "    image_path = All_3class_dir +'/' + ImageName                   # ดึงรูปในโฟล์เดอร์มาทีละรูป\n",
        "    img = cv2.imread(image_path)                                            # อ่านรูป\n",
        "    img = cv2.resize(img, (224, 224))                                       #ขนาดของ input\n",
        "    train_img_Dense.append(img)\n",
        "\n",
        "data_Dense = np.array(train_img_Dense, dtype=\"float32\") / 255.0"
      ],
      "metadata": {
        "outputId": "6a5c6827-17a8-416c-d6a1-3d2f8c6d26d9",
        "colab": {
          "base_uri": "https://localhost:8080/"
        },
        "id": "CsJaziUsJQ8f"
      },
      "execution_count": null,
      "outputs": [
        {
          "output_type": "stream",
          "name": "stderr",
          "text": [
            "100%|██████████| 451/451 [00:35<00:00, 12.85it/s]\n"
          ]
        }
      ]
    },
    {
      "cell_type": "code",
      "source": [
        "labels_Dense = np.array(data_train3[['NameType']] )        \n",
        "labels_Dense.shape = (len(labels_Dense),) \n",
        "\n",
        "le_Dense = LabelEncoder()                                                                     \n",
        "labels_Dense = le_Dense.fit_transform(labels_Dense)                                         #จะแปลงชื่อ class เป็นตัวเลข 1, 2, 0 \n",
        "\n",
        "labels_Dense = to_categorical(labels_Dense, num_classes=3)                   #shape (180, 3) มีค่าเป็น  [0., 1., 0.]  กับ   [0., 0., 1.] กับ  [1., 0., 0.]"
      ],
      "metadata": {
        "id": "tADiyQFOJQ8h"
      },
      "execution_count": null,
      "outputs": []
    },
    {
      "cell_type": "code",
      "source": [
        "INIT_LR = 1e-1\n",
        "BS = 1\n",
        "EPOCHS = 50\n",
        "\n",
        "aug81 = ImageDataGenerator(\n",
        "\t\trotation_range=15,\t\t\t\t\t\t#องศาการหมุน\n",
        "\t\twidth_shift_range=0.1,\n",
        "\t\theight_shift_range=0.1,\n",
        "\t\tshear_range=0.15,\n",
        "\t\thorizontal_flip=True,\n",
        "\t\tfill_mode=\"nearest\")\n",
        "\n",
        "callback = tf.keras.callbacks.EarlyStopping(\n",
        "                monitor=\"val_accuracy\",\n",
        "                patience=3,\n",
        "                mode=\"max\" )"
      ],
      "metadata": {
        "id": "cMUMg0xvJQ8h"
      },
      "execution_count": null,
      "outputs": []
    },
    {
      "cell_type": "code",
      "source": [
        "base_model_Dense = tf.keras.applications.DenseNet201(input_shape=(224, 224, 3), include_top=False, weights=\"imagenet\")\n",
        "len(base_model_Dense.layers)"
      ],
      "metadata": {
        "colab": {
          "base_uri": "https://localhost:8080/"
        },
        "outputId": "efd09502-a0d9-467b-efbc-de166df8efda",
        "id": "dNQFfoHgJQ8i"
      },
      "execution_count": null,
      "outputs": [
        {
          "output_type": "stream",
          "name": "stdout",
          "text": [
            "Downloading data from https://storage.googleapis.com/tensorflow/keras-applications/densenet/densenet201_weights_tf_dim_ordering_tf_kernels_notop.h5\n",
            "74842112/74836368 [==============================] - 1s 0us/step\n",
            "74850304/74836368 [==============================] - 1s 0us/step\n"
          ]
        },
        {
          "output_type": "execute_result",
          "data": {
            "text/plain": [
              "707"
            ]
          },
          "metadata": {},
          "execution_count": 17
        }
      ]
    },
    {
      "cell_type": "code",
      "source": [
        "base_model_Dense.trainable = True\n",
        "for layer in base_model_Dense.layers[:600]:    #fix w & bias in layer 0-600\n",
        "    layer.trainable = False\n",
        "\n",
        "#Add custom head\n",
        "average_pooling_layer = tf.keras.layers.GlobalAveragePooling2D()(base_model_Dense.output)\n",
        "prediction_layer = tf.keras.layers.Dense(units=3, activation=\"sigmoid\")(average_pooling_layer)   # unit 3\n",
        "model_Dense81 = tf.keras.models.Model(inputs=base_model_Dense.input, outputs=prediction_layer)\n",
        "\n",
        "model_Dense81.compile(optimizer=tf.keras.optimizers.RMSprop(learning_rate=0.0001), loss=\"binary_crossentropy\", metrics=[\"accuracy\"])"
      ],
      "metadata": {
        "id": "39DGoz8LJQ8i"
      },
      "execution_count": null,
      "outputs": []
    },
    {
      "cell_type": "code",
      "source": [
        "kf_Dense81 = KFold(5, shuffle=True, random_state=40) \n",
        "\n",
        "oos_y81 = []\n",
        "oos_pred81 = []\n",
        "fold = 0\n",
        "\n",
        "for train, test in kf_Dense81.split(data_Dense):\n",
        "    fold+=1\n",
        "    print(f\"Fold #{fold}\")\n",
        "        \n",
        "    x_train_Dense81 = data_Dense[train]\n",
        "    y_train_Dense81 = labels_Dense[train]\n",
        "    x_test_Dense81 = data_Dense[test]\n",
        "    y_test_Dense81 = labels_Dense[test]\n",
        "\n",
        "    H_Dense81 = model_Dense81.fit( x=aug81.flow(x_train_Dense81, y_train_Dense81, batch_size=BS),\n",
        "\t                                            validation_data=(x_test_Dense81, y_test_Dense81),\n",
        "\t                                            steps_per_epoch=len(x_train_Dense81) // BS,\n",
        "\t                                            epochs=30,  callbacks = [callback])\n",
        "    \n",
        "    pred_Dense81 = model_Dense81.predict(x_test_Dense81)\n",
        "    \n",
        "    oos_y81.append(y_test_Dense81)\n",
        "    oos_pred81.append(pred_Dense81)  \n",
        "    print(classification_report(y_test_Dense81.argmax(axis=1),\t                #แสดง report ค่า acc, recall, ...\n",
        "                                        pred_Dense81.argmax(axis=1),  \n",
        "                                        target_names=le_Dense.classes_))\n",
        "\n",
        "#   score = metrics.accuracy_score(y_test3_Incep.argmax(axis=1),\t        #ค่า acc\n",
        "#                                               pred3_Incep.argmax(axis=1)\n",
        "#    print(f\"Fold score (accuracy): {score}\")\n",
        "\n",
        "#    print(confusion_matrix(testY3_Incep.argmax(axis=1),\t                       #แสดง confusion_matrix\n",
        "#                        pred3_Incep.argmax(axis=1) ) )"
      ],
      "metadata": {
        "colab": {
          "base_uri": "https://localhost:8080/"
        },
        "id": "rIRZ_wNRJQ8j",
        "outputId": "a9419029-77d8-4e89-860c-eec39bb4f18c"
      },
      "execution_count": null,
      "outputs": [
        {
          "output_type": "stream",
          "name": "stdout",
          "text": [
            "Fold #1\n",
            "Epoch 1/30\n",
            "360/360 [==============================] - 189s 444ms/step - loss: 0.6305 - accuracy: 0.3889 - val_loss: 0.5381 - val_accuracy: 0.6593\n",
            "Epoch 2/30\n",
            "360/360 [==============================] - 205s 568ms/step - loss: 0.5927 - accuracy: 0.5250 - val_loss: 0.5139 - val_accuracy: 0.6813\n",
            "Epoch 3/30\n",
            "360/360 [==============================] - 222s 618ms/step - loss: 0.5457 - accuracy: 0.6472 - val_loss: 0.5171 - val_accuracy: 0.6813\n",
            "Epoch 4/30\n",
            "360/360 [==============================] - 265s 737ms/step - loss: 0.4964 - accuracy: 0.6694 - val_loss: 0.5114 - val_accuracy: 0.6484\n",
            "Epoch 5/30\n",
            "360/360 [==============================] - 272s 756ms/step - loss: 0.4598 - accuracy: 0.7028 - val_loss: 0.4777 - val_accuracy: 0.6484\n",
            "              precision    recall  f1-score   support\n",
            "\n",
            "  Lungcancer       0.67      0.07      0.13        28\n",
            "      Normal       0.86      0.97      0.91        33\n",
            "Tuberculosis       0.49      0.83      0.62        30\n",
            "\n",
            "    accuracy                           0.65        91\n",
            "   macro avg       0.67      0.62      0.55        91\n",
            "weighted avg       0.68      0.65      0.57        91\n",
            "\n",
            "Fold #2\n",
            "Epoch 1/30\n",
            "361/361 [==============================] - 178s 492ms/step - loss: 0.4280 - accuracy: 0.7147 - val_loss: 0.4434 - val_accuracy: 0.7444\n",
            "Epoch 2/30\n",
            "361/361 [==============================] - 335s 928ms/step - loss: 0.3881 - accuracy: 0.7313 - val_loss: 0.4492 - val_accuracy: 0.7444\n",
            "Epoch 3/30\n",
            "361/361 [==============================] - 335s 929ms/step - loss: 0.3715 - accuracy: 0.7784 - val_loss: 0.4465 - val_accuracy: 0.7222\n",
            "Epoch 4/30\n",
            "361/361 [==============================] - 357s 988ms/step - loss: 0.3419 - accuracy: 0.8227 - val_loss: 0.4262 - val_accuracy: 0.7444\n",
            "              precision    recall  f1-score   support\n",
            "\n",
            "  Lungcancer       0.72      0.70      0.71        33\n",
            "      Normal       1.00      0.81      0.89        26\n",
            "Tuberculosis       0.62      0.74      0.68        31\n",
            "\n",
            "    accuracy                           0.74        90\n",
            "   macro avg       0.78      0.75      0.76        90\n",
            "weighted avg       0.77      0.74      0.75        90\n",
            "\n",
            "Fold #3\n",
            "Epoch 1/30\n",
            "361/361 [==============================] - 168s 465ms/step - loss: 0.3268 - accuracy: 0.8199 - val_loss: 0.3973 - val_accuracy: 0.7667\n",
            "Epoch 2/30\n",
            "361/361 [==============================] - 281s 778ms/step - loss: 0.3016 - accuracy: 0.8421 - val_loss: 0.4295 - val_accuracy: 0.7889\n",
            "Epoch 3/30\n",
            "361/361 [==============================] - 301s 834ms/step - loss: 0.2878 - accuracy: 0.8532 - val_loss: 0.4139 - val_accuracy: 0.7444\n",
            "Epoch 4/30\n",
            "361/361 [==============================] - 290s 804ms/step - loss: 0.2561 - accuracy: 0.8560 - val_loss: 0.5191 - val_accuracy: 0.6000\n",
            "Epoch 5/30\n",
            "361/361 [==============================] - 324s 897ms/step - loss: 0.2405 - accuracy: 0.8864 - val_loss: 0.4514 - val_accuracy: 0.6778\n",
            "              precision    recall  f1-score   support\n",
            "\n",
            "  Lungcancer       0.82      0.48      0.61        29\n",
            "      Normal       0.96      0.70      0.81        33\n",
            "Tuberculosis       0.49      0.86      0.62        28\n",
            "\n",
            "    accuracy                           0.68        90\n",
            "   macro avg       0.76      0.68      0.68        90\n",
            "weighted avg       0.77      0.68      0.69        90\n",
            "\n",
            "Fold #4\n",
            "Epoch 1/30\n",
            "361/361 [==============================] - 167s 464ms/step - loss: 0.2528 - accuracy: 0.8726 - val_loss: 0.3741 - val_accuracy: 0.7111\n",
            "Epoch 2/30\n",
            "361/361 [==============================] - 150s 415ms/step - loss: 0.2273 - accuracy: 0.8837 - val_loss: 0.2891 - val_accuracy: 0.8667\n",
            "Epoch 3/30\n",
            "361/361 [==============================] - 151s 419ms/step - loss: 0.2248 - accuracy: 0.8975 - val_loss: 0.4244 - val_accuracy: 0.6444\n",
            "Epoch 4/30\n",
            "361/361 [==============================] - 150s 415ms/step - loss: 0.2013 - accuracy: 0.9114 - val_loss: 0.3447 - val_accuracy: 0.7667\n",
            "Epoch 5/30\n",
            "361/361 [==============================] - 149s 412ms/step - loss: 0.1988 - accuracy: 0.9169 - val_loss: 0.3422 - val_accuracy: 0.7778\n",
            "              precision    recall  f1-score   support\n",
            "\n",
            "  Lungcancer       1.00      0.53      0.70        30\n",
            "      Normal       0.96      0.81      0.88        31\n",
            "Tuberculosis       0.60      1.00      0.75        29\n",
            "\n",
            "    accuracy                           0.78        90\n",
            "   macro avg       0.86      0.78      0.78        90\n",
            "weighted avg       0.86      0.78      0.78        90\n",
            "\n",
            "Fold #5\n",
            "Epoch 1/30\n",
            "361/361 [==============================] - 147s 409ms/step - loss: 0.1909 - accuracy: 0.9058 - val_loss: 0.3184 - val_accuracy: 0.8333\n",
            "Epoch 2/30\n",
            "361/361 [==============================] - 150s 414ms/step - loss: 0.1662 - accuracy: 0.9224 - val_loss: 0.2868 - val_accuracy: 0.8556\n",
            "Epoch 3/30\n",
            "361/361 [==============================] - 150s 415ms/step - loss: 0.1616 - accuracy: 0.9141 - val_loss: 0.2764 - val_accuracy: 0.8444\n",
            "Epoch 4/30\n",
            "361/361 [==============================] - 151s 419ms/step - loss: 0.1525 - accuracy: 0.9169 - val_loss: 0.2506 - val_accuracy: 0.8556\n",
            "Epoch 5/30\n",
            "361/361 [==============================] - 150s 417ms/step - loss: 0.1397 - accuracy: 0.9280 - val_loss: 0.2938 - val_accuracy: 0.8444\n",
            "              precision    recall  f1-score   support\n",
            "\n",
            "  Lungcancer       0.87      0.90      0.89        30\n",
            "      Normal       1.00      0.68      0.81        28\n",
            "Tuberculosis       0.75      0.94      0.83        32\n",
            "\n",
            "    accuracy                           0.84        90\n",
            "   macro avg       0.87      0.84      0.84        90\n",
            "weighted avg       0.87      0.84      0.84        90\n",
            "\n"
          ]
        }
      ]
    },
    {
      "cell_type": "code",
      "source": [
        "oos_y81 = np.concatenate(oos_y81)\n",
        "oos_pred81 = np.concatenate(oos_pred81)"
      ],
      "metadata": {
        "id": "-iYs9_O7JQ8k"
      },
      "execution_count": null,
      "outputs": []
    },
    {
      "cell_type": "code",
      "source": [
        "score81 = metrics.accuracy_score(oos_y81.argmax(axis=1),\t        #ค่า acc\n",
        "                                             oos_pred81.argmax(axis=1) )\n",
        "print(f\"Fold score (accuracy): {score81}\")\n",
        "\n",
        "print(classification_report(oos_y81.argmax(axis=1),\t                #แสดง report ค่า acc, recall, ...\n",
        "                                        oos_pred81.argmax(axis=1),  \n",
        "                                        target_names=le_Dense.classes_))"
      ],
      "metadata": {
        "colab": {
          "base_uri": "https://localhost:8080/"
        },
        "id": "RPRndQhhJQ8k",
        "outputId": "cd774f65-2300-4042-9946-7a1ffe160172"
      },
      "execution_count": null,
      "outputs": [
        {
          "output_type": "stream",
          "name": "stdout",
          "text": [
            "Fold score (accuracy): 0.738359201773836\n",
            "              precision    recall  f1-score   support\n",
            "\n",
            "  Lungcancer       0.83      0.55      0.66       150\n",
            "      Normal       0.94      0.79      0.86       151\n",
            "Tuberculosis       0.58      0.87      0.70       150\n",
            "\n",
            "    accuracy                           0.74       451\n",
            "   macro avg       0.79      0.74      0.74       451\n",
            "weighted avg       0.79      0.74      0.74       451\n",
            "\n"
          ]
        }
      ]
    },
    {
      "cell_type": "markdown",
      "source": [
        "## 1) K-fold  -- DenseNet201\n",
        "\n",
        "### -->ACC =  0.88\n",
        "### -->เวลา 3636 วินาที\n",
        "\n",
        "*   BS = 8\n",
        "*   fix weight & bias in layer 0-600\n",
        "*   activation=\"softmax\"\n",
        "*   learning_rate=0.0001\n",
        "*   epoch 30"
      ],
      "metadata": {
        "id": "A_XT6cPUO1Mz"
      }
    },
    {
      "cell_type": "code",
      "source": [
        "train_img_Dense = []\n",
        "for ImageName in tqdm(data_train3['ImageName']):               # รัน ชื่อรูป ในไฟล์ data_test3\n",
        "    image_path = All_3class_dir +'/' + ImageName                   # ดึงรูปในโฟล์เดอร์มาทีละรูป\n",
        "    img = cv2.imread(image_path)                                            # อ่านรูป\n",
        "    img = cv2.resize(img, (224, 224))                                       #ขนาดของ input\n",
        "    train_img_Dense.append(img)\n",
        "\n",
        "data_Dense = np.array(train_img_Dense, dtype=\"float32\") / 255.0"
      ],
      "metadata": {
        "outputId": "4891106d-f1f7-4b71-9cb3-6a30e68e38ae",
        "colab": {
          "base_uri": "https://localhost:8080/"
        },
        "id": "8GrtYzNKO1M0"
      },
      "execution_count": null,
      "outputs": [
        {
          "output_type": "stream",
          "name": "stderr",
          "text": [
            "100%|██████████| 451/451 [02:20<00:00,  3.22it/s]\n"
          ]
        }
      ]
    },
    {
      "cell_type": "code",
      "source": [
        "labels_Dense = np.array(data_train3[['NameType']] )        \n",
        "labels_Dense.shape = (len(labels_Dense),) \n",
        "\n",
        "le_Dense = LabelEncoder()                                                                     \n",
        "labels_Dense = le_Dense.fit_transform(labels_Dense)                                         #จะแปลงชื่อ class เป็นตัวเลข 1, 2, 0 \n",
        "\n",
        "labels_Dense = to_categorical(labels_Dense, num_classes=3)                   #shape (180, 3) มีค่าเป็น  [0., 1., 0.]  กับ   [0., 0., 1.] กับ  [1., 0., 0.]"
      ],
      "metadata": {
        "id": "f-9lmjBnO1M0"
      },
      "execution_count": null,
      "outputs": []
    },
    {
      "cell_type": "code",
      "source": [
        "INIT_LR = 1e-1\n",
        "BS = 8\n",
        "EPOCHS = 50\n",
        "\n",
        "aug = ImageDataGenerator(\n",
        "\t\trotation_range=15,\t\t\t\t\t\t#องศาการหมุน\n",
        "\t\twidth_shift_range=0.1,\n",
        "\t\theight_shift_range=0.1,\n",
        "\t\tshear_range=0.15,\n",
        "\t\thorizontal_flip=True,\n",
        "\t\tfill_mode=\"nearest\")\n",
        "\n",
        "callback = tf.keras.callbacks.EarlyStopping(\n",
        "                monitor=\"val_accuracy\",\n",
        "                patience=3,\n",
        "                mode=\"max\" )"
      ],
      "metadata": {
        "id": "Uv4t6ZtaO1M1"
      },
      "execution_count": null,
      "outputs": []
    },
    {
      "cell_type": "code",
      "source": [
        "base_model_Dense = tf.keras.applications.DenseNet201(input_shape=(224, 224, 3), include_top=False, weights=\"imagenet\")\n",
        "len(base_model_Dense.layers)"
      ],
      "metadata": {
        "colab": {
          "base_uri": "https://localhost:8080/"
        },
        "outputId": "381c0010-7480-456d-c9f8-0c307241de02",
        "id": "pThnYoncO1M1"
      },
      "execution_count": null,
      "outputs": [
        {
          "output_type": "stream",
          "name": "stdout",
          "text": [
            "Downloading data from https://storage.googleapis.com/tensorflow/keras-applications/densenet/densenet201_weights_tf_dim_ordering_tf_kernels_notop.h5\n",
            "74842112/74836368 [==============================] - 1s 0us/step\n",
            "74850304/74836368 [==============================] - 1s 0us/step\n"
          ]
        },
        {
          "output_type": "execute_result",
          "data": {
            "text/plain": [
              "707"
            ]
          },
          "metadata": {},
          "execution_count": 15
        }
      ]
    },
    {
      "cell_type": "code",
      "source": [
        "base_model_Dense.trainable = True\n",
        "for layer in base_model_Dense.layers[:600]:    #fix w & bias in layer 0-600\n",
        "    layer.trainable = False\n",
        "\n",
        "#Add custom head\n",
        "average_pooling_layer = tf.keras.layers.GlobalAveragePooling2D()(base_model_Dense.output)\n",
        "prediction_layer = tf.keras.layers.Dense(units=3, activation=\"softmax\")(average_pooling_layer)   # unit 3\n",
        "model_Dense = tf.keras.models.Model(inputs=base_model_Dense.input, outputs=prediction_layer)\n",
        "\n",
        "model_Dense.compile(optimizer=tf.keras.optimizers.RMSprop(learning_rate=0.0001), loss=\"binary_crossentropy\", metrics=[\"accuracy\"])"
      ],
      "metadata": {
        "id": "8QBzqBSVO1M1"
      },
      "execution_count": null,
      "outputs": []
    },
    {
      "cell_type": "code",
      "source": [
        "kf_Dense = KFold(5, shuffle=True, random_state=40) \n",
        "\n",
        "oos_y = []\n",
        "oos_pred = []\n",
        "fold = 0\n",
        "\n",
        "for train, test in kf_Dense.split(data_Dense):\n",
        "    fold+=1\n",
        "    print(f\"Fold #{fold}\")\n",
        "        \n",
        "    x_train_Dense = data_Dense[train]\n",
        "    y_train_Dense = labels_Dense[train]\n",
        "    x_test_Dense = data_Dense[test]\n",
        "    y_test_Dense = labels_Dense[test]\n",
        "\n",
        "    H_Dense = model_Dense.fit( x=aug.flow(x_train_Dense, y_train_Dense, batch_size=BS),\n",
        "\t                                            validation_data=(x_test_Dense, y_test_Dense),\n",
        "\t                                            steps_per_epoch=len(x_train_Dense) // BS,\n",
        "\t                                            epochs=30,  callbacks = [callback])\n",
        "    \n",
        "    pred_Dense = model_Dense.predict(x_test_Dense)\n",
        "    \n",
        "    oos_y.append(y_test_Dense)\n",
        "    oos_pred.append(pred_Dense)  \n",
        "    print(classification_report(y_test_Dense.argmax(axis=1),\t                #แสดง report ค่า acc, recall, ...\n",
        "                                        pred_Dense.argmax(axis=1),  \n",
        "                                        target_names=le_Dense.classes_))\n",
        "\n",
        "#   score = metrics.accuracy_score(y_test3_Incep.argmax(axis=1),\t        #ค่า acc\n",
        "#                                               pred3_Incep.argmax(axis=1)\n",
        "#    print(f\"Fold score (accuracy): {score}\")\n",
        "\n",
        "#    print(confusion_matrix(testY3_Incep.argmax(axis=1),\t                       #แสดง confusion_matrix\n",
        "#                        pred3_Incep.argmax(axis=1) ) )"
      ],
      "metadata": {
        "colab": {
          "base_uri": "https://localhost:8080/"
        },
        "outputId": "102cc208-2843-489e-a905-25455b5bab30",
        "id": "8Zj6RZilO1M1"
      },
      "execution_count": null,
      "outputs": [
        {
          "output_type": "stream",
          "name": "stdout",
          "text": [
            "Fold #1\n",
            "Epoch 1/30\n",
            "45/45 [==============================] - 136s 3s/step - loss: 0.5616 - accuracy: 0.5389 - val_loss: 0.4637 - val_accuracy: 0.7363\n",
            "Epoch 2/30\n",
            "45/45 [==============================] - 127s 3s/step - loss: 0.4063 - accuracy: 0.7417 - val_loss: 0.4005 - val_accuracy: 0.7582\n",
            "Epoch 3/30\n",
            "45/45 [==============================] - 130s 3s/step - loss: 0.3337 - accuracy: 0.8028 - val_loss: 0.3845 - val_accuracy: 0.7033\n",
            "Epoch 4/30\n",
            "45/45 [==============================] - 132s 3s/step - loss: 0.2868 - accuracy: 0.8417 - val_loss: 0.3558 - val_accuracy: 0.7363\n",
            "Epoch 5/30\n",
            "45/45 [==============================] - 132s 3s/step - loss: 0.2659 - accuracy: 0.8333 - val_loss: 0.3602 - val_accuracy: 0.7473\n",
            "              precision    recall  f1-score   support\n",
            "\n",
            "  Lungcancer       0.76      0.46      0.58        28\n",
            "      Normal       0.89      0.94      0.91        33\n",
            "Tuberculosis       0.62      0.80      0.70        30\n",
            "\n",
            "    accuracy                           0.75        91\n",
            "   macro avg       0.76      0.73      0.73        91\n",
            "weighted avg       0.76      0.75      0.74        91\n",
            "\n",
            "Fold #2\n",
            "Epoch 1/30\n",
            "45/45 [==============================] - 120s 3s/step - loss: 0.2675 - accuracy: 0.8527 - val_loss: 0.1551 - val_accuracy: 0.9444\n",
            "Epoch 2/30\n",
            "45/45 [==============================] - 130s 3s/step - loss: 0.2526 - accuracy: 0.8612 - val_loss: 0.1796 - val_accuracy: 0.8889\n",
            "Epoch 3/30\n",
            "45/45 [==============================] - 133s 3s/step - loss: 0.2344 - accuracy: 0.8697 - val_loss: 0.2017 - val_accuracy: 0.8889\n",
            "Epoch 4/30\n",
            "45/45 [==============================] - 149s 3s/step - loss: 0.2031 - accuracy: 0.8924 - val_loss: 0.1419 - val_accuracy: 0.9222\n",
            "              precision    recall  f1-score   support\n",
            "\n",
            "  Lungcancer       0.97      0.85      0.90        33\n",
            "      Normal       0.96      1.00      0.98        26\n",
            "Tuberculosis       0.85      0.94      0.89        31\n",
            "\n",
            "    accuracy                           0.92        90\n",
            "   macro avg       0.93      0.93      0.93        90\n",
            "weighted avg       0.93      0.92      0.92        90\n",
            "\n",
            "Fold #3\n",
            "Epoch 1/30\n",
            "45/45 [==============================] - 159s 4s/step - loss: 0.2027 - accuracy: 0.9008 - val_loss: 0.1416 - val_accuracy: 0.9222\n",
            "Epoch 2/30\n",
            "45/45 [==============================] - 154s 3s/step - loss: 0.1864 - accuracy: 0.9037 - val_loss: 0.1817 - val_accuracy: 0.9000\n",
            "Epoch 3/30\n",
            "45/45 [==============================] - 133s 3s/step - loss: 0.1656 - accuracy: 0.9263 - val_loss: 0.1506 - val_accuracy: 0.9111\n",
            "Epoch 4/30\n",
            "45/45 [==============================] - 131s 3s/step - loss: 0.1557 - accuracy: 0.9263 - val_loss: 0.1307 - val_accuracy: 0.9556\n",
            "Epoch 5/30\n",
            "45/45 [==============================] - 130s 3s/step - loss: 0.1338 - accuracy: 0.9377 - val_loss: 0.1366 - val_accuracy: 0.9444\n",
            "Epoch 6/30\n",
            "45/45 [==============================] - 131s 3s/step - loss: 0.1418 - accuracy: 0.9320 - val_loss: 0.1414 - val_accuracy: 0.9333\n",
            "Epoch 7/30\n",
            "45/45 [==============================] - 131s 3s/step - loss: 0.1320 - accuracy: 0.9292 - val_loss: 0.2038 - val_accuracy: 0.8889\n",
            "              precision    recall  f1-score   support\n",
            "\n",
            "  Lungcancer       0.95      0.72      0.82        29\n",
            "      Normal       1.00      0.97      0.98        33\n",
            "Tuberculosis       0.75      0.96      0.84        28\n",
            "\n",
            "    accuracy                           0.89        90\n",
            "   macro avg       0.90      0.89      0.88        90\n",
            "weighted avg       0.91      0.89      0.89        90\n",
            "\n",
            "Fold #4\n",
            "Epoch 1/30\n",
            "45/45 [==============================] - 120s 3s/step - loss: 0.1459 - accuracy: 0.9292 - val_loss: 0.2050 - val_accuracy: 0.8778\n",
            "Epoch 2/30\n",
            "45/45 [==============================] - 115s 3s/step - loss: 0.1289 - accuracy: 0.9433 - val_loss: 0.1487 - val_accuracy: 0.9222\n",
            "Epoch 3/30\n",
            "45/45 [==============================] - 117s 3s/step - loss: 0.1332 - accuracy: 0.9320 - val_loss: 0.1494 - val_accuracy: 0.9000\n",
            "Epoch 4/30\n",
            "45/45 [==============================] - 118s 3s/step - loss: 0.0966 - accuracy: 0.9745 - val_loss: 0.1831 - val_accuracy: 0.9111\n",
            "Epoch 5/30\n",
            "45/45 [==============================] - 115s 3s/step - loss: 0.1179 - accuracy: 0.9490 - val_loss: 0.2063 - val_accuracy: 0.8889\n",
            "              precision    recall  f1-score   support\n",
            "\n",
            "  Lungcancer       1.00      0.67      0.80        30\n",
            "      Normal       1.00      1.00      1.00        31\n",
            "Tuberculosis       0.74      1.00      0.85        29\n",
            "\n",
            "    accuracy                           0.89        90\n",
            "   macro avg       0.91      0.89      0.88        90\n",
            "weighted avg       0.92      0.89      0.89        90\n",
            "\n",
            "Fold #5\n",
            "Epoch 1/30\n",
            "45/45 [==============================] - 115s 3s/step - loss: 0.0987 - accuracy: 0.9575 - val_loss: 0.0534 - val_accuracy: 0.9889\n",
            "Epoch 2/30\n",
            "45/45 [==============================] - 117s 3s/step - loss: 0.0964 - accuracy: 0.9603 - val_loss: 0.0506 - val_accuracy: 0.9778\n",
            "Epoch 3/30\n",
            "45/45 [==============================] - 117s 3s/step - loss: 0.0991 - accuracy: 0.9575 - val_loss: 0.0532 - val_accuracy: 0.9667\n",
            "Epoch 4/30\n",
            "45/45 [==============================] - 117s 3s/step - loss: 0.0812 - accuracy: 0.9745 - val_loss: 0.0607 - val_accuracy: 0.9667\n",
            "              precision    recall  f1-score   support\n",
            "\n",
            "  Lungcancer       1.00      0.90      0.95        30\n",
            "      Normal       1.00      1.00      1.00        28\n",
            "Tuberculosis       0.91      1.00      0.96        32\n",
            "\n",
            "    accuracy                           0.97        90\n",
            "   macro avg       0.97      0.97      0.97        90\n",
            "weighted avg       0.97      0.97      0.97        90\n",
            "\n"
          ]
        }
      ]
    },
    {
      "cell_type": "code",
      "source": [
        "oos_y = np.concatenate(oos_y)\n",
        "oos_pred = np.concatenate(oos_pred)"
      ],
      "metadata": {
        "id": "QUZwfmV_O1M2"
      },
      "execution_count": null,
      "outputs": []
    },
    {
      "cell_type": "code",
      "source": [
        "score = metrics.accuracy_score(oos_y.argmax(axis=1),\t        #ค่า acc\n",
        "                                             oos_pred.argmax(axis=1) )\n",
        "print(f\"Fold score (accuracy): {score}\")\n",
        "\n",
        "print(classification_report(oos_y.argmax(axis=1),\t                #แสดง report ค่า acc, recall, ...\n",
        "                                        oos_pred.argmax(axis=1),  \n",
        "                                        target_names=le_Dense.classes_))"
      ],
      "metadata": {
        "colab": {
          "base_uri": "https://localhost:8080/"
        },
        "outputId": "144aa9b9-ee71-42f9-d8dd-bce5f72f2a5a",
        "id": "JFomDOPwO1M2"
      },
      "execution_count": null,
      "outputs": [
        {
          "output_type": "stream",
          "name": "stdout",
          "text": [
            "Fold score (accuracy): 0.8824833702882483\n",
            "              precision    recall  f1-score   support\n",
            "\n",
            "  Lungcancer       0.95      0.73      0.82       150\n",
            "      Normal       0.97      0.98      0.97       151\n",
            "Tuberculosis       0.77      0.94      0.85       150\n",
            "\n",
            "    accuracy                           0.88       451\n",
            "   macro avg       0.90      0.88      0.88       451\n",
            "weighted avg       0.90      0.88      0.88       451\n",
            "\n"
          ]
        }
      ]
    },
    {
      "cell_type": "markdown",
      "source": [
        "## 1.1) K-fold  -- DenseNet201  \n",
        "\n",
        "### -->ACC = 0.92\n",
        "### -->เวลา 4525.54 วินาที\n",
        "\n",
        "*   BS = 8\n",
        "*   fix weight & bias in layer 0-600\n",
        "*   activation=\"sigmoid\"\n",
        "*   learning_rate=0.0001\n",
        "*   epoch 30"
      ],
      "metadata": {
        "id": "6mGhmpqJRUik"
      }
    },
    {
      "cell_type": "code",
      "source": [
        "train_img_Dense = []\n",
        "for ImageName in tqdm(data_train3['ImageName']):               # รัน ชื่อรูป ในไฟล์ data_test3\n",
        "    image_path = All_3class_dir +'/' + ImageName                   # ดึงรูปในโฟล์เดอร์มาทีละรูป\n",
        "    img = cv2.imread(image_path)                                            # อ่านรูป\n",
        "    img = cv2.resize(img, (224, 224))                                       #ขนาดของ input\n",
        "    train_img_Dense.append(img)\n",
        "\n",
        "data_Dense = np.array(train_img_Dense, dtype=\"float32\") / 255.0"
      ],
      "metadata": {
        "outputId": "becb5757-811c-461b-f7b7-cfb9997b3413",
        "colab": {
          "base_uri": "https://localhost:8080/"
        },
        "id": "BUAhw5bvRUi0"
      },
      "execution_count": null,
      "outputs": [
        {
          "output_type": "stream",
          "name": "stderr",
          "text": [
            "100%|██████████| 451/451 [02:18<00:00,  3.26it/s]\n"
          ]
        }
      ]
    },
    {
      "cell_type": "code",
      "source": [
        "labels_Dense = np.array(data_train3[['NameType']] )        \n",
        "labels_Dense.shape = (len(labels_Dense),) \n",
        "\n",
        "le_Dense = LabelEncoder()                                                                     \n",
        "labels_Dense = le_Dense.fit_transform(labels_Dense)                                         #จะแปลงชื่อ class เป็นตัวเลข 1, 2, 0 \n",
        "\n",
        "labels_Dense = to_categorical(labels_Dense, num_classes=3)                   #shape (180, 3) มีค่าเป็น  [0., 1., 0.]  กับ   [0., 0., 1.] กับ  [1., 0., 0.]"
      ],
      "metadata": {
        "id": "MrP2hP4KRUi1"
      },
      "execution_count": null,
      "outputs": []
    },
    {
      "cell_type": "code",
      "source": [
        "INIT_LR = 1e-1\n",
        "BS8 = 8\n",
        "EPOCHS = 50\n",
        "\n",
        "aug11 = ImageDataGenerator(\n",
        "\t\trotation_range=15,\t\t\t\t\t\t#องศาการหมุน\n",
        "\t\twidth_shift_range=0.1,\n",
        "\t\theight_shift_range=0.1,\n",
        "\t\tshear_range=0.15,\n",
        "\t\thorizontal_flip=True,\n",
        "\t\tfill_mode=\"nearest\")\n",
        "\n",
        "callback = tf.keras.callbacks.EarlyStopping(\n",
        "                monitor=\"val_accuracy\",\n",
        "                patience=3,\n",
        "                mode=\"max\" )"
      ],
      "metadata": {
        "id": "Xq5qnN0LRUi2"
      },
      "execution_count": null,
      "outputs": []
    },
    {
      "cell_type": "code",
      "source": [
        "base_model_Dense = tf.keras.applications.DenseNet201(input_shape=(224, 224, 3), include_top=False, weights=\"imagenet\")\n",
        "len(base_model_Dense.layers)"
      ],
      "metadata": {
        "colab": {
          "base_uri": "https://localhost:8080/"
        },
        "outputId": "7b83bc28-1fbf-4742-e935-22a5984bdc1f",
        "id": "OR75fqtgRUi3"
      },
      "execution_count": null,
      "outputs": [
        {
          "output_type": "stream",
          "name": "stdout",
          "text": [
            "Downloading data from https://storage.googleapis.com/tensorflow/keras-applications/densenet/densenet201_weights_tf_dim_ordering_tf_kernels_notop.h5\n",
            "74842112/74836368 [==============================] - 0s 0us/step\n",
            "74850304/74836368 [==============================] - 0s 0us/step\n"
          ]
        },
        {
          "output_type": "execute_result",
          "data": {
            "text/plain": [
              "707"
            ]
          },
          "metadata": {},
          "execution_count": 15
        }
      ]
    },
    {
      "cell_type": "code",
      "source": [
        "base_model_Dense.trainable = True\n",
        "for layer in base_model_Dense.layers[:600]:    #fix w & bias in layer 0-600\n",
        "    layer.trainable = False\n",
        "\n",
        "#Add custom head\n",
        "average_pooling_layer = tf.keras.layers.GlobalAveragePooling2D()(base_model_Dense.output)\n",
        "prediction_layer = tf.keras.layers.Dense(units=3, activation=\"softmax\")(average_pooling_layer)   # unit 3\n",
        "model_Dense11 = tf.keras.models.Model(inputs=base_model_Dense.input, outputs=prediction_layer)\n",
        "\n",
        "model_Dense11.compile(optimizer=tf.keras.optimizers.RMSprop(learning_rate=0.0001), loss=\"binary_crossentropy\", metrics=[\"accuracy\"])"
      ],
      "metadata": {
        "id": "7sp2XFLbRUi3"
      },
      "execution_count": null,
      "outputs": []
    },
    {
      "cell_type": "code",
      "source": [
        "kf_Dense11 = KFold(5, shuffle=True, random_state=40) \n",
        "\n",
        "oos_y11 = []\n",
        "oos_pred11 = []\n",
        "fold = 0\n",
        "\n",
        "for train, test in kf_Dense11.split(data_Dense):\n",
        "    fold+=1\n",
        "    print(f\"Fold #{fold}\")\n",
        "        \n",
        "    x_train_Dense11 = data_Dense[train]\n",
        "    y_train_Dense11 = labels_Dense[train]\n",
        "    x_test_Dense11 = data_Dense[test]\n",
        "    y_test_Dense11 = labels_Dense[test]\n",
        "\n",
        "    H_Dense11 = model_Dense11.fit( x=aug11.flow(x_train_Dense11, y_train_Dense11, batch_size=BS8),\n",
        "\t                                            validation_data=(x_test_Dense11, y_test_Dense11 ),\n",
        "\t                                            steps_per_epoch=len(x_train_Dense11 ) // BS8,\n",
        "\t                                            epochs=30,  callbacks = [callback])\n",
        "    \n",
        "    pred_Dense11 = model_Dense11.predict(x_test_Dense11)\n",
        "    \n",
        "    oos_y11.append(y_test_Dense11)\n",
        "    oos_pred11.append(pred_Dense11)  \n",
        "    print(classification_report(y_test_Dense11.argmax(axis=1),\t                #แสดง report ค่า acc, recall, ...\n",
        "                                        pred_Dense11.argmax(axis=1),  \n",
        "                                        target_names=le_Dense.classes_))\n",
        "\n",
        "#   score = metrics.accuracy_score(y_test3_Incep.argmax(axis=1),\t        #ค่า acc\n",
        "#                                               pred3_Incep.argmax(axis=1)\n",
        "#    print(f\"Fold score (accuracy): {score}\")\n",
        "\n",
        "#    print(confusion_matrix(testY3_Incep.argmax(axis=1),\t                       #แสดง confusion_matrix\n",
        "#                        pred3_Incep.argmax(axis=1) ) )"
      ],
      "metadata": {
        "id": "jtqNHTIiRUi4",
        "outputId": "773e54f0-1876-401e-b9bb-dd2a64efb1f1",
        "colab": {
          "base_uri": "https://localhost:8080/"
        }
      },
      "execution_count": null,
      "outputs": [
        {
          "output_type": "stream",
          "name": "stdout",
          "text": [
            "Fold #1\n",
            "Epoch 1/30\n",
            "45/45 [==============================] - 148s 3s/step - loss: 0.5283 - accuracy: 0.5722 - val_loss: 0.4870 - val_accuracy: 0.6813\n",
            "Epoch 2/30\n",
            "45/45 [==============================] - 133s 3s/step - loss: 0.4103 - accuracy: 0.7389 - val_loss: 0.4323 - val_accuracy: 0.6484\n",
            "Epoch 3/30\n",
            "45/45 [==============================] - 135s 3s/step - loss: 0.3447 - accuracy: 0.7972 - val_loss: 0.3855 - val_accuracy: 0.6703\n",
            "Epoch 4/30\n",
            "45/45 [==============================] - 135s 3s/step - loss: 0.3003 - accuracy: 0.8556 - val_loss: 0.3478 - val_accuracy: 0.7363\n",
            "Epoch 5/30\n",
            "45/45 [==============================] - 140s 3s/step - loss: 0.2853 - accuracy: 0.8528 - val_loss: 0.3571 - val_accuracy: 0.6923\n",
            "Epoch 6/30\n",
            "45/45 [==============================] - 135s 3s/step - loss: 0.2434 - accuracy: 0.8861 - val_loss: 0.3441 - val_accuracy: 0.7143\n",
            "Epoch 7/30\n",
            "45/45 [==============================] - 134s 3s/step - loss: 0.2325 - accuracy: 0.8833 - val_loss: 0.2945 - val_accuracy: 0.7802\n",
            "Epoch 8/30\n",
            "45/45 [==============================] - 136s 3s/step - loss: 0.1893 - accuracy: 0.9028 - val_loss: 0.3068 - val_accuracy: 0.7692\n",
            "Epoch 9/30\n",
            "45/45 [==============================] - 134s 3s/step - loss: 0.1845 - accuracy: 0.9111 - val_loss: 0.3484 - val_accuracy: 0.7692\n",
            "Epoch 10/30\n",
            "45/45 [==============================] - 134s 3s/step - loss: 0.1478 - accuracy: 0.9389 - val_loss: 0.3353 - val_accuracy: 0.7802\n",
            "              precision    recall  f1-score   support\n",
            "\n",
            "  Lungcancer       0.79      0.54      0.64        28\n",
            "      Normal       0.94      0.94      0.94        33\n",
            "Tuberculosis       0.64      0.83      0.72        30\n",
            "\n",
            "    accuracy                           0.78        91\n",
            "   macro avg       0.79      0.77      0.77        91\n",
            "weighted avg       0.79      0.78      0.78        91\n",
            "\n",
            "Fold #2\n",
            "Epoch 1/30\n",
            "45/45 [==============================] - 126s 3s/step - loss: 0.2018 - accuracy: 0.8924 - val_loss: 0.0769 - val_accuracy: 0.9556\n",
            "Epoch 2/30\n",
            "45/45 [==============================] - 135s 3s/step - loss: 0.1975 - accuracy: 0.8895 - val_loss: 0.0785 - val_accuracy: 0.9667\n",
            "Epoch 3/30\n",
            "45/45 [==============================] - 137s 3s/step - loss: 0.1633 - accuracy: 0.9207 - val_loss: 0.0791 - val_accuracy: 0.9778\n",
            "Epoch 4/30\n",
            "45/45 [==============================] - 133s 3s/step - loss: 0.1364 - accuracy: 0.9433 - val_loss: 0.1085 - val_accuracy: 0.9556\n",
            "Epoch 5/30\n",
            "45/45 [==============================] - 133s 3s/step - loss: 0.1362 - accuracy: 0.9377 - val_loss: 0.1514 - val_accuracy: 0.9111\n",
            "Epoch 6/30\n",
            "45/45 [==============================] - 134s 3s/step - loss: 0.1431 - accuracy: 0.9235 - val_loss: 0.1325 - val_accuracy: 0.9333\n",
            "              precision    recall  f1-score   support\n",
            "\n",
            "  Lungcancer       1.00      0.85      0.92        33\n",
            "      Normal       1.00      0.96      0.98        26\n",
            "Tuberculosis       0.84      1.00      0.91        31\n",
            "\n",
            "    accuracy                           0.93        90\n",
            "   macro avg       0.95      0.94      0.94        90\n",
            "weighted avg       0.94      0.93      0.93        90\n",
            "\n",
            "Fold #3\n",
            "Epoch 1/30\n",
            "45/45 [==============================] - 122s 3s/step - loss: 0.1538 - accuracy: 0.9377 - val_loss: 0.1137 - val_accuracy: 0.9556\n",
            "Epoch 2/30\n",
            "45/45 [==============================] - 126s 3s/step - loss: 0.1462 - accuracy: 0.9377 - val_loss: 0.0750 - val_accuracy: 0.9667\n",
            "Epoch 3/30\n",
            "45/45 [==============================] - 127s 3s/step - loss: 0.1218 - accuracy: 0.9377 - val_loss: 0.0762 - val_accuracy: 0.9667\n",
            "Epoch 4/30\n",
            "45/45 [==============================] - 128s 3s/step - loss: 0.1380 - accuracy: 0.9405 - val_loss: 0.1100 - val_accuracy: 0.9444\n",
            "Epoch 5/30\n",
            "45/45 [==============================] - 128s 3s/step - loss: 0.0827 - accuracy: 0.9745 - val_loss: 0.0882 - val_accuracy: 0.9667\n",
            "              precision    recall  f1-score   support\n",
            "\n",
            "  Lungcancer       1.00      0.90      0.95        29\n",
            "      Normal       1.00      1.00      1.00        33\n",
            "Tuberculosis       0.90      1.00      0.95        28\n",
            "\n",
            "    accuracy                           0.97        90\n",
            "   macro avg       0.97      0.97      0.96        90\n",
            "weighted avg       0.97      0.97      0.97        90\n",
            "\n",
            "Fold #4\n",
            "Epoch 1/30\n",
            "45/45 [==============================] - 120s 3s/step - loss: 0.1112 - accuracy: 0.9632 - val_loss: 0.1560 - val_accuracy: 0.9444\n",
            "Epoch 2/30\n",
            "45/45 [==============================] - 133s 3s/step - loss: 0.0891 - accuracy: 0.9667 - val_loss: 0.0625 - val_accuracy: 0.9778\n",
            "Epoch 3/30\n",
            "45/45 [==============================] - 143s 3s/step - loss: 0.1008 - accuracy: 0.9490 - val_loss: 0.0562 - val_accuracy: 0.9667\n",
            "Epoch 4/30\n",
            "45/45 [==============================] - 145s 3s/step - loss: 0.0588 - accuracy: 0.9858 - val_loss: 0.1004 - val_accuracy: 0.9444\n",
            "Epoch 5/30\n",
            "45/45 [==============================] - 147s 3s/step - loss: 0.0628 - accuracy: 0.9887 - val_loss: 0.2144 - val_accuracy: 0.9111\n",
            "              precision    recall  f1-score   support\n",
            "\n",
            "  Lungcancer       1.00      0.73      0.85        30\n",
            "      Normal       1.00      1.00      1.00        31\n",
            "Tuberculosis       0.78      1.00      0.88        29\n",
            "\n",
            "    accuracy                           0.91        90\n",
            "   macro avg       0.93      0.91      0.91        90\n",
            "weighted avg       0.93      0.91      0.91        90\n",
            "\n",
            "Fold #5\n",
            "Epoch 1/30\n",
            "45/45 [==============================] - 126s 3s/step - loss: 0.0811 - accuracy: 0.9660 - val_loss: 0.0961 - val_accuracy: 0.9111\n",
            "Epoch 2/30\n",
            "45/45 [==============================] - 127s 3s/step - loss: 0.0950 - accuracy: 0.9632 - val_loss: 0.0330 - val_accuracy: 1.0000\n",
            "Epoch 3/30\n",
            "45/45 [==============================] - 125s 3s/step - loss: 0.0750 - accuracy: 0.9688 - val_loss: 0.0363 - val_accuracy: 1.0000\n",
            "Epoch 4/30\n",
            "45/45 [==============================] - 125s 3s/step - loss: 0.0644 - accuracy: 0.9802 - val_loss: 0.0199 - val_accuracy: 1.0000\n",
            "Epoch 5/30\n",
            "45/45 [==============================] - 119s 3s/step - loss: 0.0706 - accuracy: 0.9802 - val_loss: 0.0167 - val_accuracy: 1.0000\n",
            "              precision    recall  f1-score   support\n",
            "\n",
            "  Lungcancer       1.00      1.00      1.00        30\n",
            "      Normal       1.00      1.00      1.00        28\n",
            "Tuberculosis       1.00      1.00      1.00        32\n",
            "\n",
            "    accuracy                           1.00        90\n",
            "   macro avg       1.00      1.00      1.00        90\n",
            "weighted avg       1.00      1.00      1.00        90\n",
            "\n"
          ]
        }
      ]
    },
    {
      "cell_type": "code",
      "source": [
        "oos_y11 = np.concatenate(oos_y11)\n",
        "oos_pred11 = np.concatenate(oos_pred11)"
      ],
      "metadata": {
        "id": "mbpr8IKZRUi4"
      },
      "execution_count": null,
      "outputs": []
    },
    {
      "cell_type": "code",
      "source": [
        "score11 = metrics.accuracy_score(oos_y11.argmax(axis=1),\t        #ค่า acc\n",
        "                                             oos_pred11.argmax(axis=1) )\n",
        "print(f\"Fold score (accuracy): {score11}\")\n",
        "\n",
        "print(classification_report(oos_y11.argmax(axis=1),\t                #แสดง report ค่า acc, recall, ...\n",
        "                                        oos_pred11.argmax(axis=1),  \n",
        "                                        target_names=le_Dense.classes_))"
      ],
      "metadata": {
        "id": "rtYzZAUpRUi5",
        "outputId": "07c87951-483f-4474-fc7d-dc15d30e5909",
        "colab": {
          "base_uri": "https://localhost:8080/"
        }
      },
      "execution_count": null,
      "outputs": [
        {
          "output_type": "stream",
          "name": "stdout",
          "text": [
            "Fold score (accuracy): 0.917960088691796\n",
            "              precision    recall  f1-score   support\n",
            "\n",
            "  Lungcancer       0.97      0.81      0.88       150\n",
            "      Normal       0.99      0.98      0.98       151\n",
            "Tuberculosis       0.82      0.97      0.89       150\n",
            "\n",
            "    accuracy                           0.92       451\n",
            "   macro avg       0.93      0.92      0.92       451\n",
            "weighted avg       0.93      0.92      0.92       451\n",
            "\n"
          ]
        }
      ]
    },
    {
      "cell_type": "markdown",
      "source": [
        "## 2) K-fold  -- DenseNet201\n",
        "\n",
        "### -->ACC = 0.87\n",
        "### -->เวลา 2959 นาที\n",
        "\n",
        "*   BS = 16\n",
        "*   fix weight & bias in layer 0-600\n",
        "*   activation=\"softmax\"\n",
        "*   learning_rate=0.0001\n",
        "*   epoch 30"
      ],
      "metadata": {
        "id": "7YtqPgbKO1M3"
      }
    },
    {
      "cell_type": "code",
      "source": [
        "train_img_Dense = []\n",
        "for ImageName in tqdm(data_train3['ImageName']):               # รัน ชื่อรูป ในไฟล์ data_test3\n",
        "    image_path = All_3class_dir +'/' + ImageName                   # ดึงรูปในโฟล์เดอร์มาทีละรูป\n",
        "    img = cv2.imread(image_path)                                            # อ่านรูป\n",
        "    img = cv2.resize(img, (224, 224))                                       #ขนาดของ input\n",
        "    train_img_Dense.append(img)\n",
        "\n",
        "data_Dense = np.array(train_img_Dense, dtype=\"float32\") / 255.0"
      ],
      "metadata": {
        "outputId": "57d45a26-9df2-4072-f152-06e19494529f",
        "colab": {
          "base_uri": "https://localhost:8080/"
        },
        "id": "xk0KHeVNO1M4"
      },
      "execution_count": null,
      "outputs": [
        {
          "output_type": "stream",
          "name": "stderr",
          "text": [
            "100%|██████████| 451/451 [00:05<00:00, 83.30it/s] \n"
          ]
        }
      ]
    },
    {
      "cell_type": "code",
      "source": [
        "labels_Dense = np.array(data_train3[['NameType']] )        \n",
        "labels_Dense.shape = (len(labels_Dense),) \n",
        "\n",
        "le_Dense = LabelEncoder()                                                                     \n",
        "labels_Dense = le_Dense.fit_transform(labels_Dense)                                         #จะแปลงชื่อ class เป็นตัวเลข 1, 2, 0 \n",
        "\n",
        "labels_Dense = to_categorical(labels_Dense, num_classes=3)                   #shape (180, 3) มีค่าเป็น  [0., 1., 0.]  กับ   [0., 0., 1.] กับ  [1., 0., 0.]"
      ],
      "metadata": {
        "id": "nSuv2WkqO1M5"
      },
      "execution_count": null,
      "outputs": []
    },
    {
      "cell_type": "code",
      "source": [
        "INIT_LR = 1e-1\n",
        "BS16 = 16\n",
        "EPOCHS = 50\n",
        "\n",
        "aug2 = ImageDataGenerator(\n",
        "\t\trotation_range=15,\t\t\t\t\t\t#องศาการหมุน\n",
        "\t\twidth_shift_range=0.1,\n",
        "\t\theight_shift_range=0.1,\n",
        "\t\tshear_range=0.15,\n",
        "\t\thorizontal_flip=True,\n",
        "\t\tfill_mode=\"nearest\")\n",
        "\n",
        "callback = tf.keras.callbacks.EarlyStopping(\n",
        "                monitor=\"val_accuracy\",\n",
        "                patience=3,\n",
        "                mode=\"max\" )"
      ],
      "metadata": {
        "id": "bShSNajhO1M5"
      },
      "execution_count": null,
      "outputs": []
    },
    {
      "cell_type": "code",
      "source": [
        "base_model_Dense = tf.keras.applications.DenseNet201(input_shape=(224, 224, 3), include_top=False, weights=\"imagenet\")\n",
        "len(base_model_Dense.layers)"
      ],
      "metadata": {
        "colab": {
          "base_uri": "https://localhost:8080/"
        },
        "outputId": "54530b26-e9e9-4aac-b10d-657cb65d00b0",
        "id": "z1FqkOZuO1M5"
      },
      "execution_count": null,
      "outputs": [
        {
          "output_type": "execute_result",
          "data": {
            "text/plain": [
              "707"
            ]
          },
          "metadata": {},
          "execution_count": 23
        }
      ]
    },
    {
      "cell_type": "code",
      "source": [
        "base_model_Dense.trainable = True\n",
        "for layer in base_model_Dense.layers[:600]:    #fix w & bias in layer 0-600\n",
        "    layer.trainable = False\n",
        "\n",
        "#Add custom head\n",
        "average_pooling_layer = tf.keras.layers.GlobalAveragePooling2D()(base_model_Dense.output)\n",
        "prediction_layer = tf.keras.layers.Dense(units=3, activation=\"softmax\")(average_pooling_layer)   # unit 3\n",
        "model_Dense2 = tf.keras.models.Model(inputs=base_model_Dense.input, outputs=prediction_layer)\n",
        "\n",
        "model_Dense2.compile(optimizer=tf.keras.optimizers.RMSprop(learning_rate=0.0001), loss=\"binary_crossentropy\", metrics=[\"accuracy\"])"
      ],
      "metadata": {
        "id": "cmmIv6zRO1M6"
      },
      "execution_count": null,
      "outputs": []
    },
    {
      "cell_type": "code",
      "source": [
        "kf_Dense2 = KFold(5, shuffle=True, random_state=40) \n",
        "\n",
        "oos_y2 = []\n",
        "oos_pred2 = []\n",
        "fold = 0\n",
        "\n",
        "for train, test in kf_Dense2.split(data_Dense):\n",
        "    fold+=1\n",
        "    print(f\"Fold #{fold}\")\n",
        "        \n",
        "    x_train_Dense2 = data_Dense[train]\n",
        "    y_train_Dense2 = labels_Dense[train]\n",
        "    x_test_Dense2 = data_Dense[test]\n",
        "    y_test_Dense2 = labels_Dense[test]\n",
        "\n",
        "    H_Dense2 = model_Dense2.fit( x=aug2.flow(x_train_Dense2, y_train_Dense2, batch_size=BS16),\n",
        "\t                                            validation_data=(x_test_Dense2, y_test_Dense2),\n",
        "\t                                            steps_per_epoch=len(x_train_Dense2) // BS16,\n",
        "\t                                            epochs=30,  callbacks = [callback])\n",
        "    \n",
        "    pred_Dense2 = model_Dense2.predict(x_test_Dense2)\n",
        "    \n",
        "    oos_y2.append(y_test_Dense2)\n",
        "    oos_pred2.append(pred_Dense2)  \n",
        "    print(classification_report(y_test_Dense2.argmax(axis=1),\t                #แสดง report ค่า acc, recall, ...\n",
        "                                        pred_Dense2.argmax(axis=1),  \n",
        "                                        target_names=le_Dense.classes_))\n",
        "\n",
        "#   score = metrics.accuracy_score(y_test3_Incep.argmax(axis=1),\t        #ค่า acc\n",
        "#                                               pred3_Incep.argmax(axis=1)\n",
        "#    print(f\"Fold score (accuracy): {score}\")\n",
        "\n",
        "#    print(confusion_matrix(testY3_Incep.argmax(axis=1),\t                       #แสดง confusion_matrix\n",
        "#                        pred3_Incep.argmax(axis=1) ) )"
      ],
      "metadata": {
        "colab": {
          "base_uri": "https://localhost:8080/"
        },
        "outputId": "c3ff512a-76bf-4689-e152-257c22008db8",
        "id": "w2mH8vhOO1M6"
      },
      "execution_count": null,
      "outputs": [
        {
          "output_type": "stream",
          "name": "stdout",
          "text": [
            "Fold #1\n",
            "Epoch 1/30\n",
            "22/22 [==============================] - 135s 5s/step - loss: 0.5737 - accuracy: 0.5581 - val_loss: 0.5526 - val_accuracy: 0.6154\n",
            "Epoch 2/30\n",
            "22/22 [==============================] - 116s 5s/step - loss: 0.4061 - accuracy: 0.7645 - val_loss: 0.4775 - val_accuracy: 0.6484\n",
            "Epoch 3/30\n",
            "22/22 [==============================] - 116s 5s/step - loss: 0.3414 - accuracy: 0.8052 - val_loss: 0.4230 - val_accuracy: 0.6923\n",
            "Epoch 4/30\n",
            "22/22 [==============================] - 115s 5s/step - loss: 0.3156 - accuracy: 0.8372 - val_loss: 0.3981 - val_accuracy: 0.6923\n",
            "Epoch 5/30\n",
            "22/22 [==============================] - 118s 5s/step - loss: 0.2713 - accuracy: 0.8523 - val_loss: 0.3834 - val_accuracy: 0.6923\n",
            "Epoch 6/30\n",
            "22/22 [==============================] - 116s 5s/step - loss: 0.2485 - accuracy: 0.8808 - val_loss: 0.4143 - val_accuracy: 0.6813\n",
            "              precision    recall  f1-score   support\n",
            "\n",
            "  Lungcancer       0.75      0.21      0.33        28\n",
            "      Normal       0.82      0.94      0.87        33\n",
            "Tuberculosis       0.56      0.83      0.67        30\n",
            "\n",
            "    accuracy                           0.68        91\n",
            "   macro avg       0.71      0.66      0.62        91\n",
            "weighted avg       0.71      0.68      0.64        91\n",
            "\n",
            "Fold #2\n",
            "Epoch 1/30\n",
            "22/22 [==============================] - 119s 5s/step - loss: 0.2486 - accuracy: 0.8667 - val_loss: 0.2359 - val_accuracy: 0.9222\n",
            "Epoch 2/30\n",
            "22/22 [==============================] - 119s 5s/step - loss: 0.2308 - accuracy: 0.8696 - val_loss: 0.2065 - val_accuracy: 0.9222\n",
            "Epoch 3/30\n",
            "22/22 [==============================] - 118s 6s/step - loss: 0.2022 - accuracy: 0.9072 - val_loss: 0.1997 - val_accuracy: 0.9222\n",
            "Epoch 4/30\n",
            "22/22 [==============================] - 118s 5s/step - loss: 0.1989 - accuracy: 0.8870 - val_loss: 0.1766 - val_accuracy: 0.9111\n",
            "              precision    recall  f1-score   support\n",
            "\n",
            "  Lungcancer       1.00      0.82      0.90        33\n",
            "      Normal       0.96      0.96      0.96        26\n",
            "Tuberculosis       0.81      0.97      0.88        31\n",
            "\n",
            "    accuracy                           0.91        90\n",
            "   macro avg       0.92      0.92      0.91        90\n",
            "weighted avg       0.92      0.91      0.91        90\n",
            "\n",
            "Fold #3\n",
            "Epoch 1/30\n",
            "22/22 [==============================] - 115s 5s/step - loss: 0.1969 - accuracy: 0.9043 - val_loss: 0.1617 - val_accuracy: 0.9333\n",
            "Epoch 2/30\n",
            "22/22 [==============================] - 119s 5s/step - loss: 0.1666 - accuracy: 0.9304 - val_loss: 0.1669 - val_accuracy: 0.9222\n",
            "Epoch 3/30\n",
            "22/22 [==============================] - 124s 6s/step - loss: 0.1587 - accuracy: 0.9275 - val_loss: 0.1870 - val_accuracy: 0.9222\n",
            "Epoch 4/30\n",
            "22/22 [==============================] - 125s 6s/step - loss: 0.1547 - accuracy: 0.9403 - val_loss: 0.1884 - val_accuracy: 0.9000\n",
            "              precision    recall  f1-score   support\n",
            "\n",
            "  Lungcancer       0.96      0.76      0.85        29\n",
            "      Normal       1.00      0.97      0.98        33\n",
            "Tuberculosis       0.77      0.96      0.86        28\n",
            "\n",
            "    accuracy                           0.90        90\n",
            "   macro avg       0.91      0.90      0.90        90\n",
            "weighted avg       0.91      0.90      0.90        90\n",
            "\n",
            "Fold #4\n",
            "Epoch 1/30\n",
            "22/22 [==============================] - 120s 5s/step - loss: 0.1623 - accuracy: 0.9217 - val_loss: 0.1391 - val_accuracy: 0.9333\n",
            "Epoch 2/30\n",
            "22/22 [==============================] - 124s 6s/step - loss: 0.1244 - accuracy: 0.9623 - val_loss: 0.1646 - val_accuracy: 0.9222\n",
            "Epoch 3/30\n",
            "22/22 [==============================] - 123s 6s/step - loss: 0.1176 - accuracy: 0.9536 - val_loss: 0.1772 - val_accuracy: 0.9000\n",
            "Epoch 4/30\n",
            "22/22 [==============================] - 123s 6s/step - loss: 0.0886 - accuracy: 0.9739 - val_loss: 0.1709 - val_accuracy: 0.9111\n",
            "              precision    recall  f1-score   support\n",
            "\n",
            "  Lungcancer       1.00      0.73      0.85        30\n",
            "      Normal       0.97      1.00      0.98        31\n",
            "Tuberculosis       0.81      1.00      0.89        29\n",
            "\n",
            "    accuracy                           0.91        90\n",
            "   macro avg       0.92      0.91      0.91        90\n",
            "weighted avg       0.93      0.91      0.91        90\n",
            "\n",
            "Fold #5\n",
            "Epoch 1/30\n",
            "22/22 [==============================] - 110s 5s/step - loss: 0.0996 - accuracy: 0.9681 - val_loss: 0.0731 - val_accuracy: 0.9778\n",
            "Epoch 2/30\n",
            "22/22 [==============================] - 112s 5s/step - loss: 0.1182 - accuracy: 0.9478 - val_loss: 0.1055 - val_accuracy: 0.9222\n",
            "Epoch 3/30\n",
            "22/22 [==============================] - 111s 5s/step - loss: 0.0849 - accuracy: 0.9739 - val_loss: 0.0916 - val_accuracy: 0.9444\n",
            "Epoch 4/30\n",
            "22/22 [==============================] - 114s 5s/step - loss: 0.0880 - accuracy: 0.9681 - val_loss: 0.1095 - val_accuracy: 0.9333\n",
            "              precision    recall  f1-score   support\n",
            "\n",
            "  Lungcancer       1.00      0.80      0.89        30\n",
            "      Normal       1.00      1.00      1.00        28\n",
            "Tuberculosis       0.84      1.00      0.91        32\n",
            "\n",
            "    accuracy                           0.93        90\n",
            "   macro avg       0.95      0.93      0.93        90\n",
            "weighted avg       0.94      0.93      0.93        90\n",
            "\n"
          ]
        }
      ]
    },
    {
      "cell_type": "code",
      "source": [
        "oos_y2 = np.concatenate(oos_y2)\n",
        "oos_pred2 = np.concatenate(oos_pred2)"
      ],
      "metadata": {
        "id": "ELT2-Vj2O1M6"
      },
      "execution_count": null,
      "outputs": []
    },
    {
      "cell_type": "code",
      "source": [
        "score = metrics.accuracy_score(oos_y2.argmax(axis=1),\t        #ค่า acc\n",
        "                                             oos_pred2.argmax(axis=1) )\n",
        "print(f\"Fold score (accuracy): {score}\")\n",
        "\n",
        "print(classification_report(oos_y2.argmax(axis=1),\t                #แสดง report ค่า acc, recall, ...\n",
        "                                        oos_pred2.argmax(axis=1),  \n",
        "                                        target_names=le_Dense.classes_))"
      ],
      "metadata": {
        "colab": {
          "base_uri": "https://localhost:8080/"
        },
        "outputId": "7d7c6762-d8c3-448d-a6ab-f34c696c59ac",
        "id": "AM6Y0Pz1O1M7"
      },
      "execution_count": null,
      "outputs": [
        {
          "output_type": "stream",
          "name": "stdout",
          "text": [
            "Fold score (accuracy): 0.8669623059866962\n",
            "              precision    recall  f1-score   support\n",
            "\n",
            "  Lungcancer       0.97      0.67      0.80       150\n",
            "      Normal       0.94      0.97      0.96       151\n",
            "Tuberculosis       0.75      0.95      0.84       150\n",
            "\n",
            "    accuracy                           0.87       451\n",
            "   macro avg       0.89      0.87      0.86       451\n",
            "weighted avg       0.89      0.87      0.86       451\n",
            "\n"
          ]
        }
      ]
    },
    {
      "cell_type": "markdown",
      "source": [
        "## 2.1) K-fold  -- DenseNet201  \n",
        "\n",
        "### -->ACC = 0.88\n",
        "### -->เวลา 4005.763 นาที\n",
        "\n",
        "*   BS = 16\n",
        "*   fix weight & bias in layer 0-600\n",
        "*   activation=\"sigmoid\"\n",
        "*   learning_rate=0.0001\n",
        "*   epoch 30"
      ],
      "metadata": {
        "id": "KOLfU80JlU9g"
      }
    },
    {
      "cell_type": "code",
      "source": [
        "train_img_Dense = []\n",
        "for ImageName in tqdm(data_train3['ImageName']):               # รัน ชื่อรูป ในไฟล์ data_test3\n",
        "    image_path = All_3class_dir +'/' + ImageName                   # ดึงรูปในโฟล์เดอร์มาทีละรูป\n",
        "    img = cv2.imread(image_path)                                            # อ่านรูป\n",
        "    img = cv2.resize(img, (224, 224))                                       #ขนาดของ input\n",
        "    train_img_Dense.append(img)\n",
        "\n",
        "data_Dense = np.array(train_img_Dense, dtype=\"float32\") / 255.0"
      ],
      "metadata": {
        "outputId": "6ec75383-637f-4464-d830-ec31081561b4",
        "colab": {
          "base_uri": "https://localhost:8080/"
        },
        "id": "EGY4YblwlU9x"
      },
      "execution_count": null,
      "outputs": [
        {
          "output_type": "stream",
          "name": "stderr",
          "text": [
            "100%|██████████| 451/451 [00:05<00:00, 80.41it/s] \n"
          ]
        }
      ]
    },
    {
      "cell_type": "code",
      "source": [
        "labels_Dense = np.array(data_train3[['NameType']] )        \n",
        "labels_Dense.shape = (len(labels_Dense),) \n",
        "\n",
        "le_Dense = LabelEncoder()                                                                     \n",
        "labels_Dense = le_Dense.fit_transform(labels_Dense)                                         #จะแปลงชื่อ class เป็นตัวเลข 1, 2, 0 \n",
        "\n",
        "labels_Dense = to_categorical(labels_Dense, num_classes=3)                   #shape (180, 3) มีค่าเป็น  [0., 1., 0.]  กับ   [0., 0., 1.] กับ  [1., 0., 0.]"
      ],
      "metadata": {
        "id": "TQ5QDVQVlU9z"
      },
      "execution_count": null,
      "outputs": []
    },
    {
      "cell_type": "code",
      "source": [
        "INIT_LR = 1e-1\n",
        "BS16 = 16\n",
        "EPOCHS = 50\n",
        "\n",
        "aug21 = ImageDataGenerator(\n",
        "\t\trotation_range=15,\t\t\t\t\t\t#องศาการหมุน\n",
        "\t\twidth_shift_range=0.1,\n",
        "\t\theight_shift_range=0.1,\n",
        "\t\tshear_range=0.15,\n",
        "\t\thorizontal_flip=True,\n",
        "\t\tfill_mode=\"nearest\")\n",
        "\n",
        "callback = tf.keras.callbacks.EarlyStopping(\n",
        "                monitor=\"val_accuracy\",\n",
        "                patience=3,\n",
        "                mode=\"max\" )"
      ],
      "metadata": {
        "id": "S8mzCkx0lU90"
      },
      "execution_count": null,
      "outputs": []
    },
    {
      "cell_type": "code",
      "source": [
        "base_model_Dense = tf.keras.applications.DenseNet201(input_shape=(224, 224, 3), include_top=False, weights=\"imagenet\")\n",
        "len(base_model_Dense.layers)"
      ],
      "metadata": {
        "id": "_yOBC6LllU91",
        "outputId": "880014c6-471c-424c-908f-aa2c0869aabf",
        "colab": {
          "base_uri": "https://localhost:8080/"
        }
      },
      "execution_count": null,
      "outputs": [
        {
          "output_type": "execute_result",
          "data": {
            "text/plain": [
              "707"
            ]
          },
          "metadata": {},
          "execution_count": 23
        }
      ]
    },
    {
      "cell_type": "code",
      "source": [
        "base_model_Dense.trainable = True\n",
        "for layer in base_model_Dense.layers[:600]:    #fix w & bias in layer 0-600\n",
        "    layer.trainable = False\n",
        "\n",
        "#Add custom head\n",
        "average_pooling_layer = tf.keras.layers.GlobalAveragePooling2D()(base_model_Dense.output)\n",
        "prediction_layer = tf.keras.layers.Dense(units=3, activation=\"sigmoid\")(average_pooling_layer)   # unit 3\n",
        "model_Dense21 = tf.keras.models.Model(inputs=base_model_Dense.input, outputs=prediction_layer)\n",
        "\n",
        "model_Dense21.compile(optimizer=tf.keras.optimizers.RMSprop(learning_rate=0.0001), loss=\"binary_crossentropy\", metrics=[\"accuracy\"])"
      ],
      "metadata": {
        "id": "xt9H2YkulU93"
      },
      "execution_count": null,
      "outputs": []
    },
    {
      "cell_type": "code",
      "source": [
        "kf_Dense21 = KFold(5, shuffle=True, random_state=40) \n",
        "\n",
        "oos_y21 = []\n",
        "oos_pred21 = []\n",
        "fold = 0\n",
        "\n",
        "for train, test in kf_Dense21.split(data_Dense):\n",
        "    fold+=1\n",
        "    print(f\"Fold #{fold}\")\n",
        "        \n",
        "    x_train_Dense21 = data_Dense[train]\n",
        "    y_train_Dense21 = labels_Dense[train]\n",
        "    x_test_Dense21 = data_Dense[test]\n",
        "    y_test_Dense21 = labels_Dense[test]\n",
        "\n",
        "    H_Dense21 = model_Dense21.fit( x=aug21.flow(x_train_Dense21, y_train_Dense21, batch_size=BS16),\n",
        "\t                                            validation_data=(x_test_Dense21, y_test_Dense21),\n",
        "\t                                            steps_per_epoch=len(x_train_Dense21) // BS16,\n",
        "\t                                            epochs=30,  callbacks = [callback])\n",
        "    \n",
        "    pred_Dense21 = model_Dense21.predict(x_test_Dense21)\n",
        "    \n",
        "    oos_y21.append(y_test_Dense21)\n",
        "    oos_pred21.append(pred_Dense21)  \n",
        "    print(classification_report(y_test_Dense21.argmax(axis=1),\t                #แสดง report ค่า acc, recall, ...\n",
        "                                        pred_Dense21.argmax(axis=1),  \n",
        "                                        target_names=le_Dense.classes_))\n",
        "\n",
        "#   score = metrics.accuracy_score(y_test3_Incep.argmax(axis=1),\t        #ค่า acc\n",
        "#                                               pred3_Incep.argmax(axis=1)\n",
        "#    print(f\"Fold score (accuracy): {score}\")\n",
        "\n",
        "#    print(confusion_matrix(testY3_Incep.argmax(axis=1),\t                       #แสดง confusion_matrix\n",
        "#                        pred3_Incep.argmax(axis=1) ) )"
      ],
      "metadata": {
        "id": "bC-J_abKlU94",
        "outputId": "c1ad516f-4ebd-4843-9cdc-2006044d7353",
        "colab": {
          "base_uri": "https://localhost:8080/"
        }
      },
      "execution_count": null,
      "outputs": [
        {
          "output_type": "stream",
          "name": "stdout",
          "text": [
            "Fold #1\n",
            "Epoch 1/30\n",
            "22/22 [==============================] - 139s 6s/step - loss: 0.5372 - accuracy: 0.6453 - val_loss: 0.5158 - val_accuracy: 0.6703\n",
            "Epoch 2/30\n",
            "22/22 [==============================] - 115s 5s/step - loss: 0.3991 - accuracy: 0.7558 - val_loss: 0.4614 - val_accuracy: 0.6923\n",
            "Epoch 3/30\n",
            "22/22 [==============================] - 115s 5s/step - loss: 0.3544 - accuracy: 0.8140 - val_loss: 0.4204 - val_accuracy: 0.6703\n",
            "Epoch 4/30\n",
            "22/22 [==============================] - 117s 5s/step - loss: 0.3118 - accuracy: 0.8081 - val_loss: 0.3988 - val_accuracy: 0.6813\n",
            "Epoch 5/30\n",
            "22/22 [==============================] - 117s 5s/step - loss: 0.2641 - accuracy: 0.8692 - val_loss: 0.3720 - val_accuracy: 0.7143\n",
            "Epoch 6/30\n",
            "22/22 [==============================] - 117s 5s/step - loss: 0.2643 - accuracy: 0.8605 - val_loss: 0.3792 - val_accuracy: 0.7033\n",
            "Epoch 7/30\n",
            "22/22 [==============================] - 117s 5s/step - loss: 0.2244 - accuracy: 0.8895 - val_loss: 0.3872 - val_accuracy: 0.6923\n",
            "Epoch 8/30\n",
            "22/22 [==============================] - 117s 5s/step - loss: 0.2157 - accuracy: 0.8837 - val_loss: 0.3704 - val_accuracy: 0.7473\n",
            "Epoch 9/30\n",
            "22/22 [==============================] - 116s 5s/step - loss: 0.1817 - accuracy: 0.9186 - val_loss: 0.3722 - val_accuracy: 0.7582\n",
            "Epoch 10/30\n",
            "22/22 [==============================] - 118s 5s/step - loss: 0.1862 - accuracy: 0.9099 - val_loss: 0.3348 - val_accuracy: 0.8132\n",
            "Epoch 11/30\n",
            "22/22 [==============================] - 117s 5s/step - loss: 0.1653 - accuracy: 0.9419 - val_loss: 0.3215 - val_accuracy: 0.7912\n",
            "Epoch 12/30\n",
            "22/22 [==============================] - 120s 5s/step - loss: 0.1528 - accuracy: 0.9506 - val_loss: 0.3612 - val_accuracy: 0.7473\n",
            "Epoch 13/30\n",
            "22/22 [==============================] - 118s 5s/step - loss: 0.1392 - accuracy: 0.9477 - val_loss: 0.3910 - val_accuracy: 0.7143\n",
            "              precision    recall  f1-score   support\n",
            "\n",
            "  Lungcancer       0.75      0.32      0.45        28\n",
            "      Normal       0.91      0.94      0.93        33\n",
            "Tuberculosis       0.56      0.83      0.67        30\n",
            "\n",
            "    accuracy                           0.71        91\n",
            "   macro avg       0.74      0.70      0.68        91\n",
            "weighted avg       0.74      0.71      0.69        91\n",
            "\n",
            "Fold #2\n",
            "Epoch 1/30\n",
            "22/22 [==============================] - 116s 5s/step - loss: 0.1914 - accuracy: 0.9072 - val_loss: 0.0998 - val_accuracy: 0.9667\n",
            "Epoch 2/30\n",
            "22/22 [==============================] - 119s 5s/step - loss: 0.1437 - accuracy: 0.9362 - val_loss: 0.1133 - val_accuracy: 0.9667\n",
            "Epoch 3/30\n",
            "22/22 [==============================] - 119s 5s/step - loss: 0.1517 - accuracy: 0.9275 - val_loss: 0.1167 - val_accuracy: 0.9444\n",
            "Epoch 4/30\n",
            "22/22 [==============================] - 119s 5s/step - loss: 0.1217 - accuracy: 0.9507 - val_loss: 0.1342 - val_accuracy: 0.9222\n",
            "              precision    recall  f1-score   support\n",
            "\n",
            "  Lungcancer       1.00      0.82      0.90        33\n",
            "      Normal       1.00      0.96      0.98        26\n",
            "Tuberculosis       0.82      1.00      0.90        31\n",
            "\n",
            "    accuracy                           0.92        90\n",
            "   macro avg       0.94      0.93      0.93        90\n",
            "weighted avg       0.94      0.92      0.92        90\n",
            "\n",
            "Fold #3\n",
            "Epoch 1/30\n",
            "22/22 [==============================] - 117s 5s/step - loss: 0.1157 - accuracy: 0.9652 - val_loss: 0.1003 - val_accuracy: 0.9444\n",
            "Epoch 2/30\n",
            "22/22 [==============================] - 120s 6s/step - loss: 0.0983 - accuracy: 0.9652 - val_loss: 0.0947 - val_accuracy: 0.9444\n",
            "Epoch 3/30\n",
            "22/22 [==============================] - 120s 5s/step - loss: 0.0996 - accuracy: 0.9681 - val_loss: 0.1157 - val_accuracy: 0.9444\n",
            "Epoch 4/30\n",
            "22/22 [==============================] - 119s 5s/step - loss: 0.0864 - accuracy: 0.9710 - val_loss: 0.1607 - val_accuracy: 0.9111\n",
            "              precision    recall  f1-score   support\n",
            "\n",
            "  Lungcancer       1.00      0.76      0.86        29\n",
            "      Normal       1.00      0.97      0.98        33\n",
            "Tuberculosis       0.78      1.00      0.88        28\n",
            "\n",
            "    accuracy                           0.91        90\n",
            "   macro avg       0.93      0.91      0.91        90\n",
            "weighted avg       0.93      0.91      0.91        90\n",
            "\n",
            "Fold #4\n",
            "Epoch 1/30\n",
            "22/22 [==============================] - 119s 5s/step - loss: 0.0704 - accuracy: 0.9826 - val_loss: 0.1190 - val_accuracy: 0.9444\n",
            "Epoch 2/30\n",
            "22/22 [==============================] - 127s 6s/step - loss: 0.0798 - accuracy: 0.9716 - val_loss: 0.0997 - val_accuracy: 0.9333\n",
            "Epoch 3/30\n",
            "22/22 [==============================] - 124s 6s/step - loss: 0.0737 - accuracy: 0.9797 - val_loss: 0.1052 - val_accuracy: 0.9333\n",
            "Epoch 4/30\n",
            "22/22 [==============================] - 127s 6s/step - loss: 0.0736 - accuracy: 0.9739 - val_loss: 0.2462 - val_accuracy: 0.8333\n",
            "              precision    recall  f1-score   support\n",
            "\n",
            "  Lungcancer       1.00      0.53      0.70        30\n",
            "      Normal       1.00      0.97      0.98        31\n",
            "Tuberculosis       0.66      1.00      0.79        29\n",
            "\n",
            "    accuracy                           0.83        90\n",
            "   macro avg       0.89      0.83      0.82        90\n",
            "weighted avg       0.89      0.83      0.83        90\n",
            "\n",
            "Fold #5\n",
            "Epoch 1/30\n",
            "22/22 [==============================] - 121s 6s/step - loss: 0.0874 - accuracy: 0.9710 - val_loss: 0.0422 - val_accuracy: 1.0000\n",
            "Epoch 2/30\n",
            "22/22 [==============================] - 118s 5s/step - loss: 0.0549 - accuracy: 0.9913 - val_loss: 0.0355 - val_accuracy: 0.9889\n",
            "Epoch 3/30\n",
            "22/22 [==============================] - 118s 5s/step - loss: 0.0472 - accuracy: 0.9942 - val_loss: 0.0431 - val_accuracy: 0.9889\n",
            "Epoch 4/30\n",
            "22/22 [==============================] - 121s 6s/step - loss: 0.0496 - accuracy: 0.9855 - val_loss: 0.0378 - val_accuracy: 1.0000\n",
            "              precision    recall  f1-score   support\n",
            "\n",
            "  Lungcancer       1.00      1.00      1.00        30\n",
            "      Normal       1.00      1.00      1.00        28\n",
            "Tuberculosis       1.00      1.00      1.00        32\n",
            "\n",
            "    accuracy                           1.00        90\n",
            "   macro avg       1.00      1.00      1.00        90\n",
            "weighted avg       1.00      1.00      1.00        90\n",
            "\n"
          ]
        }
      ]
    },
    {
      "cell_type": "code",
      "source": [
        "oos_y21 = np.concatenate(oos_y21)\n",
        "oos_pred21 = np.concatenate(oos_pred21)"
      ],
      "metadata": {
        "id": "4aXh2BHWlU94"
      },
      "execution_count": null,
      "outputs": []
    },
    {
      "cell_type": "code",
      "source": [
        "score21 = metrics.accuracy_score(oos_y21.argmax(axis=1),\t        #ค่า acc\n",
        "                                             oos_pred21.argmax(axis=1) )\n",
        "print(f\"Fold score (accuracy): {score21}\")\n",
        "\n",
        "print(classification_report(oos_y21.argmax(axis=1),\t                #แสดง report ค่า acc, recall, ...\n",
        "                                        oos_pred21.argmax(axis=1),  \n",
        "                                        target_names=le_Dense.classes_))"
      ],
      "metadata": {
        "id": "272zhdO7lU95",
        "outputId": "4486f670-c821-4e7b-a57a-f5ea79ec8451",
        "colab": {
          "base_uri": "https://localhost:8080/"
        }
      },
      "execution_count": null,
      "outputs": [
        {
          "output_type": "stream",
          "name": "stdout",
          "text": [
            "Fold score (accuracy): 0.8758314855875832\n",
            "              precision    recall  f1-score   support\n",
            "\n",
            "  Lungcancer       0.97      0.69      0.81       150\n",
            "      Normal       0.98      0.97      0.97       151\n",
            "Tuberculosis       0.74      0.97      0.84       150\n",
            "\n",
            "    accuracy                           0.88       451\n",
            "   macro avg       0.90      0.88      0.87       451\n",
            "weighted avg       0.90      0.88      0.87       451\n",
            "\n"
          ]
        }
      ]
    },
    {
      "cell_type": "markdown",
      "source": [
        "## 3) K-fold  -- DenseNet201\n",
        "\n",
        "### -->ACC =  0.89\n",
        "### -->เวลา 3762 วินาที\n",
        "\n",
        "*   BS = 32\n",
        "*   fix weight & bias in layer 0-600\n",
        "*   activation=\"softmax\"\n",
        "*   learning_rate=0.0001\n",
        "*   epoch 30"
      ],
      "metadata": {
        "id": "I-ib--S_O1M7"
      }
    },
    {
      "cell_type": "code",
      "source": [
        "train_img_Dense = []\n",
        "for ImageName in tqdm(data_train3['ImageName']):               # รัน ชื่อรูป ในไฟล์ data_test3\n",
        "    image_path = All_3class_dir +'/' + ImageName                   # ดึงรูปในโฟล์เดอร์มาทีละรูป\n",
        "    img = cv2.imread(image_path)                                            # อ่านรูป\n",
        "    img = cv2.resize(img, (224, 224))                                       #ขนาดของ input\n",
        "    train_img_Dense.append(img)\n",
        "\n",
        "data_Dense = np.array(train_img_Dense, dtype=\"float32\") / 255.0"
      ],
      "metadata": {
        "outputId": "ae7be0ed-0158-4fd9-eaf0-4a2b900ea6e5",
        "colab": {
          "base_uri": "https://localhost:8080/"
        },
        "id": "8Wm3aAggO1M7"
      },
      "execution_count": null,
      "outputs": [
        {
          "output_type": "stream",
          "name": "stderr",
          "text": [
            "100%|██████████| 451/451 [00:05<00:00, 82.46it/s] \n"
          ]
        }
      ]
    },
    {
      "cell_type": "code",
      "source": [
        "labels_Dense = np.array(data_train3[['NameType']] )        \n",
        "labels_Dense.shape = (len(labels_Dense),) \n",
        "\n",
        "le_Dense = LabelEncoder()                                                                     \n",
        "labels_Dense = le_Dense.fit_transform(labels_Dense)                                         #จะแปลงชื่อ class เป็นตัวเลข 1, 2, 0 \n",
        "\n",
        "labels_Dense = to_categorical(labels_Dense, num_classes=3)                   #shape (180, 3) มีค่าเป็น  [0., 1., 0.]  กับ   [0., 0., 1.] กับ  [1., 0., 0.]"
      ],
      "metadata": {
        "id": "NslmOPDmO1M7"
      },
      "execution_count": null,
      "outputs": []
    },
    {
      "cell_type": "code",
      "source": [
        "INIT_LR = 1e-1\n",
        "BS32 = 32\n",
        "EPOCHS = 50\n",
        "\n",
        "aug3 = ImageDataGenerator(\n",
        "\t\trotation_range=15,\t\t\t\t\t\t#องศาการหมุน\n",
        "\t\twidth_shift_range=0.1,\n",
        "\t\theight_shift_range=0.1,\n",
        "\t\tshear_range=0.15,\n",
        "\t\thorizontal_flip=True,\n",
        "\t\tfill_mode=\"nearest\")\n",
        "\n",
        "callback = tf.keras.callbacks.EarlyStopping(\n",
        "                monitor=\"val_accuracy\",\n",
        "                patience=3,\n",
        "                mode=\"max\" )"
      ],
      "metadata": {
        "id": "RVJKvYgEO1M8"
      },
      "execution_count": null,
      "outputs": []
    },
    {
      "cell_type": "code",
      "source": [
        "base_model_Dense = tf.keras.applications.DenseNet201(input_shape=(224, 224, 3), include_top=False, weights=\"imagenet\")\n",
        "len(base_model_Dense.layers)"
      ],
      "metadata": {
        "colab": {
          "base_uri": "https://localhost:8080/"
        },
        "outputId": "7caa53e2-50af-4bd2-f45a-067fce42680e",
        "id": "Kq0AjWbaO1M8"
      },
      "execution_count": null,
      "outputs": [
        {
          "output_type": "execute_result",
          "data": {
            "text/plain": [
              "707"
            ]
          },
          "metadata": {},
          "execution_count": 31
        }
      ]
    },
    {
      "cell_type": "code",
      "source": [
        "base_model_Dense.trainable = True\n",
        "for layer in base_model_Dense.layers[:600]:    #fix w & bias in layer 0-600\n",
        "    layer.trainable = False\n",
        "\n",
        "#Add custom head\n",
        "average_pooling_layer = tf.keras.layers.GlobalAveragePooling2D()(base_model_Dense.output)\n",
        "prediction_layer = tf.keras.layers.Dense(units=3, activation=\"softmax\")(average_pooling_layer)   # unit 3\n",
        "model_Dense3 = tf.keras.models.Model(inputs=base_model_Dense.input, outputs=prediction_layer)\n",
        "\n",
        "model_Dense3.compile(optimizer=tf.keras.optimizers.RMSprop(learning_rate=0.0001), loss=\"binary_crossentropy\", metrics=[\"accuracy\"])"
      ],
      "metadata": {
        "id": "mCQH5ziIO1M8"
      },
      "execution_count": null,
      "outputs": []
    },
    {
      "cell_type": "code",
      "source": [
        "kf_Dense3 = KFold(5, shuffle=True, random_state=40) \n",
        "\n",
        "oos_y3 = []\n",
        "oos_pred3 = []\n",
        "fold = 0\n",
        "\n",
        "for train, test in kf_Dense3.split(data_Dense):\n",
        "    fold+=1\n",
        "    print(f\"Fold #{fold}\")\n",
        "        \n",
        "    x_train_Dense3 = data_Dense[train]\n",
        "    y_train_Dense3 = labels_Dense[train]\n",
        "    x_test_Dense3 = data_Dense[test]\n",
        "    y_test_Dense3 = labels_Dense[test]\n",
        "\n",
        "    H_Dense3 = model_Dense3.fit( x=aug3.flow(x_train_Dense3, y_train_Dense3, batch_size=BS32),\n",
        "\t                                            validation_data=(x_test_Dense3, y_test_Dense3),\n",
        "\t                                            steps_per_epoch=len(x_train_Dense3) // BS32,\n",
        "\t                                            epochs=30,  callbacks = [callback])\n",
        "    \n",
        "    pred_Dense3 = model_Dense3.predict(x_test_Dense3)\n",
        "    \n",
        "    oos_y3.append(y_test_Dense3)\n",
        "    oos_pred3.append(pred_Dense3)  \n",
        "    print(classification_report(y_test_Dense3.argmax(axis=1),\t                #แสดง report ค่า acc, recall, ...\n",
        "                                        pred_Dense3.argmax(axis=1),  \n",
        "                                        target_names=le_Dense.classes_))\n",
        "\n",
        "#   score = metrics.accuracy_score(y_test3_Incep.argmax(axis=1),\t        #ค่า acc\n",
        "#                                               pred3_Incep.argmax(axis=1)\n",
        "#    print(f\"Fold score (accuracy): {score}\")\n",
        "\n",
        "#    print(confusion_matrix(testY3_Incep.argmax(axis=1),\t                       #แสดง confusion_matrix\n",
        "#                        pred3_Incep.argmax(axis=1) ) )"
      ],
      "metadata": {
        "colab": {
          "base_uri": "https://localhost:8080/"
        },
        "outputId": "bd67639a-de31-440e-afab-8d989f6bbf79",
        "id": "BPpRMXDMO1M8"
      },
      "execution_count": null,
      "outputs": [
        {
          "output_type": "stream",
          "name": "stdout",
          "text": [
            "Fold #1\n",
            "Epoch 1/30\n",
            "11/11 [==============================] - 127s 10s/step - loss: 0.5186 - accuracy: 0.6463 - val_loss: 0.4981 - val_accuracy: 0.6374\n",
            "Epoch 2/30\n",
            "11/11 [==============================] - 107s 10s/step - loss: 0.4018 - accuracy: 0.7409 - val_loss: 0.4807 - val_accuracy: 0.6154\n",
            "Epoch 3/30\n",
            "11/11 [==============================] - 109s 10s/step - loss: 0.3581 - accuracy: 0.7957 - val_loss: 0.4455 - val_accuracy: 0.6813\n",
            "Epoch 4/30\n",
            "11/11 [==============================] - 108s 10s/step - loss: 0.3404 - accuracy: 0.8079 - val_loss: 0.4243 - val_accuracy: 0.7143\n",
            "Epoch 5/30\n",
            "11/11 [==============================] - 108s 10s/step - loss: 0.2998 - accuracy: 0.8598 - val_loss: 0.3962 - val_accuracy: 0.7363\n",
            "Epoch 6/30\n",
            "11/11 [==============================] - 107s 10s/step - loss: 0.2769 - accuracy: 0.8750 - val_loss: 0.3835 - val_accuracy: 0.7363\n",
            "Epoch 7/30\n",
            "11/11 [==============================] - 114s 10s/step - loss: 0.2660 - accuracy: 0.8628 - val_loss: 0.3695 - val_accuracy: 0.7582\n",
            "Epoch 8/30\n",
            "11/11 [==============================] - 111s 10s/step - loss: 0.2348 - accuracy: 0.9055 - val_loss: 0.3696 - val_accuracy: 0.7363\n",
            "Epoch 9/30\n",
            "11/11 [==============================] - 112s 10s/step - loss: 0.2234 - accuracy: 0.9177 - val_loss: 0.3600 - val_accuracy: 0.7253\n",
            "Epoch 10/30\n",
            "11/11 [==============================] - 112s 10s/step - loss: 0.2089 - accuracy: 0.9116 - val_loss: 0.3479 - val_accuracy: 0.7473\n",
            "              precision    recall  f1-score   support\n",
            "\n",
            "  Lungcancer       0.86      0.43      0.57        28\n",
            "      Normal       0.80      0.97      0.88        33\n",
            "Tuberculosis       0.65      0.80      0.72        30\n",
            "\n",
            "    accuracy                           0.75        91\n",
            "   macro avg       0.77      0.73      0.72        91\n",
            "weighted avg       0.77      0.75      0.73        91\n",
            "\n",
            "Fold #2\n",
            "Epoch 1/30\n",
            "11/11 [==============================] - 109s 10s/step - loss: 0.2103 - accuracy: 0.8967 - val_loss: 0.1984 - val_accuracy: 0.9333\n",
            "Epoch 2/30\n",
            "11/11 [==============================] - 115s 11s/step - loss: 0.1952 - accuracy: 0.9062 - val_loss: 0.1931 - val_accuracy: 0.9333\n",
            "Epoch 3/30\n",
            "11/11 [==============================] - 109s 10s/step - loss: 0.1784 - accuracy: 0.9271 - val_loss: 0.1962 - val_accuracy: 0.9000\n",
            "Epoch 4/30\n",
            "11/11 [==============================] - 109s 10s/step - loss: 0.1799 - accuracy: 0.9149 - val_loss: 0.1864 - val_accuracy: 0.9333\n",
            "              precision    recall  f1-score   support\n",
            "\n",
            "  Lungcancer       0.97      0.88      0.92        33\n",
            "      Normal       0.96      1.00      0.98        26\n",
            "Tuberculosis       0.88      0.94      0.91        31\n",
            "\n",
            "    accuracy                           0.93        90\n",
            "   macro avg       0.94      0.94      0.94        90\n",
            "weighted avg       0.94      0.93      0.93        90\n",
            "\n",
            "Fold #3\n",
            "Epoch 1/30\n",
            "11/11 [==============================] - 109s 10s/step - loss: 0.1557 - accuracy: 0.9483 - val_loss: 0.1752 - val_accuracy: 0.9111\n",
            "Epoch 2/30\n",
            "11/11 [==============================] - 109s 10s/step - loss: 0.1585 - accuracy: 0.9271 - val_loss: 0.1610 - val_accuracy: 0.9111\n",
            "Epoch 3/30\n",
            "11/11 [==============================] - 110s 10s/step - loss: 0.1569 - accuracy: 0.9574 - val_loss: 0.1615 - val_accuracy: 0.9111\n",
            "Epoch 4/30\n",
            "11/11 [==============================] - 109s 10s/step - loss: 0.1318 - accuracy: 0.9605 - val_loss: 0.1721 - val_accuracy: 0.9000\n",
            "              precision    recall  f1-score   support\n",
            "\n",
            "  Lungcancer       0.96      0.79      0.87        29\n",
            "      Normal       0.87      1.00      0.93        33\n",
            "Tuberculosis       0.89      0.89      0.89        28\n",
            "\n",
            "    accuracy                           0.90        90\n",
            "   macro avg       0.91      0.90      0.90        90\n",
            "weighted avg       0.90      0.90      0.90        90\n",
            "\n",
            "Fold #4\n",
            "Epoch 1/30\n",
            "11/11 [==============================] - 109s 11s/step - loss: 0.1285 - accuracy: 0.9453 - val_loss: 0.1257 - val_accuracy: 0.9444\n",
            "Epoch 2/30\n",
            "11/11 [==============================] - 108s 10s/step - loss: 0.1314 - accuracy: 0.9483 - val_loss: 0.1210 - val_accuracy: 0.9222\n",
            "Epoch 3/30\n",
            "11/11 [==============================] - 108s 10s/step - loss: 0.1067 - accuracy: 0.9726 - val_loss: 0.1241 - val_accuracy: 0.9111\n",
            "Epoch 4/30\n",
            "11/11 [==============================] - 109s 10s/step - loss: 0.1049 - accuracy: 0.9574 - val_loss: 0.1508 - val_accuracy: 0.9000\n",
            "              precision    recall  f1-score   support\n",
            "\n",
            "  Lungcancer       1.00      0.73      0.85        30\n",
            "      Normal       1.00      0.97      0.98        31\n",
            "Tuberculosis       0.76      1.00      0.87        29\n",
            "\n",
            "    accuracy                           0.90        90\n",
            "   macro avg       0.92      0.90      0.90        90\n",
            "weighted avg       0.92      0.90      0.90        90\n",
            "\n",
            "Fold #5\n",
            "Epoch 1/30\n",
            "11/11 [==============================] - 108s 10s/step - loss: 0.1067 - accuracy: 0.9666 - val_loss: 0.0938 - val_accuracy: 0.9778\n",
            "Epoch 2/30\n",
            "11/11 [==============================] - 109s 11s/step - loss: 0.1030 - accuracy: 0.9726 - val_loss: 0.0820 - val_accuracy: 0.9889\n",
            "Epoch 3/30\n",
            "11/11 [==============================] - 111s 10s/step - loss: 0.0783 - accuracy: 0.9726 - val_loss: 0.0951 - val_accuracy: 0.9667\n",
            "Epoch 4/30\n",
            "11/11 [==============================] - 112s 11s/step - loss: 0.0924 - accuracy: 0.9635 - val_loss: 0.1000 - val_accuracy: 0.9556\n",
            "Epoch 5/30\n",
            "11/11 [==============================] - 114s 10s/step - loss: 0.0617 - accuracy: 0.9939 - val_loss: 0.0924 - val_accuracy: 0.9556\n",
            "              precision    recall  f1-score   support\n",
            "\n",
            "  Lungcancer       1.00      0.87      0.93        30\n",
            "      Normal       1.00      1.00      1.00        28\n",
            "Tuberculosis       0.89      1.00      0.94        32\n",
            "\n",
            "    accuracy                           0.96        90\n",
            "   macro avg       0.96      0.96      0.96        90\n",
            "weighted avg       0.96      0.96      0.96        90\n",
            "\n"
          ]
        }
      ]
    },
    {
      "cell_type": "code",
      "source": [
        "oos_y3 = np.concatenate(oos_y3)\n",
        "oos_pred3 = np.concatenate(oos_pred3)"
      ],
      "metadata": {
        "id": "asI7zeWPO1M9"
      },
      "execution_count": null,
      "outputs": []
    },
    {
      "cell_type": "code",
      "source": [
        "score = metrics.accuracy_score(oos_y3.argmax(axis=1),\t        #ค่า acc\n",
        "                                             oos_pred3.argmax(axis=1) )\n",
        "print(f\"Fold score (accuracy): {score}\")\n",
        "\n",
        "print(classification_report(oos_y3.argmax(axis=1),\t                #แสดง report ค่า acc, recall, ...\n",
        "                                        oos_pred3.argmax(axis=1),  \n",
        "                                        target_names=le_Dense.classes_))"
      ],
      "metadata": {
        "colab": {
          "base_uri": "https://localhost:8080/"
        },
        "outputId": "5e50167a-a91a-474e-ee65-c68355dabba6",
        "id": "IzKHn5KkO1M9"
      },
      "execution_count": null,
      "outputs": [
        {
          "output_type": "stream",
          "name": "stdout",
          "text": [
            "Fold score (accuracy): 0.8869179600886918\n",
            "              precision    recall  f1-score   support\n",
            "\n",
            "  Lungcancer       0.97      0.75      0.84       150\n",
            "      Normal       0.91      0.99      0.95       151\n",
            "Tuberculosis       0.81      0.93      0.86       150\n",
            "\n",
            "    accuracy                           0.89       451\n",
            "   macro avg       0.90      0.89      0.88       451\n",
            "weighted avg       0.90      0.89      0.88       451\n",
            "\n"
          ]
        }
      ]
    },
    {
      "cell_type": "markdown",
      "source": [
        "## 3.1) K-fold  -- DenseNet201\n",
        "\n",
        "### -->ACC = 0.86\n",
        "### -->เวลา 2582 วินาที\n",
        "\n",
        "*   BS = 32\n",
        "*   fix weight & bias in layer 0-600\n",
        "*   activation=\"sigmoid\"\n",
        "*   learning_rate=0.0001\n",
        "*   epoch 30"
      ],
      "metadata": {
        "id": "NFkU80Vq-q1q"
      }
    },
    {
      "cell_type": "code",
      "source": [
        "train_img_Dense = []\n",
        "for ImageName in tqdm(data_train3['ImageName']):               # รัน ชื่อรูป ในไฟล์ data_test3\n",
        "    image_path = All_3class_dir +'/' + ImageName                   # ดึงรูปในโฟล์เดอร์มาทีละรูป\n",
        "    img = cv2.imread(image_path)                                            # อ่านรูป\n",
        "    img = cv2.resize(img, (224, 224))                                       #ขนาดของ input\n",
        "    train_img_Dense.append(img)\n",
        "\n",
        "data_Dense = np.array(train_img_Dense, dtype=\"float32\") / 255.0"
      ],
      "metadata": {
        "outputId": "338ac418-a2aa-4107-fdcf-c23a41d17358",
        "colab": {
          "base_uri": "https://localhost:8080/"
        },
        "id": "qb-UYC07-q1z"
      },
      "execution_count": null,
      "outputs": [
        {
          "output_type": "stream",
          "name": "stderr",
          "text": [
            "100%|██████████| 451/451 [04:08<00:00,  1.81it/s]\n"
          ]
        }
      ]
    },
    {
      "cell_type": "code",
      "source": [
        "labels_Dense = np.array(data_train3[['NameType']] )        \n",
        "labels_Dense.shape = (len(labels_Dense),) \n",
        "\n",
        "le_Dense = LabelEncoder()                                                                     \n",
        "labels_Dense = le_Dense.fit_transform(labels_Dense)                                         #จะแปลงชื่อ class เป็นตัวเลข 1, 2, 0 \n",
        "\n",
        "labels_Dense = to_categorical(labels_Dense, num_classes=3)                   #shape (180, 3) มีค่าเป็น  [0., 1., 0.]  กับ   [0., 0., 1.] กับ  [1., 0., 0.]"
      ],
      "metadata": {
        "id": "DM0ieSH5-q1z"
      },
      "execution_count": null,
      "outputs": []
    },
    {
      "cell_type": "code",
      "source": [
        "INIT_LR = 1e-1\n",
        "BS32 = 32\n",
        "EPOCHS = 50\n",
        "\n",
        "aug31 = ImageDataGenerator(\n",
        "\t\trotation_range=15,\t\t\t\t\t\t#องศาการหมุน\n",
        "\t\twidth_shift_range=0.1,\n",
        "\t\theight_shift_range=0.1,\n",
        "\t\tshear_range=0.15,\n",
        "\t\thorizontal_flip=True,\n",
        "\t\tfill_mode=\"nearest\")\n",
        "\n",
        "callback = tf.keras.callbacks.EarlyStopping(\n",
        "                monitor=\"val_accuracy\",\n",
        "                patience=3,\n",
        "                mode=\"max\" )"
      ],
      "metadata": {
        "id": "TWhEPKtp-q1z"
      },
      "execution_count": null,
      "outputs": []
    },
    {
      "cell_type": "code",
      "source": [
        "base_model_Dense = tf.keras.applications.DenseNet201(input_shape=(224, 224, 3), include_top=False, weights=\"imagenet\")\n",
        "len(base_model_Dense.layers)"
      ],
      "metadata": {
        "id": "ovACgDXz-q1z",
        "outputId": "8577a033-3f01-4812-fcfa-34c4ed4911d0",
        "colab": {
          "base_uri": "https://localhost:8080/"
        }
      },
      "execution_count": null,
      "outputs": [
        {
          "output_type": "stream",
          "name": "stdout",
          "text": [
            "Downloading data from https://storage.googleapis.com/tensorflow/keras-applications/densenet/densenet201_weights_tf_dim_ordering_tf_kernels_notop.h5\n",
            "74842112/74836368 [==============================] - 1s 0us/step\n",
            "74850304/74836368 [==============================] - 1s 0us/step\n"
          ]
        },
        {
          "output_type": "execute_result",
          "data": {
            "text/plain": [
              "707"
            ]
          },
          "metadata": {},
          "execution_count": 15
        }
      ]
    },
    {
      "cell_type": "code",
      "source": [
        "base_model_Dense.trainable = True\n",
        "for layer in base_model_Dense.layers[:600]:    #fix w & bias in layer 0-600\n",
        "    layer.trainable = False\n",
        "\n",
        "#Add custom head\n",
        "average_pooling_layer = tf.keras.layers.GlobalAveragePooling2D()(base_model_Dense.output)\n",
        "prediction_layer = tf.keras.layers.Dense(units=3, activation=\"sigmoid\")(average_pooling_layer)   # unit 3\n",
        "model_Dense31 = tf.keras.models.Model(inputs=base_model_Dense.input, outputs=prediction_layer)\n",
        "\n",
        "model_Dense31.compile(optimizer=tf.keras.optimizers.RMSprop(learning_rate=0.0001), loss=\"binary_crossentropy\", metrics=[\"accuracy\"])"
      ],
      "metadata": {
        "id": "kQaJzevE-q10"
      },
      "execution_count": null,
      "outputs": []
    },
    {
      "cell_type": "code",
      "source": [
        "kf_Dense31 = KFold(5, shuffle=True, random_state=40) \n",
        "\n",
        "oos_y31 = []\n",
        "oos_pred31 = []\n",
        "fold = 0\n",
        "\n",
        "for train, test in kf_Dense31.split(data_Dense):\n",
        "    fold+=1\n",
        "    print(f\"Fold #{fold}\")\n",
        "        \n",
        "    x_train_Dense31 = data_Dense[train]\n",
        "    y_train_Dense31 = labels_Dense[train]\n",
        "    x_test_Dense31 = data_Dense[test]\n",
        "    y_test_Dense31 = labels_Dense[test]\n",
        "\n",
        "    H_Dense31 = model_Dense31.fit( x=aug31.flow(x_train_Dense31, y_train_Dense31, batch_size=BS32),\n",
        "\t                                            validation_data=(x_test_Dense31, y_test_Dense31),\n",
        "\t                                            steps_per_epoch=len(x_train_Dense31) // BS32,\n",
        "\t                                            epochs=30,  callbacks = [callback])\n",
        "    \n",
        "    pred_Dense31 = model_Dense31.predict(x_test_Dense31)\n",
        "    \n",
        "    oos_y31.append(y_test_Dense31)\n",
        "    oos_pred31.append(pred_Dense31)  \n",
        "    print(classification_report(y_test_Dense31.argmax(axis=1),\t                #แสดง report ค่า acc, recall, ...\n",
        "                                        pred_Dense31.argmax(axis=1),  \n",
        "                                        target_names=le_Dense.classes_))\n",
        "\n",
        "#   score = metrics.accuracy_score(y_test3_Incep.argmax(axis=1),\t        #ค่า acc\n",
        "#                                               pred3_Incep.argmax(axis=1)\n",
        "#    print(f\"Fold score (accuracy): {score}\")\n",
        "\n",
        "#    print(confusion_matrix(testY3_Incep.argmax(axis=1),\t                       #แสดง confusion_matrix\n",
        "#                        pred3_Incep.argmax(axis=1) ) )"
      ],
      "metadata": {
        "id": "rSzxWRyO-q10",
        "outputId": "99065093-0d85-416f-ec4c-704e2bba75be",
        "colab": {
          "base_uri": "https://localhost:8080/"
        }
      },
      "execution_count": null,
      "outputs": [
        {
          "output_type": "stream",
          "name": "stdout",
          "text": [
            "Fold #1\n",
            "Epoch 1/30\n",
            "11/11 [==============================] - 90s 7s/step - loss: 0.5900 - accuracy: 0.5305 - val_loss: 0.5063 - val_accuracy: 0.6923\n",
            "Epoch 2/30\n",
            "11/11 [==============================] - 75s 7s/step - loss: 0.4283 - accuracy: 0.7500 - val_loss: 0.4602 - val_accuracy: 0.7363\n",
            "Epoch 3/30\n",
            "11/11 [==============================] - 75s 7s/step - loss: 0.3727 - accuracy: 0.7744 - val_loss: 0.4248 - val_accuracy: 0.7473\n",
            "Epoch 4/30\n",
            "11/11 [==============================] - 75s 7s/step - loss: 0.3294 - accuracy: 0.8201 - val_loss: 0.4080 - val_accuracy: 0.7473\n",
            "Epoch 5/30\n",
            "11/11 [==============================] - 76s 7s/step - loss: 0.3032 - accuracy: 0.8354 - val_loss: 0.3939 - val_accuracy: 0.6923\n",
            "Epoch 6/30\n",
            "11/11 [==============================] - 76s 7s/step - loss: 0.2886 - accuracy: 0.8476 - val_loss: 0.3915 - val_accuracy: 0.6923\n",
            "              precision    recall  f1-score   support\n",
            "\n",
            "  Lungcancer       0.75      0.32      0.45        28\n",
            "      Normal       0.75      1.00      0.86        33\n",
            "Tuberculosis       0.60      0.70      0.65        30\n",
            "\n",
            "    accuracy                           0.69        91\n",
            "   macro avg       0.70      0.67      0.65        91\n",
            "weighted avg       0.70      0.69      0.66        91\n",
            "\n",
            "Fold #2\n",
            "Epoch 1/30\n",
            "11/11 [==============================] - 77s 7s/step - loss: 0.2779 - accuracy: 0.8571 - val_loss: 0.2787 - val_accuracy: 0.8889\n",
            "Epoch 2/30\n",
            "11/11 [==============================] - 77s 7s/step - loss: 0.2652 - accuracy: 0.8693 - val_loss: 0.2708 - val_accuracy: 0.8667\n",
            "Epoch 3/30\n",
            "11/11 [==============================] - 78s 7s/step - loss: 0.2425 - accuracy: 0.8845 - val_loss: 0.2595 - val_accuracy: 0.8889\n",
            "Epoch 4/30\n",
            "11/11 [==============================] - 78s 7s/step - loss: 0.2225 - accuracy: 0.8906 - val_loss: 0.2384 - val_accuracy: 0.9111\n",
            "Epoch 5/30\n",
            "11/11 [==============================] - 78s 7s/step - loss: 0.2259 - accuracy: 0.8693 - val_loss: 0.2374 - val_accuracy: 0.9111\n",
            "Epoch 6/30\n",
            "11/11 [==============================] - 78s 7s/step - loss: 0.1922 - accuracy: 0.9392 - val_loss: 0.2449 - val_accuracy: 0.8444\n",
            "Epoch 7/30\n",
            "11/11 [==============================] - 78s 7s/step - loss: 0.1834 - accuracy: 0.9088 - val_loss: 0.2330 - val_accuracy: 0.8778\n",
            "              precision    recall  f1-score   support\n",
            "\n",
            "  Lungcancer       0.96      0.82      0.89        33\n",
            "      Normal       0.84      1.00      0.91        26\n",
            "Tuberculosis       0.84      0.84      0.84        31\n",
            "\n",
            "    accuracy                           0.88        90\n",
            "   macro avg       0.88      0.89      0.88        90\n",
            "weighted avg       0.88      0.88      0.88        90\n",
            "\n",
            "Fold #3\n",
            "Epoch 1/30\n",
            "11/11 [==============================] - 79s 7s/step - loss: 0.1703 - accuracy: 0.9392 - val_loss: 0.2093 - val_accuracy: 0.8889\n",
            "Epoch 2/30\n",
            "11/11 [==============================] - 78s 8s/step - loss: 0.1657 - accuracy: 0.9331 - val_loss: 0.1958 - val_accuracy: 0.8889\n",
            "Epoch 3/30\n",
            "11/11 [==============================] - 81s 8s/step - loss: 0.1373 - accuracy: 0.9422 - val_loss: 0.1936 - val_accuracy: 0.8889\n",
            "Epoch 4/30\n",
            "11/11 [==============================] - 80s 7s/step - loss: 0.1425 - accuracy: 0.9574 - val_loss: 0.2055 - val_accuracy: 0.8889\n",
            "              precision    recall  f1-score   support\n",
            "\n",
            "  Lungcancer       0.96      0.76      0.85        29\n",
            "      Normal       0.89      1.00      0.94        33\n",
            "Tuberculosis       0.83      0.89      0.86        28\n",
            "\n",
            "    accuracy                           0.89        90\n",
            "   macro avg       0.89      0.88      0.88        90\n",
            "weighted avg       0.89      0.89      0.89        90\n",
            "\n",
            "Fold #4\n",
            "Epoch 1/30\n",
            "11/11 [==============================] - 82s 8s/step - loss: 0.1526 - accuracy: 0.9210 - val_loss: 0.1611 - val_accuracy: 0.9222\n",
            "Epoch 2/30\n",
            "11/11 [==============================] - 84s 8s/step - loss: 0.1364 - accuracy: 0.9422 - val_loss: 0.1562 - val_accuracy: 0.9333\n",
            "Epoch 3/30\n",
            "11/11 [==============================] - 83s 8s/step - loss: 0.1088 - accuracy: 0.9726 - val_loss: 0.1548 - val_accuracy: 0.9444\n",
            "Epoch 4/30\n",
            "11/11 [==============================] - 82s 8s/step - loss: 0.1014 - accuracy: 0.9696 - val_loss: 0.1541 - val_accuracy: 0.9333\n",
            "Epoch 5/30\n",
            "11/11 [==============================] - 81s 8s/step - loss: 0.1043 - accuracy: 0.9605 - val_loss: 0.1629 - val_accuracy: 0.9333\n",
            "Epoch 6/30\n",
            "11/11 [==============================] - 81s 7s/step - loss: 0.0945 - accuracy: 0.9726 - val_loss: 0.1869 - val_accuracy: 0.9000\n",
            "              precision    recall  f1-score   support\n",
            "\n",
            "  Lungcancer       1.00      0.73      0.85        30\n",
            "      Normal       0.94      1.00      0.97        31\n",
            "Tuberculosis       0.80      0.97      0.88        29\n",
            "\n",
            "    accuracy                           0.90        90\n",
            "   macro avg       0.91      0.90      0.90        90\n",
            "weighted avg       0.91      0.90      0.90        90\n",
            "\n",
            "Fold #5\n",
            "Epoch 1/30\n",
            "11/11 [==============================] - 79s 7s/step - loss: 0.1133 - accuracy: 0.9635 - val_loss: 0.1274 - val_accuracy: 0.9444\n",
            "Epoch 2/30\n",
            "11/11 [==============================] - 78s 7s/step - loss: 0.0925 - accuracy: 0.9818 - val_loss: 0.0970 - val_accuracy: 0.9667\n",
            "Epoch 3/30\n",
            "11/11 [==============================] - 81s 7s/step - loss: 0.0766 - accuracy: 0.9818 - val_loss: 0.0973 - val_accuracy: 0.9556\n",
            "Epoch 4/30\n",
            "11/11 [==============================] - 81s 7s/step - loss: 0.0858 - accuracy: 0.9757 - val_loss: 0.1159 - val_accuracy: 0.9333\n",
            "Epoch 5/30\n",
            "11/11 [==============================] - 81s 7s/step - loss: 0.0777 - accuracy: 0.9696 - val_loss: 0.1079 - val_accuracy: 0.9556\n",
            "              precision    recall  f1-score   support\n",
            "\n",
            "  Lungcancer       1.00      0.87      0.93        30\n",
            "      Normal       1.00      1.00      1.00        28\n",
            "Tuberculosis       0.89      1.00      0.94        32\n",
            "\n",
            "    accuracy                           0.96        90\n",
            "   macro avg       0.96      0.96      0.96        90\n",
            "weighted avg       0.96      0.96      0.96        90\n",
            "\n"
          ]
        }
      ]
    },
    {
      "cell_type": "code",
      "source": [
        "oos_y31 = np.concatenate(oos_y31)\n",
        "oos_pred31 = np.concatenate(oos_pred31)"
      ],
      "metadata": {
        "id": "-4atAM0i-q10"
      },
      "execution_count": null,
      "outputs": []
    },
    {
      "cell_type": "code",
      "source": [
        "score31 = metrics.accuracy_score(oos_y31.argmax(axis=1),\t        #ค่า acc\n",
        "                                             oos_pred31.argmax(axis=1) )\n",
        "print(f\"Fold score (accuracy): {score31}\")\n",
        "\n",
        "print(classification_report(oos_y31.argmax(axis=1),\t                #แสดง report ค่า acc, recall, ...\n",
        "                                        oos_pred31.argmax(axis=1),  \n",
        "                                        target_names=le_Dense.classes_))"
      ],
      "metadata": {
        "id": "889pWYng-q10",
        "outputId": "2e34e5f3-370a-4158-8a90-8b7d3e071ebc",
        "colab": {
          "base_uri": "https://localhost:8080/"
        }
      },
      "execution_count": null,
      "outputs": [
        {
          "output_type": "stream",
          "name": "stdout",
          "text": [
            "Fold score (accuracy): 0.8625277161862528\n",
            "              precision    recall  f1-score   support\n",
            "\n",
            "  Lungcancer       0.95      0.71      0.81       150\n",
            "      Normal       0.87      1.00      0.93       151\n",
            "Tuberculosis       0.79      0.88      0.83       150\n",
            "\n",
            "    accuracy                           0.86       451\n",
            "   macro avg       0.87      0.86      0.86       451\n",
            "weighted avg       0.87      0.86      0.86       451\n",
            "\n"
          ]
        }
      ]
    },
    {
      "cell_type": "markdown",
      "source": [
        "# Fine tuning 0-500"
      ],
      "metadata": {
        "id": "YFmnQCA4T1Mx"
      }
    },
    {
      "cell_type": "markdown",
      "source": [
        "## 4) K-fold  -- DenseNet201\n",
        "\n",
        "### -->ACC = 0.87\n",
        "### -->เวลา - วินาที\n",
        "\n",
        "*   BS = 8\n",
        "*   fix weight & bias in layer 0-500\n",
        "*   activation=\"softmax\"\n",
        "*   learning_rate=0.0001\n",
        "*   epoch 30"
      ],
      "metadata": {
        "id": "TNt0yl5-O1M9"
      }
    },
    {
      "cell_type": "code",
      "source": [
        "train_img_Dense = []\n",
        "for ImageName in tqdm(data_train3['ImageName']):               # รัน ชื่อรูป ในไฟล์ data_test3\n",
        "    image_path = All_3class_dir +'/' + ImageName                   # ดึงรูปในโฟล์เดอร์มาทีละรูป\n",
        "    img = cv2.imread(image_path)                                            # อ่านรูป\n",
        "    img = cv2.resize(img, (224, 224))                                       #ขนาดของ input\n",
        "    train_img_Dense.append(img)\n",
        "\n",
        "data_Dense = np.array(train_img_Dense, dtype=\"float32\") / 255.0"
      ],
      "metadata": {
        "id": "PrdYzdRWO1M9"
      },
      "execution_count": null,
      "outputs": []
    },
    {
      "cell_type": "code",
      "source": [
        "labels_Dense = np.array(data_train3[['NameType']] )        \n",
        "labels_Dense.shape = (len(labels_Dense),) \n",
        "\n",
        "le_Dense = LabelEncoder()                                                                     \n",
        "labels_Dense = le_Dense.fit_transform(labels_Dense)                                         #จะแปลงชื่อ class เป็นตัวเลข 1, 2, 0 \n",
        "\n",
        "labels_Dense = to_categorical(labels_Dense, num_classes=3)                   #shape (180, 3) มีค่าเป็น  [0., 1., 0.]  กับ   [0., 0., 1.] กับ  [1., 0., 0.]"
      ],
      "metadata": {
        "id": "5qQGKg7XO1M-"
      },
      "execution_count": 19,
      "outputs": []
    },
    {
      "cell_type": "code",
      "source": [
        "INIT_LR = 1e-1\n",
        "BS = 8\n",
        "EPOCHS = 50\n",
        "\n",
        "aug = ImageDataGenerator(\n",
        "\t\trotation_range=15,\t\t\t\t\t\t#องศาการหมุน\n",
        "\t\twidth_shift_range=0.1,\n",
        "\t\theight_shift_range=0.1,\n",
        "\t\tshear_range=0.15,\n",
        "\t\thorizontal_flip=True,\n",
        "\t\tfill_mode=\"nearest\")\n",
        "\n",
        "callback = tf.keras.callbacks.EarlyStopping(\n",
        "                monitor=\"val_accuracy\",\n",
        "                patience=3,\n",
        "                mode=\"max\" )"
      ],
      "metadata": {
        "id": "NP8BqybgO1M-"
      },
      "execution_count": 20,
      "outputs": []
    },
    {
      "cell_type": "code",
      "source": [
        "base_model_Dense = tf.keras.applications.DenseNet201(input_shape=(224, 224, 3), include_top=False, weights=\"imagenet\")\n",
        "len(base_model_Dense.layers)"
      ],
      "metadata": {
        "colab": {
          "base_uri": "https://localhost:8080/"
        },
        "outputId": "5d5ce6ac-33ed-4417-c6ca-bd0404924631",
        "id": "0o1gkjODO1M-"
      },
      "execution_count": 21,
      "outputs": [
        {
          "output_type": "stream",
          "name": "stdout",
          "text": [
            "Downloading data from https://storage.googleapis.com/tensorflow/keras-applications/densenet/densenet201_weights_tf_dim_ordering_tf_kernels_notop.h5\n",
            "74842112/74836368 [==============================] - 1s 0us/step\n",
            "74850304/74836368 [==============================] - 1s 0us/step\n"
          ]
        },
        {
          "output_type": "execute_result",
          "data": {
            "text/plain": [
              "707"
            ]
          },
          "metadata": {},
          "execution_count": 21
        }
      ]
    },
    {
      "cell_type": "code",
      "source": [
        "base_model_Dense.trainable = True\n",
        "for layer in base_model_Dense.layers[:500]:    #fix w & bias in layer 0-500\n",
        "    layer.trainable = False\n",
        "\n",
        "#Add custom head\n",
        "average_pooling_layer = tf.keras.layers.GlobalAveragePooling2D()(base_model_Dense.output)\n",
        "prediction_layer = tf.keras.layers.Dense(units=3, activation=\"softmax\")(average_pooling_layer)   # unit 3\n",
        "model_Dense = tf.keras.models.Model(inputs=base_model_Dense.input, outputs=prediction_layer)\n",
        "\n",
        "model_Dense.compile(optimizer=tf.keras.optimizers.RMSprop(learning_rate=0.0001), loss=\"binary_crossentropy\", metrics=[\"accuracy\"])"
      ],
      "metadata": {
        "id": "aK4iikULO1M-"
      },
      "execution_count": 22,
      "outputs": []
    },
    {
      "cell_type": "code",
      "source": [
        "kf_Dense = KFold(5, shuffle=True, random_state=40) \n",
        "\n",
        "oos_y = []\n",
        "oos_pred = []\n",
        "fold = 0\n",
        "\n",
        "for train, test in kf_Dense.split(data_Dense):\n",
        "    fold+=1\n",
        "    print(f\"Fold #{fold}\")\n",
        "        \n",
        "    x_train_Dense = data_Dense[train]\n",
        "    y_train_Dense = labels_Dense[train]\n",
        "    x_test_Dense = data_Dense[test]\n",
        "    y_test_Dense = labels_Dense[test]\n",
        "\n",
        "    H_Dense = model_Dense.fit( x=aug.flow(x_train_Dense, y_train_Dense, batch_size=BS),\n",
        "\t                                            validation_data=(x_test_Dense, y_test_Dense),\n",
        "\t                                            steps_per_epoch=len(x_train_Dense) // BS,\n",
        "\t                                            epochs=30,  callbacks = [callback])\n",
        "    \n",
        "    pred_Dense = model_Dense.predict(x_test_Dense)\n",
        "    \n",
        "    oos_y.append(y_test_Dense)\n",
        "    oos_pred.append(pred_Dense)  \n",
        "    print(classification_report(y_test_Dense.argmax(axis=1),\t                #แสดง report ค่า acc, recall, ...\n",
        "                                        pred_Dense.argmax(axis=1),  \n",
        "                                        target_names=le_Dense.classes_))\n",
        "\n",
        "#   score = metrics.accuracy_score(y_test3_Incep.argmax(axis=1),\t        #ค่า acc\n",
        "#                                               pred3_Incep.argmax(axis=1)\n",
        "#    print(f\"Fold score (accuracy): {score}\")\n",
        "\n",
        "#    print(confusion_matrix(testY3_Incep.argmax(axis=1),\t                       #แสดง confusion_matrix\n",
        "#                        pred3_Incep.argmax(axis=1) ) )"
      ],
      "metadata": {
        "id": "nsWUv4F8O1M-"
      },
      "execution_count": null,
      "outputs": []
    },
    {
      "cell_type": "code",
      "source": [
        "oos_y = np.concatenate(oos_y)\n",
        "oos_pred = np.concatenate(oos_pred)"
      ],
      "metadata": {
        "id": "5CtLJwKHO1M_"
      },
      "execution_count": null,
      "outputs": []
    },
    {
      "cell_type": "code",
      "source": [
        "score = metrics.accuracy_score(oos_y.argmax(axis=1),\t        #ค่า acc\n",
        "                                             oos_pred.argmax(axis=1) )\n",
        "print(f\"Fold score (accuracy): {score}\")\n",
        "\n",
        "print(classification_report(oos_y.argmax(axis=1),\t                #แสดง report ค่า acc, recall, ...\n",
        "                                        oos_pred.argmax(axis=1),  \n",
        "                                        target_names=le_Dense.classes_))"
      ],
      "metadata": {
        "id": "PjjNAGv1O1M_"
      },
      "execution_count": null,
      "outputs": []
    },
    {
      "cell_type": "markdown",
      "source": [
        "## 4.1) K-fold  -- DenseNet201  \n",
        "\n",
        "### -->ACC = 0.90\n",
        "### -->เวลา 4575.96 วินาที\n",
        "\n",
        "*   BS = 8\n",
        "*   fix weight & bias in layer 0-500\n",
        "*   activation=\"sigmoid\"\n",
        "*   learning_rate=0.0001\n",
        "*   epoch 30"
      ],
      "metadata": {
        "id": "cEhFNDBu-q10"
      }
    },
    {
      "cell_type": "code",
      "source": [
        "train_img_Dense = []\n",
        "for ImageName in tqdm(data_train3['ImageName']):               # รัน ชื่อรูป ในไฟล์ data_test3\n",
        "    image_path = All_3class_dir +'/' + ImageName                   # ดึงรูปในโฟล์เดอร์มาทีละรูป\n",
        "    img = cv2.imread(image_path)                                            # อ่านรูป\n",
        "    img = cv2.resize(img, (224, 224))                                       #ขนาดของ input\n",
        "    train_img_Dense.append(img)\n",
        "\n",
        "data_Dense = np.array(train_img_Dense, dtype=\"float32\") / 255.0"
      ],
      "metadata": {
        "outputId": "7a77f2e1-c462-4ad3-acc6-67f6c4e22983",
        "colab": {
          "base_uri": "https://localhost:8080/"
        },
        "id": "MjcJMRso-q10"
      },
      "execution_count": null,
      "outputs": [
        {
          "output_type": "stream",
          "name": "stderr",
          "text": [
            "100%|██████████| 451/451 [00:05<00:00, 81.94it/s] \n"
          ]
        }
      ]
    },
    {
      "cell_type": "code",
      "source": [
        "labels_Dense = np.array(data_train3[['NameType']] )        \n",
        "labels_Dense.shape = (len(labels_Dense),) \n",
        "\n",
        "le_Dense = LabelEncoder()                                                                     \n",
        "labels_Dense = le_Dense.fit_transform(labels_Dense)                                         #จะแปลงชื่อ class เป็นตัวเลข 1, 2, 0 \n",
        "\n",
        "labels_Dense = to_categorical(labels_Dense, num_classes=3)                   #shape (180, 3) มีค่าเป็น  [0., 1., 0.]  กับ   [0., 0., 1.] กับ  [1., 0., 0.]"
      ],
      "metadata": {
        "id": "Oe4_lxMF-q11"
      },
      "execution_count": null,
      "outputs": []
    },
    {
      "cell_type": "code",
      "source": [
        "INIT_LR = 1e-1\n",
        "BS8 = 8\n",
        "EPOCHS = 50\n",
        "\n",
        "aug41 = ImageDataGenerator(\n",
        "\t\trotation_range=15,\t\t\t\t\t\t#องศาการหมุน\n",
        "\t\twidth_shift_range=0.1,\n",
        "\t\theight_shift_range=0.1,\n",
        "\t\tshear_range=0.15,\n",
        "\t\thorizontal_flip=True,\n",
        "\t\tfill_mode=\"nearest\")\n",
        "\n",
        "callback = tf.keras.callbacks.EarlyStopping(\n",
        "                monitor=\"val_accuracy\",\n",
        "                patience=3,\n",
        "                mode=\"max\" )"
      ],
      "metadata": {
        "id": "QnhMou1O-q11"
      },
      "execution_count": null,
      "outputs": []
    },
    {
      "cell_type": "code",
      "source": [
        "base_model_Dense = tf.keras.applications.DenseNet201(input_shape=(224, 224, 3), include_top=False, weights=\"imagenet\")\n",
        "len(base_model_Dense.layers)"
      ],
      "metadata": {
        "colab": {
          "base_uri": "https://localhost:8080/"
        },
        "outputId": "8bfd7fa9-b84d-4f5d-d491-f400f9ae11f4",
        "id": "1pIiVr1m-q11"
      },
      "execution_count": null,
      "outputs": [
        {
          "output_type": "execute_result",
          "data": {
            "text/plain": [
              "707"
            ]
          },
          "metadata": {},
          "execution_count": 23
        }
      ]
    },
    {
      "cell_type": "code",
      "source": [
        "base_model_Dense.trainable = True\n",
        "for layer in base_model_Dense.layers[:500]:    #fix w & bias in layer 0-500\n",
        "    layer.trainable = False\n",
        "\n",
        "#Add custom head\n",
        "average_pooling_layer = tf.keras.layers.GlobalAveragePooling2D()(base_model_Dense.output)\n",
        "prediction_layer = tf.keras.layers.Dense(units=3, activation=\"sigmoid\")(average_pooling_layer)   # unit 3\n",
        "model_Dense41 = tf.keras.models.Model(inputs=base_model_Dense.input, outputs=prediction_layer)\n",
        "\n",
        "model_Dense41.compile(optimizer=tf.keras.optimizers.RMSprop(learning_rate=0.0001), loss=\"binary_crossentropy\", metrics=[\"accuracy\"])"
      ],
      "metadata": {
        "id": "5yMgwvG1-q11"
      },
      "execution_count": null,
      "outputs": []
    },
    {
      "cell_type": "code",
      "source": [
        "kf_Dense41 = KFold(5, shuffle=True, random_state=40) \n",
        "\n",
        "oos_y41 = []\n",
        "oos_pred41 = []\n",
        "fold = 0\n",
        "\n",
        "for train, test in kf_Dense41.split(data_Dense):\n",
        "    fold+=1\n",
        "    print(f\"Fold #{fold}\")\n",
        "        \n",
        "    x_train_Dense41 = data_Dense[train]\n",
        "    y_train_Dense41 = labels_Dense[train]\n",
        "    x_test_Dense41 = data_Dense[test]\n",
        "    y_test_Dense41 = labels_Dense[test]\n",
        "\n",
        "    H_Dense41 = model_Dense41.fit( x=aug41.flow(x_train_Dense41, y_train_Dense41, batch_size=BS8),\n",
        "\t                                            validation_data=(x_test_Dense41, y_test_Dense41),\n",
        "\t                                            steps_per_epoch=len(x_train_Dense41) // BS8,\n",
        "\t                                            epochs=30,  callbacks = [callback])\n",
        "    \n",
        "    pred_Dense41 = model_Dense41.predict(x_test_Dense41)\n",
        "    \n",
        "    oos_y41.append(y_test_Dense41)\n",
        "    oos_pred41.append(pred_Dense41)  \n",
        "    print(classification_report(y_test_Dense41.argmax(axis=1),\t                #แสดง report ค่า acc, recall, ...\n",
        "                                        pred_Dense41.argmax(axis=1),  \n",
        "                                        target_names=le_Dense.classes_))\n",
        "\n",
        "#   score = metrics.accuracy_score(y_test3_Incep.argmax(axis=1),\t        #ค่า acc\n",
        "#                                               pred3_Incep.argmax(axis=1)\n",
        "#    print(f\"Fold score (accuracy): {score}\")\n",
        "\n",
        "#    print(confusion_matrix(testY3_Incep.argmax(axis=1),\t                       #แสดง confusion_matrix\n",
        "#                        pred3_Incep.argmax(axis=1) ) )"
      ],
      "metadata": {
        "id": "f_DdOhX--q11",
        "outputId": "47fc3e3a-8d90-4eb9-a43e-a66aee229e4b",
        "colab": {
          "base_uri": "https://localhost:8080/"
        }
      },
      "execution_count": null,
      "outputs": [
        {
          "output_type": "stream",
          "name": "stdout",
          "text": [
            "Fold #1\n",
            "Epoch 1/30\n",
            "45/45 [==============================] - 119s 2s/step - loss: 0.5008 - accuracy: 0.6444 - val_loss: 0.5943 - val_accuracy: 0.5604\n",
            "Epoch 2/30\n",
            "45/45 [==============================] - 99s 2s/step - loss: 0.3438 - accuracy: 0.7833 - val_loss: 0.5383 - val_accuracy: 0.6154\n",
            "Epoch 3/30\n",
            "45/45 [==============================] - 103s 2s/step - loss: 0.2788 - accuracy: 0.8528 - val_loss: 0.4846 - val_accuracy: 0.6154\n",
            "Epoch 4/30\n",
            "45/45 [==============================] - 104s 2s/step - loss: 0.2418 - accuracy: 0.8889 - val_loss: 0.4779 - val_accuracy: 0.6593\n",
            "Epoch 5/30\n",
            "45/45 [==============================] - 104s 2s/step - loss: 0.2206 - accuracy: 0.8750 - val_loss: 0.3742 - val_accuracy: 0.7253\n",
            "Epoch 6/30\n",
            "45/45 [==============================] - 105s 2s/step - loss: 0.1690 - accuracy: 0.9250 - val_loss: 0.5127 - val_accuracy: 0.7143\n",
            "Epoch 7/30\n",
            "45/45 [==============================] - 103s 2s/step - loss: 0.1680 - accuracy: 0.9306 - val_loss: 0.6544 - val_accuracy: 0.7143\n",
            "Epoch 8/30\n",
            "45/45 [==============================] - 118s 3s/step - loss: 0.1318 - accuracy: 0.9389 - val_loss: 0.6100 - val_accuracy: 0.7363\n",
            "Epoch 9/30\n",
            "45/45 [==============================] - 102s 2s/step - loss: 0.1305 - accuracy: 0.9500 - val_loss: 0.5589 - val_accuracy: 0.7363\n",
            "Epoch 10/30\n",
            "45/45 [==============================] - 107s 2s/step - loss: 0.1282 - accuracy: 0.9306 - val_loss: 0.5701 - val_accuracy: 0.7582\n",
            "Epoch 11/30\n",
            "45/45 [==============================] - 102s 2s/step - loss: 0.1149 - accuracy: 0.9500 - val_loss: 0.4661 - val_accuracy: 0.8022\n",
            "Epoch 12/30\n",
            "45/45 [==============================] - 102s 2s/step - loss: 0.1022 - accuracy: 0.9556 - val_loss: 0.7057 - val_accuracy: 0.7143\n",
            "Epoch 13/30\n",
            "45/45 [==============================] - 104s 2s/step - loss: 0.1115 - accuracy: 0.9389 - val_loss: 0.6120 - val_accuracy: 0.7363\n",
            "Epoch 14/30\n",
            "45/45 [==============================] - 100s 2s/step - loss: 0.0721 - accuracy: 0.9722 - val_loss: 0.5071 - val_accuracy: 0.7692\n",
            "              precision    recall  f1-score   support\n",
            "\n",
            "  Lungcancer       0.79      0.54      0.64        28\n",
            "      Normal       0.93      0.85      0.89        33\n",
            "Tuberculosis       0.64      0.90      0.75        30\n",
            "\n",
            "    accuracy                           0.77        91\n",
            "   macro avg       0.79      0.76      0.76        91\n",
            "weighted avg       0.79      0.77      0.77        91\n",
            "\n",
            "Fold #2\n",
            "Epoch 1/30\n",
            "45/45 [==============================] - 95s 2s/step - loss: 0.1676 - accuracy: 0.9235 - val_loss: 0.1906 - val_accuracy: 0.9111\n",
            "Epoch 2/30\n",
            "45/45 [==============================] - 97s 2s/step - loss: 0.1741 - accuracy: 0.9150 - val_loss: 0.2398 - val_accuracy: 0.8778\n",
            "Epoch 3/30\n",
            "45/45 [==============================] - 98s 2s/step - loss: 0.1180 - accuracy: 0.9377 - val_loss: 0.1307 - val_accuracy: 0.9111\n",
            "Epoch 4/30\n",
            "45/45 [==============================] - 112s 2s/step - loss: 0.1200 - accuracy: 0.9377 - val_loss: 0.0960 - val_accuracy: 0.9444\n",
            "Epoch 5/30\n",
            "45/45 [==============================] - 109s 2s/step - loss: 0.0717 - accuracy: 0.9688 - val_loss: 0.0438 - val_accuracy: 1.0000\n",
            "Epoch 6/30\n",
            "45/45 [==============================] - 99s 2s/step - loss: 0.0784 - accuracy: 0.9688 - val_loss: 0.0840 - val_accuracy: 0.9556\n",
            "Epoch 7/30\n",
            "45/45 [==============================] - 99s 2s/step - loss: 0.0999 - accuracy: 0.9518 - val_loss: 0.1548 - val_accuracy: 0.9000\n",
            "Epoch 8/30\n",
            "45/45 [==============================] - 115s 3s/step - loss: 0.0564 - accuracy: 0.9745 - val_loss: 0.2198 - val_accuracy: 0.9111\n",
            "              precision    recall  f1-score   support\n",
            "\n",
            "  Lungcancer       1.00      1.00      1.00        33\n",
            "      Normal       1.00      0.69      0.82        26\n",
            "Tuberculosis       0.79      1.00      0.89        31\n",
            "\n",
            "    accuracy                           0.91        90\n",
            "   macro avg       0.93      0.90      0.90        90\n",
            "weighted avg       0.93      0.91      0.91        90\n",
            "\n",
            "Fold #3\n",
            "Epoch 1/30\n",
            "45/45 [==============================] - 95s 2s/step - loss: 0.1069 - accuracy: 0.9462 - val_loss: 0.0456 - val_accuracy: 0.9778\n",
            "Epoch 2/30\n",
            "45/45 [==============================] - 100s 2s/step - loss: 0.0623 - accuracy: 0.9802 - val_loss: 0.0149 - val_accuracy: 1.0000\n",
            "Epoch 3/30\n",
            "45/45 [==============================] - 101s 2s/step - loss: 0.0703 - accuracy: 0.9802 - val_loss: 0.0323 - val_accuracy: 0.9778\n",
            "Epoch 4/30\n",
            "45/45 [==============================] - 101s 2s/step - loss: 0.0839 - accuracy: 0.9462 - val_loss: 0.0481 - val_accuracy: 0.9778\n",
            "Epoch 5/30\n",
            "45/45 [==============================] - 102s 2s/step - loss: 0.0757 - accuracy: 0.9688 - val_loss: 0.0479 - val_accuracy: 0.9778\n",
            "              precision    recall  f1-score   support\n",
            "\n",
            "  Lungcancer       1.00      0.93      0.96        29\n",
            "      Normal       1.00      1.00      1.00        33\n",
            "Tuberculosis       0.93      1.00      0.97        28\n",
            "\n",
            "    accuracy                           0.98        90\n",
            "   macro avg       0.98      0.98      0.98        90\n",
            "weighted avg       0.98      0.98      0.98        90\n",
            "\n",
            "Fold #4\n",
            "Epoch 1/30\n",
            "45/45 [==============================] - 95s 2s/step - loss: 0.0992 - accuracy: 0.9433 - val_loss: 0.0364 - val_accuracy: 0.9778\n",
            "Epoch 2/30\n",
            "45/45 [==============================] - 98s 2s/step - loss: 0.0758 - accuracy: 0.9717 - val_loss: 0.0581 - val_accuracy: 0.9778\n",
            "Epoch 3/30\n",
            "45/45 [==============================] - 96s 2s/step - loss: 0.0647 - accuracy: 0.9717 - val_loss: 0.1414 - val_accuracy: 0.9333\n",
            "Epoch 4/30\n",
            "45/45 [==============================] - 97s 2s/step - loss: 0.0754 - accuracy: 0.9694 - val_loss: 0.0904 - val_accuracy: 0.9556\n",
            "              precision    recall  f1-score   support\n",
            "\n",
            "  Lungcancer       1.00      0.87      0.93        30\n",
            "      Normal       1.00      1.00      1.00        31\n",
            "Tuberculosis       0.88      1.00      0.94        29\n",
            "\n",
            "    accuracy                           0.96        90\n",
            "   macro avg       0.96      0.96      0.95        90\n",
            "weighted avg       0.96      0.96      0.96        90\n",
            "\n",
            "Fold #5\n",
            "Epoch 1/30\n",
            "45/45 [==============================] - 93s 2s/step - loss: 0.0428 - accuracy: 0.9830 - val_loss: 0.0195 - val_accuracy: 0.9889\n",
            "Epoch 2/30\n",
            "45/45 [==============================] - 94s 2s/step - loss: 0.0392 - accuracy: 0.9887 - val_loss: 0.0859 - val_accuracy: 0.9667\n",
            "Epoch 3/30\n",
            "45/45 [==============================] - 95s 2s/step - loss: 0.0571 - accuracy: 0.9632 - val_loss: 0.1959 - val_accuracy: 0.9111\n",
            "Epoch 4/30\n",
            "45/45 [==============================] - 104s 2s/step - loss: 0.0714 - accuracy: 0.9688 - val_loss: 0.2286 - val_accuracy: 0.8667\n",
            "              precision    recall  f1-score   support\n",
            "\n",
            "  Lungcancer       1.00      0.80      0.89        30\n",
            "      Normal       1.00      0.79      0.88        28\n",
            "Tuberculosis       0.73      1.00      0.84        32\n",
            "\n",
            "    accuracy                           0.87        90\n",
            "   macro avg       0.91      0.86      0.87        90\n",
            "weighted avg       0.90      0.87      0.87        90\n",
            "\n"
          ]
        }
      ]
    },
    {
      "cell_type": "code",
      "source": [
        "oos_y41 = np.concatenate(oos_y41)\n",
        "oos_pred41 = np.concatenate(oos_pred41)"
      ],
      "metadata": {
        "id": "Bwt7ayUr-q12"
      },
      "execution_count": null,
      "outputs": []
    },
    {
      "cell_type": "code",
      "source": [
        "score41 = metrics.accuracy_score(oos_y41.argmax(axis=1),\t        #ค่า acc\n",
        "                                             oos_pred41.argmax(axis=1) )\n",
        "print(f\"Fold score (accuracy): {score41}\")\n",
        "\n",
        "print(classification_report(oos_y41.argmax(axis=1),\t                #แสดง report ค่า acc, recall, ...\n",
        "                                        oos_pred41.argmax(axis=1),  \n",
        "                                        target_names=le_Dense.classes_))"
      ],
      "metadata": {
        "id": "EEsSrnxL-q12",
        "outputId": "7b568418-90f7-4766-e58e-f5ae0285372d",
        "colab": {
          "base_uri": "https://localhost:8080/"
        }
      },
      "execution_count": null,
      "outputs": [
        {
          "output_type": "stream",
          "name": "stdout",
          "text": [
            "Fold score (accuracy): 0.8957871396895787\n",
            "              precision    recall  f1-score   support\n",
            "\n",
            "  Lungcancer       0.97      0.83      0.90       150\n",
            "      Normal       0.99      0.87      0.93       151\n",
            "Tuberculosis       0.78      0.98      0.87       150\n",
            "\n",
            "    accuracy                           0.90       451\n",
            "   macro avg       0.91      0.90      0.90       451\n",
            "weighted avg       0.91      0.90      0.90       451\n",
            "\n"
          ]
        }
      ]
    },
    {
      "cell_type": "markdown",
      "source": [
        "## 5) K-fold  -- DenseNet201\n",
        "\n",
        "### -->ACC = 0.93\n",
        "### -->เวลา - นาที\n",
        "\n",
        "*   BS = 16\n",
        "*   fix weight & bias in layer 0-500\n",
        "*   activation=\"softmax\"\n",
        "*   learning_rate=0.0001\n",
        "*   epoch 30"
      ],
      "metadata": {
        "id": "uGBb3UfjO1M_"
      }
    },
    {
      "cell_type": "code",
      "source": [
        "train_img_Dense = []\n",
        "for ImageName in tqdm(data_train3['ImageName']):               # รัน ชื่อรูป ในไฟล์ data_test3\n",
        "    image_path = All_3class_dir +'/' + ImageName                   # ดึงรูปในโฟล์เดอร์มาทีละรูป\n",
        "    img = cv2.imread(image_path)                                            # อ่านรูป\n",
        "    img = cv2.resize(img, (224, 224))                                       #ขนาดของ input\n",
        "    train_img_Dense.append(img)\n",
        "\n",
        "data_Dense = np.array(train_img_Dense, dtype=\"float32\") / 255.0"
      ],
      "metadata": {
        "outputId": "3bdc868c-041c-48f5-f700-e8fdc245a749",
        "colab": {
          "base_uri": "https://localhost:8080/"
        },
        "id": "yi8EU4vxO1M_"
      },
      "execution_count": null,
      "outputs": [
        {
          "output_type": "stream",
          "name": "stderr",
          "text": [
            "100%|██████████| 451/451 [00:05<00:00, 85.20it/s] \n"
          ]
        }
      ]
    },
    {
      "cell_type": "code",
      "source": [
        "labels_Dense = np.array(data_train3[['NameType']] )        \n",
        "labels_Dense.shape = (len(labels_Dense),) \n",
        "\n",
        "le_Dense = LabelEncoder()                                                                     \n",
        "labels_Dense = le_Dense.fit_transform(labels_Dense)                                         #จะแปลงชื่อ class เป็นตัวเลข 1, 2, 0 \n",
        "\n",
        "labels_Dense = to_categorical(labels_Dense, num_classes=3)                   #shape (180, 3) มีค่าเป็น  [0., 1., 0.]  กับ   [0., 0., 1.] กับ  [1., 0., 0.]"
      ],
      "metadata": {
        "id": "WYJ5dDgvO1M_"
      },
      "execution_count": null,
      "outputs": []
    },
    {
      "cell_type": "code",
      "source": [
        "INIT_LR = 1e-1\n",
        "BS16 = 16\n",
        "EPOCHS = 50\n",
        "\n",
        "aug2 = ImageDataGenerator(\n",
        "\t\trotation_range=15,\t\t\t\t\t\t#องศาการหมุน\n",
        "\t\twidth_shift_range=0.1,\n",
        "\t\theight_shift_range=0.1,\n",
        "\t\tshear_range=0.15,\n",
        "\t\thorizontal_flip=True,\n",
        "\t\tfill_mode=\"nearest\")\n",
        "\n",
        "callback = tf.keras.callbacks.EarlyStopping(\n",
        "                monitor=\"val_accuracy\",\n",
        "                patience=3,\n",
        "                mode=\"max\" )"
      ],
      "metadata": {
        "id": "MmfIFFX3O1M_"
      },
      "execution_count": null,
      "outputs": []
    },
    {
      "cell_type": "code",
      "source": [
        "base_model_Dense = tf.keras.applications.DenseNet201(input_shape=(224, 224, 3), include_top=False, weights=\"imagenet\")\n",
        "len(base_model_Dense.layers)"
      ],
      "metadata": {
        "colab": {
          "base_uri": "https://localhost:8080/"
        },
        "outputId": "1fe23edc-2f68-4428-ed79-46c3ce3a8631",
        "id": "PKJkKRTyO1NA"
      },
      "execution_count": null,
      "outputs": [
        {
          "output_type": "execute_result",
          "data": {
            "text/plain": [
              "707"
            ]
          },
          "metadata": {},
          "execution_count": 47
        }
      ]
    },
    {
      "cell_type": "code",
      "source": [
        "base_model_Dense.trainable = True\n",
        "for layer in base_model_Dense.layers[:600]:    #fix w & bias in layer 0-600\n",
        "    layer.trainable = False\n",
        "\n",
        "#Add custom head\n",
        "average_pooling_layer = tf.keras.layers.GlobalAveragePooling2D()(base_model_Dense.output)\n",
        "prediction_layer = tf.keras.layers.Dense(units=3, activation=\"softmax\")(average_pooling_layer)   # unit 3\n",
        "model_Dense2 = tf.keras.models.Model(inputs=base_model_Dense.input, outputs=prediction_layer)\n",
        "\n",
        "model_Dense2.compile(optimizer=tf.keras.optimizers.RMSprop(learning_rate=0.0001), loss=\"binary_crossentropy\", metrics=[\"accuracy\"])"
      ],
      "metadata": {
        "id": "aX5sPPiFO1NB"
      },
      "execution_count": null,
      "outputs": []
    },
    {
      "cell_type": "code",
      "source": [
        "kf_Dense2 = KFold(5, shuffle=True, random_state=40) \n",
        "\n",
        "oos_y2 = []\n",
        "oos_pred2 = []\n",
        "fold = 0\n",
        "\n",
        "for train, test in kf_Dense2.split(data_Dense):\n",
        "    fold+=1\n",
        "    print(f\"Fold #{fold}\")\n",
        "        \n",
        "    x_train_Dense2 = data_Dense[train]\n",
        "    y_train_Dense2 = labels_Dense[train]\n",
        "    x_test_Dense2 = data_Dense[test]\n",
        "    y_test_Dense2 = labels_Dense[test]\n",
        "\n",
        "    H_Dense2 = model_Dense2.fit( x=aug2.flow(x_train_Dense2, y_train_Dense2, batch_size=BS16),\n",
        "\t                                            validation_data=(x_test_Dense2, y_test_Dense2),\n",
        "\t                                            steps_per_epoch=len(x_train_Dense2) // BS16,\n",
        "\t                                            epochs=30,  callbacks = [callback])\n",
        "    \n",
        "    pred_Dense2 = model_Dense2.predict(x_test_Dense2)\n",
        "    \n",
        "    oos_y2.append(y_test_Dense2)\n",
        "    oos_pred2.append(pred_Dense2)  \n",
        "    print(classification_report(y_test_Dense2.argmax(axis=1),\t                #แสดง report ค่า acc, recall, ...\n",
        "                                        pred_Dense2.argmax(axis=1),  \n",
        "                                        target_names=le_Dense.classes_))\n",
        "\n",
        "#   score = metrics.accuracy_score(y_test3_Incep.argmax(axis=1),\t        #ค่า acc\n",
        "#                                               pred3_Incep.argmax(axis=1)\n",
        "#    print(f\"Fold score (accuracy): {score}\")\n",
        "\n",
        "#    print(confusion_matrix(testY3_Incep.argmax(axis=1),\t                       #แสดง confusion_matrix\n",
        "#                        pred3_Incep.argmax(axis=1) ) )"
      ],
      "metadata": {
        "colab": {
          "base_uri": "https://localhost:8080/"
        },
        "outputId": "d7d246f0-8367-4978-d5c2-686479e3b293",
        "id": "X5NXKx0FO1NC"
      },
      "execution_count": null,
      "outputs": [
        {
          "output_type": "stream",
          "name": "stdout",
          "text": [
            "Fold #1\n",
            "Epoch 1/30\n",
            "22/22 [==============================] - 131s 5s/step - loss: 0.5335 - accuracy: 0.6570 - val_loss: 0.5158 - val_accuracy: 0.6593\n",
            "Epoch 2/30\n",
            "22/22 [==============================] - 114s 5s/step - loss: 0.3912 - accuracy: 0.7616 - val_loss: 0.4862 - val_accuracy: 0.6703\n",
            "Epoch 3/30\n",
            "22/22 [==============================] - 115s 5s/step - loss: 0.3135 - accuracy: 0.8227 - val_loss: 0.4457 - val_accuracy: 0.7033\n",
            "Epoch 4/30\n",
            "22/22 [==============================] - 114s 5s/step - loss: 0.2949 - accuracy: 0.8285 - val_loss: 0.4228 - val_accuracy: 0.6813\n",
            "Epoch 5/30\n",
            "22/22 [==============================] - 112s 5s/step - loss: 0.2592 - accuracy: 0.8750 - val_loss: 0.4161 - val_accuracy: 0.7033\n",
            "Epoch 6/30\n",
            "22/22 [==============================] - 112s 5s/step - loss: 0.2337 - accuracy: 0.8750 - val_loss: 0.3942 - val_accuracy: 0.7253\n",
            "Epoch 7/30\n",
            "22/22 [==============================] - 112s 5s/step - loss: 0.2114 - accuracy: 0.8866 - val_loss: 0.3773 - val_accuracy: 0.7363\n",
            "Epoch 8/30\n",
            "22/22 [==============================] - 112s 5s/step - loss: 0.2046 - accuracy: 0.9012 - val_loss: 0.3892 - val_accuracy: 0.7253\n",
            "Epoch 9/30\n",
            "22/22 [==============================] - 114s 5s/step - loss: 0.2001 - accuracy: 0.8866 - val_loss: 0.3602 - val_accuracy: 0.7473\n",
            "Epoch 10/30\n",
            "22/22 [==============================] - 112s 5s/step - loss: 0.1664 - accuracy: 0.9244 - val_loss: 0.4053 - val_accuracy: 0.7473\n",
            "Epoch 11/30\n",
            "22/22 [==============================] - 114s 5s/step - loss: 0.1560 - accuracy: 0.9302 - val_loss: 0.3747 - val_accuracy: 0.7582\n",
            "Epoch 12/30\n",
            "22/22 [==============================] - 117s 5s/step - loss: 0.1610 - accuracy: 0.9205 - val_loss: 0.3587 - val_accuracy: 0.7582\n",
            "Epoch 13/30\n",
            "22/22 [==============================] - 116s 5s/step - loss: 0.1421 - accuracy: 0.9535 - val_loss: 0.3339 - val_accuracy: 0.8022\n",
            "Epoch 14/30\n",
            "22/22 [==============================] - 113s 5s/step - loss: 0.1025 - accuracy: 0.9797 - val_loss: 0.3608 - val_accuracy: 0.7692\n",
            "Epoch 15/30\n",
            "22/22 [==============================] - 113s 5s/step - loss: 0.1195 - accuracy: 0.9593 - val_loss: 0.3660 - val_accuracy: 0.7802\n",
            "Epoch 16/30\n",
            "22/22 [==============================] - 114s 5s/step - loss: 0.1077 - accuracy: 0.9506 - val_loss: 0.3588 - val_accuracy: 0.8132\n",
            "Epoch 17/30\n",
            "22/22 [==============================] - 114s 5s/step - loss: 0.0988 - accuracy: 0.9716 - val_loss: 0.3743 - val_accuracy: 0.7802\n",
            "Epoch 18/30\n",
            "22/22 [==============================] - 112s 5s/step - loss: 0.0767 - accuracy: 0.9855 - val_loss: 0.3577 - val_accuracy: 0.7912\n",
            "Epoch 19/30\n",
            "22/22 [==============================] - 112s 5s/step - loss: 0.0866 - accuracy: 0.9709 - val_loss: 0.5390 - val_accuracy: 0.7363\n",
            "              precision    recall  f1-score   support\n",
            "\n",
            "  Lungcancer       0.83      0.36      0.50        28\n",
            "      Normal       0.97      0.88      0.92        33\n",
            "Tuberculosis       0.57      0.93      0.71        30\n",
            "\n",
            "    accuracy                           0.74        91\n",
            "   macro avg       0.79      0.72      0.71        91\n",
            "weighted avg       0.80      0.74      0.72        91\n",
            "\n",
            "Fold #2\n",
            "Epoch 1/30\n",
            "22/22 [==============================] - 114s 5s/step - loss: 0.1470 - accuracy: 0.9362 - val_loss: 0.0757 - val_accuracy: 0.9778\n",
            "Epoch 2/30\n",
            "22/22 [==============================] - 118s 5s/step - loss: 0.1356 - accuracy: 0.9217 - val_loss: 0.0662 - val_accuracy: 0.9778\n",
            "Epoch 3/30\n",
            "22/22 [==============================] - 114s 5s/step - loss: 0.0930 - accuracy: 0.9652 - val_loss: 0.0690 - val_accuracy: 0.9778\n",
            "Epoch 4/30\n",
            "22/22 [==============================] - 114s 5s/step - loss: 0.0684 - accuracy: 0.9826 - val_loss: 0.0846 - val_accuracy: 0.9778\n",
            "              precision    recall  f1-score   support\n",
            "\n",
            "  Lungcancer       1.00      0.94      0.97        33\n",
            "      Normal       1.00      1.00      1.00        26\n",
            "Tuberculosis       0.94      1.00      0.97        31\n",
            "\n",
            "    accuracy                           0.98        90\n",
            "   macro avg       0.98      0.98      0.98        90\n",
            "weighted avg       0.98      0.98      0.98        90\n",
            "\n",
            "Fold #3\n",
            "Epoch 1/30\n",
            "22/22 [==============================] - 112s 5s/step - loss: 0.0789 - accuracy: 0.9797 - val_loss: 0.0500 - val_accuracy: 0.9778\n",
            "Epoch 2/30\n",
            "22/22 [==============================] - 114s 5s/step - loss: 0.0740 - accuracy: 0.9710 - val_loss: 0.0557 - val_accuracy: 0.9889\n",
            "Epoch 3/30\n",
            "22/22 [==============================] - 115s 5s/step - loss: 0.0578 - accuracy: 0.9884 - val_loss: 0.0531 - val_accuracy: 0.9889\n",
            "Epoch 4/30\n",
            "22/22 [==============================] - 115s 5s/step - loss: 0.0649 - accuracy: 0.9826 - val_loss: 0.0332 - val_accuracy: 1.0000\n",
            "Epoch 5/30\n",
            "22/22 [==============================] - 115s 5s/step - loss: 0.0515 - accuracy: 0.9855 - val_loss: 0.0527 - val_accuracy: 0.9889\n",
            "Epoch 6/30\n",
            "22/22 [==============================] - 119s 5s/step - loss: 0.0578 - accuracy: 0.9884 - val_loss: 0.1162 - val_accuracy: 0.9444\n",
            "Epoch 7/30\n",
            "22/22 [==============================] - 120s 5s/step - loss: 0.0443 - accuracy: 0.9884 - val_loss: 0.0937 - val_accuracy: 0.9556\n",
            "              precision    recall  f1-score   support\n",
            "\n",
            "  Lungcancer       1.00      0.90      0.95        29\n",
            "      Normal       1.00      0.97      0.98        33\n",
            "Tuberculosis       0.88      1.00      0.93        28\n",
            "\n",
            "    accuracy                           0.96        90\n",
            "   macro avg       0.96      0.96      0.95        90\n",
            "weighted avg       0.96      0.96      0.96        90\n",
            "\n",
            "Fold #4\n",
            "Epoch 1/30\n",
            "22/22 [==============================] - 114s 5s/step - loss: 0.0458 - accuracy: 0.9855 - val_loss: 0.0244 - val_accuracy: 1.0000\n",
            "Epoch 2/30\n",
            "22/22 [==============================] - 115s 5s/step - loss: 0.0578 - accuracy: 0.9797 - val_loss: 0.0558 - val_accuracy: 0.9778\n",
            "Epoch 3/30\n",
            "22/22 [==============================] - 115s 5s/step - loss: 0.0479 - accuracy: 0.9884 - val_loss: 0.0378 - val_accuracy: 0.9889\n",
            "Epoch 4/30\n",
            "22/22 [==============================] - 115s 5s/step - loss: 0.0552 - accuracy: 0.9826 - val_loss: 0.0593 - val_accuracy: 0.9778\n",
            "              precision    recall  f1-score   support\n",
            "\n",
            "  Lungcancer       1.00      0.93      0.97        30\n",
            "      Normal       1.00      1.00      1.00        31\n",
            "Tuberculosis       0.94      1.00      0.97        29\n",
            "\n",
            "    accuracy                           0.98        90\n",
            "   macro avg       0.98      0.98      0.98        90\n",
            "weighted avg       0.98      0.98      0.98        90\n",
            "\n",
            "Fold #5\n",
            "Epoch 1/30\n",
            "22/22 [==============================] - 111s 5s/step - loss: 0.0333 - accuracy: 0.9942 - val_loss: 0.0171 - val_accuracy: 1.0000\n",
            "Epoch 2/30\n",
            "22/22 [==============================] - 112s 5s/step - loss: 0.0340 - accuracy: 0.9855 - val_loss: 0.0288 - val_accuracy: 0.9889\n",
            "Epoch 3/30\n",
            "22/22 [==============================] - 113s 5s/step - loss: 0.0397 - accuracy: 0.9884 - val_loss: 0.0227 - val_accuracy: 1.0000\n",
            "Epoch 4/30\n",
            "22/22 [==============================] - 117s 5s/step - loss: 0.0401 - accuracy: 0.9768 - val_loss: 0.0262 - val_accuracy: 0.9889\n",
            "              precision    recall  f1-score   support\n",
            "\n",
            "  Lungcancer       1.00      0.97      0.98        30\n",
            "      Normal       1.00      1.00      1.00        28\n",
            "Tuberculosis       0.97      1.00      0.98        32\n",
            "\n",
            "    accuracy                           0.99        90\n",
            "   macro avg       0.99      0.99      0.99        90\n",
            "weighted avg       0.99      0.99      0.99        90\n",
            "\n"
          ]
        }
      ]
    },
    {
      "cell_type": "code",
      "source": [
        "oos_y2 = np.concatenate(oos_y2)\n",
        "oos_pred2 = np.concatenate(oos_pred2)"
      ],
      "metadata": {
        "id": "ShHCsq5mO1NC"
      },
      "execution_count": null,
      "outputs": []
    },
    {
      "cell_type": "code",
      "source": [
        "score = metrics.accuracy_score(oos_y2.argmax(axis=1),\t        #ค่า acc\n",
        "                                             oos_pred2.argmax(axis=1) )\n",
        "print(f\"Fold score (accuracy): {score}\")\n",
        "\n",
        "print(classification_report(oos_y2.argmax(axis=1),\t                #แสดง report ค่า acc, recall, ...\n",
        "                                        oos_pred2.argmax(axis=1),  \n",
        "                                        target_names=le_Dense.classes_))"
      ],
      "metadata": {
        "colab": {
          "base_uri": "https://localhost:8080/"
        },
        "outputId": "804024d0-5073-45b3-de5d-4e23725ca263",
        "id": "qDAxu5fPO1NC"
      },
      "execution_count": null,
      "outputs": [
        {
          "output_type": "stream",
          "name": "stdout",
          "text": [
            "Fold score (accuracy): 0.926829268292683\n",
            "              precision    recall  f1-score   support\n",
            "\n",
            "  Lungcancer       0.98      0.83      0.90       150\n",
            "      Normal       0.99      0.97      0.98       151\n",
            "Tuberculosis       0.83      0.99      0.90       150\n",
            "\n",
            "    accuracy                           0.93       451\n",
            "   macro avg       0.94      0.93      0.93       451\n",
            "weighted avg       0.94      0.93      0.93       451\n",
            "\n"
          ]
        }
      ]
    },
    {
      "cell_type": "markdown",
      "source": [
        "## 5.1) K-fold  -- DenseNet201\n",
        "\n",
        "### -->ACC = 0.93\n",
        "### -->เวลา 4335.68 นาที\n",
        "\n",
        "*   BS = 16\n",
        "*   fix weight & bias in layer 0-500\n",
        "*   activation=\"sigmoid\"\n",
        "*   learning_rate=0.0001\n",
        "*   epoch 30"
      ],
      "metadata": {
        "id": "uN6Qw1WpHOol"
      }
    },
    {
      "cell_type": "code",
      "source": [
        "train_img_Dense = []\n",
        "for ImageName in tqdm(data_train3['ImageName']):               # รัน ชื่อรูป ในไฟล์ data_test3\n",
        "    image_path = All_3class_dir +'/' + ImageName                   # ดึงรูปในโฟล์เดอร์มาทีละรูป\n",
        "    img = cv2.imread(image_path)                                            # อ่านรูป\n",
        "    img = cv2.resize(img, (224, 224))                                       #ขนาดของ input\n",
        "    train_img_Dense.append(img)\n",
        "\n",
        "data_Dense = np.array(train_img_Dense, dtype=\"float32\") / 255.0"
      ],
      "metadata": {
        "outputId": "63804fbb-8e1d-4372-f519-29492b87cd4c",
        "colab": {
          "base_uri": "https://localhost:8080/"
        },
        "id": "uF_4IVL6HOo1"
      },
      "execution_count": null,
      "outputs": [
        {
          "output_type": "stream",
          "name": "stderr",
          "text": [
            "100%|██████████| 451/451 [00:05<00:00, 86.62it/s] \n"
          ]
        }
      ]
    },
    {
      "cell_type": "code",
      "source": [
        "labels_Dense = np.array(data_train3[['NameType']] )        \n",
        "labels_Dense.shape = (len(labels_Dense),) \n",
        "\n",
        "le_Dense = LabelEncoder()                                                                     \n",
        "labels_Dense = le_Dense.fit_transform(labels_Dense)                                         #จะแปลงชื่อ class เป็นตัวเลข 1, 2, 0 \n",
        "\n",
        "labels_Dense = to_categorical(labels_Dense, num_classes=3)                   #shape (180, 3) มีค่าเป็น  [0., 1., 0.]  กับ   [0., 0., 1.] กับ  [1., 0., 0.]"
      ],
      "metadata": {
        "id": "6_hduF3DHOo3"
      },
      "execution_count": null,
      "outputs": []
    },
    {
      "cell_type": "code",
      "source": [
        "INIT_LR = 1e-1\n",
        "BS16 = 16\n",
        "EPOCHS = 50\n",
        "\n",
        "aug51 = ImageDataGenerator(\n",
        "\t\trotation_range=15,\t\t\t\t\t\t#องศาการหมุน\n",
        "\t\twidth_shift_range=0.1,\n",
        "\t\theight_shift_range=0.1,\n",
        "\t\tshear_range=0.15,\n",
        "\t\thorizontal_flip=True,\n",
        "\t\tfill_mode=\"nearest\")\n",
        "\n",
        "callback = tf.keras.callbacks.EarlyStopping(\n",
        "                monitor=\"val_accuracy\",\n",
        "                patience=3,\n",
        "                mode=\"max\" )"
      ],
      "metadata": {
        "id": "0pgqv_-kHOo4"
      },
      "execution_count": null,
      "outputs": []
    },
    {
      "cell_type": "code",
      "source": [
        "base_model_Dense = tf.keras.applications.DenseNet201(input_shape=(224, 224, 3), include_top=False, weights=\"imagenet\")\n",
        "len(base_model_Dense.layers)"
      ],
      "metadata": {
        "colab": {
          "base_uri": "https://localhost:8080/"
        },
        "outputId": "c798a6a3-b18f-4c0d-f3e2-6900d847185e",
        "id": "c2SosByNHOo4"
      },
      "execution_count": null,
      "outputs": [
        {
          "output_type": "execute_result",
          "data": {
            "text/plain": [
              "707"
            ]
          },
          "metadata": {},
          "execution_count": 31
        }
      ]
    },
    {
      "cell_type": "code",
      "source": [
        "base_model_Dense.trainable = True\n",
        "for layer in base_model_Dense.layers[:500]:    #fix w & bias in layer 0-500\n",
        "    layer.trainable = False\n",
        "\n",
        "#Add custom head\n",
        "average_pooling_layer = tf.keras.layers.GlobalAveragePooling2D()(base_model_Dense.output)\n",
        "prediction_layer = tf.keras.layers.Dense(units=3, activation=\"sigmoid\")(average_pooling_layer)   # unit 3\n",
        "model_Dense51 = tf.keras.models.Model(inputs=base_model_Dense.input, outputs=prediction_layer)\n",
        "\n",
        "model_Dense51.compile(optimizer=tf.keras.optimizers.RMSprop(learning_rate=0.0001), loss=\"binary_crossentropy\", metrics=[\"accuracy\"])"
      ],
      "metadata": {
        "id": "RUr9sHNkHOo5"
      },
      "execution_count": null,
      "outputs": []
    },
    {
      "cell_type": "code",
      "source": [
        "kf_Dense51 = KFold(5, shuffle=True, random_state=40) \n",
        "\n",
        "oos_y51 = []\n",
        "oos_pred51 = []\n",
        "fold = 0\n",
        "\n",
        "for train, test in kf_Dense51.split(data_Dense):\n",
        "    fold+=1\n",
        "    print(f\"Fold #{fold}\")\n",
        "        \n",
        "    x_train_Dense51 = data_Dense[train]\n",
        "    y_train_Dense51 = labels_Dense[train]\n",
        "    x_test_Dense51 = data_Dense[test]\n",
        "    y_test_Dense51 = labels_Dense[test]\n",
        "\n",
        "    H_Dense51 = model_Dense51.fit( x=aug51.flow(x_train_Dense51, y_train_Dense51, batch_size=BS16),\n",
        "\t                                            validation_data=(x_test_Dense51, y_test_Dense51),\n",
        "\t                                            steps_per_epoch=len(x_train_Dense51) // BS16,\n",
        "\t                                            epochs=30,  callbacks = [callback])\n",
        "    \n",
        "    pred_Dense51 = model_Dense51.predict(x_test_Dense51)\n",
        "    \n",
        "    oos_y51.append(y_test_Dense51)\n",
        "    oos_pred51.append(pred_Dense51)  \n",
        "    print(classification_report(y_test_Dense51.argmax(axis=1),\t                #แสดง report ค่า acc, recall, ...\n",
        "                                        pred_Dense51.argmax(axis=1),  \n",
        "                                        target_names=le_Dense.classes_))\n",
        "\n",
        "#   score = metrics.accuracy_score(y_test3_Incep.argmax(axis=1),\t        #ค่า acc\n",
        "#                                               pred3_Incep.argmax(axis=1)\n",
        "#    print(f\"Fold score (accuracy): {score}\")\n",
        "\n",
        "#    print(confusion_matrix(testY3_Incep.argmax(axis=1),\t                       #แสดง confusion_matrix\n",
        "#                        pred3_Incep.argmax(axis=1) ) )"
      ],
      "metadata": {
        "id": "JMLTcfg4HOo6",
        "outputId": "a23aeef9-1892-42c4-e31b-c0c4519aa817",
        "colab": {
          "base_uri": "https://localhost:8080/"
        }
      },
      "execution_count": null,
      "outputs": [
        {
          "output_type": "stream",
          "name": "stdout",
          "text": [
            "Fold #1\n",
            "Epoch 1/30\n",
            "22/22 [==============================] - 113s 4s/step - loss: 0.4910 - accuracy: 0.6818 - val_loss: 0.6110 - val_accuracy: 0.5495\n",
            "Epoch 2/30\n",
            "22/22 [==============================] - 91s 4s/step - loss: 0.3051 - accuracy: 0.8285 - val_loss: 0.6054 - val_accuracy: 0.5385\n",
            "Epoch 3/30\n",
            "22/22 [==============================] - 89s 4s/step - loss: 0.2485 - accuracy: 0.8692 - val_loss: 0.5594 - val_accuracy: 0.5714\n",
            "Epoch 4/30\n",
            "22/22 [==============================] - 89s 4s/step - loss: 0.2070 - accuracy: 0.8895 - val_loss: 0.4729 - val_accuracy: 0.6813\n",
            "Epoch 5/30\n",
            "22/22 [==============================] - 89s 4s/step - loss: 0.1679 - accuracy: 0.9273 - val_loss: 0.5151 - val_accuracy: 0.6703\n",
            "Epoch 6/30\n",
            "22/22 [==============================] - 89s 4s/step - loss: 0.1692 - accuracy: 0.9215 - val_loss: 0.4507 - val_accuracy: 0.7143\n",
            "Epoch 7/30\n",
            "22/22 [==============================] - 89s 4s/step - loss: 0.1533 - accuracy: 0.9244 - val_loss: 0.4217 - val_accuracy: 0.7473\n",
            "Epoch 8/30\n",
            "22/22 [==============================] - 89s 4s/step - loss: 0.1107 - accuracy: 0.9593 - val_loss: 0.4309 - val_accuracy: 0.7582\n",
            "Epoch 9/30\n",
            "22/22 [==============================] - 90s 4s/step - loss: 0.1090 - accuracy: 0.9564 - val_loss: 0.4810 - val_accuracy: 0.7473\n",
            "Epoch 10/30\n",
            "22/22 [==============================] - 90s 4s/step - loss: 0.1064 - accuracy: 0.9448 - val_loss: 0.5169 - val_accuracy: 0.7912\n",
            "Epoch 11/30\n",
            "22/22 [==============================] - 90s 4s/step - loss: 0.0875 - accuracy: 0.9680 - val_loss: 0.5270 - val_accuracy: 0.7143\n",
            "Epoch 12/30\n",
            "22/22 [==============================] - 89s 4s/step - loss: 0.0778 - accuracy: 0.9738 - val_loss: 0.8450 - val_accuracy: 0.6813\n",
            "Epoch 13/30\n",
            "22/22 [==============================] - 90s 4s/step - loss: 0.0662 - accuracy: 0.9797 - val_loss: 0.7089 - val_accuracy: 0.7253\n",
            "              precision    recall  f1-score   support\n",
            "\n",
            "  Lungcancer       0.90      0.32      0.47        28\n",
            "      Normal       0.94      0.88      0.91        33\n",
            "Tuberculosis       0.56      0.93      0.70        30\n",
            "\n",
            "    accuracy                           0.73        91\n",
            "   macro avg       0.80      0.71      0.69        91\n",
            "weighted avg       0.80      0.73      0.71        91\n",
            "\n",
            "Fold #2\n",
            "Epoch 1/30\n",
            "22/22 [==============================] - 90s 4s/step - loss: 0.1529 - accuracy: 0.9246 - val_loss: 0.0402 - val_accuracy: 0.9889\n",
            "Epoch 2/30\n",
            "22/22 [==============================] - 99s 5s/step - loss: 0.1220 - accuracy: 0.9275 - val_loss: 0.0601 - val_accuracy: 0.9778\n",
            "Epoch 3/30\n",
            "22/22 [==============================] - 90s 4s/step - loss: 0.1007 - accuracy: 0.9536 - val_loss: 0.0352 - val_accuracy: 1.0000\n",
            "Epoch 4/30\n",
            "22/22 [==============================] - 91s 4s/step - loss: 0.0696 - accuracy: 0.9768 - val_loss: 0.0703 - val_accuracy: 0.9778\n",
            "Epoch 5/30\n",
            "22/22 [==============================] - 91s 4s/step - loss: 0.0878 - accuracy: 0.9565 - val_loss: 0.0793 - val_accuracy: 0.9667\n",
            "Epoch 6/30\n",
            "22/22 [==============================] - 91s 4s/step - loss: 0.0534 - accuracy: 0.9826 - val_loss: 0.0318 - val_accuracy: 1.0000\n",
            "              precision    recall  f1-score   support\n",
            "\n",
            "  Lungcancer       1.00      1.00      1.00        33\n",
            "      Normal       1.00      1.00      1.00        26\n",
            "Tuberculosis       1.00      1.00      1.00        31\n",
            "\n",
            "    accuracy                           1.00        90\n",
            "   macro avg       1.00      1.00      1.00        90\n",
            "weighted avg       1.00      1.00      1.00        90\n",
            "\n",
            "Fold #3\n",
            "Epoch 1/30\n",
            "22/22 [==============================] - 91s 4s/step - loss: 0.0584 - accuracy: 0.9739 - val_loss: 0.0310 - val_accuracy: 0.9889\n",
            "Epoch 2/30\n",
            "22/22 [==============================] - 91s 4s/step - loss: 0.0339 - accuracy: 0.9942 - val_loss: 0.0150 - val_accuracy: 1.0000\n",
            "Epoch 3/30\n",
            "22/22 [==============================] - 91s 4s/step - loss: 0.0401 - accuracy: 0.9884 - val_loss: 0.0385 - val_accuracy: 0.9778\n",
            "Epoch 4/30\n",
            "22/22 [==============================] - 91s 4s/step - loss: 0.0285 - accuracy: 0.9913 - val_loss: 0.0314 - val_accuracy: 1.0000\n",
            "Epoch 5/30\n",
            "22/22 [==============================] - 91s 4s/step - loss: 0.0339 - accuracy: 0.9855 - val_loss: 0.0564 - val_accuracy: 0.9556\n",
            "              precision    recall  f1-score   support\n",
            "\n",
            "  Lungcancer       1.00      0.93      0.96        29\n",
            "      Normal       1.00      0.94      0.97        33\n",
            "Tuberculosis       0.88      1.00      0.93        28\n",
            "\n",
            "    accuracy                           0.96        90\n",
            "   macro avg       0.96      0.96      0.96        90\n",
            "weighted avg       0.96      0.96      0.96        90\n",
            "\n",
            "Fold #4\n",
            "Epoch 1/30\n",
            "22/22 [==============================] - 88s 4s/step - loss: 0.0476 - accuracy: 0.9739 - val_loss: 0.0703 - val_accuracy: 0.9444\n",
            "Epoch 2/30\n",
            "22/22 [==============================] - 88s 4s/step - loss: 0.0410 - accuracy: 0.9797 - val_loss: 0.1003 - val_accuracy: 0.9333\n",
            "Epoch 3/30\n",
            "22/22 [==============================] - 89s 4s/step - loss: 0.0485 - accuracy: 0.9739 - val_loss: 0.0455 - val_accuracy: 0.9556\n",
            "Epoch 4/30\n",
            "22/22 [==============================] - 88s 4s/step - loss: 0.0303 - accuracy: 0.9942 - val_loss: 0.0116 - val_accuracy: 1.0000\n",
            "Epoch 5/30\n",
            "22/22 [==============================] - 88s 4s/step - loss: 0.0252 - accuracy: 0.9884 - val_loss: 0.0712 - val_accuracy: 0.9556\n",
            "Epoch 6/30\n",
            "22/22 [==============================] - 88s 4s/step - loss: 0.0309 - accuracy: 0.9826 - val_loss: 0.0109 - val_accuracy: 1.0000\n",
            "Epoch 7/30\n",
            "22/22 [==============================] - 88s 4s/step - loss: 0.0242 - accuracy: 0.9942 - val_loss: 0.0135 - val_accuracy: 1.0000\n",
            "              precision    recall  f1-score   support\n",
            "\n",
            "  Lungcancer       1.00      1.00      1.00        30\n",
            "      Normal       1.00      1.00      1.00        31\n",
            "Tuberculosis       1.00      1.00      1.00        29\n",
            "\n",
            "    accuracy                           1.00        90\n",
            "   macro avg       1.00      1.00      1.00        90\n",
            "weighted avg       1.00      1.00      1.00        90\n",
            "\n",
            "Fold #5\n",
            "Epoch 1/30\n",
            "22/22 [==============================] - 89s 4s/step - loss: 0.0409 - accuracy: 0.9826 - val_loss: 0.0119 - val_accuracy: 0.9889\n",
            "Epoch 2/30\n",
            "22/22 [==============================] - 91s 4s/step - loss: 0.0294 - accuracy: 0.9915 - val_loss: 0.1642 - val_accuracy: 0.9222\n",
            "Epoch 3/30\n",
            "22/22 [==============================] - 88s 4s/step - loss: 0.0373 - accuracy: 0.9884 - val_loss: 0.0740 - val_accuracy: 0.9667\n",
            "Epoch 4/30\n",
            "22/22 [==============================] - 88s 4s/step - loss: 0.0155 - accuracy: 1.0000 - val_loss: 0.0719 - val_accuracy: 0.9778\n",
            "              precision    recall  f1-score   support\n",
            "\n",
            "  Lungcancer       1.00      0.97      0.98        30\n",
            "      Normal       1.00      0.96      0.98        28\n",
            "Tuberculosis       0.94      1.00      0.97        32\n",
            "\n",
            "    accuracy                           0.98        90\n",
            "   macro avg       0.98      0.98      0.98        90\n",
            "weighted avg       0.98      0.98      0.98        90\n",
            "\n"
          ]
        }
      ]
    },
    {
      "cell_type": "code",
      "source": [
        "oos_y51 = np.concatenate(oos_y51)\n",
        "oos_pred51 = np.concatenate(oos_pred51)"
      ],
      "metadata": {
        "id": "JCR51egzHOo6"
      },
      "execution_count": null,
      "outputs": []
    },
    {
      "cell_type": "code",
      "source": [
        "score51 = metrics.accuracy_score(oos_y51.argmax(axis=1),\t        #ค่า acc\n",
        "                                             oos_pred51.argmax(axis=1) )\n",
        "print(f\"Fold score (accuracy): {score51}\")\n",
        "\n",
        "print(classification_report(oos_y51.argmax(axis=1),\t                #แสดง report ค่า acc, recall, ...\n",
        "                                        oos_pred51.argmax(axis=1),  \n",
        "                                        target_names=le_Dense.classes_))"
      ],
      "metadata": {
        "id": "j8Gv9jS1HOo7",
        "outputId": "cfc15115-b6b5-4169-c8d4-2f31e9a44ba7",
        "colab": {
          "base_uri": "https://localhost:8080/"
        }
      },
      "execution_count": null,
      "outputs": [
        {
          "output_type": "stream",
          "name": "stdout",
          "text": [
            "Fold score (accuracy): 0.9312638580931264\n",
            "              precision    recall  f1-score   support\n",
            "\n",
            "  Lungcancer       0.99      0.85      0.92       150\n",
            "      Normal       0.99      0.95      0.97       151\n",
            "Tuberculosis       0.84      0.99      0.91       150\n",
            "\n",
            "    accuracy                           0.93       451\n",
            "   macro avg       0.94      0.93      0.93       451\n",
            "weighted avg       0.94      0.93      0.93       451\n",
            "\n"
          ]
        }
      ]
    },
    {
      "cell_type": "markdown",
      "source": [
        "## 6) K-fold  -- DenseNet201\n",
        "\n",
        "### -->ACC = 0.88\n",
        "### -->เวลา - วินาที\n",
        "\n",
        "*   BS = 32\n",
        "*   fix weight & bias in layer 0-500\n",
        "*   activation=\"softmax\"\n",
        "*   learning_rate=0.0001\n",
        "*   epoch 30"
      ],
      "metadata": {
        "id": "hNfAE4qFO1NC"
      }
    },
    {
      "cell_type": "code",
      "source": [
        "train_img_Dense = []\n",
        "for ImageName in tqdm(data_train3['ImageName']):               # รัน ชื่อรูป ในไฟล์ data_test3\n",
        "    image_path = All_3class_dir +'/' + ImageName                   # ดึงรูปในโฟล์เดอร์มาทีละรูป\n",
        "    img = cv2.imread(image_path)                                            # อ่านรูป\n",
        "    img = cv2.resize(img, (224, 224))                                       #ขนาดของ input\n",
        "    train_img_Dense.append(img)\n",
        "\n",
        "data_Dense = np.array(train_img_Dense, dtype=\"float32\") / 255.0"
      ],
      "metadata": {
        "outputId": "e3393b6f-cc14-4ef3-a6bc-699f6d61e134",
        "colab": {
          "base_uri": "https://localhost:8080/"
        },
        "id": "6io8y3xdO1ND"
      },
      "execution_count": null,
      "outputs": [
        {
          "output_type": "stream",
          "name": "stderr",
          "text": [
            "100%|██████████| 451/451 [00:05<00:00, 86.49it/s] \n"
          ]
        }
      ]
    },
    {
      "cell_type": "code",
      "source": [
        "labels_Dense = np.array(data_train3[['NameType']] )        \n",
        "labels_Dense.shape = (len(labels_Dense),) \n",
        "\n",
        "le_Dense = LabelEncoder()                                                                     \n",
        "labels_Dense = le_Dense.fit_transform(labels_Dense)                                         #จะแปลงชื่อ class เป็นตัวเลข 1, 2, 0 \n",
        "\n",
        "labels_Dense = to_categorical(labels_Dense, num_classes=3)                   #shape (180, 3) มีค่าเป็น  [0., 1., 0.]  กับ   [0., 0., 1.] กับ  [1., 0., 0.]"
      ],
      "metadata": {
        "id": "8Lbn2PLvO1ND"
      },
      "execution_count": null,
      "outputs": []
    },
    {
      "cell_type": "code",
      "source": [
        "INIT_LR = 1e-1\n",
        "BS32 = 32\n",
        "EPOCHS = 50\n",
        "\n",
        "aug3 = ImageDataGenerator(\n",
        "\t\trotation_range=15,\t\t\t\t\t\t#องศาการหมุน\n",
        "\t\twidth_shift_range=0.1,\n",
        "\t\theight_shift_range=0.1,\n",
        "\t\tshear_range=0.15,\n",
        "\t\thorizontal_flip=True,\n",
        "\t\tfill_mode=\"nearest\")\n",
        "\n",
        "callback = tf.keras.callbacks.EarlyStopping(\n",
        "                monitor=\"val_accuracy\",\n",
        "                patience=3,\n",
        "                mode=\"max\" )"
      ],
      "metadata": {
        "id": "-AuXr9DiO1ND"
      },
      "execution_count": null,
      "outputs": []
    },
    {
      "cell_type": "code",
      "source": [
        "base_model_Dense = tf.keras.applications.DenseNet201(input_shape=(224, 224, 3), include_top=False, weights=\"imagenet\")\n",
        "len(base_model_Dense.layers)"
      ],
      "metadata": {
        "colab": {
          "base_uri": "https://localhost:8080/"
        },
        "outputId": "845833fa-58bb-4afe-8efd-438488272b84",
        "id": "Axfb30sHO1ND"
      },
      "execution_count": null,
      "outputs": [
        {
          "output_type": "execute_result",
          "data": {
            "text/plain": [
              "707"
            ]
          },
          "metadata": {},
          "execution_count": 55
        }
      ]
    },
    {
      "cell_type": "code",
      "source": [
        "base_model_Dense.trainable = True\n",
        "for layer in base_model_Dense.layers[:500]:    #fix w & bias in layer 0-500\n",
        "    layer.trainable = False\n",
        "\n",
        "#Add custom head\n",
        "average_pooling_layer = tf.keras.layers.GlobalAveragePooling2D()(base_model_Dense.output)\n",
        "prediction_layer = tf.keras.layers.Dense(units=3, activation=\"softmax\")(average_pooling_layer)   # unit 3\n",
        "model_Dense3 = tf.keras.models.Model(inputs=base_model_Dense.input, outputs=prediction_layer)\n",
        "\n",
        "model_Dense3.compile(optimizer=tf.keras.optimizers.RMSprop(learning_rate=0.0001), loss=\"binary_crossentropy\", metrics=[\"accuracy\"])"
      ],
      "metadata": {
        "id": "JkbqLZC8O1ND"
      },
      "execution_count": null,
      "outputs": []
    },
    {
      "cell_type": "code",
      "source": [
        "kf_Dense3 = KFold(5, shuffle=True, random_state=40) \n",
        "\n",
        "oos_y3 = []\n",
        "oos_pred3 = []\n",
        "fold = 0\n",
        "\n",
        "for train, test in kf_Dense3.split(data_Dense):\n",
        "    fold+=1\n",
        "    print(f\"Fold #{fold}\")\n",
        "        \n",
        "    x_train_Dense3 = data_Dense[train]\n",
        "    y_train_Dense3 = labels_Dense[train]\n",
        "    x_test_Dense3 = data_Dense[test]\n",
        "    y_test_Dense3 = labels_Dense[test]\n",
        "\n",
        "    H_Dense3 = model_Dense3.fit( x=aug3.flow(x_train_Dense3, y_train_Dense3, batch_size=BS32),\n",
        "\t                                            validation_data=(x_test_Dense3, y_test_Dense3),\n",
        "\t                                            steps_per_epoch=len(x_train_Dense3) // BS32,\n",
        "\t                                            epochs=30,  callbacks = [callback])\n",
        "    \n",
        "    pred_Dense3 = model_Dense3.predict(x_test_Dense3)\n",
        "    \n",
        "    oos_y3.append(y_test_Dense3)\n",
        "    oos_pred3.append(pred_Dense3)  \n",
        "    print(classification_report(y_test_Dense3.argmax(axis=1),\t                #แสดง report ค่า acc, recall, ...\n",
        "                                        pred_Dense3.argmax(axis=1),  \n",
        "                                        target_names=le_Dense.classes_))\n",
        "\n",
        "#   score = metrics.accuracy_score(y_test3_Incep.argmax(axis=1),\t        #ค่า acc\n",
        "#                                               pred3_Incep.argmax(axis=1)\n",
        "#    print(f\"Fold score (accuracy): {score}\")\n",
        "\n",
        "#    print(confusion_matrix(testY3_Incep.argmax(axis=1),\t                       #แสดง confusion_matrix\n",
        "#                        pred3_Incep.argmax(axis=1) ) )"
      ],
      "metadata": {
        "colab": {
          "base_uri": "https://localhost:8080/"
        },
        "outputId": "cc009b86-86bc-44e8-834a-036fd80547d9",
        "id": "udNZ6Lx0O1NE"
      },
      "execution_count": null,
      "outputs": [
        {
          "output_type": "stream",
          "name": "stdout",
          "text": [
            "Fold #1\n",
            "Epoch 1/30\n",
            "11/11 [==============================] - 140s 11s/step - loss: 0.5279 - accuracy: 0.6128 - val_loss: 0.4957 - val_accuracy: 0.6044\n",
            "Epoch 2/30\n",
            "11/11 [==============================] - 117s 11s/step - loss: 0.3433 - accuracy: 0.7988 - val_loss: 0.5024 - val_accuracy: 0.6044\n",
            "Epoch 3/30\n",
            "11/11 [==============================] - 117s 11s/step - loss: 0.3004 - accuracy: 0.8201 - val_loss: 0.4961 - val_accuracy: 0.5824\n",
            "Epoch 4/30\n",
            "11/11 [==============================] - 120s 11s/step - loss: 0.2424 - accuracy: 0.8811 - val_loss: 0.4854 - val_accuracy: 0.6154\n",
            "Epoch 5/30\n",
            "11/11 [==============================] - 128s 12s/step - loss: 0.2054 - accuracy: 0.9176 - val_loss: 0.4746 - val_accuracy: 0.6264\n",
            "Epoch 6/30\n",
            "11/11 [==============================] - 121s 11s/step - loss: 0.1721 - accuracy: 0.9146 - val_loss: 0.4974 - val_accuracy: 0.6044\n",
            "Epoch 7/30\n",
            "11/11 [==============================] - 121s 11s/step - loss: 0.1818 - accuracy: 0.9055 - val_loss: 0.5492 - val_accuracy: 0.6264\n",
            "Epoch 8/30\n",
            "11/11 [==============================] - 130s 12s/step - loss: 0.1394 - accuracy: 0.9545 - val_loss: 0.5083 - val_accuracy: 0.6264\n",
            "              precision    recall  f1-score   support\n",
            "\n",
            "  Lungcancer       0.60      0.11      0.18        28\n",
            "      Normal       0.66      1.00      0.80        33\n",
            "Tuberculosis       0.58      0.70      0.64        30\n",
            "\n",
            "    accuracy                           0.63        91\n",
            "   macro avg       0.61      0.60      0.54        91\n",
            "weighted avg       0.62      0.63      0.55        91\n",
            "\n",
            "Fold #2\n",
            "Epoch 1/30\n",
            "11/11 [==============================] - 119s 11s/step - loss: 0.1905 - accuracy: 0.8936 - val_loss: 0.3111 - val_accuracy: 0.8000\n",
            "Epoch 2/30\n",
            "11/11 [==============================] - 120s 11s/step - loss: 0.1542 - accuracy: 0.9331 - val_loss: 0.2452 - val_accuracy: 0.8333\n",
            "Epoch 3/30\n",
            "11/11 [==============================] - 119s 11s/step - loss: 0.1255 - accuracy: 0.9544 - val_loss: 0.1960 - val_accuracy: 0.9000\n",
            "Epoch 4/30\n",
            "11/11 [==============================] - 119s 11s/step - loss: 0.1079 - accuracy: 0.9544 - val_loss: 0.1361 - val_accuracy: 0.9556\n",
            "Epoch 5/30\n",
            "11/11 [==============================] - 120s 11s/step - loss: 0.0874 - accuracy: 0.9757 - val_loss: 0.1583 - val_accuracy: 0.9222\n",
            "Epoch 6/30\n",
            "11/11 [==============================] - 119s 11s/step - loss: 0.0979 - accuracy: 0.9666 - val_loss: 0.1872 - val_accuracy: 0.9111\n",
            "Epoch 7/30\n",
            "11/11 [==============================] - 126s 12s/step - loss: 0.0628 - accuracy: 0.9818 - val_loss: 0.1716 - val_accuracy: 0.8889\n",
            "              precision    recall  f1-score   support\n",
            "\n",
            "  Lungcancer       1.00      0.70      0.82        33\n",
            "      Normal       0.96      1.00      0.98        26\n",
            "Tuberculosis       0.78      1.00      0.87        31\n",
            "\n",
            "    accuracy                           0.89        90\n",
            "   macro avg       0.91      0.90      0.89        90\n",
            "weighted avg       0.91      0.89      0.89        90\n",
            "\n",
            "Fold #3\n",
            "Epoch 1/30\n",
            "11/11 [==============================] - 120s 11s/step - loss: 0.0687 - accuracy: 0.9818 - val_loss: 0.1314 - val_accuracy: 0.9222\n",
            "Epoch 2/30\n",
            "11/11 [==============================] - 122s 11s/step - loss: 0.0533 - accuracy: 0.9848 - val_loss: 0.1782 - val_accuracy: 0.9000\n",
            "Epoch 3/30\n",
            "11/11 [==============================] - 118s 11s/step - loss: 0.0427 - accuracy: 0.9909 - val_loss: 0.1058 - val_accuracy: 0.9556\n",
            "Epoch 4/30\n",
            "11/11 [==============================] - 122s 11s/step - loss: 0.0467 - accuracy: 0.9848 - val_loss: 0.0673 - val_accuracy: 0.9778\n",
            "Epoch 5/30\n",
            "11/11 [==============================] - 120s 11s/step - loss: 0.0320 - accuracy: 0.9878 - val_loss: 0.0865 - val_accuracy: 0.9556\n",
            "Epoch 6/30\n",
            "11/11 [==============================] - 121s 11s/step - loss: 0.0432 - accuracy: 0.9909 - val_loss: 0.0577 - val_accuracy: 0.9667\n",
            "Epoch 7/30\n",
            "11/11 [==============================] - 120s 11s/step - loss: 0.0342 - accuracy: 0.9909 - val_loss: 0.0660 - val_accuracy: 0.9667\n",
            "              precision    recall  f1-score   support\n",
            "\n",
            "  Lungcancer       0.96      0.93      0.95        29\n",
            "      Normal       1.00      1.00      1.00        33\n",
            "Tuberculosis       0.93      0.96      0.95        28\n",
            "\n",
            "    accuracy                           0.97        90\n",
            "   macro avg       0.97      0.97      0.96        90\n",
            "weighted avg       0.97      0.97      0.97        90\n",
            "\n",
            "Fold #4\n",
            "Epoch 1/30\n",
            "11/11 [==============================] - 119s 11s/step - loss: 0.0440 - accuracy: 0.9909 - val_loss: 0.0245 - val_accuracy: 1.0000\n",
            "Epoch 2/30\n",
            "11/11 [==============================] - 124s 12s/step - loss: 0.0408 - accuracy: 0.9848 - val_loss: 0.0182 - val_accuracy: 1.0000\n",
            "Epoch 3/30\n",
            "11/11 [==============================] - 120s 11s/step - loss: 0.0385 - accuracy: 0.9757 - val_loss: 0.0217 - val_accuracy: 0.9889\n",
            "Epoch 4/30\n",
            "11/11 [==============================] - 118s 11s/step - loss: 0.0381 - accuracy: 0.9848 - val_loss: 0.1541 - val_accuracy: 0.9111\n",
            "              precision    recall  f1-score   support\n",
            "\n",
            "  Lungcancer       1.00      0.73      0.85        30\n",
            "      Normal       0.97      1.00      0.98        31\n",
            "Tuberculosis       0.81      1.00      0.89        29\n",
            "\n",
            "    accuracy                           0.91        90\n",
            "   macro avg       0.92      0.91      0.91        90\n",
            "weighted avg       0.93      0.91      0.91        90\n",
            "\n",
            "Fold #5\n",
            "Epoch 1/30\n",
            "11/11 [==============================] - 121s 11s/step - loss: 0.0369 - accuracy: 0.9818 - val_loss: 0.0331 - val_accuracy: 0.9778\n",
            "Epoch 2/30\n",
            "11/11 [==============================] - 119s 11s/step - loss: 0.0364 - accuracy: 0.9939 - val_loss: 0.0466 - val_accuracy: 0.9778\n",
            "Epoch 3/30\n",
            "11/11 [==============================] - 120s 11s/step - loss: 0.0347 - accuracy: 0.9909 - val_loss: 0.0572 - val_accuracy: 0.9667\n",
            "Epoch 4/30\n",
            "11/11 [==============================] - 119s 11s/step - loss: 0.0395 - accuracy: 0.9818 - val_loss: 0.0143 - val_accuracy: 1.0000\n",
            "Epoch 5/30\n",
            "11/11 [==============================] - 119s 11s/step - loss: 0.0203 - accuracy: 0.9970 - val_loss: 0.0085 - val_accuracy: 1.0000\n",
            "Epoch 6/30\n",
            "11/11 [==============================] - 131s 12s/step - loss: 0.0197 - accuracy: 0.9943 - val_loss: 0.0257 - val_accuracy: 0.9889\n",
            "Epoch 7/30\n",
            "11/11 [==============================] - 121s 11s/step - loss: 0.0256 - accuracy: 0.9970 - val_loss: 0.0148 - val_accuracy: 1.0000\n",
            "              precision    recall  f1-score   support\n",
            "\n",
            "  Lungcancer       1.00      1.00      1.00        30\n",
            "      Normal       1.00      1.00      1.00        28\n",
            "Tuberculosis       1.00      1.00      1.00        32\n",
            "\n",
            "    accuracy                           1.00        90\n",
            "   macro avg       1.00      1.00      1.00        90\n",
            "weighted avg       1.00      1.00      1.00        90\n",
            "\n"
          ]
        }
      ]
    },
    {
      "cell_type": "code",
      "source": [
        "oos_y3 = np.concatenate(oos_y3)\n",
        "oos_pred3 = np.concatenate(oos_pred3)"
      ],
      "metadata": {
        "id": "n9169bAFO1NE"
      },
      "execution_count": null,
      "outputs": []
    },
    {
      "cell_type": "code",
      "source": [
        "score = metrics.accuracy_score(oos_y3.argmax(axis=1),\t        #ค่า acc\n",
        "                                             oos_pred3.argmax(axis=1) )\n",
        "print(f\"Fold score (accuracy): {score}\")\n",
        "\n",
        "print(classification_report(oos_y3.argmax(axis=1),\t                #แสดง report ค่า acc, recall, ...\n",
        "                                        oos_pred3.argmax(axis=1),  \n",
        "                                        target_names=le_Dense.classes_))"
      ],
      "metadata": {
        "colab": {
          "base_uri": "https://localhost:8080/"
        },
        "outputId": "ae6fb305-37cf-46d5-9c7d-d7b594f36f71",
        "id": "Ml-DrJnqO1NE"
      },
      "execution_count": null,
      "outputs": [
        {
          "output_type": "stream",
          "name": "stdout",
          "text": [
            "Fold score (accuracy): 0.8780487804878049\n",
            "              precision    recall  f1-score   support\n",
            "\n",
            "  Lungcancer       0.97      0.70      0.81       150\n",
            "      Normal       0.89      1.00      0.94       151\n",
            "Tuberculosis       0.81      0.93      0.87       150\n",
            "\n",
            "    accuracy                           0.88       451\n",
            "   macro avg       0.89      0.88      0.87       451\n",
            "weighted avg       0.89      0.88      0.87       451\n",
            "\n"
          ]
        }
      ]
    },
    {
      "cell_type": "markdown",
      "source": [
        "## 6.1) K-fold  -- DenseNet201\n",
        "\n",
        "### -->ACC = 0.83 \n",
        "### -->เวลา 3717 วินาที\n",
        "\n",
        "*   BS = 32\n",
        "*   fix weight & bias in layer 0-500\n",
        "*   activation=\"sigmoid\"\n",
        "*   learning_rate=0.0001\n",
        "*   epoch 30"
      ],
      "metadata": {
        "id": "Adub3kWG1sHL"
      }
    },
    {
      "cell_type": "code",
      "source": [
        "train_img_Dense = []\n",
        "for ImageName in tqdm(data_train3['ImageName']):               # รัน ชื่อรูป ในไฟล์ data_test3\n",
        "    image_path = All_3class_dir +'/' + ImageName                   # ดึงรูปในโฟล์เดอร์มาทีละรูป\n",
        "    img = cv2.imread(image_path)                                            # อ่านรูป\n",
        "    img = cv2.resize(img, (224, 224))                                       #ขนาดของ input\n",
        "    train_img_Dense.append(img)\n",
        "\n",
        "data_Dense = np.array(train_img_Dense, dtype=\"float32\") / 255.0"
      ],
      "metadata": {
        "outputId": "7dbb2a0c-1b02-4dda-a9ee-11821a53a784",
        "colab": {
          "base_uri": "https://localhost:8080/"
        },
        "id": "WkxHgbcS1sHM"
      },
      "execution_count": null,
      "outputs": [
        {
          "output_type": "stream",
          "name": "stderr",
          "text": [
            "100%|██████████| 451/451 [00:05<00:00, 75.37it/s] \n"
          ]
        }
      ]
    },
    {
      "cell_type": "code",
      "source": [
        "labels_Dense = np.array(data_train3[['NameType']] )        \n",
        "labels_Dense.shape = (len(labels_Dense),) \n",
        "\n",
        "le_Dense = LabelEncoder()                                                                     \n",
        "labels_Dense = le_Dense.fit_transform(labels_Dense)                                         #จะแปลงชื่อ class เป็นตัวเลข 1, 2, 0 \n",
        "\n",
        "labels_Dense = to_categorical(labels_Dense, num_classes=3)                   #shape (180, 3) มีค่าเป็น  [0., 1., 0.]  กับ   [0., 0., 1.] กับ  [1., 0., 0.]"
      ],
      "metadata": {
        "id": "VJLW3tlg1sHM"
      },
      "execution_count": null,
      "outputs": []
    },
    {
      "cell_type": "code",
      "source": [
        "INIT_LR = 1e-1\n",
        "BS32 = 32\n",
        "\n",
        "\n",
        "aug61 = ImageDataGenerator(\n",
        "\t\trotation_range=15,\t\t\t\t\t\t#องศาการหมุน\n",
        "\t\twidth_shift_range=0.1,\n",
        "\t\theight_shift_range=0.1,\n",
        "\t\tshear_range=0.15,\n",
        "\t\thorizontal_flip=True,\n",
        "\t\tfill_mode=\"nearest\")\n",
        "\n",
        "callback = tf.keras.callbacks.EarlyStopping(\n",
        "                monitor=\"val_accuracy\",\n",
        "                patience=3,\n",
        "                mode=\"max\" )"
      ],
      "metadata": {
        "id": "XOgq-wgr1sHN"
      },
      "execution_count": null,
      "outputs": []
    },
    {
      "cell_type": "code",
      "source": [
        "base_model_Dense = tf.keras.applications.DenseNet201(input_shape=(224, 224, 3), include_top=False, weights=\"imagenet\")\n",
        "len(base_model_Dense.layers)"
      ],
      "metadata": {
        "colab": {
          "base_uri": "https://localhost:8080/"
        },
        "outputId": "63bd05ec-88c5-4f49-d459-3917e9b3ffaa",
        "id": "xja9q4r71sHN"
      },
      "execution_count": null,
      "outputs": [
        {
          "output_type": "execute_result",
          "data": {
            "text/plain": [
              "707"
            ]
          },
          "metadata": {},
          "execution_count": 23
        }
      ]
    },
    {
      "cell_type": "code",
      "source": [
        "base_model_Dense.trainable = True\n",
        "for layer in base_model_Dense.layers[:500]:    #fix w & bias in layer 0-500\n",
        "    layer.trainable = False\n",
        "\n",
        "#Add custom head\n",
        "average_pooling_layer = tf.keras.layers.GlobalAveragePooling2D()(base_model_Dense.output)\n",
        "prediction_layer = tf.keras.layers.Dense(units=3, activation=\"sigmoid\")(average_pooling_layer)   # unit 3\n",
        "model_Dense61 = tf.keras.models.Model(inputs=base_model_Dense.input, outputs=prediction_layer)\n",
        "\n",
        "model_Dense61.compile(optimizer=tf.keras.optimizers.RMSprop(learning_rate=0.0001), loss=\"binary_crossentropy\", metrics=[\"accuracy\"])"
      ],
      "metadata": {
        "id": "FfQP_G8q1sHO"
      },
      "execution_count": null,
      "outputs": []
    },
    {
      "cell_type": "code",
      "source": [
        "kf_Dense61 = KFold(5, shuffle=True, random_state=40) \n",
        "\n",
        "oos_y61 = []\n",
        "oos_pred61 = []\n",
        "fold = 0\n",
        "\n",
        "for train, test in kf_Dense61.split(data_Dense):\n",
        "    fold+=1\n",
        "    print(f\"Fold #{fold}\")\n",
        "        \n",
        "    x_train_Dense61 = data_Dense[train]\n",
        "    y_train_Dense61 = labels_Dense[train]\n",
        "    x_test_Dense61 = data_Dense[test]\n",
        "    y_test_Dense61 = labels_Dense[test]\n",
        "\n",
        "    H_Dense61 = model_Dense61.fit( x=aug61.flow(x_train_Dense61, y_train_Dense61, batch_size=BS32),\n",
        "\t                                            validation_data=(x_test_Dense61, y_test_Dense61),\n",
        "\t                                            steps_per_epoch=len(x_train_Dense61) // BS32,\n",
        "\t                                            epochs=30,  callbacks = [callback])\n",
        "    \n",
        "    pred_Dense61 = model_Dense61.predict(x_test_Dense61)\n",
        "    \n",
        "    oos_y61.append(y_test_Dense61)\n",
        "    oos_pred61.append(pred_Dense61)  \n",
        "    print(classification_report(y_test_Dense61.argmax(axis=1),\t                #แสดง report ค่า acc, recall, ...\n",
        "                                        pred_Dense61.argmax(axis=1),  \n",
        "                                        target_names=le_Dense.classes_))\n",
        "\n",
        "#   score = metrics.accuracy_score(y_test3_Incep.argmax(axis=1),\t        #ค่า acc\n",
        "#                                               pred3_Incep.argmax(axis=1)\n",
        "#    print(f\"Fold score (accuracy): {score}\")\n",
        "\n",
        "#    print(confusion_matrix(testY3_Incep.argmax(axis=1),\t                       #แสดง confusion_matrix\n",
        "#                        pred3_Incep.argmax(axis=1) ) )"
      ],
      "metadata": {
        "colab": {
          "base_uri": "https://localhost:8080/"
        },
        "outputId": "97bfd652-eae9-4f06-f314-b89815614d49",
        "id": "cqIgvchB1sHO"
      },
      "execution_count": null,
      "outputs": [
        {
          "output_type": "stream",
          "name": "stdout",
          "text": [
            "Fold #1\n",
            "Epoch 1/30\n",
            "11/11 [==============================] - 157s 13s/step - loss: 0.5284 - accuracy: 0.6707 - val_loss: 0.5973 - val_accuracy: 0.5934\n",
            "Epoch 2/30\n",
            "11/11 [==============================] - 123s 11s/step - loss: 0.3653 - accuracy: 0.7988 - val_loss: 0.5900 - val_accuracy: 0.5934\n",
            "Epoch 3/30\n",
            "11/11 [==============================] - 124s 11s/step - loss: 0.2948 - accuracy: 0.8659 - val_loss: 0.5982 - val_accuracy: 0.5714\n",
            "Epoch 4/30\n",
            "11/11 [==============================] - 123s 11s/step - loss: 0.2640 - accuracy: 0.8567 - val_loss: 0.5836 - val_accuracy: 0.5824\n",
            "              precision    recall  f1-score   support\n",
            "\n",
            "  Lungcancer       0.50      0.04      0.07        28\n",
            "      Normal       0.60      1.00      0.75        33\n",
            "Tuberculosis       0.56      0.63      0.59        30\n",
            "\n",
            "    accuracy                           0.58        91\n",
            "   macro avg       0.55      0.56      0.47        91\n",
            "weighted avg       0.56      0.58      0.49        91\n",
            "\n",
            "Fold #2\n",
            "Epoch 1/30\n",
            "11/11 [==============================] - 123s 11s/step - loss: 0.2529 - accuracy: 0.8602 - val_loss: 0.4146 - val_accuracy: 0.7556\n",
            "Epoch 2/30\n",
            "11/11 [==============================] - 122s 11s/step - loss: 0.2371 - accuracy: 0.8754 - val_loss: 0.3664 - val_accuracy: 0.7889\n",
            "Epoch 3/30\n",
            "11/11 [==============================] - 127s 12s/step - loss: 0.1958 - accuracy: 0.9088 - val_loss: 0.2773 - val_accuracy: 0.8444\n",
            "Epoch 4/30\n",
            "11/11 [==============================] - 122s 11s/step - loss: 0.1646 - accuracy: 0.9362 - val_loss: 0.3135 - val_accuracy: 0.8222\n",
            "Epoch 5/30\n",
            "11/11 [==============================] - 122s 11s/step - loss: 0.1633 - accuracy: 0.9058 - val_loss: 0.2773 - val_accuracy: 0.8444\n",
            "Epoch 6/30\n",
            "11/11 [==============================] - 123s 11s/step - loss: 0.1428 - accuracy: 0.9362 - val_loss: 0.3418 - val_accuracy: 0.8111\n",
            "              precision    recall  f1-score   support\n",
            "\n",
            "  Lungcancer       1.00      0.58      0.73        33\n",
            "      Normal       0.78      0.96      0.86        26\n",
            "Tuberculosis       0.74      0.94      0.83        31\n",
            "\n",
            "    accuracy                           0.81        90\n",
            "   macro avg       0.84      0.82      0.81        90\n",
            "weighted avg       0.85      0.81      0.80        90\n",
            "\n",
            "Fold #3\n",
            "Epoch 1/30\n",
            "11/11 [==============================] - 123s 11s/step - loss: 0.1168 - accuracy: 0.9666 - val_loss: 0.2377 - val_accuracy: 0.8556\n",
            "Epoch 2/30\n",
            "11/11 [==============================] - 121s 11s/step - loss: 0.1314 - accuracy: 0.9331 - val_loss: 0.2171 - val_accuracy: 0.8667\n",
            "Epoch 3/30\n",
            "11/11 [==============================] - 128s 12s/step - loss: 0.1124 - accuracy: 0.9545 - val_loss: 0.1514 - val_accuracy: 0.9111\n",
            "Epoch 4/30\n",
            "11/11 [==============================] - 122s 11s/step - loss: 0.0869 - accuracy: 0.9726 - val_loss: 0.1547 - val_accuracy: 0.9222\n",
            "Epoch 5/30\n",
            "11/11 [==============================] - 122s 11s/step - loss: 0.0735 - accuracy: 0.9757 - val_loss: 0.1133 - val_accuracy: 0.9222\n",
            "Epoch 6/30\n",
            "11/11 [==============================] - 121s 11s/step - loss: 0.0642 - accuracy: 0.9787 - val_loss: 0.0753 - val_accuracy: 0.9778\n",
            "Epoch 7/30\n",
            "11/11 [==============================] - 122s 12s/step - loss: 0.0632 - accuracy: 0.9848 - val_loss: 0.0860 - val_accuracy: 0.9667\n",
            "Epoch 8/30\n",
            "11/11 [==============================] - 127s 12s/step - loss: 0.0604 - accuracy: 0.9716 - val_loss: 0.0885 - val_accuracy: 0.9444\n",
            "Epoch 9/30\n",
            "11/11 [==============================] - 121s 11s/step - loss: 0.0504 - accuracy: 0.9818 - val_loss: 0.1449 - val_accuracy: 0.9222\n",
            "              precision    recall  f1-score   support\n",
            "\n",
            "  Lungcancer       0.96      0.83      0.89        29\n",
            "      Normal       1.00      0.97      0.98        33\n",
            "Tuberculosis       0.82      0.96      0.89        28\n",
            "\n",
            "    accuracy                           0.92        90\n",
            "   macro avg       0.93      0.92      0.92        90\n",
            "weighted avg       0.93      0.92      0.92        90\n",
            "\n",
            "Fold #4\n",
            "Epoch 1/30\n",
            "11/11 [==============================] - 122s 11s/step - loss: 0.0849 - accuracy: 0.9635 - val_loss: 0.0382 - val_accuracy: 0.9889\n",
            "Epoch 2/30\n",
            "11/11 [==============================] - 120s 11s/step - loss: 0.0568 - accuracy: 0.9787 - val_loss: 0.0615 - val_accuracy: 0.9444\n",
            "Epoch 3/30\n",
            "11/11 [==============================] - 122s 11s/step - loss: 0.0464 - accuracy: 0.9909 - val_loss: 0.1124 - val_accuracy: 0.9444\n",
            "Epoch 4/30\n",
            "11/11 [==============================] - 119s 11s/step - loss: 0.0375 - accuracy: 0.9878 - val_loss: 0.1250 - val_accuracy: 0.9111\n",
            "              precision    recall  f1-score   support\n",
            "\n",
            "  Lungcancer       1.00      0.73      0.85        30\n",
            "      Normal       0.97      1.00      0.98        31\n",
            "Tuberculosis       0.81      1.00      0.89        29\n",
            "\n",
            "    accuracy                           0.91        90\n",
            "   macro avg       0.92      0.91      0.91        90\n",
            "weighted avg       0.93      0.91      0.91        90\n",
            "\n",
            "Fold #5\n",
            "Epoch 1/30\n",
            "11/11 [==============================] - 119s 11s/step - loss: 0.0462 - accuracy: 0.9787 - val_loss: 0.0198 - val_accuracy: 1.0000\n",
            "Epoch 2/30\n",
            "11/11 [==============================] - 123s 12s/step - loss: 0.0330 - accuracy: 0.9878 - val_loss: 0.0236 - val_accuracy: 0.9889\n",
            "Epoch 3/30\n",
            "11/11 [==============================] - 124s 11s/step - loss: 0.0398 - accuracy: 0.9848 - val_loss: 0.0787 - val_accuracy: 0.9333\n",
            "Epoch 4/30\n",
            "11/11 [==============================] - 125s 12s/step - loss: 0.0283 - accuracy: 0.9939 - val_loss: 0.0828 - val_accuracy: 0.9444\n",
            "              precision    recall  f1-score   support\n",
            "\n",
            "  Lungcancer       1.00      0.87      0.93        30\n",
            "      Normal       1.00      0.96      0.98        28\n",
            "Tuberculosis       0.86      1.00      0.93        32\n",
            "\n",
            "    accuracy                           0.94        90\n",
            "   macro avg       0.95      0.94      0.95        90\n",
            "weighted avg       0.95      0.94      0.94        90\n",
            "\n"
          ]
        }
      ]
    },
    {
      "cell_type": "code",
      "source": [
        "oos_y61 = np.concatenate(oos_y61)\n",
        "oos_pred61 = np.concatenate(oos_pred61)"
      ],
      "metadata": {
        "id": "LUlYsXyg1sHP"
      },
      "execution_count": null,
      "outputs": []
    },
    {
      "cell_type": "code",
      "source": [
        "score61 = metrics.accuracy_score(oos_y61.argmax(axis=1),\t        #ค่า acc\n",
        "                                             oos_pred61.argmax(axis=1) )\n",
        "print(f\"Fold score (accuracy): {score61}\")\n",
        "\n",
        "print(classification_report(oos_y61.argmax(axis=1),\t                #แสดง report ค่า acc, recall, ...\n",
        "                                        oos_pred61.argmax(axis=1),  \n",
        "                                        target_names=le_Dense.classes_))"
      ],
      "metadata": {
        "colab": {
          "base_uri": "https://localhost:8080/"
        },
        "outputId": "07e49d4d-99c0-4355-95c3-02336b265760",
        "id": "c5MpZiIF1sHP"
      },
      "execution_count": null,
      "outputs": [
        {
          "output_type": "stream",
          "name": "stdout",
          "text": [
            "Fold score (accuracy): 0.8337028824833703\n",
            "              precision    recall  f1-score   support\n",
            "\n",
            "  Lungcancer       0.98      0.61      0.75       150\n",
            "      Normal       0.83      0.98      0.90       151\n",
            "Tuberculosis       0.76      0.91      0.83       150\n",
            "\n",
            "    accuracy                           0.83       451\n",
            "   macro avg       0.86      0.83      0.83       451\n",
            "weighted avg       0.86      0.83      0.83       451\n",
            "\n"
          ]
        }
      ]
    },
    {
      "cell_type": "markdown",
      "source": [
        "## 7) K-fold  -- DenseNet201\n",
        "\n",
        "### -->ACC = 0.80\n",
        "### -->เวลา 6780 วินาที\n",
        "\n",
        "*   BS = 1\n",
        "*   fix weight & bias in layer 0-500\n",
        "*   activation=\"softmax\"\n",
        "*   learning_rate=0.0001\n",
        "*   epoch 30"
      ],
      "metadata": {
        "id": "iHQBVXXcmL5_"
      }
    },
    {
      "cell_type": "code",
      "source": [
        "train_img_Dense = []\n",
        "for ImageName in tqdm(data_train3['ImageName']):               # รัน ชื่อรูป ในไฟล์ data_test3\n",
        "    image_path = All_3class_dir +'/' + ImageName                   # ดึงรูปในโฟล์เดอร์มาทีละรูป\n",
        "    img = cv2.imread(image_path)                                            # อ่านรูป\n",
        "    img = cv2.resize(img, (224, 224))                                       #ขนาดของ input\n",
        "    train_img_Dense.append(img)\n",
        "\n",
        "data_Dense = np.array(train_img_Dense, dtype=\"float32\") / 255.0"
      ],
      "metadata": {
        "outputId": "e4f413c8-7b87-4188-d550-8273ce0ed2f5",
        "colab": {
          "base_uri": "https://localhost:8080/"
        },
        "id": "9boVfrjFmL6A"
      },
      "execution_count": null,
      "outputs": [
        {
          "output_type": "stream",
          "name": "stderr",
          "text": [
            "100%|██████████| 451/451 [02:25<00:00,  3.10it/s]\n"
          ]
        }
      ]
    },
    {
      "cell_type": "code",
      "source": [
        "labels_Dense = np.array(data_train3[['NameType']] )        \n",
        "labels_Dense.shape = (len(labels_Dense),) \n",
        "\n",
        "le_Dense = LabelEncoder()                                                                     \n",
        "labels_Dense = le_Dense.fit_transform(labels_Dense)                                         #จะแปลงชื่อ class เป็นตัวเลข 1, 2, 0 \n",
        "\n",
        "labels_Dense = to_categorical(labels_Dense, num_classes=3)                   #shape (180, 3) มีค่าเป็น  [0., 1., 0.]  กับ   [0., 0., 1.] กับ  [1., 0., 0.]"
      ],
      "metadata": {
        "id": "qDzKGg4CmL6A"
      },
      "execution_count": null,
      "outputs": []
    },
    {
      "cell_type": "code",
      "source": [
        "INIT_LR = 1e-1\n",
        "BS = 1\n",
        "EPOCHS = 50\n",
        "\n",
        "aug7 = ImageDataGenerator(\n",
        "\t\trotation_range=15,\t\t\t\t\t\t#องศาการหมุน\n",
        "\t\twidth_shift_range=0.1,\n",
        "\t\theight_shift_range=0.1,\n",
        "\t\tshear_range=0.15,\n",
        "\t\thorizontal_flip=True,\n",
        "\t\tfill_mode=\"nearest\")\n",
        "\n",
        "callback = tf.keras.callbacks.EarlyStopping(\n",
        "                monitor=\"val_accuracy\",\n",
        "                patience=3,\n",
        "                mode=\"max\" )"
      ],
      "metadata": {
        "id": "PyIBCMOMmL6B"
      },
      "execution_count": null,
      "outputs": []
    },
    {
      "cell_type": "code",
      "source": [
        "base_model_Dense = tf.keras.applications.DenseNet201(input_shape=(224, 224, 3), include_top=False, weights=\"imagenet\")\n",
        "len(base_model_Dense.layers)"
      ],
      "metadata": {
        "colab": {
          "base_uri": "https://localhost:8080/"
        },
        "outputId": "4dd2d62e-4d70-45af-8c36-5db4594ff938",
        "id": "Hw9GWK_MmL6B"
      },
      "execution_count": null,
      "outputs": [
        {
          "output_type": "stream",
          "name": "stdout",
          "text": [
            "Downloading data from https://storage.googleapis.com/tensorflow/keras-applications/densenet/densenet201_weights_tf_dim_ordering_tf_kernels_notop.h5\n",
            "74842112/74836368 [==============================] - 1s 0us/step\n",
            "74850304/74836368 [==============================] - 1s 0us/step\n"
          ]
        },
        {
          "output_type": "execute_result",
          "data": {
            "text/plain": [
              "707"
            ]
          },
          "metadata": {},
          "execution_count": 15
        }
      ]
    },
    {
      "cell_type": "code",
      "source": [
        "base_model_Dense.trainable = True\n",
        "for layer in base_model_Dense.layers[:500]:    #fix w & bias in layer 0-500\n",
        "    layer.trainable = False\n",
        "\n",
        "#Add custom head\n",
        "average_pooling_layer = tf.keras.layers.GlobalAveragePooling2D()(base_model_Dense.output)\n",
        "prediction_layer = tf.keras.layers.Dense(units=3, activation=\"softmax\")(average_pooling_layer)   # unit 3\n",
        "model_Dense7 = tf.keras.models.Model(inputs=base_model_Dense.input, outputs=prediction_layer)\n",
        "\n",
        "model_Dense7.compile(optimizer=tf.keras.optimizers.RMSprop(learning_rate=0.0001), loss=\"binary_crossentropy\", metrics=[\"accuracy\"])"
      ],
      "metadata": {
        "id": "rYSt5QtCmL6B"
      },
      "execution_count": null,
      "outputs": []
    },
    {
      "cell_type": "code",
      "source": [
        "kf_Dense7 = KFold(5, shuffle=True, random_state=40) \n",
        "\n",
        "oos_y7 = []\n",
        "oos_pred7 = []\n",
        "fold = 0\n",
        "\n",
        "for train, test in kf_Dense7.split(data_Dense):\n",
        "    fold+=1\n",
        "    print(f\"Fold #{fold}\")\n",
        "        \n",
        "    x_train_Dense7 = data_Dense[train]\n",
        "    y_train_Dense7 = labels_Dense[train]\n",
        "    x_test_Dense7 = data_Dense[test]\n",
        "    y_test_Dense7 = labels_Dense[test]\n",
        "\n",
        "    H_Dense7 = model_Dense7.fit( x=aug7.flow(x_train_Dense7, y_train_Dense7, batch_size=BS),\n",
        "\t                                            validation_data=(x_test_Dense7, y_test_Dense7),\n",
        "\t                                            steps_per_epoch=len(x_train_Dense7) // BS,\n",
        "\t                                            epochs=30,  callbacks = [callback])\n",
        "    \n",
        "    pred_Dense7 = model_Dense7.predict(x_test_Dense7)\n",
        "    \n",
        "    oos_y7.append(y_test_Dense7)\n",
        "    oos_pred7.append(pred_Dense7)  \n",
        "    print(classification_report(y_test_Dense7.argmax(axis=1),\t                #แสดง report ค่า acc, recall, ...\n",
        "                                        pred_Dense7.argmax(axis=1),  \n",
        "                                        target_names=le_Dense.classes_))\n",
        "\n",
        "#   score = metrics.accuracy_score(y_test3_Incep.argmax(axis=1),\t        #ค่า acc\n",
        "#                                               pred3_Incep.argmax(axis=1)\n",
        "#    print(f\"Fold score (accuracy): {score}\")\n",
        "\n",
        "#    print(confusion_matrix(testY3_Incep.argmax(axis=1),\t                       #แสดง confusion_matrix\n",
        "#                        pred3_Incep.argmax(axis=1) ) )"
      ],
      "metadata": {
        "colab": {
          "base_uri": "https://localhost:8080/"
        },
        "outputId": "d32a67d1-8343-4315-e773-21b2fa12ab47",
        "id": "Mo4fnrklmL6C"
      },
      "execution_count": null,
      "outputs": [
        {
          "output_type": "stream",
          "name": "stdout",
          "text": [
            "Fold #1\n",
            "Epoch 1/30\n",
            "360/360 [==============================] - 189s 467ms/step - loss: 0.6206 - accuracy: 0.4361 - val_loss: 0.5362 - val_accuracy: 0.6593\n",
            "Epoch 2/30\n",
            "360/360 [==============================] - 213s 592ms/step - loss: 0.5373 - accuracy: 0.6139 - val_loss: 0.4485 - val_accuracy: 0.6264\n",
            "Epoch 3/30\n",
            "360/360 [==============================] - 210s 585ms/step - loss: 0.4510 - accuracy: 0.6944 - val_loss: 0.3502 - val_accuracy: 0.7473\n",
            "Epoch 4/30\n",
            "360/360 [==============================] - 216s 599ms/step - loss: 0.3795 - accuracy: 0.7417 - val_loss: 0.3338 - val_accuracy: 0.7582\n",
            "Epoch 5/30\n",
            "360/360 [==============================] - 220s 612ms/step - loss: 0.3188 - accuracy: 0.8083 - val_loss: 0.3708 - val_accuracy: 0.7143\n",
            "Epoch 6/30\n",
            "360/360 [==============================] - 220s 612ms/step - loss: 0.2769 - accuracy: 0.8444 - val_loss: 0.4142 - val_accuracy: 0.7143\n",
            "Epoch 7/30\n",
            "360/360 [==============================] - 220s 610ms/step - loss: 0.2481 - accuracy: 0.8417 - val_loss: 0.3847 - val_accuracy: 0.7363\n",
            "              precision    recall  f1-score   support\n",
            "\n",
            "  Lungcancer       0.64      0.75      0.69        28\n",
            "      Normal       0.91      0.91      0.91        33\n",
            "Tuberculosis       0.64      0.53      0.58        30\n",
            "\n",
            "    accuracy                           0.74        91\n",
            "   macro avg       0.73      0.73      0.73        91\n",
            "weighted avg       0.74      0.74      0.73        91\n",
            "\n",
            "Fold #2\n",
            "Epoch 1/30\n",
            "361/361 [==============================] - 175s 485ms/step - loss: 0.2465 - accuracy: 0.8560 - val_loss: 0.2081 - val_accuracy: 0.8889\n",
            "Epoch 2/30\n",
            "361/361 [==============================] - 215s 595ms/step - loss: 0.2436 - accuracy: 0.8421 - val_loss: 0.3107 - val_accuracy: 0.8000\n",
            "Epoch 3/30\n",
            "361/361 [==============================] - 400s 1s/step - loss: 0.2042 - accuracy: 0.8809 - val_loss: 0.8151 - val_accuracy: 0.6333\n",
            "Epoch 4/30\n",
            "361/361 [==============================] - 410s 1s/step - loss: 0.1773 - accuracy: 0.9030 - val_loss: 0.3161 - val_accuracy: 0.8222\n",
            "              precision    recall  f1-score   support\n",
            "\n",
            "  Lungcancer       0.78      0.88      0.83        33\n",
            "      Normal       1.00      0.77      0.87        26\n",
            "Tuberculosis       0.76      0.81      0.78        31\n",
            "\n",
            "    accuracy                           0.82        90\n",
            "   macro avg       0.85      0.82      0.83        90\n",
            "weighted avg       0.84      0.82      0.82        90\n",
            "\n",
            "Fold #3\n",
            "Epoch 1/30\n",
            "361/361 [==============================] - 201s 557ms/step - loss: 0.1711 - accuracy: 0.9058 - val_loss: 0.4402 - val_accuracy: 0.7778\n",
            "Epoch 2/30\n",
            "361/361 [==============================] - 398s 1s/step - loss: 0.1227 - accuracy: 0.9446 - val_loss: 0.3043 - val_accuracy: 0.8111\n",
            "Epoch 3/30\n",
            "361/361 [==============================] - 383s 1s/step - loss: 0.1089 - accuracy: 0.9501 - val_loss: 0.5681 - val_accuracy: 0.7889\n",
            "Epoch 4/30\n",
            "361/361 [==============================] - 378s 1s/step - loss: 0.0799 - accuracy: 0.9584 - val_loss: 0.3221 - val_accuracy: 0.8000\n",
            "Epoch 5/30\n",
            "361/361 [==============================] - 382s 1s/step - loss: 0.0862 - accuracy: 0.9612 - val_loss: 0.6978 - val_accuracy: 0.7556\n",
            "              precision    recall  f1-score   support\n",
            "\n",
            "  Lungcancer       1.00      0.55      0.71        29\n",
            "      Normal       1.00      0.73      0.84        33\n",
            "Tuberculosis       0.56      1.00      0.72        28\n",
            "\n",
            "    accuracy                           0.76        90\n",
            "   macro avg       0.85      0.76      0.76        90\n",
            "weighted avg       0.86      0.76      0.76        90\n",
            "\n",
            "Fold #4\n",
            "Epoch 1/30\n",
            "361/361 [==============================] - 166s 461ms/step - loss: 0.1277 - accuracy: 0.9363 - val_loss: 0.0738 - val_accuracy: 0.9778\n",
            "Epoch 2/30\n",
            "361/361 [==============================] - 176s 489ms/step - loss: 0.0998 - accuracy: 0.9584 - val_loss: 0.0863 - val_accuracy: 0.9778\n",
            "Epoch 3/30\n",
            "361/361 [==============================] - 171s 473ms/step - loss: 0.1156 - accuracy: 0.9391 - val_loss: 0.1236 - val_accuracy: 0.9333\n",
            "Epoch 4/30\n",
            "361/361 [==============================] - 169s 469ms/step - loss: 0.0828 - accuracy: 0.9584 - val_loss: 0.2244 - val_accuracy: 0.8556\n",
            "              precision    recall  f1-score   support\n",
            "\n",
            "  Lungcancer       0.81      0.87      0.84        30\n",
            "      Normal       1.00      0.84      0.91        31\n",
            "Tuberculosis       0.78      0.86      0.82        29\n",
            "\n",
            "    accuracy                           0.86        90\n",
            "   macro avg       0.86      0.86      0.86        90\n",
            "weighted avg       0.87      0.86      0.86        90\n",
            "\n",
            "Fold #5\n",
            "Epoch 1/30\n",
            "361/361 [==============================] - 169s 467ms/step - loss: 0.0737 - accuracy: 0.9612 - val_loss: 0.6101 - val_accuracy: 0.8222\n",
            "Epoch 2/30\n",
            "361/361 [==============================] - 169s 469ms/step - loss: 0.0832 - accuracy: 0.9584 - val_loss: 0.3061 - val_accuracy: 0.8444\n",
            "Epoch 3/30\n",
            "361/361 [==============================] - 180s 497ms/step - loss: 0.0760 - accuracy: 0.9612 - val_loss: 0.1245 - val_accuracy: 0.9333\n",
            "Epoch 4/30\n",
            "361/361 [==============================] - 179s 496ms/step - loss: 0.0428 - accuracy: 0.9806 - val_loss: 0.4016 - val_accuracy: 0.8667\n",
            "Epoch 5/30\n",
            "361/361 [==============================] - 184s 510ms/step - loss: 0.0611 - accuracy: 0.9695 - val_loss: 0.3542 - val_accuracy: 0.8778\n",
            "Epoch 6/30\n",
            "361/361 [==============================] - 180s 499ms/step - loss: 0.0521 - accuracy: 0.9806 - val_loss: 0.2982 - val_accuracy: 0.8556\n",
            "              precision    recall  f1-score   support\n",
            "\n",
            "  Lungcancer       0.81      0.97      0.88        30\n",
            "      Normal       1.00      0.75      0.86        28\n",
            "Tuberculosis       0.82      0.84      0.83        32\n",
            "\n",
            "    accuracy                           0.86        90\n",
            "   macro avg       0.87      0.85      0.86        90\n",
            "weighted avg       0.87      0.86      0.85        90\n",
            "\n"
          ]
        }
      ]
    },
    {
      "cell_type": "code",
      "source": [
        "oos_y7 = np.concatenate(oos_y7)\n",
        "oos_pred7 = np.concatenate(oos_pred7)"
      ],
      "metadata": {
        "id": "Yu2N8LIRmL6C"
      },
      "execution_count": null,
      "outputs": []
    },
    {
      "cell_type": "code",
      "source": [
        "score7 = metrics.accuracy_score(oos_y7.argmax(axis=1),\t        #ค่า acc\n",
        "                                             oos_pred7.argmax(axis=1) )\n",
        "print(f\"Fold score (accuracy): {score7}\")\n",
        "\n",
        "print(classification_report(oos_y7.argmax(axis=1),\t                #แสดง report ค่า acc, recall, ...\n",
        "                                        oos_pred7.argmax(axis=1),  \n",
        "                                        target_names=le_Dense.classes_))"
      ],
      "metadata": {
        "colab": {
          "base_uri": "https://localhost:8080/"
        },
        "outputId": "09605719-8e0a-460f-cf3b-2edc5054240f",
        "id": "38UFAaqQmL6C"
      },
      "execution_count": null,
      "outputs": [
        {
          "output_type": "stream",
          "name": "stdout",
          "text": [
            "Fold score (accuracy): 0.8048780487804879\n",
            "              precision    recall  f1-score   support\n",
            "\n",
            "  Lungcancer       0.79      0.81      0.80       150\n",
            "      Normal       0.98      0.80      0.88       151\n",
            "Tuberculosis       0.70      0.81      0.75       150\n",
            "\n",
            "    accuracy                           0.80       451\n",
            "   macro avg       0.82      0.80      0.81       451\n",
            "weighted avg       0.82      0.80      0.81       451\n",
            "\n"
          ]
        }
      ]
    },
    {
      "cell_type": "markdown",
      "source": [
        "## 7.1) K-fold  -- DenseNet201\n",
        "\n",
        "### -->ACC = 0.79\n",
        "### -->เวลา 9506.36 วินาที\n",
        "\n",
        "*   BS = 1\n",
        "*   fix weight & bias in layer 0-500\n",
        "*   activation=\"sigmoid\"\n",
        "*   learning_rate=0.0001\n",
        "*   epoch 30"
      ],
      "metadata": {
        "id": "ohs7MOL3ZoSk"
      }
    },
    {
      "cell_type": "code",
      "source": [
        "train_img_Dense = []\n",
        "for ImageName in tqdm(data_train3['ImageName']):               # รัน ชื่อรูป ในไฟล์ data_test3\n",
        "    image_path = All_3class_dir +'/' + ImageName                   # ดึงรูปในโฟล์เดอร์มาทีละรูป\n",
        "    img = cv2.imread(image_path)                                            # อ่านรูป\n",
        "    img = cv2.resize(img, (224, 224))                                       #ขนาดของ input\n",
        "    train_img_Dense.append(img)\n",
        "\n",
        "data_Dense = np.array(train_img_Dense, dtype=\"float32\") / 255.0"
      ],
      "metadata": {
        "outputId": "15766fd1-b938-496b-a168-88caa07eb37e",
        "colab": {
          "base_uri": "https://localhost:8080/"
        },
        "id": "UDD1tFzTZoSl"
      },
      "execution_count": null,
      "outputs": [
        {
          "output_type": "stream",
          "name": "stderr",
          "text": [
            "100%|██████████| 451/451 [01:44<00:00,  4.30it/s]\n"
          ]
        }
      ]
    },
    {
      "cell_type": "code",
      "source": [
        "labels_Dense = np.array(data_train3[['NameType']] )        \n",
        "labels_Dense.shape = (len(labels_Dense),) \n",
        "\n",
        "le_Dense = LabelEncoder()                                                                     \n",
        "labels_Dense = le_Dense.fit_transform(labels_Dense)                                         #จะแปลงชื่อ class เป็นตัวเลข 1, 2, 0 \n",
        "\n",
        "labels_Dense = to_categorical(labels_Dense, num_classes=3)                   #shape (180, 3) มีค่าเป็น  [0., 1., 0.]  กับ   [0., 0., 1.] กับ  [1., 0., 0.]"
      ],
      "metadata": {
        "id": "CQov8-P2ZoSm"
      },
      "execution_count": null,
      "outputs": []
    },
    {
      "cell_type": "code",
      "source": [
        "INIT_LR = 1e-1\n",
        "BS = 1\n",
        "EPOCHS = 50\n",
        "\n",
        "aug71 = ImageDataGenerator(\n",
        "\t\trotation_range=15,\t\t\t\t\t\t#องศาการหมุน\n",
        "\t\twidth_shift_range=0.1,\n",
        "\t\theight_shift_range=0.1,\n",
        "\t\tshear_range=0.15,\n",
        "\t\thorizontal_flip=True,\n",
        "\t\tfill_mode=\"nearest\")\n",
        "\n",
        "callback = tf.keras.callbacks.EarlyStopping(\n",
        "                monitor=\"val_accuracy\",\n",
        "                patience=3,\n",
        "                mode=\"max\" )"
      ],
      "metadata": {
        "id": "3N6MKmfTZoSn"
      },
      "execution_count": null,
      "outputs": []
    },
    {
      "cell_type": "code",
      "source": [
        "base_model_Dense = tf.keras.applications.DenseNet201(input_shape=(224, 224, 3), include_top=False, weights=\"imagenet\")\n",
        "len(base_model_Dense.layers)"
      ],
      "metadata": {
        "colab": {
          "base_uri": "https://localhost:8080/"
        },
        "outputId": "aa35a124-fade-4be5-9a46-eae6c1c098f4",
        "id": "xOGF3dJ5ZoSn"
      },
      "execution_count": null,
      "outputs": [
        {
          "output_type": "stream",
          "name": "stdout",
          "text": [
            "Downloading data from https://storage.googleapis.com/tensorflow/keras-applications/densenet/densenet201_weights_tf_dim_ordering_tf_kernels_notop.h5\n",
            "74842112/74836368 [==============================] - 0s 0us/step\n",
            "74850304/74836368 [==============================] - 0s 0us/step\n"
          ]
        },
        {
          "output_type": "execute_result",
          "data": {
            "text/plain": [
              "707"
            ]
          },
          "metadata": {},
          "execution_count": 15
        }
      ]
    },
    {
      "cell_type": "code",
      "source": [
        "base_model_Dense.trainable = True\n",
        "for layer in base_model_Dense.layers[:500]:    #fix w & bias in layer 0-500\n",
        "    layer.trainable = False\n",
        "\n",
        "#Add custom head\n",
        "average_pooling_layer = tf.keras.layers.GlobalAveragePooling2D()(base_model_Dense.output)\n",
        "prediction_layer = tf.keras.layers.Dense(units=3, activation=\"sigmoid\")(average_pooling_layer)   # unit 3\n",
        "model_Dense71 = tf.keras.models.Model(inputs=base_model_Dense.input, outputs=prediction_layer)\n",
        "\n",
        "model_Dense71.compile(optimizer=tf.keras.optimizers.RMSprop(learning_rate=0.0001), loss=\"binary_crossentropy\", metrics=[\"accuracy\"])"
      ],
      "metadata": {
        "id": "XRTtVK46ZoSo"
      },
      "execution_count": null,
      "outputs": []
    },
    {
      "cell_type": "code",
      "source": [
        "kf_Dense71 = KFold(5, shuffle=True, random_state=40) \n",
        "\n",
        "oos_y71 = []\n",
        "oos_pred71 = []\n",
        "fold = 0\n",
        "\n",
        "for train, test in kf_Dense71.split(data_Dense):\n",
        "    fold+=1\n",
        "    print(f\"Fold #{fold}\")\n",
        "        \n",
        "    x_train_Dense71 = data_Dense[train]\n",
        "    y_train_Dense71 = labels_Dense[train]\n",
        "    x_test_Dense71 = data_Dense[test]\n",
        "    y_test_Dense71 = labels_Dense[test]\n",
        "\n",
        "    H_Dense71 = model_Dense71.fit( x=aug71.flow(x_train_Dense71, y_train_Dense71, batch_size=BS),\n",
        "\t                                            validation_data=(x_test_Dense71, y_test_Dense71),\n",
        "\t                                            steps_per_epoch=len(x_train_Dense71) // BS,\n",
        "\t                                            epochs=30,  callbacks = [callback])\n",
        "    \n",
        "    pred_Dense71 = model_Dense71.predict(x_test_Dense71)\n",
        "    \n",
        "    oos_y71.append(y_test_Dense71)\n",
        "    oos_pred71.append(pred_Dense71)  \n",
        "    print(classification_report(y_test_Dense71.argmax(axis=1),\t                #แสดง report ค่า acc, recall, ...\n",
        "                                        pred_Dense71.argmax(axis=1),  \n",
        "                                        target_names=le_Dense.classes_))\n",
        "\n",
        "#   score = metrics.accuracy_score(y_test3_Incep.argmax(axis=1),\t        #ค่า acc\n",
        "#                                               pred3_Incep.argmax(axis=1)\n",
        "#    print(f\"Fold score (accuracy): {score}\")\n",
        "\n",
        "#    print(confusion_matrix(testY3_Incep.argmax(axis=1),\t                       #แสดง confusion_matrix\n",
        "#                        pred3_Incep.argmax(axis=1) ) )"
      ],
      "metadata": {
        "id": "X_7cK6qFZoSo",
        "colab": {
          "base_uri": "https://localhost:8080/"
        },
        "outputId": "7f97bf22-88de-4a0a-f780-fe24708c5e8b"
      },
      "execution_count": null,
      "outputs": [
        {
          "output_type": "stream",
          "name": "stdout",
          "text": [
            "Fold #1\n",
            "Epoch 1/30\n",
            "360/360 [==============================] - 191s 474ms/step - loss: 0.6221 - accuracy: 0.4750 - val_loss: 0.5166 - val_accuracy: 0.6923\n",
            "Epoch 2/30\n",
            "360/360 [==============================] - 322s 894ms/step - loss: 0.5358 - accuracy: 0.6278 - val_loss: 0.4582 - val_accuracy: 0.6813\n",
            "Epoch 3/30\n",
            "360/360 [==============================] - 331s 919ms/step - loss: 0.4576 - accuracy: 0.6417 - val_loss: 0.3911 - val_accuracy: 0.7582\n",
            "Epoch 4/30\n",
            "360/360 [==============================] - 331s 920ms/step - loss: 0.3793 - accuracy: 0.7778 - val_loss: 0.3635 - val_accuracy: 0.7692\n",
            "Epoch 5/30\n",
            "360/360 [==============================] - 343s 953ms/step - loss: 0.3443 - accuracy: 0.7750 - val_loss: 0.4369 - val_accuracy: 0.7253\n",
            "Epoch 6/30\n",
            "360/360 [==============================] - 354s 984ms/step - loss: 0.3001 - accuracy: 0.8250 - val_loss: 0.4009 - val_accuracy: 0.7363\n",
            "Epoch 7/30\n",
            "360/360 [==============================] - 334s 928ms/step - loss: 0.2655 - accuracy: 0.8306 - val_loss: 0.6255 - val_accuracy: 0.5714\n",
            "              precision    recall  f1-score   support\n",
            "\n",
            "  Lungcancer       0.65      0.79      0.71        28\n",
            "      Normal       1.00      0.33      0.50        33\n",
            "Tuberculosis       0.41      0.63      0.50        30\n",
            "\n",
            "    accuracy                           0.57        91\n",
            "   macro avg       0.69      0.58      0.57        91\n",
            "weighted avg       0.70      0.57      0.56        91\n",
            "\n",
            "Fold #2\n",
            "Epoch 1/30\n",
            "361/361 [==============================] - 177s 491ms/step - loss: 0.2600 - accuracy: 0.8310 - val_loss: 0.3778 - val_accuracy: 0.7111\n",
            "Epoch 2/30\n",
            "361/361 [==============================] - 278s 771ms/step - loss: 0.2313 - accuracy: 0.8643 - val_loss: 0.4735 - val_accuracy: 0.6889\n",
            "Epoch 3/30\n",
            "361/361 [==============================] - 306s 848ms/step - loss: 0.2167 - accuracy: 0.8587 - val_loss: 0.3001 - val_accuracy: 0.8333\n",
            "Epoch 4/30\n",
            "361/361 [==============================] - 308s 852ms/step - loss: 0.1808 - accuracy: 0.9030 - val_loss: 0.2423 - val_accuracy: 0.8556\n",
            "Epoch 5/30\n",
            "361/361 [==============================] - 302s 836ms/step - loss: 0.1434 - accuracy: 0.9252 - val_loss: 0.2315 - val_accuracy: 0.8556\n",
            "Epoch 6/30\n",
            "361/361 [==============================] - 314s 869ms/step - loss: 0.1399 - accuracy: 0.9307 - val_loss: 0.2670 - val_accuracy: 0.8444\n",
            "Epoch 7/30\n",
            "361/361 [==============================] - 308s 853ms/step - loss: 0.1248 - accuracy: 0.9474 - val_loss: 0.4113 - val_accuracy: 0.8111\n",
            "              precision    recall  f1-score   support\n",
            "\n",
            "  Lungcancer       0.88      0.85      0.86        33\n",
            "      Normal       1.00      0.65      0.79        26\n",
            "Tuberculosis       0.68      0.90      0.78        31\n",
            "\n",
            "    accuracy                           0.81        90\n",
            "   macro avg       0.85      0.80      0.81        90\n",
            "weighted avg       0.84      0.81      0.81        90\n",
            "\n",
            "Fold #3\n",
            "Epoch 1/30\n",
            "361/361 [==============================] - 193s 533ms/step - loss: 0.1458 - accuracy: 0.9197 - val_loss: 0.2329 - val_accuracy: 0.8778\n",
            "Epoch 2/30\n",
            "361/361 [==============================] - 404s 1s/step - loss: 0.1013 - accuracy: 0.9474 - val_loss: 0.2968 - val_accuracy: 0.8667\n",
            "Epoch 3/30\n",
            "361/361 [==============================] - 402s 1s/step - loss: 0.0702 - accuracy: 0.9557 - val_loss: 0.2795 - val_accuracy: 0.8444\n",
            "Epoch 4/30\n",
            "361/361 [==============================] - 365s 1s/step - loss: 0.0790 - accuracy: 0.9584 - val_loss: 0.4018 - val_accuracy: 0.7667\n",
            "              precision    recall  f1-score   support\n",
            "\n",
            "  Lungcancer       0.95      0.62      0.75        29\n",
            "      Normal       1.00      0.73      0.84        33\n",
            "Tuberculosis       0.57      0.96      0.72        28\n",
            "\n",
            "    accuracy                           0.77        90\n",
            "   macro avg       0.84      0.77      0.77        90\n",
            "weighted avg       0.85      0.77      0.77        90\n",
            "\n",
            "Fold #4\n",
            "Epoch 1/30\n",
            "361/361 [==============================] - 226s 627ms/step - loss: 0.1362 - accuracy: 0.9252 - val_loss: 0.2764 - val_accuracy: 0.8333\n",
            "Epoch 2/30\n",
            "361/361 [==============================] - 356s 987ms/step - loss: 0.0978 - accuracy: 0.9529 - val_loss: 0.1909 - val_accuracy: 0.8889\n",
            "Epoch 3/30\n",
            "361/361 [==============================] - 380s 1s/step - loss: 0.0516 - accuracy: 0.9695 - val_loss: 0.2422 - val_accuracy: 0.8889\n",
            "Epoch 4/30\n",
            "361/361 [==============================] - 399s 1s/step - loss: 0.0699 - accuracy: 0.9668 - val_loss: 0.4301 - val_accuracy: 0.8556\n",
            "Epoch 5/30\n",
            "361/361 [==============================] - 349s 966ms/step - loss: 0.0787 - accuracy: 0.9584 - val_loss: 0.2461 - val_accuracy: 0.8667\n",
            "              precision    recall  f1-score   support\n",
            "\n",
            "  Lungcancer       1.00      0.87      0.93        30\n",
            "      Normal       1.00      0.74      0.85        31\n",
            "Tuberculosis       0.71      1.00      0.83        29\n",
            "\n",
            "    accuracy                           0.87        90\n",
            "   macro avg       0.90      0.87      0.87        90\n",
            "weighted avg       0.91      0.87      0.87        90\n",
            "\n",
            "Fold #5\n",
            "Epoch 1/30\n",
            "361/361 [==============================] - 204s 566ms/step - loss: 0.0508 - accuracy: 0.9723 - val_loss: 0.6795 - val_accuracy: 0.8222\n",
            "Epoch 2/30\n",
            "361/361 [==============================] - 340s 941ms/step - loss: 0.0619 - accuracy: 0.9695 - val_loss: 0.0913 - val_accuracy: 0.9667\n",
            "Epoch 3/30\n",
            "361/361 [==============================] - 353s 979ms/step - loss: 0.0293 - accuracy: 0.9806 - val_loss: 0.1074 - val_accuracy: 0.9333\n",
            "Epoch 4/30\n",
            "361/361 [==============================] - 356s 986ms/step - loss: 0.0387 - accuracy: 0.9834 - val_loss: 0.1670 - val_accuracy: 0.9000\n",
            "Epoch 5/30\n",
            "361/361 [==============================] - 343s 950ms/step - loss: 0.0456 - accuracy: 0.9806 - val_loss: 0.1649 - val_accuracy: 0.9444\n",
            "              precision    recall  f1-score   support\n",
            "\n",
            "  Lungcancer       1.00      0.97      0.98        30\n",
            "      Normal       1.00      0.86      0.92        28\n",
            "Tuberculosis       0.86      1.00      0.93        32\n",
            "\n",
            "    accuracy                           0.94        90\n",
            "   macro avg       0.95      0.94      0.94        90\n",
            "weighted avg       0.95      0.94      0.94        90\n",
            "\n"
          ]
        }
      ]
    },
    {
      "cell_type": "code",
      "source": [
        "oos_y71 = np.concatenate(oos_y71)\n",
        "oos_pred71 = np.concatenate(oos_pred71)"
      ],
      "metadata": {
        "id": "j2kx7WQfZoSp"
      },
      "execution_count": null,
      "outputs": []
    },
    {
      "cell_type": "code",
      "source": [
        "score71 = metrics.accuracy_score(oos_y71.argmax(axis=1),\t        #ค่า acc\n",
        "                                             oos_pred71.argmax(axis=1) )\n",
        "print(f\"Fold score (accuracy): {score71}\")\n",
        "\n",
        "print(classification_report(oos_y71.argmax(axis=1),\t                #แสดง report ค่า acc, recall, ...\n",
        "                                        oos_pred71.argmax(axis=1),  \n",
        "                                        target_names=le_Dense.classes_))"
      ],
      "metadata": {
        "id": "erksCzh-ZoSq",
        "colab": {
          "base_uri": "https://localhost:8080/"
        },
        "outputId": "956f2970-f9fb-4d15-c765-cbd3b9877acc"
      },
      "execution_count": null,
      "outputs": [
        {
          "output_type": "stream",
          "name": "stdout",
          "text": [
            "Fold score (accuracy): 0.7915742793791575\n",
            "              precision    recall  f1-score   support\n",
            "\n",
            "  Lungcancer       0.88      0.82      0.85       150\n",
            "      Normal       1.00      0.66      0.79       151\n",
            "Tuberculosis       0.64      0.90      0.75       150\n",
            "\n",
            "    accuracy                           0.79       451\n",
            "   macro avg       0.84      0.79      0.80       451\n",
            "weighted avg       0.84      0.79      0.80       451\n",
            "\n"
          ]
        }
      ]
    },
    {
      "cell_type": "markdown",
      "source": [
        "# Fine tuning 0-400"
      ],
      "metadata": {
        "id": "uVkqclifwFpP"
      }
    },
    {
      "cell_type": "markdown",
      "source": [
        "## 4) K-fold  -- DenseNet201\n",
        "\n",
        "### -->ACC = \n",
        "### -->เวลา - วินาที\n",
        "\n",
        "*   BS = 8\n",
        "*   fix weight & bias in layer 0-400\n",
        "*   activation=\"softmax\"\n",
        "*   learning_rate=0.0001\n",
        "*   epoch 30"
      ],
      "metadata": {
        "id": "SX4FprzSwFpQ"
      }
    },
    {
      "cell_type": "code",
      "source": [
        "train_img_Dense = []\n",
        "for ImageName in tqdm(data_train3['ImageName']):               # รัน ชื่อรูป ในไฟล์ data_test3\n",
        "    image_path = All_3class_dir +'/' + ImageName                   # ดึงรูปในโฟล์เดอร์มาทีละรูป\n",
        "    img = cv2.imread(image_path)                                            # อ่านรูป\n",
        "    img = cv2.resize(img, (224, 224))                                       #ขนาดของ input\n",
        "    train_img_Dense.append(img)\n",
        "\n",
        "data_Dense = np.array(train_img_Dense, dtype=\"float32\") / 255.0"
      ],
      "metadata": {
        "outputId": "e3386536-efb5-465e-c2a8-ea6072849bdf",
        "colab": {
          "base_uri": "https://localhost:8080/",
          "height": 253
        },
        "id": "CNSkFcZOwFpQ"
      },
      "execution_count": 31,
      "outputs": [
        {
          "output_type": "stream",
          "name": "stderr",
          "text": [
            "  0%|          | 0/451 [00:00<?, ?it/s]\n"
          ]
        },
        {
          "output_type": "error",
          "ename": "error",
          "evalue": "ignored",
          "traceback": [
            "\u001b[0;31m---------------------------------------------------------------------------\u001b[0m",
            "\u001b[0;31merror\u001b[0m                                     Traceback (most recent call last)",
            "\u001b[0;32m<ipython-input-31-e486cec3c7d5>\u001b[0m in \u001b[0;36m<module>\u001b[0;34m()\u001b[0m\n\u001b[1;32m      3\u001b[0m     \u001b[0mimage_path\u001b[0m \u001b[0;34m=\u001b[0m \u001b[0mAll_3class_dir\u001b[0m \u001b[0;34m+\u001b[0m\u001b[0;34m'/'\u001b[0m \u001b[0;34m+\u001b[0m \u001b[0mImageName\u001b[0m                   \u001b[0;31m# ดึงรูปในโฟล์เดอร์มาทีละรูป\u001b[0m\u001b[0;34m\u001b[0m\u001b[0;34m\u001b[0m\u001b[0m\n\u001b[1;32m      4\u001b[0m     \u001b[0mimg\u001b[0m \u001b[0;34m=\u001b[0m \u001b[0mcv2\u001b[0m\u001b[0;34m.\u001b[0m\u001b[0mimread\u001b[0m\u001b[0;34m(\u001b[0m\u001b[0mimage_path\u001b[0m\u001b[0;34m)\u001b[0m                                            \u001b[0;31m# อ่านรูป\u001b[0m\u001b[0;34m\u001b[0m\u001b[0;34m\u001b[0m\u001b[0m\n\u001b[0;32m----> 5\u001b[0;31m     \u001b[0mimg\u001b[0m \u001b[0;34m=\u001b[0m \u001b[0mcv2\u001b[0m\u001b[0;34m.\u001b[0m\u001b[0mresize\u001b[0m\u001b[0;34m(\u001b[0m\u001b[0mimg\u001b[0m\u001b[0;34m,\u001b[0m \u001b[0;34m(\u001b[0m\u001b[0;36m224\u001b[0m\u001b[0;34m,\u001b[0m \u001b[0;36m224\u001b[0m\u001b[0;34m)\u001b[0m\u001b[0;34m)\u001b[0m                                       \u001b[0;31m#ขนาดของ input\u001b[0m\u001b[0;34m\u001b[0m\u001b[0;34m\u001b[0m\u001b[0m\n\u001b[0m\u001b[1;32m      6\u001b[0m     \u001b[0mtrain_img_Dense\u001b[0m\u001b[0;34m.\u001b[0m\u001b[0mappend\u001b[0m\u001b[0;34m(\u001b[0m\u001b[0mimg\u001b[0m\u001b[0;34m)\u001b[0m\u001b[0;34m\u001b[0m\u001b[0;34m\u001b[0m\u001b[0m\n\u001b[1;32m      7\u001b[0m \u001b[0;34m\u001b[0m\u001b[0m\n",
            "\u001b[0;31merror\u001b[0m: OpenCV(4.1.2) /io/opencv/modules/imgproc/src/resize.cpp:3720: error: (-215:Assertion failed) !ssize.empty() in function 'resize'\n"
          ]
        }
      ]
    },
    {
      "cell_type": "code",
      "source": [
        "labels_Dense = np.array(data_train3[['NameType']] )        \n",
        "labels_Dense.shape = (len(labels_Dense),) \n",
        "\n",
        "le_Dense = LabelEncoder()                                                                     \n",
        "labels_Dense = le_Dense.fit_transform(labels_Dense)                                         #จะแปลงชื่อ class เป็นตัวเลข 1, 2, 0 \n",
        "\n",
        "labels_Dense = to_categorical(labels_Dense, num_classes=3)                   #shape (180, 3) มีค่าเป็น  [0., 1., 0.]  กับ   [0., 0., 1.] กับ  [1., 0., 0.]"
      ],
      "metadata": {
        "id": "lG_vt8BiwFpR"
      },
      "execution_count": null,
      "outputs": []
    },
    {
      "cell_type": "code",
      "source": [
        "INIT_LR = 1e-1\n",
        "BS = 8\n",
        "EPOCHS = 50\n",
        "\n",
        "aug = ImageDataGenerator(\n",
        "\t\trotation_range=15,\t\t\t\t\t\t#องศาการหมุน\n",
        "\t\twidth_shift_range=0.1,\n",
        "\t\theight_shift_range=0.1,\n",
        "\t\tshear_range=0.15,\n",
        "\t\thorizontal_flip=True,\n",
        "\t\tfill_mode=\"nearest\")\n",
        "\n",
        "callback = tf.keras.callbacks.EarlyStopping(\n",
        "                monitor=\"val_accuracy\",\n",
        "                patience=3,\n",
        "                mode=\"max\" )"
      ],
      "metadata": {
        "id": "I6kwIpAWwFpR"
      },
      "execution_count": null,
      "outputs": []
    },
    {
      "cell_type": "code",
      "source": [
        "base_model_Dense = tf.keras.applications.DenseNet201(input_shape=(224, 224, 3), include_top=False, weights=\"imagenet\")\n",
        "len(base_model_Dense.layers)"
      ],
      "metadata": {
        "id": "ORm-c4jjwFpS"
      },
      "execution_count": null,
      "outputs": []
    },
    {
      "cell_type": "code",
      "source": [
        "base_model_Dense.trainable = True\n",
        "for layer in base_model_Dense.layers[:400]:    #fix w & bias in layer 0-400\n",
        "    layer.trainable = False\n",
        "\n",
        "#Add custom head\n",
        "average_pooling_layer = tf.keras.layers.GlobalAveragePooling2D()(base_model_Dense.output)\n",
        "prediction_layer = tf.keras.layers.Dense(units=3, activation=\"softmax\")(average_pooling_layer)   # unit 3\n",
        "model_Dense = tf.keras.models.Model(inputs=base_model_Dense.input, outputs=prediction_layer)\n",
        "\n",
        "model_Dense.compile(optimizer=tf.keras.optimizers.RMSprop(learning_rate=0.0001), loss=\"binary_crossentropy\", metrics=[\"accuracy\"])"
      ],
      "metadata": {
        "id": "pQTsfS2bwFpS"
      },
      "execution_count": null,
      "outputs": []
    },
    {
      "cell_type": "code",
      "source": [
        "kf_Dense = KFold(5, shuffle=True, random_state=40) \n",
        "\n",
        "oos_y = []\n",
        "oos_pred = []\n",
        "fold = 0\n",
        "\n",
        "for train, test in kf_Dense.split(data_Dense):\n",
        "    fold+=1\n",
        "    print(f\"Fold #{fold}\")\n",
        "        \n",
        "    x_train_Dense = data_Dense[train]\n",
        "    y_train_Dense = labels_Dense[train]\n",
        "    x_test_Dense = data_Dense[test]\n",
        "    y_test_Dense = labels_Dense[test]\n",
        "\n",
        "    H_Dense = model_Dense.fit( x=aug.flow(x_train_Dense, y_train_Dense, batch_size=BS),\n",
        "\t                                            validation_data=(x_test_Dense, y_test_Dense),\n",
        "\t                                            steps_per_epoch=len(x_train_Dense) // BS,\n",
        "\t                                            epochs=30,  callbacks = [callback])\n",
        "    \n",
        "    pred_Dense = model_Dense.predict(x_test_Dense)\n",
        "    \n",
        "    oos_y.append(y_test_Dense)\n",
        "    oos_pred.append(pred_Dense)  \n",
        "    print(classification_report(y_test_Dense.argmax(axis=1),\t                #แสดง report ค่า acc, recall, ...\n",
        "                                        pred_Dense.argmax(axis=1),  \n",
        "                                        target_names=le_Dense.classes_))\n",
        "\n",
        "#   score = metrics.accuracy_score(y_test3_Incep.argmax(axis=1),\t        #ค่า acc\n",
        "#                                               pred3_Incep.argmax(axis=1)\n",
        "#    print(f\"Fold score (accuracy): {score}\")\n",
        "\n",
        "#    print(confusion_matrix(testY3_Incep.argmax(axis=1),\t                       #แสดง confusion_matrix\n",
        "#                        pred3_Incep.argmax(axis=1) ) )"
      ],
      "metadata": {
        "id": "Seqq18fLwFpS"
      },
      "execution_count": null,
      "outputs": []
    },
    {
      "cell_type": "code",
      "source": [
        "oos_y = np.concatenate(oos_y)\n",
        "oos_pred = np.concatenate(oos_pred)"
      ],
      "metadata": {
        "id": "1cpQxKM9wFpT"
      },
      "execution_count": null,
      "outputs": []
    },
    {
      "cell_type": "code",
      "source": [
        "score = metrics.accuracy_score(oos_y.argmax(axis=1),\t        #ค่า acc\n",
        "                                             oos_pred.argmax(axis=1) )\n",
        "print(f\"Fold score (accuracy): {score}\")\n",
        "\n",
        "print(classification_report(oos_y.argmax(axis=1),\t                #แสดง report ค่า acc, recall, ...\n",
        "                                        oos_pred.argmax(axis=1),  \n",
        "                                        target_names=le_Dense.classes_))"
      ],
      "metadata": {
        "id": "TL665dmqwFpT"
      },
      "execution_count": null,
      "outputs": []
    },
    {
      "cell_type": "markdown",
      "source": [
        "## 4.1) K-fold  -- DenseNet201  \n",
        "\n",
        "### -->ACC = 0.90\n",
        "### -->เวลา 4575.96 วินาที\n",
        "\n",
        "*   BS = 8\n",
        "*   fix weight & bias in layer 0-500\n",
        "*   activation=\"sigmoid\"\n",
        "*   learning_rate=0.0001\n",
        "*   epoch 30"
      ],
      "metadata": {
        "id": "w8jGM_YCwFpT"
      }
    },
    {
      "cell_type": "code",
      "source": [
        "train_img_Dense = []\n",
        "for ImageName in tqdm(data_train3['ImageName']):               # รัน ชื่อรูป ในไฟล์ data_test3\n",
        "    image_path = All_3class_dir +'/' + ImageName                   # ดึงรูปในโฟล์เดอร์มาทีละรูป\n",
        "    img = cv2.imread(image_path)                                            # อ่านรูป\n",
        "    img = cv2.resize(img, (224, 224))                                       #ขนาดของ input\n",
        "    train_img_Dense.append(img)\n",
        "\n",
        "data_Dense = np.array(train_img_Dense, dtype=\"float32\") / 255.0"
      ],
      "metadata": {
        "outputId": "7a77f2e1-c462-4ad3-acc6-67f6c4e22983",
        "colab": {
          "base_uri": "https://localhost:8080/"
        },
        "id": "Oc6ZsSr7wFpU"
      },
      "execution_count": null,
      "outputs": [
        {
          "output_type": "stream",
          "name": "stderr",
          "text": [
            "100%|██████████| 451/451 [00:05<00:00, 81.94it/s] \n"
          ]
        }
      ]
    },
    {
      "cell_type": "code",
      "source": [
        "labels_Dense = np.array(data_train3[['NameType']] )        \n",
        "labels_Dense.shape = (len(labels_Dense),) \n",
        "\n",
        "le_Dense = LabelEncoder()                                                                     \n",
        "labels_Dense = le_Dense.fit_transform(labels_Dense)                                         #จะแปลงชื่อ class เป็นตัวเลข 1, 2, 0 \n",
        "\n",
        "labels_Dense = to_categorical(labels_Dense, num_classes=3)                   #shape (180, 3) มีค่าเป็น  [0., 1., 0.]  กับ   [0., 0., 1.] กับ  [1., 0., 0.]"
      ],
      "metadata": {
        "id": "jNrhzdsWwFpU"
      },
      "execution_count": null,
      "outputs": []
    },
    {
      "cell_type": "code",
      "source": [
        "INIT_LR = 1e-1\n",
        "BS8 = 8\n",
        "EPOCHS = 50\n",
        "\n",
        "aug41 = ImageDataGenerator(\n",
        "\t\trotation_range=15,\t\t\t\t\t\t#องศาการหมุน\n",
        "\t\twidth_shift_range=0.1,\n",
        "\t\theight_shift_range=0.1,\n",
        "\t\tshear_range=0.15,\n",
        "\t\thorizontal_flip=True,\n",
        "\t\tfill_mode=\"nearest\")\n",
        "\n",
        "callback = tf.keras.callbacks.EarlyStopping(\n",
        "                monitor=\"val_accuracy\",\n",
        "                patience=3,\n",
        "                mode=\"max\" )"
      ],
      "metadata": {
        "id": "rfoCuVrPwFpU"
      },
      "execution_count": null,
      "outputs": []
    },
    {
      "cell_type": "code",
      "source": [
        "base_model_Dense = tf.keras.applications.DenseNet201(input_shape=(224, 224, 3), include_top=False, weights=\"imagenet\")\n",
        "len(base_model_Dense.layers)"
      ],
      "metadata": {
        "colab": {
          "base_uri": "https://localhost:8080/"
        },
        "outputId": "8bfd7fa9-b84d-4f5d-d491-f400f9ae11f4",
        "id": "6amNbd6-wFpV"
      },
      "execution_count": null,
      "outputs": [
        {
          "output_type": "execute_result",
          "data": {
            "text/plain": [
              "707"
            ]
          },
          "metadata": {},
          "execution_count": 23
        }
      ]
    },
    {
      "cell_type": "code",
      "source": [
        "base_model_Dense.trainable = True\n",
        "for layer in base_model_Dense.layers[:500]:    #fix w & bias in layer 0-500\n",
        "    layer.trainable = False\n",
        "\n",
        "#Add custom head\n",
        "average_pooling_layer = tf.keras.layers.GlobalAveragePooling2D()(base_model_Dense.output)\n",
        "prediction_layer = tf.keras.layers.Dense(units=3, activation=\"sigmoid\")(average_pooling_layer)   # unit 3\n",
        "model_Dense41 = tf.keras.models.Model(inputs=base_model_Dense.input, outputs=prediction_layer)\n",
        "\n",
        "model_Dense41.compile(optimizer=tf.keras.optimizers.RMSprop(learning_rate=0.0001), loss=\"binary_crossentropy\", metrics=[\"accuracy\"])"
      ],
      "metadata": {
        "id": "UAvqUQ1VwFpV"
      },
      "execution_count": null,
      "outputs": []
    },
    {
      "cell_type": "code",
      "source": [
        "kf_Dense41 = KFold(5, shuffle=True, random_state=40) \n",
        "\n",
        "oos_y41 = []\n",
        "oos_pred41 = []\n",
        "fold = 0\n",
        "\n",
        "for train, test in kf_Dense41.split(data_Dense):\n",
        "    fold+=1\n",
        "    print(f\"Fold #{fold}\")\n",
        "        \n",
        "    x_train_Dense41 = data_Dense[train]\n",
        "    y_train_Dense41 = labels_Dense[train]\n",
        "    x_test_Dense41 = data_Dense[test]\n",
        "    y_test_Dense41 = labels_Dense[test]\n",
        "\n",
        "    H_Dense41 = model_Dense41.fit( x=aug41.flow(x_train_Dense41, y_train_Dense41, batch_size=BS8),\n",
        "\t                                            validation_data=(x_test_Dense41, y_test_Dense41),\n",
        "\t                                            steps_per_epoch=len(x_train_Dense41) // BS8,\n",
        "\t                                            epochs=30,  callbacks = [callback])\n",
        "    \n",
        "    pred_Dense41 = model_Dense41.predict(x_test_Dense41)\n",
        "    \n",
        "    oos_y41.append(y_test_Dense41)\n",
        "    oos_pred41.append(pred_Dense41)  \n",
        "    print(classification_report(y_test_Dense41.argmax(axis=1),\t                #แสดง report ค่า acc, recall, ...\n",
        "                                        pred_Dense41.argmax(axis=1),  \n",
        "                                        target_names=le_Dense.classes_))\n",
        "\n",
        "#   score = metrics.accuracy_score(y_test3_Incep.argmax(axis=1),\t        #ค่า acc\n",
        "#                                               pred3_Incep.argmax(axis=1)\n",
        "#    print(f\"Fold score (accuracy): {score}\")\n",
        "\n",
        "#    print(confusion_matrix(testY3_Incep.argmax(axis=1),\t                       #แสดง confusion_matrix\n",
        "#                        pred3_Incep.argmax(axis=1) ) )"
      ],
      "metadata": {
        "outputId": "47fc3e3a-8d90-4eb9-a43e-a66aee229e4b",
        "colab": {
          "base_uri": "https://localhost:8080/"
        },
        "id": "atzl-QsEwFpW"
      },
      "execution_count": null,
      "outputs": [
        {
          "output_type": "stream",
          "name": "stdout",
          "text": [
            "Fold #1\n",
            "Epoch 1/30\n",
            "45/45 [==============================] - 119s 2s/step - loss: 0.5008 - accuracy: 0.6444 - val_loss: 0.5943 - val_accuracy: 0.5604\n",
            "Epoch 2/30\n",
            "45/45 [==============================] - 99s 2s/step - loss: 0.3438 - accuracy: 0.7833 - val_loss: 0.5383 - val_accuracy: 0.6154\n",
            "Epoch 3/30\n",
            "45/45 [==============================] - 103s 2s/step - loss: 0.2788 - accuracy: 0.8528 - val_loss: 0.4846 - val_accuracy: 0.6154\n",
            "Epoch 4/30\n",
            "45/45 [==============================] - 104s 2s/step - loss: 0.2418 - accuracy: 0.8889 - val_loss: 0.4779 - val_accuracy: 0.6593\n",
            "Epoch 5/30\n",
            "45/45 [==============================] - 104s 2s/step - loss: 0.2206 - accuracy: 0.8750 - val_loss: 0.3742 - val_accuracy: 0.7253\n",
            "Epoch 6/30\n",
            "45/45 [==============================] - 105s 2s/step - loss: 0.1690 - accuracy: 0.9250 - val_loss: 0.5127 - val_accuracy: 0.7143\n",
            "Epoch 7/30\n",
            "45/45 [==============================] - 103s 2s/step - loss: 0.1680 - accuracy: 0.9306 - val_loss: 0.6544 - val_accuracy: 0.7143\n",
            "Epoch 8/30\n",
            "45/45 [==============================] - 118s 3s/step - loss: 0.1318 - accuracy: 0.9389 - val_loss: 0.6100 - val_accuracy: 0.7363\n",
            "Epoch 9/30\n",
            "45/45 [==============================] - 102s 2s/step - loss: 0.1305 - accuracy: 0.9500 - val_loss: 0.5589 - val_accuracy: 0.7363\n",
            "Epoch 10/30\n",
            "45/45 [==============================] - 107s 2s/step - loss: 0.1282 - accuracy: 0.9306 - val_loss: 0.5701 - val_accuracy: 0.7582\n",
            "Epoch 11/30\n",
            "45/45 [==============================] - 102s 2s/step - loss: 0.1149 - accuracy: 0.9500 - val_loss: 0.4661 - val_accuracy: 0.8022\n",
            "Epoch 12/30\n",
            "45/45 [==============================] - 102s 2s/step - loss: 0.1022 - accuracy: 0.9556 - val_loss: 0.7057 - val_accuracy: 0.7143\n",
            "Epoch 13/30\n",
            "45/45 [==============================] - 104s 2s/step - loss: 0.1115 - accuracy: 0.9389 - val_loss: 0.6120 - val_accuracy: 0.7363\n",
            "Epoch 14/30\n",
            "45/45 [==============================] - 100s 2s/step - loss: 0.0721 - accuracy: 0.9722 - val_loss: 0.5071 - val_accuracy: 0.7692\n",
            "              precision    recall  f1-score   support\n",
            "\n",
            "  Lungcancer       0.79      0.54      0.64        28\n",
            "      Normal       0.93      0.85      0.89        33\n",
            "Tuberculosis       0.64      0.90      0.75        30\n",
            "\n",
            "    accuracy                           0.77        91\n",
            "   macro avg       0.79      0.76      0.76        91\n",
            "weighted avg       0.79      0.77      0.77        91\n",
            "\n",
            "Fold #2\n",
            "Epoch 1/30\n",
            "45/45 [==============================] - 95s 2s/step - loss: 0.1676 - accuracy: 0.9235 - val_loss: 0.1906 - val_accuracy: 0.9111\n",
            "Epoch 2/30\n",
            "45/45 [==============================] - 97s 2s/step - loss: 0.1741 - accuracy: 0.9150 - val_loss: 0.2398 - val_accuracy: 0.8778\n",
            "Epoch 3/30\n",
            "45/45 [==============================] - 98s 2s/step - loss: 0.1180 - accuracy: 0.9377 - val_loss: 0.1307 - val_accuracy: 0.9111\n",
            "Epoch 4/30\n",
            "45/45 [==============================] - 112s 2s/step - loss: 0.1200 - accuracy: 0.9377 - val_loss: 0.0960 - val_accuracy: 0.9444\n",
            "Epoch 5/30\n",
            "45/45 [==============================] - 109s 2s/step - loss: 0.0717 - accuracy: 0.9688 - val_loss: 0.0438 - val_accuracy: 1.0000\n",
            "Epoch 6/30\n",
            "45/45 [==============================] - 99s 2s/step - loss: 0.0784 - accuracy: 0.9688 - val_loss: 0.0840 - val_accuracy: 0.9556\n",
            "Epoch 7/30\n",
            "45/45 [==============================] - 99s 2s/step - loss: 0.0999 - accuracy: 0.9518 - val_loss: 0.1548 - val_accuracy: 0.9000\n",
            "Epoch 8/30\n",
            "45/45 [==============================] - 115s 3s/step - loss: 0.0564 - accuracy: 0.9745 - val_loss: 0.2198 - val_accuracy: 0.9111\n",
            "              precision    recall  f1-score   support\n",
            "\n",
            "  Lungcancer       1.00      1.00      1.00        33\n",
            "      Normal       1.00      0.69      0.82        26\n",
            "Tuberculosis       0.79      1.00      0.89        31\n",
            "\n",
            "    accuracy                           0.91        90\n",
            "   macro avg       0.93      0.90      0.90        90\n",
            "weighted avg       0.93      0.91      0.91        90\n",
            "\n",
            "Fold #3\n",
            "Epoch 1/30\n",
            "45/45 [==============================] - 95s 2s/step - loss: 0.1069 - accuracy: 0.9462 - val_loss: 0.0456 - val_accuracy: 0.9778\n",
            "Epoch 2/30\n",
            "45/45 [==============================] - 100s 2s/step - loss: 0.0623 - accuracy: 0.9802 - val_loss: 0.0149 - val_accuracy: 1.0000\n",
            "Epoch 3/30\n",
            "45/45 [==============================] - 101s 2s/step - loss: 0.0703 - accuracy: 0.9802 - val_loss: 0.0323 - val_accuracy: 0.9778\n",
            "Epoch 4/30\n",
            "45/45 [==============================] - 101s 2s/step - loss: 0.0839 - accuracy: 0.9462 - val_loss: 0.0481 - val_accuracy: 0.9778\n",
            "Epoch 5/30\n",
            "45/45 [==============================] - 102s 2s/step - loss: 0.0757 - accuracy: 0.9688 - val_loss: 0.0479 - val_accuracy: 0.9778\n",
            "              precision    recall  f1-score   support\n",
            "\n",
            "  Lungcancer       1.00      0.93      0.96        29\n",
            "      Normal       1.00      1.00      1.00        33\n",
            "Tuberculosis       0.93      1.00      0.97        28\n",
            "\n",
            "    accuracy                           0.98        90\n",
            "   macro avg       0.98      0.98      0.98        90\n",
            "weighted avg       0.98      0.98      0.98        90\n",
            "\n",
            "Fold #4\n",
            "Epoch 1/30\n",
            "45/45 [==============================] - 95s 2s/step - loss: 0.0992 - accuracy: 0.9433 - val_loss: 0.0364 - val_accuracy: 0.9778\n",
            "Epoch 2/30\n",
            "45/45 [==============================] - 98s 2s/step - loss: 0.0758 - accuracy: 0.9717 - val_loss: 0.0581 - val_accuracy: 0.9778\n",
            "Epoch 3/30\n",
            "45/45 [==============================] - 96s 2s/step - loss: 0.0647 - accuracy: 0.9717 - val_loss: 0.1414 - val_accuracy: 0.9333\n",
            "Epoch 4/30\n",
            "45/45 [==============================] - 97s 2s/step - loss: 0.0754 - accuracy: 0.9694 - val_loss: 0.0904 - val_accuracy: 0.9556\n",
            "              precision    recall  f1-score   support\n",
            "\n",
            "  Lungcancer       1.00      0.87      0.93        30\n",
            "      Normal       1.00      1.00      1.00        31\n",
            "Tuberculosis       0.88      1.00      0.94        29\n",
            "\n",
            "    accuracy                           0.96        90\n",
            "   macro avg       0.96      0.96      0.95        90\n",
            "weighted avg       0.96      0.96      0.96        90\n",
            "\n",
            "Fold #5\n",
            "Epoch 1/30\n",
            "45/45 [==============================] - 93s 2s/step - loss: 0.0428 - accuracy: 0.9830 - val_loss: 0.0195 - val_accuracy: 0.9889\n",
            "Epoch 2/30\n",
            "45/45 [==============================] - 94s 2s/step - loss: 0.0392 - accuracy: 0.9887 - val_loss: 0.0859 - val_accuracy: 0.9667\n",
            "Epoch 3/30\n",
            "45/45 [==============================] - 95s 2s/step - loss: 0.0571 - accuracy: 0.9632 - val_loss: 0.1959 - val_accuracy: 0.9111\n",
            "Epoch 4/30\n",
            "45/45 [==============================] - 104s 2s/step - loss: 0.0714 - accuracy: 0.9688 - val_loss: 0.2286 - val_accuracy: 0.8667\n",
            "              precision    recall  f1-score   support\n",
            "\n",
            "  Lungcancer       1.00      0.80      0.89        30\n",
            "      Normal       1.00      0.79      0.88        28\n",
            "Tuberculosis       0.73      1.00      0.84        32\n",
            "\n",
            "    accuracy                           0.87        90\n",
            "   macro avg       0.91      0.86      0.87        90\n",
            "weighted avg       0.90      0.87      0.87        90\n",
            "\n"
          ]
        }
      ]
    },
    {
      "cell_type": "code",
      "source": [
        "oos_y41 = np.concatenate(oos_y41)\n",
        "oos_pred41 = np.concatenate(oos_pred41)"
      ],
      "metadata": {
        "id": "kFsrdUz0wFpW"
      },
      "execution_count": null,
      "outputs": []
    },
    {
      "cell_type": "code",
      "source": [
        "score41 = metrics.accuracy_score(oos_y41.argmax(axis=1),\t        #ค่า acc\n",
        "                                             oos_pred41.argmax(axis=1) )\n",
        "print(f\"Fold score (accuracy): {score41}\")\n",
        "\n",
        "print(classification_report(oos_y41.argmax(axis=1),\t                #แสดง report ค่า acc, recall, ...\n",
        "                                        oos_pred41.argmax(axis=1),  \n",
        "                                        target_names=le_Dense.classes_))"
      ],
      "metadata": {
        "outputId": "7b568418-90f7-4766-e58e-f5ae0285372d",
        "colab": {
          "base_uri": "https://localhost:8080/"
        },
        "id": "GT2hYYd8wFpX"
      },
      "execution_count": null,
      "outputs": [
        {
          "output_type": "stream",
          "name": "stdout",
          "text": [
            "Fold score (accuracy): 0.8957871396895787\n",
            "              precision    recall  f1-score   support\n",
            "\n",
            "  Lungcancer       0.97      0.83      0.90       150\n",
            "      Normal       0.99      0.87      0.93       151\n",
            "Tuberculosis       0.78      0.98      0.87       150\n",
            "\n",
            "    accuracy                           0.90       451\n",
            "   macro avg       0.91      0.90      0.90       451\n",
            "weighted avg       0.91      0.90      0.90       451\n",
            "\n"
          ]
        }
      ]
    },
    {
      "cell_type": "markdown",
      "source": [
        "## 5) K-fold  -- DenseNet201\n",
        "\n",
        "### -->ACC = 0.93\n",
        "### -->เวลา - นาที\n",
        "\n",
        "*   BS = 16\n",
        "*   fix weight & bias in layer 0-500\n",
        "*   activation=\"softmax\"\n",
        "*   learning_rate=0.0001\n",
        "*   epoch 30"
      ],
      "metadata": {
        "id": "L4u-99bQwFpX"
      }
    },
    {
      "cell_type": "code",
      "source": [
        "train_img_Dense = []\n",
        "for ImageName in tqdm(data_train3['ImageName']):               # รัน ชื่อรูป ในไฟล์ data_test3\n",
        "    image_path = All_3class_dir +'/' + ImageName                   # ดึงรูปในโฟล์เดอร์มาทีละรูป\n",
        "    img = cv2.imread(image_path)                                            # อ่านรูป\n",
        "    img = cv2.resize(img, (224, 224))                                       #ขนาดของ input\n",
        "    train_img_Dense.append(img)\n",
        "\n",
        "data_Dense = np.array(train_img_Dense, dtype=\"float32\") / 255.0"
      ],
      "metadata": {
        "outputId": "3bdc868c-041c-48f5-f700-e8fdc245a749",
        "colab": {
          "base_uri": "https://localhost:8080/"
        },
        "id": "0h2eKJA1wFpX"
      },
      "execution_count": null,
      "outputs": [
        {
          "output_type": "stream",
          "name": "stderr",
          "text": [
            "100%|██████████| 451/451 [00:05<00:00, 85.20it/s] \n"
          ]
        }
      ]
    },
    {
      "cell_type": "code",
      "source": [
        "labels_Dense = np.array(data_train3[['NameType']] )        \n",
        "labels_Dense.shape = (len(labels_Dense),) \n",
        "\n",
        "le_Dense = LabelEncoder()                                                                     \n",
        "labels_Dense = le_Dense.fit_transform(labels_Dense)                                         #จะแปลงชื่อ class เป็นตัวเลข 1, 2, 0 \n",
        "\n",
        "labels_Dense = to_categorical(labels_Dense, num_classes=3)                   #shape (180, 3) มีค่าเป็น  [0., 1., 0.]  กับ   [0., 0., 1.] กับ  [1., 0., 0.]"
      ],
      "metadata": {
        "id": "G8c5_7f2wFpY"
      },
      "execution_count": null,
      "outputs": []
    },
    {
      "cell_type": "code",
      "source": [
        "INIT_LR = 1e-1\n",
        "BS16 = 16\n",
        "EPOCHS = 50\n",
        "\n",
        "aug2 = ImageDataGenerator(\n",
        "\t\trotation_range=15,\t\t\t\t\t\t#องศาการหมุน\n",
        "\t\twidth_shift_range=0.1,\n",
        "\t\theight_shift_range=0.1,\n",
        "\t\tshear_range=0.15,\n",
        "\t\thorizontal_flip=True,\n",
        "\t\tfill_mode=\"nearest\")\n",
        "\n",
        "callback = tf.keras.callbacks.EarlyStopping(\n",
        "                monitor=\"val_accuracy\",\n",
        "                patience=3,\n",
        "                mode=\"max\" )"
      ],
      "metadata": {
        "id": "JtsT2vlwwFpY"
      },
      "execution_count": null,
      "outputs": []
    },
    {
      "cell_type": "code",
      "source": [
        "base_model_Dense = tf.keras.applications.DenseNet201(input_shape=(224, 224, 3), include_top=False, weights=\"imagenet\")\n",
        "len(base_model_Dense.layers)"
      ],
      "metadata": {
        "colab": {
          "base_uri": "https://localhost:8080/"
        },
        "outputId": "1fe23edc-2f68-4428-ed79-46c3ce3a8631",
        "id": "W3IkaysIwFpY"
      },
      "execution_count": null,
      "outputs": [
        {
          "output_type": "execute_result",
          "data": {
            "text/plain": [
              "707"
            ]
          },
          "metadata": {},
          "execution_count": 47
        }
      ]
    },
    {
      "cell_type": "code",
      "source": [
        "base_model_Dense.trainable = True\n",
        "for layer in base_model_Dense.layers[:600]:    #fix w & bias in layer 0-600\n",
        "    layer.trainable = False\n",
        "\n",
        "#Add custom head\n",
        "average_pooling_layer = tf.keras.layers.GlobalAveragePooling2D()(base_model_Dense.output)\n",
        "prediction_layer = tf.keras.layers.Dense(units=3, activation=\"softmax\")(average_pooling_layer)   # unit 3\n",
        "model_Dense2 = tf.keras.models.Model(inputs=base_model_Dense.input, outputs=prediction_layer)\n",
        "\n",
        "model_Dense2.compile(optimizer=tf.keras.optimizers.RMSprop(learning_rate=0.0001), loss=\"binary_crossentropy\", metrics=[\"accuracy\"])"
      ],
      "metadata": {
        "id": "ws4CasrywFpZ"
      },
      "execution_count": null,
      "outputs": []
    },
    {
      "cell_type": "code",
      "source": [
        "kf_Dense2 = KFold(5, shuffle=True, random_state=40) \n",
        "\n",
        "oos_y2 = []\n",
        "oos_pred2 = []\n",
        "fold = 0\n",
        "\n",
        "for train, test in kf_Dense2.split(data_Dense):\n",
        "    fold+=1\n",
        "    print(f\"Fold #{fold}\")\n",
        "        \n",
        "    x_train_Dense2 = data_Dense[train]\n",
        "    y_train_Dense2 = labels_Dense[train]\n",
        "    x_test_Dense2 = data_Dense[test]\n",
        "    y_test_Dense2 = labels_Dense[test]\n",
        "\n",
        "    H_Dense2 = model_Dense2.fit( x=aug2.flow(x_train_Dense2, y_train_Dense2, batch_size=BS16),\n",
        "\t                                            validation_data=(x_test_Dense2, y_test_Dense2),\n",
        "\t                                            steps_per_epoch=len(x_train_Dense2) // BS16,\n",
        "\t                                            epochs=30,  callbacks = [callback])\n",
        "    \n",
        "    pred_Dense2 = model_Dense2.predict(x_test_Dense2)\n",
        "    \n",
        "    oos_y2.append(y_test_Dense2)\n",
        "    oos_pred2.append(pred_Dense2)  \n",
        "    print(classification_report(y_test_Dense2.argmax(axis=1),\t                #แสดง report ค่า acc, recall, ...\n",
        "                                        pred_Dense2.argmax(axis=1),  \n",
        "                                        target_names=le_Dense.classes_))\n",
        "\n",
        "#   score = metrics.accuracy_score(y_test3_Incep.argmax(axis=1),\t        #ค่า acc\n",
        "#                                               pred3_Incep.argmax(axis=1)\n",
        "#    print(f\"Fold score (accuracy): {score}\")\n",
        "\n",
        "#    print(confusion_matrix(testY3_Incep.argmax(axis=1),\t                       #แสดง confusion_matrix\n",
        "#                        pred3_Incep.argmax(axis=1) ) )"
      ],
      "metadata": {
        "colab": {
          "base_uri": "https://localhost:8080/"
        },
        "outputId": "d7d246f0-8367-4978-d5c2-686479e3b293",
        "id": "XM5bjFNYwFpZ"
      },
      "execution_count": null,
      "outputs": [
        {
          "output_type": "stream",
          "name": "stdout",
          "text": [
            "Fold #1\n",
            "Epoch 1/30\n",
            "22/22 [==============================] - 131s 5s/step - loss: 0.5335 - accuracy: 0.6570 - val_loss: 0.5158 - val_accuracy: 0.6593\n",
            "Epoch 2/30\n",
            "22/22 [==============================] - 114s 5s/step - loss: 0.3912 - accuracy: 0.7616 - val_loss: 0.4862 - val_accuracy: 0.6703\n",
            "Epoch 3/30\n",
            "22/22 [==============================] - 115s 5s/step - loss: 0.3135 - accuracy: 0.8227 - val_loss: 0.4457 - val_accuracy: 0.7033\n",
            "Epoch 4/30\n",
            "22/22 [==============================] - 114s 5s/step - loss: 0.2949 - accuracy: 0.8285 - val_loss: 0.4228 - val_accuracy: 0.6813\n",
            "Epoch 5/30\n",
            "22/22 [==============================] - 112s 5s/step - loss: 0.2592 - accuracy: 0.8750 - val_loss: 0.4161 - val_accuracy: 0.7033\n",
            "Epoch 6/30\n",
            "22/22 [==============================] - 112s 5s/step - loss: 0.2337 - accuracy: 0.8750 - val_loss: 0.3942 - val_accuracy: 0.7253\n",
            "Epoch 7/30\n",
            "22/22 [==============================] - 112s 5s/step - loss: 0.2114 - accuracy: 0.8866 - val_loss: 0.3773 - val_accuracy: 0.7363\n",
            "Epoch 8/30\n",
            "22/22 [==============================] - 112s 5s/step - loss: 0.2046 - accuracy: 0.9012 - val_loss: 0.3892 - val_accuracy: 0.7253\n",
            "Epoch 9/30\n",
            "22/22 [==============================] - 114s 5s/step - loss: 0.2001 - accuracy: 0.8866 - val_loss: 0.3602 - val_accuracy: 0.7473\n",
            "Epoch 10/30\n",
            "22/22 [==============================] - 112s 5s/step - loss: 0.1664 - accuracy: 0.9244 - val_loss: 0.4053 - val_accuracy: 0.7473\n",
            "Epoch 11/30\n",
            "22/22 [==============================] - 114s 5s/step - loss: 0.1560 - accuracy: 0.9302 - val_loss: 0.3747 - val_accuracy: 0.7582\n",
            "Epoch 12/30\n",
            "22/22 [==============================] - 117s 5s/step - loss: 0.1610 - accuracy: 0.9205 - val_loss: 0.3587 - val_accuracy: 0.7582\n",
            "Epoch 13/30\n",
            "22/22 [==============================] - 116s 5s/step - loss: 0.1421 - accuracy: 0.9535 - val_loss: 0.3339 - val_accuracy: 0.8022\n",
            "Epoch 14/30\n",
            "22/22 [==============================] - 113s 5s/step - loss: 0.1025 - accuracy: 0.9797 - val_loss: 0.3608 - val_accuracy: 0.7692\n",
            "Epoch 15/30\n",
            "22/22 [==============================] - 113s 5s/step - loss: 0.1195 - accuracy: 0.9593 - val_loss: 0.3660 - val_accuracy: 0.7802\n",
            "Epoch 16/30\n",
            "22/22 [==============================] - 114s 5s/step - loss: 0.1077 - accuracy: 0.9506 - val_loss: 0.3588 - val_accuracy: 0.8132\n",
            "Epoch 17/30\n",
            "22/22 [==============================] - 114s 5s/step - loss: 0.0988 - accuracy: 0.9716 - val_loss: 0.3743 - val_accuracy: 0.7802\n",
            "Epoch 18/30\n",
            "22/22 [==============================] - 112s 5s/step - loss: 0.0767 - accuracy: 0.9855 - val_loss: 0.3577 - val_accuracy: 0.7912\n",
            "Epoch 19/30\n",
            "22/22 [==============================] - 112s 5s/step - loss: 0.0866 - accuracy: 0.9709 - val_loss: 0.5390 - val_accuracy: 0.7363\n",
            "              precision    recall  f1-score   support\n",
            "\n",
            "  Lungcancer       0.83      0.36      0.50        28\n",
            "      Normal       0.97      0.88      0.92        33\n",
            "Tuberculosis       0.57      0.93      0.71        30\n",
            "\n",
            "    accuracy                           0.74        91\n",
            "   macro avg       0.79      0.72      0.71        91\n",
            "weighted avg       0.80      0.74      0.72        91\n",
            "\n",
            "Fold #2\n",
            "Epoch 1/30\n",
            "22/22 [==============================] - 114s 5s/step - loss: 0.1470 - accuracy: 0.9362 - val_loss: 0.0757 - val_accuracy: 0.9778\n",
            "Epoch 2/30\n",
            "22/22 [==============================] - 118s 5s/step - loss: 0.1356 - accuracy: 0.9217 - val_loss: 0.0662 - val_accuracy: 0.9778\n",
            "Epoch 3/30\n",
            "22/22 [==============================] - 114s 5s/step - loss: 0.0930 - accuracy: 0.9652 - val_loss: 0.0690 - val_accuracy: 0.9778\n",
            "Epoch 4/30\n",
            "22/22 [==============================] - 114s 5s/step - loss: 0.0684 - accuracy: 0.9826 - val_loss: 0.0846 - val_accuracy: 0.9778\n",
            "              precision    recall  f1-score   support\n",
            "\n",
            "  Lungcancer       1.00      0.94      0.97        33\n",
            "      Normal       1.00      1.00      1.00        26\n",
            "Tuberculosis       0.94      1.00      0.97        31\n",
            "\n",
            "    accuracy                           0.98        90\n",
            "   macro avg       0.98      0.98      0.98        90\n",
            "weighted avg       0.98      0.98      0.98        90\n",
            "\n",
            "Fold #3\n",
            "Epoch 1/30\n",
            "22/22 [==============================] - 112s 5s/step - loss: 0.0789 - accuracy: 0.9797 - val_loss: 0.0500 - val_accuracy: 0.9778\n",
            "Epoch 2/30\n",
            "22/22 [==============================] - 114s 5s/step - loss: 0.0740 - accuracy: 0.9710 - val_loss: 0.0557 - val_accuracy: 0.9889\n",
            "Epoch 3/30\n",
            "22/22 [==============================] - 115s 5s/step - loss: 0.0578 - accuracy: 0.9884 - val_loss: 0.0531 - val_accuracy: 0.9889\n",
            "Epoch 4/30\n",
            "22/22 [==============================] - 115s 5s/step - loss: 0.0649 - accuracy: 0.9826 - val_loss: 0.0332 - val_accuracy: 1.0000\n",
            "Epoch 5/30\n",
            "22/22 [==============================] - 115s 5s/step - loss: 0.0515 - accuracy: 0.9855 - val_loss: 0.0527 - val_accuracy: 0.9889\n",
            "Epoch 6/30\n",
            "22/22 [==============================] - 119s 5s/step - loss: 0.0578 - accuracy: 0.9884 - val_loss: 0.1162 - val_accuracy: 0.9444\n",
            "Epoch 7/30\n",
            "22/22 [==============================] - 120s 5s/step - loss: 0.0443 - accuracy: 0.9884 - val_loss: 0.0937 - val_accuracy: 0.9556\n",
            "              precision    recall  f1-score   support\n",
            "\n",
            "  Lungcancer       1.00      0.90      0.95        29\n",
            "      Normal       1.00      0.97      0.98        33\n",
            "Tuberculosis       0.88      1.00      0.93        28\n",
            "\n",
            "    accuracy                           0.96        90\n",
            "   macro avg       0.96      0.96      0.95        90\n",
            "weighted avg       0.96      0.96      0.96        90\n",
            "\n",
            "Fold #4\n",
            "Epoch 1/30\n",
            "22/22 [==============================] - 114s 5s/step - loss: 0.0458 - accuracy: 0.9855 - val_loss: 0.0244 - val_accuracy: 1.0000\n",
            "Epoch 2/30\n",
            "22/22 [==============================] - 115s 5s/step - loss: 0.0578 - accuracy: 0.9797 - val_loss: 0.0558 - val_accuracy: 0.9778\n",
            "Epoch 3/30\n",
            "22/22 [==============================] - 115s 5s/step - loss: 0.0479 - accuracy: 0.9884 - val_loss: 0.0378 - val_accuracy: 0.9889\n",
            "Epoch 4/30\n",
            "22/22 [==============================] - 115s 5s/step - loss: 0.0552 - accuracy: 0.9826 - val_loss: 0.0593 - val_accuracy: 0.9778\n",
            "              precision    recall  f1-score   support\n",
            "\n",
            "  Lungcancer       1.00      0.93      0.97        30\n",
            "      Normal       1.00      1.00      1.00        31\n",
            "Tuberculosis       0.94      1.00      0.97        29\n",
            "\n",
            "    accuracy                           0.98        90\n",
            "   macro avg       0.98      0.98      0.98        90\n",
            "weighted avg       0.98      0.98      0.98        90\n",
            "\n",
            "Fold #5\n",
            "Epoch 1/30\n",
            "22/22 [==============================] - 111s 5s/step - loss: 0.0333 - accuracy: 0.9942 - val_loss: 0.0171 - val_accuracy: 1.0000\n",
            "Epoch 2/30\n",
            "22/22 [==============================] - 112s 5s/step - loss: 0.0340 - accuracy: 0.9855 - val_loss: 0.0288 - val_accuracy: 0.9889\n",
            "Epoch 3/30\n",
            "22/22 [==============================] - 113s 5s/step - loss: 0.0397 - accuracy: 0.9884 - val_loss: 0.0227 - val_accuracy: 1.0000\n",
            "Epoch 4/30\n",
            "22/22 [==============================] - 117s 5s/step - loss: 0.0401 - accuracy: 0.9768 - val_loss: 0.0262 - val_accuracy: 0.9889\n",
            "              precision    recall  f1-score   support\n",
            "\n",
            "  Lungcancer       1.00      0.97      0.98        30\n",
            "      Normal       1.00      1.00      1.00        28\n",
            "Tuberculosis       0.97      1.00      0.98        32\n",
            "\n",
            "    accuracy                           0.99        90\n",
            "   macro avg       0.99      0.99      0.99        90\n",
            "weighted avg       0.99      0.99      0.99        90\n",
            "\n"
          ]
        }
      ]
    },
    {
      "cell_type": "code",
      "source": [
        "oos_y2 = np.concatenate(oos_y2)\n",
        "oos_pred2 = np.concatenate(oos_pred2)"
      ],
      "metadata": {
        "id": "KrC0VlkHwFpa"
      },
      "execution_count": null,
      "outputs": []
    },
    {
      "cell_type": "code",
      "source": [
        "score = metrics.accuracy_score(oos_y2.argmax(axis=1),\t        #ค่า acc\n",
        "                                             oos_pred2.argmax(axis=1) )\n",
        "print(f\"Fold score (accuracy): {score}\")\n",
        "\n",
        "print(classification_report(oos_y2.argmax(axis=1),\t                #แสดง report ค่า acc, recall, ...\n",
        "                                        oos_pred2.argmax(axis=1),  \n",
        "                                        target_names=le_Dense.classes_))"
      ],
      "metadata": {
        "colab": {
          "base_uri": "https://localhost:8080/"
        },
        "outputId": "804024d0-5073-45b3-de5d-4e23725ca263",
        "id": "lEibjSPrwFpa"
      },
      "execution_count": null,
      "outputs": [
        {
          "output_type": "stream",
          "name": "stdout",
          "text": [
            "Fold score (accuracy): 0.926829268292683\n",
            "              precision    recall  f1-score   support\n",
            "\n",
            "  Lungcancer       0.98      0.83      0.90       150\n",
            "      Normal       0.99      0.97      0.98       151\n",
            "Tuberculosis       0.83      0.99      0.90       150\n",
            "\n",
            "    accuracy                           0.93       451\n",
            "   macro avg       0.94      0.93      0.93       451\n",
            "weighted avg       0.94      0.93      0.93       451\n",
            "\n"
          ]
        }
      ]
    },
    {
      "cell_type": "markdown",
      "source": [
        "## 5.1) K-fold  -- DenseNet201\n",
        "\n",
        "### -->ACC = 0.93\n",
        "### -->เวลา 4335.68 นาที\n",
        "\n",
        "*   BS = 16\n",
        "*   fix weight & bias in layer 0-500\n",
        "*   activation=\"sigmoid\"\n",
        "*   learning_rate=0.0001\n",
        "*   epoch 30"
      ],
      "metadata": {
        "id": "1XKnQ6kzwFpa"
      }
    },
    {
      "cell_type": "code",
      "source": [
        "train_img_Dense = []\n",
        "for ImageName in tqdm(data_train3['ImageName']):               # รัน ชื่อรูป ในไฟล์ data_test3\n",
        "    image_path = All_3class_dir +'/' + ImageName                   # ดึงรูปในโฟล์เดอร์มาทีละรูป\n",
        "    img = cv2.imread(image_path)                                            # อ่านรูป\n",
        "    img = cv2.resize(img, (224, 224))                                       #ขนาดของ input\n",
        "    train_img_Dense.append(img)\n",
        "\n",
        "data_Dense = np.array(train_img_Dense, dtype=\"float32\") / 255.0"
      ],
      "metadata": {
        "outputId": "63804fbb-8e1d-4372-f519-29492b87cd4c",
        "colab": {
          "base_uri": "https://localhost:8080/"
        },
        "id": "Sj6p1M_DwFpa"
      },
      "execution_count": null,
      "outputs": [
        {
          "output_type": "stream",
          "name": "stderr",
          "text": [
            "100%|██████████| 451/451 [00:05<00:00, 86.62it/s] \n"
          ]
        }
      ]
    },
    {
      "cell_type": "code",
      "source": [
        "labels_Dense = np.array(data_train3[['NameType']] )        \n",
        "labels_Dense.shape = (len(labels_Dense),) \n",
        "\n",
        "le_Dense = LabelEncoder()                                                                     \n",
        "labels_Dense = le_Dense.fit_transform(labels_Dense)                                         #จะแปลงชื่อ class เป็นตัวเลข 1, 2, 0 \n",
        "\n",
        "labels_Dense = to_categorical(labels_Dense, num_classes=3)                   #shape (180, 3) มีค่าเป็น  [0., 1., 0.]  กับ   [0., 0., 1.] กับ  [1., 0., 0.]"
      ],
      "metadata": {
        "id": "A_TsgRiCwFpb"
      },
      "execution_count": null,
      "outputs": []
    },
    {
      "cell_type": "code",
      "source": [
        "INIT_LR = 1e-1\n",
        "BS16 = 16\n",
        "EPOCHS = 50\n",
        "\n",
        "aug51 = ImageDataGenerator(\n",
        "\t\trotation_range=15,\t\t\t\t\t\t#องศาการหมุน\n",
        "\t\twidth_shift_range=0.1,\n",
        "\t\theight_shift_range=0.1,\n",
        "\t\tshear_range=0.15,\n",
        "\t\thorizontal_flip=True,\n",
        "\t\tfill_mode=\"nearest\")\n",
        "\n",
        "callback = tf.keras.callbacks.EarlyStopping(\n",
        "                monitor=\"val_accuracy\",\n",
        "                patience=3,\n",
        "                mode=\"max\" )"
      ],
      "metadata": {
        "id": "e2FNhaFRwFpc"
      },
      "execution_count": null,
      "outputs": []
    },
    {
      "cell_type": "code",
      "source": [
        "base_model_Dense = tf.keras.applications.DenseNet201(input_shape=(224, 224, 3), include_top=False, weights=\"imagenet\")\n",
        "len(base_model_Dense.layers)"
      ],
      "metadata": {
        "colab": {
          "base_uri": "https://localhost:8080/"
        },
        "outputId": "c798a6a3-b18f-4c0d-f3e2-6900d847185e",
        "id": "IrE9O0OSwFpd"
      },
      "execution_count": null,
      "outputs": [
        {
          "output_type": "execute_result",
          "data": {
            "text/plain": [
              "707"
            ]
          },
          "metadata": {},
          "execution_count": 31
        }
      ]
    },
    {
      "cell_type": "code",
      "source": [
        "base_model_Dense.trainable = True\n",
        "for layer in base_model_Dense.layers[:500]:    #fix w & bias in layer 0-500\n",
        "    layer.trainable = False\n",
        "\n",
        "#Add custom head\n",
        "average_pooling_layer = tf.keras.layers.GlobalAveragePooling2D()(base_model_Dense.output)\n",
        "prediction_layer = tf.keras.layers.Dense(units=3, activation=\"sigmoid\")(average_pooling_layer)   # unit 3\n",
        "model_Dense51 = tf.keras.models.Model(inputs=base_model_Dense.input, outputs=prediction_layer)\n",
        "\n",
        "model_Dense51.compile(optimizer=tf.keras.optimizers.RMSprop(learning_rate=0.0001), loss=\"binary_crossentropy\", metrics=[\"accuracy\"])"
      ],
      "metadata": {
        "id": "JYPSCg3qwFpe"
      },
      "execution_count": null,
      "outputs": []
    },
    {
      "cell_type": "code",
      "source": [
        "kf_Dense51 = KFold(5, shuffle=True, random_state=40) \n",
        "\n",
        "oos_y51 = []\n",
        "oos_pred51 = []\n",
        "fold = 0\n",
        "\n",
        "for train, test in kf_Dense51.split(data_Dense):\n",
        "    fold+=1\n",
        "    print(f\"Fold #{fold}\")\n",
        "        \n",
        "    x_train_Dense51 = data_Dense[train]\n",
        "    y_train_Dense51 = labels_Dense[train]\n",
        "    x_test_Dense51 = data_Dense[test]\n",
        "    y_test_Dense51 = labels_Dense[test]\n",
        "\n",
        "    H_Dense51 = model_Dense51.fit( x=aug51.flow(x_train_Dense51, y_train_Dense51, batch_size=BS16),\n",
        "\t                                            validation_data=(x_test_Dense51, y_test_Dense51),\n",
        "\t                                            steps_per_epoch=len(x_train_Dense51) // BS16,\n",
        "\t                                            epochs=30,  callbacks = [callback])\n",
        "    \n",
        "    pred_Dense51 = model_Dense51.predict(x_test_Dense51)\n",
        "    \n",
        "    oos_y51.append(y_test_Dense51)\n",
        "    oos_pred51.append(pred_Dense51)  \n",
        "    print(classification_report(y_test_Dense51.argmax(axis=1),\t                #แสดง report ค่า acc, recall, ...\n",
        "                                        pred_Dense51.argmax(axis=1),  \n",
        "                                        target_names=le_Dense.classes_))\n",
        "\n",
        "#   score = metrics.accuracy_score(y_test3_Incep.argmax(axis=1),\t        #ค่า acc\n",
        "#                                               pred3_Incep.argmax(axis=1)\n",
        "#    print(f\"Fold score (accuracy): {score}\")\n",
        "\n",
        "#    print(confusion_matrix(testY3_Incep.argmax(axis=1),\t                       #แสดง confusion_matrix\n",
        "#                        pred3_Incep.argmax(axis=1) ) )"
      ],
      "metadata": {
        "outputId": "a23aeef9-1892-42c4-e31b-c0c4519aa817",
        "colab": {
          "base_uri": "https://localhost:8080/"
        },
        "id": "RBKJBttjwFpe"
      },
      "execution_count": null,
      "outputs": [
        {
          "output_type": "stream",
          "name": "stdout",
          "text": [
            "Fold #1\n",
            "Epoch 1/30\n",
            "22/22 [==============================] - 113s 4s/step - loss: 0.4910 - accuracy: 0.6818 - val_loss: 0.6110 - val_accuracy: 0.5495\n",
            "Epoch 2/30\n",
            "22/22 [==============================] - 91s 4s/step - loss: 0.3051 - accuracy: 0.8285 - val_loss: 0.6054 - val_accuracy: 0.5385\n",
            "Epoch 3/30\n",
            "22/22 [==============================] - 89s 4s/step - loss: 0.2485 - accuracy: 0.8692 - val_loss: 0.5594 - val_accuracy: 0.5714\n",
            "Epoch 4/30\n",
            "22/22 [==============================] - 89s 4s/step - loss: 0.2070 - accuracy: 0.8895 - val_loss: 0.4729 - val_accuracy: 0.6813\n",
            "Epoch 5/30\n",
            "22/22 [==============================] - 89s 4s/step - loss: 0.1679 - accuracy: 0.9273 - val_loss: 0.5151 - val_accuracy: 0.6703\n",
            "Epoch 6/30\n",
            "22/22 [==============================] - 89s 4s/step - loss: 0.1692 - accuracy: 0.9215 - val_loss: 0.4507 - val_accuracy: 0.7143\n",
            "Epoch 7/30\n",
            "22/22 [==============================] - 89s 4s/step - loss: 0.1533 - accuracy: 0.9244 - val_loss: 0.4217 - val_accuracy: 0.7473\n",
            "Epoch 8/30\n",
            "22/22 [==============================] - 89s 4s/step - loss: 0.1107 - accuracy: 0.9593 - val_loss: 0.4309 - val_accuracy: 0.7582\n",
            "Epoch 9/30\n",
            "22/22 [==============================] - 90s 4s/step - loss: 0.1090 - accuracy: 0.9564 - val_loss: 0.4810 - val_accuracy: 0.7473\n",
            "Epoch 10/30\n",
            "22/22 [==============================] - 90s 4s/step - loss: 0.1064 - accuracy: 0.9448 - val_loss: 0.5169 - val_accuracy: 0.7912\n",
            "Epoch 11/30\n",
            "22/22 [==============================] - 90s 4s/step - loss: 0.0875 - accuracy: 0.9680 - val_loss: 0.5270 - val_accuracy: 0.7143\n",
            "Epoch 12/30\n",
            "22/22 [==============================] - 89s 4s/step - loss: 0.0778 - accuracy: 0.9738 - val_loss: 0.8450 - val_accuracy: 0.6813\n",
            "Epoch 13/30\n",
            "22/22 [==============================] - 90s 4s/step - loss: 0.0662 - accuracy: 0.9797 - val_loss: 0.7089 - val_accuracy: 0.7253\n",
            "              precision    recall  f1-score   support\n",
            "\n",
            "  Lungcancer       0.90      0.32      0.47        28\n",
            "      Normal       0.94      0.88      0.91        33\n",
            "Tuberculosis       0.56      0.93      0.70        30\n",
            "\n",
            "    accuracy                           0.73        91\n",
            "   macro avg       0.80      0.71      0.69        91\n",
            "weighted avg       0.80      0.73      0.71        91\n",
            "\n",
            "Fold #2\n",
            "Epoch 1/30\n",
            "22/22 [==============================] - 90s 4s/step - loss: 0.1529 - accuracy: 0.9246 - val_loss: 0.0402 - val_accuracy: 0.9889\n",
            "Epoch 2/30\n",
            "22/22 [==============================] - 99s 5s/step - loss: 0.1220 - accuracy: 0.9275 - val_loss: 0.0601 - val_accuracy: 0.9778\n",
            "Epoch 3/30\n",
            "22/22 [==============================] - 90s 4s/step - loss: 0.1007 - accuracy: 0.9536 - val_loss: 0.0352 - val_accuracy: 1.0000\n",
            "Epoch 4/30\n",
            "22/22 [==============================] - 91s 4s/step - loss: 0.0696 - accuracy: 0.9768 - val_loss: 0.0703 - val_accuracy: 0.9778\n",
            "Epoch 5/30\n",
            "22/22 [==============================] - 91s 4s/step - loss: 0.0878 - accuracy: 0.9565 - val_loss: 0.0793 - val_accuracy: 0.9667\n",
            "Epoch 6/30\n",
            "22/22 [==============================] - 91s 4s/step - loss: 0.0534 - accuracy: 0.9826 - val_loss: 0.0318 - val_accuracy: 1.0000\n",
            "              precision    recall  f1-score   support\n",
            "\n",
            "  Lungcancer       1.00      1.00      1.00        33\n",
            "      Normal       1.00      1.00      1.00        26\n",
            "Tuberculosis       1.00      1.00      1.00        31\n",
            "\n",
            "    accuracy                           1.00        90\n",
            "   macro avg       1.00      1.00      1.00        90\n",
            "weighted avg       1.00      1.00      1.00        90\n",
            "\n",
            "Fold #3\n",
            "Epoch 1/30\n",
            "22/22 [==============================] - 91s 4s/step - loss: 0.0584 - accuracy: 0.9739 - val_loss: 0.0310 - val_accuracy: 0.9889\n",
            "Epoch 2/30\n",
            "22/22 [==============================] - 91s 4s/step - loss: 0.0339 - accuracy: 0.9942 - val_loss: 0.0150 - val_accuracy: 1.0000\n",
            "Epoch 3/30\n",
            "22/22 [==============================] - 91s 4s/step - loss: 0.0401 - accuracy: 0.9884 - val_loss: 0.0385 - val_accuracy: 0.9778\n",
            "Epoch 4/30\n",
            "22/22 [==============================] - 91s 4s/step - loss: 0.0285 - accuracy: 0.9913 - val_loss: 0.0314 - val_accuracy: 1.0000\n",
            "Epoch 5/30\n",
            "22/22 [==============================] - 91s 4s/step - loss: 0.0339 - accuracy: 0.9855 - val_loss: 0.0564 - val_accuracy: 0.9556\n",
            "              precision    recall  f1-score   support\n",
            "\n",
            "  Lungcancer       1.00      0.93      0.96        29\n",
            "      Normal       1.00      0.94      0.97        33\n",
            "Tuberculosis       0.88      1.00      0.93        28\n",
            "\n",
            "    accuracy                           0.96        90\n",
            "   macro avg       0.96      0.96      0.96        90\n",
            "weighted avg       0.96      0.96      0.96        90\n",
            "\n",
            "Fold #4\n",
            "Epoch 1/30\n",
            "22/22 [==============================] - 88s 4s/step - loss: 0.0476 - accuracy: 0.9739 - val_loss: 0.0703 - val_accuracy: 0.9444\n",
            "Epoch 2/30\n",
            "22/22 [==============================] - 88s 4s/step - loss: 0.0410 - accuracy: 0.9797 - val_loss: 0.1003 - val_accuracy: 0.9333\n",
            "Epoch 3/30\n",
            "22/22 [==============================] - 89s 4s/step - loss: 0.0485 - accuracy: 0.9739 - val_loss: 0.0455 - val_accuracy: 0.9556\n",
            "Epoch 4/30\n",
            "22/22 [==============================] - 88s 4s/step - loss: 0.0303 - accuracy: 0.9942 - val_loss: 0.0116 - val_accuracy: 1.0000\n",
            "Epoch 5/30\n",
            "22/22 [==============================] - 88s 4s/step - loss: 0.0252 - accuracy: 0.9884 - val_loss: 0.0712 - val_accuracy: 0.9556\n",
            "Epoch 6/30\n",
            "22/22 [==============================] - 88s 4s/step - loss: 0.0309 - accuracy: 0.9826 - val_loss: 0.0109 - val_accuracy: 1.0000\n",
            "Epoch 7/30\n",
            "22/22 [==============================] - 88s 4s/step - loss: 0.0242 - accuracy: 0.9942 - val_loss: 0.0135 - val_accuracy: 1.0000\n",
            "              precision    recall  f1-score   support\n",
            "\n",
            "  Lungcancer       1.00      1.00      1.00        30\n",
            "      Normal       1.00      1.00      1.00        31\n",
            "Tuberculosis       1.00      1.00      1.00        29\n",
            "\n",
            "    accuracy                           1.00        90\n",
            "   macro avg       1.00      1.00      1.00        90\n",
            "weighted avg       1.00      1.00      1.00        90\n",
            "\n",
            "Fold #5\n",
            "Epoch 1/30\n",
            "22/22 [==============================] - 89s 4s/step - loss: 0.0409 - accuracy: 0.9826 - val_loss: 0.0119 - val_accuracy: 0.9889\n",
            "Epoch 2/30\n",
            "22/22 [==============================] - 91s 4s/step - loss: 0.0294 - accuracy: 0.9915 - val_loss: 0.1642 - val_accuracy: 0.9222\n",
            "Epoch 3/30\n",
            "22/22 [==============================] - 88s 4s/step - loss: 0.0373 - accuracy: 0.9884 - val_loss: 0.0740 - val_accuracy: 0.9667\n",
            "Epoch 4/30\n",
            "22/22 [==============================] - 88s 4s/step - loss: 0.0155 - accuracy: 1.0000 - val_loss: 0.0719 - val_accuracy: 0.9778\n",
            "              precision    recall  f1-score   support\n",
            "\n",
            "  Lungcancer       1.00      0.97      0.98        30\n",
            "      Normal       1.00      0.96      0.98        28\n",
            "Tuberculosis       0.94      1.00      0.97        32\n",
            "\n",
            "    accuracy                           0.98        90\n",
            "   macro avg       0.98      0.98      0.98        90\n",
            "weighted avg       0.98      0.98      0.98        90\n",
            "\n"
          ]
        }
      ]
    },
    {
      "cell_type": "code",
      "source": [
        "oos_y51 = np.concatenate(oos_y51)\n",
        "oos_pred51 = np.concatenate(oos_pred51)"
      ],
      "metadata": {
        "id": "ly-ciqY9wFpf"
      },
      "execution_count": null,
      "outputs": []
    },
    {
      "cell_type": "code",
      "source": [
        "score51 = metrics.accuracy_score(oos_y51.argmax(axis=1),\t        #ค่า acc\n",
        "                                             oos_pred51.argmax(axis=1) )\n",
        "print(f\"Fold score (accuracy): {score51}\")\n",
        "\n",
        "print(classification_report(oos_y51.argmax(axis=1),\t                #แสดง report ค่า acc, recall, ...\n",
        "                                        oos_pred51.argmax(axis=1),  \n",
        "                                        target_names=le_Dense.classes_))"
      ],
      "metadata": {
        "outputId": "cfc15115-b6b5-4169-c8d4-2f31e9a44ba7",
        "colab": {
          "base_uri": "https://localhost:8080/"
        },
        "id": "6aD8xFfswFpf"
      },
      "execution_count": null,
      "outputs": [
        {
          "output_type": "stream",
          "name": "stdout",
          "text": [
            "Fold score (accuracy): 0.9312638580931264\n",
            "              precision    recall  f1-score   support\n",
            "\n",
            "  Lungcancer       0.99      0.85      0.92       150\n",
            "      Normal       0.99      0.95      0.97       151\n",
            "Tuberculosis       0.84      0.99      0.91       150\n",
            "\n",
            "    accuracy                           0.93       451\n",
            "   macro avg       0.94      0.93      0.93       451\n",
            "weighted avg       0.94      0.93      0.93       451\n",
            "\n"
          ]
        }
      ]
    },
    {
      "cell_type": "markdown",
      "source": [
        "## 6) K-fold  -- DenseNet201\n",
        "\n",
        "### -->ACC = 0.88\n",
        "### -->เวลา - วินาที\n",
        "\n",
        "*   BS = 32\n",
        "*   fix weight & bias in layer 0-500\n",
        "*   activation=\"softmax\"\n",
        "*   learning_rate=0.0001\n",
        "*   epoch 30"
      ],
      "metadata": {
        "id": "KMlX4tkqwFpf"
      }
    },
    {
      "cell_type": "code",
      "source": [
        "train_img_Dense = []\n",
        "for ImageName in tqdm(data_train3['ImageName']):               # รัน ชื่อรูป ในไฟล์ data_test3\n",
        "    image_path = All_3class_dir +'/' + ImageName                   # ดึงรูปในโฟล์เดอร์มาทีละรูป\n",
        "    img = cv2.imread(image_path)                                            # อ่านรูป\n",
        "    img = cv2.resize(img, (224, 224))                                       #ขนาดของ input\n",
        "    train_img_Dense.append(img)\n",
        "\n",
        "data_Dense = np.array(train_img_Dense, dtype=\"float32\") / 255.0"
      ],
      "metadata": {
        "outputId": "e3393b6f-cc14-4ef3-a6bc-699f6d61e134",
        "colab": {
          "base_uri": "https://localhost:8080/"
        },
        "id": "OHtCYck9wFpg"
      },
      "execution_count": null,
      "outputs": [
        {
          "output_type": "stream",
          "name": "stderr",
          "text": [
            "100%|██████████| 451/451 [00:05<00:00, 86.49it/s] \n"
          ]
        }
      ]
    },
    {
      "cell_type": "code",
      "source": [
        "labels_Dense = np.array(data_train3[['NameType']] )        \n",
        "labels_Dense.shape = (len(labels_Dense),) \n",
        "\n",
        "le_Dense = LabelEncoder()                                                                     \n",
        "labels_Dense = le_Dense.fit_transform(labels_Dense)                                         #จะแปลงชื่อ class เป็นตัวเลข 1, 2, 0 \n",
        "\n",
        "labels_Dense = to_categorical(labels_Dense, num_classes=3)                   #shape (180, 3) มีค่าเป็น  [0., 1., 0.]  กับ   [0., 0., 1.] กับ  [1., 0., 0.]"
      ],
      "metadata": {
        "id": "KMHch01pwFpg"
      },
      "execution_count": null,
      "outputs": []
    },
    {
      "cell_type": "code",
      "source": [
        "INIT_LR = 1e-1\n",
        "BS32 = 32\n",
        "EPOCHS = 50\n",
        "\n",
        "aug3 = ImageDataGenerator(\n",
        "\t\trotation_range=15,\t\t\t\t\t\t#องศาการหมุน\n",
        "\t\twidth_shift_range=0.1,\n",
        "\t\theight_shift_range=0.1,\n",
        "\t\tshear_range=0.15,\n",
        "\t\thorizontal_flip=True,\n",
        "\t\tfill_mode=\"nearest\")\n",
        "\n",
        "callback = tf.keras.callbacks.EarlyStopping(\n",
        "                monitor=\"val_accuracy\",\n",
        "                patience=3,\n",
        "                mode=\"max\" )"
      ],
      "metadata": {
        "id": "OuOef3gDwFpg"
      },
      "execution_count": null,
      "outputs": []
    },
    {
      "cell_type": "code",
      "source": [
        "base_model_Dense = tf.keras.applications.DenseNet201(input_shape=(224, 224, 3), include_top=False, weights=\"imagenet\")\n",
        "len(base_model_Dense.layers)"
      ],
      "metadata": {
        "colab": {
          "base_uri": "https://localhost:8080/"
        },
        "outputId": "845833fa-58bb-4afe-8efd-438488272b84",
        "id": "QhiWA--swFph"
      },
      "execution_count": null,
      "outputs": [
        {
          "output_type": "execute_result",
          "data": {
            "text/plain": [
              "707"
            ]
          },
          "metadata": {},
          "execution_count": 55
        }
      ]
    },
    {
      "cell_type": "code",
      "source": [
        "base_model_Dense.trainable = True\n",
        "for layer in base_model_Dense.layers[:500]:    #fix w & bias in layer 0-500\n",
        "    layer.trainable = False\n",
        "\n",
        "#Add custom head\n",
        "average_pooling_layer = tf.keras.layers.GlobalAveragePooling2D()(base_model_Dense.output)\n",
        "prediction_layer = tf.keras.layers.Dense(units=3, activation=\"softmax\")(average_pooling_layer)   # unit 3\n",
        "model_Dense3 = tf.keras.models.Model(inputs=base_model_Dense.input, outputs=prediction_layer)\n",
        "\n",
        "model_Dense3.compile(optimizer=tf.keras.optimizers.RMSprop(learning_rate=0.0001), loss=\"binary_crossentropy\", metrics=[\"accuracy\"])"
      ],
      "metadata": {
        "id": "GHWX1MIpwFph"
      },
      "execution_count": null,
      "outputs": []
    },
    {
      "cell_type": "code",
      "source": [
        "kf_Dense3 = KFold(5, shuffle=True, random_state=40) \n",
        "\n",
        "oos_y3 = []\n",
        "oos_pred3 = []\n",
        "fold = 0\n",
        "\n",
        "for train, test in kf_Dense3.split(data_Dense):\n",
        "    fold+=1\n",
        "    print(f\"Fold #{fold}\")\n",
        "        \n",
        "    x_train_Dense3 = data_Dense[train]\n",
        "    y_train_Dense3 = labels_Dense[train]\n",
        "    x_test_Dense3 = data_Dense[test]\n",
        "    y_test_Dense3 = labels_Dense[test]\n",
        "\n",
        "    H_Dense3 = model_Dense3.fit( x=aug3.flow(x_train_Dense3, y_train_Dense3, batch_size=BS32),\n",
        "\t                                            validation_data=(x_test_Dense3, y_test_Dense3),\n",
        "\t                                            steps_per_epoch=len(x_train_Dense3) // BS32,\n",
        "\t                                            epochs=30,  callbacks = [callback])\n",
        "    \n",
        "    pred_Dense3 = model_Dense3.predict(x_test_Dense3)\n",
        "    \n",
        "    oos_y3.append(y_test_Dense3)\n",
        "    oos_pred3.append(pred_Dense3)  \n",
        "    print(classification_report(y_test_Dense3.argmax(axis=1),\t                #แสดง report ค่า acc, recall, ...\n",
        "                                        pred_Dense3.argmax(axis=1),  \n",
        "                                        target_names=le_Dense.classes_))\n",
        "\n",
        "#   score = metrics.accuracy_score(y_test3_Incep.argmax(axis=1),\t        #ค่า acc\n",
        "#                                               pred3_Incep.argmax(axis=1)\n",
        "#    print(f\"Fold score (accuracy): {score}\")\n",
        "\n",
        "#    print(confusion_matrix(testY3_Incep.argmax(axis=1),\t                       #แสดง confusion_matrix\n",
        "#                        pred3_Incep.argmax(axis=1) ) )"
      ],
      "metadata": {
        "colab": {
          "base_uri": "https://localhost:8080/"
        },
        "outputId": "cc009b86-86bc-44e8-834a-036fd80547d9",
        "id": "Rud1OvAPwFph"
      },
      "execution_count": null,
      "outputs": [
        {
          "output_type": "stream",
          "name": "stdout",
          "text": [
            "Fold #1\n",
            "Epoch 1/30\n",
            "11/11 [==============================] - 140s 11s/step - loss: 0.5279 - accuracy: 0.6128 - val_loss: 0.4957 - val_accuracy: 0.6044\n",
            "Epoch 2/30\n",
            "11/11 [==============================] - 117s 11s/step - loss: 0.3433 - accuracy: 0.7988 - val_loss: 0.5024 - val_accuracy: 0.6044\n",
            "Epoch 3/30\n",
            "11/11 [==============================] - 117s 11s/step - loss: 0.3004 - accuracy: 0.8201 - val_loss: 0.4961 - val_accuracy: 0.5824\n",
            "Epoch 4/30\n",
            "11/11 [==============================] - 120s 11s/step - loss: 0.2424 - accuracy: 0.8811 - val_loss: 0.4854 - val_accuracy: 0.6154\n",
            "Epoch 5/30\n",
            "11/11 [==============================] - 128s 12s/step - loss: 0.2054 - accuracy: 0.9176 - val_loss: 0.4746 - val_accuracy: 0.6264\n",
            "Epoch 6/30\n",
            "11/11 [==============================] - 121s 11s/step - loss: 0.1721 - accuracy: 0.9146 - val_loss: 0.4974 - val_accuracy: 0.6044\n",
            "Epoch 7/30\n",
            "11/11 [==============================] - 121s 11s/step - loss: 0.1818 - accuracy: 0.9055 - val_loss: 0.5492 - val_accuracy: 0.6264\n",
            "Epoch 8/30\n",
            "11/11 [==============================] - 130s 12s/step - loss: 0.1394 - accuracy: 0.9545 - val_loss: 0.5083 - val_accuracy: 0.6264\n",
            "              precision    recall  f1-score   support\n",
            "\n",
            "  Lungcancer       0.60      0.11      0.18        28\n",
            "      Normal       0.66      1.00      0.80        33\n",
            "Tuberculosis       0.58      0.70      0.64        30\n",
            "\n",
            "    accuracy                           0.63        91\n",
            "   macro avg       0.61      0.60      0.54        91\n",
            "weighted avg       0.62      0.63      0.55        91\n",
            "\n",
            "Fold #2\n",
            "Epoch 1/30\n",
            "11/11 [==============================] - 119s 11s/step - loss: 0.1905 - accuracy: 0.8936 - val_loss: 0.3111 - val_accuracy: 0.8000\n",
            "Epoch 2/30\n",
            "11/11 [==============================] - 120s 11s/step - loss: 0.1542 - accuracy: 0.9331 - val_loss: 0.2452 - val_accuracy: 0.8333\n",
            "Epoch 3/30\n",
            "11/11 [==============================] - 119s 11s/step - loss: 0.1255 - accuracy: 0.9544 - val_loss: 0.1960 - val_accuracy: 0.9000\n",
            "Epoch 4/30\n",
            "11/11 [==============================] - 119s 11s/step - loss: 0.1079 - accuracy: 0.9544 - val_loss: 0.1361 - val_accuracy: 0.9556\n",
            "Epoch 5/30\n",
            "11/11 [==============================] - 120s 11s/step - loss: 0.0874 - accuracy: 0.9757 - val_loss: 0.1583 - val_accuracy: 0.9222\n",
            "Epoch 6/30\n",
            "11/11 [==============================] - 119s 11s/step - loss: 0.0979 - accuracy: 0.9666 - val_loss: 0.1872 - val_accuracy: 0.9111\n",
            "Epoch 7/30\n",
            "11/11 [==============================] - 126s 12s/step - loss: 0.0628 - accuracy: 0.9818 - val_loss: 0.1716 - val_accuracy: 0.8889\n",
            "              precision    recall  f1-score   support\n",
            "\n",
            "  Lungcancer       1.00      0.70      0.82        33\n",
            "      Normal       0.96      1.00      0.98        26\n",
            "Tuberculosis       0.78      1.00      0.87        31\n",
            "\n",
            "    accuracy                           0.89        90\n",
            "   macro avg       0.91      0.90      0.89        90\n",
            "weighted avg       0.91      0.89      0.89        90\n",
            "\n",
            "Fold #3\n",
            "Epoch 1/30\n",
            "11/11 [==============================] - 120s 11s/step - loss: 0.0687 - accuracy: 0.9818 - val_loss: 0.1314 - val_accuracy: 0.9222\n",
            "Epoch 2/30\n",
            "11/11 [==============================] - 122s 11s/step - loss: 0.0533 - accuracy: 0.9848 - val_loss: 0.1782 - val_accuracy: 0.9000\n",
            "Epoch 3/30\n",
            "11/11 [==============================] - 118s 11s/step - loss: 0.0427 - accuracy: 0.9909 - val_loss: 0.1058 - val_accuracy: 0.9556\n",
            "Epoch 4/30\n",
            "11/11 [==============================] - 122s 11s/step - loss: 0.0467 - accuracy: 0.9848 - val_loss: 0.0673 - val_accuracy: 0.9778\n",
            "Epoch 5/30\n",
            "11/11 [==============================] - 120s 11s/step - loss: 0.0320 - accuracy: 0.9878 - val_loss: 0.0865 - val_accuracy: 0.9556\n",
            "Epoch 6/30\n",
            "11/11 [==============================] - 121s 11s/step - loss: 0.0432 - accuracy: 0.9909 - val_loss: 0.0577 - val_accuracy: 0.9667\n",
            "Epoch 7/30\n",
            "11/11 [==============================] - 120s 11s/step - loss: 0.0342 - accuracy: 0.9909 - val_loss: 0.0660 - val_accuracy: 0.9667\n",
            "              precision    recall  f1-score   support\n",
            "\n",
            "  Lungcancer       0.96      0.93      0.95        29\n",
            "      Normal       1.00      1.00      1.00        33\n",
            "Tuberculosis       0.93      0.96      0.95        28\n",
            "\n",
            "    accuracy                           0.97        90\n",
            "   macro avg       0.97      0.97      0.96        90\n",
            "weighted avg       0.97      0.97      0.97        90\n",
            "\n",
            "Fold #4\n",
            "Epoch 1/30\n",
            "11/11 [==============================] - 119s 11s/step - loss: 0.0440 - accuracy: 0.9909 - val_loss: 0.0245 - val_accuracy: 1.0000\n",
            "Epoch 2/30\n",
            "11/11 [==============================] - 124s 12s/step - loss: 0.0408 - accuracy: 0.9848 - val_loss: 0.0182 - val_accuracy: 1.0000\n",
            "Epoch 3/30\n",
            "11/11 [==============================] - 120s 11s/step - loss: 0.0385 - accuracy: 0.9757 - val_loss: 0.0217 - val_accuracy: 0.9889\n",
            "Epoch 4/30\n",
            "11/11 [==============================] - 118s 11s/step - loss: 0.0381 - accuracy: 0.9848 - val_loss: 0.1541 - val_accuracy: 0.9111\n",
            "              precision    recall  f1-score   support\n",
            "\n",
            "  Lungcancer       1.00      0.73      0.85        30\n",
            "      Normal       0.97      1.00      0.98        31\n",
            "Tuberculosis       0.81      1.00      0.89        29\n",
            "\n",
            "    accuracy                           0.91        90\n",
            "   macro avg       0.92      0.91      0.91        90\n",
            "weighted avg       0.93      0.91      0.91        90\n",
            "\n",
            "Fold #5\n",
            "Epoch 1/30\n",
            "11/11 [==============================] - 121s 11s/step - loss: 0.0369 - accuracy: 0.9818 - val_loss: 0.0331 - val_accuracy: 0.9778\n",
            "Epoch 2/30\n",
            "11/11 [==============================] - 119s 11s/step - loss: 0.0364 - accuracy: 0.9939 - val_loss: 0.0466 - val_accuracy: 0.9778\n",
            "Epoch 3/30\n",
            "11/11 [==============================] - 120s 11s/step - loss: 0.0347 - accuracy: 0.9909 - val_loss: 0.0572 - val_accuracy: 0.9667\n",
            "Epoch 4/30\n",
            "11/11 [==============================] - 119s 11s/step - loss: 0.0395 - accuracy: 0.9818 - val_loss: 0.0143 - val_accuracy: 1.0000\n",
            "Epoch 5/30\n",
            "11/11 [==============================] - 119s 11s/step - loss: 0.0203 - accuracy: 0.9970 - val_loss: 0.0085 - val_accuracy: 1.0000\n",
            "Epoch 6/30\n",
            "11/11 [==============================] - 131s 12s/step - loss: 0.0197 - accuracy: 0.9943 - val_loss: 0.0257 - val_accuracy: 0.9889\n",
            "Epoch 7/30\n",
            "11/11 [==============================] - 121s 11s/step - loss: 0.0256 - accuracy: 0.9970 - val_loss: 0.0148 - val_accuracy: 1.0000\n",
            "              precision    recall  f1-score   support\n",
            "\n",
            "  Lungcancer       1.00      1.00      1.00        30\n",
            "      Normal       1.00      1.00      1.00        28\n",
            "Tuberculosis       1.00      1.00      1.00        32\n",
            "\n",
            "    accuracy                           1.00        90\n",
            "   macro avg       1.00      1.00      1.00        90\n",
            "weighted avg       1.00      1.00      1.00        90\n",
            "\n"
          ]
        }
      ]
    },
    {
      "cell_type": "code",
      "source": [
        "oos_y3 = np.concatenate(oos_y3)\n",
        "oos_pred3 = np.concatenate(oos_pred3)"
      ],
      "metadata": {
        "id": "3SPMe-ERwFpi"
      },
      "execution_count": null,
      "outputs": []
    },
    {
      "cell_type": "code",
      "source": [
        "score = metrics.accuracy_score(oos_y3.argmax(axis=1),\t        #ค่า acc\n",
        "                                             oos_pred3.argmax(axis=1) )\n",
        "print(f\"Fold score (accuracy): {score}\")\n",
        "\n",
        "print(classification_report(oos_y3.argmax(axis=1),\t                #แสดง report ค่า acc, recall, ...\n",
        "                                        oos_pred3.argmax(axis=1),  \n",
        "                                        target_names=le_Dense.classes_))"
      ],
      "metadata": {
        "colab": {
          "base_uri": "https://localhost:8080/"
        },
        "outputId": "ae6fb305-37cf-46d5-9c7d-d7b594f36f71",
        "id": "uMTvcjaYwFpi"
      },
      "execution_count": null,
      "outputs": [
        {
          "output_type": "stream",
          "name": "stdout",
          "text": [
            "Fold score (accuracy): 0.8780487804878049\n",
            "              precision    recall  f1-score   support\n",
            "\n",
            "  Lungcancer       0.97      0.70      0.81       150\n",
            "      Normal       0.89      1.00      0.94       151\n",
            "Tuberculosis       0.81      0.93      0.87       150\n",
            "\n",
            "    accuracy                           0.88       451\n",
            "   macro avg       0.89      0.88      0.87       451\n",
            "weighted avg       0.89      0.88      0.87       451\n",
            "\n"
          ]
        }
      ]
    },
    {
      "cell_type": "markdown",
      "source": [
        "## 6.1) K-fold  -- DenseNet201\n",
        "\n",
        "### -->ACC = 0.83 \n",
        "### -->เวลา 3717 วินาที\n",
        "\n",
        "*   BS = 32\n",
        "*   fix weight & bias in layer 0-500\n",
        "*   activation=\"sigmoid\"\n",
        "*   learning_rate=0.0001\n",
        "*   epoch 30"
      ],
      "metadata": {
        "id": "8yPF8Y57wFpi"
      }
    },
    {
      "cell_type": "code",
      "source": [
        "train_img_Dense = []\n",
        "for ImageName in tqdm(data_train3['ImageName']):               # รัน ชื่อรูป ในไฟล์ data_test3\n",
        "    image_path = All_3class_dir +'/' + ImageName                   # ดึงรูปในโฟล์เดอร์มาทีละรูป\n",
        "    img = cv2.imread(image_path)                                            # อ่านรูป\n",
        "    img = cv2.resize(img, (224, 224))                                       #ขนาดของ input\n",
        "    train_img_Dense.append(img)\n",
        "\n",
        "data_Dense = np.array(train_img_Dense, dtype=\"float32\") / 255.0"
      ],
      "metadata": {
        "outputId": "7dbb2a0c-1b02-4dda-a9ee-11821a53a784",
        "colab": {
          "base_uri": "https://localhost:8080/"
        },
        "id": "1l1k2DJNwFpi"
      },
      "execution_count": null,
      "outputs": [
        {
          "output_type": "stream",
          "name": "stderr",
          "text": [
            "100%|██████████| 451/451 [00:05<00:00, 75.37it/s] \n"
          ]
        }
      ]
    },
    {
      "cell_type": "code",
      "source": [
        "labels_Dense = np.array(data_train3[['NameType']] )        \n",
        "labels_Dense.shape = (len(labels_Dense),) \n",
        "\n",
        "le_Dense = LabelEncoder()                                                                     \n",
        "labels_Dense = le_Dense.fit_transform(labels_Dense)                                         #จะแปลงชื่อ class เป็นตัวเลข 1, 2, 0 \n",
        "\n",
        "labels_Dense = to_categorical(labels_Dense, num_classes=3)                   #shape (180, 3) มีค่าเป็น  [0., 1., 0.]  กับ   [0., 0., 1.] กับ  [1., 0., 0.]"
      ],
      "metadata": {
        "id": "iT5tOzICwFpj"
      },
      "execution_count": null,
      "outputs": []
    },
    {
      "cell_type": "code",
      "source": [
        "INIT_LR = 1e-1\n",
        "BS32 = 32\n",
        "\n",
        "\n",
        "aug61 = ImageDataGenerator(\n",
        "\t\trotation_range=15,\t\t\t\t\t\t#องศาการหมุน\n",
        "\t\twidth_shift_range=0.1,\n",
        "\t\theight_shift_range=0.1,\n",
        "\t\tshear_range=0.15,\n",
        "\t\thorizontal_flip=True,\n",
        "\t\tfill_mode=\"nearest\")\n",
        "\n",
        "callback = tf.keras.callbacks.EarlyStopping(\n",
        "                monitor=\"val_accuracy\",\n",
        "                patience=3,\n",
        "                mode=\"max\" )"
      ],
      "metadata": {
        "id": "FEH2CSgBwFpj"
      },
      "execution_count": null,
      "outputs": []
    },
    {
      "cell_type": "code",
      "source": [
        "base_model_Dense = tf.keras.applications.DenseNet201(input_shape=(224, 224, 3), include_top=False, weights=\"imagenet\")\n",
        "len(base_model_Dense.layers)"
      ],
      "metadata": {
        "colab": {
          "base_uri": "https://localhost:8080/"
        },
        "outputId": "63bd05ec-88c5-4f49-d459-3917e9b3ffaa",
        "id": "AD3zsiNOwFpj"
      },
      "execution_count": null,
      "outputs": [
        {
          "output_type": "execute_result",
          "data": {
            "text/plain": [
              "707"
            ]
          },
          "metadata": {},
          "execution_count": 23
        }
      ]
    },
    {
      "cell_type": "code",
      "source": [
        "base_model_Dense.trainable = True\n",
        "for layer in base_model_Dense.layers[:500]:    #fix w & bias in layer 0-500\n",
        "    layer.trainable = False\n",
        "\n",
        "#Add custom head\n",
        "average_pooling_layer = tf.keras.layers.GlobalAveragePooling2D()(base_model_Dense.output)\n",
        "prediction_layer = tf.keras.layers.Dense(units=3, activation=\"sigmoid\")(average_pooling_layer)   # unit 3\n",
        "model_Dense61 = tf.keras.models.Model(inputs=base_model_Dense.input, outputs=prediction_layer)\n",
        "\n",
        "model_Dense61.compile(optimizer=tf.keras.optimizers.RMSprop(learning_rate=0.0001), loss=\"binary_crossentropy\", metrics=[\"accuracy\"])"
      ],
      "metadata": {
        "id": "d0hZWpyxwFpk"
      },
      "execution_count": null,
      "outputs": []
    },
    {
      "cell_type": "code",
      "source": [
        "kf_Dense61 = KFold(5, shuffle=True, random_state=40) \n",
        "\n",
        "oos_y61 = []\n",
        "oos_pred61 = []\n",
        "fold = 0\n",
        "\n",
        "for train, test in kf_Dense61.split(data_Dense):\n",
        "    fold+=1\n",
        "    print(f\"Fold #{fold}\")\n",
        "        \n",
        "    x_train_Dense61 = data_Dense[train]\n",
        "    y_train_Dense61 = labels_Dense[train]\n",
        "    x_test_Dense61 = data_Dense[test]\n",
        "    y_test_Dense61 = labels_Dense[test]\n",
        "\n",
        "    H_Dense61 = model_Dense61.fit( x=aug61.flow(x_train_Dense61, y_train_Dense61, batch_size=BS32),\n",
        "\t                                            validation_data=(x_test_Dense61, y_test_Dense61),\n",
        "\t                                            steps_per_epoch=len(x_train_Dense61) // BS32,\n",
        "\t                                            epochs=30,  callbacks = [callback])\n",
        "    \n",
        "    pred_Dense61 = model_Dense61.predict(x_test_Dense61)\n",
        "    \n",
        "    oos_y61.append(y_test_Dense61)\n",
        "    oos_pred61.append(pred_Dense61)  \n",
        "    print(classification_report(y_test_Dense61.argmax(axis=1),\t                #แสดง report ค่า acc, recall, ...\n",
        "                                        pred_Dense61.argmax(axis=1),  \n",
        "                                        target_names=le_Dense.classes_))\n",
        "\n",
        "#   score = metrics.accuracy_score(y_test3_Incep.argmax(axis=1),\t        #ค่า acc\n",
        "#                                               pred3_Incep.argmax(axis=1)\n",
        "#    print(f\"Fold score (accuracy): {score}\")\n",
        "\n",
        "#    print(confusion_matrix(testY3_Incep.argmax(axis=1),\t                       #แสดง confusion_matrix\n",
        "#                        pred3_Incep.argmax(axis=1) ) )"
      ],
      "metadata": {
        "colab": {
          "base_uri": "https://localhost:8080/"
        },
        "outputId": "97bfd652-eae9-4f06-f314-b89815614d49",
        "id": "9sdQLziFwFpk"
      },
      "execution_count": null,
      "outputs": [
        {
          "output_type": "stream",
          "name": "stdout",
          "text": [
            "Fold #1\n",
            "Epoch 1/30\n",
            "11/11 [==============================] - 157s 13s/step - loss: 0.5284 - accuracy: 0.6707 - val_loss: 0.5973 - val_accuracy: 0.5934\n",
            "Epoch 2/30\n",
            "11/11 [==============================] - 123s 11s/step - loss: 0.3653 - accuracy: 0.7988 - val_loss: 0.5900 - val_accuracy: 0.5934\n",
            "Epoch 3/30\n",
            "11/11 [==============================] - 124s 11s/step - loss: 0.2948 - accuracy: 0.8659 - val_loss: 0.5982 - val_accuracy: 0.5714\n",
            "Epoch 4/30\n",
            "11/11 [==============================] - 123s 11s/step - loss: 0.2640 - accuracy: 0.8567 - val_loss: 0.5836 - val_accuracy: 0.5824\n",
            "              precision    recall  f1-score   support\n",
            "\n",
            "  Lungcancer       0.50      0.04      0.07        28\n",
            "      Normal       0.60      1.00      0.75        33\n",
            "Tuberculosis       0.56      0.63      0.59        30\n",
            "\n",
            "    accuracy                           0.58        91\n",
            "   macro avg       0.55      0.56      0.47        91\n",
            "weighted avg       0.56      0.58      0.49        91\n",
            "\n",
            "Fold #2\n",
            "Epoch 1/30\n",
            "11/11 [==============================] - 123s 11s/step - loss: 0.2529 - accuracy: 0.8602 - val_loss: 0.4146 - val_accuracy: 0.7556\n",
            "Epoch 2/30\n",
            "11/11 [==============================] - 122s 11s/step - loss: 0.2371 - accuracy: 0.8754 - val_loss: 0.3664 - val_accuracy: 0.7889\n",
            "Epoch 3/30\n",
            "11/11 [==============================] - 127s 12s/step - loss: 0.1958 - accuracy: 0.9088 - val_loss: 0.2773 - val_accuracy: 0.8444\n",
            "Epoch 4/30\n",
            "11/11 [==============================] - 122s 11s/step - loss: 0.1646 - accuracy: 0.9362 - val_loss: 0.3135 - val_accuracy: 0.8222\n",
            "Epoch 5/30\n",
            "11/11 [==============================] - 122s 11s/step - loss: 0.1633 - accuracy: 0.9058 - val_loss: 0.2773 - val_accuracy: 0.8444\n",
            "Epoch 6/30\n",
            "11/11 [==============================] - 123s 11s/step - loss: 0.1428 - accuracy: 0.9362 - val_loss: 0.3418 - val_accuracy: 0.8111\n",
            "              precision    recall  f1-score   support\n",
            "\n",
            "  Lungcancer       1.00      0.58      0.73        33\n",
            "      Normal       0.78      0.96      0.86        26\n",
            "Tuberculosis       0.74      0.94      0.83        31\n",
            "\n",
            "    accuracy                           0.81        90\n",
            "   macro avg       0.84      0.82      0.81        90\n",
            "weighted avg       0.85      0.81      0.80        90\n",
            "\n",
            "Fold #3\n",
            "Epoch 1/30\n",
            "11/11 [==============================] - 123s 11s/step - loss: 0.1168 - accuracy: 0.9666 - val_loss: 0.2377 - val_accuracy: 0.8556\n",
            "Epoch 2/30\n",
            "11/11 [==============================] - 121s 11s/step - loss: 0.1314 - accuracy: 0.9331 - val_loss: 0.2171 - val_accuracy: 0.8667\n",
            "Epoch 3/30\n",
            "11/11 [==============================] - 128s 12s/step - loss: 0.1124 - accuracy: 0.9545 - val_loss: 0.1514 - val_accuracy: 0.9111\n",
            "Epoch 4/30\n",
            "11/11 [==============================] - 122s 11s/step - loss: 0.0869 - accuracy: 0.9726 - val_loss: 0.1547 - val_accuracy: 0.9222\n",
            "Epoch 5/30\n",
            "11/11 [==============================] - 122s 11s/step - loss: 0.0735 - accuracy: 0.9757 - val_loss: 0.1133 - val_accuracy: 0.9222\n",
            "Epoch 6/30\n",
            "11/11 [==============================] - 121s 11s/step - loss: 0.0642 - accuracy: 0.9787 - val_loss: 0.0753 - val_accuracy: 0.9778\n",
            "Epoch 7/30\n",
            "11/11 [==============================] - 122s 12s/step - loss: 0.0632 - accuracy: 0.9848 - val_loss: 0.0860 - val_accuracy: 0.9667\n",
            "Epoch 8/30\n",
            "11/11 [==============================] - 127s 12s/step - loss: 0.0604 - accuracy: 0.9716 - val_loss: 0.0885 - val_accuracy: 0.9444\n",
            "Epoch 9/30\n",
            "11/11 [==============================] - 121s 11s/step - loss: 0.0504 - accuracy: 0.9818 - val_loss: 0.1449 - val_accuracy: 0.9222\n",
            "              precision    recall  f1-score   support\n",
            "\n",
            "  Lungcancer       0.96      0.83      0.89        29\n",
            "      Normal       1.00      0.97      0.98        33\n",
            "Tuberculosis       0.82      0.96      0.89        28\n",
            "\n",
            "    accuracy                           0.92        90\n",
            "   macro avg       0.93      0.92      0.92        90\n",
            "weighted avg       0.93      0.92      0.92        90\n",
            "\n",
            "Fold #4\n",
            "Epoch 1/30\n",
            "11/11 [==============================] - 122s 11s/step - loss: 0.0849 - accuracy: 0.9635 - val_loss: 0.0382 - val_accuracy: 0.9889\n",
            "Epoch 2/30\n",
            "11/11 [==============================] - 120s 11s/step - loss: 0.0568 - accuracy: 0.9787 - val_loss: 0.0615 - val_accuracy: 0.9444\n",
            "Epoch 3/30\n",
            "11/11 [==============================] - 122s 11s/step - loss: 0.0464 - accuracy: 0.9909 - val_loss: 0.1124 - val_accuracy: 0.9444\n",
            "Epoch 4/30\n",
            "11/11 [==============================] - 119s 11s/step - loss: 0.0375 - accuracy: 0.9878 - val_loss: 0.1250 - val_accuracy: 0.9111\n",
            "              precision    recall  f1-score   support\n",
            "\n",
            "  Lungcancer       1.00      0.73      0.85        30\n",
            "      Normal       0.97      1.00      0.98        31\n",
            "Tuberculosis       0.81      1.00      0.89        29\n",
            "\n",
            "    accuracy                           0.91        90\n",
            "   macro avg       0.92      0.91      0.91        90\n",
            "weighted avg       0.93      0.91      0.91        90\n",
            "\n",
            "Fold #5\n",
            "Epoch 1/30\n",
            "11/11 [==============================] - 119s 11s/step - loss: 0.0462 - accuracy: 0.9787 - val_loss: 0.0198 - val_accuracy: 1.0000\n",
            "Epoch 2/30\n",
            "11/11 [==============================] - 123s 12s/step - loss: 0.0330 - accuracy: 0.9878 - val_loss: 0.0236 - val_accuracy: 0.9889\n",
            "Epoch 3/30\n",
            "11/11 [==============================] - 124s 11s/step - loss: 0.0398 - accuracy: 0.9848 - val_loss: 0.0787 - val_accuracy: 0.9333\n",
            "Epoch 4/30\n",
            "11/11 [==============================] - 125s 12s/step - loss: 0.0283 - accuracy: 0.9939 - val_loss: 0.0828 - val_accuracy: 0.9444\n",
            "              precision    recall  f1-score   support\n",
            "\n",
            "  Lungcancer       1.00      0.87      0.93        30\n",
            "      Normal       1.00      0.96      0.98        28\n",
            "Tuberculosis       0.86      1.00      0.93        32\n",
            "\n",
            "    accuracy                           0.94        90\n",
            "   macro avg       0.95      0.94      0.95        90\n",
            "weighted avg       0.95      0.94      0.94        90\n",
            "\n"
          ]
        }
      ]
    },
    {
      "cell_type": "code",
      "source": [
        "oos_y61 = np.concatenate(oos_y61)\n",
        "oos_pred61 = np.concatenate(oos_pred61)"
      ],
      "metadata": {
        "id": "MFEmwMjQwFpk"
      },
      "execution_count": null,
      "outputs": []
    },
    {
      "cell_type": "code",
      "source": [
        "score61 = metrics.accuracy_score(oos_y61.argmax(axis=1),\t        #ค่า acc\n",
        "                                             oos_pred61.argmax(axis=1) )\n",
        "print(f\"Fold score (accuracy): {score61}\")\n",
        "\n",
        "print(classification_report(oos_y61.argmax(axis=1),\t                #แสดง report ค่า acc, recall, ...\n",
        "                                        oos_pred61.argmax(axis=1),  \n",
        "                                        target_names=le_Dense.classes_))"
      ],
      "metadata": {
        "colab": {
          "base_uri": "https://localhost:8080/"
        },
        "outputId": "07e49d4d-99c0-4355-95c3-02336b265760",
        "id": "D6QbDDquwFpm"
      },
      "execution_count": null,
      "outputs": [
        {
          "output_type": "stream",
          "name": "stdout",
          "text": [
            "Fold score (accuracy): 0.8337028824833703\n",
            "              precision    recall  f1-score   support\n",
            "\n",
            "  Lungcancer       0.98      0.61      0.75       150\n",
            "      Normal       0.83      0.98      0.90       151\n",
            "Tuberculosis       0.76      0.91      0.83       150\n",
            "\n",
            "    accuracy                           0.83       451\n",
            "   macro avg       0.86      0.83      0.83       451\n",
            "weighted avg       0.86      0.83      0.83       451\n",
            "\n"
          ]
        }
      ]
    },
    {
      "cell_type": "markdown",
      "source": [
        "## 7) K-fold  -- DenseNet201\n",
        "\n",
        "### -->ACC = 0.80\n",
        "### -->เวลา 6780 วินาที\n",
        "\n",
        "*   BS = 1\n",
        "*   fix weight & bias in layer 0-500\n",
        "*   activation=\"softmax\"\n",
        "*   learning_rate=0.0001\n",
        "*   epoch 30"
      ],
      "metadata": {
        "id": "6FyF0wRJwFpm"
      }
    },
    {
      "cell_type": "code",
      "source": [
        "train_img_Dense = []\n",
        "for ImageName in tqdm(data_train3['ImageName']):               # รัน ชื่อรูป ในไฟล์ data_test3\n",
        "    image_path = All_3class_dir +'/' + ImageName                   # ดึงรูปในโฟล์เดอร์มาทีละรูป\n",
        "    img = cv2.imread(image_path)                                            # อ่านรูป\n",
        "    img = cv2.resize(img, (224, 224))                                       #ขนาดของ input\n",
        "    train_img_Dense.append(img)\n",
        "\n",
        "data_Dense = np.array(train_img_Dense, dtype=\"float32\") / 255.0"
      ],
      "metadata": {
        "outputId": "e4f413c8-7b87-4188-d550-8273ce0ed2f5",
        "colab": {
          "base_uri": "https://localhost:8080/"
        },
        "id": "IE2Jy45-wFpm"
      },
      "execution_count": null,
      "outputs": [
        {
          "output_type": "stream",
          "name": "stderr",
          "text": [
            "100%|██████████| 451/451 [02:25<00:00,  3.10it/s]\n"
          ]
        }
      ]
    },
    {
      "cell_type": "code",
      "source": [
        "labels_Dense = np.array(data_train3[['NameType']] )        \n",
        "labels_Dense.shape = (len(labels_Dense),) \n",
        "\n",
        "le_Dense = LabelEncoder()                                                                     \n",
        "labels_Dense = le_Dense.fit_transform(labels_Dense)                                         #จะแปลงชื่อ class เป็นตัวเลข 1, 2, 0 \n",
        "\n",
        "labels_Dense = to_categorical(labels_Dense, num_classes=3)                   #shape (180, 3) มีค่าเป็น  [0., 1., 0.]  กับ   [0., 0., 1.] กับ  [1., 0., 0.]"
      ],
      "metadata": {
        "id": "ukqxg1pawFpn"
      },
      "execution_count": null,
      "outputs": []
    },
    {
      "cell_type": "code",
      "source": [
        "INIT_LR = 1e-1\n",
        "BS = 1\n",
        "EPOCHS = 50\n",
        "\n",
        "aug7 = ImageDataGenerator(\n",
        "\t\trotation_range=15,\t\t\t\t\t\t#องศาการหมุน\n",
        "\t\twidth_shift_range=0.1,\n",
        "\t\theight_shift_range=0.1,\n",
        "\t\tshear_range=0.15,\n",
        "\t\thorizontal_flip=True,\n",
        "\t\tfill_mode=\"nearest\")\n",
        "\n",
        "callback = tf.keras.callbacks.EarlyStopping(\n",
        "                monitor=\"val_accuracy\",\n",
        "                patience=3,\n",
        "                mode=\"max\" )"
      ],
      "metadata": {
        "id": "MP1RUGh_wFpn"
      },
      "execution_count": null,
      "outputs": []
    },
    {
      "cell_type": "code",
      "source": [
        "base_model_Dense = tf.keras.applications.DenseNet201(input_shape=(224, 224, 3), include_top=False, weights=\"imagenet\")\n",
        "len(base_model_Dense.layers)"
      ],
      "metadata": {
        "colab": {
          "base_uri": "https://localhost:8080/"
        },
        "outputId": "4dd2d62e-4d70-45af-8c36-5db4594ff938",
        "id": "RxajDgkmwFpn"
      },
      "execution_count": null,
      "outputs": [
        {
          "output_type": "stream",
          "name": "stdout",
          "text": [
            "Downloading data from https://storage.googleapis.com/tensorflow/keras-applications/densenet/densenet201_weights_tf_dim_ordering_tf_kernels_notop.h5\n",
            "74842112/74836368 [==============================] - 1s 0us/step\n",
            "74850304/74836368 [==============================] - 1s 0us/step\n"
          ]
        },
        {
          "output_type": "execute_result",
          "data": {
            "text/plain": [
              "707"
            ]
          },
          "metadata": {},
          "execution_count": 15
        }
      ]
    },
    {
      "cell_type": "code",
      "source": [
        "base_model_Dense.trainable = True\n",
        "for layer in base_model_Dense.layers[:500]:    #fix w & bias in layer 0-500\n",
        "    layer.trainable = False\n",
        "\n",
        "#Add custom head\n",
        "average_pooling_layer = tf.keras.layers.GlobalAveragePooling2D()(base_model_Dense.output)\n",
        "prediction_layer = tf.keras.layers.Dense(units=3, activation=\"softmax\")(average_pooling_layer)   # unit 3\n",
        "model_Dense7 = tf.keras.models.Model(inputs=base_model_Dense.input, outputs=prediction_layer)\n",
        "\n",
        "model_Dense7.compile(optimizer=tf.keras.optimizers.RMSprop(learning_rate=0.0001), loss=\"binary_crossentropy\", metrics=[\"accuracy\"])"
      ],
      "metadata": {
        "id": "nztnvKVhwFpn"
      },
      "execution_count": null,
      "outputs": []
    },
    {
      "cell_type": "code",
      "source": [
        "kf_Dense7 = KFold(5, shuffle=True, random_state=40) \n",
        "\n",
        "oos_y7 = []\n",
        "oos_pred7 = []\n",
        "fold = 0\n",
        "\n",
        "for train, test in kf_Dense7.split(data_Dense):\n",
        "    fold+=1\n",
        "    print(f\"Fold #{fold}\")\n",
        "        \n",
        "    x_train_Dense7 = data_Dense[train]\n",
        "    y_train_Dense7 = labels_Dense[train]\n",
        "    x_test_Dense7 = data_Dense[test]\n",
        "    y_test_Dense7 = labels_Dense[test]\n",
        "\n",
        "    H_Dense7 = model_Dense7.fit( x=aug7.flow(x_train_Dense7, y_train_Dense7, batch_size=BS),\n",
        "\t                                            validation_data=(x_test_Dense7, y_test_Dense7),\n",
        "\t                                            steps_per_epoch=len(x_train_Dense7) // BS,\n",
        "\t                                            epochs=30,  callbacks = [callback])\n",
        "    \n",
        "    pred_Dense7 = model_Dense7.predict(x_test_Dense7)\n",
        "    \n",
        "    oos_y7.append(y_test_Dense7)\n",
        "    oos_pred7.append(pred_Dense7)  \n",
        "    print(classification_report(y_test_Dense7.argmax(axis=1),\t                #แสดง report ค่า acc, recall, ...\n",
        "                                        pred_Dense7.argmax(axis=1),  \n",
        "                                        target_names=le_Dense.classes_))\n",
        "\n",
        "#   score = metrics.accuracy_score(y_test3_Incep.argmax(axis=1),\t        #ค่า acc\n",
        "#                                               pred3_Incep.argmax(axis=1)\n",
        "#    print(f\"Fold score (accuracy): {score}\")\n",
        "\n",
        "#    print(confusion_matrix(testY3_Incep.argmax(axis=1),\t                       #แสดง confusion_matrix\n",
        "#                        pred3_Incep.argmax(axis=1) ) )"
      ],
      "metadata": {
        "colab": {
          "base_uri": "https://localhost:8080/"
        },
        "outputId": "d32a67d1-8343-4315-e773-21b2fa12ab47",
        "id": "E8uM2ThEwFpo"
      },
      "execution_count": null,
      "outputs": [
        {
          "output_type": "stream",
          "name": "stdout",
          "text": [
            "Fold #1\n",
            "Epoch 1/30\n",
            "360/360 [==============================] - 189s 467ms/step - loss: 0.6206 - accuracy: 0.4361 - val_loss: 0.5362 - val_accuracy: 0.6593\n",
            "Epoch 2/30\n",
            "360/360 [==============================] - 213s 592ms/step - loss: 0.5373 - accuracy: 0.6139 - val_loss: 0.4485 - val_accuracy: 0.6264\n",
            "Epoch 3/30\n",
            "360/360 [==============================] - 210s 585ms/step - loss: 0.4510 - accuracy: 0.6944 - val_loss: 0.3502 - val_accuracy: 0.7473\n",
            "Epoch 4/30\n",
            "360/360 [==============================] - 216s 599ms/step - loss: 0.3795 - accuracy: 0.7417 - val_loss: 0.3338 - val_accuracy: 0.7582\n",
            "Epoch 5/30\n",
            "360/360 [==============================] - 220s 612ms/step - loss: 0.3188 - accuracy: 0.8083 - val_loss: 0.3708 - val_accuracy: 0.7143\n",
            "Epoch 6/30\n",
            "360/360 [==============================] - 220s 612ms/step - loss: 0.2769 - accuracy: 0.8444 - val_loss: 0.4142 - val_accuracy: 0.7143\n",
            "Epoch 7/30\n",
            "360/360 [==============================] - 220s 610ms/step - loss: 0.2481 - accuracy: 0.8417 - val_loss: 0.3847 - val_accuracy: 0.7363\n",
            "              precision    recall  f1-score   support\n",
            "\n",
            "  Lungcancer       0.64      0.75      0.69        28\n",
            "      Normal       0.91      0.91      0.91        33\n",
            "Tuberculosis       0.64      0.53      0.58        30\n",
            "\n",
            "    accuracy                           0.74        91\n",
            "   macro avg       0.73      0.73      0.73        91\n",
            "weighted avg       0.74      0.74      0.73        91\n",
            "\n",
            "Fold #2\n",
            "Epoch 1/30\n",
            "361/361 [==============================] - 175s 485ms/step - loss: 0.2465 - accuracy: 0.8560 - val_loss: 0.2081 - val_accuracy: 0.8889\n",
            "Epoch 2/30\n",
            "361/361 [==============================] - 215s 595ms/step - loss: 0.2436 - accuracy: 0.8421 - val_loss: 0.3107 - val_accuracy: 0.8000\n",
            "Epoch 3/30\n",
            "361/361 [==============================] - 400s 1s/step - loss: 0.2042 - accuracy: 0.8809 - val_loss: 0.8151 - val_accuracy: 0.6333\n",
            "Epoch 4/30\n",
            "361/361 [==============================] - 410s 1s/step - loss: 0.1773 - accuracy: 0.9030 - val_loss: 0.3161 - val_accuracy: 0.8222\n",
            "              precision    recall  f1-score   support\n",
            "\n",
            "  Lungcancer       0.78      0.88      0.83        33\n",
            "      Normal       1.00      0.77      0.87        26\n",
            "Tuberculosis       0.76      0.81      0.78        31\n",
            "\n",
            "    accuracy                           0.82        90\n",
            "   macro avg       0.85      0.82      0.83        90\n",
            "weighted avg       0.84      0.82      0.82        90\n",
            "\n",
            "Fold #3\n",
            "Epoch 1/30\n",
            "361/361 [==============================] - 201s 557ms/step - loss: 0.1711 - accuracy: 0.9058 - val_loss: 0.4402 - val_accuracy: 0.7778\n",
            "Epoch 2/30\n",
            "361/361 [==============================] - 398s 1s/step - loss: 0.1227 - accuracy: 0.9446 - val_loss: 0.3043 - val_accuracy: 0.8111\n",
            "Epoch 3/30\n",
            "361/361 [==============================] - 383s 1s/step - loss: 0.1089 - accuracy: 0.9501 - val_loss: 0.5681 - val_accuracy: 0.7889\n",
            "Epoch 4/30\n",
            "361/361 [==============================] - 378s 1s/step - loss: 0.0799 - accuracy: 0.9584 - val_loss: 0.3221 - val_accuracy: 0.8000\n",
            "Epoch 5/30\n",
            "361/361 [==============================] - 382s 1s/step - loss: 0.0862 - accuracy: 0.9612 - val_loss: 0.6978 - val_accuracy: 0.7556\n",
            "              precision    recall  f1-score   support\n",
            "\n",
            "  Lungcancer       1.00      0.55      0.71        29\n",
            "      Normal       1.00      0.73      0.84        33\n",
            "Tuberculosis       0.56      1.00      0.72        28\n",
            "\n",
            "    accuracy                           0.76        90\n",
            "   macro avg       0.85      0.76      0.76        90\n",
            "weighted avg       0.86      0.76      0.76        90\n",
            "\n",
            "Fold #4\n",
            "Epoch 1/30\n",
            "361/361 [==============================] - 166s 461ms/step - loss: 0.1277 - accuracy: 0.9363 - val_loss: 0.0738 - val_accuracy: 0.9778\n",
            "Epoch 2/30\n",
            "361/361 [==============================] - 176s 489ms/step - loss: 0.0998 - accuracy: 0.9584 - val_loss: 0.0863 - val_accuracy: 0.9778\n",
            "Epoch 3/30\n",
            "361/361 [==============================] - 171s 473ms/step - loss: 0.1156 - accuracy: 0.9391 - val_loss: 0.1236 - val_accuracy: 0.9333\n",
            "Epoch 4/30\n",
            "361/361 [==============================] - 169s 469ms/step - loss: 0.0828 - accuracy: 0.9584 - val_loss: 0.2244 - val_accuracy: 0.8556\n",
            "              precision    recall  f1-score   support\n",
            "\n",
            "  Lungcancer       0.81      0.87      0.84        30\n",
            "      Normal       1.00      0.84      0.91        31\n",
            "Tuberculosis       0.78      0.86      0.82        29\n",
            "\n",
            "    accuracy                           0.86        90\n",
            "   macro avg       0.86      0.86      0.86        90\n",
            "weighted avg       0.87      0.86      0.86        90\n",
            "\n",
            "Fold #5\n",
            "Epoch 1/30\n",
            "361/361 [==============================] - 169s 467ms/step - loss: 0.0737 - accuracy: 0.9612 - val_loss: 0.6101 - val_accuracy: 0.8222\n",
            "Epoch 2/30\n",
            "361/361 [==============================] - 169s 469ms/step - loss: 0.0832 - accuracy: 0.9584 - val_loss: 0.3061 - val_accuracy: 0.8444\n",
            "Epoch 3/30\n",
            "361/361 [==============================] - 180s 497ms/step - loss: 0.0760 - accuracy: 0.9612 - val_loss: 0.1245 - val_accuracy: 0.9333\n",
            "Epoch 4/30\n",
            "361/361 [==============================] - 179s 496ms/step - loss: 0.0428 - accuracy: 0.9806 - val_loss: 0.4016 - val_accuracy: 0.8667\n",
            "Epoch 5/30\n",
            "361/361 [==============================] - 184s 510ms/step - loss: 0.0611 - accuracy: 0.9695 - val_loss: 0.3542 - val_accuracy: 0.8778\n",
            "Epoch 6/30\n",
            "361/361 [==============================] - 180s 499ms/step - loss: 0.0521 - accuracy: 0.9806 - val_loss: 0.2982 - val_accuracy: 0.8556\n",
            "              precision    recall  f1-score   support\n",
            "\n",
            "  Lungcancer       0.81      0.97      0.88        30\n",
            "      Normal       1.00      0.75      0.86        28\n",
            "Tuberculosis       0.82      0.84      0.83        32\n",
            "\n",
            "    accuracy                           0.86        90\n",
            "   macro avg       0.87      0.85      0.86        90\n",
            "weighted avg       0.87      0.86      0.85        90\n",
            "\n"
          ]
        }
      ]
    },
    {
      "cell_type": "code",
      "source": [
        "oos_y7 = np.concatenate(oos_y7)\n",
        "oos_pred7 = np.concatenate(oos_pred7)"
      ],
      "metadata": {
        "id": "wkaDz46BwFpo"
      },
      "execution_count": null,
      "outputs": []
    },
    {
      "cell_type": "code",
      "source": [
        "score7 = metrics.accuracy_score(oos_y7.argmax(axis=1),\t        #ค่า acc\n",
        "                                             oos_pred7.argmax(axis=1) )\n",
        "print(f\"Fold score (accuracy): {score7}\")\n",
        "\n",
        "print(classification_report(oos_y7.argmax(axis=1),\t                #แสดง report ค่า acc, recall, ...\n",
        "                                        oos_pred7.argmax(axis=1),  \n",
        "                                        target_names=le_Dense.classes_))"
      ],
      "metadata": {
        "colab": {
          "base_uri": "https://localhost:8080/"
        },
        "outputId": "09605719-8e0a-460f-cf3b-2edc5054240f",
        "id": "VxThQFGHwFpo"
      },
      "execution_count": null,
      "outputs": [
        {
          "output_type": "stream",
          "name": "stdout",
          "text": [
            "Fold score (accuracy): 0.8048780487804879\n",
            "              precision    recall  f1-score   support\n",
            "\n",
            "  Lungcancer       0.79      0.81      0.80       150\n",
            "      Normal       0.98      0.80      0.88       151\n",
            "Tuberculosis       0.70      0.81      0.75       150\n",
            "\n",
            "    accuracy                           0.80       451\n",
            "   macro avg       0.82      0.80      0.81       451\n",
            "weighted avg       0.82      0.80      0.81       451\n",
            "\n"
          ]
        }
      ]
    },
    {
      "cell_type": "markdown",
      "source": [
        "## 7.1) K-fold  -- DenseNet201\n",
        "\n",
        "### -->ACC = 0.79\n",
        "### -->เวลา 9506.36 วินาที\n",
        "\n",
        "*   BS = 1\n",
        "*   fix weight & bias in layer 0-500\n",
        "*   activation=\"sigmoid\"\n",
        "*   learning_rate=0.0001\n",
        "*   epoch 30"
      ],
      "metadata": {
        "id": "y9UpDmdPwFpo"
      }
    },
    {
      "cell_type": "code",
      "source": [
        "train_img_Dense = []\n",
        "for ImageName in tqdm(data_train3['ImageName']):               # รัน ชื่อรูป ในไฟล์ data_test3\n",
        "    image_path = All_3class_dir +'/' + ImageName                   # ดึงรูปในโฟล์เดอร์มาทีละรูป\n",
        "    img = cv2.imread(image_path)                                            # อ่านรูป\n",
        "    img = cv2.resize(img, (224, 224))                                       #ขนาดของ input\n",
        "    train_img_Dense.append(img)\n",
        "\n",
        "data_Dense = np.array(train_img_Dense, dtype=\"float32\") / 255.0"
      ],
      "metadata": {
        "outputId": "15766fd1-b938-496b-a168-88caa07eb37e",
        "colab": {
          "base_uri": "https://localhost:8080/"
        },
        "id": "tZBY-druwFpp"
      },
      "execution_count": null,
      "outputs": [
        {
          "output_type": "stream",
          "name": "stderr",
          "text": [
            "100%|██████████| 451/451 [01:44<00:00,  4.30it/s]\n"
          ]
        }
      ]
    },
    {
      "cell_type": "code",
      "source": [
        "labels_Dense = np.array(data_train3[['NameType']] )        \n",
        "labels_Dense.shape = (len(labels_Dense),) \n",
        "\n",
        "le_Dense = LabelEncoder()                                                                     \n",
        "labels_Dense = le_Dense.fit_transform(labels_Dense)                                         #จะแปลงชื่อ class เป็นตัวเลข 1, 2, 0 \n",
        "\n",
        "labels_Dense = to_categorical(labels_Dense, num_classes=3)                   #shape (180, 3) มีค่าเป็น  [0., 1., 0.]  กับ   [0., 0., 1.] กับ  [1., 0., 0.]"
      ],
      "metadata": {
        "id": "EMrQi54xwFpp"
      },
      "execution_count": null,
      "outputs": []
    },
    {
      "cell_type": "code",
      "source": [
        "INIT_LR = 1e-1\n",
        "BS = 1\n",
        "EPOCHS = 50\n",
        "\n",
        "aug71 = ImageDataGenerator(\n",
        "\t\trotation_range=15,\t\t\t\t\t\t#องศาการหมุน\n",
        "\t\twidth_shift_range=0.1,\n",
        "\t\theight_shift_range=0.1,\n",
        "\t\tshear_range=0.15,\n",
        "\t\thorizontal_flip=True,\n",
        "\t\tfill_mode=\"nearest\")\n",
        "\n",
        "callback = tf.keras.callbacks.EarlyStopping(\n",
        "                monitor=\"val_accuracy\",\n",
        "                patience=3,\n",
        "                mode=\"max\" )"
      ],
      "metadata": {
        "id": "wW4WiBVYwFpp"
      },
      "execution_count": null,
      "outputs": []
    },
    {
      "cell_type": "code",
      "source": [
        "base_model_Dense = tf.keras.applications.DenseNet201(input_shape=(224, 224, 3), include_top=False, weights=\"imagenet\")\n",
        "len(base_model_Dense.layers)"
      ],
      "metadata": {
        "colab": {
          "base_uri": "https://localhost:8080/"
        },
        "outputId": "aa35a124-fade-4be5-9a46-eae6c1c098f4",
        "id": "w07P1ahAwFpp"
      },
      "execution_count": null,
      "outputs": [
        {
          "output_type": "stream",
          "name": "stdout",
          "text": [
            "Downloading data from https://storage.googleapis.com/tensorflow/keras-applications/densenet/densenet201_weights_tf_dim_ordering_tf_kernels_notop.h5\n",
            "74842112/74836368 [==============================] - 0s 0us/step\n",
            "74850304/74836368 [==============================] - 0s 0us/step\n"
          ]
        },
        {
          "output_type": "execute_result",
          "data": {
            "text/plain": [
              "707"
            ]
          },
          "metadata": {},
          "execution_count": 15
        }
      ]
    },
    {
      "cell_type": "code",
      "source": [
        "base_model_Dense.trainable = True\n",
        "for layer in base_model_Dense.layers[:500]:    #fix w & bias in layer 0-500\n",
        "    layer.trainable = False\n",
        "\n",
        "#Add custom head\n",
        "average_pooling_layer = tf.keras.layers.GlobalAveragePooling2D()(base_model_Dense.output)\n",
        "prediction_layer = tf.keras.layers.Dense(units=3, activation=\"sigmoid\")(average_pooling_layer)   # unit 3\n",
        "model_Dense71 = tf.keras.models.Model(inputs=base_model_Dense.input, outputs=prediction_layer)\n",
        "\n",
        "model_Dense71.compile(optimizer=tf.keras.optimizers.RMSprop(learning_rate=0.0001), loss=\"binary_crossentropy\", metrics=[\"accuracy\"])"
      ],
      "metadata": {
        "id": "B5k5RBPWwFpq"
      },
      "execution_count": null,
      "outputs": []
    },
    {
      "cell_type": "code",
      "source": [
        "kf_Dense71 = KFold(5, shuffle=True, random_state=40) \n",
        "\n",
        "oos_y71 = []\n",
        "oos_pred71 = []\n",
        "fold = 0\n",
        "\n",
        "for train, test in kf_Dense71.split(data_Dense):\n",
        "    fold+=1\n",
        "    print(f\"Fold #{fold}\")\n",
        "        \n",
        "    x_train_Dense71 = data_Dense[train]\n",
        "    y_train_Dense71 = labels_Dense[train]\n",
        "    x_test_Dense71 = data_Dense[test]\n",
        "    y_test_Dense71 = labels_Dense[test]\n",
        "\n",
        "    H_Dense71 = model_Dense71.fit( x=aug71.flow(x_train_Dense71, y_train_Dense71, batch_size=BS),\n",
        "\t                                            validation_data=(x_test_Dense71, y_test_Dense71),\n",
        "\t                                            steps_per_epoch=len(x_train_Dense71) // BS,\n",
        "\t                                            epochs=30,  callbacks = [callback])\n",
        "    \n",
        "    pred_Dense71 = model_Dense71.predict(x_test_Dense71)\n",
        "    \n",
        "    oos_y71.append(y_test_Dense71)\n",
        "    oos_pred71.append(pred_Dense71)  \n",
        "    print(classification_report(y_test_Dense71.argmax(axis=1),\t                #แสดง report ค่า acc, recall, ...\n",
        "                                        pred_Dense71.argmax(axis=1),  \n",
        "                                        target_names=le_Dense.classes_))\n",
        "\n",
        "#   score = metrics.accuracy_score(y_test3_Incep.argmax(axis=1),\t        #ค่า acc\n",
        "#                                               pred3_Incep.argmax(axis=1)\n",
        "#    print(f\"Fold score (accuracy): {score}\")\n",
        "\n",
        "#    print(confusion_matrix(testY3_Incep.argmax(axis=1),\t                       #แสดง confusion_matrix\n",
        "#                        pred3_Incep.argmax(axis=1) ) )"
      ],
      "metadata": {
        "colab": {
          "base_uri": "https://localhost:8080/"
        },
        "outputId": "7f97bf22-88de-4a0a-f780-fe24708c5e8b",
        "id": "-YJfPAoawFpq"
      },
      "execution_count": null,
      "outputs": [
        {
          "output_type": "stream",
          "name": "stdout",
          "text": [
            "Fold #1\n",
            "Epoch 1/30\n",
            "360/360 [==============================] - 191s 474ms/step - loss: 0.6221 - accuracy: 0.4750 - val_loss: 0.5166 - val_accuracy: 0.6923\n",
            "Epoch 2/30\n",
            "360/360 [==============================] - 322s 894ms/step - loss: 0.5358 - accuracy: 0.6278 - val_loss: 0.4582 - val_accuracy: 0.6813\n",
            "Epoch 3/30\n",
            "360/360 [==============================] - 331s 919ms/step - loss: 0.4576 - accuracy: 0.6417 - val_loss: 0.3911 - val_accuracy: 0.7582\n",
            "Epoch 4/30\n",
            "360/360 [==============================] - 331s 920ms/step - loss: 0.3793 - accuracy: 0.7778 - val_loss: 0.3635 - val_accuracy: 0.7692\n",
            "Epoch 5/30\n",
            "360/360 [==============================] - 343s 953ms/step - loss: 0.3443 - accuracy: 0.7750 - val_loss: 0.4369 - val_accuracy: 0.7253\n",
            "Epoch 6/30\n",
            "360/360 [==============================] - 354s 984ms/step - loss: 0.3001 - accuracy: 0.8250 - val_loss: 0.4009 - val_accuracy: 0.7363\n",
            "Epoch 7/30\n",
            "360/360 [==============================] - 334s 928ms/step - loss: 0.2655 - accuracy: 0.8306 - val_loss: 0.6255 - val_accuracy: 0.5714\n",
            "              precision    recall  f1-score   support\n",
            "\n",
            "  Lungcancer       0.65      0.79      0.71        28\n",
            "      Normal       1.00      0.33      0.50        33\n",
            "Tuberculosis       0.41      0.63      0.50        30\n",
            "\n",
            "    accuracy                           0.57        91\n",
            "   macro avg       0.69      0.58      0.57        91\n",
            "weighted avg       0.70      0.57      0.56        91\n",
            "\n",
            "Fold #2\n",
            "Epoch 1/30\n",
            "361/361 [==============================] - 177s 491ms/step - loss: 0.2600 - accuracy: 0.8310 - val_loss: 0.3778 - val_accuracy: 0.7111\n",
            "Epoch 2/30\n",
            "361/361 [==============================] - 278s 771ms/step - loss: 0.2313 - accuracy: 0.8643 - val_loss: 0.4735 - val_accuracy: 0.6889\n",
            "Epoch 3/30\n",
            "361/361 [==============================] - 306s 848ms/step - loss: 0.2167 - accuracy: 0.8587 - val_loss: 0.3001 - val_accuracy: 0.8333\n",
            "Epoch 4/30\n",
            "361/361 [==============================] - 308s 852ms/step - loss: 0.1808 - accuracy: 0.9030 - val_loss: 0.2423 - val_accuracy: 0.8556\n",
            "Epoch 5/30\n",
            "361/361 [==============================] - 302s 836ms/step - loss: 0.1434 - accuracy: 0.9252 - val_loss: 0.2315 - val_accuracy: 0.8556\n",
            "Epoch 6/30\n",
            "361/361 [==============================] - 314s 869ms/step - loss: 0.1399 - accuracy: 0.9307 - val_loss: 0.2670 - val_accuracy: 0.8444\n",
            "Epoch 7/30\n",
            "361/361 [==============================] - 308s 853ms/step - loss: 0.1248 - accuracy: 0.9474 - val_loss: 0.4113 - val_accuracy: 0.8111\n",
            "              precision    recall  f1-score   support\n",
            "\n",
            "  Lungcancer       0.88      0.85      0.86        33\n",
            "      Normal       1.00      0.65      0.79        26\n",
            "Tuberculosis       0.68      0.90      0.78        31\n",
            "\n",
            "    accuracy                           0.81        90\n",
            "   macro avg       0.85      0.80      0.81        90\n",
            "weighted avg       0.84      0.81      0.81        90\n",
            "\n",
            "Fold #3\n",
            "Epoch 1/30\n",
            "361/361 [==============================] - 193s 533ms/step - loss: 0.1458 - accuracy: 0.9197 - val_loss: 0.2329 - val_accuracy: 0.8778\n",
            "Epoch 2/30\n",
            "361/361 [==============================] - 404s 1s/step - loss: 0.1013 - accuracy: 0.9474 - val_loss: 0.2968 - val_accuracy: 0.8667\n",
            "Epoch 3/30\n",
            "361/361 [==============================] - 402s 1s/step - loss: 0.0702 - accuracy: 0.9557 - val_loss: 0.2795 - val_accuracy: 0.8444\n",
            "Epoch 4/30\n",
            "361/361 [==============================] - 365s 1s/step - loss: 0.0790 - accuracy: 0.9584 - val_loss: 0.4018 - val_accuracy: 0.7667\n",
            "              precision    recall  f1-score   support\n",
            "\n",
            "  Lungcancer       0.95      0.62      0.75        29\n",
            "      Normal       1.00      0.73      0.84        33\n",
            "Tuberculosis       0.57      0.96      0.72        28\n",
            "\n",
            "    accuracy                           0.77        90\n",
            "   macro avg       0.84      0.77      0.77        90\n",
            "weighted avg       0.85      0.77      0.77        90\n",
            "\n",
            "Fold #4\n",
            "Epoch 1/30\n",
            "361/361 [==============================] - 226s 627ms/step - loss: 0.1362 - accuracy: 0.9252 - val_loss: 0.2764 - val_accuracy: 0.8333\n",
            "Epoch 2/30\n",
            "361/361 [==============================] - 356s 987ms/step - loss: 0.0978 - accuracy: 0.9529 - val_loss: 0.1909 - val_accuracy: 0.8889\n",
            "Epoch 3/30\n",
            "361/361 [==============================] - 380s 1s/step - loss: 0.0516 - accuracy: 0.9695 - val_loss: 0.2422 - val_accuracy: 0.8889\n",
            "Epoch 4/30\n",
            "361/361 [==============================] - 399s 1s/step - loss: 0.0699 - accuracy: 0.9668 - val_loss: 0.4301 - val_accuracy: 0.8556\n",
            "Epoch 5/30\n",
            "361/361 [==============================] - 349s 966ms/step - loss: 0.0787 - accuracy: 0.9584 - val_loss: 0.2461 - val_accuracy: 0.8667\n",
            "              precision    recall  f1-score   support\n",
            "\n",
            "  Lungcancer       1.00      0.87      0.93        30\n",
            "      Normal       1.00      0.74      0.85        31\n",
            "Tuberculosis       0.71      1.00      0.83        29\n",
            "\n",
            "    accuracy                           0.87        90\n",
            "   macro avg       0.90      0.87      0.87        90\n",
            "weighted avg       0.91      0.87      0.87        90\n",
            "\n",
            "Fold #5\n",
            "Epoch 1/30\n",
            "361/361 [==============================] - 204s 566ms/step - loss: 0.0508 - accuracy: 0.9723 - val_loss: 0.6795 - val_accuracy: 0.8222\n",
            "Epoch 2/30\n",
            "361/361 [==============================] - 340s 941ms/step - loss: 0.0619 - accuracy: 0.9695 - val_loss: 0.0913 - val_accuracy: 0.9667\n",
            "Epoch 3/30\n",
            "361/361 [==============================] - 353s 979ms/step - loss: 0.0293 - accuracy: 0.9806 - val_loss: 0.1074 - val_accuracy: 0.9333\n",
            "Epoch 4/30\n",
            "361/361 [==============================] - 356s 986ms/step - loss: 0.0387 - accuracy: 0.9834 - val_loss: 0.1670 - val_accuracy: 0.9000\n",
            "Epoch 5/30\n",
            "361/361 [==============================] - 343s 950ms/step - loss: 0.0456 - accuracy: 0.9806 - val_loss: 0.1649 - val_accuracy: 0.9444\n",
            "              precision    recall  f1-score   support\n",
            "\n",
            "  Lungcancer       1.00      0.97      0.98        30\n",
            "      Normal       1.00      0.86      0.92        28\n",
            "Tuberculosis       0.86      1.00      0.93        32\n",
            "\n",
            "    accuracy                           0.94        90\n",
            "   macro avg       0.95      0.94      0.94        90\n",
            "weighted avg       0.95      0.94      0.94        90\n",
            "\n"
          ]
        }
      ]
    },
    {
      "cell_type": "code",
      "source": [
        "oos_y71 = np.concatenate(oos_y71)\n",
        "oos_pred71 = np.concatenate(oos_pred71)"
      ],
      "metadata": {
        "id": "mCjy6edcwFpq"
      },
      "execution_count": null,
      "outputs": []
    },
    {
      "cell_type": "code",
      "source": [
        "score71 = metrics.accuracy_score(oos_y71.argmax(axis=1),\t        #ค่า acc\n",
        "                                             oos_pred71.argmax(axis=1) )\n",
        "print(f\"Fold score (accuracy): {score71}\")\n",
        "\n",
        "print(classification_report(oos_y71.argmax(axis=1),\t                #แสดง report ค่า acc, recall, ...\n",
        "                                        oos_pred71.argmax(axis=1),  \n",
        "                                        target_names=le_Dense.classes_))"
      ],
      "metadata": {
        "colab": {
          "base_uri": "https://localhost:8080/"
        },
        "outputId": "956f2970-f9fb-4d15-c765-cbd3b9877acc",
        "id": "O4yUydBKwFpq"
      },
      "execution_count": null,
      "outputs": [
        {
          "output_type": "stream",
          "name": "stdout",
          "text": [
            "Fold score (accuracy): 0.7915742793791575\n",
            "              precision    recall  f1-score   support\n",
            "\n",
            "  Lungcancer       0.88      0.82      0.85       150\n",
            "      Normal       1.00      0.66      0.79       151\n",
            "Tuberculosis       0.64      0.90      0.75       150\n",
            "\n",
            "    accuracy                           0.79       451\n",
            "   macro avg       0.84      0.79      0.80       451\n",
            "weighted avg       0.84      0.79      0.80       451\n",
            "\n"
          ]
        }
      ]
    }
  ]
}