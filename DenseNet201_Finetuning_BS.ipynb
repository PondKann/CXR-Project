{
  "nbformat": 4,
  "nbformat_minor": 0,
  "metadata": {
    "colab": {
      "name": "DenseNet201_Finetuning_BS.ipynb",
      "provenance": [],
      "authorship_tag": "ABX9TyNeIwQ6j7OZVqvxuTpb+Caq",
      "include_colab_link": true
    },
    "kernelspec": {
      "name": "python3",
      "display_name": "Python 3"
    },
    "language_info": {
      "name": "python"
    }
  },
  "cells": [
    {
      "cell_type": "markdown",
      "metadata": {
        "id": "view-in-github",
        "colab_type": "text"
      },
      "source": [
        "<a href=\"https://colab.research.google.com/github/PondKann/CXR-Project/blob/main/DenseNet201_Finetuning_BS.ipynb\" target=\"_parent\"><img src=\"https://colab.research.google.com/assets/colab-badge.svg\" alt=\"Open In Colab\"/></a>"
      ]
    },
    {
      "cell_type": "markdown",
      "source": [
        "###### import"
      ],
      "metadata": {
        "id": "Kpnf_sft9x4-"
      }
    },
    {
      "cell_type": "code",
      "metadata": {
        "id": "Psng6eJUdzUG"
      },
      "source": [
        "import os\n",
        "import tensorflow as tf\n",
        "import matplotlib.pyplot as plt\n",
        "%matplotlib inline\n",
        "from tensorflow.keras.preprocessing.image import ImageDataGenerator\n",
        "import cv2\n",
        "import numpy as np\n",
        "import pandas as pd\n",
        "from torchsummary import summary\n",
        "from skimage.io import imread, imsave\n",
        "from tqdm import tqdm\n",
        "\n",
        "from sklearn.model_selection import train_test_split\n",
        "from sklearn.metrics import accuracy_score, confusion_matrix"
      ],
      "execution_count": 1,
      "outputs": []
    },
    {
      "cell_type": "code",
      "source": [
        "# set the matplotlib backend so figures can be saved in the background\n",
        "import matplotlib\n",
        "matplotlib.use(\"Agg\")\n",
        "\n",
        "from sklearn.preprocessing import LabelEncoder\n",
        "from sklearn.metrics import classification_report\n",
        "from tensorflow.keras.optimizers import SGD\n",
        "from tensorflow.keras.utils import to_categorical\n",
        "from imutils import paths\n",
        "import argparse\n",
        "\n",
        "from sklearn.model_selection import KFold\n",
        "from sklearn import metrics\n",
        "from scipy.stats import zscore"
      ],
      "metadata": {
        "id": "6f-PDKiLl2iC"
      },
      "execution_count": 2,
      "outputs": []
    },
    {
      "cell_type": "code",
      "source": [
        "import pickle\n",
        "import joblib"
      ],
      "metadata": {
        "id": "KywT8U_h4Bmb"
      },
      "execution_count": 3,
      "outputs": []
    },
    {
      "cell_type": "markdown",
      "source": [
        "######Load data 1"
      ],
      "metadata": {
        "id": "Z1e52UqdwPp8"
      }
    },
    {
      "cell_type": "code",
      "metadata": {
        "colab": {
          "base_uri": "https://localhost:8080/"
        },
        "id": "DlcukkP7fnhB",
        "outputId": "a5664bae-20a9-458e-d182-f9faefb43ea9"
      },
      "source": [
        "from google.colab import drive\n",
        "drive.mount('/content/drive')"
      ],
      "execution_count": 4,
      "outputs": [
        {
          "output_type": "stream",
          "name": "stdout",
          "text": [
            "Mounted at /content/drive\n"
          ]
        }
      ]
    },
    {
      "cell_type": "code",
      "metadata": {
        "id": "0w8suy5ofqx_"
      },
      "source": [
        "data_dir = '/content/drive/My Drive/Senior Project/CXR Image3class'"
      ],
      "execution_count": 5,
      "outputs": []
    },
    {
      "cell_type": "markdown",
      "source": [
        "train 3 class"
      ],
      "metadata": {
        "id": "xhqPQxA42jeC"
      }
    },
    {
      "cell_type": "code",
      "source": [
        "Normal151_dir = os.path.join(data_dir,'Normal151')\n",
        "TB150_dir = os.path.join(data_dir,'TB150')\n",
        "CA150_dir = os.path.join(data_dir,'CA150')\n",
        "\n",
        "All_3class_dir = os.path.join(data_dir,'All_3class')"
      ],
      "metadata": {
        "id": "-Jrg5mt_RvJT"
      },
      "execution_count": 6,
      "outputs": []
    },
    {
      "cell_type": "code",
      "source": [
        ""
      ],
      "metadata": {
        "id": "oYMXSvICALfG"
      },
      "execution_count": 6,
      "outputs": []
    },
    {
      "cell_type": "markdown",
      "source": [
        "######Load data 2"
      ],
      "metadata": {
        "id": "udl0zY8hAONG"
      }
    },
    {
      "cell_type": "code",
      "metadata": {
        "colab": {
          "base_uri": "https://localhost:8080/"
        },
        "outputId": "a2686ec4-3875-410f-9fba-db9009f3f119",
        "id": "CZD0IvKyAONH"
      },
      "source": [
        "from google.colab import drive\n",
        "drive.mount('/content/drive')"
      ],
      "execution_count": null,
      "outputs": [
        {
          "output_type": "stream",
          "name": "stdout",
          "text": [
            "Mounted at /content/drive\n"
          ]
        }
      ]
    },
    {
      "cell_type": "code",
      "metadata": {
        "id": "VTByVBBEAONI"
      },
      "source": [
        "data_dir = '/content/drive/My Drive/Senior Project/CXR Image3class'"
      ],
      "execution_count": null,
      "outputs": []
    },
    {
      "cell_type": "markdown",
      "source": [
        "train 3 class"
      ],
      "metadata": {
        "id": "ySK4zn_OAONI"
      }
    },
    {
      "cell_type": "code",
      "source": [
        "Normal151_dir = os.path.join(data_dir,'Normal151')\n",
        "TB150_dir = os.path.join(data_dir,'TB150')\n",
        "CA150_dir = os.path.join(data_dir,'CA150')\n",
        "\n",
        "All_3class_dir = os.path.join(data_dir,'All_3class')"
      ],
      "metadata": {
        "id": "yWVr9yKtAONI"
      },
      "execution_count": null,
      "outputs": []
    },
    {
      "cell_type": "markdown",
      "source": [
        "#### train 3 class  --- สร้างตารางเก็บ ชื่อภาพ และชื่อคลาส\n",
        "ข้อมูลใน All_3class_dir รวมภาพทั้ง 3 คลาส รวม 451 ภาพ TB150, Normal151 และ CA150 (CA คือ lungcancer)"
      ],
      "metadata": {
        "id": "YFVxlpQZf5pU"
      }
    },
    {
      "cell_type": "code",
      "source": [
        "Normal151_dir = os.path.join(data_dir,'Normal151')\n",
        "TB150_dir = os.path.join(data_dir,'TB150')\n",
        "CA150_dir = os.path.join(data_dir,'CA150')\n",
        "\n",
        "All_3class_dir = os.path.join(data_dir,'All_3class')"
      ],
      "metadata": {
        "id": "8BHyN8YKpwx9"
      },
      "execution_count": 7,
      "outputs": []
    },
    {
      "cell_type": "code",
      "source": [
        "normal = []\n",
        "for i in range(len(os.listdir(Normal151_dir))):\n",
        "    img = os.listdir(Normal151_dir)[i]\n",
        "    normal.append(img)\n",
        "    \n",
        "tnormal = pd.DataFrame({'ImageName':[normal][0],\n",
        "                                       'NameType': \"Normal\" ,\n",
        "                                       'NumberType': 0                      })"
      ],
      "metadata": {
        "id": "mT0QF8IgrfVm"
      },
      "execution_count": 8,
      "outputs": []
    },
    {
      "cell_type": "code",
      "source": [
        "tuberculosis = []\n",
        "for i in range(len(os.listdir(TB150_dir))):\n",
        "    img = os.listdir(TB150_dir)[i]\n",
        "    tuberculosis.append(img)\n",
        "\n",
        "ttuberculosis = pd.DataFrame({'ImageName':[tuberculosis][0],\n",
        "                                       'NameType': \"Tuberculosis\" ,\n",
        "                                       'NumberType': 1                        })"
      ],
      "metadata": {
        "id": "VtNPg0jwf5pW"
      },
      "execution_count": 9,
      "outputs": []
    },
    {
      "cell_type": "code",
      "source": [
        "lungcancer = []\n",
        "for i in range(len(os.listdir(CA150_dir))):\n",
        "    img = os.listdir(CA150_dir)[i]\n",
        "    lungcancer.append(img)\n",
        "\n",
        "tlungcancer = pd.DataFrame({'ImageName':[lungcancer][0],\n",
        "                                       'NameType': \"Lungcancer\" ,\n",
        "                                       'NumberType': 2                        })"
      ],
      "metadata": {
        "id": "X5pyCUl5mJGV"
      },
      "execution_count": 10,
      "outputs": []
    },
    {
      "cell_type": "code",
      "source": [
        "data_train3 = pd.concat([tnormal, ttuberculosis, tlungcancer])\n",
        "data_train3[-3:]"
      ],
      "metadata": {
        "id": "bgArCw5jnwg2",
        "outputId": "c0957a83-9fbb-448c-eabe-400c54b4d624",
        "colab": {
          "base_uri": "https://localhost:8080/",
          "height": 0
        }
      },
      "execution_count": 11,
      "outputs": [
        {
          "output_type": "execute_result",
          "data": {
            "text/html": [
              "\n",
              "  <div id=\"df-231c8594-aa1e-4254-8ca1-9a22f043b16d\">\n",
              "    <div class=\"colab-df-container\">\n",
              "      <div>\n",
              "<style scoped>\n",
              "    .dataframe tbody tr th:only-of-type {\n",
              "        vertical-align: middle;\n",
              "    }\n",
              "\n",
              "    .dataframe tbody tr th {\n",
              "        vertical-align: top;\n",
              "    }\n",
              "\n",
              "    .dataframe thead th {\n",
              "        text-align: right;\n",
              "    }\n",
              "</style>\n",
              "<table border=\"1\" class=\"dataframe\">\n",
              "  <thead>\n",
              "    <tr style=\"text-align: right;\">\n",
              "      <th></th>\n",
              "      <th>ImageName</th>\n",
              "      <th>NameType</th>\n",
              "      <th>NumberType</th>\n",
              "    </tr>\n",
              "  </thead>\n",
              "  <tbody>\n",
              "    <tr>\n",
              "      <th>147</th>\n",
              "      <td>ca26.jpg</td>\n",
              "      <td>Lungcancer</td>\n",
              "      <td>2</td>\n",
              "    </tr>\n",
              "    <tr>\n",
              "      <th>148</th>\n",
              "      <td>ca7.jpg</td>\n",
              "      <td>Lungcancer</td>\n",
              "      <td>2</td>\n",
              "    </tr>\n",
              "    <tr>\n",
              "      <th>149</th>\n",
              "      <td>ca8.jpg</td>\n",
              "      <td>Lungcancer</td>\n",
              "      <td>2</td>\n",
              "    </tr>\n",
              "  </tbody>\n",
              "</table>\n",
              "</div>\n",
              "      <button class=\"colab-df-convert\" onclick=\"convertToInteractive('df-231c8594-aa1e-4254-8ca1-9a22f043b16d')\"\n",
              "              title=\"Convert this dataframe to an interactive table.\"\n",
              "              style=\"display:none;\">\n",
              "        \n",
              "  <svg xmlns=\"http://www.w3.org/2000/svg\" height=\"24px\"viewBox=\"0 0 24 24\"\n",
              "       width=\"24px\">\n",
              "    <path d=\"M0 0h24v24H0V0z\" fill=\"none\"/>\n",
              "    <path d=\"M18.56 5.44l.94 2.06.94-2.06 2.06-.94-2.06-.94-.94-2.06-.94 2.06-2.06.94zm-11 1L8.5 8.5l.94-2.06 2.06-.94-2.06-.94L8.5 2.5l-.94 2.06-2.06.94zm10 10l.94 2.06.94-2.06 2.06-.94-2.06-.94-.94-2.06-.94 2.06-2.06.94z\"/><path d=\"M17.41 7.96l-1.37-1.37c-.4-.4-.92-.59-1.43-.59-.52 0-1.04.2-1.43.59L10.3 9.45l-7.72 7.72c-.78.78-.78 2.05 0 2.83L4 21.41c.39.39.9.59 1.41.59.51 0 1.02-.2 1.41-.59l7.78-7.78 2.81-2.81c.8-.78.8-2.07 0-2.86zM5.41 20L4 18.59l7.72-7.72 1.47 1.35L5.41 20z\"/>\n",
              "  </svg>\n",
              "      </button>\n",
              "      \n",
              "  <style>\n",
              "    .colab-df-container {\n",
              "      display:flex;\n",
              "      flex-wrap:wrap;\n",
              "      gap: 12px;\n",
              "    }\n",
              "\n",
              "    .colab-df-convert {\n",
              "      background-color: #E8F0FE;\n",
              "      border: none;\n",
              "      border-radius: 50%;\n",
              "      cursor: pointer;\n",
              "      display: none;\n",
              "      fill: #1967D2;\n",
              "      height: 32px;\n",
              "      padding: 0 0 0 0;\n",
              "      width: 32px;\n",
              "    }\n",
              "\n",
              "    .colab-df-convert:hover {\n",
              "      background-color: #E2EBFA;\n",
              "      box-shadow: 0px 1px 2px rgba(60, 64, 67, 0.3), 0px 1px 3px 1px rgba(60, 64, 67, 0.15);\n",
              "      fill: #174EA6;\n",
              "    }\n",
              "\n",
              "    [theme=dark] .colab-df-convert {\n",
              "      background-color: #3B4455;\n",
              "      fill: #D2E3FC;\n",
              "    }\n",
              "\n",
              "    [theme=dark] .colab-df-convert:hover {\n",
              "      background-color: #434B5C;\n",
              "      box-shadow: 0px 1px 3px 1px rgba(0, 0, 0, 0.15);\n",
              "      filter: drop-shadow(0px 1px 2px rgba(0, 0, 0, 0.3));\n",
              "      fill: #FFFFFF;\n",
              "    }\n",
              "  </style>\n",
              "\n",
              "      <script>\n",
              "        const buttonEl =\n",
              "          document.querySelector('#df-231c8594-aa1e-4254-8ca1-9a22f043b16d button.colab-df-convert');\n",
              "        buttonEl.style.display =\n",
              "          google.colab.kernel.accessAllowed ? 'block' : 'none';\n",
              "\n",
              "        async function convertToInteractive(key) {\n",
              "          const element = document.querySelector('#df-231c8594-aa1e-4254-8ca1-9a22f043b16d');\n",
              "          const dataTable =\n",
              "            await google.colab.kernel.invokeFunction('convertToInteractive',\n",
              "                                                     [key], {});\n",
              "          if (!dataTable) return;\n",
              "\n",
              "          const docLinkHtml = 'Like what you see? Visit the ' +\n",
              "            '<a target=\"_blank\" href=https://colab.research.google.com/notebooks/data_table.ipynb>data table notebook</a>'\n",
              "            + ' to learn more about interactive tables.';\n",
              "          element.innerHTML = '';\n",
              "          dataTable['output_type'] = 'display_data';\n",
              "          await google.colab.output.renderOutput(dataTable, element);\n",
              "          const docLink = document.createElement('div');\n",
              "          docLink.innerHTML = docLinkHtml;\n",
              "          element.appendChild(docLink);\n",
              "        }\n",
              "      </script>\n",
              "    </div>\n",
              "  </div>\n",
              "  "
            ],
            "text/plain": [
              "    ImageName    NameType  NumberType\n",
              "147  ca26.jpg  Lungcancer           2\n",
              "148   ca7.jpg  Lungcancer           2\n",
              "149   ca8.jpg  Lungcancer           2"
            ]
          },
          "metadata": {},
          "execution_count": 11
        }
      ]
    },
    {
      "cell_type": "markdown",
      "source": [
        "####  test 3 class จากเน็ต"
      ],
      "metadata": {
        "id": "3Fi053VB2o6Y"
      }
    },
    {
      "cell_type": "code",
      "source": [
        "TB700_dir = os.path.join(data_dir,'test_model/Tuberculosis700')\n",
        "Normal94_dir = os.path.join(data_dir,'test_model/NORMAL94')\n",
        "CA150_dir = os.path.join(data_dir,'CA150')                  #อันเดิมที่ใช้เทรน\n",
        "\n",
        "AllTest_2class = os.path.join(data_dir,'test_model/AllTest_2class')"
      ],
      "metadata": {
        "id": "DoGUhtkpCph6"
      },
      "execution_count": null,
      "outputs": []
    },
    {
      "cell_type": "code",
      "source": [
        "#สำหรับ test model\n",
        "normal = []\n",
        "for i in range(len(os.listdir(Normal94_dir))):\n",
        "    img = os.listdir(Normal94_dir)[i]\n",
        "    normal.append(img)\n",
        "    \n",
        "tnormal94 = pd.DataFrame({'ImageName':[normal][0],\n",
        "                                       'NameType': \"Normal\" ,\n",
        "                                       'NumberType': 0                      })"
      ],
      "metadata": {
        "id": "nWuAUibuR4VW"
      },
      "execution_count": null,
      "outputs": []
    },
    {
      "cell_type": "code",
      "source": [
        "#สำหรับ test model\n",
        "tb700 = []\n",
        "for i in range(len(os.listdir(TB700_dir))):\n",
        "    img = os.listdir(TB700_dir)[i]\n",
        "    tb700.append(img)\n",
        "\n",
        "ttb700 = pd.DataFrame({'ImageName':[tb700][0],\n",
        "                                       'NameType': \"Tuberculosis\" ,\n",
        "                                       'NumberType': 1                        })"
      ],
      "metadata": {
        "id": "Bu1n-Ib48qFf"
      },
      "execution_count": null,
      "outputs": []
    },
    {
      "cell_type": "code",
      "source": [
        "#สำหรับ test model ข้อม฿ลเดิม\n",
        "lungcancer = []\n",
        "for i in range(len(os.listdir(CA150_dir))):\n",
        "    img = os.listdir(CA150_dir)[i]\n",
        "    lungcancer.append(img)\n",
        "\n",
        "tlungcancer = pd.DataFrame({'ImageName':[lungcancer][0],\n",
        "                                       'NameType': \"Lungcancer\" ,\n",
        "                                       'NumberType': 2                        })"
      ],
      "metadata": {
        "id": "clUmEvEx2IKk"
      },
      "execution_count": null,
      "outputs": []
    },
    {
      "cell_type": "code",
      "source": [
        "data_test2 = pd.concat([tnormal94[:30], ttb700[:30], tlungcancer[:10]])"
      ],
      "metadata": {
        "id": "kePRXLwU195n"
      },
      "execution_count": null,
      "outputs": []
    },
    {
      "cell_type": "code",
      "source": [
        "test_NorTB = []\n",
        "for ImageName in tqdm(data_test2['ImageName']):               # รัน ชื่อรูป ในไฟล์ data_test2\n",
        "    image_path = AllTest_2class +'/' + ImageName                          # ดึงรูปในโฟล์เดอร์มาทีละรูป\n",
        "    img = cv2.imread(image_path)                                            # อ่านรูป\n",
        "    img = cv2.resize(img, (299, 299))\n",
        "    test_NorTB.append(img)"
      ],
      "metadata": {
        "colab": {
          "base_uri": "https://localhost:8080/"
        },
        "id": "DRlBEE0T14sz",
        "outputId": "d96bdb9f-750b-498a-d55d-986c58ff491d"
      },
      "execution_count": null,
      "outputs": [
        {
          "output_type": "stream",
          "name": "stderr",
          "text": [
            "100%|██████████| 70/70 [00:19<00:00,  3.60it/s]\n"
          ]
        }
      ]
    },
    {
      "cell_type": "code",
      "source": [
        "data_test = np.array(test_NorTB, dtype=\"float32\") / 255.0\n",
        "\n",
        "labels_test = np.array(data_test2[['NameType']] )        \n",
        "labels_test.shape = (len(labels_test),) \n",
        "\n",
        "le3_Incep = LabelEncoder()                                                                     \n",
        "labels_test = le3_Incep.fit_transform(labels_test)                                         #จะแปลงชื่อ class เป็นตัวเลข 1, 2, 0 \n",
        "\n",
        "labels_test = to_categorical(labels_test, num_classes=3)                   #shape (180, 3) มีค่าเป็น  [0., 1., 0.]  กับ   [0., 0., 1.] กับ  [1., 0., 0.]"
      ],
      "metadata": {
        "id": "hlnpYC_S72ee"
      },
      "execution_count": null,
      "outputs": []
    },
    {
      "cell_type": "code",
      "source": [
        ""
      ],
      "metadata": {
        "id": "EjDLK8iNqNiK"
      },
      "execution_count": null,
      "outputs": []
    },
    {
      "cell_type": "markdown",
      "source": [
        "## 1) K-fold  -- DenseNet201\n",
        "\n",
        "### -->ACC = \n",
        "### -->เวลา  วินาที\n",
        "\n",
        "*   BS = 8\n",
        "*   fix weight & bias in layer 0-600\n",
        "*   activation=\"softmax\"\n",
        "*   learning_rate=0.0001\n",
        "*   epoch 30"
      ],
      "metadata": {
        "id": "0L32LTa-AmKM"
      }
    },
    {
      "cell_type": "code",
      "source": [
        "train_img_Dense = []\n",
        "for ImageName in tqdm(data_train3['ImageName']):               # รัน ชื่อรูป ในไฟล์ data_test3\n",
        "    image_path = All_3class_dir +'/' + ImageName                   # ดึงรูปในโฟล์เดอร์มาทีละรูป\n",
        "    img = cv2.imread(image_path)                                            # อ่านรูป\n",
        "    img = cv2.resize(img, (224, 224))                                       #ขนาดของ input\n",
        "    train_img_Dense.append(img)\n",
        "\n",
        "data_Dense = np.array(train_img_Dense, dtype=\"float32\") / 255.0"
      ],
      "metadata": {
        "outputId": "fb172fae-6ef3-40bf-fb94-80f5cff3bf6c",
        "colab": {
          "base_uri": "https://localhost:8080/"
        },
        "id": "jhfvC-NqAmKN"
      },
      "execution_count": null,
      "outputs": [
        {
          "output_type": "stream",
          "name": "stderr",
          "text": [
            "100%|██████████| 451/451 [00:06<00:00, 65.03it/s] \n"
          ]
        }
      ]
    },
    {
      "cell_type": "code",
      "source": [
        "labels_Dense = np.array(data_train3[['NameType']] )        \n",
        "labels_Dense.shape = (len(labels_Dense),) \n",
        "\n",
        "le_Dense = LabelEncoder()                                                                     \n",
        "labels_Dense = le_Dense.fit_transform(labels_Dense)                                         #จะแปลงชื่อ class เป็นตัวเลข 1, 2, 0 \n",
        "\n",
        "labels_Dense = to_categorical(labels_Dense, num_classes=3)                   #shape (180, 3) มีค่าเป็น  [0., 1., 0.]  กับ   [0., 0., 1.] กับ  [1., 0., 0.]"
      ],
      "metadata": {
        "id": "MeaRfwG5A06x"
      },
      "execution_count": null,
      "outputs": []
    },
    {
      "cell_type": "code",
      "source": [
        "INIT_LR = 1e-1\n",
        "BS = 8\n",
        "EPOCHS = 50\n",
        "\n",
        "aug = ImageDataGenerator(\n",
        "\t\trotation_range=15,\t\t\t\t\t\t#องศาการหมุน\n",
        "\t\twidth_shift_range=0.1,\n",
        "\t\theight_shift_range=0.1,\n",
        "\t\tshear_range=0.15,\n",
        "\t\thorizontal_flip=True,\n",
        "\t\tfill_mode=\"nearest\")\n",
        "\n",
        "callback = tf.keras.callbacks.EarlyStopping(\n",
        "                monitor=\"val_accuracy\",\n",
        "                patience=3,\n",
        "                mode=\"max\" )"
      ],
      "metadata": {
        "id": "0wB74-IDAmKO"
      },
      "execution_count": null,
      "outputs": []
    },
    {
      "cell_type": "code",
      "source": [
        "base_model_Dense = tf.keras.applications.DenseNet201(input_shape=(224, 224, 3), include_top=False, weights=\"imagenet\")\n",
        "len(base_model_Dense.layers)"
      ],
      "metadata": {
        "colab": {
          "base_uri": "https://localhost:8080/"
        },
        "id": "pAdf1wmB9Vp6",
        "outputId": "2f63b51b-3be3-42d7-c915-29e7b54f548b"
      },
      "execution_count": null,
      "outputs": [
        {
          "output_type": "stream",
          "name": "stdout",
          "text": [
            "Downloading data from https://storage.googleapis.com/tensorflow/keras-applications/densenet/densenet201_weights_tf_dim_ordering_tf_kernels_notop.h5\n",
            "74842112/74836368 [==============================] - 2s 0us/step\n",
            "74850304/74836368 [==============================] - 2s 0us/step\n"
          ]
        },
        {
          "output_type": "execute_result",
          "data": {
            "text/plain": [
              "707"
            ]
          },
          "metadata": {},
          "execution_count": 4
        }
      ]
    },
    {
      "cell_type": "code",
      "source": [
        "base_model_Dense.trainable = True\n",
        "for layer in base_model_Dense.layers[:600]:    #fix w & bias in layer 0-600\n",
        "    layer.trainable = False\n",
        "\n",
        "#Add custom head\n",
        "average_pooling_layer = tf.keras.layers.GlobalAveragePooling2D()(base_model_Dense.output)\n",
        "prediction_layer = tf.keras.layers.Dense(units=3, activation=\"softmax\")(average_pooling_layer)   # unit 3\n",
        "model_Dense = tf.keras.models.Model(inputs=base_model_Dense.input, outputs=prediction_layer)\n",
        "\n",
        "model_Dense.compile(optimizer=tf.keras.optimizers.RMSprop(learning_rate=0.0001), loss=\"binary_crossentropy\", metrics=[\"accuracy\"])"
      ],
      "metadata": {
        "id": "0Iuuw2AdBYIj"
      },
      "execution_count": null,
      "outputs": []
    },
    {
      "cell_type": "code",
      "source": [
        "kf_Dense = KFold(5, shuffle=True, random_state=40) \n",
        "\n",
        "oos_y = []\n",
        "oos_pred = []\n",
        "fold = 0\n",
        "\n",
        "for train, test in kf_Dense.split(data_Dense):\n",
        "    fold+=1\n",
        "    print(f\"Fold #{fold}\")\n",
        "        \n",
        "    x_train_Dense = data_Dense[train]\n",
        "    y_train_Dense = labels_Dense[train]\n",
        "    x_test_Dense = data_Dense[test]\n",
        "    y_test_Dense = labels_Dense[test]\n",
        "\n",
        "    H_Dense = model_Dense.fit( x=aug.flow(x_train_Dense, y_train_Dense, batch_size=BS),\n",
        "\t                                            validation_data=(x_test_Dense, y_test_Dense),\n",
        "\t                                            steps_per_epoch=len(x_train_Dense) // BS,\n",
        "\t                                            epochs=30,  callbacks = [callback])\n",
        "    \n",
        "    pred_Dense = model_Dense.predict(x_test_Dense)\n",
        "    \n",
        "    oos_y.append(y_test_Dense)\n",
        "    oos_pred.append(pred_Dense)  \n",
        "    print(classification_report(y_test_Dense.argmax(axis=1),\t                #แสดง report ค่า acc, recall, ...\n",
        "                                        pred_Dense.argmax(axis=1),  \n",
        "                                        target_names=le_Dense.classes_))\n",
        "\n",
        "#   score = metrics.accuracy_score(y_test3_Incep.argmax(axis=1),\t        #ค่า acc\n",
        "#                                               pred3_Incep.argmax(axis=1)\n",
        "#    print(f\"Fold score (accuracy): {score}\")\n",
        "\n",
        "#    print(confusion_matrix(testY3_Incep.argmax(axis=1),\t                       #แสดง confusion_matrix\n",
        "#                        pred3_Incep.argmax(axis=1) ) )"
      ],
      "metadata": {
        "id": "_3cCPrl0AmKP"
      },
      "execution_count": null,
      "outputs": []
    },
    {
      "cell_type": "code",
      "source": [
        "oos_y = np.concatenate(oos_y)\n",
        "oos_pred = np.concatenate(oos_pred)"
      ],
      "metadata": {
        "id": "sYIcWAzvO8H7"
      },
      "execution_count": null,
      "outputs": []
    },
    {
      "cell_type": "code",
      "source": [
        "score = metrics.accuracy_score(oos_y.argmax(axis=1),\t        #ค่า acc\n",
        "                                             oos_pred.argmax(axis=1) )\n",
        "print(f\"Fold score (accuracy): {score}\")\n",
        "\n",
        "print(classification_report(oos_y.argmax(axis=1),\t                #แสดง report ค่า acc, recall, ...\n",
        "                                        oos_pred.argmax(axis=1),  \n",
        "                                        target_names=le_Dense.classes_))"
      ],
      "metadata": {
        "id": "VwnR1MElO8ID"
      },
      "execution_count": null,
      "outputs": []
    },
    {
      "cell_type": "markdown",
      "source": [
        "## 2) K-fold  -- DenseNet201\n",
        "\n",
        "### -->ACC = \n",
        "### -->เวลา  นาที\n",
        "\n",
        "*   BS = 16\n",
        "*   fix weight & bias in layer 0-600\n",
        "*   activation=\"softmax\"\n",
        "*   learning_rate=0.0001\n",
        "*   epoch 30"
      ],
      "metadata": {
        "id": "qF0ugx9xAK9O"
      }
    },
    {
      "cell_type": "code",
      "source": [
        "train_img_Dense = []\n",
        "for ImageName in tqdm(data_train3['ImageName']):               # รัน ชื่อรูป ในไฟล์ data_test3\n",
        "    image_path = All_3class_dir +'/' + ImageName                   # ดึงรูปในโฟล์เดอร์มาทีละรูป\n",
        "    img = cv2.imread(image_path)                                            # อ่านรูป\n",
        "    img = cv2.resize(img, (224, 224))                                       #ขนาดของ input\n",
        "    train_img_Dense.append(img)\n",
        "\n",
        "data_Dense = np.array(train_img_Dense, dtype=\"float32\") / 255.0"
      ],
      "metadata": {
        "outputId": "5e90f7dd-499b-4918-85cd-0d5573e8c993",
        "colab": {
          "base_uri": "https://localhost:8080/"
        },
        "id": "ZpptkU37AK9P"
      },
      "execution_count": null,
      "outputs": [
        {
          "output_type": "stream",
          "name": "stderr",
          "text": [
            "100%|██████████| 451/451 [00:04<00:00, 92.91it/s] \n"
          ]
        }
      ]
    },
    {
      "cell_type": "code",
      "source": [
        "labels_Dense = np.array(data_train3[['NameType']] )        \n",
        "labels_Dense.shape = (len(labels_Dense),) \n",
        "\n",
        "le_Dense = LabelEncoder()                                                                     \n",
        "labels_Dense = le_Dense.fit_transform(labels_Dense)                                         #จะแปลงชื่อ class เป็นตัวเลข 1, 2, 0 \n",
        "\n",
        "labels_Dense = to_categorical(labels_Dense, num_classes=3)                   #shape (180, 3) มีค่าเป็น  [0., 1., 0.]  กับ   [0., 0., 1.] กับ  [1., 0., 0.]"
      ],
      "metadata": {
        "id": "nLqEKkY1AK9Q"
      },
      "execution_count": null,
      "outputs": []
    },
    {
      "cell_type": "code",
      "source": [
        "INIT_LR = 1e-1\n",
        "BS16 = 16\n",
        "EPOCHS = 50\n",
        "\n",
        "aug2 = ImageDataGenerator(\n",
        "\t\trotation_range=15,\t\t\t\t\t\t#องศาการหมุน\n",
        "\t\twidth_shift_range=0.1,\n",
        "\t\theight_shift_range=0.1,\n",
        "\t\tshear_range=0.15,\n",
        "\t\thorizontal_flip=True,\n",
        "\t\tfill_mode=\"nearest\")\n",
        "\n",
        "callback = tf.keras.callbacks.EarlyStopping(\n",
        "                monitor=\"val_accuracy\",\n",
        "                patience=3,\n",
        "                mode=\"max\" )"
      ],
      "metadata": {
        "id": "hmURgMb5AK9R"
      },
      "execution_count": null,
      "outputs": []
    },
    {
      "cell_type": "code",
      "source": [
        "base_model_Dense = tf.keras.applications.DenseNet201(input_shape=(224, 224, 3), include_top=False, weights=\"imagenet\")\n",
        "len(base_model_Dense.layers)"
      ],
      "metadata": {
        "id": "Iyzn1Ega_j9b"
      },
      "execution_count": null,
      "outputs": []
    },
    {
      "cell_type": "code",
      "source": [
        "base_model_Dense.trainable = True\n",
        "for layer in base_model_Dense.layers[:600]:    #fix w & bias in layer 0-600\n",
        "    layer.trainable = False\n",
        "\n",
        "#Add custom head\n",
        "average_pooling_layer = tf.keras.layers.GlobalAveragePooling2D()(base_model_Dense.output)\n",
        "prediction_layer = tf.keras.layers.Dense(units=3, activation=\"softmax\")(average_pooling_layer)   # unit 3\n",
        "model_Dense2 = tf.keras.models.Model(inputs=base_model_Dense.input, outputs=prediction_layer)\n",
        "\n",
        "model_Dense2.compile(optimizer=tf.keras.optimizers.RMSprop(learning_rate=0.0001), loss=\"binary_crossentropy\", metrics=[\"accuracy\"])"
      ],
      "metadata": {
        "id": "zYyno0jMAK9R"
      },
      "execution_count": null,
      "outputs": []
    },
    {
      "cell_type": "code",
      "source": [
        "kf_Dense2 = KFold(5, shuffle=True, random_state=40) \n",
        "\n",
        "oos_y2 = []\n",
        "oos_pred2 = []\n",
        "fold = 0\n",
        "\n",
        "for train, test in kf_Dense2.split(data_Dense):\n",
        "    fold+=1\n",
        "    print(f\"Fold #{fold}\")\n",
        "        \n",
        "    x_train_Dense2 = data_Dense[train]\n",
        "    y_train_Dense2 = labels_Dense[train]\n",
        "    x_test_Dense2 = data_Dense[test]\n",
        "    y_test_Dense2 = labels_Dense[test]\n",
        "\n",
        "    H_Dense2 = model_Dense2.fit( x=aug2.flow(x_train_Dense2, y_train_Dense2, batch_size=BS16),\n",
        "\t                                            validation_data=(x_test_Dense2, y_test_Dense2),\n",
        "\t                                            steps_per_epoch=len(x_train_Dense2) // BS16,\n",
        "\t                                            epochs=30,  callbacks = [callback])\n",
        "    \n",
        "    pred_Dense2 = model_Dense2.predict(x_test_Dense2)\n",
        "    \n",
        "    oos_y2.append(y_test_Dense2)\n",
        "    oos_pred2.append(pred_Dense2)  \n",
        "    print(classification_report(y_test_Dense2.argmax(axis=1),\t                #แสดง report ค่า acc, recall, ...\n",
        "                                        pred_Dense2.argmax(axis=1),  \n",
        "                                        target_names=le_Dense.classes_))\n",
        "\n",
        "#   score = metrics.accuracy_score(y_test3_Incep.argmax(axis=1),\t        #ค่า acc\n",
        "#                                               pred3_Incep.argmax(axis=1)\n",
        "#    print(f\"Fold score (accuracy): {score}\")\n",
        "\n",
        "#    print(confusion_matrix(testY3_Incep.argmax(axis=1),\t                       #แสดง confusion_matrix\n",
        "#                        pred3_Incep.argmax(axis=1) ) )"
      ],
      "metadata": {
        "id": "bMPj3xMNAK9S"
      },
      "execution_count": null,
      "outputs": []
    },
    {
      "cell_type": "code",
      "source": [
        "oos_y2 = np.concatenate(oos_y2)\n",
        "oos_pred2 = np.concatenate(oos_pred2)"
      ],
      "metadata": {
        "id": "OqOlECxElR2S"
      },
      "execution_count": null,
      "outputs": []
    },
    {
      "cell_type": "code",
      "source": [
        "score = metrics.accuracy_score(oos_y2.argmax(axis=1),\t        #ค่า acc\n",
        "                                             oos_pred2.argmax(axis=1) )\n",
        "print(f\"Fold score (accuracy): {score}\")\n",
        "\n",
        "print(classification_report(oos_y2.argmax(axis=1),\t                #แสดง report ค่า acc, recall, ...\n",
        "                                        oos_pred2.argmax(axis=1),  \n",
        "                                        target_names=le_Dense.classes_))"
      ],
      "metadata": {
        "id": "VPP8SwZvlR2T"
      },
      "execution_count": null,
      "outputs": []
    },
    {
      "cell_type": "markdown",
      "source": [
        "## 3) K-fold  -- DenseNet201\n",
        "\n",
        "### -->ACC = \n",
        "### -->เวลา  วินาที\n",
        "\n",
        "*   BS = 32\n",
        "*   fix weight & bias in layer 0-600\n",
        "*   activation=\"softmax\"\n",
        "*   learning_rate=0.0001\n",
        "*   epoch 30"
      ],
      "metadata": {
        "id": "OjhOFcptA-D_"
      }
    },
    {
      "cell_type": "code",
      "source": [
        "train_img_Dense = []\n",
        "for ImageName in tqdm(data_train3['ImageName']):               # รัน ชื่อรูป ในไฟล์ data_test3\n",
        "    image_path = All_3class_dir +'/' + ImageName                   # ดึงรูปในโฟล์เดอร์มาทีละรูป\n",
        "    img = cv2.imread(image_path)                                            # อ่านรูป\n",
        "    img = cv2.resize(img, (224, 224))                                       #ขนาดของ input\n",
        "    train_img_Dense.append(img)\n",
        "\n",
        "data_Dense = np.array(train_img_Dense, dtype=\"float32\") / 255.0"
      ],
      "metadata": {
        "outputId": "38136d2a-c28d-4c82-b519-c6344ad57f17",
        "colab": {
          "base_uri": "https://localhost:8080/"
        },
        "id": "tqyKOx2_A-EA"
      },
      "execution_count": null,
      "outputs": [
        {
          "output_type": "stream",
          "name": "stderr",
          "text": [
            "100%|██████████| 451/451 [00:05<00:00, 83.88it/s] \n"
          ]
        }
      ]
    },
    {
      "cell_type": "code",
      "source": [
        "labels_Dense = np.array(data_train3[['NameType']] )        \n",
        "labels_Dense.shape = (len(labels_Dense),) \n",
        "\n",
        "le_Dense = LabelEncoder()                                                                     \n",
        "labels_Dense = le_Dense.fit_transform(labels_Dense)                                         #จะแปลงชื่อ class เป็นตัวเลข 1, 2, 0 \n",
        "\n",
        "labels_Dense = to_categorical(labels_Dense, num_classes=3)                   #shape (180, 3) มีค่าเป็น  [0., 1., 0.]  กับ   [0., 0., 1.] กับ  [1., 0., 0.]"
      ],
      "metadata": {
        "id": "98xhFliPA-EB"
      },
      "execution_count": null,
      "outputs": []
    },
    {
      "cell_type": "code",
      "source": [
        "INIT_LR = 1e-1\n",
        "BS32 = 32\n",
        "EPOCHS = 50\n",
        "\n",
        "aug3 = ImageDataGenerator(\n",
        "\t\trotation_range=15,\t\t\t\t\t\t#องศาการหมุน\n",
        "\t\twidth_shift_range=0.1,\n",
        "\t\theight_shift_range=0.1,\n",
        "\t\tshear_range=0.15,\n",
        "\t\thorizontal_flip=True,\n",
        "\t\tfill_mode=\"nearest\")\n",
        "\n",
        "callback = tf.keras.callbacks.EarlyStopping(\n",
        "                monitor=\"val_accuracy\",\n",
        "                patience=3,\n",
        "                mode=\"max\" )"
      ],
      "metadata": {
        "id": "Z9cNLqf9A-EC"
      },
      "execution_count": null,
      "outputs": []
    },
    {
      "cell_type": "code",
      "source": [
        "base_model_Dense = tf.keras.applications.DenseNet201(input_shape=(224, 224, 3), include_top=False, weights=\"imagenet\")\n",
        "len(base_model_Dense.layers)"
      ],
      "metadata": {
        "id": "-h12Cbo9_9v8"
      },
      "execution_count": null,
      "outputs": []
    },
    {
      "cell_type": "code",
      "source": [
        "base_model_Dense.trainable = True\n",
        "for layer in base_model_Dense.layers[:600]:    #fix w & bias in layer 0-600\n",
        "    layer.trainable = False\n",
        "\n",
        "#Add custom head\n",
        "average_pooling_layer = tf.keras.layers.GlobalAveragePooling2D()(base_model_Dense.output)\n",
        "prediction_layer = tf.keras.layers.Dense(units=3, activation=\"softmax\")(average_pooling_layer)   # unit 3\n",
        "model_Dense3 = tf.keras.models.Model(inputs=base_model_Dense.input, outputs=prediction_layer)\n",
        "\n",
        "model_Dense3.compile(optimizer=tf.keras.optimizers.RMSprop(learning_rate=0.0001), loss=\"binary_crossentropy\", metrics=[\"accuracy\"])"
      ],
      "metadata": {
        "id": "AvoDgPqg_3x7"
      },
      "execution_count": null,
      "outputs": []
    },
    {
      "cell_type": "code",
      "source": [
        "kf_Dense3 = KFold(5, shuffle=True, random_state=40) \n",
        "\n",
        "oos_y3 = []\n",
        "oos_pred3 = []\n",
        "fold = 0\n",
        "\n",
        "for train, test in kf_Dense3.split(data_Dense):\n",
        "    fold+=1\n",
        "    print(f\"Fold #{fold}\")\n",
        "        \n",
        "    x_train_Dense3 = data_Dense[train]\n",
        "    y_train_Dense3 = labels_Dense[train]\n",
        "    x_test_Dense3 = data_Dense[test]\n",
        "    y_test_Dense3 = labels_Dense[test]\n",
        "\n",
        "    H_Dense3 = model_Dense3.fit( x=aug3.flow(x_train_Dense3, y_train_Dense3, batch_size=BS32),\n",
        "\t                                            validation_data=(x_test_Dense3, y_test_Dense3),\n",
        "\t                                            steps_per_epoch=len(x_train_Dense3) // BS32,\n",
        "\t                                            epochs=30,  callbacks = [callback])\n",
        "    \n",
        "    pred_Dense3 = model_Dense3.predict(x_test_Dense3)\n",
        "    \n",
        "    oos_y3.append(y_test_Dense3)\n",
        "    oos_pred3.append(pred_Dense3)  \n",
        "    print(classification_report(y_test_Dense3.argmax(axis=1),\t                #แสดง report ค่า acc, recall, ...\n",
        "                                        pred_Dense3.argmax(axis=1),  \n",
        "                                        target_names=le_Dense.classes_))\n",
        "\n",
        "#   score = metrics.accuracy_score(y_test3_Incep.argmax(axis=1),\t        #ค่า acc\n",
        "#                                               pred3_Incep.argmax(axis=1)\n",
        "#    print(f\"Fold score (accuracy): {score}\")\n",
        "\n",
        "#    print(confusion_matrix(testY3_Incep.argmax(axis=1),\t                       #แสดง confusion_matrix\n",
        "#                        pred3_Incep.argmax(axis=1) ) )"
      ],
      "metadata": {
        "id": "BG7Sznv2A-ED"
      },
      "execution_count": null,
      "outputs": []
    },
    {
      "cell_type": "code",
      "source": [
        "oos_y3 = np.concatenate(oos_y3)\n",
        "oos_pred3 = np.concatenate(oos_pred3)"
      ],
      "metadata": {
        "id": "PKFaUJnv0m21"
      },
      "execution_count": null,
      "outputs": []
    },
    {
      "cell_type": "code",
      "source": [
        "score = metrics.accuracy_score(oos_y3.argmax(axis=1),\t        #ค่า acc\n",
        "                                             oos_pred3.argmax(axis=1) )\n",
        "print(f\"Fold score (accuracy): {score}\")\n",
        "\n",
        "print(classification_report(oos_y3.argmax(axis=1),\t                #แสดง report ค่า acc, recall, ...\n",
        "                                        oos_pred3.argmax(axis=1),  \n",
        "                                        target_names=le_Dense.classes_))"
      ],
      "metadata": {
        "id": "fmTaZJRK0m29"
      },
      "execution_count": null,
      "outputs": []
    },
    {
      "cell_type": "markdown",
      "source": [
        "## 4) K-fold  -- DenseNet201\n",
        "\n",
        "### -->ACC = \n",
        "### -->เวลา  วินาที\n",
        "\n",
        "*   BS = 8\n",
        "*   fix weight & bias in layer 0-500\n",
        "*   activation=\"softmax\"\n",
        "*   learning_rate=0.0001\n",
        "*   epoch 30"
      ],
      "metadata": {
        "id": "VCndXX6bAiA-"
      }
    },
    {
      "cell_type": "code",
      "source": [
        "train_img_Dense = []\n",
        "for ImageName in tqdm(data_train3['ImageName']):               # รัน ชื่อรูป ในไฟล์ data_test3\n",
        "    image_path = All_3class_dir +'/' + ImageName                   # ดึงรูปในโฟล์เดอร์มาทีละรูป\n",
        "    img = cv2.imread(image_path)                                            # อ่านรูป\n",
        "    img = cv2.resize(img, (224, 224))                                       #ขนาดของ input\n",
        "    train_img_Dense.append(img)\n",
        "\n",
        "data_Dense = np.array(train_img_Dense, dtype=\"float32\") / 255.0"
      ],
      "metadata": {
        "outputId": "fb172fae-6ef3-40bf-fb94-80f5cff3bf6c",
        "colab": {
          "base_uri": "https://localhost:8080/"
        },
        "id": "NcnyqURFAiBG"
      },
      "execution_count": null,
      "outputs": [
        {
          "output_type": "stream",
          "name": "stderr",
          "text": [
            "100%|██████████| 451/451 [00:06<00:00, 65.03it/s] \n"
          ]
        }
      ]
    },
    {
      "cell_type": "code",
      "source": [
        "labels_Dense = np.array(data_train3[['NameType']] )        \n",
        "labels_Dense.shape = (len(labels_Dense),) \n",
        "\n",
        "le_Dense = LabelEncoder()                                                                     \n",
        "labels_Dense = le_Dense.fit_transform(labels_Dense)                                         #จะแปลงชื่อ class เป็นตัวเลข 1, 2, 0 \n",
        "\n",
        "labels_Dense = to_categorical(labels_Dense, num_classes=3)                   #shape (180, 3) มีค่าเป็น  [0., 1., 0.]  กับ   [0., 0., 1.] กับ  [1., 0., 0.]"
      ],
      "metadata": {
        "id": "mT8YwPe2AiBG"
      },
      "execution_count": null,
      "outputs": []
    },
    {
      "cell_type": "code",
      "source": [
        "INIT_LR = 1e-1\n",
        "BS = 8\n",
        "EPOCHS = 50\n",
        "\n",
        "aug = ImageDataGenerator(\n",
        "\t\trotation_range=15,\t\t\t\t\t\t#องศาการหมุน\n",
        "\t\twidth_shift_range=0.1,\n",
        "\t\theight_shift_range=0.1,\n",
        "\t\tshear_range=0.15,\n",
        "\t\thorizontal_flip=True,\n",
        "\t\tfill_mode=\"nearest\")\n",
        "\n",
        "callback = tf.keras.callbacks.EarlyStopping(\n",
        "                monitor=\"val_accuracy\",\n",
        "                patience=3,\n",
        "                mode=\"max\" )"
      ],
      "metadata": {
        "id": "_Ts8nRGlAiBG"
      },
      "execution_count": null,
      "outputs": []
    },
    {
      "cell_type": "code",
      "source": [
        "base_model_Dense = tf.keras.applications.DenseNet201(input_shape=(224, 224, 3), include_top=False, weights=\"imagenet\")\n",
        "len(base_model_Dense.layers)"
      ],
      "metadata": {
        "colab": {
          "base_uri": "https://localhost:8080/"
        },
        "outputId": "2f63b51b-3be3-42d7-c915-29e7b54f548b",
        "id": "A1_eiTpvAiBH"
      },
      "execution_count": null,
      "outputs": [
        {
          "output_type": "stream",
          "name": "stdout",
          "text": [
            "Downloading data from https://storage.googleapis.com/tensorflow/keras-applications/densenet/densenet201_weights_tf_dim_ordering_tf_kernels_notop.h5\n",
            "74842112/74836368 [==============================] - 2s 0us/step\n",
            "74850304/74836368 [==============================] - 2s 0us/step\n"
          ]
        },
        {
          "output_type": "execute_result",
          "data": {
            "text/plain": [
              "707"
            ]
          },
          "metadata": {},
          "execution_count": 4
        }
      ]
    },
    {
      "cell_type": "code",
      "source": [
        "base_model_Dense.trainable = True\n",
        "for layer in base_model_Dense.layers[:500]:    #fix w & bias in layer 0-500\n",
        "    layer.trainable = False\n",
        "\n",
        "#Add custom head\n",
        "average_pooling_layer = tf.keras.layers.GlobalAveragePooling2D()(base_model_Dense.output)\n",
        "prediction_layer = tf.keras.layers.Dense(units=3, activation=\"softmax\")(average_pooling_layer)   # unit 3\n",
        "model_Dense = tf.keras.models.Model(inputs=base_model_Dense.input, outputs=prediction_layer)\n",
        "\n",
        "model_Dense.compile(optimizer=tf.keras.optimizers.RMSprop(learning_rate=0.0001), loss=\"binary_crossentropy\", metrics=[\"accuracy\"])"
      ],
      "metadata": {
        "id": "gVOHnIhUAiBH"
      },
      "execution_count": null,
      "outputs": []
    },
    {
      "cell_type": "code",
      "source": [
        "kf_Dense = KFold(5, shuffle=True, random_state=40) \n",
        "\n",
        "oos_y = []\n",
        "oos_pred = []\n",
        "fold = 0\n",
        "\n",
        "for train, test in kf_Dense.split(data_Dense):\n",
        "    fold+=1\n",
        "    print(f\"Fold #{fold}\")\n",
        "        \n",
        "    x_train_Dense = data_Dense[train]\n",
        "    y_train_Dense = labels_Dense[train]\n",
        "    x_test_Dense = data_Dense[test]\n",
        "    y_test_Dense = labels_Dense[test]\n",
        "\n",
        "    H_Dense = model_Dense.fit( x=aug.flow(x_train_Dense, y_train_Dense, batch_size=BS),\n",
        "\t                                            validation_data=(x_test_Dense, y_test_Dense),\n",
        "\t                                            steps_per_epoch=len(x_train_Dense) // BS,\n",
        "\t                                            epochs=30,  callbacks = [callback])\n",
        "    \n",
        "    pred_Dense = model_Dense.predict(x_test_Dense)\n",
        "    \n",
        "    oos_y.append(y_test_Dense)\n",
        "    oos_pred.append(pred_Dense)  \n",
        "    print(classification_report(y_test_Dense.argmax(axis=1),\t                #แสดง report ค่า acc, recall, ...\n",
        "                                        pred_Dense.argmax(axis=1),  \n",
        "                                        target_names=le_Dense.classes_))\n",
        "\n",
        "#   score = metrics.accuracy_score(y_test3_Incep.argmax(axis=1),\t        #ค่า acc\n",
        "#                                               pred3_Incep.argmax(axis=1)\n",
        "#    print(f\"Fold score (accuracy): {score}\")\n",
        "\n",
        "#    print(confusion_matrix(testY3_Incep.argmax(axis=1),\t                       #แสดง confusion_matrix\n",
        "#                        pred3_Incep.argmax(axis=1) ) )"
      ],
      "metadata": {
        "id": "xW-aWaFsAiBH"
      },
      "execution_count": null,
      "outputs": []
    },
    {
      "cell_type": "code",
      "source": [
        "oos_y = np.concatenate(oos_y)\n",
        "oos_pred = np.concatenate(oos_pred)"
      ],
      "metadata": {
        "id": "55zrtiJBAiBH"
      },
      "execution_count": null,
      "outputs": []
    },
    {
      "cell_type": "code",
      "source": [
        "score = metrics.accuracy_score(oos_y.argmax(axis=1),\t        #ค่า acc\n",
        "                                             oos_pred.argmax(axis=1) )\n",
        "print(f\"Fold score (accuracy): {score}\")\n",
        "\n",
        "print(classification_report(oos_y.argmax(axis=1),\t                #แสดง report ค่า acc, recall, ...\n",
        "                                        oos_pred.argmax(axis=1),  \n",
        "                                        target_names=le_Dense.classes_))"
      ],
      "metadata": {
        "id": "oQK7QiZNAiBI"
      },
      "execution_count": null,
      "outputs": []
    },
    {
      "cell_type": "markdown",
      "source": [
        "## 5) K-fold  -- DenseNet201\n",
        "\n",
        "### -->ACC = \n",
        "### -->เวลา  นาที\n",
        "\n",
        "*   BS = 16\n",
        "*   fix weight & bias in layer 0-500\n",
        "*   activation=\"softmax\"\n",
        "*   learning_rate=0.0001\n",
        "*   epoch 30"
      ],
      "metadata": {
        "id": "bVbKa1tvAiBI"
      }
    },
    {
      "cell_type": "code",
      "source": [
        "train_img_Dense = []\n",
        "for ImageName in tqdm(data_train3['ImageName']):               # รัน ชื่อรูป ในไฟล์ data_test3\n",
        "    image_path = All_3class_dir +'/' + ImageName                   # ดึงรูปในโฟล์เดอร์มาทีละรูป\n",
        "    img = cv2.imread(image_path)                                            # อ่านรูป\n",
        "    img = cv2.resize(img, (224, 224))                                       #ขนาดของ input\n",
        "    train_img_Dense.append(img)\n",
        "\n",
        "data_Dense = np.array(train_img_Dense, dtype=\"float32\") / 255.0"
      ],
      "metadata": {
        "outputId": "5e90f7dd-499b-4918-85cd-0d5573e8c993",
        "colab": {
          "base_uri": "https://localhost:8080/"
        },
        "id": "HgsRsB2WAiBI"
      },
      "execution_count": null,
      "outputs": [
        {
          "output_type": "stream",
          "name": "stderr",
          "text": [
            "100%|██████████| 451/451 [00:04<00:00, 92.91it/s] \n"
          ]
        }
      ]
    },
    {
      "cell_type": "code",
      "source": [
        "labels_Dense = np.array(data_train3[['NameType']] )        \n",
        "labels_Dense.shape = (len(labels_Dense),) \n",
        "\n",
        "le_Dense = LabelEncoder()                                                                     \n",
        "labels_Dense = le_Dense.fit_transform(labels_Dense)                                         #จะแปลงชื่อ class เป็นตัวเลข 1, 2, 0 \n",
        "\n",
        "labels_Dense = to_categorical(labels_Dense, num_classes=3)                   #shape (180, 3) มีค่าเป็น  [0., 1., 0.]  กับ   [0., 0., 1.] กับ  [1., 0., 0.]"
      ],
      "metadata": {
        "id": "DVtvXHE0AiBI"
      },
      "execution_count": null,
      "outputs": []
    },
    {
      "cell_type": "code",
      "source": [
        "INIT_LR = 1e-1\n",
        "BS16 = 16\n",
        "EPOCHS = 50\n",
        "\n",
        "aug2 = ImageDataGenerator(\n",
        "\t\trotation_range=15,\t\t\t\t\t\t#องศาการหมุน\n",
        "\t\twidth_shift_range=0.1,\n",
        "\t\theight_shift_range=0.1,\n",
        "\t\tshear_range=0.15,\n",
        "\t\thorizontal_flip=True,\n",
        "\t\tfill_mode=\"nearest\")\n",
        "\n",
        "callback = tf.keras.callbacks.EarlyStopping(\n",
        "                monitor=\"val_accuracy\",\n",
        "                patience=3,\n",
        "                mode=\"max\" )"
      ],
      "metadata": {
        "id": "tu6QV-LXAiBJ"
      },
      "execution_count": null,
      "outputs": []
    },
    {
      "cell_type": "code",
      "source": [
        "base_model_Dense = tf.keras.applications.DenseNet201(input_shape=(224, 224, 3), include_top=False, weights=\"imagenet\")\n",
        "len(base_model_Dense.layers)"
      ],
      "metadata": {
        "id": "lvQwkM9XAiBJ"
      },
      "execution_count": null,
      "outputs": []
    },
    {
      "cell_type": "code",
      "source": [
        "base_model_Dense.trainable = True\n",
        "for layer in base_model_Dense.layers[:600]:    #fix w & bias in layer 0-600\n",
        "    layer.trainable = False\n",
        "\n",
        "#Add custom head\n",
        "average_pooling_layer = tf.keras.layers.GlobalAveragePooling2D()(base_model_Dense.output)\n",
        "prediction_layer = tf.keras.layers.Dense(units=3, activation=\"softmax\")(average_pooling_layer)   # unit 3\n",
        "model_Dense2 = tf.keras.models.Model(inputs=base_model_Dense.input, outputs=prediction_layer)\n",
        "\n",
        "model_Dense2.compile(optimizer=tf.keras.optimizers.RMSprop(learning_rate=0.0001), loss=\"binary_crossentropy\", metrics=[\"accuracy\"])"
      ],
      "metadata": {
        "id": "k7qBhwHEAiBK"
      },
      "execution_count": null,
      "outputs": []
    },
    {
      "cell_type": "code",
      "source": [
        "kf_Dense2 = KFold(5, shuffle=True, random_state=40) \n",
        "\n",
        "oos_y2 = []\n",
        "oos_pred2 = []\n",
        "fold = 0\n",
        "\n",
        "for train, test in kf_Dense2.split(data_Dense):\n",
        "    fold+=1\n",
        "    print(f\"Fold #{fold}\")\n",
        "        \n",
        "    x_train_Dense2 = data_Dense[train]\n",
        "    y_train_Dense2 = labels_Dense[train]\n",
        "    x_test_Dense2 = data_Dense[test]\n",
        "    y_test_Dense2 = labels_Dense[test]\n",
        "\n",
        "    H_Dense2 = model_Dense2.fit( x=aug2.flow(x_train_Dense2, y_train_Dense2, batch_size=BS16),\n",
        "\t                                            validation_data=(x_test_Dense2, y_test_Dense2),\n",
        "\t                                            steps_per_epoch=len(x_train_Dense2) // BS16,\n",
        "\t                                            epochs=30,  callbacks = [callback])\n",
        "    \n",
        "    pred_Dense2 = model_Dense2.predict(x_test_Dense2)\n",
        "    \n",
        "    oos_y2.append(y_test_Dense2)\n",
        "    oos_pred2.append(pred_Dense2)  \n",
        "    print(classification_report(y_test_Dense2.argmax(axis=1),\t                #แสดง report ค่า acc, recall, ...\n",
        "                                        pred_Dense2.argmax(axis=1),  \n",
        "                                        target_names=le_Dense.classes_))\n",
        "\n",
        "#   score = metrics.accuracy_score(y_test3_Incep.argmax(axis=1),\t        #ค่า acc\n",
        "#                                               pred3_Incep.argmax(axis=1)\n",
        "#    print(f\"Fold score (accuracy): {score}\")\n",
        "\n",
        "#    print(confusion_matrix(testY3_Incep.argmax(axis=1),\t                       #แสดง confusion_matrix\n",
        "#                        pred3_Incep.argmax(axis=1) ) )"
      ],
      "metadata": {
        "id": "EL_E1RXFAiBK"
      },
      "execution_count": null,
      "outputs": []
    },
    {
      "cell_type": "code",
      "source": [
        "oos_y2 = np.concatenate(oos_y2)\n",
        "oos_pred2 = np.concatenate(oos_pred2)"
      ],
      "metadata": {
        "id": "BjiIcMCLAiBK"
      },
      "execution_count": null,
      "outputs": []
    },
    {
      "cell_type": "code",
      "source": [
        "score = metrics.accuracy_score(oos_y2.argmax(axis=1),\t        #ค่า acc\n",
        "                                             oos_pred2.argmax(axis=1) )\n",
        "print(f\"Fold score (accuracy): {score}\")\n",
        "\n",
        "print(classification_report(oos_y2.argmax(axis=1),\t                #แสดง report ค่า acc, recall, ...\n",
        "                                        oos_pred2.argmax(axis=1),  \n",
        "                                        target_names=le_Dense.classes_))"
      ],
      "metadata": {
        "id": "hWLr0BPiAiBK"
      },
      "execution_count": null,
      "outputs": []
    },
    {
      "cell_type": "markdown",
      "source": [
        "## 6) K-fold  -- DenseNet201\n",
        "\n",
        "### -->ACC = \n",
        "### -->เวลา  วินาที\n",
        "\n",
        "*   BS = 32\n",
        "*   fix weight & bias in layer 0-500\n",
        "*   activation=\"softmax\"\n",
        "*   learning_rate=0.0001\n",
        "*   epoch 30"
      ],
      "metadata": {
        "id": "yRyfeaQvAiBK"
      }
    },
    {
      "cell_type": "code",
      "source": [
        "train_img_Dense = []\n",
        "for ImageName in tqdm(data_train3['ImageName']):               # รัน ชื่อรูป ในไฟล์ data_test3\n",
        "    image_path = All_3class_dir +'/' + ImageName                   # ดึงรูปในโฟล์เดอร์มาทีละรูป\n",
        "    img = cv2.imread(image_path)                                            # อ่านรูป\n",
        "    img = cv2.resize(img, (224, 224))                                       #ขนาดของ input\n",
        "    train_img_Dense.append(img)\n",
        "\n",
        "data_Dense = np.array(train_img_Dense, dtype=\"float32\") / 255.0"
      ],
      "metadata": {
        "outputId": "38136d2a-c28d-4c82-b519-c6344ad57f17",
        "colab": {
          "base_uri": "https://localhost:8080/"
        },
        "id": "Fn8582xYAiBL"
      },
      "execution_count": null,
      "outputs": [
        {
          "output_type": "stream",
          "name": "stderr",
          "text": [
            "100%|██████████| 451/451 [00:05<00:00, 83.88it/s] \n"
          ]
        }
      ]
    },
    {
      "cell_type": "code",
      "source": [
        "labels_Dense = np.array(data_train3[['NameType']] )        \n",
        "labels_Dense.shape = (len(labels_Dense),) \n",
        "\n",
        "le_Dense = LabelEncoder()                                                                     \n",
        "labels_Dense = le_Dense.fit_transform(labels_Dense)                                         #จะแปลงชื่อ class เป็นตัวเลข 1, 2, 0 \n",
        "\n",
        "labels_Dense = to_categorical(labels_Dense, num_classes=3)                   #shape (180, 3) มีค่าเป็น  [0., 1., 0.]  กับ   [0., 0., 1.] กับ  [1., 0., 0.]"
      ],
      "metadata": {
        "id": "3TvbXuhHAiBL"
      },
      "execution_count": null,
      "outputs": []
    },
    {
      "cell_type": "code",
      "source": [
        "INIT_LR = 1e-1\n",
        "BS32 = 32\n",
        "EPOCHS = 50\n",
        "\n",
        "aug3 = ImageDataGenerator(\n",
        "\t\trotation_range=15,\t\t\t\t\t\t#องศาการหมุน\n",
        "\t\twidth_shift_range=0.1,\n",
        "\t\theight_shift_range=0.1,\n",
        "\t\tshear_range=0.15,\n",
        "\t\thorizontal_flip=True,\n",
        "\t\tfill_mode=\"nearest\")\n",
        "\n",
        "callback = tf.keras.callbacks.EarlyStopping(\n",
        "                monitor=\"val_accuracy\",\n",
        "                patience=3,\n",
        "                mode=\"max\" )"
      ],
      "metadata": {
        "id": "Dmiz5c1dAiBL"
      },
      "execution_count": null,
      "outputs": []
    },
    {
      "cell_type": "code",
      "source": [
        "base_model_Dense = tf.keras.applications.DenseNet201(input_shape=(224, 224, 3), include_top=False, weights=\"imagenet\")\n",
        "len(base_model_Dense.layers)"
      ],
      "metadata": {
        "id": "hs8jPwWpAiBL"
      },
      "execution_count": null,
      "outputs": []
    },
    {
      "cell_type": "code",
      "source": [
        "base_model_Dense.trainable = True\n",
        "for layer in base_model_Dense.layers[:500]:    #fix w & bias in layer 0-500\n",
        "    layer.trainable = False\n",
        "\n",
        "#Add custom head\n",
        "average_pooling_layer = tf.keras.layers.GlobalAveragePooling2D()(base_model_Dense.output)\n",
        "prediction_layer = tf.keras.layers.Dense(units=3, activation=\"softmax\")(average_pooling_layer)   # unit 3\n",
        "model_Dense3 = tf.keras.models.Model(inputs=base_model_Dense.input, outputs=prediction_layer)\n",
        "\n",
        "model_Dense3.compile(optimizer=tf.keras.optimizers.RMSprop(learning_rate=0.0001), loss=\"binary_crossentropy\", metrics=[\"accuracy\"])"
      ],
      "metadata": {
        "id": "lXDNo8ILAiBL"
      },
      "execution_count": null,
      "outputs": []
    },
    {
      "cell_type": "code",
      "source": [
        "kf_Dense3 = KFold(5, shuffle=True, random_state=40) \n",
        "\n",
        "oos_y3 = []\n",
        "oos_pred3 = []\n",
        "fold = 0\n",
        "\n",
        "for train, test in kf_Dense3.split(data_Dense):\n",
        "    fold+=1\n",
        "    print(f\"Fold #{fold}\")\n",
        "        \n",
        "    x_train_Dense3 = data_Dense[train]\n",
        "    y_train_Dense3 = labels_Dense[train]\n",
        "    x_test_Dense3 = data_Dense[test]\n",
        "    y_test_Dense3 = labels_Dense[test]\n",
        "\n",
        "    H_Dense3 = model_Dense3.fit( x=aug3.flow(x_train_Dense3, y_train_Dense3, batch_size=BS32),\n",
        "\t                                            validation_data=(x_test_Dense3, y_test_Dense3),\n",
        "\t                                            steps_per_epoch=len(x_train_Dense3) // BS32,\n",
        "\t                                            epochs=30,  callbacks = [callback])\n",
        "    \n",
        "    pred_Dense3 = model_Dense3.predict(x_test_Dense3)\n",
        "    \n",
        "    oos_y3.append(y_test_Dense3)\n",
        "    oos_pred3.append(pred_Dense3)  \n",
        "    print(classification_report(y_test_Dense3.argmax(axis=1),\t                #แสดง report ค่า acc, recall, ...\n",
        "                                        pred_Dense3.argmax(axis=1),  \n",
        "                                        target_names=le_Dense.classes_))\n",
        "\n",
        "#   score = metrics.accuracy_score(y_test3_Incep.argmax(axis=1),\t        #ค่า acc\n",
        "#                                               pred3_Incep.argmax(axis=1)\n",
        "#    print(f\"Fold score (accuracy): {score}\")\n",
        "\n",
        "#    print(confusion_matrix(testY3_Incep.argmax(axis=1),\t                       #แสดง confusion_matrix\n",
        "#                        pred3_Incep.argmax(axis=1) ) )"
      ],
      "metadata": {
        "id": "dD_wJLqYAiBM"
      },
      "execution_count": null,
      "outputs": []
    },
    {
      "cell_type": "code",
      "source": [
        "oos_y3 = np.concatenate(oos_y3)\n",
        "oos_pred3 = np.concatenate(oos_pred3)"
      ],
      "metadata": {
        "id": "hoCNYRnFAiBM"
      },
      "execution_count": null,
      "outputs": []
    },
    {
      "cell_type": "code",
      "source": [
        "score = metrics.accuracy_score(oos_y3.argmax(axis=1),\t        #ค่า acc\n",
        "                                             oos_pred3.argmax(axis=1) )\n",
        "print(f\"Fold score (accuracy): {score}\")\n",
        "\n",
        "print(classification_report(oos_y3.argmax(axis=1),\t                #แสดง report ค่า acc, recall, ...\n",
        "                                        oos_pred3.argmax(axis=1),  \n",
        "                                        target_names=le_Dense.classes_))"
      ],
      "metadata": {
        "id": "vOZ58lolAiBM"
      },
      "execution_count": null,
      "outputs": []
    },
    {
      "cell_type": "markdown",
      "source": [
        "## 1.1) K-fold  -- DenseNet201  \n",
        "\n",
        "### -->ACC = 0.92\n",
        "### -->เวลา 4525.54 วินาที\n",
        "\n",
        "*   BS = 8\n",
        "*   fix weight & bias in layer 0-600\n",
        "*   activation=\"sigmoid\"\n",
        "*   learning_rate=0.0001\n",
        "*   epoch 30"
      ],
      "metadata": {
        "id": "6mGhmpqJRUik"
      }
    },
    {
      "cell_type": "code",
      "source": [
        "train_img_Dense = []\n",
        "for ImageName in tqdm(data_train3['ImageName']):               # รัน ชื่อรูป ในไฟล์ data_test3\n",
        "    image_path = All_3class_dir +'/' + ImageName                   # ดึงรูปในโฟล์เดอร์มาทีละรูป\n",
        "    img = cv2.imread(image_path)                                            # อ่านรูป\n",
        "    img = cv2.resize(img, (224, 224))                                       #ขนาดของ input\n",
        "    train_img_Dense.append(img)\n",
        "\n",
        "data_Dense = np.array(train_img_Dense, dtype=\"float32\") / 255.0"
      ],
      "metadata": {
        "outputId": "becb5757-811c-461b-f7b7-cfb9997b3413",
        "colab": {
          "base_uri": "https://localhost:8080/"
        },
        "id": "BUAhw5bvRUi0"
      },
      "execution_count": 12,
      "outputs": [
        {
          "output_type": "stream",
          "name": "stderr",
          "text": [
            "100%|██████████| 451/451 [02:18<00:00,  3.26it/s]\n"
          ]
        }
      ]
    },
    {
      "cell_type": "code",
      "source": [
        "labels_Dense = np.array(data_train3[['NameType']] )        \n",
        "labels_Dense.shape = (len(labels_Dense),) \n",
        "\n",
        "le_Dense = LabelEncoder()                                                                     \n",
        "labels_Dense = le_Dense.fit_transform(labels_Dense)                                         #จะแปลงชื่อ class เป็นตัวเลข 1, 2, 0 \n",
        "\n",
        "labels_Dense = to_categorical(labels_Dense, num_classes=3)                   #shape (180, 3) มีค่าเป็น  [0., 1., 0.]  กับ   [0., 0., 1.] กับ  [1., 0., 0.]"
      ],
      "metadata": {
        "id": "MrP2hP4KRUi1"
      },
      "execution_count": 13,
      "outputs": []
    },
    {
      "cell_type": "code",
      "source": [
        "INIT_LR = 1e-1\n",
        "BS8 = 8\n",
        "EPOCHS = 50\n",
        "\n",
        "aug11 = ImageDataGenerator(\n",
        "\t\trotation_range=15,\t\t\t\t\t\t#องศาการหมุน\n",
        "\t\twidth_shift_range=0.1,\n",
        "\t\theight_shift_range=0.1,\n",
        "\t\tshear_range=0.15,\n",
        "\t\thorizontal_flip=True,\n",
        "\t\tfill_mode=\"nearest\")\n",
        "\n",
        "callback = tf.keras.callbacks.EarlyStopping(\n",
        "                monitor=\"val_accuracy\",\n",
        "                patience=3,\n",
        "                mode=\"max\" )"
      ],
      "metadata": {
        "id": "Xq5qnN0LRUi2"
      },
      "execution_count": 14,
      "outputs": []
    },
    {
      "cell_type": "code",
      "source": [
        "base_model_Dense = tf.keras.applications.DenseNet201(input_shape=(224, 224, 3), include_top=False, weights=\"imagenet\")\n",
        "len(base_model_Dense.layers)"
      ],
      "metadata": {
        "colab": {
          "base_uri": "https://localhost:8080/"
        },
        "outputId": "7b83bc28-1fbf-4742-e935-22a5984bdc1f",
        "id": "OR75fqtgRUi3"
      },
      "execution_count": 15,
      "outputs": [
        {
          "output_type": "stream",
          "name": "stdout",
          "text": [
            "Downloading data from https://storage.googleapis.com/tensorflow/keras-applications/densenet/densenet201_weights_tf_dim_ordering_tf_kernels_notop.h5\n",
            "74842112/74836368 [==============================] - 0s 0us/step\n",
            "74850304/74836368 [==============================] - 0s 0us/step\n"
          ]
        },
        {
          "output_type": "execute_result",
          "data": {
            "text/plain": [
              "707"
            ]
          },
          "metadata": {},
          "execution_count": 15
        }
      ]
    },
    {
      "cell_type": "code",
      "source": [
        "base_model_Dense.trainable = True\n",
        "for layer in base_model_Dense.layers[:600]:    #fix w & bias in layer 0-600\n",
        "    layer.trainable = False\n",
        "\n",
        "#Add custom head\n",
        "average_pooling_layer = tf.keras.layers.GlobalAveragePooling2D()(base_model_Dense.output)\n",
        "prediction_layer = tf.keras.layers.Dense(units=3, activation=\"softmax\")(average_pooling_layer)   # unit 3\n",
        "model_Dense11 = tf.keras.models.Model(inputs=base_model_Dense.input, outputs=prediction_layer)\n",
        "\n",
        "model_Dense11.compile(optimizer=tf.keras.optimizers.RMSprop(learning_rate=0.0001), loss=\"binary_crossentropy\", metrics=[\"accuracy\"])"
      ],
      "metadata": {
        "id": "7sp2XFLbRUi3"
      },
      "execution_count": 16,
      "outputs": []
    },
    {
      "cell_type": "code",
      "source": [
        "kf_Dense11 = KFold(5, shuffle=True, random_state=40) \n",
        "\n",
        "oos_y11 = []\n",
        "oos_pred11 = []\n",
        "fold = 0\n",
        "\n",
        "for train, test in kf_Dense11.split(data_Dense):\n",
        "    fold+=1\n",
        "    print(f\"Fold #{fold}\")\n",
        "        \n",
        "    x_train_Dense11 = data_Dense[train]\n",
        "    y_train_Dense11 = labels_Dense[train]\n",
        "    x_test_Dense11 = data_Dense[test]\n",
        "    y_test_Dense11 = labels_Dense[test]\n",
        "\n",
        "    H_Dense11 = model_Dense11.fit( x=aug11.flow(x_train_Dense11, y_train_Dense11, batch_size=BS8),\n",
        "\t                                            validation_data=(x_test_Dense11, y_test_Dense11 ),\n",
        "\t                                            steps_per_epoch=len(x_train_Dense11 ) // BS8,\n",
        "\t                                            epochs=30,  callbacks = [callback])\n",
        "    \n",
        "    pred_Dense11 = model_Dense11.predict(x_test_Dense11)\n",
        "    \n",
        "    oos_y11.append(y_test_Dense11)\n",
        "    oos_pred11.append(pred_Dense11)  \n",
        "    print(classification_report(y_test_Dense11.argmax(axis=1),\t                #แสดง report ค่า acc, recall, ...\n",
        "                                        pred_Dense11.argmax(axis=1),  \n",
        "                                        target_names=le_Dense.classes_))\n",
        "\n",
        "#   score = metrics.accuracy_score(y_test3_Incep.argmax(axis=1),\t        #ค่า acc\n",
        "#                                               pred3_Incep.argmax(axis=1)\n",
        "#    print(f\"Fold score (accuracy): {score}\")\n",
        "\n",
        "#    print(confusion_matrix(testY3_Incep.argmax(axis=1),\t                       #แสดง confusion_matrix\n",
        "#                        pred3_Incep.argmax(axis=1) ) )"
      ],
      "metadata": {
        "id": "jtqNHTIiRUi4",
        "outputId": "773e54f0-1876-401e-b9bb-dd2a64efb1f1",
        "colab": {
          "base_uri": "https://localhost:8080/"
        }
      },
      "execution_count": 17,
      "outputs": [
        {
          "output_type": "stream",
          "name": "stdout",
          "text": [
            "Fold #1\n",
            "Epoch 1/30\n",
            "45/45 [==============================] - 148s 3s/step - loss: 0.5283 - accuracy: 0.5722 - val_loss: 0.4870 - val_accuracy: 0.6813\n",
            "Epoch 2/30\n",
            "45/45 [==============================] - 133s 3s/step - loss: 0.4103 - accuracy: 0.7389 - val_loss: 0.4323 - val_accuracy: 0.6484\n",
            "Epoch 3/30\n",
            "45/45 [==============================] - 135s 3s/step - loss: 0.3447 - accuracy: 0.7972 - val_loss: 0.3855 - val_accuracy: 0.6703\n",
            "Epoch 4/30\n",
            "45/45 [==============================] - 135s 3s/step - loss: 0.3003 - accuracy: 0.8556 - val_loss: 0.3478 - val_accuracy: 0.7363\n",
            "Epoch 5/30\n",
            "45/45 [==============================] - 140s 3s/step - loss: 0.2853 - accuracy: 0.8528 - val_loss: 0.3571 - val_accuracy: 0.6923\n",
            "Epoch 6/30\n",
            "45/45 [==============================] - 135s 3s/step - loss: 0.2434 - accuracy: 0.8861 - val_loss: 0.3441 - val_accuracy: 0.7143\n",
            "Epoch 7/30\n",
            "45/45 [==============================] - 134s 3s/step - loss: 0.2325 - accuracy: 0.8833 - val_loss: 0.2945 - val_accuracy: 0.7802\n",
            "Epoch 8/30\n",
            "45/45 [==============================] - 136s 3s/step - loss: 0.1893 - accuracy: 0.9028 - val_loss: 0.3068 - val_accuracy: 0.7692\n",
            "Epoch 9/30\n",
            "45/45 [==============================] - 134s 3s/step - loss: 0.1845 - accuracy: 0.9111 - val_loss: 0.3484 - val_accuracy: 0.7692\n",
            "Epoch 10/30\n",
            "45/45 [==============================] - 134s 3s/step - loss: 0.1478 - accuracy: 0.9389 - val_loss: 0.3353 - val_accuracy: 0.7802\n",
            "              precision    recall  f1-score   support\n",
            "\n",
            "  Lungcancer       0.79      0.54      0.64        28\n",
            "      Normal       0.94      0.94      0.94        33\n",
            "Tuberculosis       0.64      0.83      0.72        30\n",
            "\n",
            "    accuracy                           0.78        91\n",
            "   macro avg       0.79      0.77      0.77        91\n",
            "weighted avg       0.79      0.78      0.78        91\n",
            "\n",
            "Fold #2\n",
            "Epoch 1/30\n",
            "45/45 [==============================] - 126s 3s/step - loss: 0.2018 - accuracy: 0.8924 - val_loss: 0.0769 - val_accuracy: 0.9556\n",
            "Epoch 2/30\n",
            "45/45 [==============================] - 135s 3s/step - loss: 0.1975 - accuracy: 0.8895 - val_loss: 0.0785 - val_accuracy: 0.9667\n",
            "Epoch 3/30\n",
            "45/45 [==============================] - 137s 3s/step - loss: 0.1633 - accuracy: 0.9207 - val_loss: 0.0791 - val_accuracy: 0.9778\n",
            "Epoch 4/30\n",
            "45/45 [==============================] - 133s 3s/step - loss: 0.1364 - accuracy: 0.9433 - val_loss: 0.1085 - val_accuracy: 0.9556\n",
            "Epoch 5/30\n",
            "45/45 [==============================] - 133s 3s/step - loss: 0.1362 - accuracy: 0.9377 - val_loss: 0.1514 - val_accuracy: 0.9111\n",
            "Epoch 6/30\n",
            "45/45 [==============================] - 134s 3s/step - loss: 0.1431 - accuracy: 0.9235 - val_loss: 0.1325 - val_accuracy: 0.9333\n",
            "              precision    recall  f1-score   support\n",
            "\n",
            "  Lungcancer       1.00      0.85      0.92        33\n",
            "      Normal       1.00      0.96      0.98        26\n",
            "Tuberculosis       0.84      1.00      0.91        31\n",
            "\n",
            "    accuracy                           0.93        90\n",
            "   macro avg       0.95      0.94      0.94        90\n",
            "weighted avg       0.94      0.93      0.93        90\n",
            "\n",
            "Fold #3\n",
            "Epoch 1/30\n",
            "45/45 [==============================] - 122s 3s/step - loss: 0.1538 - accuracy: 0.9377 - val_loss: 0.1137 - val_accuracy: 0.9556\n",
            "Epoch 2/30\n",
            "45/45 [==============================] - 126s 3s/step - loss: 0.1462 - accuracy: 0.9377 - val_loss: 0.0750 - val_accuracy: 0.9667\n",
            "Epoch 3/30\n",
            "45/45 [==============================] - 127s 3s/step - loss: 0.1218 - accuracy: 0.9377 - val_loss: 0.0762 - val_accuracy: 0.9667\n",
            "Epoch 4/30\n",
            "45/45 [==============================] - 128s 3s/step - loss: 0.1380 - accuracy: 0.9405 - val_loss: 0.1100 - val_accuracy: 0.9444\n",
            "Epoch 5/30\n",
            "45/45 [==============================] - 128s 3s/step - loss: 0.0827 - accuracy: 0.9745 - val_loss: 0.0882 - val_accuracy: 0.9667\n",
            "              precision    recall  f1-score   support\n",
            "\n",
            "  Lungcancer       1.00      0.90      0.95        29\n",
            "      Normal       1.00      1.00      1.00        33\n",
            "Tuberculosis       0.90      1.00      0.95        28\n",
            "\n",
            "    accuracy                           0.97        90\n",
            "   macro avg       0.97      0.97      0.96        90\n",
            "weighted avg       0.97      0.97      0.97        90\n",
            "\n",
            "Fold #4\n",
            "Epoch 1/30\n",
            "45/45 [==============================] - 120s 3s/step - loss: 0.1112 - accuracy: 0.9632 - val_loss: 0.1560 - val_accuracy: 0.9444\n",
            "Epoch 2/30\n",
            "45/45 [==============================] - 133s 3s/step - loss: 0.0891 - accuracy: 0.9667 - val_loss: 0.0625 - val_accuracy: 0.9778\n",
            "Epoch 3/30\n",
            "45/45 [==============================] - 143s 3s/step - loss: 0.1008 - accuracy: 0.9490 - val_loss: 0.0562 - val_accuracy: 0.9667\n",
            "Epoch 4/30\n",
            "45/45 [==============================] - 145s 3s/step - loss: 0.0588 - accuracy: 0.9858 - val_loss: 0.1004 - val_accuracy: 0.9444\n",
            "Epoch 5/30\n",
            "45/45 [==============================] - 147s 3s/step - loss: 0.0628 - accuracy: 0.9887 - val_loss: 0.2144 - val_accuracy: 0.9111\n",
            "              precision    recall  f1-score   support\n",
            "\n",
            "  Lungcancer       1.00      0.73      0.85        30\n",
            "      Normal       1.00      1.00      1.00        31\n",
            "Tuberculosis       0.78      1.00      0.88        29\n",
            "\n",
            "    accuracy                           0.91        90\n",
            "   macro avg       0.93      0.91      0.91        90\n",
            "weighted avg       0.93      0.91      0.91        90\n",
            "\n",
            "Fold #5\n",
            "Epoch 1/30\n",
            "45/45 [==============================] - 126s 3s/step - loss: 0.0811 - accuracy: 0.9660 - val_loss: 0.0961 - val_accuracy: 0.9111\n",
            "Epoch 2/30\n",
            "45/45 [==============================] - 127s 3s/step - loss: 0.0950 - accuracy: 0.9632 - val_loss: 0.0330 - val_accuracy: 1.0000\n",
            "Epoch 3/30\n",
            "45/45 [==============================] - 125s 3s/step - loss: 0.0750 - accuracy: 0.9688 - val_loss: 0.0363 - val_accuracy: 1.0000\n",
            "Epoch 4/30\n",
            "45/45 [==============================] - 125s 3s/step - loss: 0.0644 - accuracy: 0.9802 - val_loss: 0.0199 - val_accuracy: 1.0000\n",
            "Epoch 5/30\n",
            "45/45 [==============================] - 119s 3s/step - loss: 0.0706 - accuracy: 0.9802 - val_loss: 0.0167 - val_accuracy: 1.0000\n",
            "              precision    recall  f1-score   support\n",
            "\n",
            "  Lungcancer       1.00      1.00      1.00        30\n",
            "      Normal       1.00      1.00      1.00        28\n",
            "Tuberculosis       1.00      1.00      1.00        32\n",
            "\n",
            "    accuracy                           1.00        90\n",
            "   macro avg       1.00      1.00      1.00        90\n",
            "weighted avg       1.00      1.00      1.00        90\n",
            "\n"
          ]
        }
      ]
    },
    {
      "cell_type": "code",
      "source": [
        "oos_y11 = np.concatenate(oos_y11)\n",
        "oos_pred11 = np.concatenate(oos_pred11)"
      ],
      "metadata": {
        "id": "mbpr8IKZRUi4"
      },
      "execution_count": 18,
      "outputs": []
    },
    {
      "cell_type": "code",
      "source": [
        "score11 = metrics.accuracy_score(oos_y11.argmax(axis=1),\t        #ค่า acc\n",
        "                                             oos_pred11.argmax(axis=1) )\n",
        "print(f\"Fold score (accuracy): {score11}\")\n",
        "\n",
        "print(classification_report(oos_y11.argmax(axis=1),\t                #แสดง report ค่า acc, recall, ...\n",
        "                                        oos_pred11.argmax(axis=1),  \n",
        "                                        target_names=le_Dense.classes_))"
      ],
      "metadata": {
        "id": "rtYzZAUpRUi5",
        "outputId": "07c87951-483f-4474-fc7d-dc15d30e5909",
        "colab": {
          "base_uri": "https://localhost:8080/"
        }
      },
      "execution_count": 19,
      "outputs": [
        {
          "output_type": "stream",
          "name": "stdout",
          "text": [
            "Fold score (accuracy): 0.917960088691796\n",
            "              precision    recall  f1-score   support\n",
            "\n",
            "  Lungcancer       0.97      0.81      0.88       150\n",
            "      Normal       0.99      0.98      0.98       151\n",
            "Tuberculosis       0.82      0.97      0.89       150\n",
            "\n",
            "    accuracy                           0.92       451\n",
            "   macro avg       0.93      0.92      0.92       451\n",
            "weighted avg       0.93      0.92      0.92       451\n",
            "\n"
          ]
        }
      ]
    },
    {
      "cell_type": "markdown",
      "source": [
        "## 2.1) K-fold  -- DenseNet201  \n",
        "\n",
        "### -->ACC = 0.88\n",
        "### -->เวลา 4005.763 นาที\n",
        "\n",
        "*   BS = 16\n",
        "*   fix weight & bias in layer 0-600\n",
        "*   activation=\"sigmoid\"\n",
        "*   learning_rate=0.0001\n",
        "*   epoch 30"
      ],
      "metadata": {
        "id": "KOLfU80JlU9g"
      }
    },
    {
      "cell_type": "code",
      "source": [
        "train_img_Dense = []\n",
        "for ImageName in tqdm(data_train3['ImageName']):               # รัน ชื่อรูป ในไฟล์ data_test3\n",
        "    image_path = All_3class_dir +'/' + ImageName                   # ดึงรูปในโฟล์เดอร์มาทีละรูป\n",
        "    img = cv2.imread(image_path)                                            # อ่านรูป\n",
        "    img = cv2.resize(img, (224, 224))                                       #ขนาดของ input\n",
        "    train_img_Dense.append(img)\n",
        "\n",
        "data_Dense = np.array(train_img_Dense, dtype=\"float32\") / 255.0"
      ],
      "metadata": {
        "outputId": "6ec75383-637f-4464-d830-ec31081561b4",
        "colab": {
          "base_uri": "https://localhost:8080/"
        },
        "id": "EGY4YblwlU9x"
      },
      "execution_count": 20,
      "outputs": [
        {
          "output_type": "stream",
          "name": "stderr",
          "text": [
            "100%|██████████| 451/451 [00:05<00:00, 80.41it/s] \n"
          ]
        }
      ]
    },
    {
      "cell_type": "code",
      "source": [
        "labels_Dense = np.array(data_train3[['NameType']] )        \n",
        "labels_Dense.shape = (len(labels_Dense),) \n",
        "\n",
        "le_Dense = LabelEncoder()                                                                     \n",
        "labels_Dense = le_Dense.fit_transform(labels_Dense)                                         #จะแปลงชื่อ class เป็นตัวเลข 1, 2, 0 \n",
        "\n",
        "labels_Dense = to_categorical(labels_Dense, num_classes=3)                   #shape (180, 3) มีค่าเป็น  [0., 1., 0.]  กับ   [0., 0., 1.] กับ  [1., 0., 0.]"
      ],
      "metadata": {
        "id": "TQ5QDVQVlU9z"
      },
      "execution_count": 21,
      "outputs": []
    },
    {
      "cell_type": "code",
      "source": [
        "INIT_LR = 1e-1\n",
        "BS16 = 16\n",
        "EPOCHS = 50\n",
        "\n",
        "aug21 = ImageDataGenerator(\n",
        "\t\trotation_range=15,\t\t\t\t\t\t#องศาการหมุน\n",
        "\t\twidth_shift_range=0.1,\n",
        "\t\theight_shift_range=0.1,\n",
        "\t\tshear_range=0.15,\n",
        "\t\thorizontal_flip=True,\n",
        "\t\tfill_mode=\"nearest\")\n",
        "\n",
        "callback = tf.keras.callbacks.EarlyStopping(\n",
        "                monitor=\"val_accuracy\",\n",
        "                patience=3,\n",
        "                mode=\"max\" )"
      ],
      "metadata": {
        "id": "S8mzCkx0lU90"
      },
      "execution_count": 22,
      "outputs": []
    },
    {
      "cell_type": "code",
      "source": [
        "base_model_Dense = tf.keras.applications.DenseNet201(input_shape=(224, 224, 3), include_top=False, weights=\"imagenet\")\n",
        "len(base_model_Dense.layers)"
      ],
      "metadata": {
        "id": "_yOBC6LllU91",
        "outputId": "880014c6-471c-424c-908f-aa2c0869aabf",
        "colab": {
          "base_uri": "https://localhost:8080/"
        }
      },
      "execution_count": 23,
      "outputs": [
        {
          "output_type": "execute_result",
          "data": {
            "text/plain": [
              "707"
            ]
          },
          "metadata": {},
          "execution_count": 23
        }
      ]
    },
    {
      "cell_type": "code",
      "source": [
        "base_model_Dense.trainable = True\n",
        "for layer in base_model_Dense.layers[:600]:    #fix w & bias in layer 0-600\n",
        "    layer.trainable = False\n",
        "\n",
        "#Add custom head\n",
        "average_pooling_layer = tf.keras.layers.GlobalAveragePooling2D()(base_model_Dense.output)\n",
        "prediction_layer = tf.keras.layers.Dense(units=3, activation=\"sigmoid\")(average_pooling_layer)   # unit 3\n",
        "model_Dense21 = tf.keras.models.Model(inputs=base_model_Dense.input, outputs=prediction_layer)\n",
        "\n",
        "model_Dense21.compile(optimizer=tf.keras.optimizers.RMSprop(learning_rate=0.0001), loss=\"binary_crossentropy\", metrics=[\"accuracy\"])"
      ],
      "metadata": {
        "id": "xt9H2YkulU93"
      },
      "execution_count": 24,
      "outputs": []
    },
    {
      "cell_type": "code",
      "source": [
        "kf_Dense21 = KFold(5, shuffle=True, random_state=40) \n",
        "\n",
        "oos_y21 = []\n",
        "oos_pred21 = []\n",
        "fold = 0\n",
        "\n",
        "for train, test in kf_Dense21.split(data_Dense):\n",
        "    fold+=1\n",
        "    print(f\"Fold #{fold}\")\n",
        "        \n",
        "    x_train_Dense21 = data_Dense[train]\n",
        "    y_train_Dense21 = labels_Dense[train]\n",
        "    x_test_Dense21 = data_Dense[test]\n",
        "    y_test_Dense21 = labels_Dense[test]\n",
        "\n",
        "    H_Dense21 = model_Dense21.fit( x=aug21.flow(x_train_Dense21, y_train_Dense21, batch_size=BS16),\n",
        "\t                                            validation_data=(x_test_Dense21, y_test_Dense21),\n",
        "\t                                            steps_per_epoch=len(x_train_Dense21) // BS16,\n",
        "\t                                            epochs=30,  callbacks = [callback])\n",
        "    \n",
        "    pred_Dense21 = model_Dense21.predict(x_test_Dense21)\n",
        "    \n",
        "    oos_y21.append(y_test_Dense21)\n",
        "    oos_pred21.append(pred_Dense21)  \n",
        "    print(classification_report(y_test_Dense21.argmax(axis=1),\t                #แสดง report ค่า acc, recall, ...\n",
        "                                        pred_Dense21.argmax(axis=1),  \n",
        "                                        target_names=le_Dense.classes_))\n",
        "\n",
        "#   score = metrics.accuracy_score(y_test3_Incep.argmax(axis=1),\t        #ค่า acc\n",
        "#                                               pred3_Incep.argmax(axis=1)\n",
        "#    print(f\"Fold score (accuracy): {score}\")\n",
        "\n",
        "#    print(confusion_matrix(testY3_Incep.argmax(axis=1),\t                       #แสดง confusion_matrix\n",
        "#                        pred3_Incep.argmax(axis=1) ) )"
      ],
      "metadata": {
        "id": "bC-J_abKlU94",
        "outputId": "c1ad516f-4ebd-4843-9cdc-2006044d7353",
        "colab": {
          "base_uri": "https://localhost:8080/"
        }
      },
      "execution_count": 25,
      "outputs": [
        {
          "output_type": "stream",
          "name": "stdout",
          "text": [
            "Fold #1\n",
            "Epoch 1/30\n",
            "22/22 [==============================] - 139s 6s/step - loss: 0.5372 - accuracy: 0.6453 - val_loss: 0.5158 - val_accuracy: 0.6703\n",
            "Epoch 2/30\n",
            "22/22 [==============================] - 115s 5s/step - loss: 0.3991 - accuracy: 0.7558 - val_loss: 0.4614 - val_accuracy: 0.6923\n",
            "Epoch 3/30\n",
            "22/22 [==============================] - 115s 5s/step - loss: 0.3544 - accuracy: 0.8140 - val_loss: 0.4204 - val_accuracy: 0.6703\n",
            "Epoch 4/30\n",
            "22/22 [==============================] - 117s 5s/step - loss: 0.3118 - accuracy: 0.8081 - val_loss: 0.3988 - val_accuracy: 0.6813\n",
            "Epoch 5/30\n",
            "22/22 [==============================] - 117s 5s/step - loss: 0.2641 - accuracy: 0.8692 - val_loss: 0.3720 - val_accuracy: 0.7143\n",
            "Epoch 6/30\n",
            "22/22 [==============================] - 117s 5s/step - loss: 0.2643 - accuracy: 0.8605 - val_loss: 0.3792 - val_accuracy: 0.7033\n",
            "Epoch 7/30\n",
            "22/22 [==============================] - 117s 5s/step - loss: 0.2244 - accuracy: 0.8895 - val_loss: 0.3872 - val_accuracy: 0.6923\n",
            "Epoch 8/30\n",
            "22/22 [==============================] - 117s 5s/step - loss: 0.2157 - accuracy: 0.8837 - val_loss: 0.3704 - val_accuracy: 0.7473\n",
            "Epoch 9/30\n",
            "22/22 [==============================] - 116s 5s/step - loss: 0.1817 - accuracy: 0.9186 - val_loss: 0.3722 - val_accuracy: 0.7582\n",
            "Epoch 10/30\n",
            "22/22 [==============================] - 118s 5s/step - loss: 0.1862 - accuracy: 0.9099 - val_loss: 0.3348 - val_accuracy: 0.8132\n",
            "Epoch 11/30\n",
            "22/22 [==============================] - 117s 5s/step - loss: 0.1653 - accuracy: 0.9419 - val_loss: 0.3215 - val_accuracy: 0.7912\n",
            "Epoch 12/30\n",
            "22/22 [==============================] - 120s 5s/step - loss: 0.1528 - accuracy: 0.9506 - val_loss: 0.3612 - val_accuracy: 0.7473\n",
            "Epoch 13/30\n",
            "22/22 [==============================] - 118s 5s/step - loss: 0.1392 - accuracy: 0.9477 - val_loss: 0.3910 - val_accuracy: 0.7143\n",
            "              precision    recall  f1-score   support\n",
            "\n",
            "  Lungcancer       0.75      0.32      0.45        28\n",
            "      Normal       0.91      0.94      0.93        33\n",
            "Tuberculosis       0.56      0.83      0.67        30\n",
            "\n",
            "    accuracy                           0.71        91\n",
            "   macro avg       0.74      0.70      0.68        91\n",
            "weighted avg       0.74      0.71      0.69        91\n",
            "\n",
            "Fold #2\n",
            "Epoch 1/30\n",
            "22/22 [==============================] - 116s 5s/step - loss: 0.1914 - accuracy: 0.9072 - val_loss: 0.0998 - val_accuracy: 0.9667\n",
            "Epoch 2/30\n",
            "22/22 [==============================] - 119s 5s/step - loss: 0.1437 - accuracy: 0.9362 - val_loss: 0.1133 - val_accuracy: 0.9667\n",
            "Epoch 3/30\n",
            "22/22 [==============================] - 119s 5s/step - loss: 0.1517 - accuracy: 0.9275 - val_loss: 0.1167 - val_accuracy: 0.9444\n",
            "Epoch 4/30\n",
            "22/22 [==============================] - 119s 5s/step - loss: 0.1217 - accuracy: 0.9507 - val_loss: 0.1342 - val_accuracy: 0.9222\n",
            "              precision    recall  f1-score   support\n",
            "\n",
            "  Lungcancer       1.00      0.82      0.90        33\n",
            "      Normal       1.00      0.96      0.98        26\n",
            "Tuberculosis       0.82      1.00      0.90        31\n",
            "\n",
            "    accuracy                           0.92        90\n",
            "   macro avg       0.94      0.93      0.93        90\n",
            "weighted avg       0.94      0.92      0.92        90\n",
            "\n",
            "Fold #3\n",
            "Epoch 1/30\n",
            "22/22 [==============================] - 117s 5s/step - loss: 0.1157 - accuracy: 0.9652 - val_loss: 0.1003 - val_accuracy: 0.9444\n",
            "Epoch 2/30\n",
            "22/22 [==============================] - 120s 6s/step - loss: 0.0983 - accuracy: 0.9652 - val_loss: 0.0947 - val_accuracy: 0.9444\n",
            "Epoch 3/30\n",
            "22/22 [==============================] - 120s 5s/step - loss: 0.0996 - accuracy: 0.9681 - val_loss: 0.1157 - val_accuracy: 0.9444\n",
            "Epoch 4/30\n",
            "22/22 [==============================] - 119s 5s/step - loss: 0.0864 - accuracy: 0.9710 - val_loss: 0.1607 - val_accuracy: 0.9111\n",
            "              precision    recall  f1-score   support\n",
            "\n",
            "  Lungcancer       1.00      0.76      0.86        29\n",
            "      Normal       1.00      0.97      0.98        33\n",
            "Tuberculosis       0.78      1.00      0.88        28\n",
            "\n",
            "    accuracy                           0.91        90\n",
            "   macro avg       0.93      0.91      0.91        90\n",
            "weighted avg       0.93      0.91      0.91        90\n",
            "\n",
            "Fold #4\n",
            "Epoch 1/30\n",
            "22/22 [==============================] - 119s 5s/step - loss: 0.0704 - accuracy: 0.9826 - val_loss: 0.1190 - val_accuracy: 0.9444\n",
            "Epoch 2/30\n",
            "22/22 [==============================] - 127s 6s/step - loss: 0.0798 - accuracy: 0.9716 - val_loss: 0.0997 - val_accuracy: 0.9333\n",
            "Epoch 3/30\n",
            "22/22 [==============================] - 124s 6s/step - loss: 0.0737 - accuracy: 0.9797 - val_loss: 0.1052 - val_accuracy: 0.9333\n",
            "Epoch 4/30\n",
            "22/22 [==============================] - 127s 6s/step - loss: 0.0736 - accuracy: 0.9739 - val_loss: 0.2462 - val_accuracy: 0.8333\n",
            "              precision    recall  f1-score   support\n",
            "\n",
            "  Lungcancer       1.00      0.53      0.70        30\n",
            "      Normal       1.00      0.97      0.98        31\n",
            "Tuberculosis       0.66      1.00      0.79        29\n",
            "\n",
            "    accuracy                           0.83        90\n",
            "   macro avg       0.89      0.83      0.82        90\n",
            "weighted avg       0.89      0.83      0.83        90\n",
            "\n",
            "Fold #5\n",
            "Epoch 1/30\n",
            "22/22 [==============================] - 121s 6s/step - loss: 0.0874 - accuracy: 0.9710 - val_loss: 0.0422 - val_accuracy: 1.0000\n",
            "Epoch 2/30\n",
            "22/22 [==============================] - 118s 5s/step - loss: 0.0549 - accuracy: 0.9913 - val_loss: 0.0355 - val_accuracy: 0.9889\n",
            "Epoch 3/30\n",
            "22/22 [==============================] - 118s 5s/step - loss: 0.0472 - accuracy: 0.9942 - val_loss: 0.0431 - val_accuracy: 0.9889\n",
            "Epoch 4/30\n",
            "22/22 [==============================] - 121s 6s/step - loss: 0.0496 - accuracy: 0.9855 - val_loss: 0.0378 - val_accuracy: 1.0000\n",
            "              precision    recall  f1-score   support\n",
            "\n",
            "  Lungcancer       1.00      1.00      1.00        30\n",
            "      Normal       1.00      1.00      1.00        28\n",
            "Tuberculosis       1.00      1.00      1.00        32\n",
            "\n",
            "    accuracy                           1.00        90\n",
            "   macro avg       1.00      1.00      1.00        90\n",
            "weighted avg       1.00      1.00      1.00        90\n",
            "\n"
          ]
        }
      ]
    },
    {
      "cell_type": "code",
      "source": [
        "oos_y21 = np.concatenate(oos_y21)\n",
        "oos_pred21 = np.concatenate(oos_pred21)"
      ],
      "metadata": {
        "id": "4aXh2BHWlU94"
      },
      "execution_count": 26,
      "outputs": []
    },
    {
      "cell_type": "code",
      "source": [
        "score21 = metrics.accuracy_score(oos_y21.argmax(axis=1),\t        #ค่า acc\n",
        "                                             oos_pred21.argmax(axis=1) )\n",
        "print(f\"Fold score (accuracy): {score21}\")\n",
        "\n",
        "print(classification_report(oos_y21.argmax(axis=1),\t                #แสดง report ค่า acc, recall, ...\n",
        "                                        oos_pred21.argmax(axis=1),  \n",
        "                                        target_names=le_Dense.classes_))"
      ],
      "metadata": {
        "id": "272zhdO7lU95",
        "outputId": "4486f670-c821-4e7b-a57a-f5ea79ec8451",
        "colab": {
          "base_uri": "https://localhost:8080/"
        }
      },
      "execution_count": 27,
      "outputs": [
        {
          "output_type": "stream",
          "name": "stdout",
          "text": [
            "Fold score (accuracy): 0.8758314855875832\n",
            "              precision    recall  f1-score   support\n",
            "\n",
            "  Lungcancer       0.97      0.69      0.81       150\n",
            "      Normal       0.98      0.97      0.97       151\n",
            "Tuberculosis       0.74      0.97      0.84       150\n",
            "\n",
            "    accuracy                           0.88       451\n",
            "   macro avg       0.90      0.88      0.87       451\n",
            "weighted avg       0.90      0.88      0.87       451\n",
            "\n"
          ]
        }
      ]
    },
    {
      "cell_type": "markdown",
      "source": [
        "## 3.1) K-fold  -- DenseNet201\n",
        "\n",
        "### -->ACC = \n",
        "### -->เวลา  วินาที\n",
        "\n",
        "*   BS = 32\n",
        "*   fix weight & bias in layer 0-600\n",
        "*   activation=\"sigmoid\"\n",
        "*   learning_rate=0.0001\n",
        "*   epoch 30"
      ],
      "metadata": {
        "id": "NFkU80Vq-q1q"
      }
    },
    {
      "cell_type": "code",
      "source": [
        "train_img_Dense = []\n",
        "for ImageName in tqdm(data_train3['ImageName']):               # รัน ชื่อรูป ในไฟล์ data_test3\n",
        "    image_path = All_3class_dir +'/' + ImageName                   # ดึงรูปในโฟล์เดอร์มาทีละรูป\n",
        "    img = cv2.imread(image_path)                                            # อ่านรูป\n",
        "    img = cv2.resize(img, (224, 224))                                       #ขนาดของ input\n",
        "    train_img_Dense.append(img)\n",
        "\n",
        "data_Dense = np.array(train_img_Dense, dtype=\"float32\") / 255.0"
      ],
      "metadata": {
        "outputId": "38136d2a-c28d-4c82-b519-c6344ad57f17",
        "colab": {
          "base_uri": "https://localhost:8080/"
        },
        "id": "qb-UYC07-q1z"
      },
      "execution_count": null,
      "outputs": [
        {
          "output_type": "stream",
          "name": "stderr",
          "text": [
            "100%|██████████| 451/451 [00:05<00:00, 83.88it/s] \n"
          ]
        }
      ]
    },
    {
      "cell_type": "code",
      "source": [
        "labels_Dense = np.array(data_train3[['NameType']] )        \n",
        "labels_Dense.shape = (len(labels_Dense),) \n",
        "\n",
        "le_Dense = LabelEncoder()                                                                     \n",
        "labels_Dense = le_Dense.fit_transform(labels_Dense)                                         #จะแปลงชื่อ class เป็นตัวเลข 1, 2, 0 \n",
        "\n",
        "labels_Dense = to_categorical(labels_Dense, num_classes=3)                   #shape (180, 3) มีค่าเป็น  [0., 1., 0.]  กับ   [0., 0., 1.] กับ  [1., 0., 0.]"
      ],
      "metadata": {
        "id": "DM0ieSH5-q1z"
      },
      "execution_count": null,
      "outputs": []
    },
    {
      "cell_type": "code",
      "source": [
        "INIT_LR = 1e-1\n",
        "BS32 = 32\n",
        "EPOCHS = 50\n",
        "\n",
        "aug31 = ImageDataGenerator(\n",
        "\t\trotation_range=15,\t\t\t\t\t\t#องศาการหมุน\n",
        "\t\twidth_shift_range=0.1,\n",
        "\t\theight_shift_range=0.1,\n",
        "\t\tshear_range=0.15,\n",
        "\t\thorizontal_flip=True,\n",
        "\t\tfill_mode=\"nearest\")\n",
        "\n",
        "callback = tf.keras.callbacks.EarlyStopping(\n",
        "                monitor=\"val_accuracy\",\n",
        "                patience=3,\n",
        "                mode=\"max\" )"
      ],
      "metadata": {
        "id": "TWhEPKtp-q1z"
      },
      "execution_count": null,
      "outputs": []
    },
    {
      "cell_type": "code",
      "source": [
        "base_model_Dense = tf.keras.applications.DenseNet201(input_shape=(224, 224, 3), include_top=False, weights=\"imagenet\")\n",
        "len(base_model_Dense.layers)"
      ],
      "metadata": {
        "id": "ovACgDXz-q1z"
      },
      "execution_count": null,
      "outputs": []
    },
    {
      "cell_type": "code",
      "source": [
        "base_model_Dense.trainable = True\n",
        "for layer in base_model_Dense.layers[:600]:    #fix w & bias in layer 0-600\n",
        "    layer.trainable = False\n",
        "\n",
        "#Add custom head\n",
        "average_pooling_layer = tf.keras.layers.GlobalAveragePooling2D()(base_model_Dense.output)\n",
        "prediction_layer = tf.keras.layers.Dense(units=3, activation=\"sigmoid\")(average_pooling_layer)   # unit 3\n",
        "model_Dense31 = tf.keras.models.Model(inputs=base_model_Dense.input, outputs=prediction_layer)\n",
        "\n",
        "model_Dense31.compile(optimizer=tf.keras.optimizers.RMSprop(learning_rate=0.0001), loss=\"binary_crossentropy\", metrics=[\"accuracy\"])"
      ],
      "metadata": {
        "id": "kQaJzevE-q10"
      },
      "execution_count": null,
      "outputs": []
    },
    {
      "cell_type": "code",
      "source": [
        "kf_Dense31 = KFold(5, shuffle=True, random_state=40) \n",
        "\n",
        "oos_y31 = []\n",
        "oos_pred31 = []\n",
        "fold = 0\n",
        "\n",
        "for train, test in kf_Dense31.split(data_Dense):\n",
        "    fold+=1\n",
        "    print(f\"Fold #{fold}\")\n",
        "        \n",
        "    x_train_Dense31 = data_Dense[train]\n",
        "    y_train_Dense31 = labels_Dense[train]\n",
        "    x_test_Dense31 = data_Dense[test]\n",
        "    y_test_Dense31 = labels_Dense[test]\n",
        "\n",
        "    H_Dense31 = model_Dense31.fit( x=aug31.flow(x_train_Dense31, y_train_Dense31, batch_size=BS32),\n",
        "\t                                            validation_data=(x_test_Dense31, y_test_Dense31),\n",
        "\t                                            steps_per_epoch=len(x_train_Dense31) // BS32,\n",
        "\t                                            epochs=30,  callbacks = [callback])\n",
        "    \n",
        "    pred_Dense31 = model_Dense31.predict(x_test_Dense31)\n",
        "    \n",
        "    oos_y31.append(y_test_Dense31)\n",
        "    oos_pred31.append(pred_Dense31)  \n",
        "    print(classification_report(y_test_Dense31.argmax(axis=1),\t                #แสดง report ค่า acc, recall, ...\n",
        "                                        pred_Dense31.argmax(axis=1),  \n",
        "                                        target_names=le_Dense.classes_))\n",
        "\n",
        "#   score = metrics.accuracy_score(y_test3_Incep.argmax(axis=1),\t        #ค่า acc\n",
        "#                                               pred3_Incep.argmax(axis=1)\n",
        "#    print(f\"Fold score (accuracy): {score}\")\n",
        "\n",
        "#    print(confusion_matrix(testY3_Incep.argmax(axis=1),\t                       #แสดง confusion_matrix\n",
        "#                        pred3_Incep.argmax(axis=1) ) )"
      ],
      "metadata": {
        "id": "rSzxWRyO-q10"
      },
      "execution_count": null,
      "outputs": []
    },
    {
      "cell_type": "code",
      "source": [
        "oos_y31 = np.concatenate(oos_y31)\n",
        "oos_pred31 = np.concatenate(oos_pred31)"
      ],
      "metadata": {
        "id": "-4atAM0i-q10"
      },
      "execution_count": null,
      "outputs": []
    },
    {
      "cell_type": "code",
      "source": [
        "score31 = metrics.accuracy_score(oos_y31.argmax(axis=1),\t        #ค่า acc\n",
        "                                             oos_pred31.argmax(axis=1) )\n",
        "print(f\"Fold score (accuracy): {score31}\")\n",
        "\n",
        "print(classification_report(oos_y31.argmax(axis=1),\t                #แสดง report ค่า acc, recall, ...\n",
        "                                        oos_pred31.argmax(axis=1),  \n",
        "                                        target_names=le_Dense.classes_))"
      ],
      "metadata": {
        "id": "889pWYng-q10"
      },
      "execution_count": null,
      "outputs": []
    },
    {
      "cell_type": "markdown",
      "source": [
        "## 4.1) K-fold  -- DenseNet201\n",
        "\n",
        "### -->ACC = \n",
        "### -->เวลา  วินาที\n",
        "\n",
        "*   BS = 8\n",
        "*   fix weight & bias in layer 0-500\n",
        "*   activation=\"sigmoid\"\n",
        "*   learning_rate=0.0001\n",
        "*   epoch 30"
      ],
      "metadata": {
        "id": "cEhFNDBu-q10"
      }
    },
    {
      "cell_type": "code",
      "source": [
        "train_img_Dense = []\n",
        "for ImageName in tqdm(data_train3['ImageName']):               # รัน ชื่อรูป ในไฟล์ data_test3\n",
        "    image_path = All_3class_dir +'/' + ImageName                   # ดึงรูปในโฟล์เดอร์มาทีละรูป\n",
        "    img = cv2.imread(image_path)                                            # อ่านรูป\n",
        "    img = cv2.resize(img, (224, 224))                                       #ขนาดของ input\n",
        "    train_img_Dense.append(img)\n",
        "\n",
        "data_Dense = np.array(train_img_Dense, dtype=\"float32\") / 255.0"
      ],
      "metadata": {
        "outputId": "fb172fae-6ef3-40bf-fb94-80f5cff3bf6c",
        "colab": {
          "base_uri": "https://localhost:8080/"
        },
        "id": "MjcJMRso-q10"
      },
      "execution_count": null,
      "outputs": [
        {
          "output_type": "stream",
          "name": "stderr",
          "text": [
            "100%|██████████| 451/451 [00:06<00:00, 65.03it/s] \n"
          ]
        }
      ]
    },
    {
      "cell_type": "code",
      "source": [
        "labels_Dense = np.array(data_train3[['NameType']] )        \n",
        "labels_Dense.shape = (len(labels_Dense),) \n",
        "\n",
        "le_Dense = LabelEncoder()                                                                     \n",
        "labels_Dense = le_Dense.fit_transform(labels_Dense)                                         #จะแปลงชื่อ class เป็นตัวเลข 1, 2, 0 \n",
        "\n",
        "labels_Dense = to_categorical(labels_Dense, num_classes=3)                   #shape (180, 3) มีค่าเป็น  [0., 1., 0.]  กับ   [0., 0., 1.] กับ  [1., 0., 0.]"
      ],
      "metadata": {
        "id": "Oe4_lxMF-q11"
      },
      "execution_count": null,
      "outputs": []
    },
    {
      "cell_type": "code",
      "source": [
        "INIT_LR = 1e-1\n",
        "BS8 = 8\n",
        "EPOCHS = 50\n",
        "\n",
        "aug41 = ImageDataGenerator(\n",
        "\t\trotation_range=15,\t\t\t\t\t\t#องศาการหมุน\n",
        "\t\twidth_shift_range=0.1,\n",
        "\t\theight_shift_range=0.1,\n",
        "\t\tshear_range=0.15,\n",
        "\t\thorizontal_flip=True,\n",
        "\t\tfill_mode=\"nearest\")\n",
        "\n",
        "callback = tf.keras.callbacks.EarlyStopping(\n",
        "                monitor=\"val_accuracy\",\n",
        "                patience=3,\n",
        "                mode=\"max\" )"
      ],
      "metadata": {
        "id": "QnhMou1O-q11"
      },
      "execution_count": null,
      "outputs": []
    },
    {
      "cell_type": "code",
      "source": [
        "base_model_Dense = tf.keras.applications.DenseNet201(input_shape=(224, 224, 3), include_top=False, weights=\"imagenet\")\n",
        "len(base_model_Dense.layers)"
      ],
      "metadata": {
        "colab": {
          "base_uri": "https://localhost:8080/"
        },
        "outputId": "2f63b51b-3be3-42d7-c915-29e7b54f548b",
        "id": "1pIiVr1m-q11"
      },
      "execution_count": null,
      "outputs": [
        {
          "output_type": "stream",
          "name": "stdout",
          "text": [
            "Downloading data from https://storage.googleapis.com/tensorflow/keras-applications/densenet/densenet201_weights_tf_dim_ordering_tf_kernels_notop.h5\n",
            "74842112/74836368 [==============================] - 2s 0us/step\n",
            "74850304/74836368 [==============================] - 2s 0us/step\n"
          ]
        },
        {
          "output_type": "execute_result",
          "data": {
            "text/plain": [
              "707"
            ]
          },
          "metadata": {},
          "execution_count": 4
        }
      ]
    },
    {
      "cell_type": "code",
      "source": [
        "base_model_Dense.trainable = True\n",
        "for layer in base_model_Dense.layers[:500]:    #fix w & bias in layer 0-500\n",
        "    layer.trainable = False\n",
        "\n",
        "#Add custom head\n",
        "average_pooling_layer = tf.keras.layers.GlobalAveragePooling2D()(base_model_Dense.output)\n",
        "prediction_layer = tf.keras.layers.Dense(units=3, activation=\"sigmoid\")(average_pooling_layer)   # unit 3\n",
        "model_Dense41 = tf.keras.models.Model(inputs=base_model_Dense.input, outputs=prediction_layer)\n",
        "\n",
        "model_Dense41.compile(optimizer=tf.keras.optimizers.RMSprop(learning_rate=0.0001), loss=\"binary_crossentropy\", metrics=[\"accuracy\"])"
      ],
      "metadata": {
        "id": "5yMgwvG1-q11"
      },
      "execution_count": null,
      "outputs": []
    },
    {
      "cell_type": "code",
      "source": [
        "kf_Dense41 = KFold(5, shuffle=True, random_state=40) \n",
        "\n",
        "oos_y41 = []\n",
        "oos_pred41 = []\n",
        "fold = 0\n",
        "\n",
        "for train, test in kf_Dense41.split(data_Dense):\n",
        "    fold+=1\n",
        "    print(f\"Fold #{fold}\")\n",
        "        \n",
        "    x_train_Dense41 = data_Dense[train]\n",
        "    y_train_Dense41 = labels_Dense[train]\n",
        "    x_test_Dense41 = data_Dense[test]\n",
        "    y_test_Dense41 = labels_Dense[test]\n",
        "\n",
        "    H_Dense41 = model_Dense41.fit( x=aug41.flow(x_train_Dense41, y_train_Dense41, batch_size=BS8),\n",
        "\t                                            validation_data=(x_test_Dense41, y_test_Dense41),\n",
        "\t                                            steps_per_epoch=len(x_train_Dense41) // BS8,\n",
        "\t                                            epochs=30,  callbacks = [callback])\n",
        "    \n",
        "    pred_Dense41 = model_Dense41.predict(x_test_Dense41)\n",
        "    \n",
        "    oos_y41.append(y_test_Dense41)\n",
        "    oos_pred41.append(pred_Dense41)  \n",
        "    print(classification_report(y_test_Dense41.argmax(axis=1),\t                #แสดง report ค่า acc, recall, ...\n",
        "                                        pred_Dense41.argmax(axis=1),  \n",
        "                                        target_names=le_Dense.classes_))\n",
        "\n",
        "#   score = metrics.accuracy_score(y_test3_Incep.argmax(axis=1),\t        #ค่า acc\n",
        "#                                               pred3_Incep.argmax(axis=1)\n",
        "#    print(f\"Fold score (accuracy): {score}\")\n",
        "\n",
        "#    print(confusion_matrix(testY3_Incep.argmax(axis=1),\t                       #แสดง confusion_matrix\n",
        "#                        pred3_Incep.argmax(axis=1) ) )"
      ],
      "metadata": {
        "id": "f_DdOhX--q11"
      },
      "execution_count": null,
      "outputs": []
    },
    {
      "cell_type": "code",
      "source": [
        "oos_y41 = np.concatenate(oos_y41)\n",
        "oos_pred41 = np.concatenate(oos_pred41)"
      ],
      "metadata": {
        "id": "Bwt7ayUr-q12"
      },
      "execution_count": null,
      "outputs": []
    },
    {
      "cell_type": "code",
      "source": [
        "score41 = metrics.accuracy_score(oos_y41.argmax(axis=1),\t        #ค่า acc\n",
        "                                             oos_pred41.argmax(axis=1) )\n",
        "print(f\"Fold score (accuracy): {score41}\")\n",
        "\n",
        "print(classification_report(oos_y41.argmax(axis=1),\t                #แสดง report ค่า acc, recall, ...\n",
        "                                        oos_pred41.argmax(axis=1),  \n",
        "                                        target_names=le_Dense.classes_))"
      ],
      "metadata": {
        "id": "EEsSrnxL-q12"
      },
      "execution_count": null,
      "outputs": []
    },
    {
      "cell_type": "markdown",
      "source": [
        "## 5.1) K-fold  -- DenseNet201\n",
        "\n",
        "### -->ACC = \n",
        "### -->เวลา  นาที\n",
        "\n",
        "*   BS = 16\n",
        "*   fix weight & bias in layer 0-500\n",
        "*   activation=\"sigmoid\"\n",
        "*   learning_rate=0.0001\n",
        "*   epoch 30"
      ],
      "metadata": {
        "id": "uN6Qw1WpHOol"
      }
    },
    {
      "cell_type": "code",
      "source": [
        "train_img_Dense = []\n",
        "for ImageName in tqdm(data_train3['ImageName']):               # รัน ชื่อรูป ในไฟล์ data_test3\n",
        "    image_path = All_3class_dir +'/' + ImageName                   # ดึงรูปในโฟล์เดอร์มาทีละรูป\n",
        "    img = cv2.imread(image_path)                                            # อ่านรูป\n",
        "    img = cv2.resize(img, (224, 224))                                       #ขนาดของ input\n",
        "    train_img_Dense.append(img)\n",
        "\n",
        "data_Dense = np.array(train_img_Dense, dtype=\"float32\") / 255.0"
      ],
      "metadata": {
        "outputId": "fb172fae-6ef3-40bf-fb94-80f5cff3bf6c",
        "colab": {
          "base_uri": "https://localhost:8080/"
        },
        "id": "uF_4IVL6HOo1"
      },
      "execution_count": null,
      "outputs": [
        {
          "output_type": "stream",
          "name": "stderr",
          "text": [
            "100%|██████████| 451/451 [00:06<00:00, 65.03it/s] \n"
          ]
        }
      ]
    },
    {
      "cell_type": "code",
      "source": [
        "labels_Dense = np.array(data_train3[['NameType']] )        \n",
        "labels_Dense.shape = (len(labels_Dense),) \n",
        "\n",
        "le_Dense = LabelEncoder()                                                                     \n",
        "labels_Dense = le_Dense.fit_transform(labels_Dense)                                         #จะแปลงชื่อ class เป็นตัวเลข 1, 2, 0 \n",
        "\n",
        "labels_Dense = to_categorical(labels_Dense, num_classes=3)                   #shape (180, 3) มีค่าเป็น  [0., 1., 0.]  กับ   [0., 0., 1.] กับ  [1., 0., 0.]"
      ],
      "metadata": {
        "id": "6_hduF3DHOo3"
      },
      "execution_count": null,
      "outputs": []
    },
    {
      "cell_type": "code",
      "source": [
        "INIT_LR = 1e-1\n",
        "BS16 = 16\n",
        "EPOCHS = 50\n",
        "\n",
        "aug51 = ImageDataGenerator(\n",
        "\t\trotation_range=15,\t\t\t\t\t\t#องศาการหมุน\n",
        "\t\twidth_shift_range=0.1,\n",
        "\t\theight_shift_range=0.1,\n",
        "\t\tshear_range=0.15,\n",
        "\t\thorizontal_flip=True,\n",
        "\t\tfill_mode=\"nearest\")\n",
        "\n",
        "callback = tf.keras.callbacks.EarlyStopping(\n",
        "                monitor=\"val_accuracy\",\n",
        "                patience=3,\n",
        "                mode=\"max\" )"
      ],
      "metadata": {
        "id": "0pgqv_-kHOo4"
      },
      "execution_count": null,
      "outputs": []
    },
    {
      "cell_type": "code",
      "source": [
        "base_model_Dense = tf.keras.applications.DenseNet201(input_shape=(224, 224, 3), include_top=False, weights=\"imagenet\")\n",
        "len(base_model_Dense.layers)"
      ],
      "metadata": {
        "colab": {
          "base_uri": "https://localhost:8080/"
        },
        "outputId": "2f63b51b-3be3-42d7-c915-29e7b54f548b",
        "id": "c2SosByNHOo4"
      },
      "execution_count": null,
      "outputs": [
        {
          "output_type": "stream",
          "name": "stdout",
          "text": [
            "Downloading data from https://storage.googleapis.com/tensorflow/keras-applications/densenet/densenet201_weights_tf_dim_ordering_tf_kernels_notop.h5\n",
            "74842112/74836368 [==============================] - 2s 0us/step\n",
            "74850304/74836368 [==============================] - 2s 0us/step\n"
          ]
        },
        {
          "output_type": "execute_result",
          "data": {
            "text/plain": [
              "707"
            ]
          },
          "metadata": {},
          "execution_count": 4
        }
      ]
    },
    {
      "cell_type": "code",
      "source": [
        "base_model_Dense.trainable = True\n",
        "for layer in base_model_Dense.layers[:500]:    #fix w & bias in layer 0-500\n",
        "    layer.trainable = False\n",
        "\n",
        "#Add custom head\n",
        "average_pooling_layer = tf.keras.layers.GlobalAveragePooling2D()(base_model_Dense.output)\n",
        "prediction_layer = tf.keras.layers.Dense(units=3, activation=\"sigmoid\")(average_pooling_layer)   # unit 3\n",
        "model_Dense51 = tf.keras.models.Model(inputs=base_model_Dense.input, outputs=prediction_layer)\n",
        "\n",
        "model_Dense51.compile(optimizer=tf.keras.optimizers.RMSprop(learning_rate=0.0001), loss=\"binary_crossentropy\", metrics=[\"accuracy\"])"
      ],
      "metadata": {
        "id": "RUr9sHNkHOo5"
      },
      "execution_count": null,
      "outputs": []
    },
    {
      "cell_type": "code",
      "source": [
        "kf_Dense51 = KFold(5, shuffle=True, random_state=40) \n",
        "\n",
        "oos_y51 = []\n",
        "oos_pred51 = []\n",
        "fold = 0\n",
        "\n",
        "for train, test in kf_Dense51.split(data_Dense):\n",
        "    fold+=1\n",
        "    print(f\"Fold #{fold}\")\n",
        "        \n",
        "    x_train_Dense51 = data_Dense[train]\n",
        "    y_train_Dense51 = labels_Dense[train]\n",
        "    x_test_Dense51 = data_Dense[test]\n",
        "    y_test_Dense51 = labels_Dense[test]\n",
        "\n",
        "    H_Dense51 = model_Dense51.fit( x=aug51.flow(x_train_Dense51, y_train_Dense51, batch_size=BS16),\n",
        "\t                                            validation_data=(x_test_Dense51, y_test_Dense51),\n",
        "\t                                            steps_per_epoch=len(x_train_Dense51) // BS16,\n",
        "\t                                            epochs=30,  callbacks = [callback])\n",
        "    \n",
        "    pred_Dense51 = model_Dense51.predict(x_test_Dense51)\n",
        "    \n",
        "    oos_y51.append(y_test_Dense51)\n",
        "    oos_pred51.append(pred_Dense51)  \n",
        "    print(classification_report(y_test_Dense51.argmax(axis=1),\t                #แสดง report ค่า acc, recall, ...\n",
        "                                        pred_Dense51.argmax(axis=1),  \n",
        "                                        target_names=le_Dense.classes_))\n",
        "\n",
        "#   score = metrics.accuracy_score(y_test3_Incep.argmax(axis=1),\t        #ค่า acc\n",
        "#                                               pred3_Incep.argmax(axis=1)\n",
        "#    print(f\"Fold score (accuracy): {score}\")\n",
        "\n",
        "#    print(confusion_matrix(testY3_Incep.argmax(axis=1),\t                       #แสดง confusion_matrix\n",
        "#                        pred3_Incep.argmax(axis=1) ) )"
      ],
      "metadata": {
        "id": "JMLTcfg4HOo6"
      },
      "execution_count": null,
      "outputs": []
    },
    {
      "cell_type": "code",
      "source": [
        "oos_y51 = np.concatenate(oos_y51)\n",
        "oos_pred51 = np.concatenate(oos_pred51)"
      ],
      "metadata": {
        "id": "JCR51egzHOo6"
      },
      "execution_count": null,
      "outputs": []
    },
    {
      "cell_type": "code",
      "source": [
        "score51 = metrics.accuracy_score(oos_y51.argmax(axis=1),\t        #ค่า acc\n",
        "                                             oos_pred51.argmax(axis=1) )\n",
        "print(f\"Fold score (accuracy): {score51}\")\n",
        "\n",
        "print(classification_report(oos_y51.argmax(axis=1),\t                #แสดง report ค่า acc, recall, ...\n",
        "                                        oos_pred51.argmax(axis=1),  \n",
        "                                        target_names=le_Dense.classes_))"
      ],
      "metadata": {
        "id": "j8Gv9jS1HOo7"
      },
      "execution_count": null,
      "outputs": []
    },
    {
      "cell_type": "markdown",
      "source": [
        "## 6.1) K-fold  -- DenseNet201\n",
        "\n",
        "### -->ACC = \n",
        "### -->เวลา  วินาที\n",
        "\n",
        "*   BS = 32\n",
        "*   fix weight & bias in layer 0-500\n",
        "*   activation=\"sigmoid\"\n",
        "*   learning_rate=0.0001\n",
        "*   epoch 30"
      ],
      "metadata": {
        "id": "HxK8AjKqH8K0"
      }
    },
    {
      "cell_type": "code",
      "source": [
        "train_img_Dense = []\n",
        "for ImageName in tqdm(data_train3['ImageName']):               # รัน ชื่อรูป ในไฟล์ data_test3\n",
        "    image_path = All_3class_dir +'/' + ImageName                   # ดึงรูปในโฟล์เดอร์มาทีละรูป\n",
        "    img = cv2.imread(image_path)                                            # อ่านรูป\n",
        "    img = cv2.resize(img, (224, 224))                                       #ขนาดของ input\n",
        "    train_img_Dense.append(img)\n",
        "\n",
        "data_Dense = np.array(train_img_Dense, dtype=\"float32\") / 255.0"
      ],
      "metadata": {
        "outputId": "fb172fae-6ef3-40bf-fb94-80f5cff3bf6c",
        "colab": {
          "base_uri": "https://localhost:8080/"
        },
        "id": "2T2iQl9sH8LE"
      },
      "execution_count": null,
      "outputs": [
        {
          "output_type": "stream",
          "name": "stderr",
          "text": [
            "100%|██████████| 451/451 [00:06<00:00, 65.03it/s] \n"
          ]
        }
      ]
    },
    {
      "cell_type": "code",
      "source": [
        "labels_Dense = np.array(data_train3[['NameType']] )        \n",
        "labels_Dense.shape = (len(labels_Dense),) \n",
        "\n",
        "le_Dense = LabelEncoder()                                                                     \n",
        "labels_Dense = le_Dense.fit_transform(labels_Dense)                                         #จะแปลงชื่อ class เป็นตัวเลข 1, 2, 0 \n",
        "\n",
        "labels_Dense = to_categorical(labels_Dense, num_classes=3)                   #shape (180, 3) มีค่าเป็น  [0., 1., 0.]  กับ   [0., 0., 1.] กับ  [1., 0., 0.]"
      ],
      "metadata": {
        "id": "PIXhfdxZH8LG"
      },
      "execution_count": null,
      "outputs": []
    },
    {
      "cell_type": "code",
      "source": [
        "INIT_LR = 1e-1\n",
        "BS32 = 32\n",
        "\n",
        "\n",
        "aug61 = ImageDataGenerator(\n",
        "\t\trotation_range=15,\t\t\t\t\t\t#องศาการหมุน\n",
        "\t\twidth_shift_range=0.1,\n",
        "\t\theight_shift_range=0.1,\n",
        "\t\tshear_range=0.15,\n",
        "\t\thorizontal_flip=True,\n",
        "\t\tfill_mode=\"nearest\")\n",
        "\n",
        "callback = tf.keras.callbacks.EarlyStopping(\n",
        "                monitor=\"val_accuracy\",\n",
        "                patience=3,\n",
        "                mode=\"max\" )"
      ],
      "metadata": {
        "id": "kw6f9FgwH8LG"
      },
      "execution_count": null,
      "outputs": []
    },
    {
      "cell_type": "code",
      "source": [
        "base_model_Dense = tf.keras.applications.DenseNet201(input_shape=(224, 224, 3), include_top=False, weights=\"imagenet\")\n",
        "len(base_model_Dense.layers)"
      ],
      "metadata": {
        "colab": {
          "base_uri": "https://localhost:8080/"
        },
        "outputId": "2f63b51b-3be3-42d7-c915-29e7b54f548b",
        "id": "uYnY9iuTH8LH"
      },
      "execution_count": null,
      "outputs": [
        {
          "output_type": "stream",
          "name": "stdout",
          "text": [
            "Downloading data from https://storage.googleapis.com/tensorflow/keras-applications/densenet/densenet201_weights_tf_dim_ordering_tf_kernels_notop.h5\n",
            "74842112/74836368 [==============================] - 2s 0us/step\n",
            "74850304/74836368 [==============================] - 2s 0us/step\n"
          ]
        },
        {
          "output_type": "execute_result",
          "data": {
            "text/plain": [
              "707"
            ]
          },
          "metadata": {},
          "execution_count": 4
        }
      ]
    },
    {
      "cell_type": "code",
      "source": [
        "base_model_Dense.trainable = True\n",
        "for layer in base_model_Dense.layers[:500]:    #fix w & bias in layer 0-500\n",
        "    layer.trainable = False\n",
        "\n",
        "#Add custom head\n",
        "average_pooling_layer = tf.keras.layers.GlobalAveragePooling2D()(base_model_Dense.output)\n",
        "prediction_layer = tf.keras.layers.Dense(units=3, activation=\"sigmoid\")(average_pooling_layer)   # unit 3\n",
        "model_Dense61 = tf.keras.models.Model(inputs=base_model_Dense.input, outputs=prediction_layer)\n",
        "\n",
        "model_Dense61.compile(optimizer=tf.keras.optimizers.RMSprop(learning_rate=0.0001), loss=\"binary_crossentropy\", metrics=[\"accuracy\"])"
      ],
      "metadata": {
        "id": "Ot38hEVCH8LI"
      },
      "execution_count": null,
      "outputs": []
    },
    {
      "cell_type": "code",
      "source": [
        "kf_Dense61 = KFold(5, shuffle=True, random_state=40) \n",
        "\n",
        "oos_y61 = []\n",
        "oos_pred61 = []\n",
        "fold = 0\n",
        "\n",
        "for train, test in kf_Dense61.split(data_Dense):\n",
        "    fold+=1\n",
        "    print(f\"Fold #{fold}\")\n",
        "        \n",
        "    x_train_Dense61 = data_Dense[train]\n",
        "    y_train_Dense61 = labels_Dense[train]\n",
        "    x_test_Dense61 = data_Dense[test]\n",
        "    y_test_Dense61 = labels_Dense[test]\n",
        "\n",
        "    H_Dense61 = model_Dense61.fit( x=aug61.flow(x_train_Dense61, y_train_Dense61, batch_size=BS32),\n",
        "\t                                            validation_data=(x_test_Dense61, y_test_Dense61),\n",
        "\t                                            steps_per_epoch=len(x_train_Dense61) // BS32,\n",
        "\t                                            epochs=30,  callbacks = [callback])\n",
        "    \n",
        "    pred_Dense61 = model_Dense61.predict(x_test_Dense61)\n",
        "    \n",
        "    oos_y61.append(y_test_Dense61)\n",
        "    oos_pred61.append(pred_Dense61)  \n",
        "    print(classification_report(y_test_Dense61.argmax(axis=1),\t                #แสดง report ค่า acc, recall, ...\n",
        "                                        pred_Dense61.argmax(axis=1),  \n",
        "                                        target_names=le_Dense.classes_))\n",
        "\n",
        "#   score = metrics.accuracy_score(y_test3_Incep.argmax(axis=1),\t        #ค่า acc\n",
        "#                                               pred3_Incep.argmax(axis=1)\n",
        "#    print(f\"Fold score (accuracy): {score}\")\n",
        "\n",
        "#    print(confusion_matrix(testY3_Incep.argmax(axis=1),\t                       #แสดง confusion_matrix\n",
        "#                        pred3_Incep.argmax(axis=1) ) )"
      ],
      "metadata": {
        "id": "bsJ1V4qwH8LJ"
      },
      "execution_count": null,
      "outputs": []
    },
    {
      "cell_type": "code",
      "source": [
        "oos_y61 = np.concatenate(oos_y61)\n",
        "oos_pred61 = np.concatenate(oos_pred61)"
      ],
      "metadata": {
        "id": "l36ULMsSH8LL"
      },
      "execution_count": null,
      "outputs": []
    },
    {
      "cell_type": "code",
      "source": [
        "score61 = metrics.accuracy_score(oos_y61.argmax(axis=1),\t        #ค่า acc\n",
        "                                             oos_pred61.argmax(axis=1) )\n",
        "print(f\"Fold score (accuracy): {score61}\")\n",
        "\n",
        "print(classification_report(oos_y61.argmax(axis=1),\t                #แสดง report ค่า acc, recall, ...\n",
        "                                        oos_pred61.argmax(axis=1),  \n",
        "                                        target_names=le_Dense.classes_))"
      ],
      "metadata": {
        "id": "Wr5CwWOdH8LM"
      },
      "execution_count": null,
      "outputs": []
    },
    {
      "cell_type": "markdown",
      "source": [
        "## 7) K-fold  -- DenseNet201\n",
        "\n",
        "### -->ACC = \n",
        "### -->เวลา  วินาที\n",
        "\n",
        "*   BS = 1\n",
        "*   fix weight & bias in layer 0-500\n",
        "*   activation=\"softmax\"\n",
        "*   learning_rate=0.0001\n",
        "*   epoch 30"
      ],
      "metadata": {
        "id": "rBRBMWrvY5Lq"
      }
    },
    {
      "cell_type": "code",
      "source": [
        "train_img_Dense = []\n",
        "for ImageName in tqdm(data_train3['ImageName']):               # รัน ชื่อรูป ในไฟล์ data_test3\n",
        "    image_path = All_3class_dir +'/' + ImageName                   # ดึงรูปในโฟล์เดอร์มาทีละรูป\n",
        "    img = cv2.imread(image_path)                                            # อ่านรูป\n",
        "    img = cv2.resize(img, (224, 224))                                       #ขนาดของ input\n",
        "    train_img_Dense.append(img)\n",
        "\n",
        "data_Dense = np.array(train_img_Dense, dtype=\"float32\") / 255.0"
      ],
      "metadata": {
        "outputId": "fb172fae-6ef3-40bf-fb94-80f5cff3bf6c",
        "colab": {
          "base_uri": "https://localhost:8080/"
        },
        "id": "V6R7b9m3Y5L7"
      },
      "execution_count": null,
      "outputs": [
        {
          "output_type": "stream",
          "name": "stderr",
          "text": [
            "100%|██████████| 451/451 [00:06<00:00, 65.03it/s] \n"
          ]
        }
      ]
    },
    {
      "cell_type": "code",
      "source": [
        "labels_Dense = np.array(data_train3[['NameType']] )        \n",
        "labels_Dense.shape = (len(labels_Dense),) \n",
        "\n",
        "le_Dense = LabelEncoder()                                                                     \n",
        "labels_Dense = le_Dense.fit_transform(labels_Dense)                                         #จะแปลงชื่อ class เป็นตัวเลข 1, 2, 0 \n",
        "\n",
        "labels_Dense = to_categorical(labels_Dense, num_classes=3)                   #shape (180, 3) มีค่าเป็น  [0., 1., 0.]  กับ   [0., 0., 1.] กับ  [1., 0., 0.]"
      ],
      "metadata": {
        "id": "0eToUE3tY5L8"
      },
      "execution_count": null,
      "outputs": []
    },
    {
      "cell_type": "code",
      "source": [
        "INIT_LR = 1e-1\n",
        "BS = 1\n",
        "EPOCHS = 50\n",
        "\n",
        "aug7 = ImageDataGenerator(\n",
        "\t\trotation_range=15,\t\t\t\t\t\t#องศาการหมุน\n",
        "\t\twidth_shift_range=0.1,\n",
        "\t\theight_shift_range=0.1,\n",
        "\t\tshear_range=0.15,\n",
        "\t\thorizontal_flip=True,\n",
        "\t\tfill_mode=\"nearest\")\n",
        "\n",
        "callback = tf.keras.callbacks.EarlyStopping(\n",
        "                monitor=\"val_accuracy\",\n",
        "                patience=3,\n",
        "                mode=\"max\" )"
      ],
      "metadata": {
        "id": "zoDQuSetY5L9"
      },
      "execution_count": null,
      "outputs": []
    },
    {
      "cell_type": "code",
      "source": [
        "base_model_Dense = tf.keras.applications.DenseNet201(input_shape=(224, 224, 3), include_top=False, weights=\"imagenet\")\n",
        "len(base_model_Dense.layers)"
      ],
      "metadata": {
        "colab": {
          "base_uri": "https://localhost:8080/"
        },
        "outputId": "2f63b51b-3be3-42d7-c915-29e7b54f548b",
        "id": "uR12ruwJY5L-"
      },
      "execution_count": null,
      "outputs": [
        {
          "output_type": "stream",
          "name": "stdout",
          "text": [
            "Downloading data from https://storage.googleapis.com/tensorflow/keras-applications/densenet/densenet201_weights_tf_dim_ordering_tf_kernels_notop.h5\n",
            "74842112/74836368 [==============================] - 2s 0us/step\n",
            "74850304/74836368 [==============================] - 2s 0us/step\n"
          ]
        },
        {
          "output_type": "execute_result",
          "data": {
            "text/plain": [
              "707"
            ]
          },
          "metadata": {},
          "execution_count": 4
        }
      ]
    },
    {
      "cell_type": "code",
      "source": [
        "base_model_Dense.trainable = True\n",
        "for layer in base_model_Dense.layers[:500]:    #fix w & bias in layer 0-500\n",
        "    layer.trainable = False\n",
        "\n",
        "#Add custom head\n",
        "average_pooling_layer = tf.keras.layers.GlobalAveragePooling2D()(base_model_Dense.output)\n",
        "prediction_layer = tf.keras.layers.Dense(units=3, activation=\"softmax\")(average_pooling_layer)   # unit 3\n",
        "model_Dense7 = tf.keras.models.Model(inputs=base_model_Dense.input, outputs=prediction_layer)\n",
        "\n",
        "model_Dense7.compile(optimizer=tf.keras.optimizers.RMSprop(learning_rate=0.0001), loss=\"binary_crossentropy\", metrics=[\"accuracy\"])"
      ],
      "metadata": {
        "id": "qEUrYf5oY5L-"
      },
      "execution_count": null,
      "outputs": []
    },
    {
      "cell_type": "code",
      "source": [
        "kf_Dense7 = KFold(5, shuffle=True, random_state=40) \n",
        "\n",
        "oos_y7 = []\n",
        "oos_pred7 = []\n",
        "fold = 0\n",
        "\n",
        "for train, test in kf_Dense7.split(data_Dense):\n",
        "    fold+=1\n",
        "    print(f\"Fold #{fold}\")\n",
        "        \n",
        "    x_train_Dense7 = data_Dense[train]\n",
        "    y_train_Dense7 = labels_Dense[train]\n",
        "    x_test_Dense7 = data_Dense[test]\n",
        "    y_test_Dense7 = labels_Dense[test]\n",
        "\n",
        "    H_Dense7 = model_Dense7.fit( x=aug7.flow(x_train_Dense7, y_train_Dense7, batch_size=BS),\n",
        "\t                                            validation_data=(x_test_Dense7, y_test_Dense7),\n",
        "\t                                            steps_per_epoch=len(x_train_Dense7) // BS,\n",
        "\t                                            epochs=30,  callbacks = [callback])\n",
        "    \n",
        "    pred_Dense7 = model_Dense7.predict(x_test_Dense7)\n",
        "    \n",
        "    oos_y7.append(y_test_Dense7)\n",
        "    oos_pred7.append(pred_Dense7)  \n",
        "    print(classification_report(y_test_Dense7.argmax(axis=1),\t                #แสดง report ค่า acc, recall, ...\n",
        "                                        pred_Dense7.argmax(axis=1),  \n",
        "                                        target_names=le_Dense.classes_))\n",
        "\n",
        "#   score = metrics.accuracy_score(y_test3_Incep.argmax(axis=1),\t        #ค่า acc\n",
        "#                                               pred3_Incep.argmax(axis=1)\n",
        "#    print(f\"Fold score (accuracy): {score}\")\n",
        "\n",
        "#    print(confusion_matrix(testY3_Incep.argmax(axis=1),\t                       #แสดง confusion_matrix\n",
        "#                        pred3_Incep.argmax(axis=1) ) )"
      ],
      "metadata": {
        "id": "wLoyQdULY5L_"
      },
      "execution_count": null,
      "outputs": []
    },
    {
      "cell_type": "code",
      "source": [
        "oos_y7 = np.concatenate(oos_y7)\n",
        "oos_pred7 = np.concatenate(oos_pred7)"
      ],
      "metadata": {
        "id": "dGeqrywFY5MA"
      },
      "execution_count": null,
      "outputs": []
    },
    {
      "cell_type": "code",
      "source": [
        "score7 = metrics.accuracy_score(oos_y7.argmax(axis=1),\t        #ค่า acc\n",
        "                                             oos_pred7.argmax(axis=1) )\n",
        "print(f\"Fold score (accuracy): {score7}\")\n",
        "\n",
        "print(classification_report(oos_y7.argmax(axis=1),\t                #แสดง report ค่า acc, recall, ...\n",
        "                                        oos_pred7.argmax(axis=1),  \n",
        "                                        target_names=le_Dense.classes_))"
      ],
      "metadata": {
        "id": "B7TgGYCzY5MA"
      },
      "execution_count": null,
      "outputs": []
    },
    {
      "cell_type": "markdown",
      "source": [
        "## 7.1) K-fold  -- DenseNet201\n",
        "\n",
        "### -->ACC = \n",
        "### -->เวลา  วินาที\n",
        "\n",
        "*   BS = 1\n",
        "*   fix weight & bias in layer 0-500\n",
        "*   activation=\"sigmoid\"\n",
        "*   learning_rate=0.0001\n",
        "*   epoch 30"
      ],
      "metadata": {
        "id": "ohs7MOL3ZoSk"
      }
    },
    {
      "cell_type": "code",
      "source": [
        "train_img_Dense = []\n",
        "for ImageName in tqdm(data_train3['ImageName']):               # รัน ชื่อรูป ในไฟล์ data_test3\n",
        "    image_path = All_3class_dir +'/' + ImageName                   # ดึงรูปในโฟล์เดอร์มาทีละรูป\n",
        "    img = cv2.imread(image_path)                                            # อ่านรูป\n",
        "    img = cv2.resize(img, (224, 224))                                       #ขนาดของ input\n",
        "    train_img_Dense.append(img)\n",
        "\n",
        "data_Dense = np.array(train_img_Dense, dtype=\"float32\") / 255.0"
      ],
      "metadata": {
        "outputId": "fb172fae-6ef3-40bf-fb94-80f5cff3bf6c",
        "colab": {
          "base_uri": "https://localhost:8080/"
        },
        "id": "UDD1tFzTZoSl"
      },
      "execution_count": null,
      "outputs": [
        {
          "output_type": "stream",
          "name": "stderr",
          "text": [
            "100%|██████████| 451/451 [00:06<00:00, 65.03it/s] \n"
          ]
        }
      ]
    },
    {
      "cell_type": "code",
      "source": [
        "labels_Dense = np.array(data_train3[['NameType']] )        \n",
        "labels_Dense.shape = (len(labels_Dense),) \n",
        "\n",
        "le_Dense = LabelEncoder()                                                                     \n",
        "labels_Dense = le_Dense.fit_transform(labels_Dense)                                         #จะแปลงชื่อ class เป็นตัวเลข 1, 2, 0 \n",
        "\n",
        "labels_Dense = to_categorical(labels_Dense, num_classes=3)                   #shape (180, 3) มีค่าเป็น  [0., 1., 0.]  กับ   [0., 0., 1.] กับ  [1., 0., 0.]"
      ],
      "metadata": {
        "id": "CQov8-P2ZoSm"
      },
      "execution_count": null,
      "outputs": []
    },
    {
      "cell_type": "code",
      "source": [
        "INIT_LR = 1e-1\n",
        "BS = 1\n",
        "EPOCHS = 50\n",
        "\n",
        "aug71 = ImageDataGenerator(\n",
        "\t\trotation_range=15,\t\t\t\t\t\t#องศาการหมุน\n",
        "\t\twidth_shift_range=0.1,\n",
        "\t\theight_shift_range=0.1,\n",
        "\t\tshear_range=0.15,\n",
        "\t\thorizontal_flip=True,\n",
        "\t\tfill_mode=\"nearest\")\n",
        "\n",
        "callback = tf.keras.callbacks.EarlyStopping(\n",
        "                monitor=\"val_accuracy\",\n",
        "                patience=3,\n",
        "                mode=\"max\" )"
      ],
      "metadata": {
        "id": "3N6MKmfTZoSn"
      },
      "execution_count": null,
      "outputs": []
    },
    {
      "cell_type": "code",
      "source": [
        "base_model_Dense = tf.keras.applications.DenseNet201(input_shape=(224, 224, 3), include_top=False, weights=\"imagenet\")\n",
        "len(base_model_Dense.layers)"
      ],
      "metadata": {
        "colab": {
          "base_uri": "https://localhost:8080/"
        },
        "outputId": "2f63b51b-3be3-42d7-c915-29e7b54f548b",
        "id": "xOGF3dJ5ZoSn"
      },
      "execution_count": null,
      "outputs": [
        {
          "output_type": "stream",
          "name": "stdout",
          "text": [
            "Downloading data from https://storage.googleapis.com/tensorflow/keras-applications/densenet/densenet201_weights_tf_dim_ordering_tf_kernels_notop.h5\n",
            "74842112/74836368 [==============================] - 2s 0us/step\n",
            "74850304/74836368 [==============================] - 2s 0us/step\n"
          ]
        },
        {
          "output_type": "execute_result",
          "data": {
            "text/plain": [
              "707"
            ]
          },
          "metadata": {},
          "execution_count": 4
        }
      ]
    },
    {
      "cell_type": "code",
      "source": [
        "base_model_Dense.trainable = True\n",
        "for layer in base_model_Dense.layers[:500]:    #fix w & bias in layer 0-500\n",
        "    layer.trainable = False\n",
        "\n",
        "#Add custom head\n",
        "average_pooling_layer = tf.keras.layers.GlobalAveragePooling2D()(base_model_Dense.output)\n",
        "prediction_layer = tf.keras.layers.Dense(units=3, activation=\"sigmoid\")(average_pooling_layer)   # unit 3\n",
        "model_Dense71 = tf.keras.models.Model(inputs=base_model_Dense.input, outputs=prediction_layer)\n",
        "\n",
        "model_Dense71.compile(optimizer=tf.keras.optimizers.RMSprop(learning_rate=0.0001), loss=\"binary_crossentropy\", metrics=[\"accuracy\"])"
      ],
      "metadata": {
        "id": "XRTtVK46ZoSo"
      },
      "execution_count": null,
      "outputs": []
    },
    {
      "cell_type": "code",
      "source": [
        "kf_Dense71 = KFold(5, shuffle=True, random_state=40) \n",
        "\n",
        "oos_y71 = []\n",
        "oos_pred71 = []\n",
        "fold = 0\n",
        "\n",
        "for train, test in kf_Dense71.split(data_Dense):\n",
        "    fold+=1\n",
        "    print(f\"Fold #{fold}\")\n",
        "        \n",
        "    x_train_Dense71 = data_Dense[train]\n",
        "    y_train_Dense71 = labels_Dense[train]\n",
        "    x_test_Dense71 = data_Dense[test]\n",
        "    y_test_Dense71 = labels_Dense[test]\n",
        "\n",
        "    H_Dense71 = model_Dense71.fit( x=aug71.flow(x_train_Dense71, y_train_Dense71, batch_size=BS),\n",
        "\t                                            validation_data=(x_test_Dense71, y_test_Dense71),\n",
        "\t                                            steps_per_epoch=len(x_train_Dense71) // BS,\n",
        "\t                                            epochs=30,  callbacks = [callback])\n",
        "    \n",
        "    pred_Dense71 = model_Dense71.predict(x_test_Dense71)\n",
        "    \n",
        "    oos_y71.append(y_test_Dense71)\n",
        "    oos_pred71.append(pred_Dense71)  \n",
        "    print(classification_report(y_test_Dense71.argmax(axis=1),\t                #แสดง report ค่า acc, recall, ...\n",
        "                                        pred_Dense71.argmax(axis=1),  \n",
        "                                        target_names=le_Dense.classes_))\n",
        "\n",
        "#   score = metrics.accuracy_score(y_test3_Incep.argmax(axis=1),\t        #ค่า acc\n",
        "#                                               pred3_Incep.argmax(axis=1)\n",
        "#    print(f\"Fold score (accuracy): {score}\")\n",
        "\n",
        "#    print(confusion_matrix(testY3_Incep.argmax(axis=1),\t                       #แสดง confusion_matrix\n",
        "#                        pred3_Incep.argmax(axis=1) ) )"
      ],
      "metadata": {
        "id": "X_7cK6qFZoSo"
      },
      "execution_count": null,
      "outputs": []
    },
    {
      "cell_type": "code",
      "source": [
        "oos_y71 = np.concatenate(oos_y71)\n",
        "oos_pred71 = np.concatenate(oos_pred71)"
      ],
      "metadata": {
        "id": "j2kx7WQfZoSp"
      },
      "execution_count": null,
      "outputs": []
    },
    {
      "cell_type": "code",
      "source": [
        "score71 = metrics.accuracy_score(oos_y71.argmax(axis=1),\t        #ค่า acc\n",
        "                                             oos_pred71.argmax(axis=1) )\n",
        "print(f\"Fold score (accuracy): {score71}\")\n",
        "\n",
        "print(classification_report(oos_y71.argmax(axis=1),\t                #แสดง report ค่า acc, recall, ...\n",
        "                                        oos_pred71.argmax(axis=1),  \n",
        "                                        target_names=le_Dense.classes_))"
      ],
      "metadata": {
        "id": "erksCzh-ZoSq"
      },
      "execution_count": null,
      "outputs": []
    },
    {
      "cell_type": "markdown",
      "source": [
        "## 8) K-fold  -- DenseNet201   \n",
        "\n",
        "### -->ACC = 0.70\n",
        "### -->เวลา 5384.864 วินาที\n",
        "\n",
        "*   BS = 1\n",
        "*   fix weight & bias in layer 0-600\n",
        "*   activation=\"softmax\"\n",
        "*   learning_rate=0.0001\n",
        "*   epoch 30"
      ],
      "metadata": {
        "id": "gLNZ9hrXIq8R"
      }
    },
    {
      "cell_type": "code",
      "source": [
        "train_img_Dense = []\n",
        "for ImageName in tqdm(data_train3['ImageName']):               # รัน ชื่อรูป ในไฟล์ data_test3\n",
        "    image_path = All_3class_dir +'/' + ImageName                   # ดึงรูปในโฟล์เดอร์มาทีละรูป\n",
        "    img = cv2.imread(image_path)                                            # อ่านรูป\n",
        "    img = cv2.resize(img, (224, 224))                                       #ขนาดของ input\n",
        "    train_img_Dense.append(img)\n",
        "\n",
        "data_Dense = np.array(train_img_Dense, dtype=\"float32\") / 255.0"
      ],
      "metadata": {
        "outputId": "68495873-6ea7-425f-f816-87a5265134db",
        "colab": {
          "base_uri": "https://localhost:8080/"
        },
        "id": "UedsHtx-Iq8h"
      },
      "execution_count": null,
      "outputs": [
        {
          "output_type": "stream",
          "name": "stderr",
          "text": [
            "100%|██████████| 451/451 [00:04<00:00, 91.90it/s] \n"
          ]
        }
      ]
    },
    {
      "cell_type": "code",
      "source": [
        "labels_Dense = np.array(data_train3[['NameType']] )        \n",
        "labels_Dense.shape = (len(labels_Dense),) \n",
        "\n",
        "le_Dense = LabelEncoder()                                                                     \n",
        "labels_Dense = le_Dense.fit_transform(labels_Dense)                                         #จะแปลงชื่อ class เป็นตัวเลข 1, 2, 0 \n",
        "\n",
        "labels_Dense = to_categorical(labels_Dense, num_classes=3)                   #shape (180, 3) มีค่าเป็น  [0., 1., 0.]  กับ   [0., 0., 1.] กับ  [1., 0., 0.]"
      ],
      "metadata": {
        "id": "EZGx1HgCIq8i"
      },
      "execution_count": null,
      "outputs": []
    },
    {
      "cell_type": "code",
      "source": [
        "INIT_LR = 1e-1\n",
        "BS = 1\n",
        "EPOCHS = 50\n",
        "\n",
        "aug8 = ImageDataGenerator(\n",
        "\t\trotation_range=15,\t\t\t\t\t\t#องศาการหมุน\n",
        "\t\twidth_shift_range=0.1,\n",
        "\t\theight_shift_range=0.1,\n",
        "\t\tshear_range=0.15,\n",
        "\t\thorizontal_flip=True,\n",
        "\t\tfill_mode=\"nearest\")\n",
        "\n",
        "callback = tf.keras.callbacks.EarlyStopping(\n",
        "                monitor=\"val_accuracy\",\n",
        "                patience=3,\n",
        "                mode=\"max\" )"
      ],
      "metadata": {
        "id": "WcLZiIkSIq8k"
      },
      "execution_count": null,
      "outputs": []
    },
    {
      "cell_type": "code",
      "source": [
        "base_model_Dense = tf.keras.applications.DenseNet201(input_shape=(224, 224, 3), include_top=False, weights=\"imagenet\")\n",
        "len(base_model_Dense.layers)"
      ],
      "metadata": {
        "colab": {
          "base_uri": "https://localhost:8080/"
        },
        "outputId": "2db96e23-4b87-49e5-f2e5-8570f440f1ad",
        "id": "NoVrlmK9Iq8l"
      },
      "execution_count": null,
      "outputs": [
        {
          "output_type": "execute_result",
          "data": {
            "text/plain": [
              "707"
            ]
          },
          "metadata": {},
          "execution_count": 36
        }
      ]
    },
    {
      "cell_type": "code",
      "source": [
        "base_model_Dense.trainable = True\n",
        "for layer in base_model_Dense.layers[:600]:    #fix w & bias in layer 0-600\n",
        "    layer.trainable = False\n",
        "\n",
        "#Add custom head\n",
        "average_pooling_layer = tf.keras.layers.GlobalAveragePooling2D()(base_model_Dense.output)\n",
        "prediction_layer = tf.keras.layers.Dense(units=3, activation=\"softmax\")(average_pooling_layer)   # unit 3\n",
        "model_Dense8 = tf.keras.models.Model(inputs=base_model_Dense.input, outputs=prediction_layer)\n",
        "\n",
        "model_Dense8.compile(optimizer=tf.keras.optimizers.RMSprop(learning_rate=0.0001), loss=\"binary_crossentropy\", metrics=[\"accuracy\"])"
      ],
      "metadata": {
        "id": "QUs4_szdIq8m"
      },
      "execution_count": null,
      "outputs": []
    },
    {
      "cell_type": "code",
      "source": [
        "kf_Dense8 = KFold(5, shuffle=True, random_state=40) \n",
        "\n",
        "oos_y8 = []\n",
        "oos_pred8 = []\n",
        "fold = 0\n",
        "\n",
        "for train, test in kf_Dense8.split(data_Dense):\n",
        "    fold+=1\n",
        "    print(f\"Fold #{fold}\")\n",
        "        \n",
        "    x_train_Dense8 = data_Dense[train]\n",
        "    y_train_Dense8 = labels_Dense[train]\n",
        "    x_test_Dense8 = data_Dense[test]\n",
        "    y_test_Dense8 = labels_Dense[test]\n",
        "\n",
        "    H_Dense8 = model_Dense8.fit( x=aug8.flow(x_train_Dense8, y_train_Dense8, batch_size=BS),\n",
        "\t                                            validation_data=(x_test_Dense8, y_test_Dense8),\n",
        "\t                                            steps_per_epoch=len(x_train_Dense8) // BS,\n",
        "\t                                            epochs=30,  callbacks = [callback])\n",
        "    \n",
        "    pred_Dense8 = model_Dense8.predict(x_test_Dense8)\n",
        "    \n",
        "    oos_y8.append(y_test_Dense8)\n",
        "    oos_pred8.append(pred_Dense8)  \n",
        "    print(classification_report(y_test_Dense8.argmax(axis=1),\t                #แสดง report ค่า acc, recall, ...\n",
        "                                        pred_Dense8.argmax(axis=1),  \n",
        "                                        target_names=le_Dense.classes_))\n",
        "\n",
        "#   score = metrics.accuracy_score(y_test3_Incep.argmax(axis=1),\t        #ค่า acc\n",
        "#                                               pred3_Incep.argmax(axis=1)\n",
        "#    print(f\"Fold score (accuracy): {score}\")\n",
        "\n",
        "#    print(confusion_matrix(testY3_Incep.argmax(axis=1),\t                       #แสดง confusion_matrix\n",
        "#                        pred3_Incep.argmax(axis=1) ) )"
      ],
      "metadata": {
        "id": "Ny6xbdIeIq8m",
        "colab": {
          "base_uri": "https://localhost:8080/"
        },
        "outputId": "bf8ebb7d-0770-4c5c-842b-88a429cc072c"
      },
      "execution_count": null,
      "outputs": [
        {
          "output_type": "stream",
          "name": "stdout",
          "text": [
            "Fold #1\n",
            "Epoch 1/30\n",
            "360/360 [==============================] - 150s 374ms/step - loss: 0.6440 - accuracy: 0.3694 - val_loss: 0.5706 - val_accuracy: 0.5934\n",
            "Epoch 2/30\n",
            "360/360 [==============================] - 143s 396ms/step - loss: 0.5860 - accuracy: 0.5083 - val_loss: 0.5384 - val_accuracy: 0.5385\n",
            "Epoch 3/30\n",
            "360/360 [==============================] - 145s 403ms/step - loss: 0.5471 - accuracy: 0.6139 - val_loss: 0.5017 - val_accuracy: 0.6593\n",
            "Epoch 4/30\n",
            "360/360 [==============================] - 146s 406ms/step - loss: 0.5031 - accuracy: 0.6611 - val_loss: 0.5202 - val_accuracy: 0.5714\n",
            "Epoch 5/30\n",
            "360/360 [==============================] - 145s 403ms/step - loss: 0.4556 - accuracy: 0.7139 - val_loss: 0.4772 - val_accuracy: 0.6484\n",
            "Epoch 6/30\n",
            "360/360 [==============================] - 147s 409ms/step - loss: 0.4224 - accuracy: 0.7000 - val_loss: 0.4539 - val_accuracy: 0.7253\n",
            "Epoch 7/30\n",
            "360/360 [==============================] - 145s 403ms/step - loss: 0.3967 - accuracy: 0.7722 - val_loss: 0.4817 - val_accuracy: 0.6484\n",
            "Epoch 8/30\n",
            "360/360 [==============================] - 145s 403ms/step - loss: 0.3740 - accuracy: 0.7639 - val_loss: 0.5560 - val_accuracy: 0.4945\n",
            "Epoch 9/30\n",
            "360/360 [==============================] - 144s 400ms/step - loss: 0.3497 - accuracy: 0.8000 - val_loss: 0.5879 - val_accuracy: 0.4396\n",
            "              precision    recall  f1-score   support\n",
            "\n",
            "  Lungcancer       0.59      0.36      0.44        28\n",
            "      Normal       1.00      0.21      0.35        33\n",
            "Tuberculosis       0.34      0.77      0.47        30\n",
            "\n",
            "    accuracy                           0.44        91\n",
            "   macro avg       0.64      0.45      0.42        91\n",
            "weighted avg       0.66      0.44      0.42        91\n",
            "\n",
            "Fold #2\n",
            "Epoch 1/30\n",
            "361/361 [==============================] - 140s 388ms/step - loss: 0.3407 - accuracy: 0.8089 - val_loss: 0.3531 - val_accuracy: 0.7889\n",
            "Epoch 2/30\n",
            "361/361 [==============================] - 142s 393ms/step - loss: 0.3122 - accuracy: 0.8199 - val_loss: 0.4943 - val_accuracy: 0.6778\n",
            "Epoch 3/30\n",
            "361/361 [==============================] - 145s 402ms/step - loss: 0.3034 - accuracy: 0.8421 - val_loss: 0.3784 - val_accuracy: 0.7889\n",
            "Epoch 4/30\n",
            "361/361 [==============================] - 147s 407ms/step - loss: 0.2772 - accuracy: 0.8615 - val_loss: 0.3680 - val_accuracy: 0.7889\n",
            "              precision    recall  f1-score   support\n",
            "\n",
            "  Lungcancer       0.89      0.76      0.82        33\n",
            "      Normal       1.00      0.65      0.79        26\n",
            "Tuberculosis       0.64      0.94      0.76        31\n",
            "\n",
            "    accuracy                           0.79        90\n",
            "   macro avg       0.85      0.78      0.79        90\n",
            "weighted avg       0.84      0.79      0.79        90\n",
            "\n",
            "Fold #3\n",
            "Epoch 1/30\n",
            "361/361 [==============================] - 147s 408ms/step - loss: 0.2575 - accuracy: 0.8781 - val_loss: 0.4320 - val_accuracy: 0.6778\n",
            "Epoch 2/30\n",
            "361/361 [==============================] - 144s 399ms/step - loss: 0.2456 - accuracy: 0.8781 - val_loss: 0.4418 - val_accuracy: 0.6778\n",
            "Epoch 3/30\n",
            "361/361 [==============================] - 143s 397ms/step - loss: 0.2202 - accuracy: 0.8947 - val_loss: 0.3907 - val_accuracy: 0.7556\n",
            "Epoch 4/30\n",
            "361/361 [==============================] - 144s 399ms/step - loss: 0.2187 - accuracy: 0.9030 - val_loss: 0.4277 - val_accuracy: 0.7111\n",
            "Epoch 5/30\n",
            "361/361 [==============================] - 152s 422ms/step - loss: 0.1849 - accuracy: 0.9280 - val_loss: 0.3767 - val_accuracy: 0.7556\n",
            "Epoch 6/30\n",
            "361/361 [==============================] - 153s 423ms/step - loss: 0.1697 - accuracy: 0.9307 - val_loss: 0.4193 - val_accuracy: 0.7444\n",
            "              precision    recall  f1-score   support\n",
            "\n",
            "  Lungcancer       0.76      0.76      0.76        29\n",
            "      Normal       1.00      0.70      0.82        33\n",
            "Tuberculosis       0.58      0.79      0.67        28\n",
            "\n",
            "    accuracy                           0.74        90\n",
            "   macro avg       0.78      0.75      0.75        90\n",
            "weighted avg       0.79      0.74      0.75        90\n",
            "\n",
            "Fold #4\n",
            "Epoch 1/30\n",
            "361/361 [==============================] - 148s 410ms/step - loss: 0.1892 - accuracy: 0.9086 - val_loss: 0.2794 - val_accuracy: 0.8222\n",
            "Epoch 2/30\n",
            "361/361 [==============================] - 151s 419ms/step - loss: 0.1778 - accuracy: 0.9197 - val_loss: 0.2762 - val_accuracy: 0.8444\n",
            "Epoch 3/30\n",
            "361/361 [==============================] - 148s 409ms/step - loss: 0.1687 - accuracy: 0.9197 - val_loss: 0.3056 - val_accuracy: 0.8111\n",
            "Epoch 4/30\n",
            "361/361 [==============================] - 149s 412ms/step - loss: 0.1392 - accuracy: 0.9391 - val_loss: 0.4680 - val_accuracy: 0.6444\n",
            "Epoch 5/30\n",
            "361/361 [==============================] - 152s 420ms/step - loss: 0.1254 - accuracy: 0.9474 - val_loss: 0.3516 - val_accuracy: 0.7333\n",
            "              precision    recall  f1-score   support\n",
            "\n",
            "  Lungcancer       1.00      0.60      0.75        30\n",
            "      Normal       1.00      0.61      0.76        31\n",
            "Tuberculosis       0.55      1.00      0.71        29\n",
            "\n",
            "    accuracy                           0.73        90\n",
            "   macro avg       0.85      0.74      0.74        90\n",
            "weighted avg       0.85      0.73      0.74        90\n",
            "\n",
            "Fold #5\n",
            "Epoch 1/30\n",
            "361/361 [==============================] - 142s 393ms/step - loss: 0.1184 - accuracy: 0.9474 - val_loss: 0.2730 - val_accuracy: 0.8444\n",
            "Epoch 2/30\n",
            "361/361 [==============================] - 141s 391ms/step - loss: 0.1134 - accuracy: 0.9446 - val_loss: 0.2706 - val_accuracy: 0.8556\n",
            "Epoch 3/30\n",
            "361/361 [==============================] - 142s 394ms/step - loss: 0.1082 - accuracy: 0.9584 - val_loss: 0.2487 - val_accuracy: 0.8556\n",
            "Epoch 4/30\n",
            "361/361 [==============================] - 143s 396ms/step - loss: 0.0909 - accuracy: 0.9668 - val_loss: 0.2771 - val_accuracy: 0.8000\n",
            "Epoch 5/30\n",
            "361/361 [==============================] - 149s 414ms/step - loss: 0.0706 - accuracy: 0.9695 - val_loss: 0.2773 - val_accuracy: 0.7778\n",
            "              precision    recall  f1-score   support\n",
            "\n",
            "  Lungcancer       0.91      0.70      0.79        30\n",
            "      Normal       1.00      0.64      0.78        28\n",
            "Tuberculosis       0.63      0.97      0.77        32\n",
            "\n",
            "    accuracy                           0.78        90\n",
            "   macro avg       0.85      0.77      0.78        90\n",
            "weighted avg       0.84      0.78      0.78        90\n",
            "\n"
          ]
        }
      ]
    },
    {
      "cell_type": "code",
      "source": [
        "oos_y8 = np.concatenate(oos_y8)\n",
        "oos_pred8 = np.concatenate(oos_pred8)"
      ],
      "metadata": {
        "id": "yoJBMPrfIq8n"
      },
      "execution_count": null,
      "outputs": []
    },
    {
      "cell_type": "code",
      "source": [
        "score8 = metrics.accuracy_score(oos_y8.argmax(axis=1),\t        #ค่า acc\n",
        "                                             oos_pred8.argmax(axis=1) )\n",
        "print(f\"Fold score (accuracy): {score8}\")\n",
        "\n",
        "print(classification_report(oos_y8.argmax(axis=1),\t                #แสดง report ค่า acc, recall, ...\n",
        "                                        oos_pred8.argmax(axis=1),  \n",
        "                                        target_names=le_Dense.classes_))"
      ],
      "metadata": {
        "id": "5DAlQsGGIq8n",
        "colab": {
          "base_uri": "https://localhost:8080/"
        },
        "outputId": "2954a569-6c4c-4043-e250-e476ccdd91cf"
      },
      "execution_count": null,
      "outputs": [
        {
          "output_type": "stream",
          "name": "stdout",
          "text": [
            "Fold score (accuracy): 0.6962305986696231\n",
            "              precision    recall  f1-score   support\n",
            "\n",
            "  Lungcancer       0.83      0.64      0.72       150\n",
            "      Normal       1.00      0.56      0.71       151\n",
            "Tuberculosis       0.53      0.89      0.67       150\n",
            "\n",
            "    accuracy                           0.70       451\n",
            "   macro avg       0.79      0.70      0.70       451\n",
            "weighted avg       0.79      0.70      0.70       451\n",
            "\n"
          ]
        }
      ]
    },
    {
      "cell_type": "markdown",
      "source": [
        "## 8.1) K-fold  -- DenseNet201   \n",
        "\n",
        "### -->ACC = 0.74\n",
        "### -->เวลา 6021.688  วินาที\n",
        "\n",
        "*   BS = 1\n",
        "*   fix weight & bias in layer 0-600\n",
        "*   activation=\"sigmoid\"\n",
        "*   learning_rate=0.0001\n",
        "*   epoch 30"
      ],
      "metadata": {
        "id": "rZhDiNxJJQ8e"
      }
    },
    {
      "cell_type": "code",
      "source": [
        "train_img_Dense = []\n",
        "for ImageName in tqdm(data_train3['ImageName']):               # รัน ชื่อรูป ในไฟล์ data_test3\n",
        "    image_path = All_3class_dir +'/' + ImageName                   # ดึงรูปในโฟล์เดอร์มาทีละรูป\n",
        "    img = cv2.imread(image_path)                                            # อ่านรูป\n",
        "    img = cv2.resize(img, (224, 224))                                       #ขนาดของ input\n",
        "    train_img_Dense.append(img)\n",
        "\n",
        "data_Dense = np.array(train_img_Dense, dtype=\"float32\") / 255.0"
      ],
      "metadata": {
        "outputId": "6a5c6827-17a8-416c-d6a1-3d2f8c6d26d9",
        "colab": {
          "base_uri": "https://localhost:8080/"
        },
        "id": "CsJaziUsJQ8f"
      },
      "execution_count": null,
      "outputs": [
        {
          "output_type": "stream",
          "name": "stderr",
          "text": [
            "100%|██████████| 451/451 [00:35<00:00, 12.85it/s]\n"
          ]
        }
      ]
    },
    {
      "cell_type": "code",
      "source": [
        "labels_Dense = np.array(data_train3[['NameType']] )        \n",
        "labels_Dense.shape = (len(labels_Dense),) \n",
        "\n",
        "le_Dense = LabelEncoder()                                                                     \n",
        "labels_Dense = le_Dense.fit_transform(labels_Dense)                                         #จะแปลงชื่อ class เป็นตัวเลข 1, 2, 0 \n",
        "\n",
        "labels_Dense = to_categorical(labels_Dense, num_classes=3)                   #shape (180, 3) มีค่าเป็น  [0., 1., 0.]  กับ   [0., 0., 1.] กับ  [1., 0., 0.]"
      ],
      "metadata": {
        "id": "tADiyQFOJQ8h"
      },
      "execution_count": null,
      "outputs": []
    },
    {
      "cell_type": "code",
      "source": [
        "INIT_LR = 1e-1\n",
        "BS = 1\n",
        "EPOCHS = 50\n",
        "\n",
        "aug81 = ImageDataGenerator(\n",
        "\t\trotation_range=15,\t\t\t\t\t\t#องศาการหมุน\n",
        "\t\twidth_shift_range=0.1,\n",
        "\t\theight_shift_range=0.1,\n",
        "\t\tshear_range=0.15,\n",
        "\t\thorizontal_flip=True,\n",
        "\t\tfill_mode=\"nearest\")\n",
        "\n",
        "callback = tf.keras.callbacks.EarlyStopping(\n",
        "                monitor=\"val_accuracy\",\n",
        "                patience=3,\n",
        "                mode=\"max\" )"
      ],
      "metadata": {
        "id": "cMUMg0xvJQ8h"
      },
      "execution_count": null,
      "outputs": []
    },
    {
      "cell_type": "code",
      "source": [
        "base_model_Dense = tf.keras.applications.DenseNet201(input_shape=(224, 224, 3), include_top=False, weights=\"imagenet\")\n",
        "len(base_model_Dense.layers)"
      ],
      "metadata": {
        "colab": {
          "base_uri": "https://localhost:8080/"
        },
        "outputId": "efd09502-a0d9-467b-efbc-de166df8efda",
        "id": "dNQFfoHgJQ8i"
      },
      "execution_count": null,
      "outputs": [
        {
          "output_type": "stream",
          "name": "stdout",
          "text": [
            "Downloading data from https://storage.googleapis.com/tensorflow/keras-applications/densenet/densenet201_weights_tf_dim_ordering_tf_kernels_notop.h5\n",
            "74842112/74836368 [==============================] - 1s 0us/step\n",
            "74850304/74836368 [==============================] - 1s 0us/step\n"
          ]
        },
        {
          "output_type": "execute_result",
          "data": {
            "text/plain": [
              "707"
            ]
          },
          "metadata": {},
          "execution_count": 17
        }
      ]
    },
    {
      "cell_type": "code",
      "source": [
        "base_model_Dense.trainable = True\n",
        "for layer in base_model_Dense.layers[:600]:    #fix w & bias in layer 0-600\n",
        "    layer.trainable = False\n",
        "\n",
        "#Add custom head\n",
        "average_pooling_layer = tf.keras.layers.GlobalAveragePooling2D()(base_model_Dense.output)\n",
        "prediction_layer = tf.keras.layers.Dense(units=3, activation=\"sigmoid\")(average_pooling_layer)   # unit 3\n",
        "model_Dense81 = tf.keras.models.Model(inputs=base_model_Dense.input, outputs=prediction_layer)\n",
        "\n",
        "model_Dense81.compile(optimizer=tf.keras.optimizers.RMSprop(learning_rate=0.0001), loss=\"binary_crossentropy\", metrics=[\"accuracy\"])"
      ],
      "metadata": {
        "id": "39DGoz8LJQ8i"
      },
      "execution_count": null,
      "outputs": []
    },
    {
      "cell_type": "code",
      "source": [
        "kf_Dense81 = KFold(5, shuffle=True, random_state=40) \n",
        "\n",
        "oos_y81 = []\n",
        "oos_pred81 = []\n",
        "fold = 0\n",
        "\n",
        "for train, test in kf_Dense81.split(data_Dense):\n",
        "    fold+=1\n",
        "    print(f\"Fold #{fold}\")\n",
        "        \n",
        "    x_train_Dense81 = data_Dense[train]\n",
        "    y_train_Dense81 = labels_Dense[train]\n",
        "    x_test_Dense81 = data_Dense[test]\n",
        "    y_test_Dense81 = labels_Dense[test]\n",
        "\n",
        "    H_Dense81 = model_Dense81.fit( x=aug81.flow(x_train_Dense81, y_train_Dense81, batch_size=BS),\n",
        "\t                                            validation_data=(x_test_Dense81, y_test_Dense81),\n",
        "\t                                            steps_per_epoch=len(x_train_Dense81) // BS,\n",
        "\t                                            epochs=30,  callbacks = [callback])\n",
        "    \n",
        "    pred_Dense81 = model_Dense81.predict(x_test_Dense81)\n",
        "    \n",
        "    oos_y81.append(y_test_Dense81)\n",
        "    oos_pred81.append(pred_Dense81)  \n",
        "    print(classification_report(y_test_Dense81.argmax(axis=1),\t                #แสดง report ค่า acc, recall, ...\n",
        "                                        pred_Dense81.argmax(axis=1),  \n",
        "                                        target_names=le_Dense.classes_))\n",
        "\n",
        "#   score = metrics.accuracy_score(y_test3_Incep.argmax(axis=1),\t        #ค่า acc\n",
        "#                                               pred3_Incep.argmax(axis=1)\n",
        "#    print(f\"Fold score (accuracy): {score}\")\n",
        "\n",
        "#    print(confusion_matrix(testY3_Incep.argmax(axis=1),\t                       #แสดง confusion_matrix\n",
        "#                        pred3_Incep.argmax(axis=1) ) )"
      ],
      "metadata": {
        "colab": {
          "base_uri": "https://localhost:8080/"
        },
        "id": "rIRZ_wNRJQ8j",
        "outputId": "a9419029-77d8-4e89-860c-eec39bb4f18c"
      },
      "execution_count": null,
      "outputs": [
        {
          "output_type": "stream",
          "name": "stdout",
          "text": [
            "Fold #1\n",
            "Epoch 1/30\n",
            "360/360 [==============================] - 189s 444ms/step - loss: 0.6305 - accuracy: 0.3889 - val_loss: 0.5381 - val_accuracy: 0.6593\n",
            "Epoch 2/30\n",
            "360/360 [==============================] - 205s 568ms/step - loss: 0.5927 - accuracy: 0.5250 - val_loss: 0.5139 - val_accuracy: 0.6813\n",
            "Epoch 3/30\n",
            "360/360 [==============================] - 222s 618ms/step - loss: 0.5457 - accuracy: 0.6472 - val_loss: 0.5171 - val_accuracy: 0.6813\n",
            "Epoch 4/30\n",
            "360/360 [==============================] - 265s 737ms/step - loss: 0.4964 - accuracy: 0.6694 - val_loss: 0.5114 - val_accuracy: 0.6484\n",
            "Epoch 5/30\n",
            "360/360 [==============================] - 272s 756ms/step - loss: 0.4598 - accuracy: 0.7028 - val_loss: 0.4777 - val_accuracy: 0.6484\n",
            "              precision    recall  f1-score   support\n",
            "\n",
            "  Lungcancer       0.67      0.07      0.13        28\n",
            "      Normal       0.86      0.97      0.91        33\n",
            "Tuberculosis       0.49      0.83      0.62        30\n",
            "\n",
            "    accuracy                           0.65        91\n",
            "   macro avg       0.67      0.62      0.55        91\n",
            "weighted avg       0.68      0.65      0.57        91\n",
            "\n",
            "Fold #2\n",
            "Epoch 1/30\n",
            "361/361 [==============================] - 178s 492ms/step - loss: 0.4280 - accuracy: 0.7147 - val_loss: 0.4434 - val_accuracy: 0.7444\n",
            "Epoch 2/30\n",
            "361/361 [==============================] - 335s 928ms/step - loss: 0.3881 - accuracy: 0.7313 - val_loss: 0.4492 - val_accuracy: 0.7444\n",
            "Epoch 3/30\n",
            "361/361 [==============================] - 335s 929ms/step - loss: 0.3715 - accuracy: 0.7784 - val_loss: 0.4465 - val_accuracy: 0.7222\n",
            "Epoch 4/30\n",
            "361/361 [==============================] - 357s 988ms/step - loss: 0.3419 - accuracy: 0.8227 - val_loss: 0.4262 - val_accuracy: 0.7444\n",
            "              precision    recall  f1-score   support\n",
            "\n",
            "  Lungcancer       0.72      0.70      0.71        33\n",
            "      Normal       1.00      0.81      0.89        26\n",
            "Tuberculosis       0.62      0.74      0.68        31\n",
            "\n",
            "    accuracy                           0.74        90\n",
            "   macro avg       0.78      0.75      0.76        90\n",
            "weighted avg       0.77      0.74      0.75        90\n",
            "\n",
            "Fold #3\n",
            "Epoch 1/30\n",
            "361/361 [==============================] - 168s 465ms/step - loss: 0.3268 - accuracy: 0.8199 - val_loss: 0.3973 - val_accuracy: 0.7667\n",
            "Epoch 2/30\n",
            "361/361 [==============================] - 281s 778ms/step - loss: 0.3016 - accuracy: 0.8421 - val_loss: 0.4295 - val_accuracy: 0.7889\n",
            "Epoch 3/30\n",
            "361/361 [==============================] - 301s 834ms/step - loss: 0.2878 - accuracy: 0.8532 - val_loss: 0.4139 - val_accuracy: 0.7444\n",
            "Epoch 4/30\n",
            "361/361 [==============================] - 290s 804ms/step - loss: 0.2561 - accuracy: 0.8560 - val_loss: 0.5191 - val_accuracy: 0.6000\n",
            "Epoch 5/30\n",
            "361/361 [==============================] - 324s 897ms/step - loss: 0.2405 - accuracy: 0.8864 - val_loss: 0.4514 - val_accuracy: 0.6778\n",
            "              precision    recall  f1-score   support\n",
            "\n",
            "  Lungcancer       0.82      0.48      0.61        29\n",
            "      Normal       0.96      0.70      0.81        33\n",
            "Tuberculosis       0.49      0.86      0.62        28\n",
            "\n",
            "    accuracy                           0.68        90\n",
            "   macro avg       0.76      0.68      0.68        90\n",
            "weighted avg       0.77      0.68      0.69        90\n",
            "\n",
            "Fold #4\n",
            "Epoch 1/30\n",
            "361/361 [==============================] - 167s 464ms/step - loss: 0.2528 - accuracy: 0.8726 - val_loss: 0.3741 - val_accuracy: 0.7111\n",
            "Epoch 2/30\n",
            "361/361 [==============================] - 150s 415ms/step - loss: 0.2273 - accuracy: 0.8837 - val_loss: 0.2891 - val_accuracy: 0.8667\n",
            "Epoch 3/30\n",
            "361/361 [==============================] - 151s 419ms/step - loss: 0.2248 - accuracy: 0.8975 - val_loss: 0.4244 - val_accuracy: 0.6444\n",
            "Epoch 4/30\n",
            "361/361 [==============================] - 150s 415ms/step - loss: 0.2013 - accuracy: 0.9114 - val_loss: 0.3447 - val_accuracy: 0.7667\n",
            "Epoch 5/30\n",
            "361/361 [==============================] - 149s 412ms/step - loss: 0.1988 - accuracy: 0.9169 - val_loss: 0.3422 - val_accuracy: 0.7778\n",
            "              precision    recall  f1-score   support\n",
            "\n",
            "  Lungcancer       1.00      0.53      0.70        30\n",
            "      Normal       0.96      0.81      0.88        31\n",
            "Tuberculosis       0.60      1.00      0.75        29\n",
            "\n",
            "    accuracy                           0.78        90\n",
            "   macro avg       0.86      0.78      0.78        90\n",
            "weighted avg       0.86      0.78      0.78        90\n",
            "\n",
            "Fold #5\n",
            "Epoch 1/30\n",
            "361/361 [==============================] - 147s 409ms/step - loss: 0.1909 - accuracy: 0.9058 - val_loss: 0.3184 - val_accuracy: 0.8333\n",
            "Epoch 2/30\n",
            "361/361 [==============================] - 150s 414ms/step - loss: 0.1662 - accuracy: 0.9224 - val_loss: 0.2868 - val_accuracy: 0.8556\n",
            "Epoch 3/30\n",
            "361/361 [==============================] - 150s 415ms/step - loss: 0.1616 - accuracy: 0.9141 - val_loss: 0.2764 - val_accuracy: 0.8444\n",
            "Epoch 4/30\n",
            "361/361 [==============================] - 151s 419ms/step - loss: 0.1525 - accuracy: 0.9169 - val_loss: 0.2506 - val_accuracy: 0.8556\n",
            "Epoch 5/30\n",
            "361/361 [==============================] - 150s 417ms/step - loss: 0.1397 - accuracy: 0.9280 - val_loss: 0.2938 - val_accuracy: 0.8444\n",
            "              precision    recall  f1-score   support\n",
            "\n",
            "  Lungcancer       0.87      0.90      0.89        30\n",
            "      Normal       1.00      0.68      0.81        28\n",
            "Tuberculosis       0.75      0.94      0.83        32\n",
            "\n",
            "    accuracy                           0.84        90\n",
            "   macro avg       0.87      0.84      0.84        90\n",
            "weighted avg       0.87      0.84      0.84        90\n",
            "\n"
          ]
        }
      ]
    },
    {
      "cell_type": "code",
      "source": [
        "oos_y81 = np.concatenate(oos_y81)\n",
        "oos_pred81 = np.concatenate(oos_pred81)"
      ],
      "metadata": {
        "id": "-iYs9_O7JQ8k"
      },
      "execution_count": null,
      "outputs": []
    },
    {
      "cell_type": "code",
      "source": [
        "score81 = metrics.accuracy_score(oos_y81.argmax(axis=1),\t        #ค่า acc\n",
        "                                             oos_pred81.argmax(axis=1) )\n",
        "print(f\"Fold score (accuracy): {score81}\")\n",
        "\n",
        "print(classification_report(oos_y81.argmax(axis=1),\t                #แสดง report ค่า acc, recall, ...\n",
        "                                        oos_pred81.argmax(axis=1),  \n",
        "                                        target_names=le_Dense.classes_))"
      ],
      "metadata": {
        "colab": {
          "base_uri": "https://localhost:8080/"
        },
        "id": "RPRndQhhJQ8k",
        "outputId": "cd774f65-2300-4042-9946-7a1ffe160172"
      },
      "execution_count": null,
      "outputs": [
        {
          "output_type": "stream",
          "name": "stdout",
          "text": [
            "Fold score (accuracy): 0.738359201773836\n",
            "              precision    recall  f1-score   support\n",
            "\n",
            "  Lungcancer       0.83      0.55      0.66       150\n",
            "      Normal       0.94      0.79      0.86       151\n",
            "Tuberculosis       0.58      0.87      0.70       150\n",
            "\n",
            "    accuracy                           0.74       451\n",
            "   macro avg       0.79      0.74      0.74       451\n",
            "weighted avg       0.79      0.74      0.74       451\n",
            "\n"
          ]
        }
      ]
    }
  ]
}