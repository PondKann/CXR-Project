{
  "nbformat": 4,
  "nbformat_minor": 0,
  "metadata": {
    "colab": {
      "name": "Score_CAM.ipynb",
      "provenance": [],
      "authorship_tag": "ABX9TyNSst/tybVRrxSAXzAHGs1+",
      "include_colab_link": true
    },
    "kernelspec": {
      "name": "python3",
      "display_name": "Python 3"
    },
    "language_info": {
      "name": "python"
    },
    "accelerator": "GPU"
  },
  "cells": [
    {
      "cell_type": "markdown",
      "metadata": {
        "id": "view-in-github",
        "colab_type": "text"
      },
      "source": [
        "<a href=\"https://colab.research.google.com/github/PondKann/CXR-Project/blob/main/Score_CAM.ipynb\" target=\"_parent\"><img src=\"https://colab.research.google.com/assets/colab-badge.svg\" alt=\"Open In Colab\"/></a>"
      ]
    },
    {
      "cell_type": "markdown",
      "metadata": {
        "id": "Kpnf_sft9x4-"
      },
      "source": [
        "#### import"
      ]
    },
    {
      "cell_type": "code",
      "execution_count": 1,
      "metadata": {
        "id": "Psng6eJUdzUG"
      },
      "outputs": [],
      "source": [
        "import os\n",
        "import tensorflow as tf\n",
        "import matplotlib.pyplot as plt\n",
        "%matplotlib inline\n",
        "from tensorflow.keras.preprocessing.image import ImageDataGenerator\n",
        "from tensorflow.keras.callbacks import EarlyStopping, ReduceLROnPlateau, ModelCheckpoint\n",
        "import cv2\n",
        "import numpy as np\n",
        "import pandas as pd\n",
        "from torchsummary import summary\n",
        "from skimage.io import imread, imsave\n",
        "from tqdm import tqdm\n",
        "\n",
        "from sklearn.model_selection import train_test_split\n",
        "from sklearn.metrics import accuracy_score, confusion_matrix\n",
        "\n",
        "import PIL\n",
        "from PIL import Image\n"
      ]
    },
    {
      "cell_type": "code",
      "execution_count": 2,
      "metadata": {
        "id": "6f-PDKiLl2iC"
      },
      "outputs": [],
      "source": [
        "# set the matplotlib backend so figures can be saved in the background\n",
        "import matplotlib\n",
        "matplotlib.use(\"Agg\")\n",
        "\n",
        "from sklearn.preprocessing import LabelEncoder\n",
        "from sklearn.metrics import classification_report\n",
        "from tensorflow.keras.optimizers import SGD, Adam, RMSprop\n",
        "from tensorflow.keras.utils import to_categorical\n",
        "from tensorflow.keras.models import load_model, Model\n",
        "from tensorflow.keras import datasets, layers, models\n",
        "\n",
        "from imutils import paths\n",
        "import argparse\n",
        "\n",
        "from sklearn.model_selection import KFold\n",
        "from sklearn import metrics\n",
        "from scipy.stats import zscore\n",
        "\n",
        "\n",
        "import matplotlib.image as mpimg\n",
        "from matplotlib.pyplot import savefig\n",
        "\n",
        "import itertools\n",
        "from sklearn.metrics import confusion_matrix\n",
        "from sklearn.utils.multiclass import unique_labels"
      ]
    },
    {
      "cell_type": "markdown",
      "metadata": {
        "id": "Z1e52UqdwPp8"
      },
      "source": [
        "#### Load data // KKU"
      ]
    },
    {
      "cell_type": "code",
      "execution_count": null,
      "metadata": {
        "colab": {
          "base_uri": "https://localhost:8080/"
        },
        "id": "DlcukkP7fnhB",
        "outputId": "dc82bc3f-9b49-4c7b-bcad-6c1b581f36d4"
      },
      "outputs": [
        {
          "output_type": "stream",
          "name": "stdout",
          "text": [
            "Mounted at /content/drive\n"
          ]
        }
      ],
      "source": [
        "from google.colab import drive\n",
        "drive.mount('/content/drive')"
      ]
    },
    {
      "cell_type": "code",
      "execution_count": null,
      "metadata": {
        "id": "0w8suy5ofqx_"
      },
      "outputs": [],
      "source": [
        "data_dir = '/content/drive/My Drive/Senior Project/CXR Image3class/Image'"
      ]
    },
    {
      "cell_type": "markdown",
      "metadata": {
        "id": "xhqPQxA42jeC"
      },
      "source": [
        "train 3 class"
      ]
    },
    {
      "cell_type": "code",
      "execution_count": null,
      "metadata": {
        "id": "-Jrg5mt_RvJT"
      },
      "outputs": [],
      "source": [
        "Normal151_dir = os.path.join(data_dir,'Normal151')\n",
        "TB150_dir = os.path.join(data_dir,'TB150')\n",
        "CA150_dir = os.path.join(data_dir,'CA150')\n",
        "\n",
        "All_3class_dir = os.path.join(data_dir,'All_3class')"
      ]
    },
    {
      "cell_type": "markdown",
      "source": [
        ""
      ],
      "metadata": {
        "id": "TdmiFUwh-BT_"
      }
    },
    {
      "cell_type": "markdown",
      "metadata": {
        "id": "4_dJIpAJ3n_I"
      },
      "source": [
        "#### Load data // Gmail"
      ]
    },
    {
      "cell_type": "code",
      "execution_count": 3,
      "metadata": {
        "colab": {
          "base_uri": "https://localhost:8080/"
        },
        "outputId": "4a828a82-c6e6-4e5d-d802-6a7f43944976",
        "id": "X9hd2pU13n_J"
      },
      "outputs": [
        {
          "output_type": "stream",
          "name": "stdout",
          "text": [
            "Mounted at /content/drive\n"
          ]
        }
      ],
      "source": [
        "from google.colab import drive\n",
        "drive.mount('/content/drive')"
      ]
    },
    {
      "cell_type": "code",
      "execution_count": 4,
      "metadata": {
        "id": "CCHunkNk3n_J"
      },
      "outputs": [],
      "source": [
        "data_dir = '/content/drive/My Drive/Senior Project/CXR Image3class'"
      ]
    },
    {
      "cell_type": "markdown",
      "metadata": {
        "id": "JwTPsWNE3n_J"
      },
      "source": [
        "train 3 class"
      ]
    },
    {
      "cell_type": "code",
      "execution_count": 5,
      "metadata": {
        "id": "nrXH05fh3n_K"
      },
      "outputs": [],
      "source": [
        "Normal151_dir = os.path.join(data_dir,'Normal151')\n",
        "TB150_dir = os.path.join(data_dir,'TB150')\n",
        "CA150_dir = os.path.join(data_dir,'CA150')\n",
        "\n",
        "All_3class_dir = os.path.join(data_dir,'All_3class')"
      ]
    },
    {
      "cell_type": "markdown",
      "source": [
        "# ส่วนใหม่"
      ],
      "metadata": {
        "id": "i5V5DnHg3n_K"
      }
    },
    {
      "cell_type": "code",
      "source": [
        "from keras.preprocessing.image import load_img\n",
        "from keras.preprocessing.image import img_to_array\n",
        "from keras.preprocessing.image import array_to_img"
      ],
      "metadata": {
        "id": "x1y7zF409WY-"
      },
      "execution_count": 3,
      "outputs": []
    },
    {
      "cell_type": "code",
      "source": [
        "image = '/content/tb12.jpg'"
      ],
      "metadata": {
        "id": "8nnRFAQk9DkQ"
      },
      "execution_count": 4,
      "outputs": []
    },
    {
      "cell_type": "code",
      "source": [
        "image = load_img('/content/plastic.jpg', target_size= (224,224))\n",
        "img = img_to_array(image)"
      ],
      "metadata": {
        "id": "D-GM0TP-9Dh0"
      },
      "execution_count": 5,
      "outputs": []
    },
    {
      "cell_type": "code",
      "source": [
        "img.shape"
      ],
      "metadata": {
        "colab": {
          "base_uri": "https://localhost:8080/"
        },
        "id": "OOLvuG4o-qX4",
        "outputId": "f77e4915-dd51-4b9a-d670-4bc4c33b39d8"
      },
      "execution_count": 6,
      "outputs": [
        {
          "output_type": "execute_result",
          "data": {
            "text/plain": [
              "(224, 224, 3)"
            ]
          },
          "metadata": {},
          "execution_count": 6
        }
      ]
    },
    {
      "cell_type": "code",
      "source": [
        "img = np.expand_dims(img, axis=0)"
      ],
      "metadata": {
        "id": "bvMEEQcT95we"
      },
      "execution_count": 7,
      "outputs": []
    },
    {
      "cell_type": "code",
      "source": [
        "img.shape"
      ],
      "metadata": {
        "colab": {
          "base_uri": "https://localhost:8080/"
        },
        "id": "oGI14KB2-mVo",
        "outputId": "86653818-6a6c-4642-e02b-9b65ed747403"
      },
      "execution_count": 8,
      "outputs": [
        {
          "output_type": "execute_result",
          "data": {
            "text/plain": [
              "(1, 224, 224, 3)"
            ]
          },
          "metadata": {},
          "execution_count": 8
        }
      ]
    },
    {
      "cell_type": "code",
      "source": [
        "from keras.applications.vgg16 import preprocess_input"
      ],
      "metadata": {
        "id": "lzXIfyVm_M65"
      },
      "execution_count": 9,
      "outputs": []
    },
    {
      "cell_type": "code",
      "source": [
        "img = preprocess_input(img)"
      ],
      "metadata": {
        "id": "i9mki6p3-xXb"
      },
      "execution_count": 10,
      "outputs": []
    },
    {
      "cell_type": "code",
      "source": [
        "img.shape"
      ],
      "metadata": {
        "colab": {
          "base_uri": "https://localhost:8080/"
        },
        "id": "vuzGVPpl_THC",
        "outputId": "b02003d3-4022-44b1-d487-731f5d440653"
      },
      "execution_count": 11,
      "outputs": [
        {
          "output_type": "execute_result",
          "data": {
            "text/plain": [
              "(1, 224, 224, 3)"
            ]
          },
          "metadata": {},
          "execution_count": 11
        }
      ]
    },
    {
      "cell_type": "code",
      "source": [
        "img"
      ],
      "metadata": {
        "colab": {
          "base_uri": "https://localhost:8080/"
        },
        "id": "Bjo1C8U-_UKj",
        "outputId": "90327c5e-cb17-4a10-a993-d84d0fd1fd5c"
      },
      "execution_count": 12,
      "outputs": [
        {
          "output_type": "execute_result",
          "data": {
            "text/plain": [
              "array([[[[-55.939003  ,   0.22100067, -57.68      ],\n",
              "         [-50.939003  ,   5.2210007 , -52.68      ],\n",
              "         [-41.939003  ,  15.221001  , -44.68      ],\n",
              "         ...,\n",
              "         [-63.939003  , -14.778999  , -75.68      ],\n",
              "         [-80.939     , -28.779     , -90.68      ],\n",
              "         [-35.939003  ,  16.221     , -45.68      ]],\n",
              "\n",
              "        [[-43.939003  ,  12.221001  , -45.68      ],\n",
              "         [-49.939003  ,   6.2210007 , -51.68      ],\n",
              "         [-34.939003  ,  22.221     , -37.68      ],\n",
              "         ...,\n",
              "         [-38.939003  ,  13.221001  , -48.68      ],\n",
              "         [-52.939003  ,  -1.7789993 , -60.68      ],\n",
              "         [-31.939003  ,  19.221     , -39.68      ]],\n",
              "\n",
              "        [[-40.939003  ,  15.221001  , -42.68      ],\n",
              "         [-41.939003  ,  14.221001  , -43.68      ],\n",
              "         [-12.939003  ,  44.221     , -15.68      ],\n",
              "         ...,\n",
              "         [-59.939003  ,  -8.778999  , -67.68      ],\n",
              "         [-23.939003  ,  26.221     , -30.68      ],\n",
              "         [-22.939003  ,  27.221     , -29.68      ]],\n",
              "\n",
              "        ...,\n",
              "\n",
              "        [[-40.939003  , -22.779     , -30.68      ],\n",
              "         [ 25.060997  ,  36.221     ,  35.32      ],\n",
              "         [-18.939003  , -10.778999  , -32.68      ],\n",
              "         ...,\n",
              "         [-50.939003  , -31.779     , -69.68      ],\n",
              "         [-49.939003  , -31.779     , -67.68      ],\n",
              "         [ -6.939003  ,  14.221001  , -23.68      ]],\n",
              "\n",
              "        [[ 35.060997  ,  53.221     ,  45.32      ],\n",
              "         [-28.939003  , -17.779     , -18.68      ],\n",
              "         [-42.939003  , -34.779     , -56.68      ],\n",
              "         ...,\n",
              "         [ -0.939003  ,  18.221     , -19.68      ],\n",
              "         [-61.939003  , -43.779     , -79.68      ],\n",
              "         [-80.939     , -59.779     , -96.68      ]],\n",
              "\n",
              "        [[ -0.939003  ,  17.221     ,   9.32      ],\n",
              "         [ 13.060997  ,  24.221     ,  23.32      ],\n",
              "         [-79.939     , -71.779     , -93.68      ],\n",
              "         ...,\n",
              "         [-14.939003  ,   6.2210007 , -31.68      ],\n",
              "         [-31.939003  , -13.778999  , -47.68      ],\n",
              "         [-35.939003  , -16.779     , -48.68      ]]]], dtype=float32)"
            ]
          },
          "metadata": {},
          "execution_count": 12
        }
      ]
    },
    {
      "cell_type": "code",
      "source": [
        "plt.imshow(image)"
      ],
      "metadata": {
        "colab": {
          "base_uri": "https://localhost:8080/"
        },
        "id": "sn8x8lU5_sfS",
        "outputId": "61cb23ca-9a56-4fbe-9681-bac56221717a"
      },
      "execution_count": 13,
      "outputs": [
        {
          "output_type": "execute_result",
          "data": {
            "text/plain": [
              "<matplotlib.image.AxesImage at 0x7fd9b74e1f90>"
            ]
          },
          "metadata": {},
          "execution_count": 13
        }
      ]
    },
    {
      "cell_type": "code",
      "source": [
        "image"
      ],
      "metadata": {
        "colab": {
          "base_uri": "https://localhost:8080/",
          "height": 241
        },
        "id": "CxyW8JW1AWD6",
        "outputId": "4da04a7c-d8f6-4db5-bba2-42d95f2fe720"
      },
      "execution_count": 14,
      "outputs": [
        {
          "output_type": "execute_result",
          "data": {
            "text/plain": [
              "<PIL.Image.Image image mode=RGB size=224x224 at 0x7FD9B7C0A710>"
            ],
            "image/png": "[encoded data removed]"
          },
          "metadata": {},
          "execution_count": 14
        }
      ]
    },
    {
      "cell_type": "code",
      "source": [
        "model = tf.keras.applications.VGG16(weights=\"imagenet\")"
      ],
      "metadata": {
        "id": "zauPMIpl_btl"
      },
      "execution_count": 15,
      "outputs": []
    },
    {
      "cell_type": "code",
      "source": [
        "pred = model.predict(img)"
      ],
      "metadata": {
        "id": "oSIWZcFjAJLg"
      },
      "execution_count": 16,
      "outputs": []
    },
    {
      "cell_type": "code",
      "source": [
        "from keras.applications.imagenet_utils import decode_predictions\n",
        "print( \"predict\", decode_predictions(pred, top=5)[0])"
      ],
      "metadata": {
        "colab": {
          "base_uri": "https://localhost:8080/"
        },
        "id": "MdbAPm_SAqPj",
        "outputId": "63d3366f-b88b-4ed2-d156-145c1a5283bb"
      },
      "execution_count": 17,
      "outputs": [
        {
          "output_type": "stream",
          "name": "stdout",
          "text": [
            "predict [('n03958227', 'plastic_bag', 0.5561434), ('n03709823', 'mailbag', 0.17960724), ('n04026417', 'purse', 0.04383272), ('n04204238', 'shopping_basket', 0.043442283), ('n03482405', 'hamper', 0.016519293)]\n"
          ]
        }
      ]
    },
    {
      "cell_type": "code",
      "source": [
        "target = np.argmax(pred, axis=1).item()\n",
        "print(target)"
      ],
      "metadata": {
        "colab": {
          "base_uri": "https://localhost:8080/"
        },
        "id": "PbwwI4C8F_Zj",
        "outputId": "d50bb7f7-4faa-41bf-8e37-a1c21071912a"
      },
      "execution_count": 18,
      "outputs": [
        {
          "output_type": "stream",
          "name": "stdout",
          "text": [
            "728\n"
          ]
        }
      ]
    },
    {
      "cell_type": "code",
      "source": [
        "layer_outputs = model.layers[-6].output    # layer สุดท้าย เป็น output \n",
        "activation_model = Model(inputs=model.input, outputs=layer_outputs)"
      ],
      "metadata": {
        "id": "w4SMfoWqF_Tx"
      },
      "execution_count": 19,
      "outputs": []
    },
    {
      "cell_type": "code",
      "source": [
        "layer_outputs.shape"
      ],
      "metadata": {
        "colab": {
          "base_uri": "https://localhost:8080/"
        },
        "id": "nJbbJmM9SIrD",
        "outputId": "d05c1464-854b-4c82-d7ba-937441a8677e"
      },
      "execution_count": 34,
      "outputs": [
        {
          "output_type": "execute_result",
          "data": {
            "text/plain": [
              "TensorShape([None, 14, 14, 512])"
            ]
          },
          "metadata": {},
          "execution_count": 34
        }
      ]
    },
    {
      "cell_type": "code",
      "source": [
        "p = [2,5,6,9,7,8,5,1,2,3,6,4]\n",
        "p[-4:]"
      ],
      "metadata": {
        "colab": {
          "base_uri": "https://localhost:8080/"
        },
        "id": "JR8lGaFDYdnh",
        "outputId": "b05c371d-22a4-4377-f46f-5e728b11f667"
      },
      "execution_count": 36,
      "outputs": [
        {
          "output_type": "execute_result",
          "data": {
            "text/plain": [
              "[2, 3, 6, 4]"
            ]
          },
          "metadata": {},
          "execution_count": 36
        }
      ]
    },
    {
      "cell_type": "code",
      "source": [
        "maps2 = model.layers[-6].output"
      ],
      "metadata": {
        "id": "kKtRe7KgYWi1"
      },
      "execution_count": null,
      "outputs": []
    },
    {
      "cell_type": "code",
      "source": [
        "maps = model.layers[-6].output    # 6 layer สุดท้าย เป็น output "
      ],
      "metadata": {
        "id": "6aN_N9JJYThm"
      },
      "execution_count": null,
      "outputs": []
    },
    {
      "cell_type": "code",
      "source": [
        "maps.shape"
      ],
      "metadata": {
        "id": "_A3m7W6kWYa2"
      },
      "execution_count": null,
      "outputs": []
    },
    {
      "cell_type": "code",
      "source": [
        "# from numpy.core.fromnumeric import resize\n",
        "from skimage.transform import resize\n",
        "def upsample(input_shape, image):\n",
        "    input_width = input_shape[0]\n",
        "    input_height = input_shape[1]\n",
        "    image = resize(image,( input_width, input_height), preserve_range = True )\n",
        "    return image"
      ],
      "metadata": {
        "id": "iJKbdsAkK2vu"
      },
      "execution_count": 29,
      "outputs": []
    },
    {
      "cell_type": "code",
      "source": [
        "upsampled_activations = []\n",
        "for x in range(512):\n",
        "    upsampled_activations.append(upsample([224,224], layer_outputs[0,:,:,x]))"
      ],
      "metadata": {
        "id": "NiSBhyXnWc9u"
      },
      "execution_count": null,
      "outputs": []
    },
    {
      "cell_type": "code",
      "source": [
        "upsampled_activations = np.array(upsampled_activations)\n",
        "upsampled_activations.shape"
      ],
      "metadata": {
        "id": "LkjWC63GWeXj"
      },
      "execution_count": 31,
      "outputs": []
    },
    {
      "cell_type": "code",
      "source": [
        "normalized_activations = []\n",
        "for n in range(upsampled_activations.shape[0]):\n",
        "    for x in range(224):\n",
        "        for y in range(224):\n",
        "\n",
        "            normalized_activations.append(upsampled_activations[n,x,y]/\n",
        "                                          ((np.max(upsampled_activations[n,:,:])-np.min(upsampled_activations[n,:,:]))+1e-5))\n",
        "             "
      ],
      "metadata": {
        "id": "wqd85RbwWjsR"
      },
      "execution_count": null,
      "outputs": []
    },
    {
      "cell_type": "code",
      "source": [
        "input_2 = []\n"
      ],
      "metadata": {
        "id": "qrsP2tYtWeSn"
      },
      "execution_count": null,
      "outputs": []
    },
    {
      "cell_type": "code",
      "source": [
        ""
      ],
      "metadata": {
        "id": "-elL43t8WeP3"
      },
      "execution_count": null,
      "outputs": []
    }
  ]
}