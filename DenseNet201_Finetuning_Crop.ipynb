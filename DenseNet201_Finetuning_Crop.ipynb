{
  "nbformat": 4,
  "nbformat_minor": 0,
  "metadata": {
    "colab": {
      "name": "DenseNet201_Finetuning_Crop.ipynb",
      "provenance": [],
      "collapsed_sections": [
        "Kpnf_sft9x4-",
        "Z1e52UqdwPp8",
        "g71UX3BnhMU5",
        "dfVtTvp6hHT2",
        "gLNZ9hrXIq8R",
        "rZhDiNxJJQ8e",
        "6mGhmpqJRUik",
        "7YtqPgbKO1M3",
        "KOLfU80JlU9g",
        "I-ib--S_O1M7",
        "NFkU80Vq-q1q"
      ],
      "authorship_tag": "ABX9TyO+bVHQUkCxGRDrXGuqLXpe",
      "include_colab_link": true
    },
    "kernelspec": {
      "name": "python3",
      "display_name": "Python 3"
    },
    "language_info": {
      "name": "python"
    }
  },
  "cells": [
    {
      "cell_type": "markdown",
      "metadata": {
        "id": "view-in-github",
        "colab_type": "text"
      },
      "source": [
        "<a href=\"https://colab.research.google.com/github/PondKann/CXR-Project/blob/main/DenseNet201_Finetuning_Crop.ipynb\" target=\"_parent\"><img src=\"https://colab.research.google.com/assets/colab-badge.svg\" alt=\"Open In Colab\"/></a>"
      ]
    },
    {
      "cell_type": "markdown",
      "source": [
        "###### import"
      ],
      "metadata": {
        "id": "Kpnf_sft9x4-"
      }
    },
    {
      "cell_type": "code",
      "metadata": {
        "id": "Psng6eJUdzUG"
      },
      "source": [
        "import os\n",
        "import tensorflow as tf\n",
        "import matplotlib.pyplot as plt\n",
        "%matplotlib inline\n",
        "from tensorflow.keras.preprocessing.image import ImageDataGenerator\n",
        "import cv2\n",
        "import numpy as np\n",
        "import pandas as pd\n",
        "from torchsummary import summary\n",
        "from skimage.io import imread, imsave\n",
        "from tqdm import tqdm\n",
        "\n",
        "from sklearn.model_selection import train_test_split\n",
        "from sklearn.metrics import accuracy_score, confusion_matrix\n",
        "\n",
        "import PIL\n",
        "from PIL import Image"
      ],
      "execution_count": 1,
      "outputs": []
    },
    {
      "cell_type": "code",
      "source": [
        "# set the matplotlib backend so figures can be saved in the background\n",
        "import matplotlib\n",
        "matplotlib.use(\"Agg\")\n",
        "\n",
        "from sklearn.preprocessing import LabelEncoder\n",
        "from sklearn.metrics import classification_report\n",
        "from tensorflow.keras.optimizers import SGD\n",
        "from tensorflow.keras.utils import to_categorical\n",
        "from imutils import paths\n",
        "import argparse\n",
        "\n",
        "from sklearn.model_selection import KFold\n",
        "from sklearn import metrics\n",
        "from scipy.stats import zscore"
      ],
      "metadata": {
        "id": "6f-PDKiLl2iC"
      },
      "execution_count": 2,
      "outputs": []
    },
    {
      "cell_type": "markdown",
      "source": [
        "#### Load data"
      ],
      "metadata": {
        "id": "Z1e52UqdwPp8"
      }
    },
    {
      "cell_type": "code",
      "metadata": {
        "colab": {
          "base_uri": "https://localhost:8080/"
        },
        "id": "DlcukkP7fnhB",
        "outputId": "6ef22c8d-e0ec-4860-8b52-2227d1d5d00f"
      },
      "source": [
        "from google.colab import drive\n",
        "drive.mount('/content/drive')"
      ],
      "execution_count": 3,
      "outputs": [
        {
          "output_type": "stream",
          "name": "stdout",
          "text": [
            "Mounted at /content/drive\n"
          ]
        }
      ]
    },
    {
      "cell_type": "code",
      "metadata": {
        "id": "0w8suy5ofqx_"
      },
      "source": [
        "data_dir = '/content/drive/My Drive/Senior Project/CXR Image3class'"
      ],
      "execution_count": 4,
      "outputs": []
    },
    {
      "cell_type": "markdown",
      "source": [
        "train 3 class"
      ],
      "metadata": {
        "id": "xhqPQxA42jeC"
      }
    },
    {
      "cell_type": "code",
      "source": [
        "Normal151_dir = os.path.join(data_dir,'Normal151')\n",
        "TB150_dir = os.path.join(data_dir,'TB150')\n",
        "CA150_dir = os.path.join(data_dir,'CA150')\n",
        "\n",
        "All_3class_dir = os.path.join(data_dir,'All_3class')"
      ],
      "metadata": {
        "id": "-Jrg5mt_RvJT"
      },
      "execution_count": 5,
      "outputs": []
    },
    {
      "cell_type": "markdown",
      "source": [
        "#### train 3 class  --- สร้างตารางเก็บ ชื่อภาพ และชื่อคลาส\n",
        "ข้อมูลใน All_3class_dir รวมภาพทั้ง 3 คลาส รวม 451 ภาพ TB150, Normal151 และ CA150 (CA คือ lungcancer)"
      ],
      "metadata": {
        "id": "g71UX3BnhMU5"
      }
    },
    {
      "cell_type": "code",
      "source": [
        "Normal151_dir = os.path.join(data_dir,'Normal151')\n",
        "TB150_dir = os.path.join(data_dir,'TB150')\n",
        "CA150_dir = os.path.join(data_dir,'CA150')\n",
        "\n",
        "All_3class_dir = os.path.join(data_dir,'All_3class')"
      ],
      "metadata": {
        "id": "gbgiHWi9hMU6"
      },
      "execution_count": 6,
      "outputs": []
    },
    {
      "cell_type": "code",
      "source": [
        "normal = []\n",
        "for i in range(len(os.listdir(Normal151_dir))):\n",
        "    img = os.listdir(Normal151_dir)[i]\n",
        "    normal.append(img)\n",
        "    \n",
        "tnormal = pd.DataFrame({'ImageName':[normal][0],\n",
        "                                       'NameType': \"Normal\" ,\n",
        "                                       'NumberType': 0                      })"
      ],
      "metadata": {
        "id": "XhIRkVUDhMU7"
      },
      "execution_count": 7,
      "outputs": []
    },
    {
      "cell_type": "code",
      "source": [
        "tuberculosis = []\n",
        "for i in range(len(os.listdir(TB150_dir))):\n",
        "    img = os.listdir(TB150_dir)[i]\n",
        "    tuberculosis.append(img)\n",
        "\n",
        "ttuberculosis = pd.DataFrame({'ImageName':[tuberculosis][0],\n",
        "                                       'NameType': \"Tuberculosis\" ,\n",
        "                                       'NumberType': 1                        })"
      ],
      "metadata": {
        "id": "Lcw67LQyhMU7"
      },
      "execution_count": 8,
      "outputs": []
    },
    {
      "cell_type": "code",
      "source": [
        "lungcancer = []\n",
        "for i in range(len(os.listdir(CA150_dir))):\n",
        "    img = os.listdir(CA150_dir)[i]\n",
        "    lungcancer.append(img)\n",
        "\n",
        "tlungcancer = pd.DataFrame({'ImageName':[lungcancer][0],\n",
        "                                       'NameType': \"Lungcancer\" ,\n",
        "                                       'NumberType': 2                        })"
      ],
      "metadata": {
        "id": "YFBTCuPEhMU8"
      },
      "execution_count": 9,
      "outputs": []
    },
    {
      "cell_type": "code",
      "source": [
        "data_train3 = pd.concat([tnormal, ttuberculosis, tlungcancer])\n",
        "data_train3[-3:]"
      ],
      "metadata": {
        "outputId": "1f1b0ba8-f4a4-4b47-be5d-1ea47f3b8cbe",
        "colab": {
          "base_uri": "https://localhost:8080/",
          "height": 0
        },
        "id": "FdG7BpQihMU8"
      },
      "execution_count": 10,
      "outputs": [
        {
          "output_type": "execute_result",
          "data": {
            "text/html": [
              "\n",
              "  <div id=\"df-d1521798-e5c5-4a49-aed9-8a433bae9b55\">\n",
              "    <div class=\"colab-df-container\">\n",
              "      <div>\n",
              "<style scoped>\n",
              "    .dataframe tbody tr th:only-of-type {\n",
              "        vertical-align: middle;\n",
              "    }\n",
              "\n",
              "    .dataframe tbody tr th {\n",
              "        vertical-align: top;\n",
              "    }\n",
              "\n",
              "    .dataframe thead th {\n",
              "        text-align: right;\n",
              "    }\n",
              "</style>\n",
              "<table border=\"1\" class=\"dataframe\">\n",
              "  <thead>\n",
              "    <tr style=\"text-align: right;\">\n",
              "      <th></th>\n",
              "      <th>ImageName</th>\n",
              "      <th>NameType</th>\n",
              "      <th>NumberType</th>\n",
              "    </tr>\n",
              "  </thead>\n",
              "  <tbody>\n",
              "    <tr>\n",
              "      <th>147</th>\n",
              "      <td>ca26.jpg</td>\n",
              "      <td>Lungcancer</td>\n",
              "      <td>2</td>\n",
              "    </tr>\n",
              "    <tr>\n",
              "      <th>148</th>\n",
              "      <td>ca7.jpg</td>\n",
              "      <td>Lungcancer</td>\n",
              "      <td>2</td>\n",
              "    </tr>\n",
              "    <tr>\n",
              "      <th>149</th>\n",
              "      <td>ca8.jpg</td>\n",
              "      <td>Lungcancer</td>\n",
              "      <td>2</td>\n",
              "    </tr>\n",
              "  </tbody>\n",
              "</table>\n",
              "</div>\n",
              "      <button class=\"colab-df-convert\" onclick=\"convertToInteractive('df-d1521798-e5c5-4a49-aed9-8a433bae9b55')\"\n",
              "              title=\"Convert this dataframe to an interactive table.\"\n",
              "              style=\"display:none;\">\n",
              "        \n",
              "  <svg xmlns=\"http://www.w3.org/2000/svg\" height=\"24px\"viewBox=\"0 0 24 24\"\n",
              "       width=\"24px\">\n",
              "    <path d=\"M0 0h24v24H0V0z\" fill=\"none\"/>\n",
              "    <path d=\"M18.56 5.44l.94 2.06.94-2.06 2.06-.94-2.06-.94-.94-2.06-.94 2.06-2.06.94zm-11 1L8.5 8.5l.94-2.06 2.06-.94-2.06-.94L8.5 2.5l-.94 2.06-2.06.94zm10 10l.94 2.06.94-2.06 2.06-.94-2.06-.94-.94-2.06-.94 2.06-2.06.94z\"/><path d=\"M17.41 7.96l-1.37-1.37c-.4-.4-.92-.59-1.43-.59-.52 0-1.04.2-1.43.59L10.3 9.45l-7.72 7.72c-.78.78-.78 2.05 0 2.83L4 21.41c.39.39.9.59 1.41.59.51 0 1.02-.2 1.41-.59l7.78-7.78 2.81-2.81c.8-.78.8-2.07 0-2.86zM5.41 20L4 18.59l7.72-7.72 1.47 1.35L5.41 20z\"/>\n",
              "  </svg>\n",
              "      </button>\n",
              "      \n",
              "  <style>\n",
              "    .colab-df-container {\n",
              "      display:flex;\n",
              "      flex-wrap:wrap;\n",
              "      gap: 12px;\n",
              "    }\n",
              "\n",
              "    .colab-df-convert {\n",
              "      background-color: #E8F0FE;\n",
              "      border: none;\n",
              "      border-radius: 50%;\n",
              "      cursor: pointer;\n",
              "      display: none;\n",
              "      fill: #1967D2;\n",
              "      height: 32px;\n",
              "      padding: 0 0 0 0;\n",
              "      width: 32px;\n",
              "    }\n",
              "\n",
              "    .colab-df-convert:hover {\n",
              "      background-color: #E2EBFA;\n",
              "      box-shadow: 0px 1px 2px rgba(60, 64, 67, 0.3), 0px 1px 3px 1px rgba(60, 64, 67, 0.15);\n",
              "      fill: #174EA6;\n",
              "    }\n",
              "\n",
              "    [theme=dark] .colab-df-convert {\n",
              "      background-color: #3B4455;\n",
              "      fill: #D2E3FC;\n",
              "    }\n",
              "\n",
              "    [theme=dark] .colab-df-convert:hover {\n",
              "      background-color: #434B5C;\n",
              "      box-shadow: 0px 1px 3px 1px rgba(0, 0, 0, 0.15);\n",
              "      filter: drop-shadow(0px 1px 2px rgba(0, 0, 0, 0.3));\n",
              "      fill: #FFFFFF;\n",
              "    }\n",
              "  </style>\n",
              "\n",
              "      <script>\n",
              "        const buttonEl =\n",
              "          document.querySelector('#df-d1521798-e5c5-4a49-aed9-8a433bae9b55 button.colab-df-convert');\n",
              "        buttonEl.style.display =\n",
              "          google.colab.kernel.accessAllowed ? 'block' : 'none';\n",
              "\n",
              "        async function convertToInteractive(key) {\n",
              "          const element = document.querySelector('#df-d1521798-e5c5-4a49-aed9-8a433bae9b55');\n",
              "          const dataTable =\n",
              "            await google.colab.kernel.invokeFunction('convertToInteractive',\n",
              "                                                     [key], {});\n",
              "          if (!dataTable) return;\n",
              "\n",
              "          const docLinkHtml = 'Like what you see? Visit the ' +\n",
              "            '<a target=\"_blank\" href=https://colab.research.google.com/notebooks/data_table.ipynb>data table notebook</a>'\n",
              "            + ' to learn more about interactive tables.';\n",
              "          element.innerHTML = '';\n",
              "          dataTable['output_type'] = 'display_data';\n",
              "          await google.colab.output.renderOutput(dataTable, element);\n",
              "          const docLink = document.createElement('div');\n",
              "          docLink.innerHTML = docLinkHtml;\n",
              "          element.appendChild(docLink);\n",
              "        }\n",
              "      </script>\n",
              "    </div>\n",
              "  </div>\n",
              "  "
            ],
            "text/plain": [
              "    ImageName    NameType  NumberType\n",
              "147  ca26.jpg  Lungcancer           2\n",
              "148   ca7.jpg  Lungcancer           2\n",
              "149   ca8.jpg  Lungcancer           2"
            ]
          },
          "metadata": {},
          "execution_count": 10
        }
      ]
    },
    {
      "cell_type": "markdown",
      "source": [
        "###ครอบภาพ\n",
        "\n",
        "* เพิ่ม .convert('RGB')  \n",
        "*  แปลงเป็น np.array ก่อน\n",
        "* append ที่หลัง\n",
        "* แล้วแปลงเป็น np.array อีกรอบ"
      ],
      "metadata": {
        "id": "dfVtTvp6hHT2"
      }
    },
    {
      "cell_type": "code",
      "source": [
        "train_img_Dense = []\n",
        "mywidth = 224 \n",
        "for ImageName in tqdm(data_train3['ImageName']):               # รัน ชื่อรูป ในไฟล์ data_test3\n",
        "    image_path = All_3class_dir +'/' + ImageName                   # ดึงรูปในโฟล์เดอร์มาทีละรูป\n",
        "\n",
        "    img = Image.open(image_path).convert('RGB')     \n",
        "\n",
        "    wpercent = (mywidth/float(img.size[0]))\n",
        "    hsize = int((float(img.size[1])*float(wpercent)))\n",
        "    img = img.resize((mywidth,hsize), PIL.Image.ANTIALIAS)\n",
        "    img = img.crop((0,0,mywidth,mywidth))\n",
        "\n",
        "    data_Dense = np.array(img, dtype=\"float32\") / 255.0\n",
        "    train_img_Dense.append(data_Dense)\n",
        "\n",
        "data_Dense = np.array(train_img_Dense)"
      ],
      "metadata": {
        "colab": {
          "base_uri": "https://localhost:8080/"
        },
        "id": "XqNxHi2hFu6b",
        "outputId": "f673e312-b637-4c71-c4e2-4ad4347e7ea2"
      },
      "execution_count": 17,
      "outputs": [
        {
          "output_type": "stream",
          "name": "stderr",
          "text": [
            "100%|██████████| 451/451 [00:09<00:00, 46.98it/s]\n"
          ]
        }
      ]
    },
    {
      "cell_type": "code",
      "source": [
        "data_Dense"
      ],
      "metadata": {
        "id": "l-ocEuXLH2F5"
      },
      "execution_count": null,
      "outputs": []
    },
    {
      "cell_type": "code",
      "source": [
        ""
      ],
      "metadata": {
        "id": "khNC90f7ztNr"
      },
      "execution_count": null,
      "outputs": []
    },
    {
      "cell_type": "markdown",
      "source": [
        "# Fine tuning 0-400"
      ],
      "metadata": {
        "id": "GdmFK35yTsMC"
      }
    },
    {
      "cell_type": "markdown",
      "source": [
        "## 8) K-fold  -- DenseNet201   \n",
        "\n",
        "### -->ACC = 0.70\n",
        "### -->เวลา 5384.864 วินาที\n",
        "\n",
        "*   BS = 1\n",
        "*   fix weight & bias in layer 0-600\n",
        "*   activation=\"softmax\"\n",
        "*   learning_rate=0.0001\n",
        "*   epoch 30"
      ],
      "metadata": {
        "id": "gLNZ9hrXIq8R"
      }
    },
    {
      "cell_type": "code",
      "source": [
        "train_img_Dense = []\n",
        "for ImageName in tqdm(data_train3['ImageName']):               # รัน ชื่อรูป ในไฟล์ data_test3\n",
        "    image_path = All_3class_dir +'/' + ImageName                   # ดึงรูปในโฟล์เดอร์มาทีละรูป\n",
        "    img = cv2.imread(image_path)                                            # อ่านรูป\n",
        "    img = cv2.resize(img, (224, 224))                                       #ขนาดของ input\n",
        "    train_img_Dense.append(img)\n",
        "\n",
        "data_Dense = np.array(train_img_Dense, dtype=\"float32\") / 255.0"
      ],
      "metadata": {
        "outputId": "68495873-6ea7-425f-f816-87a5265134db",
        "colab": {
          "base_uri": "https://localhost:8080/"
        },
        "id": "UedsHtx-Iq8h"
      },
      "execution_count": null,
      "outputs": [
        {
          "output_type": "stream",
          "name": "stderr",
          "text": [
            "100%|██████████| 451/451 [00:04<00:00, 91.90it/s] \n"
          ]
        }
      ]
    },
    {
      "cell_type": "code",
      "source": [
        "labels_Dense = np.array(data_train3[['NameType']] )        \n",
        "labels_Dense.shape = (len(labels_Dense),) \n",
        "\n",
        "le_Dense = LabelEncoder()                                                                     \n",
        "labels_Dense = le_Dense.fit_transform(labels_Dense)                                         #จะแปลงชื่อ class เป็นตัวเลข 1, 2, 0 \n",
        "\n",
        "labels_Dense = to_categorical(labels_Dense, num_classes=3)                   #shape (180, 3) มีค่าเป็น  [0., 1., 0.]  กับ   [0., 0., 1.] กับ  [1., 0., 0.]"
      ],
      "metadata": {
        "id": "EZGx1HgCIq8i"
      },
      "execution_count": null,
      "outputs": []
    },
    {
      "cell_type": "code",
      "source": [
        "INIT_LR = 1e-1\n",
        "BS = 1\n",
        "EPOCHS = 50\n",
        "\n",
        "aug8 = ImageDataGenerator(\n",
        "\t\trotation_range=15,\t\t\t\t\t\t#องศาการหมุน\n",
        "\t\twidth_shift_range=0.1,\n",
        "\t\theight_shift_range=0.1,\n",
        "\t\tshear_range=0.15,\n",
        "\t\thorizontal_flip=True,\n",
        "\t\tfill_mode=\"nearest\")\n",
        "\n",
        "callback = tf.keras.callbacks.EarlyStopping(\n",
        "                monitor=\"val_accuracy\",\n",
        "                patience=3,\n",
        "                mode=\"max\" )"
      ],
      "metadata": {
        "id": "WcLZiIkSIq8k"
      },
      "execution_count": null,
      "outputs": []
    },
    {
      "cell_type": "code",
      "source": [
        "base_model_Dense = tf.keras.applications.DenseNet201(input_shape=(224, 224, 3), include_top=False, weights=\"imagenet\")\n",
        "len(base_model_Dense.layers)"
      ],
      "metadata": {
        "colab": {
          "base_uri": "https://localhost:8080/"
        },
        "outputId": "2db96e23-4b87-49e5-f2e5-8570f440f1ad",
        "id": "NoVrlmK9Iq8l"
      },
      "execution_count": null,
      "outputs": [
        {
          "output_type": "execute_result",
          "data": {
            "text/plain": [
              "707"
            ]
          },
          "metadata": {},
          "execution_count": 36
        }
      ]
    },
    {
      "cell_type": "code",
      "source": [
        "base_model_Dense.trainable = True\n",
        "for layer in base_model_Dense.layers[:600]:    #fix w & bias in layer 0-600\n",
        "    layer.trainable = False\n",
        "\n",
        "#Add custom head\n",
        "average_pooling_layer = tf.keras.layers.GlobalAveragePooling2D()(base_model_Dense.output)\n",
        "prediction_layer = tf.keras.layers.Dense(units=3, activation=\"softmax\")(average_pooling_layer)   # unit 3\n",
        "model_Dense8 = tf.keras.models.Model(inputs=base_model_Dense.input, outputs=prediction_layer)\n",
        "\n",
        "model_Dense8.compile(optimizer=tf.keras.optimizers.RMSprop(learning_rate=0.0001), loss=\"binary_crossentropy\", metrics=[\"accuracy\"])"
      ],
      "metadata": {
        "id": "QUs4_szdIq8m"
      },
      "execution_count": null,
      "outputs": []
    },
    {
      "cell_type": "code",
      "source": [
        "kf_Dense8 = KFold(5, shuffle=True, random_state=40) \n",
        "\n",
        "oos_y8 = []\n",
        "oos_pred8 = []\n",
        "fold = 0\n",
        "\n",
        "for train, test in kf_Dense8.split(data_Dense):\n",
        "    fold+=1\n",
        "    print(f\"Fold #{fold}\")\n",
        "        \n",
        "    x_train_Dense8 = data_Dense[train]\n",
        "    y_train_Dense8 = labels_Dense[train]\n",
        "    x_test_Dense8 = data_Dense[test]\n",
        "    y_test_Dense8 = labels_Dense[test]\n",
        "\n",
        "    H_Dense8 = model_Dense8.fit( x=aug8.flow(x_train_Dense8, y_train_Dense8, batch_size=BS),\n",
        "\t                                            validation_data=(x_test_Dense8, y_test_Dense8),\n",
        "\t                                            steps_per_epoch=len(x_train_Dense8) // BS,\n",
        "\t                                            epochs=30,  callbacks = [callback])\n",
        "    \n",
        "    pred_Dense8 = model_Dense8.predict(x_test_Dense8)\n",
        "    \n",
        "    oos_y8.append(y_test_Dense8)\n",
        "    oos_pred8.append(pred_Dense8)  \n",
        "    print(classification_report(y_test_Dense8.argmax(axis=1),\t                #แสดง report ค่า acc, recall, ...\n",
        "                                        pred_Dense8.argmax(axis=1),  \n",
        "                                        target_names=le_Dense.classes_))\n",
        "\n",
        "#   score = metrics.accuracy_score(y_test3_Incep.argmax(axis=1),\t        #ค่า acc\n",
        "#                                               pred3_Incep.argmax(axis=1)\n",
        "#    print(f\"Fold score (accuracy): {score}\")\n",
        "\n",
        "#    print(confusion_matrix(testY3_Incep.argmax(axis=1),\t                       #แสดง confusion_matrix\n",
        "#                        pred3_Incep.argmax(axis=1) ) )"
      ],
      "metadata": {
        "id": "Ny6xbdIeIq8m",
        "colab": {
          "base_uri": "https://localhost:8080/"
        },
        "outputId": "bf8ebb7d-0770-4c5c-842b-88a429cc072c"
      },
      "execution_count": null,
      "outputs": [
        {
          "output_type": "stream",
          "name": "stdout",
          "text": [
            "Fold #1\n",
            "Epoch 1/30\n",
            "360/360 [==============================] - 150s 374ms/step - loss: 0.6440 - accuracy: 0.3694 - val_loss: 0.5706 - val_accuracy: 0.5934\n",
            "Epoch 2/30\n",
            "360/360 [==============================] - 143s 396ms/step - loss: 0.5860 - accuracy: 0.5083 - val_loss: 0.5384 - val_accuracy: 0.5385\n",
            "Epoch 3/30\n",
            "360/360 [==============================] - 145s 403ms/step - loss: 0.5471 - accuracy: 0.6139 - val_loss: 0.5017 - val_accuracy: 0.6593\n",
            "Epoch 4/30\n",
            "360/360 [==============================] - 146s 406ms/step - loss: 0.5031 - accuracy: 0.6611 - val_loss: 0.5202 - val_accuracy: 0.5714\n",
            "Epoch 5/30\n",
            "360/360 [==============================] - 145s 403ms/step - loss: 0.4556 - accuracy: 0.7139 - val_loss: 0.4772 - val_accuracy: 0.6484\n",
            "Epoch 6/30\n",
            "360/360 [==============================] - 147s 409ms/step - loss: 0.4224 - accuracy: 0.7000 - val_loss: 0.4539 - val_accuracy: 0.7253\n",
            "Epoch 7/30\n",
            "360/360 [==============================] - 145s 403ms/step - loss: 0.3967 - accuracy: 0.7722 - val_loss: 0.4817 - val_accuracy: 0.6484\n",
            "Epoch 8/30\n",
            "360/360 [==============================] - 145s 403ms/step - loss: 0.3740 - accuracy: 0.7639 - val_loss: 0.5560 - val_accuracy: 0.4945\n",
            "Epoch 9/30\n",
            "360/360 [==============================] - 144s 400ms/step - loss: 0.3497 - accuracy: 0.8000 - val_loss: 0.5879 - val_accuracy: 0.4396\n",
            "              precision    recall  f1-score   support\n",
            "\n",
            "  Lungcancer       0.59      0.36      0.44        28\n",
            "      Normal       1.00      0.21      0.35        33\n",
            "Tuberculosis       0.34      0.77      0.47        30\n",
            "\n",
            "    accuracy                           0.44        91\n",
            "   macro avg       0.64      0.45      0.42        91\n",
            "weighted avg       0.66      0.44      0.42        91\n",
            "\n",
            "Fold #2\n",
            "Epoch 1/30\n",
            "361/361 [==============================] - 140s 388ms/step - loss: 0.3407 - accuracy: 0.8089 - val_loss: 0.3531 - val_accuracy: 0.7889\n",
            "Epoch 2/30\n",
            "361/361 [==============================] - 142s 393ms/step - loss: 0.3122 - accuracy: 0.8199 - val_loss: 0.4943 - val_accuracy: 0.6778\n",
            "Epoch 3/30\n",
            "361/361 [==============================] - 145s 402ms/step - loss: 0.3034 - accuracy: 0.8421 - val_loss: 0.3784 - val_accuracy: 0.7889\n",
            "Epoch 4/30\n",
            "361/361 [==============================] - 147s 407ms/step - loss: 0.2772 - accuracy: 0.8615 - val_loss: 0.3680 - val_accuracy: 0.7889\n",
            "              precision    recall  f1-score   support\n",
            "\n",
            "  Lungcancer       0.89      0.76      0.82        33\n",
            "      Normal       1.00      0.65      0.79        26\n",
            "Tuberculosis       0.64      0.94      0.76        31\n",
            "\n",
            "    accuracy                           0.79        90\n",
            "   macro avg       0.85      0.78      0.79        90\n",
            "weighted avg       0.84      0.79      0.79        90\n",
            "\n",
            "Fold #3\n",
            "Epoch 1/30\n",
            "361/361 [==============================] - 147s 408ms/step - loss: 0.2575 - accuracy: 0.8781 - val_loss: 0.4320 - val_accuracy: 0.6778\n",
            "Epoch 2/30\n",
            "361/361 [==============================] - 144s 399ms/step - loss: 0.2456 - accuracy: 0.8781 - val_loss: 0.4418 - val_accuracy: 0.6778\n",
            "Epoch 3/30\n",
            "361/361 [==============================] - 143s 397ms/step - loss: 0.2202 - accuracy: 0.8947 - val_loss: 0.3907 - val_accuracy: 0.7556\n",
            "Epoch 4/30\n",
            "361/361 [==============================] - 144s 399ms/step - loss: 0.2187 - accuracy: 0.9030 - val_loss: 0.4277 - val_accuracy: 0.7111\n",
            "Epoch 5/30\n",
            "361/361 [==============================] - 152s 422ms/step - loss: 0.1849 - accuracy: 0.9280 - val_loss: 0.3767 - val_accuracy: 0.7556\n",
            "Epoch 6/30\n",
            "361/361 [==============================] - 153s 423ms/step - loss: 0.1697 - accuracy: 0.9307 - val_loss: 0.4193 - val_accuracy: 0.7444\n",
            "              precision    recall  f1-score   support\n",
            "\n",
            "  Lungcancer       0.76      0.76      0.76        29\n",
            "      Normal       1.00      0.70      0.82        33\n",
            "Tuberculosis       0.58      0.79      0.67        28\n",
            "\n",
            "    accuracy                           0.74        90\n",
            "   macro avg       0.78      0.75      0.75        90\n",
            "weighted avg       0.79      0.74      0.75        90\n",
            "\n",
            "Fold #4\n",
            "Epoch 1/30\n",
            "361/361 [==============================] - 148s 410ms/step - loss: 0.1892 - accuracy: 0.9086 - val_loss: 0.2794 - val_accuracy: 0.8222\n",
            "Epoch 2/30\n",
            "361/361 [==============================] - 151s 419ms/step - loss: 0.1778 - accuracy: 0.9197 - val_loss: 0.2762 - val_accuracy: 0.8444\n",
            "Epoch 3/30\n",
            "361/361 [==============================] - 148s 409ms/step - loss: 0.1687 - accuracy: 0.9197 - val_loss: 0.3056 - val_accuracy: 0.8111\n",
            "Epoch 4/30\n",
            "361/361 [==============================] - 149s 412ms/step - loss: 0.1392 - accuracy: 0.9391 - val_loss: 0.4680 - val_accuracy: 0.6444\n",
            "Epoch 5/30\n",
            "361/361 [==============================] - 152s 420ms/step - loss: 0.1254 - accuracy: 0.9474 - val_loss: 0.3516 - val_accuracy: 0.7333\n",
            "              precision    recall  f1-score   support\n",
            "\n",
            "  Lungcancer       1.00      0.60      0.75        30\n",
            "      Normal       1.00      0.61      0.76        31\n",
            "Tuberculosis       0.55      1.00      0.71        29\n",
            "\n",
            "    accuracy                           0.73        90\n",
            "   macro avg       0.85      0.74      0.74        90\n",
            "weighted avg       0.85      0.73      0.74        90\n",
            "\n",
            "Fold #5\n",
            "Epoch 1/30\n",
            "361/361 [==============================] - 142s 393ms/step - loss: 0.1184 - accuracy: 0.9474 - val_loss: 0.2730 - val_accuracy: 0.8444\n",
            "Epoch 2/30\n",
            "361/361 [==============================] - 141s 391ms/step - loss: 0.1134 - accuracy: 0.9446 - val_loss: 0.2706 - val_accuracy: 0.8556\n",
            "Epoch 3/30\n",
            "361/361 [==============================] - 142s 394ms/step - loss: 0.1082 - accuracy: 0.9584 - val_loss: 0.2487 - val_accuracy: 0.8556\n",
            "Epoch 4/30\n",
            "361/361 [==============================] - 143s 396ms/step - loss: 0.0909 - accuracy: 0.9668 - val_loss: 0.2771 - val_accuracy: 0.8000\n",
            "Epoch 5/30\n",
            "361/361 [==============================] - 149s 414ms/step - loss: 0.0706 - accuracy: 0.9695 - val_loss: 0.2773 - val_accuracy: 0.7778\n",
            "              precision    recall  f1-score   support\n",
            "\n",
            "  Lungcancer       0.91      0.70      0.79        30\n",
            "      Normal       1.00      0.64      0.78        28\n",
            "Tuberculosis       0.63      0.97      0.77        32\n",
            "\n",
            "    accuracy                           0.78        90\n",
            "   macro avg       0.85      0.77      0.78        90\n",
            "weighted avg       0.84      0.78      0.78        90\n",
            "\n"
          ]
        }
      ]
    },
    {
      "cell_type": "code",
      "source": [
        "oos_y8 = np.concatenate(oos_y8)\n",
        "oos_pred8 = np.concatenate(oos_pred8)"
      ],
      "metadata": {
        "id": "yoJBMPrfIq8n"
      },
      "execution_count": null,
      "outputs": []
    },
    {
      "cell_type": "code",
      "source": [
        "score8 = metrics.accuracy_score(oos_y8.argmax(axis=1),\t        #ค่า acc\n",
        "                                             oos_pred8.argmax(axis=1) )\n",
        "print(f\"Fold score (accuracy): {score8}\")\n",
        "\n",
        "print(classification_report(oos_y8.argmax(axis=1),\t                #แสดง report ค่า acc, recall, ...\n",
        "                                        oos_pred8.argmax(axis=1),  \n",
        "                                        target_names=le_Dense.classes_))"
      ],
      "metadata": {
        "id": "5DAlQsGGIq8n",
        "colab": {
          "base_uri": "https://localhost:8080/"
        },
        "outputId": "2954a569-6c4c-4043-e250-e476ccdd91cf"
      },
      "execution_count": null,
      "outputs": [
        {
          "output_type": "stream",
          "name": "stdout",
          "text": [
            "Fold score (accuracy): 0.6962305986696231\n",
            "              precision    recall  f1-score   support\n",
            "\n",
            "  Lungcancer       0.83      0.64      0.72       150\n",
            "      Normal       1.00      0.56      0.71       151\n",
            "Tuberculosis       0.53      0.89      0.67       150\n",
            "\n",
            "    accuracy                           0.70       451\n",
            "   macro avg       0.79      0.70      0.70       451\n",
            "weighted avg       0.79      0.70      0.70       451\n",
            "\n"
          ]
        }
      ]
    },
    {
      "cell_type": "markdown",
      "source": [
        "## 8.1) K-fold  -- DenseNet201   \n",
        "\n",
        "### -->ACC = 0.74\n",
        "### -->เวลา 6021.688  วินาที\n",
        "\n",
        "*   BS = 1\n",
        "*   fix weight & bias in layer 0-600\n",
        "*   activation=\"sigmoid\"\n",
        "*   learning_rate=0.0001\n",
        "*   epoch 30"
      ],
      "metadata": {
        "id": "rZhDiNxJJQ8e"
      }
    },
    {
      "cell_type": "code",
      "source": [
        "train_img_Dense = []\n",
        "for ImageName in tqdm(data_train3['ImageName']):               # รัน ชื่อรูป ในไฟล์ data_test3\n",
        "    image_path = All_3class_dir +'/' + ImageName                   # ดึงรูปในโฟล์เดอร์มาทีละรูป\n",
        "    img = cv2.imread(image_path)                                            # อ่านรูป\n",
        "    img = cv2.resize(img, (224, 224))                                       #ขนาดของ input\n",
        "    train_img_Dense.append(img)\n",
        "\n",
        "data_Dense = np.array(train_img_Dense, dtype=\"float32\") / 255.0"
      ],
      "metadata": {
        "outputId": "6a5c6827-17a8-416c-d6a1-3d2f8c6d26d9",
        "colab": {
          "base_uri": "https://localhost:8080/"
        },
        "id": "CsJaziUsJQ8f"
      },
      "execution_count": null,
      "outputs": [
        {
          "output_type": "stream",
          "name": "stderr",
          "text": [
            "100%|██████████| 451/451 [00:35<00:00, 12.85it/s]\n"
          ]
        }
      ]
    },
    {
      "cell_type": "code",
      "source": [
        "labels_Dense = np.array(data_train3[['NameType']] )        \n",
        "labels_Dense.shape = (len(labels_Dense),) \n",
        "\n",
        "le_Dense = LabelEncoder()                                                                     \n",
        "labels_Dense = le_Dense.fit_transform(labels_Dense)                                         #จะแปลงชื่อ class เป็นตัวเลข 1, 2, 0 \n",
        "\n",
        "labels_Dense = to_categorical(labels_Dense, num_classes=3)                   #shape (180, 3) มีค่าเป็น  [0., 1., 0.]  กับ   [0., 0., 1.] กับ  [1., 0., 0.]"
      ],
      "metadata": {
        "id": "tADiyQFOJQ8h"
      },
      "execution_count": null,
      "outputs": []
    },
    {
      "cell_type": "code",
      "source": [
        "INIT_LR = 1e-1\n",
        "BS = 1\n",
        "EPOCHS = 50\n",
        "\n",
        "aug81 = ImageDataGenerator(\n",
        "\t\trotation_range=15,\t\t\t\t\t\t#องศาการหมุน\n",
        "\t\twidth_shift_range=0.1,\n",
        "\t\theight_shift_range=0.1,\n",
        "\t\tshear_range=0.15,\n",
        "\t\thorizontal_flip=True,\n",
        "\t\tfill_mode=\"nearest\")\n",
        "\n",
        "callback = tf.keras.callbacks.EarlyStopping(\n",
        "                monitor=\"val_accuracy\",\n",
        "                patience=3,\n",
        "                mode=\"max\" )"
      ],
      "metadata": {
        "id": "cMUMg0xvJQ8h"
      },
      "execution_count": null,
      "outputs": []
    },
    {
      "cell_type": "code",
      "source": [
        "base_model_Dense = tf.keras.applications.DenseNet201(input_shape=(224, 224, 3), include_top=False, weights=\"imagenet\")\n",
        "len(base_model_Dense.layers)"
      ],
      "metadata": {
        "colab": {
          "base_uri": "https://localhost:8080/"
        },
        "outputId": "efd09502-a0d9-467b-efbc-de166df8efda",
        "id": "dNQFfoHgJQ8i"
      },
      "execution_count": null,
      "outputs": [
        {
          "output_type": "stream",
          "name": "stdout",
          "text": [
            "Downloading data from https://storage.googleapis.com/tensorflow/keras-applications/densenet/densenet201_weights_tf_dim_ordering_tf_kernels_notop.h5\n",
            "74842112/74836368 [==============================] - 1s 0us/step\n",
            "74850304/74836368 [==============================] - 1s 0us/step\n"
          ]
        },
        {
          "output_type": "execute_result",
          "data": {
            "text/plain": [
              "707"
            ]
          },
          "metadata": {},
          "execution_count": 17
        }
      ]
    },
    {
      "cell_type": "code",
      "source": [
        "base_model_Dense.trainable = True\n",
        "for layer in base_model_Dense.layers[:600]:    #fix w & bias in layer 0-600\n",
        "    layer.trainable = False\n",
        "\n",
        "#Add custom head\n",
        "average_pooling_layer = tf.keras.layers.GlobalAveragePooling2D()(base_model_Dense.output)\n",
        "prediction_layer = tf.keras.layers.Dense(units=3, activation=\"sigmoid\")(average_pooling_layer)   # unit 3\n",
        "model_Dense81 = tf.keras.models.Model(inputs=base_model_Dense.input, outputs=prediction_layer)\n",
        "\n",
        "model_Dense81.compile(optimizer=tf.keras.optimizers.RMSprop(learning_rate=0.0001), loss=\"binary_crossentropy\", metrics=[\"accuracy\"])"
      ],
      "metadata": {
        "id": "39DGoz8LJQ8i"
      },
      "execution_count": null,
      "outputs": []
    },
    {
      "cell_type": "code",
      "source": [
        "kf_Dense81 = KFold(5, shuffle=True, random_state=40) \n",
        "\n",
        "oos_y81 = []\n",
        "oos_pred81 = []\n",
        "fold = 0\n",
        "\n",
        "for train, test in kf_Dense81.split(data_Dense):\n",
        "    fold+=1\n",
        "    print(f\"Fold #{fold}\")\n",
        "        \n",
        "    x_train_Dense81 = data_Dense[train]\n",
        "    y_train_Dense81 = labels_Dense[train]\n",
        "    x_test_Dense81 = data_Dense[test]\n",
        "    y_test_Dense81 = labels_Dense[test]\n",
        "\n",
        "    H_Dense81 = model_Dense81.fit( x=aug81.flow(x_train_Dense81, y_train_Dense81, batch_size=BS),\n",
        "\t                                            validation_data=(x_test_Dense81, y_test_Dense81),\n",
        "\t                                            steps_per_epoch=len(x_train_Dense81) // BS,\n",
        "\t                                            epochs=30,  callbacks = [callback])\n",
        "    \n",
        "    pred_Dense81 = model_Dense81.predict(x_test_Dense81)\n",
        "    \n",
        "    oos_y81.append(y_test_Dense81)\n",
        "    oos_pred81.append(pred_Dense81)  \n",
        "    print(classification_report(y_test_Dense81.argmax(axis=1),\t                #แสดง report ค่า acc, recall, ...\n",
        "                                        pred_Dense81.argmax(axis=1),  \n",
        "                                        target_names=le_Dense.classes_))\n",
        "\n",
        "#   score = metrics.accuracy_score(y_test3_Incep.argmax(axis=1),\t        #ค่า acc\n",
        "#                                               pred3_Incep.argmax(axis=1)\n",
        "#    print(f\"Fold score (accuracy): {score}\")\n",
        "\n",
        "#    print(confusion_matrix(testY3_Incep.argmax(axis=1),\t                       #แสดง confusion_matrix\n",
        "#                        pred3_Incep.argmax(axis=1) ) )"
      ],
      "metadata": {
        "colab": {
          "base_uri": "https://localhost:8080/"
        },
        "id": "rIRZ_wNRJQ8j",
        "outputId": "a9419029-77d8-4e89-860c-eec39bb4f18c"
      },
      "execution_count": null,
      "outputs": [
        {
          "output_type": "stream",
          "name": "stdout",
          "text": [
            "Fold #1\n",
            "Epoch 1/30\n",
            "360/360 [==============================] - 189s 444ms/step - loss: 0.6305 - accuracy: 0.3889 - val_loss: 0.5381 - val_accuracy: 0.6593\n",
            "Epoch 2/30\n",
            "360/360 [==============================] - 205s 568ms/step - loss: 0.5927 - accuracy: 0.5250 - val_loss: 0.5139 - val_accuracy: 0.6813\n",
            "Epoch 3/30\n",
            "360/360 [==============================] - 222s 618ms/step - loss: 0.5457 - accuracy: 0.6472 - val_loss: 0.5171 - val_accuracy: 0.6813\n",
            "Epoch 4/30\n",
            "360/360 [==============================] - 265s 737ms/step - loss: 0.4964 - accuracy: 0.6694 - val_loss: 0.5114 - val_accuracy: 0.6484\n",
            "Epoch 5/30\n",
            "360/360 [==============================] - 272s 756ms/step - loss: 0.4598 - accuracy: 0.7028 - val_loss: 0.4777 - val_accuracy: 0.6484\n",
            "              precision    recall  f1-score   support\n",
            "\n",
            "  Lungcancer       0.67      0.07      0.13        28\n",
            "      Normal       0.86      0.97      0.91        33\n",
            "Tuberculosis       0.49      0.83      0.62        30\n",
            "\n",
            "    accuracy                           0.65        91\n",
            "   macro avg       0.67      0.62      0.55        91\n",
            "weighted avg       0.68      0.65      0.57        91\n",
            "\n",
            "Fold #2\n",
            "Epoch 1/30\n",
            "361/361 [==============================] - 178s 492ms/step - loss: 0.4280 - accuracy: 0.7147 - val_loss: 0.4434 - val_accuracy: 0.7444\n",
            "Epoch 2/30\n",
            "361/361 [==============================] - 335s 928ms/step - loss: 0.3881 - accuracy: 0.7313 - val_loss: 0.4492 - val_accuracy: 0.7444\n",
            "Epoch 3/30\n",
            "361/361 [==============================] - 335s 929ms/step - loss: 0.3715 - accuracy: 0.7784 - val_loss: 0.4465 - val_accuracy: 0.7222\n",
            "Epoch 4/30\n",
            "361/361 [==============================] - 357s 988ms/step - loss: 0.3419 - accuracy: 0.8227 - val_loss: 0.4262 - val_accuracy: 0.7444\n",
            "              precision    recall  f1-score   support\n",
            "\n",
            "  Lungcancer       0.72      0.70      0.71        33\n",
            "      Normal       1.00      0.81      0.89        26\n",
            "Tuberculosis       0.62      0.74      0.68        31\n",
            "\n",
            "    accuracy                           0.74        90\n",
            "   macro avg       0.78      0.75      0.76        90\n",
            "weighted avg       0.77      0.74      0.75        90\n",
            "\n",
            "Fold #3\n",
            "Epoch 1/30\n",
            "361/361 [==============================] - 168s 465ms/step - loss: 0.3268 - accuracy: 0.8199 - val_loss: 0.3973 - val_accuracy: 0.7667\n",
            "Epoch 2/30\n",
            "361/361 [==============================] - 281s 778ms/step - loss: 0.3016 - accuracy: 0.8421 - val_loss: 0.4295 - val_accuracy: 0.7889\n",
            "Epoch 3/30\n",
            "361/361 [==============================] - 301s 834ms/step - loss: 0.2878 - accuracy: 0.8532 - val_loss: 0.4139 - val_accuracy: 0.7444\n",
            "Epoch 4/30\n",
            "361/361 [==============================] - 290s 804ms/step - loss: 0.2561 - accuracy: 0.8560 - val_loss: 0.5191 - val_accuracy: 0.6000\n",
            "Epoch 5/30\n",
            "361/361 [==============================] - 324s 897ms/step - loss: 0.2405 - accuracy: 0.8864 - val_loss: 0.4514 - val_accuracy: 0.6778\n",
            "              precision    recall  f1-score   support\n",
            "\n",
            "  Lungcancer       0.82      0.48      0.61        29\n",
            "      Normal       0.96      0.70      0.81        33\n",
            "Tuberculosis       0.49      0.86      0.62        28\n",
            "\n",
            "    accuracy                           0.68        90\n",
            "   macro avg       0.76      0.68      0.68        90\n",
            "weighted avg       0.77      0.68      0.69        90\n",
            "\n",
            "Fold #4\n",
            "Epoch 1/30\n",
            "361/361 [==============================] - 167s 464ms/step - loss: 0.2528 - accuracy: 0.8726 - val_loss: 0.3741 - val_accuracy: 0.7111\n",
            "Epoch 2/30\n",
            "361/361 [==============================] - 150s 415ms/step - loss: 0.2273 - accuracy: 0.8837 - val_loss: 0.2891 - val_accuracy: 0.8667\n",
            "Epoch 3/30\n",
            "361/361 [==============================] - 151s 419ms/step - loss: 0.2248 - accuracy: 0.8975 - val_loss: 0.4244 - val_accuracy: 0.6444\n",
            "Epoch 4/30\n",
            "361/361 [==============================] - 150s 415ms/step - loss: 0.2013 - accuracy: 0.9114 - val_loss: 0.3447 - val_accuracy: 0.7667\n",
            "Epoch 5/30\n",
            "361/361 [==============================] - 149s 412ms/step - loss: 0.1988 - accuracy: 0.9169 - val_loss: 0.3422 - val_accuracy: 0.7778\n",
            "              precision    recall  f1-score   support\n",
            "\n",
            "  Lungcancer       1.00      0.53      0.70        30\n",
            "      Normal       0.96      0.81      0.88        31\n",
            "Tuberculosis       0.60      1.00      0.75        29\n",
            "\n",
            "    accuracy                           0.78        90\n",
            "   macro avg       0.86      0.78      0.78        90\n",
            "weighted avg       0.86      0.78      0.78        90\n",
            "\n",
            "Fold #5\n",
            "Epoch 1/30\n",
            "361/361 [==============================] - 147s 409ms/step - loss: 0.1909 - accuracy: 0.9058 - val_loss: 0.3184 - val_accuracy: 0.8333\n",
            "Epoch 2/30\n",
            "361/361 [==============================] - 150s 414ms/step - loss: 0.1662 - accuracy: 0.9224 - val_loss: 0.2868 - val_accuracy: 0.8556\n",
            "Epoch 3/30\n",
            "361/361 [==============================] - 150s 415ms/step - loss: 0.1616 - accuracy: 0.9141 - val_loss: 0.2764 - val_accuracy: 0.8444\n",
            "Epoch 4/30\n",
            "361/361 [==============================] - 151s 419ms/step - loss: 0.1525 - accuracy: 0.9169 - val_loss: 0.2506 - val_accuracy: 0.8556\n",
            "Epoch 5/30\n",
            "361/361 [==============================] - 150s 417ms/step - loss: 0.1397 - accuracy: 0.9280 - val_loss: 0.2938 - val_accuracy: 0.8444\n",
            "              precision    recall  f1-score   support\n",
            "\n",
            "  Lungcancer       0.87      0.90      0.89        30\n",
            "      Normal       1.00      0.68      0.81        28\n",
            "Tuberculosis       0.75      0.94      0.83        32\n",
            "\n",
            "    accuracy                           0.84        90\n",
            "   macro avg       0.87      0.84      0.84        90\n",
            "weighted avg       0.87      0.84      0.84        90\n",
            "\n"
          ]
        }
      ]
    },
    {
      "cell_type": "code",
      "source": [
        "oos_y81 = np.concatenate(oos_y81)\n",
        "oos_pred81 = np.concatenate(oos_pred81)"
      ],
      "metadata": {
        "id": "-iYs9_O7JQ8k"
      },
      "execution_count": null,
      "outputs": []
    },
    {
      "cell_type": "code",
      "source": [
        "score81 = metrics.accuracy_score(oos_y81.argmax(axis=1),\t        #ค่า acc\n",
        "                                             oos_pred81.argmax(axis=1) )\n",
        "print(f\"Fold score (accuracy): {score81}\")\n",
        "\n",
        "print(classification_report(oos_y81.argmax(axis=1),\t                #แสดง report ค่า acc, recall, ...\n",
        "                                        oos_pred81.argmax(axis=1),  \n",
        "                                        target_names=le_Dense.classes_))"
      ],
      "metadata": {
        "colab": {
          "base_uri": "https://localhost:8080/"
        },
        "id": "RPRndQhhJQ8k",
        "outputId": "cd774f65-2300-4042-9946-7a1ffe160172"
      },
      "execution_count": null,
      "outputs": [
        {
          "output_type": "stream",
          "name": "stdout",
          "text": [
            "Fold score (accuracy): 0.738359201773836\n",
            "              precision    recall  f1-score   support\n",
            "\n",
            "  Lungcancer       0.83      0.55      0.66       150\n",
            "      Normal       0.94      0.79      0.86       151\n",
            "Tuberculosis       0.58      0.87      0.70       150\n",
            "\n",
            "    accuracy                           0.74       451\n",
            "   macro avg       0.79      0.74      0.74       451\n",
            "weighted avg       0.79      0.74      0.74       451\n",
            "\n"
          ]
        }
      ]
    },
    {
      "cell_type": "markdown",
      "source": [
        "## 1) K-fold  -- DenseNet201\n",
        "\n",
        "### -->ACC =  \n",
        "### -->เวลา  วินาที\n",
        "\n",
        "*   BS = 8\n",
        "*   fix weight & bias in layer 0-400\n",
        "*   activation=\"softmax\"\n",
        "*   learning_rate=0.0001\n",
        "*   epoch 30"
      ],
      "metadata": {
        "id": "A_XT6cPUO1Mz"
      }
    },
    {
      "cell_type": "code",
      "source": [
        "labels_Dense = np.array(data_train3[['NameType']] )        \n",
        "labels_Dense.shape = (len(labels_Dense),) \n",
        "\n",
        "le_Dense = LabelEncoder()                                                                     \n",
        "labels_Dense = le_Dense.fit_transform(labels_Dense)                                         #จะแปลงชื่อ class เป็นตัวเลข 1, 2, 0 \n",
        "\n",
        "labels_Dense = to_categorical(labels_Dense, num_classes=3)                   #shape (180, 3) มีค่าเป็น  [0., 1., 0.]  กับ   [0., 0., 1.] กับ  [1., 0., 0.]"
      ],
      "metadata": {
        "id": "f-9lmjBnO1M0"
      },
      "execution_count": 12,
      "outputs": []
    },
    {
      "cell_type": "code",
      "source": [
        "INIT_LR = 1e-1\n",
        "BS = 8\n",
        "EPOCHS = 50\n",
        "\n",
        "aug = ImageDataGenerator(\n",
        "\t\trotation_range=15,\t\t\t\t\t\t#องศาการหมุน\n",
        "\t\twidth_shift_range=0.1,\n",
        "\t\theight_shift_range=0.1,\n",
        "\t\tshear_range=0.15,\n",
        "\t\thorizontal_flip=True,\n",
        "\t\tfill_mode=\"nearest\")\n",
        "\n",
        "callback = tf.keras.callbacks.EarlyStopping(\n",
        "                monitor=\"val_accuracy\",\n",
        "                patience=3,\n",
        "                mode=\"max\" )"
      ],
      "metadata": {
        "id": "Uv4t6ZtaO1M1"
      },
      "execution_count": 13,
      "outputs": []
    },
    {
      "cell_type": "code",
      "source": [
        "base_model_Dense = tf.keras.applications.DenseNet201(input_shape=(224, 224, 3), include_top=False, weights=\"imagenet\")\n",
        "len(base_model_Dense.layers)"
      ],
      "metadata": {
        "colab": {
          "base_uri": "https://localhost:8080/"
        },
        "outputId": "06036913-68ee-47bc-9a77-ece8302f1db8",
        "id": "pThnYoncO1M1"
      },
      "execution_count": 14,
      "outputs": [
        {
          "output_type": "stream",
          "name": "stdout",
          "text": [
            "Downloading data from https://storage.googleapis.com/tensorflow/keras-applications/densenet/densenet201_weights_tf_dim_ordering_tf_kernels_notop.h5\n",
            "74842112/74836368 [==============================] - 0s 0us/step\n",
            "74850304/74836368 [==============================] - 0s 0us/step\n"
          ]
        },
        {
          "output_type": "execute_result",
          "data": {
            "text/plain": [
              "707"
            ]
          },
          "metadata": {},
          "execution_count": 14
        }
      ]
    },
    {
      "cell_type": "code",
      "source": [
        "base_model_Dense.trainable = True\n",
        "for layer in base_model_Dense.layers[:400]:    #fix w & bias in layer 0-600\n",
        "    layer.trainable = False\n",
        "\n",
        "#Add custom head\n",
        "average_pooling_layer = tf.keras.layers.GlobalAveragePooling2D()(base_model_Dense.output)\n",
        "prediction_layer = tf.keras.layers.Dense(units=3, activation=\"softmax\")(average_pooling_layer)   # unit 3\n",
        "model_Dense = tf.keras.models.Model(inputs=base_model_Dense.input, outputs=prediction_layer)\n",
        "\n",
        "model_Dense.compile(optimizer=tf.keras.optimizers.RMSprop(learning_rate=0.0001), loss=\"binary_crossentropy\", metrics=[\"accuracy\"])"
      ],
      "metadata": {
        "id": "8QBzqBSVO1M1"
      },
      "execution_count": 15,
      "outputs": []
    },
    {
      "cell_type": "code",
      "source": [
        "kf_Dense = KFold(5, shuffle=True, random_state=40) \n",
        "\n",
        "oos_y = []\n",
        "oos_pred = []\n",
        "fold = 0\n",
        "\n",
        "for train, test in kf_Dense.split(data_Dense):\n",
        "    fold+=1\n",
        "    print(f\"Fold #{fold}\")\n",
        "        \n",
        "    x_train_Dense = data_Dense[train]\n",
        "    y_train_Dense = labels_Dense[train]\n",
        "    x_test_Dense = data_Dense[test]\n",
        "    y_test_Dense = labels_Dense[test]\n",
        "\n",
        "    H_Dense = model_Dense.fit( x=aug.flow(x_train_Dense, y_train_Dense, batch_size=BS),\n",
        "\t                                            validation_data=(x_test_Dense, y_test_Dense),\n",
        "\t                                            steps_per_epoch=len(x_train_Dense) // BS,\n",
        "\t                                            epochs=30,  callbacks = [callback])\n",
        "    \n",
        "    pred_Dense = model_Dense.predict(x_test_Dense)\n",
        "    \n",
        "    oos_y.append(y_test_Dense)\n",
        "    oos_pred.append(pred_Dense)  \n",
        "    print(classification_report(y_test_Dense.argmax(axis=1),\t                #แสดง report ค่า acc, recall, ...\n",
        "                                        pred_Dense.argmax(axis=1),  \n",
        "                                        target_names=le_Dense.classes_))\n",
        "\n",
        "#   score = metrics.accuracy_score(y_test3_Incep.argmax(axis=1),\t        #ค่า acc\n",
        "#                                               pred3_Incep.argmax(axis=1)\n",
        "#    print(f\"Fold score (accuracy): {score}\")\n",
        "\n",
        "#    print(confusion_matrix(testY3_Incep.argmax(axis=1),\t                       #แสดง confusion_matrix\n",
        "#                        pred3_Incep.argmax(axis=1) ) )"
      ],
      "metadata": {
        "id": "7u4TOjYu8Xsm"
      },
      "execution_count": null,
      "outputs": []
    },
    {
      "cell_type": "code",
      "source": [
        "oos_y = np.concatenate(oos_y)\n",
        "oos_pred = np.concatenate(oos_pred)"
      ],
      "metadata": {
        "id": "QUZwfmV_O1M2"
      },
      "execution_count": null,
      "outputs": []
    },
    {
      "cell_type": "code",
      "source": [
        "score = metrics.accuracy_score(oos_y.argmax(axis=1),\t        #ค่า acc\n",
        "                                             oos_pred.argmax(axis=1) )\n",
        "print(f\"Fold score (accuracy): {score}\")\n",
        "\n",
        "print(classification_report(oos_y.argmax(axis=1),\t                #แสดง report ค่า acc, recall, ...\n",
        "                                        oos_pred.argmax(axis=1),  \n",
        "                                        target_names=le_Dense.classes_))"
      ],
      "metadata": {
        "id": "JFomDOPwO1M2"
      },
      "execution_count": null,
      "outputs": []
    },
    {
      "cell_type": "markdown",
      "source": [
        "## 1.1) K-fold  -- DenseNet201  \n",
        "\n",
        "### -->ACC = \n",
        "### -->เวลา  วินาที\n",
        "\n",
        "*   BS = 8\n",
        "*   fix weight & bias in layer 0-400\n",
        "*   activation=\"sigmoid\"\n",
        "*   learning_rate=0.0001\n",
        "*   epoch 30"
      ],
      "metadata": {
        "id": "6mGhmpqJRUik"
      }
    },
    {
      "cell_type": "code",
      "source": [
        "labels_Dense = np.array(data_train3[['NameType']] )        \n",
        "labels_Dense.shape = (len(labels_Dense),) \n",
        "\n",
        "le_Dense = LabelEncoder()                                                                     \n",
        "labels_Dense = le_Dense.fit_transform(labels_Dense)                                         #จะแปลงชื่อ class เป็นตัวเลข 1, 2, 0 \n",
        "\n",
        "labels_Dense = to_categorical(labels_Dense, num_classes=3)                   #shape (180, 3) มีค่าเป็น  [0., 1., 0.]  กับ   [0., 0., 1.] กับ  [1., 0., 0.]"
      ],
      "metadata": {
        "id": "MrP2hP4KRUi1"
      },
      "execution_count": null,
      "outputs": []
    },
    {
      "cell_type": "code",
      "source": [
        "INIT_LR = 1e-1\n",
        "BS8 = 8\n",
        "EPOCHS = 50\n",
        "\n",
        "aug11 = ImageDataGenerator(\n",
        "\t\trotation_range=15,\t\t\t\t\t\t#องศาการหมุน\n",
        "\t\twidth_shift_range=0.1,\n",
        "\t\theight_shift_range=0.1,\n",
        "\t\tshear_range=0.15,\n",
        "\t\thorizontal_flip=True,\n",
        "\t\tfill_mode=\"nearest\")\n",
        "\n",
        "callback = tf.keras.callbacks.EarlyStopping(\n",
        "                monitor=\"val_accuracy\",\n",
        "                patience=3,\n",
        "                mode=\"max\" )"
      ],
      "metadata": {
        "id": "Xq5qnN0LRUi2"
      },
      "execution_count": null,
      "outputs": []
    },
    {
      "cell_type": "code",
      "source": [
        "base_model_Dense = tf.keras.applications.DenseNet201(input_shape=(224, 224, 3), include_top=False, weights=\"imagenet\")\n",
        "len(base_model_Dense.layers)"
      ],
      "metadata": {
        "colab": {
          "base_uri": "https://localhost:8080/"
        },
        "outputId": "7b83bc28-1fbf-4742-e935-22a5984bdc1f",
        "id": "OR75fqtgRUi3"
      },
      "execution_count": null,
      "outputs": [
        {
          "output_type": "stream",
          "name": "stdout",
          "text": [
            "Downloading data from https://storage.googleapis.com/tensorflow/keras-applications/densenet/densenet201_weights_tf_dim_ordering_tf_kernels_notop.h5\n",
            "74842112/74836368 [==============================] - 0s 0us/step\n",
            "74850304/74836368 [==============================] - 0s 0us/step\n"
          ]
        },
        {
          "output_type": "execute_result",
          "data": {
            "text/plain": [
              "707"
            ]
          },
          "metadata": {},
          "execution_count": 15
        }
      ]
    },
    {
      "cell_type": "code",
      "source": [
        "base_model_Dense.trainable = True\n",
        "for layer in base_model_Dense.layers[:400]:    #fix w & bias in layer 0-600\n",
        "    layer.trainable = False\n",
        "\n",
        "#Add custom head\n",
        "average_pooling_layer = tf.keras.layers.GlobalAveragePooling2D()(base_model_Dense.output)\n",
        "prediction_layer = tf.keras.layers.Dense(units=3, activation=\"softmax\")(average_pooling_layer)   # unit 3\n",
        "model_Dense11 = tf.keras.models.Model(inputs=base_model_Dense.input, outputs=prediction_layer)\n",
        "\n",
        "model_Dense11.compile(optimizer=tf.keras.optimizers.RMSprop(learning_rate=0.0001), loss=\"binary_crossentropy\", metrics=[\"accuracy\"])"
      ],
      "metadata": {
        "id": "7sp2XFLbRUi3"
      },
      "execution_count": null,
      "outputs": []
    },
    {
      "cell_type": "code",
      "source": [
        "kf_Dense11 = KFold(5, shuffle=True, random_state=40) \n",
        "\n",
        "oos_y11 = []\n",
        "oos_pred11 = []\n",
        "fold = 0\n",
        "\n",
        "for train, test in kf_Dense11.split(data_Dense):\n",
        "    fold+=1\n",
        "    print(f\"Fold #{fold}\")\n",
        "        \n",
        "    x_train_Dense11 = data_Dense[train]\n",
        "    y_train_Dense11 = labels_Dense[train]\n",
        "    x_test_Dense11 = data_Dense[test]\n",
        "    y_test_Dense11 = labels_Dense[test]\n",
        "\n",
        "    H_Dense11 = model_Dense11.fit( x=aug11.flow(x_train_Dense11, y_train_Dense11, batch_size=BS8),\n",
        "\t                                            validation_data=(x_test_Dense11, y_test_Dense11 ),\n",
        "\t                                            steps_per_epoch=len(x_train_Dense11 ) // BS8,\n",
        "\t                                            epochs=30,  callbacks = [callback])\n",
        "    \n",
        "    pred_Dense11 = model_Dense11.predict(x_test_Dense11)\n",
        "    \n",
        "    oos_y11.append(y_test_Dense11)\n",
        "    oos_pred11.append(pred_Dense11)  \n",
        "    print(classification_report(y_test_Dense11.argmax(axis=1),\t                #แสดง report ค่า acc, recall, ...\n",
        "                                        pred_Dense11.argmax(axis=1),  \n",
        "                                        target_names=le_Dense.classes_))\n",
        "\n",
        "#   score = metrics.accuracy_score(y_test3_Incep.argmax(axis=1),\t        #ค่า acc\n",
        "#                                               pred3_Incep.argmax(axis=1)\n",
        "#    print(f\"Fold score (accuracy): {score}\")\n",
        "\n",
        "#    print(confusion_matrix(testY3_Incep.argmax(axis=1),\t                       #แสดง confusion_matrix\n",
        "#                        pred3_Incep.argmax(axis=1) ) )"
      ],
      "metadata": {
        "id": "jtqNHTIiRUi4"
      },
      "execution_count": null,
      "outputs": []
    },
    {
      "cell_type": "code",
      "source": [
        "oos_y11 = np.concatenate(oos_y11)\n",
        "oos_pred11 = np.concatenate(oos_pred11)"
      ],
      "metadata": {
        "id": "mbpr8IKZRUi4"
      },
      "execution_count": null,
      "outputs": []
    },
    {
      "cell_type": "code",
      "source": [
        "score11 = metrics.accuracy_score(oos_y11.argmax(axis=1),\t        #ค่า acc\n",
        "                                             oos_pred11.argmax(axis=1) )\n",
        "print(f\"Fold score (accuracy): {score11}\")\n",
        "\n",
        "print(classification_report(oos_y11.argmax(axis=1),\t                #แสดง report ค่า acc, recall, ...\n",
        "                                        oos_pred11.argmax(axis=1),  \n",
        "                                        target_names=le_Dense.classes_))"
      ],
      "metadata": {
        "id": "rtYzZAUpRUi5"
      },
      "execution_count": null,
      "outputs": []
    },
    {
      "cell_type": "markdown",
      "source": [
        "## 2) K-fold  -- DenseNet201\n",
        "\n",
        "### -->ACC = \n",
        "### -->เวลา  นาที\n",
        "\n",
        "*   BS = 16\n",
        "*   fix weight & bias in layer 0-400\n",
        "*   activation=\"softmax\"\n",
        "*   learning_rate=0.0001\n",
        "*   epoch 30"
      ],
      "metadata": {
        "id": "7YtqPgbKO1M3"
      }
    },
    {
      "cell_type": "code",
      "source": [
        "labels_Dense = np.array(data_train3[['NameType']] )        \n",
        "labels_Dense.shape = (len(labels_Dense),) \n",
        "\n",
        "le_Dense = LabelEncoder()                                                                     \n",
        "labels_Dense = le_Dense.fit_transform(labels_Dense)                                         #จะแปลงชื่อ class เป็นตัวเลข 1, 2, 0 \n",
        "\n",
        "labels_Dense = to_categorical(labels_Dense, num_classes=3)                   #shape (180, 3) มีค่าเป็น  [0., 1., 0.]  กับ   [0., 0., 1.] กับ  [1., 0., 0.]"
      ],
      "metadata": {
        "id": "nSuv2WkqO1M5"
      },
      "execution_count": null,
      "outputs": []
    },
    {
      "cell_type": "code",
      "source": [
        "INIT_LR = 1e-1\n",
        "BS16 = 16\n",
        "EPOCHS = 50\n",
        "\n",
        "aug2 = ImageDataGenerator(\n",
        "\t\trotation_range=15,\t\t\t\t\t\t#องศาการหมุน\n",
        "\t\twidth_shift_range=0.1,\n",
        "\t\theight_shift_range=0.1,\n",
        "\t\tshear_range=0.15,\n",
        "\t\thorizontal_flip=True,\n",
        "\t\tfill_mode=\"nearest\")\n",
        "\n",
        "callback = tf.keras.callbacks.EarlyStopping(\n",
        "                monitor=\"val_accuracy\",\n",
        "                patience=3,\n",
        "                mode=\"max\" )"
      ],
      "metadata": {
        "id": "bShSNajhO1M5"
      },
      "execution_count": null,
      "outputs": []
    },
    {
      "cell_type": "code",
      "source": [
        "base_model_Dense = tf.keras.applications.DenseNet201(input_shape=(224, 224, 3), include_top=False, weights=\"imagenet\")\n",
        "len(base_model_Dense.layers)"
      ],
      "metadata": {
        "colab": {
          "base_uri": "https://localhost:8080/"
        },
        "outputId": "54530b26-e9e9-4aac-b10d-657cb65d00b0",
        "id": "z1FqkOZuO1M5"
      },
      "execution_count": null,
      "outputs": [
        {
          "output_type": "execute_result",
          "data": {
            "text/plain": [
              "707"
            ]
          },
          "metadata": {},
          "execution_count": 23
        }
      ]
    },
    {
      "cell_type": "code",
      "source": [
        "base_model_Dense.trainable = True\n",
        "for layer in base_model_Dense.layers[:400]:    #fix w & bias in layer 0-400\n",
        "    layer.trainable = False\n",
        "\n",
        "#Add custom head\n",
        "average_pooling_layer = tf.keras.layers.GlobalAveragePooling2D()(base_model_Dense.output)\n",
        "prediction_layer = tf.keras.layers.Dense(units=3, activation=\"softmax\")(average_pooling_layer)   # unit 3\n",
        "model_Dense2 = tf.keras.models.Model(inputs=base_model_Dense.input, outputs=prediction_layer)\n",
        "\n",
        "model_Dense2.compile(optimizer=tf.keras.optimizers.RMSprop(learning_rate=0.0001), loss=\"binary_crossentropy\", metrics=[\"accuracy\"])"
      ],
      "metadata": {
        "id": "cmmIv6zRO1M6"
      },
      "execution_count": null,
      "outputs": []
    },
    {
      "cell_type": "code",
      "source": [
        "kf_Dense2 = KFold(5, shuffle=True, random_state=40) \n",
        "\n",
        "oos_y2 = []\n",
        "oos_pred2 = []\n",
        "fold = 0\n",
        "\n",
        "for train, test in kf_Dense2.split(data_Dense):\n",
        "    fold+=1\n",
        "    print(f\"Fold #{fold}\")\n",
        "        \n",
        "    x_train_Dense2 = data_Dense[train]\n",
        "    y_train_Dense2 = labels_Dense[train]\n",
        "    x_test_Dense2 = data_Dense[test]\n",
        "    y_test_Dense2 = labels_Dense[test]\n",
        "\n",
        "    H_Dense2 = model_Dense2.fit( x=aug2.flow(x_train_Dense2, y_train_Dense2, batch_size=BS16),\n",
        "\t                                            validation_data=(x_test_Dense2, y_test_Dense2),\n",
        "\t                                            steps_per_epoch=len(x_train_Dense2) // BS16,\n",
        "\t                                            epochs=30,  callbacks = [callback])\n",
        "    \n",
        "    pred_Dense2 = model_Dense2.predict(x_test_Dense2)\n",
        "    \n",
        "    oos_y2.append(y_test_Dense2)\n",
        "    oos_pred2.append(pred_Dense2)  \n",
        "    print(classification_report(y_test_Dense2.argmax(axis=1),\t                #แสดง report ค่า acc, recall, ...\n",
        "                                        pred_Dense2.argmax(axis=1),  \n",
        "                                        target_names=le_Dense.classes_))\n",
        "\n",
        "#   score = metrics.accuracy_score(y_test3_Incep.argmax(axis=1),\t        #ค่า acc\n",
        "#                                               pred3_Incep.argmax(axis=1)\n",
        "#    print(f\"Fold score (accuracy): {score}\")\n",
        "\n",
        "#    print(confusion_matrix(testY3_Incep.argmax(axis=1),\t                       #แสดง confusion_matrix\n",
        "#                        pred3_Incep.argmax(axis=1) ) )"
      ],
      "metadata": {
        "id": "w2mH8vhOO1M6"
      },
      "execution_count": null,
      "outputs": []
    },
    {
      "cell_type": "code",
      "source": [
        "oos_y2 = np.concatenate(oos_y2)\n",
        "oos_pred2 = np.concatenate(oos_pred2)"
      ],
      "metadata": {
        "id": "ELT2-Vj2O1M6"
      },
      "execution_count": null,
      "outputs": []
    },
    {
      "cell_type": "code",
      "source": [
        "score = metrics.accuracy_score(oos_y2.argmax(axis=1),\t        #ค่า acc\n",
        "                                             oos_pred2.argmax(axis=1) )\n",
        "print(f\"Fold score (accuracy): {score}\")\n",
        "\n",
        "print(classification_report(oos_y2.argmax(axis=1),\t                #แสดง report ค่า acc, recall, ...\n",
        "                                        oos_pred2.argmax(axis=1),  \n",
        "                                        target_names=le_Dense.classes_))"
      ],
      "metadata": {
        "id": "AM6Y0Pz1O1M7"
      },
      "execution_count": null,
      "outputs": []
    },
    {
      "cell_type": "markdown",
      "source": [
        "## 2.1) K-fold  -- DenseNet201  \n",
        "\n",
        "### -->ACC = \n",
        "### -->เวลา  นาที\n",
        "\n",
        "*   BS = 16\n",
        "*   fix weight & bias in layer 0-400\n",
        "*   activation=\"sigmoid\"\n",
        "*   learning_rate=0.0001\n",
        "*   epoch 30"
      ],
      "metadata": {
        "id": "KOLfU80JlU9g"
      }
    },
    {
      "cell_type": "code",
      "source": [
        "labels_Dense = np.array(data_train3[['NameType']] )        \n",
        "labels_Dense.shape = (len(labels_Dense),) \n",
        "\n",
        "le_Dense = LabelEncoder()                                                                     \n",
        "labels_Dense = le_Dense.fit_transform(labels_Dense)                                         #จะแปลงชื่อ class เป็นตัวเลข 1, 2, 0 \n",
        "\n",
        "labels_Dense = to_categorical(labels_Dense, num_classes=3)                   #shape (180, 3) มีค่าเป็น  [0., 1., 0.]  กับ   [0., 0., 1.] กับ  [1., 0., 0.]"
      ],
      "metadata": {
        "id": "TQ5QDVQVlU9z"
      },
      "execution_count": null,
      "outputs": []
    },
    {
      "cell_type": "code",
      "source": [
        "INIT_LR = 1e-1\n",
        "BS16 = 16\n",
        "EPOCHS = 50\n",
        "\n",
        "aug21 = ImageDataGenerator(\n",
        "\t\trotation_range=15,\t\t\t\t\t\t#องศาการหมุน\n",
        "\t\twidth_shift_range=0.1,\n",
        "\t\theight_shift_range=0.1,\n",
        "\t\tshear_range=0.15,\n",
        "\t\thorizontal_flip=True,\n",
        "\t\tfill_mode=\"nearest\")\n",
        "\n",
        "callback = tf.keras.callbacks.EarlyStopping(\n",
        "                monitor=\"val_accuracy\",\n",
        "                patience=3,\n",
        "                mode=\"max\" )"
      ],
      "metadata": {
        "id": "S8mzCkx0lU90"
      },
      "execution_count": null,
      "outputs": []
    },
    {
      "cell_type": "code",
      "source": [
        "base_model_Dense = tf.keras.applications.DenseNet201(input_shape=(224, 224, 3), include_top=False, weights=\"imagenet\")\n",
        "len(base_model_Dense.layers)"
      ],
      "metadata": {
        "id": "_yOBC6LllU91",
        "outputId": "880014c6-471c-424c-908f-aa2c0869aabf",
        "colab": {
          "base_uri": "https://localhost:8080/"
        }
      },
      "execution_count": null,
      "outputs": [
        {
          "output_type": "execute_result",
          "data": {
            "text/plain": [
              "707"
            ]
          },
          "metadata": {},
          "execution_count": 23
        }
      ]
    },
    {
      "cell_type": "code",
      "source": [
        "base_model_Dense.trainable = True\n",
        "for layer in base_model_Dense.layers[:400]:    #fix w & bias in layer 0-400\n",
        "    layer.trainable = False\n",
        "\n",
        "#Add custom head\n",
        "average_pooling_layer = tf.keras.layers.GlobalAveragePooling2D()(base_model_Dense.output)\n",
        "prediction_layer = tf.keras.layers.Dense(units=3, activation=\"sigmoid\")(average_pooling_layer)   # unit 3\n",
        "model_Dense21 = tf.keras.models.Model(inputs=base_model_Dense.input, outputs=prediction_layer)\n",
        "\n",
        "model_Dense21.compile(optimizer=tf.keras.optimizers.RMSprop(learning_rate=0.0001), loss=\"binary_crossentropy\", metrics=[\"accuracy\"])"
      ],
      "metadata": {
        "id": "xt9H2YkulU93"
      },
      "execution_count": null,
      "outputs": []
    },
    {
      "cell_type": "code",
      "source": [
        "kf_Dense21 = KFold(5, shuffle=True, random_state=40) \n",
        "\n",
        "oos_y21 = []\n",
        "oos_pred21 = []\n",
        "fold = 0\n",
        "\n",
        "for train, test in kf_Dense21.split(data_Dense):\n",
        "    fold+=1\n",
        "    print(f\"Fold #{fold}\")\n",
        "        \n",
        "    x_train_Dense21 = data_Dense[train]\n",
        "    y_train_Dense21 = labels_Dense[train]\n",
        "    x_test_Dense21 = data_Dense[test]\n",
        "    y_test_Dense21 = labels_Dense[test]\n",
        "\n",
        "    H_Dense21 = model_Dense21.fit( x=aug21.flow(x_train_Dense21, y_train_Dense21, batch_size=BS16),\n",
        "\t                                            validation_data=(x_test_Dense21, y_test_Dense21),\n",
        "\t                                            steps_per_epoch=len(x_train_Dense21) // BS16,\n",
        "\t                                            epochs=30,  callbacks = [callback])\n",
        "    \n",
        "    pred_Dense21 = model_Dense21.predict(x_test_Dense21)\n",
        "    \n",
        "    oos_y21.append(y_test_Dense21)\n",
        "    oos_pred21.append(pred_Dense21)  \n",
        "    print(classification_report(y_test_Dense21.argmax(axis=1),\t                #แสดง report ค่า acc, recall, ...\n",
        "                                        pred_Dense21.argmax(axis=1),  \n",
        "                                        target_names=le_Dense.classes_))\n",
        "\n",
        "#   score = metrics.accuracy_score(y_test3_Incep.argmax(axis=1),\t        #ค่า acc\n",
        "#                                               pred3_Incep.argmax(axis=1)\n",
        "#    print(f\"Fold score (accuracy): {score}\")\n",
        "\n",
        "#    print(confusion_matrix(testY3_Incep.argmax(axis=1),\t                       #แสดง confusion_matrix\n",
        "#                        pred3_Incep.argmax(axis=1) ) )"
      ],
      "metadata": {
        "id": "bC-J_abKlU94"
      },
      "execution_count": null,
      "outputs": []
    },
    {
      "cell_type": "code",
      "source": [
        "oos_y21 = np.concatenate(oos_y21)\n",
        "oos_pred21 = np.concatenate(oos_pred21)"
      ],
      "metadata": {
        "id": "4aXh2BHWlU94"
      },
      "execution_count": null,
      "outputs": []
    },
    {
      "cell_type": "code",
      "source": [
        "score21 = metrics.accuracy_score(oos_y21.argmax(axis=1),\t        #ค่า acc\n",
        "                                             oos_pred21.argmax(axis=1) )\n",
        "print(f\"Fold score (accuracy): {score21}\")\n",
        "\n",
        "print(classification_report(oos_y21.argmax(axis=1),\t                #แสดง report ค่า acc, recall, ...\n",
        "                                        oos_pred21.argmax(axis=1),  \n",
        "                                        target_names=le_Dense.classes_))"
      ],
      "metadata": {
        "id": "272zhdO7lU95"
      },
      "execution_count": null,
      "outputs": []
    },
    {
      "cell_type": "markdown",
      "source": [
        "## 3) K-fold  -- DenseNet201\n",
        "\n",
        "### -->ACC =  \n",
        "### -->เวลา  วินาที\n",
        "\n",
        "*   BS = 32\n",
        "*   fix weight & bias in layer 0-400\n",
        "*   activation=\"softmax\"\n",
        "*   learning_rate=0.0001\n",
        "*   epoch 30"
      ],
      "metadata": {
        "id": "I-ib--S_O1M7"
      }
    },
    {
      "cell_type": "code",
      "source": [
        "labels_Dense = np.array(data_train3[['NameType']] )        \n",
        "labels_Dense.shape = (len(labels_Dense),) \n",
        "\n",
        "le_Dense = LabelEncoder()                                                                     \n",
        "labels_Dense = le_Dense.fit_transform(labels_Dense)                                         #จะแปลงชื่อ class เป็นตัวเลข 1, 2, 0 \n",
        "\n",
        "labels_Dense = to_categorical(labels_Dense, num_classes=3)                   #shape (180, 3) มีค่าเป็น  [0., 1., 0.]  กับ   [0., 0., 1.] กับ  [1., 0., 0.]"
      ],
      "metadata": {
        "id": "NslmOPDmO1M7"
      },
      "execution_count": null,
      "outputs": []
    },
    {
      "cell_type": "code",
      "source": [
        "INIT_LR = 1e-1\n",
        "BS32 = 32\n",
        "EPOCHS = 50\n",
        "\n",
        "aug3 = ImageDataGenerator(\n",
        "\t\trotation_range=15,\t\t\t\t\t\t#องศาการหมุน\n",
        "\t\twidth_shift_range=0.1,\n",
        "\t\theight_shift_range=0.1,\n",
        "\t\tshear_range=0.15,\n",
        "\t\thorizontal_flip=True,\n",
        "\t\tfill_mode=\"nearest\")\n",
        "\n",
        "callback = tf.keras.callbacks.EarlyStopping(\n",
        "                monitor=\"val_accuracy\",\n",
        "                patience=3,\n",
        "                mode=\"max\" )"
      ],
      "metadata": {
        "id": "RVJKvYgEO1M8"
      },
      "execution_count": null,
      "outputs": []
    },
    {
      "cell_type": "code",
      "source": [
        "base_model_Dense = tf.keras.applications.DenseNet201(input_shape=(224, 224, 3), include_top=False, weights=\"imagenet\")\n",
        "len(base_model_Dense.layers)"
      ],
      "metadata": {
        "colab": {
          "base_uri": "https://localhost:8080/"
        },
        "outputId": "7caa53e2-50af-4bd2-f45a-067fce42680e",
        "id": "Kq0AjWbaO1M8"
      },
      "execution_count": null,
      "outputs": [
        {
          "output_type": "execute_result",
          "data": {
            "text/plain": [
              "707"
            ]
          },
          "metadata": {},
          "execution_count": 31
        }
      ]
    },
    {
      "cell_type": "code",
      "source": [
        "base_model_Dense.trainable = True\n",
        "for layer in base_model_Dense.layers[:400]:    #fix w & bias in layer 0-400\n",
        "    layer.trainable = False\n",
        "\n",
        "#Add custom head\n",
        "average_pooling_layer = tf.keras.layers.GlobalAveragePooling2D()(base_model_Dense.output)\n",
        "prediction_layer = tf.keras.layers.Dense(units=3, activation=\"softmax\")(average_pooling_layer)   # unit 3\n",
        "model_Dense3 = tf.keras.models.Model(inputs=base_model_Dense.input, outputs=prediction_layer)\n",
        "\n",
        "model_Dense3.compile(optimizer=tf.keras.optimizers.RMSprop(learning_rate=0.0001), loss=\"binary_crossentropy\", metrics=[\"accuracy\"])"
      ],
      "metadata": {
        "id": "mCQH5ziIO1M8"
      },
      "execution_count": null,
      "outputs": []
    },
    {
      "cell_type": "code",
      "source": [
        "kf_Dense3 = KFold(5, shuffle=True, random_state=40) \n",
        "\n",
        "oos_y3 = []\n",
        "oos_pred3 = []\n",
        "fold = 0\n",
        "\n",
        "for train, test in kf_Dense3.split(data_Dense):\n",
        "    fold+=1\n",
        "    print(f\"Fold #{fold}\")\n",
        "        \n",
        "    x_train_Dense3 = data_Dense[train]\n",
        "    y_train_Dense3 = labels_Dense[train]\n",
        "    x_test_Dense3 = data_Dense[test]\n",
        "    y_test_Dense3 = labels_Dense[test]\n",
        "\n",
        "    H_Dense3 = model_Dense3.fit( x=aug3.flow(x_train_Dense3, y_train_Dense3, batch_size=BS32),\n",
        "\t                                            validation_data=(x_test_Dense3, y_test_Dense3),\n",
        "\t                                            steps_per_epoch=len(x_train_Dense3) // BS32,\n",
        "\t                                            epochs=30,  callbacks = [callback])\n",
        "    \n",
        "    pred_Dense3 = model_Dense3.predict(x_test_Dense3)\n",
        "    \n",
        "    oos_y3.append(y_test_Dense3)\n",
        "    oos_pred3.append(pred_Dense3)  \n",
        "    print(classification_report(y_test_Dense3.argmax(axis=1),\t                #แสดง report ค่า acc, recall, ...\n",
        "                                        pred_Dense3.argmax(axis=1),  \n",
        "                                        target_names=le_Dense.classes_))\n",
        "\n",
        "#   score = metrics.accuracy_score(y_test3_Incep.argmax(axis=1),\t        #ค่า acc\n",
        "#                                               pred3_Incep.argmax(axis=1)\n",
        "#    print(f\"Fold score (accuracy): {score}\")\n",
        "\n",
        "#    print(confusion_matrix(testY3_Incep.argmax(axis=1),\t                       #แสดง confusion_matrix\n",
        "#                        pred3_Incep.argmax(axis=1) ) )"
      ],
      "metadata": {
        "id": "BPpRMXDMO1M8"
      },
      "execution_count": null,
      "outputs": []
    },
    {
      "cell_type": "code",
      "source": [
        "oos_y3 = np.concatenate(oos_y3)\n",
        "oos_pred3 = np.concatenate(oos_pred3)"
      ],
      "metadata": {
        "id": "asI7zeWPO1M9"
      },
      "execution_count": null,
      "outputs": []
    },
    {
      "cell_type": "code",
      "source": [
        "score = metrics.accuracy_score(oos_y3.argmax(axis=1),\t        #ค่า acc\n",
        "                                             oos_pred3.argmax(axis=1) )\n",
        "print(f\"Fold score (accuracy): {score}\")\n",
        "\n",
        "print(classification_report(oos_y3.argmax(axis=1),\t                #แสดง report ค่า acc, recall, ...\n",
        "                                        oos_pred3.argmax(axis=1),  \n",
        "                                        target_names=le_Dense.classes_))"
      ],
      "metadata": {
        "id": "IzKHn5KkO1M9"
      },
      "execution_count": null,
      "outputs": []
    },
    {
      "cell_type": "markdown",
      "source": [
        "## 3.1) K-fold  -- DenseNet201\n",
        "\n",
        "### -->ACC = \n",
        "### -->เวลา  วินาที\n",
        "\n",
        "*   BS = 32\n",
        "*   fix weight & bias in layer 0-400\n",
        "*   activation=\"sigmoid\"\n",
        "*   learning_rate=0.0001\n",
        "*   epoch 30"
      ],
      "metadata": {
        "id": "NFkU80Vq-q1q"
      }
    },
    {
      "cell_type": "code",
      "source": [
        "labels_Dense = np.array(data_train3[['NameType']] )        \n",
        "labels_Dense.shape = (len(labels_Dense),) \n",
        "\n",
        "le_Dense = LabelEncoder()                                                                     \n",
        "labels_Dense = le_Dense.fit_transform(labels_Dense)                                         #จะแปลงชื่อ class เป็นตัวเลข 1, 2, 0 \n",
        "\n",
        "labels_Dense = to_categorical(labels_Dense, num_classes=3)                   #shape (180, 3) มีค่าเป็น  [0., 1., 0.]  กับ   [0., 0., 1.] กับ  [1., 0., 0.]"
      ],
      "metadata": {
        "id": "DM0ieSH5-q1z"
      },
      "execution_count": null,
      "outputs": []
    },
    {
      "cell_type": "code",
      "source": [
        "INIT_LR = 1e-1\n",
        "BS32 = 32\n",
        "EPOCHS = 50\n",
        "\n",
        "aug31 = ImageDataGenerator(\n",
        "\t\trotation_range=15,\t\t\t\t\t\t#องศาการหมุน\n",
        "\t\twidth_shift_range=0.1,\n",
        "\t\theight_shift_range=0.1,\n",
        "\t\tshear_range=0.15,\n",
        "\t\thorizontal_flip=True,\n",
        "\t\tfill_mode=\"nearest\")\n",
        "\n",
        "callback = tf.keras.callbacks.EarlyStopping(\n",
        "                monitor=\"val_accuracy\",\n",
        "                patience=3,\n",
        "                mode=\"max\" )"
      ],
      "metadata": {
        "id": "TWhEPKtp-q1z"
      },
      "execution_count": null,
      "outputs": []
    },
    {
      "cell_type": "code",
      "source": [
        "base_model_Dense = tf.keras.applications.DenseNet201(input_shape=(224, 224, 3), include_top=False, weights=\"imagenet\")\n",
        "len(base_model_Dense.layers)"
      ],
      "metadata": {
        "id": "ovACgDXz-q1z",
        "outputId": "8577a033-3f01-4812-fcfa-34c4ed4911d0",
        "colab": {
          "base_uri": "https://localhost:8080/"
        }
      },
      "execution_count": null,
      "outputs": [
        {
          "output_type": "stream",
          "name": "stdout",
          "text": [
            "Downloading data from https://storage.googleapis.com/tensorflow/keras-applications/densenet/densenet201_weights_tf_dim_ordering_tf_kernels_notop.h5\n",
            "74842112/74836368 [==============================] - 1s 0us/step\n",
            "74850304/74836368 [==============================] - 1s 0us/step\n"
          ]
        },
        {
          "output_type": "execute_result",
          "data": {
            "text/plain": [
              "707"
            ]
          },
          "metadata": {},
          "execution_count": 15
        }
      ]
    },
    {
      "cell_type": "code",
      "source": [
        "base_model_Dense.trainable = True\n",
        "for layer in base_model_Dense.layers[:400]:    #fix w & bias in layer 0-400\n",
        "    layer.trainable = False\n",
        "\n",
        "#Add custom head\n",
        "average_pooling_layer = tf.keras.layers.GlobalAveragePooling2D()(base_model_Dense.output)\n",
        "prediction_layer = tf.keras.layers.Dense(units=3, activation=\"sigmoid\")(average_pooling_layer)   # unit 3\n",
        "model_Dense31 = tf.keras.models.Model(inputs=base_model_Dense.input, outputs=prediction_layer)\n",
        "\n",
        "model_Dense31.compile(optimizer=tf.keras.optimizers.RMSprop(learning_rate=0.0001), loss=\"binary_crossentropy\", metrics=[\"accuracy\"])"
      ],
      "metadata": {
        "id": "kQaJzevE-q10"
      },
      "execution_count": null,
      "outputs": []
    },
    {
      "cell_type": "code",
      "source": [
        "kf_Dense31 = KFold(5, shuffle=True, random_state=40) \n",
        "\n",
        "oos_y31 = []\n",
        "oos_pred31 = []\n",
        "fold = 0\n",
        "\n",
        "for train, test in kf_Dense31.split(data_Dense):\n",
        "    fold+=1\n",
        "    print(f\"Fold #{fold}\")\n",
        "        \n",
        "    x_train_Dense31 = data_Dense[train]\n",
        "    y_train_Dense31 = labels_Dense[train]\n",
        "    x_test_Dense31 = data_Dense[test]\n",
        "    y_test_Dense31 = labels_Dense[test]\n",
        "\n",
        "    H_Dense31 = model_Dense31.fit( x=aug31.flow(x_train_Dense31, y_train_Dense31, batch_size=BS32),\n",
        "\t                                            validation_data=(x_test_Dense31, y_test_Dense31),\n",
        "\t                                            steps_per_epoch=len(x_train_Dense31) // BS32,\n",
        "\t                                            epochs=30,  callbacks = [callback])\n",
        "    \n",
        "    pred_Dense31 = model_Dense31.predict(x_test_Dense31)\n",
        "    \n",
        "    oos_y31.append(y_test_Dense31)\n",
        "    oos_pred31.append(pred_Dense31)  \n",
        "    print(classification_report(y_test_Dense31.argmax(axis=1),\t                #แสดง report ค่า acc, recall, ...\n",
        "                                        pred_Dense31.argmax(axis=1),  \n",
        "                                        target_names=le_Dense.classes_))\n",
        "\n",
        "#   score = metrics.accuracy_score(y_test3_Incep.argmax(axis=1),\t        #ค่า acc\n",
        "#                                               pred3_Incep.argmax(axis=1)\n",
        "#    print(f\"Fold score (accuracy): {score}\")\n",
        "\n",
        "#    print(confusion_matrix(testY3_Incep.argmax(axis=1),\t                       #แสดง confusion_matrix\n",
        "#                        pred3_Incep.argmax(axis=1) ) )"
      ],
      "metadata": {
        "id": "rSzxWRyO-q10"
      },
      "execution_count": null,
      "outputs": []
    },
    {
      "cell_type": "code",
      "source": [
        "oos_y31 = np.concatenate(oos_y31)\n",
        "oos_pred31 = np.concatenate(oos_pred31)"
      ],
      "metadata": {
        "id": "-4atAM0i-q10"
      },
      "execution_count": null,
      "outputs": []
    },
    {
      "cell_type": "code",
      "source": [
        "score31 = metrics.accuracy_score(oos_y31.argmax(axis=1),\t        #ค่า acc\n",
        "                                             oos_pred31.argmax(axis=1) )\n",
        "print(f\"Fold score (accuracy): {score31}\")\n",
        "\n",
        "print(classification_report(oos_y31.argmax(axis=1),\t                #แสดง report ค่า acc, recall, ...\n",
        "                                        oos_pred31.argmax(axis=1),  \n",
        "                                        target_names=le_Dense.classes_))"
      ],
      "metadata": {
        "id": "889pWYng-q10"
      },
      "execution_count": null,
      "outputs": []
    }
  ]
}